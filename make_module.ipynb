{
 "cells": [
  {
   "cell_type": "code",
   "execution_count": 1,
   "id": "8faa45d2-c692-4f4c-85ab-962635de3266",
   "metadata": {
    "execution": {
     "iopub.execute_input": "2021-10-14T18:23:57.975041Z",
     "iopub.status.busy": "2021-10-14T18:23:57.359947Z",
     "iopub.status.idle": "2021-10-14T18:23:59.546575Z",
     "shell.execute_reply": "2021-10-14T18:23:59.546057Z"
    }
   },
   "outputs": [],
   "source": [
    "function write_line(io::IOStream, st::String)::Int64\n",
    "\n",
    "    return write(io, string(\n",
    "        st,\n",
    "        \"\\n\\n\",\n",
    "    ))\n",
    "\n",
    "end\n",
    "\n",
    ";"
   ]
  },
  {
   "cell_type": "code",
   "execution_count": 2,
   "id": "a3544851",
   "metadata": {
    "execution": {
     "iopub.execute_input": "2021-10-14T18:23:59.548336Z",
     "iopub.status.busy": "2021-10-14T18:23:59.547825Z",
     "iopub.status.idle": "2021-10-14T18:23:59.560858Z",
     "shell.execute_reply": "2021-10-14T18:23:59.560454Z"
    }
   },
   "outputs": [],
   "source": [
    "sr = joinpath(\"src\")\n",
    "\n",
    "mo = \"OnePiece\"\n",
    "\n",
    ";"
   ]
  },
  {
   "cell_type": "code",
   "execution_count": 3,
   "id": "d47546d5",
   "metadata": {
    "execution": {
     "iopub.execute_input": "2021-10-14T18:23:59.562578Z",
     "iopub.status.busy": "2021-10-14T18:23:59.562024Z",
     "iopub.status.idle": "2021-10-14T18:23:59.579753Z",
     "shell.execute_reply": "2021-10-14T18:23:59.579302Z"
    }
   },
   "outputs": [],
   "source": [
    "io = open(joinpath(sr, string(mo, \".jl\")), \"w\")\n",
    "\n",
    "write_line(io, string(\"module \", mo))\n",
    "\n",
    ";"
   ]
  },
  {
   "cell_type": "code",
   "execution_count": 4,
   "id": "6b1f1f10",
   "metadata": {
    "execution": {
     "iopub.execute_input": "2021-10-14T18:23:59.582226Z",
     "iopub.status.busy": "2021-10-14T18:23:59.581368Z",
     "iopub.status.idle": "2021-10-14T18:23:59.610708Z",
     "shell.execute_reply": "2021-10-14T18:23:59.610205Z"
    }
   },
   "outputs": [],
   "source": [
    "mo_ = [\n",
    "    \"information\",\n",
    "    \"tensor_function\",\n",
    "    \"feature_by_sample\",\n",
    "\n",
    "    \"more_constant\",\n",
    "    \"more_dict\",\n",
    "    \"more_geometry\",\n",
    "    \"more_path\",\n",
    "    \"more_statistics\",\n",
    "    \"more_string\",\n",
    "    \"more_template\",\n",
    "    \"more_tensor\",\n",
    "    \"more_vector\",\n",
    "    \n",
    "    \"io_fcs\",\n",
    "    \"io_gct\",\n",
    "    \"io_gmt\",\n",
    "    \"io_pandas\",\n",
    "    \"io_table\",\n",
    "\n",
    "    \"normalization\",\n",
    "    \n",
    "    \"figure\",\n",
    "        \n",
    "    \"significance\",\n",
    "    \n",
    "    \"feature_set_enrichment\",\n",
    "\n",
    "    \"gene\",\n",
    "\n",
    "    \"emoji\",\n",
    "]\n",
    "\n",
    "mos_ = Set(mo_)\n",
    "\n",
    ";"
   ]
  },
  {
   "cell_type": "code",
   "execution_count": 5,
   "id": "69b7dae5",
   "metadata": {
    "execution": {
     "iopub.execute_input": "2021-10-14T18:23:59.612596Z",
     "iopub.status.busy": "2021-10-14T18:23:59.612018Z",
     "iopub.status.idle": "2021-10-14T18:24:00.771947Z",
     "shell.execute_reply": "2021-10-14T18:24:00.771444Z"
    }
   },
   "outputs": [
    {
     "data": {
      "text/plain": [
       "Set{String}()"
      ]
     },
     "execution_count": 5,
     "metadata": {},
     "output_type": "execute_result"
    }
   ],
   "source": [
    "symdiff(Set([splitdir(pa)[end] for pa in readdir(sr, join = true) if isdir(pa)]), mos_)"
   ]
  },
  {
   "cell_type": "code",
   "execution_count": 6,
   "id": "f7d0fd27",
   "metadata": {
    "execution": {
     "iopub.execute_input": "2021-10-14T18:24:00.773921Z",
     "iopub.status.busy": "2021-10-14T18:24:00.773331Z",
     "iopub.status.idle": "2021-10-14T18:24:00.872221Z",
     "shell.execute_reply": "2021-10-14T18:24:00.871710Z"
    }
   },
   "outputs": [
    {
     "data": {
      "text/plain": [
       "Set{String} with 2 elements:\n",
       "  \"io_table2\"\n",
       "  \"runtests\""
      ]
     },
     "execution_count": 6,
     "metadata": {},
     "output_type": "execute_result"
    }
   ],
   "source": [
    "symdiff(Set([splitext(na)[1] for na in readdir(\"test\") if occursin(r\"^[a-z].+.ipynb$\", na)]), mos_)"
   ]
  },
  {
   "cell_type": "code",
   "execution_count": 7,
   "id": "ddd1433e",
   "metadata": {
    "execution": {
     "iopub.execute_input": "2021-10-14T18:24:00.874080Z",
     "iopub.status.busy": "2021-10-14T18:24:00.873429Z",
     "iopub.status.idle": "2021-10-14T18:24:00.927906Z",
     "shell.execute_reply": "2021-10-14T18:24:00.927457Z"
    }
   },
   "outputs": [
    {
     "name": "stdout",
     "output_type": "stream",
     "text": [
      "information\n",
      "  Skipping .DS_Store\n",
      "tensor_function\n",
      "  Skipping .DS_Store\n",
      "feature_by_sample\n",
      "  Skipping .DS_Store\n",
      "more_constant\n",
      "  Skipping .DS_Store\n",
      "more_dict\n",
      "  Skipping .DS_Store\n",
      "more_geometry\n",
      "  Skipping .DS_Store\n",
      "more_path\n",
      "  Skipping .DS_Store\n",
      "more_statistics\n",
      "  Skipping .DS_Store\n",
      "more_string\n",
      "  Skipping .DS_Store\n",
      "more_template\n",
      "  Skipping .DS_Store\n",
      "more_tensor\n",
      "  Skipping .DS_Store\n",
      "more_vector\n",
      "  Skipping .DS_Store\n",
      "io_fcs\n",
      "  Skipping .DS_Store\n",
      "io_gct\n",
      "  Skipping .DS_Store\n",
      "io_gmt\n",
      "  Skipping .DS_Store\n",
      "io_pandas\n",
      "  Skipping .DS_Store\n",
      "io_table\n",
      "  Skipping .DS_Store\n",
      "normalization\n",
      "  Skipping .DS_Store\n",
      "figure\n",
      "  Skipping .DS_Store\n",
      "significance\n",
      "  Skipping .DS_Store\n",
      "feature_set_enrichment\n",
      "  Skipping .DS_Store\n",
      "gene\n",
      "  Skipping .DS_Store\n",
      "  Skipping data\n",
      "emoji\n",
      "  Skipping .DS_Store\n"
     ]
    }
   ],
   "source": [
    "for mo in mo_\n",
    "\n",
    "    println(mo)\n",
    "\n",
    "    write_line(io, string(\"module \", mo))\n",
    "\n",
    "    for jl in readdir(joinpath(sr, mo, \"\"))\n",
    "        \n",
    "        if occursin(r\"^[a-zA-Z].+.jl$\", jl)\n",
    "\n",
    "            write_line(io, string(\"\\tinclude(\\\"\", joinpath(mo, jl), \"\\\")\"))\n",
    "        \n",
    "        else\n",
    "            \n",
    "            println(\"  Skipping \", jl)\n",
    "            \n",
    "        end\n",
    "\n",
    "    end\n",
    "\n",
    "    write_line(io, \"end\")\n",
    "    \n",
    "end\n",
    "\n",
    "write_line(io, \"end\")\n",
    "\n",
    "close(io)\n",
    "\n",
    ";"
   ]
  },
  {
   "cell_type": "code",
   "execution_count": 8,
   "id": "ef4b686a-d67e-44ad-bfd9-d44a2d7176dc",
   "metadata": {
    "execution": {
     "iopub.execute_input": "2021-10-14T18:24:00.943866Z",
     "iopub.status.busy": "2021-10-14T18:24:00.943303Z",
     "iopub.status.idle": "2021-10-14T18:24:24.706754Z",
     "shell.execute_reply": "2021-10-14T18:24:24.706316Z"
    }
   },
   "outputs": [
    {
     "data": {
      "application/vnd.webio.node+json": {
       "children": [],
       "instanceArgs": {
        "namespace": "html",
        "tag": "div"
       },
       "nodeType": "DOM",
       "props": {},
       "type": "node"
      },
      "text/html": [
       "<div style=\"padding: 1em; background-color: #f8d6da; border: 1px solid #f5c6cb; font-weight: bold;\">\n",
       "<p>The WebIO Jupyter extension was not detected. See the\n",
       "<a href=\"https://juliagizmos.github.io/WebIO.jl/latest/providers/ijulia/\" target=\"_blank\">\n",
       "    WebIO Jupyter integration documentation\n",
       "</a>\n",
       "for more information.\n",
       "</div>\n"
      ],
      "text/plain": [
       "WebIO._IJuliaInit()"
      ]
     },
     "metadata": {
      "application/vnd.webio.node+json": {
       "kernelId": "6ff6dc9a-718e-4765-9bc6-88670172f228"
      }
     },
     "output_type": "display_data"
    },
    {
     "name": "stderr",
     "output_type": "stream",
     "text": [
      "┌ Info: Precompiling OnePiece [1fe83854-81c0-42f7-afc9-71ba9af673ca]\n",
      "└ @ Base loading.jl:1423\n"
     ]
    }
   ],
   "source": [
    "using OnePiece"
   ]
  }
 ],
 "metadata": {
  "@webio": {
   "lastCommId": "595a4f89a4ad426194aa6b320b0fc24b",
   "lastKernelId": "6ff6dc9a-718e-4765-9bc6-88670172f228"
  },
  "kernelspec": {
   "display_name": "Julia 1.7.1",
   "language": "julia",
   "name": "julia-1.7"
  },
  "language_info": {
   "file_extension": ".jl",
   "mimetype": "application/julia",
   "name": "julia",
   "version": "1.7.1"
  }
 },
 "nbformat": 4,
 "nbformat_minor": 5
}
