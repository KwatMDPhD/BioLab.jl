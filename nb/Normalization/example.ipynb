{
 "cells": [
  {
   "cell_type": "code",
   "execution_count": 1,
   "metadata": {},
   "outputs": [],
   "source": [
    "using Revise"
   ]
  },
  {
   "cell_type": "code",
   "execution_count": 2,
   "metadata": {},
   "outputs": [
    {
     "name": "stderr",
     "output_type": "stream",
     "text": [
      "┌ Info: Precompiling Kwat [fb31f113-4a63-4a8e-817a-4bdffc7e605a]\n",
      "└ @ Base loading.jl:1278\n",
      "WARNING: Method definition check_is(Array{String, 1}, Array{String, 1}) in module Kwat at /Users/kwat/code/Kwat/src/Support/check_is.jl:1 overwritten at /Users/kwat/code/Kwat/src/Support/check_is.jl:1.\n",
      "  ** incremental compilation may be fatally broken for this module **\n",
      "\n",
      "WARNING: Method definition check_is(Base.Dict{String, Int64}, Array{String, 1}) in module Kwat at /Users/kwat/code/Kwat/src/Support/check_is.jl:9 overwritten at /Users/kwat/code/Kwat/src/Support/check_is.jl:9.\n",
      "  ** incremental compilation may be fatally broken for this module **\n",
      "\n",
      "WARNING: Method definition sort_like(Array{T, 1} where T...) in module Kwat at /Users/kwat/code/Kwat/src/Support/sort_like.jl:1 overwritten at /Users/kwat/code/Kwat/src/Support/sort_like.jl:1.\n",
      "  ** incremental compilation may be fatally broken for this module **\n",
      "\n",
      "WARNING: Method definition sort_like##kw(Any, typeof(Kwat.sort_like), Array{T, 1} where T...) in module Kwat at /Users/kwat/code/Kwat/src/Support/sort_like.jl:1 overwritten at /Users/kwat/code/Kwat/src/Support/sort_like.jl:1.\n",
      "  ** incremental compilation may be fatally broken for this module **\n",
      "\n",
      "WARNING: Method definition score_set(Array{String, 1}, Array{Float64, 1}, Array{String, 1}) in module Kwat at /Users/kwat/code/Kwat/src/FeatureSetEnrichment/score_set.jl:7 overwritten at /Users/kwat/code/Kwat/src/FeatureSetEnrichment/score_set.jl:7.\n",
      "  ** incremental compilation may be fatally broken for this module **\n",
      "\n",
      "WARNING: Method definition score_set##kw(Any, typeof(Kwat.score_set), Array{String, 1}, Array{Float64, 1}, Array{String, 1}) in module Kwat at /Users/kwat/code/Kwat/src/FeatureSetEnrichment/score_set.jl:7 overwritten at /Users/kwat/code/Kwat/src/FeatureSetEnrichment/score_set.jl:7.\n",
      "  ** incremental compilation may be fatally broken for this module **\n",
      "\n",
      "WARNING: Method definition score_set(Array{String, 1}, Array{Float64, 1}, Base.Dict{String, Array{String, 1}}) in module Kwat at /Users/kwat/code/Kwat/src/FeatureSetEnrichment/score_set.jl:33 overwritten at /Users/kwat/code/Kwat/src/FeatureSetEnrichment/score_set.jl:33.\n",
      "  ** incremental compilation may be fatally broken for this module **\n",
      "\n",
      "WARNING: Method definition score_set##kw(Any, typeof(Kwat.score_set), Array{String, 1}, Array{Float64, 1}, Base.Dict{String, Array{String, 1}}) in module Kwat at /Users/kwat/code/Kwat/src/FeatureSetEnrichment/score_set.jl:33 overwritten at /Users/kwat/code/Kwat/src/FeatureSetEnrichment/score_set.jl:33.\n",
      "  ** incremental compilation may be fatally broken for this module **\n",
      "\n",
      "WARNING: Method definition score_set(DataFrames.DataFrame, Base.Dict{String, Array{String, 1}}) in module Kwat at /Users/kwat/code/Kwat/src/FeatureSetEnrichment/score_set.jl:74 overwritten at /Users/kwat/code/Kwat/src/FeatureSetEnrichment/score_set.jl:74.\n",
      "  ** incremental compilation may be fatally broken for this module **\n",
      "\n",
      "WARNING: Method definition score_set##kw(Any, typeof(Kwat.score_set), DataFrames.DataFrame, Base.Dict{String, Array{String, 1}}) in module Kwat at /Users/kwat/code/Kwat/src/FeatureSetEnrichment/score_set.jl:74 overwritten at /Users/kwat/code/Kwat/src/FeatureSetEnrichment/score_set.jl:74.\n",
      "  ** incremental compilation may be fatally broken for this module **\n",
      "\n",
      "WARNING: Method definition score_set(String, Array{String, 1}, String) in module Kwat at /Users/kwat/code/Kwat/src/FeatureSetEnrichment/score_set.jl:106 overwritten at /Users/kwat/code/Kwat/src/FeatureSetEnrichment/score_set.jl:106.\n",
      "  ** incremental compilation may be fatally broken for this module **\n",
      "\n",
      "WARNING: Method definition sort_like(Array{T, 1} where T...) in module Kwat at /Users/kwat/code/Kwat/src/Support/sort_like.jl:1 overwritten at /Users/kwat/code/Kwat/src/Support/sort_like.jl:1.\n",
      "  ** incremental compilation may be fatally broken for this module **\n",
      "\n",
      "WARNING: Method definition sort_like##kw(Any, typeof(Kwat.sort_like), Array{T, 1} where T...) in module Kwat at /Users/kwat/code/Kwat/src/Support/sort_like.jl:1 overwritten at /Users/kwat/code/Kwat/src/Support/sort_like.jl:1.\n",
      "  ** incremental compilation may be fatally broken for this module **\n",
      "\n",
      "WARNING: Method definition read_gmt(String) in module Kwat at /Users/kwat/code/Kwat/src/GCTGMT/read_gmt.jl:1 overwritten at /Users/kwat/code/Kwat/src/GCTGMT/read_gmt.jl:1.\n",
      "  ** incremental compilation may be fatally broken for this module **\n",
      "\n",
      "WARNING: Method definition read_gmt(Array{String, 1}) in module Kwat at /Users/kwat/code/Kwat/src/GCTGMT/read_gmt.jl:23 overwritten at /Users/kwat/code/Kwat/src/GCTGMT/read_gmt.jl:23.\n",
      "  ** incremental compilation may be fatally broken for this module **\n",
      "\n",
      "WARNING: Method definition compute_ided(Array{Float64, 1}, Array{Float64, 1}) in module Kwat at /Users/kwat/code/Kwat/src/Information/compute_ided.jl:1 overwritten at /Users/kwat/code/Kwat/src/Information/compute_ided.jl:1.\n",
      "  ** incremental compilation may be fatally broken for this module **\n",
      "\n",
      "WARNING: Method definition compute_ides(Array{Float64, 1}, Array{Float64, 1}) in module Kwat at /Users/kwat/code/Kwat/src/Information/compute_ides.jl:1 overwritten at /Users/kwat/code/Kwat/src/Information/compute_ides.jl:1.\n",
      "  ** incremental compilation may be fatally broken for this module **\n",
      "\n",
      "WARNING: Method definition compute_idrd(Array{Float64, 1}, Array{Float64, 1}, Array{Float64, 1}) in module Kwat at /Users/kwat/code/Kwat/src/Information/compute_idrd.jl:1 overwritten at /Users/kwat/code/Kwat/src/Information/compute_idrd.jl:1.\n",
      "  ** incremental compilation may be fatally broken for this module **\n",
      "\n",
      "WARNING: Method definition compute_idrd(Array{Float64, 1}, Array{Float64, 1}) in module Kwat at /Users/kwat/code/Kwat/src/Information/compute_idrd.jl:11 overwritten at /Users/kwat/code/Kwat/src/Information/compute_idrd.jl:11.\n",
      "  ** incremental compilation may be fatally broken for this module **\n",
      "\n",
      "WARNING: Method definition compute_idrs(Array{Float64, 1}, Array{Float64, 1}, Array{Float64, 1}) in module Kwat at /Users/kwat/code/Kwat/src/Information/compute_idrs.jl:1 overwritten at /Users/kwat/code/Kwat/src/Information/compute_idrs.jl:1.\n",
      "  ** incremental compilation may be fatally broken for this module **\n",
      "\n",
      "WARNING: Method definition compute_idrs(Array{Float64, 1}, Array{Float64, 1}) in module Kwat at /Users/kwat/code/Kwat/src/Information/compute_idrs.jl:11 overwritten at /Users/kwat/code/Kwat/src/Information/compute_idrs.jl:11.\n",
      "  ** incremental compilation may be fatally broken for this module **\n",
      "\n",
      "WARNING: Method definition compute_kld(Array{Float64, 1}, Array{Float64, 1}) in module Kwat at /Users/kwat/code/Kwat/src/Information/compute_kld.jl:1 overwritten at /Users/kwat/code/Kwat/src/Information/compute_kld.jl:1.\n",
      "  ** incremental compilation may be fatally broken for this module **\n",
      "\n",
      "┌ Warning: Package Kwat does not have Statistics in its dependencies:\n",
      "│ - If you have Kwat checked out for development and have\n",
      "│   added Statistics as a dependency but haven't updated your primary\n",
      "│   environment's manifest file, try `Pkg.resolve()`.\n",
      "│ - Otherwise you may need to report an issue with Kwat\n",
      "└ Loading Statistics into Kwat from project dependency, future warnings for Kwat are suppressed.\n",
      "WARNING: Method definition plot_x_y(Array{Array{Float64, 1}, 1}, Array{Array{Float64, 1}, 1}) in module Kwat at /Users/kwat/code/Kwat/src/Plot/plot_x_y.jl:3 overwritten at /Users/kwat/code/Kwat/src/Plot/plot_x_y.jl:3.\n",
      "  ** incremental compilation may be fatally broken for this module **\n",
      "\n",
      "WARNING: Method definition plot_x_y##kw(Any, typeof(Kwat.plot_x_y), Array{Array{Float64, 1}, 1}, Array{Array{Float64, 1}, 1}) in module Kwat at /Users/kwat/code/Kwat/src/Plot/plot_x_y.jl:3 overwritten at /Users/kwat/code/Kwat/src/Plot/plot_x_y.jl:3.\n",
      "  ** incremental compilation may be fatally broken for this module **\n",
      "\n",
      "WARNING: Method definition plot_x_y(Array{Array{Float64, 1}, 1}) in module Kwat at /Users/kwat/code/Kwat/src/Plot/plot_x_y.jl:82 overwritten at /Users/kwat/code/Kwat/src/Plot/plot_x_y.jl:82.\n",
      "  ** incremental compilation may be fatally broken for this module **\n",
      "\n",
      "WARNING: Method definition plot_x_y##kw(Any, typeof(Kwat.plot_x_y), Array{Array{Float64, 1}, 1}) in module Kwat at /Users/kwat/code/Kwat/src/Plot/plot_x_y.jl:82 overwritten at /Users/kwat/code/Kwat/src/Plot/plot_x_y.jl:82.\n",
      "  ** incremental compilation may be fatally broken for this module **\n",
      "\n",
      "WARNING: Method definition check_is(Array{String, 1}, Array{String, 1}) in module Kwat at /Users/kwat/code/Kwat/src/Support/check_is.jl:1 overwritten at /Users/kwat/code/Kwat/src/Support/check_is.jl:1.\n",
      "  ** incremental compilation may be fatally broken for this module **\n",
      "\n",
      "WARNING: Method definition check_is(Base.Dict{String, Int64}, Array{String, 1}) in module Kwat at /Users/kwat/code/Kwat/src/Support/check_is.jl:9 overwritten at /Users/kwat/code/Kwat/src/Support/check_is.jl:9.\n",
      "  ** incremental compilation may be fatally broken for this module **\n",
      "\n",
      "WARNING: Method definition cumulate_sum_reverse(Array{Float64, 1}) in module Kwat at /Users/kwat/code/Kwat/src/Support/cumulate_sum_reverse.jl:1 overwritten at /Users/kwat/code/Kwat/src/Support/cumulate_sum_reverse.jl:1.\n",
      "  ** incremental compilation may be fatally broken for this module **\n",
      "\n",
      "WARNING: Method definition get_area(Array{Float64, 1}) in module Kwat at /Users/kwat/code/Kwat/src/Support/get_area.jl:1 overwritten at /Users/kwat/code/Kwat/src/Support/get_area.jl:1.\n",
      "  ** incremental compilation may be fatally broken for this module **\n",
      "\n",
      "WARNING: Method definition get_center(Float64, Float64) in module Kwat at /Users/kwat/code/Kwat/src/Support/get_center.jl:1 overwritten at /Users/kwat/code/Kwat/src/Support/get_center.jl:1.\n",
      "  ** incremental compilation may be fatally broken for this module **\n",
      "\n",
      "WARNING: Method definition get_extreme(Array{Float64, 1}) in module Kwat at /Users/kwat/code/Kwat/src/Support/get_extreme.jl:1 overwritten at /Users/kwat/code/Kwat/src/Support/get_extreme.jl:1.\n",
      "  ** incremental compilation may be fatally broken for this module **\n",
      "\n",
      "WARNING: Method definition list_card() in module Kwat at /Users/kwat/code/Kwat/src/Support/list_card.jl:1 overwritten at /Users/kwat/code/Kwat/src/Support/list_card.jl:1.\n",
      "  ** incremental compilation may be fatally broken for this module **\n",
      "\n",
      "WARNING: Method definition sort_like(Array{T, 1} where T...) in module Kwat at /Users/kwat/code/Kwat/src/Support/sort_like.jl:1 overwritten at /Users/kwat/code/Kwat/src/Support/sort_like.jl:1.\n",
      "  ** incremental compilation may be fatally broken for this module **\n",
      "\n",
      "WARNING: Method definition sort_like##kw(Any, typeof(Kwat.sort_like), Array{T, 1} where T...) in module Kwat at /Users/kwat/code/Kwat/src/Support/sort_like.jl:1 overwritten at /Users/kwat/code/Kwat/src/Support/sort_like.jl:1.\n",
      "  ** incremental compilation may be fatally broken for this module **\n",
      "\n"
     ]
    },
    {
     "data": {
      "text/html": [
       "<script>\n",
       "// Immediately-invoked-function-expression to avoid global variables.\n",
       "(function() {\n",
       "    var warning_div = document.getElementById(\"webio-warning-14515879608655749269\");\n",
       "    var hide = function () {\n",
       "        var script = document.getElementById(\"webio-setup-3171741042675963992\");\n",
       "        var parent = script && script.parentElement;\n",
       "        var grandparent = parent && parent.parentElement;\n",
       "        if (grandparent) {\n",
       "            grandparent.style.display = \"none\";\n",
       "        }\n",
       "        warning_div.style.display = \"none\";\n",
       "    };\n",
       "    if (typeof Jupyter !== \"undefined\") {\n",
       "        console.log(\"WebIO detected Jupyter notebook environment.\");\n",
       "        // Jupyter notebook.\n",
       "        var extensions = (\n",
       "            Jupyter\n",
       "            && Jupyter.notebook.config.data\n",
       "            && Jupyter.notebook.config.data.load_extensions\n",
       "        );\n",
       "        if (extensions && extensions[\"webio-jupyter-notebook\"]) {\n",
       "            // Extension already loaded.\n",
       "            console.log(\"Jupyter WebIO nbextension detected; not loading ad-hoc.\");\n",
       "            hide();\n",
       "            return;\n",
       "        }\n",
       "    } else if (window.location.pathname.includes(\"/lab\")) {\n",
       "        // Guessing JupyterLa\n",
       "        console.log(\"Jupyter Lab detected; make sure the @webio/jupyter-lab-provider labextension is installed.\");\n",
       "        hide();\n",
       "        return;\n",
       "    }\n",
       "})();\n",
       "\n",
       "</script>\n",
       "<p\n",
       "    id=\"webio-warning-14515879608655749269\"\n",
       "    class=\"output_text output_stderr\"\n",
       "    style=\"padding: 1em; font-weight: bold;\"\n",
       ">\n",
       "    Unable to load WebIO. Please make sure WebIO works for your Jupyter client.\n",
       "    For troubleshooting, please see <a href=\"https://juliagizmos.github.io/WebIO.jl/latest/providers/ijulia/\">\n",
       "    the WebIO/IJulia documentation</a>.\n",
       "    <!-- TODO: link to installation docs. -->\n",
       "</p>\n"
      ],
      "text/plain": [
       "HTML{String}(\"<script>\\n// Immediately-invoked-function-expression to avoid global variables.\\n(function() {\\n    var warning_div = document.getElementById(\\\"webio-warning-14515879608655749269\\\");\\n    var hide = function () {\\n        var script = document.getElementById(\\\"webio-setup-3171741042675963992\\\");\\n        var parent = script && script.parentElement;\\n        var grandparent = parent && parent.parentElement;\\n        if (grandparent) {\\n            grandparent.style.display = \\\"none\\\";\\n        }\\n        warning_div.style.display = \\\"none\\\";\\n    };\\n    if (typeof Jupyter !== \\\"undefined\\\") {\\n        console.log(\\\"WebIO detected Jupyter notebook environment.\\\");\\n        // Jupyter notebook.\\n        var extensions = (\\n            Jupyter\\n            && Jupyter.notebook.config.data\\n            && Jupyter.notebook.config.data.load_extensions\\n        );\\n        if (extensions && extensions[\\\"webio-jupyter-notebook\\\"]) {\\n            // Extension already loaded.\\n            console.log(\\\"Jupyter WebIO nbextension detected; not loading ad-hoc.\\\");\\n            hide();\\n            return;\\n        }\\n    } else if (window.location.pathname.includes(\\\"/lab\\\")) {\\n        // Guessing JupyterLa\\n        console.log(\\\"Jupyter Lab detected; make sure the @webio/jupyter-lab-provider labextension is installed.\\\");\\n        hide();\\n        return;\\n    }\\n})();\\n\\n</script>\\n<p\\n    id=\\\"webio-warning-14515879608655749269\\\"\\n    class=\\\"output_text output_stderr\\\"\\n    style=\\\"padding: 1em; font-weight: bold;\\\"\\n>\\n    Unable to load WebIO. Please make sure WebIO works for your Jupyter client.\\n    For troubleshooting, please see <a href=\\\"https://juliagizmos.github.io/WebIO.jl/latest/providers/ijulia/\\\">\\n    the WebIO/IJulia documentation</a>.\\n    <!-- TODO: link to installation docs. -->\\n</p>\\n\")"
      ]
     },
     "metadata": {},
     "output_type": "display_data"
    }
   ],
   "source": [
    "using Kwat"
   ]
  },
  {
   "cell_type": "markdown",
   "metadata": {},
   "source": [
    "## normalize"
   ]
  },
  {
   "cell_type": "code",
   "execution_count": 3,
   "metadata": {},
   "outputs": [
    {
     "data": {
      "text/plain": [
       "Float64[]"
      ]
     },
     "execution_count": 3,
     "metadata": {},
     "output_type": "execute_result"
    }
   ],
   "source": [
    "normalize(Vector{Float64}(), \"-0-\")"
   ]
  },
  {
   "cell_type": "code",
   "execution_count": 4,
   "metadata": {},
   "outputs": [
    {
     "data": {
      "text/plain": [
       "6-element Array{Float64,1}:\n",
       " NaN\n",
       "  -1.0\n",
       "   0.0\n",
       " NaN\n",
       "   1.0\n",
       " NaN"
      ]
     },
     "execution_count": 4,
     "metadata": {},
     "output_type": "execute_result"
    }
   ],
   "source": [
    "normalize([NaN, -2, 0, NaN, 2, NaN], \"-0-\")"
   ]
  },
  {
   "cell_type": "code",
   "execution_count": 5,
   "metadata": {},
   "outputs": [
    {
     "name": "stdout",
     "output_type": "stream",
     "text": [
      "ErrorException(\"method sum can not normalize a vector containing any negative number.\")\n"
     ]
    }
   ],
   "source": [
    "try\n",
    "\n",
    "    normalize(Float64.([-1, 0, 1]), \"sum\")\n",
    "\n",
    "catch e\n",
    "\n",
    "    println(e)\n",
    "\n",
    "end"
   ]
  },
  {
   "cell_type": "code",
   "execution_count": 6,
   "metadata": {},
   "outputs": [
    {
     "name": "stdout",
     "output_type": "stream",
     "text": [
      "================================================================================\n",
      "[0.0]\n",
      "================================================================================\n",
      "-0-\n",
      "[NaN]\n",
      "0-1\n",
      "[NaN]\n",
      "sum\n",
      "[NaN]\n",
      "================================================================================\n",
      "[1.0]\n",
      "================================================================================\n",
      "-0-\n",
      "[NaN]\n",
      "0-1\n",
      "[NaN]\n",
      "sum\n",
      "[1.0]\n",
      "================================================================================\n",
      "[0.0, 0.0, 0.0]\n",
      "================================================================================\n",
      "-0-\n",
      "[NaN, NaN, NaN]\n",
      "0-1\n",
      "[NaN, NaN, NaN]\n",
      "sum\n",
      "[NaN, NaN, NaN]\n",
      "================================================================================\n",
      "[1.0, 1.0, 1.0]\n",
      "================================================================================\n",
      "-0-\n",
      "[NaN, NaN, NaN]\n",
      "0-1\n",
      "[NaN, NaN, NaN]\n",
      "sum\n",
      "[0.3333333333333333, 0.3333333333333333, 0.3333333333333333]\n",
      "================================================================================\n",
      "[0.0, 1.0, 2.0]\n",
      "================================================================================\n",
      "-0-\n",
      "[-1.0, 0.0, 1.0]\n",
      "0-1\n",
      "[0.0, 0.5, 1.0]\n",
      "sum\n",
      "[0.0, 0.3333333333333333, 0.6666666666666666]\n"
     ]
    }
   ],
   "source": [
    "for f_ in ([0], [1], [0, 0, 0], [1, 1, 1], [0, 1, 2])\n",
    "\n",
    "    f_ = Float64.(f_)\n",
    "\n",
    "    println('='^80)\n",
    "\n",
    "    println(f_)\n",
    "\n",
    "    println('='^80)\n",
    "\n",
    "    for m in (\"-0-\", \"0-1\", \"sum\")\n",
    "\n",
    "        println(m)\n",
    "\n",
    "        println(normalize(f_, m))\n",
    "\n",
    "    end\n",
    "\n",
    "end"
   ]
  },
  {
   "cell_type": "code",
   "execution_count": 7,
   "metadata": {},
   "outputs": [
    {
     "name": "stdout",
     "output_type": "stream",
     "text": [
      "================================================================================\n",
      "[0.0]\n",
      "================================================================================\n",
      "1234\n",
      "[1.0]\n",
      "1224\n",
      "[1.0]\n",
      "1223\n",
      "[1.0]\n",
      "1 2.5 2.5 4\n",
      "[1.0]\n",
      "================================================================================\n",
      "[-1.0, 0.0, 0.0, 1.0, 1.0, 1.0, 2.0]\n",
      "================================================================================\n",
      "1234\n",
      "[1.0, 2.0, 3.0, 4.0, 5.0, 6.0, 7.0]\n",
      "1224\n",
      "[1.0, 2.0, 2.0, 4.0, 4.0, 4.0, 7.0]\n",
      "1223\n",
      "[1.0, 2.0, 2.0, 3.0, 3.0, 3.0, 4.0]\n",
      "1 2.5 2.5 4\n",
      "[1.0, 2.5, 2.5, 5.0, 5.0, 5.0, 7.0]\n"
     ]
    }
   ],
   "source": [
    "for f_ in ([0], [-1, 0, 0, 1, 1, 1, 2])\n",
    "\n",
    "    f_ = Float64.(f_)\n",
    "\n",
    "    println('='^80)\n",
    "\n",
    "    println(f_)\n",
    "\n",
    "    println('='^80)\n",
    "\n",
    "    for m in (\"1234\", \"1224\", \"1223\", \"1 2.5 2.5 4\")\n",
    "\n",
    "        println(m)\n",
    "\n",
    "        println(normalize(f_, m))\n",
    "\n",
    "    end\n",
    "\n",
    "end"
   ]
  }
 ],
 "metadata": {
  "@webio": {
   "lastCommId": null,
   "lastKernelId": null
  },
  "kernelspec": {
   "display_name": "Julia 1.5.4",
   "language": "julia",
   "name": "julia-1.5"
  },
  "language_info": {
   "file_extension": ".jl",
   "mimetype": "application/julia",
   "name": "julia",
   "version": "1.5.4"
  }
 },
 "nbformat": 4,
 "nbformat_minor": 4
}
