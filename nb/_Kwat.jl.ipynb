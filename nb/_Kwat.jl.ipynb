{
 "cells": [
  {
   "cell_type": "code",
   "execution_count": null,
   "id": "8faa45d2-c692-4f4c-85ab-962635de3266",
   "metadata": {},
   "outputs": [],
   "source": [
    "function write_line(io::IOStream, st::String)::Int64\n",
    "\n",
    "    return write(io, \"$st\\n\\n\")\n",
    "\n",
    "end"
   ]
  },
  {
   "cell_type": "code",
   "execution_count": null,
   "id": "ec1f68a7",
   "metadata": {},
   "outputs": [],
   "source": [
    "sr = joinpath(\"..\", \"src\", \"\")\n",
    "\n",
    "mo = \"Kwat\"\n",
    "\n",
    "kw = joinpath(sr, \"$mo.jl\")\n",
    "\n",
    "io = open(kw, \"w\")\n",
    "\n",
    "write_line(io, \"module $mo\")"
   ]
  },
  {
   "cell_type": "code",
   "execution_count": null,
   "id": "6713635d",
   "metadata": {},
   "outputs": [],
   "source": [
    "mo_ = [\n",
    "    \"bash\",\n",
    "    \"dictionary\",\n",
    "    #\"fastq\",\n",
    "    \"file\",\n",
    "    \"information\",\n",
    "    \"json\",\n",
    "    \"math\",\n",
    "    \"matrix_number\",\n",
    "    \"network\",\n",
    "    \"pandas\",\n",
    "    \"path\",\n",
    "    \"plot\",\n",
    "    \"string\",\n",
    "    \"vector\",\n",
    "    \"vector_number\",\n",
    "    \"workflow\",\n",
    "    \"feature_set_enrichment\",\n",
    "]"
   ]
  },
  {
   "cell_type": "code",
   "execution_count": null,
   "id": "8669c697-5a01-4066-bf16-89c38284eb2e",
   "metadata": {},
   "outputs": [],
   "source": [
    "for mo in mo_\n",
    "\n",
    "    println(mo)\n",
    "\n",
    "    write_line(io, \"module $mo\")\n",
    "\n",
    "    for jl in readdir(joinpath(sr, mo, \"\"))\n",
    "\n",
    "        write_line(io, \"\\tinclude(\\\"$mo/$jl\\\")\")\n",
    "\n",
    "    end\n",
    "\n",
    "    write_line(io, \"end\")\n",
    "\n",
    "end\n",
    "\n",
    "write_line(io, \"end\")\n",
    "\n",
    "close(io)"
   ]
  },
  {
   "cell_type": "code",
   "execution_count": null,
   "id": "ef4b686a-d67e-44ad-bfd9-d44a2d7176dc",
   "metadata": {},
   "outputs": [],
   "source": [
    "include(kw)"
   ]
  }
 ],
 "metadata": {
  "@webio": {
   "lastCommId": "c81d80621110427f8f941cb5adb27a72",
   "lastKernelId": "eabd6e95-e29d-4967-ba44-6af251ec0d25"
  },
  "kernelspec": {
   "display_name": "Julia 1.6.3",
   "language": "julia",
   "name": "julia-1.6"
  },
  "language_info": {
   "file_extension": ".jl",
   "mimetype": "application/julia",
   "name": "julia",
   "version": "1.6.3"
  }
 },
 "nbformat": 4,
 "nbformat_minor": 5
}
