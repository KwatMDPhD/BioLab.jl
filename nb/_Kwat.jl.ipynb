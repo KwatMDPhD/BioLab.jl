{
 "cells": [
  {
   "cell_type": "code",
   "execution_count": null,
   "id": "8faa45d2-c692-4f4c-85ab-962635de3266",
   "metadata": {},
   "outputs": [],
   "source": [
    "function write_line(io::IOStream, st::String)::Int64\n",
    "    \n",
    "    return write(io, \"$st\\n\\n\")\n",
    "    \n",
    "end"
   ]
  },
  {
   "cell_type": "code",
   "execution_count": null,
   "id": "8669c697-5a01-4066-bf16-89c38284eb2e",
   "metadata": {},
   "outputs": [],
   "source": [
    "kw = \"../src/Kwat.jl\"\n",
    "\n",
    "io = open(kw, \"w\")\n",
    "\n",
    "sr, na = splitdir(kw)\n",
    "\n",
    "mo = splitext(na)[1]\n",
    "\n",
    "write_line(io, \"module $mo\")\n",
    "\n",
    "for pa in readdir(sr; join = true)\n",
    "    \n",
    "    if isdir(pa)\n",
    "        \n",
    "        mo = splitdir(pa)[end]\n",
    "        \n",
    "        write_line(io, \"module $mo\")\n",
    "    \n",
    "        for na in readdir(pa)\n",
    "\n",
    "            if endswith(na, \".jl\")\n",
    "\n",
    "                write_line(io, \"include(\\\"$mo/$na\\\")\")\n",
    "\n",
    "            end\n",
    "\n",
    "        end\n",
    "    \n",
    "        write_line(io, \"end\")\n",
    "    \n",
    "    end\n",
    "    \n",
    "end\n",
    "\n",
    "write_line(io, \"end\")\n",
    "\n",
    "close(io)"
   ]
  },
  {
   "cell_type": "code",
   "execution_count": null,
   "id": "ef4b686a-d67e-44ad-bfd9-d44a2d7176dc",
   "metadata": {},
   "outputs": [],
   "source": [
    "include(kw)"
   ]
  }
 ],
 "metadata": {
  "@webio": {
   "lastCommId": "62d9d1ab391e4d569c1dcc28dce117f7",
   "lastKernelId": "eabd6e95-e29d-4967-ba44-6af251ec0d25"
  },
  "kernelspec": {
   "display_name": "Julia 1.6.3",
   "language": "julia",
   "name": "julia-1.6"
  },
  "language_info": {
   "file_extension": ".jl",
   "mimetype": "application/julia",
   "name": "julia",
   "version": "1.6.3"
  }
 },
 "nbformat": 4,
 "nbformat_minor": 5
}
