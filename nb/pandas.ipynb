{
 "cells": [
  {
   "cell_type": "code",
   "execution_count": null,
   "id": "b3325ba2-989b-48ae-b530-5d0f64147f9a",
   "metadata": {},
   "outputs": [],
   "source": [
    "using DataFrames\n",
    "\n",
    "using Kwat"
   ]
  },
  {
   "cell_type": "markdown",
   "id": "2988a98a-d859-491b-83bd-0880462f2fcd",
   "metadata": {},
   "source": [
    "## make_dataframe"
   ]
  },
  {
   "cell_type": "markdown",
   "id": "650a3443",
   "metadata": {},
   "source": [
    "### 1 column"
   ]
  },
  {
   "cell_type": "code",
   "execution_count": null,
   "id": "f60ee6fe",
   "metadata": {},
   "outputs": [],
   "source": [
    "da = DataFrame(\"Index\" => [string(\"Index \", ie) for ie = 1:3])"
   ]
  },
  {
   "cell_type": "code",
   "execution_count": null,
   "id": "bd7c31d1",
   "metadata": {},
   "outputs": [],
   "source": [
    "try\n",
    "\n",
    "    Kwat.pandas.make_dataframe(da)\n",
    "\n",
    "catch er\n",
    "\n",
    "    er\n",
    "\n",
    "end"
   ]
  },
  {
   "cell_type": "markdown",
   "id": "35c05ebd",
   "metadata": {},
   "source": [
    "### Int"
   ]
  },
  {
   "cell_type": "code",
   "execution_count": null,
   "id": "f0f03bf3",
   "metadata": {},
   "outputs": [],
   "source": [
    "da[!, \"Column 1\"] = 1:3\n",
    "\n",
    "da"
   ]
  },
  {
   "cell_type": "code",
   "execution_count": null,
   "id": "07a32011",
   "metadata": {},
   "outputs": [],
   "source": [
    "dap = Kwat.pandas.make_dataframe(da)"
   ]
  },
  {
   "cell_type": "code",
   "execution_count": null,
   "id": "de7dda33",
   "metadata": {},
   "outputs": [],
   "source": [
    "Kwat.pandas.make_dataframe(dap)"
   ]
  },
  {
   "cell_type": "markdown",
   "id": "71175a95",
   "metadata": {},
   "source": [
    "### Int and Float"
   ]
  },
  {
   "cell_type": "code",
   "execution_count": null,
   "id": "9453a355",
   "metadata": {},
   "outputs": [],
   "source": [
    "da[!, \"Column 2\"] = convert(Vector{Float64}, da[!, \"Column 1\"])\n",
    "\n",
    "da"
   ]
  },
  {
   "cell_type": "code",
   "execution_count": null,
   "id": "44581d9f",
   "metadata": {},
   "outputs": [],
   "source": [
    "dap = Kwat.pandas.make_dataframe(da)"
   ]
  },
  {
   "cell_type": "code",
   "execution_count": null,
   "id": "07af972f",
   "metadata": {},
   "outputs": [],
   "source": [
    "Kwat.pandas.make_dataframe(dap)"
   ]
  },
  {
   "cell_type": "markdown",
   "id": "72528e64",
   "metadata": {},
   "source": [
    "### Int, Float, and String"
   ]
  },
  {
   "cell_type": "code",
   "execution_count": null,
   "id": "38e48bfc",
   "metadata": {},
   "outputs": [],
   "source": [
    "da[!, \"Column 3\"] = string.(da[!, \"Column 1\"])\n",
    "\n",
    "da"
   ]
  },
  {
   "cell_type": "code",
   "execution_count": null,
   "id": "c925035f",
   "metadata": {},
   "outputs": [],
   "source": [
    "dap = Kwat.pandas.make_dataframe(da)"
   ]
  },
  {
   "cell_type": "code",
   "execution_count": null,
   "id": "273415e1",
   "metadata": {},
   "outputs": [],
   "source": [
    "Kwat.pandas.make_dataframe(dap)"
   ]
  },
  {
   "cell_type": "markdown",
   "id": "a889fa94",
   "metadata": {},
   "source": [
    "## make_series"
   ]
  },
  {
   "cell_type": "markdown",
   "id": "203f9291",
   "metadata": {},
   "source": [
    "### Int"
   ]
  },
  {
   "cell_type": "code",
   "execution_count": null,
   "id": "3c8bb12a",
   "metadata": {},
   "outputs": [],
   "source": [
    "da = DataFrame(\"Index\" => [string(\"Index \", ie) for ie = 1:3], \"Column 1\" => 1:3)"
   ]
  },
  {
   "cell_type": "code",
   "execution_count": null,
   "id": "933aaa1b",
   "metadata": {},
   "outputs": [],
   "source": [
    "Kwat.pandas.make_series(da[1, :])"
   ]
  },
  {
   "cell_type": "markdown",
   "id": "7313f415",
   "metadata": {},
   "source": [
    "### Int and Float"
   ]
  },
  {
   "cell_type": "code",
   "execution_count": null,
   "id": "9722e790",
   "metadata": {},
   "outputs": [],
   "source": [
    "da[!, \"Column 2\"] = convert(Vector{Float64}, da[!, \"Column 1\"])\n",
    "\n",
    "da"
   ]
  },
  {
   "cell_type": "code",
   "execution_count": null,
   "id": "65ced7d3",
   "metadata": {},
   "outputs": [],
   "source": [
    "Kwat.pandas.make_series(da[1, :])"
   ]
  },
  {
   "cell_type": "markdown",
   "id": "6f3fc3d3",
   "metadata": {},
   "source": [
    "### Int, Float, and String"
   ]
  },
  {
   "cell_type": "code",
   "execution_count": null,
   "id": "2e15f0e7",
   "metadata": {},
   "outputs": [],
   "source": [
    "da[!, \"Column 3\"] = string.(da[!, \"Column 1\"])\n",
    "\n",
    "da"
   ]
  },
  {
   "cell_type": "code",
   "execution_count": null,
   "id": "1b2f0a6a",
   "metadata": {},
   "outputs": [],
   "source": [
    "Kwat.pandas.make_series(da[1, :])"
   ]
  }
 ],
 "metadata": {
  "@webio": {
   "lastCommId": "4d823183947f4a5ea0a02dd32e7798ab",
   "lastKernelId": "e6c1334f-bee4-4f38-a08d-610651afead2"
  },
  "kernelspec": {
   "display_name": "Julia 1.6.3",
   "language": "julia",
   "name": "julia-1.6"
  },
  "language_info": {
   "file_extension": ".jl",
   "mimetype": "application/julia",
   "name": "julia",
   "version": "1.6.3"
  }
 },
 "nbformat": 4,
 "nbformat_minor": 5
}
