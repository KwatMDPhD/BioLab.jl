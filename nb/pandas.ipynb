{
 "cells": [
  {
   "cell_type": "code",
   "execution_count": null,
   "id": "b3325ba2-989b-48ae-b530-5d0f64147f9a",
   "metadata": {},
   "outputs": [],
   "source": [
    "using Kwat"
   ]
  },
  {
   "cell_type": "markdown",
   "id": "2988a98a-d859-491b-83bd-0880462f2fcd",
   "metadata": {},
   "source": [
    "## make_dataframe"
   ]
  },
  {
   "cell_type": "code",
   "execution_count": null,
   "id": "07a32011",
   "metadata": {},
   "outputs": [],
   "source": [
    "Kwat.pandas.make_dataframe"
   ]
  },
  {
   "cell_type": "markdown",
   "id": "a889fa94",
   "metadata": {},
   "source": [
    "## make_series"
   ]
  },
  {
   "cell_type": "code",
   "execution_count": null,
   "id": "933aaa1b",
   "metadata": {},
   "outputs": [],
   "source": [
    "Kwat.pandas.make_series"
   ]
  }
 ],
 "metadata": {
  "@webio": {
   "lastCommId": "1fabd686edfa4b0582361d30ecd0ebcb",
   "lastKernelId": "6bd877a9-b6bb-402a-ab7a-e1eefe64417f"
  },
  "kernelspec": {
   "display_name": "Julia 1.6.3",
   "language": "julia",
   "name": "julia-1.6"
  },
  "language_info": {
   "file_extension": ".jl",
   "mimetype": "application/julia",
   "name": "julia",
   "version": "1.6.3"
  }
 },
 "nbformat": 4,
 "nbformat_minor": 5
}
