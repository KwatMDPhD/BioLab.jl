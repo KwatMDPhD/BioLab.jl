{
 "cells": [
  {
   "cell_type": "code",
   "execution_count": null,
   "metadata": {},
   "outputs": [],
   "source": [
    "using Revise"
   ]
  },
  {
   "cell_type": "code",
   "execution_count": null,
   "metadata": {},
   "outputs": [],
   "source": [
    "using Kwat: information"
   ]
  },
  {
   "cell_type": "code",
   "execution_count": null,
   "metadata": {},
   "outputs": [],
   "source": [
    "using Kwat.plot"
   ]
  },
  {
   "cell_type": "code",
   "execution_count": null,
   "metadata": {},
   "outputs": [],
   "source": [
    "plot.use_style!()"
   ]
  },
  {
   "cell_type": "markdown",
   "metadata": {},
   "source": [
    "## compute_s"
   ]
  },
  {
   "cell_type": "code",
   "execution_count": null,
   "metadata": {},
   "outputs": [],
   "source": [
    "information.compute_s"
   ]
  },
  {
   "cell_type": "markdown",
   "metadata": {},
   "source": [
    "## compute_kld"
   ]
  },
  {
   "cell_type": "markdown",
   "metadata": {},
   "source": [
    "## compute_idrs"
   ]
  },
  {
   "cell_type": "markdown",
   "metadata": {},
   "source": [
    "## compute_idrd"
   ]
  },
  {
   "cell_type": "markdown",
   "metadata": {},
   "source": [
    "## compute_ides"
   ]
  },
  {
   "cell_type": "markdown",
   "metadata": {},
   "source": [
    "## compute_ided"
   ]
  },
  {
   "cell_type": "code",
   "execution_count": null,
   "metadata": {},
   "outputs": [],
   "source": [
    "name_ = [\"kld\", \"idrs\", \"idrsw\", \"idrd\", \"idrdw\", \"ides\", \"ided\"]"
   ]
  },
  {
   "cell_type": "code",
   "execution_count": null,
   "metadata": {},
   "outputs": [],
   "source": [
    "for (ve1, ve2) in\n",
    "    [[[1.0, 1.0, 1.0], [1.0, 1.0, 1.0]], [[1.0, 2.0, 3.0], [10.0, 20.0, 30.0]]]\n",
    "\n",
    "    ve3 = 0.2 * ve1 + 0.8 * ve2\n",
    "\n",
    "    display(plot.plot_x_y([ve1, ve2]))\n",
    "\n",
    "    display(\n",
    "        plot.plot_x_y(\n",
    "            [\n",
    "                information.compute_kld(ve1, ve2),\n",
    "                information.compute_idrs(ve1, ve2),\n",
    "                information.compute_idrs(ve1, ve2, ve3),\n",
    "                information.compute_idrd(ve1, ve2),\n",
    "                information.compute_idrd(ve1, ve2, ve3),\n",
    "                information.compute_ides(ve1, ve2),\n",
    "                information.compute_ided(ve1, ve2),\n",
    "            ];\n",
    "            name_ = name_,\n",
    "        ),\n",
    "    )\n",
    "\n",
    "end"
   ]
  },
  {
   "cell_type": "code",
   "execution_count": null,
   "metadata": {},
   "outputs": [],
   "source": [
    "using KernelDensity\n",
    "using Plotly\n",
    "\n",
    "using Kwat: vector_number"
   ]
  },
  {
   "cell_type": "code",
   "execution_count": null,
   "metadata": {},
   "outputs": [],
   "source": [
    "n = 100\n",
    "\n",
    "ve1 = vector_number.shift_minimum(randn(n), \"0<\")\n",
    "\n",
    "ve1s = ve1 .+ 1\n",
    "\n",
    "ve2 = vector_number.shift_minimum(randn(n), \"0<\")\n",
    "\n",
    "for (ve1, ve2) in [[ve1, ve1], [ve1, ve1s], [ve1, ve2]]\n",
    "\n",
    "    un1 = kde(ve1)\n",
    "\n",
    "    un2 = kde(ve2)\n",
    "\n",
    "    de1 = un1.density\n",
    "\n",
    "    de2 = un2.density\n",
    "\n",
    "    y3 = 0.2 * de1 + 0.8 * de2\n",
    "\n",
    "    display(\n",
    "        plot_x_y(\n",
    "            [collect(un1.x), collect(un2.x)],\n",
    "            [de1, de2];\n",
    "            layout = Layout(xaxis_title = \"Grid\", yaxis_title = \"Density\"),\n",
    "        ),\n",
    "    )\n",
    "\n",
    "    display(\n",
    "        plot_x_y(\n",
    "            [\n",
    "                information.compute_kld(de1, de2),\n",
    "                information.compute_idrs(de1, de2),\n",
    "                information.compute_idrs(de1, de2, y3),\n",
    "                information.compute_idrd(de1, de2),\n",
    "                information.compute_idrd(de1, de2, y3),\n",
    "                information.compute_ides(de1, de2),\n",
    "                information.compute_ided(de1, de2),\n",
    "            ];\n",
    "            name_ = name_,\n",
    "        ),\n",
    "    )\n",
    "\n",
    "end"
   ]
  },
  {
   "cell_type": "markdown",
   "metadata": {},
   "source": [
    "## compute_mi"
   ]
  },
  {
   "cell_type": "markdown",
   "metadata": {},
   "source": [
    "## compute_ic"
   ]
  },
  {
   "cell_type": "code",
   "execution_count": null,
   "metadata": {},
   "outputs": [],
   "source": [
    "using BenchmarkTools"
   ]
  },
  {
   "cell_type": "code",
   "execution_count": null,
   "metadata": {},
   "outputs": [],
   "source": [
    "ve1 = 0.0:10\n",
    "\n",
    "ve2 = 0.0:10:100\n",
    "\n",
    "bi = kde((ve1, ve2); npoints = (8, 8))"
   ]
  },
  {
   "cell_type": "code",
   "execution_count": null,
   "metadata": {},
   "outputs": [],
   "source": [
    "x = collect(b.x)"
   ]
  },
  {
   "cell_type": "code",
   "execution_count": null,
   "metadata": {},
   "outputs": [],
   "source": [
    "y = collect(b.y)"
   ]
  },
  {
   "cell_type": "code",
   "execution_count": null,
   "metadata": {},
   "outputs": [],
   "source": [
    "z = b.density"
   ]
  }
 ],
 "metadata": {
  "kernelspec": {
   "display_name": "Julia 1.5.4",
   "language": "julia",
   "name": "julia-1.5"
  },
  "language_info": {
   "file_extension": ".jl",
   "mimetype": "application/julia",
   "name": "julia",
   "version": "1.5.4"
  }
 },
 "nbformat": 4,
 "nbformat_minor": 4
}
