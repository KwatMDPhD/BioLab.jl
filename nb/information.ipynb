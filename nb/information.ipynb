{
 "cells": [
  {
   "cell_type": "code",
   "execution_count": null,
   "metadata": {},
   "outputs": [],
   "source": [
    "using KernelDensity\n",
    "using PlotlyJS\n",
    "\n",
    "using Kwat"
   ]
  },
  {
   "cell_type": "markdown",
   "metadata": {},
   "source": [
    "## get_entropy"
   ]
  },
  {
   "cell_type": "code",
   "execution_count": null,
   "metadata": {},
   "outputs": [],
   "source": [
    "Kwat.information.get_entropy"
   ]
  },
  {
   "cell_type": "markdown",
   "metadata": {},
   "source": [
    "## get_kolmogorov_smirnov_statistic"
   ]
  },
  {
   "cell_type": "markdown",
   "metadata": {},
   "source": [
    "## get_kullback_leibler_divergence"
   ]
  },
  {
   "cell_type": "markdown",
   "metadata": {},
   "source": [
    "## get_relative_information_sum"
   ]
  },
  {
   "cell_type": "markdown",
   "metadata": {},
   "source": [
    "## get_relative_information_difference"
   ]
  },
  {
   "cell_type": "markdown",
   "metadata": {},
   "source": [
    "## get_symmetric_information_sum"
   ]
  },
  {
   "cell_type": "markdown",
   "metadata": {},
   "source": [
    "## get_symmetric_information_difference"
   ]
  },
  {
   "cell_type": "code",
   "execution_count": null,
   "metadata": {},
   "outputs": [],
   "source": [
    "function fu(ve1, ve2, ve3)\n",
    "\n",
    "    return vcat(\n",
    "        [\n",
    "            fu(ve1, ve2) for fu in [\n",
    "                Kwat.information.get_kolmogorov_smirnov_statistic,\n",
    "                Kwat.information.get_kullback_leibler_divergence,\n",
    "                Kwat.information.get_relative_information_sum,\n",
    "                Kwat.information.get_relative_information_difference,\n",
    "                Kwat.information.get_symmetric_information_sum,\n",
    "                Kwat.information.get_symmetric_information_difference,\n",
    "            ]\n",
    "        ],\n",
    "        [\n",
    "            fu(ve1, ve2, ve3) for fu in [\n",
    "                Kwat.information.get_relative_information_sum,\n",
    "                Kwat.information.get_relative_information_difference,\n",
    "            ]\n",
    "        ],\n",
    "    )\n",
    "\n",
    "end\n",
    "\n",
    ";"
   ]
  },
  {
   "cell_type": "code",
   "execution_count": null,
   "metadata": {},
   "outputs": [],
   "source": [
    "name_ = [\n",
    "    \"kolmogorov_smirnov_statistic\",\n",
    "    \"kullback_leibler_divergence\",\n",
    "    \"relative_information_sum\",\n",
    "    \"relative_information_difference\",\n",
    "    \"symmetric_information_sum\",\n",
    "    \"symmetric_information_difference\",\n",
    "    \"wrelative_information_sum\",\n",
    "    \"wrelative_information_difference\",\n",
    "]"
   ]
  },
  {
   "cell_type": "code",
   "execution_count": null,
   "metadata": {
    "scrolled": false
   },
   "outputs": [],
   "source": [
    "for (ve1, ve2) in [[[1, 1, 1], [1, 1, 1]], [[1, 2, 3], [10, 20, 30]]]\n",
    "\n",
    "    ve1 = Kwat.vector_number.convert(ve1)\n",
    "\n",
    "    ve2 = Kwat.vector_number.convert(ve2)\n",
    "\n",
    "    ve3 = 0.2 * ve1 + 0.8 * ve2\n",
    "\n",
    "    Kwat.figure.plot_x_y([ve1, ve2])\n",
    "\n",
    "    Kwat.figure.plot_x_y(fu(ve1, ve2, ve3); name_ = name_)\n",
    "\n",
    "end"
   ]
  },
  {
   "cell_type": "code",
   "execution_count": null,
   "metadata": {},
   "outputs": [],
   "source": [
    "n_po = 100\n",
    "\n",
    "ve1 = Kwat.vector_number.shift_minimum(randn(n_po), \"0<\")\n",
    "\n",
    "ve1s = ve1 .+ 1.0\n",
    "\n",
    "ve2 = Kwat.vector_number.shift_minimum(randn(n_po), \"0<\")\n",
    "\n",
    ";"
   ]
  },
  {
   "cell_type": "code",
   "execution_count": null,
   "metadata": {
    "scrolled": false
   },
   "outputs": [],
   "source": [
    "for (ve1, ve2) in [[ve1, ve1], [ve1, ve1s], [ve1, ve2]]\n",
    "\n",
    "    un1 = kde(ve1)\n",
    "\n",
    "    un2 = kde(ve2)\n",
    "\n",
    "    de1 = un1.density\n",
    "\n",
    "    de2 = un2.density\n",
    "\n",
    "    de3 = 0.2 * de1 + 0.8 * de2\n",
    "\n",
    "    Kwat.figure.plot_x_y(\n",
    "        [de1, de2],\n",
    "        [collect(un1.x), collect(un2.x)];\n",
    "        la = Layout(yaxis_title = \"Density\", xaxis_title = \"Grid\"),\n",
    "    )\n",
    "\n",
    "    Kwat.figure.plot_x_y(fu(de1, de2, de3); name_ = name_)\n",
    "\n",
    "end"
   ]
  },
  {
   "cell_type": "markdown",
   "metadata": {},
   "source": [
    "## get_mutual_information"
   ]
  },
  {
   "cell_type": "markdown",
   "metadata": {},
   "source": [
    "## get_information_coefficient"
   ]
  },
  {
   "cell_type": "code",
   "execution_count": null,
   "metadata": {},
   "outputs": [],
   "source": [
    "ve1 = Kwat.vector_number.convert(0:10)\n",
    "\n",
    "ve2 = Kwat.vector_number.convert(0:10:100)\n",
    "\n",
    ";"
   ]
  },
  {
   "cell_type": "code",
   "execution_count": null,
   "metadata": {},
   "outputs": [],
   "source": [
    "bi = kde((ve1, ve2); npoints = (8, 8))"
   ]
  },
  {
   "cell_type": "code",
   "execution_count": null,
   "metadata": {},
   "outputs": [],
   "source": [
    "y = collect(bi.y)"
   ]
  },
  {
   "cell_type": "code",
   "execution_count": null,
   "metadata": {},
   "outputs": [],
   "source": [
    "x = collect(bi.x)"
   ]
  },
  {
   "cell_type": "code",
   "execution_count": null,
   "metadata": {},
   "outputs": [],
   "source": [
    "z = bi.density"
   ]
  }
 ],
 "metadata": {
  "@webio": {
   "lastCommId": "5e6accfb1525475a87519276686e2ecd",
   "lastKernelId": "e265682b-9129-4b12-b814-f0b2c9a305f1"
  },
  "kernelspec": {
   "display_name": "Julia 1.6.3",
   "language": "julia",
   "name": "julia-1.6"
  },
  "language_info": {
   "file_extension": ".jl",
   "mimetype": "application/julia",
   "name": "julia",
   "version": "1.6.3"
  }
 },
 "nbformat": 4,
 "nbformat_minor": 4
}
