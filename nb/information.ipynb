{
 "cells": [
  {
   "cell_type": "code",
   "execution_count": null,
   "metadata": {},
   "outputs": [],
   "source": [
    "using Revise\n",
    "using BenchmarkTools"
   ]
  },
  {
   "cell_type": "code",
   "execution_count": null,
   "metadata": {},
   "outputs": [],
   "source": [
    "using KernelDensity\n",
    "using Plotly\n",
    "\n",
    "using Kwat"
   ]
  },
  {
   "cell_type": "code",
   "execution_count": null,
   "metadata": {},
   "outputs": [],
   "source": [
    "Kwat.plot.use_style!()"
   ]
  },
  {
   "cell_type": "markdown",
   "metadata": {},
   "source": [
    "## get_entropy"
   ]
  },
  {
   "cell_type": "code",
   "execution_count": null,
   "metadata": {},
   "outputs": [],
   "source": [
    "Kwat.information.get_entropy"
   ]
  },
  {
   "cell_type": "markdown",
   "metadata": {},
   "source": [
    "## get_kullback_leibler_divergence"
   ]
  },
  {
   "cell_type": "markdown",
   "metadata": {},
   "source": [
    "## get_relative_information_sum"
   ]
  },
  {
   "cell_type": "markdown",
   "metadata": {},
   "source": [
    "## get_relative_information_difference"
   ]
  },
  {
   "cell_type": "markdown",
   "metadata": {},
   "source": [
    "## get_symmetric_information_sum"
   ]
  },
  {
   "cell_type": "markdown",
   "metadata": {},
   "source": [
    "## get_symmetric_information_difference"
   ]
  },
  {
   "cell_type": "code",
   "execution_count": null,
   "metadata": {},
   "outputs": [],
   "source": [
    "name_ = [\n",
    "    \"kullback_leibler_divergence\",\n",
    "    \"relative_information_sum\",\n",
    "    \"wrelative_information_sum\",\n",
    "    \"relative_information_difference\",\n",
    "    \"wrelative_information_difference\",\n",
    "    \"symmetric_information_sum\",\n",
    "    \"symmetric_information_difference\",\n",
    "]"
   ]
  },
  {
   "cell_type": "code",
   "execution_count": null,
   "metadata": {},
   "outputs": [],
   "source": [
    "for (ve1, ve2) in [[[1, 1, 1], [1, 1, 1]], [[1, 2, 3], [10, 20, 30]]]\n",
    "\n",
    "    ve1 = Kwat.vector_number.convert(ve1)\n",
    "\n",
    "    ve2 = Kwat.vector_number.convert(ve2)\n",
    "\n",
    "    ve3 = 0.2 * ve1 + 0.8 * ve2\n",
    "\n",
    "    display(Kwat.plot.plot_x_y([ve1, ve2]))\n",
    "\n",
    "    display(\n",
    "        Kwat.plot.plot_x_y(\n",
    "            [\n",
    "                Kwat.information.get_kullback_leibler_divergence(ve1, ve2),\n",
    "                Kwat.information.get_relative_information_sum(ve1, ve2),\n",
    "                Kwat.information.get_relative_information_sum(ve1, ve2, ve3),\n",
    "                Kwat.information.get_relative_information_difference(ve1, ve2),\n",
    "                Kwat.information.get_relative_information_difference(ve1, ve2, ve3),\n",
    "                Kwat.information.get_symmetric_information_sum(ve1, ve2),\n",
    "                Kwat.information.get_symmetric_information_difference(ve1, ve2),\n",
    "            ];\n",
    "            name_ = name_,\n",
    "        ),\n",
    "    )\n",
    "\n",
    "end"
   ]
  },
  {
   "cell_type": "code",
   "execution_count": null,
   "metadata": {},
   "outputs": [],
   "source": [
    "n = 100\n",
    "\n",
    "ve1 = Kwat.vector_number.shift_minimum(randn(n), \"0<\")\n",
    "\n",
    "ve1s = ve1 .+ 1.0\n",
    "\n",
    "ve2 = Kwat.vector_number.shift_minimum(randn(n), \"0<\")\n",
    "\n",
    "for (ve1, ve2) in [[ve1, ve1], [ve1, ve1s], [ve1, ve2]]\n",
    "\n",
    "    un1 = kde(ve1)\n",
    "\n",
    "    un2 = kde(ve2)\n",
    "\n",
    "    de1 = un1.density\n",
    "\n",
    "    de2 = un2.density\n",
    "\n",
    "    y3 = 0.2 * de1 + 0.8 * de2\n",
    "\n",
    "    display(\n",
    "        plot.plot_x_y(\n",
    "            [collect(un1.x), collect(un2.x)],\n",
    "            [de1, de2];\n",
    "            layout = Layout(xaxis_title = \"Grid\", yaxis_title = \"Density\"),\n",
    "        ),\n",
    "    )\n",
    "\n",
    "    display(\n",
    "        Kwat.plot.plot_x_y(\n",
    "            [\n",
    "                Kwat.information.get_kullback_leibler_divergence(de1, de2),\n",
    "                Kwat.information.get_relative_information_sum(de1, de2),\n",
    "                Kwat.information.get_relative_information_sum(de1, de2, y3),\n",
    "                Kwat.information.get_relative_information_difference(de1, de2),\n",
    "                Kwat.information.get_relative_information_difference(de1, de2, y3),\n",
    "                Kwat.information.get_symmetric_information_sum(de1, de2),\n",
    "                Kwat.information.get_symmetric_information_difference(de1, de2),\n",
    "            ];\n",
    "            name_ = name_,\n",
    "        ),\n",
    "    )\n",
    "\n",
    "end"
   ]
  },
  {
   "cell_type": "markdown",
   "metadata": {},
   "source": [
    "## get_mutual_information"
   ]
  },
  {
   "cell_type": "markdown",
   "metadata": {},
   "source": [
    "## get_information_coefficient"
   ]
  },
  {
   "cell_type": "code",
   "execution_count": null,
   "metadata": {},
   "outputs": [],
   "source": [
    "ve1 = Kwat.vector_number.convert(0:10)\n",
    "\n",
    "ve2 = Kwat.vector_number.convert(0:10:100)\n",
    "\n",
    "bi = kde([ve1, ve2]; npoints = (8, 8))"
   ]
  },
  {
   "cell_type": "code",
   "execution_count": null,
   "metadata": {},
   "outputs": [],
   "source": [
    "x = collect(bi.x)"
   ]
  },
  {
   "cell_type": "code",
   "execution_count": null,
   "metadata": {},
   "outputs": [],
   "source": [
    "y = collect(bi.y)"
   ]
  },
  {
   "cell_type": "code",
   "execution_count": null,
   "metadata": {},
   "outputs": [],
   "source": [
    "z = bi.density"
   ]
  }
 ],
 "metadata": {
  "kernelspec": {
   "display_name": "Julia 1.6.2",
   "language": "julia",
   "name": "julia-1.6"
  },
  "language_info": {
   "file_extension": ".jl",
   "mimetype": "application/julia",
   "name": "julia",
   "version": "1.6.2"
  }
 },
 "nbformat": 4,
 "nbformat_minor": 4
}
