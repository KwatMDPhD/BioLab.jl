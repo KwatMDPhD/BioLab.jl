{
 "cells": [
  {
   "cell_type": "code",
   "execution_count": null,
   "metadata": {
    "execution": {
     "iopub.execute_input": "2021-10-14T18:30:43.393837Z",
     "iopub.status.busy": "2021-10-14T18:30:42.836404Z",
     "iopub.status.idle": "2021-10-14T18:30:57.139372Z",
     "shell.execute_reply": "2021-10-14T18:30:57.138724Z"
    }
   },
   "outputs": [],
   "source": [
    "using Revise\n",
    "using BenchmarkTools\n",
    "\n",
    "using PlotlyJS\n",
    "\n",
    "using Kwat"
   ]
  },
  {
   "cell_type": "markdown",
   "metadata": {},
   "source": [
    "## "
   ]
  },
  {
   "cell_type": "code",
   "execution_count": null,
   "metadata": {
    "execution": {
     "iopub.execute_input": "2021-10-14T18:30:58.712224Z",
     "iopub.status.busy": "2021-10-14T18:30:57.140752Z",
     "iopub.status.idle": "2021-10-14T18:31:02.526988Z",
     "shell.execute_reply": "2021-10-14T18:31:02.526550Z"
    }
   },
   "outputs": [],
   "source": [
    "la = Layout(title = \"Title\", yaxis_title = \"Y-Axis Title\", xaxis_title = \"X-Axis Title\")\n",
    "\n",
    "dw = joinpath(homedir(), \"Downloads\", \"\")\n",
    "\n",
    ";"
   ]
  },
  {
   "cell_type": "markdown",
   "metadata": {},
   "source": [
    "## plot"
   ]
  },
  {
   "cell_type": "code",
   "execution_count": null,
   "metadata": {
    "execution": {
     "iopub.execute_input": "2021-10-14T18:31:02.528837Z",
     "iopub.status.busy": "2021-10-14T18:31:02.528339Z",
     "iopub.status.idle": "2021-10-14T18:31:02.546355Z",
     "shell.execute_reply": "2021-10-14T18:31:02.545441Z"
    }
   },
   "outputs": [],
   "source": [
    "tr_ = Vector{GenericTrace{Dict{Symbol,Any}}}()\n",
    "\n",
    ";"
   ]
  },
  {
   "cell_type": "code",
   "execution_count": null,
   "metadata": {
    "execution": {
     "iopub.execute_input": "2021-10-14T18:31:02.549292Z",
     "iopub.status.busy": "2021-10-14T18:31:02.548525Z",
     "iopub.status.idle": "2021-10-14T18:31:08.640732Z",
     "shell.execute_reply": "2021-10-14T18:31:08.641080Z"
    }
   },
   "outputs": [],
   "source": [
    "Kwat.figure.plot(tr_, la; pa = joinpath(dw, \"snow.png\"));"
   ]
  },
  {
   "cell_type": "code",
   "execution_count": null,
   "metadata": {
    "execution": {
     "iopub.execute_input": "2021-10-14T18:31:08.642865Z",
     "iopub.status.busy": "2021-10-14T18:31:08.642371Z",
     "iopub.status.idle": "2021-10-14T18:31:11.392569Z",
     "shell.execute_reply": "2021-10-14T18:31:11.392922Z"
    }
   },
   "outputs": [],
   "source": [
    "Kwat.figure.plot(tr_; sc = 27.0, pa = joinpath(dw, \"snow.jpeg\"));"
   ]
  },
  {
   "cell_type": "markdown",
   "metadata": {},
   "source": [
    "## "
   ]
  },
  {
   "cell_type": "code",
   "execution_count": null,
   "metadata": {
    "execution": {
     "iopub.execute_input": "2021-10-14T18:31:11.394800Z",
     "iopub.status.busy": "2021-10-14T18:31:11.394282Z",
     "iopub.status.idle": "2021-10-14T18:31:11.443180Z",
     "shell.execute_reply": "2021-10-14T18:31:11.442235Z"
    }
   },
   "outputs": [],
   "source": [
    "x1 = Kwat.vector_number.convert([-1, 0, 2])\n",
    "\n",
    "x2 = Kwat.vector_number.convert([-2, -1, 0, 2, 4])\n",
    "\n",
    ";"
   ]
  },
  {
   "cell_type": "code",
   "execution_count": null,
   "metadata": {
    "execution": {
     "iopub.execute_input": "2021-10-14T18:31:11.445544Z",
     "iopub.status.busy": "2021-10-14T18:31:11.444757Z",
     "iopub.status.idle": "2021-10-14T18:31:11.508115Z",
     "shell.execute_reply": "2021-10-14T18:31:11.507671Z"
    }
   },
   "outputs": [],
   "source": [
    "y1 = x1 .* 10\n",
    "\n",
    "y2 = x2 .* 10\n",
    "\n",
    ";"
   ]
  },
  {
   "cell_type": "markdown",
   "metadata": {},
   "source": [
    "## plot_x_y"
   ]
  },
  {
   "cell_type": "code",
   "execution_count": null,
   "metadata": {
    "execution": {
     "iopub.execute_input": "2021-10-14T18:31:11.511328Z",
     "iopub.status.busy": "2021-10-14T18:31:11.510288Z",
     "iopub.status.idle": "2021-10-14T18:31:11.940917Z",
     "shell.execute_reply": "2021-10-14T18:31:11.941272Z"
    }
   },
   "outputs": [],
   "source": [
    "Kwat.figure.plot_x_y([y1, y2], [x1, x2]; la = la);"
   ]
  },
  {
   "cell_type": "code",
   "execution_count": null,
   "metadata": {
    "execution": {
     "iopub.execute_input": "2021-10-14T18:31:11.943079Z",
     "iopub.status.busy": "2021-10-14T18:31:11.942554Z",
     "iopub.status.idle": "2021-10-14T18:31:12.019308Z",
     "shell.execute_reply": "2021-10-14T18:31:12.018947Z"
    }
   },
   "outputs": [],
   "source": [
    "Kwat.figure.plot_x_y([y1, y2]; la = la);"
   ]
  },
  {
   "cell_type": "markdown",
   "metadata": {},
   "source": [
    "## plot_bar"
   ]
  },
  {
   "cell_type": "code",
   "execution_count": null,
   "metadata": {
    "execution": {
     "iopub.execute_input": "2021-10-14T18:31:12.021011Z",
     "iopub.status.busy": "2021-10-14T18:31:12.020530Z",
     "iopub.status.idle": "2021-10-14T18:31:12.216329Z",
     "shell.execute_reply": "2021-10-14T18:31:12.215968Z"
    }
   },
   "outputs": [],
   "source": [
    "Kwat.figure.plot_bar([y1, y2], [string.(x1), string.(x2)]; la = la);"
   ]
  },
  {
   "cell_type": "code",
   "execution_count": null,
   "metadata": {
    "execution": {
     "iopub.execute_input": "2021-10-14T18:31:12.218023Z",
     "iopub.status.busy": "2021-10-14T18:31:12.217533Z",
     "iopub.status.idle": "2021-10-14T18:31:12.429839Z",
     "shell.execute_reply": "2021-10-14T18:31:12.429405Z"
    }
   },
   "outputs": [],
   "source": [
    "Kwat.figure.plot_bar([y1, y2]; la = la);"
   ]
  },
  {
   "cell_type": "markdown",
   "metadata": {},
   "source": [
    "## plot_heat_map"
   ]
  },
  {
   "cell_type": "code",
   "execution_count": null,
   "metadata": {
    "execution": {
     "iopub.execute_input": "2021-10-14T18:31:12.431837Z",
     "iopub.status.busy": "2021-10-14T18:31:12.431265Z",
     "iopub.status.idle": "2021-10-14T18:31:13.650732Z",
     "shell.execute_reply": "2021-10-14T18:31:13.650336Z"
    }
   },
   "outputs": [],
   "source": [
    "ma = reshape(1:8, (2, 4))"
   ]
  },
  {
   "cell_type": "code",
   "execution_count": null,
   "metadata": {
    "execution": {
     "iopub.execute_input": "2021-10-14T18:31:13.652596Z",
     "iopub.status.busy": "2021-10-14T18:31:13.652102Z",
     "iopub.status.idle": "2021-10-14T18:31:14.158745Z",
     "shell.execute_reply": "2021-10-14T18:31:14.158375Z"
    }
   },
   "outputs": [],
   "source": [
    "Kwat.figure.plot(\n",
    "    [heatmap(; z = ma[end:-1:1, :], colorscale = \"Picnic\")],\n",
    "    merge(la, Layout(yaxis_title = \"Row\", xaxis_title = \"Column\")),\n",
    ")\n",
    "\n",
    ";"
   ]
  }
 ],
 "metadata": {
  "@webio": {
   "lastCommId": "87ac3d3f97e44ee39c8c241fb538c2bd",
   "lastKernelId": "860888a0-46d1-40a5-bf17-fff7916238ee"
  },
  "kernelspec": {
   "display_name": "Julia 1.6.3",
   "language": "julia",
   "name": "julia-1.6"
  },
  "language_info": {
   "file_extension": ".jl",
   "mimetype": "application/julia",
   "name": "julia",
   "version": "1.6.3"
  }
 },
 "nbformat": 4,
 "nbformat_minor": 4
}
