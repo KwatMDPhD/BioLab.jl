{
 "cells": [
  {
   "cell_type": "code",
   "execution_count": null,
   "metadata": {},
   "outputs": [],
   "source": [
    "using PlotlyJS\n",
    "\n",
    "using Kwat"
   ]
  },
  {
   "cell_type": "markdown",
   "metadata": {},
   "source": [
    "## "
   ]
  },
  {
   "cell_type": "code",
   "execution_count": null,
   "metadata": {},
   "outputs": [],
   "source": [
    "la = Layout(title = \"Title\", yaxis_title = \"Y-Axis Title\", xaxis_title = \"X-Axis Title\")\n",
    "\n",
    "dw = joinpath(homedir(), \"Downloads\", \"\")\n",
    "\n",
    ";"
   ]
  },
  {
   "cell_type": "markdown",
   "metadata": {},
   "source": [
    "## plot"
   ]
  },
  {
   "cell_type": "code",
   "execution_count": null,
   "metadata": {},
   "outputs": [],
   "source": [
    "tr_ = Vector{GenericTrace{Dict{Symbol,Any}}}()\n",
    "\n",
    ";"
   ]
  },
  {
   "cell_type": "code",
   "execution_count": null,
   "metadata": {},
   "outputs": [],
   "source": [
    "Kwat.figure.plot(tr_, la; pa = joinpath(dw, \"snow.png\"))\n",
    "\n",
    "Kwat.figure.plot(tr_; sc = 27.0, pa = joinpath(dw, \"snow.jpeg\"));"
   ]
  },
  {
   "cell_type": "markdown",
   "metadata": {},
   "source": [
    "## "
   ]
  },
  {
   "cell_type": "code",
   "execution_count": null,
   "metadata": {},
   "outputs": [],
   "source": [
    "x1 = Kwat.vector_number.convert([-1, 0, 2])\n",
    "\n",
    "x2 = Kwat.vector_number.convert([-2, -1, 0, 2, 4])\n",
    "\n",
    "y1 = x1 .* 10\n",
    "\n",
    "y2 = x2 .* 10\n",
    "\n",
    ";"
   ]
  },
  {
   "cell_type": "markdown",
   "metadata": {},
   "source": [
    "## plot_x_y"
   ]
  },
  {
   "cell_type": "code",
   "execution_count": null,
   "metadata": {},
   "outputs": [],
   "source": [
    "Kwat.figure.plot_x_y([y1, y2], [x1, x2]; la = la)\n",
    "\n",
    "Kwat.figure.plot_x_y([y1, y2]; la = la);"
   ]
  },
  {
   "cell_type": "markdown",
   "metadata": {},
   "source": [
    "## plot_bar"
   ]
  },
  {
   "cell_type": "code",
   "execution_count": null,
   "metadata": {},
   "outputs": [],
   "source": [
    "Kwat.figure.plot_bar([y1, y2], [string.(x1), string.(x2)]; la = la)\n",
    "\n",
    "Kwat.figure.plot_bar([y1, y2]; la = la);"
   ]
  },
  {
   "cell_type": "markdown",
   "metadata": {},
   "source": [
    "## plot_heat_map"
   ]
  },
  {
   "cell_type": "code",
   "execution_count": null,
   "metadata": {},
   "outputs": [],
   "source": [
    "ma = reshape(1:8, (2, 4))"
   ]
  },
  {
   "cell_type": "code",
   "execution_count": null,
   "metadata": {},
   "outputs": [],
   "source": [
    "Kwat.figure.plot(\n",
    "    [heatmap(; z = ma[end:-1:1, :], colorscale = \"Picnic\")],\n",
    "    merge(la, Layout(yaxis_title = \"Row\", xaxis_title = \"Column\")),\n",
    ");"
   ]
  }
 ],
 "metadata": {
  "@webio": {
   "lastCommId": "e90c1c1d12b14c4686c0d46b5f6cf9c9",
   "lastKernelId": "daa59fb8-5778-4213-a884-58b666eb6478"
  },
  "kernelspec": {
   "display_name": "Julia 1.6.3",
   "language": "julia",
   "name": "julia-1.6"
  },
  "language_info": {
   "file_extension": ".jl",
   "mimetype": "application/julia",
   "name": "julia",
   "version": "1.6.3"
  }
 },
 "nbformat": 4,
 "nbformat_minor": 4
}
