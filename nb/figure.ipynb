{
 "cells": [
  {
   "cell_type": "code",
   "execution_count": null,
   "metadata": {},
   "outputs": [],
   "source": [
    "using PlotlyJS\n",
    "\n",
    "using Kwat"
   ]
  },
  {
   "cell_type": "markdown",
   "metadata": {},
   "source": [
    "## "
   ]
  },
  {
   "cell_type": "code",
   "execution_count": null,
   "metadata": {},
   "outputs": [],
   "source": [
    "la = Layout(title = \"Title\", yaxis_title = \"Y-Axis Title\", xaxis_title = \"X-Axis Title\")\n",
    "\n",
    "dw = joinpath(homedir(), \"Downloads\", \"\")\n",
    "\n",
    ";"
   ]
  },
  {
   "cell_type": "markdown",
   "metadata": {},
   "source": [
    "## plot"
   ]
  },
  {
   "cell_type": "code",
   "execution_count": null,
   "metadata": {},
   "outputs": [],
   "source": [
    "tr_ = Vector{GenericTrace{Dict{Symbol,Any}}}()\n",
    "\n",
    ";"
   ]
  },
  {
   "cell_type": "code",
   "execution_count": null,
   "metadata": {},
   "outputs": [],
   "source": [
    "Kwat.figure.plot(tr_, la; pa = joinpath(dw, \"snow.png\"));"
   ]
  },
  {
   "cell_type": "code",
   "execution_count": null,
   "metadata": {},
   "outputs": [],
   "source": [
    "Kwat.figure.plot(tr_; sc = 27.0, pa = joinpath(dw, \"snow.jpeg\"));"
   ]
  },
  {
   "cell_type": "markdown",
   "metadata": {},
   "source": [
    "## "
   ]
  },
  {
   "cell_type": "code",
   "execution_count": null,
   "metadata": {},
   "outputs": [],
   "source": [
    "x1 = Kwat.vector_number.convert([-1, 0, 2])\n",
    "\n",
    "x2 = Kwat.vector_number.convert([-2, -1, 0, 2, 4])\n",
    "\n",
    ";"
   ]
  },
  {
   "cell_type": "code",
   "execution_count": null,
   "metadata": {},
   "outputs": [],
   "source": [
    "y1 = x1 .* 10\n",
    "\n",
    "y2 = x2 .* 10\n",
    "\n",
    ";"
   ]
  },
  {
   "cell_type": "markdown",
   "metadata": {},
   "source": [
    "## plot_x_y"
   ]
  },
  {
   "cell_type": "code",
   "execution_count": null,
   "metadata": {},
   "outputs": [],
   "source": [
    "Kwat.figure.plot_x_y([y1, y2], [x1, x2]; la = la);"
   ]
  },
  {
   "cell_type": "code",
   "execution_count": null,
   "metadata": {},
   "outputs": [],
   "source": [
    "Kwat.figure.plot_x_y([y1, y2]; la = la);"
   ]
  },
  {
   "cell_type": "markdown",
   "metadata": {},
   "source": [
    "## plot_bar"
   ]
  },
  {
   "cell_type": "code",
   "execution_count": null,
   "metadata": {},
   "outputs": [],
   "source": [
    "Kwat.figure.plot_bar([y1, y2], [string.(x1), string.(x2)]; la = la);"
   ]
  },
  {
   "cell_type": "code",
   "execution_count": null,
   "metadata": {},
   "outputs": [],
   "source": [
    "Kwat.figure.plot_bar([y1, y2]; la = la);"
   ]
  },
  {
   "cell_type": "markdown",
   "metadata": {},
   "source": [
    "## plot_heat_map"
   ]
  },
  {
   "cell_type": "code",
   "execution_count": null,
   "metadata": {},
   "outputs": [],
   "source": [
    "ma = reshape(1:8, (2, 4))"
   ]
  },
  {
   "cell_type": "code",
   "execution_count": null,
   "metadata": {},
   "outputs": [],
   "source": [
    "Kwat.figure.plot(\n",
    "    [heatmap(; z = ma[end:-1:1, :], colorscale = \"Picnic\")],\n",
    "    merge(la, Layout(yaxis_title = \"Row\", xaxis_title = \"Column\")),\n",
    ")\n",
    "\n",
    ";"
   ]
  }
 ],
 "metadata": {
  "@webio": {
   "lastCommId": "87ac3d3f97e44ee39c8c241fb538c2bd",
   "lastKernelId": "860888a0-46d1-40a5-bf17-fff7916238ee"
  },
  "kernelspec": {
   "display_name": "Julia 1.6.3",
   "language": "julia",
   "name": "julia-1.6"
  },
  "language_info": {
   "file_extension": ".jl",
   "mimetype": "application/julia",
   "name": "julia",
   "version": "1.6.3"
  }
 },
 "nbformat": 4,
 "nbformat_minor": 4
}
