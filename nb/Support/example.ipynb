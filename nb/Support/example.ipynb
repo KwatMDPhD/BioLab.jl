{
 "cells": [
  {
   "cell_type": "code",
   "execution_count": 1,
   "metadata": {},
   "outputs": [],
   "source": [
    "using Revise"
   ]
  },
  {
   "cell_type": "code",
   "execution_count": 2,
   "metadata": {},
   "outputs": [
    {
     "name": "stderr",
     "output_type": "stream",
     "text": [
      "┌ Info: Precompiling Kwat [fb31f113-4a63-4a8e-817a-4bdffc7e605a]\n",
      "└ @ Base loading.jl:1278\n",
      "WARNING: Method definition check_is(Array{String, 1}, Array{String, 1}) in module Kwat at /Users/kwat/code/Kwat/src/Support/check_is.jl:1 overwritten at /Users/kwat/code/Kwat/src/Support/check_is.jl:1.\n",
      "  ** incremental compilation may be fatally broken for this module **\n",
      "\n",
      "WARNING: Method definition check_is(Base.Dict{String, Int64}, Array{String, 1}) in module Kwat at /Users/kwat/code/Kwat/src/Support/check_is.jl:9 overwritten at /Users/kwat/code/Kwat/src/Support/check_is.jl:9.\n",
      "  ** incremental compilation may be fatally broken for this module **\n",
      "\n",
      "WARNING: Method definition sort_like(Array{T, 1} where T...) in module Kwat at /Users/kwat/code/Kwat/src/Support/sort_like.jl:1 overwritten at /Users/kwat/code/Kwat/src/Support/sort_like.jl:1.\n",
      "  ** incremental compilation may be fatally broken for this module **\n",
      "\n",
      "WARNING: Method definition sort_like##kw(Any, typeof(Kwat.sort_like), Array{T, 1} where T...) in module Kwat at /Users/kwat/code/Kwat/src/Support/sort_like.jl:1 overwritten at /Users/kwat/code/Kwat/src/Support/sort_like.jl:1.\n",
      "  ** incremental compilation may be fatally broken for this module **\n",
      "\n",
      "WARNING: Method definition score_set(Array{String, 1}, Array{Float64, 1}, Array{String, 1}) in module Kwat at /Users/kwat/code/Kwat/src/FeatureSetEnrichment/score_set.jl:7 overwritten at /Users/kwat/code/Kwat/src/FeatureSetEnrichment/score_set.jl:7.\n",
      "  ** incremental compilation may be fatally broken for this module **\n",
      "\n",
      "WARNING: Method definition score_set##kw(Any, typeof(Kwat.score_set), Array{String, 1}, Array{Float64, 1}, Array{String, 1}) in module Kwat at /Users/kwat/code/Kwat/src/FeatureSetEnrichment/score_set.jl:7 overwritten at /Users/kwat/code/Kwat/src/FeatureSetEnrichment/score_set.jl:7.\n",
      "  ** incremental compilation may be fatally broken for this module **\n",
      "\n",
      "WARNING: Method definition score_set(Array{String, 1}, Array{Float64, 1}, Base.Dict{String, Array{String, 1}}) in module Kwat at /Users/kwat/code/Kwat/src/FeatureSetEnrichment/score_set.jl:33 overwritten at /Users/kwat/code/Kwat/src/FeatureSetEnrichment/score_set.jl:33.\n",
      "  ** incremental compilation may be fatally broken for this module **\n",
      "\n",
      "WARNING: Method definition score_set##kw(Any, typeof(Kwat.score_set), Array{String, 1}, Array{Float64, 1}, Base.Dict{String, Array{String, 1}}) in module Kwat at /Users/kwat/code/Kwat/src/FeatureSetEnrichment/score_set.jl:33 overwritten at /Users/kwat/code/Kwat/src/FeatureSetEnrichment/score_set.jl:33.\n",
      "  ** incremental compilation may be fatally broken for this module **\n",
      "\n",
      "WARNING: Method definition score_set(DataFrames.DataFrame, Base.Dict{String, Array{String, 1}}) in module Kwat at /Users/kwat/code/Kwat/src/FeatureSetEnrichment/score_set.jl:74 overwritten at /Users/kwat/code/Kwat/src/FeatureSetEnrichment/score_set.jl:74.\n",
      "  ** incremental compilation may be fatally broken for this module **\n",
      "\n",
      "WARNING: Method definition score_set##kw(Any, typeof(Kwat.score_set), DataFrames.DataFrame, Base.Dict{String, Array{String, 1}}) in module Kwat at /Users/kwat/code/Kwat/src/FeatureSetEnrichment/score_set.jl:74 overwritten at /Users/kwat/code/Kwat/src/FeatureSetEnrichment/score_set.jl:74.\n",
      "  ** incremental compilation may be fatally broken for this module **\n",
      "\n",
      "WARNING: Method definition score_set(String, Array{String, 1}, String) in module Kwat at /Users/kwat/code/Kwat/src/FeatureSetEnrichment/score_set.jl:106 overwritten at /Users/kwat/code/Kwat/src/FeatureSetEnrichment/score_set.jl:106.\n",
      "  ** incremental compilation may be fatally broken for this module **\n",
      "\n",
      "WARNING: Method definition sort_like(Array{T, 1} where T...) in module Kwat at /Users/kwat/code/Kwat/src/Support/sort_like.jl:1 overwritten at /Users/kwat/code/Kwat/src/Support/sort_like.jl:1.\n",
      "  ** incremental compilation may be fatally broken for this module **\n",
      "\n",
      "WARNING: Method definition sort_like##kw(Any, typeof(Kwat.sort_like), Array{T, 1} where T...) in module Kwat at /Users/kwat/code/Kwat/src/Support/sort_like.jl:1 overwritten at /Users/kwat/code/Kwat/src/Support/sort_like.jl:1.\n",
      "  ** incremental compilation may be fatally broken for this module **\n",
      "\n",
      "WARNING: Method definition read_gmt(String) in module Kwat at /Users/kwat/code/Kwat/src/GCTGMT/read_gmt.jl:1 overwritten at /Users/kwat/code/Kwat/src/GCTGMT/read_gmt.jl:1.\n",
      "  ** incremental compilation may be fatally broken for this module **\n",
      "\n",
      "WARNING: Method definition read_gmt(Array{String, 1}) in module Kwat at /Users/kwat/code/Kwat/src/GCTGMT/read_gmt.jl:23 overwritten at /Users/kwat/code/Kwat/src/GCTGMT/read_gmt.jl:23.\n",
      "  ** incremental compilation may be fatally broken for this module **\n",
      "\n",
      "WARNING: Method definition compute_ided(Array{Float64, 1}, Array{Float64, 1}) in module Kwat at /Users/kwat/code/Kwat/src/Information/compute_ided.jl:1 overwritten at /Users/kwat/code/Kwat/src/Information/compute_ided.jl:1.\n",
      "  ** incremental compilation may be fatally broken for this module **\n",
      "\n",
      "WARNING: Method definition compute_ides(Array{Float64, 1}, Array{Float64, 1}) in module Kwat at /Users/kwat/code/Kwat/src/Information/compute_ides.jl:1 overwritten at /Users/kwat/code/Kwat/src/Information/compute_ides.jl:1.\n",
      "  ** incremental compilation may be fatally broken for this module **\n",
      "\n",
      "WARNING: Method definition compute_idrd(Array{Float64, 1}, Array{Float64, 1}, Array{Float64, 1}) in module Kwat at /Users/kwat/code/Kwat/src/Information/compute_idrd.jl:1 overwritten at /Users/kwat/code/Kwat/src/Information/compute_idrd.jl:1.\n",
      "  ** incremental compilation may be fatally broken for this module **\n",
      "\n",
      "WARNING: Method definition compute_idrd(Array{Float64, 1}, Array{Float64, 1}) in module Kwat at /Users/kwat/code/Kwat/src/Information/compute_idrd.jl:11 overwritten at /Users/kwat/code/Kwat/src/Information/compute_idrd.jl:11.\n",
      "  ** incremental compilation may be fatally broken for this module **\n",
      "\n",
      "WARNING: Method definition compute_idrs(Array{Float64, 1}, Array{Float64, 1}, Array{Float64, 1}) in module Kwat at /Users/kwat/code/Kwat/src/Information/compute_idrs.jl:1 overwritten at /Users/kwat/code/Kwat/src/Information/compute_idrs.jl:1.\n",
      "  ** incremental compilation may be fatally broken for this module **\n",
      "\n",
      "WARNING: Method definition compute_idrs(Array{Float64, 1}, Array{Float64, 1}) in module Kwat at /Users/kwat/code/Kwat/src/Information/compute_idrs.jl:11 overwritten at /Users/kwat/code/Kwat/src/Information/compute_idrs.jl:11.\n",
      "  ** incremental compilation may be fatally broken for this module **\n",
      "\n",
      "WARNING: Method definition compute_kld(Array{Float64, 1}, Array{Float64, 1}) in module Kwat at /Users/kwat/code/Kwat/src/Information/compute_kld.jl:1 overwritten at /Users/kwat/code/Kwat/src/Information/compute_kld.jl:1.\n",
      "  ** incremental compilation may be fatally broken for this module **\n",
      "\n",
      "┌ Warning: Package Kwat does not have Statistics in its dependencies:\n",
      "│ - If you have Kwat checked out for development and have\n",
      "│   added Statistics as a dependency but haven't updated your primary\n",
      "│   environment's manifest file, try `Pkg.resolve()`.\n",
      "│ - Otherwise you may need to report an issue with Kwat\n",
      "└ Loading Statistics into Kwat from project dependency, future warnings for Kwat are suppressed.\n",
      "WARNING: Method definition plot_x_y(Array{Array{Float64, 1}, 1}, Array{Array{Float64, 1}, 1}) in module Kwat at /Users/kwat/code/Kwat/src/Plot/plot_x_y.jl:3 overwritten at /Users/kwat/code/Kwat/src/Plot/plot_x_y.jl:3.\n",
      "  ** incremental compilation may be fatally broken for this module **\n",
      "\n",
      "WARNING: Method definition plot_x_y##kw(Any, typeof(Kwat.plot_x_y), Array{Array{Float64, 1}, 1}, Array{Array{Float64, 1}, 1}) in module Kwat at /Users/kwat/code/Kwat/src/Plot/plot_x_y.jl:3 overwritten at /Users/kwat/code/Kwat/src/Plot/plot_x_y.jl:3.\n",
      "  ** incremental compilation may be fatally broken for this module **\n",
      "\n",
      "WARNING: Method definition plot_x_y(Array{Array{Float64, 1}, 1}) in module Kwat at /Users/kwat/code/Kwat/src/Plot/plot_x_y.jl:82 overwritten at /Users/kwat/code/Kwat/src/Plot/plot_x_y.jl:82.\n",
      "  ** incremental compilation may be fatally broken for this module **\n",
      "\n",
      "WARNING: Method definition plot_x_y##kw(Any, typeof(Kwat.plot_x_y), Array{Array{Float64, 1}, 1}) in module Kwat at /Users/kwat/code/Kwat/src/Plot/plot_x_y.jl:82 overwritten at /Users/kwat/code/Kwat/src/Plot/plot_x_y.jl:82.\n",
      "  ** incremental compilation may be fatally broken for this module **\n",
      "\n",
      "WARNING: Method definition check_is(Array{String, 1}, Array{String, 1}) in module Kwat at /Users/kwat/code/Kwat/src/Support/check_is.jl:1 overwritten at /Users/kwat/code/Kwat/src/Support/check_is.jl:1.\n",
      "  ** incremental compilation may be fatally broken for this module **\n",
      "\n",
      "WARNING: Method definition check_is(Base.Dict{String, Int64}, Array{String, 1}) in module Kwat at /Users/kwat/code/Kwat/src/Support/check_is.jl:9 overwritten at /Users/kwat/code/Kwat/src/Support/check_is.jl:9.\n",
      "  ** incremental compilation may be fatally broken for this module **\n",
      "\n",
      "WARNING: Method definition cumulate_sum_reverse(Array{Float64, 1}) in module Kwat at /Users/kwat/code/Kwat/src/Support/cumulate_sum_reverse.jl:1 overwritten at /Users/kwat/code/Kwat/src/Support/cumulate_sum_reverse.jl:1.\n",
      "  ** incremental compilation may be fatally broken for this module **\n",
      "\n",
      "WARNING: Method definition get_area(Array{Float64, 1}) in module Kwat at /Users/kwat/code/Kwat/src/Support/get_area.jl:1 overwritten at /Users/kwat/code/Kwat/src/Support/get_area.jl:1.\n",
      "  ** incremental compilation may be fatally broken for this module **\n",
      "\n",
      "WARNING: Method definition get_center(Float64, Float64) in module Kwat at /Users/kwat/code/Kwat/src/Support/get_center.jl:1 overwritten at /Users/kwat/code/Kwat/src/Support/get_center.jl:1.\n",
      "  ** incremental compilation may be fatally broken for this module **\n",
      "\n",
      "WARNING: Method definition get_extreme(Array{Float64, 1}) in module Kwat at /Users/kwat/code/Kwat/src/Support/get_extreme.jl:1 overwritten at /Users/kwat/code/Kwat/src/Support/get_extreme.jl:1.\n",
      "  ** incremental compilation may be fatally broken for this module **\n",
      "\n",
      "WARNING: Method definition list_card() in module Kwat at /Users/kwat/code/Kwat/src/Support/list_card.jl:1 overwritten at /Users/kwat/code/Kwat/src/Support/list_card.jl:1.\n",
      "  ** incremental compilation may be fatally broken for this module **\n",
      "\n",
      "WARNING: Method definition sort_like(Array{T, 1} where T...) in module Kwat at /Users/kwat/code/Kwat/src/Support/sort_like.jl:1 overwritten at /Users/kwat/code/Kwat/src/Support/sort_like.jl:1.\n",
      "  ** incremental compilation may be fatally broken for this module **\n",
      "\n",
      "WARNING: Method definition sort_like##kw(Any, typeof(Kwat.sort_like), Array{T, 1} where T...) in module Kwat at /Users/kwat/code/Kwat/src/Support/sort_like.jl:1 overwritten at /Users/kwat/code/Kwat/src/Support/sort_like.jl:1.\n",
      "  ** incremental compilation may be fatally broken for this module **\n",
      "\n"
     ]
    },
    {
     "data": {
      "text/html": [
       "<script>\n",
       "// Immediately-invoked-function-expression to avoid global variables.\n",
       "(function() {\n",
       "    var warning_div = document.getElementById(\"webio-warning-958229652727233664\");\n",
       "    var hide = function () {\n",
       "        var script = document.getElementById(\"webio-setup-1948993466081197819\");\n",
       "        var parent = script && script.parentElement;\n",
       "        var grandparent = parent && parent.parentElement;\n",
       "        if (grandparent) {\n",
       "            grandparent.style.display = \"none\";\n",
       "        }\n",
       "        warning_div.style.display = \"none\";\n",
       "    };\n",
       "    if (typeof Jupyter !== \"undefined\") {\n",
       "        console.log(\"WebIO detected Jupyter notebook environment.\");\n",
       "        // Jupyter notebook.\n",
       "        var extensions = (\n",
       "            Jupyter\n",
       "            && Jupyter.notebook.config.data\n",
       "            && Jupyter.notebook.config.data.load_extensions\n",
       "        );\n",
       "        if (extensions && extensions[\"webio-jupyter-notebook\"]) {\n",
       "            // Extension already loaded.\n",
       "            console.log(\"Jupyter WebIO nbextension detected; not loading ad-hoc.\");\n",
       "            hide();\n",
       "            return;\n",
       "        }\n",
       "    } else if (window.location.pathname.includes(\"/lab\")) {\n",
       "        // Guessing JupyterLa\n",
       "        console.log(\"Jupyter Lab detected; make sure the @webio/jupyter-lab-provider labextension is installed.\");\n",
       "        hide();\n",
       "        return;\n",
       "    }\n",
       "})();\n",
       "\n",
       "</script>\n",
       "<p\n",
       "    id=\"webio-warning-958229652727233664\"\n",
       "    class=\"output_text output_stderr\"\n",
       "    style=\"padding: 1em; font-weight: bold;\"\n",
       ">\n",
       "    Unable to load WebIO. Please make sure WebIO works for your Jupyter client.\n",
       "    For troubleshooting, please see <a href=\"https://juliagizmos.github.io/WebIO.jl/latest/providers/ijulia/\">\n",
       "    the WebIO/IJulia documentation</a>.\n",
       "    <!-- TODO: link to installation docs. -->\n",
       "</p>\n"
      ],
      "text/plain": [
       "HTML{String}(\"<script>\\n// Immediately-invoked-function-expression to avoid global variables.\\n(function() {\\n    var warning_div = document.getElementById(\\\"webio-warning-958229652727233664\\\");\\n    var hide = function () {\\n        var script = document.getElementById(\\\"webio-setup-1948993466081197819\\\");\\n        var parent = script && script.parentElement;\\n        var grandparent = parent && parent.parentElement;\\n        if (grandparent) {\\n            grandparent.style.display = \\\"none\\\";\\n        }\\n        warning_div.style.display = \\\"none\\\";\\n    };\\n    if (typeof Jupyter !== \\\"undefined\\\") {\\n        console.log(\\\"WebIO detected Jupyter notebook environment.\\\");\\n        // Jupyter notebook.\\n        var extensions = (\\n            Jupyter\\n            && Jupyter.notebook.config.data\\n            && Jupyter.notebook.config.data.load_extensions\\n        );\\n        if (extensions && extensions[\\\"webio-jupyter-notebook\\\"]) {\\n            // Extension already loaded.\\n            console.log(\\\"Jupyter WebIO nbextension detected; not loading ad-hoc.\\\");\\n            hide();\\n            return;\\n        }\\n    } else if (window.location.pathname.includes(\\\"/lab\\\")) {\\n        // Guessing JupyterLa\\n        console.log(\\\"Jupyter Lab detected; make sure the @webio/jupyter-lab-provider labextension is installed.\\\");\\n        hide();\\n        return;\\n    }\\n})();\\n\\n</script>\\n<p\\n    id=\\\"webio-warning-958229652727233664\\\"\\n    class=\\\"output_text output_stderr\\\"\\n    style=\\\"padding: 1em; font-weight: bold;\\\"\\n>\\n    Unable to load WebIO. Please make sure WebIO works for your Jupyter client.\\n    For troubleshooting, please see <a href=\\\"https://juliagizmos.github.io/WebIO.jl/latest/providers/ijulia/\\\">\\n    the WebIO/IJulia documentation</a>.\\n    <!-- TODO: link to installation docs. -->\\n</p>\\n\")"
      ]
     },
     "metadata": {},
     "output_type": "display_data"
    }
   ],
   "source": [
    "using Kwat"
   ]
  },
  {
   "cell_type": "markdown",
   "metadata": {},
   "source": [
    "## list_card"
   ]
  },
  {
   "cell_type": "code",
   "execution_count": 3,
   "metadata": {},
   "outputs": [
    {
     "data": {
      "text/plain": [
       "13-element Array{String,1}:\n",
       " \"A\"\n",
       " \"2\"\n",
       " \"3\"\n",
       " \"4\"\n",
       " \"5\"\n",
       " \"6\"\n",
       " \"7\"\n",
       " \"8\"\n",
       " \"9\"\n",
       " \"X\"\n",
       " \"J\"\n",
       " \"Q\"\n",
       " \"K\""
      ]
     },
     "execution_count": 3,
     "metadata": {},
     "output_type": "execute_result"
    }
   ],
   "source": [
    "c_ = list_card()"
   ]
  },
  {
   "cell_type": "markdown",
   "metadata": {},
   "source": [
    "## check_is"
   ]
  },
  {
   "cell_type": "code",
   "execution_count": 4,
   "metadata": {},
   "outputs": [
    {
     "data": {
      "text/plain": [
       "13-element Array{Float64,1}:\n",
       " 1.0\n",
       " 1.0\n",
       " 0.0\n",
       " 0.0\n",
       " 0.0\n",
       " 0.0\n",
       " 0.0\n",
       " 0.0\n",
       " 0.0\n",
       " 0.0\n",
       " 0.0\n",
       " 0.0\n",
       " 0.0"
      ]
     },
     "execution_count": 4,
     "metadata": {},
     "output_type": "execute_result"
    }
   ],
   "source": [
    "check_is(c_, [\"A\", \"2\"])"
   ]
  },
  {
   "cell_type": "code",
   "execution_count": 5,
   "metadata": {},
   "outputs": [
    {
     "data": {
      "text/plain": [
       "13-element Array{Float64,1}:\n",
       " 0.0\n",
       " 0.0\n",
       " 0.0\n",
       " 0.0\n",
       " 0.0\n",
       " 0.0\n",
       " 0.0\n",
       " 1.0\n",
       " 0.0\n",
       " 0.0\n",
       " 1.0\n",
       " 0.0\n",
       " 0.0"
      ]
     },
     "execution_count": 5,
     "metadata": {},
     "output_type": "execute_result"
    }
   ],
   "source": [
    "check_is(c_, [\"\", \"8\", \"J\"])"
   ]
  },
  {
   "cell_type": "markdown",
   "metadata": {},
   "source": [
    "## convert_vector_of_vector_to_matrixt"
   ]
  },
  {
   "cell_type": "code",
   "execution_count": 6,
   "metadata": {},
   "outputs": [
    {
     "data": {
      "text/plain": [
       "2×3 Array{Float64,2}:\n",
       " 1.0  2.0  3.0\n",
       " 4.0  5.0  6.0"
      ]
     },
     "execution_count": 6,
     "metadata": {},
     "output_type": "execute_result"
    }
   ],
   "source": [
    "convert_vector_of_vector_to_matrix([Float64.([1, 2, 3]), Float64.([4, 5, 6])])"
   ]
  },
  {
   "cell_type": "markdown",
   "metadata": {},
   "source": [
    "## cumulate_sum_reverse"
   ]
  },
  {
   "cell_type": "code",
   "execution_count": 7,
   "metadata": {},
   "outputs": [
    {
     "data": {
      "text/plain": [
       "10-element Array{Float64,1}:\n",
       " 55.0\n",
       " 54.0\n",
       " 52.0\n",
       " 49.0\n",
       " 45.0\n",
       " 40.0\n",
       " 34.0\n",
       " 27.0\n",
       " 19.0\n",
       " 10.0"
      ]
     },
     "execution_count": 7,
     "metadata": {},
     "output_type": "execute_result"
    }
   ],
   "source": [
    "cumulate_sum_reverse(convert.(Float64, 1:10))"
   ]
  },
  {
   "cell_type": "markdown",
   "metadata": {},
   "source": [
    "## get_area"
   ]
  },
  {
   "cell_type": "code",
   "execution_count": 8,
   "metadata": {},
   "outputs": [
    {
     "data": {
      "text/plain": [
       "0.5"
      ]
     },
     "execution_count": 8,
     "metadata": {},
     "output_type": "execute_result"
    }
   ],
   "source": [
    "get_area(Float64.([-1, 0, 1, 2]))"
   ]
  },
  {
   "cell_type": "code",
   "execution_count": 9,
   "metadata": {},
   "outputs": [
    {
     "data": {
      "text/plain": [
       "0.0"
      ]
     },
     "execution_count": 9,
     "metadata": {},
     "output_type": "execute_result"
    }
   ],
   "source": [
    "get_area(Float64.([-2, -1, 0, 0, 1, 2]))"
   ]
  },
  {
   "cell_type": "markdown",
   "metadata": {},
   "source": [
    "## get_center"
   ]
  },
  {
   "cell_type": "code",
   "execution_count": 10,
   "metadata": {},
   "outputs": [
    {
     "data": {
      "text/plain": [
       "50.0"
      ]
     },
     "execution_count": 10,
     "metadata": {},
     "output_type": "execute_result"
    }
   ],
   "source": [
    "get_center(0.0, 100.0)"
   ]
  },
  {
   "cell_type": "markdown",
   "metadata": {},
   "source": [
    "## get_extreme_and_area"
   ]
  },
  {
   "cell_type": "code",
   "execution_count": 11,
   "metadata": {},
   "outputs": [
    {
     "data": {
      "text/plain": [
       "2.0"
      ]
     },
     "execution_count": 11,
     "metadata": {},
     "output_type": "execute_result"
    }
   ],
   "source": [
    "get_extreme(Float64.([-1, 0, 0, 1, 2]))"
   ]
  },
  {
   "cell_type": "code",
   "execution_count": 12,
   "metadata": {},
   "outputs": [
    {
     "name": "stdout",
     "output_type": "stream",
     "text": [
      "The minimum and the maximum have the same absolute value; returning the minimum.\n"
     ]
    },
    {
     "data": {
      "text/plain": [
       "-2.0"
      ]
     },
     "execution_count": 12,
     "metadata": {},
     "output_type": "execute_result"
    }
   ],
   "source": [
    "get_extreme(Float64.([-2, -1, 0, 0, 1, 2]))"
   ]
  },
  {
   "cell_type": "markdown",
   "metadata": {},
   "source": [
    "## merge_recursively"
   ]
  },
  {
   "cell_type": "code",
   "execution_count": 13,
   "metadata": {},
   "outputs": [],
   "source": [
    "using JSON"
   ]
  },
  {
   "cell_type": "code",
   "execution_count": 14,
   "metadata": {},
   "outputs": [
    {
     "name": "stdout",
     "output_type": "stream",
     "text": [
      "c => (1) 2\n",
      "{\n",
      "  \"1a\": 1,\n",
      "  \"2a\": 2,\n",
      "  \"b\": {\n",
      "    \"1d\": 1,\n",
      "    \"c\": 2,\n",
      "    \"2d\": 2\n",
      "  }\n",
      "}\n",
      "\n",
      "c => (2) 1\n",
      "{\n",
      "  \"1a\": 1,\n",
      "  \"2a\": 2,\n",
      "  \"b\": {\n",
      "    \"1d\": 1,\n",
      "    \"c\": 1,\n",
      "    \"2d\": 2\n",
      "  }\n",
      "}\n",
      "\n"
     ]
    }
   ],
   "source": [
    "d1 = Dict(\"1a\" => 1, \"b\" => Dict(\"c\" => 1, \"1d\" => 1))\n",
    "\n",
    "d2 = Dict(\"2a\" => 2, \"b\" => Dict(\"c\" => 2, \"2d\" => 2))\n",
    "\n",
    "println(json(merge_recursively(d1, d2), 2))\n",
    "\n",
    "println(json(merge_recursively(d2, d1), 2))"
   ]
  },
  {
   "cell_type": "markdown",
   "metadata": {},
   "source": [
    "## read_directory"
   ]
  },
  {
   "cell_type": "code",
   "execution_count": 15,
   "metadata": {},
   "outputs": [
    {
     "name": "stdout",
     "output_type": "stream",
     "text": [
      "[\"/Users/kwat/Desktop\", \"/Users/kwat/Documents\", \"/Users/kwat/Downloads\", \"/Users/kwat/Library\", \"/Users/kwat/Movies\", \"/Users/kwat/Music\", \"/Users/kwat/Pictures\", \"/Users/kwat/Public\", \"/Users/kwat/code\", \"/Users/kwat/iCloud\", \"/Users/kwat/medicine\"]\n",
      "[\"Desktop\", \"Documents\", \"Downloads\", \"Library\", \"Movies\", \"Music\", \"Pictures\", \"Public\", \"code\", \"iCloud\", \"medicine\"]\n"
     ]
    }
   ],
   "source": [
    "println(read_directory(\"/Users/kwat/\"))\n",
    "\n",
    "println(read_directory(\"/Users/kwat/\"; join = false))"
   ]
  },
  {
   "cell_type": "markdown",
   "metadata": {},
   "source": [
    "## read_json"
   ]
  },
  {
   "cell_type": "code",
   "execution_count": 16,
   "metadata": {},
   "outputs": [
    {
     "name": "stdout",
     "output_type": "stream",
     "text": [
      "Dict{String,Any}(\"fruit\" => \"Apple\",\"color\" => \"Red\",\"size\" => \"Large\")\n",
      "Dict{String,Any}(\"quiz\" => Dict{String,Any}(\"sport\" => Dict{String,Any}(\"q1\" => Dict{String,Any}(\"options\" => Any[\"New York Bulls\", \"Los Angeles Kings\", \"Golden State Warriros\", \"Huston Rocket\"],\"question\" => \"Which one is correct team name in NBA?\",\"answer\" => \"Huston Rocket\")),\"maths\" => Dict{String,Any}(\"q1\" => Dict{String,Any}(\"options\" => Any[\"10\", \"11\", \"12\", \"13\"],\"question\" => \"5 + 7 = ?\",\"answer\" => \"12\"),\"q2\" => Dict{String,Any}(\"options\" => Any[\"1\", \"2\", \"3\", \"4\"],\"question\" => \"12 - 8 = ?\",\"answer\" => \"4\"))))\n"
     ]
    }
   ],
   "source": [
    "println(read_json(\"data/example_1.json\"))\n",
    "\n",
    "println(read_json(\"data/example_2.json\"))"
   ]
  },
  {
   "cell_type": "markdown",
   "metadata": {},
   "source": [
    "## shift_minimum"
   ]
  },
  {
   "cell_type": "code",
   "execution_count": 17,
   "metadata": {},
   "outputs": [
    {
     "name": "stdout",
     "output_type": "stream",
     "text": [
      "[-3.0, -2.0, -1.0, 0.0, 1.0, 2.0, 3.0]\n",
      "[-2.0, -1.0, 0.0, 1.0, 2.0, 3.0, 4.0]\n",
      "[-1.0, 0.0, 1.0, 2.0, 3.0, 4.0, 5.0]\n",
      "[0.0, 1.0, 2.0, 3.0, 4.0, 5.0, 6.0]\n",
      "[1.0, 2.0, 3.0, 4.0, 5.0, 6.0, 7.0]\n",
      "[2.0, 3.0, 4.0, 5.0, 6.0, 7.0, 8.0]\n",
      "[3.0, 4.0, 5.0, 6.0, 7.0, 8.0, 9.0]\n",
      "[1.0, 2.0, 3.0, 4.0, 5.0, 6.0, 7.0]\n"
     ]
    }
   ],
   "source": [
    "g = convert.(Float64, -3:3)\n",
    "\n",
    "for m in g\n",
    "\n",
    "    println(shift_minimum(g, m))\n",
    "\n",
    "end\n",
    "\n",
    "println(shift_minimum(g, \"0<\"))"
   ]
  },
  {
   "cell_type": "markdown",
   "metadata": {},
   "source": [
    "## sort_like"
   ]
  },
  {
   "cell_type": "code",
   "execution_count": 18,
   "metadata": {},
   "outputs": [],
   "source": [
    "v_ = [\"a\", \"e\", \"k\", \"t\"], [\"a\", \"k\", \"t\", \"w\"]\n",
    "\n",
    ";"
   ]
  },
  {
   "cell_type": "code",
   "execution_count": 19,
   "metadata": {},
   "outputs": [
    {
     "data": {
      "text/plain": [
       "3-element Array{Array{T,1} where T,1}:\n",
       " [1, 2, 3, 4]\n",
       " [\"k\", \"a\", \"t\", \"e\"]\n",
       " [\"t\", \"a\", \"w\", \"k\"]"
      ]
     },
     "execution_count": 19,
     "metadata": {},
     "output_type": "execute_result"
    }
   ],
   "source": [
    "sort_like([2, 4, 1, 3], v_...)"
   ]
  },
  {
   "cell_type": "code",
   "execution_count": 20,
   "metadata": {},
   "outputs": [
    {
     "data": {
      "text/plain": [
       "3-element Array{Array{T,1} where T,1}:\n",
       " [1, 2, 3, 4]\n",
       " [\"e\", \"t\", \"a\", \"k\"]\n",
       " [\"k\", \"w\", \"a\", \"t\"]"
      ]
     },
     "execution_count": 20,
     "metadata": {},
     "output_type": "execute_result"
    }
   ],
   "source": [
    "sort_like([3, 1, 4, 2], v_...)"
   ]
  },
  {
   "cell_type": "markdown",
   "metadata": {},
   "source": [
    "## sum_where"
   ]
  },
  {
   "cell_type": "code",
   "execution_count": 21,
   "metadata": {},
   "outputs": [
    {
     "data": {
      "text/plain": [
       "4.0"
      ]
     },
     "execution_count": 21,
     "metadata": {},
     "output_type": "execute_result"
    }
   ],
   "source": [
    "sum_where(convert.(Float64, [0, 1, 2, 3]), convert.(Float64, [0, 1, 0, 1]))"
   ]
  },
  {
   "cell_type": "markdown",
   "metadata": {},
   "source": [
    "## title"
   ]
  },
  {
   "cell_type": "code",
   "execution_count": 22,
   "metadata": {},
   "outputs": [
    {
     "name": "stdout",
     "output_type": "stream",
     "text": [
      "Aa\n",
      "Dna\n",
      "Hello World!\n"
     ]
    }
   ],
   "source": [
    "for s in (\"aa\", \"DNA\", \"Hello world!\")\n",
    "\n",
    "    println(title(s))\n",
    "\n",
    "end"
   ]
  }
 ],
 "metadata": {
  "kernelspec": {
   "display_name": "Julia 1.5.4",
   "language": "julia",
   "name": "julia-1.5"
  },
  "language_info": {
   "file_extension": ".jl",
   "mimetype": "application/julia",
   "name": "julia",
   "version": "1.5.4"
  }
 },
 "nbformat": 4,
 "nbformat_minor": 4
}
