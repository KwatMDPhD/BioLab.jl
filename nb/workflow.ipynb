{
 "cells": [
  {
   "cell_type": "code",
   "execution_count": null,
   "id": "b3325ba2-989b-48ae-b530-5d0f64147f9a",
   "metadata": {
    "execution": {
     "iopub.execute_input": "2021-10-14T18:39:20.880676Z",
     "iopub.status.busy": "2021-10-14T18:39:20.331871Z",
     "iopub.status.idle": "2021-10-14T18:39:34.519059Z",
     "shell.execute_reply": "2021-10-14T18:39:34.518457Z"
    }
   },
   "outputs": [],
   "source": [
    "using Revise\n",
    "using BenchmarkTools\n",
    "\n",
    "using Kwat"
   ]
  },
  {
   "cell_type": "markdown",
   "id": "740d7515",
   "metadata": {},
   "source": [
    "## read_setting"
   ]
  },
  {
   "cell_type": "code",
   "execution_count": null,
   "id": "77fd2463",
   "metadata": {},
   "outputs": [],
   "source": [
    "Kwat.workflow.read_setting(abspath(joinpath(\"data\", \"setting.json\")))"
   ]
  },
  {
   "cell_type": "markdown",
   "id": "2988a98a-d859-491b-83bd-0880462f2fcd",
   "metadata": {},
   "source": [
    "## get_path"
   ]
  },
  {
   "cell_type": "code",
   "execution_count": null,
   "id": "0b19cd60",
   "metadata": {
    "execution": {
     "iopub.execute_input": "2021-10-14T18:39:36.044404Z",
     "iopub.status.busy": "2021-10-14T18:39:34.520370Z",
     "iopub.status.idle": "2021-10-14T18:39:36.848678Z",
     "shell.execute_reply": "2021-10-14T18:39:36.848216Z"
    }
   },
   "outputs": [],
   "source": [
    "se = joinpath(\"directory\", \"workflow\", \"input\", \"setting.json\")\n",
    "\n",
    ";"
   ]
  },
  {
   "cell_type": "code",
   "execution_count": null,
   "id": "2973eab7",
   "metadata": {
    "execution": {
     "iopub.execute_input": "2021-10-14T18:39:36.850403Z",
     "iopub.status.busy": "2021-10-14T18:39:36.849905Z",
     "iopub.status.idle": "2021-10-14T18:39:37.339043Z",
     "shell.execute_reply": "2021-10-14T18:39:37.338654Z"
    }
   },
   "outputs": [],
   "source": [
    "Kwat.workflow.get_path(se)"
   ]
  },
  {
   "cell_type": "code",
   "execution_count": null,
   "id": "7f7af054",
   "metadata": {
    "execution": {
     "iopub.execute_input": "2021-10-14T18:39:37.340779Z",
     "iopub.status.busy": "2021-10-14T18:39:37.340278Z",
     "iopub.status.idle": "2021-10-14T18:39:38.124270Z",
     "shell.execute_reply": "2021-10-14T18:39:38.123860Z"
    }
   },
   "outputs": [],
   "source": [
    "for ip in [\"not_input\", \"INPUT\"]\n",
    "\n",
    "    try\n",
    "\n",
    "        Kwat.workflow.get_path(replace(se, \"input\" => ip))\n",
    "\n",
    "    catch er\n",
    "\n",
    "        println(er)\n",
    "\n",
    "    end\n",
    "\n",
    "end"
   ]
  }
 ],
 "metadata": {
  "@webio": {
   "lastCommId": "b0211d140e05423189de1ea55b20aa2e",
   "lastKernelId": "069fbd7c-8c3c-4fff-b2bd-51642347336e"
  },
  "kernelspec": {
   "display_name": "Julia 1.6.3",
   "language": "julia",
   "name": "julia-1.6"
  },
  "language_info": {
   "file_extension": ".jl",
   "mimetype": "application/julia",
   "name": "julia",
   "version": "1.6.3"
  }
 },
 "nbformat": 4,
 "nbformat_minor": 5
}
