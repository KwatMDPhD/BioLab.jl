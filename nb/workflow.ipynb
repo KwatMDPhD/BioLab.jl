{
 "cells": [
  {
   "cell_type": "code",
   "execution_count": null,
   "id": "b3325ba2-989b-48ae-b530-5d0f64147f9a",
   "metadata": {},
   "outputs": [],
   "source": [
    "using Kwat"
   ]
  },
  {
   "cell_type": "markdown",
   "id": "2988a98a-d859-491b-83bd-0880462f2fcd",
   "metadata": {},
   "source": [
    "## get_path"
   ]
  },
  {
   "cell_type": "code",
   "execution_count": null,
   "id": "2973eab7",
   "metadata": {},
   "outputs": [],
   "source": [
    "Kwat.workflow.get_path(joinpath(\"directory\", \"workflow\", \"input\", \"setting.json\"))"
   ]
  },
  {
   "cell_type": "code",
   "execution_count": null,
   "id": "7f7af054",
   "metadata": {},
   "outputs": [],
   "source": [
    "try\n",
    "\n",
    "    Kwat.workflow.get_path(joinpath(\"directory\", \"workflow\", \"not_input\", \"setting.json\"))\n",
    "\n",
    "catch er\n",
    "\n",
    "    er\n",
    "\n",
    "end"
   ]
  }
 ],
 "metadata": {
  "@webio": {
   "lastCommId": "9e67a8d2da3a4e4fab1de757d909f0f9",
   "lastKernelId": "0c37f7de-78dc-40b7-be66-16dd2447c573"
  },
  "kernelspec": {
   "display_name": "Julia 1.6.3",
   "language": "julia",
   "name": "julia-1.6"
  },
  "language_info": {
   "file_extension": ".jl",
   "mimetype": "application/julia",
   "name": "julia",
   "version": "1.6.3"
  }
 },
 "nbformat": 4,
 "nbformat_minor": 5
}
