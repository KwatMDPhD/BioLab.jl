{
 "cells": [
  {
   "cell_type": "code",
   "execution_count": null,
   "id": "b3325ba2-989b-48ae-b530-5d0f64147f9a",
   "metadata": {},
   "outputs": [],
   "source": [
    "using Kwat"
   ]
  },
  {
   "cell_type": "markdown",
   "id": "2988a98a-d859-491b-83bd-0880462f2fcd",
   "metadata": {},
   "source": [
    "## get_path"
   ]
  },
  {
   "cell_type": "code",
   "execution_count": null,
   "id": "0b19cd60",
   "metadata": {},
   "outputs": [],
   "source": [
    "se = joinpath(\"directory\", \"workflow\", \"input\", \"setting.json\")\n",
    "\n",
    ";"
   ]
  },
  {
   "cell_type": "code",
   "execution_count": null,
   "id": "2973eab7",
   "metadata": {},
   "outputs": [],
   "source": [
    "Kwat.workflow.get_path(se)"
   ]
  },
  {
   "cell_type": "code",
   "execution_count": null,
   "id": "7f7af054",
   "metadata": {},
   "outputs": [],
   "source": [
    "for ip in [\"not_input\", \"INPUT\"]\n",
    "\n",
    "    try\n",
    "\n",
    "        Kwat.workflow.get_path(replace(se, \"input\" => ip))\n",
    "\n",
    "    catch er\n",
    "\n",
    "        println(er)\n",
    "\n",
    "    end\n",
    "\n",
    "end"
   ]
  }
 ],
 "metadata": {
  "@webio": {
   "lastCommId": "19b74dbe31c8472d80b97980fffcd44c",
   "lastKernelId": "9d05bbba-8cef-4db3-a6d8-a38ef174ab61"
  },
  "kernelspec": {
   "display_name": "Julia 1.6.3",
   "language": "julia",
   "name": "julia-1.6"
  },
  "language_info": {
   "file_extension": ".jl",
   "mimetype": "application/julia",
   "name": "julia",
   "version": "1.6.3"
  }
 },
 "nbformat": 4,
 "nbformat_minor": 5
}
