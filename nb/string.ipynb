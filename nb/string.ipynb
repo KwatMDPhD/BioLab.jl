{
 "cells": [
  {
   "cell_type": "code",
   "execution_count": null,
   "id": "47db0034-3cde-4c8e-b313-a08bb73b0fc8",
   "metadata": {
    "execution": {
     "iopub.execute_input": "2021-10-14T18:36:37.911558Z",
     "iopub.status.busy": "2021-10-14T18:36:37.372556Z",
     "iopub.status.idle": "2021-10-14T18:36:51.326000Z",
     "shell.execute_reply": "2021-10-14T18:36:51.325430Z"
    }
   },
   "outputs": [],
   "source": [
    "using Revise\n",
    "using BenchmarkTools\n",
    "\n",
    "using Kwat"
   ]
  },
  {
   "cell_type": "markdown",
   "id": "f27cd482-162a-407b-b8c2-0004da45cde6",
   "metadata": {},
   "source": [
    "## replace"
   ]
  },
  {
   "cell_type": "code",
   "execution_count": null,
   "id": "55ad4d9e-e111-49b5-abd4-24d313c04b5f",
   "metadata": {
    "execution": {
     "iopub.execute_input": "2021-10-14T18:36:52.882489Z",
     "iopub.status.busy": "2021-10-14T18:36:51.327326Z",
     "iopub.status.idle": "2021-10-14T18:36:54.036749Z",
     "shell.execute_reply": "2021-10-14T18:36:54.037099Z"
    }
   },
   "outputs": [],
   "source": [
    "Kwat.string.replace(\n",
    "    \"Sanji, Zoro, and Nami.\",\n",
    "    [\"Sanji\" => \"Usoppu\", \"Zoro\" => \"Chopper\", \"Nami\" => \"Robin\"],\n",
    ")"
   ]
  },
  {
   "cell_type": "markdown",
   "id": "0e6442e4-6a84-4583-9247-4b3d280d85e2",
   "metadata": {},
   "source": [
    "## title"
   ]
  },
  {
   "cell_type": "code",
   "execution_count": null,
   "id": "e4efa3f8-bbdd-4719-b011-dae1b841ccf0",
   "metadata": {
    "execution": {
     "iopub.execute_input": "2021-10-14T18:36:54.039174Z",
     "iopub.status.busy": "2021-10-14T18:36:54.038675Z",
     "iopub.status.idle": "2021-10-14T18:36:54.119300Z",
     "shell.execute_reply": "2021-10-14T18:36:54.118858Z"
    }
   },
   "outputs": [],
   "source": [
    "for st in [\"aa\", \"DNA\", \"Hello world!\", \"SARS-COVID-2\"]\n",
    "\n",
    "    println(Kwat.string.title(st))\n",
    "\n",
    "end"
   ]
  },
  {
   "cell_type": "markdown",
   "id": "40e5f2d4",
   "metadata": {},
   "source": [
    "## get_longest_common_prefix"
   ]
  },
  {
   "cell_type": "markdown",
   "id": "fbd9a52f",
   "metadata": {},
   "source": [
    "## remove_longest_common_prefix"
   ]
  },
  {
   "cell_type": "code",
   "execution_count": null,
   "id": "8e6fd14f",
   "metadata": {},
   "outputs": [],
   "source": [
    "for st_ in [\n",
    "    [\"\", \"\", \"\"],\n",
    "    [\"kate\"],\n",
    "    [\"kate\", \"kwat\"],\n",
    "    [\"kate\", \"kwat\", \"kazakh\"],\n",
    "    [\"a\", \"ab\", \"abc\"],\n",
    "    [\"abc\", \"ab\", \"a\"],\n",
    "]\n",
    "\n",
    "    println(\"-\"^80)\n",
    "\n",
    "    println(Kwat.string.get_longest_common_prefix(st_))\n",
    "\n",
    "    println(Kwat.string.remove_longest_common_prefix(st_))\n",
    "\n",
    "end"
   ]
  }
 ],
 "metadata": {
  "@webio": {
   "lastCommId": "8c86f33de2cc4353845d9a253c599126",
   "lastKernelId": "33b8d1f8-c7a3-4808-b6e3-b66e2a9b8485"
  },
  "kernelspec": {
   "display_name": "Julia 1.6.3",
   "language": "julia",
   "name": "julia-1.6"
  },
  "language_info": {
   "file_extension": ".jl",
   "mimetype": "application/julia",
   "name": "julia",
   "version": "1.6.3"
  }
 },
 "nbformat": 4,
 "nbformat_minor": 5
}
