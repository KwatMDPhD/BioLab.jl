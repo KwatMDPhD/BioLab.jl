{
 "cells": [
  {
   "cell_type": "code",
   "execution_count": null,
   "id": "47db0034-3cde-4c8e-b313-a08bb73b0fc8",
   "metadata": {
    "execution": {
     "iopub.execute_input": "2021-10-14T18:36:37.911558Z",
     "iopub.status.busy": "2021-10-14T18:36:37.372556Z",
     "iopub.status.idle": "2021-10-14T18:36:51.326000Z",
     "shell.execute_reply": "2021-10-14T18:36:51.325430Z"
    }
   },
   "outputs": [],
   "source": [
    "using Revise\n",
    "using BenchmarkTools\n",
    "\n",
    "using Kwat"
   ]
  },
  {
   "cell_type": "markdown",
   "id": "f27cd482-162a-407b-b8c2-0004da45cde6",
   "metadata": {},
   "source": [
    "## replace"
   ]
  },
  {
   "cell_type": "code",
   "execution_count": null,
   "id": "55ad4d9e-e111-49b5-abd4-24d313c04b5f",
   "metadata": {
    "execution": {
     "iopub.execute_input": "2021-10-14T18:36:52.882489Z",
     "iopub.status.busy": "2021-10-14T18:36:51.327326Z",
     "iopub.status.idle": "2021-10-14T18:36:54.036749Z",
     "shell.execute_reply": "2021-10-14T18:36:54.037099Z"
    }
   },
   "outputs": [],
   "source": [
    "Kwat.string.replace(\n",
    "    \"Sanji, Zoro, and Nami.\",\n",
    "    [\"Sanji\" => \"Usoppu\", \"Zoro\" => \"Chopper\", \"Nami\" => \"Robin\"],\n",
    ")"
   ]
  },
  {
   "cell_type": "markdown",
   "id": "0e6442e4-6a84-4583-9247-4b3d280d85e2",
   "metadata": {},
   "source": [
    "## title"
   ]
  },
  {
   "cell_type": "code",
   "execution_count": null,
   "id": "e4efa3f8-bbdd-4719-b011-dae1b841ccf0",
   "metadata": {
    "execution": {
     "iopub.execute_input": "2021-10-14T18:36:54.039174Z",
     "iopub.status.busy": "2021-10-14T18:36:54.038675Z",
     "iopub.status.idle": "2021-10-14T18:36:54.119300Z",
     "shell.execute_reply": "2021-10-14T18:36:54.118858Z"
    }
   },
   "outputs": [],
   "source": [
    "for st in [\"aa\", \"DNA\", \"Hello world!\", \"SARS-COVID-2\"]\n",
    "\n",
    "    println(Kwat.string.title(st))\n",
    "\n",
    "end"
   ]
  }
 ],
 "metadata": {
  "@webio": {
   "lastCommId": "06b5de0e1de1443b8e364a5f6deeae54",
   "lastKernelId": "9bfb49db-787a-48ba-bbd1-28f39e66dae5"
  },
  "kernelspec": {
   "display_name": "Julia 1.6.3",
   "language": "julia",
   "name": "julia-1.6"
  },
  "language_info": {
   "file_extension": ".jl",
   "mimetype": "application/julia",
   "name": "julia",
   "version": "1.6.3"
  }
 },
 "nbformat": 4,
 "nbformat_minor": 5
}
