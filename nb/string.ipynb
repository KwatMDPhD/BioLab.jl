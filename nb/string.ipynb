{
 "cells": [
  {
   "cell_type": "code",
   "execution_count": null,
   "id": "47db0034-3cde-4c8e-b313-a08bb73b0fc8",
   "metadata": {},
   "outputs": [],
   "source": [
    "using Kwat"
   ]
  },
  {
   "cell_type": "markdown",
   "id": "f27cd482-162a-407b-b8c2-0004da45cde6",
   "metadata": {},
   "source": [
    "## replace"
   ]
  },
  {
   "cell_type": "code",
   "execution_count": null,
   "id": "55ad4d9e-e111-49b5-abd4-24d313c04b5f",
   "metadata": {},
   "outputs": [],
   "source": [
    "Kwat.string.replace(\n",
    "    \"Sanji, Zoro, and Nami.\",\n",
    "    [\"Sanji\" => \"Usoppu\", \"Zoro\" => \"Chopper\", \"Nami\" => \"Robin\"],\n",
    ")"
   ]
  },
  {
   "cell_type": "markdown",
   "id": "0e6442e4-6a84-4583-9247-4b3d280d85e2",
   "metadata": {},
   "source": [
    "## title"
   ]
  },
  {
   "cell_type": "code",
   "execution_count": null,
   "id": "e4efa3f8-bbdd-4719-b011-dae1b841ccf0",
   "metadata": {},
   "outputs": [],
   "source": [
    "for st in [\"aa\", \"DNA\", \"Hello world!\", \"SARS-COVID-2\"]\n",
    "\n",
    "    println(Kwat.string.title(st))\n",
    "\n",
    "end"
   ]
  }
 ],
 "metadata": {
  "@webio": {
   "lastCommId": "1df2a5e676164eadac33e90605cc5e4d",
   "lastKernelId": "c4ede349-3d31-42d2-a136-b8220b2de95a"
  },
  "kernelspec": {
   "display_name": "Julia 1.6.3",
   "language": "julia",
   "name": "julia-1.6"
  },
  "language_info": {
   "file_extension": ".jl",
   "mimetype": "application/julia",
   "name": "julia",
   "version": "1.6.3"
  }
 },
 "nbformat": 4,
 "nbformat_minor": 5
}
