{
 "cells": [
  {
   "cell_type": "code",
   "execution_count": null,
   "id": "8faa45d2-c692-4f4c-85ab-962635de3266",
   "metadata": {
    "execution": {
     "iopub.execute_input": "2021-10-14T18:23:57.975041Z",
     "iopub.status.busy": "2021-10-14T18:23:57.359947Z",
     "iopub.status.idle": "2021-10-14T18:23:59.546575Z",
     "shell.execute_reply": "2021-10-14T18:23:59.546057Z"
    }
   },
   "outputs": [],
   "source": [
    "function write_line(io::IOStream, st::String)::Int64\n",
    "\n",
    "    return write(io, string(\n",
    "        st,\n",
    "        \"\n",
    "\n",
    "\",\n",
    "    ))\n",
    "\n",
    "end\n",
    "\n",
    ";"
   ]
  },
  {
   "cell_type": "code",
   "execution_count": null,
   "id": "a3544851",
   "metadata": {
    "execution": {
     "iopub.execute_input": "2021-10-14T18:23:59.548336Z",
     "iopub.status.busy": "2021-10-14T18:23:59.547825Z",
     "iopub.status.idle": "2021-10-14T18:23:59.560858Z",
     "shell.execute_reply": "2021-10-14T18:23:59.560454Z"
    }
   },
   "outputs": [],
   "source": [
    "sr = joinpath(\"..\", \"src\", \"\")\n",
    "\n",
    "mo = \"Kwat\"\n",
    "\n",
    ";"
   ]
  },
  {
   "cell_type": "code",
   "execution_count": null,
   "id": "d47546d5",
   "metadata": {
    "execution": {
     "iopub.execute_input": "2021-10-14T18:23:59.562578Z",
     "iopub.status.busy": "2021-10-14T18:23:59.562024Z",
     "iopub.status.idle": "2021-10-14T18:23:59.579753Z",
     "shell.execute_reply": "2021-10-14T18:23:59.579302Z"
    }
   },
   "outputs": [],
   "source": [
    "io = open(joinpath(sr, string(mo, \".jl\")), \"w\")\n",
    "\n",
    "write_line(io, string(\"module \", mo))\n",
    "\n",
    ";"
   ]
  },
  {
   "cell_type": "code",
   "execution_count": null,
   "id": "6b1f1f10",
   "metadata": {
    "execution": {
     "iopub.execute_input": "2021-10-14T18:23:59.582226Z",
     "iopub.status.busy": "2021-10-14T18:23:59.581368Z",
     "iopub.status.idle": "2021-10-14T18:23:59.610708Z",
     "shell.execute_reply": "2021-10-14T18:23:59.610205Z"
    }
   },
   "outputs": [],
   "source": [
    "mo_ = [\n",
    "    \"applying\",\n",
    "    \"bash\",\n",
    "    \"constant\",\n",
    "    \"dictionary\",\n",
    "    \"fastq\",\n",
    "    \"figure\",\n",
    "    \"gct\",\n",
    "    \"gmt\",\n",
    "    \"information\",\n",
    "    \"json\",\n",
    "    \"math\",\n",
    "    \"matrix_number\",\n",
    "    \"network\",\n",
    "    \"pandas\",\n",
    "    \"path\",\n",
    "    \"string\",\n",
    "    \"table\",\n",
    "    \"vector\",\n",
    "    \"vector_number\",\n",
    "    \"workflow\",\n",
    "    \"significance\",\n",
    "    \"feature_by_sample\",\n",
    "    \"feature_set_enrichment\",\n",
    "]\n",
    "\n",
    "mos_ = Set(mo_)\n",
    "\n",
    ";"
   ]
  },
  {
   "cell_type": "code",
   "execution_count": null,
   "id": "69b7dae5",
   "metadata": {
    "execution": {
     "iopub.execute_input": "2021-10-14T18:23:59.612596Z",
     "iopub.status.busy": "2021-10-14T18:23:59.612018Z",
     "iopub.status.idle": "2021-10-14T18:24:00.771947Z",
     "shell.execute_reply": "2021-10-14T18:24:00.771444Z"
    }
   },
   "outputs": [],
   "source": [
    "symdiff(Set([splitdir(pa)[end] for pa in readdir(sr, join = true) if isdir(pa)]), mos_)"
   ]
  },
  {
   "cell_type": "code",
   "execution_count": null,
   "id": "f7d0fd27",
   "metadata": {
    "execution": {
     "iopub.execute_input": "2021-10-14T18:24:00.773921Z",
     "iopub.status.busy": "2021-10-14T18:24:00.773331Z",
     "iopub.status.idle": "2021-10-14T18:24:00.872221Z",
     "shell.execute_reply": "2021-10-14T18:24:00.871710Z"
    }
   },
   "outputs": [],
   "source": [
    "symdiff(Set([splitext(na)[1] for na in readdir(\".\") if occursin(r\"^[a-z].+.ipynb$\", na)]), mos_)"
   ]
  },
  {
   "cell_type": "code",
   "execution_count": null,
   "id": "ddd1433e",
   "metadata": {
    "execution": {
     "iopub.execute_input": "2021-10-14T18:24:00.874080Z",
     "iopub.status.busy": "2021-10-14T18:24:00.873429Z",
     "iopub.status.idle": "2021-10-14T18:24:00.927906Z",
     "shell.execute_reply": "2021-10-14T18:24:00.927457Z"
    }
   },
   "outputs": [],
   "source": [
    "for mo in mo_\n",
    "\n",
    "    println(mo)\n",
    "\n",
    "    write_line(io, string(\"module \", mo))\n",
    "\n",
    "    for jl in readdir(joinpath(sr, mo, \"\"))\n",
    "        \n",
    "        if occursin(r\"[a-z].+.jl$\", jl)\n",
    "\n",
    "            write_line(io, string(\"\\tinclude(\\\"\", joinpath(mo, jl), \"\\\")\"))\n",
    "        \n",
    "        else\n",
    "            \n",
    "            println(\"  Skipping \", jl)\n",
    "            \n",
    "        end\n",
    "\n",
    "    end\n",
    "\n",
    "    write_line(io, \"end\")\n",
    "    \n",
    "end"
   ]
  },
  {
   "cell_type": "code",
   "execution_count": null,
   "id": "e742e28e",
   "metadata": {
    "execution": {
     "iopub.execute_input": "2021-10-14T18:24:00.929810Z",
     "iopub.status.busy": "2021-10-14T18:24:00.929180Z",
     "iopub.status.idle": "2021-10-14T18:24:00.942182Z",
     "shell.execute_reply": "2021-10-14T18:24:00.941635Z"
    }
   },
   "outputs": [],
   "source": [
    "write_line(io, \"end\")\n",
    "\n",
    "close(io)\n",
    "\n",
    ";"
   ]
  },
  {
   "cell_type": "code",
   "execution_count": null,
   "id": "ef4b686a-d67e-44ad-bfd9-d44a2d7176dc",
   "metadata": {
    "execution": {
     "iopub.execute_input": "2021-10-14T18:24:00.943866Z",
     "iopub.status.busy": "2021-10-14T18:24:00.943303Z",
     "iopub.status.idle": "2021-10-14T18:24:24.706754Z",
     "shell.execute_reply": "2021-10-14T18:24:24.706316Z"
    }
   },
   "outputs": [],
   "source": [
    "using Kwat"
   ]
  }
 ],
 "metadata": {
  "@webio": {
   "lastCommId": null,
   "lastKernelId": null
  },
  "kernelspec": {
   "display_name": "Julia 1.6.3",
   "language": "julia",
   "name": "julia-1.6"
  },
  "language_info": {
   "file_extension": ".jl",
   "mimetype": "application/julia",
   "name": "julia",
   "version": "1.6.3"
  }
 },
 "nbformat": 4,
 "nbformat_minor": 5
}
