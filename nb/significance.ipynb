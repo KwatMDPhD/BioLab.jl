{
 "cells": [
  {
   "cell_type": "code",
   "execution_count": null,
   "id": "2304d942",
   "metadata": {},
   "outputs": [],
   "source": [
    "using Revise\n",
    "using BenchmarkTools\n",
    "\n",
    "using Kwat"
   ]
  },
  {
   "cell_type": "markdown",
   "id": "3e810a3c",
   "metadata": {},
   "source": [
    "## get_family_wise_error_rate"
   ]
  },
  {
   "cell_type": "code",
   "execution_count": null,
   "id": "3fe01ad9",
   "metadata": {},
   "outputs": [],
   "source": [
    "for n_te in [1, 2, 3, 10, 100]\n",
    "\n",
    "    println(\"-\"^80)\n",
    "\n",
    "    println(n_te)\n",
    "\n",
    "    println(Kwat.significance.get_family_wise_error_rate(n_te))\n",
    "\n",
    "end"
   ]
  },
  {
   "cell_type": "markdown",
   "id": "ae685fd8",
   "metadata": {},
   "source": [
    "## get_p_value"
   ]
  },
  {
   "cell_type": "code",
   "execution_count": null,
   "id": "872652f7",
   "metadata": {},
   "outputs": [],
   "source": [
    "ra_ = collect(1.0:10)\n",
    "\n",
    ";"
   ]
  },
  {
   "cell_type": "code",
   "execution_count": null,
   "id": "db64cff5",
   "metadata": {},
   "outputs": [],
   "source": [
    "for fl in [1.0, 2.0, 9.0, 10.0]\n",
    "\n",
    "    println(\"-\"^80)\n",
    "\n",
    "    println(fl)\n",
    "\n",
    "    for si in [\"<\", \">\"]\n",
    "\n",
    "        println(si)\n",
    "\n",
    "        println(Kwat.significance.get_p_value(fl, ra_, si))\n",
    "\n",
    "    end\n",
    "\n",
    "end"
   ]
  },
  {
   "cell_type": "markdown",
   "id": "15008511",
   "metadata": {},
   "source": [
    "## adjust_p_value"
   ]
  },
  {
   "cell_type": "code",
   "execution_count": null,
   "id": "57840889",
   "metadata": {},
   "outputs": [],
   "source": [
    "pv_ = [0.001, 0.01, 0.03, 0.5]\n",
    "\n",
    "n_te = 6\n",
    "\n",
    ";"
   ]
  },
  {
   "cell_type": "code",
   "execution_count": null,
   "id": "c72db5fb",
   "metadata": {},
   "outputs": [],
   "source": [
    "for me in [\"bonferroni\", \"benjamini_hochberg\"]\n",
    "\n",
    "    println(\"-\"^80)\n",
    "\n",
    "    println(me)\n",
    "\n",
    "    println(Kwat.significance.adjust_p_value(pv_; me = me))\n",
    "\n",
    "    println(Kwat.significance.adjust_p_value(pv_, n_te; me = me))\n",
    "\n",
    "end"
   ]
  },
  {
   "cell_type": "code",
   "execution_count": null,
   "id": "1a25abbc",
   "metadata": {},
   "outputs": [],
   "source": [
    "for n_pv in [2, 4, 8, 10]\n",
    "\n",
    "    println(\"-\"^80)\n",
    "\n",
    "    pv_ = collect(range(0.001, 1; length = n_pv))\n",
    "\n",
    "    println(pv_)\n",
    "\n",
    "    println(Kwat.significance.adjust_p_value(pv_))\n",
    "\n",
    "end"
   ]
  },
  {
   "cell_type": "markdown",
   "id": "5f4fef5b",
   "metadata": {},
   "source": [
    "## get_p_value_and_adjust"
   ]
  },
  {
   "cell_type": "code",
   "execution_count": null,
   "id": "836a98f6",
   "metadata": {},
   "outputs": [],
   "source": [
    "fl_ = [0.0, 1, 8, 9]\n",
    "\n",
    "ra_ = collect(0.0:9)\n",
    "\n",
    "for si in [\"<\", \">\"]\n",
    "\n",
    "    println(Kwat.significance.get_p_value_and_adjust(fl_, ra_, si))\n",
    "\n",
    "end\n",
    "\n",
    "println(Kwat.significance.get_p_value_and_adjust(fl_, ra_))"
   ]
  },
  {
   "cell_type": "markdown",
   "id": "8ef63d69",
   "metadata": {},
   "source": [
    "## get_margin_or_error"
   ]
  },
  {
   "cell_type": "code",
   "execution_count": null,
   "id": "61203e2a",
   "metadata": {},
   "outputs": [],
   "source": [
    "for po = 0:8\n",
    "\n",
    "    println(\"-\"^80)\n",
    "\n",
    "    n_po = 10^po\n",
    "\n",
    "    println(n_po)\n",
    "\n",
    "    println(Kwat.significance.get_margin_of_error(randn(n_po)))\n",
    "\n",
    "end"
   ]
  }
 ],
 "metadata": {
  "@webio": {
   "lastCommId": "5fbffeb3708d40b88ed072b00bb24e3c",
   "lastKernelId": "fee9727d-4bdd-453f-b1ef-7ce76eda41c5"
  },
  "kernelspec": {
   "display_name": "Julia 1.6.3",
   "language": "julia",
   "name": "julia-1.6"
  },
  "language_info": {
   "file_extension": ".jl",
   "mimetype": "application/julia",
   "name": "julia",
   "version": "1.6.3"
  }
 },
 "nbformat": 4,
 "nbformat_minor": 5
}
