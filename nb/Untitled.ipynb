{
 "cells": [
  {
   "cell_type": "code",
   "execution_count": 1,
   "id": "8faa45d2-c692-4f4c-85ab-962635de3266",
   "metadata": {},
   "outputs": [
    {
     "data": {
      "text/plain": [
       "write_line (generic function with 1 method)"
      ]
     },
     "execution_count": 1,
     "metadata": {},
     "output_type": "execute_result"
    }
   ],
   "source": [
    "function write_line(io::IOStream, st::String)::Int64\n",
    "    \n",
    "    return write(io, \"$st\\n\\n\")\n",
    "    \n",
    "end"
   ]
  },
  {
   "cell_type": "code",
   "execution_count": 2,
   "id": "00ef0700-44af-452b-a30a-1442bbfc4071",
   "metadata": {},
   "outputs": [
    {
     "data": {
      "text/plain": [
       "write_module (generic function with 1 method)"
      ]
     },
     "execution_count": 2,
     "metadata": {},
     "output_type": "execute_result"
    }
   ],
   "source": [
    "function write_module(pa::String, li_::Vector{String})::Nothing\n",
    "    \n",
    "    println(\"Writing $pa\")\n",
    "    \n",
    "    io = open(pa, \"w\")\n",
    "    \n",
    "    mo = splitext(splitpath(pa)[end])[1]\n",
    "    \n",
    "    write_line(io, \"module $mo\")\n",
    "    \n",
    "    for li in li_\n",
    "        \n",
    "        write_line(io, li)\n",
    "        \n",
    "    end\n",
    "\n",
    "    write_line(io, \"end\")\n",
    "\n",
    "    close(io)\n",
    "    \n",
    "end"
   ]
  },
  {
   "cell_type": "code",
   "execution_count": 3,
   "id": "f4bb6bf3-2805-46ab-b74f-28c50cf0e446",
   "metadata": {},
   "outputs": [
    {
     "data": {
      "text/plain": [
       "remove (generic function with 1 method)"
      ]
     },
     "execution_count": 3,
     "metadata": {},
     "output_type": "execute_result"
    }
   ],
   "source": [
    "function remove(pa::String)::Nothing\n",
    "    \n",
    "    println(\"Removing $pa\")\n",
    "\n",
    "    rm(pa)\n",
    "\n",
    "end"
   ]
  },
  {
   "cell_type": "code",
   "execution_count": 4,
   "id": "aba6baac-4c90-4118-98ac-85992b60ff2f",
   "metadata": {},
   "outputs": [
    {
     "data": {
      "text/plain": [
       "\"../src/\""
      ]
     },
     "execution_count": 4,
     "metadata": {},
     "output_type": "execute_result"
    }
   ],
   "source": [
    "so = \"../src/\""
   ]
  },
  {
   "cell_type": "code",
   "execution_count": 5,
   "id": "e720d4b4-e9c6-48c6-9686-7c3bcad92883",
   "metadata": {},
   "outputs": [
    {
     "name": "stdout",
     "output_type": "stream",
     "text": [
      "Removing ../src/Kwat.jl\n",
      "Removing ../src/DataIO/DataIO.jl\n",
      "Removing ../src/FeatureSetEnrichment/FeatureSetEnrichment.jl\n",
      "Removing ../src/GCTGMT/GCTGMT.jl\n",
      "Removing ../src/Information/Information.jl\n",
      "Removing ../src/MDNetwork/MDNetwork.jl\n",
      "Removing ../src/Normalization/Normalization.jl\n",
      "Removing ../src/Plot/Plot.jl\n",
      "Removing ../src/Support/Support.jl\n"
     ]
    }
   ],
   "source": [
    "remove(joinpath(so, \"Kwat.jl\"))\n",
    "    \n",
    "for (ro, di_, fi_) in walkdir(so)\n",
    "    \n",
    "    for fi in fi_\n",
    "        \n",
    "        if splitpath(ro)[end] == splitext(fi)[1]\n",
    "            \n",
    "            remove(joinpath(ro, fi))\n",
    "            \n",
    "        end\n",
    "\n",
    "    end\n",
    "    \n",
    "end"
   ]
  },
  {
   "cell_type": "code",
   "execution_count": null,
   "id": "82259925-fb0b-47b9-a6f1-fcf720e98e23",
   "metadata": {},
   "outputs": [],
   "source": [
    "for (ro, di_, fi_) in walkdir(so)\n",
    "    \n",
    "    if ro == so\n",
    "        \n",
    "        continue\n",
    "        \n",
    "    end\n",
    "    \n",
    "    li_::Vector{String} = []\n",
    "    \n",
    "    for fi in fi_\n",
    "        \n",
    "        if endswith(fi, \".jl\")\n",
    "\n",
    "            push!(li_, \"include(\\\"$fi\\\")\")\n",
    "            \n",
    "        end\n",
    "\n",
    "    end\n",
    "    \n",
    "    pr = joinpath(ro, splitpath(ro)[end])\n",
    "    \n",
    "    write_module(\"$pr.jl\", li_)\n",
    "    \n",
    "end"
   ]
  },
  {
   "cell_type": "code",
   "execution_count": null,
   "id": "3f522215-580e-4c5b-85b8-61ceb0ead407",
   "metadata": {},
   "outputs": [],
   "source": [
    "mo_ = []\n",
    "\n",
    "for na in readdir(so)\n",
    "    \n",
    "    if !isdir(na)\n",
    "        \n",
    "        continue\n",
    "        \n",
    "    end\n",
    "    \n",
    "    push!(mo_, \"include(\\\"$na/na.jl\\\")\")\n",
    "    \n",
    "end\n",
    "\n",
    "write_module(\"../src/Kwat.jl\", Vector{String}(mo_))"
   ]
  }
 ],
 "metadata": {
  "kernelspec": {
   "display_name": "Julia 1.5.4",
   "language": "julia",
   "name": "julia-1.5"
  },
  "language_info": {
   "file_extension": ".jl",
   "mimetype": "application/julia",
   "name": "julia",
   "version": "1.5.4"
  }
 },
 "nbformat": 4,
 "nbformat_minor": 5
}
