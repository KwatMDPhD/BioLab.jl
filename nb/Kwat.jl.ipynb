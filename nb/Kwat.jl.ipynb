{
 "cells": [
  {
   "cell_type": "code",
   "execution_count": 5,
   "id": "607303b3-2f10-41d3-b11d-b8bba8041f89",
   "metadata": {},
   "outputs": [
    {
     "data": {
      "text/plain": [
       "write_line (generic function with 2 methods)"
      ]
     },
     "execution_count": 5,
     "metadata": {},
     "output_type": "execute_result"
    }
   ],
   "source": [
    "function write_line(io::IOStream)::Int64\n",
    "    \n",
    "    return write_line(io, \"\")\n",
    "    \n",
    "end\n",
    "\n",
    "function write_line(io::IOStream, st::String)::Int64\n",
    "    \n",
    "    return write(io, \"$st\\n\")\n",
    "    \n",
    "end"
   ]
  },
  {
   "cell_type": "code",
   "execution_count": 6,
   "id": "8a6289b9-ffca-4bd2-b909-663d392b2598",
   "metadata": {},
   "outputs": [],
   "source": [
    "io = open(\"../src/Kwat.jl\", \"w\")\n",
    "    \n",
    "write_line(io, \"module Kwat\")\n",
    "\n",
    "write_line(io)\n",
    "\n",
    "so = \"../src/\"\n",
    "\n",
    "for (ro, di_, fi_) in walkdir(so)\n",
    "    \n",
    "    if ro == so\n",
    "        \n",
    "        continue\n",
    "        \n",
    "    end\n",
    "    \n",
    "    gr = splitdir(ro)[2]\n",
    "        \n",
    "    for fi in fi_\n",
    "    \n",
    "        if endswith(fi, \".jl\")\n",
    "\n",
    "            write_line(io, \"include(\\\"$gr/$fi\\\")\")\n",
    "\n",
    "        end\n",
    "        \n",
    "    end\n",
    "    \n",
    "    write_line(io)\n",
    "    \n",
    "end\n",
    "\n",
    "write_line(io, \"end\")\n",
    "\n",
    "close(io)"
   ]
  }
 ],
 "metadata": {
  "kernelspec": {
   "display_name": "Julia 1.5.4",
   "language": "julia",
   "name": "julia-1.5"
  },
  "language_info": {
   "file_extension": ".jl",
   "mimetype": "application/julia",
   "name": "julia",
   "version": "1.5.4"
  }
 },
 "nbformat": 4,
 "nbformat_minor": 5
}
