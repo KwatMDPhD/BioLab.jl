{
 "cells": [
  {
   "cell_type": "code",
   "execution_count": null,
   "id": "8faa45d2-c692-4f4c-85ab-962635de3266",
   "metadata": {},
   "outputs": [],
   "source": [
    "function write_line(io::IOStream, st::String)::Int64\n",
    "    \n",
    "    return write(io, \"$st\\n\\n\")\n",
    "    \n",
    "end"
   ]
  },
  {
   "cell_type": "code",
   "execution_count": null,
   "id": "00ef0700-44af-452b-a30a-1442bbfc4071",
   "metadata": {},
   "outputs": [],
   "source": [
    "function write_module(pa::String, li_::Vector{String})::Nothing\n",
    "    \n",
    "    println(\"Writing $pa\")\n",
    "    \n",
    "    io = open(pa, \"w\")\n",
    "    \n",
    "    mo = splitext(splitpath(pa)[end])[1]\n",
    "    \n",
    "    write_line(io, \"module $mo\")\n",
    "    \n",
    "    for li in li_\n",
    "        \n",
    "        write_line(io, li)\n",
    "        \n",
    "    end\n",
    "\n",
    "    write_line(io, \"end\")\n",
    "\n",
    "    close(io)\n",
    "    \n",
    "end"
   ]
  },
  {
   "cell_type": "code",
   "execution_count": null,
   "id": "16206794-a82f-4083-8700-8a9a98c343b6",
   "metadata": {},
   "outputs": [],
   "source": [
    "kw = \"../src/Kwat.jl\""
   ]
  },
  {
   "cell_type": "code",
   "execution_count": null,
   "id": "dcdbdd95-f85a-453c-b238-bc0b46c7c75c",
   "metadata": {},
   "outputs": [],
   "source": [
    "io = open(kw, \"w\")\n",
    "\n",
    "sr, na = splitdir(kw)\n",
    "\n",
    "mo = splitext(na)[1]\n",
    "\n",
    "write_line(io, \"module $mo\")\n",
    "\n",
    "for pa in readdir(sr; join = true)\n",
    "    \n",
    "    if !isdir(pa)\n",
    "        \n",
    "        continue\n",
    "        \n",
    "    end\n",
    "    \n",
    "    mo = splitdir(pa)[end]\n",
    "        \n",
    "    write_line(io, \"module $mo\")\n",
    "    \n",
    "    for na in readdir(pa)\n",
    "    \n",
    "        if endswith(na, \".jl\")\n",
    "            \n",
    "            write_line(io, \"\\tinclude(\\\"$mo/$na\\\")\")\n",
    "            \n",
    "        end\n",
    "        \n",
    "    end\n",
    "    \n",
    "    write_line(io, \"end\")\n",
    "    \n",
    "end\n",
    "\n",
    "write_line(io, \"end\")\n",
    "\n",
    "close(io)"
   ]
  },
  {
   "cell_type": "code",
   "execution_count": null,
   "id": "ef4b686a-d67e-44ad-bfd9-d44a2d7176dc",
   "metadata": {},
   "outputs": [],
   "source": [
    "include(kw)"
   ]
  }
 ],
 "metadata": {
  "kernelspec": {
   "display_name": "Julia 1.5.4",
   "language": "julia",
   "name": "julia-1.5"
  },
  "language_info": {
   "file_extension": ".jl",
   "mimetype": "application/julia",
   "name": "julia",
   "version": "1.5.4"
  }
 },
 "nbformat": 4,
 "nbformat_minor": 5
}
