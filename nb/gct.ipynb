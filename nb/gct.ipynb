{
 "cells": [
  {
   "cell_type": "code",
   "execution_count": null,
   "id": "b3325ba2-989b-48ae-b530-5d0f64147f9a",
   "metadata": {},
   "outputs": [],
   "source": [
    "using Kwat"
   ]
  },
  {
   "cell_type": "markdown",
   "id": "2988a98a-d859-491b-83bd-0880462f2fcd",
   "metadata": {},
   "source": [
    "## read"
   ]
  },
  {
   "cell_type": "code",
   "execution_count": null,
   "id": "b0be1541",
   "metadata": {},
   "outputs": [],
   "source": [
    "Kwat.gct.read(joinpath(\"data\", \"a.gct\"))"
   ]
  },
  {
   "cell_type": "code",
   "execution_count": null,
   "id": "fe398c54",
   "metadata": {},
   "outputs": [],
   "source": [
    "Kwat.gct.read(joinpath(\"data\", \"a.gct\"); na = \"Heso\")"
   ]
  }
 ],
 "metadata": {
  "@webio": {
   "lastCommId": "63b17d22c10242278b64ffcf6746a567",
   "lastKernelId": "662268c0-7781-4096-a2e4-9721e00f0561"
  },
  "kernelspec": {
   "display_name": "Julia 1.6.3",
   "language": "julia",
   "name": "julia-1.6"
  },
  "language_info": {
   "file_extension": ".jl",
   "mimetype": "application/julia",
   "name": "julia",
   "version": "1.6.3"
  }
 },
 "nbformat": 4,
 "nbformat_minor": 5
}
