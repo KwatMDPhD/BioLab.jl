{
 "cells": [
  {
   "cell_type": "code",
   "execution_count": null,
   "id": "b3325ba2-989b-48ae-b530-5d0f64147f9a",
   "metadata": {
    "execution": {
     "iopub.execute_input": "2021-10-14T18:31:29.219692Z",
     "iopub.status.busy": "2021-10-14T18:31:28.675932Z",
     "iopub.status.idle": "2021-10-14T18:31:42.871583Z",
     "shell.execute_reply": "2021-10-14T18:31:42.871029Z"
    }
   },
   "outputs": [],
   "source": [
    "using Kwat"
   ]
  },
  {
   "cell_type": "markdown",
   "id": "2988a98a-d859-491b-83bd-0880462f2fcd",
   "metadata": {},
   "source": [
    "## read"
   ]
  },
  {
   "cell_type": "code",
   "execution_count": null,
   "id": "b348f3ad",
   "metadata": {
    "execution": {
     "iopub.execute_input": "2021-10-14T18:31:44.440091Z",
     "iopub.status.busy": "2021-10-14T18:31:42.872975Z",
     "iopub.status.idle": "2021-10-14T18:31:45.232466Z",
     "shell.execute_reply": "2021-10-14T18:31:45.232019Z"
    }
   },
   "outputs": [],
   "source": [
    "gc = joinpath(\"data\", \"a.gct\")\n",
    "\n",
    ";"
   ]
  },
  {
   "cell_type": "code",
   "execution_count": null,
   "id": "b0be1541",
   "metadata": {
    "execution": {
     "iopub.execute_input": "2021-10-14T18:31:45.235441Z",
     "iopub.status.busy": "2021-10-14T18:31:45.234433Z",
     "iopub.status.idle": "2021-10-14T18:32:08.067966Z",
     "shell.execute_reply": "2021-10-14T18:32:08.065420Z"
    }
   },
   "outputs": [],
   "source": [
    "Kwat.gct.read(gc)"
   ]
  },
  {
   "cell_type": "code",
   "execution_count": null,
   "id": "fe398c54",
   "metadata": {
    "execution": {
     "iopub.execute_input": "2021-10-14T18:32:08.070205Z",
     "iopub.status.busy": "2021-10-14T18:32:08.069555Z",
     "iopub.status.idle": "2021-10-14T18:32:08.336746Z",
     "shell.execute_reply": "2021-10-14T18:32:08.335126Z"
    }
   },
   "outputs": [],
   "source": [
    "Kwat.gct.read(gc; na = \"Heso\")"
   ]
  }
 ],
 "metadata": {
  "@webio": {
   "lastCommId": "4894c1cff68e431a8ef552f8528eca00",
   "lastKernelId": "6f3849f1-effd-4774-95f8-43d5b57c044e"
  },
  "kernelspec": {
   "display_name": "Julia 1.6.3",
   "language": "julia",
   "name": "julia-1.6"
  },
  "language_info": {
   "file_extension": ".jl",
   "mimetype": "application/julia",
   "name": "julia",
   "version": "1.6.3"
  }
 },
 "nbformat": 4,
 "nbformat_minor": 5
}
