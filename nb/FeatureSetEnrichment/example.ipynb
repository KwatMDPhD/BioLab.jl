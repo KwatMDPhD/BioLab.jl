{
 "cells": [
  {
   "cell_type": "code",
   "execution_count": 4,
   "metadata": {},
   "outputs": [
    {
     "name": "stderr",
     "output_type": "stream",
     "text": [
      "┌ Info: Precompiling BenchmarkTools [6e4b80f9-dd63-53aa-95a3-0cdb28fa8baf]\n",
      "└ @ Base loading.jl:1278\n"
     ]
    }
   ],
   "source": [
    "using Revise\n",
    "using BenchmarkTools"
   ]
  },
  {
   "cell_type": "code",
   "execution_count": 5,
   "metadata": {},
   "outputs": [],
   "source": [
    "using Kwat"
   ]
  },
  {
   "cell_type": "code",
   "execution_count": 6,
   "metadata": {},
   "outputs": [],
   "source": [
    "use_style!()\n",
    "\n",
    ";"
   ]
  },
  {
   "cell_type": "markdown",
   "metadata": {},
   "source": [
    "## make_benchmark"
   ]
  },
  {
   "cell_type": "code",
   "execution_count": 7,
   "metadata": {},
   "outputs": [
    {
     "data": {
      "text/plain": [
       "([\"A\", \"2\", \"3\", \"4\", \"5\", \"6\", \"7\", \"8\", \"9\", \"X\", \"J\", \"Q\", \"K\"], [-6.0, -5.0, -4.0, -3.0, -2.0, -1.0, 0.0, 1.0, 2.0, 3.0, 4.0, 5.0, 6.0], [\"A\", \"2\", \"K\"])"
      ]
     },
     "execution_count": 7,
     "metadata": {},
     "output_type": "execute_result"
    }
   ],
   "source": [
    "make_benchmark(\"card A2K\")"
   ]
  },
  {
   "cell_type": "code",
   "execution_count": 8,
   "metadata": {},
   "outputs": [
    {
     "ename": "LoadError",
     "evalue": "\u001b[91mMethodError: no method matching parse(::Type{Int64}, ::SubString{String})\u001b[39m\n\u001b[91mYou may have intended to import Base.parse\u001b[39m\n\u001b[91m\u001b[0mClosest candidates are:\u001b[39m\n\u001b[91m\u001b[0m  parse(\u001b[91m::Type{PlotlyBase.Plot}\u001b[39m, ::AbstractString) at /Users/kwat/.julia/packages/PlotlyBase/1bJ0U/src/json.jl:102\u001b[39m",
     "output_type": "error",
     "traceback": [
      "\u001b[91mMethodError: no method matching parse(::Type{Int64}, ::SubString{String})\u001b[39m\n\u001b[91mYou may have intended to import Base.parse\u001b[39m\n\u001b[91m\u001b[0mClosest candidates are:\u001b[39m\n\u001b[91m\u001b[0m  parse(\u001b[91m::Type{PlotlyBase.Plot}\u001b[39m, ::AbstractString) at /Users/kwat/.julia/packages/PlotlyBase/1bJ0U/src/json.jl:102\u001b[39m",
      "",
      "Stacktrace:",
      " [1] make_benchmark(::String) at /Users/kwat/code/Kwat/src/FeatureSetEnrichment/make_benchmark.jl:24",
      " [2] top-level scope at In[8]:1",
      " [3] include_string(::Function, ::Module, ::String, ::String) at ./loading.jl:1091"
     ]
    }
   ],
   "source": [
    "make_benchmark(\"random 100 10\")"
   ]
  },
  {
   "cell_type": "markdown",
   "metadata": {},
   "source": [
    "## sum_h_absolute_and_n_m"
   ]
  },
  {
   "cell_type": "code",
   "execution_count": 9,
   "metadata": {},
   "outputs": [
    {
     "data": {
      "text/plain": [
       "(5.0, 2.0)"
      ]
     },
     "execution_count": 9,
     "metadata": {},
     "output_type": "execute_result"
    }
   ],
   "source": [
    "sum_h_absolute_and_n_m(Float64.([-2, -1, 0, 1, 2]), Float64.([1, 1, 0, 0, 1]))"
   ]
  },
  {
   "cell_type": "markdown",
   "metadata": {},
   "source": [
    "## _score_set"
   ]
  },
  {
   "cell_type": "code",
   "execution_count": 11,
   "metadata": {},
   "outputs": [
    {
     "ename": "LoadError",
     "evalue": "\u001b[91mArgumentError: \"../notebook/data/gene_score.tsv\" is not a valid file\u001b[39m",
     "output_type": "error",
     "traceback": [
      "\u001b[91mArgumentError: \"../notebook/data/gene_score.tsv\" is not a valid file\u001b[39m",
      "",
      "Stacktrace:",
      " [1] Header at /Users/kwat/.julia/packages/CSV/Zl2ww/src/header.jl:90 [inlined]",
      " [2] CSV.File(::String; header::Int64, normalizenames::Bool, datarow::Int64, skipto::Nothing, footerskip::Int64, transpose::Bool, comment::Nothing, use_mmap::Nothing, ignoreemptylines::Bool, select::Nothing, drop::Nothing, missingstrings::Array{String,1}, missingstring::String, delim::Nothing, ignorerepeated::Bool, quotechar::Char, openquotechar::Nothing, closequotechar::Nothing, escapechar::Char, dateformat::Nothing, dateformats::Nothing, decimal::UInt8, truestrings::Array{String,1}, falsestrings::Array{String,1}, type::Nothing, types::Nothing, typemap::Dict{Type,Type}, pool::Float64, lazystrings::Bool, strict::Bool, silencewarnings::Bool, debug::Bool, parsingdebug::Bool, kw::Base.Iterators.Pairs{Union{},Union{},Tuple{},NamedTuple{(),Tuple{}}}) at /Users/kwat/.julia/packages/CSV/Zl2ww/src/file.jl:223",
      " [3] CSV.File(::String) at /Users/kwat/.julia/packages/CSV/Zl2ww/src/file.jl:223",
      " [4] read(::String, ::Type{T} where T; copycols::Bool, kwargs::Base.Iterators.Pairs{Union{},Union{},Tuple{},NamedTuple{(),Tuple{}}}) at /Users/kwat/.julia/packages/CSV/Zl2ww/src/CSV.jl:45",
      " [5] read at /Users/kwat/.julia/packages/CSV/Zl2ww/src/CSV.jl:42 [inlined]",
      " [6] make_benchmark(::String) at /Users/kwat/code/Kwat/src/FeatureSetEnrichment/make_benchmark.jl:36",
      " [7] top-level scope at In[11]:1",
      " [8] include_string(::Function, ::Module, ::String, ::String) at ./loading.jl:1091"
     ]
    }
   ],
   "source": [
    "element_, score_, set_element_ = make_benchmark(\"myc\")\n",
    "\n",
    "is_ = check_is(element_, set_element_)\n",
    "\n",
    "_score_set(element_, score_, set_element_, is_)"
   ]
  },
  {
   "cell_type": "code",
   "execution_count": 12,
   "metadata": {},
   "outputs": [
    {
     "ename": "LoadError",
     "evalue": "\u001b[91mUndefVarError: element_ not defined\u001b[39m",
     "output_type": "error",
     "traceback": [
      "\u001b[91mUndefVarError: element_ not defined\u001b[39m",
      "",
      "Stacktrace:",
      " [1] ##core#258() at /Users/kwat/.julia/packages/BenchmarkTools/tGTCy/src/execution.jl:479",
      " [2] ##sample#259(::BenchmarkTools.Parameters) at /Users/kwat/.julia/packages/BenchmarkTools/tGTCy/src/execution.jl:485",
      " [3] _run(::BenchmarkTools.Benchmark, ::BenchmarkTools.Parameters; verbose::Bool, pad::String, kwargs::Base.Iterators.Pairs{Symbol,Integer,NTuple{4,Symbol},NamedTuple{(:samples, :evals, :gctrial, :gcsample),Tuple{Int64,Int64,Bool,Bool}}}) at /Users/kwat/.julia/packages/BenchmarkTools/tGTCy/src/execution.jl:98",
      " [4] (::Base.var\"#inner#2\"{Base.Iterators.Pairs{Symbol,Integer,NTuple{5,Symbol},NamedTuple{(:verbose, :samples, :evals, :gctrial, :gcsample),Tuple{Bool,Int64,Int64,Bool,Bool}}},typeof(BenchmarkTools._run),Tuple{BenchmarkTools.Benchmark,BenchmarkTools.Parameters}})() at ./essentials.jl:713",
      " [5] #invokelatest#1 at ./essentials.jl:714 [inlined]",
      " [6] #run_result#45 at /Users/kwat/.julia/packages/BenchmarkTools/tGTCy/src/execution.jl:33 [inlined]",
      " [7] run(::BenchmarkTools.Benchmark, ::BenchmarkTools.Parameters; progressid::Nothing, nleaves::Float64, ndone::Float64, kwargs::Base.Iterators.Pairs{Symbol,Integer,NTuple{5,Symbol},NamedTuple{(:verbose, :samples, :evals, :gctrial, :gcsample),Tuple{Bool,Int64,Int64,Bool,Bool}}}) at /Users/kwat/.julia/packages/BenchmarkTools/tGTCy/src/execution.jl:116",
      " [8] #warmup#54 at /Users/kwat/.julia/packages/BenchmarkTools/tGTCy/src/execution.jl:168 [inlined]",
      " [9] warmup(::BenchmarkTools.Benchmark) at /Users/kwat/.julia/packages/BenchmarkTools/tGTCy/src/execution.jl:168",
      " [10] top-level scope at /Users/kwat/.julia/packages/BenchmarkTools/tGTCy/src/execution.jl:565",
      " [11] include_string(::Function, ::Module, ::String, ::String) at ./loading.jl:1091"
     ]
    }
   ],
   "source": [
    "@btime check_is(element_, set_element_)"
   ]
  },
  {
   "cell_type": "code",
   "execution_count": 13,
   "metadata": {},
   "outputs": [
    {
     "ename": "LoadError",
     "evalue": "\u001b[91mUndefVarError: _score_set not defined\u001b[39m",
     "output_type": "error",
     "traceback": [
      "\u001b[91mUndefVarError: _score_set not defined\u001b[39m",
      "",
      "Stacktrace:",
      " [1] ##core#265() at /Users/kwat/.julia/packages/BenchmarkTools/tGTCy/src/execution.jl:479",
      " [2] ##sample#266(::BenchmarkTools.Parameters) at /Users/kwat/.julia/packages/BenchmarkTools/tGTCy/src/execution.jl:485",
      " [3] _run(::BenchmarkTools.Benchmark, ::BenchmarkTools.Parameters; verbose::Bool, pad::String, kwargs::Base.Iterators.Pairs{Symbol,Integer,NTuple{4,Symbol},NamedTuple{(:samples, :evals, :gctrial, :gcsample),Tuple{Int64,Int64,Bool,Bool}}}) at /Users/kwat/.julia/packages/BenchmarkTools/tGTCy/src/execution.jl:98",
      " [4] (::Base.var\"#inner#2\"{Base.Iterators.Pairs{Symbol,Integer,NTuple{5,Symbol},NamedTuple{(:verbose, :samples, :evals, :gctrial, :gcsample),Tuple{Bool,Int64,Int64,Bool,Bool}}},typeof(BenchmarkTools._run),Tuple{BenchmarkTools.Benchmark,BenchmarkTools.Parameters}})() at ./essentials.jl:713",
      " [5] #invokelatest#1 at ./essentials.jl:714 [inlined]",
      " [6] #run_result#45 at /Users/kwat/.julia/packages/BenchmarkTools/tGTCy/src/execution.jl:33 [inlined]",
      " [7] run(::BenchmarkTools.Benchmark, ::BenchmarkTools.Parameters; progressid::Nothing, nleaves::Float64, ndone::Float64, kwargs::Base.Iterators.Pairs{Symbol,Integer,NTuple{5,Symbol},NamedTuple{(:verbose, :samples, :evals, :gctrial, :gcsample),Tuple{Bool,Int64,Int64,Bool,Bool}}}) at /Users/kwat/.julia/packages/BenchmarkTools/tGTCy/src/execution.jl:116",
      " [8] #warmup#54 at /Users/kwat/.julia/packages/BenchmarkTools/tGTCy/src/execution.jl:168 [inlined]",
      " [9] warmup(::BenchmarkTools.Benchmark) at /Users/kwat/.julia/packages/BenchmarkTools/tGTCy/src/execution.jl:168",
      " [10] top-level scope at /Users/kwat/.julia/packages/BenchmarkTools/tGTCy/src/execution.jl:565",
      " [11] include_string(::Function, ::Module, ::String, ::String) at ./loading.jl:1091"
     ]
    }
   ],
   "source": [
    "@btime _score_set(element_, score_, set_element_, is_; plot = false)"
   ]
  },
  {
   "cell_type": "markdown",
   "metadata": {},
   "source": [
    "## score_set (1 1)"
   ]
  },
  {
   "cell_type": "code",
   "execution_count": 14,
   "metadata": {},
   "outputs": [
    {
     "ename": "LoadError",
     "evalue": "\u001b[91mUndefVarError: element_ not defined\u001b[39m",
     "output_type": "error",
     "traceback": [
      "\u001b[91mUndefVarError: element_ not defined\u001b[39m",
      "",
      "Stacktrace:",
      " [1] top-level scope at In[14]:1",
      " [2] include_string(::Function, ::Module, ::String, ::String) at ./loading.jl:1091"
     ]
    }
   ],
   "source": [
    "score_set(element_, score_, set_element_; title_text = \"Title\")"
   ]
  },
  {
   "cell_type": "code",
   "execution_count": 15,
   "metadata": {},
   "outputs": [
    {
     "ename": "LoadError",
     "evalue": "\u001b[91mUndefVarError: element_ not defined\u001b[39m",
     "output_type": "error",
     "traceback": [
      "\u001b[91mUndefVarError: element_ not defined\u001b[39m",
      "",
      "Stacktrace:",
      " [1] ##core#272() at /Users/kwat/.julia/packages/BenchmarkTools/tGTCy/src/execution.jl:479",
      " [2] ##sample#273(::BenchmarkTools.Parameters) at /Users/kwat/.julia/packages/BenchmarkTools/tGTCy/src/execution.jl:485",
      " [3] _run(::BenchmarkTools.Benchmark, ::BenchmarkTools.Parameters; verbose::Bool, pad::String, kwargs::Base.Iterators.Pairs{Symbol,Integer,NTuple{4,Symbol},NamedTuple{(:samples, :evals, :gctrial, :gcsample),Tuple{Int64,Int64,Bool,Bool}}}) at /Users/kwat/.julia/packages/BenchmarkTools/tGTCy/src/execution.jl:98",
      " [4] (::Base.var\"#inner#2\"{Base.Iterators.Pairs{Symbol,Integer,NTuple{5,Symbol},NamedTuple{(:verbose, :samples, :evals, :gctrial, :gcsample),Tuple{Bool,Int64,Int64,Bool,Bool}}},typeof(BenchmarkTools._run),Tuple{BenchmarkTools.Benchmark,BenchmarkTools.Parameters}})() at ./essentials.jl:713",
      " [5] #invokelatest#1 at ./essentials.jl:714 [inlined]",
      " [6] #run_result#45 at /Users/kwat/.julia/packages/BenchmarkTools/tGTCy/src/execution.jl:33 [inlined]",
      " [7] run(::BenchmarkTools.Benchmark, ::BenchmarkTools.Parameters; progressid::Nothing, nleaves::Float64, ndone::Float64, kwargs::Base.Iterators.Pairs{Symbol,Integer,NTuple{5,Symbol},NamedTuple{(:verbose, :samples, :evals, :gctrial, :gcsample),Tuple{Bool,Int64,Int64,Bool,Bool}}}) at /Users/kwat/.julia/packages/BenchmarkTools/tGTCy/src/execution.jl:116",
      " [8] #warmup#54 at /Users/kwat/.julia/packages/BenchmarkTools/tGTCy/src/execution.jl:168 [inlined]",
      " [9] warmup(::BenchmarkTools.Benchmark) at /Users/kwat/.julia/packages/BenchmarkTools/tGTCy/src/execution.jl:168",
      " [10] top-level scope at /Users/kwat/.julia/packages/BenchmarkTools/tGTCy/src/execution.jl:565",
      " [11] include_string(::Function, ::Module, ::String, ::String) at ./loading.jl:1091"
     ]
    }
   ],
   "source": [
    "@btime score_set(element_, score_, set_element_; plot = false)"
   ]
  },
  {
   "cell_type": "code",
   "execution_count": 16,
   "metadata": {},
   "outputs": [
    {
     "ename": "LoadError",
     "evalue": "\u001b[91mUndefVarError: element_ not defined\u001b[39m",
     "output_type": "error",
     "traceback": [
      "\u001b[91mUndefVarError: element_ not defined\u001b[39m",
      "",
      "Stacktrace:",
      " [1] ##core#279() at /Users/kwat/.julia/packages/BenchmarkTools/tGTCy/src/execution.jl:479",
      " [2] ##sample#280(::BenchmarkTools.Parameters) at /Users/kwat/.julia/packages/BenchmarkTools/tGTCy/src/execution.jl:485",
      " [3] _run(::BenchmarkTools.Benchmark, ::BenchmarkTools.Parameters; verbose::Bool, pad::String, kwargs::Base.Iterators.Pairs{Symbol,Integer,NTuple{4,Symbol},NamedTuple{(:samples, :evals, :gctrial, :gcsample),Tuple{Int64,Int64,Bool,Bool}}}) at /Users/kwat/.julia/packages/BenchmarkTools/tGTCy/src/execution.jl:98",
      " [4] (::Base.var\"#inner#2\"{Base.Iterators.Pairs{Symbol,Integer,NTuple{5,Symbol},NamedTuple{(:verbose, :samples, :evals, :gctrial, :gcsample),Tuple{Bool,Int64,Int64,Bool,Bool}}},typeof(BenchmarkTools._run),Tuple{BenchmarkTools.Benchmark,BenchmarkTools.Parameters}})() at ./essentials.jl:713",
      " [5] #invokelatest#1 at ./essentials.jl:714 [inlined]",
      " [6] #run_result#45 at /Users/kwat/.julia/packages/BenchmarkTools/tGTCy/src/execution.jl:33 [inlined]",
      " [7] run(::BenchmarkTools.Benchmark, ::BenchmarkTools.Parameters; progressid::Nothing, nleaves::Float64, ndone::Float64, kwargs::Base.Iterators.Pairs{Symbol,Integer,NTuple{5,Symbol},NamedTuple{(:verbose, :samples, :evals, :gctrial, :gcsample),Tuple{Bool,Int64,Int64,Bool,Bool}}}) at /Users/kwat/.julia/packages/BenchmarkTools/tGTCy/src/execution.jl:116",
      " [8] #warmup#54 at /Users/kwat/.julia/packages/BenchmarkTools/tGTCy/src/execution.jl:168 [inlined]",
      " [9] warmup(::BenchmarkTools.Benchmark) at /Users/kwat/.julia/packages/BenchmarkTools/tGTCy/src/execution.jl:168",
      " [10] top-level scope at /Users/kwat/.julia/packages/BenchmarkTools/tGTCy/src/execution.jl:565",
      " [11] include_string(::Function, ::Module, ::String, ::String) at ./loading.jl:1091"
     ]
    }
   ],
   "source": [
    "@btime score_set(element_, score_, set_element_; sort = false, plot = false)"
   ]
  },
  {
   "cell_type": "markdown",
   "metadata": {},
   "source": [
    "## score_set (1 n)"
   ]
  },
  {
   "cell_type": "code",
   "execution_count": 17,
   "metadata": {},
   "outputs": [
    {
     "ename": "LoadError",
     "evalue": "\u001b[91mArgumentError: Package GCTGMT not found in current path:\u001b[39m\n\u001b[91m- Run `import Pkg; Pkg.add(\"GCTGMT\")` to install the GCTGMT package.\u001b[39m\n",
     "output_type": "error",
     "traceback": [
      "\u001b[91mArgumentError: Package GCTGMT not found in current path:\u001b[39m\n\u001b[91m- Run `import Pkg; Pkg.add(\"GCTGMT\")` to install the GCTGMT package.\u001b[39m\n",
      "",
      "Stacktrace:",
      " [1] require(::Module, ::Symbol) at ./loading.jl:893",
      " [2] include_string(::Function, ::Module, ::String, ::String) at ./loading.jl:1091"
     ]
    }
   ],
   "source": [
    "using GCTGMT"
   ]
  },
  {
   "cell_type": "code",
   "execution_count": 18,
   "metadata": {},
   "outputs": [
    {
     "ename": "LoadError",
     "evalue": "\u001b[91mUndefVarError: element_ not defined\u001b[39m",
     "output_type": "error",
     "traceback": [
      "\u001b[91mUndefVarError: element_ not defined\u001b[39m",
      "",
      "Stacktrace:",
      " [1] top-level scope at In[18]:3",
      " [2] include_string(::Function, ::Module, ::String, ::String) at ./loading.jl:1091"
     ]
    }
   ],
   "source": [
    "set_to_element_ = read_gmt(\"data/h.all.v7.1.symbols.gmt\")\n",
    "\n",
    "score_set(element_, score_, set_to_element_)"
   ]
  },
  {
   "cell_type": "code",
   "execution_count": 19,
   "metadata": {},
   "outputs": [
    {
     "ename": "LoadError",
     "evalue": "\u001b[91mUndefVarError: element_ not defined\u001b[39m",
     "output_type": "error",
     "traceback": [
      "\u001b[91mUndefVarError: element_ not defined\u001b[39m",
      "",
      "Stacktrace:",
      " [1] ##core#286() at /Users/kwat/.julia/packages/BenchmarkTools/tGTCy/src/execution.jl:479",
      " [2] ##sample#287(::BenchmarkTools.Parameters) at /Users/kwat/.julia/packages/BenchmarkTools/tGTCy/src/execution.jl:485",
      " [3] _run(::BenchmarkTools.Benchmark, ::BenchmarkTools.Parameters; verbose::Bool, pad::String, kwargs::Base.Iterators.Pairs{Symbol,Integer,NTuple{4,Symbol},NamedTuple{(:samples, :evals, :gctrial, :gcsample),Tuple{Int64,Int64,Bool,Bool}}}) at /Users/kwat/.julia/packages/BenchmarkTools/tGTCy/src/execution.jl:98",
      " [4] (::Base.var\"#inner#2\"{Base.Iterators.Pairs{Symbol,Integer,NTuple{5,Symbol},NamedTuple{(:verbose, :samples, :evals, :gctrial, :gcsample),Tuple{Bool,Int64,Int64,Bool,Bool}}},typeof(BenchmarkTools._run),Tuple{BenchmarkTools.Benchmark,BenchmarkTools.Parameters}})() at ./essentials.jl:713",
      " [5] #invokelatest#1 at ./essentials.jl:714 [inlined]",
      " [6] #run_result#45 at /Users/kwat/.julia/packages/BenchmarkTools/tGTCy/src/execution.jl:33 [inlined]",
      " [7] run(::BenchmarkTools.Benchmark, ::BenchmarkTools.Parameters; progressid::Nothing, nleaves::Float64, ndone::Float64, kwargs::Base.Iterators.Pairs{Symbol,Integer,NTuple{5,Symbol},NamedTuple{(:verbose, :samples, :evals, :gctrial, :gcsample),Tuple{Bool,Int64,Int64,Bool,Bool}}}) at /Users/kwat/.julia/packages/BenchmarkTools/tGTCy/src/execution.jl:116",
      " [8] #warmup#54 at /Users/kwat/.julia/packages/BenchmarkTools/tGTCy/src/execution.jl:168 [inlined]",
      " [9] warmup(::BenchmarkTools.Benchmark) at /Users/kwat/.julia/packages/BenchmarkTools/tGTCy/src/execution.jl:168",
      " [10] top-level scope at /Users/kwat/.julia/packages/BenchmarkTools/tGTCy/src/execution.jl:565",
      " [11] include_string(::Function, ::Module, ::String, ::String) at ./loading.jl:1091"
     ]
    }
   ],
   "source": [
    "@btime score_set(element_, score_, set_to_element_)"
   ]
  },
  {
   "cell_type": "code",
   "execution_count": 20,
   "metadata": {},
   "outputs": [
    {
     "ename": "LoadError",
     "evalue": "\u001b[91mUndefVarError: element_ not defined\u001b[39m",
     "output_type": "error",
     "traceback": [
      "\u001b[91mUndefVarError: element_ not defined\u001b[39m",
      "",
      "Stacktrace:",
      " [1] ##core#293() at /Users/kwat/.julia/packages/BenchmarkTools/tGTCy/src/execution.jl:479",
      " [2] ##sample#294(::BenchmarkTools.Parameters) at /Users/kwat/.julia/packages/BenchmarkTools/tGTCy/src/execution.jl:485",
      " [3] _run(::BenchmarkTools.Benchmark, ::BenchmarkTools.Parameters; verbose::Bool, pad::String, kwargs::Base.Iterators.Pairs{Symbol,Integer,NTuple{4,Symbol},NamedTuple{(:samples, :evals, :gctrial, :gcsample),Tuple{Int64,Int64,Bool,Bool}}}) at /Users/kwat/.julia/packages/BenchmarkTools/tGTCy/src/execution.jl:98",
      " [4] (::Base.var\"#inner#2\"{Base.Iterators.Pairs{Symbol,Integer,NTuple{5,Symbol},NamedTuple{(:verbose, :samples, :evals, :gctrial, :gcsample),Tuple{Bool,Int64,Int64,Bool,Bool}}},typeof(BenchmarkTools._run),Tuple{BenchmarkTools.Benchmark,BenchmarkTools.Parameters}})() at ./essentials.jl:713",
      " [5] #invokelatest#1 at ./essentials.jl:714 [inlined]",
      " [6] #run_result#45 at /Users/kwat/.julia/packages/BenchmarkTools/tGTCy/src/execution.jl:33 [inlined]",
      " [7] run(::BenchmarkTools.Benchmark, ::BenchmarkTools.Parameters; progressid::Nothing, nleaves::Float64, ndone::Float64, kwargs::Base.Iterators.Pairs{Symbol,Integer,NTuple{5,Symbol},NamedTuple{(:verbose, :samples, :evals, :gctrial, :gcsample),Tuple{Bool,Int64,Int64,Bool,Bool}}}) at /Users/kwat/.julia/packages/BenchmarkTools/tGTCy/src/execution.jl:116",
      " [8] #warmup#54 at /Users/kwat/.julia/packages/BenchmarkTools/tGTCy/src/execution.jl:168 [inlined]",
      " [9] warmup(::BenchmarkTools.Benchmark) at /Users/kwat/.julia/packages/BenchmarkTools/tGTCy/src/execution.jl:168",
      " [10] top-level scope at /Users/kwat/.julia/packages/BenchmarkTools/tGTCy/src/execution.jl:565",
      " [11] include_string(::Function, ::Module, ::String, ::String) at ./loading.jl:1091"
     ]
    }
   ],
   "source": [
    "@btime score_set(element_, score_, set_to_element_; sort = false)"
   ]
  },
  {
   "cell_type": "markdown",
   "metadata": {},
   "source": [
    "## score_set (n n)"
   ]
  },
  {
   "cell_type": "code",
   "execution_count": 21,
   "metadata": {},
   "outputs": [],
   "source": [
    "using DataFrames"
   ]
  },
  {
   "cell_type": "code",
   "execution_count": 22,
   "metadata": {},
   "outputs": [
    {
     "ename": "LoadError",
     "evalue": "\u001b[91mUndefVarError: element_ not defined\u001b[39m",
     "output_type": "error",
     "traceback": [
      "\u001b[91mUndefVarError: element_ not defined\u001b[39m",
      "",
      "Stacktrace:",
      " [1] top-level scope at In[22]:1",
      " [2] include_string(::Function, ::Module, ::String, ::String) at ./loading.jl:1091"
     ]
    }
   ],
   "source": [
    "element_x_sample = DataFrame(\n",
    "    Symbol(\"Element\") => element_,\n",
    "    Symbol(\"Score\") => score_,\n",
    "    Symbol(\"Score x 10\") => score_ * 10,\n",
    "    Symbol(\"Constant\") => fill(0.8, length(element_)),\n",
    ")"
   ]
  },
  {
   "cell_type": "code",
   "execution_count": 23,
   "metadata": {},
   "outputs": [
    {
     "ename": "LoadError",
     "evalue": "\u001b[91mUndefVarError: element_x_sample not defined\u001b[39m",
     "output_type": "error",
     "traceback": [
      "\u001b[91mUndefVarError: element_x_sample not defined\u001b[39m",
      "",
      "Stacktrace:",
      " [1] ##core#300() at /Users/kwat/.julia/packages/BenchmarkTools/tGTCy/src/execution.jl:479",
      " [2] ##sample#301(::BenchmarkTools.Parameters) at /Users/kwat/.julia/packages/BenchmarkTools/tGTCy/src/execution.jl:485",
      " [3] _run(::BenchmarkTools.Benchmark, ::BenchmarkTools.Parameters; verbose::Bool, pad::String, kwargs::Base.Iterators.Pairs{Symbol,Integer,NTuple{4,Symbol},NamedTuple{(:samples, :evals, :gctrial, :gcsample),Tuple{Int64,Int64,Bool,Bool}}}) at /Users/kwat/.julia/packages/BenchmarkTools/tGTCy/src/execution.jl:98",
      " [4] (::Base.var\"#inner#2\"{Base.Iterators.Pairs{Symbol,Integer,NTuple{5,Symbol},NamedTuple{(:verbose, :samples, :evals, :gctrial, :gcsample),Tuple{Bool,Int64,Int64,Bool,Bool}}},typeof(BenchmarkTools._run),Tuple{BenchmarkTools.Benchmark,BenchmarkTools.Parameters}})() at ./essentials.jl:713",
      " [5] #invokelatest#1 at ./essentials.jl:714 [inlined]",
      " [6] #run_result#45 at /Users/kwat/.julia/packages/BenchmarkTools/tGTCy/src/execution.jl:33 [inlined]",
      " [7] run(::BenchmarkTools.Benchmark, ::BenchmarkTools.Parameters; progressid::Nothing, nleaves::Float64, ndone::Float64, kwargs::Base.Iterators.Pairs{Symbol,Integer,NTuple{5,Symbol},NamedTuple{(:verbose, :samples, :evals, :gctrial, :gcsample),Tuple{Bool,Int64,Int64,Bool,Bool}}}) at /Users/kwat/.julia/packages/BenchmarkTools/tGTCy/src/execution.jl:116",
      " [8] #warmup#54 at /Users/kwat/.julia/packages/BenchmarkTools/tGTCy/src/execution.jl:168 [inlined]",
      " [9] warmup(::BenchmarkTools.Benchmark) at /Users/kwat/.julia/packages/BenchmarkTools/tGTCy/src/execution.jl:168",
      " [10] top-level scope at /Users/kwat/.julia/packages/BenchmarkTools/tGTCy/src/execution.jl:565",
      " [11] include_string(::Function, ::Module, ::String, ::String) at ./loading.jl:1091"
     ]
    }
   ],
   "source": [
    "# Todo: check parallel computing\n",
    "@btime score_set(element_x_sample, set_to_element_; n_job = 1)"
   ]
  },
  {
   "cell_type": "markdown",
   "metadata": {},
   "source": [
    "## score_set (path)"
   ]
  },
  {
   "cell_type": "code",
   "execution_count": 24,
   "metadata": {},
   "outputs": [
    {
     "data": {
      "text/html": [
       "<div class=\"data-frame\"><p>0 rows × 0 columns</p><table class=\"data-frame\"><thead><tr><th></th></tr><tr><th></th></tr></thead><tbody></tbody></table></div>"
      ],
      "text/latex": [
       "\\begin{tabular}{r|}\n",
       "\t& \\\\\n",
       "\t\\hline\n",
       "\t& \\\\\n",
       "\t\\hline\n",
       "\\end{tabular}\n"
      ],
      "text/plain": [
       "\u001b[1m0×0 DataFrame\u001b[0m"
      ]
     },
     "execution_count": 24,
     "metadata": {},
     "output_type": "execute_result"
    }
   ],
   "source": [
    "score_set(\n",
    "    \"data/element_x_sample.tsv\",\n",
    "    [\"./data/h.all.v7.1.symbols.gmt\", \"./data/c2.all.v7.1.symbols.gmt\"],\n",
    "    \".\",\n",
    ")"
   ]
  }
 ],
 "metadata": {
  "kernelspec": {
   "display_name": "Julia 1.5.4",
   "language": "julia",
   "name": "julia-1.5"
  },
  "language_info": {
   "file_extension": ".jl",
   "mimetype": "application/julia",
   "name": "julia",
   "version": "1.5.4"
  }
 },
 "nbformat": 4,
 "nbformat_minor": 4
}
