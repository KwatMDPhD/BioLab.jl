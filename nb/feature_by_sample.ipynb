{
 "cells": [
  {
   "cell_type": "code",
   "execution_count": null,
   "id": "0e3f444b",
   "metadata": {},
   "outputs": [],
   "source": [
    "using Revise\n",
    "using BenchmarkTools\n",
    "\n",
    "using Kwat"
   ]
  },
  {
   "cell_type": "markdown",
   "id": "a4f49444",
   "metadata": {},
   "source": [
    "## compare_with_target"
   ]
  },
  {
   "cell_type": "code",
   "execution_count": null,
   "id": "ed8f544c",
   "metadata": {},
   "outputs": [],
   "source": [
    "n_ro = 5\n",
    "\n",
    "n_co = 4\n",
    "\n",
    "n_ze = convert(Int64, n_co / 2)\n",
    "\n",
    "n_on = n_co - n_ze"
   ]
  },
  {
   "cell_type": "code",
   "execution_count": null,
   "id": "2c8afdbb",
   "metadata": {},
   "outputs": [],
   "source": [
    "bi_ = convert(BitVector, [zeros(n_ze); ones(n_on)])"
   ]
  },
  {
   "cell_type": "code",
   "execution_count": null,
   "id": "1d5ca8fb",
   "metadata": {},
   "outputs": [],
   "source": [
    "ve = convert(Vector{Float64}, [10^(id - 1) for id = 1:n_co])"
   ]
  },
  {
   "cell_type": "code",
   "execution_count": null,
   "id": "914aa676",
   "metadata": {},
   "outputs": [],
   "source": [
    "ma = convert(Matrix{Float64}, reshape(1:n_ro*n_co, (n_ro, n_co)))"
   ]
  },
  {
   "cell_type": "code",
   "execution_count": null,
   "id": "fdd790f6",
   "metadata": {},
   "outputs": [],
   "source": [
    "Kwat.feature_by_sample.compare_with_target(\n",
    "    convert(Vector{Float64}, bi_),\n",
    "    ma,\n",
    "    \"signal_to_noise_ratio\",\n",
    ")"
   ]
  }
 ],
 "metadata": {
  "@webio": {
   "lastCommId": "779b380fd376475cbbdb8946a211ab25",
   "lastKernelId": "b7828d94-755f-4be0-b0a1-fecef2edc022"
  },
  "kernelspec": {
   "display_name": "Julia 1.6.3",
   "language": "julia",
   "name": "julia-1.6"
  },
  "language_info": {
   "file_extension": ".jl",
   "mimetype": "application/julia",
   "name": "julia",
   "version": "1.6.3"
  }
 },
 "nbformat": 4,
 "nbformat_minor": 5
}
