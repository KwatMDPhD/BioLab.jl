{
 "cells": [
  {
   "cell_type": "code",
   "execution_count": 1,
   "metadata": {},
   "outputs": [
    {
     "name": "stderr",
     "output_type": "stream",
     "text": [
      "┌ Info: Precompiling Kwat [fb31f113-4a63-4a8e-817a-4bdffc7e605a]\n",
      "└ @ Base loading.jl:1342\n"
     ]
    },
    {
     "data": {
      "application/vnd.webio.node+json": {
       "children": [],
       "instanceArgs": {
        "namespace": "html",
        "tag": "div"
       },
       "nodeType": "DOM",
       "props": {},
       "type": "node"
      },
      "text/html": [
       "<div style=\"padding: 1em; background-color: #f8d6da; border: 1px solid #f5c6cb; font-weight: bold;\">\n",
       "<p>The WebIO Jupyter extension was not detected. See the\n",
       "<a href=\"https://juliagizmos.github.io/WebIO.jl/latest/providers/ijulia/\" target=\"_blank\">\n",
       "    WebIO Jupyter integration documentation\n",
       "</a>\n",
       "for more information.\n",
       "</div>\n"
      ],
      "text/plain": [
       "WebIO._IJuliaInit()"
      ]
     },
     "metadata": {
      "application/vnd.webio.node+json": {
       "kernelId": "3fc4aef8-5cff-44d7-a9ea-696be6646012"
      }
     },
     "output_type": "display_data"
    }
   ],
   "source": [
    "using DataFrames\n",
    "\n",
    "using Kwat"
   ]
  },
  {
   "cell_type": "markdown",
   "metadata": {},
   "source": [
    "## make_benchmark"
   ]
  },
  {
   "cell_type": "code",
   "execution_count": 2,
   "metadata": {},
   "outputs": [
    {
     "data": {
      "text/plain": [
       "([\"A\", \"2\", \"3\", \"4\", \"5\", \"6\", \"7\", \"8\", \"9\", \"X\", \"J\", \"Q\", \"K\"], [-6.0, -5.0, -4.0, -3.0, -2.0, -1.0, 0.0, 1.0, 2.0, 3.0, 4.0, 5.0, 6.0], [\"A\", \"2\", \"K\"])"
      ]
     },
     "execution_count": 2,
     "metadata": {},
     "output_type": "execute_result"
    }
   ],
   "source": [
    "Kwat.feature_set_enrichment.make_benchmark(\"card A2K\")"
   ]
  },
  {
   "cell_type": "code",
   "execution_count": 3,
   "metadata": {},
   "outputs": [
    {
     "data": {
      "text/plain": [
       "([\"Feature 1\", \"Feature 2\", \"Feature 3\", \"Feature 4\"], [-0.32413523372342945, -0.005391862402661414, 0.005391862402661414, 0.32413523372342945], [\"Feature 2\", \"Feature 4\"])"
      ]
     },
     "execution_count": 3,
     "metadata": {},
     "output_type": "execute_result"
    }
   ],
   "source": [
    "Kwat.feature_set_enrichment.make_benchmark(\"random 4 2\")"
   ]
  },
  {
   "cell_type": "markdown",
   "metadata": {},
   "source": [
    "## plot_mountain"
   ]
  },
  {
   "cell_type": "code",
   "execution_count": 12,
   "metadata": {},
   "outputs": [
    {
     "data": {
      "application/vnd.plotly.v1+json": {
       "config": {
        "displaylogo": false,
        "editable": false,
        "modeBarButtonsToRemove": [
         "select",
         "lasso",
         "resetScale"
        ],
        "responsive": true,
        "scrollZoom": true,
        "showLink": false,
        "staticPlot": false
       },
       "data": [
        {
         "fill": "tozeroy",
         "hoverinfo": "x+y+text",
         "line": {
          "color": "20d8ba",
          "width": 0
         },
         "mode": "lines",
         "name": "Score",
         "text": [
          "A",
          "2",
          "3",
          "4",
          "5",
          "6",
          "7",
          "8",
          "9",
          "X",
          "J",
          "Q",
          "K"
         ],
         "type": "scatter",
         "x": [
          1,
          2,
          3,
          4,
          5,
          6,
          7,
          8,
          9,
          10,
          11,
          12,
          13
         ],
         "y": [
          -6,
          -5,
          -4,
          -3,
          -2,
          -1,
          0,
          1,
          2,
          3,
          4,
          5,
          6
         ]
        },
        {
         "hoverinfo": "x+text",
         "marker": {
          "color": "9017e6",
          "line": {
           "width": 2
          },
          "size": 24.576000000000004,
          "symbol": "line-ns-open"
         },
         "mode": "markers",
         "name": "Set",
         "text": [
          "A",
          "K"
         ],
         "type": "scatter",
         "x": [
          1,
          13
         ],
         "y": [
          0,
          0
         ],
         "yaxis": "y2"
        },
        {
         "fill": "tozeroy",
         "hoverinfo": "x+y+text",
         "line": {
          "color": "#4e40d8",
          "width": 0
         },
         "mode": "lines",
         "name": "Enrichment",
         "text": [
          "A",
          "2",
          "3",
          "4",
          "5",
          "6",
          "7",
          "8",
          "9",
          "X",
          "J",
          "Q",
          "K"
         ],
         "type": "scatter",
         "x": [
          1,
          2,
          3,
          4,
          5,
          6,
          7,
          8,
          9,
          10,
          11,
          12,
          13
         ],
         "y": [
          -1.3877787807814457e-16,
          -0.5000000000000001,
          -0.40909090909090917,
          -0.31818181818181823,
          -0.22727272727272735,
          -0.13636363636363644,
          -0.045454545454545525,
          0.045454545454545386,
          0.1363636363636363,
          0.2272727272727272,
          0.3181818181818181,
          0.40909090909090906,
          0.5
         ],
         "yaxis": "y3"
        }
       ],
       "frames": [],
       "layout": {
        "annotations": [
         {
          "font": {
           "size": 24
          },
          "showarrow": false,
          "text": "<b>Mountain Plot</b>",
          "x": 0.5,
          "xanchor": "center",
          "xref": "paper",
          "y": 1.16,
          "yanchor": "middle",
          "yref": "paper"
         },
         {
          "font": {
           "color": "2a603b",
           "size": 15.36
          },
          "showarrow": false,
          "text": "<b>Statistic = -0.500</b>",
          "x": 0.5,
          "xanchor": "center",
          "xref": "paper",
          "y": 1.04,
          "yanchor": "middle",
          "yref": "paper"
         },
         {
          "font": {
           "size": 12.6
          },
          "showarrow": false,
          "text": "<b>Score</b>",
          "x": -0.064,
          "xanchor": "right",
          "xref": "paper",
          "y": 0.12,
          "yanchor": "middle",
          "yref": "paper"
         },
         {
          "font": {
           "size": 12.6
          },
          "showarrow": false,
          "text": "<b>Set</b>",
          "x": -0.064,
          "xanchor": "right",
          "xref": "paper",
          "y": 0.28,
          "yanchor": "middle",
          "yref": "paper"
         },
         {
          "font": {
           "size": 12.6
          },
          "showarrow": false,
          "text": "<b>Enrichment</b>",
          "x": -0.064,
          "xanchor": "right",
          "xref": "paper",
          "y": 0.66,
          "yanchor": "middle",
          "yref": "paper"
         },
         {
          "showarrow": false,
          "text": "<b>Feature Rank (n=13)</b>",
          "x": 0.5,
          "xanchor": "center",
          "xref": "paper",
          "y": -0.088,
          "yanchor": "middle",
          "yref": "paper"
         }
        ],
        "autosize": false,
        "height": 480,
        "hovermode": "closest",
        "legend": {
         "orientation": "h",
         "x": 0.5,
         "xanchor": "center",
         "y": -0.2,
         "yanchor": "middle"
        },
        "margin": {
         "b": 50,
         "l": 124,
         "r": 50,
         "t": 76
        },
        "template": "plotly_white",
        "width": 776.6400000000001,
        "xaxis": {
         "showspikes": true,
         "spikedash": "solid",
         "spikemode": "across",
         "spikethickness": 0.8,
         "zeroline": false
        },
        "yaxis1": {
         "domain": [
          0,
          0.24
         ],
         "showline": true
        },
        "yaxis2": {
         "domain": [
          0.24,
          0.32
         ],
         "showgrid": false,
         "showticklabels": false
        },
        "yaxis3": {
         "domain": [
          0.32,
          1
         ],
         "showline": true
        }
       }
      },
      "text/html": [
       "<div\n",
       "    class=\"webio-mountpoint\"\n",
       "    data-webio-mountpoint=\"16582001615274619056\"\n",
       ">\n",
       "    <script>\n",
       "    (function(){\n",
       "    // Some integrations (namely, IJulia/Jupyter) use an alternate render pathway than\n",
       "    // just putting the html on the page. If WebIO isn't defined, then it's pretty likely\n",
       "    // that we're in one of those situations and the integration just isn't installed\n",
       "    // correctly.\n",
       "    if (typeof window.WebIO === \"undefined\") {\n",
       "        document\n",
       "            .querySelector('[data-webio-mountpoint=\"16582001615274619056\"]')\n",
       "            .innerHTML = (\n",
       "                '<div style=\"padding: 1em; background-color: #f8d6da; border: 1px solid #f5c6cb; font-weight: bold;\">' +\n",
       "                '<p><strong>WebIO not detected.</strong></p>' +\n",
       "                '<p>Please read ' +\n",
       "                '<a href=\"https://juliagizmos.github.io/WebIO.jl/latest/troubleshooting/not-detected/\" target=\"_blank\">the troubleshooting guide</a> ' +\n",
       "                'for more information on how to resolve this issue.</p>' +\n",
       "                '<p><a href=\"https://juliagizmos.github.io/WebIO.jl/latest/troubleshooting/not-detected/\" target=\"_blank\">https://juliagizmos.github.io/WebIO.jl/latest/troubleshooting/not-detected/</a></p>' +\n",
       "                '</div>'\n",
       "            );\n",
       "        return;\n",
       "    }\n",
       "    WebIO.mount(\n",
       "        document.querySelector('[data-webio-mountpoint=\"16582001615274619056\"]'),\n",
       "        {\"props\":{},\"nodeType\":\"Scope\",\"type\":\"node\",\"instanceArgs\":{\"imports\":{\"data\":[{\"name\":\"Plotly\",\"type\":\"js\",\"url\":\"\\/assetserver\\/158c0f180d15ee74805874e8110b330fdc2995bf-plotly.min.js\"},{\"name\":null,\"type\":\"js\",\"url\":\"\\/assetserver\\/2ccd90ec3310003cd9d125c70256aac6bda762ef-plotly_webio.bundle.js\"}],\"type\":\"async_block\"},\"id\":\"15944988360209757644\",\"handlers\":{\"_toImage\":[\"(function (options){return this.Plotly.toImage(this.plotElem,options).then((function (data){return WebIO.setval({\\\"name\\\":\\\"image\\\",\\\"scope\\\":\\\"15944988360209757644\\\",\\\"id\\\":\\\"459308244826360085\\\",\\\"type\\\":\\\"observable\\\"},data)}))})\"],\"__get_gd_contents\":[\"(function (prop){prop==\\\"data\\\" ? (WebIO.setval({\\\"name\\\":\\\"__gd_contents\\\",\\\"scope\\\":\\\"15944988360209757644\\\",\\\"id\\\":\\\"15067454959140051650\\\",\\\"type\\\":\\\"observable\\\"},this.plotElem.data)) : undefined; return prop==\\\"layout\\\" ? (WebIO.setval({\\\"name\\\":\\\"__gd_contents\\\",\\\"scope\\\":\\\"15944988360209757644\\\",\\\"id\\\":\\\"15067454959140051650\\\",\\\"type\\\":\\\"observable\\\"},this.plotElem.layout)) : undefined})\"],\"_downloadImage\":[\"(function (options){return this.Plotly.downloadImage(this.plotElem,options)})\"],\"_commands\":[\"(function (args){var fn=args.shift(); var elem=this.plotElem; var Plotly=this.Plotly; args.unshift(elem); return Plotly[fn].apply(this,args)})\"]},\"systemjs_options\":null,\"mount_callbacks\":[\"function () {\\n    var handler = ((function (Plotly,PlotlyWebIO){PlotlyWebIO.init(WebIO); var gd=this.dom.querySelector(\\\"#plot-98044ff0-7f41-41c6-a2e2-aed5757edce9\\\"); this.plotElem=gd; this.Plotly=Plotly; (window.Blink!==undefined) ? (gd.style.width=\\\"100%\\\", gd.style.height=\\\"100vh\\\", gd.style.marginLeft=\\\"0%\\\", gd.style.marginTop=\\\"0vh\\\") : undefined; window.onresize=(function (){return Plotly.Plots.resize(gd)}); Plotly.newPlot(gd,[{\\\"mode\\\":\\\"lines\\\",\\\"line\\\":{\\\"color\\\":\\\"20d8ba\\\",\\\"width\\\":0},\\\"y\\\":[-6.0,-5.0,-4.0,-3.0,-2.0,-1.0,0.0,1.0,2.0,3.0,4.0,5.0,6.0],\\\"type\\\":\\\"scatter\\\",\\\"name\\\":\\\"Score\\\",\\\"fill\\\":\\\"tozeroy\\\",\\\"hoverinfo\\\":\\\"x+y+text\\\",\\\"text\\\":[\\\"A\\\",\\\"2\\\",\\\"3\\\",\\\"4\\\",\\\"5\\\",\\\"6\\\",\\\"7\\\",\\\"8\\\",\\\"9\\\",\\\"X\\\",\\\"J\\\",\\\"Q\\\",\\\"K\\\"],\\\"x\\\":[1,2,3,4,5,6,7,8,9,10,11,12,13]},{\\\"x\\\":[1,13],\\\"mode\\\":\\\"markers\\\",\\\"y\\\":[0.0,0.0],\\\"type\\\":\\\"scatter\\\",\\\"name\\\":\\\"Set\\\",\\\"hoverinfo\\\":\\\"x+text\\\",\\\"yaxis\\\":\\\"y2\\\",\\\"text\\\":[\\\"A\\\",\\\"K\\\"],\\\"marker\\\":{\\\"symbol\\\":\\\"line-ns-open\\\",\\\"color\\\":\\\"9017e6\\\",\\\"line\\\":{\\\"width\\\":2.0},\\\"size\\\":24.576000000000004}},{\\\"mode\\\":\\\"lines\\\",\\\"line\\\":{\\\"color\\\":\\\"#4e40d8\\\",\\\"width\\\":0.0},\\\"y\\\":[-1.3877787807814457e-16,-0.5000000000000001,-0.40909090909090917,-0.31818181818181823,-0.22727272727272735,-0.13636363636363644,-0.045454545454545525,0.045454545454545386,0.1363636363636363,0.2272727272727272,0.3181818181818181,0.40909090909090906,0.5],\\\"type\\\":\\\"scatter\\\",\\\"name\\\":\\\"Enrichment\\\",\\\"fill\\\":\\\"tozeroy\\\",\\\"hoverinfo\\\":\\\"x+y+text\\\",\\\"yaxis\\\":\\\"y3\\\",\\\"text\\\":[\\\"A\\\",\\\"2\\\",\\\"3\\\",\\\"4\\\",\\\"5\\\",\\\"6\\\",\\\"7\\\",\\\"8\\\",\\\"9\\\",\\\"X\\\",\\\"J\\\",\\\"Q\\\",\\\"K\\\"],\\\"x\\\":[1,2,3,4,5,6,7,8,9,10,11,12,13]}],{\\\"xaxis\\\":{\\\"zeroline\\\":false,\\\"spikethickness\\\":0.8,\\\"showspikes\\\":true,\\\"spikemode\\\":\\\"across\\\",\\\"spikedash\\\":\\\"solid\\\"},\\\"hovermode\\\":\\\"closest\\\",\\\"template\\\":\\\"plotly_white\\\",\\\"height\\\":480,\\\"legend\\\":{\\\"yanchor\\\":\\\"middle\\\",\\\"xanchor\\\":\\\"center\\\",\\\"y\\\":-0.2,\\\"orientation\\\":\\\"h\\\",\\\"x\\\":0.5},\\\"yaxis2\\\":{\\\"showgrid\\\":false,\\\"showticklabels\\\":false,\\\"domain\\\":[0.24,0.32]},\\\"yaxis3\\\":{\\\"showline\\\":true,\\\"domain\\\":[0.32,1.0]},\\\"autosize\\\":false,\\\"yaxis1\\\":{\\\"showline\\\":true,\\\"domain\\\":[0.0,0.24]},\\\"annotations\\\":[{\\\"yanchor\\\":\\\"middle\\\",\\\"xanchor\\\":\\\"center\\\",\\\"y\\\":1.16,\\\"font\\\":{\\\"size\\\":24},\\\"yref\\\":\\\"paper\\\",\\\"showarrow\\\":false,\\\"text\\\":\\\"<b>Mountain Plot<\\/b>\\\",\\\"xref\\\":\\\"paper\\\",\\\"x\\\":0.5},{\\\"yanchor\\\":\\\"middle\\\",\\\"xanchor\\\":\\\"center\\\",\\\"y\\\":1.04,\\\"font\\\":{\\\"color\\\":\\\"2a603b\\\",\\\"size\\\":15.36},\\\"yref\\\":\\\"paper\\\",\\\"showarrow\\\":false,\\\"text\\\":\\\"<b>Statistic = -0.500<\\/b>\\\",\\\"xref\\\":\\\"paper\\\",\\\"x\\\":0.5},{\\\"yanchor\\\":\\\"middle\\\",\\\"xanchor\\\":\\\"right\\\",\\\"y\\\":0.12,\\\"font\\\":{\\\"size\\\":12.6},\\\"yref\\\":\\\"paper\\\",\\\"showarrow\\\":false,\\\"text\\\":\\\"<b>Score<\\/b>\\\",\\\"xref\\\":\\\"paper\\\",\\\"x\\\":-0.064},{\\\"yanchor\\\":\\\"middle\\\",\\\"xanchor\\\":\\\"right\\\",\\\"y\\\":0.28,\\\"font\\\":{\\\"size\\\":12.6},\\\"yref\\\":\\\"paper\\\",\\\"showarrow\\\":false,\\\"text\\\":\\\"<b>Set<\\/b>\\\",\\\"xref\\\":\\\"paper\\\",\\\"x\\\":-0.064},{\\\"yanchor\\\":\\\"middle\\\",\\\"xanchor\\\":\\\"right\\\",\\\"y\\\":0.66,\\\"font\\\":{\\\"size\\\":12.6},\\\"yref\\\":\\\"paper\\\",\\\"showarrow\\\":false,\\\"text\\\":\\\"<b>Enrichment<\\/b>\\\",\\\"xref\\\":\\\"paper\\\",\\\"x\\\":-0.064},{\\\"yanchor\\\":\\\"middle\\\",\\\"xanchor\\\":\\\"center\\\",\\\"y\\\":-0.088,\\\"yref\\\":\\\"paper\\\",\\\"showarrow\\\":false,\\\"text\\\":\\\"<b>Feature Rank (n=13)<\\/b>\\\",\\\"xref\\\":\\\"paper\\\",\\\"x\\\":0.5}],\\\"margin\\\":{\\\"l\\\":124,\\\"b\\\":50,\\\"r\\\":50,\\\"t\\\":76},\\\"width\\\":776.6400000000001},{\\\"modeBarButtonsToRemove\\\":[\\\"select\\\",\\\"lasso\\\",\\\"resetScale\\\"],\\\"displaylogo\\\":false,\\\"showLink\\\":false,\\\"editable\\\":false,\\\"responsive\\\":true,\\\"staticPlot\\\":false,\\\"scrollZoom\\\":true}); gd.on(\\\"plotly_hover\\\",(function (data){var filtered_data=WebIO.PlotlyCommands.filterEventData(gd,data,\\\"hover\\\"); return !(filtered_data.isnil) ? (WebIO.setval({\\\"name\\\":\\\"hover\\\",\\\"scope\\\":\\\"15944988360209757644\\\",\\\"id\\\":\\\"17899485612232695993\\\",\\\"type\\\":\\\"observable\\\"},filtered_data.out)) : undefined})); gd.on(\\\"plotly_unhover\\\",(function (){return WebIO.setval({\\\"name\\\":\\\"hover\\\",\\\"scope\\\":\\\"15944988360209757644\\\",\\\"id\\\":\\\"17899485612232695993\\\",\\\"type\\\":\\\"observable\\\"},{})})); gd.on(\\\"plotly_selected\\\",(function (data){var filtered_data=WebIO.PlotlyCommands.filterEventData(gd,data,\\\"selected\\\"); return !(filtered_data.isnil) ? (WebIO.setval({\\\"name\\\":\\\"selected\\\",\\\"scope\\\":\\\"15944988360209757644\\\",\\\"id\\\":\\\"228242231861877584\\\",\\\"type\\\":\\\"observable\\\"},filtered_data.out)) : undefined})); gd.on(\\\"plotly_deselect\\\",(function (){return WebIO.setval({\\\"name\\\":\\\"selected\\\",\\\"scope\\\":\\\"15944988360209757644\\\",\\\"id\\\":\\\"228242231861877584\\\",\\\"type\\\":\\\"observable\\\"},{})})); gd.on(\\\"plotly_relayout\\\",(function (data){var filtered_data=WebIO.PlotlyCommands.filterEventData(gd,data,\\\"relayout\\\"); return !(filtered_data.isnil) ? (WebIO.setval({\\\"name\\\":\\\"relayout\\\",\\\"scope\\\":\\\"15944988360209757644\\\",\\\"id\\\":\\\"16686259081143116665\\\",\\\"type\\\":\\\"observable\\\"},filtered_data.out)) : undefined})); return gd.on(\\\"plotly_click\\\",(function (data){var filtered_data=WebIO.PlotlyCommands.filterEventData(gd,data,\\\"click\\\"); return !(filtered_data.isnil) ? (WebIO.setval({\\\"name\\\":\\\"click\\\",\\\"scope\\\":\\\"15944988360209757644\\\",\\\"id\\\":\\\"16238767503516384377\\\",\\\"type\\\":\\\"observable\\\"},filtered_data.out)) : undefined}))}));\\n    (WebIO.importBlock({\\\"data\\\":[{\\\"name\\\":\\\"Plotly\\\",\\\"type\\\":\\\"js\\\",\\\"url\\\":\\\"\\/assetserver\\/158c0f180d15ee74805874e8110b330fdc2995bf-plotly.min.js\\\"},{\\\"name\\\":null,\\\"type\\\":\\\"js\\\",\\\"url\\\":\\\"\\/assetserver\\/2ccd90ec3310003cd9d125c70256aac6bda762ef-plotly_webio.bundle.js\\\"}],\\\"type\\\":\\\"async_block\\\"})).then((imports) => handler.apply(this, imports));\\n}\\n\"],\"observables\":{\"_toImage\":{\"sync\":false,\"id\":\"8375346058552629214\",\"value\":{}},\"hover\":{\"sync\":false,\"id\":\"17899485612232695993\",\"value\":{}},\"selected\":{\"sync\":false,\"id\":\"228242231861877584\",\"value\":{}},\"__gd_contents\":{\"sync\":false,\"id\":\"15067454959140051650\",\"value\":{}},\"click\":{\"sync\":false,\"id\":\"16238767503516384377\",\"value\":{}},\"image\":{\"sync\":true,\"id\":\"459308244826360085\",\"value\":\"\"},\"__get_gd_contents\":{\"sync\":false,\"id\":\"3919867173972259994\",\"value\":\"\"},\"_downloadImage\":{\"sync\":false,\"id\":\"1333372903588830807\",\"value\":{}},\"relayout\":{\"sync\":false,\"id\":\"16686259081143116665\",\"value\":{}},\"_commands\":{\"sync\":false,\"id\":\"1908763459831696462\",\"value\":[]}}},\"children\":[{\"props\":{\"id\":\"plot-98044ff0-7f41-41c6-a2e2-aed5757edce9\"},\"nodeType\":\"DOM\",\"type\":\"node\",\"instanceArgs\":{\"namespace\":\"html\",\"tag\":\"div\"},\"children\":[]}]},\n",
       "        window,\n",
       "    );\n",
       "    })()\n",
       "    </script>\n",
       "</div>\n"
      ],
      "text/plain": [
       "data: [\n",
       "  \"scatter with fields fill, hoverinfo, line, mode, name, text, type, x, and y\",\n",
       "  \"scatter with fields hoverinfo, marker, mode, name, text, type, x, y, and yaxis\",\n",
       "  \"scatter with fields fill, hoverinfo, line, mode, name, text, type, x, y, and yaxis\"\n",
       "]\n",
       "\n",
       "layout: \"layout with fields annotations, autosize, height, hovermode, legend, margin, template, width, xaxis, yaxis1, yaxis2, and yaxis3\"\n",
       "\n"
      ]
     },
     "metadata": {},
     "output_type": "display_data"
    },
    {
     "name": "stdout",
     "output_type": "stream",
     "text": [
      "-0.5000000000000001\n"
     ]
    },
    {
     "data": {
      "application/vnd.plotly.v1+json": {
       "config": {
        "displaylogo": false,
        "editable": false,
        "modeBarButtonsToRemove": [
         "select",
         "lasso",
         "resetScale"
        ],
        "responsive": true,
        "scrollZoom": true,
        "showLink": false,
        "staticPlot": false
       },
       "data": [
        {
         "fill": "tozeroy",
         "hoverinfo": "x+y+text",
         "line": {
          "color": "20d8ba",
          "width": 0
         },
         "mode": "lines",
         "name": "Score",
         "text": [
          "A",
          "2",
          "3",
          "4",
          "5",
          "6",
          "7",
          "8",
          "9",
          "X",
          "J",
          "Q",
          "K"
         ],
         "type": "scatter",
         "x": [
          1,
          2,
          3,
          4,
          5,
          6,
          7,
          8,
          9,
          10,
          11,
          12,
          13
         ],
         "y": [
          -6,
          -5,
          -4,
          -3,
          -2,
          -1,
          0,
          1,
          2,
          3,
          4,
          5,
          6
         ]
        },
        {
         "hoverinfo": "x+text",
         "marker": {
          "color": "9017e6",
          "line": {
           "width": 2
          },
          "size": 24.576000000000004,
          "symbol": "line-ns-open"
         },
         "mode": "markers",
         "name": "Set",
         "text": [
          "A",
          "K"
         ],
         "type": "scatter",
         "x": [
          1,
          13
         ],
         "y": [
          0,
          0
         ],
         "yaxis": "y2"
        },
        {
         "fill": "tozeroy",
         "hoverinfo": "x+y+text",
         "line": {
          "color": "#4e40d8",
          "width": 0
         },
         "mode": "lines",
         "name": "Enrichment",
         "text": [
          "A",
          "2",
          "3",
          "4",
          "5",
          "6",
          "7",
          "8",
          "9",
          "X",
          "J",
          "Q",
          "K"
         ],
         "type": "scatter",
         "x": [
          1,
          2,
          3,
          4,
          5,
          6,
          7,
          8,
          9,
          10,
          11,
          12,
          13
         ],
         "y": [
          -0.6263814842476916,
          -0.8431553242300714,
          -0.6751484735145143,
          -0.5233156342887337,
          -0.3646108440634789,
          -0.1904459339352276,
          0,
          0.1904459339352276,
          0.36461084406347893,
          0.5233156342887337,
          0.6751484735145143,
          0.8431553242300713,
          0.6263814842476916
         ],
         "yaxis": "y3"
        }
       ],
       "frames": [],
       "layout": {
        "annotations": [
         {
          "font": {
           "size": 24
          },
          "showarrow": false,
          "text": "<b>Mountain Plot</b>",
          "x": 0.5,
          "xanchor": "center",
          "xref": "paper",
          "y": 1.16,
          "yanchor": "middle",
          "yref": "paper"
         },
         {
          "font": {
           "color": "2a603b",
           "size": 15.36
          },
          "showarrow": false,
          "text": "<b>Statistic = -0.000</b>",
          "x": 0.5,
          "xanchor": "center",
          "xref": "paper",
          "y": 1.04,
          "yanchor": "middle",
          "yref": "paper"
         },
         {
          "font": {
           "size": 12.6
          },
          "showarrow": false,
          "text": "<b>Score</b>",
          "x": -0.064,
          "xanchor": "right",
          "xref": "paper",
          "y": 0.12,
          "yanchor": "middle",
          "yref": "paper"
         },
         {
          "font": {
           "size": 12.6
          },
          "showarrow": false,
          "text": "<b>Set</b>",
          "x": -0.064,
          "xanchor": "right",
          "xref": "paper",
          "y": 0.28,
          "yanchor": "middle",
          "yref": "paper"
         },
         {
          "font": {
           "size": 12.6
          },
          "showarrow": false,
          "text": "<b>Enrichment</b>",
          "x": -0.064,
          "xanchor": "right",
          "xref": "paper",
          "y": 0.66,
          "yanchor": "middle",
          "yref": "paper"
         },
         {
          "showarrow": false,
          "text": "<b>Feature Rank (n=13)</b>",
          "x": 0.5,
          "xanchor": "center",
          "xref": "paper",
          "y": -0.088,
          "yanchor": "middle",
          "yref": "paper"
         }
        ],
        "autosize": false,
        "height": 480,
        "hovermode": "closest",
        "legend": {
         "orientation": "h",
         "x": 0.5,
         "xanchor": "center",
         "y": -0.2,
         "yanchor": "middle"
        },
        "margin": {
         "b": 50,
         "l": 124,
         "r": 50,
         "t": 76
        },
        "template": "plotly_white",
        "width": 776.6400000000001,
        "xaxis": {
         "showspikes": true,
         "spikedash": "solid",
         "spikemode": "across",
         "spikethickness": 0.8,
         "zeroline": false
        },
        "yaxis1": {
         "domain": [
          0,
          0.24
         ],
         "showline": true
        },
        "yaxis2": {
         "domain": [
          0.24,
          0.32
         ],
         "showgrid": false,
         "showticklabels": false
        },
        "yaxis3": {
         "domain": [
          0.32,
          1
         ],
         "showline": true
        }
       }
      },
      "text/html": [
       "<div\n",
       "    class=\"webio-mountpoint\"\n",
       "    data-webio-mountpoint=\"18063388332045670952\"\n",
       ">\n",
       "    <script>\n",
       "    (function(){\n",
       "    // Some integrations (namely, IJulia/Jupyter) use an alternate render pathway than\n",
       "    // just putting the html on the page. If WebIO isn't defined, then it's pretty likely\n",
       "    // that we're in one of those situations and the integration just isn't installed\n",
       "    // correctly.\n",
       "    if (typeof window.WebIO === \"undefined\") {\n",
       "        document\n",
       "            .querySelector('[data-webio-mountpoint=\"18063388332045670952\"]')\n",
       "            .innerHTML = (\n",
       "                '<div style=\"padding: 1em; background-color: #f8d6da; border: 1px solid #f5c6cb; font-weight: bold;\">' +\n",
       "                '<p><strong>WebIO not detected.</strong></p>' +\n",
       "                '<p>Please read ' +\n",
       "                '<a href=\"https://juliagizmos.github.io/WebIO.jl/latest/troubleshooting/not-detected/\" target=\"_blank\">the troubleshooting guide</a> ' +\n",
       "                'for more information on how to resolve this issue.</p>' +\n",
       "                '<p><a href=\"https://juliagizmos.github.io/WebIO.jl/latest/troubleshooting/not-detected/\" target=\"_blank\">https://juliagizmos.github.io/WebIO.jl/latest/troubleshooting/not-detected/</a></p>' +\n",
       "                '</div>'\n",
       "            );\n",
       "        return;\n",
       "    }\n",
       "    WebIO.mount(\n",
       "        document.querySelector('[data-webio-mountpoint=\"18063388332045670952\"]'),\n",
       "        {\"props\":{},\"nodeType\":\"Scope\",\"type\":\"node\",\"instanceArgs\":{\"imports\":{\"data\":[{\"name\":\"Plotly\",\"type\":\"js\",\"url\":\"\\/assetserver\\/158c0f180d15ee74805874e8110b330fdc2995bf-plotly.min.js\"},{\"name\":null,\"type\":\"js\",\"url\":\"\\/assetserver\\/2ccd90ec3310003cd9d125c70256aac6bda762ef-plotly_webio.bundle.js\"}],\"type\":\"async_block\"},\"id\":\"4629020947528409074\",\"handlers\":{\"_toImage\":[\"(function (options){return this.Plotly.toImage(this.plotElem,options).then((function (data){return WebIO.setval({\\\"name\\\":\\\"image\\\",\\\"scope\\\":\\\"4629020947528409074\\\",\\\"id\\\":\\\"14115180483488425845\\\",\\\"type\\\":\\\"observable\\\"},data)}))})\"],\"__get_gd_contents\":[\"(function (prop){prop==\\\"data\\\" ? (WebIO.setval({\\\"name\\\":\\\"__gd_contents\\\",\\\"scope\\\":\\\"4629020947528409074\\\",\\\"id\\\":\\\"4895628826487673534\\\",\\\"type\\\":\\\"observable\\\"},this.plotElem.data)) : undefined; return prop==\\\"layout\\\" ? (WebIO.setval({\\\"name\\\":\\\"__gd_contents\\\",\\\"scope\\\":\\\"4629020947528409074\\\",\\\"id\\\":\\\"4895628826487673534\\\",\\\"type\\\":\\\"observable\\\"},this.plotElem.layout)) : undefined})\"],\"_downloadImage\":[\"(function (options){return this.Plotly.downloadImage(this.plotElem,options)})\"],\"_commands\":[\"(function (args){var fn=args.shift(); var elem=this.plotElem; var Plotly=this.Plotly; args.unshift(elem); return Plotly[fn].apply(this,args)})\"]},\"systemjs_options\":null,\"mount_callbacks\":[\"function () {\\n    var handler = ((function (Plotly,PlotlyWebIO){PlotlyWebIO.init(WebIO); var gd=this.dom.querySelector(\\\"#plot-ecafc1ac-88b2-4c71-95b1-df183bf6da9a\\\"); this.plotElem=gd; this.Plotly=Plotly; (window.Blink!==undefined) ? (gd.style.width=\\\"100%\\\", gd.style.height=\\\"100vh\\\", gd.style.marginLeft=\\\"0%\\\", gd.style.marginTop=\\\"0vh\\\") : undefined; window.onresize=(function (){return Plotly.Plots.resize(gd)}); Plotly.newPlot(gd,[{\\\"mode\\\":\\\"lines\\\",\\\"line\\\":{\\\"color\\\":\\\"20d8ba\\\",\\\"width\\\":0},\\\"y\\\":[-6.0,-5.0,-4.0,-3.0,-2.0,-1.0,0.0,1.0,2.0,3.0,4.0,5.0,6.0],\\\"type\\\":\\\"scatter\\\",\\\"name\\\":\\\"Score\\\",\\\"fill\\\":\\\"tozeroy\\\",\\\"hoverinfo\\\":\\\"x+y+text\\\",\\\"text\\\":[\\\"A\\\",\\\"2\\\",\\\"3\\\",\\\"4\\\",\\\"5\\\",\\\"6\\\",\\\"7\\\",\\\"8\\\",\\\"9\\\",\\\"X\\\",\\\"J\\\",\\\"Q\\\",\\\"K\\\"],\\\"x\\\":[1,2,3,4,5,6,7,8,9,10,11,12,13]},{\\\"x\\\":[1,13],\\\"mode\\\":\\\"markers\\\",\\\"y\\\":[0.0,0.0],\\\"type\\\":\\\"scatter\\\",\\\"name\\\":\\\"Set\\\",\\\"hoverinfo\\\":\\\"x+text\\\",\\\"yaxis\\\":\\\"y2\\\",\\\"text\\\":[\\\"A\\\",\\\"K\\\"],\\\"marker\\\":{\\\"symbol\\\":\\\"line-ns-open\\\",\\\"color\\\":\\\"9017e6\\\",\\\"line\\\":{\\\"width\\\":2.0},\\\"size\\\":24.576000000000004}},{\\\"mode\\\":\\\"lines\\\",\\\"line\\\":{\\\"color\\\":\\\"#4e40d8\\\",\\\"width\\\":0.0},\\\"y\\\":[-0.6263814842476916,-0.8431553242300714,-0.6751484735145143,-0.5233156342887337,-0.3646108440634789,-0.1904459339352276,0.0,0.1904459339352276,0.36461084406347893,0.5233156342887337,0.6751484735145143,0.8431553242300713,0.6263814842476916],\\\"type\\\":\\\"scatter\\\",\\\"name\\\":\\\"Enrichment\\\",\\\"fill\\\":\\\"tozeroy\\\",\\\"hoverinfo\\\":\\\"x+y+text\\\",\\\"yaxis\\\":\\\"y3\\\",\\\"text\\\":[\\\"A\\\",\\\"2\\\",\\\"3\\\",\\\"4\\\",\\\"5\\\",\\\"6\\\",\\\"7\\\",\\\"8\\\",\\\"9\\\",\\\"X\\\",\\\"J\\\",\\\"Q\\\",\\\"K\\\"],\\\"x\\\":[1,2,3,4,5,6,7,8,9,10,11,12,13]}],{\\\"xaxis\\\":{\\\"zeroline\\\":false,\\\"spikethickness\\\":0.8,\\\"showspikes\\\":true,\\\"spikemode\\\":\\\"across\\\",\\\"spikedash\\\":\\\"solid\\\"},\\\"hovermode\\\":\\\"closest\\\",\\\"template\\\":\\\"plotly_white\\\",\\\"height\\\":480,\\\"legend\\\":{\\\"yanchor\\\":\\\"middle\\\",\\\"xanchor\\\":\\\"center\\\",\\\"y\\\":-0.2,\\\"orientation\\\":\\\"h\\\",\\\"x\\\":0.5},\\\"yaxis2\\\":{\\\"showgrid\\\":false,\\\"showticklabels\\\":false,\\\"domain\\\":[0.24,0.32]},\\\"yaxis3\\\":{\\\"showline\\\":true,\\\"domain\\\":[0.32,1.0]},\\\"autosize\\\":false,\\\"yaxis1\\\":{\\\"showline\\\":true,\\\"domain\\\":[0.0,0.24]},\\\"annotations\\\":[{\\\"yanchor\\\":\\\"middle\\\",\\\"xanchor\\\":\\\"center\\\",\\\"y\\\":1.16,\\\"font\\\":{\\\"size\\\":24},\\\"yref\\\":\\\"paper\\\",\\\"showarrow\\\":false,\\\"text\\\":\\\"<b>Mountain Plot<\\/b>\\\",\\\"xref\\\":\\\"paper\\\",\\\"x\\\":0.5},{\\\"yanchor\\\":\\\"middle\\\",\\\"xanchor\\\":\\\"center\\\",\\\"y\\\":1.04,\\\"font\\\":{\\\"color\\\":\\\"2a603b\\\",\\\"size\\\":15.36},\\\"yref\\\":\\\"paper\\\",\\\"showarrow\\\":false,\\\"text\\\":\\\"<b>Statistic = -0.000<\\/b>\\\",\\\"xref\\\":\\\"paper\\\",\\\"x\\\":0.5},{\\\"yanchor\\\":\\\"middle\\\",\\\"xanchor\\\":\\\"right\\\",\\\"y\\\":0.12,\\\"font\\\":{\\\"size\\\":12.6},\\\"yref\\\":\\\"paper\\\",\\\"showarrow\\\":false,\\\"text\\\":\\\"<b>Score<\\/b>\\\",\\\"xref\\\":\\\"paper\\\",\\\"x\\\":-0.064},{\\\"yanchor\\\":\\\"middle\\\",\\\"xanchor\\\":\\\"right\\\",\\\"y\\\":0.28,\\\"font\\\":{\\\"size\\\":12.6},\\\"yref\\\":\\\"paper\\\",\\\"showarrow\\\":false,\\\"text\\\":\\\"<b>Set<\\/b>\\\",\\\"xref\\\":\\\"paper\\\",\\\"x\\\":-0.064},{\\\"yanchor\\\":\\\"middle\\\",\\\"xanchor\\\":\\\"right\\\",\\\"y\\\":0.66,\\\"font\\\":{\\\"size\\\":12.6},\\\"yref\\\":\\\"paper\\\",\\\"showarrow\\\":false,\\\"text\\\":\\\"<b>Enrichment<\\/b>\\\",\\\"xref\\\":\\\"paper\\\",\\\"x\\\":-0.064},{\\\"yanchor\\\":\\\"middle\\\",\\\"xanchor\\\":\\\"center\\\",\\\"y\\\":-0.088,\\\"yref\\\":\\\"paper\\\",\\\"showarrow\\\":false,\\\"text\\\":\\\"<b>Feature Rank (n=13)<\\/b>\\\",\\\"xref\\\":\\\"paper\\\",\\\"x\\\":0.5}],\\\"margin\\\":{\\\"l\\\":124,\\\"b\\\":50,\\\"r\\\":50,\\\"t\\\":76},\\\"width\\\":776.6400000000001},{\\\"modeBarButtonsToRemove\\\":[\\\"select\\\",\\\"lasso\\\",\\\"resetScale\\\"],\\\"displaylogo\\\":false,\\\"showLink\\\":false,\\\"editable\\\":false,\\\"responsive\\\":true,\\\"staticPlot\\\":false,\\\"scrollZoom\\\":true}); gd.on(\\\"plotly_hover\\\",(function (data){var filtered_data=WebIO.PlotlyCommands.filterEventData(gd,data,\\\"hover\\\"); return !(filtered_data.isnil) ? (WebIO.setval({\\\"name\\\":\\\"hover\\\",\\\"scope\\\":\\\"4629020947528409074\\\",\\\"id\\\":\\\"5886894447651267671\\\",\\\"type\\\":\\\"observable\\\"},filtered_data.out)) : undefined})); gd.on(\\\"plotly_unhover\\\",(function (){return WebIO.setval({\\\"name\\\":\\\"hover\\\",\\\"scope\\\":\\\"4629020947528409074\\\",\\\"id\\\":\\\"5886894447651267671\\\",\\\"type\\\":\\\"observable\\\"},{})})); gd.on(\\\"plotly_selected\\\",(function (data){var filtered_data=WebIO.PlotlyCommands.filterEventData(gd,data,\\\"selected\\\"); return !(filtered_data.isnil) ? (WebIO.setval({\\\"name\\\":\\\"selected\\\",\\\"scope\\\":\\\"4629020947528409074\\\",\\\"id\\\":\\\"755769930243041508\\\",\\\"type\\\":\\\"observable\\\"},filtered_data.out)) : undefined})); gd.on(\\\"plotly_deselect\\\",(function (){return WebIO.setval({\\\"name\\\":\\\"selected\\\",\\\"scope\\\":\\\"4629020947528409074\\\",\\\"id\\\":\\\"755769930243041508\\\",\\\"type\\\":\\\"observable\\\"},{})})); gd.on(\\\"plotly_relayout\\\",(function (data){var filtered_data=WebIO.PlotlyCommands.filterEventData(gd,data,\\\"relayout\\\"); return !(filtered_data.isnil) ? (WebIO.setval({\\\"name\\\":\\\"relayout\\\",\\\"scope\\\":\\\"4629020947528409074\\\",\\\"id\\\":\\\"18313062927640193823\\\",\\\"type\\\":\\\"observable\\\"},filtered_data.out)) : undefined})); return gd.on(\\\"plotly_click\\\",(function (data){var filtered_data=WebIO.PlotlyCommands.filterEventData(gd,data,\\\"click\\\"); return !(filtered_data.isnil) ? (WebIO.setval({\\\"name\\\":\\\"click\\\",\\\"scope\\\":\\\"4629020947528409074\\\",\\\"id\\\":\\\"3984819154827745358\\\",\\\"type\\\":\\\"observable\\\"},filtered_data.out)) : undefined}))}));\\n    (WebIO.importBlock({\\\"data\\\":[{\\\"name\\\":\\\"Plotly\\\",\\\"type\\\":\\\"js\\\",\\\"url\\\":\\\"\\/assetserver\\/158c0f180d15ee74805874e8110b330fdc2995bf-plotly.min.js\\\"},{\\\"name\\\":null,\\\"type\\\":\\\"js\\\",\\\"url\\\":\\\"\\/assetserver\\/2ccd90ec3310003cd9d125c70256aac6bda762ef-plotly_webio.bundle.js\\\"}],\\\"type\\\":\\\"async_block\\\"})).then((imports) => handler.apply(this, imports));\\n}\\n\"],\"observables\":{\"_toImage\":{\"sync\":false,\"id\":\"1200474838597513104\",\"value\":{}},\"hover\":{\"sync\":false,\"id\":\"5886894447651267671\",\"value\":{}},\"selected\":{\"sync\":false,\"id\":\"755769930243041508\",\"value\":{}},\"__gd_contents\":{\"sync\":false,\"id\":\"4895628826487673534\",\"value\":{}},\"click\":{\"sync\":false,\"id\":\"3984819154827745358\",\"value\":{}},\"image\":{\"sync\":true,\"id\":\"14115180483488425845\",\"value\":\"\"},\"__get_gd_contents\":{\"sync\":false,\"id\":\"7133810124553256774\",\"value\":\"\"},\"_downloadImage\":{\"sync\":false,\"id\":\"2164556056953905401\",\"value\":{}},\"relayout\":{\"sync\":false,\"id\":\"18313062927640193823\",\"value\":{}},\"_commands\":{\"sync\":false,\"id\":\"10418929584572676170\",\"value\":[]}}},\"children\":[{\"props\":{\"id\":\"plot-ecafc1ac-88b2-4c71-95b1-df183bf6da9a\"},\"nodeType\":\"DOM\",\"type\":\"node\",\"instanceArgs\":{\"namespace\":\"html\",\"tag\":\"div\"},\"children\":[]}]},\n",
       "        window,\n",
       "    );\n",
       "    })()\n",
       "    </script>\n",
       "</div>\n"
      ],
      "text/plain": [
       "data: [\n",
       "  \"scatter with fields fill, hoverinfo, line, mode, name, text, type, x, and y\",\n",
       "  \"scatter with fields hoverinfo, marker, mode, name, text, type, x, y, and yaxis\",\n",
       "  \"scatter with fields fill, hoverinfo, line, mode, name, text, type, x, y, and yaxis\"\n",
       "]\n",
       "\n",
       "layout: \"layout with fields annotations, autosize, height, hovermode, legend, margin, template, width, xaxis, yaxis1, yaxis2, and yaxis3\"\n",
       "\n"
      ]
     },
     "metadata": {},
     "output_type": "display_data"
    },
    {
     "name": "stdout",
     "output_type": "stream",
     "text": [
      "-1.708035422500241e-17\n"
     ]
    }
   ],
   "source": [
    "di = joinpath(homedir(), \"Downloads\", \"\")\n",
    "\n",
    "fe_, sc_, fe1_ = Kwat.feature_set_enrichment.make_benchmark(\"card AK\")\n",
    "\n",
    "println(\n",
    "    Kwat.feature_set_enrichment.score_set(\n",
    "        fe_,\n",
    "        sc_,\n",
    "        fe1_;\n",
    "        si = false,\n",
    "        pa = joinpath(di, \"old_algorithm.png\"),\n",
    "    ),\n",
    ")\n",
    "\n",
    "println(\n",
    "    Kwat.feature_set_enrichment.score_set_new(\n",
    "        fe_,\n",
    "        sc_,\n",
    "        fe1_;\n",
    "        si = false,\n",
    "        pa = joinpath(di, \"new_algorithm.jpeg\"),\n",
    "    ),\n",
    ")"
   ]
  },
  {
   "cell_type": "markdown",
   "metadata": {},
   "source": [
    "## _sum_1_absolute_and_0_count"
   ]
  },
  {
   "cell_type": "code",
   "execution_count": null,
   "metadata": {},
   "outputs": [],
   "source": [
    "ve = Kwat.vector_number.convert([-2, -1, 0, 1, 2])\n",
    "\n",
    "in_ = Kwat.vector_number.convert([1, 1, 0, 0, 1])\n",
    "\n",
    "Kwat.feature_set_enrichment._sum_1_absolute_and_0_count(ve, in_)"
   ]
  },
  {
   "cell_type": "markdown",
   "metadata": {},
   "source": [
    "## "
   ]
  },
  {
   "cell_type": "code",
   "execution_count": null,
   "metadata": {},
   "outputs": [],
   "source": [
    "fe_, sc_, fe1_ = Kwat.feature_set_enrichment.make_benchmark(\"myc\")\n",
    "\n",
    "in_ = Kwat.vector.check_in(fe_, fe1_)\n",
    "\n",
    "se_fe_ = Kwat.file.read_gmt(joinpath(\"data\", \"h.all.v7.1.symbols.gmt\"))\n",
    "\n",
    ";"
   ]
  },
  {
   "cell_type": "markdown",
   "metadata": {},
   "source": [
    "## score_set (1 1)"
   ]
  },
  {
   "cell_type": "code",
   "execution_count": null,
   "metadata": {},
   "outputs": [],
   "source": [
    "@btime Kwat.vector.check_in(fe_, fe1_)"
   ]
  },
  {
   "cell_type": "code",
   "execution_count": null,
   "metadata": {},
   "outputs": [],
   "source": [
    "@btime Kwat.feature_set_enrichment.score_set(fe_, sc_, fe1_, in_; pl = false)"
   ]
  },
  {
   "cell_type": "markdown",
   "metadata": {},
   "source": [
    "## score_set (1 1)"
   ]
  },
  {
   "cell_type": "code",
   "execution_count": null,
   "metadata": {},
   "outputs": [],
   "source": [
    "@btime Kwat.feature_set_enrichment.score_set(fe_, sc_, fe1_; pl = false)"
   ]
  },
  {
   "cell_type": "code",
   "execution_count": null,
   "metadata": {
    "scrolled": false
   },
   "outputs": [],
   "source": [
    "Kwat.feature_set_enrichment.score_set(fe_, sc_, fe1_)"
   ]
  },
  {
   "cell_type": "markdown",
   "metadata": {},
   "source": [
    "## score_set (1 n)"
   ]
  },
  {
   "cell_type": "code",
   "execution_count": null,
   "metadata": {},
   "outputs": [],
   "source": [
    "@btime Kwat.feature_set_enrichment.score_set(fe_, sc_, se_fe_)"
   ]
  },
  {
   "cell_type": "markdown",
   "metadata": {},
   "source": [
    "## score_set (n n)"
   ]
  },
  {
   "cell_type": "code",
   "execution_count": null,
   "metadata": {},
   "outputs": [],
   "source": [
    "sc_fe_sa = DataFrame(\n",
    "    Symbol(\"Feature\") => fe_,\n",
    "    Symbol(\"Score\") => sc_,\n",
    "    Symbol(\"Score x 10\") => sc_ * 10,\n",
    "    Symbol(\"Constant\") => fill(0.8, length(fe_)),\n",
    ")\n",
    "\n",
    "@btime Kwat.feature_set_enrichment.score_set(sc_fe_sa, se_fe_; n_jo = 1)"
   ]
  },
  {
   "cell_type": "markdown",
   "metadata": {},
   "source": [
    "## sc_se_new (1 1)"
   ]
  },
  {
   "cell_type": "code",
   "execution_count": null,
   "metadata": {},
   "outputs": [],
   "source": [
    "@btime Kwat.feature_set_enrichment.score_set_new(fe_, sc_, fe1_; pl = false)"
   ]
  },
  {
   "cell_type": "code",
   "execution_count": null,
   "metadata": {},
   "outputs": [],
   "source": [
    "Kwat.feature_set_enrichment.score_set_new(fe_, sc_, fe1_)"
   ]
  },
  {
   "cell_type": "markdown",
   "metadata": {},
   "source": [
    "## sc_se_new (1 n)"
   ]
  },
  {
   "cell_type": "code",
   "execution_count": null,
   "metadata": {},
   "outputs": [],
   "source": [
    "@btime Kwat.feature_set_enrichment.score_set_new(fe_, sc_, se_fe_)"
   ]
  },
  {
   "cell_type": "markdown",
   "metadata": {},
   "source": [
    "## try_method"
   ]
  },
  {
   "cell_type": "code",
   "execution_count": null,
   "metadata": {},
   "outputs": [],
   "source": [
    "Kwat.feature_set_enrichment.try_method(fe_, sc_, fe1_)"
   ]
  }
 ],
 "metadata": {
  "@webio": {
   "lastCommId": "c8f037aec6ce465982591c6e992e8504",
   "lastKernelId": "3fc4aef8-5cff-44d7-a9ea-696be6646012"
  },
  "kernelspec": {
   "display_name": "Julia 1.6.3",
   "language": "julia",
   "name": "julia-1.6"
  },
  "language_info": {
   "file_extension": ".jl",
   "mimetype": "application/julia",
   "name": "julia",
   "version": "1.6.3"
  }
 },
 "nbformat": 4,
 "nbformat_minor": 4
}
