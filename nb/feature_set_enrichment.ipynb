{
 "cells": [
  {
   "cell_type": "code",
   "execution_count": null,
   "metadata": {
    "execution": {
     "iopub.execute_input": "2021-10-14T18:27:04.494629Z",
     "iopub.status.busy": "2021-10-14T18:27:03.922495Z",
     "iopub.status.idle": "2021-10-14T18:27:18.448153Z",
     "shell.execute_reply": "2021-10-14T18:27:18.447648Z"
    }
   },
   "outputs": [],
   "source": [
    "using DataFrames\n",
    "\n",
    "using Kwat"
   ]
  },
  {
   "cell_type": "markdown",
   "metadata": {},
   "source": [
    "## "
   ]
  },
  {
   "cell_type": "code",
   "execution_count": null,
   "metadata": {
    "execution": {
     "iopub.execute_input": "2021-10-14T18:27:20.050696Z",
     "iopub.status.busy": "2021-10-14T18:27:18.449437Z",
     "iopub.status.idle": "2021-10-14T18:27:20.873963Z",
     "shell.execute_reply": "2021-10-14T18:27:20.873164Z"
    }
   },
   "outputs": [],
   "source": [
    "dw = joinpath(homedir(), \"Downloads\", \"\")\n",
    "\n",
    ";"
   ]
  },
  {
   "cell_type": "markdown",
   "metadata": {},
   "source": [
    "## make_benchmark"
   ]
  },
  {
   "cell_type": "code",
   "execution_count": null,
   "metadata": {
    "execution": {
     "iopub.execute_input": "2021-10-14T18:27:20.876206Z",
     "iopub.status.busy": "2021-10-14T18:27:20.875653Z",
     "iopub.status.idle": "2021-10-14T18:27:27.843361Z",
     "shell.execute_reply": "2021-10-14T18:27:27.842909Z"
    }
   },
   "outputs": [],
   "source": [
    "Kwat.feature_set_enrichment.make_benchmark(\"card A2K\")"
   ]
  },
  {
   "cell_type": "code",
   "execution_count": null,
   "metadata": {
    "execution": {
     "iopub.execute_input": "2021-10-14T18:27:27.845230Z",
     "iopub.status.busy": "2021-10-14T18:27:27.844642Z",
     "iopub.status.idle": "2021-10-14T18:27:28.200609Z",
     "shell.execute_reply": "2021-10-14T18:27:28.200231Z"
    }
   },
   "outputs": [],
   "source": [
    "Kwat.feature_set_enrichment.make_benchmark(\"random 4 2\")"
   ]
  },
  {
   "cell_type": "markdown",
   "metadata": {},
   "source": [
    "## plot_mountain"
   ]
  },
  {
   "cell_type": "code",
   "execution_count": null,
   "metadata": {
    "execution": {
     "iopub.execute_input": "2021-10-14T18:27:28.202451Z",
     "iopub.status.busy": "2021-10-14T18:27:28.201968Z",
     "iopub.status.idle": "2021-10-14T18:27:28.230694Z",
     "shell.execute_reply": "2021-10-14T18:27:28.230172Z"
    }
   },
   "outputs": [],
   "source": [
    "fe_, sc_, fe1_ = Kwat.feature_set_enrichment.make_benchmark(\"card AK\")\n",
    "\n",
    ";"
   ]
  },
  {
   "cell_type": "code",
   "execution_count": null,
   "metadata": {
    "execution": {
     "iopub.execute_input": "2021-10-14T18:27:28.232642Z",
     "iopub.status.busy": "2021-10-14T18:27:28.231997Z",
     "iopub.status.idle": "2021-10-14T18:27:39.324171Z",
     "shell.execute_reply": "2021-10-14T18:27:39.323792Z"
    }
   },
   "outputs": [],
   "source": [
    "Kwat.feature_set_enrichment.score_set(\n",
    "    fe_,\n",
    "    sc_,\n",
    "    fe1_;\n",
    "    si = false,\n",
    "    pa = joinpath(dw, \"old_algorithm.png\"),\n",
    ")"
   ]
  },
  {
   "cell_type": "code",
   "execution_count": null,
   "metadata": {
    "execution": {
     "iopub.execute_input": "2021-10-14T18:27:39.325903Z",
     "iopub.status.busy": "2021-10-14T18:27:39.325403Z",
     "iopub.status.idle": "2021-10-14T18:27:39.835354Z",
     "shell.execute_reply": "2021-10-14T18:27:39.834908Z"
    }
   },
   "outputs": [],
   "source": [
    "Kwat.feature_set_enrichment.score_set_new(\n",
    "    fe_,\n",
    "    sc_,\n",
    "    fe1_;\n",
    "    si = false,\n",
    "    pa = joinpath(dw, \"new_algorithm.jpeg\"),\n",
    ")"
   ]
  },
  {
   "cell_type": "markdown",
   "metadata": {},
   "source": [
    "## _sum_1_absolute_and_0_count"
   ]
  },
  {
   "cell_type": "code",
   "execution_count": null,
   "metadata": {
    "execution": {
     "iopub.execute_input": "2021-10-14T18:27:39.837459Z",
     "iopub.status.busy": "2021-10-14T18:27:39.836851Z",
     "iopub.status.idle": "2021-10-14T18:27:40.140875Z",
     "shell.execute_reply": "2021-10-14T18:27:40.140493Z"
    }
   },
   "outputs": [],
   "source": [
    "ve = Kwat.vector_number.convert([-2, -1, 0, 1, 2])\n",
    "\n",
    "in_ = Kwat.vector_number.convert([1, 1, 0, 0, 1])\n",
    "\n",
    "Kwat.feature_set_enrichment._sum_1_absolute_and_0_count(ve, in_)"
   ]
  },
  {
   "cell_type": "markdown",
   "metadata": {},
   "source": [
    "## "
   ]
  },
  {
   "cell_type": "code",
   "execution_count": null,
   "metadata": {
    "execution": {
     "iopub.execute_input": "2021-10-14T18:27:40.142693Z",
     "iopub.status.busy": "2021-10-14T18:27:40.142200Z",
     "iopub.status.idle": "2021-10-14T18:27:52.494745Z",
     "shell.execute_reply": "2021-10-14T18:27:52.494191Z"
    }
   },
   "outputs": [],
   "source": [
    "fe_, sc_, fe1_ = Kwat.feature_set_enrichment.make_benchmark(\"myc\")\n",
    "\n",
    "in_ = Kwat.vector.check_in(fe_, fe1_)\n",
    "\n",
    "se_fe_ = Kwat.gmt.read(joinpath(\"data\", \"h.all.v7.1.symbols.gmt\"))\n",
    "\n",
    ";"
   ]
  },
  {
   "cell_type": "markdown",
   "metadata": {},
   "source": [
    "## score_set (1 1)"
   ]
  },
  {
   "cell_type": "code",
   "execution_count": null,
   "metadata": {
    "execution": {
     "iopub.execute_input": "2021-10-14T18:27:52.496564Z",
     "iopub.status.busy": "2021-10-14T18:27:52.496016Z",
     "iopub.status.idle": "2021-10-14T18:28:05.392688Z",
     "shell.execute_reply": "2021-10-14T18:28:05.392286Z"
    }
   },
   "outputs": [],
   "source": [
    "@btime Kwat.vector.check_in(fe_, fe1_)"
   ]
  },
  {
   "cell_type": "code",
   "execution_count": null,
   "metadata": {
    "execution": {
     "iopub.execute_input": "2021-10-14T18:28:05.394425Z",
     "iopub.status.busy": "2021-10-14T18:28:05.393889Z",
     "iopub.status.idle": "2021-10-14T18:28:12.192621Z",
     "shell.execute_reply": "2021-10-14T18:28:12.192127Z"
    }
   },
   "outputs": [],
   "source": [
    "@btime Kwat.feature_set_enrichment.score_set(fe_, sc_, fe1_, in_; pl = false)"
   ]
  },
  {
   "cell_type": "markdown",
   "metadata": {},
   "source": [
    "## score_set (1 1)"
   ]
  },
  {
   "cell_type": "code",
   "execution_count": null,
   "metadata": {
    "execution": {
     "iopub.execute_input": "2021-10-14T18:28:12.194519Z",
     "iopub.status.busy": "2021-10-14T18:28:12.193942Z",
     "iopub.status.idle": "2021-10-14T18:28:23.474848Z",
     "shell.execute_reply": "2021-10-14T18:28:23.474459Z"
    }
   },
   "outputs": [],
   "source": [
    "@btime Kwat.feature_set_enrichment.score_set(fe_, sc_, fe1_; pl = false)"
   ]
  },
  {
   "cell_type": "code",
   "execution_count": null,
   "metadata": {
    "execution": {
     "iopub.execute_input": "2021-10-14T18:28:23.476607Z",
     "iopub.status.busy": "2021-10-14T18:28:23.476062Z",
     "iopub.status.idle": "2021-10-14T18:28:23.870604Z",
     "shell.execute_reply": "2021-10-14T18:28:23.786566Z"
    },
    "scrolled": false
   },
   "outputs": [],
   "source": [
    "Kwat.feature_set_enrichment.score_set(fe_, sc_, fe1_)"
   ]
  },
  {
   "cell_type": "markdown",
   "metadata": {},
   "source": [
    "## score_set (1 n)"
   ]
  },
  {
   "cell_type": "code",
   "execution_count": null,
   "metadata": {
    "execution": {
     "iopub.execute_input": "2021-10-14T18:28:23.872640Z",
     "iopub.status.busy": "2021-10-14T18:28:23.872140Z",
     "iopub.status.idle": "2021-10-14T18:28:36.223447Z",
     "shell.execute_reply": "2021-10-14T18:28:36.222986Z"
    }
   },
   "outputs": [],
   "source": [
    "@btime Kwat.feature_set_enrichment.score_set(fe_, sc_, se_fe_)"
   ]
  },
  {
   "cell_type": "markdown",
   "metadata": {},
   "source": [
    "## score_set (n n)"
   ]
  },
  {
   "cell_type": "code",
   "execution_count": null,
   "metadata": {
    "execution": {
     "iopub.execute_input": "2021-10-14T18:28:36.225473Z",
     "iopub.status.busy": "2021-10-14T18:28:36.224897Z",
     "iopub.status.idle": "2021-10-14T18:28:51.922699Z",
     "shell.execute_reply": "2021-10-14T18:28:51.922306Z"
    }
   },
   "outputs": [],
   "source": [
    "sc_fe_sa = DataFrame(\n",
    "    \"Feature\" => fe_,\n",
    "    \"Score\" => sc_,\n",
    "    \"Score x 10\" => sc_ * 10,\n",
    "    \"Constant\" => fill(0.8, length(fe_)),\n",
    ")\n",
    "\n",
    "@btime Kwat.feature_set_enrichment.score_set(sc_fe_sa, se_fe_; n_jo = 1)"
   ]
  },
  {
   "cell_type": "markdown",
   "metadata": {},
   "source": [
    "## sc_se_new (1 1)"
   ]
  },
  {
   "cell_type": "code",
   "execution_count": null,
   "metadata": {
    "execution": {
     "iopub.execute_input": "2021-10-14T18:28:51.924706Z",
     "iopub.status.busy": "2021-10-14T18:28:51.924211Z",
     "iopub.status.idle": "2021-10-14T18:29:03.232544Z",
     "shell.execute_reply": "2021-10-14T18:29:03.232080Z"
    }
   },
   "outputs": [],
   "source": [
    "@btime Kwat.feature_set_enrichment.score_set_new(fe_, sc_, fe1_; pl = false)"
   ]
  },
  {
   "cell_type": "code",
   "execution_count": null,
   "metadata": {
    "execution": {
     "iopub.execute_input": "2021-10-14T18:29:03.234420Z",
     "iopub.status.busy": "2021-10-14T18:29:03.233848Z",
     "iopub.status.idle": "2021-10-14T18:29:03.520974Z",
     "shell.execute_reply": "2021-10-14T18:29:03.432918Z"
    }
   },
   "outputs": [],
   "source": [
    "Kwat.feature_set_enrichment.score_set_new(fe_, sc_, fe1_)"
   ]
  },
  {
   "cell_type": "markdown",
   "metadata": {},
   "source": [
    "## sc_se_new (1 n)"
   ]
  },
  {
   "cell_type": "code",
   "execution_count": null,
   "metadata": {
    "execution": {
     "iopub.execute_input": "2021-10-14T18:29:03.522906Z",
     "iopub.status.busy": "2021-10-14T18:29:03.522250Z",
     "iopub.status.idle": "2021-10-14T18:29:16.149633Z",
     "shell.execute_reply": "2021-10-14T18:29:16.149188Z"
    }
   },
   "outputs": [],
   "source": [
    "@btime Kwat.feature_set_enrichment.score_set_new(fe_, sc_, se_fe_)"
   ]
  },
  {
   "cell_type": "markdown",
   "metadata": {},
   "source": [
    "## try_method"
   ]
  },
  {
   "cell_type": "code",
   "execution_count": null,
   "metadata": {
    "execution": {
     "iopub.execute_input": "2021-10-14T18:29:16.151654Z",
     "iopub.status.busy": "2021-10-14T18:29:16.151085Z",
     "iopub.status.idle": "2021-10-14T18:29:48.067987Z",
     "shell.execute_reply": "2021-10-14T18:29:48.067599Z"
    },
    "scrolled": false
   },
   "outputs": [],
   "source": [
    "Kwat.feature_set_enrichment.try_method(fe_, sc_, fe1_)"
   ]
  }
 ],
 "metadata": {
  "@webio": {
   "lastCommId": "31cb18ab733c4028b4df6640d8bdf9f1",
   "lastKernelId": "1ce760f1-7f07-4e65-b669-b9055b970cc5"
  },
  "kernelspec": {
   "display_name": "Julia 1.6.3",
   "language": "julia",
   "name": "julia-1.6"
  },
  "language_info": {
   "file_extension": ".jl",
   "mimetype": "application/julia",
   "name": "julia",
   "version": "1.6.3"
  }
 },
 "nbformat": 4,
 "nbformat_minor": 4
}
