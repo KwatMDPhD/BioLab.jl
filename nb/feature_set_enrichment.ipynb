{
 "cells": [
  {
   "cell_type": "code",
   "execution_count": null,
   "metadata": {
    "execution": {
     "iopub.execute_input": "2021-10-15T01:59:56.508825Z",
     "iopub.status.busy": "2021-10-15T01:59:55.940959Z",
     "iopub.status.idle": "2021-10-15T02:00:10.551562Z",
     "shell.execute_reply": "2021-10-15T02:00:10.551042Z"
    }
   },
   "outputs": [],
   "source": [
    "using DataFrames\n",
    "\n",
    "using GSEA\n",
    "using Kwat"
   ]
  },
  {
   "cell_type": "code",
   "execution_count": null,
   "metadata": {},
   "outputs": [],
   "source": [
    "ts = \"/Users/kwat/craft/tool/kwat.py/nb/data/function_heat_map_da.tsv\"\n",
    "\n",
    "sc_fe_sa = Kwat.table.read(ts)\n",
    "\n",
    ";"
   ]
  },
  {
   "cell_type": "code",
   "execution_count": null,
   "metadata": {},
   "outputs": [],
   "source": [
    "ta = \"/Users/kwat/craft/tool/kwat.py/nb/data/function_heat_map_ta.tsv\"\n",
    "\n",
    "sa_va = Kwat.table.read(ta)\n",
    "\n",
    ";"
   ]
  },
  {
   "cell_type": "code",
   "execution_count": null,
   "metadata": {
    "execution": {
     "iopub.execute_input": "2021-10-15T02:00:12.135142Z",
     "iopub.status.busy": "2021-10-15T02:00:10.552946Z",
     "iopub.status.idle": "2021-10-15T02:00:12.935306Z",
     "shell.execute_reply": "2021-10-15T02:00:12.934787Z"
    }
   },
   "outputs": [],
   "source": [
    "dw = joinpath(homedir(), \"Downloads\", \"\")\n",
    "\n",
    ";"
   ]
  },
  {
   "cell_type": "markdown",
   "metadata": {},
   "source": [
    "## _sum_1_absolute_and_0_count"
   ]
  },
  {
   "cell_type": "code",
   "execution_count": null,
   "metadata": {
    "execution": {
     "iopub.execute_input": "2021-10-15T02:00:32.757026Z",
     "iopub.status.busy": "2021-10-15T02:00:32.756358Z",
     "iopub.status.idle": "2021-10-15T02:00:33.052310Z",
     "shell.execute_reply": "2021-10-15T02:00:33.051912Z"
    }
   },
   "outputs": [],
   "source": [
    "ve = Kwat.vector_number.convert([-2, -1, 0, 1, 2])\n",
    "\n",
    "in_ = Kwat.vector_number.convert([1, 1, 0, 0, 1])\n",
    "\n",
    "GSEA._sum_1_absolute_and_0_count(ve, in_)"
   ]
  },
  {
   "cell_type": "markdown",
   "metadata": {},
   "source": [
    "## make_benchmark"
   ]
  },
  {
   "cell_type": "code",
   "execution_count": null,
   "metadata": {},
   "outputs": [],
   "source": [
    "try\n",
    "\n",
    "    make_benchmark(\"card 12K\")\n",
    "\n",
    "catch er\n",
    "\n",
    "    er\n",
    "\n",
    "end"
   ]
  },
  {
   "cell_type": "code",
   "execution_count": null,
   "metadata": {
    "execution": {
     "iopub.execute_input": "2021-10-15T02:00:12.937243Z",
     "iopub.status.busy": "2021-10-15T02:00:12.936734Z",
     "iopub.status.idle": "2021-10-15T02:00:20.756805Z",
     "shell.execute_reply": "2021-10-15T02:00:20.756401Z"
    }
   },
   "outputs": [],
   "source": [
    "make_benchmark(\"card A2K\")"
   ]
  },
  {
   "cell_type": "code",
   "execution_count": null,
   "metadata": {
    "execution": {
     "iopub.execute_input": "2021-10-15T02:00:20.758794Z",
     "iopub.status.busy": "2021-10-15T02:00:20.758112Z",
     "iopub.status.idle": "2021-10-15T02:00:21.129216Z",
     "shell.execute_reply": "2021-10-15T02:00:21.128736Z"
    }
   },
   "outputs": [],
   "source": [
    "make_benchmark(\"random 4 2\")"
   ]
  },
  {
   "cell_type": "markdown",
   "metadata": {},
   "source": [
    "## plot_mountain"
   ]
  },
  {
   "cell_type": "code",
   "execution_count": null,
   "metadata": {
    "execution": {
     "iopub.execute_input": "2021-10-15T02:00:21.131376Z",
     "iopub.status.busy": "2021-10-15T02:00:21.130686Z",
     "iopub.status.idle": "2021-10-15T02:00:21.158616Z",
     "shell.execute_reply": "2021-10-15T02:00:21.158068Z"
    }
   },
   "outputs": [],
   "source": [
    "fe_, sc_, fe1_ = make_benchmark(\"card AK\")\n",
    "\n",
    ";"
   ]
  },
  {
   "cell_type": "code",
   "execution_count": null,
   "metadata": {
    "execution": {
     "iopub.execute_input": "2021-10-15T02:00:21.160616Z",
     "iopub.status.busy": "2021-10-15T02:00:21.159997Z",
     "iopub.status.idle": "2021-10-15T02:00:32.134409Z",
     "shell.execute_reply": "2021-10-15T02:00:32.133893Z"
    }
   },
   "outputs": [],
   "source": [
    "score_set(fe_, sc_, fe1_; si = false, pa = joinpath(dw, \"old_algorithm.png\"))"
   ]
  },
  {
   "cell_type": "code",
   "execution_count": null,
   "metadata": {
    "execution": {
     "iopub.execute_input": "2021-10-15T02:00:32.136700Z",
     "iopub.status.busy": "2021-10-15T02:00:32.136110Z",
     "iopub.status.idle": "2021-10-15T02:00:32.754945Z",
     "shell.execute_reply": "2021-10-15T02:00:32.754491Z"
    }
   },
   "outputs": [],
   "source": [
    "score_set_new(fe_, sc_, fe1_; pa = joinpath(dw, \"new_algorithm.jpeg\"))"
   ]
  },
  {
   "cell_type": "markdown",
   "metadata": {},
   "source": [
    "## "
   ]
  },
  {
   "cell_type": "code",
   "execution_count": null,
   "metadata": {
    "execution": {
     "iopub.execute_input": "2021-10-15T02:00:33.054171Z",
     "iopub.status.busy": "2021-10-15T02:00:33.053664Z",
     "iopub.status.idle": "2021-10-15T02:00:47.908749Z",
     "shell.execute_reply": "2021-10-15T02:00:47.908341Z"
    }
   },
   "outputs": [],
   "source": [
    "fe_, sc_, fe1_ = make_benchmark(\"myc\")\n",
    "\n",
    "in_ = Kwat.vector.check_in(fe_, fe1_)\n",
    "\n",
    ";"
   ]
  },
  {
   "cell_type": "markdown",
   "metadata": {},
   "source": [
    "## score_set (1 1)"
   ]
  },
  {
   "cell_type": "code",
   "execution_count": null,
   "metadata": {
    "execution": {
     "iopub.execute_input": "2021-10-15T02:00:47.910693Z",
     "iopub.status.busy": "2021-10-15T02:00:47.910127Z",
     "iopub.status.idle": "2021-10-15T02:01:00.957459Z",
     "shell.execute_reply": "2021-10-15T02:01:00.956668Z"
    }
   },
   "outputs": [],
   "source": [
    "@btime Kwat.vector.check_in(fe_, fe1_)"
   ]
  },
  {
   "cell_type": "code",
   "execution_count": null,
   "metadata": {
    "execution": {
     "iopub.execute_input": "2021-10-15T02:01:00.959526Z",
     "iopub.status.busy": "2021-10-15T02:01:00.958928Z",
     "iopub.status.idle": "2021-10-15T02:01:07.766730Z",
     "shell.execute_reply": "2021-10-15T02:01:07.766306Z"
    }
   },
   "outputs": [],
   "source": [
    "@btime score_set(fe_, sc_, fe1_, in_; pl = false)"
   ]
  },
  {
   "cell_type": "code",
   "execution_count": null,
   "metadata": {
    "execution": {
     "iopub.execute_input": "2021-10-15T02:01:07.768870Z",
     "iopub.status.busy": "2021-10-15T02:01:07.768245Z",
     "iopub.status.idle": "2021-10-15T02:01:19.071181Z",
     "shell.execute_reply": "2021-10-15T02:01:19.070746Z"
    }
   },
   "outputs": [],
   "source": [
    "@btime score_set(fe_, sc_, fe1_; pl = false)"
   ]
  },
  {
   "cell_type": "code",
   "execution_count": null,
   "metadata": {
    "execution": {
     "iopub.execute_input": "2021-10-15T02:01:19.073173Z",
     "iopub.status.busy": "2021-10-15T02:01:19.072539Z",
     "iopub.status.idle": "2021-10-15T02:01:19.372891Z",
     "shell.execute_reply": "2021-10-15T02:01:19.286734Z"
    },
    "scrolled": false
   },
   "outputs": [],
   "source": [
    "score_set(fe_, sc_, fe1_)"
   ]
  },
  {
   "cell_type": "markdown",
   "metadata": {},
   "source": [
    "## sc_se_new (1 1)"
   ]
  },
  {
   "cell_type": "code",
   "execution_count": null,
   "metadata": {
    "execution": {
     "iopub.execute_input": "2021-10-15T02:01:47.972370Z",
     "iopub.status.busy": "2021-10-15T02:01:47.971552Z",
     "iopub.status.idle": "2021-10-15T02:02:03.568812Z",
     "shell.execute_reply": "2021-10-15T02:02:03.567062Z"
    }
   },
   "outputs": [],
   "source": [
    "@btime score_set_new(fe_, sc_, fe1_; pl = false)"
   ]
  },
  {
   "cell_type": "code",
   "execution_count": null,
   "metadata": {
    "execution": {
     "iopub.execute_input": "2021-10-15T02:02:03.570745Z",
     "iopub.status.busy": "2021-10-15T02:02:03.570146Z",
     "iopub.status.idle": "2021-10-15T02:02:03.862164Z",
     "shell.execute_reply": "2021-10-15T02:02:03.861782Z"
    }
   },
   "outputs": [],
   "source": [
    "score_set_new(fe_, sc_, fe1_)"
   ]
  },
  {
   "cell_type": "markdown",
   "metadata": {},
   "source": [
    "## "
   ]
  },
  {
   "cell_type": "code",
   "execution_count": null,
   "metadata": {
    "execution": {
     "iopub.execute_input": "2021-10-15T02:00:33.054171Z",
     "iopub.status.busy": "2021-10-15T02:00:33.053664Z",
     "iopub.status.idle": "2021-10-15T02:00:47.908749Z",
     "shell.execute_reply": "2021-10-15T02:00:47.908341Z"
    }
   },
   "outputs": [],
   "source": [
    "se_fe_ = Kwat.gmt.read(joinpath(\"data\", \"h.all.v7.1.symbols.gmt\"))\n",
    "\n",
    ";"
   ]
  },
  {
   "cell_type": "markdown",
   "metadata": {},
   "source": [
    "## score_set (1 n)"
   ]
  },
  {
   "cell_type": "code",
   "execution_count": null,
   "metadata": {
    "execution": {
     "iopub.execute_input": "2021-10-15T02:01:19.375858Z",
     "iopub.status.busy": "2021-10-15T02:01:19.374766Z",
     "iopub.status.idle": "2021-10-15T02:01:31.832065Z",
     "shell.execute_reply": "2021-10-15T02:01:31.831118Z"
    }
   },
   "outputs": [],
   "source": [
    "@btime score_set(fe_, sc_, se_fe_)"
   ]
  },
  {
   "cell_type": "markdown",
   "metadata": {},
   "source": [
    "## sc_se_new (1 n)"
   ]
  },
  {
   "cell_type": "code",
   "execution_count": null,
   "metadata": {
    "execution": {
     "iopub.execute_input": "2021-10-15T02:02:03.864646Z",
     "iopub.status.busy": "2021-10-15T02:02:03.864081Z",
     "iopub.status.idle": "2021-10-15T02:02:15.636789Z",
     "shell.execute_reply": "2021-10-15T02:02:15.636246Z"
    }
   },
   "outputs": [],
   "source": [
    "@btime score_set_new(fe_, sc_, se_fe_)"
   ]
  },
  {
   "cell_type": "markdown",
   "metadata": {},
   "source": [
    "## score_set (n n)"
   ]
  },
  {
   "cell_type": "code",
   "execution_count": null,
   "metadata": {
    "execution": {
     "iopub.execute_input": "2021-10-15T02:01:31.834545Z",
     "iopub.status.busy": "2021-10-15T02:01:31.833888Z",
     "iopub.status.idle": "2021-10-15T02:01:47.969715Z",
     "shell.execute_reply": "2021-10-15T02:01:47.966369Z"
    }
   },
   "outputs": [],
   "source": [
    "sc_fe_sa = DataFrame(\n",
    "    \"Feature\" => fe_,\n",
    "    \"Score\" => sc_,\n",
    "    \"Score x 10\" => sc_ * 10,\n",
    "    \"Constant\" => fill(0.8, length(fe_)),\n",
    ")\n",
    "\n",
    "@btime score_set(sc_fe_sa, se_fe_; n_jo = 1)"
   ]
  },
  {
   "cell_type": "markdown",
   "metadata": {},
   "source": [
    "## try_method"
   ]
  },
  {
   "cell_type": "code",
   "execution_count": null,
   "metadata": {
    "execution": {
     "iopub.execute_input": "2021-10-15T02:02:15.638717Z",
     "iopub.status.busy": "2021-10-15T02:02:15.638117Z",
     "iopub.status.idle": "2021-10-15T02:02:48.406763Z",
     "shell.execute_reply": "2021-10-15T02:02:48.406298Z"
    },
    "scrolled": false
   },
   "outputs": [],
   "source": [
    "try_method(fe_, sc_, fe1_; plp = false)"
   ]
  }
 ],
 "metadata": {
  "@webio": {
   "lastCommId": null,
   "lastKernelId": null
  },
  "kernelspec": {
   "display_name": "Julia 1.6.3",
   "language": "julia",
   "name": "julia-1.6"
  },
  "language_info": {
   "file_extension": ".jl",
   "mimetype": "application/julia",
   "name": "julia",
   "version": "1.6.3"
  }
 },
 "nbformat": 4,
 "nbformat_minor": 4
}
