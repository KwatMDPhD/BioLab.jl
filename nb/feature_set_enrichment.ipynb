{
 "cells": [
  {
   "cell_type": "code",
   "execution_count": 64,
   "metadata": {},
   "outputs": [],
   "source": [
    "using Revise\n",
    "using BenchmarkTools\n",
    "\n",
    "using DataFrames\n",
    "\n",
    "using Kwat"
   ]
  },
  {
   "cell_type": "code",
   "execution_count": 100,
   "metadata": {},
   "outputs": [
    {
     "data": {
      "application/vnd.plotly.v1+json": {
       "config": {
        "displaylogo": false,
        "editable": false,
        "responsive": true,
        "scrollZoom": true,
        "showLink": false,
        "staticPlot": false
       },
       "data": [
        {
         "fill": "tozeroy",
         "hoverinfo": "x+y+text",
         "line": {
          "color": "#4e40d8",
          "width": 2
         },
         "name": "Feature Score",
         "text": [
          "A",
          "2",
          "3",
          "4",
          "5",
          "6",
          "7",
          "8",
          "9",
          "X",
          "J",
          "Q",
          "K"
         ],
         "type": "scatter",
         "x": [
          1,
          2,
          3,
          4,
          5,
          6,
          7,
          8,
          9,
          10,
          11,
          12,
          13
         ],
         "y": [
          -6,
          -5,
          -4,
          -3,
          -2,
          -1,
          0,
          1,
          2,
          3,
          4,
          5,
          6
         ]
        },
        {
         "hoverinfo": "x+text",
         "marker": {
          "color": "#9017e6",
          "line": {
           "width": 2
          },
          "size": 24.576000000000004,
          "symbol": "line-ns-open"
         },
         "mode": "markers",
         "name": "Set",
         "text": [
          "2",
          "4",
          "Q"
         ],
         "type": "scatter",
         "x": [
          2,
          4,
          12
         ],
         "y": [
          0,
          0,
          0
         ],
         "yaxis": "y2"
        },
        {
         "fill": "tozeroy",
         "hoverinfo": "x+y+text",
         "line": {
          "color": "#20d9ba",
          "width": 2
         },
         "name": "Set Score",
         "text": [
          "A",
          "2",
          "3",
          "4",
          "5",
          "6",
          "7",
          "8",
          "9",
          "X",
          "J",
          "Q",
          "K"
         ],
         "type": "scatter",
         "x": [
          1,
          2,
          3,
          4,
          5,
          6,
          7,
          8,
          9,
          10,
          11,
          12,
          13
         ],
         "y": [
          -8.326672684688674e-17,
          0.09999999999999992,
          -0.2846153846153847,
          -0.18461538461538468,
          -0.41538461538461546,
          -0.31538461538461543,
          -0.21538461538461542,
          -0.11538461538461542,
          -0.015384615384615413,
          0.08461538461538459,
          0.1846153846153846,
          0.2846153846153846,
          -0.1
         ],
         "yaxis": "y3"
        }
       ],
       "frames": [],
       "layout": {
        "annotations": [
         {
          "font": {
           "size": 24
          },
          "showarrow": false,
          "text": "<b>Title</b>",
          "x": 0.5,
          "xanchor": "center",
          "xref": "paper",
          "y": 1.2,
          "yanchor": "middle",
          "yref": "paper"
         },
         {
          "showarrow": false,
          "text": "<b>Feature Rank (n=13)</b>",
          "x": 0.5,
          "xanchor": "center",
          "xref": "paper",
          "y": -0.088,
          "yanchor": "middle",
          "yref": "paper"
         },
         {
          "font": {
           "color": "#2a603b",
           "size": 15.36
          },
          "showarrow": false,
          "text": "<b>Enrichment = -0.415</b>",
          "x": 0.5,
          "xanchor": "center",
          "xref": "paper",
          "y": 1.08,
          "yanchor": "middle",
          "yref": "paper"
         }
        ],
        "autosize": false,
        "height": 480,
        "legend": {
         "orientation": "h",
         "x": 0.5,
         "xanchor": "center",
         "y": -0.24,
         "yanchor": "middle"
        },
        "margin": {
         "b": 50,
         "l": 50,
         "r": 50,
         "t": 76
        },
        "template": "plotly_white",
        "width": 776.6400000000001,
        "xaxis": {
         "showspikes": true,
         "spikedash": "solid",
         "spikemode": "across",
         "spikethickness": 0.8,
         "zeroline": false
        },
        "yaxis1": {
         "domain": [
          0,
          0.24
         ],
         "showline": true
        },
        "yaxis2": {
         "domain": [
          0.24,
          0.32
         ],
         "showgrid": false,
         "showticklabels": false
        },
        "yaxis3": {
         "domain": [
          0.32,
          1
         ],
         "showline": true
        }
       }
      },
      "text/html": [
       "<div\n",
       "    class=\"webio-mountpoint\"\n",
       "    data-webio-mountpoint=\"8353310633305536167\"\n",
       ">\n",
       "    <script>\n",
       "    (function(){\n",
       "    // Some integrations (namely, IJulia/Jupyter) use an alternate render pathway than\n",
       "    // just putting the html on the page. If WebIO isn't defined, then it's pretty likely\n",
       "    // that we're in one of those situations and the integration just isn't installed\n",
       "    // correctly.\n",
       "    if (typeof window.WebIO === \"undefined\") {\n",
       "        document\n",
       "            .querySelector('[data-webio-mountpoint=\"8353310633305536167\"]')\n",
       "            .innerHTML = (\n",
       "                '<div style=\"padding: 1em; background-color: #f8d6da; border: 1px solid #f5c6cb; font-weight: bold;\">' +\n",
       "                '<p><strong>WebIO not detected.</strong></p>' +\n",
       "                '<p>Please read ' +\n",
       "                '<a href=\"https://juliagizmos.github.io/WebIO.jl/latest/troubleshooting/not-detected/\" target=\"_blank\">the troubleshooting guide</a> ' +\n",
       "                'for more information on how to resolve this issue.</p>' +\n",
       "                '<p><a href=\"https://juliagizmos.github.io/WebIO.jl/latest/troubleshooting/not-detected/\" target=\"_blank\">https://juliagizmos.github.io/WebIO.jl/latest/troubleshooting/not-detected/</a></p>' +\n",
       "                '</div>'\n",
       "            );\n",
       "        return;\n",
       "    }\n",
       "    WebIO.mount(\n",
       "        document.querySelector('[data-webio-mountpoint=\"8353310633305536167\"]'),\n",
       "        {\"props\":{},\"nodeType\":\"Scope\",\"type\":\"node\",\"instanceArgs\":{\"imports\":{\"data\":[{\"name\":\"Plotly\",\"type\":\"js\",\"url\":\"\\/assetserver\\/158c0f180d15ee74805874e8110b330fdc2995bf-plotly.min.js\"},{\"name\":null,\"type\":\"js\",\"url\":\"\\/assetserver\\/2ccd90ec3310003cd9d125c70256aac6bda762ef-plotly_webio.bundle.js\"}],\"type\":\"async_block\"},\"id\":\"3404215152912772191\",\"handlers\":{\"_toImage\":[\"(function (options){return this.Plotly.toImage(this.plotElem,options).then((function (data){return WebIO.setval({\\\"name\\\":\\\"image\\\",\\\"scope\\\":\\\"3404215152912772191\\\",\\\"id\\\":\\\"8310829380082211066\\\",\\\"type\\\":\\\"observable\\\"},data)}))})\"],\"__get_gd_contents\":[\"(function (prop){prop==\\\"data\\\" ? (WebIO.setval({\\\"name\\\":\\\"__gd_contents\\\",\\\"scope\\\":\\\"3404215152912772191\\\",\\\"id\\\":\\\"3989030661162397220\\\",\\\"type\\\":\\\"observable\\\"},this.plotElem.data)) : undefined; return prop==\\\"layout\\\" ? (WebIO.setval({\\\"name\\\":\\\"__gd_contents\\\",\\\"scope\\\":\\\"3404215152912772191\\\",\\\"id\\\":\\\"3989030661162397220\\\",\\\"type\\\":\\\"observable\\\"},this.plotElem.layout)) : undefined})\"],\"_downloadImage\":[\"(function (options){return this.Plotly.downloadImage(this.plotElem,options)})\"],\"_commands\":[\"(function (args){var fn=args.shift(); var elem=this.plotElem; var Plotly=this.Plotly; args.unshift(elem); return Plotly[fn].apply(this,args)})\"]},\"systemjs_options\":null,\"mount_callbacks\":[\"function () {\\n    var handler = ((function (Plotly,PlotlyWebIO){PlotlyWebIO.init(WebIO); var gd=this.dom.querySelector(\\\"#plot-38b4ae78-c8dd-448d-aa92-d728159bc9bc\\\"); this.plotElem=gd; this.Plotly=Plotly; (window.Blink!==undefined) ? (gd.style.width=\\\"100%\\\", gd.style.height=\\\"100vh\\\", gd.style.marginLeft=\\\"0%\\\", gd.style.marginTop=\\\"0vh\\\") : undefined; window.onresize=(function (){return Plotly.Plots.resize(gd)}); Plotly.newPlot(gd,[{\\\"line\\\":{\\\"color\\\":\\\"#4e40d8\\\",\\\"width\\\":2.0},\\\"y\\\":[-6.0,-5.0,-4.0,-3.0,-2.0,-1.0,0.0,1.0,2.0,3.0,4.0,5.0,6.0],\\\"type\\\":\\\"scatter\\\",\\\"name\\\":\\\"Feature Score\\\",\\\"fill\\\":\\\"tozeroy\\\",\\\"hoverinfo\\\":\\\"x+y+text\\\",\\\"text\\\":[\\\"A\\\",\\\"2\\\",\\\"3\\\",\\\"4\\\",\\\"5\\\",\\\"6\\\",\\\"7\\\",\\\"8\\\",\\\"9\\\",\\\"X\\\",\\\"J\\\",\\\"Q\\\",\\\"K\\\"],\\\"x\\\":[1,2,3,4,5,6,7,8,9,10,11,12,13]},{\\\"x\\\":[2,4,12],\\\"mode\\\":\\\"markers\\\",\\\"y\\\":[0.0,0.0,0.0],\\\"type\\\":\\\"scatter\\\",\\\"name\\\":\\\"Set\\\",\\\"hoverinfo\\\":\\\"x+text\\\",\\\"yaxis\\\":\\\"y2\\\",\\\"text\\\":[\\\"2\\\",\\\"4\\\",\\\"Q\\\"],\\\"marker\\\":{\\\"symbol\\\":\\\"line-ns-open\\\",\\\"color\\\":\\\"#9017e6\\\",\\\"line\\\":{\\\"width\\\":2.0},\\\"size\\\":24.576000000000004}},{\\\"line\\\":{\\\"color\\\":\\\"#20d9ba\\\",\\\"width\\\":2.0},\\\"y\\\":[-8.326672684688674e-17,0.09999999999999992,-0.2846153846153847,-0.18461538461538468,-0.41538461538461546,-0.31538461538461543,-0.21538461538461542,-0.11538461538461542,-0.015384615384615413,0.08461538461538459,0.1846153846153846,0.2846153846153846,-0.1],\\\"type\\\":\\\"scatter\\\",\\\"name\\\":\\\"Set Score\\\",\\\"fill\\\":\\\"tozeroy\\\",\\\"hoverinfo\\\":\\\"x+y+text\\\",\\\"yaxis\\\":\\\"y3\\\",\\\"text\\\":[\\\"A\\\",\\\"2\\\",\\\"3\\\",\\\"4\\\",\\\"5\\\",\\\"6\\\",\\\"7\\\",\\\"8\\\",\\\"9\\\",\\\"X\\\",\\\"J\\\",\\\"Q\\\",\\\"K\\\"],\\\"x\\\":[1,2,3,4,5,6,7,8,9,10,11,12,13]}],{\\\"xaxis\\\":{\\\"zeroline\\\":false,\\\"spikethickness\\\":0.8,\\\"showspikes\\\":true,\\\"spikemode\\\":\\\"across\\\",\\\"spikedash\\\":\\\"solid\\\"},\\\"template\\\":\\\"plotly_white\\\",\\\"height\\\":480,\\\"legend\\\":{\\\"yanchor\\\":\\\"middle\\\",\\\"xanchor\\\":\\\"center\\\",\\\"y\\\":-0.24,\\\"orientation\\\":\\\"h\\\",\\\"x\\\":0.5},\\\"yaxis2\\\":{\\\"showgrid\\\":false,\\\"showticklabels\\\":false,\\\"domain\\\":[0.24,0.32]},\\\"yaxis3\\\":{\\\"showline\\\":true,\\\"domain\\\":[0.32,1.0]},\\\"autosize\\\":false,\\\"yaxis1\\\":{\\\"showline\\\":true,\\\"domain\\\":[0.0,0.24]},\\\"annotations\\\":[{\\\"yanchor\\\":\\\"middle\\\",\\\"xanchor\\\":\\\"center\\\",\\\"y\\\":1.2,\\\"font\\\":{\\\"size\\\":24},\\\"yref\\\":\\\"paper\\\",\\\"showarrow\\\":false,\\\"text\\\":\\\"<b>Title<\\/b>\\\",\\\"xref\\\":\\\"paper\\\",\\\"x\\\":0.5},{\\\"yanchor\\\":\\\"middle\\\",\\\"xanchor\\\":\\\"center\\\",\\\"y\\\":-0.088,\\\"yref\\\":\\\"paper\\\",\\\"showarrow\\\":false,\\\"text\\\":\\\"<b>Feature Rank (n=13)<\\/b>\\\",\\\"xref\\\":\\\"paper\\\",\\\"x\\\":0.5},{\\\"yanchor\\\":\\\"middle\\\",\\\"xanchor\\\":\\\"center\\\",\\\"y\\\":1.08,\\\"font\\\":{\\\"color\\\":\\\"#2a603b\\\",\\\"size\\\":15.36},\\\"yref\\\":\\\"paper\\\",\\\"showarrow\\\":false,\\\"text\\\":\\\"<b>Enrichment = -0.415<\\/b>\\\",\\\"xref\\\":\\\"paper\\\",\\\"x\\\":0.5}],\\\"margin\\\":{\\\"l\\\":50,\\\"b\\\":50,\\\"r\\\":50,\\\"t\\\":76},\\\"width\\\":776.6400000000001},{\\\"displaylogo\\\":false,\\\"showLink\\\":false,\\\"editable\\\":false,\\\"responsive\\\":true,\\\"staticPlot\\\":false,\\\"scrollZoom\\\":true}); gd.on(\\\"plotly_hover\\\",(function (data){var filtered_data=WebIO.PlotlyCommands.filterEventData(gd,data,\\\"hover\\\"); return !(filtered_data.isnil) ? (WebIO.setval({\\\"name\\\":\\\"hover\\\",\\\"scope\\\":\\\"3404215152912772191\\\",\\\"id\\\":\\\"9496614534028697955\\\",\\\"type\\\":\\\"observable\\\"},filtered_data.out)) : undefined})); gd.on(\\\"plotly_unhover\\\",(function (){return WebIO.setval({\\\"name\\\":\\\"hover\\\",\\\"scope\\\":\\\"3404215152912772191\\\",\\\"id\\\":\\\"9496614534028697955\\\",\\\"type\\\":\\\"observable\\\"},{})})); gd.on(\\\"plotly_selected\\\",(function (data){var filtered_data=WebIO.PlotlyCommands.filterEventData(gd,data,\\\"selected\\\"); return !(filtered_data.isnil) ? (WebIO.setval({\\\"name\\\":\\\"selected\\\",\\\"scope\\\":\\\"3404215152912772191\\\",\\\"id\\\":\\\"4285218344836163698\\\",\\\"type\\\":\\\"observable\\\"},filtered_data.out)) : undefined})); gd.on(\\\"plotly_deselect\\\",(function (){return WebIO.setval({\\\"name\\\":\\\"selected\\\",\\\"scope\\\":\\\"3404215152912772191\\\",\\\"id\\\":\\\"4285218344836163698\\\",\\\"type\\\":\\\"observable\\\"},{})})); gd.on(\\\"plotly_relayout\\\",(function (data){var filtered_data=WebIO.PlotlyCommands.filterEventData(gd,data,\\\"relayout\\\"); return !(filtered_data.isnil) ? (WebIO.setval({\\\"name\\\":\\\"relayout\\\",\\\"scope\\\":\\\"3404215152912772191\\\",\\\"id\\\":\\\"6202990808978490096\\\",\\\"type\\\":\\\"observable\\\"},filtered_data.out)) : undefined})); return gd.on(\\\"plotly_click\\\",(function (data){var filtered_data=WebIO.PlotlyCommands.filterEventData(gd,data,\\\"click\\\"); return !(filtered_data.isnil) ? (WebIO.setval({\\\"name\\\":\\\"click\\\",\\\"scope\\\":\\\"3404215152912772191\\\",\\\"id\\\":\\\"9092469419935791581\\\",\\\"type\\\":\\\"observable\\\"},filtered_data.out)) : undefined}))}));\\n    (WebIO.importBlock({\\\"data\\\":[{\\\"name\\\":\\\"Plotly\\\",\\\"type\\\":\\\"js\\\",\\\"url\\\":\\\"\\/assetserver\\/158c0f180d15ee74805874e8110b330fdc2995bf-plotly.min.js\\\"},{\\\"name\\\":null,\\\"type\\\":\\\"js\\\",\\\"url\\\":\\\"\\/assetserver\\/2ccd90ec3310003cd9d125c70256aac6bda762ef-plotly_webio.bundle.js\\\"}],\\\"type\\\":\\\"async_block\\\"})).then((imports) => handler.apply(this, imports));\\n}\\n\"],\"observables\":{\"_toImage\":{\"sync\":false,\"id\":\"7048266458708778499\",\"value\":{}},\"hover\":{\"sync\":false,\"id\":\"9496614534028697955\",\"value\":{}},\"selected\":{\"sync\":false,\"id\":\"4285218344836163698\",\"value\":{}},\"__gd_contents\":{\"sync\":false,\"id\":\"3989030661162397220\",\"value\":{}},\"click\":{\"sync\":false,\"id\":\"9092469419935791581\",\"value\":{}},\"image\":{\"sync\":true,\"id\":\"8310829380082211066\",\"value\":\"\"},\"__get_gd_contents\":{\"sync\":false,\"id\":\"7836193125948302549\",\"value\":\"\"},\"_downloadImage\":{\"sync\":false,\"id\":\"17627449726821776192\",\"value\":{}},\"relayout\":{\"sync\":false,\"id\":\"6202990808978490096\",\"value\":{}},\"_commands\":{\"sync\":false,\"id\":\"5343984582588199839\",\"value\":[]}}},\"children\":[{\"props\":{\"id\":\"plot-38b4ae78-c8dd-448d-aa92-d728159bc9bc\"},\"nodeType\":\"DOM\",\"type\":\"node\",\"instanceArgs\":{\"namespace\":\"html\",\"tag\":\"div\"},\"children\":[]}]},\n",
       "        window,\n",
       "    );\n",
       "    })()\n",
       "    </script>\n",
       "</div>\n"
      ],
      "text/plain": [
       "data: [\n",
       "  \"scatter with fields fill, hoverinfo, line, name, text, type, x, and y\",\n",
       "  \"scatter with fields hoverinfo, marker, mode, name, text, type, x, y, and yaxis\",\n",
       "  \"scatter with fields fill, hoverinfo, line, name, text, type, x, y, and yaxis\"\n",
       "]\n",
       "\n",
       "layout: \"layout with fields annotations, autosize, height, legend, margin, template, width, xaxis, yaxis1, yaxis2, and yaxis3\"\n",
       "\n"
      ]
     },
     "metadata": {},
     "output_type": "display_data"
    },
    {
     "data": {
      "text/plain": [
       "-0.41538461538461546"
      ]
     },
     "execution_count": 100,
     "metadata": {},
     "output_type": "execute_result"
    }
   ],
   "source": [
    "fe_, sc_, fe1_ = Kwat.feature_set_enrichment.make_benchmark(\"card 24Q\")\n",
    "\n",
    "Kwat.feature_set_enrichment.score_set(fe_, sc_, fe1_; title = \"Title\")"
   ]
  },
  {
   "cell_type": "code",
   "execution_count": 15,
   "metadata": {},
   "outputs": [],
   "source": [
    "using PlotlyJSS"
   ]
  },
  {
   "cell_type": "code",
   "execution_count": null,
   "metadata": {},
   "outputs": [],
   "source": [
    "PlotConfig()"
   ]
  },
  {
   "cell_type": "markdown",
   "metadata": {},
   "source": [
    "## make_benchmark"
   ]
  },
  {
   "cell_type": "code",
   "execution_count": null,
   "metadata": {},
   "outputs": [],
   "source": [
    "Kwat.feature_set_enrichment.make_benchmark(\"card A2K\")"
   ]
  },
  {
   "cell_type": "code",
   "execution_count": null,
   "metadata": {},
   "outputs": [],
   "source": [
    "Kwat.feature_set_enrichment.make_benchmark(\"random 100 10\")"
   ]
  },
  {
   "cell_type": "markdown",
   "metadata": {},
   "source": [
    "## _sum_1_absolute_and_0_count"
   ]
  },
  {
   "cell_type": "code",
   "execution_count": null,
   "metadata": {},
   "outputs": [],
   "source": [
    "ve = Kwat.vector_number.convert([-2, -1, 0, 1, 2])\n",
    "\n",
    "in_ = Kwat.vector_number.convert([1, 1, 0, 0, 1])\n",
    "\n",
    "Kwat.feature_set_enrichment._sum_1_absolute_and_0_count(ve, in_)"
   ]
  },
  {
   "cell_type": "markdown",
   "metadata": {},
   "source": [
    "## "
   ]
  },
  {
   "cell_type": "code",
   "execution_count": null,
   "metadata": {},
   "outputs": [],
   "source": [
    "fe_, sc_, fe1_ = Kwat.feature_set_enrichment.make_benchmark(\"myc\")\n",
    "\n",
    "se_fe_ = Kwat.file.read_gmt(joinpath(\"data\", \"h.all.v7.1.symbols.gmt\"))\n",
    "\n",
    ";"
   ]
  },
  {
   "cell_type": "markdown",
   "metadata": {},
   "source": [
    "## check_in"
   ]
  },
  {
   "cell_type": "code",
   "execution_count": null,
   "metadata": {},
   "outputs": [],
   "source": [
    "in_ = Kwat.vector.check_in(fe_, fe1_)\n",
    "\n",
    ";"
   ]
  },
  {
   "cell_type": "code",
   "execution_count": null,
   "metadata": {},
   "outputs": [],
   "source": [
    "@btime Kwat.vector.check_in(fe_, fe1_)\n",
    "\n",
    ";"
   ]
  },
  {
   "cell_type": "markdown",
   "metadata": {},
   "source": [
    "## score_set (1 1)"
   ]
  },
  {
   "cell_type": "code",
   "execution_count": null,
   "metadata": {},
   "outputs": [],
   "source": [
    "@btime Kwat.feature_set_enrichment.score_set(fe_, sc_, fe1_, in_; pl = false)\n",
    "\n",
    ";"
   ]
  },
  {
   "cell_type": "markdown",
   "metadata": {},
   "source": [
    "## score_set (1 1)"
   ]
  },
  {
   "cell_type": "code",
   "execution_count": null,
   "metadata": {
    "scrolled": false
   },
   "outputs": [],
   "source": [
    "Kwat.feature_set_enrichment.score_set(fe_, sc_, fe1_; title = \"Title\")\n",
    "\n",
    ";"
   ]
  },
  {
   "cell_type": "code",
   "execution_count": null,
   "metadata": {},
   "outputs": [],
   "source": [
    "@btime Kwat.feature_set_enrichment.score_set(fe_, sc_, fe1_; pl = false)"
   ]
  },
  {
   "cell_type": "markdown",
   "metadata": {},
   "source": [
    "## score_set (1 n)"
   ]
  },
  {
   "cell_type": "code",
   "execution_count": null,
   "metadata": {},
   "outputs": [],
   "source": [
    "Kwat.feature_set_enrichment.score_set(fe_, sc_, se_fe_)"
   ]
  },
  {
   "cell_type": "code",
   "execution_count": null,
   "metadata": {},
   "outputs": [],
   "source": [
    "@btime Kwat.feature_set_enrichment.score_set(fe_, sc_, se_fe_)"
   ]
  },
  {
   "cell_type": "markdown",
   "metadata": {},
   "source": [
    "## score_set (n n)"
   ]
  },
  {
   "cell_type": "code",
   "execution_count": null,
   "metadata": {},
   "outputs": [],
   "source": [
    "sc_fe_sa = DataFrame(\n",
    "    Symbol(\"Element\") => fe_,\n",
    "    Symbol(\"Score\") => sc_,\n",
    "    Symbol(\"Score x 10\") => sc_ * 10,\n",
    "    Symbol(\"Constant\") => fill(0.8, length(fe_)),\n",
    ")"
   ]
  },
  {
   "cell_type": "code",
   "execution_count": null,
   "metadata": {},
   "outputs": [],
   "source": [
    "@btime Kwat.feature_set_enrichment.score_set(sc_fe_sa, se_fe_; n_jo = 1)"
   ]
  },
  {
   "cell_type": "markdown",
   "metadata": {},
   "source": [
    "## sc_se_new (1 1)"
   ]
  },
  {
   "cell_type": "code",
   "execution_count": null,
   "metadata": {},
   "outputs": [],
   "source": [
    "Kwat.feature_set_enrichment.score_set_new(fe_, sc_, fe1_)"
   ]
  },
  {
   "cell_type": "code",
   "execution_count": null,
   "metadata": {},
   "outputs": [],
   "source": [
    "@btime Kwat.feature_set_enrichment.score_set_new(fe_, sc_, fe1_; pl = false)"
   ]
  },
  {
   "cell_type": "markdown",
   "metadata": {},
   "source": [
    "## sc_se_new (1 n)"
   ]
  },
  {
   "cell_type": "code",
   "execution_count": null,
   "metadata": {},
   "outputs": [],
   "source": [
    "Kwat.feature_set_enrichment.score_set_new(fe_, sc_, se_fe_)"
   ]
  },
  {
   "cell_type": "code",
   "execution_count": null,
   "metadata": {},
   "outputs": [],
   "source": [
    "@btime Kwat.feature_set_enrichment.score_set_new(fe_, sc_, se_fe_)"
   ]
  },
  {
   "cell_type": "markdown",
   "metadata": {},
   "source": [
    "## plot_mountain"
   ]
  },
  {
   "cell_type": "markdown",
   "metadata": {},
   "source": [
    "## try_method"
   ]
  },
  {
   "cell_type": "code",
   "execution_count": null,
   "metadata": {},
   "outputs": [],
   "source": [
    "Kwat.feature_set_enrichment.try_method(fe_, sc_, fe1_)"
   ]
  }
 ],
 "metadata": {
  "@webio": {
   "lastCommId": "af006bb92a4644d38f79cec0e356d1a1",
   "lastKernelId": "b843127d-a878-4fa9-9d69-0bc4cfc0dd67"
  },
  "kernelspec": {
   "display_name": "Julia 1.6.3",
   "language": "julia",
   "name": "julia-1.6"
  },
  "language_info": {
   "file_extension": ".jl",
   "mimetype": "application/julia",
   "name": "julia",
   "version": "1.6.3"
  }
 },
 "nbformat": 4,
 "nbformat_minor": 4
}
