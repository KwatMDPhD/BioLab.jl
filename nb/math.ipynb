{
 "cells": [
  {
   "cell_type": "code",
   "execution_count": null,
   "id": "dba93246-7b5f-45d5-add1-a4118aaf3c2d",
   "metadata": {
    "execution": {
     "iopub.execute_input": "2021-10-14T18:34:20.875341Z",
     "iopub.status.busy": "2021-10-14T18:34:20.335866Z",
     "iopub.status.idle": "2021-10-14T18:34:34.551510Z",
     "shell.execute_reply": "2021-10-14T18:34:34.550393Z"
    }
   },
   "outputs": [],
   "source": [
    "using Revise\n",
    "using BenchmarkTools\n",
    "\n",
    "using Kwat"
   ]
  },
  {
   "cell_type": "markdown",
   "id": "89befcf8-5608-48dd-a3b8-758afa434404",
   "metadata": {},
   "source": [
    "## get_center"
   ]
  },
  {
   "cell_type": "code",
   "execution_count": null,
   "id": "aa01bb9b-d93b-4914-82e8-2ca6ecfa41b7",
   "metadata": {
    "execution": {
     "iopub.execute_input": "2021-10-14T18:34:36.085556Z",
     "iopub.status.busy": "2021-10-14T18:34:34.553221Z",
     "iopub.status.idle": "2021-10-14T18:34:37.162264Z",
     "shell.execute_reply": "2021-10-14T18:34:37.162618Z"
    }
   },
   "outputs": [],
   "source": [
    "for (co1, co2) in [[0.0, 100], [-1.0, 1]]\n",
    "\n",
    "    println(\"-\"^80)\n",
    "\n",
    "    println(co1, \" \", co2)\n",
    "\n",
    "    println(Kwat.math.get_center(co1, co2))\n",
    "\n",
    "end"
   ]
  },
  {
   "cell_type": "markdown",
   "id": "f5e407af",
   "metadata": {},
   "source": [
    "## get_z_score"
   ]
  },
  {
   "cell_type": "code",
   "execution_count": null,
   "id": "c484786b",
   "metadata": {},
   "outputs": [],
   "source": [
    "for cu in [0.0, 0.001, 0.025, 0.05, 0.5, 0.95, 0.975, 0.999, 1]\n",
    "\n",
    "    println(\"-\"^80)\n",
    "\n",
    "    println(cu)\n",
    "\n",
    "    println(Kwat.math.get_z_score(cu))\n",
    "\n",
    "end"
   ]
  },
  {
   "cell_type": "markdown",
   "id": "275b1e0c",
   "metadata": {},
   "source": [
    "## get_confidence_interval"
   ]
  },
  {
   "cell_type": "code",
   "execution_count": null,
   "id": "6daabc5b",
   "metadata": {},
   "outputs": [],
   "source": [
    "for co in [0.0, 0.001, 0.025, 0.05, 0.5, 0.95, 0.975, 0.999, 1]\n",
    "\n",
    "    println(\"-\"^80)\n",
    "\n",
    "    println(co)\n",
    "\n",
    "    println(Kwat.math.get_confidence_interval(co))\n",
    "\n",
    "end"
   ]
  }
 ],
 "metadata": {
  "@webio": {
   "lastCommId": "99de857747d14d9181f57899017022db",
   "lastKernelId": "522c1015-9b1a-4632-911f-ec67f2d0fc7f"
  },
  "kernelspec": {
   "display_name": "Julia 1.6.3",
   "language": "julia",
   "name": "julia-1.6"
  },
  "language_info": {
   "file_extension": ".jl",
   "mimetype": "application/julia",
   "name": "julia",
   "version": "1.6.3"
  }
 },
 "nbformat": 4,
 "nbformat_minor": 5
}
