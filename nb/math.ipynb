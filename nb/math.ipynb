{
 "cells": [
  {
   "cell_type": "code",
   "execution_count": null,
   "id": "dba93246-7b5f-45d5-add1-a4118aaf3c2d",
   "metadata": {},
   "outputs": [],
   "source": [
    "using Kwat"
   ]
  },
  {
   "cell_type": "markdown",
   "id": "89befcf8-5608-48dd-a3b8-758afa434404",
   "metadata": {},
   "source": [
    "## get_center"
   ]
  },
  {
   "cell_type": "code",
   "execution_count": null,
   "id": "aa01bb9b-d93b-4914-82e8-2ca6ecfa41b7",
   "metadata": {},
   "outputs": [],
   "source": [
    "Kwat.math.get_center(0.0, 100.0)"
   ]
  },
  {
   "cell_type": "code",
   "execution_count": null,
   "id": "fbf3d9d9",
   "metadata": {},
   "outputs": [],
   "source": [
    "Kwat.math.get_center(-1.0, 1.0)"
   ]
  }
 ],
 "metadata": {
  "@webio": {
   "lastCommId": "a70c996ac08347eab5890eb672b0b13f",
   "lastKernelId": "e760c4d2-6526-4a89-aae1-9c96a824e3a1"
  },
  "kernelspec": {
   "display_name": "Julia 1.6.3",
   "language": "julia",
   "name": "julia-1.6"
  },
  "language_info": {
   "file_extension": ".jl",
   "mimetype": "application/julia",
   "name": "julia",
   "version": "1.6.3"
  }
 },
 "nbformat": 4,
 "nbformat_minor": 5
}
