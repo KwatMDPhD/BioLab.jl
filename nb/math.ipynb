{
 "cells": [
  {
   "cell_type": "code",
   "execution_count": null,
   "id": "dba93246-7b5f-45d5-add1-a4118aaf3c2d",
   "metadata": {},
   "outputs": [],
   "source": [
    "using Kwat"
   ]
  },
  {
   "cell_type": "markdown",
   "id": "89befcf8-5608-48dd-a3b8-758afa434404",
   "metadata": {},
   "source": [
    "## get_center"
   ]
  },
  {
   "cell_type": "code",
   "execution_count": null,
   "id": "aa01bb9b-d93b-4914-82e8-2ca6ecfa41b7",
   "metadata": {},
   "outputs": [],
   "source": [
    "Kwat.math.get_center(0.0, 100.0)"
   ]
  },
  {
   "cell_type": "code",
   "execution_count": null,
   "id": "fbf3d9d9",
   "metadata": {},
   "outputs": [],
   "source": [
    "Kwat.math.get_center(-1.0, 1.0)"
   ]
  }
 ],
 "metadata": {
  "@webio": {
   "lastCommId": "2b6c1b95ad6f43188d3d6fb6b5eadd55",
   "lastKernelId": "a66ec546-8f4f-4d7b-a01d-871c6b07278e"
  },
  "kernelspec": {
   "display_name": "Julia 1.6.3",
   "language": "julia",
   "name": "julia-1.6"
  },
  "language_info": {
   "file_extension": ".jl",
   "mimetype": "application/julia",
   "name": "julia",
   "version": "1.6.3"
  }
 },
 "nbformat": 4,
 "nbformat_minor": 5
}
