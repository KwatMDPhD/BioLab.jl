{
 "cells": [
  {
   "cell_type": "code",
   "execution_count": null,
   "id": "dba93246-7b5f-45d5-add1-a4118aaf3c2d",
   "metadata": {
    "execution": {
     "iopub.execute_input": "2021-10-14T18:34:20.875341Z",
     "iopub.status.busy": "2021-10-14T18:34:20.335866Z",
     "iopub.status.idle": "2021-10-14T18:34:34.551510Z",
     "shell.execute_reply": "2021-10-14T18:34:34.550393Z"
    }
   },
   "outputs": [],
   "source": [
    "using Kwat"
   ]
  },
  {
   "cell_type": "markdown",
   "id": "89befcf8-5608-48dd-a3b8-758afa434404",
   "metadata": {},
   "source": [
    "## get_center"
   ]
  },
  {
   "cell_type": "code",
   "execution_count": null,
   "id": "aa01bb9b-d93b-4914-82e8-2ca6ecfa41b7",
   "metadata": {
    "execution": {
     "iopub.execute_input": "2021-10-14T18:34:36.085556Z",
     "iopub.status.busy": "2021-10-14T18:34:34.553221Z",
     "iopub.status.idle": "2021-10-14T18:34:37.162264Z",
     "shell.execute_reply": "2021-10-14T18:34:37.162618Z"
    }
   },
   "outputs": [],
   "source": [
    "Kwat.math.get_center(0.0, 100.0)"
   ]
  },
  {
   "cell_type": "code",
   "execution_count": null,
   "id": "fbf3d9d9",
   "metadata": {
    "execution": {
     "iopub.execute_input": "2021-10-14T18:34:37.164483Z",
     "iopub.status.busy": "2021-10-14T18:34:37.163977Z",
     "iopub.status.idle": "2021-10-14T18:34:37.185421Z",
     "shell.execute_reply": "2021-10-14T18:34:37.184781Z"
    }
   },
   "outputs": [],
   "source": [
    "Kwat.math.get_center(-1.0, 1.0)"
   ]
  }
 ],
 "metadata": {
  "@webio": {
   "lastCommId": "a70c996ac08347eab5890eb672b0b13f",
   "lastKernelId": "e760c4d2-6526-4a89-aae1-9c96a824e3a1"
  },
  "kernelspec": {
   "display_name": "Julia 1.6.3",
   "language": "julia",
   "name": "julia-1.6"
  },
  "language_info": {
   "file_extension": ".jl",
   "mimetype": "application/julia",
   "name": "julia",
   "version": "1.6.3"
  }
 },
 "nbformat": 4,
 "nbformat_minor": 5
}
