{
 "cells": [
  {
   "cell_type": "code",
   "execution_count": 14,
   "id": "7b781e1a-f688-41b8-978a-f10ab56282b1",
   "metadata": {},
   "outputs": [],
   "source": [
    "using Revise"
   ]
  },
  {
   "cell_type": "code",
   "execution_count": 15,
   "id": "ac013642-fbc8-4ccb-98f8-71586b451288",
   "metadata": {},
   "outputs": [],
   "source": [
    "using Kwat: path"
   ]
  },
  {
   "cell_type": "markdown",
   "id": "22713f8f-8fb5-449c-9bc0-40b411d9eb12",
   "metadata": {},
   "source": [
    "## read_directory"
   ]
  },
  {
   "cell_type": "code",
   "execution_count": 16,
   "id": "0b5adabc-1b8d-4f67-92cd-bb0a617c997c",
   "metadata": {},
   "outputs": [
    {
     "data": {
      "text/plain": [
       "\"/Users/kwat\""
      ]
     },
     "execution_count": 16,
     "metadata": {},
     "output_type": "execute_result"
    }
   ],
   "source": [
    "di = expanduser(\"~\")"
   ]
  },
  {
   "cell_type": "code",
   "execution_count": 17,
   "id": "984b9a10-5f7b-4ca5-a290-8d00ea9c04dd",
   "metadata": {},
   "outputs": [
    {
     "data": {
      "text/plain": [
       "10-element Array{String,1}:\n",
       " \"/Users/kwat/Desktop\"\n",
       " \"/Users/kwat/Documents\"\n",
       " \"/Users/kwat/Downloads\"\n",
       " \"/Users/kwat/Library\"\n",
       " \"/Users/kwat/Movies\"\n",
       " \"/Users/kwat/Music\"\n",
       " \"/Users/kwat/Pictures\"\n",
       " \"/Users/kwat/Public\"\n",
       " \"/Users/kwat/code\"\n",
       " \"/Users/kwat/iCloud\""
      ]
     },
     "execution_count": 17,
     "metadata": {},
     "output_type": "execute_result"
    }
   ],
   "source": [
    "path.read_directory(di)"
   ]
  },
  {
   "cell_type": "code",
   "execution_count": 19,
   "id": "9c9d3941-e7ce-49b3-84bf-35e28266449a",
   "metadata": {},
   "outputs": [
    {
     "data": {
      "text/plain": [
       "10-element Array{String,1}:\n",
       " \"Desktop\"\n",
       " \"Documents\"\n",
       " \"Downloads\"\n",
       " \"Library\"\n",
       " \"Movies\"\n",
       " \"Music\"\n",
       " \"Pictures\"\n",
       " \"Public\"\n",
       " \"code\"\n",
       " \"iCloud\""
      ]
     },
     "execution_count": 19,
     "metadata": {},
     "output_type": "execute_result"
    }
   ],
   "source": [
    "path.read_directory(di; so = false, jo = false)"
   ]
  }
 ],
 "metadata": {
  "kernelspec": {
   "display_name": "Julia 1.5.4",
   "language": "julia",
   "name": "julia-1.5"
  },
  "language_info": {
   "file_extension": ".jl",
   "mimetype": "application/julia",
   "name": "julia",
   "version": "1.5.4"
  }
 },
 "nbformat": 4,
 "nbformat_minor": 5
}
