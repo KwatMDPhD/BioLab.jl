{
 "cells": [
  {
   "cell_type": "code",
   "execution_count": null,
   "id": "ac013642-fbc8-4ccb-98f8-71586b451288",
   "metadata": {},
   "outputs": [],
   "source": [
    "using Revise\n",
    "using BenchmarkTools\n",
    "\n",
    "using Kwat"
   ]
  },
  {
   "cell_type": "markdown",
   "id": "387c0a24",
   "metadata": {},
   "source": [
    "## get_download_directory"
   ]
  },
  {
   "cell_type": "code",
   "execution_count": null,
   "id": "80571a1f",
   "metadata": {},
   "outputs": [],
   "source": [
    "Kwat.path.get_download_directory()"
   ]
  },
  {
   "cell_type": "markdown",
   "id": "46d0c395",
   "metadata": {},
   "source": [
    "## clean"
   ]
  },
  {
   "cell_type": "code",
   "execution_count": null,
   "id": "1cab13b0",
   "metadata": {},
   "outputs": [],
   "source": [
    "Kwat.path.clean(\"a_b.c-d+e!f%g%h]i\")"
   ]
  },
  {
   "cell_type": "markdown",
   "id": "ade6597b",
   "metadata": {},
   "source": [
    "## get_absolute"
   ]
  },
  {
   "cell_type": "code",
   "execution_count": null,
   "id": "bb1380e1",
   "metadata": {},
   "outputs": [],
   "source": [
    "Kwat.path.get_absolute(\"~/Downloads/\")"
   ]
  },
  {
   "cell_type": "markdown",
   "id": "22713f8f-8fb5-449c-9bc0-40b411d9eb12",
   "metadata": {},
   "source": [
    "## select"
   ]
  },
  {
   "cell_type": "code",
   "execution_count": null,
   "id": "61441a21",
   "metadata": {},
   "outputs": [],
   "source": [
    "ho = Kwat.path.get_absolute(\"~\")\n",
    "\n",
    ";"
   ]
  },
  {
   "cell_type": "code",
   "execution_count": null,
   "id": "984b9a10-5f7b-4ca5-a290-8d00ea9c04dd",
   "metadata": {},
   "outputs": [],
   "source": [
    "Kwat.path.select(ho)"
   ]
  },
  {
   "cell_type": "code",
   "execution_count": null,
   "id": "e7a43cc3",
   "metadata": {},
   "outputs": [],
   "source": [
    "ig_ = Vector{Regex}()"
   ]
  },
  {
   "cell_type": "code",
   "execution_count": null,
   "id": "fe91012c",
   "metadata": {},
   "outputs": [],
   "source": [
    "Kwat.path.select(ho; ig_ = ig_, jo = false)"
   ]
  },
  {
   "cell_type": "code",
   "execution_count": null,
   "id": "80cd1335",
   "metadata": {},
   "outputs": [],
   "source": [
    "Kwat.path.select(ho; ig_=ig_, ke_=[r\"^\\.\"], jo=false)"
   ]
  },
  {
   "cell_type": "markdown",
   "id": "e78a77b2",
   "metadata": {},
   "source": [
    "## shorten_path"
   ]
  },
  {
   "cell_type": "code",
   "execution_count": null,
   "id": "8551a542",
   "metadata": {},
   "outputs": [],
   "source": [
    "pa = pwd()"
   ]
  },
  {
   "cell_type": "code",
   "execution_count": null,
   "id": "6aef3344",
   "metadata": {},
   "outputs": [],
   "source": [
    "for id = 2:-1:1\n",
    "\n",
    "    println(Kwat.path.shorten_path(pa, id))\n",
    "\n",
    "end"
   ]
  },
  {
   "cell_type": "code",
   "execution_count": null,
   "id": "2c775a1a",
   "metadata": {},
   "outputs": [],
   "source": [
    "for di in [\"craft\", \"craft/Kwat.jl\"]\n",
    "\n",
    "    println(Kwat.path.shorten_path(pa, di))\n",
    "\n",
    "end"
   ]
  },
  {
   "cell_type": "markdown",
   "id": "aa7ec461",
   "metadata": {},
   "source": [
    "## move"
   ]
  },
  {
   "cell_type": "code",
   "execution_count": null,
   "id": "59ded666",
   "metadata": {},
   "outputs": [],
   "source": [
    "di = mkdir(joinpath(Kwat.path.get_download_directory(), \"path\"))\n",
    "\n",
    "di1 = mkpath(joinpath(di, \"di1\"))\n",
    "\n",
    "di2 = mkpath(joinpath(di, \"di2\"))\n",
    "\n",
    "di3 = mkpath(joinpath(di, \"di3\"))\n",
    "\n",
    "fi1 = joinpath(di1, \"fi1\")\n",
    "\n",
    "fi2 = joinpath(di2, \"fi2\")\n",
    "\n",
    "close(open(fi1, \"w\"))\n",
    "\n",
    "close(open(fi2, \"w\"))\n",
    "\n",
    "run(`tree $di`)"
   ]
  },
  {
   "cell_type": "code",
   "execution_count": null,
   "id": "db6c225a",
   "metadata": {},
   "outputs": [],
   "source": [
    "fi12 = replace(fi1, \"di1\" => \"di3\")\n",
    "\n",
    "println(Kwat.path.move(fi1, fi12; te=true))\n",
    "\n",
    "println(Kwat.path.move(fi1, fi12))\n",
    "\n",
    "run(`tree $di`)\n",
    "\n",
    ";"
   ]
  },
  {
   "cell_type": "code",
   "execution_count": null,
   "id": "24c7cffe",
   "metadata": {},
   "outputs": [],
   "source": [
    "try\n",
    "    \n",
    "    Kwat.path.move(di2, di3)\n",
    "    \n",
    "catch er\n",
    "    \n",
    "    println(er)\n",
    "    \n",
    "end\n",
    "\n",
    "println(Kwat.path.move(di2, di3; fo=true))\n",
    "\n",
    "run(`tree $di`)\n",
    "\n",
    ";"
   ]
  },
  {
   "cell_type": "code",
   "execution_count": null,
   "id": "5c8e5079",
   "metadata": {},
   "outputs": [],
   "source": [
    "rm(di; recursive = true)"
   ]
  }
 ],
 "metadata": {
  "@webio": {
   "lastCommId": "f2e827e98cf3428e8fe8ff528ed1eca3",
   "lastKernelId": "b0368513-1d09-4d74-8f08-be7d9cc904f0"
  },
  "kernelspec": {
   "display_name": "Julia 1.6.3",
   "language": "julia",
   "name": "julia-1.6"
  },
  "language_info": {
   "file_extension": ".jl",
   "mimetype": "application/julia",
   "name": "julia",
   "version": "1.6.3"
  }
 },
 "nbformat": 4,
 "nbformat_minor": 5
}
