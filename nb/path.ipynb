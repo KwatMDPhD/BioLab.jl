{
 "cells": [
  {
   "cell_type": "code",
   "execution_count": null,
   "id": "ac013642-fbc8-4ccb-98f8-71586b451288",
   "metadata": {},
   "outputs": [],
   "source": [
    "using Revise\n",
    "using BenchmarkTools\n",
    "\n",
    "using Kwat"
   ]
  },
  {
   "cell_type": "markdown",
   "id": "387c0a24",
   "metadata": {},
   "source": [
    "## get_download_directory"
   ]
  },
  {
   "cell_type": "code",
   "execution_count": null,
   "id": "80571a1f",
   "metadata": {},
   "outputs": [],
   "source": [
    "Kwat.path.get_download_directory()"
   ]
  },
  {
   "cell_type": "markdown",
   "id": "46d0c395",
   "metadata": {},
   "source": [
    "## clean"
   ]
  },
  {
   "cell_type": "code",
   "execution_count": null,
   "id": "1cab13b0",
   "metadata": {},
   "outputs": [],
   "source": [
    "Kwat.path.clean(\"a_b.c-d+e!f%g$h]i\")"
   ]
  },
  {
   "cell_type": "markdown",
   "id": "ade6597b",
   "metadata": {},
   "source": [
    "## get_absolute"
   ]
  },
  {
   "cell_type": "code",
   "execution_count": null,
   "id": "bb1380e1",
   "metadata": {},
   "outputs": [],
   "source": [
    "Kwat.path.get_absolute(\"~/Downloads/\")"
   ]
  },
  {
   "cell_type": "markdown",
   "id": "22713f8f-8fb5-449c-9bc0-40b411d9eb12",
   "metadata": {},
   "source": [
    "## select"
   ]
  },
  {
   "cell_type": "code",
   "execution_count": null,
   "id": "61441a21",
   "metadata": {},
   "outputs": [],
   "source": [
    "ho = Kwat.path.get_absolute(\"~\")\n",
    "\n",
    ";"
   ]
  },
  {
   "cell_type": "code",
   "execution_count": null,
   "id": "984b9a10-5f7b-4ca5-a290-8d00ea9c04dd",
   "metadata": {},
   "outputs": [],
   "source": [
    "Kwat.path.select(ho)"
   ]
  },
  {
   "cell_type": "code",
   "execution_count": null,
   "id": "e7a43cc3",
   "metadata": {},
   "outputs": [],
   "source": [
    "ig_ = Vector{Regex}()"
   ]
  },
  {
   "cell_type": "code",
   "execution_count": null,
   "id": "fe91012c",
   "metadata": {},
   "outputs": [],
   "source": [
    "Kwat.path.select(ho; ig_ = ig_, jo = false)"
   ]
  },
  {
   "cell_type": "code",
   "execution_count": null,
   "id": "80cd1335",
   "metadata": {},
   "outputs": [],
   "source": [
    "Kwat.path.select(ho; ig_=ig_, ke_=[r\"^\\.\"], jo=false)"
   ]
  }
 ],
 "metadata": {
  "@webio": {
   "lastCommId": "fd8346103d4a4e968e450a25954cfe1b",
   "lastKernelId": "ca51e465-b799-4341-9c4a-41e97f4676e5"
  },
  "kernelspec": {
   "display_name": "Julia 1.6.3",
   "language": "julia",
   "name": "julia-1.6"
  },
  "language_info": {
   "file_extension": ".jl",
   "mimetype": "application/julia",
   "name": "julia",
   "version": "1.6.3"
  }
 },
 "nbformat": 4,
 "nbformat_minor": 5
}
