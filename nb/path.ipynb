{
 "cells": [
  {
   "cell_type": "code",
   "execution_count": null,
   "id": "ac013642-fbc8-4ccb-98f8-71586b451288",
   "metadata": {},
   "outputs": [],
   "source": [
    "using Kwat"
   ]
  },
  {
   "cell_type": "markdown",
   "id": "46d0c395",
   "metadata": {},
   "source": [
    "## clean"
   ]
  },
  {
   "cell_type": "code",
   "execution_count": null,
   "id": "1cab13b0",
   "metadata": {},
   "outputs": [],
   "source": [
    "Kwat.path.clean(\"a_b.c-d$e%f$g\")"
   ]
  },
  {
   "cell_type": "markdown",
   "id": "ade6597b",
   "metadata": {},
   "source": [
    "## get_absolute"
   ]
  },
  {
   "cell_type": "code",
   "execution_count": null,
   "id": "bb1380e1",
   "metadata": {},
   "outputs": [],
   "source": [
    "Kwat.path.get_absolute(\"~/Downloads/\")"
   ]
  },
  {
   "cell_type": "markdown",
   "id": "22713f8f-8fb5-449c-9bc0-40b411d9eb12",
   "metadata": {},
   "source": [
    "## select"
   ]
  },
  {
   "cell_type": "code",
   "execution_count": null,
   "id": "61441a21",
   "metadata": {},
   "outputs": [],
   "source": [
    "ho = Kwat.path.get_absolute(\"~\")\n",
    "\n",
    ";"
   ]
  },
  {
   "cell_type": "code",
   "execution_count": null,
   "id": "984b9a10-5f7b-4ca5-a290-8d00ea9c04dd",
   "metadata": {},
   "outputs": [],
   "source": [
    "Kwat.path.select(ho)"
   ]
  },
  {
   "cell_type": "code",
   "execution_count": null,
   "id": "e7a43cc3",
   "metadata": {},
   "outputs": [],
   "source": [
    "ig_ = Vector{Regex}()"
   ]
  },
  {
   "cell_type": "code",
   "execution_count": null,
   "id": "fe91012c",
   "metadata": {},
   "outputs": [],
   "source": [
    "Kwat.path.select(ho; ig_ = ig_, jo = false)"
   ]
  },
  {
   "cell_type": "code",
   "execution_count": null,
   "id": "80cd1335",
   "metadata": {},
   "outputs": [],
   "source": [
    "Kwat.path.select(ho; ig_=ig_, ke_=[r\"^\\.\"], jo=false)"
   ]
  }
 ],
 "metadata": {
  "@webio": {
   "lastCommId": "90814673e2d046ca83858c28b598bf19",
   "lastKernelId": "c4b0b84d-af06-4e67-b31a-1bab8ff50848"
  },
  "kernelspec": {
   "display_name": "Julia 1.6.3",
   "language": "julia",
   "name": "julia-1.6"
  },
  "language_info": {
   "file_extension": ".jl",
   "mimetype": "application/julia",
   "name": "julia",
   "version": "1.6.3"
  }
 },
 "nbformat": 4,
 "nbformat_minor": 5
}
