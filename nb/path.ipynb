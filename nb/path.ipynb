{
 "cells": [
  {
   "cell_type": "code",
   "execution_count": null,
   "id": "7b781e1a-f688-41b8-978a-f10ab56282b1",
   "metadata": {},
   "outputs": [],
   "source": [
    "using Revise\n",
    "using BenchmarkTools"
   ]
  },
  {
   "cell_type": "code",
   "execution_count": null,
   "id": "ac013642-fbc8-4ccb-98f8-71586b451288",
   "metadata": {},
   "outputs": [],
   "source": [
    "using Kwat"
   ]
  },
  {
   "cell_type": "markdown",
   "id": "22713f8f-8fb5-449c-9bc0-40b411d9eb12",
   "metadata": {},
   "source": [
    "## read_directory"
   ]
  },
  {
   "cell_type": "code",
   "execution_count": null,
   "id": "0b5adabc-1b8d-4f67-92cd-bb0a617c997c",
   "metadata": {},
   "outputs": [],
   "source": [
    "di = expanduser(\"~\")"
   ]
  },
  {
   "cell_type": "code",
   "execution_count": null,
   "id": "984b9a10-5f7b-4ca5-a290-8d00ea9c04dd",
   "metadata": {},
   "outputs": [],
   "source": [
    "Kwat.path.read_directory(di)"
   ]
  },
  {
   "cell_type": "code",
   "execution_count": null,
   "id": "9c9d3941-e7ce-49b3-84bf-35e28266449a",
   "metadata": {},
   "outputs": [],
   "source": [
    "Kwat.path.read_directory(di; so = false, jo = false)"
   ]
  }
 ],
 "metadata": {
  "kernelspec": {
   "display_name": "Julia 1.6.2",
   "language": "julia",
   "name": "julia-1.6"
  },
  "language_info": {
   "file_extension": ".jl",
   "mimetype": "application/julia",
   "name": "julia",
   "version": "1.6.2"
  }
 },
 "nbformat": 4,
 "nbformat_minor": 5
}
