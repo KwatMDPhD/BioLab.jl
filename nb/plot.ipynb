{
 "cells": [
  {
   "cell_type": "code",
   "execution_count": 1,
   "metadata": {},
   "outputs": [],
   "source": [
    "using Revise\n",
    "using BenchmarkTools"
   ]
  },
  {
   "cell_type": "code",
   "execution_count": null,
   "metadata": {},
   "outputs": [
    {
     "data": {
      "application/vnd.webio.node+json": {
       "children": [],
       "instanceArgs": {
        "namespace": "html",
        "tag": "div"
       },
       "nodeType": "DOM",
       "props": {},
       "type": "node"
      },
      "text/html": [
       "<div style=\"padding: 1em; background-color: #f8d6da; border: 1px solid #f5c6cb; font-weight: bold;\">\n",
       "<p>The WebIO Jupyter extension was not detected. See the\n",
       "<a href=\"https://juliagizmos.github.io/WebIO.jl/latest/providers/ijulia/\" target=\"_blank\">\n",
       "    WebIO Jupyter integration documentation\n",
       "</a>\n",
       "for more information.\n",
       "</div>\n"
      ],
      "text/plain": [
       "WebIO._IJuliaInit()"
      ]
     },
     "metadata": {
      "@webio": {
       "kernelId": "c2077b65-dbd5-4a56-b002-1859c715754e"
      }
     },
     "output_type": "display_data"
    },
    {
     "name": "stderr",
     "output_type": "stream",
     "text": [
      "┌ Info: Precompiling Kwat [fb31f113-4a63-4a8e-817a-4bdffc7e605a]\n",
      "└ @ Base loading.jl:1342\n"
     ]
    }
   ],
   "source": [
    "using Plotly\n",
    "\n",
    "using Kwat"
   ]
  },
  {
   "cell_type": "markdown",
   "metadata": {},
   "source": [
    "## use_style!"
   ]
  },
  {
   "cell_type": "code",
   "execution_count": null,
   "metadata": {},
   "outputs": [],
   "source": [
    "Plotly.plot()"
   ]
  },
  {
   "cell_type": "code",
   "execution_count": null,
   "metadata": {},
   "outputs": [],
   "source": [
    "Kwat.plot.use_style!()"
   ]
  },
  {
   "cell_type": "code",
   "execution_count": null,
   "metadata": {},
   "outputs": [],
   "source": [
    "Plotly.plot()"
   ]
  },
  {
   "cell_type": "markdown",
   "metadata": {},
   "source": [
    "## plot_x_y"
   ]
  },
  {
   "cell_type": "code",
   "execution_count": null,
   "metadata": {},
   "outputs": [],
   "source": [
    "x1 = Kwat.vector_number.convert([1, 2, 3])\n",
    "\n",
    "x2 = Kwat.vector_number.convert([4, 5, 6])\n",
    "\n",
    "y1 = Kwat.vector_number.convert([10, 20, 30])\n",
    "\n",
    "y2 = Kwat.vector_number.convert([40, 50, 60])\n",
    "\n",
    "Kwat.plot.plot_x_y([x1, x2], [y1, y2])"
   ]
  },
  {
   "cell_type": "code",
   "execution_count": null,
   "metadata": {},
   "outputs": [],
   "source": [
    "layout = Layout(title = \"Title\", xaxis_title = \"X-axis title\", yaxis_title = \"Y-axis title\")\n",
    "\n",
    "Kwat.plot.plot_x_y([y1, y2]; layout = layout)"
   ]
  },
  {
   "cell_type": "markdown",
   "metadata": {},
   "source": [
    "## plot_bar"
   ]
  },
  {
   "cell_type": "code",
   "execution_count": null,
   "metadata": {},
   "outputs": [],
   "source": [
    "using Plotly: Layout, scatter, plot as Plotlyplot\n",
    "\n",
    "function plot_bar(\n",
    "    y_::Vector{Vector{Float64}};\n",
    "    name_::Union{Nothing,Vector{String}} = nothing,\n",
    "    layout::Union{Nothing,Layout} = nothing,\n",
    ")::Any\n",
    "\n",
    "    n_tr = length(y_)\n",
    "\n",
    "    tr_ = [Dict{String,Any}() for ie = 1:n_tr]\n",
    "\n",
    "    for ie = 1:n_tr\n",
    "\n",
    "        tr_[ie][\"y\"] = y_[ie]\n",
    "\n",
    "        if name_ == nothing\n",
    "\n",
    "            name = string(ie)\n",
    "\n",
    "        else\n",
    "\n",
    "            name = name_[ie]\n",
    "\n",
    "        end\n",
    "\n",
    "        tr_[ie][\"name\"] = name\n",
    "\n",
    "        tr_[ie][\"opacity\"] = 0.8\n",
    "\n",
    "    end\n",
    "\n",
    "    tr_ = [bar(tr) for tr in tr_]\n",
    "\n",
    "    if layout == nothing\n",
    "\n",
    "        layout = Layout()\n",
    "\n",
    "    end\n",
    "\n",
    "    return display(Plotlyplot(tr_, layout))\n",
    "\n",
    "end\n",
    "\n",
    "export plot_bar\n",
    "\n",
    "plot_bar([collect(-2.:1:2), collect(-4.:2:4), collect(-8.:4:8)], layout=layout)"
   ]
  },
  {
   "cell_type": "markdown",
   "metadata": {},
   "source": [
    "## plot_heat_map"
   ]
  },
  {
   "cell_type": "code",
   "execution_count": null,
   "metadata": {},
   "outputs": [],
   "source": [
    "ma = reshape(1.0:8.0, (2, 4))"
   ]
  },
  {
   "cell_type": "code",
   "execution_count": null,
   "metadata": {},
   "outputs": [],
   "source": [
    "Plotly.plot([heatmap(; z = rotr90(ma), colorscale = \"Picnic\")])"
   ]
  }
 ],
 "metadata": {
  "@webio": {
   "lastCommId": "ec8c66c2-1ab1-4388-a65c-666ba1efbef1",
   "lastKernelId": "c2077b65-dbd5-4a56-b002-1859c715754e"
  },
  "kernelspec": {
   "display_name": "Julia 1.6.2",
   "language": "julia",
   "name": "julia-1.6"
  },
  "language_info": {
   "file_extension": ".jl",
   "mimetype": "application/julia",
   "name": "julia",
   "version": "1.6.2"
  }
 },
 "nbformat": 4,
 "nbformat_minor": 4
}
