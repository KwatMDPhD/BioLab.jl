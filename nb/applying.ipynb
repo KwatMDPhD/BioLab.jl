{
 "cells": [
  {
   "cell_type": "code",
   "execution_count": null,
   "id": "0e3f444b",
   "metadata": {},
   "outputs": [],
   "source": [
    "using Revise\n",
    "using BenchmarkTools\n",
    "\n",
    "using Kwat"
   ]
  },
  {
   "cell_type": "markdown",
   "id": "a4f49444",
   "metadata": {},
   "source": [
    "## apply"
   ]
  },
  {
   "cell_type": "code",
   "execution_count": null,
   "id": "ed8f544c",
   "metadata": {},
   "outputs": [],
   "source": [
    "n_ro = 5\n",
    "\n",
    "n_co = 4\n",
    "\n",
    "n_ze = convert(Int64, n_co / 2)\n",
    "\n",
    "n_on = n_co - n_ze"
   ]
  },
  {
   "cell_type": "code",
   "execution_count": null,
   "id": "2c8afdbb",
   "metadata": {},
   "outputs": [],
   "source": [
    "bi_ = convert(BitVector, [zeros(n_ze); ones(n_on)])"
   ]
  },
  {
   "cell_type": "code",
   "execution_count": null,
   "id": "1d5ca8fb",
   "metadata": {},
   "outputs": [],
   "source": [
    "ve = convert(Vector{Float64}, [10^(id - 1) for id = 1:n_co])"
   ]
  },
  {
   "cell_type": "code",
   "execution_count": null,
   "id": "6dcd60c6",
   "metadata": {},
   "outputs": [],
   "source": [
    "ma = convert(Matrix{Float64}, reshape(1:n_ro*n_co, (n_ro, n_co)))"
   ]
  },
  {
   "cell_type": "code",
   "execution_count": null,
   "id": "7be150a0",
   "metadata": {},
   "outputs": [],
   "source": [
    "Kwat.applying.apply(bi_, ve, .*)"
   ]
  },
  {
   "cell_type": "code",
   "execution_count": null,
   "id": "bc844dc0",
   "metadata": {},
   "outputs": [],
   "source": [
    "Kwat.applying.apply(ve, ma, .*)"
   ]
  },
  {
   "cell_type": "code",
   "execution_count": null,
   "id": "1ff54e7b",
   "metadata": {},
   "outputs": [],
   "source": [
    "Kwat.applying.apply(bi_, ma, .*)"
   ]
  },
  {
   "cell_type": "code",
   "execution_count": null,
   "id": "bd0b8dd5",
   "metadata": {},
   "outputs": [],
   "source": [
    "Kwat.applying.apply(ma, ma, (ro1, ro2) -> minimum([ro1; ro2]))"
   ]
  }
 ],
 "metadata": {
  "@webio": {
   "lastCommId": "3b835fa782d845629e064c9ab735b0c6",
   "lastKernelId": "2c1d5cd5-013b-4cd2-8770-897011cfd3ed"
  },
  "kernelspec": {
   "display_name": "Julia 1.6.3",
   "language": "julia",
   "name": "julia-1.6"
  },
  "language_info": {
   "file_extension": ".jl",
   "mimetype": "application/julia",
   "name": "julia",
   "version": "1.6.3"
  }
 },
 "nbformat": 4,
 "nbformat_minor": 5
}
