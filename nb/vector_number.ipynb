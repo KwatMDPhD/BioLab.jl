{
 "cells": [
  {
   "cell_type": "code",
   "execution_count": null,
   "id": "d23eaa86-1f87-483a-8e06-babcd4f15982",
   "metadata": {
    "execution": {
     "iopub.execute_input": "2021-10-14T18:38:46.245632Z",
     "iopub.status.busy": "2021-10-14T18:38:45.690808Z",
     "iopub.status.idle": "2021-10-14T18:38:59.898438Z",
     "shell.execute_reply": "2021-10-14T18:38:59.897915Z"
    }
   },
   "outputs": [],
   "source": [
    "using Kwat"
   ]
  },
  {
   "cell_type": "markdown",
   "id": "0a9e78f3-ebf2-4a12-a03a-3f5e70a95f77",
   "metadata": {},
   "source": [
    "## convert"
   ]
  },
  {
   "cell_type": "code",
   "execution_count": null,
   "id": "ec227b79-7a56-4c95-b209-579d1e5a7688",
   "metadata": {
    "execution": {
     "iopub.execute_input": "2021-10-14T18:39:01.455685Z",
     "iopub.status.busy": "2021-10-14T18:38:59.900304Z",
     "iopub.status.idle": "2021-10-14T18:39:03.532678Z",
     "shell.execute_reply": "2021-10-14T18:39:03.533044Z"
    }
   },
   "outputs": [],
   "source": [
    "Kwat.vector_number.convert([-1, 0, 2])"
   ]
  },
  {
   "cell_type": "markdown",
   "id": "72451b86-b0f1-4adb-a304-4683ae46a94d",
   "metadata": {},
   "source": [
    "## cumulate_sum_reverse"
   ]
  },
  {
   "cell_type": "code",
   "execution_count": null,
   "id": "10a4d6f0-cfcc-4655-9aaa-9118fb5f77b5",
   "metadata": {
    "execution": {
     "iopub.execute_input": "2021-10-14T18:39:03.534863Z",
     "iopub.status.busy": "2021-10-14T18:39:03.534361Z",
     "iopub.status.idle": "2021-10-14T18:39:03.615860Z",
     "shell.execute_reply": "2021-10-14T18:39:03.615458Z"
    }
   },
   "outputs": [],
   "source": [
    "ve = Kwat.vector_number.convert(1:10)\n",
    "\n",
    "Kwat.vector_number.cumulate_sum_reverse(ve)"
   ]
  },
  {
   "cell_type": "markdown",
   "id": "18758076-35d5-45e7-88a2-ecc7132ad31b",
   "metadata": {},
   "source": [
    "## get_area"
   ]
  },
  {
   "cell_type": "code",
   "execution_count": null,
   "id": "64da4bc0-f12f-4fad-ad6d-caca24b65833",
   "metadata": {
    "execution": {
     "iopub.execute_input": "2021-10-14T18:39:03.617617Z",
     "iopub.status.busy": "2021-10-14T18:39:03.617119Z",
     "iopub.status.idle": "2021-10-14T18:39:03.857854Z",
     "shell.execute_reply": "2021-10-14T18:39:03.857465Z"
    }
   },
   "outputs": [],
   "source": [
    "ve = Kwat.vector_number.convert([-1, 0, 1, 2])\n",
    "\n",
    "Kwat.vector_number.get_area(ve)"
   ]
  },
  {
   "cell_type": "code",
   "execution_count": null,
   "id": "3472d967-2bf5-411a-9fba-d782fb8b1cb8",
   "metadata": {
    "execution": {
     "iopub.execute_input": "2021-10-14T18:39:03.859567Z",
     "iopub.status.busy": "2021-10-14T18:39:03.859060Z",
     "iopub.status.idle": "2021-10-14T18:39:03.877262Z",
     "shell.execute_reply": "2021-10-14T18:39:03.876497Z"
    }
   },
   "outputs": [],
   "source": [
    "ve = Kwat.vector_number.convert([-2, -1, 0, 0, 1, 2])\n",
    "\n",
    "Kwat.vector_number.get_area(ve)"
   ]
  },
  {
   "cell_type": "markdown",
   "id": "86009ddc-35e6-4254-adef-e5fd00642d0a",
   "metadata": {},
   "source": [
    "## get_extreme"
   ]
  },
  {
   "cell_type": "code",
   "execution_count": null,
   "id": "a67ff333-17a9-4b10-8835-3a98ee1857c5",
   "metadata": {
    "execution": {
     "iopub.execute_input": "2021-10-14T18:39:03.879872Z",
     "iopub.status.busy": "2021-10-14T18:39:03.879101Z",
     "iopub.status.idle": "2021-10-14T18:39:03.967758Z",
     "shell.execute_reply": "2021-10-14T18:39:03.967380Z"
    }
   },
   "outputs": [],
   "source": [
    "ve = Kwat.vector_number.convert([-1, 0, 0, 1, 2])\n",
    "\n",
    "Kwat.vector_number.get_extreme(ve)"
   ]
  },
  {
   "cell_type": "code",
   "execution_count": null,
   "id": "c5aa9e06-d0e2-4e07-a20f-399f479fcc39",
   "metadata": {
    "execution": {
     "iopub.execute_input": "2021-10-14T18:39:03.969475Z",
     "iopub.status.busy": "2021-10-14T18:39:03.968967Z",
     "iopub.status.idle": "2021-10-14T18:39:04.006890Z",
     "shell.execute_reply": "2021-10-14T18:39:04.006443Z"
    }
   },
   "outputs": [],
   "source": [
    "ve = [-maximum(ve), ve...]\n",
    "\n",
    "Kwat.vector_number.get_extreme(ve)"
   ]
  },
  {
   "cell_type": "markdown",
   "id": "908903bd",
   "metadata": {},
   "source": [
    "## normalize"
   ]
  },
  {
   "cell_type": "code",
   "execution_count": null,
   "id": "be25b6af",
   "metadata": {
    "execution": {
     "iopub.execute_input": "2021-10-14T18:39:04.008833Z",
     "iopub.status.busy": "2021-10-14T18:39:04.008260Z",
     "iopub.status.idle": "2021-10-14T18:39:04.328914Z",
     "shell.execute_reply": "2021-10-14T18:39:04.328518Z"
    }
   },
   "outputs": [],
   "source": [
    "ve = Vector{Float64}()\n",
    "\n",
    "Kwat.vector_number.normalize(ve, \"-0-\")"
   ]
  },
  {
   "cell_type": "code",
   "execution_count": null,
   "id": "85fbd85f",
   "metadata": {
    "execution": {
     "iopub.execute_input": "2021-10-14T18:39:04.330631Z",
     "iopub.status.busy": "2021-10-14T18:39:04.330144Z",
     "iopub.status.idle": "2021-10-14T18:39:04.695585Z",
     "shell.execute_reply": "2021-10-14T18:39:04.695199Z"
    }
   },
   "outputs": [],
   "source": [
    "ve = Kwat.vector_number.convert([-1, 0, 1])\n",
    "\n",
    "try\n",
    "\n",
    "    Kwat.vector_number.normalize(ve, \"sum\")\n",
    "\n",
    "catch er\n",
    "\n",
    "    er\n",
    "\n",
    "end"
   ]
  },
  {
   "cell_type": "code",
   "execution_count": null,
   "id": "4e09cbac",
   "metadata": {
    "execution": {
     "iopub.execute_input": "2021-10-14T18:39:04.697333Z",
     "iopub.status.busy": "2021-10-14T18:39:04.696825Z",
     "iopub.status.idle": "2021-10-14T18:39:04.965643Z",
     "shell.execute_reply": "2021-10-14T18:39:04.965139Z"
    }
   },
   "outputs": [],
   "source": [
    "for ve in [[0.0], [1.0], [0.0, 0.0, 0.0], [1.0, 1.0, 1.0], [0.0, 1.0, 2.0]]\n",
    "\n",
    "    println('='^80)\n",
    "\n",
    "    println(ve)\n",
    "\n",
    "    println()\n",
    "\n",
    "    for me in [\"-0-\", \"0-1\", \"sum\"]\n",
    "\n",
    "        println('-'^80)\n",
    "\n",
    "        println(me)\n",
    "\n",
    "        println(Kwat.vector_number.normalize(ve, me))\n",
    "\n",
    "        println()\n",
    "\n",
    "    end\n",
    "\n",
    "\n",
    "end"
   ]
  },
  {
   "cell_type": "code",
   "execution_count": null,
   "id": "c2efa142",
   "metadata": {
    "execution": {
     "iopub.execute_input": "2021-10-14T18:39:04.967569Z",
     "iopub.status.busy": "2021-10-14T18:39:04.966986Z",
     "iopub.status.idle": "2021-10-14T18:39:05.127174Z",
     "shell.execute_reply": "2021-10-14T18:39:05.126776Z"
    }
   },
   "outputs": [],
   "source": [
    "for ve in [[0], [-1, 0, 0, 1, 1, 1, 2]]\n",
    "\n",
    "    ve = Kwat.vector_number.convert(ve)\n",
    "\n",
    "    println('='^80)\n",
    "\n",
    "    println(ve)\n",
    "\n",
    "    println()\n",
    "\n",
    "    for me in [\"1234\", \"1224\", \"1223\", \"1 2.5 2.5 4\"]\n",
    "\n",
    "        println('-'^80)\n",
    "\n",
    "        println(me)\n",
    "\n",
    "        println(Kwat.vector_number.normalize(ve, me))\n",
    "\n",
    "        println()\n",
    "\n",
    "    end\n",
    "\n",
    "end"
   ]
  },
  {
   "cell_type": "markdown",
   "id": "50b0d689-ef0d-4cad-87d1-66255e8145ce",
   "metadata": {},
   "source": [
    "## normalize!"
   ]
  },
  {
   "cell_type": "code",
   "execution_count": null,
   "id": "27052679-89cf-42d7-8b07-1329125e4fef",
   "metadata": {
    "execution": {
     "iopub.execute_input": "2021-10-14T18:39:05.129060Z",
     "iopub.status.busy": "2021-10-14T18:39:05.128511Z",
     "iopub.status.idle": "2021-10-14T18:39:05.441343Z",
     "shell.execute_reply": "2021-10-14T18:39:05.440906Z"
    }
   },
   "outputs": [],
   "source": [
    "ve = [NaN, -2, 0, NaN, 2, NaN]\n",
    "\n",
    "Kwat.vector_number.normalize!(ve, \"-0-\")\n",
    "\n",
    "ve"
   ]
  },
  {
   "cell_type": "markdown",
   "id": "693b1a39-0f23-4894-bf92-667b30887c84",
   "metadata": {},
   "source": [
    "## shift_minimum"
   ]
  },
  {
   "cell_type": "code",
   "execution_count": null,
   "id": "fb5bdb6e-19eb-48de-949a-18d75d5906ef",
   "metadata": {
    "execution": {
     "iopub.execute_input": "2021-10-14T18:39:05.443096Z",
     "iopub.status.busy": "2021-10-14T18:39:05.442610Z",
     "iopub.status.idle": "2021-10-14T18:39:05.541340Z",
     "shell.execute_reply": "2021-10-14T18:39:05.540915Z"
    }
   },
   "outputs": [],
   "source": [
    "ve = Kwat.vector_number.convert(-3:3)\n",
    "\n",
    "for nu in ve\n",
    "\n",
    "    println(Kwat.vector_number.shift_minimum(ve, nu))\n",
    "\n",
    "end"
   ]
  },
  {
   "cell_type": "code",
   "execution_count": null,
   "id": "82452928-4f67-4d94-b582-90b03a78f0c4",
   "metadata": {
    "execution": {
     "iopub.execute_input": "2021-10-14T18:39:05.543231Z",
     "iopub.status.busy": "2021-10-14T18:39:05.542665Z",
     "iopub.status.idle": "2021-10-14T18:39:05.672910Z",
     "shell.execute_reply": "2021-10-14T18:39:05.672459Z"
    }
   },
   "outputs": [],
   "source": [
    "Kwat.vector_number.shift_minimum(ve, \"0<\")"
   ]
  },
  {
   "cell_type": "markdown",
   "id": "dca57b16-f483-4881-8503-27a3a8b5a9c3",
   "metadata": {},
   "source": [
    "## sum_where"
   ]
  },
  {
   "cell_type": "code",
   "execution_count": null,
   "id": "61ad13bb-c34e-4761-a84a-9ea8fb759932",
   "metadata": {
    "execution": {
     "iopub.execute_input": "2021-10-14T18:39:05.674968Z",
     "iopub.status.busy": "2021-10-14T18:39:05.674400Z",
     "iopub.status.idle": "2021-10-14T18:39:05.723150Z",
     "shell.execute_reply": "2021-10-14T18:39:05.722701Z"
    }
   },
   "outputs": [],
   "source": [
    "ve = Kwat.vector_number.convert([0, 1, 2, 3])\n",
    "\n",
    "bi_ = Kwat.vector_number.convert([0, 1, 0, 1])\n",
    "\n",
    "Kwat.vector_number.sum_where(ve, bi_)"
   ]
  }
 ],
 "metadata": {
  "@webio": {
   "lastCommId": "d24c7401c4cf473786b6e418e86a1901",
   "lastKernelId": "7845ec68-400d-4ea3-baa4-3ec340510bf7"
  },
  "kernelspec": {
   "display_name": "Julia 1.6.3",
   "language": "julia",
   "name": "julia-1.6"
  },
  "language_info": {
   "file_extension": ".jl",
   "mimetype": "application/julia",
   "name": "julia",
   "version": "1.6.3"
  }
 },
 "nbformat": 4,
 "nbformat_minor": 5
}
