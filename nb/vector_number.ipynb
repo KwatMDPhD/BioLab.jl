{
 "cells": [
  {
   "cell_type": "code",
   "execution_count": null,
   "id": "c70afc55-6330-4f2b-8bdc-0cd40f8a3220",
   "metadata": {},
   "outputs": [],
   "source": [
    "using Revise"
   ]
  },
  {
   "cell_type": "code",
   "execution_count": null,
   "id": "d23eaa86-1f87-483a-8e06-babcd4f15982",
   "metadata": {},
   "outputs": [],
   "source": [
    "using Kwat: vector_number"
   ]
  },
  {
   "cell_type": "markdown",
   "id": "72451b86-b0f1-4adb-a304-4683ae46a94d",
   "metadata": {},
   "source": [
    "## cumulate_sum_reverse"
   ]
  },
  {
   "cell_type": "code",
   "execution_count": null,
   "id": "10a4d6f0-cfcc-4655-9aaa-9118fb5f77b5",
   "metadata": {},
   "outputs": [],
   "source": [
    "vector_number.cumulate_sum_reverse(collect(1.0:10.0))"
   ]
  },
  {
   "cell_type": "markdown",
   "id": "18758076-35d5-45e7-88a2-ecc7132ad31b",
   "metadata": {},
   "source": [
    "## get_area"
   ]
  },
  {
   "cell_type": "code",
   "execution_count": null,
   "id": "64da4bc0-f12f-4fad-ad6d-caca24b65833",
   "metadata": {},
   "outputs": [],
   "source": [
    "vector_number.get_area([-1.0, 0, 1, 2])"
   ]
  },
  {
   "cell_type": "code",
   "execution_count": null,
   "id": "3472d967-2bf5-411a-9fba-d782fb8b1cb8",
   "metadata": {},
   "outputs": [],
   "source": [
    "vector_number.get_area([-2, -1, 0, 0, 1, 2])"
   ]
  },
  {
   "cell_type": "markdown",
   "id": "86009ddc-35e6-4254-adef-e5fd00642d0a",
   "metadata": {},
   "source": [
    "## get_extreme"
   ]
  },
  {
   "cell_type": "code",
   "execution_count": null,
   "id": "a67ff333-17a9-4b10-8835-3a98ee1857c5",
   "metadata": {},
   "outputs": [],
   "source": [
    "vector_number.get_extreme(Float64.([-1, 0, 0, 1, 2]))"
   ]
  },
  {
   "cell_type": "code",
   "execution_count": null,
   "id": "c5aa9e06-d0e2-4e07-a20f-399f479fcc39",
   "metadata": {},
   "outputs": [],
   "source": [
    "vector_number.get_extreme(Float64.([-2, -1, 0, 0, 1, 2]))"
   ]
  },
  {
   "cell_type": "markdown",
   "id": "50b0d689-ef0d-4cad-87d1-66255e8145ce",
   "metadata": {},
   "source": [
    "## normalize!"
   ]
  },
  {
   "cell_type": "markdown",
   "id": "843b6f50-dc10-4bdd-bbf0-957ef01c7f0a",
   "metadata": {},
   "source": [
    "## normalize"
   ]
  },
  {
   "cell_type": "code",
   "execution_count": null,
   "id": "fd0388b0-8d59-4359-bc77-88470d3db115",
   "metadata": {},
   "outputs": [],
   "source": [
    "vector_number.normalize(Vector{Float64}(), \"-0-\")"
   ]
  },
  {
   "cell_type": "code",
   "execution_count": null,
   "id": "64509d4a-6f85-452b-a2fb-91440b7e8c84",
   "metadata": {},
   "outputs": [],
   "source": [
    "vector_number.normalize([NaN, -2, 0, NaN, 2, NaN], \"-0-\")"
   ]
  },
  {
   "cell_type": "code",
   "execution_count": null,
   "id": "42d8f690-58c5-43ab-aaef-2fb3e1a780bc",
   "metadata": {},
   "outputs": [],
   "source": [
    "try\n",
    "\n",
    "    vector_number.normalize(Float64.([-1, 0, 1]), \"sum\")\n",
    "\n",
    "catch er\n",
    "\n",
    "    println(er)\n",
    "\n",
    "end"
   ]
  },
  {
   "cell_type": "code",
   "execution_count": null,
   "id": "69ada347-a44c-451f-beb9-37d7b025530c",
   "metadata": {},
   "outputs": [],
   "source": [
    "for ve in [[0.0], [1.0], [0.0, 0.0, 0.0], [1.0, 1.0, 1.0], [0.0, 1.0, 2.0]]\n",
    "\n",
    "    println(ve)\n",
    "\n",
    "    for me in [\"-0-\", \"0-1\", \"sum\"]\n",
    "\n",
    "        println(me)\n",
    "\n",
    "        println(vector_number.normalize(ve, me))\n",
    "\n",
    "    end\n",
    "\n",
    "end"
   ]
  },
  {
   "cell_type": "code",
   "execution_count": null,
   "id": "1efb0cf4-e561-4db8-a5af-0e01ae5ee247",
   "metadata": {},
   "outputs": [],
   "source": [
    "for ve in ([0], [-1, 0, 0, 1, 1, 1, 2])\n",
    "\n",
    "    ve = Float64.(ve)\n",
    "\n",
    "    println('='^80)\n",
    "\n",
    "    println(ve)\n",
    "\n",
    "    println('='^80)\n",
    "\n",
    "    for me in [\"1234\", \"1224\", \"1223\", \"1 2.5 2.5 4\"]\n",
    "\n",
    "        println(me)\n",
    "\n",
    "        println(vector_number.normalize(ve, me))\n",
    "\n",
    "    end\n",
    "\n",
    "end"
   ]
  },
  {
   "cell_type": "markdown",
   "id": "693b1a39-0f23-4894-bf92-667b30887c84",
   "metadata": {},
   "source": [
    "## shift_minimum"
   ]
  },
  {
   "cell_type": "code",
   "execution_count": null,
   "id": "62fc5202-cc98-44e0-b2ce-e5e4b0919153",
   "metadata": {},
   "outputs": [],
   "source": [
    "g = convert.(Float64, -3:3)\n",
    "\n",
    "for m in g\n",
    "\n",
    "    println(vector_number.shift_minimum(g, m))\n",
    "\n",
    "end\n",
    "\n",
    "println(vector_number.shift_minimum(g, \"0<\"))"
   ]
  },
  {
   "cell_type": "markdown",
   "id": "dca57b16-f483-4881-8503-27a3a8b5a9c3",
   "metadata": {},
   "source": [
    "## sum_where"
   ]
  },
  {
   "cell_type": "code",
   "execution_count": null,
   "id": "61ad13bb-c34e-4761-a84a-9ea8fb759932",
   "metadata": {},
   "outputs": [],
   "source": [
    "vector_number.sum_where(convert.(Float64, [0, 1, 2, 3]), convert.(Float64, [0, 1, 0, 1]))"
   ]
  }
 ],
 "metadata": {
  "kernelspec": {
   "display_name": "Julia 1.5.4",
   "language": "julia",
   "name": "julia-1.5"
  },
  "language_info": {
   "file_extension": ".jl",
   "mimetype": "application/julia",
   "name": "julia",
   "version": "1.5.4"
  }
 },
 "nbformat": 4,
 "nbformat_minor": 5
}
