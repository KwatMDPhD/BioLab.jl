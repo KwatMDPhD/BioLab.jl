{
 "cells": [
  {
   "cell_type": "code",
   "execution_count": null,
   "metadata": {
    "execution": {
     "iopub.execute_input": "2021-10-14T18:33:47.018218Z",
     "iopub.status.busy": "2021-10-14T18:33:46.479416Z",
     "iopub.status.idle": "2021-10-14T18:34:00.632503Z",
     "shell.execute_reply": "2021-10-14T18:34:00.631988Z"
    }
   },
   "outputs": [],
   "source": [
    "using Revise\n",
    "using BenchmarkTools\n",
    "\n",
    "using Kwat"
   ]
  },
  {
   "cell_type": "markdown",
   "metadata": {},
   "source": [
    "## "
   ]
  },
  {
   "cell_type": "code",
   "execution_count": null,
   "metadata": {
    "execution": {
     "iopub.execute_input": "2021-10-14T18:34:02.197843Z",
     "iopub.status.busy": "2021-10-14T18:34:00.633833Z",
     "iopub.status.idle": "2021-10-14T18:34:03.006064Z",
     "shell.execute_reply": "2021-10-14T18:34:03.005548Z"
    }
   },
   "outputs": [],
   "source": [
    "da = joinpath(\"data\", \"\")\n",
    "\n",
    ";"
   ]
  },
  {
   "cell_type": "markdown",
   "metadata": {},
   "source": [
    "## read"
   ]
  },
  {
   "cell_type": "code",
   "execution_count": null,
   "metadata": {
    "execution": {
     "iopub.execute_input": "2021-10-14T18:34:03.008610Z",
     "iopub.status.busy": "2021-10-14T18:34:03.007580Z",
     "iopub.status.idle": "2021-10-14T18:34:04.570381Z",
     "shell.execute_reply": "2021-10-14T18:34:04.569992Z"
    }
   },
   "outputs": [],
   "source": [
    "Kwat.json.read(joinpath(da, \"example_1.json\"))"
   ]
  },
  {
   "cell_type": "code",
   "execution_count": null,
   "metadata": {
    "execution": {
     "iopub.execute_input": "2021-10-14T18:34:04.572202Z",
     "iopub.status.busy": "2021-10-14T18:34:04.571712Z",
     "iopub.status.idle": "2021-10-14T18:34:04.776021Z",
     "shell.execute_reply": "2021-10-14T18:34:04.775655Z"
    }
   },
   "outputs": [],
   "source": [
    "Kwat.json.read(joinpath(da, \"example_2.json\"))"
   ]
  },
  {
   "cell_type": "markdown",
   "metadata": {},
   "source": [
    "## write"
   ]
  },
  {
   "cell_type": "code",
   "execution_count": null,
   "metadata": {
    "execution": {
     "iopub.execute_input": "2021-10-14T18:34:04.777892Z",
     "iopub.status.busy": "2021-10-14T18:34:04.777405Z",
     "iopub.status.idle": "2021-10-14T18:34:04.934651Z",
     "shell.execute_reply": "2021-10-14T18:34:04.934215Z"
    }
   },
   "outputs": [],
   "source": [
    "di = Dict(\n",
    "    \"Luffy\" => \"Pirate King\",\n",
    "    \"Crews\" => [\n",
    "        \"Luffy\",\n",
    "        \"Zoro\",\n",
    "        \"Nami\",\n",
    "        \"Usopp\",\n",
    "        \"Sanji\",\n",
    "        \"Chopper\",\n",
    "        \"Robin\",\n",
    "        \"Franky\",\n",
    "        \"Brook\",\n",
    "        \"Jinbe\",\n",
    "    ],\n",
    ")\n",
    "\n",
    ";"
   ]
  },
  {
   "cell_type": "code",
   "execution_count": null,
   "metadata": {
    "execution": {
     "iopub.execute_input": "2021-10-14T18:34:04.936495Z",
     "iopub.status.busy": "2021-10-14T18:34:04.935964Z",
     "iopub.status.idle": "2021-10-14T18:34:04.950720Z",
     "shell.execute_reply": "2021-10-14T18:34:04.949811Z"
    }
   },
   "outputs": [],
   "source": [
    "js = joinpath(da, \"example_3\")\n",
    "\n",
    ";"
   ]
  },
  {
   "cell_type": "code",
   "execution_count": null,
   "metadata": {
    "execution": {
     "iopub.execute_input": "2021-10-14T18:34:04.953303Z",
     "iopub.status.busy": "2021-10-14T18:34:04.952527Z",
     "iopub.status.idle": "2021-10-14T18:34:05.367616Z",
     "shell.execute_reply": "2021-10-14T18:34:05.367238Z"
    }
   },
   "outputs": [],
   "source": [
    "try\n",
    "\n",
    "    Kwat.json.write(js, di)\n",
    "\n",
    "catch er\n",
    "\n",
    "    er\n",
    "\n",
    "end"
   ]
  },
  {
   "cell_type": "code",
   "execution_count": null,
   "metadata": {
    "execution": {
     "iopub.execute_input": "2021-10-14T18:34:05.370732Z",
     "iopub.status.busy": "2021-10-14T18:34:05.369756Z",
     "iopub.status.idle": "2021-10-14T18:34:05.384074Z",
     "shell.execute_reply": "2021-10-14T18:34:05.383186Z"
    }
   },
   "outputs": [],
   "source": [
    "js = string(js, \".json\")\n",
    "\n",
    ";"
   ]
  },
  {
   "cell_type": "code",
   "execution_count": null,
   "metadata": {
    "execution": {
     "iopub.execute_input": "2021-10-14T18:34:05.386930Z",
     "iopub.status.busy": "2021-10-14T18:34:05.386141Z",
     "iopub.status.idle": "2021-10-14T18:34:05.809387Z",
     "shell.execute_reply": "2021-10-14T18:34:05.808969Z"
    }
   },
   "outputs": [],
   "source": [
    "Kwat.json.write(js, di)"
   ]
  },
  {
   "cell_type": "code",
   "execution_count": null,
   "metadata": {
    "execution": {
     "iopub.execute_input": "2021-10-14T18:34:05.811207Z",
     "iopub.status.busy": "2021-10-14T18:34:05.810666Z",
     "iopub.status.idle": "2021-10-14T18:34:05.838661Z",
     "shell.execute_reply": "2021-10-14T18:34:05.837987Z"
    }
   },
   "outputs": [],
   "source": [
    "Kwat.json.read(js)"
   ]
  }
 ],
 "metadata": {
  "@webio": {
   "lastCommId": "320ff6cfe6804dc88551df7b1d15e241",
   "lastKernelId": "6381ca3d-9bf3-4b62-a317-ca748c0c14a9"
  },
  "kernelspec": {
   "display_name": "Julia 1.6.3",
   "language": "julia",
   "name": "julia-1.6"
  },
  "language_info": {
   "file_extension": ".jl",
   "mimetype": "application/julia",
   "name": "julia",
   "version": "1.6.3"
  }
 },
 "nbformat": 4,
 "nbformat_minor": 4
}
