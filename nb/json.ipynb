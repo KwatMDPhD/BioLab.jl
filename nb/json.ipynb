{
 "cells": [
  {
   "cell_type": "code",
   "execution_count": null,
   "metadata": {},
   "outputs": [],
   "source": [
    "using Kwat"
   ]
  },
  {
   "cell_type": "markdown",
   "metadata": {},
   "source": [
    "## read"
   ]
  },
  {
   "cell_type": "code",
   "execution_count": null,
   "metadata": {},
   "outputs": [],
   "source": [
    "Kwat.json.read(joinpath(\"data\", \"example_1.json\"))"
   ]
  },
  {
   "cell_type": "code",
   "execution_count": null,
   "metadata": {},
   "outputs": [],
   "source": [
    "Kwat.json.read(joinpath(\"data\", \"example_2.json\"))"
   ]
  },
  {
   "cell_type": "markdown",
   "metadata": {},
   "source": [
    "## write"
   ]
  },
  {
   "cell_type": "code",
   "execution_count": null,
   "metadata": {},
   "outputs": [],
   "source": [
    "pa = joinpath(\"data\", \"example_3.json\")"
   ]
  },
  {
   "cell_type": "code",
   "execution_count": null,
   "metadata": {},
   "outputs": [],
   "source": [
    "Kwat.json.write(\n",
    "    pa,\n",
    "    Dict(\n",
    "        \"Luffy\" => \"Pirate King\",\n",
    "        \"Crews\" => [\n",
    "            \"Luffy\",\n",
    "            \"Zoro\",\n",
    "            \"Nami\",\n",
    "            \"Usopp\",\n",
    "            \"Sanji\",\n",
    "            \"Chopper\",\n",
    "            \"Robin\",\n",
    "            \"Franky\",\n",
    "            \"Brook\",\n",
    "            \"Jinbe\",\n",
    "        ],\n",
    "    ),\n",
    ")"
   ]
  },
  {
   "cell_type": "code",
   "execution_count": null,
   "metadata": {},
   "outputs": [],
   "source": [
    "Kwat.json.read(pa)"
   ]
  }
 ],
 "metadata": {
  "@webio": {
   "lastCommId": "017dda2b536d490ba36854d79de5a008",
   "lastKernelId": "70e2ef9d-4ff0-449f-a27c-8bb15252192e"
  },
  "kernelspec": {
   "display_name": "Julia 1.6.3",
   "language": "julia",
   "name": "julia-1.6"
  },
  "language_info": {
   "file_extension": ".jl",
   "mimetype": "application/julia",
   "name": "julia",
   "version": "1.6.3"
  }
 },
 "nbformat": 4,
 "nbformat_minor": 4
}
