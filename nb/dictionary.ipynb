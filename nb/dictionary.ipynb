{
 "cells": [
  {
   "cell_type": "code",
   "execution_count": null,
   "id": "b3325ba2-989b-48ae-b530-5d0f64147f9a",
   "metadata": {
    "execution": {
     "iopub.execute_input": "2021-10-14T18:26:29.907045Z",
     "iopub.status.busy": "2021-10-14T18:26:29.331821Z",
     "iopub.status.idle": "2021-10-14T18:26:45.243821Z",
     "shell.execute_reply": "2021-10-14T18:26:45.243322Z"
    }
   },
   "outputs": [],
   "source": [
    "using Revise\n",
    "using BenchmarkTools\n",
    "\n",
    "using JSON\n",
    "\n",
    "using Kwat"
   ]
  },
  {
   "cell_type": "markdown",
   "id": "2988a98a-d859-491b-83bd-0880462f2fcd",
   "metadata": {},
   "source": [
    "## merge"
   ]
  },
  {
   "cell_type": "code",
   "execution_count": null,
   "id": "273f0476",
   "metadata": {
    "execution": {
     "iopub.execute_input": "2021-10-14T18:26:46.972209Z",
     "iopub.status.busy": "2021-10-14T18:26:45.245152Z",
     "iopub.status.idle": "2021-10-14T18:26:48.110532Z",
     "shell.execute_reply": "2021-10-14T18:26:48.110084Z"
    }
   },
   "outputs": [],
   "source": [
    "di1 = Dict(\"1A\" => 1, \"B\" => Dict(\"C\" => 1, \"1D\" => 1))\n",
    "\n",
    "di2 = Dict(\"2A\" => 2, \"B\" => Dict(\"C\" => 2, \"2D\" => 2))\n",
    "\n",
    ";"
   ]
  },
  {
   "cell_type": "code",
   "execution_count": null,
   "id": "3b4449a0",
   "metadata": {
    "execution": {
     "iopub.execute_input": "2021-10-14T18:26:48.112488Z",
     "iopub.status.busy": "2021-10-14T18:26:48.111967Z",
     "iopub.status.idle": "2021-10-14T18:26:48.493827Z",
     "shell.execute_reply": "2021-10-14T18:26:48.493315Z"
    }
   },
   "outputs": [],
   "source": [
    "id = 4\n",
    "\n",
    "print(json(Kwat.dictionary.merge(di1, di2), id))\n",
    "\n",
    "println(json(Kwat.dictionary.merge(di2, di1), id))"
   ]
  },
  {
   "cell_type": "markdown",
   "id": "cd899dd4",
   "metadata": {},
   "source": [
    "## summarize"
   ]
  },
  {
   "cell_type": "code",
   "execution_count": null,
   "id": "11691b40",
   "metadata": {},
   "outputs": [],
   "source": [
    "Kwat.dictionary.summarize(\n",
    "    Dict(1 => \"a\", 2 => \"a\", 3 => \"b\", 4 => nothing, 5 => nothing, 6 => NaN),\n",
    ")"
   ]
  },
  {
   "cell_type": "markdown",
   "id": "c563b07c",
   "metadata": {},
   "source": [
    "## make_keyword_argument"
   ]
  },
  {
   "cell_type": "code",
   "execution_count": null,
   "id": "0e07e4f6",
   "metadata": {},
   "outputs": [],
   "source": [
    "Kwat.dictionary.make_keyword_argument(Dict(\"a\" => 1, \"b\" => 2.0))"
   ]
  }
 ],
 "metadata": {
  "@webio": {
   "lastCommId": "8d8cca80188841c19f76e0a20f6d1006",
   "lastKernelId": "6c2bd588-058d-4194-8cb6-54164ce498bc"
  },
  "kernelspec": {
   "display_name": "Julia 1.6.3",
   "language": "julia",
   "name": "julia-1.6"
  },
  "language_info": {
   "file_extension": ".jl",
   "mimetype": "application/julia",
   "name": "julia",
   "version": "1.6.3"
  }
 },
 "nbformat": 4,
 "nbformat_minor": 5
}
