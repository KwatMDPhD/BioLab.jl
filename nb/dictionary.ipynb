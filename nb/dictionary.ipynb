{
 "cells": [
  {
   "cell_type": "code",
   "execution_count": null,
   "id": "b3325ba2-989b-48ae-b530-5d0f64147f9a",
   "metadata": {},
   "outputs": [],
   "source": [
    "using JSON\n",
    "\n",
    "using Kwat"
   ]
  },
  {
   "cell_type": "markdown",
   "id": "2988a98a-d859-491b-83bd-0880462f2fcd",
   "metadata": {},
   "source": [
    "## merge"
   ]
  },
  {
   "cell_type": "code",
   "execution_count": null,
   "id": "273f0476",
   "metadata": {},
   "outputs": [],
   "source": [
    "di1 = Dict(\"1A\" => 1, \"B\" => Dict(\"C\" => 1, \"1D\" => 1))\n",
    "\n",
    "di2 = Dict(\"2A\" => 2, \"B\" => Dict(\"C\" => 2, \"2D\" => 2))\n",
    "\n",
    ";"
   ]
  },
  {
   "cell_type": "code",
   "execution_count": null,
   "id": "3b4449a0",
   "metadata": {},
   "outputs": [],
   "source": [
    "id = 4\n",
    "\n",
    ";"
   ]
  },
  {
   "cell_type": "code",
   "execution_count": null,
   "id": "7db4876a",
   "metadata": {},
   "outputs": [],
   "source": [
    "print(json(Kwat.dictionary.merge(di1, di2), id))"
   ]
  },
  {
   "cell_type": "code",
   "execution_count": null,
   "id": "d3cb519d",
   "metadata": {},
   "outputs": [],
   "source": [
    "println(json(Kwat.dictionary.merge(di2, di1), id))"
   ]
  }
 ],
 "metadata": {
  "@webio": {
   "lastCommId": "8421f963e19145228146039a5f80005e",
   "lastKernelId": "0ed9e69a-497e-41f7-8ed9-0f56752789c4"
  },
  "kernelspec": {
   "display_name": "Julia 1.6.3",
   "language": "julia",
   "name": "julia-1.6"
  },
  "language_info": {
   "file_extension": ".jl",
   "mimetype": "application/julia",
   "name": "julia",
   "version": "1.6.3"
  }
 },
 "nbformat": 4,
 "nbformat_minor": 5
}
