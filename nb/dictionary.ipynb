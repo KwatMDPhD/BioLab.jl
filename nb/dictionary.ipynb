{
 "cells": [
  {
   "cell_type": "code",
   "execution_count": null,
   "id": "b3325ba2-989b-48ae-b530-5d0f64147f9a",
   "metadata": {},
   "outputs": [],
   "source": [
    "using JSON\n",
    "\n",
    "using Kwat"
   ]
  },
  {
   "cell_type": "markdown",
   "id": "2988a98a-d859-491b-83bd-0880462f2fcd",
   "metadata": {},
   "source": [
    "## merge"
   ]
  },
  {
   "cell_type": "code",
   "execution_count": null,
   "id": "661edb58-b8fa-4deb-ac80-e50dc5109d1f",
   "metadata": {},
   "outputs": [],
   "source": [
    "di1 = Dict(\"1A\" => 1, \"B\" => Dict(\"C\" => 1, \"1D\" => 1))\n",
    "\n",
    "di2 = Dict(\"2A\" => 2, \"B\" => Dict(\"C\" => 2, \"2D\" => 2))\n",
    "\n",
    "id = 4\n",
    "\n",
    "println(json(Kwat.dictionary.merge(di1, di2), id))\n",
    "\n",
    "println(json(Kwat.dictionary.merge(di2, di1), id))"
   ]
  }
 ],
 "metadata": {
  "@webio": {
   "lastCommId": "1ccf86b2961b4eec83413b33df27ce6c",
   "lastKernelId": "02924cbd-c489-4d4b-a93d-c15bba555d1c"
  },
  "kernelspec": {
   "display_name": "Julia 1.6.3",
   "language": "julia",
   "name": "julia-1.6"
  },
  "language_info": {
   "file_extension": ".jl",
   "mimetype": "application/julia",
   "name": "julia",
   "version": "1.6.3"
  }
 },
 "nbformat": 4,
 "nbformat_minor": 5
}
