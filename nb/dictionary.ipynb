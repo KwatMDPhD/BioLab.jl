{
 "cells": [
  {
   "cell_type": "code",
   "execution_count": null,
   "id": "2ef30cb9-d6bc-4842-896e-c8426ee68cb6",
   "metadata": {},
   "outputs": [],
   "source": [
    "using Revise"
   ]
  },
  {
   "cell_type": "code",
   "execution_count": null,
   "id": "b3325ba2-989b-48ae-b530-5d0f64147f9a",
   "metadata": {},
   "outputs": [],
   "source": [
    "using Kwat: dictionary"
   ]
  },
  {
   "cell_type": "markdown",
   "id": "2988a98a-d859-491b-83bd-0880462f2fcd",
   "metadata": {},
   "source": [
    "## merge"
   ]
  },
  {
   "cell_type": "code",
   "execution_count": null,
   "id": "689604fc-85d8-4689-9ea9-489f333e8de2",
   "metadata": {},
   "outputs": [],
   "source": [
    "using JSON"
   ]
  },
  {
   "cell_type": "code",
   "execution_count": null,
   "id": "661edb58-b8fa-4deb-ac80-e50dc5109d1f",
   "metadata": {},
   "outputs": [],
   "source": [
    "di_1 = Dict(\"1a\" => 1, \"b\" => Dict(\"c\" => 1, \"1d\" => 1))\n",
    "\n",
    "di_2 = Dict(\"2a\" => 2, \"b\" => Dict(\"c\" => 2, \"2d\" => 2))\n",
    "\n",
    "println(json(dictionary.merge(di_1, di_2), 2))\n",
    "\n",
    "println(json(dictionary.merge(di_2, di_1), 2))"
   ]
  }
 ],
 "metadata": {
  "kernelspec": {
   "display_name": "Julia 1.5.4",
   "language": "julia",
   "name": "julia-1.5"
  },
  "language_info": {
   "file_extension": ".jl",
   "mimetype": "application/julia",
   "name": "julia",
   "version": "1.5.4"
  }
 },
 "nbformat": 4,
 "nbformat_minor": 5
}
