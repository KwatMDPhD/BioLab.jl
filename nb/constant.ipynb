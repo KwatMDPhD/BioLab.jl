{
 "cells": [
  {
   "cell_type": "code",
   "execution_count": null,
   "id": "b3325ba2-989b-48ae-b530-5d0f64147f9a",
   "metadata": {},
   "outputs": [],
   "source": [
    "using Kwat"
   ]
  },
  {
   "cell_type": "markdown",
   "id": "2988a98a-d859-491b-83bd-0880462f2fcd",
   "metadata": {},
   "source": [
    "## get_golden_ratio"
   ]
  },
  {
   "cell_type": "code",
   "execution_count": null,
   "id": "661edb58-b8fa-4deb-ac80-e50dc5109d1f",
   "metadata": {},
   "outputs": [],
   "source": [
    "Kwat.constant.get_golden_ratio()"
   ]
  }
 ],
 "metadata": {
  "@webio": {
   "lastCommId": "8f4c3a83c8024249b27e5f8fcf373487",
   "lastKernelId": "f7e0a3d8-59c0-4337-9fee-c670ac6dc3ed"
  },
  "kernelspec": {
   "display_name": "Julia 1.6.3",
   "language": "julia",
   "name": "julia-1.6"
  },
  "language_info": {
   "file_extension": ".jl",
   "mimetype": "application/julia",
   "name": "julia",
   "version": "1.6.3"
  }
 },
 "nbformat": 4,
 "nbformat_minor": 5
}
