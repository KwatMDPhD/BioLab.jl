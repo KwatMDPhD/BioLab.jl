{
 "cells": [
  {
   "cell_type": "code",
   "execution_count": null,
   "id": "b3325ba2-989b-48ae-b530-5d0f64147f9a",
   "metadata": {
    "execution": {
     "iopub.execute_input": "2021-10-14T18:25:54.055222Z",
     "iopub.status.busy": "2021-10-14T18:25:53.342490Z",
     "iopub.status.idle": "2021-10-14T18:26:10.352867Z",
     "shell.execute_reply": "2021-10-14T18:26:10.352370Z"
    }
   },
   "outputs": [],
   "source": [
    "using Revise\n",
    "using BenchmarkTools\n",
    "\n",
    "using Kwat"
   ]
  },
  {
   "cell_type": "markdown",
   "id": "2988a98a-d859-491b-83bd-0880462f2fcd",
   "metadata": {},
   "source": [
    "## get_golden_ratio"
   ]
  },
  {
   "cell_type": "code",
   "execution_count": null,
   "id": "661edb58-b8fa-4deb-ac80-e50dc5109d1f",
   "metadata": {
    "execution": {
     "iopub.execute_input": "2021-10-14T18:26:12.120721Z",
     "iopub.status.busy": "2021-10-14T18:26:10.354169Z",
     "iopub.status.idle": "2021-10-14T18:26:13.415855Z",
     "shell.execute_reply": "2021-10-14T18:26:13.416200Z"
    }
   },
   "outputs": [],
   "source": [
    "Kwat.constant.get_golden_ratio()"
   ]
  },
  {
   "cell_type": "markdown",
   "id": "56599040",
   "metadata": {},
   "source": [
    "## list_card"
   ]
  },
  {
   "cell_type": "code",
   "execution_count": null,
   "id": "00600357",
   "metadata": {},
   "outputs": [],
   "source": [
    "Kwat.constant.list_card()"
   ]
  }
 ],
 "metadata": {
  "@webio": {
   "lastCommId": "0dc16f0f57104da18bab050709743c02",
   "lastKernelId": "03ba8128-cb6d-4592-a336-0f133a066bf3"
  },
  "kernelspec": {
   "display_name": "Julia 1.6.3",
   "language": "julia",
   "name": "julia-1.6"
  },
  "language_info": {
   "file_extension": ".jl",
   "mimetype": "application/julia",
   "name": "julia",
   "version": "1.6.3"
  }
 },
 "nbformat": 4,
 "nbformat_minor": 5
}
