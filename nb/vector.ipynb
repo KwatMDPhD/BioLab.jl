{
 "cells": [
  {
   "cell_type": "code",
   "execution_count": null,
   "metadata": {
    "execution": {
     "iopub.execute_input": "2021-10-14T18:38:10.370782Z",
     "iopub.status.busy": "2021-10-14T18:38:09.828453Z",
     "iopub.status.idle": "2021-10-14T18:38:23.997087Z",
     "shell.execute_reply": "2021-10-14T18:38:23.996570Z"
    }
   },
   "outputs": [],
   "source": [
    "using Kwat"
   ]
  },
  {
   "cell_type": "markdown",
   "metadata": {},
   "source": [
    "## list_card"
   ]
  },
  {
   "cell_type": "code",
   "execution_count": null,
   "metadata": {
    "execution": {
     "iopub.execute_input": "2021-10-14T18:38:25.527832Z",
     "iopub.status.busy": "2021-10-14T18:38:23.998403Z",
     "iopub.status.idle": "2021-10-14T18:38:27.627529Z",
     "shell.execute_reply": "2021-10-14T18:38:27.627876Z"
    }
   },
   "outputs": [],
   "source": [
    "Kwat.vector.list_card()"
   ]
  },
  {
   "cell_type": "markdown",
   "metadata": {},
   "source": [
    "## check_in"
   ]
  },
  {
   "cell_type": "code",
   "execution_count": null,
   "metadata": {
    "execution": {
     "iopub.execute_input": "2021-10-14T18:38:27.629807Z",
     "iopub.status.busy": "2021-10-14T18:38:27.629312Z",
     "iopub.status.idle": "2021-10-14T18:38:27.669583Z",
     "shell.execute_reply": "2021-10-14T18:38:27.669069Z"
    }
   },
   "outputs": [],
   "source": [
    "ca_ = Kwat.vector.list_card()\n",
    "\n",
    "st1_ = [\"1\", \"2\", \"K\"]\n",
    "\n",
    ";"
   ]
  },
  {
   "cell_type": "code",
   "execution_count": null,
   "metadata": {
    "execution": {
     "iopub.execute_input": "2021-10-14T18:38:27.671529Z",
     "iopub.status.busy": "2021-10-14T18:38:27.670893Z",
     "iopub.status.idle": "2021-10-14T18:38:28.386612Z",
     "shell.execute_reply": "2021-10-14T18:38:28.386231Z"
    }
   },
   "outputs": [],
   "source": [
    "Kwat.vector.check_in(ca_, st1_)"
   ]
  },
  {
   "cell_type": "code",
   "execution_count": null,
   "metadata": {
    "execution": {
     "iopub.execute_input": "2021-10-14T18:38:28.388372Z",
     "iopub.status.busy": "2021-10-14T18:38:28.387879Z",
     "iopub.status.idle": "2021-10-14T18:38:28.505721Z",
     "shell.execute_reply": "2021-10-14T18:38:28.505336Z"
    }
   },
   "outputs": [],
   "source": [
    "ca_id = Dict(ca => id for (id, ca) in enumerate(ca_))\n",
    "\n",
    "Kwat.vector.check_in(ca_id, st1_)"
   ]
  },
  {
   "cell_type": "markdown",
   "metadata": {},
   "source": [
    "## sort_like"
   ]
  },
  {
   "cell_type": "code",
   "execution_count": null,
   "metadata": {
    "execution": {
     "iopub.execute_input": "2021-10-14T18:38:28.507606Z",
     "iopub.status.busy": "2021-10-14T18:38:28.507115Z",
     "iopub.status.idle": "2021-10-14T18:38:29.198857Z",
     "shell.execute_reply": "2021-10-14T18:38:29.198477Z"
    }
   },
   "outputs": [],
   "source": [
    "ve_ = [[\"a\", \"e\", \"K\", \"t\"], [\"a\", \"K\", \"t\", \"w\"]]"
   ]
  },
  {
   "cell_type": "code",
   "execution_count": null,
   "metadata": {
    "execution": {
     "iopub.execute_input": "2021-10-14T18:38:29.200618Z",
     "iopub.status.busy": "2021-10-14T18:38:29.200115Z",
     "iopub.status.idle": "2021-10-14T18:38:30.988115Z",
     "shell.execute_reply": "2021-10-14T18:38:30.987732Z"
    }
   },
   "outputs": [],
   "source": [
    "Kwat.vector.sort_like([[2, 4, 1, 3], ve_...])"
   ]
  },
  {
   "cell_type": "code",
   "execution_count": null,
   "metadata": {
    "execution": {
     "iopub.execute_input": "2021-10-14T18:38:30.991100Z",
     "iopub.status.busy": "2021-10-14T18:38:30.990097Z",
     "iopub.status.idle": "2021-10-14T18:38:31.014017Z",
     "shell.execute_reply": "2021-10-14T18:38:31.013511Z"
    }
   },
   "outputs": [],
   "source": [
    "Kwat.vector.sort_like([[3, 1, 4, 2], ve_...])"
   ]
  }
 ],
 "metadata": {
  "@webio": {
   "lastCommId": "2daaeae89aaa46fc8245f59c1ec1c9bd",
   "lastKernelId": "bb594288-f56d-4177-bcc8-4f3206186518"
  },
  "kernelspec": {
   "display_name": "Julia 1.6.3",
   "language": "julia",
   "name": "julia-1.6"
  },
  "language_info": {
   "file_extension": ".jl",
   "mimetype": "application/julia",
   "name": "julia",
   "version": "1.6.3"
  }
 },
 "nbformat": 4,
 "nbformat_minor": 4
}
