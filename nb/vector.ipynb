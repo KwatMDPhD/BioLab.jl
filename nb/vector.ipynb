{
 "cells": [
  {
   "cell_type": "code",
   "execution_count": null,
   "metadata": {
    "execution": {
     "iopub.execute_input": "2021-10-14T18:38:10.370782Z",
     "iopub.status.busy": "2021-10-14T18:38:09.828453Z",
     "iopub.status.idle": "2021-10-14T18:38:23.997087Z",
     "shell.execute_reply": "2021-10-14T18:38:23.996570Z"
    }
   },
   "outputs": [],
   "source": [
    "using Revise\n",
    "using BenchmarkTools\n",
    "\n",
    "using Kwat"
   ]
  },
  {
   "cell_type": "markdown",
   "metadata": {},
   "source": [
    "## check_in"
   ]
  },
  {
   "cell_type": "code",
   "execution_count": null,
   "metadata": {
    "execution": {
     "iopub.execute_input": "2021-10-14T18:38:27.629807Z",
     "iopub.status.busy": "2021-10-14T18:38:27.629312Z",
     "iopub.status.idle": "2021-10-14T18:38:27.669583Z",
     "shell.execute_reply": "2021-10-14T18:38:27.669069Z"
    }
   },
   "outputs": [],
   "source": [
    "ca_ = Kwat.vector.list_card()\n",
    "\n",
    "st1_ = [\"1\", \"2\", \"K\"]\n",
    "\n",
    ";"
   ]
  },
  {
   "cell_type": "code",
   "execution_count": null,
   "metadata": {
    "execution": {
     "iopub.execute_input": "2021-10-14T18:38:27.671529Z",
     "iopub.status.busy": "2021-10-14T18:38:27.670893Z",
     "iopub.status.idle": "2021-10-14T18:38:28.386612Z",
     "shell.execute_reply": "2021-10-14T18:38:28.386231Z"
    }
   },
   "outputs": [],
   "source": [
    "Kwat.vector.check_in(ca_, st1_)"
   ]
  },
  {
   "cell_type": "code",
   "execution_count": null,
   "metadata": {
    "execution": {
     "iopub.execute_input": "2021-10-14T18:38:28.388372Z",
     "iopub.status.busy": "2021-10-14T18:38:28.387879Z",
     "iopub.status.idle": "2021-10-14T18:38:28.505721Z",
     "shell.execute_reply": "2021-10-14T18:38:28.505336Z"
    }
   },
   "outputs": [],
   "source": [
    "ca_id = Dict(ca => id for (id, ca) in enumerate(ca_))\n",
    "\n",
    "Kwat.vector.check_in(ca_id, st1_)"
   ]
  },
  {
   "cell_type": "markdown",
   "metadata": {},
   "source": [
    "## sort_like"
   ]
  },
  {
   "cell_type": "code",
   "execution_count": null,
   "metadata": {
    "execution": {
     "iopub.execute_input": "2021-10-14T18:38:28.507606Z",
     "iopub.status.busy": "2021-10-14T18:38:28.507115Z",
     "iopub.status.idle": "2021-10-14T18:38:29.198857Z",
     "shell.execute_reply": "2021-10-14T18:38:29.198477Z"
    }
   },
   "outputs": [],
   "source": [
    "ve_ = [[\"a\", \"e\", \"K\", \"t\"], [\"a\", \"K\", \"t\", \"w\"]]"
   ]
  },
  {
   "cell_type": "code",
   "execution_count": null,
   "metadata": {
    "execution": {
     "iopub.execute_input": "2021-10-14T18:38:29.200618Z",
     "iopub.status.busy": "2021-10-14T18:38:29.200115Z",
     "iopub.status.idle": "2021-10-14T18:38:30.988115Z",
     "shell.execute_reply": "2021-10-14T18:38:30.987732Z"
    }
   },
   "outputs": [],
   "source": [
    "Kwat.vector.sort_like([[2, 4, 1, 3], ve_...])"
   ]
  },
  {
   "cell_type": "code",
   "execution_count": null,
   "metadata": {
    "execution": {
     "iopub.execute_input": "2021-10-14T18:38:30.991100Z",
     "iopub.status.busy": "2021-10-14T18:38:30.990097Z",
     "iopub.status.idle": "2021-10-14T18:38:31.014017Z",
     "shell.execute_reply": "2021-10-14T18:38:31.013511Z"
    }
   },
   "outputs": [],
   "source": [
    "Kwat.vector.sort_like([[3, 1, 4, 2], ve_...])"
   ]
  },
  {
   "cell_type": "markdown",
   "metadata": {},
   "source": [
    "## get_longest_common_prefix"
   ]
  },
  {
   "cell_type": "code",
   "execution_count": null,
   "metadata": {},
   "outputs": [],
   "source": [
    "for ve_ in [\n",
    "    [[], []],\n",
    "    [[1], [1, 2]],\n",
    "    [[1.0], [1.0, 2.0]],\n",
    "    [['a'], ['a', 'b']],\n",
    "    [[\"a\"], [\"a\", \"b\"]],\n",
    "    [[1, 2, 3], [1, 4, 5]],\n",
    "]\n",
    "\n",
    "    println(Kwat.vector.get_longest_common_prefix(ve_))\n",
    "\n",
    "end"
   ]
  }
 ],
 "metadata": {
  "@webio": {
   "lastCommId": "3a9412cf038e4876acadfacdb7c6597a",
   "lastKernelId": "8b5da3a8-b7e4-4bb6-b973-1371eec6d04a"
  },
  "kernelspec": {
   "display_name": "Julia 1.6.3",
   "language": "julia",
   "name": "julia-1.6"
  },
  "language_info": {
   "file_extension": ".jl",
   "mimetype": "application/julia",
   "name": "julia",
   "version": "1.6.3"
  }
 },
 "nbformat": 4,
 "nbformat_minor": 4
}
