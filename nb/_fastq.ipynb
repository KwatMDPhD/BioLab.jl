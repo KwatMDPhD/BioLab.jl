{
 "cells": [
  {
   "cell_type": "code",
   "execution_count": null,
   "id": "2ef30cb9-d6bc-4842-896e-c8426ee68cb6",
   "metadata": {
    "execution": {
     "iopub.execute_input": "2021-10-14T18:24:39.900426Z",
     "iopub.status.busy": "2021-10-14T18:24:39.356230Z",
     "iopub.status.idle": "2021-10-14T18:24:41.313008Z",
     "shell.execute_reply": "2021-10-14T18:24:41.312438Z"
    }
   },
   "outputs": [],
   "source": [
    "using Revise\n",
    "using BenchmarkTools"
   ]
  },
  {
   "cell_type": "code",
   "execution_count": null,
   "id": "b3325ba2-989b-48ae-b530-5d0f64147f9a",
   "metadata": {
    "execution": {
     "iopub.execute_input": "2021-10-14T18:24:41.314734Z",
     "iopub.status.busy": "2021-10-14T18:24:41.314239Z",
     "iopub.status.idle": "2021-10-14T18:24:53.386115Z",
     "shell.execute_reply": "2021-10-14T18:24:53.385467Z"
    }
   },
   "outputs": [],
   "source": [
    "using Kwat"
   ]
  },
  {
   "cell_type": "markdown",
   "id": "2988a98a-d859-491b-83bd-0880462f2fcd",
   "metadata": {},
   "source": [
    "## run"
   ]
  },
  {
   "cell_type": "code",
   "execution_count": null,
   "id": "661edb58-b8fa-4deb-ac80-e50dc5109d1f",
   "metadata": {
    "execution": {
     "iopub.execute_input": "2021-10-14T18:24:55.094086Z",
     "iopub.status.busy": "2021-10-14T18:24:53.387556Z",
     "iopub.status.idle": "2021-10-14T18:24:57.045884Z",
     "shell.execute_reply": "2021-10-14T18:24:57.045363Z"
    }
   },
   "outputs": [],
   "source": [
    "Kwat.bash.run(`ls ../../../`)"
   ]
  },
  {
   "cell_type": "code",
   "execution_count": null,
   "id": "9fb62c54-dc02-493b-a747-73d6f3fdbd29",
   "metadata": {
    "execution": {
     "iopub.execute_input": "2021-10-14T18:24:57.047867Z",
     "iopub.status.busy": "2021-10-14T18:24:57.047285Z",
     "iopub.status.idle": "2021-10-14T18:24:59.195829Z",
     "shell.execute_reply": "2021-10-14T18:24:59.195348Z"
    }
   },
   "outputs": [],
   "source": [
    "ho = homedir()\n",
    "\n",
    "cr = joinpath(ho, \"craft/\")\n",
    "\n",
    "dw = joinpath(ho, \"Downloads/\")\n",
    "\n",
    "Kwat.bash.run(pipeline(`find $cr -name \".git\"`, `xargs`, joinpath(dw, \"bash_run.txt\")))"
   ]
  }
 ],
 "metadata": {
  "@webio": {
   "lastCommId": "c1ecd203-6864-43a8-a90e-64f0116446aa",
   "lastKernelId": "2a6900de-940f-4438-a624-2af493bb2637"
  },
  "kernelspec": {
   "display_name": "Julia 1.6.2",
   "language": "julia",
   "name": "julia-1.6"
  },
  "language_info": {
   "file_extension": ".jl",
   "mimetype": "application/julia",
   "name": "julia",
   "version": "1.6.3"
  }
 },
 "nbformat": 4,
 "nbformat_minor": 5
}
