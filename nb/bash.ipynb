{
 "cells": [
  {
   "cell_type": "code",
   "execution_count": null,
   "id": "b3325ba2-989b-48ae-b530-5d0f64147f9a",
   "metadata": {
    "execution": {
     "iopub.execute_input": "2021-10-14T18:25:16.159870Z",
     "iopub.status.busy": "2021-10-14T18:25:15.608594Z",
     "iopub.status.idle": "2021-10-14T18:25:30.960909Z",
     "shell.execute_reply": "2021-10-14T18:25:30.960415Z"
    }
   },
   "outputs": [],
   "source": [
    "using Kwat"
   ]
  },
  {
   "cell_type": "markdown",
   "id": "2988a98a-d859-491b-83bd-0880462f2fcd",
   "metadata": {},
   "source": [
    "## run"
   ]
  },
  {
   "cell_type": "code",
   "execution_count": null,
   "id": "a596f5d2",
   "metadata": {
    "execution": {
     "iopub.execute_input": "2021-10-14T18:25:32.678164Z",
     "iopub.status.busy": "2021-10-14T18:25:30.962357Z",
     "iopub.status.idle": "2021-10-14T18:25:33.901784Z",
     "shell.execute_reply": "2021-10-14T18:25:33.902138Z"
    }
   },
   "outputs": [],
   "source": [
    "wo = pwd()"
   ]
  },
  {
   "cell_type": "code",
   "execution_count": null,
   "id": "661edb58-b8fa-4deb-ac80-e50dc5109d1f",
   "metadata": {
    "execution": {
     "iopub.execute_input": "2021-10-14T18:25:33.903992Z",
     "iopub.status.busy": "2021-10-14T18:25:33.903493Z",
     "iopub.status.idle": "2021-10-14T18:25:34.804055Z",
     "shell.execute_reply": "2021-10-14T18:25:34.803672Z"
    }
   },
   "outputs": [],
   "source": [
    "Kwat.bash.run(`ls $wo`)"
   ]
  },
  {
   "cell_type": "code",
   "execution_count": null,
   "id": "9fb62c54-dc02-493b-a747-73d6f3fdbd29",
   "metadata": {
    "execution": {
     "iopub.execute_input": "2021-10-14T18:25:34.805860Z",
     "iopub.status.busy": "2021-10-14T18:25:34.805366Z",
     "iopub.status.idle": "2021-10-14T18:25:36.267048Z",
     "shell.execute_reply": "2021-10-14T18:25:36.266638Z"
    }
   },
   "outputs": [],
   "source": [
    "tx = joinpath(homedir(), \"Downloads\", \"bash_run.txt\")\n",
    "\n",
    "Kwat.bash.run(pipeline(`ls $wo`, `grep .ipynb`, tx))"
   ]
  }
 ],
 "metadata": {
  "@webio": {
   "lastCommId": "c86bcfd1a40442fda59a475f8debadbe",
   "lastKernelId": "dacb57e0-7e8a-4c63-a83b-5de97c2814b3"
  },
  "kernelspec": {
   "display_name": "Julia 1.6.3",
   "language": "julia",
   "name": "julia-1.6"
  },
  "language_info": {
   "file_extension": ".jl",
   "mimetype": "application/julia",
   "name": "julia",
   "version": "1.6.3"
  }
 },
 "nbformat": 4,
 "nbformat_minor": 5
}
