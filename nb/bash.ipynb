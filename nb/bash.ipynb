{
 "cells": [
  {
   "cell_type": "code",
   "execution_count": null,
   "id": "b3325ba2-989b-48ae-b530-5d0f64147f9a",
   "metadata": {},
   "outputs": [],
   "source": [
    "using Kwat"
   ]
  },
  {
   "cell_type": "markdown",
   "id": "2988a98a-d859-491b-83bd-0880462f2fcd",
   "metadata": {},
   "source": [
    "## run"
   ]
  },
  {
   "cell_type": "code",
   "execution_count": null,
   "id": "a596f5d2",
   "metadata": {},
   "outputs": [],
   "source": [
    "di = pwd()"
   ]
  },
  {
   "cell_type": "code",
   "execution_count": null,
   "id": "661edb58-b8fa-4deb-ac80-e50dc5109d1f",
   "metadata": {},
   "outputs": [],
   "source": [
    "Kwat.bash.run(`ls $di`)"
   ]
  },
  {
   "cell_type": "code",
   "execution_count": null,
   "id": "9fb62c54-dc02-493b-a747-73d6f3fdbd29",
   "metadata": {},
   "outputs": [],
   "source": [
    "Kwat.bash.run(pipeline(`ls $di`, `grep .ipynb`, joinpath(homedir(), \"Downloads\", \"bash_run.txt\")))"
   ]
  }
 ],
 "metadata": {
  "@webio": {
   "lastCommId": "5ec193d08e2445208b535abdbfe4bfc6",
   "lastKernelId": "c499252f-c8ca-44a9-82d7-168a45bf6eaa"
  },
  "kernelspec": {
   "display_name": "Julia 1.6.3",
   "language": "julia",
   "name": "julia-1.6"
  },
  "language_info": {
   "file_extension": ".jl",
   "mimetype": "application/julia",
   "name": "julia",
   "version": "1.6.3"
  }
 },
 "nbformat": 4,
 "nbformat_minor": 5
}
