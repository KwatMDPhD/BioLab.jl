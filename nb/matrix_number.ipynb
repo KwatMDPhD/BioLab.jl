{
 "cells": [
  {
   "cell_type": "code",
   "execution_count": null,
   "id": "e51a2245-3715-4af2-bdfa-d4c55cd42985",
   "metadata": {},
   "outputs": [],
   "source": [
    "using Kwat"
   ]
  },
  {
   "cell_type": "markdown",
   "id": "85968025-204e-4cf6-93a9-804aa0d9d225",
   "metadata": {},
   "source": [
    "## convert"
   ]
  },
  {
   "cell_type": "code",
   "execution_count": null,
   "id": "d347bc75",
   "metadata": {},
   "outputs": [],
   "source": [
    "ve_ = [Kwat.vector_number.convert(ve) for ve in [[1, 2, 3], [4, 5, 6]]]"
   ]
  },
  {
   "cell_type": "code",
   "execution_count": null,
   "id": "94f2ee23-9702-4093-8c7a-98363f2d9286",
   "metadata": {},
   "outputs": [],
   "source": [
    "Kwat.matrix_number.convert(ve_)"
   ]
  }
 ],
 "metadata": {
  "@webio": {
   "lastCommId": "37b94842b51e4e14afa966027a72c42c",
   "lastKernelId": "49efa5e5-932e-4d89-8ee8-177db330d158"
  },
  "kernelspec": {
   "display_name": "Julia 1.6.3",
   "language": "julia",
   "name": "julia-1.6"
  },
  "language_info": {
   "file_extension": ".jl",
   "mimetype": "application/julia",
   "name": "julia",
   "version": "1.6.3"
  }
 },
 "nbformat": 4,
 "nbformat_minor": 5
}
