{
 "cells": [
  {
   "cell_type": "code",
   "execution_count": null,
   "id": "b0401f46-df5b-4c01-acd1-d112dccb2067",
   "metadata": {},
   "outputs": [],
   "source": [
    "using Revise\n",
    "using BenchmarkTools"
   ]
  },
  {
   "cell_type": "code",
   "execution_count": null,
   "id": "e51a2245-3715-4af2-bdfa-d4c55cd42985",
   "metadata": {},
   "outputs": [],
   "source": [
    "using Kwat"
   ]
  },
  {
   "cell_type": "markdown",
   "id": "85968025-204e-4cf6-93a9-804aa0d9d225",
   "metadata": {},
   "source": [
    "## convert"
   ]
  },
  {
   "cell_type": "code",
   "execution_count": null,
   "id": "94f2ee23-9702-4093-8c7a-98363f2d9286",
   "metadata": {},
   "outputs": [],
   "source": [
    "Kwat.matrix_number.convert([Float64.([1, 2, 3]), Float64.([4, 5, 6])])"
   ]
  }
 ],
 "metadata": {
  "kernelspec": {
   "display_name": "Julia 1.6.2",
   "language": "julia",
   "name": "julia-1.6"
  },
  "language_info": {
   "file_extension": ".jl",
   "mimetype": "application/julia",
   "name": "julia",
   "version": "1.6.2"
  }
 },
 "nbformat": 4,
 "nbformat_minor": 5
}
