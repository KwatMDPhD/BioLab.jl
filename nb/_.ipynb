{
 "cells": [
  {
   "cell_type": "code",
   "execution_count": null,
   "id": "8faa45d2-c692-4f4c-85ab-962635de3266",
   "metadata": {},
   "outputs": [],
   "source": [
    "function write_line(io::IOStream, st::String)::Int64\n",
    "\n",
    "    return write(io, \"$st\\n\\n\")\n",
    "\n",
    "end"
   ]
  },
  {
   "cell_type": "code",
   "execution_count": null,
   "id": "ec1f68a7",
   "metadata": {},
   "outputs": [],
   "source": [
    "sr = joinpath(\"..\", \"src\", \"\")\n",
    "\n",
    "mo = \"Kwat\"\n",
    "\n",
    "io = open(joinpath(sr, \"$mo.jl\"), \"w\")\n",
    "\n",
    "write_line(io, \"module $mo\")"
   ]
  },
  {
   "cell_type": "code",
   "execution_count": null,
   "id": "6713635d",
   "metadata": {},
   "outputs": [],
   "source": [
    "mo_ = [\n",
    "    \"bash\",\n",
    "    \"dictionary\",\n",
    "    #\"fastq\",\n",
    "    \"figure\",\n",
    "    \"file\",\n",
    "    \"information\",\n",
    "    \"json\",\n",
    "    \"math\",\n",
    "    \"matrix_number\",\n",
    "    \"network\",\n",
    "    \"pandas\",\n",
    "    \"path\",\n",
    "    \"string\",\n",
    "    \"vector\",\n",
    "    \"vector_number\",\n",
    "    \"workflow\",\n",
    "    \"feature_set_enrichment\",\n",
    "]"
   ]
  },
  {
   "cell_type": "code",
   "execution_count": null,
   "id": "8669c697-5a01-4066-bf16-89c38284eb2e",
   "metadata": {},
   "outputs": [],
   "source": [
    "for mo in mo_\n",
    "\n",
    "    println(mo)\n",
    "\n",
    "    write_line(io, \"module $mo\")\n",
    "\n",
    "    for jl in readdir(joinpath(sr, mo, \"\"))\n",
    "\n",
    "        write_line(io, \"\\tinclude(\\\"$mo/$jl\\\")\")\n",
    "\n",
    "    end\n",
    "\n",
    "    write_line(io, \"end\")\n",
    "\n",
    "end\n",
    "\n",
    "write_line(io, \"end\")\n",
    "\n",
    "close(io)"
   ]
  },
  {
   "cell_type": "code",
   "execution_count": null,
   "id": "ef4b686a-d67e-44ad-bfd9-d44a2d7176dc",
   "metadata": {},
   "outputs": [],
   "source": [
    "using Kwat"
   ]
  }
 ],
 "metadata": {
  "@webio": {
   "lastCommId": "7222a742b93a4a7d9dbd4d4c402dd97b",
   "lastKernelId": "1e10428e-6a76-439a-a248-153c53954954"
  },
  "kernelspec": {
   "display_name": "Julia 1.6.3",
   "language": "julia",
   "name": "julia-1.6"
  },
  "language_info": {
   "file_extension": ".jl",
   "mimetype": "application/julia",
   "name": "julia",
   "version": "1.6.3"
  }
 },
 "nbformat": 4,
 "nbformat_minor": 5
}
