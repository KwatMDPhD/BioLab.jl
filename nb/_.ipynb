{
 "cells": [
  {
   "cell_type": "code",
   "execution_count": null,
   "id": "8faa45d2-c692-4f4c-85ab-962635de3266",
   "metadata": {},
   "outputs": [],
   "source": [
    "function write_line(io::IOStream, st::String)::Int64\n",
    "\n",
    "    return write(io, string(\n",
    "        st,\n",
    "        \"\n",
    "\n",
    "\",\n",
    "    ))\n",
    "\n",
    "end\n",
    "\n",
    ";"
   ]
  },
  {
   "cell_type": "code",
   "execution_count": null,
   "id": "a3544851",
   "metadata": {},
   "outputs": [],
   "source": [
    "sr = joinpath(\"..\", \"src\", \"\")\n",
    "\n",
    "mo = \"Kwat\"\n",
    "\n",
    ";"
   ]
  },
  {
   "cell_type": "code",
   "execution_count": null,
   "id": "d47546d5",
   "metadata": {},
   "outputs": [],
   "source": [
    "io = open(joinpath(sr, string(mo, \".jl\")), \"w\")\n",
    "\n",
    "write_line(io, string(\"module \", mo))\n",
    "\n",
    ";"
   ]
  },
  {
   "cell_type": "code",
   "execution_count": null,
   "id": "6b1f1f10",
   "metadata": {},
   "outputs": [],
   "source": [
    "mo_ = [\n",
    "    \"bash\",\n",
    "    \"constant\",\n",
    "    \"dictionary\",\n",
    "    \"fastq\",\n",
    "    \"figure\",\n",
    "    \"gct\",\n",
    "    \"gmt\",\n",
    "    \"information\",\n",
    "    \"json\",\n",
    "    \"math\",\n",
    "    \"matrix_number\",\n",
    "    \"network\",\n",
    "    \"pandas\",\n",
    "    \"path\",\n",
    "    \"string\",\n",
    "    \"table\",\n",
    "    \"vector\",\n",
    "    \"vector_number\",\n",
    "    \"workflow\",\n",
    "    \"feature_set_enrichment\",\n",
    "]\n",
    "\n",
    "mos_ = Set(mo_)\n",
    "\n",
    ";"
   ]
  },
  {
   "cell_type": "code",
   "execution_count": null,
   "id": "69b7dae5",
   "metadata": {},
   "outputs": [],
   "source": [
    "symdiff(Set([splitdir(pa)[end] for pa in readdir(sr, join = true) if isdir(pa)]), mos_)"
   ]
  },
  {
   "cell_type": "code",
   "execution_count": null,
   "id": "f7d0fd27",
   "metadata": {},
   "outputs": [],
   "source": [
    "symdiff(Set([splitext(na)[1] for na in readdir(\".\") if occursin(r\"^[a-z].+.ipynb$\", na)]), mos_)"
   ]
  },
  {
   "cell_type": "code",
   "execution_count": null,
   "id": "ddd1433e",
   "metadata": {},
   "outputs": [],
   "source": [
    "for mo in mo_\n",
    "\n",
    "    println(mo)\n",
    "\n",
    "    write_line(io, string(\"module \", mo))\n",
    "\n",
    "    for jl in readdir(joinpath(sr, mo, \"\"))\n",
    "        \n",
    "        if occursin(r\"[a-z].+.jl$\", jl)\n",
    "\n",
    "            write_line(io, string(\"\\tinclude(\\\"\", joinpath(mo, jl), \"\\\")\"))\n",
    "        \n",
    "        else\n",
    "            \n",
    "            println(\"  Skipping \", jl)\n",
    "            \n",
    "        end\n",
    "\n",
    "    end\n",
    "\n",
    "    write_line(io, \"end\")\n",
    "    \n",
    "end"
   ]
  },
  {
   "cell_type": "code",
   "execution_count": null,
   "id": "e742e28e",
   "metadata": {},
   "outputs": [],
   "source": [
    "write_line(io, \"end\")\n",
    "\n",
    "close(io)\n",
    "\n",
    ";"
   ]
  },
  {
   "cell_type": "code",
   "execution_count": null,
   "id": "ef4b686a-d67e-44ad-bfd9-d44a2d7176dc",
   "metadata": {},
   "outputs": [],
   "source": [
    "using Kwat"
   ]
  }
 ],
 "metadata": {
  "@webio": {
   "lastCommId": "b4717ebf34cb4834b2a01af8608caa6c",
   "lastKernelId": "a87bf8ec-a92c-4259-bc5d-3b99a28668ed"
  },
  "kernelspec": {
   "display_name": "Julia 1.6.3",
   "language": "julia",
   "name": "julia-1.6"
  },
  "language_info": {
   "file_extension": ".jl",
   "mimetype": "application/julia",
   "name": "julia",
   "version": "1.6.3"
  }
 },
 "nbformat": 4,
 "nbformat_minor": 5
}
