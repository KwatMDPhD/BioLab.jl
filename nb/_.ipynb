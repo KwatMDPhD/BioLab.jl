{
 "cells": [
  {
   "cell_type": "code",
   "execution_count": 1,
   "id": "8faa45d2-c692-4f4c-85ab-962635de3266",
   "metadata": {},
   "outputs": [],
   "source": [
    "function write_line(io::IOStream, st::String)::Int64\n",
    "\n",
    "    return write(io, \"$st\\n\\n\")\n",
    "\n",
    "end\n",
    "\n",
    ";"
   ]
  },
  {
   "cell_type": "code",
   "execution_count": 2,
   "id": "c7485326",
   "metadata": {},
   "outputs": [
    {
     "ename": "LoadError",
     "evalue": "UndefVarError: mo not defined",
     "output_type": "error",
     "traceback": [
      "UndefVarError: mo not defined",
      "",
      "Stacktrace:",
      " [1] top-level scope",
      "   @ In[2]:1",
      " [2] eval",
      "   @ ./boot.jl:360 [inlined]",
      " [3] include_string(mapexpr::typeof(REPL.softscope), mod::Module, code::String, filename::String)",
      "   @ Base ./loading.jl:1116"
     ]
    }
   ],
   "source": [
    "io = open(joinpath(sr, \"$mo.jl\"), \"w\")\n",
    "\n",
    ";"
   ]
  },
  {
   "cell_type": "code",
   "execution_count": 3,
   "id": "ec1f68a7",
   "metadata": {},
   "outputs": [
    {
     "ename": "LoadError",
     "evalue": "UndefVarError: io not defined",
     "output_type": "error",
     "traceback": [
      "UndefVarError: io not defined",
      "",
      "Stacktrace:",
      " [1] top-level scope",
      "   @ In[3]:5",
      " [2] eval",
      "   @ ./boot.jl:360 [inlined]",
      " [3] include_string(mapexpr::typeof(REPL.softscope), mod::Module, code::String, filename::String)",
      "   @ Base ./loading.jl:1116"
     ]
    }
   ],
   "source": [
    "sr = joinpath(\"..\", \"src\", \"\")\n",
    "\n",
    "mo = \"Kwat\"\n",
    "\n",
    "write_line(io, \"module $mo\")\n",
    "\n",
    ";"
   ]
  },
  {
   "cell_type": "code",
   "execution_count": 4,
   "id": "4ee8c449",
   "metadata": {},
   "outputs": [
    {
     "data": {
      "text/plain": [
       "Set{String} with 1 element:\n",
       "  \"feature_set_enrichment\""
      ]
     },
     "execution_count": 4,
     "metadata": {},
     "output_type": "execute_result"
    }
   ],
   "source": [
    "mo_ = [\n",
    "    \"bash\",\n",
    "    \"constant\",\n",
    "    \"dictionary\",\n",
    "    \"fastq\",\n",
    "    \"figure\",\n",
    "    \"gct\",\n",
    "    \"gmt\",\n",
    "    \"information\",\n",
    "    \"json\",\n",
    "    \"math\",\n",
    "    \"matrix_number\",\n",
    "    \"network\",\n",
    "    \"pandas\",\n",
    "    \"path\",\n",
    "    \"string\",\n",
    "    \"table\",\n",
    "    \"vector\",\n",
    "    \"vector_number\",\n",
    "    \"workflow\",\n",
    "    #\"feature_set_enrichment\",\n",
    "]\n",
    "\n",
    "symdiff(\n",
    "    Set([splitdir(na)[end] for na in readdir(sr, join=true) if isdir(na)]),\n",
    "    Set(mo_),\n",
    ")"
   ]
  },
  {
   "cell_type": "code",
   "execution_count": 5,
   "id": "f86a0b28",
   "metadata": {},
   "outputs": [
    {
     "name": "stdout",
     "output_type": "stream",
     "text": [
      "bash\n"
     ]
    },
    {
     "ename": "LoadError",
     "evalue": "UndefVarError: io not defined",
     "output_type": "error",
     "traceback": [
      "UndefVarError: io not defined",
      "",
      "Stacktrace:",
      " [1] top-level scope",
      "   @ ./In[5]:5",
      " [2] eval",
      "   @ ./boot.jl:360 [inlined]",
      " [3] include_string(mapexpr::typeof(REPL.softscope), mod::Module, code::String, filename::String)",
      "   @ Base ./loading.jl:1116"
     ]
    }
   ],
   "source": [
    "for mo in mo_\n",
    "\n",
    "    println(mo)\n",
    "\n",
    "    write_line(io, \"module $mo\")\n",
    "\n",
    "    for jl in readdir(joinpath(sr, mo, \"\"))\n",
    "        \n",
    "        if occursin(r\"[a-z].+.jl$\", jl)\n",
    "\n",
    "            write_line(io, \"\\tinclude(\\\"$mo/$jl\\\")\")\n",
    "        \n",
    "        else\n",
    "            \n",
    "            println(\"  Skipping \", jl)\n",
    "            \n",
    "        end\n",
    "\n",
    "    end\n",
    "\n",
    "    write_line(io, \"end\")\n",
    "    \n",
    "end\n",
    "\n",
    "write_line(io, \"end\")\n",
    "\n",
    ";"
   ]
  },
  {
   "cell_type": "code",
   "execution_count": 6,
   "id": "8669c697-5a01-4066-bf16-89c38284eb2e",
   "metadata": {},
   "outputs": [
    {
     "ename": "LoadError",
     "evalue": "UndefVarError: io not defined",
     "output_type": "error",
     "traceback": [
      "UndefVarError: io not defined",
      "",
      "Stacktrace:",
      " [1] top-level scope",
      "   @ In[6]:1",
      " [2] eval",
      "   @ ./boot.jl:360 [inlined]",
      " [3] include_string(mapexpr::typeof(REPL.softscope), mod::Module, code::String, filename::String)",
      "   @ Base ./loading.jl:1116"
     ]
    }
   ],
   "source": [
    "close(io)\n",
    "\n",
    ";"
   ]
  },
  {
   "cell_type": "code",
   "execution_count": 7,
   "id": "ef4b686a-d67e-44ad-bfd9-d44a2d7176dc",
   "metadata": {},
   "outputs": [
    {
     "name": "stderr",
     "output_type": "stream",
     "text": [
      "┌ Info: Precompiling Kwat [fb31f113-4a63-4a8e-817a-4bdffc7e605a]\n",
      "└ @ Base loading.jl:1342\n",
      "\u001b[91m\u001b[1mERROR: \u001b[22m\u001b[39mLoadError: LoadError: UndefVarError: VF not defined\n",
      "Stacktrace:\n",
      "  [1] top-level scope\n",
      "\u001b[90m    @ \u001b[39m\u001b[90m~/craft/tool/Kwat.jl/src/feature_set_enrichment/\u001b[39m\u001b[90;4m_get_probability_and_cumulative_probability.jl:3\u001b[0m\n",
      "  [2] \u001b[0m\u001b[1minclude\u001b[22m\u001b[0m\u001b[1m(\u001b[22m\u001b[90mmod\u001b[39m::\u001b[0mModule, \u001b[90m_path\u001b[39m::\u001b[0mString\u001b[0m\u001b[1m)\u001b[22m\n",
      "\u001b[90m    @ \u001b[39m\u001b[90mBase\u001b[39m \u001b[90m./\u001b[39m\u001b[90;4mBase.jl:386\u001b[0m\n",
      "  [3] \u001b[0m\u001b[1minclude\u001b[22m\u001b[0m\u001b[1m(\u001b[22m\u001b[90mx\u001b[39m::\u001b[0mString\u001b[0m\u001b[1m)\u001b[22m\n",
      "\u001b[90m    @ \u001b[39m\u001b[35mKwat.feature_set_enrichment\u001b[39m \u001b[90m~/craft/tool/Kwat.jl/src/\u001b[39m\u001b[90;4mKwat.jl:187\u001b[0m\n",
      "  [4] top-level scope\n",
      "\u001b[90m    @ \u001b[39m\u001b[90m~/craft/tool/Kwat.jl/src/\u001b[39m\u001b[90;4mKwat.jl:189\u001b[0m\n",
      "  [5] \u001b[0m\u001b[1minclude\u001b[22m\n",
      "\u001b[90m    @ \u001b[39m\u001b[90m./\u001b[39m\u001b[90;4mBase.jl:386\u001b[0m\u001b[90m [inlined]\u001b[39m\n",
      "  [6] \u001b[0m\u001b[1minclude_package_for_output\u001b[22m\u001b[0m\u001b[1m(\u001b[22m\u001b[90mpkg\u001b[39m::\u001b[0mBase.PkgId, \u001b[90minput\u001b[39m::\u001b[0mString, \u001b[90mdepot_path\u001b[39m::\u001b[0mVector\u001b[90m{String}\u001b[39m, \u001b[90mdl_load_path\u001b[39m::\u001b[0mVector\u001b[90m{String}\u001b[39m, \u001b[90mload_path\u001b[39m::\u001b[0mVector\u001b[90m{String}\u001b[39m, \u001b[90mconcrete_deps\u001b[39m::\u001b[0mVector\u001b[90m{Pair{Base.PkgId, UInt64}}\u001b[39m, \u001b[90msource\u001b[39m::\u001b[0mNothing\u001b[0m\u001b[1m)\u001b[22m\n",
      "\u001b[90m    @ \u001b[39m\u001b[90mBase\u001b[39m \u001b[90m./\u001b[39m\u001b[90;4mloading.jl:1235\u001b[0m\n",
      "  [7] top-level scope\n",
      "\u001b[90m    @ \u001b[39m\u001b[90;4mnone:1\u001b[0m\n",
      "  [8] \u001b[0m\u001b[1meval\u001b[22m\n",
      "\u001b[90m    @ \u001b[39m\u001b[90m./\u001b[39m\u001b[90;4mboot.jl:360\u001b[0m\u001b[90m [inlined]\u001b[39m\n",
      "  [9] \u001b[0m\u001b[1meval\u001b[22m\u001b[0m\u001b[1m(\u001b[22m\u001b[90mx\u001b[39m::\u001b[0mExpr\u001b[0m\u001b[1m)\u001b[22m\n",
      "\u001b[90m    @ \u001b[39m\u001b[90mBase.MainInclude\u001b[39m \u001b[90m./\u001b[39m\u001b[90;4mclient.jl:446\u001b[0m\n",
      " [10] top-level scope\n",
      "\u001b[90m    @ \u001b[39m\u001b[90;4mnone:1\u001b[0m\n",
      "in expression starting at /Users/kwat/craft/tool/Kwat.jl/src/feature_set_enrichment/_get_probability_and_cumulative_probability.jl:3\n",
      "in expression starting at /Users/kwat/craft/tool/Kwat.jl/src/Kwat.jl:1\n"
     ]
    },
    {
     "ename": "LoadError",
     "evalue": "Failed to precompile Kwat [fb31f113-4a63-4a8e-817a-4bdffc7e605a] to /Users/kwat/.julia/compiled/v1.6/Kwat/jl_2nsNL1.",
     "output_type": "error",
     "traceback": [
      "Failed to precompile Kwat [fb31f113-4a63-4a8e-817a-4bdffc7e605a] to /Users/kwat/.julia/compiled/v1.6/Kwat/jl_2nsNL1.",
      "",
      "Stacktrace:",
      " [1] error(s::String)",
      "   @ Base ./error.jl:33",
      " [2] compilecache(pkg::Base.PkgId, path::String, internal_stderr::IJulia.IJuliaStdio{Base.PipeEndpoint}, internal_stdout::IJulia.IJuliaStdio{Base.PipeEndpoint}, ignore_loaded_modules::Bool)",
      "   @ Base ./loading.jl:1385",
      " [3] compilecache(pkg::Base.PkgId, path::String)",
      "   @ Base ./loading.jl:1329",
      " [4] _require(pkg::Base.PkgId)",
      "   @ Base ./loading.jl:1043",
      " [5] require(uuidkey::Base.PkgId)",
      "   @ Base ./loading.jl:936",
      " [6] require(into::Module, mod::Symbol)",
      "   @ Base ./loading.jl:923",
      " [7] eval",
      "   @ ./boot.jl:360 [inlined]",
      " [8] include_string(mapexpr::typeof(REPL.softscope), mod::Module, code::String, filename::String)",
      "   @ Base ./loading.jl:1116"
     ]
    }
   ],
   "source": [
    "using Kwat"
   ]
  }
 ],
 "metadata": {
  "@webio": {
   "lastCommId": null,
   "lastKernelId": null
  },
  "kernelspec": {
   "display_name": "Julia 1.6.3",
   "language": "julia",
   "name": "julia-1.6"
  },
  "language_info": {
   "file_extension": ".jl",
   "mimetype": "application/julia",
   "name": "julia",
   "version": "1.6.3"
  }
 },
 "nbformat": 4,
 "nbformat_minor": 5
}
