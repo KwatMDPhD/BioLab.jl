{
 "cells": [
  {
   "cell_type": "code",
   "execution_count": null,
   "id": "8faa45d2-c692-4f4c-85ab-962635de3266",
   "metadata": {},
   "outputs": [],
   "source": [
    "function write_line(io::IOStream, st::String)::Int64\n",
    "\n",
    "    return write(io, \"$st\\n\\n\")\n",
    "\n",
    "end\n",
    "\n",
    ";"
   ]
  },
  {
   "cell_type": "code",
   "execution_count": null,
   "id": "a3544851",
   "metadata": {},
   "outputs": [],
   "source": [
    "sr = joinpath(\"..\", \"src\", \"\")\n",
    "\n",
    "mo = \"Kwat\"\n",
    "\n",
    ";"
   ]
  },
  {
   "cell_type": "code",
   "execution_count": null,
   "id": "d47546d5",
   "metadata": {},
   "outputs": [],
   "source": [
    "io = open(joinpath(sr, \"$mo.jl\"), \"w\")\n",
    "\n",
    "write_line(io, \"module $mo\")\n",
    "\n",
    ";"
   ]
  },
  {
   "cell_type": "code",
   "execution_count": null,
   "id": "69b7dae5",
   "metadata": {},
   "outputs": [],
   "source": [
    "mo_ = [\n",
    "    \"bash\",\n",
    "    \"constant\",\n",
    "    \"dictionary\",\n",
    "    \"fastq\",\n",
    "    \"figure\",\n",
    "    \"gct\",\n",
    "    \"gmt\",\n",
    "    \"information\",\n",
    "    \"json\",\n",
    "    \"math\",\n",
    "    \"matrix_number\",\n",
    "    \"network\",\n",
    "    \"pandas\",\n",
    "    \"path\",\n",
    "    \"string\",\n",
    "    \"table\",\n",
    "    \"vector\",\n",
    "    \"vector_number\",\n",
    "    \"workflow\",\n",
    "    #\"feature_set_enrichment\",\n",
    "]\n",
    "\n",
    "symdiff(Set([splitdir(na)[end] for na in readdir(sr, join = true) if isdir(na)]), Set(mo_))"
   ]
  },
  {
   "cell_type": "code",
   "execution_count": null,
   "id": "ddd1433e",
   "metadata": {},
   "outputs": [],
   "source": [
    "for mo in mo_\n",
    "\n",
    "    println(mo)\n",
    "\n",
    "    write_line(io, \"module $mo\")\n",
    "\n",
    "    for jl in readdir(joinpath(sr, mo, \"\"))\n",
    "        \n",
    "        if occursin(r\"[a-z].+.jl$\", jl)\n",
    "\n",
    "            write_line(io, \"\\tinclude(\\\"$mo/$jl\\\")\")\n",
    "        \n",
    "        else\n",
    "            \n",
    "            println(\"  Skipping \", jl)\n",
    "            \n",
    "        end\n",
    "\n",
    "    end\n",
    "\n",
    "    write_line(io, \"end\")\n",
    "    \n",
    "end"
   ]
  },
  {
   "cell_type": "code",
   "execution_count": null,
   "id": "e742e28e",
   "metadata": {},
   "outputs": [],
   "source": [
    "write_line(io, \"end\")\n",
    "\n",
    "close(io)\n",
    "\n",
    ";"
   ]
  },
  {
   "cell_type": "code",
   "execution_count": null,
   "id": "ef4b686a-d67e-44ad-bfd9-d44a2d7176dc",
   "metadata": {},
   "outputs": [],
   "source": [
    "using Kwat"
   ]
  }
 ],
 "metadata": {
  "@webio": {
   "lastCommId": "5d215991df654c208bd9e4a9303470a0",
   "lastKernelId": "4b600462-1daf-4a24-97a2-8f238402d5c5"
  },
  "kernelspec": {
   "display_name": "Julia 1.6.3",
   "language": "julia",
   "name": "julia-1.6"
  },
  "language_info": {
   "file_extension": ".jl",
   "mimetype": "application/julia",
   "name": "julia",
   "version": "1.6.3"
  }
 },
 "nbformat": 4,
 "nbformat_minor": 5
}
