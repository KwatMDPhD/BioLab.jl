{
 "cells": [
  {
   "cell_type": "code",
   "execution_count": null,
   "id": "b3325ba2-989b-48ae-b530-5d0f64147f9a",
   "metadata": {
    "execution": {
     "iopub.execute_input": "2021-10-14T18:32:23.339592Z",
     "iopub.status.busy": "2021-10-14T18:32:22.833045Z",
     "iopub.status.idle": "2021-10-14T18:32:36.776687Z",
     "shell.execute_reply": "2021-10-14T18:32:36.776093Z"
    }
   },
   "outputs": [],
   "source": [
    "using Revise\n",
    "using BenchmarkTools\n",
    "\n",
    "using Kwat"
   ]
  },
  {
   "cell_type": "markdown",
   "id": "2988a98a-d859-491b-83bd-0880462f2fcd",
   "metadata": {},
   "source": [
    "## read"
   ]
  },
  {
   "cell_type": "code",
   "execution_count": null,
   "id": "22ab0b58",
   "metadata": {
    "execution": {
     "iopub.execute_input": "2021-10-14T18:32:38.318039Z",
     "iopub.status.busy": "2021-10-14T18:32:36.777957Z",
     "iopub.status.idle": "2021-10-14T18:32:39.110090Z",
     "shell.execute_reply": "2021-10-14T18:32:39.109653Z"
    }
   },
   "outputs": [],
   "source": [
    "da = joinpath(\"data\", \"\")\n",
    "\n",
    ";"
   ]
  },
  {
   "cell_type": "code",
   "execution_count": null,
   "id": "2de87791",
   "metadata": {
    "execution": {
     "iopub.execute_input": "2021-10-14T18:32:39.111830Z",
     "iopub.status.busy": "2021-10-14T18:32:39.111337Z",
     "iopub.status.idle": "2021-10-14T18:32:40.464978Z",
     "shell.execute_reply": "2021-10-14T18:32:40.464592Z"
    }
   },
   "outputs": [],
   "source": [
    "gm = joinpath(da, \"h.all.v7.1.symbols.gmt\")\n",
    "\n",
    "Kwat.gmt.read(gm)"
   ]
  },
  {
   "cell_type": "code",
   "execution_count": null,
   "id": "d9a7e39f",
   "metadata": {
    "execution": {
     "iopub.execute_input": "2021-10-14T18:32:40.466868Z",
     "iopub.status.busy": "2021-10-14T18:32:40.466301Z",
     "iopub.status.idle": "2021-10-14T18:32:40.685009Z",
     "shell.execute_reply": "2021-10-14T18:32:40.684534Z"
    }
   },
   "outputs": [],
   "source": [
    "Kwat.gmt.read([gm, joinpath(da, \"c2.all.v7.1.symbols.gmt\")])"
   ]
  }
 ],
 "metadata": {
  "@webio": {
   "lastCommId": "6d33aa96646141ec8786aa8fe4e29c15",
   "lastKernelId": "eb2baf18-8dbe-4634-956e-1be92ee19384"
  },
  "kernelspec": {
   "display_name": "Julia 1.6.3",
   "language": "julia",
   "name": "julia-1.6"
  },
  "language_info": {
   "file_extension": ".jl",
   "mimetype": "application/julia",
   "name": "julia",
   "version": "1.6.3"
  }
 },
 "nbformat": 4,
 "nbformat_minor": 5
}
