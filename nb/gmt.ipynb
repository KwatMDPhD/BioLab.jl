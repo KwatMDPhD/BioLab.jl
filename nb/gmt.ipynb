{
 "cells": [
  {
   "cell_type": "code",
   "execution_count": null,
   "id": "b3325ba2-989b-48ae-b530-5d0f64147f9a",
   "metadata": {},
   "outputs": [],
   "source": [
    "using Kwat"
   ]
  },
  {
   "cell_type": "markdown",
   "id": "2988a98a-d859-491b-83bd-0880462f2fcd",
   "metadata": {},
   "source": [
    "## read"
   ]
  },
  {
   "cell_type": "code",
   "execution_count": null,
   "id": "22ab0b58",
   "metadata": {},
   "outputs": [],
   "source": [
    "da = joinpath(\"data\", \"\")\n",
    "\n",
    ";"
   ]
  },
  {
   "cell_type": "code",
   "execution_count": null,
   "id": "2de87791",
   "metadata": {},
   "outputs": [],
   "source": [
    "pa = joinpath(da, \"h.all.v7.1.symbols.gmt\")\n",
    "\n",
    "Kwat.gmt.read(pa)"
   ]
  },
  {
   "cell_type": "code",
   "execution_count": null,
   "id": "d9a7e39f",
   "metadata": {},
   "outputs": [],
   "source": [
    "Kwat.gmt.read([pa, joinpath(da, \"c2.all.v7.1.symbols.gmt\")])"
   ]
  }
 ],
 "metadata": {
  "@webio": {
   "lastCommId": "6d33aa96646141ec8786aa8fe4e29c15",
   "lastKernelId": "eb2baf18-8dbe-4634-956e-1be92ee19384"
  },
  "kernelspec": {
   "display_name": "Julia 1.6.3",
   "language": "julia",
   "name": "julia-1.6"
  },
  "language_info": {
   "file_extension": ".jl",
   "mimetype": "application/julia",
   "name": "julia",
   "version": "1.6.3"
  }
 },
 "nbformat": 4,
 "nbformat_minor": 5
}
