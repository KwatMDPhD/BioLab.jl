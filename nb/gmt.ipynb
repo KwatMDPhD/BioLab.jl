{
 "cells": [
  {
   "cell_type": "code",
   "execution_count": null,
   "id": "b3325ba2-989b-48ae-b530-5d0f64147f9a",
   "metadata": {},
   "outputs": [],
   "source": [
    "using Kwat"
   ]
  },
  {
   "cell_type": "markdown",
   "id": "2988a98a-d859-491b-83bd-0880462f2fcd",
   "metadata": {},
   "source": [
    "## read"
   ]
  },
  {
   "cell_type": "code",
   "execution_count": null,
   "id": "2de87791",
   "metadata": {},
   "outputs": [],
   "source": [
    "pa = joinpath(\"data\", \"h.all.v7.1.symbols.gmt\")\n",
    "\n",
    "Kwat.gmt.read(pa)"
   ]
  },
  {
   "cell_type": "code",
   "execution_count": null,
   "id": "d9a7e39f",
   "metadata": {},
   "outputs": [],
   "source": [
    "Kwat.gmt.read([pa, joinpath(\"data\", \"c2.all.v7.1.symbols.gmt\")])"
   ]
  }
 ],
 "metadata": {
  "@webio": {
   "lastCommId": "1375a92da3ae455083f660f573d2f476",
   "lastKernelId": "65892069-55d1-4148-9979-fe355d2f0957"
  },
  "kernelspec": {
   "display_name": "Julia 1.6.3",
   "language": "julia",
   "name": "julia-1.6"
  },
  "language_info": {
   "file_extension": ".jl",
   "mimetype": "application/julia",
   "name": "julia",
   "version": "1.6.3"
  }
 },
 "nbformat": 4,
 "nbformat_minor": 5
}
