{
 "cells": [
  {
   "cell_type": "code",
   "execution_count": null,
   "id": "b3325ba2-989b-48ae-b530-5d0f64147f9a",
   "metadata": {
    "execution": {
     "iopub.execute_input": "2021-10-14T18:32:23.339592Z",
     "iopub.status.busy": "2021-10-14T18:32:22.833045Z",
     "iopub.status.idle": "2021-10-14T18:32:36.776687Z",
     "shell.execute_reply": "2021-10-14T18:32:36.776093Z"
    }
   },
   "outputs": [],
   "source": [
    "using Revise\n",
    "using BenchmarkTools\n",
    "\n",
    "using Kwat"
   ]
  },
  {
   "cell_type": "markdown",
   "id": "2988a98a-d859-491b-83bd-0880462f2fcd",
   "metadata": {},
   "source": [
    "## read"
   ]
  },
  {
   "cell_type": "code",
   "execution_count": null,
   "id": "22ab0b58",
   "metadata": {
    "execution": {
     "iopub.execute_input": "2021-10-14T18:32:38.318039Z",
     "iopub.status.busy": "2021-10-14T18:32:36.777957Z",
     "iopub.status.idle": "2021-10-14T18:32:39.110090Z",
     "shell.execute_reply": "2021-10-14T18:32:39.109653Z"
    }
   },
   "outputs": [],
   "source": [
    "da = joinpath(\"data\", \"\")\n",
    "\n",
    ";"
   ]
  },
  {
   "cell_type": "code",
   "execution_count": null,
   "id": "2de87791",
   "metadata": {
    "execution": {
     "iopub.execute_input": "2021-10-14T18:32:39.111830Z",
     "iopub.status.busy": "2021-10-14T18:32:39.111337Z",
     "iopub.status.idle": "2021-10-14T18:32:40.464978Z",
     "shell.execute_reply": "2021-10-14T18:32:40.464592Z"
    }
   },
   "outputs": [],
   "source": [
    "gm = joinpath(da, \"h.all.v7.1.symbols.gmt\")\n",
    "\n",
    "Kwat.gmt.read(gm)"
   ]
  },
  {
   "cell_type": "code",
   "execution_count": null,
   "id": "9ada58b3",
   "metadata": {},
   "outputs": [],
   "source": [
    "Kwat.gmt.read([gm, joinpath(da, \"c2.all.v7.1.symbols.gmt\")])"
   ]
  },
  {
   "cell_type": "markdown",
   "id": "633281ad",
   "metadata": {},
   "source": [
    "## write_txt"
   ]
  },
  {
   "cell_type": "code",
   "execution_count": null,
   "id": "045944cd",
   "metadata": {},
   "outputs": [],
   "source": [
    "se_ge_ = Kwat.gmt.read(gm)\n",
    "\n",
    "Kwat.gmt.write_txt(joinpath(homedir(), \"Downloads\", \"write_txt.txt\"), se_ge_)"
   ]
  }
 ],
 "metadata": {
  "@webio": {
   "lastCommId": "c8154dae1c704de381451f709295cfee",
   "lastKernelId": "2c66e106-827a-40d4-9abe-16e953dcd0f4"
  },
  "kernelspec": {
   "display_name": "Julia 1.6.3",
   "language": "julia",
   "name": "julia-1.6"
  },
  "language_info": {
   "file_extension": ".jl",
   "mimetype": "application/julia",
   "name": "julia",
   "version": "1.6.3"
  }
 },
 "nbformat": 4,
 "nbformat_minor": 5
}
