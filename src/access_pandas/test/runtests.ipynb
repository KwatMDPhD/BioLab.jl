{
 "cells": [
  {
   "cell_type": "code",
   "execution_count": null,
   "id": "ad4fb98a",
   "metadata": {},
   "outputs": [],
   "source": [
    "TE = joinpath(tempdir(), \"PandasAccess.test\", \"\")\n",
    "\n",
    "if isdir(TE)\n",
    "\n",
    "    rm(TE; recursive = true)\n",
    "\n",
    "end\n",
    "\n",
    "mkdir(TE)\n",
    "\n",
    "println(\"Made \", TE)"
   ]
  },
  {
   "cell_type": "code",
   "execution_count": null,
   "id": "34e4701e",
   "metadata": {},
   "outputs": [],
   "source": [
    "using Revise\n",
    "using BenchmarkTools"
   ]
  },
  {
   "cell_type": "markdown",
   "id": "349c228e",
   "metadata": {},
   "source": [
    "---"
   ]
  },
  {
   "cell_type": "code",
   "execution_count": null,
   "id": "b3325ba2-989b-48ae-b530-5d0f64147f9a",
   "metadata": {
    "execution": {
     "iopub.execute_input": "2021-10-14T18:35:25.363149Z",
     "iopub.status.busy": "2021-10-14T18:35:24.821482Z",
     "iopub.status.idle": "2021-10-14T18:35:39.069977Z",
     "shell.execute_reply": "2021-10-14T18:35:39.069462Z"
    }
   },
   "outputs": [],
   "source": [
    "using DataFrames\n",
    "\n",
    "using PandasAccess"
   ]
  },
  {
   "cell_type": "markdown",
   "id": "2988a98a-d859-491b-83bd-0880462f2fcd",
   "metadata": {},
   "source": [
    "## convert (DateFrame)"
   ]
  },
  {
   "cell_type": "code",
   "execution_count": null,
   "id": "44495151",
   "metadata": {
    "execution": {
     "iopub.execute_input": "2021-10-14T18:35:40.610172Z",
     "iopub.status.busy": "2021-10-14T18:35:39.071175Z",
     "iopub.status.idle": "2021-10-14T18:35:41.664821Z",
     "shell.execute_reply": "2021-10-14T18:35:41.665170Z"
    }
   },
   "outputs": [],
   "source": [
    "n_ro = 3"
   ]
  },
  {
   "cell_type": "markdown",
   "id": "650a3443",
   "metadata": {},
   "source": [
    "### 1 column"
   ]
  },
  {
   "cell_type": "code",
   "execution_count": null,
   "id": "f60ee6fe",
   "metadata": {
    "execution": {
     "iopub.execute_input": "2021-10-14T18:35:41.666888Z",
     "iopub.status.busy": "2021-10-14T18:35:41.666401Z",
     "iopub.status.idle": "2021-10-14T18:35:45.400863Z",
     "shell.execute_reply": "2021-10-14T18:35:45.400479Z"
    }
   },
   "outputs": [],
   "source": [
    "da = DataFrame(\"Index\" => [string(\"Index \", id) for id = 1:n_ro])"
   ]
  },
  {
   "cell_type": "code",
   "execution_count": null,
   "id": "bd7c31d1",
   "metadata": {
    "execution": {
     "iopub.execute_input": "2021-10-14T18:35:45.402693Z",
     "iopub.status.busy": "2021-10-14T18:35:45.402133Z",
     "iopub.status.idle": "2021-10-14T18:35:46.088735Z",
     "shell.execute_reply": "2021-10-14T18:35:46.088354Z"
    }
   },
   "outputs": [],
   "source": [
    "try\n",
    "\n",
    "    PandasAccess.convert(da)\n",
    "\n",
    "catch er\n",
    "\n",
    "    er\n",
    "\n",
    "end"
   ]
  },
  {
   "cell_type": "markdown",
   "id": "35c05ebd",
   "metadata": {},
   "source": [
    "### Int"
   ]
  },
  {
   "cell_type": "code",
   "execution_count": null,
   "id": "f0f03bf3",
   "metadata": {
    "execution": {
     "iopub.execute_input": "2021-10-14T18:35:46.090521Z",
     "iopub.status.busy": "2021-10-14T18:35:46.090007Z",
     "iopub.status.idle": "2021-10-14T18:35:46.315494Z",
     "shell.execute_reply": "2021-10-14T18:35:46.315102Z"
    }
   },
   "outputs": [],
   "source": [
    "da[!, \"Column 1\"] = 1:n_ro\n",
    "\n",
    "da"
   ]
  },
  {
   "cell_type": "code",
   "execution_count": null,
   "id": "07a32011",
   "metadata": {
    "execution": {
     "iopub.execute_input": "2021-10-14T18:35:46.317275Z",
     "iopub.status.busy": "2021-10-14T18:35:46.316721Z",
     "iopub.status.idle": "2021-10-14T18:35:47.264388Z",
     "shell.execute_reply": "2021-10-14T18:35:47.264008Z"
    }
   },
   "outputs": [],
   "source": [
    "py = PandasAccess.convert(da)"
   ]
  },
  {
   "cell_type": "code",
   "execution_count": null,
   "id": "8b323daf",
   "metadata": {},
   "outputs": [],
   "source": [
    "#PandasAccess.convert(py)"
   ]
  },
  {
   "cell_type": "markdown",
   "id": "71175a95",
   "metadata": {},
   "source": [
    "### Int and Float"
   ]
  },
  {
   "cell_type": "code",
   "execution_count": null,
   "id": "9453a355",
   "metadata": {
    "execution": {
     "iopub.execute_input": "2021-10-14T18:35:48.413203Z",
     "iopub.status.busy": "2021-10-14T18:35:48.412711Z",
     "iopub.status.idle": "2021-10-14T18:35:48.642817Z",
     "shell.execute_reply": "2021-10-14T18:35:48.642428Z"
    }
   },
   "outputs": [],
   "source": [
    "da[!, \"Column 2\"] = convert(Vector{Float64}, da[!, \"Column 1\"])\n",
    "\n",
    "da"
   ]
  },
  {
   "cell_type": "code",
   "execution_count": null,
   "id": "44581d9f",
   "metadata": {
    "execution": {
     "iopub.execute_input": "2021-10-14T18:35:48.644623Z",
     "iopub.status.busy": "2021-10-14T18:35:48.644130Z",
     "iopub.status.idle": "2021-10-14T18:35:48.885462Z",
     "shell.execute_reply": "2021-10-14T18:35:48.885080Z"
    }
   },
   "outputs": [],
   "source": [
    "py = PandasAccess.convert(da)"
   ]
  },
  {
   "cell_type": "code",
   "execution_count": null,
   "id": "07af972f",
   "metadata": {
    "execution": {
     "iopub.execute_input": "2021-10-14T18:35:48.887211Z",
     "iopub.status.busy": "2021-10-14T18:35:48.886716Z",
     "iopub.status.idle": "2021-10-14T18:35:49.052994Z",
     "shell.execute_reply": "2021-10-14T18:35:49.052597Z"
    }
   },
   "outputs": [],
   "source": [
    "#PandasAccess.convert(py)"
   ]
  },
  {
   "cell_type": "markdown",
   "id": "72528e64",
   "metadata": {},
   "source": [
    "### Int, Float, and String"
   ]
  },
  {
   "cell_type": "code",
   "execution_count": null,
   "id": "38e48bfc",
   "metadata": {
    "execution": {
     "iopub.execute_input": "2021-10-14T18:35:49.054896Z",
     "iopub.status.busy": "2021-10-14T18:35:49.054407Z",
     "iopub.status.idle": "2021-10-14T18:35:49.130557Z",
     "shell.execute_reply": "2021-10-14T18:35:49.130175Z"
    }
   },
   "outputs": [],
   "source": [
    "da[!, \"Column 3\"] = string.(da[!, \"Column 1\"])\n",
    "\n",
    "da"
   ]
  },
  {
   "cell_type": "code",
   "execution_count": null,
   "id": "c925035f",
   "metadata": {
    "execution": {
     "iopub.execute_input": "2021-10-14T18:35:49.132242Z",
     "iopub.status.busy": "2021-10-14T18:35:49.131756Z",
     "iopub.status.idle": "2021-10-14T18:35:49.416552Z",
     "shell.execute_reply": "2021-10-14T18:35:49.416105Z"
    }
   },
   "outputs": [],
   "source": [
    "py = PandasAccess.convert(da)"
   ]
  },
  {
   "cell_type": "code",
   "execution_count": null,
   "id": "273415e1",
   "metadata": {
    "execution": {
     "iopub.execute_input": "2021-10-14T18:35:49.418456Z",
     "iopub.status.busy": "2021-10-14T18:35:49.417890Z",
     "iopub.status.idle": "2021-10-14T18:35:49.486162Z",
     "shell.execute_reply": "2021-10-14T18:35:49.485768Z"
    }
   },
   "outputs": [],
   "source": [
    "#PandasAccess.convert(py)"
   ]
  },
  {
   "cell_type": "markdown",
   "id": "a889fa94",
   "metadata": {},
   "source": [
    "## make_series"
   ]
  },
  {
   "cell_type": "code",
   "execution_count": null,
   "id": "381ab710",
   "metadata": {
    "execution": {
     "iopub.execute_input": "2021-10-14T18:35:49.488008Z",
     "iopub.status.busy": "2021-10-14T18:35:49.487398Z",
     "iopub.status.idle": "2021-10-14T18:35:49.743366Z",
     "shell.execute_reply": "2021-10-14T18:35:49.742989Z"
    }
   },
   "outputs": [],
   "source": [
    "n_va = 4\n",
    "\n",
    "PandasAccess.make_series(\n",
    "    \"Index\",\n",
    "    [string(\"Index \", id) for id = 1:n_va],\n",
    "    \"Data\",\n",
    "    rand(n_va),\n",
    ")"
   ]
  },
  {
   "cell_type": "code",
   "execution_count": null,
   "id": "ac878abd",
   "metadata": {
    "execution": {
     "iopub.execute_input": "2021-10-14T18:35:49.745159Z",
     "iopub.status.busy": "2021-10-14T18:35:49.744618Z",
     "iopub.status.idle": "2021-10-14T18:35:50.133236Z",
     "shell.execute_reply": "2021-10-14T18:35:50.132781Z"
    }
   },
   "outputs": [],
   "source": [
    "for da_ in [[1, 1.0, 1 / 1, 1 // 1], [1, 1.0, \"1\"], [1, 1.0, nothing], [1, 1.0, NaN]]\n",
    "\n",
    "    println(\"-\"^80)\n",
    "\n",
    "    println(PandasAccess.make_series(\"Index\", da_, \"Data\", da_))\n",
    "\n",
    "end"
   ]
  },
  {
   "cell_type": "markdown",
   "id": "08e78d95",
   "metadata": {},
   "source": [
    "## convert (Series)"
   ]
  },
  {
   "cell_type": "code",
   "execution_count": null,
   "id": "0b9b04a4",
   "metadata": {
    "execution": {
     "iopub.execute_input": "2021-10-14T18:35:50.135198Z",
     "iopub.status.busy": "2021-10-14T18:35:50.134707Z",
     "iopub.status.idle": "2021-10-14T18:35:50.152487Z",
     "shell.execute_reply": "2021-10-14T18:35:50.151872Z"
    }
   },
   "outputs": [],
   "source": [
    "n_ro = 1"
   ]
  },
  {
   "cell_type": "markdown",
   "id": "203f9291",
   "metadata": {},
   "source": [
    "### Int"
   ]
  },
  {
   "cell_type": "code",
   "execution_count": null,
   "id": "3c8bb12a",
   "metadata": {
    "execution": {
     "iopub.execute_input": "2021-10-14T18:35:50.155068Z",
     "iopub.status.busy": "2021-10-14T18:35:50.154247Z",
     "iopub.status.idle": "2021-10-14T18:35:50.290105Z",
     "shell.execute_reply": "2021-10-14T18:35:50.289716Z"
    }
   },
   "outputs": [],
   "source": [
    "da = DataFrame(\"Index\" => [string(\"Index \", id) for id = 1:n_ro], \"Column 1\" => 1:n_ro)"
   ]
  },
  {
   "cell_type": "code",
   "execution_count": null,
   "id": "933aaa1b",
   "metadata": {
    "execution": {
     "iopub.execute_input": "2021-10-14T18:35:50.291787Z",
     "iopub.status.busy": "2021-10-14T18:35:50.291240Z",
     "iopub.status.idle": "2021-10-14T18:35:50.597887Z",
     "shell.execute_reply": "2021-10-14T18:35:50.597237Z"
    }
   },
   "outputs": [],
   "source": [
    "PandasAccess.convert(da[1, :])"
   ]
  },
  {
   "cell_type": "markdown",
   "id": "7313f415",
   "metadata": {},
   "source": [
    "### Int and Float"
   ]
  },
  {
   "cell_type": "code",
   "execution_count": null,
   "id": "9722e790",
   "metadata": {
    "execution": {
     "iopub.execute_input": "2021-10-14T18:35:50.599760Z",
     "iopub.status.busy": "2021-10-14T18:35:50.599184Z",
     "iopub.status.idle": "2021-10-14T18:35:50.622186Z",
     "shell.execute_reply": "2021-10-14T18:35:50.621436Z"
    }
   },
   "outputs": [],
   "source": [
    "da[!, \"Column 2\"] = convert(Vector{Float64}, da[!, \"Column 1\"])\n",
    "\n",
    "da"
   ]
  },
  {
   "cell_type": "code",
   "execution_count": null,
   "id": "65ced7d3",
   "metadata": {
    "execution": {
     "iopub.execute_input": "2021-10-14T18:35:50.624637Z",
     "iopub.status.busy": "2021-10-14T18:35:50.623874Z",
     "iopub.status.idle": "2021-10-14T18:35:50.671834Z",
     "shell.execute_reply": "2021-10-14T18:35:50.671380Z"
    }
   },
   "outputs": [],
   "source": [
    "PandasAccess.convert(da[1, :])"
   ]
  },
  {
   "cell_type": "markdown",
   "id": "6f3fc3d3",
   "metadata": {},
   "source": [
    "### Int, Float, and String"
   ]
  },
  {
   "cell_type": "code",
   "execution_count": null,
   "id": "2e15f0e7",
   "metadata": {
    "execution": {
     "iopub.execute_input": "2021-10-14T18:35:50.673808Z",
     "iopub.status.busy": "2021-10-14T18:35:50.673181Z",
     "iopub.status.idle": "2021-10-14T18:35:50.693877Z",
     "shell.execute_reply": "2021-10-14T18:35:50.693163Z"
    }
   },
   "outputs": [],
   "source": [
    "da[!, \"Column 3\"] = string.(da[!, \"Column 1\"])\n",
    "\n",
    "da"
   ]
  },
  {
   "cell_type": "code",
   "execution_count": null,
   "id": "1b2f0a6a",
   "metadata": {
    "execution": {
     "iopub.execute_input": "2021-10-14T18:35:50.697114Z",
     "iopub.status.busy": "2021-10-14T18:35:50.696145Z",
     "iopub.status.idle": "2021-10-14T18:35:50.822045Z",
     "shell.execute_reply": "2021-10-14T18:35:50.821669Z"
    }
   },
   "outputs": [],
   "source": [
    "PandasAccess.convert(da[1, :])"
   ]
  },
  {
   "cell_type": "markdown",
   "id": "1e5f608e",
   "metadata": {},
   "source": [
    "---"
   ]
  },
  {
   "cell_type": "code",
   "execution_count": null,
   "id": "b169202a",
   "metadata": {},
   "outputs": [],
   "source": [
    "rm(TE; recursive = true)\n",
    "\n",
    "println(\"Removed \", TE)"
   ]
  }
 ],
 "metadata": {
  "@webio": {
   "lastCommId": null,
   "lastKernelId": null
  },
  "kernelspec": {
   "display_name": "Julia 1.7.0",
   "language": "julia",
   "name": "julia-1.7"
  },
  "language_info": {
   "file_extension": ".jl",
   "mimetype": "application/julia",
   "name": "julia",
   "version": "1.7.0"
  }
 },
 "nbformat": 4,
 "nbformat_minor": 5
}
