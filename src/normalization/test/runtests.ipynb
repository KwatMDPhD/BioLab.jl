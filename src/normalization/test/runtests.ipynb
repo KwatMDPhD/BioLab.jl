{
 "cells": [
  {
   "cell_type": "code",
   "execution_count": null,
   "id": "ad4fb98a",
   "metadata": {},
   "outputs": [],
   "source": [
    "TE = joinpath(tempdir(), \"NumericalNormalization.test\", \"\")\n",
    "\n",
    "if isdir(TE)\n",
    "\n",
    "    rm(TE; recursive = true)\n",
    "\n",
    "end\n",
    "\n",
    "mkdir(TE)\n",
    "\n",
    "println(\"Made \", TE)"
   ]
  },
  {
   "cell_type": "code",
   "execution_count": null,
   "id": "34e4701e",
   "metadata": {},
   "outputs": [],
   "source": [
    "using Revise\n",
    "using BenchmarkTools"
   ]
  },
  {
   "cell_type": "markdown",
   "id": "349c228e",
   "metadata": {},
   "source": [
    "---"
   ]
  },
  {
   "cell_type": "code",
   "execution_count": null,
   "id": "cf8f924a",
   "metadata": {},
   "outputs": [],
   "source": [
    "using NumericalNormalization"
   ]
  },
  {
   "cell_type": "markdown",
   "id": "a148f3ac",
   "metadata": {},
   "source": [
    "## normalize"
   ]
  },
  {
   "cell_type": "code",
   "execution_count": null,
   "id": "42b8c10c",
   "metadata": {
    "execution": {
     "iopub.execute_input": "2021-10-14T18:39:04.008833Z",
     "iopub.status.busy": "2021-10-14T18:39:04.008260Z",
     "iopub.status.idle": "2021-10-14T18:39:04.328914Z",
     "shell.execute_reply": "2021-10-14T18:39:04.328518Z"
    }
   },
   "outputs": [],
   "source": [
    "ve = Vector{Float64}()\n",
    "\n",
    "NumericalNormalization.normalize(ve, \"-0-\")"
   ]
  },
  {
   "cell_type": "code",
   "execution_count": null,
   "id": "0b1d79a3",
   "metadata": {
    "execution": {
     "iopub.execute_input": "2021-10-14T18:39:04.330631Z",
     "iopub.status.busy": "2021-10-14T18:39:04.330144Z",
     "iopub.status.idle": "2021-10-14T18:39:04.695585Z",
     "shell.execute_reply": "2021-10-14T18:39:04.695199Z"
    }
   },
   "outputs": [],
   "source": [
    "ve = convert(Vector{Float64}, [-1, 0, 1])\n",
    "\n",
    "try\n",
    "\n",
    "    NumericalNormalization.normalize(ve, \"sum\")\n",
    "\n",
    "catch er\n",
    "\n",
    "    er\n",
    "\n",
    "end"
   ]
  },
  {
   "cell_type": "code",
   "execution_count": null,
   "id": "9c521521",
   "metadata": {
    "execution": {
     "iopub.execute_input": "2021-10-14T18:39:04.697333Z",
     "iopub.status.busy": "2021-10-14T18:39:04.696825Z",
     "iopub.status.idle": "2021-10-14T18:39:04.965643Z",
     "shell.execute_reply": "2021-10-14T18:39:04.965139Z"
    }
   },
   "outputs": [],
   "source": [
    "for ve in [[0], [1], [0, 0, 0], [1, 1, 1], [0, 1, 2]]\n",
    "\n",
    "    println('='^80)\n",
    "\n",
    "    ve = convert(Vector{Float64}, ve)\n",
    "\n",
    "    println(ve)\n",
    "\n",
    "    println()\n",
    "\n",
    "    for me in [\"-0-\", \"0-1\", \"sum\"]\n",
    "\n",
    "        println('-'^80)\n",
    "\n",
    "        println(me)\n",
    "\n",
    "        println(NumericalNormalization.normalize(ve, me))\n",
    "\n",
    "        println()\n",
    "\n",
    "    end\n",
    "\n",
    "\n",
    "end"
   ]
  },
  {
   "cell_type": "code",
   "execution_count": null,
   "id": "228681d6",
   "metadata": {
    "execution": {
     "iopub.execute_input": "2021-10-14T18:39:04.967569Z",
     "iopub.status.busy": "2021-10-14T18:39:04.966986Z",
     "iopub.status.idle": "2021-10-14T18:39:05.127174Z",
     "shell.execute_reply": "2021-10-14T18:39:05.126776Z"
    }
   },
   "outputs": [],
   "source": [
    "for ve in [[0], [-1, 0, 0, 1, 1, 1, 2]]\n",
    "\n",
    "    println('='^80)\n",
    "\n",
    "    ve = convert(Vector{Float64}, ve)\n",
    "\n",
    "    println(ve)\n",
    "\n",
    "    println()\n",
    "\n",
    "    for me in [\"1234\", \"1224\", \"1223\", \"1 2.5 2.5 4\"]\n",
    "\n",
    "        println('-'^80)\n",
    "\n",
    "        println(me)\n",
    "\n",
    "        println(NumericalNormalization.normalize(ve, me))\n",
    "\n",
    "        println()\n",
    "\n",
    "    end\n",
    "\n",
    "end"
   ]
  },
  {
   "cell_type": "markdown",
   "id": "0b9ec3f9",
   "metadata": {},
   "source": [
    "## normalize!"
   ]
  },
  {
   "cell_type": "code",
   "execution_count": null,
   "id": "7e983102",
   "metadata": {
    "execution": {
     "iopub.execute_input": "2021-10-14T18:39:05.129060Z",
     "iopub.status.busy": "2021-10-14T18:39:05.128511Z",
     "iopub.status.idle": "2021-10-14T18:39:05.441343Z",
     "shell.execute_reply": "2021-10-14T18:39:05.440906Z"
    }
   },
   "outputs": [],
   "source": [
    "ve = [NaN, -2, 0, NaN, 2, NaN]\n",
    "\n",
    "println(hash(ve))\n",
    "\n",
    "NumericalNormalization.normalize!(ve, \"-0-\")\n",
    "\n",
    "println(hash(ve))"
   ]
  },
  {
   "cell_type": "markdown",
   "id": "c8d3d1c1",
   "metadata": {},
   "source": [
    "---"
   ]
  },
  {
   "cell_type": "code",
   "execution_count": null,
   "id": "b169202a",
   "metadata": {},
   "outputs": [],
   "source": [
    "rm(TE; recursive = true)\n",
    "\n",
    "println(\"Removed \", TE)"
   ]
  }
 ],
 "metadata": {
  "@webio": {
   "lastCommId": null,
   "lastKernelId": null
  },
  "kernelspec": {
   "display_name": "Julia 1.7.0",
   "language": "julia",
   "name": "julia-1.7"
  },
  "language_info": {
   "file_extension": ".jl",
   "mimetype": "application/julia",
   "name": "julia",
   "version": "1.7.0"
  }
 },
 "nbformat": 4,
 "nbformat_minor": 5
}
