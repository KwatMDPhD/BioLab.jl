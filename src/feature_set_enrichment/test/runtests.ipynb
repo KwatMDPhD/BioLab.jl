{
 "cells": [
  {
   "cell_type": "code",
   "execution_count": 1,
   "id": "ad4fb98a",
   "metadata": {},
   "outputs": [
    {
     "name": "stdout",
     "output_type": "stream",
     "text": [
      "Made /var/folders/8m/l8lb7bqd1bd0c6njv30t2zdc0000gn/T/FeatureSetEnrichment.test/\n"
     ]
    }
   ],
   "source": [
    "TE = joinpath(tempdir(), \"FeatureSetEnrichment.test\", \"\")\n",
    "\n",
    "if isdir(TE)\n",
    "\n",
    "    rm(TE; recursive = true)\n",
    "\n",
    "end\n",
    "\n",
    "mkdir(TE)\n",
    "\n",
    "println(\"Made \", TE)"
   ]
  },
  {
   "cell_type": "code",
   "execution_count": 2,
   "id": "34e4701e",
   "metadata": {},
   "outputs": [],
   "source": [
    "using Revise\n",
    "using BenchmarkTools"
   ]
  },
  {
   "cell_type": "markdown",
   "id": "349c228e",
   "metadata": {},
   "source": [
    "---"
   ]
  },
  {
   "cell_type": "code",
   "execution_count": 3,
   "id": "e0b39736",
   "metadata": {
    "execution": {
     "iopub.execute_input": "2021-10-14T18:25:54.055222Z",
     "iopub.status.busy": "2021-10-14T18:25:53.342490Z",
     "iopub.status.idle": "2021-10-14T18:26:10.352867Z",
     "shell.execute_reply": "2021-10-14T18:26:10.352370Z"
    }
   },
   "outputs": [
    {
     "data": {
      "application/vnd.webio.node+json": {
       "children": [],
       "instanceArgs": {
        "namespace": "html",
        "tag": "div"
       },
       "nodeType": "DOM",
       "props": {},
       "type": "node"
      },
      "text/html": [
       "<div style=\"padding: 1em; background-color: #f8d6da; border: 1px solid #f5c6cb; font-weight: bold;\">\n",
       "<p>The WebIO Jupyter extension was not detected. See the\n",
       "<a href=\"https://juliagizmos.github.io/WebIO.jl/latest/providers/ijulia/\" target=\"_blank\">\n",
       "    WebIO Jupyter integration documentation\n",
       "</a>\n",
       "for more information.\n",
       "</div>\n"
      ],
      "text/plain": [
       "WebIO._IJuliaInit()"
      ]
     },
     "metadata": {
      "application/vnd.webio.node+json": {
       "kernelId": "cbd42119-2f06-4e55-abc5-ae52f66a19d4"
      }
     },
     "output_type": "display_data"
    },
    {
     "name": "stderr",
     "output_type": "stream",
     "text": [
      "┌ Info: Precompiling DataFrames [a93c6f00-e57d-5684-b7b6-d8193f3e46c0]\n",
      "└ @ Base loading.jl:1423\n",
      "┌ Info: Precompiling GMTAccess [4908299a-382f-4474-b696-db03060d32c1]\n",
      "└ @ Base loading.jl:1423\n",
      "┌ Info: Precompiling TableAccess [a707cf2c-1109-433c-8482-52c38c7a14cd]\n",
      "└ @ Base loading.jl:1423\n",
      "┌ Info: Precompiling TensorExtension [3f024651-0030-486f-9838-1e091a269f98]\n",
      "└ @ Base loading.jl:1423\n",
      "┌ Info: Precompiling FeatureSetEnrichment [31f5d874-04ed-4913-a836-5dfb4db0e9a0]\n",
      "└ @ Base loading.jl:1423\n"
     ]
    }
   ],
   "source": [
    "using DataFrames\n",
    "\n",
    "using GMTAccess\n",
    "using TableAccess\n",
    "using TensorExtension\n",
    "using VectorExtension\n",
    "\n",
    "using FeatureSetEnrichment"
   ]
  },
  {
   "cell_type": "markdown",
   "id": "ccdb8b26",
   "metadata": {},
   "source": [
    "## get_probability_and_cumulate"
   ]
  },
  {
   "cell_type": "code",
   "execution_count": 4,
   "id": "1ba5422d",
   "metadata": {},
   "outputs": [
    {
     "data": {
      "text/plain": [
       "([0.3333333333333333, 0.6666666666666666], [0.33333333333333354, 1.0000000000000002], [1.0000000000000002, 0.6666666666666669])"
      ]
     },
     "execution_count": 4,
     "metadata": {},
     "output_type": "execute_result"
    }
   ],
   "source": [
    "ve = [1.0, 2]\n",
    "\n",
    "FeatureSetEnrichment.get_probability_and_cumulate(ve)"
   ]
  },
  {
   "cell_type": "markdown",
   "id": "f009ac6a",
   "metadata": {},
   "source": [
    "## sum_1_absolute_and_0_count"
   ]
  },
  {
   "cell_type": "code",
   "execution_count": 5,
   "id": "534492be",
   "metadata": {
    "execution": {
     "iopub.execute_input": "2021-10-15T02:00:32.757026Z",
     "iopub.status.busy": "2021-10-15T02:00:32.756358Z",
     "iopub.status.idle": "2021-10-15T02:00:33.052310Z",
     "shell.execute_reply": "2021-10-15T02:00:33.051912Z"
    }
   },
   "outputs": [
    {
     "data": {
      "text/plain": [
       "(5.0, 2.0)"
      ]
     },
     "execution_count": 5,
     "metadata": {},
     "output_type": "execute_result"
    }
   ],
   "source": [
    "ve = TensorExtension.convert([-2, -1, 0, 1, 2])\n",
    "\n",
    "in_ = TensorExtension.convert([1, 1, 0, 0, 1])\n",
    "\n",
    "FeatureSetEnrichment.sum_1_absolute_and_0_count(ve, in_)"
   ]
  },
  {
   "cell_type": "markdown",
   "id": "8a6e1061",
   "metadata": {},
   "source": [
    "## make_benchmark"
   ]
  },
  {
   "cell_type": "code",
   "execution_count": null,
   "id": "4c20ec75",
   "metadata": {},
   "outputs": [],
   "source": [
    "try\n",
    "\n",
    "    FeatureSetEnrichment.make_benchmark(\"card 12K\")\n",
    "\n",
    "catch er\n",
    "\n",
    "    er\n",
    "\n",
    "end"
   ]
  },
  {
   "cell_type": "code",
   "execution_count": null,
   "id": "68aeeb9b",
   "metadata": {
    "execution": {
     "iopub.execute_input": "2021-10-15T02:00:12.937243Z",
     "iopub.status.busy": "2021-10-15T02:00:12.936734Z",
     "iopub.status.idle": "2021-10-15T02:00:20.756805Z",
     "shell.execute_reply": "2021-10-15T02:00:20.756401Z"
    }
   },
   "outputs": [],
   "source": [
    "FeatureSetEnrichment.make_benchmark(\"card A2K\")"
   ]
  },
  {
   "cell_type": "code",
   "execution_count": null,
   "id": "a93d4ce0",
   "metadata": {
    "execution": {
     "iopub.execute_input": "2021-10-15T02:00:20.758794Z",
     "iopub.status.busy": "2021-10-15T02:00:20.758112Z",
     "iopub.status.idle": "2021-10-15T02:00:21.129216Z",
     "shell.execute_reply": "2021-10-15T02:00:21.128736Z"
    }
   },
   "outputs": [],
   "source": [
    "FeatureSetEnrichment.make_benchmark(\"random 4 2\")"
   ]
  },
  {
   "cell_type": "markdown",
   "id": "337971f7",
   "metadata": {},
   "source": [
    "## plot_mountain"
   ]
  },
  {
   "cell_type": "code",
   "execution_count": null,
   "id": "e74b541b",
   "metadata": {
    "execution": {
     "iopub.execute_input": "2021-10-15T02:00:21.131376Z",
     "iopub.status.busy": "2021-10-15T02:00:21.130686Z",
     "iopub.status.idle": "2021-10-15T02:00:21.158616Z",
     "shell.execute_reply": "2021-10-15T02:00:21.158068Z"
    }
   },
   "outputs": [],
   "source": [
    "fe_, sc_, fe1_ = FeatureSetEnrichment.make_benchmark(\"card AK\")\n",
    "\n",
    ";"
   ]
  },
  {
   "cell_type": "code",
   "execution_count": null,
   "id": "517bc174",
   "metadata": {},
   "outputs": [],
   "source": [
    "FeatureSetEnrichment.score_set(fe_, sc_, fe1_; si = false)"
   ]
  },
  {
   "cell_type": "code",
   "execution_count": null,
   "id": "7a2a9a37",
   "metadata": {
    "execution": {
     "iopub.execute_input": "2021-10-15T02:00:32.136700Z",
     "iopub.status.busy": "2021-10-15T02:00:32.136110Z",
     "iopub.status.idle": "2021-10-15T02:00:32.754945Z",
     "shell.execute_reply": "2021-10-15T02:00:32.754491Z"
    }
   },
   "outputs": [],
   "source": [
    "FeatureSetEnrichment.score_set_new(fe_, sc_, fe1_)"
   ]
  },
  {
   "cell_type": "markdown",
   "id": "1a70a415",
   "metadata": {},
   "source": [
    "## "
   ]
  },
  {
   "cell_type": "code",
   "execution_count": null,
   "id": "ee5aff03",
   "metadata": {
    "execution": {
     "iopub.execute_input": "2021-10-15T02:00:33.054171Z",
     "iopub.status.busy": "2021-10-15T02:00:33.053664Z",
     "iopub.status.idle": "2021-10-15T02:00:47.908749Z",
     "shell.execute_reply": "2021-10-15T02:00:47.908341Z"
    }
   },
   "outputs": [],
   "source": [
    "fe_, sc_, fe1_ = FeatureSetEnrichment.make_benchmark(\"myc\")\n",
    "\n",
    "in_ = VectorExtension.is_in(fe_, fe1_)\n",
    "\n",
    ";"
   ]
  },
  {
   "cell_type": "markdown",
   "id": "b05aefbe",
   "metadata": {},
   "source": [
    "## score_set (1 1)"
   ]
  },
  {
   "cell_type": "code",
   "execution_count": null,
   "id": "2e64a87c",
   "metadata": {
    "execution": {
     "iopub.execute_input": "2021-10-15T02:00:47.910693Z",
     "iopub.status.busy": "2021-10-15T02:00:47.910127Z",
     "iopub.status.idle": "2021-10-15T02:01:00.957459Z",
     "shell.execute_reply": "2021-10-15T02:01:00.956668Z"
    }
   },
   "outputs": [],
   "source": [
    "@btime VectorExtension.is_in(fe_, fe1_)"
   ]
  },
  {
   "cell_type": "code",
   "execution_count": null,
   "id": "f1ccc530",
   "metadata": {
    "execution": {
     "iopub.execute_input": "2021-10-15T02:01:00.959526Z",
     "iopub.status.busy": "2021-10-15T02:01:00.958928Z",
     "iopub.status.idle": "2021-10-15T02:01:07.766730Z",
     "shell.execute_reply": "2021-10-15T02:01:07.766306Z"
    }
   },
   "outputs": [],
   "source": [
    "@btime FeatureSetEnrichment.score_set(fe_, sc_, fe1_, in_; pl = false)"
   ]
  },
  {
   "cell_type": "code",
   "execution_count": null,
   "id": "e5fa6eb9",
   "metadata": {
    "execution": {
     "iopub.execute_input": "2021-10-15T02:01:07.768870Z",
     "iopub.status.busy": "2021-10-15T02:01:07.768245Z",
     "iopub.status.idle": "2021-10-15T02:01:19.071181Z",
     "shell.execute_reply": "2021-10-15T02:01:19.070746Z"
    }
   },
   "outputs": [],
   "source": [
    "@btime FeatureSetEnrichment.score_set(fe_, sc_, fe1_; pl = false)"
   ]
  },
  {
   "cell_type": "code",
   "execution_count": null,
   "id": "d0b57976",
   "metadata": {
    "execution": {
     "iopub.execute_input": "2021-10-15T02:01:19.073173Z",
     "iopub.status.busy": "2021-10-15T02:01:19.072539Z",
     "iopub.status.idle": "2021-10-15T02:01:19.372891Z",
     "shell.execute_reply": "2021-10-15T02:01:19.286734Z"
    },
    "scrolled": false
   },
   "outputs": [],
   "source": [
    "FeatureSetEnrichment.score_set(fe_, sc_, fe1_)"
   ]
  },
  {
   "cell_type": "markdown",
   "id": "b955b922",
   "metadata": {},
   "source": [
    "## sc_se_new (1 1)"
   ]
  },
  {
   "cell_type": "code",
   "execution_count": null,
   "id": "fa48624f",
   "metadata": {
    "execution": {
     "iopub.execute_input": "2021-10-15T02:01:47.972370Z",
     "iopub.status.busy": "2021-10-15T02:01:47.971552Z",
     "iopub.status.idle": "2021-10-15T02:02:03.568812Z",
     "shell.execute_reply": "2021-10-15T02:02:03.567062Z"
    }
   },
   "outputs": [],
   "source": [
    "@btime FeatureSetEnrichment.score_set_new(fe_, sc_, fe1_; pl = false)"
   ]
  },
  {
   "cell_type": "code",
   "execution_count": null,
   "id": "54c0a676",
   "metadata": {
    "execution": {
     "iopub.execute_input": "2021-10-15T02:02:03.570745Z",
     "iopub.status.busy": "2021-10-15T02:02:03.570146Z",
     "iopub.status.idle": "2021-10-15T02:02:03.862164Z",
     "shell.execute_reply": "2021-10-15T02:02:03.861782Z"
    }
   },
   "outputs": [],
   "source": [
    "FeatureSetEnrichment.score_set_new(fe_, sc_, fe1_)"
   ]
  },
  {
   "cell_type": "markdown",
   "id": "91efab7b",
   "metadata": {},
   "source": [
    "## "
   ]
  },
  {
   "cell_type": "code",
   "execution_count": null,
   "id": "3d4df309",
   "metadata": {
    "execution": {
     "iopub.execute_input": "2021-10-15T02:00:33.054171Z",
     "iopub.status.busy": "2021-10-15T02:00:33.053664Z",
     "iopub.status.idle": "2021-10-15T02:00:47.908749Z",
     "shell.execute_reply": "2021-10-15T02:00:47.908341Z"
    }
   },
   "outputs": [],
   "source": [
    "se_fe_ = GMTAccess.read(joinpath(\"data\", \"h.all.v7.1.symbols.gmt\"))\n",
    "\n",
    ";"
   ]
  },
  {
   "cell_type": "markdown",
   "id": "4766e9c6",
   "metadata": {},
   "source": [
    "## score_set (1 n)"
   ]
  },
  {
   "cell_type": "code",
   "execution_count": null,
   "id": "1679bed5",
   "metadata": {
    "execution": {
     "iopub.execute_input": "2021-10-15T02:01:19.375858Z",
     "iopub.status.busy": "2021-10-15T02:01:19.374766Z",
     "iopub.status.idle": "2021-10-15T02:01:31.832065Z",
     "shell.execute_reply": "2021-10-15T02:01:31.831118Z"
    }
   },
   "outputs": [],
   "source": [
    "@btime FeatureSetEnrichment.score_set(fe_, sc_, se_fe_)"
   ]
  },
  {
   "cell_type": "markdown",
   "id": "d18c90c2",
   "metadata": {},
   "source": [
    "## sc_se_new (1 n)"
   ]
  },
  {
   "cell_type": "code",
   "execution_count": null,
   "id": "a6ac1e10",
   "metadata": {
    "execution": {
     "iopub.execute_input": "2021-10-15T02:02:03.864646Z",
     "iopub.status.busy": "2021-10-15T02:02:03.864081Z",
     "iopub.status.idle": "2021-10-15T02:02:15.636789Z",
     "shell.execute_reply": "2021-10-15T02:02:15.636246Z"
    }
   },
   "outputs": [],
   "source": [
    "@btime FeatureSetEnrichment.score_set_new(fe_, sc_, se_fe_)"
   ]
  },
  {
   "cell_type": "markdown",
   "id": "73665aeb",
   "metadata": {},
   "source": [
    "## score_set (n n)"
   ]
  },
  {
   "cell_type": "code",
   "execution_count": null,
   "id": "d1dae9b2",
   "metadata": {
    "execution": {
     "iopub.execute_input": "2021-10-15T02:01:31.834545Z",
     "iopub.status.busy": "2021-10-15T02:01:31.833888Z",
     "iopub.status.idle": "2021-10-15T02:01:47.969715Z",
     "shell.execute_reply": "2021-10-15T02:01:47.966369Z"
    }
   },
   "outputs": [],
   "source": [
    "sc_fe_sa = DataFrame(\n",
    "    \"Feature\" => fe_,\n",
    "    \"Score\" => sc_,\n",
    "    \"Score x 10\" => sc_ * 10,\n",
    "    \"Constant\" => fill(0.8, length(fe_)),\n",
    ")\n",
    "\n",
    "@btime FeatureSetEnrichment.score_set(sc_fe_sa, se_fe_; n_jo = 1)"
   ]
  },
  {
   "cell_type": "markdown",
   "id": "94460707",
   "metadata": {},
   "source": [
    "## try_method"
   ]
  },
  {
   "cell_type": "code",
   "execution_count": null,
   "id": "2893cb57",
   "metadata": {
    "execution": {
     "iopub.execute_input": "2021-10-15T02:02:15.638717Z",
     "iopub.status.busy": "2021-10-15T02:02:15.638117Z",
     "iopub.status.idle": "2021-10-15T02:02:48.406763Z",
     "shell.execute_reply": "2021-10-15T02:02:48.406298Z"
    },
    "scrolled": false
   },
   "outputs": [],
   "source": [
    "FeatureSetEnrichment.try_method(fe_, sc_, fe1_; plp = false)"
   ]
  },
  {
   "cell_type": "markdown",
   "id": "94aa0118",
   "metadata": {},
   "source": [
    "---"
   ]
  },
  {
   "cell_type": "code",
   "execution_count": null,
   "id": "b169202a",
   "metadata": {},
   "outputs": [],
   "source": [
    "rm(TE; recursive = true)\n",
    "\n",
    "println(\"Removed \", TE)"
   ]
  }
 ],
 "metadata": {
  "@webio": {
   "lastCommId": "ddafa7f567e74ae08f6f9e671e67a2a9",
   "lastKernelId": "cbd42119-2f06-4e55-abc5-ae52f66a19d4"
  },
  "kernelspec": {
   "display_name": "Julia 1.7.1",
   "language": "julia",
   "name": "julia-1.7"
  },
  "language_info": {
   "file_extension": ".jl",
   "mimetype": "application/julia",
   "name": "julia",
   "version": "1.7.1"
  }
 },
 "nbformat": 4,
 "nbformat_minor": 5
}
