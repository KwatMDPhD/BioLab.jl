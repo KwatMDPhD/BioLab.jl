{
 "cells": [
  {
   "cell_type": "code",
   "execution_count": null,
   "id": "ad4fb98a",
   "metadata": {},
   "outputs": [],
   "source": [
    "TE = joinpath(tempdir(), \"TemplateExtension.test\", \"\")\n",
    "\n",
    "if isdir(TE)\n",
    "\n",
    "    rm(TE; recursive = true)\n",
    "\n",
    "end\n",
    "\n",
    "mkdir(TE)\n",
    "\n",
    "println(\"Made \", TE)"
   ]
  },
  {
   "cell_type": "code",
   "execution_count": null,
   "id": "34e4701e",
   "metadata": {},
   "outputs": [],
   "source": [
    "using Revise\n",
    "using BenchmarkTools"
   ]
  },
  {
   "cell_type": "markdown",
   "id": "349c228e",
   "metadata": {},
   "source": [
    "---"
   ]
  },
  {
   "cell_type": "code",
   "execution_count": null,
   "id": "23b98853",
   "metadata": {
    "execution": {
     "iopub.execute_input": "2021-10-14T18:25:54.055222Z",
     "iopub.status.busy": "2021-10-14T18:25:53.342490Z",
     "iopub.status.idle": "2021-10-14T18:26:10.352867Z",
     "shell.execute_reply": "2021-10-14T18:26:10.352370Z"
    }
   },
   "outputs": [],
   "source": [
    "using StringExtension\n",
    "\n",
    "using TemplateExtension"
   ]
  },
  {
   "cell_type": "markdown",
   "id": "0654acfb",
   "metadata": {},
   "source": [
    "## get_transplant"
   ]
  },
  {
   "cell_type": "code",
   "execution_count": null,
   "id": "96364fc3",
   "metadata": {},
   "outputs": [],
   "source": [
    "TemplateExtension.get_transplant()"
   ]
  },
  {
   "cell_type": "markdown",
   "id": "13e9cd65",
   "metadata": {},
   "source": [
    "## get_replacement"
   ]
  },
  {
   "cell_type": "code",
   "execution_count": null,
   "id": "8b46a1f9",
   "metadata": {},
   "outputs": [],
   "source": [
    "TemplateExtension.get_replacement(\"Title\")"
   ]
  },
  {
   "cell_type": "markdown",
   "id": "10cc4557",
   "metadata": {},
   "source": [
    "## error_missing"
   ]
  },
  {
   "cell_type": "code",
   "execution_count": null,
   "id": "3b39a9d1",
   "metadata": {},
   "outputs": [],
   "source": [
    "di1 = dirname(@__DIR__)\n",
    "\n",
    "di2 = dirname(@__DIR__)"
   ]
  },
  {
   "cell_type": "code",
   "execution_count": null,
   "id": "d04accf3",
   "metadata": {},
   "outputs": [],
   "source": [
    "try\n",
    "\n",
    "    TemplateExtension.error_missing(di1, di2; ig_ = [\"runtests.jl\"])\n",
    "\n",
    "catch er\n",
    "\n",
    "    er\n",
    "\n",
    "end"
   ]
  },
  {
   "cell_type": "code",
   "execution_count": null,
   "id": "aa17113e",
   "metadata": {},
   "outputs": [],
   "source": [
    "TemplateExtension.error_missing(\n",
    "    di1,\n",
    "    di2;\n",
    "    re_ = TemplateExtension.get_replacement(\"TemplateExtension\"),\n",
    ")"
   ]
  },
  {
   "cell_type": "markdown",
   "id": "69ad4519",
   "metadata": {},
   "source": [
    "## transplant"
   ]
  },
  {
   "cell_type": "code",
   "execution_count": null,
   "id": "e819d8da",
   "metadata": {},
   "outputs": [],
   "source": [
    "fi1 = joinpath(TE, \"fi1\")\n",
    "\n",
    "write(\n",
    "    fi1,\n",
    "    \"--\n",
    "TemplateExtension\n",
    "KwatMDPhD\n",
    "kwat.me@icloud.com\n",
    "78cb70d7-2427-4375-9fa4-bd090de30ff2\n",
    "--\n",
    "(Stuff)\n",
    "--\n",
    "Made by Kwat\",\n",
    ")\n",
    "\n",
    "println(read(fi1, String))"
   ]
  },
  {
   "cell_type": "code",
   "execution_count": null,
   "id": "12b2ee72",
   "metadata": {},
   "outputs": [],
   "source": [
    "fi2 = joinpath(TE, \"fi2\")\n",
    "\n",
    "write(\n",
    "    fi2,\n",
    "    \"--\n",
    "(Bad part)\n",
    "--\n",
    "Good stuff\n",
    "--\n",
    "(Bad part)\",\n",
    ")\n",
    "\n",
    "println(read(fi2, String))"
   ]
  },
  {
   "cell_type": "code",
   "execution_count": null,
   "id": "7366635f",
   "metadata": {},
   "outputs": [],
   "source": [
    "TemplateExtension.transplant(\n",
    "    fi1,\n",
    "    fi2,\n",
    "    \"--\",\n",
    "    [1, 2, 1],\n",
    "    TemplateExtension.get_replacement(\"Title\"),\n",
    ")\n",
    "\n",
    "println(read(fi2, String))"
   ]
  },
  {
   "cell_type": "markdown",
   "id": "1531a6bb",
   "metadata": {},
   "source": [
    "---"
   ]
  },
  {
   "cell_type": "code",
   "execution_count": null,
   "id": "b169202a",
   "metadata": {},
   "outputs": [],
   "source": [
    "rm(TE; recursive = true)\n",
    "\n",
    "println(\"Removed \", TE)"
   ]
  }
 ],
 "metadata": {
  "@webio": {
   "lastCommId": null,
   "lastKernelId": null
  },
  "kernelspec": {
   "display_name": "Julia 1.7.0",
   "language": "julia",
   "name": "julia-1.7"
  },
  "language_info": {
   "file_extension": ".jl",
   "mimetype": "application/julia",
   "name": "julia",
   "version": "1.7.0"
  }
 },
 "nbformat": 4,
 "nbformat_minor": 5
}
