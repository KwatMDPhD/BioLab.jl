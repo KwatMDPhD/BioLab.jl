{
 "cells": [
  {
   "outputs": [],
   "cell_type": "code",
   "source": [
    "%load_ext autoreload\n",
    "%autoreload 2"
   ],
   "metadata": {},
   "execution_count": null
  },
  {
   "outputs": [],
   "cell_type": "code",
   "source": [
    "from _ import *"
   ],
   "metadata": {},
   "execution_count": null
  },
  {
   "outputs": [],
   "cell_type": "code",
   "source": [
    "def get_self_mutual_information(ma):\n",
    "\n",
    "    ma = ma.copy()\n",
    "\n",
    "    assert 0 <= ma.min()\n",
    "\n",
    "    sh = ma.shape\n",
    "\n",
    "    de1 = 1 / sh[0]\n",
    "\n",
    "    de2 = 1 / sh[1]\n",
    "\n",
    "    ma += 1\n",
    "\n",
    "    mar = ma / (ma.sum() * de1 * de2)\n",
    "\n",
    "    marm = np.outer(mar.sum(axis=1) * de2, mar.sum(axis=0) * de1)\n",
    "\n",
    "    return kwat.information.get_kld(mar, marm)"
   ],
   "metadata": {},
   "execution_count": null
  },
  {
   "outputs": [],
   "cell_type": "code",
   "source": [
    "def get_extremeselect(da, se, di, st):\n",
    "\n",
    "    return da.loc[kwat.series.get_extreme(se, di, st=st), :]"
   ],
   "metadata": {},
   "execution_count": null
  },
  {
   "outputs": [],
   "cell_type": "code",
   "source": [
    "def isolateselect_by_median(da, di, st):\n",
    "\n",
    "    if di == \"<\":\n",
    "\n",
    "        da = da.clip(upper=0)\n",
    "\n",
    "    elif di == \">\":\n",
    "\n",
    "        da = da.clip(lower=0)\n",
    "\n",
    "    da = get_extremeselect(da, da.median(axis=1), di, st)\n",
    "\n",
    "    if di == \"<\":\n",
    "\n",
    "        da *= -1\n",
    "\n",
    "    return da"
   ],
   "metadata": {},
   "execution_count": null
  },
  {
   "outputs": [],
   "cell_type": "code",
   "source": [
    "kwat.path.make(DIS)"
   ],
   "metadata": {},
   "execution_count": null
  },
  {
   "outputs": [],
   "cell_type": "code",
   "source": [
    "for ie, (da, na) in enumerate(zip(DAR_, (di[\"na\"] for di in SE[\"dim_\"]))):\n",
    "\n",
    "    va, se, st = SE[\"si\"]\n",
    "\n",
    "    if va == \"self_mutual_information\":\n",
    "\n",
    "        da = pd.DataFrame(\n",
    "            data=get_self_mutual_information(da.values),\n",
    "            index=da.index,\n",
    "            columns=da.columns,\n",
    "        )\n",
    "\n",
    "    ti = \"{} {}\".format(na, va)\n",
    "\n",
    "    kwat.feature_by_sample.summarize(da, title=ti)\n",
    "\n",
    "    if se == \"standard_deviation\":\n",
    "\n",
    "        da = get_extremeselect(da, da.std(axis=1), \">\", st)\n",
    "\n",
    "    else:\n",
    "\n",
    "        da_ = [isolateselect_by_median(da, di, st) for di in [\"<\", \">\"]]\n",
    "\n",
    "        if se == \"<>\":\n",
    "\n",
    "            da = pd.concat(da_)\n",
    "\n",
    "            da.index = pd.Index(\n",
    "                [\"{}(-)\".format(la) for la in da_[0].index.values]\n",
    "                + [\"{}(+)\".format(la) for la in da_[1].index.values],\n",
    "                name=da.index.name,\n",
    "            )\n",
    "\n",
    "        elif se == \"<\":\n",
    "\n",
    "            da = da_[0]\n",
    "\n",
    "        elif se == \">\":\n",
    "\n",
    "            da = da_[1]\n",
    "\n",
    "    kwat.feature_by_sample.summarize(da, title=\"{} {} {}\".format(ti, se, st))\n",
    "\n",
    "    da.to_csv(path_or_buf=os.path.join(DIS, \"{}.tsv\".format(ie + 1)), sep=\"\\t\")"
   ],
   "metadata": {},
   "execution_count": null
  }
 ],
 "nbformat_minor": 4,
 "metadata": {
  "language_info": {
   "file_extension": ".py",
   "mimetype": "text/x-python",
   "name": "python",
   "nbconvert_exporter": "python",
   "pygments_lexer": "ipython3",
   "codemirror_mode": {
    "name": "ipython",
    "version": 3
   },
   "version": "3.9.6"
  },
  "@webio": {
   "lastKernelId": null,
   "lastCommId": null
  },
  "kernelspec": {
   "name": "python3",
   "display_name": "Python 3 (ipykernel)",
   "language": "python"
  }
 },
 "nbformat": 4
}
