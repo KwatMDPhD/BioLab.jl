{
 "cells": [
  {
   "outputs": [],
   "cell_type": "code",
   "source": [
    "%load_ext autoreload\n",
    "%autoreload 2"
   ],
   "metadata": {},
   "execution_count": null
  },
  {
   "outputs": [],
   "cell_type": "code",
   "source": [
    "from _ import *"
   ],
   "metadata": {},
   "execution_count": null
  },
  {
   "outputs": [],
   "cell_type": "code",
   "source": [
    "pl.io.renderers.default = \"png\""
   ],
   "metadata": {},
   "execution_count": null
  },
  {
   "outputs": [],
   "cell_type": "code",
   "source": [
    "maw = kwat.gps_map.read(os.path.join(DIMW, \"map.pickle.gz\"))\n",
    "\n",
    "mah = kwat.gps_map.read(os.path.join(DIMH, \"map.pickle.gz\"))"
   ],
   "metadata": {},
   "execution_count": null
  },
  {
   "outputs": [],
   "cell_type": "code",
   "source": [
    "for sy, ma, ax, dim in [[\"w\", maw, 2, DIMW], [\"h\", mah, 1, DIMH]]:\n",
    "\n",
    "    po_ = ma.nu_po_no.index\n",
    "\n",
    "    for pe in SE[\"pe{}_\".format(ax)]:\n",
    "\n",
    "        for na, da, ty in NA_DA_TY_:\n",
    "\n",
    "            for da in [da, da.T]:\n",
    "\n",
    "                if pe in da.index and 0 < po_.intersection(da.columns).size:\n",
    "\n",
    "                    po_sc = da.loc[pe, :]\n",
    "\n",
    "                    na = \"{} {}\".format(na, pe)\n",
    "\n",
    "                    po_sc.name = na\n",
    "\n",
    "                    ma.plot(\n",
    "                        sh=False,\n",
    "                        po_sc=po_sc,\n",
    "                        colorscales=kwat.plot.NAME_COLORSCALE[ty],\n",
    "                        tracep={\"marker\": {\"size\": SE[\"size{}\".format(sy)]}},\n",
    "                        pr=os.path.join(dim, kwat.path.clean(na)),\n",
    "                    )"
   ],
   "metadata": {},
   "execution_count": null
  }
 ],
 "nbformat_minor": 4,
 "metadata": {
  "language_info": {
   "file_extension": ".py",
   "mimetype": "text/x-python",
   "name": "python",
   "nbconvert_exporter": "python",
   "pygments_lexer": "ipython3",
   "codemirror_mode": {
    "name": "ipython",
    "version": 3
   },
   "version": "3.9.6"
  },
  "@webio": {
   "lastKernelId": null,
   "lastCommId": null
  },
  "kernelspec": {
   "name": "python3",
   "display_name": "Python 3 (ipykernel)",
   "language": "python"
  }
 },
 "nbformat": 4
}
