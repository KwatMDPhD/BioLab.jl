{
 "cells": [
  {
   "outputs": [],
   "cell_type": "code",
   "source": [
    "%load_ext autoreload\n",
    "%autoreload 2"
   ],
   "metadata": {},
   "execution_count": null
  },
  {
   "outputs": [],
   "cell_type": "code",
   "source": [
    "from _ import *"
   ],
   "metadata": {},
   "execution_count": null
  },
  {
   "outputs": [],
   "cell_type": "code",
   "source": [
    "# pl.io.renderers.default = \"png\""
   ],
   "metadata": {},
   "execution_count": null
  },
  {
   "outputs": [],
   "cell_type": "code",
   "source": [
    "fa_ = DAW_[0].columns"
   ],
   "metadata": {},
   "execution_count": null
  },
  {
   "outputs": [],
   "cell_type": "code",
   "source": [
    "height = 640\n",
    "\n",
    "layout = {\"height\": height, \"width\": height}"
   ],
   "metadata": {},
   "execution_count": null
  },
  {
   "outputs": [],
   "cell_type": "code",
   "source": [
    "di_faw_faw_ = []\n",
    "\n",
    "di_fah_fah_ = []\n",
    "\n",
    "for sy, da_, di_fa_fa_ in [[\"w\", DAW_, di_faw_faw_], [\"h\", DAH_, di_fah_fah_]]:\n",
    "\n",
    "    for ie, da in enumerate(da_):\n",
    "\n",
    "        ma = da.values\n",
    "\n",
    "        if sy == \"w\":\n",
    "\n",
    "            ma = ma.T\n",
    "\n",
    "        di_fa_fa = kwat.matrix.apply_with_matrix(ma, ma, kwat.information.get_icd)\n",
    "\n",
    "        di_fa_fa[np.diag_indices_from(di_fa_fa)] = 0\n",
    "\n",
    "        kwat.plot.plot_heat_map(\n",
    "            pd.DataFrame(data=di_fa_fa, index=fa_, columns=fa_),\n",
    "            layout=kwat.dictionary.merge(\n",
    "                layout, {\"title\": {\"text\": \"{}{} Distance\".format(sy.upper(), ie + 1)}}\n",
    "            ),\n",
    "        )\n",
    "\n",
    "        di_fa_fa_.append(di_fa_fa)"
   ],
   "metadata": {},
   "execution_count": null
  },
  {
   "outputs": [],
   "cell_type": "code",
   "source": [
    "di_fa_fa = (\n",
    "    np.array(di_faw_faw_).mean(axis=0) * SE[\"wew\"]\n",
    "    + np.array(di_fah_fah_).mean(axis=0) * SE[\"weh\"]\n",
    ")\n",
    "\n",
    "kwat.plot.plot_heat_map(\n",
    "    pd.DataFrame(data=di_fa_fa, index=fa_, columns=fa_),\n",
    "    layout=kwat.dictionary.merge(layout, {\"title\": {\"text\": \"Distance in W and H\"}}),\n",
    ")"
   ],
   "metadata": {},
   "execution_count": null
  },
  {
   "outputs": [],
   "cell_type": "code",
   "source": [
    "fai_ = np.array([int(fa.split()[1]) for fa in fa_])"
   ],
   "metadata": {},
   "execution_count": null
  },
  {
   "outputs": [],
   "cell_type": "code",
   "source": [
    "we_ = fai_ / fai_.min()\n",
    "we_ = (fai_ == fai_.max()).astype(int)"
   ],
   "metadata": {},
   "execution_count": null
  },
  {
   "outputs": [],
   "cell_type": "code",
   "source": [
    "node_marker_size = 32\n",
    "\n",
    "if 1 < np.unique(fai_).size:\n",
    "\n",
    "    node_marker_size *= 3 ** (1 - kwat.array.normalize(fai_, \"0-1\"))"
   ],
   "metadata": {},
   "execution_count": null
  },
  {
   "outputs": [],
   "cell_type": "code",
   "source": [
    "for sy, nu_po_no_, dim in [[\"w\", DAW_, DIMW], [\"h\", [dah.T for dah in DAH_], DIMH]]:\n",
    "\n",
    "    nu_po_no = pd.concat(nu_po_no_) * we_\n",
    "\n",
    "    nu_po_no.index.name = \"+\".join((nu_po_no.index.name for nu_po_no in nu_po_no_))\n",
    "\n",
    "    kwat.path.make(dim)\n",
    "\n",
    "    ma = kwat.gps_map.GPSMap(di_fa_fa, nu_po_no ** SE[\"po{}\".format(sy)])\n",
    "\n",
    "    ma.set_group(\"closest_node\")\n",
    "\n",
    "    kwat.gps_map.write(os.path.join(dim, \"map.pickle.gz\"), ma)\n",
    "\n",
    "    tracen = {\"marker\": {\"size\": node_marker_size}}\n",
    "\n",
    "    ma.plot(\n",
    "        tracen=tracen,\n",
    "        tracep={\"marker\": {\"size\": SE[\"size{}\".format(sy)]}},\n",
    "        pr=os.path.join(dim, \"map\"),\n",
    "    )\n",
    "\n",
    "    mo = SE[\"mo\"]\n",
    "\n",
    "    if 1 < len(SE[\"dim_\"]) and (\n",
    "        (mo == \"wide\" and sy == \"h\") or (mo == \"deep\" and sy == \"w\")\n",
    "    ):\n",
    "\n",
    "        po_ = ma.nu_po_no.index\n",
    "\n",
    "        for da, di in zip(DAO_, SE[\"dim_\"]):\n",
    "\n",
    "            if sy == \"w\":\n",
    "\n",
    "                pod_ = da.index\n",
    "\n",
    "            elif sy == \"h\":\n",
    "\n",
    "                pod_ = da.columns\n",
    "\n",
    "            na = di[\"na\"]\n",
    "\n",
    "            ma.plot(\n",
    "                sh=False,\n",
    "                po_sc=pd.Series(\n",
    "                    data=kwat.iterable.check_in(po_.values, pod_.values),\n",
    "                    index=po_,\n",
    "                    dtype=int,\n",
    "                    name=na,\n",
    "                ),\n",
    "                colorscales=kwat.plot.NAME_COLORSCALE[\"human\"],\n",
    "                tracen=kwat.dictionary.merge(tracen, {\"marker\": {\"color\": \"#875f9a\"}}),\n",
    "                tracep={\"marker\": {\"size\": SE[\"size{}\".format(sy)]}},\n",
    "                pr=os.path.join(dim, kwat.path.clean(na)),\n",
    "            )"
   ],
   "metadata": {},
   "execution_count": null
  }
 ],
 "nbformat_minor": 4,
 "metadata": {
  "language_info": {
   "file_extension": ".py",
   "mimetype": "text/x-python",
   "name": "python",
   "nbconvert_exporter": "python",
   "pygments_lexer": "ipython3",
   "codemirror_mode": {
    "name": "ipython",
    "version": 3
   },
   "version": "3.9.6"
  },
  "@webio": {
   "lastKernelId": null,
   "lastCommId": null
  },
  "kernelspec": {
   "name": "python3",
   "display_name": "Python 3 (ipykernel)",
   "language": "python"
  }
 },
 "nbformat": 4
}
