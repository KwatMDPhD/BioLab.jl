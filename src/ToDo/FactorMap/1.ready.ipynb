{
 "cells": [
  {
   "outputs": [],
   "cell_type": "code",
   "source": [
    "%load_ext autoreload\n",
    "%autoreload 2"
   ],
   "metadata": {},
   "execution_count": null
  },
  {
   "outputs": [],
   "cell_type": "code",
   "source": [
    "from _ import *"
   ],
   "metadata": {},
   "execution_count": null
  },
  {
   "outputs": [],
   "cell_type": "code",
   "source": [
    "da_ = []\n",
    "\n",
    "for da, na in zip(DAO_, (di[\"na\"] for di in SE[\"dim_\"])):\n",
    "\n",
    "    da = kwat.feature_by_sample.process(da, dr=True)\n",
    "\n",
    "    da_.append(da)\n",
    "\n",
    "    for ax, dap in [[1, da], [2, da.T]]:\n",
    "\n",
    "        pe_ = dap.index.intersection(SE[\"pe{}_\".format(ax)])\n",
    "\n",
    "        if 0 < pe_.size:\n",
    "\n",
    "            kwat.plot.plot_histogram(\n",
    "                [dap.loc[pe, :] for pe in pe_],\n",
    "                layout={\n",
    "                    \"title\": {\"text\": \"{} {}\".format(na, pe_.name)},\n",
    "                    \"xaxis\": {\"title\": {\"text\": \"Number\"}},\n",
    "                },\n",
    "            )"
   ],
   "metadata": {},
   "execution_count": null
  },
  {
   "outputs": [],
   "cell_type": "code",
   "source": [
    "mo = SE[\"mo\"]\n",
    "\n",
    "if mo == \"wide\":\n",
    "\n",
    "    ax = 0\n",
    "\n",
    "elif mo == \"deep\":\n",
    "\n",
    "    ax = 1\n",
    "\n",
    "da_ = kwat.dataframe.sync(da_, ax=ax)"
   ],
   "metadata": {},
   "execution_count": null
  },
  {
   "outputs": [],
   "cell_type": "code",
   "source": [
    "kwat.path.make(DIR)"
   ],
   "metadata": {},
   "execution_count": null
  },
  {
   "outputs": [],
   "cell_type": "code",
   "source": [
    "for ie, da in enumerate(da_):\n",
    "\n",
    "    da.to_csv(os.path.join(DIR, \"{}.tsv\".format(ie + 1)), sep=\"\\t\")"
   ],
   "metadata": {},
   "execution_count": null
  }
 ],
 "nbformat_minor": 4,
 "metadata": {
  "language_info": {
   "file_extension": ".py",
   "mimetype": "text/x-python",
   "name": "python",
   "nbconvert_exporter": "python",
   "pygments_lexer": "ipython3",
   "codemirror_mode": {
    "name": "ipython",
    "version": 3
   },
   "version": "3.9.6"
  },
  "@webio": {
   "lastKernelId": null,
   "lastCommId": null
  },
  "kernelspec": {
   "name": "python3",
   "display_name": "Python 3 (ipykernel)",
   "language": "python"
  }
 },
 "nbformat": 4
}
