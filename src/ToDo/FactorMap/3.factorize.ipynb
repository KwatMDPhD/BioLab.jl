{
 "cells": [
  {
   "outputs": [],
   "cell_type": "code",
   "source": [
    "%load_ext autoreload\n",
    "%autoreload 2"
   ],
   "metadata": {},
   "execution_count": null
  },
  {
   "outputs": [],
   "cell_type": "code",
   "source": [
    "from _ import *"
   ],
   "metadata": {},
   "execution_count": null
  },
  {
   "outputs": [],
   "cell_type": "code",
   "source": [
    "mo = SE[\"mo\"]\n",
    "\n",
    "n_da = len(DAS_)\n",
    "\n",
    "if mo == \"wide\":\n",
    "\n",
    "    ax = 0\n",
    "\n",
    "    n_maw = 1\n",
    "\n",
    "    n_mah = n_da\n",
    "\n",
    "elif mo == \"deep\":\n",
    "\n",
    "    ax = 1\n",
    "\n",
    "    n_maw = n_da\n",
    "\n",
    "    n_mah = 1"
   ],
   "metadata": {},
   "execution_count": null
  },
  {
   "outputs": [],
   "cell_type": "code",
   "source": [
    "da_ = kwat.dataframe.sync(DAS_, ax)"
   ],
   "metadata": {},
   "execution_count": null
  },
  {
   "outputs": [],
   "cell_type": "code",
   "source": [
    "maa_ = [da.values for da in da_]"
   ],
   "metadata": {},
   "execution_count": null
  },
  {
   "outputs": [],
   "cell_type": "code",
   "source": [
    "re_ = SE[\"re_\"]"
   ],
   "metadata": {},
   "execution_count": null
  },
  {
   "outputs": [],
   "cell_type": "code",
   "source": [
    "from kwat.information import get_entropy as information_get_entropy\n",
    "from numpy import apply_along_axis\n",
    "\n",
    "\n",
    "def get_entropy(ma, ax):\n",
    "\n",
    "    return np.mean(\n",
    "        apply_along_axis(\n",
    "            information_get_entropy, ax, ma + kwat.constant.FLOAT_RESOLUTION\n",
    "        )\n",
    "    )"
   ],
   "metadata": {},
   "execution_count": null
  },
  {
   "outputs": [],
   "cell_type": "code",
   "source": [
    "re_wh = {}\n",
    "\n",
    "for re in re_:\n",
    "\n",
    "    maw_, mah_, er_ie_it = kwat.matrix_factorization.factorize(maa_, mo, re)\n",
    "\n",
    "    fa_ = kwat.matrix_factorization.make_label(re)\n",
    "\n",
    "    daw_ = [\n",
    "        pd.DataFrame(data=ma, index=da_[ie].index, columns=fa_)\n",
    "        for ie, ma in enumerate(maw_)\n",
    "    ]\n",
    "\n",
    "    dah_ = [\n",
    "        pd.DataFrame(data=ma, index=fa_, columns=da_[ie].columns)\n",
    "        for ie, ma in enumerate(mah_)\n",
    "    ]\n",
    "\n",
    "    kwat.matrix_factorization.plot(daw_, dah_, er_ie_it=er_ie_it)\n",
    "\n",
    "    re_wh[re] = {\n",
    "        \"w\": {\"da_\": daw_, \"en_\": [get_entropy(ma, 1) for ma in maw_]},\n",
    "        \"h\": {\"da_\": dah_, \"en_\": [get_entropy(ma, 0) for ma in mah_]},\n",
    "    }"
   ],
   "metadata": {},
   "execution_count": null
  },
  {
   "outputs": [],
   "cell_type": "code",
   "source": [
    "kwat.plot.plot_plotly(\n",
    "    [\n",
    "        {\n",
    "            \"name\": \"{}{}\".format(sy.title(), ie + 1),\n",
    "            \"x\": re_,\n",
    "            \"y\": [re_wh[re][sy][\"en_\"][ie] for re in re_],\n",
    "        }\n",
    "        for sy, ie in [[\"w\", ie] for ie in range(n_maw)]\n",
    "        + [[\"h\", ie] for ie in range(n_mah)]\n",
    "    ],\n",
    "    {\n",
    "        \"title\": {\"text\": \"Select Resolution\"},\n",
    "        \"xaxis\": {\"title\": {\"text\": \"Resolution\"}},\n",
    "        \"yaxis\": {\"title\": {\"text\": \"Entropy\"}},\n",
    "    },\n",
    ")"
   ],
   "metadata": {},
   "execution_count": null
  },
  {
   "outputs": [],
   "cell_type": "code",
   "source": [
    "kwat.path.make(DIF)"
   ],
   "metadata": {},
   "execution_count": null
  },
  {
   "outputs": [],
   "cell_type": "code",
   "source": [
    "daw_, dah_ = [\n",
    "    [\n",
    "        pd.concat([re_wh[re][sy][\"da_\"][ie] for re in SE[\"re_\"]], axis=ax)\n",
    "        for ie in range(n_ma)\n",
    "    ]\n",
    "    for sy, ax, n_ma in [[\"w\", 1, n_maw], [\"h\", 0, n_mah]]\n",
    "]\n",
    "\n",
    "kwat.matrix_factorization.plot(daw_, dah_, di=DIF)"
   ],
   "metadata": {},
   "execution_count": null
  },
  {
   "outputs": [],
   "cell_type": "code",
   "source": [
    "for sy, da_ in [[\"w\", daw_], [\"h\", dah_]]:\n",
    "\n",
    "    for ie, da in enumerate(da_):\n",
    "\n",
    "        da.to_csv(\n",
    "            path_or_buf=os.path.join(DIF, \"{}{}.tsv\".format(sy, ie + 1)), sep=\"\\t\"\n",
    "        )"
   ],
   "metadata": {},
   "execution_count": null
  }
 ],
 "nbformat_minor": 4,
 "metadata": {
  "language_info": {
   "file_extension": ".py",
   "mimetype": "text/x-python",
   "name": "python",
   "nbconvert_exporter": "python",
   "pygments_lexer": "ipython3",
   "codemirror_mode": {
    "name": "ipython",
    "version": 3
   },
   "version": "3.9.6"
  },
  "@webio": {
   "lastKernelId": null,
   "lastCommId": null
  },
  "kernelspec": {
   "name": "python3",
   "display_name": "Python 3 (ipykernel)",
   "language": "python"
  }
 },
 "nbformat": 4
}
