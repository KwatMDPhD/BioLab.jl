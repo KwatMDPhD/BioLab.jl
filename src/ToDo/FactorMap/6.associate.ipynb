{
 "cells": [
  {
   "outputs": [],
   "cell_type": "code",
   "source": [
    "%load_ext autoreload\n",
    "%autoreload 2"
   ],
   "metadata": {},
   "execution_count": null
  },
  {
   "outputs": [],
   "cell_type": "code",
   "source": [
    "from _ import *"
   ],
   "metadata": {},
   "execution_count": null
  },
  {
   "outputs": [],
   "cell_type": "code",
   "source": [
    "pl.io.renderers.default = \"png\""
   ],
   "metadata": {},
   "execution_count": null
  },
  {
   "outputs": [],
   "cell_type": "code",
   "source": [
    "nu_co_pow = pd.concat(DAW_).T\n",
    "\n",
    "nu_co_poh = pd.concat(DAH_, axis=1)"
   ],
   "metadata": {},
   "execution_count": null
  },
  {
   "outputs": [],
   "cell_type": "code",
   "source": [
    "for sy, nu_co_po in [[\"w\", nu_co_pow], [\"h\", nu_co_poh]]:\n",
    "\n",
    "    for co, po_nu in nu_co_po.iterrows():\n",
    "\n",
    "        po_ = po_nu.index\n",
    "\n",
    "        for na, da, ty in NA_DA_TY_:\n",
    "\n",
    "            for da in [da, da.T]:\n",
    "\n",
    "                if 0 < po_.intersection(da.columns).size:\n",
    "\n",
    "                    pr = os.path.join(\n",
    "                        PAO,\n",
    "                        \"function_heat_map\",\n",
    "                        sy,\n",
    "                        kwat.path.clean(co),\n",
    "                        kwat.path.clean(na),\n",
    "                    )\n",
    "\n",
    "                    kwat.path.make(pr)\n",
    "\n",
    "                    pa = \"{}.tsv\".format(pr)\n",
    "\n",
    "                    if os.path.isfile(pa):\n",
    "\n",
    "                        fu = pd.read_csv(pa, sep=\"\\t\", index_col=0)\n",
    "\n",
    "                    else:\n",
    "\n",
    "                        fu = kwat.information.get_ic\n",
    "\n",
    "                    kwat.function_heat_map.make(\n",
    "                        po_nu,\n",
    "                        da,\n",
    "                        fu,\n",
    "                        n_jo=SE[\"n_jo\"],\n",
    "                        n_sa=0,\n",
    "                        n_sh=0,\n",
    "                        tyd=ty,\n",
    "                        st=4,\n",
    "                        layout={\"title\": {\"text\": na}},\n",
    "                        pr=pr,\n",
    "                    )"
   ],
   "metadata": {},
   "execution_count": null
  }
 ],
 "nbformat_minor": 4,
 "metadata": {
  "language_info": {
   "file_extension": ".py",
   "mimetype": "text/x-python",
   "name": "python",
   "nbconvert_exporter": "python",
   "pygments_lexer": "ipython3",
   "codemirror_mode": {
    "name": "ipython",
    "version": 3
   },
   "version": "3.9.6"
  },
  "@webio": {
   "lastKernelId": null,
   "lastCommId": null
  },
  "kernelspec": {
   "name": "python3",
   "display_name": "Python 3 (ipykernel)",
   "language": "python"
  }
 },
 "nbformat": 4
}
