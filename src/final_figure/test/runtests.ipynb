{
 "cells": [
  {
   "cell_type": "code",
   "execution_count": null,
   "id": "ad4fb98a",
   "metadata": {},
   "outputs": [],
   "source": [
    "TE = joinpath(tempdir(), \"FinalFigure.test\", \"\")\n",
    "\n",
    "if isdir(TE)\n",
    "\n",
    "    rm(TE; recursive = true)\n",
    "\n",
    "end\n",
    "\n",
    "mkdir(TE)\n",
    "\n",
    "println(\"Made \", TE)"
   ]
  },
  {
   "cell_type": "code",
   "execution_count": null,
   "id": "34e4701e",
   "metadata": {},
   "outputs": [],
   "source": [
    "using Revise\n",
    "using BenchmarkTools"
   ]
  },
  {
   "cell_type": "markdown",
   "id": "349c228e",
   "metadata": {},
   "source": [
    "---"
   ]
  },
  {
   "cell_type": "code",
   "execution_count": null,
   "id": "6436b741",
   "metadata": {
    "execution": {
     "iopub.execute_input": "2021-10-14T18:30:43.393837Z",
     "iopub.status.busy": "2021-10-14T18:30:42.836404Z",
     "iopub.status.idle": "2021-10-14T18:30:57.139372Z",
     "shell.execute_reply": "2021-10-14T18:30:57.138724Z"
    }
   },
   "outputs": [],
   "source": [
    "using PlotlyJS\n",
    "\n",
    "using FinalFigure"
   ]
  },
  {
   "cell_type": "markdown",
   "id": "7fcc5ab7",
   "metadata": {},
   "source": [
    "## "
   ]
  },
  {
   "cell_type": "code",
   "execution_count": null,
   "id": "836e7390",
   "metadata": {
    "execution": {
     "iopub.execute_input": "2021-10-14T18:30:58.712224Z",
     "iopub.status.busy": "2021-10-14T18:30:57.140752Z",
     "iopub.status.idle": "2021-10-14T18:31:02.526988Z",
     "shell.execute_reply": "2021-10-14T18:31:02.526550Z"
    }
   },
   "outputs": [],
   "source": [
    "tr_ = Vector{GenericTrace{Dict{Symbol,Any}}}()\n",
    "\n",
    "la = Layout(title = \"Title\", yaxis_title = \"Y-Axis Title\", xaxis_title = \"X-Axis Title\")\n",
    "\n",
    ";"
   ]
  },
  {
   "cell_type": "markdown",
   "id": "6809059e",
   "metadata": {},
   "source": [
    "## plot"
   ]
  },
  {
   "cell_type": "code",
   "execution_count": null,
   "id": "5bd282d2",
   "metadata": {
    "execution": {
     "iopub.execute_input": "2021-10-14T18:31:02.528837Z",
     "iopub.status.busy": "2021-10-14T18:31:02.528339Z",
     "iopub.status.idle": "2021-10-14T18:31:02.546355Z",
     "shell.execute_reply": "2021-10-14T18:31:02.545441Z"
    }
   },
   "outputs": [],
   "source": [
    "FinalFigure.plot(tr_, la)"
   ]
  },
  {
   "cell_type": "markdown",
   "id": "a2513ee0",
   "metadata": {},
   "source": [
    "## write"
   ]
  },
  {
   "cell_type": "code",
   "execution_count": null,
   "id": "92172d02",
   "metadata": {
    "execution": {
     "iopub.execute_input": "2021-10-14T18:31:08.642865Z",
     "iopub.status.busy": "2021-10-14T18:31:08.642371Z",
     "iopub.status.idle": "2021-10-14T18:31:11.392569Z",
     "shell.execute_reply": "2021-10-14T18:31:11.392922Z"
    }
   },
   "outputs": [],
   "source": [
    "pl = FinalFigure.plot(tr_)\n",
    "\n",
    "FinalFigure.write(joinpath(TE, \"snow.jpeg\"), pl, 400, 200, 1.0)"
   ]
  },
  {
   "cell_type": "markdown",
   "id": "183e473a",
   "metadata": {},
   "source": [
    "## "
   ]
  },
  {
   "cell_type": "code",
   "execution_count": null,
   "id": "70a3796d",
   "metadata": {
    "execution": {
     "iopub.execute_input": "2021-10-14T18:31:11.394800Z",
     "iopub.status.busy": "2021-10-14T18:31:11.394282Z",
     "iopub.status.idle": "2021-10-14T18:31:11.443180Z",
     "shell.execute_reply": "2021-10-14T18:31:11.442235Z"
    }
   },
   "outputs": [],
   "source": [
    "x1 = convert(Vector{Float64}, [-1, 0, 2])\n",
    "\n",
    "x2 = convert(Vector{Float64}, [-2, -1, 0, 2, 4])\n",
    "\n",
    ";"
   ]
  },
  {
   "cell_type": "code",
   "execution_count": null,
   "id": "1273971b",
   "metadata": {
    "execution": {
     "iopub.execute_input": "2021-10-14T18:31:11.445544Z",
     "iopub.status.busy": "2021-10-14T18:31:11.444757Z",
     "iopub.status.idle": "2021-10-14T18:31:11.508115Z",
     "shell.execute_reply": "2021-10-14T18:31:11.507671Z"
    }
   },
   "outputs": [],
   "source": [
    "y1 = x1 .* 10\n",
    "\n",
    "y2 = x2 .* 10\n",
    "\n",
    ";"
   ]
  },
  {
   "cell_type": "markdown",
   "id": "ced90427",
   "metadata": {},
   "source": [
    "## plot_x_y"
   ]
  },
  {
   "cell_type": "code",
   "execution_count": null,
   "id": "b6a32634",
   "metadata": {
    "execution": {
     "iopub.execute_input": "2021-10-14T18:31:11.511328Z",
     "iopub.status.busy": "2021-10-14T18:31:11.510288Z",
     "iopub.status.idle": "2021-10-14T18:31:11.940917Z",
     "shell.execute_reply": "2021-10-14T18:31:11.941272Z"
    }
   },
   "outputs": [],
   "source": [
    "FinalFigure.plot_x_y([y1, y2], [x1, x2]; la = la);"
   ]
  },
  {
   "cell_type": "code",
   "execution_count": null,
   "id": "7fc47cde",
   "metadata": {
    "execution": {
     "iopub.execute_input": "2021-10-14T18:31:11.943079Z",
     "iopub.status.busy": "2021-10-14T18:31:11.942554Z",
     "iopub.status.idle": "2021-10-14T18:31:12.019308Z",
     "shell.execute_reply": "2021-10-14T18:31:12.018947Z"
    }
   },
   "outputs": [],
   "source": [
    "FinalFigure.plot_x_y([y1, y2]; la = la);"
   ]
  },
  {
   "cell_type": "markdown",
   "id": "3ac78e65",
   "metadata": {},
   "source": [
    "## plot_bar"
   ]
  },
  {
   "cell_type": "code",
   "execution_count": null,
   "id": "9efd367f",
   "metadata": {
    "execution": {
     "iopub.execute_input": "2021-10-14T18:31:12.021011Z",
     "iopub.status.busy": "2021-10-14T18:31:12.020530Z",
     "iopub.status.idle": "2021-10-14T18:31:12.216329Z",
     "shell.execute_reply": "2021-10-14T18:31:12.215968Z"
    }
   },
   "outputs": [],
   "source": [
    "FinalFigure.plot_bar([y1, y2], [string.(x1), string.(x2)]; la = la);"
   ]
  },
  {
   "cell_type": "code",
   "execution_count": null,
   "id": "1abb7102",
   "metadata": {
    "execution": {
     "iopub.execute_input": "2021-10-14T18:31:12.218023Z",
     "iopub.status.busy": "2021-10-14T18:31:12.217533Z",
     "iopub.status.idle": "2021-10-14T18:31:12.429839Z",
     "shell.execute_reply": "2021-10-14T18:31:12.429405Z"
    }
   },
   "outputs": [],
   "source": [
    "FinalFigure.plot_bar([y1, y2]; la = la);"
   ]
  },
  {
   "cell_type": "markdown",
   "id": "1ac66c3b",
   "metadata": {},
   "source": [
    "## plot_heat_map"
   ]
  },
  {
   "cell_type": "code",
   "execution_count": null,
   "id": "9d37bab8",
   "metadata": {
    "execution": {
     "iopub.execute_input": "2021-10-14T18:31:12.431837Z",
     "iopub.status.busy": "2021-10-14T18:31:12.431265Z",
     "iopub.status.idle": "2021-10-14T18:31:13.650732Z",
     "shell.execute_reply": "2021-10-14T18:31:13.650336Z"
    }
   },
   "outputs": [],
   "source": [
    "ma = reshape(1:8, (2, 4))"
   ]
  },
  {
   "cell_type": "code",
   "execution_count": null,
   "id": "2df74b02",
   "metadata": {
    "execution": {
     "iopub.execute_input": "2021-10-14T18:31:13.652596Z",
     "iopub.status.busy": "2021-10-14T18:31:13.652102Z",
     "iopub.status.idle": "2021-10-14T18:31:14.158745Z",
     "shell.execute_reply": "2021-10-14T18:31:14.158375Z"
    }
   },
   "outputs": [],
   "source": [
    "FinalFigure.plot(\n",
    "    [heatmap(; z = ma[end:-1:1, :], colorscale = \"Picnic\")],\n",
    "    merge(la, Layout(yaxis_title = \"Row\", xaxis_title = \"Column\")),\n",
    ")\n",
    "\n",
    ";"
   ]
  },
  {
   "cell_type": "markdown",
   "id": "72dec754",
   "metadata": {},
   "source": [
    "## "
   ]
  },
  {
   "cell_type": "markdown",
   "id": "95200fc7",
   "metadata": {},
   "source": [
    "---"
   ]
  },
  {
   "cell_type": "code",
   "execution_count": null,
   "id": "b169202a",
   "metadata": {},
   "outputs": [],
   "source": [
    "rm(TE; recursive = true)\n",
    "\n",
    "println(\"Removed \", TE)"
   ]
  }
 ],
 "metadata": {
  "@webio": {
   "lastCommId": null,
   "lastKernelId": null
  },
  "kernelspec": {
   "display_name": "Julia 1.7.0",
   "language": "julia",
   "name": "julia-1.7"
  },
  "language_info": {
   "file_extension": ".jl",
   "mimetype": "application/julia",
   "name": "julia",
   "version": "1.7.0"
  }
 },
 "nbformat": 4,
 "nbformat_minor": 5
}
