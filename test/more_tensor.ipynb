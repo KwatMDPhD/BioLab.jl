{
 "cells": [
  {
   "cell_type": "code",
   "execution_count": null,
   "id": "ad4fb98a",
   "metadata": {},
   "outputs": [],
   "source": [
    "TE = joinpath(tempdir(), \"TensorExtension.test\", \"\")\n",
    "\n",
    "if isdir(TE)\n",
    "\n",
    "    rm(TE; recursive = true)\n",
    "\n",
    "end\n",
    "\n",
    "mkdir(TE)\n",
    "\n",
    "println(\"Made \", TE)"
   ]
  },
  {
   "cell_type": "code",
   "execution_count": null,
   "id": "34e4701e",
   "metadata": {},
   "outputs": [],
   "source": [
    "using Revise\n",
    "using BenchmarkTools"
   ]
  },
  {
   "cell_type": "markdown",
   "id": "349c228e",
   "metadata": {},
   "source": [
    "---"
   ]
  },
  {
   "cell_type": "code",
   "execution_count": null,
   "id": "b3325ba2-989b-48ae-b530-5d0f64147f9a",
   "metadata": {
    "execution": {
     "iopub.execute_input": "2021-10-14T18:25:54.055222Z",
     "iopub.status.busy": "2021-10-14T18:25:53.342490Z",
     "iopub.status.idle": "2021-10-14T18:26:10.352867Z",
     "shell.execute_reply": "2021-10-14T18:26:10.352370Z"
    }
   },
   "outputs": [],
   "source": [
    "using TensorExtension"
   ]
  },
  {
   "cell_type": "markdown",
   "id": "0a9e78f3-ebf2-4a12-a03a-3f5e70a95f77",
   "metadata": {},
   "source": [
    "## convert"
   ]
  },
  {
   "cell_type": "code",
   "execution_count": null,
   "id": "ec227b79-7a56-4c95-b209-579d1e5a7688",
   "metadata": {
    "execution": {
     "iopub.execute_input": "2021-10-14T18:39:01.455685Z",
     "iopub.status.busy": "2021-10-14T18:38:59.900304Z",
     "iopub.status.idle": "2021-10-14T18:39:03.532678Z",
     "shell.execute_reply": "2021-10-14T18:39:03.533044Z"
    }
   },
   "outputs": [],
   "source": [
    "TensorExtension.convert([-1, 0, 2])"
   ]
  },
  {
   "cell_type": "code",
   "execution_count": null,
   "id": "a2a2e950",
   "metadata": {},
   "outputs": [],
   "source": [
    "TensorExtension.convert([[-1, 0], [1, 2], [3, 4]])"
   ]
  },
  {
   "cell_type": "markdown",
   "id": "4b17626c",
   "metadata": {},
   "source": [
    "## get_extreme"
   ]
  },
  {
   "cell_type": "code",
   "execution_count": null,
   "id": "5c64232e",
   "metadata": {
    "execution": {
     "iopub.execute_input": "2021-10-14T18:39:03.879872Z",
     "iopub.status.busy": "2021-10-14T18:39:03.879101Z",
     "iopub.status.idle": "2021-10-14T18:39:03.967758Z",
     "shell.execute_reply": "2021-10-14T18:39:03.967380Z"
    }
   },
   "outputs": [],
   "source": [
    "ve = TensorExtension.convert([-1, 0, 0, 1, 2])\n",
    "\n",
    "TensorExtension.get_extreme(ve)"
   ]
  },
  {
   "cell_type": "code",
   "execution_count": null,
   "id": "1a6cdf3f",
   "metadata": {
    "execution": {
     "iopub.execute_input": "2021-10-14T18:39:03.969475Z",
     "iopub.status.busy": "2021-10-14T18:39:03.968967Z",
     "iopub.status.idle": "2021-10-14T18:39:04.006890Z",
     "shell.execute_reply": "2021-10-14T18:39:04.006443Z"
    }
   },
   "outputs": [],
   "source": [
    "ve = [-maximum(ve), ve...]\n",
    "\n",
    "TensorExtension.get_extreme(ve)"
   ]
  },
  {
   "cell_type": "markdown",
   "id": "83f148a8",
   "metadata": {},
   "source": [
    "## get_area"
   ]
  },
  {
   "cell_type": "code",
   "execution_count": null,
   "id": "178ec379",
   "metadata": {
    "execution": {
     "iopub.execute_input": "2021-10-14T18:39:03.617617Z",
     "iopub.status.busy": "2021-10-14T18:39:03.617119Z",
     "iopub.status.idle": "2021-10-14T18:39:03.857854Z",
     "shell.execute_reply": "2021-10-14T18:39:03.857465Z"
    }
   },
   "outputs": [],
   "source": [
    "ve = TensorExtension.convert([-1, 0, 1, 2])\n",
    "\n",
    "TensorExtension.get_area(ve)"
   ]
  },
  {
   "cell_type": "code",
   "execution_count": null,
   "id": "0b0a6acf",
   "metadata": {
    "execution": {
     "iopub.execute_input": "2021-10-14T18:39:03.859567Z",
     "iopub.status.busy": "2021-10-14T18:39:03.859060Z",
     "iopub.status.idle": "2021-10-14T18:39:03.877262Z",
     "shell.execute_reply": "2021-10-14T18:39:03.876497Z"
    }
   },
   "outputs": [],
   "source": [
    "ve = TensorExtension.convert([-2, -1, 0, 0, 1, 2])\n",
    "\n",
    "TensorExtension.get_area(ve)"
   ]
  },
  {
   "cell_type": "markdown",
   "id": "db2118bf",
   "metadata": {},
   "source": [
    "## sum_where"
   ]
  },
  {
   "cell_type": "code",
   "execution_count": null,
   "id": "2da92347",
   "metadata": {
    "execution": {
     "iopub.execute_input": "2021-10-14T18:39:05.674968Z",
     "iopub.status.busy": "2021-10-14T18:39:05.674400Z",
     "iopub.status.idle": "2021-10-14T18:39:05.723150Z",
     "shell.execute_reply": "2021-10-14T18:39:05.722701Z"
    }
   },
   "outputs": [],
   "source": [
    "ve = TensorExtension.convert([0, 1, 2, 3])\n",
    "\n",
    "bi_ = TensorExtension.convert([0, 1, 0, 1])\n",
    "\n",
    "TensorExtension.sum_where(ve, bi_)"
   ]
  },
  {
   "cell_type": "markdown",
   "id": "2261bb12",
   "metadata": {},
   "source": [
    "## shift_minimum"
   ]
  },
  {
   "cell_type": "code",
   "execution_count": null,
   "id": "9192de99",
   "metadata": {
    "execution": {
     "iopub.execute_input": "2021-10-14T18:39:05.443096Z",
     "iopub.status.busy": "2021-10-14T18:39:05.442610Z",
     "iopub.status.idle": "2021-10-14T18:39:05.541340Z",
     "shell.execute_reply": "2021-10-14T18:39:05.540915Z"
    }
   },
   "outputs": [],
   "source": [
    "ve = TensorExtension.convert(-3:3)\n",
    "\n",
    "for nu in ve\n",
    "\n",
    "    println(TensorExtension.shift_minimum(ve, nu))\n",
    "\n",
    "end"
   ]
  },
  {
   "cell_type": "code",
   "execution_count": null,
   "id": "d72022be",
   "metadata": {
    "execution": {
     "iopub.execute_input": "2021-10-14T18:39:05.543231Z",
     "iopub.status.busy": "2021-10-14T18:39:05.542665Z",
     "iopub.status.idle": "2021-10-14T18:39:05.672910Z",
     "shell.execute_reply": "2021-10-14T18:39:05.672459Z"
    }
   },
   "outputs": [],
   "source": [
    "TensorExtension.shift_minimum(ve, \"0<\")"
   ]
  },
  {
   "cell_type": "markdown",
   "id": "72451b86-b0f1-4adb-a304-4683ae46a94d",
   "metadata": {},
   "source": [
    "## cumulate_sum_reverse"
   ]
  },
  {
   "cell_type": "code",
   "execution_count": null,
   "id": "10a4d6f0-cfcc-4655-9aaa-9118fb5f77b5",
   "metadata": {
    "execution": {
     "iopub.execute_input": "2021-10-14T18:39:03.534863Z",
     "iopub.status.busy": "2021-10-14T18:39:03.534361Z",
     "iopub.status.idle": "2021-10-14T18:39:03.615860Z",
     "shell.execute_reply": "2021-10-14T18:39:03.615458Z"
    }
   },
   "outputs": [],
   "source": [
    "ve = TensorExtension.convert(1:10)\n",
    "\n",
    "TensorExtension.cumulate_sum_reverse(ve)"
   ]
  },
  {
   "cell_type": "markdown",
   "id": "b4533356",
   "metadata": {},
   "source": [
    "## make_increasing_by_stepping_up!"
   ]
  },
  {
   "cell_type": "markdown",
   "id": "016b6206",
   "metadata": {},
   "source": [
    "## make_increasing_by_stepping_down!"
   ]
  },
  {
   "cell_type": "code",
   "execution_count": null,
   "id": "9e9bcd5b",
   "metadata": {},
   "outputs": [],
   "source": [
    "for ic_ in [[0, 1, 2], [0, 1, 2, 0], [0, 1, 2, 2, 1, 0, 1, 2, 3]]\n",
    "\n",
    "    ic_ = TensorExtension.convert(ic_)\n",
    "\n",
    "    println(TensorExtension.make_increasing_by_stepping_up!(copy(ic_)))\n",
    "\n",
    "    println(TensorExtension.make_increasing_by_stepping_down!(copy(ic_)))\n",
    "\n",
    "end"
   ]
  },
  {
   "cell_type": "markdown",
   "id": "1401bdcc",
   "metadata": {},
   "source": [
    "---"
   ]
  },
  {
   "cell_type": "code",
   "execution_count": null,
   "id": "b169202a",
   "metadata": {},
   "outputs": [],
   "source": [
    "rm(TE; recursive = true)\n",
    "\n",
    "println(\"Removed \", TE)"
   ]
  }
 ],
 "metadata": {
  "@webio": {
   "lastCommId": null,
   "lastKernelId": null
  },
  "kernelspec": {
   "display_name": "Julia 1.7.0",
   "language": "julia",
   "name": "julia-1.7"
  },
  "language_info": {
   "file_extension": ".jl",
   "mimetype": "application/julia",
   "name": "julia",
   "version": "1.7.0"
  }
 },
 "nbformat": 4,
 "nbformat_minor": 5
}
