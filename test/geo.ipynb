{
 "cells": [
  {
   "cell_type": "code",
   "execution_count": null,
   "id": "2f2e3891-39dd-4123-a959-6c56de9fbf0d",
   "metadata": {},
   "outputs": [],
   "source": [
    "using DataFrames\n",
    "\n",
    "using GZip\n",
    "\n",
    "using OnePiece"
   ]
  },
  {
   "cell_type": "code",
   "execution_count": null,
   "id": "ec4b772f-a172-44da-b366-284f3e70ce13",
   "metadata": {},
   "outputs": [],
   "source": [
    "function _pair(bl)\n",
    "\n",
    "    ke_va = Dict()\n",
    "\n",
    "    be = \"_table_begin\\n\"\n",
    "\n",
    "    if contains(bl, be)\n",
    "\n",
    "        pa, ta = split(bl, be)\n",
    "\n",
    "        pa_ = split(pa, '\\n')\n",
    "\n",
    "        ta_ = split(ta, '\\n')[1:(end - 1)]\n",
    "\n",
    "        wh1 = popat!(pa_, length(pa_))\n",
    "\n",
    "        wh2 = popat!(ta_, length(ta_))\n",
    "\n",
    "        if \"$(wh1)_table_end\" != wh2\n",
    "\n",
    "            error()\n",
    "\n",
    "        end\n",
    "\n",
    "        li_ = split.(ta_, '\\t')\n",
    "\n",
    "        da = DataFrame([co => [] for co in popat!(li_, 1)])\n",
    "\n",
    "        for li in li_\n",
    "\n",
    "            push!(da, li)\n",
    "\n",
    "        end\n",
    "\n",
    "        ke_va[\"da\"] = da\n",
    "\n",
    "    else\n",
    "\n",
    "        pa_ = split(bl, '\\n')\n",
    "\n",
    "    end\n",
    "\n",
    "    for li in split(pa, '\\n', keepempty = false)[1:(end - 1)]\n",
    "\n",
    "        ke, va = split(li, \" = \", limit = 2)\n",
    "\n",
    "        ke = lstrip(ke, '!')\n",
    "\n",
    "        id = 2\n",
    "\n",
    "        while haskey(ke_va, ke)\n",
    "\n",
    "            ke = \"$ke.$id\"\n",
    "\n",
    "            id += 1\n",
    "\n",
    "        end\n",
    "\n",
    "        ke_va[ke] = va\n",
    "\n",
    "    end\n",
    "\n",
    "    ke_va\n",
    "\n",
    "end"
   ]
  },
  {
   "cell_type": "code",
   "execution_count": null,
   "id": "35acf1ff-aa4a-48e5-8b7a-5d021c860d12",
   "metadata": {},
   "outputs": [],
   "source": [
    "gs = \"GSE122404\"#\"GSE107011\"\n",
    "\n",
    "di = \"/Users/kwat/Downloads\""
   ]
  },
  {
   "cell_type": "code",
   "execution_count": null,
   "id": "a48fe26a-8169-459b-a8d1-c694fcd99035",
   "metadata": {},
   "outputs": [],
   "source": [
    "na = \"$(gs)_family.soft.gz\"\n",
    "\n",
    "pa = joinpath(di, na)\n",
    "\n",
    "if !ispath(pa)\n",
    "\n",
    "    download(\"ftp://ftp.ncbi.nlm.nih.gov/geo/series/$(gs[1:end-3])nnn/$gs/soft/$na\", pa)\n",
    "\n",
    "end\n",
    "\n",
    "pl_di = Dict()\n",
    "\n",
    "sa_di = Dict()\n",
    "\n",
    "for bl in split(read(GZip.open(pa, \"r\"), String), '^')[2:end]\n",
    "\n",
    "    he, bl = split(bl, '\\n', limit = 2)\n",
    "\n",
    "    ty = split(he, \" = \")[1]\n",
    "\n",
    "    if !(ty in [\"PLATFORM\", \"SAMPLE\"])\n",
    "\n",
    "        println(\"Skipping $ty:\\n$bl\")\n",
    "\n",
    "        continue\n",
    "\n",
    "    end\n",
    "\n",
    "    ke_va = _pair(bl)\n",
    "\n",
    "    if ty == \"PLATFORM\"\n",
    "\n",
    "        pl_di[ke_va[\"Platform_geo_accession\"]] = ke_va\n",
    "\n",
    "    elseif ty == \"SAMPLE\"\n",
    "\n",
    "        sa_di[ke_va[\"Sample_title\"]] = ke_va\n",
    "\n",
    "    end\n",
    "\n",
    "end"
   ]
  },
  {
   "cell_type": "code",
   "execution_count": null,
   "id": "6b5858b7-7ae6-4bc6-8d9d-50d4075cf0d3",
   "metadata": {},
   "outputs": [],
   "source": [
    "sa_da = Dict(sa => pop!(di, \"da\") for (sa, di) in sa_di)"
   ]
  },
  {
   "cell_type": "code",
   "execution_count": null,
   "id": "10456993-3869-4c0f-ba71-b94757b47b82",
   "metadata": {},
   "outputs": [],
   "source": [
    "fe_x_sa_x_an = DataFrame([sa => collect(values(di)) for (sa, di) in sa_di])\n",
    "\n",
    "insertcols!(fe_x_sa_x_an, 1, \"Feature\" => collect(keys(collect(values(sa_di))[1])))"
   ]
  },
  {
   "cell_type": "code",
   "execution_count": null,
   "id": "43b37a14-5027-47ab-9ebd-921cbd62dcd8",
   "metadata": {},
   "outputs": [],
   "source": [
    "fe_x_sa_x_nu = DataFrame([\n",
    "    sa => parse.(Float64, da[:, findfirst(names(da) .== \"VALUE\")]) for (sa, da) in sa_da\n",
    "])\n",
    "\n",
    "insertcols!(fe_x_sa_x_nu, 1, \"Feature\" => collect(values(sa_da))[1][:, 1])"
   ]
  },
  {
   "cell_type": "code",
   "execution_count": null,
   "id": "7322caa4-155f-4041-8d05-892a9e6bafa1",
   "metadata": {},
   "outputs": [],
   "source": [
    "fe_ = fe_x_sa_x_nu[!, \"Feature\"]"
   ]
  },
  {
   "cell_type": "code",
   "execution_count": null,
   "id": "ac5ad892-f16d-4bbf-bad5-f224d9ad6473",
   "metadata": {},
   "outputs": [],
   "source": [
    "pl = pl_di[sa_di[\"D458_Resistant_DMSO_1\"][\"Sample_platform_id\"]][\"da\"]"
   ]
  }
 ],
 "metadata": {
  "kernelspec": {
   "display_name": "Julia 1.8.0",
   "language": "julia",
   "name": "julia-1.8"
  },
  "language_info": {
   "file_extension": ".jl",
   "mimetype": "application/julia",
   "name": "julia",
   "version": "1.8.0"
  }
 },
 "nbformat": 4,
 "nbformat_minor": 5
}
