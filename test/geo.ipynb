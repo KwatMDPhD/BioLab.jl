{
 "cells": [
  {
   "cell_type": "code",
   "execution_count": null,
   "id": "0787e183-f1ec-441f-a9e3-1babd5af8e40",
   "metadata": {},
   "outputs": [],
   "source": [
    "using Revise\n",
    "\n",
    "using DataFrames"
   ]
  },
  {
   "cell_type": "code",
   "execution_count": null,
   "id": "2f2e3891-39dd-4123-a959-6c56de9fbf0d",
   "metadata": {},
   "outputs": [],
   "source": [
    "using OnePiece"
   ]
  },
  {
   "cell_type": "markdown",
   "id": "6d8209a8-8baf-4d49-8978-00db79ba5bee",
   "metadata": {},
   "source": [
    "## get"
   ]
  },
  {
   "cell_type": "code",
   "execution_count": null,
   "id": "0efc1adf-026b-42fe-82c4-06c6959f4da6",
   "metadata": {},
   "outputs": [],
   "source": [
    "gs = \"GSE122404\"\n",
    "\n",
    "ty_bl = OnePiece.geo.get(gs)"
   ]
  },
  {
   "cell_type": "markdown",
   "id": "610a0151-5468-4fcb-b342-837a5dd0a42b",
   "metadata": {},
   "source": [
    "## tabulate"
   ]
  },
  {
   "cell_type": "code",
   "execution_count": null,
   "id": "35acf1ff-aa4a-48e5-8b7a-5d021c860d12",
   "metadata": {},
   "outputs": [],
   "source": [
    "an, nu = OnePiece.geo.tabulate(ty_bl)"
   ]
  },
  {
   "cell_type": "markdown",
   "id": "24e6340b-e3a0-48d4-b2b3-ba4fd099dfcb",
   "metadata": {},
   "source": [
    "## Break"
   ]
  },
  {
   "cell_type": "code",
   "execution_count": null,
   "id": "c4eb3260-41b8-45e4-b5a1-b984fde6b05e",
   "metadata": {},
   "outputs": [],
   "source": [
    "gs = \"GSE13534\""
   ]
  }
 ],
 "metadata": {
  "kernelspec": {
   "display_name": "Julia 1.8.0",
   "language": "julia",
   "name": "julia-1.8"
  },
  "language_info": {
   "file_extension": ".jl",
   "mimetype": "application/julia",
   "name": "julia",
   "version": "1.8.0"
  }
 },
 "nbformat": 4,
 "nbformat_minor": 5
}
