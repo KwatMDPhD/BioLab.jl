{
 "cells": [
  {
   "cell_type": "code",
   "execution_count": null,
   "id": "0787e183-f1ec-441f-a9e3-1babd5af8e40",
   "metadata": {},
   "outputs": [],
   "source": [
    "using Revise"
   ]
  },
  {
   "cell_type": "code",
   "execution_count": null,
   "id": "2f2e3891-39dd-4123-a959-6c56de9fbf0d",
   "metadata": {},
   "outputs": [],
   "source": [
    "using OnePiece"
   ]
  },
  {
   "cell_type": "markdown",
   "id": "6d8209a8-8baf-4d49-8978-00db79ba5bee",
   "metadata": {},
   "source": [
    "## get"
   ]
  },
  {
   "cell_type": "markdown",
   "id": "610a0151-5468-4fcb-b342-837a5dd0a42b",
   "metadata": {},
   "source": [
    "## tabulate"
   ]
  },
  {
   "cell_type": "code",
   "execution_count": null,
   "id": "35acf1ff-aa4a-48e5-8b7a-5d021c860d12",
   "metadata": {},
   "outputs": [],
   "source": [
    "ty_bl = nothing\n",
    "\n",
    "for gs in [\"GSE122404\", \"GSE13534\"]\n",
    "\n",
    "    ty_bl = OnePiece.geo.get(gs)\n",
    "\n",
    "    an, nu = OnePiece.geo.tabulate(ty_bl)\n",
    "\n",
    "end"
   ]
  }
 ],
 "metadata": {
  "kernelspec": {
   "display_name": "Julia 1.8.0",
   "language": "julia",
   "name": "julia-1.8"
  },
  "language_info": {
   "file_extension": ".jl",
   "mimetype": "application/julia",
   "name": "julia",
   "version": "1.8.0"
  }
 },
 "nbformat": 4,
 "nbformat_minor": 5
}
