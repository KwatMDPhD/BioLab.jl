{
 "cells": [
  {
   "cell_type": "code",
   "execution_count": 1,
   "id": "017464da",
   "metadata": {
    "execution": {
     "iopub.execute_input": "2022-02-10T19:18:03.212503Z",
     "iopub.status.busy": "2022-02-10T19:18:02.774710Z",
     "iopub.status.idle": "2022-02-10T19:18:04.072889Z",
     "shell.execute_reply": "2022-02-10T19:18:04.072316Z"
    }
   },
   "outputs": [
    {
     "data": {
      "text/plain": [
       "\"/var/folders/mg/30npdf0s1z36txb2qvgylrzh0000gn/T/OnePiece.test\""
      ]
     },
     "execution_count": 1,
     "metadata": {},
     "output_type": "execute_result"
    }
   ],
   "source": [
    "TE = joinpath(tempdir(), \"OnePiece.test\")\n",
    "\n",
    "mkpath(TE)"
   ]
  },
  {
   "cell_type": "code",
   "execution_count": 2,
   "id": "34e4701e",
   "metadata": {
    "execution": {
     "iopub.execute_input": "2022-02-10T19:18:04.074952Z",
     "iopub.status.busy": "2022-02-10T19:18:04.074274Z",
     "iopub.status.idle": "2022-02-10T19:18:08.715284Z",
     "shell.execute_reply": "2022-02-10T19:18:08.714779Z"
    }
   },
   "outputs": [],
   "source": [
    "#using Revise\n",
    "using BenchmarkTools\n",
    "\n",
    "using OnePiece"
   ]
  },
  {
   "cell_type": "markdown",
   "id": "d8129c93",
   "metadata": {},
   "source": [
    "## get_entropy"
   ]
  },
  {
   "cell_type": "code",
   "execution_count": 3,
   "id": "2ed7bdd2",
   "metadata": {
    "execution": {
     "iopub.execute_input": "2022-02-10T19:18:09.155309Z",
     "iopub.status.busy": "2022-02-10T19:18:08.716653Z",
     "iopub.status.idle": "2022-02-10T19:18:09.481597Z",
     "shell.execute_reply": "2022-02-10T19:18:09.481154Z"
    }
   },
   "outputs": [
    {
     "data": {
      "text/plain": [
       "get_entropy (generic function with 1 method)"
      ]
     },
     "execution_count": 3,
     "metadata": {},
     "output_type": "execute_result"
    }
   ],
   "source": [
    "OnePiece.informatics.information.get_entropy"
   ]
  },
  {
   "cell_type": "markdown",
   "id": "7b4bdb29",
   "metadata": {},
   "source": [
    "## get_signal_to_noise_ratio"
   ]
  },
  {
   "cell_type": "code",
   "execution_count": 4,
   "id": "0d0a78e1",
   "metadata": {
    "execution": {
     "iopub.execute_input": "2022-02-10T19:18:09.483576Z",
     "iopub.status.busy": "2022-02-10T19:18:09.482925Z",
     "iopub.status.idle": "2022-02-10T19:18:09.794951Z",
     "shell.execute_reply": "2022-02-10T19:18:09.794490Z"
    }
   },
   "outputs": [
    {
     "data": {
      "text/plain": [
       "2.004127971368055"
      ]
     },
     "execution_count": 4,
     "metadata": {},
     "output_type": "execute_result"
    }
   ],
   "source": [
    "ve1 = collect(1:3)\n",
    "\n",
    "ve2 = collect(10:10:30)\n",
    "\n",
    "OnePiece.informatics.information.get_signal_to_noise_ratio(ve1, ve2)"
   ]
  },
  {
   "cell_type": "markdown",
   "id": "0f0e8de5",
   "metadata": {},
   "source": [
    "## get_kolmogorov_smirnov_statistic"
   ]
  },
  {
   "cell_type": "markdown",
   "id": "832c520e",
   "metadata": {},
   "source": [
    "## get_kullback_leibler_divergence"
   ]
  },
  {
   "cell_type": "markdown",
   "id": "1ce1afa5",
   "metadata": {},
   "source": [
    "## get_jensen_shannon_divergence"
   ]
  },
  {
   "cell_type": "markdown",
   "id": "d523618a",
   "metadata": {},
   "source": [
    "## get_kwat_pablo_divergence"
   ]
  },
  {
   "cell_type": "markdown",
   "id": "5ac4c6b8",
   "metadata": {},
   "source": [
    "## get_thermodynamic_breadth"
   ]
  },
  {
   "cell_type": "markdown",
   "id": "b292cc2a",
   "metadata": {},
   "source": [
    "## get_thermodynamic_depth"
   ]
  },
  {
   "cell_type": "code",
   "execution_count": 5,
   "id": "2cb26e91",
   "metadata": {
    "execution": {
     "iopub.execute_input": "2022-02-10T19:18:09.797542Z",
     "iopub.status.busy": "2022-02-10T19:18:09.796869Z",
     "iopub.status.idle": "2022-02-10T19:18:09.872743Z",
     "shell.execute_reply": "2022-02-10T19:18:09.872282Z"
    }
   },
   "outputs": [
    {
     "data": {
      "text/plain": [
       "call_all (generic function with 1 method)"
      ]
     },
     "execution_count": 5,
     "metadata": {},
     "output_type": "execute_result"
    }
   ],
   "source": [
    "function call_all(ve1, ve2, ve)\n",
    "\n",
    "    return vcat(\n",
    "        [\n",
    "            fu(ve1, ve2) for fu in [\n",
    "                OnePiece.informatics.information.get_kolmogorov_smirnov_statistic,\n",
    "                OnePiece.informatics.information.get_kullback_leibler_divergence,\n",
    "                OnePiece.informatics.information.get_thermodynamic_breadth,\n",
    "                OnePiece.informatics.information.get_thermodynamic_depth,\n",
    "            ]\n",
    "        ],\n",
    "        [\n",
    "            fu(ve1, ve2, ve) for fu in [\n",
    "                OnePiece.informatics.information.get_jensen_shannon_divergence,\n",
    "                OnePiece.informatics.information.get_kwat_pablo_divergence,\n",
    "            ]\n",
    "        ],\n",
    "    )\n",
    "\n",
    "end"
   ]
  },
  {
   "cell_type": "code",
   "execution_count": 6,
   "id": "29c066e9",
   "metadata": {
    "execution": {
     "iopub.execute_input": "2022-02-10T19:18:09.874628Z",
     "iopub.status.busy": "2022-02-10T19:18:09.873975Z",
     "iopub.status.idle": "2022-02-10T19:18:10.866997Z",
     "shell.execute_reply": "2022-02-10T19:18:10.866545Z"
    }
   },
   "outputs": [
    {
     "data": {
      "text/plain": [
       "6-element Vector{String}:\n",
       " \"kolmogorov_smirnov_statistic\"\n",
       " \"kullback_leibler_divergence\"\n",
       " \"thermodynamic_breadth\"\n",
       " \"thermodynamic_depth\"\n",
       " \"jensen_shannon_divergence\"\n",
       " \"kwat_pablo_divergence\""
      ]
     },
     "execution_count": 6,
     "metadata": {},
     "output_type": "execute_result"
    }
   ],
   "source": [
    "name_ = [\n",
    "    \"kolmogorov_smirnov_statistic\",\n",
    "    \"kullback_leibler_divergence\",\n",
    "    \"thermodynamic_breadth\",\n",
    "    \"thermodynamic_depth\",\n",
    "    \"jensen_shannon_divergence\",\n",
    "    \"kwat_pablo_divergence\",\n",
    "]"
   ]
  },
  {
   "cell_type": "code",
   "execution_count": 7,
   "id": "7ccdd712",
   "metadata": {
    "execution": {
     "iopub.execute_input": "2022-02-10T19:18:10.868908Z",
     "iopub.status.busy": "2022-02-10T19:18:10.868316Z",
     "iopub.status.idle": "2022-02-10T19:18:12.090485Z",
     "shell.execute_reply": "2022-02-10T19:18:12.089978Z"
    }
   },
   "outputs": [],
   "source": [
    "for (ve1, ve2) in [([1, 1, 1], [1, 1, 1]), ([1, 2, 3], [10, 20, 30])]\n",
    "\n",
    "    ve = 0.2 * ve1 + 0.8 * ve2\n",
    "\n",
    "    OnePiece.figure.plot_x_y([ve1, ve2])\n",
    "\n",
    "    OnePiece.figure.plot_x_y(call_all(ve1, ve2, ve); name_ = name_)\n",
    "\n",
    "end"
   ]
  },
  {
   "cell_type": "code",
   "execution_count": 8,
   "id": "88cbc90a",
   "metadata": {
    "execution": {
     "iopub.execute_input": "2022-02-10T19:18:12.092577Z",
     "iopub.status.busy": "2022-02-10T19:18:12.091802Z",
     "iopub.status.idle": "2022-02-10T19:18:12.439811Z",
     "shell.execute_reply": "2022-02-10T19:18:12.439358Z"
    }
   },
   "outputs": [],
   "source": [
    "n_po = 100\n",
    "\n",
    "ve1 = OnePiece.informatics.tensor.shift_minimum(randn(n_po), \"0<\")\n",
    "\n",
    "ve1s = ve1 .+ 1\n",
    "\n",
    "ve2 = OnePiece.informatics.tensor.shift_minimum(randn(n_po), \"0<\")\n",
    "\n",
    ";"
   ]
  },
  {
   "cell_type": "code",
   "execution_count": 9,
   "id": "5964f021",
   "metadata": {
    "execution": {
     "iopub.execute_input": "2022-02-10T19:18:12.441716Z",
     "iopub.status.busy": "2022-02-10T19:18:12.441012Z",
     "iopub.status.idle": "2022-02-10T19:18:13.525641Z",
     "shell.execute_reply": "2022-02-10T19:18:13.525159Z"
    }
   },
   "outputs": [],
   "source": [
    "using KernelDensity"
   ]
  },
  {
   "cell_type": "code",
   "execution_count": 10,
   "id": "e020a0e1",
   "metadata": {
    "execution": {
     "iopub.execute_input": "2022-02-10T19:18:13.527858Z",
     "iopub.status.busy": "2022-02-10T19:18:13.527184Z",
     "iopub.status.idle": "2022-02-10T19:18:16.898147Z",
     "shell.execute_reply": "2022-02-10T19:18:16.896914Z"
    }
   },
   "outputs": [],
   "source": [
    "for (ve1, ve2) in [(ve1, ve1), (ve1, ve1s), (ve1, ve2)]\n",
    "\n",
    "    un1 = kde(ve1)\n",
    "\n",
    "    un2 = kde(ve2)\n",
    "\n",
    "    de1 = un1.density\n",
    "\n",
    "    de2 = un2.density\n",
    "\n",
    "    de3 = 0.2 * de1 + 0.8 * de2\n",
    "\n",
    "    display(OnePiece.figure.plot_x_y(\n",
    "        [de1, de2],\n",
    "        [collect(un1.x), collect(un2.x)];\n",
    "        la = Dict(\"yaxis\"=>Dict(\"title\" => \"Density\"), \"xaxis\"=>Dict(\"title\" => \"Grid\")),\n",
    "    ))\n",
    "\n",
    "    display(OnePiece.figure.plot_x_y(call_all(de1, de2, de3); name_ = name_))\n",
    "\n",
    "end"
   ]
  },
  {
   "cell_type": "markdown",
   "id": "c70b0baa",
   "metadata": {},
   "source": [
    "## get_mutual_information"
   ]
  },
  {
   "cell_type": "markdown",
   "id": "8461b7b1",
   "metadata": {},
   "source": [
    "## get_information_coefficient"
   ]
  },
  {
   "cell_type": "code",
   "execution_count": 11,
   "id": "c5166563",
   "metadata": {
    "execution": {
     "iopub.execute_input": "2022-02-10T19:18:16.902066Z",
     "iopub.status.busy": "2022-02-10T19:18:16.901260Z",
     "iopub.status.idle": "2022-02-10T19:18:16.904878Z",
     "shell.execute_reply": "2022-02-10T19:18:16.904052Z"
    }
   },
   "outputs": [],
   "source": [
    "ve1 = collect(0:10)\n",
    "\n",
    "ve2 = collect(0:10:100)\n",
    "\n",
    ";"
   ]
  },
  {
   "cell_type": "code",
   "execution_count": 12,
   "id": "5925b5e8",
   "metadata": {
    "execution": {
     "iopub.execute_input": "2022-02-10T19:18:16.907071Z",
     "iopub.status.busy": "2022-02-10T19:18:16.906342Z",
     "iopub.status.idle": "2022-02-10T19:18:17.905065Z",
     "shell.execute_reply": "2022-02-10T19:18:17.904605Z"
    }
   },
   "outputs": [
    {
     "data": {
      "text/plain": [
       "BivariateKDE{StepRangeLen{Float64, Base.TwicePrecision{Float64}, Base.TwicePrecision{Float64}, Int64}, StepRangeLen{Float64, Base.TwicePrecision{Float64}, Base.TwicePrecision{Float64}, Int64}}(-7.391291089171839:3.540368882620525:17.391291089171837, -73.9129108917184:35.40368882620526:173.9129108917184, [6.064522094667683e-7 0.0 … 1.7806081771399898e-6 0.0; 0.0 2.6681358055976772e-5 … 0.0 1.7806081771400008e-6; … ; 1.780608177139972e-6 0.0 … 2.6681358055976772e-5 0.0; 0.0 1.780608177139973e-6 … 0.0 6.064522094668174e-7])"
      ]
     },
     "execution_count": 12,
     "metadata": {},
     "output_type": "execute_result"
    }
   ],
   "source": [
    "bi = kde((ve1, ve2); npoints = (8, 8))"
   ]
  },
  {
   "cell_type": "code",
   "execution_count": 13,
   "id": "417bbe4f",
   "metadata": {
    "execution": {
     "iopub.execute_input": "2022-02-10T19:18:17.907434Z",
     "iopub.status.busy": "2022-02-10T19:18:17.906791Z",
     "iopub.status.idle": "2022-02-10T19:18:18.347501Z",
     "shell.execute_reply": "2022-02-10T19:18:18.347033Z"
    }
   },
   "outputs": [
    {
     "data": {
      "text/plain": [
       "8-element Vector{Float64}:\n",
       " -73.9129108917184\n",
       " -38.509222065513136\n",
       "  -3.1055332393078805\n",
       "  32.29815558689738\n",
       "  67.70184441310263\n",
       " 103.10553323930789\n",
       " 138.50922206551314\n",
       " 173.9129108917184"
      ]
     },
     "execution_count": 13,
     "metadata": {},
     "output_type": "execute_result"
    }
   ],
   "source": [
    "y = collect(bi.y)"
   ]
  },
  {
   "cell_type": "code",
   "execution_count": 14,
   "id": "03012e4f",
   "metadata": {
    "execution": {
     "iopub.execute_input": "2022-02-10T19:18:18.349348Z",
     "iopub.status.busy": "2022-02-10T19:18:18.348775Z",
     "iopub.status.idle": "2022-02-10T19:18:18.351700Z",
     "shell.execute_reply": "2022-02-10T19:18:18.351132Z"
    }
   },
   "outputs": [
    {
     "data": {
      "text/plain": [
       "8-element Vector{Float64}:\n",
       " -7.391291089171839\n",
       " -3.8509222065513136\n",
       " -0.3105533239307885\n",
       "  3.2298155586897366\n",
       "  6.770184441310262\n",
       " 10.310553323930787\n",
       " 13.850922206551312\n",
       " 17.391291089171837"
      ]
     },
     "execution_count": 14,
     "metadata": {},
     "output_type": "execute_result"
    }
   ],
   "source": [
    "x = collect(bi.x)"
   ]
  },
  {
   "cell_type": "code",
   "execution_count": 15,
   "id": "0c396852",
   "metadata": {
    "execution": {
     "iopub.execute_input": "2022-02-10T19:18:18.353499Z",
     "iopub.status.busy": "2022-02-10T19:18:18.352913Z",
     "iopub.status.idle": "2022-02-10T19:18:18.678105Z",
     "shell.execute_reply": "2022-02-10T19:18:18.677659Z"
    }
   },
   "outputs": [
    {
     "data": {
      "text/plain": [
       "8×8 Matrix{Float64}:\n",
       " 6.06452e-7  0.0          0.0          …  1.78061e-6   0.0\n",
       " 0.0         2.66814e-5   0.000116532     0.0          1.78061e-6\n",
       " 0.0         0.000116532  0.000609114     0.0          3.68623e-6\n",
       " 1.46668e-6  5.9355e-5    0.000533644     8.97989e-6   0.0\n",
       " 0.0         8.97989e-6   0.00011461      5.9355e-5    1.46668e-6\n",
       " 3.68623e-6  0.0          7.15252e-6   …  0.000116532  0.0\n",
       " 1.78061e-6  0.0          0.0             2.66814e-5   0.0\n",
       " 0.0         1.78061e-6   3.68623e-6      0.0          6.06452e-7"
      ]
     },
     "execution_count": 15,
     "metadata": {},
     "output_type": "execute_result"
    }
   ],
   "source": [
    "z = bi.density"
   ]
  },
  {
   "cell_type": "code",
   "execution_count": 16,
   "id": "0e87ca93",
   "metadata": {
    "execution": {
     "iopub.execute_input": "2022-02-10T19:18:18.679896Z",
     "iopub.status.busy": "2022-02-10T19:18:18.679330Z",
     "iopub.status.idle": "2022-02-10T19:18:19.636699Z",
     "shell.execute_reply": "2022-02-10T19:18:19.636249Z"
    }
   },
   "outputs": [
    {
     "data": {
      "text/plain": [
       "Process(`\u001b[4mopen\u001b[24m \u001b[4m/Users/kwat/.julia/scratchspaces/ec354790-cf28-43e8-bb59-b484409b7bad/CobWeb/index.html\u001b[24m`, ProcessRunning)"
      ]
     },
     "execution_count": 16,
     "metadata": {},
     "output_type": "execute_result"
    }
   ],
   "source": [
    "display(OnePiece.figure.plot_heat_map(z))"
   ]
  }
 ],
 "metadata": {
  "@webio": {
   "lastCommId": null,
   "lastKernelId": null
  },
  "kernelspec": {
   "display_name": "Julia 1.7.2",
   "language": "julia",
   "name": "julia-1.7"
  },
  "language_info": {
   "file_extension": ".jl",
   "mimetype": "application/julia",
   "name": "julia",
   "version": "1.7.2"
  }
 },
 "nbformat": 4,
 "nbformat_minor": 5
}
