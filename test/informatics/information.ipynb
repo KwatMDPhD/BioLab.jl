{
 "cells": [
  {
   "cell_type": "code",
   "execution_count": null,
   "id": "017464da",
   "metadata": {
    "execution": {
     "iopub.execute_input": "2022-02-13T22:25:05.495819Z",
     "iopub.status.busy": "2022-02-13T22:25:05.137243Z",
     "iopub.status.idle": "2022-02-13T22:25:05.697270Z",
     "shell.execute_reply": "2022-02-13T22:25:05.696766Z"
    }
   },
   "outputs": [],
   "source": [
    "TE = joinpath(tempdir(), \"OnePiece.test\")\n",
    "\n",
    "if isdir(TE)\n",
    "\n",
    "    rm(TE, recursive = true)\n",
    "\n",
    "    println(\"Removed \", TE, \".\")\n",
    "\n",
    "end\n",
    "\n",
    "mkdir(TE)\n",
    "\n",
    "println(\"Made \", TE, \".\")"
   ]
  },
  {
   "cell_type": "code",
   "execution_count": null,
   "id": "34e4701e",
   "metadata": {
    "execution": {
     "iopub.execute_input": "2022-02-13T22:25:05.699236Z",
     "iopub.status.busy": "2022-02-13T22:25:05.698736Z",
     "iopub.status.idle": "2022-02-13T22:25:10.074106Z",
     "shell.execute_reply": "2022-02-13T22:25:10.073649Z"
    }
   },
   "outputs": [],
   "source": [
    "using OnePiece"
   ]
  },
  {
   "cell_type": "markdown",
   "id": "b92a3da9",
   "metadata": {},
   "source": [
    "---"
   ]
  },
  {
   "cell_type": "markdown",
   "id": "d8129c93",
   "metadata": {},
   "source": [
    "## get_entropy"
   ]
  },
  {
   "cell_type": "code",
   "execution_count": null,
   "id": "2ed7bdd2",
   "metadata": {
    "execution": {
     "iopub.execute_input": "2022-02-13T22:25:10.398888Z",
     "iopub.status.busy": "2022-02-13T22:25:10.075471Z",
     "iopub.status.idle": "2022-02-13T22:25:10.821288Z",
     "shell.execute_reply": "2022-02-13T22:25:10.820888Z"
    }
   },
   "outputs": [],
   "source": [
    "OnePiece.informatics.information.get_entropy"
   ]
  },
  {
   "cell_type": "markdown",
   "id": "7b4bdb29",
   "metadata": {},
   "source": [
    "## get_signal_to_noise_ratio"
   ]
  },
  {
   "cell_type": "code",
   "execution_count": null,
   "id": "0d0a78e1",
   "metadata": {
    "execution": {
     "iopub.execute_input": "2022-02-13T22:25:10.823322Z",
     "iopub.status.busy": "2022-02-13T22:25:10.822713Z",
     "iopub.status.idle": "2022-02-13T22:25:11.121650Z",
     "shell.execute_reply": "2022-02-13T22:25:11.121198Z"
    }
   },
   "outputs": [],
   "source": [
    "ve1 = collect(1:3)\n",
    "\n",
    "ve2 = collect(10:10:30)\n",
    "\n",
    "OnePiece.informatics.information.get_signal_to_noise_ratio(ve1, ve2)"
   ]
  },
  {
   "cell_type": "markdown",
   "id": "0f0e8de5",
   "metadata": {},
   "source": [
    "## get_kolmogorov_smirnov_statistic"
   ]
  },
  {
   "cell_type": "markdown",
   "id": "832c520e",
   "metadata": {},
   "source": [
    "## get_kullback_leibler_divergence"
   ]
  },
  {
   "cell_type": "markdown",
   "id": "1ce1afa5",
   "metadata": {},
   "source": [
    "## get_jensen_shannon_divergence"
   ]
  },
  {
   "cell_type": "markdown",
   "id": "d523618a",
   "metadata": {},
   "source": [
    "## get_kwat_pablo_divergence"
   ]
  },
  {
   "cell_type": "markdown",
   "id": "5ac4c6b8",
   "metadata": {},
   "source": [
    "## get_thermodynamic_breadth"
   ]
  },
  {
   "cell_type": "markdown",
   "id": "b292cc2a",
   "metadata": {},
   "source": [
    "## get_thermodynamic_depth"
   ]
  },
  {
   "cell_type": "code",
   "execution_count": null,
   "id": "2cb26e91",
   "metadata": {
    "execution": {
     "iopub.execute_input": "2022-02-13T22:25:11.124459Z",
     "iopub.status.busy": "2022-02-13T22:25:11.123834Z",
     "iopub.status.idle": "2022-02-13T22:25:11.192157Z",
     "shell.execute_reply": "2022-02-13T22:25:11.191772Z"
    }
   },
   "outputs": [],
   "source": [
    "function call_all(ve1, ve2, ve)\n",
    "\n",
    "    return vcat(\n",
    "        [\n",
    "            fu(ve1, ve2) for fu in [\n",
    "                OnePiece.informatics.information.get_kolmogorov_smirnov_statistic,\n",
    "                OnePiece.informatics.information.get_kullback_leibler_divergence,\n",
    "                OnePiece.informatics.information.get_thermodynamic_breadth,\n",
    "                OnePiece.informatics.information.get_thermodynamic_depth,\n",
    "            ]\n",
    "        ],\n",
    "        [\n",
    "            fu(ve1, ve2, ve) for fu in [\n",
    "                OnePiece.informatics.information.get_jensen_shannon_divergence,\n",
    "                OnePiece.informatics.information.get_kwat_pablo_divergence,\n",
    "            ]\n",
    "        ],\n",
    "    )\n",
    "\n",
    "end"
   ]
  },
  {
   "cell_type": "code",
   "execution_count": null,
   "id": "29c066e9",
   "metadata": {
    "execution": {
     "iopub.execute_input": "2022-02-13T22:25:11.194380Z",
     "iopub.status.busy": "2022-02-13T22:25:11.193643Z",
     "iopub.status.idle": "2022-02-13T22:25:12.249655Z",
     "shell.execute_reply": "2022-02-13T22:25:12.249264Z"
    }
   },
   "outputs": [],
   "source": [
    "name_ = [\n",
    "    \"kolmogorov_smirnov_statistic\",\n",
    "    \"kullback_leibler_divergence\",\n",
    "    \"thermodynamic_breadth\",\n",
    "    \"thermodynamic_depth\",\n",
    "    \"jensen_shannon_divergence\",\n",
    "    \"kwat_pablo_divergence\",\n",
    "]"
   ]
  },
  {
   "cell_type": "code",
   "execution_count": null,
   "id": "7ccdd712",
   "metadata": {
    "execution": {
     "iopub.execute_input": "2022-02-13T22:25:12.251452Z",
     "iopub.status.busy": "2022-02-13T22:25:12.250940Z",
     "iopub.status.idle": "2022-02-13T22:25:13.393743Z",
     "shell.execute_reply": "2022-02-13T22:25:13.393306Z"
    }
   },
   "outputs": [],
   "source": [
    "for (ve1, ve2) in [([1, 1, 1], [1, 1, 1]), ([1, 2, 3], [10, 20, 30])]\n",
    "\n",
    "    ve = 0.2 * ve1 + 0.8 * ve2\n",
    "\n",
    "    OnePiece.figure.plot_x_y([ve1, ve2])\n",
    "\n",
    "    OnePiece.figure.plot_x_y(call_all(ve1, ve2, ve); name_ = name_)\n",
    "\n",
    "end"
   ]
  },
  {
   "cell_type": "code",
   "execution_count": null,
   "id": "88cbc90a",
   "metadata": {
    "execution": {
     "iopub.execute_input": "2022-02-13T22:25:13.396362Z",
     "iopub.status.busy": "2022-02-13T22:25:13.395610Z",
     "iopub.status.idle": "2022-02-13T22:25:13.724132Z",
     "shell.execute_reply": "2022-02-13T22:25:13.723691Z"
    }
   },
   "outputs": [],
   "source": [
    "n_po = 100\n",
    "\n",
    "ve1 = OnePiece.informatics.tensor.shift_minimum(randn(n_po), \"0<\")\n",
    "\n",
    "ve1s = ve1 .+ 1\n",
    "\n",
    "ve2 = OnePiece.informatics.tensor.shift_minimum(randn(n_po), \"0<\")\n",
    "\n",
    ";"
   ]
  },
  {
   "cell_type": "code",
   "execution_count": null,
   "id": "5964f021",
   "metadata": {
    "execution": {
     "iopub.execute_input": "2022-02-13T22:25:13.726087Z",
     "iopub.status.busy": "2022-02-13T22:25:13.725582Z",
     "iopub.status.idle": "2022-02-13T22:25:14.702864Z",
     "shell.execute_reply": "2022-02-13T22:25:14.702486Z"
    }
   },
   "outputs": [],
   "source": [
    "using KernelDensity"
   ]
  },
  {
   "cell_type": "code",
   "execution_count": null,
   "id": "e020a0e1",
   "metadata": {
    "execution": {
     "iopub.execute_input": "2022-02-13T22:25:14.704773Z",
     "iopub.status.busy": "2022-02-13T22:25:14.704268Z",
     "iopub.status.idle": "2022-02-13T22:25:17.851101Z",
     "shell.execute_reply": "2022-02-13T22:25:17.849959Z"
    }
   },
   "outputs": [],
   "source": [
    "for (ve1, ve2) in [(ve1, ve1), (ve1, ve1s), (ve1, ve2)]\n",
    "\n",
    "    un1 = kde(ve1)\n",
    "\n",
    "    un2 = kde(ve2)\n",
    "\n",
    "    de1 = un1.density\n",
    "\n",
    "    de2 = un2.density\n",
    "\n",
    "    de3 = 0.2 * de1 + 0.8 * de2\n",
    "\n",
    "    display(\n",
    "        OnePiece.figure.plot_x_y(\n",
    "            [de1, de2],\n",
    "            [collect(un1.x), collect(un2.x)];\n",
    "            la = Dict(\"yaxis\" => Dict(\"title\" => \"Density\"), \"xaxis\" => Dict(\"title\" => \"Grid\")),\n",
    "        ),\n",
    "    )\n",
    "\n",
    "    display(OnePiece.figure.plot_x_y(call_all(de1, de2, de3); name_ = name_))\n",
    "\n",
    "end"
   ]
  },
  {
   "cell_type": "markdown",
   "id": "c70b0baa",
   "metadata": {},
   "source": [
    "## get_mutual_information"
   ]
  },
  {
   "cell_type": "markdown",
   "id": "8461b7b1",
   "metadata": {},
   "source": [
    "## get_information_coefficient"
   ]
  },
  {
   "cell_type": "code",
   "execution_count": null,
   "id": "c5166563",
   "metadata": {
    "execution": {
     "iopub.execute_input": "2022-02-13T22:25:17.854251Z",
     "iopub.status.busy": "2022-02-13T22:25:17.853172Z",
     "iopub.status.idle": "2022-02-13T22:25:17.856160Z",
     "shell.execute_reply": "2022-02-13T22:25:17.855378Z"
    }
   },
   "outputs": [],
   "source": [
    "ve1 = collect(0:10)\n",
    "\n",
    "ve2 = collect(0:10:100)\n",
    "\n",
    ";"
   ]
  },
  {
   "cell_type": "code",
   "execution_count": null,
   "id": "5925b5e8",
   "metadata": {
    "execution": {
     "iopub.execute_input": "2022-02-13T22:25:17.859354Z",
     "iopub.status.busy": "2022-02-13T22:25:17.858511Z",
     "iopub.status.idle": "2022-02-13T22:25:18.985831Z",
     "shell.execute_reply": "2022-02-13T22:25:18.985366Z"
    }
   },
   "outputs": [],
   "source": [
    "bi = kde((ve1, ve2); npoints = (8, 8))"
   ]
  },
  {
   "cell_type": "code",
   "execution_count": null,
   "id": "417bbe4f",
   "metadata": {
    "execution": {
     "iopub.execute_input": "2022-02-13T22:25:18.987669Z",
     "iopub.status.busy": "2022-02-13T22:25:18.987149Z",
     "iopub.status.idle": "2022-02-13T22:25:19.375123Z",
     "shell.execute_reply": "2022-02-13T22:25:19.374625Z"
    }
   },
   "outputs": [],
   "source": [
    "y = collect(bi.y)"
   ]
  },
  {
   "cell_type": "code",
   "execution_count": null,
   "id": "03012e4f",
   "metadata": {
    "execution": {
     "iopub.execute_input": "2022-02-13T22:25:19.377606Z",
     "iopub.status.busy": "2022-02-13T22:25:19.376987Z",
     "iopub.status.idle": "2022-02-13T22:25:19.380453Z",
     "shell.execute_reply": "2022-02-13T22:25:19.380062Z"
    }
   },
   "outputs": [],
   "source": [
    "x = collect(bi.x)"
   ]
  },
  {
   "cell_type": "code",
   "execution_count": null,
   "id": "0c396852",
   "metadata": {
    "execution": {
     "iopub.execute_input": "2022-02-13T22:25:19.382812Z",
     "iopub.status.busy": "2022-02-13T22:25:19.381935Z",
     "iopub.status.idle": "2022-02-13T22:25:19.669837Z",
     "shell.execute_reply": "2022-02-13T22:25:19.669380Z"
    }
   },
   "outputs": [],
   "source": [
    "z = bi.density"
   ]
  },
  {
   "cell_type": "code",
   "execution_count": null,
   "id": "0e87ca93",
   "metadata": {
    "execution": {
     "iopub.execute_input": "2022-02-13T22:25:19.671709Z",
     "iopub.status.busy": "2022-02-13T22:25:19.671133Z",
     "iopub.status.idle": "2022-02-13T22:25:20.574414Z",
     "shell.execute_reply": "2022-02-13T22:25:20.573669Z"
    }
   },
   "outputs": [],
   "source": [
    "display(OnePiece.figure.plot_heat_map(z))"
   ]
  },
  {
   "cell_type": "markdown",
   "id": "3f396855",
   "metadata": {},
   "source": [
    "---"
   ]
  },
  {
   "cell_type": "code",
   "execution_count": null,
   "id": "b4af2023",
   "metadata": {
    "execution": {
     "iopub.execute_input": "2022-02-13T22:25:20.577494Z",
     "iopub.status.busy": "2022-02-13T22:25:20.576426Z",
     "iopub.status.idle": "2022-02-13T22:25:20.581398Z",
     "shell.execute_reply": "2022-02-13T22:25:20.580869Z"
    }
   },
   "outputs": [],
   "source": [
    "if isdir(TE)\n",
    "\n",
    "    rm(TE, recursive = true)\n",
    "\n",
    "    println(\"Removed \", TE, \".\")\n",
    "\n",
    "end"
   ]
  }
 ],
 "metadata": {
  "kernelspec": {
   "display_name": "Julia 1.7.2",
   "language": "julia",
   "name": "julia-1.7"
  },
  "language_info": {
   "file_extension": ".jl",
   "mimetype": "application/julia",
   "name": "julia",
   "version": "1.7.2"
  }
 },
 "nbformat": 4,
 "nbformat_minor": 5
}
