{
 "cells": [
  {
   "cell_type": "code",
   "execution_count": null,
   "id": "017464da",
   "metadata": {},
   "outputs": [],
   "source": [
    "TE = joinpath(tempdir(), \"OnePiece.test\")\n",
    "\n",
    "mkpath(TE)"
   ]
  },
  {
   "cell_type": "code",
   "execution_count": null,
   "id": "34e4701e",
   "metadata": {
    "execution": {
     "iopub.execute_input": "2022-02-10T17:51:23.590384Z",
     "iopub.status.busy": "2022-02-10T17:51:23.250154Z",
     "iopub.status.idle": "2022-02-10T17:51:24.482021Z",
     "shell.execute_reply": "2022-02-10T17:51:24.481306Z"
    }
   },
   "outputs": [],
   "source": [
    "using OnePiece"
   ]
  },
  {
   "cell_type": "markdown",
   "id": "b92a3da9",
   "metadata": {},
   "source": [
    "---"
   ]
  },
  {
   "cell_type": "markdown",
   "id": "d8129c93",
   "metadata": {},
   "source": [
    "## get_entropy"
   ]
  },
  {
   "cell_type": "code",
   "execution_count": null,
   "id": "2ed7bdd2",
   "metadata": {
    "execution": {
     "iopub.execute_input": "2022-02-10T20:42:31.657481Z",
     "iopub.status.busy": "2022-02-10T20:42:31.216023Z",
     "iopub.status.idle": "2022-02-10T20:42:31.971465Z",
     "shell.execute_reply": "2022-02-10T20:42:31.970914Z"
    }
   },
   "outputs": [],
   "source": [
    "OnePiece.informatics.information.get_entropy"
   ]
  },
  {
   "cell_type": "markdown",
   "id": "7b4bdb29",
   "metadata": {},
   "source": [
    "## get_signal_to_noise_ratio"
   ]
  },
  {
   "cell_type": "code",
   "execution_count": null,
   "id": "0d0a78e1",
   "metadata": {
    "execution": {
     "iopub.execute_input": "2022-02-10T20:42:31.973621Z",
     "iopub.status.busy": "2022-02-10T20:42:31.972990Z",
     "iopub.status.idle": "2022-02-10T20:42:32.279588Z",
     "shell.execute_reply": "2022-02-10T20:42:32.279140Z"
    }
   },
   "outputs": [],
   "source": [
    "ve1 = collect(1:3)\n",
    "\n",
    "ve2 = collect(10:10:30)\n",
    "\n",
    "OnePiece.informatics.information.get_signal_to_noise_ratio(ve1, ve2)"
   ]
  },
  {
   "cell_type": "markdown",
   "id": "0f0e8de5",
   "metadata": {},
   "source": [
    "## get_kolmogorov_smirnov_statistic"
   ]
  },
  {
   "cell_type": "markdown",
   "id": "832c520e",
   "metadata": {},
   "source": [
    "## get_kullback_leibler_divergence"
   ]
  },
  {
   "cell_type": "markdown",
   "id": "1ce1afa5",
   "metadata": {},
   "source": [
    "## get_jensen_shannon_divergence"
   ]
  },
  {
   "cell_type": "markdown",
   "id": "d523618a",
   "metadata": {},
   "source": [
    "## get_kwat_pablo_divergence"
   ]
  },
  {
   "cell_type": "markdown",
   "id": "5ac4c6b8",
   "metadata": {},
   "source": [
    "## get_thermodynamic_breadth"
   ]
  },
  {
   "cell_type": "markdown",
   "id": "b292cc2a",
   "metadata": {},
   "source": [
    "## get_thermodynamic_depth"
   ]
  },
  {
   "cell_type": "code",
   "execution_count": null,
   "id": "2cb26e91",
   "metadata": {
    "execution": {
     "iopub.execute_input": "2022-02-10T20:42:32.282024Z",
     "iopub.status.busy": "2022-02-10T20:42:32.281441Z",
     "iopub.status.idle": "2022-02-10T20:42:32.357589Z",
     "shell.execute_reply": "2022-02-10T20:42:32.357063Z"
    }
   },
   "outputs": [],
   "source": [
    "function call_all(ve1, ve2, ve)\n",
    "\n",
    "    return vcat(\n",
    "        [\n",
    "            fu(ve1, ve2) for fu in [\n",
    "                OnePiece.informatics.information.get_kolmogorov_smirnov_statistic,\n",
    "                OnePiece.informatics.information.get_kullback_leibler_divergence,\n",
    "                OnePiece.informatics.information.get_thermodynamic_breadth,\n",
    "                OnePiece.informatics.information.get_thermodynamic_depth,\n",
    "            ]\n",
    "        ],\n",
    "        [\n",
    "            fu(ve1, ve2, ve) for fu in [\n",
    "                OnePiece.informatics.information.get_jensen_shannon_divergence,\n",
    "                OnePiece.informatics.information.get_kwat_pablo_divergence,\n",
    "            ]\n",
    "        ],\n",
    "    )\n",
    "\n",
    "end"
   ]
  },
  {
   "cell_type": "code",
   "execution_count": null,
   "id": "29c066e9",
   "metadata": {
    "execution": {
     "iopub.execute_input": "2022-02-10T20:42:32.359569Z",
     "iopub.status.busy": "2022-02-10T20:42:32.358927Z",
     "iopub.status.idle": "2022-02-10T20:42:33.314392Z",
     "shell.execute_reply": "2022-02-10T20:42:33.313881Z"
    }
   },
   "outputs": [],
   "source": [
    "name_ = [\n",
    "    \"kolmogorov_smirnov_statistic\",\n",
    "    \"kullback_leibler_divergence\",\n",
    "    \"thermodynamic_breadth\",\n",
    "    \"thermodynamic_depth\",\n",
    "    \"jensen_shannon_divergence\",\n",
    "    \"kwat_pablo_divergence\",\n",
    "]"
   ]
  },
  {
   "cell_type": "code",
   "execution_count": null,
   "id": "7ccdd712",
   "metadata": {
    "execution": {
     "iopub.execute_input": "2022-02-10T20:42:33.316351Z",
     "iopub.status.busy": "2022-02-10T20:42:33.315768Z",
     "iopub.status.idle": "2022-02-10T20:42:34.547168Z",
     "shell.execute_reply": "2022-02-10T20:42:34.546654Z"
    }
   },
   "outputs": [],
   "source": [
    "for (ve1, ve2) in [([1, 1, 1], [1, 1, 1]), ([1, 2, 3], [10, 20, 30])]\n",
    "\n",
    "    ve = 0.2 * ve1 + 0.8 * ve2\n",
    "\n",
    "    OnePiece.figure.plot_x_y([ve1, ve2])\n",
    "\n",
    "    OnePiece.figure.plot_x_y(call_all(ve1, ve2, ve); name_ = name_)\n",
    "\n",
    "end"
   ]
  },
  {
   "cell_type": "code",
   "execution_count": null,
   "id": "88cbc90a",
   "metadata": {
    "execution": {
     "iopub.execute_input": "2022-02-10T20:42:34.549283Z",
     "iopub.status.busy": "2022-02-10T20:42:34.548583Z",
     "iopub.status.idle": "2022-02-10T20:42:34.891846Z",
     "shell.execute_reply": "2022-02-10T20:42:34.891315Z"
    }
   },
   "outputs": [],
   "source": [
    "n_po = 100\n",
    "\n",
    "ve1 = OnePiece.informatics.tensor.shift_minimum(randn(n_po), \"0<\")\n",
    "\n",
    "ve1s = ve1 .+ 1\n",
    "\n",
    "ve2 = OnePiece.informatics.tensor.shift_minimum(randn(n_po), \"0<\")\n",
    "\n",
    ";"
   ]
  },
  {
   "cell_type": "code",
   "execution_count": null,
   "id": "5964f021",
   "metadata": {
    "execution": {
     "iopub.execute_input": "2022-02-10T20:42:34.893667Z",
     "iopub.status.busy": "2022-02-10T20:42:34.893033Z",
     "iopub.status.idle": "2022-02-10T20:42:35.957743Z",
     "shell.execute_reply": "2022-02-10T20:42:35.957072Z"
    }
   },
   "outputs": [],
   "source": [
    "using KernelDensity"
   ]
  },
  {
   "cell_type": "code",
   "execution_count": null,
   "id": "e020a0e1",
   "metadata": {
    "execution": {
     "iopub.execute_input": "2022-02-10T20:42:35.959748Z",
     "iopub.status.busy": "2022-02-10T20:42:35.959107Z",
     "iopub.status.idle": "2022-02-10T20:42:39.299477Z",
     "shell.execute_reply": "2022-02-10T20:42:39.298569Z"
    }
   },
   "outputs": [],
   "source": [
    "for (ve1, ve2) in [(ve1, ve1), (ve1, ve1s), (ve1, ve2)]\n",
    "\n",
    "    un1 = kde(ve1)\n",
    "\n",
    "    un2 = kde(ve2)\n",
    "\n",
    "    de1 = un1.density\n",
    "\n",
    "    de2 = un2.density\n",
    "\n",
    "    de3 = 0.2 * de1 + 0.8 * de2\n",
    "\n",
    "    display(\n",
    "        OnePiece.figure.plot_x_y(\n",
    "            [de1, de2],\n",
    "            [collect(un1.x), collect(un2.x)];\n",
    "            la = Dict(\"yaxis\" => Dict(\"title\" => \"Density\"), \"xaxis\" => Dict(\"title\" => \"Grid\")),\n",
    "        ),\n",
    "    )\n",
    "\n",
    "    display(OnePiece.figure.plot_x_y(call_all(de1, de2, de3); name_ = name_))\n",
    "\n",
    "end"
   ]
  },
  {
   "cell_type": "markdown",
   "id": "c70b0baa",
   "metadata": {},
   "source": [
    "## get_mutual_information"
   ]
  },
  {
   "cell_type": "markdown",
   "id": "8461b7b1",
   "metadata": {},
   "source": [
    "## get_information_coefficient"
   ]
  },
  {
   "cell_type": "code",
   "execution_count": null,
   "id": "c5166563",
   "metadata": {
    "execution": {
     "iopub.execute_input": "2022-02-10T20:42:39.302459Z",
     "iopub.status.busy": "2022-02-10T20:42:39.301647Z",
     "iopub.status.idle": "2022-02-10T20:42:39.304074Z",
     "shell.execute_reply": "2022-02-10T20:42:39.303475Z"
    }
   },
   "outputs": [],
   "source": [
    "ve1 = collect(0:10)\n",
    "\n",
    "ve2 = collect(0:10:100)\n",
    "\n",
    ";"
   ]
  },
  {
   "cell_type": "code",
   "execution_count": null,
   "id": "5925b5e8",
   "metadata": {
    "execution": {
     "iopub.execute_input": "2022-02-10T20:42:39.306024Z",
     "iopub.status.busy": "2022-02-10T20:42:39.305432Z",
     "iopub.status.idle": "2022-02-10T20:42:40.304902Z",
     "shell.execute_reply": "2022-02-10T20:42:40.304454Z"
    }
   },
   "outputs": [],
   "source": [
    "bi = kde((ve1, ve2); npoints = (8, 8))"
   ]
  },
  {
   "cell_type": "code",
   "execution_count": null,
   "id": "417bbe4f",
   "metadata": {
    "execution": {
     "iopub.execute_input": "2022-02-10T20:42:40.307133Z",
     "iopub.status.busy": "2022-02-10T20:42:40.306378Z",
     "iopub.status.idle": "2022-02-10T20:42:40.741101Z",
     "shell.execute_reply": "2022-02-10T20:42:40.740655Z"
    }
   },
   "outputs": [],
   "source": [
    "y = collect(bi.y)"
   ]
  },
  {
   "cell_type": "code",
   "execution_count": null,
   "id": "03012e4f",
   "metadata": {
    "execution": {
     "iopub.execute_input": "2022-02-10T20:42:40.742960Z",
     "iopub.status.busy": "2022-02-10T20:42:40.742384Z",
     "iopub.status.idle": "2022-02-10T20:42:40.745335Z",
     "shell.execute_reply": "2022-02-10T20:42:40.744884Z"
    }
   },
   "outputs": [],
   "source": [
    "x = collect(bi.x)"
   ]
  },
  {
   "cell_type": "code",
   "execution_count": null,
   "id": "0c396852",
   "metadata": {
    "execution": {
     "iopub.execute_input": "2022-02-10T20:42:40.747212Z",
     "iopub.status.busy": "2022-02-10T20:42:40.746641Z",
     "iopub.status.idle": "2022-02-10T20:42:41.077217Z",
     "shell.execute_reply": "2022-02-10T20:42:41.076773Z"
    }
   },
   "outputs": [],
   "source": [
    "z = bi.density"
   ]
  },
  {
   "cell_type": "code",
   "execution_count": null,
   "id": "0e87ca93",
   "metadata": {
    "execution": {
     "iopub.execute_input": "2022-02-10T20:42:41.079172Z",
     "iopub.status.busy": "2022-02-10T20:42:41.078603Z",
     "iopub.status.idle": "2022-02-10T20:42:42.053316Z",
     "shell.execute_reply": "2022-02-10T20:42:42.052852Z"
    }
   },
   "outputs": [],
   "source": [
    "display(OnePiece.figure.plot_heat_map(z))"
   ]
  },
  {
   "cell_type": "markdown",
   "id": "3f396855",
   "metadata": {},
   "source": [
    "---"
   ]
  },
  {
   "cell_type": "code",
   "execution_count": null,
   "id": "b4af2023",
   "metadata": {},
   "outputs": [],
   "source": [
    "rm(TE; recursive = true)"
   ]
  }
 ],
 "metadata": {
  "kernelspec": {
   "display_name": "Julia 1.7.2",
   "language": "julia",
   "name": "julia-1.7"
  },
  "language_info": {
   "file_extension": ".jl",
   "mimetype": "application/julia",
   "name": "julia",
   "version": "1.7.2"
  }
 },
 "nbformat": 4,
 "nbformat_minor": 5
}
