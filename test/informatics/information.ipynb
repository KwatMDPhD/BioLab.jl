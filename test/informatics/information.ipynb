{
 "cells": [
  {
   "cell_type": "code",
   "execution_count": null,
   "id": "017464da",
   "metadata": {
    "execution": {
     "iopub.execute_input": "2022-02-14T02:55:15.634120Z",
     "iopub.status.busy": "2022-02-14T02:55:15.159674Z",
     "iopub.status.idle": "2022-02-14T02:55:15.908826Z",
     "shell.execute_reply": "2022-02-14T02:55:15.908195Z"
    }
   },
   "outputs": [],
   "source": [
    "TE = joinpath(tempdir(), \"OnePiece.test\")\n",
    "\n",
    "if isdir(TE)\n",
    "\n",
    "    rm(TE, recursive = true)\n",
    "\n",
    "    println(\"Removed \", TE, \".\")\n",
    "\n",
    "end\n",
    "\n",
    "mkdir(TE)\n",
    "\n",
    "println(\"Made \", TE, \".\")"
   ]
  },
  {
   "cell_type": "code",
   "execution_count": null,
   "id": "34e4701e",
   "metadata": {
    "execution": {
     "iopub.execute_input": "2022-02-14T02:55:15.911263Z",
     "iopub.status.busy": "2022-02-14T02:55:15.910441Z",
     "iopub.status.idle": "2022-02-14T02:55:21.602067Z",
     "shell.execute_reply": "2022-02-14T02:55:21.601469Z"
    }
   },
   "outputs": [],
   "source": [
    "using OnePiece"
   ]
  },
  {
   "cell_type": "markdown",
   "id": "b92a3da9",
   "metadata": {},
   "source": [
    "---"
   ]
  },
  {
   "cell_type": "markdown",
   "id": "d8129c93",
   "metadata": {},
   "source": [
    "## get_entropy"
   ]
  },
  {
   "cell_type": "code",
   "execution_count": null,
   "id": "2ed7bdd2",
   "metadata": {
    "execution": {
     "iopub.execute_input": "2022-02-14T02:55:22.028994Z",
     "iopub.status.busy": "2022-02-14T02:55:21.603829Z",
     "iopub.status.idle": "2022-02-14T02:55:22.577478Z",
     "shell.execute_reply": "2022-02-14T02:55:22.576940Z"
    }
   },
   "outputs": [],
   "source": [
    "OnePiece.informatics.information.get_entropy"
   ]
  },
  {
   "cell_type": "markdown",
   "id": "7b4bdb29",
   "metadata": {},
   "source": [
    "## get_signal_to_noise_ratio"
   ]
  },
  {
   "cell_type": "code",
   "execution_count": null,
   "id": "0d0a78e1",
   "metadata": {
    "execution": {
     "iopub.execute_input": "2022-02-14T02:55:22.579917Z",
     "iopub.status.busy": "2022-02-14T02:55:22.579241Z",
     "iopub.status.idle": "2022-02-14T02:55:22.955598Z",
     "shell.execute_reply": "2022-02-14T02:55:22.955069Z"
    }
   },
   "outputs": [],
   "source": [
    "ve1 = collect(1:3)\n",
    "\n",
    "ve2 = collect(10:10:30)\n",
    "\n",
    "OnePiece.informatics.information.get_signal_to_noise_ratio(ve1, ve2)"
   ]
  },
  {
   "cell_type": "markdown",
   "id": "0f0e8de5",
   "metadata": {},
   "source": [
    "## get_kolmogorov_smirnov_statistic"
   ]
  },
  {
   "cell_type": "markdown",
   "id": "832c520e",
   "metadata": {},
   "source": [
    "## get_kullback_leibler_divergence"
   ]
  },
  {
   "cell_type": "markdown",
   "id": "1ce1afa5",
   "metadata": {},
   "source": [
    "## get_jensen_shannon_divergence"
   ]
  },
  {
   "cell_type": "markdown",
   "id": "d523618a",
   "metadata": {},
   "source": [
    "## get_kwat_pablo_divergence"
   ]
  },
  {
   "cell_type": "markdown",
   "id": "5ac4c6b8",
   "metadata": {},
   "source": [
    "## get_thermodynamic_breadth"
   ]
  },
  {
   "cell_type": "markdown",
   "id": "b292cc2a",
   "metadata": {},
   "source": [
    "## get_thermodynamic_depth"
   ]
  },
  {
   "cell_type": "code",
   "execution_count": null,
   "id": "2cb26e91",
   "metadata": {
    "execution": {
     "iopub.execute_input": "2022-02-14T02:55:22.958815Z",
     "iopub.status.busy": "2022-02-14T02:55:22.958099Z",
     "iopub.status.idle": "2022-02-14T02:55:23.053454Z",
     "shell.execute_reply": "2022-02-14T02:55:23.052921Z"
    }
   },
   "outputs": [],
   "source": [
    "function call_all(ve1, ve2, ve)\n",
    "\n",
    "    return vcat(\n",
    "        [\n",
    "            fu(ve1, ve2) for fu in [\n",
    "                OnePiece.informatics.information.get_kolmogorov_smirnov_statistic,\n",
    "                OnePiece.informatics.information.get_kullback_leibler_divergence,\n",
    "                OnePiece.informatics.information.get_thermodynamic_breadth,\n",
    "                OnePiece.informatics.information.get_thermodynamic_depth,\n",
    "            ]\n",
    "        ],\n",
    "        [\n",
    "            fu(ve1, ve2, ve) for fu in [\n",
    "                OnePiece.informatics.information.get_jensen_shannon_divergence,\n",
    "                OnePiece.informatics.information.get_kwat_pablo_divergence,\n",
    "            ]\n",
    "        ],\n",
    "    )\n",
    "\n",
    "end"
   ]
  },
  {
   "cell_type": "code",
   "execution_count": null,
   "id": "29c066e9",
   "metadata": {
    "execution": {
     "iopub.execute_input": "2022-02-14T02:55:23.055802Z",
     "iopub.status.busy": "2022-02-14T02:55:23.055036Z",
     "iopub.status.idle": "2022-02-14T02:55:24.408178Z",
     "shell.execute_reply": "2022-02-14T02:55:24.407657Z"
    }
   },
   "outputs": [],
   "source": [
    "name_ = [\n",
    "    \"kolmogorov_smirnov_statistic\",\n",
    "    \"kullback_leibler_divergence\",\n",
    "    \"thermodynamic_breadth\",\n",
    "    \"thermodynamic_depth\",\n",
    "    \"jensen_shannon_divergence\",\n",
    "    \"kwat_pablo_divergence\",\n",
    "]"
   ]
  },
  {
   "cell_type": "code",
   "execution_count": null,
   "id": "7ccdd712",
   "metadata": {
    "execution": {
     "iopub.execute_input": "2022-02-14T02:55:24.410356Z",
     "iopub.status.busy": "2022-02-14T02:55:24.409691Z",
     "iopub.status.idle": "2022-02-14T02:55:26.007552Z",
     "shell.execute_reply": "2022-02-14T02:55:26.006944Z"
    }
   },
   "outputs": [],
   "source": [
    "for (ve1, ve2) in [([1, 1, 1], [1, 1, 1]), ([1, 2, 3], [10, 20, 30])]\n",
    "\n",
    "    ve = 0.2 * ve1 + 0.8 * ve2\n",
    "\n",
    "    OnePiece.figure.plot_x_y([ve1, ve2])\n",
    "\n",
    "    OnePiece.figure.plot_x_y(call_all(ve1, ve2, ve); name_ = name_)\n",
    "\n",
    "end"
   ]
  },
  {
   "cell_type": "code",
   "execution_count": null,
   "id": "88cbc90a",
   "metadata": {
    "execution": {
     "iopub.execute_input": "2022-02-14T02:55:26.009914Z",
     "iopub.status.busy": "2022-02-14T02:55:26.009076Z",
     "iopub.status.idle": "2022-02-14T02:55:26.436062Z",
     "shell.execute_reply": "2022-02-14T02:55:26.435350Z"
    }
   },
   "outputs": [],
   "source": [
    "n_po = 100\n",
    "\n",
    "ve1 = OnePiece.informatics.tensor.shift_minimum(randn(n_po), \"0<\")\n",
    "\n",
    "ve1s = ve1 .+ 1\n",
    "\n",
    "ve2 = OnePiece.informatics.tensor.shift_minimum(randn(n_po), \"0<\")\n",
    "\n",
    ";"
   ]
  },
  {
   "cell_type": "code",
   "execution_count": null,
   "id": "5964f021",
   "metadata": {
    "execution": {
     "iopub.execute_input": "2022-02-14T02:55:26.438341Z",
     "iopub.status.busy": "2022-02-14T02:55:26.437654Z",
     "iopub.status.idle": "2022-02-14T02:55:27.839349Z",
     "shell.execute_reply": "2022-02-14T02:55:27.838329Z"
    }
   },
   "outputs": [],
   "source": [
    "using KernelDensity"
   ]
  },
  {
   "cell_type": "code",
   "execution_count": null,
   "id": "e020a0e1",
   "metadata": {
    "execution": {
     "iopub.execute_input": "2022-02-14T02:55:27.841864Z",
     "iopub.status.busy": "2022-02-14T02:55:27.841069Z",
     "iopub.status.idle": "2022-02-14T02:55:32.312928Z",
     "shell.execute_reply": "2022-02-14T02:55:32.311420Z"
    }
   },
   "outputs": [],
   "source": [
    "for (ve1, ve2) in [(ve1, ve1), (ve1, ve1s), (ve1, ve2)]\n",
    "\n",
    "    un1 = kde(ve1)\n",
    "\n",
    "    un2 = kde(ve2)\n",
    "\n",
    "    de1 = un1.density\n",
    "\n",
    "    de2 = un2.density\n",
    "\n",
    "    de3 = 0.2 * de1 + 0.8 * de2\n",
    "\n",
    "    display(\n",
    "        OnePiece.figure.plot_x_y(\n",
    "            [de1, de2],\n",
    "            [collect(un1.x), collect(un2.x)];\n",
    "            la = Dict(\"yaxis\" => Dict(\"title\" => \"Density\"), \"xaxis\" => Dict(\"title\" => \"Grid\")),\n",
    "        ),\n",
    "    )\n",
    "\n",
    "    display(OnePiece.figure.plot_x_y(call_all(de1, de2, de3); name_ = name_))\n",
    "\n",
    "end"
   ]
  },
  {
   "cell_type": "markdown",
   "id": "c70b0baa",
   "metadata": {},
   "source": [
    "## get_mutual_information"
   ]
  },
  {
   "cell_type": "markdown",
   "id": "8461b7b1",
   "metadata": {},
   "source": [
    "## get_information_coefficient"
   ]
  },
  {
   "cell_type": "code",
   "execution_count": null,
   "id": "c5166563",
   "metadata": {
    "execution": {
     "iopub.execute_input": "2022-02-14T02:55:32.317621Z",
     "iopub.status.busy": "2022-02-14T02:55:32.316202Z",
     "iopub.status.idle": "2022-02-14T02:55:32.320371Z",
     "shell.execute_reply": "2022-02-14T02:55:32.319279Z"
    }
   },
   "outputs": [],
   "source": [
    "ve1 = collect(0:10)\n",
    "\n",
    "ve2 = collect(0:10:100)\n",
    "\n",
    ";"
   ]
  },
  {
   "cell_type": "code",
   "execution_count": null,
   "id": "5925b5e8",
   "metadata": {
    "execution": {
     "iopub.execute_input": "2022-02-14T02:55:32.324882Z",
     "iopub.status.busy": "2022-02-14T02:55:32.323430Z",
     "iopub.status.idle": "2022-02-14T02:55:33.935130Z",
     "shell.execute_reply": "2022-02-14T02:55:33.934531Z"
    }
   },
   "outputs": [],
   "source": [
    "bi = kde((ve1, ve2); npoints = (8, 8))"
   ]
  },
  {
   "cell_type": "code",
   "execution_count": null,
   "id": "417bbe4f",
   "metadata": {
    "execution": {
     "iopub.execute_input": "2022-02-14T02:55:33.937434Z",
     "iopub.status.busy": "2022-02-14T02:55:33.936702Z",
     "iopub.status.idle": "2022-02-14T02:55:34.543230Z",
     "shell.execute_reply": "2022-02-14T02:55:34.542575Z"
    }
   },
   "outputs": [],
   "source": [
    "y = collect(bi.y)"
   ]
  },
  {
   "cell_type": "code",
   "execution_count": null,
   "id": "03012e4f",
   "metadata": {
    "execution": {
     "iopub.execute_input": "2022-02-14T02:55:34.546166Z",
     "iopub.status.busy": "2022-02-14T02:55:34.545417Z",
     "iopub.status.idle": "2022-02-14T02:55:34.549241Z",
     "shell.execute_reply": "2022-02-14T02:55:34.548637Z"
    }
   },
   "outputs": [],
   "source": [
    "x = collect(bi.x)"
   ]
  },
  {
   "cell_type": "code",
   "execution_count": null,
   "id": "0c396852",
   "metadata": {
    "execution": {
     "iopub.execute_input": "2022-02-14T02:55:34.551630Z",
     "iopub.status.busy": "2022-02-14T02:55:34.550903Z",
     "iopub.status.idle": "2022-02-14T02:55:34.985830Z",
     "shell.execute_reply": "2022-02-14T02:55:34.985162Z"
    }
   },
   "outputs": [],
   "source": [
    "z = bi.density"
   ]
  },
  {
   "cell_type": "code",
   "execution_count": null,
   "id": "0e87ca93",
   "metadata": {
    "execution": {
     "iopub.execute_input": "2022-02-14T02:55:34.988191Z",
     "iopub.status.busy": "2022-02-14T02:55:34.987455Z",
     "iopub.status.idle": "2022-02-14T02:55:36.277293Z",
     "shell.execute_reply": "2022-02-14T02:55:36.276715Z"
    }
   },
   "outputs": [],
   "source": [
    "display(OnePiece.figure.plot_heat_map(z))"
   ]
  },
  {
   "cell_type": "markdown",
   "id": "3f396855",
   "metadata": {},
   "source": [
    "---"
   ]
  },
  {
   "cell_type": "code",
   "execution_count": null,
   "id": "b4af2023",
   "metadata": {
    "execution": {
     "iopub.execute_input": "2022-02-14T02:55:36.279902Z",
     "iopub.status.busy": "2022-02-14T02:55:36.279069Z",
     "iopub.status.idle": "2022-02-14T02:55:36.282366Z",
     "shell.execute_reply": "2022-02-14T02:55:36.281794Z"
    }
   },
   "outputs": [],
   "source": [
    "if isdir(TE)\n",
    "\n",
    "    rm(TE, recursive = true)\n",
    "\n",
    "    println(\"Removed \", TE, \".\")\n",
    "\n",
    "end"
   ]
  }
 ],
 "metadata": {
  "kernelspec": {
   "display_name": "Julia 1.7.2",
   "language": "julia",
   "name": "julia-1.7"
  },
  "language_info": {
   "file_extension": ".jl",
   "mimetype": "application/julia",
   "name": "julia",
   "version": "1.7.2"
  }
 },
 "nbformat": 4,
 "nbformat_minor": 5
}
