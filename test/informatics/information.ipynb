{
 "cells": [
  {
   "cell_type": "code",
   "execution_count": null,
   "id": "34e4701e",
   "metadata": {
    "execution": {
     "iopub.execute_input": "2022-02-09T22:45:39.847702Z",
     "iopub.status.busy": "2022-02-09T22:45:39.478359Z",
     "iopub.status.idle": "2022-02-09T22:45:40.826162Z",
     "shell.execute_reply": "2022-02-09T22:45:40.825660Z"
    }
   },
   "outputs": [],
   "source": [
    "using Revise\n",
    "using BenchmarkTools"
   ]
  },
  {
   "cell_type": "code",
   "execution_count": null,
   "id": "e00891d2",
   "metadata": {
    "execution": {
     "iopub.execute_input": "2022-02-09T22:45:40.828331Z",
     "iopub.status.busy": "2022-02-09T22:45:40.827550Z",
     "iopub.status.idle": "2022-02-09T22:45:52.975282Z",
     "shell.execute_reply": "2022-02-09T22:45:52.974636Z"
    }
   },
   "outputs": [],
   "source": [
    "using KernelDensity\n",
    "using PlotlyJS\n",
    "\n",
    "using OnePiece"
   ]
  },
  {
   "cell_type": "markdown",
   "id": "d8129c93",
   "metadata": {},
   "source": [
    "## get_entropy"
   ]
  },
  {
   "cell_type": "code",
   "execution_count": null,
   "id": "2ed7bdd2",
   "metadata": {
    "execution": {
     "iopub.execute_input": "2022-02-09T22:45:54.698814Z",
     "iopub.status.busy": "2022-02-09T22:45:52.976770Z",
     "iopub.status.idle": "2022-02-09T22:45:55.536148Z",
     "shell.execute_reply": "2022-02-09T22:45:55.535633Z"
    }
   },
   "outputs": [],
   "source": [
    "OnePiece.informatics.information.get_entropy"
   ]
  },
  {
   "cell_type": "markdown",
   "id": "7b4bdb29",
   "metadata": {},
   "source": [
    "## get_signal_to_noise_ratio"
   ]
  },
  {
   "cell_type": "code",
   "execution_count": null,
   "id": "0d0a78e1",
   "metadata": {
    "execution": {
     "iopub.execute_input": "2022-02-09T22:45:55.538379Z",
     "iopub.status.busy": "2022-02-09T22:45:55.537842Z",
     "iopub.status.idle": "2022-02-09T22:45:55.845328Z",
     "shell.execute_reply": "2022-02-09T22:45:55.844947Z"
    }
   },
   "outputs": [],
   "source": [
    "ve1 = collect(1:3)\n",
    "\n",
    "ve2 = collect(10:10:30)\n",
    "\n",
    "OnePiece.informatics.information.get_signal_to_noise_ratio(ve1, ve2)"
   ]
  },
  {
   "cell_type": "markdown",
   "id": "0f0e8de5",
   "metadata": {},
   "source": [
    "## get_kolmogorov_smirnov_statistic"
   ]
  },
  {
   "cell_type": "markdown",
   "id": "832c520e",
   "metadata": {},
   "source": [
    "## get_kullback_leibler_divergence"
   ]
  },
  {
   "cell_type": "markdown",
   "id": "1ce1afa5",
   "metadata": {},
   "source": [
    "## get_jensen_shannon_divergence"
   ]
  },
  {
   "cell_type": "markdown",
   "id": "d523618a",
   "metadata": {},
   "source": [
    "## get_kwat_pablo_divergence"
   ]
  },
  {
   "cell_type": "markdown",
   "id": "5ac4c6b8",
   "metadata": {},
   "source": [
    "## get_thermodynamic_breadth"
   ]
  },
  {
   "cell_type": "markdown",
   "id": "b292cc2a",
   "metadata": {},
   "source": [
    "## get_thermodynamic_depth"
   ]
  },
  {
   "cell_type": "code",
   "execution_count": null,
   "id": "2cb26e91",
   "metadata": {
    "execution": {
     "iopub.execute_input": "2022-02-09T22:45:55.848018Z",
     "iopub.status.busy": "2022-02-09T22:45:55.847376Z",
     "iopub.status.idle": "2022-02-09T22:45:55.940135Z",
     "shell.execute_reply": "2022-02-09T22:45:55.939711Z"
    }
   },
   "outputs": [],
   "source": [
    "function call_all(ve1, ve2, ve)\n",
    "\n",
    "    return vcat(\n",
    "        [\n",
    "            fu(ve1, ve2) for fu in [\n",
    "                OnePiece.informatics.information.get_kolmogorov_smirnov_statistic,\n",
    "                OnePiece.informatics.information.get_kullback_leibler_divergence,\n",
    "                OnePiece.informatics.information.get_thermodynamic_breadth,\n",
    "                OnePiece.informatics.information.get_thermodynamic_depth,\n",
    "            ]\n",
    "        ],\n",
    "        [\n",
    "            fu(ve1, ve2, ve) for fu in [\n",
    "                OnePiece.informatics.information.get_jensen_shannon_divergence,\n",
    "                OnePiece.informatics.information.get_kwat_pablo_divergence,\n",
    "            ]\n",
    "        ],\n",
    "    )\n",
    "\n",
    "end"
   ]
  },
  {
   "cell_type": "code",
   "execution_count": null,
   "id": "29c066e9",
   "metadata": {
    "execution": {
     "iopub.execute_input": "2022-02-09T22:45:55.942263Z",
     "iopub.status.busy": "2022-02-09T22:45:55.941669Z",
     "iopub.status.idle": "2022-02-09T22:45:57.003374Z",
     "shell.execute_reply": "2022-02-09T22:45:57.002842Z"
    }
   },
   "outputs": [],
   "source": [
    "name_ = [\n",
    "    \"kolmogorov_smirnov_statistic\",\n",
    "    \"kullback_leibler_divergence\",\n",
    "    \"thermodynamic_breadth\",\n",
    "    \"thermodynamic_depth\",\n",
    "    \"jensen_shannon_divergence\",\n",
    "    \"kwat_pablo_divergence\",\n",
    "]"
   ]
  },
  {
   "cell_type": "code",
   "execution_count": null,
   "id": "7ccdd712",
   "metadata": {
    "execution": {
     "iopub.execute_input": "2022-02-09T22:45:57.005348Z",
     "iopub.status.busy": "2022-02-09T22:45:57.004753Z",
     "iopub.status.idle": "2022-02-09T22:46:03.511551Z",
     "shell.execute_reply": "2022-02-09T22:46:03.511019Z"
    }
   },
   "outputs": [],
   "source": [
    "for (ve1, ve2) in [([1, 1, 1], [1, 1, 1]), ([1, 2, 3], [10, 20, 30])]\n",
    "\n",
    "    ve = 0.2 * ve1 + 0.8 * ve2\n",
    "\n",
    "    OnePiece.figure.plot_x_y([ve1, ve2])\n",
    "\n",
    "    OnePiece.figure.plot_x_y(call_all(ve1, ve2, ve); name_ = name_)\n",
    "\n",
    "end"
   ]
  },
  {
   "cell_type": "code",
   "execution_count": null,
   "id": "88cbc90a",
   "metadata": {
    "execution": {
     "iopub.execute_input": "2022-02-09T22:46:03.513624Z",
     "iopub.status.busy": "2022-02-09T22:46:03.513019Z",
     "iopub.status.idle": "2022-02-09T22:46:03.860801Z",
     "shell.execute_reply": "2022-02-09T22:46:03.860321Z"
    }
   },
   "outputs": [],
   "source": [
    "n_po = 100\n",
    "\n",
    "ve1 = OnePiece.informatics.tensor.shift_minimum(randn(n_po), \"0<\")\n",
    "\n",
    "ve1s = ve1 .+ 1\n",
    "\n",
    "ve2 = OnePiece.informatics.tensor.shift_minimum(randn(n_po), \"0<\")\n",
    "\n",
    ";"
   ]
  },
  {
   "cell_type": "code",
   "execution_count": null,
   "id": "e020a0e1",
   "metadata": {
    "execution": {
     "iopub.execute_input": "2022-02-09T22:46:03.862771Z",
     "iopub.status.busy": "2022-02-09T22:46:03.862106Z",
     "iopub.status.idle": "2022-02-09T22:46:05.688710Z",
     "shell.execute_reply": "2022-02-09T22:46:05.688189Z"
    }
   },
   "outputs": [],
   "source": [
    "for (ve1, ve2) in [(ve1, ve1), (ve1, ve1s), (ve1, ve2)]\n",
    "\n",
    "    un1 = kde(ve1)\n",
    "\n",
    "    un2 = kde(ve2)\n",
    "\n",
    "    de1 = un1.density\n",
    "\n",
    "    de2 = un2.density\n",
    "\n",
    "    de3 = 0.2 * de1 + 0.8 * de2\n",
    "\n",
    "    OnePiece.figure.plot_x_y(\n",
    "        [de1, de2],\n",
    "        [collect(un1.x), collect(un2.x)];\n",
    "        la = Layout(yaxis_title = \"Density\", xaxis_title = \"Grid\"),\n",
    "    )\n",
    "\n",
    "    OnePiece.figure.plot_x_y(call_all(de1, de2, de3); name_ = name_)\n",
    "\n",
    "end"
   ]
  },
  {
   "cell_type": "markdown",
   "id": "c70b0baa",
   "metadata": {},
   "source": [
    "## get_mutual_information"
   ]
  },
  {
   "cell_type": "markdown",
   "id": "8461b7b1",
   "metadata": {},
   "source": [
    "## get_information_coefficient"
   ]
  },
  {
   "cell_type": "code",
   "execution_count": null,
   "id": "c5166563",
   "metadata": {
    "execution": {
     "iopub.execute_input": "2022-02-09T22:46:05.690821Z",
     "iopub.status.busy": "2022-02-09T22:46:05.690235Z",
     "iopub.status.idle": "2022-02-09T22:46:05.703031Z",
     "shell.execute_reply": "2022-02-09T22:46:05.702458Z"
    }
   },
   "outputs": [],
   "source": [
    "ve1 = collect(0:10)\n",
    "\n",
    "ve2 = collect(0:10:100)\n",
    "\n",
    ";"
   ]
  },
  {
   "cell_type": "code",
   "execution_count": null,
   "id": "5925b5e8",
   "metadata": {
    "execution": {
     "iopub.execute_input": "2022-02-09T22:46:05.704935Z",
     "iopub.status.busy": "2022-02-09T22:46:05.704360Z",
     "iopub.status.idle": "2022-02-09T22:46:06.598588Z",
     "shell.execute_reply": "2022-02-09T22:46:06.598183Z"
    }
   },
   "outputs": [],
   "source": [
    "bi = kde((ve1, ve2); npoints = (8, 8))"
   ]
  },
  {
   "cell_type": "code",
   "execution_count": null,
   "id": "417bbe4f",
   "metadata": {
    "execution": {
     "iopub.execute_input": "2022-02-09T22:46:06.600655Z",
     "iopub.status.busy": "2022-02-09T22:46:06.600138Z",
     "iopub.status.idle": "2022-02-09T22:46:07.050857Z",
     "shell.execute_reply": "2022-02-09T22:46:07.050312Z"
    }
   },
   "outputs": [],
   "source": [
    "y = collect(bi.y)"
   ]
  },
  {
   "cell_type": "code",
   "execution_count": null,
   "id": "03012e4f",
   "metadata": {
    "execution": {
     "iopub.execute_input": "2022-02-09T22:46:07.052709Z",
     "iopub.status.busy": "2022-02-09T22:46:07.052114Z",
     "iopub.status.idle": "2022-02-09T22:46:07.066670Z",
     "shell.execute_reply": "2022-02-09T22:46:07.066140Z"
    }
   },
   "outputs": [],
   "source": [
    "x = collect(bi.x)"
   ]
  },
  {
   "cell_type": "code",
   "execution_count": null,
   "id": "0c396852",
   "metadata": {
    "execution": {
     "iopub.execute_input": "2022-02-09T22:46:07.068580Z",
     "iopub.status.busy": "2022-02-09T22:46:07.067920Z",
     "iopub.status.idle": "2022-02-09T22:46:07.439716Z",
     "shell.execute_reply": "2022-02-09T22:46:07.439253Z"
    }
   },
   "outputs": [],
   "source": [
    "z = bi.density"
   ]
  }
 ],
 "metadata": {
  "@webio": {
   "lastCommId": null,
   "lastKernelId": null
  },
  "kernelspec": {
   "display_name": "Julia 1.7.1",
   "language": "julia",
   "name": "julia-1.7"
  },
  "language_info": {
   "file_extension": ".jl",
   "mimetype": "application/julia",
   "name": "julia",
   "version": "1.7.2"
  }
 },
 "nbformat": 4,
 "nbformat_minor": 5
}
