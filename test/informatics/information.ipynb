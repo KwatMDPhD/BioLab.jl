{
 "cells": [
  {
   "cell_type": "code",
   "execution_count": null,
   "id": "34e4701e",
   "metadata": {
    "execution": {
     "iopub.execute_input": "2022-02-09T05:35:54.476177Z",
     "iopub.status.busy": "2022-02-09T05:35:54.048120Z",
     "iopub.status.idle": "2022-02-09T05:35:55.517986Z",
     "shell.execute_reply": "2022-02-09T05:35:55.517413Z"
    }
   },
   "outputs": [],
   "source": [
    "using Revise\n",
    "using BenchmarkTools"
   ]
  },
  {
   "cell_type": "code",
   "execution_count": null,
   "id": "e00891d2",
   "metadata": {
    "execution": {
     "iopub.execute_input": "2022-02-09T05:35:55.520134Z",
     "iopub.status.busy": "2022-02-09T05:35:55.519412Z",
     "iopub.status.idle": "2022-02-09T05:36:08.205219Z",
     "shell.execute_reply": "2022-02-09T05:36:08.204650Z"
    }
   },
   "outputs": [],
   "source": [
    "using KernelDensity\n",
    "using PlotlyJS\n",
    "\n",
    "using OnePiece"
   ]
  },
  {
   "cell_type": "markdown",
   "id": "d8129c93",
   "metadata": {},
   "source": [
    "## get_entropy"
   ]
  },
  {
   "cell_type": "code",
   "execution_count": null,
   "id": "2ed7bdd2",
   "metadata": {
    "execution": {
     "iopub.execute_input": "2022-02-09T05:36:09.900908Z",
     "iopub.status.busy": "2022-02-09T05:36:08.206756Z",
     "iopub.status.idle": "2022-02-09T05:36:10.819551Z",
     "shell.execute_reply": "2022-02-09T05:36:10.818958Z"
    }
   },
   "outputs": [],
   "source": [
    "OnePiece.informatics.information.get_entropy"
   ]
  },
  {
   "cell_type": "markdown",
   "id": "7b4bdb29",
   "metadata": {},
   "source": [
    "## get_signal_to_noise_ratio"
   ]
  },
  {
   "cell_type": "code",
   "execution_count": null,
   "id": "0d0a78e1",
   "metadata": {
    "execution": {
     "iopub.execute_input": "2022-02-09T05:36:10.821880Z",
     "iopub.status.busy": "2022-02-09T05:36:10.821154Z",
     "iopub.status.idle": "2022-02-09T05:36:11.195703Z",
     "shell.execute_reply": "2022-02-09T05:36:11.195242Z"
    }
   },
   "outputs": [],
   "source": [
    "ve1 = collect(1:3)\n",
    "\n",
    "ve2 = collect(10:10:30)\n",
    "\n",
    "OnePiece.informatics.information.get_signal_to_noise_ratio(ve1, ve2)"
   ]
  },
  {
   "cell_type": "markdown",
   "id": "0f0e8de5",
   "metadata": {},
   "source": [
    "## get_kolmogorov_smirnov_statistic"
   ]
  },
  {
   "cell_type": "markdown",
   "id": "832c520e",
   "metadata": {},
   "source": [
    "## get_kullback_leibler_divergence"
   ]
  },
  {
   "cell_type": "markdown",
   "id": "1ce1afa5",
   "metadata": {},
   "source": [
    "## get_jensen_shannon_divergence"
   ]
  },
  {
   "cell_type": "markdown",
   "id": "d523618a",
   "metadata": {},
   "source": [
    "## get_kwat_pablo_divergence"
   ]
  },
  {
   "cell_type": "markdown",
   "id": "5ac4c6b8",
   "metadata": {},
   "source": [
    "## get_thermodynamic_breadth"
   ]
  },
  {
   "cell_type": "markdown",
   "id": "b292cc2a",
   "metadata": {},
   "source": [
    "## get_thermodynamic_depth"
   ]
  },
  {
   "cell_type": "code",
   "execution_count": null,
   "id": "2cb26e91",
   "metadata": {
    "execution": {
     "iopub.execute_input": "2022-02-09T05:36:11.198139Z",
     "iopub.status.busy": "2022-02-09T05:36:11.197540Z",
     "iopub.status.idle": "2022-02-09T05:36:11.288057Z",
     "shell.execute_reply": "2022-02-09T05:36:11.287541Z"
    }
   },
   "outputs": [],
   "source": [
    "function call_all(ve1, ve2, ve)\n",
    "\n",
    "    return vcat(\n",
    "        [\n",
    "            fu(ve1, ve2) for fu in [\n",
    "                OnePiece.informatics.information.get_kolmogorov_smirnov_statistic,\n",
    "                OnePiece.informatics.information.get_kullback_leibler_divergence,\n",
    "                OnePiece.informatics.information.get_thermodynamic_breadth,\n",
    "                OnePiece.informatics.information.get_thermodynamic_depth,\n",
    "            ]\n",
    "        ],\n",
    "        [\n",
    "            fu(ve1, ve2, ve) for fu in [\n",
    "                OnePiece.informatics.information.get_jensen_shannon_divergence,\n",
    "                OnePiece.informatics.information.get_kwat_pablo_divergence,\n",
    "            ]\n",
    "        ],\n",
    "    )\n",
    "\n",
    "end"
   ]
  },
  {
   "cell_type": "code",
   "execution_count": null,
   "id": "29c066e9",
   "metadata": {
    "execution": {
     "iopub.execute_input": "2022-02-09T05:36:11.289916Z",
     "iopub.status.busy": "2022-02-09T05:36:11.289337Z",
     "iopub.status.idle": "2022-02-09T05:36:12.519499Z",
     "shell.execute_reply": "2022-02-09T05:36:12.518972Z"
    }
   },
   "outputs": [],
   "source": [
    "name_ = [\n",
    "    \"kolmogorov_smirnov_statistic\",\n",
    "    \"kullback_leibler_divergence\",\n",
    "    \"thermodynamic_breadth\",\n",
    "    \"thermodynamic_depth\",\n",
    "    \"jensen_shannon_divergence\",\n",
    "    \"kwat_pablo_divergence\",\n",
    "]"
   ]
  },
  {
   "cell_type": "code",
   "execution_count": null,
   "id": "7ccdd712",
   "metadata": {
    "execution": {
     "iopub.execute_input": "2022-02-09T05:36:12.521661Z",
     "iopub.status.busy": "2022-02-09T05:36:12.520956Z",
     "iopub.status.idle": "2022-02-09T05:36:19.296226Z",
     "shell.execute_reply": "2022-02-09T05:36:19.295687Z"
    }
   },
   "outputs": [],
   "source": [
    "for (ve1, ve2) in [([1, 1, 1], [1, 1, 1]), ([1, 2, 3], [10, 20, 30])]\n",
    "\n",
    "    ve = 0.2 * ve1 + 0.8 * ve2\n",
    "\n",
    "    OnePiece.figure.plot_x_y([ve1, ve2])\n",
    "\n",
    "    OnePiece.figure.plot_x_y(call_all(ve1, ve2, ve); name_ = name_)\n",
    "\n",
    "end"
   ]
  },
  {
   "cell_type": "code",
   "execution_count": null,
   "id": "88cbc90a",
   "metadata": {
    "execution": {
     "iopub.execute_input": "2022-02-09T05:36:19.298103Z",
     "iopub.status.busy": "2022-02-09T05:36:19.297521Z",
     "iopub.status.idle": "2022-02-09T05:36:19.641299Z",
     "shell.execute_reply": "2022-02-09T05:36:19.640758Z"
    }
   },
   "outputs": [],
   "source": [
    "n_po = 100\n",
    "\n",
    "ve1 = OnePiece.informatics.tensor.shift_minimum(randn(n_po), \"0<\")\n",
    "\n",
    "ve1s = ve1 .+ 1\n",
    "\n",
    "ve2 = OnePiece.informatics.tensor.shift_minimum(randn(n_po), \"0<\")\n",
    "\n",
    ";"
   ]
  },
  {
   "cell_type": "code",
   "execution_count": null,
   "id": "e020a0e1",
   "metadata": {
    "execution": {
     "iopub.execute_input": "2022-02-09T05:36:19.643255Z",
     "iopub.status.busy": "2022-02-09T05:36:19.642542Z",
     "iopub.status.idle": "2022-02-09T05:36:21.608057Z",
     "shell.execute_reply": "2022-02-09T05:36:21.607609Z"
    }
   },
   "outputs": [],
   "source": [
    "for (ve1, ve2) in [(ve1, ve1), (ve1, ve1s), (ve1, ve2)]\n",
    "\n",
    "    un1 = kde(ve1)\n",
    "\n",
    "    un2 = kde(ve2)\n",
    "\n",
    "    de1 = un1.density\n",
    "\n",
    "    de2 = un2.density\n",
    "\n",
    "    de3 = 0.2 * de1 + 0.8 * de2\n",
    "\n",
    "    OnePiece.figure.plot_x_y(\n",
    "        [de1, de2],\n",
    "        [collect(un1.x), collect(un2.x)];\n",
    "        la = Layout(yaxis_title = \"Density\", xaxis_title = \"Grid\"),\n",
    "    )\n",
    "\n",
    "    OnePiece.figure.plot_x_y(call_all(de1, de2, de3); name_ = name_)\n",
    "\n",
    "end"
   ]
  },
  {
   "cell_type": "markdown",
   "id": "c70b0baa",
   "metadata": {},
   "source": [
    "## get_mutual_information"
   ]
  },
  {
   "cell_type": "markdown",
   "id": "8461b7b1",
   "metadata": {},
   "source": [
    "## get_information_coefficient"
   ]
  },
  {
   "cell_type": "code",
   "execution_count": null,
   "id": "c5166563",
   "metadata": {
    "execution": {
     "iopub.execute_input": "2022-02-09T05:36:21.610182Z",
     "iopub.status.busy": "2022-02-09T05:36:21.609590Z",
     "iopub.status.idle": "2022-02-09T05:36:21.622357Z",
     "shell.execute_reply": "2022-02-09T05:36:21.621896Z"
    }
   },
   "outputs": [],
   "source": [
    "ve1 = collect(0:10)\n",
    "\n",
    "ve2 = collect(0:10:100)\n",
    "\n",
    ";"
   ]
  },
  {
   "cell_type": "code",
   "execution_count": null,
   "id": "5925b5e8",
   "metadata": {
    "execution": {
     "iopub.execute_input": "2022-02-09T05:36:21.624504Z",
     "iopub.status.busy": "2022-02-09T05:36:21.623840Z",
     "iopub.status.idle": "2022-02-09T05:36:22.518220Z",
     "shell.execute_reply": "2022-02-09T05:36:22.517692Z"
    }
   },
   "outputs": [],
   "source": [
    "bi = kde((ve1, ve2); npoints = (8, 8))"
   ]
  },
  {
   "cell_type": "code",
   "execution_count": null,
   "id": "417bbe4f",
   "metadata": {
    "execution": {
     "iopub.execute_input": "2022-02-09T05:36:22.520273Z",
     "iopub.status.busy": "2022-02-09T05:36:22.519559Z",
     "iopub.status.idle": "2022-02-09T05:36:23.004010Z",
     "shell.execute_reply": "2022-02-09T05:36:23.003383Z"
    }
   },
   "outputs": [],
   "source": [
    "y = collect(bi.y)"
   ]
  },
  {
   "cell_type": "code",
   "execution_count": null,
   "id": "03012e4f",
   "metadata": {
    "execution": {
     "iopub.execute_input": "2022-02-09T05:36:23.006148Z",
     "iopub.status.busy": "2022-02-09T05:36:23.005544Z",
     "iopub.status.idle": "2022-02-09T05:36:23.021064Z",
     "shell.execute_reply": "2022-02-09T05:36:23.020510Z"
    }
   },
   "outputs": [],
   "source": [
    "x = collect(bi.x)"
   ]
  },
  {
   "cell_type": "code",
   "execution_count": null,
   "id": "0c396852",
   "metadata": {
    "execution": {
     "iopub.execute_input": "2022-02-09T05:36:23.022871Z",
     "iopub.status.busy": "2022-02-09T05:36:23.022292Z",
     "iopub.status.idle": "2022-02-09T05:36:23.396829Z",
     "shell.execute_reply": "2022-02-09T05:36:23.396359Z"
    }
   },
   "outputs": [],
   "source": [
    "z = bi.density"
   ]
  }
 ],
 "metadata": {
  "@webio": {
   "lastCommId": null,
   "lastKernelId": null
  },
  "kernelspec": {
   "display_name": "Julia 1.7.1",
   "language": "julia",
   "name": "julia-1.7"
  },
  "language_info": {
   "file_extension": ".jl",
   "mimetype": "application/julia",
   "name": "julia",
   "version": "1.7.2"
  }
 },
 "nbformat": 4,
 "nbformat_minor": 5
}
