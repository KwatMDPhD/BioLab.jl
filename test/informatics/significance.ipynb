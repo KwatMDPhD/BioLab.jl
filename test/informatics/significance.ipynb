{
 "cells": [
  {
   "cell_type": "code",
   "execution_count": null,
   "id": "34e4701e",
   "metadata": {
    "execution": {
     "iopub.execute_input": "2022-02-09T00:05:47.808417Z",
     "iopub.status.busy": "2022-02-09T00:05:47.387322Z",
     "iopub.status.idle": "2022-02-09T00:05:48.869105Z",
     "shell.execute_reply": "2022-02-09T00:05:48.868546Z"
    }
   },
   "outputs": [],
   "source": [
    "using Revise\n",
    "using BenchmarkTools"
   ]
  },
  {
   "cell_type": "code",
   "execution_count": null,
   "id": "b095ff65",
   "metadata": {
    "execution": {
     "iopub.execute_input": "2022-02-09T00:05:48.871089Z",
     "iopub.status.busy": "2022-02-09T00:05:48.870425Z",
     "iopub.status.idle": "2022-02-09T00:06:00.389122Z",
     "shell.execute_reply": "2022-02-09T00:06:00.388541Z"
    }
   },
   "outputs": [],
   "source": [
    "using OnePiece"
   ]
  },
  {
   "cell_type": "markdown",
   "id": "ae685fd8",
   "metadata": {},
   "source": [
    "## get_p_value"
   ]
  },
  {
   "cell_type": "code",
   "execution_count": null,
   "id": "872652f7",
   "metadata": {
    "execution": {
     "iopub.execute_input": "2022-02-09T00:06:02.194739Z",
     "iopub.status.busy": "2022-02-09T00:06:00.390540Z",
     "iopub.status.idle": "2022-02-09T00:06:03.186879Z",
     "shell.execute_reply": "2022-02-09T00:06:03.186364Z"
    }
   },
   "outputs": [],
   "source": [
    "ra_ = collect(1:10)\n",
    "\n",
    "for va in [1, 2, 9, 10]\n",
    "\n",
    "    println(\"=\"^99)\n",
    "\n",
    "    println(va)\n",
    "\n",
    "    for si in [\"<\", \">\"]\n",
    "\n",
    "        println(\"-\"^99)\n",
    "\n",
    "        println(si)\n",
    "\n",
    "        println(OnePiece.informatics.significance.get_p_value(va, ra_, si))\n",
    "\n",
    "    end\n",
    "\n",
    "end"
   ]
  },
  {
   "cell_type": "markdown",
   "id": "15008511",
   "metadata": {},
   "source": [
    "## adjust_p_value"
   ]
  },
  {
   "cell_type": "code",
   "execution_count": null,
   "id": "57840889",
   "metadata": {
    "execution": {
     "iopub.execute_input": "2022-02-09T00:06:03.188868Z",
     "iopub.status.busy": "2022-02-09T00:06:03.188301Z",
     "iopub.status.idle": "2022-02-09T00:06:03.201753Z",
     "shell.execute_reply": "2022-02-09T00:06:03.201219Z"
    }
   },
   "outputs": [],
   "source": [
    "pv_ = [0.001, 0.01, 0.03, 0.5]\n",
    "\n",
    "n_te = 6\n",
    "\n",
    ";"
   ]
  },
  {
   "cell_type": "code",
   "execution_count": null,
   "id": "c72db5fb",
   "metadata": {
    "execution": {
     "iopub.execute_input": "2022-02-09T00:06:03.203745Z",
     "iopub.status.busy": "2022-02-09T00:06:03.203100Z",
     "iopub.status.idle": "2022-02-09T00:06:03.621630Z",
     "shell.execute_reply": "2022-02-09T00:06:03.621177Z"
    }
   },
   "outputs": [],
   "source": [
    "for me in [\"bonferroni\", \"benjamini_hochberg\"]\n",
    "\n",
    "    println(\"-\"^99)\n",
    "\n",
    "    println(me)\n",
    "\n",
    "    println(OnePiece.informatics.significance.adjust_p_value(pv_; me = me))\n",
    "\n",
    "    println(OnePiece.informatics.significance.adjust_p_value(pv_, n_te; me = me))\n",
    "\n",
    "end"
   ]
  },
  {
   "cell_type": "code",
   "execution_count": null,
   "id": "1a25abbc",
   "metadata": {
    "execution": {
     "iopub.execute_input": "2022-02-09T00:06:03.623537Z",
     "iopub.status.busy": "2022-02-09T00:06:03.622960Z",
     "iopub.status.idle": "2022-02-09T00:06:03.826815Z",
     "shell.execute_reply": "2022-02-09T00:06:03.826424Z"
    }
   },
   "outputs": [],
   "source": [
    "for n_pv in [2, 4, 8, 10]\n",
    "\n",
    "    println(\"-\"^99)\n",
    "\n",
    "    local pv_ = collect(range(0.001, 1; length = n_pv))\n",
    "\n",
    "    println(pv_)\n",
    "\n",
    "    println(OnePiece.informatics.significance.adjust_p_value(pv_))\n",
    "\n",
    "end"
   ]
  },
  {
   "cell_type": "markdown",
   "id": "5f4fef5b",
   "metadata": {},
   "source": [
    "## get_p_value_and_adjust"
   ]
  },
  {
   "cell_type": "code",
   "execution_count": null,
   "id": "836a98f6",
   "metadata": {
    "execution": {
     "iopub.execute_input": "2022-02-09T00:06:03.828616Z",
     "iopub.status.busy": "2022-02-09T00:06:03.828113Z",
     "iopub.status.idle": "2022-02-09T00:06:04.084304Z",
     "shell.execute_reply": "2022-02-09T00:06:04.083792Z"
    }
   },
   "outputs": [],
   "source": [
    "fl_ = [0, 1, 8, 9]\n",
    "\n",
    "ra_ = collect(0:9)\n",
    "\n",
    "for si in [\"<\", \">\"]\n",
    "\n",
    "    println(OnePiece.informatics.significance.get_p_value_and_adjust(fl_, ra_, si))\n",
    "\n",
    "end\n",
    "\n",
    "println(OnePiece.informatics.significance.get_p_value_and_adjust(fl_, ra_))"
   ]
  },
  {
   "cell_type": "markdown",
   "id": "8ef63d69",
   "metadata": {},
   "source": [
    "## get_margin_of_error"
   ]
  },
  {
   "cell_type": "code",
   "execution_count": null,
   "id": "61203e2a",
   "metadata": {
    "execution": {
     "iopub.execute_input": "2022-02-09T00:06:04.086450Z",
     "iopub.status.busy": "2022-02-09T00:06:04.085673Z",
     "iopub.status.idle": "2022-02-09T00:06:05.180160Z",
     "shell.execute_reply": "2022-02-09T00:06:05.179659Z"
    }
   },
   "outputs": [],
   "source": [
    "for po in 0:8\n",
    "\n",
    "    println(\"-\"^99)\n",
    "\n",
    "    n_po = 10^po\n",
    "\n",
    "    println(n_po)\n",
    "\n",
    "    println(OnePiece.informatics.significance.get_margin_of_error(randn(n_po)))\n",
    "\n",
    "end"
   ]
  }
 ],
 "metadata": {
  "@webio": {
   "lastCommId": "3b85cfb56d24485a9072491d8a57bd78",
   "lastKernelId": "adee6571-f437-4fd7-ac4d-c49b78669630"
  },
  "kernelspec": {
   "display_name": "Julia 1.7.1",
   "language": "julia",
   "name": "julia-1.7"
  },
  "language_info": {
   "file_extension": ".jl",
   "mimetype": "application/julia",
   "name": "julia",
   "version": "1.7.2"
  }
 },
 "nbformat": 4,
 "nbformat_minor": 5
}
