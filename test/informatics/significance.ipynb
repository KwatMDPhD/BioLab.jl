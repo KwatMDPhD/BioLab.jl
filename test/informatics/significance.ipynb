{
 "cells": [
  {
   "cell_type": "code",
   "execution_count": null,
   "id": "017464da",
   "metadata": {
    "execution": {
     "iopub.execute_input": "2022-02-13T22:58:36.180203Z",
     "iopub.status.busy": "2022-02-13T22:58:35.849595Z",
     "iopub.status.idle": "2022-02-13T22:58:36.361195Z",
     "shell.execute_reply": "2022-02-13T22:58:36.360707Z"
    }
   },
   "outputs": [],
   "source": [
    "TE = joinpath(tempdir(), \"OnePiece.test\")\n",
    "\n",
    "if isdir(TE)\n",
    "\n",
    "    rm(TE, recursive = true)\n",
    "\n",
    "    println(\"Removed \", TE, \".\")\n",
    "\n",
    "end\n",
    "\n",
    "mkdir(TE)\n",
    "\n",
    "println(\"Made \", TE, \".\")"
   ]
  },
  {
   "cell_type": "code",
   "execution_count": null,
   "id": "34e4701e",
   "metadata": {
    "execution": {
     "iopub.execute_input": "2022-02-13T22:58:36.363276Z",
     "iopub.status.busy": "2022-02-13T22:58:36.362728Z",
     "iopub.status.idle": "2022-02-13T22:58:40.323502Z",
     "shell.execute_reply": "2022-02-13T22:58:40.323024Z"
    }
   },
   "outputs": [],
   "source": [
    "using OnePiece"
   ]
  },
  {
   "cell_type": "markdown",
   "id": "b92a3da9",
   "metadata": {},
   "source": [
    "---"
   ]
  },
  {
   "cell_type": "markdown",
   "id": "ae685fd8",
   "metadata": {},
   "source": [
    "## get_p_value"
   ]
  },
  {
   "cell_type": "code",
   "execution_count": null,
   "id": "872652f7",
   "metadata": {
    "execution": {
     "iopub.execute_input": "2022-02-13T22:58:40.616849Z",
     "iopub.status.busy": "2022-02-13T22:58:40.324877Z",
     "iopub.status.idle": "2022-02-13T22:58:40.877077Z",
     "shell.execute_reply": "2022-02-13T22:58:40.876649Z"
    }
   },
   "outputs": [],
   "source": [
    "ra_ = collect(1:10)\n",
    "\n",
    "for va in [1, 2, 9, 10]\n",
    "\n",
    "    println(\"=\"^99)\n",
    "\n",
    "    println(va)\n",
    "\n",
    "    for si in [\"<\", \">\"]\n",
    "\n",
    "        println(\"-\"^99)\n",
    "\n",
    "        println(si)\n",
    "\n",
    "        println(OnePiece.informatics.significance.get_p_value(va, ra_, si))\n",
    "\n",
    "    end\n",
    "\n",
    "end"
   ]
  },
  {
   "cell_type": "markdown",
   "id": "15008511",
   "metadata": {},
   "source": [
    "## adjust_p_value"
   ]
  },
  {
   "cell_type": "code",
   "execution_count": null,
   "id": "57840889",
   "metadata": {
    "execution": {
     "iopub.execute_input": "2022-02-13T22:58:40.879553Z",
     "iopub.status.busy": "2022-02-13T22:58:40.878594Z",
     "iopub.status.idle": "2022-02-13T22:58:40.880386Z",
     "shell.execute_reply": "2022-02-13T22:58:40.880047Z"
    }
   },
   "outputs": [],
   "source": [
    "pv_ = [0.001, 0.01, 0.03, 0.5]\n",
    "\n",
    "n_te = 6\n",
    "\n",
    ";"
   ]
  },
  {
   "cell_type": "code",
   "execution_count": null,
   "id": "c72db5fb",
   "metadata": {
    "execution": {
     "iopub.execute_input": "2022-02-13T22:58:40.882259Z",
     "iopub.status.busy": "2022-02-13T22:58:40.881767Z",
     "iopub.status.idle": "2022-02-13T22:58:41.216767Z",
     "shell.execute_reply": "2022-02-13T22:58:41.216398Z"
    }
   },
   "outputs": [],
   "source": [
    "for me in [\"bonferroni\", \"benjamini_hochberg\"]\n",
    "\n",
    "    println(\"-\"^99)\n",
    "\n",
    "    println(me)\n",
    "\n",
    "    println(OnePiece.informatics.significance.adjust_p_value(pv_; me = me))\n",
    "\n",
    "    println(OnePiece.informatics.significance.adjust_p_value(pv_, n_te; me = me))\n",
    "\n",
    "end"
   ]
  },
  {
   "cell_type": "code",
   "execution_count": null,
   "id": "f0eef006",
   "metadata": {
    "execution": {
     "iopub.execute_input": "2022-02-13T22:58:41.218745Z",
     "iopub.status.busy": "2022-02-13T22:58:41.218264Z",
     "iopub.status.idle": "2022-02-13T22:58:42.106725Z",
     "shell.execute_reply": "2022-02-13T22:58:42.106266Z"
    }
   },
   "outputs": [],
   "source": [
    "pv_ = [0.005, 0.009, 0.019, 0.022, 0.051, 0.101, 0.361, 0.387]\n",
    "\n",
    "pva_ = [0.036, 0.036, 0.044, 0.044, 0.082, 0.135, 0.387, 0.387]\n",
    "\n",
    "@assert all(pva_ .== round.(OnePiece.informatics.significance.adjust_p_value(pv_); digits = 3))"
   ]
  },
  {
   "cell_type": "code",
   "execution_count": null,
   "id": "1a25abbc",
   "metadata": {
    "execution": {
     "iopub.execute_input": "2022-02-13T22:58:42.108592Z",
     "iopub.status.busy": "2022-02-13T22:58:42.108072Z",
     "iopub.status.idle": "2022-02-13T22:58:42.260791Z",
     "shell.execute_reply": "2022-02-13T22:58:42.260451Z"
    }
   },
   "outputs": [],
   "source": [
    "for n_pv in [2, 4, 8, 10]\n",
    "\n",
    "    println(\"-\"^99)\n",
    "\n",
    "    local pv_ = collect(range(0.001, 1; length = n_pv))\n",
    "\n",
    "    println(pv_)\n",
    "\n",
    "    println(OnePiece.informatics.significance.adjust_p_value(pv_))\n",
    "\n",
    "end"
   ]
  },
  {
   "cell_type": "markdown",
   "id": "5f4fef5b",
   "metadata": {},
   "source": [
    "## get_p_value_and_adjust"
   ]
  },
  {
   "cell_type": "code",
   "execution_count": null,
   "id": "836a98f6",
   "metadata": {
    "execution": {
     "iopub.execute_input": "2022-02-13T22:58:42.262859Z",
     "iopub.status.busy": "2022-02-13T22:58:42.262343Z",
     "iopub.status.idle": "2022-02-13T22:58:42.462820Z",
     "shell.execute_reply": "2022-02-13T22:58:42.462450Z"
    }
   },
   "outputs": [],
   "source": [
    "fl_ = [0, 1, 8, 9]\n",
    "\n",
    "ra_ = collect(0:9)\n",
    "\n",
    "for si in [\"<\", \">\"]\n",
    "\n",
    "    println(OnePiece.informatics.significance.get_p_value_and_adjust(fl_, ra_, si))\n",
    "\n",
    "end\n",
    "\n",
    "println(OnePiece.informatics.significance.get_p_value_and_adjust(fl_, ra_))"
   ]
  },
  {
   "cell_type": "markdown",
   "id": "8ef63d69",
   "metadata": {},
   "source": [
    "## get_margin_of_error"
   ]
  },
  {
   "cell_type": "code",
   "execution_count": null,
   "id": "61203e2a",
   "metadata": {
    "execution": {
     "iopub.execute_input": "2022-02-13T22:58:42.464930Z",
     "iopub.status.busy": "2022-02-13T22:58:42.464430Z",
     "iopub.status.idle": "2022-02-13T22:58:43.289807Z",
     "shell.execute_reply": "2022-02-13T22:58:43.289341Z"
    }
   },
   "outputs": [],
   "source": [
    "for po in 0:8\n",
    "\n",
    "    println(\"-\"^99)\n",
    "\n",
    "    n_po = 10^po\n",
    "\n",
    "    println(n_po)\n",
    "\n",
    "    println(OnePiece.informatics.significance.get_margin_of_error(randn(n_po)))\n",
    "\n",
    "end"
   ]
  },
  {
   "cell_type": "markdown",
   "id": "3f396855",
   "metadata": {},
   "source": [
    "---"
   ]
  },
  {
   "cell_type": "code",
   "execution_count": null,
   "id": "b4af2023",
   "metadata": {
    "execution": {
     "iopub.execute_input": "2022-02-13T22:58:43.291850Z",
     "iopub.status.busy": "2022-02-13T22:58:43.291250Z",
     "iopub.status.idle": "2022-02-13T22:58:43.293741Z",
     "shell.execute_reply": "2022-02-13T22:58:43.293295Z"
    }
   },
   "outputs": [],
   "source": [
    "if isdir(TE)\n",
    "\n",
    "    rm(TE, recursive = true)\n",
    "\n",
    "    println(\"Removed \", TE, \".\")\n",
    "\n",
    "end"
   ]
  }
 ],
 "metadata": {
  "kernelspec": {
   "display_name": "Julia 1.7.2",
   "language": "julia",
   "name": "julia-1.7"
  },
  "language_info": {
   "file_extension": ".jl",
   "mimetype": "application/julia",
   "name": "julia",
   "version": "1.7.2"
  }
 },
 "nbformat": 4,
 "nbformat_minor": 5
}
