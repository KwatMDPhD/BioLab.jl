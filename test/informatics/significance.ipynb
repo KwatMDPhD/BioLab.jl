{
 "cells": [
  {
   "cell_type": "code",
   "execution_count": null,
   "id": "017464da",
   "metadata": {
    "execution": {
     "iopub.execute_input": "2022-02-11T19:59:16.560806Z",
     "iopub.status.busy": "2022-02-11T19:59:16.205546Z",
     "iopub.status.idle": "2022-02-11T19:59:16.767774Z",
     "shell.execute_reply": "2022-02-11T19:59:16.767202Z"
    }
   },
   "outputs": [],
   "source": [
    "TE = joinpath(tempdir(), \"OnePiece.test\")\n",
    "\n",
    "if isdir(TE)\n",
    "\n",
    "    rm(TE, recursive = true)\n",
    "\n",
    "    println(\"Removed \", TE, \".\")\n",
    "\n",
    "end\n",
    "\n",
    "mkdir(TE)\n",
    "\n",
    "println(\"Made \", TE, \".\")"
   ]
  },
  {
   "cell_type": "code",
   "execution_count": null,
   "id": "34e4701e",
   "metadata": {
    "execution": {
     "iopub.execute_input": "2022-02-11T19:59:16.769966Z",
     "iopub.status.busy": "2022-02-11T19:59:16.769276Z",
     "iopub.status.idle": "2022-02-11T19:59:21.552207Z",
     "shell.execute_reply": "2022-02-11T19:59:21.551753Z"
    }
   },
   "outputs": [],
   "source": [
    "using OnePiece"
   ]
  },
  {
   "cell_type": "markdown",
   "id": "b92a3da9",
   "metadata": {},
   "source": [
    "---"
   ]
  },
  {
   "cell_type": "markdown",
   "id": "ae685fd8",
   "metadata": {},
   "source": [
    "## get_p_value"
   ]
  },
  {
   "cell_type": "code",
   "execution_count": null,
   "id": "872652f7",
   "metadata": {
    "execution": {
     "iopub.execute_input": "2022-02-11T19:59:21.924626Z",
     "iopub.status.busy": "2022-02-11T19:59:21.553624Z",
     "iopub.status.idle": "2022-02-11T19:59:22.240179Z",
     "shell.execute_reply": "2022-02-11T19:59:22.239635Z"
    }
   },
   "outputs": [],
   "source": [
    "ra_ = collect(1:10)\n",
    "\n",
    "for va in [1, 2, 9, 10]\n",
    "\n",
    "    println(\"=\"^99)\n",
    "\n",
    "    println(va)\n",
    "\n",
    "    for si in [\"<\", \">\"]\n",
    "\n",
    "        println(\"-\"^99)\n",
    "\n",
    "        println(si)\n",
    "\n",
    "        println(OnePiece.informatics.significance.get_p_value(va, ra_, si))\n",
    "\n",
    "    end\n",
    "\n",
    "end"
   ]
  },
  {
   "cell_type": "markdown",
   "id": "15008511",
   "metadata": {},
   "source": [
    "## adjust_p_value"
   ]
  },
  {
   "cell_type": "code",
   "execution_count": null,
   "id": "57840889",
   "metadata": {
    "execution": {
     "iopub.execute_input": "2022-02-11T19:59:22.242679Z",
     "iopub.status.busy": "2022-02-11T19:59:22.241902Z",
     "iopub.status.idle": "2022-02-11T19:59:22.243879Z",
     "shell.execute_reply": "2022-02-11T19:59:22.243420Z"
    }
   },
   "outputs": [],
   "source": [
    "pv_ = [0.001, 0.01, 0.03, 0.5]\n",
    "\n",
    "n_te = 6\n",
    "\n",
    ";"
   ]
  },
  {
   "cell_type": "code",
   "execution_count": null,
   "id": "c72db5fb",
   "metadata": {
    "execution": {
     "iopub.execute_input": "2022-02-11T19:59:22.245703Z",
     "iopub.status.busy": "2022-02-11T19:59:22.245088Z",
     "iopub.status.idle": "2022-02-11T19:59:22.651519Z",
     "shell.execute_reply": "2022-02-11T19:59:22.651022Z"
    }
   },
   "outputs": [],
   "source": [
    "for me in [\"bonferroni\", \"benjamini_hochberg\"]\n",
    "\n",
    "    println(\"-\"^99)\n",
    "\n",
    "    println(me)\n",
    "\n",
    "    println(OnePiece.informatics.significance.adjust_p_value(pv_; me = me))\n",
    "\n",
    "    println(OnePiece.informatics.significance.adjust_p_value(pv_, n_te; me = me))\n",
    "\n",
    "end"
   ]
  },
  {
   "cell_type": "code",
   "execution_count": null,
   "id": "1a25abbc",
   "metadata": {
    "execution": {
     "iopub.execute_input": "2022-02-11T19:59:22.653479Z",
     "iopub.status.busy": "2022-02-11T19:59:22.652885Z",
     "iopub.status.idle": "2022-02-11T19:59:22.839519Z",
     "shell.execute_reply": "2022-02-11T19:59:22.839013Z"
    }
   },
   "outputs": [],
   "source": [
    "for n_pv in [2, 4, 8, 10]\n",
    "\n",
    "    println(\"-\"^99)\n",
    "\n",
    "    local pv_ = collect(range(0.001, 1; length = n_pv))\n",
    "\n",
    "    println(pv_)\n",
    "\n",
    "    println(OnePiece.informatics.significance.adjust_p_value(pv_))\n",
    "\n",
    "end"
   ]
  },
  {
   "cell_type": "markdown",
   "id": "5f4fef5b",
   "metadata": {},
   "source": [
    "## get_p_value_and_adjust"
   ]
  },
  {
   "cell_type": "code",
   "execution_count": null,
   "id": "836a98f6",
   "metadata": {
    "execution": {
     "iopub.execute_input": "2022-02-11T19:59:22.841656Z",
     "iopub.status.busy": "2022-02-11T19:59:22.841080Z",
     "iopub.status.idle": "2022-02-11T19:59:23.103831Z",
     "shell.execute_reply": "2022-02-11T19:59:23.103373Z"
    }
   },
   "outputs": [],
   "source": [
    "fl_ = [0, 1, 8, 9]\n",
    "\n",
    "ra_ = collect(0:9)\n",
    "\n",
    "for si in [\"<\", \">\"]\n",
    "\n",
    "    println(OnePiece.informatics.significance.get_p_value_and_adjust(fl_, ra_, si))\n",
    "\n",
    "end\n",
    "\n",
    "println(OnePiece.informatics.significance.get_p_value_and_adjust(fl_, ra_))"
   ]
  },
  {
   "cell_type": "markdown",
   "id": "8ef63d69",
   "metadata": {},
   "source": [
    "## get_margin_of_error"
   ]
  },
  {
   "cell_type": "code",
   "execution_count": null,
   "id": "61203e2a",
   "metadata": {
    "execution": {
     "iopub.execute_input": "2022-02-11T19:59:23.105734Z",
     "iopub.status.busy": "2022-02-11T19:59:23.105143Z",
     "iopub.status.idle": "2022-02-11T19:59:24.083005Z",
     "shell.execute_reply": "2022-02-11T19:59:24.082526Z"
    }
   },
   "outputs": [],
   "source": [
    "for po in 0:8\n",
    "\n",
    "    println(\"-\"^99)\n",
    "\n",
    "    n_po = 10^po\n",
    "\n",
    "    println(n_po)\n",
    "\n",
    "    println(OnePiece.informatics.significance.get_margin_of_error(randn(n_po)))\n",
    "\n",
    "end"
   ]
  },
  {
   "cell_type": "markdown",
   "id": "3f396855",
   "metadata": {},
   "source": [
    "---"
   ]
  },
  {
   "cell_type": "code",
   "execution_count": null,
   "id": "b4af2023",
   "metadata": {
    "execution": {
     "iopub.execute_input": "2022-02-11T19:59:24.085013Z",
     "iopub.status.busy": "2022-02-11T19:59:24.084409Z",
     "iopub.status.idle": "2022-02-11T19:59:24.086872Z",
     "shell.execute_reply": "2022-02-11T19:59:24.086427Z"
    }
   },
   "outputs": [],
   "source": [
    "if isdir(TE)\n",
    "\n",
    "    rm(TE, recursive = true)\n",
    "\n",
    "    println(\"Removed \", TE, \".\")\n",
    "\n",
    "end"
   ]
  }
 ],
 "metadata": {
  "kernelspec": {
   "display_name": "Julia 1.7.2",
   "language": "julia",
   "name": "julia-1.7"
  },
  "language_info": {
   "file_extension": ".jl",
   "mimetype": "application/julia",
   "name": "julia",
   "version": "1.7.2"
  }
 },
 "nbformat": 4,
 "nbformat_minor": 5
}
