{
 "cells": [
  {
   "cell_type": "code",
   "execution_count": null,
   "id": "017464da",
   "metadata": {
    "execution": {
     "iopub.execute_input": "2022-02-13T05:33:37.400054Z",
     "iopub.status.busy": "2022-02-13T05:33:36.999645Z",
     "iopub.status.idle": "2022-02-13T05:33:37.623024Z",
     "shell.execute_reply": "2022-02-13T05:33:37.622400Z"
    }
   },
   "outputs": [],
   "source": [
    "TE = joinpath(tempdir(), \"OnePiece.test\")\n",
    "\n",
    "if isdir(TE)\n",
    "\n",
    "    rm(TE, recursive = true)\n",
    "\n",
    "    println(\"Removed \", TE, \".\")\n",
    "\n",
    "end\n",
    "\n",
    "mkdir(TE)\n",
    "\n",
    "println(\"Made \", TE, \".\")"
   ]
  },
  {
   "cell_type": "code",
   "execution_count": null,
   "id": "34e4701e",
   "metadata": {
    "execution": {
     "iopub.execute_input": "2022-02-13T05:33:37.625009Z",
     "iopub.status.busy": "2022-02-13T05:33:37.624349Z",
     "iopub.status.idle": "2022-02-13T05:33:42.295551Z",
     "shell.execute_reply": "2022-02-13T05:33:42.295034Z"
    }
   },
   "outputs": [],
   "source": [
    "using OnePiece"
   ]
  },
  {
   "cell_type": "markdown",
   "id": "b92a3da9",
   "metadata": {},
   "source": [
    "---"
   ]
  },
  {
   "cell_type": "markdown",
   "id": "ae685fd8",
   "metadata": {},
   "source": [
    "## get_p_value"
   ]
  },
  {
   "cell_type": "code",
   "execution_count": null,
   "id": "872652f7",
   "metadata": {
    "execution": {
     "iopub.execute_input": "2022-02-13T05:33:42.633333Z",
     "iopub.status.busy": "2022-02-13T05:33:42.296979Z",
     "iopub.status.idle": "2022-02-13T05:33:42.939481Z",
     "shell.execute_reply": "2022-02-13T05:33:42.938961Z"
    }
   },
   "outputs": [],
   "source": [
    "ra_ = collect(1:10)\n",
    "\n",
    "for va in [1, 2, 9, 10]\n",
    "\n",
    "    println(\"=\"^99)\n",
    "\n",
    "    println(va)\n",
    "\n",
    "    for si in [\"<\", \">\"]\n",
    "\n",
    "        println(\"-\"^99)\n",
    "\n",
    "        println(si)\n",
    "\n",
    "        println(OnePiece.informatics.significance.get_p_value(va, ra_, si))\n",
    "\n",
    "    end\n",
    "\n",
    "end"
   ]
  },
  {
   "cell_type": "markdown",
   "id": "15008511",
   "metadata": {},
   "source": [
    "## adjust_p_value"
   ]
  },
  {
   "cell_type": "code",
   "execution_count": null,
   "id": "57840889",
   "metadata": {
    "execution": {
     "iopub.execute_input": "2022-02-13T05:33:42.941671Z",
     "iopub.status.busy": "2022-02-13T05:33:42.940863Z",
     "iopub.status.idle": "2022-02-13T05:33:42.942637Z",
     "shell.execute_reply": "2022-02-13T05:33:42.942191Z"
    }
   },
   "outputs": [],
   "source": [
    "pv_ = [0.001, 0.01, 0.03, 0.5]\n",
    "\n",
    "n_te = 6\n",
    "\n",
    ";"
   ]
  },
  {
   "cell_type": "code",
   "execution_count": null,
   "id": "c72db5fb",
   "metadata": {
    "execution": {
     "iopub.execute_input": "2022-02-13T05:33:42.944600Z",
     "iopub.status.busy": "2022-02-13T05:33:42.943959Z",
     "iopub.status.idle": "2022-02-13T05:33:43.358913Z",
     "shell.execute_reply": "2022-02-13T05:33:43.358439Z"
    }
   },
   "outputs": [],
   "source": [
    "for me in [\"bonferroni\", \"benjamini_hochberg\"]\n",
    "\n",
    "    println(\"-\"^99)\n",
    "\n",
    "    println(me)\n",
    "\n",
    "    println(OnePiece.informatics.significance.adjust_p_value(pv_; me = me))\n",
    "\n",
    "    println(OnePiece.informatics.significance.adjust_p_value(pv_, n_te; me = me))\n",
    "\n",
    "end"
   ]
  },
  {
   "cell_type": "code",
   "execution_count": null,
   "id": "f0eef006",
   "metadata": {
    "execution": {
     "iopub.execute_input": "2022-02-13T05:33:43.360828Z",
     "iopub.status.busy": "2022-02-13T05:33:43.360254Z",
     "iopub.status.idle": "2022-02-13T05:33:44.407525Z",
     "shell.execute_reply": "2022-02-13T05:33:44.407024Z"
    }
   },
   "outputs": [],
   "source": [
    "pv_ = [0.005, 0.009, 0.019, 0.022, 0.051, 0.101, 0.361, 0.387]\n",
    "\n",
    "pva_ = [0.036, 0.036, 0.044, 0.044, 0.082, 0.135, 0.387, 0.387]\n",
    "\n",
    "@assert all(pva_ .== round.(OnePiece.informatics.significance.adjust_p_value(pv_); digits = 3))"
   ]
  },
  {
   "cell_type": "code",
   "execution_count": null,
   "id": "1a25abbc",
   "metadata": {
    "execution": {
     "iopub.execute_input": "2022-02-13T05:33:44.409426Z",
     "iopub.status.busy": "2022-02-13T05:33:44.408850Z",
     "iopub.status.idle": "2022-02-13T05:33:44.588129Z",
     "shell.execute_reply": "2022-02-13T05:33:44.587675Z"
    }
   },
   "outputs": [],
   "source": [
    "for n_pv in [2, 4, 8, 10]\n",
    "\n",
    "    println(\"-\"^99)\n",
    "\n",
    "    local pv_ = collect(range(0.001, 1; length = n_pv))\n",
    "\n",
    "    println(pv_)\n",
    "\n",
    "    println(OnePiece.informatics.significance.adjust_p_value(pv_))\n",
    "\n",
    "end"
   ]
  },
  {
   "cell_type": "markdown",
   "id": "5f4fef5b",
   "metadata": {},
   "source": [
    "## get_p_value_and_adjust"
   ]
  },
  {
   "cell_type": "code",
   "execution_count": null,
   "id": "836a98f6",
   "metadata": {
    "execution": {
     "iopub.execute_input": "2022-02-13T05:33:44.590056Z",
     "iopub.status.busy": "2022-02-13T05:33:44.589482Z",
     "iopub.status.idle": "2022-02-13T05:33:44.826555Z",
     "shell.execute_reply": "2022-02-13T05:33:44.826104Z"
    }
   },
   "outputs": [],
   "source": [
    "fl_ = [0, 1, 8, 9]\n",
    "\n",
    "ra_ = collect(0:9)\n",
    "\n",
    "for si in [\"<\", \">\"]\n",
    "\n",
    "    println(OnePiece.informatics.significance.get_p_value_and_adjust(fl_, ra_, si))\n",
    "\n",
    "end\n",
    "\n",
    "println(OnePiece.informatics.significance.get_p_value_and_adjust(fl_, ra_))"
   ]
  },
  {
   "cell_type": "markdown",
   "id": "8ef63d69",
   "metadata": {},
   "source": [
    "## get_margin_of_error"
   ]
  },
  {
   "cell_type": "code",
   "execution_count": null,
   "id": "61203e2a",
   "metadata": {
    "execution": {
     "iopub.execute_input": "2022-02-13T05:33:44.828540Z",
     "iopub.status.busy": "2022-02-13T05:33:44.827962Z",
     "iopub.status.idle": "2022-02-13T05:33:45.771203Z",
     "shell.execute_reply": "2022-02-13T05:33:45.770779Z"
    }
   },
   "outputs": [],
   "source": [
    "for po in 0:8\n",
    "\n",
    "    println(\"-\"^99)\n",
    "\n",
    "    n_po = 10^po\n",
    "\n",
    "    println(n_po)\n",
    "\n",
    "    println(OnePiece.informatics.significance.get_margin_of_error(randn(n_po)))\n",
    "\n",
    "end"
   ]
  },
  {
   "cell_type": "markdown",
   "id": "3f396855",
   "metadata": {},
   "source": [
    "---"
   ]
  },
  {
   "cell_type": "code",
   "execution_count": null,
   "id": "b4af2023",
   "metadata": {
    "execution": {
     "iopub.execute_input": "2022-02-13T05:33:45.773199Z",
     "iopub.status.busy": "2022-02-13T05:33:45.772619Z",
     "iopub.status.idle": "2022-02-13T05:33:45.775113Z",
     "shell.execute_reply": "2022-02-13T05:33:45.774660Z"
    }
   },
   "outputs": [],
   "source": [
    "if isdir(TE)\n",
    "\n",
    "    rm(TE, recursive = true)\n",
    "\n",
    "    println(\"Removed \", TE, \".\")\n",
    "\n",
    "end"
   ]
  }
 ],
 "metadata": {
  "kernelspec": {
   "display_name": "Julia 1.7.2",
   "language": "julia",
   "name": "julia-1.7"
  },
  "language_info": {
   "file_extension": ".jl",
   "mimetype": "application/julia",
   "name": "julia",
   "version": "1.7.2"
  }
 },
 "nbformat": 4,
 "nbformat_minor": 5
}
