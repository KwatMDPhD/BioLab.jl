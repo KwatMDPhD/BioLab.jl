{
 "cells": [
  {
   "cell_type": "code",
   "execution_count": null,
   "id": "017464da",
   "metadata": {},
   "outputs": [],
   "source": [
    "TE = joinpath(tempdir(), \"OnePiece.test\")\n",
    "\n",
    "if isdir(TE)\n",
    "\n",
    "    rm(TE, recursive = true)\n",
    "\n",
    "    println(\"Removed \", TE, \".\")\n",
    "\n",
    "end\n",
    "\n",
    "mkdir(TE)\n",
    "\n",
    "println(\"Made \", TE, \".\")"
   ]
  },
  {
   "cell_type": "code",
   "execution_count": null,
   "id": "34e4701e",
   "metadata": {
    "execution": {
     "iopub.execute_input": "2022-02-10T17:51:23.590384Z",
     "iopub.status.busy": "2022-02-10T17:51:23.250154Z",
     "iopub.status.idle": "2022-02-10T17:51:24.482021Z",
     "shell.execute_reply": "2022-02-10T17:51:24.481306Z"
    }
   },
   "outputs": [],
   "source": [
    "using OnePiece"
   ]
  },
  {
   "cell_type": "markdown",
   "id": "b92a3da9",
   "metadata": {},
   "source": [
    "---"
   ]
  },
  {
   "cell_type": "markdown",
   "id": "ae685fd8",
   "metadata": {},
   "source": [
    "## get_p_value"
   ]
  },
  {
   "cell_type": "code",
   "execution_count": null,
   "id": "872652f7",
   "metadata": {
    "execution": {
     "iopub.execute_input": "2022-02-14T17:03:46.725200Z",
     "iopub.status.busy": "2022-02-14T17:03:46.374528Z",
     "iopub.status.idle": "2022-02-14T17:03:47.031873Z",
     "shell.execute_reply": "2022-02-14T17:03:47.031351Z"
    }
   },
   "outputs": [],
   "source": [
    "ra_ = collect(1:10)\n",
    "\n",
    "for va in [1, 2, 9, 10]\n",
    "\n",
    "    println(\"=\"^99)\n",
    "\n",
    "    println(va)\n",
    "\n",
    "    for si in [\"<\", \">\"]\n",
    "\n",
    "        println(\"-\"^99)\n",
    "\n",
    "        println(si)\n",
    "\n",
    "        println(OnePiece.informatics.significance.get_p_value(va, ra_, si))\n",
    "\n",
    "    end\n",
    "\n",
    "end"
   ]
  },
  {
   "cell_type": "markdown",
   "id": "15008511",
   "metadata": {},
   "source": [
    "## adjust_p_value"
   ]
  },
  {
   "cell_type": "code",
   "execution_count": null,
   "id": "57840889",
   "metadata": {
    "execution": {
     "iopub.execute_input": "2022-02-14T17:03:47.034088Z",
     "iopub.status.busy": "2022-02-14T17:03:47.033254Z",
     "iopub.status.idle": "2022-02-14T17:03:47.035112Z",
     "shell.execute_reply": "2022-02-14T17:03:47.034647Z"
    }
   },
   "outputs": [],
   "source": [
    "pv_ = [0.001, 0.01, 0.03, 0.5]\n",
    "\n",
    "n_te = 6\n",
    "\n",
    ";"
   ]
  },
  {
   "cell_type": "code",
   "execution_count": null,
   "id": "c72db5fb",
   "metadata": {
    "execution": {
     "iopub.execute_input": "2022-02-14T17:03:47.037093Z",
     "iopub.status.busy": "2022-02-14T17:03:47.036510Z",
     "iopub.status.idle": "2022-02-14T17:03:47.423630Z",
     "shell.execute_reply": "2022-02-14T17:03:47.423112Z"
    }
   },
   "outputs": [],
   "source": [
    "for me in [\"bonferroni\", \"benjamini_hochberg\"]\n",
    "\n",
    "    println(\"-\"^99)\n",
    "\n",
    "    println(me)\n",
    "\n",
    "    println(OnePiece.informatics.significance.adjust_p_value(pv_; me = me))\n",
    "\n",
    "    println(OnePiece.informatics.significance.adjust_p_value(pv_, n_te; me = me))\n",
    "\n",
    "end"
   ]
  },
  {
   "cell_type": "code",
   "execution_count": null,
   "id": "f0eef006",
   "metadata": {
    "execution": {
     "iopub.execute_input": "2022-02-14T17:03:47.425560Z",
     "iopub.status.busy": "2022-02-14T17:03:47.424969Z",
     "iopub.status.idle": "2022-02-14T17:03:48.479066Z",
     "shell.execute_reply": "2022-02-14T17:03:48.478508Z"
    }
   },
   "outputs": [],
   "source": [
    "pv_ = [0.005, 0.009, 0.019, 0.022, 0.051, 0.101, 0.361, 0.387]\n",
    "\n",
    "pva_ = [0.036, 0.036, 0.044, 0.044, 0.082, 0.135, 0.387, 0.387]\n",
    "\n",
    "@assert all(pva_ .== round.(OnePiece.informatics.significance.adjust_p_value(pv_); digits = 3))"
   ]
  },
  {
   "cell_type": "code",
   "execution_count": null,
   "id": "1a25abbc",
   "metadata": {
    "execution": {
     "iopub.execute_input": "2022-02-14T17:03:48.481001Z",
     "iopub.status.busy": "2022-02-14T17:03:48.480417Z",
     "iopub.status.idle": "2022-02-14T17:03:48.654832Z",
     "shell.execute_reply": "2022-02-14T17:03:48.654315Z"
    }
   },
   "outputs": [],
   "source": [
    "for n_pv in [2, 4, 8, 10]\n",
    "\n",
    "    println(\"-\"^99)\n",
    "\n",
    "    local pv_ = collect(range(0.001, 1; length = n_pv))\n",
    "\n",
    "    println(pv_)\n",
    "\n",
    "    println(OnePiece.informatics.significance.adjust_p_value(pv_))\n",
    "\n",
    "end"
   ]
  },
  {
   "cell_type": "markdown",
   "id": "5f4fef5b",
   "metadata": {},
   "source": [
    "## get_p_value_and_adjust"
   ]
  },
  {
   "cell_type": "code",
   "execution_count": null,
   "id": "836a98f6",
   "metadata": {
    "execution": {
     "iopub.execute_input": "2022-02-14T17:03:48.656817Z",
     "iopub.status.busy": "2022-02-14T17:03:48.656183Z",
     "iopub.status.idle": "2022-02-14T17:03:48.897292Z",
     "shell.execute_reply": "2022-02-14T17:03:48.896836Z"
    }
   },
   "outputs": [],
   "source": [
    "fl_ = [0, 1, 8, 9]\n",
    "\n",
    "ra_ = collect(0:9)\n",
    "\n",
    "for si in [\"<\", \">\"]\n",
    "\n",
    "    println(OnePiece.informatics.significance.get_p_value_and_adjust(fl_, ra_, si))\n",
    "\n",
    "end\n",
    "\n",
    "println(OnePiece.informatics.significance.get_p_value_and_adjust(fl_, ra_))"
   ]
  },
  {
   "cell_type": "markdown",
   "id": "8ef63d69",
   "metadata": {},
   "source": [
    "## get_margin_of_error"
   ]
  },
  {
   "cell_type": "code",
   "execution_count": null,
   "id": "61203e2a",
   "metadata": {
    "execution": {
     "iopub.execute_input": "2022-02-14T17:03:48.899257Z",
     "iopub.status.busy": "2022-02-14T17:03:48.898682Z",
     "iopub.status.idle": "2022-02-14T17:03:49.864883Z",
     "shell.execute_reply": "2022-02-14T17:03:49.864459Z"
    }
   },
   "outputs": [],
   "source": [
    "for po in 0:8\n",
    "\n",
    "    println(\"-\"^99)\n",
    "\n",
    "    n_po = 10^po\n",
    "\n",
    "    println(n_po)\n",
    "\n",
    "    println(OnePiece.informatics.significance.get_margin_of_error(randn(n_po)))\n",
    "\n",
    "end"
   ]
  },
  {
   "cell_type": "markdown",
   "id": "3f396855",
   "metadata": {},
   "source": [
    "---"
   ]
  },
  {
   "cell_type": "code",
   "execution_count": null,
   "id": "b4af2023",
   "metadata": {},
   "outputs": [],
   "source": [
    "if isdir(TE)\n",
    "\n",
    "    rm(TE, recursive = true)\n",
    "\n",
    "    println(\"Removed \", TE, \".\")\n",
    "\n",
    "end"
   ]
  }
 ],
 "metadata": {
  "kernelspec": {
   "display_name": "Julia 1.7.2",
   "language": "julia",
   "name": "julia-1.7"
  },
  "language_info": {
   "file_extension": ".jl",
   "mimetype": "application/julia",
   "name": "julia",
   "version": "1.7.2"
  }
 },
 "nbformat": 4,
 "nbformat_minor": 5
}
