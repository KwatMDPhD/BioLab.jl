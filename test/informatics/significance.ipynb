{
 "cells": [
  {
   "cell_type": "code",
   "execution_count": null,
   "id": "34e4701e",
   "metadata": {
    "execution": {
     "iopub.execute_input": "2022-02-07T23:36:23.169278Z",
     "iopub.status.busy": "2022-02-07T23:36:22.775430Z",
     "iopub.status.idle": "2022-02-07T23:36:24.013061Z",
     "shell.execute_reply": "2022-02-07T23:36:24.012581Z"
    }
   },
   "outputs": [],
   "source": [
    "using Revise\n",
    "using BenchmarkTools"
   ]
  },
  {
   "cell_type": "code",
   "execution_count": null,
   "id": "b095ff65",
   "metadata": {
    "execution": {
     "iopub.execute_input": "2022-02-07T23:36:24.014835Z",
     "iopub.status.busy": "2022-02-07T23:36:24.014337Z",
     "iopub.status.idle": "2022-02-07T23:36:35.409211Z",
     "shell.execute_reply": "2022-02-07T23:36:35.408592Z"
    }
   },
   "outputs": [],
   "source": [
    "using OnePiece"
   ]
  },
  {
   "cell_type": "markdown",
   "id": "ae685fd8",
   "metadata": {},
   "source": [
    "## get_p_value"
   ]
  },
  {
   "cell_type": "code",
   "execution_count": null,
   "id": "872652f7",
   "metadata": {
    "execution": {
     "iopub.execute_input": "2022-02-07T23:36:37.800327Z",
     "iopub.status.busy": "2022-02-07T23:36:37.799829Z",
     "iopub.status.idle": "2022-02-07T23:36:37.914598Z",
     "shell.execute_reply": "2022-02-07T23:36:37.914162Z"
    }
   },
   "outputs": [],
   "source": [
    "ra_ = collect(1:10)\n",
    "\n",
    "for va in [1, 2, 9, 10]\n",
    "\n",
    "    println(\"=\"^99)\n",
    "\n",
    "    println(va)\n",
    "\n",
    "    for si in [\"<\", \">\"]\n",
    "\n",
    "        println(\"-\"^99)\n",
    "\n",
    "        println(si)\n",
    "\n",
    "        println(OnePiece.informatics.significance.get_p_value(va, ra_, si))\n",
    "\n",
    "    end\n",
    "\n",
    "end"
   ]
  },
  {
   "cell_type": "markdown",
   "id": "15008511",
   "metadata": {},
   "source": [
    "## adjust_p_value"
   ]
  },
  {
   "cell_type": "code",
   "execution_count": null,
   "id": "57840889",
   "metadata": {
    "execution": {
     "iopub.execute_input": "2022-02-07T23:36:38.092818Z",
     "iopub.status.busy": "2022-02-07T23:36:38.092197Z",
     "iopub.status.idle": "2022-02-07T23:36:38.104754Z",
     "shell.execute_reply": "2022-02-07T23:36:38.104118Z"
    }
   },
   "outputs": [],
   "source": [
    "pv_ = [0.001, 0.01, 0.03, 0.5]\n",
    "\n",
    "n_te = 6\n",
    "\n",
    ";"
   ]
  },
  {
   "cell_type": "code",
   "execution_count": null,
   "id": "c72db5fb",
   "metadata": {
    "execution": {
     "iopub.execute_input": "2022-02-07T23:36:38.106609Z",
     "iopub.status.busy": "2022-02-07T23:36:38.106046Z",
     "iopub.status.idle": "2022-02-07T23:36:38.482615Z",
     "shell.execute_reply": "2022-02-07T23:36:38.482217Z"
    }
   },
   "outputs": [],
   "source": [
    "for me in [\"bonferroni\", \"benjamini_hochberg\"]\n",
    "\n",
    "    println(\"-\"^99)\n",
    "\n",
    "    println(me)\n",
    "\n",
    "    println(OnePiece.informatics.significance.adjust_p_value(pv_; me = me))\n",
    "\n",
    "    println(OnePiece.informatics.significance.adjust_p_value(pv_, n_te; me = me))\n",
    "\n",
    "end"
   ]
  },
  {
   "cell_type": "code",
   "execution_count": null,
   "id": "1a25abbc",
   "metadata": {
    "execution": {
     "iopub.execute_input": "2022-02-07T23:36:38.484596Z",
     "iopub.status.busy": "2022-02-07T23:36:38.484096Z",
     "iopub.status.idle": "2022-02-07T23:36:38.608184Z",
     "shell.execute_reply": "2022-02-07T23:36:38.607801Z"
    }
   },
   "outputs": [],
   "source": [
    "for n_pv in [2, 4, 8, 10]\n",
    "\n",
    "    println(\"-\"^99)\n",
    "\n",
    "    local pv_ = collect(range(0.001, 1; length = n_pv))\n",
    "\n",
    "    println(pv_)\n",
    "\n",
    "    println(OnePiece.informatics.significance.adjust_p_value(pv_))\n",
    "\n",
    "end"
   ]
  },
  {
   "cell_type": "markdown",
   "id": "5f4fef5b",
   "metadata": {},
   "source": [
    "## get_p_value_and_adjust"
   ]
  },
  {
   "cell_type": "code",
   "execution_count": null,
   "id": "836a98f6",
   "metadata": {
    "execution": {
     "iopub.execute_input": "2022-02-07T23:36:38.610109Z",
     "iopub.status.busy": "2022-02-07T23:36:38.609571Z",
     "iopub.status.idle": "2022-02-07T23:36:38.864176Z",
     "shell.execute_reply": "2022-02-07T23:36:38.863733Z"
    }
   },
   "outputs": [],
   "source": [
    "fl_ = [0, 1, 8, 9]\n",
    "\n",
    "ra_ = collect(0:9)\n",
    "\n",
    "for si in [\"<\", \">\"]\n",
    "\n",
    "    println(OnePiece.informatics.significance.get_p_value_and_adjust(fl_, ra_, si))\n",
    "\n",
    "end\n",
    "\n",
    "println(OnePiece.informatics.significance.get_p_value_and_adjust(fl_, ra_))"
   ]
  },
  {
   "cell_type": "markdown",
   "id": "8ef63d69",
   "metadata": {},
   "source": [
    "## get_margin_of_error"
   ]
  },
  {
   "cell_type": "code",
   "execution_count": null,
   "id": "61203e2a",
   "metadata": {
    "execution": {
     "iopub.execute_input": "2022-02-07T23:36:38.866407Z",
     "iopub.status.busy": "2022-02-07T23:36:38.865886Z",
     "iopub.status.idle": "2022-02-07T23:36:39.776401Z",
     "shell.execute_reply": "2022-02-07T23:36:39.775846Z"
    }
   },
   "outputs": [],
   "source": [
    "for po in 0:8\n",
    "\n",
    "    println(\"-\"^99)\n",
    "\n",
    "    n_po = 10^po\n",
    "\n",
    "    println(n_po)\n",
    "\n",
    "    println(OnePiece.informatics.significance.get_margin_of_error(randn(n_po)))\n",
    "\n",
    "end"
   ]
  }
 ],
 "metadata": {
  "@webio": {
   "lastCommId": "3b85cfb56d24485a9072491d8a57bd78",
   "lastKernelId": "adee6571-f437-4fd7-ac4d-c49b78669630"
  },
  "kernelspec": {
   "display_name": "Julia 1.7.1",
   "language": "julia",
   "name": "julia-1.7"
  },
  "language_info": {
   "file_extension": ".jl",
   "mimetype": "application/julia",
   "name": "julia",
   "version": "1.7.1"
  }
 },
 "nbformat": 4,
 "nbformat_minor": 5
}
