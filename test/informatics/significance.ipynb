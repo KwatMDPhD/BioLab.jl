{
 "cells": [
  {
   "cell_type": "code",
   "execution_count": null,
   "id": "34e4701e",
   "metadata": {
    "execution": {
     "iopub.execute_input": "2022-02-09T02:40:02.458113Z",
     "iopub.status.busy": "2022-02-09T02:40:02.051695Z",
     "iopub.status.idle": "2022-02-09T02:40:03.516460Z",
     "shell.execute_reply": "2022-02-09T02:40:03.515880Z"
    }
   },
   "outputs": [],
   "source": [
    "using Revise\n",
    "using BenchmarkTools"
   ]
  },
  {
   "cell_type": "code",
   "execution_count": null,
   "id": "b095ff65",
   "metadata": {
    "execution": {
     "iopub.execute_input": "2022-02-09T02:40:03.518405Z",
     "iopub.status.busy": "2022-02-09T02:40:03.517766Z",
     "iopub.status.idle": "2022-02-09T02:40:14.532666Z",
     "shell.execute_reply": "2022-02-09T02:40:14.532136Z"
    }
   },
   "outputs": [],
   "source": [
    "using OnePiece"
   ]
  },
  {
   "cell_type": "markdown",
   "id": "ae685fd8",
   "metadata": {},
   "source": [
    "## get_p_value"
   ]
  },
  {
   "cell_type": "code",
   "execution_count": null,
   "id": "872652f7",
   "metadata": {
    "execution": {
     "iopub.execute_input": "2022-02-09T02:40:16.224363Z",
     "iopub.status.busy": "2022-02-09T02:40:14.534118Z",
     "iopub.status.idle": "2022-02-09T02:40:17.194726Z",
     "shell.execute_reply": "2022-02-09T02:40:17.194208Z"
    }
   },
   "outputs": [],
   "source": [
    "ra_ = collect(1:10)\n",
    "\n",
    "for va in [1, 2, 9, 10]\n",
    "\n",
    "    println(\"=\"^99)\n",
    "\n",
    "    println(va)\n",
    "\n",
    "    for si in [\"<\", \">\"]\n",
    "\n",
    "        println(\"-\"^99)\n",
    "\n",
    "        println(si)\n",
    "\n",
    "        println(OnePiece.informatics.significance.get_p_value(va, ra_, si))\n",
    "\n",
    "    end\n",
    "\n",
    "end"
   ]
  },
  {
   "cell_type": "markdown",
   "id": "15008511",
   "metadata": {},
   "source": [
    "## adjust_p_value"
   ]
  },
  {
   "cell_type": "code",
   "execution_count": null,
   "id": "57840889",
   "metadata": {
    "execution": {
     "iopub.execute_input": "2022-02-09T02:40:17.196860Z",
     "iopub.status.busy": "2022-02-09T02:40:17.196181Z",
     "iopub.status.idle": "2022-02-09T02:40:17.209447Z",
     "shell.execute_reply": "2022-02-09T02:40:17.208845Z"
    }
   },
   "outputs": [],
   "source": [
    "pv_ = [0.001, 0.01, 0.03, 0.5]\n",
    "\n",
    "n_te = 6\n",
    "\n",
    ";"
   ]
  },
  {
   "cell_type": "code",
   "execution_count": null,
   "id": "c72db5fb",
   "metadata": {
    "execution": {
     "iopub.execute_input": "2022-02-09T02:40:17.211446Z",
     "iopub.status.busy": "2022-02-09T02:40:17.210859Z",
     "iopub.status.idle": "2022-02-09T02:40:17.617370Z",
     "shell.execute_reply": "2022-02-09T02:40:17.616955Z"
    }
   },
   "outputs": [],
   "source": [
    "for me in [\"bonferroni\", \"benjamini_hochberg\"]\n",
    "\n",
    "    println(\"-\"^99)\n",
    "\n",
    "    println(me)\n",
    "\n",
    "    println(OnePiece.informatics.significance.adjust_p_value(pv_; me = me))\n",
    "\n",
    "    println(OnePiece.informatics.significance.adjust_p_value(pv_, n_te; me = me))\n",
    "\n",
    "end"
   ]
  },
  {
   "cell_type": "code",
   "execution_count": null,
   "id": "1a25abbc",
   "metadata": {
    "execution": {
     "iopub.execute_input": "2022-02-09T02:40:17.619220Z",
     "iopub.status.busy": "2022-02-09T02:40:17.618651Z",
     "iopub.status.idle": "2022-02-09T02:40:17.827216Z",
     "shell.execute_reply": "2022-02-09T02:40:17.826785Z"
    }
   },
   "outputs": [],
   "source": [
    "for n_pv in [2, 4, 8, 10]\n",
    "\n",
    "    println(\"-\"^99)\n",
    "\n",
    "    local pv_ = collect(range(0.001, 1; length = n_pv))\n",
    "\n",
    "    println(pv_)\n",
    "\n",
    "    println(OnePiece.informatics.significance.adjust_p_value(pv_))\n",
    "\n",
    "end"
   ]
  },
  {
   "cell_type": "markdown",
   "id": "5f4fef5b",
   "metadata": {},
   "source": [
    "## get_p_value_and_adjust"
   ]
  },
  {
   "cell_type": "code",
   "execution_count": null,
   "id": "836a98f6",
   "metadata": {
    "execution": {
     "iopub.execute_input": "2022-02-09T02:40:17.829094Z",
     "iopub.status.busy": "2022-02-09T02:40:17.828549Z",
     "iopub.status.idle": "2022-02-09T02:40:18.081329Z",
     "shell.execute_reply": "2022-02-09T02:40:18.080528Z"
    }
   },
   "outputs": [],
   "source": [
    "fl_ = [0, 1, 8, 9]\n",
    "\n",
    "ra_ = collect(0:9)\n",
    "\n",
    "for si in [\"<\", \">\"]\n",
    "\n",
    "    println(OnePiece.informatics.significance.get_p_value_and_adjust(fl_, ra_, si))\n",
    "\n",
    "end\n",
    "\n",
    "println(OnePiece.informatics.significance.get_p_value_and_adjust(fl_, ra_))"
   ]
  },
  {
   "cell_type": "markdown",
   "id": "8ef63d69",
   "metadata": {},
   "source": [
    "## get_margin_of_error"
   ]
  },
  {
   "cell_type": "code",
   "execution_count": null,
   "id": "61203e2a",
   "metadata": {
    "execution": {
     "iopub.execute_input": "2022-02-09T02:40:18.083231Z",
     "iopub.status.busy": "2022-02-09T02:40:18.082731Z",
     "iopub.status.idle": "2022-02-09T02:40:19.110784Z",
     "shell.execute_reply": "2022-02-09T02:40:19.110361Z"
    }
   },
   "outputs": [],
   "source": [
    "for po in 0:8\n",
    "\n",
    "    println(\"-\"^99)\n",
    "\n",
    "    n_po = 10^po\n",
    "\n",
    "    println(n_po)\n",
    "\n",
    "    println(OnePiece.informatics.significance.get_margin_of_error(randn(n_po)))\n",
    "\n",
    "end"
   ]
  }
 ],
 "metadata": {
  "@webio": {
   "lastCommId": "3b85cfb56d24485a9072491d8a57bd78",
   "lastKernelId": "adee6571-f437-4fd7-ac4d-c49b78669630"
  },
  "kernelspec": {
   "display_name": "Julia 1.7.1",
   "language": "julia",
   "name": "julia-1.7"
  },
  "language_info": {
   "file_extension": ".jl",
   "mimetype": "application/julia",
   "name": "julia",
   "version": "1.7.2"
  }
 },
 "nbformat": 4,
 "nbformat_minor": 5
}
