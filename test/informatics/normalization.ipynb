{
 "cells": [
  {
   "cell_type": "code",
   "execution_count": null,
   "id": "017464da",
   "metadata": {
    "execution": {
     "iopub.execute_input": "2022-02-11T19:58:47.121773Z",
     "iopub.status.busy": "2022-02-11T19:58:46.745665Z",
     "iopub.status.idle": "2022-02-11T19:58:47.320087Z",
     "shell.execute_reply": "2022-02-11T19:58:47.319509Z"
    }
   },
   "outputs": [],
   "source": [
    "TE = joinpath(tempdir(), \"OnePiece.test\")\n",
    "\n",
    "if isdir(TE)\n",
    "\n",
    "    rm(TE, recursive = true)\n",
    "\n",
    "    println(\"Removed \", TE, \".\")\n",
    "\n",
    "end\n",
    "\n",
    "mkdir(TE)\n",
    "\n",
    "println(\"Made \", TE, \".\")"
   ]
  },
  {
   "cell_type": "code",
   "execution_count": null,
   "id": "34e4701e",
   "metadata": {
    "execution": {
     "iopub.execute_input": "2022-02-11T19:58:47.322098Z",
     "iopub.status.busy": "2022-02-11T19:58:47.321437Z",
     "iopub.status.idle": "2022-02-11T19:58:52.000769Z",
     "shell.execute_reply": "2022-02-11T19:58:52.000151Z"
    }
   },
   "outputs": [],
   "source": [
    "using OnePiece"
   ]
  },
  {
   "cell_type": "markdown",
   "id": "b92a3da9",
   "metadata": {},
   "source": [
    "---"
   ]
  },
  {
   "cell_type": "markdown",
   "id": "a148f3ac",
   "metadata": {},
   "source": [
    "## normalize"
   ]
  },
  {
   "cell_type": "code",
   "execution_count": null,
   "id": "42b8c10c",
   "metadata": {
    "execution": {
     "iopub.execute_input": "2022-02-11T19:58:52.358013Z",
     "iopub.status.busy": "2022-02-11T19:58:52.002254Z",
     "iopub.status.idle": "2022-02-11T19:58:53.430301Z",
     "shell.execute_reply": "2022-02-11T19:58:53.429841Z"
    }
   },
   "outputs": [],
   "source": [
    "try\n",
    "\n",
    "    OnePiece.informatics.normalization.normalize([], \"0-1\")\n",
    "\n",
    "catch er\n",
    "\n",
    "    er\n",
    "\n",
    "end"
   ]
  },
  {
   "cell_type": "code",
   "execution_count": null,
   "id": "0b1d79a3",
   "metadata": {
    "execution": {
     "iopub.execute_input": "2022-02-11T19:58:53.432195Z",
     "iopub.status.busy": "2022-02-11T19:58:53.431610Z",
     "iopub.status.idle": "2022-02-11T19:58:53.793370Z",
     "shell.execute_reply": "2022-02-11T19:58:53.792916Z"
    }
   },
   "outputs": [],
   "source": [
    "try\n",
    "\n",
    "    OnePiece.informatics.normalization.normalize([-1, 0, 1], \"sum\")\n",
    "\n",
    "catch er\n",
    "\n",
    "    er\n",
    "\n",
    "end"
   ]
  },
  {
   "cell_type": "code",
   "execution_count": null,
   "id": "9c521521",
   "metadata": {
    "execution": {
     "iopub.execute_input": "2022-02-11T19:58:53.795489Z",
     "iopub.status.busy": "2022-02-11T19:58:53.794810Z",
     "iopub.status.idle": "2022-02-11T19:58:54.146251Z",
     "shell.execute_reply": "2022-02-11T19:58:54.145805Z"
    }
   },
   "outputs": [],
   "source": [
    "for ve in [[0], [1], [0, 0, 0], [1, 1, 1], [0, 1, 2]]\n",
    "\n",
    "    println(\"=\"^99)\n",
    "\n",
    "    println(ve)\n",
    "\n",
    "    for me in [\"0-1\", \"sum\", \"-0-\"]\n",
    "\n",
    "        println(\"-\"^99)\n",
    "\n",
    "        println(me)\n",
    "\n",
    "        println(OnePiece.informatics.normalization.normalize(ve, me))\n",
    "\n",
    "    end\n",
    "\n",
    "end"
   ]
  },
  {
   "cell_type": "code",
   "execution_count": null,
   "id": "228681d6",
   "metadata": {
    "execution": {
     "iopub.execute_input": "2022-02-11T19:58:54.148134Z",
     "iopub.status.busy": "2022-02-11T19:58:54.147528Z",
     "iopub.status.idle": "2022-02-11T19:58:54.326992Z",
     "shell.execute_reply": "2022-02-11T19:58:54.326564Z"
    }
   },
   "outputs": [],
   "source": [
    "for ve in [[0], [-1, 0, 0, 1, 1, 1, 2]]\n",
    "\n",
    "    println(\"=\"^99)\n",
    "\n",
    "    println(ve)\n",
    "\n",
    "    println()\n",
    "\n",
    "    for me in [\"1223\", \"1224\", \"1 2.5 2.5 4\", \"1234\"]\n",
    "\n",
    "        println(\"-\"^99)\n",
    "\n",
    "        println(me)\n",
    "\n",
    "        println(OnePiece.informatics.normalization.normalize(ve, me))\n",
    "\n",
    "    end\n",
    "\n",
    "end"
   ]
  },
  {
   "cell_type": "markdown",
   "id": "0b9ec3f9",
   "metadata": {},
   "source": [
    "## normalize!"
   ]
  },
  {
   "cell_type": "code",
   "execution_count": null,
   "id": "7e983102",
   "metadata": {
    "execution": {
     "iopub.execute_input": "2022-02-11T19:58:54.329106Z",
     "iopub.status.busy": "2022-02-11T19:58:54.328394Z",
     "iopub.status.idle": "2022-02-11T19:58:55.007847Z",
     "shell.execute_reply": "2022-02-11T19:58:55.007380Z"
    }
   },
   "outputs": [],
   "source": [
    "ve = [NaN, -2, 0, NaN, 2, NaN]\n",
    "\n",
    "println(hash(ve))\n",
    "\n",
    "OnePiece.informatics.normalization.normalize!(ve, \"0-1\")\n",
    "\n",
    "println(hash(ve))"
   ]
  },
  {
   "cell_type": "markdown",
   "id": "3f396855",
   "metadata": {},
   "source": [
    "---"
   ]
  },
  {
   "cell_type": "code",
   "execution_count": null,
   "id": "b4af2023",
   "metadata": {
    "execution": {
     "iopub.execute_input": "2022-02-11T19:58:55.009954Z",
     "iopub.status.busy": "2022-02-11T19:58:55.009377Z",
     "iopub.status.idle": "2022-02-11T19:58:55.011875Z",
     "shell.execute_reply": "2022-02-11T19:58:55.011455Z"
    }
   },
   "outputs": [],
   "source": [
    "if isdir(TE)\n",
    "\n",
    "    rm(TE, recursive = true)\n",
    "\n",
    "    println(\"Removed \", TE, \".\")\n",
    "\n",
    "end"
   ]
  }
 ],
 "metadata": {
  "kernelspec": {
   "display_name": "Julia 1.7.2",
   "language": "julia",
   "name": "julia-1.7"
  },
  "language_info": {
   "file_extension": ".jl",
   "mimetype": "application/julia",
   "name": "julia",
   "version": "1.7.2"
  }
 },
 "nbformat": 4,
 "nbformat_minor": 5
}
