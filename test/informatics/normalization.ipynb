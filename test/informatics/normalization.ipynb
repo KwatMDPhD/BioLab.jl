{
 "cells": [
  {
   "cell_type": "code",
   "execution_count": null,
   "id": "017464da",
   "metadata": {
    "execution": {
     "iopub.execute_input": "2022-02-13T22:58:09.976499Z",
     "iopub.status.busy": "2022-02-13T22:58:09.642615Z",
     "iopub.status.idle": "2022-02-13T22:58:10.161425Z",
     "shell.execute_reply": "2022-02-13T22:58:10.160956Z"
    }
   },
   "outputs": [],
   "source": [
    "TE = joinpath(tempdir(), \"OnePiece.test\")\n",
    "\n",
    "if isdir(TE)\n",
    "\n",
    "    rm(TE, recursive = true)\n",
    "\n",
    "    println(\"Removed \", TE, \".\")\n",
    "\n",
    "end\n",
    "\n",
    "mkdir(TE)\n",
    "\n",
    "println(\"Made \", TE, \".\")"
   ]
  },
  {
   "cell_type": "code",
   "execution_count": null,
   "id": "34e4701e",
   "metadata": {
    "execution": {
     "iopub.execute_input": "2022-02-13T22:58:10.163490Z",
     "iopub.status.busy": "2022-02-13T22:58:10.162962Z",
     "iopub.status.idle": "2022-02-13T22:58:14.076791Z",
     "shell.execute_reply": "2022-02-13T22:58:14.076347Z"
    }
   },
   "outputs": [],
   "source": [
    "using OnePiece"
   ]
  },
  {
   "cell_type": "markdown",
   "id": "b92a3da9",
   "metadata": {},
   "source": [
    "---"
   ]
  },
  {
   "cell_type": "markdown",
   "id": "a148f3ac",
   "metadata": {},
   "source": [
    "## normalize"
   ]
  },
  {
   "cell_type": "code",
   "execution_count": null,
   "id": "42b8c10c",
   "metadata": {
    "execution": {
     "iopub.execute_input": "2022-02-13T22:58:14.383541Z",
     "iopub.status.busy": "2022-02-13T22:58:14.078165Z",
     "iopub.status.idle": "2022-02-13T22:58:15.274175Z",
     "shell.execute_reply": "2022-02-13T22:58:15.273804Z"
    }
   },
   "outputs": [],
   "source": [
    "try\n",
    "\n",
    "    OnePiece.informatics.normalization.normalize([], \"0-1\")\n",
    "\n",
    "catch er\n",
    "\n",
    "    er\n",
    "\n",
    "end"
   ]
  },
  {
   "cell_type": "code",
   "execution_count": null,
   "id": "0b1d79a3",
   "metadata": {
    "execution": {
     "iopub.execute_input": "2022-02-13T22:58:15.276254Z",
     "iopub.status.busy": "2022-02-13T22:58:15.275772Z",
     "iopub.status.idle": "2022-02-13T22:58:15.569041Z",
     "shell.execute_reply": "2022-02-13T22:58:15.568660Z"
    }
   },
   "outputs": [],
   "source": [
    "try\n",
    "\n",
    "    OnePiece.informatics.normalization.normalize([-1, 0, 1], \"sum\")\n",
    "\n",
    "catch er\n",
    "\n",
    "    er\n",
    "\n",
    "end"
   ]
  },
  {
   "cell_type": "code",
   "execution_count": null,
   "id": "9c521521",
   "metadata": {
    "execution": {
     "iopub.execute_input": "2022-02-13T22:58:15.570903Z",
     "iopub.status.busy": "2022-02-13T22:58:15.570423Z",
     "iopub.status.idle": "2022-02-13T22:58:15.859040Z",
     "shell.execute_reply": "2022-02-13T22:58:15.858639Z"
    }
   },
   "outputs": [],
   "source": [
    "for ve in [[0], [1], [0, 0, 0], [1, 1, 1], [0, 1, 2]]\n",
    "\n",
    "    println(\"=\"^99)\n",
    "\n",
    "    println(ve)\n",
    "\n",
    "    for me in [\"0-1\", \"sum\", \"-0-\"]\n",
    "\n",
    "        println(\"-\"^99)\n",
    "\n",
    "        println(me)\n",
    "\n",
    "        println(OnePiece.informatics.normalization.normalize(ve, me))\n",
    "\n",
    "    end\n",
    "\n",
    "end"
   ]
  },
  {
   "cell_type": "code",
   "execution_count": null,
   "id": "228681d6",
   "metadata": {
    "execution": {
     "iopub.execute_input": "2022-02-13T22:58:15.861229Z",
     "iopub.status.busy": "2022-02-13T22:58:15.860543Z",
     "iopub.status.idle": "2022-02-13T22:58:16.006527Z",
     "shell.execute_reply": "2022-02-13T22:58:16.006155Z"
    }
   },
   "outputs": [],
   "source": [
    "for ve in [[0], [-1, 0, 0, 1, 1, 1, 2]]\n",
    "\n",
    "    println(\"=\"^99)\n",
    "\n",
    "    println(ve)\n",
    "\n",
    "    println()\n",
    "\n",
    "    for me in [\"1223\", \"1224\", \"1 2.5 2.5 4\", \"1234\"]\n",
    "\n",
    "        println(\"-\"^99)\n",
    "\n",
    "        println(me)\n",
    "\n",
    "        println(OnePiece.informatics.normalization.normalize(ve, me))\n",
    "\n",
    "    end\n",
    "\n",
    "end"
   ]
  },
  {
   "cell_type": "markdown",
   "id": "0b9ec3f9",
   "metadata": {},
   "source": [
    "## normalize!"
   ]
  },
  {
   "cell_type": "code",
   "execution_count": null,
   "id": "7e983102",
   "metadata": {
    "execution": {
     "iopub.execute_input": "2022-02-13T22:58:16.008498Z",
     "iopub.status.busy": "2022-02-13T22:58:16.008017Z",
     "iopub.status.idle": "2022-02-13T22:58:16.585003Z",
     "shell.execute_reply": "2022-02-13T22:58:16.584653Z"
    }
   },
   "outputs": [],
   "source": [
    "ve = [NaN, -2, 0, NaN, 2, NaN]\n",
    "\n",
    "println(hash(ve))\n",
    "\n",
    "OnePiece.informatics.normalization.normalize!(ve, \"0-1\")\n",
    "\n",
    "println(hash(ve))"
   ]
  },
  {
   "cell_type": "markdown",
   "id": "3f396855",
   "metadata": {},
   "source": [
    "---"
   ]
  },
  {
   "cell_type": "code",
   "execution_count": null,
   "id": "b4af2023",
   "metadata": {
    "execution": {
     "iopub.execute_input": "2022-02-13T22:58:16.587201Z",
     "iopub.status.busy": "2022-02-13T22:58:16.586524Z",
     "iopub.status.idle": "2022-02-13T22:58:16.589220Z",
     "shell.execute_reply": "2022-02-13T22:58:16.588730Z"
    }
   },
   "outputs": [],
   "source": [
    "if isdir(TE)\n",
    "\n",
    "    rm(TE, recursive = true)\n",
    "\n",
    "    println(\"Removed \", TE, \".\")\n",
    "\n",
    "end"
   ]
  }
 ],
 "metadata": {
  "kernelspec": {
   "display_name": "Julia 1.7.2",
   "language": "julia",
   "name": "julia-1.7"
  },
  "language_info": {
   "file_extension": ".jl",
   "mimetype": "application/julia",
   "name": "julia",
   "version": "1.7.2"
  }
 },
 "nbformat": 4,
 "nbformat_minor": 5
}
