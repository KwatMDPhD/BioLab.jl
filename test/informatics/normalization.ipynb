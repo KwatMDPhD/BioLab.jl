{
 "cells": [
  {
   "cell_type": "code",
   "execution_count": null,
   "id": "34e4701e",
   "metadata": {
    "execution": {
     "iopub.execute_input": "2022-02-08T03:18:13.864037Z",
     "iopub.status.busy": "2022-02-08T03:18:13.466554Z",
     "iopub.status.idle": "2022-02-08T03:18:14.715283Z",
     "shell.execute_reply": "2022-02-08T03:18:14.714794Z"
    }
   },
   "outputs": [],
   "source": [
    "using Revise\n",
    "using BenchmarkTools"
   ]
  },
  {
   "cell_type": "code",
   "execution_count": null,
   "id": "cf8f924a",
   "metadata": {
    "execution": {
     "iopub.execute_input": "2022-02-08T03:18:14.717415Z",
     "iopub.status.busy": "2022-02-08T03:18:14.716827Z",
     "iopub.status.idle": "2022-02-08T03:18:26.657310Z",
     "shell.execute_reply": "2022-02-08T03:18:26.656751Z"
    }
   },
   "outputs": [],
   "source": [
    "using OnePiece"
   ]
  },
  {
   "cell_type": "markdown",
   "id": "a148f3ac",
   "metadata": {},
   "source": [
    "## normalize"
   ]
  },
  {
   "cell_type": "code",
   "execution_count": null,
   "id": "42b8c10c",
   "metadata": {
    "execution": {
     "iopub.execute_input": "2022-02-08T03:18:28.370415Z",
     "iopub.status.busy": "2022-02-08T03:18:26.658827Z",
     "iopub.status.idle": "2022-02-08T03:18:30.040568Z",
     "shell.execute_reply": "2022-02-08T03:18:30.040168Z"
    }
   },
   "outputs": [],
   "source": [
    "try\n",
    "\n",
    "    OnePiece.informatics.normalization.normalize([], \"0-1\")\n",
    "\n",
    "catch er\n",
    "   \n",
    "    er\n",
    "    \n",
    "end"
   ]
  },
  {
   "cell_type": "code",
   "execution_count": null,
   "id": "0b1d79a3",
   "metadata": {
    "execution": {
     "iopub.execute_input": "2022-02-08T03:18:30.042349Z",
     "iopub.status.busy": "2022-02-08T03:18:30.041826Z",
     "iopub.status.idle": "2022-02-08T03:18:30.408811Z",
     "shell.execute_reply": "2022-02-08T03:18:30.408161Z"
    }
   },
   "outputs": [],
   "source": [
    "try\n",
    "\n",
    "    OnePiece.informatics.normalization.normalize([-1, 0, 1], \"sum\")\n",
    "\n",
    "catch er\n",
    "\n",
    "    er\n",
    "\n",
    "end"
   ]
  },
  {
   "cell_type": "code",
   "execution_count": null,
   "id": "9c521521",
   "metadata": {
    "execution": {
     "iopub.execute_input": "2022-02-08T03:18:30.410560Z",
     "iopub.status.busy": "2022-02-08T03:18:30.410064Z",
     "iopub.status.idle": "2022-02-08T03:18:30.746968Z",
     "shell.execute_reply": "2022-02-08T03:18:30.746492Z"
    }
   },
   "outputs": [],
   "source": [
    "for ve in [\n",
    "    [0],\n",
    "    [1],\n",
    "    [0, 0, 0],\n",
    "    [1, 1, 1],\n",
    "    [0, 1, 2],\n",
    "]\n",
    "\n",
    "    println(\"=\"^99)\n",
    "\n",
    "    println(ve)\n",
    "\n",
    "    for me in [\"0-1\", \"sum\", \"-0-\"]\n",
    "\n",
    "        println(\"-\"^99)\n",
    "\n",
    "        println(me)\n",
    "\n",
    "        println(OnePiece.informatics.normalization.normalize(ve, me))\n",
    "\n",
    "    end\n",
    "\n",
    "end"
   ]
  },
  {
   "cell_type": "code",
   "execution_count": null,
   "id": "228681d6",
   "metadata": {
    "execution": {
     "iopub.execute_input": "2022-02-08T03:18:30.748710Z",
     "iopub.status.busy": "2022-02-08T03:18:30.748205Z",
     "iopub.status.idle": "2022-02-08T03:18:30.912339Z",
     "shell.execute_reply": "2022-02-08T03:18:30.911944Z"
    }
   },
   "outputs": [],
   "source": [
    "for ve in [[0], [-1, 0, 0, 1, 1, 1, 2]]\n",
    "\n",
    "    println(\"=\"^99)\n",
    "\n",
    "    println(ve)\n",
    "\n",
    "    println()\n",
    "\n",
    "    for me in [\"1223\", \"1224\", \"1 2.5 2.5 4\", \"1234\"]\n",
    "\n",
    "        println(\"-\"^99)\n",
    "\n",
    "        println(me)\n",
    "\n",
    "        println(OnePiece.informatics.normalization.normalize(ve, me))\n",
    "\n",
    "    end\n",
    "\n",
    "end"
   ]
  },
  {
   "cell_type": "markdown",
   "id": "0b9ec3f9",
   "metadata": {},
   "source": [
    "## normalize!"
   ]
  },
  {
   "cell_type": "code",
   "execution_count": null,
   "id": "7e983102",
   "metadata": {
    "execution": {
     "iopub.execute_input": "2022-02-08T03:18:30.914282Z",
     "iopub.status.busy": "2022-02-08T03:18:30.913781Z",
     "iopub.status.idle": "2022-02-08T03:18:31.559532Z",
     "shell.execute_reply": "2022-02-08T03:18:31.559151Z"
    }
   },
   "outputs": [],
   "source": [
    "ve = [NaN, -2, 0, NaN, 2, NaN]\n",
    "\n",
    "println(hash(ve))\n",
    "\n",
    "OnePiece.informatics.normalization.normalize!(ve, \"0-1\")\n",
    "\n",
    "println(hash(ve))"
   ]
  }
 ],
 "metadata": {
  "@webio": {
   "lastCommId": null,
   "lastKernelId": null
  },
  "kernelspec": {
   "display_name": "Julia 1.7.1",
   "language": "julia",
   "name": "julia-1.7"
  },
  "language_info": {
   "file_extension": ".jl",
   "mimetype": "application/julia",
   "name": "julia",
   "version": "1.7.1"
  }
 },
 "nbformat": 4,
 "nbformat_minor": 5
}
