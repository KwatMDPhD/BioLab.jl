{
 "cells": [
  {
   "cell_type": "code",
   "execution_count": null,
   "id": "017464da",
   "metadata": {
    "execution": {
     "iopub.execute_input": "2022-02-13T21:50:19.483908Z",
     "iopub.status.busy": "2022-02-13T21:50:19.129023Z",
     "iopub.status.idle": "2022-02-13T21:50:19.695736Z",
     "shell.execute_reply": "2022-02-13T21:50:19.694244Z"
    }
   },
   "outputs": [],
   "source": [
    "TE = joinpath(tempdir(), \"OnePiece.test\")\n",
    "\n",
    "if isdir(TE)\n",
    "\n",
    "    rm(TE, recursive = true)\n",
    "\n",
    "    println(\"Removed \", TE, \".\")\n",
    "\n",
    "end\n",
    "\n",
    "mkdir(TE)\n",
    "\n",
    "println(\"Made \", TE, \".\")"
   ]
  },
  {
   "cell_type": "code",
   "execution_count": null,
   "id": "34e4701e",
   "metadata": {
    "execution": {
     "iopub.execute_input": "2022-02-13T21:50:19.697808Z",
     "iopub.status.busy": "2022-02-13T21:50:19.697297Z",
     "iopub.status.idle": "2022-02-13T21:50:24.027364Z",
     "shell.execute_reply": "2022-02-13T21:50:24.026971Z"
    }
   },
   "outputs": [],
   "source": [
    "using OnePiece"
   ]
  },
  {
   "cell_type": "markdown",
   "id": "b92a3da9",
   "metadata": {},
   "source": [
    "---"
   ]
  },
  {
   "cell_type": "markdown",
   "id": "a148f3ac",
   "metadata": {},
   "source": [
    "## normalize"
   ]
  },
  {
   "cell_type": "code",
   "execution_count": null,
   "id": "42b8c10c",
   "metadata": {
    "execution": {
     "iopub.execute_input": "2022-02-13T21:50:24.348559Z",
     "iopub.status.busy": "2022-02-13T21:50:24.029849Z",
     "iopub.status.idle": "2022-02-13T21:50:25.348311Z",
     "shell.execute_reply": "2022-02-13T21:50:25.347926Z"
    }
   },
   "outputs": [],
   "source": [
    "try\n",
    "\n",
    "    OnePiece.informatics.normalization.normalize([], \"0-1\")\n",
    "\n",
    "catch er\n",
    "\n",
    "    er\n",
    "\n",
    "end"
   ]
  },
  {
   "cell_type": "code",
   "execution_count": null,
   "id": "0b1d79a3",
   "metadata": {
    "execution": {
     "iopub.execute_input": "2022-02-13T21:50:25.350214Z",
     "iopub.status.busy": "2022-02-13T21:50:25.349723Z",
     "iopub.status.idle": "2022-02-13T21:50:25.685744Z",
     "shell.execute_reply": "2022-02-13T21:50:25.685347Z"
    }
   },
   "outputs": [],
   "source": [
    "try\n",
    "\n",
    "    OnePiece.informatics.normalization.normalize([-1, 0, 1], \"sum\")\n",
    "\n",
    "catch er\n",
    "\n",
    "    er\n",
    "\n",
    "end"
   ]
  },
  {
   "cell_type": "code",
   "execution_count": null,
   "id": "9c521521",
   "metadata": {
    "execution": {
     "iopub.execute_input": "2022-02-13T21:50:25.687647Z",
     "iopub.status.busy": "2022-02-13T21:50:25.687146Z",
     "iopub.status.idle": "2022-02-13T21:50:26.006304Z",
     "shell.execute_reply": "2022-02-13T21:50:26.005865Z"
    }
   },
   "outputs": [],
   "source": [
    "for ve in [[0], [1], [0, 0, 0], [1, 1, 1], [0, 1, 2]]\n",
    "\n",
    "    println(\"=\"^99)\n",
    "\n",
    "    println(ve)\n",
    "\n",
    "    for me in [\"0-1\", \"sum\", \"-0-\"]\n",
    "\n",
    "        println(\"-\"^99)\n",
    "\n",
    "        println(me)\n",
    "\n",
    "        println(OnePiece.informatics.normalization.normalize(ve, me))\n",
    "\n",
    "    end\n",
    "\n",
    "end"
   ]
  },
  {
   "cell_type": "code",
   "execution_count": null,
   "id": "228681d6",
   "metadata": {
    "execution": {
     "iopub.execute_input": "2022-02-13T21:50:26.008341Z",
     "iopub.status.busy": "2022-02-13T21:50:26.007837Z",
     "iopub.status.idle": "2022-02-13T21:50:26.170367Z",
     "shell.execute_reply": "2022-02-13T21:50:26.169876Z"
    }
   },
   "outputs": [],
   "source": [
    "for ve in [[0], [-1, 0, 0, 1, 1, 1, 2]]\n",
    "\n",
    "    println(\"=\"^99)\n",
    "\n",
    "    println(ve)\n",
    "\n",
    "    println()\n",
    "\n",
    "    for me in [\"1223\", \"1224\", \"1 2.5 2.5 4\", \"1234\"]\n",
    "\n",
    "        println(\"-\"^99)\n",
    "\n",
    "        println(me)\n",
    "\n",
    "        println(OnePiece.informatics.normalization.normalize(ve, me))\n",
    "\n",
    "    end\n",
    "\n",
    "end"
   ]
  },
  {
   "cell_type": "markdown",
   "id": "0b9ec3f9",
   "metadata": {},
   "source": [
    "## normalize!"
   ]
  },
  {
   "cell_type": "code",
   "execution_count": null,
   "id": "7e983102",
   "metadata": {
    "execution": {
     "iopub.execute_input": "2022-02-13T21:50:26.172246Z",
     "iopub.status.busy": "2022-02-13T21:50:26.171755Z",
     "iopub.status.idle": "2022-02-13T21:50:26.823129Z",
     "shell.execute_reply": "2022-02-13T21:50:26.822781Z"
    }
   },
   "outputs": [],
   "source": [
    "ve = [NaN, -2, 0, NaN, 2, NaN]\n",
    "\n",
    "println(hash(ve))\n",
    "\n",
    "OnePiece.informatics.normalization.normalize!(ve, \"0-1\")\n",
    "\n",
    "println(hash(ve))"
   ]
  },
  {
   "cell_type": "markdown",
   "id": "3f396855",
   "metadata": {},
   "source": [
    "---"
   ]
  },
  {
   "cell_type": "code",
   "execution_count": null,
   "id": "b4af2023",
   "metadata": {
    "execution": {
     "iopub.execute_input": "2022-02-13T21:50:26.825283Z",
     "iopub.status.busy": "2022-02-13T21:50:26.824719Z",
     "iopub.status.idle": "2022-02-13T21:50:26.827086Z",
     "shell.execute_reply": "2022-02-13T21:50:26.826708Z"
    }
   },
   "outputs": [],
   "source": [
    "if isdir(TE)\n",
    "\n",
    "    rm(TE, recursive = true)\n",
    "\n",
    "    println(\"Removed \", TE, \".\")\n",
    "\n",
    "end"
   ]
  }
 ],
 "metadata": {
  "kernelspec": {
   "display_name": "Julia 1.7.2",
   "language": "julia",
   "name": "julia-1.7"
  },
  "language_info": {
   "file_extension": ".jl",
   "mimetype": "application/julia",
   "name": "julia",
   "version": "1.7.2"
  }
 },
 "nbformat": 4,
 "nbformat_minor": 5
}
