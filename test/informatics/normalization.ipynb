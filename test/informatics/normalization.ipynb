{
 "cells": [
  {
   "cell_type": "code",
   "execution_count": null,
   "id": "34e4701e",
   "metadata": {
    "execution": {
     "iopub.execute_input": "2022-02-09T05:34:16.411614Z",
     "iopub.status.busy": "2022-02-09T05:34:16.014482Z",
     "iopub.status.idle": "2022-02-09T05:34:17.357849Z",
     "shell.execute_reply": "2022-02-09T05:34:17.357214Z"
    }
   },
   "outputs": [],
   "source": [
    "using Revise\n",
    "using BenchmarkTools"
   ]
  },
  {
   "cell_type": "code",
   "execution_count": null,
   "id": "cf8f924a",
   "metadata": {
    "execution": {
     "iopub.execute_input": "2022-02-09T05:34:17.359958Z",
     "iopub.status.busy": "2022-02-09T05:34:17.359347Z",
     "iopub.status.idle": "2022-02-09T05:34:28.775719Z",
     "shell.execute_reply": "2022-02-09T05:34:28.775103Z"
    }
   },
   "outputs": [],
   "source": [
    "using OnePiece"
   ]
  },
  {
   "cell_type": "markdown",
   "id": "a148f3ac",
   "metadata": {},
   "source": [
    "## normalize"
   ]
  },
  {
   "cell_type": "code",
   "execution_count": null,
   "id": "42b8c10c",
   "metadata": {
    "execution": {
     "iopub.execute_input": "2022-02-09T05:34:30.493684Z",
     "iopub.status.busy": "2022-02-09T05:34:28.777212Z",
     "iopub.status.idle": "2022-02-09T05:34:31.934687Z",
     "shell.execute_reply": "2022-02-09T05:34:31.934198Z"
    }
   },
   "outputs": [],
   "source": [
    "try\n",
    "\n",
    "    OnePiece.informatics.normalization.normalize([], \"0-1\")\n",
    "\n",
    "catch er\n",
    "\n",
    "    er\n",
    "\n",
    "end"
   ]
  },
  {
   "cell_type": "code",
   "execution_count": null,
   "id": "0b1d79a3",
   "metadata": {
    "execution": {
     "iopub.execute_input": "2022-02-09T05:34:31.936989Z",
     "iopub.status.busy": "2022-02-09T05:34:31.936260Z",
     "iopub.status.idle": "2022-02-09T05:34:32.360156Z",
     "shell.execute_reply": "2022-02-09T05:34:32.359688Z"
    }
   },
   "outputs": [],
   "source": [
    "try\n",
    "\n",
    "    OnePiece.informatics.normalization.normalize([-1, 0, 1], \"sum\")\n",
    "\n",
    "catch er\n",
    "\n",
    "    er\n",
    "\n",
    "end"
   ]
  },
  {
   "cell_type": "code",
   "execution_count": null,
   "id": "9c521521",
   "metadata": {
    "execution": {
     "iopub.execute_input": "2022-02-09T05:34:32.361962Z",
     "iopub.status.busy": "2022-02-09T05:34:32.361383Z",
     "iopub.status.idle": "2022-02-09T05:34:32.751471Z",
     "shell.execute_reply": "2022-02-09T05:34:32.750869Z"
    }
   },
   "outputs": [],
   "source": [
    "for ve in [[0], [1], [0, 0, 0], [1, 1, 1], [0, 1, 2]]\n",
    "\n",
    "    println(\"=\"^99)\n",
    "\n",
    "    println(ve)\n",
    "\n",
    "    for me in [\"0-1\", \"sum\", \"-0-\"]\n",
    "\n",
    "        println(\"-\"^99)\n",
    "\n",
    "        println(me)\n",
    "\n",
    "        println(OnePiece.informatics.normalization.normalize(ve, me))\n",
    "\n",
    "    end\n",
    "\n",
    "end"
   ]
  },
  {
   "cell_type": "code",
   "execution_count": null,
   "id": "228681d6",
   "metadata": {
    "execution": {
     "iopub.execute_input": "2022-02-09T05:34:32.753447Z",
     "iopub.status.busy": "2022-02-09T05:34:32.752854Z",
     "iopub.status.idle": "2022-02-09T05:34:32.977589Z",
     "shell.execute_reply": "2022-02-09T05:34:32.977067Z"
    }
   },
   "outputs": [],
   "source": [
    "for ve in [[0], [-1, 0, 0, 1, 1, 1, 2]]\n",
    "\n",
    "    println(\"=\"^99)\n",
    "\n",
    "    println(ve)\n",
    "\n",
    "    println()\n",
    "\n",
    "    for me in [\"1223\", \"1224\", \"1 2.5 2.5 4\", \"1234\"]\n",
    "\n",
    "        println(\"-\"^99)\n",
    "\n",
    "        println(me)\n",
    "\n",
    "        println(OnePiece.informatics.normalization.normalize(ve, me))\n",
    "\n",
    "    end\n",
    "\n",
    "end"
   ]
  },
  {
   "cell_type": "markdown",
   "id": "0b9ec3f9",
   "metadata": {},
   "source": [
    "## normalize!"
   ]
  },
  {
   "cell_type": "code",
   "execution_count": null,
   "id": "7e983102",
   "metadata": {
    "execution": {
     "iopub.execute_input": "2022-02-09T05:34:32.979752Z",
     "iopub.status.busy": "2022-02-09T05:34:32.978995Z",
     "iopub.status.idle": "2022-02-09T05:34:33.767108Z",
     "shell.execute_reply": "2022-02-09T05:34:33.766691Z"
    }
   },
   "outputs": [],
   "source": [
    "ve = [NaN, -2, 0, NaN, 2, NaN]\n",
    "\n",
    "println(hash(ve))\n",
    "\n",
    "OnePiece.informatics.normalization.normalize!(ve, \"0-1\")\n",
    "\n",
    "println(hash(ve))"
   ]
  }
 ],
 "metadata": {
  "@webio": {
   "lastCommId": null,
   "lastKernelId": null
  },
  "kernelspec": {
   "display_name": "Julia 1.7.1",
   "language": "julia",
   "name": "julia-1.7"
  },
  "language_info": {
   "file_extension": ".jl",
   "mimetype": "application/julia",
   "name": "julia",
   "version": "1.7.2"
  }
 },
 "nbformat": 4,
 "nbformat_minor": 5
}
