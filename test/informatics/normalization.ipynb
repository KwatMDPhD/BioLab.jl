{
 "cells": [
  {
   "cell_type": "code",
   "execution_count": null,
   "id": "017464da",
   "metadata": {
    "execution": {
     "iopub.execute_input": "2022-02-14T16:13:49.937270Z",
     "iopub.status.busy": "2022-02-14T16:13:49.584612Z",
     "iopub.status.idle": "2022-02-14T16:13:50.144258Z",
     "shell.execute_reply": "2022-02-14T16:13:50.143745Z"
    }
   },
   "outputs": [],
   "source": [
    "TE = joinpath(tempdir(), \"OnePiece.test\")\n",
    "\n",
    "if isdir(TE)\n",
    "\n",
    "    rm(TE, recursive = true)\n",
    "\n",
    "    println(\"Removed \", TE, \".\")\n",
    "\n",
    "end\n",
    "\n",
    "mkdir(TE)\n",
    "\n",
    "println(\"Made \", TE, \".\")"
   ]
  },
  {
   "cell_type": "code",
   "execution_count": null,
   "id": "34e4701e",
   "metadata": {
    "execution": {
     "iopub.execute_input": "2022-02-14T16:13:50.146211Z",
     "iopub.status.busy": "2022-02-14T16:13:50.145690Z",
     "iopub.status.idle": "2022-02-14T16:13:54.601762Z",
     "shell.execute_reply": "2022-02-14T16:13:54.601252Z"
    }
   },
   "outputs": [],
   "source": [
    "using OnePiece"
   ]
  },
  {
   "cell_type": "markdown",
   "id": "b92a3da9",
   "metadata": {},
   "source": [
    "---"
   ]
  },
  {
   "cell_type": "markdown",
   "id": "a148f3ac",
   "metadata": {},
   "source": [
    "## normalize"
   ]
  },
  {
   "cell_type": "code",
   "execution_count": null,
   "id": "42b8c10c",
   "metadata": {
    "execution": {
     "iopub.execute_input": "2022-02-14T16:13:54.935118Z",
     "iopub.status.busy": "2022-02-14T16:13:54.603367Z",
     "iopub.status.idle": "2022-02-14T16:13:55.898807Z",
     "shell.execute_reply": "2022-02-14T16:13:55.898414Z"
    }
   },
   "outputs": [],
   "source": [
    "try\n",
    "\n",
    "    OnePiece.informatics.normalization.normalize([], \"0-1\")\n",
    "\n",
    "catch er\n",
    "\n",
    "    er\n",
    "\n",
    "end"
   ]
  },
  {
   "cell_type": "code",
   "execution_count": null,
   "id": "0b1d79a3",
   "metadata": {
    "execution": {
     "iopub.execute_input": "2022-02-14T16:13:55.900662Z",
     "iopub.status.busy": "2022-02-14T16:13:55.900169Z",
     "iopub.status.idle": "2022-02-14T16:13:56.278115Z",
     "shell.execute_reply": "2022-02-14T16:13:56.277651Z"
    }
   },
   "outputs": [],
   "source": [
    "try\n",
    "\n",
    "    OnePiece.informatics.normalization.normalize([-1, 0, 1], \"sum\")\n",
    "\n",
    "catch er\n",
    "\n",
    "    er\n",
    "\n",
    "end"
   ]
  },
  {
   "cell_type": "code",
   "execution_count": null,
   "id": "9c521521",
   "metadata": {
    "execution": {
     "iopub.execute_input": "2022-02-14T16:13:56.280039Z",
     "iopub.status.busy": "2022-02-14T16:13:56.279454Z",
     "iopub.status.idle": "2022-02-14T16:13:56.644611Z",
     "shell.execute_reply": "2022-02-14T16:13:56.644160Z"
    }
   },
   "outputs": [],
   "source": [
    "for ve in [[0], [1], [0, 0, 0], [1, 1, 1], [0, 1, 2]]\n",
    "\n",
    "    println(\"=\"^99)\n",
    "\n",
    "    println(ve)\n",
    "\n",
    "    for me in [\"0-1\", \"sum\", \"-0-\"]\n",
    "\n",
    "        println(\"-\"^99)\n",
    "\n",
    "        println(me)\n",
    "\n",
    "        println(OnePiece.informatics.normalization.normalize(ve, me))\n",
    "\n",
    "    end\n",
    "\n",
    "end"
   ]
  },
  {
   "cell_type": "code",
   "execution_count": null,
   "id": "228681d6",
   "metadata": {
    "execution": {
     "iopub.execute_input": "2022-02-14T16:13:56.646834Z",
     "iopub.status.busy": "2022-02-14T16:13:56.646003Z",
     "iopub.status.idle": "2022-02-14T16:13:56.823518Z",
     "shell.execute_reply": "2022-02-14T16:13:56.823018Z"
    }
   },
   "outputs": [],
   "source": [
    "for ve in [[0], [-1, 0, 0, 1, 1, 1, 2]]\n",
    "\n",
    "    println(\"=\"^99)\n",
    "\n",
    "    println(ve)\n",
    "\n",
    "    println()\n",
    "\n",
    "    for me in [\"1223\", \"1224\", \"1 2.5 2.5 4\", \"1234\"]\n",
    "\n",
    "        println(\"-\"^99)\n",
    "\n",
    "        println(me)\n",
    "\n",
    "        println(OnePiece.informatics.normalization.normalize(ve, me))\n",
    "\n",
    "    end\n",
    "\n",
    "end"
   ]
  },
  {
   "cell_type": "markdown",
   "id": "0b9ec3f9",
   "metadata": {},
   "source": [
    "## normalize!"
   ]
  },
  {
   "cell_type": "code",
   "execution_count": null,
   "id": "7e983102",
   "metadata": {
    "execution": {
     "iopub.execute_input": "2022-02-14T16:13:56.825785Z",
     "iopub.status.busy": "2022-02-14T16:13:56.825208Z",
     "iopub.status.idle": "2022-02-14T16:13:57.523618Z",
     "shell.execute_reply": "2022-02-14T16:13:57.523194Z"
    }
   },
   "outputs": [],
   "source": [
    "ve = [NaN, -2, 0, NaN, 2, NaN]\n",
    "\n",
    "println(hash(ve))\n",
    "\n",
    "OnePiece.informatics.normalization.normalize!(ve, \"0-1\")\n",
    "\n",
    "println(hash(ve))"
   ]
  },
  {
   "cell_type": "markdown",
   "id": "3f396855",
   "metadata": {},
   "source": [
    "---"
   ]
  },
  {
   "cell_type": "code",
   "execution_count": null,
   "id": "b4af2023",
   "metadata": {
    "execution": {
     "iopub.execute_input": "2022-02-14T16:13:57.525611Z",
     "iopub.status.busy": "2022-02-14T16:13:57.525037Z",
     "iopub.status.idle": "2022-02-14T16:13:57.527473Z",
     "shell.execute_reply": "2022-02-14T16:13:57.527029Z"
    }
   },
   "outputs": [],
   "source": [
    "if isdir(TE)\n",
    "\n",
    "    rm(TE, recursive = true)\n",
    "\n",
    "    println(\"Removed \", TE, \".\")\n",
    "\n",
    "end"
   ]
  }
 ],
 "metadata": {
  "kernelspec": {
   "display_name": "Julia 1.7.2",
   "language": "julia",
   "name": "julia-1.7"
  },
  "language_info": {
   "file_extension": ".jl",
   "mimetype": "application/julia",
   "name": "julia",
   "version": "1.7.2"
  }
 },
 "nbformat": 4,
 "nbformat_minor": 5
}
