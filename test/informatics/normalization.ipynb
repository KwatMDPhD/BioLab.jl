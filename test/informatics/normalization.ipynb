{
 "cells": [
  {
   "cell_type": "code",
   "execution_count": null,
   "id": "017464da",
   "metadata": {},
   "outputs": [],
   "source": [
    "TE = joinpath(tempdir(), \"OnePiece.test\")\n",
    "\n",
    "mkpath(TE)"
   ]
  },
  {
   "cell_type": "code",
   "execution_count": 1,
   "id": "34e4701e",
   "metadata": {
    "execution": {
     "iopub.execute_input": "2022-02-10T17:51:23.590384Z",
     "iopub.status.busy": "2022-02-10T17:51:23.250154Z",
     "iopub.status.idle": "2022-02-10T17:51:24.482021Z",
     "shell.execute_reply": "2022-02-10T17:51:24.481306Z"
    }
   },
   "outputs": [],
   "source": [
    "#using Revise\n",
    "using BenchmarkTools\n",
    "\n",
    "using OnePiece"
   ]
  },
  {
   "cell_type": "markdown",
   "id": "a148f3ac",
   "metadata": {},
   "source": [
    "## normalize"
   ]
  },
  {
   "cell_type": "code",
   "execution_count": null,
   "id": "42b8c10c",
   "metadata": {
    "execution": {
     "iopub.execute_input": "2022-02-10T19:10:35.920822Z",
     "iopub.status.busy": "2022-02-10T19:10:35.471901Z",
     "iopub.status.idle": "2022-02-10T19:10:36.873486Z",
     "shell.execute_reply": "2022-02-10T19:10:36.873017Z"
    }
   },
   "outputs": [],
   "source": [
    "try\n",
    "\n",
    "    OnePiece.informatics.normalization.normalize([], \"0-1\")\n",
    "\n",
    "catch er\n",
    "\n",
    "    er\n",
    "\n",
    "end"
   ]
  },
  {
   "cell_type": "code",
   "execution_count": null,
   "id": "0b1d79a3",
   "metadata": {
    "execution": {
     "iopub.execute_input": "2022-02-10T19:10:36.875363Z",
     "iopub.status.busy": "2022-02-10T19:10:36.874776Z",
     "iopub.status.idle": "2022-02-10T19:10:37.227771Z",
     "shell.execute_reply": "2022-02-10T19:10:37.227249Z"
    }
   },
   "outputs": [],
   "source": [
    "try\n",
    "\n",
    "    OnePiece.informatics.normalization.normalize([-1, 0, 1], \"sum\")\n",
    "\n",
    "catch er\n",
    "\n",
    "    er\n",
    "\n",
    "end"
   ]
  },
  {
   "cell_type": "code",
   "execution_count": null,
   "id": "9c521521",
   "metadata": {
    "execution": {
     "iopub.execute_input": "2022-02-10T19:10:37.229865Z",
     "iopub.status.busy": "2022-02-10T19:10:37.229283Z",
     "iopub.status.idle": "2022-02-10T19:10:37.594034Z",
     "shell.execute_reply": "2022-02-10T19:10:37.593509Z"
    }
   },
   "outputs": [],
   "source": [
    "for ve in [[0], [1], [0, 0, 0], [1, 1, 1], [0, 1, 2]]\n",
    "\n",
    "    println(\"=\"^99)\n",
    "\n",
    "    println(ve)\n",
    "\n",
    "    for me in [\"0-1\", \"sum\", \"-0-\"]\n",
    "\n",
    "        println(\"-\"^99)\n",
    "\n",
    "        println(me)\n",
    "\n",
    "        println(OnePiece.informatics.normalization.normalize(ve, me))\n",
    "\n",
    "    end\n",
    "\n",
    "end"
   ]
  },
  {
   "cell_type": "code",
   "execution_count": null,
   "id": "228681d6",
   "metadata": {
    "execution": {
     "iopub.execute_input": "2022-02-10T19:10:37.596014Z",
     "iopub.status.busy": "2022-02-10T19:10:37.595346Z",
     "iopub.status.idle": "2022-02-10T19:10:37.782126Z",
     "shell.execute_reply": "2022-02-10T19:10:37.781614Z"
    }
   },
   "outputs": [],
   "source": [
    "for ve in [[0], [-1, 0, 0, 1, 1, 1, 2]]\n",
    "\n",
    "    println(\"=\"^99)\n",
    "\n",
    "    println(ve)\n",
    "\n",
    "    println()\n",
    "\n",
    "    for me in [\"1223\", \"1224\", \"1 2.5 2.5 4\", \"1234\"]\n",
    "\n",
    "        println(\"-\"^99)\n",
    "\n",
    "        println(me)\n",
    "\n",
    "        println(OnePiece.informatics.normalization.normalize(ve, me))\n",
    "\n",
    "    end\n",
    "\n",
    "end"
   ]
  },
  {
   "cell_type": "markdown",
   "id": "0b9ec3f9",
   "metadata": {},
   "source": [
    "## normalize!"
   ]
  },
  {
   "cell_type": "code",
   "execution_count": null,
   "id": "7e983102",
   "metadata": {
    "execution": {
     "iopub.execute_input": "2022-02-10T19:10:37.784034Z",
     "iopub.status.busy": "2022-02-10T19:10:37.783418Z",
     "iopub.status.idle": "2022-02-10T19:10:38.485099Z",
     "shell.execute_reply": "2022-02-10T19:10:38.484611Z"
    }
   },
   "outputs": [],
   "source": [
    "ve = [NaN, -2, 0, NaN, 2, NaN]\n",
    "\n",
    "println(hash(ve))\n",
    "\n",
    "OnePiece.informatics.normalization.normalize!(ve, \"0-1\")\n",
    "\n",
    "println(hash(ve))"
   ]
  }
 ],
 "metadata": {
  "@webio": {
   "lastCommId": null,
   "lastKernelId": null
  },
  "kernelspec": {
   "display_name": "Julia 1.7.1",
   "language": "julia",
   "name": "julia-1.7"
  },
  "language_info": {
   "file_extension": ".jl",
   "mimetype": "application/julia",
   "name": "julia",
   "version": "1.7.2"
  }
 },
 "nbformat": 4,
 "nbformat_minor": 5
}
