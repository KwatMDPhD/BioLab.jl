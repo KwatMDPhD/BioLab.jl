{
 "cells": [
  {
   "cell_type": "code",
   "execution_count": 1,
   "id": "34e4701e",
   "metadata": {
    "execution": {
     "iopub.execute_input": "2022-02-09T05:34:16.411614Z",
     "iopub.status.busy": "2022-02-09T05:34:16.014482Z",
     "iopub.status.idle": "2022-02-09T05:34:17.357849Z",
     "shell.execute_reply": "2022-02-09T05:34:17.357214Z"
    }
   },
   "outputs": [],
   "source": [
    "using Revise\n",
    "using BenchmarkTools"
   ]
  },
  {
   "cell_type": "code",
   "execution_count": 2,
   "id": "cf8f924a",
   "metadata": {
    "execution": {
     "iopub.execute_input": "2022-02-09T05:34:17.359958Z",
     "iopub.status.busy": "2022-02-09T05:34:17.359347Z",
     "iopub.status.idle": "2022-02-09T05:34:28.775719Z",
     "shell.execute_reply": "2022-02-09T05:34:28.775103Z"
    }
   },
   "outputs": [
    {
     "data": {
      "application/vnd.webio.node+json": {
       "children": [],
       "instanceArgs": {
        "namespace": "html",
        "tag": "div"
       },
       "nodeType": "DOM",
       "props": {},
       "type": "node"
      },
      "text/html": [
       "<div style=\"padding: 1em; background-color: #f8d6da; border: 1px solid #f5c6cb; font-weight: bold;\">\n",
       "<p>The WebIO Jupyter extension was not detected. See the\n",
       "<a href=\"https://juliagizmos.github.io/WebIO.jl/latest/providers/ijulia/\" target=\"_blank\">\n",
       "    WebIO Jupyter integration documentation\n",
       "</a>\n",
       "for more information.\n",
       "</div>\n"
      ],
      "text/plain": [
       "WebIO._IJuliaInit()"
      ]
     },
     "metadata": {},
     "output_type": "display_data"
    }
   ],
   "source": [
    "using OnePiece"
   ]
  },
  {
   "cell_type": "markdown",
   "id": "a148f3ac",
   "metadata": {},
   "source": [
    "## normalize"
   ]
  },
  {
   "cell_type": "code",
   "execution_count": 3,
   "id": "42b8c10c",
   "metadata": {
    "execution": {
     "iopub.execute_input": "2022-02-09T05:34:30.493684Z",
     "iopub.status.busy": "2022-02-09T05:34:28.777212Z",
     "iopub.status.idle": "2022-02-09T05:34:31.934687Z",
     "shell.execute_reply": "2022-02-09T05:34:31.934198Z"
    }
   },
   "outputs": [
    {
     "data": {
      "text/plain": [
       "ErrorException(\"vector is empty.\")"
      ]
     },
     "execution_count": 3,
     "metadata": {},
     "output_type": "execute_result"
    }
   ],
   "source": [
    "try\n",
    "\n",
    "    OnePiece.informatics.normalization.normalize([], \"0-1\")\n",
    "\n",
    "catch er\n",
    "\n",
    "    er\n",
    "\n",
    "end"
   ]
  },
  {
   "cell_type": "code",
   "execution_count": 4,
   "id": "0b1d79a3",
   "metadata": {
    "execution": {
     "iopub.execute_input": "2022-02-09T05:34:31.936989Z",
     "iopub.status.busy": "2022-02-09T05:34:31.936260Z",
     "iopub.status.idle": "2022-02-09T05:34:32.360156Z",
     "shell.execute_reply": "2022-02-09T05:34:32.359688Z"
    }
   },
   "outputs": [
    {
     "data": {
      "text/plain": [
       "ErrorException(\"\\\"sum\\\" can not normalize vectors containing any negative number.\")"
      ]
     },
     "execution_count": 4,
     "metadata": {},
     "output_type": "execute_result"
    }
   ],
   "source": [
    "try\n",
    "\n",
    "    OnePiece.informatics.normalization.normalize([-1, 0, 1], \"sum\")\n",
    "\n",
    "catch er\n",
    "\n",
    "    er\n",
    "\n",
    "end"
   ]
  },
  {
   "cell_type": "code",
   "execution_count": 5,
   "id": "9c521521",
   "metadata": {
    "execution": {
     "iopub.execute_input": "2022-02-09T05:34:32.361962Z",
     "iopub.status.busy": "2022-02-09T05:34:32.361383Z",
     "iopub.status.idle": "2022-02-09T05:34:32.751471Z",
     "shell.execute_reply": "2022-02-09T05:34:32.750869Z"
    }
   },
   "outputs": [
    {
     "name": "stdout",
     "output_type": "stream",
     "text": [
      "===================================================================================================\n",
      "[0]\n",
      "---------------------------------------------------------------------------------------------------\n",
      "0-1\n",
      "[NaN]\n",
      "---------------------------------------------------------------------------------------------------\n",
      "sum\n",
      "[NaN]\n",
      "---------------------------------------------------------------------------------------------------\n",
      "-0-\n",
      "[NaN]\n",
      "===================================================================================================\n",
      "[1]\n",
      "---------------------------------------------------------------------------------------------------\n",
      "0-1\n",
      "[NaN]\n",
      "---------------------------------------------------------------------------------------------------\n",
      "sum\n",
      "[1.0]\n",
      "---------------------------------------------------------------------------------------------------\n",
      "-0-\n",
      "[NaN]\n",
      "===================================================================================================\n",
      "[0, 0, 0]\n",
      "---------------------------------------------------------------------------------------------------\n",
      "0-1\n",
      "[NaN, NaN, NaN]\n",
      "---------------------------------------------------------------------------------------------------\n",
      "sum\n",
      "[NaN, NaN, NaN]\n",
      "---------------------------------------------------------------------------------------------------\n",
      "-0-\n",
      "[NaN, NaN, NaN]\n",
      "===================================================================================================\n",
      "[1, 1, 1]\n",
      "---------------------------------------------------------------------------------------------------\n",
      "0-1\n",
      "[NaN, NaN, NaN]\n",
      "---------------------------------------------------------------------------------------------------\n",
      "sum\n",
      "[0.3333333333333333, 0.3333333333333333, 0.3333333333333333]\n",
      "---------------------------------------------------------------------------------------------------\n",
      "-0-\n",
      "[NaN, NaN, NaN]\n",
      "===================================================================================================\n",
      "[0, 1, 2]\n",
      "---------------------------------------------------------------------------------------------------\n",
      "0-1\n",
      "[0.0, 0.5, 1.0]\n",
      "---------------------------------------------------------------------------------------------------\n",
      "sum\n",
      "[0.0, 0.3333333333333333, 0.6666666666666666]\n",
      "---------------------------------------------------------------------------------------------------\n",
      "-0-\n",
      "[-1.0, 0.0, 1.0]\n"
     ]
    }
   ],
   "source": [
    "for ve in [[0], [1], [0, 0, 0], [1, 1, 1], [0, 1, 2]]\n",
    "\n",
    "    println(\"=\"^99)\n",
    "\n",
    "    println(ve)\n",
    "\n",
    "    for me in [\"0-1\", \"sum\", \"-0-\"]\n",
    "\n",
    "        println(\"-\"^99)\n",
    "\n",
    "        println(me)\n",
    "\n",
    "        println(OnePiece.informatics.normalization.normalize(ve, me))\n",
    "\n",
    "    end\n",
    "\n",
    "end"
   ]
  },
  {
   "cell_type": "code",
   "execution_count": 6,
   "id": "228681d6",
   "metadata": {
    "execution": {
     "iopub.execute_input": "2022-02-09T05:34:32.753447Z",
     "iopub.status.busy": "2022-02-09T05:34:32.752854Z",
     "iopub.status.idle": "2022-02-09T05:34:32.977589Z",
     "shell.execute_reply": "2022-02-09T05:34:32.977067Z"
    }
   },
   "outputs": [
    {
     "name": "stdout",
     "output_type": "stream",
     "text": [
      "===================================================================================================\n",
      "[0]\n",
      "\n",
      "---------------------------------------------------------------------------------------------------\n",
      "1223\n",
      "[1]\n",
      "---------------------------------------------------------------------------------------------------\n",
      "1224\n",
      "[1]\n",
      "---------------------------------------------------------------------------------------------------\n",
      "1 2.5 2.5 4\n",
      "[1.0]\n",
      "---------------------------------------------------------------------------------------------------\n",
      "1234\n",
      "[1]\n",
      "===================================================================================================\n",
      "[-1, 0, 0, 1, 1, 1, 2]\n",
      "\n",
      "---------------------------------------------------------------------------------------------------\n",
      "1223\n",
      "[1, 2, 2, 3, 3, 3, 4]\n",
      "---------------------------------------------------------------------------------------------------\n",
      "1224\n",
      "[1, 2, 2, 4, 4, 4, 7]\n",
      "---------------------------------------------------------------------------------------------------\n",
      "1 2.5 2.5 4\n",
      "[1.0, 2.5, 2.5, 5.0, 5.0, 5.0, 7.0]\n",
      "---------------------------------------------------------------------------------------------------\n",
      "1234\n",
      "[1, 2, 3, 4, 5, 6, 7]\n"
     ]
    }
   ],
   "source": [
    "for ve in [[0], [-1, 0, 0, 1, 1, 1, 2]]\n",
    "\n",
    "    println(\"=\"^99)\n",
    "\n",
    "    println(ve)\n",
    "\n",
    "    println()\n",
    "\n",
    "    for me in [\"1223\", \"1224\", \"1 2.5 2.5 4\", \"1234\"]\n",
    "\n",
    "        println(\"-\"^99)\n",
    "\n",
    "        println(me)\n",
    "\n",
    "        println(OnePiece.informatics.normalization.normalize(ve, me))\n",
    "\n",
    "    end\n",
    "\n",
    "end"
   ]
  },
  {
   "cell_type": "markdown",
   "id": "0b9ec3f9",
   "metadata": {},
   "source": [
    "## normalize!"
   ]
  },
  {
   "cell_type": "code",
   "execution_count": 7,
   "id": "7e983102",
   "metadata": {
    "execution": {
     "iopub.execute_input": "2022-02-09T05:34:32.979752Z",
     "iopub.status.busy": "2022-02-09T05:34:32.978995Z",
     "iopub.status.idle": "2022-02-09T05:34:33.767108Z",
     "shell.execute_reply": "2022-02-09T05:34:33.766691Z"
    }
   },
   "outputs": [
    {
     "name": "stdout",
     "output_type": "stream",
     "text": [
      "9121937858566893873\n",
      "1316515467326044050\n"
     ]
    }
   ],
   "source": [
    "ve = [NaN, -2, 0, NaN, 2, NaN]\n",
    "\n",
    "println(hash(ve))\n",
    "\n",
    "OnePiece.informatics.normalization.normalize!(ve, \"0-1\")\n",
    "\n",
    "println(hash(ve))"
   ]
  }
 ],
 "metadata": {
  "@webio": {
   "lastCommId": null,
   "lastKernelId": null
  },
  "kernelspec": {
   "display_name": "Julia 1.7.1",
   "language": "julia",
   "name": "julia-1.7"
  },
  "language_info": {
   "file_extension": ".jl",
   "mimetype": "application/julia",
   "name": "julia",
   "version": "1.7.2"
  }
 },
 "nbformat": 4,
 "nbformat_minor": 5
}
