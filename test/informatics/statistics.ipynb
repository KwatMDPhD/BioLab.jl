{
 "cells": [
  {
   "cell_type": "code",
   "execution_count": null,
   "id": "34e4701e",
   "metadata": {
    "execution": {
     "iopub.execute_input": "2022-02-09T02:39:31.398577Z",
     "iopub.status.busy": "2022-02-09T02:39:30.994231Z",
     "iopub.status.idle": "2022-02-09T02:39:32.416131Z",
     "shell.execute_reply": "2022-02-09T02:39:32.415548Z"
    }
   },
   "outputs": [],
   "source": [
    "using Revise\n",
    "using BenchmarkTools"
   ]
  },
  {
   "cell_type": "code",
   "execution_count": null,
   "id": "b3325ba2-989b-48ae-b530-5d0f64147f9a",
   "metadata": {
    "execution": {
     "iopub.execute_input": "2022-02-09T02:39:32.418059Z",
     "iopub.status.busy": "2022-02-09T02:39:32.417487Z",
     "iopub.status.idle": "2022-02-09T02:39:43.114684Z",
     "shell.execute_reply": "2022-02-09T02:39:43.113913Z"
    }
   },
   "outputs": [],
   "source": [
    "using OnePiece"
   ]
  },
  {
   "cell_type": "code",
   "execution_count": null,
   "id": "f474925d",
   "metadata": {
    "execution": {
     "iopub.execute_input": "2022-02-09T02:39:44.816107Z",
     "iopub.status.busy": "2022-02-09T02:39:43.116052Z",
     "iopub.status.idle": "2022-02-09T02:39:46.532838Z",
     "shell.execute_reply": "2022-02-09T02:39:46.532387Z"
    }
   },
   "outputs": [],
   "source": [
    "fr_ = [0.0, 0.001, 0.025, 0.05, 0.5, 0.95, 0.975, 0.999, 1]"
   ]
  },
  {
   "cell_type": "markdown",
   "id": "1754dc5e",
   "metadata": {},
   "source": [
    "## get_z_score"
   ]
  },
  {
   "cell_type": "code",
   "execution_count": null,
   "id": "a352694e",
   "metadata": {
    "execution": {
     "iopub.execute_input": "2022-02-09T02:39:46.534905Z",
     "iopub.status.busy": "2022-02-09T02:39:46.534246Z",
     "iopub.status.idle": "2022-02-09T02:39:46.699935Z",
     "shell.execute_reply": "2022-02-09T02:39:46.699337Z"
    }
   },
   "outputs": [],
   "source": [
    "for cu in fr_\n",
    "\n",
    "    println(\"-\"^99)\n",
    "\n",
    "    println(cu)\n",
    "\n",
    "    println(OnePiece.informatics.statistics.get_z_score(cu))\n",
    "\n",
    "end"
   ]
  },
  {
   "cell_type": "markdown",
   "id": "4e6d7132",
   "metadata": {},
   "source": [
    "## get_confidence_interval"
   ]
  },
  {
   "cell_type": "code",
   "execution_count": null,
   "id": "a2d8c336",
   "metadata": {
    "execution": {
     "iopub.execute_input": "2022-02-09T02:39:46.701895Z",
     "iopub.status.busy": "2022-02-09T02:39:46.701318Z",
     "iopub.status.idle": "2022-02-09T02:39:46.795319Z",
     "shell.execute_reply": "2022-02-09T02:39:46.794848Z"
    }
   },
   "outputs": [],
   "source": [
    "for co in fr_\n",
    "\n",
    "    println(\"-\"^99)\n",
    "\n",
    "    println(co)\n",
    "\n",
    "    println(OnePiece.informatics.statistics.get_confidence_interval(co))\n",
    "\n",
    "end"
   ]
  }
 ],
 "metadata": {
  "@webio": {
   "lastCommId": "f4150c4fdd604bee8a2d05fe4f9546e1",
   "lastKernelId": "e796e504-97a2-4df1-bd9f-2db52109281b"
  },
  "kernelspec": {
   "display_name": "Julia 1.7.1",
   "language": "julia",
   "name": "julia-1.7"
  },
  "language_info": {
   "file_extension": ".jl",
   "mimetype": "application/julia",
   "name": "julia",
   "version": "1.7.2"
  }
 },
 "nbformat": 4,
 "nbformat_minor": 5
}
