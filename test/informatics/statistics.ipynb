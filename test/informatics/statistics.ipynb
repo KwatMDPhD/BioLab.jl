{
 "cells": [
  {
   "cell_type": "code",
   "execution_count": null,
   "id": "017464da",
   "metadata": {
    "execution": {
     "iopub.execute_input": "2022-02-11T08:12:34.640901Z",
     "iopub.status.busy": "2022-02-11T08:12:34.295449Z",
     "iopub.status.idle": "2022-02-11T08:12:34.829428Z",
     "shell.execute_reply": "2022-02-11T08:12:34.828825Z"
    }
   },
   "outputs": [],
   "source": [
    "TE = joinpath(tempdir(), \"OnePiece.test\")\n",
    "\n",
    "if isdir(TE)\n",
    "\n",
    "    rm(TE; recursive = true)\n",
    "\n",
    "    println(\"Removed \", TE, \".\")\n",
    "\n",
    "end\n",
    "\n",
    "mkdir(TE)\n",
    "\n",
    "println(\"Made \", TE, \".\")"
   ]
  },
  {
   "cell_type": "code",
   "execution_count": null,
   "id": "34e4701e",
   "metadata": {
    "execution": {
     "iopub.execute_input": "2022-02-11T08:12:34.831538Z",
     "iopub.status.busy": "2022-02-11T08:12:34.830877Z",
     "iopub.status.idle": "2022-02-11T08:12:39.053751Z",
     "shell.execute_reply": "2022-02-11T08:12:39.053302Z"
    }
   },
   "outputs": [],
   "source": [
    "using OnePiece"
   ]
  },
  {
   "cell_type": "markdown",
   "id": "b92a3da9",
   "metadata": {},
   "source": [
    "---"
   ]
  },
  {
   "cell_type": "code",
   "execution_count": null,
   "id": "f474925d",
   "metadata": {
    "execution": {
     "iopub.execute_input": "2022-02-11T08:12:39.383147Z",
     "iopub.status.busy": "2022-02-11T08:12:39.055185Z",
     "iopub.status.idle": "2022-02-11T08:12:40.512096Z",
     "shell.execute_reply": "2022-02-11T08:12:40.511644Z"
    }
   },
   "outputs": [],
   "source": [
    "fr_ = [0.0, 0.001, 0.025, 0.05, 0.5, 0.95, 0.975, 0.999, 1]"
   ]
  },
  {
   "cell_type": "markdown",
   "id": "1754dc5e",
   "metadata": {},
   "source": [
    "## get_z_score"
   ]
  },
  {
   "cell_type": "code",
   "execution_count": null,
   "id": "a352694e",
   "metadata": {
    "execution": {
     "iopub.execute_input": "2022-02-11T08:12:40.514030Z",
     "iopub.status.busy": "2022-02-11T08:12:40.513448Z",
     "iopub.status.idle": "2022-02-11T08:12:40.645565Z",
     "shell.execute_reply": "2022-02-11T08:12:40.645041Z"
    }
   },
   "outputs": [],
   "source": [
    "for cu in fr_\n",
    "\n",
    "    println(\"-\"^99)\n",
    "\n",
    "    println(cu)\n",
    "\n",
    "    println(OnePiece.informatics.statistics.get_z_score(cu))\n",
    "\n",
    "end"
   ]
  },
  {
   "cell_type": "markdown",
   "id": "4e6d7132",
   "metadata": {},
   "source": [
    "## get_confidence_interval"
   ]
  },
  {
   "cell_type": "code",
   "execution_count": null,
   "id": "a2d8c336",
   "metadata": {
    "execution": {
     "iopub.execute_input": "2022-02-11T08:12:40.647624Z",
     "iopub.status.busy": "2022-02-11T08:12:40.647039Z",
     "iopub.status.idle": "2022-02-11T08:12:40.724973Z",
     "shell.execute_reply": "2022-02-11T08:12:40.724529Z"
    }
   },
   "outputs": [],
   "source": [
    "for co in fr_\n",
    "\n",
    "    println(\"-\"^99)\n",
    "\n",
    "    println(co)\n",
    "\n",
    "    println(OnePiece.informatics.statistics.get_confidence_interval(co))\n",
    "\n",
    "end"
   ]
  },
  {
   "cell_type": "markdown",
   "id": "3f396855",
   "metadata": {},
   "source": [
    "---"
   ]
  },
  {
   "cell_type": "code",
   "execution_count": null,
   "id": "b4af2023",
   "metadata": {
    "execution": {
     "iopub.execute_input": "2022-02-11T08:12:40.727012Z",
     "iopub.status.busy": "2022-02-11T08:12:40.726427Z",
     "iopub.status.idle": "2022-02-11T08:12:40.730960Z",
     "shell.execute_reply": "2022-02-11T08:12:40.730532Z"
    }
   },
   "outputs": [],
   "source": [
    "if isdir(TE)\n",
    "\n",
    "    rm(TE; recursive = true)\n",
    "\n",
    "    println(\"Removed \", TE, \".\")\n",
    "\n",
    "end"
   ]
  }
 ],
 "metadata": {
  "kernelspec": {
   "display_name": "Julia 1.7.2",
   "language": "julia",
   "name": "julia-1.7"
  },
  "language_info": {
   "file_extension": ".jl",
   "mimetype": "application/julia",
   "name": "julia",
   "version": "1.7.2"
  }
 },
 "nbformat": 4,
 "nbformat_minor": 5
}
