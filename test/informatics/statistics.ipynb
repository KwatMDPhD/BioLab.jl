{
 "cells": [
  {
   "cell_type": "code",
   "execution_count": null,
   "id": "34e4701e",
   "metadata": {
    "execution": {
     "iopub.execute_input": "2022-02-09T22:44:40.821251Z",
     "iopub.status.busy": "2022-02-09T22:44:40.458238Z",
     "iopub.status.idle": "2022-02-09T22:44:41.767950Z",
     "shell.execute_reply": "2022-02-09T22:44:41.767413Z"
    }
   },
   "outputs": [],
   "source": [
    "using Revise\n",
    "using BenchmarkTools"
   ]
  },
  {
   "cell_type": "code",
   "execution_count": null,
   "id": "b3325ba2-989b-48ae-b530-5d0f64147f9a",
   "metadata": {
    "execution": {
     "iopub.execute_input": "2022-02-09T22:44:41.769938Z",
     "iopub.status.busy": "2022-02-09T22:44:41.769369Z",
     "iopub.status.idle": "2022-02-09T22:44:51.639317Z",
     "shell.execute_reply": "2022-02-09T22:44:51.638768Z"
    }
   },
   "outputs": [],
   "source": [
    "using OnePiece"
   ]
  },
  {
   "cell_type": "code",
   "execution_count": null,
   "id": "f474925d",
   "metadata": {
    "execution": {
     "iopub.execute_input": "2022-02-09T22:44:53.220065Z",
     "iopub.status.busy": "2022-02-09T22:44:51.640593Z",
     "iopub.status.idle": "2022-02-09T22:44:54.734686Z",
     "shell.execute_reply": "2022-02-09T22:44:54.734258Z"
    }
   },
   "outputs": [],
   "source": [
    "fr_ = [0.0, 0.001, 0.025, 0.05, 0.5, 0.95, 0.975, 0.999, 1]"
   ]
  },
  {
   "cell_type": "markdown",
   "id": "1754dc5e",
   "metadata": {},
   "source": [
    "## get_z_score"
   ]
  },
  {
   "cell_type": "code",
   "execution_count": null,
   "id": "a352694e",
   "metadata": {
    "execution": {
     "iopub.execute_input": "2022-02-09T22:44:54.736571Z",
     "iopub.status.busy": "2022-02-09T22:44:54.736008Z",
     "iopub.status.idle": "2022-02-09T22:44:54.889201Z",
     "shell.execute_reply": "2022-02-09T22:44:54.888762Z"
    }
   },
   "outputs": [],
   "source": [
    "for cu in fr_\n",
    "\n",
    "    println(\"-\"^99)\n",
    "\n",
    "    println(cu)\n",
    "\n",
    "    println(OnePiece.informatics.statistics.get_z_score(cu))\n",
    "\n",
    "end"
   ]
  },
  {
   "cell_type": "markdown",
   "id": "4e6d7132",
   "metadata": {},
   "source": [
    "## get_confidence_interval"
   ]
  },
  {
   "cell_type": "code",
   "execution_count": null,
   "id": "a2d8c336",
   "metadata": {
    "execution": {
     "iopub.execute_input": "2022-02-09T22:44:54.891122Z",
     "iopub.status.busy": "2022-02-09T22:44:54.890503Z",
     "iopub.status.idle": "2022-02-09T22:44:54.975576Z",
     "shell.execute_reply": "2022-02-09T22:44:54.975187Z"
    }
   },
   "outputs": [],
   "source": [
    "for co in fr_\n",
    "\n",
    "    println(\"-\"^99)\n",
    "\n",
    "    println(co)\n",
    "\n",
    "    println(OnePiece.informatics.statistics.get_confidence_interval(co))\n",
    "\n",
    "end"
   ]
  }
 ],
 "metadata": {
  "@webio": {
   "lastCommId": "f4150c4fdd604bee8a2d05fe4f9546e1",
   "lastKernelId": "e796e504-97a2-4df1-bd9f-2db52109281b"
  },
  "kernelspec": {
   "display_name": "Julia 1.7.1",
   "language": "julia",
   "name": "julia-1.7"
  },
  "language_info": {
   "file_extension": ".jl",
   "mimetype": "application/julia",
   "name": "julia",
   "version": "1.7.2"
  }
 },
 "nbformat": 4,
 "nbformat_minor": 5
}
