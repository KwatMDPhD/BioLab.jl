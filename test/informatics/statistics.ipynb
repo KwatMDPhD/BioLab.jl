{
 "cells": [
  {
   "cell_type": "code",
   "execution_count": null,
   "id": "34e4701e",
   "metadata": {
    "execution": {
     "iopub.execute_input": "2022-02-09T18:55:59.903734Z",
     "iopub.status.busy": "2022-02-09T18:55:59.477034Z",
     "iopub.status.idle": "2022-02-09T18:56:00.926139Z",
     "shell.execute_reply": "2022-02-09T18:56:00.925436Z"
    }
   },
   "outputs": [],
   "source": [
    "using Revise\n",
    "using BenchmarkTools"
   ]
  },
  {
   "cell_type": "code",
   "execution_count": null,
   "id": "b3325ba2-989b-48ae-b530-5d0f64147f9a",
   "metadata": {
    "execution": {
     "iopub.execute_input": "2022-02-09T18:56:00.928061Z",
     "iopub.status.busy": "2022-02-09T18:56:00.927418Z",
     "iopub.status.idle": "2022-02-09T18:56:11.929308Z",
     "shell.execute_reply": "2022-02-09T18:56:11.928727Z"
    }
   },
   "outputs": [],
   "source": [
    "using OnePiece"
   ]
  },
  {
   "cell_type": "code",
   "execution_count": null,
   "id": "f474925d",
   "metadata": {
    "execution": {
     "iopub.execute_input": "2022-02-09T18:56:13.632760Z",
     "iopub.status.busy": "2022-02-09T18:56:11.930653Z",
     "iopub.status.idle": "2022-02-09T18:56:15.267342Z",
     "shell.execute_reply": "2022-02-09T18:56:15.266883Z"
    }
   },
   "outputs": [],
   "source": [
    "fr_ = [0.0, 0.001, 0.025, 0.05, 0.5, 0.95, 0.975, 0.999, 1]"
   ]
  },
  {
   "cell_type": "markdown",
   "id": "1754dc5e",
   "metadata": {},
   "source": [
    "## get_z_score"
   ]
  },
  {
   "cell_type": "code",
   "execution_count": null,
   "id": "a352694e",
   "metadata": {
    "execution": {
     "iopub.execute_input": "2022-02-09T18:56:15.269278Z",
     "iopub.status.busy": "2022-02-09T18:56:15.268629Z",
     "iopub.status.idle": "2022-02-09T18:56:15.439401Z",
     "shell.execute_reply": "2022-02-09T18:56:15.438753Z"
    }
   },
   "outputs": [],
   "source": [
    "for cu in fr_\n",
    "\n",
    "    println(\"-\"^99)\n",
    "\n",
    "    println(cu)\n",
    "\n",
    "    println(OnePiece.informatics.statistics.get_z_score(cu))\n",
    "\n",
    "end"
   ]
  },
  {
   "cell_type": "markdown",
   "id": "4e6d7132",
   "metadata": {},
   "source": [
    "## get_confidence_interval"
   ]
  },
  {
   "cell_type": "code",
   "execution_count": null,
   "id": "a2d8c336",
   "metadata": {
    "execution": {
     "iopub.execute_input": "2022-02-09T18:56:15.441607Z",
     "iopub.status.busy": "2022-02-09T18:56:15.441018Z",
     "iopub.status.idle": "2022-02-09T18:56:15.541955Z",
     "shell.execute_reply": "2022-02-09T18:56:15.541460Z"
    }
   },
   "outputs": [],
   "source": [
    "for co in fr_\n",
    "\n",
    "    println(\"-\"^99)\n",
    "\n",
    "    println(co)\n",
    "\n",
    "    println(OnePiece.informatics.statistics.get_confidence_interval(co))\n",
    "\n",
    "end"
   ]
  }
 ],
 "metadata": {
  "@webio": {
   "lastCommId": "f4150c4fdd604bee8a2d05fe4f9546e1",
   "lastKernelId": "e796e504-97a2-4df1-bd9f-2db52109281b"
  },
  "kernelspec": {
   "display_name": "Julia 1.7.1",
   "language": "julia",
   "name": "julia-1.7"
  },
  "language_info": {
   "file_extension": ".jl",
   "mimetype": "application/julia",
   "name": "julia",
   "version": "1.7.2"
  }
 },
 "nbformat": 4,
 "nbformat_minor": 5
}
