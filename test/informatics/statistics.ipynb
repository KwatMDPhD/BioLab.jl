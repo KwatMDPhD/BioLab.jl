{
 "cells": [
  {
   "cell_type": "code",
   "execution_count": null,
   "id": "017464da",
   "metadata": {
    "execution": {
     "iopub.execute_input": "2022-02-10T21:27:43.510695Z",
     "iopub.status.busy": "2022-02-10T21:27:43.051771Z",
     "iopub.status.idle": "2022-02-10T21:27:44.368475Z",
     "shell.execute_reply": "2022-02-10T21:27:44.367872Z"
    }
   },
   "outputs": [],
   "source": [
    "TE = joinpath(tempdir(), \"OnePiece.test\")\n",
    "\n",
    "mkpath(TE)"
   ]
  },
  {
   "cell_type": "code",
   "execution_count": null,
   "id": "34e4701e",
   "metadata": {
    "execution": {
     "iopub.execute_input": "2022-02-10T21:27:44.370565Z",
     "iopub.status.busy": "2022-02-10T21:27:44.369963Z",
     "iopub.status.idle": "2022-02-10T21:27:49.077330Z",
     "shell.execute_reply": "2022-02-10T21:27:49.076876Z"
    }
   },
   "outputs": [],
   "source": [
    "using OnePiece"
   ]
  },
  {
   "cell_type": "markdown",
   "id": "b92a3da9",
   "metadata": {},
   "source": [
    "---"
   ]
  },
  {
   "cell_type": "code",
   "execution_count": null,
   "id": "f474925d",
   "metadata": {
    "execution": {
     "iopub.execute_input": "2022-02-10T21:27:49.528143Z",
     "iopub.status.busy": "2022-02-10T21:27:49.078779Z",
     "iopub.status.idle": "2022-02-10T21:27:50.691431Z",
     "shell.execute_reply": "2022-02-10T21:27:50.690754Z"
    }
   },
   "outputs": [],
   "source": [
    "fr_ = [0.0, 0.001, 0.025, 0.05, 0.5, 0.95, 0.975, 0.999, 1]"
   ]
  },
  {
   "cell_type": "markdown",
   "id": "1754dc5e",
   "metadata": {},
   "source": [
    "## get_z_score"
   ]
  },
  {
   "cell_type": "code",
   "execution_count": null,
   "id": "a352694e",
   "metadata": {
    "execution": {
     "iopub.execute_input": "2022-02-10T21:27:50.694035Z",
     "iopub.status.busy": "2022-02-10T21:27:50.693165Z",
     "iopub.status.idle": "2022-02-10T21:27:50.849485Z",
     "shell.execute_reply": "2022-02-10T21:27:50.848956Z"
    }
   },
   "outputs": [],
   "source": [
    "for cu in fr_\n",
    "\n",
    "    println(\"-\"^99)\n",
    "\n",
    "    println(cu)\n",
    "\n",
    "    println(OnePiece.informatics.statistics.get_z_score(cu))\n",
    "\n",
    "end"
   ]
  },
  {
   "cell_type": "markdown",
   "id": "4e6d7132",
   "metadata": {},
   "source": [
    "## get_confidence_interval"
   ]
  },
  {
   "cell_type": "code",
   "execution_count": null,
   "id": "a2d8c336",
   "metadata": {
    "execution": {
     "iopub.execute_input": "2022-02-10T21:27:50.851726Z",
     "iopub.status.busy": "2022-02-10T21:27:50.851041Z",
     "iopub.status.idle": "2022-02-10T21:27:50.935890Z",
     "shell.execute_reply": "2022-02-10T21:27:50.935346Z"
    }
   },
   "outputs": [],
   "source": [
    "for co in fr_\n",
    "\n",
    "    println(\"-\"^99)\n",
    "\n",
    "    println(co)\n",
    "\n",
    "    println(OnePiece.informatics.statistics.get_confidence_interval(co))\n",
    "\n",
    "end"
   ]
  },
  {
   "cell_type": "markdown",
   "id": "3f396855",
   "metadata": {},
   "source": [
    "---"
   ]
  },
  {
   "cell_type": "code",
   "execution_count": null,
   "id": "b4af2023",
   "metadata": {
    "execution": {
     "iopub.execute_input": "2022-02-10T21:27:50.938160Z",
     "iopub.status.busy": "2022-02-10T21:27:50.937439Z",
     "iopub.status.idle": "2022-02-10T21:27:50.941981Z",
     "shell.execute_reply": "2022-02-10T21:27:50.941369Z"
    }
   },
   "outputs": [],
   "source": [
    "rm(TE; recursive = true)"
   ]
  }
 ],
 "metadata": {
  "kernelspec": {
   "display_name": "Julia 1.7.2",
   "language": "julia",
   "name": "julia-1.7"
  },
  "language_info": {
   "file_extension": ".jl",
   "mimetype": "application/julia",
   "name": "julia",
   "version": "1.7.2"
  }
 },
 "nbformat": 4,
 "nbformat_minor": 5
}
