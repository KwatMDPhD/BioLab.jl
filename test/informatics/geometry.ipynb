{
 "cells": [
  {
   "cell_type": "code",
   "execution_count": null,
   "id": "34e4701e",
   "metadata": {
    "execution": {
     "iopub.execute_input": "2022-02-09T22:43:42.906813Z",
     "iopub.status.busy": "2022-02-09T22:43:42.543894Z",
     "iopub.status.idle": "2022-02-09T22:43:43.824135Z",
     "shell.execute_reply": "2022-02-09T22:43:43.823577Z"
    }
   },
   "outputs": [],
   "source": [
    "using Revise\n",
    "using BenchmarkTools"
   ]
  },
  {
   "cell_type": "code",
   "execution_count": null,
   "id": "702eaa35",
   "metadata": {
    "execution": {
     "iopub.execute_input": "2022-02-09T22:43:43.826303Z",
     "iopub.status.busy": "2022-02-09T22:43:43.825775Z",
     "iopub.status.idle": "2022-02-09T22:43:53.564241Z",
     "shell.execute_reply": "2022-02-09T22:43:53.563646Z"
    }
   },
   "outputs": [],
   "source": [
    "using OnePiece"
   ]
  },
  {
   "cell_type": "markdown",
   "id": "5f659a9d",
   "metadata": {},
   "source": [
    "## get_center"
   ]
  },
  {
   "cell_type": "code",
   "execution_count": null,
   "id": "77044e40",
   "metadata": {
    "execution": {
     "iopub.execute_input": "2022-02-09T22:43:55.206837Z",
     "iopub.status.busy": "2022-02-09T22:43:53.565616Z",
     "iopub.status.idle": "2022-02-09T22:43:55.992641Z",
     "shell.execute_reply": "2022-02-09T22:43:55.992162Z"
    }
   },
   "outputs": [],
   "source": [
    "for (co1, co2) in [[0, 100], [-1, 1]]\n",
    "\n",
    "    println(\"-\"^99)\n",
    "\n",
    "    println(co1, \" ... \", co2)\n",
    "\n",
    "    println(OnePiece.informatics.geometry.get_center(co1, co2))\n",
    "\n",
    "end"
   ]
  }
 ],
 "metadata": {
  "@webio": {
   "lastCommId": "01c17bc9c1794717a4b151a5c2c22815",
   "lastKernelId": "a7751f8d-79ae-41b3-805d-98f2b7af87c8"
  },
  "kernelspec": {
   "display_name": "Julia 1.7.1",
   "language": "julia",
   "name": "julia-1.7"
  },
  "language_info": {
   "file_extension": ".jl",
   "mimetype": "application/julia",
   "name": "julia",
   "version": "1.7.2"
  }
 },
 "nbformat": 4,
 "nbformat_minor": 5
}
