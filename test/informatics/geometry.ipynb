{
 "cells": [
  {
   "cell_type": "code",
   "execution_count": null,
   "id": "34e4701e",
   "metadata": {
    "execution": {
     "iopub.execute_input": "2022-02-08T03:17:36.813519Z",
     "iopub.status.busy": "2022-02-08T03:17:36.400859Z",
     "iopub.status.idle": "2022-02-08T03:17:37.685359Z",
     "shell.execute_reply": "2022-02-08T03:17:37.684856Z"
    }
   },
   "outputs": [],
   "source": [
    "using Revise\n",
    "using BenchmarkTools"
   ]
  },
  {
   "cell_type": "code",
   "execution_count": null,
   "id": "702eaa35",
   "metadata": {
    "execution": {
     "iopub.execute_input": "2022-02-08T03:17:37.687850Z",
     "iopub.status.busy": "2022-02-08T03:17:37.687086Z",
     "iopub.status.idle": "2022-02-08T03:17:56.911579Z",
     "shell.execute_reply": "2022-02-08T03:17:56.910977Z"
    }
   },
   "outputs": [],
   "source": [
    "using OnePiece"
   ]
  },
  {
   "cell_type": "markdown",
   "id": "5f659a9d",
   "metadata": {},
   "source": [
    "## get_center"
   ]
  },
  {
   "cell_type": "code",
   "execution_count": null,
   "id": "77044e40",
   "metadata": {
    "execution": {
     "iopub.execute_input": "2022-02-08T03:17:58.618081Z",
     "iopub.status.busy": "2022-02-08T03:17:56.912974Z",
     "iopub.status.idle": "2022-02-08T03:17:59.510725Z",
     "shell.execute_reply": "2022-02-08T03:17:59.510218Z"
    }
   },
   "outputs": [],
   "source": [
    "for (co1, co2) in [[0, 100], [-1, 1]]\n",
    "\n",
    "    println(\"-\"^99)\n",
    "\n",
    "    println(co1, \" ... \", co2)\n",
    "\n",
    "    println(OnePiece.informatics.geometry.get_center(co1, co2))\n",
    "\n",
    "end"
   ]
  }
 ],
 "metadata": {
  "@webio": {
   "lastCommId": "01c17bc9c1794717a4b151a5c2c22815",
   "lastKernelId": "a7751f8d-79ae-41b3-805d-98f2b7af87c8"
  },
  "kernelspec": {
   "display_name": "Julia 1.7.1",
   "language": "julia",
   "name": "julia-1.7"
  },
  "language_info": {
   "file_extension": ".jl",
   "mimetype": "application/julia",
   "name": "julia",
   "version": "1.7.1"
  }
 },
 "nbformat": 4,
 "nbformat_minor": 5
}
