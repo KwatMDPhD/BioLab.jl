{
 "cells": [
  {
   "cell_type": "code",
   "execution_count": 1,
   "id": "34e4701e",
   "metadata": {
    "execution": {
     "iopub.execute_input": "2022-02-10T17:18:41.069634Z",
     "iopub.status.busy": "2022-02-10T17:18:40.672866Z",
     "iopub.status.idle": "2022-02-10T17:18:41.910933Z",
     "shell.execute_reply": "2022-02-10T17:18:41.910311Z"
    }
   },
   "outputs": [],
   "source": [
    "using Revise\n",
    "using BenchmarkTools"
   ]
  },
  {
   "cell_type": "code",
   "execution_count": 2,
   "id": "702eaa35",
   "metadata": {
    "execution": {
     "iopub.execute_input": "2022-02-10T17:18:41.912982Z",
     "iopub.status.busy": "2022-02-10T17:18:41.912473Z",
     "iopub.status.idle": "2022-02-10T17:18:47.269674Z",
     "shell.execute_reply": "2022-02-10T17:18:47.269128Z"
    }
   },
   "outputs": [],
   "source": [
    "using OnePiece"
   ]
  },
  {
   "cell_type": "markdown",
   "id": "5f659a9d",
   "metadata": {},
   "source": [
    "## get_center"
   ]
  },
  {
   "cell_type": "code",
   "execution_count": 3,
   "id": "77044e40",
   "metadata": {
    "execution": {
     "iopub.execute_input": "2022-02-10T17:18:47.608260Z",
     "iopub.status.busy": "2022-02-10T17:18:47.271126Z",
     "iopub.status.idle": "2022-02-10T17:18:48.718067Z",
     "shell.execute_reply": "2022-02-10T17:18:48.717625Z"
    }
   },
   "outputs": [
    {
     "name": "stdout",
     "output_type": "stream",
     "text": [
      "---------------------------------------------------------------------------------------------------\n",
      "0 ... 100\n",
      "50.0\n",
      "---------------------------------------------------------------------------------------------------\n",
      "-1 ... 1\n",
      "0.0\n"
     ]
    }
   ],
   "source": [
    "for (co1, co2) in [[0, 100], [-1, 1]]\n",
    "\n",
    "    println(\"-\"^99)\n",
    "\n",
    "    println(co1, \" ... \", co2)\n",
    "\n",
    "    println(OnePiece.informatics.geometry.get_center(co1, co2))\n",
    "\n",
    "end"
   ]
  }
 ],
 "metadata": {
  "@webio": {
   "lastCommId": "01c17bc9c1794717a4b151a5c2c22815",
   "lastKernelId": "a7751f8d-79ae-41b3-805d-98f2b7af87c8"
  },
  "kernelspec": {
   "display_name": "Julia 1.7.1",
   "language": "julia",
   "name": "julia-1.7"
  },
  "language_info": {
   "file_extension": ".jl",
   "mimetype": "application/julia",
   "name": "julia",
   "version": "1.7.2"
  }
 },
 "nbformat": 4,
 "nbformat_minor": 5
}
