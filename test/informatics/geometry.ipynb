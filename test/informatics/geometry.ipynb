{
 "cells": [
  {
   "cell_type": "code",
   "execution_count": null,
   "id": "017464da",
   "metadata": {
    "execution": {
     "iopub.execute_input": "2022-02-14T02:54:13.679394Z",
     "iopub.status.busy": "2022-02-14T02:54:13.288751Z",
     "iopub.status.idle": "2022-02-14T02:54:13.896870Z",
     "shell.execute_reply": "2022-02-14T02:54:13.896269Z"
    }
   },
   "outputs": [],
   "source": [
    "TE = joinpath(tempdir(), \"OnePiece.test\")\n",
    "\n",
    "if isdir(TE)\n",
    "\n",
    "    rm(TE, recursive = true)\n",
    "\n",
    "    println(\"Removed \", TE, \".\")\n",
    "\n",
    "end\n",
    "\n",
    "mkdir(TE)\n",
    "\n",
    "println(\"Made \", TE, \".\")"
   ]
  },
  {
   "cell_type": "code",
   "execution_count": null,
   "id": "34e4701e",
   "metadata": {
    "execution": {
     "iopub.execute_input": "2022-02-14T02:54:13.898916Z",
     "iopub.status.busy": "2022-02-14T02:54:13.898326Z",
     "iopub.status.idle": "2022-02-14T02:54:18.566367Z",
     "shell.execute_reply": "2022-02-14T02:54:18.565841Z"
    }
   },
   "outputs": [],
   "source": [
    "using OnePiece"
   ]
  },
  {
   "cell_type": "markdown",
   "id": "b92a3da9",
   "metadata": {},
   "source": [
    "---"
   ]
  },
  {
   "cell_type": "markdown",
   "id": "5f659a9d",
   "metadata": {},
   "source": [
    "## get_center"
   ]
  },
  {
   "cell_type": "code",
   "execution_count": null,
   "id": "77044e40",
   "metadata": {
    "execution": {
     "iopub.execute_input": "2022-02-14T02:54:18.926862Z",
     "iopub.status.busy": "2022-02-14T02:54:18.567864Z",
     "iopub.status.idle": "2022-02-14T02:54:19.095372Z",
     "shell.execute_reply": "2022-02-14T02:54:19.094767Z"
    }
   },
   "outputs": [],
   "source": [
    "for (co1, co2) in [[0, 100], [-1, 1]]\n",
    "\n",
    "    println(\"-\"^99)\n",
    "\n",
    "    println(co1, \" ... \", co2)\n",
    "\n",
    "    println(OnePiece.informatics.geometry.get_center(co1, co2))\n",
    "\n",
    "end"
   ]
  },
  {
   "cell_type": "markdown",
   "id": "3f396855",
   "metadata": {},
   "source": [
    "---"
   ]
  },
  {
   "cell_type": "code",
   "execution_count": null,
   "id": "b4af2023",
   "metadata": {
    "execution": {
     "iopub.execute_input": "2022-02-14T02:54:19.097373Z",
     "iopub.status.busy": "2022-02-14T02:54:19.096775Z",
     "iopub.status.idle": "2022-02-14T02:54:19.099355Z",
     "shell.execute_reply": "2022-02-14T02:54:19.098895Z"
    }
   },
   "outputs": [],
   "source": [
    "if isdir(TE)\n",
    "\n",
    "    rm(TE, recursive = true)\n",
    "\n",
    "    println(\"Removed \", TE, \".\")\n",
    "\n",
    "end"
   ]
  }
 ],
 "metadata": {
  "kernelspec": {
   "display_name": "Julia 1.7.2",
   "language": "julia",
   "name": "julia-1.7"
  },
  "language_info": {
   "file_extension": ".jl",
   "mimetype": "application/julia",
   "name": "julia",
   "version": "1.7.2"
  }
 },
 "nbformat": 4,
 "nbformat_minor": 5
}
