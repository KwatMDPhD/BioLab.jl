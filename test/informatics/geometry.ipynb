{
 "cells": [
  {
   "cell_type": "code",
   "execution_count": null,
   "id": "017464da",
   "metadata": {
    "execution": {
     "iopub.execute_input": "2022-02-14T17:02:59.336389Z",
     "iopub.status.busy": "2022-02-14T17:02:58.946162Z",
     "iopub.status.idle": "2022-02-14T17:02:59.553816Z",
     "shell.execute_reply": "2022-02-14T17:02:59.553175Z"
    }
   },
   "outputs": [],
   "source": [
    "TE = joinpath(tempdir(), \"OnePiece.test\")\n",
    "\n",
    "if isdir(TE)\n",
    "\n",
    "    rm(TE, recursive = true)\n",
    "\n",
    "    println(\"Removed \", TE, \".\")\n",
    "\n",
    "end\n",
    "\n",
    "mkdir(TE)\n",
    "\n",
    "println(\"Made \", TE, \".\")"
   ]
  },
  {
   "cell_type": "code",
   "execution_count": null,
   "id": "34e4701e",
   "metadata": {
    "execution": {
     "iopub.execute_input": "2022-02-14T17:02:59.555690Z",
     "iopub.status.busy": "2022-02-14T17:02:59.555100Z",
     "iopub.status.idle": "2022-02-14T17:03:04.156421Z",
     "shell.execute_reply": "2022-02-14T17:03:04.155901Z"
    }
   },
   "outputs": [],
   "source": [
    "using OnePiece"
   ]
  },
  {
   "cell_type": "markdown",
   "id": "b92a3da9",
   "metadata": {},
   "source": [
    "---"
   ]
  },
  {
   "cell_type": "markdown",
   "id": "5f659a9d",
   "metadata": {},
   "source": [
    "## get_center"
   ]
  },
  {
   "cell_type": "code",
   "execution_count": null,
   "id": "77044e40",
   "metadata": {
    "execution": {
     "iopub.execute_input": "2022-02-14T17:03:04.494603Z",
     "iopub.status.busy": "2022-02-14T17:03:04.157841Z",
     "iopub.status.idle": "2022-02-14T17:03:04.659454Z",
     "shell.execute_reply": "2022-02-14T17:03:04.658952Z"
    }
   },
   "outputs": [],
   "source": [
    "for (co1, co2) in [[0, 100], [-1, 1]]\n",
    "\n",
    "    println(\"-\"^99)\n",
    "\n",
    "    println(co1, \" ... \", co2)\n",
    "\n",
    "    println(OnePiece.informatics.geometry.get_center(co1, co2))\n",
    "\n",
    "end"
   ]
  },
  {
   "cell_type": "markdown",
   "id": "3f396855",
   "metadata": {},
   "source": [
    "---"
   ]
  },
  {
   "cell_type": "code",
   "execution_count": null,
   "id": "b4af2023",
   "metadata": {
    "execution": {
     "iopub.execute_input": "2022-02-14T17:03:04.661439Z",
     "iopub.status.busy": "2022-02-14T17:03:04.660850Z",
     "iopub.status.idle": "2022-02-14T17:03:04.663248Z",
     "shell.execute_reply": "2022-02-14T17:03:04.662807Z"
    }
   },
   "outputs": [],
   "source": [
    "if isdir(TE)\n",
    "\n",
    "    rm(TE, recursive = true)\n",
    "\n",
    "    println(\"Removed \", TE, \".\")\n",
    "\n",
    "end"
   ]
  }
 ],
 "metadata": {
  "kernelspec": {
   "display_name": "Julia 1.7.2",
   "language": "julia",
   "name": "julia-1.7"
  },
  "language_info": {
   "file_extension": ".jl",
   "mimetype": "application/julia",
   "name": "julia",
   "version": "1.7.2"
  }
 },
 "nbformat": 4,
 "nbformat_minor": 5
}
