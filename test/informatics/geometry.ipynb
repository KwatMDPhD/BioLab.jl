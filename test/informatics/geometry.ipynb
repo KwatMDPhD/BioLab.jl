{
 "cells": [
  {
   "cell_type": "code",
   "execution_count": null,
   "id": "34e4701e",
   "metadata": {
    "execution": {
     "iopub.execute_input": "2022-02-09T18:54:56.116342Z",
     "iopub.status.busy": "2022-02-09T18:54:55.690812Z",
     "iopub.status.idle": "2022-02-09T18:54:57.101988Z",
     "shell.execute_reply": "2022-02-09T18:54:57.101456Z"
    }
   },
   "outputs": [],
   "source": [
    "using Revise\n",
    "using BenchmarkTools"
   ]
  },
  {
   "cell_type": "code",
   "execution_count": null,
   "id": "702eaa35",
   "metadata": {
    "execution": {
     "iopub.execute_input": "2022-02-09T18:54:57.103741Z",
     "iopub.status.busy": "2022-02-09T18:54:57.103194Z",
     "iopub.status.idle": "2022-02-09T18:55:08.181963Z",
     "shell.execute_reply": "2022-02-09T18:55:08.181282Z"
    }
   },
   "outputs": [],
   "source": [
    "using OnePiece"
   ]
  },
  {
   "cell_type": "markdown",
   "id": "5f659a9d",
   "metadata": {},
   "source": [
    "## get_center"
   ]
  },
  {
   "cell_type": "code",
   "execution_count": null,
   "id": "77044e40",
   "metadata": {
    "execution": {
     "iopub.execute_input": "2022-02-09T18:55:09.867856Z",
     "iopub.status.busy": "2022-02-09T18:55:08.183442Z",
     "iopub.status.idle": "2022-02-09T18:55:10.720639Z",
     "shell.execute_reply": "2022-02-09T18:55:10.720135Z"
    }
   },
   "outputs": [],
   "source": [
    "for (co1, co2) in [[0, 100], [-1, 1]]\n",
    "\n",
    "    println(\"-\"^99)\n",
    "\n",
    "    println(co1, \" ... \", co2)\n",
    "\n",
    "    println(OnePiece.informatics.geometry.get_center(co1, co2))\n",
    "\n",
    "end"
   ]
  }
 ],
 "metadata": {
  "@webio": {
   "lastCommId": "01c17bc9c1794717a4b151a5c2c22815",
   "lastKernelId": "a7751f8d-79ae-41b3-805d-98f2b7af87c8"
  },
  "kernelspec": {
   "display_name": "Julia 1.7.1",
   "language": "julia",
   "name": "julia-1.7"
  },
  "language_info": {
   "file_extension": ".jl",
   "mimetype": "application/julia",
   "name": "julia",
   "version": "1.7.2"
  }
 },
 "nbformat": 4,
 "nbformat_minor": 5
}
