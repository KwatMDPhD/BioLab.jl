{
 "cells": [
  {
   "cell_type": "code",
   "execution_count": null,
   "id": "017464da",
   "metadata": {
    "execution": {
     "iopub.execute_input": "2022-02-14T15:18:45.115091Z",
     "iopub.status.busy": "2022-02-14T15:18:44.776253Z",
     "iopub.status.idle": "2022-02-14T15:18:45.299242Z",
     "shell.execute_reply": "2022-02-14T15:18:45.298636Z"
    }
   },
   "outputs": [],
   "source": [
    "TE = joinpath(tempdir(), \"OnePiece.test\")\n",
    "\n",
    "if isdir(TE)\n",
    "\n",
    "    rm(TE, recursive = true)\n",
    "\n",
    "    println(\"Removed \", TE, \".\")\n",
    "\n",
    "end\n",
    "\n",
    "mkdir(TE)\n",
    "\n",
    "println(\"Made \", TE, \".\")"
   ]
  },
  {
   "cell_type": "code",
   "execution_count": null,
   "id": "34e4701e",
   "metadata": {
    "execution": {
     "iopub.execute_input": "2022-02-14T15:18:45.301136Z",
     "iopub.status.busy": "2022-02-14T15:18:45.300618Z",
     "iopub.status.idle": "2022-02-14T15:18:49.386551Z",
     "shell.execute_reply": "2022-02-14T15:18:49.386098Z"
    }
   },
   "outputs": [],
   "source": [
    "using OnePiece"
   ]
  },
  {
   "cell_type": "markdown",
   "id": "b92a3da9",
   "metadata": {},
   "source": [
    "---"
   ]
  },
  {
   "cell_type": "markdown",
   "id": "4b17626c",
   "metadata": {},
   "source": [
    "## get_extreme"
   ]
  },
  {
   "cell_type": "code",
   "execution_count": null,
   "id": "4192b171",
   "metadata": {
    "execution": {
     "iopub.execute_input": "2022-02-14T15:18:49.689665Z",
     "iopub.status.busy": "2022-02-14T15:18:49.387968Z",
     "iopub.status.idle": "2022-02-14T15:18:49.735051Z",
     "shell.execute_reply": "2022-02-14T15:18:49.734609Z"
    }
   },
   "outputs": [],
   "source": [
    "ve = [-1, 0, 0, 1, 2]\n",
    "\n",
    ";"
   ]
  },
  {
   "cell_type": "code",
   "execution_count": null,
   "id": "5c64232e",
   "metadata": {
    "execution": {
     "iopub.execute_input": "2022-02-14T15:18:49.736897Z",
     "iopub.status.busy": "2022-02-14T15:18:49.736399Z",
     "iopub.status.idle": "2022-02-14T15:18:50.117463Z",
     "shell.execute_reply": "2022-02-14T15:18:50.117074Z"
    }
   },
   "outputs": [],
   "source": [
    "OnePiece.informatics.tensor.get_extreme(ve)"
   ]
  },
  {
   "cell_type": "code",
   "execution_count": null,
   "id": "1a6cdf3f",
   "metadata": {
    "execution": {
     "iopub.execute_input": "2022-02-14T15:18:50.119427Z",
     "iopub.status.busy": "2022-02-14T15:18:50.118925Z",
     "iopub.status.idle": "2022-02-14T15:18:50.129030Z",
     "shell.execute_reply": "2022-02-14T15:18:50.128602Z"
    }
   },
   "outputs": [],
   "source": [
    "OnePiece.informatics.tensor.get_extreme([-maximum(ve), ve...])"
   ]
  },
  {
   "cell_type": "markdown",
   "id": "83f148a8",
   "metadata": {},
   "source": [
    "## get_area"
   ]
  },
  {
   "cell_type": "code",
   "execution_count": null,
   "id": "178ec379",
   "metadata": {
    "execution": {
     "iopub.execute_input": "2022-02-14T15:18:50.131499Z",
     "iopub.status.busy": "2022-02-14T15:18:50.130590Z",
     "iopub.status.idle": "2022-02-14T15:18:50.332409Z",
     "shell.execute_reply": "2022-02-14T15:18:50.331864Z"
    }
   },
   "outputs": [],
   "source": [
    "OnePiece.informatics.tensor.get_area([-1, 0, 1, 2])"
   ]
  },
  {
   "cell_type": "code",
   "execution_count": null,
   "id": "0b0a6acf",
   "metadata": {
    "execution": {
     "iopub.execute_input": "2022-02-14T15:18:50.334509Z",
     "iopub.status.busy": "2022-02-14T15:18:50.333817Z",
     "iopub.status.idle": "2022-02-14T15:18:50.336307Z",
     "shell.execute_reply": "2022-02-14T15:18:50.335792Z"
    }
   },
   "outputs": [],
   "source": [
    "OnePiece.informatics.tensor.get_area([-2, -1, 0, 0, 1, 2])"
   ]
  },
  {
   "cell_type": "markdown",
   "id": "db2118bf",
   "metadata": {},
   "source": [
    "## sum_where"
   ]
  },
  {
   "cell_type": "code",
   "execution_count": null,
   "id": "b00841ce",
   "metadata": {
    "execution": {
     "iopub.execute_input": "2022-02-14T15:18:50.338194Z",
     "iopub.status.busy": "2022-02-14T15:18:50.337623Z",
     "iopub.status.idle": "2022-02-14T15:18:50.355201Z",
     "shell.execute_reply": "2022-02-14T15:18:50.354745Z"
    }
   },
   "outputs": [],
   "source": [
    "OnePiece.informatics.tensor.sum_where([0, 1, 2, 3], [0, 1, 0, 1])"
   ]
  },
  {
   "cell_type": "markdown",
   "id": "2261bb12",
   "metadata": {},
   "source": [
    "## shift_minimum"
   ]
  },
  {
   "cell_type": "code",
   "execution_count": null,
   "id": "099a44b4",
   "metadata": {
    "execution": {
     "iopub.execute_input": "2022-02-14T15:18:50.357182Z",
     "iopub.status.busy": "2022-02-14T15:18:50.356597Z",
     "iopub.status.idle": "2022-02-14T15:18:50.364982Z",
     "shell.execute_reply": "2022-02-14T15:18:50.364397Z"
    }
   },
   "outputs": [],
   "source": [
    "ve = collect(-3:3)\n",
    "\n",
    ";"
   ]
  },
  {
   "cell_type": "code",
   "execution_count": null,
   "id": "9192de99",
   "metadata": {
    "execution": {
     "iopub.execute_input": "2022-02-14T15:18:50.366943Z",
     "iopub.status.busy": "2022-02-14T15:18:50.366369Z",
     "iopub.status.idle": "2022-02-14T15:18:50.560599Z",
     "shell.execute_reply": "2022-02-14T15:18:50.560143Z"
    }
   },
   "outputs": [],
   "source": [
    "for nu in ve\n",
    "\n",
    "    println(OnePiece.informatics.tensor.shift_minimum(ve, nu))\n",
    "\n",
    "end"
   ]
  },
  {
   "cell_type": "code",
   "execution_count": null,
   "id": "d72022be",
   "metadata": {
    "execution": {
     "iopub.execute_input": "2022-02-14T15:18:50.562483Z",
     "iopub.status.busy": "2022-02-14T15:18:50.561899Z",
     "iopub.status.idle": "2022-02-14T15:18:51.583719Z",
     "shell.execute_reply": "2022-02-14T15:18:51.583316Z"
    }
   },
   "outputs": [],
   "source": [
    "OnePiece.informatics.tensor.shift_minimum(ve, \"0<\")"
   ]
  },
  {
   "cell_type": "markdown",
   "id": "72451b86-b0f1-4adb-a304-4683ae46a94d",
   "metadata": {},
   "source": [
    "## cumulate_sum_reverse"
   ]
  },
  {
   "cell_type": "code",
   "execution_count": null,
   "id": "10a4d6f0-cfcc-4655-9aaa-9118fb5f77b5",
   "metadata": {
    "execution": {
     "iopub.execute_input": "2022-02-14T15:18:51.585652Z",
     "iopub.status.busy": "2022-02-14T15:18:51.585155Z",
     "iopub.status.idle": "2022-02-14T15:18:51.642023Z",
     "shell.execute_reply": "2022-02-14T15:18:51.641633Z"
    }
   },
   "outputs": [],
   "source": [
    "OnePiece.informatics.tensor.cumulate_sum_reverse(1:10)"
   ]
  },
  {
   "cell_type": "markdown",
   "id": "b4533356",
   "metadata": {},
   "source": [
    "## make_increasing_by_stepping_up!"
   ]
  },
  {
   "cell_type": "markdown",
   "id": "016b6206",
   "metadata": {},
   "source": [
    "## make_increasing_by_stepping_down!"
   ]
  },
  {
   "cell_type": "code",
   "execution_count": null,
   "id": "9e9bcd5b",
   "metadata": {
    "execution": {
     "iopub.execute_input": "2022-02-14T15:18:51.644182Z",
     "iopub.status.busy": "2022-02-14T15:18:51.643675Z",
     "iopub.status.idle": "2022-02-14T15:18:51.711359Z",
     "shell.execute_reply": "2022-02-14T15:18:51.710970Z"
    }
   },
   "outputs": [],
   "source": [
    "for ic_ in [[0, 1, 2], [0, 1, 2, 0], [0, 1, 2, 2, 1, 0, 1, 2, 3]]\n",
    "\n",
    "    println(\"-\"^99)\n",
    "\n",
    "    println(ic_)\n",
    "\n",
    "    println(OnePiece.informatics.tensor.make_increasing_by_stepping_up!(copy(ic_)))\n",
    "\n",
    "    println(OnePiece.informatics.tensor.make_increasing_by_stepping_down!(copy(ic_)))\n",
    "\n",
    "end"
   ]
  },
  {
   "cell_type": "markdown",
   "id": "3f396855",
   "metadata": {},
   "source": [
    "---"
   ]
  },
  {
   "cell_type": "code",
   "execution_count": null,
   "id": "b4af2023",
   "metadata": {
    "execution": {
     "iopub.execute_input": "2022-02-14T15:18:51.713700Z",
     "iopub.status.busy": "2022-02-14T15:18:51.712810Z",
     "iopub.status.idle": "2022-02-14T15:18:51.715579Z",
     "shell.execute_reply": "2022-02-14T15:18:51.715205Z"
    }
   },
   "outputs": [],
   "source": [
    "if isdir(TE)\n",
    "\n",
    "    rm(TE, recursive = true)\n",
    "\n",
    "    println(\"Removed \", TE, \".\")\n",
    "\n",
    "end"
   ]
  }
 ],
 "metadata": {
  "kernelspec": {
   "display_name": "Julia 1.7.2",
   "language": "julia",
   "name": "julia-1.7"
  },
  "language_info": {
   "file_extension": ".jl",
   "mimetype": "application/julia",
   "name": "julia",
   "version": "1.7.2"
  }
 },
 "nbformat": 4,
 "nbformat_minor": 5
}
