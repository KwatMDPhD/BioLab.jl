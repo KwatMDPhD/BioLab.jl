{
 "cells": [
  {
   "cell_type": "code",
   "execution_count": null,
   "id": "017464da",
   "metadata": {
    "execution": {
     "iopub.execute_input": "2022-02-13T23:11:37.073725Z",
     "iopub.status.busy": "2022-02-13T23:11:36.714397Z",
     "iopub.status.idle": "2022-02-13T23:11:37.272921Z",
     "shell.execute_reply": "2022-02-13T23:11:37.272477Z"
    }
   },
   "outputs": [],
   "source": [
    "TE = joinpath(tempdir(), \"OnePiece.test\")\n",
    "\n",
    "if isdir(TE)\n",
    "\n",
    "    rm(TE, recursive = true)\n",
    "\n",
    "    println(\"Removed \", TE, \".\")\n",
    "\n",
    "end\n",
    "\n",
    "mkdir(TE)\n",
    "\n",
    "println(\"Made \", TE, \".\")"
   ]
  },
  {
   "cell_type": "code",
   "execution_count": null,
   "id": "34e4701e",
   "metadata": {
    "execution": {
     "iopub.execute_input": "2022-02-13T23:11:37.275162Z",
     "iopub.status.busy": "2022-02-13T23:11:37.274462Z",
     "iopub.status.idle": "2022-02-13T23:11:41.657472Z",
     "shell.execute_reply": "2022-02-13T23:11:41.656988Z"
    }
   },
   "outputs": [],
   "source": [
    "using OnePiece"
   ]
  },
  {
   "cell_type": "markdown",
   "id": "b92a3da9",
   "metadata": {},
   "source": [
    "---"
   ]
  },
  {
   "cell_type": "markdown",
   "id": "4b17626c",
   "metadata": {},
   "source": [
    "## get_extreme"
   ]
  },
  {
   "cell_type": "code",
   "execution_count": null,
   "id": "4192b171",
   "metadata": {
    "execution": {
     "iopub.execute_input": "2022-02-13T23:11:42.026505Z",
     "iopub.status.busy": "2022-02-13T23:11:41.658894Z",
     "iopub.status.idle": "2022-02-13T23:11:42.073785Z",
     "shell.execute_reply": "2022-02-13T23:11:42.073393Z"
    }
   },
   "outputs": [],
   "source": [
    "ve = [-1, 0, 0, 1, 2]\n",
    "\n",
    ";"
   ]
  },
  {
   "cell_type": "code",
   "execution_count": null,
   "id": "5c64232e",
   "metadata": {
    "execution": {
     "iopub.execute_input": "2022-02-13T23:11:42.076004Z",
     "iopub.status.busy": "2022-02-13T23:11:42.075358Z",
     "iopub.status.idle": "2022-02-13T23:11:42.440211Z",
     "shell.execute_reply": "2022-02-13T23:11:42.439823Z"
    }
   },
   "outputs": [],
   "source": [
    "OnePiece.informatics.tensor.get_extreme(ve)"
   ]
  },
  {
   "cell_type": "code",
   "execution_count": null,
   "id": "1a6cdf3f",
   "metadata": {
    "execution": {
     "iopub.execute_input": "2022-02-13T23:11:42.442423Z",
     "iopub.status.busy": "2022-02-13T23:11:42.441664Z",
     "iopub.status.idle": "2022-02-13T23:11:42.452473Z",
     "shell.execute_reply": "2022-02-13T23:11:42.452053Z"
    }
   },
   "outputs": [],
   "source": [
    "OnePiece.informatics.tensor.get_extreme([-maximum(ve), ve...])"
   ]
  },
  {
   "cell_type": "markdown",
   "id": "83f148a8",
   "metadata": {},
   "source": [
    "## get_area"
   ]
  },
  {
   "cell_type": "code",
   "execution_count": null,
   "id": "178ec379",
   "metadata": {
    "execution": {
     "iopub.execute_input": "2022-02-13T23:11:42.454552Z",
     "iopub.status.busy": "2022-02-13T23:11:42.454048Z",
     "iopub.status.idle": "2022-02-13T23:11:42.638464Z",
     "shell.execute_reply": "2022-02-13T23:11:42.638074Z"
    }
   },
   "outputs": [],
   "source": [
    "OnePiece.informatics.tensor.get_area([-1, 0, 1, 2])"
   ]
  },
  {
   "cell_type": "code",
   "execution_count": null,
   "id": "0b0a6acf",
   "metadata": {
    "execution": {
     "iopub.execute_input": "2022-02-13T23:11:42.640565Z",
     "iopub.status.busy": "2022-02-13T23:11:42.639774Z",
     "iopub.status.idle": "2022-02-13T23:11:42.642107Z",
     "shell.execute_reply": "2022-02-13T23:11:42.641672Z"
    }
   },
   "outputs": [],
   "source": [
    "OnePiece.informatics.tensor.get_area([-2, -1, 0, 0, 1, 2])"
   ]
  },
  {
   "cell_type": "markdown",
   "id": "db2118bf",
   "metadata": {},
   "source": [
    "## sum_where"
   ]
  },
  {
   "cell_type": "code",
   "execution_count": null,
   "id": "b00841ce",
   "metadata": {
    "execution": {
     "iopub.execute_input": "2022-02-13T23:11:42.644244Z",
     "iopub.status.busy": "2022-02-13T23:11:42.643760Z",
     "iopub.status.idle": "2022-02-13T23:11:42.659167Z",
     "shell.execute_reply": "2022-02-13T23:11:42.658660Z"
    }
   },
   "outputs": [],
   "source": [
    "OnePiece.informatics.tensor.sum_where([0, 1, 2, 3], [0, 1, 0, 1])"
   ]
  },
  {
   "cell_type": "markdown",
   "id": "2261bb12",
   "metadata": {},
   "source": [
    "## shift_minimum"
   ]
  },
  {
   "cell_type": "code",
   "execution_count": null,
   "id": "099a44b4",
   "metadata": {
    "execution": {
     "iopub.execute_input": "2022-02-13T23:11:42.661537Z",
     "iopub.status.busy": "2022-02-13T23:11:42.660697Z",
     "iopub.status.idle": "2022-02-13T23:11:42.668914Z",
     "shell.execute_reply": "2022-02-13T23:11:42.668461Z"
    }
   },
   "outputs": [],
   "source": [
    "ve = collect(-3:3)\n",
    "\n",
    ";"
   ]
  },
  {
   "cell_type": "code",
   "execution_count": null,
   "id": "9192de99",
   "metadata": {
    "execution": {
     "iopub.execute_input": "2022-02-13T23:11:42.670762Z",
     "iopub.status.busy": "2022-02-13T23:11:42.670267Z",
     "iopub.status.idle": "2022-02-13T23:11:42.847614Z",
     "shell.execute_reply": "2022-02-13T23:11:42.847255Z"
    }
   },
   "outputs": [],
   "source": [
    "for nu in ve\n",
    "\n",
    "    println(OnePiece.informatics.tensor.shift_minimum(ve, nu))\n",
    "\n",
    "end"
   ]
  },
  {
   "cell_type": "code",
   "execution_count": null,
   "id": "d72022be",
   "metadata": {
    "execution": {
     "iopub.execute_input": "2022-02-13T23:11:42.849752Z",
     "iopub.status.busy": "2022-02-13T23:11:42.849247Z",
     "iopub.status.idle": "2022-02-13T23:11:43.785553Z",
     "shell.execute_reply": "2022-02-13T23:11:43.785170Z"
    }
   },
   "outputs": [],
   "source": [
    "OnePiece.informatics.tensor.shift_minimum(ve, \"0<\")"
   ]
  },
  {
   "cell_type": "markdown",
   "id": "72451b86-b0f1-4adb-a304-4683ae46a94d",
   "metadata": {},
   "source": [
    "## cumulate_sum_reverse"
   ]
  },
  {
   "cell_type": "code",
   "execution_count": null,
   "id": "10a4d6f0-cfcc-4655-9aaa-9118fb5f77b5",
   "metadata": {
    "execution": {
     "iopub.execute_input": "2022-02-13T23:11:43.787453Z",
     "iopub.status.busy": "2022-02-13T23:11:43.786957Z",
     "iopub.status.idle": "2022-02-13T23:11:43.840297Z",
     "shell.execute_reply": "2022-02-13T23:11:43.839918Z"
    }
   },
   "outputs": [],
   "source": [
    "OnePiece.informatics.tensor.cumulate_sum_reverse(1:10)"
   ]
  },
  {
   "cell_type": "markdown",
   "id": "b4533356",
   "metadata": {},
   "source": [
    "## make_increasing_by_stepping_up!"
   ]
  },
  {
   "cell_type": "markdown",
   "id": "016b6206",
   "metadata": {},
   "source": [
    "## make_increasing_by_stepping_down!"
   ]
  },
  {
   "cell_type": "code",
   "execution_count": null,
   "id": "9e9bcd5b",
   "metadata": {
    "execution": {
     "iopub.execute_input": "2022-02-13T23:11:43.842294Z",
     "iopub.status.busy": "2022-02-13T23:11:43.841800Z",
     "iopub.status.idle": "2022-02-13T23:11:43.907988Z",
     "shell.execute_reply": "2022-02-13T23:11:43.907616Z"
    }
   },
   "outputs": [],
   "source": [
    "for ic_ in [[0, 1, 2], [0, 1, 2, 0], [0, 1, 2, 2, 1, 0, 1, 2, 3]]\n",
    "\n",
    "    println(\"-\"^99)\n",
    "\n",
    "    println(ic_)\n",
    "\n",
    "    println(OnePiece.informatics.tensor.make_increasing_by_stepping_up!(copy(ic_)))\n",
    "\n",
    "    println(OnePiece.informatics.tensor.make_increasing_by_stepping_down!(copy(ic_)))\n",
    "\n",
    "end"
   ]
  },
  {
   "cell_type": "markdown",
   "id": "3f396855",
   "metadata": {},
   "source": [
    "---"
   ]
  },
  {
   "cell_type": "code",
   "execution_count": null,
   "id": "b4af2023",
   "metadata": {
    "execution": {
     "iopub.execute_input": "2022-02-13T23:11:43.911156Z",
     "iopub.status.busy": "2022-02-13T23:11:43.909986Z",
     "iopub.status.idle": "2022-02-13T23:11:43.912767Z",
     "shell.execute_reply": "2022-02-13T23:11:43.912406Z"
    }
   },
   "outputs": [],
   "source": [
    "if isdir(TE)\n",
    "\n",
    "    rm(TE, recursive = true)\n",
    "\n",
    "    println(\"Removed \", TE, \".\")\n",
    "\n",
    "end"
   ]
  }
 ],
 "metadata": {
  "kernelspec": {
   "display_name": "Julia 1.7.2",
   "language": "julia",
   "name": "julia-1.7"
  },
  "language_info": {
   "file_extension": ".jl",
   "mimetype": "application/julia",
   "name": "julia",
   "version": "1.7.2"
  }
 },
 "nbformat": 4,
 "nbformat_minor": 5
}
