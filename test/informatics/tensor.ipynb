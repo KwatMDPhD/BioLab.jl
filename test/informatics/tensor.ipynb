{
 "cells": [
  {
   "cell_type": "code",
   "execution_count": null,
   "id": "34e4701e",
   "metadata": {
    "execution": {
     "iopub.execute_input": "2022-02-09T02:37:55.675110Z",
     "iopub.status.busy": "2022-02-09T02:37:55.199488Z",
     "iopub.status.idle": "2022-02-09T02:37:56.767767Z",
     "shell.execute_reply": "2022-02-09T02:37:56.767084Z"
    }
   },
   "outputs": [],
   "source": [
    "using Revise\n",
    "using BenchmarkTools"
   ]
  },
  {
   "cell_type": "code",
   "execution_count": null,
   "id": "b3325ba2-989b-48ae-b530-5d0f64147f9a",
   "metadata": {
    "execution": {
     "iopub.execute_input": "2022-02-09T02:37:56.769722Z",
     "iopub.status.busy": "2022-02-09T02:37:56.769116Z",
     "iopub.status.idle": "2022-02-09T02:38:08.299490Z",
     "shell.execute_reply": "2022-02-09T02:38:08.298924Z"
    }
   },
   "outputs": [],
   "source": [
    "using OnePiece"
   ]
  },
  {
   "cell_type": "markdown",
   "id": "4b17626c",
   "metadata": {},
   "source": [
    "## get_extreme"
   ]
  },
  {
   "cell_type": "code",
   "execution_count": null,
   "id": "4192b171",
   "metadata": {
    "execution": {
     "iopub.execute_input": "2022-02-09T02:38:10.098050Z",
     "iopub.status.busy": "2022-02-09T02:38:08.301074Z",
     "iopub.status.idle": "2022-02-09T02:38:10.844135Z",
     "shell.execute_reply": "2022-02-09T02:38:10.843597Z"
    }
   },
   "outputs": [],
   "source": [
    "ve = [-1, 0, 0, 1, 2]\n",
    "\n",
    ";"
   ]
  },
  {
   "cell_type": "code",
   "execution_count": null,
   "id": "5c64232e",
   "metadata": {
    "execution": {
     "iopub.execute_input": "2022-02-09T02:38:10.846455Z",
     "iopub.status.busy": "2022-02-09T02:38:10.845820Z",
     "iopub.status.idle": "2022-02-09T02:38:11.199996Z",
     "shell.execute_reply": "2022-02-09T02:38:11.199356Z"
    }
   },
   "outputs": [],
   "source": [
    "OnePiece.informatics.tensor.get_extreme(ve)"
   ]
  },
  {
   "cell_type": "code",
   "execution_count": null,
   "id": "1a6cdf3f",
   "metadata": {
    "execution": {
     "iopub.execute_input": "2022-02-09T02:38:11.201864Z",
     "iopub.status.busy": "2022-02-09T02:38:11.201236Z",
     "iopub.status.idle": "2022-02-09T02:38:11.236993Z",
     "shell.execute_reply": "2022-02-09T02:38:11.236530Z"
    }
   },
   "outputs": [],
   "source": [
    "OnePiece.informatics.tensor.get_extreme([-maximum(ve), ve...])"
   ]
  },
  {
   "cell_type": "markdown",
   "id": "83f148a8",
   "metadata": {},
   "source": [
    "## get_area"
   ]
  },
  {
   "cell_type": "code",
   "execution_count": null,
   "id": "178ec379",
   "metadata": {
    "execution": {
     "iopub.execute_input": "2022-02-09T02:38:11.239048Z",
     "iopub.status.busy": "2022-02-09T02:38:11.238410Z",
     "iopub.status.idle": "2022-02-09T02:38:11.495936Z",
     "shell.execute_reply": "2022-02-09T02:38:11.495386Z"
    }
   },
   "outputs": [],
   "source": [
    "OnePiece.informatics.tensor.get_area([-1, 0, 1, 2])"
   ]
  },
  {
   "cell_type": "code",
   "execution_count": null,
   "id": "0b0a6acf",
   "metadata": {
    "execution": {
     "iopub.execute_input": "2022-02-09T02:38:11.498098Z",
     "iopub.status.busy": "2022-02-09T02:38:11.497350Z",
     "iopub.status.idle": "2022-02-09T02:38:11.511713Z",
     "shell.execute_reply": "2022-02-09T02:38:11.511144Z"
    }
   },
   "outputs": [],
   "source": [
    "OnePiece.informatics.tensor.get_area([-2, -1, 0, 0, 1, 2])"
   ]
  },
  {
   "cell_type": "markdown",
   "id": "db2118bf",
   "metadata": {},
   "source": [
    "## sum_where"
   ]
  },
  {
   "cell_type": "code",
   "execution_count": null,
   "id": "b00841ce",
   "metadata": {
    "execution": {
     "iopub.execute_input": "2022-02-09T02:38:11.513723Z",
     "iopub.status.busy": "2022-02-09T02:38:11.513128Z",
     "iopub.status.idle": "2022-02-09T02:38:11.544124Z",
     "shell.execute_reply": "2022-02-09T02:38:11.543587Z"
    }
   },
   "outputs": [],
   "source": [
    "OnePiece.informatics.tensor.sum_where([0, 1, 2, 3], [0, 1, 0, 1])"
   ]
  },
  {
   "cell_type": "markdown",
   "id": "2261bb12",
   "metadata": {},
   "source": [
    "## shift_minimum"
   ]
  },
  {
   "cell_type": "code",
   "execution_count": null,
   "id": "099a44b4",
   "metadata": {
    "execution": {
     "iopub.execute_input": "2022-02-09T02:38:11.546256Z",
     "iopub.status.busy": "2022-02-09T02:38:11.545675Z",
     "iopub.status.idle": "2022-02-09T02:38:11.566624Z",
     "shell.execute_reply": "2022-02-09T02:38:11.566085Z"
    }
   },
   "outputs": [],
   "source": [
    "ve = collect(-3:3)\n",
    "\n",
    ";"
   ]
  },
  {
   "cell_type": "code",
   "execution_count": null,
   "id": "9192de99",
   "metadata": {
    "execution": {
     "iopub.execute_input": "2022-02-09T02:38:11.568477Z",
     "iopub.status.busy": "2022-02-09T02:38:11.567897Z",
     "iopub.status.idle": "2022-02-09T02:38:11.791174Z",
     "shell.execute_reply": "2022-02-09T02:38:11.790707Z"
    }
   },
   "outputs": [],
   "source": [
    "for nu in ve\n",
    "\n",
    "    println(OnePiece.informatics.tensor.shift_minimum(ve, nu))\n",
    "\n",
    "end"
   ]
  },
  {
   "cell_type": "code",
   "execution_count": null,
   "id": "d72022be",
   "metadata": {
    "execution": {
     "iopub.execute_input": "2022-02-09T02:38:11.793501Z",
     "iopub.status.busy": "2022-02-09T02:38:11.792919Z",
     "iopub.status.idle": "2022-02-09T02:38:12.872633Z",
     "shell.execute_reply": "2022-02-09T02:38:12.872156Z"
    }
   },
   "outputs": [],
   "source": [
    "OnePiece.informatics.tensor.shift_minimum(ve, \"0<\")"
   ]
  },
  {
   "cell_type": "markdown",
   "id": "72451b86-b0f1-4adb-a304-4683ae46a94d",
   "metadata": {},
   "source": [
    "## cumulate_sum_reverse"
   ]
  },
  {
   "cell_type": "code",
   "execution_count": null,
   "id": "10a4d6f0-cfcc-4655-9aaa-9118fb5f77b5",
   "metadata": {
    "execution": {
     "iopub.execute_input": "2022-02-09T02:38:12.874834Z",
     "iopub.status.busy": "2022-02-09T02:38:12.873974Z",
     "iopub.status.idle": "2022-02-09T02:38:12.937753Z",
     "shell.execute_reply": "2022-02-09T02:38:12.937279Z"
    }
   },
   "outputs": [],
   "source": [
    "OnePiece.informatics.tensor.cumulate_sum_reverse(1:10)"
   ]
  },
  {
   "cell_type": "markdown",
   "id": "b4533356",
   "metadata": {},
   "source": [
    "## make_increasing_by_stepping_up!"
   ]
  },
  {
   "cell_type": "markdown",
   "id": "016b6206",
   "metadata": {},
   "source": [
    "## make_increasing_by_stepping_down!"
   ]
  },
  {
   "cell_type": "code",
   "execution_count": null,
   "id": "9e9bcd5b",
   "metadata": {
    "execution": {
     "iopub.execute_input": "2022-02-09T02:38:12.939990Z",
     "iopub.status.busy": "2022-02-09T02:38:12.939349Z",
     "iopub.status.idle": "2022-02-09T02:38:13.034058Z",
     "shell.execute_reply": "2022-02-09T02:38:13.033587Z"
    }
   },
   "outputs": [],
   "source": [
    "for ic_ in [[0, 1, 2], [0, 1, 2, 0], [0, 1, 2, 2, 1, 0, 1, 2, 3]]\n",
    "\n",
    "    println(\"-\"^99)\n",
    "\n",
    "    println(ic_)\n",
    "\n",
    "    println(OnePiece.informatics.tensor.make_increasing_by_stepping_up!(copy(ic_)))\n",
    "\n",
    "    println(OnePiece.informatics.tensor.make_increasing_by_stepping_down!(copy(ic_)))\n",
    "\n",
    "end"
   ]
  }
 ],
 "metadata": {
  "@webio": {
   "lastCommId": "a25d527901774348a5de36563682b575",
   "lastKernelId": "29d5a02f-b651-4abc-b9cc-c330c7ea92ab"
  },
  "kernelspec": {
   "display_name": "Julia 1.7.1",
   "language": "julia",
   "name": "julia-1.7"
  },
  "language_info": {
   "file_extension": ".jl",
   "mimetype": "application/julia",
   "name": "julia",
   "version": "1.7.2"
  }
 },
 "nbformat": 4,
 "nbformat_minor": 5
}
