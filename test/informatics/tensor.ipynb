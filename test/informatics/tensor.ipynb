{
 "cells": [
  {
   "cell_type": "code",
   "execution_count": null,
   "id": "017464da",
   "metadata": {
    "execution": {
     "iopub.execute_input": "2022-02-14T16:47:22.215267Z",
     "iopub.status.busy": "2022-02-14T16:47:21.786592Z",
     "iopub.status.idle": "2022-02-14T16:47:22.450970Z",
     "shell.execute_reply": "2022-02-14T16:47:22.450150Z"
    }
   },
   "outputs": [],
   "source": [
    "TE = joinpath(tempdir(), \"OnePiece.test\")\n",
    "\n",
    "if isdir(TE)\n",
    "\n",
    "    rm(TE, recursive = true)\n",
    "\n",
    "    println(\"Removed \", TE, \".\")\n",
    "\n",
    "end\n",
    "\n",
    "mkdir(TE)\n",
    "\n",
    "println(\"Made \", TE, \".\")"
   ]
  },
  {
   "cell_type": "code",
   "execution_count": null,
   "id": "34e4701e",
   "metadata": {
    "execution": {
     "iopub.execute_input": "2022-02-14T16:47:22.453398Z",
     "iopub.status.busy": "2022-02-14T16:47:22.452502Z",
     "iopub.status.idle": "2022-02-14T16:47:27.231207Z",
     "shell.execute_reply": "2022-02-14T16:47:27.230678Z"
    }
   },
   "outputs": [],
   "source": [
    "using OnePiece"
   ]
  },
  {
   "cell_type": "markdown",
   "id": "b92a3da9",
   "metadata": {},
   "source": [
    "---"
   ]
  },
  {
   "cell_type": "markdown",
   "id": "4b17626c",
   "metadata": {},
   "source": [
    "## get_extreme"
   ]
  },
  {
   "cell_type": "code",
   "execution_count": null,
   "id": "4192b171",
   "metadata": {
    "execution": {
     "iopub.execute_input": "2022-02-14T16:47:27.604951Z",
     "iopub.status.busy": "2022-02-14T16:47:27.232641Z",
     "iopub.status.idle": "2022-02-14T16:47:27.665114Z",
     "shell.execute_reply": "2022-02-14T16:47:27.664464Z"
    }
   },
   "outputs": [],
   "source": [
    "ve = [-1, 0, 0, 1, 2]\n",
    "\n",
    ";"
   ]
  },
  {
   "cell_type": "code",
   "execution_count": null,
   "id": "5c64232e",
   "metadata": {
    "execution": {
     "iopub.execute_input": "2022-02-14T16:47:27.667120Z",
     "iopub.status.busy": "2022-02-14T16:47:27.666446Z",
     "iopub.status.idle": "2022-02-14T16:47:28.121509Z",
     "shell.execute_reply": "2022-02-14T16:47:28.121054Z"
    }
   },
   "outputs": [],
   "source": [
    "OnePiece.informatics.tensor.get_extreme(ve)"
   ]
  },
  {
   "cell_type": "code",
   "execution_count": null,
   "id": "1a6cdf3f",
   "metadata": {
    "execution": {
     "iopub.execute_input": "2022-02-14T16:47:28.123369Z",
     "iopub.status.busy": "2022-02-14T16:47:28.122795Z",
     "iopub.status.idle": "2022-02-14T16:47:28.135014Z",
     "shell.execute_reply": "2022-02-14T16:47:28.134534Z"
    }
   },
   "outputs": [],
   "source": [
    "OnePiece.informatics.tensor.get_extreme([-maximum(ve), ve...])"
   ]
  },
  {
   "cell_type": "markdown",
   "id": "83f148a8",
   "metadata": {},
   "source": [
    "## get_area"
   ]
  },
  {
   "cell_type": "code",
   "execution_count": null,
   "id": "178ec379",
   "metadata": {
    "execution": {
     "iopub.execute_input": "2022-02-14T16:47:28.137127Z",
     "iopub.status.busy": "2022-02-14T16:47:28.136540Z",
     "iopub.status.idle": "2022-02-14T16:47:28.363315Z",
     "shell.execute_reply": "2022-02-14T16:47:28.362871Z"
    }
   },
   "outputs": [],
   "source": [
    "OnePiece.informatics.tensor.get_area([-1, 0, 1, 2])"
   ]
  },
  {
   "cell_type": "code",
   "execution_count": null,
   "id": "0b0a6acf",
   "metadata": {
    "execution": {
     "iopub.execute_input": "2022-02-14T16:47:28.365405Z",
     "iopub.status.busy": "2022-02-14T16:47:28.364583Z",
     "iopub.status.idle": "2022-02-14T16:47:28.367876Z",
     "shell.execute_reply": "2022-02-14T16:47:28.366415Z"
    }
   },
   "outputs": [],
   "source": [
    "OnePiece.informatics.tensor.get_area([-2, -1, 0, 0, 1, 2])"
   ]
  },
  {
   "cell_type": "markdown",
   "id": "db2118bf",
   "metadata": {},
   "source": [
    "## sum_where"
   ]
  },
  {
   "cell_type": "code",
   "execution_count": null,
   "id": "b00841ce",
   "metadata": {
    "execution": {
     "iopub.execute_input": "2022-02-14T16:47:28.370118Z",
     "iopub.status.busy": "2022-02-14T16:47:28.369443Z",
     "iopub.status.idle": "2022-02-14T16:47:28.388326Z",
     "shell.execute_reply": "2022-02-14T16:47:28.387831Z"
    }
   },
   "outputs": [],
   "source": [
    "OnePiece.informatics.tensor.sum_where([0, 1, 2, 3], [0, 1, 0, 1])"
   ]
  },
  {
   "cell_type": "markdown",
   "id": "2261bb12",
   "metadata": {},
   "source": [
    "## shift_minimum"
   ]
  },
  {
   "cell_type": "code",
   "execution_count": null,
   "id": "099a44b4",
   "metadata": {
    "execution": {
     "iopub.execute_input": "2022-02-14T16:47:28.390271Z",
     "iopub.status.busy": "2022-02-14T16:47:28.389688Z",
     "iopub.status.idle": "2022-02-14T16:47:28.398673Z",
     "shell.execute_reply": "2022-02-14T16:47:28.398212Z"
    }
   },
   "outputs": [],
   "source": [
    "ve = collect(-3:3)\n",
    "\n",
    ";"
   ]
  },
  {
   "cell_type": "code",
   "execution_count": null,
   "id": "9192de99",
   "metadata": {
    "execution": {
     "iopub.execute_input": "2022-02-14T16:47:28.400574Z",
     "iopub.status.busy": "2022-02-14T16:47:28.399972Z",
     "iopub.status.idle": "2022-02-14T16:47:28.606089Z",
     "shell.execute_reply": "2022-02-14T16:47:28.605577Z"
    }
   },
   "outputs": [],
   "source": [
    "for nu in ve\n",
    "\n",
    "    println(OnePiece.informatics.tensor.shift_minimum(ve, nu))\n",
    "\n",
    "end"
   ]
  },
  {
   "cell_type": "code",
   "execution_count": null,
   "id": "d72022be",
   "metadata": {
    "execution": {
     "iopub.execute_input": "2022-02-14T16:47:28.607959Z",
     "iopub.status.busy": "2022-02-14T16:47:28.607383Z",
     "iopub.status.idle": "2022-02-14T16:47:29.714730Z",
     "shell.execute_reply": "2022-02-14T16:47:29.714281Z"
    }
   },
   "outputs": [],
   "source": [
    "OnePiece.informatics.tensor.shift_minimum(ve, \"0<\")"
   ]
  },
  {
   "cell_type": "markdown",
   "id": "72451b86-b0f1-4adb-a304-4683ae46a94d",
   "metadata": {},
   "source": [
    "## cumulate_sum_reverse"
   ]
  },
  {
   "cell_type": "code",
   "execution_count": null,
   "id": "10a4d6f0-cfcc-4655-9aaa-9118fb5f77b5",
   "metadata": {
    "execution": {
     "iopub.execute_input": "2022-02-14T16:47:29.716927Z",
     "iopub.status.busy": "2022-02-14T16:47:29.716246Z",
     "iopub.status.idle": "2022-02-14T16:47:29.780050Z",
     "shell.execute_reply": "2022-02-14T16:47:29.779600Z"
    }
   },
   "outputs": [],
   "source": [
    "OnePiece.informatics.tensor.cumulate_sum_reverse(1:10)"
   ]
  },
  {
   "cell_type": "markdown",
   "id": "b4533356",
   "metadata": {},
   "source": [
    "## make_increasing_by_stepping_up!"
   ]
  },
  {
   "cell_type": "markdown",
   "id": "016b6206",
   "metadata": {},
   "source": [
    "## make_increasing_by_stepping_down!"
   ]
  },
  {
   "cell_type": "code",
   "execution_count": null,
   "id": "9e9bcd5b",
   "metadata": {
    "execution": {
     "iopub.execute_input": "2022-02-14T16:47:29.782084Z",
     "iopub.status.busy": "2022-02-14T16:47:29.781501Z",
     "iopub.status.idle": "2022-02-14T16:47:29.859674Z",
     "shell.execute_reply": "2022-02-14T16:47:29.859234Z"
    }
   },
   "outputs": [],
   "source": [
    "for ic_ in [[0, 1, 2], [0, 1, 2, 0], [0, 1, 2, 2, 1, 0, 1, 2, 3]]\n",
    "\n",
    "    println(\"-\"^99)\n",
    "\n",
    "    println(ic_)\n",
    "\n",
    "    println(OnePiece.informatics.tensor.make_increasing_by_stepping_up!(copy(ic_)))\n",
    "\n",
    "    println(OnePiece.informatics.tensor.make_increasing_by_stepping_down!(copy(ic_)))\n",
    "\n",
    "end"
   ]
  },
  {
   "cell_type": "markdown",
   "id": "3f396855",
   "metadata": {},
   "source": [
    "---"
   ]
  },
  {
   "cell_type": "code",
   "execution_count": null,
   "id": "b4af2023",
   "metadata": {
    "execution": {
     "iopub.execute_input": "2022-02-14T16:47:29.861643Z",
     "iopub.status.busy": "2022-02-14T16:47:29.861061Z",
     "iopub.status.idle": "2022-02-14T16:47:29.863458Z",
     "shell.execute_reply": "2022-02-14T16:47:29.863015Z"
    }
   },
   "outputs": [],
   "source": [
    "if isdir(TE)\n",
    "\n",
    "    rm(TE, recursive = true)\n",
    "\n",
    "    println(\"Removed \", TE, \".\")\n",
    "\n",
    "end"
   ]
  }
 ],
 "metadata": {
  "kernelspec": {
   "display_name": "Julia 1.7.2",
   "language": "julia",
   "name": "julia-1.7"
  },
  "language_info": {
   "file_extension": ".jl",
   "mimetype": "application/julia",
   "name": "julia",
   "version": "1.7.2"
  }
 },
 "nbformat": 4,
 "nbformat_minor": 5
}
