{
 "cells": [
  {
   "cell_type": "code",
   "execution_count": null,
   "id": "017464da",
   "metadata": {
    "execution": {
     "iopub.execute_input": "2022-02-13T05:20:22.225792Z",
     "iopub.status.busy": "2022-02-13T05:20:21.849020Z",
     "iopub.status.idle": "2022-02-13T05:20:22.446611Z",
     "shell.execute_reply": "2022-02-13T05:20:22.446102Z"
    }
   },
   "outputs": [],
   "source": [
    "TE = joinpath(tempdir(), \"OnePiece.test\")\n",
    "\n",
    "if isdir(TE)\n",
    "\n",
    "    rm(TE, recursive = true)\n",
    "\n",
    "    println(\"Removed \", TE, \".\")\n",
    "\n",
    "end\n",
    "\n",
    "mkdir(TE)\n",
    "\n",
    "println(\"Made \", TE, \".\")"
   ]
  },
  {
   "cell_type": "code",
   "execution_count": null,
   "id": "34e4701e",
   "metadata": {
    "execution": {
     "iopub.execute_input": "2022-02-13T05:20:22.448608Z",
     "iopub.status.busy": "2022-02-13T05:20:22.448082Z",
     "iopub.status.idle": "2022-02-13T05:20:26.689558Z",
     "shell.execute_reply": "2022-02-13T05:20:26.689100Z"
    }
   },
   "outputs": [],
   "source": [
    "using OnePiece"
   ]
  },
  {
   "cell_type": "markdown",
   "id": "b92a3da9",
   "metadata": {},
   "source": [
    "---"
   ]
  },
  {
   "cell_type": "markdown",
   "id": "4b17626c",
   "metadata": {},
   "source": [
    "## get_extreme"
   ]
  },
  {
   "cell_type": "code",
   "execution_count": null,
   "id": "4192b171",
   "metadata": {
    "execution": {
     "iopub.execute_input": "2022-02-13T05:20:26.998303Z",
     "iopub.status.busy": "2022-02-13T05:20:26.690904Z",
     "iopub.status.idle": "2022-02-13T05:20:27.053619Z",
     "shell.execute_reply": "2022-02-13T05:20:27.053228Z"
    }
   },
   "outputs": [],
   "source": [
    "ve = [-1, 0, 0, 1, 2]\n",
    "\n",
    ";"
   ]
  },
  {
   "cell_type": "code",
   "execution_count": null,
   "id": "5c64232e",
   "metadata": {
    "execution": {
     "iopub.execute_input": "2022-02-13T05:20:27.056171Z",
     "iopub.status.busy": "2022-02-13T05:20:27.055055Z",
     "iopub.status.idle": "2022-02-13T05:20:27.474010Z",
     "shell.execute_reply": "2022-02-13T05:20:27.473627Z"
    }
   },
   "outputs": [],
   "source": [
    "OnePiece.informatics.tensor.get_extreme(ve)"
   ]
  },
  {
   "cell_type": "code",
   "execution_count": null,
   "id": "1a6cdf3f",
   "metadata": {
    "execution": {
     "iopub.execute_input": "2022-02-13T05:20:27.475861Z",
     "iopub.status.busy": "2022-02-13T05:20:27.475362Z",
     "iopub.status.idle": "2022-02-13T05:20:27.486092Z",
     "shell.execute_reply": "2022-02-13T05:20:27.485697Z"
    }
   },
   "outputs": [],
   "source": [
    "OnePiece.informatics.tensor.get_extreme([-maximum(ve), ve...])"
   ]
  },
  {
   "cell_type": "markdown",
   "id": "83f148a8",
   "metadata": {},
   "source": [
    "## get_area"
   ]
  },
  {
   "cell_type": "code",
   "execution_count": null,
   "id": "178ec379",
   "metadata": {
    "execution": {
     "iopub.execute_input": "2022-02-13T05:20:27.488305Z",
     "iopub.status.busy": "2022-02-13T05:20:27.487708Z",
     "iopub.status.idle": "2022-02-13T05:20:27.671389Z",
     "shell.execute_reply": "2022-02-13T05:20:27.671004Z"
    }
   },
   "outputs": [],
   "source": [
    "OnePiece.informatics.tensor.get_area([-1, 0, 1, 2])"
   ]
  },
  {
   "cell_type": "code",
   "execution_count": null,
   "id": "0b0a6acf",
   "metadata": {
    "execution": {
     "iopub.execute_input": "2022-02-13T05:20:27.673459Z",
     "iopub.status.busy": "2022-02-13T05:20:27.672689Z",
     "iopub.status.idle": "2022-02-13T05:20:27.674943Z",
     "shell.execute_reply": "2022-02-13T05:20:27.673967Z"
    }
   },
   "outputs": [],
   "source": [
    "OnePiece.informatics.tensor.get_area([-2, -1, 0, 0, 1, 2])"
   ]
  },
  {
   "cell_type": "markdown",
   "id": "db2118bf",
   "metadata": {},
   "source": [
    "## sum_where"
   ]
  },
  {
   "cell_type": "code",
   "execution_count": null,
   "id": "b00841ce",
   "metadata": {
    "execution": {
     "iopub.execute_input": "2022-02-13T05:20:27.676821Z",
     "iopub.status.busy": "2022-02-13T05:20:27.676320Z",
     "iopub.status.idle": "2022-02-13T05:20:27.691526Z",
     "shell.execute_reply": "2022-02-13T05:20:27.691033Z"
    }
   },
   "outputs": [],
   "source": [
    "OnePiece.informatics.tensor.sum_where([0, 1, 2, 3], [0, 1, 0, 1])"
   ]
  },
  {
   "cell_type": "markdown",
   "id": "2261bb12",
   "metadata": {},
   "source": [
    "## shift_minimum"
   ]
  },
  {
   "cell_type": "code",
   "execution_count": null,
   "id": "099a44b4",
   "metadata": {
    "execution": {
     "iopub.execute_input": "2022-02-13T05:20:27.693304Z",
     "iopub.status.busy": "2022-02-13T05:20:27.692813Z",
     "iopub.status.idle": "2022-02-13T05:20:27.699925Z",
     "shell.execute_reply": "2022-02-13T05:20:27.699431Z"
    }
   },
   "outputs": [],
   "source": [
    "ve = collect(-3:3)\n",
    "\n",
    ";"
   ]
  },
  {
   "cell_type": "code",
   "execution_count": null,
   "id": "9192de99",
   "metadata": {
    "execution": {
     "iopub.execute_input": "2022-02-13T05:20:27.701738Z",
     "iopub.status.busy": "2022-02-13T05:20:27.701244Z",
     "iopub.status.idle": "2022-02-13T05:20:27.864158Z",
     "shell.execute_reply": "2022-02-13T05:20:27.863803Z"
    }
   },
   "outputs": [],
   "source": [
    "for nu in ve\n",
    "\n",
    "    println(OnePiece.informatics.tensor.shift_minimum(ve, nu))\n",
    "\n",
    "end"
   ]
  },
  {
   "cell_type": "code",
   "execution_count": null,
   "id": "d72022be",
   "metadata": {
    "execution": {
     "iopub.execute_input": "2022-02-13T05:20:27.865886Z",
     "iopub.status.busy": "2022-02-13T05:20:27.865371Z",
     "iopub.status.idle": "2022-02-13T05:20:28.872233Z",
     "shell.execute_reply": "2022-02-13T05:20:28.871786Z"
    }
   },
   "outputs": [],
   "source": [
    "OnePiece.informatics.tensor.shift_minimum(ve, \"0<\")"
   ]
  },
  {
   "cell_type": "markdown",
   "id": "72451b86-b0f1-4adb-a304-4683ae46a94d",
   "metadata": {},
   "source": [
    "## cumulate_sum_reverse"
   ]
  },
  {
   "cell_type": "code",
   "execution_count": null,
   "id": "10a4d6f0-cfcc-4655-9aaa-9118fb5f77b5",
   "metadata": {
    "execution": {
     "iopub.execute_input": "2022-02-13T05:20:28.874152Z",
     "iopub.status.busy": "2022-02-13T05:20:28.873577Z",
     "iopub.status.idle": "2022-02-13T05:20:28.933369Z",
     "shell.execute_reply": "2022-02-13T05:20:28.932923Z"
    }
   },
   "outputs": [],
   "source": [
    "OnePiece.informatics.tensor.cumulate_sum_reverse(1:10)"
   ]
  },
  {
   "cell_type": "markdown",
   "id": "b4533356",
   "metadata": {},
   "source": [
    "## make_increasing_by_stepping_up!"
   ]
  },
  {
   "cell_type": "markdown",
   "id": "016b6206",
   "metadata": {},
   "source": [
    "## make_increasing_by_stepping_down!"
   ]
  },
  {
   "cell_type": "code",
   "execution_count": null,
   "id": "9e9bcd5b",
   "metadata": {
    "execution": {
     "iopub.execute_input": "2022-02-13T05:20:28.935381Z",
     "iopub.status.busy": "2022-02-13T05:20:28.934809Z",
     "iopub.status.idle": "2022-02-13T05:20:29.010164Z",
     "shell.execute_reply": "2022-02-13T05:20:29.009663Z"
    }
   },
   "outputs": [],
   "source": [
    "for ic_ in [[0, 1, 2], [0, 1, 2, 0], [0, 1, 2, 2, 1, 0, 1, 2, 3]]\n",
    "\n",
    "    println(\"-\"^99)\n",
    "\n",
    "    println(ic_)\n",
    "\n",
    "    println(OnePiece.informatics.tensor.make_increasing_by_stepping_up!(copy(ic_)))\n",
    "\n",
    "    println(OnePiece.informatics.tensor.make_increasing_by_stepping_down!(copy(ic_)))\n",
    "\n",
    "end"
   ]
  },
  {
   "cell_type": "markdown",
   "id": "3f396855",
   "metadata": {},
   "source": [
    "---"
   ]
  },
  {
   "cell_type": "code",
   "execution_count": null,
   "id": "b4af2023",
   "metadata": {
    "execution": {
     "iopub.execute_input": "2022-02-13T05:20:29.012085Z",
     "iopub.status.busy": "2022-02-13T05:20:29.011504Z",
     "iopub.status.idle": "2022-02-13T05:20:29.013946Z",
     "shell.execute_reply": "2022-02-13T05:20:29.013508Z"
    }
   },
   "outputs": [],
   "source": [
    "if isdir(TE)\n",
    "\n",
    "    rm(TE, recursive = true)\n",
    "\n",
    "    println(\"Removed \", TE, \".\")\n",
    "\n",
    "end"
   ]
  }
 ],
 "metadata": {
  "kernelspec": {
   "display_name": "Julia 1.7.2",
   "language": "julia",
   "name": "julia-1.7"
  },
  "language_info": {
   "file_extension": ".jl",
   "mimetype": "application/julia",
   "name": "julia",
   "version": "1.7.2"
  }
 },
 "nbformat": 4,
 "nbformat_minor": 5
}
