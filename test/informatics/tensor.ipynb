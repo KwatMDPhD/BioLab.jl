{
 "cells": [
  {
   "cell_type": "code",
   "execution_count": null,
   "id": "017464da",
   "metadata": {
    "execution": {
     "iopub.execute_input": "2022-02-10T21:26:16.826112Z",
     "iopub.status.busy": "2022-02-10T21:26:16.112304Z",
     "iopub.status.idle": "2022-02-10T21:26:18.258500Z",
     "shell.execute_reply": "2022-02-10T21:26:18.257471Z"
    }
   },
   "outputs": [],
   "source": [
    "TE = joinpath(tempdir(), \"OnePiece.test\")\n",
    "\n",
    "mkpath(TE)"
   ]
  },
  {
   "cell_type": "code",
   "execution_count": null,
   "id": "34e4701e",
   "metadata": {
    "execution": {
     "iopub.execute_input": "2022-02-10T21:26:18.261837Z",
     "iopub.status.busy": "2022-02-10T21:26:18.260723Z",
     "iopub.status.idle": "2022-02-10T21:26:25.928029Z",
     "shell.execute_reply": "2022-02-10T21:26:25.927339Z"
    }
   },
   "outputs": [],
   "source": [
    "using OnePiece"
   ]
  },
  {
   "cell_type": "markdown",
   "id": "b92a3da9",
   "metadata": {},
   "source": [
    "---"
   ]
  },
  {
   "cell_type": "markdown",
   "id": "4b17626c",
   "metadata": {},
   "source": [
    "## get_extreme"
   ]
  },
  {
   "cell_type": "code",
   "execution_count": null,
   "id": "4192b171",
   "metadata": {
    "execution": {
     "iopub.execute_input": "2022-02-10T21:26:26.639739Z",
     "iopub.status.busy": "2022-02-10T21:26:25.930149Z",
     "iopub.status.idle": "2022-02-10T21:26:26.727376Z",
     "shell.execute_reply": "2022-02-10T21:26:26.726499Z"
    }
   },
   "outputs": [],
   "source": [
    "ve = [-1, 0, 0, 1, 2]\n",
    "\n",
    ";"
   ]
  },
  {
   "cell_type": "code",
   "execution_count": null,
   "id": "5c64232e",
   "metadata": {
    "execution": {
     "iopub.execute_input": "2022-02-10T21:26:26.730141Z",
     "iopub.status.busy": "2022-02-10T21:26:26.729212Z",
     "iopub.status.idle": "2022-02-10T21:26:27.186920Z",
     "shell.execute_reply": "2022-02-10T21:26:27.186220Z"
    }
   },
   "outputs": [],
   "source": [
    "OnePiece.informatics.tensor.get_extreme(ve)"
   ]
  },
  {
   "cell_type": "code",
   "execution_count": null,
   "id": "1a6cdf3f",
   "metadata": {
    "execution": {
     "iopub.execute_input": "2022-02-10T21:26:27.189724Z",
     "iopub.status.busy": "2022-02-10T21:26:27.188852Z",
     "iopub.status.idle": "2022-02-10T21:26:27.225326Z",
     "shell.execute_reply": "2022-02-10T21:26:27.224508Z"
    }
   },
   "outputs": [],
   "source": [
    "OnePiece.informatics.tensor.get_extreme([-maximum(ve), ve...])"
   ]
  },
  {
   "cell_type": "markdown",
   "id": "83f148a8",
   "metadata": {},
   "source": [
    "## get_area"
   ]
  },
  {
   "cell_type": "code",
   "execution_count": null,
   "id": "178ec379",
   "metadata": {
    "execution": {
     "iopub.execute_input": "2022-02-10T21:26:27.228470Z",
     "iopub.status.busy": "2022-02-10T21:26:27.227451Z",
     "iopub.status.idle": "2022-02-10T21:26:27.638831Z",
     "shell.execute_reply": "2022-02-10T21:26:27.637871Z"
    }
   },
   "outputs": [],
   "source": [
    "OnePiece.informatics.tensor.get_area([-1, 0, 1, 2])"
   ]
  },
  {
   "cell_type": "code",
   "execution_count": null,
   "id": "0b0a6acf",
   "metadata": {
    "execution": {
     "iopub.execute_input": "2022-02-10T21:26:27.642846Z",
     "iopub.status.busy": "2022-02-10T21:26:27.641503Z",
     "iopub.status.idle": "2022-02-10T21:26:27.646575Z",
     "shell.execute_reply": "2022-02-10T21:26:27.645554Z"
    }
   },
   "outputs": [],
   "source": [
    "OnePiece.informatics.tensor.get_area([-2, -1, 0, 0, 1, 2])"
   ]
  },
  {
   "cell_type": "markdown",
   "id": "db2118bf",
   "metadata": {},
   "source": [
    "## sum_where"
   ]
  },
  {
   "cell_type": "code",
   "execution_count": null,
   "id": "b00841ce",
   "metadata": {
    "execution": {
     "iopub.execute_input": "2022-02-10T21:26:27.650758Z",
     "iopub.status.busy": "2022-02-10T21:26:27.649194Z",
     "iopub.status.idle": "2022-02-10T21:26:27.685898Z",
     "shell.execute_reply": "2022-02-10T21:26:27.685192Z"
    }
   },
   "outputs": [],
   "source": [
    "OnePiece.informatics.tensor.sum_where([0, 1, 2, 3], [0, 1, 0, 1])"
   ]
  },
  {
   "cell_type": "markdown",
   "id": "2261bb12",
   "metadata": {},
   "source": [
    "## shift_minimum"
   ]
  },
  {
   "cell_type": "code",
   "execution_count": null,
   "id": "099a44b4",
   "metadata": {
    "execution": {
     "iopub.execute_input": "2022-02-10T21:26:27.689058Z",
     "iopub.status.busy": "2022-02-10T21:26:27.688176Z",
     "iopub.status.idle": "2022-02-10T21:26:27.701098Z",
     "shell.execute_reply": "2022-02-10T21:26:27.700100Z"
    }
   },
   "outputs": [],
   "source": [
    "ve = collect(-3:3)\n",
    "\n",
    ";"
   ]
  },
  {
   "cell_type": "code",
   "execution_count": null,
   "id": "9192de99",
   "metadata": {
    "execution": {
     "iopub.execute_input": "2022-02-10T21:26:27.703907Z",
     "iopub.status.busy": "2022-02-10T21:26:27.703058Z",
     "iopub.status.idle": "2022-02-10T21:26:28.027857Z",
     "shell.execute_reply": "2022-02-10T21:26:28.027216Z"
    }
   },
   "outputs": [],
   "source": [
    "for nu in ve\n",
    "\n",
    "    println(OnePiece.informatics.tensor.shift_minimum(ve, nu))\n",
    "\n",
    "end"
   ]
  },
  {
   "cell_type": "code",
   "execution_count": null,
   "id": "d72022be",
   "metadata": {
    "execution": {
     "iopub.execute_input": "2022-02-10T21:26:28.030632Z",
     "iopub.status.busy": "2022-02-10T21:26:28.029789Z",
     "iopub.status.idle": "2022-02-10T21:26:29.749516Z",
     "shell.execute_reply": "2022-02-10T21:26:29.748847Z"
    }
   },
   "outputs": [],
   "source": [
    "OnePiece.informatics.tensor.shift_minimum(ve, \"0<\")"
   ]
  },
  {
   "cell_type": "markdown",
   "id": "72451b86-b0f1-4adb-a304-4683ae46a94d",
   "metadata": {},
   "source": [
    "## cumulate_sum_reverse"
   ]
  },
  {
   "cell_type": "code",
   "execution_count": null,
   "id": "10a4d6f0-cfcc-4655-9aaa-9118fb5f77b5",
   "metadata": {
    "execution": {
     "iopub.execute_input": "2022-02-10T21:26:29.752939Z",
     "iopub.status.busy": "2022-02-10T21:26:29.752022Z",
     "iopub.status.idle": "2022-02-10T21:26:29.831474Z",
     "shell.execute_reply": "2022-02-10T21:26:29.830457Z"
    }
   },
   "outputs": [],
   "source": [
    "OnePiece.informatics.tensor.cumulate_sum_reverse(1:10)"
   ]
  },
  {
   "cell_type": "markdown",
   "id": "b4533356",
   "metadata": {},
   "source": [
    "## make_increasing_by_stepping_up!"
   ]
  },
  {
   "cell_type": "markdown",
   "id": "016b6206",
   "metadata": {},
   "source": [
    "## make_increasing_by_stepping_down!"
   ]
  },
  {
   "cell_type": "code",
   "execution_count": null,
   "id": "9e9bcd5b",
   "metadata": {
    "execution": {
     "iopub.execute_input": "2022-02-10T21:26:29.835958Z",
     "iopub.status.busy": "2022-02-10T21:26:29.834558Z",
     "iopub.status.idle": "2022-02-10T21:26:29.974853Z",
     "shell.execute_reply": "2022-02-10T21:26:29.974140Z"
    }
   },
   "outputs": [],
   "source": [
    "for ic_ in [[0, 1, 2], [0, 1, 2, 0], [0, 1, 2, 2, 1, 0, 1, 2, 3]]\n",
    "\n",
    "    println(\"-\"^99)\n",
    "\n",
    "    println(ic_)\n",
    "\n",
    "    println(OnePiece.informatics.tensor.make_increasing_by_stepping_up!(copy(ic_)))\n",
    "\n",
    "    println(OnePiece.informatics.tensor.make_increasing_by_stepping_down!(copy(ic_)))\n",
    "\n",
    "end"
   ]
  },
  {
   "cell_type": "markdown",
   "id": "3f396855",
   "metadata": {},
   "source": [
    "---"
   ]
  },
  {
   "cell_type": "code",
   "execution_count": null,
   "id": "b4af2023",
   "metadata": {
    "execution": {
     "iopub.execute_input": "2022-02-10T21:26:29.977704Z",
     "iopub.status.busy": "2022-02-10T21:26:29.976842Z",
     "iopub.status.idle": "2022-02-10T21:26:29.982660Z",
     "shell.execute_reply": "2022-02-10T21:26:29.981919Z"
    }
   },
   "outputs": [],
   "source": [
    "rm(TE; recursive = true)"
   ]
  }
 ],
 "metadata": {
  "kernelspec": {
   "display_name": "Julia 1.7.2",
   "language": "julia",
   "name": "julia-1.7"
  },
  "language_info": {
   "file_extension": ".jl",
   "mimetype": "application/julia",
   "name": "julia",
   "version": "1.7.2"
  }
 },
 "nbformat": 4,
 "nbformat_minor": 5
}
