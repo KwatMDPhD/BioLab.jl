{
 "cells": [
  {
   "cell_type": "code",
   "execution_count": null,
   "id": "34e4701e",
   "metadata": {
    "execution": {
     "iopub.execute_input": "2022-02-09T00:03:42.078532Z",
     "iopub.status.busy": "2022-02-09T00:03:41.674645Z",
     "iopub.status.idle": "2022-02-09T00:03:43.101390Z",
     "shell.execute_reply": "2022-02-09T00:03:43.100869Z"
    }
   },
   "outputs": [],
   "source": [
    "using Revise\n",
    "using BenchmarkTools"
   ]
  },
  {
   "cell_type": "code",
   "execution_count": null,
   "id": "b3325ba2-989b-48ae-b530-5d0f64147f9a",
   "metadata": {
    "execution": {
     "iopub.execute_input": "2022-02-09T00:03:43.103366Z",
     "iopub.status.busy": "2022-02-09T00:03:43.102767Z",
     "iopub.status.idle": "2022-02-09T00:03:54.014585Z",
     "shell.execute_reply": "2022-02-09T00:03:54.014047Z"
    }
   },
   "outputs": [],
   "source": [
    "using OnePiece"
   ]
  },
  {
   "cell_type": "markdown",
   "id": "4b17626c",
   "metadata": {},
   "source": [
    "## get_extreme"
   ]
  },
  {
   "cell_type": "code",
   "execution_count": null,
   "id": "4192b171",
   "metadata": {
    "execution": {
     "iopub.execute_input": "2022-02-09T00:03:55.738228Z",
     "iopub.status.busy": "2022-02-09T00:03:54.016188Z",
     "iopub.status.idle": "2022-02-09T00:03:56.412533Z",
     "shell.execute_reply": "2022-02-09T00:03:56.412155Z"
    }
   },
   "outputs": [],
   "source": [
    "ve = [-1, 0, 0, 1, 2]\n",
    "\n",
    ";"
   ]
  },
  {
   "cell_type": "code",
   "execution_count": null,
   "id": "5c64232e",
   "metadata": {
    "execution": {
     "iopub.execute_input": "2022-02-09T00:03:56.414590Z",
     "iopub.status.busy": "2022-02-09T00:03:56.414085Z",
     "iopub.status.idle": "2022-02-09T00:03:56.722779Z",
     "shell.execute_reply": "2022-02-09T00:03:56.722388Z"
    }
   },
   "outputs": [],
   "source": [
    "OnePiece.informatics.tensor.get_extreme(ve)"
   ]
  },
  {
   "cell_type": "code",
   "execution_count": null,
   "id": "1a6cdf3f",
   "metadata": {
    "execution": {
     "iopub.execute_input": "2022-02-09T00:03:56.725603Z",
     "iopub.status.busy": "2022-02-09T00:03:56.724843Z",
     "iopub.status.idle": "2022-02-09T00:03:56.758154Z",
     "shell.execute_reply": "2022-02-09T00:03:56.757635Z"
    }
   },
   "outputs": [],
   "source": [
    "OnePiece.informatics.tensor.get_extreme([-maximum(ve), ve...])"
   ]
  },
  {
   "cell_type": "markdown",
   "id": "83f148a8",
   "metadata": {},
   "source": [
    "## get_area"
   ]
  },
  {
   "cell_type": "code",
   "execution_count": null,
   "id": "178ec379",
   "metadata": {
    "execution": {
     "iopub.execute_input": "2022-02-09T00:03:56.760051Z",
     "iopub.status.busy": "2022-02-09T00:03:56.759504Z",
     "iopub.status.idle": "2022-02-09T00:03:56.984120Z",
     "shell.execute_reply": "2022-02-09T00:03:56.983652Z"
    }
   },
   "outputs": [],
   "source": [
    "OnePiece.informatics.tensor.get_area([-1, 0, 1, 2])"
   ]
  },
  {
   "cell_type": "code",
   "execution_count": null,
   "id": "0b0a6acf",
   "metadata": {
    "execution": {
     "iopub.execute_input": "2022-02-09T00:03:56.986046Z",
     "iopub.status.busy": "2022-02-09T00:03:56.985458Z",
     "iopub.status.idle": "2022-02-09T00:03:56.998631Z",
     "shell.execute_reply": "2022-02-09T00:03:56.998235Z"
    }
   },
   "outputs": [],
   "source": [
    "OnePiece.informatics.tensor.get_area([-2, -1, 0, 0, 1, 2])"
   ]
  },
  {
   "cell_type": "markdown",
   "id": "db2118bf",
   "metadata": {},
   "source": [
    "## sum_where"
   ]
  },
  {
   "cell_type": "code",
   "execution_count": null,
   "id": "b00841ce",
   "metadata": {
    "execution": {
     "iopub.execute_input": "2022-02-09T00:03:57.000637Z",
     "iopub.status.busy": "2022-02-09T00:03:57.000074Z",
     "iopub.status.idle": "2022-02-09T00:03:57.028799Z",
     "shell.execute_reply": "2022-02-09T00:03:57.028422Z"
    }
   },
   "outputs": [],
   "source": [
    "OnePiece.informatics.tensor.sum_where([0, 1, 2, 3], [0, 1, 0, 1])"
   ]
  },
  {
   "cell_type": "markdown",
   "id": "2261bb12",
   "metadata": {},
   "source": [
    "## shift_minimum"
   ]
  },
  {
   "cell_type": "code",
   "execution_count": null,
   "id": "099a44b4",
   "metadata": {
    "execution": {
     "iopub.execute_input": "2022-02-09T00:03:57.030720Z",
     "iopub.status.busy": "2022-02-09T00:03:57.030185Z",
     "iopub.status.idle": "2022-02-09T00:03:57.050134Z",
     "shell.execute_reply": "2022-02-09T00:03:57.049661Z"
    }
   },
   "outputs": [],
   "source": [
    "ve = collect(-3:3)\n",
    "\n",
    ";"
   ]
  },
  {
   "cell_type": "code",
   "execution_count": null,
   "id": "9192de99",
   "metadata": {
    "execution": {
     "iopub.execute_input": "2022-02-09T00:03:57.052089Z",
     "iopub.status.busy": "2022-02-09T00:03:57.051541Z",
     "iopub.status.idle": "2022-02-09T00:03:57.243417Z",
     "shell.execute_reply": "2022-02-09T00:03:57.243033Z"
    }
   },
   "outputs": [],
   "source": [
    "for nu in ve\n",
    "\n",
    "    println(OnePiece.informatics.tensor.shift_minimum(ve, nu))\n",
    "\n",
    "end"
   ]
  },
  {
   "cell_type": "code",
   "execution_count": null,
   "id": "d72022be",
   "metadata": {
    "execution": {
     "iopub.execute_input": "2022-02-09T00:03:57.245363Z",
     "iopub.status.busy": "2022-02-09T00:03:57.244781Z",
     "iopub.status.idle": "2022-02-09T00:03:58.190597Z",
     "shell.execute_reply": "2022-02-09T00:03:58.190130Z"
    }
   },
   "outputs": [],
   "source": [
    "OnePiece.informatics.tensor.shift_minimum(ve, \"0<\")"
   ]
  },
  {
   "cell_type": "markdown",
   "id": "72451b86-b0f1-4adb-a304-4683ae46a94d",
   "metadata": {},
   "source": [
    "## cumulate_sum_reverse"
   ]
  },
  {
   "cell_type": "code",
   "execution_count": null,
   "id": "10a4d6f0-cfcc-4655-9aaa-9118fb5f77b5",
   "metadata": {
    "execution": {
     "iopub.execute_input": "2022-02-09T00:03:58.192577Z",
     "iopub.status.busy": "2022-02-09T00:03:58.191985Z",
     "iopub.status.idle": "2022-02-09T00:03:58.254262Z",
     "shell.execute_reply": "2022-02-09T00:03:58.253807Z"
    }
   },
   "outputs": [],
   "source": [
    "OnePiece.informatics.tensor.cumulate_sum_reverse(1:10)"
   ]
  },
  {
   "cell_type": "markdown",
   "id": "b4533356",
   "metadata": {},
   "source": [
    "## make_increasing_by_stepping_up!"
   ]
  },
  {
   "cell_type": "markdown",
   "id": "016b6206",
   "metadata": {},
   "source": [
    "## make_increasing_by_stepping_down!"
   ]
  },
  {
   "cell_type": "code",
   "execution_count": null,
   "id": "9e9bcd5b",
   "metadata": {
    "execution": {
     "iopub.execute_input": "2022-02-09T00:03:58.256749Z",
     "iopub.status.busy": "2022-02-09T00:03:58.256069Z",
     "iopub.status.idle": "2022-02-09T00:03:58.343299Z",
     "shell.execute_reply": "2022-02-09T00:03:58.342699Z"
    }
   },
   "outputs": [],
   "source": [
    "for ic_ in [[0, 1, 2], [0, 1, 2, 0], [0, 1, 2, 2, 1, 0, 1, 2, 3]]\n",
    "\n",
    "    println(\"-\"^99)\n",
    "\n",
    "    println(ic_)\n",
    "\n",
    "    println(OnePiece.informatics.tensor.make_increasing_by_stepping_up!(copy(ic_)))\n",
    "\n",
    "    println(OnePiece.informatics.tensor.make_increasing_by_stepping_down!(copy(ic_)))\n",
    "\n",
    "end"
   ]
  }
 ],
 "metadata": {
  "@webio": {
   "lastCommId": "a25d527901774348a5de36563682b575",
   "lastKernelId": "29d5a02f-b651-4abc-b9cc-c330c7ea92ab"
  },
  "kernelspec": {
   "display_name": "Julia 1.7.1",
   "language": "julia",
   "name": "julia-1.7"
  },
  "language_info": {
   "file_extension": ".jl",
   "mimetype": "application/julia",
   "name": "julia",
   "version": "1.7.2"
  }
 },
 "nbformat": 4,
 "nbformat_minor": 5
}
