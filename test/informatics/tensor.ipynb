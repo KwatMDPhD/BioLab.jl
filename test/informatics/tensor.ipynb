{
 "cells": [
  {
   "cell_type": "code",
   "execution_count": null,
   "id": "017464da",
   "metadata": {
    "execution": {
     "iopub.execute_input": "2022-02-13T23:30:38.114502Z",
     "iopub.status.busy": "2022-02-13T23:30:37.781421Z",
     "iopub.status.idle": "2022-02-13T23:30:38.300221Z",
     "shell.execute_reply": "2022-02-13T23:30:38.299724Z"
    }
   },
   "outputs": [],
   "source": [
    "TE = joinpath(tempdir(), \"OnePiece.test\")\n",
    "\n",
    "if isdir(TE)\n",
    "\n",
    "    rm(TE, recursive = true)\n",
    "\n",
    "    println(\"Removed \", TE, \".\")\n",
    "\n",
    "end\n",
    "\n",
    "mkdir(TE)\n",
    "\n",
    "println(\"Made \", TE, \".\")"
   ]
  },
  {
   "cell_type": "code",
   "execution_count": null,
   "id": "34e4701e",
   "metadata": {
    "execution": {
     "iopub.execute_input": "2022-02-13T23:30:38.302164Z",
     "iopub.status.busy": "2022-02-13T23:30:38.301663Z",
     "iopub.status.idle": "2022-02-13T23:30:42.297639Z",
     "shell.execute_reply": "2022-02-13T23:30:42.297179Z"
    }
   },
   "outputs": [],
   "source": [
    "using OnePiece"
   ]
  },
  {
   "cell_type": "markdown",
   "id": "b92a3da9",
   "metadata": {},
   "source": [
    "---"
   ]
  },
  {
   "cell_type": "markdown",
   "id": "4b17626c",
   "metadata": {},
   "source": [
    "## get_extreme"
   ]
  },
  {
   "cell_type": "code",
   "execution_count": null,
   "id": "4192b171",
   "metadata": {
    "execution": {
     "iopub.execute_input": "2022-02-13T23:30:42.612686Z",
     "iopub.status.busy": "2022-02-13T23:30:42.298938Z",
     "iopub.status.idle": "2022-02-13T23:30:42.657261Z",
     "shell.execute_reply": "2022-02-13T23:30:42.656822Z"
    }
   },
   "outputs": [],
   "source": [
    "ve = [-1, 0, 0, 1, 2]\n",
    "\n",
    ";"
   ]
  },
  {
   "cell_type": "code",
   "execution_count": null,
   "id": "5c64232e",
   "metadata": {
    "execution": {
     "iopub.execute_input": "2022-02-13T23:30:42.659078Z",
     "iopub.status.busy": "2022-02-13T23:30:42.658586Z",
     "iopub.status.idle": "2022-02-13T23:30:43.022159Z",
     "shell.execute_reply": "2022-02-13T23:30:43.021768Z"
    }
   },
   "outputs": [],
   "source": [
    "OnePiece.informatics.tensor.get_extreme(ve)"
   ]
  },
  {
   "cell_type": "code",
   "execution_count": null,
   "id": "1a6cdf3f",
   "metadata": {
    "execution": {
     "iopub.execute_input": "2022-02-13T23:30:43.023995Z",
     "iopub.status.busy": "2022-02-13T23:30:43.023490Z",
     "iopub.status.idle": "2022-02-13T23:30:43.034274Z",
     "shell.execute_reply": "2022-02-13T23:30:43.033884Z"
    }
   },
   "outputs": [],
   "source": [
    "OnePiece.informatics.tensor.get_extreme([-maximum(ve), ve...])"
   ]
  },
  {
   "cell_type": "markdown",
   "id": "83f148a8",
   "metadata": {},
   "source": [
    "## get_area"
   ]
  },
  {
   "cell_type": "code",
   "execution_count": null,
   "id": "178ec379",
   "metadata": {
    "execution": {
     "iopub.execute_input": "2022-02-13T23:30:43.036139Z",
     "iopub.status.busy": "2022-02-13T23:30:43.035611Z",
     "iopub.status.idle": "2022-02-13T23:30:43.218195Z",
     "shell.execute_reply": "2022-02-13T23:30:43.217802Z"
    }
   },
   "outputs": [],
   "source": [
    "OnePiece.informatics.tensor.get_area([-1, 0, 1, 2])"
   ]
  },
  {
   "cell_type": "code",
   "execution_count": null,
   "id": "0b0a6acf",
   "metadata": {
    "execution": {
     "iopub.execute_input": "2022-02-13T23:30:43.220674Z",
     "iopub.status.busy": "2022-02-13T23:30:43.219832Z",
     "iopub.status.idle": "2022-02-13T23:30:43.222577Z",
     "shell.execute_reply": "2022-02-13T23:30:43.221992Z"
    }
   },
   "outputs": [],
   "source": [
    "OnePiece.informatics.tensor.get_area([-2, -1, 0, 0, 1, 2])"
   ]
  },
  {
   "cell_type": "markdown",
   "id": "db2118bf",
   "metadata": {},
   "source": [
    "## sum_where"
   ]
  },
  {
   "cell_type": "code",
   "execution_count": null,
   "id": "b00841ce",
   "metadata": {
    "execution": {
     "iopub.execute_input": "2022-02-13T23:30:43.224903Z",
     "iopub.status.busy": "2022-02-13T23:30:43.224150Z",
     "iopub.status.idle": "2022-02-13T23:30:43.239823Z",
     "shell.execute_reply": "2022-02-13T23:30:43.239444Z"
    }
   },
   "outputs": [],
   "source": [
    "OnePiece.informatics.tensor.sum_where([0, 1, 2, 3], [0, 1, 0, 1])"
   ]
  },
  {
   "cell_type": "markdown",
   "id": "2261bb12",
   "metadata": {},
   "source": [
    "## shift_minimum"
   ]
  },
  {
   "cell_type": "code",
   "execution_count": null,
   "id": "099a44b4",
   "metadata": {
    "execution": {
     "iopub.execute_input": "2022-02-13T23:30:43.241669Z",
     "iopub.status.busy": "2022-02-13T23:30:43.241175Z",
     "iopub.status.idle": "2022-02-13T23:30:43.248749Z",
     "shell.execute_reply": "2022-02-13T23:30:43.248326Z"
    }
   },
   "outputs": [],
   "source": [
    "ve = collect(-3:3)\n",
    "\n",
    ";"
   ]
  },
  {
   "cell_type": "code",
   "execution_count": null,
   "id": "9192de99",
   "metadata": {
    "execution": {
     "iopub.execute_input": "2022-02-13T23:30:43.250529Z",
     "iopub.status.busy": "2022-02-13T23:30:43.250013Z",
     "iopub.status.idle": "2022-02-13T23:30:43.418188Z",
     "shell.execute_reply": "2022-02-13T23:30:43.417810Z"
    }
   },
   "outputs": [],
   "source": [
    "for nu in ve\n",
    "\n",
    "    println(OnePiece.informatics.tensor.shift_minimum(ve, nu))\n",
    "\n",
    "end"
   ]
  },
  {
   "cell_type": "code",
   "execution_count": null,
   "id": "d72022be",
   "metadata": {
    "execution": {
     "iopub.execute_input": "2022-02-13T23:30:43.420080Z",
     "iopub.status.busy": "2022-02-13T23:30:43.419538Z",
     "iopub.status.idle": "2022-02-13T23:30:44.389468Z",
     "shell.execute_reply": "2022-02-13T23:30:44.389088Z"
    }
   },
   "outputs": [],
   "source": [
    "OnePiece.informatics.tensor.shift_minimum(ve, \"0<\")"
   ]
  },
  {
   "cell_type": "markdown",
   "id": "72451b86-b0f1-4adb-a304-4683ae46a94d",
   "metadata": {},
   "source": [
    "## cumulate_sum_reverse"
   ]
  },
  {
   "cell_type": "code",
   "execution_count": null,
   "id": "10a4d6f0-cfcc-4655-9aaa-9118fb5f77b5",
   "metadata": {
    "execution": {
     "iopub.execute_input": "2022-02-13T23:30:44.391322Z",
     "iopub.status.busy": "2022-02-13T23:30:44.390832Z",
     "iopub.status.idle": "2022-02-13T23:30:44.447948Z",
     "shell.execute_reply": "2022-02-13T23:30:44.447525Z"
    }
   },
   "outputs": [],
   "source": [
    "OnePiece.informatics.tensor.cumulate_sum_reverse(1:10)"
   ]
  },
  {
   "cell_type": "markdown",
   "id": "b4533356",
   "metadata": {},
   "source": [
    "## make_increasing_by_stepping_up!"
   ]
  },
  {
   "cell_type": "markdown",
   "id": "016b6206",
   "metadata": {},
   "source": [
    "## make_increasing_by_stepping_down!"
   ]
  },
  {
   "cell_type": "code",
   "execution_count": null,
   "id": "9e9bcd5b",
   "metadata": {
    "execution": {
     "iopub.execute_input": "2022-02-13T23:30:44.449907Z",
     "iopub.status.busy": "2022-02-13T23:30:44.449415Z",
     "iopub.status.idle": "2022-02-13T23:30:44.519828Z",
     "shell.execute_reply": "2022-02-13T23:30:44.519411Z"
    }
   },
   "outputs": [],
   "source": [
    "for ic_ in [[0, 1, 2], [0, 1, 2, 0], [0, 1, 2, 2, 1, 0, 1, 2, 3]]\n",
    "\n",
    "    println(\"-\"^99)\n",
    "\n",
    "    println(ic_)\n",
    "\n",
    "    println(OnePiece.informatics.tensor.make_increasing_by_stepping_up!(copy(ic_)))\n",
    "\n",
    "    println(OnePiece.informatics.tensor.make_increasing_by_stepping_down!(copy(ic_)))\n",
    "\n",
    "end"
   ]
  },
  {
   "cell_type": "markdown",
   "id": "3f396855",
   "metadata": {},
   "source": [
    "---"
   ]
  },
  {
   "cell_type": "code",
   "execution_count": null,
   "id": "b4af2023",
   "metadata": {
    "execution": {
     "iopub.execute_input": "2022-02-13T23:30:44.521856Z",
     "iopub.status.busy": "2022-02-13T23:30:44.521273Z",
     "iopub.status.idle": "2022-02-13T23:30:44.523627Z",
     "shell.execute_reply": "2022-02-13T23:30:44.523199Z"
    }
   },
   "outputs": [],
   "source": [
    "if isdir(TE)\n",
    "\n",
    "    rm(TE, recursive = true)\n",
    "\n",
    "    println(\"Removed \", TE, \".\")\n",
    "\n",
    "end"
   ]
  }
 ],
 "metadata": {
  "kernelspec": {
   "display_name": "Julia 1.7.2",
   "language": "julia",
   "name": "julia-1.7"
  },
  "language_info": {
   "file_extension": ".jl",
   "mimetype": "application/julia",
   "name": "julia",
   "version": "1.7.2"
  }
 },
 "nbformat": 4,
 "nbformat_minor": 5
}
