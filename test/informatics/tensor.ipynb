{
 "cells": [
  {
   "cell_type": "code",
   "execution_count": null,
   "id": "017464da",
   "metadata": {
    "execution": {
     "iopub.execute_input": "2022-02-11T19:58:19.008664Z",
     "iopub.status.busy": "2022-02-11T19:58:18.611637Z",
     "iopub.status.idle": "2022-02-11T19:58:19.229318Z",
     "shell.execute_reply": "2022-02-11T19:58:19.228698Z"
    }
   },
   "outputs": [],
   "source": [
    "TE = joinpath(tempdir(), \"OnePiece.test\")\n",
    "\n",
    "if isdir(TE)\n",
    "\n",
    "    rm(TE, recursive = true)\n",
    "\n",
    "    println(\"Removed \", TE, \".\")\n",
    "\n",
    "end\n",
    "\n",
    "mkdir(TE)\n",
    "\n",
    "println(\"Made \", TE, \".\")"
   ]
  },
  {
   "cell_type": "code",
   "execution_count": null,
   "id": "34e4701e",
   "metadata": {
    "execution": {
     "iopub.execute_input": "2022-02-11T19:58:19.231404Z",
     "iopub.status.busy": "2022-02-11T19:58:19.230691Z",
     "iopub.status.idle": "2022-02-11T19:58:23.931483Z",
     "shell.execute_reply": "2022-02-11T19:58:23.931034Z"
    }
   },
   "outputs": [],
   "source": [
    "using OnePiece"
   ]
  },
  {
   "cell_type": "markdown",
   "id": "b92a3da9",
   "metadata": {},
   "source": [
    "---"
   ]
  },
  {
   "cell_type": "markdown",
   "id": "4b17626c",
   "metadata": {},
   "source": [
    "## get_extreme"
   ]
  },
  {
   "cell_type": "code",
   "execution_count": null,
   "id": "4192b171",
   "metadata": {
    "execution": {
     "iopub.execute_input": "2022-02-11T19:58:24.284116Z",
     "iopub.status.busy": "2022-02-11T19:58:23.933214Z",
     "iopub.status.idle": "2022-02-11T19:58:24.336528Z",
     "shell.execute_reply": "2022-02-11T19:58:24.336148Z"
    }
   },
   "outputs": [],
   "source": [
    "ve = [-1, 0, 0, 1, 2]\n",
    "\n",
    ";"
   ]
  },
  {
   "cell_type": "code",
   "execution_count": null,
   "id": "5c64232e",
   "metadata": {
    "execution": {
     "iopub.execute_input": "2022-02-11T19:58:24.339324Z",
     "iopub.status.busy": "2022-02-11T19:58:24.338324Z",
     "iopub.status.idle": "2022-02-11T19:58:24.758431Z",
     "shell.execute_reply": "2022-02-11T19:58:24.758035Z"
    }
   },
   "outputs": [],
   "source": [
    "OnePiece.informatics.tensor.get_extreme(ve)"
   ]
  },
  {
   "cell_type": "code",
   "execution_count": null,
   "id": "1a6cdf3f",
   "metadata": {
    "execution": {
     "iopub.execute_input": "2022-02-11T19:58:24.760471Z",
     "iopub.status.busy": "2022-02-11T19:58:24.759786Z",
     "iopub.status.idle": "2022-02-11T19:58:24.771403Z",
     "shell.execute_reply": "2022-02-11T19:58:24.770820Z"
    }
   },
   "outputs": [],
   "source": [
    "OnePiece.informatics.tensor.get_extreme([-maximum(ve), ve...])"
   ]
  },
  {
   "cell_type": "markdown",
   "id": "83f148a8",
   "metadata": {},
   "source": [
    "## get_area"
   ]
  },
  {
   "cell_type": "code",
   "execution_count": null,
   "id": "178ec379",
   "metadata": {
    "execution": {
     "iopub.execute_input": "2022-02-11T19:58:24.774212Z",
     "iopub.status.busy": "2022-02-11T19:58:24.773459Z",
     "iopub.status.idle": "2022-02-11T19:58:24.987855Z",
     "shell.execute_reply": "2022-02-11T19:58:24.987445Z"
    }
   },
   "outputs": [],
   "source": [
    "OnePiece.informatics.tensor.get_area([-1, 0, 1, 2])"
   ]
  },
  {
   "cell_type": "code",
   "execution_count": null,
   "id": "0b0a6acf",
   "metadata": {
    "execution": {
     "iopub.execute_input": "2022-02-11T19:58:24.990376Z",
     "iopub.status.busy": "2022-02-11T19:58:24.989408Z",
     "iopub.status.idle": "2022-02-11T19:58:24.992363Z",
     "shell.execute_reply": "2022-02-11T19:58:24.991853Z"
    }
   },
   "outputs": [],
   "source": [
    "OnePiece.informatics.tensor.get_area([-2, -1, 0, 0, 1, 2])"
   ]
  },
  {
   "cell_type": "markdown",
   "id": "db2118bf",
   "metadata": {},
   "source": [
    "## sum_where"
   ]
  },
  {
   "cell_type": "code",
   "execution_count": null,
   "id": "b00841ce",
   "metadata": {
    "execution": {
     "iopub.execute_input": "2022-02-11T19:58:24.994645Z",
     "iopub.status.busy": "2022-02-11T19:58:24.993852Z",
     "iopub.status.idle": "2022-02-11T19:58:25.012774Z",
     "shell.execute_reply": "2022-02-11T19:58:25.012367Z"
    }
   },
   "outputs": [],
   "source": [
    "OnePiece.informatics.tensor.sum_where([0, 1, 2, 3], [0, 1, 0, 1])"
   ]
  },
  {
   "cell_type": "markdown",
   "id": "2261bb12",
   "metadata": {},
   "source": [
    "## shift_minimum"
   ]
  },
  {
   "cell_type": "code",
   "execution_count": null,
   "id": "099a44b4",
   "metadata": {
    "execution": {
     "iopub.execute_input": "2022-02-11T19:58:25.014783Z",
     "iopub.status.busy": "2022-02-11T19:58:25.014254Z",
     "iopub.status.idle": "2022-02-11T19:58:25.023811Z",
     "shell.execute_reply": "2022-02-11T19:58:25.022716Z"
    }
   },
   "outputs": [],
   "source": [
    "ve = collect(-3:3)\n",
    "\n",
    ";"
   ]
  },
  {
   "cell_type": "code",
   "execution_count": null,
   "id": "9192de99",
   "metadata": {
    "execution": {
     "iopub.execute_input": "2022-02-11T19:58:25.026388Z",
     "iopub.status.busy": "2022-02-11T19:58:25.025806Z",
     "iopub.status.idle": "2022-02-11T19:58:25.227442Z",
     "shell.execute_reply": "2022-02-11T19:58:25.226966Z"
    }
   },
   "outputs": [],
   "source": [
    "for nu in ve\n",
    "\n",
    "    println(OnePiece.informatics.tensor.shift_minimum(ve, nu))\n",
    "\n",
    "end"
   ]
  },
  {
   "cell_type": "code",
   "execution_count": null,
   "id": "d72022be",
   "metadata": {
    "execution": {
     "iopub.execute_input": "2022-02-11T19:58:25.229429Z",
     "iopub.status.busy": "2022-02-11T19:58:25.228721Z",
     "iopub.status.idle": "2022-02-11T19:58:26.322864Z",
     "shell.execute_reply": "2022-02-11T19:58:26.322479Z"
    }
   },
   "outputs": [],
   "source": [
    "OnePiece.informatics.tensor.shift_minimum(ve, \"0<\")"
   ]
  },
  {
   "cell_type": "markdown",
   "id": "72451b86-b0f1-4adb-a304-4683ae46a94d",
   "metadata": {},
   "source": [
    "## cumulate_sum_reverse"
   ]
  },
  {
   "cell_type": "code",
   "execution_count": null,
   "id": "10a4d6f0-cfcc-4655-9aaa-9118fb5f77b5",
   "metadata": {
    "execution": {
     "iopub.execute_input": "2022-02-11T19:58:26.325164Z",
     "iopub.status.busy": "2022-02-11T19:58:26.324500Z",
     "iopub.status.idle": "2022-02-11T19:58:26.387315Z",
     "shell.execute_reply": "2022-02-11T19:58:26.386854Z"
    }
   },
   "outputs": [],
   "source": [
    "OnePiece.informatics.tensor.cumulate_sum_reverse(1:10)"
   ]
  },
  {
   "cell_type": "markdown",
   "id": "b4533356",
   "metadata": {},
   "source": [
    "## make_increasing_by_stepping_up!"
   ]
  },
  {
   "cell_type": "markdown",
   "id": "016b6206",
   "metadata": {},
   "source": [
    "## make_increasing_by_stepping_down!"
   ]
  },
  {
   "cell_type": "code",
   "execution_count": null,
   "id": "9e9bcd5b",
   "metadata": {
    "execution": {
     "iopub.execute_input": "2022-02-11T19:58:26.390200Z",
     "iopub.status.busy": "2022-02-11T19:58:26.389460Z",
     "iopub.status.idle": "2022-02-11T19:58:26.464635Z",
     "shell.execute_reply": "2022-02-11T19:58:26.464152Z"
    }
   },
   "outputs": [],
   "source": [
    "for ic_ in [[0, 1, 2], [0, 1, 2, 0], [0, 1, 2, 2, 1, 0, 1, 2, 3]]\n",
    "\n",
    "    println(\"-\"^99)\n",
    "\n",
    "    println(ic_)\n",
    "\n",
    "    println(OnePiece.informatics.tensor.make_increasing_by_stepping_up!(copy(ic_)))\n",
    "\n",
    "    println(OnePiece.informatics.tensor.make_increasing_by_stepping_down!(copy(ic_)))\n",
    "\n",
    "end"
   ]
  },
  {
   "cell_type": "markdown",
   "id": "3f396855",
   "metadata": {},
   "source": [
    "---"
   ]
  },
  {
   "cell_type": "code",
   "execution_count": null,
   "id": "b4af2023",
   "metadata": {
    "execution": {
     "iopub.execute_input": "2022-02-11T19:58:26.466826Z",
     "iopub.status.busy": "2022-02-11T19:58:26.466251Z",
     "iopub.status.idle": "2022-02-11T19:58:26.468594Z",
     "shell.execute_reply": "2022-02-11T19:58:26.468162Z"
    }
   },
   "outputs": [],
   "source": [
    "if isdir(TE)\n",
    "\n",
    "    rm(TE, recursive = true)\n",
    "\n",
    "    println(\"Removed \", TE, \".\")\n",
    "\n",
    "end"
   ]
  }
 ],
 "metadata": {
  "kernelspec": {
   "display_name": "Julia 1.7.2",
   "language": "julia",
   "name": "julia-1.7"
  },
  "language_info": {
   "file_extension": ".jl",
   "mimetype": "application/julia",
   "name": "julia",
   "version": "1.7.2"
  }
 },
 "nbformat": 4,
 "nbformat_minor": 5
}
