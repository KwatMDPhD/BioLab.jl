{
 "cells": [
  {
   "cell_type": "code",
   "execution_count": null,
   "id": "017464da",
   "metadata": {
    "execution": {
     "iopub.execute_input": "2022-02-14T02:53:58.566229Z",
     "iopub.status.busy": "2022-02-14T02:53:58.172111Z",
     "iopub.status.idle": "2022-02-14T02:53:58.783843Z",
     "shell.execute_reply": "2022-02-14T02:53:58.783237Z"
    }
   },
   "outputs": [],
   "source": [
    "TE = joinpath(tempdir(), \"OnePiece.test\")\n",
    "\n",
    "if isdir(TE)\n",
    "\n",
    "    rm(TE, recursive = true)\n",
    "\n",
    "    println(\"Removed \", TE, \".\")\n",
    "\n",
    "end\n",
    "\n",
    "mkdir(TE)\n",
    "\n",
    "println(\"Made \", TE, \".\")"
   ]
  },
  {
   "cell_type": "code",
   "execution_count": null,
   "id": "34e4701e",
   "metadata": {
    "execution": {
     "iopub.execute_input": "2022-02-14T02:53:58.785804Z",
     "iopub.status.busy": "2022-02-14T02:53:58.785214Z",
     "iopub.status.idle": "2022-02-14T02:54:03.479210Z",
     "shell.execute_reply": "2022-02-14T02:54:03.478669Z"
    }
   },
   "outputs": [],
   "source": [
    "using OnePiece"
   ]
  },
  {
   "cell_type": "markdown",
   "id": "b92a3da9",
   "metadata": {},
   "source": [
    "---"
   ]
  },
  {
   "cell_type": "markdown",
   "id": "4b17626c",
   "metadata": {},
   "source": [
    "## get_extreme"
   ]
  },
  {
   "cell_type": "code",
   "execution_count": null,
   "id": "4192b171",
   "metadata": {
    "execution": {
     "iopub.execute_input": "2022-02-14T02:54:03.830753Z",
     "iopub.status.busy": "2022-02-14T02:54:03.480753Z",
     "iopub.status.idle": "2022-02-14T02:54:03.884695Z",
     "shell.execute_reply": "2022-02-14T02:54:03.884174Z"
    }
   },
   "outputs": [],
   "source": [
    "ve = [-1, 0, 0, 1, 2]\n",
    "\n",
    ";"
   ]
  },
  {
   "cell_type": "code",
   "execution_count": null,
   "id": "5c64232e",
   "metadata": {
    "execution": {
     "iopub.execute_input": "2022-02-14T02:54:03.886665Z",
     "iopub.status.busy": "2022-02-14T02:54:03.886025Z",
     "iopub.status.idle": "2022-02-14T02:54:04.315151Z",
     "shell.execute_reply": "2022-02-14T02:54:04.314684Z"
    }
   },
   "outputs": [],
   "source": [
    "OnePiece.informatics.tensor.get_extreme(ve)"
   ]
  },
  {
   "cell_type": "code",
   "execution_count": null,
   "id": "1a6cdf3f",
   "metadata": {
    "execution": {
     "iopub.execute_input": "2022-02-14T02:54:04.317065Z",
     "iopub.status.busy": "2022-02-14T02:54:04.316464Z",
     "iopub.status.idle": "2022-02-14T02:54:04.327546Z",
     "shell.execute_reply": "2022-02-14T02:54:04.327086Z"
    }
   },
   "outputs": [],
   "source": [
    "OnePiece.informatics.tensor.get_extreme([-maximum(ve), ve...])"
   ]
  },
  {
   "cell_type": "markdown",
   "id": "83f148a8",
   "metadata": {},
   "source": [
    "## get_area"
   ]
  },
  {
   "cell_type": "code",
   "execution_count": null,
   "id": "178ec379",
   "metadata": {
    "execution": {
     "iopub.execute_input": "2022-02-14T02:54:04.329552Z",
     "iopub.status.busy": "2022-02-14T02:54:04.328899Z",
     "iopub.status.idle": "2022-02-14T02:54:04.543267Z",
     "shell.execute_reply": "2022-02-14T02:54:04.542808Z"
    }
   },
   "outputs": [],
   "source": [
    "OnePiece.informatics.tensor.get_area([-1, 0, 1, 2])"
   ]
  },
  {
   "cell_type": "code",
   "execution_count": null,
   "id": "0b0a6acf",
   "metadata": {
    "execution": {
     "iopub.execute_input": "2022-02-14T02:54:04.545323Z",
     "iopub.status.busy": "2022-02-14T02:54:04.544577Z",
     "iopub.status.idle": "2022-02-14T02:54:04.547087Z",
     "shell.execute_reply": "2022-02-14T02:54:04.545923Z"
    }
   },
   "outputs": [],
   "source": [
    "OnePiece.informatics.tensor.get_area([-2, -1, 0, 0, 1, 2])"
   ]
  },
  {
   "cell_type": "markdown",
   "id": "db2118bf",
   "metadata": {},
   "source": [
    "## sum_where"
   ]
  },
  {
   "cell_type": "code",
   "execution_count": null,
   "id": "b00841ce",
   "metadata": {
    "execution": {
     "iopub.execute_input": "2022-02-14T02:54:04.549011Z",
     "iopub.status.busy": "2022-02-14T02:54:04.548422Z",
     "iopub.status.idle": "2022-02-14T02:54:04.566403Z",
     "shell.execute_reply": "2022-02-14T02:54:04.565946Z"
    }
   },
   "outputs": [],
   "source": [
    "OnePiece.informatics.tensor.sum_where([0, 1, 2, 3], [0, 1, 0, 1])"
   ]
  },
  {
   "cell_type": "markdown",
   "id": "2261bb12",
   "metadata": {},
   "source": [
    "## shift_minimum"
   ]
  },
  {
   "cell_type": "code",
   "execution_count": null,
   "id": "099a44b4",
   "metadata": {
    "execution": {
     "iopub.execute_input": "2022-02-14T02:54:04.568392Z",
     "iopub.status.busy": "2022-02-14T02:54:04.567799Z",
     "iopub.status.idle": "2022-02-14T02:54:04.576273Z",
     "shell.execute_reply": "2022-02-14T02:54:04.575672Z"
    }
   },
   "outputs": [],
   "source": [
    "ve = collect(-3:3)\n",
    "\n",
    ";"
   ]
  },
  {
   "cell_type": "code",
   "execution_count": null,
   "id": "9192de99",
   "metadata": {
    "execution": {
     "iopub.execute_input": "2022-02-14T02:54:04.578173Z",
     "iopub.status.busy": "2022-02-14T02:54:04.577587Z",
     "iopub.status.idle": "2022-02-14T02:54:04.773798Z",
     "shell.execute_reply": "2022-02-14T02:54:04.773356Z"
    }
   },
   "outputs": [],
   "source": [
    "for nu in ve\n",
    "\n",
    "    println(OnePiece.informatics.tensor.shift_minimum(ve, nu))\n",
    "\n",
    "end"
   ]
  },
  {
   "cell_type": "code",
   "execution_count": null,
   "id": "d72022be",
   "metadata": {
    "execution": {
     "iopub.execute_input": "2022-02-14T02:54:04.775709Z",
     "iopub.status.busy": "2022-02-14T02:54:04.775122Z",
     "iopub.status.idle": "2022-02-14T02:54:05.859570Z",
     "shell.execute_reply": "2022-02-14T02:54:05.859110Z"
    }
   },
   "outputs": [],
   "source": [
    "OnePiece.informatics.tensor.shift_minimum(ve, \"0<\")"
   ]
  },
  {
   "cell_type": "markdown",
   "id": "72451b86-b0f1-4adb-a304-4683ae46a94d",
   "metadata": {},
   "source": [
    "## cumulate_sum_reverse"
   ]
  },
  {
   "cell_type": "code",
   "execution_count": null,
   "id": "10a4d6f0-cfcc-4655-9aaa-9118fb5f77b5",
   "metadata": {
    "execution": {
     "iopub.execute_input": "2022-02-14T02:54:05.861590Z",
     "iopub.status.busy": "2022-02-14T02:54:05.860994Z",
     "iopub.status.idle": "2022-02-14T02:54:05.920195Z",
     "shell.execute_reply": "2022-02-14T02:54:05.919736Z"
    }
   },
   "outputs": [],
   "source": [
    "OnePiece.informatics.tensor.cumulate_sum_reverse(1:10)"
   ]
  },
  {
   "cell_type": "markdown",
   "id": "b4533356",
   "metadata": {},
   "source": [
    "## make_increasing_by_stepping_up!"
   ]
  },
  {
   "cell_type": "markdown",
   "id": "016b6206",
   "metadata": {},
   "source": [
    "## make_increasing_by_stepping_down!"
   ]
  },
  {
   "cell_type": "code",
   "execution_count": null,
   "id": "9e9bcd5b",
   "metadata": {
    "execution": {
     "iopub.execute_input": "2022-02-14T02:54:05.922245Z",
     "iopub.status.busy": "2022-02-14T02:54:05.921658Z",
     "iopub.status.idle": "2022-02-14T02:54:05.998126Z",
     "shell.execute_reply": "2022-02-14T02:54:05.997673Z"
    }
   },
   "outputs": [],
   "source": [
    "for ic_ in [[0, 1, 2], [0, 1, 2, 0], [0, 1, 2, 2, 1, 0, 1, 2, 3]]\n",
    "\n",
    "    println(\"-\"^99)\n",
    "\n",
    "    println(ic_)\n",
    "\n",
    "    println(OnePiece.informatics.tensor.make_increasing_by_stepping_up!(copy(ic_)))\n",
    "\n",
    "    println(OnePiece.informatics.tensor.make_increasing_by_stepping_down!(copy(ic_)))\n",
    "\n",
    "end"
   ]
  },
  {
   "cell_type": "markdown",
   "id": "3f396855",
   "metadata": {},
   "source": [
    "---"
   ]
  },
  {
   "cell_type": "code",
   "execution_count": null,
   "id": "b4af2023",
   "metadata": {
    "execution": {
     "iopub.execute_input": "2022-02-14T02:54:06.000182Z",
     "iopub.status.busy": "2022-02-14T02:54:05.999537Z",
     "iopub.status.idle": "2022-02-14T02:54:06.002214Z",
     "shell.execute_reply": "2022-02-14T02:54:06.001792Z"
    }
   },
   "outputs": [],
   "source": [
    "if isdir(TE)\n",
    "\n",
    "    rm(TE, recursive = true)\n",
    "\n",
    "    println(\"Removed \", TE, \".\")\n",
    "\n",
    "end"
   ]
  }
 ],
 "metadata": {
  "kernelspec": {
   "display_name": "Julia 1.7.2",
   "language": "julia",
   "name": "julia-1.7"
  },
  "language_info": {
   "file_extension": ".jl",
   "mimetype": "application/julia",
   "name": "julia",
   "version": "1.7.2"
  }
 },
 "nbformat": 4,
 "nbformat_minor": 5
}
