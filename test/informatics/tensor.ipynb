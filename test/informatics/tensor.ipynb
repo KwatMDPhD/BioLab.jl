{
 "cells": [
  {
   "cell_type": "code",
   "execution_count": null,
   "id": "017464da",
   "metadata": {
    "execution": {
     "iopub.execute_input": "2022-02-13T22:23:54.794716Z",
     "iopub.status.busy": "2022-02-13T22:23:54.434993Z",
     "iopub.status.idle": "2022-02-13T22:23:54.997136Z",
     "shell.execute_reply": "2022-02-13T22:23:54.996618Z"
    }
   },
   "outputs": [],
   "source": [
    "TE = joinpath(tempdir(), \"OnePiece.test\")\n",
    "\n",
    "if isdir(TE)\n",
    "\n",
    "    rm(TE, recursive = true)\n",
    "\n",
    "    println(\"Removed \", TE, \".\")\n",
    "\n",
    "end\n",
    "\n",
    "mkdir(TE)\n",
    "\n",
    "println(\"Made \", TE, \".\")"
   ]
  },
  {
   "cell_type": "code",
   "execution_count": null,
   "id": "34e4701e",
   "metadata": {
    "execution": {
     "iopub.execute_input": "2022-02-13T22:23:55.000196Z",
     "iopub.status.busy": "2022-02-13T22:23:54.999168Z",
     "iopub.status.idle": "2022-02-13T22:23:59.370608Z",
     "shell.execute_reply": "2022-02-13T22:23:59.370153Z"
    }
   },
   "outputs": [],
   "source": [
    "using OnePiece"
   ]
  },
  {
   "cell_type": "markdown",
   "id": "b92a3da9",
   "metadata": {},
   "source": [
    "---"
   ]
  },
  {
   "cell_type": "markdown",
   "id": "4b17626c",
   "metadata": {},
   "source": [
    "## get_extreme"
   ]
  },
  {
   "cell_type": "code",
   "execution_count": null,
   "id": "4192b171",
   "metadata": {
    "execution": {
     "iopub.execute_input": "2022-02-13T22:23:59.701366Z",
     "iopub.status.busy": "2022-02-13T22:23:59.372081Z",
     "iopub.status.idle": "2022-02-13T22:23:59.751364Z",
     "shell.execute_reply": "2022-02-13T22:23:59.750925Z"
    }
   },
   "outputs": [],
   "source": [
    "ve = [-1, 0, 0, 1, 2]\n",
    "\n",
    ";"
   ]
  },
  {
   "cell_type": "code",
   "execution_count": null,
   "id": "5c64232e",
   "metadata": {
    "execution": {
     "iopub.execute_input": "2022-02-13T22:23:59.753467Z",
     "iopub.status.busy": "2022-02-13T22:23:59.752975Z",
     "iopub.status.idle": "2022-02-13T22:24:00.151771Z",
     "shell.execute_reply": "2022-02-13T22:24:00.151385Z"
    }
   },
   "outputs": [],
   "source": [
    "OnePiece.informatics.tensor.get_extreme(ve)"
   ]
  },
  {
   "cell_type": "code",
   "execution_count": null,
   "id": "1a6cdf3f",
   "metadata": {
    "execution": {
     "iopub.execute_input": "2022-02-13T22:24:00.153918Z",
     "iopub.status.busy": "2022-02-13T22:24:00.153421Z",
     "iopub.status.idle": "2022-02-13T22:24:00.164458Z",
     "shell.execute_reply": "2022-02-13T22:24:00.164068Z"
    }
   },
   "outputs": [],
   "source": [
    "OnePiece.informatics.tensor.get_extreme([-maximum(ve), ve...])"
   ]
  },
  {
   "cell_type": "markdown",
   "id": "83f148a8",
   "metadata": {},
   "source": [
    "## get_area"
   ]
  },
  {
   "cell_type": "code",
   "execution_count": null,
   "id": "178ec379",
   "metadata": {
    "execution": {
     "iopub.execute_input": "2022-02-13T22:24:00.166399Z",
     "iopub.status.busy": "2022-02-13T22:24:00.165902Z",
     "iopub.status.idle": "2022-02-13T22:24:00.365428Z",
     "shell.execute_reply": "2022-02-13T22:24:00.365044Z"
    }
   },
   "outputs": [],
   "source": [
    "OnePiece.informatics.tensor.get_area([-1, 0, 1, 2])"
   ]
  },
  {
   "cell_type": "code",
   "execution_count": null,
   "id": "0b0a6acf",
   "metadata": {
    "execution": {
     "iopub.execute_input": "2022-02-13T22:24:00.367439Z",
     "iopub.status.busy": "2022-02-13T22:24:00.366739Z",
     "iopub.status.idle": "2022-02-13T22:24:00.369057Z",
     "shell.execute_reply": "2022-02-13T22:24:00.368678Z"
    }
   },
   "outputs": [],
   "source": [
    "OnePiece.informatics.tensor.get_area([-2, -1, 0, 0, 1, 2])"
   ]
  },
  {
   "cell_type": "markdown",
   "id": "db2118bf",
   "metadata": {},
   "source": [
    "## sum_where"
   ]
  },
  {
   "cell_type": "code",
   "execution_count": null,
   "id": "b00841ce",
   "metadata": {
    "execution": {
     "iopub.execute_input": "2022-02-13T22:24:00.371100Z",
     "iopub.status.busy": "2022-02-13T22:24:00.370482Z",
     "iopub.status.idle": "2022-02-13T22:24:00.386645Z",
     "shell.execute_reply": "2022-02-13T22:24:00.386262Z"
    }
   },
   "outputs": [],
   "source": [
    "OnePiece.informatics.tensor.sum_where([0, 1, 2, 3], [0, 1, 0, 1])"
   ]
  },
  {
   "cell_type": "markdown",
   "id": "2261bb12",
   "metadata": {},
   "source": [
    "## shift_minimum"
   ]
  },
  {
   "cell_type": "code",
   "execution_count": null,
   "id": "099a44b4",
   "metadata": {
    "execution": {
     "iopub.execute_input": "2022-02-13T22:24:00.388470Z",
     "iopub.status.busy": "2022-02-13T22:24:00.387977Z",
     "iopub.status.idle": "2022-02-13T22:24:00.396361Z",
     "shell.execute_reply": "2022-02-13T22:24:00.395907Z"
    }
   },
   "outputs": [],
   "source": [
    "ve = collect(-3:3)\n",
    "\n",
    ";"
   ]
  },
  {
   "cell_type": "code",
   "execution_count": null,
   "id": "9192de99",
   "metadata": {
    "execution": {
     "iopub.execute_input": "2022-02-13T22:24:00.398338Z",
     "iopub.status.busy": "2022-02-13T22:24:00.397845Z",
     "iopub.status.idle": "2022-02-13T22:24:00.592314Z",
     "shell.execute_reply": "2022-02-13T22:24:00.591953Z"
    }
   },
   "outputs": [],
   "source": [
    "for nu in ve\n",
    "\n",
    "    println(OnePiece.informatics.tensor.shift_minimum(ve, nu))\n",
    "\n",
    "end"
   ]
  },
  {
   "cell_type": "code",
   "execution_count": null,
   "id": "d72022be",
   "metadata": {
    "execution": {
     "iopub.execute_input": "2022-02-13T22:24:00.596013Z",
     "iopub.status.busy": "2022-02-13T22:24:00.594786Z",
     "iopub.status.idle": "2022-02-13T22:24:01.604074Z",
     "shell.execute_reply": "2022-02-13T22:24:01.603693Z"
    }
   },
   "outputs": [],
   "source": [
    "OnePiece.informatics.tensor.shift_minimum(ve, \"0<\")"
   ]
  },
  {
   "cell_type": "markdown",
   "id": "72451b86-b0f1-4adb-a304-4683ae46a94d",
   "metadata": {},
   "source": [
    "## cumulate_sum_reverse"
   ]
  },
  {
   "cell_type": "code",
   "execution_count": null,
   "id": "10a4d6f0-cfcc-4655-9aaa-9118fb5f77b5",
   "metadata": {
    "execution": {
     "iopub.execute_input": "2022-02-13T22:24:01.606107Z",
     "iopub.status.busy": "2022-02-13T22:24:01.605603Z",
     "iopub.status.idle": "2022-02-13T22:24:01.666490Z",
     "shell.execute_reply": "2022-02-13T22:24:01.666108Z"
    }
   },
   "outputs": [],
   "source": [
    "OnePiece.informatics.tensor.cumulate_sum_reverse(1:10)"
   ]
  },
  {
   "cell_type": "markdown",
   "id": "b4533356",
   "metadata": {},
   "source": [
    "## make_increasing_by_stepping_up!"
   ]
  },
  {
   "cell_type": "markdown",
   "id": "016b6206",
   "metadata": {},
   "source": [
    "## make_increasing_by_stepping_down!"
   ]
  },
  {
   "cell_type": "code",
   "execution_count": null,
   "id": "9e9bcd5b",
   "metadata": {
    "execution": {
     "iopub.execute_input": "2022-02-13T22:24:01.668377Z",
     "iopub.status.busy": "2022-02-13T22:24:01.667884Z",
     "iopub.status.idle": "2022-02-13T22:24:01.737444Z",
     "shell.execute_reply": "2022-02-13T22:24:01.737067Z"
    }
   },
   "outputs": [],
   "source": [
    "for ic_ in [[0, 1, 2], [0, 1, 2, 0], [0, 1, 2, 2, 1, 0, 1, 2, 3]]\n",
    "\n",
    "    println(\"-\"^99)\n",
    "\n",
    "    println(ic_)\n",
    "\n",
    "    println(OnePiece.informatics.tensor.make_increasing_by_stepping_up!(copy(ic_)))\n",
    "\n",
    "    println(OnePiece.informatics.tensor.make_increasing_by_stepping_down!(copy(ic_)))\n",
    "\n",
    "end"
   ]
  },
  {
   "cell_type": "markdown",
   "id": "3f396855",
   "metadata": {},
   "source": [
    "---"
   ]
  },
  {
   "cell_type": "code",
   "execution_count": null,
   "id": "b4af2023",
   "metadata": {
    "execution": {
     "iopub.execute_input": "2022-02-13T22:24:01.739460Z",
     "iopub.status.busy": "2022-02-13T22:24:01.738863Z",
     "iopub.status.idle": "2022-02-13T22:24:01.741251Z",
     "shell.execute_reply": "2022-02-13T22:24:01.740882Z"
    }
   },
   "outputs": [],
   "source": [
    "if isdir(TE)\n",
    "\n",
    "    rm(TE, recursive = true)\n",
    "\n",
    "    println(\"Removed \", TE, \".\")\n",
    "\n",
    "end"
   ]
  }
 ],
 "metadata": {
  "kernelspec": {
   "display_name": "Julia 1.7.2",
   "language": "julia",
   "name": "julia-1.7"
  },
  "language_info": {
   "file_extension": ".jl",
   "mimetype": "application/julia",
   "name": "julia",
   "version": "1.7.2"
  }
 },
 "nbformat": 4,
 "nbformat_minor": 5
}
