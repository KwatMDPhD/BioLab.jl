{
 "cells": [
  {
   "cell_type": "code",
   "execution_count": null,
   "id": "017464da",
   "metadata": {
    "execution": {
     "iopub.execute_input": "2022-02-11T08:11:54.430742Z",
     "iopub.status.busy": "2022-02-11T08:11:54.037072Z",
     "iopub.status.idle": "2022-02-11T08:11:54.640343Z",
     "shell.execute_reply": "2022-02-11T08:11:54.639771Z"
    }
   },
   "outputs": [],
   "source": [
    "TE = joinpath(tempdir(), \"OnePiece.test\")\n",
    "\n",
    "if isdir(TE)\n",
    "\n",
    "    rm(TE; recursive = true)\n",
    "\n",
    "    println(\"Removed \", TE, \".\")\n",
    "\n",
    "end\n",
    "\n",
    "mkdir(TE)\n",
    "\n",
    "println(\"Made \", TE, \".\")"
   ]
  },
  {
   "cell_type": "code",
   "execution_count": null,
   "id": "34e4701e",
   "metadata": {
    "execution": {
     "iopub.execute_input": "2022-02-11T08:11:54.642307Z",
     "iopub.status.busy": "2022-02-11T08:11:54.641725Z",
     "iopub.status.idle": "2022-02-11T08:11:58.832472Z",
     "shell.execute_reply": "2022-02-11T08:11:58.831904Z"
    }
   },
   "outputs": [],
   "source": [
    "using OnePiece"
   ]
  },
  {
   "cell_type": "markdown",
   "id": "b92a3da9",
   "metadata": {},
   "source": [
    "---"
   ]
  },
  {
   "cell_type": "markdown",
   "id": "4b17626c",
   "metadata": {},
   "source": [
    "## get_extreme"
   ]
  },
  {
   "cell_type": "code",
   "execution_count": null,
   "id": "4192b171",
   "metadata": {
    "execution": {
     "iopub.execute_input": "2022-02-11T08:11:59.175762Z",
     "iopub.status.busy": "2022-02-11T08:11:58.833912Z",
     "iopub.status.idle": "2022-02-11T08:11:59.226974Z",
     "shell.execute_reply": "2022-02-11T08:11:59.226443Z"
    }
   },
   "outputs": [],
   "source": [
    "ve = [-1, 0, 0, 1, 2]\n",
    "\n",
    ";"
   ]
  },
  {
   "cell_type": "code",
   "execution_count": null,
   "id": "5c64232e",
   "metadata": {
    "execution": {
     "iopub.execute_input": "2022-02-11T08:11:59.229022Z",
     "iopub.status.busy": "2022-02-11T08:11:59.228447Z",
     "iopub.status.idle": "2022-02-11T08:11:59.609495Z",
     "shell.execute_reply": "2022-02-11T08:11:59.609102Z"
    }
   },
   "outputs": [],
   "source": [
    "OnePiece.informatics.tensor.get_extreme(ve)"
   ]
  },
  {
   "cell_type": "code",
   "execution_count": null,
   "id": "1a6cdf3f",
   "metadata": {
    "execution": {
     "iopub.execute_input": "2022-02-11T08:11:59.611600Z",
     "iopub.status.busy": "2022-02-11T08:11:59.610956Z",
     "iopub.status.idle": "2022-02-11T08:11:59.621032Z",
     "shell.execute_reply": "2022-02-11T08:11:59.620624Z"
    }
   },
   "outputs": [],
   "source": [
    "OnePiece.informatics.tensor.get_extreme([-maximum(ve), ve...])"
   ]
  },
  {
   "cell_type": "markdown",
   "id": "83f148a8",
   "metadata": {},
   "source": [
    "## get_area"
   ]
  },
  {
   "cell_type": "code",
   "execution_count": null,
   "id": "178ec379",
   "metadata": {
    "execution": {
     "iopub.execute_input": "2022-02-11T08:11:59.623026Z",
     "iopub.status.busy": "2022-02-11T08:11:59.622487Z",
     "iopub.status.idle": "2022-02-11T08:11:59.806161Z",
     "shell.execute_reply": "2022-02-11T08:11:59.805714Z"
    }
   },
   "outputs": [],
   "source": [
    "OnePiece.informatics.tensor.get_area([-1, 0, 1, 2])"
   ]
  },
  {
   "cell_type": "code",
   "execution_count": null,
   "id": "0b0a6acf",
   "metadata": {
    "execution": {
     "iopub.execute_input": "2022-02-11T08:11:59.808528Z",
     "iopub.status.busy": "2022-02-11T08:11:59.807524Z",
     "iopub.status.idle": "2022-02-11T08:11:59.810102Z",
     "shell.execute_reply": "2022-02-11T08:11:59.809076Z"
    }
   },
   "outputs": [],
   "source": [
    "OnePiece.informatics.tensor.get_area([-2, -1, 0, 0, 1, 2])"
   ]
  },
  {
   "cell_type": "markdown",
   "id": "db2118bf",
   "metadata": {},
   "source": [
    "## sum_where"
   ]
  },
  {
   "cell_type": "code",
   "execution_count": null,
   "id": "b00841ce",
   "metadata": {
    "execution": {
     "iopub.execute_input": "2022-02-11T08:11:59.812147Z",
     "iopub.status.busy": "2022-02-11T08:11:59.811605Z",
     "iopub.status.idle": "2022-02-11T08:11:59.827440Z",
     "shell.execute_reply": "2022-02-11T08:11:59.827059Z"
    }
   },
   "outputs": [],
   "source": [
    "OnePiece.informatics.tensor.sum_where([0, 1, 2, 3], [0, 1, 0, 1])"
   ]
  },
  {
   "cell_type": "markdown",
   "id": "2261bb12",
   "metadata": {},
   "source": [
    "## shift_minimum"
   ]
  },
  {
   "cell_type": "code",
   "execution_count": null,
   "id": "099a44b4",
   "metadata": {
    "execution": {
     "iopub.execute_input": "2022-02-11T08:11:59.829496Z",
     "iopub.status.busy": "2022-02-11T08:11:59.828945Z",
     "iopub.status.idle": "2022-02-11T08:11:59.836477Z",
     "shell.execute_reply": "2022-02-11T08:11:59.835915Z"
    }
   },
   "outputs": [],
   "source": [
    "ve = collect(-3:3)\n",
    "\n",
    ";"
   ]
  },
  {
   "cell_type": "code",
   "execution_count": null,
   "id": "9192de99",
   "metadata": {
    "execution": {
     "iopub.execute_input": "2022-02-11T08:11:59.838504Z",
     "iopub.status.busy": "2022-02-11T08:11:59.837891Z",
     "iopub.status.idle": "2022-02-11T08:11:59.999398Z",
     "shell.execute_reply": "2022-02-11T08:11:59.998954Z"
    }
   },
   "outputs": [],
   "source": [
    "for nu in ve\n",
    "\n",
    "    println(OnePiece.informatics.tensor.shift_minimum(ve, nu))\n",
    "\n",
    "end"
   ]
  },
  {
   "cell_type": "code",
   "execution_count": null,
   "id": "d72022be",
   "metadata": {
    "execution": {
     "iopub.execute_input": "2022-02-11T08:12:00.001700Z",
     "iopub.status.busy": "2022-02-11T08:12:00.000857Z",
     "iopub.status.idle": "2022-02-11T08:12:00.964701Z",
     "shell.execute_reply": "2022-02-11T08:12:00.964318Z"
    }
   },
   "outputs": [],
   "source": [
    "OnePiece.informatics.tensor.shift_minimum(ve, \"0<\")"
   ]
  },
  {
   "cell_type": "markdown",
   "id": "72451b86-b0f1-4adb-a304-4683ae46a94d",
   "metadata": {},
   "source": [
    "## cumulate_sum_reverse"
   ]
  },
  {
   "cell_type": "code",
   "execution_count": null,
   "id": "10a4d6f0-cfcc-4655-9aaa-9118fb5f77b5",
   "metadata": {
    "execution": {
     "iopub.execute_input": "2022-02-11T08:12:00.966824Z",
     "iopub.status.busy": "2022-02-11T08:12:00.966326Z",
     "iopub.status.idle": "2022-02-11T08:12:01.011087Z",
     "shell.execute_reply": "2022-02-11T08:12:01.010640Z"
    }
   },
   "outputs": [],
   "source": [
    "OnePiece.informatics.tensor.cumulate_sum_reverse(1:10)"
   ]
  },
  {
   "cell_type": "markdown",
   "id": "b4533356",
   "metadata": {},
   "source": [
    "## make_increasing_by_stepping_up!"
   ]
  },
  {
   "cell_type": "markdown",
   "id": "016b6206",
   "metadata": {},
   "source": [
    "## make_increasing_by_stepping_down!"
   ]
  },
  {
   "cell_type": "code",
   "execution_count": null,
   "id": "9e9bcd5b",
   "metadata": {
    "execution": {
     "iopub.execute_input": "2022-02-11T08:12:01.013154Z",
     "iopub.status.busy": "2022-02-11T08:12:01.012571Z",
     "iopub.status.idle": "2022-02-11T08:12:01.083175Z",
     "shell.execute_reply": "2022-02-11T08:12:01.082693Z"
    }
   },
   "outputs": [],
   "source": [
    "for ic_ in [[0, 1, 2], [0, 1, 2, 0], [0, 1, 2, 2, 1, 0, 1, 2, 3]]\n",
    "\n",
    "    println(\"-\"^99)\n",
    "\n",
    "    println(ic_)\n",
    "\n",
    "    println(OnePiece.informatics.tensor.make_increasing_by_stepping_up!(copy(ic_)))\n",
    "\n",
    "    println(OnePiece.informatics.tensor.make_increasing_by_stepping_down!(copy(ic_)))\n",
    "\n",
    "end"
   ]
  },
  {
   "cell_type": "markdown",
   "id": "3f396855",
   "metadata": {},
   "source": [
    "---"
   ]
  },
  {
   "cell_type": "code",
   "execution_count": null,
   "id": "b4af2023",
   "metadata": {
    "execution": {
     "iopub.execute_input": "2022-02-11T08:12:01.085334Z",
     "iopub.status.busy": "2022-02-11T08:12:01.084651Z",
     "iopub.status.idle": "2022-02-11T08:12:01.089023Z",
     "shell.execute_reply": "2022-02-11T08:12:01.088667Z"
    }
   },
   "outputs": [],
   "source": [
    "if isdir(TE)\n",
    "\n",
    "    rm(TE; recursive = true)\n",
    "\n",
    "    println(\"Removed \", TE, \".\")\n",
    "\n",
    "end"
   ]
  }
 ],
 "metadata": {
  "kernelspec": {
   "display_name": "Julia 1.7.2",
   "language": "julia",
   "name": "julia-1.7"
  },
  "language_info": {
   "file_extension": ".jl",
   "mimetype": "application/julia",
   "name": "julia",
   "version": "1.7.2"
  }
 },
 "nbformat": 4,
 "nbformat_minor": 5
}
