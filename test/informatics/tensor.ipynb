{
 "cells": [
  {
   "cell_type": "code",
   "execution_count": 1,
   "id": "34e4701e",
   "metadata": {
    "execution": {
     "iopub.execute_input": "2022-02-10T17:18:16.887452Z",
     "iopub.status.busy": "2022-02-10T17:18:16.503967Z",
     "iopub.status.idle": "2022-02-10T17:18:17.727786Z",
     "shell.execute_reply": "2022-02-10T17:18:17.727197Z"
    }
   },
   "outputs": [],
   "source": [
    "using Revise\n",
    "using BenchmarkTools"
   ]
  },
  {
   "cell_type": "code",
   "execution_count": 2,
   "id": "b3325ba2-989b-48ae-b530-5d0f64147f9a",
   "metadata": {
    "execution": {
     "iopub.execute_input": "2022-02-10T17:18:17.730000Z",
     "iopub.status.busy": "2022-02-10T17:18:17.729371Z",
     "iopub.status.idle": "2022-02-10T17:18:23.118873Z",
     "shell.execute_reply": "2022-02-10T17:18:23.118325Z"
    }
   },
   "outputs": [],
   "source": [
    "using OnePiece"
   ]
  },
  {
   "cell_type": "markdown",
   "id": "4b17626c",
   "metadata": {},
   "source": [
    "## get_extreme"
   ]
  },
  {
   "cell_type": "code",
   "execution_count": 3,
   "id": "4192b171",
   "metadata": {
    "execution": {
     "iopub.execute_input": "2022-02-10T17:18:23.450761Z",
     "iopub.status.busy": "2022-02-10T17:18:23.120159Z",
     "iopub.status.idle": "2022-02-10T17:18:24.478843Z",
     "shell.execute_reply": "2022-02-10T17:18:24.478461Z"
    }
   },
   "outputs": [],
   "source": [
    "ve = [-1, 0, 0, 1, 2]\n",
    "\n",
    ";"
   ]
  },
  {
   "cell_type": "code",
   "execution_count": 4,
   "id": "5c64232e",
   "metadata": {
    "execution": {
     "iopub.execute_input": "2022-02-10T17:18:24.480940Z",
     "iopub.status.busy": "2022-02-10T17:18:24.480287Z",
     "iopub.status.idle": "2022-02-10T17:18:24.886929Z",
     "shell.execute_reply": "2022-02-10T17:18:24.886501Z"
    }
   },
   "outputs": [
    {
     "data": {
      "text/plain": [
       "2"
      ]
     },
     "execution_count": 4,
     "metadata": {},
     "output_type": "execute_result"
    }
   ],
   "source": [
    "OnePiece.informatics.tensor.get_extreme(ve)"
   ]
  },
  {
   "cell_type": "code",
   "execution_count": 5,
   "id": "1a6cdf3f",
   "metadata": {
    "execution": {
     "iopub.execute_input": "2022-02-10T17:18:24.889033Z",
     "iopub.status.busy": "2022-02-10T17:18:24.888316Z",
     "iopub.status.idle": "2022-02-10T17:18:24.925909Z",
     "shell.execute_reply": "2022-02-10T17:18:24.925297Z"
    }
   },
   "outputs": [
    {
     "name": "stdout",
     "output_type": "stream",
     "text": [
      "The minimum and the maximum have the same absolute value.\n"
     ]
    },
    {
     "data": {
      "text/plain": [
       "2"
      ]
     },
     "execution_count": 5,
     "metadata": {},
     "output_type": "execute_result"
    }
   ],
   "source": [
    "OnePiece.informatics.tensor.get_extreme([-maximum(ve), ve...])"
   ]
  },
  {
   "cell_type": "markdown",
   "id": "83f148a8",
   "metadata": {},
   "source": [
    "## get_area"
   ]
  },
  {
   "cell_type": "code",
   "execution_count": 6,
   "id": "178ec379",
   "metadata": {
    "execution": {
     "iopub.execute_input": "2022-02-10T17:18:24.927856Z",
     "iopub.status.busy": "2022-02-10T17:18:24.927305Z",
     "iopub.status.idle": "2022-02-10T17:18:25.157237Z",
     "shell.execute_reply": "2022-02-10T17:18:25.156849Z"
    }
   },
   "outputs": [
    {
     "data": {
      "text/plain": [
       "0.5"
      ]
     },
     "execution_count": 6,
     "metadata": {},
     "output_type": "execute_result"
    }
   ],
   "source": [
    "OnePiece.informatics.tensor.get_area([-1, 0, 1, 2])"
   ]
  },
  {
   "cell_type": "code",
   "execution_count": 7,
   "id": "0b0a6acf",
   "metadata": {
    "execution": {
     "iopub.execute_input": "2022-02-10T17:18:25.159259Z",
     "iopub.status.busy": "2022-02-10T17:18:25.158764Z",
     "iopub.status.idle": "2022-02-10T17:18:25.172226Z",
     "shell.execute_reply": "2022-02-10T17:18:25.171852Z"
    }
   },
   "outputs": [
    {
     "data": {
      "text/plain": [
       "0.0"
      ]
     },
     "execution_count": 7,
     "metadata": {},
     "output_type": "execute_result"
    }
   ],
   "source": [
    "OnePiece.informatics.tensor.get_area([-2, -1, 0, 0, 1, 2])"
   ]
  },
  {
   "cell_type": "markdown",
   "id": "db2118bf",
   "metadata": {},
   "source": [
    "## sum_where"
   ]
  },
  {
   "cell_type": "code",
   "execution_count": 8,
   "id": "b00841ce",
   "metadata": {
    "execution": {
     "iopub.execute_input": "2022-02-10T17:18:25.174181Z",
     "iopub.status.busy": "2022-02-10T17:18:25.173689Z",
     "iopub.status.idle": "2022-02-10T17:18:25.201826Z",
     "shell.execute_reply": "2022-02-10T17:18:25.201339Z"
    }
   },
   "outputs": [
    {
     "data": {
      "text/plain": [
       "4"
      ]
     },
     "execution_count": 8,
     "metadata": {},
     "output_type": "execute_result"
    }
   ],
   "source": [
    "OnePiece.informatics.tensor.sum_where([0, 1, 2, 3], [0, 1, 0, 1])"
   ]
  },
  {
   "cell_type": "markdown",
   "id": "2261bb12",
   "metadata": {},
   "source": [
    "## shift_minimum"
   ]
  },
  {
   "cell_type": "code",
   "execution_count": 9,
   "id": "099a44b4",
   "metadata": {
    "execution": {
     "iopub.execute_input": "2022-02-10T17:18:25.203780Z",
     "iopub.status.busy": "2022-02-10T17:18:25.203129Z",
     "iopub.status.idle": "2022-02-10T17:18:25.224039Z",
     "shell.execute_reply": "2022-02-10T17:18:25.223109Z"
    }
   },
   "outputs": [],
   "source": [
    "ve = collect(-3:3)\n",
    "\n",
    ";"
   ]
  },
  {
   "cell_type": "code",
   "execution_count": 10,
   "id": "9192de99",
   "metadata": {
    "execution": {
     "iopub.execute_input": "2022-02-10T17:18:25.225961Z",
     "iopub.status.busy": "2022-02-10T17:18:25.225328Z",
     "iopub.status.idle": "2022-02-10T17:18:25.405580Z",
     "shell.execute_reply": "2022-02-10T17:18:25.405146Z"
    }
   },
   "outputs": [
    {
     "name": "stdout",
     "output_type": "stream",
     "text": [
      "[-3, -2, -1, 0, 1, 2, 3]\n",
      "[-2, -1, 0, 1, 2, 3, 4]\n",
      "[-1, 0, 1, 2, 3, 4, 5]\n",
      "[0, 1, 2, 3, 4, 5, 6]\n",
      "[1, 2, 3, 4, 5, 6, 7]\n",
      "[2, 3, 4, 5, 6, 7, 8]\n",
      "[3, 4, 5, 6, 7, 8, 9]\n"
     ]
    }
   ],
   "source": [
    "for nu in ve\n",
    "\n",
    "    println(OnePiece.informatics.tensor.shift_minimum(ve, nu))\n",
    "\n",
    "end"
   ]
  },
  {
   "cell_type": "code",
   "execution_count": 11,
   "id": "d72022be",
   "metadata": {
    "execution": {
     "iopub.execute_input": "2022-02-10T17:18:25.407473Z",
     "iopub.status.busy": "2022-02-10T17:18:25.406942Z",
     "iopub.status.idle": "2022-02-10T17:18:26.502882Z",
     "shell.execute_reply": "2022-02-10T17:18:26.501923Z"
    }
   },
   "outputs": [
    {
     "data": {
      "text/plain": [
       "7-element Vector{Int64}:\n",
       " 1\n",
       " 2\n",
       " 3\n",
       " 4\n",
       " 5\n",
       " 6\n",
       " 7"
      ]
     },
     "execution_count": 11,
     "metadata": {},
     "output_type": "execute_result"
    }
   ],
   "source": [
    "OnePiece.informatics.tensor.shift_minimum(ve, \"0<\")"
   ]
  },
  {
   "cell_type": "markdown",
   "id": "72451b86-b0f1-4adb-a304-4683ae46a94d",
   "metadata": {},
   "source": [
    "## cumulate_sum_reverse"
   ]
  },
  {
   "cell_type": "code",
   "execution_count": 12,
   "id": "10a4d6f0-cfcc-4655-9aaa-9118fb5f77b5",
   "metadata": {
    "execution": {
     "iopub.execute_input": "2022-02-10T17:18:26.505252Z",
     "iopub.status.busy": "2022-02-10T17:18:26.504713Z",
     "iopub.status.idle": "2022-02-10T17:18:26.561851Z",
     "shell.execute_reply": "2022-02-10T17:18:26.561453Z"
    }
   },
   "outputs": [
    {
     "data": {
      "text/plain": [
       "10-element Vector{Int64}:\n",
       " 55\n",
       " 54\n",
       " 52\n",
       " 49\n",
       " 45\n",
       " 40\n",
       " 34\n",
       " 27\n",
       " 19\n",
       " 10"
      ]
     },
     "execution_count": 12,
     "metadata": {},
     "output_type": "execute_result"
    }
   ],
   "source": [
    "OnePiece.informatics.tensor.cumulate_sum_reverse(1:10)"
   ]
  },
  {
   "cell_type": "markdown",
   "id": "b4533356",
   "metadata": {},
   "source": [
    "## make_increasing_by_stepping_up!"
   ]
  },
  {
   "cell_type": "markdown",
   "id": "016b6206",
   "metadata": {},
   "source": [
    "## make_increasing_by_stepping_down!"
   ]
  },
  {
   "cell_type": "code",
   "execution_count": 13,
   "id": "9e9bcd5b",
   "metadata": {
    "execution": {
     "iopub.execute_input": "2022-02-10T17:18:26.564061Z",
     "iopub.status.busy": "2022-02-10T17:18:26.563550Z",
     "iopub.status.idle": "2022-02-10T17:18:26.656196Z",
     "shell.execute_reply": "2022-02-10T17:18:26.655834Z"
    }
   },
   "outputs": [
    {
     "name": "stdout",
     "output_type": "stream",
     "text": [
      "---------------------------------------------------------------------------------------------------\n",
      "[0, 1, 2]\n",
      "[0, 1, 2]\n",
      "[0, 1, 2]\n",
      "---------------------------------------------------------------------------------------------------\n",
      "[0, 1, 2, 0]\n",
      "[0, 0, 0, 0]\n",
      "[0, 1, 2, 2]\n",
      "---------------------------------------------------------------------------------------------------\n",
      "[0, 1, 2, 2, 1, 0, 1, 2, 3]\n",
      "[0, 0, 0, 0, 0, 0, 1, 2, 3]\n",
      "[0, 1, 2, 2, 2, 2, 2, 2, 3]\n"
     ]
    }
   ],
   "source": [
    "for ic_ in [[0, 1, 2], [0, 1, 2, 0], [0, 1, 2, 2, 1, 0, 1, 2, 3]]\n",
    "\n",
    "    println(\"-\"^99)\n",
    "\n",
    "    println(ic_)\n",
    "\n",
    "    println(OnePiece.informatics.tensor.make_increasing_by_stepping_up!(copy(ic_)))\n",
    "\n",
    "    println(OnePiece.informatics.tensor.make_increasing_by_stepping_down!(copy(ic_)))\n",
    "\n",
    "end"
   ]
  }
 ],
 "metadata": {
  "@webio": {
   "lastCommId": "a25d527901774348a5de36563682b575",
   "lastKernelId": "29d5a02f-b651-4abc-b9cc-c330c7ea92ab"
  },
  "kernelspec": {
   "display_name": "Julia 1.7.1",
   "language": "julia",
   "name": "julia-1.7"
  },
  "language_info": {
   "file_extension": ".jl",
   "mimetype": "application/julia",
   "name": "julia",
   "version": "1.7.2"
  }
 },
 "nbformat": 4,
 "nbformat_minor": 5
}
