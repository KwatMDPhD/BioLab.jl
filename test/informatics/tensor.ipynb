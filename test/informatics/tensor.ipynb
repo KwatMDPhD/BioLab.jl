{
 "cells": [
  {
   "cell_type": "code",
   "execution_count": null,
   "id": "34e4701e",
   "metadata": {
    "execution": {
     "iopub.execute_input": "2022-02-09T18:54:24.522271Z",
     "iopub.status.busy": "2022-02-09T18:54:24.117263Z",
     "iopub.status.idle": "2022-02-09T18:54:25.448785Z",
     "shell.execute_reply": "2022-02-09T18:54:25.448183Z"
    }
   },
   "outputs": [],
   "source": [
    "using Revise\n",
    "using BenchmarkTools"
   ]
  },
  {
   "cell_type": "code",
   "execution_count": null,
   "id": "b3325ba2-989b-48ae-b530-5d0f64147f9a",
   "metadata": {
    "execution": {
     "iopub.execute_input": "2022-02-09T18:54:25.450810Z",
     "iopub.status.busy": "2022-02-09T18:54:25.450233Z",
     "iopub.status.idle": "2022-02-09T18:54:35.796934Z",
     "shell.execute_reply": "2022-02-09T18:54:35.796311Z"
    }
   },
   "outputs": [],
   "source": [
    "using OnePiece"
   ]
  },
  {
   "cell_type": "markdown",
   "id": "4b17626c",
   "metadata": {},
   "source": [
    "## get_extreme"
   ]
  },
  {
   "cell_type": "code",
   "execution_count": null,
   "id": "4192b171",
   "metadata": {
    "execution": {
     "iopub.execute_input": "2022-02-09T18:54:37.539647Z",
     "iopub.status.busy": "2022-02-09T18:54:35.798379Z",
     "iopub.status.idle": "2022-02-09T18:54:38.291296Z",
     "shell.execute_reply": "2022-02-09T18:54:38.290889Z"
    }
   },
   "outputs": [],
   "source": [
    "ve = [-1, 0, 0, 1, 2]\n",
    "\n",
    ";"
   ]
  },
  {
   "cell_type": "code",
   "execution_count": null,
   "id": "5c64232e",
   "metadata": {
    "execution": {
     "iopub.execute_input": "2022-02-09T18:54:38.293104Z",
     "iopub.status.busy": "2022-02-09T18:54:38.292593Z",
     "iopub.status.idle": "2022-02-09T18:54:38.627808Z",
     "shell.execute_reply": "2022-02-09T18:54:38.627335Z"
    }
   },
   "outputs": [],
   "source": [
    "OnePiece.informatics.tensor.get_extreme(ve)"
   ]
  },
  {
   "cell_type": "code",
   "execution_count": null,
   "id": "1a6cdf3f",
   "metadata": {
    "execution": {
     "iopub.execute_input": "2022-02-09T18:54:38.629868Z",
     "iopub.status.busy": "2022-02-09T18:54:38.629275Z",
     "iopub.status.idle": "2022-02-09T18:54:38.665180Z",
     "shell.execute_reply": "2022-02-09T18:54:38.664502Z"
    }
   },
   "outputs": [],
   "source": [
    "OnePiece.informatics.tensor.get_extreme([-maximum(ve), ve...])"
   ]
  },
  {
   "cell_type": "markdown",
   "id": "83f148a8",
   "metadata": {},
   "source": [
    "## get_area"
   ]
  },
  {
   "cell_type": "code",
   "execution_count": null,
   "id": "178ec379",
   "metadata": {
    "execution": {
     "iopub.execute_input": "2022-02-09T18:54:38.667117Z",
     "iopub.status.busy": "2022-02-09T18:54:38.666571Z",
     "iopub.status.idle": "2022-02-09T18:54:38.902378Z",
     "shell.execute_reply": "2022-02-09T18:54:38.901980Z"
    }
   },
   "outputs": [],
   "source": [
    "OnePiece.informatics.tensor.get_area([-1, 0, 1, 2])"
   ]
  },
  {
   "cell_type": "code",
   "execution_count": null,
   "id": "0b0a6acf",
   "metadata": {
    "execution": {
     "iopub.execute_input": "2022-02-09T18:54:38.905131Z",
     "iopub.status.busy": "2022-02-09T18:54:38.904277Z",
     "iopub.status.idle": "2022-02-09T18:54:38.917430Z",
     "shell.execute_reply": "2022-02-09T18:54:38.916964Z"
    }
   },
   "outputs": [],
   "source": [
    "OnePiece.informatics.tensor.get_area([-2, -1, 0, 0, 1, 2])"
   ]
  },
  {
   "cell_type": "markdown",
   "id": "db2118bf",
   "metadata": {},
   "source": [
    "## sum_where"
   ]
  },
  {
   "cell_type": "code",
   "execution_count": null,
   "id": "b00841ce",
   "metadata": {
    "execution": {
     "iopub.execute_input": "2022-02-09T18:54:38.919342Z",
     "iopub.status.busy": "2022-02-09T18:54:38.918744Z",
     "iopub.status.idle": "2022-02-09T18:54:38.949000Z",
     "shell.execute_reply": "2022-02-09T18:54:38.948555Z"
    }
   },
   "outputs": [],
   "source": [
    "OnePiece.informatics.tensor.sum_where([0, 1, 2, 3], [0, 1, 0, 1])"
   ]
  },
  {
   "cell_type": "markdown",
   "id": "2261bb12",
   "metadata": {},
   "source": [
    "## shift_minimum"
   ]
  },
  {
   "cell_type": "code",
   "execution_count": null,
   "id": "099a44b4",
   "metadata": {
    "execution": {
     "iopub.execute_input": "2022-02-09T18:54:38.950797Z",
     "iopub.status.busy": "2022-02-09T18:54:38.950225Z",
     "iopub.status.idle": "2022-02-09T18:54:38.970221Z",
     "shell.execute_reply": "2022-02-09T18:54:38.969753Z"
    }
   },
   "outputs": [],
   "source": [
    "ve = collect(-3:3)\n",
    "\n",
    ";"
   ]
  },
  {
   "cell_type": "code",
   "execution_count": null,
   "id": "9192de99",
   "metadata": {
    "execution": {
     "iopub.execute_input": "2022-02-09T18:54:38.972024Z",
     "iopub.status.busy": "2022-02-09T18:54:38.971491Z",
     "iopub.status.idle": "2022-02-09T18:54:39.199145Z",
     "shell.execute_reply": "2022-02-09T18:54:39.198693Z"
    }
   },
   "outputs": [],
   "source": [
    "for nu in ve\n",
    "\n",
    "    println(OnePiece.informatics.tensor.shift_minimum(ve, nu))\n",
    "\n",
    "end"
   ]
  },
  {
   "cell_type": "code",
   "execution_count": null,
   "id": "d72022be",
   "metadata": {
    "execution": {
     "iopub.execute_input": "2022-02-09T18:54:39.200828Z",
     "iopub.status.busy": "2022-02-09T18:54:39.200313Z",
     "iopub.status.idle": "2022-02-09T18:54:40.187570Z",
     "shell.execute_reply": "2022-02-09T18:54:40.187100Z"
    }
   },
   "outputs": [],
   "source": [
    "OnePiece.informatics.tensor.shift_minimum(ve, \"0<\")"
   ]
  },
  {
   "cell_type": "markdown",
   "id": "72451b86-b0f1-4adb-a304-4683ae46a94d",
   "metadata": {},
   "source": [
    "## cumulate_sum_reverse"
   ]
  },
  {
   "cell_type": "code",
   "execution_count": null,
   "id": "10a4d6f0-cfcc-4655-9aaa-9118fb5f77b5",
   "metadata": {
    "execution": {
     "iopub.execute_input": "2022-02-09T18:54:40.189582Z",
     "iopub.status.busy": "2022-02-09T18:54:40.188899Z",
     "iopub.status.idle": "2022-02-09T18:54:40.254376Z",
     "shell.execute_reply": "2022-02-09T18:54:40.253911Z"
    }
   },
   "outputs": [],
   "source": [
    "OnePiece.informatics.tensor.cumulate_sum_reverse(1:10)"
   ]
  },
  {
   "cell_type": "markdown",
   "id": "b4533356",
   "metadata": {},
   "source": [
    "## make_increasing_by_stepping_up!"
   ]
  },
  {
   "cell_type": "markdown",
   "id": "016b6206",
   "metadata": {},
   "source": [
    "## make_increasing_by_stepping_down!"
   ]
  },
  {
   "cell_type": "code",
   "execution_count": null,
   "id": "9e9bcd5b",
   "metadata": {
    "execution": {
     "iopub.execute_input": "2022-02-09T18:54:40.256525Z",
     "iopub.status.busy": "2022-02-09T18:54:40.255830Z",
     "iopub.status.idle": "2022-02-09T18:54:40.348111Z",
     "shell.execute_reply": "2022-02-09T18:54:40.347716Z"
    }
   },
   "outputs": [],
   "source": [
    "for ic_ in [[0, 1, 2], [0, 1, 2, 0], [0, 1, 2, 2, 1, 0, 1, 2, 3]]\n",
    "\n",
    "    println(\"-\"^99)\n",
    "\n",
    "    println(ic_)\n",
    "\n",
    "    println(OnePiece.informatics.tensor.make_increasing_by_stepping_up!(copy(ic_)))\n",
    "\n",
    "    println(OnePiece.informatics.tensor.make_increasing_by_stepping_down!(copy(ic_)))\n",
    "\n",
    "end"
   ]
  }
 ],
 "metadata": {
  "@webio": {
   "lastCommId": "a25d527901774348a5de36563682b575",
   "lastKernelId": "29d5a02f-b651-4abc-b9cc-c330c7ea92ab"
  },
  "kernelspec": {
   "display_name": "Julia 1.7.1",
   "language": "julia",
   "name": "julia-1.7"
  },
  "language_info": {
   "file_extension": ".jl",
   "mimetype": "application/julia",
   "name": "julia",
   "version": "1.7.2"
  }
 },
 "nbformat": 4,
 "nbformat_minor": 5
}
