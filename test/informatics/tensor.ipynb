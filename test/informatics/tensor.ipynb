{
 "cells": [
  {
   "cell_type": "code",
   "execution_count": null,
   "id": "34e4701e",
   "metadata": {
    "execution": {
     "iopub.execute_input": "2022-02-09T05:33:02.224316Z",
     "iopub.status.busy": "2022-02-09T05:33:01.792957Z",
     "iopub.status.idle": "2022-02-09T05:33:03.334767Z",
     "shell.execute_reply": "2022-02-09T05:33:03.334072Z"
    }
   },
   "outputs": [],
   "source": [
    "using Revise\n",
    "using BenchmarkTools"
   ]
  },
  {
   "cell_type": "code",
   "execution_count": null,
   "id": "b3325ba2-989b-48ae-b530-5d0f64147f9a",
   "metadata": {
    "execution": {
     "iopub.execute_input": "2022-02-09T05:33:03.336777Z",
     "iopub.status.busy": "2022-02-09T05:33:03.336183Z",
     "iopub.status.idle": "2022-02-09T05:33:15.195055Z",
     "shell.execute_reply": "2022-02-09T05:33:15.194524Z"
    }
   },
   "outputs": [],
   "source": [
    "using OnePiece"
   ]
  },
  {
   "cell_type": "markdown",
   "id": "4b17626c",
   "metadata": {},
   "source": [
    "## get_extreme"
   ]
  },
  {
   "cell_type": "code",
   "execution_count": null,
   "id": "4192b171",
   "metadata": {
    "execution": {
     "iopub.execute_input": "2022-02-09T05:33:17.008908Z",
     "iopub.status.busy": "2022-02-09T05:33:15.197063Z",
     "iopub.status.idle": "2022-02-09T05:33:17.756139Z",
     "shell.execute_reply": "2022-02-09T05:33:17.755618Z"
    }
   },
   "outputs": [],
   "source": [
    "ve = [-1, 0, 0, 1, 2]\n",
    "\n",
    ";"
   ]
  },
  {
   "cell_type": "code",
   "execution_count": null,
   "id": "5c64232e",
   "metadata": {
    "execution": {
     "iopub.execute_input": "2022-02-09T05:33:17.758049Z",
     "iopub.status.busy": "2022-02-09T05:33:17.757404Z",
     "iopub.status.idle": "2022-02-09T05:33:18.120093Z",
     "shell.execute_reply": "2022-02-09T05:33:18.119617Z"
    }
   },
   "outputs": [],
   "source": [
    "OnePiece.informatics.tensor.get_extreme(ve)"
   ]
  },
  {
   "cell_type": "code",
   "execution_count": null,
   "id": "1a6cdf3f",
   "metadata": {
    "execution": {
     "iopub.execute_input": "2022-02-09T05:33:18.121988Z",
     "iopub.status.busy": "2022-02-09T05:33:18.121347Z",
     "iopub.status.idle": "2022-02-09T05:33:18.157713Z",
     "shell.execute_reply": "2022-02-09T05:33:18.157222Z"
    }
   },
   "outputs": [],
   "source": [
    "OnePiece.informatics.tensor.get_extreme([-maximum(ve), ve...])"
   ]
  },
  {
   "cell_type": "markdown",
   "id": "83f148a8",
   "metadata": {},
   "source": [
    "## get_area"
   ]
  },
  {
   "cell_type": "code",
   "execution_count": null,
   "id": "178ec379",
   "metadata": {
    "execution": {
     "iopub.execute_input": "2022-02-09T05:33:18.159844Z",
     "iopub.status.busy": "2022-02-09T05:33:18.159245Z",
     "iopub.status.idle": "2022-02-09T05:33:18.421444Z",
     "shell.execute_reply": "2022-02-09T05:33:18.420980Z"
    }
   },
   "outputs": [],
   "source": [
    "OnePiece.informatics.tensor.get_area([-1, 0, 1, 2])"
   ]
  },
  {
   "cell_type": "code",
   "execution_count": null,
   "id": "0b0a6acf",
   "metadata": {
    "execution": {
     "iopub.execute_input": "2022-02-09T05:33:18.423182Z",
     "iopub.status.busy": "2022-02-09T05:33:18.422607Z",
     "iopub.status.idle": "2022-02-09T05:33:18.436458Z",
     "shell.execute_reply": "2022-02-09T05:33:18.435852Z"
    }
   },
   "outputs": [],
   "source": [
    "OnePiece.informatics.tensor.get_area([-2, -1, 0, 0, 1, 2])"
   ]
  },
  {
   "cell_type": "markdown",
   "id": "db2118bf",
   "metadata": {},
   "source": [
    "## sum_where"
   ]
  },
  {
   "cell_type": "code",
   "execution_count": null,
   "id": "b00841ce",
   "metadata": {
    "execution": {
     "iopub.execute_input": "2022-02-09T05:33:18.438421Z",
     "iopub.status.busy": "2022-02-09T05:33:18.437821Z",
     "iopub.status.idle": "2022-02-09T05:33:18.468593Z",
     "shell.execute_reply": "2022-02-09T05:33:18.468130Z"
    }
   },
   "outputs": [],
   "source": [
    "OnePiece.informatics.tensor.sum_where([0, 1, 2, 3], [0, 1, 0, 1])"
   ]
  },
  {
   "cell_type": "markdown",
   "id": "2261bb12",
   "metadata": {},
   "source": [
    "## shift_minimum"
   ]
  },
  {
   "cell_type": "code",
   "execution_count": null,
   "id": "099a44b4",
   "metadata": {
    "execution": {
     "iopub.execute_input": "2022-02-09T05:33:18.470619Z",
     "iopub.status.busy": "2022-02-09T05:33:18.469997Z",
     "iopub.status.idle": "2022-02-09T05:33:18.490283Z",
     "shell.execute_reply": "2022-02-09T05:33:18.489759Z"
    }
   },
   "outputs": [],
   "source": [
    "ve = collect(-3:3)\n",
    "\n",
    ";"
   ]
  },
  {
   "cell_type": "code",
   "execution_count": null,
   "id": "9192de99",
   "metadata": {
    "execution": {
     "iopub.execute_input": "2022-02-09T05:33:18.492182Z",
     "iopub.status.busy": "2022-02-09T05:33:18.491587Z",
     "iopub.status.idle": "2022-02-09T05:33:18.717168Z",
     "shell.execute_reply": "2022-02-09T05:33:18.716565Z"
    }
   },
   "outputs": [],
   "source": [
    "for nu in ve\n",
    "\n",
    "    println(OnePiece.informatics.tensor.shift_minimum(ve, nu))\n",
    "\n",
    "end"
   ]
  },
  {
   "cell_type": "code",
   "execution_count": null,
   "id": "d72022be",
   "metadata": {
    "execution": {
     "iopub.execute_input": "2022-02-09T05:33:18.719092Z",
     "iopub.status.busy": "2022-02-09T05:33:18.718507Z",
     "iopub.status.idle": "2022-02-09T05:33:19.765095Z",
     "shell.execute_reply": "2022-02-09T05:33:19.764621Z"
    }
   },
   "outputs": [],
   "source": [
    "OnePiece.informatics.tensor.shift_minimum(ve, \"0<\")"
   ]
  },
  {
   "cell_type": "markdown",
   "id": "72451b86-b0f1-4adb-a304-4683ae46a94d",
   "metadata": {},
   "source": [
    "## cumulate_sum_reverse"
   ]
  },
  {
   "cell_type": "code",
   "execution_count": null,
   "id": "10a4d6f0-cfcc-4655-9aaa-9118fb5f77b5",
   "metadata": {
    "execution": {
     "iopub.execute_input": "2022-02-09T05:33:19.767556Z",
     "iopub.status.busy": "2022-02-09T05:33:19.766839Z",
     "iopub.status.idle": "2022-02-09T05:33:19.835483Z",
     "shell.execute_reply": "2022-02-09T05:33:19.835001Z"
    }
   },
   "outputs": [],
   "source": [
    "OnePiece.informatics.tensor.cumulate_sum_reverse(1:10)"
   ]
  },
  {
   "cell_type": "markdown",
   "id": "b4533356",
   "metadata": {},
   "source": [
    "## make_increasing_by_stepping_up!"
   ]
  },
  {
   "cell_type": "markdown",
   "id": "016b6206",
   "metadata": {},
   "source": [
    "## make_increasing_by_stepping_down!"
   ]
  },
  {
   "cell_type": "code",
   "execution_count": null,
   "id": "9e9bcd5b",
   "metadata": {
    "execution": {
     "iopub.execute_input": "2022-02-09T05:33:19.837686Z",
     "iopub.status.busy": "2022-02-09T05:33:19.837051Z",
     "iopub.status.idle": "2022-02-09T05:33:19.933827Z",
     "shell.execute_reply": "2022-02-09T05:33:19.932783Z"
    }
   },
   "outputs": [],
   "source": [
    "for ic_ in [[0, 1, 2], [0, 1, 2, 0], [0, 1, 2, 2, 1, 0, 1, 2, 3]]\n",
    "\n",
    "    println(\"-\"^99)\n",
    "\n",
    "    println(ic_)\n",
    "\n",
    "    println(OnePiece.informatics.tensor.make_increasing_by_stepping_up!(copy(ic_)))\n",
    "\n",
    "    println(OnePiece.informatics.tensor.make_increasing_by_stepping_down!(copy(ic_)))\n",
    "\n",
    "end"
   ]
  }
 ],
 "metadata": {
  "@webio": {
   "lastCommId": "a25d527901774348a5de36563682b575",
   "lastKernelId": "29d5a02f-b651-4abc-b9cc-c330c7ea92ab"
  },
  "kernelspec": {
   "display_name": "Julia 1.7.1",
   "language": "julia",
   "name": "julia-1.7"
  },
  "language_info": {
   "file_extension": ".jl",
   "mimetype": "application/julia",
   "name": "julia",
   "version": "1.7.2"
  }
 },
 "nbformat": 4,
 "nbformat_minor": 5
}
