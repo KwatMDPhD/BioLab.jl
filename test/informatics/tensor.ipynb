{
 "cells": [
  {
   "cell_type": "code",
   "execution_count": null,
   "id": "017464da",
   "metadata": {
    "execution": {
     "iopub.execute_input": "2022-02-14T16:13:22.752014Z",
     "iopub.status.busy": "2022-02-14T16:13:22.378766Z",
     "iopub.status.idle": "2022-02-14T16:13:22.946628Z",
     "shell.execute_reply": "2022-02-14T16:13:22.946137Z"
    }
   },
   "outputs": [],
   "source": [
    "TE = joinpath(tempdir(), \"OnePiece.test\")\n",
    "\n",
    "if isdir(TE)\n",
    "\n",
    "    rm(TE, recursive = true)\n",
    "\n",
    "    println(\"Removed \", TE, \".\")\n",
    "\n",
    "end\n",
    "\n",
    "mkdir(TE)\n",
    "\n",
    "println(\"Made \", TE, \".\")"
   ]
  },
  {
   "cell_type": "code",
   "execution_count": null,
   "id": "34e4701e",
   "metadata": {
    "execution": {
     "iopub.execute_input": "2022-02-14T16:13:22.948513Z",
     "iopub.status.busy": "2022-02-14T16:13:22.947993Z",
     "iopub.status.idle": "2022-02-14T16:13:27.789905Z",
     "shell.execute_reply": "2022-02-14T16:13:27.789464Z"
    }
   },
   "outputs": [],
   "source": [
    "using OnePiece"
   ]
  },
  {
   "cell_type": "markdown",
   "id": "b92a3da9",
   "metadata": {},
   "source": [
    "---"
   ]
  },
  {
   "cell_type": "markdown",
   "id": "4b17626c",
   "metadata": {},
   "source": [
    "## get_extreme"
   ]
  },
  {
   "cell_type": "code",
   "execution_count": null,
   "id": "4192b171",
   "metadata": {
    "execution": {
     "iopub.execute_input": "2022-02-14T16:13:28.127834Z",
     "iopub.status.busy": "2022-02-14T16:13:27.791301Z",
     "iopub.status.idle": "2022-02-14T16:13:28.173883Z",
     "shell.execute_reply": "2022-02-14T16:13:28.173439Z"
    }
   },
   "outputs": [],
   "source": [
    "ve = [-1, 0, 0, 1, 2]\n",
    "\n",
    ";"
   ]
  },
  {
   "cell_type": "code",
   "execution_count": null,
   "id": "5c64232e",
   "metadata": {
    "execution": {
     "iopub.execute_input": "2022-02-14T16:13:28.175766Z",
     "iopub.status.busy": "2022-02-14T16:13:28.175235Z",
     "iopub.status.idle": "2022-02-14T16:13:28.546264Z",
     "shell.execute_reply": "2022-02-14T16:13:28.545879Z"
    }
   },
   "outputs": [],
   "source": [
    "OnePiece.informatics.tensor.get_extreme(ve)"
   ]
  },
  {
   "cell_type": "code",
   "execution_count": null,
   "id": "1a6cdf3f",
   "metadata": {
    "execution": {
     "iopub.execute_input": "2022-02-14T16:13:28.548103Z",
     "iopub.status.busy": "2022-02-14T16:13:28.547612Z",
     "iopub.status.idle": "2022-02-14T16:13:28.557614Z",
     "shell.execute_reply": "2022-02-14T16:13:28.557062Z"
    }
   },
   "outputs": [],
   "source": [
    "OnePiece.informatics.tensor.get_extreme([-maximum(ve), ve...])"
   ]
  },
  {
   "cell_type": "markdown",
   "id": "83f148a8",
   "metadata": {},
   "source": [
    "## get_area"
   ]
  },
  {
   "cell_type": "code",
   "execution_count": null,
   "id": "178ec379",
   "metadata": {
    "execution": {
     "iopub.execute_input": "2022-02-14T16:13:28.559918Z",
     "iopub.status.busy": "2022-02-14T16:13:28.559256Z",
     "iopub.status.idle": "2022-02-14T16:13:28.741090Z",
     "shell.execute_reply": "2022-02-14T16:13:28.740702Z"
    }
   },
   "outputs": [],
   "source": [
    "OnePiece.informatics.tensor.get_area([-1, 0, 1, 2])"
   ]
  },
  {
   "cell_type": "code",
   "execution_count": null,
   "id": "0b0a6acf",
   "metadata": {
    "execution": {
     "iopub.execute_input": "2022-02-14T16:13:28.743276Z",
     "iopub.status.busy": "2022-02-14T16:13:28.742364Z",
     "iopub.status.idle": "2022-02-14T16:13:28.744757Z",
     "shell.execute_reply": "2022-02-14T16:13:28.743783Z"
    }
   },
   "outputs": [],
   "source": [
    "OnePiece.informatics.tensor.get_area([-2, -1, 0, 0, 1, 2])"
   ]
  },
  {
   "cell_type": "markdown",
   "id": "db2118bf",
   "metadata": {},
   "source": [
    "## sum_where"
   ]
  },
  {
   "cell_type": "code",
   "execution_count": null,
   "id": "b00841ce",
   "metadata": {
    "execution": {
     "iopub.execute_input": "2022-02-14T16:13:28.746831Z",
     "iopub.status.busy": "2022-02-14T16:13:28.746195Z",
     "iopub.status.idle": "2022-02-14T16:13:28.761846Z",
     "shell.execute_reply": "2022-02-14T16:13:28.761399Z"
    }
   },
   "outputs": [],
   "source": [
    "OnePiece.informatics.tensor.sum_where([0, 1, 2, 3], [0, 1, 0, 1])"
   ]
  },
  {
   "cell_type": "markdown",
   "id": "2261bb12",
   "metadata": {},
   "source": [
    "## shift_minimum"
   ]
  },
  {
   "cell_type": "code",
   "execution_count": null,
   "id": "099a44b4",
   "metadata": {
    "execution": {
     "iopub.execute_input": "2022-02-14T16:13:28.763829Z",
     "iopub.status.busy": "2022-02-14T16:13:28.763340Z",
     "iopub.status.idle": "2022-02-14T16:13:28.770483Z",
     "shell.execute_reply": "2022-02-14T16:13:28.769969Z"
    }
   },
   "outputs": [],
   "source": [
    "ve = collect(-3:3)\n",
    "\n",
    ";"
   ]
  },
  {
   "cell_type": "code",
   "execution_count": null,
   "id": "9192de99",
   "metadata": {
    "execution": {
     "iopub.execute_input": "2022-02-14T16:13:28.772817Z",
     "iopub.status.busy": "2022-02-14T16:13:28.771998Z",
     "iopub.status.idle": "2022-02-14T16:13:28.949518Z",
     "shell.execute_reply": "2022-02-14T16:13:28.949127Z"
    }
   },
   "outputs": [],
   "source": [
    "for nu in ve\n",
    "\n",
    "    println(OnePiece.informatics.tensor.shift_minimum(ve, nu))\n",
    "\n",
    "end"
   ]
  },
  {
   "cell_type": "code",
   "execution_count": null,
   "id": "d72022be",
   "metadata": {
    "execution": {
     "iopub.execute_input": "2022-02-14T16:13:28.951373Z",
     "iopub.status.busy": "2022-02-14T16:13:28.950877Z",
     "iopub.status.idle": "2022-02-14T16:13:29.928185Z",
     "shell.execute_reply": "2022-02-14T16:13:29.927806Z"
    }
   },
   "outputs": [],
   "source": [
    "OnePiece.informatics.tensor.shift_minimum(ve, \"0<\")"
   ]
  },
  {
   "cell_type": "markdown",
   "id": "72451b86-b0f1-4adb-a304-4683ae46a94d",
   "metadata": {},
   "source": [
    "## cumulate_sum_reverse"
   ]
  },
  {
   "cell_type": "code",
   "execution_count": null,
   "id": "10a4d6f0-cfcc-4655-9aaa-9118fb5f77b5",
   "metadata": {
    "execution": {
     "iopub.execute_input": "2022-02-14T16:13:29.930091Z",
     "iopub.status.busy": "2022-02-14T16:13:29.929544Z",
     "iopub.status.idle": "2022-02-14T16:13:29.990763Z",
     "shell.execute_reply": "2022-02-14T16:13:29.990386Z"
    }
   },
   "outputs": [],
   "source": [
    "OnePiece.informatics.tensor.cumulate_sum_reverse(1:10)"
   ]
  },
  {
   "cell_type": "markdown",
   "id": "b4533356",
   "metadata": {},
   "source": [
    "## make_increasing_by_stepping_up!"
   ]
  },
  {
   "cell_type": "markdown",
   "id": "016b6206",
   "metadata": {},
   "source": [
    "## make_increasing_by_stepping_down!"
   ]
  },
  {
   "cell_type": "code",
   "execution_count": null,
   "id": "9e9bcd5b",
   "metadata": {
    "execution": {
     "iopub.execute_input": "2022-02-14T16:13:29.992607Z",
     "iopub.status.busy": "2022-02-14T16:13:29.992116Z",
     "iopub.status.idle": "2022-02-14T16:13:30.063467Z",
     "shell.execute_reply": "2022-02-14T16:13:30.063086Z"
    }
   },
   "outputs": [],
   "source": [
    "for ic_ in [[0, 1, 2], [0, 1, 2, 0], [0, 1, 2, 2, 1, 0, 1, 2, 3]]\n",
    "\n",
    "    println(\"-\"^99)\n",
    "\n",
    "    println(ic_)\n",
    "\n",
    "    println(OnePiece.informatics.tensor.make_increasing_by_stepping_up!(copy(ic_)))\n",
    "\n",
    "    println(OnePiece.informatics.tensor.make_increasing_by_stepping_down!(copy(ic_)))\n",
    "\n",
    "end"
   ]
  },
  {
   "cell_type": "markdown",
   "id": "3f396855",
   "metadata": {},
   "source": [
    "---"
   ]
  },
  {
   "cell_type": "code",
   "execution_count": null,
   "id": "b4af2023",
   "metadata": {
    "execution": {
     "iopub.execute_input": "2022-02-14T16:13:30.065503Z",
     "iopub.status.busy": "2022-02-14T16:13:30.064876Z",
     "iopub.status.idle": "2022-02-14T16:13:30.067392Z",
     "shell.execute_reply": "2022-02-14T16:13:30.067014Z"
    }
   },
   "outputs": [],
   "source": [
    "if isdir(TE)\n",
    "\n",
    "    rm(TE, recursive = true)\n",
    "\n",
    "    println(\"Removed \", TE, \".\")\n",
    "\n",
    "end"
   ]
  }
 ],
 "metadata": {
  "kernelspec": {
   "display_name": "Julia 1.7.2",
   "language": "julia",
   "name": "julia-1.7"
  },
  "language_info": {
   "file_extension": ".jl",
   "mimetype": "application/julia",
   "name": "julia",
   "version": "1.7.2"
  }
 },
 "nbformat": 4,
 "nbformat_minor": 5
}
