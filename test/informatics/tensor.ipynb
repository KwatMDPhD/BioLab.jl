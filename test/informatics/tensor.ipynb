{
 "cells": [
  {
   "cell_type": "code",
   "execution_count": null,
   "id": "017464da",
   "metadata": {
    "execution": {
     "iopub.execute_input": "2022-02-13T05:32:43.905267Z",
     "iopub.status.busy": "2022-02-13T05:32:43.580196Z",
     "iopub.status.idle": "2022-02-13T05:32:44.089680Z",
     "shell.execute_reply": "2022-02-13T05:32:44.089136Z"
    }
   },
   "outputs": [],
   "source": [
    "TE = joinpath(tempdir(), \"OnePiece.test\")\n",
    "\n",
    "if isdir(TE)\n",
    "\n",
    "    rm(TE, recursive = true)\n",
    "\n",
    "    println(\"Removed \", TE, \".\")\n",
    "\n",
    "end\n",
    "\n",
    "mkdir(TE)\n",
    "\n",
    "println(\"Made \", TE, \".\")"
   ]
  },
  {
   "cell_type": "code",
   "execution_count": null,
   "id": "34e4701e",
   "metadata": {
    "execution": {
     "iopub.execute_input": "2022-02-13T05:32:44.091471Z",
     "iopub.status.busy": "2022-02-13T05:32:44.090971Z",
     "iopub.status.idle": "2022-02-13T05:32:48.091518Z",
     "shell.execute_reply": "2022-02-13T05:32:48.091050Z"
    }
   },
   "outputs": [],
   "source": [
    "using OnePiece"
   ]
  },
  {
   "cell_type": "markdown",
   "id": "b92a3da9",
   "metadata": {},
   "source": [
    "---"
   ]
  },
  {
   "cell_type": "markdown",
   "id": "4b17626c",
   "metadata": {},
   "source": [
    "## get_extreme"
   ]
  },
  {
   "cell_type": "code",
   "execution_count": null,
   "id": "4192b171",
   "metadata": {
    "execution": {
     "iopub.execute_input": "2022-02-13T05:32:48.387853Z",
     "iopub.status.busy": "2022-02-13T05:32:48.093027Z",
     "iopub.status.idle": "2022-02-13T05:32:48.432000Z",
     "shell.execute_reply": "2022-02-13T05:32:48.431613Z"
    }
   },
   "outputs": [],
   "source": [
    "ve = [-1, 0, 0, 1, 2]\n",
    "\n",
    ";"
   ]
  },
  {
   "cell_type": "code",
   "execution_count": null,
   "id": "5c64232e",
   "metadata": {
    "execution": {
     "iopub.execute_input": "2022-02-13T05:32:48.433809Z",
     "iopub.status.busy": "2022-02-13T05:32:48.433314Z",
     "iopub.status.idle": "2022-02-13T05:32:48.785306Z",
     "shell.execute_reply": "2022-02-13T05:32:48.784918Z"
    }
   },
   "outputs": [],
   "source": [
    "OnePiece.informatics.tensor.get_extreme(ve)"
   ]
  },
  {
   "cell_type": "code",
   "execution_count": null,
   "id": "1a6cdf3f",
   "metadata": {
    "execution": {
     "iopub.execute_input": "2022-02-13T05:32:48.787011Z",
     "iopub.status.busy": "2022-02-13T05:32:48.786511Z",
     "iopub.status.idle": "2022-02-13T05:32:48.796122Z",
     "shell.execute_reply": "2022-02-13T05:32:48.795728Z"
    }
   },
   "outputs": [],
   "source": [
    "OnePiece.informatics.tensor.get_extreme([-maximum(ve), ve...])"
   ]
  },
  {
   "cell_type": "markdown",
   "id": "83f148a8",
   "metadata": {},
   "source": [
    "## get_area"
   ]
  },
  {
   "cell_type": "code",
   "execution_count": null,
   "id": "178ec379",
   "metadata": {
    "execution": {
     "iopub.execute_input": "2022-02-13T05:32:48.798193Z",
     "iopub.status.busy": "2022-02-13T05:32:48.797628Z",
     "iopub.status.idle": "2022-02-13T05:32:48.974658Z",
     "shell.execute_reply": "2022-02-13T05:32:48.974285Z"
    }
   },
   "outputs": [],
   "source": [
    "OnePiece.informatics.tensor.get_area([-1, 0, 1, 2])"
   ]
  },
  {
   "cell_type": "code",
   "execution_count": null,
   "id": "0b0a6acf",
   "metadata": {
    "execution": {
     "iopub.execute_input": "2022-02-13T05:32:48.977211Z",
     "iopub.status.busy": "2022-02-13T05:32:48.976247Z",
     "iopub.status.idle": "2022-02-13T05:32:48.978951Z",
     "shell.execute_reply": "2022-02-13T05:32:48.978574Z"
    }
   },
   "outputs": [],
   "source": [
    "OnePiece.informatics.tensor.get_area([-2, -1, 0, 0, 1, 2])"
   ]
  },
  {
   "cell_type": "markdown",
   "id": "db2118bf",
   "metadata": {},
   "source": [
    "## sum_where"
   ]
  },
  {
   "cell_type": "code",
   "execution_count": null,
   "id": "b00841ce",
   "metadata": {
    "execution": {
     "iopub.execute_input": "2022-02-13T05:32:48.980853Z",
     "iopub.status.busy": "2022-02-13T05:32:48.980376Z",
     "iopub.status.idle": "2022-02-13T05:32:48.994799Z",
     "shell.execute_reply": "2022-02-13T05:32:48.994418Z"
    }
   },
   "outputs": [],
   "source": [
    "OnePiece.informatics.tensor.sum_where([0, 1, 2, 3], [0, 1, 0, 1])"
   ]
  },
  {
   "cell_type": "markdown",
   "id": "2261bb12",
   "metadata": {},
   "source": [
    "## shift_minimum"
   ]
  },
  {
   "cell_type": "code",
   "execution_count": null,
   "id": "099a44b4",
   "metadata": {
    "execution": {
     "iopub.execute_input": "2022-02-13T05:32:48.996693Z",
     "iopub.status.busy": "2022-02-13T05:32:48.996206Z",
     "iopub.status.idle": "2022-02-13T05:32:49.003390Z",
     "shell.execute_reply": "2022-02-13T05:32:49.002804Z"
    }
   },
   "outputs": [],
   "source": [
    "ve = collect(-3:3)\n",
    "\n",
    ";"
   ]
  },
  {
   "cell_type": "code",
   "execution_count": null,
   "id": "9192de99",
   "metadata": {
    "execution": {
     "iopub.execute_input": "2022-02-13T05:32:49.005761Z",
     "iopub.status.busy": "2022-02-13T05:32:49.005224Z",
     "iopub.status.idle": "2022-02-13T05:32:49.175310Z",
     "shell.execute_reply": "2022-02-13T05:32:49.174926Z"
    }
   },
   "outputs": [],
   "source": [
    "for nu in ve\n",
    "\n",
    "    println(OnePiece.informatics.tensor.shift_minimum(ve, nu))\n",
    "\n",
    "end"
   ]
  },
  {
   "cell_type": "code",
   "execution_count": null,
   "id": "d72022be",
   "metadata": {
    "execution": {
     "iopub.execute_input": "2022-02-13T05:32:49.177039Z",
     "iopub.status.busy": "2022-02-13T05:32:49.176536Z",
     "iopub.status.idle": "2022-02-13T05:32:50.089054Z",
     "shell.execute_reply": "2022-02-13T05:32:50.088671Z"
    }
   },
   "outputs": [],
   "source": [
    "OnePiece.informatics.tensor.shift_minimum(ve, \"0<\")"
   ]
  },
  {
   "cell_type": "markdown",
   "id": "72451b86-b0f1-4adb-a304-4683ae46a94d",
   "metadata": {},
   "source": [
    "## cumulate_sum_reverse"
   ]
  },
  {
   "cell_type": "code",
   "execution_count": null,
   "id": "10a4d6f0-cfcc-4655-9aaa-9118fb5f77b5",
   "metadata": {
    "execution": {
     "iopub.execute_input": "2022-02-13T05:32:50.090862Z",
     "iopub.status.busy": "2022-02-13T05:32:50.090362Z",
     "iopub.status.idle": "2022-02-13T05:32:50.142401Z",
     "shell.execute_reply": "2022-02-13T05:32:50.142019Z"
    }
   },
   "outputs": [],
   "source": [
    "OnePiece.informatics.tensor.cumulate_sum_reverse(1:10)"
   ]
  },
  {
   "cell_type": "markdown",
   "id": "b4533356",
   "metadata": {},
   "source": [
    "## make_increasing_by_stepping_up!"
   ]
  },
  {
   "cell_type": "markdown",
   "id": "016b6206",
   "metadata": {},
   "source": [
    "## make_increasing_by_stepping_down!"
   ]
  },
  {
   "cell_type": "code",
   "execution_count": null,
   "id": "9e9bcd5b",
   "metadata": {
    "execution": {
     "iopub.execute_input": "2022-02-13T05:32:50.144398Z",
     "iopub.status.busy": "2022-02-13T05:32:50.143899Z",
     "iopub.status.idle": "2022-02-13T05:32:50.206514Z",
     "shell.execute_reply": "2022-02-13T05:32:50.206118Z"
    }
   },
   "outputs": [],
   "source": [
    "for ic_ in [[0, 1, 2], [0, 1, 2, 0], [0, 1, 2, 2, 1, 0, 1, 2, 3]]\n",
    "\n",
    "    println(\"-\"^99)\n",
    "\n",
    "    println(ic_)\n",
    "\n",
    "    println(OnePiece.informatics.tensor.make_increasing_by_stepping_up!(copy(ic_)))\n",
    "\n",
    "    println(OnePiece.informatics.tensor.make_increasing_by_stepping_down!(copy(ic_)))\n",
    "\n",
    "end"
   ]
  },
  {
   "cell_type": "markdown",
   "id": "3f396855",
   "metadata": {},
   "source": [
    "---"
   ]
  },
  {
   "cell_type": "code",
   "execution_count": null,
   "id": "b4af2023",
   "metadata": {
    "execution": {
     "iopub.execute_input": "2022-02-13T05:32:50.208684Z",
     "iopub.status.busy": "2022-02-13T05:32:50.207954Z",
     "iopub.status.idle": "2022-02-13T05:32:50.210681Z",
     "shell.execute_reply": "2022-02-13T05:32:50.210266Z"
    }
   },
   "outputs": [],
   "source": [
    "if isdir(TE)\n",
    "\n",
    "    rm(TE, recursive = true)\n",
    "\n",
    "    println(\"Removed \", TE, \".\")\n",
    "\n",
    "end"
   ]
  }
 ],
 "metadata": {
  "kernelspec": {
   "display_name": "Julia 1.7.2",
   "language": "julia",
   "name": "julia-1.7"
  },
  "language_info": {
   "file_extension": ".jl",
   "mimetype": "application/julia",
   "name": "julia",
   "version": "1.7.2"
  }
 },
 "nbformat": 4,
 "nbformat_minor": 5
}
