{
 "cells": [
  {
   "cell_type": "code",
   "execution_count": null,
   "id": "34e4701e",
   "metadata": {
    "execution": {
     "iopub.execute_input": "2022-02-09T22:43:13.239365Z",
     "iopub.status.busy": "2022-02-09T22:43:12.864806Z",
     "iopub.status.idle": "2022-02-09T22:43:14.187201Z",
     "shell.execute_reply": "2022-02-09T22:43:14.186490Z"
    }
   },
   "outputs": [],
   "source": [
    "using Revise\n",
    "using BenchmarkTools"
   ]
  },
  {
   "cell_type": "code",
   "execution_count": null,
   "id": "b3325ba2-989b-48ae-b530-5d0f64147f9a",
   "metadata": {
    "execution": {
     "iopub.execute_input": "2022-02-09T22:43:14.189481Z",
     "iopub.status.busy": "2022-02-09T22:43:14.188975Z",
     "iopub.status.idle": "2022-02-09T22:43:24.045022Z",
     "shell.execute_reply": "2022-02-09T22:43:24.044390Z"
    }
   },
   "outputs": [],
   "source": [
    "using OnePiece"
   ]
  },
  {
   "cell_type": "markdown",
   "id": "4b17626c",
   "metadata": {},
   "source": [
    "## get_extreme"
   ]
  },
  {
   "cell_type": "code",
   "execution_count": null,
   "id": "4192b171",
   "metadata": {
    "execution": {
     "iopub.execute_input": "2022-02-09T22:43:25.619859Z",
     "iopub.status.busy": "2022-02-09T22:43:24.046795Z",
     "iopub.status.idle": "2022-02-09T22:43:26.261595Z",
     "shell.execute_reply": "2022-02-09T22:43:26.261150Z"
    }
   },
   "outputs": [],
   "source": [
    "ve = [-1, 0, 0, 1, 2]\n",
    "\n",
    ";"
   ]
  },
  {
   "cell_type": "code",
   "execution_count": null,
   "id": "5c64232e",
   "metadata": {
    "execution": {
     "iopub.execute_input": "2022-02-09T22:43:26.263484Z",
     "iopub.status.busy": "2022-02-09T22:43:26.262983Z",
     "iopub.status.idle": "2022-02-09T22:43:26.555171Z",
     "shell.execute_reply": "2022-02-09T22:43:26.554621Z"
    }
   },
   "outputs": [],
   "source": [
    "OnePiece.informatics.tensor.get_extreme(ve)"
   ]
  },
  {
   "cell_type": "code",
   "execution_count": null,
   "id": "1a6cdf3f",
   "metadata": {
    "execution": {
     "iopub.execute_input": "2022-02-09T22:43:26.557098Z",
     "iopub.status.busy": "2022-02-09T22:43:26.556471Z",
     "iopub.status.idle": "2022-02-09T22:43:26.589896Z",
     "shell.execute_reply": "2022-02-09T22:43:26.589451Z"
    }
   },
   "outputs": [],
   "source": [
    "OnePiece.informatics.tensor.get_extreme([-maximum(ve), ve...])"
   ]
  },
  {
   "cell_type": "markdown",
   "id": "83f148a8",
   "metadata": {},
   "source": [
    "## get_area"
   ]
  },
  {
   "cell_type": "code",
   "execution_count": null,
   "id": "178ec379",
   "metadata": {
    "execution": {
     "iopub.execute_input": "2022-02-09T22:43:26.591890Z",
     "iopub.status.busy": "2022-02-09T22:43:26.591350Z",
     "iopub.status.idle": "2022-02-09T22:43:26.800929Z",
     "shell.execute_reply": "2022-02-09T22:43:26.800459Z"
    }
   },
   "outputs": [],
   "source": [
    "OnePiece.informatics.tensor.get_area([-1, 0, 1, 2])"
   ]
  },
  {
   "cell_type": "code",
   "execution_count": null,
   "id": "0b0a6acf",
   "metadata": {
    "execution": {
     "iopub.execute_input": "2022-02-09T22:43:26.802930Z",
     "iopub.status.busy": "2022-02-09T22:43:26.802334Z",
     "iopub.status.idle": "2022-02-09T22:43:26.816564Z",
     "shell.execute_reply": "2022-02-09T22:43:26.816103Z"
    }
   },
   "outputs": [],
   "source": [
    "OnePiece.informatics.tensor.get_area([-2, -1, 0, 0, 1, 2])"
   ]
  },
  {
   "cell_type": "markdown",
   "id": "db2118bf",
   "metadata": {},
   "source": [
    "## sum_where"
   ]
  },
  {
   "cell_type": "code",
   "execution_count": null,
   "id": "b00841ce",
   "metadata": {
    "execution": {
     "iopub.execute_input": "2022-02-09T22:43:26.818554Z",
     "iopub.status.busy": "2022-02-09T22:43:26.817932Z",
     "iopub.status.idle": "2022-02-09T22:43:26.847274Z",
     "shell.execute_reply": "2022-02-09T22:43:26.846805Z"
    }
   },
   "outputs": [],
   "source": [
    "OnePiece.informatics.tensor.sum_where([0, 1, 2, 3], [0, 1, 0, 1])"
   ]
  },
  {
   "cell_type": "markdown",
   "id": "2261bb12",
   "metadata": {},
   "source": [
    "## shift_minimum"
   ]
  },
  {
   "cell_type": "code",
   "execution_count": null,
   "id": "099a44b4",
   "metadata": {
    "execution": {
     "iopub.execute_input": "2022-02-09T22:43:26.849589Z",
     "iopub.status.busy": "2022-02-09T22:43:26.848799Z",
     "iopub.status.idle": "2022-02-09T22:43:26.869577Z",
     "shell.execute_reply": "2022-02-09T22:43:26.869058Z"
    }
   },
   "outputs": [],
   "source": [
    "ve = collect(-3:3)\n",
    "\n",
    ";"
   ]
  },
  {
   "cell_type": "code",
   "execution_count": null,
   "id": "9192de99",
   "metadata": {
    "execution": {
     "iopub.execute_input": "2022-02-09T22:43:26.871957Z",
     "iopub.status.busy": "2022-02-09T22:43:26.870924Z",
     "iopub.status.idle": "2022-02-09T22:43:27.055675Z",
     "shell.execute_reply": "2022-02-09T22:43:27.055283Z"
    }
   },
   "outputs": [],
   "source": [
    "for nu in ve\n",
    "\n",
    "    println(OnePiece.informatics.tensor.shift_minimum(ve, nu))\n",
    "\n",
    "end"
   ]
  },
  {
   "cell_type": "code",
   "execution_count": null,
   "id": "d72022be",
   "metadata": {
    "execution": {
     "iopub.execute_input": "2022-02-09T22:43:27.057513Z",
     "iopub.status.busy": "2022-02-09T22:43:27.056918Z",
     "iopub.status.idle": "2022-02-09T22:43:27.914785Z",
     "shell.execute_reply": "2022-02-09T22:43:27.914326Z"
    }
   },
   "outputs": [],
   "source": [
    "OnePiece.informatics.tensor.shift_minimum(ve, \"0<\")"
   ]
  },
  {
   "cell_type": "markdown",
   "id": "72451b86-b0f1-4adb-a304-4683ae46a94d",
   "metadata": {},
   "source": [
    "## cumulate_sum_reverse"
   ]
  },
  {
   "cell_type": "code",
   "execution_count": null,
   "id": "10a4d6f0-cfcc-4655-9aaa-9118fb5f77b5",
   "metadata": {
    "execution": {
     "iopub.execute_input": "2022-02-09T22:43:27.916606Z",
     "iopub.status.busy": "2022-02-09T22:43:27.916113Z",
     "iopub.status.idle": "2022-02-09T22:43:27.977220Z",
     "shell.execute_reply": "2022-02-09T22:43:27.976835Z"
    }
   },
   "outputs": [],
   "source": [
    "OnePiece.informatics.tensor.cumulate_sum_reverse(1:10)"
   ]
  },
  {
   "cell_type": "markdown",
   "id": "b4533356",
   "metadata": {},
   "source": [
    "## make_increasing_by_stepping_up!"
   ]
  },
  {
   "cell_type": "markdown",
   "id": "016b6206",
   "metadata": {},
   "source": [
    "## make_increasing_by_stepping_down!"
   ]
  },
  {
   "cell_type": "code",
   "execution_count": null,
   "id": "9e9bcd5b",
   "metadata": {
    "execution": {
     "iopub.execute_input": "2022-02-09T22:43:27.979126Z",
     "iopub.status.busy": "2022-02-09T22:43:27.978570Z",
     "iopub.status.idle": "2022-02-09T22:43:28.062223Z",
     "shell.execute_reply": "2022-02-09T22:43:28.061786Z"
    }
   },
   "outputs": [],
   "source": [
    "for ic_ in [[0, 1, 2], [0, 1, 2, 0], [0, 1, 2, 2, 1, 0, 1, 2, 3]]\n",
    "\n",
    "    println(\"-\"^99)\n",
    "\n",
    "    println(ic_)\n",
    "\n",
    "    println(OnePiece.informatics.tensor.make_increasing_by_stepping_up!(copy(ic_)))\n",
    "\n",
    "    println(OnePiece.informatics.tensor.make_increasing_by_stepping_down!(copy(ic_)))\n",
    "\n",
    "end"
   ]
  }
 ],
 "metadata": {
  "@webio": {
   "lastCommId": "a25d527901774348a5de36563682b575",
   "lastKernelId": "29d5a02f-b651-4abc-b9cc-c330c7ea92ab"
  },
  "kernelspec": {
   "display_name": "Julia 1.7.1",
   "language": "julia",
   "name": "julia-1.7"
  },
  "language_info": {
   "file_extension": ".jl",
   "mimetype": "application/julia",
   "name": "julia",
   "version": "1.7.2"
  }
 },
 "nbformat": 4,
 "nbformat_minor": 5
}
