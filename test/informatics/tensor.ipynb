{
 "cells": [
  {
   "cell_type": "code",
   "execution_count": null,
   "id": "017464da",
   "metadata": {
    "execution": {
     "iopub.execute_input": "2022-02-13T21:49:52.915966Z",
     "iopub.status.busy": "2022-02-13T21:49:52.557306Z",
     "iopub.status.idle": "2022-02-13T21:49:53.117474Z",
     "shell.execute_reply": "2022-02-13T21:49:53.116974Z"
    }
   },
   "outputs": [],
   "source": [
    "TE = joinpath(tempdir(), \"OnePiece.test\")\n",
    "\n",
    "if isdir(TE)\n",
    "\n",
    "    rm(TE, recursive = true)\n",
    "\n",
    "    println(\"Removed \", TE, \".\")\n",
    "\n",
    "end\n",
    "\n",
    "mkdir(TE)\n",
    "\n",
    "println(\"Made \", TE, \".\")"
   ]
  },
  {
   "cell_type": "code",
   "execution_count": null,
   "id": "34e4701e",
   "metadata": {
    "execution": {
     "iopub.execute_input": "2022-02-13T21:49:53.119508Z",
     "iopub.status.busy": "2022-02-13T21:49:53.118792Z",
     "iopub.status.idle": "2022-02-13T21:49:57.476754Z",
     "shell.execute_reply": "2022-02-13T21:49:57.476306Z"
    }
   },
   "outputs": [],
   "source": [
    "using OnePiece"
   ]
  },
  {
   "cell_type": "markdown",
   "id": "b92a3da9",
   "metadata": {},
   "source": [
    "---"
   ]
  },
  {
   "cell_type": "markdown",
   "id": "4b17626c",
   "metadata": {},
   "source": [
    "## get_extreme"
   ]
  },
  {
   "cell_type": "code",
   "execution_count": null,
   "id": "4192b171",
   "metadata": {
    "execution": {
     "iopub.execute_input": "2022-02-13T21:49:57.799868Z",
     "iopub.status.busy": "2022-02-13T21:49:57.478237Z",
     "iopub.status.idle": "2022-02-13T21:49:57.848996Z",
     "shell.execute_reply": "2022-02-13T21:49:57.848549Z"
    }
   },
   "outputs": [],
   "source": [
    "ve = [-1, 0, 0, 1, 2]\n",
    "\n",
    ";"
   ]
  },
  {
   "cell_type": "code",
   "execution_count": null,
   "id": "5c64232e",
   "metadata": {
    "execution": {
     "iopub.execute_input": "2022-02-13T21:49:57.850948Z",
     "iopub.status.busy": "2022-02-13T21:49:57.850372Z",
     "iopub.status.idle": "2022-02-13T21:49:58.248948Z",
     "shell.execute_reply": "2022-02-13T21:49:58.248556Z"
    }
   },
   "outputs": [],
   "source": [
    "OnePiece.informatics.tensor.get_extreme(ve)"
   ]
  },
  {
   "cell_type": "code",
   "execution_count": null,
   "id": "1a6cdf3f",
   "metadata": {
    "execution": {
     "iopub.execute_input": "2022-02-13T21:49:58.250880Z",
     "iopub.status.busy": "2022-02-13T21:49:58.250378Z",
     "iopub.status.idle": "2022-02-13T21:49:58.260368Z",
     "shell.execute_reply": "2022-02-13T21:49:58.259890Z"
    }
   },
   "outputs": [],
   "source": [
    "OnePiece.informatics.tensor.get_extreme([-maximum(ve), ve...])"
   ]
  },
  {
   "cell_type": "markdown",
   "id": "83f148a8",
   "metadata": {},
   "source": [
    "## get_area"
   ]
  },
  {
   "cell_type": "code",
   "execution_count": null,
   "id": "178ec379",
   "metadata": {
    "execution": {
     "iopub.execute_input": "2022-02-13T21:49:58.263466Z",
     "iopub.status.busy": "2022-02-13T21:49:58.262961Z",
     "iopub.status.idle": "2022-02-13T21:49:58.465896Z",
     "shell.execute_reply": "2022-02-13T21:49:58.465513Z"
    }
   },
   "outputs": [],
   "source": [
    "OnePiece.informatics.tensor.get_area([-1, 0, 1, 2])"
   ]
  },
  {
   "cell_type": "code",
   "execution_count": null,
   "id": "0b0a6acf",
   "metadata": {
    "execution": {
     "iopub.execute_input": "2022-02-13T21:49:58.468108Z",
     "iopub.status.busy": "2022-02-13T21:49:58.467243Z",
     "iopub.status.idle": "2022-02-13T21:49:58.469634Z",
     "shell.execute_reply": "2022-02-13T21:49:58.468624Z"
    }
   },
   "outputs": [],
   "source": [
    "OnePiece.informatics.tensor.get_area([-2, -1, 0, 0, 1, 2])"
   ]
  },
  {
   "cell_type": "markdown",
   "id": "db2118bf",
   "metadata": {},
   "source": [
    "## sum_where"
   ]
  },
  {
   "cell_type": "code",
   "execution_count": null,
   "id": "b00841ce",
   "metadata": {
    "execution": {
     "iopub.execute_input": "2022-02-13T21:49:58.471439Z",
     "iopub.status.busy": "2022-02-13T21:49:58.470943Z",
     "iopub.status.idle": "2022-02-13T21:49:58.489498Z",
     "shell.execute_reply": "2022-02-13T21:49:58.489117Z"
    }
   },
   "outputs": [],
   "source": [
    "OnePiece.informatics.tensor.sum_where([0, 1, 2, 3], [0, 1, 0, 1])"
   ]
  },
  {
   "cell_type": "markdown",
   "id": "2261bb12",
   "metadata": {},
   "source": [
    "## shift_minimum"
   ]
  },
  {
   "cell_type": "code",
   "execution_count": null,
   "id": "099a44b4",
   "metadata": {
    "execution": {
     "iopub.execute_input": "2022-02-13T21:49:58.491502Z",
     "iopub.status.busy": "2022-02-13T21:49:58.490999Z",
     "iopub.status.idle": "2022-02-13T21:49:58.499837Z",
     "shell.execute_reply": "2022-02-13T21:49:58.499376Z"
    }
   },
   "outputs": [],
   "source": [
    "ve = collect(-3:3)\n",
    "\n",
    ";"
   ]
  },
  {
   "cell_type": "code",
   "execution_count": null,
   "id": "9192de99",
   "metadata": {
    "execution": {
     "iopub.execute_input": "2022-02-13T21:49:58.501593Z",
     "iopub.status.busy": "2022-02-13T21:49:58.501098Z",
     "iopub.status.idle": "2022-02-13T21:49:58.701970Z",
     "shell.execute_reply": "2022-02-13T21:49:58.701582Z"
    }
   },
   "outputs": [],
   "source": [
    "for nu in ve\n",
    "\n",
    "    println(OnePiece.informatics.tensor.shift_minimum(ve, nu))\n",
    "\n",
    "end"
   ]
  },
  {
   "cell_type": "code",
   "execution_count": null,
   "id": "d72022be",
   "metadata": {
    "execution": {
     "iopub.execute_input": "2022-02-13T21:49:58.703840Z",
     "iopub.status.busy": "2022-02-13T21:49:58.703226Z",
     "iopub.status.idle": "2022-02-13T21:49:59.705794Z",
     "shell.execute_reply": "2022-02-13T21:49:59.705411Z"
    }
   },
   "outputs": [],
   "source": [
    "OnePiece.informatics.tensor.shift_minimum(ve, \"0<\")"
   ]
  },
  {
   "cell_type": "markdown",
   "id": "72451b86-b0f1-4adb-a304-4683ae46a94d",
   "metadata": {},
   "source": [
    "## cumulate_sum_reverse"
   ]
  },
  {
   "cell_type": "code",
   "execution_count": null,
   "id": "10a4d6f0-cfcc-4655-9aaa-9118fb5f77b5",
   "metadata": {
    "execution": {
     "iopub.execute_input": "2022-02-13T21:49:59.707779Z",
     "iopub.status.busy": "2022-02-13T21:49:59.707268Z",
     "iopub.status.idle": "2022-02-13T21:49:59.767532Z",
     "shell.execute_reply": "2022-02-13T21:49:59.767147Z"
    }
   },
   "outputs": [],
   "source": [
    "OnePiece.informatics.tensor.cumulate_sum_reverse(1:10)"
   ]
  },
  {
   "cell_type": "markdown",
   "id": "b4533356",
   "metadata": {},
   "source": [
    "## make_increasing_by_stepping_up!"
   ]
  },
  {
   "cell_type": "markdown",
   "id": "016b6206",
   "metadata": {},
   "source": [
    "## make_increasing_by_stepping_down!"
   ]
  },
  {
   "cell_type": "code",
   "execution_count": null,
   "id": "9e9bcd5b",
   "metadata": {
    "execution": {
     "iopub.execute_input": "2022-02-13T21:49:59.769463Z",
     "iopub.status.busy": "2022-02-13T21:49:59.768966Z",
     "iopub.status.idle": "2022-02-13T21:49:59.839251Z",
     "shell.execute_reply": "2022-02-13T21:49:59.838870Z"
    }
   },
   "outputs": [],
   "source": [
    "for ic_ in [[0, 1, 2], [0, 1, 2, 0], [0, 1, 2, 2, 1, 0, 1, 2, 3]]\n",
    "\n",
    "    println(\"-\"^99)\n",
    "\n",
    "    println(ic_)\n",
    "\n",
    "    println(OnePiece.informatics.tensor.make_increasing_by_stepping_up!(copy(ic_)))\n",
    "\n",
    "    println(OnePiece.informatics.tensor.make_increasing_by_stepping_down!(copy(ic_)))\n",
    "\n",
    "end"
   ]
  },
  {
   "cell_type": "markdown",
   "id": "3f396855",
   "metadata": {},
   "source": [
    "---"
   ]
  },
  {
   "cell_type": "code",
   "execution_count": null,
   "id": "b4af2023",
   "metadata": {
    "execution": {
     "iopub.execute_input": "2022-02-13T21:49:59.841270Z",
     "iopub.status.busy": "2022-02-13T21:49:59.840661Z",
     "iopub.status.idle": "2022-02-13T21:49:59.843016Z",
     "shell.execute_reply": "2022-02-13T21:49:59.842632Z"
    }
   },
   "outputs": [],
   "source": [
    "if isdir(TE)\n",
    "\n",
    "    rm(TE, recursive = true)\n",
    "\n",
    "    println(\"Removed \", TE, \".\")\n",
    "\n",
    "end"
   ]
  }
 ],
 "metadata": {
  "kernelspec": {
   "display_name": "Julia 1.7.2",
   "language": "julia",
   "name": "julia-1.7"
  },
  "language_info": {
   "file_extension": ".jl",
   "mimetype": "application/julia",
   "name": "julia",
   "version": "1.7.2"
  }
 },
 "nbformat": 4,
 "nbformat_minor": 5
}
