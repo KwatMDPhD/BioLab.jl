{
 "cells": [
  {
   "cell_type": "code",
   "execution_count": null,
   "id": "34e4701e",
   "metadata": {
    "execution": {
     "iopub.execute_input": "2022-02-08T03:16:51.765336Z",
     "iopub.status.busy": "2022-02-08T03:16:51.367382Z",
     "iopub.status.idle": "2022-02-08T03:16:52.615291Z",
     "shell.execute_reply": "2022-02-08T03:16:52.614795Z"
    }
   },
   "outputs": [],
   "source": [
    "using Revise\n",
    "using BenchmarkTools"
   ]
  },
  {
   "cell_type": "code",
   "execution_count": null,
   "id": "b3325ba2-989b-48ae-b530-5d0f64147f9a",
   "metadata": {
    "execution": {
     "iopub.execute_input": "2022-02-08T03:16:52.617359Z",
     "iopub.status.busy": "2022-02-08T03:16:52.616836Z",
     "iopub.status.idle": "2022-02-08T03:17:13.266120Z",
     "shell.execute_reply": "2022-02-08T03:17:13.265501Z"
    }
   },
   "outputs": [],
   "source": [
    "using OnePiece"
   ]
  },
  {
   "cell_type": "markdown",
   "id": "4b17626c",
   "metadata": {},
   "source": [
    "## get_extreme"
   ]
  },
  {
   "cell_type": "code",
   "execution_count": null,
   "id": "4192b171",
   "metadata": {
    "execution": {
     "iopub.execute_input": "2022-02-08T03:17:14.934895Z",
     "iopub.status.busy": "2022-02-08T03:17:13.267486Z",
     "iopub.status.idle": "2022-02-08T03:17:15.619547Z",
     "shell.execute_reply": "2022-02-08T03:17:15.619098Z"
    }
   },
   "outputs": [],
   "source": [
    "ve = [-1, 0, 0, 1, 2]\n",
    "\n",
    ";"
   ]
  },
  {
   "cell_type": "code",
   "execution_count": null,
   "id": "5c64232e",
   "metadata": {
    "execution": {
     "iopub.execute_input": "2022-02-08T03:17:15.621500Z",
     "iopub.status.busy": "2022-02-08T03:17:15.620980Z",
     "iopub.status.idle": "2022-02-08T03:17:15.929512Z",
     "shell.execute_reply": "2022-02-08T03:17:15.929121Z"
    }
   },
   "outputs": [],
   "source": [
    "OnePiece.informatics.tensor.get_extreme(ve)"
   ]
  },
  {
   "cell_type": "code",
   "execution_count": null,
   "id": "1a6cdf3f",
   "metadata": {
    "execution": {
     "iopub.execute_input": "2022-02-08T03:17:15.931268Z",
     "iopub.status.busy": "2022-02-08T03:17:15.930746Z",
     "iopub.status.idle": "2022-02-08T03:17:15.965004Z",
     "shell.execute_reply": "2022-02-08T03:17:15.964544Z"
    }
   },
   "outputs": [],
   "source": [
    "OnePiece.informatics.tensor.get_extreme([-maximum(ve), ve...])"
   ]
  },
  {
   "cell_type": "markdown",
   "id": "83f148a8",
   "metadata": {},
   "source": [
    "## get_area"
   ]
  },
  {
   "cell_type": "code",
   "execution_count": null,
   "id": "178ec379",
   "metadata": {
    "execution": {
     "iopub.execute_input": "2022-02-08T03:17:15.966837Z",
     "iopub.status.busy": "2022-02-08T03:17:15.966314Z",
     "iopub.status.idle": "2022-02-08T03:17:16.228812Z",
     "shell.execute_reply": "2022-02-08T03:17:16.228355Z"
    }
   },
   "outputs": [],
   "source": [
    "OnePiece.informatics.tensor.get_area([-1, 0, 1, 2])"
   ]
  },
  {
   "cell_type": "code",
   "execution_count": null,
   "id": "0b0a6acf",
   "metadata": {
    "execution": {
     "iopub.execute_input": "2022-02-08T03:17:16.230855Z",
     "iopub.status.busy": "2022-02-08T03:17:16.230219Z",
     "iopub.status.idle": "2022-02-08T03:17:16.245071Z",
     "shell.execute_reply": "2022-02-08T03:17:16.244474Z"
    }
   },
   "outputs": [],
   "source": [
    "OnePiece.informatics.tensor.get_area([-2, -1, 0, 0, 1, 2])"
   ]
  },
  {
   "cell_type": "markdown",
   "id": "db2118bf",
   "metadata": {},
   "source": [
    "## sum_where"
   ]
  },
  {
   "cell_type": "code",
   "execution_count": null,
   "id": "b00841ce",
   "metadata": {
    "execution": {
     "iopub.execute_input": "2022-02-08T03:17:16.247904Z",
     "iopub.status.busy": "2022-02-08T03:17:16.247327Z",
     "iopub.status.idle": "2022-02-08T03:17:16.277035Z",
     "shell.execute_reply": "2022-02-08T03:17:16.276516Z"
    }
   },
   "outputs": [],
   "source": [
    "OnePiece.informatics.tensor.sum_where([0, 1, 2, 3], [0, 1, 0, 1])"
   ]
  },
  {
   "cell_type": "markdown",
   "id": "2261bb12",
   "metadata": {},
   "source": [
    "## shift_minimum"
   ]
  },
  {
   "cell_type": "code",
   "execution_count": null,
   "id": "099a44b4",
   "metadata": {
    "execution": {
     "iopub.execute_input": "2022-02-08T03:17:16.279066Z",
     "iopub.status.busy": "2022-02-08T03:17:16.278473Z",
     "iopub.status.idle": "2022-02-08T03:17:16.300006Z",
     "shell.execute_reply": "2022-02-08T03:17:16.299498Z"
    }
   },
   "outputs": [],
   "source": [
    "ve = collect(-3:3)\n",
    "\n",
    ";"
   ]
  },
  {
   "cell_type": "code",
   "execution_count": null,
   "id": "9192de99",
   "metadata": {
    "execution": {
     "iopub.execute_input": "2022-02-08T03:17:16.301838Z",
     "iopub.status.busy": "2022-02-08T03:17:16.301276Z",
     "iopub.status.idle": "2022-02-08T03:17:16.482955Z",
     "shell.execute_reply": "2022-02-08T03:17:16.482491Z"
    }
   },
   "outputs": [],
   "source": [
    "for nu in ve\n",
    "\n",
    "    println(OnePiece.informatics.tensor.shift_minimum(ve, nu))\n",
    "\n",
    "end"
   ]
  },
  {
   "cell_type": "code",
   "execution_count": null,
   "id": "d72022be",
   "metadata": {
    "execution": {
     "iopub.execute_input": "2022-02-08T03:17:16.484905Z",
     "iopub.status.busy": "2022-02-08T03:17:16.484220Z",
     "iopub.status.idle": "2022-02-08T03:17:17.608079Z",
     "shell.execute_reply": "2022-02-08T03:17:17.607579Z"
    }
   },
   "outputs": [],
   "source": [
    "OnePiece.informatics.tensor.shift_minimum(ve, \"0<\")"
   ]
  },
  {
   "cell_type": "markdown",
   "id": "72451b86-b0f1-4adb-a304-4683ae46a94d",
   "metadata": {},
   "source": [
    "## cumulate_sum_reverse"
   ]
  },
  {
   "cell_type": "code",
   "execution_count": null,
   "id": "10a4d6f0-cfcc-4655-9aaa-9118fb5f77b5",
   "metadata": {
    "execution": {
     "iopub.execute_input": "2022-02-08T03:17:17.610210Z",
     "iopub.status.busy": "2022-02-08T03:17:17.609493Z",
     "iopub.status.idle": "2022-02-08T03:17:21.493546Z",
     "shell.execute_reply": "2022-02-08T03:17:21.493098Z"
    }
   },
   "outputs": [],
   "source": [
    "OnePiece.informatics.tensor.cumulate_sum_reverse(1:10)"
   ]
  },
  {
   "cell_type": "markdown",
   "id": "b4533356",
   "metadata": {},
   "source": [
    "## make_increasing_by_stepping_up!"
   ]
  },
  {
   "cell_type": "markdown",
   "id": "016b6206",
   "metadata": {},
   "source": [
    "## make_increasing_by_stepping_down!"
   ]
  },
  {
   "cell_type": "code",
   "execution_count": null,
   "id": "9e9bcd5b",
   "metadata": {
    "execution": {
     "iopub.execute_input": "2022-02-08T03:17:21.496039Z",
     "iopub.status.busy": "2022-02-08T03:17:21.495323Z",
     "iopub.status.idle": "2022-02-08T03:17:21.597543Z",
     "shell.execute_reply": "2022-02-08T03:17:21.597106Z"
    }
   },
   "outputs": [],
   "source": [
    "for ic_ in [[0, 1, 2], [0, 1, 2, 0], [0, 1, 2, 2, 1, 0, 1, 2, 3]]\n",
    "\n",
    "    println(\"-\"^99)\n",
    "\n",
    "    println(ic_)\n",
    "\n",
    "    println(OnePiece.informatics.tensor.make_increasing_by_stepping_up!(copy(ic_)))\n",
    "\n",
    "    println(OnePiece.informatics.tensor.make_increasing_by_stepping_down!(copy(ic_)))\n",
    "\n",
    "end"
   ]
  }
 ],
 "metadata": {
  "@webio": {
   "lastCommId": "a25d527901774348a5de36563682b575",
   "lastKernelId": "29d5a02f-b651-4abc-b9cc-c330c7ea92ab"
  },
  "kernelspec": {
   "display_name": "Julia 1.7.1",
   "language": "julia",
   "name": "julia-1.7"
  },
  "language_info": {
   "file_extension": ".jl",
   "mimetype": "application/julia",
   "name": "julia",
   "version": "1.7.1"
  }
 },
 "nbformat": 4,
 "nbformat_minor": 5
}
