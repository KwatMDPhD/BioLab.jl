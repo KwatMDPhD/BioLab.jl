{
 "cells": [
  {
   "cell_type": "code",
   "execution_count": null,
   "id": "017464da",
   "metadata": {
    "execution": {
     "iopub.execute_input": "2022-02-13T22:57:45.315796Z",
     "iopub.status.busy": "2022-02-13T22:57:44.982988Z",
     "iopub.status.idle": "2022-02-13T22:57:45.497781Z",
     "shell.execute_reply": "2022-02-13T22:57:45.497232Z"
    }
   },
   "outputs": [],
   "source": [
    "TE = joinpath(tempdir(), \"OnePiece.test\")\n",
    "\n",
    "if isdir(TE)\n",
    "\n",
    "    rm(TE, recursive = true)\n",
    "\n",
    "    println(\"Removed \", TE, \".\")\n",
    "\n",
    "end\n",
    "\n",
    "mkdir(TE)\n",
    "\n",
    "println(\"Made \", TE, \".\")"
   ]
  },
  {
   "cell_type": "code",
   "execution_count": null,
   "id": "34e4701e",
   "metadata": {
    "execution": {
     "iopub.execute_input": "2022-02-13T22:57:45.499922Z",
     "iopub.status.busy": "2022-02-13T22:57:45.499427Z",
     "iopub.status.idle": "2022-02-13T22:57:49.421819Z",
     "shell.execute_reply": "2022-02-13T22:57:49.421365Z"
    }
   },
   "outputs": [],
   "source": [
    "using OnePiece"
   ]
  },
  {
   "cell_type": "markdown",
   "id": "b92a3da9",
   "metadata": {},
   "source": [
    "---"
   ]
  },
  {
   "cell_type": "markdown",
   "id": "4b17626c",
   "metadata": {},
   "source": [
    "## get_extreme"
   ]
  },
  {
   "cell_type": "code",
   "execution_count": null,
   "id": "4192b171",
   "metadata": {
    "execution": {
     "iopub.execute_input": "2022-02-13T22:57:49.733331Z",
     "iopub.status.busy": "2022-02-13T22:57:49.423397Z",
     "iopub.status.idle": "2022-02-13T22:57:49.777989Z",
     "shell.execute_reply": "2022-02-13T22:57:49.777565Z"
    }
   },
   "outputs": [],
   "source": [
    "ve = [-1, 0, 0, 1, 2]\n",
    "\n",
    ";"
   ]
  },
  {
   "cell_type": "code",
   "execution_count": null,
   "id": "5c64232e",
   "metadata": {
    "execution": {
     "iopub.execute_input": "2022-02-13T22:57:49.779917Z",
     "iopub.status.busy": "2022-02-13T22:57:49.779431Z",
     "iopub.status.idle": "2022-02-13T22:57:50.138666Z",
     "shell.execute_reply": "2022-02-13T22:57:50.138210Z"
    }
   },
   "outputs": [],
   "source": [
    "OnePiece.informatics.tensor.get_extreme(ve)"
   ]
  },
  {
   "cell_type": "code",
   "execution_count": null,
   "id": "1a6cdf3f",
   "metadata": {
    "execution": {
     "iopub.execute_input": "2022-02-13T22:57:50.140894Z",
     "iopub.status.busy": "2022-02-13T22:57:50.140318Z",
     "iopub.status.idle": "2022-02-13T22:57:50.150190Z",
     "shell.execute_reply": "2022-02-13T22:57:50.149819Z"
    }
   },
   "outputs": [],
   "source": [
    "OnePiece.informatics.tensor.get_extreme([-maximum(ve), ve...])"
   ]
  },
  {
   "cell_type": "markdown",
   "id": "83f148a8",
   "metadata": {},
   "source": [
    "## get_area"
   ]
  },
  {
   "cell_type": "code",
   "execution_count": null,
   "id": "178ec379",
   "metadata": {
    "execution": {
     "iopub.execute_input": "2022-02-13T22:57:50.152231Z",
     "iopub.status.busy": "2022-02-13T22:57:50.151738Z",
     "iopub.status.idle": "2022-02-13T22:57:50.331145Z",
     "shell.execute_reply": "2022-02-13T22:57:50.330770Z"
    }
   },
   "outputs": [],
   "source": [
    "OnePiece.informatics.tensor.get_area([-1, 0, 1, 2])"
   ]
  },
  {
   "cell_type": "code",
   "execution_count": null,
   "id": "0b0a6acf",
   "metadata": {
    "execution": {
     "iopub.execute_input": "2022-02-13T22:57:50.333646Z",
     "iopub.status.busy": "2022-02-13T22:57:50.332737Z",
     "iopub.status.idle": "2022-02-13T22:57:50.335293Z",
     "shell.execute_reply": "2022-02-13T22:57:50.334782Z"
    }
   },
   "outputs": [],
   "source": [
    "OnePiece.informatics.tensor.get_area([-2, -1, 0, 0, 1, 2])"
   ]
  },
  {
   "cell_type": "markdown",
   "id": "db2118bf",
   "metadata": {},
   "source": [
    "## sum_where"
   ]
  },
  {
   "cell_type": "code",
   "execution_count": null,
   "id": "b00841ce",
   "metadata": {
    "execution": {
     "iopub.execute_input": "2022-02-13T22:57:50.337311Z",
     "iopub.status.busy": "2022-02-13T22:57:50.336834Z",
     "iopub.status.idle": "2022-02-13T22:57:50.352238Z",
     "shell.execute_reply": "2022-02-13T22:57:50.351877Z"
    }
   },
   "outputs": [],
   "source": [
    "OnePiece.informatics.tensor.sum_where([0, 1, 2, 3], [0, 1, 0, 1])"
   ]
  },
  {
   "cell_type": "markdown",
   "id": "2261bb12",
   "metadata": {},
   "source": [
    "## shift_minimum"
   ]
  },
  {
   "cell_type": "code",
   "execution_count": null,
   "id": "099a44b4",
   "metadata": {
    "execution": {
     "iopub.execute_input": "2022-02-13T22:57:50.354196Z",
     "iopub.status.busy": "2022-02-13T22:57:50.353659Z",
     "iopub.status.idle": "2022-02-13T22:57:50.361264Z",
     "shell.execute_reply": "2022-02-13T22:57:50.360779Z"
    }
   },
   "outputs": [],
   "source": [
    "ve = collect(-3:3)\n",
    "\n",
    ";"
   ]
  },
  {
   "cell_type": "code",
   "execution_count": null,
   "id": "9192de99",
   "metadata": {
    "execution": {
     "iopub.execute_input": "2022-02-13T22:57:50.363121Z",
     "iopub.status.busy": "2022-02-13T22:57:50.362645Z",
     "iopub.status.idle": "2022-02-13T22:57:50.527545Z",
     "shell.execute_reply": "2022-02-13T22:57:50.527209Z"
    }
   },
   "outputs": [],
   "source": [
    "for nu in ve\n",
    "\n",
    "    println(OnePiece.informatics.tensor.shift_minimum(ve, nu))\n",
    "\n",
    "end"
   ]
  },
  {
   "cell_type": "code",
   "execution_count": null,
   "id": "d72022be",
   "metadata": {
    "execution": {
     "iopub.execute_input": "2022-02-13T22:57:50.529708Z",
     "iopub.status.busy": "2022-02-13T22:57:50.529196Z",
     "iopub.status.idle": "2022-02-13T22:57:51.432878Z",
     "shell.execute_reply": "2022-02-13T22:57:51.432499Z"
    }
   },
   "outputs": [],
   "source": [
    "OnePiece.informatics.tensor.shift_minimum(ve, \"0<\")"
   ]
  },
  {
   "cell_type": "markdown",
   "id": "72451b86-b0f1-4adb-a304-4683ae46a94d",
   "metadata": {},
   "source": [
    "## cumulate_sum_reverse"
   ]
  },
  {
   "cell_type": "code",
   "execution_count": null,
   "id": "10a4d6f0-cfcc-4655-9aaa-9118fb5f77b5",
   "metadata": {
    "execution": {
     "iopub.execute_input": "2022-02-13T22:57:51.434990Z",
     "iopub.status.busy": "2022-02-13T22:57:51.434467Z",
     "iopub.status.idle": "2022-02-13T22:57:51.487939Z",
     "shell.execute_reply": "2022-02-13T22:57:51.487516Z"
    }
   },
   "outputs": [],
   "source": [
    "OnePiece.informatics.tensor.cumulate_sum_reverse(1:10)"
   ]
  },
  {
   "cell_type": "markdown",
   "id": "b4533356",
   "metadata": {},
   "source": [
    "## make_increasing_by_stepping_up!"
   ]
  },
  {
   "cell_type": "markdown",
   "id": "016b6206",
   "metadata": {},
   "source": [
    "## make_increasing_by_stepping_down!"
   ]
  },
  {
   "cell_type": "code",
   "execution_count": null,
   "id": "9e9bcd5b",
   "metadata": {
    "execution": {
     "iopub.execute_input": "2022-02-13T22:57:51.490062Z",
     "iopub.status.busy": "2022-02-13T22:57:51.489555Z",
     "iopub.status.idle": "2022-02-13T22:57:51.554069Z",
     "shell.execute_reply": "2022-02-13T22:57:51.553561Z"
    }
   },
   "outputs": [],
   "source": [
    "for ic_ in [[0, 1, 2], [0, 1, 2, 0], [0, 1, 2, 2, 1, 0, 1, 2, 3]]\n",
    "\n",
    "    println(\"-\"^99)\n",
    "\n",
    "    println(ic_)\n",
    "\n",
    "    println(OnePiece.informatics.tensor.make_increasing_by_stepping_up!(copy(ic_)))\n",
    "\n",
    "    println(OnePiece.informatics.tensor.make_increasing_by_stepping_down!(copy(ic_)))\n",
    "\n",
    "end"
   ]
  },
  {
   "cell_type": "markdown",
   "id": "3f396855",
   "metadata": {},
   "source": [
    "---"
   ]
  },
  {
   "cell_type": "code",
   "execution_count": null,
   "id": "b4af2023",
   "metadata": {
    "execution": {
     "iopub.execute_input": "2022-02-13T22:57:51.556377Z",
     "iopub.status.busy": "2022-02-13T22:57:51.555754Z",
     "iopub.status.idle": "2022-02-13T22:57:51.558288Z",
     "shell.execute_reply": "2022-02-13T22:57:51.557932Z"
    }
   },
   "outputs": [],
   "source": [
    "if isdir(TE)\n",
    "\n",
    "    rm(TE, recursive = true)\n",
    "\n",
    "    println(\"Removed \", TE, \".\")\n",
    "\n",
    "end"
   ]
  }
 ],
 "metadata": {
  "kernelspec": {
   "display_name": "Julia 1.7.2",
   "language": "julia",
   "name": "julia-1.7"
  },
  "language_info": {
   "file_extension": ".jl",
   "mimetype": "application/julia",
   "name": "julia",
   "version": "1.7.2"
  }
 },
 "nbformat": 4,
 "nbformat_minor": 5
}
