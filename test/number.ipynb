{
 "cells": [
  {
   "cell_type": "code",
   "execution_count": null,
   "id": "baf12f00",
   "metadata": {
    "execution": {
     "iopub.execute_input": "2022-08-17T13:50:15.964000Z",
     "iopub.status.busy": "2022-08-17T13:50:15.633000Z",
     "iopub.status.idle": "2022-08-17T13:50:20.530000Z",
     "shell.execute_reply": "2022-08-17T13:50:20.485000Z"
    }
   },
   "outputs": [],
   "source": [
    "using OnePiece"
   ]
  },
  {
   "cell_type": "markdown",
   "id": "6540eb5c",
   "metadata": {},
   "source": [
    "## fractionate"
   ]
  },
  {
   "cell_type": "code",
   "execution_count": null,
   "id": "fa72c273",
   "metadata": {
    "execution": {
     "iopub.execute_input": "2022-08-17T13:50:21.125000Z",
     "iopub.status.busy": "2022-08-17T13:50:20.546000Z",
     "iopub.status.idle": "2022-08-17T13:50:21.316000Z",
     "shell.execute_reply": "2022-08-17T13:50:21.316000Z"
    }
   },
   "outputs": [],
   "source": [
    "for it in 1:28\n",
    "\n",
    "    println(OnePiece.number.fractionate(it))\n",
    "\n",
    "end"
   ]
  }
 ],
 "metadata": {
  "kernelspec": {
   "display_name": "Julia 1.7.3",
   "language": "julia",
   "name": "julia-1.7"
  },
  "language_info": {
   "file_extension": ".jl",
   "mimetype": "application/julia",
   "name": "julia",
   "version": "1.7.3"
  }
 },
 "nbformat": 4,
 "nbformat_minor": 5
}
