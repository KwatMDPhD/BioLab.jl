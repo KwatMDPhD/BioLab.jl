{
 "cells": [
  {
   "cell_type": "code",
   "execution_count": null,
   "id": "baf12f00",
   "metadata": {
    "execution": {
     "iopub.execute_input": "2022-08-19T09:40:59.677000Z",
     "iopub.status.busy": "2022-08-19T09:40:59.326000Z",
     "iopub.status.idle": "2022-08-19T09:41:04.334000Z",
     "shell.execute_reply": "2022-08-19T09:41:04.287000Z"
    }
   },
   "outputs": [],
   "source": [
    "using OnePiece"
   ]
  },
  {
   "cell_type": "markdown",
   "id": "b658c637-c649-4d47-9664-7fac0d280d9c",
   "metadata": {},
   "source": [
    "## format"
   ]
  },
  {
   "cell_type": "code",
   "execution_count": null,
   "id": "ff320eb4-297e-41c1-80e6-0517394a4e56",
   "metadata": {
    "execution": {
     "iopub.execute_input": "2022-08-19T09:41:04.953000Z",
     "iopub.status.busy": "2022-08-19T09:41:04.351000Z",
     "iopub.status.idle": "2022-08-19T09:41:05.444000Z",
     "shell.execute_reply": "2022-08-19T09:41:05.444000Z"
    }
   },
   "outputs": [],
   "source": [
    "for nu in [-0, 0, -0.0, 0.0, 1 / 3, 0.1234567890123456789]\n",
    "\n",
    "    println(OnePiece.number.format(nu))\n",
    "\n",
    "end"
   ]
  },
  {
   "cell_type": "markdown",
   "id": "6540eb5c",
   "metadata": {},
   "source": [
    "## fractionate"
   ]
  },
  {
   "cell_type": "code",
   "execution_count": null,
   "id": "fa72c273",
   "metadata": {
    "execution": {
     "iopub.execute_input": "2022-08-19T09:41:05.447000Z",
     "iopub.status.busy": "2022-08-19T09:41:05.447000Z",
     "iopub.status.idle": "2022-08-19T09:41:05.591000Z",
     "shell.execute_reply": "2022-08-19T09:41:05.591000Z"
    }
   },
   "outputs": [],
   "source": [
    "for it in 1:28\n",
    "\n",
    "    println(OnePiece.number.fractionate(it))\n",
    "\n",
    "end"
   ]
  }
 ],
 "metadata": {
  "kernelspec": {
   "display_name": "Julia 1.7.3",
   "language": "julia",
   "name": "julia-1.7"
  },
  "language_info": {
   "file_extension": ".jl",
   "mimetype": "application/julia",
   "name": "julia",
   "version": "1.7.3"
  }
 },
 "nbformat": 4,
 "nbformat_minor": 5
}
