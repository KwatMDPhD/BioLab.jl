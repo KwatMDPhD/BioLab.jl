{
 "cells": [
  {
   "cell_type": "code",
   "execution_count": null,
   "id": "baf12f00",
   "metadata": {
    "execution": {
     "iopub.execute_input": "2022-08-25T17:21:50.409000Z",
     "iopub.status.busy": "2022-08-25T17:21:49.919000Z",
     "iopub.status.idle": "2022-08-25T17:21:57.245000Z",
     "shell.execute_reply": "2022-08-25T17:21:57.204000Z"
    }
   },
   "outputs": [],
   "source": [
    "using OnePiece"
   ]
  },
  {
   "cell_type": "markdown",
   "id": "b658c637-c649-4d47-9664-7fac0d280d9c",
   "metadata": {},
   "source": [
    "## format"
   ]
  },
  {
   "cell_type": "code",
   "execution_count": null,
   "id": "ff320eb4-297e-41c1-80e6-0517394a4e56",
   "metadata": {
    "execution": {
     "iopub.execute_input": "2022-08-25T17:21:57.431000Z",
     "iopub.status.busy": "2022-08-25T17:21:57.248000Z",
     "iopub.status.idle": "2022-08-25T17:21:57.915000Z",
     "shell.execute_reply": "2022-08-25T17:21:57.915000Z"
    }
   },
   "outputs": [],
   "source": [
    "for nu in [-0, 0, -0.0, 0.0, 1 / 3, 0.1234567890123456789]\n",
    "\n",
    "    println(OnePiece.number.format(nu))\n",
    "\n",
    "end"
   ]
  },
  {
   "cell_type": "markdown",
   "id": "6540eb5c",
   "metadata": {},
   "source": [
    "## fractionate"
   ]
  },
  {
   "cell_type": "code",
   "execution_count": null,
   "id": "fa72c273",
   "metadata": {
    "execution": {
     "iopub.execute_input": "2022-08-25T17:21:57.918000Z",
     "iopub.status.busy": "2022-08-25T17:21:57.918000Z",
     "iopub.status.idle": "2022-08-25T17:21:58.101000Z",
     "shell.execute_reply": "2022-08-25T17:21:58.101000Z"
    }
   },
   "outputs": [],
   "source": [
    "for it in 1:28\n",
    "\n",
    "    println(OnePiece.number.fractionate(it))\n",
    "\n",
    "end"
   ]
  }
 ],
 "metadata": {
  "kernelspec": {
   "display_name": "Julia 1.7.3",
   "language": "julia",
   "name": "julia-1.8"
  },
  "language_info": {
   "file_extension": ".jl",
   "mimetype": "application/julia",
   "name": "julia",
   "version": "1.8.0"
  }
 },
 "nbformat": 4,
 "nbformat_minor": 5
}
