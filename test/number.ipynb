{
 "cells": [
  {
   "cell_type": "code",
   "execution_count": 1,
   "id": "baf12f00",
   "metadata": {
    "execution": {
     "iopub.execute_input": "2022-08-10T21:39:44.034000Z",
     "iopub.status.busy": "2022-08-10T21:39:43.704000Z",
     "iopub.status.idle": "2022-08-10T21:39:48.178000Z",
     "shell.execute_reply": "2022-08-10T21:39:48.134000Z"
    }
   },
   "outputs": [],
   "source": [
    "using OnePiece"
   ]
  },
  {
   "cell_type": "markdown",
   "id": "6540eb5c",
   "metadata": {},
   "source": [
    "## fractionate"
   ]
  },
  {
   "cell_type": "code",
   "execution_count": 2,
   "id": "fa72c273",
   "metadata": {
    "execution": {
     "iopub.execute_input": "2022-08-10T21:39:48.650000Z",
     "iopub.status.busy": "2022-08-10T21:39:48.194000Z",
     "iopub.status.idle": "2022-08-10T21:39:48.840000Z",
     "shell.execute_reply": "2022-08-10T21:39:48.839000Z"
    }
   },
   "outputs": [
    {
     "name": "stdout",
     "output_type": "stream",
     "text": [
      "0.1\n",
      "0.2\n",
      "0.3\n",
      "0.4\n",
      "0.5\n",
      "0.6\n",
      "0.7\n",
      "0.8\n",
      "0.9\n",
      "0.91\n",
      "0.92\n",
      "0.93\n",
      "0.94\n",
      "0.95\n",
      "0.96\n",
      "0.97\n",
      "0.98\n",
      "0.99\n",
      "0.991\n",
      "0.992\n",
      "0.993\n",
      "0.994\n",
      "0.995\n",
      "0.996\n",
      "0.997\n",
      "0.998\n",
      "0.999\n",
      "0.9991\n"
     ]
    }
   ],
   "source": [
    "for it in 1:28\n",
    "\n",
    "    println(OnePiece.number.fractionate(it))\n",
    "\n",
    "end"
   ]
  }
 ],
 "metadata": {
  "kernelspec": {
   "display_name": "Julia 1.7.3",
   "language": "julia",
   "name": "julia-1.7"
  },
  "language_info": {
   "file_extension": ".jl",
   "mimetype": "application/julia",
   "name": "julia",
   "version": "1.7.3"
  }
 },
 "nbformat": 4,
 "nbformat_minor": 5
}
