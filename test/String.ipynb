{
 "cells": [
  {
   "outputs": [],
   "cell_type": "code",
   "source": [
    "include(\"_.jl\")"
   ],
   "id": "baf12f00",
   "metadata": {},
   "execution_count": null
  },
  {
   "cell_type": "markdown",
   "source": [
    "## limit"
   ],
   "id": "3a7240d3-c659-4939-b7ec-ccf6fd1f135e",
   "metadata": {}
  },
  {
   "outputs": [],
   "cell_type": "code",
   "source": [
    "st = \"Can\"\n",
    "\n",
    "for (n, re) in ((1, \"C...\"), (2, \"Ca...\"), (3, \"Can\"), (4, \"Can\"))\n",
    "\n",
    "    BioLab.print_header(n)\n",
    "\n",
    "    @test BioLab.String.limit(st, n) == re\n",
    "\n",
    "    @code_warntype BioLab.String.limit(st, n)\n",
    "\n",
    "    # 40.616 ns (2 allocations: 48 bytes)\n",
    "    # 40.657 ns (2 allocations: 48 bytes)\n",
    "    # 6.708 ns (0 allocations: 0 bytes)\n",
    "    # 6.750 ns (0 allocations: 0 bytes)\n",
    "    @btime BioLab.String.limit($st, $n)\n",
    "\n",
    "end"
   ],
   "id": "cce0a17e-1b97-4016-a57c-6acc2e333289",
   "metadata": {},
   "execution_count": null
  },
  {
   "cell_type": "markdown",
   "source": [
    "## count_noun"
   ],
   "id": "ddb4336a-9c0c-4026-99f7-b09248d79593",
   "metadata": {}
  },
  {
   "outputs": [],
   "cell_type": "code",
   "source": [
    "for (no, re) in (\n",
    "    (\"vertex\", \"vertices\"),\n",
    "    (\"edge\", \"edges\"),\n",
    "    (\"sex\", \"sexes\"),\n",
    "    (\"country\", \"countries\"),\n",
    "    (\"hero\", \"heroes\"),\n",
    ")\n",
    "\n",
    "    BioLab.print_header(no)\n",
    "\n",
    "    @test BioLab.String.count_noun(1, no) == \"1 $no\"\n",
    "\n",
    "    n = 2\n",
    "\n",
    "    @test BioLab.String.count_noun(n, no) == \"$n $re\"\n",
    "\n",
    "    @code_warntype BioLab.String.count_noun(n, no)\n",
    "\n",
    "    # 1.762 μs (12 allocations: 560 bytes)\n",
    "    # 4.554 μs (11 allocations: 416 bytes)\n",
    "    # 144.806 ns (6 allocations: 272 bytes)\n",
    "    # 3.172 μs (14 allocations: 656 bytes)\n",
    "    # 4.548 μs (16 allocations: 664 bytes)\n",
    "    @btime BioLab.String.count_noun($n, $no)\n",
    "\n",
    "end"
   ],
   "id": "3fe9101d-0b30-4040-99c9-72e77367066b",
   "metadata": {},
   "execution_count": null
  },
  {
   "cell_type": "markdown",
   "source": [
    "## title"
   ],
   "id": "faaebfdf-6a12-4add-a9ad-e26bd37c4dcb",
   "metadata": {}
  },
  {
   "outputs": [],
   "cell_type": "code",
   "source": [
    "for (st, re) in (\n",
    "    (\"aa\", \"Aa\"),\n",
    "    (\"DNA\", \"DNA\"),\n",
    "    (\"Hello world!\", \"Hello World!\"),\n",
    "    (\"SARS-COVID-2\", \"SARS-COVID-2\"),\n",
    "    (\"This is an apple\", \"This Is an Apple\"),\n",
    "    (\"i'm a man\", \"I'm a Man\"),\n",
    ")\n",
    "\n",
    "    BioLab.print_header(st)\n",
    "\n",
    "    @test BioLab.String.title(st) == re\n",
    "\n",
    "    @code_warntype BioLab.String.title(st)\n",
    "\n",
    "    # 4.476 μs (215 allocations: 11.55 KiB)\n",
    "    # 4.661 μs (218 allocations: 11.64 KiB)\n",
    "    # 5.611 μs (245 allocations: 12.46 KiB)\n",
    "    # 5.681 μs (245 allocations: 12.46 KiB)\n",
    "    # 6.242 μs (265 allocations: 13.33 KiB)\n",
    "    # 5.590 μs (252 allocations: 13.12 KiB)\n",
    "    @btime BioLab.String.title($st)\n",
    "\n",
    "end"
   ],
   "id": "4a641135",
   "metadata": {},
   "execution_count": null
  },
  {
   "cell_type": "markdown",
   "source": [
    "## split_and_get"
   ],
   "id": "80e25549-9d46-490d-9f1d-d93e2650a56a",
   "metadata": {}
  },
  {
   "outputs": [],
   "cell_type": "code",
   "source": [
    "st = join('a':'z', '.')\n",
    "\n",
    "de = '.'\n",
    "\n",
    "for (id, re) in ((1, \"a\"), (16, \"p\"), (26, \"z\"))\n",
    "\n",
    "    BioLab.print_header(id)\n",
    "\n",
    "    @test BioLab.String.split_and_get(st, de, id) == re\n",
    "\n",
    "    @code_warntype BioLab.String.split_and_get(st, de, id)\n",
    "\n",
    "    # 76.260 ns (2 allocations: 272 bytes)\n",
    "    # 404.375 ns (3 allocations: 1.25 KiB)\n",
    "    # 586.785 ns (3 allocations: 1.25 KiB)\n",
    "    @btime BioLab.String.split_and_get($st, $de, $id)\n",
    "\n",
    "end"
   ],
   "id": "e8c365fe-5ff9-4783-9c97-7d2283745525",
   "metadata": {},
   "execution_count": null
  },
  {
   "cell_type": "markdown",
   "source": [
    "## remove_common_prefix"
   ],
   "id": "4f555b8b",
   "metadata": {}
  },
  {
   "outputs": [],
   "cell_type": "code",
   "source": [
    "for (st_, re) in (\n",
    "    [(\"\", \"\", \"\"), [\"\", \"\", \"\"]],\n",
    "    [(\"kate\",), [\"\"]],\n",
    "    [(\"kate\", \"katana\"), [\"e\", \"ana\"]],\n",
    "    [(\"kate\", \"kwat\"), [\"ate\", \"wat\"]],\n",
    "    [(\"kate\", \"kwat\", \"kazakh\"), [\"ate\", \"wat\", \"azakh\"]],\n",
    "    [(\"a\", \"ab\", \"abc\"), [\"\", \"b\", \"bc\"]],\n",
    "    [(\"abc\", \"ab\", \"a\"), [\"bc\", \"b\", \"\"]],\n",
    ")\n",
    "\n",
    "    BioLab.print_header(st_)\n",
    "\n",
    "    @test BioLab.String.remove_common_prefix(st_) == re\n",
    "\n",
    "    @code_warntype BioLab.String.remove_common_prefix(st_)\n",
    "\n",
    "    # 265.106 ns (7 allocations: 304 bytes)\n",
    "    # 1.163 μs (20 allocations: 584 bytes)\n",
    "    # 1.283 μs (22 allocations: 792 bytes)\n",
    "    # 799.638 ns (16 allocations: 568 bytes)\n",
    "    # 857.246 ns (17 allocations: 624 bytes)\n",
    "    # 612.310 ns (13 allocations: 488 bytes)\n",
    "    # 613.023 ns (13 allocations: 488 bytes)\n",
    "    @btime BioLab.String.remove_common_prefix($st_)\n",
    "\n",
    "end"
   ],
   "id": "35c1007b",
   "metadata": {},
   "execution_count": null
  },
  {
   "cell_type": "markdown",
   "source": [
    "## transplant"
   ],
   "id": "9103da59",
   "metadata": {}
  },
  {
   "outputs": [],
   "cell_type": "code",
   "source": [
    "st1 = \"A--BB--CCC\"\n",
    "\n",
    "de = \"--\"\n",
    "\n",
    "id_ = (1, 2, 1)\n",
    "\n",
    "@test @check_error BioLab.String.transplant(st1, \"a--bb\", de, id_)\n",
    "\n",
    "st2 = \"a--bb--ccc\"\n",
    "\n",
    "@test BioLab.String.transplant(st1, st2, de, id_) == \"A--bb--CCC\"\n",
    "\n",
    "@code_warntype BioLab.String.transplant(st1, st2, de, id_)\n",
    "\n",
    "# 474.913 ns (24 allocations: 1.73 KiB)\n",
    "@btime BioLab.String.transplant($st1, $st2, $de, $id_)"
   ],
   "id": "62f9f0c5-b146-4821-a23e-b74329b2e5c8",
   "metadata": {},
   "execution_count": null
  }
 ],
 "nbformat_minor": 5,
 "metadata": {
  "language_info": {
   "file_extension": ".jl",
   "mimetype": "application/julia",
   "name": "julia",
   "version": "1.8.5"
  },
  "@webio": {
   "lastKernelId": null,
   "lastCommId": null
  },
  "kernelspec": {
   "name": "julia-1.8",
   "display_name": "Julia 1.8.5",
   "language": "julia"
  }
 },
 "nbformat": 4
}
