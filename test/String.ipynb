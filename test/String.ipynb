{
 "cells": [
  {
   "cell_type": "code",
   "execution_count": null,
   "id": "baf12f00",
   "metadata": {},
   "outputs": [],
   "source": [
    "using OnePiece"
   ]
  },
  {
   "cell_type": "markdown",
   "id": "7a35a068-3dbb-46fb-a956-203c61fccce4",
   "metadata": {},
   "source": [
    "## count_noun"
   ]
  },
  {
   "cell_type": "code",
   "execution_count": null,
   "id": "63dad167-5d4b-45f0-a40c-59f041b0d120",
   "metadata": {},
   "outputs": [],
   "source": [
    "no_ = [\"vertex\", \"edge\", \"sex\", \"country\", \"hero\"]\n",
    "\n",
    "for no in no_\n",
    "\n",
    "    for n in [1, 2]\n",
    "\n",
    "        println(OnePiece.String.count_noun(n, no))\n",
    "\n",
    "    end\n",
    "\n",
    "end"
   ]
  },
  {
   "cell_type": "markdown",
   "id": "4f555b8b",
   "metadata": {},
   "source": [
    "## remove_common_prefix"
   ]
  },
  {
   "cell_type": "code",
   "execution_count": null,
   "id": "35c1007b",
   "metadata": {},
   "outputs": [],
   "source": [
    "for st_ in [\n",
    "    [\"\", \"\", \"\"],\n",
    "    [\"kate\"],\n",
    "    [\"kate\", \"katana\"],\n",
    "    [\"kate\", \"kwat\"],\n",
    "    [\"kate\", \"kwat\", \"kazakh\"],\n",
    "    [\"a\", \"ab\", \"abc\"],\n",
    "    [\"abc\", \"ab\", \"a\"],\n",
    "]\n",
    "\n",
    "    println(OnePiece.String.remove_common_prefix(st_))\n",
    "\n",
    "end"
   ]
  },
  {
   "cell_type": "markdown",
   "id": "dd5f6cae-0cc1-4f43-940e-9cadf810492c",
   "metadata": {},
   "source": [
    "## split_and_get"
   ]
  },
  {
   "cell_type": "code",
   "execution_count": null,
   "id": "bf229de0-f637-4724-a4a5-e8ab106a9ee8",
   "metadata": {},
   "outputs": [],
   "source": [
    "for id in [1, 2]\n",
    "\n",
    "    OnePiece.String.split_and_get(\"x.y.z\", \".\", id)\n",
    "\n",
    "end"
   ]
  },
  {
   "cell_type": "markdown",
   "id": "fdc7094b",
   "metadata": {},
   "source": [
    "## title"
   ]
  },
  {
   "cell_type": "code",
   "execution_count": null,
   "id": "4a641135",
   "metadata": {},
   "outputs": [],
   "source": [
    "for st in [\"aa\", \"DNA\", \"Hello world!\", \"SARS-COVID-2\", \"This is an apple\"]\n",
    "\n",
    "    println(\"$st ==> $(OnePiece.String.title(st))\")\n",
    "\n",
    "end"
   ]
  },
  {
   "cell_type": "markdown",
   "id": "9103da59",
   "metadata": {},
   "source": [
    "## transplant"
   ]
  },
  {
   "cell_type": "code",
   "execution_count": null,
   "id": "685bc10f",
   "metadata": {},
   "outputs": [],
   "source": [
    "st1 = \"A--BB--CCC\"\n",
    "\n",
    "st2 = \"a--bb--ccc\"\n",
    "\n",
    "de = \"--\"\n",
    "\n",
    "OnePiece.String.transplant(st1, st2, de, [1, 2, 1])"
   ]
  }
 ],
 "metadata": {
  "@webio": {
   "lastCommId": null,
   "lastKernelId": null
  },
  "kernelspec": {
   "display_name": "Julia 1.8.2",
   "language": "julia",
   "name": "julia-1.8"
  },
  "language_info": {
   "file_extension": ".jl",
   "mimetype": "application/julia",
   "name": "julia",
   "version": "1.8.2"
  }
 },
 "nbformat": 4,
 "nbformat_minor": 5
}
