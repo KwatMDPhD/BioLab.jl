{
 "cells": [
  {
   "cell_type": "code",
   "execution_count": null,
   "id": "baf12f00",
   "metadata": {
    "execution": {
     "iopub.execute_input": "2023-02-23T14:57:49.189000Z",
     "iopub.status.busy": "2023-02-23T14:57:48.914000Z",
     "iopub.status.idle": "2023-02-23T14:57:53.098000Z",
     "shell.execute_reply": "2023-02-23T14:57:53.075000Z"
    }
   },
   "outputs": [],
   "source": [
    "include(\"_.jl\")"
   ]
  },
  {
   "cell_type": "markdown",
   "id": "dd97cec4-27fc-4ca9-bcd7-66495348a103",
   "metadata": {},
   "source": [
    "## print_header"
   ]
  },
  {
   "cell_type": "code",
   "execution_count": null,
   "id": "2943f862-b8f8-4a86-ba66-ab02d7a83979",
   "metadata": {
    "execution": {
     "iopub.execute_input": "2023-02-23T14:57:53.268000Z",
     "iopub.status.busy": "2023-02-23T14:57:53.100000Z",
     "iopub.status.idle": "2023-02-23T14:57:55.455000Z",
     "shell.execute_reply": "2023-02-23T14:57:55.455000Z"
    }
   },
   "outputs": [],
   "source": [
    "BioLab.String.print_header()\n",
    "\n",
    "st = \"Hello World!\"\n",
    "\n",
    "BioLab.String.print_header(st)\n",
    "\n",
    "@code_warntype BioLab.String.print_header(st)"
   ]
  },
  {
   "cell_type": "markdown",
   "id": "3a7240d3-c659-4939-b7ec-ccf6fd1f135e",
   "metadata": {},
   "source": [
    "## limit"
   ]
  },
  {
   "cell_type": "code",
   "execution_count": null,
   "id": "cce0a17e-1b97-4016-a57c-6acc2e333289",
   "metadata": {
    "execution": {
     "iopub.execute_input": "2023-02-23T14:57:55.456000Z",
     "iopub.status.busy": "2023-02-23T14:57:55.456000Z",
     "iopub.status.idle": "2023-02-23T14:57:55.754000Z",
     "shell.execute_reply": "2023-02-23T14:57:55.754000Z"
    }
   },
   "outputs": [],
   "source": [
    "st = \"Can\"\n",
    "\n",
    "for (n, re) in ((1, \"C...\"), (2, \"Ca...\"), (3, \"Can\"), (4, \"Can\"))\n",
    "\n",
    "    BioLab.String.print_header(n)\n",
    "\n",
    "    @test BioLab.String.limit(st, n) == re\n",
    "\n",
    "    @code_warntype BioLab.String.limit(st, n)\n",
    "\n",
    "    # 40.616 ns (2 allocations: 48 bytes)\n",
    "    # 40.657 ns (2 allocations: 48 bytes)\n",
    "    # 6.708 ns (0 allocations: 0 bytes)\n",
    "    # 6.750 ns (0 allocations: 0 bytes)\n",
    "    # @btime BioLab.String.limit($st, $n)\n",
    "\n",
    "end"
   ]
  },
  {
   "cell_type": "markdown",
   "id": "ddb4336a-9c0c-4026-99f7-b09248d79593",
   "metadata": {},
   "source": [
    "## count_noun"
   ]
  },
  {
   "cell_type": "code",
   "execution_count": null,
   "id": "3fe9101d-0b30-4040-99c9-72e77367066b",
   "metadata": {
    "execution": {
     "iopub.execute_input": "2023-02-23T14:57:55.755000Z",
     "iopub.status.busy": "2023-02-23T14:57:55.755000Z",
     "iopub.status.idle": "2023-02-23T14:57:56.215000Z",
     "shell.execute_reply": "2023-02-23T14:57:56.215000Z"
    }
   },
   "outputs": [],
   "source": [
    "for (no, re) in (\n",
    "    (\"vertex\", \"vertices\"),\n",
    "    (\"edge\", \"edges\"),\n",
    "    (\"sex\", \"sexes\"),\n",
    "    (\"country\", \"countries\"),\n",
    "    (\"hero\", \"heroes\"),\n",
    ")\n",
    "\n",
    "    BioLab.String.print_header(no)\n",
    "\n",
    "    @test BioLab.String.count_noun(1, no) == \"1 $no\"\n",
    "\n",
    "    n = 2\n",
    "\n",
    "    @test BioLab.String.count_noun(n, no) == \"$n $re\"\n",
    "\n",
    "    @code_warntype BioLab.String.count_noun(n, no)\n",
    "\n",
    "    # 1.762 μs (12 allocations: 560 bytes)\n",
    "    # 4.554 μs (11 allocations: 416 bytes)\n",
    "    # 144.806 ns (6 allocations: 272 bytes)\n",
    "    # 3.172 μs (14 allocations: 656 bytes)\n",
    "    # 4.548 μs (16 allocations: 664 bytes)\n",
    "    # @btime BioLab.String.count_noun($n, $no)\n",
    "\n",
    "end"
   ]
  },
  {
   "cell_type": "markdown",
   "id": "faaebfdf-6a12-4add-a9ad-e26bd37c4dcb",
   "metadata": {},
   "source": [
    "## title"
   ]
  },
  {
   "cell_type": "code",
   "execution_count": null,
   "id": "4a641135",
   "metadata": {
    "execution": {
     "iopub.execute_input": "2023-02-23T14:57:56.216000Z",
     "iopub.status.busy": "2023-02-23T14:57:56.216000Z",
     "iopub.status.idle": "2023-02-23T14:57:56.428000Z",
     "shell.execute_reply": "2023-02-23T14:57:56.428000Z"
    }
   },
   "outputs": [],
   "source": [
    "for (st, re) in (\n",
    "    (\"aa\", \"Aa\"),\n",
    "    (\"DNA\", \"DNA\"),\n",
    "    (\"Hello world!\", \"Hello World!\"),\n",
    "    (\"SARS-COVID-2\", \"SARS-COVID-2\"),\n",
    "    (\"This is an apple\", \"This Is an Apple\"),\n",
    "    (\"i'm a man\", \"I'm a Man\"),\n",
    ")\n",
    "\n",
    "    BioLab.String.print_header(st)\n",
    "\n",
    "    @test BioLab.String.title(st) == re\n",
    "\n",
    "    @code_warntype BioLab.String.title(st)\n",
    "\n",
    "    # 4.476 μs (215 allocations: 11.55 KiB)\n",
    "    # 4.661 μs (218 allocations: 11.64 KiB)\n",
    "    # 5.611 μs (245 allocations: 12.46 KiB)\n",
    "    # 5.681 μs (245 allocations: 12.46 KiB)\n",
    "    # 6.242 μs (265 allocations: 13.33 KiB)\n",
    "    # 5.590 μs (252 allocations: 13.12 KiB)\n",
    "    # @btime BioLab.String.title($st)\n",
    "\n",
    "end"
   ]
  },
  {
   "cell_type": "markdown",
   "id": "80e25549-9d46-490d-9f1d-d93e2650a56a",
   "metadata": {},
   "source": [
    "## split_and_get"
   ]
  },
  {
   "cell_type": "code",
   "execution_count": null,
   "id": "e8c365fe-5ff9-4783-9c97-7d2283745525",
   "metadata": {
    "execution": {
     "iopub.execute_input": "2023-02-23T14:57:56.429000Z",
     "iopub.status.busy": "2023-02-23T14:57:56.429000Z",
     "iopub.status.idle": "2023-02-23T14:57:56.516000Z",
     "shell.execute_reply": "2023-02-23T14:57:56.516000Z"
    }
   },
   "outputs": [],
   "source": [
    "st = join('a':'z', '.')\n",
    "\n",
    "de = '.'\n",
    "\n",
    "for (id, re) in ((1, \"a\"), (16, \"p\"), (26, \"z\"))\n",
    "\n",
    "    BioLab.String.print_header(id)\n",
    "\n",
    "    @test BioLab.String.split_and_get(st, de, id) == re\n",
    "\n",
    "    @code_warntype BioLab.String.split_and_get(st, de, id)\n",
    "\n",
    "    # 76.260 ns (2 allocations: 272 bytes)\n",
    "    # 404.375 ns (3 allocations: 1.25 KiB)\n",
    "    # 586.785 ns (3 allocations: 1.25 KiB)\n",
    "    # @btime BioLab.String.split_and_get($st, $de, $id)\n",
    "\n",
    "end"
   ]
  },
  {
   "cell_type": "markdown",
   "id": "4f555b8b",
   "metadata": {},
   "source": [
    "## remove_common_prefix"
   ]
  },
  {
   "cell_type": "code",
   "execution_count": null,
   "id": "35c1007b",
   "metadata": {
    "execution": {
     "iopub.execute_input": "2023-02-23T14:57:56.517000Z",
     "iopub.status.busy": "2023-02-23T14:57:56.517000Z",
     "iopub.status.idle": "2023-02-23T14:57:56.983000Z",
     "shell.execute_reply": "2023-02-23T14:57:56.983000Z"
    }
   },
   "outputs": [],
   "source": [
    "for (st_, re) in (\n",
    "    [(\"\", \"\", \"\"), [\"\", \"\", \"\"]],\n",
    "    [(\"kate\",), [\"\"]],\n",
    "    [(\"kate\", \"katana\"), [\"e\", \"ana\"]],\n",
    "    [(\"kate\", \"kwat\"), [\"ate\", \"wat\"]],\n",
    "    [(\"kate\", \"kwat\", \"kazakh\"), [\"ate\", \"wat\", \"azakh\"]],\n",
    "    [(\"a\", \"ab\", \"abc\"), [\"\", \"b\", \"bc\"]],\n",
    "    [(\"abc\", \"ab\", \"a\"), [\"bc\", \"b\", \"\"]],\n",
    ")\n",
    "\n",
    "    BioLab.String.print_header(st_)\n",
    "\n",
    "    @test BioLab.String.remove_common_prefix(st_) == re\n",
    "\n",
    "    @code_warntype BioLab.String.remove_common_prefix(st_)\n",
    "\n",
    "    # 265.106 ns (7 allocations: 304 bytes)\n",
    "    # 1.163 μs (20 allocations: 584 bytes)\n",
    "    # 1.283 μs (22 allocations: 792 bytes)\n",
    "    # 799.638 ns (16 allocations: 568 bytes)\n",
    "    # 857.246 ns (17 allocations: 624 bytes)\n",
    "    # 612.310 ns (13 allocations: 488 bytes)\n",
    "    # 613.023 ns (13 allocations: 488 bytes)\n",
    "    # @btime BioLab.String.remove_common_prefix($st_)\n",
    "\n",
    "end"
   ]
  },
  {
   "cell_type": "markdown",
   "id": "9103da59",
   "metadata": {},
   "source": [
    "## transplant"
   ]
  },
  {
   "cell_type": "code",
   "execution_count": null,
   "id": "62f9f0c5-b146-4821-a23e-b74329b2e5c8",
   "metadata": {
    "execution": {
     "iopub.execute_input": "2023-02-23T14:57:56.985000Z",
     "iopub.status.busy": "2023-02-23T14:57:56.985000Z",
     "iopub.status.idle": "2023-02-23T14:57:57.510000Z",
     "shell.execute_reply": "2023-02-23T14:57:57.510000Z"
    }
   },
   "outputs": [],
   "source": [
    "st1 = \"A--BB--CCC\"\n",
    "\n",
    "de = \"--\"\n",
    "\n",
    "id_ = (1, 2, 1)\n",
    "\n",
    "@test @check_error BioLab.String.transplant(st1, \"a--bb\", de, id_)\n",
    "\n",
    "st2 = \"a--bb--ccc\"\n",
    "\n",
    "@test BioLab.String.transplant(st1, st2, de, id_) == \"A--bb--CCC\"\n",
    "\n",
    "@code_warntype BioLab.String.transplant(st1, st2, de, id_)\n",
    "\n",
    "# 474.913 ns (24 allocations: 1.73 KiB)\n",
    "# @btime BioLab.String.transplant($st1, $st2, $de, $id_)"
   ]
  }
 ],
 "metadata": {
  "@webio": {
   "lastCommId": null,
   "lastKernelId": null
  },
  "kernelspec": {
   "display_name": "Julia 1.8.5",
   "language": "julia",
   "name": "julia-1.8"
  },
  "language_info": {
   "file_extension": ".jl",
   "mimetype": "application/julia",
   "name": "julia",
   "version": "1.8.5"
  }
 },
 "nbformat": 4,
 "nbformat_minor": 5
}
