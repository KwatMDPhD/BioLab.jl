{
 "cells": [
  {
   "outputs": [],
   "cell_type": "code",
   "source": [
    "using BioLab"
   ],
   "id": "baf12f00",
   "metadata": {},
   "execution_count": null
  },
  {
   "cell_type": "markdown",
   "source": [
    "## count_noun"
   ],
   "id": "7a35a068-3dbb-46fb-a956-203c61fccce4",
   "metadata": {}
  },
  {
   "outputs": [],
   "cell_type": "code",
   "source": [
    "for no in (\"vertex\", \"edge\", \"sex\", \"country\", \"hero\")\n",
    "\n",
    "    for n in (1, 2)\n",
    "\n",
    "        println(\"$n $(BioLab.String.count_noun(n, no))\")\n",
    "\n",
    "    end\n",
    "\n",
    "end"
   ],
   "id": "63dad167-5d4b-45f0-a40c-59f041b0d120",
   "metadata": {},
   "execution_count": null
  },
  {
   "cell_type": "markdown",
   "source": [
    "## remove_common_prefix"
   ],
   "id": "4f555b8b",
   "metadata": {}
  },
  {
   "outputs": [],
   "cell_type": "code",
   "source": [
    "for st_ in (\n",
    "    (\"\", \"\", \"\"),\n",
    "    (\"kate\",),\n",
    "    (\"kate\", \"katana\"),\n",
    "    (\"kate\", \"kwat\"),\n",
    "    (\"kate\", \"kwat\", \"kazakh\"),\n",
    "    (\"a\", \"ab\", \"abc\"),\n",
    "    (\"abc\", \"ab\", \"a\"),\n",
    ")\n",
    "\n",
    "    println(BioLab.String.remove_common_prefix(st_))\n",
    "\n",
    "end"
   ],
   "id": "35c1007b",
   "metadata": {},
   "execution_count": null
  },
  {
   "cell_type": "markdown",
   "source": [
    "## split_and_get"
   ],
   "id": "dd5f6cae-0cc1-4f43-940e-9cadf810492c",
   "metadata": {}
  },
  {
   "outputs": [],
   "cell_type": "code",
   "source": [
    "for id in (1, 2, 3)\n",
    "\n",
    "    println(BioLab.String.split_and_get(\"x.y.z\", \".\", id))\n",
    "\n",
    "end"
   ],
   "id": "bf229de0-f637-4724-a4a5-e8ab106a9ee8",
   "metadata": {},
   "execution_count": null
  },
  {
   "cell_type": "markdown",
   "source": [
    "## title"
   ],
   "id": "fdc7094b",
   "metadata": {}
  },
  {
   "outputs": [],
   "cell_type": "code",
   "source": [
    "for st in (\"aa\", \"DNA\", \"Hello world!\", \"SARS-COVID-2\", \"This is an apple\")\n",
    "\n",
    "    println(\"$st ==> $(BioLab.String.title(st))\")\n",
    "\n",
    "end"
   ],
   "id": "4a641135",
   "metadata": {},
   "execution_count": null
  },
  {
   "cell_type": "markdown",
   "source": [
    "## transplant"
   ],
   "id": "9103da59",
   "metadata": {}
  },
  {
   "outputs": [],
   "cell_type": "code",
   "source": [
    "st1 = \"A--BB--CCC\"\n",
    "\n",
    "st2 = \"a--bb--ccc\"\n",
    "\n",
    "de = \"--\"\n",
    "\n",
    "BioLab.String.transplant(st1, st2, de, (1, 2, 1))"
   ],
   "id": "62f9f0c5-b146-4821-a23e-b74329b2e5c8",
   "metadata": {},
   "execution_count": null
  }
 ],
 "nbformat_minor": 5,
 "metadata": {
  "language_info": {
   "file_extension": ".jl",
   "mimetype": "application/julia",
   "name": "julia",
   "version": "1.8.3"
  },
  "@webio": {
   "lastKernelId": null,
   "lastCommId": null
  },
  "kernelspec": {
   "name": "julia-1.8",
   "display_name": "Julia 1.8.2",
   "language": "julia"
  }
 },
 "nbformat": 4
}
