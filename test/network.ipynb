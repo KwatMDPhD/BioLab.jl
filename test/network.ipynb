{
 "cells": [
  {
   "cell_type": "code",
   "execution_count": 1,
   "id": "baf12f00",
   "metadata": {
    "execution": {
     "iopub.execute_input": "2022-08-10T10:53:47.352000Z",
     "iopub.status.busy": "2022-08-10T10:53:46.967000Z",
     "iopub.status.idle": "2022-08-10T10:53:52.103000Z",
     "shell.execute_reply": "2022-08-10T10:53:52.048000Z"
    }
   },
   "outputs": [],
   "source": [
    "using OnePiece"
   ]
  },
  {
   "cell_type": "code",
   "execution_count": 2,
   "id": "2f9e69a3",
   "metadata": {
    "execution": {
     "iopub.execute_input": "2022-08-10T10:53:52.540000Z",
     "iopub.status.busy": "2022-08-10T10:53:52.121000Z",
     "iopub.status.idle": "2022-08-10T10:53:53.370000Z",
     "shell.execute_reply": "2022-08-10T10:53:53.369000Z"
    }
   },
   "outputs": [
    {
     "data": {
      "text/plain": [
       "\"/var/folders/mg/30npdf0s1z36txb2qvgylrzh0000gn/T/OnePiece.test.network\""
      ]
     },
     "execution_count": 2,
     "metadata": {},
     "output_type": "execute_result"
    }
   ],
   "source": [
    "te = OnePiece.path.make_temporary(\"OnePiece.test.network\")"
   ]
  },
  {
   "cell_type": "markdown",
   "id": "d8c30d07",
   "metadata": {},
   "source": [
    "## plot"
   ]
  },
  {
   "cell_type": "code",
   "execution_count": 3,
   "id": "6ab79a68",
   "metadata": {
    "execution": {
     "iopub.execute_input": "2022-08-10T10:53:53.374000Z",
     "iopub.status.busy": "2022-08-10T10:53:53.373000Z",
     "iopub.status.idle": "2022-08-10T10:53:54.250000Z",
     "shell.execute_reply": "2022-08-10T10:53:54.250000Z"
    }
   },
   "outputs": [
    {
     "name": "stdout",
     "output_type": "stream",
     "text": [
      "Made /var/folders/mg/30npdf0s1z36txb2qvgylrzh0000gn/T/OnePiece.test.network/plot.html.\n"
     ]
    },
    {
     "data": {
      "text/plain": [
       "\"/var/folders/mg/30npdf0s1z36txb2qvgylrzh0000gn/T/OnePiece.test.network/plot.html\""
      ]
     },
     "execution_count": 3,
     "metadata": {},
     "output_type": "execute_result"
    }
   ],
   "source": [
    "OnePiece.network.plot(\n",
    "    [\n",
    "        Dict(\n",
    "            \"data\" => Dict(\"id\" => \"V1\"),\n",
    "            \"position\" => Dict(\"x\" => 0, \"y\" => 100),\n",
    "            \"style\" => Dict(\"background-color\" => \"red\"),\n",
    "        ),\n",
    "        Dict(\n",
    "            \"data\" => Dict(\"id\" => \"V2\"),\n",
    "            \"position\" => Dict(\"x\" => 200, \"y\" => 300),\n",
    "            \"style\" => Dict(\"background-color\" => \"blue\"),\n",
    "        ),\n",
    "        Dict(\n",
    "            \"data\" => Dict(\"id\" => \"V1_V2\", \"source\" => \"V1\", \"target\" => \"V2\"),\n",
    "            \"style\" => Dict(\"line-color\" => \"yellow\"),\n",
    "        ),\n",
    "    ],\n",
    "    (),\n",
    "    Dict(\"name\" => \"preset\"),\n",
    "    ou = joinpath(te, \"plot.html\"),\n",
    ")"
   ]
  }
 ],
 "metadata": {
  "@webio": {
   "lastCommId": null,
   "lastKernelId": null
  },
  "kernelspec": {
   "display_name": "Julia 1.7.3",
   "language": "julia",
   "name": "julia-1.7"
  },
  "language_info": {
   "file_extension": ".jl",
   "mimetype": "application/julia",
   "name": "julia",
   "version": "1.7.3"
  }
 },
 "nbformat": 4,
 "nbformat_minor": 5
}
