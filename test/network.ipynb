{
 "cells": [
  {
   "cell_type": "code",
   "execution_count": null,
   "id": "baf12f00",
   "metadata": {
    "execution": {
     "iopub.execute_input": "2022-08-25T17:21:09.447000Z",
     "iopub.status.busy": "2022-08-25T17:21:08.957000Z",
     "iopub.status.idle": "2022-08-25T17:21:16.332000Z",
     "shell.execute_reply": "2022-08-25T17:21:16.290000Z"
    }
   },
   "outputs": [],
   "source": [
    "using OnePiece"
   ]
  },
  {
   "cell_type": "code",
   "execution_count": null,
   "id": "2f9e69a3",
   "metadata": {
    "execution": {
     "iopub.execute_input": "2022-08-25T17:21:16.518000Z",
     "iopub.status.busy": "2022-08-25T17:21:16.334000Z",
     "iopub.status.idle": "2022-08-25T17:21:17.122000Z",
     "shell.execute_reply": "2022-08-25T17:21:17.121000Z"
    }
   },
   "outputs": [],
   "source": [
    "te = OnePiece.path.make_temporary(\"OnePiece.test.network\")"
   ]
  },
  {
   "cell_type": "markdown",
   "id": "d8c30d07",
   "metadata": {},
   "source": [
    "## plot"
   ]
  },
  {
   "cell_type": "code",
   "execution_count": null,
   "id": "6ab79a68",
   "metadata": {
    "execution": {
     "iopub.execute_input": "2022-08-25T17:21:17.125000Z",
     "iopub.status.busy": "2022-08-25T17:21:17.125000Z",
     "iopub.status.idle": "2022-08-25T17:21:18.794000Z",
     "shell.execute_reply": "2022-08-25T17:21:18.794000Z"
    }
   },
   "outputs": [],
   "source": [
    "OnePiece.network.plot(\n",
    "    [\n",
    "        Dict(\n",
    "            \"data\" => Dict(\"id\" => \"V1\"),\n",
    "            \"position\" => Dict(\"x\" => 0, \"y\" => 100),\n",
    "            \"style\" => Dict(\"background-color\" => \"red\"),\n",
    "        ),\n",
    "        Dict(\n",
    "            \"data\" => Dict(\"id\" => \"V2\"),\n",
    "            \"position\" => Dict(\"x\" => 200, \"y\" => 300),\n",
    "            \"style\" => Dict(\"background-color\" => \"blue\"),\n",
    "        ),\n",
    "        Dict(\n",
    "            \"data\" => Dict(\"id\" => \"V1_V2\", \"source\" => \"V1\", \"target\" => \"V2\"),\n",
    "            \"style\" => Dict(\"line-color\" => \"yellow\"),\n",
    "        ),\n",
    "    ],\n",
    "    (),\n",
    "    Dict(\"name\" => \"preset\"),\n",
    "    ou = joinpath(te, \"plot.html\"),\n",
    ")"
   ]
  }
 ],
 "metadata": {
  "@webio": {
   "lastCommId": null,
   "lastKernelId": null
  },
  "kernelspec": {
   "display_name": "Julia 1.7.3",
   "language": "julia",
   "name": "julia-1.8"
  },
  "language_info": {
   "file_extension": ".jl",
   "mimetype": "application/julia",
   "name": "julia",
   "version": "1.8.0"
  }
 },
 "nbformat": 4,
 "nbformat_minor": 5
}
