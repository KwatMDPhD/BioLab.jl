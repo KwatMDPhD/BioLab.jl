{
 "cells": [
  {
   "cell_type": "code",
   "execution_count": null,
   "id": "baf12f00",
   "metadata": {
    "execution": {
     "iopub.execute_input": "2022-08-19T09:35:00.842000Z",
     "iopub.status.busy": "2022-08-19T09:35:00.505000Z",
     "iopub.status.idle": "2022-08-19T09:35:05.531000Z",
     "shell.execute_reply": "2022-08-19T09:35:05.485000Z"
    }
   },
   "outputs": [],
   "source": [
    "using OnePiece"
   ]
  },
  {
   "cell_type": "code",
   "execution_count": null,
   "id": "87f5923d",
   "metadata": {
    "execution": {
     "iopub.execute_input": "2022-08-19T09:35:06.142000Z",
     "iopub.status.busy": "2022-08-19T09:35:05.548000Z",
     "iopub.status.idle": "2022-08-19T09:35:06.746000Z",
     "shell.execute_reply": "2022-08-19T09:35:06.746000Z"
    }
   },
   "outputs": [],
   "source": [
    "te = OnePiece.path.make_temporary(\"OnePiece.test.dict\")"
   ]
  },
  {
   "cell_type": "markdown",
   "id": "f490ea3e",
   "metadata": {},
   "source": [
    "## make"
   ]
  },
  {
   "cell_type": "code",
   "execution_count": null,
   "id": "aef53cc5",
   "metadata": {
    "execution": {
     "iopub.execute_input": "2022-08-19T09:35:06.750000Z",
     "iopub.status.busy": "2022-08-19T09:35:06.750000Z",
     "iopub.status.idle": "2022-08-19T09:35:08.440000Z",
     "shell.execute_reply": "2022-08-19T09:35:08.439000Z"
    }
   },
   "outputs": [],
   "source": [
    "OnePiece.dict.make(c = Dict(\"d\" => 3), b = [2], a = 1)"
   ]
  },
  {
   "cell_type": "markdown",
   "id": "d291dfea",
   "metadata": {},
   "source": [
    "## merge"
   ]
  },
  {
   "cell_type": "code",
   "execution_count": null,
   "id": "11f6d8a6",
   "metadata": {
    "execution": {
     "iopub.execute_input": "2022-08-19T09:35:08.443000Z",
     "iopub.status.busy": "2022-08-19T09:35:08.443000Z",
     "iopub.status.idle": "2022-08-19T09:35:08.897000Z",
     "shell.execute_reply": "2022-08-19T09:35:08.897000Z"
    }
   },
   "outputs": [],
   "source": [
    "di1 = Dict(\"1A\" => 1, \"B\" => Dict(\"C\" => 1, \"1D\" => 1))\n",
    "\n",
    "di2 = Dict(\"2A\" => 2, \"B\" => Dict(\"C\" => 2, \"2D\" => 2))\n",
    "\n",
    "OnePiece.dict.print(OnePiece.dict.merge(di1, di2))"
   ]
  },
  {
   "cell_type": "code",
   "execution_count": null,
   "id": "f3a9c72e",
   "metadata": {
    "execution": {
     "iopub.execute_input": "2022-08-19T09:35:08.900000Z",
     "iopub.status.busy": "2022-08-19T09:35:08.900000Z",
     "iopub.status.idle": "2022-08-19T09:35:08.903000Z",
     "shell.execute_reply": "2022-08-19T09:35:08.903000Z"
    }
   },
   "outputs": [],
   "source": [
    "OnePiece.dict.print(OnePiece.dict.merge(di2, di1))"
   ]
  },
  {
   "cell_type": "markdown",
   "id": "b2252700",
   "metadata": {},
   "source": [
    "## print"
   ]
  },
  {
   "cell_type": "code",
   "execution_count": null,
   "id": "bd01367c",
   "metadata": {
    "execution": {
     "iopub.execute_input": "2022-08-19T09:35:08.905000Z",
     "iopub.status.busy": "2022-08-19T09:35:08.905000Z",
     "iopub.status.idle": "2022-08-19T09:35:08.906000Z",
     "shell.execute_reply": "2022-08-19T09:35:08.906000Z"
    }
   },
   "outputs": [],
   "source": [
    "OnePiece.dict.print(Dict())"
   ]
  },
  {
   "cell_type": "code",
   "execution_count": null,
   "id": "ca7ca7fc",
   "metadata": {
    "execution": {
     "iopub.execute_input": "2022-08-19T09:35:08.910000Z",
     "iopub.status.busy": "2022-08-19T09:35:08.910000Z",
     "iopub.status.idle": "2022-08-19T09:35:09.853000Z",
     "shell.execute_reply": "2022-08-19T09:35:09.853000Z"
    }
   },
   "outputs": [],
   "source": [
    "di = Dict(1 => \"a\", 2 => \"a\", 3 => \"b\", 4 => nothing, 5 => nothing, 6 => NaN)"
   ]
  },
  {
   "cell_type": "code",
   "execution_count": null,
   "id": "76bf01e4",
   "metadata": {
    "execution": {
     "iopub.execute_input": "2022-08-19T09:35:09.856000Z",
     "iopub.status.busy": "2022-08-19T09:35:09.856000Z",
     "iopub.status.idle": "2022-08-19T09:35:10.028000Z",
     "shell.execute_reply": "2022-08-19T09:35:10.028000Z"
    }
   },
   "outputs": [],
   "source": [
    "OnePiece.dict.print(di)"
   ]
  },
  {
   "cell_type": "code",
   "execution_count": null,
   "id": "e2763e5a",
   "metadata": {
    "execution": {
     "iopub.execute_input": "2022-08-19T09:35:10.032000Z",
     "iopub.status.busy": "2022-08-19T09:35:10.032000Z",
     "iopub.status.idle": "2022-08-19T09:35:10.042000Z",
     "shell.execute_reply": "2022-08-19T09:35:10.042000Z"
    }
   },
   "outputs": [],
   "source": [
    "OnePiece.dict.print(di, sp = 2)"
   ]
  },
  {
   "cell_type": "code",
   "execution_count": null,
   "id": "f1b751b7",
   "metadata": {
    "execution": {
     "iopub.execute_input": "2022-08-19T09:35:10.047000Z",
     "iopub.status.busy": "2022-08-19T09:35:10.047000Z",
     "iopub.status.idle": "2022-08-19T09:35:10.057000Z",
     "shell.execute_reply": "2022-08-19T09:35:10.057000Z"
    }
   },
   "outputs": [],
   "source": [
    "OnePiece.dict.print(di, n_pa = 2, sp = 4)"
   ]
  },
  {
   "cell_type": "markdown",
   "id": "544d556f",
   "metadata": {},
   "source": [
    "## read"
   ]
  },
  {
   "cell_type": "code",
   "execution_count": null,
   "id": "d05fbdbf",
   "metadata": {
    "execution": {
     "iopub.execute_input": "2022-08-19T09:35:10.060000Z",
     "iopub.status.busy": "2022-08-19T09:35:10.060000Z",
     "iopub.status.idle": "2022-08-19T09:35:10.065000Z",
     "shell.execute_reply": "2022-08-19T09:35:10.065000Z"
    }
   },
   "outputs": [],
   "source": [
    "da = joinpath(@__DIR__, \"dict.data\")"
   ]
  },
  {
   "cell_type": "code",
   "execution_count": null,
   "id": "cedaae14",
   "metadata": {
    "execution": {
     "iopub.execute_input": "2022-08-19T09:35:10.069000Z",
     "iopub.status.busy": "2022-08-19T09:35:10.069000Z",
     "iopub.status.idle": "2022-08-19T09:35:10.169000Z",
     "shell.execute_reply": "2022-08-19T09:35:10.169000Z"
    }
   },
   "outputs": [],
   "source": [
    "js1 = joinpath(da, \"example_1.json\")\n",
    "\n",
    "OnePiece.dict.print(OnePiece.dict.read(js1))"
   ]
  },
  {
   "cell_type": "code",
   "execution_count": null,
   "id": "eec77164",
   "metadata": {
    "execution": {
     "iopub.execute_input": "2022-08-19T09:35:10.172000Z",
     "iopub.status.busy": "2022-08-19T09:35:10.171000Z",
     "iopub.status.idle": "2022-08-19T09:35:10.282000Z",
     "shell.execute_reply": "2022-08-19T09:35:10.281000Z"
    }
   },
   "outputs": [],
   "source": [
    "js2 = joinpath(da, \"example_2.json\")\n",
    "\n",
    "OnePiece.dict.print(OnePiece.dict.read(js2))"
   ]
  },
  {
   "cell_type": "code",
   "execution_count": null,
   "id": "b628d2f3",
   "metadata": {
    "execution": {
     "iopub.execute_input": "2022-08-19T09:35:10.285000Z",
     "iopub.status.busy": "2022-08-19T09:35:10.285000Z",
     "iopub.status.idle": "2022-08-19T09:35:10.550000Z",
     "shell.execute_reply": "2022-08-19T09:35:10.550000Z"
    }
   },
   "outputs": [],
   "source": [
    "to = joinpath(da, \"example.toml\")\n",
    "\n",
    "OnePiece.dict.print(OnePiece.dict.read(to))"
   ]
  },
  {
   "cell_type": "code",
   "execution_count": null,
   "id": "30220ddb",
   "metadata": {
    "execution": {
     "iopub.execute_input": "2022-08-19T09:35:10.553000Z",
     "iopub.status.busy": "2022-08-19T09:35:10.553000Z",
     "iopub.status.idle": "2022-08-19T09:35:10.671000Z",
     "shell.execute_reply": "2022-08-19T09:35:10.671000Z"
    }
   },
   "outputs": [],
   "source": [
    "OnePiece.dict.print(OnePiece.dict.read(js1, js2, to))"
   ]
  },
  {
   "cell_type": "markdown",
   "id": "0ee83d77",
   "metadata": {},
   "source": [
    "## sort_recursively!"
   ]
  },
  {
   "cell_type": "code",
   "execution_count": null,
   "id": "265df1af",
   "metadata": {
    "execution": {
     "iopub.execute_input": "2022-08-19T09:35:10.677000Z",
     "iopub.status.busy": "2022-08-19T09:35:10.676000Z",
     "iopub.status.idle": "2022-08-19T09:35:12.133000Z",
     "shell.execute_reply": "2022-08-19T09:35:12.133000Z"
    }
   },
   "outputs": [],
   "source": [
    "di = Dict(\n",
    "    \"z\" => Dict(\"c\" => 1, \"b\" => 2, \"a\" => 3),\n",
    "    \"y\" => Dict(),\n",
    "    \"x\" => [3, 2, 1, Dict(\"zo\" => 2, \"lu\" => 1)],\n",
    "    \"w\" => [Dict(\"k\" => 8, \"j\" => 24), Dict(\"lo\" => 1, \"la\" => 3)],\n",
    ")\n",
    "\n",
    "OnePiece.dict.print(OnePiece.dict.sort_recursively!(di))"
   ]
  },
  {
   "cell_type": "markdown",
   "id": "4f0a130a",
   "metadata": {},
   "source": [
    "## symbolize"
   ]
  },
  {
   "cell_type": "code",
   "execution_count": null,
   "id": "795da86d",
   "metadata": {
    "execution": {
     "iopub.execute_input": "2022-08-19T09:35:12.136000Z",
     "iopub.status.busy": "2022-08-19T09:35:12.136000Z",
     "iopub.status.idle": "2022-08-19T09:35:12.646000Z",
     "shell.execute_reply": "2022-08-19T09:35:12.646000Z"
    }
   },
   "outputs": [],
   "source": [
    "OnePiece.dict.symbolize(Dict(\"k1\" => \"v1\", \"k2\" => \"v2\"))"
   ]
  },
  {
   "cell_type": "markdown",
   "id": "db43b4a9",
   "metadata": {},
   "source": [
    "## write"
   ]
  },
  {
   "cell_type": "code",
   "execution_count": null,
   "id": "0e548e55",
   "metadata": {
    "execution": {
     "iopub.execute_input": "2022-08-19T09:35:12.649000Z",
     "iopub.status.busy": "2022-08-19T09:35:12.649000Z",
     "iopub.status.idle": "2022-08-19T09:35:12.796000Z",
     "shell.execute_reply": "2022-08-19T09:35:12.795000Z"
    }
   },
   "outputs": [],
   "source": [
    "js = joinpath(te, \"write.json\")\n",
    "\n",
    "di = Dict(\n",
    "    \"Luffy\" => \"Pirate King\",\n",
    "    \"Crews\" => [\n",
    "        \"Luffy\",\n",
    "        \"Zoro\",\n",
    "        \"Nami\",\n",
    "        \"Usopp\",\n",
    "        \"Sanji\",\n",
    "        \"Chopper\",\n",
    "        \"Robin\",\n",
    "        \"Franky\",\n",
    "        \"Brook\",\n",
    "        \"Jinbe\",\n",
    "    ],\n",
    "    \"episode\" => 1030,\n",
    ")\n",
    "\n",
    "OnePiece.dict.write(js, di)"
   ]
  },
  {
   "cell_type": "code",
   "execution_count": null,
   "id": "4f8acb08",
   "metadata": {
    "execution": {
     "iopub.execute_input": "2022-08-19T09:35:12.798000Z",
     "iopub.status.busy": "2022-08-19T09:35:12.798000Z",
     "iopub.status.idle": "2022-08-19T09:35:12.978000Z",
     "shell.execute_reply": "2022-08-19T09:35:12.978000Z"
    }
   },
   "outputs": [],
   "source": [
    "di == OnePiece.dict.read(js)"
   ]
  }
 ],
 "metadata": {
  "@webio": {
   "lastCommId": null,
   "lastKernelId": null
  },
  "kernelspec": {
   "display_name": "Julia 1.7.3",
   "language": "julia",
   "name": "julia-1.7"
  },
  "language_info": {
   "file_extension": ".jl",
   "mimetype": "application/julia",
   "name": "julia",
   "version": "1.7.3"
  }
 },
 "nbformat": 4,
 "nbformat_minor": 5
}
