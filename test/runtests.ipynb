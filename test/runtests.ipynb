{
 "cells": [
  {
   "outputs": [],
   "cell_type": "code",
   "source": [
    "display([1 2; 3 4])"
   ],
   "id": "f0448d3c-d04b-44cf-932d-0a7323ef579c",
   "metadata": {},
   "execution_count": null
  },
  {
   "outputs": [],
   "cell_type": "code",
   "source": [
    "using Test\n",
    "\n",
    "te = @__DIR__\n",
    "\n",
    "sr = joinpath(dirname(te), \"src\")\n",
    "\n",
    "function _get_prefix(na)\n",
    "\n",
    "    return splitext(na)[1]\n",
    "\n",
    "end\n",
    "\n",
    "nb_ = [na for na in readdir(te) if endswith(na, r\"\\.ipynb$\") && na != \"runtests.ipynb\"]\n",
    "\n",
    "display(\n",
    "    symdiff(\n",
    "        (_get_prefix(na) for na in readdir(sr) if endswith(na, r\"\\.jl$\") && na != \"BioLab.jl\"),\n",
    "        (_get_prefix(nb) for nb in nb_),\n",
    "    ),\n",
    ")\n",
    "\n",
    "using BioLab"
   ],
   "id": "a6e90ad1-51ff-43e5-b377-8ddb36ea957f",
   "metadata": {},
   "execution_count": null
  },
  {
   "cell_type": "markdown",
   "source": [
    "## @include"
   ],
   "id": "5c41d5b7-da04-4069-9064-db8fdf2ff125",
   "metadata": {}
  },
  {
   "outputs": [],
   "cell_type": "code",
   "source": [
    "# TODO: `@test`."
   ],
   "id": "3b71f874-c519-4030-80d0-19853c140efa",
   "metadata": {},
   "execution_count": null
  },
  {
   "cell_type": "markdown",
   "source": [
    "## RA"
   ],
   "id": "3c0ceb59-04f9-4950-9a0f-280b97c72b6a",
   "metadata": {}
  },
  {
   "outputs": [],
   "cell_type": "code",
   "source": [
    "@test BioLab.RA == 20121020"
   ],
   "id": "69112318-dff9-4b74-832b-22aec96b08aa",
   "metadata": {},
   "execution_count": null
  },
  {
   "cell_type": "markdown",
   "source": [
    "## CA_"
   ],
   "id": "48f2098d-2171-49dc-b1bf-e591a3b25112",
   "metadata": {}
  },
  {
   "outputs": [],
   "cell_type": "code",
   "source": [
    "@test BioLab.CA_ == ['A', '2', '3', '4', '5', '6', '7', '8', '9', 'X', 'J', 'Q', 'K']"
   ],
   "id": "e1c1f9ba-56d5-4d21-a7fb-024f81b89a54",
   "metadata": {},
   "execution_count": null
  },
  {
   "cell_type": "markdown",
   "source": [
    "## TE"
   ],
   "id": "b44ffebf-82f7-48d8-93bb-b7a67178a338",
   "metadata": {}
  },
  {
   "outputs": [],
   "cell_type": "code",
   "source": [
    "@test basename(BioLab.TE) == \"BioLab\" && isdir(BioLab.TE) && isempty(readdir(BioLab.TE))"
   ],
   "id": "50ca703f-2537-4288-807c-1ed7acf9381d",
   "metadata": {},
   "execution_count": null
  },
  {
   "cell_type": "markdown",
   "source": [
    "## check_print"
   ],
   "id": "47b82e1b-c780-47d5-8278-f5f81ea5b695",
   "metadata": {}
  },
  {
   "outputs": [],
   "cell_type": "code",
   "source": [
    "for pr in (true, false)\n",
    "\n",
    "    BioLab.check_print(pr, \"Aa\", 2)\n",
    "\n",
    "end\n",
    "\n",
    "@code_warntype BioLab.check_print(true, \"Aa\", 2)"
   ],
   "id": "94bba521-fba8-4f3a-8349-07b48c295445",
   "metadata": {},
   "execution_count": null
  },
  {
   "cell_type": "markdown",
   "source": [
    "## print_header"
   ],
   "id": "be3c1927-c260-4b0a-a8db-6923c2909b9d",
   "metadata": {}
  },
  {
   "outputs": [],
   "cell_type": "code",
   "source": [
    "BioLab.print_header()\n",
    "\n",
    "st = \"Hello World!\"\n",
    "\n",
    "BioLab.print_header(st)\n",
    "\n",
    "@code_warntype BioLab.print_header(st)"
   ],
   "id": "32bd2d8c-08a7-4e4f-b998-98e75c7d15b9",
   "metadata": {},
   "execution_count": null
  },
  {
   "cell_type": "markdown",
   "source": [
    "## @check_error"
   ],
   "id": "16d09573-d6f3-4be0-82ca-80a3afff7d39",
   "metadata": {}
  },
  {
   "outputs": [],
   "cell_type": "code",
   "source": [
    "@test BioLab.@check_error error()"
   ],
   "id": "c3a51e8e-a599-4071-9612-838677867f25",
   "metadata": {},
   "execution_count": null
  },
  {
   "cell_type": "markdown",
   "source": [
    "## 🎬"
   ],
   "id": "9be1145e-4ca6-45aa-958f-8f8f0b75b537",
   "metadata": {}
  },
  {
   "outputs": [],
   "cell_type": "code",
   "source": [
    "ig_ = [\n",
    "    \"Array.ipynb\",\n",
    "    \"Clustering.ipynb\",\n",
    "    \"Collection.ipynb\",\n",
    "    \"DataFrame.ipynb\",\n",
    "    \"Dict.ipynb\",\n",
    "    \"FeatureSetEnrichment.ipynb\",\n",
    "    \"FeatureXSample.ipynb\",\n",
    "    \"GCT.ipynb\",\n",
    "    \"GEO.ipynb\",\n",
    "    \"GMT.ipynb\",\n",
    "    \"Gene.ipynb\",\n",
    "    \"HTML.ipynb\",\n",
    "    \"IPYNB.ipynb\",\n",
    "    \"Information.ipynb\",\n",
    "    \"Match.ipynb\",\n",
    "    \"Matrix.ipynb\",\n",
    "    \"MatrixFactorization.ipynb\",\n",
    "    \"Network.ipynb\",\n",
    "    \"Normalization.ipynb\",\n",
    "    \"Number.ipynb\",\n",
    "    \"Path.ipynb\",\n",
    "    \"Plot.ipynb\",\n",
    "    \"Significance.ipynb\",\n",
    "    \"Statistics.ipynb\",\n",
    "    \"String.ipynb\",\n",
    "    \"Table.ipynb\",\n",
    "    \"Time.ipynb\",\n",
    "    \"VectorNumber.ipynb\",\n",
    "]\n",
    "\n",
    "@test ig_ == nb_\n",
    "\n",
    "pushfirst!(ig_, \"runtests.ipynb\")\n",
    "\n",
    "BioLab.IPYNB.run(@__DIR__, ig_[1:1])"
   ],
   "id": "d64291f1-3870-47c6-be0e-fd3449196d0c",
   "metadata": {},
   "execution_count": null
  }
 ],
 "nbformat_minor": 5,
 "metadata": {
  "language_info": {
   "file_extension": ".jl",
   "mimetype": "application/julia",
   "name": "julia",
   "version": "1.8.5"
  },
  "@webio": {
   "lastKernelId": null,
   "lastCommId": null
  },
  "kernelspec": {
   "name": "julia-1.8",
   "display_name": "Julia 1.8.5",
   "language": "julia"
  }
 },
 "nbformat": 4
}
