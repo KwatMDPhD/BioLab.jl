{
 "cells": [
  {
   "cell_type": "code",
   "execution_count": 1,
   "id": "0c3bf917",
   "metadata": {},
   "outputs": [
    {
     "data": {
      "text/plain": [
       "31-element Vector{String}:\n",
       " \"Array\"\n",
       " \"Clustering\"\n",
       " \"Constant\"\n",
       " \"DataFrame\"\n",
       " \"Dict\"\n",
       " \"FeatureSetEnrichment\"\n",
       " \"FeatureXSample\"\n",
       " \"GCT\"\n",
       " \"GEO\"\n",
       " \"GMT\"\n",
       " \"Gene\"\n",
       " \"HTML\"\n",
       " \"IPYNB\"\n",
       " ⋮\n",
       " \"Number\"\n",
       " \"OnePiece.jl\"\n",
       " \"Path\"\n",
       " \"Plot\"\n",
       " \"Significance\"\n",
       " \"Statistics\"\n",
       " \"String\"\n",
       " \"Table\"\n",
       " \"Time\"\n",
       " \"Vector\"\n",
       " \"VectorNumber\"\n",
       " \"_include.jl\""
      ]
     },
     "execution_count": 1,
     "metadata": {},
     "output_type": "execute_result"
    }
   ],
   "source": [
    "sr = joinpath(dirname(@__DIR__), \"src\")\n",
    "\n",
    "sr_ = [na for na in readdir(sr)]"
   ]
  },
  {
   "cell_type": "code",
   "execution_count": 2,
   "id": "dc5eff49",
   "metadata": {},
   "outputs": [
    {
     "data": {
      "text/plain": [
       "3-element Vector{String}:\n",
       " \"OnePiece.jl\"\n",
       " \"_include.jl\"\n",
       " \"runtests\""
      ]
     },
     "execution_count": 2,
     "metadata": {},
     "output_type": "execute_result"
    }
   ],
   "source": [
    "te_ = [splitext(na)[1] for na in readdir() if endswith(na, \".ipynb\")]\n",
    "\n",
    "symdiff(sr_, te_)"
   ]
  },
  {
   "cell_type": "code",
   "execution_count": 3,
   "id": "c5b08c78",
   "metadata": {},
   "outputs": [],
   "source": [
    "using OnePiece"
   ]
  },
  {
   "cell_type": "code",
   "execution_count": 4,
   "id": "81e9af05-b58e-4a5a-8b75-6b6efc990439",
   "metadata": {},
   "outputs": [
    {
     "data": {
      "text/plain": [
       "\"/var/folders/pp/2twmq_0d769dw_znf_nbtxnh0000gn/T/OnePiece\""
      ]
     },
     "execution_count": 4,
     "metadata": {},
     "output_type": "execute_result"
    }
   ],
   "source": [
    "OnePiece.TE"
   ]
  },
  {
   "cell_type": "code",
   "execution_count": null,
   "id": "06b4e84d",
   "metadata": {},
   "outputs": [
    {
     "name": "stdout",
     "output_type": "stream",
     "text": [
      "Running /Users/kwat/craft/OnePiece.jl/test/Array.ipynb (1)\n"
     ]
    }
   ],
   "source": [
    "OnePiece.IPYNB.run(@__DIR__, [\"runtests.ipynb\", \"Kumo.ipynb\"])"
   ]
  }
 ],
 "metadata": {
  "@webio": {
   "lastCommId": null,
   "lastKernelId": null
  },
  "kernelspec": {
   "display_name": "Julia 1.8.2",
   "language": "julia",
   "name": "julia-1.8"
  },
  "language_info": {
   "file_extension": ".jl",
   "mimetype": "application/julia",
   "name": "julia",
   "version": "1.8.2"
  }
 },
 "nbformat": 4,
 "nbformat_minor": 5
}
