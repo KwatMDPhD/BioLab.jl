{
 "cells": [
  {
   "outputs": [],
   "cell_type": "code",
   "source": [
    "sr = joinpath(dirname(@__DIR__), \"src\")\n",
    "\n",
    "sr_ = [na for na in readdir(sr)]"
   ],
   "id": "0c3bf917",
   "metadata": {},
   "execution_count": null
  },
  {
   "outputs": [],
   "cell_type": "code",
   "source": [
    "te_ = (splitext(na)[1] for na in readdir() if endswith(na, \".ipynb\"))\n",
    "\n",
    "symdiff(sr_, te_)"
   ],
   "id": "dc5eff49",
   "metadata": {},
   "execution_count": null
  },
  {
   "outputs": [],
   "cell_type": "code",
   "source": [
    "using BioinformaticsCore"
   ],
   "id": "c5b08c78",
   "metadata": {},
   "execution_count": null
  },
  {
   "outputs": [],
   "cell_type": "code",
   "source": [
    "BioinformaticsCore.TE"
   ],
   "id": "81e9af05-b58e-4a5a-8b75-6b6efc990439",
   "metadata": {},
   "execution_count": null
  },
  {
   "outputs": [],
   "cell_type": "code",
   "source": [
    "for nb in BioinformaticsCore.Path.select(\".\", false, ig_ = (r\"^runtests\",), ke_ = (r\".ipynb$\",))\n",
    "\n",
    "    na = splitext(nb)[1]\n",
    "\n",
    "    println(\"=\"^99)\n",
    "\n",
    "    println(na)\n",
    "\n",
    "    ma_ = Set()\n",
    "\n",
    "    for ce in BioinformaticsCore.Dict.read(nb)[\"cells\"]\n",
    "\n",
    "        if ce[\"cell_type\"] != \"markdown\"\n",
    "\n",
    "            continue\n",
    "\n",
    "        end\n",
    "\n",
    "        for li in ce[\"source\"]\n",
    "\n",
    "            push!(ma_, BioinformaticsCore.String.split_and_get(rstrip(li, '\\n'), \" \", 2))\n",
    "\n",
    "        end\n",
    "\n",
    "    end\n",
    "\n",
    "    for jl in BioinformaticsCore.Path.select(\n",
    "        joinpath(dirname(@__DIR__), \"src\", na),\n",
    "        false,\n",
    "        ig_ = (r\"^_.jl$\",),\n",
    "        ke_ = (r\".jl$\",),\n",
    "    )\n",
    "\n",
    "        naj = splitext(jl)[1]\n",
    "\n",
    "        if naj in ma_\n",
    "\n",
    "            pop!(ma_, naj)\n",
    "\n",
    "        else\n",
    "\n",
    "            println(\"  < $naj\")\n",
    "\n",
    "        end\n",
    "\n",
    "    end\n",
    "\n",
    "    if !isempty(ma_)\n",
    "\n",
    "        println(\"  > $(join(ma_, \"\\n  >\"))\")\n",
    "\n",
    "    end\n",
    "\n",
    "end"
   ],
   "id": "817d4c90-4a48-4e39-b3c5-17ce53471134",
   "metadata": {},
   "execution_count": null
  },
  {
   "outputs": [],
   "cell_type": "code",
   "source": [
    "BioinformaticsCore.IPYNB.run(@__DIR__, [\"$pr.ipynb\" for pr in (\"runtests\", \"Kumo\")])"
   ],
   "id": "06b4e84d",
   "metadata": {},
   "execution_count": null
  }
 ],
 "nbformat_minor": 5,
 "metadata": {
  "language_info": {
   "file_extension": ".jl",
   "mimetype": "application/julia",
   "name": "julia",
   "version": "1.8.2"
  },
  "@webio": {
   "lastKernelId": null,
   "lastCommId": null
  },
  "kernelspec": {
   "name": "julia-1.8",
   "display_name": "Julia 1.8.2",
   "language": "julia"
  }
 },
 "nbformat": 4
}
