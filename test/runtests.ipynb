{
 "cells": [
  {
   "outputs": [],
   "cell_type": "code",
   "source": [
    "te = @__DIR__\n",
    "\n",
    "pk = dirname(te)\n",
    "\n",
    "sr = joinpath(pk, \"src\")\n",
    "\n",
    ";"
   ],
   "id": "55142b33-4eb0-4f5d-ae08-ce42d96fed78",
   "metadata": {},
   "execution_count": null
  },
  {
   "outputs": [],
   "cell_type": "code",
   "source": [
    "symdiff(\n",
    "    (splitext(na)[1] for na in readdir(sr) if endswith(na, r\"\\.jl$\") && na != \"BioLab.jl\"),\n",
    "    (splitext(na)[1] for na in readdir(te) if endswith(na, r\"\\.ipynb$\") && na != \"runtests.ipynb\"),\n",
    ")"
   ],
   "id": "dc5eff49",
   "metadata": {},
   "execution_count": null
  },
  {
   "outputs": [],
   "cell_type": "code",
   "source": [
    "using BioLab"
   ],
   "id": "c5b08c78",
   "metadata": {},
   "execution_count": null
  },
  {
   "outputs": [],
   "cell_type": "code",
   "source": [
    "BioLab.TE"
   ],
   "id": "81e9af05-b58e-4a5a-8b75-6b6efc990439",
   "metadata": {},
   "execution_count": null
  },
  {
   "outputs": [],
   "cell_type": "code",
   "source": [
    "BioLab.CA_"
   ],
   "id": "5ce58486-bbf7-4b01-b74a-168f957c47b4",
   "metadata": {},
   "execution_count": null
  },
  {
   "outputs": [],
   "cell_type": "code",
   "source": [
    "BioLab.RA"
   ],
   "id": "bac5e929-50c2-4ec2-9dd5-9c04f30f4ad1",
   "metadata": {},
   "execution_count": null
  },
  {
   "outputs": [],
   "cell_type": "code",
   "source": [
    "BioLab.IPYNB.run(@__DIR__, (\"$pr.ipynb\" for pr in (\"runtests\",)))"
   ],
   "id": "06b4e84d",
   "metadata": {},
   "execution_count": null
  }
 ],
 "nbformat_minor": 5,
 "metadata": {
  "language_info": {
   "file_extension": ".jl",
   "mimetype": "application/julia",
   "name": "julia",
   "version": "1.8.5"
  },
  "@webio": {
   "lastKernelId": null,
   "lastCommId": null
  },
  "kernelspec": {
   "name": "julia-1.8",
   "display_name": "Julia 1.8.5",
   "language": "julia"
  }
 },
 "nbformat": 4
}
