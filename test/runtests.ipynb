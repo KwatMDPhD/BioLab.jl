{
 "cells": [
  {
   "cell_type": "code",
   "execution_count": 10,
   "id": "ad4fb98a",
   "metadata": {},
   "outputs": [
    {
     "data": {
      "text/plain": [
       "\"/var/folders/mg/30npdf0s1z36txb2qvgylrzh0000gn/T/OnePiece.test\""
      ]
     },
     "execution_count": 10,
     "metadata": {},
     "output_type": "execute_result"
    }
   ],
   "source": [
    "TE = joinpath(tempdir(), \"OnePiece.test\")\n",
    "\n",
    "if isdir(TE)\n",
    "\n",
    "    rm(TE; recursive = true)\n",
    "\n",
    "end\n",
    "\n",
    "mkdir(TE)"
   ]
  },
  {
   "cell_type": "code",
   "execution_count": 11,
   "id": "34e4701e",
   "metadata": {},
   "outputs": [],
   "source": [
    "#using Revise\n",
    "#using BenchmarkTools"
   ]
  },
  {
   "cell_type": "markdown",
   "id": "349c228e",
   "metadata": {},
   "source": [
    "---"
   ]
  },
  {
   "cell_type": "code",
   "execution_count": 12,
   "id": "ed0519d4",
   "metadata": {},
   "outputs": [],
   "source": [
    "pam = dirname(@__DIR__)\n",
    "\n",
    "pap = joinpath(pam, \"Project.toml\")\n",
    "\n",
    "pas = joinpath(pam, \"src\")\n",
    "\n",
    "pat = joinpath(pam, \"test\")\n",
    "\n",
    ";"
   ]
  },
  {
   "cell_type": "code",
   "execution_count": 13,
   "id": "7eb3ba2a",
   "metadata": {},
   "outputs": [],
   "source": [
    "using TOML"
   ]
  },
  {
   "cell_type": "code",
   "execution_count": 14,
   "id": "02a29c5c",
   "metadata": {},
   "outputs": [],
   "source": [
    "to = TOML.parse(read(pap, String))\n",
    "\n",
    "mo = \"OnePiece\"\n",
    "\n",
    "@assert to[\"name\"] == splitext(basename(pam))[1] == mo"
   ]
  },
  {
   "cell_type": "markdown",
   "id": "ea5e2eef",
   "metadata": {},
   "source": [
    "## Make src/OnePiece.jl "
   ]
  },
  {
   "cell_type": "code",
   "execution_count": 15,
   "id": "bbc0ff71",
   "metadata": {},
   "outputs": [],
   "source": [
    "su_ = [\n",
    "    \"io/table\",\n",
    "    \"io/fcs\",\n",
    "    \"io/gct\",\n",
    "    \"io/gmt\",\n",
    "    #\"io/pandas\",\n",
    "    \"extension/constant\",\n",
    "    \"extension/dict\",\n",
    "    \"extension/vector\",\n",
    "    \"extension/string\",\n",
    "    \"extension/path\",\n",
    "    \"extension/dataframe\",\n",
    "    \"templating\",\n",
    "    \"informatics/tensor\",\n",
    "    \"informatics/geometry\",\n",
    "    \"informatics/normalization\",\n",
    "    \"informatics/statistics\",\n",
    "    \"informatics/significance\",\n",
    "    \"informatics/information\",\n",
    "    \"emoji\",\n",
    "    \"figure\",\n",
    "    \"tensor_function\",\n",
    "    \"feature_by_sample\",\n",
    "    \"gene\",\n",
    "    \"feature_set_enrichment\",\n",
    "]\n",
    "\n",
    ";"
   ]
  },
  {
   "cell_type": "code",
   "execution_count": 16,
   "id": "6c970dfa",
   "metadata": {},
   "outputs": [
    {
     "data": {
      "text/plain": [
       "Set{String} with 1 element:\n",
       "  \"pandas\""
      ]
     },
     "execution_count": 16,
     "metadata": {},
     "output_type": "execute_result"
    }
   ],
   "source": [
    "dis_ = Set(vcat([splitpath(su) for su in su_]...))\n",
    "\n",
    "di_ = Set(vcat([wa[2] for wa in walkdir(pas)]...))\n",
    "\n",
    "symdiff(dis_, di_)"
   ]
  },
  {
   "cell_type": "code",
   "execution_count": 17,
   "id": "48628870",
   "metadata": {},
   "outputs": [],
   "source": [
    "using OrderedCollections"
   ]
  },
  {
   "cell_type": "code",
   "execution_count": 18,
   "id": "b95f8ea8",
   "metadata": {},
   "outputs": [],
   "source": [
    "tr = OrderedDict()\n",
    "\n",
    "tr[mo] = OrderedDict()\n",
    "\n",
    "cu = tr[mo]\n",
    "\n",
    "for su in su_\n",
    "\n",
    "    di_ = splitpath(su)\n",
    "\n",
    "    n_di = length(di_)\n",
    "\n",
    "    for (id, di) in enumerate(di_)\n",
    "\n",
    "        if id < n_di\n",
    "\n",
    "            if !haskey(cu, di)\n",
    "\n",
    "                cu[di] = OrderedDict()\n",
    "\n",
    "            end\n",
    "\n",
    "            cu = cu[di]\n",
    "\n",
    "        else\n",
    "\n",
    "            jl_ = [fi for fi in readdir(joinpath(pas, su)) if occursin(r\"\\.jl$\", fi)]\n",
    "\n",
    "            cu[di] = [joinpath(su, jl) for jl in jl_]\n",
    "\n",
    "            cu = tr[mo]\n",
    "\n",
    "        end\n",
    "\n",
    "    end\n",
    "\n",
    "end"
   ]
  },
  {
   "cell_type": "code",
   "execution_count": 19,
   "id": "a974adc6",
   "metadata": {},
   "outputs": [
    {
     "data": {
      "text/plain": [
       "write_line (generic function with 1 method)"
      ]
     },
     "execution_count": 19,
     "metadata": {},
     "output_type": "execute_result"
    }
   ],
   "source": [
    "function write_line(io, st)\n",
    "\n",
    "    return write(io, string(st, \"\\n\"))\n",
    "\n",
    "end"
   ]
  },
  {
   "cell_type": "code",
   "execution_count": 20,
   "id": "020b1d26",
   "metadata": {},
   "outputs": [
    {
     "data": {
      "text/plain": [
       "write_branch (generic function with 1 method)"
      ]
     },
     "execution_count": 20,
     "metadata": {},
     "output_type": "execute_result"
    }
   ],
   "source": [
    "function write_branch(io, id, va)\n",
    "\n",
    "    sp = \"  \"^id\n",
    "\n",
    "    if va isa OrderedDict\n",
    "\n",
    "        for (ke, va2) in va\n",
    "\n",
    "            write_line(io, string(sp, \"module \", ke))\n",
    "\n",
    "            write_branch(io, id + 1, va2)\n",
    "\n",
    "            write_line(io, string(sp, \"end\"))\n",
    "\n",
    "        end\n",
    "\n",
    "    else\n",
    "\n",
    "        for li in va\n",
    "\n",
    "            write_line(io, string(sp, \"include(\\\"\", li, \"\\\")\"))\n",
    "\n",
    "        end\n",
    "\n",
    "    end\n",
    "\n",
    "\n",
    "end"
   ]
  },
  {
   "cell_type": "code",
   "execution_count": 21,
   "id": "5d10ee27",
   "metadata": {},
   "outputs": [],
   "source": [
    "open(joinpath(pas, string(mo, \".jl\")), \"w\") do io\n",
    "\n",
    "    write_branch(io, 0, tr)\n",
    "\n",
    "end"
   ]
  },
  {
   "cell_type": "code",
   "execution_count": 22,
   "id": "b848dcec",
   "metadata": {},
   "outputs": [
    {
     "name": "stderr",
     "output_type": "stream",
     "text": [
      "┌ Info: Precompiling OnePiece [1fe83854-81c0-42f7-afc9-71ba9af673ca]\n",
      "└ @ Base loading.jl:1423\n"
     ]
    }
   ],
   "source": [
    "using OnePiece"
   ]
  },
  {
   "cell_type": "markdown",
   "id": "9d8b0abf",
   "metadata": {},
   "source": [
    "## Template"
   ]
  },
  {
   "cell_type": "code",
   "execution_count": null,
   "id": "d17381b5",
   "metadata": {},
   "outputs": [],
   "source": [
    "OnePiece.templating.transplant(\"template.ipynb\", \"\")"
   ]
  },
  {
   "cell_type": "markdown",
   "id": "b0413aa4",
   "metadata": {},
   "source": [
    "## Test submodules"
   ]
  },
  {
   "cell_type": "code",
   "execution_count": 18,
   "id": "ad28c694",
   "metadata": {
    "scrolled": false
   },
   "outputs": [
    {
     "name": "stdout",
     "output_type": "stream",
     "text": [
      "1\n",
      "Running /Users/kwat/craft/OnePiece.jl/test/feature_set_enrichment.ipynb\n",
      "Starting kernel event loops.\n"
     ]
    }
   ],
   "source": [
    "for (id, su) in enumerate(su_)\n",
    "\n",
    "    nb = joinpath(pat, string(su, \".ipynb\"))\n",
    "    \n",
    "    println(id)\n",
    "\n",
    "    println(\"Running \", nb)\n",
    "\n",
    "    run(\n",
    "        `jupyter-nbconvert --execute --ExecutePreprocessor.timeout=-1 --clear-output --inplace --log-level 0 $nb`,\n",
    "    )\n",
    "\n",
    "end"
   ]
  },
  {
   "cell_type": "markdown",
   "id": "414177b0",
   "metadata": {},
   "source": [
    "---"
   ]
  },
  {
   "cell_type": "code",
   "execution_count": 19,
   "id": "b169202a",
   "metadata": {},
   "outputs": [
    {
     "ename": "LoadError",
     "evalue": "IOError: unlink(\"/var/folders/mg/30npdf0s1z36txb2qvgylrzh0000gn/T/OnePiece.test\"): no such file or directory (ENOENT)",
     "output_type": "error",
     "traceback": [
      "IOError: unlink(\"/var/folders/mg/30npdf0s1z36txb2qvgylrzh0000gn/T/OnePiece.test\"): no such file or directory (ENOENT)",
      "",
      "Stacktrace:",
      " [1] uv_error",
      "   @ ./libuv.jl:97 [inlined]",
      " [2] unlink(p::String)",
      "   @ Base.Filesystem ./file.jl:958",
      " [3] rm(path::String; force::Bool, recursive::Bool)",
      "   @ Base.Filesystem ./file.jl:276",
      " [4] top-level scope",
      "   @ In[19]:1",
      " [5] eval",
      "   @ ./boot.jl:373 [inlined]",
      " [6] include_string(mapexpr::typeof(REPL.softscope), mod::Module, code::String, filename::String)",
      "   @ Base ./loading.jl:1196"
     ]
    }
   ],
   "source": [
    "rm(TE; recursive = true)"
   ]
  }
 ],
 "metadata": {
  "@webio": {
   "lastCommId": null,
   "lastKernelId": null
  },
  "kernelspec": {
   "display_name": "Julia 1.7.2",
   "language": "julia",
   "name": "julia-1.7"
  },
  "language_info": {
   "file_extension": ".jl",
   "mimetype": "application/julia",
   "name": "julia",
   "version": "1.7.2"
  }
 },
 "nbformat": 4,
 "nbformat_minor": 5
}
