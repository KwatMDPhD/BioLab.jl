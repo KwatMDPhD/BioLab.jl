{
 "cells": [
  {
   "cell_type": "code",
   "execution_count": null,
   "id": "0c3bf917",
   "metadata": {},
   "outputs": [],
   "source": [
    "sr = joinpath(dirname(@__DIR__), \"src\")\n",
    "\n",
    "sr_ = [na for na in readdir(sr)]"
   ]
  },
  {
   "cell_type": "code",
   "execution_count": null,
   "id": "dc5eff49",
   "metadata": {},
   "outputs": [],
   "source": [
    "te_ = [splitext(na)[1] for na in readdir() if endswith(na, \".ipynb\")]\n",
    "\n",
    "symdiff(sr_, te_)"
   ]
  },
  {
   "cell_type": "code",
   "execution_count": null,
   "id": "c5b08c78",
   "metadata": {},
   "outputs": [],
   "source": [
    "using OnePiece"
   ]
  },
  {
   "cell_type": "code",
   "execution_count": null,
   "id": "81e9af05-b58e-4a5a-8b75-6b6efc990439",
   "metadata": {},
   "outputs": [],
   "source": [
    "OnePiece.TE"
   ]
  },
  {
   "cell_type": "code",
   "execution_count": null,
   "id": "817d4c90-4a48-4e39-b3c5-17ce53471134",
   "metadata": {},
   "outputs": [],
   "source": [
    "for nb in OnePiece.Path.select(\".\", false, ig_ = (r\"^runtests\",), ke_ = (r\".ipynb$\",))\n",
    "\n",
    "    na = splitext(nb)[1]\n",
    "\n",
    "    println(\"=\"^99)\n",
    "\n",
    "    println(na)\n",
    "\n",
    "    ma_ = Set()\n",
    "\n",
    "    for ce in OnePiece.Dict.read(nb)[\"cells\"]\n",
    "\n",
    "        if ce[\"cell_type\"] != \"markdown\"\n",
    "\n",
    "            continue\n",
    "\n",
    "        end\n",
    "\n",
    "        for li in ce[\"source\"]\n",
    "\n",
    "            push!(ma_, OnePiece.String.split_and_get(rstrip(li, '\\n'), \" \", 2))\n",
    "\n",
    "        end\n",
    "\n",
    "    end\n",
    "\n",
    "    for jl in OnePiece.Path.select(\n",
    "        joinpath(dirname(@__DIR__), \"src\", na),\n",
    "        false,\n",
    "        ig_ = (r\"^_.jl$\",),\n",
    "        ke_ = (r\".jl$\",),\n",
    "    )\n",
    "\n",
    "        naj = splitext(jl)[1]\n",
    "\n",
    "        if naj in ma_\n",
    "\n",
    "            pop!(ma_, naj)\n",
    "\n",
    "        else\n",
    "\n",
    "            println(\"  < $naj\")\n",
    "\n",
    "        end\n",
    "\n",
    "    end\n",
    "\n",
    "    if !isempty(ma_)\n",
    "\n",
    "        println(\"  > $(join(ma_, \"\\n  >\"))\")\n",
    "\n",
    "    end\n",
    "\n",
    "end"
   ]
  },
  {
   "cell_type": "code",
   "execution_count": null,
   "id": "06b4e84d",
   "metadata": {},
   "outputs": [],
   "source": [
    "OnePiece.IPYNB.run(@__DIR__, [\"$pr.ipynb\" for pr in [\"runtests\", \"Kumo\"]])"
   ]
  }
 ],
 "metadata": {
  "@webio": {
   "lastCommId": null,
   "lastKernelId": null
  },
  "kernelspec": {
   "display_name": "Julia 1.8.2",
   "language": "julia",
   "name": "julia-1.8"
  },
  "language_info": {
   "file_extension": ".jl",
   "mimetype": "application/julia",
   "name": "julia",
   "version": "1.8.2"
  }
 },
 "nbformat": 4,
 "nbformat_minor": 5
}
