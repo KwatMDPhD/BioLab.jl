{
 "cells": [
  {
   "cell_type": "code",
   "execution_count": 31,
   "id": "ad4fb98a",
   "metadata": {},
   "outputs": [
    {
     "name": "stdout",
     "output_type": "stream",
     "text": [
      "Removed /var/folders/mg/30npdf0s1z36txb2qvgylrzh0000gn/T/OnePiece.test.\n",
      "Made /var/folders/mg/30npdf0s1z36txb2qvgylrzh0000gn/T/OnePiece.test.\n"
     ]
    }
   ],
   "source": [
    "TE = joinpath(tempdir(), \"OnePiece.test\")\n",
    "\n",
    "if isdir(TE)\n",
    "\n",
    "    rm(TE, recursive = true)\n",
    "\n",
    "    println(\"Removed \", TE, \".\")\n",
    "\n",
    "end\n",
    "\n",
    "mkdir(TE)\n",
    "\n",
    "println(\"Made \", TE, \".\")"
   ]
  },
  {
   "cell_type": "markdown",
   "id": "349c228e",
   "metadata": {},
   "source": [
    "---"
   ]
  },
  {
   "cell_type": "code",
   "execution_count": 32,
   "id": "ed0519d4",
   "metadata": {},
   "outputs": [],
   "source": [
    "pam = dirname(@__DIR__)\n",
    "\n",
    "pap = joinpath(pam, \"Project.toml\")\n",
    "\n",
    "pas = joinpath(pam, \"src\")\n",
    "\n",
    "pat = joinpath(pam, \"test\")\n",
    "\n",
    ";"
   ]
  },
  {
   "cell_type": "code",
   "execution_count": 33,
   "id": "7eb3ba2a",
   "metadata": {},
   "outputs": [],
   "source": [
    "using TOML"
   ]
  },
  {
   "cell_type": "code",
   "execution_count": 34,
   "id": "02a29c5c",
   "metadata": {},
   "outputs": [],
   "source": [
    "to = TOML.parse(read(pap, String))\n",
    "\n",
    "mo = \"OnePiece\"\n",
    "\n",
    "@assert to[\"name\"] == splitext(basename(pam))[1] == mo"
   ]
  },
  {
   "cell_type": "markdown",
   "id": "ea5e2eef",
   "metadata": {},
   "source": [
    "## Make src/OnePiece.jl "
   ]
  },
  {
   "cell_type": "code",
   "execution_count": 35,
   "id": "bbc0ff71",
   "metadata": {},
   "outputs": [],
   "source": [
    "su_ = [\n",
    "    \"io/table\",\n",
    "    \"io/fcs\",\n",
    "    \"io/gct\",\n",
    "    \"io/gmt\",\n",
    "    #\"io/pandas\",\n",
    "    \"extension/constant\",\n",
    "    \"extension/dict\",\n",
    "    \"extension/vector\",\n",
    "    \"extension/string\",\n",
    "    \"extension/path\",\n",
    "    \"extension/dataframe\",\n",
    "    \"templating\",\n",
    "    \"informatics/tensor\",\n",
    "    \"informatics/geometry\",\n",
    "    \"informatics/normalization\",\n",
    "    \"informatics/statistics\",\n",
    "    \"informatics/significance\",\n",
    "    \"informatics/information\",\n",
    "    \"emoji\",\n",
    "    \"figure\",\n",
    "    \"tensor_function\",\n",
    "    \"feature_x_sample\",\n",
    "    \"gene\",\n",
    "    \"feature_set_enrichment\",\n",
    "]\n",
    "\n",
    ";"
   ]
  },
  {
   "cell_type": "code",
   "execution_count": 36,
   "id": "6c970dfa",
   "metadata": {},
   "outputs": [
    {
     "data": {
      "text/plain": [
       "Set{String} with 1 element:\n",
       "  \"pandas\""
      ]
     },
     "execution_count": 36,
     "metadata": {},
     "output_type": "execute_result"
    }
   ],
   "source": [
    "symdiff(Set(vcat([splitpath(su) for su in su_]...)), Set(vcat([wa[2] for wa in walkdir(pas)]...)))"
   ]
  },
  {
   "cell_type": "code",
   "execution_count": 37,
   "id": "48628870",
   "metadata": {},
   "outputs": [],
   "source": [
    "using OrderedCollections"
   ]
  },
  {
   "cell_type": "code",
   "execution_count": 38,
   "id": "b95f8ea8",
   "metadata": {},
   "outputs": [],
   "source": [
    "tr = OrderedDict()\n",
    "\n",
    "tr[mo] = OrderedDict()\n",
    "\n",
    "cu = tr[mo]\n",
    "\n",
    "for su in su_\n",
    "\n",
    "    di_ = splitpath(su)\n",
    "\n",
    "    n_di = length(di_)\n",
    "\n",
    "    for (id, di) in enumerate(di_)\n",
    "\n",
    "        if id < n_di\n",
    "\n",
    "            if !haskey(cu, di)\n",
    "\n",
    "                cu[di] = OrderedDict()\n",
    "\n",
    "            end\n",
    "\n",
    "            global cu = cu[di]\n",
    "\n",
    "        else\n",
    "\n",
    "            jl_ = [fi for fi in readdir(joinpath(pas, su)) if occursin(r\"\\.jl$\", fi)]\n",
    "\n",
    "            cu[di] = [joinpath(su, jl) for jl in jl_]\n",
    "\n",
    "            global cu = tr[mo]\n",
    "\n",
    "        end\n",
    "\n",
    "    end\n",
    "\n",
    "end"
   ]
  },
  {
   "cell_type": "code",
   "execution_count": 39,
   "id": "a974adc6",
   "metadata": {},
   "outputs": [
    {
     "data": {
      "text/plain": [
       "write_line (generic function with 1 method)"
      ]
     },
     "execution_count": 39,
     "metadata": {},
     "output_type": "execute_result"
    }
   ],
   "source": [
    "function write_line(io, st)\n",
    "\n",
    "    write(io, string(st, \"\\n\"))\n",
    "\n",
    "end"
   ]
  },
  {
   "cell_type": "code",
   "execution_count": 43,
   "id": "020b1d26",
   "metadata": {},
   "outputs": [
    {
     "data": {
      "text/plain": [
       "write_branch (generic function with 1 method)"
      ]
     },
     "execution_count": 43,
     "metadata": {},
     "output_type": "execute_result"
    }
   ],
   "source": [
    "function write_branch(io, id, va)\n",
    "\n",
    "    sp = \"    \"^id\n",
    "\n",
    "    if va isa OrderedDict\n",
    "\n",
    "        for (ke, va2) in va\n",
    "\n",
    "            write_line(io, string(sp, \"module \", ke))\n",
    "\n",
    "            write_branch(io, id + 1, va2)\n",
    "\n",
    "            write_line(io, string(sp, \"end\"))\n",
    "\n",
    "        end\n",
    "\n",
    "    else\n",
    "\n",
    "        for li in va\n",
    "\n",
    "            write_line(io, string(sp, \"include(\\\"\", li, \"\\\")\"))\n",
    "\n",
    "        end\n",
    "\n",
    "    end\n",
    "\n",
    "\n",
    "end"
   ]
  },
  {
   "cell_type": "code",
   "execution_count": 44,
   "id": "5d10ee27",
   "metadata": {},
   "outputs": [],
   "source": [
    "open(joinpath(pas, string(mo, \".jl\")), \"w\") do io\n",
    "\n",
    "    write_branch(io, 0, tr)\n",
    "\n",
    "end"
   ]
  },
  {
   "cell_type": "code",
   "execution_count": 45,
   "id": "b848dcec",
   "metadata": {},
   "outputs": [],
   "source": [
    "using OnePiece"
   ]
  },
  {
   "cell_type": "markdown",
   "id": "ed3aee82",
   "metadata": {},
   "source": [
    "## Template"
   ]
  },
  {
   "cell_type": "code",
   "execution_count": 46,
   "id": "e9f1d8d6",
   "metadata": {},
   "outputs": [
    {
     "name": "stdout",
     "output_type": "stream",
     "text": [
      "Templating /Users/kwat/craft/OnePiece.jl/test/io/table.ipynb (1)\n",
      "Transplanting /Users/kwat/craft/OnePiece.jl/test/io/table.ipynb\n",
      "Templating /Users/kwat/craft/OnePiece.jl/test/io/fcs.ipynb (2)\n",
      "Transplanting /Users/kwat/craft/OnePiece.jl/test/io/fcs.ipynb\n",
      "Templating /Users/kwat/craft/OnePiece.jl/test/io/gct.ipynb (3)\n",
      "Transplanting /Users/kwat/craft/OnePiece.jl/test/io/gct.ipynb\n",
      "Templating /Users/kwat/craft/OnePiece.jl/test/io/gmt.ipynb (4)\n",
      "Transplanting /Users/kwat/craft/OnePiece.jl/test/io/gmt.ipynb\n",
      "Templating /Users/kwat/craft/OnePiece.jl/test/extension/constant.ipynb (5)\n",
      "Transplanting /Users/kwat/craft/OnePiece.jl/test/extension/constant.ipynb\n",
      "Templating /Users/kwat/craft/OnePiece.jl/test/extension/dict.ipynb (6)\n",
      "Transplanting /Users/kwat/craft/OnePiece.jl/test/extension/dict.ipynb\n",
      "Templating /Users/kwat/craft/OnePiece.jl/test/extension/vector.ipynb (7)\n",
      "Transplanting /Users/kwat/craft/OnePiece.jl/test/extension/vector.ipynb\n",
      "Templating /Users/kwat/craft/OnePiece.jl/test/extension/string.ipynb (8)\n",
      "Transplanting /Users/kwat/craft/OnePiece.jl/test/extension/string.ipynb\n",
      "Templating /Users/kwat/craft/OnePiece.jl/test/extension/path.ipynb (9)\n",
      "Transplanting /Users/kwat/craft/OnePiece.jl/test/extension/path.ipynb\n",
      "Templating /Users/kwat/craft/OnePiece.jl/test/extension/dataframe.ipynb (10)\n",
      "Transplanting /Users/kwat/craft/OnePiece.jl/test/extension/dataframe.ipynb\n",
      "Templating /Users/kwat/craft/OnePiece.jl/test/templating.ipynb (11)\n",
      "Transplanting /Users/kwat/craft/OnePiece.jl/test/templating.ipynb\n",
      "Templating /Users/kwat/craft/OnePiece.jl/test/informatics/tensor.ipynb (12)\n",
      "Transplanting /Users/kwat/craft/OnePiece.jl/test/informatics/tensor.ipynb\n",
      "Templating /Users/kwat/craft/OnePiece.jl/test/informatics/geometry.ipynb (13)\n",
      "Transplanting /Users/kwat/craft/OnePiece.jl/test/informatics/geometry.ipynb\n",
      "Templating /Users/kwat/craft/OnePiece.jl/test/informatics/normalization.ipynb (14)\n",
      "Transplanting /Users/kwat/craft/OnePiece.jl/test/informatics/normalization.ipynb\n",
      "Templating /Users/kwat/craft/OnePiece.jl/test/informatics/statistics.ipynb (15)\n",
      "Transplanting /Users/kwat/craft/OnePiece.jl/test/informatics/statistics.ipynb\n",
      "Templating /Users/kwat/craft/OnePiece.jl/test/informatics/significance.ipynb (16)\n",
      "Transplanting /Users/kwat/craft/OnePiece.jl/test/informatics/significance.ipynb\n",
      "Templating /Users/kwat/craft/OnePiece.jl/test/informatics/information.ipynb (17)\n",
      "Transplanting /Users/kwat/craft/OnePiece.jl/test/informatics/information.ipynb\n",
      "Templating /Users/kwat/craft/OnePiece.jl/test/emoji.ipynb (18)\n",
      "Transplanting /Users/kwat/craft/OnePiece.jl/test/emoji.ipynb\n",
      "Templating /Users/kwat/craft/OnePiece.jl/test/figure.ipynb (19)\n",
      "Transplanting /Users/kwat/craft/OnePiece.jl/test/figure.ipynb\n",
      "Templating /Users/kwat/craft/OnePiece.jl/test/tensor_function.ipynb (20)\n",
      "Transplanting /Users/kwat/craft/OnePiece.jl/test/tensor_function.ipynb\n",
      "Templating /Users/kwat/craft/OnePiece.jl/test/feature_x_sample.ipynb (21)\n",
      "This application is used to convert notebook files (*.ipynb)\n",
      "        to various other formats.\n",
      "\n",
      "        WARNING: THE COMMANDLINE INTERFACE MAY CHANGE IN FUTURE RELEASES.\n",
      "\n",
      "Options\n",
      "=======\n",
      "The options below are convenience aliases to configurable class-options,\n",
      "as listed in the \"Equivalent to\" description-line of the aliases.\n",
      "To see all configurable class-options for some <cmd>, use:\n",
      "    <cmd> --help-all\n",
      "\n",
      "--debug\n",
      "    set log level to logging.DEBUG (maximize logging output)\n",
      "    Equivalent to: [--Application.log_level=10]\n",
      "--show-config\n",
      "    Show the application's configuration (human-readable format)\n",
      "    Equivalent to: [--Application.show_config=True]\n",
      "--show-config-json\n",
      "    Show the application's configuration (json format)\n",
      "    Equivalent to: [--Application.show_config_json=True]\n",
      "--generate-config\n",
      "    generate default config file\n",
      "    Equivalent to: [--JupyterApp.generate_config=True]\n",
      "-y\n",
      "    Answer yes to any questions instead of prompting.\n",
      "    Equivalent to: [--JupyterApp.answer_yes=True]\n",
      "--execute\n",
      "    Execute the notebook prior to export.\n",
      "    Equivalent to: [--ExecutePreprocessor.enabled=True]\n",
      "--allow-errors\n",
      "    Continue notebook execution even if one of the cells throws an error and include the error message in the cell output (the default behaviour is to abort conversion). This flag is only relevant if '--execute' was specified, too.\n",
      "    Equivalent to: [--ExecutePreprocessor.allow_errors=True]\n",
      "--stdin\n",
      "    read a single notebook file from stdin. Write the resulting notebook with default basename 'notebook.*'\n",
      "    Equivalent to: [--NbConvertApp.from_stdin=True]\n",
      "--stdout\n",
      "    Write notebook output to stdout instead of files.\n",
      "    Equivalent to: [--NbConvertApp.writer_class=StdoutWriter]\n",
      "--inplace\n",
      "    Run nbconvert in place, overwriting the existing notebook (only \n",
      "            relevant when converting to notebook format)\n",
      "    Equivalent to: [--NbConvertApp.use_output_suffix=False --NbConvertApp.export_format=notebook --FilesWriter.build_directory=]\n",
      "--clear-output\n",
      "    Clear output of current file and save in place, \n",
      "            overwriting the existing notebook.\n",
      "    Equivalent to: [--NbConvertApp.use_output_suffix=False --NbConvertApp.export_format=notebook --FilesWriter.build_directory= --ClearOutputPreprocessor.enabled=True]\n",
      "--no-prompt\n",
      "    Exclude input and output prompts from converted document.\n",
      "    Equivalent to: [--TemplateExporter.exclude_input_prompt=True --TemplateExporter.exclude_output_prompt=True]\n",
      "--no-input\n",
      "    Exclude input cells and output prompts from converted document. \n",
      "            This mode is ideal for generating code-free reports.\n",
      "    Equivalent to: [--TemplateExporter.exclude_output_prompt=True --TemplateExporter.exclude_input=True --TemplateExporter.exclude_input_prompt=True]\n",
      "--allow-chromium-download\n",
      "    Whether to allow downloading chromium if no suitable version is found on the system.\n",
      "    Equivalent to: [--WebPDFExporter.allow_chromium_download=True]\n",
      "--disable-chromium-sandbox\n",
      "    Disable chromium security sandbox when converting to PDF..\n",
      "    Equivalent to: [--WebPDFExporter.disable_sandbox=True]\n",
      "--show-input\n",
      "    Shows code input. This is flag is only useful for dejavu users.\n",
      "    Equivalent to: [--TemplateExporter.exclude_input=False]\n",
      "--log-level=<Enum>\n",
      "    Set the log level by value or name.\n",
      "    Choices: any of [0, 10, 20, 30, 40, 50, 'DEBUG', 'INFO', 'WARN', 'ERROR', 'CRITICAL']\n",
      "    Default: 30\n",
      "    Equivalent to: [--Application.log_level]\n",
      "--config=<Unicode>\n",
      "    Full path of a config file.\n",
      "    Default: ''\n",
      "    Equivalent to: [--JupyterApp.config_file]\n",
      "--to=<Unicode>\n",
      "    The export format to be used, either one of the built-in formats\n",
      "            ['asciidoc', 'custom', 'html', 'latex', 'markdown', 'notebook', 'pdf', 'python', 'rst', 'script', 'slides', 'webpdf']\n",
      "            or a dotted object name that represents the import path for an\n",
      "            ``Exporter`` class\n",
      "    Default: ''\n",
      "    Equivalent to: [--NbConvertApp.export_format]\n",
      "--template=<Unicode>\n",
      "    Name of the template to use\n",
      "    Default: ''\n",
      "    Equivalent to: [--TemplateExporter.template_name]\n",
      "--template-file=<Unicode>\n",
      "    Name of the template file to use\n",
      "    Default: None\n",
      "    Equivalent to: [--TemplateExporter.template_file]\n",
      "--writer=<DottedObjectName>\n",
      "    Writer class used to write the \n",
      "                                        results of the conversion\n",
      "    Default: 'FilesWriter'\n",
      "    Equivalent to: [--NbConvertApp.writer_class]\n",
      "--post=<DottedOrNone>\n",
      "    PostProcessor class used to write the\n",
      "                                        results of the conversion\n",
      "    Default: ''\n",
      "    Equivalent to: [--NbConvertApp.postprocessor_class]\n",
      "--output=<Unicode>\n",
      "    overwrite base name use for output files.\n",
      "                can only be used when converting one notebook at a time.\n",
      "    Default: ''\n",
      "    Equivalent to: [--NbConvertApp.output_base]\n",
      "--output-dir=<Unicode>\n",
      "    Directory to write output(s) to. Defaults\n",
      "                                  to output to the directory of each notebook. To recover\n",
      "                                  previous default behaviour (outputting to the current \n",
      "                                  working directory) use . as the flag value.\n",
      "    Default: ''\n",
      "    Equivalent to: [--FilesWriter.build_directory]\n",
      "--reveal-prefix=<Unicode>\n",
      "    The URL prefix for reveal.js (version 3.x).\n",
      "            This defaults to the reveal CDN, but can be any url pointing to a copy \n",
      "            of reveal.js. \n",
      "            For speaker notes to work, this must be a relative path to a local \n",
      "            copy of reveal.js: e.g., \"reveal.js\".\n",
      "            If a relative path is given, it must be a subdirectory of the\n",
      "            current directory (from which the server is run).\n",
      "            See the usage documentation\n",
      "            (https://nbconvert.readthedocs.io/en/latest/usage.html#reveal-js-html-slideshow)\n",
      "            for more details.\n",
      "    Default: ''\n",
      "    Equivalent to: [--SlidesExporter.reveal_url_prefix]\n",
      "--nbformat=<Enum>\n",
      "    The nbformat version to write.\n",
      "            Use this to downgrade notebooks.\n",
      "    Choices: any of [1, 2, 3, 4]\n",
      "    Default: 4\n",
      "    Equivalent to: [--NotebookExporter.nbformat_version]\n",
      "\n",
      "Examples\n",
      "--------\n",
      "\n",
      "    The simplest way to use nbconvert is\n",
      "\n",
      "            > jupyter nbconvert mynotebook.ipynb --to html\n",
      "\n",
      "            Options include ['asciidoc', 'custom', 'html', 'latex', 'markdown', 'notebook', 'pdf', 'python', 'rst', 'script', 'slides', 'webpdf'].\n",
      "\n",
      "            > jupyter nbconvert --to latex mynotebook.ipynb\n",
      "\n",
      "            Both HTML and LaTeX support multiple output templates. LaTeX includes\n",
      "            'base', 'article' and 'report'.  HTML includes 'basic', 'lab' and \n",
      "            'classic'. You can specify the flavor of the format used.\n",
      "\n",
      "            > jupyter nbconvert --to html --template lab mynotebook.ipynb\n",
      "\n",
      "            You can also pipe the output to stdout, rather than a file\n",
      "\n",
      "            > jupyter nbconvert mynotebook.ipynb --stdout\n",
      "\n",
      "            PDF is generated via latex\n",
      "\n",
      "            > jupyter nbconvert mynotebook.ipynb --to pdf\n",
      "\n",
      "            You can get (and serve) a Reveal.js-powered slideshow\n",
      "\n",
      "            > jupyter nbconvert myslides.ipynb --to slides --post serve\n",
      "\n",
      "            Multiple notebooks can be given at the command line in a couple of \n",
      "            different ways:\n",
      "\n",
      "            > jupyter nbconvert notebook*.ipynb\n",
      "            > jupyter nbconvert notebook1.ipynb notebook2.ipynb\n",
      "\n",
      "            or you can specify the notebooks list in a config file, containing::\n",
      "\n",
      "                c.NbConvertApp.notebooks = [\"my_notebook.ipynb\"]\n",
      "\n",
      "            > jupyter nbconvert --config mycfg.py\n",
      "\n",
      "To see all available configurables, use `--help-all`.\n",
      "\n"
     ]
    },
    {
     "name": "stderr",
     "output_type": "stream",
     "text": [
      "[NbConvertApp] WARNING | pattern '/Users/kwat/craft/OnePiece.jl/test/feature_x_sample.ipynb' matched no files\n"
     ]
    },
    {
     "ename": "LoadError",
     "evalue": "failed process: Process(`\u001b[4mjupyter-nbconvert\u001b[24m \u001b[4m--clear-output\u001b[24m \u001b[4m--inplace\u001b[24m \u001b[4m--log-level\u001b[24m \u001b[4m0\u001b[24m \u001b[4m/Users/kwat/craft/OnePiece.jl/test/feature_x_sample.ipynb\u001b[24m`, ProcessExited(255)) [255]\n",
     "output_type": "error",
     "traceback": [
      "failed process: Process(`\u001b[4mjupyter-nbconvert\u001b[24m \u001b[4m--clear-output\u001b[24m \u001b[4m--inplace\u001b[24m \u001b[4m--log-level\u001b[24m \u001b[4m0\u001b[24m \u001b[4m/Users/kwat/craft/OnePiece.jl/test/feature_x_sample.ipynb\u001b[24m`, ProcessExited(255)) [255]\n",
      "",
      "Stacktrace:",
      " [1] pipeline_error",
      "   @ ./process.jl:531 [inlined]",
      " [2] run(::Cmd; wait::Bool)",
      "   @ Base ./process.jl:446",
      " [3] run(::Cmd)",
      "   @ Base ./process.jl:444",
      " [4] top-level scope",
      "   @ ./In[46]:9",
      " [5] eval",
      "   @ ./boot.jl:373 [inlined]",
      " [6] include_string(mapexpr::typeof(REPL.softscope), mod::Module, code::String, filename::String)",
      "   @ Base ./loading.jl:1196"
     ]
    }
   ],
   "source": [
    "de, id_ = \"-\"^3, [1, 2, 1]\n",
    "\n",
    "for (id, su) in enumerate([su_..., \"speed\"])\n",
    "\n",
    "    nb = joinpath(pat, string(su, \".ipynb\"))\n",
    "\n",
    "    println(\"Templating \", nb, \" (\", id, \")\")\n",
    "\n",
    "    run(`jupyter-nbconvert --clear-output --inplace --log-level 0 $nb`)\n",
    "\n",
    "    OnePiece.templating.transplant(\"template.ipynb\", nb, de, id_)\n",
    "\n",
    "end"
   ]
  },
  {
   "cell_type": "markdown",
   "id": "b0413aa4",
   "metadata": {},
   "source": [
    "## Test"
   ]
  },
  {
   "cell_type": "code",
   "execution_count": null,
   "id": "ad28c694",
   "metadata": {
    "scrolled": false
   },
   "outputs": [],
   "source": [
    "for (id, su) in enumerate(su_)\n",
    "\n",
    "    nb = joinpath(pat, string(su, \".ipynb\"))\n",
    "\n",
    "    if id < 1\n",
    "\n",
    "        continue\n",
    "\n",
    "    end\n",
    "\n",
    "    println(id)\n",
    "\n",
    "    println(\"Running \", nb, \" (\", id, \")\")\n",
    "\n",
    "    run(\n",
    "        `jupyter-nbconvert --execute --ExecutePreprocessor.timeout=-1 --clear-output --inplace --log-level 0 $nb`,\n",
    "    )\n",
    "\n",
    "end"
   ]
  },
  {
   "cell_type": "markdown",
   "id": "414177b0",
   "metadata": {},
   "source": [
    "---"
   ]
  },
  {
   "cell_type": "code",
   "execution_count": null,
   "id": "3e4af1ab",
   "metadata": {
    "execution": {
     "iopub.execute_input": "2021-10-14T18:25:54.055222Z",
     "iopub.status.busy": "2021-10-14T18:25:53.342490Z",
     "iopub.status.idle": "2021-10-14T18:26:10.352867Z",
     "shell.execute_reply": "2021-10-14T18:26:10.352370Z"
    }
   },
   "outputs": [],
   "source": [
    "if isdir(TE)\n",
    "\n",
    "    rm(TE, recursive = true)\n",
    "\n",
    "    println(\"Removed \", TE, \".\")\n",
    "\n",
    "end"
   ]
  }
 ],
 "metadata": {
  "kernelspec": {
   "display_name": "Julia 1.7.2",
   "language": "julia",
   "name": "julia-1.7"
  },
  "language_info": {
   "file_extension": ".jl",
   "mimetype": "application/julia",
   "name": "julia",
   "version": "1.7.2"
  }
 },
 "nbformat": 4,
 "nbformat_minor": 5
}
