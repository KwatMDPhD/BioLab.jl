{
 "cells": [
  {
   "cell_type": "code",
   "execution_count": 1,
   "id": "c41c9542",
   "metadata": {},
   "outputs": [
    {
     "data": {
      "text/plain": [
       "\"/var/folders/mg/30npdf0s1z36txb2qvgylrzh0000gn/T/OnePiece.test/\""
      ]
     },
     "execution_count": 1,
     "metadata": {},
     "output_type": "execute_result"
    }
   ],
   "source": [
    "TE = joinpath(tempdir(), \"OnePiece.test\", \"\")\n",
    "\n",
    "if isdir(TE)\n",
    "\n",
    "    rm(TE; recursive = true)\n",
    "\n",
    "end\n",
    "\n",
    "mkdir(TE)"
   ]
  },
  {
   "cell_type": "code",
   "execution_count": 2,
   "id": "c9b7ee5c",
   "metadata": {},
   "outputs": [],
   "source": [
    "using Revise\n",
    "using BenchmarkTools"
   ]
  },
  {
   "cell_type": "markdown",
   "id": "53fbd6cc",
   "metadata": {},
   "source": [
    "---"
   ]
  },
  {
   "cell_type": "code",
   "execution_count": 3,
   "id": "ed0519d4",
   "metadata": {},
   "outputs": [],
   "source": [
    "pam = dirname(@__DIR__)\n",
    "\n",
    "pap = joinpath(pam, \"Project.toml\")\n",
    "\n",
    "pas = joinpath(pam, \"src\")\n",
    "\n",
    "pat = joinpath(pam, \"test\")\n",
    "\n",
    ";"
   ]
  },
  {
   "cell_type": "code",
   "execution_count": 4,
   "id": "7eb3ba2a",
   "metadata": {},
   "outputs": [],
   "source": [
    "using TOML"
   ]
  },
  {
   "cell_type": "code",
   "execution_count": 5,
   "id": "02a29c5c",
   "metadata": {},
   "outputs": [],
   "source": [
    "to = TOML.parse(read(pap, String))\n",
    "\n",
    "mo = \"OnePiece\"\n",
    "\n",
    "@assert to[\"name\"] == splitext(basename(pam))[1] == mo"
   ]
  },
  {
   "cell_type": "markdown",
   "id": "ea5e2eef",
   "metadata": {},
   "source": [
    "## Make src/OnePiece.jl "
   ]
  },
  {
   "cell_type": "code",
   "execution_count": 6,
   "id": "bbc0ff71",
   "metadata": {},
   "outputs": [],
   "source": [
    "su_ = [\n",
    "    \"io/table\",\n",
    "    \"io/fcs\",\n",
    "    \"io/gct\",\n",
    "    \"io/gmt\",\n",
    "    \"io/pandas\",\n",
    "    \"extension/constant\",\n",
    "    \"extension/dict\",\n",
    "    \"extension/vector\",\n",
    "    \"extension/string\",\n",
    "    \"extension/path\",\n",
    "    \"templating\",\n",
    "    \"informatics/tensor\",\n",
    "    \"informatics/geometry\",\n",
    "    \"informatics/normalization\",\n",
    "    \"informatics/statistics\",\n",
    "    \"informatics/significance\",\n",
    "    \"informatics/information\",\n",
    "    \"emoji\",\n",
    "    \"figure\",\n",
    "    \"tensor_function\",\n",
    "    \"feature_by_sample\",\n",
    "    \"gene\",\n",
    "    #\"feature_set_enrichment\",\n",
    "]\n",
    "\n",
    ";"
   ]
  },
  {
   "cell_type": "code",
   "execution_count": 7,
   "id": "6c970dfa",
   "metadata": {},
   "outputs": [
    {
     "data": {
      "text/plain": [
       "Set{String} with 1 element:\n",
       "  \"feature_set_enrichment\""
      ]
     },
     "execution_count": 7,
     "metadata": {},
     "output_type": "execute_result"
    }
   ],
   "source": [
    "dis_ = Set(vcat([splitpath(su) for su in su_]...))\n",
    "\n",
    "di_ = Set(vcat([wa[2] for wa in walkdir(pas)]...))\n",
    "\n",
    "symdiff(dis_, di_)"
   ]
  },
  {
   "cell_type": "code",
   "execution_count": 8,
   "id": "48628870",
   "metadata": {},
   "outputs": [],
   "source": [
    "using JSON\n",
    "using OrderedCollections"
   ]
  },
  {
   "cell_type": "code",
   "execution_count": 9,
   "id": "b95f8ea8",
   "metadata": {},
   "outputs": [
    {
     "name": "stdout",
     "output_type": "stream",
     "text": [
      "{\n",
      "  \"OnePiece\": {\n",
      "    \"io\": {\n",
      "      \"table\": [\n",
      "        \"io/table/_.jl\",\n",
      "        \"io/table/read.jl\",\n",
      "        \"io/table/write.jl\"\n",
      "      ],\n",
      "      \"fcs\": [\n",
      "        \"io/fcs/_.jl\",\n",
      "        \"io/fcs/read.jl\"\n",
      "      ],\n",
      "      \"gct\": [\n",
      "        \"io/gct/_.jl\",\n",
      "        \"io/gct/read.jl\"\n",
      "      ],\n",
      "      \"gmt\": [\n",
      "        \"io/gmt/read.jl\"\n",
      "      ],\n",
      "      \"pandas\": [\n",
      "        \"io/pandas/_.jl\",\n",
      "        \"io/pandas/make_dataframe.jl\",\n",
      "        \"io/pandas/make_series.jl\",\n",
      "        \"io/pandas/read_dataframe.jl\"\n",
      "      ]\n",
      "    },\n",
      "    \"extension\": {\n",
      "      \"constant\": [\n",
      "        \"extension/constant/ALPHABET.jl\",\n",
      "        \"extension/constant/CARD.jl\"\n",
      "      ],\n",
      "      \"dict\": [\n",
      "        \"extension/dict/_.jl\",\n",
      "        \"extension/dict/merge.jl\",\n",
      "        \"extension/dict/read.jl\",\n",
      "        \"extension/dict/sort_recursively!.jl\",\n",
      "        \"extension/dict/summarize.jl\",\n",
      "        \"extension/dict/symbolize_key.jl\",\n",
      "        \"extension/dict/view.jl\",\n",
      "        \"extension/dict/write.jl\"\n",
      "      ],\n",
      "      \"vector\": [\n",
      "        \"extension/vector/get_longest_common_prefix.jl\",\n",
      "        \"extension/vector/get_order.jl\",\n",
      "        \"extension/vector/is_in.jl\",\n",
      "        \"extension/vector/sort_like.jl\"\n",
      "      ],\n",
      "      \"string\": [\n",
      "        \"extension/string/_.jl\",\n",
      "        \"extension/string/remove_longest_common_prefix.jl\",\n",
      "        \"extension/string/replace.jl\",\n",
      "        \"extension/string/title.jl\",\n",
      "        \"extension/string/transplant.jl\"\n",
      "      ],\n",
      "      \"path\": [\n",
      "        \"extension/path/_.jl\",\n",
      "        \"extension/path/clean.jl\",\n",
      "        \"extension/path/error_extension.jl\",\n",
      "        \"extension/path/error_missing_path.jl\",\n",
      "        \"extension/path/make_absolute.jl\",\n",
      "        \"extension/path/move.jl\",\n",
      "        \"extension/path/remove_extension.jl\",\n",
      "        \"extension/path/sed_recursively.jl\",\n",
      "        \"extension/path/select.jl\",\n",
      "        \"extension/path/shorten.jl\"\n",
      "      ]\n",
      "    },\n",
      "    \"templating\": [\n",
      "      \"templating/_.jl\",\n",
      "      \"templating/error_missing.jl\",\n",
      "      \"templating/plan_replacement.jl\",\n",
      "      \"templating/plan_transplant.jl\",\n",
      "      \"templating/transplant.jl\"\n",
      "    ],\n",
      "    \"informatics\": {\n",
      "      \"tensor\": [\n",
      "        \"informatics/tensor/cumulate_sum_reverse.jl\",\n",
      "        \"informatics/tensor/get_area.jl\",\n",
      "        \"informatics/tensor/get_extreme.jl\",\n",
      "        \"informatics/tensor/make_increasing_by_stepping_down!.jl\",\n",
      "        \"informatics/tensor/make_increasing_by_stepping_up!.jl\",\n",
      "        \"informatics/tensor/shift_minimum.jl\",\n",
      "        \"informatics/tensor/sum_where.jl\"\n",
      "      ],\n",
      "      \"geometry\": [\n",
      "        \"informatics/geometry/get_center.jl\"\n",
      "      ],\n",
      "      \"normalization\": [\n",
      "        \"informatics/normalization/_.jl\",\n",
      "        \"informatics/normalization/normalize!.jl\",\n",
      "        \"informatics/normalization/normalize.jl\"\n",
      "      ],\n",
      "      \"statistics\": [\n",
      "        \"informatics/statistics/_.jl\",\n",
      "        \"informatics/statistics/get_confidence_interval.jl\",\n",
      "        \"informatics/statistics/get_z_score.jl\"\n",
      "      ],\n",
      "      \"significance\": [\n",
      "        \"informatics/significance/_.jl\",\n",
      "        \"informatics/significance/adjust_p_value.jl\",\n",
      "        \"informatics/significance/get_margin_of_error.jl\",\n",
      "        \"informatics/significance/get_p_value.jl\",\n",
      "        \"informatics/significance/get_p_value_and_adjust.jl\"\n",
      "      ],\n",
      "      \"information\": [\n",
      "        \"informatics/information/_.jl\",\n",
      "        \"informatics/information/get_entropy.jl\",\n",
      "        \"informatics/information/get_information_coefficient.jl\",\n",
      "        \"informatics/information/get_jensen_shannon_divergence.jl\",\n",
      "        \"informatics/information/get_kolmogorov_smirnov_statistic.jl\",\n",
      "        \"informatics/information/get_kullback_leibler_divergence.jl\",\n",
      "        \"informatics/information/get_kwat_pablo_divergence.jl\",\n",
      "        \"informatics/information/get_mutual_information.jl\",\n",
      "        \"informatics/information/get_signal_to_noise_ratio.jl\",\n",
      "        \"informatics/information/get_symmetric_information_sum.jl\",\n",
      "        \"informatics/information/get_thermodynamic_depth.jl\"\n",
      "      ]\n",
      "    },\n",
      "    \"emoji\": [\n",
      "      \"emoji/print.jl\"\n",
      "    ],\n",
      "    \"figure\": [\n",
      "      \"figure/_.jl\",\n",
      "      \"figure/plot.jl\",\n",
      "      \"figure/plot_bar.jl\",\n",
      "      \"figure/plot_heat_map.jl\",\n",
      "      \"figure/plot_x_y.jl\",\n",
      "      \"figure/write.jl\"\n",
      "    ],\n",
      "    \"tensor_function\": [\n",
      "      \"tensor_function/apply.jl\"\n",
      "    ],\n",
      "    \"feature_by_sample\": [\n",
      "      \"feature_by_sample/_.jl\",\n",
      "      \"feature_by_sample/compare_with_target.jl\"\n",
      "    ],\n",
      "    \"gene\": [\n",
      "      \"gene/_.jl\",\n",
      "      \"gene/map_to_column.jl\",\n",
      "      \"gene/map_to_ensembl_gene.jl\",\n",
      "      \"gene/map_to_hgnc_gene.jl\",\n",
      "      \"gene/map_with_mouse.jl\",\n",
      "      \"gene/read_ensembl.jl\",\n",
      "      \"gene/read_hgnc.jl\",\n",
      "      \"gene/rename.jl\"\n",
      "    ]\n",
      "  }\n",
      "}\n"
     ]
    }
   ],
   "source": [
    "tr = OrderedDict()\n",
    "\n",
    "tr[mo] = OrderedDict()\n",
    "\n",
    "cu = tr[mo]\n",
    "\n",
    "for su in su_\n",
    "\n",
    "    di_ = splitpath(su)\n",
    "\n",
    "    n_di = length(di_)\n",
    "\n",
    "    for (id, di) in enumerate(di_)\n",
    "\n",
    "        if id < n_di\n",
    "\n",
    "            if !haskey(cu, di)\n",
    "\n",
    "                cu[di] = OrderedDict()\n",
    "\n",
    "            end\n",
    "\n",
    "            cu = cu[di]\n",
    "\n",
    "        else\n",
    "\n",
    "            jl_ = [fi for fi in readdir(joinpath(pas, su)) if occursin(r\"\\.jl$\", fi)]\n",
    "\n",
    "            cu[di] = [joinpath(su, jl) for jl in jl_]\n",
    "\n",
    "            cu = tr[mo]\n",
    "\n",
    "        end\n",
    "\n",
    "    end\n",
    "\n",
    "end\n",
    "\n",
    "JSON.print(tr, 2)"
   ]
  },
  {
   "cell_type": "code",
   "execution_count": 10,
   "id": "a974adc6",
   "metadata": {},
   "outputs": [
    {
     "data": {
      "text/plain": [
       "write_line (generic function with 1 method)"
      ]
     },
     "execution_count": 10,
     "metadata": {},
     "output_type": "execute_result"
    }
   ],
   "source": [
    "function write_line(io, st)\n",
    "\n",
    "    return write(io, string(st, \"\\n\"))\n",
    "\n",
    "end"
   ]
  },
  {
   "cell_type": "code",
   "execution_count": 11,
   "id": "020b1d26",
   "metadata": {},
   "outputs": [
    {
     "data": {
      "text/plain": [
       "write_branch (generic function with 1 method)"
      ]
     },
     "execution_count": 11,
     "metadata": {},
     "output_type": "execute_result"
    }
   ],
   "source": [
    "function write_branch(io, id, va)\n",
    "\n",
    "    sp = \"  \"^id\n",
    "\n",
    "    if va isa OrderedDict\n",
    "\n",
    "        for (ke, va2) in va\n",
    "\n",
    "            write_line(io, string(sp, \"module \", ke))\n",
    "\n",
    "            write_branch(io, id + 1, va2)\n",
    "\n",
    "            write_line(io, string(sp, \"end\"))\n",
    "\n",
    "        end\n",
    "\n",
    "    else\n",
    "\n",
    "        for li in va\n",
    "\n",
    "            write_line(io, string(sp, \"include(\\\"\", li, \"\\\")\"))\n",
    "\n",
    "        end\n",
    "\n",
    "    end\n",
    "\n",
    "\n",
    "end"
   ]
  },
  {
   "cell_type": "code",
   "execution_count": 12,
   "id": "5d10ee27",
   "metadata": {},
   "outputs": [],
   "source": [
    "open(joinpath(pas, string(mo, \".jl\")), \"w\") do io\n",
    "\n",
    "    write_branch(io, 0, tr)\n",
    "\n",
    "end"
   ]
  },
  {
   "cell_type": "code",
   "execution_count": 13,
   "id": "b848dcec",
   "metadata": {},
   "outputs": [
    {
     "data": {
      "application/vnd.webio.node+json": {
       "children": [],
       "instanceArgs": {
        "namespace": "html",
        "tag": "div"
       },
       "nodeType": "DOM",
       "props": {},
       "type": "node"
      },
      "text/html": [
       "<div style=\"padding: 1em; background-color: #f8d6da; border: 1px solid #f5c6cb; font-weight: bold;\">\n",
       "<p>The WebIO Jupyter extension was not detected. See the\n",
       "<a href=\"https://juliagizmos.github.io/WebIO.jl/latest/providers/ijulia/\" target=\"_blank\">\n",
       "    WebIO Jupyter integration documentation\n",
       "</a>\n",
       "for more information.\n",
       "</div>\n"
      ],
      "text/plain": [
       "WebIO._IJuliaInit()"
      ]
     },
     "metadata": {
      "application/vnd.webio.node+json": {
       "kernelId": null
      }
     },
     "output_type": "display_data"
    },
    {
     "name": "stderr",
     "output_type": "stream",
     "text": [
      "┌ Info: Precompiling OnePiece [1fe83854-81c0-42f7-afc9-71ba9af673ca]\n",
      "└ @ Base loading.jl:1423\n"
     ]
    }
   ],
   "source": [
    "using OnePiece"
   ]
  },
  {
   "cell_type": "markdown",
   "id": "b0413aa4",
   "metadata": {},
   "source": [
    "## Test submodules"
   ]
  },
  {
   "cell_type": "code",
   "execution_count": 14,
   "id": "ad28c694",
   "metadata": {},
   "outputs": [
    {
     "name": "stdout",
     "output_type": "stream",
     "text": [
      "Running /Users/kwat/craft/OnePiece.jl/test/io/table.ipynb\n",
      "Starting kernel event loops.\n",
      "Running /Users/kwat/craft/OnePiece.jl/test/io/fcs.ipynb\n",
      "Starting kernel event loops.\n",
      "Running /Users/kwat/craft/OnePiece.jl/test/io/gct.ipynb\n",
      "Starting kernel event loops.\n",
      "Running /Users/kwat/craft/OnePiece.jl/test/io/gmt.ipynb\n",
      "Starting kernel event loops.\n",
      "Running /Users/kwat/craft/OnePiece.jl/test/io/pandas.ipynb\n",
      "Starting kernel event loops.\n",
      "Running /Users/kwat/craft/OnePiece.jl/test/extension/constant.ipynb\n",
      "Starting kernel event loops.\n",
      "Running /Users/kwat/craft/OnePiece.jl/test/extension/dict.ipynb\n",
      "Starting kernel event loops.\n",
      "Running /Users/kwat/craft/OnePiece.jl/test/extension/vector.ipynb\n",
      "Starting kernel event loops.\n",
      "Running /Users/kwat/craft/OnePiece.jl/test/extension/string.ipynb\n",
      "Starting kernel event loops.\n",
      "Running /Users/kwat/craft/OnePiece.jl/test/extension/path.ipynb\n",
      "Starting kernel event loops.\n",
      "Running /Users/kwat/craft/OnePiece.jl/test/templating.ipynb\n",
      "Starting kernel event loops.\n"
     ]
    },
    {
     "name": "stderr",
     "output_type": "stream",
     "text": [
      "Traceback (most recent call last):\n",
      "  File \"/Users/kwat/.pyenv/versions/3.10.2/bin/jupyter-nbconvert\", line 8, in <module>\n",
      "    sys.exit(main())\n",
      "  File \"/Users/kwat/.pyenv/versions/3.10.2/lib/python3.10/site-packages/jupyter_core/application.py\", line 264, in launch_instance\n",
      "    return super(JupyterApp, cls).launch_instance(argv=argv, **kwargs)\n",
      "  File \"/Users/kwat/.pyenv/versions/3.10.2/lib/python3.10/site-packages/traitlets/config/application.py\", line 846, in launch_instance\n",
      "    app.start()\n",
      "  File \"/Users/kwat/.pyenv/versions/3.10.2/lib/python3.10/site-packages/nbconvert/nbconvertapp.py\", line 361, in start\n",
      "    self.convert_notebooks()\n",
      "  File \"/Users/kwat/.pyenv/versions/3.10.2/lib/python3.10/site-packages/nbconvert/nbconvertapp.py\", line 533, in convert_notebooks\n",
      "    self.convert_single_notebook(notebook_filename)\n",
      "  File \"/Users/kwat/.pyenv/versions/3.10.2/lib/python3.10/site-packages/nbconvert/nbconvertapp.py\", line 498, in convert_single_notebook\n",
      "    output, resources = self.export_single_notebook(notebook_filename, resources, input_buffer=input_buffer)\n",
      "  File \"/Users/kwat/.pyenv/versions/3.10.2/lib/python3.10/site-packages/nbconvert/nbconvertapp.py\", line 427, in export_single_notebook\n",
      "    output, resources = self.exporter.from_filename(notebook_filename, resources=resources)\n",
      "  File \"/Users/kwat/.pyenv/versions/3.10.2/lib/python3.10/site-packages/nbconvert/exporters/exporter.py\", line 190, in from_filename\n",
      "    return self.from_file(f, resources=resources, **kw)\n",
      "  File \"/Users/kwat/.pyenv/versions/3.10.2/lib/python3.10/site-packages/nbconvert/exporters/exporter.py\", line 208, in from_file\n",
      "    return self.from_notebook_node(nbformat.read(file_stream, as_version=4), resources=resources, **kw)\n",
      "  File \"/Users/kwat/.pyenv/versions/3.10.2/lib/python3.10/site-packages/nbconvert/exporters/notebook.py\", line 32, in from_notebook_node\n",
      "    nb_copy, resources = super().from_notebook_node(nb, resources, **kw)\n",
      "  File \"/Users/kwat/.pyenv/versions/3.10.2/lib/python3.10/site-packages/nbconvert/exporters/exporter.py\", line 147, in from_notebook_node\n",
      "    nb_copy, resources = self._preprocess(nb_copy, resources)\n",
      "  File \"/Users/kwat/.pyenv/versions/3.10.2/lib/python3.10/site-packages/nbconvert/exporters/exporter.py\", line 334, in _preprocess\n",
      "    nbc, resc = preprocessor(nbc, resc)\n",
      "  File \"/Users/kwat/.pyenv/versions/3.10.2/lib/python3.10/site-packages/nbconvert/preprocessors/base.py\", line 47, in __call__\n",
      "    return self.preprocess(nb, resources)\n",
      "  File \"/Users/kwat/.pyenv/versions/3.10.2/lib/python3.10/site-packages/nbconvert/preprocessors/execute.py\", line 84, in preprocess\n",
      "    self.preprocess_cell(cell, resources, index)\n",
      "  File \"/Users/kwat/.pyenv/versions/3.10.2/lib/python3.10/site-packages/nbconvert/preprocessors/execute.py\", line 105, in preprocess_cell\n",
      "    cell = self.execute_cell(cell, index, store_history=True)\n",
      "  File \"/Users/kwat/.pyenv/versions/3.10.2/lib/python3.10/site-packages/nbclient/util.py\", line 84, in wrapped\n",
      "    return just_run(coro(*args, **kwargs))\n",
      "  File \"/Users/kwat/.pyenv/versions/3.10.2/lib/python3.10/site-packages/nbclient/util.py\", line 62, in just_run\n",
      "    return loop.run_until_complete(coro)\n",
      "  File \"/Users/kwat/.pyenv/versions/3.10.2/lib/python3.10/asyncio/base_events.py\", line 641, in run_until_complete\n",
      "    return future.result()\n",
      "  File \"/Users/kwat/.pyenv/versions/3.10.2/lib/python3.10/site-packages/nbclient/client.py\", line 846, in async_execute_cell\n",
      "    self._check_raise_for_error(cell, exec_reply)\n",
      "  File \"/Users/kwat/.pyenv/versions/3.10.2/lib/python3.10/site-packages/nbclient/client.py\", line 748, in _check_raise_for_error\n",
      "    raise CellExecutionError.from_cell_and_msg(cell, exec_reply_content)\n",
      "nbclient.exceptions.CellExecutionError: An error occurred while executing the following cell:\n",
      "------------------\n",
      "OnePiece.templating.get_transplant_plan()\n",
      "------------------\n",
      "\n",
      "UndefVarError: get_transplant_plan not defined\n",
      "\n",
      "Stacktrace:\n",
      " [1] getproperty(x::Module, f::Symbol)\n",
      "   @ Base ./Base.jl:35\n",
      " [2] top-level scope\n",
      "   @ In[5]:1\n",
      " [3] eval\n",
      "   @ ./boot.jl:373 [inlined]\n",
      " [4] include_string(mapexpr::typeof(REPL.softscope), mod::Module, code::String, filename::String)\n",
      "   @ Base ./loading.jl:1196\n",
      "LoadError: UndefVarError: get_transplant_plan not defined\n",
      "\n"
     ]
    },
    {
     "ename": "LoadError",
     "evalue": "failed process: Process(`\u001b[4mjupyter-nbconvert\u001b[24m \u001b[4m--execute\u001b[24m \u001b[4m--ExecutePreprocessor.timeout=-1\u001b[24m \u001b[4m--clear-output\u001b[24m \u001b[4m--inplace\u001b[24m \u001b[4m--log-level\u001b[24m \u001b[4m0\u001b[24m \u001b[4m/Users/kwat/craft/OnePiece.jl/test/templating.ipynb\u001b[24m`, ProcessExited(1)) [1]\n",
     "output_type": "error",
     "traceback": [
      "failed process: Process(`\u001b[4mjupyter-nbconvert\u001b[24m \u001b[4m--execute\u001b[24m \u001b[4m--ExecutePreprocessor.timeout=-1\u001b[24m \u001b[4m--clear-output\u001b[24m \u001b[4m--inplace\u001b[24m \u001b[4m--log-level\u001b[24m \u001b[4m0\u001b[24m \u001b[4m/Users/kwat/craft/OnePiece.jl/test/templating.ipynb\u001b[24m`, ProcessExited(1)) [1]\n",
      "",
      "Stacktrace:",
      " [1] pipeline_error",
      "   @ ./process.jl:531 [inlined]",
      " [2] run(::Cmd; wait::Bool)",
      "   @ Base ./process.jl:446",
      " [3] run(::Cmd)",
      "   @ Base ./process.jl:444",
      " [4] top-level scope",
      "   @ ./In[14]:7",
      " [5] eval",
      "   @ ./boot.jl:373 [inlined]",
      " [6] include_string(mapexpr::typeof(REPL.softscope), mod::Module, code::String, filename::String)",
      "   @ Base ./loading.jl:1196"
     ]
    }
   ],
   "source": [
    "for su in su_\n",
    "\n",
    "    nb = joinpath(pat, string(su, \".ipynb\"))\n",
    "\n",
    "    println(\"Running \", nb)\n",
    "\n",
    "    run(\n",
    "        `jupyter-nbconvert --execute --ExecutePreprocessor.timeout=-1 --clear-output --inplace --log-level 0 $nb`,\n",
    "    )\n",
    "\n",
    "end"
   ]
  },
  {
   "cell_type": "markdown",
   "id": "414177b0",
   "metadata": {},
   "source": [
    "---"
   ]
  },
  {
   "cell_type": "code",
   "execution_count": 15,
   "id": "cf1e5bda",
   "metadata": {},
   "outputs": [],
   "source": [
    "rm(TE; recursive = true)"
   ]
  }
 ],
 "metadata": {
  "@webio": {
   "lastCommId": null,
   "lastKernelId": null
  },
  "kernelspec": {
   "display_name": "Julia 1.7.1",
   "language": "julia",
   "name": "julia-1.7"
  },
  "language_info": {
   "file_extension": ".jl",
   "mimetype": "application/julia",
   "name": "julia",
   "version": "1.7.1"
  }
 },
 "nbformat": 4,
 "nbformat_minor": 5
}
