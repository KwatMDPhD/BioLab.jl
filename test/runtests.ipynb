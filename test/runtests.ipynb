{
 "cells": [
  {
   "outputs": [],
   "cell_type": "code",
   "source": [
    "te = @__DIR__\n",
    "\n",
    "sr = joinpath(dirname(te), \"src\")\n",
    "\n",
    "_get_prefix(na) = splitext(na)[1]\n",
    "\n",
    "display(\n",
    "    symdiff(\n",
    "        (_get_prefix(na) for na in readdir(sr) if endswith(na, r\"\\.jl$\") && na != \"BioLab.jl\"),\n",
    "        (\n",
    "            _get_prefix(na) for\n",
    "            na in readdir(te) if endswith(na, r\"\\.ipynb$\") && na != \"runtests.ipynb\"\n",
    "        ),\n",
    "    ),\n",
    ")\n",
    "\n",
    "using BioLab\n",
    "\n",
    "display(BioLab.TE)\n",
    "\n",
    "display(BioLab.CA_)\n",
    "\n",
    "display(BioLab.RA)\n",
    "\n",
    "BioLab.IPYNB.run(@__DIR__, (\"$pr.ipynb\" for pr in (\"runtests\",)))"
   ],
   "id": "7b012f4b-a14c-4ff8-88f9-0a24fb4f6722",
   "metadata": {},
   "execution_count": null
  }
 ],
 "nbformat_minor": 5,
 "metadata": {
  "language_info": {
   "file_extension": ".jl",
   "mimetype": "application/julia",
   "name": "julia",
   "version": "1.8.5"
  },
  "@webio": {
   "lastKernelId": null,
   "lastCommId": null
  },
  "kernelspec": {
   "name": "julia-1.8",
   "display_name": "Julia 1.8.5",
   "language": "julia"
  }
 },
 "nbformat": 4
}
