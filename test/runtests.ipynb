{
 "cells": [
  {
   "cell_type": "code",
   "execution_count": 1,
   "id": "c41c9542",
   "metadata": {},
   "outputs": [
    {
     "data": {
      "text/plain": [
       "\"/var/folders/mg/30npdf0s1z36txb2qvgylrzh0000gn/T/OnePiece.test/\""
      ]
     },
     "execution_count": 1,
     "metadata": {},
     "output_type": "execute_result"
    }
   ],
   "source": [
    "TE = joinpath(tempdir(), \"OnePiece.test\", \"\")\n",
    "\n",
    "if isdir(TE)\n",
    "\n",
    "    rm(TE; recursive = true)\n",
    "\n",
    "end\n",
    "\n",
    "mkdir(TE)"
   ]
  },
  {
   "cell_type": "code",
   "execution_count": 2,
   "id": "c9b7ee5c",
   "metadata": {},
   "outputs": [],
   "source": [
    "using Revise\n",
    "using BenchmarkTools"
   ]
  },
  {
   "cell_type": "markdown",
   "id": "53fbd6cc",
   "metadata": {},
   "source": [
    "---"
   ]
  },
  {
   "cell_type": "code",
   "execution_count": 3,
   "id": "ed0519d4",
   "metadata": {},
   "outputs": [],
   "source": [
    "pam = dirname(@__DIR__)\n",
    "\n",
    "pap = joinpath(pam, \"Project.toml\")\n",
    "\n",
    "pas = joinpath(pam, \"src\")\n",
    "\n",
    "pat = joinpath(pam, \"test\")\n",
    "\n",
    ";"
   ]
  },
  {
   "cell_type": "code",
   "execution_count": 4,
   "id": "7eb3ba2a",
   "metadata": {},
   "outputs": [],
   "source": [
    "using TOML"
   ]
  },
  {
   "cell_type": "code",
   "execution_count": 5,
   "id": "02a29c5c",
   "metadata": {},
   "outputs": [],
   "source": [
    "to = TOML.parse(read(pap, String))\n",
    "\n",
    "mo = \"OnePiece\"\n",
    "\n",
    "@assert to[\"name\"] == splitext(basename(pam))[1] == mo"
   ]
  },
  {
   "cell_type": "markdown",
   "id": "ea5e2eef",
   "metadata": {},
   "source": [
    "## Make src/OnePiece.jl "
   ]
  },
  {
   "cell_type": "code",
   "execution_count": 6,
   "id": "bbc0ff71",
   "metadata": {},
   "outputs": [],
   "source": [
    "su_ = [\n",
    "    \"io/table\",\n",
    "    \"io/fcs\",\n",
    "    \"io/gct\",\n",
    "    \"io/gmt\",\n",
    "    #\"io/pandas\",\n",
    "    \"extension/constant\",\n",
    "    \"extension/dict\",\n",
    "    \"extension/vector\",\n",
    "    \"extension/string\",\n",
    "    \"extension/path\",\n",
    "    \"templating\",\n",
    "    \"informatics/tensor\",\n",
    "    \"informatics/geometry\",\n",
    "    \"informatics/normalization\",\n",
    "    \"informatics/statistics\",\n",
    "    \"informatics/significance\",\n",
    "    \"informatics/information\",\n",
    "    \"emoji\",\n",
    "    \"figure\",\n",
    "    \"tensor_function\",\n",
    "    \"feature_by_sample\",\n",
    "    \"gene\",\n",
    "    \"feature_set_enrichment\",\n",
    "]\n",
    "\n",
    ";"
   ]
  },
  {
   "cell_type": "code",
   "execution_count": 7,
   "id": "6c970dfa",
   "metadata": {},
   "outputs": [
    {
     "data": {
      "text/plain": [
       "Set{String} with 1 element:\n",
       "  \"pandas\""
      ]
     },
     "execution_count": 7,
     "metadata": {},
     "output_type": "execute_result"
    }
   ],
   "source": [
    "dis_ = Set(vcat([splitpath(su) for su in su_]...))\n",
    "\n",
    "di_ = Set(vcat([wa[2] for wa in walkdir(pas)]...))\n",
    "\n",
    "symdiff(dis_, di_)"
   ]
  },
  {
   "cell_type": "code",
   "execution_count": 8,
   "id": "48628870",
   "metadata": {},
   "outputs": [],
   "source": [
    "using JSON\n",
    "using OrderedCollections"
   ]
  },
  {
   "cell_type": "code",
   "execution_count": 9,
   "id": "b95f8ea8",
   "metadata": {},
   "outputs": [
    {
     "name": "stdout",
     "output_type": "stream",
     "text": [
      "{\n",
      "  \"OnePiece\": {\n",
      "    \"io\": {\n",
      "      \"table\": [\n",
      "        \"io/table/_.jl\",\n",
      "        \"io/table/read.jl\",\n",
      "        \"io/table/write.jl\"\n",
      "      ],\n",
      "      \"fcs\": [\n",
      "        \"io/fcs/_.jl\",\n",
      "        \"io/fcs/read.jl\"\n",
      "      ],\n",
      "      \"gct\": [\n",
      "        \"io/gct/_.jl\",\n",
      "        \"io/gct/read.jl\"\n",
      "      ],\n",
      "      \"gmt\": [\n",
      "        \"io/gmt/read.jl\"\n",
      "      ]\n",
      "    },\n",
      "    \"extension\": {\n",
      "      \"constant\": [\n",
      "        \"extension/constant/ALPHABET.jl\",\n",
      "        \"extension/constant/CARD.jl\"\n",
      "      ],\n",
      "      \"dict\": [\n",
      "        \"extension/dict/_.jl\",\n",
      "        \"extension/dict/merge.jl\",\n",
      "        \"extension/dict/read.jl\",\n",
      "        \"extension/dict/sort_recursively!.jl\",\n",
      "        \"extension/dict/summarize.jl\",\n",
      "        \"extension/dict/symbolize_key.jl\",\n",
      "        \"extension/dict/view.jl\",\n",
      "        \"extension/dict/write.jl\"\n",
      "      ],\n",
      "      \"vector\": [\n",
      "        \"extension/vector/get_longest_common_prefix.jl\",\n",
      "        \"extension/vector/get_order.jl\",\n",
      "        \"extension/vector/is_in.jl\",\n",
      "        \"extension/vector/sort_like.jl\"\n",
      "      ],\n",
      "      \"string\": [\n",
      "        \"extension/string/_.jl\",\n",
      "        \"extension/string/remove_longest_common_prefix.jl\",\n",
      "        \"extension/string/replace.jl\",\n",
      "        \"extension/string/title.jl\",\n",
      "        \"extension/string/transplant.jl\"\n",
      "      ],\n",
      "      \"path\": [\n",
      "        \"extension/path/_.jl\",\n",
      "        \"extension/path/clean.jl\",\n",
      "        \"extension/path/error_extension.jl\",\n",
      "        \"extension/path/error_missing_path.jl\",\n",
      "        \"extension/path/make_absolute.jl\",\n",
      "        \"extension/path/move.jl\",\n",
      "        \"extension/path/remove_extension.jl\",\n",
      "        \"extension/path/sed_recursively.jl\",\n",
      "        \"extension/path/select.jl\",\n",
      "        \"extension/path/shorten.jl\"\n",
      "      ]\n",
      "    },\n",
      "    \"templating\": [\n",
      "      \"templating/_.jl\",\n",
      "      \"templating/error_missing.jl\",\n",
      "      \"templating/plan_replacement.jl\",\n",
      "      \"templating/plan_transplant.jl\",\n",
      "      \"templating/transplant.jl\"\n",
      "    ],\n",
      "    \"informatics\": {\n",
      "      \"tensor\": [\n",
      "        \"informatics/tensor/cumulate_sum_reverse.jl\",\n",
      "        \"informatics/tensor/get_area.jl\",\n",
      "        \"informatics/tensor/get_extreme.jl\",\n",
      "        \"informatics/tensor/make_increasing_by_stepping_down!.jl\",\n",
      "        \"informatics/tensor/make_increasing_by_stepping_up!.jl\",\n",
      "        \"informatics/tensor/shift_minimum.jl\",\n",
      "        \"informatics/tensor/sum_where.jl\"\n",
      "      ],\n",
      "      \"geometry\": [\n",
      "        \"informatics/geometry/get_center.jl\"\n",
      "      ],\n",
      "      \"normalization\": [\n",
      "        \"informatics/normalization/_.jl\",\n",
      "        \"informatics/normalization/normalize!.jl\",\n",
      "        \"informatics/normalization/normalize.jl\"\n",
      "      ],\n",
      "      \"statistics\": [\n",
      "        \"informatics/statistics/_.jl\",\n",
      "        \"informatics/statistics/get_confidence_interval.jl\",\n",
      "        \"informatics/statistics/get_z_score.jl\"\n",
      "      ],\n",
      "      \"significance\": [\n",
      "        \"informatics/significance/_.jl\",\n",
      "        \"informatics/significance/adjust_p_value.jl\",\n",
      "        \"informatics/significance/get_margin_of_error.jl\",\n",
      "        \"informatics/significance/get_p_value.jl\",\n",
      "        \"informatics/significance/get_p_value_and_adjust.jl\"\n",
      "      ],\n",
      "      \"information\": [\n",
      "        \"informatics/information/_.jl\",\n",
      "        \"informatics/information/get_entropy.jl\",\n",
      "        \"informatics/information/get_information_coefficient.jl\",\n",
      "        \"informatics/information/get_jensen_shannon_divergence.jl\",\n",
      "        \"informatics/information/get_kolmogorov_smirnov_statistic.jl\",\n",
      "        \"informatics/information/get_kullback_leibler_divergence.jl\",\n",
      "        \"informatics/information/get_kwat_pablo_divergence.jl\",\n",
      "        \"informatics/information/get_mutual_information.jl\",\n",
      "        \"informatics/information/get_signal_to_noise_ratio.jl\",\n",
      "        \"informatics/information/get_symmetric_information_sum.jl\",\n",
      "        \"informatics/information/get_thermodynamic_depth.jl\"\n",
      "      ]\n",
      "    },\n",
      "    \"emoji\": [\n",
      "      \"emoji/print.jl\"\n",
      "    ],\n",
      "    \"figure\": [\n",
      "      \"figure/_.jl\",\n",
      "      \"figure/plot.jl\",\n",
      "      \"figure/plot_bar.jl\",\n",
      "      \"figure/plot_heat_map.jl\",\n",
      "      \"figure/plot_x_y.jl\",\n",
      "      \"figure/write.jl\"\n",
      "    ],\n",
      "    \"tensor_function\": [\n",
      "      \"tensor_function/apply.jl\"\n",
      "    ],\n",
      "    \"feature_by_sample\": [\n",
      "      \"feature_by_sample/_.jl\",\n",
      "      \"feature_by_sample/compare_with_target.jl\"\n",
      "    ],\n",
      "    \"gene\": [\n",
      "      \"gene/_.jl\",\n",
      "      \"gene/map_to_column.jl\",\n",
      "      \"gene/map_to_ensembl_gene.jl\",\n",
      "      \"gene/map_to_hgnc_gene.jl\",\n",
      "      \"gene/map_with_mouse.jl\",\n",
      "      \"gene/read_ensembl.jl\",\n",
      "      \"gene/read_hgnc.jl\",\n",
      "      \"gene/rename.jl\"\n",
      "    ],\n",
      "    \"feature_set_enrichment\": [\n",
      "      \"feature_set_enrichment/_.jl\",\n",
      "      \"feature_set_enrichment/get_probability_and_cumulate.jl\",\n",
      "      \"feature_set_enrichment/make_benchmark.jl\",\n",
      "      \"feature_set_enrichment/plot_mountain.jl\",\n",
      "      \"feature_set_enrichment/score_set.jl\",\n",
      "      \"feature_set_enrichment/score_set_new.jl\",\n",
      "      \"feature_set_enrichment/sum_1_absolute_and_0_sum.jl\",\n",
      "      \"feature_set_enrichment/try_method.jl\"\n",
      "    ]\n",
      "  }\n",
      "}\n"
     ]
    }
   ],
   "source": [
    "tr = OrderedDict()\n",
    "\n",
    "tr[mo] = OrderedDict()\n",
    "\n",
    "cu = tr[mo]\n",
    "\n",
    "for su in su_\n",
    "\n",
    "    di_ = splitpath(su)\n",
    "\n",
    "    n_di = length(di_)\n",
    "\n",
    "    for (id, di) in enumerate(di_)\n",
    "\n",
    "        if id < n_di\n",
    "\n",
    "            if !haskey(cu, di)\n",
    "\n",
    "                cu[di] = OrderedDict()\n",
    "\n",
    "            end\n",
    "\n",
    "            cu = cu[di]\n",
    "\n",
    "        else\n",
    "\n",
    "            jl_ = [fi for fi in readdir(joinpath(pas, su)) if occursin(r\"\\.jl$\", fi)]\n",
    "\n",
    "            cu[di] = [joinpath(su, jl) for jl in jl_]\n",
    "\n",
    "            cu = tr[mo]\n",
    "\n",
    "        end\n",
    "\n",
    "    end\n",
    "\n",
    "end\n",
    "\n",
    "JSON.print(tr, 2)"
   ]
  },
  {
   "cell_type": "code",
   "execution_count": 10,
   "id": "a974adc6",
   "metadata": {},
   "outputs": [
    {
     "data": {
      "text/plain": [
       "write_line (generic function with 1 method)"
      ]
     },
     "execution_count": 10,
     "metadata": {},
     "output_type": "execute_result"
    }
   ],
   "source": [
    "function write_line(io, st)\n",
    "\n",
    "    return write(io, string(st, \"\\n\"))\n",
    "\n",
    "end"
   ]
  },
  {
   "cell_type": "code",
   "execution_count": 11,
   "id": "020b1d26",
   "metadata": {},
   "outputs": [
    {
     "data": {
      "text/plain": [
       "write_branch (generic function with 1 method)"
      ]
     },
     "execution_count": 11,
     "metadata": {},
     "output_type": "execute_result"
    }
   ],
   "source": [
    "function write_branch(io, id, va)\n",
    "\n",
    "    sp = \"  \"^id\n",
    "\n",
    "    if va isa OrderedDict\n",
    "\n",
    "        for (ke, va2) in va\n",
    "\n",
    "            write_line(io, string(sp, \"module \", ke))\n",
    "\n",
    "            write_branch(io, id + 1, va2)\n",
    "\n",
    "            write_line(io, string(sp, \"end\"))\n",
    "\n",
    "        end\n",
    "\n",
    "    else\n",
    "\n",
    "        for li in va\n",
    "\n",
    "            write_line(io, string(sp, \"include(\\\"\", li, \"\\\")\"))\n",
    "\n",
    "        end\n",
    "\n",
    "    end\n",
    "\n",
    "\n",
    "end"
   ]
  },
  {
   "cell_type": "code",
   "execution_count": 12,
   "id": "5d10ee27",
   "metadata": {},
   "outputs": [],
   "source": [
    "open(joinpath(pas, string(mo, \".jl\")), \"w\") do io\n",
    "\n",
    "    write_branch(io, 0, tr)\n",
    "\n",
    "end"
   ]
  },
  {
   "cell_type": "code",
   "execution_count": 13,
   "id": "b848dcec",
   "metadata": {},
   "outputs": [
    {
     "data": {
      "application/vnd.webio.node+json": {
       "children": [],
       "instanceArgs": {
        "namespace": "html",
        "tag": "div"
       },
       "nodeType": "DOM",
       "props": {},
       "type": "node"
      },
      "text/html": [
       "<div style=\"padding: 1em; background-color: #f8d6da; border: 1px solid #f5c6cb; font-weight: bold;\">\n",
       "<p>The WebIO Jupyter extension was not detected. See the\n",
       "<a href=\"https://juliagizmos.github.io/WebIO.jl/latest/providers/ijulia/\" target=\"_blank\">\n",
       "    WebIO Jupyter integration documentation\n",
       "</a>\n",
       "for more information.\n",
       "</div>\n"
      ],
      "text/plain": [
       "WebIO._IJuliaInit()"
      ]
     },
     "metadata": {
      "application/vnd.webio.node+json": {
       "kernelId": "246257fa-ffce-491e-bbb9-a2fb9649e95a"
      }
     },
     "output_type": "display_data"
    },
    {
     "name": "stderr",
     "output_type": "stream",
     "text": [
      "┌ Info: Precompiling OnePiece [1fe83854-81c0-42f7-afc9-71ba9af673ca]\n",
      "└ @ Base loading.jl:1423\n"
     ]
    }
   ],
   "source": [
    "using OnePiece"
   ]
  },
  {
   "cell_type": "markdown",
   "id": "b0413aa4",
   "metadata": {},
   "source": [
    "## Test submodules"
   ]
  },
  {
   "cell_type": "code",
   "execution_count": null,
   "id": "ad28c694",
   "metadata": {},
   "outputs": [],
   "source": [
    "for su in su_\n",
    "\n",
    "    nb = joinpath(pat, string(su, \".ipynb\"))\n",
    "\n",
    "    println(\"Running \", nb)\n",
    "\n",
    "    run(\n",
    "        `jupyter-nbconvert --execute --ExecutePreprocessor.timeout=-1 --clear-output --inplace --log-level 0 $nb`,\n",
    "    )\n",
    "\n",
    "end"
   ]
  },
  {
   "cell_type": "markdown",
   "id": "414177b0",
   "metadata": {},
   "source": [
    "---"
   ]
  },
  {
   "cell_type": "code",
   "execution_count": null,
   "id": "cf1e5bda",
   "metadata": {},
   "outputs": [],
   "source": [
    "rm(TE; recursive = true)"
   ]
  }
 ],
 "metadata": {
  "@webio": {
   "lastCommId": "247b63e81c2b4efb84004108ba07cdea",
   "lastKernelId": "246257fa-ffce-491e-bbb9-a2fb9649e95a"
  },
  "kernelspec": {
   "display_name": "Julia 1.7.2",
   "language": "julia",
   "name": "julia-1.7"
  },
  "language_info": {
   "file_extension": ".jl",
   "mimetype": "application/julia",
   "name": "julia",
   "version": "1.7.2"
  }
 },
 "nbformat": 4,
 "nbformat_minor": 5
}
