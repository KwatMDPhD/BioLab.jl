{
 "cells": [
  {
   "cell_type": "code",
   "execution_count": 1,
   "id": "ad4fb98a",
   "metadata": {},
   "outputs": [
    {
     "data": {
      "text/plain": [
       "\"/var/folders/mg/30npdf0s1z36txb2qvgylrzh0000gn/T/OnePiece.test\""
      ]
     },
     "execution_count": 1,
     "metadata": {},
     "output_type": "execute_result"
    }
   ],
   "source": [
    "TE = joinpath(tempdir(), \"OnePiece.test\")\n",
    "\n",
    "mkpath(TE)"
   ]
  },
  {
   "cell_type": "markdown",
   "id": "349c228e",
   "metadata": {},
   "source": [
    "---"
   ]
  },
  {
   "cell_type": "code",
   "execution_count": 2,
   "id": "ed0519d4",
   "metadata": {},
   "outputs": [],
   "source": [
    "pam = dirname(@__DIR__)\n",
    "\n",
    "pap = joinpath(pam, \"Project.toml\")\n",
    "\n",
    "pas = joinpath(pam, \"src\")\n",
    "\n",
    "pat = joinpath(pam, \"test\")\n",
    "\n",
    ";"
   ]
  },
  {
   "cell_type": "code",
   "execution_count": 3,
   "id": "7eb3ba2a",
   "metadata": {},
   "outputs": [],
   "source": [
    "using TOML"
   ]
  },
  {
   "cell_type": "code",
   "execution_count": 4,
   "id": "02a29c5c",
   "metadata": {},
   "outputs": [],
   "source": [
    "to = TOML.parse(read(pap, String))\n",
    "\n",
    "mo = \"OnePiece\"\n",
    "\n",
    "@assert to[\"name\"] == splitext(basename(pam))[1] == mo"
   ]
  },
  {
   "cell_type": "markdown",
   "id": "ea5e2eef",
   "metadata": {},
   "source": [
    "## Make src/OnePiece.jl "
   ]
  },
  {
   "cell_type": "code",
   "execution_count": 5,
   "id": "bbc0ff71",
   "metadata": {},
   "outputs": [],
   "source": [
    "su_ = [\n",
    "    \"io/table\",\n",
    "    \"io/fcs\",\n",
    "    \"io/gct\",\n",
    "    \"io/gmt\",\n",
    "    #\"io/pandas\",\n",
    "    \"extension/constant\",\n",
    "    \"extension/dict\",\n",
    "    \"extension/vector\",\n",
    "    \"extension/string\",\n",
    "    \"extension/path\",\n",
    "    \"extension/dataframe\",\n",
    "    \"templating\",\n",
    "    \"informatics/tensor\",\n",
    "    \"informatics/geometry\",\n",
    "    \"informatics/normalization\",\n",
    "    \"informatics/statistics\",\n",
    "    \"informatics/significance\",\n",
    "    \"informatics/information\",\n",
    "    \"emoji\",\n",
    "    \"figure\",\n",
    "    \"tensor_function\",\n",
    "    \"feature_by_sample\",\n",
    "    \"gene\",\n",
    "    \"feature_set_enrichment\",\n",
    "]\n",
    "\n",
    ";"
   ]
  },
  {
   "cell_type": "code",
   "execution_count": 6,
   "id": "6c970dfa",
   "metadata": {},
   "outputs": [
    {
     "data": {
      "text/plain": [
       "Set{String} with 1 element:\n",
       "  \"pandas\""
      ]
     },
     "execution_count": 6,
     "metadata": {},
     "output_type": "execute_result"
    }
   ],
   "source": [
    "dis_ = Set(vcat([splitpath(su) for su in su_]...))\n",
    "\n",
    "di_ = Set(vcat([wa[2] for wa in walkdir(pas)]...))\n",
    "\n",
    "symdiff(dis_, di_)"
   ]
  },
  {
   "cell_type": "code",
   "execution_count": 7,
   "id": "48628870",
   "metadata": {},
   "outputs": [],
   "source": [
    "using OrderedCollections"
   ]
  },
  {
   "cell_type": "code",
   "execution_count": 8,
   "id": "b95f8ea8",
   "metadata": {},
   "outputs": [],
   "source": [
    "tr = OrderedDict()\n",
    "\n",
    "tr[mo] = OrderedDict()\n",
    "\n",
    "cu = tr[mo]\n",
    "\n",
    "for su in su_\n",
    "\n",
    "    di_ = splitpath(su)\n",
    "\n",
    "    n_di = length(di_)\n",
    "\n",
    "    for (id, di) in enumerate(di_)\n",
    "\n",
    "        if id < n_di\n",
    "\n",
    "            if !haskey(cu, di)\n",
    "\n",
    "                cu[di] = OrderedDict()\n",
    "\n",
    "            end\n",
    "\n",
    "            cu = cu[di]\n",
    "\n",
    "        else\n",
    "\n",
    "            jl_ = [fi for fi in readdir(joinpath(pas, su)) if occursin(r\"\\.jl$\", fi)]\n",
    "\n",
    "            cu[di] = [joinpath(su, jl) for jl in jl_]\n",
    "\n",
    "            cu = tr[mo]\n",
    "\n",
    "        end\n",
    "\n",
    "    end\n",
    "\n",
    "end"
   ]
  },
  {
   "cell_type": "code",
   "execution_count": 9,
   "id": "a974adc6",
   "metadata": {},
   "outputs": [
    {
     "data": {
      "text/plain": [
       "write_line (generic function with 1 method)"
      ]
     },
     "execution_count": 9,
     "metadata": {},
     "output_type": "execute_result"
    }
   ],
   "source": [
    "function write_line(io, st)\n",
    "\n",
    "    return write(io, string(st, \"\\n\"))\n",
    "\n",
    "end"
   ]
  },
  {
   "cell_type": "code",
   "execution_count": 10,
   "id": "020b1d26",
   "metadata": {},
   "outputs": [
    {
     "data": {
      "text/plain": [
       "write_branch (generic function with 1 method)"
      ]
     },
     "execution_count": 10,
     "metadata": {},
     "output_type": "execute_result"
    }
   ],
   "source": [
    "function write_branch(io, id, va)\n",
    "\n",
    "    sp = \"  \"^id\n",
    "\n",
    "    if va isa OrderedDict\n",
    "\n",
    "        for (ke, va2) in va\n",
    "\n",
    "            write_line(io, string(sp, \"module \", ke))\n",
    "\n",
    "            write_branch(io, id + 1, va2)\n",
    "\n",
    "            write_line(io, string(sp, \"end\"))\n",
    "\n",
    "        end\n",
    "\n",
    "    else\n",
    "\n",
    "        for li in va\n",
    "\n",
    "            write_line(io, string(sp, \"include(\\\"\", li, \"\\\")\"))\n",
    "\n",
    "        end\n",
    "\n",
    "    end\n",
    "\n",
    "\n",
    "end"
   ]
  },
  {
   "cell_type": "code",
   "execution_count": 11,
   "id": "5d10ee27",
   "metadata": {},
   "outputs": [],
   "source": [
    "open(joinpath(pas, string(mo, \".jl\")), \"w\") do io\n",
    "\n",
    "    write_branch(io, 0, tr)\n",
    "\n",
    "end"
   ]
  },
  {
   "cell_type": "code",
   "execution_count": 12,
   "id": "b848dcec",
   "metadata": {},
   "outputs": [
    {
     "name": "stderr",
     "output_type": "stream",
     "text": [
      "┌ Info: Precompiling OnePiece [1fe83854-81c0-42f7-afc9-71ba9af673ca]\n",
      "└ @ Base loading.jl:1423\n"
     ]
    }
   ],
   "source": [
    "using OnePiece"
   ]
  },
  {
   "cell_type": "markdown",
   "id": "ed3aee82",
   "metadata": {},
   "source": [
    "## Template"
   ]
  },
  {
   "cell_type": "code",
   "execution_count": 13,
   "id": "e9f1d8d6",
   "metadata": {},
   "outputs": [
    {
     "name": "stdout",
     "output_type": "stream",
     "text": [
      "Templating /Users/kwat/craft/OnePiece.jl/test/io/table.ipynb (1)\n",
      "Transplanting /Users/kwat/craft/OnePiece.jl/test/io/table.ipynb\n",
      "Templating /Users/kwat/craft/OnePiece.jl/test/io/fcs.ipynb (2)\n",
      "Transplanting /Users/kwat/craft/OnePiece.jl/test/io/fcs.ipynb\n",
      "Templating /Users/kwat/craft/OnePiece.jl/test/io/gct.ipynb (3)\n",
      "Transplanting /Users/kwat/craft/OnePiece.jl/test/io/gct.ipynb\n",
      "Templating /Users/kwat/craft/OnePiece.jl/test/io/gmt.ipynb (4)\n",
      "Transplanting /Users/kwat/craft/OnePiece.jl/test/io/gmt.ipynb\n",
      "Templating /Users/kwat/craft/OnePiece.jl/test/extension/constant.ipynb (5)\n",
      "Transplanting /Users/kwat/craft/OnePiece.jl/test/extension/constant.ipynb\n",
      "Templating /Users/kwat/craft/OnePiece.jl/test/extension/dict.ipynb (6)\n",
      "Transplanting /Users/kwat/craft/OnePiece.jl/test/extension/dict.ipynb\n",
      "Templating /Users/kwat/craft/OnePiece.jl/test/extension/vector.ipynb (7)\n",
      "Transplanting /Users/kwat/craft/OnePiece.jl/test/extension/vector.ipynb\n",
      "Templating /Users/kwat/craft/OnePiece.jl/test/extension/string.ipynb (8)\n",
      "Transplanting /Users/kwat/craft/OnePiece.jl/test/extension/string.ipynb\n",
      "Templating /Users/kwat/craft/OnePiece.jl/test/extension/path.ipynb (9)\n",
      "Transplanting /Users/kwat/craft/OnePiece.jl/test/extension/path.ipynb\n",
      "Templating /Users/kwat/craft/OnePiece.jl/test/extension/dataframe.ipynb (10)\n",
      "Transplanting /Users/kwat/craft/OnePiece.jl/test/extension/dataframe.ipynb\n",
      "Templating /Users/kwat/craft/OnePiece.jl/test/templating.ipynb (11)\n",
      "Transplanting /Users/kwat/craft/OnePiece.jl/test/templating.ipynb\n",
      "Templating /Users/kwat/craft/OnePiece.jl/test/informatics/tensor.ipynb (12)\n",
      "Transplanting /Users/kwat/craft/OnePiece.jl/test/informatics/tensor.ipynb\n",
      "Templating /Users/kwat/craft/OnePiece.jl/test/informatics/geometry.ipynb (13)\n",
      "Transplanting /Users/kwat/craft/OnePiece.jl/test/informatics/geometry.ipynb\n",
      "Templating /Users/kwat/craft/OnePiece.jl/test/informatics/normalization.ipynb (14)\n",
      "Transplanting /Users/kwat/craft/OnePiece.jl/test/informatics/normalization.ipynb\n",
      "Templating /Users/kwat/craft/OnePiece.jl/test/informatics/statistics.ipynb (15)\n",
      "Transplanting /Users/kwat/craft/OnePiece.jl/test/informatics/statistics.ipynb\n",
      "Templating /Users/kwat/craft/OnePiece.jl/test/informatics/significance.ipynb (16)\n",
      "Transplanting /Users/kwat/craft/OnePiece.jl/test/informatics/significance.ipynb\n",
      "Templating /Users/kwat/craft/OnePiece.jl/test/informatics/information.ipynb (17)\n",
      "Transplanting /Users/kwat/craft/OnePiece.jl/test/informatics/information.ipynb\n",
      "Templating /Users/kwat/craft/OnePiece.jl/test/emoji.ipynb (18)\n",
      "Transplanting /Users/kwat/craft/OnePiece.jl/test/emoji.ipynb\n",
      "Templating /Users/kwat/craft/OnePiece.jl/test/figure.ipynb (19)\n",
      "Transplanting /Users/kwat/craft/OnePiece.jl/test/figure.ipynb\n",
      "Templating /Users/kwat/craft/OnePiece.jl/test/tensor_function.ipynb (20)\n",
      "Transplanting /Users/kwat/craft/OnePiece.jl/test/tensor_function.ipynb\n",
      "Templating /Users/kwat/craft/OnePiece.jl/test/feature_by_sample.ipynb (21)\n",
      "Transplanting /Users/kwat/craft/OnePiece.jl/test/feature_by_sample.ipynb\n",
      "Templating /Users/kwat/craft/OnePiece.jl/test/gene.ipynb (22)\n",
      "Transplanting /Users/kwat/craft/OnePiece.jl/test/gene.ipynb\n",
      "Templating /Users/kwat/craft/OnePiece.jl/test/feature_set_enrichment.ipynb (23)\n",
      "Transplanting /Users/kwat/craft/OnePiece.jl/test/feature_set_enrichment.ipynb\n"
     ]
    }
   ],
   "source": [
    "de, id_ = \"-\"^3, [1, 2, 1]\n",
    "\n",
    "for (id, su) in enumerate(su_)\n",
    "\n",
    "    nb = joinpath(pat, string(su, \".ipynb\"))\n",
    "\n",
    "    println(\"Templating \", nb, \" (\", id, \")\")\n",
    "\n",
    "    run(`jupyter-nbconvert --clear-output --inplace --log-level 0 $nb`)\n",
    "\n",
    "    OnePiece.templating.transplant(\"template.ipynb\", nb, de, id_)\n",
    "\n",
    "end"
   ]
  },
  {
   "cell_type": "markdown",
   "id": "b0413aa4",
   "metadata": {},
   "source": [
    "## Test"
   ]
  },
  {
   "cell_type": "code",
   "execution_count": null,
   "id": "ad28c694",
   "metadata": {
    "scrolled": false
   },
   "outputs": [],
   "source": [
    "for (id, su) in enumerate(su_)\n",
    "\n",
    "    nb = joinpath(pat, string(su, \".ipynb\"))\n",
    "\n",
    "    if id < 1\n",
    "\n",
    "        continue\n",
    "\n",
    "    end\n",
    "\n",
    "    println(id)\n",
    "\n",
    "    println(\"Running \", nb, \" (\", id, \")\")\n",
    "\n",
    "    run(\n",
    "        `jupyter-nbconvert --execute --ExecutePreprocessor.timeout=-1 --clear-output --inplace --log-level 0 $nb`,\n",
    "    )\n",
    "\n",
    "end"
   ]
  },
  {
   "cell_type": "markdown",
   "id": "414177b0",
   "metadata": {},
   "source": [
    "---"
   ]
  },
  {
   "cell_type": "code",
   "execution_count": null,
   "id": "b169202a",
   "metadata": {},
   "outputs": [],
   "source": [
    "rm(TE; recursive = true)"
   ]
  }
 ],
 "metadata": {
  "@webio": {
   "lastCommId": null,
   "lastKernelId": null
  },
  "kernelspec": {
   "display_name": "Julia 1.7.2",
   "language": "julia",
   "name": "julia-1.7"
  },
  "language_info": {
   "file_extension": ".jl",
   "mimetype": "application/julia",
   "name": "julia",
   "version": "1.7.2"
  }
 },
 "nbformat": 4,
 "nbformat_minor": 5
}
