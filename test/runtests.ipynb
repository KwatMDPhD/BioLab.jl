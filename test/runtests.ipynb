{
 "cells": [
  {
   "outputs": [],
   "cell_type": "code",
   "source": [
    "pk = dirname(@__DIR__)\n",
    "\n",
    "sr = joinpath(pk, \"src\")\n",
    "\n",
    ";"
   ],
   "id": "55142b33-4eb0-4f5d-ae08-ce42d96fed78",
   "metadata": {},
   "execution_count": null
  },
  {
   "outputs": [],
   "cell_type": "code",
   "source": [
    "symdiff(\n",
    "    (na for na in readdir(sr)),\n",
    "    (splitext(na)[1] for na in readdir() if endswith(na, \".ipynb\")),\n",
    ")"
   ],
   "id": "dc5eff49",
   "metadata": {},
   "execution_count": null
  },
  {
   "outputs": [],
   "cell_type": "code",
   "source": [
    "using BioLab"
   ],
   "id": "c5b08c78",
   "metadata": {},
   "execution_count": null
  },
  {
   "outputs": [],
   "cell_type": "code",
   "source": [
    "BioLab.TE"
   ],
   "id": "81e9af05-b58e-4a5a-8b75-6b6efc990439",
   "metadata": {},
   "execution_count": null
  },
  {
   "outputs": [],
   "cell_type": "code",
   "source": [
    "for nb in\n",
    "    BioLab.Path.list(joinpath(pk, \"test\"); jo = false, ig_ = (r\"^runtests\",), ke_ = (r\".ipynb$\",))\n",
    "\n",
    "    na = splitext(nb)[1]\n",
    "\n",
    "    println(\"=\"^99)\n",
    "\n",
    "    println(na)\n",
    "\n",
    "    ma_ = Set()\n",
    "\n",
    "    for ce in BioLab.Dict.read(nb)[\"cells\"]\n",
    "\n",
    "        if ce[\"cell_type\"] != \"markdown\"\n",
    "\n",
    "            continue\n",
    "\n",
    "        end\n",
    "\n",
    "        for li in ce[\"source\"]\n",
    "\n",
    "            push!(ma_, BioLab.String.split_and_get(rstrip(li, '\\n'), ' ', 2))\n",
    "\n",
    "        end\n",
    "\n",
    "    end\n",
    "\n",
    "    for jl in BioLab.Path.list(joinpath(sr, na); jo = false, ig_ = (r\"^_.jl$\",), ke_ = (r\".jl$\",))\n",
    "\n",
    "        naj = splitext(jl)[1]\n",
    "\n",
    "        if naj in ma_\n",
    "\n",
    "            pop!(ma_, naj)\n",
    "\n",
    "        else\n",
    "\n",
    "            println(\"  < $naj\")\n",
    "\n",
    "        end\n",
    "\n",
    "    end\n",
    "\n",
    "    if !isempty(ma_)\n",
    "\n",
    "        println(\"  > $(join(ma_, \"\\n  >\"))\")\n",
    "\n",
    "    end\n",
    "\n",
    "end"
   ],
   "id": "817d4c90-4a48-4e39-b3c5-17ce53471134",
   "metadata": {},
   "execution_count": null
  },
  {
   "outputs": [],
   "cell_type": "code",
   "source": [
    "BioLab.IPYNB.run(@__DIR__, (\"$pr.ipynb\" for pr in (\"runtests\",)))"
   ],
   "id": "06b4e84d",
   "metadata": {},
   "execution_count": null
  }
 ],
 "nbformat_minor": 5,
 "metadata": {
  "language_info": {
   "file_extension": ".jl",
   "mimetype": "application/julia",
   "name": "julia",
   "version": "1.8.5"
  },
  "@webio": {
   "lastKernelId": null,
   "lastCommId": null
  },
  "kernelspec": {
   "name": "julia-1.8",
   "display_name": "Julia 1.8.5",
   "language": "julia"
  }
 },
 "nbformat": 4
}
