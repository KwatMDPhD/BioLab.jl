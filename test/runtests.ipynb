{
 "cells": [
  {
   "outputs": [],
   "cell_type": "code",
   "source": [
    "te = @__DIR__\n",
    "\n",
    "sr = joinpath(dirname(te), \"src\")\n",
    "\n",
    "_get_prefix(na) = splitext(na)[1]\n",
    "\n",
    "display(\n",
    "    symdiff(\n",
    "        (_get_prefix(na) for na in readdir(sr) if endswith(na, r\"\\.jl$\") && na != \"BioLab.jl\"),\n",
    "        (\n",
    "            _get_prefix(na) for\n",
    "            na in readdir(te) if endswith(na, r\"\\.ipynb$\") && na != \"runtests.ipynb\"\n",
    "        ),\n",
    "    ),\n",
    ")"
   ],
   "id": "d8c0a2b0-124b-41fb-87c5-f1b3778ede9a",
   "metadata": {},
   "execution_count": null
  },
  {
   "outputs": [],
   "cell_type": "code",
   "source": [
    "using BioLab"
   ],
   "id": "1d9069cd-0e25-4095-975e-53c264c5f066",
   "metadata": {},
   "execution_count": null
  },
  {
   "cell_type": "markdown",
   "source": [
    "## TE"
   ],
   "id": "148cb121-ed9a-43e3-8064-a2b329b163ed",
   "metadata": {}
  },
  {
   "outputs": [],
   "cell_type": "code",
   "source": [
    "# TODO: `@test`.\n",
    "display(BioLab.TE)"
   ],
   "id": "50ca703f-2537-4288-807c-1ed7acf9381d",
   "metadata": {},
   "execution_count": null
  },
  {
   "cell_type": "markdown",
   "source": [
    "## CA_"
   ],
   "id": "48f2098d-2171-49dc-b1bf-e591a3b25112",
   "metadata": {}
  },
  {
   "outputs": [],
   "cell_type": "code",
   "source": [
    "# TODO: `@test`.\n",
    "display(BioLab.CA_)"
   ],
   "id": "e1c1f9ba-56d5-4d21-a7fb-024f81b89a54",
   "metadata": {},
   "execution_count": null
  },
  {
   "cell_type": "markdown",
   "source": [
    "## RA"
   ],
   "id": "a2f6fe4c-a2a6-421c-a5ed-e7ab86e6ce1d",
   "metadata": {}
  },
  {
   "outputs": [],
   "cell_type": "code",
   "source": [
    "# TODO: `@test`.\n",
    "display(BioLab.RA)"
   ],
   "id": "69112318-dff9-4b74-832b-22aec96b08aa",
   "metadata": {},
   "execution_count": null
  },
  {
   "cell_type": "markdown",
   "source": [
    "## 🎬"
   ],
   "id": "9be1145e-4ca6-45aa-958f-8f8f0b75b537",
   "metadata": {}
  },
  {
   "outputs": [],
   "cell_type": "code",
   "source": [
    "ig_ = (\n",
    "    \"runtests\",\n",
    "    (_get_prefix(na) for na in readdir() if contains(na, r\"^_\") && contains(na, r\"\\.ipynb$\"))...,\n",
    ")\n",
    "\n",
    "# ig_ = (\n",
    "# \"runtests.ipynb\",\n",
    "# \"Array.ipynb\",\n",
    "# \"Clustering.ipynb\",\n",
    "# \"Collection.ipynb\",\n",
    "# \"DataFrame.ipynb\",\n",
    "# \"Dict.data\",\n",
    "# \"Dict.ipynb\",\n",
    "# \"FeatureSetEnrichment.data\",\n",
    "# \"FeatureSetEnrichment.ipynb\",\n",
    "# \"FeatureXSample.ipynb\",\n",
    "# \"GCT.data\",\n",
    "# \"GCT.ipynb\",\n",
    "# \"GEO.ipynb\",\n",
    "# \"GMT.data\",\n",
    "# \"GMT.ipynb\",\n",
    "# \"Gene.ipynb\",\n",
    "# \"HTML.ipynb\",\n",
    "# \"IPYNB.ipynb\",\n",
    "# \"Information.ipynb\",\n",
    "# \"Matrix.ipynb\",\n",
    "# \"MatrixFactorization.ipynb\",\n",
    "# \"Network.ipynb\",\n",
    "# \"Normalization.ipynb\",\n",
    "# \"Number.ipynb\",\n",
    "# \"Path.ipynb\",\n",
    "# \"Plot.ipynb\",\n",
    "# \"Significance.ipynb\",\n",
    "# \"Statistics.ipynb\",\n",
    "# \"String.ipynb\",\n",
    "# \"Table.data\",\n",
    "# \"Table.ipynb\",\n",
    "# \"Time.ipynb\",\n",
    "# \"VectorNumber.ipynb\",\n",
    "# )\n",
    "\n",
    "BioLab.IPYNB.run(@__DIR__, ig_)"
   ],
   "id": "c0de27f0-1bc3-4d51-b3b4-be35111deb62",
   "metadata": {},
   "execution_count": null
  }
 ],
 "nbformat_minor": 5,
 "metadata": {
  "language_info": {
   "file_extension": ".jl",
   "mimetype": "application/julia",
   "name": "julia",
   "version": "1.8.5"
  },
  "@webio": {
   "lastKernelId": null,
   "lastCommId": null
  },
  "kernelspec": {
   "name": "julia-1.8",
   "display_name": "Julia 1.8.5",
   "language": "julia"
  }
 },
 "nbformat": 4
}
