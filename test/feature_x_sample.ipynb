{
 "cells": [
  {
   "cell_type": "code",
   "execution_count": null,
   "id": "baf12f00",
   "metadata": {
    "execution": {
     "iopub.execute_input": "2022-08-17T13:45:28.472000Z",
     "iopub.status.busy": "2022-08-17T13:45:28.148000Z",
     "iopub.status.idle": "2022-08-17T13:45:33.051000Z",
     "shell.execute_reply": "2022-08-17T13:45:33.003000Z"
    }
   },
   "outputs": [],
   "source": [
    "using OnePiece"
   ]
  },
  {
   "cell_type": "markdown",
   "id": "79a00ecb",
   "metadata": {},
   "source": [
    "## compare_with_target"
   ]
  },
  {
   "cell_type": "code",
   "execution_count": null,
   "id": "1d087e9e",
   "metadata": {
    "execution": {
     "iopub.execute_input": "2022-08-17T13:45:33.687000Z",
     "iopub.status.busy": "2022-08-17T13:45:33.071000Z",
     "iopub.status.idle": "2022-08-17T13:45:34.283000Z",
     "shell.execute_reply": "2022-08-17T13:45:34.282000Z"
    }
   },
   "outputs": [],
   "source": [
    "fu = \"mean_difference\""
   ]
  },
  {
   "cell_type": "code",
   "execution_count": null,
   "id": "9f962f7a",
   "metadata": {
    "execution": {
     "iopub.execute_input": "2022-08-17T13:45:34.286000Z",
     "iopub.status.busy": "2022-08-17T13:45:34.286000Z",
     "iopub.status.idle": "2022-08-17T13:45:35.213000Z",
     "shell.execute_reply": "2022-08-17T13:45:35.213000Z"
    }
   },
   "outputs": [],
   "source": [
    "n_ro = 2\n",
    "\n",
    "n_co = 6\n",
    "\n",
    "ma = OnePiece.matrix.simulate(n_ro, n_co)"
   ]
  },
  {
   "cell_type": "code",
   "execution_count": null,
   "id": "f159d040",
   "metadata": {
    "execution": {
     "iopub.execute_input": "2022-08-17T13:45:35.216000Z",
     "iopub.status.busy": "2022-08-17T13:45:35.216000Z",
     "iopub.status.idle": "2022-08-17T13:45:35.661000Z",
     "shell.execute_reply": "2022-08-17T13:45:35.661000Z"
    }
   },
   "outputs": [],
   "source": [
    "n_ze = convert(Int64, n_co / 2)\n",
    "\n",
    "n_on = n_co - n_ze\n",
    "\n",
    "bi = convert(BitVector, [zeros(n_ze); ones(n_on)])"
   ]
  },
  {
   "cell_type": "code",
   "execution_count": null,
   "id": "d4713561",
   "metadata": {
    "execution": {
     "iopub.execute_input": "2022-08-17T13:45:35.664000Z",
     "iopub.status.busy": "2022-08-17T13:45:35.664000Z",
     "iopub.status.idle": "2022-08-17T13:45:35.998000Z",
     "shell.execute_reply": "2022-08-17T13:45:35.998000Z"
    }
   },
   "outputs": [],
   "source": [
    "co = [10^(id - 1) for id in 1:n_co]"
   ]
  },
  {
   "cell_type": "code",
   "execution_count": null,
   "id": "a223627a",
   "metadata": {
    "execution": {
     "iopub.execute_input": "2022-08-17T13:45:36.002000Z",
     "iopub.status.busy": "2022-08-17T13:45:36.001000Z",
     "iopub.status.idle": "2022-08-17T13:45:36.477000Z",
     "shell.execute_reply": "2022-08-17T13:45:36.477000Z"
    }
   },
   "outputs": [],
   "source": [
    "OnePiece.feature_x_sample.compare_with_target(co, ma, fu)"
   ]
  },
  {
   "cell_type": "code",
   "execution_count": null,
   "id": "ef214d22",
   "metadata": {
    "execution": {
     "iopub.execute_input": "2022-08-17T13:45:36.480000Z",
     "iopub.status.busy": "2022-08-17T13:45:36.480000Z",
     "iopub.status.idle": "2022-08-17T13:45:36.626000Z",
     "shell.execute_reply": "2022-08-17T13:45:36.626000Z"
    }
   },
   "outputs": [],
   "source": [
    "OnePiece.feature_x_sample.compare_with_target(bi, ma, fu)"
   ]
  }
 ],
 "metadata": {
  "@webio": {
   "lastCommId": null,
   "lastKernelId": null
  },
  "kernelspec": {
   "display_name": "Julia 1.7.3",
   "language": "julia",
   "name": "julia-1.7"
  },
  "language_info": {
   "file_extension": ".jl",
   "mimetype": "application/julia",
   "name": "julia",
   "version": "1.7.3"
  }
 },
 "nbformat": 4,
 "nbformat_minor": 5
}
