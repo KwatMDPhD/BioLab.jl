{
 "cells": [
  {
   "cell_type": "code",
   "execution_count": null,
   "id": "baf12f00",
   "metadata": {
    "execution": {
     "iopub.execute_input": "2022-08-17T20:02:14.303000Z",
     "iopub.status.busy": "2022-08-17T20:02:13.910000Z",
     "iopub.status.idle": "2022-08-17T20:02:19.449000Z",
     "shell.execute_reply": "2022-08-17T20:02:19.397000Z"
    }
   },
   "outputs": [],
   "source": [
    "using OnePiece"
   ]
  },
  {
   "cell_type": "markdown",
   "id": "79a00ecb",
   "metadata": {},
   "source": [
    "## compare_with_target"
   ]
  },
  {
   "cell_type": "code",
   "execution_count": null,
   "id": "1d087e9e",
   "metadata": {
    "execution": {
     "iopub.execute_input": "2022-08-17T20:02:20.145000Z",
     "iopub.status.busy": "2022-08-17T20:02:19.467000Z",
     "iopub.status.idle": "2022-08-17T20:02:20.895000Z",
     "shell.execute_reply": "2022-08-17T20:02:20.895000Z"
    }
   },
   "outputs": [],
   "source": [
    "fu = \"mean_difference\""
   ]
  },
  {
   "cell_type": "code",
   "execution_count": null,
   "id": "9f962f7a",
   "metadata": {
    "execution": {
     "iopub.execute_input": "2022-08-17T20:02:20.899000Z",
     "iopub.status.busy": "2022-08-17T20:02:20.899000Z",
     "iopub.status.idle": "2022-08-17T20:02:21.940000Z",
     "shell.execute_reply": "2022-08-17T20:02:21.940000Z"
    }
   },
   "outputs": [],
   "source": [
    "n_ro = 2\n",
    "\n",
    "n_co = 6\n",
    "\n",
    "ma = OnePiece.matrix.simulate(n_ro, n_co)"
   ]
  },
  {
   "cell_type": "code",
   "execution_count": null,
   "id": "f159d040",
   "metadata": {
    "execution": {
     "iopub.execute_input": "2022-08-17T20:02:21.943000Z",
     "iopub.status.busy": "2022-08-17T20:02:21.943000Z",
     "iopub.status.idle": "2022-08-17T20:02:22.475000Z",
     "shell.execute_reply": "2022-08-17T20:02:22.474000Z"
    }
   },
   "outputs": [],
   "source": [
    "n_ze = convert(Int64, n_co / 2)\n",
    "\n",
    "n_on = n_co - n_ze\n",
    "\n",
    "bi = convert(BitVector, [zeros(n_ze); ones(n_on)])"
   ]
  },
  {
   "cell_type": "code",
   "execution_count": null,
   "id": "d4713561",
   "metadata": {
    "execution": {
     "iopub.execute_input": "2022-08-17T20:02:22.478000Z",
     "iopub.status.busy": "2022-08-17T20:02:22.478000Z",
     "iopub.status.idle": "2022-08-17T20:02:22.853000Z",
     "shell.execute_reply": "2022-08-17T20:02:22.853000Z"
    }
   },
   "outputs": [],
   "source": [
    "co = [10^(id - 1) for id in 1:n_co]"
   ]
  },
  {
   "cell_type": "code",
   "execution_count": null,
   "id": "a223627a",
   "metadata": {
    "execution": {
     "iopub.execute_input": "2022-08-17T20:02:22.856000Z",
     "iopub.status.busy": "2022-08-17T20:02:22.856000Z",
     "iopub.status.idle": "2022-08-17T20:02:23.397000Z",
     "shell.execute_reply": "2022-08-17T20:02:23.396000Z"
    }
   },
   "outputs": [],
   "source": [
    "OnePiece.feature_x_sample.compare_with_target(co, ma, fu)"
   ]
  },
  {
   "cell_type": "code",
   "execution_count": null,
   "id": "ef214d22",
   "metadata": {
    "execution": {
     "iopub.execute_input": "2022-08-17T20:02:23.400000Z",
     "iopub.status.busy": "2022-08-17T20:02:23.400000Z",
     "iopub.status.idle": "2022-08-17T20:02:23.563000Z",
     "shell.execute_reply": "2022-08-17T20:02:23.562000Z"
    }
   },
   "outputs": [],
   "source": [
    "OnePiece.feature_x_sample.compare_with_target(bi, ma, fu)"
   ]
  }
 ],
 "metadata": {
  "@webio": {
   "lastCommId": null,
   "lastKernelId": null
  },
  "kernelspec": {
   "display_name": "Julia 1.7.3",
   "language": "julia",
   "name": "julia-1.7"
  },
  "language_info": {
   "file_extension": ".jl",
   "mimetype": "application/julia",
   "name": "julia",
   "version": "1.7.3"
  }
 },
 "nbformat": 4,
 "nbformat_minor": 5
}
