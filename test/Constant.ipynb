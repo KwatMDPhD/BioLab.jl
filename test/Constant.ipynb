{
 "cells": [
  {
   "cell_type": "code",
   "execution_count": null,
   "id": "778d9ff9",
   "metadata": {},
   "outputs": [],
   "source": [
    "using OnePiece"
   ]
  },
  {
   "cell_type": "markdown",
   "id": "34b39c7d",
   "metadata": {},
   "source": [
    "## CA_"
   ]
  },
  {
   "cell_type": "code",
   "execution_count": null,
   "id": "74c84376",
   "metadata": {},
   "outputs": [],
   "source": [
    "OnePiece.Constant.CA_"
   ]
  },
  {
   "cell_type": "markdown",
   "id": "22826432",
   "metadata": {},
   "source": [
    "## RA"
   ]
  },
  {
   "cell_type": "code",
   "execution_count": null,
   "id": "f6bf4b5c",
   "metadata": {},
   "outputs": [],
   "source": [
    "OnePiece.Constant.RA"
   ]
  }
 ],
 "metadata": {
  "@webio": {
   "lastCommId": null,
   "lastKernelId": null
  },
  "kernelspec": {
   "display_name": "Julia 1.8.2",
   "language": "julia",
   "name": "julia-1.8"
  },
  "language_info": {
   "file_extension": ".jl",
   "mimetype": "application/julia",
   "name": "julia",
   "version": "1.8.2"
  }
 },
 "nbformat": 4,
 "nbformat_minor": 5
}
