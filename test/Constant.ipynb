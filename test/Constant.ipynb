{
 "cells": [
  {
   "cell_type": "code",
   "execution_count": null,
   "id": "778d9ff9",
   "metadata": {},
   "outputs": [],
   "source": [
    "using OnePiece"
   ]
  },
  {
   "cell_type": "markdown",
   "id": "a5920946-2596-4ba6-a304-9ddfe256523f",
   "metadata": {},
   "source": [
    "## CA_"
   ]
  },
  {
   "cell_type": "code",
   "execution_count": null,
   "id": "74c84376",
   "metadata": {},
   "outputs": [],
   "source": [
    "OnePiece.Constant.CA_"
   ]
  },
  {
   "cell_type": "markdown",
   "id": "c5136476-7e3e-4d91-a095-dc46daaafaa7",
   "metadata": {},
   "source": [
    "## RA"
   ]
  },
  {
   "cell_type": "code",
   "execution_count": null,
   "id": "f6bf4b5c",
   "metadata": {},
   "outputs": [],
   "source": [
    "OnePiece.Constant.RA"
   ]
  }
 ],
 "metadata": {
  "@webio": {
   "lastCommId": null,
   "lastKernelId": null
  },
  "kernelspec": {
   "display_name": "Julia 1.8.2",
   "language": "julia",
   "name": "julia-1.8"
  },
  "language_info": {
   "file_extension": ".jl",
   "mimetype": "application/julia",
   "name": "julia",
   "version": "1.8.2"
  }
 },
 "nbformat": 4,
 "nbformat_minor": 5
}
