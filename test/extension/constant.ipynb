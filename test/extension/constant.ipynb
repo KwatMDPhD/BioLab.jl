{
 "cells": [
  {
   "cell_type": "code",
   "execution_count": null,
   "id": "34e4701e",
   "metadata": {
    "execution": {
     "iopub.execute_input": "2022-02-08T11:26:11.184450Z",
     "iopub.status.busy": "2022-02-08T11:26:10.792668Z",
     "iopub.status.idle": "2022-02-08T11:26:11.993547Z",
     "shell.execute_reply": "2022-02-08T11:26:11.993048Z"
    }
   },
   "outputs": [],
   "source": [
    "using Revise\n",
    "using BenchmarkTools"
   ]
  },
  {
   "cell_type": "code",
   "execution_count": null,
   "id": "b3325ba2-989b-48ae-b530-5d0f64147f9a",
   "metadata": {
    "execution": {
     "iopub.execute_input": "2022-02-08T11:26:11.995331Z",
     "iopub.status.busy": "2022-02-08T11:26:11.994832Z",
     "iopub.status.idle": "2022-02-08T11:26:23.130725Z",
     "shell.execute_reply": "2022-02-08T11:26:23.130180Z"
    }
   },
   "outputs": [],
   "source": [
    "using OnePiece"
   ]
  },
  {
   "cell_type": "markdown",
   "id": "cf08ed64",
   "metadata": {},
   "source": [
    "## ALPHABET"
   ]
  },
  {
   "cell_type": "code",
   "execution_count": null,
   "id": "bd560406",
   "metadata": {
    "execution": {
     "iopub.execute_input": "2022-02-08T11:26:24.728019Z",
     "iopub.status.busy": "2022-02-08T11:26:23.132160Z",
     "iopub.status.idle": "2022-02-08T11:26:26.454937Z",
     "shell.execute_reply": "2022-02-08T11:26:26.454448Z"
    }
   },
   "outputs": [],
   "source": [
    "OnePiece.extension.constant.ALPHABET"
   ]
  },
  {
   "cell_type": "markdown",
   "id": "56599040",
   "metadata": {},
   "source": [
    "## CARD"
   ]
  },
  {
   "cell_type": "code",
   "execution_count": null,
   "id": "00600357",
   "metadata": {
    "execution": {
     "iopub.execute_input": "2022-02-08T11:26:26.456902Z",
     "iopub.status.busy": "2022-02-08T11:26:26.456354Z",
     "iopub.status.idle": "2022-02-08T11:26:26.471889Z",
     "shell.execute_reply": "2022-02-08T11:26:26.471430Z"
    }
   },
   "outputs": [],
   "source": [
    "OnePiece.extension.constant.CARD"
   ]
  }
 ],
 "metadata": {
  "@webio": {
   "lastCommId": null,
   "lastKernelId": null
  },
  "kernelspec": {
   "display_name": "Julia 1.7.1",
   "language": "julia",
   "name": "julia-1.7"
  },
  "language_info": {
   "file_extension": ".jl",
   "mimetype": "application/julia",
   "name": "julia",
   "version": "1.7.1"
  }
 },
 "nbformat": 4,
 "nbformat_minor": 5
}
