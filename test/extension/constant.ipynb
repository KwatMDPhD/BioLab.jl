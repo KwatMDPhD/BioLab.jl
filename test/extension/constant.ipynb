{
 "cells": [
  {
   "cell_type": "code",
   "execution_count": null,
   "id": "017464da",
   "metadata": {
    "execution": {
     "iopub.execute_input": "2022-02-14T16:11:28.379792Z",
     "iopub.status.busy": "2022-02-14T16:11:27.991986Z",
     "iopub.status.idle": "2022-02-14T16:11:28.590366Z",
     "shell.execute_reply": "2022-02-14T16:11:28.589826Z"
    }
   },
   "outputs": [],
   "source": [
    "TE = joinpath(tempdir(), \"OnePiece.test\")\n",
    "\n",
    "if isdir(TE)\n",
    "\n",
    "    rm(TE, recursive = true)\n",
    "\n",
    "    println(\"Removed \", TE, \".\")\n",
    "\n",
    "end\n",
    "\n",
    "mkdir(TE)\n",
    "\n",
    "println(\"Made \", TE, \".\")"
   ]
  },
  {
   "cell_type": "code",
   "execution_count": null,
   "id": "34e4701e",
   "metadata": {
    "execution": {
     "iopub.execute_input": "2022-02-14T16:11:28.592328Z",
     "iopub.status.busy": "2022-02-14T16:11:28.591801Z",
     "iopub.status.idle": "2022-02-14T16:11:32.863584Z",
     "shell.execute_reply": "2022-02-14T16:11:32.863139Z"
    }
   },
   "outputs": [],
   "source": [
    "using OnePiece"
   ]
  },
  {
   "cell_type": "markdown",
   "id": "b92a3da9",
   "metadata": {},
   "source": [
    "---"
   ]
  },
  {
   "cell_type": "markdown",
   "id": "cf08ed64",
   "metadata": {},
   "source": [
    "## ALPHABET"
   ]
  },
  {
   "cell_type": "code",
   "execution_count": null,
   "id": "bd560406",
   "metadata": {
    "execution": {
     "iopub.execute_input": "2022-02-14T16:11:33.191511Z",
     "iopub.status.busy": "2022-02-14T16:11:32.865176Z",
     "iopub.status.idle": "2022-02-14T16:11:34.339921Z",
     "shell.execute_reply": "2022-02-14T16:11:34.339524Z"
    }
   },
   "outputs": [],
   "source": [
    "OnePiece.extension.constant.ALPHABET"
   ]
  },
  {
   "cell_type": "markdown",
   "id": "56599040",
   "metadata": {},
   "source": [
    "## CARD"
   ]
  },
  {
   "cell_type": "code",
   "execution_count": null,
   "id": "00600357",
   "metadata": {
    "execution": {
     "iopub.execute_input": "2022-02-14T16:11:34.342031Z",
     "iopub.status.busy": "2022-02-14T16:11:34.341532Z",
     "iopub.status.idle": "2022-02-14T16:11:34.344248Z",
     "shell.execute_reply": "2022-02-14T16:11:34.343871Z"
    }
   },
   "outputs": [],
   "source": [
    "OnePiece.extension.constant.CARD"
   ]
  },
  {
   "cell_type": "markdown",
   "id": "3f396855",
   "metadata": {},
   "source": [
    "---"
   ]
  },
  {
   "cell_type": "code",
   "execution_count": null,
   "id": "b4af2023",
   "metadata": {
    "execution": {
     "iopub.execute_input": "2022-02-14T16:11:34.346170Z",
     "iopub.status.busy": "2022-02-14T16:11:34.345561Z",
     "iopub.status.idle": "2022-02-14T16:11:34.358398Z",
     "shell.execute_reply": "2022-02-14T16:11:34.357940Z"
    }
   },
   "outputs": [],
   "source": [
    "if isdir(TE)\n",
    "\n",
    "    rm(TE, recursive = true)\n",
    "\n",
    "    println(\"Removed \", TE, \".\")\n",
    "\n",
    "end"
   ]
  }
 ],
 "metadata": {
  "kernelspec": {
   "display_name": "Julia 1.7.2",
   "language": "julia",
   "name": "julia-1.7"
  },
  "language_info": {
   "file_extension": ".jl",
   "mimetype": "application/julia",
   "name": "julia",
   "version": "1.7.2"
  }
 },
 "nbformat": 4,
 "nbformat_minor": 5
}
