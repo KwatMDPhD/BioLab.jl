{
 "cells": [
  {
   "cell_type": "code",
   "execution_count": null,
   "id": "34e4701e",
   "metadata": {
    "execution": {
     "iopub.execute_input": "2022-02-08T08:31:01.846236Z",
     "iopub.status.busy": "2022-02-08T08:31:01.464700Z",
     "iopub.status.idle": "2022-02-08T08:31:02.650046Z",
     "shell.execute_reply": "2022-02-08T08:31:02.649549Z"
    }
   },
   "outputs": [],
   "source": [
    "using Revise\n",
    "using BenchmarkTools"
   ]
  },
  {
   "cell_type": "code",
   "execution_count": null,
   "id": "b3325ba2-989b-48ae-b530-5d0f64147f9a",
   "metadata": {
    "execution": {
     "iopub.execute_input": "2022-02-08T08:31:02.652094Z",
     "iopub.status.busy": "2022-02-08T08:31:02.651473Z",
     "iopub.status.idle": "2022-02-08T08:31:13.944125Z",
     "shell.execute_reply": "2022-02-08T08:31:13.943597Z"
    }
   },
   "outputs": [],
   "source": [
    "using OnePiece"
   ]
  },
  {
   "cell_type": "markdown",
   "id": "cf08ed64",
   "metadata": {},
   "source": [
    "## ALPHABET"
   ]
  },
  {
   "cell_type": "code",
   "execution_count": null,
   "id": "bd560406",
   "metadata": {
    "execution": {
     "iopub.execute_input": "2022-02-08T08:31:15.589785Z",
     "iopub.status.busy": "2022-02-08T08:31:13.945606Z",
     "iopub.status.idle": "2022-02-08T08:31:17.303126Z",
     "shell.execute_reply": "2022-02-08T08:31:17.302682Z"
    }
   },
   "outputs": [],
   "source": [
    "OnePiece.extension.constant.ALPHABET"
   ]
  },
  {
   "cell_type": "markdown",
   "id": "56599040",
   "metadata": {},
   "source": [
    "## CARD"
   ]
  },
  {
   "cell_type": "code",
   "execution_count": null,
   "id": "00600357",
   "metadata": {
    "execution": {
     "iopub.execute_input": "2022-02-08T08:31:17.305185Z",
     "iopub.status.busy": "2022-02-08T08:31:17.304547Z",
     "iopub.status.idle": "2022-02-08T08:31:17.319890Z",
     "shell.execute_reply": "2022-02-08T08:31:17.319432Z"
    }
   },
   "outputs": [],
   "source": [
    "OnePiece.extension.constant.CARD"
   ]
  }
 ],
 "metadata": {
  "@webio": {
   "lastCommId": null,
   "lastKernelId": null
  },
  "kernelspec": {
   "display_name": "Julia 1.7.1",
   "language": "julia",
   "name": "julia-1.7"
  },
  "language_info": {
   "file_extension": ".jl",
   "mimetype": "application/julia",
   "name": "julia",
   "version": "1.7.1"
  }
 },
 "nbformat": 4,
 "nbformat_minor": 5
}
