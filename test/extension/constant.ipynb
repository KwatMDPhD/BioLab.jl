{
 "cells": [
  {
   "cell_type": "code",
   "execution_count": null,
   "id": "017464da",
   "metadata": {
    "execution": {
     "iopub.execute_input": "2022-02-14T16:45:13.175071Z",
     "iopub.status.busy": "2022-02-14T16:45:12.673285Z",
     "iopub.status.idle": "2022-02-14T16:45:13.449515Z",
     "shell.execute_reply": "2022-02-14T16:45:13.448836Z"
    }
   },
   "outputs": [],
   "source": [
    "TE = joinpath(tempdir(), \"OnePiece.test\")\n",
    "\n",
    "if isdir(TE)\n",
    "\n",
    "    rm(TE, recursive = true)\n",
    "\n",
    "    println(\"Removed \", TE, \".\")\n",
    "\n",
    "end\n",
    "\n",
    "mkdir(TE)\n",
    "\n",
    "println(\"Made \", TE, \".\")"
   ]
  },
  {
   "cell_type": "code",
   "execution_count": null,
   "id": "34e4701e",
   "metadata": {
    "execution": {
     "iopub.execute_input": "2022-02-14T16:45:13.452190Z",
     "iopub.status.busy": "2022-02-14T16:45:13.451523Z",
     "iopub.status.idle": "2022-02-14T16:45:19.204961Z",
     "shell.execute_reply": "2022-02-14T16:45:19.204353Z"
    }
   },
   "outputs": [],
   "source": [
    "using OnePiece"
   ]
  },
  {
   "cell_type": "markdown",
   "id": "b92a3da9",
   "metadata": {},
   "source": [
    "---"
   ]
  },
  {
   "cell_type": "markdown",
   "id": "cf08ed64",
   "metadata": {},
   "source": [
    "## ALPHABET"
   ]
  },
  {
   "cell_type": "code",
   "execution_count": null,
   "id": "bd560406",
   "metadata": {
    "execution": {
     "iopub.execute_input": "2022-02-14T16:45:19.638611Z",
     "iopub.status.busy": "2022-02-14T16:45:19.206615Z",
     "iopub.status.idle": "2022-02-14T16:45:21.243805Z",
     "shell.execute_reply": "2022-02-14T16:45:21.243271Z"
    }
   },
   "outputs": [],
   "source": [
    "OnePiece.extension.constant.ALPHABET"
   ]
  },
  {
   "cell_type": "markdown",
   "id": "56599040",
   "metadata": {},
   "source": [
    "## CARD"
   ]
  },
  {
   "cell_type": "code",
   "execution_count": null,
   "id": "00600357",
   "metadata": {
    "execution": {
     "iopub.execute_input": "2022-02-14T16:45:21.246290Z",
     "iopub.status.busy": "2022-02-14T16:45:21.245544Z",
     "iopub.status.idle": "2022-02-14T16:45:21.249145Z",
     "shell.execute_reply": "2022-02-14T16:45:21.248511Z"
    }
   },
   "outputs": [],
   "source": [
    "OnePiece.extension.constant.CARD"
   ]
  },
  {
   "cell_type": "markdown",
   "id": "3f396855",
   "metadata": {},
   "source": [
    "---"
   ]
  },
  {
   "cell_type": "code",
   "execution_count": null,
   "id": "b4af2023",
   "metadata": {
    "execution": {
     "iopub.execute_input": "2022-02-14T16:45:21.251771Z",
     "iopub.status.busy": "2022-02-14T16:45:21.250978Z",
     "iopub.status.idle": "2022-02-14T16:45:21.268758Z",
     "shell.execute_reply": "2022-02-14T16:45:21.268148Z"
    }
   },
   "outputs": [],
   "source": [
    "if isdir(TE)\n",
    "\n",
    "    rm(TE, recursive = true)\n",
    "\n",
    "    println(\"Removed \", TE, \".\")\n",
    "\n",
    "end"
   ]
  }
 ],
 "metadata": {
  "kernelspec": {
   "display_name": "Julia 1.7.2",
   "language": "julia",
   "name": "julia-1.7"
  },
  "language_info": {
   "file_extension": ".jl",
   "mimetype": "application/julia",
   "name": "julia",
   "version": "1.7.2"
  }
 },
 "nbformat": 4,
 "nbformat_minor": 5
}
