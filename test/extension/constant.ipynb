{
 "cells": [
  {
   "cell_type": "code",
   "execution_count": null,
   "id": "017464da",
   "metadata": {
    "execution": {
     "iopub.execute_input": "2022-02-10T21:22:15.837654Z",
     "iopub.status.busy": "2022-02-10T21:22:15.241030Z",
     "iopub.status.idle": "2022-02-10T21:22:17.081443Z",
     "shell.execute_reply": "2022-02-10T21:22:17.080634Z"
    }
   },
   "outputs": [],
   "source": [
    "TE = joinpath(tempdir(), \"OnePiece.test\")\n",
    "\n",
    "mkpath(TE)"
   ]
  },
  {
   "cell_type": "code",
   "execution_count": null,
   "id": "34e4701e",
   "metadata": {
    "execution": {
     "iopub.execute_input": "2022-02-10T21:22:17.084008Z",
     "iopub.status.busy": "2022-02-10T21:22:17.083239Z",
     "iopub.status.idle": "2022-02-10T21:22:24.041458Z",
     "shell.execute_reply": "2022-02-10T21:22:24.040757Z"
    }
   },
   "outputs": [],
   "source": [
    "using OnePiece"
   ]
  },
  {
   "cell_type": "markdown",
   "id": "b92a3da9",
   "metadata": {},
   "source": [
    "---"
   ]
  },
  {
   "cell_type": "markdown",
   "id": "cf08ed64",
   "metadata": {},
   "source": [
    "## ALPHABET"
   ]
  },
  {
   "cell_type": "code",
   "execution_count": null,
   "id": "bd560406",
   "metadata": {
    "execution": {
     "iopub.execute_input": "2022-02-10T21:22:24.658146Z",
     "iopub.status.busy": "2022-02-10T21:22:24.043488Z",
     "iopub.status.idle": "2022-02-10T21:22:26.270205Z",
     "shell.execute_reply": "2022-02-10T21:22:26.269478Z"
    }
   },
   "outputs": [],
   "source": [
    "OnePiece.extension.constant.ALPHABET"
   ]
  },
  {
   "cell_type": "markdown",
   "id": "56599040",
   "metadata": {},
   "source": [
    "## CARD"
   ]
  },
  {
   "cell_type": "code",
   "execution_count": null,
   "id": "00600357",
   "metadata": {
    "execution": {
     "iopub.execute_input": "2022-02-10T21:22:26.273079Z",
     "iopub.status.busy": "2022-02-10T21:22:26.272229Z",
     "iopub.status.idle": "2022-02-10T21:22:26.276365Z",
     "shell.execute_reply": "2022-02-10T21:22:26.275743Z"
    }
   },
   "outputs": [],
   "source": [
    "OnePiece.extension.constant.CARD"
   ]
  },
  {
   "cell_type": "markdown",
   "id": "3f396855",
   "metadata": {},
   "source": [
    "---"
   ]
  },
  {
   "cell_type": "code",
   "execution_count": null,
   "id": "b4af2023",
   "metadata": {
    "execution": {
     "iopub.execute_input": "2022-02-10T21:22:26.279088Z",
     "iopub.status.busy": "2022-02-10T21:22:26.278248Z",
     "iopub.status.idle": "2022-02-10T21:22:26.302094Z",
     "shell.execute_reply": "2022-02-10T21:22:26.301257Z"
    }
   },
   "outputs": [],
   "source": [
    "rm(TE; recursive = true)"
   ]
  }
 ],
 "metadata": {
  "kernelspec": {
   "display_name": "Julia 1.7.2",
   "language": "julia",
   "name": "julia-1.7"
  },
  "language_info": {
   "file_extension": ".jl",
   "mimetype": "application/julia",
   "name": "julia",
   "version": "1.7.2"
  }
 },
 "nbformat": 4,
 "nbformat_minor": 5
}
