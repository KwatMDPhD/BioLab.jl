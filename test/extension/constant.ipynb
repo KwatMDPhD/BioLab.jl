{
 "cells": [
  {
   "cell_type": "code",
   "execution_count": null,
   "id": "34e4701e",
   "metadata": {
    "execution": {
     "iopub.execute_input": "2022-02-09T18:50:34.199534Z",
     "iopub.status.busy": "2022-02-09T18:50:33.832601Z",
     "iopub.status.idle": "2022-02-09T18:50:35.147104Z",
     "shell.execute_reply": "2022-02-09T18:50:35.146507Z"
    }
   },
   "outputs": [],
   "source": [
    "using Revise\n",
    "using BenchmarkTools"
   ]
  },
  {
   "cell_type": "code",
   "execution_count": null,
   "id": "b3325ba2-989b-48ae-b530-5d0f64147f9a",
   "metadata": {
    "execution": {
     "iopub.execute_input": "2022-02-09T18:50:35.149150Z",
     "iopub.status.busy": "2022-02-09T18:50:35.148511Z",
     "iopub.status.idle": "2022-02-09T18:50:45.176042Z",
     "shell.execute_reply": "2022-02-09T18:50:45.175511Z"
    }
   },
   "outputs": [],
   "source": [
    "using OnePiece"
   ]
  },
  {
   "cell_type": "markdown",
   "id": "cf08ed64",
   "metadata": {},
   "source": [
    "## ALPHABET"
   ]
  },
  {
   "cell_type": "code",
   "execution_count": null,
   "id": "bd560406",
   "metadata": {
    "execution": {
     "iopub.execute_input": "2022-02-09T18:50:46.793846Z",
     "iopub.status.busy": "2022-02-09T18:50:45.177414Z",
     "iopub.status.idle": "2022-02-09T18:50:48.374395Z",
     "shell.execute_reply": "2022-02-09T18:50:48.373931Z"
    }
   },
   "outputs": [],
   "source": [
    "OnePiece.extension.constant.ALPHABET"
   ]
  },
  {
   "cell_type": "markdown",
   "id": "56599040",
   "metadata": {},
   "source": [
    "## CARD"
   ]
  },
  {
   "cell_type": "code",
   "execution_count": null,
   "id": "00600357",
   "metadata": {
    "execution": {
     "iopub.execute_input": "2022-02-09T18:50:48.376462Z",
     "iopub.status.busy": "2022-02-09T18:50:48.375798Z",
     "iopub.status.idle": "2022-02-09T18:50:48.391345Z",
     "shell.execute_reply": "2022-02-09T18:50:48.390884Z"
    }
   },
   "outputs": [],
   "source": [
    "OnePiece.extension.constant.CARD"
   ]
  }
 ],
 "metadata": {
  "@webio": {
   "lastCommId": null,
   "lastKernelId": null
  },
  "kernelspec": {
   "display_name": "Julia 1.7.1",
   "language": "julia",
   "name": "julia-1.7"
  },
  "language_info": {
   "file_extension": ".jl",
   "mimetype": "application/julia",
   "name": "julia",
   "version": "1.7.2"
  }
 },
 "nbformat": 4,
 "nbformat_minor": 5
}
