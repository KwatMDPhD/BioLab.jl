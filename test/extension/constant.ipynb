{
 "cells": [
  {
   "cell_type": "code",
   "execution_count": null,
   "id": "34e4701e",
   "metadata": {
    "execution": {
     "iopub.execute_input": "2022-02-09T02:34:32.565251Z",
     "iopub.status.busy": "2022-02-09T02:34:32.157066Z",
     "iopub.status.idle": "2022-02-09T02:34:33.604363Z",
     "shell.execute_reply": "2022-02-09T02:34:33.603735Z"
    }
   },
   "outputs": [],
   "source": [
    "using Revise\n",
    "using BenchmarkTools"
   ]
  },
  {
   "cell_type": "code",
   "execution_count": null,
   "id": "b3325ba2-989b-48ae-b530-5d0f64147f9a",
   "metadata": {
    "execution": {
     "iopub.execute_input": "2022-02-09T02:34:33.606207Z",
     "iopub.status.busy": "2022-02-09T02:34:33.605638Z",
     "iopub.status.idle": "2022-02-09T02:34:44.706365Z",
     "shell.execute_reply": "2022-02-09T02:34:44.705804Z"
    }
   },
   "outputs": [],
   "source": [
    "using OnePiece"
   ]
  },
  {
   "cell_type": "markdown",
   "id": "cf08ed64",
   "metadata": {},
   "source": [
    "## ALPHABET"
   ]
  },
  {
   "cell_type": "code",
   "execution_count": null,
   "id": "bd560406",
   "metadata": {
    "execution": {
     "iopub.execute_input": "2022-02-09T02:34:46.473084Z",
     "iopub.status.busy": "2022-02-09T02:34:44.707821Z",
     "iopub.status.idle": "2022-02-09T02:34:48.174740Z",
     "shell.execute_reply": "2022-02-09T02:34:48.174271Z"
    }
   },
   "outputs": [],
   "source": [
    "OnePiece.extension.constant.ALPHABET"
   ]
  },
  {
   "cell_type": "markdown",
   "id": "56599040",
   "metadata": {},
   "source": [
    "## CARD"
   ]
  },
  {
   "cell_type": "code",
   "execution_count": null,
   "id": "00600357",
   "metadata": {
    "execution": {
     "iopub.execute_input": "2022-02-09T02:34:48.176859Z",
     "iopub.status.busy": "2022-02-09T02:34:48.176203Z",
     "iopub.status.idle": "2022-02-09T02:34:48.192058Z",
     "shell.execute_reply": "2022-02-09T02:34:48.191560Z"
    }
   },
   "outputs": [],
   "source": [
    "OnePiece.extension.constant.CARD"
   ]
  }
 ],
 "metadata": {
  "@webio": {
   "lastCommId": null,
   "lastKernelId": null
  },
  "kernelspec": {
   "display_name": "Julia 1.7.1",
   "language": "julia",
   "name": "julia-1.7"
  },
  "language_info": {
   "file_extension": ".jl",
   "mimetype": "application/julia",
   "name": "julia",
   "version": "1.7.2"
  }
 },
 "nbformat": 4,
 "nbformat_minor": 5
}
