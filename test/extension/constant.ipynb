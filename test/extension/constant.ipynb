{
 "cells": [
  {
   "cell_type": "code",
   "execution_count": null,
   "id": "34e4701e",
   "metadata": {
    "execution": {
     "iopub.execute_input": "2022-02-09T22:39:27.223258Z",
     "iopub.status.busy": "2022-02-09T22:39:26.821741Z",
     "iopub.status.idle": "2022-02-09T22:39:28.218171Z",
     "shell.execute_reply": "2022-02-09T22:39:28.217583Z"
    }
   },
   "outputs": [],
   "source": [
    "using Revise\n",
    "using BenchmarkTools"
   ]
  },
  {
   "cell_type": "code",
   "execution_count": null,
   "id": "b3325ba2-989b-48ae-b530-5d0f64147f9a",
   "metadata": {
    "execution": {
     "iopub.execute_input": "2022-02-09T22:39:28.220285Z",
     "iopub.status.busy": "2022-02-09T22:39:28.219761Z",
     "iopub.status.idle": "2022-02-09T22:39:46.040310Z",
     "shell.execute_reply": "2022-02-09T22:39:46.039765Z"
    }
   },
   "outputs": [],
   "source": [
    "using OnePiece"
   ]
  },
  {
   "cell_type": "markdown",
   "id": "cf08ed64",
   "metadata": {},
   "source": [
    "## ALPHABET"
   ]
  },
  {
   "cell_type": "code",
   "execution_count": null,
   "id": "bd560406",
   "metadata": {
    "execution": {
     "iopub.execute_input": "2022-02-09T22:39:47.746392Z",
     "iopub.status.busy": "2022-02-09T22:39:46.041775Z",
     "iopub.status.idle": "2022-02-09T22:39:49.307629Z",
     "shell.execute_reply": "2022-02-09T22:39:49.307241Z"
    }
   },
   "outputs": [],
   "source": [
    "OnePiece.extension.constant.ALPHABET"
   ]
  },
  {
   "cell_type": "markdown",
   "id": "56599040",
   "metadata": {},
   "source": [
    "## CARD"
   ]
  },
  {
   "cell_type": "code",
   "execution_count": null,
   "id": "00600357",
   "metadata": {
    "execution": {
     "iopub.execute_input": "2022-02-09T22:39:49.310003Z",
     "iopub.status.busy": "2022-02-09T22:39:49.309350Z",
     "iopub.status.idle": "2022-02-09T22:39:49.323555Z",
     "shell.execute_reply": "2022-02-09T22:39:49.323176Z"
    }
   },
   "outputs": [],
   "source": [
    "OnePiece.extension.constant.CARD"
   ]
  }
 ],
 "metadata": {
  "@webio": {
   "lastCommId": null,
   "lastKernelId": null
  },
  "kernelspec": {
   "display_name": "Julia 1.7.1",
   "language": "julia",
   "name": "julia-1.7"
  },
  "language_info": {
   "file_extension": ".jl",
   "mimetype": "application/julia",
   "name": "julia",
   "version": "1.7.2"
  }
 },
 "nbformat": 4,
 "nbformat_minor": 5
}
