{
 "cells": [
  {
   "cell_type": "code",
   "execution_count": null,
   "id": "017464da",
   "metadata": {
    "execution": {
     "iopub.execute_input": "2022-02-14T17:00:51.738897Z",
     "iopub.status.busy": "2022-02-14T17:00:51.353797Z",
     "iopub.status.idle": "2022-02-14T17:00:51.950417Z",
     "shell.execute_reply": "2022-02-14T17:00:51.949905Z"
    }
   },
   "outputs": [],
   "source": [
    "TE = joinpath(tempdir(), \"OnePiece.test\")\n",
    "\n",
    "if isdir(TE)\n",
    "\n",
    "    rm(TE, recursive = true)\n",
    "\n",
    "    println(\"Removed \", TE, \".\")\n",
    "\n",
    "end\n",
    "\n",
    "mkdir(TE)\n",
    "\n",
    "println(\"Made \", TE, \".\")"
   ]
  },
  {
   "cell_type": "code",
   "execution_count": null,
   "id": "34e4701e",
   "metadata": {
    "execution": {
     "iopub.execute_input": "2022-02-14T17:00:51.952354Z",
     "iopub.status.busy": "2022-02-14T17:00:51.951774Z",
     "iopub.status.idle": "2022-02-14T17:00:56.534888Z",
     "shell.execute_reply": "2022-02-14T17:00:56.534374Z"
    }
   },
   "outputs": [],
   "source": [
    "using OnePiece"
   ]
  },
  {
   "cell_type": "markdown",
   "id": "b92a3da9",
   "metadata": {},
   "source": [
    "---"
   ]
  },
  {
   "cell_type": "markdown",
   "id": "cf08ed64",
   "metadata": {},
   "source": [
    "## ALPHABET"
   ]
  },
  {
   "cell_type": "code",
   "execution_count": null,
   "id": "bd560406",
   "metadata": {
    "execution": {
     "iopub.execute_input": "2022-02-14T17:00:56.860784Z",
     "iopub.status.busy": "2022-02-14T17:00:56.536275Z",
     "iopub.status.idle": "2022-02-14T17:00:57.993390Z",
     "shell.execute_reply": "2022-02-14T17:00:57.993001Z"
    }
   },
   "outputs": [],
   "source": [
    "OnePiece.extension.constant.ALPHABET"
   ]
  },
  {
   "cell_type": "markdown",
   "id": "56599040",
   "metadata": {},
   "source": [
    "## CARD"
   ]
  },
  {
   "cell_type": "code",
   "execution_count": null,
   "id": "00600357",
   "metadata": {
    "execution": {
     "iopub.execute_input": "2022-02-14T17:00:57.995330Z",
     "iopub.status.busy": "2022-02-14T17:00:57.994837Z",
     "iopub.status.idle": "2022-02-14T17:00:57.997563Z",
     "shell.execute_reply": "2022-02-14T17:00:57.997170Z"
    }
   },
   "outputs": [],
   "source": [
    "OnePiece.extension.constant.CARD"
   ]
  },
  {
   "cell_type": "markdown",
   "id": "3f396855",
   "metadata": {},
   "source": [
    "---"
   ]
  },
  {
   "cell_type": "code",
   "execution_count": null,
   "id": "b4af2023",
   "metadata": {
    "execution": {
     "iopub.execute_input": "2022-02-14T17:00:58.000023Z",
     "iopub.status.busy": "2022-02-14T17:00:57.999151Z",
     "iopub.status.idle": "2022-02-14T17:00:58.013168Z",
     "shell.execute_reply": "2022-02-14T17:00:58.012725Z"
    }
   },
   "outputs": [],
   "source": [
    "if isdir(TE)\n",
    "\n",
    "    rm(TE, recursive = true)\n",
    "\n",
    "    println(\"Removed \", TE, \".\")\n",
    "\n",
    "end"
   ]
  }
 ],
 "metadata": {
  "kernelspec": {
   "display_name": "Julia 1.7.2",
   "language": "julia",
   "name": "julia-1.7"
  },
  "language_info": {
   "file_extension": ".jl",
   "mimetype": "application/julia",
   "name": "julia",
   "version": "1.7.2"
  }
 },
 "nbformat": 4,
 "nbformat_minor": 5
}
