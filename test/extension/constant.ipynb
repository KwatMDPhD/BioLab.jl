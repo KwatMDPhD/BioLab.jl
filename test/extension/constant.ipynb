{
 "cells": [
  {
   "cell_type": "code",
   "execution_count": null,
   "id": "017464da",
   "metadata": {
    "execution": {
     "iopub.execute_input": "2022-02-11T19:56:16.333279Z",
     "iopub.status.busy": "2022-02-11T19:56:15.911683Z",
     "iopub.status.idle": "2022-02-11T19:56:16.568129Z",
     "shell.execute_reply": "2022-02-11T19:56:16.567468Z"
    }
   },
   "outputs": [],
   "source": [
    "TE = joinpath(tempdir(), \"OnePiece.test\")\n",
    "\n",
    "if isdir(TE)\n",
    "\n",
    "    rm(TE, recursive = true)\n",
    "\n",
    "    println(\"Removed \", TE, \".\")\n",
    "\n",
    "end\n",
    "\n",
    "mkdir(TE)\n",
    "\n",
    "println(\"Made \", TE, \".\")"
   ]
  },
  {
   "cell_type": "code",
   "execution_count": null,
   "id": "34e4701e",
   "metadata": {
    "execution": {
     "iopub.execute_input": "2022-02-11T19:56:16.570218Z",
     "iopub.status.busy": "2022-02-11T19:56:16.569596Z",
     "iopub.status.idle": "2022-02-11T19:56:21.535085Z",
     "shell.execute_reply": "2022-02-11T19:56:21.534547Z"
    }
   },
   "outputs": [],
   "source": [
    "using OnePiece"
   ]
  },
  {
   "cell_type": "markdown",
   "id": "b92a3da9",
   "metadata": {},
   "source": [
    "---"
   ]
  },
  {
   "cell_type": "markdown",
   "id": "cf08ed64",
   "metadata": {},
   "source": [
    "## ALPHABET"
   ]
  },
  {
   "cell_type": "code",
   "execution_count": null,
   "id": "bd560406",
   "metadata": {
    "execution": {
     "iopub.execute_input": "2022-02-11T19:56:21.916029Z",
     "iopub.status.busy": "2022-02-11T19:56:21.536755Z",
     "iopub.status.idle": "2022-02-11T19:56:23.283518Z",
     "shell.execute_reply": "2022-02-11T19:56:23.282995Z"
    }
   },
   "outputs": [],
   "source": [
    "OnePiece.extension.constant.ALPHABET"
   ]
  },
  {
   "cell_type": "markdown",
   "id": "56599040",
   "metadata": {},
   "source": [
    "## CARD"
   ]
  },
  {
   "cell_type": "code",
   "execution_count": null,
   "id": "00600357",
   "metadata": {
    "execution": {
     "iopub.execute_input": "2022-02-11T19:56:23.285624Z",
     "iopub.status.busy": "2022-02-11T19:56:23.285000Z",
     "iopub.status.idle": "2022-02-11T19:56:23.288184Z",
     "shell.execute_reply": "2022-02-11T19:56:23.287723Z"
    }
   },
   "outputs": [],
   "source": [
    "OnePiece.extension.constant.CARD"
   ]
  },
  {
   "cell_type": "markdown",
   "id": "3f396855",
   "metadata": {},
   "source": [
    "---"
   ]
  },
  {
   "cell_type": "code",
   "execution_count": null,
   "id": "b4af2023",
   "metadata": {
    "execution": {
     "iopub.execute_input": "2022-02-11T19:56:23.290134Z",
     "iopub.status.busy": "2022-02-11T19:56:23.289499Z",
     "iopub.status.idle": "2022-02-11T19:56:23.304567Z",
     "shell.execute_reply": "2022-02-11T19:56:23.303938Z"
    }
   },
   "outputs": [],
   "source": [
    "if isdir(TE)\n",
    "\n",
    "    rm(TE, recursive = true)\n",
    "\n",
    "    println(\"Removed \", TE, \".\")\n",
    "\n",
    "end"
   ]
  }
 ],
 "metadata": {
  "kernelspec": {
   "display_name": "Julia 1.7.2",
   "language": "julia",
   "name": "julia-1.7"
  },
  "language_info": {
   "file_extension": ".jl",
   "mimetype": "application/julia",
   "name": "julia",
   "version": "1.7.2"
  }
 },
 "nbformat": 4,
 "nbformat_minor": 5
}
