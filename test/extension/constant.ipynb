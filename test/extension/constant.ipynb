{
 "cells": [
  {
   "cell_type": "code",
   "execution_count": null,
   "id": "34e4701e",
   "metadata": {
    "execution": {
     "iopub.execute_input": "2022-02-09T05:29:30.445662Z",
     "iopub.status.busy": "2022-02-09T05:29:30.031687Z",
     "iopub.status.idle": "2022-02-09T05:29:31.458574Z",
     "shell.execute_reply": "2022-02-09T05:29:31.457951Z"
    }
   },
   "outputs": [],
   "source": [
    "using Revise\n",
    "using BenchmarkTools"
   ]
  },
  {
   "cell_type": "code",
   "execution_count": null,
   "id": "b3325ba2-989b-48ae-b530-5d0f64147f9a",
   "metadata": {
    "execution": {
     "iopub.execute_input": "2022-02-09T05:29:31.460566Z",
     "iopub.status.busy": "2022-02-09T05:29:31.459983Z",
     "iopub.status.idle": "2022-02-09T05:29:42.157776Z",
     "shell.execute_reply": "2022-02-09T05:29:42.157184Z"
    }
   },
   "outputs": [],
   "source": [
    "using OnePiece"
   ]
  },
  {
   "cell_type": "markdown",
   "id": "cf08ed64",
   "metadata": {},
   "source": [
    "## ALPHABET"
   ]
  },
  {
   "cell_type": "code",
   "execution_count": null,
   "id": "bd560406",
   "metadata": {
    "execution": {
     "iopub.execute_input": "2022-02-09T05:29:43.868695Z",
     "iopub.status.busy": "2022-02-09T05:29:42.159155Z",
     "iopub.status.idle": "2022-02-09T05:29:45.538864Z",
     "shell.execute_reply": "2022-02-09T05:29:45.538457Z"
    }
   },
   "outputs": [],
   "source": [
    "OnePiece.extension.constant.ALPHABET"
   ]
  },
  {
   "cell_type": "markdown",
   "id": "56599040",
   "metadata": {},
   "source": [
    "## CARD"
   ]
  },
  {
   "cell_type": "code",
   "execution_count": null,
   "id": "00600357",
   "metadata": {
    "execution": {
     "iopub.execute_input": "2022-02-09T05:29:45.540812Z",
     "iopub.status.busy": "2022-02-09T05:29:45.540290Z",
     "iopub.status.idle": "2022-02-09T05:29:45.554824Z",
     "shell.execute_reply": "2022-02-09T05:29:45.554359Z"
    }
   },
   "outputs": [],
   "source": [
    "OnePiece.extension.constant.CARD"
   ]
  }
 ],
 "metadata": {
  "@webio": {
   "lastCommId": null,
   "lastKernelId": null
  },
  "kernelspec": {
   "display_name": "Julia 1.7.1",
   "language": "julia",
   "name": "julia-1.7"
  },
  "language_info": {
   "file_extension": ".jl",
   "mimetype": "application/julia",
   "name": "julia",
   "version": "1.7.2"
  }
 },
 "nbformat": 4,
 "nbformat_minor": 5
}
