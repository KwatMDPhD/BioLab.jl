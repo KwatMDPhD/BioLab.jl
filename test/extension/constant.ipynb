{
 "cells": [
  {
   "cell_type": "code",
   "execution_count": null,
   "id": "017464da",
   "metadata": {
    "execution": {
     "iopub.execute_input": "2022-02-13T05:30:59.152010Z",
     "iopub.status.busy": "2022-02-13T05:30:58.818488Z",
     "iopub.status.idle": "2022-02-13T05:30:59.327307Z",
     "shell.execute_reply": "2022-02-13T05:30:59.326770Z"
    }
   },
   "outputs": [],
   "source": [
    "TE = joinpath(tempdir(), \"OnePiece.test\")\n",
    "\n",
    "if isdir(TE)\n",
    "\n",
    "    rm(TE, recursive = true)\n",
    "\n",
    "    println(\"Removed \", TE, \".\")\n",
    "\n",
    "end\n",
    "\n",
    "mkdir(TE)\n",
    "\n",
    "println(\"Made \", TE, \".\")"
   ]
  },
  {
   "cell_type": "code",
   "execution_count": null,
   "id": "34e4701e",
   "metadata": {
    "execution": {
     "iopub.execute_input": "2022-02-13T05:30:59.329170Z",
     "iopub.status.busy": "2022-02-13T05:30:59.328657Z",
     "iopub.status.idle": "2022-02-13T05:31:03.336932Z",
     "shell.execute_reply": "2022-02-13T05:31:03.336495Z"
    }
   },
   "outputs": [],
   "source": [
    "using OnePiece"
   ]
  },
  {
   "cell_type": "markdown",
   "id": "b92a3da9",
   "metadata": {},
   "source": [
    "---"
   ]
  },
  {
   "cell_type": "markdown",
   "id": "cf08ed64",
   "metadata": {},
   "source": [
    "## ALPHABET"
   ]
  },
  {
   "cell_type": "code",
   "execution_count": null,
   "id": "bd560406",
   "metadata": {
    "execution": {
     "iopub.execute_input": "2022-02-13T05:31:03.630762Z",
     "iopub.status.busy": "2022-02-13T05:31:03.338305Z",
     "iopub.status.idle": "2022-02-13T05:31:04.735017Z",
     "shell.execute_reply": "2022-02-13T05:31:04.734625Z"
    }
   },
   "outputs": [],
   "source": [
    "OnePiece.extension.constant.ALPHABET"
   ]
  },
  {
   "cell_type": "markdown",
   "id": "56599040",
   "metadata": {},
   "source": [
    "## CARD"
   ]
  },
  {
   "cell_type": "code",
   "execution_count": null,
   "id": "00600357",
   "metadata": {
    "execution": {
     "iopub.execute_input": "2022-02-13T05:31:04.736995Z",
     "iopub.status.busy": "2022-02-13T05:31:04.736493Z",
     "iopub.status.idle": "2022-02-13T05:31:04.739370Z",
     "shell.execute_reply": "2022-02-13T05:31:04.738935Z"
    }
   },
   "outputs": [],
   "source": [
    "OnePiece.extension.constant.CARD"
   ]
  },
  {
   "cell_type": "markdown",
   "id": "3f396855",
   "metadata": {},
   "source": [
    "---"
   ]
  },
  {
   "cell_type": "code",
   "execution_count": null,
   "id": "b4af2023",
   "metadata": {
    "execution": {
     "iopub.execute_input": "2022-02-13T05:31:04.741335Z",
     "iopub.status.busy": "2022-02-13T05:31:04.740657Z",
     "iopub.status.idle": "2022-02-13T05:31:04.752647Z",
     "shell.execute_reply": "2022-02-13T05:31:04.752218Z"
    }
   },
   "outputs": [],
   "source": [
    "if isdir(TE)\n",
    "\n",
    "    rm(TE, recursive = true)\n",
    "\n",
    "    println(\"Removed \", TE, \".\")\n",
    "\n",
    "end"
   ]
  }
 ],
 "metadata": {
  "kernelspec": {
   "display_name": "Julia 1.7.2",
   "language": "julia",
   "name": "julia-1.7"
  },
  "language_info": {
   "file_extension": ".jl",
   "mimetype": "application/julia",
   "name": "julia",
   "version": "1.7.2"
  }
 },
 "nbformat": 4,
 "nbformat_minor": 5
}
