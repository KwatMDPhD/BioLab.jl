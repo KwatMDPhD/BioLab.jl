{
 "cells": [
  {
   "cell_type": "code",
   "execution_count": null,
   "id": "017464da",
   "metadata": {
    "execution": {
     "iopub.execute_input": "2022-02-11T08:10:53.775151Z",
     "iopub.status.busy": "2022-02-11T08:10:53.435290Z",
     "iopub.status.idle": "2022-02-11T08:10:53.960308Z",
     "shell.execute_reply": "2022-02-11T08:10:53.959809Z"
    }
   },
   "outputs": [],
   "source": [
    "TE = joinpath(tempdir(), \"OnePiece.test\")\n",
    "\n",
    "if isdir(TE)\n",
    "\n",
    "    rm(TE; recursive = true)\n",
    "\n",
    "    println(\"Removed \", TE, \".\")\n",
    "\n",
    "end\n",
    "\n",
    "mkdir(TE)\n",
    "\n",
    "println(\"Made \", TE, \".\")"
   ]
  },
  {
   "cell_type": "code",
   "execution_count": null,
   "id": "34e4701e",
   "metadata": {
    "execution": {
     "iopub.execute_input": "2022-02-11T08:10:53.962500Z",
     "iopub.status.busy": "2022-02-11T08:10:53.961931Z",
     "iopub.status.idle": "2022-02-11T08:10:58.183450Z",
     "shell.execute_reply": "2022-02-11T08:10:58.182947Z"
    }
   },
   "outputs": [],
   "source": [
    "using OnePiece"
   ]
  },
  {
   "cell_type": "markdown",
   "id": "b92a3da9",
   "metadata": {},
   "source": [
    "---"
   ]
  },
  {
   "cell_type": "markdown",
   "id": "a02ed866",
   "metadata": {},
   "source": [
    "## title"
   ]
  },
  {
   "cell_type": "code",
   "execution_count": null,
   "id": "99fd4194",
   "metadata": {
    "execution": {
     "iopub.execute_input": "2022-02-11T08:10:58.492753Z",
     "iopub.status.busy": "2022-02-11T08:10:58.184870Z",
     "iopub.status.idle": "2022-02-11T08:10:58.562871Z",
     "shell.execute_reply": "2022-02-11T08:10:58.562378Z"
    }
   },
   "outputs": [],
   "source": [
    "for st in [\"aa\", \"DNA\", \"Hello world!\", \"SARS-COVID-2\"]\n",
    "\n",
    "    println(OnePiece.extension.string.title(st))\n",
    "\n",
    "end"
   ]
  },
  {
   "cell_type": "markdown",
   "id": "f27cd482-162a-407b-b8c2-0004da45cde6",
   "metadata": {},
   "source": [
    "## replace"
   ]
  },
  {
   "cell_type": "code",
   "execution_count": null,
   "id": "55ad4d9e-e111-49b5-abd4-24d313c04b5f",
   "metadata": {
    "execution": {
     "iopub.execute_input": "2022-02-11T08:10:58.565143Z",
     "iopub.status.busy": "2022-02-11T08:10:58.564357Z",
     "iopub.status.idle": "2022-02-11T08:10:59.162066Z",
     "shell.execute_reply": "2022-02-11T08:10:59.161671Z"
    }
   },
   "outputs": [],
   "source": [
    "OnePiece.extension.string.replace(\n",
    "    \"Sanji, Zoro, and Nami.\",\n",
    "    [\"Sanji\" => \"Usoppu\", \"Zoro\" => \"Chopper\", \"Nami\" => \"Robin\"],\n",
    ")"
   ]
  },
  {
   "cell_type": "markdown",
   "id": "fbd9a52f",
   "metadata": {},
   "source": [
    "## remove_longest_common_prefix"
   ]
  },
  {
   "cell_type": "code",
   "execution_count": null,
   "id": "8e6fd14f",
   "metadata": {
    "execution": {
     "iopub.execute_input": "2022-02-11T08:10:59.164232Z",
     "iopub.status.busy": "2022-02-11T08:10:59.163732Z",
     "iopub.status.idle": "2022-02-11T08:10:59.561139Z",
     "shell.execute_reply": "2022-02-11T08:10:59.560750Z"
    }
   },
   "outputs": [],
   "source": [
    "for st_ in [\n",
    "    [\"\", \"\", \"\"],\n",
    "    [\"kate\"],\n",
    "    [\"kate\", \"katana\"],\n",
    "    [\"kate\", \"kwat\"],\n",
    "    [\"kate\", \"kwat\", \"kazakh\"],\n",
    "    [\"a\", \"ab\", \"abc\"],\n",
    "    [\"abc\", \"ab\", \"a\"],\n",
    "]\n",
    "\n",
    "    println(\"-\"^99)\n",
    "\n",
    "    println(OnePiece.extension.string.remove_longest_common_prefix(st_))\n",
    "\n",
    "end"
   ]
  },
  {
   "cell_type": "markdown",
   "id": "d187bf50",
   "metadata": {},
   "source": [
    "## transplant"
   ]
  },
  {
   "cell_type": "code",
   "execution_count": null,
   "id": "9f936782",
   "metadata": {
    "execution": {
     "iopub.execute_input": "2022-02-11T08:10:59.563580Z",
     "iopub.status.busy": "2022-02-11T08:10:59.562887Z",
     "iopub.status.idle": "2022-02-11T08:10:59.635382Z",
     "shell.execute_reply": "2022-02-11T08:10:59.634994Z"
    }
   },
   "outputs": [],
   "source": [
    "st1 = \"A--BB--CCC\"\n",
    "\n",
    "st2 = \"a--bb--ccc\"\n",
    "\n",
    "de = \"--\"\n",
    "\n",
    "OnePiece.extension.string.transplant(st1, st2, de, [1, 2, 1])"
   ]
  },
  {
   "cell_type": "markdown",
   "id": "3f396855",
   "metadata": {},
   "source": [
    "---"
   ]
  },
  {
   "cell_type": "code",
   "execution_count": null,
   "id": "b4af2023",
   "metadata": {
    "execution": {
     "iopub.execute_input": "2022-02-11T08:10:59.637454Z",
     "iopub.status.busy": "2022-02-11T08:10:59.636926Z",
     "iopub.status.idle": "2022-02-11T08:10:59.641282Z",
     "shell.execute_reply": "2022-02-11T08:10:59.640928Z"
    }
   },
   "outputs": [],
   "source": [
    "if isdir(TE)\n",
    "\n",
    "    rm(TE; recursive = true)\n",
    "\n",
    "    println(\"Removed \", TE, \".\")\n",
    "\n",
    "end"
   ]
  }
 ],
 "metadata": {
  "kernelspec": {
   "display_name": "Julia 1.7.2",
   "language": "julia",
   "name": "julia-1.7"
  },
  "language_info": {
   "file_extension": ".jl",
   "mimetype": "application/julia",
   "name": "julia",
   "version": "1.7.2"
  }
 },
 "nbformat": 4,
 "nbformat_minor": 5
}
