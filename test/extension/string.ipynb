{
 "cells": [
  {
   "cell_type": "code",
   "execution_count": null,
   "id": "34e4701e",
   "metadata": {
    "execution": {
     "iopub.execute_input": "2022-02-08T08:32:40.649130Z",
     "iopub.status.busy": "2022-02-08T08:32:40.233475Z",
     "iopub.status.idle": "2022-02-08T08:32:41.577705Z",
     "shell.execute_reply": "2022-02-08T08:32:41.577064Z"
    }
   },
   "outputs": [],
   "source": [
    "using Revise\n",
    "using BenchmarkTools"
   ]
  },
  {
   "cell_type": "code",
   "execution_count": null,
   "id": "47db0034-3cde-4c8e-b313-a08bb73b0fc8",
   "metadata": {
    "execution": {
     "iopub.execute_input": "2022-02-08T08:32:41.579746Z",
     "iopub.status.busy": "2022-02-08T08:32:41.579099Z",
     "iopub.status.idle": "2022-02-08T08:32:53.852299Z",
     "shell.execute_reply": "2022-02-08T08:32:53.851764Z"
    }
   },
   "outputs": [],
   "source": [
    "using OnePiece"
   ]
  },
  {
   "cell_type": "markdown",
   "id": "a02ed866",
   "metadata": {},
   "source": [
    "## title"
   ]
  },
  {
   "cell_type": "code",
   "execution_count": null,
   "id": "99fd4194",
   "metadata": {
    "execution": {
     "iopub.execute_input": "2022-02-08T08:32:55.816298Z",
     "iopub.status.busy": "2022-02-08T08:32:53.853725Z",
     "iopub.status.idle": "2022-02-08T08:32:56.645042Z",
     "shell.execute_reply": "2022-02-08T08:32:56.643199Z"
    }
   },
   "outputs": [],
   "source": [
    "for st in [\"aa\", \"DNA\", \"Hello world!\", \"SARS-COVID-2\"]\n",
    "\n",
    "    println(OnePiece.extension.string.title(st))\n",
    "\n",
    "end"
   ]
  },
  {
   "cell_type": "markdown",
   "id": "f27cd482-162a-407b-b8c2-0004da45cde6",
   "metadata": {},
   "source": [
    "## replace"
   ]
  },
  {
   "cell_type": "code",
   "execution_count": null,
   "id": "55ad4d9e-e111-49b5-abd4-24d313c04b5f",
   "metadata": {
    "execution": {
     "iopub.execute_input": "2022-02-08T08:32:56.648987Z",
     "iopub.status.busy": "2022-02-08T08:32:56.648156Z",
     "iopub.status.idle": "2022-02-08T08:32:57.336884Z",
     "shell.execute_reply": "2022-02-08T08:32:57.336298Z"
    }
   },
   "outputs": [],
   "source": [
    "OnePiece.extension.string.replace(\n",
    "    \"Sanji, Zoro, and Nami.\",\n",
    "    [\"Sanji\" => \"Usoppu\", \"Zoro\" => \"Chopper\", \"Nami\" => \"Robin\"],\n",
    ")"
   ]
  },
  {
   "cell_type": "markdown",
   "id": "fbd9a52f",
   "metadata": {},
   "source": [
    "## remove_longest_common_prefix"
   ]
  },
  {
   "cell_type": "code",
   "execution_count": null,
   "id": "8e6fd14f",
   "metadata": {
    "execution": {
     "iopub.execute_input": "2022-02-08T08:32:57.339066Z",
     "iopub.status.busy": "2022-02-08T08:32:57.338458Z",
     "iopub.status.idle": "2022-02-08T08:32:57.969245Z",
     "shell.execute_reply": "2022-02-08T08:32:57.968799Z"
    }
   },
   "outputs": [],
   "source": [
    "for st_ in [\n",
    "    [\"\", \"\", \"\"],\n",
    "    [\"kate\"],\n",
    "    [\"kate\", \"katana\"],\n",
    "    [\"kate\", \"kwat\"],\n",
    "    [\"kate\", \"kwat\", \"kazakh\"],\n",
    "    [\"a\", \"ab\", \"abc\"],\n",
    "    [\"abc\", \"ab\", \"a\"],\n",
    "]\n",
    "\n",
    "    println(\"-\"^99)\n",
    "    \n",
    "    println(OnePiece.extension.string.remove_longest_common_prefix(st_))\n",
    "\n",
    "end"
   ]
  },
  {
   "cell_type": "markdown",
   "id": "d187bf50",
   "metadata": {},
   "source": [
    "## transplant"
   ]
  },
  {
   "cell_type": "code",
   "execution_count": null,
   "id": "9f936782",
   "metadata": {
    "execution": {
     "iopub.execute_input": "2022-02-08T08:32:57.971889Z",
     "iopub.status.busy": "2022-02-08T08:32:57.971090Z",
     "iopub.status.idle": "2022-02-08T08:32:58.123153Z",
     "shell.execute_reply": "2022-02-08T08:32:58.122047Z"
    }
   },
   "outputs": [],
   "source": [
    "st1 = \"A--BB--CCC\"\n",
    "\n",
    "st2 = \"a--bb--ccc\"\n",
    "\n",
    "de = \"--\"\n",
    "\n",
    "OnePiece.extension.string.transplant(st1, st2, de, [1, 2, 1])"
   ]
  }
 ],
 "metadata": {
  "@webio": {
   "lastCommId": null,
   "lastKernelId": null
  },
  "kernelspec": {
   "display_name": "Julia 1.7.1",
   "language": "julia",
   "name": "julia-1.7"
  },
  "language_info": {
   "file_extension": ".jl",
   "mimetype": "application/julia",
   "name": "julia",
   "version": "1.7.1"
  }
 },
 "nbformat": 4,
 "nbformat_minor": 5
}
