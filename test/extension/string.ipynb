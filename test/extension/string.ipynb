{
 "cells": [
  {
   "cell_type": "code",
   "execution_count": 1,
   "id": "34e4701e",
   "metadata": {
    "execution": {
     "iopub.execute_input": "2022-02-10T17:16:34.787876Z",
     "iopub.status.busy": "2022-02-10T17:16:34.394185Z",
     "iopub.status.idle": "2022-02-10T17:16:35.656933Z",
     "shell.execute_reply": "2022-02-10T17:16:35.656382Z"
    }
   },
   "outputs": [],
   "source": [
    "using Revise\n",
    "using BenchmarkTools"
   ]
  },
  {
   "cell_type": "code",
   "execution_count": 2,
   "id": "47db0034-3cde-4c8e-b313-a08bb73b0fc8",
   "metadata": {
    "execution": {
     "iopub.execute_input": "2022-02-10T17:16:35.659185Z",
     "iopub.status.busy": "2022-02-10T17:16:35.658692Z",
     "iopub.status.idle": "2022-02-10T17:16:41.039372Z",
     "shell.execute_reply": "2022-02-10T17:16:41.038866Z"
    }
   },
   "outputs": [],
   "source": [
    "using OnePiece"
   ]
  },
  {
   "cell_type": "markdown",
   "id": "a02ed866",
   "metadata": {},
   "source": [
    "## title"
   ]
  },
  {
   "cell_type": "code",
   "execution_count": 3,
   "id": "99fd4194",
   "metadata": {
    "execution": {
     "iopub.execute_input": "2022-02-10T17:16:41.370746Z",
     "iopub.status.busy": "2022-02-10T17:16:41.040877Z",
     "iopub.status.idle": "2022-02-10T17:16:42.432167Z",
     "shell.execute_reply": "2022-02-10T17:16:42.431714Z"
    }
   },
   "outputs": [
    {
     "name": "stdout",
     "output_type": "stream",
     "text": [
      "Aa\n",
      "Dna\n",
      "Hello World!\n",
      "Sars-Covid-2\n"
     ]
    }
   ],
   "source": [
    "for st in [\"aa\", \"DNA\", \"Hello world!\", \"SARS-COVID-2\"]\n",
    "\n",
    "    println(OnePiece.extension.string.title(st))\n",
    "\n",
    "end"
   ]
  },
  {
   "cell_type": "markdown",
   "id": "f27cd482-162a-407b-b8c2-0004da45cde6",
   "metadata": {},
   "source": [
    "## replace"
   ]
  },
  {
   "cell_type": "code",
   "execution_count": 4,
   "id": "55ad4d9e-e111-49b5-abd4-24d313c04b5f",
   "metadata": {
    "execution": {
     "iopub.execute_input": "2022-02-10T17:16:42.434188Z",
     "iopub.status.busy": "2022-02-10T17:16:42.433686Z",
     "iopub.status.idle": "2022-02-10T17:16:43.109918Z",
     "shell.execute_reply": "2022-02-10T17:16:43.109473Z"
    }
   },
   "outputs": [
    {
     "data": {
      "text/plain": [
       "\"Usoppu, Chopper, and Robin.\""
      ]
     },
     "execution_count": 4,
     "metadata": {},
     "output_type": "execute_result"
    }
   ],
   "source": [
    "OnePiece.extension.string.replace(\n",
    "    \"Sanji, Zoro, and Nami.\",\n",
    "    [\"Sanji\" => \"Usoppu\", \"Zoro\" => \"Chopper\", \"Nami\" => \"Robin\"],\n",
    ")"
   ]
  },
  {
   "cell_type": "markdown",
   "id": "fbd9a52f",
   "metadata": {},
   "source": [
    "## remove_longest_common_prefix"
   ]
  },
  {
   "cell_type": "code",
   "execution_count": 5,
   "id": "8e6fd14f",
   "metadata": {
    "execution": {
     "iopub.execute_input": "2022-02-10T17:16:43.112316Z",
     "iopub.status.busy": "2022-02-10T17:16:43.111816Z",
     "iopub.status.idle": "2022-02-10T17:16:43.582692Z",
     "shell.execute_reply": "2022-02-10T17:16:43.582322Z"
    }
   },
   "outputs": [
    {
     "name": "stdout",
     "output_type": "stream",
     "text": [
      "---------------------------------------------------------------------------------------------------\n",
      "nothing\n",
      "---------------------------------------------------------------------------------------------------\n",
      "[\"\"]\n",
      "---------------------------------------------------------------------------------------------------\n",
      "[\"e\", \"ana\"]\n",
      "---------------------------------------------------------------------------------------------------\n",
      "[\"ate\", \"wat\"]\n",
      "---------------------------------------------------------------------------------------------------\n",
      "[\"ate\", \"wat\", \"azakh\"]\n",
      "---------------------------------------------------------------------------------------------------\n",
      "[\"\", \"b\", \"bc\"]\n",
      "---------------------------------------------------------------------------------------------------\n",
      "[\"bc\", \"b\", \"\"]\n"
     ]
    }
   ],
   "source": [
    "for st_ in [\n",
    "    [\"\", \"\", \"\"],\n",
    "    [\"kate\"],\n",
    "    [\"kate\", \"katana\"],\n",
    "    [\"kate\", \"kwat\"],\n",
    "    [\"kate\", \"kwat\", \"kazakh\"],\n",
    "    [\"a\", \"ab\", \"abc\"],\n",
    "    [\"abc\", \"ab\", \"a\"],\n",
    "]\n",
    "\n",
    "    println(\"-\"^99)\n",
    "\n",
    "    println(OnePiece.extension.string.remove_longest_common_prefix(st_))\n",
    "\n",
    "end"
   ]
  },
  {
   "cell_type": "markdown",
   "id": "d187bf50",
   "metadata": {},
   "source": [
    "## transplant"
   ]
  },
  {
   "cell_type": "code",
   "execution_count": 6,
   "id": "9f936782",
   "metadata": {
    "execution": {
     "iopub.execute_input": "2022-02-10T17:16:43.584755Z",
     "iopub.status.busy": "2022-02-10T17:16:43.584207Z",
     "iopub.status.idle": "2022-02-10T17:16:43.669927Z",
     "shell.execute_reply": "2022-02-10T17:16:43.669547Z"
    }
   },
   "outputs": [
    {
     "data": {
      "text/plain": [
       "\"A--bb--CCC\""
      ]
     },
     "execution_count": 6,
     "metadata": {},
     "output_type": "execute_result"
    }
   ],
   "source": [
    "st1 = \"A--BB--CCC\"\n",
    "\n",
    "st2 = \"a--bb--ccc\"\n",
    "\n",
    "de = \"--\"\n",
    "\n",
    "OnePiece.extension.string.transplant(st1, st2, de, [1, 2, 1])"
   ]
  }
 ],
 "metadata": {
  "@webio": {
   "lastCommId": null,
   "lastKernelId": null
  },
  "kernelspec": {
   "display_name": "Julia 1.7.1",
   "language": "julia",
   "name": "julia-1.7"
  },
  "language_info": {
   "file_extension": ".jl",
   "mimetype": "application/julia",
   "name": "julia",
   "version": "1.7.2"
  }
 },
 "nbformat": 4,
 "nbformat_minor": 5
}
