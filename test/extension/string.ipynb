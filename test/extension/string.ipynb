{
 "cells": [
  {
   "cell_type": "code",
   "execution_count": null,
   "id": "34e4701e",
   "metadata": {
    "execution": {
     "iopub.execute_input": "2022-02-09T18:52:15.865792Z",
     "iopub.status.busy": "2022-02-09T18:52:15.442254Z",
     "iopub.status.idle": "2022-02-09T18:52:16.890534Z",
     "shell.execute_reply": "2022-02-09T18:52:16.889948Z"
    }
   },
   "outputs": [],
   "source": [
    "using Revise\n",
    "using BenchmarkTools"
   ]
  },
  {
   "cell_type": "code",
   "execution_count": null,
   "id": "47db0034-3cde-4c8e-b313-a08bb73b0fc8",
   "metadata": {
    "execution": {
     "iopub.execute_input": "2022-02-09T18:52:16.892498Z",
     "iopub.status.busy": "2022-02-09T18:52:16.891912Z",
     "iopub.status.idle": "2022-02-09T18:52:27.926463Z",
     "shell.execute_reply": "2022-02-09T18:52:27.925926Z"
    }
   },
   "outputs": [],
   "source": [
    "using OnePiece"
   ]
  },
  {
   "cell_type": "markdown",
   "id": "a02ed866",
   "metadata": {},
   "source": [
    "## title"
   ]
  },
  {
   "cell_type": "code",
   "execution_count": null,
   "id": "99fd4194",
   "metadata": {
    "execution": {
     "iopub.execute_input": "2022-02-09T18:52:29.637936Z",
     "iopub.status.busy": "2022-02-09T18:52:27.927817Z",
     "iopub.status.idle": "2022-02-09T18:52:30.440563Z",
     "shell.execute_reply": "2022-02-09T18:52:30.439927Z"
    }
   },
   "outputs": [],
   "source": [
    "for st in [\"aa\", \"DNA\", \"Hello world!\", \"SARS-COVID-2\"]\n",
    "\n",
    "    println(OnePiece.extension.string.title(st))\n",
    "\n",
    "end"
   ]
  },
  {
   "cell_type": "markdown",
   "id": "f27cd482-162a-407b-b8c2-0004da45cde6",
   "metadata": {},
   "source": [
    "## replace"
   ]
  },
  {
   "cell_type": "code",
   "execution_count": null,
   "id": "55ad4d9e-e111-49b5-abd4-24d313c04b5f",
   "metadata": {
    "execution": {
     "iopub.execute_input": "2022-02-09T18:52:30.442580Z",
     "iopub.status.busy": "2022-02-09T18:52:30.441946Z",
     "iopub.status.idle": "2022-02-09T18:52:31.065349Z",
     "shell.execute_reply": "2022-02-09T18:52:31.064778Z"
    }
   },
   "outputs": [],
   "source": [
    "OnePiece.extension.string.replace(\n",
    "    \"Sanji, Zoro, and Nami.\",\n",
    "    [\"Sanji\" => \"Usoppu\", \"Zoro\" => \"Chopper\", \"Nami\" => \"Robin\"],\n",
    ")"
   ]
  },
  {
   "cell_type": "markdown",
   "id": "fbd9a52f",
   "metadata": {},
   "source": [
    "## remove_longest_common_prefix"
   ]
  },
  {
   "cell_type": "code",
   "execution_count": null,
   "id": "8e6fd14f",
   "metadata": {
    "execution": {
     "iopub.execute_input": "2022-02-09T18:52:31.067368Z",
     "iopub.status.busy": "2022-02-09T18:52:31.066773Z",
     "iopub.status.idle": "2022-02-09T18:52:31.552166Z",
     "shell.execute_reply": "2022-02-09T18:52:31.551701Z"
    }
   },
   "outputs": [],
   "source": [
    "for st_ in [\n",
    "    [\"\", \"\", \"\"],\n",
    "    [\"kate\"],\n",
    "    [\"kate\", \"katana\"],\n",
    "    [\"kate\", \"kwat\"],\n",
    "    [\"kate\", \"kwat\", \"kazakh\"],\n",
    "    [\"a\", \"ab\", \"abc\"],\n",
    "    [\"abc\", \"ab\", \"a\"],\n",
    "]\n",
    "\n",
    "    println(\"-\"^99)\n",
    "\n",
    "    println(OnePiece.extension.string.remove_longest_common_prefix(st_))\n",
    "\n",
    "end"
   ]
  },
  {
   "cell_type": "markdown",
   "id": "d187bf50",
   "metadata": {},
   "source": [
    "## transplant"
   ]
  },
  {
   "cell_type": "code",
   "execution_count": null,
   "id": "9f936782",
   "metadata": {
    "execution": {
     "iopub.execute_input": "2022-02-09T18:52:31.554292Z",
     "iopub.status.busy": "2022-02-09T18:52:31.553558Z",
     "iopub.status.idle": "2022-02-09T18:52:31.668545Z",
     "shell.execute_reply": "2022-02-09T18:52:31.668052Z"
    }
   },
   "outputs": [],
   "source": [
    "st1 = \"A--BB--CCC\"\n",
    "\n",
    "st2 = \"a--bb--ccc\"\n",
    "\n",
    "de = \"--\"\n",
    "\n",
    "OnePiece.extension.string.transplant(st1, st2, de, [1, 2, 1])"
   ]
  }
 ],
 "metadata": {
  "@webio": {
   "lastCommId": null,
   "lastKernelId": null
  },
  "kernelspec": {
   "display_name": "Julia 1.7.1",
   "language": "julia",
   "name": "julia-1.7"
  },
  "language_info": {
   "file_extension": ".jl",
   "mimetype": "application/julia",
   "name": "julia",
   "version": "1.7.2"
  }
 },
 "nbformat": 4,
 "nbformat_minor": 5
}
