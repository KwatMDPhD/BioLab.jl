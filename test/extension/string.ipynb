{
 "cells": [
  {
   "cell_type": "code",
   "execution_count": 1,
   "id": "017464da",
   "metadata": {
    "execution": {
     "iopub.execute_input": "2022-02-13T23:29:34.957460Z",
     "iopub.status.busy": "2022-02-13T23:29:34.531579Z",
     "iopub.status.idle": "2022-02-13T23:29:35.191341Z",
     "shell.execute_reply": "2022-02-13T23:29:35.190602Z"
    }
   },
   "outputs": [
    {
     "name": "stdout",
     "output_type": "stream",
     "text": [
      "Made /var/folders/mg/30npdf0s1z36txb2qvgylrzh0000gn/T/OnePiece.test.\n"
     ]
    }
   ],
   "source": [
    "TE = joinpath(tempdir(), \"OnePiece.test\")\n",
    "\n",
    "if isdir(TE)\n",
    "\n",
    "    rm(TE, recursive = true)\n",
    "\n",
    "    println(\"Removed \", TE, \".\")\n",
    "\n",
    "end\n",
    "\n",
    "mkdir(TE)\n",
    "\n",
    "println(\"Made \", TE, \".\")"
   ]
  },
  {
   "cell_type": "code",
   "execution_count": 2,
   "id": "34e4701e",
   "metadata": {
    "execution": {
     "iopub.execute_input": "2022-02-13T23:29:35.193768Z",
     "iopub.status.busy": "2022-02-13T23:29:35.193100Z",
     "iopub.status.idle": "2022-02-13T23:29:40.969916Z",
     "shell.execute_reply": "2022-02-13T23:29:40.969440Z"
    }
   },
   "outputs": [],
   "source": [
    "using OnePiece"
   ]
  },
  {
   "cell_type": "markdown",
   "id": "b92a3da9",
   "metadata": {},
   "source": [
    "---"
   ]
  },
  {
   "cell_type": "markdown",
   "id": "a02ed866",
   "metadata": {},
   "source": [
    "## title"
   ]
  },
  {
   "cell_type": "code",
   "execution_count": 3,
   "id": "99fd4194",
   "metadata": {
    "execution": {
     "iopub.execute_input": "2022-02-13T23:29:41.335270Z",
     "iopub.status.busy": "2022-02-13T23:29:40.971529Z",
     "iopub.status.idle": "2022-02-13T23:29:41.419018Z",
     "shell.execute_reply": "2022-02-13T23:29:41.418564Z"
    }
   },
   "outputs": [
    {
     "name": "stdout",
     "output_type": "stream",
     "text": [
      "Aa\n",
      "Dna\n",
      "Hello World!\n",
      "Sars-Covid-2\n"
     ]
    }
   ],
   "source": [
    "for st in [\"aa\", \"DNA\", \"Hello world!\", \"SARS-COVID-2\"]\n",
    "\n",
    "    println(OnePiece.extension.string.title(st))\n",
    "\n",
    "end"
   ]
  },
  {
   "cell_type": "markdown",
   "id": "f27cd482-162a-407b-b8c2-0004da45cde6",
   "metadata": {},
   "source": [
    "## replace"
   ]
  },
  {
   "cell_type": "code",
   "execution_count": 4,
   "id": "55ad4d9e-e111-49b5-abd4-24d313c04b5f",
   "metadata": {
    "execution": {
     "iopub.execute_input": "2022-02-13T23:29:41.422238Z",
     "iopub.status.busy": "2022-02-13T23:29:41.421415Z",
     "iopub.status.idle": "2022-02-13T23:29:42.229398Z",
     "shell.execute_reply": "2022-02-13T23:29:42.228932Z"
    }
   },
   "outputs": [
    {
     "data": {
      "text/plain": [
       "\"Usoppu, Chopper, and Robin.\""
      ]
     },
     "execution_count": 4,
     "metadata": {},
     "output_type": "execute_result"
    }
   ],
   "source": [
    "OnePiece.extension.string.replace(\n",
    "    \"Sanji, Zoro, and Nami.\",\n",
    "    [\"Sanji\" => \"Usoppu\", \"Zoro\" => \"Chopper\", \"Nami\" => \"Robin\"],\n",
    ")"
   ]
  },
  {
   "cell_type": "markdown",
   "id": "fbd9a52f",
   "metadata": {},
   "source": [
    "## remove_longest_common_prefix"
   ]
  },
  {
   "cell_type": "code",
   "execution_count": 5,
   "id": "8e6fd14f",
   "metadata": {
    "execution": {
     "iopub.execute_input": "2022-02-13T23:29:42.231409Z",
     "iopub.status.busy": "2022-02-13T23:29:42.230750Z",
     "iopub.status.idle": "2022-02-13T23:29:42.722427Z",
     "shell.execute_reply": "2022-02-13T23:29:42.721874Z"
    }
   },
   "outputs": [
    {
     "name": "stdout",
     "output_type": "stream",
     "text": [
      "---------------------------------------------------------------------------------------------------\n",
      "nothing\n",
      "---------------------------------------------------------------------------------------------------\n",
      "[\"\"]\n",
      "---------------------------------------------------------------------------------------------------\n",
      "[\"e\", \"ana\"]\n",
      "---------------------------------------------------------------------------------------------------\n",
      "[\"ate\", \"wat\"]\n",
      "---------------------------------------------------------------------------------------------------\n",
      "[\"ate\", \"wat\", \"azakh\"]\n",
      "---------------------------------------------------------------------------------------------------\n",
      "[\"\", \"b\", \"bc\"]\n",
      "---------------------------------------------------------------------------------------------------\n",
      "[\"bc\", \"b\", \"\"]\n"
     ]
    }
   ],
   "source": [
    "for st_ in [\n",
    "    [\"\", \"\", \"\"],\n",
    "    [\"kate\"],\n",
    "    [\"kate\", \"katana\"],\n",
    "    [\"kate\", \"kwat\"],\n",
    "    [\"kate\", \"kwat\", \"kazakh\"],\n",
    "    [\"a\", \"ab\", \"abc\"],\n",
    "    [\"abc\", \"ab\", \"a\"],\n",
    "]\n",
    "\n",
    "    println(\"-\"^99)\n",
    "\n",
    "    println(OnePiece.extension.string.remove_longest_common_prefix(st_))\n",
    "\n",
    "end"
   ]
  },
  {
   "cell_type": "markdown",
   "id": "d187bf50",
   "metadata": {},
   "source": [
    "## transplant"
   ]
  },
  {
   "cell_type": "code",
   "execution_count": 6,
   "id": "9f936782",
   "metadata": {
    "execution": {
     "iopub.execute_input": "2022-02-13T23:29:42.724575Z",
     "iopub.status.busy": "2022-02-13T23:29:42.723975Z",
     "iopub.status.idle": "2022-02-13T23:29:42.828633Z",
     "shell.execute_reply": "2022-02-13T23:29:42.828170Z"
    }
   },
   "outputs": [
    {
     "data": {
      "text/plain": [
       "\"A--bb--CCC\""
      ]
     },
     "execution_count": 6,
     "metadata": {},
     "output_type": "execute_result"
    }
   ],
   "source": [
    "st1 = \"A--BB--CCC\"\n",
    "\n",
    "st2 = \"a--bb--ccc\"\n",
    "\n",
    "de = \"--\"\n",
    "\n",
    "OnePiece.extension.string.transplant(st1, st2, de, [1, 2, 1])"
   ]
  },
  {
   "cell_type": "markdown",
   "id": "3f396855",
   "metadata": {},
   "source": [
    "---"
   ]
  },
  {
   "cell_type": "code",
   "execution_count": 7,
   "id": "b4af2023",
   "metadata": {
    "execution": {
     "iopub.execute_input": "2022-02-13T23:29:42.830693Z",
     "iopub.status.busy": "2022-02-13T23:29:42.830105Z",
     "iopub.status.idle": "2022-02-13T23:29:42.832682Z",
     "shell.execute_reply": "2022-02-13T23:29:42.832218Z"
    }
   },
   "outputs": [
    {
     "name": "stdout",
     "output_type": "stream",
     "text": [
      "Removed /var/folders/mg/30npdf0s1z36txb2qvgylrzh0000gn/T/OnePiece.test.\n"
     ]
    }
   ],
   "source": [
    "if isdir(TE)\n",
    "\n",
    "    rm(TE, recursive = true)\n",
    "\n",
    "    println(\"Removed \", TE, \".\")\n",
    "\n",
    "end"
   ]
  }
 ],
 "metadata": {
  "kernelspec": {
   "display_name": "Julia 1.7.2",
   "language": "julia",
   "name": "julia-1.7"
  },
  "language_info": {
   "file_extension": ".jl",
   "mimetype": "application/julia",
   "name": "julia",
   "version": "1.7.2"
  }
 },
 "nbformat": 4,
 "nbformat_minor": 5
}
