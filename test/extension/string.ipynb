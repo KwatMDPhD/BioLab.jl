{
 "cells": [
  {
   "cell_type": "code",
   "execution_count": null,
   "id": "017464da",
   "metadata": {
    "execution": {
     "iopub.execute_input": "2022-02-14T02:52:52.709907Z",
     "iopub.status.busy": "2022-02-14T02:52:52.289574Z",
     "iopub.status.idle": "2022-02-14T02:52:52.939460Z",
     "shell.execute_reply": "2022-02-14T02:52:52.938824Z"
    }
   },
   "outputs": [],
   "source": [
    "TE = joinpath(tempdir(), \"OnePiece.test\")\n",
    "\n",
    "if isdir(TE)\n",
    "\n",
    "    rm(TE, recursive = true)\n",
    "\n",
    "    println(\"Removed \", TE, \".\")\n",
    "\n",
    "end\n",
    "\n",
    "mkdir(TE)\n",
    "\n",
    "println(\"Made \", TE, \".\")"
   ]
  },
  {
   "cell_type": "code",
   "execution_count": null,
   "id": "34e4701e",
   "metadata": {
    "execution": {
     "iopub.execute_input": "2022-02-14T02:52:52.941517Z",
     "iopub.status.busy": "2022-02-14T02:52:52.940904Z",
     "iopub.status.idle": "2022-02-14T02:52:57.869049Z",
     "shell.execute_reply": "2022-02-14T02:52:57.868501Z"
    }
   },
   "outputs": [],
   "source": [
    "using OnePiece"
   ]
  },
  {
   "cell_type": "markdown",
   "id": "b92a3da9",
   "metadata": {},
   "source": [
    "---"
   ]
  },
  {
   "cell_type": "markdown",
   "id": "a02ed866",
   "metadata": {},
   "source": [
    "## title"
   ]
  },
  {
   "cell_type": "code",
   "execution_count": null,
   "id": "99fd4194",
   "metadata": {
    "execution": {
     "iopub.execute_input": "2022-02-14T02:52:58.246437Z",
     "iopub.status.busy": "2022-02-14T02:52:57.870586Z",
     "iopub.status.idle": "2022-02-14T02:52:58.330925Z",
     "shell.execute_reply": "2022-02-14T02:52:58.330371Z"
    }
   },
   "outputs": [],
   "source": [
    "for st in [\"aa\", \"DNA\", \"Hello world!\", \"SARS-COVID-2\"]\n",
    "\n",
    "    println(OnePiece.extension.string.title(st))\n",
    "\n",
    "end"
   ]
  },
  {
   "cell_type": "markdown",
   "id": "f27cd482-162a-407b-b8c2-0004da45cde6",
   "metadata": {},
   "source": [
    "## replace"
   ]
  },
  {
   "cell_type": "code",
   "execution_count": null,
   "id": "55ad4d9e-e111-49b5-abd4-24d313c04b5f",
   "metadata": {
    "execution": {
     "iopub.execute_input": "2022-02-14T02:52:58.333092Z",
     "iopub.status.busy": "2022-02-14T02:52:58.332470Z",
     "iopub.status.idle": "2022-02-14T02:52:59.069759Z",
     "shell.execute_reply": "2022-02-14T02:52:59.069274Z"
    }
   },
   "outputs": [],
   "source": [
    "OnePiece.extension.string.replace(\n",
    "    \"Sanji, Zoro, and Nami.\",\n",
    "    [\"Sanji\" => \"Usoppu\", \"Zoro\" => \"Chopper\", \"Nami\" => \"Robin\"],\n",
    ")"
   ]
  },
  {
   "cell_type": "markdown",
   "id": "fbd9a52f",
   "metadata": {},
   "source": [
    "## remove_longest_common_prefix"
   ]
  },
  {
   "cell_type": "code",
   "execution_count": null,
   "id": "8e6fd14f",
   "metadata": {
    "execution": {
     "iopub.execute_input": "2022-02-14T02:52:59.071861Z",
     "iopub.status.busy": "2022-02-14T02:52:59.071231Z",
     "iopub.status.idle": "2022-02-14T02:52:59.530418Z",
     "shell.execute_reply": "2022-02-14T02:52:59.529964Z"
    }
   },
   "outputs": [],
   "source": [
    "for st_ in [\n",
    "    [\"\", \"\", \"\"],\n",
    "    [\"kate\"],\n",
    "    [\"kate\", \"katana\"],\n",
    "    [\"kate\", \"kwat\"],\n",
    "    [\"kate\", \"kwat\", \"kazakh\"],\n",
    "    [\"a\", \"ab\", \"abc\"],\n",
    "    [\"abc\", \"ab\", \"a\"],\n",
    "]\n",
    "\n",
    "    println(\"-\"^99)\n",
    "\n",
    "    println(OnePiece.extension.string.remove_longest_common_prefix(st_))\n",
    "\n",
    "end"
   ]
  },
  {
   "cell_type": "markdown",
   "id": "d187bf50",
   "metadata": {},
   "source": [
    "## transplant"
   ]
  },
  {
   "cell_type": "code",
   "execution_count": null,
   "id": "9f936782",
   "metadata": {
    "execution": {
     "iopub.execute_input": "2022-02-14T02:52:59.532515Z",
     "iopub.status.busy": "2022-02-14T02:52:59.531896Z",
     "iopub.status.idle": "2022-02-14T02:52:59.634316Z",
     "shell.execute_reply": "2022-02-14T02:52:59.633827Z"
    }
   },
   "outputs": [],
   "source": [
    "st1 = \"A--BB--CCC\"\n",
    "\n",
    "st2 = \"a--bb--ccc\"\n",
    "\n",
    "de = \"--\"\n",
    "\n",
    "OnePiece.extension.string.transplant(st1, st2, de, [1, 2, 1])"
   ]
  },
  {
   "cell_type": "markdown",
   "id": "3f396855",
   "metadata": {},
   "source": [
    "---"
   ]
  },
  {
   "cell_type": "code",
   "execution_count": null,
   "id": "b4af2023",
   "metadata": {
    "execution": {
     "iopub.execute_input": "2022-02-14T02:52:59.636385Z",
     "iopub.status.busy": "2022-02-14T02:52:59.635777Z",
     "iopub.status.idle": "2022-02-14T02:52:59.638381Z",
     "shell.execute_reply": "2022-02-14T02:52:59.637910Z"
    }
   },
   "outputs": [],
   "source": [
    "if isdir(TE)\n",
    "\n",
    "    rm(TE, recursive = true)\n",
    "\n",
    "    println(\"Removed \", TE, \".\")\n",
    "\n",
    "end"
   ]
  }
 ],
 "metadata": {
  "kernelspec": {
   "display_name": "Julia 1.7.2",
   "language": "julia",
   "name": "julia-1.7"
  },
  "language_info": {
   "file_extension": ".jl",
   "mimetype": "application/julia",
   "name": "julia",
   "version": "1.7.2"
  }
 },
 "nbformat": 4,
 "nbformat_minor": 5
}
