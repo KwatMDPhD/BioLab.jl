{
 "cells": [
  {
   "cell_type": "code",
   "execution_count": null,
   "id": "017464da",
   "metadata": {
    "execution": {
     "iopub.execute_input": "2022-02-13T22:23:22.073507Z",
     "iopub.status.busy": "2022-02-13T22:23:21.712458Z",
     "iopub.status.idle": "2022-02-13T22:23:22.274353Z",
     "shell.execute_reply": "2022-02-13T22:23:22.273848Z"
    }
   },
   "outputs": [],
   "source": [
    "TE = joinpath(tempdir(), \"OnePiece.test\")\n",
    "\n",
    "if isdir(TE)\n",
    "\n",
    "    rm(TE, recursive = true)\n",
    "\n",
    "    println(\"Removed \", TE, \".\")\n",
    "\n",
    "end\n",
    "\n",
    "mkdir(TE)\n",
    "\n",
    "println(\"Made \", TE, \".\")"
   ]
  },
  {
   "cell_type": "code",
   "execution_count": null,
   "id": "34e4701e",
   "metadata": {
    "execution": {
     "iopub.execute_input": "2022-02-13T22:23:22.276319Z",
     "iopub.status.busy": "2022-02-13T22:23:22.275803Z",
     "iopub.status.idle": "2022-02-13T22:23:26.706617Z",
     "shell.execute_reply": "2022-02-13T22:23:26.706226Z"
    }
   },
   "outputs": [],
   "source": [
    "using OnePiece"
   ]
  },
  {
   "cell_type": "markdown",
   "id": "b92a3da9",
   "metadata": {},
   "source": [
    "---"
   ]
  },
  {
   "cell_type": "markdown",
   "id": "39171df7",
   "metadata": {},
   "source": [
    "## map_to_column"
   ]
  },
  {
   "cell_type": "code",
   "execution_count": null,
   "id": "f7c38fc6",
   "metadata": {
    "execution": {
     "iopub.execute_input": "2022-02-13T22:23:27.063055Z",
     "iopub.status.busy": "2022-02-13T22:23:26.707981Z",
     "iopub.status.idle": "2022-02-13T22:23:27.113372Z",
     "shell.execute_reply": "2022-02-13T22:23:27.112981Z"
    }
   },
   "outputs": [],
   "source": [
    "using DataFrames"
   ]
  },
  {
   "cell_type": "code",
   "execution_count": null,
   "id": "d863048a",
   "metadata": {
    "execution": {
     "iopub.execute_input": "2022-02-13T22:23:27.115713Z",
     "iopub.status.busy": "2022-02-13T22:23:27.114737Z",
     "iopub.status.idle": "2022-02-13T22:23:30.569985Z",
     "shell.execute_reply": "2022-02-13T22:23:30.569590Z"
    }
   },
   "outputs": [],
   "source": [
    "da = DataFrame(\n",
    "    \"Column 1\" => [\"hi\", \"hello\", \"howdy\"],\n",
    "    \"Column 2\" => [\"X\", \"Y\", \"Z\"],\n",
    "    \"Column 3\" => [\"luffy\", \"black jack\", \"oden\"],\n",
    ")"
   ]
  },
  {
   "cell_type": "code",
   "execution_count": null,
   "id": "d1492404",
   "metadata": {
    "execution": {
     "iopub.execute_input": "2022-02-13T22:23:30.572205Z",
     "iopub.status.busy": "2022-02-13T22:23:30.571456Z",
     "iopub.status.idle": "2022-02-13T22:23:30.573084Z",
     "shell.execute_reply": "2022-02-13T22:23:30.572697Z"
    }
   },
   "outputs": [],
   "source": [
    "using JSON"
   ]
  },
  {
   "cell_type": "code",
   "execution_count": null,
   "id": "1db03a1e",
   "metadata": {
    "execution": {
     "iopub.execute_input": "2022-02-13T22:23:30.574881Z",
     "iopub.status.busy": "2022-02-13T22:23:30.574387Z",
     "iopub.status.idle": "2022-02-13T22:23:31.414803Z",
     "shell.execute_reply": "2022-02-13T22:23:31.414437Z"
    }
   },
   "outputs": [],
   "source": [
    "JSON.print(OnePiece.extension.dataframe.map_to_column(da, [\"Column 1\", \"Column 3\", \"Column 2\"]), 2)"
   ]
  },
  {
   "cell_type": "code",
   "execution_count": null,
   "id": "51a921d7",
   "metadata": {
    "execution": {
     "iopub.execute_input": "2022-02-13T22:23:31.416881Z",
     "iopub.status.busy": "2022-02-13T22:23:31.416321Z",
     "iopub.status.idle": "2022-02-13T22:23:31.420592Z",
     "shell.execute_reply": "2022-02-13T22:23:31.420236Z"
    }
   },
   "outputs": [],
   "source": [
    "JSON.print(OnePiece.extension.dataframe.map_to_column(da, [\"Column 3\", \"Column 2\"]), 3)"
   ]
  },
  {
   "cell_type": "markdown",
   "id": "3f396855",
   "metadata": {},
   "source": [
    "---"
   ]
  },
  {
   "cell_type": "code",
   "execution_count": null,
   "id": "b4af2023",
   "metadata": {
    "execution": {
     "iopub.execute_input": "2022-02-13T22:23:31.422658Z",
     "iopub.status.busy": "2022-02-13T22:23:31.422042Z",
     "iopub.status.idle": "2022-02-13T22:23:31.424556Z",
     "shell.execute_reply": "2022-02-13T22:23:31.424162Z"
    }
   },
   "outputs": [],
   "source": [
    "if isdir(TE)\n",
    "\n",
    "    rm(TE, recursive = true)\n",
    "\n",
    "    println(\"Removed \", TE, \".\")\n",
    "\n",
    "end"
   ]
  }
 ],
 "metadata": {
  "kernelspec": {
   "display_name": "Julia 1.7.2",
   "language": "julia",
   "name": "julia-1.7"
  },
  "language_info": {
   "file_extension": ".jl",
   "mimetype": "application/julia",
   "name": "julia",
   "version": "1.7.2"
  }
 },
 "nbformat": 4,
 "nbformat_minor": 5
}
