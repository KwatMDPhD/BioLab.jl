{
 "cells": [
  {
   "cell_type": "code",
   "execution_count": null,
   "id": "017464da",
   "metadata": {
    "execution": {
     "iopub.execute_input": "2022-02-14T16:46:47.398301Z",
     "iopub.status.busy": "2022-02-14T16:46:47.004217Z",
     "iopub.status.idle": "2022-02-14T16:46:47.616144Z",
     "shell.execute_reply": "2022-02-14T16:46:47.615505Z"
    }
   },
   "outputs": [],
   "source": [
    "TE = joinpath(tempdir(), \"OnePiece.test\")\n",
    "\n",
    "if isdir(TE)\n",
    "\n",
    "    rm(TE, recursive = true)\n",
    "\n",
    "    println(\"Removed \", TE, \".\")\n",
    "\n",
    "end\n",
    "\n",
    "mkdir(TE)\n",
    "\n",
    "println(\"Made \", TE, \".\")"
   ]
  },
  {
   "cell_type": "code",
   "execution_count": null,
   "id": "34e4701e",
   "metadata": {
    "execution": {
     "iopub.execute_input": "2022-02-14T16:46:47.618280Z",
     "iopub.status.busy": "2022-02-14T16:46:47.617674Z",
     "iopub.status.idle": "2022-02-14T16:46:52.370773Z",
     "shell.execute_reply": "2022-02-14T16:46:52.370175Z"
    }
   },
   "outputs": [],
   "source": [
    "using OnePiece"
   ]
  },
  {
   "cell_type": "markdown",
   "id": "b92a3da9",
   "metadata": {},
   "source": [
    "---"
   ]
  },
  {
   "cell_type": "markdown",
   "id": "39171df7",
   "metadata": {},
   "source": [
    "## map_to_column"
   ]
  },
  {
   "cell_type": "code",
   "execution_count": null,
   "id": "f7c38fc6",
   "metadata": {
    "execution": {
     "iopub.execute_input": "2022-02-14T16:46:52.739030Z",
     "iopub.status.busy": "2022-02-14T16:46:52.372166Z",
     "iopub.status.idle": "2022-02-14T16:46:52.791925Z",
     "shell.execute_reply": "2022-02-14T16:46:52.791481Z"
    }
   },
   "outputs": [],
   "source": [
    "using DataFrames"
   ]
  },
  {
   "cell_type": "code",
   "execution_count": null,
   "id": "d863048a",
   "metadata": {
    "execution": {
     "iopub.execute_input": "2022-02-14T16:46:52.793816Z",
     "iopub.status.busy": "2022-02-14T16:46:52.793234Z",
     "iopub.status.idle": "2022-02-14T16:46:56.521743Z",
     "shell.execute_reply": "2022-02-14T16:46:56.521282Z"
    }
   },
   "outputs": [],
   "source": [
    "da = DataFrame(\n",
    "    \"Column 1\" => [\"hi\", \"hello\", \"howdy\"],\n",
    "    \"Column 2\" => [\"X\", \"Y\", \"Z\"],\n",
    "    \"Column 3\" => [\"luffy\", \"black jack\", \"oden\"],\n",
    ")"
   ]
  },
  {
   "cell_type": "code",
   "execution_count": null,
   "id": "d1492404",
   "metadata": {
    "execution": {
     "iopub.execute_input": "2022-02-14T16:46:56.523774Z",
     "iopub.status.busy": "2022-02-14T16:46:56.523047Z",
     "iopub.status.idle": "2022-02-14T16:46:56.524751Z",
     "shell.execute_reply": "2022-02-14T16:46:56.524306Z"
    }
   },
   "outputs": [],
   "source": [
    "using JSON"
   ]
  },
  {
   "cell_type": "code",
   "execution_count": null,
   "id": "1db03a1e",
   "metadata": {
    "execution": {
     "iopub.execute_input": "2022-02-14T16:46:56.526663Z",
     "iopub.status.busy": "2022-02-14T16:46:56.526083Z",
     "iopub.status.idle": "2022-02-14T16:46:57.436813Z",
     "shell.execute_reply": "2022-02-14T16:46:57.436383Z"
    }
   },
   "outputs": [],
   "source": [
    "JSON.print(OnePiece.extension.dataframe.map_to_column(da, [\"Column 1\", \"Column 3\", \"Column 2\"]), 2)"
   ]
  },
  {
   "cell_type": "code",
   "execution_count": null,
   "id": "51a921d7",
   "metadata": {
    "execution": {
     "iopub.execute_input": "2022-02-14T16:46:57.438836Z",
     "iopub.status.busy": "2022-02-14T16:46:57.438258Z",
     "iopub.status.idle": "2022-02-14T16:46:57.443170Z",
     "shell.execute_reply": "2022-02-14T16:46:57.442663Z"
    }
   },
   "outputs": [],
   "source": [
    "JSON.print(OnePiece.extension.dataframe.map_to_column(da, [\"Column 3\", \"Column 2\"]), 3)"
   ]
  },
  {
   "cell_type": "markdown",
   "id": "3f396855",
   "metadata": {},
   "source": [
    "---"
   ]
  },
  {
   "cell_type": "code",
   "execution_count": null,
   "id": "b4af2023",
   "metadata": {
    "execution": {
     "iopub.execute_input": "2022-02-14T16:46:57.445453Z",
     "iopub.status.busy": "2022-02-14T16:46:57.444877Z",
     "iopub.status.idle": "2022-02-14T16:46:57.447268Z",
     "shell.execute_reply": "2022-02-14T16:46:57.446820Z"
    }
   },
   "outputs": [],
   "source": [
    "if isdir(TE)\n",
    "\n",
    "    rm(TE, recursive = true)\n",
    "\n",
    "    println(\"Removed \", TE, \".\")\n",
    "\n",
    "end"
   ]
  }
 ],
 "metadata": {
  "kernelspec": {
   "display_name": "Julia 1.7.2",
   "language": "julia",
   "name": "julia-1.7"
  },
  "language_info": {
   "file_extension": ".jl",
   "mimetype": "application/julia",
   "name": "julia",
   "version": "1.7.2"
  }
 },
 "nbformat": 4,
 "nbformat_minor": 5
}
