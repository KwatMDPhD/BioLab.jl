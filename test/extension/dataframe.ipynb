{
 "cells": [
  {
   "cell_type": "code",
   "execution_count": null,
   "id": "017464da",
   "metadata": {},
   "outputs": [],
   "source": [
    "TE = joinpath(tempdir(), \"OnePiece.test\")\n",
    "\n",
    "if isdir(TE)\n",
    "\n",
    "    rm(TE, recursive = true)\n",
    "\n",
    "    println(\"Removed \", TE, \".\")\n",
    "\n",
    "end\n",
    "\n",
    "mkdir(TE)\n",
    "\n",
    "println(\"Made \", TE, \".\")"
   ]
  },
  {
   "cell_type": "code",
   "execution_count": null,
   "id": "34e4701e",
   "metadata": {
    "execution": {
     "iopub.execute_input": "2022-02-10T17:51:23.590384Z",
     "iopub.status.busy": "2022-02-10T17:51:23.250154Z",
     "iopub.status.idle": "2022-02-10T17:51:24.482021Z",
     "shell.execute_reply": "2022-02-10T17:51:24.481306Z"
    }
   },
   "outputs": [],
   "source": [
    "using OnePiece"
   ]
  },
  {
   "cell_type": "markdown",
   "id": "b92a3da9",
   "metadata": {},
   "source": [
    "---"
   ]
  },
  {
   "cell_type": "markdown",
   "id": "39171df7",
   "metadata": {},
   "source": [
    "## map_to_column"
   ]
  },
  {
   "cell_type": "code",
   "execution_count": null,
   "id": "f7c38fc6",
   "metadata": {
    "execution": {
     "iopub.execute_input": "2022-02-13T23:11:09.434526Z",
     "iopub.status.busy": "2022-02-13T23:11:09.102524Z",
     "iopub.status.idle": "2022-02-13T23:11:09.481825Z",
     "shell.execute_reply": "2022-02-13T23:11:09.481331Z"
    }
   },
   "outputs": [],
   "source": [
    "using DataFrames"
   ]
  },
  {
   "cell_type": "code",
   "execution_count": null,
   "id": "d863048a",
   "metadata": {
    "execution": {
     "iopub.execute_input": "2022-02-13T23:11:09.484053Z",
     "iopub.status.busy": "2022-02-13T23:11:09.483496Z",
     "iopub.status.idle": "2022-02-13T23:11:12.878586Z",
     "shell.execute_reply": "2022-02-13T23:11:12.878175Z"
    }
   },
   "outputs": [],
   "source": [
    "da = DataFrame(\n",
    "    \"Column 1\" => [\"hi\", \"hello\", \"howdy\"],\n",
    "    \"Column 2\" => [\"X\", \"Y\", \"Z\"],\n",
    "    \"Column 3\" => [\"luffy\", \"black jack\", \"oden\"],\n",
    ")"
   ]
  },
  {
   "cell_type": "code",
   "execution_count": null,
   "id": "d1492404",
   "metadata": {
    "execution": {
     "iopub.execute_input": "2022-02-13T23:11:12.880943Z",
     "iopub.status.busy": "2022-02-13T23:11:12.880068Z",
     "iopub.status.idle": "2022-02-13T23:11:12.881972Z",
     "shell.execute_reply": "2022-02-13T23:11:12.881398Z"
    }
   },
   "outputs": [],
   "source": [
    "using JSON"
   ]
  },
  {
   "cell_type": "code",
   "execution_count": null,
   "id": "1db03a1e",
   "metadata": {
    "execution": {
     "iopub.execute_input": "2022-02-13T23:11:12.883940Z",
     "iopub.status.busy": "2022-02-13T23:11:12.883317Z",
     "iopub.status.idle": "2022-02-13T23:11:13.724532Z",
     "shell.execute_reply": "2022-02-13T23:11:13.724008Z"
    }
   },
   "outputs": [],
   "source": [
    "JSON.print(OnePiece.extension.dataframe.map_to_column(da, [\"Column 1\", \"Column 3\", \"Column 2\"]), 2)"
   ]
  },
  {
   "cell_type": "code",
   "execution_count": null,
   "id": "51a921d7",
   "metadata": {
    "execution": {
     "iopub.execute_input": "2022-02-13T23:11:13.726460Z",
     "iopub.status.busy": "2022-02-13T23:11:13.725951Z",
     "iopub.status.idle": "2022-02-13T23:11:13.729985Z",
     "shell.execute_reply": "2022-02-13T23:11:13.729639Z"
    }
   },
   "outputs": [],
   "source": [
    "JSON.print(OnePiece.extension.dataframe.map_to_column(da, [\"Column 3\", \"Column 2\"]), 3)"
   ]
  },
  {
   "cell_type": "markdown",
   "id": "3f396855",
   "metadata": {},
   "source": [
    "---"
   ]
  },
  {
   "cell_type": "code",
   "execution_count": null,
   "id": "b4af2023",
   "metadata": {},
   "outputs": [],
   "source": [
    "if isdir(TE)\n",
    "\n",
    "    rm(TE, recursive = true)\n",
    "\n",
    "    println(\"Removed \", TE, \".\")\n",
    "\n",
    "end"
   ]
  }
 ],
 "metadata": {
  "kernelspec": {
   "display_name": "Julia 1.7.2",
   "language": "julia",
   "name": "julia-1.7"
  },
  "language_info": {
   "file_extension": ".jl",
   "mimetype": "application/julia",
   "name": "julia",
   "version": "1.7.2"
  }
 },
 "nbformat": 4,
 "nbformat_minor": 5
}
