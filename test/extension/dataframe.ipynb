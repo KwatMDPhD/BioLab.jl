{
 "cells": [
  {
   "cell_type": "code",
   "execution_count": null,
   "id": "017464da",
   "metadata": {
    "execution": {
     "iopub.execute_input": "2022-02-11T19:57:44.012476Z",
     "iopub.status.busy": "2022-02-11T19:57:43.621339Z",
     "iopub.status.idle": "2022-02-11T19:57:44.227177Z",
     "shell.execute_reply": "2022-02-11T19:57:44.226609Z"
    }
   },
   "outputs": [],
   "source": [
    "TE = joinpath(tempdir(), \"OnePiece.test\")\n",
    "\n",
    "if isdir(TE)\n",
    "\n",
    "    rm(TE, recursive = true)\n",
    "\n",
    "    println(\"Removed \", TE, \".\")\n",
    "\n",
    "end\n",
    "\n",
    "mkdir(TE)\n",
    "\n",
    "println(\"Made \", TE, \".\")"
   ]
  },
  {
   "cell_type": "code",
   "execution_count": null,
   "id": "34e4701e",
   "metadata": {
    "execution": {
     "iopub.execute_input": "2022-02-11T19:57:44.229231Z",
     "iopub.status.busy": "2022-02-11T19:57:44.228642Z",
     "iopub.status.idle": "2022-02-11T19:57:48.883827Z",
     "shell.execute_reply": "2022-02-11T19:57:48.883230Z"
    }
   },
   "outputs": [],
   "source": [
    "using OnePiece"
   ]
  },
  {
   "cell_type": "markdown",
   "id": "b92a3da9",
   "metadata": {},
   "source": [
    "---"
   ]
  },
  {
   "cell_type": "markdown",
   "id": "39171df7",
   "metadata": {},
   "source": [
    "## map_to_column"
   ]
  },
  {
   "cell_type": "code",
   "execution_count": null,
   "id": "f7c38fc6",
   "metadata": {
    "execution": {
     "iopub.execute_input": "2022-02-11T19:57:49.243685Z",
     "iopub.status.busy": "2022-02-11T19:57:48.885264Z",
     "iopub.status.idle": "2022-02-11T19:57:49.296441Z",
     "shell.execute_reply": "2022-02-11T19:57:49.295920Z"
    }
   },
   "outputs": [],
   "source": [
    "using DataFrames"
   ]
  },
  {
   "cell_type": "code",
   "execution_count": null,
   "id": "d863048a",
   "metadata": {
    "execution": {
     "iopub.execute_input": "2022-02-11T19:57:49.298404Z",
     "iopub.status.busy": "2022-02-11T19:57:49.297827Z",
     "iopub.status.idle": "2022-02-11T19:57:53.137776Z",
     "shell.execute_reply": "2022-02-11T19:57:53.137222Z"
    }
   },
   "outputs": [],
   "source": [
    "da = DataFrame(\n",
    "    \"Column 1\" => [\"hi\", \"hello\", \"howdy\"],\n",
    "    \"Column 2\" => [\"X\", \"Y\", \"Z\"],\n",
    "    \"Column 3\" => [\"luffy\", \"black jack\", \"oden\"],\n",
    ")"
   ]
  },
  {
   "cell_type": "code",
   "execution_count": null,
   "id": "d1492404",
   "metadata": {
    "execution": {
     "iopub.execute_input": "2022-02-11T19:57:53.140227Z",
     "iopub.status.busy": "2022-02-11T19:57:53.139347Z",
     "iopub.status.idle": "2022-02-11T19:57:53.141528Z",
     "shell.execute_reply": "2022-02-11T19:57:53.140953Z"
    }
   },
   "outputs": [],
   "source": [
    "using JSON"
   ]
  },
  {
   "cell_type": "code",
   "execution_count": null,
   "id": "1db03a1e",
   "metadata": {
    "execution": {
     "iopub.execute_input": "2022-02-11T19:57:53.143952Z",
     "iopub.status.busy": "2022-02-11T19:57:53.143185Z",
     "iopub.status.idle": "2022-02-11T19:57:54.162358Z",
     "shell.execute_reply": "2022-02-11T19:57:54.161939Z"
    }
   },
   "outputs": [],
   "source": [
    "JSON.print(OnePiece.extension.dataframe.map_to_column(da, [\"Column 1\", \"Column 3\", \"Column 2\"]), 2)"
   ]
  },
  {
   "cell_type": "code",
   "execution_count": null,
   "id": "51a921d7",
   "metadata": {
    "execution": {
     "iopub.execute_input": "2022-02-11T19:57:54.164468Z",
     "iopub.status.busy": "2022-02-11T19:57:54.163816Z",
     "iopub.status.idle": "2022-02-11T19:57:54.168409Z",
     "shell.execute_reply": "2022-02-11T19:57:54.167985Z"
    }
   },
   "outputs": [],
   "source": [
    "JSON.print(OnePiece.extension.dataframe.map_to_column(da, [\"Column 3\", \"Column 2\"]), 3)"
   ]
  },
  {
   "cell_type": "markdown",
   "id": "3f396855",
   "metadata": {},
   "source": [
    "---"
   ]
  },
  {
   "cell_type": "code",
   "execution_count": null,
   "id": "b4af2023",
   "metadata": {
    "execution": {
     "iopub.execute_input": "2022-02-11T19:57:54.170400Z",
     "iopub.status.busy": "2022-02-11T19:57:54.169818Z",
     "iopub.status.idle": "2022-02-11T19:57:54.172239Z",
     "shell.execute_reply": "2022-02-11T19:57:54.171782Z"
    }
   },
   "outputs": [],
   "source": [
    "if isdir(TE)\n",
    "\n",
    "    rm(TE, recursive = true)\n",
    "\n",
    "    println(\"Removed \", TE, \".\")\n",
    "\n",
    "end"
   ]
  }
 ],
 "metadata": {
  "kernelspec": {
   "display_name": "Julia 1.7.2",
   "language": "julia",
   "name": "julia-1.7"
  },
  "language_info": {
   "file_extension": ".jl",
   "mimetype": "application/julia",
   "name": "julia",
   "version": "1.7.2"
  }
 },
 "nbformat": 4,
 "nbformat_minor": 5
}
