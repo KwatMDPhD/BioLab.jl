{
 "cells": [
  {
   "cell_type": "code",
   "execution_count": null,
   "id": "017464da",
   "metadata": {
    "execution": {
     "iopub.execute_input": "2022-02-14T15:18:13.872271Z",
     "iopub.status.busy": "2022-02-14T15:18:13.537962Z",
     "iopub.status.idle": "2022-02-14T15:18:14.066877Z",
     "shell.execute_reply": "2022-02-14T15:18:14.066389Z"
    }
   },
   "outputs": [],
   "source": [
    "TE = joinpath(tempdir(), \"OnePiece.test\")\n",
    "\n",
    "if isdir(TE)\n",
    "\n",
    "    rm(TE, recursive = true)\n",
    "\n",
    "    println(\"Removed \", TE, \".\")\n",
    "\n",
    "end\n",
    "\n",
    "mkdir(TE)\n",
    "\n",
    "println(\"Made \", TE, \".\")"
   ]
  },
  {
   "cell_type": "code",
   "execution_count": null,
   "id": "34e4701e",
   "metadata": {
    "execution": {
     "iopub.execute_input": "2022-02-14T15:18:14.068945Z",
     "iopub.status.busy": "2022-02-14T15:18:14.068434Z",
     "iopub.status.idle": "2022-02-14T15:18:18.268330Z",
     "shell.execute_reply": "2022-02-14T15:18:18.267862Z"
    }
   },
   "outputs": [],
   "source": [
    "using OnePiece"
   ]
  },
  {
   "cell_type": "markdown",
   "id": "b92a3da9",
   "metadata": {},
   "source": [
    "---"
   ]
  },
  {
   "cell_type": "markdown",
   "id": "39171df7",
   "metadata": {},
   "source": [
    "## map_to_column"
   ]
  },
  {
   "cell_type": "code",
   "execution_count": null,
   "id": "f7c38fc6",
   "metadata": {
    "execution": {
     "iopub.execute_input": "2022-02-14T15:18:18.592711Z",
     "iopub.status.busy": "2022-02-14T15:18:18.269714Z",
     "iopub.status.idle": "2022-02-14T15:18:18.639678Z",
     "shell.execute_reply": "2022-02-14T15:18:18.639232Z"
    }
   },
   "outputs": [],
   "source": [
    "using DataFrames"
   ]
  },
  {
   "cell_type": "code",
   "execution_count": null,
   "id": "d863048a",
   "metadata": {
    "execution": {
     "iopub.execute_input": "2022-02-14T15:18:18.641783Z",
     "iopub.status.busy": "2022-02-14T15:18:18.641288Z",
     "iopub.status.idle": "2022-02-14T15:18:21.829430Z",
     "shell.execute_reply": "2022-02-14T15:18:21.828952Z"
    }
   },
   "outputs": [],
   "source": [
    "da = DataFrame(\n",
    "    \"Column 1\" => [\"hi\", \"hello\", \"howdy\"],\n",
    "    \"Column 2\" => [\"X\", \"Y\", \"Z\"],\n",
    "    \"Column 3\" => [\"luffy\", \"black jack\", \"oden\"],\n",
    ")"
   ]
  },
  {
   "cell_type": "code",
   "execution_count": null,
   "id": "d1492404",
   "metadata": {
    "execution": {
     "iopub.execute_input": "2022-02-14T15:18:21.831592Z",
     "iopub.status.busy": "2022-02-14T15:18:21.830796Z",
     "iopub.status.idle": "2022-02-14T15:18:21.832638Z",
     "shell.execute_reply": "2022-02-14T15:18:21.832117Z"
    }
   },
   "outputs": [],
   "source": [
    "using JSON"
   ]
  },
  {
   "cell_type": "code",
   "execution_count": null,
   "id": "1db03a1e",
   "metadata": {
    "execution": {
     "iopub.execute_input": "2022-02-14T15:18:21.834468Z",
     "iopub.status.busy": "2022-02-14T15:18:21.833893Z",
     "iopub.status.idle": "2022-02-14T15:18:22.707915Z",
     "shell.execute_reply": "2022-02-14T15:18:22.707541Z"
    }
   },
   "outputs": [],
   "source": [
    "JSON.print(OnePiece.extension.dataframe.map_to_column(da, [\"Column 1\", \"Column 3\", \"Column 2\"]), 2)"
   ]
  },
  {
   "cell_type": "code",
   "execution_count": null,
   "id": "51a921d7",
   "metadata": {
    "execution": {
     "iopub.execute_input": "2022-02-14T15:18:22.709728Z",
     "iopub.status.busy": "2022-02-14T15:18:22.709233Z",
     "iopub.status.idle": "2022-02-14T15:18:22.713637Z",
     "shell.execute_reply": "2022-02-14T15:18:22.713065Z"
    }
   },
   "outputs": [],
   "source": [
    "JSON.print(OnePiece.extension.dataframe.map_to_column(da, [\"Column 3\", \"Column 2\"]), 3)"
   ]
  },
  {
   "cell_type": "markdown",
   "id": "3f396855",
   "metadata": {},
   "source": [
    "---"
   ]
  },
  {
   "cell_type": "code",
   "execution_count": null,
   "id": "b4af2023",
   "metadata": {
    "execution": {
     "iopub.execute_input": "2022-02-14T15:18:22.715952Z",
     "iopub.status.busy": "2022-02-14T15:18:22.715237Z",
     "iopub.status.idle": "2022-02-14T15:18:22.717664Z",
     "shell.execute_reply": "2022-02-14T15:18:22.717291Z"
    }
   },
   "outputs": [],
   "source": [
    "if isdir(TE)\n",
    "\n",
    "    rm(TE, recursive = true)\n",
    "\n",
    "    println(\"Removed \", TE, \".\")\n",
    "\n",
    "end"
   ]
  }
 ],
 "metadata": {
  "kernelspec": {
   "display_name": "Julia 1.7.2",
   "language": "julia",
   "name": "julia-1.7"
  },
  "language_info": {
   "file_extension": ".jl",
   "mimetype": "application/julia",
   "name": "julia",
   "version": "1.7.2"
  }
 },
 "nbformat": 4,
 "nbformat_minor": 5
}
