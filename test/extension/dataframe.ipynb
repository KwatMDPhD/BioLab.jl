{
 "cells": [
  {
   "cell_type": "code",
   "execution_count": null,
   "id": "017464da",
   "metadata": {
    "execution": {
     "iopub.execute_input": "2022-02-13T23:30:06.606923Z",
     "iopub.status.busy": "2022-02-13T23:30:06.244237Z",
     "iopub.status.idle": "2022-02-13T23:30:06.799510Z",
     "shell.execute_reply": "2022-02-13T23:30:06.798816Z"
    }
   },
   "outputs": [],
   "source": [
    "TE = joinpath(tempdir(), \"OnePiece.test\")\n",
    "\n",
    "if isdir(TE)\n",
    "\n",
    "    rm(TE, recursive = true)\n",
    "\n",
    "    println(\"Removed \", TE, \".\")\n",
    "\n",
    "end\n",
    "\n",
    "mkdir(TE)\n",
    "\n",
    "println(\"Made \", TE, \".\")"
   ]
  },
  {
   "cell_type": "code",
   "execution_count": null,
   "id": "34e4701e",
   "metadata": {
    "execution": {
     "iopub.execute_input": "2022-02-13T23:30:06.801571Z",
     "iopub.status.busy": "2022-02-13T23:30:06.801055Z",
     "iopub.status.idle": "2022-02-13T23:30:11.428565Z",
     "shell.execute_reply": "2022-02-13T23:30:11.427809Z"
    }
   },
   "outputs": [],
   "source": [
    "using OnePiece"
   ]
  },
  {
   "cell_type": "markdown",
   "id": "b92a3da9",
   "metadata": {},
   "source": [
    "---"
   ]
  },
  {
   "cell_type": "markdown",
   "id": "39171df7",
   "metadata": {},
   "source": [
    "## map_to_column"
   ]
  },
  {
   "cell_type": "code",
   "execution_count": null,
   "id": "f7c38fc6",
   "metadata": {
    "execution": {
     "iopub.execute_input": "2022-02-13T23:30:11.761871Z",
     "iopub.status.busy": "2022-02-13T23:30:11.429967Z",
     "iopub.status.idle": "2022-02-13T23:30:11.813557Z",
     "shell.execute_reply": "2022-02-13T23:30:11.813110Z"
    }
   },
   "outputs": [],
   "source": [
    "using DataFrames"
   ]
  },
  {
   "cell_type": "code",
   "execution_count": null,
   "id": "d863048a",
   "metadata": {
    "execution": {
     "iopub.execute_input": "2022-02-13T23:30:11.815716Z",
     "iopub.status.busy": "2022-02-13T23:30:11.814883Z",
     "iopub.status.idle": "2022-02-13T23:30:15.286919Z",
     "shell.execute_reply": "2022-02-13T23:30:15.286517Z"
    }
   },
   "outputs": [],
   "source": [
    "da = DataFrame(\n",
    "    \"Column 1\" => [\"hi\", \"hello\", \"howdy\"],\n",
    "    \"Column 2\" => [\"X\", \"Y\", \"Z\"],\n",
    "    \"Column 3\" => [\"luffy\", \"black jack\", \"oden\"],\n",
    ")"
   ]
  },
  {
   "cell_type": "code",
   "execution_count": null,
   "id": "d1492404",
   "metadata": {
    "execution": {
     "iopub.execute_input": "2022-02-13T23:30:15.289797Z",
     "iopub.status.busy": "2022-02-13T23:30:15.288689Z",
     "iopub.status.idle": "2022-02-13T23:30:15.290634Z",
     "shell.execute_reply": "2022-02-13T23:30:15.290258Z"
    }
   },
   "outputs": [],
   "source": [
    "using JSON"
   ]
  },
  {
   "cell_type": "code",
   "execution_count": null,
   "id": "1db03a1e",
   "metadata": {
    "execution": {
     "iopub.execute_input": "2022-02-13T23:30:15.292335Z",
     "iopub.status.busy": "2022-02-13T23:30:15.291847Z",
     "iopub.status.idle": "2022-02-13T23:30:16.097975Z",
     "shell.execute_reply": "2022-02-13T23:30:16.097590Z"
    }
   },
   "outputs": [],
   "source": [
    "JSON.print(OnePiece.extension.dataframe.map_to_column(da, [\"Column 1\", \"Column 3\", \"Column 2\"]), 2)"
   ]
  },
  {
   "cell_type": "code",
   "execution_count": null,
   "id": "51a921d7",
   "metadata": {
    "execution": {
     "iopub.execute_input": "2022-02-13T23:30:16.100149Z",
     "iopub.status.busy": "2022-02-13T23:30:16.099567Z",
     "iopub.status.idle": "2022-02-13T23:30:16.103754Z",
     "shell.execute_reply": "2022-02-13T23:30:16.103395Z"
    }
   },
   "outputs": [],
   "source": [
    "JSON.print(OnePiece.extension.dataframe.map_to_column(da, [\"Column 3\", \"Column 2\"]), 3)"
   ]
  },
  {
   "cell_type": "markdown",
   "id": "3f396855",
   "metadata": {},
   "source": [
    "---"
   ]
  },
  {
   "cell_type": "code",
   "execution_count": null,
   "id": "b4af2023",
   "metadata": {
    "execution": {
     "iopub.execute_input": "2022-02-13T23:30:16.105759Z",
     "iopub.status.busy": "2022-02-13T23:30:16.105112Z",
     "iopub.status.idle": "2022-02-13T23:30:16.107409Z",
     "shell.execute_reply": "2022-02-13T23:30:16.107033Z"
    }
   },
   "outputs": [],
   "source": [
    "if isdir(TE)\n",
    "\n",
    "    rm(TE, recursive = true)\n",
    "\n",
    "    println(\"Removed \", TE, \".\")\n",
    "\n",
    "end"
   ]
  }
 ],
 "metadata": {
  "kernelspec": {
   "display_name": "Julia 1.7.2",
   "language": "julia",
   "name": "julia-1.7"
  },
  "language_info": {
   "file_extension": ".jl",
   "mimetype": "application/julia",
   "name": "julia",
   "version": "1.7.2"
  }
 },
 "nbformat": 4,
 "nbformat_minor": 5
}
