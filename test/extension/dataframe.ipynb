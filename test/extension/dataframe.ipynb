{
 "cells": [
  {
   "cell_type": "code",
   "execution_count": null,
   "id": "017464da",
   "metadata": {
    "execution": {
     "iopub.execute_input": "2022-02-11T08:11:22.441628Z",
     "iopub.status.busy": "2022-02-11T08:11:22.097758Z",
     "iopub.status.idle": "2022-02-11T08:11:22.628105Z",
     "shell.execute_reply": "2022-02-11T08:11:22.627514Z"
    }
   },
   "outputs": [],
   "source": [
    "TE = joinpath(tempdir(), \"OnePiece.test\")\n",
    "\n",
    "if isdir(TE)\n",
    "\n",
    "    rm(TE; recursive = true)\n",
    "\n",
    "    println(\"Removed \", TE, \".\")\n",
    "\n",
    "end\n",
    "\n",
    "mkdir(TE)\n",
    "\n",
    "println(\"Made \", TE, \".\")"
   ]
  },
  {
   "cell_type": "code",
   "execution_count": null,
   "id": "34e4701e",
   "metadata": {
    "execution": {
     "iopub.execute_input": "2022-02-11T08:11:22.630191Z",
     "iopub.status.busy": "2022-02-11T08:11:22.629589Z",
     "iopub.status.idle": "2022-02-11T08:11:27.022554Z",
     "shell.execute_reply": "2022-02-11T08:11:27.022037Z"
    }
   },
   "outputs": [],
   "source": [
    "using OnePiece"
   ]
  },
  {
   "cell_type": "markdown",
   "id": "b92a3da9",
   "metadata": {},
   "source": [
    "---"
   ]
  },
  {
   "cell_type": "markdown",
   "id": "39171df7",
   "metadata": {},
   "source": [
    "## map_to_column"
   ]
  },
  {
   "cell_type": "code",
   "execution_count": null,
   "id": "f7c38fc6",
   "metadata": {
    "execution": {
     "iopub.execute_input": "2022-02-11T08:11:27.349930Z",
     "iopub.status.busy": "2022-02-11T08:11:27.023988Z",
     "iopub.status.idle": "2022-02-11T08:11:27.396625Z",
     "shell.execute_reply": "2022-02-11T08:11:27.396181Z"
    }
   },
   "outputs": [],
   "source": [
    "using DataFrames"
   ]
  },
  {
   "cell_type": "code",
   "execution_count": null,
   "id": "d863048a",
   "metadata": {
    "execution": {
     "iopub.execute_input": "2022-02-11T08:11:27.398685Z",
     "iopub.status.busy": "2022-02-11T08:11:27.398029Z",
     "iopub.status.idle": "2022-02-11T08:11:30.663230Z",
     "shell.execute_reply": "2022-02-11T08:11:30.662718Z"
    }
   },
   "outputs": [],
   "source": [
    "da = DataFrame(\n",
    "    \"Column 1\" => [\"hi\", \"hello\", \"howdy\"],\n",
    "    \"Column 2\" => [\"X\", \"Y\", \"Z\"],\n",
    "    \"Column 3\" => [\"luffy\", \"black jack\", \"oden\"],\n",
    ")"
   ]
  },
  {
   "cell_type": "code",
   "execution_count": null,
   "id": "d1492404",
   "metadata": {
    "execution": {
     "iopub.execute_input": "2022-02-11T08:11:30.665319Z",
     "iopub.status.busy": "2022-02-11T08:11:30.664546Z",
     "iopub.status.idle": "2022-02-11T08:11:30.666349Z",
     "shell.execute_reply": "2022-02-11T08:11:30.665854Z"
    }
   },
   "outputs": [],
   "source": [
    "using JSON"
   ]
  },
  {
   "cell_type": "code",
   "execution_count": null,
   "id": "1db03a1e",
   "metadata": {
    "execution": {
     "iopub.execute_input": "2022-02-11T08:11:30.668217Z",
     "iopub.status.busy": "2022-02-11T08:11:30.667617Z",
     "iopub.status.idle": "2022-02-11T08:11:31.505871Z",
     "shell.execute_reply": "2022-02-11T08:11:31.505486Z"
    }
   },
   "outputs": [],
   "source": [
    "JSON.print(OnePiece.extension.dataframe.map_to_column(da, [\"Column 1\", \"Column 3\", \"Column 2\"]), 2)"
   ]
  },
  {
   "cell_type": "code",
   "execution_count": null,
   "id": "51a921d7",
   "metadata": {
    "execution": {
     "iopub.execute_input": "2022-02-11T08:11:31.508032Z",
     "iopub.status.busy": "2022-02-11T08:11:31.507285Z",
     "iopub.status.idle": "2022-02-11T08:11:31.512280Z",
     "shell.execute_reply": "2022-02-11T08:11:31.511943Z"
    }
   },
   "outputs": [],
   "source": [
    "JSON.print(OnePiece.extension.dataframe.map_to_column(da, [\"Column 3\", \"Column 2\"]), 3)"
   ]
  },
  {
   "cell_type": "markdown",
   "id": "3f396855",
   "metadata": {},
   "source": [
    "---"
   ]
  },
  {
   "cell_type": "code",
   "execution_count": null,
   "id": "b4af2023",
   "metadata": {
    "execution": {
     "iopub.execute_input": "2022-02-11T08:11:31.514107Z",
     "iopub.status.busy": "2022-02-11T08:11:31.513624Z",
     "iopub.status.idle": "2022-02-11T08:11:31.517873Z",
     "shell.execute_reply": "2022-02-11T08:11:31.517526Z"
    }
   },
   "outputs": [],
   "source": [
    "if isdir(TE)\n",
    "\n",
    "    rm(TE; recursive = true)\n",
    "\n",
    "    println(\"Removed \", TE, \".\")\n",
    "\n",
    "end"
   ]
  }
 ],
 "metadata": {
  "kernelspec": {
   "display_name": "Julia 1.7.2",
   "language": "julia",
   "name": "julia-1.7"
  },
  "language_info": {
   "file_extension": ".jl",
   "mimetype": "application/julia",
   "name": "julia",
   "version": "1.7.2"
  }
 },
 "nbformat": 4,
 "nbformat_minor": 5
}
