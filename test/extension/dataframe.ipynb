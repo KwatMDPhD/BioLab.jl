{
 "cells": [
  {
   "cell_type": "code",
   "execution_count": null,
   "id": "017464da",
   "metadata": {
    "execution": {
     "iopub.execute_input": "2022-02-13T21:49:20.511043Z",
     "iopub.status.busy": "2022-02-13T21:49:20.158788Z",
     "iopub.status.idle": "2022-02-13T21:49:20.711905Z",
     "shell.execute_reply": "2022-02-13T21:49:20.710986Z"
    }
   },
   "outputs": [],
   "source": [
    "TE = joinpath(tempdir(), \"OnePiece.test\")\n",
    "\n",
    "if isdir(TE)\n",
    "\n",
    "    rm(TE, recursive = true)\n",
    "\n",
    "    println(\"Removed \", TE, \".\")\n",
    "\n",
    "end\n",
    "\n",
    "mkdir(TE)\n",
    "\n",
    "println(\"Made \", TE, \".\")"
   ]
  },
  {
   "cell_type": "code",
   "execution_count": null,
   "id": "34e4701e",
   "metadata": {
    "execution": {
     "iopub.execute_input": "2022-02-13T21:49:20.714658Z",
     "iopub.status.busy": "2022-02-13T21:49:20.713997Z",
     "iopub.status.idle": "2022-02-13T21:49:25.047039Z",
     "shell.execute_reply": "2022-02-13T21:49:25.046373Z"
    }
   },
   "outputs": [],
   "source": [
    "using OnePiece"
   ]
  },
  {
   "cell_type": "markdown",
   "id": "b92a3da9",
   "metadata": {},
   "source": [
    "---"
   ]
  },
  {
   "cell_type": "markdown",
   "id": "39171df7",
   "metadata": {},
   "source": [
    "## map_to_column"
   ]
  },
  {
   "cell_type": "code",
   "execution_count": null,
   "id": "f7c38fc6",
   "metadata": {
    "execution": {
     "iopub.execute_input": "2022-02-13T21:49:25.381399Z",
     "iopub.status.busy": "2022-02-13T21:49:25.048477Z",
     "iopub.status.idle": "2022-02-13T21:49:25.430696Z",
     "shell.execute_reply": "2022-02-13T21:49:25.430104Z"
    }
   },
   "outputs": [],
   "source": [
    "using DataFrames"
   ]
  },
  {
   "cell_type": "code",
   "execution_count": null,
   "id": "d863048a",
   "metadata": {
    "execution": {
     "iopub.execute_input": "2022-02-13T21:49:25.432570Z",
     "iopub.status.busy": "2022-02-13T21:49:25.432071Z",
     "iopub.status.idle": "2022-02-13T21:49:28.824916Z",
     "shell.execute_reply": "2022-02-13T21:49:28.824530Z"
    }
   },
   "outputs": [],
   "source": [
    "da = DataFrame(\n",
    "    \"Column 1\" => [\"hi\", \"hello\", \"howdy\"],\n",
    "    \"Column 2\" => [\"X\", \"Y\", \"Z\"],\n",
    "    \"Column 3\" => [\"luffy\", \"black jack\", \"oden\"],\n",
    ")"
   ]
  },
  {
   "cell_type": "code",
   "execution_count": null,
   "id": "d1492404",
   "metadata": {
    "execution": {
     "iopub.execute_input": "2022-02-13T21:49:28.827147Z",
     "iopub.status.busy": "2022-02-13T21:49:28.826344Z",
     "iopub.status.idle": "2022-02-13T21:49:28.828322Z",
     "shell.execute_reply": "2022-02-13T21:49:28.827894Z"
    }
   },
   "outputs": [],
   "source": [
    "using JSON"
   ]
  },
  {
   "cell_type": "code",
   "execution_count": null,
   "id": "1db03a1e",
   "metadata": {
    "execution": {
     "iopub.execute_input": "2022-02-13T21:49:28.830982Z",
     "iopub.status.busy": "2022-02-13T21:49:28.830477Z",
     "iopub.status.idle": "2022-02-13T21:49:29.673296Z",
     "shell.execute_reply": "2022-02-13T21:49:29.672943Z"
    }
   },
   "outputs": [],
   "source": [
    "JSON.print(OnePiece.extension.dataframe.map_to_column(da, [\"Column 1\", \"Column 3\", \"Column 2\"]), 2)"
   ]
  },
  {
   "cell_type": "code",
   "execution_count": null,
   "id": "51a921d7",
   "metadata": {
    "execution": {
     "iopub.execute_input": "2022-02-13T21:49:29.675376Z",
     "iopub.status.busy": "2022-02-13T21:49:29.674685Z",
     "iopub.status.idle": "2022-02-13T21:49:29.679347Z",
     "shell.execute_reply": "2022-02-13T21:49:29.678858Z"
    }
   },
   "outputs": [],
   "source": [
    "JSON.print(OnePiece.extension.dataframe.map_to_column(da, [\"Column 3\", \"Column 2\"]), 3)"
   ]
  },
  {
   "cell_type": "markdown",
   "id": "3f396855",
   "metadata": {},
   "source": [
    "---"
   ]
  },
  {
   "cell_type": "code",
   "execution_count": null,
   "id": "b4af2023",
   "metadata": {
    "execution": {
     "iopub.execute_input": "2022-02-13T21:49:29.681439Z",
     "iopub.status.busy": "2022-02-13T21:49:29.680842Z",
     "iopub.status.idle": "2022-02-13T21:49:29.683265Z",
     "shell.execute_reply": "2022-02-13T21:49:29.682883Z"
    }
   },
   "outputs": [],
   "source": [
    "if isdir(TE)\n",
    "\n",
    "    rm(TE, recursive = true)\n",
    "\n",
    "    println(\"Removed \", TE, \".\")\n",
    "\n",
    "end"
   ]
  }
 ],
 "metadata": {
  "kernelspec": {
   "display_name": "Julia 1.7.2",
   "language": "julia",
   "name": "julia-1.7"
  },
  "language_info": {
   "file_extension": ".jl",
   "mimetype": "application/julia",
   "name": "julia",
   "version": "1.7.2"
  }
 },
 "nbformat": 4,
 "nbformat_minor": 5
}
