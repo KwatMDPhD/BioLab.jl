{
 "cells": [
  {
   "cell_type": "code",
   "execution_count": null,
   "id": "017464da",
   "metadata": {
    "execution": {
     "iopub.execute_input": "2022-02-14T16:12:49.177616Z",
     "iopub.status.busy": "2022-02-14T16:12:48.824526Z",
     "iopub.status.idle": "2022-02-14T16:12:49.367258Z",
     "shell.execute_reply": "2022-02-14T16:12:49.366749Z"
    }
   },
   "outputs": [],
   "source": [
    "TE = joinpath(tempdir(), \"OnePiece.test\")\n",
    "\n",
    "if isdir(TE)\n",
    "\n",
    "    rm(TE, recursive = true)\n",
    "\n",
    "    println(\"Removed \", TE, \".\")\n",
    "\n",
    "end\n",
    "\n",
    "mkdir(TE)\n",
    "\n",
    "println(\"Made \", TE, \".\")"
   ]
  },
  {
   "cell_type": "code",
   "execution_count": null,
   "id": "34e4701e",
   "metadata": {
    "execution": {
     "iopub.execute_input": "2022-02-14T16:12:49.369817Z",
     "iopub.status.busy": "2022-02-14T16:12:49.368848Z",
     "iopub.status.idle": "2022-02-14T16:12:53.887261Z",
     "shell.execute_reply": "2022-02-14T16:12:53.886667Z"
    }
   },
   "outputs": [],
   "source": [
    "using OnePiece"
   ]
  },
  {
   "cell_type": "markdown",
   "id": "b92a3da9",
   "metadata": {},
   "source": [
    "---"
   ]
  },
  {
   "cell_type": "markdown",
   "id": "39171df7",
   "metadata": {},
   "source": [
    "## map_to_column"
   ]
  },
  {
   "cell_type": "code",
   "execution_count": null,
   "id": "f7c38fc6",
   "metadata": {
    "execution": {
     "iopub.execute_input": "2022-02-14T16:12:54.238735Z",
     "iopub.status.busy": "2022-02-14T16:12:53.888782Z",
     "iopub.status.idle": "2022-02-14T16:12:54.294396Z",
     "shell.execute_reply": "2022-02-14T16:12:54.293885Z"
    }
   },
   "outputs": [],
   "source": [
    "using DataFrames"
   ]
  },
  {
   "cell_type": "code",
   "execution_count": null,
   "id": "d863048a",
   "metadata": {
    "execution": {
     "iopub.execute_input": "2022-02-14T16:12:54.296293Z",
     "iopub.status.busy": "2022-02-14T16:12:54.295710Z",
     "iopub.status.idle": "2022-02-14T16:12:57.877180Z",
     "shell.execute_reply": "2022-02-14T16:12:57.876295Z"
    }
   },
   "outputs": [],
   "source": [
    "da = DataFrame(\n",
    "    \"Column 1\" => [\"hi\", \"hello\", \"howdy\"],\n",
    "    \"Column 2\" => [\"X\", \"Y\", \"Z\"],\n",
    "    \"Column 3\" => [\"luffy\", \"black jack\", \"oden\"],\n",
    ")"
   ]
  },
  {
   "cell_type": "code",
   "execution_count": null,
   "id": "d1492404",
   "metadata": {
    "execution": {
     "iopub.execute_input": "2022-02-14T16:12:57.879234Z",
     "iopub.status.busy": "2022-02-14T16:12:57.878499Z",
     "iopub.status.idle": "2022-02-14T16:12:57.880116Z",
     "shell.execute_reply": "2022-02-14T16:12:57.879715Z"
    }
   },
   "outputs": [],
   "source": [
    "using JSON"
   ]
  },
  {
   "cell_type": "code",
   "execution_count": null,
   "id": "1db03a1e",
   "metadata": {
    "execution": {
     "iopub.execute_input": "2022-02-14T16:12:57.881736Z",
     "iopub.status.busy": "2022-02-14T16:12:57.881220Z",
     "iopub.status.idle": "2022-02-14T16:12:58.813479Z",
     "shell.execute_reply": "2022-02-14T16:12:58.813022Z"
    }
   },
   "outputs": [],
   "source": [
    "JSON.print(OnePiece.extension.dataframe.map_to_column(da, [\"Column 1\", \"Column 3\", \"Column 2\"]), 2)"
   ]
  },
  {
   "cell_type": "code",
   "execution_count": null,
   "id": "51a921d7",
   "metadata": {
    "execution": {
     "iopub.execute_input": "2022-02-14T16:12:58.815370Z",
     "iopub.status.busy": "2022-02-14T16:12:58.814786Z",
     "iopub.status.idle": "2022-02-14T16:12:58.819108Z",
     "shell.execute_reply": "2022-02-14T16:12:58.818623Z"
    }
   },
   "outputs": [],
   "source": [
    "JSON.print(OnePiece.extension.dataframe.map_to_column(da, [\"Column 3\", \"Column 2\"]), 3)"
   ]
  },
  {
   "cell_type": "markdown",
   "id": "3f396855",
   "metadata": {},
   "source": [
    "---"
   ]
  },
  {
   "cell_type": "code",
   "execution_count": null,
   "id": "b4af2023",
   "metadata": {
    "execution": {
     "iopub.execute_input": "2022-02-14T16:12:58.821242Z",
     "iopub.status.busy": "2022-02-14T16:12:58.820595Z",
     "iopub.status.idle": "2022-02-14T16:12:58.823213Z",
     "shell.execute_reply": "2022-02-14T16:12:58.822771Z"
    }
   },
   "outputs": [],
   "source": [
    "if isdir(TE)\n",
    "\n",
    "    rm(TE, recursive = true)\n",
    "\n",
    "    println(\"Removed \", TE, \".\")\n",
    "\n",
    "end"
   ]
  }
 ],
 "metadata": {
  "kernelspec": {
   "display_name": "Julia 1.7.2",
   "language": "julia",
   "name": "julia-1.7"
  },
  "language_info": {
   "file_extension": ".jl",
   "mimetype": "application/julia",
   "name": "julia",
   "version": "1.7.2"
  }
 },
 "nbformat": 4,
 "nbformat_minor": 5
}
