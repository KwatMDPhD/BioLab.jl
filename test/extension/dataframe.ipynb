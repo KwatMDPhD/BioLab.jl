{
 "cells": [
  {
   "cell_type": "code",
   "execution_count": null,
   "id": "017464da",
   "metadata": {
    "execution": {
     "iopub.execute_input": "2022-02-10T21:25:04.694122Z",
     "iopub.status.busy": "2022-02-10T21:25:04.121481Z",
     "iopub.status.idle": "2022-02-10T21:25:05.825009Z",
     "shell.execute_reply": "2022-02-10T21:25:05.824297Z"
    }
   },
   "outputs": [],
   "source": [
    "TE = joinpath(tempdir(), \"OnePiece.test\")\n",
    "\n",
    "mkpath(TE)"
   ]
  },
  {
   "cell_type": "code",
   "execution_count": null,
   "id": "34e4701e",
   "metadata": {
    "execution": {
     "iopub.execute_input": "2022-02-10T21:25:05.827579Z",
     "iopub.status.busy": "2022-02-10T21:25:05.826693Z",
     "iopub.status.idle": "2022-02-10T21:25:12.098539Z",
     "shell.execute_reply": "2022-02-10T21:25:12.097755Z"
    }
   },
   "outputs": [],
   "source": [
    "using OnePiece"
   ]
  },
  {
   "cell_type": "markdown",
   "id": "b92a3da9",
   "metadata": {},
   "source": [
    "---"
   ]
  },
  {
   "cell_type": "markdown",
   "id": "39171df7",
   "metadata": {},
   "source": [
    "## map_to_column"
   ]
  },
  {
   "cell_type": "code",
   "execution_count": null,
   "id": "f7c38fc6",
   "metadata": {
    "execution": {
     "iopub.execute_input": "2022-02-10T21:25:12.732204Z",
     "iopub.status.busy": "2022-02-10T21:25:12.100432Z",
     "iopub.status.idle": "2022-02-10T21:25:12.818707Z",
     "shell.execute_reply": "2022-02-10T21:25:12.817752Z"
    }
   },
   "outputs": [],
   "source": [
    "using DataFrames"
   ]
  },
  {
   "cell_type": "code",
   "execution_count": null,
   "id": "d863048a",
   "metadata": {
    "execution": {
     "iopub.execute_input": "2022-02-10T21:25:12.821843Z",
     "iopub.status.busy": "2022-02-10T21:25:12.820884Z",
     "iopub.status.idle": "2022-02-10T21:25:17.603451Z",
     "shell.execute_reply": "2022-02-10T21:25:17.602688Z"
    }
   },
   "outputs": [],
   "source": [
    "da = DataFrame(\n",
    "    \"Column 1\" => [\"hi\", \"hello\", \"howdy\"],\n",
    "    \"Column 2\" => [\"X\", \"Y\", \"Z\"],\n",
    "    \"Column 3\" => [\"luffy\", \"black jack\", \"oden\"],\n",
    ")"
   ]
  },
  {
   "cell_type": "code",
   "execution_count": null,
   "id": "d1492404",
   "metadata": {
    "execution": {
     "iopub.execute_input": "2022-02-10T21:25:17.606134Z",
     "iopub.status.busy": "2022-02-10T21:25:17.605217Z",
     "iopub.status.idle": "2022-02-10T21:25:17.607522Z",
     "shell.execute_reply": "2022-02-10T21:25:17.606820Z"
    }
   },
   "outputs": [],
   "source": [
    "using JSON"
   ]
  },
  {
   "cell_type": "code",
   "execution_count": null,
   "id": "1db03a1e",
   "metadata": {
    "execution": {
     "iopub.execute_input": "2022-02-10T21:25:17.610005Z",
     "iopub.status.busy": "2022-02-10T21:25:17.609237Z",
     "iopub.status.idle": "2022-02-10T21:25:18.953237Z",
     "shell.execute_reply": "2022-02-10T21:25:18.952641Z"
    }
   },
   "outputs": [],
   "source": [
    "JSON.print(OnePiece.extension.dataframe.map_to_column(da, [\"Column 1\", \"Column 3\", \"Column 2\"]), 2)"
   ]
  },
  {
   "cell_type": "code",
   "execution_count": null,
   "id": "51a921d7",
   "metadata": {
    "execution": {
     "iopub.execute_input": "2022-02-10T21:25:18.955750Z",
     "iopub.status.busy": "2022-02-10T21:25:18.954877Z",
     "iopub.status.idle": "2022-02-10T21:25:18.960872Z",
     "shell.execute_reply": "2022-02-10T21:25:18.960312Z"
    }
   },
   "outputs": [],
   "source": [
    "JSON.print(OnePiece.extension.dataframe.map_to_column(da, [\"Column 3\", \"Column 2\"]), 3)"
   ]
  },
  {
   "cell_type": "markdown",
   "id": "3f396855",
   "metadata": {},
   "source": [
    "---"
   ]
  },
  {
   "cell_type": "code",
   "execution_count": null,
   "id": "b4af2023",
   "metadata": {
    "execution": {
     "iopub.execute_input": "2022-02-10T21:25:18.963619Z",
     "iopub.status.busy": "2022-02-10T21:25:18.962799Z",
     "iopub.status.idle": "2022-02-10T21:25:18.968235Z",
     "shell.execute_reply": "2022-02-10T21:25:18.967546Z"
    }
   },
   "outputs": [],
   "source": [
    "rm(TE; recursive = true)"
   ]
  }
 ],
 "metadata": {
  "kernelspec": {
   "display_name": "Julia 1.7.2",
   "language": "julia",
   "name": "julia-1.7"
  },
  "language_info": {
   "file_extension": ".jl",
   "mimetype": "application/julia",
   "name": "julia",
   "version": "1.7.2"
  }
 },
 "nbformat": 4,
 "nbformat_minor": 5
}
