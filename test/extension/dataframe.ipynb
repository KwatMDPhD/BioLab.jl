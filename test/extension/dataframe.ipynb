{
 "cells": [
  {
   "cell_type": "code",
   "execution_count": null,
   "id": "34e4701e",
   "metadata": {
    "execution": {
     "iopub.execute_input": "2022-02-09T18:53:20.150355Z",
     "iopub.status.busy": "2022-02-09T18:53:19.738344Z",
     "iopub.status.idle": "2022-02-09T18:53:21.176158Z",
     "shell.execute_reply": "2022-02-09T18:53:21.175563Z"
    }
   },
   "outputs": [],
   "source": [
    "using Revise\n",
    "using BenchmarkTools"
   ]
  },
  {
   "cell_type": "code",
   "execution_count": null,
   "id": "23b98853",
   "metadata": {
    "execution": {
     "iopub.execute_input": "2022-02-09T18:53:21.177965Z",
     "iopub.status.busy": "2022-02-09T18:53:21.177404Z",
     "iopub.status.idle": "2022-02-09T18:53:31.409948Z",
     "shell.execute_reply": "2022-02-09T18:53:31.409410Z"
    }
   },
   "outputs": [],
   "source": [
    "using DataFrames\n",
    "using JSON\n",
    "\n",
    "using OnePiece"
   ]
  },
  {
   "cell_type": "markdown",
   "id": "39171df7",
   "metadata": {},
   "source": [
    "## map_to_column"
   ]
  },
  {
   "cell_type": "code",
   "execution_count": null,
   "id": "d863048a",
   "metadata": {
    "execution": {
     "iopub.execute_input": "2022-02-09T18:53:33.039868Z",
     "iopub.status.busy": "2022-02-09T18:53:31.411510Z",
     "iopub.status.idle": "2022-02-09T18:53:37.168695Z",
     "shell.execute_reply": "2022-02-09T18:53:37.168255Z"
    }
   },
   "outputs": [],
   "source": [
    "da = DataFrame(\n",
    "    \"Column 1\" => [\"hi\", \"hello\", \"howdy\"],\n",
    "    \"Column 2\" => [\"X\", \"Y\", \"Z\"],\n",
    "    \"Column 3\" => [\"luffy\", \"black jack\", \"oden\"],\n",
    ")"
   ]
  },
  {
   "cell_type": "code",
   "execution_count": null,
   "id": "1db03a1e",
   "metadata": {
    "execution": {
     "iopub.execute_input": "2022-02-09T18:53:37.170689Z",
     "iopub.status.busy": "2022-02-09T18:53:37.170113Z",
     "iopub.status.idle": "2022-02-09T18:53:38.047817Z",
     "shell.execute_reply": "2022-02-09T18:53:38.047380Z"
    }
   },
   "outputs": [],
   "source": [
    "JSON.print(OnePiece.extension.dataframe.map_to_column(da, [\"Column 1\", \"Column 3\", \"Column 2\"]), 2)"
   ]
  },
  {
   "cell_type": "code",
   "execution_count": null,
   "id": "51a921d7",
   "metadata": {
    "execution": {
     "iopub.execute_input": "2022-02-09T18:53:38.049681Z",
     "iopub.status.busy": "2022-02-09T18:53:38.049190Z",
     "iopub.status.idle": "2022-02-09T18:53:38.065850Z",
     "shell.execute_reply": "2022-02-09T18:53:38.065438Z"
    }
   },
   "outputs": [],
   "source": [
    "JSON.print(OnePiece.extension.dataframe.map_to_column(da, [\"Column 3\", \"Column 2\"]), 3)"
   ]
  }
 ],
 "metadata": {
  "@webio": {
   "lastCommId": null,
   "lastKernelId": null
  },
  "kernelspec": {
   "display_name": "Julia 1.7.2",
   "language": "julia",
   "name": "julia-1.7"
  },
  "language_info": {
   "file_extension": ".jl",
   "mimetype": "application/julia",
   "name": "julia",
   "version": "1.7.2"
  }
 },
 "nbformat": 4,
 "nbformat_minor": 5
}
