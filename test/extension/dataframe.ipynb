{
 "cells": [
  {
   "cell_type": "code",
   "execution_count": null,
   "id": "017464da",
   "metadata": {
    "execution": {
     "iopub.execute_input": "2022-02-14T02:53:24.431196Z",
     "iopub.status.busy": "2022-02-14T02:53:24.048253Z",
     "iopub.status.idle": "2022-02-14T02:53:24.649568Z",
     "shell.execute_reply": "2022-02-14T02:53:24.648898Z"
    }
   },
   "outputs": [],
   "source": [
    "TE = joinpath(tempdir(), \"OnePiece.test\")\n",
    "\n",
    "if isdir(TE)\n",
    "\n",
    "    rm(TE, recursive = true)\n",
    "\n",
    "    println(\"Removed \", TE, \".\")\n",
    "\n",
    "end\n",
    "\n",
    "mkdir(TE)\n",
    "\n",
    "println(\"Made \", TE, \".\")"
   ]
  },
  {
   "cell_type": "code",
   "execution_count": null,
   "id": "34e4701e",
   "metadata": {
    "execution": {
     "iopub.execute_input": "2022-02-14T02:53:24.651475Z",
     "iopub.status.busy": "2022-02-14T02:53:24.650891Z",
     "iopub.status.idle": "2022-02-14T02:53:29.192604Z",
     "shell.execute_reply": "2022-02-14T02:53:29.192077Z"
    }
   },
   "outputs": [],
   "source": [
    "using OnePiece"
   ]
  },
  {
   "cell_type": "markdown",
   "id": "b92a3da9",
   "metadata": {},
   "source": [
    "---"
   ]
  },
  {
   "cell_type": "markdown",
   "id": "39171df7",
   "metadata": {},
   "source": [
    "## map_to_column"
   ]
  },
  {
   "cell_type": "code",
   "execution_count": null,
   "id": "f7c38fc6",
   "metadata": {
    "execution": {
     "iopub.execute_input": "2022-02-14T02:53:29.541638Z",
     "iopub.status.busy": "2022-02-14T02:53:29.194071Z",
     "iopub.status.idle": "2022-02-14T02:53:29.593829Z",
     "shell.execute_reply": "2022-02-14T02:53:29.593310Z"
    }
   },
   "outputs": [],
   "source": [
    "using DataFrames"
   ]
  },
  {
   "cell_type": "code",
   "execution_count": null,
   "id": "d863048a",
   "metadata": {
    "execution": {
     "iopub.execute_input": "2022-02-14T02:53:29.595738Z",
     "iopub.status.busy": "2022-02-14T02:53:29.595157Z",
     "iopub.status.idle": "2022-02-14T02:53:33.265834Z",
     "shell.execute_reply": "2022-02-14T02:53:33.265368Z"
    }
   },
   "outputs": [],
   "source": [
    "da = DataFrame(\n",
    "    \"Column 1\" => [\"hi\", \"hello\", \"howdy\"],\n",
    "    \"Column 2\" => [\"X\", \"Y\", \"Z\"],\n",
    "    \"Column 3\" => [\"luffy\", \"black jack\", \"oden\"],\n",
    ")"
   ]
  },
  {
   "cell_type": "code",
   "execution_count": null,
   "id": "d1492404",
   "metadata": {
    "execution": {
     "iopub.execute_input": "2022-02-14T02:53:33.267881Z",
     "iopub.status.busy": "2022-02-14T02:53:33.267156Z",
     "iopub.status.idle": "2022-02-14T02:53:33.268867Z",
     "shell.execute_reply": "2022-02-14T02:53:33.268413Z"
    }
   },
   "outputs": [],
   "source": [
    "using JSON"
   ]
  },
  {
   "cell_type": "code",
   "execution_count": null,
   "id": "1db03a1e",
   "metadata": {
    "execution": {
     "iopub.execute_input": "2022-02-14T02:53:33.270741Z",
     "iopub.status.busy": "2022-02-14T02:53:33.270158Z",
     "iopub.status.idle": "2022-02-14T02:53:34.158087Z",
     "shell.execute_reply": "2022-02-14T02:53:34.157604Z"
    }
   },
   "outputs": [],
   "source": [
    "JSON.print(OnePiece.extension.dataframe.map_to_column(da, [\"Column 1\", \"Column 3\", \"Column 2\"]), 2)"
   ]
  },
  {
   "cell_type": "code",
   "execution_count": null,
   "id": "51a921d7",
   "metadata": {
    "execution": {
     "iopub.execute_input": "2022-02-14T02:53:34.160073Z",
     "iopub.status.busy": "2022-02-14T02:53:34.159469Z",
     "iopub.status.idle": "2022-02-14T02:53:34.163742Z",
     "shell.execute_reply": "2022-02-14T02:53:34.163280Z"
    }
   },
   "outputs": [],
   "source": [
    "JSON.print(OnePiece.extension.dataframe.map_to_column(da, [\"Column 3\", \"Column 2\"]), 3)"
   ]
  },
  {
   "cell_type": "markdown",
   "id": "3f396855",
   "metadata": {},
   "source": [
    "---"
   ]
  },
  {
   "cell_type": "code",
   "execution_count": null,
   "id": "b4af2023",
   "metadata": {
    "execution": {
     "iopub.execute_input": "2022-02-14T02:53:34.165729Z",
     "iopub.status.busy": "2022-02-14T02:53:34.165100Z",
     "iopub.status.idle": "2022-02-14T02:53:34.167641Z",
     "shell.execute_reply": "2022-02-14T02:53:34.167136Z"
    }
   },
   "outputs": [],
   "source": [
    "if isdir(TE)\n",
    "\n",
    "    rm(TE, recursive = true)\n",
    "\n",
    "    println(\"Removed \", TE, \".\")\n",
    "\n",
    "end"
   ]
  }
 ],
 "metadata": {
  "kernelspec": {
   "display_name": "Julia 1.7.2",
   "language": "julia",
   "name": "julia-1.7"
  },
  "language_info": {
   "file_extension": ".jl",
   "mimetype": "application/julia",
   "name": "julia",
   "version": "1.7.2"
  }
 },
 "nbformat": 4,
 "nbformat_minor": 5
}
