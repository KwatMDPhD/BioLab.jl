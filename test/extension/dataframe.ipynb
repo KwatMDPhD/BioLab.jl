{
 "cells": [
  {
   "cell_type": "code",
   "execution_count": null,
   "id": "34e4701e",
   "metadata": {
    "execution": {
     "iopub.execute_input": "2022-02-09T22:42:10.042055Z",
     "iopub.status.busy": "2022-02-09T22:42:09.674615Z",
     "iopub.status.idle": "2022-02-09T22:42:10.975895Z",
     "shell.execute_reply": "2022-02-09T22:42:10.975388Z"
    }
   },
   "outputs": [],
   "source": [
    "using Revise\n",
    "using BenchmarkTools"
   ]
  },
  {
   "cell_type": "code",
   "execution_count": null,
   "id": "23b98853",
   "metadata": {
    "execution": {
     "iopub.execute_input": "2022-02-09T22:42:10.977579Z",
     "iopub.status.busy": "2022-02-09T22:42:10.977030Z",
     "iopub.status.idle": "2022-02-09T22:42:20.806432Z",
     "shell.execute_reply": "2022-02-09T22:42:20.805900Z"
    }
   },
   "outputs": [],
   "source": [
    "using DataFrames\n",
    "using JSON\n",
    "\n",
    "using OnePiece"
   ]
  },
  {
   "cell_type": "markdown",
   "id": "39171df7",
   "metadata": {},
   "source": [
    "## map_to_column"
   ]
  },
  {
   "cell_type": "code",
   "execution_count": null,
   "id": "d863048a",
   "metadata": {
    "execution": {
     "iopub.execute_input": "2022-02-09T22:42:22.349257Z",
     "iopub.status.busy": "2022-02-09T22:42:20.807822Z",
     "iopub.status.idle": "2022-02-09T22:42:26.397230Z",
     "shell.execute_reply": "2022-02-09T22:42:26.396846Z"
    }
   },
   "outputs": [],
   "source": [
    "da = DataFrame(\n",
    "    \"Column 1\" => [\"hi\", \"hello\", \"howdy\"],\n",
    "    \"Column 2\" => [\"X\", \"Y\", \"Z\"],\n",
    "    \"Column 3\" => [\"luffy\", \"black jack\", \"oden\"],\n",
    ")"
   ]
  },
  {
   "cell_type": "code",
   "execution_count": null,
   "id": "1db03a1e",
   "metadata": {
    "execution": {
     "iopub.execute_input": "2022-02-09T22:42:26.399144Z",
     "iopub.status.busy": "2022-02-09T22:42:26.398645Z",
     "iopub.status.idle": "2022-02-09T22:42:27.298600Z",
     "shell.execute_reply": "2022-02-09T22:42:27.298150Z"
    }
   },
   "outputs": [],
   "source": [
    "JSON.print(OnePiece.extension.dataframe.map_to_column(da, [\"Column 1\", \"Column 3\", \"Column 2\"]), 2)"
   ]
  },
  {
   "cell_type": "code",
   "execution_count": null,
   "id": "51a921d7",
   "metadata": {
    "execution": {
     "iopub.execute_input": "2022-02-09T22:42:27.300558Z",
     "iopub.status.busy": "2022-02-09T22:42:27.300028Z",
     "iopub.status.idle": "2022-02-09T22:42:27.316090Z",
     "shell.execute_reply": "2022-02-09T22:42:27.315593Z"
    }
   },
   "outputs": [],
   "source": [
    "JSON.print(OnePiece.extension.dataframe.map_to_column(da, [\"Column 3\", \"Column 2\"]), 3)"
   ]
  }
 ],
 "metadata": {
  "@webio": {
   "lastCommId": null,
   "lastKernelId": null
  },
  "kernelspec": {
   "display_name": "Julia 1.7.2",
   "language": "julia",
   "name": "julia-1.7"
  },
  "language_info": {
   "file_extension": ".jl",
   "mimetype": "application/julia",
   "name": "julia",
   "version": "1.7.2"
  }
 },
 "nbformat": 4,
 "nbformat_minor": 5
}
