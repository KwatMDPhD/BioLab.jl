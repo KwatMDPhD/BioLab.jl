{
 "cells": [
  {
   "cell_type": "code",
   "execution_count": null,
   "id": "017464da",
   "metadata": {
    "execution": {
     "iopub.execute_input": "2022-02-13T05:19:48.090053Z",
     "iopub.status.busy": "2022-02-13T05:19:47.706347Z",
     "iopub.status.idle": "2022-02-13T05:19:48.303097Z",
     "shell.execute_reply": "2022-02-13T05:19:48.302521Z"
    }
   },
   "outputs": [],
   "source": [
    "TE = joinpath(tempdir(), \"OnePiece.test\")\n",
    "\n",
    "if isdir(TE)\n",
    "\n",
    "    rm(TE, recursive = true)\n",
    "\n",
    "    println(\"Removed \", TE, \".\")\n",
    "\n",
    "end\n",
    "\n",
    "mkdir(TE)\n",
    "\n",
    "println(\"Made \", TE, \".\")"
   ]
  },
  {
   "cell_type": "code",
   "execution_count": null,
   "id": "34e4701e",
   "metadata": {
    "execution": {
     "iopub.execute_input": "2022-02-13T05:19:48.304943Z",
     "iopub.status.busy": "2022-02-13T05:19:48.304357Z",
     "iopub.status.idle": "2022-02-13T05:19:53.039638Z",
     "shell.execute_reply": "2022-02-13T05:19:53.039190Z"
    }
   },
   "outputs": [],
   "source": [
    "using OnePiece"
   ]
  },
  {
   "cell_type": "markdown",
   "id": "b92a3da9",
   "metadata": {},
   "source": [
    "---"
   ]
  },
  {
   "cell_type": "markdown",
   "id": "39171df7",
   "metadata": {},
   "source": [
    "## map_to_column"
   ]
  },
  {
   "cell_type": "code",
   "execution_count": null,
   "id": "f7c38fc6",
   "metadata": {
    "execution": {
     "iopub.execute_input": "2022-02-13T05:19:53.389813Z",
     "iopub.status.busy": "2022-02-13T05:19:53.040942Z",
     "iopub.status.idle": "2022-02-13T05:19:53.440769Z",
     "shell.execute_reply": "2022-02-13T05:19:53.440254Z"
    }
   },
   "outputs": [],
   "source": [
    "using DataFrames"
   ]
  },
  {
   "cell_type": "code",
   "execution_count": null,
   "id": "d863048a",
   "metadata": {
    "execution": {
     "iopub.execute_input": "2022-02-13T05:19:53.442651Z",
     "iopub.status.busy": "2022-02-13T05:19:53.442079Z",
     "iopub.status.idle": "2022-02-13T05:19:57.068270Z",
     "shell.execute_reply": "2022-02-13T05:19:57.067805Z"
    }
   },
   "outputs": [],
   "source": [
    "da = DataFrame(\n",
    "    \"Column 1\" => [\"hi\", \"hello\", \"howdy\"],\n",
    "    \"Column 2\" => [\"X\", \"Y\", \"Z\"],\n",
    "    \"Column 3\" => [\"luffy\", \"black jack\", \"oden\"],\n",
    ")"
   ]
  },
  {
   "cell_type": "code",
   "execution_count": null,
   "id": "d1492404",
   "metadata": {
    "execution": {
     "iopub.execute_input": "2022-02-13T05:19:57.070318Z",
     "iopub.status.busy": "2022-02-13T05:19:57.069576Z",
     "iopub.status.idle": "2022-02-13T05:19:57.071282Z",
     "shell.execute_reply": "2022-02-13T05:19:57.070837Z"
    }
   },
   "outputs": [],
   "source": [
    "using JSON"
   ]
  },
  {
   "cell_type": "code",
   "execution_count": null,
   "id": "1db03a1e",
   "metadata": {
    "execution": {
     "iopub.execute_input": "2022-02-13T05:19:57.073100Z",
     "iopub.status.busy": "2022-02-13T05:19:57.072532Z",
     "iopub.status.idle": "2022-02-13T05:19:57.976675Z",
     "shell.execute_reply": "2022-02-13T05:19:57.976146Z"
    }
   },
   "outputs": [],
   "source": [
    "JSON.print(OnePiece.extension.dataframe.map_to_column(da, [\"Column 1\", \"Column 3\", \"Column 2\"]), 2)"
   ]
  },
  {
   "cell_type": "code",
   "execution_count": null,
   "id": "51a921d7",
   "metadata": {
    "execution": {
     "iopub.execute_input": "2022-02-13T05:19:57.978658Z",
     "iopub.status.busy": "2022-02-13T05:19:57.978000Z",
     "iopub.status.idle": "2022-02-13T05:19:57.983066Z",
     "shell.execute_reply": "2022-02-13T05:19:57.982525Z"
    }
   },
   "outputs": [],
   "source": [
    "JSON.print(OnePiece.extension.dataframe.map_to_column(da, [\"Column 3\", \"Column 2\"]), 3)"
   ]
  },
  {
   "cell_type": "markdown",
   "id": "3f396855",
   "metadata": {},
   "source": [
    "---"
   ]
  },
  {
   "cell_type": "code",
   "execution_count": null,
   "id": "b4af2023",
   "metadata": {
    "execution": {
     "iopub.execute_input": "2022-02-13T05:19:57.985708Z",
     "iopub.status.busy": "2022-02-13T05:19:57.984636Z",
     "iopub.status.idle": "2022-02-13T05:19:57.987948Z",
     "shell.execute_reply": "2022-02-13T05:19:57.987426Z"
    }
   },
   "outputs": [],
   "source": [
    "if isdir(TE)\n",
    "\n",
    "    rm(TE, recursive = true)\n",
    "\n",
    "    println(\"Removed \", TE, \".\")\n",
    "\n",
    "end"
   ]
  }
 ],
 "metadata": {
  "kernelspec": {
   "display_name": "Julia 1.7.2",
   "language": "julia",
   "name": "julia-1.7"
  },
  "language_info": {
   "file_extension": ".jl",
   "mimetype": "application/julia",
   "name": "julia",
   "version": "1.7.2"
  }
 },
 "nbformat": 4,
 "nbformat_minor": 5
}
