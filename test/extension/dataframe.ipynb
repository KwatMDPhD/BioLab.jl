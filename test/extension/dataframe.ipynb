{
 "cells": [
  {
   "cell_type": "code",
   "execution_count": null,
   "id": "017464da",
   "metadata": {
    "execution": {
     "iopub.execute_input": "2022-02-13T22:57:15.387923Z",
     "iopub.status.busy": "2022-02-13T22:57:15.059210Z",
     "iopub.status.idle": "2022-02-13T22:57:15.570709Z",
     "shell.execute_reply": "2022-02-13T22:57:15.570246Z"
    }
   },
   "outputs": [],
   "source": [
    "TE = joinpath(tempdir(), \"OnePiece.test\")\n",
    "\n",
    "if isdir(TE)\n",
    "\n",
    "    rm(TE, recursive = true)\n",
    "\n",
    "    println(\"Removed \", TE, \".\")\n",
    "\n",
    "end\n",
    "\n",
    "mkdir(TE)\n",
    "\n",
    "println(\"Made \", TE, \".\")"
   ]
  },
  {
   "cell_type": "code",
   "execution_count": null,
   "id": "34e4701e",
   "metadata": {
    "execution": {
     "iopub.execute_input": "2022-02-13T22:57:15.572803Z",
     "iopub.status.busy": "2022-02-13T22:57:15.572181Z",
     "iopub.status.idle": "2022-02-13T22:57:19.531971Z",
     "shell.execute_reply": "2022-02-13T22:57:19.531525Z"
    }
   },
   "outputs": [],
   "source": [
    "using OnePiece"
   ]
  },
  {
   "cell_type": "markdown",
   "id": "b92a3da9",
   "metadata": {},
   "source": [
    "---"
   ]
  },
  {
   "cell_type": "markdown",
   "id": "39171df7",
   "metadata": {},
   "source": [
    "## map_to_column"
   ]
  },
  {
   "cell_type": "code",
   "execution_count": null,
   "id": "f7c38fc6",
   "metadata": {
    "execution": {
     "iopub.execute_input": "2022-02-13T22:57:19.839313Z",
     "iopub.status.busy": "2022-02-13T22:57:19.533345Z",
     "iopub.status.idle": "2022-02-13T22:57:19.883847Z",
     "shell.execute_reply": "2022-02-13T22:57:19.883409Z"
    }
   },
   "outputs": [],
   "source": [
    "using DataFrames"
   ]
  },
  {
   "cell_type": "code",
   "execution_count": null,
   "id": "d863048a",
   "metadata": {
    "execution": {
     "iopub.execute_input": "2022-02-13T22:57:19.885697Z",
     "iopub.status.busy": "2022-02-13T22:57:19.885206Z",
     "iopub.status.idle": "2022-02-13T22:57:22.934154Z",
     "shell.execute_reply": "2022-02-13T22:57:22.933758Z"
    }
   },
   "outputs": [],
   "source": [
    "da = DataFrame(\n",
    "    \"Column 1\" => [\"hi\", \"hello\", \"howdy\"],\n",
    "    \"Column 2\" => [\"X\", \"Y\", \"Z\"],\n",
    "    \"Column 3\" => [\"luffy\", \"black jack\", \"oden\"],\n",
    ")"
   ]
  },
  {
   "cell_type": "code",
   "execution_count": null,
   "id": "d1492404",
   "metadata": {
    "execution": {
     "iopub.execute_input": "2022-02-13T22:57:22.936293Z",
     "iopub.status.busy": "2022-02-13T22:57:22.935563Z",
     "iopub.status.idle": "2022-02-13T22:57:22.937095Z",
     "shell.execute_reply": "2022-02-13T22:57:22.936731Z"
    }
   },
   "outputs": [],
   "source": [
    "using JSON"
   ]
  },
  {
   "cell_type": "code",
   "execution_count": null,
   "id": "1db03a1e",
   "metadata": {
    "execution": {
     "iopub.execute_input": "2022-02-13T22:57:22.939067Z",
     "iopub.status.busy": "2022-02-13T22:57:22.938513Z",
     "iopub.status.idle": "2022-02-13T22:57:23.700864Z",
     "shell.execute_reply": "2022-02-13T22:57:23.700528Z"
    }
   },
   "outputs": [],
   "source": [
    "JSON.print(OnePiece.extension.dataframe.map_to_column(da, [\"Column 1\", \"Column 3\", \"Column 2\"]), 2)"
   ]
  },
  {
   "cell_type": "code",
   "execution_count": null,
   "id": "51a921d7",
   "metadata": {
    "execution": {
     "iopub.execute_input": "2022-02-13T22:57:23.702966Z",
     "iopub.status.busy": "2022-02-13T22:57:23.702457Z",
     "iopub.status.idle": "2022-02-13T22:57:23.706628Z",
     "shell.execute_reply": "2022-02-13T22:57:23.706172Z"
    }
   },
   "outputs": [],
   "source": [
    "JSON.print(OnePiece.extension.dataframe.map_to_column(da, [\"Column 3\", \"Column 2\"]), 3)"
   ]
  },
  {
   "cell_type": "markdown",
   "id": "3f396855",
   "metadata": {},
   "source": [
    "---"
   ]
  },
  {
   "cell_type": "code",
   "execution_count": null,
   "id": "b4af2023",
   "metadata": {
    "execution": {
     "iopub.execute_input": "2022-02-13T22:57:23.709054Z",
     "iopub.status.busy": "2022-02-13T22:57:23.708208Z",
     "iopub.status.idle": "2022-02-13T22:57:23.710824Z",
     "shell.execute_reply": "2022-02-13T22:57:23.710461Z"
    }
   },
   "outputs": [],
   "source": [
    "if isdir(TE)\n",
    "\n",
    "    rm(TE, recursive = true)\n",
    "\n",
    "    println(\"Removed \", TE, \".\")\n",
    "\n",
    "end"
   ]
  }
 ],
 "metadata": {
  "kernelspec": {
   "display_name": "Julia 1.7.2",
   "language": "julia",
   "name": "julia-1.7"
  },
  "language_info": {
   "file_extension": ".jl",
   "mimetype": "application/julia",
   "name": "julia",
   "version": "1.7.2"
  }
 },
 "nbformat": 4,
 "nbformat_minor": 5
}
