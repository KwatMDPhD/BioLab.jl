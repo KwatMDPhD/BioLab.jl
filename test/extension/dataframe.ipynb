{
 "cells": [
  {
   "cell_type": "code",
   "execution_count": null,
   "id": "017464da",
   "metadata": {
    "execution": {
     "iopub.execute_input": "2022-02-13T05:32:13.501421Z",
     "iopub.status.busy": "2022-02-13T05:32:13.169193Z",
     "iopub.status.idle": "2022-02-13T05:32:13.681933Z",
     "shell.execute_reply": "2022-02-13T05:32:13.681443Z"
    }
   },
   "outputs": [],
   "source": [
    "TE = joinpath(tempdir(), \"OnePiece.test\")\n",
    "\n",
    "if isdir(TE)\n",
    "\n",
    "    rm(TE, recursive = true)\n",
    "\n",
    "    println(\"Removed \", TE, \".\")\n",
    "\n",
    "end\n",
    "\n",
    "mkdir(TE)\n",
    "\n",
    "println(\"Made \", TE, \".\")"
   ]
  },
  {
   "cell_type": "code",
   "execution_count": null,
   "id": "34e4701e",
   "metadata": {
    "execution": {
     "iopub.execute_input": "2022-02-13T05:32:13.683801Z",
     "iopub.status.busy": "2022-02-13T05:32:13.683290Z",
     "iopub.status.idle": "2022-02-13T05:32:17.639223Z",
     "shell.execute_reply": "2022-02-13T05:32:17.638756Z"
    }
   },
   "outputs": [],
   "source": [
    "using OnePiece"
   ]
  },
  {
   "cell_type": "markdown",
   "id": "b92a3da9",
   "metadata": {},
   "source": [
    "---"
   ]
  },
  {
   "cell_type": "markdown",
   "id": "39171df7",
   "metadata": {},
   "source": [
    "## map_to_column"
   ]
  },
  {
   "cell_type": "code",
   "execution_count": null,
   "id": "f7c38fc6",
   "metadata": {
    "execution": {
     "iopub.execute_input": "2022-02-13T05:32:17.935269Z",
     "iopub.status.busy": "2022-02-13T05:32:17.640597Z",
     "iopub.status.idle": "2022-02-13T05:32:17.980477Z",
     "shell.execute_reply": "2022-02-13T05:32:17.980095Z"
    }
   },
   "outputs": [],
   "source": [
    "using DataFrames"
   ]
  },
  {
   "cell_type": "code",
   "execution_count": null,
   "id": "d863048a",
   "metadata": {
    "execution": {
     "iopub.execute_input": "2022-02-13T05:32:17.982570Z",
     "iopub.status.busy": "2022-02-13T05:32:17.982039Z",
     "iopub.status.idle": "2022-02-13T05:32:21.178222Z",
     "shell.execute_reply": "2022-02-13T05:32:21.177754Z"
    }
   },
   "outputs": [],
   "source": [
    "da = DataFrame(\n",
    "    \"Column 1\" => [\"hi\", \"hello\", \"howdy\"],\n",
    "    \"Column 2\" => [\"X\", \"Y\", \"Z\"],\n",
    "    \"Column 3\" => [\"luffy\", \"black jack\", \"oden\"],\n",
    ")"
   ]
  },
  {
   "cell_type": "code",
   "execution_count": null,
   "id": "d1492404",
   "metadata": {
    "execution": {
     "iopub.execute_input": "2022-02-13T05:32:21.180251Z",
     "iopub.status.busy": "2022-02-13T05:32:21.179501Z",
     "iopub.status.idle": "2022-02-13T05:32:21.181230Z",
     "shell.execute_reply": "2022-02-13T05:32:21.180782Z"
    }
   },
   "outputs": [],
   "source": [
    "using JSON"
   ]
  },
  {
   "cell_type": "code",
   "execution_count": null,
   "id": "1db03a1e",
   "metadata": {
    "execution": {
     "iopub.execute_input": "2022-02-13T05:32:21.183033Z",
     "iopub.status.busy": "2022-02-13T05:32:21.182460Z",
     "iopub.status.idle": "2022-02-13T05:32:22.068138Z",
     "shell.execute_reply": "2022-02-13T05:32:22.067715Z"
    }
   },
   "outputs": [],
   "source": [
    "JSON.print(OnePiece.extension.dataframe.map_to_column(da, [\"Column 1\", \"Column 3\", \"Column 2\"]), 2)"
   ]
  },
  {
   "cell_type": "code",
   "execution_count": null,
   "id": "51a921d7",
   "metadata": {
    "execution": {
     "iopub.execute_input": "2022-02-13T05:32:22.070110Z",
     "iopub.status.busy": "2022-02-13T05:32:22.069524Z",
     "iopub.status.idle": "2022-02-13T05:32:22.073708Z",
     "shell.execute_reply": "2022-02-13T05:32:22.073292Z"
    }
   },
   "outputs": [],
   "source": [
    "JSON.print(OnePiece.extension.dataframe.map_to_column(da, [\"Column 3\", \"Column 2\"]), 3)"
   ]
  },
  {
   "cell_type": "markdown",
   "id": "3f396855",
   "metadata": {},
   "source": [
    "---"
   ]
  },
  {
   "cell_type": "code",
   "execution_count": null,
   "id": "b4af2023",
   "metadata": {
    "execution": {
     "iopub.execute_input": "2022-02-13T05:32:22.075636Z",
     "iopub.status.busy": "2022-02-13T05:32:22.075043Z",
     "iopub.status.idle": "2022-02-13T05:32:22.077508Z",
     "shell.execute_reply": "2022-02-13T05:32:22.077066Z"
    }
   },
   "outputs": [],
   "source": [
    "if isdir(TE)\n",
    "\n",
    "    rm(TE, recursive = true)\n",
    "\n",
    "    println(\"Removed \", TE, \".\")\n",
    "\n",
    "end"
   ]
  }
 ],
 "metadata": {
  "kernelspec": {
   "display_name": "Julia 1.7.2",
   "language": "julia",
   "name": "julia-1.7"
  },
  "language_info": {
   "file_extension": ".jl",
   "mimetype": "application/julia",
   "name": "julia",
   "version": "1.7.2"
  }
 },
 "nbformat": 4,
 "nbformat_minor": 5
}
