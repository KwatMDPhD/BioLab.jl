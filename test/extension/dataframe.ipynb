{
 "cells": [
  {
   "cell_type": "code",
   "execution_count": 1,
   "id": "34e4701e",
   "metadata": {
    "execution": {
     "iopub.execute_input": "2022-02-10T17:17:24.567665Z",
     "iopub.status.busy": "2022-02-10T17:17:24.156714Z",
     "iopub.status.idle": "2022-02-10T17:17:25.428706Z",
     "shell.execute_reply": "2022-02-10T17:17:25.428186Z"
    }
   },
   "outputs": [],
   "source": [
    "using Revise\n",
    "using BenchmarkTools"
   ]
  },
  {
   "cell_type": "code",
   "execution_count": 2,
   "id": "23b98853",
   "metadata": {
    "execution": {
     "iopub.execute_input": "2022-02-10T17:17:25.430873Z",
     "iopub.status.busy": "2022-02-10T17:17:25.430171Z",
     "iopub.status.idle": "2022-02-10T17:17:30.780981Z",
     "shell.execute_reply": "2022-02-10T17:17:30.780575Z"
    }
   },
   "outputs": [],
   "source": [
    "using DataFrames\n",
    "using JSON\n",
    "\n",
    "using OnePiece"
   ]
  },
  {
   "cell_type": "markdown",
   "id": "39171df7",
   "metadata": {},
   "source": [
    "## map_to_column"
   ]
  },
  {
   "cell_type": "code",
   "execution_count": 3,
   "id": "d863048a",
   "metadata": {
    "execution": {
     "iopub.execute_input": "2022-02-10T17:17:31.118685Z",
     "iopub.status.busy": "2022-02-10T17:17:30.782308Z",
     "iopub.status.idle": "2022-02-10T17:17:35.539206Z",
     "shell.execute_reply": "2022-02-10T17:17:35.538814Z"
    }
   },
   "outputs": [
    {
     "data": {
      "text/html": [
       "<div class=\"data-frame\"><p>3 rows × 3 columns</p><table class=\"data-frame\"><thead><tr><th></th><th>Column 1</th><th>Column 2</th><th>Column 3</th></tr><tr><th></th><th title=\"String\">String</th><th title=\"String\">String</th><th title=\"String\">String</th></tr></thead><tbody><tr><th>1</th><td>hi</td><td>X</td><td>luffy</td></tr><tr><th>2</th><td>hello</td><td>Y</td><td>black jack</td></tr><tr><th>3</th><td>howdy</td><td>Z</td><td>oden</td></tr></tbody></table></div>"
      ],
      "text/latex": [
       "\\begin{tabular}{r|ccc}\n",
       "\t& Column 1 & Column 2 & Column 3\\\\\n",
       "\t\\hline\n",
       "\t& String & String & String\\\\\n",
       "\t\\hline\n",
       "\t1 & hi & X & luffy \\\\\n",
       "\t2 & hello & Y & black jack \\\\\n",
       "\t3 & howdy & Z & oden \\\\\n",
       "\\end{tabular}\n"
      ],
      "text/plain": [
       "\u001b[1m3×3 DataFrame\u001b[0m\n",
       "\u001b[1m Row \u001b[0m│\u001b[1m Column 1 \u001b[0m\u001b[1m Column 2 \u001b[0m\u001b[1m Column 3   \u001b[0m\n",
       "\u001b[1m     \u001b[0m│\u001b[90m String   \u001b[0m\u001b[90m String   \u001b[0m\u001b[90m String     \u001b[0m\n",
       "─────┼────────────────────────────────\n",
       "   1 │ hi        X         luffy\n",
       "   2 │ hello     Y         black jack\n",
       "   3 │ howdy     Z         oden"
      ]
     },
     "execution_count": 3,
     "metadata": {},
     "output_type": "execute_result"
    }
   ],
   "source": [
    "da = DataFrame(\n",
    "    \"Column 1\" => [\"hi\", \"hello\", \"howdy\"],\n",
    "    \"Column 2\" => [\"X\", \"Y\", \"Z\"],\n",
    "    \"Column 3\" => [\"luffy\", \"black jack\", \"oden\"],\n",
    ")"
   ]
  },
  {
   "cell_type": "code",
   "execution_count": 4,
   "id": "1db03a1e",
   "metadata": {
    "execution": {
     "iopub.execute_input": "2022-02-10T17:17:35.541282Z",
     "iopub.status.busy": "2022-02-10T17:17:35.540781Z",
     "iopub.status.idle": "2022-02-10T17:17:36.400194Z",
     "shell.execute_reply": "2022-02-10T17:17:36.399744Z"
    }
   },
   "outputs": [
    {
     "name": "stdout",
     "output_type": "stream",
     "text": [
      "9 keys and 3 unique values\n",
      "Y => Y\n",
      "Z => Z\n",
      "black jack => Y\n",
      "...\n",
      "{\n",
      "  \"Y\": \"Y\",\n",
      "  \"Z\": \"Z\",\n",
      "  \"black jack\": \"Y\",\n",
      "  \"oden\": \"Z\",\n",
      "  \"X\": \"X\",\n",
      "  \"hi\": \"X\",\n",
      "  \"hello\": \"Y\",\n",
      "  \"howdy\": \"Z\",\n",
      "  \"luffy\": \"X\"\n",
      "}\n"
     ]
    }
   ],
   "source": [
    "JSON.print(OnePiece.extension.dataframe.map_to_column(da, [\"Column 1\", \"Column 3\", \"Column 2\"]), 2)"
   ]
  },
  {
   "cell_type": "code",
   "execution_count": 5,
   "id": "51a921d7",
   "metadata": {
    "execution": {
     "iopub.execute_input": "2022-02-10T17:17:36.402195Z",
     "iopub.status.busy": "2022-02-10T17:17:36.401698Z",
     "iopub.status.idle": "2022-02-10T17:17:36.418248Z",
     "shell.execute_reply": "2022-02-10T17:17:36.417894Z"
    }
   },
   "outputs": [
    {
     "name": "stdout",
     "output_type": "stream",
     "text": [
      "6 keys and 3 unique values\n",
      "Y => Y\n",
      "Z => Z\n",
      "black jack => Y\n",
      "...\n",
      "{\n",
      "   \"Y\": \"Y\",\n",
      "   \"Z\": \"Z\",\n",
      "   \"black jack\": \"Y\",\n",
      "   \"oden\": \"Z\",\n",
      "   \"X\": \"X\",\n",
      "   \"luffy\": \"X\"\n",
      "}\n"
     ]
    }
   ],
   "source": [
    "JSON.print(OnePiece.extension.dataframe.map_to_column(da, [\"Column 3\", \"Column 2\"]), 3)"
   ]
  }
 ],
 "metadata": {
  "@webio": {
   "lastCommId": null,
   "lastKernelId": null
  },
  "kernelspec": {
   "display_name": "Julia 1.7.2",
   "language": "julia",
   "name": "julia-1.7"
  },
  "language_info": {
   "file_extension": ".jl",
   "mimetype": "application/julia",
   "name": "julia",
   "version": "1.7.2"
  }
 },
 "nbformat": 4,
 "nbformat_minor": 5
}
