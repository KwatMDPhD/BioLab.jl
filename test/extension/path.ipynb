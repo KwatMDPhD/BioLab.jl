{
 "cells": [
  {
   "cell_type": "code",
   "execution_count": null,
   "id": "017464da",
   "metadata": {
    "execution": {
     "iopub.execute_input": "2022-02-14T17:01:56.102969Z",
     "iopub.status.busy": "2022-02-14T17:01:55.716005Z",
     "iopub.status.idle": "2022-02-14T17:01:56.315366Z",
     "shell.execute_reply": "2022-02-14T17:01:56.314710Z"
    }
   },
   "outputs": [],
   "source": [
    "TE = joinpath(tempdir(), \"OnePiece.test\")\n",
    "\n",
    "if isdir(TE)\n",
    "\n",
    "    rm(TE, recursive = true)\n",
    "\n",
    "    println(\"Removed \", TE, \".\")\n",
    "\n",
    "end\n",
    "\n",
    "mkdir(TE)\n",
    "\n",
    "println(\"Made \", TE, \".\")"
   ]
  },
  {
   "cell_type": "code",
   "execution_count": null,
   "id": "34e4701e",
   "metadata": {
    "execution": {
     "iopub.execute_input": "2022-02-14T17:01:56.317290Z",
     "iopub.status.busy": "2022-02-14T17:01:56.316701Z",
     "iopub.status.idle": "2022-02-14T17:02:00.696665Z",
     "shell.execute_reply": "2022-02-14T17:02:00.696210Z"
    }
   },
   "outputs": [],
   "source": [
    "using OnePiece"
   ]
  },
  {
   "cell_type": "markdown",
   "id": "b92a3da9",
   "metadata": {},
   "source": [
    "---"
   ]
  },
  {
   "cell_type": "markdown",
   "id": "174f3b9b",
   "metadata": {
    "execution": {
     "iopub.execute_input": "2021-10-14T18:25:54.055222Z",
     "iopub.status.busy": "2021-10-14T18:25:53.342490Z",
     "iopub.status.idle": "2021-10-14T18:26:10.352867Z",
     "shell.execute_reply": "2021-10-14T18:26:10.352370Z"
    }
   },
   "source": [
    "## shorten"
   ]
  },
  {
   "cell_type": "code",
   "execution_count": null,
   "id": "685c8b90",
   "metadata": {
    "execution": {
     "iopub.execute_input": "2022-02-14T17:02:01.022465Z",
     "iopub.status.busy": "2022-02-14T17:02:00.697944Z",
     "iopub.status.idle": "2022-02-14T17:02:01.656182Z",
     "shell.execute_reply": "2022-02-14T17:02:01.655628Z"
    }
   },
   "outputs": [],
   "source": [
    "pa = pwd()"
   ]
  },
  {
   "cell_type": "code",
   "execution_count": null,
   "id": "e40c9529",
   "metadata": {
    "execution": {
     "iopub.execute_input": "2022-02-14T17:02:01.658145Z",
     "iopub.status.busy": "2022-02-14T17:02:01.657643Z",
     "iopub.status.idle": "2022-02-14T17:02:02.162640Z",
     "shell.execute_reply": "2022-02-14T17:02:02.162250Z"
    }
   },
   "outputs": [],
   "source": [
    "try\n",
    "\n",
    "    OnePiece.extension.path.shorten(pa, \"Shanks\")\n",
    "\n",
    "catch er\n",
    "\n",
    "    er\n",
    "\n",
    "end"
   ]
  },
  {
   "cell_type": "code",
   "execution_count": null,
   "id": "f8f20090",
   "metadata": {
    "execution": {
     "iopub.execute_input": "2022-02-14T17:02:02.165018Z",
     "iopub.status.busy": "2022-02-14T17:02:02.164292Z",
     "iopub.status.idle": "2022-02-14T17:02:02.189361Z",
     "shell.execute_reply": "2022-02-14T17:02:02.188918Z"
    }
   },
   "outputs": [],
   "source": [
    "for n_ba in [2, 1]\n",
    "\n",
    "    println(OnePiece.extension.path.shorten(pa, n_ba))\n",
    "\n",
    "end"
   ]
  },
  {
   "cell_type": "code",
   "execution_count": null,
   "id": "9881c454",
   "metadata": {
    "execution": {
     "iopub.execute_input": "2022-02-14T17:02:02.191185Z",
     "iopub.status.busy": "2022-02-14T17:02:02.190684Z",
     "iopub.status.idle": "2022-02-14T17:02:02.202050Z",
     "shell.execute_reply": "2022-02-14T17:02:02.201598Z"
    }
   },
   "outputs": [],
   "source": [
    "for di in [\"OnePiece.jl\", \"test\", \"OnePiece.jl/test\", \"extension\"]\n",
    "\n",
    "    println(OnePiece.extension.path.shorten(pa, di))\n",
    "\n",
    "end"
   ]
  },
  {
   "cell_type": "markdown",
   "id": "4f0f34f4",
   "metadata": {
    "execution": {
     "iopub.execute_input": "2021-10-14T18:25:54.055222Z",
     "iopub.status.busy": "2021-10-14T18:25:53.342490Z",
     "iopub.status.idle": "2021-10-14T18:26:10.352867Z",
     "shell.execute_reply": "2021-10-14T18:26:10.352370Z"
    }
   },
   "source": [
    "## clean"
   ]
  },
  {
   "cell_type": "code",
   "execution_count": null,
   "id": "9c1753ae",
   "metadata": {
    "execution": {
     "iopub.execute_input": "2022-02-14T17:02:02.204218Z",
     "iopub.status.busy": "2022-02-14T17:02:02.203527Z",
     "iopub.status.idle": "2022-02-14T17:02:02.210525Z",
     "shell.execute_reply": "2022-02-14T17:02:02.210122Z"
    }
   },
   "outputs": [],
   "source": [
    "OnePiece.extension.path.clean(\"a_b.c-d+e!f%g%h]iJK\")"
   ]
  },
  {
   "cell_type": "markdown",
   "id": "bcf7707b",
   "metadata": {
    "execution": {
     "iopub.execute_input": "2021-10-14T18:25:54.055222Z",
     "iopub.status.busy": "2021-10-14T18:25:53.342490Z",
     "iopub.status.idle": "2021-10-14T18:26:10.352867Z",
     "shell.execute_reply": "2021-10-14T18:26:10.352370Z"
    }
   },
   "source": [
    "## make_absolute"
   ]
  },
  {
   "cell_type": "code",
   "execution_count": null,
   "id": "b861b0f9",
   "metadata": {
    "execution": {
     "iopub.execute_input": "2022-02-14T17:02:02.212631Z",
     "iopub.status.busy": "2022-02-14T17:02:02.211936Z",
     "iopub.status.idle": "2022-02-14T17:02:02.226315Z",
     "shell.execute_reply": "2022-02-14T17:02:02.225936Z"
    }
   },
   "outputs": [],
   "source": [
    "for pa in [\"~/file\", \"~/directory/\"]\n",
    "\n",
    "    println(OnePiece.extension.path.make_absolute(pa))\n",
    "\n",
    "end"
   ]
  },
  {
   "cell_type": "markdown",
   "id": "53c74cab",
   "metadata": {},
   "source": [
    "## remove_extension"
   ]
  },
  {
   "cell_type": "code",
   "execution_count": null,
   "id": "f701b595",
   "metadata": {
    "execution": {
     "iopub.execute_input": "2022-02-14T17:02:02.228319Z",
     "iopub.status.busy": "2022-02-14T17:02:02.227825Z",
     "iopub.status.idle": "2022-02-14T17:02:02.231889Z",
     "shell.execute_reply": "2022-02-14T17:02:02.231499Z"
    }
   },
   "outputs": [],
   "source": [
    "OnePiece.extension.path.remove_extension(\"/path/to/a/file.extension\")"
   ]
  },
  {
   "cell_type": "code",
   "execution_count": null,
   "id": "ec900856",
   "metadata": {
    "execution": {
     "iopub.execute_input": "2022-02-14T17:02:02.234412Z",
     "iopub.status.busy": "2022-02-14T17:02:02.233504Z",
     "iopub.status.idle": "2022-02-14T17:02:02.235980Z",
     "shell.execute_reply": "2022-02-14T17:02:02.234986Z"
    }
   },
   "outputs": [],
   "source": [
    "OnePiece.extension.path.remove_extension(\"/path/to/a/file\")"
   ]
  },
  {
   "cell_type": "code",
   "execution_count": null,
   "id": "9dc8a8bd",
   "metadata": {
    "execution": {
     "iopub.execute_input": "2022-02-14T17:02:02.238009Z",
     "iopub.status.busy": "2022-02-14T17:02:02.237282Z",
     "iopub.status.idle": "2022-02-14T17:02:02.239493Z",
     "shell.execute_reply": "2022-02-14T17:02:02.238454Z"
    }
   },
   "outputs": [],
   "source": [
    "OnePiece.extension.path.remove_extension(\"/path/to/a/directory/\")"
   ]
  },
  {
   "cell_type": "markdown",
   "id": "7670ee74",
   "metadata": {
    "execution": {
     "iopub.execute_input": "2021-10-14T18:25:54.055222Z",
     "iopub.status.busy": "2021-10-14T18:25:53.342490Z",
     "iopub.status.idle": "2021-10-14T18:26:10.352867Z",
     "shell.execute_reply": "2021-10-14T18:26:10.352370Z"
    }
   },
   "source": [
    "## select"
   ]
  },
  {
   "cell_type": "code",
   "execution_count": null,
   "id": "9304e507",
   "metadata": {
    "execution": {
     "iopub.execute_input": "2022-02-14T17:02:02.241763Z",
     "iopub.status.busy": "2022-02-14T17:02:02.241087Z",
     "iopub.status.idle": "2022-02-14T17:02:02.242616Z",
     "shell.execute_reply": "2022-02-14T17:02:02.242226Z"
    }
   },
   "outputs": [],
   "source": [
    "di = homedir()\n",
    "\n",
    ";"
   ]
  },
  {
   "cell_type": "code",
   "execution_count": null,
   "id": "402bdee9",
   "metadata": {
    "execution": {
     "iopub.execute_input": "2022-02-14T17:02:02.244456Z",
     "iopub.status.busy": "2022-02-14T17:02:02.243916Z",
     "iopub.status.idle": "2022-02-14T17:02:03.044332Z",
     "shell.execute_reply": "2022-02-14T17:02:03.043884Z"
    }
   },
   "outputs": [],
   "source": [
    "OnePiece.extension.path.select(di)"
   ]
  },
  {
   "cell_type": "code",
   "execution_count": null,
   "id": "fcb166f2",
   "metadata": {
    "execution": {
     "iopub.execute_input": "2022-02-14T17:02:03.046193Z",
     "iopub.status.busy": "2022-02-14T17:02:03.045623Z",
     "iopub.status.idle": "2022-02-14T17:02:03.097694Z",
     "shell.execute_reply": "2022-02-14T17:02:03.097251Z"
    }
   },
   "outputs": [],
   "source": [
    "OnePiece.extension.path.select(di; ig_ = [], ke_ = [r\"^\\.\"], jo = false)"
   ]
  },
  {
   "cell_type": "markdown",
   "id": "d8111d32",
   "metadata": {},
   "source": [
    "## error_missing_path"
   ]
  },
  {
   "cell_type": "code",
   "execution_count": null,
   "id": "aeefbc77",
   "metadata": {
    "execution": {
     "iopub.execute_input": "2022-02-14T17:02:03.100089Z",
     "iopub.status.busy": "2022-02-14T17:02:03.099272Z",
     "iopub.status.idle": "2022-02-14T17:02:03.101923Z",
     "shell.execute_reply": "2022-02-14T17:02:03.100642Z"
    }
   },
   "outputs": [],
   "source": [
    "go = \"extension/path.ipynb\""
   ]
  },
  {
   "cell_type": "code",
   "execution_count": null,
   "id": "1cf0d05a",
   "metadata": {
    "execution": {
     "iopub.execute_input": "2022-02-14T17:02:03.103882Z",
     "iopub.status.busy": "2022-02-14T17:02:03.103238Z",
     "iopub.status.idle": "2022-02-14T17:02:03.120760Z",
     "shell.execute_reply": "2022-02-14T17:02:03.120261Z"
    }
   },
   "outputs": [],
   "source": [
    "OnePiece.extension.path.error_missing_path(dirname(@__DIR__), [go])"
   ]
  },
  {
   "cell_type": "code",
   "execution_count": null,
   "id": "fb80aeb5",
   "metadata": {
    "execution": {
     "iopub.execute_input": "2022-02-14T17:02:03.122624Z",
     "iopub.status.busy": "2022-02-14T17:02:03.122058Z",
     "iopub.status.idle": "2022-02-14T17:02:03.151883Z",
     "shell.execute_reply": "2022-02-14T17:02:03.151423Z"
    }
   },
   "outputs": [],
   "source": [
    "try\n",
    "\n",
    "    OnePiece.extension.path.error_missing_path(\n",
    "        dirname(@__DIR__),\n",
    "        [go, \"missing/file\", \"missing/directory/\"],\n",
    "    )\n",
    "\n",
    "catch er\n",
    "\n",
    "    er\n",
    "\n",
    "end"
   ]
  },
  {
   "cell_type": "markdown",
   "id": "d120dae4",
   "metadata": {},
   "source": [
    "## error_extension"
   ]
  },
  {
   "cell_type": "code",
   "execution_count": null,
   "id": "5551c780",
   "metadata": {
    "execution": {
     "iopub.execute_input": "2022-02-14T17:02:03.153837Z",
     "iopub.status.busy": "2022-02-14T17:02:03.153267Z",
     "iopub.status.idle": "2022-02-14T17:02:03.157693Z",
     "shell.execute_reply": "2022-02-14T17:02:03.157200Z"
    }
   },
   "outputs": [],
   "source": [
    "OnePiece.extension.path.error_extension(\"file.extension\", \".extension\")"
   ]
  },
  {
   "cell_type": "code",
   "execution_count": null,
   "id": "9b7bcf9e",
   "metadata": {
    "execution": {
     "iopub.execute_input": "2022-02-14T17:02:03.159535Z",
     "iopub.status.busy": "2022-02-14T17:02:03.158957Z",
     "iopub.status.idle": "2022-02-14T17:02:04.055534Z",
     "shell.execute_reply": "2022-02-14T17:02:04.055108Z"
    }
   },
   "outputs": [],
   "source": [
    "for ex in [\"extension\", \".another_extension\"]\n",
    "\n",
    "    try\n",
    "\n",
    "        OnePiece.extension.path.error_extension(\"file.extension\", ex)\n",
    "\n",
    "    catch er\n",
    "\n",
    "        println(er)\n",
    "\n",
    "    end\n",
    "\n",
    "end"
   ]
  },
  {
   "cell_type": "markdown",
   "id": "0ccb2bfe",
   "metadata": {
    "execution": {
     "iopub.execute_input": "2021-10-14T18:25:54.055222Z",
     "iopub.status.busy": "2021-10-14T18:25:53.342490Z",
     "iopub.status.idle": "2021-10-14T18:26:10.352867Z",
     "shell.execute_reply": "2021-10-14T18:26:10.352370Z"
    }
   },
   "source": [
    "## move"
   ]
  },
  {
   "cell_type": "code",
   "execution_count": null,
   "id": "d86d391b",
   "metadata": {
    "execution": {
     "iopub.execute_input": "2022-02-14T17:02:04.057568Z",
     "iopub.status.busy": "2022-02-14T17:02:04.056971Z",
     "iopub.status.idle": "2022-02-14T17:02:04.090005Z",
     "shell.execute_reply": "2022-02-14T17:02:04.089574Z"
    }
   },
   "outputs": [],
   "source": [
    "te = joinpath(tempdir(), \"move\")\n",
    "\n",
    "di1 = mkpath(joinpath(te, \"di1\"))\n",
    "\n",
    "di2 = mkpath(joinpath(te, \"di2\"))\n",
    "\n",
    "di3 = mkpath(joinpath(te, \"di3\"))\n",
    "\n",
    "fi1 = joinpath(di1, \"fi1\")\n",
    "\n",
    "fi2 = joinpath(di2, \"fi2\")\n",
    "\n",
    "touch(fi1)\n",
    "\n",
    "touch(fi2)\n",
    "\n",
    "run(`tree $te`)\n",
    "\n",
    ";"
   ]
  },
  {
   "cell_type": "code",
   "execution_count": null,
   "id": "caf10005",
   "metadata": {
    "execution": {
     "iopub.execute_input": "2022-02-14T17:02:04.092154Z",
     "iopub.status.busy": "2022-02-14T17:02:04.091585Z",
     "iopub.status.idle": "2022-02-14T17:02:04.279385Z",
     "shell.execute_reply": "2022-02-14T17:02:04.278963Z"
    }
   },
   "outputs": [],
   "source": [
    "fi12 = replace(fi1, \"di1\" => \"di3\")\n",
    "\n",
    "println(OnePiece.extension.path.move(fi1, fi12))\n",
    "\n",
    "run(`tree $te`)\n",
    "\n",
    ";"
   ]
  },
  {
   "cell_type": "code",
   "execution_count": null,
   "id": "37ab766d",
   "metadata": {
    "execution": {
     "iopub.execute_input": "2022-02-14T17:02:04.281465Z",
     "iopub.status.busy": "2022-02-14T17:02:04.280885Z",
     "iopub.status.idle": "2022-02-14T17:02:04.543759Z",
     "shell.execute_reply": "2022-02-14T17:02:04.543308Z"
    }
   },
   "outputs": [],
   "source": [
    "try\n",
    "\n",
    "    OnePiece.extension.path.move(di2, di3)\n",
    "\n",
    "catch er\n",
    "\n",
    "    er\n",
    "\n",
    "end"
   ]
  },
  {
   "cell_type": "code",
   "execution_count": null,
   "id": "a2b758c5",
   "metadata": {
    "execution": {
     "iopub.execute_input": "2022-02-14T17:02:04.545673Z",
     "iopub.status.busy": "2022-02-14T17:02:04.545102Z",
     "iopub.status.idle": "2022-02-14T17:02:04.568917Z",
     "shell.execute_reply": "2022-02-14T17:02:04.569288Z"
    }
   },
   "outputs": [],
   "source": [
    "println(OnePiece.extension.path.move(di2, di3; fo = true))\n",
    "\n",
    "run(`tree $te`)\n",
    "\n",
    ";"
   ]
  },
  {
   "cell_type": "markdown",
   "id": "864df5b3",
   "metadata": {},
   "source": [
    "## sed_recursively"
   ]
  },
  {
   "cell_type": "code",
   "execution_count": null,
   "id": "afc362c3",
   "metadata": {
    "execution": {
     "iopub.execute_input": "2022-02-14T17:02:04.571655Z",
     "iopub.status.busy": "2022-02-14T17:02:04.571086Z",
     "iopub.status.idle": "2022-02-14T17:02:04.597332Z",
     "shell.execute_reply": "2022-02-14T17:02:04.596918Z"
    }
   },
   "outputs": [],
   "source": [
    "fi1 = joinpath(te, \"fi1\")\n",
    "\n",
    "fi2 = joinpath(te, \"fi2\")\n",
    "\n",
    "open(fi1, \"w\") do io\n",
    "\n",
    "    write(io, \"Before\")\n",
    "\n",
    "end\n",
    "\n",
    "open(fi2, \"w\") do io\n",
    "\n",
    "    write(io, \"BeforeBefore\")\n",
    "\n",
    "end\n",
    "\n",
    "println(readline(open(fi1)))\n",
    "\n",
    "println(readline(open(fi2)))\n",
    "\n",
    ";"
   ]
  },
  {
   "cell_type": "code",
   "execution_count": null,
   "id": "4098503b",
   "metadata": {
    "execution": {
     "iopub.execute_input": "2022-02-14T17:02:04.599420Z",
     "iopub.status.busy": "2022-02-14T17:02:04.598715Z",
     "iopub.status.idle": "2022-02-14T17:02:04.804178Z",
     "shell.execute_reply": "2022-02-14T17:02:04.803069Z"
    }
   },
   "outputs": [],
   "source": [
    "OnePiece.extension.path.sed_recursively(te, [\"Before\" => \"After\"])\n",
    "\n",
    "println(readline(open(fi1)))\n",
    "\n",
    "println(readline(open(fi2)))"
   ]
  },
  {
   "cell_type": "markdown",
   "id": "3f396855",
   "metadata": {},
   "source": [
    "---"
   ]
  },
  {
   "cell_type": "code",
   "execution_count": null,
   "id": "b4af2023",
   "metadata": {
    "execution": {
     "iopub.execute_input": "2022-02-14T17:02:04.806070Z",
     "iopub.status.busy": "2022-02-14T17:02:04.805495Z",
     "iopub.status.idle": "2022-02-14T17:02:04.807608Z",
     "shell.execute_reply": "2022-02-14T17:02:04.807980Z"
    }
   },
   "outputs": [],
   "source": [
    "if isdir(TE)\n",
    "\n",
    "    rm(TE, recursive = true)\n",
    "\n",
    "    println(\"Removed \", TE, \".\")\n",
    "\n",
    "end"
   ]
  }
 ],
 "metadata": {
  "kernelspec": {
   "display_name": "Julia 1.7.2",
   "language": "julia",
   "name": "julia-1.7"
  },
  "language_info": {
   "file_extension": ".jl",
   "mimetype": "application/julia",
   "name": "julia",
   "version": "1.7.2"
  }
 },
 "nbformat": 4,
 "nbformat_minor": 5
}
