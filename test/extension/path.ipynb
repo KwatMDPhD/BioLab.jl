{
 "cells": [
  {
   "cell_type": "code",
   "execution_count": null,
   "id": "34e4701e",
   "metadata": {
    "execution": {
     "iopub.execute_input": "2022-02-09T00:02:33.678182Z",
     "iopub.status.busy": "2022-02-09T00:02:33.316250Z",
     "iopub.status.idle": "2022-02-09T00:02:34.598480Z",
     "shell.execute_reply": "2022-02-09T00:02:34.597972Z"
    }
   },
   "outputs": [],
   "source": [
    "using Revise\n",
    "using BenchmarkTools"
   ]
  },
  {
   "cell_type": "code",
   "execution_count": null,
   "id": "871c335e",
   "metadata": {
    "execution": {
     "iopub.execute_input": "2022-02-09T00:02:34.600320Z",
     "iopub.status.busy": "2022-02-09T00:02:34.599789Z",
     "iopub.status.idle": "2022-02-09T00:02:45.193115Z",
     "shell.execute_reply": "2022-02-09T00:02:45.192582Z"
    }
   },
   "outputs": [],
   "source": [
    "using OnePiece"
   ]
  },
  {
   "cell_type": "markdown",
   "id": "174f3b9b",
   "metadata": {
    "execution": {
     "iopub.execute_input": "2021-10-14T18:25:54.055222Z",
     "iopub.status.busy": "2021-10-14T18:25:53.342490Z",
     "iopub.status.idle": "2021-10-14T18:26:10.352867Z",
     "shell.execute_reply": "2021-10-14T18:26:10.352370Z"
    }
   },
   "source": [
    "## shorten"
   ]
  },
  {
   "cell_type": "code",
   "execution_count": null,
   "id": "685c8b90",
   "metadata": {
    "execution": {
     "iopub.execute_input": "2022-02-09T00:02:46.905515Z",
     "iopub.status.busy": "2022-02-09T00:02:45.194572Z",
     "iopub.status.idle": "2022-02-09T00:02:48.093911Z",
     "shell.execute_reply": "2022-02-09T00:02:48.093497Z"
    }
   },
   "outputs": [],
   "source": [
    "pa = pwd()"
   ]
  },
  {
   "cell_type": "code",
   "execution_count": null,
   "id": "e40c9529",
   "metadata": {
    "execution": {
     "iopub.execute_input": "2022-02-09T00:02:48.095832Z",
     "iopub.status.busy": "2022-02-09T00:02:48.095256Z",
     "iopub.status.idle": "2022-02-09T00:02:48.463633Z",
     "shell.execute_reply": "2022-02-09T00:02:48.463178Z"
    }
   },
   "outputs": [],
   "source": [
    "try\n",
    "\n",
    "    OnePiece.extension.path.shorten(pa, \"Shanks\")\n",
    "\n",
    "catch er\n",
    "\n",
    "    er\n",
    "\n",
    "end"
   ]
  },
  {
   "cell_type": "code",
   "execution_count": null,
   "id": "f8f20090",
   "metadata": {
    "execution": {
     "iopub.execute_input": "2022-02-09T00:02:48.465547Z",
     "iopub.status.busy": "2022-02-09T00:02:48.464959Z",
     "iopub.status.idle": "2022-02-09T00:02:48.518019Z",
     "shell.execute_reply": "2022-02-09T00:02:48.517435Z"
    }
   },
   "outputs": [],
   "source": [
    "for n_ba in [2, 1]\n",
    "\n",
    "    println(OnePiece.extension.path.shorten(pa, n_ba))\n",
    "\n",
    "end"
   ]
  },
  {
   "cell_type": "code",
   "execution_count": null,
   "id": "9881c454",
   "metadata": {
    "execution": {
     "iopub.execute_input": "2022-02-09T00:02:48.520013Z",
     "iopub.status.busy": "2022-02-09T00:02:48.519328Z",
     "iopub.status.idle": "2022-02-09T00:02:48.545053Z",
     "shell.execute_reply": "2022-02-09T00:02:48.544622Z"
    }
   },
   "outputs": [],
   "source": [
    "for di in [\"OnePiece.jl\", \"test\", \"OnePiece.jl/test\", \"extension\"]\n",
    "\n",
    "    println(OnePiece.extension.path.shorten(pa, di))\n",
    "\n",
    "end"
   ]
  },
  {
   "cell_type": "markdown",
   "id": "4f0f34f4",
   "metadata": {
    "execution": {
     "iopub.execute_input": "2021-10-14T18:25:54.055222Z",
     "iopub.status.busy": "2021-10-14T18:25:53.342490Z",
     "iopub.status.idle": "2021-10-14T18:26:10.352867Z",
     "shell.execute_reply": "2021-10-14T18:26:10.352370Z"
    }
   },
   "source": [
    "## clean"
   ]
  },
  {
   "cell_type": "code",
   "execution_count": null,
   "id": "9c1753ae",
   "metadata": {
    "execution": {
     "iopub.execute_input": "2022-02-09T00:02:48.547071Z",
     "iopub.status.busy": "2022-02-09T00:02:48.546482Z",
     "iopub.status.idle": "2022-02-09T00:02:48.583009Z",
     "shell.execute_reply": "2022-02-09T00:02:48.582547Z"
    }
   },
   "outputs": [],
   "source": [
    "OnePiece.extension.path.clean(\"a_b.c-d+e!f%g%h]iJK\")"
   ]
  },
  {
   "cell_type": "markdown",
   "id": "bcf7707b",
   "metadata": {
    "execution": {
     "iopub.execute_input": "2021-10-14T18:25:54.055222Z",
     "iopub.status.busy": "2021-10-14T18:25:53.342490Z",
     "iopub.status.idle": "2021-10-14T18:26:10.352867Z",
     "shell.execute_reply": "2021-10-14T18:26:10.352370Z"
    }
   },
   "source": [
    "## make_absolute"
   ]
  },
  {
   "cell_type": "code",
   "execution_count": null,
   "id": "b861b0f9",
   "metadata": {
    "execution": {
     "iopub.execute_input": "2022-02-09T00:02:48.585018Z",
     "iopub.status.busy": "2022-02-09T00:02:48.584441Z",
     "iopub.status.idle": "2022-02-09T00:02:48.649948Z",
     "shell.execute_reply": "2022-02-09T00:02:48.649466Z"
    }
   },
   "outputs": [],
   "source": [
    "for pa in [\"~/file\", \"~/directory/\"]\n",
    "\n",
    "    println(OnePiece.extension.path.make_absolute(pa))\n",
    "\n",
    "end"
   ]
  },
  {
   "cell_type": "markdown",
   "id": "53c74cab",
   "metadata": {},
   "source": [
    "## remove_extension"
   ]
  },
  {
   "cell_type": "code",
   "execution_count": null,
   "id": "f701b595",
   "metadata": {
    "execution": {
     "iopub.execute_input": "2022-02-09T00:02:48.652302Z",
     "iopub.status.busy": "2022-02-09T00:02:48.651610Z",
     "iopub.status.idle": "2022-02-09T00:02:48.668521Z",
     "shell.execute_reply": "2022-02-09T00:02:48.667961Z"
    }
   },
   "outputs": [],
   "source": [
    "OnePiece.extension.path.remove_extension(\"/path/to/a/file.extension\")"
   ]
  },
  {
   "cell_type": "code",
   "execution_count": null,
   "id": "ec900856",
   "metadata": {
    "execution": {
     "iopub.execute_input": "2022-02-09T00:02:48.670597Z",
     "iopub.status.busy": "2022-02-09T00:02:48.669950Z",
     "iopub.status.idle": "2022-02-09T00:02:48.684646Z",
     "shell.execute_reply": "2022-02-09T00:02:48.684114Z"
    }
   },
   "outputs": [],
   "source": [
    "OnePiece.extension.path.remove_extension(\"/path/to/a/file\")"
   ]
  },
  {
   "cell_type": "code",
   "execution_count": null,
   "id": "9dc8a8bd",
   "metadata": {
    "execution": {
     "iopub.execute_input": "2022-02-09T00:02:48.686985Z",
     "iopub.status.busy": "2022-02-09T00:02:48.686173Z",
     "iopub.status.idle": "2022-02-09T00:02:48.700538Z",
     "shell.execute_reply": "2022-02-09T00:02:48.700013Z"
    }
   },
   "outputs": [],
   "source": [
    "OnePiece.extension.path.remove_extension(\"/path/to/a/directory/\")"
   ]
  },
  {
   "cell_type": "markdown",
   "id": "7670ee74",
   "metadata": {
    "execution": {
     "iopub.execute_input": "2021-10-14T18:25:54.055222Z",
     "iopub.status.busy": "2021-10-14T18:25:53.342490Z",
     "iopub.status.idle": "2021-10-14T18:26:10.352867Z",
     "shell.execute_reply": "2021-10-14T18:26:10.352370Z"
    }
   },
   "source": [
    "## select"
   ]
  },
  {
   "cell_type": "code",
   "execution_count": null,
   "id": "9304e507",
   "metadata": {
    "execution": {
     "iopub.execute_input": "2022-02-09T00:02:48.702698Z",
     "iopub.status.busy": "2022-02-09T00:02:48.702031Z",
     "iopub.status.idle": "2022-02-09T00:02:48.714351Z",
     "shell.execute_reply": "2022-02-09T00:02:48.713862Z"
    }
   },
   "outputs": [],
   "source": [
    "di = homedir()\n",
    "\n",
    ";"
   ]
  },
  {
   "cell_type": "code",
   "execution_count": null,
   "id": "402bdee9",
   "metadata": {
    "execution": {
     "iopub.execute_input": "2022-02-09T00:02:48.716138Z",
     "iopub.status.busy": "2022-02-09T00:02:48.715596Z",
     "iopub.status.idle": "2022-02-09T00:02:49.624016Z",
     "shell.execute_reply": "2022-02-09T00:02:49.623569Z"
    }
   },
   "outputs": [],
   "source": [
    "OnePiece.extension.path.select(di)"
   ]
  },
  {
   "cell_type": "code",
   "execution_count": null,
   "id": "fcb166f2",
   "metadata": {
    "execution": {
     "iopub.execute_input": "2022-02-09T00:02:49.626000Z",
     "iopub.status.busy": "2022-02-09T00:02:49.625318Z",
     "iopub.status.idle": "2022-02-09T00:02:49.689606Z",
     "shell.execute_reply": "2022-02-09T00:02:49.689060Z"
    }
   },
   "outputs": [],
   "source": [
    "OnePiece.extension.path.select(di; ig_ = [], ke_ = [r\"^\\.\"], jo = false)"
   ]
  },
  {
   "cell_type": "markdown",
   "id": "d8111d32",
   "metadata": {},
   "source": [
    "## error_missing_path"
   ]
  },
  {
   "cell_type": "code",
   "execution_count": null,
   "id": "aeefbc77",
   "metadata": {
    "execution": {
     "iopub.execute_input": "2022-02-09T00:02:49.691875Z",
     "iopub.status.busy": "2022-02-09T00:02:49.691280Z",
     "iopub.status.idle": "2022-02-09T00:02:49.705760Z",
     "shell.execute_reply": "2022-02-09T00:02:49.705366Z"
    }
   },
   "outputs": [],
   "source": [
    "go = \"extension/path.ipynb\""
   ]
  },
  {
   "cell_type": "code",
   "execution_count": null,
   "id": "1cf0d05a",
   "metadata": {
    "execution": {
     "iopub.execute_input": "2022-02-09T00:02:49.707666Z",
     "iopub.status.busy": "2022-02-09T00:02:49.707075Z",
     "iopub.status.idle": "2022-02-09T00:02:49.733597Z",
     "shell.execute_reply": "2022-02-09T00:02:49.733069Z"
    }
   },
   "outputs": [],
   "source": [
    "OnePiece.extension.path.error_missing_path(dirname(@__DIR__), [go])"
   ]
  },
  {
   "cell_type": "code",
   "execution_count": null,
   "id": "fb80aeb5",
   "metadata": {
    "execution": {
     "iopub.execute_input": "2022-02-09T00:02:49.735620Z",
     "iopub.status.busy": "2022-02-09T00:02:49.735027Z",
     "iopub.status.idle": "2022-02-09T00:02:49.792406Z",
     "shell.execute_reply": "2022-02-09T00:02:49.791936Z"
    }
   },
   "outputs": [],
   "source": [
    "try\n",
    "\n",
    "    OnePiece.extension.path.error_missing_path(\n",
    "        dirname(@__DIR__),\n",
    "        [go, \"missing/file\", \"missing/directory/\"],\n",
    "    )\n",
    "\n",
    "catch er\n",
    "\n",
    "    er\n",
    "\n",
    "end"
   ]
  },
  {
   "cell_type": "markdown",
   "id": "d120dae4",
   "metadata": {},
   "source": [
    "## error_extension"
   ]
  },
  {
   "cell_type": "code",
   "execution_count": null,
   "id": "5551c780",
   "metadata": {
    "execution": {
     "iopub.execute_input": "2022-02-09T00:02:49.794708Z",
     "iopub.status.busy": "2022-02-09T00:02:49.793995Z",
     "iopub.status.idle": "2022-02-09T00:02:49.810291Z",
     "shell.execute_reply": "2022-02-09T00:02:49.809697Z"
    }
   },
   "outputs": [],
   "source": [
    "OnePiece.extension.path.error_extension(\"file.extension\", \".extension\")"
   ]
  },
  {
   "cell_type": "code",
   "execution_count": null,
   "id": "9b7bcf9e",
   "metadata": {
    "execution": {
     "iopub.execute_input": "2022-02-09T00:02:49.812726Z",
     "iopub.status.busy": "2022-02-09T00:02:49.811791Z",
     "iopub.status.idle": "2022-02-09T00:02:50.754513Z",
     "shell.execute_reply": "2022-02-09T00:02:50.754089Z"
    }
   },
   "outputs": [],
   "source": [
    "for ex in [\"extension\", \".another_extension\"]\n",
    "\n",
    "    try\n",
    "\n",
    "        OnePiece.extension.path.error_extension(\"file.extension\", ex)\n",
    "\n",
    "    catch er\n",
    "\n",
    "        println(er)\n",
    "\n",
    "    end\n",
    "\n",
    "end"
   ]
  },
  {
   "cell_type": "markdown",
   "id": "0ccb2bfe",
   "metadata": {
    "execution": {
     "iopub.execute_input": "2021-10-14T18:25:54.055222Z",
     "iopub.status.busy": "2021-10-14T18:25:53.342490Z",
     "iopub.status.idle": "2021-10-14T18:26:10.352867Z",
     "shell.execute_reply": "2021-10-14T18:26:10.352370Z"
    }
   },
   "source": [
    "## move"
   ]
  },
  {
   "cell_type": "code",
   "execution_count": null,
   "id": "d86d391b",
   "metadata": {
    "execution": {
     "iopub.execute_input": "2022-02-09T00:02:50.756805Z",
     "iopub.status.busy": "2022-02-09T00:02:50.756178Z",
     "iopub.status.idle": "2022-02-09T00:02:50.810115Z",
     "shell.execute_reply": "2022-02-09T00:02:50.809672Z"
    }
   },
   "outputs": [],
   "source": [
    "te = joinpath(tempdir(), \"move\")\n",
    "\n",
    "di1 = mkpath(joinpath(te, \"di1\"))\n",
    "\n",
    "di2 = mkpath(joinpath(te, \"di2\"))\n",
    "\n",
    "di3 = mkpath(joinpath(te, \"di3\"))\n",
    "\n",
    "fi1 = joinpath(di1, \"fi1\")\n",
    "\n",
    "fi2 = joinpath(di2, \"fi2\")\n",
    "\n",
    "touch(fi1)\n",
    "\n",
    "touch(fi2)\n",
    "\n",
    "run(`tree $te`)\n",
    "\n",
    ";"
   ]
  },
  {
   "cell_type": "code",
   "execution_count": null,
   "id": "caf10005",
   "metadata": {
    "execution": {
     "iopub.execute_input": "2022-02-09T00:02:50.812662Z",
     "iopub.status.busy": "2022-02-09T00:02:50.811747Z",
     "iopub.status.idle": "2022-02-09T00:02:51.019200Z",
     "shell.execute_reply": "2022-02-09T00:02:51.019629Z"
    }
   },
   "outputs": [],
   "source": [
    "fi12 = replace(fi1, \"di1\" => \"di3\")\n",
    "\n",
    "println(OnePiece.extension.path.move(fi1, fi12))\n",
    "\n",
    "run(`tree $te`)\n",
    "\n",
    ";"
   ]
  },
  {
   "cell_type": "code",
   "execution_count": null,
   "id": "37ab766d",
   "metadata": {
    "execution": {
     "iopub.execute_input": "2022-02-09T00:02:51.022125Z",
     "iopub.status.busy": "2022-02-09T00:02:51.021391Z",
     "iopub.status.idle": "2022-02-09T00:02:51.346823Z",
     "shell.execute_reply": "2022-02-09T00:02:51.346254Z"
    }
   },
   "outputs": [],
   "source": [
    "try\n",
    "\n",
    "    OnePiece.extension.path.move(di2, di3)\n",
    "\n",
    "catch er\n",
    "\n",
    "    er\n",
    "\n",
    "end"
   ]
  },
  {
   "cell_type": "code",
   "execution_count": null,
   "id": "a2b758c5",
   "metadata": {
    "execution": {
     "iopub.execute_input": "2022-02-09T00:02:51.348861Z",
     "iopub.status.busy": "2022-02-09T00:02:51.348213Z",
     "iopub.status.idle": "2022-02-09T00:02:51.389192Z",
     "shell.execute_reply": "2022-02-09T00:02:51.388766Z"
    }
   },
   "outputs": [],
   "source": [
    "println(OnePiece.extension.path.move(di2, di3; fo = true))\n",
    "\n",
    "run(`tree $te`)\n",
    "\n",
    ";"
   ]
  },
  {
   "cell_type": "markdown",
   "id": "864df5b3",
   "metadata": {},
   "source": [
    "## sed_recursively"
   ]
  },
  {
   "cell_type": "code",
   "execution_count": null,
   "id": "afc362c3",
   "metadata": {
    "execution": {
     "iopub.execute_input": "2022-02-09T00:02:51.391356Z",
     "iopub.status.busy": "2022-02-09T00:02:51.390749Z",
     "iopub.status.idle": "2022-02-09T00:02:51.433882Z",
     "shell.execute_reply": "2022-02-09T00:02:51.433457Z"
    }
   },
   "outputs": [],
   "source": [
    "fi1 = joinpath(te, \"fi1\")\n",
    "\n",
    "fi2 = joinpath(te, \"fi2\")\n",
    "\n",
    "open(fi1, \"w\") do io\n",
    "\n",
    "    write(io, \"Before\")\n",
    "\n",
    "end\n",
    "\n",
    "open(fi2, \"w\") do io\n",
    "\n",
    "    write(io, \"BeforeBefore\")\n",
    "\n",
    "end\n",
    "\n",
    "println(readline(open(fi1)))\n",
    "\n",
    "println(readline(open(fi2)))\n",
    "\n",
    ";"
   ]
  },
  {
   "cell_type": "code",
   "execution_count": null,
   "id": "4098503b",
   "metadata": {
    "execution": {
     "iopub.execute_input": "2022-02-09T00:02:51.435875Z",
     "iopub.status.busy": "2022-02-09T00:02:51.435203Z",
     "iopub.status.idle": "2022-02-09T00:02:51.684768Z",
     "shell.execute_reply": "2022-02-09T00:02:51.684177Z"
    }
   },
   "outputs": [],
   "source": [
    "OnePiece.extension.path.sed_recursively(te, [\"Before\" => \"After\"])\n",
    "\n",
    "println(readline(open(fi1)))\n",
    "\n",
    "println(readline(open(fi2)))"
   ]
  }
 ],
 "metadata": {
  "@webio": {
   "lastCommId": null,
   "lastKernelId": null
  },
  "kernelspec": {
   "display_name": "Julia 1.7.1",
   "language": "julia",
   "name": "julia-1.7"
  },
  "language_info": {
   "file_extension": ".jl",
   "mimetype": "application/julia",
   "name": "julia",
   "version": "1.7.2"
  }
 },
 "nbformat": 4,
 "nbformat_minor": 5
}
