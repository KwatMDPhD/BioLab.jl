{
 "cells": [
  {
   "cell_type": "code",
   "execution_count": null,
   "id": "34e4701e",
   "metadata": {
    "execution": {
     "iopub.execute_input": "2022-02-09T22:41:38.789017Z",
     "iopub.status.busy": "2022-02-09T22:41:38.405046Z",
     "iopub.status.idle": "2022-02-09T22:41:39.738278Z",
     "shell.execute_reply": "2022-02-09T22:41:39.737594Z"
    }
   },
   "outputs": [],
   "source": [
    "using Revise\n",
    "using BenchmarkTools"
   ]
  },
  {
   "cell_type": "code",
   "execution_count": null,
   "id": "871c335e",
   "metadata": {
    "execution": {
     "iopub.execute_input": "2022-02-09T22:41:39.740302Z",
     "iopub.status.busy": "2022-02-09T22:41:39.739647Z",
     "iopub.status.idle": "2022-02-09T22:41:49.716784Z",
     "shell.execute_reply": "2022-02-09T22:41:49.716255Z"
    }
   },
   "outputs": [],
   "source": [
    "using OnePiece"
   ]
  },
  {
   "cell_type": "markdown",
   "id": "174f3b9b",
   "metadata": {
    "execution": {
     "iopub.execute_input": "2021-10-14T18:25:54.055222Z",
     "iopub.status.busy": "2021-10-14T18:25:53.342490Z",
     "iopub.status.idle": "2021-10-14T18:26:10.352867Z",
     "shell.execute_reply": "2021-10-14T18:26:10.352370Z"
    }
   },
   "source": [
    "## shorten"
   ]
  },
  {
   "cell_type": "code",
   "execution_count": null,
   "id": "685c8b90",
   "metadata": {
    "execution": {
     "iopub.execute_input": "2022-02-09T22:41:51.324230Z",
     "iopub.status.busy": "2022-02-09T22:41:49.718205Z",
     "iopub.status.idle": "2022-02-09T22:41:52.446919Z",
     "shell.execute_reply": "2022-02-09T22:41:52.446427Z"
    }
   },
   "outputs": [],
   "source": [
    "pa = pwd()"
   ]
  },
  {
   "cell_type": "code",
   "execution_count": null,
   "id": "e40c9529",
   "metadata": {
    "execution": {
     "iopub.execute_input": "2022-02-09T22:41:52.448876Z",
     "iopub.status.busy": "2022-02-09T22:41:52.448306Z",
     "iopub.status.idle": "2022-02-09T22:41:52.791973Z",
     "shell.execute_reply": "2022-02-09T22:41:52.791572Z"
    }
   },
   "outputs": [],
   "source": [
    "try\n",
    "\n",
    "    OnePiece.extension.path.shorten(pa, \"Shanks\")\n",
    "\n",
    "catch er\n",
    "\n",
    "    er\n",
    "\n",
    "end"
   ]
  },
  {
   "cell_type": "code",
   "execution_count": null,
   "id": "f8f20090",
   "metadata": {
    "execution": {
     "iopub.execute_input": "2022-02-09T22:41:52.793997Z",
     "iopub.status.busy": "2022-02-09T22:41:52.793327Z",
     "iopub.status.idle": "2022-02-09T22:41:52.839496Z",
     "shell.execute_reply": "2022-02-09T22:41:52.839048Z"
    }
   },
   "outputs": [],
   "source": [
    "for n_ba in [2, 1]\n",
    "\n",
    "    println(OnePiece.extension.path.shorten(pa, n_ba))\n",
    "\n",
    "end"
   ]
  },
  {
   "cell_type": "code",
   "execution_count": null,
   "id": "9881c454",
   "metadata": {
    "execution": {
     "iopub.execute_input": "2022-02-09T22:41:52.841328Z",
     "iopub.status.busy": "2022-02-09T22:41:52.840832Z",
     "iopub.status.idle": "2022-02-09T22:41:52.865850Z",
     "shell.execute_reply": "2022-02-09T22:41:52.865392Z"
    }
   },
   "outputs": [],
   "source": [
    "for di in [\"OnePiece.jl\", \"test\", \"OnePiece.jl/test\", \"extension\"]\n",
    "\n",
    "    println(OnePiece.extension.path.shorten(pa, di))\n",
    "\n",
    "end"
   ]
  },
  {
   "cell_type": "markdown",
   "id": "4f0f34f4",
   "metadata": {
    "execution": {
     "iopub.execute_input": "2021-10-14T18:25:54.055222Z",
     "iopub.status.busy": "2021-10-14T18:25:53.342490Z",
     "iopub.status.idle": "2021-10-14T18:26:10.352867Z",
     "shell.execute_reply": "2021-10-14T18:26:10.352370Z"
    }
   },
   "source": [
    "## clean"
   ]
  },
  {
   "cell_type": "code",
   "execution_count": null,
   "id": "9c1753ae",
   "metadata": {
    "execution": {
     "iopub.execute_input": "2022-02-09T22:41:52.867798Z",
     "iopub.status.busy": "2022-02-09T22:41:52.867225Z",
     "iopub.status.idle": "2022-02-09T22:41:52.901559Z",
     "shell.execute_reply": "2022-02-09T22:41:52.901171Z"
    }
   },
   "outputs": [],
   "source": [
    "OnePiece.extension.path.clean(\"a_b.c-d+e!f%g%h]iJK\")"
   ]
  },
  {
   "cell_type": "markdown",
   "id": "bcf7707b",
   "metadata": {
    "execution": {
     "iopub.execute_input": "2021-10-14T18:25:54.055222Z",
     "iopub.status.busy": "2021-10-14T18:25:53.342490Z",
     "iopub.status.idle": "2021-10-14T18:26:10.352867Z",
     "shell.execute_reply": "2021-10-14T18:26:10.352370Z"
    }
   },
   "source": [
    "## make_absolute"
   ]
  },
  {
   "cell_type": "code",
   "execution_count": null,
   "id": "b861b0f9",
   "metadata": {
    "execution": {
     "iopub.execute_input": "2022-02-09T22:41:52.903489Z",
     "iopub.status.busy": "2022-02-09T22:41:52.902984Z",
     "iopub.status.idle": "2022-02-09T22:41:52.928945Z",
     "shell.execute_reply": "2022-02-09T22:41:52.928575Z"
    }
   },
   "outputs": [],
   "source": [
    "for pa in [\"~/file\", \"~/directory/\"]\n",
    "\n",
    "    println(OnePiece.extension.path.make_absolute(pa))\n",
    "\n",
    "end"
   ]
  },
  {
   "cell_type": "markdown",
   "id": "53c74cab",
   "metadata": {},
   "source": [
    "## remove_extension"
   ]
  },
  {
   "cell_type": "code",
   "execution_count": null,
   "id": "f701b595",
   "metadata": {
    "execution": {
     "iopub.execute_input": "2022-02-09T22:41:52.930965Z",
     "iopub.status.busy": "2022-02-09T22:41:52.930438Z",
     "iopub.status.idle": "2022-02-09T22:41:52.947208Z",
     "shell.execute_reply": "2022-02-09T22:41:52.946762Z"
    }
   },
   "outputs": [],
   "source": [
    "OnePiece.extension.path.remove_extension(\"/path/to/a/file.extension\")"
   ]
  },
  {
   "cell_type": "code",
   "execution_count": null,
   "id": "ec900856",
   "metadata": {
    "execution": {
     "iopub.execute_input": "2022-02-09T22:41:52.949123Z",
     "iopub.status.busy": "2022-02-09T22:41:52.948498Z",
     "iopub.status.idle": "2022-02-09T22:41:52.961691Z",
     "shell.execute_reply": "2022-02-09T22:41:52.961220Z"
    }
   },
   "outputs": [],
   "source": [
    "OnePiece.extension.path.remove_extension(\"/path/to/a/file\")"
   ]
  },
  {
   "cell_type": "code",
   "execution_count": null,
   "id": "9dc8a8bd",
   "metadata": {
    "execution": {
     "iopub.execute_input": "2022-02-09T22:41:52.963517Z",
     "iopub.status.busy": "2022-02-09T22:41:52.962944Z",
     "iopub.status.idle": "2022-02-09T22:41:52.976417Z",
     "shell.execute_reply": "2022-02-09T22:41:52.975975Z"
    }
   },
   "outputs": [],
   "source": [
    "OnePiece.extension.path.remove_extension(\"/path/to/a/directory/\")"
   ]
  },
  {
   "cell_type": "markdown",
   "id": "7670ee74",
   "metadata": {
    "execution": {
     "iopub.execute_input": "2021-10-14T18:25:54.055222Z",
     "iopub.status.busy": "2021-10-14T18:25:53.342490Z",
     "iopub.status.idle": "2021-10-14T18:26:10.352867Z",
     "shell.execute_reply": "2021-10-14T18:26:10.352370Z"
    }
   },
   "source": [
    "## select"
   ]
  },
  {
   "cell_type": "code",
   "execution_count": null,
   "id": "9304e507",
   "metadata": {
    "execution": {
     "iopub.execute_input": "2022-02-09T22:41:52.978609Z",
     "iopub.status.busy": "2022-02-09T22:41:52.977971Z",
     "iopub.status.idle": "2022-02-09T22:41:52.990419Z",
     "shell.execute_reply": "2022-02-09T22:41:52.989868Z"
    }
   },
   "outputs": [],
   "source": [
    "di = homedir()\n",
    "\n",
    ";"
   ]
  },
  {
   "cell_type": "code",
   "execution_count": null,
   "id": "402bdee9",
   "metadata": {
    "execution": {
     "iopub.execute_input": "2022-02-09T22:41:52.992276Z",
     "iopub.status.busy": "2022-02-09T22:41:52.991647Z",
     "iopub.status.idle": "2022-02-09T22:41:53.849763Z",
     "shell.execute_reply": "2022-02-09T22:41:53.849379Z"
    }
   },
   "outputs": [],
   "source": [
    "OnePiece.extension.path.select(di)"
   ]
  },
  {
   "cell_type": "code",
   "execution_count": null,
   "id": "fcb166f2",
   "metadata": {
    "execution": {
     "iopub.execute_input": "2022-02-09T22:41:53.851601Z",
     "iopub.status.busy": "2022-02-09T22:41:53.851110Z",
     "iopub.status.idle": "2022-02-09T22:41:53.913404Z",
     "shell.execute_reply": "2022-02-09T22:41:53.913013Z"
    }
   },
   "outputs": [],
   "source": [
    "OnePiece.extension.path.select(di; ig_ = [], ke_ = [r\"^\\.\"], jo = false)"
   ]
  },
  {
   "cell_type": "markdown",
   "id": "d8111d32",
   "metadata": {},
   "source": [
    "## error_missing_path"
   ]
  },
  {
   "cell_type": "code",
   "execution_count": null,
   "id": "aeefbc77",
   "metadata": {
    "execution": {
     "iopub.execute_input": "2022-02-09T22:41:53.915521Z",
     "iopub.status.busy": "2022-02-09T22:41:53.915006Z",
     "iopub.status.idle": "2022-02-09T22:41:53.928221Z",
     "shell.execute_reply": "2022-02-09T22:41:53.927785Z"
    }
   },
   "outputs": [],
   "source": [
    "go = \"extension/path.ipynb\""
   ]
  },
  {
   "cell_type": "code",
   "execution_count": null,
   "id": "1cf0d05a",
   "metadata": {
    "execution": {
     "iopub.execute_input": "2022-02-09T22:41:53.930160Z",
     "iopub.status.busy": "2022-02-09T22:41:53.929495Z",
     "iopub.status.idle": "2022-02-09T22:41:53.954634Z",
     "shell.execute_reply": "2022-02-09T22:41:53.954243Z"
    }
   },
   "outputs": [],
   "source": [
    "OnePiece.extension.path.error_missing_path(dirname(@__DIR__), [go])"
   ]
  },
  {
   "cell_type": "code",
   "execution_count": null,
   "id": "fb80aeb5",
   "metadata": {
    "execution": {
     "iopub.execute_input": "2022-02-09T22:41:53.957174Z",
     "iopub.status.busy": "2022-02-09T22:41:53.956618Z",
     "iopub.status.idle": "2022-02-09T22:41:53.996579Z",
     "shell.execute_reply": "2022-02-09T22:41:53.996133Z"
    }
   },
   "outputs": [],
   "source": [
    "try\n",
    "\n",
    "    OnePiece.extension.path.error_missing_path(\n",
    "        dirname(@__DIR__),\n",
    "        [go, \"missing/file\", \"missing/directory/\"],\n",
    "    )\n",
    "\n",
    "catch er\n",
    "\n",
    "    er\n",
    "\n",
    "end"
   ]
  },
  {
   "cell_type": "markdown",
   "id": "d120dae4",
   "metadata": {},
   "source": [
    "## error_extension"
   ]
  },
  {
   "cell_type": "code",
   "execution_count": null,
   "id": "5551c780",
   "metadata": {
    "execution": {
     "iopub.execute_input": "2022-02-09T22:41:53.998278Z",
     "iopub.status.busy": "2022-02-09T22:41:53.997783Z",
     "iopub.status.idle": "2022-02-09T22:41:54.014175Z",
     "shell.execute_reply": "2022-02-09T22:41:54.013738Z"
    }
   },
   "outputs": [],
   "source": [
    "OnePiece.extension.path.error_extension(\"file.extension\", \".extension\")"
   ]
  },
  {
   "cell_type": "code",
   "execution_count": null,
   "id": "9b7bcf9e",
   "metadata": {
    "execution": {
     "iopub.execute_input": "2022-02-09T22:41:54.015993Z",
     "iopub.status.busy": "2022-02-09T22:41:54.015366Z",
     "iopub.status.idle": "2022-02-09T22:41:54.862632Z",
     "shell.execute_reply": "2022-02-09T22:41:54.861914Z"
    }
   },
   "outputs": [],
   "source": [
    "for ex in [\"extension\", \".another_extension\"]\n",
    "\n",
    "    try\n",
    "\n",
    "        OnePiece.extension.path.error_extension(\"file.extension\", ex)\n",
    "\n",
    "    catch er\n",
    "\n",
    "        println(er)\n",
    "\n",
    "    end\n",
    "\n",
    "end"
   ]
  },
  {
   "cell_type": "markdown",
   "id": "0ccb2bfe",
   "metadata": {
    "execution": {
     "iopub.execute_input": "2021-10-14T18:25:54.055222Z",
     "iopub.status.busy": "2021-10-14T18:25:53.342490Z",
     "iopub.status.idle": "2021-10-14T18:26:10.352867Z",
     "shell.execute_reply": "2021-10-14T18:26:10.352370Z"
    }
   },
   "source": [
    "## move"
   ]
  },
  {
   "cell_type": "code",
   "execution_count": null,
   "id": "d86d391b",
   "metadata": {
    "execution": {
     "iopub.execute_input": "2022-02-09T22:41:54.864589Z",
     "iopub.status.busy": "2022-02-09T22:41:54.864027Z",
     "iopub.status.idle": "2022-02-09T22:41:54.906379Z",
     "shell.execute_reply": "2022-02-09T22:41:54.905980Z"
    }
   },
   "outputs": [],
   "source": [
    "te = joinpath(tempdir(), \"move\")\n",
    "\n",
    "di1 = mkpath(joinpath(te, \"di1\"))\n",
    "\n",
    "di2 = mkpath(joinpath(te, \"di2\"))\n",
    "\n",
    "di3 = mkpath(joinpath(te, \"di3\"))\n",
    "\n",
    "fi1 = joinpath(di1, \"fi1\")\n",
    "\n",
    "fi2 = joinpath(di2, \"fi2\")\n",
    "\n",
    "touch(fi1)\n",
    "\n",
    "touch(fi2)\n",
    "\n",
    "run(`tree $te`)\n",
    "\n",
    ";"
   ]
  },
  {
   "cell_type": "code",
   "execution_count": null,
   "id": "caf10005",
   "metadata": {
    "execution": {
     "iopub.execute_input": "2022-02-09T22:41:54.908211Z",
     "iopub.status.busy": "2022-02-09T22:41:54.907622Z",
     "iopub.status.idle": "2022-02-09T22:41:55.127574Z",
     "shell.execute_reply": "2022-02-09T22:41:55.127143Z"
    }
   },
   "outputs": [],
   "source": [
    "fi12 = replace(fi1, \"di1\" => \"di3\")\n",
    "\n",
    "println(OnePiece.extension.path.move(fi1, fi12))\n",
    "\n",
    "run(`tree $te`)\n",
    "\n",
    ";"
   ]
  },
  {
   "cell_type": "code",
   "execution_count": null,
   "id": "37ab766d",
   "metadata": {
    "execution": {
     "iopub.execute_input": "2022-02-09T22:41:55.129582Z",
     "iopub.status.busy": "2022-02-09T22:41:55.128996Z",
     "iopub.status.idle": "2022-02-09T22:41:55.410991Z",
     "shell.execute_reply": "2022-02-09T22:41:55.410573Z"
    }
   },
   "outputs": [],
   "source": [
    "try\n",
    "\n",
    "    OnePiece.extension.path.move(di2, di3)\n",
    "\n",
    "catch er\n",
    "\n",
    "    er\n",
    "\n",
    "end"
   ]
  },
  {
   "cell_type": "code",
   "execution_count": null,
   "id": "a2b758c5",
   "metadata": {
    "execution": {
     "iopub.execute_input": "2022-02-09T22:41:55.412754Z",
     "iopub.status.busy": "2022-02-09T22:41:55.412263Z",
     "iopub.status.idle": "2022-02-09T22:41:55.451115Z",
     "shell.execute_reply": "2022-02-09T22:41:55.450692Z"
    }
   },
   "outputs": [],
   "source": [
    "println(OnePiece.extension.path.move(di2, di3; fo = true))\n",
    "\n",
    "run(`tree $te`)\n",
    "\n",
    ";"
   ]
  },
  {
   "cell_type": "markdown",
   "id": "864df5b3",
   "metadata": {},
   "source": [
    "## sed_recursively"
   ]
  },
  {
   "cell_type": "code",
   "execution_count": null,
   "id": "afc362c3",
   "metadata": {
    "execution": {
     "iopub.execute_input": "2022-02-09T22:41:55.453564Z",
     "iopub.status.busy": "2022-02-09T22:41:55.452918Z",
     "iopub.status.idle": "2022-02-09T22:41:55.491741Z",
     "shell.execute_reply": "2022-02-09T22:41:55.491312Z"
    }
   },
   "outputs": [],
   "source": [
    "fi1 = joinpath(te, \"fi1\")\n",
    "\n",
    "fi2 = joinpath(te, \"fi2\")\n",
    "\n",
    "open(fi1, \"w\") do io\n",
    "\n",
    "    write(io, \"Before\")\n",
    "\n",
    "end\n",
    "\n",
    "open(fi2, \"w\") do io\n",
    "\n",
    "    write(io, \"BeforeBefore\")\n",
    "\n",
    "end\n",
    "\n",
    "println(readline(open(fi1)))\n",
    "\n",
    "println(readline(open(fi2)))\n",
    "\n",
    ";"
   ]
  },
  {
   "cell_type": "code",
   "execution_count": null,
   "id": "4098503b",
   "metadata": {
    "execution": {
     "iopub.execute_input": "2022-02-09T22:41:55.493617Z",
     "iopub.status.busy": "2022-02-09T22:41:55.493046Z",
     "iopub.status.idle": "2022-02-09T22:41:55.717004Z",
     "shell.execute_reply": "2022-02-09T22:41:55.716299Z"
    }
   },
   "outputs": [],
   "source": [
    "OnePiece.extension.path.sed_recursively(te, [\"Before\" => \"After\"])\n",
    "\n",
    "println(readline(open(fi1)))\n",
    "\n",
    "println(readline(open(fi2)))"
   ]
  }
 ],
 "metadata": {
  "@webio": {
   "lastCommId": null,
   "lastKernelId": null
  },
  "kernelspec": {
   "display_name": "Julia 1.7.1",
   "language": "julia",
   "name": "julia-1.7"
  },
  "language_info": {
   "file_extension": ".jl",
   "mimetype": "application/julia",
   "name": "julia",
   "version": "1.7.2"
  }
 },
 "nbformat": 4,
 "nbformat_minor": 5
}
