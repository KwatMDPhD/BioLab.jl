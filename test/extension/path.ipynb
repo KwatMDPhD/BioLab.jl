{
 "cells": [
  {
   "cell_type": "code",
   "execution_count": null,
   "id": "34e4701e",
   "metadata": {
    "execution": {
     "iopub.execute_input": "2022-02-08T11:28:16.357772Z",
     "iopub.status.busy": "2022-02-08T11:28:15.966740Z",
     "iopub.status.idle": "2022-02-08T11:28:17.176502Z",
     "shell.execute_reply": "2022-02-08T11:28:17.175726Z"
    }
   },
   "outputs": [],
   "source": [
    "using Revise\n",
    "using BenchmarkTools"
   ]
  },
  {
   "cell_type": "code",
   "execution_count": null,
   "id": "871c335e",
   "metadata": {
    "execution": {
     "iopub.execute_input": "2022-02-08T11:28:17.178789Z",
     "iopub.status.busy": "2022-02-08T11:28:17.178251Z",
     "iopub.status.idle": "2022-02-08T11:28:28.254154Z",
     "shell.execute_reply": "2022-02-08T11:28:28.253637Z"
    }
   },
   "outputs": [],
   "source": [
    "using OnePiece"
   ]
  },
  {
   "cell_type": "markdown",
   "id": "174f3b9b",
   "metadata": {
    "execution": {
     "iopub.execute_input": "2021-10-14T18:25:54.055222Z",
     "iopub.status.busy": "2021-10-14T18:25:53.342490Z",
     "iopub.status.idle": "2021-10-14T18:26:10.352867Z",
     "shell.execute_reply": "2021-10-14T18:26:10.352370Z"
    }
   },
   "source": [
    "## shorten"
   ]
  },
  {
   "cell_type": "code",
   "execution_count": null,
   "id": "685c8b90",
   "metadata": {
    "execution": {
     "iopub.execute_input": "2022-02-08T11:28:29.858898Z",
     "iopub.status.busy": "2022-02-08T11:28:28.255517Z",
     "iopub.status.idle": "2022-02-08T11:28:30.972327Z",
     "shell.execute_reply": "2022-02-08T11:28:30.971916Z"
    }
   },
   "outputs": [],
   "source": [
    "pa = pwd()"
   ]
  },
  {
   "cell_type": "code",
   "execution_count": null,
   "id": "e40c9529",
   "metadata": {
    "execution": {
     "iopub.execute_input": "2022-02-08T11:28:30.974215Z",
     "iopub.status.busy": "2022-02-08T11:28:30.973598Z",
     "iopub.status.idle": "2022-02-08T11:28:31.504148Z",
     "shell.execute_reply": "2022-02-08T11:28:31.503767Z"
    }
   },
   "outputs": [],
   "source": [
    "try\n",
    "\n",
    "    OnePiece.extension.path.shorten(pa, \"Shanks\")\n",
    "\n",
    "catch er\n",
    "\n",
    "    er\n",
    "\n",
    "end"
   ]
  },
  {
   "cell_type": "code",
   "execution_count": null,
   "id": "f8f20090",
   "metadata": {
    "execution": {
     "iopub.execute_input": "2022-02-08T11:28:31.505998Z",
     "iopub.status.busy": "2022-02-08T11:28:31.505469Z",
     "iopub.status.idle": "2022-02-08T11:28:31.555335Z",
     "shell.execute_reply": "2022-02-08T11:28:31.554892Z"
    }
   },
   "outputs": [],
   "source": [
    "for n_ba in [2, 1]\n",
    "\n",
    "    println(OnePiece.extension.path.shorten(pa, n_ba))\n",
    "\n",
    "end"
   ]
  },
  {
   "cell_type": "code",
   "execution_count": null,
   "id": "9881c454",
   "metadata": {
    "execution": {
     "iopub.execute_input": "2022-02-08T11:28:31.557156Z",
     "iopub.status.busy": "2022-02-08T11:28:31.556664Z",
     "iopub.status.idle": "2022-02-08T11:28:31.581965Z",
     "shell.execute_reply": "2022-02-08T11:28:31.581541Z"
    }
   },
   "outputs": [],
   "source": [
    "for di in [\"OnePiece.jl\", \"test\", \"OnePiece.jl/test\", \"extension\"]\n",
    "\n",
    "    println(OnePiece.extension.path.shorten(pa, di))\n",
    "\n",
    "end"
   ]
  },
  {
   "cell_type": "markdown",
   "id": "4f0f34f4",
   "metadata": {
    "execution": {
     "iopub.execute_input": "2021-10-14T18:25:54.055222Z",
     "iopub.status.busy": "2021-10-14T18:25:53.342490Z",
     "iopub.status.idle": "2021-10-14T18:26:10.352867Z",
     "shell.execute_reply": "2021-10-14T18:26:10.352370Z"
    }
   },
   "source": [
    "## clean"
   ]
  },
  {
   "cell_type": "code",
   "execution_count": null,
   "id": "9c1753ae",
   "metadata": {
    "execution": {
     "iopub.execute_input": "2022-02-08T11:28:31.584076Z",
     "iopub.status.busy": "2022-02-08T11:28:31.583418Z",
     "iopub.status.idle": "2022-02-08T11:28:31.619347Z",
     "shell.execute_reply": "2022-02-08T11:28:31.618893Z"
    }
   },
   "outputs": [],
   "source": [
    "OnePiece.extension.path.clean(\"a_b.c-d+e!f%g%h]iJK\")"
   ]
  },
  {
   "cell_type": "markdown",
   "id": "bcf7707b",
   "metadata": {
    "execution": {
     "iopub.execute_input": "2021-10-14T18:25:54.055222Z",
     "iopub.status.busy": "2021-10-14T18:25:53.342490Z",
     "iopub.status.idle": "2021-10-14T18:26:10.352867Z",
     "shell.execute_reply": "2021-10-14T18:26:10.352370Z"
    }
   },
   "source": [
    "## make_absolute"
   ]
  },
  {
   "cell_type": "code",
   "execution_count": null,
   "id": "b861b0f9",
   "metadata": {
    "execution": {
     "iopub.execute_input": "2022-02-08T11:28:31.621374Z",
     "iopub.status.busy": "2022-02-08T11:28:31.620751Z",
     "iopub.status.idle": "2022-02-08T11:28:31.668187Z",
     "shell.execute_reply": "2022-02-08T11:28:31.667740Z"
    }
   },
   "outputs": [],
   "source": [
    "for pa in [\"~/file\", \"~/directory/\"]\n",
    "\n",
    "    println(OnePiece.extension.path.make_absolute(pa))\n",
    "\n",
    "end"
   ]
  },
  {
   "cell_type": "markdown",
   "id": "53c74cab",
   "metadata": {},
   "source": [
    "## remove_extension"
   ]
  },
  {
   "cell_type": "code",
   "execution_count": null,
   "id": "f701b595",
   "metadata": {
    "execution": {
     "iopub.execute_input": "2022-02-08T11:28:31.670106Z",
     "iopub.status.busy": "2022-02-08T11:28:31.669534Z",
     "iopub.status.idle": "2022-02-08T11:28:31.685966Z",
     "shell.execute_reply": "2022-02-08T11:28:31.685526Z"
    }
   },
   "outputs": [],
   "source": [
    "OnePiece.extension.path.remove_extension(\"/path/to/a/file.extension\")"
   ]
  },
  {
   "cell_type": "code",
   "execution_count": null,
   "id": "ec900856",
   "metadata": {
    "execution": {
     "iopub.execute_input": "2022-02-08T11:28:31.687848Z",
     "iopub.status.busy": "2022-02-08T11:28:31.687252Z",
     "iopub.status.idle": "2022-02-08T11:28:31.701789Z",
     "shell.execute_reply": "2022-02-08T11:28:31.701352Z"
    }
   },
   "outputs": [],
   "source": [
    "OnePiece.extension.path.remove_extension(\"/path/to/a/file\")"
   ]
  },
  {
   "cell_type": "code",
   "execution_count": null,
   "id": "9dc8a8bd",
   "metadata": {
    "execution": {
     "iopub.execute_input": "2022-02-08T11:28:31.703574Z",
     "iopub.status.busy": "2022-02-08T11:28:31.703007Z",
     "iopub.status.idle": "2022-02-08T11:28:31.716670Z",
     "shell.execute_reply": "2022-02-08T11:28:31.716226Z"
    }
   },
   "outputs": [],
   "source": [
    "OnePiece.extension.path.remove_extension(\"/path/to/a/directory/\")"
   ]
  },
  {
   "cell_type": "markdown",
   "id": "7670ee74",
   "metadata": {
    "execution": {
     "iopub.execute_input": "2021-10-14T18:25:54.055222Z",
     "iopub.status.busy": "2021-10-14T18:25:53.342490Z",
     "iopub.status.idle": "2021-10-14T18:26:10.352867Z",
     "shell.execute_reply": "2021-10-14T18:26:10.352370Z"
    }
   },
   "source": [
    "## select"
   ]
  },
  {
   "cell_type": "code",
   "execution_count": null,
   "id": "9304e507",
   "metadata": {
    "execution": {
     "iopub.execute_input": "2022-02-08T11:28:31.718677Z",
     "iopub.status.busy": "2022-02-08T11:28:31.718098Z",
     "iopub.status.idle": "2022-02-08T11:28:31.731540Z",
     "shell.execute_reply": "2022-02-08T11:28:31.730984Z"
    }
   },
   "outputs": [],
   "source": [
    "di = homedir()\n",
    "\n",
    ";"
   ]
  },
  {
   "cell_type": "code",
   "execution_count": null,
   "id": "402bdee9",
   "metadata": {
    "execution": {
     "iopub.execute_input": "2022-02-08T11:28:31.733701Z",
     "iopub.status.busy": "2022-02-08T11:28:31.732972Z",
     "iopub.status.idle": "2022-02-08T11:28:32.622814Z",
     "shell.execute_reply": "2022-02-08T11:28:32.622367Z"
    }
   },
   "outputs": [],
   "source": [
    "OnePiece.extension.path.select(di)"
   ]
  },
  {
   "cell_type": "code",
   "execution_count": null,
   "id": "fcb166f2",
   "metadata": {
    "execution": {
     "iopub.execute_input": "2022-02-08T11:28:32.624681Z",
     "iopub.status.busy": "2022-02-08T11:28:32.624146Z",
     "iopub.status.idle": "2022-02-08T11:28:32.686258Z",
     "shell.execute_reply": "2022-02-08T11:28:32.685811Z"
    }
   },
   "outputs": [],
   "source": [
    "OnePiece.extension.path.select(di; ig_ = [], ke_ = [r\"^\\.\"], jo = false)"
   ]
  },
  {
   "cell_type": "markdown",
   "id": "d8111d32",
   "metadata": {},
   "source": [
    "## error_missing_path"
   ]
  },
  {
   "cell_type": "code",
   "execution_count": null,
   "id": "aeefbc77",
   "metadata": {
    "execution": {
     "iopub.execute_input": "2022-02-08T11:28:32.687965Z",
     "iopub.status.busy": "2022-02-08T11:28:32.687471Z",
     "iopub.status.idle": "2022-02-08T11:28:32.701471Z",
     "shell.execute_reply": "2022-02-08T11:28:32.701026Z"
    }
   },
   "outputs": [],
   "source": [
    "go = \"extension/path.ipynb\""
   ]
  },
  {
   "cell_type": "code",
   "execution_count": null,
   "id": "1cf0d05a",
   "metadata": {
    "execution": {
     "iopub.execute_input": "2022-02-08T11:28:32.703533Z",
     "iopub.status.busy": "2022-02-08T11:28:32.702950Z",
     "iopub.status.idle": "2022-02-08T11:28:32.728295Z",
     "shell.execute_reply": "2022-02-08T11:28:32.727781Z"
    }
   },
   "outputs": [],
   "source": [
    "OnePiece.extension.path.error_missing_path(dirname(@__DIR__), [go])"
   ]
  },
  {
   "cell_type": "code",
   "execution_count": null,
   "id": "fb80aeb5",
   "metadata": {
    "execution": {
     "iopub.execute_input": "2022-02-08T11:28:32.730254Z",
     "iopub.status.busy": "2022-02-08T11:28:32.729615Z",
     "iopub.status.idle": "2022-02-08T11:28:32.771882Z",
     "shell.execute_reply": "2022-02-08T11:28:32.771367Z"
    }
   },
   "outputs": [],
   "source": [
    "try\n",
    "\n",
    "    OnePiece.extension.path.error_missing_path(\n",
    "        dirname(@__DIR__),\n",
    "        [go, \"missing/file\", \"missing/directory/\"],\n",
    "    )\n",
    "\n",
    "catch er\n",
    "\n",
    "    er\n",
    "\n",
    "end"
   ]
  },
  {
   "cell_type": "markdown",
   "id": "d120dae4",
   "metadata": {},
   "source": [
    "## error_extension"
   ]
  },
  {
   "cell_type": "code",
   "execution_count": null,
   "id": "5551c780",
   "metadata": {
    "execution": {
     "iopub.execute_input": "2022-02-08T11:28:32.774666Z",
     "iopub.status.busy": "2022-02-08T11:28:32.773768Z",
     "iopub.status.idle": "2022-02-08T11:28:32.789582Z",
     "shell.execute_reply": "2022-02-08T11:28:32.789072Z"
    }
   },
   "outputs": [],
   "source": [
    "OnePiece.extension.path.error_extension(\"file.extension\", \".extension\")"
   ]
  },
  {
   "cell_type": "code",
   "execution_count": null,
   "id": "9b7bcf9e",
   "metadata": {
    "execution": {
     "iopub.execute_input": "2022-02-08T11:28:32.791483Z",
     "iopub.status.busy": "2022-02-08T11:28:32.790905Z",
     "iopub.status.idle": "2022-02-08T11:28:33.594378Z",
     "shell.execute_reply": "2022-02-08T11:28:33.593661Z"
    }
   },
   "outputs": [],
   "source": [
    "for ex in [\"extension\", \".another_extension\"]\n",
    "\n",
    "    try\n",
    "\n",
    "        OnePiece.extension.path.error_extension(\"file.extension\", ex)\n",
    "\n",
    "    catch er\n",
    "\n",
    "        println(er)\n",
    "\n",
    "    end\n",
    "\n",
    "end"
   ]
  },
  {
   "cell_type": "markdown",
   "id": "0ccb2bfe",
   "metadata": {
    "execution": {
     "iopub.execute_input": "2021-10-14T18:25:54.055222Z",
     "iopub.status.busy": "2021-10-14T18:25:53.342490Z",
     "iopub.status.idle": "2021-10-14T18:26:10.352867Z",
     "shell.execute_reply": "2021-10-14T18:26:10.352370Z"
    }
   },
   "source": [
    "## move"
   ]
  },
  {
   "cell_type": "code",
   "execution_count": null,
   "id": "d86d391b",
   "metadata": {
    "execution": {
     "iopub.execute_input": "2022-02-08T11:28:33.596396Z",
     "iopub.status.busy": "2022-02-08T11:28:33.595837Z",
     "iopub.status.idle": "2022-02-08T11:28:33.646559Z",
     "shell.execute_reply": "2022-02-08T11:28:33.646071Z"
    }
   },
   "outputs": [],
   "source": [
    "te = joinpath(tempdir(), \"move\")\n",
    "\n",
    "di1 = mkpath(joinpath(te, \"di1\"))\n",
    "\n",
    "di2 = mkpath(joinpath(te, \"di2\"))\n",
    "\n",
    "di3 = mkpath(joinpath(te, \"di3\"))\n",
    "\n",
    "fi1 = joinpath(di1, \"fi1\")\n",
    "\n",
    "fi2 = joinpath(di2, \"fi2\")\n",
    "\n",
    "touch(fi1)\n",
    "\n",
    "touch(fi2)\n",
    "\n",
    "run(`tree $te`)\n",
    "\n",
    ";"
   ]
  },
  {
   "cell_type": "code",
   "execution_count": null,
   "id": "caf10005",
   "metadata": {
    "execution": {
     "iopub.execute_input": "2022-02-08T11:28:33.648726Z",
     "iopub.status.busy": "2022-02-08T11:28:33.648148Z",
     "iopub.status.idle": "2022-02-08T11:28:33.841695Z",
     "shell.execute_reply": "2022-02-08T11:28:33.841242Z"
    }
   },
   "outputs": [],
   "source": [
    "fi12 = replace(fi1, \"di1\" => \"di3\")\n",
    "\n",
    "println(OnePiece.extension.path.move(fi1, fi12))\n",
    "\n",
    "run(`tree $te`)\n",
    "\n",
    ";"
   ]
  },
  {
   "cell_type": "code",
   "execution_count": null,
   "id": "37ab766d",
   "metadata": {
    "execution": {
     "iopub.execute_input": "2022-02-08T11:28:33.844114Z",
     "iopub.status.busy": "2022-02-08T11:28:33.843460Z",
     "iopub.status.idle": "2022-02-08T11:28:34.144541Z",
     "shell.execute_reply": "2022-02-08T11:28:34.144154Z"
    }
   },
   "outputs": [],
   "source": [
    "try\n",
    "\n",
    "    OnePiece.extension.path.move(di2, di3)\n",
    "\n",
    "catch er\n",
    "\n",
    "    er\n",
    "\n",
    "end"
   ]
  },
  {
   "cell_type": "code",
   "execution_count": null,
   "id": "a2b758c5",
   "metadata": {
    "execution": {
     "iopub.execute_input": "2022-02-08T11:28:34.146516Z",
     "iopub.status.busy": "2022-02-08T11:28:34.146031Z",
     "iopub.status.idle": "2022-02-08T11:28:34.188409Z",
     "shell.execute_reply": "2022-02-08T11:28:34.187955Z"
    }
   },
   "outputs": [],
   "source": [
    "println(OnePiece.extension.path.move(di2, di3; fo = true))\n",
    "\n",
    "run(`tree $te`)\n",
    "\n",
    ";"
   ]
  },
  {
   "cell_type": "markdown",
   "id": "864df5b3",
   "metadata": {},
   "source": [
    "## sed_recursively"
   ]
  },
  {
   "cell_type": "code",
   "execution_count": null,
   "id": "afc362c3",
   "metadata": {
    "execution": {
     "iopub.execute_input": "2022-02-08T11:28:34.190740Z",
     "iopub.status.busy": "2022-02-08T11:28:34.190046Z",
     "iopub.status.idle": "2022-02-08T11:28:34.231235Z",
     "shell.execute_reply": "2022-02-08T11:28:34.230804Z"
    }
   },
   "outputs": [],
   "source": [
    "fi1 = joinpath(te, \"fi1\")\n",
    "\n",
    "fi2 = joinpath(te, \"fi2\")\n",
    "\n",
    "open(fi1, \"w\") do io\n",
    "\n",
    "    write(io, \"Before\")\n",
    "\n",
    "end\n",
    "\n",
    "open(fi2, \"w\") do io\n",
    "\n",
    "    write(io, \"BeforeBefore\")\n",
    "\n",
    "end\n",
    "\n",
    "println(readline(open(fi1)))\n",
    "\n",
    "println(readline(open(fi2)))\n",
    "\n",
    ";"
   ]
  },
  {
   "cell_type": "code",
   "execution_count": null,
   "id": "4098503b",
   "metadata": {
    "execution": {
     "iopub.execute_input": "2022-02-08T11:28:34.233132Z",
     "iopub.status.busy": "2022-02-08T11:28:34.232546Z",
     "iopub.status.idle": "2022-02-08T11:28:34.471339Z",
     "shell.execute_reply": "2022-02-08T11:28:34.470181Z"
    }
   },
   "outputs": [],
   "source": [
    "OnePiece.extension.path.sed_recursively(te, [\"Before\" => \"After\"])\n",
    "\n",
    "println(readline(open(fi1)))\n",
    "\n",
    "println(readline(open(fi2)))"
   ]
  }
 ],
 "metadata": {
  "@webio": {
   "lastCommId": null,
   "lastKernelId": null
  },
  "kernelspec": {
   "display_name": "Julia 1.7.1",
   "language": "julia",
   "name": "julia-1.7"
  },
  "language_info": {
   "file_extension": ".jl",
   "mimetype": "application/julia",
   "name": "julia",
   "version": "1.7.1"
  }
 },
 "nbformat": 4,
 "nbformat_minor": 5
}
