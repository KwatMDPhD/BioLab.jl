{
 "cells": [
  {
   "cell_type": "code",
   "execution_count": null,
   "id": "34e4701e",
   "metadata": {
    "execution": {
     "iopub.execute_input": "2022-02-09T18:52:47.105813Z",
     "iopub.status.busy": "2022-02-09T18:52:46.709148Z",
     "iopub.status.idle": "2022-02-09T18:52:48.120933Z",
     "shell.execute_reply": "2022-02-09T18:52:48.120425Z"
    }
   },
   "outputs": [],
   "source": [
    "using Revise\n",
    "using BenchmarkTools"
   ]
  },
  {
   "cell_type": "code",
   "execution_count": null,
   "id": "871c335e",
   "metadata": {
    "execution": {
     "iopub.execute_input": "2022-02-09T18:52:48.122966Z",
     "iopub.status.busy": "2022-02-09T18:52:48.122383Z",
     "iopub.status.idle": "2022-02-09T18:52:58.288197Z",
     "shell.execute_reply": "2022-02-09T18:52:58.287726Z"
    }
   },
   "outputs": [],
   "source": [
    "using OnePiece"
   ]
  },
  {
   "cell_type": "markdown",
   "id": "174f3b9b",
   "metadata": {
    "execution": {
     "iopub.execute_input": "2021-10-14T18:25:54.055222Z",
     "iopub.status.busy": "2021-10-14T18:25:53.342490Z",
     "iopub.status.idle": "2021-10-14T18:26:10.352867Z",
     "shell.execute_reply": "2021-10-14T18:26:10.352370Z"
    }
   },
   "source": [
    "## shorten"
   ]
  },
  {
   "cell_type": "code",
   "execution_count": null,
   "id": "685c8b90",
   "metadata": {
    "execution": {
     "iopub.execute_input": "2022-02-09T18:52:59.935902Z",
     "iopub.status.busy": "2022-02-09T18:52:58.289552Z",
     "iopub.status.idle": "2022-02-09T18:53:01.101509Z",
     "shell.execute_reply": "2022-02-09T18:53:01.101045Z"
    }
   },
   "outputs": [],
   "source": [
    "pa = pwd()"
   ]
  },
  {
   "cell_type": "code",
   "execution_count": null,
   "id": "e40c9529",
   "metadata": {
    "execution": {
     "iopub.execute_input": "2022-02-09T18:53:01.104153Z",
     "iopub.status.busy": "2022-02-09T18:53:01.103330Z",
     "iopub.status.idle": "2022-02-09T18:53:01.476541Z",
     "shell.execute_reply": "2022-02-09T18:53:01.476140Z"
    }
   },
   "outputs": [],
   "source": [
    "try\n",
    "\n",
    "    OnePiece.extension.path.shorten(pa, \"Shanks\")\n",
    "\n",
    "catch er\n",
    "\n",
    "    er\n",
    "\n",
    "end"
   ]
  },
  {
   "cell_type": "code",
   "execution_count": null,
   "id": "f8f20090",
   "metadata": {
    "execution": {
     "iopub.execute_input": "2022-02-09T18:53:01.478607Z",
     "iopub.status.busy": "2022-02-09T18:53:01.478025Z",
     "iopub.status.idle": "2022-02-09T18:53:01.528470Z",
     "shell.execute_reply": "2022-02-09T18:53:01.527909Z"
    }
   },
   "outputs": [],
   "source": [
    "for n_ba in [2, 1]\n",
    "\n",
    "    println(OnePiece.extension.path.shorten(pa, n_ba))\n",
    "\n",
    "end"
   ]
  },
  {
   "cell_type": "code",
   "execution_count": null,
   "id": "9881c454",
   "metadata": {
    "execution": {
     "iopub.execute_input": "2022-02-09T18:53:01.530483Z",
     "iopub.status.busy": "2022-02-09T18:53:01.529790Z",
     "iopub.status.idle": "2022-02-09T18:53:01.555145Z",
     "shell.execute_reply": "2022-02-09T18:53:01.554701Z"
    }
   },
   "outputs": [],
   "source": [
    "for di in [\"OnePiece.jl\", \"test\", \"OnePiece.jl/test\", \"extension\"]\n",
    "\n",
    "    println(OnePiece.extension.path.shorten(pa, di))\n",
    "\n",
    "end"
   ]
  },
  {
   "cell_type": "markdown",
   "id": "4f0f34f4",
   "metadata": {
    "execution": {
     "iopub.execute_input": "2021-10-14T18:25:54.055222Z",
     "iopub.status.busy": "2021-10-14T18:25:53.342490Z",
     "iopub.status.idle": "2021-10-14T18:26:10.352867Z",
     "shell.execute_reply": "2021-10-14T18:26:10.352370Z"
    }
   },
   "source": [
    "## clean"
   ]
  },
  {
   "cell_type": "code",
   "execution_count": null,
   "id": "9c1753ae",
   "metadata": {
    "execution": {
     "iopub.execute_input": "2022-02-09T18:53:01.557003Z",
     "iopub.status.busy": "2022-02-09T18:53:01.556426Z",
     "iopub.status.idle": "2022-02-09T18:53:01.591681Z",
     "shell.execute_reply": "2022-02-09T18:53:01.591249Z"
    }
   },
   "outputs": [],
   "source": [
    "OnePiece.extension.path.clean(\"a_b.c-d+e!f%g%h]iJK\")"
   ]
  },
  {
   "cell_type": "markdown",
   "id": "bcf7707b",
   "metadata": {
    "execution": {
     "iopub.execute_input": "2021-10-14T18:25:54.055222Z",
     "iopub.status.busy": "2021-10-14T18:25:53.342490Z",
     "iopub.status.idle": "2021-10-14T18:26:10.352867Z",
     "shell.execute_reply": "2021-10-14T18:26:10.352370Z"
    }
   },
   "source": [
    "## make_absolute"
   ]
  },
  {
   "cell_type": "code",
   "execution_count": null,
   "id": "b861b0f9",
   "metadata": {
    "execution": {
     "iopub.execute_input": "2022-02-09T18:53:01.593465Z",
     "iopub.status.busy": "2022-02-09T18:53:01.592955Z",
     "iopub.status.idle": "2022-02-09T18:53:01.620472Z",
     "shell.execute_reply": "2022-02-09T18:53:01.619918Z"
    }
   },
   "outputs": [],
   "source": [
    "for pa in [\"~/file\", \"~/directory/\"]\n",
    "\n",
    "    println(OnePiece.extension.path.make_absolute(pa))\n",
    "\n",
    "end"
   ]
  },
  {
   "cell_type": "markdown",
   "id": "53c74cab",
   "metadata": {},
   "source": [
    "## remove_extension"
   ]
  },
  {
   "cell_type": "code",
   "execution_count": null,
   "id": "f701b595",
   "metadata": {
    "execution": {
     "iopub.execute_input": "2022-02-09T18:53:01.622630Z",
     "iopub.status.busy": "2022-02-09T18:53:01.622028Z",
     "iopub.status.idle": "2022-02-09T18:53:01.638766Z",
     "shell.execute_reply": "2022-02-09T18:53:01.638262Z"
    }
   },
   "outputs": [],
   "source": [
    "OnePiece.extension.path.remove_extension(\"/path/to/a/file.extension\")"
   ]
  },
  {
   "cell_type": "code",
   "execution_count": null,
   "id": "ec900856",
   "metadata": {
    "execution": {
     "iopub.execute_input": "2022-02-09T18:53:01.640678Z",
     "iopub.status.busy": "2022-02-09T18:53:01.639993Z",
     "iopub.status.idle": "2022-02-09T18:53:01.653680Z",
     "shell.execute_reply": "2022-02-09T18:53:01.653237Z"
    }
   },
   "outputs": [],
   "source": [
    "OnePiece.extension.path.remove_extension(\"/path/to/a/file\")"
   ]
  },
  {
   "cell_type": "code",
   "execution_count": null,
   "id": "9dc8a8bd",
   "metadata": {
    "execution": {
     "iopub.execute_input": "2022-02-09T18:53:01.655586Z",
     "iopub.status.busy": "2022-02-09T18:53:01.655022Z",
     "iopub.status.idle": "2022-02-09T18:53:01.668853Z",
     "shell.execute_reply": "2022-02-09T18:53:01.668368Z"
    }
   },
   "outputs": [],
   "source": [
    "OnePiece.extension.path.remove_extension(\"/path/to/a/directory/\")"
   ]
  },
  {
   "cell_type": "markdown",
   "id": "7670ee74",
   "metadata": {
    "execution": {
     "iopub.execute_input": "2021-10-14T18:25:54.055222Z",
     "iopub.status.busy": "2021-10-14T18:25:53.342490Z",
     "iopub.status.idle": "2021-10-14T18:26:10.352867Z",
     "shell.execute_reply": "2021-10-14T18:26:10.352370Z"
    }
   },
   "source": [
    "## select"
   ]
  },
  {
   "cell_type": "code",
   "execution_count": null,
   "id": "9304e507",
   "metadata": {
    "execution": {
     "iopub.execute_input": "2022-02-09T18:53:01.670967Z",
     "iopub.status.busy": "2022-02-09T18:53:01.670391Z",
     "iopub.status.idle": "2022-02-09T18:53:01.682713Z",
     "shell.execute_reply": "2022-02-09T18:53:01.682136Z"
    }
   },
   "outputs": [],
   "source": [
    "di = homedir()\n",
    "\n",
    ";"
   ]
  },
  {
   "cell_type": "code",
   "execution_count": null,
   "id": "402bdee9",
   "metadata": {
    "execution": {
     "iopub.execute_input": "2022-02-09T18:53:01.684559Z",
     "iopub.status.busy": "2022-02-09T18:53:01.683919Z",
     "iopub.status.idle": "2022-02-09T18:53:02.560146Z",
     "shell.execute_reply": "2022-02-09T18:53:02.559763Z"
    }
   },
   "outputs": [],
   "source": [
    "OnePiece.extension.path.select(di)"
   ]
  },
  {
   "cell_type": "code",
   "execution_count": null,
   "id": "fcb166f2",
   "metadata": {
    "execution": {
     "iopub.execute_input": "2022-02-09T18:53:02.561912Z",
     "iopub.status.busy": "2022-02-09T18:53:02.561411Z",
     "iopub.status.idle": "2022-02-09T18:53:02.618949Z",
     "shell.execute_reply": "2022-02-09T18:53:02.618563Z"
    }
   },
   "outputs": [],
   "source": [
    "OnePiece.extension.path.select(di; ig_ = [], ke_ = [r\"^\\.\"], jo = false)"
   ]
  },
  {
   "cell_type": "markdown",
   "id": "d8111d32",
   "metadata": {},
   "source": [
    "## error_missing_path"
   ]
  },
  {
   "cell_type": "code",
   "execution_count": null,
   "id": "aeefbc77",
   "metadata": {
    "execution": {
     "iopub.execute_input": "2022-02-09T18:53:02.621247Z",
     "iopub.status.busy": "2022-02-09T18:53:02.620646Z",
     "iopub.status.idle": "2022-02-09T18:53:02.634270Z",
     "shell.execute_reply": "2022-02-09T18:53:02.633817Z"
    }
   },
   "outputs": [],
   "source": [
    "go = \"extension/path.ipynb\""
   ]
  },
  {
   "cell_type": "code",
   "execution_count": null,
   "id": "1cf0d05a",
   "metadata": {
    "execution": {
     "iopub.execute_input": "2022-02-09T18:53:02.636222Z",
     "iopub.status.busy": "2022-02-09T18:53:02.635632Z",
     "iopub.status.idle": "2022-02-09T18:53:02.661250Z",
     "shell.execute_reply": "2022-02-09T18:53:02.660788Z"
    }
   },
   "outputs": [],
   "source": [
    "OnePiece.extension.path.error_missing_path(dirname(@__DIR__), [go])"
   ]
  },
  {
   "cell_type": "code",
   "execution_count": null,
   "id": "fb80aeb5",
   "metadata": {
    "execution": {
     "iopub.execute_input": "2022-02-09T18:53:02.663239Z",
     "iopub.status.busy": "2022-02-09T18:53:02.662600Z",
     "iopub.status.idle": "2022-02-09T18:53:02.704913Z",
     "shell.execute_reply": "2022-02-09T18:53:02.704462Z"
    }
   },
   "outputs": [],
   "source": [
    "try\n",
    "\n",
    "    OnePiece.extension.path.error_missing_path(\n",
    "        dirname(@__DIR__),\n",
    "        [go, \"missing/file\", \"missing/directory/\"],\n",
    "    )\n",
    "\n",
    "catch er\n",
    "\n",
    "    er\n",
    "\n",
    "end"
   ]
  },
  {
   "cell_type": "markdown",
   "id": "d120dae4",
   "metadata": {},
   "source": [
    "## error_extension"
   ]
  },
  {
   "cell_type": "code",
   "execution_count": null,
   "id": "5551c780",
   "metadata": {
    "execution": {
     "iopub.execute_input": "2022-02-09T18:53:02.706949Z",
     "iopub.status.busy": "2022-02-09T18:53:02.706368Z",
     "iopub.status.idle": "2022-02-09T18:53:02.722681Z",
     "shell.execute_reply": "2022-02-09T18:53:02.722155Z"
    }
   },
   "outputs": [],
   "source": [
    "OnePiece.extension.path.error_extension(\"file.extension\", \".extension\")"
   ]
  },
  {
   "cell_type": "code",
   "execution_count": null,
   "id": "9b7bcf9e",
   "metadata": {
    "execution": {
     "iopub.execute_input": "2022-02-09T18:53:02.724666Z",
     "iopub.status.busy": "2022-02-09T18:53:02.723986Z",
     "iopub.status.idle": "2022-02-09T18:53:03.576649Z",
     "shell.execute_reply": "2022-02-09T18:53:03.576262Z"
    }
   },
   "outputs": [],
   "source": [
    "for ex in [\"extension\", \".another_extension\"]\n",
    "\n",
    "    try\n",
    "\n",
    "        OnePiece.extension.path.error_extension(\"file.extension\", ex)\n",
    "\n",
    "    catch er\n",
    "\n",
    "        println(er)\n",
    "\n",
    "    end\n",
    "\n",
    "end"
   ]
  },
  {
   "cell_type": "markdown",
   "id": "0ccb2bfe",
   "metadata": {
    "execution": {
     "iopub.execute_input": "2021-10-14T18:25:54.055222Z",
     "iopub.status.busy": "2021-10-14T18:25:53.342490Z",
     "iopub.status.idle": "2021-10-14T18:26:10.352867Z",
     "shell.execute_reply": "2021-10-14T18:26:10.352370Z"
    }
   },
   "source": [
    "## move"
   ]
  },
  {
   "cell_type": "code",
   "execution_count": null,
   "id": "d86d391b",
   "metadata": {
    "execution": {
     "iopub.execute_input": "2022-02-09T18:53:03.578504Z",
     "iopub.status.busy": "2022-02-09T18:53:03.577909Z",
     "iopub.status.idle": "2022-02-09T18:53:03.621106Z",
     "shell.execute_reply": "2022-02-09T18:53:03.620610Z"
    }
   },
   "outputs": [],
   "source": [
    "te = joinpath(tempdir(), \"move\")\n",
    "\n",
    "di1 = mkpath(joinpath(te, \"di1\"))\n",
    "\n",
    "di2 = mkpath(joinpath(te, \"di2\"))\n",
    "\n",
    "di3 = mkpath(joinpath(te, \"di3\"))\n",
    "\n",
    "fi1 = joinpath(di1, \"fi1\")\n",
    "\n",
    "fi2 = joinpath(di2, \"fi2\")\n",
    "\n",
    "touch(fi1)\n",
    "\n",
    "touch(fi2)\n",
    "\n",
    "run(`tree $te`)\n",
    "\n",
    ";"
   ]
  },
  {
   "cell_type": "code",
   "execution_count": null,
   "id": "caf10005",
   "metadata": {
    "execution": {
     "iopub.execute_input": "2022-02-09T18:53:03.623116Z",
     "iopub.status.busy": "2022-02-09T18:53:03.622534Z",
     "iopub.status.idle": "2022-02-09T18:53:03.865715Z",
     "shell.execute_reply": "2022-02-09T18:53:03.865120Z"
    }
   },
   "outputs": [],
   "source": [
    "fi12 = replace(fi1, \"di1\" => \"di3\")\n",
    "\n",
    "println(OnePiece.extension.path.move(fi1, fi12))\n",
    "\n",
    "run(`tree $te`)\n",
    "\n",
    ";"
   ]
  },
  {
   "cell_type": "code",
   "execution_count": null,
   "id": "37ab766d",
   "metadata": {
    "execution": {
     "iopub.execute_input": "2022-02-09T18:53:03.867920Z",
     "iopub.status.busy": "2022-02-09T18:53:03.867324Z",
     "iopub.status.idle": "2022-02-09T18:53:04.168108Z",
     "shell.execute_reply": "2022-02-09T18:53:04.167651Z"
    }
   },
   "outputs": [],
   "source": [
    "try\n",
    "\n",
    "    OnePiece.extension.path.move(di2, di3)\n",
    "\n",
    "catch er\n",
    "\n",
    "    er\n",
    "\n",
    "end"
   ]
  },
  {
   "cell_type": "code",
   "execution_count": null,
   "id": "a2b758c5",
   "metadata": {
    "execution": {
     "iopub.execute_input": "2022-02-09T18:53:04.170088Z",
     "iopub.status.busy": "2022-02-09T18:53:04.169489Z",
     "iopub.status.idle": "2022-02-09T18:53:04.209446Z",
     "shell.execute_reply": "2022-02-09T18:53:04.209865Z"
    }
   },
   "outputs": [],
   "source": [
    "println(OnePiece.extension.path.move(di2, di3; fo = true))\n",
    "\n",
    "run(`tree $te`)\n",
    "\n",
    ";"
   ]
  },
  {
   "cell_type": "markdown",
   "id": "864df5b3",
   "metadata": {},
   "source": [
    "## sed_recursively"
   ]
  },
  {
   "cell_type": "code",
   "execution_count": null,
   "id": "afc362c3",
   "metadata": {
    "execution": {
     "iopub.execute_input": "2022-02-09T18:53:04.211978Z",
     "iopub.status.busy": "2022-02-09T18:53:04.211320Z",
     "iopub.status.idle": "2022-02-09T18:53:04.253381Z",
     "shell.execute_reply": "2022-02-09T18:53:04.252901Z"
    }
   },
   "outputs": [],
   "source": [
    "fi1 = joinpath(te, \"fi1\")\n",
    "\n",
    "fi2 = joinpath(te, \"fi2\")\n",
    "\n",
    "open(fi1, \"w\") do io\n",
    "\n",
    "    write(io, \"Before\")\n",
    "\n",
    "end\n",
    "\n",
    "open(fi2, \"w\") do io\n",
    "\n",
    "    write(io, \"BeforeBefore\")\n",
    "\n",
    "end\n",
    "\n",
    "println(readline(open(fi1)))\n",
    "\n",
    "println(readline(open(fi2)))\n",
    "\n",
    ";"
   ]
  },
  {
   "cell_type": "code",
   "execution_count": null,
   "id": "4098503b",
   "metadata": {
    "execution": {
     "iopub.execute_input": "2022-02-09T18:53:04.255662Z",
     "iopub.status.busy": "2022-02-09T18:53:04.254833Z",
     "iopub.status.idle": "2022-02-09T18:53:04.495526Z",
     "shell.execute_reply": "2022-02-09T18:53:04.495075Z"
    }
   },
   "outputs": [],
   "source": [
    "OnePiece.extension.path.sed_recursively(te, [\"Before\" => \"After\"])\n",
    "\n",
    "println(readline(open(fi1)))\n",
    "\n",
    "println(readline(open(fi2)))"
   ]
  }
 ],
 "metadata": {
  "@webio": {
   "lastCommId": null,
   "lastKernelId": null
  },
  "kernelspec": {
   "display_name": "Julia 1.7.1",
   "language": "julia",
   "name": "julia-1.7"
  },
  "language_info": {
   "file_extension": ".jl",
   "mimetype": "application/julia",
   "name": "julia",
   "version": "1.7.2"
  }
 },
 "nbformat": 4,
 "nbformat_minor": 5
}
