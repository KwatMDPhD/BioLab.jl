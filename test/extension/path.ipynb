{
 "cells": [
  {
   "cell_type": "code",
   "execution_count": null,
   "id": "017464da",
   "metadata": {
    "execution": {
     "iopub.execute_input": "2022-02-11T08:11:06.835488Z",
     "iopub.status.busy": "2022-02-11T08:11:06.494078Z",
     "iopub.status.idle": "2022-02-11T08:11:07.023067Z",
     "shell.execute_reply": "2022-02-11T08:11:07.022578Z"
    }
   },
   "outputs": [],
   "source": [
    "TE = joinpath(tempdir(), \"OnePiece.test\")\n",
    "\n",
    "if isdir(TE)\n",
    "\n",
    "    rm(TE; recursive = true)\n",
    "\n",
    "    println(\"Removed \", TE, \".\")\n",
    "\n",
    "end\n",
    "\n",
    "mkdir(TE)\n",
    "\n",
    "println(\"Made \", TE, \".\")"
   ]
  },
  {
   "cell_type": "code",
   "execution_count": null,
   "id": "34e4701e",
   "metadata": {
    "execution": {
     "iopub.execute_input": "2022-02-11T08:11:07.025142Z",
     "iopub.status.busy": "2022-02-11T08:11:07.024420Z",
     "iopub.status.idle": "2022-02-11T08:11:11.269311Z",
     "shell.execute_reply": "2022-02-11T08:11:11.268786Z"
    }
   },
   "outputs": [],
   "source": [
    "using OnePiece"
   ]
  },
  {
   "cell_type": "markdown",
   "id": "b92a3da9",
   "metadata": {},
   "source": [
    "---"
   ]
  },
  {
   "cell_type": "markdown",
   "id": "174f3b9b",
   "metadata": {
    "execution": {
     "iopub.execute_input": "2021-10-14T18:25:54.055222Z",
     "iopub.status.busy": "2021-10-14T18:25:53.342490Z",
     "iopub.status.idle": "2021-10-14T18:26:10.352867Z",
     "shell.execute_reply": "2021-10-14T18:26:10.352370Z"
    }
   },
   "source": [
    "## shorten"
   ]
  },
  {
   "cell_type": "code",
   "execution_count": null,
   "id": "685c8b90",
   "metadata": {
    "execution": {
     "iopub.execute_input": "2022-02-11T08:11:11.580725Z",
     "iopub.status.busy": "2022-02-11T08:11:11.270837Z",
     "iopub.status.idle": "2022-02-11T08:11:12.194050Z",
     "shell.execute_reply": "2022-02-11T08:11:12.193657Z"
    }
   },
   "outputs": [],
   "source": [
    "pa = pwd()"
   ]
  },
  {
   "cell_type": "code",
   "execution_count": null,
   "id": "e40c9529",
   "metadata": {
    "execution": {
     "iopub.execute_input": "2022-02-11T08:11:12.196164Z",
     "iopub.status.busy": "2022-02-11T08:11:12.195454Z",
     "iopub.status.idle": "2022-02-11T08:11:12.684994Z",
     "shell.execute_reply": "2022-02-11T08:11:12.684484Z"
    }
   },
   "outputs": [],
   "source": [
    "try\n",
    "\n",
    "    OnePiece.extension.path.shorten(pa, \"Shanks\")\n",
    "\n",
    "catch er\n",
    "\n",
    "    er\n",
    "\n",
    "end"
   ]
  },
  {
   "cell_type": "code",
   "execution_count": null,
   "id": "f8f20090",
   "metadata": {
    "execution": {
     "iopub.execute_input": "2022-02-11T08:11:12.687046Z",
     "iopub.status.busy": "2022-02-11T08:11:12.686399Z",
     "iopub.status.idle": "2022-02-11T08:11:12.709401Z",
     "shell.execute_reply": "2022-02-11T08:11:12.708958Z"
    }
   },
   "outputs": [],
   "source": [
    "for n_ba in [2, 1]\n",
    "\n",
    "    println(OnePiece.extension.path.shorten(pa, n_ba))\n",
    "\n",
    "end"
   ]
  },
  {
   "cell_type": "code",
   "execution_count": null,
   "id": "9881c454",
   "metadata": {
    "execution": {
     "iopub.execute_input": "2022-02-11T08:11:12.711466Z",
     "iopub.status.busy": "2022-02-11T08:11:12.710964Z",
     "iopub.status.idle": "2022-02-11T08:11:12.721723Z",
     "shell.execute_reply": "2022-02-11T08:11:12.722034Z"
    }
   },
   "outputs": [],
   "source": [
    "for di in [\"OnePiece.jl\", \"test\", \"OnePiece.jl/test\", \"extension\"]\n",
    "\n",
    "    println(OnePiece.extension.path.shorten(pa, di))\n",
    "\n",
    "end"
   ]
  },
  {
   "cell_type": "markdown",
   "id": "4f0f34f4",
   "metadata": {
    "execution": {
     "iopub.execute_input": "2021-10-14T18:25:54.055222Z",
     "iopub.status.busy": "2021-10-14T18:25:53.342490Z",
     "iopub.status.idle": "2021-10-14T18:26:10.352867Z",
     "shell.execute_reply": "2021-10-14T18:26:10.352370Z"
    }
   },
   "source": [
    "## clean"
   ]
  },
  {
   "cell_type": "code",
   "execution_count": null,
   "id": "9c1753ae",
   "metadata": {
    "execution": {
     "iopub.execute_input": "2022-02-11T08:11:12.724065Z",
     "iopub.status.busy": "2022-02-11T08:11:12.723395Z",
     "iopub.status.idle": "2022-02-11T08:11:12.730179Z",
     "shell.execute_reply": "2022-02-11T08:11:12.729805Z"
    }
   },
   "outputs": [],
   "source": [
    "OnePiece.extension.path.clean(\"a_b.c-d+e!f%g%h]iJK\")"
   ]
  },
  {
   "cell_type": "markdown",
   "id": "bcf7707b",
   "metadata": {
    "execution": {
     "iopub.execute_input": "2021-10-14T18:25:54.055222Z",
     "iopub.status.busy": "2021-10-14T18:25:53.342490Z",
     "iopub.status.idle": "2021-10-14T18:26:10.352867Z",
     "shell.execute_reply": "2021-10-14T18:26:10.352370Z"
    }
   },
   "source": [
    "## make_absolute"
   ]
  },
  {
   "cell_type": "code",
   "execution_count": null,
   "id": "b861b0f9",
   "metadata": {
    "execution": {
     "iopub.execute_input": "2022-02-11T08:11:12.732310Z",
     "iopub.status.busy": "2022-02-11T08:11:12.731802Z",
     "iopub.status.idle": "2022-02-11T08:11:12.744772Z",
     "shell.execute_reply": "2022-02-11T08:11:12.744388Z"
    }
   },
   "outputs": [],
   "source": [
    "for pa in [\"~/file\", \"~/directory/\"]\n",
    "\n",
    "    println(OnePiece.extension.path.make_absolute(pa))\n",
    "\n",
    "end"
   ]
  },
  {
   "cell_type": "markdown",
   "id": "53c74cab",
   "metadata": {},
   "source": [
    "## remove_extension"
   ]
  },
  {
   "cell_type": "code",
   "execution_count": null,
   "id": "f701b595",
   "metadata": {
    "execution": {
     "iopub.execute_input": "2022-02-11T08:11:12.746831Z",
     "iopub.status.busy": "2022-02-11T08:11:12.746152Z",
     "iopub.status.idle": "2022-02-11T08:11:12.750432Z",
     "shell.execute_reply": "2022-02-11T08:11:12.750065Z"
    }
   },
   "outputs": [],
   "source": [
    "OnePiece.extension.path.remove_extension(\"/path/to/a/file.extension\")"
   ]
  },
  {
   "cell_type": "code",
   "execution_count": null,
   "id": "ec900856",
   "metadata": {
    "execution": {
     "iopub.execute_input": "2022-02-11T08:11:12.752842Z",
     "iopub.status.busy": "2022-02-11T08:11:12.751953Z",
     "iopub.status.idle": "2022-02-11T08:11:12.754356Z",
     "shell.execute_reply": "2022-02-11T08:11:12.753356Z"
    }
   },
   "outputs": [],
   "source": [
    "OnePiece.extension.path.remove_extension(\"/path/to/a/file\")"
   ]
  },
  {
   "cell_type": "code",
   "execution_count": null,
   "id": "9dc8a8bd",
   "metadata": {
    "execution": {
     "iopub.execute_input": "2022-02-11T08:11:12.756678Z",
     "iopub.status.busy": "2022-02-11T08:11:12.755764Z",
     "iopub.status.idle": "2022-02-11T08:11:12.758220Z",
     "shell.execute_reply": "2022-02-11T08:11:12.757188Z"
    }
   },
   "outputs": [],
   "source": [
    "OnePiece.extension.path.remove_extension(\"/path/to/a/directory/\")"
   ]
  },
  {
   "cell_type": "markdown",
   "id": "7670ee74",
   "metadata": {
    "execution": {
     "iopub.execute_input": "2021-10-14T18:25:54.055222Z",
     "iopub.status.busy": "2021-10-14T18:25:53.342490Z",
     "iopub.status.idle": "2021-10-14T18:26:10.352867Z",
     "shell.execute_reply": "2021-10-14T18:26:10.352370Z"
    }
   },
   "source": [
    "## select"
   ]
  },
  {
   "cell_type": "code",
   "execution_count": null,
   "id": "9304e507",
   "metadata": {
    "execution": {
     "iopub.execute_input": "2022-02-11T08:11:12.760442Z",
     "iopub.status.busy": "2022-02-11T08:11:12.759746Z",
     "iopub.status.idle": "2022-02-11T08:11:12.761343Z",
     "shell.execute_reply": "2022-02-11T08:11:12.760964Z"
    }
   },
   "outputs": [],
   "source": [
    "di = homedir()\n",
    "\n",
    ";"
   ]
  },
  {
   "cell_type": "code",
   "execution_count": null,
   "id": "402bdee9",
   "metadata": {
    "execution": {
     "iopub.execute_input": "2022-02-11T08:11:12.763207Z",
     "iopub.status.busy": "2022-02-11T08:11:12.762701Z",
     "iopub.status.idle": "2022-02-11T08:11:13.549119Z",
     "shell.execute_reply": "2022-02-11T08:11:13.548736Z"
    }
   },
   "outputs": [],
   "source": [
    "OnePiece.extension.path.select(di)"
   ]
  },
  {
   "cell_type": "code",
   "execution_count": null,
   "id": "fcb166f2",
   "metadata": {
    "execution": {
     "iopub.execute_input": "2022-02-11T08:11:13.551072Z",
     "iopub.status.busy": "2022-02-11T08:11:13.550532Z",
     "iopub.status.idle": "2022-02-11T08:11:13.595583Z",
     "shell.execute_reply": "2022-02-11T08:11:13.595162Z"
    }
   },
   "outputs": [],
   "source": [
    "OnePiece.extension.path.select(di; ig_ = [], ke_ = [r\"^\\.\"], jo = false)"
   ]
  },
  {
   "cell_type": "markdown",
   "id": "d8111d32",
   "metadata": {},
   "source": [
    "## error_missing_path"
   ]
  },
  {
   "cell_type": "code",
   "execution_count": null,
   "id": "aeefbc77",
   "metadata": {
    "execution": {
     "iopub.execute_input": "2022-02-11T08:11:13.598044Z",
     "iopub.status.busy": "2022-02-11T08:11:13.597238Z",
     "iopub.status.idle": "2022-02-11T08:11:13.599630Z",
     "shell.execute_reply": "2022-02-11T08:11:13.598486Z"
    }
   },
   "outputs": [],
   "source": [
    "go = \"extension/path.ipynb\""
   ]
  },
  {
   "cell_type": "code",
   "execution_count": null,
   "id": "1cf0d05a",
   "metadata": {
    "execution": {
     "iopub.execute_input": "2022-02-11T08:11:13.601589Z",
     "iopub.status.busy": "2022-02-11T08:11:13.601075Z",
     "iopub.status.idle": "2022-02-11T08:11:13.616919Z",
     "shell.execute_reply": "2022-02-11T08:11:13.616307Z"
    }
   },
   "outputs": [],
   "source": [
    "OnePiece.extension.path.error_missing_path(dirname(@__DIR__), [go])"
   ]
  },
  {
   "cell_type": "code",
   "execution_count": null,
   "id": "fb80aeb5",
   "metadata": {
    "execution": {
     "iopub.execute_input": "2022-02-11T08:11:13.618992Z",
     "iopub.status.busy": "2022-02-11T08:11:13.618366Z",
     "iopub.status.idle": "2022-02-11T08:11:13.653092Z",
     "shell.execute_reply": "2022-02-11T08:11:13.652709Z"
    }
   },
   "outputs": [],
   "source": [
    "try\n",
    "\n",
    "    OnePiece.extension.path.error_missing_path(\n",
    "        dirname(@__DIR__),\n",
    "        [go, \"missing/file\", \"missing/directory/\"],\n",
    "    )\n",
    "\n",
    "catch er\n",
    "\n",
    "    er\n",
    "\n",
    "end"
   ]
  },
  {
   "cell_type": "markdown",
   "id": "d120dae4",
   "metadata": {},
   "source": [
    "## error_extension"
   ]
  },
  {
   "cell_type": "code",
   "execution_count": null,
   "id": "5551c780",
   "metadata": {
    "execution": {
     "iopub.execute_input": "2022-02-11T08:11:13.655144Z",
     "iopub.status.busy": "2022-02-11T08:11:13.654518Z",
     "iopub.status.idle": "2022-02-11T08:11:13.658888Z",
     "shell.execute_reply": "2022-02-11T08:11:13.658359Z"
    }
   },
   "outputs": [],
   "source": [
    "OnePiece.extension.path.error_extension(\"file.extension\", \".extension\")"
   ]
  },
  {
   "cell_type": "code",
   "execution_count": null,
   "id": "9b7bcf9e",
   "metadata": {
    "execution": {
     "iopub.execute_input": "2022-02-11T08:11:13.660936Z",
     "iopub.status.busy": "2022-02-11T08:11:13.660263Z",
     "iopub.status.idle": "2022-02-11T08:11:14.448387Z",
     "shell.execute_reply": "2022-02-11T08:11:14.448005Z"
    }
   },
   "outputs": [],
   "source": [
    "for ex in [\"extension\", \".another_extension\"]\n",
    "\n",
    "    try\n",
    "\n",
    "        OnePiece.extension.path.error_extension(\"file.extension\", ex)\n",
    "\n",
    "    catch er\n",
    "\n",
    "        println(er)\n",
    "\n",
    "    end\n",
    "\n",
    "end"
   ]
  },
  {
   "cell_type": "markdown",
   "id": "0ccb2bfe",
   "metadata": {
    "execution": {
     "iopub.execute_input": "2021-10-14T18:25:54.055222Z",
     "iopub.status.busy": "2021-10-14T18:25:53.342490Z",
     "iopub.status.idle": "2021-10-14T18:26:10.352867Z",
     "shell.execute_reply": "2021-10-14T18:26:10.352370Z"
    }
   },
   "source": [
    "## move"
   ]
  },
  {
   "cell_type": "code",
   "execution_count": null,
   "id": "d86d391b",
   "metadata": {
    "execution": {
     "iopub.execute_input": "2022-02-11T08:11:14.450512Z",
     "iopub.status.busy": "2022-02-11T08:11:14.450016Z",
     "iopub.status.idle": "2022-02-11T08:11:14.482488Z",
     "shell.execute_reply": "2022-02-11T08:11:14.482942Z"
    }
   },
   "outputs": [],
   "source": [
    "te = joinpath(tempdir(), \"move\")\n",
    "\n",
    "di1 = mkpath(joinpath(te, \"di1\"))\n",
    "\n",
    "di2 = mkpath(joinpath(te, \"di2\"))\n",
    "\n",
    "di3 = mkpath(joinpath(te, \"di3\"))\n",
    "\n",
    "fi1 = joinpath(di1, \"fi1\")\n",
    "\n",
    "fi2 = joinpath(di2, \"fi2\")\n",
    "\n",
    "touch(fi1)\n",
    "\n",
    "touch(fi2)\n",
    "\n",
    "run(`tree $te`)\n",
    "\n",
    ";"
   ]
  },
  {
   "cell_type": "code",
   "execution_count": null,
   "id": "caf10005",
   "metadata": {
    "execution": {
     "iopub.execute_input": "2022-02-11T08:11:14.485056Z",
     "iopub.status.busy": "2022-02-11T08:11:14.484359Z",
     "iopub.status.idle": "2022-02-11T08:11:14.677307Z",
     "shell.execute_reply": "2022-02-11T08:11:14.677677Z"
    }
   },
   "outputs": [],
   "source": [
    "fi12 = replace(fi1, \"di1\" => \"di3\")\n",
    "\n",
    "println(OnePiece.extension.path.move(fi1, fi12))\n",
    "\n",
    "run(`tree $te`)\n",
    "\n",
    ";"
   ]
  },
  {
   "cell_type": "code",
   "execution_count": null,
   "id": "37ab766d",
   "metadata": {
    "execution": {
     "iopub.execute_input": "2022-02-11T08:11:14.679776Z",
     "iopub.status.busy": "2022-02-11T08:11:14.679205Z",
     "iopub.status.idle": "2022-02-11T08:11:14.924337Z",
     "shell.execute_reply": "2022-02-11T08:11:14.923879Z"
    }
   },
   "outputs": [],
   "source": [
    "try\n",
    "\n",
    "    OnePiece.extension.path.move(di2, di3)\n",
    "\n",
    "catch er\n",
    "\n",
    "    er\n",
    "\n",
    "end"
   ]
  },
  {
   "cell_type": "code",
   "execution_count": null,
   "id": "a2b758c5",
   "metadata": {
    "execution": {
     "iopub.execute_input": "2022-02-11T08:11:14.926224Z",
     "iopub.status.busy": "2022-02-11T08:11:14.925658Z",
     "iopub.status.idle": "2022-02-11T08:11:14.948103Z",
     "shell.execute_reply": "2022-02-11T08:11:14.948527Z"
    }
   },
   "outputs": [],
   "source": [
    "println(OnePiece.extension.path.move(di2, di3; fo = true))\n",
    "\n",
    "run(`tree $te`)\n",
    "\n",
    ";"
   ]
  },
  {
   "cell_type": "markdown",
   "id": "864df5b3",
   "metadata": {},
   "source": [
    "## sed_recursively"
   ]
  },
  {
   "cell_type": "code",
   "execution_count": null,
   "id": "afc362c3",
   "metadata": {
    "execution": {
     "iopub.execute_input": "2022-02-11T08:11:14.950628Z",
     "iopub.status.busy": "2022-02-11T08:11:14.950062Z",
     "iopub.status.idle": "2022-02-11T08:11:14.976530Z",
     "shell.execute_reply": "2022-02-11T08:11:14.976118Z"
    }
   },
   "outputs": [],
   "source": [
    "fi1 = joinpath(te, \"fi1\")\n",
    "\n",
    "fi2 = joinpath(te, \"fi2\")\n",
    "\n",
    "open(fi1, \"w\") do io\n",
    "\n",
    "    write(io, \"Before\")\n",
    "\n",
    "end\n",
    "\n",
    "open(fi2, \"w\") do io\n",
    "\n",
    "    write(io, \"BeforeBefore\")\n",
    "\n",
    "end\n",
    "\n",
    "println(readline(open(fi1)))\n",
    "\n",
    "println(readline(open(fi2)))\n",
    "\n",
    ";"
   ]
  },
  {
   "cell_type": "code",
   "execution_count": null,
   "id": "4098503b",
   "metadata": {
    "execution": {
     "iopub.execute_input": "2022-02-11T08:11:14.978460Z",
     "iopub.status.busy": "2022-02-11T08:11:14.977883Z",
     "iopub.status.idle": "2022-02-11T08:11:15.172228Z",
     "shell.execute_reply": "2022-02-11T08:11:15.171129Z"
    }
   },
   "outputs": [],
   "source": [
    "OnePiece.extension.path.sed_recursively(te, [\"Before\" => \"After\"])\n",
    "\n",
    "println(readline(open(fi1)))\n",
    "\n",
    "println(readline(open(fi2)))"
   ]
  },
  {
   "cell_type": "markdown",
   "id": "3f396855",
   "metadata": {},
   "source": [
    "---"
   ]
  },
  {
   "cell_type": "code",
   "execution_count": null,
   "id": "b4af2023",
   "metadata": {
    "execution": {
     "iopub.execute_input": "2022-02-11T08:11:15.174183Z",
     "iopub.status.busy": "2022-02-11T08:11:15.173610Z",
     "iopub.status.idle": "2022-02-11T08:11:15.176237Z",
     "shell.execute_reply": "2022-02-11T08:11:15.175829Z"
    }
   },
   "outputs": [],
   "source": [
    "if isdir(TE)\n",
    "\n",
    "    rm(TE; recursive = true)\n",
    "\n",
    "    println(\"Removed \", TE, \".\")\n",
    "\n",
    "end"
   ]
  }
 ],
 "metadata": {
  "kernelspec": {
   "display_name": "Julia 1.7.2",
   "language": "julia",
   "name": "julia-1.7"
  },
  "language_info": {
   "file_extension": ".jl",
   "mimetype": "application/julia",
   "name": "julia",
   "version": "1.7.2"
  }
 },
 "nbformat": 4,
 "nbformat_minor": 5
}
