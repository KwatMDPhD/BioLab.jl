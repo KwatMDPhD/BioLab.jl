{
 "cells": [
  {
   "cell_type": "code",
   "execution_count": null,
   "id": "017464da",
   "metadata": {
    "execution": {
     "iopub.execute_input": "2022-02-14T02:53:07.363001Z",
     "iopub.status.busy": "2022-02-14T02:53:06.961189Z",
     "iopub.status.idle": "2022-02-14T02:53:07.585568Z",
     "shell.execute_reply": "2022-02-14T02:53:07.584895Z"
    }
   },
   "outputs": [],
   "source": [
    "TE = joinpath(tempdir(), \"OnePiece.test\")\n",
    "\n",
    "if isdir(TE)\n",
    "\n",
    "    rm(TE, recursive = true)\n",
    "\n",
    "    println(\"Removed \", TE, \".\")\n",
    "\n",
    "end\n",
    "\n",
    "mkdir(TE)\n",
    "\n",
    "println(\"Made \", TE, \".\")"
   ]
  },
  {
   "cell_type": "code",
   "execution_count": null,
   "id": "34e4701e",
   "metadata": {
    "execution": {
     "iopub.execute_input": "2022-02-14T02:53:07.587547Z",
     "iopub.status.busy": "2022-02-14T02:53:07.586945Z",
     "iopub.status.idle": "2022-02-14T02:53:12.312708Z",
     "shell.execute_reply": "2022-02-14T02:53:12.312190Z"
    }
   },
   "outputs": [],
   "source": [
    "using OnePiece"
   ]
  },
  {
   "cell_type": "markdown",
   "id": "b92a3da9",
   "metadata": {},
   "source": [
    "---"
   ]
  },
  {
   "cell_type": "markdown",
   "id": "174f3b9b",
   "metadata": {
    "execution": {
     "iopub.execute_input": "2021-10-14T18:25:54.055222Z",
     "iopub.status.busy": "2021-10-14T18:25:53.342490Z",
     "iopub.status.idle": "2021-10-14T18:26:10.352867Z",
     "shell.execute_reply": "2021-10-14T18:26:10.352370Z"
    }
   },
   "source": [
    "## shorten"
   ]
  },
  {
   "cell_type": "code",
   "execution_count": null,
   "id": "685c8b90",
   "metadata": {
    "execution": {
     "iopub.execute_input": "2022-02-14T02:53:12.663228Z",
     "iopub.status.busy": "2022-02-14T02:53:12.314103Z",
     "iopub.status.idle": "2022-02-14T02:53:13.387852Z",
     "shell.execute_reply": "2022-02-14T02:53:13.387380Z"
    }
   },
   "outputs": [],
   "source": [
    "pa = pwd()"
   ]
  },
  {
   "cell_type": "code",
   "execution_count": null,
   "id": "e40c9529",
   "metadata": {
    "execution": {
     "iopub.execute_input": "2022-02-14T02:53:13.389831Z",
     "iopub.status.busy": "2022-02-14T02:53:13.389232Z",
     "iopub.status.idle": "2022-02-14T02:53:13.960188Z",
     "shell.execute_reply": "2022-02-14T02:53:13.959658Z"
    }
   },
   "outputs": [],
   "source": [
    "try\n",
    "\n",
    "    OnePiece.extension.path.shorten(pa, \"Shanks\")\n",
    "\n",
    "catch er\n",
    "\n",
    "    er\n",
    "\n",
    "end"
   ]
  },
  {
   "cell_type": "code",
   "execution_count": null,
   "id": "f8f20090",
   "metadata": {
    "execution": {
     "iopub.execute_input": "2022-02-14T02:53:13.962107Z",
     "iopub.status.busy": "2022-02-14T02:53:13.961516Z",
     "iopub.status.idle": "2022-02-14T02:53:13.987934Z",
     "shell.execute_reply": "2022-02-14T02:53:13.987394Z"
    }
   },
   "outputs": [],
   "source": [
    "for n_ba in [2, 1]\n",
    "\n",
    "    println(OnePiece.extension.path.shorten(pa, n_ba))\n",
    "\n",
    "end"
   ]
  },
  {
   "cell_type": "code",
   "execution_count": null,
   "id": "9881c454",
   "metadata": {
    "execution": {
     "iopub.execute_input": "2022-02-14T02:53:13.989878Z",
     "iopub.status.busy": "2022-02-14T02:53:13.989285Z",
     "iopub.status.idle": "2022-02-14T02:53:14.001709Z",
     "shell.execute_reply": "2022-02-14T02:53:14.001275Z"
    }
   },
   "outputs": [],
   "source": [
    "for di in [\"OnePiece.jl\", \"test\", \"OnePiece.jl/test\", \"extension\"]\n",
    "\n",
    "    println(OnePiece.extension.path.shorten(pa, di))\n",
    "\n",
    "end"
   ]
  },
  {
   "cell_type": "markdown",
   "id": "4f0f34f4",
   "metadata": {
    "execution": {
     "iopub.execute_input": "2021-10-14T18:25:54.055222Z",
     "iopub.status.busy": "2021-10-14T18:25:53.342490Z",
     "iopub.status.idle": "2021-10-14T18:26:10.352867Z",
     "shell.execute_reply": "2021-10-14T18:26:10.352370Z"
    }
   },
   "source": [
    "## clean"
   ]
  },
  {
   "cell_type": "code",
   "execution_count": null,
   "id": "9c1753ae",
   "metadata": {
    "execution": {
     "iopub.execute_input": "2022-02-14T02:53:14.003894Z",
     "iopub.status.busy": "2022-02-14T02:53:14.003307Z",
     "iopub.status.idle": "2022-02-14T02:53:14.010907Z",
     "shell.execute_reply": "2022-02-14T02:53:14.010449Z"
    }
   },
   "outputs": [],
   "source": [
    "OnePiece.extension.path.clean(\"a_b.c-d+e!f%g%h]iJK\")"
   ]
  },
  {
   "cell_type": "markdown",
   "id": "bcf7707b",
   "metadata": {
    "execution": {
     "iopub.execute_input": "2021-10-14T18:25:54.055222Z",
     "iopub.status.busy": "2021-10-14T18:25:53.342490Z",
     "iopub.status.idle": "2021-10-14T18:26:10.352867Z",
     "shell.execute_reply": "2021-10-14T18:26:10.352370Z"
    }
   },
   "source": [
    "## make_absolute"
   ]
  },
  {
   "cell_type": "code",
   "execution_count": null,
   "id": "b861b0f9",
   "metadata": {
    "execution": {
     "iopub.execute_input": "2022-02-14T02:53:14.012953Z",
     "iopub.status.busy": "2022-02-14T02:53:14.012353Z",
     "iopub.status.idle": "2022-02-14T02:53:14.028072Z",
     "shell.execute_reply": "2022-02-14T02:53:14.027629Z"
    }
   },
   "outputs": [],
   "source": [
    "for pa in [\"~/file\", \"~/directory/\"]\n",
    "\n",
    "    println(OnePiece.extension.path.make_absolute(pa))\n",
    "\n",
    "end"
   ]
  },
  {
   "cell_type": "markdown",
   "id": "53c74cab",
   "metadata": {},
   "source": [
    "## remove_extension"
   ]
  },
  {
   "cell_type": "code",
   "execution_count": null,
   "id": "f701b595",
   "metadata": {
    "execution": {
     "iopub.execute_input": "2022-02-14T02:53:14.030065Z",
     "iopub.status.busy": "2022-02-14T02:53:14.029484Z",
     "iopub.status.idle": "2022-02-14T02:53:14.034055Z",
     "shell.execute_reply": "2022-02-14T02:53:14.033608Z"
    }
   },
   "outputs": [],
   "source": [
    "OnePiece.extension.path.remove_extension(\"/path/to/a/file.extension\")"
   ]
  },
  {
   "cell_type": "code",
   "execution_count": null,
   "id": "ec900856",
   "metadata": {
    "execution": {
     "iopub.execute_input": "2022-02-14T02:53:14.036248Z",
     "iopub.status.busy": "2022-02-14T02:53:14.035460Z",
     "iopub.status.idle": "2022-02-14T02:53:14.038251Z",
     "shell.execute_reply": "2022-02-14T02:53:14.036901Z"
    }
   },
   "outputs": [],
   "source": [
    "OnePiece.extension.path.remove_extension(\"/path/to/a/file\")"
   ]
  },
  {
   "cell_type": "code",
   "execution_count": null,
   "id": "9dc8a8bd",
   "metadata": {
    "execution": {
     "iopub.execute_input": "2022-02-14T02:53:14.040412Z",
     "iopub.status.busy": "2022-02-14T02:53:14.039603Z",
     "iopub.status.idle": "2022-02-14T02:53:14.042149Z",
     "shell.execute_reply": "2022-02-14T02:53:14.040950Z"
    }
   },
   "outputs": [],
   "source": [
    "OnePiece.extension.path.remove_extension(\"/path/to/a/directory/\")"
   ]
  },
  {
   "cell_type": "markdown",
   "id": "7670ee74",
   "metadata": {
    "execution": {
     "iopub.execute_input": "2021-10-14T18:25:54.055222Z",
     "iopub.status.busy": "2021-10-14T18:25:53.342490Z",
     "iopub.status.idle": "2021-10-14T18:26:10.352867Z",
     "shell.execute_reply": "2021-10-14T18:26:10.352370Z"
    }
   },
   "source": [
    "## select"
   ]
  },
  {
   "cell_type": "code",
   "execution_count": null,
   "id": "9304e507",
   "metadata": {
    "execution": {
     "iopub.execute_input": "2022-02-14T02:53:14.044237Z",
     "iopub.status.busy": "2022-02-14T02:53:14.043503Z",
     "iopub.status.idle": "2022-02-14T02:53:14.045256Z",
     "shell.execute_reply": "2022-02-14T02:53:14.044789Z"
    }
   },
   "outputs": [],
   "source": [
    "di = homedir()\n",
    "\n",
    ";"
   ]
  },
  {
   "cell_type": "code",
   "execution_count": null,
   "id": "402bdee9",
   "metadata": {
    "execution": {
     "iopub.execute_input": "2022-02-14T02:53:14.047070Z",
     "iopub.status.busy": "2022-02-14T02:53:14.046486Z",
     "iopub.status.idle": "2022-02-14T02:53:14.941958Z",
     "shell.execute_reply": "2022-02-14T02:53:14.941494Z"
    }
   },
   "outputs": [],
   "source": [
    "OnePiece.extension.path.select(di)"
   ]
  },
  {
   "cell_type": "code",
   "execution_count": null,
   "id": "fcb166f2",
   "metadata": {
    "execution": {
     "iopub.execute_input": "2022-02-14T02:53:14.943883Z",
     "iopub.status.busy": "2022-02-14T02:53:14.943304Z",
     "iopub.status.idle": "2022-02-14T02:53:14.995928Z",
     "shell.execute_reply": "2022-02-14T02:53:14.995467Z"
    }
   },
   "outputs": [],
   "source": [
    "OnePiece.extension.path.select(di; ig_ = [], ke_ = [r\"^\\.\"], jo = false)"
   ]
  },
  {
   "cell_type": "markdown",
   "id": "d8111d32",
   "metadata": {},
   "source": [
    "## error_missing_path"
   ]
  },
  {
   "cell_type": "code",
   "execution_count": null,
   "id": "aeefbc77",
   "metadata": {
    "execution": {
     "iopub.execute_input": "2022-02-14T02:53:14.998158Z",
     "iopub.status.busy": "2022-02-14T02:53:14.997358Z",
     "iopub.status.idle": "2022-02-14T02:53:14.999891Z",
     "shell.execute_reply": "2022-02-14T02:53:14.998710Z"
    }
   },
   "outputs": [],
   "source": [
    "go = \"extension/path.ipynb\""
   ]
  },
  {
   "cell_type": "code",
   "execution_count": null,
   "id": "1cf0d05a",
   "metadata": {
    "execution": {
     "iopub.execute_input": "2022-02-14T02:53:15.001873Z",
     "iopub.status.busy": "2022-02-14T02:53:15.001158Z",
     "iopub.status.idle": "2022-02-14T02:53:15.019867Z",
     "shell.execute_reply": "2022-02-14T02:53:15.019218Z"
    }
   },
   "outputs": [],
   "source": [
    "OnePiece.extension.path.error_missing_path(dirname(@__DIR__), [go])"
   ]
  },
  {
   "cell_type": "code",
   "execution_count": null,
   "id": "fb80aeb5",
   "metadata": {
    "execution": {
     "iopub.execute_input": "2022-02-14T02:53:15.022214Z",
     "iopub.status.busy": "2022-02-14T02:53:15.021612Z",
     "iopub.status.idle": "2022-02-14T02:53:15.052345Z",
     "shell.execute_reply": "2022-02-14T02:53:15.051786Z"
    }
   },
   "outputs": [],
   "source": [
    "try\n",
    "\n",
    "    OnePiece.extension.path.error_missing_path(\n",
    "        dirname(@__DIR__),\n",
    "        [go, \"missing/file\", \"missing/directory/\"],\n",
    "    )\n",
    "\n",
    "catch er\n",
    "\n",
    "    er\n",
    "\n",
    "end"
   ]
  },
  {
   "cell_type": "markdown",
   "id": "d120dae4",
   "metadata": {},
   "source": [
    "## error_extension"
   ]
  },
  {
   "cell_type": "code",
   "execution_count": null,
   "id": "5551c780",
   "metadata": {
    "execution": {
     "iopub.execute_input": "2022-02-14T02:53:15.054338Z",
     "iopub.status.busy": "2022-02-14T02:53:15.053757Z",
     "iopub.status.idle": "2022-02-14T02:53:15.058537Z",
     "shell.execute_reply": "2022-02-14T02:53:15.058027Z"
    }
   },
   "outputs": [],
   "source": [
    "OnePiece.extension.path.error_extension(\"file.extension\", \".extension\")"
   ]
  },
  {
   "cell_type": "code",
   "execution_count": null,
   "id": "9b7bcf9e",
   "metadata": {
    "execution": {
     "iopub.execute_input": "2022-02-14T02:53:15.060425Z",
     "iopub.status.busy": "2022-02-14T02:53:15.059841Z",
     "iopub.status.idle": "2022-02-14T02:53:15.969700Z",
     "shell.execute_reply": "2022-02-14T02:53:15.969267Z"
    }
   },
   "outputs": [],
   "source": [
    "for ex in [\"extension\", \".another_extension\"]\n",
    "\n",
    "    try\n",
    "\n",
    "        OnePiece.extension.path.error_extension(\"file.extension\", ex)\n",
    "\n",
    "    catch er\n",
    "\n",
    "        println(er)\n",
    "\n",
    "    end\n",
    "\n",
    "end"
   ]
  },
  {
   "cell_type": "markdown",
   "id": "0ccb2bfe",
   "metadata": {
    "execution": {
     "iopub.execute_input": "2021-10-14T18:25:54.055222Z",
     "iopub.status.busy": "2021-10-14T18:25:53.342490Z",
     "iopub.status.idle": "2021-10-14T18:26:10.352867Z",
     "shell.execute_reply": "2021-10-14T18:26:10.352370Z"
    }
   },
   "source": [
    "## move"
   ]
  },
  {
   "cell_type": "code",
   "execution_count": null,
   "id": "d86d391b",
   "metadata": {
    "execution": {
     "iopub.execute_input": "2022-02-14T02:53:15.971759Z",
     "iopub.status.busy": "2022-02-14T02:53:15.971144Z",
     "iopub.status.idle": "2022-02-14T02:53:16.005821Z",
     "shell.execute_reply": "2022-02-14T02:53:16.006330Z"
    }
   },
   "outputs": [],
   "source": [
    "te = joinpath(tempdir(), \"move\")\n",
    "\n",
    "di1 = mkpath(joinpath(te, \"di1\"))\n",
    "\n",
    "di2 = mkpath(joinpath(te, \"di2\"))\n",
    "\n",
    "di3 = mkpath(joinpath(te, \"di3\"))\n",
    "\n",
    "fi1 = joinpath(di1, \"fi1\")\n",
    "\n",
    "fi2 = joinpath(di2, \"fi2\")\n",
    "\n",
    "touch(fi1)\n",
    "\n",
    "touch(fi2)\n",
    "\n",
    "run(`tree $te`)\n",
    "\n",
    ";"
   ]
  },
  {
   "cell_type": "code",
   "execution_count": null,
   "id": "caf10005",
   "metadata": {
    "execution": {
     "iopub.execute_input": "2022-02-14T02:53:16.008357Z",
     "iopub.status.busy": "2022-02-14T02:53:16.007780Z",
     "iopub.status.idle": "2022-02-14T02:53:16.203367Z",
     "shell.execute_reply": "2022-02-14T02:53:16.203783Z"
    }
   },
   "outputs": [],
   "source": [
    "fi12 = replace(fi1, \"di1\" => \"di3\")\n",
    "\n",
    "println(OnePiece.extension.path.move(fi1, fi12))\n",
    "\n",
    "run(`tree $te`)\n",
    "\n",
    ";"
   ]
  },
  {
   "cell_type": "code",
   "execution_count": null,
   "id": "37ab766d",
   "metadata": {
    "execution": {
     "iopub.execute_input": "2022-02-14T02:53:16.205946Z",
     "iopub.status.busy": "2022-02-14T02:53:16.205361Z",
     "iopub.status.idle": "2022-02-14T02:53:16.473285Z",
     "shell.execute_reply": "2022-02-14T02:53:16.472828Z"
    }
   },
   "outputs": [],
   "source": [
    "try\n",
    "\n",
    "    OnePiece.extension.path.move(di2, di3)\n",
    "\n",
    "catch er\n",
    "\n",
    "    er\n",
    "\n",
    "end"
   ]
  },
  {
   "cell_type": "code",
   "execution_count": null,
   "id": "a2b758c5",
   "metadata": {
    "execution": {
     "iopub.execute_input": "2022-02-14T02:53:16.475183Z",
     "iopub.status.busy": "2022-02-14T02:53:16.474606Z",
     "iopub.status.idle": "2022-02-14T02:53:16.500528Z",
     "shell.execute_reply": "2022-02-14T02:53:16.500943Z"
    }
   },
   "outputs": [],
   "source": [
    "println(OnePiece.extension.path.move(di2, di3; fo = true))\n",
    "\n",
    "run(`tree $te`)\n",
    "\n",
    ";"
   ]
  },
  {
   "cell_type": "markdown",
   "id": "864df5b3",
   "metadata": {},
   "source": [
    "## sed_recursively"
   ]
  },
  {
   "cell_type": "code",
   "execution_count": null,
   "id": "afc362c3",
   "metadata": {
    "execution": {
     "iopub.execute_input": "2022-02-14T02:53:16.503296Z",
     "iopub.status.busy": "2022-02-14T02:53:16.502711Z",
     "iopub.status.idle": "2022-02-14T02:53:16.529144Z",
     "shell.execute_reply": "2022-02-14T02:53:16.528712Z"
    }
   },
   "outputs": [],
   "source": [
    "fi1 = joinpath(te, \"fi1\")\n",
    "\n",
    "fi2 = joinpath(te, \"fi2\")\n",
    "\n",
    "open(fi1, \"w\") do io\n",
    "\n",
    "    write(io, \"Before\")\n",
    "\n",
    "end\n",
    "\n",
    "open(fi2, \"w\") do io\n",
    "\n",
    "    write(io, \"BeforeBefore\")\n",
    "\n",
    "end\n",
    "\n",
    "println(readline(open(fi1)))\n",
    "\n",
    "println(readline(open(fi2)))\n",
    "\n",
    ";"
   ]
  },
  {
   "cell_type": "code",
   "execution_count": null,
   "id": "4098503b",
   "metadata": {
    "execution": {
     "iopub.execute_input": "2022-02-14T02:53:16.531083Z",
     "iopub.status.busy": "2022-02-14T02:53:16.530498Z",
     "iopub.status.idle": "2022-02-14T02:53:16.740723Z",
     "shell.execute_reply": "2022-02-14T02:53:16.740262Z"
    }
   },
   "outputs": [],
   "source": [
    "OnePiece.extension.path.sed_recursively(te, [\"Before\" => \"After\"])\n",
    "\n",
    "println(readline(open(fi1)))\n",
    "\n",
    "println(readline(open(fi2)))"
   ]
  },
  {
   "cell_type": "markdown",
   "id": "3f396855",
   "metadata": {},
   "source": [
    "---"
   ]
  },
  {
   "cell_type": "code",
   "execution_count": null,
   "id": "b4af2023",
   "metadata": {
    "execution": {
     "iopub.execute_input": "2022-02-14T02:53:16.742730Z",
     "iopub.status.busy": "2022-02-14T02:53:16.742154Z",
     "iopub.status.idle": "2022-02-14T02:53:16.744793Z",
     "shell.execute_reply": "2022-02-14T02:53:16.744373Z"
    }
   },
   "outputs": [],
   "source": [
    "if isdir(TE)\n",
    "\n",
    "    rm(TE, recursive = true)\n",
    "\n",
    "    println(\"Removed \", TE, \".\")\n",
    "\n",
    "end"
   ]
  }
 ],
 "metadata": {
  "kernelspec": {
   "display_name": "Julia 1.7.2",
   "language": "julia",
   "name": "julia-1.7"
  },
  "language_info": {
   "file_extension": ".jl",
   "mimetype": "application/julia",
   "name": "julia",
   "version": "1.7.2"
  }
 },
 "nbformat": 4,
 "nbformat_minor": 5
}
