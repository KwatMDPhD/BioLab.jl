{
 "cells": [
  {
   "cell_type": "code",
   "execution_count": null,
   "id": "34e4701e",
   "metadata": {
    "execution": {
     "iopub.execute_input": "2022-02-09T02:36:46.059875Z",
     "iopub.status.busy": "2022-02-09T02:36:45.644691Z",
     "iopub.status.idle": "2022-02-09T02:36:47.088746Z",
     "shell.execute_reply": "2022-02-09T02:36:47.088170Z"
    }
   },
   "outputs": [],
   "source": [
    "using Revise\n",
    "using BenchmarkTools"
   ]
  },
  {
   "cell_type": "code",
   "execution_count": null,
   "id": "871c335e",
   "metadata": {
    "execution": {
     "iopub.execute_input": "2022-02-09T02:36:47.090840Z",
     "iopub.status.busy": "2022-02-09T02:36:47.090163Z",
     "iopub.status.idle": "2022-02-09T02:36:58.281178Z",
     "shell.execute_reply": "2022-02-09T02:36:58.280367Z"
    }
   },
   "outputs": [],
   "source": [
    "using OnePiece"
   ]
  },
  {
   "cell_type": "markdown",
   "id": "174f3b9b",
   "metadata": {
    "execution": {
     "iopub.execute_input": "2021-10-14T18:25:54.055222Z",
     "iopub.status.busy": "2021-10-14T18:25:53.342490Z",
     "iopub.status.idle": "2021-10-14T18:26:10.352867Z",
     "shell.execute_reply": "2021-10-14T18:26:10.352370Z"
    }
   },
   "source": [
    "## shorten"
   ]
  },
  {
   "cell_type": "code",
   "execution_count": null,
   "id": "685c8b90",
   "metadata": {
    "execution": {
     "iopub.execute_input": "2022-02-09T02:37:00.078653Z",
     "iopub.status.busy": "2022-02-09T02:36:58.283556Z",
     "iopub.status.idle": "2022-02-09T02:37:01.426691Z",
     "shell.execute_reply": "2022-02-09T02:37:01.426217Z"
    }
   },
   "outputs": [],
   "source": [
    "pa = pwd()"
   ]
  },
  {
   "cell_type": "code",
   "execution_count": null,
   "id": "e40c9529",
   "metadata": {
    "execution": {
     "iopub.execute_input": "2022-02-09T02:37:01.428637Z",
     "iopub.status.busy": "2022-02-09T02:37:01.428004Z",
     "iopub.status.idle": "2022-02-09T02:37:01.799870Z",
     "shell.execute_reply": "2022-02-09T02:37:01.799323Z"
    }
   },
   "outputs": [],
   "source": [
    "try\n",
    "\n",
    "    OnePiece.extension.path.shorten(pa, \"Shanks\")\n",
    "\n",
    "catch er\n",
    "\n",
    "    er\n",
    "\n",
    "end"
   ]
  },
  {
   "cell_type": "code",
   "execution_count": null,
   "id": "f8f20090",
   "metadata": {
    "execution": {
     "iopub.execute_input": "2022-02-09T02:37:01.801833Z",
     "iopub.status.busy": "2022-02-09T02:37:01.801191Z",
     "iopub.status.idle": "2022-02-09T02:37:01.853649Z",
     "shell.execute_reply": "2022-02-09T02:37:01.853108Z"
    }
   },
   "outputs": [],
   "source": [
    "for n_ba in [2, 1]\n",
    "\n",
    "    println(OnePiece.extension.path.shorten(pa, n_ba))\n",
    "\n",
    "end"
   ]
  },
  {
   "cell_type": "code",
   "execution_count": null,
   "id": "9881c454",
   "metadata": {
    "execution": {
     "iopub.execute_input": "2022-02-09T02:37:01.855686Z",
     "iopub.status.busy": "2022-02-09T02:37:01.855103Z",
     "iopub.status.idle": "2022-02-09T02:37:01.879062Z",
     "shell.execute_reply": "2022-02-09T02:37:01.878617Z"
    }
   },
   "outputs": [],
   "source": [
    "for di in [\"OnePiece.jl\", \"test\", \"OnePiece.jl/test\", \"extension\"]\n",
    "\n",
    "    println(OnePiece.extension.path.shorten(pa, di))\n",
    "\n",
    "end"
   ]
  },
  {
   "cell_type": "markdown",
   "id": "4f0f34f4",
   "metadata": {
    "execution": {
     "iopub.execute_input": "2021-10-14T18:25:54.055222Z",
     "iopub.status.busy": "2021-10-14T18:25:53.342490Z",
     "iopub.status.idle": "2021-10-14T18:26:10.352867Z",
     "shell.execute_reply": "2021-10-14T18:26:10.352370Z"
    }
   },
   "source": [
    "## clean"
   ]
  },
  {
   "cell_type": "code",
   "execution_count": null,
   "id": "9c1753ae",
   "metadata": {
    "execution": {
     "iopub.execute_input": "2022-02-09T02:37:01.880991Z",
     "iopub.status.busy": "2022-02-09T02:37:01.880361Z",
     "iopub.status.idle": "2022-02-09T02:37:01.916930Z",
     "shell.execute_reply": "2022-02-09T02:37:01.916416Z"
    }
   },
   "outputs": [],
   "source": [
    "OnePiece.extension.path.clean(\"a_b.c-d+e!f%g%h]iJK\")"
   ]
  },
  {
   "cell_type": "markdown",
   "id": "bcf7707b",
   "metadata": {
    "execution": {
     "iopub.execute_input": "2021-10-14T18:25:54.055222Z",
     "iopub.status.busy": "2021-10-14T18:25:53.342490Z",
     "iopub.status.idle": "2021-10-14T18:26:10.352867Z",
     "shell.execute_reply": "2021-10-14T18:26:10.352370Z"
    }
   },
   "source": [
    "## make_absolute"
   ]
  },
  {
   "cell_type": "code",
   "execution_count": null,
   "id": "b861b0f9",
   "metadata": {
    "execution": {
     "iopub.execute_input": "2022-02-09T02:37:01.918995Z",
     "iopub.status.busy": "2022-02-09T02:37:01.918362Z",
     "iopub.status.idle": "2022-02-09T02:37:01.964912Z",
     "shell.execute_reply": "2022-02-09T02:37:01.964466Z"
    }
   },
   "outputs": [],
   "source": [
    "for pa in [\"~/file\", \"~/directory/\"]\n",
    "\n",
    "    println(OnePiece.extension.path.make_absolute(pa))\n",
    "\n",
    "end"
   ]
  },
  {
   "cell_type": "markdown",
   "id": "53c74cab",
   "metadata": {},
   "source": [
    "## remove_extension"
   ]
  },
  {
   "cell_type": "code",
   "execution_count": null,
   "id": "f701b595",
   "metadata": {
    "execution": {
     "iopub.execute_input": "2022-02-09T02:37:01.966973Z",
     "iopub.status.busy": "2022-02-09T02:37:01.966339Z",
     "iopub.status.idle": "2022-02-09T02:37:01.983659Z",
     "shell.execute_reply": "2022-02-09T02:37:01.983128Z"
    }
   },
   "outputs": [],
   "source": [
    "OnePiece.extension.path.remove_extension(\"/path/to/a/file.extension\")"
   ]
  },
  {
   "cell_type": "code",
   "execution_count": null,
   "id": "ec900856",
   "metadata": {
    "execution": {
     "iopub.execute_input": "2022-02-09T02:37:01.985647Z",
     "iopub.status.busy": "2022-02-09T02:37:01.985073Z",
     "iopub.status.idle": "2022-02-09T02:37:01.998551Z",
     "shell.execute_reply": "2022-02-09T02:37:01.998107Z"
    }
   },
   "outputs": [],
   "source": [
    "OnePiece.extension.path.remove_extension(\"/path/to/a/file\")"
   ]
  },
  {
   "cell_type": "code",
   "execution_count": null,
   "id": "9dc8a8bd",
   "metadata": {
    "execution": {
     "iopub.execute_input": "2022-02-09T02:37:02.000346Z",
     "iopub.status.busy": "2022-02-09T02:37:01.999764Z",
     "iopub.status.idle": "2022-02-09T02:37:02.013404Z",
     "shell.execute_reply": "2022-02-09T02:37:02.012953Z"
    }
   },
   "outputs": [],
   "source": [
    "OnePiece.extension.path.remove_extension(\"/path/to/a/directory/\")"
   ]
  },
  {
   "cell_type": "markdown",
   "id": "7670ee74",
   "metadata": {
    "execution": {
     "iopub.execute_input": "2021-10-14T18:25:54.055222Z",
     "iopub.status.busy": "2021-10-14T18:25:53.342490Z",
     "iopub.status.idle": "2021-10-14T18:26:10.352867Z",
     "shell.execute_reply": "2021-10-14T18:26:10.352370Z"
    }
   },
   "source": [
    "## select"
   ]
  },
  {
   "cell_type": "code",
   "execution_count": null,
   "id": "9304e507",
   "metadata": {
    "execution": {
     "iopub.execute_input": "2022-02-09T02:37:02.015345Z",
     "iopub.status.busy": "2022-02-09T02:37:02.014765Z",
     "iopub.status.idle": "2022-02-09T02:37:02.027351Z",
     "shell.execute_reply": "2022-02-09T02:37:02.026846Z"
    }
   },
   "outputs": [],
   "source": [
    "di = homedir()\n",
    "\n",
    ";"
   ]
  },
  {
   "cell_type": "code",
   "execution_count": null,
   "id": "402bdee9",
   "metadata": {
    "execution": {
     "iopub.execute_input": "2022-02-09T02:37:02.029188Z",
     "iopub.status.busy": "2022-02-09T02:37:02.028570Z",
     "iopub.status.idle": "2022-02-09T02:37:03.015451Z",
     "shell.execute_reply": "2022-02-09T02:37:03.014988Z"
    }
   },
   "outputs": [],
   "source": [
    "OnePiece.extension.path.select(di)"
   ]
  },
  {
   "cell_type": "code",
   "execution_count": null,
   "id": "fcb166f2",
   "metadata": {
    "execution": {
     "iopub.execute_input": "2022-02-09T02:37:03.017354Z",
     "iopub.status.busy": "2022-02-09T02:37:03.016770Z",
     "iopub.status.idle": "2022-02-09T02:37:03.084195Z",
     "shell.execute_reply": "2022-02-09T02:37:03.083734Z"
    }
   },
   "outputs": [],
   "source": [
    "OnePiece.extension.path.select(di; ig_ = [], ke_ = [r\"^\\.\"], jo = false)"
   ]
  },
  {
   "cell_type": "markdown",
   "id": "d8111d32",
   "metadata": {},
   "source": [
    "## error_missing_path"
   ]
  },
  {
   "cell_type": "code",
   "execution_count": null,
   "id": "aeefbc77",
   "metadata": {
    "execution": {
     "iopub.execute_input": "2022-02-09T02:37:03.086294Z",
     "iopub.status.busy": "2022-02-09T02:37:03.085562Z",
     "iopub.status.idle": "2022-02-09T02:37:03.099156Z",
     "shell.execute_reply": "2022-02-09T02:37:03.098655Z"
    }
   },
   "outputs": [],
   "source": [
    "go = \"extension/path.ipynb\""
   ]
  },
  {
   "cell_type": "code",
   "execution_count": null,
   "id": "1cf0d05a",
   "metadata": {
    "execution": {
     "iopub.execute_input": "2022-02-09T02:37:03.100985Z",
     "iopub.status.busy": "2022-02-09T02:37:03.100338Z",
     "iopub.status.idle": "2022-02-09T02:37:03.127172Z",
     "shell.execute_reply": "2022-02-09T02:37:03.126621Z"
    }
   },
   "outputs": [],
   "source": [
    "OnePiece.extension.path.error_missing_path(dirname(@__DIR__), [go])"
   ]
  },
  {
   "cell_type": "code",
   "execution_count": null,
   "id": "fb80aeb5",
   "metadata": {
    "execution": {
     "iopub.execute_input": "2022-02-09T02:37:03.129080Z",
     "iopub.status.busy": "2022-02-09T02:37:03.128477Z",
     "iopub.status.idle": "2022-02-09T02:37:03.173547Z",
     "shell.execute_reply": "2022-02-09T02:37:03.173090Z"
    }
   },
   "outputs": [],
   "source": [
    "try\n",
    "\n",
    "    OnePiece.extension.path.error_missing_path(\n",
    "        dirname(@__DIR__),\n",
    "        [go, \"missing/file\", \"missing/directory/\"],\n",
    "    )\n",
    "\n",
    "catch er\n",
    "\n",
    "    er\n",
    "\n",
    "end"
   ]
  },
  {
   "cell_type": "markdown",
   "id": "d120dae4",
   "metadata": {},
   "source": [
    "## error_extension"
   ]
  },
  {
   "cell_type": "code",
   "execution_count": null,
   "id": "5551c780",
   "metadata": {
    "execution": {
     "iopub.execute_input": "2022-02-09T02:37:03.175624Z",
     "iopub.status.busy": "2022-02-09T02:37:03.174972Z",
     "iopub.status.idle": "2022-02-09T02:37:03.191987Z",
     "shell.execute_reply": "2022-02-09T02:37:03.191533Z"
    }
   },
   "outputs": [],
   "source": [
    "OnePiece.extension.path.error_extension(\"file.extension\", \".extension\")"
   ]
  },
  {
   "cell_type": "code",
   "execution_count": null,
   "id": "9b7bcf9e",
   "metadata": {
    "execution": {
     "iopub.execute_input": "2022-02-09T02:37:03.193883Z",
     "iopub.status.busy": "2022-02-09T02:37:03.193252Z",
     "iopub.status.idle": "2022-02-09T02:37:04.134192Z",
     "shell.execute_reply": "2022-02-09T02:37:04.133699Z"
    }
   },
   "outputs": [],
   "source": [
    "for ex in [\"extension\", \".another_extension\"]\n",
    "\n",
    "    try\n",
    "\n",
    "        OnePiece.extension.path.error_extension(\"file.extension\", ex)\n",
    "\n",
    "    catch er\n",
    "\n",
    "        println(er)\n",
    "\n",
    "    end\n",
    "\n",
    "end"
   ]
  },
  {
   "cell_type": "markdown",
   "id": "0ccb2bfe",
   "metadata": {
    "execution": {
     "iopub.execute_input": "2021-10-14T18:25:54.055222Z",
     "iopub.status.busy": "2021-10-14T18:25:53.342490Z",
     "iopub.status.idle": "2021-10-14T18:26:10.352867Z",
     "shell.execute_reply": "2021-10-14T18:26:10.352370Z"
    }
   },
   "source": [
    "## move"
   ]
  },
  {
   "cell_type": "code",
   "execution_count": null,
   "id": "d86d391b",
   "metadata": {
    "execution": {
     "iopub.execute_input": "2022-02-09T02:37:04.136246Z",
     "iopub.status.busy": "2022-02-09T02:37:04.135649Z",
     "iopub.status.idle": "2022-02-09T02:37:04.186776Z",
     "shell.execute_reply": "2022-02-09T02:37:04.186320Z"
    }
   },
   "outputs": [],
   "source": [
    "te = joinpath(tempdir(), \"move\")\n",
    "\n",
    "di1 = mkpath(joinpath(te, \"di1\"))\n",
    "\n",
    "di2 = mkpath(joinpath(te, \"di2\"))\n",
    "\n",
    "di3 = mkpath(joinpath(te, \"di3\"))\n",
    "\n",
    "fi1 = joinpath(di1, \"fi1\")\n",
    "\n",
    "fi2 = joinpath(di2, \"fi2\")\n",
    "\n",
    "touch(fi1)\n",
    "\n",
    "touch(fi2)\n",
    "\n",
    "run(`tree $te`)\n",
    "\n",
    ";"
   ]
  },
  {
   "cell_type": "code",
   "execution_count": null,
   "id": "caf10005",
   "metadata": {
    "execution": {
     "iopub.execute_input": "2022-02-09T02:37:04.188667Z",
     "iopub.status.busy": "2022-02-09T02:37:04.188077Z",
     "iopub.status.idle": "2022-02-09T02:37:04.403390Z",
     "shell.execute_reply": "2022-02-09T02:37:04.402964Z"
    }
   },
   "outputs": [],
   "source": [
    "fi12 = replace(fi1, \"di1\" => \"di3\")\n",
    "\n",
    "println(OnePiece.extension.path.move(fi1, fi12))\n",
    "\n",
    "run(`tree $te`)\n",
    "\n",
    ";"
   ]
  },
  {
   "cell_type": "code",
   "execution_count": null,
   "id": "37ab766d",
   "metadata": {
    "execution": {
     "iopub.execute_input": "2022-02-09T02:37:04.405382Z",
     "iopub.status.busy": "2022-02-09T02:37:04.404730Z",
     "iopub.status.idle": "2022-02-09T02:37:04.750182Z",
     "shell.execute_reply": "2022-02-09T02:37:04.749732Z"
    }
   },
   "outputs": [],
   "source": [
    "try\n",
    "\n",
    "    OnePiece.extension.path.move(di2, di3)\n",
    "\n",
    "catch er\n",
    "\n",
    "    er\n",
    "\n",
    "end"
   ]
  },
  {
   "cell_type": "code",
   "execution_count": null,
   "id": "a2b758c5",
   "metadata": {
    "execution": {
     "iopub.execute_input": "2022-02-09T02:37:04.752068Z",
     "iopub.status.busy": "2022-02-09T02:37:04.751432Z",
     "iopub.status.idle": "2022-02-09T02:37:04.790397Z",
     "shell.execute_reply": "2022-02-09T02:37:04.789926Z"
    }
   },
   "outputs": [],
   "source": [
    "println(OnePiece.extension.path.move(di2, di3; fo = true))\n",
    "\n",
    "run(`tree $te`)\n",
    "\n",
    ";"
   ]
  },
  {
   "cell_type": "markdown",
   "id": "864df5b3",
   "metadata": {},
   "source": [
    "## sed_recursively"
   ]
  },
  {
   "cell_type": "code",
   "execution_count": null,
   "id": "afc362c3",
   "metadata": {
    "execution": {
     "iopub.execute_input": "2022-02-09T02:37:04.792434Z",
     "iopub.status.busy": "2022-02-09T02:37:04.791838Z",
     "iopub.status.idle": "2022-02-09T02:37:04.834743Z",
     "shell.execute_reply": "2022-02-09T02:37:04.834287Z"
    }
   },
   "outputs": [],
   "source": [
    "fi1 = joinpath(te, \"fi1\")\n",
    "\n",
    "fi2 = joinpath(te, \"fi2\")\n",
    "\n",
    "open(fi1, \"w\") do io\n",
    "\n",
    "    write(io, \"Before\")\n",
    "\n",
    "end\n",
    "\n",
    "open(fi2, \"w\") do io\n",
    "\n",
    "    write(io, \"BeforeBefore\")\n",
    "\n",
    "end\n",
    "\n",
    "println(readline(open(fi1)))\n",
    "\n",
    "println(readline(open(fi2)))\n",
    "\n",
    ";"
   ]
  },
  {
   "cell_type": "code",
   "execution_count": null,
   "id": "4098503b",
   "metadata": {
    "execution": {
     "iopub.execute_input": "2022-02-09T02:37:04.836651Z",
     "iopub.status.busy": "2022-02-09T02:37:04.836070Z",
     "iopub.status.idle": "2022-02-09T02:37:05.082047Z",
     "shell.execute_reply": "2022-02-09T02:37:05.080860Z"
    }
   },
   "outputs": [],
   "source": [
    "OnePiece.extension.path.sed_recursively(te, [\"Before\" => \"After\"])\n",
    "\n",
    "println(readline(open(fi1)))\n",
    "\n",
    "println(readline(open(fi2)))"
   ]
  }
 ],
 "metadata": {
  "@webio": {
   "lastCommId": null,
   "lastKernelId": null
  },
  "kernelspec": {
   "display_name": "Julia 1.7.1",
   "language": "julia",
   "name": "julia-1.7"
  },
  "language_info": {
   "file_extension": ".jl",
   "mimetype": "application/julia",
   "name": "julia",
   "version": "1.7.2"
  }
 },
 "nbformat": 4,
 "nbformat_minor": 5
}
