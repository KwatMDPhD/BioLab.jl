{
 "cells": [
  {
   "cell_type": "code",
   "execution_count": null,
   "id": "017464da",
   "metadata": {
    "execution": {
     "iopub.execute_input": "2022-02-13T05:31:58.396892Z",
     "iopub.status.busy": "2022-02-13T05:31:58.068701Z",
     "iopub.status.idle": "2022-02-13T05:31:58.583063Z",
     "shell.execute_reply": "2022-02-13T05:31:58.582558Z"
    }
   },
   "outputs": [],
   "source": [
    "TE = joinpath(tempdir(), \"OnePiece.test\")\n",
    "\n",
    "if isdir(TE)\n",
    "\n",
    "    rm(TE, recursive = true)\n",
    "\n",
    "    println(\"Removed \", TE, \".\")\n",
    "\n",
    "end\n",
    "\n",
    "mkdir(TE)\n",
    "\n",
    "println(\"Made \", TE, \".\")"
   ]
  },
  {
   "cell_type": "code",
   "execution_count": null,
   "id": "34e4701e",
   "metadata": {
    "execution": {
     "iopub.execute_input": "2022-02-13T05:31:58.584944Z",
     "iopub.status.busy": "2022-02-13T05:31:58.584427Z",
     "iopub.status.idle": "2022-02-13T05:32:02.591109Z",
     "shell.execute_reply": "2022-02-13T05:32:02.590601Z"
    }
   },
   "outputs": [],
   "source": [
    "using OnePiece"
   ]
  },
  {
   "cell_type": "markdown",
   "id": "b92a3da9",
   "metadata": {},
   "source": [
    "---"
   ]
  },
  {
   "cell_type": "markdown",
   "id": "174f3b9b",
   "metadata": {
    "execution": {
     "iopub.execute_input": "2021-10-14T18:25:54.055222Z",
     "iopub.status.busy": "2021-10-14T18:25:53.342490Z",
     "iopub.status.idle": "2021-10-14T18:26:10.352867Z",
     "shell.execute_reply": "2021-10-14T18:26:10.352370Z"
    }
   },
   "source": [
    "## shorten"
   ]
  },
  {
   "cell_type": "code",
   "execution_count": null,
   "id": "685c8b90",
   "metadata": {
    "execution": {
     "iopub.execute_input": "2022-02-13T05:32:02.895046Z",
     "iopub.status.busy": "2022-02-13T05:32:02.592507Z",
     "iopub.status.idle": "2022-02-13T05:32:03.501379Z",
     "shell.execute_reply": "2022-02-13T05:32:03.500984Z"
    }
   },
   "outputs": [],
   "source": [
    "pa = pwd()"
   ]
  },
  {
   "cell_type": "code",
   "execution_count": null,
   "id": "e40c9529",
   "metadata": {
    "execution": {
     "iopub.execute_input": "2022-02-13T05:32:03.503235Z",
     "iopub.status.busy": "2022-02-13T05:32:03.502731Z",
     "iopub.status.idle": "2022-02-13T05:32:03.973701Z",
     "shell.execute_reply": "2022-02-13T05:32:03.973311Z"
    }
   },
   "outputs": [],
   "source": [
    "try\n",
    "\n",
    "    OnePiece.extension.path.shorten(pa, \"Shanks\")\n",
    "\n",
    "catch er\n",
    "\n",
    "    er\n",
    "\n",
    "end"
   ]
  },
  {
   "cell_type": "code",
   "execution_count": null,
   "id": "f8f20090",
   "metadata": {
    "execution": {
     "iopub.execute_input": "2022-02-13T05:32:03.975730Z",
     "iopub.status.busy": "2022-02-13T05:32:03.975176Z",
     "iopub.status.idle": "2022-02-13T05:32:03.996832Z",
     "shell.execute_reply": "2022-02-13T05:32:03.996372Z"
    }
   },
   "outputs": [],
   "source": [
    "for n_ba in [2, 1]\n",
    "\n",
    "    println(OnePiece.extension.path.shorten(pa, n_ba))\n",
    "\n",
    "end"
   ]
  },
  {
   "cell_type": "code",
   "execution_count": null,
   "id": "9881c454",
   "metadata": {
    "execution": {
     "iopub.execute_input": "2022-02-13T05:32:03.998731Z",
     "iopub.status.busy": "2022-02-13T05:32:03.998221Z",
     "iopub.status.idle": "2022-02-13T05:32:04.009000Z",
     "shell.execute_reply": "2022-02-13T05:32:04.009331Z"
    }
   },
   "outputs": [],
   "source": [
    "for di in [\"OnePiece.jl\", \"test\", \"OnePiece.jl/test\", \"extension\"]\n",
    "\n",
    "    println(OnePiece.extension.path.shorten(pa, di))\n",
    "\n",
    "end"
   ]
  },
  {
   "cell_type": "markdown",
   "id": "4f0f34f4",
   "metadata": {
    "execution": {
     "iopub.execute_input": "2021-10-14T18:25:54.055222Z",
     "iopub.status.busy": "2021-10-14T18:25:53.342490Z",
     "iopub.status.idle": "2021-10-14T18:26:10.352867Z",
     "shell.execute_reply": "2021-10-14T18:26:10.352370Z"
    }
   },
   "source": [
    "## clean"
   ]
  },
  {
   "cell_type": "code",
   "execution_count": null,
   "id": "9c1753ae",
   "metadata": {
    "execution": {
     "iopub.execute_input": "2022-02-13T05:32:04.012712Z",
     "iopub.status.busy": "2022-02-13T05:32:04.012206Z",
     "iopub.status.idle": "2022-02-13T05:32:04.018724Z",
     "shell.execute_reply": "2022-02-13T05:32:04.018339Z"
    }
   },
   "outputs": [],
   "source": [
    "OnePiece.extension.path.clean(\"a_b.c-d+e!f%g%h]iJK\")"
   ]
  },
  {
   "cell_type": "markdown",
   "id": "bcf7707b",
   "metadata": {
    "execution": {
     "iopub.execute_input": "2021-10-14T18:25:54.055222Z",
     "iopub.status.busy": "2021-10-14T18:25:53.342490Z",
     "iopub.status.idle": "2021-10-14T18:26:10.352867Z",
     "shell.execute_reply": "2021-10-14T18:26:10.352370Z"
    }
   },
   "source": [
    "## make_absolute"
   ]
  },
  {
   "cell_type": "code",
   "execution_count": null,
   "id": "b861b0f9",
   "metadata": {
    "execution": {
     "iopub.execute_input": "2022-02-13T05:32:04.020626Z",
     "iopub.status.busy": "2022-02-13T05:32:04.020127Z",
     "iopub.status.idle": "2022-02-13T05:32:04.034339Z",
     "shell.execute_reply": "2022-02-13T05:32:04.033952Z"
    }
   },
   "outputs": [],
   "source": [
    "for pa in [\"~/file\", \"~/directory/\"]\n",
    "\n",
    "    println(OnePiece.extension.path.make_absolute(pa))\n",
    "\n",
    "end"
   ]
  },
  {
   "cell_type": "markdown",
   "id": "53c74cab",
   "metadata": {},
   "source": [
    "## remove_extension"
   ]
  },
  {
   "cell_type": "code",
   "execution_count": null,
   "id": "f701b595",
   "metadata": {
    "execution": {
     "iopub.execute_input": "2022-02-13T05:32:04.036317Z",
     "iopub.status.busy": "2022-02-13T05:32:04.035801Z",
     "iopub.status.idle": "2022-02-13T05:32:04.039837Z",
     "shell.execute_reply": "2022-02-13T05:32:04.039463Z"
    }
   },
   "outputs": [],
   "source": [
    "OnePiece.extension.path.remove_extension(\"/path/to/a/file.extension\")"
   ]
  },
  {
   "cell_type": "code",
   "execution_count": null,
   "id": "ec900856",
   "metadata": {
    "execution": {
     "iopub.execute_input": "2022-02-13T05:32:04.042345Z",
     "iopub.status.busy": "2022-02-13T05:32:04.041467Z",
     "iopub.status.idle": "2022-02-13T05:32:04.044168Z",
     "shell.execute_reply": "2022-02-13T05:32:04.042911Z"
    }
   },
   "outputs": [],
   "source": [
    "OnePiece.extension.path.remove_extension(\"/path/to/a/file\")"
   ]
  },
  {
   "cell_type": "code",
   "execution_count": null,
   "id": "9dc8a8bd",
   "metadata": {
    "execution": {
     "iopub.execute_input": "2022-02-13T05:32:04.046629Z",
     "iopub.status.busy": "2022-02-13T05:32:04.045849Z",
     "iopub.status.idle": "2022-02-13T05:32:04.048032Z",
     "shell.execute_reply": "2022-02-13T05:32:04.047063Z"
    }
   },
   "outputs": [],
   "source": [
    "OnePiece.extension.path.remove_extension(\"/path/to/a/directory/\")"
   ]
  },
  {
   "cell_type": "markdown",
   "id": "7670ee74",
   "metadata": {
    "execution": {
     "iopub.execute_input": "2021-10-14T18:25:54.055222Z",
     "iopub.status.busy": "2021-10-14T18:25:53.342490Z",
     "iopub.status.idle": "2021-10-14T18:26:10.352867Z",
     "shell.execute_reply": "2021-10-14T18:26:10.352370Z"
    }
   },
   "source": [
    "## select"
   ]
  },
  {
   "cell_type": "code",
   "execution_count": null,
   "id": "9304e507",
   "metadata": {
    "execution": {
     "iopub.execute_input": "2022-02-13T05:32:04.050465Z",
     "iopub.status.busy": "2022-02-13T05:32:04.049630Z",
     "iopub.status.idle": "2022-02-13T05:32:04.051245Z",
     "shell.execute_reply": "2022-02-13T05:32:04.050892Z"
    }
   },
   "outputs": [],
   "source": [
    "di = homedir()\n",
    "\n",
    ";"
   ]
  },
  {
   "cell_type": "code",
   "execution_count": null,
   "id": "402bdee9",
   "metadata": {
    "execution": {
     "iopub.execute_input": "2022-02-13T05:32:04.053170Z",
     "iopub.status.busy": "2022-02-13T05:32:04.052678Z",
     "iopub.status.idle": "2022-02-13T05:32:04.808627Z",
     "shell.execute_reply": "2022-02-13T05:32:04.808232Z"
    }
   },
   "outputs": [],
   "source": [
    "OnePiece.extension.path.select(di)"
   ]
  },
  {
   "cell_type": "code",
   "execution_count": null,
   "id": "fcb166f2",
   "metadata": {
    "execution": {
     "iopub.execute_input": "2022-02-13T05:32:04.810388Z",
     "iopub.status.busy": "2022-02-13T05:32:04.809893Z",
     "iopub.status.idle": "2022-02-13T05:32:04.852237Z",
     "shell.execute_reply": "2022-02-13T05:32:04.851857Z"
    }
   },
   "outputs": [],
   "source": [
    "OnePiece.extension.path.select(di; ig_ = [], ke_ = [r\"^\\.\"], jo = false)"
   ]
  },
  {
   "cell_type": "markdown",
   "id": "d8111d32",
   "metadata": {},
   "source": [
    "## error_missing_path"
   ]
  },
  {
   "cell_type": "code",
   "execution_count": null,
   "id": "aeefbc77",
   "metadata": {
    "execution": {
     "iopub.execute_input": "2022-02-13T05:32:04.854546Z",
     "iopub.status.busy": "2022-02-13T05:32:04.853628Z",
     "iopub.status.idle": "2022-02-13T05:32:04.856013Z",
     "shell.execute_reply": "2022-02-13T05:32:04.854998Z"
    }
   },
   "outputs": [],
   "source": [
    "go = \"extension/path.ipynb\""
   ]
  },
  {
   "cell_type": "code",
   "execution_count": null,
   "id": "1cf0d05a",
   "metadata": {
    "execution": {
     "iopub.execute_input": "2022-02-13T05:32:04.857743Z",
     "iopub.status.busy": "2022-02-13T05:32:04.857254Z",
     "iopub.status.idle": "2022-02-13T05:32:04.871469Z",
     "shell.execute_reply": "2022-02-13T05:32:04.871041Z"
    }
   },
   "outputs": [],
   "source": [
    "OnePiece.extension.path.error_missing_path(dirname(@__DIR__), [go])"
   ]
  },
  {
   "cell_type": "code",
   "execution_count": null,
   "id": "fb80aeb5",
   "metadata": {
    "execution": {
     "iopub.execute_input": "2022-02-13T05:32:04.873253Z",
     "iopub.status.busy": "2022-02-13T05:32:04.872755Z",
     "iopub.status.idle": "2022-02-13T05:32:04.897328Z",
     "shell.execute_reply": "2022-02-13T05:32:04.896942Z"
    }
   },
   "outputs": [],
   "source": [
    "try\n",
    "\n",
    "    OnePiece.extension.path.error_missing_path(\n",
    "        dirname(@__DIR__),\n",
    "        [go, \"missing/file\", \"missing/directory/\"],\n",
    "    )\n",
    "\n",
    "catch er\n",
    "\n",
    "    er\n",
    "\n",
    "end"
   ]
  },
  {
   "cell_type": "markdown",
   "id": "d120dae4",
   "metadata": {},
   "source": [
    "## error_extension"
   ]
  },
  {
   "cell_type": "code",
   "execution_count": null,
   "id": "5551c780",
   "metadata": {
    "execution": {
     "iopub.execute_input": "2022-02-13T05:32:04.899188Z",
     "iopub.status.busy": "2022-02-13T05:32:04.898698Z",
     "iopub.status.idle": "2022-02-13T05:32:04.902757Z",
     "shell.execute_reply": "2022-02-13T05:32:04.902267Z"
    }
   },
   "outputs": [],
   "source": [
    "OnePiece.extension.path.error_extension(\"file.extension\", \".extension\")"
   ]
  },
  {
   "cell_type": "code",
   "execution_count": null,
   "id": "9b7bcf9e",
   "metadata": {
    "execution": {
     "iopub.execute_input": "2022-02-13T05:32:04.904567Z",
     "iopub.status.busy": "2022-02-13T05:32:04.904083Z",
     "iopub.status.idle": "2022-02-13T05:32:05.667528Z",
     "shell.execute_reply": "2022-02-13T05:32:05.667170Z"
    }
   },
   "outputs": [],
   "source": [
    "for ex in [\"extension\", \".another_extension\"]\n",
    "\n",
    "    try\n",
    "\n",
    "        OnePiece.extension.path.error_extension(\"file.extension\", ex)\n",
    "\n",
    "    catch er\n",
    "\n",
    "        println(er)\n",
    "\n",
    "    end\n",
    "\n",
    "end"
   ]
  },
  {
   "cell_type": "markdown",
   "id": "0ccb2bfe",
   "metadata": {
    "execution": {
     "iopub.execute_input": "2021-10-14T18:25:54.055222Z",
     "iopub.status.busy": "2021-10-14T18:25:53.342490Z",
     "iopub.status.idle": "2021-10-14T18:26:10.352867Z",
     "shell.execute_reply": "2021-10-14T18:26:10.352370Z"
    }
   },
   "source": [
    "## move"
   ]
  },
  {
   "cell_type": "code",
   "execution_count": null,
   "id": "d86d391b",
   "metadata": {
    "execution": {
     "iopub.execute_input": "2022-02-13T05:32:05.669486Z",
     "iopub.status.busy": "2022-02-13T05:32:05.668964Z",
     "iopub.status.idle": "2022-02-13T05:32:05.699462Z",
     "shell.execute_reply": "2022-02-13T05:32:05.699088Z"
    }
   },
   "outputs": [],
   "source": [
    "te = joinpath(tempdir(), \"move\")\n",
    "\n",
    "di1 = mkpath(joinpath(te, \"di1\"))\n",
    "\n",
    "di2 = mkpath(joinpath(te, \"di2\"))\n",
    "\n",
    "di3 = mkpath(joinpath(te, \"di3\"))\n",
    "\n",
    "fi1 = joinpath(di1, \"fi1\")\n",
    "\n",
    "fi2 = joinpath(di2, \"fi2\")\n",
    "\n",
    "touch(fi1)\n",
    "\n",
    "touch(fi2)\n",
    "\n",
    "run(`tree $te`)\n",
    "\n",
    ";"
   ]
  },
  {
   "cell_type": "code",
   "execution_count": null,
   "id": "caf10005",
   "metadata": {
    "execution": {
     "iopub.execute_input": "2022-02-13T05:32:05.701491Z",
     "iopub.status.busy": "2022-02-13T05:32:05.700997Z",
     "iopub.status.idle": "2022-02-13T05:32:05.863093Z",
     "shell.execute_reply": "2022-02-13T05:32:05.862731Z"
    }
   },
   "outputs": [],
   "source": [
    "fi12 = replace(fi1, \"di1\" => \"di3\")\n",
    "\n",
    "println(OnePiece.extension.path.move(fi1, fi12))\n",
    "\n",
    "run(`tree $te`)\n",
    "\n",
    ";"
   ]
  },
  {
   "cell_type": "code",
   "execution_count": null,
   "id": "37ab766d",
   "metadata": {
    "execution": {
     "iopub.execute_input": "2022-02-13T05:32:05.865460Z",
     "iopub.status.busy": "2022-02-13T05:32:05.864960Z",
     "iopub.status.idle": "2022-02-13T05:32:06.121969Z",
     "shell.execute_reply": "2022-02-13T05:32:06.121515Z"
    }
   },
   "outputs": [],
   "source": [
    "try\n",
    "\n",
    "    OnePiece.extension.path.move(di2, di3)\n",
    "\n",
    "catch er\n",
    "\n",
    "    er\n",
    "\n",
    "end"
   ]
  },
  {
   "cell_type": "code",
   "execution_count": null,
   "id": "a2b758c5",
   "metadata": {
    "execution": {
     "iopub.execute_input": "2022-02-13T05:32:06.123847Z",
     "iopub.status.busy": "2022-02-13T05:32:06.123270Z",
     "iopub.status.idle": "2022-02-13T05:32:06.145958Z",
     "shell.execute_reply": "2022-02-13T05:32:06.145536Z"
    }
   },
   "outputs": [],
   "source": [
    "println(OnePiece.extension.path.move(di2, di3; fo = true))\n",
    "\n",
    "run(`tree $te`)\n",
    "\n",
    ";"
   ]
  },
  {
   "cell_type": "markdown",
   "id": "864df5b3",
   "metadata": {},
   "source": [
    "## sed_recursively"
   ]
  },
  {
   "cell_type": "code",
   "execution_count": null,
   "id": "afc362c3",
   "metadata": {
    "execution": {
     "iopub.execute_input": "2022-02-13T05:32:06.148113Z",
     "iopub.status.busy": "2022-02-13T05:32:06.147540Z",
     "iopub.status.idle": "2022-02-13T05:32:06.174935Z",
     "shell.execute_reply": "2022-02-13T05:32:06.174513Z"
    }
   },
   "outputs": [],
   "source": [
    "fi1 = joinpath(te, \"fi1\")\n",
    "\n",
    "fi2 = joinpath(te, \"fi2\")\n",
    "\n",
    "open(fi1, \"w\") do io\n",
    "\n",
    "    write(io, \"Before\")\n",
    "\n",
    "end\n",
    "\n",
    "open(fi2, \"w\") do io\n",
    "\n",
    "    write(io, \"BeforeBefore\")\n",
    "\n",
    "end\n",
    "\n",
    "println(readline(open(fi1)))\n",
    "\n",
    "println(readline(open(fi2)))\n",
    "\n",
    ";"
   ]
  },
  {
   "cell_type": "code",
   "execution_count": null,
   "id": "4098503b",
   "metadata": {
    "execution": {
     "iopub.execute_input": "2022-02-13T05:32:06.176857Z",
     "iopub.status.busy": "2022-02-13T05:32:06.176278Z",
     "iopub.status.idle": "2022-02-13T05:32:06.382420Z",
     "shell.execute_reply": "2022-02-13T05:32:06.381979Z"
    }
   },
   "outputs": [],
   "source": [
    "OnePiece.extension.path.sed_recursively(te, [\"Before\" => \"After\"])\n",
    "\n",
    "println(readline(open(fi1)))\n",
    "\n",
    "println(readline(open(fi2)))"
   ]
  },
  {
   "cell_type": "markdown",
   "id": "3f396855",
   "metadata": {},
   "source": [
    "---"
   ]
  },
  {
   "cell_type": "code",
   "execution_count": null,
   "id": "b4af2023",
   "metadata": {
    "execution": {
     "iopub.execute_input": "2022-02-13T05:32:06.384366Z",
     "iopub.status.busy": "2022-02-13T05:32:06.383797Z",
     "iopub.status.idle": "2022-02-13T05:32:06.386795Z",
     "shell.execute_reply": "2022-02-13T05:32:06.386372Z"
    }
   },
   "outputs": [],
   "source": [
    "if isdir(TE)\n",
    "\n",
    "    rm(TE, recursive = true)\n",
    "\n",
    "    println(\"Removed \", TE, \".\")\n",
    "\n",
    "end"
   ]
  }
 ],
 "metadata": {
  "kernelspec": {
   "display_name": "Julia 1.7.2",
   "language": "julia",
   "name": "julia-1.7"
  },
  "language_info": {
   "file_extension": ".jl",
   "mimetype": "application/julia",
   "name": "julia",
   "version": "1.7.2"
  }
 },
 "nbformat": 4,
 "nbformat_minor": 5
}
