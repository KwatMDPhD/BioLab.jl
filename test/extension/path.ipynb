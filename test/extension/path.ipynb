{
 "cells": [
  {
   "cell_type": "code",
   "execution_count": null,
   "id": "017464da",
   "metadata": {
    "execution": {
     "iopub.execute_input": "2022-02-13T22:23:05.605876Z",
     "iopub.status.busy": "2022-02-13T22:23:05.244455Z",
     "iopub.status.idle": "2022-02-13T22:23:05.816910Z",
     "shell.execute_reply": "2022-02-13T22:23:05.816402Z"
    }
   },
   "outputs": [],
   "source": [
    "TE = joinpath(tempdir(), \"OnePiece.test\")\n",
    "\n",
    "if isdir(TE)\n",
    "\n",
    "    rm(TE, recursive = true)\n",
    "\n",
    "    println(\"Removed \", TE, \".\")\n",
    "\n",
    "end\n",
    "\n",
    "mkdir(TE)\n",
    "\n",
    "println(\"Made \", TE, \".\")"
   ]
  },
  {
   "cell_type": "code",
   "execution_count": null,
   "id": "34e4701e",
   "metadata": {
    "execution": {
     "iopub.execute_input": "2022-02-13T22:23:05.818774Z",
     "iopub.status.busy": "2022-02-13T22:23:05.818272Z",
     "iopub.status.idle": "2022-02-13T22:23:10.225676Z",
     "shell.execute_reply": "2022-02-13T22:23:10.225293Z"
    }
   },
   "outputs": [],
   "source": [
    "using OnePiece"
   ]
  },
  {
   "cell_type": "markdown",
   "id": "b92a3da9",
   "metadata": {},
   "source": [
    "---"
   ]
  },
  {
   "cell_type": "markdown",
   "id": "174f3b9b",
   "metadata": {
    "execution": {
     "iopub.execute_input": "2021-10-14T18:25:54.055222Z",
     "iopub.status.busy": "2021-10-14T18:25:53.342490Z",
     "iopub.status.idle": "2021-10-14T18:26:10.352867Z",
     "shell.execute_reply": "2021-10-14T18:26:10.352370Z"
    }
   },
   "source": [
    "## shorten"
   ]
  },
  {
   "cell_type": "code",
   "execution_count": null,
   "id": "685c8b90",
   "metadata": {
    "execution": {
     "iopub.execute_input": "2022-02-13T22:23:10.626504Z",
     "iopub.status.busy": "2022-02-13T22:23:10.227601Z",
     "iopub.status.idle": "2022-02-13T22:23:11.414294Z",
     "shell.execute_reply": "2022-02-13T22:23:11.413909Z"
    }
   },
   "outputs": [],
   "source": [
    "pa = pwd()"
   ]
  },
  {
   "cell_type": "code",
   "execution_count": null,
   "id": "e40c9529",
   "metadata": {
    "execution": {
     "iopub.execute_input": "2022-02-13T22:23:11.416152Z",
     "iopub.status.busy": "2022-02-13T22:23:11.415630Z",
     "iopub.status.idle": "2022-02-13T22:23:11.954755Z",
     "shell.execute_reply": "2022-02-13T22:23:11.954364Z"
    }
   },
   "outputs": [],
   "source": [
    "try\n",
    "\n",
    "    OnePiece.extension.path.shorten(pa, \"Shanks\")\n",
    "\n",
    "catch er\n",
    "\n",
    "    er\n",
    "\n",
    "end"
   ]
  },
  {
   "cell_type": "code",
   "execution_count": null,
   "id": "f8f20090",
   "metadata": {
    "execution": {
     "iopub.execute_input": "2022-02-13T22:23:11.956751Z",
     "iopub.status.busy": "2022-02-13T22:23:11.956161Z",
     "iopub.status.idle": "2022-02-13T22:23:11.981085Z",
     "shell.execute_reply": "2022-02-13T22:23:11.980634Z"
    }
   },
   "outputs": [],
   "source": [
    "for n_ba in [2, 1]\n",
    "\n",
    "    println(OnePiece.extension.path.shorten(pa, n_ba))\n",
    "\n",
    "end"
   ]
  },
  {
   "cell_type": "code",
   "execution_count": null,
   "id": "9881c454",
   "metadata": {
    "execution": {
     "iopub.execute_input": "2022-02-13T22:23:11.983740Z",
     "iopub.status.busy": "2022-02-13T22:23:11.983183Z",
     "iopub.status.idle": "2022-02-13T22:23:11.995004Z",
     "shell.execute_reply": "2022-02-13T22:23:11.994482Z"
    }
   },
   "outputs": [],
   "source": [
    "for di in [\"OnePiece.jl\", \"test\", \"OnePiece.jl/test\", \"extension\"]\n",
    "\n",
    "    println(OnePiece.extension.path.shorten(pa, di))\n",
    "\n",
    "end"
   ]
  },
  {
   "cell_type": "markdown",
   "id": "4f0f34f4",
   "metadata": {
    "execution": {
     "iopub.execute_input": "2021-10-14T18:25:54.055222Z",
     "iopub.status.busy": "2021-10-14T18:25:53.342490Z",
     "iopub.status.idle": "2021-10-14T18:26:10.352867Z",
     "shell.execute_reply": "2021-10-14T18:26:10.352370Z"
    }
   },
   "source": [
    "## clean"
   ]
  },
  {
   "cell_type": "code",
   "execution_count": null,
   "id": "9c1753ae",
   "metadata": {
    "execution": {
     "iopub.execute_input": "2022-02-13T22:23:11.997637Z",
     "iopub.status.busy": "2022-02-13T22:23:11.997141Z",
     "iopub.status.idle": "2022-02-13T22:23:12.004314Z",
     "shell.execute_reply": "2022-02-13T22:23:12.003937Z"
    }
   },
   "outputs": [],
   "source": [
    "OnePiece.extension.path.clean(\"a_b.c-d+e!f%g%h]iJK\")"
   ]
  },
  {
   "cell_type": "markdown",
   "id": "bcf7707b",
   "metadata": {
    "execution": {
     "iopub.execute_input": "2021-10-14T18:25:54.055222Z",
     "iopub.status.busy": "2021-10-14T18:25:53.342490Z",
     "iopub.status.idle": "2021-10-14T18:26:10.352867Z",
     "shell.execute_reply": "2021-10-14T18:26:10.352370Z"
    }
   },
   "source": [
    "## make_absolute"
   ]
  },
  {
   "cell_type": "code",
   "execution_count": null,
   "id": "b861b0f9",
   "metadata": {
    "execution": {
     "iopub.execute_input": "2022-02-13T22:23:12.006166Z",
     "iopub.status.busy": "2022-02-13T22:23:12.005678Z",
     "iopub.status.idle": "2022-02-13T22:23:12.020385Z",
     "shell.execute_reply": "2022-02-13T22:23:12.019985Z"
    }
   },
   "outputs": [],
   "source": [
    "for pa in [\"~/file\", \"~/directory/\"]\n",
    "\n",
    "    println(OnePiece.extension.path.make_absolute(pa))\n",
    "\n",
    "end"
   ]
  },
  {
   "cell_type": "markdown",
   "id": "53c74cab",
   "metadata": {},
   "source": [
    "## remove_extension"
   ]
  },
  {
   "cell_type": "code",
   "execution_count": null,
   "id": "f701b595",
   "metadata": {
    "execution": {
     "iopub.execute_input": "2022-02-13T22:23:12.022339Z",
     "iopub.status.busy": "2022-02-13T22:23:12.021845Z",
     "iopub.status.idle": "2022-02-13T22:23:12.026082Z",
     "shell.execute_reply": "2022-02-13T22:23:12.025708Z"
    }
   },
   "outputs": [],
   "source": [
    "OnePiece.extension.path.remove_extension(\"/path/to/a/file.extension\")"
   ]
  },
  {
   "cell_type": "code",
   "execution_count": null,
   "id": "ec900856",
   "metadata": {
    "execution": {
     "iopub.execute_input": "2022-02-13T22:23:12.029333Z",
     "iopub.status.busy": "2022-02-13T22:23:12.028007Z",
     "iopub.status.idle": "2022-02-13T22:23:12.031281Z",
     "shell.execute_reply": "2022-02-13T22:23:12.030242Z"
    }
   },
   "outputs": [],
   "source": [
    "OnePiece.extension.path.remove_extension(\"/path/to/a/file\")"
   ]
  },
  {
   "cell_type": "code",
   "execution_count": null,
   "id": "9dc8a8bd",
   "metadata": {
    "execution": {
     "iopub.execute_input": "2022-02-13T22:23:12.033405Z",
     "iopub.status.busy": "2022-02-13T22:23:12.032582Z",
     "iopub.status.idle": "2022-02-13T22:23:12.034947Z",
     "shell.execute_reply": "2022-02-13T22:23:12.033946Z"
    }
   },
   "outputs": [],
   "source": [
    "OnePiece.extension.path.remove_extension(\"/path/to/a/directory/\")"
   ]
  },
  {
   "cell_type": "markdown",
   "id": "7670ee74",
   "metadata": {
    "execution": {
     "iopub.execute_input": "2021-10-14T18:25:54.055222Z",
     "iopub.status.busy": "2021-10-14T18:25:53.342490Z",
     "iopub.status.idle": "2021-10-14T18:26:10.352867Z",
     "shell.execute_reply": "2021-10-14T18:26:10.352370Z"
    }
   },
   "source": [
    "## select"
   ]
  },
  {
   "cell_type": "code",
   "execution_count": null,
   "id": "9304e507",
   "metadata": {
    "execution": {
     "iopub.execute_input": "2022-02-13T22:23:12.037039Z",
     "iopub.status.busy": "2022-02-13T22:23:12.036301Z",
     "iopub.status.idle": "2022-02-13T22:23:12.037881Z",
     "shell.execute_reply": "2022-02-13T22:23:12.037499Z"
    }
   },
   "outputs": [],
   "source": [
    "di = homedir()\n",
    "\n",
    ";"
   ]
  },
  {
   "cell_type": "code",
   "execution_count": null,
   "id": "402bdee9",
   "metadata": {
    "execution": {
     "iopub.execute_input": "2022-02-13T22:23:12.040927Z",
     "iopub.status.busy": "2022-02-13T22:23:12.039824Z",
     "iopub.status.idle": "2022-02-13T22:23:12.904397Z",
     "shell.execute_reply": "2022-02-13T22:23:12.903839Z"
    }
   },
   "outputs": [],
   "source": [
    "OnePiece.extension.path.select(di)"
   ]
  },
  {
   "cell_type": "code",
   "execution_count": null,
   "id": "fcb166f2",
   "metadata": {
    "execution": {
     "iopub.execute_input": "2022-02-13T22:23:12.906317Z",
     "iopub.status.busy": "2022-02-13T22:23:12.905822Z",
     "iopub.status.idle": "2022-02-13T22:23:12.956353Z",
     "shell.execute_reply": "2022-02-13T22:23:12.955972Z"
    }
   },
   "outputs": [],
   "source": [
    "OnePiece.extension.path.select(di; ig_ = [], ke_ = [r\"^\\.\"], jo = false)"
   ]
  },
  {
   "cell_type": "markdown",
   "id": "d8111d32",
   "metadata": {},
   "source": [
    "## error_missing_path"
   ]
  },
  {
   "cell_type": "code",
   "execution_count": null,
   "id": "aeefbc77",
   "metadata": {
    "execution": {
     "iopub.execute_input": "2022-02-13T22:23:12.958849Z",
     "iopub.status.busy": "2022-02-13T22:23:12.957982Z",
     "iopub.status.idle": "2022-02-13T22:23:12.960479Z",
     "shell.execute_reply": "2022-02-13T22:23:12.959290Z"
    }
   },
   "outputs": [],
   "source": [
    "go = \"extension/path.ipynb\""
   ]
  },
  {
   "cell_type": "code",
   "execution_count": null,
   "id": "1cf0d05a",
   "metadata": {
    "execution": {
     "iopub.execute_input": "2022-02-13T22:23:12.963306Z",
     "iopub.status.busy": "2022-02-13T22:23:12.962564Z",
     "iopub.status.idle": "2022-02-13T22:23:12.979214Z",
     "shell.execute_reply": "2022-02-13T22:23:12.978467Z"
    }
   },
   "outputs": [],
   "source": [
    "OnePiece.extension.path.error_missing_path(dirname(@__DIR__), [go])"
   ]
  },
  {
   "cell_type": "code",
   "execution_count": null,
   "id": "fb80aeb5",
   "metadata": {
    "execution": {
     "iopub.execute_input": "2022-02-13T22:23:12.981225Z",
     "iopub.status.busy": "2022-02-13T22:23:12.980637Z",
     "iopub.status.idle": "2022-02-13T22:23:13.009315Z",
     "shell.execute_reply": "2022-02-13T22:23:13.008935Z"
    }
   },
   "outputs": [],
   "source": [
    "try\n",
    "\n",
    "    OnePiece.extension.path.error_missing_path(\n",
    "        dirname(@__DIR__),\n",
    "        [go, \"missing/file\", \"missing/directory/\"],\n",
    "    )\n",
    "\n",
    "catch er\n",
    "\n",
    "    er\n",
    "\n",
    "end"
   ]
  },
  {
   "cell_type": "markdown",
   "id": "d120dae4",
   "metadata": {},
   "source": [
    "## error_extension"
   ]
  },
  {
   "cell_type": "code",
   "execution_count": null,
   "id": "5551c780",
   "metadata": {
    "execution": {
     "iopub.execute_input": "2022-02-13T22:23:13.012091Z",
     "iopub.status.busy": "2022-02-13T22:23:13.011259Z",
     "iopub.status.idle": "2022-02-13T22:23:13.016336Z",
     "shell.execute_reply": "2022-02-13T22:23:13.015903Z"
    }
   },
   "outputs": [],
   "source": [
    "OnePiece.extension.path.error_extension(\"file.extension\", \".extension\")"
   ]
  },
  {
   "cell_type": "code",
   "execution_count": null,
   "id": "9b7bcf9e",
   "metadata": {
    "execution": {
     "iopub.execute_input": "2022-02-13T22:23:13.018232Z",
     "iopub.status.busy": "2022-02-13T22:23:13.017734Z",
     "iopub.status.idle": "2022-02-13T22:23:13.852813Z",
     "shell.execute_reply": "2022-02-13T22:23:13.852395Z"
    }
   },
   "outputs": [],
   "source": [
    "for ex in [\"extension\", \".another_extension\"]\n",
    "\n",
    "    try\n",
    "\n",
    "        OnePiece.extension.path.error_extension(\"file.extension\", ex)\n",
    "\n",
    "    catch er\n",
    "\n",
    "        println(er)\n",
    "\n",
    "    end\n",
    "\n",
    "end"
   ]
  },
  {
   "cell_type": "markdown",
   "id": "0ccb2bfe",
   "metadata": {
    "execution": {
     "iopub.execute_input": "2021-10-14T18:25:54.055222Z",
     "iopub.status.busy": "2021-10-14T18:25:53.342490Z",
     "iopub.status.idle": "2021-10-14T18:26:10.352867Z",
     "shell.execute_reply": "2021-10-14T18:26:10.352370Z"
    }
   },
   "source": [
    "## move"
   ]
  },
  {
   "cell_type": "code",
   "execution_count": null,
   "id": "d86d391b",
   "metadata": {
    "execution": {
     "iopub.execute_input": "2022-02-13T22:23:13.854817Z",
     "iopub.status.busy": "2022-02-13T22:23:13.854303Z",
     "iopub.status.idle": "2022-02-13T22:23:13.887860Z",
     "shell.execute_reply": "2022-02-13T22:23:13.887289Z"
    }
   },
   "outputs": [],
   "source": [
    "te = joinpath(tempdir(), \"move\")\n",
    "\n",
    "di1 = mkpath(joinpath(te, \"di1\"))\n",
    "\n",
    "di2 = mkpath(joinpath(te, \"di2\"))\n",
    "\n",
    "di3 = mkpath(joinpath(te, \"di3\"))\n",
    "\n",
    "fi1 = joinpath(di1, \"fi1\")\n",
    "\n",
    "fi2 = joinpath(di2, \"fi2\")\n",
    "\n",
    "touch(fi1)\n",
    "\n",
    "touch(fi2)\n",
    "\n",
    "run(`tree $te`)\n",
    "\n",
    ";"
   ]
  },
  {
   "cell_type": "code",
   "execution_count": null,
   "id": "caf10005",
   "metadata": {
    "execution": {
     "iopub.execute_input": "2022-02-13T22:23:13.889962Z",
     "iopub.status.busy": "2022-02-13T22:23:13.889288Z",
     "iopub.status.idle": "2022-02-13T22:23:14.073614Z",
     "shell.execute_reply": "2022-02-13T22:23:14.073971Z"
    }
   },
   "outputs": [],
   "source": [
    "fi12 = replace(fi1, \"di1\" => \"di3\")\n",
    "\n",
    "println(OnePiece.extension.path.move(fi1, fi12))\n",
    "\n",
    "run(`tree $te`)\n",
    "\n",
    ";"
   ]
  },
  {
   "cell_type": "code",
   "execution_count": null,
   "id": "37ab766d",
   "metadata": {
    "execution": {
     "iopub.execute_input": "2022-02-13T22:23:14.075966Z",
     "iopub.status.busy": "2022-02-13T22:23:14.075478Z",
     "iopub.status.idle": "2022-02-13T22:23:14.325933Z",
     "shell.execute_reply": "2022-02-13T22:23:14.325554Z"
    }
   },
   "outputs": [],
   "source": [
    "try\n",
    "\n",
    "    OnePiece.extension.path.move(di2, di3)\n",
    "\n",
    "catch er\n",
    "\n",
    "    er\n",
    "\n",
    "end"
   ]
  },
  {
   "cell_type": "code",
   "execution_count": null,
   "id": "a2b758c5",
   "metadata": {
    "execution": {
     "iopub.execute_input": "2022-02-13T22:23:14.328496Z",
     "iopub.status.busy": "2022-02-13T22:23:14.327425Z",
     "iopub.status.idle": "2022-02-13T22:23:14.351822Z",
     "shell.execute_reply": "2022-02-13T22:23:14.352201Z"
    }
   },
   "outputs": [],
   "source": [
    "println(OnePiece.extension.path.move(di2, di3; fo = true))\n",
    "\n",
    "run(`tree $te`)\n",
    "\n",
    ";"
   ]
  },
  {
   "cell_type": "markdown",
   "id": "864df5b3",
   "metadata": {},
   "source": [
    "## sed_recursively"
   ]
  },
  {
   "cell_type": "code",
   "execution_count": null,
   "id": "afc362c3",
   "metadata": {
    "execution": {
     "iopub.execute_input": "2022-02-13T22:23:14.354242Z",
     "iopub.status.busy": "2022-02-13T22:23:14.353600Z",
     "iopub.status.idle": "2022-02-13T22:23:14.379825Z",
     "shell.execute_reply": "2022-02-13T22:23:14.379468Z"
    }
   },
   "outputs": [],
   "source": [
    "fi1 = joinpath(te, \"fi1\")\n",
    "\n",
    "fi2 = joinpath(te, \"fi2\")\n",
    "\n",
    "open(fi1, \"w\") do io\n",
    "\n",
    "    write(io, \"Before\")\n",
    "\n",
    "end\n",
    "\n",
    "open(fi2, \"w\") do io\n",
    "\n",
    "    write(io, \"BeforeBefore\")\n",
    "\n",
    "end\n",
    "\n",
    "println(readline(open(fi1)))\n",
    "\n",
    "println(readline(open(fi2)))\n",
    "\n",
    ";"
   ]
  },
  {
   "cell_type": "code",
   "execution_count": null,
   "id": "4098503b",
   "metadata": {
    "execution": {
     "iopub.execute_input": "2022-02-13T22:23:14.382056Z",
     "iopub.status.busy": "2022-02-13T22:23:14.381310Z",
     "iopub.status.idle": "2022-02-13T22:23:14.582066Z",
     "shell.execute_reply": "2022-02-13T22:23:14.581523Z"
    }
   },
   "outputs": [],
   "source": [
    "OnePiece.extension.path.sed_recursively(te, [\"Before\" => \"After\"])\n",
    "\n",
    "println(readline(open(fi1)))\n",
    "\n",
    "println(readline(open(fi2)))"
   ]
  },
  {
   "cell_type": "markdown",
   "id": "3f396855",
   "metadata": {},
   "source": [
    "---"
   ]
  },
  {
   "cell_type": "code",
   "execution_count": null,
   "id": "b4af2023",
   "metadata": {
    "execution": {
     "iopub.execute_input": "2022-02-13T22:23:14.584121Z",
     "iopub.status.busy": "2022-02-13T22:23:14.583512Z",
     "iopub.status.idle": "2022-02-13T22:23:14.586139Z",
     "shell.execute_reply": "2022-02-13T22:23:14.585671Z"
    }
   },
   "outputs": [],
   "source": [
    "if isdir(TE)\n",
    "\n",
    "    rm(TE, recursive = true)\n",
    "\n",
    "    println(\"Removed \", TE, \".\")\n",
    "\n",
    "end"
   ]
  }
 ],
 "metadata": {
  "kernelspec": {
   "display_name": "Julia 1.7.2",
   "language": "julia",
   "name": "julia-1.7"
  },
  "language_info": {
   "file_extension": ".jl",
   "mimetype": "application/julia",
   "name": "julia",
   "version": "1.7.2"
  }
 },
 "nbformat": 4,
 "nbformat_minor": 5
}
