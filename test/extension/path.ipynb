{
 "cells": [
  {
   "cell_type": "code",
   "execution_count": null,
   "id": "017464da",
   "metadata": {
    "execution": {
     "iopub.execute_input": "2022-02-11T19:57:26.125051Z",
     "iopub.status.busy": "2022-02-11T19:57:25.661655Z",
     "iopub.status.idle": "2022-02-11T19:57:26.383307Z",
     "shell.execute_reply": "2022-02-11T19:57:26.382618Z"
    }
   },
   "outputs": [],
   "source": [
    "TE = joinpath(tempdir(), \"OnePiece.test\")\n",
    "\n",
    "if isdir(TE)\n",
    "\n",
    "    rm(TE, recursive = true)\n",
    "\n",
    "    println(\"Removed \", TE, \".\")\n",
    "\n",
    "end\n",
    "\n",
    "mkdir(TE)\n",
    "\n",
    "println(\"Made \", TE, \".\")"
   ]
  },
  {
   "cell_type": "code",
   "execution_count": null,
   "id": "34e4701e",
   "metadata": {
    "execution": {
     "iopub.execute_input": "2022-02-11T19:57:26.385606Z",
     "iopub.status.busy": "2022-02-11T19:57:26.384843Z",
     "iopub.status.idle": "2022-02-11T19:57:31.612609Z",
     "shell.execute_reply": "2022-02-11T19:57:31.611969Z"
    }
   },
   "outputs": [],
   "source": [
    "using OnePiece"
   ]
  },
  {
   "cell_type": "markdown",
   "id": "b92a3da9",
   "metadata": {},
   "source": [
    "---"
   ]
  },
  {
   "cell_type": "markdown",
   "id": "174f3b9b",
   "metadata": {
    "execution": {
     "iopub.execute_input": "2021-10-14T18:25:54.055222Z",
     "iopub.status.busy": "2021-10-14T18:25:53.342490Z",
     "iopub.status.idle": "2021-10-14T18:26:10.352867Z",
     "shell.execute_reply": "2021-10-14T18:26:10.352370Z"
    }
   },
   "source": [
    "## shorten"
   ]
  },
  {
   "cell_type": "code",
   "execution_count": null,
   "id": "685c8b90",
   "metadata": {
    "execution": {
     "iopub.execute_input": "2022-02-11T19:57:32.004326Z",
     "iopub.status.busy": "2022-02-11T19:57:31.614143Z",
     "iopub.status.idle": "2022-02-11T19:57:32.756766Z",
     "shell.execute_reply": "2022-02-11T19:57:32.756281Z"
    }
   },
   "outputs": [],
   "source": [
    "pa = pwd()"
   ]
  },
  {
   "cell_type": "code",
   "execution_count": null,
   "id": "e40c9529",
   "metadata": {
    "execution": {
     "iopub.execute_input": "2022-02-11T19:57:32.758739Z",
     "iopub.status.busy": "2022-02-11T19:57:32.758127Z",
     "iopub.status.idle": "2022-02-11T19:57:33.346709Z",
     "shell.execute_reply": "2022-02-11T19:57:33.346168Z"
    }
   },
   "outputs": [],
   "source": [
    "try\n",
    "\n",
    "    OnePiece.extension.path.shorten(pa, \"Shanks\")\n",
    "\n",
    "catch er\n",
    "\n",
    "    er\n",
    "\n",
    "end"
   ]
  },
  {
   "cell_type": "code",
   "execution_count": null,
   "id": "f8f20090",
   "metadata": {
    "execution": {
     "iopub.execute_input": "2022-02-11T19:57:33.348889Z",
     "iopub.status.busy": "2022-02-11T19:57:33.348181Z",
     "iopub.status.idle": "2022-02-11T19:57:33.376661Z",
     "shell.execute_reply": "2022-02-11T19:57:33.376071Z"
    }
   },
   "outputs": [],
   "source": [
    "for n_ba in [2, 1]\n",
    "\n",
    "    println(OnePiece.extension.path.shorten(pa, n_ba))\n",
    "\n",
    "end"
   ]
  },
  {
   "cell_type": "code",
   "execution_count": null,
   "id": "9881c454",
   "metadata": {
    "execution": {
     "iopub.execute_input": "2022-02-11T19:57:33.378703Z",
     "iopub.status.busy": "2022-02-11T19:57:33.378081Z",
     "iopub.status.idle": "2022-02-11T19:57:33.391376Z",
     "shell.execute_reply": "2022-02-11T19:57:33.390910Z"
    }
   },
   "outputs": [],
   "source": [
    "for di in [\"OnePiece.jl\", \"test\", \"OnePiece.jl/test\", \"extension\"]\n",
    "\n",
    "    println(OnePiece.extension.path.shorten(pa, di))\n",
    "\n",
    "end"
   ]
  },
  {
   "cell_type": "markdown",
   "id": "4f0f34f4",
   "metadata": {
    "execution": {
     "iopub.execute_input": "2021-10-14T18:25:54.055222Z",
     "iopub.status.busy": "2021-10-14T18:25:53.342490Z",
     "iopub.status.idle": "2021-10-14T18:26:10.352867Z",
     "shell.execute_reply": "2021-10-14T18:26:10.352370Z"
    }
   },
   "source": [
    "## clean"
   ]
  },
  {
   "cell_type": "code",
   "execution_count": null,
   "id": "9c1753ae",
   "metadata": {
    "execution": {
     "iopub.execute_input": "2022-02-11T19:57:33.393562Z",
     "iopub.status.busy": "2022-02-11T19:57:33.392910Z",
     "iopub.status.idle": "2022-02-11T19:57:33.400442Z",
     "shell.execute_reply": "2022-02-11T19:57:33.399914Z"
    }
   },
   "outputs": [],
   "source": [
    "OnePiece.extension.path.clean(\"a_b.c-d+e!f%g%h]iJK\")"
   ]
  },
  {
   "cell_type": "markdown",
   "id": "bcf7707b",
   "metadata": {
    "execution": {
     "iopub.execute_input": "2021-10-14T18:25:54.055222Z",
     "iopub.status.busy": "2021-10-14T18:25:53.342490Z",
     "iopub.status.idle": "2021-10-14T18:26:10.352867Z",
     "shell.execute_reply": "2021-10-14T18:26:10.352370Z"
    }
   },
   "source": [
    "## make_absolute"
   ]
  },
  {
   "cell_type": "code",
   "execution_count": null,
   "id": "b861b0f9",
   "metadata": {
    "execution": {
     "iopub.execute_input": "2022-02-11T19:57:33.402574Z",
     "iopub.status.busy": "2022-02-11T19:57:33.401879Z",
     "iopub.status.idle": "2022-02-11T19:57:33.417852Z",
     "shell.execute_reply": "2022-02-11T19:57:33.417405Z"
    }
   },
   "outputs": [],
   "source": [
    "for pa in [\"~/file\", \"~/directory/\"]\n",
    "\n",
    "    println(OnePiece.extension.path.make_absolute(pa))\n",
    "\n",
    "end"
   ]
  },
  {
   "cell_type": "markdown",
   "id": "53c74cab",
   "metadata": {},
   "source": [
    "## remove_extension"
   ]
  },
  {
   "cell_type": "code",
   "execution_count": null,
   "id": "f701b595",
   "metadata": {
    "execution": {
     "iopub.execute_input": "2022-02-11T19:57:33.419892Z",
     "iopub.status.busy": "2022-02-11T19:57:33.419287Z",
     "iopub.status.idle": "2022-02-11T19:57:33.423922Z",
     "shell.execute_reply": "2022-02-11T19:57:33.423469Z"
    }
   },
   "outputs": [],
   "source": [
    "OnePiece.extension.path.remove_extension(\"/path/to/a/file.extension\")"
   ]
  },
  {
   "cell_type": "code",
   "execution_count": null,
   "id": "ec900856",
   "metadata": {
    "execution": {
     "iopub.execute_input": "2022-02-11T19:57:33.426049Z",
     "iopub.status.busy": "2022-02-11T19:57:33.425275Z",
     "iopub.status.idle": "2022-02-11T19:57:33.427926Z",
     "shell.execute_reply": "2022-02-11T19:57:33.426700Z"
    }
   },
   "outputs": [],
   "source": [
    "OnePiece.extension.path.remove_extension(\"/path/to/a/file\")"
   ]
  },
  {
   "cell_type": "code",
   "execution_count": null,
   "id": "9dc8a8bd",
   "metadata": {
    "execution": {
     "iopub.execute_input": "2022-02-11T19:57:33.429978Z",
     "iopub.status.busy": "2022-02-11T19:57:33.429164Z",
     "iopub.status.idle": "2022-02-11T19:57:33.431912Z",
     "shell.execute_reply": "2022-02-11T19:57:33.430623Z"
    }
   },
   "outputs": [],
   "source": [
    "OnePiece.extension.path.remove_extension(\"/path/to/a/directory/\")"
   ]
  },
  {
   "cell_type": "markdown",
   "id": "7670ee74",
   "metadata": {
    "execution": {
     "iopub.execute_input": "2021-10-14T18:25:54.055222Z",
     "iopub.status.busy": "2021-10-14T18:25:53.342490Z",
     "iopub.status.idle": "2021-10-14T18:26:10.352867Z",
     "shell.execute_reply": "2021-10-14T18:26:10.352370Z"
    }
   },
   "source": [
    "## select"
   ]
  },
  {
   "cell_type": "code",
   "execution_count": null,
   "id": "9304e507",
   "metadata": {
    "execution": {
     "iopub.execute_input": "2022-02-11T19:57:33.433995Z",
     "iopub.status.busy": "2022-02-11T19:57:33.433282Z",
     "iopub.status.idle": "2022-02-11T19:57:33.435080Z",
     "shell.execute_reply": "2022-02-11T19:57:33.434600Z"
    }
   },
   "outputs": [],
   "source": [
    "di = homedir()\n",
    "\n",
    ";"
   ]
  },
  {
   "cell_type": "code",
   "execution_count": null,
   "id": "402bdee9",
   "metadata": {
    "execution": {
     "iopub.execute_input": "2022-02-11T19:57:33.436952Z",
     "iopub.status.busy": "2022-02-11T19:57:33.436348Z",
     "iopub.status.idle": "2022-02-11T19:57:34.369611Z",
     "shell.execute_reply": "2022-02-11T19:57:34.369154Z"
    }
   },
   "outputs": [],
   "source": [
    "OnePiece.extension.path.select(di)"
   ]
  },
  {
   "cell_type": "code",
   "execution_count": null,
   "id": "fcb166f2",
   "metadata": {
    "execution": {
     "iopub.execute_input": "2022-02-11T19:57:34.371553Z",
     "iopub.status.busy": "2022-02-11T19:57:34.370953Z",
     "iopub.status.idle": "2022-02-11T19:57:34.423842Z",
     "shell.execute_reply": "2022-02-11T19:57:34.423381Z"
    }
   },
   "outputs": [],
   "source": [
    "OnePiece.extension.path.select(di; ig_ = [], ke_ = [r\"^\\.\"], jo = false)"
   ]
  },
  {
   "cell_type": "markdown",
   "id": "d8111d32",
   "metadata": {},
   "source": [
    "## error_missing_path"
   ]
  },
  {
   "cell_type": "code",
   "execution_count": null,
   "id": "aeefbc77",
   "metadata": {
    "execution": {
     "iopub.execute_input": "2022-02-11T19:57:34.426059Z",
     "iopub.status.busy": "2022-02-11T19:57:34.425226Z",
     "iopub.status.idle": "2022-02-11T19:57:34.427884Z",
     "shell.execute_reply": "2022-02-11T19:57:34.426695Z"
    }
   },
   "outputs": [],
   "source": [
    "go = \"extension/path.ipynb\""
   ]
  },
  {
   "cell_type": "code",
   "execution_count": null,
   "id": "1cf0d05a",
   "metadata": {
    "execution": {
     "iopub.execute_input": "2022-02-11T19:57:34.429783Z",
     "iopub.status.busy": "2022-02-11T19:57:34.429127Z",
     "iopub.status.idle": "2022-02-11T19:57:34.446620Z",
     "shell.execute_reply": "2022-02-11T19:57:34.446091Z"
    }
   },
   "outputs": [],
   "source": [
    "OnePiece.extension.path.error_missing_path(dirname(@__DIR__), [go])"
   ]
  },
  {
   "cell_type": "code",
   "execution_count": null,
   "id": "fb80aeb5",
   "metadata": {
    "execution": {
     "iopub.execute_input": "2022-02-11T19:57:34.448647Z",
     "iopub.status.busy": "2022-02-11T19:57:34.447966Z",
     "iopub.status.idle": "2022-02-11T19:57:34.477844Z",
     "shell.execute_reply": "2022-02-11T19:57:34.477394Z"
    }
   },
   "outputs": [],
   "source": [
    "try\n",
    "\n",
    "    OnePiece.extension.path.error_missing_path(\n",
    "        dirname(@__DIR__),\n",
    "        [go, \"missing/file\", \"missing/directory/\"],\n",
    "    )\n",
    "\n",
    "catch er\n",
    "\n",
    "    er\n",
    "\n",
    "end"
   ]
  },
  {
   "cell_type": "markdown",
   "id": "d120dae4",
   "metadata": {},
   "source": [
    "## error_extension"
   ]
  },
  {
   "cell_type": "code",
   "execution_count": null,
   "id": "5551c780",
   "metadata": {
    "execution": {
     "iopub.execute_input": "2022-02-11T19:57:34.479765Z",
     "iopub.status.busy": "2022-02-11T19:57:34.479116Z",
     "iopub.status.idle": "2022-02-11T19:57:34.483741Z",
     "shell.execute_reply": "2022-02-11T19:57:34.483172Z"
    }
   },
   "outputs": [],
   "source": [
    "OnePiece.extension.path.error_extension(\"file.extension\", \".extension\")"
   ]
  },
  {
   "cell_type": "code",
   "execution_count": null,
   "id": "9b7bcf9e",
   "metadata": {
    "execution": {
     "iopub.execute_input": "2022-02-11T19:57:34.485625Z",
     "iopub.status.busy": "2022-02-11T19:57:34.484945Z",
     "iopub.status.idle": "2022-02-11T19:57:35.394049Z",
     "shell.execute_reply": "2022-02-11T19:57:35.393591Z"
    }
   },
   "outputs": [],
   "source": [
    "for ex in [\"extension\", \".another_extension\"]\n",
    "\n",
    "    try\n",
    "\n",
    "        OnePiece.extension.path.error_extension(\"file.extension\", ex)\n",
    "\n",
    "    catch er\n",
    "\n",
    "        println(er)\n",
    "\n",
    "    end\n",
    "\n",
    "end"
   ]
  },
  {
   "cell_type": "markdown",
   "id": "0ccb2bfe",
   "metadata": {
    "execution": {
     "iopub.execute_input": "2021-10-14T18:25:54.055222Z",
     "iopub.status.busy": "2021-10-14T18:25:53.342490Z",
     "iopub.status.idle": "2021-10-14T18:26:10.352867Z",
     "shell.execute_reply": "2021-10-14T18:26:10.352370Z"
    }
   },
   "source": [
    "## move"
   ]
  },
  {
   "cell_type": "code",
   "execution_count": null,
   "id": "d86d391b",
   "metadata": {
    "execution": {
     "iopub.execute_input": "2022-02-11T19:57:35.396185Z",
     "iopub.status.busy": "2022-02-11T19:57:35.395579Z",
     "iopub.status.idle": "2022-02-11T19:57:35.428376Z",
     "shell.execute_reply": "2022-02-11T19:57:35.427953Z"
    }
   },
   "outputs": [],
   "source": [
    "te = joinpath(tempdir(), \"move\")\n",
    "\n",
    "di1 = mkpath(joinpath(te, \"di1\"))\n",
    "\n",
    "di2 = mkpath(joinpath(te, \"di2\"))\n",
    "\n",
    "di3 = mkpath(joinpath(te, \"di3\"))\n",
    "\n",
    "fi1 = joinpath(di1, \"fi1\")\n",
    "\n",
    "fi2 = joinpath(di2, \"fi2\")\n",
    "\n",
    "touch(fi1)\n",
    "\n",
    "touch(fi2)\n",
    "\n",
    "run(`tree $te`)\n",
    "\n",
    ";"
   ]
  },
  {
   "cell_type": "code",
   "execution_count": null,
   "id": "caf10005",
   "metadata": {
    "execution": {
     "iopub.execute_input": "2022-02-11T19:57:35.430459Z",
     "iopub.status.busy": "2022-02-11T19:57:35.429877Z",
     "iopub.status.idle": "2022-02-11T19:57:35.626587Z",
     "shell.execute_reply": "2022-02-11T19:57:35.626068Z"
    }
   },
   "outputs": [],
   "source": [
    "fi12 = replace(fi1, \"di1\" => \"di3\")\n",
    "\n",
    "println(OnePiece.extension.path.move(fi1, fi12))\n",
    "\n",
    "run(`tree $te`)\n",
    "\n",
    ";"
   ]
  },
  {
   "cell_type": "code",
   "execution_count": null,
   "id": "37ab766d",
   "metadata": {
    "execution": {
     "iopub.execute_input": "2022-02-11T19:57:35.628792Z",
     "iopub.status.busy": "2022-02-11T19:57:35.628166Z",
     "iopub.status.idle": "2022-02-11T19:57:35.902088Z",
     "shell.execute_reply": "2022-02-11T19:57:35.901592Z"
    }
   },
   "outputs": [],
   "source": [
    "try\n",
    "\n",
    "    OnePiece.extension.path.move(di2, di3)\n",
    "\n",
    "catch er\n",
    "\n",
    "    er\n",
    "\n",
    "end"
   ]
  },
  {
   "cell_type": "code",
   "execution_count": null,
   "id": "a2b758c5",
   "metadata": {
    "execution": {
     "iopub.execute_input": "2022-02-11T19:57:35.904076Z",
     "iopub.status.busy": "2022-02-11T19:57:35.903492Z",
     "iopub.status.idle": "2022-02-11T19:57:35.926976Z",
     "shell.execute_reply": "2022-02-11T19:57:35.926549Z"
    }
   },
   "outputs": [],
   "source": [
    "println(OnePiece.extension.path.move(di2, di3; fo = true))\n",
    "\n",
    "run(`tree $te`)\n",
    "\n",
    ";"
   ]
  },
  {
   "cell_type": "markdown",
   "id": "864df5b3",
   "metadata": {},
   "source": [
    "## sed_recursively"
   ]
  },
  {
   "cell_type": "code",
   "execution_count": null,
   "id": "afc362c3",
   "metadata": {
    "execution": {
     "iopub.execute_input": "2022-02-11T19:57:35.929248Z",
     "iopub.status.busy": "2022-02-11T19:57:35.928671Z",
     "iopub.status.idle": "2022-02-11T19:57:35.957333Z",
     "shell.execute_reply": "2022-02-11T19:57:35.956914Z"
    }
   },
   "outputs": [],
   "source": [
    "fi1 = joinpath(te, \"fi1\")\n",
    "\n",
    "fi2 = joinpath(te, \"fi2\")\n",
    "\n",
    "open(fi1, \"w\") do io\n",
    "\n",
    "    write(io, \"Before\")\n",
    "\n",
    "end\n",
    "\n",
    "open(fi2, \"w\") do io\n",
    "\n",
    "    write(io, \"BeforeBefore\")\n",
    "\n",
    "end\n",
    "\n",
    "println(readline(open(fi1)))\n",
    "\n",
    "println(readline(open(fi2)))\n",
    "\n",
    ";"
   ]
  },
  {
   "cell_type": "code",
   "execution_count": null,
   "id": "4098503b",
   "metadata": {
    "execution": {
     "iopub.execute_input": "2022-02-11T19:57:35.959342Z",
     "iopub.status.busy": "2022-02-11T19:57:35.958709Z",
     "iopub.status.idle": "2022-02-11T19:57:36.173520Z",
     "shell.execute_reply": "2022-02-11T19:57:36.173066Z"
    }
   },
   "outputs": [],
   "source": [
    "OnePiece.extension.path.sed_recursively(te, [\"Before\" => \"After\"])\n",
    "\n",
    "println(readline(open(fi1)))\n",
    "\n",
    "println(readline(open(fi2)))"
   ]
  },
  {
   "cell_type": "markdown",
   "id": "3f396855",
   "metadata": {},
   "source": [
    "---"
   ]
  },
  {
   "cell_type": "code",
   "execution_count": null,
   "id": "b4af2023",
   "metadata": {
    "execution": {
     "iopub.execute_input": "2022-02-11T19:57:36.175469Z",
     "iopub.status.busy": "2022-02-11T19:57:36.174861Z",
     "iopub.status.idle": "2022-02-11T19:57:36.177443Z",
     "shell.execute_reply": "2022-02-11T19:57:36.176987Z"
    }
   },
   "outputs": [],
   "source": [
    "if isdir(TE)\n",
    "\n",
    "    rm(TE, recursive = true)\n",
    "\n",
    "    println(\"Removed \", TE, \".\")\n",
    "\n",
    "end"
   ]
  }
 ],
 "metadata": {
  "kernelspec": {
   "display_name": "Julia 1.7.2",
   "language": "julia",
   "name": "julia-1.7"
  },
  "language_info": {
   "file_extension": ".jl",
   "mimetype": "application/julia",
   "name": "julia",
   "version": "1.7.2"
  }
 },
 "nbformat": 4,
 "nbformat_minor": 5
}
