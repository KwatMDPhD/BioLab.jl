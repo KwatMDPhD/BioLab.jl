{
 "cells": [
  {
   "cell_type": "code",
   "execution_count": null,
   "id": "017464da",
   "metadata": {
    "execution": {
     "iopub.execute_input": "2022-02-13T05:19:30.034104Z",
     "iopub.status.busy": "2022-02-13T05:19:29.625086Z",
     "iopub.status.idle": "2022-02-13T05:19:30.268583Z",
     "shell.execute_reply": "2022-02-13T05:19:30.267997Z"
    }
   },
   "outputs": [],
   "source": [
    "TE = joinpath(tempdir(), \"OnePiece.test\")\n",
    "\n",
    "if isdir(TE)\n",
    "\n",
    "    rm(TE, recursive = true)\n",
    "\n",
    "    println(\"Removed \", TE, \".\")\n",
    "\n",
    "end\n",
    "\n",
    "mkdir(TE)\n",
    "\n",
    "println(\"Made \", TE, \".\")"
   ]
  },
  {
   "cell_type": "code",
   "execution_count": null,
   "id": "34e4701e",
   "metadata": {
    "execution": {
     "iopub.execute_input": "2022-02-13T05:19:30.270517Z",
     "iopub.status.busy": "2022-02-13T05:19:30.269943Z",
     "iopub.status.idle": "2022-02-13T05:19:35.354835Z",
     "shell.execute_reply": "2022-02-13T05:19:35.354292Z"
    }
   },
   "outputs": [],
   "source": [
    "using OnePiece"
   ]
  },
  {
   "cell_type": "markdown",
   "id": "b92a3da9",
   "metadata": {},
   "source": [
    "---"
   ]
  },
  {
   "cell_type": "markdown",
   "id": "174f3b9b",
   "metadata": {
    "execution": {
     "iopub.execute_input": "2021-10-14T18:25:54.055222Z",
     "iopub.status.busy": "2021-10-14T18:25:53.342490Z",
     "iopub.status.idle": "2021-10-14T18:26:10.352867Z",
     "shell.execute_reply": "2021-10-14T18:26:10.352370Z"
    }
   },
   "source": [
    "## shorten"
   ]
  },
  {
   "cell_type": "code",
   "execution_count": null,
   "id": "685c8b90",
   "metadata": {
    "execution": {
     "iopub.execute_input": "2022-02-13T05:19:35.739061Z",
     "iopub.status.busy": "2022-02-13T05:19:35.356381Z",
     "iopub.status.idle": "2022-02-13T05:19:36.519514Z",
     "shell.execute_reply": "2022-02-13T05:19:36.519055Z"
    }
   },
   "outputs": [],
   "source": [
    "pa = pwd()"
   ]
  },
  {
   "cell_type": "code",
   "execution_count": null,
   "id": "e40c9529",
   "metadata": {
    "execution": {
     "iopub.execute_input": "2022-02-13T05:19:36.521384Z",
     "iopub.status.busy": "2022-02-13T05:19:36.520815Z",
     "iopub.status.idle": "2022-02-13T05:19:37.110464Z",
     "shell.execute_reply": "2022-02-13T05:19:37.110015Z"
    }
   },
   "outputs": [],
   "source": [
    "try\n",
    "\n",
    "    OnePiece.extension.path.shorten(pa, \"Shanks\")\n",
    "\n",
    "catch er\n",
    "\n",
    "    er\n",
    "\n",
    "end"
   ]
  },
  {
   "cell_type": "code",
   "execution_count": null,
   "id": "f8f20090",
   "metadata": {
    "execution": {
     "iopub.execute_input": "2022-02-13T05:19:37.112351Z",
     "iopub.status.busy": "2022-02-13T05:19:37.111769Z",
     "iopub.status.idle": "2022-02-13T05:19:37.138062Z",
     "shell.execute_reply": "2022-02-13T05:19:37.137550Z"
    }
   },
   "outputs": [],
   "source": [
    "for n_ba in [2, 1]\n",
    "\n",
    "    println(OnePiece.extension.path.shorten(pa, n_ba))\n",
    "\n",
    "end"
   ]
  },
  {
   "cell_type": "code",
   "execution_count": null,
   "id": "9881c454",
   "metadata": {
    "execution": {
     "iopub.execute_input": "2022-02-13T05:19:37.139937Z",
     "iopub.status.busy": "2022-02-13T05:19:37.139350Z",
     "iopub.status.idle": "2022-02-13T05:19:37.152107Z",
     "shell.execute_reply": "2022-02-13T05:19:37.151671Z"
    }
   },
   "outputs": [],
   "source": [
    "for di in [\"OnePiece.jl\", \"test\", \"OnePiece.jl/test\", \"extension\"]\n",
    "\n",
    "    println(OnePiece.extension.path.shorten(pa, di))\n",
    "\n",
    "end"
   ]
  },
  {
   "cell_type": "markdown",
   "id": "4f0f34f4",
   "metadata": {
    "execution": {
     "iopub.execute_input": "2021-10-14T18:25:54.055222Z",
     "iopub.status.busy": "2021-10-14T18:25:53.342490Z",
     "iopub.status.idle": "2021-10-14T18:26:10.352867Z",
     "shell.execute_reply": "2021-10-14T18:26:10.352370Z"
    }
   },
   "source": [
    "## clean"
   ]
  },
  {
   "cell_type": "code",
   "execution_count": null,
   "id": "9c1753ae",
   "metadata": {
    "execution": {
     "iopub.execute_input": "2022-02-13T05:19:37.154045Z",
     "iopub.status.busy": "2022-02-13T05:19:37.153478Z",
     "iopub.status.idle": "2022-02-13T05:19:37.161652Z",
     "shell.execute_reply": "2022-02-13T05:19:37.160957Z"
    }
   },
   "outputs": [],
   "source": [
    "OnePiece.extension.path.clean(\"a_b.c-d+e!f%g%h]iJK\")"
   ]
  },
  {
   "cell_type": "markdown",
   "id": "bcf7707b",
   "metadata": {
    "execution": {
     "iopub.execute_input": "2021-10-14T18:25:54.055222Z",
     "iopub.status.busy": "2021-10-14T18:25:53.342490Z",
     "iopub.status.idle": "2021-10-14T18:26:10.352867Z",
     "shell.execute_reply": "2021-10-14T18:26:10.352370Z"
    }
   },
   "source": [
    "## make_absolute"
   ]
  },
  {
   "cell_type": "code",
   "execution_count": null,
   "id": "b861b0f9",
   "metadata": {
    "execution": {
     "iopub.execute_input": "2022-02-13T05:19:37.163701Z",
     "iopub.status.busy": "2022-02-13T05:19:37.163123Z",
     "iopub.status.idle": "2022-02-13T05:19:37.179512Z",
     "shell.execute_reply": "2022-02-13T05:19:37.179085Z"
    }
   },
   "outputs": [],
   "source": [
    "for pa in [\"~/file\", \"~/directory/\"]\n",
    "\n",
    "    println(OnePiece.extension.path.make_absolute(pa))\n",
    "\n",
    "end"
   ]
  },
  {
   "cell_type": "markdown",
   "id": "53c74cab",
   "metadata": {},
   "source": [
    "## remove_extension"
   ]
  },
  {
   "cell_type": "code",
   "execution_count": null,
   "id": "f701b595",
   "metadata": {
    "execution": {
     "iopub.execute_input": "2022-02-13T05:19:37.181774Z",
     "iopub.status.busy": "2022-02-13T05:19:37.180981Z",
     "iopub.status.idle": "2022-02-13T05:19:37.186803Z",
     "shell.execute_reply": "2022-02-13T05:19:37.186271Z"
    }
   },
   "outputs": [],
   "source": [
    "OnePiece.extension.path.remove_extension(\"/path/to/a/file.extension\")"
   ]
  },
  {
   "cell_type": "code",
   "execution_count": null,
   "id": "ec900856",
   "metadata": {
    "execution": {
     "iopub.execute_input": "2022-02-13T05:19:37.188967Z",
     "iopub.status.busy": "2022-02-13T05:19:37.188139Z",
     "iopub.status.idle": "2022-02-13T05:19:37.190668Z",
     "shell.execute_reply": "2022-02-13T05:19:37.189486Z"
    }
   },
   "outputs": [],
   "source": [
    "OnePiece.extension.path.remove_extension(\"/path/to/a/file\")"
   ]
  },
  {
   "cell_type": "code",
   "execution_count": null,
   "id": "9dc8a8bd",
   "metadata": {
    "execution": {
     "iopub.execute_input": "2022-02-13T05:19:37.192877Z",
     "iopub.status.busy": "2022-02-13T05:19:37.192139Z",
     "iopub.status.idle": "2022-02-13T05:19:37.194872Z",
     "shell.execute_reply": "2022-02-13T05:19:37.193465Z"
    }
   },
   "outputs": [],
   "source": [
    "OnePiece.extension.path.remove_extension(\"/path/to/a/directory/\")"
   ]
  },
  {
   "cell_type": "markdown",
   "id": "7670ee74",
   "metadata": {
    "execution": {
     "iopub.execute_input": "2021-10-14T18:25:54.055222Z",
     "iopub.status.busy": "2021-10-14T18:25:53.342490Z",
     "iopub.status.idle": "2021-10-14T18:26:10.352867Z",
     "shell.execute_reply": "2021-10-14T18:26:10.352370Z"
    }
   },
   "source": [
    "## select"
   ]
  },
  {
   "cell_type": "code",
   "execution_count": null,
   "id": "9304e507",
   "metadata": {
    "execution": {
     "iopub.execute_input": "2022-02-13T05:19:37.197221Z",
     "iopub.status.busy": "2022-02-13T05:19:37.196533Z",
     "iopub.status.idle": "2022-02-13T05:19:37.198423Z",
     "shell.execute_reply": "2022-02-13T05:19:37.197898Z"
    }
   },
   "outputs": [],
   "source": [
    "di = homedir()\n",
    "\n",
    ";"
   ]
  },
  {
   "cell_type": "code",
   "execution_count": null,
   "id": "402bdee9",
   "metadata": {
    "execution": {
     "iopub.execute_input": "2022-02-13T05:19:37.200443Z",
     "iopub.status.busy": "2022-02-13T05:19:37.199841Z",
     "iopub.status.idle": "2022-02-13T05:19:38.146642Z",
     "shell.execute_reply": "2022-02-13T05:19:38.146181Z"
    }
   },
   "outputs": [],
   "source": [
    "OnePiece.extension.path.select(di)"
   ]
  },
  {
   "cell_type": "code",
   "execution_count": null,
   "id": "fcb166f2",
   "metadata": {
    "execution": {
     "iopub.execute_input": "2022-02-13T05:19:38.148679Z",
     "iopub.status.busy": "2022-02-13T05:19:38.148069Z",
     "iopub.status.idle": "2022-02-13T05:19:38.203716Z",
     "shell.execute_reply": "2022-02-13T05:19:38.203281Z"
    }
   },
   "outputs": [],
   "source": [
    "OnePiece.extension.path.select(di; ig_ = [], ke_ = [r\"^\\.\"], jo = false)"
   ]
  },
  {
   "cell_type": "markdown",
   "id": "d8111d32",
   "metadata": {},
   "source": [
    "## error_missing_path"
   ]
  },
  {
   "cell_type": "code",
   "execution_count": null,
   "id": "aeefbc77",
   "metadata": {
    "execution": {
     "iopub.execute_input": "2022-02-13T05:19:38.205699Z",
     "iopub.status.busy": "2022-02-13T05:19:38.204964Z",
     "iopub.status.idle": "2022-02-13T05:19:38.207588Z",
     "shell.execute_reply": "2022-02-13T05:19:38.206219Z"
    }
   },
   "outputs": [],
   "source": [
    "go = \"extension/path.ipynb\""
   ]
  },
  {
   "cell_type": "code",
   "execution_count": null,
   "id": "1cf0d05a",
   "metadata": {
    "execution": {
     "iopub.execute_input": "2022-02-13T05:19:38.209575Z",
     "iopub.status.busy": "2022-02-13T05:19:38.208998Z",
     "iopub.status.idle": "2022-02-13T05:19:38.226914Z",
     "shell.execute_reply": "2022-02-13T05:19:38.226403Z"
    }
   },
   "outputs": [],
   "source": [
    "OnePiece.extension.path.error_missing_path(dirname(@__DIR__), [go])"
   ]
  },
  {
   "cell_type": "code",
   "execution_count": null,
   "id": "fb80aeb5",
   "metadata": {
    "execution": {
     "iopub.execute_input": "2022-02-13T05:19:38.228803Z",
     "iopub.status.busy": "2022-02-13T05:19:38.228239Z",
     "iopub.status.idle": "2022-02-13T05:19:38.260770Z",
     "shell.execute_reply": "2022-02-13T05:19:38.260326Z"
    }
   },
   "outputs": [],
   "source": [
    "try\n",
    "\n",
    "    OnePiece.extension.path.error_missing_path(\n",
    "        dirname(@__DIR__),\n",
    "        [go, \"missing/file\", \"missing/directory/\"],\n",
    "    )\n",
    "\n",
    "catch er\n",
    "\n",
    "    er\n",
    "\n",
    "end"
   ]
  },
  {
   "cell_type": "markdown",
   "id": "d120dae4",
   "metadata": {},
   "source": [
    "## error_extension"
   ]
  },
  {
   "cell_type": "code",
   "execution_count": null,
   "id": "5551c780",
   "metadata": {
    "execution": {
     "iopub.execute_input": "2022-02-13T05:19:38.262665Z",
     "iopub.status.busy": "2022-02-13T05:19:38.262103Z",
     "iopub.status.idle": "2022-02-13T05:19:38.267060Z",
     "shell.execute_reply": "2022-02-13T05:19:38.266559Z"
    }
   },
   "outputs": [],
   "source": [
    "OnePiece.extension.path.error_extension(\"file.extension\", \".extension\")"
   ]
  },
  {
   "cell_type": "code",
   "execution_count": null,
   "id": "9b7bcf9e",
   "metadata": {
    "execution": {
     "iopub.execute_input": "2022-02-13T05:19:38.268847Z",
     "iopub.status.busy": "2022-02-13T05:19:38.268276Z",
     "iopub.status.idle": "2022-02-13T05:19:39.175524Z",
     "shell.execute_reply": "2022-02-13T05:19:39.175111Z"
    }
   },
   "outputs": [],
   "source": [
    "for ex in [\"extension\", \".another_extension\"]\n",
    "\n",
    "    try\n",
    "\n",
    "        OnePiece.extension.path.error_extension(\"file.extension\", ex)\n",
    "\n",
    "    catch er\n",
    "\n",
    "        println(er)\n",
    "\n",
    "    end\n",
    "\n",
    "end"
   ]
  },
  {
   "cell_type": "markdown",
   "id": "0ccb2bfe",
   "metadata": {
    "execution": {
     "iopub.execute_input": "2021-10-14T18:25:54.055222Z",
     "iopub.status.busy": "2021-10-14T18:25:53.342490Z",
     "iopub.status.idle": "2021-10-14T18:26:10.352867Z",
     "shell.execute_reply": "2021-10-14T18:26:10.352370Z"
    }
   },
   "source": [
    "## move"
   ]
  },
  {
   "cell_type": "code",
   "execution_count": null,
   "id": "d86d391b",
   "metadata": {
    "execution": {
     "iopub.execute_input": "2022-02-13T05:19:39.177513Z",
     "iopub.status.busy": "2022-02-13T05:19:39.176882Z",
     "iopub.status.idle": "2022-02-13T05:19:39.213548Z",
     "shell.execute_reply": "2022-02-13T05:19:39.213133Z"
    }
   },
   "outputs": [],
   "source": [
    "te = joinpath(tempdir(), \"move\")\n",
    "\n",
    "di1 = mkpath(joinpath(te, \"di1\"))\n",
    "\n",
    "di2 = mkpath(joinpath(te, \"di2\"))\n",
    "\n",
    "di3 = mkpath(joinpath(te, \"di3\"))\n",
    "\n",
    "fi1 = joinpath(di1, \"fi1\")\n",
    "\n",
    "fi2 = joinpath(di2, \"fi2\")\n",
    "\n",
    "touch(fi1)\n",
    "\n",
    "touch(fi2)\n",
    "\n",
    "run(`tree $te`)\n",
    "\n",
    ";"
   ]
  },
  {
   "cell_type": "code",
   "execution_count": null,
   "id": "caf10005",
   "metadata": {
    "execution": {
     "iopub.execute_input": "2022-02-13T05:19:39.215338Z",
     "iopub.status.busy": "2022-02-13T05:19:39.214782Z",
     "iopub.status.idle": "2022-02-13T05:19:39.448993Z",
     "shell.execute_reply": "2022-02-13T05:19:39.447906Z"
    }
   },
   "outputs": [],
   "source": [
    "fi12 = replace(fi1, \"di1\" => \"di3\")\n",
    "\n",
    "println(OnePiece.extension.path.move(fi1, fi12))\n",
    "\n",
    "run(`tree $te`)\n",
    "\n",
    ";"
   ]
  },
  {
   "cell_type": "code",
   "execution_count": null,
   "id": "37ab766d",
   "metadata": {
    "execution": {
     "iopub.execute_input": "2022-02-13T05:19:39.452475Z",
     "iopub.status.busy": "2022-02-13T05:19:39.451275Z",
     "iopub.status.idle": "2022-02-13T05:19:39.775761Z",
     "shell.execute_reply": "2022-02-13T05:19:39.775314Z"
    }
   },
   "outputs": [],
   "source": [
    "try\n",
    "\n",
    "    OnePiece.extension.path.move(di2, di3)\n",
    "\n",
    "catch er\n",
    "\n",
    "    er\n",
    "\n",
    "end"
   ]
  },
  {
   "cell_type": "code",
   "execution_count": null,
   "id": "a2b758c5",
   "metadata": {
    "execution": {
     "iopub.execute_input": "2022-02-13T05:19:39.777609Z",
     "iopub.status.busy": "2022-02-13T05:19:39.777048Z",
     "iopub.status.idle": "2022-02-13T05:19:39.802535Z",
     "shell.execute_reply": "2022-02-13T05:19:39.802937Z"
    }
   },
   "outputs": [],
   "source": [
    "println(OnePiece.extension.path.move(di2, di3; fo = true))\n",
    "\n",
    "run(`tree $te`)\n",
    "\n",
    ";"
   ]
  },
  {
   "cell_type": "markdown",
   "id": "864df5b3",
   "metadata": {},
   "source": [
    "## sed_recursively"
   ]
  },
  {
   "cell_type": "code",
   "execution_count": null,
   "id": "afc362c3",
   "metadata": {
    "execution": {
     "iopub.execute_input": "2022-02-13T05:19:39.804934Z",
     "iopub.status.busy": "2022-02-13T05:19:39.804366Z",
     "iopub.status.idle": "2022-02-13T05:19:39.832138Z",
     "shell.execute_reply": "2022-02-13T05:19:39.831721Z"
    }
   },
   "outputs": [],
   "source": [
    "fi1 = joinpath(te, \"fi1\")\n",
    "\n",
    "fi2 = joinpath(te, \"fi2\")\n",
    "\n",
    "open(fi1, \"w\") do io\n",
    "\n",
    "    write(io, \"Before\")\n",
    "\n",
    "end\n",
    "\n",
    "open(fi2, \"w\") do io\n",
    "\n",
    "    write(io, \"BeforeBefore\")\n",
    "\n",
    "end\n",
    "\n",
    "println(readline(open(fi1)))\n",
    "\n",
    "println(readline(open(fi2)))\n",
    "\n",
    ";"
   ]
  },
  {
   "cell_type": "code",
   "execution_count": null,
   "id": "4098503b",
   "metadata": {
    "execution": {
     "iopub.execute_input": "2022-02-13T05:19:39.834034Z",
     "iopub.status.busy": "2022-02-13T05:19:39.833452Z",
     "iopub.status.idle": "2022-02-13T05:19:40.051014Z",
     "shell.execute_reply": "2022-02-13T05:19:40.050506Z"
    }
   },
   "outputs": [],
   "source": [
    "OnePiece.extension.path.sed_recursively(te, [\"Before\" => \"After\"])\n",
    "\n",
    "println(readline(open(fi1)))\n",
    "\n",
    "println(readline(open(fi2)))"
   ]
  },
  {
   "cell_type": "markdown",
   "id": "3f396855",
   "metadata": {},
   "source": [
    "---"
   ]
  },
  {
   "cell_type": "code",
   "execution_count": null,
   "id": "b4af2023",
   "metadata": {
    "execution": {
     "iopub.execute_input": "2022-02-13T05:19:40.053023Z",
     "iopub.status.busy": "2022-02-13T05:19:40.052465Z",
     "iopub.status.idle": "2022-02-13T05:19:40.054740Z",
     "shell.execute_reply": "2022-02-13T05:19:40.054343Z"
    }
   },
   "outputs": [],
   "source": [
    "if isdir(TE)\n",
    "\n",
    "    rm(TE, recursive = true)\n",
    "\n",
    "    println(\"Removed \", TE, \".\")\n",
    "\n",
    "end"
   ]
  }
 ],
 "metadata": {
  "kernelspec": {
   "display_name": "Julia 1.7.2",
   "language": "julia",
   "name": "julia-1.7"
  },
  "language_info": {
   "file_extension": ".jl",
   "mimetype": "application/julia",
   "name": "julia",
   "version": "1.7.2"
  }
 },
 "nbformat": 4,
 "nbformat_minor": 5
}
