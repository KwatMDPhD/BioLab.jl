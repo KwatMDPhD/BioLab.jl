{
 "cells": [
  {
   "cell_type": "code",
   "execution_count": null,
   "id": "34e4701e",
   "metadata": {
    "execution": {
     "iopub.execute_input": "2022-02-09T05:31:49.683687Z",
     "iopub.status.busy": "2022-02-09T05:31:49.269625Z",
     "iopub.status.idle": "2022-02-09T05:31:50.740823Z",
     "shell.execute_reply": "2022-02-09T05:31:50.740244Z"
    }
   },
   "outputs": [],
   "source": [
    "using Revise\n",
    "using BenchmarkTools"
   ]
  },
  {
   "cell_type": "code",
   "execution_count": null,
   "id": "871c335e",
   "metadata": {
    "execution": {
     "iopub.execute_input": "2022-02-09T05:31:50.743150Z",
     "iopub.status.busy": "2022-02-09T05:31:50.742413Z",
     "iopub.status.idle": "2022-02-09T05:32:02.326416Z",
     "shell.execute_reply": "2022-02-09T05:32:02.325878Z"
    }
   },
   "outputs": [],
   "source": [
    "using OnePiece"
   ]
  },
  {
   "cell_type": "markdown",
   "id": "174f3b9b",
   "metadata": {
    "execution": {
     "iopub.execute_input": "2021-10-14T18:25:54.055222Z",
     "iopub.status.busy": "2021-10-14T18:25:53.342490Z",
     "iopub.status.idle": "2021-10-14T18:26:10.352867Z",
     "shell.execute_reply": "2021-10-14T18:26:10.352370Z"
    }
   },
   "source": [
    "## shorten"
   ]
  },
  {
   "cell_type": "code",
   "execution_count": null,
   "id": "685c8b90",
   "metadata": {
    "execution": {
     "iopub.execute_input": "2022-02-09T05:32:04.107824Z",
     "iopub.status.busy": "2022-02-09T05:32:02.327865Z",
     "iopub.status.idle": "2022-02-09T05:32:05.398790Z",
     "shell.execute_reply": "2022-02-09T05:32:05.398325Z"
    }
   },
   "outputs": [],
   "source": [
    "pa = pwd()"
   ]
  },
  {
   "cell_type": "code",
   "execution_count": null,
   "id": "e40c9529",
   "metadata": {
    "execution": {
     "iopub.execute_input": "2022-02-09T05:32:05.400727Z",
     "iopub.status.busy": "2022-02-09T05:32:05.400091Z",
     "iopub.status.idle": "2022-02-09T05:32:05.806821Z",
     "shell.execute_reply": "2022-02-09T05:32:05.806342Z"
    }
   },
   "outputs": [],
   "source": [
    "try\n",
    "\n",
    "    OnePiece.extension.path.shorten(pa, \"Shanks\")\n",
    "\n",
    "catch er\n",
    "\n",
    "    er\n",
    "\n",
    "end"
   ]
  },
  {
   "cell_type": "code",
   "execution_count": null,
   "id": "f8f20090",
   "metadata": {
    "execution": {
     "iopub.execute_input": "2022-02-09T05:32:05.808758Z",
     "iopub.status.busy": "2022-02-09T05:32:05.808154Z",
     "iopub.status.idle": "2022-02-09T05:32:05.859903Z",
     "shell.execute_reply": "2022-02-09T05:32:05.859361Z"
    }
   },
   "outputs": [],
   "source": [
    "for n_ba in [2, 1]\n",
    "\n",
    "    println(OnePiece.extension.path.shorten(pa, n_ba))\n",
    "\n",
    "end"
   ]
  },
  {
   "cell_type": "code",
   "execution_count": null,
   "id": "9881c454",
   "metadata": {
    "execution": {
     "iopub.execute_input": "2022-02-09T05:32:05.861863Z",
     "iopub.status.busy": "2022-02-09T05:32:05.861269Z",
     "iopub.status.idle": "2022-02-09T05:32:05.886633Z",
     "shell.execute_reply": "2022-02-09T05:32:05.886171Z"
    }
   },
   "outputs": [],
   "source": [
    "for di in [\"OnePiece.jl\", \"test\", \"OnePiece.jl/test\", \"extension\"]\n",
    "\n",
    "    println(OnePiece.extension.path.shorten(pa, di))\n",
    "\n",
    "end"
   ]
  },
  {
   "cell_type": "markdown",
   "id": "4f0f34f4",
   "metadata": {
    "execution": {
     "iopub.execute_input": "2021-10-14T18:25:54.055222Z",
     "iopub.status.busy": "2021-10-14T18:25:53.342490Z",
     "iopub.status.idle": "2021-10-14T18:26:10.352867Z",
     "shell.execute_reply": "2021-10-14T18:26:10.352370Z"
    }
   },
   "source": [
    "## clean"
   ]
  },
  {
   "cell_type": "code",
   "execution_count": null,
   "id": "9c1753ae",
   "metadata": {
    "execution": {
     "iopub.execute_input": "2022-02-09T05:32:05.888592Z",
     "iopub.status.busy": "2022-02-09T05:32:05.888004Z",
     "iopub.status.idle": "2022-02-09T05:32:05.924380Z",
     "shell.execute_reply": "2022-02-09T05:32:05.923924Z"
    }
   },
   "outputs": [],
   "source": [
    "OnePiece.extension.path.clean(\"a_b.c-d+e!f%g%h]iJK\")"
   ]
  },
  {
   "cell_type": "markdown",
   "id": "bcf7707b",
   "metadata": {
    "execution": {
     "iopub.execute_input": "2021-10-14T18:25:54.055222Z",
     "iopub.status.busy": "2021-10-14T18:25:53.342490Z",
     "iopub.status.idle": "2021-10-14T18:26:10.352867Z",
     "shell.execute_reply": "2021-10-14T18:26:10.352370Z"
    }
   },
   "source": [
    "## make_absolute"
   ]
  },
  {
   "cell_type": "code",
   "execution_count": null,
   "id": "b861b0f9",
   "metadata": {
    "execution": {
     "iopub.execute_input": "2022-02-09T05:32:05.926289Z",
     "iopub.status.busy": "2022-02-09T05:32:05.925704Z",
     "iopub.status.idle": "2022-02-09T05:32:05.954428Z",
     "shell.execute_reply": "2022-02-09T05:32:05.953958Z"
    }
   },
   "outputs": [],
   "source": [
    "for pa in [\"~/file\", \"~/directory/\"]\n",
    "\n",
    "    println(OnePiece.extension.path.make_absolute(pa))\n",
    "\n",
    "end"
   ]
  },
  {
   "cell_type": "markdown",
   "id": "53c74cab",
   "metadata": {},
   "source": [
    "## remove_extension"
   ]
  },
  {
   "cell_type": "code",
   "execution_count": null,
   "id": "f701b595",
   "metadata": {
    "execution": {
     "iopub.execute_input": "2022-02-09T05:32:05.956420Z",
     "iopub.status.busy": "2022-02-09T05:32:05.955812Z",
     "iopub.status.idle": "2022-02-09T05:32:05.972928Z",
     "shell.execute_reply": "2022-02-09T05:32:05.972457Z"
    }
   },
   "outputs": [],
   "source": [
    "OnePiece.extension.path.remove_extension(\"/path/to/a/file.extension\")"
   ]
  },
  {
   "cell_type": "code",
   "execution_count": null,
   "id": "ec900856",
   "metadata": {
    "execution": {
     "iopub.execute_input": "2022-02-09T05:32:05.974709Z",
     "iopub.status.busy": "2022-02-09T05:32:05.974129Z",
     "iopub.status.idle": "2022-02-09T05:32:05.988593Z",
     "shell.execute_reply": "2022-02-09T05:32:05.988137Z"
    }
   },
   "outputs": [],
   "source": [
    "OnePiece.extension.path.remove_extension(\"/path/to/a/file\")"
   ]
  },
  {
   "cell_type": "code",
   "execution_count": null,
   "id": "9dc8a8bd",
   "metadata": {
    "execution": {
     "iopub.execute_input": "2022-02-09T05:32:05.990425Z",
     "iopub.status.busy": "2022-02-09T05:32:05.989830Z",
     "iopub.status.idle": "2022-02-09T05:32:06.004540Z",
     "shell.execute_reply": "2022-02-09T05:32:06.004078Z"
    }
   },
   "outputs": [],
   "source": [
    "OnePiece.extension.path.remove_extension(\"/path/to/a/directory/\")"
   ]
  },
  {
   "cell_type": "markdown",
   "id": "7670ee74",
   "metadata": {
    "execution": {
     "iopub.execute_input": "2021-10-14T18:25:54.055222Z",
     "iopub.status.busy": "2021-10-14T18:25:53.342490Z",
     "iopub.status.idle": "2021-10-14T18:26:10.352867Z",
     "shell.execute_reply": "2021-10-14T18:26:10.352370Z"
    }
   },
   "source": [
    "## select"
   ]
  },
  {
   "cell_type": "code",
   "execution_count": null,
   "id": "9304e507",
   "metadata": {
    "execution": {
     "iopub.execute_input": "2022-02-09T05:32:06.006667Z",
     "iopub.status.busy": "2022-02-09T05:32:06.006014Z",
     "iopub.status.idle": "2022-02-09T05:32:06.018674Z",
     "shell.execute_reply": "2022-02-09T05:32:06.018147Z"
    }
   },
   "outputs": [],
   "source": [
    "di = homedir()\n",
    "\n",
    ";"
   ]
  },
  {
   "cell_type": "code",
   "execution_count": null,
   "id": "402bdee9",
   "metadata": {
    "execution": {
     "iopub.execute_input": "2022-02-09T05:32:06.020538Z",
     "iopub.status.busy": "2022-02-09T05:32:06.019957Z",
     "iopub.status.idle": "2022-02-09T05:32:07.043346Z",
     "shell.execute_reply": "2022-02-09T05:32:07.042847Z"
    }
   },
   "outputs": [],
   "source": [
    "OnePiece.extension.path.select(di)"
   ]
  },
  {
   "cell_type": "code",
   "execution_count": null,
   "id": "fcb166f2",
   "metadata": {
    "execution": {
     "iopub.execute_input": "2022-02-09T05:32:07.045702Z",
     "iopub.status.busy": "2022-02-09T05:32:07.044835Z",
     "iopub.status.idle": "2022-02-09T05:32:07.112040Z",
     "shell.execute_reply": "2022-02-09T05:32:07.111293Z"
    }
   },
   "outputs": [],
   "source": [
    "OnePiece.extension.path.select(di; ig_ = [], ke_ = [r\"^\\.\"], jo = false)"
   ]
  },
  {
   "cell_type": "markdown",
   "id": "d8111d32",
   "metadata": {},
   "source": [
    "## error_missing_path"
   ]
  },
  {
   "cell_type": "code",
   "execution_count": null,
   "id": "aeefbc77",
   "metadata": {
    "execution": {
     "iopub.execute_input": "2022-02-09T05:32:07.114334Z",
     "iopub.status.busy": "2022-02-09T05:32:07.113682Z",
     "iopub.status.idle": "2022-02-09T05:32:07.127211Z",
     "shell.execute_reply": "2022-02-09T05:32:07.126627Z"
    }
   },
   "outputs": [],
   "source": [
    "go = \"extension/path.ipynb\""
   ]
  },
  {
   "cell_type": "code",
   "execution_count": null,
   "id": "1cf0d05a",
   "metadata": {
    "execution": {
     "iopub.execute_input": "2022-02-09T05:32:07.129218Z",
     "iopub.status.busy": "2022-02-09T05:32:07.128575Z",
     "iopub.status.idle": "2022-02-09T05:32:07.155573Z",
     "shell.execute_reply": "2022-02-09T05:32:07.155025Z"
    }
   },
   "outputs": [],
   "source": [
    "OnePiece.extension.path.error_missing_path(dirname(@__DIR__), [go])"
   ]
  },
  {
   "cell_type": "code",
   "execution_count": null,
   "id": "fb80aeb5",
   "metadata": {
    "execution": {
     "iopub.execute_input": "2022-02-09T05:32:07.157519Z",
     "iopub.status.busy": "2022-02-09T05:32:07.156935Z",
     "iopub.status.idle": "2022-02-09T05:32:07.202844Z",
     "shell.execute_reply": "2022-02-09T05:32:07.202364Z"
    }
   },
   "outputs": [],
   "source": [
    "try\n",
    "\n",
    "    OnePiece.extension.path.error_missing_path(\n",
    "        dirname(@__DIR__),\n",
    "        [go, \"missing/file\", \"missing/directory/\"],\n",
    "    )\n",
    "\n",
    "catch er\n",
    "\n",
    "    er\n",
    "\n",
    "end"
   ]
  },
  {
   "cell_type": "markdown",
   "id": "d120dae4",
   "metadata": {},
   "source": [
    "## error_extension"
   ]
  },
  {
   "cell_type": "code",
   "execution_count": null,
   "id": "5551c780",
   "metadata": {
    "execution": {
     "iopub.execute_input": "2022-02-09T05:32:07.204786Z",
     "iopub.status.busy": "2022-02-09T05:32:07.204207Z",
     "iopub.status.idle": "2022-02-09T05:32:07.220615Z",
     "shell.execute_reply": "2022-02-09T05:32:07.220104Z"
    }
   },
   "outputs": [],
   "source": [
    "OnePiece.extension.path.error_extension(\"file.extension\", \".extension\")"
   ]
  },
  {
   "cell_type": "code",
   "execution_count": null,
   "id": "9b7bcf9e",
   "metadata": {
    "execution": {
     "iopub.execute_input": "2022-02-09T05:32:07.222538Z",
     "iopub.status.busy": "2022-02-09T05:32:07.221946Z",
     "iopub.status.idle": "2022-02-09T05:32:08.202374Z",
     "shell.execute_reply": "2022-02-09T05:32:08.201798Z"
    }
   },
   "outputs": [],
   "source": [
    "for ex in [\"extension\", \".another_extension\"]\n",
    "\n",
    "    try\n",
    "\n",
    "        OnePiece.extension.path.error_extension(\"file.extension\", ex)\n",
    "\n",
    "    catch er\n",
    "\n",
    "        println(er)\n",
    "\n",
    "    end\n",
    "\n",
    "end"
   ]
  },
  {
   "cell_type": "markdown",
   "id": "0ccb2bfe",
   "metadata": {
    "execution": {
     "iopub.execute_input": "2021-10-14T18:25:54.055222Z",
     "iopub.status.busy": "2021-10-14T18:25:53.342490Z",
     "iopub.status.idle": "2021-10-14T18:26:10.352867Z",
     "shell.execute_reply": "2021-10-14T18:26:10.352370Z"
    }
   },
   "source": [
    "## move"
   ]
  },
  {
   "cell_type": "code",
   "execution_count": null,
   "id": "d86d391b",
   "metadata": {
    "execution": {
     "iopub.execute_input": "2022-02-09T05:32:08.204678Z",
     "iopub.status.busy": "2022-02-09T05:32:08.204115Z",
     "iopub.status.idle": "2022-02-09T05:32:08.262253Z",
     "shell.execute_reply": "2022-02-09T05:32:08.261490Z"
    }
   },
   "outputs": [],
   "source": [
    "te = joinpath(tempdir(), \"move\")\n",
    "\n",
    "di1 = mkpath(joinpath(te, \"di1\"))\n",
    "\n",
    "di2 = mkpath(joinpath(te, \"di2\"))\n",
    "\n",
    "di3 = mkpath(joinpath(te, \"di3\"))\n",
    "\n",
    "fi1 = joinpath(di1, \"fi1\")\n",
    "\n",
    "fi2 = joinpath(di2, \"fi2\")\n",
    "\n",
    "touch(fi1)\n",
    "\n",
    "touch(fi2)\n",
    "\n",
    "run(`tree $te`)\n",
    "\n",
    ";"
   ]
  },
  {
   "cell_type": "code",
   "execution_count": null,
   "id": "caf10005",
   "metadata": {
    "execution": {
     "iopub.execute_input": "2022-02-09T05:32:08.264808Z",
     "iopub.status.busy": "2022-02-09T05:32:08.264128Z",
     "iopub.status.idle": "2022-02-09T05:32:08.517686Z",
     "shell.execute_reply": "2022-02-09T05:32:08.518117Z"
    }
   },
   "outputs": [],
   "source": [
    "fi12 = replace(fi1, \"di1\" => \"di3\")\n",
    "\n",
    "println(OnePiece.extension.path.move(fi1, fi12))\n",
    "\n",
    "run(`tree $te`)\n",
    "\n",
    ";"
   ]
  },
  {
   "cell_type": "code",
   "execution_count": null,
   "id": "37ab766d",
   "metadata": {
    "execution": {
     "iopub.execute_input": "2022-02-09T05:32:08.520627Z",
     "iopub.status.busy": "2022-02-09T05:32:08.519877Z",
     "iopub.status.idle": "2022-02-09T05:32:08.828694Z",
     "shell.execute_reply": "2022-02-09T05:32:08.828229Z"
    }
   },
   "outputs": [],
   "source": [
    "try\n",
    "\n",
    "    OnePiece.extension.path.move(di2, di3)\n",
    "\n",
    "catch er\n",
    "\n",
    "    er\n",
    "\n",
    "end"
   ]
  },
  {
   "cell_type": "code",
   "execution_count": null,
   "id": "a2b758c5",
   "metadata": {
    "execution": {
     "iopub.execute_input": "2022-02-09T05:32:08.830617Z",
     "iopub.status.busy": "2022-02-09T05:32:08.830039Z",
     "iopub.status.idle": "2022-02-09T05:32:08.870103Z",
     "shell.execute_reply": "2022-02-09T05:32:08.870537Z"
    }
   },
   "outputs": [],
   "source": [
    "println(OnePiece.extension.path.move(di2, di3; fo = true))\n",
    "\n",
    "run(`tree $te`)\n",
    "\n",
    ";"
   ]
  },
  {
   "cell_type": "markdown",
   "id": "864df5b3",
   "metadata": {},
   "source": [
    "## sed_recursively"
   ]
  },
  {
   "cell_type": "code",
   "execution_count": null,
   "id": "afc362c3",
   "metadata": {
    "execution": {
     "iopub.execute_input": "2022-02-09T05:32:08.873447Z",
     "iopub.status.busy": "2022-02-09T05:32:08.872787Z",
     "iopub.status.idle": "2022-02-09T05:32:08.915556Z",
     "shell.execute_reply": "2022-02-09T05:32:08.915082Z"
    }
   },
   "outputs": [],
   "source": [
    "fi1 = joinpath(te, \"fi1\")\n",
    "\n",
    "fi2 = joinpath(te, \"fi2\")\n",
    "\n",
    "open(fi1, \"w\") do io\n",
    "\n",
    "    write(io, \"Before\")\n",
    "\n",
    "end\n",
    "\n",
    "open(fi2, \"w\") do io\n",
    "\n",
    "    write(io, \"BeforeBefore\")\n",
    "\n",
    "end\n",
    "\n",
    "println(readline(open(fi1)))\n",
    "\n",
    "println(readline(open(fi2)))\n",
    "\n",
    ";"
   ]
  },
  {
   "cell_type": "code",
   "execution_count": null,
   "id": "4098503b",
   "metadata": {
    "execution": {
     "iopub.execute_input": "2022-02-09T05:32:08.917512Z",
     "iopub.status.busy": "2022-02-09T05:32:08.916869Z",
     "iopub.status.idle": "2022-02-09T05:32:09.163164Z",
     "shell.execute_reply": "2022-02-09T05:32:09.162707Z"
    }
   },
   "outputs": [],
   "source": [
    "OnePiece.extension.path.sed_recursively(te, [\"Before\" => \"After\"])\n",
    "\n",
    "println(readline(open(fi1)))\n",
    "\n",
    "println(readline(open(fi2)))"
   ]
  }
 ],
 "metadata": {
  "@webio": {
   "lastCommId": null,
   "lastKernelId": null
  },
  "kernelspec": {
   "display_name": "Julia 1.7.1",
   "language": "julia",
   "name": "julia-1.7"
  },
  "language_info": {
   "file_extension": ".jl",
   "mimetype": "application/julia",
   "name": "julia",
   "version": "1.7.2"
  }
 },
 "nbformat": 4,
 "nbformat_minor": 5
}
