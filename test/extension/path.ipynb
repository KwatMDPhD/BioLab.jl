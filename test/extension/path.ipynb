{
 "cells": [
  {
   "cell_type": "code",
   "execution_count": null,
   "id": "017464da",
   "metadata": {
    "execution": {
     "iopub.execute_input": "2022-02-14T16:12:32.398432Z",
     "iopub.status.busy": "2022-02-14T16:12:32.012035Z",
     "iopub.status.idle": "2022-02-14T16:12:32.599274Z",
     "shell.execute_reply": "2022-02-14T16:12:32.598586Z"
    }
   },
   "outputs": [],
   "source": [
    "TE = joinpath(tempdir(), \"OnePiece.test\")\n",
    "\n",
    "if isdir(TE)\n",
    "\n",
    "    rm(TE, recursive = true)\n",
    "\n",
    "    println(\"Removed \", TE, \".\")\n",
    "\n",
    "end\n",
    "\n",
    "mkdir(TE)\n",
    "\n",
    "println(\"Made \", TE, \".\")"
   ]
  },
  {
   "cell_type": "code",
   "execution_count": null,
   "id": "34e4701e",
   "metadata": {
    "execution": {
     "iopub.execute_input": "2022-02-14T16:12:32.601647Z",
     "iopub.status.busy": "2022-02-14T16:12:32.600711Z",
     "iopub.status.idle": "2022-02-14T16:12:37.227873Z",
     "shell.execute_reply": "2022-02-14T16:12:37.227341Z"
    }
   },
   "outputs": [],
   "source": [
    "using OnePiece"
   ]
  },
  {
   "cell_type": "markdown",
   "id": "b92a3da9",
   "metadata": {},
   "source": [
    "---"
   ]
  },
  {
   "cell_type": "markdown",
   "id": "174f3b9b",
   "metadata": {
    "execution": {
     "iopub.execute_input": "2021-10-14T18:25:54.055222Z",
     "iopub.status.busy": "2021-10-14T18:25:53.342490Z",
     "iopub.status.idle": "2021-10-14T18:26:10.352867Z",
     "shell.execute_reply": "2021-10-14T18:26:10.352370Z"
    }
   },
   "source": [
    "## shorten"
   ]
  },
  {
   "cell_type": "code",
   "execution_count": null,
   "id": "685c8b90",
   "metadata": {
    "execution": {
     "iopub.execute_input": "2022-02-14T16:12:37.632450Z",
     "iopub.status.busy": "2022-02-14T16:12:37.229291Z",
     "iopub.status.idle": "2022-02-14T16:12:38.421937Z",
     "shell.execute_reply": "2022-02-14T16:12:38.421198Z"
    }
   },
   "outputs": [],
   "source": [
    "pa = pwd()"
   ]
  },
  {
   "cell_type": "code",
   "execution_count": null,
   "id": "e40c9529",
   "metadata": {
    "execution": {
     "iopub.execute_input": "2022-02-14T16:12:38.424358Z",
     "iopub.status.busy": "2022-02-14T16:12:38.423650Z",
     "iopub.status.idle": "2022-02-14T16:12:39.039273Z",
     "shell.execute_reply": "2022-02-14T16:12:39.038806Z"
    }
   },
   "outputs": [],
   "source": [
    "try\n",
    "\n",
    "    OnePiece.extension.path.shorten(pa, \"Shanks\")\n",
    "\n",
    "catch er\n",
    "\n",
    "    er\n",
    "\n",
    "end"
   ]
  },
  {
   "cell_type": "code",
   "execution_count": null,
   "id": "f8f20090",
   "metadata": {
    "execution": {
     "iopub.execute_input": "2022-02-14T16:12:39.041193Z",
     "iopub.status.busy": "2022-02-14T16:12:39.040591Z",
     "iopub.status.idle": "2022-02-14T16:12:39.068272Z",
     "shell.execute_reply": "2022-02-14T16:12:39.067619Z"
    }
   },
   "outputs": [],
   "source": [
    "for n_ba in [2, 1]\n",
    "\n",
    "    println(OnePiece.extension.path.shorten(pa, n_ba))\n",
    "\n",
    "end"
   ]
  },
  {
   "cell_type": "code",
   "execution_count": null,
   "id": "9881c454",
   "metadata": {
    "execution": {
     "iopub.execute_input": "2022-02-14T16:12:39.071173Z",
     "iopub.status.busy": "2022-02-14T16:12:39.070140Z",
     "iopub.status.idle": "2022-02-14T16:12:39.083972Z",
     "shell.execute_reply": "2022-02-14T16:12:39.083540Z"
    }
   },
   "outputs": [],
   "source": [
    "for di in [\"OnePiece.jl\", \"test\", \"OnePiece.jl/test\", \"extension\"]\n",
    "\n",
    "    println(OnePiece.extension.path.shorten(pa, di))\n",
    "\n",
    "end"
   ]
  },
  {
   "cell_type": "markdown",
   "id": "4f0f34f4",
   "metadata": {
    "execution": {
     "iopub.execute_input": "2021-10-14T18:25:54.055222Z",
     "iopub.status.busy": "2021-10-14T18:25:53.342490Z",
     "iopub.status.idle": "2021-10-14T18:26:10.352867Z",
     "shell.execute_reply": "2021-10-14T18:26:10.352370Z"
    }
   },
   "source": [
    "## clean"
   ]
  },
  {
   "cell_type": "code",
   "execution_count": null,
   "id": "9c1753ae",
   "metadata": {
    "execution": {
     "iopub.execute_input": "2022-02-14T16:12:39.086379Z",
     "iopub.status.busy": "2022-02-14T16:12:39.085553Z",
     "iopub.status.idle": "2022-02-14T16:12:39.093177Z",
     "shell.execute_reply": "2022-02-14T16:12:39.092718Z"
    }
   },
   "outputs": [],
   "source": [
    "OnePiece.extension.path.clean(\"a_b.c-d+e!f%g%h]iJK\")"
   ]
  },
  {
   "cell_type": "markdown",
   "id": "bcf7707b",
   "metadata": {
    "execution": {
     "iopub.execute_input": "2021-10-14T18:25:54.055222Z",
     "iopub.status.busy": "2021-10-14T18:25:53.342490Z",
     "iopub.status.idle": "2021-10-14T18:26:10.352867Z",
     "shell.execute_reply": "2021-10-14T18:26:10.352370Z"
    }
   },
   "source": [
    "## make_absolute"
   ]
  },
  {
   "cell_type": "code",
   "execution_count": null,
   "id": "b861b0f9",
   "metadata": {
    "execution": {
     "iopub.execute_input": "2022-02-14T16:12:39.095211Z",
     "iopub.status.busy": "2022-02-14T16:12:39.094574Z",
     "iopub.status.idle": "2022-02-14T16:12:39.110243Z",
     "shell.execute_reply": "2022-02-14T16:12:39.109754Z"
    }
   },
   "outputs": [],
   "source": [
    "for pa in [\"~/file\", \"~/directory/\"]\n",
    "\n",
    "    println(OnePiece.extension.path.make_absolute(pa))\n",
    "\n",
    "end"
   ]
  },
  {
   "cell_type": "markdown",
   "id": "53c74cab",
   "metadata": {},
   "source": [
    "## remove_extension"
   ]
  },
  {
   "cell_type": "code",
   "execution_count": null,
   "id": "f701b595",
   "metadata": {
    "execution": {
     "iopub.execute_input": "2022-02-14T16:12:39.112245Z",
     "iopub.status.busy": "2022-02-14T16:12:39.111669Z",
     "iopub.status.idle": "2022-02-14T16:12:39.116853Z",
     "shell.execute_reply": "2022-02-14T16:12:39.116357Z"
    }
   },
   "outputs": [],
   "source": [
    "OnePiece.extension.path.remove_extension(\"/path/to/a/file.extension\")"
   ]
  },
  {
   "cell_type": "code",
   "execution_count": null,
   "id": "ec900856",
   "metadata": {
    "execution": {
     "iopub.execute_input": "2022-02-14T16:12:39.119543Z",
     "iopub.status.busy": "2022-02-14T16:12:39.118606Z",
     "iopub.status.idle": "2022-02-14T16:12:39.121511Z",
     "shell.execute_reply": "2022-02-14T16:12:39.120137Z"
    }
   },
   "outputs": [],
   "source": [
    "OnePiece.extension.path.remove_extension(\"/path/to/a/file\")"
   ]
  },
  {
   "cell_type": "code",
   "execution_count": null,
   "id": "9dc8a8bd",
   "metadata": {
    "execution": {
     "iopub.execute_input": "2022-02-14T16:12:39.123728Z",
     "iopub.status.busy": "2022-02-14T16:12:39.123004Z",
     "iopub.status.idle": "2022-02-14T16:12:39.125765Z",
     "shell.execute_reply": "2022-02-14T16:12:39.125201Z"
    }
   },
   "outputs": [],
   "source": [
    "OnePiece.extension.path.remove_extension(\"/path/to/a/directory/\")"
   ]
  },
  {
   "cell_type": "markdown",
   "id": "7670ee74",
   "metadata": {
    "execution": {
     "iopub.execute_input": "2021-10-14T18:25:54.055222Z",
     "iopub.status.busy": "2021-10-14T18:25:53.342490Z",
     "iopub.status.idle": "2021-10-14T18:26:10.352867Z",
     "shell.execute_reply": "2021-10-14T18:26:10.352370Z"
    }
   },
   "source": [
    "## select"
   ]
  },
  {
   "cell_type": "code",
   "execution_count": null,
   "id": "9304e507",
   "metadata": {
    "execution": {
     "iopub.execute_input": "2022-02-14T16:12:39.127925Z",
     "iopub.status.busy": "2022-02-14T16:12:39.127184Z",
     "iopub.status.idle": "2022-02-14T16:12:39.129001Z",
     "shell.execute_reply": "2022-02-14T16:12:39.128470Z"
    }
   },
   "outputs": [],
   "source": [
    "di = homedir()\n",
    "\n",
    ";"
   ]
  },
  {
   "cell_type": "code",
   "execution_count": null,
   "id": "402bdee9",
   "metadata": {
    "execution": {
     "iopub.execute_input": "2022-02-14T16:12:39.130904Z",
     "iopub.status.busy": "2022-02-14T16:12:39.130304Z",
     "iopub.status.idle": "2022-02-14T16:12:40.044522Z",
     "shell.execute_reply": "2022-02-14T16:12:40.044079Z"
    }
   },
   "outputs": [],
   "source": [
    "OnePiece.extension.path.select(di)"
   ]
  },
  {
   "cell_type": "code",
   "execution_count": null,
   "id": "fcb166f2",
   "metadata": {
    "execution": {
     "iopub.execute_input": "2022-02-14T16:12:40.046355Z",
     "iopub.status.busy": "2022-02-14T16:12:40.045786Z",
     "iopub.status.idle": "2022-02-14T16:12:40.097342Z",
     "shell.execute_reply": "2022-02-14T16:12:40.096897Z"
    }
   },
   "outputs": [],
   "source": [
    "OnePiece.extension.path.select(di; ig_ = [], ke_ = [r\"^\\.\"], jo = false)"
   ]
  },
  {
   "cell_type": "markdown",
   "id": "d8111d32",
   "metadata": {},
   "source": [
    "## error_missing_path"
   ]
  },
  {
   "cell_type": "code",
   "execution_count": null,
   "id": "aeefbc77",
   "metadata": {
    "execution": {
     "iopub.execute_input": "2022-02-14T16:12:40.099504Z",
     "iopub.status.busy": "2022-02-14T16:12:40.098755Z",
     "iopub.status.idle": "2022-02-14T16:12:40.101175Z",
     "shell.execute_reply": "2022-02-14T16:12:40.100022Z"
    }
   },
   "outputs": [],
   "source": [
    "go = \"extension/path.ipynb\""
   ]
  },
  {
   "cell_type": "code",
   "execution_count": null,
   "id": "1cf0d05a",
   "metadata": {
    "execution": {
     "iopub.execute_input": "2022-02-14T16:12:40.103188Z",
     "iopub.status.busy": "2022-02-14T16:12:40.102513Z",
     "iopub.status.idle": "2022-02-14T16:12:40.119937Z",
     "shell.execute_reply": "2022-02-14T16:12:40.119436Z"
    }
   },
   "outputs": [],
   "source": [
    "OnePiece.extension.path.error_missing_path(dirname(@__DIR__), [go])"
   ]
  },
  {
   "cell_type": "code",
   "execution_count": null,
   "id": "fb80aeb5",
   "metadata": {
    "execution": {
     "iopub.execute_input": "2022-02-14T16:12:40.121842Z",
     "iopub.status.busy": "2022-02-14T16:12:40.121267Z",
     "iopub.status.idle": "2022-02-14T16:12:40.150760Z",
     "shell.execute_reply": "2022-02-14T16:12:40.150311Z"
    }
   },
   "outputs": [],
   "source": [
    "try\n",
    "\n",
    "    OnePiece.extension.path.error_missing_path(\n",
    "        dirname(@__DIR__),\n",
    "        [go, \"missing/file\", \"missing/directory/\"],\n",
    "    )\n",
    "\n",
    "catch er\n",
    "\n",
    "    er\n",
    "\n",
    "end"
   ]
  },
  {
   "cell_type": "markdown",
   "id": "d120dae4",
   "metadata": {},
   "source": [
    "## error_extension"
   ]
  },
  {
   "cell_type": "code",
   "execution_count": null,
   "id": "5551c780",
   "metadata": {
    "execution": {
     "iopub.execute_input": "2022-02-14T16:12:40.152878Z",
     "iopub.status.busy": "2022-02-14T16:12:40.152305Z",
     "iopub.status.idle": "2022-02-14T16:12:40.156976Z",
     "shell.execute_reply": "2022-02-14T16:12:40.156408Z"
    }
   },
   "outputs": [],
   "source": [
    "OnePiece.extension.path.error_extension(\"file.extension\", \".extension\")"
   ]
  },
  {
   "cell_type": "code",
   "execution_count": null,
   "id": "9b7bcf9e",
   "metadata": {
    "execution": {
     "iopub.execute_input": "2022-02-14T16:12:40.158852Z",
     "iopub.status.busy": "2022-02-14T16:12:40.158270Z",
     "iopub.status.idle": "2022-02-14T16:12:41.070308Z",
     "shell.execute_reply": "2022-02-14T16:12:41.069764Z"
    }
   },
   "outputs": [],
   "source": [
    "for ex in [\"extension\", \".another_extension\"]\n",
    "\n",
    "    try\n",
    "\n",
    "        OnePiece.extension.path.error_extension(\"file.extension\", ex)\n",
    "\n",
    "    catch er\n",
    "\n",
    "        println(er)\n",
    "\n",
    "    end\n",
    "\n",
    "end"
   ]
  },
  {
   "cell_type": "markdown",
   "id": "0ccb2bfe",
   "metadata": {
    "execution": {
     "iopub.execute_input": "2021-10-14T18:25:54.055222Z",
     "iopub.status.busy": "2021-10-14T18:25:53.342490Z",
     "iopub.status.idle": "2021-10-14T18:26:10.352867Z",
     "shell.execute_reply": "2021-10-14T18:26:10.352370Z"
    }
   },
   "source": [
    "## move"
   ]
  },
  {
   "cell_type": "code",
   "execution_count": null,
   "id": "d86d391b",
   "metadata": {
    "execution": {
     "iopub.execute_input": "2022-02-14T16:12:41.073001Z",
     "iopub.status.busy": "2022-02-14T16:12:41.072469Z",
     "iopub.status.idle": "2022-02-14T16:12:41.105293Z",
     "shell.execute_reply": "2022-02-14T16:12:41.103654Z"
    }
   },
   "outputs": [],
   "source": [
    "te = joinpath(tempdir(), \"move\")\n",
    "\n",
    "di1 = mkpath(joinpath(te, \"di1\"))\n",
    "\n",
    "di2 = mkpath(joinpath(te, \"di2\"))\n",
    "\n",
    "di3 = mkpath(joinpath(te, \"di3\"))\n",
    "\n",
    "fi1 = joinpath(di1, \"fi1\")\n",
    "\n",
    "fi2 = joinpath(di2, \"fi2\")\n",
    "\n",
    "touch(fi1)\n",
    "\n",
    "touch(fi2)\n",
    "\n",
    "run(`tree $te`)\n",
    "\n",
    ";"
   ]
  },
  {
   "cell_type": "code",
   "execution_count": null,
   "id": "caf10005",
   "metadata": {
    "execution": {
     "iopub.execute_input": "2022-02-14T16:12:41.107113Z",
     "iopub.status.busy": "2022-02-14T16:12:41.106570Z",
     "iopub.status.idle": "2022-02-14T16:12:41.311241Z",
     "shell.execute_reply": "2022-02-14T16:12:41.311642Z"
    }
   },
   "outputs": [],
   "source": [
    "fi12 = replace(fi1, \"di1\" => \"di3\")\n",
    "\n",
    "println(OnePiece.extension.path.move(fi1, fi12))\n",
    "\n",
    "run(`tree $te`)\n",
    "\n",
    ";"
   ]
  },
  {
   "cell_type": "code",
   "execution_count": null,
   "id": "37ab766d",
   "metadata": {
    "execution": {
     "iopub.execute_input": "2022-02-14T16:12:41.313436Z",
     "iopub.status.busy": "2022-02-14T16:12:41.312866Z",
     "iopub.status.idle": "2022-02-14T16:12:41.583996Z",
     "shell.execute_reply": "2022-02-14T16:12:41.583602Z"
    }
   },
   "outputs": [],
   "source": [
    "try\n",
    "\n",
    "    OnePiece.extension.path.move(di2, di3)\n",
    "\n",
    "catch er\n",
    "\n",
    "    er\n",
    "\n",
    "end"
   ]
  },
  {
   "cell_type": "code",
   "execution_count": null,
   "id": "a2b758c5",
   "metadata": {
    "execution": {
     "iopub.execute_input": "2022-02-14T16:12:41.587250Z",
     "iopub.status.busy": "2022-02-14T16:12:41.585981Z",
     "iopub.status.idle": "2022-02-14T16:12:41.615617Z",
     "shell.execute_reply": "2022-02-14T16:12:41.615175Z"
    }
   },
   "outputs": [],
   "source": [
    "println(OnePiece.extension.path.move(di2, di3; fo = true))\n",
    "\n",
    "run(`tree $te`)\n",
    "\n",
    ";"
   ]
  },
  {
   "cell_type": "markdown",
   "id": "864df5b3",
   "metadata": {},
   "source": [
    "## sed_recursively"
   ]
  },
  {
   "cell_type": "code",
   "execution_count": null,
   "id": "afc362c3",
   "metadata": {
    "execution": {
     "iopub.execute_input": "2022-02-14T16:12:41.617644Z",
     "iopub.status.busy": "2022-02-14T16:12:41.617051Z",
     "iopub.status.idle": "2022-02-14T16:12:41.646053Z",
     "shell.execute_reply": "2022-02-14T16:12:41.645647Z"
    }
   },
   "outputs": [],
   "source": [
    "fi1 = joinpath(te, \"fi1\")\n",
    "\n",
    "fi2 = joinpath(te, \"fi2\")\n",
    "\n",
    "open(fi1, \"w\") do io\n",
    "\n",
    "    write(io, \"Before\")\n",
    "\n",
    "end\n",
    "\n",
    "open(fi2, \"w\") do io\n",
    "\n",
    "    write(io, \"BeforeBefore\")\n",
    "\n",
    "end\n",
    "\n",
    "println(readline(open(fi1)))\n",
    "\n",
    "println(readline(open(fi2)))\n",
    "\n",
    ";"
   ]
  },
  {
   "cell_type": "code",
   "execution_count": null,
   "id": "4098503b",
   "metadata": {
    "execution": {
     "iopub.execute_input": "2022-02-14T16:12:41.647832Z",
     "iopub.status.busy": "2022-02-14T16:12:41.647318Z",
     "iopub.status.idle": "2022-02-14T16:12:41.862051Z",
     "shell.execute_reply": "2022-02-14T16:12:41.860878Z"
    }
   },
   "outputs": [],
   "source": [
    "OnePiece.extension.path.sed_recursively(te, [\"Before\" => \"After\"])\n",
    "\n",
    "println(readline(open(fi1)))\n",
    "\n",
    "println(readline(open(fi2)))"
   ]
  },
  {
   "cell_type": "markdown",
   "id": "3f396855",
   "metadata": {},
   "source": [
    "---"
   ]
  },
  {
   "cell_type": "code",
   "execution_count": null,
   "id": "b4af2023",
   "metadata": {
    "execution": {
     "iopub.execute_input": "2022-02-14T16:12:41.864022Z",
     "iopub.status.busy": "2022-02-14T16:12:41.863434Z",
     "iopub.status.idle": "2022-02-14T16:12:41.865897Z",
     "shell.execute_reply": "2022-02-14T16:12:41.865450Z"
    }
   },
   "outputs": [],
   "source": [
    "if isdir(TE)\n",
    "\n",
    "    rm(TE, recursive = true)\n",
    "\n",
    "    println(\"Removed \", TE, \".\")\n",
    "\n",
    "end"
   ]
  }
 ],
 "metadata": {
  "kernelspec": {
   "display_name": "Julia 1.7.2",
   "language": "julia",
   "name": "julia-1.7"
  },
  "language_info": {
   "file_extension": ".jl",
   "mimetype": "application/julia",
   "name": "julia",
   "version": "1.7.2"
  }
 },
 "nbformat": 4,
 "nbformat_minor": 5
}
