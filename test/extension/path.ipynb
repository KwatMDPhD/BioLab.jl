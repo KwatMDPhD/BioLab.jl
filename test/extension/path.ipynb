{
 "cells": [
  {
   "cell_type": "code",
   "execution_count": 1,
   "id": "34e4701e",
   "metadata": {
    "execution": {
     "iopub.execute_input": "2022-02-10T17:16:58.294911Z",
     "iopub.status.busy": "2022-02-10T17:16:57.847738Z",
     "iopub.status.idle": "2022-02-10T17:16:59.132914Z",
     "shell.execute_reply": "2022-02-10T17:16:59.132320Z"
    }
   },
   "outputs": [],
   "source": [
    "using Revise\n",
    "using BenchmarkTools"
   ]
  },
  {
   "cell_type": "code",
   "execution_count": 2,
   "id": "871c335e",
   "metadata": {
    "execution": {
     "iopub.execute_input": "2022-02-10T17:16:59.134997Z",
     "iopub.status.busy": "2022-02-10T17:16:59.134384Z",
     "iopub.status.idle": "2022-02-10T17:17:04.522546Z",
     "shell.execute_reply": "2022-02-10T17:17:04.522042Z"
    }
   },
   "outputs": [],
   "source": [
    "using OnePiece"
   ]
  },
  {
   "cell_type": "markdown",
   "id": "174f3b9b",
   "metadata": {
    "execution": {
     "iopub.execute_input": "2021-10-14T18:25:54.055222Z",
     "iopub.status.busy": "2021-10-14T18:25:53.342490Z",
     "iopub.status.idle": "2021-10-14T18:26:10.352867Z",
     "shell.execute_reply": "2021-10-14T18:26:10.352370Z"
    }
   },
   "source": [
    "## shorten"
   ]
  },
  {
   "cell_type": "code",
   "execution_count": 3,
   "id": "685c8b90",
   "metadata": {
    "execution": {
     "iopub.execute_input": "2022-02-10T17:17:04.854418Z",
     "iopub.status.busy": "2022-02-10T17:17:04.523950Z",
     "iopub.status.idle": "2022-02-10T17:17:06.480703Z",
     "shell.execute_reply": "2022-02-10T17:17:06.480268Z"
    }
   },
   "outputs": [
    {
     "data": {
      "text/plain": [
       "\"/Users/kwat/craft/OnePiece.jl/test/extension\""
      ]
     },
     "execution_count": 3,
     "metadata": {},
     "output_type": "execute_result"
    }
   ],
   "source": [
    "pa = pwd()"
   ]
  },
  {
   "cell_type": "code",
   "execution_count": 4,
   "id": "e40c9529",
   "metadata": {
    "execution": {
     "iopub.execute_input": "2022-02-10T17:17:06.482764Z",
     "iopub.status.busy": "2022-02-10T17:17:06.482177Z",
     "iopub.status.idle": "2022-02-10T17:17:07.126658Z",
     "shell.execute_reply": "2022-02-10T17:17:07.126158Z"
    }
   },
   "outputs": [
    {
     "data": {
      "text/plain": [
       "ErrorException(\"Shanks is not part of /Users/kwat/craft/OnePiece.jl/test/extension\")"
      ]
     },
     "execution_count": 4,
     "metadata": {},
     "output_type": "execute_result"
    }
   ],
   "source": [
    "try\n",
    "\n",
    "    OnePiece.extension.path.shorten(pa, \"Shanks\")\n",
    "\n",
    "catch er\n",
    "\n",
    "    er\n",
    "\n",
    "end"
   ]
  },
  {
   "cell_type": "code",
   "execution_count": 5,
   "id": "f8f20090",
   "metadata": {
    "execution": {
     "iopub.execute_input": "2022-02-10T17:17:07.128624Z",
     "iopub.status.busy": "2022-02-10T17:17:07.128085Z",
     "iopub.status.idle": "2022-02-10T17:17:07.172543Z",
     "shell.execute_reply": "2022-02-10T17:17:07.172022Z"
    }
   },
   "outputs": [
    {
     "name": "stdout",
     "output_type": "stream",
     "text": [
      "OnePiece.jl/test/extension\n",
      "test/extension\n"
     ]
    }
   ],
   "source": [
    "for n_ba in [2, 1]\n",
    "\n",
    "    println(OnePiece.extension.path.shorten(pa, n_ba))\n",
    "\n",
    "end"
   ]
  },
  {
   "cell_type": "code",
   "execution_count": 6,
   "id": "9881c454",
   "metadata": {
    "execution": {
     "iopub.execute_input": "2022-02-10T17:17:07.174883Z",
     "iopub.status.busy": "2022-02-10T17:17:07.174327Z",
     "iopub.status.idle": "2022-02-10T17:17:07.197395Z",
     "shell.execute_reply": "2022-02-10T17:17:07.197040Z"
    }
   },
   "outputs": [
    {
     "name": "stdout",
     "output_type": "stream",
     "text": [
      "OnePiece.jl/test/extension\n",
      "test/extension\n",
      "test/extension\n",
      "extension\n"
     ]
    }
   ],
   "source": [
    "for di in [\"OnePiece.jl\", \"test\", \"OnePiece.jl/test\", \"extension\"]\n",
    "\n",
    "    println(OnePiece.extension.path.shorten(pa, di))\n",
    "\n",
    "end"
   ]
  },
  {
   "cell_type": "markdown",
   "id": "4f0f34f4",
   "metadata": {
    "execution": {
     "iopub.execute_input": "2021-10-14T18:25:54.055222Z",
     "iopub.status.busy": "2021-10-14T18:25:53.342490Z",
     "iopub.status.idle": "2021-10-14T18:26:10.352867Z",
     "shell.execute_reply": "2021-10-14T18:26:10.352370Z"
    }
   },
   "source": [
    "## clean"
   ]
  },
  {
   "cell_type": "code",
   "execution_count": 7,
   "id": "9c1753ae",
   "metadata": {
    "execution": {
     "iopub.execute_input": "2022-02-10T17:17:07.199449Z",
     "iopub.status.busy": "2022-02-10T17:17:07.198948Z",
     "iopub.status.idle": "2022-02-10T17:17:07.238449Z",
     "shell.execute_reply": "2022-02-10T17:17:07.238059Z"
    }
   },
   "outputs": [
    {
     "name": "stdout",
     "output_type": "stream",
     "text": [
      "a_b.c-d+e!f%g%h]iJK ==> a_b.c_d_e_f_g_h_ijk\n"
     ]
    },
    {
     "data": {
      "text/plain": [
       "\"a_b.c_d_e_f_g_h_ijk\""
      ]
     },
     "execution_count": 7,
     "metadata": {},
     "output_type": "execute_result"
    }
   ],
   "source": [
    "OnePiece.extension.path.clean(\"a_b.c-d+e!f%g%h]iJK\")"
   ]
  },
  {
   "cell_type": "markdown",
   "id": "bcf7707b",
   "metadata": {
    "execution": {
     "iopub.execute_input": "2021-10-14T18:25:54.055222Z",
     "iopub.status.busy": "2021-10-14T18:25:53.342490Z",
     "iopub.status.idle": "2021-10-14T18:26:10.352867Z",
     "shell.execute_reply": "2021-10-14T18:26:10.352370Z"
    }
   },
   "source": [
    "## make_absolute"
   ]
  },
  {
   "cell_type": "code",
   "execution_count": 8,
   "id": "b861b0f9",
   "metadata": {
    "execution": {
     "iopub.execute_input": "2022-02-10T17:17:07.240733Z",
     "iopub.status.busy": "2022-02-10T17:17:07.240165Z",
     "iopub.status.idle": "2022-02-10T17:17:07.265534Z",
     "shell.execute_reply": "2022-02-10T17:17:07.265103Z"
    }
   },
   "outputs": [
    {
     "name": "stdout",
     "output_type": "stream",
     "text": [
      "/Users/kwat/file\n",
      "/Users/kwat/directory\n"
     ]
    }
   ],
   "source": [
    "for pa in [\"~/file\", \"~/directory/\"]\n",
    "\n",
    "    println(OnePiece.extension.path.make_absolute(pa))\n",
    "\n",
    "end"
   ]
  },
  {
   "cell_type": "markdown",
   "id": "53c74cab",
   "metadata": {},
   "source": [
    "## remove_extension"
   ]
  },
  {
   "cell_type": "code",
   "execution_count": 9,
   "id": "f701b595",
   "metadata": {
    "execution": {
     "iopub.execute_input": "2022-02-10T17:17:07.267500Z",
     "iopub.status.busy": "2022-02-10T17:17:07.266949Z",
     "iopub.status.idle": "2022-02-10T17:17:07.282671Z",
     "shell.execute_reply": "2022-02-10T17:17:07.282220Z"
    }
   },
   "outputs": [
    {
     "data": {
      "text/plain": [
       "\"file\""
      ]
     },
     "execution_count": 9,
     "metadata": {},
     "output_type": "execute_result"
    }
   ],
   "source": [
    "OnePiece.extension.path.remove_extension(\"/path/to/a/file.extension\")"
   ]
  },
  {
   "cell_type": "code",
   "execution_count": 10,
   "id": "ec900856",
   "metadata": {
    "execution": {
     "iopub.execute_input": "2022-02-10T17:17:07.284446Z",
     "iopub.status.busy": "2022-02-10T17:17:07.283948Z",
     "iopub.status.idle": "2022-02-10T17:17:07.297085Z",
     "shell.execute_reply": "2022-02-10T17:17:07.296706Z"
    }
   },
   "outputs": [
    {
     "data": {
      "text/plain": [
       "\"file\""
      ]
     },
     "execution_count": 10,
     "metadata": {},
     "output_type": "execute_result"
    }
   ],
   "source": [
    "OnePiece.extension.path.remove_extension(\"/path/to/a/file\")"
   ]
  },
  {
   "cell_type": "code",
   "execution_count": 11,
   "id": "9dc8a8bd",
   "metadata": {
    "execution": {
     "iopub.execute_input": "2022-02-10T17:17:07.298950Z",
     "iopub.status.busy": "2022-02-10T17:17:07.298404Z",
     "iopub.status.idle": "2022-02-10T17:17:07.311882Z",
     "shell.execute_reply": "2022-02-10T17:17:07.311456Z"
    }
   },
   "outputs": [
    {
     "data": {
      "text/plain": [
       "\"\""
      ]
     },
     "execution_count": 11,
     "metadata": {},
     "output_type": "execute_result"
    }
   ],
   "source": [
    "OnePiece.extension.path.remove_extension(\"/path/to/a/directory/\")"
   ]
  },
  {
   "cell_type": "markdown",
   "id": "7670ee74",
   "metadata": {
    "execution": {
     "iopub.execute_input": "2021-10-14T18:25:54.055222Z",
     "iopub.status.busy": "2021-10-14T18:25:53.342490Z",
     "iopub.status.idle": "2021-10-14T18:26:10.352867Z",
     "shell.execute_reply": "2021-10-14T18:26:10.352370Z"
    }
   },
   "source": [
    "## select"
   ]
  },
  {
   "cell_type": "code",
   "execution_count": 12,
   "id": "9304e507",
   "metadata": {
    "execution": {
     "iopub.execute_input": "2022-02-10T17:17:07.313892Z",
     "iopub.status.busy": "2022-02-10T17:17:07.313243Z",
     "iopub.status.idle": "2022-02-10T17:17:07.326180Z",
     "shell.execute_reply": "2022-02-10T17:17:07.325681Z"
    }
   },
   "outputs": [],
   "source": [
    "di = homedir()\n",
    "\n",
    ";"
   ]
  },
  {
   "cell_type": "code",
   "execution_count": 13,
   "id": "402bdee9",
   "metadata": {
    "execution": {
     "iopub.execute_input": "2022-02-10T17:17:07.327999Z",
     "iopub.status.busy": "2022-02-10T17:17:07.327428Z",
     "iopub.status.idle": "2022-02-10T17:17:08.140368Z",
     "shell.execute_reply": "2022-02-10T17:17:08.139975Z"
    }
   },
   "outputs": [
    {
     "data": {
      "text/plain": [
       "9-element Vector{AbstractString}:\n",
       " \"/Users/kwat/Desktop\"\n",
       " \"/Users/kwat/Documents\"\n",
       " \"/Users/kwat/Downloads\"\n",
       " \"/Users/kwat/Library\"\n",
       " \"/Users/kwat/Movies\"\n",
       " \"/Users/kwat/Music\"\n",
       " \"/Users/kwat/Pictures\"\n",
       " \"/Users/kwat/Public\"\n",
       " \"/Users/kwat/craft\""
      ]
     },
     "execution_count": 13,
     "metadata": {},
     "output_type": "execute_result"
    }
   ],
   "source": [
    "OnePiece.extension.path.select(di)"
   ]
  },
  {
   "cell_type": "code",
   "execution_count": 14,
   "id": "fcb166f2",
   "metadata": {
    "execution": {
     "iopub.execute_input": "2022-02-10T17:17:08.142756Z",
     "iopub.status.busy": "2022-02-10T17:17:08.142126Z",
     "iopub.status.idle": "2022-02-10T17:17:08.202409Z",
     "shell.execute_reply": "2022-02-10T17:17:08.201661Z"
    }
   },
   "outputs": [
    {
     "data": {
      "text/plain": [
       "24-element Vector{AbstractString}:\n",
       " \".CFUserTextEncoding\"\n",
       " \".DS_Store\"\n",
       " \".JuliaFormatter.toml\"\n",
       " \".NERDTreeBookmarks\"\n",
       " \".Trash\"\n",
       " \".bash_history\"\n",
       " \".cache\"\n",
       " \".conda\"\n",
       " \".config\"\n",
       " \".gitconfig\"\n",
       " \".ipython\"\n",
       " \".jlassetregistry.json\"\n",
       " \".julia\"\n",
       " \".jupyter\"\n",
       " \".lesshst\"\n",
       " \".npm\"\n",
       " \".pyenv\"\n",
       " \".python_history\"\n",
       " \".vim\"\n",
       " \".viminfo\"\n",
       " \".vimrc\"\n",
       " \".zsh_history\"\n",
       " \".zsh_sessions\"\n",
       " \".zshrc\""
      ]
     },
     "execution_count": 14,
     "metadata": {},
     "output_type": "execute_result"
    }
   ],
   "source": [
    "OnePiece.extension.path.select(di; ig_ = [], ke_ = [r\"^\\.\"], jo = false)"
   ]
  },
  {
   "cell_type": "markdown",
   "id": "d8111d32",
   "metadata": {},
   "source": [
    "## error_missing_path"
   ]
  },
  {
   "cell_type": "code",
   "execution_count": 15,
   "id": "aeefbc77",
   "metadata": {
    "execution": {
     "iopub.execute_input": "2022-02-10T17:17:08.205216Z",
     "iopub.status.busy": "2022-02-10T17:17:08.204555Z",
     "iopub.status.idle": "2022-02-10T17:17:08.218000Z",
     "shell.execute_reply": "2022-02-10T17:17:08.217625Z"
    }
   },
   "outputs": [
    {
     "data": {
      "text/plain": [
       "\"extension/path.ipynb\""
      ]
     },
     "execution_count": 15,
     "metadata": {},
     "output_type": "execute_result"
    }
   ],
   "source": [
    "go = \"extension/path.ipynb\""
   ]
  },
  {
   "cell_type": "code",
   "execution_count": 16,
   "id": "1cf0d05a",
   "metadata": {
    "execution": {
     "iopub.execute_input": "2022-02-10T17:17:08.219909Z",
     "iopub.status.busy": "2022-02-10T17:17:08.219297Z",
     "iopub.status.idle": "2022-02-10T17:17:08.248404Z",
     "shell.execute_reply": "2022-02-10T17:17:08.247865Z"
    }
   },
   "outputs": [],
   "source": [
    "OnePiece.extension.path.error_missing_path(dirname(@__DIR__), [go])"
   ]
  },
  {
   "cell_type": "code",
   "execution_count": 17,
   "id": "fb80aeb5",
   "metadata": {
    "execution": {
     "iopub.execute_input": "2022-02-10T17:17:08.250321Z",
     "iopub.status.busy": "2022-02-10T17:17:08.249812Z",
     "iopub.status.idle": "2022-02-10T17:17:08.289382Z",
     "shell.execute_reply": "2022-02-10T17:17:08.288948Z"
    }
   },
   "outputs": [
    {
     "data": {
      "text/plain": [
       "ErrorException(\"missing AbstractString[\\\"/Users/kwat/craft/OnePiece.jl/test/missing/file\\\", \\\"/Users/kwat/craft/OnePiece.jl/test/missing/directory/\\\"]\")"
      ]
     },
     "execution_count": 17,
     "metadata": {},
     "output_type": "execute_result"
    }
   ],
   "source": [
    "try\n",
    "\n",
    "    OnePiece.extension.path.error_missing_path(\n",
    "        dirname(@__DIR__),\n",
    "        [go, \"missing/file\", \"missing/directory/\"],\n",
    "    )\n",
    "\n",
    "catch er\n",
    "\n",
    "    er\n",
    "\n",
    "end"
   ]
  },
  {
   "cell_type": "markdown",
   "id": "d120dae4",
   "metadata": {},
   "source": [
    "## error_extension"
   ]
  },
  {
   "cell_type": "code",
   "execution_count": 18,
   "id": "5551c780",
   "metadata": {
    "execution": {
     "iopub.execute_input": "2022-02-10T17:17:08.291701Z",
     "iopub.status.busy": "2022-02-10T17:17:08.291066Z",
     "iopub.status.idle": "2022-02-10T17:17:08.306666Z",
     "shell.execute_reply": "2022-02-10T17:17:08.306116Z"
    }
   },
   "outputs": [],
   "source": [
    "OnePiece.extension.path.error_extension(\"file.extension\", \".extension\")"
   ]
  },
  {
   "cell_type": "code",
   "execution_count": 19,
   "id": "9b7bcf9e",
   "metadata": {
    "execution": {
     "iopub.execute_input": "2022-02-10T17:17:08.308633Z",
     "iopub.status.busy": "2022-02-10T17:17:08.308061Z",
     "iopub.status.idle": "2022-02-10T17:17:09.153424Z",
     "shell.execute_reply": "2022-02-10T17:17:09.152994Z"
    }
   },
   "outputs": [
    {
     "name": "stdout",
     "output_type": "stream",
     "text": [
      "ErrorException(\".extension is not extension\")\n",
      "ErrorException(\".extension is not .another_extension\")\n"
     ]
    }
   ],
   "source": [
    "for ex in [\"extension\", \".another_extension\"]\n",
    "\n",
    "    try\n",
    "\n",
    "        OnePiece.extension.path.error_extension(\"file.extension\", ex)\n",
    "\n",
    "    catch er\n",
    "\n",
    "        println(er)\n",
    "\n",
    "    end\n",
    "\n",
    "end"
   ]
  },
  {
   "cell_type": "markdown",
   "id": "0ccb2bfe",
   "metadata": {
    "execution": {
     "iopub.execute_input": "2021-10-14T18:25:54.055222Z",
     "iopub.status.busy": "2021-10-14T18:25:53.342490Z",
     "iopub.status.idle": "2021-10-14T18:26:10.352867Z",
     "shell.execute_reply": "2021-10-14T18:26:10.352370Z"
    }
   },
   "source": [
    "## move"
   ]
  },
  {
   "cell_type": "code",
   "execution_count": 20,
   "id": "d86d391b",
   "metadata": {
    "execution": {
     "iopub.execute_input": "2022-02-10T17:17:09.155516Z",
     "iopub.status.busy": "2022-02-10T17:17:09.154964Z",
     "iopub.status.idle": "2022-02-10T17:17:09.198824Z",
     "shell.execute_reply": "2022-02-10T17:17:09.199182Z"
    }
   },
   "outputs": [
    {
     "name": "stdout",
     "output_type": "stream",
     "text": [
      "/var/folders/mg/30npdf0s1z36txb2qvgylrzh0000gn/T/move\n",
      "├── di1\n",
      "│   └── fi1\n",
      "├── di2\n",
      "│   └── fi2\n",
      "├── di3\n",
      "│   └── fi2\n",
      "├── fi1\n",
      "└── fi2\n",
      "\n",
      "3 directories, 5 files\n"
     ]
    }
   ],
   "source": [
    "te = joinpath(tempdir(), \"move\")\n",
    "\n",
    "di1 = mkpath(joinpath(te, \"di1\"))\n",
    "\n",
    "di2 = mkpath(joinpath(te, \"di2\"))\n",
    "\n",
    "di3 = mkpath(joinpath(te, \"di3\"))\n",
    "\n",
    "fi1 = joinpath(di1, \"fi1\")\n",
    "\n",
    "fi2 = joinpath(di2, \"fi2\")\n",
    "\n",
    "touch(fi1)\n",
    "\n",
    "touch(fi2)\n",
    "\n",
    "run(`tree $te`)\n",
    "\n",
    ";"
   ]
  },
  {
   "cell_type": "code",
   "execution_count": 21,
   "id": "caf10005",
   "metadata": {
    "execution": {
     "iopub.execute_input": "2022-02-10T17:17:09.201746Z",
     "iopub.status.busy": "2022-02-10T17:17:09.201164Z",
     "iopub.status.idle": "2022-02-10T17:17:09.401392Z",
     "shell.execute_reply": "2022-02-10T17:17:09.401916Z"
    }
   },
   "outputs": [
    {
     "name": "stdout",
     "output_type": "stream",
     "text": [
      "move/di1/fi1 ==> move/di3/fi1\n",
      "/var/folders/mg/30npdf0s1z36txb2qvgylrzh0000gn/T/move/di3/fi1\n",
      "/var/folders/mg/30npdf0s1z36txb2qvgylrzh0000gn/T/move\n",
      "├── di1\n",
      "├── di2\n",
      "│   └── fi2\n",
      "├── di3\n",
      "│   ├── fi1\n",
      "│   └── fi2\n",
      "├── fi1\n",
      "└── fi2\n",
      "\n",
      "3 directories, 5 files\n"
     ]
    }
   ],
   "source": [
    "fi12 = replace(fi1, \"di1\" => \"di3\")\n",
    "\n",
    "println(OnePiece.extension.path.move(fi1, fi12))\n",
    "\n",
    "run(`tree $te`)\n",
    "\n",
    ";"
   ]
  },
  {
   "cell_type": "code",
   "execution_count": 22,
   "id": "37ab766d",
   "metadata": {
    "execution": {
     "iopub.execute_input": "2022-02-10T17:17:09.404086Z",
     "iopub.status.busy": "2022-02-10T17:17:09.403592Z",
     "iopub.status.idle": "2022-02-10T17:17:09.663764Z",
     "shell.execute_reply": "2022-02-10T17:17:09.663381Z"
    }
   },
   "outputs": [
    {
     "name": "stdout",
     "output_type": "stream",
     "text": [
      "move/di2 ==> move/di3\n"
     ]
    },
    {
     "data": {
      "text/plain": [
       "ArgumentError(\"'/var/folders/mg/30npdf0s1z36txb2qvgylrzh0000gn/T/move/di3' exists. `force=true` is required to remove '/var/folders/mg/30npdf0s1z36txb2qvgylrzh0000gn/T/move/di3' before moving.\")"
      ]
     },
     "execution_count": 22,
     "metadata": {},
     "output_type": "execute_result"
    }
   ],
   "source": [
    "try\n",
    "\n",
    "    OnePiece.extension.path.move(di2, di3)\n",
    "\n",
    "catch er\n",
    "\n",
    "    er\n",
    "\n",
    "end"
   ]
  },
  {
   "cell_type": "code",
   "execution_count": 23,
   "id": "a2b758c5",
   "metadata": {
    "execution": {
     "iopub.execute_input": "2022-02-10T17:17:09.665664Z",
     "iopub.status.busy": "2022-02-10T17:17:09.665072Z",
     "iopub.status.idle": "2022-02-10T17:17:09.700247Z",
     "shell.execute_reply": "2022-02-10T17:17:09.700709Z"
    }
   },
   "outputs": [
    {
     "name": "stdout",
     "output_type": "stream",
     "text": [
      "move/di2 ==> move/di3\n",
      "/var/folders/mg/30npdf0s1z36txb2qvgylrzh0000gn/T/move/di3\n",
      "/var/folders/mg/30npdf0s1z36txb2qvgylrzh0000gn/T/move\n",
      "├── di1\n",
      "├── di3\n",
      "│   └── fi2\n",
      "├── fi1\n",
      "└── fi2\n",
      "\n",
      "2 directories, 3 files\n"
     ]
    }
   ],
   "source": [
    "println(OnePiece.extension.path.move(di2, di3; fo = true))\n",
    "\n",
    "run(`tree $te`)\n",
    "\n",
    ";"
   ]
  },
  {
   "cell_type": "markdown",
   "id": "864df5b3",
   "metadata": {},
   "source": [
    "## sed_recursively"
   ]
  },
  {
   "cell_type": "code",
   "execution_count": 24,
   "id": "afc362c3",
   "metadata": {
    "execution": {
     "iopub.execute_input": "2022-02-10T17:17:09.702919Z",
     "iopub.status.busy": "2022-02-10T17:17:09.702298Z",
     "iopub.status.idle": "2022-02-10T17:17:09.742217Z",
     "shell.execute_reply": "2022-02-10T17:17:09.741854Z"
    }
   },
   "outputs": [
    {
     "name": "stdout",
     "output_type": "stream",
     "text": [
      "Before\n",
      "BeforeBefore\n"
     ]
    }
   ],
   "source": [
    "fi1 = joinpath(te, \"fi1\")\n",
    "\n",
    "fi2 = joinpath(te, \"fi2\")\n",
    "\n",
    "open(fi1, \"w\") do io\n",
    "\n",
    "    write(io, \"Before\")\n",
    "\n",
    "end\n",
    "\n",
    "open(fi2, \"w\") do io\n",
    "\n",
    "    write(io, \"BeforeBefore\")\n",
    "\n",
    "end\n",
    "\n",
    "println(readline(open(fi1)))\n",
    "\n",
    "println(readline(open(fi2)))\n",
    "\n",
    ";"
   ]
  },
  {
   "cell_type": "code",
   "execution_count": 25,
   "id": "4098503b",
   "metadata": {
    "execution": {
     "iopub.execute_input": "2022-02-10T17:17:09.744201Z",
     "iopub.status.busy": "2022-02-10T17:17:09.743707Z",
     "iopub.status.idle": "2022-02-10T17:17:09.956999Z",
     "shell.execute_reply": "2022-02-10T17:17:09.955643Z"
    }
   },
   "outputs": [
    {
     "name": "stdout",
     "output_type": "stream",
     "text": [
      "After\n",
      "AfterAfter\n"
     ]
    },
    {
     "name": "stderr",
     "output_type": "stream",
     "text": [
      "sed -i  s/Before/After/g /var/folders/mg/30npdf0s1z36txb2qvgylrzh0000gn/T/move/di3/fi2 /var/folders/mg/30npdf0s1z36txb2qvgylrzh0000gn/T/move/fi1 /var/folders/mg/30npdf0s1z36txb2qvgylrzh0000gn/T/move/fi2\n"
     ]
    }
   ],
   "source": [
    "OnePiece.extension.path.sed_recursively(te, [\"Before\" => \"After\"])\n",
    "\n",
    "println(readline(open(fi1)))\n",
    "\n",
    "println(readline(open(fi2)))"
   ]
  }
 ],
 "metadata": {
  "@webio": {
   "lastCommId": null,
   "lastKernelId": null
  },
  "kernelspec": {
   "display_name": "Julia 1.7.1",
   "language": "julia",
   "name": "julia-1.7"
  },
  "language_info": {
   "file_extension": ".jl",
   "mimetype": "application/julia",
   "name": "julia",
   "version": "1.7.2"
  }
 },
 "nbformat": 4,
 "nbformat_minor": 5
}
