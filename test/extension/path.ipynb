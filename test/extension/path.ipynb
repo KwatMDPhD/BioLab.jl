{
 "cells": [
  {
   "cell_type": "code",
   "execution_count": null,
   "id": "017464da",
   "metadata": {
    "execution": {
     "iopub.execute_input": "2022-02-13T22:57:00.498321Z",
     "iopub.status.busy": "2022-02-13T22:57:00.173158Z",
     "iopub.status.idle": "2022-02-13T22:57:00.679646Z",
     "shell.execute_reply": "2022-02-13T22:57:00.679107Z"
    }
   },
   "outputs": [],
   "source": [
    "TE = joinpath(tempdir(), \"OnePiece.test\")\n",
    "\n",
    "if isdir(TE)\n",
    "\n",
    "    rm(TE, recursive = true)\n",
    "\n",
    "    println(\"Removed \", TE, \".\")\n",
    "\n",
    "end\n",
    "\n",
    "mkdir(TE)\n",
    "\n",
    "println(\"Made \", TE, \".\")"
   ]
  },
  {
   "cell_type": "code",
   "execution_count": null,
   "id": "34e4701e",
   "metadata": {
    "execution": {
     "iopub.execute_input": "2022-02-13T22:57:00.681346Z",
     "iopub.status.busy": "2022-02-13T22:57:00.680855Z",
     "iopub.status.idle": "2022-02-13T22:57:04.594888Z",
     "shell.execute_reply": "2022-02-13T22:57:04.594419Z"
    }
   },
   "outputs": [],
   "source": [
    "using OnePiece"
   ]
  },
  {
   "cell_type": "markdown",
   "id": "b92a3da9",
   "metadata": {},
   "source": [
    "---"
   ]
  },
  {
   "cell_type": "markdown",
   "id": "174f3b9b",
   "metadata": {
    "execution": {
     "iopub.execute_input": "2021-10-14T18:25:54.055222Z",
     "iopub.status.busy": "2021-10-14T18:25:53.342490Z",
     "iopub.status.idle": "2021-10-14T18:26:10.352867Z",
     "shell.execute_reply": "2021-10-14T18:26:10.352370Z"
    }
   },
   "source": [
    "## shorten"
   ]
  },
  {
   "cell_type": "code",
   "execution_count": null,
   "id": "685c8b90",
   "metadata": {
    "execution": {
     "iopub.execute_input": "2022-02-13T22:57:04.898730Z",
     "iopub.status.busy": "2022-02-13T22:57:04.596358Z",
     "iopub.status.idle": "2022-02-13T22:57:05.491427Z",
     "shell.execute_reply": "2022-02-13T22:57:05.491024Z"
    }
   },
   "outputs": [],
   "source": [
    "pa = pwd()"
   ]
  },
  {
   "cell_type": "code",
   "execution_count": null,
   "id": "e40c9529",
   "metadata": {
    "execution": {
     "iopub.execute_input": "2022-02-13T22:57:05.493241Z",
     "iopub.status.busy": "2022-02-13T22:57:05.492739Z",
     "iopub.status.idle": "2022-02-13T22:57:05.963118Z",
     "shell.execute_reply": "2022-02-13T22:57:05.962721Z"
    }
   },
   "outputs": [],
   "source": [
    "try\n",
    "\n",
    "    OnePiece.extension.path.shorten(pa, \"Shanks\")\n",
    "\n",
    "catch er\n",
    "\n",
    "    er\n",
    "\n",
    "end"
   ]
  },
  {
   "cell_type": "code",
   "execution_count": null,
   "id": "f8f20090",
   "metadata": {
    "execution": {
     "iopub.execute_input": "2022-02-13T22:57:05.965091Z",
     "iopub.status.busy": "2022-02-13T22:57:05.964577Z",
     "iopub.status.idle": "2022-02-13T22:57:05.986835Z",
     "shell.execute_reply": "2022-02-13T22:57:05.986320Z"
    }
   },
   "outputs": [],
   "source": [
    "for n_ba in [2, 1]\n",
    "\n",
    "    println(OnePiece.extension.path.shorten(pa, n_ba))\n",
    "\n",
    "end"
   ]
  },
  {
   "cell_type": "code",
   "execution_count": null,
   "id": "9881c454",
   "metadata": {
    "execution": {
     "iopub.execute_input": "2022-02-13T22:57:05.988682Z",
     "iopub.status.busy": "2022-02-13T22:57:05.988160Z",
     "iopub.status.idle": "2022-02-13T22:57:05.998864Z",
     "shell.execute_reply": "2022-02-13T22:57:05.998488Z"
    }
   },
   "outputs": [],
   "source": [
    "for di in [\"OnePiece.jl\", \"test\", \"OnePiece.jl/test\", \"extension\"]\n",
    "\n",
    "    println(OnePiece.extension.path.shorten(pa, di))\n",
    "\n",
    "end"
   ]
  },
  {
   "cell_type": "markdown",
   "id": "4f0f34f4",
   "metadata": {
    "execution": {
     "iopub.execute_input": "2021-10-14T18:25:54.055222Z",
     "iopub.status.busy": "2021-10-14T18:25:53.342490Z",
     "iopub.status.idle": "2021-10-14T18:26:10.352867Z",
     "shell.execute_reply": "2021-10-14T18:26:10.352370Z"
    }
   },
   "source": [
    "## clean"
   ]
  },
  {
   "cell_type": "code",
   "execution_count": null,
   "id": "9c1753ae",
   "metadata": {
    "execution": {
     "iopub.execute_input": "2022-02-13T22:57:06.000842Z",
     "iopub.status.busy": "2022-02-13T22:57:06.000343Z",
     "iopub.status.idle": "2022-02-13T22:57:06.007027Z",
     "shell.execute_reply": "2022-02-13T22:57:06.006647Z"
    }
   },
   "outputs": [],
   "source": [
    "OnePiece.extension.path.clean(\"a_b.c-d+e!f%g%h]iJK\")"
   ]
  },
  {
   "cell_type": "markdown",
   "id": "bcf7707b",
   "metadata": {
    "execution": {
     "iopub.execute_input": "2021-10-14T18:25:54.055222Z",
     "iopub.status.busy": "2021-10-14T18:25:53.342490Z",
     "iopub.status.idle": "2021-10-14T18:26:10.352867Z",
     "shell.execute_reply": "2021-10-14T18:26:10.352370Z"
    }
   },
   "source": [
    "## make_absolute"
   ]
  },
  {
   "cell_type": "code",
   "execution_count": null,
   "id": "b861b0f9",
   "metadata": {
    "execution": {
     "iopub.execute_input": "2022-02-13T22:57:06.009651Z",
     "iopub.status.busy": "2022-02-13T22:57:06.009023Z",
     "iopub.status.idle": "2022-02-13T22:57:06.024702Z",
     "shell.execute_reply": "2022-02-13T22:57:06.024225Z"
    }
   },
   "outputs": [],
   "source": [
    "for pa in [\"~/file\", \"~/directory/\"]\n",
    "\n",
    "    println(OnePiece.extension.path.make_absolute(pa))\n",
    "\n",
    "end"
   ]
  },
  {
   "cell_type": "markdown",
   "id": "53c74cab",
   "metadata": {},
   "source": [
    "## remove_extension"
   ]
  },
  {
   "cell_type": "code",
   "execution_count": null,
   "id": "f701b595",
   "metadata": {
    "execution": {
     "iopub.execute_input": "2022-02-13T22:57:06.027125Z",
     "iopub.status.busy": "2022-02-13T22:57:06.026615Z",
     "iopub.status.idle": "2022-02-13T22:57:06.030806Z",
     "shell.execute_reply": "2022-02-13T22:57:06.030451Z"
    }
   },
   "outputs": [],
   "source": [
    "OnePiece.extension.path.remove_extension(\"/path/to/a/file.extension\")"
   ]
  },
  {
   "cell_type": "code",
   "execution_count": null,
   "id": "ec900856",
   "metadata": {
    "execution": {
     "iopub.execute_input": "2022-02-13T22:57:06.033297Z",
     "iopub.status.busy": "2022-02-13T22:57:06.032450Z",
     "iopub.status.idle": "2022-02-13T22:57:06.034774Z",
     "shell.execute_reply": "2022-02-13T22:57:06.033759Z"
    }
   },
   "outputs": [],
   "source": [
    "OnePiece.extension.path.remove_extension(\"/path/to/a/file\")"
   ]
  },
  {
   "cell_type": "code",
   "execution_count": null,
   "id": "9dc8a8bd",
   "metadata": {
    "execution": {
     "iopub.execute_input": "2022-02-13T22:57:06.037228Z",
     "iopub.status.busy": "2022-02-13T22:57:06.036302Z",
     "iopub.status.idle": "2022-02-13T22:57:06.038610Z",
     "shell.execute_reply": "2022-02-13T22:57:06.037656Z"
    }
   },
   "outputs": [],
   "source": [
    "OnePiece.extension.path.remove_extension(\"/path/to/a/directory/\")"
   ]
  },
  {
   "cell_type": "markdown",
   "id": "7670ee74",
   "metadata": {
    "execution": {
     "iopub.execute_input": "2021-10-14T18:25:54.055222Z",
     "iopub.status.busy": "2021-10-14T18:25:53.342490Z",
     "iopub.status.idle": "2021-10-14T18:26:10.352867Z",
     "shell.execute_reply": "2021-10-14T18:26:10.352370Z"
    }
   },
   "source": [
    "## select"
   ]
  },
  {
   "cell_type": "code",
   "execution_count": null,
   "id": "9304e507",
   "metadata": {
    "execution": {
     "iopub.execute_input": "2022-02-13T22:57:06.041237Z",
     "iopub.status.busy": "2022-02-13T22:57:06.040206Z",
     "iopub.status.idle": "2022-02-13T22:57:06.042034Z",
     "shell.execute_reply": "2022-02-13T22:57:06.041675Z"
    }
   },
   "outputs": [],
   "source": [
    "di = homedir()\n",
    "\n",
    ";"
   ]
  },
  {
   "cell_type": "code",
   "execution_count": null,
   "id": "402bdee9",
   "metadata": {
    "execution": {
     "iopub.execute_input": "2022-02-13T22:57:06.043941Z",
     "iopub.status.busy": "2022-02-13T22:57:06.043445Z",
     "iopub.status.idle": "2022-02-13T22:57:06.786993Z",
     "shell.execute_reply": "2022-02-13T22:57:06.786609Z"
    }
   },
   "outputs": [],
   "source": [
    "OnePiece.extension.path.select(di)"
   ]
  },
  {
   "cell_type": "code",
   "execution_count": null,
   "id": "fcb166f2",
   "metadata": {
    "execution": {
     "iopub.execute_input": "2022-02-13T22:57:06.788757Z",
     "iopub.status.busy": "2022-02-13T22:57:06.788261Z",
     "iopub.status.idle": "2022-02-13T22:57:06.832275Z",
     "shell.execute_reply": "2022-02-13T22:57:06.831696Z"
    }
   },
   "outputs": [],
   "source": [
    "OnePiece.extension.path.select(di; ig_ = [], ke_ = [r\"^\\.\"], jo = false)"
   ]
  },
  {
   "cell_type": "markdown",
   "id": "d8111d32",
   "metadata": {},
   "source": [
    "## error_missing_path"
   ]
  },
  {
   "cell_type": "code",
   "execution_count": null,
   "id": "aeefbc77",
   "metadata": {
    "execution": {
     "iopub.execute_input": "2022-02-13T22:57:06.834762Z",
     "iopub.status.busy": "2022-02-13T22:57:06.833902Z",
     "iopub.status.idle": "2022-02-13T22:57:06.836267Z",
     "shell.execute_reply": "2022-02-13T22:57:06.835203Z"
    }
   },
   "outputs": [],
   "source": [
    "go = \"extension/path.ipynb\""
   ]
  },
  {
   "cell_type": "code",
   "execution_count": null,
   "id": "1cf0d05a",
   "metadata": {
    "execution": {
     "iopub.execute_input": "2022-02-13T22:57:06.838198Z",
     "iopub.status.busy": "2022-02-13T22:57:06.837720Z",
     "iopub.status.idle": "2022-02-13T22:57:06.852388Z",
     "shell.execute_reply": "2022-02-13T22:57:06.851950Z"
    }
   },
   "outputs": [],
   "source": [
    "OnePiece.extension.path.error_missing_path(dirname(@__DIR__), [go])"
   ]
  },
  {
   "cell_type": "code",
   "execution_count": null,
   "id": "fb80aeb5",
   "metadata": {
    "execution": {
     "iopub.execute_input": "2022-02-13T22:57:06.854256Z",
     "iopub.status.busy": "2022-02-13T22:57:06.853739Z",
     "iopub.status.idle": "2022-02-13T22:57:06.879103Z",
     "shell.execute_reply": "2022-02-13T22:57:06.878722Z"
    }
   },
   "outputs": [],
   "source": [
    "try\n",
    "\n",
    "    OnePiece.extension.path.error_missing_path(\n",
    "        dirname(@__DIR__),\n",
    "        [go, \"missing/file\", \"missing/directory/\"],\n",
    "    )\n",
    "\n",
    "catch er\n",
    "\n",
    "    er\n",
    "\n",
    "end"
   ]
  },
  {
   "cell_type": "markdown",
   "id": "d120dae4",
   "metadata": {},
   "source": [
    "## error_extension"
   ]
  },
  {
   "cell_type": "code",
   "execution_count": null,
   "id": "5551c780",
   "metadata": {
    "execution": {
     "iopub.execute_input": "2022-02-13T22:57:06.881239Z",
     "iopub.status.busy": "2022-02-13T22:57:06.880686Z",
     "iopub.status.idle": "2022-02-13T22:57:06.884764Z",
     "shell.execute_reply": "2022-02-13T22:57:06.884276Z"
    }
   },
   "outputs": [],
   "source": [
    "OnePiece.extension.path.error_extension(\"file.extension\", \".extension\")"
   ]
  },
  {
   "cell_type": "code",
   "execution_count": null,
   "id": "9b7bcf9e",
   "metadata": {
    "execution": {
     "iopub.execute_input": "2022-02-13T22:57:06.886859Z",
     "iopub.status.busy": "2022-02-13T22:57:06.886269Z",
     "iopub.status.idle": "2022-02-13T22:57:07.643134Z",
     "shell.execute_reply": "2022-02-13T22:57:07.642507Z"
    }
   },
   "outputs": [],
   "source": [
    "for ex in [\"extension\", \".another_extension\"]\n",
    "\n",
    "    try\n",
    "\n",
    "        OnePiece.extension.path.error_extension(\"file.extension\", ex)\n",
    "\n",
    "    catch er\n",
    "\n",
    "        println(er)\n",
    "\n",
    "    end\n",
    "\n",
    "end"
   ]
  },
  {
   "cell_type": "markdown",
   "id": "0ccb2bfe",
   "metadata": {
    "execution": {
     "iopub.execute_input": "2021-10-14T18:25:54.055222Z",
     "iopub.status.busy": "2021-10-14T18:25:53.342490Z",
     "iopub.status.idle": "2021-10-14T18:26:10.352867Z",
     "shell.execute_reply": "2021-10-14T18:26:10.352370Z"
    }
   },
   "source": [
    "## move"
   ]
  },
  {
   "cell_type": "code",
   "execution_count": null,
   "id": "d86d391b",
   "metadata": {
    "execution": {
     "iopub.execute_input": "2022-02-13T22:57:07.645108Z",
     "iopub.status.busy": "2022-02-13T22:57:07.644620Z",
     "iopub.status.idle": "2022-02-13T22:57:07.678823Z",
     "shell.execute_reply": "2022-02-13T22:57:07.678281Z"
    }
   },
   "outputs": [],
   "source": [
    "te = joinpath(tempdir(), \"move\")\n",
    "\n",
    "di1 = mkpath(joinpath(te, \"di1\"))\n",
    "\n",
    "di2 = mkpath(joinpath(te, \"di2\"))\n",
    "\n",
    "di3 = mkpath(joinpath(te, \"di3\"))\n",
    "\n",
    "fi1 = joinpath(di1, \"fi1\")\n",
    "\n",
    "fi2 = joinpath(di2, \"fi2\")\n",
    "\n",
    "touch(fi1)\n",
    "\n",
    "touch(fi2)\n",
    "\n",
    "run(`tree $te`)\n",
    "\n",
    ";"
   ]
  },
  {
   "cell_type": "code",
   "execution_count": null,
   "id": "caf10005",
   "metadata": {
    "execution": {
     "iopub.execute_input": "2022-02-13T22:57:07.680937Z",
     "iopub.status.busy": "2022-02-13T22:57:07.680338Z",
     "iopub.status.idle": "2022-02-13T22:57:07.856472Z",
     "shell.execute_reply": "2022-02-13T22:57:07.856896Z"
    }
   },
   "outputs": [],
   "source": [
    "fi12 = replace(fi1, \"di1\" => \"di3\")\n",
    "\n",
    "println(OnePiece.extension.path.move(fi1, fi12))\n",
    "\n",
    "run(`tree $te`)\n",
    "\n",
    ";"
   ]
  },
  {
   "cell_type": "code",
   "execution_count": null,
   "id": "37ab766d",
   "metadata": {
    "execution": {
     "iopub.execute_input": "2022-02-13T22:57:07.859007Z",
     "iopub.status.busy": "2022-02-13T22:57:07.858435Z",
     "iopub.status.idle": "2022-02-13T22:57:08.086066Z",
     "shell.execute_reply": "2022-02-13T22:57:08.085673Z"
    }
   },
   "outputs": [],
   "source": [
    "try\n",
    "\n",
    "    OnePiece.extension.path.move(di2, di3)\n",
    "\n",
    "catch er\n",
    "\n",
    "    er\n",
    "\n",
    "end"
   ]
  },
  {
   "cell_type": "code",
   "execution_count": null,
   "id": "a2b758c5",
   "metadata": {
    "execution": {
     "iopub.execute_input": "2022-02-13T22:57:08.087924Z",
     "iopub.status.busy": "2022-02-13T22:57:08.087431Z",
     "iopub.status.idle": "2022-02-13T22:57:08.111408Z",
     "shell.execute_reply": "2022-02-13T22:57:08.111027Z"
    }
   },
   "outputs": [],
   "source": [
    "println(OnePiece.extension.path.move(di2, di3; fo = true))\n",
    "\n",
    "run(`tree $te`)\n",
    "\n",
    ";"
   ]
  },
  {
   "cell_type": "markdown",
   "id": "864df5b3",
   "metadata": {},
   "source": [
    "## sed_recursively"
   ]
  },
  {
   "cell_type": "code",
   "execution_count": null,
   "id": "afc362c3",
   "metadata": {
    "execution": {
     "iopub.execute_input": "2022-02-13T22:57:08.113447Z",
     "iopub.status.busy": "2022-02-13T22:57:08.112931Z",
     "iopub.status.idle": "2022-02-13T22:57:08.135607Z",
     "shell.execute_reply": "2022-02-13T22:57:08.135245Z"
    }
   },
   "outputs": [],
   "source": [
    "fi1 = joinpath(te, \"fi1\")\n",
    "\n",
    "fi2 = joinpath(te, \"fi2\")\n",
    "\n",
    "open(fi1, \"w\") do io\n",
    "\n",
    "    write(io, \"Before\")\n",
    "\n",
    "end\n",
    "\n",
    "open(fi2, \"w\") do io\n",
    "\n",
    "    write(io, \"BeforeBefore\")\n",
    "\n",
    "end\n",
    "\n",
    "println(readline(open(fi1)))\n",
    "\n",
    "println(readline(open(fi2)))\n",
    "\n",
    ";"
   ]
  },
  {
   "cell_type": "code",
   "execution_count": null,
   "id": "4098503b",
   "metadata": {
    "execution": {
     "iopub.execute_input": "2022-02-13T22:57:08.137475Z",
     "iopub.status.busy": "2022-02-13T22:57:08.136964Z",
     "iopub.status.idle": "2022-02-13T22:57:08.314335Z",
     "shell.execute_reply": "2022-02-13T22:57:08.313352Z"
    }
   },
   "outputs": [],
   "source": [
    "OnePiece.extension.path.sed_recursively(te, [\"Before\" => \"After\"])\n",
    "\n",
    "println(readline(open(fi1)))\n",
    "\n",
    "println(readline(open(fi2)))"
   ]
  },
  {
   "cell_type": "markdown",
   "id": "3f396855",
   "metadata": {},
   "source": [
    "---"
   ]
  },
  {
   "cell_type": "code",
   "execution_count": null,
   "id": "b4af2023",
   "metadata": {
    "execution": {
     "iopub.execute_input": "2022-02-13T22:57:08.316346Z",
     "iopub.status.busy": "2022-02-13T22:57:08.315764Z",
     "iopub.status.idle": "2022-02-13T22:57:08.318298Z",
     "shell.execute_reply": "2022-02-13T22:57:08.317948Z"
    }
   },
   "outputs": [],
   "source": [
    "if isdir(TE)\n",
    "\n",
    "    rm(TE, recursive = true)\n",
    "\n",
    "    println(\"Removed \", TE, \".\")\n",
    "\n",
    "end"
   ]
  }
 ],
 "metadata": {
  "kernelspec": {
   "display_name": "Julia 1.7.2",
   "language": "julia",
   "name": "julia-1.7"
  },
  "language_info": {
   "file_extension": ".jl",
   "mimetype": "application/julia",
   "name": "julia",
   "version": "1.7.2"
  }
 },
 "nbformat": 4,
 "nbformat_minor": 5
}
