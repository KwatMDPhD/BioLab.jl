{
 "cells": [
  {
   "cell_type": "code",
   "execution_count": null,
   "id": "017464da",
   "metadata": {
    "execution": {
     "iopub.execute_input": "2022-02-14T16:46:29.944209Z",
     "iopub.status.busy": "2022-02-14T16:46:29.532111Z",
     "iopub.status.idle": "2022-02-14T16:46:30.173066Z",
     "shell.execute_reply": "2022-02-14T16:46:30.172459Z"
    }
   },
   "outputs": [],
   "source": [
    "TE = joinpath(tempdir(), \"OnePiece.test\")\n",
    "\n",
    "if isdir(TE)\n",
    "\n",
    "    rm(TE, recursive = true)\n",
    "\n",
    "    println(\"Removed \", TE, \".\")\n",
    "\n",
    "end\n",
    "\n",
    "mkdir(TE)\n",
    "\n",
    "println(\"Made \", TE, \".\")"
   ]
  },
  {
   "cell_type": "code",
   "execution_count": null,
   "id": "34e4701e",
   "metadata": {
    "execution": {
     "iopub.execute_input": "2022-02-14T16:46:30.175026Z",
     "iopub.status.busy": "2022-02-14T16:46:30.174434Z",
     "iopub.status.idle": "2022-02-14T16:46:35.009677Z",
     "shell.execute_reply": "2022-02-14T16:46:35.009144Z"
    }
   },
   "outputs": [],
   "source": [
    "using OnePiece"
   ]
  },
  {
   "cell_type": "markdown",
   "id": "b92a3da9",
   "metadata": {},
   "source": [
    "---"
   ]
  },
  {
   "cell_type": "markdown",
   "id": "174f3b9b",
   "metadata": {
    "execution": {
     "iopub.execute_input": "2021-10-14T18:25:54.055222Z",
     "iopub.status.busy": "2021-10-14T18:25:53.342490Z",
     "iopub.status.idle": "2021-10-14T18:26:10.352867Z",
     "shell.execute_reply": "2021-10-14T18:26:10.352370Z"
    }
   },
   "source": [
    "## shorten"
   ]
  },
  {
   "cell_type": "code",
   "execution_count": null,
   "id": "685c8b90",
   "metadata": {
    "execution": {
     "iopub.execute_input": "2022-02-14T16:46:35.374287Z",
     "iopub.status.busy": "2022-02-14T16:46:35.011215Z",
     "iopub.status.idle": "2022-02-14T16:46:36.082208Z",
     "shell.execute_reply": "2022-02-14T16:46:36.081753Z"
    }
   },
   "outputs": [],
   "source": [
    "pa = pwd()"
   ]
  },
  {
   "cell_type": "code",
   "execution_count": null,
   "id": "e40c9529",
   "metadata": {
    "execution": {
     "iopub.execute_input": "2022-02-14T16:46:36.084275Z",
     "iopub.status.busy": "2022-02-14T16:46:36.083617Z",
     "iopub.status.idle": "2022-02-14T16:46:36.643667Z",
     "shell.execute_reply": "2022-02-14T16:46:36.643207Z"
    }
   },
   "outputs": [],
   "source": [
    "try\n",
    "\n",
    "    OnePiece.extension.path.shorten(pa, \"Shanks\")\n",
    "\n",
    "catch er\n",
    "\n",
    "    er\n",
    "\n",
    "end"
   ]
  },
  {
   "cell_type": "code",
   "execution_count": null,
   "id": "f8f20090",
   "metadata": {
    "execution": {
     "iopub.execute_input": "2022-02-14T16:46:36.645522Z",
     "iopub.status.busy": "2022-02-14T16:46:36.644936Z",
     "iopub.status.idle": "2022-02-14T16:46:36.671261Z",
     "shell.execute_reply": "2022-02-14T16:46:36.670639Z"
    }
   },
   "outputs": [],
   "source": [
    "for n_ba in [2, 1]\n",
    "\n",
    "    println(OnePiece.extension.path.shorten(pa, n_ba))\n",
    "\n",
    "end"
   ]
  },
  {
   "cell_type": "code",
   "execution_count": null,
   "id": "9881c454",
   "metadata": {
    "execution": {
     "iopub.execute_input": "2022-02-14T16:46:36.673227Z",
     "iopub.status.busy": "2022-02-14T16:46:36.672560Z",
     "iopub.status.idle": "2022-02-14T16:46:36.685211Z",
     "shell.execute_reply": "2022-02-14T16:46:36.684759Z"
    }
   },
   "outputs": [],
   "source": [
    "for di in [\"OnePiece.jl\", \"test\", \"OnePiece.jl/test\", \"extension\"]\n",
    "\n",
    "    println(OnePiece.extension.path.shorten(pa, di))\n",
    "\n",
    "end"
   ]
  },
  {
   "cell_type": "markdown",
   "id": "4f0f34f4",
   "metadata": {
    "execution": {
     "iopub.execute_input": "2021-10-14T18:25:54.055222Z",
     "iopub.status.busy": "2021-10-14T18:25:53.342490Z",
     "iopub.status.idle": "2021-10-14T18:26:10.352867Z",
     "shell.execute_reply": "2021-10-14T18:26:10.352370Z"
    }
   },
   "source": [
    "## clean"
   ]
  },
  {
   "cell_type": "code",
   "execution_count": null,
   "id": "9c1753ae",
   "metadata": {
    "execution": {
     "iopub.execute_input": "2022-02-14T16:46:36.687265Z",
     "iopub.status.busy": "2022-02-14T16:46:36.686617Z",
     "iopub.status.idle": "2022-02-14T16:46:36.693774Z",
     "shell.execute_reply": "2022-02-14T16:46:36.693333Z"
    }
   },
   "outputs": [],
   "source": [
    "OnePiece.extension.path.clean(\"a_b.c-d+e!f%g%h]iJK\")"
   ]
  },
  {
   "cell_type": "markdown",
   "id": "bcf7707b",
   "metadata": {
    "execution": {
     "iopub.execute_input": "2021-10-14T18:25:54.055222Z",
     "iopub.status.busy": "2021-10-14T18:25:53.342490Z",
     "iopub.status.idle": "2021-10-14T18:26:10.352867Z",
     "shell.execute_reply": "2021-10-14T18:26:10.352370Z"
    }
   },
   "source": [
    "## make_absolute"
   ]
  },
  {
   "cell_type": "code",
   "execution_count": null,
   "id": "b861b0f9",
   "metadata": {
    "execution": {
     "iopub.execute_input": "2022-02-14T16:46:36.695779Z",
     "iopub.status.busy": "2022-02-14T16:46:36.695205Z",
     "iopub.status.idle": "2022-02-14T16:46:36.710278Z",
     "shell.execute_reply": "2022-02-14T16:46:36.709818Z"
    }
   },
   "outputs": [],
   "source": [
    "for pa in [\"~/file\", \"~/directory/\"]\n",
    "\n",
    "    println(OnePiece.extension.path.make_absolute(pa))\n",
    "\n",
    "end"
   ]
  },
  {
   "cell_type": "markdown",
   "id": "53c74cab",
   "metadata": {},
   "source": [
    "## remove_extension"
   ]
  },
  {
   "cell_type": "code",
   "execution_count": null,
   "id": "f701b595",
   "metadata": {
    "execution": {
     "iopub.execute_input": "2022-02-14T16:46:36.712399Z",
     "iopub.status.busy": "2022-02-14T16:46:36.711766Z",
     "iopub.status.idle": "2022-02-14T16:46:36.716636Z",
     "shell.execute_reply": "2022-02-14T16:46:36.716182Z"
    }
   },
   "outputs": [],
   "source": [
    "OnePiece.extension.path.remove_extension(\"/path/to/a/file.extension\")"
   ]
  },
  {
   "cell_type": "code",
   "execution_count": null,
   "id": "ec900856",
   "metadata": {
    "execution": {
     "iopub.execute_input": "2022-02-14T16:46:36.718701Z",
     "iopub.status.busy": "2022-02-14T16:46:36.717927Z",
     "iopub.status.idle": "2022-02-14T16:46:36.720544Z",
     "shell.execute_reply": "2022-02-14T16:46:36.719281Z"
    }
   },
   "outputs": [],
   "source": [
    "OnePiece.extension.path.remove_extension(\"/path/to/a/file\")"
   ]
  },
  {
   "cell_type": "code",
   "execution_count": null,
   "id": "9dc8a8bd",
   "metadata": {
    "execution": {
     "iopub.execute_input": "2022-02-14T16:46:36.722570Z",
     "iopub.status.busy": "2022-02-14T16:46:36.721798Z",
     "iopub.status.idle": "2022-02-14T16:46:36.724294Z",
     "shell.execute_reply": "2022-02-14T16:46:36.723135Z"
    }
   },
   "outputs": [],
   "source": [
    "OnePiece.extension.path.remove_extension(\"/path/to/a/directory/\")"
   ]
  },
  {
   "cell_type": "markdown",
   "id": "7670ee74",
   "metadata": {
    "execution": {
     "iopub.execute_input": "2021-10-14T18:25:54.055222Z",
     "iopub.status.busy": "2021-10-14T18:25:53.342490Z",
     "iopub.status.idle": "2021-10-14T18:26:10.352867Z",
     "shell.execute_reply": "2021-10-14T18:26:10.352370Z"
    }
   },
   "source": [
    "## select"
   ]
  },
  {
   "cell_type": "code",
   "execution_count": null,
   "id": "9304e507",
   "metadata": {
    "execution": {
     "iopub.execute_input": "2022-02-14T16:46:36.726369Z",
     "iopub.status.busy": "2022-02-14T16:46:36.725596Z",
     "iopub.status.idle": "2022-02-14T16:46:36.727428Z",
     "shell.execute_reply": "2022-02-14T16:46:36.726909Z"
    }
   },
   "outputs": [],
   "source": [
    "di = homedir()\n",
    "\n",
    ";"
   ]
  },
  {
   "cell_type": "code",
   "execution_count": null,
   "id": "402bdee9",
   "metadata": {
    "execution": {
     "iopub.execute_input": "2022-02-14T16:46:36.729333Z",
     "iopub.status.busy": "2022-02-14T16:46:36.728632Z",
     "iopub.status.idle": "2022-02-14T16:46:37.648473Z",
     "shell.execute_reply": "2022-02-14T16:46:37.648021Z"
    }
   },
   "outputs": [],
   "source": [
    "OnePiece.extension.path.select(di)"
   ]
  },
  {
   "cell_type": "code",
   "execution_count": null,
   "id": "fcb166f2",
   "metadata": {
    "execution": {
     "iopub.execute_input": "2022-02-14T16:46:37.650433Z",
     "iopub.status.busy": "2022-02-14T16:46:37.649821Z",
     "iopub.status.idle": "2022-02-14T16:46:37.702639Z",
     "shell.execute_reply": "2022-02-14T16:46:37.702182Z"
    }
   },
   "outputs": [],
   "source": [
    "OnePiece.extension.path.select(di; ig_ = [], ke_ = [r\"^\\.\"], jo = false)"
   ]
  },
  {
   "cell_type": "markdown",
   "id": "d8111d32",
   "metadata": {},
   "source": [
    "## error_missing_path"
   ]
  },
  {
   "cell_type": "code",
   "execution_count": null,
   "id": "aeefbc77",
   "metadata": {
    "execution": {
     "iopub.execute_input": "2022-02-14T16:46:37.704774Z",
     "iopub.status.busy": "2022-02-14T16:46:37.703984Z",
     "iopub.status.idle": "2022-02-14T16:46:37.706455Z",
     "shell.execute_reply": "2022-02-14T16:46:37.705290Z"
    }
   },
   "outputs": [],
   "source": [
    "go = \"extension/path.ipynb\""
   ]
  },
  {
   "cell_type": "code",
   "execution_count": null,
   "id": "1cf0d05a",
   "metadata": {
    "execution": {
     "iopub.execute_input": "2022-02-14T16:46:37.708199Z",
     "iopub.status.busy": "2022-02-14T16:46:37.707625Z",
     "iopub.status.idle": "2022-02-14T16:46:37.725659Z",
     "shell.execute_reply": "2022-02-14T16:46:37.725126Z"
    }
   },
   "outputs": [],
   "source": [
    "OnePiece.extension.path.error_missing_path(dirname(@__DIR__), [go])"
   ]
  },
  {
   "cell_type": "code",
   "execution_count": null,
   "id": "fb80aeb5",
   "metadata": {
    "execution": {
     "iopub.execute_input": "2022-02-14T16:46:37.727540Z",
     "iopub.status.busy": "2022-02-14T16:46:37.726972Z",
     "iopub.status.idle": "2022-02-14T16:46:37.757915Z",
     "shell.execute_reply": "2022-02-14T16:46:37.757469Z"
    }
   },
   "outputs": [],
   "source": [
    "try\n",
    "\n",
    "    OnePiece.extension.path.error_missing_path(\n",
    "        dirname(@__DIR__),\n",
    "        [go, \"missing/file\", \"missing/directory/\"],\n",
    "    )\n",
    "\n",
    "catch er\n",
    "\n",
    "    er\n",
    "\n",
    "end"
   ]
  },
  {
   "cell_type": "markdown",
   "id": "d120dae4",
   "metadata": {},
   "source": [
    "## error_extension"
   ]
  },
  {
   "cell_type": "code",
   "execution_count": null,
   "id": "5551c780",
   "metadata": {
    "execution": {
     "iopub.execute_input": "2022-02-14T16:46:37.759994Z",
     "iopub.status.busy": "2022-02-14T16:46:37.759415Z",
     "iopub.status.idle": "2022-02-14T16:46:37.764212Z",
     "shell.execute_reply": "2022-02-14T16:46:37.763624Z"
    }
   },
   "outputs": [],
   "source": [
    "OnePiece.extension.path.error_extension(\"file.extension\", \".extension\")"
   ]
  },
  {
   "cell_type": "code",
   "execution_count": null,
   "id": "9b7bcf9e",
   "metadata": {
    "execution": {
     "iopub.execute_input": "2022-02-14T16:46:37.766255Z",
     "iopub.status.busy": "2022-02-14T16:46:37.765534Z",
     "iopub.status.idle": "2022-02-14T16:46:38.693797Z",
     "shell.execute_reply": "2022-02-14T16:46:38.693352Z"
    }
   },
   "outputs": [],
   "source": [
    "for ex in [\"extension\", \".another_extension\"]\n",
    "\n",
    "    try\n",
    "\n",
    "        OnePiece.extension.path.error_extension(\"file.extension\", ex)\n",
    "\n",
    "    catch er\n",
    "\n",
    "        println(er)\n",
    "\n",
    "    end\n",
    "\n",
    "end"
   ]
  },
  {
   "cell_type": "markdown",
   "id": "0ccb2bfe",
   "metadata": {
    "execution": {
     "iopub.execute_input": "2021-10-14T18:25:54.055222Z",
     "iopub.status.busy": "2021-10-14T18:25:53.342490Z",
     "iopub.status.idle": "2021-10-14T18:26:10.352867Z",
     "shell.execute_reply": "2021-10-14T18:26:10.352370Z"
    }
   },
   "source": [
    "## move"
   ]
  },
  {
   "cell_type": "code",
   "execution_count": null,
   "id": "d86d391b",
   "metadata": {
    "execution": {
     "iopub.execute_input": "2022-02-14T16:46:38.695836Z",
     "iopub.status.busy": "2022-02-14T16:46:38.695193Z",
     "iopub.status.idle": "2022-02-14T16:46:38.728292Z",
     "shell.execute_reply": "2022-02-14T16:46:38.727844Z"
    }
   },
   "outputs": [],
   "source": [
    "te = joinpath(tempdir(), \"move\")\n",
    "\n",
    "di1 = mkpath(joinpath(te, \"di1\"))\n",
    "\n",
    "di2 = mkpath(joinpath(te, \"di2\"))\n",
    "\n",
    "di3 = mkpath(joinpath(te, \"di3\"))\n",
    "\n",
    "fi1 = joinpath(di1, \"fi1\")\n",
    "\n",
    "fi2 = joinpath(di2, \"fi2\")\n",
    "\n",
    "touch(fi1)\n",
    "\n",
    "touch(fi2)\n",
    "\n",
    "run(`tree $te`)\n",
    "\n",
    ";"
   ]
  },
  {
   "cell_type": "code",
   "execution_count": null,
   "id": "caf10005",
   "metadata": {
    "execution": {
     "iopub.execute_input": "2022-02-14T16:46:38.730628Z",
     "iopub.status.busy": "2022-02-14T16:46:38.730054Z",
     "iopub.status.idle": "2022-02-14T16:46:38.921607Z",
     "shell.execute_reply": "2022-02-14T16:46:38.921190Z"
    }
   },
   "outputs": [],
   "source": [
    "fi12 = replace(fi1, \"di1\" => \"di3\")\n",
    "\n",
    "println(OnePiece.extension.path.move(fi1, fi12))\n",
    "\n",
    "run(`tree $te`)\n",
    "\n",
    ";"
   ]
  },
  {
   "cell_type": "code",
   "execution_count": null,
   "id": "37ab766d",
   "metadata": {
    "execution": {
     "iopub.execute_input": "2022-02-14T16:46:38.923738Z",
     "iopub.status.busy": "2022-02-14T16:46:38.923176Z",
     "iopub.status.idle": "2022-02-14T16:46:39.190088Z",
     "shell.execute_reply": "2022-02-14T16:46:39.189646Z"
    }
   },
   "outputs": [],
   "source": [
    "try\n",
    "\n",
    "    OnePiece.extension.path.move(di2, di3)\n",
    "\n",
    "catch er\n",
    "\n",
    "    er\n",
    "\n",
    "end"
   ]
  },
  {
   "cell_type": "code",
   "execution_count": null,
   "id": "a2b758c5",
   "metadata": {
    "execution": {
     "iopub.execute_input": "2022-02-14T16:46:39.191879Z",
     "iopub.status.busy": "2022-02-14T16:46:39.191315Z",
     "iopub.status.idle": "2022-02-14T16:46:39.214215Z",
     "shell.execute_reply": "2022-02-14T16:46:39.213753Z"
    }
   },
   "outputs": [],
   "source": [
    "println(OnePiece.extension.path.move(di2, di3; fo = true))\n",
    "\n",
    "run(`tree $te`)\n",
    "\n",
    ";"
   ]
  },
  {
   "cell_type": "markdown",
   "id": "864df5b3",
   "metadata": {},
   "source": [
    "## sed_recursively"
   ]
  },
  {
   "cell_type": "code",
   "execution_count": null,
   "id": "afc362c3",
   "metadata": {
    "execution": {
     "iopub.execute_input": "2022-02-14T16:46:39.216521Z",
     "iopub.status.busy": "2022-02-14T16:46:39.215887Z",
     "iopub.status.idle": "2022-02-14T16:46:39.242611Z",
     "shell.execute_reply": "2022-02-14T16:46:39.242192Z"
    }
   },
   "outputs": [],
   "source": [
    "fi1 = joinpath(te, \"fi1\")\n",
    "\n",
    "fi2 = joinpath(te, \"fi2\")\n",
    "\n",
    "open(fi1, \"w\") do io\n",
    "\n",
    "    write(io, \"Before\")\n",
    "\n",
    "end\n",
    "\n",
    "open(fi2, \"w\") do io\n",
    "\n",
    "    write(io, \"BeforeBefore\")\n",
    "\n",
    "end\n",
    "\n",
    "println(readline(open(fi1)))\n",
    "\n",
    "println(readline(open(fi2)))\n",
    "\n",
    ";"
   ]
  },
  {
   "cell_type": "code",
   "execution_count": null,
   "id": "4098503b",
   "metadata": {
    "execution": {
     "iopub.execute_input": "2022-02-14T16:46:39.244496Z",
     "iopub.status.busy": "2022-02-14T16:46:39.243923Z",
     "iopub.status.idle": "2022-02-14T16:46:39.455710Z",
     "shell.execute_reply": "2022-02-14T16:46:39.455258Z"
    }
   },
   "outputs": [],
   "source": [
    "OnePiece.extension.path.sed_recursively(te, [\"Before\" => \"After\"])\n",
    "\n",
    "println(readline(open(fi1)))\n",
    "\n",
    "println(readline(open(fi2)))"
   ]
  },
  {
   "cell_type": "markdown",
   "id": "3f396855",
   "metadata": {},
   "source": [
    "---"
   ]
  },
  {
   "cell_type": "code",
   "execution_count": null,
   "id": "b4af2023",
   "metadata": {
    "execution": {
     "iopub.execute_input": "2022-02-14T16:46:39.457735Z",
     "iopub.status.busy": "2022-02-14T16:46:39.457167Z",
     "iopub.status.idle": "2022-02-14T16:46:39.459535Z",
     "shell.execute_reply": "2022-02-14T16:46:39.459129Z"
    }
   },
   "outputs": [],
   "source": [
    "if isdir(TE)\n",
    "\n",
    "    rm(TE, recursive = true)\n",
    "\n",
    "    println(\"Removed \", TE, \".\")\n",
    "\n",
    "end"
   ]
  }
 ],
 "metadata": {
  "kernelspec": {
   "display_name": "Julia 1.7.2",
   "language": "julia",
   "name": "julia-1.7"
  },
  "language_info": {
   "file_extension": ".jl",
   "mimetype": "application/julia",
   "name": "julia",
   "version": "1.7.2"
  }
 },
 "nbformat": 4,
 "nbformat_minor": 5
}
