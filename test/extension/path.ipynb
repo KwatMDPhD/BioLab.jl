{
 "cells": [
  {
   "cell_type": "code",
   "execution_count": null,
   "id": "34e4701e",
   "metadata": {
    "execution": {
     "iopub.execute_input": "2022-02-08T08:33:14.304663Z",
     "iopub.status.busy": "2022-02-08T08:33:13.873993Z",
     "iopub.status.idle": "2022-02-08T08:33:15.158063Z",
     "shell.execute_reply": "2022-02-08T08:33:15.157520Z"
    }
   },
   "outputs": [],
   "source": [
    "using Revise\n",
    "using BenchmarkTools"
   ]
  },
  {
   "cell_type": "code",
   "execution_count": null,
   "id": "871c335e",
   "metadata": {
    "execution": {
     "iopub.execute_input": "2022-02-08T08:33:15.160087Z",
     "iopub.status.busy": "2022-02-08T08:33:15.159464Z",
     "iopub.status.idle": "2022-02-08T08:33:27.135797Z",
     "shell.execute_reply": "2022-02-08T08:33:27.135335Z"
    }
   },
   "outputs": [],
   "source": [
    "using OnePiece"
   ]
  },
  {
   "cell_type": "markdown",
   "id": "174f3b9b",
   "metadata": {
    "execution": {
     "iopub.execute_input": "2021-10-14T18:25:54.055222Z",
     "iopub.status.busy": "2021-10-14T18:25:53.342490Z",
     "iopub.status.idle": "2021-10-14T18:26:10.352867Z",
     "shell.execute_reply": "2021-10-14T18:26:10.352370Z"
    }
   },
   "source": [
    "## shorten"
   ]
  },
  {
   "cell_type": "code",
   "execution_count": null,
   "id": "685c8b90",
   "metadata": {
    "execution": {
     "iopub.execute_input": "2022-02-08T08:33:29.036169Z",
     "iopub.status.busy": "2022-02-08T08:33:27.137268Z",
     "iopub.status.idle": "2022-02-08T08:33:30.263298Z",
     "shell.execute_reply": "2022-02-08T08:33:30.262919Z"
    }
   },
   "outputs": [],
   "source": [
    "pa = pwd()"
   ]
  },
  {
   "cell_type": "code",
   "execution_count": null,
   "id": "e40c9529",
   "metadata": {
    "execution": {
     "iopub.execute_input": "2022-02-08T08:33:30.265117Z",
     "iopub.status.busy": "2022-02-08T08:33:30.264543Z",
     "iopub.status.idle": "2022-02-08T08:33:30.806068Z",
     "shell.execute_reply": "2022-02-08T08:33:30.805684Z"
    }
   },
   "outputs": [],
   "source": [
    "try\n",
    "\n",
    "    OnePiece.extension.path.shorten(pa, \"Shanks\")\n",
    "\n",
    "catch er\n",
    "\n",
    "    er\n",
    "\n",
    "end"
   ]
  },
  {
   "cell_type": "code",
   "execution_count": null,
   "id": "f8f20090",
   "metadata": {
    "execution": {
     "iopub.execute_input": "2022-02-08T08:33:30.808152Z",
     "iopub.status.busy": "2022-02-08T08:33:30.807517Z",
     "iopub.status.idle": "2022-02-08T08:33:30.853983Z",
     "shell.execute_reply": "2022-02-08T08:33:30.853540Z"
    }
   },
   "outputs": [],
   "source": [
    "for n_ba in [2, 1]\n",
    "\n",
    "    println(OnePiece.extension.path.shorten(pa, n_ba))\n",
    "\n",
    "end"
   ]
  },
  {
   "cell_type": "code",
   "execution_count": null,
   "id": "9881c454",
   "metadata": {
    "execution": {
     "iopub.execute_input": "2022-02-08T08:33:30.855707Z",
     "iopub.status.busy": "2022-02-08T08:33:30.855216Z",
     "iopub.status.idle": "2022-02-08T08:33:30.881895Z",
     "shell.execute_reply": "2022-02-08T08:33:30.881485Z"
    }
   },
   "outputs": [],
   "source": [
    "for di in [\"OnePiece.jl\", \"test\", \"OnePiece.jl/test\", \"extension\"]\n",
    "\n",
    "    println(OnePiece.extension.path.shorten(pa, di))\n",
    "\n",
    "end"
   ]
  },
  {
   "cell_type": "markdown",
   "id": "4f0f34f4",
   "metadata": {
    "execution": {
     "iopub.execute_input": "2021-10-14T18:25:54.055222Z",
     "iopub.status.busy": "2021-10-14T18:25:53.342490Z",
     "iopub.status.idle": "2021-10-14T18:26:10.352867Z",
     "shell.execute_reply": "2021-10-14T18:26:10.352370Z"
    }
   },
   "source": [
    "## clean"
   ]
  },
  {
   "cell_type": "code",
   "execution_count": null,
   "id": "9c1753ae",
   "metadata": {
    "execution": {
     "iopub.execute_input": "2022-02-08T08:33:30.883868Z",
     "iopub.status.busy": "2022-02-08T08:33:30.883300Z",
     "iopub.status.idle": "2022-02-08T08:33:30.916488Z",
     "shell.execute_reply": "2022-02-08T08:33:30.916103Z"
    }
   },
   "outputs": [],
   "source": [
    "OnePiece.extension.path.clean(\"a_b.c-d+e!f%g%h]iJK\")"
   ]
  },
  {
   "cell_type": "markdown",
   "id": "bcf7707b",
   "metadata": {
    "execution": {
     "iopub.execute_input": "2021-10-14T18:25:54.055222Z",
     "iopub.status.busy": "2021-10-14T18:25:53.342490Z",
     "iopub.status.idle": "2021-10-14T18:26:10.352867Z",
     "shell.execute_reply": "2021-10-14T18:26:10.352370Z"
    }
   },
   "source": [
    "## make_absolute"
   ]
  },
  {
   "cell_type": "code",
   "execution_count": null,
   "id": "b861b0f9",
   "metadata": {
    "execution": {
     "iopub.execute_input": "2022-02-08T08:33:30.918444Z",
     "iopub.status.busy": "2022-02-08T08:33:30.917865Z",
     "iopub.status.idle": "2022-02-08T08:33:30.960643Z",
     "shell.execute_reply": "2022-02-08T08:33:30.959924Z"
    }
   },
   "outputs": [],
   "source": [
    "for pa in [\"~/file\", \"~/directory/\"]\n",
    "    \n",
    "    println(OnePiece.extension.path.make_absolute(pa))\n",
    "    \n",
    "end "
   ]
  },
  {
   "cell_type": "markdown",
   "id": "53c74cab",
   "metadata": {},
   "source": [
    "## remove_extension"
   ]
  },
  {
   "cell_type": "code",
   "execution_count": null,
   "id": "f701b595",
   "metadata": {
    "execution": {
     "iopub.execute_input": "2022-02-08T08:33:30.962557Z",
     "iopub.status.busy": "2022-02-08T08:33:30.962036Z",
     "iopub.status.idle": "2022-02-08T08:33:30.977693Z",
     "shell.execute_reply": "2022-02-08T08:33:30.977256Z"
    }
   },
   "outputs": [],
   "source": [
    "OnePiece.extension.path.remove_extension(\"/path/to/a/file.extension\")"
   ]
  },
  {
   "cell_type": "code",
   "execution_count": null,
   "id": "ec900856",
   "metadata": {
    "execution": {
     "iopub.execute_input": "2022-02-08T08:33:30.979671Z",
     "iopub.status.busy": "2022-02-08T08:33:30.979027Z",
     "iopub.status.idle": "2022-02-08T08:33:30.992605Z",
     "shell.execute_reply": "2022-02-08T08:33:30.992164Z"
    }
   },
   "outputs": [],
   "source": [
    "OnePiece.extension.path.remove_extension(\"/path/to/a/file\")"
   ]
  },
  {
   "cell_type": "code",
   "execution_count": null,
   "id": "9dc8a8bd",
   "metadata": {
    "execution": {
     "iopub.execute_input": "2022-02-08T08:33:30.994468Z",
     "iopub.status.busy": "2022-02-08T08:33:30.993855Z",
     "iopub.status.idle": "2022-02-08T08:33:31.007329Z",
     "shell.execute_reply": "2022-02-08T08:33:31.006899Z"
    }
   },
   "outputs": [],
   "source": [
    "OnePiece.extension.path.remove_extension(\"/path/to/a/directory/\")"
   ]
  },
  {
   "cell_type": "markdown",
   "id": "7670ee74",
   "metadata": {
    "execution": {
     "iopub.execute_input": "2021-10-14T18:25:54.055222Z",
     "iopub.status.busy": "2021-10-14T18:25:53.342490Z",
     "iopub.status.idle": "2021-10-14T18:26:10.352867Z",
     "shell.execute_reply": "2021-10-14T18:26:10.352370Z"
    }
   },
   "source": [
    "## select"
   ]
  },
  {
   "cell_type": "code",
   "execution_count": null,
   "id": "9304e507",
   "metadata": {
    "execution": {
     "iopub.execute_input": "2022-02-08T08:33:31.009265Z",
     "iopub.status.busy": "2022-02-08T08:33:31.008696Z",
     "iopub.status.idle": "2022-02-08T08:33:31.021388Z",
     "shell.execute_reply": "2022-02-08T08:33:31.020893Z"
    }
   },
   "outputs": [],
   "source": [
    "di = homedir()\n",
    "\n",
    ";"
   ]
  },
  {
   "cell_type": "code",
   "execution_count": null,
   "id": "402bdee9",
   "metadata": {
    "execution": {
     "iopub.execute_input": "2022-02-08T08:33:31.023302Z",
     "iopub.status.busy": "2022-02-08T08:33:31.022658Z",
     "iopub.status.idle": "2022-02-08T08:33:32.034978Z",
     "shell.execute_reply": "2022-02-08T08:33:32.034497Z"
    }
   },
   "outputs": [],
   "source": [
    "OnePiece.extension.path.select(di)"
   ]
  },
  {
   "cell_type": "code",
   "execution_count": null,
   "id": "fcb166f2",
   "metadata": {
    "execution": {
     "iopub.execute_input": "2022-02-08T08:33:32.036776Z",
     "iopub.status.busy": "2022-02-08T08:33:32.036207Z",
     "iopub.status.idle": "2022-02-08T08:33:32.099692Z",
     "shell.execute_reply": "2022-02-08T08:33:32.099290Z"
    }
   },
   "outputs": [],
   "source": [
    "OnePiece.extension.path.select(di; ig_ = [], ke_ = [r\"^\\.\"], jo = false)"
   ]
  },
  {
   "cell_type": "markdown",
   "id": "d8111d32",
   "metadata": {},
   "source": [
    "## error_missing_path"
   ]
  },
  {
   "cell_type": "code",
   "execution_count": null,
   "id": "aeefbc77",
   "metadata": {
    "execution": {
     "iopub.execute_input": "2022-02-08T08:33:32.101547Z",
     "iopub.status.busy": "2022-02-08T08:33:32.100978Z",
     "iopub.status.idle": "2022-02-08T08:33:32.114592Z",
     "shell.execute_reply": "2022-02-08T08:33:32.114128Z"
    }
   },
   "outputs": [],
   "source": [
    "go = \"extension/path.ipynb\""
   ]
  },
  {
   "cell_type": "code",
   "execution_count": null,
   "id": "1cf0d05a",
   "metadata": {
    "execution": {
     "iopub.execute_input": "2022-02-08T08:33:32.116535Z",
     "iopub.status.busy": "2022-02-08T08:33:32.115959Z",
     "iopub.status.idle": "2022-02-08T08:33:32.141143Z",
     "shell.execute_reply": "2022-02-08T08:33:32.140672Z"
    }
   },
   "outputs": [],
   "source": [
    "OnePiece.extension.path.error_missing_path(dirname(@__DIR__), [go])"
   ]
  },
  {
   "cell_type": "code",
   "execution_count": null,
   "id": "fb80aeb5",
   "metadata": {
    "execution": {
     "iopub.execute_input": "2022-02-08T08:33:32.143194Z",
     "iopub.status.busy": "2022-02-08T08:33:32.142591Z",
     "iopub.status.idle": "2022-02-08T08:33:32.183812Z",
     "shell.execute_reply": "2022-02-08T08:33:32.183423Z"
    }
   },
   "outputs": [],
   "source": [
    "try\n",
    "\n",
    "    OnePiece.extension.path.error_missing_path(\n",
    "        dirname(@__DIR__),\n",
    "        [go, \"missing/file\", \"missing/directory/\"],\n",
    "    )\n",
    "\n",
    "catch er\n",
    "\n",
    "    er\n",
    "\n",
    "end"
   ]
  },
  {
   "cell_type": "markdown",
   "id": "d120dae4",
   "metadata": {},
   "source": [
    "## error_extension"
   ]
  },
  {
   "cell_type": "code",
   "execution_count": null,
   "id": "5551c780",
   "metadata": {
    "execution": {
     "iopub.execute_input": "2022-02-08T08:33:32.185782Z",
     "iopub.status.busy": "2022-02-08T08:33:32.185241Z",
     "iopub.status.idle": "2022-02-08T08:33:32.200787Z",
     "shell.execute_reply": "2022-02-08T08:33:32.200301Z"
    }
   },
   "outputs": [],
   "source": [
    "OnePiece.extension.path.error_extension(\"file.extension\", \".extension\")"
   ]
  },
  {
   "cell_type": "code",
   "execution_count": null,
   "id": "9b7bcf9e",
   "metadata": {
    "execution": {
     "iopub.execute_input": "2022-02-08T08:33:32.202696Z",
     "iopub.status.busy": "2022-02-08T08:33:32.202130Z",
     "iopub.status.idle": "2022-02-08T08:33:33.028536Z",
     "shell.execute_reply": "2022-02-08T08:33:33.028096Z"
    }
   },
   "outputs": [],
   "source": [
    "for ex in [\"extension\", \".another_extension\"]\n",
    "    \n",
    "    try\n",
    "\n",
    "        OnePiece.extension.path.error_extension(\"file.extension\", ex)\n",
    "\n",
    "    catch er\n",
    "\n",
    "        println(er)\n",
    "\n",
    "    end\n",
    "    \n",
    "end"
   ]
  },
  {
   "cell_type": "markdown",
   "id": "0ccb2bfe",
   "metadata": {
    "execution": {
     "iopub.execute_input": "2021-10-14T18:25:54.055222Z",
     "iopub.status.busy": "2021-10-14T18:25:53.342490Z",
     "iopub.status.idle": "2021-10-14T18:26:10.352867Z",
     "shell.execute_reply": "2021-10-14T18:26:10.352370Z"
    }
   },
   "source": [
    "## move"
   ]
  },
  {
   "cell_type": "code",
   "execution_count": null,
   "id": "d86d391b",
   "metadata": {
    "execution": {
     "iopub.execute_input": "2022-02-08T08:33:33.030445Z",
     "iopub.status.busy": "2022-02-08T08:33:33.029878Z",
     "iopub.status.idle": "2022-02-08T08:33:33.074725Z",
     "shell.execute_reply": "2022-02-08T08:33:33.074225Z"
    }
   },
   "outputs": [],
   "source": [
    "te = joinpath(tempdir(), \"move\")\n",
    "\n",
    "di1 = mkpath(joinpath(te, \"di1\"))\n",
    "\n",
    "di2 = mkpath(joinpath(te, \"di2\"))\n",
    "\n",
    "di3 = mkpath(joinpath(te, \"di3\"))\n",
    "\n",
    "fi1 = joinpath(di1, \"fi1\")\n",
    "\n",
    "fi2 = joinpath(di2, \"fi2\")\n",
    "\n",
    "touch(fi1)\n",
    "\n",
    "touch(fi2)\n",
    "\n",
    "run(`tree $te`)\n",
    "\n",
    ";"
   ]
  },
  {
   "cell_type": "code",
   "execution_count": null,
   "id": "caf10005",
   "metadata": {
    "execution": {
     "iopub.execute_input": "2022-02-08T08:33:33.077149Z",
     "iopub.status.busy": "2022-02-08T08:33:33.076518Z",
     "iopub.status.idle": "2022-02-08T08:33:33.267513Z",
     "shell.execute_reply": "2022-02-08T08:33:33.267075Z"
    }
   },
   "outputs": [],
   "source": [
    "fi12 = replace(fi1, \"di1\" => \"di3\")\n",
    "\n",
    "println(OnePiece.extension.path.move(fi1, fi12))\n",
    "\n",
    "run(`tree $te`)\n",
    "\n",
    ";"
   ]
  },
  {
   "cell_type": "code",
   "execution_count": null,
   "id": "37ab766d",
   "metadata": {
    "execution": {
     "iopub.execute_input": "2022-02-08T08:33:33.269757Z",
     "iopub.status.busy": "2022-02-08T08:33:33.269185Z",
     "iopub.status.idle": "2022-02-08T08:33:33.560693Z",
     "shell.execute_reply": "2022-02-08T08:33:33.559933Z"
    }
   },
   "outputs": [],
   "source": [
    "try\n",
    "\n",
    "    OnePiece.extension.path.move(di2, di3)\n",
    "\n",
    "catch er\n",
    "\n",
    "    er\n",
    "\n",
    "end"
   ]
  },
  {
   "cell_type": "code",
   "execution_count": null,
   "id": "a2b758c5",
   "metadata": {
    "execution": {
     "iopub.execute_input": "2022-02-08T08:33:33.562624Z",
     "iopub.status.busy": "2022-02-08T08:33:33.562076Z",
     "iopub.status.idle": "2022-02-08T08:33:33.604739Z",
     "shell.execute_reply": "2022-02-08T08:33:33.603914Z"
    }
   },
   "outputs": [],
   "source": [
    "println(OnePiece.extension.path.move(di2, di3; fo = true))\n",
    "\n",
    "run(`tree $te`)\n",
    "\n",
    ";"
   ]
  },
  {
   "cell_type": "markdown",
   "id": "864df5b3",
   "metadata": {},
   "source": [
    "## sed_recursively"
   ]
  },
  {
   "cell_type": "code",
   "execution_count": null,
   "id": "afc362c3",
   "metadata": {
    "execution": {
     "iopub.execute_input": "2022-02-08T08:33:33.607543Z",
     "iopub.status.busy": "2022-02-08T08:33:33.606943Z",
     "iopub.status.idle": "2022-02-08T08:33:33.647495Z",
     "shell.execute_reply": "2022-02-08T08:33:33.647078Z"
    }
   },
   "outputs": [],
   "source": [
    "fi1 = joinpath(te, \"fi1\")\n",
    "\n",
    "fi2 = joinpath(te, \"fi2\")\n",
    "\n",
    "open(fi1, \"w\") do io\n",
    "\n",
    "    write(io, \"Before\")\n",
    "\n",
    "end\n",
    "\n",
    "open(fi2, \"w\") do io\n",
    "\n",
    "    write(io, \"BeforeBefore\")\n",
    "\n",
    "end\n",
    "\n",
    "println(readline(open(fi1)))\n",
    "\n",
    "println(readline(open(fi2)))\n",
    "\n",
    ";"
   ]
  },
  {
   "cell_type": "code",
   "execution_count": null,
   "id": "4098503b",
   "metadata": {
    "execution": {
     "iopub.execute_input": "2022-02-08T08:33:33.649444Z",
     "iopub.status.busy": "2022-02-08T08:33:33.648867Z",
     "iopub.status.idle": "2022-02-08T08:33:33.877941Z",
     "shell.execute_reply": "2022-02-08T08:33:33.876761Z"
    }
   },
   "outputs": [],
   "source": [
    "OnePiece.extension.path.sed_recursively(te, [\"Before\" => \"After\"])\n",
    "\n",
    "println(readline(open(fi1)))\n",
    "\n",
    "println(readline(open(fi2)))"
   ]
  }
 ],
 "metadata": {
  "@webio": {
   "lastCommId": null,
   "lastKernelId": null
  },
  "kernelspec": {
   "display_name": "Julia 1.7.1",
   "language": "julia",
   "name": "julia-1.7"
  },
  "language_info": {
   "file_extension": ".jl",
   "mimetype": "application/julia",
   "name": "julia",
   "version": "1.7.1"
  }
 },
 "nbformat": 4,
 "nbformat_minor": 5
}
