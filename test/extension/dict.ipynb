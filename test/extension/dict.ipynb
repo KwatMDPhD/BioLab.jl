{
 "cells": [
  {
   "cell_type": "code",
   "execution_count": null,
   "id": "017464da",
   "metadata": {
    "execution": {
     "iopub.execute_input": "2022-02-11T19:56:30.950542Z",
     "iopub.status.busy": "2022-02-11T19:56:30.561005Z",
     "iopub.status.idle": "2022-02-11T19:56:31.171920Z",
     "shell.execute_reply": "2022-02-11T19:56:31.171319Z"
    }
   },
   "outputs": [],
   "source": [
    "TE = joinpath(tempdir(), \"OnePiece.test\")\n",
    "\n",
    "if isdir(TE)\n",
    "\n",
    "    rm(TE, recursive = true)\n",
    "\n",
    "    println(\"Removed \", TE, \".\")\n",
    "\n",
    "end\n",
    "\n",
    "mkdir(TE)\n",
    "\n",
    "println(\"Made \", TE, \".\")"
   ]
  },
  {
   "cell_type": "code",
   "execution_count": null,
   "id": "34e4701e",
   "metadata": {
    "execution": {
     "iopub.execute_input": "2022-02-11T19:56:31.173885Z",
     "iopub.status.busy": "2022-02-11T19:56:31.173247Z",
     "iopub.status.idle": "2022-02-11T19:56:35.923991Z",
     "shell.execute_reply": "2022-02-11T19:56:35.923465Z"
    }
   },
   "outputs": [],
   "source": [
    "using OnePiece"
   ]
  },
  {
   "cell_type": "markdown",
   "id": "b92a3da9",
   "metadata": {},
   "source": [
    "---"
   ]
  },
  {
   "cell_type": "markdown",
   "id": "7622e7dc",
   "metadata": {},
   "source": [
    "## make"
   ]
  },
  {
   "cell_type": "code",
   "execution_count": null,
   "id": "5b789b4c",
   "metadata": {
    "execution": {
     "iopub.execute_input": "2022-02-11T19:56:36.293267Z",
     "iopub.status.busy": "2022-02-11T19:56:35.925619Z",
     "iopub.status.idle": "2022-02-11T19:56:38.171676Z",
     "shell.execute_reply": "2022-02-11T19:56:38.171134Z"
    }
   },
   "outputs": [],
   "source": [
    "OnePiece.extension.dict.make(a = 1, b = 2)"
   ]
  },
  {
   "cell_type": "markdown",
   "id": "7c7a0328",
   "metadata": {
    "execution": {
     "iopub.execute_input": "2022-02-07T19:53:17.109487Z",
     "iopub.status.busy": "2022-02-07T19:53:15.519011Z",
     "iopub.status.idle": "2022-02-07T19:53:17.994090Z",
     "shell.execute_reply": "2022-02-07T19:53:17.993635Z"
    }
   },
   "source": [
    "## view"
   ]
  },
  {
   "cell_type": "code",
   "execution_count": null,
   "id": "8f9fe131",
   "metadata": {
    "execution": {
     "iopub.execute_input": "2022-02-11T19:56:38.173722Z",
     "iopub.status.busy": "2022-02-11T19:56:38.173092Z",
     "iopub.status.idle": "2022-02-11T19:56:38.266128Z",
     "shell.execute_reply": "2022-02-11T19:56:38.265554Z"
    }
   },
   "outputs": [],
   "source": [
    "OnePiece.extension.dict.view(Dict())"
   ]
  },
  {
   "cell_type": "markdown",
   "id": "e6d28421",
   "metadata": {},
   "source": [
    "## summarize"
   ]
  },
  {
   "cell_type": "code",
   "execution_count": null,
   "id": "324e0b15",
   "metadata": {
    "execution": {
     "iopub.execute_input": "2022-02-11T19:56:38.268411Z",
     "iopub.status.busy": "2022-02-11T19:56:38.267813Z",
     "iopub.status.idle": "2022-02-11T19:56:38.800857Z",
     "shell.execute_reply": "2022-02-11T19:56:38.800349Z"
    }
   },
   "outputs": [],
   "source": [
    "OnePiece.extension.dict.summarize(\n",
    "    Dict(1 => \"a\", 2 => \"a\", 3 => \"b\", 4 => nothing, 5 => nothing, 6 => NaN),\n",
    ")"
   ]
  },
  {
   "cell_type": "markdown",
   "id": "d82a2d5c",
   "metadata": {},
   "source": [
    "## sort_recursively!"
   ]
  },
  {
   "cell_type": "code",
   "execution_count": null,
   "id": "d7558561",
   "metadata": {
    "execution": {
     "iopub.execute_input": "2022-02-11T19:56:38.803068Z",
     "iopub.status.busy": "2022-02-11T19:56:38.802335Z",
     "iopub.status.idle": "2022-02-11T19:56:40.350024Z",
     "shell.execute_reply": "2022-02-11T19:56:40.349598Z"
    }
   },
   "outputs": [],
   "source": [
    "di = Dict(\n",
    "    \"z\" => Dict(\"c\" => 1, \"b\" => 2, \"a\" => 3),\n",
    "    \"y\" => Dict(),\n",
    "    \"x\" => [3, 2, 1, Dict(\"zo\" => 2, \"lu\" => 1)],\n",
    "    \"w\" => [Dict(\"k\" => 8, \"j\" => 24), Dict(\"lo\" => 1, \"la\" => 3)],\n",
    ")\n",
    "\n",
    "OnePiece.extension.dict.view(OnePiece.extension.dict.sort_recursively!(di))"
   ]
  },
  {
   "cell_type": "markdown",
   "id": "2988a98a-d859-491b-83bd-0880462f2fcd",
   "metadata": {},
   "source": [
    "## merge"
   ]
  },
  {
   "cell_type": "code",
   "execution_count": null,
   "id": "75e1e24e",
   "metadata": {
    "execution": {
     "iopub.execute_input": "2022-02-11T19:56:40.352149Z",
     "iopub.status.busy": "2022-02-11T19:56:40.351543Z",
     "iopub.status.idle": "2022-02-11T19:56:40.384898Z",
     "shell.execute_reply": "2022-02-11T19:56:40.384378Z"
    }
   },
   "outputs": [],
   "source": [
    "di1 = Dict(\"1A\" => 1, \"B\" => Dict(\"C\" => 1, \"1D\" => 1))\n",
    "\n",
    "di2 = Dict(\"2A\" => 2, \"B\" => Dict(\"C\" => 2, \"2D\" => 2))\n",
    "\n",
    ";"
   ]
  },
  {
   "cell_type": "code",
   "execution_count": null,
   "id": "62f999fc",
   "metadata": {
    "execution": {
     "iopub.execute_input": "2022-02-11T19:56:40.386873Z",
     "iopub.status.busy": "2022-02-11T19:56:40.386279Z",
     "iopub.status.idle": "2022-02-11T19:56:40.537875Z",
     "shell.execute_reply": "2022-02-11T19:56:40.537462Z"
    }
   },
   "outputs": [],
   "source": [
    "OnePiece.extension.dict.view(OnePiece.extension.dict.merge(di1, di2))"
   ]
  },
  {
   "cell_type": "code",
   "execution_count": null,
   "id": "273f0476",
   "metadata": {
    "execution": {
     "iopub.execute_input": "2022-02-11T19:56:40.539901Z",
     "iopub.status.busy": "2022-02-11T19:56:40.539203Z",
     "iopub.status.idle": "2022-02-11T19:56:40.542553Z",
     "shell.execute_reply": "2022-02-11T19:56:40.542920Z"
    }
   },
   "outputs": [],
   "source": [
    "OnePiece.extension.dict.view(OnePiece.extension.dict.merge(di2, di1))"
   ]
  },
  {
   "cell_type": "markdown",
   "id": "c563b07c",
   "metadata": {},
   "source": [
    "## symbolize_key"
   ]
  },
  {
   "cell_type": "code",
   "execution_count": null,
   "id": "0e07e4f6",
   "metadata": {
    "execution": {
     "iopub.execute_input": "2022-02-11T19:56:40.544930Z",
     "iopub.status.busy": "2022-02-11T19:56:40.544286Z",
     "iopub.status.idle": "2022-02-11T19:56:41.648915Z",
     "shell.execute_reply": "2022-02-11T19:56:41.648414Z"
    }
   },
   "outputs": [],
   "source": [
    "OnePiece.extension.dict.symbolize_key(Dict(\"a\" => 1, \"b\" => 2.0))"
   ]
  },
  {
   "cell_type": "markdown",
   "id": "87773501",
   "metadata": {},
   "source": [
    "## read"
   ]
  },
  {
   "cell_type": "code",
   "execution_count": null,
   "id": "2acca60f",
   "metadata": {
    "execution": {
     "iopub.execute_input": "2022-02-11T19:56:41.651094Z",
     "iopub.status.busy": "2022-02-11T19:56:41.650335Z",
     "iopub.status.idle": "2022-02-11T19:56:41.652084Z",
     "shell.execute_reply": "2022-02-11T19:56:41.651629Z"
    }
   },
   "outputs": [],
   "source": [
    "da = \"dict.data\"\n",
    "\n",
    ";"
   ]
  },
  {
   "cell_type": "code",
   "execution_count": null,
   "id": "d4687e26",
   "metadata": {
    "execution": {
     "iopub.execute_input": "2022-02-11T19:56:41.654062Z",
     "iopub.status.busy": "2022-02-11T19:56:41.653401Z",
     "iopub.status.idle": "2022-02-11T19:56:41.706343Z",
     "shell.execute_reply": "2022-02-11T19:56:41.705892Z"
    }
   },
   "outputs": [],
   "source": [
    "OnePiece.extension.dict.view(OnePiece.extension.dict.read(joinpath(da, \"example_1.json\")))"
   ]
  },
  {
   "cell_type": "code",
   "execution_count": null,
   "id": "b2f113ef",
   "metadata": {
    "execution": {
     "iopub.execute_input": "2022-02-11T19:56:41.708285Z",
     "iopub.status.busy": "2022-02-11T19:56:41.707683Z",
     "iopub.status.idle": "2022-02-11T19:56:41.737563Z",
     "shell.execute_reply": "2022-02-11T19:56:41.737121Z"
    }
   },
   "outputs": [],
   "source": [
    "OnePiece.extension.dict.view(OnePiece.extension.dict.read(joinpath(da, \"example_2.json\")))"
   ]
  },
  {
   "cell_type": "code",
   "execution_count": null,
   "id": "e40557eb",
   "metadata": {
    "execution": {
     "iopub.execute_input": "2022-02-11T19:56:41.739482Z",
     "iopub.status.busy": "2022-02-11T19:56:41.738902Z",
     "iopub.status.idle": "2022-02-11T19:56:41.867370Z",
     "shell.execute_reply": "2022-02-11T19:56:41.866941Z"
    }
   },
   "outputs": [],
   "source": [
    "OnePiece.extension.dict.view(OnePiece.extension.dict.read(joinpath(da, \"example.toml\")))"
   ]
  },
  {
   "cell_type": "code",
   "execution_count": null,
   "id": "094c91bd",
   "metadata": {
    "execution": {
     "iopub.execute_input": "2022-02-11T19:56:41.869339Z",
     "iopub.status.busy": "2022-02-11T19:56:41.868759Z",
     "iopub.status.idle": "2022-02-11T19:56:42.181540Z",
     "shell.execute_reply": "2022-02-11T19:56:42.181075Z"
    }
   },
   "outputs": [],
   "source": [
    "OnePiece.extension.dict.view(OnePiece.extension.dict.read(joinpath(@__DIR__, \"dict.ipynb\")))"
   ]
  },
  {
   "cell_type": "markdown",
   "id": "7ac005d4",
   "metadata": {},
   "source": [
    "## write"
   ]
  },
  {
   "cell_type": "code",
   "execution_count": null,
   "id": "d61cce24",
   "metadata": {
    "execution": {
     "iopub.execute_input": "2022-02-11T19:56:42.183565Z",
     "iopub.status.busy": "2022-02-11T19:56:42.182991Z",
     "iopub.status.idle": "2022-02-11T19:56:42.232692Z",
     "shell.execute_reply": "2022-02-11T19:56:42.232166Z"
    }
   },
   "outputs": [],
   "source": [
    "js = joinpath(tempdir(), \"write.json\")\n",
    "\n",
    "di = Dict(\n",
    "    \"Luffy\" => \"Pirate King\",\n",
    "    \"Crews\" => [\n",
    "        \"Luffy\",\n",
    "        \"Zoro\",\n",
    "        \"Nami\",\n",
    "        \"Usopp\",\n",
    "        \"Sanji\",\n",
    "        \"Chopper\",\n",
    "        \"Robin\",\n",
    "        \"Franky\",\n",
    "        \"Brook\",\n",
    "        \"Jinbe\",\n",
    "    ],\n",
    "    \"episode\" => 1030,\n",
    ")\n",
    "\n",
    ";"
   ]
  },
  {
   "cell_type": "code",
   "execution_count": null,
   "id": "8402bcbe",
   "metadata": {
    "execution": {
     "iopub.execute_input": "2022-02-11T19:56:42.234732Z",
     "iopub.status.busy": "2022-02-11T19:56:42.234115Z",
     "iopub.status.idle": "2022-02-11T19:56:42.356597Z",
     "shell.execute_reply": "2022-02-11T19:56:42.356097Z"
    }
   },
   "outputs": [],
   "source": [
    "OnePiece.extension.dict.write(js, di)"
   ]
  },
  {
   "cell_type": "code",
   "execution_count": null,
   "id": "83445e66",
   "metadata": {
    "execution": {
     "iopub.execute_input": "2022-02-11T19:56:42.358617Z",
     "iopub.status.busy": "2022-02-11T19:56:42.357951Z",
     "iopub.status.idle": "2022-02-11T19:56:42.364432Z",
     "shell.execute_reply": "2022-02-11T19:56:42.364016Z"
    }
   },
   "outputs": [],
   "source": [
    "OnePiece.extension.dict.view(OnePiece.extension.dict.read(js))"
   ]
  },
  {
   "cell_type": "markdown",
   "id": "3f396855",
   "metadata": {},
   "source": [
    "---"
   ]
  },
  {
   "cell_type": "code",
   "execution_count": null,
   "id": "b4af2023",
   "metadata": {
    "execution": {
     "iopub.execute_input": "2022-02-11T19:56:42.366320Z",
     "iopub.status.busy": "2022-02-11T19:56:42.365744Z",
     "iopub.status.idle": "2022-02-11T19:56:42.368121Z",
     "shell.execute_reply": "2022-02-11T19:56:42.367675Z"
    }
   },
   "outputs": [],
   "source": [
    "if isdir(TE)\n",
    "\n",
    "    rm(TE, recursive = true)\n",
    "\n",
    "    println(\"Removed \", TE, \".\")\n",
    "\n",
    "end"
   ]
  }
 ],
 "metadata": {
  "kernelspec": {
   "display_name": "Julia 1.7.2",
   "language": "julia",
   "name": "julia-1.7"
  },
  "language_info": {
   "file_extension": ".jl",
   "mimetype": "application/julia",
   "name": "julia",
   "version": "1.7.2"
  }
 },
 "nbformat": 4,
 "nbformat_minor": 5
}
