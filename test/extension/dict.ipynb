{
 "cells": [
  {
   "cell_type": "code",
   "execution_count": null,
   "id": "017464da",
   "metadata": {
    "execution": {
     "iopub.execute_input": "2022-02-14T02:52:12.583416Z",
     "iopub.status.busy": "2022-02-14T02:52:12.150382Z",
     "iopub.status.idle": "2022-02-14T02:52:12.817842Z",
     "shell.execute_reply": "2022-02-14T02:52:12.817210Z"
    }
   },
   "outputs": [],
   "source": [
    "TE = joinpath(tempdir(), \"OnePiece.test\")\n",
    "\n",
    "if isdir(TE)\n",
    "\n",
    "    rm(TE, recursive = true)\n",
    "\n",
    "    println(\"Removed \", TE, \".\")\n",
    "\n",
    "end\n",
    "\n",
    "mkdir(TE)\n",
    "\n",
    "println(\"Made \", TE, \".\")"
   ]
  },
  {
   "cell_type": "code",
   "execution_count": null,
   "id": "34e4701e",
   "metadata": {
    "execution": {
     "iopub.execute_input": "2022-02-14T02:52:12.819875Z",
     "iopub.status.busy": "2022-02-14T02:52:12.819246Z",
     "iopub.status.idle": "2022-02-14T02:52:17.852266Z",
     "shell.execute_reply": "2022-02-14T02:52:17.851606Z"
    }
   },
   "outputs": [],
   "source": [
    "using OnePiece"
   ]
  },
  {
   "cell_type": "markdown",
   "id": "b92a3da9",
   "metadata": {},
   "source": [
    "---"
   ]
  },
  {
   "cell_type": "markdown",
   "id": "7622e7dc",
   "metadata": {},
   "source": [
    "## make"
   ]
  },
  {
   "cell_type": "code",
   "execution_count": null,
   "id": "5b789b4c",
   "metadata": {
    "execution": {
     "iopub.execute_input": "2022-02-14T02:52:18.239909Z",
     "iopub.status.busy": "2022-02-14T02:52:17.854543Z",
     "iopub.status.idle": "2022-02-14T02:52:20.346391Z",
     "shell.execute_reply": "2022-02-14T02:52:20.345900Z"
    }
   },
   "outputs": [],
   "source": [
    "OnePiece.extension.dict.make(a = 1, b = 2)"
   ]
  },
  {
   "cell_type": "markdown",
   "id": "7c7a0328",
   "metadata": {
    "execution": {
     "iopub.execute_input": "2022-02-07T19:53:17.109487Z",
     "iopub.status.busy": "2022-02-07T19:53:15.519011Z",
     "iopub.status.idle": "2022-02-07T19:53:17.994090Z",
     "shell.execute_reply": "2022-02-07T19:53:17.993635Z"
    }
   },
   "source": [
    "## view"
   ]
  },
  {
   "cell_type": "code",
   "execution_count": null,
   "id": "8f9fe131",
   "metadata": {
    "execution": {
     "iopub.execute_input": "2022-02-14T02:52:20.348495Z",
     "iopub.status.busy": "2022-02-14T02:52:20.347871Z",
     "iopub.status.idle": "2022-02-14T02:52:20.444045Z",
     "shell.execute_reply": "2022-02-14T02:52:20.443544Z"
    }
   },
   "outputs": [],
   "source": [
    "OnePiece.extension.dict.view(Dict())"
   ]
  },
  {
   "cell_type": "markdown",
   "id": "e6d28421",
   "metadata": {},
   "source": [
    "## summarize"
   ]
  },
  {
   "cell_type": "code",
   "execution_count": null,
   "id": "324e0b15",
   "metadata": {
    "execution": {
     "iopub.execute_input": "2022-02-14T02:52:20.446261Z",
     "iopub.status.busy": "2022-02-14T02:52:20.445533Z",
     "iopub.status.idle": "2022-02-14T02:52:21.021904Z",
     "shell.execute_reply": "2022-02-14T02:52:21.021442Z"
    }
   },
   "outputs": [],
   "source": [
    "OnePiece.extension.dict.summarize(\n",
    "    Dict(1 => \"a\", 2 => \"a\", 3 => \"b\", 4 => nothing, 5 => nothing, 6 => NaN),\n",
    ")"
   ]
  },
  {
   "cell_type": "markdown",
   "id": "d82a2d5c",
   "metadata": {},
   "source": [
    "## sort_recursively!"
   ]
  },
  {
   "cell_type": "code",
   "execution_count": null,
   "id": "d7558561",
   "metadata": {
    "execution": {
     "iopub.execute_input": "2022-02-14T02:52:21.024272Z",
     "iopub.status.busy": "2022-02-14T02:52:21.023647Z",
     "iopub.status.idle": "2022-02-14T02:52:22.748878Z",
     "shell.execute_reply": "2022-02-14T02:52:22.748427Z"
    }
   },
   "outputs": [],
   "source": [
    "di = Dict(\n",
    "    \"z\" => Dict(\"c\" => 1, \"b\" => 2, \"a\" => 3),\n",
    "    \"y\" => Dict(),\n",
    "    \"x\" => [3, 2, 1, Dict(\"zo\" => 2, \"lu\" => 1)],\n",
    "    \"w\" => [Dict(\"k\" => 8, \"j\" => 24), Dict(\"lo\" => 1, \"la\" => 3)],\n",
    ")\n",
    "\n",
    "OnePiece.extension.dict.view(OnePiece.extension.dict.sort_recursively!(di))"
   ]
  },
  {
   "cell_type": "markdown",
   "id": "2988a98a-d859-491b-83bd-0880462f2fcd",
   "metadata": {},
   "source": [
    "## merge"
   ]
  },
  {
   "cell_type": "code",
   "execution_count": null,
   "id": "75e1e24e",
   "metadata": {
    "execution": {
     "iopub.execute_input": "2022-02-14T02:52:22.750966Z",
     "iopub.status.busy": "2022-02-14T02:52:22.750349Z",
     "iopub.status.idle": "2022-02-14T02:52:22.785565Z",
     "shell.execute_reply": "2022-02-14T02:52:22.785011Z"
    }
   },
   "outputs": [],
   "source": [
    "di1 = Dict(\"1A\" => 1, \"B\" => Dict(\"C\" => 1, \"1D\" => 1))\n",
    "\n",
    "di2 = Dict(\"2A\" => 2, \"B\" => Dict(\"C\" => 2, \"2D\" => 2))\n",
    "\n",
    ";"
   ]
  },
  {
   "cell_type": "code",
   "execution_count": null,
   "id": "62f999fc",
   "metadata": {
    "execution": {
     "iopub.execute_input": "2022-02-14T02:52:22.787638Z",
     "iopub.status.busy": "2022-02-14T02:52:22.787021Z",
     "iopub.status.idle": "2022-02-14T02:52:22.951487Z",
     "shell.execute_reply": "2022-02-14T02:52:22.950967Z"
    }
   },
   "outputs": [],
   "source": [
    "OnePiece.extension.dict.view(OnePiece.extension.dict.merge(di1, di2))"
   ]
  },
  {
   "cell_type": "code",
   "execution_count": null,
   "id": "273f0476",
   "metadata": {
    "execution": {
     "iopub.execute_input": "2022-02-14T02:52:22.953487Z",
     "iopub.status.busy": "2022-02-14T02:52:22.952797Z",
     "iopub.status.idle": "2022-02-14T02:52:22.956912Z",
     "shell.execute_reply": "2022-02-14T02:52:22.956445Z"
    }
   },
   "outputs": [],
   "source": [
    "OnePiece.extension.dict.view(OnePiece.extension.dict.merge(di2, di1))"
   ]
  },
  {
   "cell_type": "markdown",
   "id": "c563b07c",
   "metadata": {},
   "source": [
    "## symbolize_key"
   ]
  },
  {
   "cell_type": "code",
   "execution_count": null,
   "id": "0e07e4f6",
   "metadata": {
    "execution": {
     "iopub.execute_input": "2022-02-14T02:52:22.959101Z",
     "iopub.status.busy": "2022-02-14T02:52:22.958429Z",
     "iopub.status.idle": "2022-02-14T02:52:24.161383Z",
     "shell.execute_reply": "2022-02-14T02:52:24.160893Z"
    }
   },
   "outputs": [],
   "source": [
    "OnePiece.extension.dict.symbolize_key(Dict(\"a\" => 1, \"b\" => 2.0))"
   ]
  },
  {
   "cell_type": "markdown",
   "id": "87773501",
   "metadata": {},
   "source": [
    "## read"
   ]
  },
  {
   "cell_type": "code",
   "execution_count": null,
   "id": "2acca60f",
   "metadata": {
    "execution": {
     "iopub.execute_input": "2022-02-14T02:52:24.163665Z",
     "iopub.status.busy": "2022-02-14T02:52:24.162855Z",
     "iopub.status.idle": "2022-02-14T02:52:24.164834Z",
     "shell.execute_reply": "2022-02-14T02:52:24.164332Z"
    }
   },
   "outputs": [],
   "source": [
    "da = \"dict.data\"\n",
    "\n",
    ";"
   ]
  },
  {
   "cell_type": "code",
   "execution_count": null,
   "id": "d4687e26",
   "metadata": {
    "execution": {
     "iopub.execute_input": "2022-02-14T02:52:24.166821Z",
     "iopub.status.busy": "2022-02-14T02:52:24.166207Z",
     "iopub.status.idle": "2022-02-14T02:52:24.221624Z",
     "shell.execute_reply": "2022-02-14T02:52:24.221151Z"
    }
   },
   "outputs": [],
   "source": [
    "OnePiece.extension.dict.view(OnePiece.extension.dict.read(joinpath(da, \"example_1.json\")))"
   ]
  },
  {
   "cell_type": "code",
   "execution_count": null,
   "id": "b2f113ef",
   "metadata": {
    "execution": {
     "iopub.execute_input": "2022-02-14T02:52:24.223686Z",
     "iopub.status.busy": "2022-02-14T02:52:24.222986Z",
     "iopub.status.idle": "2022-02-14T02:52:24.254205Z",
     "shell.execute_reply": "2022-02-14T02:52:24.253716Z"
    }
   },
   "outputs": [],
   "source": [
    "OnePiece.extension.dict.view(OnePiece.extension.dict.read(joinpath(da, \"example_2.json\")))"
   ]
  },
  {
   "cell_type": "code",
   "execution_count": null,
   "id": "e40557eb",
   "metadata": {
    "execution": {
     "iopub.execute_input": "2022-02-14T02:52:24.256189Z",
     "iopub.status.busy": "2022-02-14T02:52:24.255565Z",
     "iopub.status.idle": "2022-02-14T02:52:24.391602Z",
     "shell.execute_reply": "2022-02-14T02:52:24.391049Z"
    }
   },
   "outputs": [],
   "source": [
    "OnePiece.extension.dict.view(OnePiece.extension.dict.read(joinpath(da, \"example.toml\")))"
   ]
  },
  {
   "cell_type": "code",
   "execution_count": null,
   "id": "094c91bd",
   "metadata": {
    "execution": {
     "iopub.execute_input": "2022-02-14T02:52:24.393646Z",
     "iopub.status.busy": "2022-02-14T02:52:24.393033Z",
     "iopub.status.idle": "2022-02-14T02:52:24.716879Z",
     "shell.execute_reply": "2022-02-14T02:52:24.716416Z"
    }
   },
   "outputs": [],
   "source": [
    "OnePiece.extension.dict.view(OnePiece.extension.dict.read(joinpath(@__DIR__, \"dict.ipynb\")))"
   ]
  },
  {
   "cell_type": "markdown",
   "id": "7ac005d4",
   "metadata": {},
   "source": [
    "## write"
   ]
  },
  {
   "cell_type": "code",
   "execution_count": null,
   "id": "d61cce24",
   "metadata": {
    "execution": {
     "iopub.execute_input": "2022-02-14T02:52:24.718871Z",
     "iopub.status.busy": "2022-02-14T02:52:24.718253Z",
     "iopub.status.idle": "2022-02-14T02:52:24.773081Z",
     "shell.execute_reply": "2022-02-14T02:52:24.772473Z"
    }
   },
   "outputs": [],
   "source": [
    "js = joinpath(tempdir(), \"write.json\")\n",
    "\n",
    "di = Dict(\n",
    "    \"Luffy\" => \"Pirate King\",\n",
    "    \"Crews\" => [\n",
    "        \"Luffy\",\n",
    "        \"Zoro\",\n",
    "        \"Nami\",\n",
    "        \"Usopp\",\n",
    "        \"Sanji\",\n",
    "        \"Chopper\",\n",
    "        \"Robin\",\n",
    "        \"Franky\",\n",
    "        \"Brook\",\n",
    "        \"Jinbe\",\n",
    "    ],\n",
    "    \"episode\" => 1030,\n",
    ")\n",
    "\n",
    ";"
   ]
  },
  {
   "cell_type": "code",
   "execution_count": null,
   "id": "8402bcbe",
   "metadata": {
    "execution": {
     "iopub.execute_input": "2022-02-14T02:52:24.775629Z",
     "iopub.status.busy": "2022-02-14T02:52:24.774610Z",
     "iopub.status.idle": "2022-02-14T02:52:24.929241Z",
     "shell.execute_reply": "2022-02-14T02:52:24.928714Z"
    }
   },
   "outputs": [],
   "source": [
    "OnePiece.extension.dict.write(js, di)"
   ]
  },
  {
   "cell_type": "code",
   "execution_count": null,
   "id": "83445e66",
   "metadata": {
    "execution": {
     "iopub.execute_input": "2022-02-14T02:52:24.932759Z",
     "iopub.status.busy": "2022-02-14T02:52:24.931523Z",
     "iopub.status.idle": "2022-02-14T02:52:24.941415Z",
     "shell.execute_reply": "2022-02-14T02:52:24.940857Z"
    }
   },
   "outputs": [],
   "source": [
    "OnePiece.extension.dict.view(OnePiece.extension.dict.read(js))"
   ]
  },
  {
   "cell_type": "markdown",
   "id": "3f396855",
   "metadata": {},
   "source": [
    "---"
   ]
  },
  {
   "cell_type": "code",
   "execution_count": null,
   "id": "b4af2023",
   "metadata": {
    "execution": {
     "iopub.execute_input": "2022-02-14T02:52:24.944123Z",
     "iopub.status.busy": "2022-02-14T02:52:24.943284Z",
     "iopub.status.idle": "2022-02-14T02:52:24.947620Z",
     "shell.execute_reply": "2022-02-14T02:52:24.946697Z"
    }
   },
   "outputs": [],
   "source": [
    "if isdir(TE)\n",
    "\n",
    "    rm(TE, recursive = true)\n",
    "\n",
    "    println(\"Removed \", TE, \".\")\n",
    "\n",
    "end"
   ]
  }
 ],
 "metadata": {
  "kernelspec": {
   "display_name": "Julia 1.7.2",
   "language": "julia",
   "name": "julia-1.7"
  },
  "language_info": {
   "file_extension": ".jl",
   "mimetype": "application/julia",
   "name": "julia",
   "version": "1.7.2"
  }
 },
 "nbformat": 4,
 "nbformat_minor": 5
}
