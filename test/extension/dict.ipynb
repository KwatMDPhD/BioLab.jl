{
 "cells": [
  {
   "cell_type": "code",
   "execution_count": null,
   "id": "34e4701e",
   "metadata": {
    "execution": {
     "iopub.execute_input": "2022-02-08T11:26:40.681879Z",
     "iopub.status.busy": "2022-02-08T11:26:40.296525Z",
     "iopub.status.idle": "2022-02-08T11:26:41.487799Z",
     "shell.execute_reply": "2022-02-08T11:26:41.487308Z"
    }
   },
   "outputs": [],
   "source": [
    "using Revise\n",
    "using BenchmarkTools"
   ]
  },
  {
   "cell_type": "code",
   "execution_count": null,
   "id": "570e4b37",
   "metadata": {
    "execution": {
     "iopub.execute_input": "2022-02-08T11:26:41.489645Z",
     "iopub.status.busy": "2022-02-08T11:26:41.489121Z",
     "iopub.status.idle": "2022-02-08T11:26:52.534408Z",
     "shell.execute_reply": "2022-02-08T11:26:52.533835Z"
    }
   },
   "outputs": [],
   "source": [
    "using OnePiece"
   ]
  },
  {
   "cell_type": "markdown",
   "id": "7c7a0328",
   "metadata": {
    "execution": {
     "iopub.execute_input": "2022-02-07T19:53:17.109487Z",
     "iopub.status.busy": "2022-02-07T19:53:15.519011Z",
     "iopub.status.idle": "2022-02-07T19:53:17.994090Z",
     "shell.execute_reply": "2022-02-07T19:53:17.993635Z"
    }
   },
   "source": [
    "## view"
   ]
  },
  {
   "cell_type": "code",
   "execution_count": null,
   "id": "8f9fe131",
   "metadata": {
    "execution": {
     "iopub.execute_input": "2022-02-08T11:26:54.230459Z",
     "iopub.status.busy": "2022-02-08T11:26:52.535961Z",
     "iopub.status.idle": "2022-02-08T11:26:54.926238Z",
     "shell.execute_reply": "2022-02-08T11:26:54.925411Z"
    }
   },
   "outputs": [],
   "source": [
    "OnePiece.extension.dict.view(Dict())"
   ]
  },
  {
   "cell_type": "markdown",
   "id": "e6d28421",
   "metadata": {},
   "source": [
    "## summarize"
   ]
  },
  {
   "cell_type": "code",
   "execution_count": null,
   "id": "324e0b15",
   "metadata": {
    "execution": {
     "iopub.execute_input": "2022-02-08T11:26:54.928560Z",
     "iopub.status.busy": "2022-02-08T11:26:54.927946Z",
     "iopub.status.idle": "2022-02-08T11:26:55.526516Z",
     "shell.execute_reply": "2022-02-08T11:26:55.526145Z"
    }
   },
   "outputs": [],
   "source": [
    "OnePiece.extension.dict.summarize(\n",
    "    Dict(1 => \"a\", 2 => \"a\", 3 => \"b\", 4 => nothing, 5 => nothing, 6 => NaN),\n",
    ")"
   ]
  },
  {
   "cell_type": "markdown",
   "id": "d82a2d5c",
   "metadata": {},
   "source": [
    "## sort_recursively!"
   ]
  },
  {
   "cell_type": "code",
   "execution_count": null,
   "id": "d7558561",
   "metadata": {
    "execution": {
     "iopub.execute_input": "2022-02-08T11:26:55.528478Z",
     "iopub.status.busy": "2022-02-08T11:26:55.527871Z",
     "iopub.status.idle": "2022-02-08T11:26:56.954775Z",
     "shell.execute_reply": "2022-02-08T11:26:56.954382Z"
    }
   },
   "outputs": [],
   "source": [
    "di = Dict(\n",
    "    \"z\" => Dict(\"c\" => 1, \"b\" => 2, \"a\" => 3),\n",
    "    \"y\" => Dict(),\n",
    "    \"x\" => [3, 2, 1, Dict(\"zo\" => 2, \"lu\" => 1)],\n",
    "    \"w\" => [Dict(\"k\" => 8, \"j\" => 24), Dict(\"lo\" => 1, \"la\" => 3)],\n",
    ")\n",
    "\n",
    "OnePiece.extension.dict.view(OnePiece.extension.dict.sort_recursively!(di))"
   ]
  },
  {
   "cell_type": "markdown",
   "id": "2988a98a-d859-491b-83bd-0880462f2fcd",
   "metadata": {},
   "source": [
    "## merge"
   ]
  },
  {
   "cell_type": "code",
   "execution_count": null,
   "id": "75e1e24e",
   "metadata": {
    "execution": {
     "iopub.execute_input": "2022-02-08T11:26:56.956902Z",
     "iopub.status.busy": "2022-02-08T11:26:56.956426Z",
     "iopub.status.idle": "2022-02-08T11:26:57.016208Z",
     "shell.execute_reply": "2022-02-08T11:26:57.015698Z"
    }
   },
   "outputs": [],
   "source": [
    "di1 = Dict(\"1A\" => 1, \"B\" => Dict(\"C\" => 1, \"1D\" => 1))\n",
    "\n",
    "di2 = Dict(\"2A\" => 2, \"B\" => Dict(\"C\" => 2, \"2D\" => 2))\n",
    "\n",
    ";"
   ]
  },
  {
   "cell_type": "code",
   "execution_count": null,
   "id": "62f999fc",
   "metadata": {
    "execution": {
     "iopub.execute_input": "2022-02-08T11:26:57.018047Z",
     "iopub.status.busy": "2022-02-08T11:26:57.017480Z",
     "iopub.status.idle": "2022-02-08T11:26:57.170109Z",
     "shell.execute_reply": "2022-02-08T11:26:57.169645Z"
    }
   },
   "outputs": [],
   "source": [
    "OnePiece.extension.dict.view(OnePiece.extension.dict.merge(di1, di2))"
   ]
  },
  {
   "cell_type": "code",
   "execution_count": null,
   "id": "273f0476",
   "metadata": {
    "execution": {
     "iopub.execute_input": "2022-02-08T11:26:57.172019Z",
     "iopub.status.busy": "2022-02-08T11:26:57.171447Z",
     "iopub.status.idle": "2022-02-08T11:26:57.187221Z",
     "shell.execute_reply": "2022-02-08T11:26:57.186809Z"
    }
   },
   "outputs": [],
   "source": [
    "OnePiece.extension.dict.view(OnePiece.extension.dict.merge(di2, di1))"
   ]
  },
  {
   "cell_type": "markdown",
   "id": "c563b07c",
   "metadata": {},
   "source": [
    "## symbolize_key"
   ]
  },
  {
   "cell_type": "code",
   "execution_count": null,
   "id": "0e07e4f6",
   "metadata": {
    "execution": {
     "iopub.execute_input": "2022-02-08T11:26:57.189355Z",
     "iopub.status.busy": "2022-02-08T11:26:57.188636Z",
     "iopub.status.idle": "2022-02-08T11:26:58.523032Z",
     "shell.execute_reply": "2022-02-08T11:26:58.522640Z"
    }
   },
   "outputs": [],
   "source": [
    "OnePiece.extension.dict.symbolize_key(Dict(\"a\" => 1, \"b\" => 2.0))"
   ]
  },
  {
   "cell_type": "markdown",
   "id": "87773501",
   "metadata": {},
   "source": [
    "## read"
   ]
  },
  {
   "cell_type": "code",
   "execution_count": null,
   "id": "2acca60f",
   "metadata": {
    "execution": {
     "iopub.execute_input": "2022-02-08T11:26:58.525019Z",
     "iopub.status.busy": "2022-02-08T11:26:58.524509Z",
     "iopub.status.idle": "2022-02-08T11:26:58.537013Z",
     "shell.execute_reply": "2022-02-08T11:26:58.536528Z"
    }
   },
   "outputs": [],
   "source": [
    "da = \"dict.data\"\n",
    "\n",
    ";"
   ]
  },
  {
   "cell_type": "code",
   "execution_count": null,
   "id": "d4687e26",
   "metadata": {
    "execution": {
     "iopub.execute_input": "2022-02-08T11:26:58.538898Z",
     "iopub.status.busy": "2022-02-08T11:26:58.538332Z",
     "iopub.status.idle": "2022-02-08T11:26:58.600828Z",
     "shell.execute_reply": "2022-02-08T11:26:58.600479Z"
    }
   },
   "outputs": [],
   "source": [
    "OnePiece.extension.dict.view(OnePiece.extension.dict.read(joinpath(da, \"example_1.json\")))"
   ]
  },
  {
   "cell_type": "code",
   "execution_count": null,
   "id": "b2f113ef",
   "metadata": {
    "execution": {
     "iopub.execute_input": "2022-02-08T11:26:58.602665Z",
     "iopub.status.busy": "2022-02-08T11:26:58.602118Z",
     "iopub.status.idle": "2022-02-08T11:26:58.644068Z",
     "shell.execute_reply": "2022-02-08T11:26:58.643649Z"
    }
   },
   "outputs": [],
   "source": [
    "OnePiece.extension.dict.view(OnePiece.extension.dict.read(joinpath(da, \"example_2.json\")))"
   ]
  },
  {
   "cell_type": "code",
   "execution_count": null,
   "id": "e40557eb",
   "metadata": {
    "execution": {
     "iopub.execute_input": "2022-02-08T11:26:58.645972Z",
     "iopub.status.busy": "2022-02-08T11:26:58.645352Z",
     "iopub.status.idle": "2022-02-08T11:26:58.799027Z",
     "shell.execute_reply": "2022-02-08T11:26:58.798660Z"
    }
   },
   "outputs": [],
   "source": [
    "OnePiece.extension.dict.view(OnePiece.extension.dict.read(joinpath(da, \"example.toml\")))"
   ]
  },
  {
   "cell_type": "code",
   "execution_count": null,
   "id": "094c91bd",
   "metadata": {
    "execution": {
     "iopub.execute_input": "2022-02-08T11:26:58.801051Z",
     "iopub.status.busy": "2022-02-08T11:26:58.800531Z",
     "iopub.status.idle": "2022-02-08T11:26:59.083566Z",
     "shell.execute_reply": "2022-02-08T11:26:59.083109Z"
    }
   },
   "outputs": [],
   "source": [
    "OnePiece.extension.dict.view(OnePiece.extension.dict.read(joinpath(@__DIR__, \"dict.ipynb\")))"
   ]
  },
  {
   "cell_type": "markdown",
   "id": "7ac005d4",
   "metadata": {},
   "source": [
    "## write"
   ]
  },
  {
   "cell_type": "code",
   "execution_count": null,
   "id": "d61cce24",
   "metadata": {
    "execution": {
     "iopub.execute_input": "2022-02-08T11:26:59.086274Z",
     "iopub.status.busy": "2022-02-08T11:26:59.085385Z",
     "iopub.status.idle": "2022-02-08T11:26:59.140128Z",
     "shell.execute_reply": "2022-02-08T11:26:59.139502Z"
    }
   },
   "outputs": [],
   "source": [
    "js = joinpath(tempdir(), \"write.json\")\n",
    "\n",
    "di = Dict(\n",
    "    \"Luffy\" => \"Pirate King\",\n",
    "    \"Crews\" => [\n",
    "        \"Luffy\",\n",
    "        \"Zoro\",\n",
    "        \"Nami\",\n",
    "        \"Usopp\",\n",
    "        \"Sanji\",\n",
    "        \"Chopper\",\n",
    "        \"Robin\",\n",
    "        \"Franky\",\n",
    "        \"Brook\",\n",
    "        \"Jinbe\",\n",
    "    ],\n",
    "    \"episode\" => 1030,\n",
    ")\n",
    "\n",
    ";"
   ]
  },
  {
   "cell_type": "code",
   "execution_count": null,
   "id": "8402bcbe",
   "metadata": {
    "execution": {
     "iopub.execute_input": "2022-02-08T11:26:59.141996Z",
     "iopub.status.busy": "2022-02-08T11:26:59.141396Z",
     "iopub.status.idle": "2022-02-08T11:26:59.250668Z",
     "shell.execute_reply": "2022-02-08T11:26:59.250294Z"
    }
   },
   "outputs": [],
   "source": [
    "OnePiece.extension.dict.write(js, di)"
   ]
  },
  {
   "cell_type": "code",
   "execution_count": null,
   "id": "83445e66",
   "metadata": {
    "execution": {
     "iopub.execute_input": "2022-02-08T11:26:59.252679Z",
     "iopub.status.busy": "2022-02-08T11:26:59.252087Z",
     "iopub.status.idle": "2022-02-08T11:26:59.271771Z",
     "shell.execute_reply": "2022-02-08T11:26:59.271287Z"
    }
   },
   "outputs": [],
   "source": [
    "OnePiece.extension.dict.view(OnePiece.extension.dict.read(js))"
   ]
  }
 ],
 "metadata": {
  "@webio": {
   "lastCommId": null,
   "lastKernelId": null
  },
  "kernelspec": {
   "display_name": "Julia 1.7.1",
   "language": "julia",
   "name": "julia-1.7"
  },
  "language_info": {
   "file_extension": ".jl",
   "mimetype": "application/julia",
   "name": "julia",
   "version": "1.7.1"
  }
 },
 "nbformat": 4,
 "nbformat_minor": 5
}
