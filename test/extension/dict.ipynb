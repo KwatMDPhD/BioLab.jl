{
 "cells": [
  {
   "cell_type": "code",
   "execution_count": null,
   "id": "017464da",
   "metadata": {},
   "outputs": [],
   "source": [
    "TE = joinpath(tempdir(), \"OnePiece.test\")\n",
    "\n",
    "mkpath(TE)"
   ]
  },
  {
   "cell_type": "code",
   "execution_count": 1,
   "id": "34e4701e",
   "metadata": {
    "execution": {
     "iopub.execute_input": "2022-02-10T17:51:23.590384Z",
     "iopub.status.busy": "2022-02-10T17:51:23.250154Z",
     "iopub.status.idle": "2022-02-10T17:51:24.482021Z",
     "shell.execute_reply": "2022-02-10T17:51:24.481306Z"
    }
   },
   "outputs": [],
   "source": [
    "#using Revise\n",
    "using BenchmarkTools\n",
    "\n",
    "using OnePiece"
   ]
  },
  {
   "cell_type": "markdown",
   "id": "69b77359",
   "metadata": {},
   "source": [
    "---"
   ]
  },
  {
   "cell_type": "markdown",
   "id": "7622e7dc",
   "metadata": {},
   "source": [
    "## make"
   ]
  },
  {
   "cell_type": "code",
   "execution_count": null,
   "id": "5b789b4c",
   "metadata": {
    "execution": {
     "iopub.execute_input": "2022-02-10T19:02:46.347015Z",
     "iopub.status.busy": "2022-02-10T19:02:45.922025Z",
     "iopub.status.idle": "2022-02-10T19:02:48.038591Z",
     "shell.execute_reply": "2022-02-10T19:02:48.038074Z"
    }
   },
   "outputs": [],
   "source": [
    "OnePiece.extension.dict.make(a=1, b=2)"
   ]
  },
  {
   "cell_type": "markdown",
   "id": "7c7a0328",
   "metadata": {
    "execution": {
     "iopub.execute_input": "2022-02-07T19:53:17.109487Z",
     "iopub.status.busy": "2022-02-07T19:53:15.519011Z",
     "iopub.status.idle": "2022-02-07T19:53:17.994090Z",
     "shell.execute_reply": "2022-02-07T19:53:17.993635Z"
    }
   },
   "source": [
    "## view"
   ]
  },
  {
   "cell_type": "code",
   "execution_count": null,
   "id": "8f9fe131",
   "metadata": {
    "execution": {
     "iopub.execute_input": "2022-02-10T19:02:48.040406Z",
     "iopub.status.busy": "2022-02-10T19:02:48.039834Z",
     "iopub.status.idle": "2022-02-10T19:02:48.117902Z",
     "shell.execute_reply": "2022-02-10T19:02:48.117458Z"
    }
   },
   "outputs": [],
   "source": [
    "OnePiece.extension.dict.view(Dict())"
   ]
  },
  {
   "cell_type": "markdown",
   "id": "e6d28421",
   "metadata": {},
   "source": [
    "## summarize"
   ]
  },
  {
   "cell_type": "code",
   "execution_count": null,
   "id": "324e0b15",
   "metadata": {
    "execution": {
     "iopub.execute_input": "2022-02-10T19:02:48.119710Z",
     "iopub.status.busy": "2022-02-10T19:02:48.119141Z",
     "iopub.status.idle": "2022-02-10T19:02:48.655527Z",
     "shell.execute_reply": "2022-02-10T19:02:48.654998Z"
    }
   },
   "outputs": [],
   "source": [
    "OnePiece.extension.dict.summarize(\n",
    "    Dict(1 => \"a\", 2 => \"a\", 3 => \"b\", 4 => nothing, 5 => nothing, 6 => NaN),\n",
    ")"
   ]
  },
  {
   "cell_type": "markdown",
   "id": "d82a2d5c",
   "metadata": {},
   "source": [
    "## sort_recursively!"
   ]
  },
  {
   "cell_type": "code",
   "execution_count": null,
   "id": "d7558561",
   "metadata": {
    "execution": {
     "iopub.execute_input": "2022-02-10T19:02:48.657690Z",
     "iopub.status.busy": "2022-02-10T19:02:48.656980Z",
     "iopub.status.idle": "2022-02-10T19:02:50.408744Z",
     "shell.execute_reply": "2022-02-10T19:02:50.408270Z"
    }
   },
   "outputs": [],
   "source": [
    "di = Dict(\n",
    "    \"z\" => Dict(\"c\" => 1, \"b\" => 2, \"a\" => 3),\n",
    "    \"y\" => Dict(),\n",
    "    \"x\" => [3, 2, 1, Dict(\"zo\" => 2, \"lu\" => 1)],\n",
    "    \"w\" => [Dict(\"k\" => 8, \"j\" => 24), Dict(\"lo\" => 1, \"la\" => 3)],\n",
    ")\n",
    "\n",
    "OnePiece.extension.dict.view(OnePiece.extension.dict.sort_recursively!(di))"
   ]
  },
  {
   "cell_type": "markdown",
   "id": "2988a98a-d859-491b-83bd-0880462f2fcd",
   "metadata": {},
   "source": [
    "## merge"
   ]
  },
  {
   "cell_type": "code",
   "execution_count": null,
   "id": "75e1e24e",
   "metadata": {
    "execution": {
     "iopub.execute_input": "2022-02-10T19:02:50.410711Z",
     "iopub.status.busy": "2022-02-10T19:02:50.410074Z",
     "iopub.status.idle": "2022-02-10T19:02:50.443639Z",
     "shell.execute_reply": "2022-02-10T19:02:50.443133Z"
    }
   },
   "outputs": [],
   "source": [
    "di1 = Dict(\"1A\" => 1, \"B\" => Dict(\"C\" => 1, \"1D\" => 1))\n",
    "\n",
    "di2 = Dict(\"2A\" => 2, \"B\" => Dict(\"C\" => 2, \"2D\" => 2))\n",
    "\n",
    ";"
   ]
  },
  {
   "cell_type": "code",
   "execution_count": null,
   "id": "62f999fc",
   "metadata": {
    "execution": {
     "iopub.execute_input": "2022-02-10T19:02:50.445437Z",
     "iopub.status.busy": "2022-02-10T19:02:50.444855Z",
     "iopub.status.idle": "2022-02-10T19:02:50.605897Z",
     "shell.execute_reply": "2022-02-10T19:02:50.605453Z"
    }
   },
   "outputs": [],
   "source": [
    "OnePiece.extension.dict.view(OnePiece.extension.dict.merge(di1, di2))"
   ]
  },
  {
   "cell_type": "code",
   "execution_count": null,
   "id": "273f0476",
   "metadata": {
    "execution": {
     "iopub.execute_input": "2022-02-10T19:02:50.607831Z",
     "iopub.status.busy": "2022-02-10T19:02:50.607188Z",
     "iopub.status.idle": "2022-02-10T19:02:50.610960Z",
     "shell.execute_reply": "2022-02-10T19:02:50.610554Z"
    }
   },
   "outputs": [],
   "source": [
    "OnePiece.extension.dict.view(OnePiece.extension.dict.merge(di2, di1))"
   ]
  },
  {
   "cell_type": "markdown",
   "id": "c563b07c",
   "metadata": {},
   "source": [
    "## symbolize_key"
   ]
  },
  {
   "cell_type": "code",
   "execution_count": null,
   "id": "0e07e4f6",
   "metadata": {
    "execution": {
     "iopub.execute_input": "2022-02-10T19:02:50.612865Z",
     "iopub.status.busy": "2022-02-10T19:02:50.612298Z",
     "iopub.status.idle": "2022-02-10T19:02:51.791059Z",
     "shell.execute_reply": "2022-02-10T19:02:51.790518Z"
    }
   },
   "outputs": [],
   "source": [
    "OnePiece.extension.dict.symbolize_key(Dict(\"a\" => 1, \"b\" => 2.0))"
   ]
  },
  {
   "cell_type": "markdown",
   "id": "87773501",
   "metadata": {},
   "source": [
    "## read"
   ]
  },
  {
   "cell_type": "code",
   "execution_count": null,
   "id": "2acca60f",
   "metadata": {
    "execution": {
     "iopub.execute_input": "2022-02-10T19:02:51.793391Z",
     "iopub.status.busy": "2022-02-10T19:02:51.792644Z",
     "iopub.status.idle": "2022-02-10T19:02:51.794370Z",
     "shell.execute_reply": "2022-02-10T19:02:51.793919Z"
    }
   },
   "outputs": [],
   "source": [
    "da = \"dict.data\"\n",
    "\n",
    ";"
   ]
  },
  {
   "cell_type": "code",
   "execution_count": null,
   "id": "d4687e26",
   "metadata": {
    "execution": {
     "iopub.execute_input": "2022-02-10T19:02:51.796107Z",
     "iopub.status.busy": "2022-02-10T19:02:51.795546Z",
     "iopub.status.idle": "2022-02-10T19:02:51.846670Z",
     "shell.execute_reply": "2022-02-10T19:02:51.846221Z"
    }
   },
   "outputs": [],
   "source": [
    "OnePiece.extension.dict.view(OnePiece.extension.dict.read(joinpath(da, \"example_1.json\")))"
   ]
  },
  {
   "cell_type": "code",
   "execution_count": null,
   "id": "b2f113ef",
   "metadata": {
    "execution": {
     "iopub.execute_input": "2022-02-10T19:02:51.848809Z",
     "iopub.status.busy": "2022-02-10T19:02:51.848080Z",
     "iopub.status.idle": "2022-02-10T19:02:51.877364Z",
     "shell.execute_reply": "2022-02-10T19:02:51.876920Z"
    }
   },
   "outputs": [],
   "source": [
    "OnePiece.extension.dict.view(OnePiece.extension.dict.read(joinpath(da, \"example_2.json\")))"
   ]
  },
  {
   "cell_type": "code",
   "execution_count": null,
   "id": "e40557eb",
   "metadata": {
    "execution": {
     "iopub.execute_input": "2022-02-10T19:02:51.879136Z",
     "iopub.status.busy": "2022-02-10T19:02:51.878570Z",
     "iopub.status.idle": "2022-02-10T19:02:52.007048Z",
     "shell.execute_reply": "2022-02-10T19:02:52.006598Z"
    }
   },
   "outputs": [],
   "source": [
    "OnePiece.extension.dict.view(OnePiece.extension.dict.read(joinpath(da, \"example.toml\")))"
   ]
  },
  {
   "cell_type": "code",
   "execution_count": null,
   "id": "094c91bd",
   "metadata": {
    "execution": {
     "iopub.execute_input": "2022-02-10T19:02:52.008914Z",
     "iopub.status.busy": "2022-02-10T19:02:52.008300Z",
     "iopub.status.idle": "2022-02-10T19:02:52.297458Z",
     "shell.execute_reply": "2022-02-10T19:02:52.297049Z"
    }
   },
   "outputs": [],
   "source": [
    "OnePiece.extension.dict.view(OnePiece.extension.dict.read(joinpath(@__DIR__, \"dict.ipynb\")))"
   ]
  },
  {
   "cell_type": "markdown",
   "id": "7ac005d4",
   "metadata": {},
   "source": [
    "## write"
   ]
  },
  {
   "cell_type": "code",
   "execution_count": null,
   "id": "d61cce24",
   "metadata": {
    "execution": {
     "iopub.execute_input": "2022-02-10T19:02:52.299345Z",
     "iopub.status.busy": "2022-02-10T19:02:52.298763Z",
     "iopub.status.idle": "2022-02-10T19:02:52.345593Z",
     "shell.execute_reply": "2022-02-10T19:02:52.345004Z"
    }
   },
   "outputs": [],
   "source": [
    "js = joinpath(tempdir(), \"write.json\")\n",
    "\n",
    "di = Dict(\n",
    "    \"Luffy\" => \"Pirate King\",\n",
    "    \"Crews\" => [\n",
    "        \"Luffy\",\n",
    "        \"Zoro\",\n",
    "        \"Nami\",\n",
    "        \"Usopp\",\n",
    "        \"Sanji\",\n",
    "        \"Chopper\",\n",
    "        \"Robin\",\n",
    "        \"Franky\",\n",
    "        \"Brook\",\n",
    "        \"Jinbe\",\n",
    "    ],\n",
    "    \"episode\" => 1030,\n",
    ")\n",
    "\n",
    ";"
   ]
  },
  {
   "cell_type": "code",
   "execution_count": null,
   "id": "8402bcbe",
   "metadata": {
    "execution": {
     "iopub.execute_input": "2022-02-10T19:02:52.347418Z",
     "iopub.status.busy": "2022-02-10T19:02:52.346850Z",
     "iopub.status.idle": "2022-02-10T19:02:52.453530Z",
     "shell.execute_reply": "2022-02-10T19:02:52.452946Z"
    }
   },
   "outputs": [],
   "source": [
    "OnePiece.extension.dict.write(js, di)"
   ]
  },
  {
   "cell_type": "code",
   "execution_count": null,
   "id": "83445e66",
   "metadata": {
    "execution": {
     "iopub.execute_input": "2022-02-10T19:02:52.455547Z",
     "iopub.status.busy": "2022-02-10T19:02:52.454880Z",
     "iopub.status.idle": "2022-02-10T19:02:52.461176Z",
     "shell.execute_reply": "2022-02-10T19:02:52.460771Z"
    }
   },
   "outputs": [],
   "source": [
    "OnePiece.extension.dict.view(OnePiece.extension.dict.read(js))"
   ]
  },
  {
   "cell_type": "markdown",
   "id": "3f396855",
   "metadata": {},
   "source": [
    "---"
   ]
  }
 ],
 "metadata": {
  "@webio": {
   "lastCommId": null,
   "lastKernelId": null
  },
  "kernelspec": {
   "display_name": "Julia 1.7.2",
   "language": "julia",
   "name": "julia-1.7"
  },
  "language_info": {
   "file_extension": ".jl",
   "mimetype": "application/julia",
   "name": "julia",
   "version": "1.7.2"
  }
 },
 "nbformat": 4,
 "nbformat_minor": 5
}
