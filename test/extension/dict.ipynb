{
 "cells": [
  {
   "cell_type": "code",
   "execution_count": null,
   "id": "34e4701e",
   "metadata": {
    "execution": {
     "iopub.execute_input": "2022-02-09T00:00:55.214544Z",
     "iopub.status.busy": "2022-02-09T00:00:54.823682Z",
     "iopub.status.idle": "2022-02-09T00:00:56.234170Z",
     "shell.execute_reply": "2022-02-09T00:00:56.233562Z"
    }
   },
   "outputs": [],
   "source": [
    "using Revise\n",
    "using BenchmarkTools"
   ]
  },
  {
   "cell_type": "code",
   "execution_count": null,
   "id": "570e4b37",
   "metadata": {
    "execution": {
     "iopub.execute_input": "2022-02-09T00:00:56.237006Z",
     "iopub.status.busy": "2022-02-09T00:00:56.236219Z",
     "iopub.status.idle": "2022-02-09T00:01:07.326298Z",
     "shell.execute_reply": "2022-02-09T00:01:07.325752Z"
    }
   },
   "outputs": [],
   "source": [
    "using OnePiece"
   ]
  },
  {
   "cell_type": "markdown",
   "id": "7c7a0328",
   "metadata": {
    "execution": {
     "iopub.execute_input": "2022-02-07T19:53:17.109487Z",
     "iopub.status.busy": "2022-02-07T19:53:15.519011Z",
     "iopub.status.idle": "2022-02-07T19:53:17.994090Z",
     "shell.execute_reply": "2022-02-07T19:53:17.993635Z"
    }
   },
   "source": [
    "## view"
   ]
  },
  {
   "cell_type": "code",
   "execution_count": null,
   "id": "8f9fe131",
   "metadata": {
    "execution": {
     "iopub.execute_input": "2022-02-09T00:01:09.051476Z",
     "iopub.status.busy": "2022-02-09T00:01:07.327962Z",
     "iopub.status.idle": "2022-02-09T00:01:09.828019Z",
     "shell.execute_reply": "2022-02-09T00:01:09.827483Z"
    }
   },
   "outputs": [],
   "source": [
    "OnePiece.extension.dict.view(Dict())"
   ]
  },
  {
   "cell_type": "markdown",
   "id": "e6d28421",
   "metadata": {},
   "source": [
    "## summarize"
   ]
  },
  {
   "cell_type": "code",
   "execution_count": null,
   "id": "324e0b15",
   "metadata": {
    "execution": {
     "iopub.execute_input": "2022-02-09T00:01:09.830097Z",
     "iopub.status.busy": "2022-02-09T00:01:09.829468Z",
     "iopub.status.idle": "2022-02-09T00:01:10.467843Z",
     "shell.execute_reply": "2022-02-09T00:01:10.467404Z"
    }
   },
   "outputs": [],
   "source": [
    "OnePiece.extension.dict.summarize(\n",
    "    Dict(1 => \"a\", 2 => \"a\", 3 => \"b\", 4 => nothing, 5 => nothing, 6 => NaN),\n",
    ")"
   ]
  },
  {
   "cell_type": "markdown",
   "id": "d82a2d5c",
   "metadata": {},
   "source": [
    "## sort_recursively!"
   ]
  },
  {
   "cell_type": "code",
   "execution_count": null,
   "id": "d7558561",
   "metadata": {
    "execution": {
     "iopub.execute_input": "2022-02-09T00:01:10.469955Z",
     "iopub.status.busy": "2022-02-09T00:01:10.469316Z",
     "iopub.status.idle": "2022-02-09T00:01:12.031007Z",
     "shell.execute_reply": "2022-02-09T00:01:12.030429Z"
    }
   },
   "outputs": [],
   "source": [
    "di = Dict(\n",
    "    \"z\" => Dict(\"c\" => 1, \"b\" => 2, \"a\" => 3),\n",
    "    \"y\" => Dict(),\n",
    "    \"x\" => [3, 2, 1, Dict(\"zo\" => 2, \"lu\" => 1)],\n",
    "    \"w\" => [Dict(\"k\" => 8, \"j\" => 24), Dict(\"lo\" => 1, \"la\" => 3)],\n",
    ")\n",
    "\n",
    "OnePiece.extension.dict.view(OnePiece.extension.dict.sort_recursively!(di))"
   ]
  },
  {
   "cell_type": "markdown",
   "id": "2988a98a-d859-491b-83bd-0880462f2fcd",
   "metadata": {},
   "source": [
    "## merge"
   ]
  },
  {
   "cell_type": "code",
   "execution_count": null,
   "id": "75e1e24e",
   "metadata": {
    "execution": {
     "iopub.execute_input": "2022-02-09T00:01:12.033250Z",
     "iopub.status.busy": "2022-02-09T00:01:12.032626Z",
     "iopub.status.idle": "2022-02-09T00:01:12.081332Z",
     "shell.execute_reply": "2022-02-09T00:01:12.080893Z"
    }
   },
   "outputs": [],
   "source": [
    "di1 = Dict(\"1A\" => 1, \"B\" => Dict(\"C\" => 1, \"1D\" => 1))\n",
    "\n",
    "di2 = Dict(\"2A\" => 2, \"B\" => Dict(\"C\" => 2, \"2D\" => 2))\n",
    "\n",
    ";"
   ]
  },
  {
   "cell_type": "code",
   "execution_count": null,
   "id": "62f999fc",
   "metadata": {
    "execution": {
     "iopub.execute_input": "2022-02-09T00:01:12.083221Z",
     "iopub.status.busy": "2022-02-09T00:01:12.082737Z",
     "iopub.status.idle": "2022-02-09T00:01:12.241202Z",
     "shell.execute_reply": "2022-02-09T00:01:12.240616Z"
    }
   },
   "outputs": [],
   "source": [
    "OnePiece.extension.dict.view(OnePiece.extension.dict.merge(di1, di2))"
   ]
  },
  {
   "cell_type": "code",
   "execution_count": null,
   "id": "273f0476",
   "metadata": {
    "execution": {
     "iopub.execute_input": "2022-02-09T00:01:12.243108Z",
     "iopub.status.busy": "2022-02-09T00:01:12.242533Z",
     "iopub.status.idle": "2022-02-09T00:01:12.257830Z",
     "shell.execute_reply": "2022-02-09T00:01:12.257381Z"
    }
   },
   "outputs": [],
   "source": [
    "OnePiece.extension.dict.view(OnePiece.extension.dict.merge(di2, di1))"
   ]
  },
  {
   "cell_type": "markdown",
   "id": "c563b07c",
   "metadata": {},
   "source": [
    "## symbolize_key"
   ]
  },
  {
   "cell_type": "code",
   "execution_count": null,
   "id": "0e07e4f6",
   "metadata": {
    "execution": {
     "iopub.execute_input": "2022-02-09T00:01:12.259885Z",
     "iopub.status.busy": "2022-02-09T00:01:12.259240Z",
     "iopub.status.idle": "2022-02-09T00:01:13.456159Z",
     "shell.execute_reply": "2022-02-09T00:01:13.455648Z"
    }
   },
   "outputs": [],
   "source": [
    "OnePiece.extension.dict.symbolize_key(Dict(\"a\" => 1, \"b\" => 2.0))"
   ]
  },
  {
   "cell_type": "markdown",
   "id": "87773501",
   "metadata": {},
   "source": [
    "## read"
   ]
  },
  {
   "cell_type": "code",
   "execution_count": null,
   "id": "2acca60f",
   "metadata": {
    "execution": {
     "iopub.execute_input": "2022-02-09T00:01:13.457853Z",
     "iopub.status.busy": "2022-02-09T00:01:13.457333Z",
     "iopub.status.idle": "2022-02-09T00:01:13.470201Z",
     "shell.execute_reply": "2022-02-09T00:01:13.469641Z"
    }
   },
   "outputs": [],
   "source": [
    "da = \"dict.data\"\n",
    "\n",
    ";"
   ]
  },
  {
   "cell_type": "code",
   "execution_count": null,
   "id": "d4687e26",
   "metadata": {
    "execution": {
     "iopub.execute_input": "2022-02-09T00:01:13.472131Z",
     "iopub.status.busy": "2022-02-09T00:01:13.471530Z",
     "iopub.status.idle": "2022-02-09T00:01:13.536567Z",
     "shell.execute_reply": "2022-02-09T00:01:13.536014Z"
    }
   },
   "outputs": [],
   "source": [
    "OnePiece.extension.dict.view(OnePiece.extension.dict.read(joinpath(da, \"example_1.json\")))"
   ]
  },
  {
   "cell_type": "code",
   "execution_count": null,
   "id": "b2f113ef",
   "metadata": {
    "execution": {
     "iopub.execute_input": "2022-02-09T00:01:13.538614Z",
     "iopub.status.busy": "2022-02-09T00:01:13.538125Z",
     "iopub.status.idle": "2022-02-09T00:01:13.581756Z",
     "shell.execute_reply": "2022-02-09T00:01:13.581342Z"
    }
   },
   "outputs": [],
   "source": [
    "OnePiece.extension.dict.view(OnePiece.extension.dict.read(joinpath(da, \"example_2.json\")))"
   ]
  },
  {
   "cell_type": "code",
   "execution_count": null,
   "id": "e40557eb",
   "metadata": {
    "execution": {
     "iopub.execute_input": "2022-02-09T00:01:13.583503Z",
     "iopub.status.busy": "2022-02-09T00:01:13.582960Z",
     "iopub.status.idle": "2022-02-09T00:01:13.715977Z",
     "shell.execute_reply": "2022-02-09T00:01:13.715479Z"
    }
   },
   "outputs": [],
   "source": [
    "OnePiece.extension.dict.view(OnePiece.extension.dict.read(joinpath(da, \"example.toml\")))"
   ]
  },
  {
   "cell_type": "code",
   "execution_count": null,
   "id": "094c91bd",
   "metadata": {
    "execution": {
     "iopub.execute_input": "2022-02-09T00:01:13.717897Z",
     "iopub.status.busy": "2022-02-09T00:01:13.717279Z",
     "iopub.status.idle": "2022-02-09T00:01:14.018146Z",
     "shell.execute_reply": "2022-02-09T00:01:14.017582Z"
    }
   },
   "outputs": [],
   "source": [
    "OnePiece.extension.dict.view(OnePiece.extension.dict.read(joinpath(@__DIR__, \"dict.ipynb\")))"
   ]
  },
  {
   "cell_type": "markdown",
   "id": "7ac005d4",
   "metadata": {},
   "source": [
    "## write"
   ]
  },
  {
   "cell_type": "code",
   "execution_count": null,
   "id": "d61cce24",
   "metadata": {
    "execution": {
     "iopub.execute_input": "2022-02-09T00:01:14.020284Z",
     "iopub.status.busy": "2022-02-09T00:01:14.019715Z",
     "iopub.status.idle": "2022-02-09T00:01:14.079082Z",
     "shell.execute_reply": "2022-02-09T00:01:14.078545Z"
    }
   },
   "outputs": [],
   "source": [
    "js = joinpath(tempdir(), \"write.json\")\n",
    "\n",
    "di = Dict(\n",
    "    \"Luffy\" => \"Pirate King\",\n",
    "    \"Crews\" => [\n",
    "        \"Luffy\",\n",
    "        \"Zoro\",\n",
    "        \"Nami\",\n",
    "        \"Usopp\",\n",
    "        \"Sanji\",\n",
    "        \"Chopper\",\n",
    "        \"Robin\",\n",
    "        \"Franky\",\n",
    "        \"Brook\",\n",
    "        \"Jinbe\",\n",
    "    ],\n",
    "    \"episode\" => 1030,\n",
    ")\n",
    "\n",
    ";"
   ]
  },
  {
   "cell_type": "code",
   "execution_count": null,
   "id": "8402bcbe",
   "metadata": {
    "execution": {
     "iopub.execute_input": "2022-02-09T00:01:14.080743Z",
     "iopub.status.busy": "2022-02-09T00:01:14.080246Z",
     "iopub.status.idle": "2022-02-09T00:01:14.213188Z",
     "shell.execute_reply": "2022-02-09T00:01:14.212553Z"
    }
   },
   "outputs": [],
   "source": [
    "OnePiece.extension.dict.write(js, di)"
   ]
  },
  {
   "cell_type": "code",
   "execution_count": null,
   "id": "83445e66",
   "metadata": {
    "execution": {
     "iopub.execute_input": "2022-02-09T00:01:14.215102Z",
     "iopub.status.busy": "2022-02-09T00:01:14.214539Z",
     "iopub.status.idle": "2022-02-09T00:01:14.232708Z",
     "shell.execute_reply": "2022-02-09T00:01:14.232306Z"
    }
   },
   "outputs": [],
   "source": [
    "OnePiece.extension.dict.view(OnePiece.extension.dict.read(js))"
   ]
  }
 ],
 "metadata": {
  "@webio": {
   "lastCommId": null,
   "lastKernelId": null
  },
  "kernelspec": {
   "display_name": "Julia 1.7.1",
   "language": "julia",
   "name": "julia-1.7"
  },
  "language_info": {
   "file_extension": ".jl",
   "mimetype": "application/julia",
   "name": "julia",
   "version": "1.7.2"
  }
 },
 "nbformat": 4,
 "nbformat_minor": 5
}
