{
 "cells": [
  {
   "cell_type": "code",
   "execution_count": null,
   "id": "017464da",
   "metadata": {
    "execution": {
     "iopub.execute_input": "2022-02-11T08:10:19.379345Z",
     "iopub.status.busy": "2022-02-11T08:10:19.018839Z",
     "iopub.status.idle": "2022-02-11T08:10:19.563722Z",
     "shell.execute_reply": "2022-02-11T08:10:19.563213Z"
    }
   },
   "outputs": [],
   "source": [
    "TE = joinpath(tempdir(), \"OnePiece.test\")\n",
    "\n",
    "if isdir(TE)\n",
    "\n",
    "    rm(TE; recursive = true)\n",
    "\n",
    "    println(\"Removed \", TE, \".\")\n",
    "\n",
    "end\n",
    "\n",
    "mkdir(TE)\n",
    "\n",
    "println(\"Made \", TE, \".\")"
   ]
  },
  {
   "cell_type": "code",
   "execution_count": null,
   "id": "34e4701e",
   "metadata": {
    "execution": {
     "iopub.execute_input": "2022-02-11T08:10:19.565673Z",
     "iopub.status.busy": "2022-02-11T08:10:19.565173Z",
     "iopub.status.idle": "2022-02-11T08:10:23.773022Z",
     "shell.execute_reply": "2022-02-11T08:10:23.772560Z"
    }
   },
   "outputs": [],
   "source": [
    "using OnePiece"
   ]
  },
  {
   "cell_type": "markdown",
   "id": "b92a3da9",
   "metadata": {},
   "source": [
    "---"
   ]
  },
  {
   "cell_type": "markdown",
   "id": "7622e7dc",
   "metadata": {},
   "source": [
    "## make"
   ]
  },
  {
   "cell_type": "code",
   "execution_count": null,
   "id": "5b789b4c",
   "metadata": {
    "execution": {
     "iopub.execute_input": "2022-02-11T08:10:24.132877Z",
     "iopub.status.busy": "2022-02-11T08:10:23.774598Z",
     "iopub.status.idle": "2022-02-11T08:10:25.874080Z",
     "shell.execute_reply": "2022-02-11T08:10:25.873688Z"
    }
   },
   "outputs": [],
   "source": [
    "OnePiece.extension.dict.make(a = 1, b = 2)"
   ]
  },
  {
   "cell_type": "markdown",
   "id": "7c7a0328",
   "metadata": {
    "execution": {
     "iopub.execute_input": "2022-02-07T19:53:17.109487Z",
     "iopub.status.busy": "2022-02-07T19:53:15.519011Z",
     "iopub.status.idle": "2022-02-07T19:53:17.994090Z",
     "shell.execute_reply": "2022-02-07T19:53:17.993635Z"
    }
   },
   "source": [
    "## view"
   ]
  },
  {
   "cell_type": "code",
   "execution_count": null,
   "id": "8f9fe131",
   "metadata": {
    "execution": {
     "iopub.execute_input": "2022-02-11T08:10:25.876078Z",
     "iopub.status.busy": "2022-02-11T08:10:25.875575Z",
     "iopub.status.idle": "2022-02-11T08:10:25.943511Z",
     "shell.execute_reply": "2022-02-11T08:10:25.942913Z"
    }
   },
   "outputs": [],
   "source": [
    "OnePiece.extension.dict.view(Dict())"
   ]
  },
  {
   "cell_type": "markdown",
   "id": "e6d28421",
   "metadata": {},
   "source": [
    "## summarize"
   ]
  },
  {
   "cell_type": "code",
   "execution_count": null,
   "id": "324e0b15",
   "metadata": {
    "execution": {
     "iopub.execute_input": "2022-02-11T08:10:25.945715Z",
     "iopub.status.busy": "2022-02-11T08:10:25.945166Z",
     "iopub.status.idle": "2022-02-11T08:10:26.412046Z",
     "shell.execute_reply": "2022-02-11T08:10:26.411651Z"
    }
   },
   "outputs": [],
   "source": [
    "OnePiece.extension.dict.summarize(\n",
    "    Dict(1 => \"a\", 2 => \"a\", 3 => \"b\", 4 => nothing, 5 => nothing, 6 => NaN),\n",
    ")"
   ]
  },
  {
   "cell_type": "markdown",
   "id": "d82a2d5c",
   "metadata": {},
   "source": [
    "## sort_recursively!"
   ]
  },
  {
   "cell_type": "code",
   "execution_count": null,
   "id": "d7558561",
   "metadata": {
    "execution": {
     "iopub.execute_input": "2022-02-11T08:10:26.414263Z",
     "iopub.status.busy": "2022-02-11T08:10:26.413621Z",
     "iopub.status.idle": "2022-02-11T08:10:27.784278Z",
     "shell.execute_reply": "2022-02-11T08:10:27.783856Z"
    }
   },
   "outputs": [],
   "source": [
    "di = Dict(\n",
    "    \"z\" => Dict(\"c\" => 1, \"b\" => 2, \"a\" => 3),\n",
    "    \"y\" => Dict(),\n",
    "    \"x\" => [3, 2, 1, Dict(\"zo\" => 2, \"lu\" => 1)],\n",
    "    \"w\" => [Dict(\"k\" => 8, \"j\" => 24), Dict(\"lo\" => 1, \"la\" => 3)],\n",
    ")\n",
    "\n",
    "OnePiece.extension.dict.view(OnePiece.extension.dict.sort_recursively!(di))"
   ]
  },
  {
   "cell_type": "markdown",
   "id": "2988a98a-d859-491b-83bd-0880462f2fcd",
   "metadata": {},
   "source": [
    "## merge"
   ]
  },
  {
   "cell_type": "code",
   "execution_count": null,
   "id": "75e1e24e",
   "metadata": {
    "execution": {
     "iopub.execute_input": "2022-02-11T08:10:27.786233Z",
     "iopub.status.busy": "2022-02-11T08:10:27.785658Z",
     "iopub.status.idle": "2022-02-11T08:10:27.818504Z",
     "shell.execute_reply": "2022-02-11T08:10:27.817945Z"
    }
   },
   "outputs": [],
   "source": [
    "di1 = Dict(\"1A\" => 1, \"B\" => Dict(\"C\" => 1, \"1D\" => 1))\n",
    "\n",
    "di2 = Dict(\"2A\" => 2, \"B\" => Dict(\"C\" => 2, \"2D\" => 2))\n",
    "\n",
    ";"
   ]
  },
  {
   "cell_type": "code",
   "execution_count": null,
   "id": "62f999fc",
   "metadata": {
    "execution": {
     "iopub.execute_input": "2022-02-11T08:10:27.820374Z",
     "iopub.status.busy": "2022-02-11T08:10:27.819803Z",
     "iopub.status.idle": "2022-02-11T08:10:27.967978Z",
     "shell.execute_reply": "2022-02-11T08:10:27.967534Z"
    }
   },
   "outputs": [],
   "source": [
    "OnePiece.extension.dict.view(OnePiece.extension.dict.merge(di1, di2))"
   ]
  },
  {
   "cell_type": "code",
   "execution_count": null,
   "id": "273f0476",
   "metadata": {
    "execution": {
     "iopub.execute_input": "2022-02-11T08:10:27.969971Z",
     "iopub.status.busy": "2022-02-11T08:10:27.969297Z",
     "iopub.status.idle": "2022-02-11T08:10:27.973110Z",
     "shell.execute_reply": "2022-02-11T08:10:27.972702Z"
    }
   },
   "outputs": [],
   "source": [
    "OnePiece.extension.dict.view(OnePiece.extension.dict.merge(di2, di1))"
   ]
  },
  {
   "cell_type": "markdown",
   "id": "c563b07c",
   "metadata": {},
   "source": [
    "## symbolize_key"
   ]
  },
  {
   "cell_type": "code",
   "execution_count": null,
   "id": "0e07e4f6",
   "metadata": {
    "execution": {
     "iopub.execute_input": "2022-02-11T08:10:27.975023Z",
     "iopub.status.busy": "2022-02-11T08:10:27.974442Z",
     "iopub.status.idle": "2022-02-11T08:10:29.008064Z",
     "shell.execute_reply": "2022-02-11T08:10:29.007665Z"
    }
   },
   "outputs": [],
   "source": [
    "OnePiece.extension.dict.symbolize_key(Dict(\"a\" => 1, \"b\" => 2.0))"
   ]
  },
  {
   "cell_type": "markdown",
   "id": "87773501",
   "metadata": {},
   "source": [
    "## read"
   ]
  },
  {
   "cell_type": "code",
   "execution_count": null,
   "id": "2acca60f",
   "metadata": {
    "execution": {
     "iopub.execute_input": "2022-02-11T08:10:29.010534Z",
     "iopub.status.busy": "2022-02-11T08:10:29.009621Z",
     "iopub.status.idle": "2022-02-11T08:10:29.011707Z",
     "shell.execute_reply": "2022-02-11T08:10:29.011321Z"
    }
   },
   "outputs": [],
   "source": [
    "da = \"dict.data\"\n",
    "\n",
    ";"
   ]
  },
  {
   "cell_type": "code",
   "execution_count": null,
   "id": "d4687e26",
   "metadata": {
    "execution": {
     "iopub.execute_input": "2022-02-11T08:10:29.014757Z",
     "iopub.status.busy": "2022-02-11T08:10:29.013432Z",
     "iopub.status.idle": "2022-02-11T08:10:29.061942Z",
     "shell.execute_reply": "2022-02-11T08:10:29.061580Z"
    }
   },
   "outputs": [],
   "source": [
    "OnePiece.extension.dict.view(OnePiece.extension.dict.read(joinpath(da, \"example_1.json\")))"
   ]
  },
  {
   "cell_type": "code",
   "execution_count": null,
   "id": "b2f113ef",
   "metadata": {
    "execution": {
     "iopub.execute_input": "2022-02-11T08:10:29.063894Z",
     "iopub.status.busy": "2022-02-11T08:10:29.063392Z",
     "iopub.status.idle": "2022-02-11T08:10:29.089834Z",
     "shell.execute_reply": "2022-02-11T08:10:29.089476Z"
    }
   },
   "outputs": [],
   "source": [
    "OnePiece.extension.dict.view(OnePiece.extension.dict.read(joinpath(da, \"example_2.json\")))"
   ]
  },
  {
   "cell_type": "code",
   "execution_count": null,
   "id": "e40557eb",
   "metadata": {
    "execution": {
     "iopub.execute_input": "2022-02-11T08:10:29.091798Z",
     "iopub.status.busy": "2022-02-11T08:10:29.091296Z",
     "iopub.status.idle": "2022-02-11T08:10:29.210445Z",
     "shell.execute_reply": "2022-02-11T08:10:29.209971Z"
    }
   },
   "outputs": [],
   "source": [
    "OnePiece.extension.dict.view(OnePiece.extension.dict.read(joinpath(da, \"example.toml\")))"
   ]
  },
  {
   "cell_type": "code",
   "execution_count": null,
   "id": "094c91bd",
   "metadata": {
    "execution": {
     "iopub.execute_input": "2022-02-11T08:10:29.212481Z",
     "iopub.status.busy": "2022-02-11T08:10:29.211874Z",
     "iopub.status.idle": "2022-02-11T08:10:29.508668Z",
     "shell.execute_reply": "2022-02-11T08:10:29.508283Z"
    }
   },
   "outputs": [],
   "source": [
    "OnePiece.extension.dict.view(OnePiece.extension.dict.read(joinpath(@__DIR__, \"dict.ipynb\")))"
   ]
  },
  {
   "cell_type": "markdown",
   "id": "7ac005d4",
   "metadata": {},
   "source": [
    "## write"
   ]
  },
  {
   "cell_type": "code",
   "execution_count": null,
   "id": "d61cce24",
   "metadata": {
    "execution": {
     "iopub.execute_input": "2022-02-11T08:10:29.510651Z",
     "iopub.status.busy": "2022-02-11T08:10:29.510039Z",
     "iopub.status.idle": "2022-02-11T08:10:29.552612Z",
     "shell.execute_reply": "2022-02-11T08:10:29.552064Z"
    }
   },
   "outputs": [],
   "source": [
    "js = joinpath(tempdir(), \"write.json\")\n",
    "\n",
    "di = Dict(\n",
    "    \"Luffy\" => \"Pirate King\",\n",
    "    \"Crews\" => [\n",
    "        \"Luffy\",\n",
    "        \"Zoro\",\n",
    "        \"Nami\",\n",
    "        \"Usopp\",\n",
    "        \"Sanji\",\n",
    "        \"Chopper\",\n",
    "        \"Robin\",\n",
    "        \"Franky\",\n",
    "        \"Brook\",\n",
    "        \"Jinbe\",\n",
    "    ],\n",
    "    \"episode\" => 1030,\n",
    ")\n",
    "\n",
    ";"
   ]
  },
  {
   "cell_type": "code",
   "execution_count": null,
   "id": "8402bcbe",
   "metadata": {
    "execution": {
     "iopub.execute_input": "2022-02-11T08:10:29.554666Z",
     "iopub.status.busy": "2022-02-11T08:10:29.554110Z",
     "iopub.status.idle": "2022-02-11T08:10:29.651526Z",
     "shell.execute_reply": "2022-02-11T08:10:29.650958Z"
    }
   },
   "outputs": [],
   "source": [
    "OnePiece.extension.dict.write(js, di)"
   ]
  },
  {
   "cell_type": "code",
   "execution_count": null,
   "id": "83445e66",
   "metadata": {
    "execution": {
     "iopub.execute_input": "2022-02-11T08:10:29.653605Z",
     "iopub.status.busy": "2022-02-11T08:10:29.653024Z",
     "iopub.status.idle": "2022-02-11T08:10:29.659429Z",
     "shell.execute_reply": "2022-02-11T08:10:29.658973Z"
    }
   },
   "outputs": [],
   "source": [
    "OnePiece.extension.dict.view(OnePiece.extension.dict.read(js))"
   ]
  },
  {
   "cell_type": "markdown",
   "id": "3f396855",
   "metadata": {},
   "source": [
    "---"
   ]
  },
  {
   "cell_type": "code",
   "execution_count": null,
   "id": "b4af2023",
   "metadata": {
    "execution": {
     "iopub.execute_input": "2022-02-11T08:10:29.661579Z",
     "iopub.status.busy": "2022-02-11T08:10:29.660904Z",
     "iopub.status.idle": "2022-02-11T08:10:29.665095Z",
     "shell.execute_reply": "2022-02-11T08:10:29.664743Z"
    }
   },
   "outputs": [],
   "source": [
    "if isdir(TE)\n",
    "\n",
    "    rm(TE; recursive = true)\n",
    "\n",
    "    println(\"Removed \", TE, \".\")\n",
    "\n",
    "end"
   ]
  }
 ],
 "metadata": {
  "kernelspec": {
   "display_name": "Julia 1.7.2",
   "language": "julia",
   "name": "julia-1.7"
  },
  "language_info": {
   "file_extension": ".jl",
   "mimetype": "application/julia",
   "name": "julia",
   "version": "1.7.2"
  }
 },
 "nbformat": 4,
 "nbformat_minor": 5
}
