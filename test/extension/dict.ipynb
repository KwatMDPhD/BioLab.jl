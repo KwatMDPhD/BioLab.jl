{
 "cells": [
  {
   "cell_type": "code",
   "execution_count": null,
   "id": "017464da",
   "metadata": {
    "execution": {
     "iopub.execute_input": "2022-02-14T16:45:30.108873Z",
     "iopub.status.busy": "2022-02-14T16:45:29.622929Z",
     "iopub.status.idle": "2022-02-14T16:45:30.375433Z",
     "shell.execute_reply": "2022-02-14T16:45:30.374755Z"
    }
   },
   "outputs": [],
   "source": [
    "TE = joinpath(tempdir(), \"OnePiece.test\")\n",
    "\n",
    "if isdir(TE)\n",
    "\n",
    "    rm(TE, recursive = true)\n",
    "\n",
    "    println(\"Removed \", TE, \".\")\n",
    "\n",
    "end\n",
    "\n",
    "mkdir(TE)\n",
    "\n",
    "println(\"Made \", TE, \".\")"
   ]
  },
  {
   "cell_type": "code",
   "execution_count": null,
   "id": "34e4701e",
   "metadata": {
    "execution": {
     "iopub.execute_input": "2022-02-14T16:45:30.377752Z",
     "iopub.status.busy": "2022-02-14T16:45:30.377066Z",
     "iopub.status.idle": "2022-02-14T16:45:36.191238Z",
     "shell.execute_reply": "2022-02-14T16:45:36.190711Z"
    }
   },
   "outputs": [],
   "source": [
    "using OnePiece"
   ]
  },
  {
   "cell_type": "markdown",
   "id": "b92a3da9",
   "metadata": {},
   "source": [
    "---"
   ]
  },
  {
   "cell_type": "markdown",
   "id": "7622e7dc",
   "metadata": {},
   "source": [
    "## make"
   ]
  },
  {
   "cell_type": "code",
   "execution_count": null,
   "id": "5b789b4c",
   "metadata": {
    "execution": {
     "iopub.execute_input": "2022-02-14T16:45:36.615592Z",
     "iopub.status.busy": "2022-02-14T16:45:36.192958Z",
     "iopub.status.idle": "2022-02-14T16:45:38.922794Z",
     "shell.execute_reply": "2022-02-14T16:45:38.922250Z"
    }
   },
   "outputs": [],
   "source": [
    "OnePiece.extension.dict.make(a = 1, b = 2)"
   ]
  },
  {
   "cell_type": "markdown",
   "id": "7c7a0328",
   "metadata": {
    "execution": {
     "iopub.execute_input": "2022-02-07T19:53:17.109487Z",
     "iopub.status.busy": "2022-02-07T19:53:15.519011Z",
     "iopub.status.idle": "2022-02-07T19:53:17.994090Z",
     "shell.execute_reply": "2022-02-07T19:53:17.993635Z"
    }
   },
   "source": [
    "## view"
   ]
  },
  {
   "cell_type": "code",
   "execution_count": null,
   "id": "8f9fe131",
   "metadata": {
    "execution": {
     "iopub.execute_input": "2022-02-14T16:45:38.925191Z",
     "iopub.status.busy": "2022-02-14T16:45:38.924511Z",
     "iopub.status.idle": "2022-02-14T16:45:39.030644Z",
     "shell.execute_reply": "2022-02-14T16:45:39.029946Z"
    }
   },
   "outputs": [],
   "source": [
    "OnePiece.extension.dict.view(Dict())"
   ]
  },
  {
   "cell_type": "markdown",
   "id": "e6d28421",
   "metadata": {},
   "source": [
    "## summarize"
   ]
  },
  {
   "cell_type": "code",
   "execution_count": null,
   "id": "324e0b15",
   "metadata": {
    "execution": {
     "iopub.execute_input": "2022-02-14T16:45:39.033200Z",
     "iopub.status.busy": "2022-02-14T16:45:39.032515Z",
     "iopub.status.idle": "2022-02-14T16:45:39.665246Z",
     "shell.execute_reply": "2022-02-14T16:45:39.664607Z"
    }
   },
   "outputs": [],
   "source": [
    "OnePiece.extension.dict.summarize(\n",
    "    Dict(1 => \"a\", 2 => \"a\", 3 => \"b\", 4 => nothing, 5 => nothing, 6 => NaN),\n",
    ")"
   ]
  },
  {
   "cell_type": "markdown",
   "id": "d82a2d5c",
   "metadata": {},
   "source": [
    "## sort_recursively!"
   ]
  },
  {
   "cell_type": "code",
   "execution_count": null,
   "id": "d7558561",
   "metadata": {
    "execution": {
     "iopub.execute_input": "2022-02-14T16:45:39.667706Z",
     "iopub.status.busy": "2022-02-14T16:45:39.666958Z",
     "iopub.status.idle": "2022-02-14T16:45:41.494597Z",
     "shell.execute_reply": "2022-02-14T16:45:41.494099Z"
    }
   },
   "outputs": [],
   "source": [
    "di = Dict(\n",
    "    \"z\" => Dict(\"c\" => 1, \"b\" => 2, \"a\" => 3),\n",
    "    \"y\" => Dict(),\n",
    "    \"x\" => [3, 2, 1, Dict(\"zo\" => 2, \"lu\" => 1)],\n",
    "    \"w\" => [Dict(\"k\" => 8, \"j\" => 24), Dict(\"lo\" => 1, \"la\" => 3)],\n",
    ")\n",
    "\n",
    "OnePiece.extension.dict.view(OnePiece.extension.dict.sort_recursively!(di))"
   ]
  },
  {
   "cell_type": "markdown",
   "id": "2988a98a-d859-491b-83bd-0880462f2fcd",
   "metadata": {},
   "source": [
    "## merge"
   ]
  },
  {
   "cell_type": "code",
   "execution_count": null,
   "id": "75e1e24e",
   "metadata": {
    "execution": {
     "iopub.execute_input": "2022-02-14T16:45:41.496977Z",
     "iopub.status.busy": "2022-02-14T16:45:41.496235Z",
     "iopub.status.idle": "2022-02-14T16:45:41.535525Z",
     "shell.execute_reply": "2022-02-14T16:45:41.534926Z"
    }
   },
   "outputs": [],
   "source": [
    "di1 = Dict(\"1A\" => 1, \"B\" => Dict(\"C\" => 1, \"1D\" => 1))\n",
    "\n",
    "di2 = Dict(\"2A\" => 2, \"B\" => Dict(\"C\" => 2, \"2D\" => 2))\n",
    "\n",
    ";"
   ]
  },
  {
   "cell_type": "code",
   "execution_count": null,
   "id": "62f999fc",
   "metadata": {
    "execution": {
     "iopub.execute_input": "2022-02-14T16:45:41.537795Z",
     "iopub.status.busy": "2022-02-14T16:45:41.537046Z",
     "iopub.status.idle": "2022-02-14T16:45:41.717870Z",
     "shell.execute_reply": "2022-02-14T16:45:41.717336Z"
    }
   },
   "outputs": [],
   "source": [
    "OnePiece.extension.dict.view(OnePiece.extension.dict.merge(di1, di2))"
   ]
  },
  {
   "cell_type": "code",
   "execution_count": null,
   "id": "273f0476",
   "metadata": {
    "execution": {
     "iopub.execute_input": "2022-02-14T16:45:41.720125Z",
     "iopub.status.busy": "2022-02-14T16:45:41.719381Z",
     "iopub.status.idle": "2022-02-14T16:45:41.723812Z",
     "shell.execute_reply": "2022-02-14T16:45:41.723257Z"
    }
   },
   "outputs": [],
   "source": [
    "OnePiece.extension.dict.view(OnePiece.extension.dict.merge(di2, di1))"
   ]
  },
  {
   "cell_type": "markdown",
   "id": "c563b07c",
   "metadata": {},
   "source": [
    "## symbolize_key"
   ]
  },
  {
   "cell_type": "code",
   "execution_count": null,
   "id": "0e07e4f6",
   "metadata": {
    "execution": {
     "iopub.execute_input": "2022-02-14T16:45:41.726020Z",
     "iopub.status.busy": "2022-02-14T16:45:41.725354Z",
     "iopub.status.idle": "2022-02-14T16:45:43.053259Z",
     "shell.execute_reply": "2022-02-14T16:45:43.052736Z"
    }
   },
   "outputs": [],
   "source": [
    "OnePiece.extension.dict.symbolize_key(Dict(\"a\" => 1, \"b\" => 2.0))"
   ]
  },
  {
   "cell_type": "markdown",
   "id": "87773501",
   "metadata": {},
   "source": [
    "## read"
   ]
  },
  {
   "cell_type": "code",
   "execution_count": null,
   "id": "2acca60f",
   "metadata": {
    "execution": {
     "iopub.execute_input": "2022-02-14T16:45:43.055657Z",
     "iopub.status.busy": "2022-02-14T16:45:43.054805Z",
     "iopub.status.idle": "2022-02-14T16:45:43.056841Z",
     "shell.execute_reply": "2022-02-14T16:45:43.056264Z"
    }
   },
   "outputs": [],
   "source": [
    "da = \"dict.data\"\n",
    "\n",
    ";"
   ]
  },
  {
   "cell_type": "code",
   "execution_count": null,
   "id": "d4687e26",
   "metadata": {
    "execution": {
     "iopub.execute_input": "2022-02-14T16:45:43.059158Z",
     "iopub.status.busy": "2022-02-14T16:45:43.058495Z",
     "iopub.status.idle": "2022-02-14T16:45:43.123408Z",
     "shell.execute_reply": "2022-02-14T16:45:43.122873Z"
    }
   },
   "outputs": [],
   "source": [
    "OnePiece.extension.dict.view(OnePiece.extension.dict.read(joinpath(da, \"example_1.json\")))"
   ]
  },
  {
   "cell_type": "code",
   "execution_count": null,
   "id": "b2f113ef",
   "metadata": {
    "execution": {
     "iopub.execute_input": "2022-02-14T16:45:43.125829Z",
     "iopub.status.busy": "2022-02-14T16:45:43.125010Z",
     "iopub.status.idle": "2022-02-14T16:45:43.161123Z",
     "shell.execute_reply": "2022-02-14T16:45:43.160596Z"
    }
   },
   "outputs": [],
   "source": [
    "OnePiece.extension.dict.view(OnePiece.extension.dict.read(joinpath(da, \"example_2.json\")))"
   ]
  },
  {
   "cell_type": "code",
   "execution_count": null,
   "id": "e40557eb",
   "metadata": {
    "execution": {
     "iopub.execute_input": "2022-02-14T16:45:43.163204Z",
     "iopub.status.busy": "2022-02-14T16:45:43.162526Z",
     "iopub.status.idle": "2022-02-14T16:45:43.310372Z",
     "shell.execute_reply": "2022-02-14T16:45:43.309850Z"
    }
   },
   "outputs": [],
   "source": [
    "OnePiece.extension.dict.view(OnePiece.extension.dict.read(joinpath(da, \"example.toml\")))"
   ]
  },
  {
   "cell_type": "code",
   "execution_count": null,
   "id": "094c91bd",
   "metadata": {
    "execution": {
     "iopub.execute_input": "2022-02-14T16:45:43.312611Z",
     "iopub.status.busy": "2022-02-14T16:45:43.311943Z",
     "iopub.status.idle": "2022-02-14T16:45:43.671427Z",
     "shell.execute_reply": "2022-02-14T16:45:43.670897Z"
    }
   },
   "outputs": [],
   "source": [
    "OnePiece.extension.dict.view(OnePiece.extension.dict.read(joinpath(@__DIR__, \"dict.ipynb\")))"
   ]
  },
  {
   "cell_type": "markdown",
   "id": "7ac005d4",
   "metadata": {},
   "source": [
    "## write"
   ]
  },
  {
   "cell_type": "code",
   "execution_count": null,
   "id": "d61cce24",
   "metadata": {
    "execution": {
     "iopub.execute_input": "2022-02-14T16:45:43.673663Z",
     "iopub.status.busy": "2022-02-14T16:45:43.673002Z",
     "iopub.status.idle": "2022-02-14T16:45:43.729548Z",
     "shell.execute_reply": "2022-02-14T16:45:43.728935Z"
    }
   },
   "outputs": [],
   "source": [
    "js = joinpath(tempdir(), \"write.json\")\n",
    "\n",
    "di = Dict(\n",
    "    \"Luffy\" => \"Pirate King\",\n",
    "    \"Crews\" => [\n",
    "        \"Luffy\",\n",
    "        \"Zoro\",\n",
    "        \"Nami\",\n",
    "        \"Usopp\",\n",
    "        \"Sanji\",\n",
    "        \"Chopper\",\n",
    "        \"Robin\",\n",
    "        \"Franky\",\n",
    "        \"Brook\",\n",
    "        \"Jinbe\",\n",
    "    ],\n",
    "    \"episode\" => 1030,\n",
    ")\n",
    "\n",
    ";"
   ]
  },
  {
   "cell_type": "code",
   "execution_count": null,
   "id": "8402bcbe",
   "metadata": {
    "execution": {
     "iopub.execute_input": "2022-02-14T16:45:43.731766Z",
     "iopub.status.busy": "2022-02-14T16:45:43.731036Z",
     "iopub.status.idle": "2022-02-14T16:45:43.867997Z",
     "shell.execute_reply": "2022-02-14T16:45:43.867410Z"
    }
   },
   "outputs": [],
   "source": [
    "OnePiece.extension.dict.write(js, di)"
   ]
  },
  {
   "cell_type": "code",
   "execution_count": null,
   "id": "83445e66",
   "metadata": {
    "execution": {
     "iopub.execute_input": "2022-02-14T16:45:43.870144Z",
     "iopub.status.busy": "2022-02-14T16:45:43.869458Z",
     "iopub.status.idle": "2022-02-14T16:45:43.876390Z",
     "shell.execute_reply": "2022-02-14T16:45:43.875905Z"
    }
   },
   "outputs": [],
   "source": [
    "OnePiece.extension.dict.view(OnePiece.extension.dict.read(js))"
   ]
  },
  {
   "cell_type": "markdown",
   "id": "3f396855",
   "metadata": {},
   "source": [
    "---"
   ]
  },
  {
   "cell_type": "code",
   "execution_count": null,
   "id": "b4af2023",
   "metadata": {
    "execution": {
     "iopub.execute_input": "2022-02-14T16:45:43.878662Z",
     "iopub.status.busy": "2022-02-14T16:45:43.878000Z",
     "iopub.status.idle": "2022-02-14T16:45:43.880878Z",
     "shell.execute_reply": "2022-02-14T16:45:43.880279Z"
    }
   },
   "outputs": [],
   "source": [
    "if isdir(TE)\n",
    "\n",
    "    rm(TE, recursive = true)\n",
    "\n",
    "    println(\"Removed \", TE, \".\")\n",
    "\n",
    "end"
   ]
  }
 ],
 "metadata": {
  "kernelspec": {
   "display_name": "Julia 1.7.2",
   "language": "julia",
   "name": "julia-1.7"
  },
  "language_info": {
   "file_extension": ".jl",
   "mimetype": "application/julia",
   "name": "julia",
   "version": "1.7.2"
  }
 },
 "nbformat": 4,
 "nbformat_minor": 5
}
