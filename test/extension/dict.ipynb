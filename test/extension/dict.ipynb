{
 "cells": [
  {
   "cell_type": "code",
   "execution_count": null,
   "id": "34e4701e",
   "metadata": {
    "execution": {
     "iopub.execute_input": "2022-02-09T18:51:04.086684Z",
     "iopub.status.busy": "2022-02-09T18:51:03.655482Z",
     "iopub.status.idle": "2022-02-09T18:51:05.128143Z",
     "shell.execute_reply": "2022-02-09T18:51:05.127473Z"
    }
   },
   "outputs": [],
   "source": [
    "using Revise\n",
    "using BenchmarkTools"
   ]
  },
  {
   "cell_type": "code",
   "execution_count": null,
   "id": "570e4b37",
   "metadata": {
    "execution": {
     "iopub.execute_input": "2022-02-09T18:51:05.130360Z",
     "iopub.status.busy": "2022-02-09T18:51:05.129589Z",
     "iopub.status.idle": "2022-02-09T18:51:16.404416Z",
     "shell.execute_reply": "2022-02-09T18:51:16.403751Z"
    }
   },
   "outputs": [],
   "source": [
    "using OnePiece"
   ]
  },
  {
   "cell_type": "markdown",
   "id": "7c7a0328",
   "metadata": {
    "execution": {
     "iopub.execute_input": "2022-02-07T19:53:17.109487Z",
     "iopub.status.busy": "2022-02-07T19:53:15.519011Z",
     "iopub.status.idle": "2022-02-07T19:53:17.994090Z",
     "shell.execute_reply": "2022-02-07T19:53:17.993635Z"
    }
   },
   "source": [
    "## view"
   ]
  },
  {
   "cell_type": "code",
   "execution_count": null,
   "id": "8f9fe131",
   "metadata": {
    "execution": {
     "iopub.execute_input": "2022-02-09T18:51:18.073905Z",
     "iopub.status.busy": "2022-02-09T18:51:16.405833Z",
     "iopub.status.idle": "2022-02-09T18:51:18.737616Z",
     "shell.execute_reply": "2022-02-09T18:51:18.737234Z"
    }
   },
   "outputs": [],
   "source": [
    "OnePiece.extension.dict.view(Dict())"
   ]
  },
  {
   "cell_type": "markdown",
   "id": "e6d28421",
   "metadata": {},
   "source": [
    "## summarize"
   ]
  },
  {
   "cell_type": "code",
   "execution_count": null,
   "id": "324e0b15",
   "metadata": {
    "execution": {
     "iopub.execute_input": "2022-02-09T18:51:18.739776Z",
     "iopub.status.busy": "2022-02-09T18:51:18.739013Z",
     "iopub.status.idle": "2022-02-09T18:51:19.342126Z",
     "shell.execute_reply": "2022-02-09T18:51:19.341665Z"
    }
   },
   "outputs": [],
   "source": [
    "OnePiece.extension.dict.summarize(\n",
    "    Dict(1 => \"a\", 2 => \"a\", 3 => \"b\", 4 => nothing, 5 => nothing, 6 => NaN),\n",
    ")"
   ]
  },
  {
   "cell_type": "markdown",
   "id": "d82a2d5c",
   "metadata": {},
   "source": [
    "## sort_recursively!"
   ]
  },
  {
   "cell_type": "code",
   "execution_count": null,
   "id": "d7558561",
   "metadata": {
    "execution": {
     "iopub.execute_input": "2022-02-09T18:51:19.344085Z",
     "iopub.status.busy": "2022-02-09T18:51:19.343484Z",
     "iopub.status.idle": "2022-02-09T18:51:21.095535Z",
     "shell.execute_reply": "2022-02-09T18:51:21.094951Z"
    }
   },
   "outputs": [],
   "source": [
    "di = Dict(\n",
    "    \"z\" => Dict(\"c\" => 1, \"b\" => 2, \"a\" => 3),\n",
    "    \"y\" => Dict(),\n",
    "    \"x\" => [3, 2, 1, Dict(\"zo\" => 2, \"lu\" => 1)],\n",
    "    \"w\" => [Dict(\"k\" => 8, \"j\" => 24), Dict(\"lo\" => 1, \"la\" => 3)],\n",
    ")\n",
    "\n",
    "OnePiece.extension.dict.view(OnePiece.extension.dict.sort_recursively!(di))"
   ]
  },
  {
   "cell_type": "markdown",
   "id": "2988a98a-d859-491b-83bd-0880462f2fcd",
   "metadata": {},
   "source": [
    "## merge"
   ]
  },
  {
   "cell_type": "code",
   "execution_count": null,
   "id": "75e1e24e",
   "metadata": {
    "execution": {
     "iopub.execute_input": "2022-02-09T18:51:21.097550Z",
     "iopub.status.busy": "2022-02-09T18:51:21.096927Z",
     "iopub.status.idle": "2022-02-09T18:51:21.143490Z",
     "shell.execute_reply": "2022-02-09T18:51:21.142854Z"
    }
   },
   "outputs": [],
   "source": [
    "di1 = Dict(\"1A\" => 1, \"B\" => Dict(\"C\" => 1, \"1D\" => 1))\n",
    "\n",
    "di2 = Dict(\"2A\" => 2, \"B\" => Dict(\"C\" => 2, \"2D\" => 2))\n",
    "\n",
    ";"
   ]
  },
  {
   "cell_type": "code",
   "execution_count": null,
   "id": "62f999fc",
   "metadata": {
    "execution": {
     "iopub.execute_input": "2022-02-09T18:51:21.145599Z",
     "iopub.status.busy": "2022-02-09T18:51:21.144946Z",
     "iopub.status.idle": "2022-02-09T18:51:21.320233Z",
     "shell.execute_reply": "2022-02-09T18:51:21.319815Z"
    }
   },
   "outputs": [],
   "source": [
    "OnePiece.extension.dict.view(OnePiece.extension.dict.merge(di1, di2))"
   ]
  },
  {
   "cell_type": "code",
   "execution_count": null,
   "id": "273f0476",
   "metadata": {
    "execution": {
     "iopub.execute_input": "2022-02-09T18:51:21.322233Z",
     "iopub.status.busy": "2022-02-09T18:51:21.321575Z",
     "iopub.status.idle": "2022-02-09T18:51:21.336687Z",
     "shell.execute_reply": "2022-02-09T18:51:21.336256Z"
    }
   },
   "outputs": [],
   "source": [
    "OnePiece.extension.dict.view(OnePiece.extension.dict.merge(di2, di1))"
   ]
  },
  {
   "cell_type": "markdown",
   "id": "c563b07c",
   "metadata": {},
   "source": [
    "## symbolize_key"
   ]
  },
  {
   "cell_type": "code",
   "execution_count": null,
   "id": "0e07e4f6",
   "metadata": {
    "execution": {
     "iopub.execute_input": "2022-02-09T18:51:21.338605Z",
     "iopub.status.busy": "2022-02-09T18:51:21.338040Z",
     "iopub.status.idle": "2022-02-09T18:51:22.650875Z",
     "shell.execute_reply": "2022-02-09T18:51:22.650409Z"
    }
   },
   "outputs": [],
   "source": [
    "OnePiece.extension.dict.symbolize_key(Dict(\"a\" => 1, \"b\" => 2.0))"
   ]
  },
  {
   "cell_type": "markdown",
   "id": "87773501",
   "metadata": {},
   "source": [
    "## read"
   ]
  },
  {
   "cell_type": "code",
   "execution_count": null,
   "id": "2acca60f",
   "metadata": {
    "execution": {
     "iopub.execute_input": "2022-02-09T18:51:22.652940Z",
     "iopub.status.busy": "2022-02-09T18:51:22.652318Z",
     "iopub.status.idle": "2022-02-09T18:51:22.665268Z",
     "shell.execute_reply": "2022-02-09T18:51:22.664686Z"
    }
   },
   "outputs": [],
   "source": [
    "da = \"dict.data\"\n",
    "\n",
    ";"
   ]
  },
  {
   "cell_type": "code",
   "execution_count": null,
   "id": "d4687e26",
   "metadata": {
    "execution": {
     "iopub.execute_input": "2022-02-09T18:51:22.667179Z",
     "iopub.status.busy": "2022-02-09T18:51:22.666593Z",
     "iopub.status.idle": "2022-02-09T18:51:22.732853Z",
     "shell.execute_reply": "2022-02-09T18:51:22.732407Z"
    }
   },
   "outputs": [],
   "source": [
    "OnePiece.extension.dict.view(OnePiece.extension.dict.read(joinpath(da, \"example_1.json\")))"
   ]
  },
  {
   "cell_type": "code",
   "execution_count": null,
   "id": "b2f113ef",
   "metadata": {
    "execution": {
     "iopub.execute_input": "2022-02-09T18:51:22.734929Z",
     "iopub.status.busy": "2022-02-09T18:51:22.734246Z",
     "iopub.status.idle": "2022-02-09T18:51:22.777474Z",
     "shell.execute_reply": "2022-02-09T18:51:22.776947Z"
    }
   },
   "outputs": [],
   "source": [
    "OnePiece.extension.dict.view(OnePiece.extension.dict.read(joinpath(da, \"example_2.json\")))"
   ]
  },
  {
   "cell_type": "code",
   "execution_count": null,
   "id": "e40557eb",
   "metadata": {
    "execution": {
     "iopub.execute_input": "2022-02-09T18:51:22.779332Z",
     "iopub.status.busy": "2022-02-09T18:51:22.778748Z",
     "iopub.status.idle": "2022-02-09T18:51:22.922754Z",
     "shell.execute_reply": "2022-02-09T18:51:22.922302Z"
    }
   },
   "outputs": [],
   "source": [
    "OnePiece.extension.dict.view(OnePiece.extension.dict.read(joinpath(da, \"example.toml\")))"
   ]
  },
  {
   "cell_type": "code",
   "execution_count": null,
   "id": "094c91bd",
   "metadata": {
    "execution": {
     "iopub.execute_input": "2022-02-09T18:51:22.924629Z",
     "iopub.status.busy": "2022-02-09T18:51:22.924019Z",
     "iopub.status.idle": "2022-02-09T18:51:23.930021Z",
     "shell.execute_reply": "2022-02-09T18:51:23.929572Z"
    }
   },
   "outputs": [],
   "source": [
    "OnePiece.extension.dict.view(OnePiece.extension.dict.read(joinpath(@__DIR__, \"dict.ipynb\")))"
   ]
  },
  {
   "cell_type": "markdown",
   "id": "7ac005d4",
   "metadata": {},
   "source": [
    "## write"
   ]
  },
  {
   "cell_type": "code",
   "execution_count": null,
   "id": "d61cce24",
   "metadata": {
    "execution": {
     "iopub.execute_input": "2022-02-09T18:51:23.931940Z",
     "iopub.status.busy": "2022-02-09T18:51:23.931363Z",
     "iopub.status.idle": "2022-02-09T18:51:23.992812Z",
     "shell.execute_reply": "2022-02-09T18:51:23.992285Z"
    }
   },
   "outputs": [],
   "source": [
    "js = joinpath(tempdir(), \"write.json\")\n",
    "\n",
    "di = Dict(\n",
    "    \"Luffy\" => \"Pirate King\",\n",
    "    \"Crews\" => [\n",
    "        \"Luffy\",\n",
    "        \"Zoro\",\n",
    "        \"Nami\",\n",
    "        \"Usopp\",\n",
    "        \"Sanji\",\n",
    "        \"Chopper\",\n",
    "        \"Robin\",\n",
    "        \"Franky\",\n",
    "        \"Brook\",\n",
    "        \"Jinbe\",\n",
    "    ],\n",
    "    \"episode\" => 1030,\n",
    ")\n",
    "\n",
    ";"
   ]
  },
  {
   "cell_type": "code",
   "execution_count": null,
   "id": "8402bcbe",
   "metadata": {
    "execution": {
     "iopub.execute_input": "2022-02-09T18:51:23.994595Z",
     "iopub.status.busy": "2022-02-09T18:51:23.994013Z",
     "iopub.status.idle": "2022-02-09T18:51:24.123980Z",
     "shell.execute_reply": "2022-02-09T18:51:24.123394Z"
    }
   },
   "outputs": [],
   "source": [
    "OnePiece.extension.dict.write(js, di)"
   ]
  },
  {
   "cell_type": "code",
   "execution_count": null,
   "id": "83445e66",
   "metadata": {
    "execution": {
     "iopub.execute_input": "2022-02-09T18:51:24.125861Z",
     "iopub.status.busy": "2022-02-09T18:51:24.125288Z",
     "iopub.status.idle": "2022-02-09T18:51:24.143410Z",
     "shell.execute_reply": "2022-02-09T18:51:24.142950Z"
    }
   },
   "outputs": [],
   "source": [
    "OnePiece.extension.dict.view(OnePiece.extension.dict.read(js))"
   ]
  }
 ],
 "metadata": {
  "@webio": {
   "lastCommId": null,
   "lastKernelId": null
  },
  "kernelspec": {
   "display_name": "Julia 1.7.1",
   "language": "julia",
   "name": "julia-1.7"
  },
  "language_info": {
   "file_extension": ".jl",
   "mimetype": "application/julia",
   "name": "julia",
   "version": "1.7.2"
  }
 },
 "nbformat": 4,
 "nbformat_minor": 5
}
