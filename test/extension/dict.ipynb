{
 "cells": [
  {
   "cell_type": "code",
   "execution_count": null,
   "id": "017464da",
   "metadata": {
    "execution": {
     "iopub.execute_input": "2022-02-13T22:56:15.562158Z",
     "iopub.status.busy": "2022-02-13T22:56:15.236330Z",
     "iopub.status.idle": "2022-02-13T22:56:15.743822Z",
     "shell.execute_reply": "2022-02-13T22:56:15.743402Z"
    }
   },
   "outputs": [],
   "source": [
    "TE = joinpath(tempdir(), \"OnePiece.test\")\n",
    "\n",
    "if isdir(TE)\n",
    "\n",
    "    rm(TE, recursive = true)\n",
    "\n",
    "    println(\"Removed \", TE, \".\")\n",
    "\n",
    "end\n",
    "\n",
    "mkdir(TE)\n",
    "\n",
    "println(\"Made \", TE, \".\")"
   ]
  },
  {
   "cell_type": "code",
   "execution_count": null,
   "id": "34e4701e",
   "metadata": {
    "execution": {
     "iopub.execute_input": "2022-02-13T22:56:15.745877Z",
     "iopub.status.busy": "2022-02-13T22:56:15.745387Z",
     "iopub.status.idle": "2022-02-13T22:56:19.709214Z",
     "shell.execute_reply": "2022-02-13T22:56:19.708825Z"
    }
   },
   "outputs": [],
   "source": [
    "using OnePiece"
   ]
  },
  {
   "cell_type": "markdown",
   "id": "b92a3da9",
   "metadata": {},
   "source": [
    "---"
   ]
  },
  {
   "cell_type": "markdown",
   "id": "7622e7dc",
   "metadata": {},
   "source": [
    "## make"
   ]
  },
  {
   "cell_type": "code",
   "execution_count": null,
   "id": "5b789b4c",
   "metadata": {
    "execution": {
     "iopub.execute_input": "2022-02-13T22:56:20.016545Z",
     "iopub.status.busy": "2022-02-13T22:56:19.711048Z",
     "iopub.status.idle": "2022-02-13T22:56:21.573666Z",
     "shell.execute_reply": "2022-02-13T22:56:21.573149Z"
    }
   },
   "outputs": [],
   "source": [
    "OnePiece.extension.dict.make(a = 1, b = 2)"
   ]
  },
  {
   "cell_type": "markdown",
   "id": "7c7a0328",
   "metadata": {
    "execution": {
     "iopub.execute_input": "2022-02-07T19:53:17.109487Z",
     "iopub.status.busy": "2022-02-07T19:53:15.519011Z",
     "iopub.status.idle": "2022-02-07T19:53:17.994090Z",
     "shell.execute_reply": "2022-02-07T19:53:17.993635Z"
    }
   },
   "source": [
    "## view"
   ]
  },
  {
   "cell_type": "code",
   "execution_count": null,
   "id": "8f9fe131",
   "metadata": {
    "execution": {
     "iopub.execute_input": "2022-02-13T22:56:21.575579Z",
     "iopub.status.busy": "2022-02-13T22:56:21.575100Z",
     "iopub.status.idle": "2022-02-13T22:56:21.651564Z",
     "shell.execute_reply": "2022-02-13T22:56:21.651140Z"
    }
   },
   "outputs": [],
   "source": [
    "OnePiece.extension.dict.view(Dict())"
   ]
  },
  {
   "cell_type": "markdown",
   "id": "e6d28421",
   "metadata": {},
   "source": [
    "## summarize"
   ]
  },
  {
   "cell_type": "code",
   "execution_count": null,
   "id": "324e0b15",
   "metadata": {
    "execution": {
     "iopub.execute_input": "2022-02-13T22:56:21.653720Z",
     "iopub.status.busy": "2022-02-13T22:56:21.653109Z",
     "iopub.status.idle": "2022-02-13T22:56:22.086302Z",
     "shell.execute_reply": "2022-02-13T22:56:22.085907Z"
    }
   },
   "outputs": [],
   "source": [
    "OnePiece.extension.dict.summarize(\n",
    "    Dict(1 => \"a\", 2 => \"a\", 3 => \"b\", 4 => nothing, 5 => nothing, 6 => NaN),\n",
    ")"
   ]
  },
  {
   "cell_type": "markdown",
   "id": "d82a2d5c",
   "metadata": {},
   "source": [
    "## sort_recursively!"
   ]
  },
  {
   "cell_type": "code",
   "execution_count": null,
   "id": "d7558561",
   "metadata": {
    "execution": {
     "iopub.execute_input": "2022-02-13T22:56:22.088336Z",
     "iopub.status.busy": "2022-02-13T22:56:22.087851Z",
     "iopub.status.idle": "2022-02-13T22:56:23.369097Z",
     "shell.execute_reply": "2022-02-13T22:56:23.368728Z"
    }
   },
   "outputs": [],
   "source": [
    "di = Dict(\n",
    "    \"z\" => Dict(\"c\" => 1, \"b\" => 2, \"a\" => 3),\n",
    "    \"y\" => Dict(),\n",
    "    \"x\" => [3, 2, 1, Dict(\"zo\" => 2, \"lu\" => 1)],\n",
    "    \"w\" => [Dict(\"k\" => 8, \"j\" => 24), Dict(\"lo\" => 1, \"la\" => 3)],\n",
    ")\n",
    "\n",
    "OnePiece.extension.dict.view(OnePiece.extension.dict.sort_recursively!(di))"
   ]
  },
  {
   "cell_type": "markdown",
   "id": "2988a98a-d859-491b-83bd-0880462f2fcd",
   "metadata": {},
   "source": [
    "## merge"
   ]
  },
  {
   "cell_type": "code",
   "execution_count": null,
   "id": "75e1e24e",
   "metadata": {
    "execution": {
     "iopub.execute_input": "2022-02-13T22:56:23.371095Z",
     "iopub.status.busy": "2022-02-13T22:56:23.370607Z",
     "iopub.status.idle": "2022-02-13T22:56:23.398942Z",
     "shell.execute_reply": "2022-02-13T22:56:23.398413Z"
    }
   },
   "outputs": [],
   "source": [
    "di1 = Dict(\"1A\" => 1, \"B\" => Dict(\"C\" => 1, \"1D\" => 1))\n",
    "\n",
    "di2 = Dict(\"2A\" => 2, \"B\" => Dict(\"C\" => 2, \"2D\" => 2))\n",
    "\n",
    ";"
   ]
  },
  {
   "cell_type": "code",
   "execution_count": null,
   "id": "62f999fc",
   "metadata": {
    "execution": {
     "iopub.execute_input": "2022-02-13T22:56:23.400775Z",
     "iopub.status.busy": "2022-02-13T22:56:23.400277Z",
     "iopub.status.idle": "2022-02-13T22:56:23.527173Z",
     "shell.execute_reply": "2022-02-13T22:56:23.526806Z"
    }
   },
   "outputs": [],
   "source": [
    "OnePiece.extension.dict.view(OnePiece.extension.dict.merge(di1, di2))"
   ]
  },
  {
   "cell_type": "code",
   "execution_count": null,
   "id": "273f0476",
   "metadata": {
    "execution": {
     "iopub.execute_input": "2022-02-13T22:56:23.529150Z",
     "iopub.status.busy": "2022-02-13T22:56:23.528599Z",
     "iopub.status.idle": "2022-02-13T22:56:23.532277Z",
     "shell.execute_reply": "2022-02-13T22:56:23.531923Z"
    }
   },
   "outputs": [],
   "source": [
    "OnePiece.extension.dict.view(OnePiece.extension.dict.merge(di2, di1))"
   ]
  },
  {
   "cell_type": "markdown",
   "id": "c563b07c",
   "metadata": {},
   "source": [
    "## symbolize_key"
   ]
  },
  {
   "cell_type": "code",
   "execution_count": null,
   "id": "0e07e4f6",
   "metadata": {
    "execution": {
     "iopub.execute_input": "2022-02-13T22:56:23.534189Z",
     "iopub.status.busy": "2022-02-13T22:56:23.533714Z",
     "iopub.status.idle": "2022-02-13T22:56:24.446346Z",
     "shell.execute_reply": "2022-02-13T22:56:24.445963Z"
    }
   },
   "outputs": [],
   "source": [
    "OnePiece.extension.dict.symbolize_key(Dict(\"a\" => 1, \"b\" => 2.0))"
   ]
  },
  {
   "cell_type": "markdown",
   "id": "87773501",
   "metadata": {},
   "source": [
    "## read"
   ]
  },
  {
   "cell_type": "code",
   "execution_count": null,
   "id": "2acca60f",
   "metadata": {
    "execution": {
     "iopub.execute_input": "2022-02-13T22:56:24.448784Z",
     "iopub.status.busy": "2022-02-13T22:56:24.448026Z",
     "iopub.status.idle": "2022-02-13T22:56:24.449602Z",
     "shell.execute_reply": "2022-02-13T22:56:24.449249Z"
    }
   },
   "outputs": [],
   "source": [
    "da = \"dict.data\"\n",
    "\n",
    ";"
   ]
  },
  {
   "cell_type": "code",
   "execution_count": null,
   "id": "d4687e26",
   "metadata": {
    "execution": {
     "iopub.execute_input": "2022-02-13T22:56:24.451446Z",
     "iopub.status.busy": "2022-02-13T22:56:24.450975Z",
     "iopub.status.idle": "2022-02-13T22:56:24.494273Z",
     "shell.execute_reply": "2022-02-13T22:56:24.493893Z"
    }
   },
   "outputs": [],
   "source": [
    "OnePiece.extension.dict.view(OnePiece.extension.dict.read(joinpath(da, \"example_1.json\")))"
   ]
  },
  {
   "cell_type": "code",
   "execution_count": null,
   "id": "b2f113ef",
   "metadata": {
    "execution": {
     "iopub.execute_input": "2022-02-13T22:56:24.496259Z",
     "iopub.status.busy": "2022-02-13T22:56:24.495662Z",
     "iopub.status.idle": "2022-02-13T22:56:24.523477Z",
     "shell.execute_reply": "2022-02-13T22:56:24.523103Z"
    }
   },
   "outputs": [],
   "source": [
    "OnePiece.extension.dict.view(OnePiece.extension.dict.read(joinpath(da, \"example_2.json\")))"
   ]
  },
  {
   "cell_type": "code",
   "execution_count": null,
   "id": "e40557eb",
   "metadata": {
    "execution": {
     "iopub.execute_input": "2022-02-13T22:56:24.525336Z",
     "iopub.status.busy": "2022-02-13T22:56:24.524806Z",
     "iopub.status.idle": "2022-02-13T22:56:24.630261Z",
     "shell.execute_reply": "2022-02-13T22:56:24.629886Z"
    }
   },
   "outputs": [],
   "source": [
    "OnePiece.extension.dict.view(OnePiece.extension.dict.read(joinpath(da, \"example.toml\")))"
   ]
  },
  {
   "cell_type": "code",
   "execution_count": null,
   "id": "094c91bd",
   "metadata": {
    "execution": {
     "iopub.execute_input": "2022-02-13T22:56:24.632111Z",
     "iopub.status.busy": "2022-02-13T22:56:24.631630Z",
     "iopub.status.idle": "2022-02-13T22:56:24.930017Z",
     "shell.execute_reply": "2022-02-13T22:56:24.929640Z"
    }
   },
   "outputs": [],
   "source": [
    "OnePiece.extension.dict.view(OnePiece.extension.dict.read(joinpath(@__DIR__, \"dict.ipynb\")))"
   ]
  },
  {
   "cell_type": "markdown",
   "id": "7ac005d4",
   "metadata": {},
   "source": [
    "## write"
   ]
  },
  {
   "cell_type": "code",
   "execution_count": null,
   "id": "d61cce24",
   "metadata": {
    "execution": {
     "iopub.execute_input": "2022-02-13T22:56:24.932107Z",
     "iopub.status.busy": "2022-02-13T22:56:24.931624Z",
     "iopub.status.idle": "2022-02-13T22:56:24.972197Z",
     "shell.execute_reply": "2022-02-13T22:56:24.971797Z"
    }
   },
   "outputs": [],
   "source": [
    "js = joinpath(tempdir(), \"write.json\")\n",
    "\n",
    "di = Dict(\n",
    "    \"Luffy\" => \"Pirate King\",\n",
    "    \"Crews\" => [\n",
    "        \"Luffy\",\n",
    "        \"Zoro\",\n",
    "        \"Nami\",\n",
    "        \"Usopp\",\n",
    "        \"Sanji\",\n",
    "        \"Chopper\",\n",
    "        \"Robin\",\n",
    "        \"Franky\",\n",
    "        \"Brook\",\n",
    "        \"Jinbe\",\n",
    "    ],\n",
    "    \"episode\" => 1030,\n",
    ")\n",
    "\n",
    ";"
   ]
  },
  {
   "cell_type": "code",
   "execution_count": null,
   "id": "8402bcbe",
   "metadata": {
    "execution": {
     "iopub.execute_input": "2022-02-13T22:56:24.974186Z",
     "iopub.status.busy": "2022-02-13T22:56:24.973686Z",
     "iopub.status.idle": "2022-02-13T22:56:25.075935Z",
     "shell.execute_reply": "2022-02-13T22:56:25.075563Z"
    }
   },
   "outputs": [],
   "source": [
    "OnePiece.extension.dict.write(js, di)"
   ]
  },
  {
   "cell_type": "code",
   "execution_count": null,
   "id": "83445e66",
   "metadata": {
    "execution": {
     "iopub.execute_input": "2022-02-13T22:56:25.078048Z",
     "iopub.status.busy": "2022-02-13T22:56:25.077563Z",
     "iopub.status.idle": "2022-02-13T22:56:25.083496Z",
     "shell.execute_reply": "2022-02-13T22:56:25.083160Z"
    }
   },
   "outputs": [],
   "source": [
    "OnePiece.extension.dict.view(OnePiece.extension.dict.read(js))"
   ]
  },
  {
   "cell_type": "markdown",
   "id": "3f396855",
   "metadata": {},
   "source": [
    "---"
   ]
  },
  {
   "cell_type": "code",
   "execution_count": null,
   "id": "b4af2023",
   "metadata": {
    "execution": {
     "iopub.execute_input": "2022-02-13T22:56:25.085670Z",
     "iopub.status.busy": "2022-02-13T22:56:25.085016Z",
     "iopub.status.idle": "2022-02-13T22:56:25.087294Z",
     "shell.execute_reply": "2022-02-13T22:56:25.086927Z"
    }
   },
   "outputs": [],
   "source": [
    "if isdir(TE)\n",
    "\n",
    "    rm(TE, recursive = true)\n",
    "\n",
    "    println(\"Removed \", TE, \".\")\n",
    "\n",
    "end"
   ]
  }
 ],
 "metadata": {
  "kernelspec": {
   "display_name": "Julia 1.7.2",
   "language": "julia",
   "name": "julia-1.7"
  },
  "language_info": {
   "file_extension": ".jl",
   "mimetype": "application/julia",
   "name": "julia",
   "version": "1.7.2"
  }
 },
 "nbformat": 4,
 "nbformat_minor": 5
}
