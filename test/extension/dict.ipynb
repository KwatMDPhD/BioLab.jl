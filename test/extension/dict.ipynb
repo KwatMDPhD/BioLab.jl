{
 "cells": [
  {
   "cell_type": "code",
   "execution_count": null,
   "id": "017464da",
   "metadata": {
    "execution": {
     "iopub.execute_input": "2022-02-13T05:18:39.060379Z",
     "iopub.status.busy": "2022-02-13T05:18:38.648613Z",
     "iopub.status.idle": "2022-02-13T05:18:39.289815Z",
     "shell.execute_reply": "2022-02-13T05:18:39.289163Z"
    }
   },
   "outputs": [],
   "source": [
    "TE = joinpath(tempdir(), \"OnePiece.test\")\n",
    "\n",
    "if isdir(TE)\n",
    "\n",
    "    rm(TE, recursive = true)\n",
    "\n",
    "    println(\"Removed \", TE, \".\")\n",
    "\n",
    "end\n",
    "\n",
    "mkdir(TE)\n",
    "\n",
    "println(\"Made \", TE, \".\")"
   ]
  },
  {
   "cell_type": "code",
   "execution_count": null,
   "id": "34e4701e",
   "metadata": {
    "execution": {
     "iopub.execute_input": "2022-02-13T05:18:39.291783Z",
     "iopub.status.busy": "2022-02-13T05:18:39.291238Z",
     "iopub.status.idle": "2022-02-13T05:18:43.429553Z",
     "shell.execute_reply": "2022-02-13T05:18:43.429042Z"
    }
   },
   "outputs": [],
   "source": [
    "using OnePiece"
   ]
  },
  {
   "cell_type": "markdown",
   "id": "b92a3da9",
   "metadata": {},
   "source": [
    "---"
   ]
  },
  {
   "cell_type": "markdown",
   "id": "7622e7dc",
   "metadata": {},
   "source": [
    "## make"
   ]
  },
  {
   "cell_type": "code",
   "execution_count": null,
   "id": "5b789b4c",
   "metadata": {
    "execution": {
     "iopub.execute_input": "2022-02-13T05:18:43.738824Z",
     "iopub.status.busy": "2022-02-13T05:18:43.431056Z",
     "iopub.status.idle": "2022-02-13T05:18:45.604718Z",
     "shell.execute_reply": "2022-02-13T05:18:45.604198Z"
    }
   },
   "outputs": [],
   "source": [
    "OnePiece.extension.dict.make(a = 1, b = 2)"
   ]
  },
  {
   "cell_type": "markdown",
   "id": "7c7a0328",
   "metadata": {
    "execution": {
     "iopub.execute_input": "2022-02-07T19:53:17.109487Z",
     "iopub.status.busy": "2022-02-07T19:53:15.519011Z",
     "iopub.status.idle": "2022-02-07T19:53:17.994090Z",
     "shell.execute_reply": "2022-02-07T19:53:17.993635Z"
    }
   },
   "source": [
    "## view"
   ]
  },
  {
   "cell_type": "code",
   "execution_count": null,
   "id": "8f9fe131",
   "metadata": {
    "execution": {
     "iopub.execute_input": "2022-02-13T05:18:45.606654Z",
     "iopub.status.busy": "2022-02-13T05:18:45.606081Z",
     "iopub.status.idle": "2022-02-13T05:18:45.694360Z",
     "shell.execute_reply": "2022-02-13T05:18:45.693845Z"
    }
   },
   "outputs": [],
   "source": [
    "OnePiece.extension.dict.view(Dict())"
   ]
  },
  {
   "cell_type": "markdown",
   "id": "e6d28421",
   "metadata": {},
   "source": [
    "## summarize"
   ]
  },
  {
   "cell_type": "code",
   "execution_count": null,
   "id": "324e0b15",
   "metadata": {
    "execution": {
     "iopub.execute_input": "2022-02-13T05:18:45.696453Z",
     "iopub.status.busy": "2022-02-13T05:18:45.695789Z",
     "iopub.status.idle": "2022-02-13T05:18:46.213316Z",
     "shell.execute_reply": "2022-02-13T05:18:46.212791Z"
    }
   },
   "outputs": [],
   "source": [
    "OnePiece.extension.dict.summarize(\n",
    "    Dict(1 => \"a\", 2 => \"a\", 3 => \"b\", 4 => nothing, 5 => nothing, 6 => NaN),\n",
    ")"
   ]
  },
  {
   "cell_type": "markdown",
   "id": "d82a2d5c",
   "metadata": {},
   "source": [
    "## sort_recursively!"
   ]
  },
  {
   "cell_type": "code",
   "execution_count": null,
   "id": "d7558561",
   "metadata": {
    "execution": {
     "iopub.execute_input": "2022-02-13T05:18:46.215484Z",
     "iopub.status.busy": "2022-02-13T05:18:46.214899Z",
     "iopub.status.idle": "2022-02-13T05:18:47.761589Z",
     "shell.execute_reply": "2022-02-13T05:18:47.761121Z"
    }
   },
   "outputs": [],
   "source": [
    "di = Dict(\n",
    "    \"z\" => Dict(\"c\" => 1, \"b\" => 2, \"a\" => 3),\n",
    "    \"y\" => Dict(),\n",
    "    \"x\" => [3, 2, 1, Dict(\"zo\" => 2, \"lu\" => 1)],\n",
    "    \"w\" => [Dict(\"k\" => 8, \"j\" => 24), Dict(\"lo\" => 1, \"la\" => 3)],\n",
    ")\n",
    "\n",
    "OnePiece.extension.dict.view(OnePiece.extension.dict.sort_recursively!(di))"
   ]
  },
  {
   "cell_type": "markdown",
   "id": "2988a98a-d859-491b-83bd-0880462f2fcd",
   "metadata": {},
   "source": [
    "## merge"
   ]
  },
  {
   "cell_type": "code",
   "execution_count": null,
   "id": "75e1e24e",
   "metadata": {
    "execution": {
     "iopub.execute_input": "2022-02-13T05:18:47.764380Z",
     "iopub.status.busy": "2022-02-13T05:18:47.763500Z",
     "iopub.status.idle": "2022-02-13T05:18:47.798158Z",
     "shell.execute_reply": "2022-02-13T05:18:47.797568Z"
    }
   },
   "outputs": [],
   "source": [
    "di1 = Dict(\"1A\" => 1, \"B\" => Dict(\"C\" => 1, \"1D\" => 1))\n",
    "\n",
    "di2 = Dict(\"2A\" => 2, \"B\" => Dict(\"C\" => 2, \"2D\" => 2))\n",
    "\n",
    ";"
   ]
  },
  {
   "cell_type": "code",
   "execution_count": null,
   "id": "62f999fc",
   "metadata": {
    "execution": {
     "iopub.execute_input": "2022-02-13T05:18:47.800047Z",
     "iopub.status.busy": "2022-02-13T05:18:47.799474Z",
     "iopub.status.idle": "2022-02-13T05:18:47.959414Z",
     "shell.execute_reply": "2022-02-13T05:18:47.958972Z"
    }
   },
   "outputs": [],
   "source": [
    "OnePiece.extension.dict.view(OnePiece.extension.dict.merge(di1, di2))"
   ]
  },
  {
   "cell_type": "code",
   "execution_count": null,
   "id": "273f0476",
   "metadata": {
    "execution": {
     "iopub.execute_input": "2022-02-13T05:18:47.961291Z",
     "iopub.status.busy": "2022-02-13T05:18:47.960628Z",
     "iopub.status.idle": "2022-02-13T05:18:47.964489Z",
     "shell.execute_reply": "2022-02-13T05:18:47.964016Z"
    }
   },
   "outputs": [],
   "source": [
    "OnePiece.extension.dict.view(OnePiece.extension.dict.merge(di2, di1))"
   ]
  },
  {
   "cell_type": "markdown",
   "id": "c563b07c",
   "metadata": {},
   "source": [
    "## symbolize_key"
   ]
  },
  {
   "cell_type": "code",
   "execution_count": null,
   "id": "0e07e4f6",
   "metadata": {
    "execution": {
     "iopub.execute_input": "2022-02-13T05:18:47.967034Z",
     "iopub.status.busy": "2022-02-13T05:18:47.966376Z",
     "iopub.status.idle": "2022-02-13T05:18:49.083410Z",
     "shell.execute_reply": "2022-02-13T05:18:49.082909Z"
    }
   },
   "outputs": [],
   "source": [
    "OnePiece.extension.dict.symbolize_key(Dict(\"a\" => 1, \"b\" => 2.0))"
   ]
  },
  {
   "cell_type": "markdown",
   "id": "87773501",
   "metadata": {},
   "source": [
    "## read"
   ]
  },
  {
   "cell_type": "code",
   "execution_count": null,
   "id": "2acca60f",
   "metadata": {
    "execution": {
     "iopub.execute_input": "2022-02-13T05:18:49.085477Z",
     "iopub.status.busy": "2022-02-13T05:18:49.084730Z",
     "iopub.status.idle": "2022-02-13T05:18:49.086436Z",
     "shell.execute_reply": "2022-02-13T05:18:49.085998Z"
    }
   },
   "outputs": [],
   "source": [
    "da = \"dict.data\"\n",
    "\n",
    ";"
   ]
  },
  {
   "cell_type": "code",
   "execution_count": null,
   "id": "d4687e26",
   "metadata": {
    "execution": {
     "iopub.execute_input": "2022-02-13T05:18:49.088158Z",
     "iopub.status.busy": "2022-02-13T05:18:49.087591Z",
     "iopub.status.idle": "2022-02-13T05:18:49.141322Z",
     "shell.execute_reply": "2022-02-13T05:18:49.140879Z"
    }
   },
   "outputs": [],
   "source": [
    "OnePiece.extension.dict.view(OnePiece.extension.dict.read(joinpath(da, \"example_1.json\")))"
   ]
  },
  {
   "cell_type": "code",
   "execution_count": null,
   "id": "b2f113ef",
   "metadata": {
    "execution": {
     "iopub.execute_input": "2022-02-13T05:18:49.143179Z",
     "iopub.status.busy": "2022-02-13T05:18:49.142589Z",
     "iopub.status.idle": "2022-02-13T05:18:49.173734Z",
     "shell.execute_reply": "2022-02-13T05:18:49.173290Z"
    }
   },
   "outputs": [],
   "source": [
    "OnePiece.extension.dict.view(OnePiece.extension.dict.read(joinpath(da, \"example_2.json\")))"
   ]
  },
  {
   "cell_type": "code",
   "execution_count": null,
   "id": "e40557eb",
   "metadata": {
    "execution": {
     "iopub.execute_input": "2022-02-13T05:18:49.175493Z",
     "iopub.status.busy": "2022-02-13T05:18:49.174926Z",
     "iopub.status.idle": "2022-02-13T05:18:49.301686Z",
     "shell.execute_reply": "2022-02-13T05:18:49.301247Z"
    }
   },
   "outputs": [],
   "source": [
    "OnePiece.extension.dict.view(OnePiece.extension.dict.read(joinpath(da, \"example.toml\")))"
   ]
  },
  {
   "cell_type": "code",
   "execution_count": null,
   "id": "094c91bd",
   "metadata": {
    "execution": {
     "iopub.execute_input": "2022-02-13T05:18:49.303669Z",
     "iopub.status.busy": "2022-02-13T05:18:49.303010Z",
     "iopub.status.idle": "2022-02-13T05:18:49.624014Z",
     "shell.execute_reply": "2022-02-13T05:18:49.623481Z"
    }
   },
   "outputs": [],
   "source": [
    "OnePiece.extension.dict.view(OnePiece.extension.dict.read(joinpath(@__DIR__, \"dict.ipynb\")))"
   ]
  },
  {
   "cell_type": "markdown",
   "id": "7ac005d4",
   "metadata": {},
   "source": [
    "## write"
   ]
  },
  {
   "cell_type": "code",
   "execution_count": null,
   "id": "d61cce24",
   "metadata": {
    "execution": {
     "iopub.execute_input": "2022-02-13T05:18:49.625943Z",
     "iopub.status.busy": "2022-02-13T05:18:49.625376Z",
     "iopub.status.idle": "2022-02-13T05:18:49.676632Z",
     "shell.execute_reply": "2022-02-13T05:18:49.676085Z"
    }
   },
   "outputs": [],
   "source": [
    "js = joinpath(tempdir(), \"write.json\")\n",
    "\n",
    "di = Dict(\n",
    "    \"Luffy\" => \"Pirate King\",\n",
    "    \"Crews\" => [\n",
    "        \"Luffy\",\n",
    "        \"Zoro\",\n",
    "        \"Nami\",\n",
    "        \"Usopp\",\n",
    "        \"Sanji\",\n",
    "        \"Chopper\",\n",
    "        \"Robin\",\n",
    "        \"Franky\",\n",
    "        \"Brook\",\n",
    "        \"Jinbe\",\n",
    "    ],\n",
    "    \"episode\" => 1030,\n",
    ")\n",
    "\n",
    ";"
   ]
  },
  {
   "cell_type": "code",
   "execution_count": null,
   "id": "8402bcbe",
   "metadata": {
    "execution": {
     "iopub.execute_input": "2022-02-13T05:18:49.678583Z",
     "iopub.status.busy": "2022-02-13T05:18:49.678011Z",
     "iopub.status.idle": "2022-02-13T05:18:49.808509Z",
     "shell.execute_reply": "2022-02-13T05:18:49.807991Z"
    }
   },
   "outputs": [],
   "source": [
    "OnePiece.extension.dict.write(js, di)"
   ]
  },
  {
   "cell_type": "code",
   "execution_count": null,
   "id": "83445e66",
   "metadata": {
    "execution": {
     "iopub.execute_input": "2022-02-13T05:18:49.810483Z",
     "iopub.status.busy": "2022-02-13T05:18:49.809854Z",
     "iopub.status.idle": "2022-02-13T05:18:49.816452Z",
     "shell.execute_reply": "2022-02-13T05:18:49.816043Z"
    }
   },
   "outputs": [],
   "source": [
    "OnePiece.extension.dict.view(OnePiece.extension.dict.read(js))"
   ]
  },
  {
   "cell_type": "markdown",
   "id": "3f396855",
   "metadata": {},
   "source": [
    "---"
   ]
  },
  {
   "cell_type": "code",
   "execution_count": null,
   "id": "b4af2023",
   "metadata": {
    "execution": {
     "iopub.execute_input": "2022-02-13T05:18:49.818347Z",
     "iopub.status.busy": "2022-02-13T05:18:49.817756Z",
     "iopub.status.idle": "2022-02-13T05:18:49.820245Z",
     "shell.execute_reply": "2022-02-13T05:18:49.819796Z"
    }
   },
   "outputs": [],
   "source": [
    "if isdir(TE)\n",
    "\n",
    "    rm(TE, recursive = true)\n",
    "\n",
    "    println(\"Removed \", TE, \".\")\n",
    "\n",
    "end"
   ]
  }
 ],
 "metadata": {
  "kernelspec": {
   "display_name": "Julia 1.7.2",
   "language": "julia",
   "name": "julia-1.7"
  },
  "language_info": {
   "file_extension": ".jl",
   "mimetype": "application/julia",
   "name": "julia",
   "version": "1.7.2"
  }
 },
 "nbformat": 4,
 "nbformat_minor": 5
}
