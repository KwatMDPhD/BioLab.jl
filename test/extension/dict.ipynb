{
 "cells": [
  {
   "cell_type": "code",
   "execution_count": null,
   "id": "017464da",
   "metadata": {
    "execution": {
     "iopub.execute_input": "2022-02-13T23:28:52.835363Z",
     "iopub.status.busy": "2022-02-13T23:28:52.470585Z",
     "iopub.status.idle": "2022-02-13T23:28:53.037941Z",
     "shell.execute_reply": "2022-02-13T23:28:53.037391Z"
    }
   },
   "outputs": [],
   "source": [
    "TE = joinpath(tempdir(), \"OnePiece.test\")\n",
    "\n",
    "if isdir(TE)\n",
    "\n",
    "    rm(TE, recursive = true)\n",
    "\n",
    "    println(\"Removed \", TE, \".\")\n",
    "\n",
    "end\n",
    "\n",
    "mkdir(TE)\n",
    "\n",
    "println(\"Made \", TE, \".\")"
   ]
  },
  {
   "cell_type": "code",
   "execution_count": null,
   "id": "34e4701e",
   "metadata": {
    "execution": {
     "iopub.execute_input": "2022-02-13T23:28:53.039843Z",
     "iopub.status.busy": "2022-02-13T23:28:53.039346Z",
     "iopub.status.idle": "2022-02-13T23:28:57.857834Z",
     "shell.execute_reply": "2022-02-13T23:28:57.857177Z"
    }
   },
   "outputs": [],
   "source": [
    "using OnePiece"
   ]
  },
  {
   "cell_type": "markdown",
   "id": "b92a3da9",
   "metadata": {},
   "source": [
    "---"
   ]
  },
  {
   "cell_type": "markdown",
   "id": "7622e7dc",
   "metadata": {},
   "source": [
    "## make"
   ]
  },
  {
   "cell_type": "code",
   "execution_count": null,
   "id": "5b789b4c",
   "metadata": {
    "execution": {
     "iopub.execute_input": "2022-02-13T23:28:58.240194Z",
     "iopub.status.busy": "2022-02-13T23:28:57.859399Z",
     "iopub.status.idle": "2022-02-13T23:29:00.108047Z",
     "shell.execute_reply": "2022-02-13T23:29:00.107490Z"
    }
   },
   "outputs": [],
   "source": [
    "OnePiece.extension.dict.make(a = 1, b = 2)"
   ]
  },
  {
   "cell_type": "markdown",
   "id": "7c7a0328",
   "metadata": {
    "execution": {
     "iopub.execute_input": "2022-02-07T19:53:17.109487Z",
     "iopub.status.busy": "2022-02-07T19:53:15.519011Z",
     "iopub.status.idle": "2022-02-07T19:53:17.994090Z",
     "shell.execute_reply": "2022-02-07T19:53:17.993635Z"
    }
   },
   "source": [
    "## view"
   ]
  },
  {
   "cell_type": "code",
   "execution_count": null,
   "id": "8f9fe131",
   "metadata": {
    "execution": {
     "iopub.execute_input": "2022-02-13T23:29:00.110113Z",
     "iopub.status.busy": "2022-02-13T23:29:00.109498Z",
     "iopub.status.idle": "2022-02-13T23:29:00.207677Z",
     "shell.execute_reply": "2022-02-13T23:29:00.207121Z"
    }
   },
   "outputs": [],
   "source": [
    "OnePiece.extension.dict.view(Dict())"
   ]
  },
  {
   "cell_type": "markdown",
   "id": "e6d28421",
   "metadata": {},
   "source": [
    "## summarize"
   ]
  },
  {
   "cell_type": "code",
   "execution_count": null,
   "id": "324e0b15",
   "metadata": {
    "execution": {
     "iopub.execute_input": "2022-02-13T23:29:00.209802Z",
     "iopub.status.busy": "2022-02-13T23:29:00.209201Z",
     "iopub.status.idle": "2022-02-13T23:29:00.710522Z",
     "shell.execute_reply": "2022-02-13T23:29:00.709995Z"
    }
   },
   "outputs": [],
   "source": [
    "OnePiece.extension.dict.summarize(\n",
    "    Dict(1 => \"a\", 2 => \"a\", 3 => \"b\", 4 => nothing, 5 => nothing, 6 => NaN),\n",
    ")"
   ]
  },
  {
   "cell_type": "markdown",
   "id": "d82a2d5c",
   "metadata": {},
   "source": [
    "## sort_recursively!"
   ]
  },
  {
   "cell_type": "code",
   "execution_count": null,
   "id": "d7558561",
   "metadata": {
    "execution": {
     "iopub.execute_input": "2022-02-13T23:29:00.712712Z",
     "iopub.status.busy": "2022-02-13T23:29:00.712196Z",
     "iopub.status.idle": "2022-02-13T23:29:02.125054Z",
     "shell.execute_reply": "2022-02-13T23:29:02.124702Z"
    }
   },
   "outputs": [],
   "source": [
    "di = Dict(\n",
    "    \"z\" => Dict(\"c\" => 1, \"b\" => 2, \"a\" => 3),\n",
    "    \"y\" => Dict(),\n",
    "    \"x\" => [3, 2, 1, Dict(\"zo\" => 2, \"lu\" => 1)],\n",
    "    \"w\" => [Dict(\"k\" => 8, \"j\" => 24), Dict(\"lo\" => 1, \"la\" => 3)],\n",
    ")\n",
    "\n",
    "OnePiece.extension.dict.view(OnePiece.extension.dict.sort_recursively!(di))"
   ]
  },
  {
   "cell_type": "markdown",
   "id": "2988a98a-d859-491b-83bd-0880462f2fcd",
   "metadata": {},
   "source": [
    "## merge"
   ]
  },
  {
   "cell_type": "code",
   "execution_count": null,
   "id": "75e1e24e",
   "metadata": {
    "execution": {
     "iopub.execute_input": "2022-02-13T23:29:02.127395Z",
     "iopub.status.busy": "2022-02-13T23:29:02.126816Z",
     "iopub.status.idle": "2022-02-13T23:29:02.157191Z",
     "shell.execute_reply": "2022-02-13T23:29:02.156647Z"
    }
   },
   "outputs": [],
   "source": [
    "di1 = Dict(\"1A\" => 1, \"B\" => Dict(\"C\" => 1, \"1D\" => 1))\n",
    "\n",
    "di2 = Dict(\"2A\" => 2, \"B\" => Dict(\"C\" => 2, \"2D\" => 2))\n",
    "\n",
    ";"
   ]
  },
  {
   "cell_type": "code",
   "execution_count": null,
   "id": "62f999fc",
   "metadata": {
    "execution": {
     "iopub.execute_input": "2022-02-13T23:29:02.159410Z",
     "iopub.status.busy": "2022-02-13T23:29:02.158713Z",
     "iopub.status.idle": "2022-02-13T23:29:02.321251Z",
     "shell.execute_reply": "2022-02-13T23:29:02.320850Z"
    }
   },
   "outputs": [],
   "source": [
    "OnePiece.extension.dict.view(OnePiece.extension.dict.merge(di1, di2))"
   ]
  },
  {
   "cell_type": "code",
   "execution_count": null,
   "id": "273f0476",
   "metadata": {
    "execution": {
     "iopub.execute_input": "2022-02-13T23:29:02.323219Z",
     "iopub.status.busy": "2022-02-13T23:29:02.322671Z",
     "iopub.status.idle": "2022-02-13T23:29:02.326531Z",
     "shell.execute_reply": "2022-02-13T23:29:02.326165Z"
    }
   },
   "outputs": [],
   "source": [
    "OnePiece.extension.dict.view(OnePiece.extension.dict.merge(di2, di1))"
   ]
  },
  {
   "cell_type": "markdown",
   "id": "c563b07c",
   "metadata": {},
   "source": [
    "## symbolize_key"
   ]
  },
  {
   "cell_type": "code",
   "execution_count": null,
   "id": "0e07e4f6",
   "metadata": {
    "execution": {
     "iopub.execute_input": "2022-02-13T23:29:02.328414Z",
     "iopub.status.busy": "2022-02-13T23:29:02.327907Z",
     "iopub.status.idle": "2022-02-13T23:29:03.304337Z",
     "shell.execute_reply": "2022-02-13T23:29:03.303917Z"
    }
   },
   "outputs": [],
   "source": [
    "OnePiece.extension.dict.symbolize_key(Dict(\"a\" => 1, \"b\" => 2.0))"
   ]
  },
  {
   "cell_type": "markdown",
   "id": "87773501",
   "metadata": {},
   "source": [
    "## read"
   ]
  },
  {
   "cell_type": "code",
   "execution_count": null,
   "id": "2acca60f",
   "metadata": {
    "execution": {
     "iopub.execute_input": "2022-02-13T23:29:03.306547Z",
     "iopub.status.busy": "2022-02-13T23:29:03.305864Z",
     "iopub.status.idle": "2022-02-13T23:29:03.307358Z",
     "shell.execute_reply": "2022-02-13T23:29:03.306988Z"
    }
   },
   "outputs": [],
   "source": [
    "da = \"dict.data\"\n",
    "\n",
    ";"
   ]
  },
  {
   "cell_type": "code",
   "execution_count": null,
   "id": "d4687e26",
   "metadata": {
    "execution": {
     "iopub.execute_input": "2022-02-13T23:29:03.309139Z",
     "iopub.status.busy": "2022-02-13T23:29:03.308645Z",
     "iopub.status.idle": "2022-02-13T23:29:03.354040Z",
     "shell.execute_reply": "2022-02-13T23:29:03.353656Z"
    }
   },
   "outputs": [],
   "source": [
    "OnePiece.extension.dict.view(OnePiece.extension.dict.read(joinpath(da, \"example_1.json\")))"
   ]
  },
  {
   "cell_type": "code",
   "execution_count": null,
   "id": "b2f113ef",
   "metadata": {
    "execution": {
     "iopub.execute_input": "2022-02-13T23:29:03.355958Z",
     "iopub.status.busy": "2022-02-13T23:29:03.355449Z",
     "iopub.status.idle": "2022-02-13T23:29:03.382449Z",
     "shell.execute_reply": "2022-02-13T23:29:03.382071Z"
    }
   },
   "outputs": [],
   "source": [
    "OnePiece.extension.dict.view(OnePiece.extension.dict.read(joinpath(da, \"example_2.json\")))"
   ]
  },
  {
   "cell_type": "code",
   "execution_count": null,
   "id": "e40557eb",
   "metadata": {
    "execution": {
     "iopub.execute_input": "2022-02-13T23:29:03.384270Z",
     "iopub.status.busy": "2022-02-13T23:29:03.383779Z",
     "iopub.status.idle": "2022-02-13T23:29:03.513179Z",
     "shell.execute_reply": "2022-02-13T23:29:03.512701Z"
    }
   },
   "outputs": [],
   "source": [
    "OnePiece.extension.dict.view(OnePiece.extension.dict.read(joinpath(da, \"example.toml\")))"
   ]
  },
  {
   "cell_type": "code",
   "execution_count": null,
   "id": "094c91bd",
   "metadata": {
    "execution": {
     "iopub.execute_input": "2022-02-13T23:29:03.515735Z",
     "iopub.status.busy": "2022-02-13T23:29:03.515118Z",
     "iopub.status.idle": "2022-02-13T23:29:03.862341Z",
     "shell.execute_reply": "2022-02-13T23:29:03.861868Z"
    }
   },
   "outputs": [],
   "source": [
    "OnePiece.extension.dict.view(OnePiece.extension.dict.read(joinpath(@__DIR__, \"dict.ipynb\")))"
   ]
  },
  {
   "cell_type": "markdown",
   "id": "7ac005d4",
   "metadata": {},
   "source": [
    "## write"
   ]
  },
  {
   "cell_type": "code",
   "execution_count": null,
   "id": "d61cce24",
   "metadata": {
    "execution": {
     "iopub.execute_input": "2022-02-13T23:29:03.864463Z",
     "iopub.status.busy": "2022-02-13T23:29:03.863883Z",
     "iopub.status.idle": "2022-02-13T23:29:03.918715Z",
     "shell.execute_reply": "2022-02-13T23:29:03.918241Z"
    }
   },
   "outputs": [],
   "source": [
    "js = joinpath(tempdir(), \"write.json\")\n",
    "\n",
    "di = Dict(\n",
    "    \"Luffy\" => \"Pirate King\",\n",
    "    \"Crews\" => [\n",
    "        \"Luffy\",\n",
    "        \"Zoro\",\n",
    "        \"Nami\",\n",
    "        \"Usopp\",\n",
    "        \"Sanji\",\n",
    "        \"Chopper\",\n",
    "        \"Robin\",\n",
    "        \"Franky\",\n",
    "        \"Brook\",\n",
    "        \"Jinbe\",\n",
    "    ],\n",
    "    \"episode\" => 1030,\n",
    ")\n",
    "\n",
    ";"
   ]
  },
  {
   "cell_type": "code",
   "execution_count": null,
   "id": "8402bcbe",
   "metadata": {
    "execution": {
     "iopub.execute_input": "2022-02-13T23:29:03.920587Z",
     "iopub.status.busy": "2022-02-13T23:29:03.920069Z",
     "iopub.status.idle": "2022-02-13T23:29:04.047498Z",
     "shell.execute_reply": "2022-02-13T23:29:04.047046Z"
    }
   },
   "outputs": [],
   "source": [
    "OnePiece.extension.dict.write(js, di)"
   ]
  },
  {
   "cell_type": "code",
   "execution_count": null,
   "id": "83445e66",
   "metadata": {
    "execution": {
     "iopub.execute_input": "2022-02-13T23:29:04.049613Z",
     "iopub.status.busy": "2022-02-13T23:29:04.048828Z",
     "iopub.status.idle": "2022-02-13T23:29:04.057354Z",
     "shell.execute_reply": "2022-02-13T23:29:04.056735Z"
    }
   },
   "outputs": [],
   "source": [
    "OnePiece.extension.dict.view(OnePiece.extension.dict.read(js))"
   ]
  },
  {
   "cell_type": "markdown",
   "id": "3f396855",
   "metadata": {},
   "source": [
    "---"
   ]
  },
  {
   "cell_type": "code",
   "execution_count": null,
   "id": "b4af2023",
   "metadata": {
    "execution": {
     "iopub.execute_input": "2022-02-13T23:29:04.059943Z",
     "iopub.status.busy": "2022-02-13T23:29:04.059269Z",
     "iopub.status.idle": "2022-02-13T23:29:04.061987Z",
     "shell.execute_reply": "2022-02-13T23:29:04.061614Z"
    }
   },
   "outputs": [],
   "source": [
    "if isdir(TE)\n",
    "\n",
    "    rm(TE, recursive = true)\n",
    "\n",
    "    println(\"Removed \", TE, \".\")\n",
    "\n",
    "end"
   ]
  }
 ],
 "metadata": {
  "kernelspec": {
   "display_name": "Julia 1.7.2",
   "language": "julia",
   "name": "julia-1.7"
  },
  "language_info": {
   "file_extension": ".jl",
   "mimetype": "application/julia",
   "name": "julia",
   "version": "1.7.2"
  }
 },
 "nbformat": 4,
 "nbformat_minor": 5
}
