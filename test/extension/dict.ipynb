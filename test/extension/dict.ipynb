{
 "cells": [
  {
   "cell_type": "code",
   "execution_count": null,
   "id": "34e4701e",
   "metadata": {
    "execution": {
     "iopub.execute_input": "2022-02-08T08:31:31.626137Z",
     "iopub.status.busy": "2022-02-08T08:31:31.225392Z",
     "iopub.status.idle": "2022-02-08T08:31:32.444858Z",
     "shell.execute_reply": "2022-02-08T08:31:32.444369Z"
    }
   },
   "outputs": [],
   "source": [
    "using Revise\n",
    "using BenchmarkTools"
   ]
  },
  {
   "cell_type": "code",
   "execution_count": null,
   "id": "570e4b37",
   "metadata": {
    "execution": {
     "iopub.execute_input": "2022-02-08T08:31:32.446995Z",
     "iopub.status.busy": "2022-02-08T08:31:32.446316Z",
     "iopub.status.idle": "2022-02-08T08:31:44.144892Z",
     "shell.execute_reply": "2022-02-08T08:31:44.144337Z"
    }
   },
   "outputs": [],
   "source": [
    "using OnePiece"
   ]
  },
  {
   "cell_type": "markdown",
   "id": "7c7a0328",
   "metadata": {
    "execution": {
     "iopub.execute_input": "2022-02-07T19:53:17.109487Z",
     "iopub.status.busy": "2022-02-07T19:53:15.519011Z",
     "iopub.status.idle": "2022-02-07T19:53:17.994090Z",
     "shell.execute_reply": "2022-02-07T19:53:17.993635Z"
    }
   },
   "source": [
    "## view"
   ]
  },
  {
   "cell_type": "code",
   "execution_count": null,
   "id": "8f9fe131",
   "metadata": {
    "execution": {
     "iopub.execute_input": "2022-02-08T08:31:45.793421Z",
     "iopub.status.busy": "2022-02-08T08:31:44.146255Z",
     "iopub.status.idle": "2022-02-08T08:31:46.514121Z",
     "shell.execute_reply": "2022-02-08T08:31:46.513393Z"
    }
   },
   "outputs": [],
   "source": [
    "OnePiece.extension.dict.view(Dict())"
   ]
  },
  {
   "cell_type": "markdown",
   "id": "e6d28421",
   "metadata": {},
   "source": [
    "## summarize"
   ]
  },
  {
   "cell_type": "code",
   "execution_count": null,
   "id": "324e0b15",
   "metadata": {
    "execution": {
     "iopub.execute_input": "2022-02-08T08:31:46.516332Z",
     "iopub.status.busy": "2022-02-08T08:31:46.515651Z",
     "iopub.status.idle": "2022-02-08T08:31:47.146532Z",
     "shell.execute_reply": "2022-02-08T08:31:47.146143Z"
    }
   },
   "outputs": [],
   "source": [
    "OnePiece.extension.dict.summarize(\n",
    "    Dict(1 => \"a\", 2 => \"a\", 3 => \"b\", 4 => nothing, 5 => nothing, 6 => NaN),\n",
    ")"
   ]
  },
  {
   "cell_type": "markdown",
   "id": "d82a2d5c",
   "metadata": {},
   "source": [
    "## sort_recursively!"
   ]
  },
  {
   "cell_type": "code",
   "execution_count": null,
   "id": "d7558561",
   "metadata": {
    "execution": {
     "iopub.execute_input": "2022-02-08T08:31:47.148190Z",
     "iopub.status.busy": "2022-02-08T08:31:47.147666Z",
     "iopub.status.idle": "2022-02-08T08:31:48.663167Z",
     "shell.execute_reply": "2022-02-08T08:31:48.662744Z"
    }
   },
   "outputs": [],
   "source": [
    "di = Dict(\n",
    "    \"z\" => Dict(\"c\" => 1, \"b\" => 2, \"a\" => 3),\n",
    "    \"y\" => Dict(),\n",
    "    \"x\" => [3, 2, 1, Dict(\"zo\" => 2, \"lu\" => 1)],\n",
    "    \"w\" => [Dict(\"k\" => 8, \"j\" => 24), Dict(\"lo\" => 1, \"la\" => 3)],\n",
    ")\n",
    "\n",
    "OnePiece.extension.dict.view(OnePiece.extension.dict.sort_recursively!(di))"
   ]
  },
  {
   "cell_type": "markdown",
   "id": "2988a98a-d859-491b-83bd-0880462f2fcd",
   "metadata": {},
   "source": [
    "## merge"
   ]
  },
  {
   "cell_type": "code",
   "execution_count": null,
   "id": "75e1e24e",
   "metadata": {
    "execution": {
     "iopub.execute_input": "2022-02-08T08:31:48.665279Z",
     "iopub.status.busy": "2022-02-08T08:31:48.664567Z",
     "iopub.status.idle": "2022-02-08T08:31:48.724658Z",
     "shell.execute_reply": "2022-02-08T08:31:48.724143Z"
    }
   },
   "outputs": [],
   "source": [
    "di1 = Dict(\"1A\" => 1, \"B\" => Dict(\"C\" => 1, \"1D\" => 1))\n",
    "\n",
    "di2 = Dict(\"2A\" => 2, \"B\" => Dict(\"C\" => 2, \"2D\" => 2))\n",
    "\n",
    ";"
   ]
  },
  {
   "cell_type": "code",
   "execution_count": null,
   "id": "62f999fc",
   "metadata": {
    "execution": {
     "iopub.execute_input": "2022-02-08T08:31:48.726473Z",
     "iopub.status.busy": "2022-02-08T08:31:48.725893Z",
     "iopub.status.idle": "2022-02-08T08:31:48.881897Z",
     "shell.execute_reply": "2022-02-08T08:31:48.881454Z"
    }
   },
   "outputs": [],
   "source": [
    "OnePiece.extension.dict.view(OnePiece.extension.dict.merge(di1, di2))"
   ]
  },
  {
   "cell_type": "code",
   "execution_count": null,
   "id": "273f0476",
   "metadata": {
    "execution": {
     "iopub.execute_input": "2022-02-08T08:31:48.883886Z",
     "iopub.status.busy": "2022-02-08T08:31:48.883292Z",
     "iopub.status.idle": "2022-02-08T08:31:48.898954Z",
     "shell.execute_reply": "2022-02-08T08:31:48.898539Z"
    }
   },
   "outputs": [],
   "source": [
    "OnePiece.extension.dict.view(OnePiece.extension.dict.merge(di2, di1))"
   ]
  },
  {
   "cell_type": "markdown",
   "id": "c563b07c",
   "metadata": {},
   "source": [
    "## symbolize_key"
   ]
  },
  {
   "cell_type": "code",
   "execution_count": null,
   "id": "0e07e4f6",
   "metadata": {
    "execution": {
     "iopub.execute_input": "2022-02-08T08:31:48.900752Z",
     "iopub.status.busy": "2022-02-08T08:31:48.900179Z",
     "iopub.status.idle": "2022-02-08T08:31:50.264235Z",
     "shell.execute_reply": "2022-02-08T08:31:50.263761Z"
    }
   },
   "outputs": [],
   "source": [
    "OnePiece.extension.dict.symbolize_key(Dict(\"a\" => 1, \"b\" => 2.0))"
   ]
  },
  {
   "cell_type": "markdown",
   "id": "87773501",
   "metadata": {},
   "source": [
    "## read"
   ]
  },
  {
   "cell_type": "code",
   "execution_count": null,
   "id": "2acca60f",
   "metadata": {
    "execution": {
     "iopub.execute_input": "2022-02-08T08:31:50.266180Z",
     "iopub.status.busy": "2022-02-08T08:31:50.265617Z",
     "iopub.status.idle": "2022-02-08T08:31:50.278688Z",
     "shell.execute_reply": "2022-02-08T08:31:50.278143Z"
    }
   },
   "outputs": [],
   "source": [
    "da = \"dict.data\"\n",
    "\n",
    ";"
   ]
  },
  {
   "cell_type": "code",
   "execution_count": null,
   "id": "d4687e26",
   "metadata": {
    "execution": {
     "iopub.execute_input": "2022-02-08T08:31:50.280550Z",
     "iopub.status.busy": "2022-02-08T08:31:50.279903Z",
     "iopub.status.idle": "2022-02-08T08:31:50.332302Z",
     "shell.execute_reply": "2022-02-08T08:31:50.331764Z"
    }
   },
   "outputs": [],
   "source": [
    "OnePiece.extension.dict.view(OnePiece.extension.dict.read(joinpath(da, \"example_1.json\")))"
   ]
  },
  {
   "cell_type": "code",
   "execution_count": null,
   "id": "b2f113ef",
   "metadata": {
    "execution": {
     "iopub.execute_input": "2022-02-08T08:31:50.334240Z",
     "iopub.status.busy": "2022-02-08T08:31:50.333635Z",
     "iopub.status.idle": "2022-02-08T08:31:50.376387Z",
     "shell.execute_reply": "2022-02-08T08:31:50.375940Z"
    }
   },
   "outputs": [],
   "source": [
    "OnePiece.extension.dict.view(OnePiece.extension.dict.read(joinpath(da, \"example_2.json\")))"
   ]
  },
  {
   "cell_type": "code",
   "execution_count": null,
   "id": "e40557eb",
   "metadata": {},
   "outputs": [],
   "source": [
    "OnePiece.extension.dict.view(OnePiece.extension.dict.read(joinpath(da, \"example.toml\")))"
   ]
  },
  {
   "cell_type": "markdown",
   "id": "7ac005d4",
   "metadata": {},
   "source": [
    "## write"
   ]
  },
  {
   "cell_type": "code",
   "execution_count": null,
   "id": "d61cce24",
   "metadata": {
    "execution": {
     "iopub.execute_input": "2022-02-08T08:31:50.378390Z",
     "iopub.status.busy": "2022-02-08T08:31:50.377744Z",
     "iopub.status.idle": "2022-02-08T08:31:50.432561Z",
     "shell.execute_reply": "2022-02-08T08:31:50.432077Z"
    }
   },
   "outputs": [],
   "source": [
    "js = joinpath(tempdir(), \"write.json\")\n",
    "\n",
    "di = Dict(\n",
    "    \"Luffy\" => \"Pirate King\",\n",
    "    \"Crews\" => [\n",
    "        \"Luffy\",\n",
    "        \"Zoro\",\n",
    "        \"Nami\",\n",
    "        \"Usopp\",\n",
    "        \"Sanji\",\n",
    "        \"Chopper\",\n",
    "        \"Robin\",\n",
    "        \"Franky\",\n",
    "        \"Brook\",\n",
    "        \"Jinbe\",\n",
    "    ],\n",
    "    \"episode\" => 1030,\n",
    ")\n",
    "\n",
    ";"
   ]
  },
  {
   "cell_type": "code",
   "execution_count": null,
   "id": "8402bcbe",
   "metadata": {
    "execution": {
     "iopub.execute_input": "2022-02-08T08:31:50.434621Z",
     "iopub.status.busy": "2022-02-08T08:31:50.433904Z",
     "iopub.status.idle": "2022-02-08T08:31:50.571435Z",
     "shell.execute_reply": "2022-02-08T08:31:50.570976Z"
    }
   },
   "outputs": [],
   "source": [
    "OnePiece.extension.dict.write(js, di)"
   ]
  },
  {
   "cell_type": "code",
   "execution_count": null,
   "id": "83445e66",
   "metadata": {
    "execution": {
     "iopub.execute_input": "2022-02-08T08:31:50.573064Z",
     "iopub.status.busy": "2022-02-08T08:31:50.572516Z",
     "iopub.status.idle": "2022-02-08T08:31:50.591334Z",
     "shell.execute_reply": "2022-02-08T08:31:50.590922Z"
    }
   },
   "outputs": [],
   "source": [
    "OnePiece.extension.dict.view(OnePiece.extension.dict.read(js))"
   ]
  }
 ],
 "metadata": {
  "@webio": {
   "lastCommId": null,
   "lastKernelId": null
  },
  "kernelspec": {
   "display_name": "Julia 1.7.1",
   "language": "julia",
   "name": "julia-1.7"
  },
  "language_info": {
   "file_extension": ".jl",
   "mimetype": "application/julia",
   "name": "julia",
   "version": "1.7.1"
  }
 },
 "nbformat": 4,
 "nbformat_minor": 5
}
