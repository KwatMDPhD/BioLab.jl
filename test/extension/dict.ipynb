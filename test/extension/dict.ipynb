{
 "cells": [
  {
   "cell_type": "code",
   "execution_count": null,
   "id": "34e4701e",
   "metadata": {
    "execution": {
     "iopub.execute_input": "2022-02-09T02:35:03.980360Z",
     "iopub.status.busy": "2022-02-09T02:35:03.573202Z",
     "iopub.status.idle": "2022-02-09T02:35:05.029512Z",
     "shell.execute_reply": "2022-02-09T02:35:05.028912Z"
    }
   },
   "outputs": [],
   "source": [
    "using Revise\n",
    "using BenchmarkTools"
   ]
  },
  {
   "cell_type": "code",
   "execution_count": null,
   "id": "570e4b37",
   "metadata": {
    "execution": {
     "iopub.execute_input": "2022-02-09T02:35:05.031526Z",
     "iopub.status.busy": "2022-02-09T02:35:05.030849Z",
     "iopub.status.idle": "2022-02-09T02:35:15.953183Z",
     "shell.execute_reply": "2022-02-09T02:35:15.952644Z"
    }
   },
   "outputs": [],
   "source": [
    "using OnePiece"
   ]
  },
  {
   "cell_type": "markdown",
   "id": "7c7a0328",
   "metadata": {
    "execution": {
     "iopub.execute_input": "2022-02-07T19:53:17.109487Z",
     "iopub.status.busy": "2022-02-07T19:53:15.519011Z",
     "iopub.status.idle": "2022-02-07T19:53:17.994090Z",
     "shell.execute_reply": "2022-02-07T19:53:17.993635Z"
    }
   },
   "source": [
    "## view"
   ]
  },
  {
   "cell_type": "code",
   "execution_count": null,
   "id": "8f9fe131",
   "metadata": {
    "execution": {
     "iopub.execute_input": "2022-02-09T02:35:17.667234Z",
     "iopub.status.busy": "2022-02-09T02:35:15.954753Z",
     "iopub.status.idle": "2022-02-09T02:35:18.454630Z",
     "shell.execute_reply": "2022-02-09T02:35:18.454127Z"
    }
   },
   "outputs": [],
   "source": [
    "OnePiece.extension.dict.view(Dict())"
   ]
  },
  {
   "cell_type": "markdown",
   "id": "e6d28421",
   "metadata": {},
   "source": [
    "## summarize"
   ]
  },
  {
   "cell_type": "code",
   "execution_count": null,
   "id": "324e0b15",
   "metadata": {
    "execution": {
     "iopub.execute_input": "2022-02-09T02:35:18.456649Z",
     "iopub.status.busy": "2022-02-09T02:35:18.456090Z",
     "iopub.status.idle": "2022-02-09T02:35:19.108833Z",
     "shell.execute_reply": "2022-02-09T02:35:19.108460Z"
    }
   },
   "outputs": [],
   "source": [
    "OnePiece.extension.dict.summarize(\n",
    "    Dict(1 => \"a\", 2 => \"a\", 3 => \"b\", 4 => nothing, 5 => nothing, 6 => NaN),\n",
    ")"
   ]
  },
  {
   "cell_type": "markdown",
   "id": "d82a2d5c",
   "metadata": {},
   "source": [
    "## sort_recursively!"
   ]
  },
  {
   "cell_type": "code",
   "execution_count": null,
   "id": "d7558561",
   "metadata": {
    "execution": {
     "iopub.execute_input": "2022-02-09T02:35:19.110845Z",
     "iopub.status.busy": "2022-02-09T02:35:19.110300Z",
     "iopub.status.idle": "2022-02-09T02:35:20.809432Z",
     "shell.execute_reply": "2022-02-09T02:35:20.808976Z"
    }
   },
   "outputs": [],
   "source": [
    "di = Dict(\n",
    "    \"z\" => Dict(\"c\" => 1, \"b\" => 2, \"a\" => 3),\n",
    "    \"y\" => Dict(),\n",
    "    \"x\" => [3, 2, 1, Dict(\"zo\" => 2, \"lu\" => 1)],\n",
    "    \"w\" => [Dict(\"k\" => 8, \"j\" => 24), Dict(\"lo\" => 1, \"la\" => 3)],\n",
    ")\n",
    "\n",
    "OnePiece.extension.dict.view(OnePiece.extension.dict.sort_recursively!(di))"
   ]
  },
  {
   "cell_type": "markdown",
   "id": "2988a98a-d859-491b-83bd-0880462f2fcd",
   "metadata": {},
   "source": [
    "## merge"
   ]
  },
  {
   "cell_type": "code",
   "execution_count": null,
   "id": "75e1e24e",
   "metadata": {
    "execution": {
     "iopub.execute_input": "2022-02-09T02:35:20.811584Z",
     "iopub.status.busy": "2022-02-09T02:35:20.810899Z",
     "iopub.status.idle": "2022-02-09T02:35:20.857575Z",
     "shell.execute_reply": "2022-02-09T02:35:20.857068Z"
    }
   },
   "outputs": [],
   "source": [
    "di1 = Dict(\"1A\" => 1, \"B\" => Dict(\"C\" => 1, \"1D\" => 1))\n",
    "\n",
    "di2 = Dict(\"2A\" => 2, \"B\" => Dict(\"C\" => 2, \"2D\" => 2))\n",
    "\n",
    ";"
   ]
  },
  {
   "cell_type": "code",
   "execution_count": null,
   "id": "62f999fc",
   "metadata": {
    "execution": {
     "iopub.execute_input": "2022-02-09T02:35:20.859447Z",
     "iopub.status.busy": "2022-02-09T02:35:20.858858Z",
     "iopub.status.idle": "2022-02-09T02:35:21.033672Z",
     "shell.execute_reply": "2022-02-09T02:35:21.033139Z"
    }
   },
   "outputs": [],
   "source": [
    "OnePiece.extension.dict.view(OnePiece.extension.dict.merge(di1, di2))"
   ]
  },
  {
   "cell_type": "code",
   "execution_count": null,
   "id": "273f0476",
   "metadata": {
    "execution": {
     "iopub.execute_input": "2022-02-09T02:35:21.036116Z",
     "iopub.status.busy": "2022-02-09T02:35:21.035369Z",
     "iopub.status.idle": "2022-02-09T02:35:21.050595Z",
     "shell.execute_reply": "2022-02-09T02:35:21.050141Z"
    }
   },
   "outputs": [],
   "source": [
    "OnePiece.extension.dict.view(OnePiece.extension.dict.merge(di2, di1))"
   ]
  },
  {
   "cell_type": "markdown",
   "id": "c563b07c",
   "metadata": {},
   "source": [
    "## symbolize_key"
   ]
  },
  {
   "cell_type": "code",
   "execution_count": null,
   "id": "0e07e4f6",
   "metadata": {
    "execution": {
     "iopub.execute_input": "2022-02-09T02:35:21.052911Z",
     "iopub.status.busy": "2022-02-09T02:35:21.052253Z",
     "iopub.status.idle": "2022-02-09T02:35:22.350491Z",
     "shell.execute_reply": "2022-02-09T02:35:22.350033Z"
    }
   },
   "outputs": [],
   "source": [
    "OnePiece.extension.dict.symbolize_key(Dict(\"a\" => 1, \"b\" => 2.0))"
   ]
  },
  {
   "cell_type": "markdown",
   "id": "87773501",
   "metadata": {},
   "source": [
    "## read"
   ]
  },
  {
   "cell_type": "code",
   "execution_count": null,
   "id": "2acca60f",
   "metadata": {
    "execution": {
     "iopub.execute_input": "2022-02-09T02:35:22.352597Z",
     "iopub.status.busy": "2022-02-09T02:35:22.351936Z",
     "iopub.status.idle": "2022-02-09T02:35:22.365250Z",
     "shell.execute_reply": "2022-02-09T02:35:22.364753Z"
    }
   },
   "outputs": [],
   "source": [
    "da = \"dict.data\"\n",
    "\n",
    ";"
   ]
  },
  {
   "cell_type": "code",
   "execution_count": null,
   "id": "d4687e26",
   "metadata": {
    "execution": {
     "iopub.execute_input": "2022-02-09T02:35:22.367232Z",
     "iopub.status.busy": "2022-02-09T02:35:22.366592Z",
     "iopub.status.idle": "2022-02-09T02:35:22.430708Z",
     "shell.execute_reply": "2022-02-09T02:35:22.430265Z"
    }
   },
   "outputs": [],
   "source": [
    "OnePiece.extension.dict.view(OnePiece.extension.dict.read(joinpath(da, \"example_1.json\")))"
   ]
  },
  {
   "cell_type": "code",
   "execution_count": null,
   "id": "b2f113ef",
   "metadata": {
    "execution": {
     "iopub.execute_input": "2022-02-09T02:35:22.432549Z",
     "iopub.status.busy": "2022-02-09T02:35:22.431943Z",
     "iopub.status.idle": "2022-02-09T02:35:22.473384Z",
     "shell.execute_reply": "2022-02-09T02:35:22.472935Z"
    }
   },
   "outputs": [],
   "source": [
    "OnePiece.extension.dict.view(OnePiece.extension.dict.read(joinpath(da, \"example_2.json\")))"
   ]
  },
  {
   "cell_type": "code",
   "execution_count": null,
   "id": "e40557eb",
   "metadata": {
    "execution": {
     "iopub.execute_input": "2022-02-09T02:35:22.475158Z",
     "iopub.status.busy": "2022-02-09T02:35:22.474579Z",
     "iopub.status.idle": "2022-02-09T02:35:22.616242Z",
     "shell.execute_reply": "2022-02-09T02:35:22.615751Z"
    }
   },
   "outputs": [],
   "source": [
    "OnePiece.extension.dict.view(OnePiece.extension.dict.read(joinpath(da, \"example.toml\")))"
   ]
  },
  {
   "cell_type": "code",
   "execution_count": null,
   "id": "094c91bd",
   "metadata": {
    "execution": {
     "iopub.execute_input": "2022-02-09T02:35:22.618332Z",
     "iopub.status.busy": "2022-02-09T02:35:22.617679Z",
     "iopub.status.idle": "2022-02-09T02:35:22.918638Z",
     "shell.execute_reply": "2022-02-09T02:35:22.918176Z"
    }
   },
   "outputs": [],
   "source": [
    "OnePiece.extension.dict.view(OnePiece.extension.dict.read(joinpath(@__DIR__, \"dict.ipynb\")))"
   ]
  },
  {
   "cell_type": "markdown",
   "id": "7ac005d4",
   "metadata": {},
   "source": [
    "## write"
   ]
  },
  {
   "cell_type": "code",
   "execution_count": null,
   "id": "d61cce24",
   "metadata": {
    "execution": {
     "iopub.execute_input": "2022-02-09T02:35:22.920629Z",
     "iopub.status.busy": "2022-02-09T02:35:22.920040Z",
     "iopub.status.idle": "2022-02-09T02:35:22.980490Z",
     "shell.execute_reply": "2022-02-09T02:35:22.979981Z"
    }
   },
   "outputs": [],
   "source": [
    "js = joinpath(tempdir(), \"write.json\")\n",
    "\n",
    "di = Dict(\n",
    "    \"Luffy\" => \"Pirate King\",\n",
    "    \"Crews\" => [\n",
    "        \"Luffy\",\n",
    "        \"Zoro\",\n",
    "        \"Nami\",\n",
    "        \"Usopp\",\n",
    "        \"Sanji\",\n",
    "        \"Chopper\",\n",
    "        \"Robin\",\n",
    "        \"Franky\",\n",
    "        \"Brook\",\n",
    "        \"Jinbe\",\n",
    "    ],\n",
    "    \"episode\" => 1030,\n",
    ")\n",
    "\n",
    ";"
   ]
  },
  {
   "cell_type": "code",
   "execution_count": null,
   "id": "8402bcbe",
   "metadata": {
    "execution": {
     "iopub.execute_input": "2022-02-09T02:35:22.982349Z",
     "iopub.status.busy": "2022-02-09T02:35:22.981774Z",
     "iopub.status.idle": "2022-02-09T02:35:23.121853Z",
     "shell.execute_reply": "2022-02-09T02:35:23.121324Z"
    }
   },
   "outputs": [],
   "source": [
    "OnePiece.extension.dict.write(js, di)"
   ]
  },
  {
   "cell_type": "code",
   "execution_count": null,
   "id": "83445e66",
   "metadata": {
    "execution": {
     "iopub.execute_input": "2022-02-09T02:35:23.123897Z",
     "iopub.status.busy": "2022-02-09T02:35:23.123259Z",
     "iopub.status.idle": "2022-02-09T02:35:23.141641Z",
     "shell.execute_reply": "2022-02-09T02:35:23.141175Z"
    }
   },
   "outputs": [],
   "source": [
    "OnePiece.extension.dict.view(OnePiece.extension.dict.read(js))"
   ]
  }
 ],
 "metadata": {
  "@webio": {
   "lastCommId": null,
   "lastKernelId": null
  },
  "kernelspec": {
   "display_name": "Julia 1.7.1",
   "language": "julia",
   "name": "julia-1.7"
  },
  "language_info": {
   "file_extension": ".jl",
   "mimetype": "application/julia",
   "name": "julia",
   "version": "1.7.2"
  }
 },
 "nbformat": 4,
 "nbformat_minor": 5
}
