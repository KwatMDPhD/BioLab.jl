{
 "cells": [
  {
   "cell_type": "code",
   "execution_count": null,
   "id": "34e4701e",
   "metadata": {
    "execution": {
     "iopub.execute_input": "2022-02-09T22:40:03.891981Z",
     "iopub.status.busy": "2022-02-09T22:40:03.498503Z",
     "iopub.status.idle": "2022-02-09T22:40:04.827148Z",
     "shell.execute_reply": "2022-02-09T22:40:04.826582Z"
    }
   },
   "outputs": [],
   "source": [
    "using Revise\n",
    "using BenchmarkTools"
   ]
  },
  {
   "cell_type": "code",
   "execution_count": null,
   "id": "570e4b37",
   "metadata": {
    "execution": {
     "iopub.execute_input": "2022-02-09T22:40:04.829271Z",
     "iopub.status.busy": "2022-02-09T22:40:04.828749Z",
     "iopub.status.idle": "2022-02-09T22:40:14.634893Z",
     "shell.execute_reply": "2022-02-09T22:40:14.634374Z"
    }
   },
   "outputs": [],
   "source": [
    "using OnePiece"
   ]
  },
  {
   "cell_type": "markdown",
   "id": "7c7a0328",
   "metadata": {
    "execution": {
     "iopub.execute_input": "2022-02-07T19:53:17.109487Z",
     "iopub.status.busy": "2022-02-07T19:53:15.519011Z",
     "iopub.status.idle": "2022-02-07T19:53:17.994090Z",
     "shell.execute_reply": "2022-02-07T19:53:17.993635Z"
    }
   },
   "source": [
    "## view"
   ]
  },
  {
   "cell_type": "code",
   "execution_count": null,
   "id": "8f9fe131",
   "metadata": {
    "execution": {
     "iopub.execute_input": "2022-02-09T22:40:16.218478Z",
     "iopub.status.busy": "2022-02-09T22:40:14.636212Z",
     "iopub.status.idle": "2022-02-09T22:40:17.037581Z",
     "shell.execute_reply": "2022-02-09T22:40:17.037124Z"
    }
   },
   "outputs": [],
   "source": [
    "OnePiece.extension.dict.view(Dict())"
   ]
  },
  {
   "cell_type": "markdown",
   "id": "e6d28421",
   "metadata": {},
   "source": [
    "## summarize"
   ]
  },
  {
   "cell_type": "code",
   "execution_count": null,
   "id": "324e0b15",
   "metadata": {
    "execution": {
     "iopub.execute_input": "2022-02-09T22:40:17.039222Z",
     "iopub.status.busy": "2022-02-09T22:40:17.038716Z",
     "iopub.status.idle": "2022-02-09T22:40:17.638251Z",
     "shell.execute_reply": "2022-02-09T22:40:17.637863Z"
    }
   },
   "outputs": [],
   "source": [
    "OnePiece.extension.dict.summarize(\n",
    "    Dict(1 => \"a\", 2 => \"a\", 3 => \"b\", 4 => nothing, 5 => nothing, 6 => NaN),\n",
    ")"
   ]
  },
  {
   "cell_type": "markdown",
   "id": "d82a2d5c",
   "metadata": {},
   "source": [
    "## sort_recursively!"
   ]
  },
  {
   "cell_type": "code",
   "execution_count": null,
   "id": "d7558561",
   "metadata": {
    "execution": {
     "iopub.execute_input": "2022-02-09T22:40:17.640735Z",
     "iopub.status.busy": "2022-02-09T22:40:17.640179Z",
     "iopub.status.idle": "2022-02-09T22:40:19.188078Z",
     "shell.execute_reply": "2022-02-09T22:40:19.187549Z"
    }
   },
   "outputs": [],
   "source": [
    "di = Dict(\n",
    "    \"z\" => Dict(\"c\" => 1, \"b\" => 2, \"a\" => 3),\n",
    "    \"y\" => Dict(),\n",
    "    \"x\" => [3, 2, 1, Dict(\"zo\" => 2, \"lu\" => 1)],\n",
    "    \"w\" => [Dict(\"k\" => 8, \"j\" => 24), Dict(\"lo\" => 1, \"la\" => 3)],\n",
    ")\n",
    "\n",
    "OnePiece.extension.dict.view(OnePiece.extension.dict.sort_recursively!(di))"
   ]
  },
  {
   "cell_type": "markdown",
   "id": "2988a98a-d859-491b-83bd-0880462f2fcd",
   "metadata": {},
   "source": [
    "## merge"
   ]
  },
  {
   "cell_type": "code",
   "execution_count": null,
   "id": "75e1e24e",
   "metadata": {
    "execution": {
     "iopub.execute_input": "2022-02-09T22:40:19.190124Z",
     "iopub.status.busy": "2022-02-09T22:40:19.189525Z",
     "iopub.status.idle": "2022-02-09T22:40:19.233303Z",
     "shell.execute_reply": "2022-02-09T22:40:19.232927Z"
    }
   },
   "outputs": [],
   "source": [
    "di1 = Dict(\"1A\" => 1, \"B\" => Dict(\"C\" => 1, \"1D\" => 1))\n",
    "\n",
    "di2 = Dict(\"2A\" => 2, \"B\" => Dict(\"C\" => 2, \"2D\" => 2))\n",
    "\n",
    ";"
   ]
  },
  {
   "cell_type": "code",
   "execution_count": null,
   "id": "62f999fc",
   "metadata": {
    "execution": {
     "iopub.execute_input": "2022-02-09T22:40:19.235185Z",
     "iopub.status.busy": "2022-02-09T22:40:19.234635Z",
     "iopub.status.idle": "2022-02-09T22:40:19.390656Z",
     "shell.execute_reply": "2022-02-09T22:40:19.390203Z"
    }
   },
   "outputs": [],
   "source": [
    "OnePiece.extension.dict.view(OnePiece.extension.dict.merge(di1, di2))"
   ]
  },
  {
   "cell_type": "code",
   "execution_count": null,
   "id": "273f0476",
   "metadata": {
    "execution": {
     "iopub.execute_input": "2022-02-09T22:40:19.392665Z",
     "iopub.status.busy": "2022-02-09T22:40:19.392096Z",
     "iopub.status.idle": "2022-02-09T22:40:19.407208Z",
     "shell.execute_reply": "2022-02-09T22:40:19.406768Z"
    }
   },
   "outputs": [],
   "source": [
    "OnePiece.extension.dict.view(OnePiece.extension.dict.merge(di2, di1))"
   ]
  },
  {
   "cell_type": "markdown",
   "id": "c563b07c",
   "metadata": {},
   "source": [
    "## symbolize_key"
   ]
  },
  {
   "cell_type": "code",
   "execution_count": null,
   "id": "0e07e4f6",
   "metadata": {
    "execution": {
     "iopub.execute_input": "2022-02-09T22:40:19.409249Z",
     "iopub.status.busy": "2022-02-09T22:40:19.408592Z",
     "iopub.status.idle": "2022-02-09T22:40:20.543764Z",
     "shell.execute_reply": "2022-02-09T22:40:20.543252Z"
    }
   },
   "outputs": [],
   "source": [
    "OnePiece.extension.dict.symbolize_key(Dict(\"a\" => 1, \"b\" => 2.0))"
   ]
  },
  {
   "cell_type": "markdown",
   "id": "87773501",
   "metadata": {},
   "source": [
    "## read"
   ]
  },
  {
   "cell_type": "code",
   "execution_count": null,
   "id": "2acca60f",
   "metadata": {
    "execution": {
     "iopub.execute_input": "2022-02-09T22:40:20.545995Z",
     "iopub.status.busy": "2022-02-09T22:40:20.545300Z",
     "iopub.status.idle": "2022-02-09T22:40:20.557829Z",
     "shell.execute_reply": "2022-02-09T22:40:20.557243Z"
    }
   },
   "outputs": [],
   "source": [
    "da = \"dict.data\"\n",
    "\n",
    ";"
   ]
  },
  {
   "cell_type": "code",
   "execution_count": null,
   "id": "d4687e26",
   "metadata": {
    "execution": {
     "iopub.execute_input": "2022-02-09T22:40:20.559936Z",
     "iopub.status.busy": "2022-02-09T22:40:20.559236Z",
     "iopub.status.idle": "2022-02-09T22:40:20.622090Z",
     "shell.execute_reply": "2022-02-09T22:40:20.621709Z"
    }
   },
   "outputs": [],
   "source": [
    "OnePiece.extension.dict.view(OnePiece.extension.dict.read(joinpath(da, \"example_1.json\")))"
   ]
  },
  {
   "cell_type": "code",
   "execution_count": null,
   "id": "b2f113ef",
   "metadata": {
    "execution": {
     "iopub.execute_input": "2022-02-09T22:40:20.623838Z",
     "iopub.status.busy": "2022-02-09T22:40:20.623340Z",
     "iopub.status.idle": "2022-02-09T22:40:20.664961Z",
     "shell.execute_reply": "2022-02-09T22:40:20.664570Z"
    }
   },
   "outputs": [],
   "source": [
    "OnePiece.extension.dict.view(OnePiece.extension.dict.read(joinpath(da, \"example_2.json\")))"
   ]
  },
  {
   "cell_type": "code",
   "execution_count": null,
   "id": "e40557eb",
   "metadata": {
    "execution": {
     "iopub.execute_input": "2022-02-09T22:40:20.666777Z",
     "iopub.status.busy": "2022-02-09T22:40:20.666266Z",
     "iopub.status.idle": "2022-02-09T22:40:20.796937Z",
     "shell.execute_reply": "2022-02-09T22:40:20.796459Z"
    }
   },
   "outputs": [],
   "source": [
    "OnePiece.extension.dict.view(OnePiece.extension.dict.read(joinpath(da, \"example.toml\")))"
   ]
  },
  {
   "cell_type": "code",
   "execution_count": null,
   "id": "094c91bd",
   "metadata": {
    "execution": {
     "iopub.execute_input": "2022-02-09T22:40:20.798749Z",
     "iopub.status.busy": "2022-02-09T22:40:20.798228Z",
     "iopub.status.idle": "2022-02-09T22:40:21.096695Z",
     "shell.execute_reply": "2022-02-09T22:40:21.096276Z"
    }
   },
   "outputs": [],
   "source": [
    "OnePiece.extension.dict.view(OnePiece.extension.dict.read(joinpath(@__DIR__, \"dict.ipynb\")))"
   ]
  },
  {
   "cell_type": "markdown",
   "id": "7ac005d4",
   "metadata": {},
   "source": [
    "## write"
   ]
  },
  {
   "cell_type": "code",
   "execution_count": null,
   "id": "d61cce24",
   "metadata": {
    "execution": {
     "iopub.execute_input": "2022-02-09T22:40:21.098551Z",
     "iopub.status.busy": "2022-02-09T22:40:21.097979Z",
     "iopub.status.idle": "2022-02-09T22:40:21.154195Z",
     "shell.execute_reply": "2022-02-09T22:40:21.153754Z"
    }
   },
   "outputs": [],
   "source": [
    "js = joinpath(tempdir(), \"write.json\")\n",
    "\n",
    "di = Dict(\n",
    "    \"Luffy\" => \"Pirate King\",\n",
    "    \"Crews\" => [\n",
    "        \"Luffy\",\n",
    "        \"Zoro\",\n",
    "        \"Nami\",\n",
    "        \"Usopp\",\n",
    "        \"Sanji\",\n",
    "        \"Chopper\",\n",
    "        \"Robin\",\n",
    "        \"Franky\",\n",
    "        \"Brook\",\n",
    "        \"Jinbe\",\n",
    "    ],\n",
    "    \"episode\" => 1030,\n",
    ")\n",
    "\n",
    ";"
   ]
  },
  {
   "cell_type": "code",
   "execution_count": null,
   "id": "8402bcbe",
   "metadata": {
    "execution": {
     "iopub.execute_input": "2022-02-09T22:40:21.156050Z",
     "iopub.status.busy": "2022-02-09T22:40:21.155495Z",
     "iopub.status.idle": "2022-02-09T22:40:21.285047Z",
     "shell.execute_reply": "2022-02-09T22:40:21.284512Z"
    }
   },
   "outputs": [],
   "source": [
    "OnePiece.extension.dict.write(js, di)"
   ]
  },
  {
   "cell_type": "code",
   "execution_count": null,
   "id": "83445e66",
   "metadata": {
    "execution": {
     "iopub.execute_input": "2022-02-09T22:40:21.287052Z",
     "iopub.status.busy": "2022-02-09T22:40:21.286453Z",
     "iopub.status.idle": "2022-02-09T22:40:21.304603Z",
     "shell.execute_reply": "2022-02-09T22:40:21.304183Z"
    }
   },
   "outputs": [],
   "source": [
    "OnePiece.extension.dict.view(OnePiece.extension.dict.read(js))"
   ]
  }
 ],
 "metadata": {
  "@webio": {
   "lastCommId": null,
   "lastKernelId": null
  },
  "kernelspec": {
   "display_name": "Julia 1.7.1",
   "language": "julia",
   "name": "julia-1.7"
  },
  "language_info": {
   "file_extension": ".jl",
   "mimetype": "application/julia",
   "name": "julia",
   "version": "1.7.2"
  }
 },
 "nbformat": 4,
 "nbformat_minor": 5
}
