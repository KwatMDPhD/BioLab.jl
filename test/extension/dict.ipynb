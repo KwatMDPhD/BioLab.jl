{
 "cells": [
  {
   "cell_type": "code",
   "execution_count": null,
   "id": "017464da",
   "metadata": {
    "execution": {
     "iopub.execute_input": "2022-02-13T22:22:15.474991Z",
     "iopub.status.busy": "2022-02-13T22:22:15.119490Z",
     "iopub.status.idle": "2022-02-13T22:22:15.678134Z",
     "shell.execute_reply": "2022-02-13T22:22:15.677302Z"
    }
   },
   "outputs": [],
   "source": [
    "TE = joinpath(tempdir(), \"OnePiece.test\")\n",
    "\n",
    "if isdir(TE)\n",
    "\n",
    "    rm(TE, recursive = true)\n",
    "\n",
    "    println(\"Removed \", TE, \".\")\n",
    "\n",
    "end\n",
    "\n",
    "mkdir(TE)\n",
    "\n",
    "println(\"Made \", TE, \".\")"
   ]
  },
  {
   "cell_type": "code",
   "execution_count": null,
   "id": "34e4701e",
   "metadata": {
    "execution": {
     "iopub.execute_input": "2022-02-13T22:22:15.680090Z",
     "iopub.status.busy": "2022-02-13T22:22:15.679592Z",
     "iopub.status.idle": "2022-02-13T22:22:20.061493Z",
     "shell.execute_reply": "2022-02-13T22:22:20.061025Z"
    }
   },
   "outputs": [],
   "source": [
    "using OnePiece"
   ]
  },
  {
   "cell_type": "markdown",
   "id": "b92a3da9",
   "metadata": {},
   "source": [
    "---"
   ]
  },
  {
   "cell_type": "markdown",
   "id": "7622e7dc",
   "metadata": {},
   "source": [
    "## make"
   ]
  },
  {
   "cell_type": "code",
   "execution_count": null,
   "id": "5b789b4c",
   "metadata": {
    "execution": {
     "iopub.execute_input": "2022-02-13T22:22:20.399130Z",
     "iopub.status.busy": "2022-02-13T22:22:20.064259Z",
     "iopub.status.idle": "2022-02-13T22:22:22.147511Z",
     "shell.execute_reply": "2022-02-13T22:22:22.147114Z"
    }
   },
   "outputs": [],
   "source": [
    "OnePiece.extension.dict.make(a = 1, b = 2)"
   ]
  },
  {
   "cell_type": "markdown",
   "id": "7c7a0328",
   "metadata": {
    "execution": {
     "iopub.execute_input": "2022-02-07T19:53:17.109487Z",
     "iopub.status.busy": "2022-02-07T19:53:15.519011Z",
     "iopub.status.idle": "2022-02-07T19:53:17.994090Z",
     "shell.execute_reply": "2022-02-07T19:53:17.993635Z"
    }
   },
   "source": [
    "## view"
   ]
  },
  {
   "cell_type": "code",
   "execution_count": null,
   "id": "8f9fe131",
   "metadata": {
    "execution": {
     "iopub.execute_input": "2022-02-13T22:22:22.149460Z",
     "iopub.status.busy": "2022-02-13T22:22:22.148953Z",
     "iopub.status.idle": "2022-02-13T22:22:22.232956Z",
     "shell.execute_reply": "2022-02-13T22:22:22.232502Z"
    }
   },
   "outputs": [],
   "source": [
    "OnePiece.extension.dict.view(Dict())"
   ]
  },
  {
   "cell_type": "markdown",
   "id": "e6d28421",
   "metadata": {},
   "source": [
    "## summarize"
   ]
  },
  {
   "cell_type": "code",
   "execution_count": null,
   "id": "324e0b15",
   "metadata": {
    "execution": {
     "iopub.execute_input": "2022-02-13T22:22:22.234839Z",
     "iopub.status.busy": "2022-02-13T22:22:22.234337Z",
     "iopub.status.idle": "2022-02-13T22:22:22.712974Z",
     "shell.execute_reply": "2022-02-13T22:22:22.712454Z"
    }
   },
   "outputs": [],
   "source": [
    "OnePiece.extension.dict.summarize(\n",
    "    Dict(1 => \"a\", 2 => \"a\", 3 => \"b\", 4 => nothing, 5 => nothing, 6 => NaN),\n",
    ")"
   ]
  },
  {
   "cell_type": "markdown",
   "id": "d82a2d5c",
   "metadata": {},
   "source": [
    "## sort_recursively!"
   ]
  },
  {
   "cell_type": "code",
   "execution_count": null,
   "id": "d7558561",
   "metadata": {
    "execution": {
     "iopub.execute_input": "2022-02-13T22:22:22.714862Z",
     "iopub.status.busy": "2022-02-13T22:22:22.714327Z",
     "iopub.status.idle": "2022-02-13T22:22:24.119702Z",
     "shell.execute_reply": "2022-02-13T22:22:24.119305Z"
    }
   },
   "outputs": [],
   "source": [
    "di = Dict(\n",
    "    \"z\" => Dict(\"c\" => 1, \"b\" => 2, \"a\" => 3),\n",
    "    \"y\" => Dict(),\n",
    "    \"x\" => [3, 2, 1, Dict(\"zo\" => 2, \"lu\" => 1)],\n",
    "    \"w\" => [Dict(\"k\" => 8, \"j\" => 24), Dict(\"lo\" => 1, \"la\" => 3)],\n",
    ")\n",
    "\n",
    "OnePiece.extension.dict.view(OnePiece.extension.dict.sort_recursively!(di))"
   ]
  },
  {
   "cell_type": "markdown",
   "id": "2988a98a-d859-491b-83bd-0880462f2fcd",
   "metadata": {},
   "source": [
    "## merge"
   ]
  },
  {
   "cell_type": "code",
   "execution_count": null,
   "id": "75e1e24e",
   "metadata": {
    "execution": {
     "iopub.execute_input": "2022-02-13T22:22:24.121652Z",
     "iopub.status.busy": "2022-02-13T22:22:24.121154Z",
     "iopub.status.idle": "2022-02-13T22:22:24.151034Z",
     "shell.execute_reply": "2022-02-13T22:22:24.150654Z"
    }
   },
   "outputs": [],
   "source": [
    "di1 = Dict(\"1A\" => 1, \"B\" => Dict(\"C\" => 1, \"1D\" => 1))\n",
    "\n",
    "di2 = Dict(\"2A\" => 2, \"B\" => Dict(\"C\" => 2, \"2D\" => 2))\n",
    "\n",
    ";"
   ]
  },
  {
   "cell_type": "code",
   "execution_count": null,
   "id": "62f999fc",
   "metadata": {
    "execution": {
     "iopub.execute_input": "2022-02-13T22:22:24.152928Z",
     "iopub.status.busy": "2022-02-13T22:22:24.152435Z",
     "iopub.status.idle": "2022-02-13T22:22:24.291816Z",
     "shell.execute_reply": "2022-02-13T22:22:24.291436Z"
    }
   },
   "outputs": [],
   "source": [
    "OnePiece.extension.dict.view(OnePiece.extension.dict.merge(di1, di2))"
   ]
  },
  {
   "cell_type": "code",
   "execution_count": null,
   "id": "273f0476",
   "metadata": {
    "execution": {
     "iopub.execute_input": "2022-02-13T22:22:24.293820Z",
     "iopub.status.busy": "2022-02-13T22:22:24.293223Z",
     "iopub.status.idle": "2022-02-13T22:22:24.297592Z",
     "shell.execute_reply": "2022-02-13T22:22:24.297246Z"
    }
   },
   "outputs": [],
   "source": [
    "OnePiece.extension.dict.view(OnePiece.extension.dict.merge(di2, di1))"
   ]
  },
  {
   "cell_type": "markdown",
   "id": "c563b07c",
   "metadata": {},
   "source": [
    "## symbolize_key"
   ]
  },
  {
   "cell_type": "code",
   "execution_count": null,
   "id": "0e07e4f6",
   "metadata": {
    "execution": {
     "iopub.execute_input": "2022-02-13T22:22:24.299362Z",
     "iopub.status.busy": "2022-02-13T22:22:24.298866Z",
     "iopub.status.idle": "2022-02-13T22:22:25.344640Z",
     "shell.execute_reply": "2022-02-13T22:22:25.344088Z"
    }
   },
   "outputs": [],
   "source": [
    "OnePiece.extension.dict.symbolize_key(Dict(\"a\" => 1, \"b\" => 2.0))"
   ]
  },
  {
   "cell_type": "markdown",
   "id": "87773501",
   "metadata": {},
   "source": [
    "## read"
   ]
  },
  {
   "cell_type": "code",
   "execution_count": null,
   "id": "2acca60f",
   "metadata": {
    "execution": {
     "iopub.execute_input": "2022-02-13T22:22:25.347109Z",
     "iopub.status.busy": "2022-02-13T22:22:25.346396Z",
     "iopub.status.idle": "2022-02-13T22:22:25.347933Z",
     "shell.execute_reply": "2022-02-13T22:22:25.347558Z"
    }
   },
   "outputs": [],
   "source": [
    "da = \"dict.data\"\n",
    "\n",
    ";"
   ]
  },
  {
   "cell_type": "code",
   "execution_count": null,
   "id": "d4687e26",
   "metadata": {
    "execution": {
     "iopub.execute_input": "2022-02-13T22:22:25.349714Z",
     "iopub.status.busy": "2022-02-13T22:22:25.349215Z",
     "iopub.status.idle": "2022-02-13T22:22:25.397100Z",
     "shell.execute_reply": "2022-02-13T22:22:25.396734Z"
    }
   },
   "outputs": [],
   "source": [
    "OnePiece.extension.dict.view(OnePiece.extension.dict.read(joinpath(da, \"example_1.json\")))"
   ]
  },
  {
   "cell_type": "code",
   "execution_count": null,
   "id": "b2f113ef",
   "metadata": {
    "execution": {
     "iopub.execute_input": "2022-02-13T22:22:25.398909Z",
     "iopub.status.busy": "2022-02-13T22:22:25.398384Z",
     "iopub.status.idle": "2022-02-13T22:22:25.426120Z",
     "shell.execute_reply": "2022-02-13T22:22:25.425726Z"
    }
   },
   "outputs": [],
   "source": [
    "OnePiece.extension.dict.view(OnePiece.extension.dict.read(joinpath(da, \"example_2.json\")))"
   ]
  },
  {
   "cell_type": "code",
   "execution_count": null,
   "id": "e40557eb",
   "metadata": {
    "execution": {
     "iopub.execute_input": "2022-02-13T22:22:25.429048Z",
     "iopub.status.busy": "2022-02-13T22:22:25.428121Z",
     "iopub.status.idle": "2022-02-13T22:22:25.545454Z",
     "shell.execute_reply": "2022-02-13T22:22:25.544848Z"
    }
   },
   "outputs": [],
   "source": [
    "OnePiece.extension.dict.view(OnePiece.extension.dict.read(joinpath(da, \"example.toml\")))"
   ]
  },
  {
   "cell_type": "code",
   "execution_count": null,
   "id": "094c91bd",
   "metadata": {
    "execution": {
     "iopub.execute_input": "2022-02-13T22:22:25.547453Z",
     "iopub.status.busy": "2022-02-13T22:22:25.546963Z",
     "iopub.status.idle": "2022-02-13T22:22:25.856342Z",
     "shell.execute_reply": "2022-02-13T22:22:25.855975Z"
    }
   },
   "outputs": [],
   "source": [
    "OnePiece.extension.dict.view(OnePiece.extension.dict.read(joinpath(@__DIR__, \"dict.ipynb\")))"
   ]
  },
  {
   "cell_type": "markdown",
   "id": "7ac005d4",
   "metadata": {},
   "source": [
    "## write"
   ]
  },
  {
   "cell_type": "code",
   "execution_count": null,
   "id": "d61cce24",
   "metadata": {
    "execution": {
     "iopub.execute_input": "2022-02-13T22:22:25.858342Z",
     "iopub.status.busy": "2022-02-13T22:22:25.857849Z",
     "iopub.status.idle": "2022-02-13T22:22:25.902008Z",
     "shell.execute_reply": "2022-02-13T22:22:25.901545Z"
    }
   },
   "outputs": [],
   "source": [
    "js = joinpath(tempdir(), \"write.json\")\n",
    "\n",
    "di = Dict(\n",
    "    \"Luffy\" => \"Pirate King\",\n",
    "    \"Crews\" => [\n",
    "        \"Luffy\",\n",
    "        \"Zoro\",\n",
    "        \"Nami\",\n",
    "        \"Usopp\",\n",
    "        \"Sanji\",\n",
    "        \"Chopper\",\n",
    "        \"Robin\",\n",
    "        \"Franky\",\n",
    "        \"Brook\",\n",
    "        \"Jinbe\",\n",
    "    ],\n",
    "    \"episode\" => 1030,\n",
    ")\n",
    "\n",
    ";"
   ]
  },
  {
   "cell_type": "code",
   "execution_count": null,
   "id": "8402bcbe",
   "metadata": {
    "execution": {
     "iopub.execute_input": "2022-02-13T22:22:25.903855Z",
     "iopub.status.busy": "2022-02-13T22:22:25.903364Z",
     "iopub.status.idle": "2022-02-13T22:22:26.018083Z",
     "shell.execute_reply": "2022-02-13T22:22:26.017555Z"
    }
   },
   "outputs": [],
   "source": [
    "OnePiece.extension.dict.write(js, di)"
   ]
  },
  {
   "cell_type": "code",
   "execution_count": null,
   "id": "83445e66",
   "metadata": {
    "execution": {
     "iopub.execute_input": "2022-02-13T22:22:26.019865Z",
     "iopub.status.busy": "2022-02-13T22:22:26.019372Z",
     "iopub.status.idle": "2022-02-13T22:22:26.025963Z",
     "shell.execute_reply": "2022-02-13T22:22:26.025612Z"
    }
   },
   "outputs": [],
   "source": [
    "OnePiece.extension.dict.view(OnePiece.extension.dict.read(js))"
   ]
  },
  {
   "cell_type": "markdown",
   "id": "3f396855",
   "metadata": {},
   "source": [
    "---"
   ]
  },
  {
   "cell_type": "code",
   "execution_count": null,
   "id": "b4af2023",
   "metadata": {
    "execution": {
     "iopub.execute_input": "2022-02-13T22:22:26.028688Z",
     "iopub.status.busy": "2022-02-13T22:22:26.027703Z",
     "iopub.status.idle": "2022-02-13T22:22:26.030962Z",
     "shell.execute_reply": "2022-02-13T22:22:26.030519Z"
    }
   },
   "outputs": [],
   "source": [
    "if isdir(TE)\n",
    "\n",
    "    rm(TE, recursive = true)\n",
    "\n",
    "    println(\"Removed \", TE, \".\")\n",
    "\n",
    "end"
   ]
  }
 ],
 "metadata": {
  "kernelspec": {
   "display_name": "Julia 1.7.2",
   "language": "julia",
   "name": "julia-1.7"
  },
  "language_info": {
   "file_extension": ".jl",
   "mimetype": "application/julia",
   "name": "julia",
   "version": "1.7.2"
  }
 },
 "nbformat": 4,
 "nbformat_minor": 5
}
