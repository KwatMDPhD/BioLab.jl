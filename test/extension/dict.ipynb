{
 "cells": [
  {
   "cell_type": "code",
   "execution_count": 1,
   "id": "017464da",
   "metadata": {
    "execution": {
     "iopub.execute_input": "2022-02-13T23:28:52.835363Z",
     "iopub.status.busy": "2022-02-13T23:28:52.470585Z",
     "iopub.status.idle": "2022-02-13T23:28:53.037941Z",
     "shell.execute_reply": "2022-02-13T23:28:53.037391Z"
    }
   },
   "outputs": [
    {
     "name": "stdout",
     "output_type": "stream",
     "text": [
      "Made /var/folders/mg/30npdf0s1z36txb2qvgylrzh0000gn/T/OnePiece.test.\n"
     ]
    }
   ],
   "source": [
    "TE = joinpath(tempdir(), \"OnePiece.test\")\n",
    "\n",
    "if isdir(TE)\n",
    "\n",
    "    rm(TE, recursive = true)\n",
    "\n",
    "    println(\"Removed \", TE, \".\")\n",
    "\n",
    "end\n",
    "\n",
    "mkdir(TE)\n",
    "\n",
    "println(\"Made \", TE, \".\")"
   ]
  },
  {
   "cell_type": "code",
   "execution_count": 2,
   "id": "34e4701e",
   "metadata": {
    "execution": {
     "iopub.execute_input": "2022-02-13T23:28:53.039843Z",
     "iopub.status.busy": "2022-02-13T23:28:53.039346Z",
     "iopub.status.idle": "2022-02-13T23:28:57.857834Z",
     "shell.execute_reply": "2022-02-13T23:28:57.857177Z"
    }
   },
   "outputs": [],
   "source": [
    "using OnePiece"
   ]
  },
  {
   "cell_type": "markdown",
   "id": "b92a3da9",
   "metadata": {},
   "source": [
    "---"
   ]
  },
  {
   "cell_type": "markdown",
   "id": "7622e7dc",
   "metadata": {},
   "source": [
    "## make"
   ]
  },
  {
   "cell_type": "code",
   "execution_count": 3,
   "id": "5b789b4c",
   "metadata": {
    "execution": {
     "iopub.execute_input": "2022-02-13T23:28:58.240194Z",
     "iopub.status.busy": "2022-02-13T23:28:57.859399Z",
     "iopub.status.idle": "2022-02-13T23:29:00.108047Z",
     "shell.execute_reply": "2022-02-13T23:29:00.107490Z"
    }
   },
   "outputs": [
    {
     "data": {
      "text/plain": [
       "OrderedCollections.OrderedDict{Symbol, Int64} with 2 entries:\n",
       "  :a => 1\n",
       "  :b => 2"
      ]
     },
     "execution_count": 3,
     "metadata": {},
     "output_type": "execute_result"
    }
   ],
   "source": [
    "OnePiece.extension.dict.make(a = 1, b = 2)"
   ]
  },
  {
   "cell_type": "markdown",
   "id": "7c7a0328",
   "metadata": {
    "execution": {
     "iopub.execute_input": "2022-02-07T19:53:17.109487Z",
     "iopub.status.busy": "2022-02-07T19:53:15.519011Z",
     "iopub.status.idle": "2022-02-07T19:53:17.994090Z",
     "shell.execute_reply": "2022-02-07T19:53:17.993635Z"
    }
   },
   "source": [
    "## view"
   ]
  },
  {
   "cell_type": "code",
   "execution_count": 4,
   "id": "8f9fe131",
   "metadata": {
    "execution": {
     "iopub.execute_input": "2022-02-13T23:29:00.110113Z",
     "iopub.status.busy": "2022-02-13T23:29:00.109498Z",
     "iopub.status.idle": "2022-02-13T23:29:00.207677Z",
     "shell.execute_reply": "2022-02-13T23:29:00.207121Z"
    }
   },
   "outputs": [
    {
     "name": "stdout",
     "output_type": "stream",
     "text": [
      "{}\n"
     ]
    }
   ],
   "source": [
    "OnePiece.extension.dict.view(Dict())"
   ]
  },
  {
   "cell_type": "markdown",
   "id": "e6d28421",
   "metadata": {},
   "source": [
    "## summarize"
   ]
  },
  {
   "cell_type": "code",
   "execution_count": 5,
   "id": "324e0b15",
   "metadata": {
    "execution": {
     "iopub.execute_input": "2022-02-13T23:29:00.209802Z",
     "iopub.status.busy": "2022-02-13T23:29:00.209201Z",
     "iopub.status.idle": "2022-02-13T23:29:00.710522Z",
     "shell.execute_reply": "2022-02-13T23:29:00.709995Z"
    }
   },
   "outputs": [
    {
     "name": "stdout",
     "output_type": "stream",
     "text": [
      "6 keys and 4 unique values\n",
      "5 => nothing\n",
      "4 => nothing\n",
      "6 => NaN\n",
      "...\n"
     ]
    }
   ],
   "source": [
    "OnePiece.extension.dict.summarize(\n",
    "    Dict(1 => \"a\", 2 => \"a\", 3 => \"b\", 4 => nothing, 5 => nothing, 6 => NaN),\n",
    ")"
   ]
  },
  {
   "cell_type": "markdown",
   "id": "d82a2d5c",
   "metadata": {},
   "source": [
    "## sort_recursively!"
   ]
  },
  {
   "cell_type": "code",
   "execution_count": 6,
   "id": "d7558561",
   "metadata": {
    "execution": {
     "iopub.execute_input": "2022-02-13T23:29:00.712712Z",
     "iopub.status.busy": "2022-02-13T23:29:00.712196Z",
     "iopub.status.idle": "2022-02-13T23:29:02.125054Z",
     "shell.execute_reply": "2022-02-13T23:29:02.124702Z"
    }
   },
   "outputs": [
    {
     "name": "stdout",
     "output_type": "stream",
     "text": [
      "{\n",
      "   \"w\": [\n",
      "      {\n",
      "         \"j\": 24,\n",
      "         \"k\": 8\n",
      "      },\n",
      "      {\n",
      "         \"la\": 3,\n",
      "         \"lo\": 1\n",
      "      }\n",
      "   ],\n",
      "   \"x\": [\n",
      "      3,\n",
      "      2,\n",
      "      1,\n",
      "      {\n",
      "         \"lu\": 1,\n",
      "         \"zo\": 2\n",
      "      }\n",
      "   ],\n",
      "   \"y\": {},\n",
      "   \"z\": {\n",
      "      \"a\": 3,\n",
      "      \"b\": 2,\n",
      "      \"c\": 1\n",
      "   }\n",
      "}\n"
     ]
    }
   ],
   "source": [
    "di = Dict(\n",
    "    \"z\" => Dict(\"c\" => 1, \"b\" => 2, \"a\" => 3),\n",
    "    \"y\" => Dict(),\n",
    "    \"x\" => [3, 2, 1, Dict(\"zo\" => 2, \"lu\" => 1)],\n",
    "    \"w\" => [Dict(\"k\" => 8, \"j\" => 24), Dict(\"lo\" => 1, \"la\" => 3)],\n",
    ")\n",
    "\n",
    "OnePiece.extension.dict.view(OnePiece.extension.dict.sort_recursively!(di))"
   ]
  },
  {
   "cell_type": "markdown",
   "id": "2988a98a-d859-491b-83bd-0880462f2fcd",
   "metadata": {},
   "source": [
    "## merge"
   ]
  },
  {
   "cell_type": "code",
   "execution_count": 7,
   "id": "75e1e24e",
   "metadata": {
    "execution": {
     "iopub.execute_input": "2022-02-13T23:29:02.127395Z",
     "iopub.status.busy": "2022-02-13T23:29:02.126816Z",
     "iopub.status.idle": "2022-02-13T23:29:02.157191Z",
     "shell.execute_reply": "2022-02-13T23:29:02.156647Z"
    }
   },
   "outputs": [],
   "source": [
    "di1 = Dict(\"1A\" => 1, \"B\" => Dict(\"C\" => 1, \"1D\" => 1))\n",
    "\n",
    "di2 = Dict(\"2A\" => 2, \"B\" => Dict(\"C\" => 2, \"2D\" => 2))\n",
    "\n",
    ";"
   ]
  },
  {
   "cell_type": "code",
   "execution_count": 8,
   "id": "62f999fc",
   "metadata": {
    "execution": {
     "iopub.execute_input": "2022-02-13T23:29:02.159410Z",
     "iopub.status.busy": "2022-02-13T23:29:02.158713Z",
     "iopub.status.idle": "2022-02-13T23:29:02.321251Z",
     "shell.execute_reply": "2022-02-13T23:29:02.320850Z"
    }
   },
   "outputs": [
    {
     "name": "stdout",
     "output_type": "stream",
     "text": [
      "C => (1) 2\n",
      "{\n",
      "   \"1A\": 1,\n",
      "   \"B\": {\n",
      "      \"1D\": 1,\n",
      "      \"C\": 2,\n",
      "      \"2D\": 2\n",
      "   },\n",
      "   \"2A\": 2\n",
      "}\n"
     ]
    }
   ],
   "source": [
    "OnePiece.extension.dict.view(OnePiece.extension.dict.merge(di1, di2))"
   ]
  },
  {
   "cell_type": "code",
   "execution_count": 9,
   "id": "273f0476",
   "metadata": {
    "execution": {
     "iopub.execute_input": "2022-02-13T23:29:02.323219Z",
     "iopub.status.busy": "2022-02-13T23:29:02.322671Z",
     "iopub.status.idle": "2022-02-13T23:29:02.326531Z",
     "shell.execute_reply": "2022-02-13T23:29:02.326165Z"
    }
   },
   "outputs": [
    {
     "name": "stdout",
     "output_type": "stream",
     "text": [
      "C => (2) 1\n",
      "{\n",
      "   \"1A\": 1,\n",
      "   \"B\": {\n",
      "      \"1D\": 1,\n",
      "      \"C\": 1,\n",
      "      \"2D\": 2\n",
      "   },\n",
      "   \"2A\": 2\n",
      "}\n"
     ]
    }
   ],
   "source": [
    "OnePiece.extension.dict.view(OnePiece.extension.dict.merge(di2, di1))"
   ]
  },
  {
   "cell_type": "markdown",
   "id": "c563b07c",
   "metadata": {},
   "source": [
    "## symbolize_key"
   ]
  },
  {
   "cell_type": "code",
   "execution_count": 10,
   "id": "0e07e4f6",
   "metadata": {
    "execution": {
     "iopub.execute_input": "2022-02-13T23:29:02.328414Z",
     "iopub.status.busy": "2022-02-13T23:29:02.327907Z",
     "iopub.status.idle": "2022-02-13T23:29:03.304337Z",
     "shell.execute_reply": "2022-02-13T23:29:03.303917Z"
    }
   },
   "outputs": [
    {
     "data": {
      "text/plain": [
       "Dict{Symbol, Real} with 2 entries:\n",
       "  :a => 1\n",
       "  :b => 2.0"
      ]
     },
     "execution_count": 10,
     "metadata": {},
     "output_type": "execute_result"
    }
   ],
   "source": [
    "OnePiece.extension.dict.symbolize_key(Dict(\"a\" => 1, \"b\" => 2.0))"
   ]
  },
  {
   "cell_type": "markdown",
   "id": "87773501",
   "metadata": {},
   "source": [
    "## read"
   ]
  },
  {
   "cell_type": "code",
   "execution_count": 11,
   "id": "2acca60f",
   "metadata": {
    "execution": {
     "iopub.execute_input": "2022-02-13T23:29:03.306547Z",
     "iopub.status.busy": "2022-02-13T23:29:03.305864Z",
     "iopub.status.idle": "2022-02-13T23:29:03.307358Z",
     "shell.execute_reply": "2022-02-13T23:29:03.306988Z"
    }
   },
   "outputs": [],
   "source": [
    "da = \"dict.data\"\n",
    "\n",
    ";"
   ]
  },
  {
   "cell_type": "code",
   "execution_count": 12,
   "id": "d4687e26",
   "metadata": {
    "execution": {
     "iopub.execute_input": "2022-02-13T23:29:03.309139Z",
     "iopub.status.busy": "2022-02-13T23:29:03.308645Z",
     "iopub.status.idle": "2022-02-13T23:29:03.354040Z",
     "shell.execute_reply": "2022-02-13T23:29:03.353656Z"
    }
   },
   "outputs": [
    {
     "name": "stdout",
     "output_type": "stream",
     "text": [
      "{\n",
      "   \"fruit\": \"Apple\",\n",
      "   \"color\": \"Red\",\n",
      "   \"size\": \"Large\"\n",
      "}\n"
     ]
    }
   ],
   "source": [
    "OnePiece.extension.dict.view(OnePiece.extension.dict.read(joinpath(da, \"example_1.json\")))"
   ]
  },
  {
   "cell_type": "code",
   "execution_count": 13,
   "id": "b2f113ef",
   "metadata": {
    "execution": {
     "iopub.execute_input": "2022-02-13T23:29:03.355958Z",
     "iopub.status.busy": "2022-02-13T23:29:03.355449Z",
     "iopub.status.idle": "2022-02-13T23:29:03.382449Z",
     "shell.execute_reply": "2022-02-13T23:29:03.382071Z"
    }
   },
   "outputs": [
    {
     "name": "stdout",
     "output_type": "stream",
     "text": [
      "{\n",
      "   \"quiz\": {\n",
      "      \"sport\": {\n",
      "         \"q1\": {\n",
      "            \"options\": [\n",
      "               \"New York Bulls\",\n",
      "               \"Los Angeles Kings\",\n",
      "               \"Golden State Warriros\",\n",
      "               \"Huston Rocket\"\n",
      "            ],\n",
      "            \"question\": \"Which one is correct team name in NBA?\",\n",
      "            \"answer\": \"Huston Rocket\"\n",
      "         }\n",
      "      },\n",
      "      \"maths\": {\n",
      "         \"q1\": {\n",
      "            \"options\": [\n",
      "               \"10\",\n",
      "               \"11\",\n",
      "               \"12\",\n",
      "               \"13\"\n",
      "            ],\n",
      "            \"question\": \"5 + 7 = ?\",\n",
      "            \"answer\": \"12\"\n",
      "         },\n",
      "         \"q2\": {\n",
      "            \"options\": [\n",
      "               \"1\",\n",
      "               \"2\",\n",
      "               \"3\",\n",
      "               \"4\"\n",
      "            ],\n",
      "            \"question\": \"12 - 8 = ?\",\n",
      "            \"answer\": \"4\"\n",
      "         }\n",
      "      }\n",
      "   }\n",
      "}\n"
     ]
    }
   ],
   "source": [
    "OnePiece.extension.dict.view(OnePiece.extension.dict.read(joinpath(da, \"example_2.json\")))"
   ]
  },
  {
   "cell_type": "code",
   "execution_count": 14,
   "id": "e40557eb",
   "metadata": {
    "execution": {
     "iopub.execute_input": "2022-02-13T23:29:03.384270Z",
     "iopub.status.busy": "2022-02-13T23:29:03.383779Z",
     "iopub.status.idle": "2022-02-13T23:29:03.513179Z",
     "shell.execute_reply": "2022-02-13T23:29:03.512701Z"
    }
   },
   "outputs": [
    {
     "name": "stdout",
     "output_type": "stream",
     "text": [
      "{\n",
      "   \"servers\": {\n",
      "      \"alpha\": {\n",
      "         \"dc\": \"eqdc10\",\n",
      "         \"ip\": \"10.0.0.1\"\n",
      "      },\n",
      "      \"beta\": {\n",
      "         \"dc\": \"eqdc10\",\n",
      "         \"ip\": \"10.0.0.2\"\n",
      "      }\n",
      "   },\n",
      "   \"clients\": {\n",
      "      \"hosts\": [\n",
      "         \"alpha\",\n",
      "         \"omega\"\n",
      "      ],\n",
      "      \"data\": [\n",
      "         [\n",
      "            \"gamma\",\n",
      "            \"delta\"\n",
      "         ],\n",
      "         [\n",
      "            1,\n",
      "            2\n",
      "         ]\n",
      "      ]\n",
      "   },\n",
      "   \"owner\": {\n",
      "      \"name\": \"Tom Preston-Werner\"\n",
      "   },\n",
      "   \"title\": \"TOML Example\",\n",
      "   \"database\": {\n",
      "      \"server\": \"192.168.1.1\",\n",
      "      \"connection_max\": 5000,\n",
      "      \"ports\": [\n",
      "         8000,\n",
      "         8001,\n",
      "         8002\n",
      "      ],\n",
      "      \"enabled\": true\n",
      "   }\n",
      "}\n"
     ]
    }
   ],
   "source": [
    "OnePiece.extension.dict.view(OnePiece.extension.dict.read(joinpath(da, \"example.toml\")))"
   ]
  },
  {
   "cell_type": "code",
   "execution_count": 15,
   "id": "094c91bd",
   "metadata": {
    "execution": {
     "iopub.execute_input": "2022-02-13T23:29:03.515735Z",
     "iopub.status.busy": "2022-02-13T23:29:03.515118Z",
     "iopub.status.idle": "2022-02-13T23:29:03.862341Z",
     "shell.execute_reply": "2022-02-13T23:29:03.861868Z"
    }
   },
   "outputs": [
    {
     "name": "stdout",
     "output_type": "stream",
     "text": [
      "{\n",
      "   \"cells\": [\n",
      "      {\n",
      "         \"outputs\": [],\n",
      "         \"cell_type\": \"code\",\n",
      "         \"source\": [\n",
      "            \"TE = joinpath(tempdir(), \\\"OnePiece.test\\\")\\n\",\n",
      "            \"\\n\",\n",
      "            \"if isdir(TE)\\n\",\n",
      "            \"\\n\",\n",
      "            \"    rm(TE, recursive = true)\\n\",\n",
      "            \"\\n\",\n",
      "            \"    println(\\\"Removed \\\", TE, \\\".\\\")\\n\",\n",
      "            \"\\n\",\n",
      "            \"end\\n\",\n",
      "            \"\\n\",\n",
      "            \"mkdir(TE)\\n\",\n",
      "            \"\\n\",\n",
      "            \"println(\\\"Made \\\", TE, \\\".\\\")\"\n",
      "         ],\n",
      "         \"id\": \"017464da\",\n",
      "         \"metadata\": {},\n",
      "         \"execution_count\": null\n",
      "      },\n",
      "      {\n",
      "         \"outputs\": [],\n",
      "         \"cell_type\": \"code\",\n",
      "         \"source\": [\n",
      "            \"using OnePiece\"\n",
      "         ],\n",
      "         \"id\": \"34e4701e\",\n",
      "         \"metadata\": {\n",
      "            \"execution\": {\n",
      "               \"iopub.status.idle\": \"2022-02-10T17:51:24.482021Z\",\n",
      "               \"iopub.status.busy\": \"2022-02-10T17:51:23.250154Z\",\n",
      "               \"iopub.execute_input\": \"2022-02-10T17:51:23.590384Z\",\n",
      "               \"shell.execute_reply\": \"2022-02-10T17:51:24.481306Z\"\n",
      "            }\n",
      "         },\n",
      "         \"execution_count\": null\n",
      "      },\n",
      "      {\n",
      "         \"cell_type\": \"markdown\",\n",
      "         \"source\": [\n",
      "            \"---\"\n",
      "         ],\n",
      "         \"id\": \"b92a3da9\",\n",
      "         \"metadata\": {}\n",
      "      },\n",
      "      {\n",
      "         \"cell_type\": \"markdown\",\n",
      "         \"source\": [\n",
      "            \"## make\"\n",
      "         ],\n",
      "         \"id\": \"7622e7dc\",\n",
      "         \"metadata\": {}\n",
      "      },\n",
      "      {\n",
      "         \"outputs\": [],\n",
      "         \"cell_type\": \"code\",\n",
      "         \"source\": [\n",
      "            \"OnePiece.extension.dict.make(a = 1, b = 2)\"\n",
      "         ],\n",
      "         \"id\": \"5b789b4c\",\n",
      "         \"metadata\": {\n",
      "            \"execution\": {\n",
      "               \"iopub.status.idle\": \"2022-02-13T23:10:05.659422Z\",\n",
      "               \"iopub.status.busy\": \"2022-02-13T23:10:03.582208Z\",\n",
      "               \"iopub.execute_input\": \"2022-02-13T23:10:03.908322Z\",\n",
      "               \"shell.execute_reply\": \"2022-02-13T23:10:05.658931Z\"\n",
      "            }\n",
      "         },\n",
      "         \"execution_count\": null\n",
      "      },\n",
      "      {\n",
      "         \"cell_type\": \"markdown\",\n",
      "         \"source\": [\n",
      "            \"## view\"\n",
      "         ],\n",
      "         \"id\": \"7c7a0328\",\n",
      "         \"metadata\": {\n",
      "            \"execution\": {\n",
      "               \"iopub.status.idle\": \"2022-02-07T19:53:17.994090Z\",\n",
      "               \"iopub.status.busy\": \"2022-02-07T19:53:15.519011Z\",\n",
      "               \"iopub.execute_input\": \"2022-02-07T19:53:17.109487Z\",\n",
      "               \"shell.execute_reply\": \"2022-02-07T19:53:17.993635Z\"\n",
      "            }\n",
      "         }\n",
      "      },\n",
      "      {\n",
      "         \"outputs\": [],\n",
      "         \"cell_type\": \"code\",\n",
      "         \"source\": [\n",
      "            \"OnePiece.extension.dict.view(Dict())\"\n",
      "         ],\n",
      "         \"id\": \"8f9fe131\",\n",
      "         \"metadata\": {\n",
      "            \"execution\": {\n",
      "               \"iopub.status.idle\": \"2022-02-13T23:10:05.747505Z\",\n",
      "               \"iopub.status.busy\": \"2022-02-13T23:10:05.660904Z\",\n",
      "               \"iopub.execute_input\": \"2022-02-13T23:10:05.661408Z\",\n",
      "               \"shell.execute_reply\": \"2022-02-13T23:10:05.747060Z\"\n",
      "            }\n",
      "         },\n",
      "         \"execution_count\": null\n",
      "      },\n",
      "      {\n",
      "         \"cell_type\": \"markdown\",\n",
      "         \"source\": [\n",
      "            \"## summarize\"\n",
      "         ],\n",
      "         \"id\": \"e6d28421\",\n",
      "         \"metadata\": {}\n",
      "      },\n",
      "      {\n",
      "         \"outputs\": [],\n",
      "         \"cell_type\": \"code\",\n",
      "         \"source\": [\n",
      "            \"OnePiece.extension.dict.summarize(\\n\",\n",
      "            \"    Dict(1 => \\\"a\\\", 2 => \\\"a\\\", 3 => \\\"b\\\", 4 => nothing, 5 => nothing, 6 => NaN),\\n\",\n",
      "            \")\"\n",
      "         ],\n",
      "         \"id\": \"324e0b15\",\n",
      "         \"metadata\": {\n",
      "            \"execution\": {\n",
      "               \"iopub.status.idle\": \"2022-02-13T23:10:06.234108Z\",\n",
      "               \"iopub.status.busy\": \"2022-02-13T23:10:05.748983Z\",\n",
      "               \"iopub.execute_input\": \"2022-02-13T23:10:05.749507Z\",\n",
      "               \"shell.execute_reply\": \"2022-02-13T23:10:06.233554Z\"\n",
      "            }\n",
      "         },\n",
      "         \"execution_count\": null\n",
      "      },\n",
      "      {\n",
      "         \"cell_type\": \"markdown\",\n",
      "         \"source\": [\n",
      "            \"## sort_recursively!\"\n",
      "         ],\n",
      "         \"id\": \"d82a2d5c\",\n",
      "         \"metadata\": {}\n",
      "      },\n",
      "      {\n",
      "         \"outputs\": [],\n",
      "         \"cell_type\": \"code\",\n",
      "         \"source\": [\n",
      "            \"di = Dict(\\n\",\n",
      "            \"    \\\"z\\\" => Dict(\\\"c\\\" => 1, \\\"b\\\" => 2, \\\"a\\\" => 3),\\n\",\n",
      "            \"    \\\"y\\\" => Dict(),\\n\",\n",
      "            \"    \\\"x\\\" => [3, 2, 1, Dict(\\\"zo\\\" => 2, \\\"lu\\\" => 1)],\\n\",\n",
      "            \"    \\\"w\\\" => [Dict(\\\"k\\\" => 8, \\\"j\\\" => 24), Dict(\\\"lo\\\" => 1, \\\"la\\\" => 3)],\\n\",\n",
      "            \")\\n\",\n",
      "            \"\\n\",\n",
      "            \"OnePiece.extension.dict.view(OnePiece.extension.dict.sort_recursively!(di))\"\n",
      "         ],\n",
      "         \"id\": \"d7558561\",\n",
      "         \"metadata\": {\n",
      "            \"execution\": {\n",
      "               \"iopub.status.idle\": \"2022-02-13T23:10:07.654968Z\",\n",
      "               \"iopub.status.busy\": \"2022-02-13T23:10:06.235696Z\",\n",
      "               \"iopub.execute_input\": \"2022-02-13T23:10:06.236203Z\",\n",
      "               \"shell.execute_reply\": \"2022-02-13T23:10:07.654574Z\"\n",
      "            }\n",
      "         },\n",
      "         \"execution_count\": null\n",
      "      },\n",
      "      {\n",
      "         \"cell_type\": \"markdown\",\n",
      "         \"source\": [\n",
      "            \"## merge\"\n",
      "         ],\n",
      "         \"id\": \"2988a98a-d859-491b-83bd-0880462f2fcd\",\n",
      "         \"metadata\": {}\n",
      "      },\n",
      "      {\n",
      "         \"outputs\": [],\n",
      "         \"cell_type\": \"code\",\n",
      "         \"source\": [\n",
      "            \"di1 = Dict(\\\"1A\\\" => 1, \\\"B\\\" => Dict(\\\"C\\\" => 1, \\\"1D\\\" => 1))\\n\",\n",
      "            \"\\n\",\n",
      "            \"di2 = Dict(\\\"2A\\\" => 2, \\\"B\\\" => Dict(\\\"C\\\" => 2, \\\"2D\\\" => 2))\\n\",\n",
      "            \"\\n\",\n",
      "            \";\"\n",
      "         ],\n",
      "         \"id\": \"75e1e24e\",\n",
      "         \"metadata\": {\n",
      "            \"execution\": {\n",
      "               \"iopub.status.idle\": \"2022-02-13T23:10:07.686912Z\",\n",
      "               \"iopub.status.busy\": \"2022-02-13T23:10:07.656601Z\",\n",
      "               \"iopub.execute_input\": \"2022-02-13T23:10:07.657155Z\",\n",
      "               \"shell.execute_reply\": \"2022-02-13T23:10:07.686390Z\"\n",
      "            }\n",
      "         },\n",
      "         \"execution_count\": null\n",
      "      },\n",
      "      {\n",
      "         \"outputs\": [],\n",
      "         \"cell_type\": \"code\",\n",
      "         \"source\": [\n",
      "            \"OnePiece.extension.dict.view(OnePiece.extension.dict.merge(di1, di2))\"\n",
      "         ],\n",
      "         \"id\": \"62f999fc\",\n",
      "         \"metadata\": {\n",
      "            \"execution\": {\n",
      "               \"iopub.status.idle\": \"2022-02-13T23:10:07.829242Z\",\n",
      "               \"iopub.status.busy\": \"2022-02-13T23:10:07.688213Z\",\n",
      "               \"iopub.execute_input\": \"2022-02-13T23:10:07.688715Z\",\n",
      "               \"shell.execute_reply\": \"2022-02-13T23:10:07.828859Z\"\n",
      "            }\n",
      "         },\n",
      "         \"execution_count\": null\n",
      "      },\n",
      "      {\n",
      "         \"outputs\": [],\n",
      "         \"cell_type\": \"code\",\n",
      "         \"source\": [\n",
      "            \"OnePiece.extension.dict.view(OnePiece.extension.dict.merge(di2, di1))\"\n",
      "         ],\n",
      "         \"id\": \"273f0476\",\n",
      "         \"metadata\": {\n",
      "            \"execution\": {\n",
      "               \"iopub.status.idle\": \"2022-02-13T23:10:07.834229Z\",\n",
      "               \"iopub.status.busy\": \"2022-02-13T23:10:07.830599Z\",\n",
      "               \"iopub.execute_input\": \"2022-02-13T23:10:07.831106Z\",\n",
      "               \"shell.execute_reply\": \"2022-02-13T23:10:07.833838Z\"\n",
      "            }\n",
      "         },\n",
      "         \"execution_count\": null\n",
      "      },\n",
      "      {\n",
      "         \"cell_type\": \"markdown\",\n",
      "         \"source\": [\n",
      "            \"## symbolize_key\"\n",
      "         ],\n",
      "         \"id\": \"c563b07c\",\n",
      "         \"metadata\": {}\n",
      "      },\n",
      "      {\n",
      "         \"outputs\": [],\n",
      "         \"cell_type\": \"code\",\n",
      "         \"source\": [\n",
      "            \"OnePiece.extension.dict.symbolize_key(Dict(\\\"a\\\" => 1, \\\"b\\\" => 2.0))\"\n",
      "         ],\n",
      "         \"id\": \"0e07e4f6\",\n",
      "         \"metadata\": {\n",
      "            \"execution\": {\n",
      "               \"iopub.status.idle\": \"2022-02-13T23:10:08.856022Z\",\n",
      "               \"iopub.status.busy\": \"2022-02-13T23:10:07.835911Z\",\n",
      "               \"iopub.execute_input\": \"2022-02-13T23:10:07.836486Z\",\n",
      "               \"shell.execute_reply\": \"2022-02-13T23:10:08.855641Z\"\n",
      "            }\n",
      "         },\n",
      "         \"execution_count\": null\n",
      "      },\n",
      "      {\n",
      "         \"cell_type\": \"markdown\",\n",
      "         \"source\": [\n",
      "            \"## read\"\n",
      "         ],\n",
      "         \"id\": \"87773501\",\n",
      "         \"metadata\": {}\n",
      "      },\n",
      "      {\n",
      "         \"outputs\": [],\n",
      "         \"cell_type\": \"code\",\n",
      "         \"source\": [\n",
      "            \"da = \\\"dict.data\\\"\\n\",\n",
      "            \"\\n\",\n",
      "            \";\"\n",
      "         ],\n",
      "         \"id\": \"2acca60f\",\n",
      "         \"metadata\": {\n",
      "            \"execution\": {\n",
      "               \"iopub.status.idle\": \"2022-02-13T23:10:08.859687Z\",\n",
      "               \"iopub.status.busy\": \"2022-02-13T23:10:08.857865Z\",\n",
      "               \"iopub.execute_input\": \"2022-02-13T23:10:08.858859Z\",\n",
      "               \"shell.execute_reply\": \"2022-02-13T23:10:08.859314Z\"\n",
      "            }\n",
      "         },\n",
      "         \"execution_count\": null\n",
      "      },\n",
      "      {\n",
      "         \"outputs\": [],\n",
      "         \"cell_type\": \"code\",\n",
      "         \"source\": [\n",
      "            \"OnePiece.extension.dict.view(OnePiece.extension.dict.read(joinpath(da, \\\"example_1.json\\\")))\"\n",
      "         ],\n",
      "         \"id\": \"d4687e26\",\n",
      "         \"metadata\": {\n",
      "            \"execution\": {\n",
      "               \"iopub.status.idle\": \"2022-02-13T23:10:08.911067Z\",\n",
      "               \"iopub.status.busy\": \"2022-02-13T23:10:08.861029Z\",\n",
      "               \"iopub.execute_input\": \"2022-02-13T23:10:08.861820Z\",\n",
      "               \"shell.execute_reply\": \"2022-02-13T23:10:08.910679Z\"\n",
      "            }\n",
      "         },\n",
      "         \"execution_count\": null\n",
      "      },\n",
      "      {\n",
      "         \"outputs\": [],\n",
      "         \"cell_type\": \"code\",\n",
      "         \"source\": [\n",
      "            \"OnePiece.extension.dict.view(OnePiece.extension.dict.read(joinpath(da, \\\"example_2.json\\\")))\"\n",
      "         ],\n",
      "         \"id\": \"b2f113ef\",\n",
      "         \"metadata\": {\n",
      "            \"execution\": {\n",
      "               \"iopub.status.idle\": \"2022-02-13T23:10:08.941099Z\",\n",
      "               \"iopub.status.busy\": \"2022-02-13T23:10:08.912587Z\",\n",
      "               \"iopub.execute_input\": \"2022-02-13T23:10:08.913086Z\",\n",
      "               \"shell.execute_reply\": \"2022-02-13T23:10:08.940546Z\"\n",
      "            }\n",
      "         },\n",
      "         \"execution_count\": null\n",
      "      },\n",
      "      {\n",
      "         \"outputs\": [],\n",
      "         \"cell_type\": \"code\",\n",
      "         \"source\": [\n",
      "            \"OnePiece.extension.dict.view(OnePiece.extension.dict.read(joinpath(da, \\\"example.toml\\\")))\"\n",
      "         ],\n",
      "         \"id\": \"e40557eb\",\n",
      "         \"metadata\": {\n",
      "            \"execution\": {\n",
      "               \"iopub.status.idle\": \"2022-02-13T23:10:09.060078Z\",\n",
      "               \"iopub.status.busy\": \"2022-02-13T23:10:08.942504Z\",\n",
      "               \"iopub.execute_input\": \"2022-02-13T23:10:08.943011Z\",\n",
      "               \"shell.execute_reply\": \"2022-02-13T23:10:09.059695Z\"\n",
      "            }\n",
      "         },\n",
      "         \"execution_count\": null\n",
      "      },\n",
      "      {\n",
      "         \"outputs\": [],\n",
      "         \"cell_type\": \"code\",\n",
      "         \"source\": [\n",
      "            \"OnePiece.extension.dict.view(OnePiece.extension.dict.read(joinpath(@__DIR__, \\\"dict.ipynb\\\")))\"\n",
      "         ],\n",
      "         \"id\": \"094c91bd\",\n",
      "         \"metadata\": {\n",
      "            \"execution\": {\n",
      "               \"iopub.status.idle\": \"2022-02-13T23:10:09.370156Z\",\n",
      "               \"iopub.status.busy\": \"2022-02-13T23:10:09.061831Z\",\n",
      "               \"iopub.execute_input\": \"2022-02-13T23:10:09.062368Z\",\n",
      "               \"shell.execute_reply\": \"2022-02-13T23:10:09.369773Z\"\n",
      "            }\n",
      "         },\n",
      "         \"execution_count\": null\n",
      "      },\n",
      "      {\n",
      "         \"cell_type\": \"markdown\",\n",
      "         \"source\": [\n",
      "            \"## write\"\n",
      "         ],\n",
      "         \"id\": \"7ac005d4\",\n",
      "         \"metadata\": {}\n",
      "      },\n",
      "      {\n",
      "         \"outputs\": [],\n",
      "         \"cell_type\": \"code\",\n",
      "         \"source\": [\n",
      "            \"js = joinpath(tempdir(), \\\"write.json\\\")\\n\",\n",
      "            \"\\n\",\n",
      "            \"di = Dict(\\n\",\n",
      "            \"    \\\"Luffy\\\" => \\\"Pirate King\\\",\\n\",\n",
      "            \"    \\\"Crews\\\" => [\\n\",\n",
      "            \"        \\\"Luffy\\\",\\n\",\n",
      "            \"        \\\"Zoro\\\",\\n\",\n",
      "            \"        \\\"Nami\\\",\\n\",\n",
      "            \"        \\\"Usopp\\\",\\n\",\n",
      "            \"        \\\"Sanji\\\",\\n\",\n",
      "            \"        \\\"Chopper\\\",\\n\",\n",
      "            \"        \\\"Robin\\\",\\n\",\n",
      "            \"        \\\"Franky\\\",\\n\",\n",
      "            \"        \\\"Brook\\\",\\n\",\n",
      "            \"        \\\"Jinbe\\\",\\n\",\n",
      "            \"    ],\\n\",\n",
      "            \"    \\\"episode\\\" => 1030,\\n\",\n",
      "            \")\\n\",\n",
      "            \"\\n\",\n",
      "            \";\"\n",
      "         ],\n",
      "         \"id\": \"d61cce24\",\n",
      "         \"metadata\": {\n",
      "            \"execution\": {\n",
      "               \"iopub.status.idle\": \"2022-02-13T23:10:09.417645Z\",\n",
      "               \"iopub.status.busy\": \"2022-02-13T23:10:09.371669Z\",\n",
      "               \"iopub.execute_input\": \"2022-02-13T23:10:09.372165Z\",\n",
      "               \"shell.execute_reply\": \"2022-02-13T23:10:09.416905Z\"\n",
      "            }\n",
      "         },\n",
      "         \"execution_count\": null\n",
      "      },\n",
      "      {\n",
      "         \"outputs\": [],\n",
      "         \"cell_type\": \"code\",\n",
      "         \"source\": [\n",
      "            \"OnePiece.extension.dict.write(js, di)\"\n",
      "         ],\n",
      "         \"id\": \"8402bcbe\",\n",
      "         \"metadata\": {\n",
      "            \"execution\": {\n",
      "               \"iopub.status.idle\": \"2022-02-13T23:10:09.534305Z\",\n",
      "               \"iopub.status.busy\": \"2022-02-13T23:10:09.419193Z\",\n",
      "               \"iopub.execute_input\": \"2022-02-13T23:10:09.419813Z\",\n",
      "               \"shell.execute_reply\": \"2022-02-13T23:10:09.533771Z\"\n",
      "            }\n",
      "         },\n",
      "         \"execution_count\": null\n",
      "      },\n",
      "      {\n",
      "         \"outputs\": [],\n",
      "         \"cell_type\": \"code\",\n",
      "         \"source\": [\n",
      "            \"OnePiece.extension.dict.view(OnePiece.extension.dict.read(js))\"\n",
      "         ],\n",
      "         \"id\": \"83445e66\",\n",
      "         \"metadata\": {\n",
      "            \"execution\": {\n",
      "               \"iopub.status.idle\": \"2022-02-13T23:10:09.542693Z\",\n",
      "               \"iopub.status.busy\": \"2022-02-13T23:10:09.536037Z\",\n",
      "               \"iopub.execute_input\": \"2022-02-13T23:10:09.536578Z\",\n",
      "               \"shell.execute_reply\": \"2022-02-13T23:10:09.542284Z\"\n",
      "            }\n",
      "         },\n",
      "         \"execution_count\": null\n",
      "      },\n",
      "      {\n",
      "         \"cell_type\": \"markdown\",\n",
      "         \"source\": [\n",
      "            \"---\"\n",
      "         ],\n",
      "         \"id\": \"3f396855\",\n",
      "         \"metadata\": {}\n",
      "      },\n",
      "      {\n",
      "         \"outputs\": [],\n",
      "         \"cell_type\": \"code\",\n",
      "         \"source\": [\n",
      "            \"if isdir(TE)\\n\",\n",
      "            \"\\n\",\n",
      "            \"    rm(TE, recursive = true)\\n\",\n",
      "            \"\\n\",\n",
      "            \"    println(\\\"Removed \\\", TE, \\\".\\\")\\n\",\n",
      "            \"\\n\",\n",
      "            \"end\"\n",
      "         ],\n",
      "         \"id\": \"b4af2023\",\n",
      "         \"metadata\": {},\n",
      "         \"execution_count\": null\n",
      "      }\n",
      "   ],\n",
      "   \"nbformat_minor\": 5,\n",
      "   \"metadata\": {\n",
      "      \"language_info\": {\n",
      "         \"file_extension\": \".jl\",\n",
      "         \"mimetype\": \"application/julia\",\n",
      "         \"name\": \"julia\",\n",
      "         \"version\": \"1.7.2\"\n",
      "      },\n",
      "      \"kernelspec\": {\n",
      "         \"name\": \"julia-1.7\",\n",
      "         \"display_name\": \"Julia 1.7.2\",\n",
      "         \"language\": \"julia\"\n",
      "      }\n",
      "   },\n",
      "   \"nbformat\": 4\n",
      "}\n"
     ]
    }
   ],
   "source": [
    "OnePiece.extension.dict.view(OnePiece.extension.dict.read(joinpath(@__DIR__, \"dict.ipynb\")))"
   ]
  },
  {
   "cell_type": "markdown",
   "id": "7ac005d4",
   "metadata": {},
   "source": [
    "## write"
   ]
  },
  {
   "cell_type": "code",
   "execution_count": 16,
   "id": "d61cce24",
   "metadata": {
    "execution": {
     "iopub.execute_input": "2022-02-13T23:29:03.864463Z",
     "iopub.status.busy": "2022-02-13T23:29:03.863883Z",
     "iopub.status.idle": "2022-02-13T23:29:03.918715Z",
     "shell.execute_reply": "2022-02-13T23:29:03.918241Z"
    }
   },
   "outputs": [],
   "source": [
    "js = joinpath(tempdir(), \"write.json\")\n",
    "\n",
    "di = Dict(\n",
    "    \"Luffy\" => \"Pirate King\",\n",
    "    \"Crews\" => [\n",
    "        \"Luffy\",\n",
    "        \"Zoro\",\n",
    "        \"Nami\",\n",
    "        \"Usopp\",\n",
    "        \"Sanji\",\n",
    "        \"Chopper\",\n",
    "        \"Robin\",\n",
    "        \"Franky\",\n",
    "        \"Brook\",\n",
    "        \"Jinbe\",\n",
    "    ],\n",
    "    \"episode\" => 1030,\n",
    ")\n",
    "\n",
    ";"
   ]
  },
  {
   "cell_type": "code",
   "execution_count": 17,
   "id": "8402bcbe",
   "metadata": {
    "execution": {
     "iopub.execute_input": "2022-02-13T23:29:03.920587Z",
     "iopub.status.busy": "2022-02-13T23:29:03.920069Z",
     "iopub.status.idle": "2022-02-13T23:29:04.047498Z",
     "shell.execute_reply": "2022-02-13T23:29:04.047046Z"
    }
   },
   "outputs": [],
   "source": [
    "OnePiece.extension.dict.write(js, di)"
   ]
  },
  {
   "cell_type": "code",
   "execution_count": 18,
   "id": "83445e66",
   "metadata": {
    "execution": {
     "iopub.execute_input": "2022-02-13T23:29:04.049613Z",
     "iopub.status.busy": "2022-02-13T23:29:04.048828Z",
     "iopub.status.idle": "2022-02-13T23:29:04.057354Z",
     "shell.execute_reply": "2022-02-13T23:29:04.056735Z"
    }
   },
   "outputs": [
    {
     "name": "stdout",
     "output_type": "stream",
     "text": [
      "{\n",
      "   \"Crews\": [\n",
      "      \"Luffy\",\n",
      "      \"Zoro\",\n",
      "      \"Nami\",\n",
      "      \"Usopp\",\n",
      "      \"Sanji\",\n",
      "      \"Chopper\",\n",
      "      \"Robin\",\n",
      "      \"Franky\",\n",
      "      \"Brook\",\n",
      "      \"Jinbe\"\n",
      "   ],\n",
      "   \"episode\": 1030,\n",
      "   \"Luffy\": \"Pirate King\"\n",
      "}\n"
     ]
    }
   ],
   "source": [
    "OnePiece.extension.dict.view(OnePiece.extension.dict.read(js))"
   ]
  },
  {
   "cell_type": "markdown",
   "id": "3f396855",
   "metadata": {},
   "source": [
    "---"
   ]
  },
  {
   "cell_type": "code",
   "execution_count": 19,
   "id": "b4af2023",
   "metadata": {
    "execution": {
     "iopub.execute_input": "2022-02-13T23:29:04.059943Z",
     "iopub.status.busy": "2022-02-13T23:29:04.059269Z",
     "iopub.status.idle": "2022-02-13T23:29:04.061987Z",
     "shell.execute_reply": "2022-02-13T23:29:04.061614Z"
    }
   },
   "outputs": [
    {
     "name": "stdout",
     "output_type": "stream",
     "text": [
      "Removed /var/folders/mg/30npdf0s1z36txb2qvgylrzh0000gn/T/OnePiece.test.\n"
     ]
    }
   ],
   "source": [
    "if isdir(TE)\n",
    "\n",
    "    rm(TE, recursive = true)\n",
    "\n",
    "    println(\"Removed \", TE, \".\")\n",
    "\n",
    "end"
   ]
  }
 ],
 "metadata": {
  "kernelspec": {
   "display_name": "Julia 1.7.2",
   "language": "julia",
   "name": "julia-1.7"
  },
  "language_info": {
   "file_extension": ".jl",
   "mimetype": "application/julia",
   "name": "julia",
   "version": "1.7.2"
  }
 },
 "nbformat": 4,
 "nbformat_minor": 5
}
