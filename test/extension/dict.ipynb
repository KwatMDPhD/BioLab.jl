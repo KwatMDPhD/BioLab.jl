{
 "cells": [
  {
   "cell_type": "code",
   "execution_count": null,
   "id": "017464da",
   "metadata": {
    "execution": {
     "iopub.execute_input": "2022-02-13T23:09:58.923542Z",
     "iopub.status.busy": "2022-02-13T23:09:58.561827Z",
     "iopub.status.idle": "2022-02-13T23:09:59.131197Z",
     "shell.execute_reply": "2022-02-13T23:09:59.130691Z"
    }
   },
   "outputs": [],
   "source": [
    "TE = joinpath(tempdir(), \"OnePiece.test\")\n",
    "\n",
    "if isdir(TE)\n",
    "\n",
    "    rm(TE, recursive = true)\n",
    "\n",
    "    println(\"Removed \", TE, \".\")\n",
    "\n",
    "end\n",
    "\n",
    "mkdir(TE)\n",
    "\n",
    "println(\"Made \", TE, \".\")"
   ]
  },
  {
   "cell_type": "code",
   "execution_count": null,
   "id": "34e4701e",
   "metadata": {
    "execution": {
     "iopub.execute_input": "2022-02-13T23:09:59.133392Z",
     "iopub.status.busy": "2022-02-13T23:09:59.132836Z",
     "iopub.status.idle": "2022-02-13T23:10:03.580720Z",
     "shell.execute_reply": "2022-02-13T23:10:03.580327Z"
    }
   },
   "outputs": [],
   "source": [
    "using OnePiece"
   ]
  },
  {
   "cell_type": "markdown",
   "id": "b92a3da9",
   "metadata": {},
   "source": [
    "---"
   ]
  },
  {
   "cell_type": "markdown",
   "id": "7622e7dc",
   "metadata": {},
   "source": [
    "## make"
   ]
  },
  {
   "cell_type": "code",
   "execution_count": null,
   "id": "5b789b4c",
   "metadata": {
    "execution": {
     "iopub.execute_input": "2022-02-13T23:10:03.908322Z",
     "iopub.status.busy": "2022-02-13T23:10:03.582208Z",
     "iopub.status.idle": "2022-02-13T23:10:05.659422Z",
     "shell.execute_reply": "2022-02-13T23:10:05.658931Z"
    }
   },
   "outputs": [],
   "source": [
    "OnePiece.extension.dict.make(a = 1, b = 2)"
   ]
  },
  {
   "cell_type": "markdown",
   "id": "7c7a0328",
   "metadata": {
    "execution": {
     "iopub.execute_input": "2022-02-07T19:53:17.109487Z",
     "iopub.status.busy": "2022-02-07T19:53:15.519011Z",
     "iopub.status.idle": "2022-02-07T19:53:17.994090Z",
     "shell.execute_reply": "2022-02-07T19:53:17.993635Z"
    }
   },
   "source": [
    "## view"
   ]
  },
  {
   "cell_type": "code",
   "execution_count": null,
   "id": "8f9fe131",
   "metadata": {
    "execution": {
     "iopub.execute_input": "2022-02-13T23:10:05.661408Z",
     "iopub.status.busy": "2022-02-13T23:10:05.660904Z",
     "iopub.status.idle": "2022-02-13T23:10:05.747505Z",
     "shell.execute_reply": "2022-02-13T23:10:05.747060Z"
    }
   },
   "outputs": [],
   "source": [
    "OnePiece.extension.dict.view(Dict())"
   ]
  },
  {
   "cell_type": "markdown",
   "id": "e6d28421",
   "metadata": {},
   "source": [
    "## summarize"
   ]
  },
  {
   "cell_type": "code",
   "execution_count": null,
   "id": "324e0b15",
   "metadata": {
    "execution": {
     "iopub.execute_input": "2022-02-13T23:10:05.749507Z",
     "iopub.status.busy": "2022-02-13T23:10:05.748983Z",
     "iopub.status.idle": "2022-02-13T23:10:06.234108Z",
     "shell.execute_reply": "2022-02-13T23:10:06.233554Z"
    }
   },
   "outputs": [],
   "source": [
    "OnePiece.extension.dict.summarize(\n",
    "    Dict(1 => \"a\", 2 => \"a\", 3 => \"b\", 4 => nothing, 5 => nothing, 6 => NaN),\n",
    ")"
   ]
  },
  {
   "cell_type": "markdown",
   "id": "d82a2d5c",
   "metadata": {},
   "source": [
    "## sort_recursively!"
   ]
  },
  {
   "cell_type": "code",
   "execution_count": null,
   "id": "d7558561",
   "metadata": {
    "execution": {
     "iopub.execute_input": "2022-02-13T23:10:06.236203Z",
     "iopub.status.busy": "2022-02-13T23:10:06.235696Z",
     "iopub.status.idle": "2022-02-13T23:10:07.654968Z",
     "shell.execute_reply": "2022-02-13T23:10:07.654574Z"
    }
   },
   "outputs": [],
   "source": [
    "di = Dict(\n",
    "    \"z\" => Dict(\"c\" => 1, \"b\" => 2, \"a\" => 3),\n",
    "    \"y\" => Dict(),\n",
    "    \"x\" => [3, 2, 1, Dict(\"zo\" => 2, \"lu\" => 1)],\n",
    "    \"w\" => [Dict(\"k\" => 8, \"j\" => 24), Dict(\"lo\" => 1, \"la\" => 3)],\n",
    ")\n",
    "\n",
    "OnePiece.extension.dict.view(OnePiece.extension.dict.sort_recursively!(di))"
   ]
  },
  {
   "cell_type": "markdown",
   "id": "2988a98a-d859-491b-83bd-0880462f2fcd",
   "metadata": {},
   "source": [
    "## merge"
   ]
  },
  {
   "cell_type": "code",
   "execution_count": null,
   "id": "75e1e24e",
   "metadata": {
    "execution": {
     "iopub.execute_input": "2022-02-13T23:10:07.657155Z",
     "iopub.status.busy": "2022-02-13T23:10:07.656601Z",
     "iopub.status.idle": "2022-02-13T23:10:07.686912Z",
     "shell.execute_reply": "2022-02-13T23:10:07.686390Z"
    }
   },
   "outputs": [],
   "source": [
    "di1 = Dict(\"1A\" => 1, \"B\" => Dict(\"C\" => 1, \"1D\" => 1))\n",
    "\n",
    "di2 = Dict(\"2A\" => 2, \"B\" => Dict(\"C\" => 2, \"2D\" => 2))\n",
    "\n",
    ";"
   ]
  },
  {
   "cell_type": "code",
   "execution_count": null,
   "id": "62f999fc",
   "metadata": {
    "execution": {
     "iopub.execute_input": "2022-02-13T23:10:07.688715Z",
     "iopub.status.busy": "2022-02-13T23:10:07.688213Z",
     "iopub.status.idle": "2022-02-13T23:10:07.829242Z",
     "shell.execute_reply": "2022-02-13T23:10:07.828859Z"
    }
   },
   "outputs": [],
   "source": [
    "OnePiece.extension.dict.view(OnePiece.extension.dict.merge(di1, di2))"
   ]
  },
  {
   "cell_type": "code",
   "execution_count": null,
   "id": "273f0476",
   "metadata": {
    "execution": {
     "iopub.execute_input": "2022-02-13T23:10:07.831106Z",
     "iopub.status.busy": "2022-02-13T23:10:07.830599Z",
     "iopub.status.idle": "2022-02-13T23:10:07.834229Z",
     "shell.execute_reply": "2022-02-13T23:10:07.833838Z"
    }
   },
   "outputs": [],
   "source": [
    "OnePiece.extension.dict.view(OnePiece.extension.dict.merge(di2, di1))"
   ]
  },
  {
   "cell_type": "markdown",
   "id": "c563b07c",
   "metadata": {},
   "source": [
    "## symbolize_key"
   ]
  },
  {
   "cell_type": "code",
   "execution_count": null,
   "id": "0e07e4f6",
   "metadata": {
    "execution": {
     "iopub.execute_input": "2022-02-13T23:10:07.836486Z",
     "iopub.status.busy": "2022-02-13T23:10:07.835911Z",
     "iopub.status.idle": "2022-02-13T23:10:08.856022Z",
     "shell.execute_reply": "2022-02-13T23:10:08.855641Z"
    }
   },
   "outputs": [],
   "source": [
    "OnePiece.extension.dict.symbolize_key(Dict(\"a\" => 1, \"b\" => 2.0))"
   ]
  },
  {
   "cell_type": "markdown",
   "id": "87773501",
   "metadata": {},
   "source": [
    "## read"
   ]
  },
  {
   "cell_type": "code",
   "execution_count": null,
   "id": "2acca60f",
   "metadata": {
    "execution": {
     "iopub.execute_input": "2022-02-13T23:10:08.858859Z",
     "iopub.status.busy": "2022-02-13T23:10:08.857865Z",
     "iopub.status.idle": "2022-02-13T23:10:08.859687Z",
     "shell.execute_reply": "2022-02-13T23:10:08.859314Z"
    }
   },
   "outputs": [],
   "source": [
    "da = \"dict.data\"\n",
    "\n",
    ";"
   ]
  },
  {
   "cell_type": "code",
   "execution_count": null,
   "id": "d4687e26",
   "metadata": {
    "execution": {
     "iopub.execute_input": "2022-02-13T23:10:08.861820Z",
     "iopub.status.busy": "2022-02-13T23:10:08.861029Z",
     "iopub.status.idle": "2022-02-13T23:10:08.911067Z",
     "shell.execute_reply": "2022-02-13T23:10:08.910679Z"
    }
   },
   "outputs": [],
   "source": [
    "OnePiece.extension.dict.view(OnePiece.extension.dict.read(joinpath(da, \"example_1.json\")))"
   ]
  },
  {
   "cell_type": "code",
   "execution_count": null,
   "id": "b2f113ef",
   "metadata": {
    "execution": {
     "iopub.execute_input": "2022-02-13T23:10:08.913086Z",
     "iopub.status.busy": "2022-02-13T23:10:08.912587Z",
     "iopub.status.idle": "2022-02-13T23:10:08.941099Z",
     "shell.execute_reply": "2022-02-13T23:10:08.940546Z"
    }
   },
   "outputs": [],
   "source": [
    "OnePiece.extension.dict.view(OnePiece.extension.dict.read(joinpath(da, \"example_2.json\")))"
   ]
  },
  {
   "cell_type": "code",
   "execution_count": null,
   "id": "e40557eb",
   "metadata": {
    "execution": {
     "iopub.execute_input": "2022-02-13T23:10:08.943011Z",
     "iopub.status.busy": "2022-02-13T23:10:08.942504Z",
     "iopub.status.idle": "2022-02-13T23:10:09.060078Z",
     "shell.execute_reply": "2022-02-13T23:10:09.059695Z"
    }
   },
   "outputs": [],
   "source": [
    "OnePiece.extension.dict.view(OnePiece.extension.dict.read(joinpath(da, \"example.toml\")))"
   ]
  },
  {
   "cell_type": "code",
   "execution_count": null,
   "id": "094c91bd",
   "metadata": {
    "execution": {
     "iopub.execute_input": "2022-02-13T23:10:09.062368Z",
     "iopub.status.busy": "2022-02-13T23:10:09.061831Z",
     "iopub.status.idle": "2022-02-13T23:10:09.370156Z",
     "shell.execute_reply": "2022-02-13T23:10:09.369773Z"
    }
   },
   "outputs": [],
   "source": [
    "OnePiece.extension.dict.view(OnePiece.extension.dict.read(joinpath(@__DIR__, \"dict.ipynb\")))"
   ]
  },
  {
   "cell_type": "markdown",
   "id": "7ac005d4",
   "metadata": {},
   "source": [
    "## write"
   ]
  },
  {
   "cell_type": "code",
   "execution_count": null,
   "id": "d61cce24",
   "metadata": {
    "execution": {
     "iopub.execute_input": "2022-02-13T23:10:09.372165Z",
     "iopub.status.busy": "2022-02-13T23:10:09.371669Z",
     "iopub.status.idle": "2022-02-13T23:10:09.417645Z",
     "shell.execute_reply": "2022-02-13T23:10:09.416905Z"
    }
   },
   "outputs": [],
   "source": [
    "js = joinpath(tempdir(), \"write.json\")\n",
    "\n",
    "di = Dict(\n",
    "    \"Luffy\" => \"Pirate King\",\n",
    "    \"Crews\" => [\n",
    "        \"Luffy\",\n",
    "        \"Zoro\",\n",
    "        \"Nami\",\n",
    "        \"Usopp\",\n",
    "        \"Sanji\",\n",
    "        \"Chopper\",\n",
    "        \"Robin\",\n",
    "        \"Franky\",\n",
    "        \"Brook\",\n",
    "        \"Jinbe\",\n",
    "    ],\n",
    "    \"episode\" => 1030,\n",
    ")\n",
    "\n",
    ";"
   ]
  },
  {
   "cell_type": "code",
   "execution_count": null,
   "id": "8402bcbe",
   "metadata": {
    "execution": {
     "iopub.execute_input": "2022-02-13T23:10:09.419813Z",
     "iopub.status.busy": "2022-02-13T23:10:09.419193Z",
     "iopub.status.idle": "2022-02-13T23:10:09.534305Z",
     "shell.execute_reply": "2022-02-13T23:10:09.533771Z"
    }
   },
   "outputs": [],
   "source": [
    "OnePiece.extension.dict.write(js, di)"
   ]
  },
  {
   "cell_type": "code",
   "execution_count": null,
   "id": "83445e66",
   "metadata": {
    "execution": {
     "iopub.execute_input": "2022-02-13T23:10:09.536578Z",
     "iopub.status.busy": "2022-02-13T23:10:09.536037Z",
     "iopub.status.idle": "2022-02-13T23:10:09.542693Z",
     "shell.execute_reply": "2022-02-13T23:10:09.542284Z"
    }
   },
   "outputs": [],
   "source": [
    "OnePiece.extension.dict.view(OnePiece.extension.dict.read(js))"
   ]
  },
  {
   "cell_type": "markdown",
   "id": "3f396855",
   "metadata": {},
   "source": [
    "---"
   ]
  },
  {
   "cell_type": "code",
   "execution_count": null,
   "id": "b4af2023",
   "metadata": {
    "execution": {
     "iopub.execute_input": "2022-02-13T23:10:09.545279Z",
     "iopub.status.busy": "2022-02-13T23:10:09.544414Z",
     "iopub.status.idle": "2022-02-13T23:10:09.546954Z",
     "shell.execute_reply": "2022-02-13T23:10:09.546577Z"
    }
   },
   "outputs": [],
   "source": [
    "if isdir(TE)\n",
    "\n",
    "    rm(TE, recursive = true)\n",
    "\n",
    "    println(\"Removed \", TE, \".\")\n",
    "\n",
    "end"
   ]
  }
 ],
 "metadata": {
  "kernelspec": {
   "display_name": "Julia 1.7.2",
   "language": "julia",
   "name": "julia-1.7"
  },
  "language_info": {
   "file_extension": ".jl",
   "mimetype": "application/julia",
   "name": "julia",
   "version": "1.7.2"
  }
 },
 "nbformat": 4,
 "nbformat_minor": 5
}
