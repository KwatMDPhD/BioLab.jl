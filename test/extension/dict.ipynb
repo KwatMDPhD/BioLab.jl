{
 "cells": [
  {
   "cell_type": "code",
   "execution_count": null,
   "id": "017464da",
   "metadata": {
    "execution": {
     "iopub.execute_input": "2022-02-13T21:48:15.717764Z",
     "iopub.status.busy": "2022-02-13T21:48:15.360299Z",
     "iopub.status.idle": "2022-02-13T21:48:15.917856Z",
     "shell.execute_reply": "2022-02-13T21:48:15.917354Z"
    }
   },
   "outputs": [],
   "source": [
    "TE = joinpath(tempdir(), \"OnePiece.test\")\n",
    "\n",
    "if isdir(TE)\n",
    "\n",
    "    rm(TE, recursive = true)\n",
    "\n",
    "    println(\"Removed \", TE, \".\")\n",
    "\n",
    "end\n",
    "\n",
    "mkdir(TE)\n",
    "\n",
    "println(\"Made \", TE, \".\")"
   ]
  },
  {
   "cell_type": "code",
   "execution_count": null,
   "id": "34e4701e",
   "metadata": {
    "execution": {
     "iopub.execute_input": "2022-02-13T21:48:15.920219Z",
     "iopub.status.busy": "2022-02-13T21:48:15.919335Z",
     "iopub.status.idle": "2022-02-13T21:48:20.272720Z",
     "shell.execute_reply": "2022-02-13T21:48:20.272263Z"
    }
   },
   "outputs": [],
   "source": [
    "using OnePiece"
   ]
  },
  {
   "cell_type": "markdown",
   "id": "b92a3da9",
   "metadata": {},
   "source": [
    "---"
   ]
  },
  {
   "cell_type": "markdown",
   "id": "7622e7dc",
   "metadata": {},
   "source": [
    "## make"
   ]
  },
  {
   "cell_type": "code",
   "execution_count": null,
   "id": "5b789b4c",
   "metadata": {
    "execution": {
     "iopub.execute_input": "2022-02-13T21:48:20.592974Z",
     "iopub.status.busy": "2022-02-13T21:48:20.274046Z",
     "iopub.status.idle": "2022-02-13T21:48:22.306694Z",
     "shell.execute_reply": "2022-02-13T21:48:22.306306Z"
    }
   },
   "outputs": [],
   "source": [
    "OnePiece.extension.dict.make(a = 1, b = 2)"
   ]
  },
  {
   "cell_type": "markdown",
   "id": "7c7a0328",
   "metadata": {
    "execution": {
     "iopub.execute_input": "2022-02-07T19:53:17.109487Z",
     "iopub.status.busy": "2022-02-07T19:53:15.519011Z",
     "iopub.status.idle": "2022-02-07T19:53:17.994090Z",
     "shell.execute_reply": "2022-02-07T19:53:17.993635Z"
    }
   },
   "source": [
    "## view"
   ]
  },
  {
   "cell_type": "code",
   "execution_count": null,
   "id": "8f9fe131",
   "metadata": {
    "execution": {
     "iopub.execute_input": "2022-02-13T21:48:22.308727Z",
     "iopub.status.busy": "2022-02-13T21:48:22.308221Z",
     "iopub.status.idle": "2022-02-13T21:48:22.397976Z",
     "shell.execute_reply": "2022-02-13T21:48:22.397314Z"
    }
   },
   "outputs": [],
   "source": [
    "OnePiece.extension.dict.view(Dict())"
   ]
  },
  {
   "cell_type": "markdown",
   "id": "e6d28421",
   "metadata": {},
   "source": [
    "## summarize"
   ]
  },
  {
   "cell_type": "code",
   "execution_count": null,
   "id": "324e0b15",
   "metadata": {
    "execution": {
     "iopub.execute_input": "2022-02-13T21:48:22.399957Z",
     "iopub.status.busy": "2022-02-13T21:48:22.399450Z",
     "iopub.status.idle": "2022-02-13T21:48:22.901618Z",
     "shell.execute_reply": "2022-02-13T21:48:22.901100Z"
    }
   },
   "outputs": [],
   "source": [
    "OnePiece.extension.dict.summarize(\n",
    "    Dict(1 => \"a\", 2 => \"a\", 3 => \"b\", 4 => nothing, 5 => nothing, 6 => NaN),\n",
    ")"
   ]
  },
  {
   "cell_type": "markdown",
   "id": "d82a2d5c",
   "metadata": {},
   "source": [
    "## sort_recursively!"
   ]
  },
  {
   "cell_type": "code",
   "execution_count": null,
   "id": "d7558561",
   "metadata": {
    "execution": {
     "iopub.execute_input": "2022-02-13T21:48:22.903605Z",
     "iopub.status.busy": "2022-02-13T21:48:22.903092Z",
     "iopub.status.idle": "2022-02-13T21:48:24.309660Z",
     "shell.execute_reply": "2022-02-13T21:48:24.309301Z"
    }
   },
   "outputs": [],
   "source": [
    "di = Dict(\n",
    "    \"z\" => Dict(\"c\" => 1, \"b\" => 2, \"a\" => 3),\n",
    "    \"y\" => Dict(),\n",
    "    \"x\" => [3, 2, 1, Dict(\"zo\" => 2, \"lu\" => 1)],\n",
    "    \"w\" => [Dict(\"k\" => 8, \"j\" => 24), Dict(\"lo\" => 1, \"la\" => 3)],\n",
    ")\n",
    "\n",
    "OnePiece.extension.dict.view(OnePiece.extension.dict.sort_recursively!(di))"
   ]
  },
  {
   "cell_type": "markdown",
   "id": "2988a98a-d859-491b-83bd-0880462f2fcd",
   "metadata": {},
   "source": [
    "## merge"
   ]
  },
  {
   "cell_type": "code",
   "execution_count": null,
   "id": "75e1e24e",
   "metadata": {
    "execution": {
     "iopub.execute_input": "2022-02-13T21:48:24.311779Z",
     "iopub.status.busy": "2022-02-13T21:48:24.311079Z",
     "iopub.status.idle": "2022-02-13T21:48:24.342850Z",
     "shell.execute_reply": "2022-02-13T21:48:24.342413Z"
    }
   },
   "outputs": [],
   "source": [
    "di1 = Dict(\"1A\" => 1, \"B\" => Dict(\"C\" => 1, \"1D\" => 1))\n",
    "\n",
    "di2 = Dict(\"2A\" => 2, \"B\" => Dict(\"C\" => 2, \"2D\" => 2))\n",
    "\n",
    ";"
   ]
  },
  {
   "cell_type": "code",
   "execution_count": null,
   "id": "62f999fc",
   "metadata": {
    "execution": {
     "iopub.execute_input": "2022-02-13T21:48:24.344687Z",
     "iopub.status.busy": "2022-02-13T21:48:24.344198Z",
     "iopub.status.idle": "2022-02-13T21:48:24.484092Z",
     "shell.execute_reply": "2022-02-13T21:48:24.483707Z"
    }
   },
   "outputs": [],
   "source": [
    "OnePiece.extension.dict.view(OnePiece.extension.dict.merge(di1, di2))"
   ]
  },
  {
   "cell_type": "code",
   "execution_count": null,
   "id": "273f0476",
   "metadata": {
    "execution": {
     "iopub.execute_input": "2022-02-13T21:48:24.486089Z",
     "iopub.status.busy": "2022-02-13T21:48:24.485390Z",
     "iopub.status.idle": "2022-02-13T21:48:24.489081Z",
     "shell.execute_reply": "2022-02-13T21:48:24.488734Z"
    }
   },
   "outputs": [],
   "source": [
    "OnePiece.extension.dict.view(OnePiece.extension.dict.merge(di2, di1))"
   ]
  },
  {
   "cell_type": "markdown",
   "id": "c563b07c",
   "metadata": {},
   "source": [
    "## symbolize_key"
   ]
  },
  {
   "cell_type": "code",
   "execution_count": null,
   "id": "0e07e4f6",
   "metadata": {
    "execution": {
     "iopub.execute_input": "2022-02-13T21:48:24.491242Z",
     "iopub.status.busy": "2022-02-13T21:48:24.490458Z",
     "iopub.status.idle": "2022-02-13T21:48:25.490824Z",
     "shell.execute_reply": "2022-02-13T21:48:25.490384Z"
    }
   },
   "outputs": [],
   "source": [
    "OnePiece.extension.dict.symbolize_key(Dict(\"a\" => 1, \"b\" => 2.0))"
   ]
  },
  {
   "cell_type": "markdown",
   "id": "87773501",
   "metadata": {},
   "source": [
    "## read"
   ]
  },
  {
   "cell_type": "code",
   "execution_count": null,
   "id": "2acca60f",
   "metadata": {
    "execution": {
     "iopub.execute_input": "2022-02-13T21:48:25.493004Z",
     "iopub.status.busy": "2022-02-13T21:48:25.492317Z",
     "iopub.status.idle": "2022-02-13T21:48:25.493886Z",
     "shell.execute_reply": "2022-02-13T21:48:25.493448Z"
    }
   },
   "outputs": [],
   "source": [
    "da = \"dict.data\"\n",
    "\n",
    ";"
   ]
  },
  {
   "cell_type": "code",
   "execution_count": null,
   "id": "d4687e26",
   "metadata": {
    "execution": {
     "iopub.execute_input": "2022-02-13T21:48:25.496992Z",
     "iopub.status.busy": "2022-02-13T21:48:25.495437Z",
     "iopub.status.idle": "2022-02-13T21:48:25.543994Z",
     "shell.execute_reply": "2022-02-13T21:48:25.543644Z"
    }
   },
   "outputs": [],
   "source": [
    "OnePiece.extension.dict.view(OnePiece.extension.dict.read(joinpath(da, \"example_1.json\")))"
   ]
  },
  {
   "cell_type": "code",
   "execution_count": null,
   "id": "b2f113ef",
   "metadata": {
    "execution": {
     "iopub.execute_input": "2022-02-13T21:48:25.546435Z",
     "iopub.status.busy": "2022-02-13T21:48:25.545510Z",
     "iopub.status.idle": "2022-02-13T21:48:25.573774Z",
     "shell.execute_reply": "2022-02-13T21:48:25.573361Z"
    }
   },
   "outputs": [],
   "source": [
    "OnePiece.extension.dict.view(OnePiece.extension.dict.read(joinpath(da, \"example_2.json\")))"
   ]
  },
  {
   "cell_type": "code",
   "execution_count": null,
   "id": "e40557eb",
   "metadata": {
    "execution": {
     "iopub.execute_input": "2022-02-13T21:48:25.575599Z",
     "iopub.status.busy": "2022-02-13T21:48:25.575103Z",
     "iopub.status.idle": "2022-02-13T21:48:25.691416Z",
     "shell.execute_reply": "2022-02-13T21:48:25.690980Z"
    }
   },
   "outputs": [],
   "source": [
    "OnePiece.extension.dict.view(OnePiece.extension.dict.read(joinpath(da, \"example.toml\")))"
   ]
  },
  {
   "cell_type": "code",
   "execution_count": null,
   "id": "094c91bd",
   "metadata": {
    "execution": {
     "iopub.execute_input": "2022-02-13T21:48:25.693285Z",
     "iopub.status.busy": "2022-02-13T21:48:25.692782Z",
     "iopub.status.idle": "2022-02-13T21:48:26.003631Z",
     "shell.execute_reply": "2022-02-13T21:48:26.003238Z"
    }
   },
   "outputs": [],
   "source": [
    "OnePiece.extension.dict.view(OnePiece.extension.dict.read(joinpath(@__DIR__, \"dict.ipynb\")))"
   ]
  },
  {
   "cell_type": "markdown",
   "id": "7ac005d4",
   "metadata": {},
   "source": [
    "## write"
   ]
  },
  {
   "cell_type": "code",
   "execution_count": null,
   "id": "d61cce24",
   "metadata": {
    "execution": {
     "iopub.execute_input": "2022-02-13T21:48:26.005440Z",
     "iopub.status.busy": "2022-02-13T21:48:26.004943Z",
     "iopub.status.idle": "2022-02-13T21:48:26.049546Z",
     "shell.execute_reply": "2022-02-13T21:48:26.048804Z"
    }
   },
   "outputs": [],
   "source": [
    "js = joinpath(tempdir(), \"write.json\")\n",
    "\n",
    "di = Dict(\n",
    "    \"Luffy\" => \"Pirate King\",\n",
    "    \"Crews\" => [\n",
    "        \"Luffy\",\n",
    "        \"Zoro\",\n",
    "        \"Nami\",\n",
    "        \"Usopp\",\n",
    "        \"Sanji\",\n",
    "        \"Chopper\",\n",
    "        \"Robin\",\n",
    "        \"Franky\",\n",
    "        \"Brook\",\n",
    "        \"Jinbe\",\n",
    "    ],\n",
    "    \"episode\" => 1030,\n",
    ")\n",
    "\n",
    ";"
   ]
  },
  {
   "cell_type": "code",
   "execution_count": null,
   "id": "8402bcbe",
   "metadata": {
    "execution": {
     "iopub.execute_input": "2022-02-13T21:48:26.051684Z",
     "iopub.status.busy": "2022-02-13T21:48:26.051191Z",
     "iopub.status.idle": "2022-02-13T21:48:26.161995Z",
     "shell.execute_reply": "2022-02-13T21:48:26.161439Z"
    }
   },
   "outputs": [],
   "source": [
    "OnePiece.extension.dict.write(js, di)"
   ]
  },
  {
   "cell_type": "code",
   "execution_count": null,
   "id": "83445e66",
   "metadata": {
    "execution": {
     "iopub.execute_input": "2022-02-13T21:48:26.164695Z",
     "iopub.status.busy": "2022-02-13T21:48:26.164200Z",
     "iopub.status.idle": "2022-02-13T21:48:26.170205Z",
     "shell.execute_reply": "2022-02-13T21:48:26.169860Z"
    }
   },
   "outputs": [],
   "source": [
    "OnePiece.extension.dict.view(OnePiece.extension.dict.read(js))"
   ]
  },
  {
   "cell_type": "markdown",
   "id": "3f396855",
   "metadata": {},
   "source": [
    "---"
   ]
  },
  {
   "cell_type": "code",
   "execution_count": null,
   "id": "b4af2023",
   "metadata": {
    "execution": {
     "iopub.execute_input": "2022-02-13T21:48:26.172263Z",
     "iopub.status.busy": "2022-02-13T21:48:26.171606Z",
     "iopub.status.idle": "2022-02-13T21:48:26.173884Z",
     "shell.execute_reply": "2022-02-13T21:48:26.173509Z"
    }
   },
   "outputs": [],
   "source": [
    "if isdir(TE)\n",
    "\n",
    "    rm(TE, recursive = true)\n",
    "\n",
    "    println(\"Removed \", TE, \".\")\n",
    "\n",
    "end"
   ]
  }
 ],
 "metadata": {
  "kernelspec": {
   "display_name": "Julia 1.7.2",
   "language": "julia",
   "name": "julia-1.7"
  },
  "language_info": {
   "file_extension": ".jl",
   "mimetype": "application/julia",
   "name": "julia",
   "version": "1.7.2"
  }
 },
 "nbformat": 4,
 "nbformat_minor": 5
}
