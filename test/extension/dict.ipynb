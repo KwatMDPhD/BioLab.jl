{
 "cells": [
  {
   "cell_type": "code",
   "execution_count": 1,
   "id": "34e4701e",
   "metadata": {
    "execution": {
     "iopub.execute_input": "2022-02-09T00:00:55.214544Z",
     "iopub.status.busy": "2022-02-09T00:00:54.823682Z",
     "iopub.status.idle": "2022-02-09T00:00:56.234170Z",
     "shell.execute_reply": "2022-02-09T00:00:56.233562Z"
    }
   },
   "outputs": [],
   "source": [
    "using Revise\n",
    "using BenchmarkTools"
   ]
  },
  {
   "cell_type": "code",
   "execution_count": 2,
   "id": "570e4b37",
   "metadata": {
    "execution": {
     "iopub.execute_input": "2022-02-09T00:00:56.237006Z",
     "iopub.status.busy": "2022-02-09T00:00:56.236219Z",
     "iopub.status.idle": "2022-02-09T00:01:07.326298Z",
     "shell.execute_reply": "2022-02-09T00:01:07.325752Z"
    }
   },
   "outputs": [
    {
     "data": {
      "application/vnd.webio.node+json": {
       "children": [],
       "instanceArgs": {
        "namespace": "html",
        "tag": "div"
       },
       "nodeType": "DOM",
       "props": {},
       "type": "node"
      },
      "text/html": [
       "<div style=\"padding: 1em; background-color: #f8d6da; border: 1px solid #f5c6cb; font-weight: bold;\">\n",
       "<p>The WebIO Jupyter extension was not detected. See the\n",
       "<a href=\"https://juliagizmos.github.io/WebIO.jl/latest/providers/ijulia/\" target=\"_blank\">\n",
       "    WebIO Jupyter integration documentation\n",
       "</a>\n",
       "for more information.\n",
       "</div>\n"
      ],
      "text/plain": [
       "WebIO._IJuliaInit()"
      ]
     },
     "metadata": {},
     "output_type": "display_data"
    }
   ],
   "source": [
    "using OnePiece"
   ]
  },
  {
   "cell_type": "markdown",
   "id": "7c7a0328",
   "metadata": {
    "execution": {
     "iopub.execute_input": "2022-02-07T19:53:17.109487Z",
     "iopub.status.busy": "2022-02-07T19:53:15.519011Z",
     "iopub.status.idle": "2022-02-07T19:53:17.994090Z",
     "shell.execute_reply": "2022-02-07T19:53:17.993635Z"
    }
   },
   "source": [
    "## view"
   ]
  },
  {
   "cell_type": "code",
   "execution_count": 3,
   "id": "8f9fe131",
   "metadata": {
    "execution": {
     "iopub.execute_input": "2022-02-09T00:01:09.051476Z",
     "iopub.status.busy": "2022-02-09T00:01:07.327962Z",
     "iopub.status.idle": "2022-02-09T00:01:09.828019Z",
     "shell.execute_reply": "2022-02-09T00:01:09.827483Z"
    }
   },
   "outputs": [
    {
     "name": "stdout",
     "output_type": "stream",
     "text": [
      "{}\n"
     ]
    }
   ],
   "source": [
    "OnePiece.extension.dict.view(Dict())"
   ]
  },
  {
   "cell_type": "markdown",
   "id": "e6d28421",
   "metadata": {},
   "source": [
    "## summarize"
   ]
  },
  {
   "cell_type": "code",
   "execution_count": 4,
   "id": "324e0b15",
   "metadata": {
    "execution": {
     "iopub.execute_input": "2022-02-09T00:01:09.830097Z",
     "iopub.status.busy": "2022-02-09T00:01:09.829468Z",
     "iopub.status.idle": "2022-02-09T00:01:10.467843Z",
     "shell.execute_reply": "2022-02-09T00:01:10.467404Z"
    }
   },
   "outputs": [
    {
     "name": "stdout",
     "output_type": "stream",
     "text": [
      "6 keys and 4 unique values\n",
      "5 => nothing\n",
      "4 => nothing\n",
      "6 => NaN\n",
      "...\n"
     ]
    }
   ],
   "source": [
    "OnePiece.extension.dict.summarize(\n",
    "    Dict(1 => \"a\", 2 => \"a\", 3 => \"b\", 4 => nothing, 5 => nothing, 6 => NaN),\n",
    ")"
   ]
  },
  {
   "cell_type": "markdown",
   "id": "d82a2d5c",
   "metadata": {},
   "source": [
    "## sort_recursively!"
   ]
  },
  {
   "cell_type": "code",
   "execution_count": 5,
   "id": "d7558561",
   "metadata": {
    "execution": {
     "iopub.execute_input": "2022-02-09T00:01:10.469955Z",
     "iopub.status.busy": "2022-02-09T00:01:10.469316Z",
     "iopub.status.idle": "2022-02-09T00:01:12.031007Z",
     "shell.execute_reply": "2022-02-09T00:01:12.030429Z"
    }
   },
   "outputs": [
    {
     "name": "stdout",
     "output_type": "stream",
     "text": [
      "{\n",
      "   \"w\": [\n",
      "      {\n",
      "         \"j\": 24,\n",
      "         \"k\": 8\n",
      "      },\n",
      "      {\n",
      "         \"la\": 3,\n",
      "         \"lo\": 1\n",
      "      }\n",
      "   ],\n",
      "   \"x\": [\n",
      "      3,\n",
      "      2,\n",
      "      1,\n",
      "      {\n",
      "         \"lu\": 1,\n",
      "         \"zo\": 2\n",
      "      }\n",
      "   ],\n",
      "   \"y\": {},\n",
      "   \"z\": {\n",
      "      \"a\": 3,\n",
      "      \"b\": 2,\n",
      "      \"c\": 1\n",
      "   }\n",
      "}\n"
     ]
    }
   ],
   "source": [
    "di = Dict(\n",
    "    \"z\" => Dict(\"c\" => 1, \"b\" => 2, \"a\" => 3),\n",
    "    \"y\" => Dict(),\n",
    "    \"x\" => [3, 2, 1, Dict(\"zo\" => 2, \"lu\" => 1)],\n",
    "    \"w\" => [Dict(\"k\" => 8, \"j\" => 24), Dict(\"lo\" => 1, \"la\" => 3)],\n",
    ")\n",
    "\n",
    "OnePiece.extension.dict.view(OnePiece.extension.dict.sort_recursively!(di))"
   ]
  },
  {
   "cell_type": "markdown",
   "id": "2988a98a-d859-491b-83bd-0880462f2fcd",
   "metadata": {},
   "source": [
    "## merge"
   ]
  },
  {
   "cell_type": "code",
   "execution_count": 6,
   "id": "75e1e24e",
   "metadata": {
    "execution": {
     "iopub.execute_input": "2022-02-09T00:01:12.033250Z",
     "iopub.status.busy": "2022-02-09T00:01:12.032626Z",
     "iopub.status.idle": "2022-02-09T00:01:12.081332Z",
     "shell.execute_reply": "2022-02-09T00:01:12.080893Z"
    }
   },
   "outputs": [],
   "source": [
    "di1 = Dict(\"1A\" => 1, \"B\" => Dict(\"C\" => 1, \"1D\" => 1))\n",
    "\n",
    "di2 = Dict(\"2A\" => 2, \"B\" => Dict(\"C\" => 2, \"2D\" => 2))\n",
    "\n",
    ";"
   ]
  },
  {
   "cell_type": "code",
   "execution_count": 7,
   "id": "62f999fc",
   "metadata": {
    "execution": {
     "iopub.execute_input": "2022-02-09T00:01:12.083221Z",
     "iopub.status.busy": "2022-02-09T00:01:12.082737Z",
     "iopub.status.idle": "2022-02-09T00:01:12.241202Z",
     "shell.execute_reply": "2022-02-09T00:01:12.240616Z"
    }
   },
   "outputs": [
    {
     "name": "stdout",
     "output_type": "stream",
     "text": [
      "C => (1) 2\n",
      "{\n",
      "   \"1A\": 1,\n",
      "   \"B\": {\n",
      "      \"1D\": 1,\n",
      "      \"C\": 2,\n",
      "      \"2D\": 2\n",
      "   },\n",
      "   \"2A\": 2\n",
      "}\n"
     ]
    }
   ],
   "source": [
    "OnePiece.extension.dict.view(OnePiece.extension.dict.merge(di1, di2))"
   ]
  },
  {
   "cell_type": "code",
   "execution_count": 8,
   "id": "273f0476",
   "metadata": {
    "execution": {
     "iopub.execute_input": "2022-02-09T00:01:12.243108Z",
     "iopub.status.busy": "2022-02-09T00:01:12.242533Z",
     "iopub.status.idle": "2022-02-09T00:01:12.257830Z",
     "shell.execute_reply": "2022-02-09T00:01:12.257381Z"
    }
   },
   "outputs": [
    {
     "name": "stdout",
     "output_type": "stream",
     "text": [
      "C => (2) 1\n",
      "{\n",
      "   \"1A\": 1,\n",
      "   \"B\": {\n",
      "      \"1D\": 1,\n",
      "      \"C\": 1,\n",
      "      \"2D\": 2\n",
      "   },\n",
      "   \"2A\": 2\n",
      "}\n"
     ]
    }
   ],
   "source": [
    "OnePiece.extension.dict.view(OnePiece.extension.dict.merge(di2, di1))"
   ]
  },
  {
   "cell_type": "markdown",
   "id": "c563b07c",
   "metadata": {},
   "source": [
    "## symbolize_key"
   ]
  },
  {
   "cell_type": "code",
   "execution_count": 9,
   "id": "0e07e4f6",
   "metadata": {
    "execution": {
     "iopub.execute_input": "2022-02-09T00:01:12.259885Z",
     "iopub.status.busy": "2022-02-09T00:01:12.259240Z",
     "iopub.status.idle": "2022-02-09T00:01:13.456159Z",
     "shell.execute_reply": "2022-02-09T00:01:13.455648Z"
    }
   },
   "outputs": [
    {
     "data": {
      "text/plain": [
       "Dict{Symbol, Real} with 2 entries:\n",
       "  :a => 1\n",
       "  :b => 2.0"
      ]
     },
     "execution_count": 9,
     "metadata": {},
     "output_type": "execute_result"
    }
   ],
   "source": [
    "OnePiece.extension.dict.symbolize_key(Dict(\"a\" => 1, \"b\" => 2.0))"
   ]
  },
  {
   "cell_type": "markdown",
   "id": "87773501",
   "metadata": {},
   "source": [
    "## read"
   ]
  },
  {
   "cell_type": "code",
   "execution_count": 10,
   "id": "2acca60f",
   "metadata": {
    "execution": {
     "iopub.execute_input": "2022-02-09T00:01:13.457853Z",
     "iopub.status.busy": "2022-02-09T00:01:13.457333Z",
     "iopub.status.idle": "2022-02-09T00:01:13.470201Z",
     "shell.execute_reply": "2022-02-09T00:01:13.469641Z"
    }
   },
   "outputs": [],
   "source": [
    "da = \"dict.data\"\n",
    "\n",
    ";"
   ]
  },
  {
   "cell_type": "code",
   "execution_count": 11,
   "id": "d4687e26",
   "metadata": {
    "execution": {
     "iopub.execute_input": "2022-02-09T00:01:13.472131Z",
     "iopub.status.busy": "2022-02-09T00:01:13.471530Z",
     "iopub.status.idle": "2022-02-09T00:01:13.536567Z",
     "shell.execute_reply": "2022-02-09T00:01:13.536014Z"
    }
   },
   "outputs": [
    {
     "name": "stdout",
     "output_type": "stream",
     "text": [
      "{\n",
      "   \"fruit\": \"Apple\",\n",
      "   \"color\": \"Red\",\n",
      "   \"size\": \"Large\"\n",
      "}\n"
     ]
    }
   ],
   "source": [
    "OnePiece.extension.dict.view(OnePiece.extension.dict.read(joinpath(da, \"example_1.json\")))"
   ]
  },
  {
   "cell_type": "code",
   "execution_count": 12,
   "id": "b2f113ef",
   "metadata": {
    "execution": {
     "iopub.execute_input": "2022-02-09T00:01:13.538614Z",
     "iopub.status.busy": "2022-02-09T00:01:13.538125Z",
     "iopub.status.idle": "2022-02-09T00:01:13.581756Z",
     "shell.execute_reply": "2022-02-09T00:01:13.581342Z"
    }
   },
   "outputs": [
    {
     "name": "stdout",
     "output_type": "stream",
     "text": [
      "{\n",
      "   \"quiz\": {\n",
      "      \"sport\": {\n",
      "         \"q1\": {\n",
      "            \"options\": [\n",
      "               \"New York Bulls\",\n",
      "               \"Los Angeles Kings\",\n",
      "               \"Golden State Warriros\",\n",
      "               \"Huston Rocket\"\n",
      "            ],\n",
      "            \"question\": \"Which one is correct team name in NBA?\",\n",
      "            \"answer\": \"Huston Rocket\"\n",
      "         }\n",
      "      },\n",
      "      \"maths\": {\n",
      "         \"q1\": {\n",
      "            \"options\": [\n",
      "               \"10\",\n",
      "               \"11\",\n",
      "               \"12\",\n",
      "               \"13\"\n",
      "            ],\n",
      "            \"question\": \"5 + 7 = ?\",\n",
      "            \"answer\": \"12\"\n",
      "         },\n",
      "         \"q2\": {\n",
      "            \"options\": [\n",
      "               \"1\",\n",
      "               \"2\",\n",
      "               \"3\",\n",
      "               \"4\"\n",
      "            ],\n",
      "            \"question\": \"12 - 8 = ?\",\n",
      "            \"answer\": \"4\"\n",
      "         }\n",
      "      }\n",
      "   }\n",
      "}\n"
     ]
    }
   ],
   "source": [
    "OnePiece.extension.dict.view(OnePiece.extension.dict.read(joinpath(da, \"example_2.json\")))"
   ]
  },
  {
   "cell_type": "code",
   "execution_count": 13,
   "id": "e40557eb",
   "metadata": {
    "execution": {
     "iopub.execute_input": "2022-02-09T00:01:13.583503Z",
     "iopub.status.busy": "2022-02-09T00:01:13.582960Z",
     "iopub.status.idle": "2022-02-09T00:01:13.715977Z",
     "shell.execute_reply": "2022-02-09T00:01:13.715479Z"
    }
   },
   "outputs": [
    {
     "name": "stdout",
     "output_type": "stream",
     "text": [
      "{\n",
      "   \"servers\": {\n",
      "      \"alpha\": {\n",
      "         \"dc\": \"eqdc10\",\n",
      "         \"ip\": \"10.0.0.1\"\n",
      "      },\n",
      "      \"beta\": {\n",
      "         \"dc\": \"eqdc10\",\n",
      "         \"ip\": \"10.0.0.2\"\n",
      "      }\n",
      "   },\n",
      "   \"clients\": {\n",
      "      \"hosts\": [\n",
      "         \"alpha\",\n",
      "         \"omega\"\n",
      "      ],\n",
      "      \"data\": [\n",
      "         [\n",
      "            \"gamma\",\n",
      "            \"delta\"\n",
      "         ],\n",
      "         [\n",
      "            1,\n",
      "            2\n",
      "         ]\n",
      "      ]\n",
      "   },\n",
      "   \"owner\": {\n",
      "      \"name\": \"Tom Preston-Werner\"\n",
      "   },\n",
      "   \"title\": \"TOML Example\",\n",
      "   \"database\": {\n",
      "      \"server\": \"192.168.1.1\",\n",
      "      \"connection_max\": 5000,\n",
      "      \"ports\": [\n",
      "         8000,\n",
      "         8001,\n",
      "         8002\n",
      "      ],\n",
      "      \"enabled\": true\n",
      "   }\n",
      "}\n"
     ]
    }
   ],
   "source": [
    "OnePiece.extension.dict.view(OnePiece.extension.dict.read(joinpath(da, \"example.toml\")))"
   ]
  },
  {
   "cell_type": "code",
   "execution_count": 14,
   "id": "094c91bd",
   "metadata": {
    "execution": {
     "iopub.execute_input": "2022-02-09T00:01:13.717897Z",
     "iopub.status.busy": "2022-02-09T00:01:13.717279Z",
     "iopub.status.idle": "2022-02-09T00:01:14.018146Z",
     "shell.execute_reply": "2022-02-09T00:01:14.017582Z"
    }
   },
   "outputs": [
    {
     "name": "stdout",
     "output_type": "stream",
     "text": [
      "{\n",
      "   \"cells\": [\n",
      "      {\n",
      "         \"outputs\": [],\n",
      "         \"cell_type\": \"code\",\n",
      "         \"source\": [\n",
      "            \"using Revise\\n\",\n",
      "            \"using BenchmarkTools\"\n",
      "         ],\n",
      "         \"id\": \"34e4701e\",\n",
      "         \"metadata\": {\n",
      "            \"execution\": {\n",
      "               \"iopub.status.idle\": \"2022-02-08T11:26:41.487799Z\",\n",
      "               \"iopub.status.busy\": \"2022-02-08T11:26:40.296525Z\",\n",
      "               \"iopub.execute_input\": \"2022-02-08T11:26:40.681879Z\",\n",
      "               \"shell.execute_reply\": \"2022-02-08T11:26:41.487308Z\"\n",
      "            }\n",
      "         },\n",
      "         \"execution_count\": null\n",
      "      },\n",
      "      {\n",
      "         \"outputs\": [],\n",
      "         \"cell_type\": \"code\",\n",
      "         \"source\": [\n",
      "            \"using OnePiece\"\n",
      "         ],\n",
      "         \"id\": \"570e4b37\",\n",
      "         \"metadata\": {\n",
      "            \"execution\": {\n",
      "               \"iopub.status.idle\": \"2022-02-08T11:26:52.534408Z\",\n",
      "               \"iopub.status.busy\": \"2022-02-08T11:26:41.489121Z\",\n",
      "               \"iopub.execute_input\": \"2022-02-08T11:26:41.489645Z\",\n",
      "               \"shell.execute_reply\": \"2022-02-08T11:26:52.533835Z\"\n",
      "            }\n",
      "         },\n",
      "         \"execution_count\": null\n",
      "      },\n",
      "      {\n",
      "         \"cell_type\": \"markdown\",\n",
      "         \"source\": [\n",
      "            \"## view\"\n",
      "         ],\n",
      "         \"id\": \"7c7a0328\",\n",
      "         \"metadata\": {\n",
      "            \"execution\": {\n",
      "               \"iopub.status.idle\": \"2022-02-07T19:53:17.994090Z\",\n",
      "               \"iopub.status.busy\": \"2022-02-07T19:53:15.519011Z\",\n",
      "               \"iopub.execute_input\": \"2022-02-07T19:53:17.109487Z\",\n",
      "               \"shell.execute_reply\": \"2022-02-07T19:53:17.993635Z\"\n",
      "            }\n",
      "         }\n",
      "      },\n",
      "      {\n",
      "         \"outputs\": [],\n",
      "         \"cell_type\": \"code\",\n",
      "         \"source\": [\n",
      "            \"OnePiece.extension.dict.view(Dict())\"\n",
      "         ],\n",
      "         \"id\": \"8f9fe131\",\n",
      "         \"metadata\": {\n",
      "            \"execution\": {\n",
      "               \"iopub.status.idle\": \"2022-02-08T11:26:54.926238Z\",\n",
      "               \"iopub.status.busy\": \"2022-02-08T11:26:52.535961Z\",\n",
      "               \"iopub.execute_input\": \"2022-02-08T11:26:54.230459Z\",\n",
      "               \"shell.execute_reply\": \"2022-02-08T11:26:54.925411Z\"\n",
      "            }\n",
      "         },\n",
      "         \"execution_count\": null\n",
      "      },\n",
      "      {\n",
      "         \"cell_type\": \"markdown\",\n",
      "         \"source\": [\n",
      "            \"## summarize\"\n",
      "         ],\n",
      "         \"id\": \"e6d28421\",\n",
      "         \"metadata\": {}\n",
      "      },\n",
      "      {\n",
      "         \"outputs\": [],\n",
      "         \"cell_type\": \"code\",\n",
      "         \"source\": [\n",
      "            \"OnePiece.extension.dict.summarize(\\n\",\n",
      "            \"    Dict(1 => \\\"a\\\", 2 => \\\"a\\\", 3 => \\\"b\\\", 4 => nothing, 5 => nothing, 6 => NaN),\\n\",\n",
      "            \")\"\n",
      "         ],\n",
      "         \"id\": \"324e0b15\",\n",
      "         \"metadata\": {\n",
      "            \"execution\": {\n",
      "               \"iopub.status.idle\": \"2022-02-08T11:26:55.526516Z\",\n",
      "               \"iopub.status.busy\": \"2022-02-08T11:26:54.927946Z\",\n",
      "               \"iopub.execute_input\": \"2022-02-08T11:26:54.928560Z\",\n",
      "               \"shell.execute_reply\": \"2022-02-08T11:26:55.526145Z\"\n",
      "            }\n",
      "         },\n",
      "         \"execution_count\": null\n",
      "      },\n",
      "      {\n",
      "         \"cell_type\": \"markdown\",\n",
      "         \"source\": [\n",
      "            \"## sort_recursively!\"\n",
      "         ],\n",
      "         \"id\": \"d82a2d5c\",\n",
      "         \"metadata\": {}\n",
      "      },\n",
      "      {\n",
      "         \"outputs\": [],\n",
      "         \"cell_type\": \"code\",\n",
      "         \"source\": [\n",
      "            \"di = Dict(\\n\",\n",
      "            \"    \\\"z\\\" => Dict(\\\"c\\\" => 1, \\\"b\\\" => 2, \\\"a\\\" => 3),\\n\",\n",
      "            \"    \\\"y\\\" => Dict(),\\n\",\n",
      "            \"    \\\"x\\\" => [3, 2, 1, Dict(\\\"zo\\\" => 2, \\\"lu\\\" => 1)],\\n\",\n",
      "            \"    \\\"w\\\" => [Dict(\\\"k\\\" => 8, \\\"j\\\" => 24), Dict(\\\"lo\\\" => 1, \\\"la\\\" => 3)],\\n\",\n",
      "            \")\\n\",\n",
      "            \"\\n\",\n",
      "            \"OnePiece.extension.dict.view(OnePiece.extension.dict.sort_recursively!(di))\"\n",
      "         ],\n",
      "         \"id\": \"d7558561\",\n",
      "         \"metadata\": {\n",
      "            \"execution\": {\n",
      "               \"iopub.status.idle\": \"2022-02-08T11:26:56.954775Z\",\n",
      "               \"iopub.status.busy\": \"2022-02-08T11:26:55.527871Z\",\n",
      "               \"iopub.execute_input\": \"2022-02-08T11:26:55.528478Z\",\n",
      "               \"shell.execute_reply\": \"2022-02-08T11:26:56.954382Z\"\n",
      "            }\n",
      "         },\n",
      "         \"execution_count\": null\n",
      "      },\n",
      "      {\n",
      "         \"cell_type\": \"markdown\",\n",
      "         \"source\": [\n",
      "            \"## merge\"\n",
      "         ],\n",
      "         \"id\": \"2988a98a-d859-491b-83bd-0880462f2fcd\",\n",
      "         \"metadata\": {}\n",
      "      },\n",
      "      {\n",
      "         \"outputs\": [],\n",
      "         \"cell_type\": \"code\",\n",
      "         \"source\": [\n",
      "            \"di1 = Dict(\\\"1A\\\" => 1, \\\"B\\\" => Dict(\\\"C\\\" => 1, \\\"1D\\\" => 1))\\n\",\n",
      "            \"\\n\",\n",
      "            \"di2 = Dict(\\\"2A\\\" => 2, \\\"B\\\" => Dict(\\\"C\\\" => 2, \\\"2D\\\" => 2))\\n\",\n",
      "            \"\\n\",\n",
      "            \";\"\n",
      "         ],\n",
      "         \"id\": \"75e1e24e\",\n",
      "         \"metadata\": {\n",
      "            \"execution\": {\n",
      "               \"iopub.status.idle\": \"2022-02-08T11:26:57.016208Z\",\n",
      "               \"iopub.status.busy\": \"2022-02-08T11:26:56.956426Z\",\n",
      "               \"iopub.execute_input\": \"2022-02-08T11:26:56.956902Z\",\n",
      "               \"shell.execute_reply\": \"2022-02-08T11:26:57.015698Z\"\n",
      "            }\n",
      "         },\n",
      "         \"execution_count\": null\n",
      "      },\n",
      "      {\n",
      "         \"outputs\": [],\n",
      "         \"cell_type\": \"code\",\n",
      "         \"source\": [\n",
      "            \"OnePiece.extension.dict.view(OnePiece.extension.dict.merge(di1, di2))\"\n",
      "         ],\n",
      "         \"id\": \"62f999fc\",\n",
      "         \"metadata\": {\n",
      "            \"execution\": {\n",
      "               \"iopub.status.idle\": \"2022-02-08T11:26:57.170109Z\",\n",
      "               \"iopub.status.busy\": \"2022-02-08T11:26:57.017480Z\",\n",
      "               \"iopub.execute_input\": \"2022-02-08T11:26:57.018047Z\",\n",
      "               \"shell.execute_reply\": \"2022-02-08T11:26:57.169645Z\"\n",
      "            }\n",
      "         },\n",
      "         \"execution_count\": null\n",
      "      },\n",
      "      {\n",
      "         \"outputs\": [],\n",
      "         \"cell_type\": \"code\",\n",
      "         \"source\": [\n",
      "            \"OnePiece.extension.dict.view(OnePiece.extension.dict.merge(di2, di1))\"\n",
      "         ],\n",
      "         \"id\": \"273f0476\",\n",
      "         \"metadata\": {\n",
      "            \"execution\": {\n",
      "               \"iopub.status.idle\": \"2022-02-08T11:26:57.187221Z\",\n",
      "               \"iopub.status.busy\": \"2022-02-08T11:26:57.171447Z\",\n",
      "               \"iopub.execute_input\": \"2022-02-08T11:26:57.172019Z\",\n",
      "               \"shell.execute_reply\": \"2022-02-08T11:26:57.186809Z\"\n",
      "            }\n",
      "         },\n",
      "         \"execution_count\": null\n",
      "      },\n",
      "      {\n",
      "         \"cell_type\": \"markdown\",\n",
      "         \"source\": [\n",
      "            \"## symbolize_key\"\n",
      "         ],\n",
      "         \"id\": \"c563b07c\",\n",
      "         \"metadata\": {}\n",
      "      },\n",
      "      {\n",
      "         \"outputs\": [],\n",
      "         \"cell_type\": \"code\",\n",
      "         \"source\": [\n",
      "            \"OnePiece.extension.dict.symbolize_key(Dict(\\\"a\\\" => 1, \\\"b\\\" => 2.0))\"\n",
      "         ],\n",
      "         \"id\": \"0e07e4f6\",\n",
      "         \"metadata\": {\n",
      "            \"execution\": {\n",
      "               \"iopub.status.idle\": \"2022-02-08T11:26:58.523032Z\",\n",
      "               \"iopub.status.busy\": \"2022-02-08T11:26:57.188636Z\",\n",
      "               \"iopub.execute_input\": \"2022-02-08T11:26:57.189355Z\",\n",
      "               \"shell.execute_reply\": \"2022-02-08T11:26:58.522640Z\"\n",
      "            }\n",
      "         },\n",
      "         \"execution_count\": null\n",
      "      },\n",
      "      {\n",
      "         \"cell_type\": \"markdown\",\n",
      "         \"source\": [\n",
      "            \"## read\"\n",
      "         ],\n",
      "         \"id\": \"87773501\",\n",
      "         \"metadata\": {}\n",
      "      },\n",
      "      {\n",
      "         \"outputs\": [],\n",
      "         \"cell_type\": \"code\",\n",
      "         \"source\": [\n",
      "            \"da = \\\"dict.data\\\"\\n\",\n",
      "            \"\\n\",\n",
      "            \";\"\n",
      "         ],\n",
      "         \"id\": \"2acca60f\",\n",
      "         \"metadata\": {\n",
      "            \"execution\": {\n",
      "               \"iopub.status.idle\": \"2022-02-08T11:26:58.537013Z\",\n",
      "               \"iopub.status.busy\": \"2022-02-08T11:26:58.524509Z\",\n",
      "               \"iopub.execute_input\": \"2022-02-08T11:26:58.525019Z\",\n",
      "               \"shell.execute_reply\": \"2022-02-08T11:26:58.536528Z\"\n",
      "            }\n",
      "         },\n",
      "         \"execution_count\": null\n",
      "      },\n",
      "      {\n",
      "         \"outputs\": [],\n",
      "         \"cell_type\": \"code\",\n",
      "         \"source\": [\n",
      "            \"OnePiece.extension.dict.view(OnePiece.extension.dict.read(joinpath(da, \\\"example_1.json\\\")))\"\n",
      "         ],\n",
      "         \"id\": \"d4687e26\",\n",
      "         \"metadata\": {\n",
      "            \"execution\": {\n",
      "               \"iopub.status.idle\": \"2022-02-08T11:26:58.600828Z\",\n",
      "               \"iopub.status.busy\": \"2022-02-08T11:26:58.538332Z\",\n",
      "               \"iopub.execute_input\": \"2022-02-08T11:26:58.538898Z\",\n",
      "               \"shell.execute_reply\": \"2022-02-08T11:26:58.600479Z\"\n",
      "            }\n",
      "         },\n",
      "         \"execution_count\": null\n",
      "      },\n",
      "      {\n",
      "         \"outputs\": [],\n",
      "         \"cell_type\": \"code\",\n",
      "         \"source\": [\n",
      "            \"OnePiece.extension.dict.view(OnePiece.extension.dict.read(joinpath(da, \\\"example_2.json\\\")))\"\n",
      "         ],\n",
      "         \"id\": \"b2f113ef\",\n",
      "         \"metadata\": {\n",
      "            \"execution\": {\n",
      "               \"iopub.status.idle\": \"2022-02-08T11:26:58.644068Z\",\n",
      "               \"iopub.status.busy\": \"2022-02-08T11:26:58.602118Z\",\n",
      "               \"iopub.execute_input\": \"2022-02-08T11:26:58.602665Z\",\n",
      "               \"shell.execute_reply\": \"2022-02-08T11:26:58.643649Z\"\n",
      "            }\n",
      "         },\n",
      "         \"execution_count\": null\n",
      "      },\n",
      "      {\n",
      "         \"outputs\": [],\n",
      "         \"cell_type\": \"code\",\n",
      "         \"source\": [\n",
      "            \"OnePiece.extension.dict.view(OnePiece.extension.dict.read(joinpath(da, \\\"example.toml\\\")))\"\n",
      "         ],\n",
      "         \"id\": \"e40557eb\",\n",
      "         \"metadata\": {\n",
      "            \"execution\": {\n",
      "               \"iopub.status.idle\": \"2022-02-08T11:26:58.799027Z\",\n",
      "               \"iopub.status.busy\": \"2022-02-08T11:26:58.645352Z\",\n",
      "               \"iopub.execute_input\": \"2022-02-08T11:26:58.645972Z\",\n",
      "               \"shell.execute_reply\": \"2022-02-08T11:26:58.798660Z\"\n",
      "            }\n",
      "         },\n",
      "         \"execution_count\": null\n",
      "      },\n",
      "      {\n",
      "         \"outputs\": [],\n",
      "         \"cell_type\": \"code\",\n",
      "         \"source\": [\n",
      "            \"OnePiece.extension.dict.view(OnePiece.extension.dict.read(joinpath(@__DIR__, \\\"dict.ipynb\\\")))\"\n",
      "         ],\n",
      "         \"id\": \"094c91bd\",\n",
      "         \"metadata\": {\n",
      "            \"execution\": {\n",
      "               \"iopub.status.idle\": \"2022-02-08T11:26:59.083566Z\",\n",
      "               \"iopub.status.busy\": \"2022-02-08T11:26:58.800531Z\",\n",
      "               \"iopub.execute_input\": \"2022-02-08T11:26:58.801051Z\",\n",
      "               \"shell.execute_reply\": \"2022-02-08T11:26:59.083109Z\"\n",
      "            }\n",
      "         },\n",
      "         \"execution_count\": null\n",
      "      },\n",
      "      {\n",
      "         \"cell_type\": \"markdown\",\n",
      "         \"source\": [\n",
      "            \"## write\"\n",
      "         ],\n",
      "         \"id\": \"7ac005d4\",\n",
      "         \"metadata\": {}\n",
      "      },\n",
      "      {\n",
      "         \"outputs\": [],\n",
      "         \"cell_type\": \"code\",\n",
      "         \"source\": [\n",
      "            \"js = joinpath(tempdir(), \\\"write.json\\\")\\n\",\n",
      "            \"\\n\",\n",
      "            \"di = Dict(\\n\",\n",
      "            \"    \\\"Luffy\\\" => \\\"Pirate King\\\",\\n\",\n",
      "            \"    \\\"Crews\\\" => [\\n\",\n",
      "            \"        \\\"Luffy\\\",\\n\",\n",
      "            \"        \\\"Zoro\\\",\\n\",\n",
      "            \"        \\\"Nami\\\",\\n\",\n",
      "            \"        \\\"Usopp\\\",\\n\",\n",
      "            \"        \\\"Sanji\\\",\\n\",\n",
      "            \"        \\\"Chopper\\\",\\n\",\n",
      "            \"        \\\"Robin\\\",\\n\",\n",
      "            \"        \\\"Franky\\\",\\n\",\n",
      "            \"        \\\"Brook\\\",\\n\",\n",
      "            \"        \\\"Jinbe\\\",\\n\",\n",
      "            \"    ],\\n\",\n",
      "            \"    \\\"episode\\\" => 1030,\\n\",\n",
      "            \")\\n\",\n",
      "            \"\\n\",\n",
      "            \";\"\n",
      "         ],\n",
      "         \"id\": \"d61cce24\",\n",
      "         \"metadata\": {\n",
      "            \"execution\": {\n",
      "               \"iopub.status.idle\": \"2022-02-08T11:26:59.140128Z\",\n",
      "               \"iopub.status.busy\": \"2022-02-08T11:26:59.085385Z\",\n",
      "               \"iopub.execute_input\": \"2022-02-08T11:26:59.086274Z\",\n",
      "               \"shell.execute_reply\": \"2022-02-08T11:26:59.139502Z\"\n",
      "            }\n",
      "         },\n",
      "         \"execution_count\": null\n",
      "      },\n",
      "      {\n",
      "         \"outputs\": [],\n",
      "         \"cell_type\": \"code\",\n",
      "         \"source\": [\n",
      "            \"OnePiece.extension.dict.write(js, di)\"\n",
      "         ],\n",
      "         \"id\": \"8402bcbe\",\n",
      "         \"metadata\": {\n",
      "            \"execution\": {\n",
      "               \"iopub.status.idle\": \"2022-02-08T11:26:59.250668Z\",\n",
      "               \"iopub.status.busy\": \"2022-02-08T11:26:59.141396Z\",\n",
      "               \"iopub.execute_input\": \"2022-02-08T11:26:59.141996Z\",\n",
      "               \"shell.execute_reply\": \"2022-02-08T11:26:59.250294Z\"\n",
      "            }\n",
      "         },\n",
      "         \"execution_count\": null\n",
      "      },\n",
      "      {\n",
      "         \"outputs\": [],\n",
      "         \"cell_type\": \"code\",\n",
      "         \"source\": [\n",
      "            \"OnePiece.extension.dict.view(OnePiece.extension.dict.read(js))\"\n",
      "         ],\n",
      "         \"id\": \"83445e66\",\n",
      "         \"metadata\": {\n",
      "            \"execution\": {\n",
      "               \"iopub.status.idle\": \"2022-02-08T11:26:59.271771Z\",\n",
      "               \"iopub.status.busy\": \"2022-02-08T11:26:59.252087Z\",\n",
      "               \"iopub.execute_input\": \"2022-02-08T11:26:59.252679Z\",\n",
      "               \"shell.execute_reply\": \"2022-02-08T11:26:59.271287Z\"\n",
      "            }\n",
      "         },\n",
      "         \"execution_count\": null\n",
      "      }\n",
      "   ],\n",
      "   \"nbformat_minor\": 5,\n",
      "   \"metadata\": {\n",
      "      \"language_info\": {\n",
      "         \"file_extension\": \".jl\",\n",
      "         \"mimetype\": \"application/julia\",\n",
      "         \"name\": \"julia\",\n",
      "         \"version\": \"1.7.1\"\n",
      "      },\n",
      "      \"@webio\": {\n",
      "         \"lastKernelId\": null,\n",
      "         \"lastCommId\": null\n",
      "      },\n",
      "      \"kernelspec\": {\n",
      "         \"name\": \"julia-1.7\",\n",
      "         \"display_name\": \"Julia 1.7.1\",\n",
      "         \"language\": \"julia\"\n",
      "      }\n",
      "   },\n",
      "   \"nbformat\": 4\n",
      "}\n"
     ]
    }
   ],
   "source": [
    "OnePiece.extension.dict.view(OnePiece.extension.dict.read(joinpath(@__DIR__, \"dict.ipynb\")))"
   ]
  },
  {
   "cell_type": "markdown",
   "id": "7ac005d4",
   "metadata": {},
   "source": [
    "## write"
   ]
  },
  {
   "cell_type": "code",
   "execution_count": 15,
   "id": "d61cce24",
   "metadata": {
    "execution": {
     "iopub.execute_input": "2022-02-09T00:01:14.020284Z",
     "iopub.status.busy": "2022-02-09T00:01:14.019715Z",
     "iopub.status.idle": "2022-02-09T00:01:14.079082Z",
     "shell.execute_reply": "2022-02-09T00:01:14.078545Z"
    }
   },
   "outputs": [],
   "source": [
    "js = joinpath(tempdir(), \"write.json\")\n",
    "\n",
    "di = Dict(\n",
    "    \"Luffy\" => \"Pirate King\",\n",
    "    \"Crews\" => [\n",
    "        \"Luffy\",\n",
    "        \"Zoro\",\n",
    "        \"Nami\",\n",
    "        \"Usopp\",\n",
    "        \"Sanji\",\n",
    "        \"Chopper\",\n",
    "        \"Robin\",\n",
    "        \"Franky\",\n",
    "        \"Brook\",\n",
    "        \"Jinbe\",\n",
    "    ],\n",
    "    \"episode\" => 1030,\n",
    ")\n",
    "\n",
    ";"
   ]
  },
  {
   "cell_type": "code",
   "execution_count": 16,
   "id": "8402bcbe",
   "metadata": {
    "execution": {
     "iopub.execute_input": "2022-02-09T00:01:14.080743Z",
     "iopub.status.busy": "2022-02-09T00:01:14.080246Z",
     "iopub.status.idle": "2022-02-09T00:01:14.213188Z",
     "shell.execute_reply": "2022-02-09T00:01:14.212553Z"
    }
   },
   "outputs": [],
   "source": [
    "OnePiece.extension.dict.write(js, di)"
   ]
  },
  {
   "cell_type": "code",
   "execution_count": 17,
   "id": "83445e66",
   "metadata": {
    "execution": {
     "iopub.execute_input": "2022-02-09T00:01:14.215102Z",
     "iopub.status.busy": "2022-02-09T00:01:14.214539Z",
     "iopub.status.idle": "2022-02-09T00:01:14.232708Z",
     "shell.execute_reply": "2022-02-09T00:01:14.232306Z"
    }
   },
   "outputs": [
    {
     "name": "stdout",
     "output_type": "stream",
     "text": [
      "{\n",
      "   \"Crews\": [\n",
      "      \"Luffy\",\n",
      "      \"Zoro\",\n",
      "      \"Nami\",\n",
      "      \"Usopp\",\n",
      "      \"Sanji\",\n",
      "      \"Chopper\",\n",
      "      \"Robin\",\n",
      "      \"Franky\",\n",
      "      \"Brook\",\n",
      "      \"Jinbe\"\n",
      "   ],\n",
      "   \"episode\": 1030,\n",
      "   \"Luffy\": \"Pirate King\"\n",
      "}\n"
     ]
    }
   ],
   "source": [
    "OnePiece.extension.dict.view(OnePiece.extension.dict.read(js))"
   ]
  }
 ],
 "metadata": {
  "@webio": {
   "lastCommId": null,
   "lastKernelId": null
  },
  "kernelspec": {
   "display_name": "Julia 1.7.1",
   "language": "julia",
   "name": "julia-1.7"
  },
  "language_info": {
   "file_extension": ".jl",
   "mimetype": "application/julia",
   "name": "julia",
   "version": "1.7.2"
  }
 },
 "nbformat": 4,
 "nbformat_minor": 5
}
