{
 "cells": [
  {
   "cell_type": "code",
   "execution_count": null,
   "id": "34e4701e",
   "metadata": {
    "execution": {
     "iopub.execute_input": "2022-02-09T05:30:01.329847Z",
     "iopub.status.busy": "2022-02-09T05:30:00.925445Z",
     "iopub.status.idle": "2022-02-09T05:30:02.347608Z",
     "shell.execute_reply": "2022-02-09T05:30:02.346853Z"
    }
   },
   "outputs": [],
   "source": [
    "using Revise\n",
    "using BenchmarkTools"
   ]
  },
  {
   "cell_type": "code",
   "execution_count": null,
   "id": "570e4b37",
   "metadata": {
    "execution": {
     "iopub.execute_input": "2022-02-09T05:30:02.349728Z",
     "iopub.status.busy": "2022-02-09T05:30:02.349051Z",
     "iopub.status.idle": "2022-02-09T05:30:13.496068Z",
     "shell.execute_reply": "2022-02-09T05:30:13.495525Z"
    }
   },
   "outputs": [],
   "source": [
    "using OnePiece"
   ]
  },
  {
   "cell_type": "markdown",
   "id": "7c7a0328",
   "metadata": {
    "execution": {
     "iopub.execute_input": "2022-02-07T19:53:17.109487Z",
     "iopub.status.busy": "2022-02-07T19:53:15.519011Z",
     "iopub.status.idle": "2022-02-07T19:53:17.994090Z",
     "shell.execute_reply": "2022-02-07T19:53:17.993635Z"
    }
   },
   "source": [
    "## view"
   ]
  },
  {
   "cell_type": "code",
   "execution_count": null,
   "id": "8f9fe131",
   "metadata": {
    "execution": {
     "iopub.execute_input": "2022-02-09T05:30:15.444636Z",
     "iopub.status.busy": "2022-02-09T05:30:13.497446Z",
     "iopub.status.idle": "2022-02-09T05:30:16.245715Z",
     "shell.execute_reply": "2022-02-09T05:30:16.245202Z"
    }
   },
   "outputs": [],
   "source": [
    "OnePiece.extension.dict.view(Dict())"
   ]
  },
  {
   "cell_type": "markdown",
   "id": "e6d28421",
   "metadata": {},
   "source": [
    "## summarize"
   ]
  },
  {
   "cell_type": "code",
   "execution_count": null,
   "id": "324e0b15",
   "metadata": {
    "execution": {
     "iopub.execute_input": "2022-02-09T05:30:16.247749Z",
     "iopub.status.busy": "2022-02-09T05:30:16.247125Z",
     "iopub.status.idle": "2022-02-09T05:30:16.929942Z",
     "shell.execute_reply": "2022-02-09T05:30:16.929473Z"
    }
   },
   "outputs": [],
   "source": [
    "OnePiece.extension.dict.summarize(\n",
    "    Dict(1 => \"a\", 2 => \"a\", 3 => \"b\", 4 => nothing, 5 => nothing, 6 => NaN),\n",
    ")"
   ]
  },
  {
   "cell_type": "markdown",
   "id": "d82a2d5c",
   "metadata": {},
   "source": [
    "## sort_recursively!"
   ]
  },
  {
   "cell_type": "code",
   "execution_count": null,
   "id": "d7558561",
   "metadata": {
    "execution": {
     "iopub.execute_input": "2022-02-09T05:30:16.931918Z",
     "iopub.status.busy": "2022-02-09T05:30:16.931317Z",
     "iopub.status.idle": "2022-02-09T05:30:18.679787Z",
     "shell.execute_reply": "2022-02-09T05:30:18.679369Z"
    }
   },
   "outputs": [],
   "source": [
    "di = Dict(\n",
    "    \"z\" => Dict(\"c\" => 1, \"b\" => 2, \"a\" => 3),\n",
    "    \"y\" => Dict(),\n",
    "    \"x\" => [3, 2, 1, Dict(\"zo\" => 2, \"lu\" => 1)],\n",
    "    \"w\" => [Dict(\"k\" => 8, \"j\" => 24), Dict(\"lo\" => 1, \"la\" => 3)],\n",
    ")\n",
    "\n",
    "OnePiece.extension.dict.view(OnePiece.extension.dict.sort_recursively!(di))"
   ]
  },
  {
   "cell_type": "markdown",
   "id": "2988a98a-d859-491b-83bd-0880462f2fcd",
   "metadata": {},
   "source": [
    "## merge"
   ]
  },
  {
   "cell_type": "code",
   "execution_count": null,
   "id": "75e1e24e",
   "metadata": {
    "execution": {
     "iopub.execute_input": "2022-02-09T05:30:18.681693Z",
     "iopub.status.busy": "2022-02-09T05:30:18.681129Z",
     "iopub.status.idle": "2022-02-09T05:30:18.730005Z",
     "shell.execute_reply": "2022-02-09T05:30:18.729545Z"
    }
   },
   "outputs": [],
   "source": [
    "di1 = Dict(\"1A\" => 1, \"B\" => Dict(\"C\" => 1, \"1D\" => 1))\n",
    "\n",
    "di2 = Dict(\"2A\" => 2, \"B\" => Dict(\"C\" => 2, \"2D\" => 2))\n",
    "\n",
    ";"
   ]
  },
  {
   "cell_type": "code",
   "execution_count": null,
   "id": "62f999fc",
   "metadata": {
    "execution": {
     "iopub.execute_input": "2022-02-09T05:30:18.731840Z",
     "iopub.status.busy": "2022-02-09T05:30:18.731264Z",
     "iopub.status.idle": "2022-02-09T05:30:18.907495Z",
     "shell.execute_reply": "2022-02-09T05:30:18.907088Z"
    }
   },
   "outputs": [],
   "source": [
    "OnePiece.extension.dict.view(OnePiece.extension.dict.merge(di1, di2))"
   ]
  },
  {
   "cell_type": "code",
   "execution_count": null,
   "id": "273f0476",
   "metadata": {
    "execution": {
     "iopub.execute_input": "2022-02-09T05:30:18.909383Z",
     "iopub.status.busy": "2022-02-09T05:30:18.908769Z",
     "iopub.status.idle": "2022-02-09T05:30:18.924213Z",
     "shell.execute_reply": "2022-02-09T05:30:18.923781Z"
    }
   },
   "outputs": [],
   "source": [
    "OnePiece.extension.dict.view(OnePiece.extension.dict.merge(di2, di1))"
   ]
  },
  {
   "cell_type": "markdown",
   "id": "c563b07c",
   "metadata": {},
   "source": [
    "## symbolize_key"
   ]
  },
  {
   "cell_type": "code",
   "execution_count": null,
   "id": "0e07e4f6",
   "metadata": {
    "execution": {
     "iopub.execute_input": "2022-02-09T05:30:18.926148Z",
     "iopub.status.busy": "2022-02-09T05:30:18.925520Z",
     "iopub.status.idle": "2022-02-09T05:30:20.294446Z",
     "shell.execute_reply": "2022-02-09T05:30:20.293973Z"
    }
   },
   "outputs": [],
   "source": [
    "OnePiece.extension.dict.symbolize_key(Dict(\"a\" => 1, \"b\" => 2.0))"
   ]
  },
  {
   "cell_type": "markdown",
   "id": "87773501",
   "metadata": {},
   "source": [
    "## read"
   ]
  },
  {
   "cell_type": "code",
   "execution_count": null,
   "id": "2acca60f",
   "metadata": {
    "execution": {
     "iopub.execute_input": "2022-02-09T05:30:20.296453Z",
     "iopub.status.busy": "2022-02-09T05:30:20.295850Z",
     "iopub.status.idle": "2022-02-09T05:30:20.309222Z",
     "shell.execute_reply": "2022-02-09T05:30:20.308627Z"
    }
   },
   "outputs": [],
   "source": [
    "da = \"dict.data\"\n",
    "\n",
    ";"
   ]
  },
  {
   "cell_type": "code",
   "execution_count": null,
   "id": "d4687e26",
   "metadata": {
    "execution": {
     "iopub.execute_input": "2022-02-09T05:30:20.311135Z",
     "iopub.status.busy": "2022-02-09T05:30:20.310543Z",
     "iopub.status.idle": "2022-02-09T05:30:20.377369Z",
     "shell.execute_reply": "2022-02-09T05:30:20.376780Z"
    }
   },
   "outputs": [],
   "source": [
    "OnePiece.extension.dict.view(OnePiece.extension.dict.read(joinpath(da, \"example_1.json\")))"
   ]
  },
  {
   "cell_type": "code",
   "execution_count": null,
   "id": "b2f113ef",
   "metadata": {
    "execution": {
     "iopub.execute_input": "2022-02-09T05:30:20.379286Z",
     "iopub.status.busy": "2022-02-09T05:30:20.378722Z",
     "iopub.status.idle": "2022-02-09T05:30:20.422315Z",
     "shell.execute_reply": "2022-02-09T05:30:20.421727Z"
    }
   },
   "outputs": [],
   "source": [
    "OnePiece.extension.dict.view(OnePiece.extension.dict.read(joinpath(da, \"example_2.json\")))"
   ]
  },
  {
   "cell_type": "code",
   "execution_count": null,
   "id": "e40557eb",
   "metadata": {
    "execution": {
     "iopub.execute_input": "2022-02-09T05:30:20.424531Z",
     "iopub.status.busy": "2022-02-09T05:30:20.423878Z",
     "iopub.status.idle": "2022-02-09T05:30:20.581740Z",
     "shell.execute_reply": "2022-02-09T05:30:20.581265Z"
    }
   },
   "outputs": [],
   "source": [
    "OnePiece.extension.dict.view(OnePiece.extension.dict.read(joinpath(da, \"example.toml\")))"
   ]
  },
  {
   "cell_type": "code",
   "execution_count": null,
   "id": "094c91bd",
   "metadata": {
    "execution": {
     "iopub.execute_input": "2022-02-09T05:30:20.583661Z",
     "iopub.status.busy": "2022-02-09T05:30:20.583041Z",
     "iopub.status.idle": "2022-02-09T05:30:20.911650Z",
     "shell.execute_reply": "2022-02-09T05:30:20.911189Z"
    }
   },
   "outputs": [],
   "source": [
    "OnePiece.extension.dict.view(OnePiece.extension.dict.read(joinpath(@__DIR__, \"dict.ipynb\")))"
   ]
  },
  {
   "cell_type": "markdown",
   "id": "7ac005d4",
   "metadata": {},
   "source": [
    "## write"
   ]
  },
  {
   "cell_type": "code",
   "execution_count": null,
   "id": "d61cce24",
   "metadata": {
    "execution": {
     "iopub.execute_input": "2022-02-09T05:30:20.913711Z",
     "iopub.status.busy": "2022-02-09T05:30:20.913094Z",
     "iopub.status.idle": "2022-02-09T05:30:20.977967Z",
     "shell.execute_reply": "2022-02-09T05:30:20.977500Z"
    }
   },
   "outputs": [],
   "source": [
    "js = joinpath(tempdir(), \"write.json\")\n",
    "\n",
    "di = Dict(\n",
    "    \"Luffy\" => \"Pirate King\",\n",
    "    \"Crews\" => [\n",
    "        \"Luffy\",\n",
    "        \"Zoro\",\n",
    "        \"Nami\",\n",
    "        \"Usopp\",\n",
    "        \"Sanji\",\n",
    "        \"Chopper\",\n",
    "        \"Robin\",\n",
    "        \"Franky\",\n",
    "        \"Brook\",\n",
    "        \"Jinbe\",\n",
    "    ],\n",
    "    \"episode\" => 1030,\n",
    ")\n",
    "\n",
    ";"
   ]
  },
  {
   "cell_type": "code",
   "execution_count": null,
   "id": "8402bcbe",
   "metadata": {
    "execution": {
     "iopub.execute_input": "2022-02-09T05:30:20.979936Z",
     "iopub.status.busy": "2022-02-09T05:30:20.979329Z",
     "iopub.status.idle": "2022-02-09T05:30:21.133473Z",
     "shell.execute_reply": "2022-02-09T05:30:21.132814Z"
    }
   },
   "outputs": [],
   "source": [
    "OnePiece.extension.dict.write(js, di)"
   ]
  },
  {
   "cell_type": "code",
   "execution_count": null,
   "id": "83445e66",
   "metadata": {
    "execution": {
     "iopub.execute_input": "2022-02-09T05:30:21.135717Z",
     "iopub.status.busy": "2022-02-09T05:30:21.134900Z",
     "iopub.status.idle": "2022-02-09T05:30:21.153355Z",
     "shell.execute_reply": "2022-02-09T05:30:21.152821Z"
    }
   },
   "outputs": [],
   "source": [
    "OnePiece.extension.dict.view(OnePiece.extension.dict.read(js))"
   ]
  }
 ],
 "metadata": {
  "@webio": {
   "lastCommId": null,
   "lastKernelId": null
  },
  "kernelspec": {
   "display_name": "Julia 1.7.1",
   "language": "julia",
   "name": "julia-1.7"
  },
  "language_info": {
   "file_extension": ".jl",
   "mimetype": "application/julia",
   "name": "julia",
   "version": "1.7.2"
  }
 },
 "nbformat": 4,
 "nbformat_minor": 5
}
