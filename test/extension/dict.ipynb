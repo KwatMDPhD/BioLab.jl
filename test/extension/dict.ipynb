{
 "cells": [
  {
   "cell_type": "code",
   "execution_count": 1,
   "id": "34e4701e",
   "metadata": {
    "execution": {
     "iopub.execute_input": "2022-02-10T17:15:39.707303Z",
     "iopub.status.busy": "2022-02-10T17:15:39.317825Z",
     "iopub.status.idle": "2022-02-10T17:15:40.549515Z",
     "shell.execute_reply": "2022-02-10T17:15:40.548937Z"
    }
   },
   "outputs": [],
   "source": [
    "using Revise\n",
    "using BenchmarkTools"
   ]
  },
  {
   "cell_type": "code",
   "execution_count": 2,
   "id": "570e4b37",
   "metadata": {
    "execution": {
     "iopub.execute_input": "2022-02-10T17:15:40.552343Z",
     "iopub.status.busy": "2022-02-10T17:15:40.551234Z",
     "iopub.status.idle": "2022-02-10T17:15:45.941717Z",
     "shell.execute_reply": "2022-02-10T17:15:45.941205Z"
    }
   },
   "outputs": [],
   "source": [
    "using OnePiece"
   ]
  },
  {
   "cell_type": "markdown",
   "id": "7622e7dc",
   "metadata": {},
   "source": [
    "## make"
   ]
  },
  {
   "cell_type": "code",
   "execution_count": 3,
   "id": "5b789b4c",
   "metadata": {
    "execution": {
     "iopub.execute_input": "2022-02-10T17:15:46.274556Z",
     "iopub.status.busy": "2022-02-10T17:15:45.943418Z",
     "iopub.status.idle": "2022-02-10T17:15:48.928310Z",
     "shell.execute_reply": "2022-02-10T17:15:48.927916Z"
    }
   },
   "outputs": [
    {
     "data": {
      "text/plain": [
       "OrderedCollections.OrderedDict{Symbol, Int64} with 2 entries:\n",
       "  :a => 1\n",
       "  :b => 2"
      ]
     },
     "execution_count": 3,
     "metadata": {},
     "output_type": "execute_result"
    }
   ],
   "source": [
    "OnePiece.extension.dict.make(a=1, b=2)"
   ]
  },
  {
   "cell_type": "markdown",
   "id": "7c7a0328",
   "metadata": {
    "execution": {
     "iopub.execute_input": "2022-02-07T19:53:17.109487Z",
     "iopub.status.busy": "2022-02-07T19:53:15.519011Z",
     "iopub.status.idle": "2022-02-07T19:53:17.994090Z",
     "shell.execute_reply": "2022-02-07T19:53:17.993635Z"
    }
   },
   "source": [
    "## view"
   ]
  },
  {
   "cell_type": "code",
   "execution_count": 4,
   "id": "8f9fe131",
   "metadata": {
    "execution": {
     "iopub.execute_input": "2022-02-10T17:15:48.930518Z",
     "iopub.status.busy": "2022-02-10T17:15:48.930020Z",
     "iopub.status.idle": "2022-02-10T17:15:49.017723Z",
     "shell.execute_reply": "2022-02-10T17:15:49.017278Z"
    }
   },
   "outputs": [
    {
     "name": "stdout",
     "output_type": "stream",
     "text": [
      "{}\n"
     ]
    }
   ],
   "source": [
    "OnePiece.extension.dict.view(Dict())"
   ]
  },
  {
   "cell_type": "markdown",
   "id": "e6d28421",
   "metadata": {},
   "source": [
    "## summarize"
   ]
  },
  {
   "cell_type": "code",
   "execution_count": 5,
   "id": "324e0b15",
   "metadata": {
    "execution": {
     "iopub.execute_input": "2022-02-10T17:15:49.019616Z",
     "iopub.status.busy": "2022-02-10T17:15:49.019120Z",
     "iopub.status.idle": "2022-02-10T17:15:49.516078Z",
     "shell.execute_reply": "2022-02-10T17:15:49.515671Z"
    }
   },
   "outputs": [
    {
     "name": "stdout",
     "output_type": "stream",
     "text": [
      "6 keys and 4 unique values\n",
      "5 => nothing\n",
      "4 => nothing\n",
      "6 => NaN\n",
      "...\n"
     ]
    }
   ],
   "source": [
    "OnePiece.extension.dict.summarize(\n",
    "    Dict(1 => \"a\", 2 => \"a\", 3 => \"b\", 4 => nothing, 5 => nothing, 6 => NaN),\n",
    ")"
   ]
  },
  {
   "cell_type": "markdown",
   "id": "d82a2d5c",
   "metadata": {},
   "source": [
    "## sort_recursively!"
   ]
  },
  {
   "cell_type": "code",
   "execution_count": 6,
   "id": "d7558561",
   "metadata": {
    "execution": {
     "iopub.execute_input": "2022-02-10T17:15:49.518113Z",
     "iopub.status.busy": "2022-02-10T17:15:49.517612Z",
     "iopub.status.idle": "2022-02-10T17:15:51.070503Z",
     "shell.execute_reply": "2022-02-10T17:15:51.070136Z"
    }
   },
   "outputs": [
    {
     "name": "stdout",
     "output_type": "stream",
     "text": [
      "{\n",
      "   \"w\": [\n",
      "      {\n",
      "         \"j\": 24,\n",
      "         \"k\": 8\n",
      "      },\n",
      "      {\n",
      "         \"la\": 3,\n",
      "         \"lo\": 1\n",
      "      }\n",
      "   ],\n",
      "   \"x\": [\n",
      "      3,\n",
      "      2,\n",
      "      1,\n",
      "      {\n",
      "         \"lu\": 1,\n",
      "         \"zo\": 2\n",
      "      }\n",
      "   ],\n",
      "   \"y\": {},\n",
      "   \"z\": {\n",
      "      \"a\": 3,\n",
      "      \"b\": 2,\n",
      "      \"c\": 1\n",
      "   }\n",
      "}\n"
     ]
    }
   ],
   "source": [
    "di = Dict(\n",
    "    \"z\" => Dict(\"c\" => 1, \"b\" => 2, \"a\" => 3),\n",
    "    \"y\" => Dict(),\n",
    "    \"x\" => [3, 2, 1, Dict(\"zo\" => 2, \"lu\" => 1)],\n",
    "    \"w\" => [Dict(\"k\" => 8, \"j\" => 24), Dict(\"lo\" => 1, \"la\" => 3)],\n",
    ")\n",
    "\n",
    "OnePiece.extension.dict.view(OnePiece.extension.dict.sort_recursively!(di))"
   ]
  },
  {
   "cell_type": "markdown",
   "id": "2988a98a-d859-491b-83bd-0880462f2fcd",
   "metadata": {},
   "source": [
    "## merge"
   ]
  },
  {
   "cell_type": "code",
   "execution_count": 7,
   "id": "75e1e24e",
   "metadata": {
    "execution": {
     "iopub.execute_input": "2022-02-10T17:15:51.072593Z",
     "iopub.status.busy": "2022-02-10T17:15:51.072069Z",
     "iopub.status.idle": "2022-02-10T17:15:51.113277Z",
     "shell.execute_reply": "2022-02-10T17:15:51.112836Z"
    }
   },
   "outputs": [],
   "source": [
    "di1 = Dict(\"1A\" => 1, \"B\" => Dict(\"C\" => 1, \"1D\" => 1))\n",
    "\n",
    "di2 = Dict(\"2A\" => 2, \"B\" => Dict(\"C\" => 2, \"2D\" => 2))\n",
    "\n",
    ";"
   ]
  },
  {
   "cell_type": "code",
   "execution_count": 8,
   "id": "62f999fc",
   "metadata": {
    "execution": {
     "iopub.execute_input": "2022-02-10T17:15:51.115085Z",
     "iopub.status.busy": "2022-02-10T17:15:51.114510Z",
     "iopub.status.idle": "2022-02-10T17:15:51.264045Z",
     "shell.execute_reply": "2022-02-10T17:15:51.263642Z"
    }
   },
   "outputs": [
    {
     "name": "stdout",
     "output_type": "stream",
     "text": [
      "C => (1) 2\n",
      "{\n",
      "   \"1A\": 1,\n",
      "   \"B\": {\n",
      "      \"1D\": 1,\n",
      "      \"C\": 2,\n",
      "      \"2D\": 2\n",
      "   },\n",
      "   \"2A\": 2\n",
      "}\n"
     ]
    }
   ],
   "source": [
    "OnePiece.extension.dict.view(OnePiece.extension.dict.merge(di1, di2))"
   ]
  },
  {
   "cell_type": "code",
   "execution_count": 9,
   "id": "273f0476",
   "metadata": {
    "execution": {
     "iopub.execute_input": "2022-02-10T17:15:51.265991Z",
     "iopub.status.busy": "2022-02-10T17:15:51.265347Z",
     "iopub.status.idle": "2022-02-10T17:15:51.280595Z",
     "shell.execute_reply": "2022-02-10T17:15:51.280194Z"
    }
   },
   "outputs": [
    {
     "name": "stdout",
     "output_type": "stream",
     "text": [
      "C => (2) 1\n",
      "{\n",
      "   \"1A\": 1,\n",
      "   \"B\": {\n",
      "      \"1D\": 1,\n",
      "      \"C\": 1,\n",
      "      \"2D\": 2\n",
      "   },\n",
      "   \"2A\": 2\n",
      "}\n"
     ]
    }
   ],
   "source": [
    "OnePiece.extension.dict.view(OnePiece.extension.dict.merge(di2, di1))"
   ]
  },
  {
   "cell_type": "markdown",
   "id": "c563b07c",
   "metadata": {},
   "source": [
    "## symbolize_key"
   ]
  },
  {
   "cell_type": "code",
   "execution_count": 10,
   "id": "0e07e4f6",
   "metadata": {
    "execution": {
     "iopub.execute_input": "2022-02-10T17:15:51.282570Z",
     "iopub.status.busy": "2022-02-10T17:15:51.282051Z",
     "iopub.status.idle": "2022-02-10T17:15:52.346721Z",
     "shell.execute_reply": "2022-02-10T17:15:52.346283Z"
    }
   },
   "outputs": [
    {
     "data": {
      "text/plain": [
       "Dict{Symbol, Real} with 2 entries:\n",
       "  :a => 1\n",
       "  :b => 2.0"
      ]
     },
     "execution_count": 10,
     "metadata": {},
     "output_type": "execute_result"
    }
   ],
   "source": [
    "OnePiece.extension.dict.symbolize_key(Dict(\"a\" => 1, \"b\" => 2.0))"
   ]
  },
  {
   "cell_type": "markdown",
   "id": "87773501",
   "metadata": {},
   "source": [
    "## read"
   ]
  },
  {
   "cell_type": "code",
   "execution_count": 11,
   "id": "2acca60f",
   "metadata": {
    "execution": {
     "iopub.execute_input": "2022-02-10T17:15:52.348729Z",
     "iopub.status.busy": "2022-02-10T17:15:52.348186Z",
     "iopub.status.idle": "2022-02-10T17:15:52.360739Z",
     "shell.execute_reply": "2022-02-10T17:15:52.360245Z"
    }
   },
   "outputs": [],
   "source": [
    "da = \"dict.data\"\n",
    "\n",
    ";"
   ]
  },
  {
   "cell_type": "code",
   "execution_count": 12,
   "id": "d4687e26",
   "metadata": {
    "execution": {
     "iopub.execute_input": "2022-02-10T17:15:52.362540Z",
     "iopub.status.busy": "2022-02-10T17:15:52.362034Z",
     "iopub.status.idle": "2022-02-10T17:15:52.419073Z",
     "shell.execute_reply": "2022-02-10T17:15:52.418692Z"
    }
   },
   "outputs": [
    {
     "name": "stdout",
     "output_type": "stream",
     "text": [
      "{\n",
      "   \"fruit\": \"Apple\",\n",
      "   \"color\": \"Red\",\n",
      "   \"size\": \"Large\"\n",
      "}\n"
     ]
    }
   ],
   "source": [
    "OnePiece.extension.dict.view(OnePiece.extension.dict.read(joinpath(da, \"example_1.json\")))"
   ]
  },
  {
   "cell_type": "code",
   "execution_count": 13,
   "id": "b2f113ef",
   "metadata": {
    "execution": {
     "iopub.execute_input": "2022-02-10T17:15:52.420946Z",
     "iopub.status.busy": "2022-02-10T17:15:52.420354Z",
     "iopub.status.idle": "2022-02-10T17:15:52.460674Z",
     "shell.execute_reply": "2022-02-10T17:15:52.460322Z"
    }
   },
   "outputs": [
    {
     "name": "stdout",
     "output_type": "stream",
     "text": [
      "{\n",
      "   \"quiz\": {\n",
      "      \"sport\": {\n",
      "         \"q1\": {\n",
      "            \"options\": [\n",
      "               \"New York Bulls\",\n",
      "               \"Los Angeles Kings\",\n",
      "               \"Golden State Warriros\",\n",
      "               \"Huston Rocket\"\n",
      "            ],\n",
      "            \"question\": \"Which one is correct team name in NBA?\",\n",
      "            \"answer\": \"Huston Rocket\"\n",
      "         }\n",
      "      },\n",
      "      \"maths\": {\n",
      "         \"q1\": {\n",
      "            \"options\": [\n",
      "               \"10\",\n",
      "               \"11\",\n",
      "               \"12\",\n",
      "               \"13\"\n",
      "            ],\n",
      "            \"question\": \"5 + 7 = ?\",\n",
      "            \"answer\": \"12\"\n",
      "         },\n",
      "         \"q2\": {\n",
      "            \"options\": [\n",
      "               \"1\",\n",
      "               \"2\",\n",
      "               \"3\",\n",
      "               \"4\"\n",
      "            ],\n",
      "            \"question\": \"12 - 8 = ?\",\n",
      "            \"answer\": \"4\"\n",
      "         }\n",
      "      }\n",
      "   }\n",
      "}\n"
     ]
    }
   ],
   "source": [
    "OnePiece.extension.dict.view(OnePiece.extension.dict.read(joinpath(da, \"example_2.json\")))"
   ]
  },
  {
   "cell_type": "code",
   "execution_count": 14,
   "id": "e40557eb",
   "metadata": {
    "execution": {
     "iopub.execute_input": "2022-02-10T17:15:52.462516Z",
     "iopub.status.busy": "2022-02-10T17:15:52.462020Z",
     "iopub.status.idle": "2022-02-10T17:15:52.586645Z",
     "shell.execute_reply": "2022-02-10T17:15:52.586191Z"
    }
   },
   "outputs": [
    {
     "name": "stdout",
     "output_type": "stream",
     "text": [
      "{\n",
      "   \"servers\": {\n",
      "      \"alpha\": {\n",
      "         \"dc\": \"eqdc10\",\n",
      "         \"ip\": \"10.0.0.1\"\n",
      "      },\n",
      "      \"beta\": {\n",
      "         \"dc\": \"eqdc10\",\n",
      "         \"ip\": \"10.0.0.2\"\n",
      "      }\n",
      "   },\n",
      "   \"clients\": {\n",
      "      \"hosts\": [\n",
      "         \"alpha\",\n",
      "         \"omega\"\n",
      "      ],\n",
      "      \"data\": [\n",
      "         [\n",
      "            \"gamma\",\n",
      "            \"delta\"\n",
      "         ],\n",
      "         [\n",
      "            1,\n",
      "            2\n",
      "         ]\n",
      "      ]\n",
      "   },\n",
      "   \"owner\": {\n",
      "      \"name\": \"Tom Preston-Werner\"\n",
      "   },\n",
      "   \"title\": \"TOML Example\",\n",
      "   \"database\": {\n",
      "      \"server\": \"192.168.1.1\",\n",
      "      \"connection_max\": 5000,\n",
      "      \"ports\": [\n",
      "         8000,\n",
      "         8001,\n",
      "         8002\n",
      "      ],\n",
      "      \"enabled\": true\n",
      "   }\n",
      "}\n"
     ]
    }
   ],
   "source": [
    "OnePiece.extension.dict.view(OnePiece.extension.dict.read(joinpath(da, \"example.toml\")))"
   ]
  },
  {
   "cell_type": "code",
   "execution_count": 15,
   "id": "094c91bd",
   "metadata": {
    "execution": {
     "iopub.execute_input": "2022-02-10T17:15:52.588636Z",
     "iopub.status.busy": "2022-02-10T17:15:52.588095Z",
     "iopub.status.idle": "2022-02-10T17:15:52.892648Z",
     "shell.execute_reply": "2022-02-10T17:15:52.892088Z"
    }
   },
   "outputs": [
    {
     "name": "stdout",
     "output_type": "stream",
     "text": [
      "{\n",
      "   \"cells\": [\n",
      "      {\n",
      "         \"outputs\": [],\n",
      "         \"cell_type\": \"code\",\n",
      "         \"source\": [\n",
      "            \"using Revise\\n\",\n",
      "            \"using BenchmarkTools\"\n",
      "         ],\n",
      "         \"id\": \"34e4701e\",\n",
      "         \"metadata\": {\n",
      "            \"execution\": {\n",
      "               \"iopub.status.idle\": \"2022-02-09T22:40:04.827148Z\",\n",
      "               \"iopub.status.busy\": \"2022-02-09T22:40:03.498503Z\",\n",
      "               \"iopub.execute_input\": \"2022-02-09T22:40:03.891981Z\",\n",
      "               \"shell.execute_reply\": \"2022-02-09T22:40:04.826582Z\"\n",
      "            }\n",
      "         },\n",
      "         \"execution_count\": null\n",
      "      },\n",
      "      {\n",
      "         \"outputs\": [],\n",
      "         \"cell_type\": \"code\",\n",
      "         \"source\": [\n",
      "            \"using OnePiece\"\n",
      "         ],\n",
      "         \"id\": \"570e4b37\",\n",
      "         \"metadata\": {\n",
      "            \"execution\": {\n",
      "               \"iopub.status.idle\": \"2022-02-09T22:40:14.634893Z\",\n",
      "               \"iopub.status.busy\": \"2022-02-09T22:40:04.828749Z\",\n",
      "               \"iopub.execute_input\": \"2022-02-09T22:40:04.829271Z\",\n",
      "               \"shell.execute_reply\": \"2022-02-09T22:40:14.634374Z\"\n",
      "            }\n",
      "         },\n",
      "         \"execution_count\": null\n",
      "      },\n",
      "      {\n",
      "         \"cell_type\": \"markdown\",\n",
      "         \"source\": [\n",
      "            \"## make\"\n",
      "         ],\n",
      "         \"id\": \"7622e7dc\",\n",
      "         \"metadata\": {}\n",
      "      },\n",
      "      {\n",
      "         \"outputs\": [],\n",
      "         \"cell_type\": \"code\",\n",
      "         \"source\": [\n",
      "            \"OnePiece.extension.dict.make(a=1, b=2)\"\n",
      "         ],\n",
      "         \"id\": \"5b789b4c\",\n",
      "         \"metadata\": {},\n",
      "         \"execution_count\": null\n",
      "      },\n",
      "      {\n",
      "         \"cell_type\": \"markdown\",\n",
      "         \"source\": [\n",
      "            \"## view\"\n",
      "         ],\n",
      "         \"id\": \"7c7a0328\",\n",
      "         \"metadata\": {\n",
      "            \"execution\": {\n",
      "               \"iopub.status.idle\": \"2022-02-07T19:53:17.994090Z\",\n",
      "               \"iopub.status.busy\": \"2022-02-07T19:53:15.519011Z\",\n",
      "               \"iopub.execute_input\": \"2022-02-07T19:53:17.109487Z\",\n",
      "               \"shell.execute_reply\": \"2022-02-07T19:53:17.993635Z\"\n",
      "            }\n",
      "         }\n",
      "      },\n",
      "      {\n",
      "         \"outputs\": [],\n",
      "         \"cell_type\": \"code\",\n",
      "         \"source\": [\n",
      "            \"OnePiece.extension.dict.view(Dict())\"\n",
      "         ],\n",
      "         \"id\": \"8f9fe131\",\n",
      "         \"metadata\": {\n",
      "            \"execution\": {\n",
      "               \"iopub.status.idle\": \"2022-02-09T22:40:17.037581Z\",\n",
      "               \"iopub.status.busy\": \"2022-02-09T22:40:14.636212Z\",\n",
      "               \"iopub.execute_input\": \"2022-02-09T22:40:16.218478Z\",\n",
      "               \"shell.execute_reply\": \"2022-02-09T22:40:17.037124Z\"\n",
      "            }\n",
      "         },\n",
      "         \"execution_count\": null\n",
      "      },\n",
      "      {\n",
      "         \"cell_type\": \"markdown\",\n",
      "         \"source\": [\n",
      "            \"## summarize\"\n",
      "         ],\n",
      "         \"id\": \"e6d28421\",\n",
      "         \"metadata\": {}\n",
      "      },\n",
      "      {\n",
      "         \"outputs\": [],\n",
      "         \"cell_type\": \"code\",\n",
      "         \"source\": [\n",
      "            \"OnePiece.extension.dict.summarize(\\n\",\n",
      "            \"    Dict(1 => \\\"a\\\", 2 => \\\"a\\\", 3 => \\\"b\\\", 4 => nothing, 5 => nothing, 6 => NaN),\\n\",\n",
      "            \")\"\n",
      "         ],\n",
      "         \"id\": \"324e0b15\",\n",
      "         \"metadata\": {\n",
      "            \"execution\": {\n",
      "               \"iopub.status.idle\": \"2022-02-09T22:40:17.638251Z\",\n",
      "               \"iopub.status.busy\": \"2022-02-09T22:40:17.038716Z\",\n",
      "               \"iopub.execute_input\": \"2022-02-09T22:40:17.039222Z\",\n",
      "               \"shell.execute_reply\": \"2022-02-09T22:40:17.637863Z\"\n",
      "            }\n",
      "         },\n",
      "         \"execution_count\": null\n",
      "      },\n",
      "      {\n",
      "         \"cell_type\": \"markdown\",\n",
      "         \"source\": [\n",
      "            \"## sort_recursively!\"\n",
      "         ],\n",
      "         \"id\": \"d82a2d5c\",\n",
      "         \"metadata\": {}\n",
      "      },\n",
      "      {\n",
      "         \"outputs\": [],\n",
      "         \"cell_type\": \"code\",\n",
      "         \"source\": [\n",
      "            \"di = Dict(\\n\",\n",
      "            \"    \\\"z\\\" => Dict(\\\"c\\\" => 1, \\\"b\\\" => 2, \\\"a\\\" => 3),\\n\",\n",
      "            \"    \\\"y\\\" => Dict(),\\n\",\n",
      "            \"    \\\"x\\\" => [3, 2, 1, Dict(\\\"zo\\\" => 2, \\\"lu\\\" => 1)],\\n\",\n",
      "            \"    \\\"w\\\" => [Dict(\\\"k\\\" => 8, \\\"j\\\" => 24), Dict(\\\"lo\\\" => 1, \\\"la\\\" => 3)],\\n\",\n",
      "            \")\\n\",\n",
      "            \"\\n\",\n",
      "            \"OnePiece.extension.dict.view(OnePiece.extension.dict.sort_recursively!(di))\"\n",
      "         ],\n",
      "         \"id\": \"d7558561\",\n",
      "         \"metadata\": {\n",
      "            \"execution\": {\n",
      "               \"iopub.status.idle\": \"2022-02-09T22:40:19.188078Z\",\n",
      "               \"iopub.status.busy\": \"2022-02-09T22:40:17.640179Z\",\n",
      "               \"iopub.execute_input\": \"2022-02-09T22:40:17.640735Z\",\n",
      "               \"shell.execute_reply\": \"2022-02-09T22:40:19.187549Z\"\n",
      "            }\n",
      "         },\n",
      "         \"execution_count\": null\n",
      "      },\n",
      "      {\n",
      "         \"cell_type\": \"markdown\",\n",
      "         \"source\": [\n",
      "            \"## merge\"\n",
      "         ],\n",
      "         \"id\": \"2988a98a-d859-491b-83bd-0880462f2fcd\",\n",
      "         \"metadata\": {}\n",
      "      },\n",
      "      {\n",
      "         \"outputs\": [],\n",
      "         \"cell_type\": \"code\",\n",
      "         \"source\": [\n",
      "            \"di1 = Dict(\\\"1A\\\" => 1, \\\"B\\\" => Dict(\\\"C\\\" => 1, \\\"1D\\\" => 1))\\n\",\n",
      "            \"\\n\",\n",
      "            \"di2 = Dict(\\\"2A\\\" => 2, \\\"B\\\" => Dict(\\\"C\\\" => 2, \\\"2D\\\" => 2))\\n\",\n",
      "            \"\\n\",\n",
      "            \";\"\n",
      "         ],\n",
      "         \"id\": \"75e1e24e\",\n",
      "         \"metadata\": {\n",
      "            \"execution\": {\n",
      "               \"iopub.status.idle\": \"2022-02-09T22:40:19.233303Z\",\n",
      "               \"iopub.status.busy\": \"2022-02-09T22:40:19.189525Z\",\n",
      "               \"iopub.execute_input\": \"2022-02-09T22:40:19.190124Z\",\n",
      "               \"shell.execute_reply\": \"2022-02-09T22:40:19.232927Z\"\n",
      "            }\n",
      "         },\n",
      "         \"execution_count\": null\n",
      "      },\n",
      "      {\n",
      "         \"outputs\": [],\n",
      "         \"cell_type\": \"code\",\n",
      "         \"source\": [\n",
      "            \"OnePiece.extension.dict.view(OnePiece.extension.dict.merge(di1, di2))\"\n",
      "         ],\n",
      "         \"id\": \"62f999fc\",\n",
      "         \"metadata\": {\n",
      "            \"execution\": {\n",
      "               \"iopub.status.idle\": \"2022-02-09T22:40:19.390656Z\",\n",
      "               \"iopub.status.busy\": \"2022-02-09T22:40:19.234635Z\",\n",
      "               \"iopub.execute_input\": \"2022-02-09T22:40:19.235185Z\",\n",
      "               \"shell.execute_reply\": \"2022-02-09T22:40:19.390203Z\"\n",
      "            }\n",
      "         },\n",
      "         \"execution_count\": null\n",
      "      },\n",
      "      {\n",
      "         \"outputs\": [],\n",
      "         \"cell_type\": \"code\",\n",
      "         \"source\": [\n",
      "            \"OnePiece.extension.dict.view(OnePiece.extension.dict.merge(di2, di1))\"\n",
      "         ],\n",
      "         \"id\": \"273f0476\",\n",
      "         \"metadata\": {\n",
      "            \"execution\": {\n",
      "               \"iopub.status.idle\": \"2022-02-09T22:40:19.407208Z\",\n",
      "               \"iopub.status.busy\": \"2022-02-09T22:40:19.392096Z\",\n",
      "               \"iopub.execute_input\": \"2022-02-09T22:40:19.392665Z\",\n",
      "               \"shell.execute_reply\": \"2022-02-09T22:40:19.406768Z\"\n",
      "            }\n",
      "         },\n",
      "         \"execution_count\": null\n",
      "      },\n",
      "      {\n",
      "         \"cell_type\": \"markdown\",\n",
      "         \"source\": [\n",
      "            \"## symbolize_key\"\n",
      "         ],\n",
      "         \"id\": \"c563b07c\",\n",
      "         \"metadata\": {}\n",
      "      },\n",
      "      {\n",
      "         \"outputs\": [],\n",
      "         \"cell_type\": \"code\",\n",
      "         \"source\": [\n",
      "            \"OnePiece.extension.dict.symbolize_key(Dict(\\\"a\\\" => 1, \\\"b\\\" => 2.0))\"\n",
      "         ],\n",
      "         \"id\": \"0e07e4f6\",\n",
      "         \"metadata\": {\n",
      "            \"execution\": {\n",
      "               \"iopub.status.idle\": \"2022-02-09T22:40:20.543764Z\",\n",
      "               \"iopub.status.busy\": \"2022-02-09T22:40:19.408592Z\",\n",
      "               \"iopub.execute_input\": \"2022-02-09T22:40:19.409249Z\",\n",
      "               \"shell.execute_reply\": \"2022-02-09T22:40:20.543252Z\"\n",
      "            }\n",
      "         },\n",
      "         \"execution_count\": null\n",
      "      },\n",
      "      {\n",
      "         \"cell_type\": \"markdown\",\n",
      "         \"source\": [\n",
      "            \"## read\"\n",
      "         ],\n",
      "         \"id\": \"87773501\",\n",
      "         \"metadata\": {}\n",
      "      },\n",
      "      {\n",
      "         \"outputs\": [],\n",
      "         \"cell_type\": \"code\",\n",
      "         \"source\": [\n",
      "            \"da = \\\"dict.data\\\"\\n\",\n",
      "            \"\\n\",\n",
      "            \";\"\n",
      "         ],\n",
      "         \"id\": \"2acca60f\",\n",
      "         \"metadata\": {\n",
      "            \"execution\": {\n",
      "               \"iopub.status.idle\": \"2022-02-09T22:40:20.557829Z\",\n",
      "               \"iopub.status.busy\": \"2022-02-09T22:40:20.545300Z\",\n",
      "               \"iopub.execute_input\": \"2022-02-09T22:40:20.545995Z\",\n",
      "               \"shell.execute_reply\": \"2022-02-09T22:40:20.557243Z\"\n",
      "            }\n",
      "         },\n",
      "         \"execution_count\": null\n",
      "      },\n",
      "      {\n",
      "         \"outputs\": [],\n",
      "         \"cell_type\": \"code\",\n",
      "         \"source\": [\n",
      "            \"OnePiece.extension.dict.view(OnePiece.extension.dict.read(joinpath(da, \\\"example_1.json\\\")))\"\n",
      "         ],\n",
      "         \"id\": \"d4687e26\",\n",
      "         \"metadata\": {\n",
      "            \"execution\": {\n",
      "               \"iopub.status.idle\": \"2022-02-09T22:40:20.622090Z\",\n",
      "               \"iopub.status.busy\": \"2022-02-09T22:40:20.559236Z\",\n",
      "               \"iopub.execute_input\": \"2022-02-09T22:40:20.559936Z\",\n",
      "               \"shell.execute_reply\": \"2022-02-09T22:40:20.621709Z\"\n",
      "            }\n",
      "         },\n",
      "         \"execution_count\": null\n",
      "      },\n",
      "      {\n",
      "         \"outputs\": [],\n",
      "         \"cell_type\": \"code\",\n",
      "         \"source\": [\n",
      "            \"OnePiece.extension.dict.view(OnePiece.extension.dict.read(joinpath(da, \\\"example_2.json\\\")))\"\n",
      "         ],\n",
      "         \"id\": \"b2f113ef\",\n",
      "         \"metadata\": {\n",
      "            \"execution\": {\n",
      "               \"iopub.status.idle\": \"2022-02-09T22:40:20.664961Z\",\n",
      "               \"iopub.status.busy\": \"2022-02-09T22:40:20.623340Z\",\n",
      "               \"iopub.execute_input\": \"2022-02-09T22:40:20.623838Z\",\n",
      "               \"shell.execute_reply\": \"2022-02-09T22:40:20.664570Z\"\n",
      "            }\n",
      "         },\n",
      "         \"execution_count\": null\n",
      "      },\n",
      "      {\n",
      "         \"outputs\": [],\n",
      "         \"cell_type\": \"code\",\n",
      "         \"source\": [\n",
      "            \"OnePiece.extension.dict.view(OnePiece.extension.dict.read(joinpath(da, \\\"example.toml\\\")))\"\n",
      "         ],\n",
      "         \"id\": \"e40557eb\",\n",
      "         \"metadata\": {\n",
      "            \"execution\": {\n",
      "               \"iopub.status.idle\": \"2022-02-09T22:40:20.796937Z\",\n",
      "               \"iopub.status.busy\": \"2022-02-09T22:40:20.666266Z\",\n",
      "               \"iopub.execute_input\": \"2022-02-09T22:40:20.666777Z\",\n",
      "               \"shell.execute_reply\": \"2022-02-09T22:40:20.796459Z\"\n",
      "            }\n",
      "         },\n",
      "         \"execution_count\": null\n",
      "      },\n",
      "      {\n",
      "         \"outputs\": [],\n",
      "         \"cell_type\": \"code\",\n",
      "         \"source\": [\n",
      "            \"OnePiece.extension.dict.view(OnePiece.extension.dict.read(joinpath(@__DIR__, \\\"dict.ipynb\\\")))\"\n",
      "         ],\n",
      "         \"id\": \"094c91bd\",\n",
      "         \"metadata\": {\n",
      "            \"execution\": {\n",
      "               \"iopub.status.idle\": \"2022-02-09T22:40:21.096695Z\",\n",
      "               \"iopub.status.busy\": \"2022-02-09T22:40:20.798228Z\",\n",
      "               \"iopub.execute_input\": \"2022-02-09T22:40:20.798749Z\",\n",
      "               \"shell.execute_reply\": \"2022-02-09T22:40:21.096276Z\"\n",
      "            }\n",
      "         },\n",
      "         \"execution_count\": null\n",
      "      },\n",
      "      {\n",
      "         \"cell_type\": \"markdown\",\n",
      "         \"source\": [\n",
      "            \"## write\"\n",
      "         ],\n",
      "         \"id\": \"7ac005d4\",\n",
      "         \"metadata\": {}\n",
      "      },\n",
      "      {\n",
      "         \"outputs\": [],\n",
      "         \"cell_type\": \"code\",\n",
      "         \"source\": [\n",
      "            \"js = joinpath(tempdir(), \\\"write.json\\\")\\n\",\n",
      "            \"\\n\",\n",
      "            \"di = Dict(\\n\",\n",
      "            \"    \\\"Luffy\\\" => \\\"Pirate King\\\",\\n\",\n",
      "            \"    \\\"Crews\\\" => [\\n\",\n",
      "            \"        \\\"Luffy\\\",\\n\",\n",
      "            \"        \\\"Zoro\\\",\\n\",\n",
      "            \"        \\\"Nami\\\",\\n\",\n",
      "            \"        \\\"Usopp\\\",\\n\",\n",
      "            \"        \\\"Sanji\\\",\\n\",\n",
      "            \"        \\\"Chopper\\\",\\n\",\n",
      "            \"        \\\"Robin\\\",\\n\",\n",
      "            \"        \\\"Franky\\\",\\n\",\n",
      "            \"        \\\"Brook\\\",\\n\",\n",
      "            \"        \\\"Jinbe\\\",\\n\",\n",
      "            \"    ],\\n\",\n",
      "            \"    \\\"episode\\\" => 1030,\\n\",\n",
      "            \")\\n\",\n",
      "            \"\\n\",\n",
      "            \";\"\n",
      "         ],\n",
      "         \"id\": \"d61cce24\",\n",
      "         \"metadata\": {\n",
      "            \"execution\": {\n",
      "               \"iopub.status.idle\": \"2022-02-09T22:40:21.154195Z\",\n",
      "               \"iopub.status.busy\": \"2022-02-09T22:40:21.097979Z\",\n",
      "               \"iopub.execute_input\": \"2022-02-09T22:40:21.098551Z\",\n",
      "               \"shell.execute_reply\": \"2022-02-09T22:40:21.153754Z\"\n",
      "            }\n",
      "         },\n",
      "         \"execution_count\": null\n",
      "      },\n",
      "      {\n",
      "         \"outputs\": [],\n",
      "         \"cell_type\": \"code\",\n",
      "         \"source\": [\n",
      "            \"OnePiece.extension.dict.write(js, di)\"\n",
      "         ],\n",
      "         \"id\": \"8402bcbe\",\n",
      "         \"metadata\": {\n",
      "            \"execution\": {\n",
      "               \"iopub.status.idle\": \"2022-02-09T22:40:21.285047Z\",\n",
      "               \"iopub.status.busy\": \"2022-02-09T22:40:21.155495Z\",\n",
      "               \"iopub.execute_input\": \"2022-02-09T22:40:21.156050Z\",\n",
      "               \"shell.execute_reply\": \"2022-02-09T22:40:21.284512Z\"\n",
      "            }\n",
      "         },\n",
      "         \"execution_count\": null\n",
      "      },\n",
      "      {\n",
      "         \"outputs\": [],\n",
      "         \"cell_type\": \"code\",\n",
      "         \"source\": [\n",
      "            \"OnePiece.extension.dict.view(OnePiece.extension.dict.read(js))\"\n",
      "         ],\n",
      "         \"id\": \"83445e66\",\n",
      "         \"metadata\": {\n",
      "            \"execution\": {\n",
      "               \"iopub.status.idle\": \"2022-02-09T22:40:21.304603Z\",\n",
      "               \"iopub.status.busy\": \"2022-02-09T22:40:21.286453Z\",\n",
      "               \"iopub.execute_input\": \"2022-02-09T22:40:21.287052Z\",\n",
      "               \"shell.execute_reply\": \"2022-02-09T22:40:21.304183Z\"\n",
      "            }\n",
      "         },\n",
      "         \"execution_count\": null\n",
      "      }\n",
      "   ],\n",
      "   \"nbformat_minor\": 5,\n",
      "   \"metadata\": {\n",
      "      \"language_info\": {\n",
      "         \"file_extension\": \".jl\",\n",
      "         \"mimetype\": \"application/julia\",\n",
      "         \"name\": \"julia\",\n",
      "         \"version\": \"1.7.2\"\n",
      "      },\n",
      "      \"@webio\": {\n",
      "         \"lastKernelId\": null,\n",
      "         \"lastCommId\": null\n",
      "      },\n",
      "      \"kernelspec\": {\n",
      "         \"name\": \"julia-1.7\",\n",
      "         \"display_name\": \"Julia 1.7.2\",\n",
      "         \"language\": \"julia\"\n",
      "      }\n",
      "   },\n",
      "   \"nbformat\": 4\n",
      "}\n"
     ]
    }
   ],
   "source": [
    "OnePiece.extension.dict.view(OnePiece.extension.dict.read(joinpath(@__DIR__, \"dict.ipynb\")))"
   ]
  },
  {
   "cell_type": "markdown",
   "id": "7ac005d4",
   "metadata": {},
   "source": [
    "## write"
   ]
  },
  {
   "cell_type": "code",
   "execution_count": 16,
   "id": "d61cce24",
   "metadata": {
    "execution": {
     "iopub.execute_input": "2022-02-10T17:15:52.894510Z",
     "iopub.status.busy": "2022-02-10T17:15:52.893994Z",
     "iopub.status.idle": "2022-02-10T17:15:52.949067Z",
     "shell.execute_reply": "2022-02-10T17:15:52.948417Z"
    }
   },
   "outputs": [],
   "source": [
    "js = joinpath(tempdir(), \"write.json\")\n",
    "\n",
    "di = Dict(\n",
    "    \"Luffy\" => \"Pirate King\",\n",
    "    \"Crews\" => [\n",
    "        \"Luffy\",\n",
    "        \"Zoro\",\n",
    "        \"Nami\",\n",
    "        \"Usopp\",\n",
    "        \"Sanji\",\n",
    "        \"Chopper\",\n",
    "        \"Robin\",\n",
    "        \"Franky\",\n",
    "        \"Brook\",\n",
    "        \"Jinbe\",\n",
    "    ],\n",
    "    \"episode\" => 1030,\n",
    ")\n",
    "\n",
    ";"
   ]
  },
  {
   "cell_type": "code",
   "execution_count": 17,
   "id": "8402bcbe",
   "metadata": {
    "execution": {
     "iopub.execute_input": "2022-02-10T17:15:52.951098Z",
     "iopub.status.busy": "2022-02-10T17:15:52.950488Z",
     "iopub.status.idle": "2022-02-10T17:15:53.063139Z",
     "shell.execute_reply": "2022-02-10T17:15:53.062763Z"
    }
   },
   "outputs": [],
   "source": [
    "OnePiece.extension.dict.write(js, di)"
   ]
  },
  {
   "cell_type": "code",
   "execution_count": 18,
   "id": "83445e66",
   "metadata": {
    "execution": {
     "iopub.execute_input": "2022-02-10T17:15:53.065045Z",
     "iopub.status.busy": "2022-02-10T17:15:53.064519Z",
     "iopub.status.idle": "2022-02-10T17:15:53.083241Z",
     "shell.execute_reply": "2022-02-10T17:15:53.082898Z"
    }
   },
   "outputs": [
    {
     "name": "stdout",
     "output_type": "stream",
     "text": [
      "{\n",
      "   \"Crews\": [\n",
      "      \"Luffy\",\n",
      "      \"Zoro\",\n",
      "      \"Nami\",\n",
      "      \"Usopp\",\n",
      "      \"Sanji\",\n",
      "      \"Chopper\",\n",
      "      \"Robin\",\n",
      "      \"Franky\",\n",
      "      \"Brook\",\n",
      "      \"Jinbe\"\n",
      "   ],\n",
      "   \"episode\": 1030,\n",
      "   \"Luffy\": \"Pirate King\"\n",
      "}\n"
     ]
    }
   ],
   "source": [
    "OnePiece.extension.dict.view(OnePiece.extension.dict.read(js))"
   ]
  }
 ],
 "metadata": {
  "@webio": {
   "lastCommId": null,
   "lastKernelId": null
  },
  "kernelspec": {
   "display_name": "Julia 1.7.2",
   "language": "julia",
   "name": "julia-1.7"
  },
  "language_info": {
   "file_extension": ".jl",
   "mimetype": "application/julia",
   "name": "julia",
   "version": "1.7.2"
  }
 },
 "nbformat": 4,
 "nbformat_minor": 5
}
