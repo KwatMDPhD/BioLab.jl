{
 "cells": [
  {
   "cell_type": "code",
   "execution_count": null,
   "id": "34e4701e",
   "metadata": {
    "execution": {
     "iopub.execute_input": "2022-02-08T08:32:05.037212Z",
     "iopub.status.busy": "2022-02-08T08:32:04.638281Z",
     "iopub.status.idle": "2022-02-08T08:32:05.857584Z",
     "shell.execute_reply": "2022-02-08T08:32:05.856889Z"
    }
   },
   "outputs": [],
   "source": [
    "using Revise\n",
    "using BenchmarkTools"
   ]
  },
  {
   "cell_type": "code",
   "execution_count": null,
   "id": "77d0f5bf",
   "metadata": {
    "execution": {
     "iopub.execute_input": "2022-02-08T08:32:05.859825Z",
     "iopub.status.busy": "2022-02-08T08:32:05.859318Z",
     "iopub.status.idle": "2022-02-08T08:32:17.584374Z",
     "shell.execute_reply": "2022-02-08T08:32:17.583802Z"
    }
   },
   "outputs": [],
   "source": [
    "using OnePiece"
   ]
  },
  {
   "cell_type": "markdown",
   "id": "f90f0b98",
   "metadata": {},
   "source": [
    "## get_longest_common_prefix"
   ]
  },
  {
   "cell_type": "code",
   "execution_count": null,
   "id": "750c86a8",
   "metadata": {
    "execution": {
     "iopub.execute_input": "2022-02-08T08:32:19.262809Z",
     "iopub.status.busy": "2022-02-08T08:32:17.585773Z",
     "iopub.status.idle": "2022-02-08T08:32:21.189754Z",
     "shell.execute_reply": "2022-02-08T08:32:21.189088Z"
    }
   },
   "outputs": [],
   "source": [
    "for ve_ in [\n",
    "    [[], []],\n",
    "    [[1], [1, 2]],\n",
    "    [[1.0], [1.0, 2.0]],\n",
    "    [['a'], ['a', 'b']],\n",
    "    [[\"a\"], [\"a\", \"b\"]],\n",
    "    [[1, 2, 3], [1, 4, 5]],\n",
    "]\n",
    "\n",
    "    println(OnePiece.extension.vector.get_longest_common_prefix(ve_))\n",
    "\n",
    "end"
   ]
  },
  {
   "cell_type": "code",
   "execution_count": null,
   "id": "1ab719fa",
   "metadata": {
    "execution": {
     "iopub.execute_input": "2022-02-08T08:32:21.191787Z",
     "iopub.status.busy": "2022-02-08T08:32:21.191115Z",
     "iopub.status.idle": "2022-02-08T08:32:21.784082Z",
     "shell.execute_reply": "2022-02-08T08:32:21.783644Z"
    }
   },
   "outputs": [],
   "source": [
    "OnePiece.extension.vector.get_longest_common_prefix([\"abc\", \"abcd\", \"a\"])"
   ]
  },
  {
   "cell_type": "markdown",
   "id": "e4943067",
   "metadata": {},
   "source": [
    "## is_in"
   ]
  },
  {
   "cell_type": "code",
   "execution_count": null,
   "id": "6f32b75e",
   "metadata": {
    "execution": {
     "iopub.execute_input": "2022-02-08T08:32:21.786133Z",
     "iopub.status.busy": "2022-02-08T08:32:21.785566Z",
     "iopub.status.idle": "2022-02-08T08:32:21.798500Z",
     "shell.execute_reply": "2022-02-08T08:32:21.797958Z"
    }
   },
   "outputs": [],
   "source": [
    "ca_ = collect(\"A23456789XJQK\")\n",
    "\n",
    "st1_ = ['1', '2', 'K']\n",
    "\n",
    ";"
   ]
  },
  {
   "cell_type": "code",
   "execution_count": null,
   "id": "7f612fb7",
   "metadata": {
    "execution": {
     "iopub.execute_input": "2022-02-08T08:32:21.800331Z",
     "iopub.status.busy": "2022-02-08T08:32:21.799715Z",
     "iopub.status.idle": "2022-02-08T08:32:22.870094Z",
     "shell.execute_reply": "2022-02-08T08:32:22.869714Z"
    }
   },
   "outputs": [],
   "source": [
    "OnePiece.extension.vector.is_in(ca_, st1_)"
   ]
  },
  {
   "cell_type": "code",
   "execution_count": null,
   "id": "6f083bf8",
   "metadata": {
    "execution": {
     "iopub.execute_input": "2022-02-08T08:32:22.871889Z",
     "iopub.status.busy": "2022-02-08T08:32:22.871301Z",
     "iopub.status.idle": "2022-02-08T08:32:23.406211Z",
     "shell.execute_reply": "2022-02-08T08:32:23.405724Z"
    }
   },
   "outputs": [],
   "source": [
    "ca_id = Dict(ca => id for (id, ca) in enumerate(ca_))\n",
    "\n",
    "OnePiece.extension.vector.is_in(ca_id, st1_)"
   ]
  },
  {
   "cell_type": "markdown",
   "id": "7892f1bc",
   "metadata": {},
   "source": [
    "## sort_like"
   ]
  },
  {
   "cell_type": "code",
   "execution_count": null,
   "id": "68bcb85b",
   "metadata": {
    "execution": {
     "iopub.execute_input": "2022-02-08T08:32:23.408450Z",
     "iopub.status.busy": "2022-02-08T08:32:23.407746Z",
     "iopub.status.idle": "2022-02-08T08:32:24.404335Z",
     "shell.execute_reply": "2022-02-08T08:32:24.403891Z"
    }
   },
   "outputs": [],
   "source": [
    "ve_ = [['a', 'e', 'K', 't'], [\"a\", \"K\", \"t\", \"w\"]]"
   ]
  },
  {
   "cell_type": "code",
   "execution_count": null,
   "id": "1810740d",
   "metadata": {
    "execution": {
     "iopub.execute_input": "2022-02-08T08:32:24.406091Z",
     "iopub.status.busy": "2022-02-08T08:32:24.405603Z",
     "iopub.status.idle": "2022-02-08T08:32:24.735297Z",
     "shell.execute_reply": "2022-02-08T08:32:24.734876Z"
    }
   },
   "outputs": [],
   "source": [
    "OnePiece.extension.vector.sort_like([[2, 4, 1, 3], ve_...])"
   ]
  },
  {
   "cell_type": "code",
   "execution_count": null,
   "id": "ab6779f9",
   "metadata": {
    "execution": {
     "iopub.execute_input": "2022-02-08T08:32:24.737136Z",
     "iopub.status.busy": "2022-02-08T08:32:24.736613Z",
     "iopub.status.idle": "2022-02-08T08:32:24.753486Z",
     "shell.execute_reply": "2022-02-08T08:32:24.752970Z"
    }
   },
   "outputs": [],
   "source": [
    "OnePiece.extension.vector.sort_like([[3, 1, 4, 2], ve_...])"
   ]
  },
  {
   "cell_type": "markdown",
   "id": "ae3e7440",
   "metadata": {},
   "source": [
    "## get_order"
   ]
  },
  {
   "cell_type": "code",
   "execution_count": null,
   "id": "b46582eb",
   "metadata": {
    "execution": {
     "iopub.execute_input": "2022-02-08T08:32:24.755487Z",
     "iopub.status.busy": "2022-02-08T08:32:24.754906Z",
     "iopub.status.idle": "2022-02-08T08:32:25.375424Z",
     "shell.execute_reply": "2022-02-08T08:32:25.374850Z"
    }
   },
   "outputs": [],
   "source": [
    "al_ = collect(\"abcdefghijklmnopqrstuvwxyz\")\n",
    "\n",
    "OnePiece.extension.vector.get_order(al_, \"aiko!\")"
   ]
  }
 ],
 "metadata": {
  "@webio": {
   "lastCommId": "4a00e23f06e24ca18d3d19566aef8227",
   "lastKernelId": "ae0b5cc2-7385-4f97-a996-3ae50bc9cffa"
  },
  "kernelspec": {
   "display_name": "Julia 1.7.1",
   "language": "julia",
   "name": "julia-1.7"
  },
  "language_info": {
   "file_extension": ".jl",
   "mimetype": "application/julia",
   "name": "julia",
   "version": "1.7.1"
  }
 },
 "nbformat": 4,
 "nbformat_minor": 5
}
