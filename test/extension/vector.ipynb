{
 "cells": [
  {
   "cell_type": "code",
   "execution_count": null,
   "id": "017464da",
   "metadata": {
    "execution": {
     "iopub.execute_input": "2022-02-14T16:12:00.726324Z",
     "iopub.status.busy": "2022-02-14T16:12:00.339489Z",
     "iopub.status.idle": "2022-02-14T16:12:00.927441Z",
     "shell.execute_reply": "2022-02-14T16:12:00.926923Z"
    }
   },
   "outputs": [],
   "source": [
    "TE = joinpath(tempdir(), \"OnePiece.test\")\n",
    "\n",
    "if isdir(TE)\n",
    "\n",
    "    rm(TE, recursive = true)\n",
    "\n",
    "    println(\"Removed \", TE, \".\")\n",
    "\n",
    "end\n",
    "\n",
    "mkdir(TE)\n",
    "\n",
    "println(\"Made \", TE, \".\")"
   ]
  },
  {
   "cell_type": "code",
   "execution_count": null,
   "id": "34e4701e",
   "metadata": {
    "execution": {
     "iopub.execute_input": "2022-02-14T16:12:00.929202Z",
     "iopub.status.busy": "2022-02-14T16:12:00.928706Z",
     "iopub.status.idle": "2022-02-14T16:12:05.142195Z",
     "shell.execute_reply": "2022-02-14T16:12:05.141684Z"
    }
   },
   "outputs": [],
   "source": [
    "using OnePiece"
   ]
  },
  {
   "cell_type": "markdown",
   "id": "b92a3da9",
   "metadata": {},
   "source": [
    "---"
   ]
  },
  {
   "cell_type": "markdown",
   "id": "f90f0b98",
   "metadata": {},
   "source": [
    "## get_longest_common_prefix"
   ]
  },
  {
   "cell_type": "code",
   "execution_count": null,
   "id": "750c86a8",
   "metadata": {
    "execution": {
     "iopub.execute_input": "2022-02-14T16:12:05.496027Z",
     "iopub.status.busy": "2022-02-14T16:12:05.143649Z",
     "iopub.status.idle": "2022-02-14T16:12:06.773545Z",
     "shell.execute_reply": "2022-02-14T16:12:06.773045Z"
    }
   },
   "outputs": [],
   "source": [
    "for ve_ in [\n",
    "    [[], []],\n",
    "    [[1], [1, 2]],\n",
    "    [[1.0], [1.0, 2.0]],\n",
    "    [['a'], ['a', 'b']],\n",
    "    [[\"a\"], [\"a\", \"b\"]],\n",
    "    [[1, 2, 3], [1, 4, 5]],\n",
    "]\n",
    "\n",
    "    println(OnePiece.extension.vector.get_longest_common_prefix(ve_))\n",
    "\n",
    "end"
   ]
  },
  {
   "cell_type": "code",
   "execution_count": null,
   "id": "1ab719fa",
   "metadata": {
    "execution": {
     "iopub.execute_input": "2022-02-14T16:12:06.775514Z",
     "iopub.status.busy": "2022-02-14T16:12:06.775014Z",
     "iopub.status.idle": "2022-02-14T16:12:07.421824Z",
     "shell.execute_reply": "2022-02-14T16:12:07.421437Z"
    }
   },
   "outputs": [],
   "source": [
    "OnePiece.extension.vector.get_longest_common_prefix([\"abc\", \"abcd\", \"a\"])"
   ]
  },
  {
   "cell_type": "markdown",
   "id": "e4943067",
   "metadata": {},
   "source": [
    "## is_in"
   ]
  },
  {
   "cell_type": "code",
   "execution_count": null,
   "id": "6f32b75e",
   "metadata": {
    "execution": {
     "iopub.execute_input": "2022-02-14T16:12:07.423982Z",
     "iopub.status.busy": "2022-02-14T16:12:07.423167Z",
     "iopub.status.idle": "2022-02-14T16:12:07.424861Z",
     "shell.execute_reply": "2022-02-14T16:12:07.424496Z"
    }
   },
   "outputs": [],
   "source": [
    "ca_ = collect(\"A23456789XJQK\")\n",
    "\n",
    "st1_ = ['1', '2', 'K']\n",
    "\n",
    ";"
   ]
  },
  {
   "cell_type": "code",
   "execution_count": null,
   "id": "7f612fb7",
   "metadata": {
    "execution": {
     "iopub.execute_input": "2022-02-14T16:12:07.426557Z",
     "iopub.status.busy": "2022-02-14T16:12:07.426068Z",
     "iopub.status.idle": "2022-02-14T16:12:08.396335Z",
     "shell.execute_reply": "2022-02-14T16:12:08.395927Z"
    }
   },
   "outputs": [],
   "source": [
    "OnePiece.extension.vector.is_in(ca_, st1_)"
   ]
  },
  {
   "cell_type": "code",
   "execution_count": null,
   "id": "6f083bf8",
   "metadata": {
    "execution": {
     "iopub.execute_input": "2022-02-14T16:12:08.398192Z",
     "iopub.status.busy": "2022-02-14T16:12:08.397676Z",
     "iopub.status.idle": "2022-02-14T16:12:08.553611Z",
     "shell.execute_reply": "2022-02-14T16:12:08.553215Z"
    }
   },
   "outputs": [],
   "source": [
    "ca_id = Dict(ca => id for (id, ca) in enumerate(ca_))\n",
    "\n",
    "OnePiece.extension.vector.is_in(ca_id, st1_)"
   ]
  },
  {
   "cell_type": "markdown",
   "id": "7892f1bc",
   "metadata": {},
   "source": [
    "## sort_like"
   ]
  },
  {
   "cell_type": "code",
   "execution_count": null,
   "id": "68bcb85b",
   "metadata": {
    "execution": {
     "iopub.execute_input": "2022-02-14T16:12:08.555500Z",
     "iopub.status.busy": "2022-02-14T16:12:08.554990Z",
     "iopub.status.idle": "2022-02-14T16:12:09.529140Z",
     "shell.execute_reply": "2022-02-14T16:12:09.528669Z"
    }
   },
   "outputs": [],
   "source": [
    "ve_ = [['a', 'e', 'K', 't'], [\"a\", \"K\", \"t\", \"w\"]]"
   ]
  },
  {
   "cell_type": "code",
   "execution_count": null,
   "id": "1810740d",
   "metadata": {
    "execution": {
     "iopub.execute_input": "2022-02-14T16:12:09.531076Z",
     "iopub.status.busy": "2022-02-14T16:12:09.530494Z",
     "iopub.status.idle": "2022-02-14T16:12:09.978462Z",
     "shell.execute_reply": "2022-02-14T16:12:09.978004Z"
    }
   },
   "outputs": [],
   "source": [
    "OnePiece.extension.vector.sort_like([[2, 4, 1, 3], ve_...])"
   ]
  },
  {
   "cell_type": "code",
   "execution_count": null,
   "id": "ab6779f9",
   "metadata": {
    "execution": {
     "iopub.execute_input": "2022-02-14T16:12:09.980359Z",
     "iopub.status.busy": "2022-02-14T16:12:09.979790Z",
     "iopub.status.idle": "2022-02-14T16:12:09.985334Z",
     "shell.execute_reply": "2022-02-14T16:12:09.984899Z"
    }
   },
   "outputs": [],
   "source": [
    "OnePiece.extension.vector.sort_like([[3, 1, 4, 2], ve_...])"
   ]
  },
  {
   "cell_type": "markdown",
   "id": "ae3e7440",
   "metadata": {},
   "source": [
    "## get_order"
   ]
  },
  {
   "cell_type": "code",
   "execution_count": null,
   "id": "b46582eb",
   "metadata": {
    "execution": {
     "iopub.execute_input": "2022-02-14T16:12:09.987233Z",
     "iopub.status.busy": "2022-02-14T16:12:09.986650Z",
     "iopub.status.idle": "2022-02-14T16:12:10.726551Z",
     "shell.execute_reply": "2022-02-14T16:12:10.726054Z"
    }
   },
   "outputs": [],
   "source": [
    "al_ = collect(\"abcdefghijklmnopqrstuvwxyz\")\n",
    "\n",
    "OnePiece.extension.vector.get_order(al_, \"aiko!\")"
   ]
  },
  {
   "cell_type": "markdown",
   "id": "3f396855",
   "metadata": {},
   "source": [
    "---"
   ]
  },
  {
   "cell_type": "code",
   "execution_count": null,
   "id": "b4af2023",
   "metadata": {
    "execution": {
     "iopub.execute_input": "2022-02-14T16:12:10.728567Z",
     "iopub.status.busy": "2022-02-14T16:12:10.727930Z",
     "iopub.status.idle": "2022-02-14T16:12:10.730564Z",
     "shell.execute_reply": "2022-02-14T16:12:10.730095Z"
    }
   },
   "outputs": [],
   "source": [
    "if isdir(TE)\n",
    "\n",
    "    rm(TE, recursive = true)\n",
    "\n",
    "    println(\"Removed \", TE, \".\")\n",
    "\n",
    "end"
   ]
  }
 ],
 "metadata": {
  "kernelspec": {
   "display_name": "Julia 1.7.2",
   "language": "julia",
   "name": "julia-1.7"
  },
  "language_info": {
   "file_extension": ".jl",
   "mimetype": "application/julia",
   "name": "julia",
   "version": "1.7.2"
  }
 },
 "nbformat": 4,
 "nbformat_minor": 5
}
