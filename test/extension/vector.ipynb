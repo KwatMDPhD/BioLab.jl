{
 "cells": [
  {
   "cell_type": "code",
   "execution_count": null,
   "id": "017464da",
   "metadata": {
    "execution": {
     "iopub.execute_input": "2022-02-14T15:17:28.681761Z",
     "iopub.status.busy": "2022-02-14T15:17:28.347735Z",
     "iopub.status.idle": "2022-02-14T15:17:28.866868Z",
     "shell.execute_reply": "2022-02-14T15:17:28.866375Z"
    }
   },
   "outputs": [],
   "source": [
    "TE = joinpath(tempdir(), \"OnePiece.test\")\n",
    "\n",
    "if isdir(TE)\n",
    "\n",
    "    rm(TE, recursive = true)\n",
    "\n",
    "    println(\"Removed \", TE, \".\")\n",
    "\n",
    "end\n",
    "\n",
    "mkdir(TE)\n",
    "\n",
    "println(\"Made \", TE, \".\")"
   ]
  },
  {
   "cell_type": "code",
   "execution_count": null,
   "id": "34e4701e",
   "metadata": {
    "execution": {
     "iopub.execute_input": "2022-02-14T15:17:28.868729Z",
     "iopub.status.busy": "2022-02-14T15:17:28.868224Z",
     "iopub.status.idle": "2022-02-14T15:17:33.082828Z",
     "shell.execute_reply": "2022-02-14T15:17:33.082374Z"
    }
   },
   "outputs": [],
   "source": [
    "using OnePiece"
   ]
  },
  {
   "cell_type": "markdown",
   "id": "b92a3da9",
   "metadata": {},
   "source": [
    "---"
   ]
  },
  {
   "cell_type": "markdown",
   "id": "f90f0b98",
   "metadata": {},
   "source": [
    "## get_longest_common_prefix"
   ]
  },
  {
   "cell_type": "code",
   "execution_count": null,
   "id": "750c86a8",
   "metadata": {
    "execution": {
     "iopub.execute_input": "2022-02-14T15:17:33.386657Z",
     "iopub.status.busy": "2022-02-14T15:17:33.084282Z",
     "iopub.status.idle": "2022-02-14T15:17:34.568480Z",
     "shell.execute_reply": "2022-02-14T15:17:34.568028Z"
    }
   },
   "outputs": [],
   "source": [
    "for ve_ in [\n",
    "    [[], []],\n",
    "    [[1], [1, 2]],\n",
    "    [[1.0], [1.0, 2.0]],\n",
    "    [['a'], ['a', 'b']],\n",
    "    [[\"a\"], [\"a\", \"b\"]],\n",
    "    [[1, 2, 3], [1, 4, 5]],\n",
    "]\n",
    "\n",
    "    println(OnePiece.extension.vector.get_longest_common_prefix(ve_))\n",
    "\n",
    "end"
   ]
  },
  {
   "cell_type": "code",
   "execution_count": null,
   "id": "1ab719fa",
   "metadata": {
    "execution": {
     "iopub.execute_input": "2022-02-14T15:17:34.570347Z",
     "iopub.status.busy": "2022-02-14T15:17:34.569849Z",
     "iopub.status.idle": "2022-02-14T15:17:35.254665Z",
     "shell.execute_reply": "2022-02-14T15:17:35.254208Z"
    }
   },
   "outputs": [],
   "source": [
    "OnePiece.extension.vector.get_longest_common_prefix([\"abc\", \"abcd\", \"a\"])"
   ]
  },
  {
   "cell_type": "markdown",
   "id": "e4943067",
   "metadata": {},
   "source": [
    "## is_in"
   ]
  },
  {
   "cell_type": "code",
   "execution_count": null,
   "id": "6f32b75e",
   "metadata": {
    "execution": {
     "iopub.execute_input": "2022-02-14T15:17:35.256838Z",
     "iopub.status.busy": "2022-02-14T15:17:35.256068Z",
     "iopub.status.idle": "2022-02-14T15:17:35.257793Z",
     "shell.execute_reply": "2022-02-14T15:17:35.257355Z"
    }
   },
   "outputs": [],
   "source": [
    "ca_ = collect(\"A23456789XJQK\")\n",
    "\n",
    "st1_ = ['1', '2', 'K']\n",
    "\n",
    ";"
   ]
  },
  {
   "cell_type": "code",
   "execution_count": null,
   "id": "7f612fb7",
   "metadata": {
    "execution": {
     "iopub.execute_input": "2022-02-14T15:17:35.259897Z",
     "iopub.status.busy": "2022-02-14T15:17:35.259128Z",
     "iopub.status.idle": "2022-02-14T15:17:36.258099Z",
     "shell.execute_reply": "2022-02-14T15:17:36.257714Z"
    }
   },
   "outputs": [],
   "source": [
    "OnePiece.extension.vector.is_in(ca_, st1_)"
   ]
  },
  {
   "cell_type": "code",
   "execution_count": null,
   "id": "6f083bf8",
   "metadata": {
    "execution": {
     "iopub.execute_input": "2022-02-14T15:17:36.260543Z",
     "iopub.status.busy": "2022-02-14T15:17:36.259585Z",
     "iopub.status.idle": "2022-02-14T15:17:36.391185Z",
     "shell.execute_reply": "2022-02-14T15:17:36.390809Z"
    }
   },
   "outputs": [],
   "source": [
    "ca_id = Dict(ca => id for (id, ca) in enumerate(ca_))\n",
    "\n",
    "OnePiece.extension.vector.is_in(ca_id, st1_)"
   ]
  },
  {
   "cell_type": "markdown",
   "id": "7892f1bc",
   "metadata": {},
   "source": [
    "## sort_like"
   ]
  },
  {
   "cell_type": "code",
   "execution_count": null,
   "id": "68bcb85b",
   "metadata": {
    "execution": {
     "iopub.execute_input": "2022-02-14T15:17:36.393114Z",
     "iopub.status.busy": "2022-02-14T15:17:36.392610Z",
     "iopub.status.idle": "2022-02-14T15:17:37.274271Z",
     "shell.execute_reply": "2022-02-14T15:17:37.273890Z"
    }
   },
   "outputs": [],
   "source": [
    "ve_ = [['a', 'e', 'K', 't'], [\"a\", \"K\", \"t\", \"w\"]]"
   ]
  },
  {
   "cell_type": "code",
   "execution_count": null,
   "id": "1810740d",
   "metadata": {
    "execution": {
     "iopub.execute_input": "2022-02-14T15:17:37.276103Z",
     "iopub.status.busy": "2022-02-14T15:17:37.275586Z",
     "iopub.status.idle": "2022-02-14T15:17:37.653140Z",
     "shell.execute_reply": "2022-02-14T15:17:37.652765Z"
    }
   },
   "outputs": [],
   "source": [
    "OnePiece.extension.vector.sort_like([[2, 4, 1, 3], ve_...])"
   ]
  },
  {
   "cell_type": "code",
   "execution_count": null,
   "id": "ab6779f9",
   "metadata": {
    "execution": {
     "iopub.execute_input": "2022-02-14T15:17:37.655017Z",
     "iopub.status.busy": "2022-02-14T15:17:37.654539Z",
     "iopub.status.idle": "2022-02-14T15:17:37.659396Z",
     "shell.execute_reply": "2022-02-14T15:17:37.659026Z"
    }
   },
   "outputs": [],
   "source": [
    "OnePiece.extension.vector.sort_like([[3, 1, 4, 2], ve_...])"
   ]
  },
  {
   "cell_type": "markdown",
   "id": "ae3e7440",
   "metadata": {},
   "source": [
    "## get_order"
   ]
  },
  {
   "cell_type": "code",
   "execution_count": null,
   "id": "b46582eb",
   "metadata": {
    "execution": {
     "iopub.execute_input": "2022-02-14T15:17:37.661322Z",
     "iopub.status.busy": "2022-02-14T15:17:37.660756Z",
     "iopub.status.idle": "2022-02-14T15:17:38.248668Z",
     "shell.execute_reply": "2022-02-14T15:17:38.248223Z"
    }
   },
   "outputs": [],
   "source": [
    "al_ = collect(\"abcdefghijklmnopqrstuvwxyz\")\n",
    "\n",
    "OnePiece.extension.vector.get_order(al_, \"aiko!\")"
   ]
  },
  {
   "cell_type": "markdown",
   "id": "3f396855",
   "metadata": {},
   "source": [
    "---"
   ]
  },
  {
   "cell_type": "code",
   "execution_count": null,
   "id": "b4af2023",
   "metadata": {
    "execution": {
     "iopub.execute_input": "2022-02-14T15:17:38.250993Z",
     "iopub.status.busy": "2022-02-14T15:17:38.250151Z",
     "iopub.status.idle": "2022-02-14T15:17:38.253043Z",
     "shell.execute_reply": "2022-02-14T15:17:38.252624Z"
    }
   },
   "outputs": [],
   "source": [
    "if isdir(TE)\n",
    "\n",
    "    rm(TE, recursive = true)\n",
    "\n",
    "    println(\"Removed \", TE, \".\")\n",
    "\n",
    "end"
   ]
  }
 ],
 "metadata": {
  "kernelspec": {
   "display_name": "Julia 1.7.2",
   "language": "julia",
   "name": "julia-1.7"
  },
  "language_info": {
   "file_extension": ".jl",
   "mimetype": "application/julia",
   "name": "julia",
   "version": "1.7.2"
  }
 },
 "nbformat": 4,
 "nbformat_minor": 5
}
