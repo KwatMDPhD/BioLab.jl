{
 "cells": [
  {
   "cell_type": "code",
   "execution_count": null,
   "id": "34e4701e",
   "metadata": {
    "execution": {
     "iopub.execute_input": "2022-02-08T11:27:13.416319Z",
     "iopub.status.busy": "2022-02-08T11:27:13.020235Z",
     "iopub.status.idle": "2022-02-08T11:27:14.227416Z",
     "shell.execute_reply": "2022-02-08T11:27:14.226884Z"
    }
   },
   "outputs": [],
   "source": [
    "using Revise\n",
    "using BenchmarkTools"
   ]
  },
  {
   "cell_type": "code",
   "execution_count": null,
   "id": "77d0f5bf",
   "metadata": {
    "execution": {
     "iopub.execute_input": "2022-02-08T11:27:14.229364Z",
     "iopub.status.busy": "2022-02-08T11:27:14.228866Z",
     "iopub.status.idle": "2022-02-08T11:27:25.302271Z",
     "shell.execute_reply": "2022-02-08T11:27:25.301735Z"
    }
   },
   "outputs": [],
   "source": [
    "using OnePiece"
   ]
  },
  {
   "cell_type": "markdown",
   "id": "f90f0b98",
   "metadata": {},
   "source": [
    "## get_longest_common_prefix"
   ]
  },
  {
   "cell_type": "code",
   "execution_count": null,
   "id": "750c86a8",
   "metadata": {
    "execution": {
     "iopub.execute_input": "2022-02-08T11:27:26.899420Z",
     "iopub.status.busy": "2022-02-08T11:27:25.303736Z",
     "iopub.status.idle": "2022-02-08T11:27:28.771695Z",
     "shell.execute_reply": "2022-02-08T11:27:28.771230Z"
    }
   },
   "outputs": [],
   "source": [
    "for ve_ in [\n",
    "    [[], []],\n",
    "    [[1], [1, 2]],\n",
    "    [[1.0], [1.0, 2.0]],\n",
    "    [['a'], ['a', 'b']],\n",
    "    [[\"a\"], [\"a\", \"b\"]],\n",
    "    [[1, 2, 3], [1, 4, 5]],\n",
    "]\n",
    "\n",
    "    println(OnePiece.extension.vector.get_longest_common_prefix(ve_))\n",
    "\n",
    "end"
   ]
  },
  {
   "cell_type": "code",
   "execution_count": null,
   "id": "1ab719fa",
   "metadata": {
    "execution": {
     "iopub.execute_input": "2022-02-08T11:27:28.773977Z",
     "iopub.status.busy": "2022-02-08T11:27:28.773167Z",
     "iopub.status.idle": "2022-02-08T11:27:29.330763Z",
     "shell.execute_reply": "2022-02-08T11:27:29.330329Z"
    }
   },
   "outputs": [],
   "source": [
    "OnePiece.extension.vector.get_longest_common_prefix([\"abc\", \"abcd\", \"a\"])"
   ]
  },
  {
   "cell_type": "markdown",
   "id": "e4943067",
   "metadata": {},
   "source": [
    "## is_in"
   ]
  },
  {
   "cell_type": "code",
   "execution_count": null,
   "id": "6f32b75e",
   "metadata": {
    "execution": {
     "iopub.execute_input": "2022-02-08T11:27:29.332579Z",
     "iopub.status.busy": "2022-02-08T11:27:29.332070Z",
     "iopub.status.idle": "2022-02-08T11:27:29.345650Z",
     "shell.execute_reply": "2022-02-08T11:27:29.344668Z"
    }
   },
   "outputs": [],
   "source": [
    "ca_ = collect(\"A23456789XJQK\")\n",
    "\n",
    "st1_ = ['1', '2', 'K']\n",
    "\n",
    ";"
   ]
  },
  {
   "cell_type": "code",
   "execution_count": null,
   "id": "7f612fb7",
   "metadata": {
    "execution": {
     "iopub.execute_input": "2022-02-08T11:27:29.347810Z",
     "iopub.status.busy": "2022-02-08T11:27:29.347184Z",
     "iopub.status.idle": "2022-02-08T11:27:30.398502Z",
     "shell.execute_reply": "2022-02-08T11:27:30.398096Z"
    }
   },
   "outputs": [],
   "source": [
    "OnePiece.extension.vector.is_in(ca_, st1_)"
   ]
  },
  {
   "cell_type": "code",
   "execution_count": null,
   "id": "6f083bf8",
   "metadata": {
    "execution": {
     "iopub.execute_input": "2022-02-08T11:27:30.400406Z",
     "iopub.status.busy": "2022-02-08T11:27:30.399838Z",
     "iopub.status.idle": "2022-02-08T11:27:30.919435Z",
     "shell.execute_reply": "2022-02-08T11:27:30.919056Z"
    }
   },
   "outputs": [],
   "source": [
    "ca_id = Dict(ca => id for (id, ca) in enumerate(ca_))\n",
    "\n",
    "OnePiece.extension.vector.is_in(ca_id, st1_)"
   ]
  },
  {
   "cell_type": "markdown",
   "id": "7892f1bc",
   "metadata": {},
   "source": [
    "## sort_like"
   ]
  },
  {
   "cell_type": "code",
   "execution_count": null,
   "id": "68bcb85b",
   "metadata": {
    "execution": {
     "iopub.execute_input": "2022-02-08T11:27:30.921312Z",
     "iopub.status.busy": "2022-02-08T11:27:30.920813Z",
     "iopub.status.idle": "2022-02-08T11:27:31.906467Z",
     "shell.execute_reply": "2022-02-08T11:27:31.906081Z"
    }
   },
   "outputs": [],
   "source": [
    "ve_ = [['a', 'e', 'K', 't'], [\"a\", \"K\", \"t\", \"w\"]]"
   ]
  },
  {
   "cell_type": "code",
   "execution_count": null,
   "id": "1810740d",
   "metadata": {
    "execution": {
     "iopub.execute_input": "2022-02-08T11:27:31.908680Z",
     "iopub.status.busy": "2022-02-08T11:27:31.908093Z",
     "iopub.status.idle": "2022-02-08T11:27:32.230392Z",
     "shell.execute_reply": "2022-02-08T11:27:32.230003Z"
    }
   },
   "outputs": [],
   "source": [
    "OnePiece.extension.vector.sort_like([[2, 4, 1, 3], ve_...])"
   ]
  },
  {
   "cell_type": "code",
   "execution_count": null,
   "id": "ab6779f9",
   "metadata": {
    "execution": {
     "iopub.execute_input": "2022-02-08T11:27:32.232288Z",
     "iopub.status.busy": "2022-02-08T11:27:32.231799Z",
     "iopub.status.idle": "2022-02-08T11:27:32.249164Z",
     "shell.execute_reply": "2022-02-08T11:27:32.248715Z"
    }
   },
   "outputs": [],
   "source": [
    "OnePiece.extension.vector.sort_like([[3, 1, 4, 2], ve_...])"
   ]
  },
  {
   "cell_type": "markdown",
   "id": "ae3e7440",
   "metadata": {},
   "source": [
    "## get_order"
   ]
  },
  {
   "cell_type": "code",
   "execution_count": null,
   "id": "b46582eb",
   "metadata": {
    "execution": {
     "iopub.execute_input": "2022-02-08T11:27:32.251140Z",
     "iopub.status.busy": "2022-02-08T11:27:32.250504Z",
     "iopub.status.idle": "2022-02-08T11:27:32.857221Z",
     "shell.execute_reply": "2022-02-08T11:27:32.856836Z"
    }
   },
   "outputs": [],
   "source": [
    "al_ = collect(\"abcdefghijklmnopqrstuvwxyz\")\n",
    "\n",
    "OnePiece.extension.vector.get_order(al_, \"aiko!\")"
   ]
  }
 ],
 "metadata": {
  "@webio": {
   "lastCommId": "4a00e23f06e24ca18d3d19566aef8227",
   "lastKernelId": "ae0b5cc2-7385-4f97-a996-3ae50bc9cffa"
  },
  "kernelspec": {
   "display_name": "Julia 1.7.1",
   "language": "julia",
   "name": "julia-1.7"
  },
  "language_info": {
   "file_extension": ".jl",
   "mimetype": "application/julia",
   "name": "julia",
   "version": "1.7.1"
  }
 },
 "nbformat": 4,
 "nbformat_minor": 5
}
