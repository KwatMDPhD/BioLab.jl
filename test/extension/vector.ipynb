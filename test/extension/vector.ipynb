{
 "cells": [
  {
   "cell_type": "code",
   "execution_count": null,
   "id": "017464da",
   "metadata": {
    "execution": {
     "iopub.execute_input": "2022-02-11T19:56:50.099056Z",
     "iopub.status.busy": "2022-02-11T19:56:49.701731Z",
     "iopub.status.idle": "2022-02-11T19:56:50.314564Z",
     "shell.execute_reply": "2022-02-11T19:56:50.313984Z"
    }
   },
   "outputs": [],
   "source": [
    "TE = joinpath(tempdir(), \"OnePiece.test\")\n",
    "\n",
    "if isdir(TE)\n",
    "\n",
    "    rm(TE, recursive = true)\n",
    "\n",
    "    println(\"Removed \", TE, \".\")\n",
    "\n",
    "end\n",
    "\n",
    "mkdir(TE)\n",
    "\n",
    "println(\"Made \", TE, \".\")"
   ]
  },
  {
   "cell_type": "code",
   "execution_count": null,
   "id": "34e4701e",
   "metadata": {
    "execution": {
     "iopub.execute_input": "2022-02-11T19:56:50.316575Z",
     "iopub.status.busy": "2022-02-11T19:56:50.315983Z",
     "iopub.status.idle": "2022-02-11T19:56:55.094159Z",
     "shell.execute_reply": "2022-02-11T19:56:55.093712Z"
    }
   },
   "outputs": [],
   "source": [
    "using OnePiece"
   ]
  },
  {
   "cell_type": "markdown",
   "id": "b92a3da9",
   "metadata": {},
   "source": [
    "---"
   ]
  },
  {
   "cell_type": "markdown",
   "id": "f90f0b98",
   "metadata": {},
   "source": [
    "## get_longest_common_prefix"
   ]
  },
  {
   "cell_type": "code",
   "execution_count": null,
   "id": "750c86a8",
   "metadata": {
    "execution": {
     "iopub.execute_input": "2022-02-11T19:56:55.453453Z",
     "iopub.status.busy": "2022-02-11T19:56:55.095650Z",
     "iopub.status.idle": "2022-02-11T19:56:56.831473Z",
     "shell.execute_reply": "2022-02-11T19:56:56.830986Z"
    }
   },
   "outputs": [],
   "source": [
    "for ve_ in [\n",
    "    [[], []],\n",
    "    [[1], [1, 2]],\n",
    "    [[1.0], [1.0, 2.0]],\n",
    "    [['a'], ['a', 'b']],\n",
    "    [[\"a\"], [\"a\", \"b\"]],\n",
    "    [[1, 2, 3], [1, 4, 5]],\n",
    "]\n",
    "\n",
    "    println(OnePiece.extension.vector.get_longest_common_prefix(ve_))\n",
    "\n",
    "end"
   ]
  },
  {
   "cell_type": "code",
   "execution_count": null,
   "id": "1ab719fa",
   "metadata": {
    "execution": {
     "iopub.execute_input": "2022-02-11T19:56:56.833487Z",
     "iopub.status.busy": "2022-02-11T19:56:56.832833Z",
     "iopub.status.idle": "2022-02-11T19:56:57.589063Z",
     "shell.execute_reply": "2022-02-11T19:56:57.588610Z"
    }
   },
   "outputs": [],
   "source": [
    "OnePiece.extension.vector.get_longest_common_prefix([\"abc\", \"abcd\", \"a\"])"
   ]
  },
  {
   "cell_type": "markdown",
   "id": "e4943067",
   "metadata": {},
   "source": [
    "## is_in"
   ]
  },
  {
   "cell_type": "code",
   "execution_count": null,
   "id": "6f32b75e",
   "metadata": {
    "execution": {
     "iopub.execute_input": "2022-02-11T19:56:57.591325Z",
     "iopub.status.busy": "2022-02-11T19:56:57.590576Z",
     "iopub.status.idle": "2022-02-11T19:56:57.592417Z",
     "shell.execute_reply": "2022-02-11T19:56:57.591998Z"
    }
   },
   "outputs": [],
   "source": [
    "ca_ = collect(\"A23456789XJQK\")\n",
    "\n",
    "st1_ = ['1', '2', 'K']\n",
    "\n",
    ";"
   ]
  },
  {
   "cell_type": "code",
   "execution_count": null,
   "id": "7f612fb7",
   "metadata": {
    "execution": {
     "iopub.execute_input": "2022-02-11T19:56:57.594306Z",
     "iopub.status.busy": "2022-02-11T19:56:57.593730Z",
     "iopub.status.idle": "2022-02-11T19:56:58.653995Z",
     "shell.execute_reply": "2022-02-11T19:56:58.653470Z"
    }
   },
   "outputs": [],
   "source": [
    "OnePiece.extension.vector.is_in(ca_, st1_)"
   ]
  },
  {
   "cell_type": "code",
   "execution_count": null,
   "id": "6f083bf8",
   "metadata": {
    "execution": {
     "iopub.execute_input": "2022-02-11T19:56:58.655985Z",
     "iopub.status.busy": "2022-02-11T19:56:58.655342Z",
     "iopub.status.idle": "2022-02-11T19:56:58.816594Z",
     "shell.execute_reply": "2022-02-11T19:56:58.816137Z"
    }
   },
   "outputs": [],
   "source": [
    "ca_id = Dict(ca => id for (id, ca) in enumerate(ca_))\n",
    "\n",
    "OnePiece.extension.vector.is_in(ca_id, st1_)"
   ]
  },
  {
   "cell_type": "markdown",
   "id": "7892f1bc",
   "metadata": {},
   "source": [
    "## sort_like"
   ]
  },
  {
   "cell_type": "code",
   "execution_count": null,
   "id": "68bcb85b",
   "metadata": {
    "execution": {
     "iopub.execute_input": "2022-02-11T19:56:58.818741Z",
     "iopub.status.busy": "2022-02-11T19:56:58.818129Z",
     "iopub.status.idle": "2022-02-11T19:56:59.839629Z",
     "shell.execute_reply": "2022-02-11T19:56:59.839170Z"
    }
   },
   "outputs": [],
   "source": [
    "ve_ = [['a', 'e', 'K', 't'], [\"a\", \"K\", \"t\", \"w\"]]"
   ]
  },
  {
   "cell_type": "code",
   "execution_count": null,
   "id": "1810740d",
   "metadata": {
    "execution": {
     "iopub.execute_input": "2022-02-11T19:56:59.841567Z",
     "iopub.status.busy": "2022-02-11T19:56:59.840983Z",
     "iopub.status.idle": "2022-02-11T19:57:00.310499Z",
     "shell.execute_reply": "2022-02-11T19:57:00.310034Z"
    }
   },
   "outputs": [],
   "source": [
    "OnePiece.extension.vector.sort_like([[2, 4, 1, 3], ve_...])"
   ]
  },
  {
   "cell_type": "code",
   "execution_count": null,
   "id": "ab6779f9",
   "metadata": {
    "execution": {
     "iopub.execute_input": "2022-02-11T19:57:00.312429Z",
     "iopub.status.busy": "2022-02-11T19:57:00.311823Z",
     "iopub.status.idle": "2022-02-11T19:57:00.317514Z",
     "shell.execute_reply": "2022-02-11T19:57:00.317071Z"
    }
   },
   "outputs": [],
   "source": [
    "OnePiece.extension.vector.sort_like([[3, 1, 4, 2], ve_...])"
   ]
  },
  {
   "cell_type": "markdown",
   "id": "ae3e7440",
   "metadata": {},
   "source": [
    "## get_order"
   ]
  },
  {
   "cell_type": "code",
   "execution_count": null,
   "id": "b46582eb",
   "metadata": {
    "execution": {
     "iopub.execute_input": "2022-02-11T19:57:00.319750Z",
     "iopub.status.busy": "2022-02-11T19:57:00.319146Z",
     "iopub.status.idle": "2022-02-11T19:57:01.056584Z",
     "shell.execute_reply": "2022-02-11T19:57:01.055716Z"
    }
   },
   "outputs": [],
   "source": [
    "al_ = collect(\"abcdefghijklmnopqrstuvwxyz\")\n",
    "\n",
    "OnePiece.extension.vector.get_order(al_, \"aiko!\")"
   ]
  },
  {
   "cell_type": "markdown",
   "id": "3f396855",
   "metadata": {},
   "source": [
    "---"
   ]
  },
  {
   "cell_type": "code",
   "execution_count": null,
   "id": "b4af2023",
   "metadata": {
    "execution": {
     "iopub.execute_input": "2022-02-11T19:57:01.059343Z",
     "iopub.status.busy": "2022-02-11T19:57:01.058640Z",
     "iopub.status.idle": "2022-02-11T19:57:01.061977Z",
     "shell.execute_reply": "2022-02-11T19:57:01.061310Z"
    }
   },
   "outputs": [],
   "source": [
    "if isdir(TE)\n",
    "\n",
    "    rm(TE, recursive = true)\n",
    "\n",
    "    println(\"Removed \", TE, \".\")\n",
    "\n",
    "end"
   ]
  }
 ],
 "metadata": {
  "kernelspec": {
   "display_name": "Julia 1.7.2",
   "language": "julia",
   "name": "julia-1.7"
  },
  "language_info": {
   "file_extension": ".jl",
   "mimetype": "application/julia",
   "name": "julia",
   "version": "1.7.2"
  }
 },
 "nbformat": 4,
 "nbformat_minor": 5
}
