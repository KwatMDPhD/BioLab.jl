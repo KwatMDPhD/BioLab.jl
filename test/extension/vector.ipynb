{
 "cells": [
  {
   "cell_type": "code",
   "execution_count": null,
   "id": "017464da",
   "metadata": {
    "execution": {
     "iopub.execute_input": "2022-02-14T16:45:52.722244Z",
     "iopub.status.busy": "2022-02-14T16:45:52.255067Z",
     "iopub.status.idle": "2022-02-14T16:45:52.977668Z",
     "shell.execute_reply": "2022-02-14T16:45:52.976989Z"
    }
   },
   "outputs": [],
   "source": [
    "TE = joinpath(tempdir(), \"OnePiece.test\")\n",
    "\n",
    "if isdir(TE)\n",
    "\n",
    "    rm(TE, recursive = true)\n",
    "\n",
    "    println(\"Removed \", TE, \".\")\n",
    "\n",
    "end\n",
    "\n",
    "mkdir(TE)\n",
    "\n",
    "println(\"Made \", TE, \".\")"
   ]
  },
  {
   "cell_type": "code",
   "execution_count": null,
   "id": "34e4701e",
   "metadata": {
    "execution": {
     "iopub.execute_input": "2022-02-14T16:45:52.979997Z",
     "iopub.status.busy": "2022-02-14T16:45:52.979319Z",
     "iopub.status.idle": "2022-02-14T16:45:58.605616Z",
     "shell.execute_reply": "2022-02-14T16:45:58.604931Z"
    }
   },
   "outputs": [],
   "source": [
    "using OnePiece"
   ]
  },
  {
   "cell_type": "markdown",
   "id": "b92a3da9",
   "metadata": {},
   "source": [
    "---"
   ]
  },
  {
   "cell_type": "markdown",
   "id": "f90f0b98",
   "metadata": {},
   "source": [
    "## get_longest_common_prefix"
   ]
  },
  {
   "cell_type": "code",
   "execution_count": null,
   "id": "750c86a8",
   "metadata": {
    "execution": {
     "iopub.execute_input": "2022-02-14T16:45:59.049665Z",
     "iopub.status.busy": "2022-02-14T16:45:58.607331Z",
     "iopub.status.idle": "2022-02-14T16:46:00.729508Z",
     "shell.execute_reply": "2022-02-14T16:46:00.728902Z"
    }
   },
   "outputs": [],
   "source": [
    "for ve_ in [\n",
    "    [[], []],\n",
    "    [[1], [1, 2]],\n",
    "    [[1.0], [1.0, 2.0]],\n",
    "    [['a'], ['a', 'b']],\n",
    "    [[\"a\"], [\"a\", \"b\"]],\n",
    "    [[1, 2, 3], [1, 4, 5]],\n",
    "]\n",
    "\n",
    "    println(OnePiece.extension.vector.get_longest_common_prefix(ve_))\n",
    "\n",
    "end"
   ]
  },
  {
   "cell_type": "code",
   "execution_count": null,
   "id": "1ab719fa",
   "metadata": {
    "execution": {
     "iopub.execute_input": "2022-02-14T16:46:00.731729Z",
     "iopub.status.busy": "2022-02-14T16:46:00.731053Z",
     "iopub.status.idle": "2022-02-14T16:46:01.688106Z",
     "shell.execute_reply": "2022-02-14T16:46:01.687561Z"
    }
   },
   "outputs": [],
   "source": [
    "OnePiece.extension.vector.get_longest_common_prefix([\"abc\", \"abcd\", \"a\"])"
   ]
  },
  {
   "cell_type": "markdown",
   "id": "e4943067",
   "metadata": {},
   "source": [
    "## is_in"
   ]
  },
  {
   "cell_type": "code",
   "execution_count": null,
   "id": "6f32b75e",
   "metadata": {
    "execution": {
     "iopub.execute_input": "2022-02-14T16:46:01.690688Z",
     "iopub.status.busy": "2022-02-14T16:46:01.689836Z",
     "iopub.status.idle": "2022-02-14T16:46:01.691908Z",
     "shell.execute_reply": "2022-02-14T16:46:01.691390Z"
    }
   },
   "outputs": [],
   "source": [
    "ca_ = collect(\"A23456789XJQK\")\n",
    "\n",
    "st1_ = ['1', '2', 'K']\n",
    "\n",
    ";"
   ]
  },
  {
   "cell_type": "code",
   "execution_count": null,
   "id": "7f612fb7",
   "metadata": {
    "execution": {
     "iopub.execute_input": "2022-02-14T16:46:01.693971Z",
     "iopub.status.busy": "2022-02-14T16:46:01.693303Z",
     "iopub.status.idle": "2022-02-14T16:46:03.036106Z",
     "shell.execute_reply": "2022-02-14T16:46:03.035523Z"
    }
   },
   "outputs": [],
   "source": [
    "OnePiece.extension.vector.is_in(ca_, st1_)"
   ]
  },
  {
   "cell_type": "code",
   "execution_count": null,
   "id": "6f083bf8",
   "metadata": {
    "execution": {
     "iopub.execute_input": "2022-02-14T16:46:03.038820Z",
     "iopub.status.busy": "2022-02-14T16:46:03.038142Z",
     "iopub.status.idle": "2022-02-14T16:46:03.233787Z",
     "shell.execute_reply": "2022-02-14T16:46:03.233098Z"
    }
   },
   "outputs": [],
   "source": [
    "ca_id = Dict(ca => id for (id, ca) in enumerate(ca_))\n",
    "\n",
    "OnePiece.extension.vector.is_in(ca_id, st1_)"
   ]
  },
  {
   "cell_type": "markdown",
   "id": "7892f1bc",
   "metadata": {},
   "source": [
    "## sort_like"
   ]
  },
  {
   "cell_type": "code",
   "execution_count": null,
   "id": "68bcb85b",
   "metadata": {
    "execution": {
     "iopub.execute_input": "2022-02-14T16:46:03.236704Z",
     "iopub.status.busy": "2022-02-14T16:46:03.235933Z",
     "iopub.status.idle": "2022-02-14T16:46:04.524402Z",
     "shell.execute_reply": "2022-02-14T16:46:04.523851Z"
    }
   },
   "outputs": [],
   "source": [
    "ve_ = [['a', 'e', 'K', 't'], [\"a\", \"K\", \"t\", \"w\"]]"
   ]
  },
  {
   "cell_type": "code",
   "execution_count": null,
   "id": "1810740d",
   "metadata": {
    "execution": {
     "iopub.execute_input": "2022-02-14T16:46:04.526631Z",
     "iopub.status.busy": "2022-02-14T16:46:04.525931Z",
     "iopub.status.idle": "2022-02-14T16:46:05.100422Z",
     "shell.execute_reply": "2022-02-14T16:46:05.099863Z"
    }
   },
   "outputs": [],
   "source": [
    "OnePiece.extension.vector.sort_like([[2, 4, 1, 3], ve_...])"
   ]
  },
  {
   "cell_type": "code",
   "execution_count": null,
   "id": "ab6779f9",
   "metadata": {
    "execution": {
     "iopub.execute_input": "2022-02-14T16:46:05.103578Z",
     "iopub.status.busy": "2022-02-14T16:46:05.102362Z",
     "iopub.status.idle": "2022-02-14T16:46:05.109890Z",
     "shell.execute_reply": "2022-02-14T16:46:05.109360Z"
    }
   },
   "outputs": [],
   "source": [
    "OnePiece.extension.vector.sort_like([[3, 1, 4, 2], ve_...])"
   ]
  },
  {
   "cell_type": "markdown",
   "id": "ae3e7440",
   "metadata": {},
   "source": [
    "## get_order"
   ]
  },
  {
   "cell_type": "code",
   "execution_count": null,
   "id": "b46582eb",
   "metadata": {
    "execution": {
     "iopub.execute_input": "2022-02-14T16:46:05.112257Z",
     "iopub.status.busy": "2022-02-14T16:46:05.111558Z",
     "iopub.status.idle": "2022-02-14T16:46:05.954629Z",
     "shell.execute_reply": "2022-02-14T16:46:05.954078Z"
    }
   },
   "outputs": [],
   "source": [
    "al_ = collect(\"abcdefghijklmnopqrstuvwxyz\")\n",
    "\n",
    "OnePiece.extension.vector.get_order(al_, \"aiko!\")"
   ]
  },
  {
   "cell_type": "markdown",
   "id": "3f396855",
   "metadata": {},
   "source": [
    "---"
   ]
  },
  {
   "cell_type": "code",
   "execution_count": null,
   "id": "b4af2023",
   "metadata": {
    "execution": {
     "iopub.execute_input": "2022-02-14T16:46:05.957028Z",
     "iopub.status.busy": "2022-02-14T16:46:05.956274Z",
     "iopub.status.idle": "2022-02-14T16:46:05.959304Z",
     "shell.execute_reply": "2022-02-14T16:46:05.958771Z"
    }
   },
   "outputs": [],
   "source": [
    "if isdir(TE)\n",
    "\n",
    "    rm(TE, recursive = true)\n",
    "\n",
    "    println(\"Removed \", TE, \".\")\n",
    "\n",
    "end"
   ]
  }
 ],
 "metadata": {
  "kernelspec": {
   "display_name": "Julia 1.7.2",
   "language": "julia",
   "name": "julia-1.7"
  },
  "language_info": {
   "file_extension": ".jl",
   "mimetype": "application/julia",
   "name": "julia",
   "version": "1.7.2"
  }
 },
 "nbformat": 4,
 "nbformat_minor": 5
}
