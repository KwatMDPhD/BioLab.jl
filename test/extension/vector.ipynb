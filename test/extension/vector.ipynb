{
 "cells": [
  {
   "cell_type": "code",
   "execution_count": null,
   "id": "017464da",
   "metadata": {
    "execution": {
     "iopub.execute_input": "2022-02-13T22:22:33.532711Z",
     "iopub.status.busy": "2022-02-13T22:22:33.132835Z",
     "iopub.status.idle": "2022-02-13T22:22:33.739872Z",
     "shell.execute_reply": "2022-02-13T22:22:33.739371Z"
    }
   },
   "outputs": [],
   "source": [
    "TE = joinpath(tempdir(), \"OnePiece.test\")\n",
    "\n",
    "if isdir(TE)\n",
    "\n",
    "    rm(TE, recursive = true)\n",
    "\n",
    "    println(\"Removed \", TE, \".\")\n",
    "\n",
    "end\n",
    "\n",
    "mkdir(TE)\n",
    "\n",
    "println(\"Made \", TE, \".\")"
   ]
  },
  {
   "cell_type": "code",
   "execution_count": null,
   "id": "34e4701e",
   "metadata": {
    "execution": {
     "iopub.execute_input": "2022-02-13T22:22:33.742370Z",
     "iopub.status.busy": "2022-02-13T22:22:33.741613Z",
     "iopub.status.idle": "2022-02-13T22:22:38.102113Z",
     "shell.execute_reply": "2022-02-13T22:22:38.101651Z"
    }
   },
   "outputs": [],
   "source": [
    "using OnePiece"
   ]
  },
  {
   "cell_type": "markdown",
   "id": "b92a3da9",
   "metadata": {},
   "source": [
    "---"
   ]
  },
  {
   "cell_type": "markdown",
   "id": "f90f0b98",
   "metadata": {},
   "source": [
    "## get_longest_common_prefix"
   ]
  },
  {
   "cell_type": "code",
   "execution_count": null,
   "id": "750c86a8",
   "metadata": {
    "execution": {
     "iopub.execute_input": "2022-02-13T22:22:38.424739Z",
     "iopub.status.busy": "2022-02-13T22:22:38.103501Z",
     "iopub.status.idle": "2022-02-13T22:22:39.692344Z",
     "shell.execute_reply": "2022-02-13T22:22:39.691897Z"
    }
   },
   "outputs": [],
   "source": [
    "for ve_ in [\n",
    "    [[], []],\n",
    "    [[1], [1, 2]],\n",
    "    [[1.0], [1.0, 2.0]],\n",
    "    [['a'], ['a', 'b']],\n",
    "    [[\"a\"], [\"a\", \"b\"]],\n",
    "    [[1, 2, 3], [1, 4, 5]],\n",
    "]\n",
    "\n",
    "    println(OnePiece.extension.vector.get_longest_common_prefix(ve_))\n",
    "\n",
    "end"
   ]
  },
  {
   "cell_type": "code",
   "execution_count": null,
   "id": "1ab719fa",
   "metadata": {
    "execution": {
     "iopub.execute_input": "2022-02-13T22:22:39.694750Z",
     "iopub.status.busy": "2022-02-13T22:22:39.693755Z",
     "iopub.status.idle": "2022-02-13T22:22:40.387599Z",
     "shell.execute_reply": "2022-02-13T22:22:40.387208Z"
    }
   },
   "outputs": [],
   "source": [
    "OnePiece.extension.vector.get_longest_common_prefix([\"abc\", \"abcd\", \"a\"])"
   ]
  },
  {
   "cell_type": "markdown",
   "id": "e4943067",
   "metadata": {},
   "source": [
    "## is_in"
   ]
  },
  {
   "cell_type": "code",
   "execution_count": null,
   "id": "6f32b75e",
   "metadata": {
    "execution": {
     "iopub.execute_input": "2022-02-13T22:22:40.389826Z",
     "iopub.status.busy": "2022-02-13T22:22:40.389013Z",
     "iopub.status.idle": "2022-02-13T22:22:40.390684Z",
     "shell.execute_reply": "2022-02-13T22:22:40.390338Z"
    }
   },
   "outputs": [],
   "source": [
    "ca_ = collect(\"A23456789XJQK\")\n",
    "\n",
    "st1_ = ['1', '2', 'K']\n",
    "\n",
    ";"
   ]
  },
  {
   "cell_type": "code",
   "execution_count": null,
   "id": "7f612fb7",
   "metadata": {
    "execution": {
     "iopub.execute_input": "2022-02-13T22:22:40.392605Z",
     "iopub.status.busy": "2022-02-13T22:22:40.392002Z",
     "iopub.status.idle": "2022-02-13T22:22:41.406592Z",
     "shell.execute_reply": "2022-02-13T22:22:41.406193Z"
    }
   },
   "outputs": [],
   "source": [
    "OnePiece.extension.vector.is_in(ca_, st1_)"
   ]
  },
  {
   "cell_type": "code",
   "execution_count": null,
   "id": "6f083bf8",
   "metadata": {
    "execution": {
     "iopub.execute_input": "2022-02-13T22:22:41.408580Z",
     "iopub.status.busy": "2022-02-13T22:22:41.408092Z",
     "iopub.status.idle": "2022-02-13T22:22:41.552697Z",
     "shell.execute_reply": "2022-02-13T22:22:41.552211Z"
    }
   },
   "outputs": [],
   "source": [
    "ca_id = Dict(ca => id for (id, ca) in enumerate(ca_))\n",
    "\n",
    "OnePiece.extension.vector.is_in(ca_id, st1_)"
   ]
  },
  {
   "cell_type": "markdown",
   "id": "7892f1bc",
   "metadata": {},
   "source": [
    "## sort_like"
   ]
  },
  {
   "cell_type": "code",
   "execution_count": null,
   "id": "68bcb85b",
   "metadata": {
    "execution": {
     "iopub.execute_input": "2022-02-13T22:22:41.554616Z",
     "iopub.status.busy": "2022-02-13T22:22:41.554126Z",
     "iopub.status.idle": "2022-02-13T22:22:42.475974Z",
     "shell.execute_reply": "2022-02-13T22:22:42.475599Z"
    }
   },
   "outputs": [],
   "source": [
    "ve_ = [['a', 'e', 'K', 't'], [\"a\", \"K\", \"t\", \"w\"]]"
   ]
  },
  {
   "cell_type": "code",
   "execution_count": null,
   "id": "1810740d",
   "metadata": {
    "execution": {
     "iopub.execute_input": "2022-02-13T22:22:42.479006Z",
     "iopub.status.busy": "2022-02-13T22:22:42.477880Z",
     "iopub.status.idle": "2022-02-13T22:22:42.888042Z",
     "shell.execute_reply": "2022-02-13T22:22:42.887604Z"
    }
   },
   "outputs": [],
   "source": [
    "OnePiece.extension.vector.sort_like([[2, 4, 1, 3], ve_...])"
   ]
  },
  {
   "cell_type": "code",
   "execution_count": null,
   "id": "ab6779f9",
   "metadata": {
    "execution": {
     "iopub.execute_input": "2022-02-13T22:22:42.890030Z",
     "iopub.status.busy": "2022-02-13T22:22:42.889548Z",
     "iopub.status.idle": "2022-02-13T22:22:42.894949Z",
     "shell.execute_reply": "2022-02-13T22:22:42.894315Z"
    }
   },
   "outputs": [],
   "source": [
    "OnePiece.extension.vector.sort_like([[3, 1, 4, 2], ve_...])"
   ]
  },
  {
   "cell_type": "markdown",
   "id": "ae3e7440",
   "metadata": {},
   "source": [
    "## get_order"
   ]
  },
  {
   "cell_type": "code",
   "execution_count": null,
   "id": "b46582eb",
   "metadata": {
    "execution": {
     "iopub.execute_input": "2022-02-13T22:22:42.896893Z",
     "iopub.status.busy": "2022-02-13T22:22:42.896406Z",
     "iopub.status.idle": "2022-02-13T22:22:43.519568Z",
     "shell.execute_reply": "2022-02-13T22:22:43.519187Z"
    }
   },
   "outputs": [],
   "source": [
    "al_ = collect(\"abcdefghijklmnopqrstuvwxyz\")\n",
    "\n",
    "OnePiece.extension.vector.get_order(al_, \"aiko!\")"
   ]
  },
  {
   "cell_type": "markdown",
   "id": "3f396855",
   "metadata": {},
   "source": [
    "---"
   ]
  },
  {
   "cell_type": "code",
   "execution_count": null,
   "id": "b4af2023",
   "metadata": {
    "execution": {
     "iopub.execute_input": "2022-02-13T22:22:43.521635Z",
     "iopub.status.busy": "2022-02-13T22:22:43.521020Z",
     "iopub.status.idle": "2022-02-13T22:22:43.523352Z",
     "shell.execute_reply": "2022-02-13T22:22:43.522984Z"
    }
   },
   "outputs": [],
   "source": [
    "if isdir(TE)\n",
    "\n",
    "    rm(TE, recursive = true)\n",
    "\n",
    "    println(\"Removed \", TE, \".\")\n",
    "\n",
    "end"
   ]
  }
 ],
 "metadata": {
  "kernelspec": {
   "display_name": "Julia 1.7.2",
   "language": "julia",
   "name": "julia-1.7"
  },
  "language_info": {
   "file_extension": ".jl",
   "mimetype": "application/julia",
   "name": "julia",
   "version": "1.7.2"
  }
 },
 "nbformat": 4,
 "nbformat_minor": 5
}
