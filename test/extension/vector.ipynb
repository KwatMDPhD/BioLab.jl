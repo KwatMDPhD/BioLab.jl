{
 "cells": [
  {
   "cell_type": "code",
   "execution_count": null,
   "id": "017464da",
   "metadata": {},
   "outputs": [],
   "source": [
    "TE = joinpath(tempdir(), \"OnePiece.test\")\n",
    "\n",
    "mkpath(TE)"
   ]
  },
  {
   "cell_type": "code",
   "execution_count": null,
   "id": "34e4701e",
   "metadata": {
    "execution": {
     "iopub.execute_input": "2022-02-10T17:51:23.590384Z",
     "iopub.status.busy": "2022-02-10T17:51:23.250154Z",
     "iopub.status.idle": "2022-02-10T17:51:24.482021Z",
     "shell.execute_reply": "2022-02-10T17:51:24.481306Z"
    }
   },
   "outputs": [],
   "source": [
    "using OnePiece"
   ]
  },
  {
   "cell_type": "markdown",
   "id": "b92a3da9",
   "metadata": {},
   "source": [
    "---"
   ]
  },
  {
   "cell_type": "markdown",
   "id": "f90f0b98",
   "metadata": {},
   "source": [
    "## get_longest_common_prefix"
   ]
  },
  {
   "cell_type": "code",
   "execution_count": null,
   "id": "750c86a8",
   "metadata": {
    "execution": {
     "iopub.execute_input": "2022-02-10T20:38:25.874760Z",
     "iopub.status.busy": "2022-02-10T20:38:25.413590Z",
     "iopub.status.idle": "2022-02-10T20:38:27.273584Z",
     "shell.execute_reply": "2022-02-10T20:38:27.273083Z"
    }
   },
   "outputs": [],
   "source": [
    "for ve_ in [\n",
    "    [[], []],\n",
    "    [[1], [1, 2]],\n",
    "    [[1.0], [1.0, 2.0]],\n",
    "    [['a'], ['a', 'b']],\n",
    "    [[\"a\"], [\"a\", \"b\"]],\n",
    "    [[1, 2, 3], [1, 4, 5]],\n",
    "]\n",
    "\n",
    "    println(OnePiece.extension.vector.get_longest_common_prefix(ve_))\n",
    "\n",
    "end"
   ]
  },
  {
   "cell_type": "code",
   "execution_count": null,
   "id": "1ab719fa",
   "metadata": {
    "execution": {
     "iopub.execute_input": "2022-02-10T20:38:27.275534Z",
     "iopub.status.busy": "2022-02-10T20:38:27.274966Z",
     "iopub.status.idle": "2022-02-10T20:38:27.382171Z",
     "shell.execute_reply": "2022-02-10T20:38:27.381649Z"
    }
   },
   "outputs": [],
   "source": [
    "OnePiece.extension.vector.get_longest_common_prefix([\"abc\", \"abcd\", \"a\"])"
   ]
  },
  {
   "cell_type": "markdown",
   "id": "e4943067",
   "metadata": {},
   "source": [
    "## is_in"
   ]
  },
  {
   "cell_type": "code",
   "execution_count": null,
   "id": "6f32b75e",
   "metadata": {
    "execution": {
     "iopub.execute_input": "2022-02-10T20:38:27.384367Z",
     "iopub.status.busy": "2022-02-10T20:38:27.383639Z",
     "iopub.status.idle": "2022-02-10T20:38:27.385347Z",
     "shell.execute_reply": "2022-02-10T20:38:27.384948Z"
    }
   },
   "outputs": [],
   "source": [
    "ca_ = collect(\"A23456789XJQK\")\n",
    "\n",
    "st1_ = ['1', '2', 'K']\n",
    "\n",
    ";"
   ]
  },
  {
   "cell_type": "code",
   "execution_count": null,
   "id": "7f612fb7",
   "metadata": {
    "execution": {
     "iopub.execute_input": "2022-02-10T20:38:27.387317Z",
     "iopub.status.busy": "2022-02-10T20:38:27.386685Z",
     "iopub.status.idle": "2022-02-10T20:38:28.460176Z",
     "shell.execute_reply": "2022-02-10T20:38:28.459680Z"
    }
   },
   "outputs": [],
   "source": [
    "OnePiece.extension.vector.is_in(ca_, st1_)"
   ]
  },
  {
   "cell_type": "code",
   "execution_count": null,
   "id": "6f083bf8",
   "metadata": {
    "execution": {
     "iopub.execute_input": "2022-02-10T20:38:28.462013Z",
     "iopub.status.busy": "2022-02-10T20:38:28.461445Z",
     "iopub.status.idle": "2022-02-10T20:38:28.644841Z",
     "shell.execute_reply": "2022-02-10T20:38:28.644391Z"
    }
   },
   "outputs": [],
   "source": [
    "ca_id = Dict(ca => id for (id, ca) in enumerate(ca_))\n",
    "\n",
    "OnePiece.extension.vector.is_in(ca_id, st1_)"
   ]
  },
  {
   "cell_type": "markdown",
   "id": "7892f1bc",
   "metadata": {},
   "source": [
    "## sort_like"
   ]
  },
  {
   "cell_type": "code",
   "execution_count": null,
   "id": "68bcb85b",
   "metadata": {
    "execution": {
     "iopub.execute_input": "2022-02-10T20:38:28.646762Z",
     "iopub.status.busy": "2022-02-10T20:38:28.646199Z",
     "iopub.status.idle": "2022-02-10T20:38:29.655595Z",
     "shell.execute_reply": "2022-02-10T20:38:29.655144Z"
    }
   },
   "outputs": [],
   "source": [
    "ve_ = [['a', 'e', 'K', 't'], [\"a\", \"K\", \"t\", \"w\"]]"
   ]
  },
  {
   "cell_type": "code",
   "execution_count": null,
   "id": "1810740d",
   "metadata": {
    "execution": {
     "iopub.execute_input": "2022-02-10T20:38:29.657440Z",
     "iopub.status.busy": "2022-02-10T20:38:29.656880Z",
     "iopub.status.idle": "2022-02-10T20:38:30.113204Z",
     "shell.execute_reply": "2022-02-10T20:38:30.112663Z"
    }
   },
   "outputs": [],
   "source": [
    "OnePiece.extension.vector.sort_like([[2, 4, 1, 3], ve_...])"
   ]
  },
  {
   "cell_type": "code",
   "execution_count": null,
   "id": "ab6779f9",
   "metadata": {
    "execution": {
     "iopub.execute_input": "2022-02-10T20:38:30.115218Z",
     "iopub.status.busy": "2022-02-10T20:38:30.114527Z",
     "iopub.status.idle": "2022-02-10T20:38:30.120500Z",
     "shell.execute_reply": "2022-02-10T20:38:30.120061Z"
    }
   },
   "outputs": [],
   "source": [
    "OnePiece.extension.vector.sort_like([[3, 1, 4, 2], ve_...])"
   ]
  },
  {
   "cell_type": "markdown",
   "id": "ae3e7440",
   "metadata": {},
   "source": [
    "## get_order"
   ]
  },
  {
   "cell_type": "code",
   "execution_count": null,
   "id": "b46582eb",
   "metadata": {
    "execution": {
     "iopub.execute_input": "2022-02-10T20:38:30.122391Z",
     "iopub.status.busy": "2022-02-10T20:38:30.121776Z",
     "iopub.status.idle": "2022-02-10T20:38:30.799148Z",
     "shell.execute_reply": "2022-02-10T20:38:30.798639Z"
    }
   },
   "outputs": [],
   "source": [
    "al_ = collect(\"abcdefghijklmnopqrstuvwxyz\")\n",
    "\n",
    "OnePiece.extension.vector.get_order(al_, \"aiko!\")"
   ]
  },
  {
   "cell_type": "markdown",
   "id": "3f396855",
   "metadata": {},
   "source": [
    "---"
   ]
  },
  {
   "cell_type": "code",
   "execution_count": null,
   "id": "b4af2023",
   "metadata": {},
   "outputs": [],
   "source": [
    "rm(TE; recursive = true)"
   ]
  }
 ],
 "metadata": {
  "kernelspec": {
   "display_name": "Julia 1.7.2",
   "language": "julia",
   "name": "julia-1.7"
  },
  "language_info": {
   "file_extension": ".jl",
   "mimetype": "application/julia",
   "name": "julia",
   "version": "1.7.2"
  }
 },
 "nbformat": 4,
 "nbformat_minor": 5
}
