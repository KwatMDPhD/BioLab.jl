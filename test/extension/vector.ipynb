{
 "cells": [
  {
   "cell_type": "code",
   "execution_count": null,
   "id": "017464da",
   "metadata": {
    "execution": {
     "iopub.execute_input": "2022-02-13T22:56:32.071624Z",
     "iopub.status.busy": "2022-02-13T22:56:31.738685Z",
     "iopub.status.idle": "2022-02-13T22:56:32.252795Z",
     "shell.execute_reply": "2022-02-13T22:56:32.252319Z"
    }
   },
   "outputs": [],
   "source": [
    "TE = joinpath(tempdir(), \"OnePiece.test\")\n",
    "\n",
    "if isdir(TE)\n",
    "\n",
    "    rm(TE, recursive = true)\n",
    "\n",
    "    println(\"Removed \", TE, \".\")\n",
    "\n",
    "end\n",
    "\n",
    "mkdir(TE)\n",
    "\n",
    "println(\"Made \", TE, \".\")"
   ]
  },
  {
   "cell_type": "code",
   "execution_count": null,
   "id": "34e4701e",
   "metadata": {
    "execution": {
     "iopub.execute_input": "2022-02-13T22:56:32.254851Z",
     "iopub.status.busy": "2022-02-13T22:56:32.254329Z",
     "iopub.status.idle": "2022-02-13T22:56:36.190581Z",
     "shell.execute_reply": "2022-02-13T22:56:36.190131Z"
    }
   },
   "outputs": [],
   "source": [
    "using OnePiece"
   ]
  },
  {
   "cell_type": "markdown",
   "id": "b92a3da9",
   "metadata": {},
   "source": [
    "---"
   ]
  },
  {
   "cell_type": "markdown",
   "id": "f90f0b98",
   "metadata": {},
   "source": [
    "## get_longest_common_prefix"
   ]
  },
  {
   "cell_type": "code",
   "execution_count": null,
   "id": "750c86a8",
   "metadata": {
    "execution": {
     "iopub.execute_input": "2022-02-13T22:56:36.497531Z",
     "iopub.status.busy": "2022-02-13T22:56:36.192228Z",
     "iopub.status.idle": "2022-02-13T22:56:37.622376Z",
     "shell.execute_reply": "2022-02-13T22:56:37.621941Z"
    }
   },
   "outputs": [],
   "source": [
    "for ve_ in [\n",
    "    [[], []],\n",
    "    [[1], [1, 2]],\n",
    "    [[1.0], [1.0, 2.0]],\n",
    "    [['a'], ['a', 'b']],\n",
    "    [[\"a\"], [\"a\", \"b\"]],\n",
    "    [[1, 2, 3], [1, 4, 5]],\n",
    "]\n",
    "\n",
    "    println(OnePiece.extension.vector.get_longest_common_prefix(ve_))\n",
    "\n",
    "end"
   ]
  },
  {
   "cell_type": "code",
   "execution_count": null,
   "id": "1ab719fa",
   "metadata": {
    "execution": {
     "iopub.execute_input": "2022-02-13T22:56:37.624282Z",
     "iopub.status.busy": "2022-02-13T22:56:37.623796Z",
     "iopub.status.idle": "2022-02-13T22:56:38.254140Z",
     "shell.execute_reply": "2022-02-13T22:56:38.253725Z"
    }
   },
   "outputs": [],
   "source": [
    "OnePiece.extension.vector.get_longest_common_prefix([\"abc\", \"abcd\", \"a\"])"
   ]
  },
  {
   "cell_type": "markdown",
   "id": "e4943067",
   "metadata": {},
   "source": [
    "## is_in"
   ]
  },
  {
   "cell_type": "code",
   "execution_count": null,
   "id": "6f32b75e",
   "metadata": {
    "execution": {
     "iopub.execute_input": "2022-02-13T22:56:38.256606Z",
     "iopub.status.busy": "2022-02-13T22:56:38.255672Z",
     "iopub.status.idle": "2022-02-13T22:56:38.257579Z",
     "shell.execute_reply": "2022-02-13T22:56:38.257176Z"
    }
   },
   "outputs": [],
   "source": [
    "ca_ = collect(\"A23456789XJQK\")\n",
    "\n",
    "st1_ = ['1', '2', 'K']\n",
    "\n",
    ";"
   ]
  },
  {
   "cell_type": "code",
   "execution_count": null,
   "id": "7f612fb7",
   "metadata": {
    "execution": {
     "iopub.execute_input": "2022-02-13T22:56:38.259350Z",
     "iopub.status.busy": "2022-02-13T22:56:38.258754Z",
     "iopub.status.idle": "2022-02-13T22:56:39.137044Z",
     "shell.execute_reply": "2022-02-13T22:56:39.136661Z"
    }
   },
   "outputs": [],
   "source": [
    "OnePiece.extension.vector.is_in(ca_, st1_)"
   ]
  },
  {
   "cell_type": "code",
   "execution_count": null,
   "id": "6f083bf8",
   "metadata": {
    "execution": {
     "iopub.execute_input": "2022-02-13T22:56:39.138890Z",
     "iopub.status.busy": "2022-02-13T22:56:39.138407Z",
     "iopub.status.idle": "2022-02-13T22:56:39.268257Z",
     "shell.execute_reply": "2022-02-13T22:56:39.267872Z"
    }
   },
   "outputs": [],
   "source": [
    "ca_id = Dict(ca => id for (id, ca) in enumerate(ca_))\n",
    "\n",
    "OnePiece.extension.vector.is_in(ca_id, st1_)"
   ]
  },
  {
   "cell_type": "markdown",
   "id": "7892f1bc",
   "metadata": {},
   "source": [
    "## sort_like"
   ]
  },
  {
   "cell_type": "code",
   "execution_count": null,
   "id": "68bcb85b",
   "metadata": {
    "execution": {
     "iopub.execute_input": "2022-02-13T22:56:39.270341Z",
     "iopub.status.busy": "2022-02-13T22:56:39.269855Z",
     "iopub.status.idle": "2022-02-13T22:56:40.126438Z",
     "shell.execute_reply": "2022-02-13T22:56:40.126052Z"
    }
   },
   "outputs": [],
   "source": [
    "ve_ = [['a', 'e', 'K', 't'], [\"a\", \"K\", \"t\", \"w\"]]"
   ]
  },
  {
   "cell_type": "code",
   "execution_count": null,
   "id": "1810740d",
   "metadata": {
    "execution": {
     "iopub.execute_input": "2022-02-13T22:56:40.128264Z",
     "iopub.status.busy": "2022-02-13T22:56:40.127687Z",
     "iopub.status.idle": "2022-02-13T22:56:40.496197Z",
     "shell.execute_reply": "2022-02-13T22:56:40.495799Z"
    }
   },
   "outputs": [],
   "source": [
    "OnePiece.extension.vector.sort_like([[2, 4, 1, 3], ve_...])"
   ]
  },
  {
   "cell_type": "code",
   "execution_count": null,
   "id": "ab6779f9",
   "metadata": {
    "execution": {
     "iopub.execute_input": "2022-02-13T22:56:40.497961Z",
     "iopub.status.busy": "2022-02-13T22:56:40.497467Z",
     "iopub.status.idle": "2022-02-13T22:56:40.502302Z",
     "shell.execute_reply": "2022-02-13T22:56:40.501928Z"
    }
   },
   "outputs": [],
   "source": [
    "OnePiece.extension.vector.sort_like([[3, 1, 4, 2], ve_...])"
   ]
  },
  {
   "cell_type": "markdown",
   "id": "ae3e7440",
   "metadata": {},
   "source": [
    "## get_order"
   ]
  },
  {
   "cell_type": "code",
   "execution_count": null,
   "id": "b46582eb",
   "metadata": {
    "execution": {
     "iopub.execute_input": "2022-02-13T22:56:40.504473Z",
     "iopub.status.busy": "2022-02-13T22:56:40.503975Z",
     "iopub.status.idle": "2022-02-13T22:56:41.077210Z",
     "shell.execute_reply": "2022-02-13T22:56:41.076833Z"
    }
   },
   "outputs": [],
   "source": [
    "al_ = collect(\"abcdefghijklmnopqrstuvwxyz\")\n",
    "\n",
    "OnePiece.extension.vector.get_order(al_, \"aiko!\")"
   ]
  },
  {
   "cell_type": "markdown",
   "id": "3f396855",
   "metadata": {},
   "source": [
    "---"
   ]
  },
  {
   "cell_type": "code",
   "execution_count": null,
   "id": "b4af2023",
   "metadata": {
    "execution": {
     "iopub.execute_input": "2022-02-13T22:56:41.079413Z",
     "iopub.status.busy": "2022-02-13T22:56:41.078729Z",
     "iopub.status.idle": "2022-02-13T22:56:41.081175Z",
     "shell.execute_reply": "2022-02-13T22:56:41.080799Z"
    }
   },
   "outputs": [],
   "source": [
    "if isdir(TE)\n",
    "\n",
    "    rm(TE, recursive = true)\n",
    "\n",
    "    println(\"Removed \", TE, \".\")\n",
    "\n",
    "end"
   ]
  }
 ],
 "metadata": {
  "kernelspec": {
   "display_name": "Julia 1.7.2",
   "language": "julia",
   "name": "julia-1.7"
  },
  "language_info": {
   "file_extension": ".jl",
   "mimetype": "application/julia",
   "name": "julia",
   "version": "1.7.2"
  }
 },
 "nbformat": 4,
 "nbformat_minor": 5
}
