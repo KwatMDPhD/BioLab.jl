{
 "cells": [
  {
   "cell_type": "code",
   "execution_count": null,
   "id": "017464da",
   "metadata": {
    "execution": {
     "iopub.execute_input": "2022-02-14T02:52:33.048288Z",
     "iopub.status.busy": "2022-02-14T02:52:32.635152Z",
     "iopub.status.idle": "2022-02-14T02:52:33.274563Z",
     "shell.execute_reply": "2022-02-14T02:52:33.273919Z"
    }
   },
   "outputs": [],
   "source": [
    "TE = joinpath(tempdir(), \"OnePiece.test\")\n",
    "\n",
    "if isdir(TE)\n",
    "\n",
    "    rm(TE, recursive = true)\n",
    "\n",
    "    println(\"Removed \", TE, \".\")\n",
    "\n",
    "end\n",
    "\n",
    "mkdir(TE)\n",
    "\n",
    "println(\"Made \", TE, \".\")"
   ]
  },
  {
   "cell_type": "code",
   "execution_count": null,
   "id": "34e4701e",
   "metadata": {
    "execution": {
     "iopub.execute_input": "2022-02-14T02:52:33.276604Z",
     "iopub.status.busy": "2022-02-14T02:52:33.275989Z",
     "iopub.status.idle": "2022-02-14T02:52:38.257240Z",
     "shell.execute_reply": "2022-02-14T02:52:38.256698Z"
    }
   },
   "outputs": [],
   "source": [
    "using OnePiece"
   ]
  },
  {
   "cell_type": "markdown",
   "id": "b92a3da9",
   "metadata": {},
   "source": [
    "---"
   ]
  },
  {
   "cell_type": "markdown",
   "id": "f90f0b98",
   "metadata": {},
   "source": [
    "## get_longest_common_prefix"
   ]
  },
  {
   "cell_type": "code",
   "execution_count": null,
   "id": "750c86a8",
   "metadata": {
    "execution": {
     "iopub.execute_input": "2022-02-14T02:52:38.646082Z",
     "iopub.status.busy": "2022-02-14T02:52:38.258785Z",
     "iopub.status.idle": "2022-02-14T02:52:40.095950Z",
     "shell.execute_reply": "2022-02-14T02:52:40.095315Z"
    }
   },
   "outputs": [],
   "source": [
    "for ve_ in [\n",
    "    [[], []],\n",
    "    [[1], [1, 2]],\n",
    "    [[1.0], [1.0, 2.0]],\n",
    "    [['a'], ['a', 'b']],\n",
    "    [[\"a\"], [\"a\", \"b\"]],\n",
    "    [[1, 2, 3], [1, 4, 5]],\n",
    "]\n",
    "\n",
    "    println(OnePiece.extension.vector.get_longest_common_prefix(ve_))\n",
    "\n",
    "end"
   ]
  },
  {
   "cell_type": "code",
   "execution_count": null,
   "id": "1ab719fa",
   "metadata": {
    "execution": {
     "iopub.execute_input": "2022-02-14T02:52:40.097987Z",
     "iopub.status.busy": "2022-02-14T02:52:40.097367Z",
     "iopub.status.idle": "2022-02-14T02:52:40.910430Z",
     "shell.execute_reply": "2022-02-14T02:52:40.909947Z"
    }
   },
   "outputs": [],
   "source": [
    "OnePiece.extension.vector.get_longest_common_prefix([\"abc\", \"abcd\", \"a\"])"
   ]
  },
  {
   "cell_type": "markdown",
   "id": "e4943067",
   "metadata": {},
   "source": [
    "## is_in"
   ]
  },
  {
   "cell_type": "code",
   "execution_count": null,
   "id": "6f32b75e",
   "metadata": {
    "execution": {
     "iopub.execute_input": "2022-02-14T02:52:40.913008Z",
     "iopub.status.busy": "2022-02-14T02:52:40.911991Z",
     "iopub.status.idle": "2022-02-14T02:52:40.914372Z",
     "shell.execute_reply": "2022-02-14T02:52:40.913886Z"
    }
   },
   "outputs": [],
   "source": [
    "ca_ = collect(\"A23456789XJQK\")\n",
    "\n",
    "st1_ = ['1', '2', 'K']\n",
    "\n",
    ";"
   ]
  },
  {
   "cell_type": "code",
   "execution_count": null,
   "id": "7f612fb7",
   "metadata": {
    "execution": {
     "iopub.execute_input": "2022-02-14T02:52:40.916390Z",
     "iopub.status.busy": "2022-02-14T02:52:40.915695Z",
     "iopub.status.idle": "2022-02-14T02:52:42.067340Z",
     "shell.execute_reply": "2022-02-14T02:52:42.066855Z"
    }
   },
   "outputs": [],
   "source": [
    "OnePiece.extension.vector.is_in(ca_, st1_)"
   ]
  },
  {
   "cell_type": "code",
   "execution_count": null,
   "id": "6f083bf8",
   "metadata": {
    "execution": {
     "iopub.execute_input": "2022-02-14T02:52:42.069424Z",
     "iopub.status.busy": "2022-02-14T02:52:42.068782Z",
     "iopub.status.idle": "2022-02-14T02:52:42.240801Z",
     "shell.execute_reply": "2022-02-14T02:52:42.240165Z"
    }
   },
   "outputs": [],
   "source": [
    "ca_id = Dict(ca => id for (id, ca) in enumerate(ca_))\n",
    "\n",
    "OnePiece.extension.vector.is_in(ca_id, st1_)"
   ]
  },
  {
   "cell_type": "markdown",
   "id": "7892f1bc",
   "metadata": {},
   "source": [
    "## sort_like"
   ]
  },
  {
   "cell_type": "code",
   "execution_count": null,
   "id": "68bcb85b",
   "metadata": {
    "execution": {
     "iopub.execute_input": "2022-02-14T02:52:42.242787Z",
     "iopub.status.busy": "2022-02-14T02:52:42.242179Z",
     "iopub.status.idle": "2022-02-14T02:52:43.323585Z",
     "shell.execute_reply": "2022-02-14T02:52:43.323103Z"
    }
   },
   "outputs": [],
   "source": [
    "ve_ = [['a', 'e', 'K', 't'], [\"a\", \"K\", \"t\", \"w\"]]"
   ]
  },
  {
   "cell_type": "code",
   "execution_count": null,
   "id": "1810740d",
   "metadata": {
    "execution": {
     "iopub.execute_input": "2022-02-14T02:52:43.325622Z",
     "iopub.status.busy": "2022-02-14T02:52:43.324980Z",
     "iopub.status.idle": "2022-02-14T02:52:43.803070Z",
     "shell.execute_reply": "2022-02-14T02:52:43.802585Z"
    }
   },
   "outputs": [],
   "source": [
    "OnePiece.extension.vector.sort_like([[2, 4, 1, 3], ve_...])"
   ]
  },
  {
   "cell_type": "code",
   "execution_count": null,
   "id": "ab6779f9",
   "metadata": {
    "execution": {
     "iopub.execute_input": "2022-02-14T02:52:43.805121Z",
     "iopub.status.busy": "2022-02-14T02:52:43.804433Z",
     "iopub.status.idle": "2022-02-14T02:52:43.810413Z",
     "shell.execute_reply": "2022-02-14T02:52:43.809907Z"
    }
   },
   "outputs": [],
   "source": [
    "OnePiece.extension.vector.sort_like([[3, 1, 4, 2], ve_...])"
   ]
  },
  {
   "cell_type": "markdown",
   "id": "ae3e7440",
   "metadata": {},
   "source": [
    "## get_order"
   ]
  },
  {
   "cell_type": "code",
   "execution_count": null,
   "id": "b46582eb",
   "metadata": {
    "execution": {
     "iopub.execute_input": "2022-02-14T02:52:43.812421Z",
     "iopub.status.busy": "2022-02-14T02:52:43.811817Z",
     "iopub.status.idle": "2022-02-14T02:52:44.559996Z",
     "shell.execute_reply": "2022-02-14T02:52:44.559461Z"
    }
   },
   "outputs": [],
   "source": [
    "al_ = collect(\"abcdefghijklmnopqrstuvwxyz\")\n",
    "\n",
    "OnePiece.extension.vector.get_order(al_, \"aiko!\")"
   ]
  },
  {
   "cell_type": "markdown",
   "id": "3f396855",
   "metadata": {},
   "source": [
    "---"
   ]
  },
  {
   "cell_type": "code",
   "execution_count": null,
   "id": "b4af2023",
   "metadata": {
    "execution": {
     "iopub.execute_input": "2022-02-14T02:52:44.562018Z",
     "iopub.status.busy": "2022-02-14T02:52:44.561409Z",
     "iopub.status.idle": "2022-02-14T02:52:44.563934Z",
     "shell.execute_reply": "2022-02-14T02:52:44.563468Z"
    }
   },
   "outputs": [],
   "source": [
    "if isdir(TE)\n",
    "\n",
    "    rm(TE, recursive = true)\n",
    "\n",
    "    println(\"Removed \", TE, \".\")\n",
    "\n",
    "end"
   ]
  }
 ],
 "metadata": {
  "kernelspec": {
   "display_name": "Julia 1.7.2",
   "language": "julia",
   "name": "julia-1.7"
  },
  "language_info": {
   "file_extension": ".jl",
   "mimetype": "application/julia",
   "name": "julia",
   "version": "1.7.2"
  }
 },
 "nbformat": 4,
 "nbformat_minor": 5
}
