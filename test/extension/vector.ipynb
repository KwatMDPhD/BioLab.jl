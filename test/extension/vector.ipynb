{
 "cells": [
  {
   "cell_type": "code",
   "execution_count": 1,
   "id": "34e4701e",
   "metadata": {
    "execution": {
     "iopub.execute_input": "2022-02-10T17:16:07.635350Z",
     "iopub.status.busy": "2022-02-10T17:16:07.247492Z",
     "iopub.status.idle": "2022-02-10T17:16:08.477116Z",
     "shell.execute_reply": "2022-02-10T17:16:08.476629Z"
    }
   },
   "outputs": [],
   "source": [
    "using Revise\n",
    "using BenchmarkTools"
   ]
  },
  {
   "cell_type": "code",
   "execution_count": 2,
   "id": "77d0f5bf",
   "metadata": {
    "execution": {
     "iopub.execute_input": "2022-02-10T17:16:08.479138Z",
     "iopub.status.busy": "2022-02-10T17:16:08.478601Z",
     "iopub.status.idle": "2022-02-10T17:16:13.844433Z",
     "shell.execute_reply": "2022-02-10T17:16:13.843988Z"
    }
   },
   "outputs": [],
   "source": [
    "using OnePiece"
   ]
  },
  {
   "cell_type": "markdown",
   "id": "f90f0b98",
   "metadata": {},
   "source": [
    "## get_longest_common_prefix"
   ]
  },
  {
   "cell_type": "code",
   "execution_count": 3,
   "id": "750c86a8",
   "metadata": {
    "execution": {
     "iopub.execute_input": "2022-02-10T17:16:14.172853Z",
     "iopub.status.busy": "2022-02-10T17:16:13.846002Z",
     "iopub.status.idle": "2022-02-10T17:16:16.475103Z",
     "shell.execute_reply": "2022-02-10T17:16:16.474544Z"
    }
   },
   "outputs": [
    {
     "name": "stdout",
     "output_type": "stream",
     "text": [
      "nothing\n",
      "[1]\n",
      "[1.0]\n",
      "['a']\n",
      "[\"a\"]\n",
      "[1]\n"
     ]
    }
   ],
   "source": [
    "for ve_ in [\n",
    "    [[], []],\n",
    "    [[1], [1, 2]],\n",
    "    [[1.0], [1.0, 2.0]],\n",
    "    [['a'], ['a', 'b']],\n",
    "    [[\"a\"], [\"a\", \"b\"]],\n",
    "    [[1, 2, 3], [1, 4, 5]],\n",
    "]\n",
    "\n",
    "    println(OnePiece.extension.vector.get_longest_common_prefix(ve_))\n",
    "\n",
    "end"
   ]
  },
  {
   "cell_type": "code",
   "execution_count": 4,
   "id": "1ab719fa",
   "metadata": {
    "execution": {
     "iopub.execute_input": "2022-02-10T17:16:16.477082Z",
     "iopub.status.busy": "2022-02-10T17:16:16.476585Z",
     "iopub.status.idle": "2022-02-10T17:16:17.143474Z",
     "shell.execute_reply": "2022-02-10T17:16:17.143088Z"
    }
   },
   "outputs": [
    {
     "data": {
      "text/plain": [
       "\"a\""
      ]
     },
     "execution_count": 4,
     "metadata": {},
     "output_type": "execute_result"
    }
   ],
   "source": [
    "OnePiece.extension.vector.get_longest_common_prefix([\"abc\", \"abcd\", \"a\"])"
   ]
  },
  {
   "cell_type": "markdown",
   "id": "e4943067",
   "metadata": {},
   "source": [
    "## is_in"
   ]
  },
  {
   "cell_type": "code",
   "execution_count": 5,
   "id": "6f32b75e",
   "metadata": {
    "execution": {
     "iopub.execute_input": "2022-02-10T17:16:17.145464Z",
     "iopub.status.busy": "2022-02-10T17:16:17.144972Z",
     "iopub.status.idle": "2022-02-10T17:16:17.157609Z",
     "shell.execute_reply": "2022-02-10T17:16:17.157114Z"
    }
   },
   "outputs": [],
   "source": [
    "ca_ = collect(\"A23456789XJQK\")\n",
    "\n",
    "st1_ = ['1', '2', 'K']\n",
    "\n",
    ";"
   ]
  },
  {
   "cell_type": "code",
   "execution_count": 6,
   "id": "7f612fb7",
   "metadata": {
    "execution": {
     "iopub.execute_input": "2022-02-10T17:16:17.159621Z",
     "iopub.status.busy": "2022-02-10T17:16:17.159079Z",
     "iopub.status.idle": "2022-02-10T17:16:18.178721Z",
     "shell.execute_reply": "2022-02-10T17:16:18.178287Z"
    }
   },
   "outputs": [
    {
     "data": {
      "text/plain": [
       "13-element Vector{Bool}:\n",
       " 0\n",
       " 1\n",
       " 0\n",
       " 0\n",
       " 0\n",
       " 0\n",
       " 0\n",
       " 0\n",
       " 0\n",
       " 0\n",
       " 0\n",
       " 0\n",
       " 1"
      ]
     },
     "execution_count": 6,
     "metadata": {},
     "output_type": "execute_result"
    }
   ],
   "source": [
    "OnePiece.extension.vector.is_in(ca_, st1_)"
   ]
  },
  {
   "cell_type": "code",
   "execution_count": 7,
   "id": "6f083bf8",
   "metadata": {
    "execution": {
     "iopub.execute_input": "2022-02-10T17:16:18.180645Z",
     "iopub.status.busy": "2022-02-10T17:16:18.180101Z",
     "iopub.status.idle": "2022-02-10T17:16:18.354492Z",
     "shell.execute_reply": "2022-02-10T17:16:18.354114Z"
    }
   },
   "outputs": [
    {
     "data": {
      "text/plain": [
       "13-element Vector{Bool}:\n",
       " 0\n",
       " 1\n",
       " 0\n",
       " 0\n",
       " 0\n",
       " 0\n",
       " 0\n",
       " 0\n",
       " 0\n",
       " 0\n",
       " 0\n",
       " 0\n",
       " 1"
      ]
     },
     "execution_count": 7,
     "metadata": {},
     "output_type": "execute_result"
    }
   ],
   "source": [
    "ca_id = Dict(ca => id for (id, ca) in enumerate(ca_))\n",
    "\n",
    "OnePiece.extension.vector.is_in(ca_id, st1_)"
   ]
  },
  {
   "cell_type": "markdown",
   "id": "7892f1bc",
   "metadata": {},
   "source": [
    "## sort_like"
   ]
  },
  {
   "cell_type": "code",
   "execution_count": 8,
   "id": "68bcb85b",
   "metadata": {
    "execution": {
     "iopub.execute_input": "2022-02-10T17:16:18.356691Z",
     "iopub.status.busy": "2022-02-10T17:16:18.356126Z",
     "iopub.status.idle": "2022-02-10T17:16:19.290260Z",
     "shell.execute_reply": "2022-02-10T17:16:19.289865Z"
    }
   },
   "outputs": [
    {
     "data": {
      "text/plain": [
       "2-element Vector{Vector}:\n",
       " ['a', 'e', 'K', 't']\n",
       " [\"a\", \"K\", \"t\", \"w\"]"
      ]
     },
     "execution_count": 8,
     "metadata": {},
     "output_type": "execute_result"
    }
   ],
   "source": [
    "ve_ = [['a', 'e', 'K', 't'], [\"a\", \"K\", \"t\", \"w\"]]"
   ]
  },
  {
   "cell_type": "code",
   "execution_count": 9,
   "id": "1810740d",
   "metadata": {
    "execution": {
     "iopub.execute_input": "2022-02-10T17:16:19.292492Z",
     "iopub.status.busy": "2022-02-10T17:16:19.291997Z",
     "iopub.status.idle": "2022-02-10T17:16:19.695805Z",
     "shell.execute_reply": "2022-02-10T17:16:19.695362Z"
    }
   },
   "outputs": [
    {
     "data": {
      "text/plain": [
       "3-element Vector{Vector}:\n",
       " [1, 2, 3, 4]\n",
       " ['K', 'a', 't', 'e']\n",
       " [\"t\", \"a\", \"w\", \"K\"]"
      ]
     },
     "execution_count": 9,
     "metadata": {},
     "output_type": "execute_result"
    }
   ],
   "source": [
    "OnePiece.extension.vector.sort_like([[2, 4, 1, 3], ve_...])"
   ]
  },
  {
   "cell_type": "code",
   "execution_count": 10,
   "id": "ab6779f9",
   "metadata": {
    "execution": {
     "iopub.execute_input": "2022-02-10T17:16:19.697727Z",
     "iopub.status.busy": "2022-02-10T17:16:19.697169Z",
     "iopub.status.idle": "2022-02-10T17:16:19.713626Z",
     "shell.execute_reply": "2022-02-10T17:16:19.713107Z"
    }
   },
   "outputs": [
    {
     "data": {
      "text/plain": [
       "3-element Vector{Vector}:\n",
       " [1, 2, 3, 4]\n",
       " ['e', 't', 'a', 'K']\n",
       " [\"K\", \"w\", \"a\", \"t\"]"
      ]
     },
     "execution_count": 10,
     "metadata": {},
     "output_type": "execute_result"
    }
   ],
   "source": [
    "OnePiece.extension.vector.sort_like([[3, 1, 4, 2], ve_...])"
   ]
  },
  {
   "cell_type": "markdown",
   "id": "ae3e7440",
   "metadata": {},
   "source": [
    "## get_order"
   ]
  },
  {
   "cell_type": "code",
   "execution_count": 11,
   "id": "b46582eb",
   "metadata": {
    "execution": {
     "iopub.execute_input": "2022-02-10T17:16:19.715446Z",
     "iopub.status.busy": "2022-02-10T17:16:19.714955Z",
     "iopub.status.idle": "2022-02-10T17:16:20.356474Z",
     "shell.execute_reply": "2022-02-10T17:16:20.356092Z"
    }
   },
   "outputs": [
    {
     "data": {
      "text/plain": [
       "5-element Vector{Union{Nothing, Int64}}:\n",
       "  1\n",
       "  9\n",
       " 11\n",
       " 15\n",
       "   nothing"
      ]
     },
     "execution_count": 11,
     "metadata": {},
     "output_type": "execute_result"
    }
   ],
   "source": [
    "al_ = collect(\"abcdefghijklmnopqrstuvwxyz\")\n",
    "\n",
    "OnePiece.extension.vector.get_order(al_, \"aiko!\")"
   ]
  }
 ],
 "metadata": {
  "@webio": {
   "lastCommId": "4a00e23f06e24ca18d3d19566aef8227",
   "lastKernelId": "ae0b5cc2-7385-4f97-a996-3ae50bc9cffa"
  },
  "kernelspec": {
   "display_name": "Julia 1.7.1",
   "language": "julia",
   "name": "julia-1.7"
  },
  "language_info": {
   "file_extension": ".jl",
   "mimetype": "application/julia",
   "name": "julia",
   "version": "1.7.2"
  }
 },
 "nbformat": 4,
 "nbformat_minor": 5
}
