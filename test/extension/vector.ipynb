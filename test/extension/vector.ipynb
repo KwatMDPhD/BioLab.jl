{
 "cells": [
  {
   "cell_type": "code",
   "execution_count": null,
   "id": "34e4701e",
   "metadata": {
    "execution": {
     "iopub.execute_input": "2022-02-09T18:51:39.656997Z",
     "iopub.status.busy": "2022-02-09T18:51:39.275284Z",
     "iopub.status.idle": "2022-02-09T18:51:40.650163Z",
     "shell.execute_reply": "2022-02-09T18:51:40.649532Z"
    }
   },
   "outputs": [],
   "source": [
    "using Revise\n",
    "using BenchmarkTools"
   ]
  },
  {
   "cell_type": "code",
   "execution_count": null,
   "id": "77d0f5bf",
   "metadata": {
    "execution": {
     "iopub.execute_input": "2022-02-09T18:51:40.652952Z",
     "iopub.status.busy": "2022-02-09T18:51:40.652174Z",
     "iopub.status.idle": "2022-02-09T18:51:51.457801Z",
     "shell.execute_reply": "2022-02-09T18:51:51.457261Z"
    }
   },
   "outputs": [],
   "source": [
    "using OnePiece"
   ]
  },
  {
   "cell_type": "markdown",
   "id": "f90f0b98",
   "metadata": {},
   "source": [
    "## get_longest_common_prefix"
   ]
  },
  {
   "cell_type": "code",
   "execution_count": null,
   "id": "750c86a8",
   "metadata": {
    "execution": {
     "iopub.execute_input": "2022-02-09T18:51:53.207781Z",
     "iopub.status.busy": "2022-02-09T18:51:51.459382Z",
     "iopub.status.idle": "2022-02-09T18:51:55.289566Z",
     "shell.execute_reply": "2022-02-09T18:51:55.289049Z"
    }
   },
   "outputs": [],
   "source": [
    "for ve_ in [\n",
    "    [[], []],\n",
    "    [[1], [1, 2]],\n",
    "    [[1.0], [1.0, 2.0]],\n",
    "    [['a'], ['a', 'b']],\n",
    "    [[\"a\"], [\"a\", \"b\"]],\n",
    "    [[1, 2, 3], [1, 4, 5]],\n",
    "]\n",
    "\n",
    "    println(OnePiece.extension.vector.get_longest_common_prefix(ve_))\n",
    "\n",
    "end"
   ]
  },
  {
   "cell_type": "code",
   "execution_count": null,
   "id": "1ab719fa",
   "metadata": {
    "execution": {
     "iopub.execute_input": "2022-02-09T18:51:55.291558Z",
     "iopub.status.busy": "2022-02-09T18:51:55.290893Z",
     "iopub.status.idle": "2022-02-09T18:51:55.963887Z",
     "shell.execute_reply": "2022-02-09T18:51:55.963419Z"
    }
   },
   "outputs": [],
   "source": [
    "OnePiece.extension.vector.get_longest_common_prefix([\"abc\", \"abcd\", \"a\"])"
   ]
  },
  {
   "cell_type": "markdown",
   "id": "e4943067",
   "metadata": {},
   "source": [
    "## is_in"
   ]
  },
  {
   "cell_type": "code",
   "execution_count": null,
   "id": "6f32b75e",
   "metadata": {
    "execution": {
     "iopub.execute_input": "2022-02-09T18:51:55.965876Z",
     "iopub.status.busy": "2022-02-09T18:51:55.965281Z",
     "iopub.status.idle": "2022-02-09T18:51:55.978646Z",
     "shell.execute_reply": "2022-02-09T18:51:55.977931Z"
    }
   },
   "outputs": [],
   "source": [
    "ca_ = collect(\"A23456789XJQK\")\n",
    "\n",
    "st1_ = ['1', '2', 'K']\n",
    "\n",
    ";"
   ]
  },
  {
   "cell_type": "code",
   "execution_count": null,
   "id": "7f612fb7",
   "metadata": {
    "execution": {
     "iopub.execute_input": "2022-02-09T18:51:55.980853Z",
     "iopub.status.busy": "2022-02-09T18:51:55.980147Z",
     "iopub.status.idle": "2022-02-09T18:51:56.965338Z",
     "shell.execute_reply": "2022-02-09T18:51:56.964911Z"
    }
   },
   "outputs": [],
   "source": [
    "OnePiece.extension.vector.is_in(ca_, st1_)"
   ]
  },
  {
   "cell_type": "code",
   "execution_count": null,
   "id": "6f083bf8",
   "metadata": {
    "execution": {
     "iopub.execute_input": "2022-02-09T18:51:56.967453Z",
     "iopub.status.busy": "2022-02-09T18:51:56.966761Z",
     "iopub.status.idle": "2022-02-09T18:51:57.177997Z",
     "shell.execute_reply": "2022-02-09T18:51:57.177528Z"
    }
   },
   "outputs": [],
   "source": [
    "ca_id = Dict(ca => id for (id, ca) in enumerate(ca_))\n",
    "\n",
    "OnePiece.extension.vector.is_in(ca_id, st1_)"
   ]
  },
  {
   "cell_type": "markdown",
   "id": "7892f1bc",
   "metadata": {},
   "source": [
    "## sort_like"
   ]
  },
  {
   "cell_type": "code",
   "execution_count": null,
   "id": "68bcb85b",
   "metadata": {
    "execution": {
     "iopub.execute_input": "2022-02-09T18:51:57.179914Z",
     "iopub.status.busy": "2022-02-09T18:51:57.179336Z",
     "iopub.status.idle": "2022-02-09T18:51:58.311328Z",
     "shell.execute_reply": "2022-02-09T18:51:58.310868Z"
    }
   },
   "outputs": [],
   "source": [
    "ve_ = [['a', 'e', 'K', 't'], [\"a\", \"K\", \"t\", \"w\"]]"
   ]
  },
  {
   "cell_type": "code",
   "execution_count": null,
   "id": "1810740d",
   "metadata": {
    "execution": {
     "iopub.execute_input": "2022-02-09T18:51:58.313146Z",
     "iopub.status.busy": "2022-02-09T18:51:58.312562Z",
     "iopub.status.idle": "2022-02-09T18:51:58.802994Z",
     "shell.execute_reply": "2022-02-09T18:51:58.802520Z"
    }
   },
   "outputs": [],
   "source": [
    "OnePiece.extension.vector.sort_like([[2, 4, 1, 3], ve_...])"
   ]
  },
  {
   "cell_type": "code",
   "execution_count": null,
   "id": "ab6779f9",
   "metadata": {
    "execution": {
     "iopub.execute_input": "2022-02-09T18:51:58.804889Z",
     "iopub.status.busy": "2022-02-09T18:51:58.804302Z",
     "iopub.status.idle": "2022-02-09T18:51:58.822215Z",
     "shell.execute_reply": "2022-02-09T18:51:58.821728Z"
    }
   },
   "outputs": [],
   "source": [
    "OnePiece.extension.vector.sort_like([[3, 1, 4, 2], ve_...])"
   ]
  },
  {
   "cell_type": "markdown",
   "id": "ae3e7440",
   "metadata": {},
   "source": [
    "## get_order"
   ]
  },
  {
   "cell_type": "code",
   "execution_count": null,
   "id": "b46582eb",
   "metadata": {
    "execution": {
     "iopub.execute_input": "2022-02-09T18:51:58.824227Z",
     "iopub.status.busy": "2022-02-09T18:51:58.823584Z",
     "iopub.status.idle": "2022-02-09T18:51:59.578545Z",
     "shell.execute_reply": "2022-02-09T18:51:59.578092Z"
    }
   },
   "outputs": [],
   "source": [
    "al_ = collect(\"abcdefghijklmnopqrstuvwxyz\")\n",
    "\n",
    "OnePiece.extension.vector.get_order(al_, \"aiko!\")"
   ]
  }
 ],
 "metadata": {
  "@webio": {
   "lastCommId": "4a00e23f06e24ca18d3d19566aef8227",
   "lastKernelId": "ae0b5cc2-7385-4f97-a996-3ae50bc9cffa"
  },
  "kernelspec": {
   "display_name": "Julia 1.7.1",
   "language": "julia",
   "name": "julia-1.7"
  },
  "language_info": {
   "file_extension": ".jl",
   "mimetype": "application/julia",
   "name": "julia",
   "version": "1.7.2"
  }
 },
 "nbformat": 4,
 "nbformat_minor": 5
}
