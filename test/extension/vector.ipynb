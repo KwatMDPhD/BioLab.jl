{
 "cells": [
  {
   "cell_type": "code",
   "execution_count": null,
   "id": "34e4701e",
   "metadata": {
    "execution": {
     "iopub.execute_input": "2022-02-09T00:01:28.862725Z",
     "iopub.status.busy": "2022-02-09T00:01:28.493495Z",
     "iopub.status.idle": "2022-02-09T00:01:29.774975Z",
     "shell.execute_reply": "2022-02-09T00:01:29.774428Z"
    }
   },
   "outputs": [],
   "source": [
    "using Revise\n",
    "using BenchmarkTools"
   ]
  },
  {
   "cell_type": "code",
   "execution_count": null,
   "id": "77d0f5bf",
   "metadata": {
    "execution": {
     "iopub.execute_input": "2022-02-09T00:01:29.776975Z",
     "iopub.status.busy": "2022-02-09T00:01:29.776436Z",
     "iopub.status.idle": "2022-02-09T00:01:39.686750Z",
     "shell.execute_reply": "2022-02-09T00:01:39.686218Z"
    }
   },
   "outputs": [],
   "source": [
    "using OnePiece"
   ]
  },
  {
   "cell_type": "markdown",
   "id": "f90f0b98",
   "metadata": {},
   "source": [
    "## get_longest_common_prefix"
   ]
  },
  {
   "cell_type": "code",
   "execution_count": null,
   "id": "750c86a8",
   "metadata": {
    "execution": {
     "iopub.execute_input": "2022-02-09T00:01:41.392655Z",
     "iopub.status.busy": "2022-02-09T00:01:39.688213Z",
     "iopub.status.idle": "2022-02-09T00:01:43.388673Z",
     "shell.execute_reply": "2022-02-09T00:01:43.388152Z"
    }
   },
   "outputs": [],
   "source": [
    "for ve_ in [\n",
    "    [[], []],\n",
    "    [[1], [1, 2]],\n",
    "    [[1.0], [1.0, 2.0]],\n",
    "    [['a'], ['a', 'b']],\n",
    "    [[\"a\"], [\"a\", \"b\"]],\n",
    "    [[1, 2, 3], [1, 4, 5]],\n",
    "]\n",
    "\n",
    "    println(OnePiece.extension.vector.get_longest_common_prefix(ve_))\n",
    "\n",
    "end"
   ]
  },
  {
   "cell_type": "code",
   "execution_count": null,
   "id": "1ab719fa",
   "metadata": {
    "execution": {
     "iopub.execute_input": "2022-02-09T00:01:43.390560Z",
     "iopub.status.busy": "2022-02-09T00:01:43.389985Z",
     "iopub.status.idle": "2022-02-09T00:01:44.051438Z",
     "shell.execute_reply": "2022-02-09T00:01:44.050969Z"
    }
   },
   "outputs": [],
   "source": [
    "OnePiece.extension.vector.get_longest_common_prefix([\"abc\", \"abcd\", \"a\"])"
   ]
  },
  {
   "cell_type": "markdown",
   "id": "e4943067",
   "metadata": {},
   "source": [
    "## is_in"
   ]
  },
  {
   "cell_type": "code",
   "execution_count": null,
   "id": "6f32b75e",
   "metadata": {
    "execution": {
     "iopub.execute_input": "2022-02-09T00:01:44.053539Z",
     "iopub.status.busy": "2022-02-09T00:01:44.052832Z",
     "iopub.status.idle": "2022-02-09T00:01:44.065861Z",
     "shell.execute_reply": "2022-02-09T00:01:44.065354Z"
    }
   },
   "outputs": [],
   "source": [
    "ca_ = collect(\"A23456789XJQK\")\n",
    "\n",
    "st1_ = ['1', '2', 'K']\n",
    "\n",
    ";"
   ]
  },
  {
   "cell_type": "code",
   "execution_count": null,
   "id": "7f612fb7",
   "metadata": {
    "execution": {
     "iopub.execute_input": "2022-02-09T00:01:44.067875Z",
     "iopub.status.busy": "2022-02-09T00:01:44.067349Z",
     "iopub.status.idle": "2022-02-09T00:01:44.980212Z",
     "shell.execute_reply": "2022-02-09T00:01:44.979754Z"
    }
   },
   "outputs": [],
   "source": [
    "OnePiece.extension.vector.is_in(ca_, st1_)"
   ]
  },
  {
   "cell_type": "code",
   "execution_count": null,
   "id": "6f083bf8",
   "metadata": {
    "execution": {
     "iopub.execute_input": "2022-02-09T00:01:44.982136Z",
     "iopub.status.busy": "2022-02-09T00:01:44.981552Z",
     "iopub.status.idle": "2022-02-09T00:01:45.186498Z",
     "shell.execute_reply": "2022-02-09T00:01:45.186041Z"
    }
   },
   "outputs": [],
   "source": [
    "ca_id = Dict(ca => id for (id, ca) in enumerate(ca_))\n",
    "\n",
    "OnePiece.extension.vector.is_in(ca_id, st1_)"
   ]
  },
  {
   "cell_type": "markdown",
   "id": "7892f1bc",
   "metadata": {},
   "source": [
    "## sort_like"
   ]
  },
  {
   "cell_type": "code",
   "execution_count": null,
   "id": "68bcb85b",
   "metadata": {
    "execution": {
     "iopub.execute_input": "2022-02-09T00:01:45.188528Z",
     "iopub.status.busy": "2022-02-09T00:01:45.187923Z",
     "iopub.status.idle": "2022-02-09T00:01:46.307418Z",
     "shell.execute_reply": "2022-02-09T00:01:46.306878Z"
    }
   },
   "outputs": [],
   "source": [
    "ve_ = [['a', 'e', 'K', 't'], [\"a\", \"K\", \"t\", \"w\"]]"
   ]
  },
  {
   "cell_type": "code",
   "execution_count": null,
   "id": "1810740d",
   "metadata": {
    "execution": {
     "iopub.execute_input": "2022-02-09T00:01:46.309383Z",
     "iopub.status.busy": "2022-02-09T00:01:46.308768Z",
     "iopub.status.idle": "2022-02-09T00:01:46.798305Z",
     "shell.execute_reply": "2022-02-09T00:01:46.797787Z"
    }
   },
   "outputs": [],
   "source": [
    "OnePiece.extension.vector.sort_like([[2, 4, 1, 3], ve_...])"
   ]
  },
  {
   "cell_type": "code",
   "execution_count": null,
   "id": "ab6779f9",
   "metadata": {
    "execution": {
     "iopub.execute_input": "2022-02-09T00:01:46.800194Z",
     "iopub.status.busy": "2022-02-09T00:01:46.799591Z",
     "iopub.status.idle": "2022-02-09T00:01:46.817867Z",
     "shell.execute_reply": "2022-02-09T00:01:46.817411Z"
    }
   },
   "outputs": [],
   "source": [
    "OnePiece.extension.vector.sort_like([[3, 1, 4, 2], ve_...])"
   ]
  },
  {
   "cell_type": "markdown",
   "id": "ae3e7440",
   "metadata": {},
   "source": [
    "## get_order"
   ]
  },
  {
   "cell_type": "code",
   "execution_count": null,
   "id": "b46582eb",
   "metadata": {
    "execution": {
     "iopub.execute_input": "2022-02-09T00:01:46.820093Z",
     "iopub.status.busy": "2022-02-09T00:01:46.819347Z",
     "iopub.status.idle": "2022-02-09T00:01:47.548836Z",
     "shell.execute_reply": "2022-02-09T00:01:47.548454Z"
    }
   },
   "outputs": [],
   "source": [
    "al_ = collect(\"abcdefghijklmnopqrstuvwxyz\")\n",
    "\n",
    "OnePiece.extension.vector.get_order(al_, \"aiko!\")"
   ]
  }
 ],
 "metadata": {
  "@webio": {
   "lastCommId": "4a00e23f06e24ca18d3d19566aef8227",
   "lastKernelId": "ae0b5cc2-7385-4f97-a996-3ae50bc9cffa"
  },
  "kernelspec": {
   "display_name": "Julia 1.7.1",
   "language": "julia",
   "name": "julia-1.7"
  },
  "language_info": {
   "file_extension": ".jl",
   "mimetype": "application/julia",
   "name": "julia",
   "version": "1.7.2"
  }
 },
 "nbformat": 4,
 "nbformat_minor": 5
}
