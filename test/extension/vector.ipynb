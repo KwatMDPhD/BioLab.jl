{
 "cells": [
  {
   "cell_type": "code",
   "execution_count": null,
   "id": "34e4701e",
   "metadata": {
    "execution": {
     "iopub.execute_input": "2022-02-09T02:35:38.553275Z",
     "iopub.status.busy": "2022-02-09T02:35:38.154825Z",
     "iopub.status.idle": "2022-02-09T02:35:39.560271Z",
     "shell.execute_reply": "2022-02-09T02:35:39.559718Z"
    }
   },
   "outputs": [],
   "source": [
    "using Revise\n",
    "using BenchmarkTools"
   ]
  },
  {
   "cell_type": "code",
   "execution_count": null,
   "id": "77d0f5bf",
   "metadata": {
    "execution": {
     "iopub.execute_input": "2022-02-09T02:35:39.562172Z",
     "iopub.status.busy": "2022-02-09T02:35:39.561650Z",
     "iopub.status.idle": "2022-02-09T02:35:50.701193Z",
     "shell.execute_reply": "2022-02-09T02:35:50.700565Z"
    }
   },
   "outputs": [],
   "source": [
    "using OnePiece"
   ]
  },
  {
   "cell_type": "markdown",
   "id": "f90f0b98",
   "metadata": {},
   "source": [
    "## get_longest_common_prefix"
   ]
  },
  {
   "cell_type": "code",
   "execution_count": null,
   "id": "750c86a8",
   "metadata": {
    "execution": {
     "iopub.execute_input": "2022-02-09T02:35:52.449745Z",
     "iopub.status.busy": "2022-02-09T02:35:50.702861Z",
     "iopub.status.idle": "2022-02-09T02:35:54.537801Z",
     "shell.execute_reply": "2022-02-09T02:35:54.537128Z"
    }
   },
   "outputs": [],
   "source": [
    "for ve_ in [\n",
    "    [[], []],\n",
    "    [[1], [1, 2]],\n",
    "    [[1.0], [1.0, 2.0]],\n",
    "    [['a'], ['a', 'b']],\n",
    "    [[\"a\"], [\"a\", \"b\"]],\n",
    "    [[1, 2, 3], [1, 4, 5]],\n",
    "]\n",
    "\n",
    "    println(OnePiece.extension.vector.get_longest_common_prefix(ve_))\n",
    "\n",
    "end"
   ]
  },
  {
   "cell_type": "code",
   "execution_count": null,
   "id": "1ab719fa",
   "metadata": {
    "execution": {
     "iopub.execute_input": "2022-02-09T02:35:54.539988Z",
     "iopub.status.busy": "2022-02-09T02:35:54.539356Z",
     "iopub.status.idle": "2022-02-09T02:35:55.196962Z",
     "shell.execute_reply": "2022-02-09T02:35:55.196504Z"
    }
   },
   "outputs": [],
   "source": [
    "OnePiece.extension.vector.get_longest_common_prefix([\"abc\", \"abcd\", \"a\"])"
   ]
  },
  {
   "cell_type": "markdown",
   "id": "e4943067",
   "metadata": {},
   "source": [
    "## is_in"
   ]
  },
  {
   "cell_type": "code",
   "execution_count": null,
   "id": "6f32b75e",
   "metadata": {
    "execution": {
     "iopub.execute_input": "2022-02-09T02:35:55.199028Z",
     "iopub.status.busy": "2022-02-09T02:35:55.198380Z",
     "iopub.status.idle": "2022-02-09T02:35:55.210664Z",
     "shell.execute_reply": "2022-02-09T02:35:55.210146Z"
    }
   },
   "outputs": [],
   "source": [
    "ca_ = collect(\"A23456789XJQK\")\n",
    "\n",
    "st1_ = ['1', '2', 'K']\n",
    "\n",
    ";"
   ]
  },
  {
   "cell_type": "code",
   "execution_count": null,
   "id": "7f612fb7",
   "metadata": {
    "execution": {
     "iopub.execute_input": "2022-02-09T02:35:55.212613Z",
     "iopub.status.busy": "2022-02-09T02:35:55.211966Z",
     "iopub.status.idle": "2022-02-09T02:35:56.182071Z",
     "shell.execute_reply": "2022-02-09T02:35:56.181556Z"
    }
   },
   "outputs": [],
   "source": [
    "OnePiece.extension.vector.is_in(ca_, st1_)"
   ]
  },
  {
   "cell_type": "code",
   "execution_count": null,
   "id": "6f083bf8",
   "metadata": {
    "execution": {
     "iopub.execute_input": "2022-02-09T02:35:56.184257Z",
     "iopub.status.busy": "2022-02-09T02:35:56.183401Z",
     "iopub.status.idle": "2022-02-09T02:35:56.393151Z",
     "shell.execute_reply": "2022-02-09T02:35:56.392694Z"
    }
   },
   "outputs": [],
   "source": [
    "ca_id = Dict(ca => id for (id, ca) in enumerate(ca_))\n",
    "\n",
    "OnePiece.extension.vector.is_in(ca_id, st1_)"
   ]
  },
  {
   "cell_type": "markdown",
   "id": "7892f1bc",
   "metadata": {},
   "source": [
    "## sort_like"
   ]
  },
  {
   "cell_type": "code",
   "execution_count": null,
   "id": "68bcb85b",
   "metadata": {
    "execution": {
     "iopub.execute_input": "2022-02-09T02:35:56.395121Z",
     "iopub.status.busy": "2022-02-09T02:35:56.394488Z",
     "iopub.status.idle": "2022-02-09T02:35:57.499623Z",
     "shell.execute_reply": "2022-02-09T02:35:57.499158Z"
    }
   },
   "outputs": [],
   "source": [
    "ve_ = [['a', 'e', 'K', 't'], [\"a\", \"K\", \"t\", \"w\"]]"
   ]
  },
  {
   "cell_type": "code",
   "execution_count": null,
   "id": "1810740d",
   "metadata": {
    "execution": {
     "iopub.execute_input": "2022-02-09T02:35:57.501512Z",
     "iopub.status.busy": "2022-02-09T02:35:57.500899Z",
     "iopub.status.idle": "2022-02-09T02:35:57.990889Z",
     "shell.execute_reply": "2022-02-09T02:35:57.990361Z"
    }
   },
   "outputs": [],
   "source": [
    "OnePiece.extension.vector.sort_like([[2, 4, 1, 3], ve_...])"
   ]
  },
  {
   "cell_type": "code",
   "execution_count": null,
   "id": "ab6779f9",
   "metadata": {
    "execution": {
     "iopub.execute_input": "2022-02-09T02:35:57.992808Z",
     "iopub.status.busy": "2022-02-09T02:35:57.992182Z",
     "iopub.status.idle": "2022-02-09T02:35:58.010165Z",
     "shell.execute_reply": "2022-02-09T02:35:58.009719Z"
    }
   },
   "outputs": [],
   "source": [
    "OnePiece.extension.vector.sort_like([[3, 1, 4, 2], ve_...])"
   ]
  },
  {
   "cell_type": "markdown",
   "id": "ae3e7440",
   "metadata": {},
   "source": [
    "## get_order"
   ]
  },
  {
   "cell_type": "code",
   "execution_count": null,
   "id": "b46582eb",
   "metadata": {
    "execution": {
     "iopub.execute_input": "2022-02-09T02:35:58.012313Z",
     "iopub.status.busy": "2022-02-09T02:35:58.011739Z",
     "iopub.status.idle": "2022-02-09T02:35:58.755730Z",
     "shell.execute_reply": "2022-02-09T02:35:58.755224Z"
    }
   },
   "outputs": [],
   "source": [
    "al_ = collect(\"abcdefghijklmnopqrstuvwxyz\")\n",
    "\n",
    "OnePiece.extension.vector.get_order(al_, \"aiko!\")"
   ]
  }
 ],
 "metadata": {
  "@webio": {
   "lastCommId": "4a00e23f06e24ca18d3d19566aef8227",
   "lastKernelId": "ae0b5cc2-7385-4f97-a996-3ae50bc9cffa"
  },
  "kernelspec": {
   "display_name": "Julia 1.7.1",
   "language": "julia",
   "name": "julia-1.7"
  },
  "language_info": {
   "file_extension": ".jl",
   "mimetype": "application/julia",
   "name": "julia",
   "version": "1.7.2"
  }
 },
 "nbformat": 4,
 "nbformat_minor": 5
}
