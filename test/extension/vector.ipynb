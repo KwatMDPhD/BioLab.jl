{
 "cells": [
  {
   "cell_type": "code",
   "execution_count": null,
   "id": "017464da",
   "metadata": {
    "execution": {
     "iopub.execute_input": "2022-02-13T21:48:33.573437Z",
     "iopub.status.busy": "2022-02-13T21:48:33.214735Z",
     "iopub.status.idle": "2022-02-13T21:48:33.772616Z",
     "shell.execute_reply": "2022-02-13T21:48:33.772125Z"
    }
   },
   "outputs": [],
   "source": [
    "TE = joinpath(tempdir(), \"OnePiece.test\")\n",
    "\n",
    "if isdir(TE)\n",
    "\n",
    "    rm(TE, recursive = true)\n",
    "\n",
    "    println(\"Removed \", TE, \".\")\n",
    "\n",
    "end\n",
    "\n",
    "mkdir(TE)\n",
    "\n",
    "println(\"Made \", TE, \".\")"
   ]
  },
  {
   "cell_type": "code",
   "execution_count": null,
   "id": "34e4701e",
   "metadata": {
    "execution": {
     "iopub.execute_input": "2022-02-13T21:48:33.774571Z",
     "iopub.status.busy": "2022-02-13T21:48:33.774059Z",
     "iopub.status.idle": "2022-02-13T21:48:38.097349Z",
     "shell.execute_reply": "2022-02-13T21:48:38.096900Z"
    }
   },
   "outputs": [],
   "source": [
    "using OnePiece"
   ]
  },
  {
   "cell_type": "markdown",
   "id": "b92a3da9",
   "metadata": {},
   "source": [
    "---"
   ]
  },
  {
   "cell_type": "markdown",
   "id": "f90f0b98",
   "metadata": {},
   "source": [
    "## get_longest_common_prefix"
   ]
  },
  {
   "cell_type": "code",
   "execution_count": null,
   "id": "750c86a8",
   "metadata": {
    "execution": {
     "iopub.execute_input": "2022-02-13T21:48:38.440017Z",
     "iopub.status.busy": "2022-02-13T21:48:38.098774Z",
     "iopub.status.idle": "2022-02-13T21:48:39.704079Z",
     "shell.execute_reply": "2022-02-13T21:48:39.703624Z"
    }
   },
   "outputs": [],
   "source": [
    "for ve_ in [\n",
    "    [[], []],\n",
    "    [[1], [1, 2]],\n",
    "    [[1.0], [1.0, 2.0]],\n",
    "    [['a'], ['a', 'b']],\n",
    "    [[\"a\"], [\"a\", \"b\"]],\n",
    "    [[1, 2, 3], [1, 4, 5]],\n",
    "]\n",
    "\n",
    "    println(OnePiece.extension.vector.get_longest_common_prefix(ve_))\n",
    "\n",
    "end"
   ]
  },
  {
   "cell_type": "code",
   "execution_count": null,
   "id": "1ab719fa",
   "metadata": {
    "execution": {
     "iopub.execute_input": "2022-02-13T21:48:39.705987Z",
     "iopub.status.busy": "2022-02-13T21:48:39.705486Z",
     "iopub.status.idle": "2022-02-13T21:48:40.398033Z",
     "shell.execute_reply": "2022-02-13T21:48:40.397637Z"
    }
   },
   "outputs": [],
   "source": [
    "OnePiece.extension.vector.get_longest_common_prefix([\"abc\", \"abcd\", \"a\"])"
   ]
  },
  {
   "cell_type": "markdown",
   "id": "e4943067",
   "metadata": {},
   "source": [
    "## is_in"
   ]
  },
  {
   "cell_type": "code",
   "execution_count": null,
   "id": "6f32b75e",
   "metadata": {
    "execution": {
     "iopub.execute_input": "2022-02-13T21:48:40.400918Z",
     "iopub.status.busy": "2022-02-13T21:48:40.400100Z",
     "iopub.status.idle": "2022-02-13T21:48:40.401788Z",
     "shell.execute_reply": "2022-02-13T21:48:40.401436Z"
    }
   },
   "outputs": [],
   "source": [
    "ca_ = collect(\"A23456789XJQK\")\n",
    "\n",
    "st1_ = ['1', '2', 'K']\n",
    "\n",
    ";"
   ]
  },
  {
   "cell_type": "code",
   "execution_count": null,
   "id": "7f612fb7",
   "metadata": {
    "execution": {
     "iopub.execute_input": "2022-02-13T21:48:40.403856Z",
     "iopub.status.busy": "2022-02-13T21:48:40.403340Z",
     "iopub.status.idle": "2022-02-13T21:48:41.370517Z",
     "shell.execute_reply": "2022-02-13T21:48:41.370128Z"
    }
   },
   "outputs": [],
   "source": [
    "OnePiece.extension.vector.is_in(ca_, st1_)"
   ]
  },
  {
   "cell_type": "code",
   "execution_count": null,
   "id": "6f083bf8",
   "metadata": {
    "execution": {
     "iopub.execute_input": "2022-02-13T21:48:41.372568Z",
     "iopub.status.busy": "2022-02-13T21:48:41.372078Z",
     "iopub.status.idle": "2022-02-13T21:48:41.515293Z",
     "shell.execute_reply": "2022-02-13T21:48:41.514855Z"
    }
   },
   "outputs": [],
   "source": [
    "ca_id = Dict(ca => id for (id, ca) in enumerate(ca_))\n",
    "\n",
    "OnePiece.extension.vector.is_in(ca_id, st1_)"
   ]
  },
  {
   "cell_type": "markdown",
   "id": "7892f1bc",
   "metadata": {},
   "source": [
    "## sort_like"
   ]
  },
  {
   "cell_type": "code",
   "execution_count": null,
   "id": "68bcb85b",
   "metadata": {
    "execution": {
     "iopub.execute_input": "2022-02-13T21:48:41.517511Z",
     "iopub.status.busy": "2022-02-13T21:48:41.516976Z",
     "iopub.status.idle": "2022-02-13T21:48:42.431484Z",
     "shell.execute_reply": "2022-02-13T21:48:42.431101Z"
    }
   },
   "outputs": [],
   "source": [
    "ve_ = [['a', 'e', 'K', 't'], [\"a\", \"K\", \"t\", \"w\"]]"
   ]
  },
  {
   "cell_type": "code",
   "execution_count": null,
   "id": "1810740d",
   "metadata": {
    "execution": {
     "iopub.execute_input": "2022-02-13T21:48:42.433377Z",
     "iopub.status.busy": "2022-02-13T21:48:42.432883Z",
     "iopub.status.idle": "2022-02-13T21:48:42.859743Z",
     "shell.execute_reply": "2022-02-13T21:48:42.859345Z"
    }
   },
   "outputs": [],
   "source": [
    "OnePiece.extension.vector.sort_like([[2, 4, 1, 3], ve_...])"
   ]
  },
  {
   "cell_type": "code",
   "execution_count": null,
   "id": "ab6779f9",
   "metadata": {
    "execution": {
     "iopub.execute_input": "2022-02-13T21:48:42.862064Z",
     "iopub.status.busy": "2022-02-13T21:48:42.861089Z",
     "iopub.status.idle": "2022-02-13T21:48:42.867987Z",
     "shell.execute_reply": "2022-02-13T21:48:42.867601Z"
    }
   },
   "outputs": [],
   "source": [
    "OnePiece.extension.vector.sort_like([[3, 1, 4, 2], ve_...])"
   ]
  },
  {
   "cell_type": "markdown",
   "id": "ae3e7440",
   "metadata": {},
   "source": [
    "## get_order"
   ]
  },
  {
   "cell_type": "code",
   "execution_count": null,
   "id": "b46582eb",
   "metadata": {
    "execution": {
     "iopub.execute_input": "2022-02-13T21:48:42.870389Z",
     "iopub.status.busy": "2022-02-13T21:48:42.869890Z",
     "iopub.status.idle": "2022-02-13T21:48:43.500135Z",
     "shell.execute_reply": "2022-02-13T21:48:43.499756Z"
    }
   },
   "outputs": [],
   "source": [
    "al_ = collect(\"abcdefghijklmnopqrstuvwxyz\")\n",
    "\n",
    "OnePiece.extension.vector.get_order(al_, \"aiko!\")"
   ]
  },
  {
   "cell_type": "markdown",
   "id": "3f396855",
   "metadata": {},
   "source": [
    "---"
   ]
  },
  {
   "cell_type": "code",
   "execution_count": null,
   "id": "b4af2023",
   "metadata": {
    "execution": {
     "iopub.execute_input": "2022-02-13T21:48:43.502159Z",
     "iopub.status.busy": "2022-02-13T21:48:43.501565Z",
     "iopub.status.idle": "2022-02-13T21:48:43.504022Z",
     "shell.execute_reply": "2022-02-13T21:48:43.503637Z"
    }
   },
   "outputs": [],
   "source": [
    "if isdir(TE)\n",
    "\n",
    "    rm(TE, recursive = true)\n",
    "\n",
    "    println(\"Removed \", TE, \".\")\n",
    "\n",
    "end"
   ]
  }
 ],
 "metadata": {
  "kernelspec": {
   "display_name": "Julia 1.7.2",
   "language": "julia",
   "name": "julia-1.7"
  },
  "language_info": {
   "file_extension": ".jl",
   "mimetype": "application/julia",
   "name": "julia",
   "version": "1.7.2"
  }
 },
 "nbformat": 4,
 "nbformat_minor": 5
}
