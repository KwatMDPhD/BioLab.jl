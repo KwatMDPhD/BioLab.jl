{
 "cells": [
  {
   "cell_type": "code",
   "execution_count": null,
   "id": "017464da",
   "metadata": {
    "execution": {
     "iopub.execute_input": "2022-02-13T05:31:28.958295Z",
     "iopub.status.busy": "2022-02-13T05:31:28.620732Z",
     "iopub.status.idle": "2022-02-13T05:31:29.145983Z",
     "shell.execute_reply": "2022-02-13T05:31:29.145478Z"
    }
   },
   "outputs": [],
   "source": [
    "TE = joinpath(tempdir(), \"OnePiece.test\")\n",
    "\n",
    "if isdir(TE)\n",
    "\n",
    "    rm(TE, recursive = true)\n",
    "\n",
    "    println(\"Removed \", TE, \".\")\n",
    "\n",
    "end\n",
    "\n",
    "mkdir(TE)\n",
    "\n",
    "println(\"Made \", TE, \".\")"
   ]
  },
  {
   "cell_type": "code",
   "execution_count": null,
   "id": "34e4701e",
   "metadata": {
    "execution": {
     "iopub.execute_input": "2022-02-13T05:31:29.147878Z",
     "iopub.status.busy": "2022-02-13T05:31:29.147365Z",
     "iopub.status.idle": "2022-02-13T05:31:33.559545Z",
     "shell.execute_reply": "2022-02-13T05:31:33.559011Z"
    }
   },
   "outputs": [],
   "source": [
    "using OnePiece"
   ]
  },
  {
   "cell_type": "markdown",
   "id": "b92a3da9",
   "metadata": {},
   "source": [
    "---"
   ]
  },
  {
   "cell_type": "markdown",
   "id": "f90f0b98",
   "metadata": {},
   "source": [
    "## get_longest_common_prefix"
   ]
  },
  {
   "cell_type": "code",
   "execution_count": null,
   "id": "750c86a8",
   "metadata": {
    "execution": {
     "iopub.execute_input": "2022-02-13T05:31:33.912922Z",
     "iopub.status.busy": "2022-02-13T05:31:33.560981Z",
     "iopub.status.idle": "2022-02-13T05:31:35.229816Z",
     "shell.execute_reply": "2022-02-13T05:31:35.229311Z"
    }
   },
   "outputs": [],
   "source": [
    "for ve_ in [\n",
    "    [[], []],\n",
    "    [[1], [1, 2]],\n",
    "    [[1.0], [1.0, 2.0]],\n",
    "    [['a'], ['a', 'b']],\n",
    "    [[\"a\"], [\"a\", \"b\"]],\n",
    "    [[1, 2, 3], [1, 4, 5]],\n",
    "]\n",
    "\n",
    "    println(OnePiece.extension.vector.get_longest_common_prefix(ve_))\n",
    "\n",
    "end"
   ]
  },
  {
   "cell_type": "code",
   "execution_count": null,
   "id": "1ab719fa",
   "metadata": {
    "execution": {
     "iopub.execute_input": "2022-02-13T05:31:35.231695Z",
     "iopub.status.busy": "2022-02-13T05:31:35.231120Z",
     "iopub.status.idle": "2022-02-13T05:31:35.905701Z",
     "shell.execute_reply": "2022-02-13T05:31:35.905317Z"
    }
   },
   "outputs": [],
   "source": [
    "OnePiece.extension.vector.get_longest_common_prefix([\"abc\", \"abcd\", \"a\"])"
   ]
  },
  {
   "cell_type": "markdown",
   "id": "e4943067",
   "metadata": {},
   "source": [
    "## is_in"
   ]
  },
  {
   "cell_type": "code",
   "execution_count": null,
   "id": "6f32b75e",
   "metadata": {
    "execution": {
     "iopub.execute_input": "2022-02-13T05:31:35.908229Z",
     "iopub.status.busy": "2022-02-13T05:31:35.907240Z",
     "iopub.status.idle": "2022-02-13T05:31:35.909103Z",
     "shell.execute_reply": "2022-02-13T05:31:35.908748Z"
    }
   },
   "outputs": [],
   "source": [
    "ca_ = collect(\"A23456789XJQK\")\n",
    "\n",
    "st1_ = ['1', '2', 'K']\n",
    "\n",
    ";"
   ]
  },
  {
   "cell_type": "code",
   "execution_count": null,
   "id": "7f612fb7",
   "metadata": {
    "execution": {
     "iopub.execute_input": "2022-02-13T05:31:35.911244Z",
     "iopub.status.busy": "2022-02-13T05:31:35.910494Z",
     "iopub.status.idle": "2022-02-13T05:31:36.800030Z",
     "shell.execute_reply": "2022-02-13T05:31:36.799639Z"
    }
   },
   "outputs": [],
   "source": [
    "OnePiece.extension.vector.is_in(ca_, st1_)"
   ]
  },
  {
   "cell_type": "code",
   "execution_count": null,
   "id": "6f083bf8",
   "metadata": {
    "execution": {
     "iopub.execute_input": "2022-02-13T05:31:36.801983Z",
     "iopub.status.busy": "2022-02-13T05:31:36.801495Z",
     "iopub.status.idle": "2022-02-13T05:31:36.927104Z",
     "shell.execute_reply": "2022-02-13T05:31:36.926719Z"
    }
   },
   "outputs": [],
   "source": [
    "ca_id = Dict(ca => id for (id, ca) in enumerate(ca_))\n",
    "\n",
    "OnePiece.extension.vector.is_in(ca_id, st1_)"
   ]
  },
  {
   "cell_type": "markdown",
   "id": "7892f1bc",
   "metadata": {},
   "source": [
    "## sort_like"
   ]
  },
  {
   "cell_type": "code",
   "execution_count": null,
   "id": "68bcb85b",
   "metadata": {
    "execution": {
     "iopub.execute_input": "2022-02-13T05:31:36.928987Z",
     "iopub.status.busy": "2022-02-13T05:31:36.928496Z",
     "iopub.status.idle": "2022-02-13T05:31:37.773738Z",
     "shell.execute_reply": "2022-02-13T05:31:37.773357Z"
    }
   },
   "outputs": [],
   "source": [
    "ve_ = [['a', 'e', 'K', 't'], [\"a\", \"K\", \"t\", \"w\"]]"
   ]
  },
  {
   "cell_type": "code",
   "execution_count": null,
   "id": "1810740d",
   "metadata": {
    "execution": {
     "iopub.execute_input": "2022-02-13T05:31:37.775506Z",
     "iopub.status.busy": "2022-02-13T05:31:37.775002Z",
     "iopub.status.idle": "2022-02-13T05:31:38.144849Z",
     "shell.execute_reply": "2022-02-13T05:31:38.144447Z"
    }
   },
   "outputs": [],
   "source": [
    "OnePiece.extension.vector.sort_like([[2, 4, 1, 3], ve_...])"
   ]
  },
  {
   "cell_type": "code",
   "execution_count": null,
   "id": "ab6779f9",
   "metadata": {
    "execution": {
     "iopub.execute_input": "2022-02-13T05:31:38.146656Z",
     "iopub.status.busy": "2022-02-13T05:31:38.146160Z",
     "iopub.status.idle": "2022-02-13T05:31:38.151032Z",
     "shell.execute_reply": "2022-02-13T05:31:38.150585Z"
    }
   },
   "outputs": [],
   "source": [
    "OnePiece.extension.vector.sort_like([[3, 1, 4, 2], ve_...])"
   ]
  },
  {
   "cell_type": "markdown",
   "id": "ae3e7440",
   "metadata": {},
   "source": [
    "## get_order"
   ]
  },
  {
   "cell_type": "code",
   "execution_count": null,
   "id": "b46582eb",
   "metadata": {
    "execution": {
     "iopub.execute_input": "2022-02-13T05:31:38.152891Z",
     "iopub.status.busy": "2022-02-13T05:31:38.152404Z",
     "iopub.status.idle": "2022-02-13T05:31:38.719262Z",
     "shell.execute_reply": "2022-02-13T05:31:38.718879Z"
    }
   },
   "outputs": [],
   "source": [
    "al_ = collect(\"abcdefghijklmnopqrstuvwxyz\")\n",
    "\n",
    "OnePiece.extension.vector.get_order(al_, \"aiko!\")"
   ]
  },
  {
   "cell_type": "markdown",
   "id": "3f396855",
   "metadata": {},
   "source": [
    "---"
   ]
  },
  {
   "cell_type": "code",
   "execution_count": null,
   "id": "b4af2023",
   "metadata": {
    "execution": {
     "iopub.execute_input": "2022-02-13T05:31:38.721265Z",
     "iopub.status.busy": "2022-02-13T05:31:38.720679Z",
     "iopub.status.idle": "2022-02-13T05:31:38.723016Z",
     "shell.execute_reply": "2022-02-13T05:31:38.722639Z"
    }
   },
   "outputs": [],
   "source": [
    "if isdir(TE)\n",
    "\n",
    "    rm(TE, recursive = true)\n",
    "\n",
    "    println(\"Removed \", TE, \".\")\n",
    "\n",
    "end"
   ]
  }
 ],
 "metadata": {
  "kernelspec": {
   "display_name": "Julia 1.7.2",
   "language": "julia",
   "name": "julia-1.7"
  },
  "language_info": {
   "file_extension": ".jl",
   "mimetype": "application/julia",
   "name": "julia",
   "version": "1.7.2"
  }
 },
 "nbformat": 4,
 "nbformat_minor": 5
}
