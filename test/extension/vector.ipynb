{
 "cells": [
  {
   "cell_type": "code",
   "execution_count": null,
   "id": "017464da",
   "metadata": {
    "execution": {
     "iopub.execute_input": "2022-02-11T08:10:36.924961Z",
     "iopub.status.busy": "2022-02-11T08:10:36.579196Z",
     "iopub.status.idle": "2022-02-11T08:10:37.115840Z",
     "shell.execute_reply": "2022-02-11T08:10:37.115346Z"
    }
   },
   "outputs": [],
   "source": [
    "TE = joinpath(tempdir(), \"OnePiece.test\")\n",
    "\n",
    "if isdir(TE)\n",
    "\n",
    "    rm(TE; recursive = true)\n",
    "\n",
    "    println(\"Removed \", TE, \".\")\n",
    "\n",
    "end\n",
    "\n",
    "mkdir(TE)\n",
    "\n",
    "println(\"Made \", TE, \".\")"
   ]
  },
  {
   "cell_type": "code",
   "execution_count": null,
   "id": "34e4701e",
   "metadata": {
    "execution": {
     "iopub.execute_input": "2022-02-11T08:10:37.118132Z",
     "iopub.status.busy": "2022-02-11T08:10:37.117613Z",
     "iopub.status.idle": "2022-02-11T08:10:41.374334Z",
     "shell.execute_reply": "2022-02-11T08:10:41.373811Z"
    }
   },
   "outputs": [],
   "source": [
    "using OnePiece"
   ]
  },
  {
   "cell_type": "markdown",
   "id": "b92a3da9",
   "metadata": {},
   "source": [
    "---"
   ]
  },
  {
   "cell_type": "markdown",
   "id": "f90f0b98",
   "metadata": {},
   "source": [
    "## get_longest_common_prefix"
   ]
  },
  {
   "cell_type": "code",
   "execution_count": null,
   "id": "750c86a8",
   "metadata": {
    "execution": {
     "iopub.execute_input": "2022-02-11T08:10:41.682371Z",
     "iopub.status.busy": "2022-02-11T08:10:41.375793Z",
     "iopub.status.idle": "2022-02-11T08:10:42.867265Z",
     "shell.execute_reply": "2022-02-11T08:10:42.866666Z"
    }
   },
   "outputs": [],
   "source": [
    "for ve_ in [\n",
    "    [[], []],\n",
    "    [[1], [1, 2]],\n",
    "    [[1.0], [1.0, 2.0]],\n",
    "    [['a'], ['a', 'b']],\n",
    "    [[\"a\"], [\"a\", \"b\"]],\n",
    "    [[1, 2, 3], [1, 4, 5]],\n",
    "]\n",
    "\n",
    "    println(OnePiece.extension.vector.get_longest_common_prefix(ve_))\n",
    "\n",
    "end"
   ]
  },
  {
   "cell_type": "code",
   "execution_count": null,
   "id": "1ab719fa",
   "metadata": {
    "execution": {
     "iopub.execute_input": "2022-02-11T08:10:42.869170Z",
     "iopub.status.busy": "2022-02-11T08:10:42.868594Z",
     "iopub.status.idle": "2022-02-11T08:10:43.585295Z",
     "shell.execute_reply": "2022-02-11T08:10:43.584776Z"
    }
   },
   "outputs": [],
   "source": [
    "OnePiece.extension.vector.get_longest_common_prefix([\"abc\", \"abcd\", \"a\"])"
   ]
  },
  {
   "cell_type": "markdown",
   "id": "e4943067",
   "metadata": {},
   "source": [
    "## is_in"
   ]
  },
  {
   "cell_type": "code",
   "execution_count": null,
   "id": "6f32b75e",
   "metadata": {
    "execution": {
     "iopub.execute_input": "2022-02-11T08:10:43.587527Z",
     "iopub.status.busy": "2022-02-11T08:10:43.586740Z",
     "iopub.status.idle": "2022-02-11T08:10:43.588576Z",
     "shell.execute_reply": "2022-02-11T08:10:43.588056Z"
    }
   },
   "outputs": [],
   "source": [
    "ca_ = collect(\"A23456789XJQK\")\n",
    "\n",
    "st1_ = ['1', '2', 'K']\n",
    "\n",
    ";"
   ]
  },
  {
   "cell_type": "code",
   "execution_count": null,
   "id": "7f612fb7",
   "metadata": {
    "execution": {
     "iopub.execute_input": "2022-02-11T08:10:43.590430Z",
     "iopub.status.busy": "2022-02-11T08:10:43.589829Z",
     "iopub.status.idle": "2022-02-11T08:10:44.588059Z",
     "shell.execute_reply": "2022-02-11T08:10:44.587660Z"
    }
   },
   "outputs": [],
   "source": [
    "OnePiece.extension.vector.is_in(ca_, st1_)"
   ]
  },
  {
   "cell_type": "code",
   "execution_count": null,
   "id": "6f083bf8",
   "metadata": {
    "execution": {
     "iopub.execute_input": "2022-02-11T08:10:44.590121Z",
     "iopub.status.busy": "2022-02-11T08:10:44.589625Z",
     "iopub.status.idle": "2022-02-11T08:10:44.718300Z",
     "shell.execute_reply": "2022-02-11T08:10:44.717894Z"
    }
   },
   "outputs": [],
   "source": [
    "ca_id = Dict(ca => id for (id, ca) in enumerate(ca_))\n",
    "\n",
    "OnePiece.extension.vector.is_in(ca_id, st1_)"
   ]
  },
  {
   "cell_type": "markdown",
   "id": "7892f1bc",
   "metadata": {},
   "source": [
    "## sort_like"
   ]
  },
  {
   "cell_type": "code",
   "execution_count": null,
   "id": "68bcb85b",
   "metadata": {
    "execution": {
     "iopub.execute_input": "2022-02-11T08:10:44.720412Z",
     "iopub.status.busy": "2022-02-11T08:10:44.719861Z",
     "iopub.status.idle": "2022-02-11T08:10:45.584279Z",
     "shell.execute_reply": "2022-02-11T08:10:45.583889Z"
    }
   },
   "outputs": [],
   "source": [
    "ve_ = [['a', 'e', 'K', 't'], [\"a\", \"K\", \"t\", \"w\"]]"
   ]
  },
  {
   "cell_type": "code",
   "execution_count": null,
   "id": "1810740d",
   "metadata": {
    "execution": {
     "iopub.execute_input": "2022-02-11T08:10:45.586242Z",
     "iopub.status.busy": "2022-02-11T08:10:45.585744Z",
     "iopub.status.idle": "2022-02-11T08:10:45.967282Z",
     "shell.execute_reply": "2022-02-11T08:10:45.966888Z"
    }
   },
   "outputs": [],
   "source": [
    "OnePiece.extension.vector.sort_like([[2, 4, 1, 3], ve_...])"
   ]
  },
  {
   "cell_type": "code",
   "execution_count": null,
   "id": "ab6779f9",
   "metadata": {
    "execution": {
     "iopub.execute_input": "2022-02-11T08:10:45.969261Z",
     "iopub.status.busy": "2022-02-11T08:10:45.968769Z",
     "iopub.status.idle": "2022-02-11T08:10:45.973840Z",
     "shell.execute_reply": "2022-02-11T08:10:45.973463Z"
    }
   },
   "outputs": [],
   "source": [
    "OnePiece.extension.vector.sort_like([[3, 1, 4, 2], ve_...])"
   ]
  },
  {
   "cell_type": "markdown",
   "id": "ae3e7440",
   "metadata": {},
   "source": [
    "## get_order"
   ]
  },
  {
   "cell_type": "code",
   "execution_count": null,
   "id": "b46582eb",
   "metadata": {
    "execution": {
     "iopub.execute_input": "2022-02-11T08:10:45.975775Z",
     "iopub.status.busy": "2022-02-11T08:10:45.975190Z",
     "iopub.status.idle": "2022-02-11T08:10:46.567632Z",
     "shell.execute_reply": "2022-02-11T08:10:46.567094Z"
    }
   },
   "outputs": [],
   "source": [
    "al_ = collect(\"abcdefghijklmnopqrstuvwxyz\")\n",
    "\n",
    "OnePiece.extension.vector.get_order(al_, \"aiko!\")"
   ]
  },
  {
   "cell_type": "markdown",
   "id": "3f396855",
   "metadata": {},
   "source": [
    "---"
   ]
  },
  {
   "cell_type": "code",
   "execution_count": null,
   "id": "b4af2023",
   "metadata": {
    "execution": {
     "iopub.execute_input": "2022-02-11T08:10:46.569751Z",
     "iopub.status.busy": "2022-02-11T08:10:46.569168Z",
     "iopub.status.idle": "2022-02-11T08:10:46.573263Z",
     "shell.execute_reply": "2022-02-11T08:10:46.572909Z"
    }
   },
   "outputs": [],
   "source": [
    "if isdir(TE)\n",
    "\n",
    "    rm(TE; recursive = true)\n",
    "\n",
    "    println(\"Removed \", TE, \".\")\n",
    "\n",
    "end"
   ]
  }
 ],
 "metadata": {
  "kernelspec": {
   "display_name": "Julia 1.7.2",
   "language": "julia",
   "name": "julia-1.7"
  },
  "language_info": {
   "file_extension": ".jl",
   "mimetype": "application/julia",
   "name": "julia",
   "version": "1.7.2"
  }
 },
 "nbformat": 4,
 "nbformat_minor": 5
}
