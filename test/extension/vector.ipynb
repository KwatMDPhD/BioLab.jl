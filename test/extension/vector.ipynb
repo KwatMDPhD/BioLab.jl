{
 "cells": [
  {
   "cell_type": "code",
   "execution_count": null,
   "id": "34e4701e",
   "metadata": {
    "execution": {
     "iopub.execute_input": "2022-02-09T22:40:36.071859Z",
     "iopub.status.busy": "2022-02-09T22:40:35.692918Z",
     "iopub.status.idle": "2022-02-09T22:40:37.070935Z",
     "shell.execute_reply": "2022-02-09T22:40:37.069791Z"
    }
   },
   "outputs": [],
   "source": [
    "using Revise\n",
    "using BenchmarkTools"
   ]
  },
  {
   "cell_type": "code",
   "execution_count": null,
   "id": "77d0f5bf",
   "metadata": {
    "execution": {
     "iopub.execute_input": "2022-02-09T22:40:37.074258Z",
     "iopub.status.busy": "2022-02-09T22:40:37.073243Z",
     "iopub.status.idle": "2022-02-09T22:40:47.715125Z",
     "shell.execute_reply": "2022-02-09T22:40:47.714508Z"
    }
   },
   "outputs": [],
   "source": [
    "using OnePiece"
   ]
  },
  {
   "cell_type": "markdown",
   "id": "f90f0b98",
   "metadata": {},
   "source": [
    "## get_longest_common_prefix"
   ]
  },
  {
   "cell_type": "code",
   "execution_count": null,
   "id": "750c86a8",
   "metadata": {
    "execution": {
     "iopub.execute_input": "2022-02-09T22:40:49.413931Z",
     "iopub.status.busy": "2022-02-09T22:40:47.716532Z",
     "iopub.status.idle": "2022-02-09T22:40:51.341181Z",
     "shell.execute_reply": "2022-02-09T22:40:51.340701Z"
    }
   },
   "outputs": [],
   "source": [
    "for ve_ in [\n",
    "    [[], []],\n",
    "    [[1], [1, 2]],\n",
    "    [[1.0], [1.0, 2.0]],\n",
    "    [['a'], ['a', 'b']],\n",
    "    [[\"a\"], [\"a\", \"b\"]],\n",
    "    [[1, 2, 3], [1, 4, 5]],\n",
    "]\n",
    "\n",
    "    println(OnePiece.extension.vector.get_longest_common_prefix(ve_))\n",
    "\n",
    "end"
   ]
  },
  {
   "cell_type": "code",
   "execution_count": null,
   "id": "1ab719fa",
   "metadata": {
    "execution": {
     "iopub.execute_input": "2022-02-09T22:40:51.343386Z",
     "iopub.status.busy": "2022-02-09T22:40:51.342792Z",
     "iopub.status.idle": "2022-02-09T22:40:51.974519Z",
     "shell.execute_reply": "2022-02-09T22:40:51.973979Z"
    }
   },
   "outputs": [],
   "source": [
    "OnePiece.extension.vector.get_longest_common_prefix([\"abc\", \"abcd\", \"a\"])"
   ]
  },
  {
   "cell_type": "markdown",
   "id": "e4943067",
   "metadata": {},
   "source": [
    "## is_in"
   ]
  },
  {
   "cell_type": "code",
   "execution_count": null,
   "id": "6f32b75e",
   "metadata": {
    "execution": {
     "iopub.execute_input": "2022-02-09T22:40:51.976492Z",
     "iopub.status.busy": "2022-02-09T22:40:51.975905Z",
     "iopub.status.idle": "2022-02-09T22:40:51.989665Z",
     "shell.execute_reply": "2022-02-09T22:40:51.989168Z"
    }
   },
   "outputs": [],
   "source": [
    "ca_ = collect(\"A23456789XJQK\")\n",
    "\n",
    "st1_ = ['1', '2', 'K']\n",
    "\n",
    ";"
   ]
  },
  {
   "cell_type": "code",
   "execution_count": null,
   "id": "7f612fb7",
   "metadata": {
    "execution": {
     "iopub.execute_input": "2022-02-09T22:40:51.991665Z",
     "iopub.status.busy": "2022-02-09T22:40:51.991008Z",
     "iopub.status.idle": "2022-02-09T22:40:52.921093Z",
     "shell.execute_reply": "2022-02-09T22:40:52.920574Z"
    }
   },
   "outputs": [],
   "source": [
    "OnePiece.extension.vector.is_in(ca_, st1_)"
   ]
  },
  {
   "cell_type": "code",
   "execution_count": null,
   "id": "6f083bf8",
   "metadata": {
    "execution": {
     "iopub.execute_input": "2022-02-09T22:40:52.923022Z",
     "iopub.status.busy": "2022-02-09T22:40:52.922398Z",
     "iopub.status.idle": "2022-02-09T22:40:53.118788Z",
     "shell.execute_reply": "2022-02-09T22:40:53.118300Z"
    }
   },
   "outputs": [],
   "source": [
    "ca_id = Dict(ca => id for (id, ca) in enumerate(ca_))\n",
    "\n",
    "OnePiece.extension.vector.is_in(ca_id, st1_)"
   ]
  },
  {
   "cell_type": "markdown",
   "id": "7892f1bc",
   "metadata": {},
   "source": [
    "## sort_like"
   ]
  },
  {
   "cell_type": "code",
   "execution_count": null,
   "id": "68bcb85b",
   "metadata": {
    "execution": {
     "iopub.execute_input": "2022-02-09T22:40:53.120506Z",
     "iopub.status.busy": "2022-02-09T22:40:53.119978Z",
     "iopub.status.idle": "2022-02-09T22:40:54.101766Z",
     "shell.execute_reply": "2022-02-09T22:40:54.101293Z"
    }
   },
   "outputs": [],
   "source": [
    "ve_ = [['a', 'e', 'K', 't'], [\"a\", \"K\", \"t\", \"w\"]]"
   ]
  },
  {
   "cell_type": "code",
   "execution_count": null,
   "id": "1810740d",
   "metadata": {
    "execution": {
     "iopub.execute_input": "2022-02-09T22:40:54.103675Z",
     "iopub.status.busy": "2022-02-09T22:40:54.103078Z",
     "iopub.status.idle": "2022-02-09T22:40:54.537130Z",
     "shell.execute_reply": "2022-02-09T22:40:54.536751Z"
    }
   },
   "outputs": [],
   "source": [
    "OnePiece.extension.vector.sort_like([[2, 4, 1, 3], ve_...])"
   ]
  },
  {
   "cell_type": "code",
   "execution_count": null,
   "id": "ab6779f9",
   "metadata": {
    "execution": {
     "iopub.execute_input": "2022-02-09T22:40:54.538960Z",
     "iopub.status.busy": "2022-02-09T22:40:54.538366Z",
     "iopub.status.idle": "2022-02-09T22:40:54.555200Z",
     "shell.execute_reply": "2022-02-09T22:40:54.554739Z"
    }
   },
   "outputs": [],
   "source": [
    "OnePiece.extension.vector.sort_like([[3, 1, 4, 2], ve_...])"
   ]
  },
  {
   "cell_type": "markdown",
   "id": "ae3e7440",
   "metadata": {},
   "source": [
    "## get_order"
   ]
  },
  {
   "cell_type": "code",
   "execution_count": null,
   "id": "b46582eb",
   "metadata": {
    "execution": {
     "iopub.execute_input": "2022-02-09T22:40:54.557157Z",
     "iopub.status.busy": "2022-02-09T22:40:54.556536Z",
     "iopub.status.idle": "2022-02-09T22:40:55.199030Z",
     "shell.execute_reply": "2022-02-09T22:40:55.198598Z"
    }
   },
   "outputs": [],
   "source": [
    "al_ = collect(\"abcdefghijklmnopqrstuvwxyz\")\n",
    "\n",
    "OnePiece.extension.vector.get_order(al_, \"aiko!\")"
   ]
  }
 ],
 "metadata": {
  "@webio": {
   "lastCommId": "4a00e23f06e24ca18d3d19566aef8227",
   "lastKernelId": "ae0b5cc2-7385-4f97-a996-3ae50bc9cffa"
  },
  "kernelspec": {
   "display_name": "Julia 1.7.1",
   "language": "julia",
   "name": "julia-1.7"
  },
  "language_info": {
   "file_extension": ".jl",
   "mimetype": "application/julia",
   "name": "julia",
   "version": "1.7.2"
  }
 },
 "nbformat": 4,
 "nbformat_minor": 5
}
