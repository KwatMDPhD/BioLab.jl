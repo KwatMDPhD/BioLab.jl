{
 "cells": [
  {
   "cell_type": "code",
   "execution_count": null,
   "id": "017464da",
   "metadata": {
    "execution": {
     "iopub.execute_input": "2022-02-13T23:29:11.823055Z",
     "iopub.status.busy": "2022-02-13T23:29:11.459706Z",
     "iopub.status.idle": "2022-02-13T23:29:12.060532Z",
     "shell.execute_reply": "2022-02-13T23:29:12.059999Z"
    }
   },
   "outputs": [],
   "source": [
    "TE = joinpath(tempdir(), \"OnePiece.test\")\n",
    "\n",
    "if isdir(TE)\n",
    "\n",
    "    rm(TE, recursive = true)\n",
    "\n",
    "    println(\"Removed \", TE, \".\")\n",
    "\n",
    "end\n",
    "\n",
    "mkdir(TE)\n",
    "\n",
    "println(\"Made \", TE, \".\")"
   ]
  },
  {
   "cell_type": "code",
   "execution_count": null,
   "id": "34e4701e",
   "metadata": {
    "execution": {
     "iopub.execute_input": "2022-02-13T23:29:12.062947Z",
     "iopub.status.busy": "2022-02-13T23:29:12.062419Z",
     "iopub.status.idle": "2022-02-13T23:29:21.659920Z",
     "shell.execute_reply": "2022-02-13T23:29:21.659493Z"
    }
   },
   "outputs": [],
   "source": [
    "using OnePiece"
   ]
  },
  {
   "cell_type": "markdown",
   "id": "b92a3da9",
   "metadata": {},
   "source": [
    "---"
   ]
  },
  {
   "cell_type": "markdown",
   "id": "f90f0b98",
   "metadata": {},
   "source": [
    "## get_longest_common_prefix"
   ]
  },
  {
   "cell_type": "code",
   "execution_count": null,
   "id": "750c86a8",
   "metadata": {
    "execution": {
     "iopub.execute_input": "2022-02-13T23:29:22.035524Z",
     "iopub.status.busy": "2022-02-13T23:29:21.661502Z",
     "iopub.status.idle": "2022-02-13T23:29:23.451787Z",
     "shell.execute_reply": "2022-02-13T23:29:23.451271Z"
    }
   },
   "outputs": [],
   "source": [
    "for ve_ in [\n",
    "    [[], []],\n",
    "    [[1], [1, 2]],\n",
    "    [[1.0], [1.0, 2.0]],\n",
    "    [['a'], ['a', 'b']],\n",
    "    [[\"a\"], [\"a\", \"b\"]],\n",
    "    [[1, 2, 3], [1, 4, 5]],\n",
    "]\n",
    "\n",
    "    println(OnePiece.extension.vector.get_longest_common_prefix(ve_))\n",
    "\n",
    "end"
   ]
  },
  {
   "cell_type": "code",
   "execution_count": null,
   "id": "1ab719fa",
   "metadata": {
    "execution": {
     "iopub.execute_input": "2022-02-13T23:29:23.453901Z",
     "iopub.status.busy": "2022-02-13T23:29:23.453124Z",
     "iopub.status.idle": "2022-02-13T23:29:24.129416Z",
     "shell.execute_reply": "2022-02-13T23:29:24.129021Z"
    }
   },
   "outputs": [],
   "source": [
    "OnePiece.extension.vector.get_longest_common_prefix([\"abc\", \"abcd\", \"a\"])"
   ]
  },
  {
   "cell_type": "markdown",
   "id": "e4943067",
   "metadata": {},
   "source": [
    "## is_in"
   ]
  },
  {
   "cell_type": "code",
   "execution_count": null,
   "id": "6f32b75e",
   "metadata": {
    "execution": {
     "iopub.execute_input": "2022-02-13T23:29:24.131708Z",
     "iopub.status.busy": "2022-02-13T23:29:24.131003Z",
     "iopub.status.idle": "2022-02-13T23:29:24.132331Z",
     "shell.execute_reply": "2022-02-13T23:29:24.132654Z"
    }
   },
   "outputs": [],
   "source": [
    "ca_ = collect(\"A23456789XJQK\")\n",
    "\n",
    "st1_ = ['1', '2', 'K']\n",
    "\n",
    ";"
   ]
  },
  {
   "cell_type": "code",
   "execution_count": null,
   "id": "7f612fb7",
   "metadata": {
    "execution": {
     "iopub.execute_input": "2022-02-13T23:29:24.134807Z",
     "iopub.status.busy": "2022-02-13T23:29:24.134036Z",
     "iopub.status.idle": "2022-02-13T23:29:25.091111Z",
     "shell.execute_reply": "2022-02-13T23:29:25.090715Z"
    }
   },
   "outputs": [],
   "source": [
    "OnePiece.extension.vector.is_in(ca_, st1_)"
   ]
  },
  {
   "cell_type": "code",
   "execution_count": null,
   "id": "6f083bf8",
   "metadata": {
    "execution": {
     "iopub.execute_input": "2022-02-13T23:29:25.092972Z",
     "iopub.status.busy": "2022-02-13T23:29:25.092470Z",
     "iopub.status.idle": "2022-02-13T23:29:25.236847Z",
     "shell.execute_reply": "2022-02-13T23:29:25.236459Z"
    }
   },
   "outputs": [],
   "source": [
    "ca_id = Dict(ca => id for (id, ca) in enumerate(ca_))\n",
    "\n",
    "OnePiece.extension.vector.is_in(ca_id, st1_)"
   ]
  },
  {
   "cell_type": "markdown",
   "id": "7892f1bc",
   "metadata": {},
   "source": [
    "## sort_like"
   ]
  },
  {
   "cell_type": "code",
   "execution_count": null,
   "id": "68bcb85b",
   "metadata": {
    "execution": {
     "iopub.execute_input": "2022-02-13T23:29:25.238772Z",
     "iopub.status.busy": "2022-02-13T23:29:25.238276Z",
     "iopub.status.idle": "2022-02-13T23:29:26.155564Z",
     "shell.execute_reply": "2022-02-13T23:29:26.155179Z"
    }
   },
   "outputs": [],
   "source": [
    "ve_ = [['a', 'e', 'K', 't'], [\"a\", \"K\", \"t\", \"w\"]]"
   ]
  },
  {
   "cell_type": "code",
   "execution_count": null,
   "id": "1810740d",
   "metadata": {
    "execution": {
     "iopub.execute_input": "2022-02-13T23:29:26.157575Z",
     "iopub.status.busy": "2022-02-13T23:29:26.156949Z",
     "iopub.status.idle": "2022-02-13T23:29:26.566757Z",
     "shell.execute_reply": "2022-02-13T23:29:26.566351Z"
    }
   },
   "outputs": [],
   "source": [
    "OnePiece.extension.vector.sort_like([[2, 4, 1, 3], ve_...])"
   ]
  },
  {
   "cell_type": "code",
   "execution_count": null,
   "id": "ab6779f9",
   "metadata": {
    "execution": {
     "iopub.execute_input": "2022-02-13T23:29:26.568810Z",
     "iopub.status.busy": "2022-02-13T23:29:26.568292Z",
     "iopub.status.idle": "2022-02-13T23:29:26.573486Z",
     "shell.execute_reply": "2022-02-13T23:29:26.573107Z"
    }
   },
   "outputs": [],
   "source": [
    "OnePiece.extension.vector.sort_like([[3, 1, 4, 2], ve_...])"
   ]
  },
  {
   "cell_type": "markdown",
   "id": "ae3e7440",
   "metadata": {},
   "source": [
    "## get_order"
   ]
  },
  {
   "cell_type": "code",
   "execution_count": null,
   "id": "b46582eb",
   "metadata": {
    "execution": {
     "iopub.execute_input": "2022-02-13T23:29:26.575352Z",
     "iopub.status.busy": "2022-02-13T23:29:26.574862Z",
     "iopub.status.idle": "2022-02-13T23:29:27.261614Z",
     "shell.execute_reply": "2022-02-13T23:29:27.261143Z"
    }
   },
   "outputs": [],
   "source": [
    "al_ = collect(\"abcdefghijklmnopqrstuvwxyz\")\n",
    "\n",
    "OnePiece.extension.vector.get_order(al_, \"aiko!\")"
   ]
  },
  {
   "cell_type": "markdown",
   "id": "3f396855",
   "metadata": {},
   "source": [
    "---"
   ]
  },
  {
   "cell_type": "code",
   "execution_count": null,
   "id": "b4af2023",
   "metadata": {
    "execution": {
     "iopub.execute_input": "2022-02-13T23:29:27.263568Z",
     "iopub.status.busy": "2022-02-13T23:29:27.262993Z",
     "iopub.status.idle": "2022-02-13T23:29:27.265589Z",
     "shell.execute_reply": "2022-02-13T23:29:27.265120Z"
    }
   },
   "outputs": [],
   "source": [
    "if isdir(TE)\n",
    "\n",
    "    rm(TE, recursive = true)\n",
    "\n",
    "    println(\"Removed \", TE, \".\")\n",
    "\n",
    "end"
   ]
  }
 ],
 "metadata": {
  "kernelspec": {
   "display_name": "Julia 1.7.2",
   "language": "julia",
   "name": "julia-1.7"
  },
  "language_info": {
   "file_extension": ".jl",
   "mimetype": "application/julia",
   "name": "julia",
   "version": "1.7.2"
  }
 },
 "nbformat": 4,
 "nbformat_minor": 5
}
