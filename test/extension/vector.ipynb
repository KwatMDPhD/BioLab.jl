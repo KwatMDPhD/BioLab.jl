{
 "cells": [
  {
   "cell_type": "code",
   "execution_count": null,
   "id": "017464da",
   "metadata": {
    "execution": {
     "iopub.execute_input": "2022-02-13T23:10:17.067715Z",
     "iopub.status.busy": "2022-02-13T23:10:16.694012Z",
     "iopub.status.idle": "2022-02-13T23:10:17.274870Z",
     "shell.execute_reply": "2022-02-13T23:10:17.274177Z"
    }
   },
   "outputs": [],
   "source": [
    "TE = joinpath(tempdir(), \"OnePiece.test\")\n",
    "\n",
    "if isdir(TE)\n",
    "\n",
    "    rm(TE, recursive = true)\n",
    "\n",
    "    println(\"Removed \", TE, \".\")\n",
    "\n",
    "end\n",
    "\n",
    "mkdir(TE)\n",
    "\n",
    "println(\"Made \", TE, \".\")"
   ]
  },
  {
   "cell_type": "code",
   "execution_count": null,
   "id": "34e4701e",
   "metadata": {
    "execution": {
     "iopub.execute_input": "2022-02-13T23:10:17.276803Z",
     "iopub.status.busy": "2022-02-13T23:10:17.276303Z",
     "iopub.status.idle": "2022-02-13T23:10:21.804064Z",
     "shell.execute_reply": "2022-02-13T23:10:21.803622Z"
    }
   },
   "outputs": [],
   "source": [
    "using OnePiece"
   ]
  },
  {
   "cell_type": "markdown",
   "id": "b92a3da9",
   "metadata": {},
   "source": [
    "---"
   ]
  },
  {
   "cell_type": "markdown",
   "id": "f90f0b98",
   "metadata": {},
   "source": [
    "## get_longest_common_prefix"
   ]
  },
  {
   "cell_type": "code",
   "execution_count": null,
   "id": "750c86a8",
   "metadata": {
    "execution": {
     "iopub.execute_input": "2022-02-13T23:10:22.150402Z",
     "iopub.status.busy": "2022-02-13T23:10:21.805568Z",
     "iopub.status.idle": "2022-02-13T23:10:23.416484Z",
     "shell.execute_reply": "2022-02-13T23:10:23.416004Z"
    }
   },
   "outputs": [],
   "source": [
    "for ve_ in [\n",
    "    [[], []],\n",
    "    [[1], [1, 2]],\n",
    "    [[1.0], [1.0, 2.0]],\n",
    "    [['a'], ['a', 'b']],\n",
    "    [[\"a\"], [\"a\", \"b\"]],\n",
    "    [[1, 2, 3], [1, 4, 5]],\n",
    "]\n",
    "\n",
    "    println(OnePiece.extension.vector.get_longest_common_prefix(ve_))\n",
    "\n",
    "end"
   ]
  },
  {
   "cell_type": "code",
   "execution_count": null,
   "id": "1ab719fa",
   "metadata": {
    "execution": {
     "iopub.execute_input": "2022-02-13T23:10:23.418641Z",
     "iopub.status.busy": "2022-02-13T23:10:23.418138Z",
     "iopub.status.idle": "2022-02-13T23:10:24.094595Z",
     "shell.execute_reply": "2022-02-13T23:10:24.094115Z"
    }
   },
   "outputs": [],
   "source": [
    "OnePiece.extension.vector.get_longest_common_prefix([\"abc\", \"abcd\", \"a\"])"
   ]
  },
  {
   "cell_type": "markdown",
   "id": "e4943067",
   "metadata": {},
   "source": [
    "## is_in"
   ]
  },
  {
   "cell_type": "code",
   "execution_count": null,
   "id": "6f32b75e",
   "metadata": {
    "execution": {
     "iopub.execute_input": "2022-02-13T23:10:24.097050Z",
     "iopub.status.busy": "2022-02-13T23:10:24.096265Z",
     "iopub.status.idle": "2022-02-13T23:10:24.097666Z",
     "shell.execute_reply": "2022-02-13T23:10:24.098015Z"
    }
   },
   "outputs": [],
   "source": [
    "ca_ = collect(\"A23456789XJQK\")\n",
    "\n",
    "st1_ = ['1', '2', 'K']\n",
    "\n",
    ";"
   ]
  },
  {
   "cell_type": "code",
   "execution_count": null,
   "id": "7f612fb7",
   "metadata": {
    "execution": {
     "iopub.execute_input": "2022-02-13T23:10:24.099995Z",
     "iopub.status.busy": "2022-02-13T23:10:24.099489Z",
     "iopub.status.idle": "2022-02-13T23:10:25.075516Z",
     "shell.execute_reply": "2022-02-13T23:10:25.075126Z"
    }
   },
   "outputs": [],
   "source": [
    "OnePiece.extension.vector.is_in(ca_, st1_)"
   ]
  },
  {
   "cell_type": "code",
   "execution_count": null,
   "id": "6f083bf8",
   "metadata": {
    "execution": {
     "iopub.execute_input": "2022-02-13T23:10:25.077549Z",
     "iopub.status.busy": "2022-02-13T23:10:25.077059Z",
     "iopub.status.idle": "2022-02-13T23:10:25.222388Z",
     "shell.execute_reply": "2022-02-13T23:10:25.221995Z"
    }
   },
   "outputs": [],
   "source": [
    "ca_id = Dict(ca => id for (id, ca) in enumerate(ca_))\n",
    "\n",
    "OnePiece.extension.vector.is_in(ca_id, st1_)"
   ]
  },
  {
   "cell_type": "markdown",
   "id": "7892f1bc",
   "metadata": {},
   "source": [
    "## sort_like"
   ]
  },
  {
   "cell_type": "code",
   "execution_count": null,
   "id": "68bcb85b",
   "metadata": {
    "execution": {
     "iopub.execute_input": "2022-02-13T23:10:25.224905Z",
     "iopub.status.busy": "2022-02-13T23:10:25.224073Z",
     "iopub.status.idle": "2022-02-13T23:10:26.137911Z",
     "shell.execute_reply": "2022-02-13T23:10:26.137531Z"
    }
   },
   "outputs": [],
   "source": [
    "ve_ = [['a', 'e', 'K', 't'], [\"a\", \"K\", \"t\", \"w\"]]"
   ]
  },
  {
   "cell_type": "code",
   "execution_count": null,
   "id": "1810740d",
   "metadata": {
    "execution": {
     "iopub.execute_input": "2022-02-13T23:10:26.139865Z",
     "iopub.status.busy": "2022-02-13T23:10:26.139243Z",
     "iopub.status.idle": "2022-02-13T23:10:26.543386Z",
     "shell.execute_reply": "2022-02-13T23:10:26.543004Z"
    }
   },
   "outputs": [],
   "source": [
    "OnePiece.extension.vector.sort_like([[2, 4, 1, 3], ve_...])"
   ]
  },
  {
   "cell_type": "code",
   "execution_count": null,
   "id": "ab6779f9",
   "metadata": {
    "execution": {
     "iopub.execute_input": "2022-02-13T23:10:26.545179Z",
     "iopub.status.busy": "2022-02-13T23:10:26.544682Z",
     "iopub.status.idle": "2022-02-13T23:10:26.549887Z",
     "shell.execute_reply": "2022-02-13T23:10:26.549499Z"
    }
   },
   "outputs": [],
   "source": [
    "OnePiece.extension.vector.sort_like([[3, 1, 4, 2], ve_...])"
   ]
  },
  {
   "cell_type": "markdown",
   "id": "ae3e7440",
   "metadata": {},
   "source": [
    "## get_order"
   ]
  },
  {
   "cell_type": "code",
   "execution_count": null,
   "id": "b46582eb",
   "metadata": {
    "execution": {
     "iopub.execute_input": "2022-02-13T23:10:26.552068Z",
     "iopub.status.busy": "2022-02-13T23:10:26.551542Z",
     "iopub.status.idle": "2022-02-13T23:10:27.187817Z",
     "shell.execute_reply": "2022-02-13T23:10:27.187432Z"
    }
   },
   "outputs": [],
   "source": [
    "al_ = collect(\"abcdefghijklmnopqrstuvwxyz\")\n",
    "\n",
    "OnePiece.extension.vector.get_order(al_, \"aiko!\")"
   ]
  },
  {
   "cell_type": "markdown",
   "id": "3f396855",
   "metadata": {},
   "source": [
    "---"
   ]
  },
  {
   "cell_type": "code",
   "execution_count": null,
   "id": "b4af2023",
   "metadata": {
    "execution": {
     "iopub.execute_input": "2022-02-13T23:10:27.190110Z",
     "iopub.status.busy": "2022-02-13T23:10:27.189342Z",
     "iopub.status.idle": "2022-02-13T23:10:27.192109Z",
     "shell.execute_reply": "2022-02-13T23:10:27.191762Z"
    }
   },
   "outputs": [],
   "source": [
    "if isdir(TE)\n",
    "\n",
    "    rm(TE, recursive = true)\n",
    "\n",
    "    println(\"Removed \", TE, \".\")\n",
    "\n",
    "end"
   ]
  }
 ],
 "metadata": {
  "kernelspec": {
   "display_name": "Julia 1.7.2",
   "language": "julia",
   "name": "julia-1.7"
  },
  "language_info": {
   "file_extension": ".jl",
   "mimetype": "application/julia",
   "name": "julia",
   "version": "1.7.2"
  }
 },
 "nbformat": 4,
 "nbformat_minor": 5
}
