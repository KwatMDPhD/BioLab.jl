{
 "cells": [
  {
   "cell_type": "code",
   "execution_count": null,
   "id": "017464da",
   "metadata": {
    "execution": {
     "iopub.execute_input": "2022-02-10T21:23:29.932254Z",
     "iopub.status.busy": "2022-02-10T21:23:29.294568Z",
     "iopub.status.idle": "2022-02-10T21:23:31.168590Z",
     "shell.execute_reply": "2022-02-10T21:23:31.167805Z"
    }
   },
   "outputs": [],
   "source": [
    "TE = joinpath(tempdir(), \"OnePiece.test\")\n",
    "\n",
    "mkpath(TE)"
   ]
  },
  {
   "cell_type": "code",
   "execution_count": null,
   "id": "34e4701e",
   "metadata": {
    "execution": {
     "iopub.execute_input": "2022-02-10T21:23:31.171208Z",
     "iopub.status.busy": "2022-02-10T21:23:31.170370Z",
     "iopub.status.idle": "2022-02-10T21:23:37.805513Z",
     "shell.execute_reply": "2022-02-10T21:23:37.804740Z"
    }
   },
   "outputs": [],
   "source": [
    "using OnePiece"
   ]
  },
  {
   "cell_type": "markdown",
   "id": "b92a3da9",
   "metadata": {},
   "source": [
    "---"
   ]
  },
  {
   "cell_type": "markdown",
   "id": "f90f0b98",
   "metadata": {},
   "source": [
    "## get_longest_common_prefix"
   ]
  },
  {
   "cell_type": "code",
   "execution_count": null,
   "id": "750c86a8",
   "metadata": {
    "execution": {
     "iopub.execute_input": "2022-02-10T21:23:38.429440Z",
     "iopub.status.busy": "2022-02-10T21:23:37.807653Z",
     "iopub.status.idle": "2022-02-10T21:23:40.409664Z",
     "shell.execute_reply": "2022-02-10T21:23:40.408915Z"
    }
   },
   "outputs": [],
   "source": [
    "for ve_ in [\n",
    "    [[], []],\n",
    "    [[1], [1, 2]],\n",
    "    [[1.0], [1.0, 2.0]],\n",
    "    [['a'], ['a', 'b']],\n",
    "    [[\"a\"], [\"a\", \"b\"]],\n",
    "    [[1, 2, 3], [1, 4, 5]],\n",
    "]\n",
    "\n",
    "    println(OnePiece.extension.vector.get_longest_common_prefix(ve_))\n",
    "\n",
    "end"
   ]
  },
  {
   "cell_type": "code",
   "execution_count": null,
   "id": "1ab719fa",
   "metadata": {
    "execution": {
     "iopub.execute_input": "2022-02-10T21:23:40.412427Z",
     "iopub.status.busy": "2022-02-10T21:23:40.411512Z",
     "iopub.status.idle": "2022-02-10T21:23:40.566010Z",
     "shell.execute_reply": "2022-02-10T21:23:40.565286Z"
    }
   },
   "outputs": [],
   "source": [
    "OnePiece.extension.vector.get_longest_common_prefix([\"abc\", \"abcd\", \"a\"])"
   ]
  },
  {
   "cell_type": "markdown",
   "id": "e4943067",
   "metadata": {},
   "source": [
    "## is_in"
   ]
  },
  {
   "cell_type": "code",
   "execution_count": null,
   "id": "6f32b75e",
   "metadata": {
    "execution": {
     "iopub.execute_input": "2022-02-10T21:23:40.568874Z",
     "iopub.status.busy": "2022-02-10T21:23:40.567807Z",
     "iopub.status.idle": "2022-02-10T21:23:40.570309Z",
     "shell.execute_reply": "2022-02-10T21:23:40.569744Z"
    }
   },
   "outputs": [],
   "source": [
    "ca_ = collect(\"A23456789XJQK\")\n",
    "\n",
    "st1_ = ['1', '2', 'K']\n",
    "\n",
    ";"
   ]
  },
  {
   "cell_type": "code",
   "execution_count": null,
   "id": "7f612fb7",
   "metadata": {
    "execution": {
     "iopub.execute_input": "2022-02-10T21:23:40.572751Z",
     "iopub.status.busy": "2022-02-10T21:23:40.571910Z",
     "iopub.status.idle": "2022-02-10T21:23:42.081793Z",
     "shell.execute_reply": "2022-02-10T21:23:42.081089Z"
    }
   },
   "outputs": [],
   "source": [
    "OnePiece.extension.vector.is_in(ca_, st1_)"
   ]
  },
  {
   "cell_type": "code",
   "execution_count": null,
   "id": "6f083bf8",
   "metadata": {
    "execution": {
     "iopub.execute_input": "2022-02-10T21:23:42.084337Z",
     "iopub.status.busy": "2022-02-10T21:23:42.083487Z",
     "iopub.status.idle": "2022-02-10T21:23:42.345021Z",
     "shell.execute_reply": "2022-02-10T21:23:42.344337Z"
    }
   },
   "outputs": [],
   "source": [
    "ca_id = Dict(ca => id for (id, ca) in enumerate(ca_))\n",
    "\n",
    "OnePiece.extension.vector.is_in(ca_id, st1_)"
   ]
  },
  {
   "cell_type": "markdown",
   "id": "7892f1bc",
   "metadata": {},
   "source": [
    "## sort_like"
   ]
  },
  {
   "cell_type": "code",
   "execution_count": null,
   "id": "68bcb85b",
   "metadata": {
    "execution": {
     "iopub.execute_input": "2022-02-10T21:23:42.348088Z",
     "iopub.status.busy": "2022-02-10T21:23:42.347228Z",
     "iopub.status.idle": "2022-02-10T21:23:43.746774Z",
     "shell.execute_reply": "2022-02-10T21:23:43.746032Z"
    }
   },
   "outputs": [],
   "source": [
    "ve_ = [['a', 'e', 'K', 't'], [\"a\", \"K\", \"t\", \"w\"]]"
   ]
  },
  {
   "cell_type": "code",
   "execution_count": null,
   "id": "1810740d",
   "metadata": {
    "execution": {
     "iopub.execute_input": "2022-02-10T21:23:43.749667Z",
     "iopub.status.busy": "2022-02-10T21:23:43.748532Z",
     "iopub.status.idle": "2022-02-10T21:23:44.369336Z",
     "shell.execute_reply": "2022-02-10T21:23:44.368757Z"
    }
   },
   "outputs": [],
   "source": [
    "OnePiece.extension.vector.sort_like([[2, 4, 1, 3], ve_...])"
   ]
  },
  {
   "cell_type": "code",
   "execution_count": null,
   "id": "ab6779f9",
   "metadata": {
    "execution": {
     "iopub.execute_input": "2022-02-10T21:23:44.371750Z",
     "iopub.status.busy": "2022-02-10T21:23:44.370976Z",
     "iopub.status.idle": "2022-02-10T21:23:44.378705Z",
     "shell.execute_reply": "2022-02-10T21:23:44.378014Z"
    }
   },
   "outputs": [],
   "source": [
    "OnePiece.extension.vector.sort_like([[3, 1, 4, 2], ve_...])"
   ]
  },
  {
   "cell_type": "markdown",
   "id": "ae3e7440",
   "metadata": {},
   "source": [
    "## get_order"
   ]
  },
  {
   "cell_type": "code",
   "execution_count": null,
   "id": "b46582eb",
   "metadata": {
    "execution": {
     "iopub.execute_input": "2022-02-10T21:23:44.381581Z",
     "iopub.status.busy": "2022-02-10T21:23:44.380737Z",
     "iopub.status.idle": "2022-02-10T21:23:45.304639Z",
     "shell.execute_reply": "2022-02-10T21:23:45.303949Z"
    }
   },
   "outputs": [],
   "source": [
    "al_ = collect(\"abcdefghijklmnopqrstuvwxyz\")\n",
    "\n",
    "OnePiece.extension.vector.get_order(al_, \"aiko!\")"
   ]
  },
  {
   "cell_type": "markdown",
   "id": "3f396855",
   "metadata": {},
   "source": [
    "---"
   ]
  },
  {
   "cell_type": "code",
   "execution_count": null,
   "id": "b4af2023",
   "metadata": {
    "execution": {
     "iopub.execute_input": "2022-02-10T21:23:45.307089Z",
     "iopub.status.busy": "2022-02-10T21:23:45.306375Z",
     "iopub.status.idle": "2022-02-10T21:23:45.311327Z",
     "shell.execute_reply": "2022-02-10T21:23:45.310658Z"
    }
   },
   "outputs": [],
   "source": [
    "rm(TE; recursive = true)"
   ]
  }
 ],
 "metadata": {
  "kernelspec": {
   "display_name": "Julia 1.7.2",
   "language": "julia",
   "name": "julia-1.7"
  },
  "language_info": {
   "file_extension": ".jl",
   "mimetype": "application/julia",
   "name": "julia",
   "version": "1.7.2"
  }
 },
 "nbformat": 4,
 "nbformat_minor": 5
}
