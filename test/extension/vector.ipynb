{
 "cells": [
  {
   "cell_type": "code",
   "execution_count": null,
   "id": "017464da",
   "metadata": {
    "execution": {
     "iopub.execute_input": "2022-02-13T05:18:57.513976Z",
     "iopub.status.busy": "2022-02-13T05:18:57.127594Z",
     "iopub.status.idle": "2022-02-13T05:18:57.727162Z",
     "shell.execute_reply": "2022-02-13T05:18:57.726577Z"
    }
   },
   "outputs": [],
   "source": [
    "TE = joinpath(tempdir(), \"OnePiece.test\")\n",
    "\n",
    "if isdir(TE)\n",
    "\n",
    "    rm(TE, recursive = true)\n",
    "\n",
    "    println(\"Removed \", TE, \".\")\n",
    "\n",
    "end\n",
    "\n",
    "mkdir(TE)\n",
    "\n",
    "println(\"Made \", TE, \".\")"
   ]
  },
  {
   "cell_type": "code",
   "execution_count": null,
   "id": "34e4701e",
   "metadata": {
    "execution": {
     "iopub.execute_input": "2022-02-13T05:18:57.729068Z",
     "iopub.status.busy": "2022-02-13T05:18:57.728494Z",
     "iopub.status.idle": "2022-02-13T05:19:02.539749Z",
     "shell.execute_reply": "2022-02-13T05:19:02.539291Z"
    }
   },
   "outputs": [],
   "source": [
    "using OnePiece"
   ]
  },
  {
   "cell_type": "markdown",
   "id": "b92a3da9",
   "metadata": {},
   "source": [
    "---"
   ]
  },
  {
   "cell_type": "markdown",
   "id": "f90f0b98",
   "metadata": {},
   "source": [
    "## get_longest_common_prefix"
   ]
  },
  {
   "cell_type": "code",
   "execution_count": null,
   "id": "750c86a8",
   "metadata": {
    "execution": {
     "iopub.execute_input": "2022-02-13T05:19:02.888353Z",
     "iopub.status.busy": "2022-02-13T05:19:02.541227Z",
     "iopub.status.idle": "2022-02-13T05:19:04.247449Z",
     "shell.execute_reply": "2022-02-13T05:19:04.246925Z"
    }
   },
   "outputs": [],
   "source": [
    "for ve_ in [\n",
    "    [[], []],\n",
    "    [[1], [1, 2]],\n",
    "    [[1.0], [1.0, 2.0]],\n",
    "    [['a'], ['a', 'b']],\n",
    "    [[\"a\"], [\"a\", \"b\"]],\n",
    "    [[1, 2, 3], [1, 4, 5]],\n",
    "]\n",
    "\n",
    "    println(OnePiece.extension.vector.get_longest_common_prefix(ve_))\n",
    "\n",
    "end"
   ]
  },
  {
   "cell_type": "code",
   "execution_count": null,
   "id": "1ab719fa",
   "metadata": {
    "execution": {
     "iopub.execute_input": "2022-02-13T05:19:04.249431Z",
     "iopub.status.busy": "2022-02-13T05:19:04.248849Z",
     "iopub.status.idle": "2022-02-13T05:19:04.981621Z",
     "shell.execute_reply": "2022-02-13T05:19:04.981144Z"
    }
   },
   "outputs": [],
   "source": [
    "OnePiece.extension.vector.get_longest_common_prefix([\"abc\", \"abcd\", \"a\"])"
   ]
  },
  {
   "cell_type": "markdown",
   "id": "e4943067",
   "metadata": {},
   "source": [
    "## is_in"
   ]
  },
  {
   "cell_type": "code",
   "execution_count": null,
   "id": "6f32b75e",
   "metadata": {
    "execution": {
     "iopub.execute_input": "2022-02-13T05:19:04.983983Z",
     "iopub.status.busy": "2022-02-13T05:19:04.983260Z",
     "iopub.status.idle": "2022-02-13T05:19:04.985002Z",
     "shell.execute_reply": "2022-02-13T05:19:04.984574Z"
    }
   },
   "outputs": [],
   "source": [
    "ca_ = collect(\"A23456789XJQK\")\n",
    "\n",
    "st1_ = ['1', '2', 'K']\n",
    "\n",
    ";"
   ]
  },
  {
   "cell_type": "code",
   "execution_count": null,
   "id": "7f612fb7",
   "metadata": {
    "execution": {
     "iopub.execute_input": "2022-02-13T05:19:04.986806Z",
     "iopub.status.busy": "2022-02-13T05:19:04.986237Z",
     "iopub.status.idle": "2022-02-13T05:19:06.083209Z",
     "shell.execute_reply": "2022-02-13T05:19:06.082715Z"
    }
   },
   "outputs": [],
   "source": [
    "OnePiece.extension.vector.is_in(ca_, st1_)"
   ]
  },
  {
   "cell_type": "code",
   "execution_count": null,
   "id": "6f083bf8",
   "metadata": {
    "execution": {
     "iopub.execute_input": "2022-02-13T05:19:06.085289Z",
     "iopub.status.busy": "2022-02-13T05:19:06.084672Z",
     "iopub.status.idle": "2022-02-13T05:19:06.243234Z",
     "shell.execute_reply": "2022-02-13T05:19:06.242784Z"
    }
   },
   "outputs": [],
   "source": [
    "ca_id = Dict(ca => id for (id, ca) in enumerate(ca_))\n",
    "\n",
    "OnePiece.extension.vector.is_in(ca_id, st1_)"
   ]
  },
  {
   "cell_type": "markdown",
   "id": "7892f1bc",
   "metadata": {},
   "source": [
    "## sort_like"
   ]
  },
  {
   "cell_type": "code",
   "execution_count": null,
   "id": "68bcb85b",
   "metadata": {
    "execution": {
     "iopub.execute_input": "2022-02-13T05:19:06.245174Z",
     "iopub.status.busy": "2022-02-13T05:19:06.244603Z",
     "iopub.status.idle": "2022-02-13T05:19:07.252771Z",
     "shell.execute_reply": "2022-02-13T05:19:07.252224Z"
    }
   },
   "outputs": [],
   "source": [
    "ve_ = [['a', 'e', 'K', 't'], [\"a\", \"K\", \"t\", \"w\"]]"
   ]
  },
  {
   "cell_type": "code",
   "execution_count": null,
   "id": "1810740d",
   "metadata": {
    "execution": {
     "iopub.execute_input": "2022-02-13T05:19:07.254675Z",
     "iopub.status.busy": "2022-02-13T05:19:07.254083Z",
     "iopub.status.idle": "2022-02-13T05:19:07.710176Z",
     "shell.execute_reply": "2022-02-13T05:19:07.709732Z"
    }
   },
   "outputs": [],
   "source": [
    "OnePiece.extension.vector.sort_like([[2, 4, 1, 3], ve_...])"
   ]
  },
  {
   "cell_type": "code",
   "execution_count": null,
   "id": "ab6779f9",
   "metadata": {
    "execution": {
     "iopub.execute_input": "2022-02-13T05:19:07.712082Z",
     "iopub.status.busy": "2022-02-13T05:19:07.711514Z",
     "iopub.status.idle": "2022-02-13T05:19:07.717156Z",
     "shell.execute_reply": "2022-02-13T05:19:07.716711Z"
    }
   },
   "outputs": [],
   "source": [
    "OnePiece.extension.vector.sort_like([[3, 1, 4, 2], ve_...])"
   ]
  },
  {
   "cell_type": "markdown",
   "id": "ae3e7440",
   "metadata": {},
   "source": [
    "## get_order"
   ]
  },
  {
   "cell_type": "code",
   "execution_count": null,
   "id": "b46582eb",
   "metadata": {
    "execution": {
     "iopub.execute_input": "2022-02-13T05:19:07.719029Z",
     "iopub.status.busy": "2022-02-13T05:19:07.718465Z",
     "iopub.status.idle": "2022-02-13T05:19:08.433706Z",
     "shell.execute_reply": "2022-02-13T05:19:08.433230Z"
    }
   },
   "outputs": [],
   "source": [
    "al_ = collect(\"abcdefghijklmnopqrstuvwxyz\")\n",
    "\n",
    "OnePiece.extension.vector.get_order(al_, \"aiko!\")"
   ]
  },
  {
   "cell_type": "markdown",
   "id": "3f396855",
   "metadata": {},
   "source": [
    "---"
   ]
  },
  {
   "cell_type": "code",
   "execution_count": null,
   "id": "b4af2023",
   "metadata": {
    "execution": {
     "iopub.execute_input": "2022-02-13T05:19:08.435646Z",
     "iopub.status.busy": "2022-02-13T05:19:08.435075Z",
     "iopub.status.idle": "2022-02-13T05:19:08.437556Z",
     "shell.execute_reply": "2022-02-13T05:19:08.437121Z"
    }
   },
   "outputs": [],
   "source": [
    "if isdir(TE)\n",
    "\n",
    "    rm(TE, recursive = true)\n",
    "\n",
    "    println(\"Removed \", TE, \".\")\n",
    "\n",
    "end"
   ]
  }
 ],
 "metadata": {
  "kernelspec": {
   "display_name": "Julia 1.7.2",
   "language": "julia",
   "name": "julia-1.7"
  },
  "language_info": {
   "file_extension": ".jl",
   "mimetype": "application/julia",
   "name": "julia",
   "version": "1.7.2"
  }
 },
 "nbformat": 4,
 "nbformat_minor": 5
}
