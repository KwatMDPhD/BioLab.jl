{
 "cells": [
  {
   "cell_type": "code",
   "execution_count": null,
   "id": "34e4701e",
   "metadata": {
    "execution": {
     "iopub.execute_input": "2022-02-09T05:30:37.623942Z",
     "iopub.status.busy": "2022-02-09T05:30:37.182664Z",
     "iopub.status.idle": "2022-02-09T05:30:38.692057Z",
     "shell.execute_reply": "2022-02-09T05:30:38.691375Z"
    }
   },
   "outputs": [],
   "source": [
    "using Revise\n",
    "using BenchmarkTools"
   ]
  },
  {
   "cell_type": "code",
   "execution_count": null,
   "id": "77d0f5bf",
   "metadata": {
    "execution": {
     "iopub.execute_input": "2022-02-09T05:30:38.694038Z",
     "iopub.status.busy": "2022-02-09T05:30:38.693422Z",
     "iopub.status.idle": "2022-02-09T05:30:50.330650Z",
     "shell.execute_reply": "2022-02-09T05:30:50.330083Z"
    }
   },
   "outputs": [],
   "source": [
    "using OnePiece"
   ]
  },
  {
   "cell_type": "markdown",
   "id": "f90f0b98",
   "metadata": {},
   "source": [
    "## get_longest_common_prefix"
   ]
  },
  {
   "cell_type": "code",
   "execution_count": null,
   "id": "750c86a8",
   "metadata": {
    "execution": {
     "iopub.execute_input": "2022-02-09T05:30:52.094820Z",
     "iopub.status.busy": "2022-02-09T05:30:50.332042Z",
     "iopub.status.idle": "2022-02-09T05:30:54.235966Z",
     "shell.execute_reply": "2022-02-09T05:30:54.235338Z"
    }
   },
   "outputs": [],
   "source": [
    "for ve_ in [\n",
    "    [[], []],\n",
    "    [[1], [1, 2]],\n",
    "    [[1.0], [1.0, 2.0]],\n",
    "    [['a'], ['a', 'b']],\n",
    "    [[\"a\"], [\"a\", \"b\"]],\n",
    "    [[1, 2, 3], [1, 4, 5]],\n",
    "]\n",
    "\n",
    "    println(OnePiece.extension.vector.get_longest_common_prefix(ve_))\n",
    "\n",
    "end"
   ]
  },
  {
   "cell_type": "code",
   "execution_count": null,
   "id": "1ab719fa",
   "metadata": {
    "execution": {
     "iopub.execute_input": "2022-02-09T05:30:54.238033Z",
     "iopub.status.busy": "2022-02-09T05:30:54.237429Z",
     "iopub.status.idle": "2022-02-09T05:30:54.942016Z",
     "shell.execute_reply": "2022-02-09T05:30:54.941510Z"
    }
   },
   "outputs": [],
   "source": [
    "OnePiece.extension.vector.get_longest_common_prefix([\"abc\", \"abcd\", \"a\"])"
   ]
  },
  {
   "cell_type": "markdown",
   "id": "e4943067",
   "metadata": {},
   "source": [
    "## is_in"
   ]
  },
  {
   "cell_type": "code",
   "execution_count": null,
   "id": "6f32b75e",
   "metadata": {
    "execution": {
     "iopub.execute_input": "2022-02-09T05:30:54.943931Z",
     "iopub.status.busy": "2022-02-09T05:30:54.943349Z",
     "iopub.status.idle": "2022-02-09T05:30:54.956306Z",
     "shell.execute_reply": "2022-02-09T05:30:54.955696Z"
    }
   },
   "outputs": [],
   "source": [
    "ca_ = collect(\"A23456789XJQK\")\n",
    "\n",
    "st1_ = ['1', '2', 'K']\n",
    "\n",
    ";"
   ]
  },
  {
   "cell_type": "code",
   "execution_count": null,
   "id": "7f612fb7",
   "metadata": {
    "execution": {
     "iopub.execute_input": "2022-02-09T05:30:54.958325Z",
     "iopub.status.busy": "2022-02-09T05:30:54.957686Z",
     "iopub.status.idle": "2022-02-09T05:30:55.991137Z",
     "shell.execute_reply": "2022-02-09T05:30:55.990669Z"
    }
   },
   "outputs": [],
   "source": [
    "OnePiece.extension.vector.is_in(ca_, st1_)"
   ]
  },
  {
   "cell_type": "code",
   "execution_count": null,
   "id": "6f083bf8",
   "metadata": {
    "execution": {
     "iopub.execute_input": "2022-02-09T05:30:55.993053Z",
     "iopub.status.busy": "2022-02-09T05:30:55.992451Z",
     "iopub.status.idle": "2022-02-09T05:30:56.210120Z",
     "shell.execute_reply": "2022-02-09T05:30:56.209685Z"
    }
   },
   "outputs": [],
   "source": [
    "ca_id = Dict(ca => id for (id, ca) in enumerate(ca_))\n",
    "\n",
    "OnePiece.extension.vector.is_in(ca_id, st1_)"
   ]
  },
  {
   "cell_type": "markdown",
   "id": "7892f1bc",
   "metadata": {},
   "source": [
    "## sort_like"
   ]
  },
  {
   "cell_type": "code",
   "execution_count": null,
   "id": "68bcb85b",
   "metadata": {
    "execution": {
     "iopub.execute_input": "2022-02-09T05:30:56.212134Z",
     "iopub.status.busy": "2022-02-09T05:30:56.211529Z",
     "iopub.status.idle": "2022-02-09T05:30:57.405009Z",
     "shell.execute_reply": "2022-02-09T05:30:57.404537Z"
    }
   },
   "outputs": [],
   "source": [
    "ve_ = [['a', 'e', 'K', 't'], [\"a\", \"K\", \"t\", \"w\"]]"
   ]
  },
  {
   "cell_type": "code",
   "execution_count": null,
   "id": "1810740d",
   "metadata": {
    "execution": {
     "iopub.execute_input": "2022-02-09T05:30:57.406819Z",
     "iopub.status.busy": "2022-02-09T05:30:57.406232Z",
     "iopub.status.idle": "2022-02-09T05:30:57.922119Z",
     "shell.execute_reply": "2022-02-09T05:30:57.921596Z"
    }
   },
   "outputs": [],
   "source": [
    "OnePiece.extension.vector.sort_like([[2, 4, 1, 3], ve_...])"
   ]
  },
  {
   "cell_type": "code",
   "execution_count": null,
   "id": "ab6779f9",
   "metadata": {
    "execution": {
     "iopub.execute_input": "2022-02-09T05:30:57.924441Z",
     "iopub.status.busy": "2022-02-09T05:30:57.923651Z",
     "iopub.status.idle": "2022-02-09T05:30:57.941447Z",
     "shell.execute_reply": "2022-02-09T05:30:57.940913Z"
    }
   },
   "outputs": [],
   "source": [
    "OnePiece.extension.vector.sort_like([[3, 1, 4, 2], ve_...])"
   ]
  },
  {
   "cell_type": "markdown",
   "id": "ae3e7440",
   "metadata": {},
   "source": [
    "## get_order"
   ]
  },
  {
   "cell_type": "code",
   "execution_count": null,
   "id": "b46582eb",
   "metadata": {
    "execution": {
     "iopub.execute_input": "2022-02-09T05:30:57.943453Z",
     "iopub.status.busy": "2022-02-09T05:30:57.942802Z",
     "iopub.status.idle": "2022-02-09T05:30:58.802257Z",
     "shell.execute_reply": "2022-02-09T05:30:58.801720Z"
    }
   },
   "outputs": [],
   "source": [
    "al_ = collect(\"abcdefghijklmnopqrstuvwxyz\")\n",
    "\n",
    "OnePiece.extension.vector.get_order(al_, \"aiko!\")"
   ]
  }
 ],
 "metadata": {
  "@webio": {
   "lastCommId": "4a00e23f06e24ca18d3d19566aef8227",
   "lastKernelId": "ae0b5cc2-7385-4f97-a996-3ae50bc9cffa"
  },
  "kernelspec": {
   "display_name": "Julia 1.7.1",
   "language": "julia",
   "name": "julia-1.7"
  },
  "language_info": {
   "file_extension": ".jl",
   "mimetype": "application/julia",
   "name": "julia",
   "version": "1.7.2"
  }
 },
 "nbformat": 4,
 "nbformat_minor": 5
}
