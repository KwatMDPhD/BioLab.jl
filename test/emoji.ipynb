{
 "cells": [
  {
   "cell_type": "code",
   "execution_count": null,
   "id": "34e4701e",
   "metadata": {
    "execution": {
     "iopub.execute_input": "2022-02-08T03:20:39.310296Z",
     "iopub.status.busy": "2022-02-08T03:20:38.908116Z",
     "iopub.status.idle": "2022-02-08T03:20:40.150721Z",
     "shell.execute_reply": "2022-02-08T03:20:40.150216Z"
    }
   },
   "outputs": [],
   "source": [
    "using Revise\n",
    "using BenchmarkTools"
   ]
  },
  {
   "cell_type": "code",
   "execution_count": null,
   "id": "c51086f6",
   "metadata": {
    "execution": {
     "iopub.execute_input": "2022-02-08T03:20:40.152652Z",
     "iopub.status.busy": "2022-02-08T03:20:40.152095Z",
     "iopub.status.idle": "2022-02-08T03:20:51.799359Z",
     "shell.execute_reply": "2022-02-08T03:20:51.798823Z"
    }
   },
   "outputs": [],
   "source": [
    "using OnePiece"
   ]
  },
  {
   "cell_type": "code",
   "execution_count": null,
   "id": "6b555e70",
   "metadata": {
    "execution": {
     "iopub.execute_input": "2022-02-08T03:20:53.576117Z",
     "iopub.status.busy": "2022-02-08T03:20:51.800892Z",
     "iopub.status.idle": "2022-02-08T03:20:54.246059Z",
     "shell.execute_reply": "2022-02-08T03:20:54.245599Z"
    }
   },
   "outputs": [],
   "source": [
    "println(\":triangular_flag: is a triangular flag.\")\n",
    "\n",
    "OnePiece.emoji.print(\":triangular_flag: is a triangular flag.\")"
   ]
  }
 ],
 "metadata": {
  "@webio": {
   "lastCommId": null,
   "lastKernelId": null
  },
  "kernelspec": {
   "display_name": "Julia 1.7.1",
   "language": "julia",
   "name": "julia-1.7"
  },
  "language_info": {
   "file_extension": ".jl",
   "mimetype": "application/julia",
   "name": "julia",
   "version": "1.7.1"
  }
 },
 "nbformat": 4,
 "nbformat_minor": 5
}
