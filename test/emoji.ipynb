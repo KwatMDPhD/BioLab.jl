{
 "cells": [
  {
   "cell_type": "code",
   "execution_count": null,
   "id": "34e4701e",
   "metadata": {
    "execution": {
     "iopub.execute_input": "2022-02-09T05:36:39.071412Z",
     "iopub.status.busy": "2022-02-09T05:36:38.662707Z",
     "iopub.status.idle": "2022-02-09T05:36:40.108939Z",
     "shell.execute_reply": "2022-02-09T05:36:40.108357Z"
    }
   },
   "outputs": [],
   "source": [
    "using Revise\n",
    "using BenchmarkTools"
   ]
  },
  {
   "cell_type": "code",
   "execution_count": null,
   "id": "c51086f6",
   "metadata": {
    "execution": {
     "iopub.execute_input": "2022-02-09T05:36:40.110870Z",
     "iopub.status.busy": "2022-02-09T05:36:40.110186Z",
     "iopub.status.idle": "2022-02-09T05:36:51.172344Z",
     "shell.execute_reply": "2022-02-09T05:36:51.171803Z"
    }
   },
   "outputs": [],
   "source": [
    "using OnePiece"
   ]
  },
  {
   "cell_type": "code",
   "execution_count": null,
   "id": "6b555e70",
   "metadata": {
    "execution": {
     "iopub.execute_input": "2022-02-09T05:36:52.892450Z",
     "iopub.status.busy": "2022-02-09T05:36:51.173591Z",
     "iopub.status.idle": "2022-02-09T05:36:53.677371Z",
     "shell.execute_reply": "2022-02-09T05:36:53.676847Z"
    }
   },
   "outputs": [],
   "source": [
    "println(\":triangular_flag: is a triangular flag.\")\n",
    "\n",
    "OnePiece.emoji.print(\":triangular_flag: is a triangular flag.\")"
   ]
  }
 ],
 "metadata": {
  "@webio": {
   "lastCommId": null,
   "lastKernelId": null
  },
  "kernelspec": {
   "display_name": "Julia 1.7.1",
   "language": "julia",
   "name": "julia-1.7"
  },
  "language_info": {
   "file_extension": ".jl",
   "mimetype": "application/julia",
   "name": "julia",
   "version": "1.7.2"
  }
 },
 "nbformat": 4,
 "nbformat_minor": 5
}
