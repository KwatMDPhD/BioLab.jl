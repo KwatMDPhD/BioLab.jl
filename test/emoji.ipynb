{
 "cells": [
  {
   "cell_type": "code",
   "execution_count": null,
   "id": "34e4701e",
   "metadata": {
    "execution": {
     "iopub.execute_input": "2022-02-09T18:57:47.168322Z",
     "iopub.status.busy": "2022-02-09T18:57:46.785322Z",
     "iopub.status.idle": "2022-02-09T18:57:48.159502Z",
     "shell.execute_reply": "2022-02-09T18:57:48.158977Z"
    }
   },
   "outputs": [],
   "source": [
    "using Revise\n",
    "using BenchmarkTools"
   ]
  },
  {
   "cell_type": "code",
   "execution_count": null,
   "id": "c51086f6",
   "metadata": {
    "execution": {
     "iopub.execute_input": "2022-02-09T18:57:48.161418Z",
     "iopub.status.busy": "2022-02-09T18:57:48.160859Z",
     "iopub.status.idle": "2022-02-09T18:57:58.793689Z",
     "shell.execute_reply": "2022-02-09T18:57:58.793070Z"
    }
   },
   "outputs": [],
   "source": [
    "using OnePiece"
   ]
  },
  {
   "cell_type": "code",
   "execution_count": null,
   "id": "6b555e70",
   "metadata": {
    "execution": {
     "iopub.execute_input": "2022-02-09T18:58:00.479934Z",
     "iopub.status.busy": "2022-02-09T18:57:58.795015Z",
     "iopub.status.idle": "2022-02-09T18:58:01.210359Z",
     "shell.execute_reply": "2022-02-09T18:58:01.209832Z"
    }
   },
   "outputs": [],
   "source": [
    "println(\":triangular_flag: is a triangular flag.\")\n",
    "\n",
    "OnePiece.emoji.print(\":triangular_flag: is a triangular flag.\")"
   ]
  }
 ],
 "metadata": {
  "@webio": {
   "lastCommId": null,
   "lastKernelId": null
  },
  "kernelspec": {
   "display_name": "Julia 1.7.1",
   "language": "julia",
   "name": "julia-1.7"
  },
  "language_info": {
   "file_extension": ".jl",
   "mimetype": "application/julia",
   "name": "julia",
   "version": "1.7.2"
  }
 },
 "nbformat": 4,
 "nbformat_minor": 5
}
