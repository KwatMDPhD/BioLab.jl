{
 "cells": [
  {
   "cell_type": "code",
   "execution_count": null,
   "id": "34e4701e",
   "metadata": {
    "execution": {
     "iopub.execute_input": "2022-02-09T00:07:04.539831Z",
     "iopub.status.busy": "2022-02-09T00:07:04.126721Z",
     "iopub.status.idle": "2022-02-09T00:07:05.572649Z",
     "shell.execute_reply": "2022-02-09T00:07:05.571967Z"
    }
   },
   "outputs": [],
   "source": [
    "using Revise\n",
    "using BenchmarkTools"
   ]
  },
  {
   "cell_type": "code",
   "execution_count": null,
   "id": "c51086f6",
   "metadata": {
    "execution": {
     "iopub.execute_input": "2022-02-09T00:07:05.574715Z",
     "iopub.status.busy": "2022-02-09T00:07:05.574026Z",
     "iopub.status.idle": "2022-02-09T00:07:16.420538Z",
     "shell.execute_reply": "2022-02-09T00:07:16.419995Z"
    }
   },
   "outputs": [],
   "source": [
    "using OnePiece"
   ]
  },
  {
   "cell_type": "code",
   "execution_count": null,
   "id": "6b555e70",
   "metadata": {
    "execution": {
     "iopub.execute_input": "2022-02-09T00:07:18.143628Z",
     "iopub.status.busy": "2022-02-09T00:07:16.422002Z",
     "iopub.status.idle": "2022-02-09T00:07:18.867257Z",
     "shell.execute_reply": "2022-02-09T00:07:18.866675Z"
    }
   },
   "outputs": [],
   "source": [
    "println(\":triangular_flag: is a triangular flag.\")\n",
    "\n",
    "OnePiece.emoji.print(\":triangular_flag: is a triangular flag.\")"
   ]
  }
 ],
 "metadata": {
  "@webio": {
   "lastCommId": null,
   "lastKernelId": null
  },
  "kernelspec": {
   "display_name": "Julia 1.7.1",
   "language": "julia",
   "name": "julia-1.7"
  },
  "language_info": {
   "file_extension": ".jl",
   "mimetype": "application/julia",
   "name": "julia",
   "version": "1.7.2"
  }
 },
 "nbformat": 4,
 "nbformat_minor": 5
}
