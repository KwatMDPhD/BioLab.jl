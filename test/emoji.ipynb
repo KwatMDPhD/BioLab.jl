{
 "cells": [
  {
   "cell_type": "code",
   "execution_count": null,
   "id": "34e4701e",
   "metadata": {
    "execution": {
     "iopub.execute_input": "2022-02-09T22:46:22.961114Z",
     "iopub.status.busy": "2022-02-09T22:46:22.544660Z",
     "iopub.status.idle": "2022-02-09T22:46:24.057178Z",
     "shell.execute_reply": "2022-02-09T22:46:24.056485Z"
    }
   },
   "outputs": [],
   "source": [
    "using Revise\n",
    "using BenchmarkTools"
   ]
  },
  {
   "cell_type": "code",
   "execution_count": null,
   "id": "c51086f6",
   "metadata": {
    "execution": {
     "iopub.execute_input": "2022-02-09T22:46:24.059225Z",
     "iopub.status.busy": "2022-02-09T22:46:24.058517Z",
     "iopub.status.idle": "2022-02-09T22:46:34.628996Z",
     "shell.execute_reply": "2022-02-09T22:46:34.628411Z"
    }
   },
   "outputs": [],
   "source": [
    "using OnePiece"
   ]
  },
  {
   "cell_type": "code",
   "execution_count": null,
   "id": "6b555e70",
   "metadata": {
    "execution": {
     "iopub.execute_input": "2022-02-09T22:46:36.338002Z",
     "iopub.status.busy": "2022-02-09T22:46:34.630411Z",
     "iopub.status.idle": "2022-02-09T22:46:37.068466Z",
     "shell.execute_reply": "2022-02-09T22:46:37.067980Z"
    }
   },
   "outputs": [],
   "source": [
    "println(\":triangular_flag: is a triangular flag.\")\n",
    "\n",
    "OnePiece.emoji.print(\":triangular_flag: is a triangular flag.\")"
   ]
  }
 ],
 "metadata": {
  "@webio": {
   "lastCommId": null,
   "lastKernelId": null
  },
  "kernelspec": {
   "display_name": "Julia 1.7.1",
   "language": "julia",
   "name": "julia-1.7"
  },
  "language_info": {
   "file_extension": ".jl",
   "mimetype": "application/julia",
   "name": "julia",
   "version": "1.7.2"
  }
 },
 "nbformat": 4,
 "nbformat_minor": 5
}
