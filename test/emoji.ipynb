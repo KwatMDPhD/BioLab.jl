{
 "cells": [
  {
   "cell_type": "code",
   "execution_count": null,
   "id": "017464da",
   "metadata": {
    "execution": {
     "iopub.execute_input": "2022-02-10T21:29:17.643094Z",
     "iopub.status.busy": "2022-02-10T21:29:16.998876Z",
     "iopub.status.idle": "2022-02-10T21:29:18.844616Z",
     "shell.execute_reply": "2022-02-10T21:29:18.843835Z"
    }
   },
   "outputs": [],
   "source": [
    "TE = joinpath(tempdir(), \"OnePiece.test\")\n",
    "\n",
    "mkpath(TE)"
   ]
  },
  {
   "cell_type": "code",
   "execution_count": null,
   "id": "34e4701e",
   "metadata": {
    "execution": {
     "iopub.execute_input": "2022-02-10T21:29:18.847156Z",
     "iopub.status.busy": "2022-02-10T21:29:18.846364Z",
     "iopub.status.idle": "2022-02-10T21:29:33.277570Z",
     "shell.execute_reply": "2022-02-10T21:29:33.276854Z"
    }
   },
   "outputs": [],
   "source": [
    "using OnePiece"
   ]
  },
  {
   "cell_type": "markdown",
   "id": "b92a3da9",
   "metadata": {},
   "source": [
    "---"
   ]
  },
  {
   "cell_type": "markdown",
   "id": "049720c7",
   "metadata": {},
   "source": [
    "## print"
   ]
  },
  {
   "cell_type": "code",
   "execution_count": null,
   "id": "6b555e70",
   "metadata": {
    "execution": {
     "iopub.execute_input": "2022-02-10T21:29:33.941392Z",
     "iopub.status.busy": "2022-02-10T21:29:33.279569Z",
     "iopub.status.idle": "2022-02-10T21:29:34.043789Z",
     "shell.execute_reply": "2022-02-10T21:29:34.043072Z"
    }
   },
   "outputs": [],
   "source": [
    "println(\":triangular_flag: is a triangular flag.\")\n",
    "\n",
    "OnePiece.emoji.print(\":triangular_flag: is a triangular flag.\")"
   ]
  },
  {
   "cell_type": "markdown",
   "id": "3f396855",
   "metadata": {},
   "source": [
    "---"
   ]
  },
  {
   "cell_type": "code",
   "execution_count": null,
   "id": "b4af2023",
   "metadata": {
    "execution": {
     "iopub.execute_input": "2022-02-10T21:29:34.046493Z",
     "iopub.status.busy": "2022-02-10T21:29:34.045710Z",
     "iopub.status.idle": "2022-02-10T21:29:34.050943Z",
     "shell.execute_reply": "2022-02-10T21:29:34.050174Z"
    }
   },
   "outputs": [],
   "source": [
    "rm(TE; recursive = true)"
   ]
  }
 ],
 "metadata": {
  "kernelspec": {
   "display_name": "Julia 1.7.2",
   "language": "julia",
   "name": "julia-1.7"
  },
  "language_info": {
   "file_extension": ".jl",
   "mimetype": "application/julia",
   "name": "julia",
   "version": "1.7.2"
  }
 },
 "nbformat": 4,
 "nbformat_minor": 5
}
