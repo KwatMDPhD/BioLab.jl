{
 "cells": [
  {
   "cell_type": "code",
   "execution_count": 1,
   "id": "34e4701e",
   "metadata": {
    "execution": {
     "iopub.execute_input": "2022-02-10T17:50:31.976715Z",
     "iopub.status.busy": "2022-02-10T17:50:31.546371Z",
     "iopub.status.idle": "2022-02-10T17:50:32.828545Z",
     "shell.execute_reply": "2022-02-10T17:50:32.827795Z"
    }
   },
   "outputs": [],
   "source": [
    "using Revise\n",
    "using BenchmarkTools"
   ]
  },
  {
   "cell_type": "code",
   "execution_count": 2,
   "id": "c51086f6",
   "metadata": {
    "execution": {
     "iopub.execute_input": "2022-02-10T17:50:32.831987Z",
     "iopub.status.busy": "2022-02-10T17:50:32.831240Z",
     "iopub.status.idle": "2022-02-10T17:50:38.594835Z",
     "shell.execute_reply": "2022-02-10T17:50:38.594343Z"
    }
   },
   "outputs": [],
   "source": [
    "using OnePiece"
   ]
  },
  {
   "cell_type": "code",
   "execution_count": 3,
   "id": "6b555e70",
   "metadata": {
    "execution": {
     "iopub.execute_input": "2022-02-10T17:50:38.931777Z",
     "iopub.status.busy": "2022-02-10T17:50:38.596220Z",
     "iopub.status.idle": "2022-02-10T17:50:40.061344Z",
     "shell.execute_reply": "2022-02-10T17:50:40.060764Z"
    }
   },
   "outputs": [
    {
     "name": "stdout",
     "output_type": "stream",
     "text": [
      ":triangular_flag: is a triangular flag.\n",
      "🚩 is a triangular flag."
     ]
    }
   ],
   "source": [
    "println(\":triangular_flag: is a triangular flag.\")\n",
    "\n",
    "OnePiece.emoji.print(\":triangular_flag: is a triangular flag.\")"
   ]
  }
 ],
 "metadata": {
  "@webio": {
   "lastCommId": null,
   "lastKernelId": null
  },
  "kernelspec": {
   "display_name": "Julia 1.7.1",
   "language": "julia",
   "name": "julia-1.7"
  },
  "language_info": {
   "file_extension": ".jl",
   "mimetype": "application/julia",
   "name": "julia",
   "version": "1.7.2"
  }
 },
 "nbformat": 4,
 "nbformat_minor": 5
}
