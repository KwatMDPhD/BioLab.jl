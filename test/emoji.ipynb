{
 "cells": [
  {
   "cell_type": "code",
   "execution_count": 1,
   "id": "017464da",
   "metadata": {
    "execution": {
     "iopub.execute_input": "2022-02-10T19:18:35.029379Z",
     "iopub.status.busy": "2022-02-10T19:18:34.607800Z",
     "iopub.status.idle": "2022-02-10T19:18:35.860211Z",
     "shell.execute_reply": "2022-02-10T19:18:35.859617Z"
    }
   },
   "outputs": [
    {
     "data": {
      "text/plain": [
       "\"/var/folders/mg/30npdf0s1z36txb2qvgylrzh0000gn/T/OnePiece.test\""
      ]
     },
     "execution_count": 1,
     "metadata": {},
     "output_type": "execute_result"
    }
   ],
   "source": [
    "TE = joinpath(tempdir(), \"OnePiece.test\")\n",
    "\n",
    "mkpath(TE)"
   ]
  },
  {
   "cell_type": "code",
   "execution_count": 2,
   "id": "34e4701e",
   "metadata": {
    "execution": {
     "iopub.execute_input": "2022-02-10T19:18:35.862168Z",
     "iopub.status.busy": "2022-02-10T19:18:35.861593Z",
     "iopub.status.idle": "2022-02-10T19:18:40.436290Z",
     "shell.execute_reply": "2022-02-10T19:18:40.435843Z"
    }
   },
   "outputs": [],
   "source": [
    "#using Revise\n",
    "using BenchmarkTools\n",
    "\n",
    "using OnePiece"
   ]
  },
  {
   "cell_type": "code",
   "execution_count": 3,
   "id": "6b555e70",
   "metadata": {
    "execution": {
     "iopub.execute_input": "2022-02-10T19:18:40.879690Z",
     "iopub.status.busy": "2022-02-10T19:18:40.437536Z",
     "iopub.status.idle": "2022-02-10T19:18:40.949245Z",
     "shell.execute_reply": "2022-02-10T19:18:40.948732Z"
    }
   },
   "outputs": [
    {
     "name": "stdout",
     "output_type": "stream",
     "text": [
      ":triangular_flag: is a triangular flag.\n",
      "🚩 is a triangular flag."
     ]
    }
   ],
   "source": [
    "println(\":triangular_flag: is a triangular flag.\")\n",
    "\n",
    "OnePiece.emoji.print(\":triangular_flag: is a triangular flag.\")"
   ]
  }
 ],
 "metadata": {
  "@webio": {
   "lastCommId": null,
   "lastKernelId": null
  },
  "kernelspec": {
   "display_name": "Julia 1.7.1",
   "language": "julia",
   "name": "julia-1.7"
  },
  "language_info": {
   "file_extension": ".jl",
   "mimetype": "application/julia",
   "name": "julia",
   "version": "1.7.2"
  }
 },
 "nbformat": 4,
 "nbformat_minor": 5
}
