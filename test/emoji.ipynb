{
 "cells": [
  {
   "cell_type": "code",
   "execution_count": null,
   "id": "017464da",
   "metadata": {
    "execution": {
     "iopub.execute_input": "2022-02-11T08:13:23.414764Z",
     "iopub.status.busy": "2022-02-11T08:13:23.070998Z",
     "iopub.status.idle": "2022-02-11T08:13:23.599931Z",
     "shell.execute_reply": "2022-02-11T08:13:23.599428Z"
    }
   },
   "outputs": [],
   "source": [
    "TE = joinpath(tempdir(), \"OnePiece.test\")\n",
    "\n",
    "if isdir(TE)\n",
    "\n",
    "    rm(TE; recursive = true)\n",
    "\n",
    "    println(\"Removed \", TE, \".\")\n",
    "\n",
    "end\n",
    "\n",
    "mkdir(TE)\n",
    "\n",
    "println(\"Made \", TE, \".\")"
   ]
  },
  {
   "cell_type": "code",
   "execution_count": null,
   "id": "34e4701e",
   "metadata": {
    "execution": {
     "iopub.execute_input": "2022-02-11T08:13:23.601966Z",
     "iopub.status.busy": "2022-02-11T08:13:23.601453Z",
     "iopub.status.idle": "2022-02-11T08:13:27.908424Z",
     "shell.execute_reply": "2022-02-11T08:13:27.907908Z"
    }
   },
   "outputs": [],
   "source": [
    "using OnePiece"
   ]
  },
  {
   "cell_type": "markdown",
   "id": "b92a3da9",
   "metadata": {},
   "source": [
    "---"
   ]
  },
  {
   "cell_type": "markdown",
   "id": "049720c7",
   "metadata": {},
   "source": [
    "## print"
   ]
  },
  {
   "cell_type": "code",
   "execution_count": null,
   "id": "6b555e70",
   "metadata": {
    "execution": {
     "iopub.execute_input": "2022-02-11T08:13:28.220383Z",
     "iopub.status.busy": "2022-02-11T08:13:27.909903Z",
     "iopub.status.idle": "2022-02-11T08:13:28.271975Z",
     "shell.execute_reply": "2022-02-11T08:13:28.271462Z"
    }
   },
   "outputs": [],
   "source": [
    "println(\":triangular_flag: is a triangular flag.\")\n",
    "\n",
    "OnePiece.emoji.print(\":triangular_flag: is a triangular flag.\")"
   ]
  },
  {
   "cell_type": "markdown",
   "id": "3f396855",
   "metadata": {},
   "source": [
    "---"
   ]
  },
  {
   "cell_type": "code",
   "execution_count": null,
   "id": "b4af2023",
   "metadata": {
    "execution": {
     "iopub.execute_input": "2022-02-11T08:13:28.274092Z",
     "iopub.status.busy": "2022-02-11T08:13:28.273604Z",
     "iopub.status.idle": "2022-02-11T08:13:28.278024Z",
     "shell.execute_reply": "2022-02-11T08:13:28.277672Z"
    }
   },
   "outputs": [],
   "source": [
    "if isdir(TE)\n",
    "\n",
    "    rm(TE; recursive = true)\n",
    "\n",
    "    println(\"Removed \", TE, \".\")\n",
    "\n",
    "end"
   ]
  }
 ],
 "metadata": {
  "kernelspec": {
   "display_name": "Julia 1.7.2",
   "language": "julia",
   "name": "julia-1.7"
  },
  "language_info": {
   "file_extension": ".jl",
   "mimetype": "application/julia",
   "name": "julia",
   "version": "1.7.2"
  }
 },
 "nbformat": 4,
 "nbformat_minor": 5
}
