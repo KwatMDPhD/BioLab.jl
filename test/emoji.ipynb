{
 "cells": [
  {
   "cell_type": "code",
   "execution_count": 1,
   "id": "017464da",
   "metadata": {
    "execution": {
     "iopub.execute_input": "2022-02-13T23:32:09.809043Z",
     "iopub.status.busy": "2022-02-13T23:32:09.457475Z",
     "iopub.status.idle": "2022-02-13T23:32:10.002932Z",
     "shell.execute_reply": "2022-02-13T23:32:10.002297Z"
    }
   },
   "outputs": [
    {
     "name": "stdout",
     "output_type": "stream",
     "text": [
      "Made /var/folders/mg/30npdf0s1z36txb2qvgylrzh0000gn/T/OnePiece.test.\n"
     ]
    }
   ],
   "source": [
    "TE = joinpath(tempdir(), \"OnePiece.test\")\n",
    "\n",
    "if isdir(TE)\n",
    "\n",
    "    rm(TE, recursive = true)\n",
    "\n",
    "    println(\"Removed \", TE, \".\")\n",
    "\n",
    "end\n",
    "\n",
    "mkdir(TE)\n",
    "\n",
    "println(\"Made \", TE, \".\")"
   ]
  },
  {
   "cell_type": "code",
   "execution_count": 2,
   "id": "34e4701e",
   "metadata": {
    "execution": {
     "iopub.execute_input": "2022-02-13T23:32:10.006981Z",
     "iopub.status.busy": "2022-02-13T23:32:10.005684Z",
     "iopub.status.idle": "2022-02-13T23:32:14.522353Z",
     "shell.execute_reply": "2022-02-13T23:32:14.521803Z"
    }
   },
   "outputs": [],
   "source": [
    "using OnePiece"
   ]
  },
  {
   "cell_type": "markdown",
   "id": "b92a3da9",
   "metadata": {},
   "source": [
    "---"
   ]
  },
  {
   "cell_type": "markdown",
   "id": "049720c7",
   "metadata": {},
   "source": [
    "## print"
   ]
  },
  {
   "cell_type": "code",
   "execution_count": 3,
   "id": "6b555e70",
   "metadata": {
    "execution": {
     "iopub.execute_input": "2022-02-13T23:32:14.838034Z",
     "iopub.status.busy": "2022-02-13T23:32:14.523779Z",
     "iopub.status.idle": "2022-02-13T23:32:14.890906Z",
     "shell.execute_reply": "2022-02-13T23:32:14.890464Z"
    }
   },
   "outputs": [
    {
     "name": "stdout",
     "output_type": "stream",
     "text": [
      ":triangular_flag: is a triangular flag.\n",
      "🚩 is a triangular flag."
     ]
    }
   ],
   "source": [
    "println(\":triangular_flag: is a triangular flag.\")\n",
    "\n",
    "OnePiece.emoji.print(\":triangular_flag: is a triangular flag.\")"
   ]
  },
  {
   "cell_type": "markdown",
   "id": "3f396855",
   "metadata": {},
   "source": [
    "---"
   ]
  },
  {
   "cell_type": "code",
   "execution_count": 4,
   "id": "b4af2023",
   "metadata": {
    "execution": {
     "iopub.execute_input": "2022-02-13T23:32:14.892983Z",
     "iopub.status.busy": "2022-02-13T23:32:14.892333Z",
     "iopub.status.idle": "2022-02-13T23:32:14.894978Z",
     "shell.execute_reply": "2022-02-13T23:32:14.894589Z"
    }
   },
   "outputs": [
    {
     "name": "stdout",
     "output_type": "stream",
     "text": [
      "Removed /var/folders/mg/30npdf0s1z36txb2qvgylrzh0000gn/T/OnePiece.test.\n"
     ]
    }
   ],
   "source": [
    "if isdir(TE)\n",
    "\n",
    "    rm(TE, recursive = true)\n",
    "\n",
    "    println(\"Removed \", TE, \".\")\n",
    "\n",
    "end"
   ]
  }
 ],
 "metadata": {
  "kernelspec": {
   "display_name": "Julia 1.7.2",
   "language": "julia",
   "name": "julia-1.7"
  },
  "language_info": {
   "file_extension": ".jl",
   "mimetype": "application/julia",
   "name": "julia",
   "version": "1.7.2"
  }
 },
 "nbformat": 4,
 "nbformat_minor": 5
}
