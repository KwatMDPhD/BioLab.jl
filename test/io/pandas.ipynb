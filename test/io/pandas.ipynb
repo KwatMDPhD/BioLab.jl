{
 "cells": [
  {
   "cell_type": "markdown",
   "id": "7e664cb3",
   "metadata": {},
   "source": [
    "---"
   ]
  },
  {
   "cell_type": "markdown",
   "id": "2988a98a-d859-491b-83bd-0880462f2fcd",
   "metadata": {},
   "source": [
    "## make_dataframe"
   ]
  },
  {
   "cell_type": "markdown",
   "id": "33930251",
   "metadata": {},
   "source": [
    "## read_dataframe"
   ]
  },
  {
   "cell_type": "code",
   "execution_count": null,
   "id": "44495151",
   "metadata": {
    "execution": {
     "iopub.execute_input": "2022-02-08T11:25:47.404779Z",
     "iopub.status.busy": "2022-02-08T11:25:45.653283Z",
     "iopub.status.idle": "2022-02-08T11:25:48.253111Z",
     "shell.execute_reply": "2022-02-08T11:25:48.252660Z"
    }
   },
   "outputs": [],
   "source": [
    "n_ro = 3"
   ]
  },
  {
   "cell_type": "markdown",
   "id": "650a3443",
   "metadata": {},
   "source": [
    "### 1 column"
   ]
  },
  {
   "cell_type": "code",
   "execution_count": null,
   "id": "f60ee6fe",
   "metadata": {
    "execution": {
     "iopub.execute_input": "2022-02-08T11:25:48.255091Z",
     "iopub.status.busy": "2022-02-08T11:25:48.254564Z",
     "iopub.status.idle": "2022-02-08T11:25:51.515906Z",
     "shell.execute_reply": "2022-02-08T11:25:51.515495Z"
    }
   },
   "outputs": [],
   "source": [
    "da = DataFrame(\"Index\" => [string(\"Index \", id) for id in 1:n_ro])"
   ]
  },
  {
   "cell_type": "code",
   "execution_count": null,
   "id": "bd7c31d1",
   "metadata": {
    "execution": {
     "iopub.execute_input": "2022-02-08T11:25:51.517755Z",
     "iopub.status.busy": "2022-02-08T11:25:51.517228Z",
     "iopub.status.idle": "2022-02-08T11:25:52.020729Z",
     "shell.execute_reply": "2022-02-08T11:25:52.020320Z"
    }
   },
   "outputs": [],
   "source": [
    "try\n",
    "\n",
    "    OnePiece.io.pandas.convert(da)\n",
    "\n",
    "catch er\n",
    "\n",
    "    er\n",
    "\n",
    "end"
   ]
  },
  {
   "cell_type": "markdown",
   "id": "35c05ebd",
   "metadata": {},
   "source": [
    "### Int"
   ]
  },
  {
   "cell_type": "code",
   "execution_count": null,
   "id": "f0f03bf3",
   "metadata": {
    "execution": {
     "iopub.execute_input": "2022-02-08T11:25:52.023239Z",
     "iopub.status.busy": "2022-02-08T11:25:52.022490Z",
     "iopub.status.idle": "2022-02-08T11:25:52.226079Z",
     "shell.execute_reply": "2022-02-08T11:25:52.225677Z"
    }
   },
   "outputs": [],
   "source": [
    "da[!, \"Column 1\"] = 1:n_ro\n",
    "\n",
    "da"
   ]
  },
  {
   "cell_type": "code",
   "execution_count": null,
   "id": "07a32011",
   "metadata": {
    "execution": {
     "iopub.execute_input": "2022-02-08T11:25:52.228181Z",
     "iopub.status.busy": "2022-02-08T11:25:52.227632Z",
     "iopub.status.idle": "2022-02-08T11:25:54.084147Z",
     "shell.execute_reply": "2022-02-08T11:25:54.083769Z"
    }
   },
   "outputs": [],
   "source": [
    "py = OnePiece.io.pandas.make_dataframe(da)"
   ]
  },
  {
   "cell_type": "code",
   "execution_count": null,
   "id": "a2711e9e",
   "metadata": {
    "execution": {
     "iopub.execute_input": "2022-02-08T11:25:54.085831Z",
     "iopub.status.busy": "2022-02-08T11:25:54.085344Z",
     "iopub.status.idle": "2022-02-08T11:25:54.894926Z",
     "shell.execute_reply": "2022-02-08T11:25:54.894500Z"
    }
   },
   "outputs": [],
   "source": [
    "da = OnePiece.io.pandas.read_dataframe(py)"
   ]
  },
  {
   "cell_type": "markdown",
   "id": "71175a95",
   "metadata": {},
   "source": [
    "### Int and Float"
   ]
  },
  {
   "cell_type": "code",
   "execution_count": null,
   "id": "9453a355",
   "metadata": {
    "execution": {
     "iopub.execute_input": "2022-02-08T11:25:54.896847Z",
     "iopub.status.busy": "2022-02-08T11:25:54.896216Z",
     "iopub.status.idle": "2022-02-08T11:25:55.096609Z",
     "shell.execute_reply": "2022-02-08T11:25:55.096178Z"
    }
   },
   "outputs": [],
   "source": [
    "da[!, \"Column 2\"] = convert(Vector{Float64}, da[!, \"Column 1\"])\n",
    "\n",
    "da"
   ]
  },
  {
   "cell_type": "code",
   "execution_count": null,
   "id": "44581d9f",
   "metadata": {
    "execution": {
     "iopub.execute_input": "2022-02-08T11:25:55.098416Z",
     "iopub.status.busy": "2022-02-08T11:25:55.097879Z",
     "iopub.status.idle": "2022-02-08T11:25:55.330460Z",
     "shell.execute_reply": "2022-02-08T11:25:55.330037Z"
    }
   },
   "outputs": [],
   "source": [
    "py = OnePiece.io.pandas.make_dataframe(da)"
   ]
  },
  {
   "cell_type": "code",
   "execution_count": null,
   "id": "550d013d",
   "metadata": {
    "execution": {
     "iopub.execute_input": "2022-02-08T11:25:55.332282Z",
     "iopub.status.busy": "2022-02-08T11:25:55.331798Z",
     "iopub.status.idle": "2022-02-08T11:25:55.387691Z",
     "shell.execute_reply": "2022-02-08T11:25:55.387305Z"
    }
   },
   "outputs": [],
   "source": [
    "da = OnePiece.io.pandas.read_dataframe(py)"
   ]
  },
  {
   "cell_type": "markdown",
   "id": "72528e64",
   "metadata": {},
   "source": [
    "### Int, Float, and String"
   ]
  },
  {
   "cell_type": "code",
   "execution_count": null,
   "id": "38e48bfc",
   "metadata": {
    "execution": {
     "iopub.execute_input": "2022-02-08T11:25:55.389771Z",
     "iopub.status.busy": "2022-02-08T11:25:55.389144Z",
     "iopub.status.idle": "2022-02-08T11:25:55.466367Z",
     "shell.execute_reply": "2022-02-08T11:25:55.465933Z"
    }
   },
   "outputs": [],
   "source": [
    "da[!, \"Column 3\"] = string.(da[!, \"Column 1\"])\n",
    "\n",
    "da"
   ]
  },
  {
   "cell_type": "code",
   "execution_count": null,
   "id": "c925035f",
   "metadata": {
    "execution": {
     "iopub.execute_input": "2022-02-08T11:25:55.468094Z",
     "iopub.status.busy": "2022-02-08T11:25:55.467599Z",
     "iopub.status.idle": "2022-02-08T11:25:55.694842Z",
     "shell.execute_reply": "2022-02-08T11:25:55.694465Z"
    }
   },
   "outputs": [],
   "source": [
    "py = OnePiece.io.pandas.make_dataframe(da)"
   ]
  },
  {
   "cell_type": "code",
   "execution_count": null,
   "id": "212f96f2",
   "metadata": {
    "execution": {
     "iopub.execute_input": "2022-02-08T11:25:55.696727Z",
     "iopub.status.busy": "2022-02-08T11:25:55.696121Z",
     "iopub.status.idle": "2022-02-08T11:25:55.711515Z",
     "shell.execute_reply": "2022-02-08T11:25:55.711066Z"
    }
   },
   "outputs": [],
   "source": [
    "da = OnePiece.io.pandas.read_dataframe(py)"
   ]
  },
  {
   "cell_type": "markdown",
   "id": "a889fa94",
   "metadata": {},
   "source": [
    "## make_series"
   ]
  },
  {
   "cell_type": "code",
   "execution_count": null,
   "id": "381ab710",
   "metadata": {
    "execution": {
     "iopub.execute_input": "2022-02-08T11:25:55.713429Z",
     "iopub.status.busy": "2022-02-08T11:25:55.712866Z",
     "iopub.status.idle": "2022-02-08T11:25:55.962301Z",
     "shell.execute_reply": "2022-02-08T11:25:55.961912Z"
    }
   },
   "outputs": [],
   "source": [
    "n_va = 4\n",
    "\n",
    "OnePiece.io.pandas.make_series(\n",
    "    \"Index\",\n",
    "    [string(\"Index \", id) for id in 1:n_va],\n",
    "    \"Data\",\n",
    "    rand(n_va),\n",
    ")"
   ]
  },
  {
   "cell_type": "code",
   "execution_count": null,
   "id": "ac878abd",
   "metadata": {
    "execution": {
     "iopub.execute_input": "2022-02-08T11:25:55.964197Z",
     "iopub.status.busy": "2022-02-08T11:25:55.963620Z",
     "iopub.status.idle": "2022-02-08T11:25:56.301503Z",
     "shell.execute_reply": "2022-02-08T11:25:56.301074Z"
    }
   },
   "outputs": [],
   "source": [
    "for da_ in [[1, 1.0, 1 / 1, 1 // 1], [1, 1.0, \"1\"], [1, 1.0, nothing], [1, 1.0, NaN]]\n",
    "\n",
    "    println('-'^99)\n",
    "\n",
    "    println(OnePiece.io.pandas.make_series(\"Index\", da_, \"Data\", da_))\n",
    "\n",
    "end"
   ]
  },
  {
   "cell_type": "markdown",
   "id": "08e78d95",
   "metadata": {},
   "source": [
    "## make_series"
   ]
  },
  {
   "cell_type": "code",
   "execution_count": null,
   "id": "0b9b04a4",
   "metadata": {
    "execution": {
     "iopub.execute_input": "2022-02-08T11:25:56.303418Z",
     "iopub.status.busy": "2022-02-08T11:25:56.302932Z",
     "iopub.status.idle": "2022-02-08T11:25:56.315925Z",
     "shell.execute_reply": "2022-02-08T11:25:56.315487Z"
    }
   },
   "outputs": [],
   "source": [
    "n_ro = 1"
   ]
  },
  {
   "cell_type": "markdown",
   "id": "203f9291",
   "metadata": {},
   "source": [
    "### Int"
   ]
  },
  {
   "cell_type": "code",
   "execution_count": null,
   "id": "3c8bb12a",
   "metadata": {
    "execution": {
     "iopub.execute_input": "2022-02-08T11:25:56.317851Z",
     "iopub.status.busy": "2022-02-08T11:25:56.317239Z",
     "iopub.status.idle": "2022-02-08T11:25:56.418699Z",
     "shell.execute_reply": "2022-02-08T11:25:56.418316Z"
    }
   },
   "outputs": [],
   "source": [
    "da = DataFrame(\"Index\" => [string(\"Index \", id) for id in 1:n_ro], \"Column 1\" => 1:n_ro)"
   ]
  },
  {
   "cell_type": "code",
   "execution_count": null,
   "id": "933aaa1b",
   "metadata": {
    "execution": {
     "iopub.execute_input": "2022-02-08T11:25:56.420373Z",
     "iopub.status.busy": "2022-02-08T11:25:56.419885Z",
     "iopub.status.idle": "2022-02-08T11:25:56.672379Z",
     "shell.execute_reply": "2022-02-08T11:25:56.671986Z"
    }
   },
   "outputs": [],
   "source": [
    "OnePiece.io.pandas.make_series(da[1, :])"
   ]
  },
  {
   "cell_type": "markdown",
   "id": "7313f415",
   "metadata": {},
   "source": [
    "### Int and Float"
   ]
  },
  {
   "cell_type": "code",
   "execution_count": null,
   "id": "9722e790",
   "metadata": {
    "execution": {
     "iopub.execute_input": "2022-02-08T11:25:56.674228Z",
     "iopub.status.busy": "2022-02-08T11:25:56.673735Z",
     "iopub.status.idle": "2022-02-08T11:25:56.687515Z",
     "shell.execute_reply": "2022-02-08T11:25:56.687073Z"
    }
   },
   "outputs": [],
   "source": [
    "da[!, \"Column 2\"] = convert(Vector{Float64}, da[!, \"Column 1\"])\n",
    "\n",
    "da"
   ]
  },
  {
   "cell_type": "code",
   "execution_count": null,
   "id": "65ced7d3",
   "metadata": {
    "execution": {
     "iopub.execute_input": "2022-02-08T11:25:56.689413Z",
     "iopub.status.busy": "2022-02-08T11:25:56.688849Z",
     "iopub.status.idle": "2022-02-08T11:25:56.850890Z",
     "shell.execute_reply": "2022-02-08T11:25:56.850514Z"
    }
   },
   "outputs": [],
   "source": [
    "OnePiece.io.pandas.make_series(da[1, :])"
   ]
  },
  {
   "cell_type": "markdown",
   "id": "6f3fc3d3",
   "metadata": {},
   "source": [
    "### Int, Float, and String"
   ]
  },
  {
   "cell_type": "code",
   "execution_count": null,
   "id": "2e15f0e7",
   "metadata": {
    "execution": {
     "iopub.execute_input": "2022-02-08T11:25:56.852741Z",
     "iopub.status.busy": "2022-02-08T11:25:56.852200Z",
     "iopub.status.idle": "2022-02-08T11:25:56.903179Z",
     "shell.execute_reply": "2022-02-08T11:25:56.902778Z"
    }
   },
   "outputs": [],
   "source": [
    "da[!, \"Column 3\"] = string.(da[!, \"Column 1\"])\n",
    "\n",
    "da"
   ]
  },
  {
   "cell_type": "code",
   "execution_count": null,
   "id": "1b2f0a6a",
   "metadata": {
    "execution": {
     "iopub.execute_input": "2022-02-08T11:25:56.905174Z",
     "iopub.status.busy": "2022-02-08T11:25:56.904532Z",
     "iopub.status.idle": "2022-02-08T11:25:57.035639Z",
     "shell.execute_reply": "2022-02-08T11:25:57.035245Z"
    }
   },
   "outputs": [],
   "source": [
    "OnePiece.io.pandas.make_series(da[1, :])"
   ]
  },
  {
   "cell_type": "markdown",
   "id": "3f396855",
   "metadata": {},
   "source": [
    "---"
   ]
  }
 ],
 "metadata": {
  "@webio": {
   "lastCommId": "d4398f1b106f4e9f85f1567958324314",
   "lastKernelId": "8b235a02-1cba-40f6-98c6-950a591f47c7"
  },
  "kernelspec": {
   "display_name": "Julia 1.7.2",
   "language": "julia",
   "name": "julia-1.7"
  },
  "language_info": {
   "file_extension": ".jl",
   "mimetype": "application/julia",
   "name": "julia",
   "version": "1.7.2"
  }
 },
 "nbformat": 4,
 "nbformat_minor": 5
}
