{
 "cells": [
  {
   "cell_type": "code",
   "execution_count": null,
   "id": "cdcc8802",
   "metadata": {
    "execution": {
     "iopub.execute_input": "2022-02-08T08:30:23.383061Z",
     "iopub.status.busy": "2022-02-08T08:30:22.960318Z",
     "iopub.status.idle": "2022-02-08T08:30:24.265894Z",
     "shell.execute_reply": "2022-02-08T08:30:24.265375Z"
    }
   },
   "outputs": [],
   "source": [
    "using Revise\n",
    "using BenchmarkTools"
   ]
  },
  {
   "cell_type": "code",
   "execution_count": null,
   "id": "b3325ba2-989b-48ae-b530-5d0f64147f9a",
   "metadata": {
    "execution": {
     "iopub.execute_input": "2022-02-08T08:30:24.268579Z",
     "iopub.status.busy": "2022-02-08T08:30:24.267377Z",
     "iopub.status.idle": "2022-02-08T08:30:35.938183Z",
     "shell.execute_reply": "2022-02-08T08:30:35.937644Z"
    }
   },
   "outputs": [],
   "source": [
    "using DataFrames\n",
    "\n",
    "using OnePiece"
   ]
  },
  {
   "cell_type": "markdown",
   "id": "2988a98a-d859-491b-83bd-0880462f2fcd",
   "metadata": {},
   "source": [
    "## make_dataframe"
   ]
  },
  {
   "cell_type": "markdown",
   "id": "33930251",
   "metadata": {},
   "source": [
    "## read_dataframe"
   ]
  },
  {
   "cell_type": "code",
   "execution_count": null,
   "id": "44495151",
   "metadata": {
    "execution": {
     "iopub.execute_input": "2022-02-08T08:30:37.700159Z",
     "iopub.status.busy": "2022-02-08T08:30:35.939681Z",
     "iopub.status.idle": "2022-02-08T08:30:38.555544Z",
     "shell.execute_reply": "2022-02-08T08:30:38.555108Z"
    }
   },
   "outputs": [],
   "source": [
    "n_ro = 3"
   ]
  },
  {
   "cell_type": "markdown",
   "id": "650a3443",
   "metadata": {},
   "source": [
    "### 1 column"
   ]
  },
  {
   "cell_type": "code",
   "execution_count": null,
   "id": "f60ee6fe",
   "metadata": {
    "execution": {
     "iopub.execute_input": "2022-02-08T08:30:38.557564Z",
     "iopub.status.busy": "2022-02-08T08:30:38.557068Z",
     "iopub.status.idle": "2022-02-08T08:30:41.861626Z",
     "shell.execute_reply": "2022-02-08T08:30:41.861194Z"
    }
   },
   "outputs": [],
   "source": [
    "da = DataFrame(\"Index\" => [string(\"Index \", id) for id in 1:n_ro])"
   ]
  },
  {
   "cell_type": "code",
   "execution_count": null,
   "id": "bd7c31d1",
   "metadata": {
    "execution": {
     "iopub.execute_input": "2022-02-08T08:30:41.863704Z",
     "iopub.status.busy": "2022-02-08T08:30:41.863102Z",
     "iopub.status.idle": "2022-02-08T08:30:42.362208Z",
     "shell.execute_reply": "2022-02-08T08:30:42.361798Z"
    }
   },
   "outputs": [],
   "source": [
    "try\n",
    "\n",
    "    OnePiece.io.pandas.convert(da)\n",
    "\n",
    "catch er\n",
    "\n",
    "    er\n",
    "\n",
    "end"
   ]
  },
  {
   "cell_type": "markdown",
   "id": "35c05ebd",
   "metadata": {},
   "source": [
    "### Int"
   ]
  },
  {
   "cell_type": "code",
   "execution_count": null,
   "id": "f0f03bf3",
   "metadata": {
    "execution": {
     "iopub.execute_input": "2022-02-08T08:30:42.363969Z",
     "iopub.status.busy": "2022-02-08T08:30:42.363473Z",
     "iopub.status.idle": "2022-02-08T08:30:42.563212Z",
     "shell.execute_reply": "2022-02-08T08:30:42.562822Z"
    }
   },
   "outputs": [],
   "source": [
    "da[!, \"Column 1\"] = 1:n_ro\n",
    "\n",
    "da"
   ]
  },
  {
   "cell_type": "code",
   "execution_count": null,
   "id": "07a32011",
   "metadata": {
    "execution": {
     "iopub.execute_input": "2022-02-08T08:30:42.565032Z",
     "iopub.status.busy": "2022-02-08T08:30:42.564514Z",
     "iopub.status.idle": "2022-02-08T08:30:44.341481Z",
     "shell.execute_reply": "2022-02-08T08:30:44.341099Z"
    }
   },
   "outputs": [],
   "source": [
    "py = OnePiece.io.pandas.make_dataframe(da)"
   ]
  },
  {
   "cell_type": "code",
   "execution_count": null,
   "id": "a2711e9e",
   "metadata": {
    "execution": {
     "iopub.execute_input": "2022-02-08T08:30:44.343239Z",
     "iopub.status.busy": "2022-02-08T08:30:44.342747Z",
     "iopub.status.idle": "2022-02-08T08:30:45.165990Z",
     "shell.execute_reply": "2022-02-08T08:30:45.165605Z"
    }
   },
   "outputs": [],
   "source": [
    "da = OnePiece.io.pandas.read_dataframe(py)"
   ]
  },
  {
   "cell_type": "markdown",
   "id": "71175a95",
   "metadata": {},
   "source": [
    "### Int and Float"
   ]
  },
  {
   "cell_type": "code",
   "execution_count": null,
   "id": "9453a355",
   "metadata": {
    "execution": {
     "iopub.execute_input": "2022-02-08T08:30:45.168054Z",
     "iopub.status.busy": "2022-02-08T08:30:45.167389Z",
     "iopub.status.idle": "2022-02-08T08:30:45.363712Z",
     "shell.execute_reply": "2022-02-08T08:30:45.363323Z"
    }
   },
   "outputs": [],
   "source": [
    "da[!, \"Column 2\"] = convert(Vector{Float64}, da[!, \"Column 1\"])\n",
    "\n",
    "da"
   ]
  },
  {
   "cell_type": "code",
   "execution_count": null,
   "id": "44581d9f",
   "metadata": {
    "execution": {
     "iopub.execute_input": "2022-02-08T08:30:45.365581Z",
     "iopub.status.busy": "2022-02-08T08:30:45.365028Z",
     "iopub.status.idle": "2022-02-08T08:30:45.595496Z",
     "shell.execute_reply": "2022-02-08T08:30:45.595114Z"
    }
   },
   "outputs": [],
   "source": [
    "py = OnePiece.io.pandas.make_dataframe(da)"
   ]
  },
  {
   "cell_type": "code",
   "execution_count": null,
   "id": "550d013d",
   "metadata": {
    "execution": {
     "iopub.execute_input": "2022-02-08T08:30:45.597281Z",
     "iopub.status.busy": "2022-02-08T08:30:45.596791Z",
     "iopub.status.idle": "2022-02-08T08:30:45.656564Z",
     "shell.execute_reply": "2022-02-08T08:30:45.656133Z"
    }
   },
   "outputs": [],
   "source": [
    "da = OnePiece.io.pandas.read_dataframe(py)"
   ]
  },
  {
   "cell_type": "markdown",
   "id": "72528e64",
   "metadata": {},
   "source": [
    "### Int, Float, and String"
   ]
  },
  {
   "cell_type": "code",
   "execution_count": null,
   "id": "38e48bfc",
   "metadata": {
    "execution": {
     "iopub.execute_input": "2022-02-08T08:30:45.658420Z",
     "iopub.status.busy": "2022-02-08T08:30:45.657920Z",
     "iopub.status.idle": "2022-02-08T08:30:45.728842Z",
     "shell.execute_reply": "2022-02-08T08:30:45.728370Z"
    }
   },
   "outputs": [],
   "source": [
    "da[!, \"Column 3\"] = string.(da[!, \"Column 1\"])\n",
    "\n",
    "da"
   ]
  },
  {
   "cell_type": "code",
   "execution_count": null,
   "id": "c925035f",
   "metadata": {
    "execution": {
     "iopub.execute_input": "2022-02-08T08:30:45.730639Z",
     "iopub.status.busy": "2022-02-08T08:30:45.730126Z",
     "iopub.status.idle": "2022-02-08T08:30:45.956041Z",
     "shell.execute_reply": "2022-02-08T08:30:45.955656Z"
    }
   },
   "outputs": [],
   "source": [
    "py = OnePiece.io.pandas.make_dataframe(da)"
   ]
  },
  {
   "cell_type": "code",
   "execution_count": null,
   "id": "212f96f2",
   "metadata": {
    "execution": {
     "iopub.execute_input": "2022-02-08T08:30:45.957989Z",
     "iopub.status.busy": "2022-02-08T08:30:45.957461Z",
     "iopub.status.idle": "2022-02-08T08:30:45.972451Z",
     "shell.execute_reply": "2022-02-08T08:30:45.972012Z"
    }
   },
   "outputs": [],
   "source": [
    "da = OnePiece.io.pandas.read_dataframe(py)"
   ]
  },
  {
   "cell_type": "markdown",
   "id": "a889fa94",
   "metadata": {},
   "source": [
    "## make_series"
   ]
  },
  {
   "cell_type": "code",
   "execution_count": null,
   "id": "381ab710",
   "metadata": {
    "execution": {
     "iopub.execute_input": "2022-02-08T08:30:45.974500Z",
     "iopub.status.busy": "2022-02-08T08:30:45.973914Z",
     "iopub.status.idle": "2022-02-08T08:30:46.231114Z",
     "shell.execute_reply": "2022-02-08T08:30:46.230727Z"
    }
   },
   "outputs": [],
   "source": [
    "n_va = 4\n",
    "\n",
    "OnePiece.io.pandas.make_series(\n",
    "    \"Index\",\n",
    "    [string(\"Index \", id) for id in 1:n_va],\n",
    "    \"Data\",\n",
    "    rand(n_va),\n",
    ")"
   ]
  },
  {
   "cell_type": "code",
   "execution_count": null,
   "id": "ac878abd",
   "metadata": {
    "execution": {
     "iopub.execute_input": "2022-02-08T08:30:46.233088Z",
     "iopub.status.busy": "2022-02-08T08:30:46.232570Z",
     "iopub.status.idle": "2022-02-08T08:30:46.577630Z",
     "shell.execute_reply": "2022-02-08T08:30:46.577155Z"
    }
   },
   "outputs": [],
   "source": [
    "for da_ in [[1, 1.0, 1 / 1, 1 // 1], [1, 1.0, \"1\"], [1, 1.0, nothing], [1, 1.0, NaN]]\n",
    "\n",
    "    println('-'^99)\n",
    "\n",
    "    println(OnePiece.io.pandas.make_series(\"Index\", da_, \"Data\", da_))\n",
    "\n",
    "end"
   ]
  },
  {
   "cell_type": "markdown",
   "id": "08e78d95",
   "metadata": {},
   "source": [
    "## make_series"
   ]
  },
  {
   "cell_type": "code",
   "execution_count": null,
   "id": "0b9b04a4",
   "metadata": {
    "execution": {
     "iopub.execute_input": "2022-02-08T08:30:46.579622Z",
     "iopub.status.busy": "2022-02-08T08:30:46.579056Z",
     "iopub.status.idle": "2022-02-08T08:30:46.593505Z",
     "shell.execute_reply": "2022-02-08T08:30:46.593055Z"
    }
   },
   "outputs": [],
   "source": [
    "n_ro = 1"
   ]
  },
  {
   "cell_type": "markdown",
   "id": "203f9291",
   "metadata": {},
   "source": [
    "### Int"
   ]
  },
  {
   "cell_type": "code",
   "execution_count": null,
   "id": "3c8bb12a",
   "metadata": {
    "execution": {
     "iopub.execute_input": "2022-02-08T08:30:46.595535Z",
     "iopub.status.busy": "2022-02-08T08:30:46.594956Z",
     "iopub.status.idle": "2022-02-08T08:30:46.702632Z",
     "shell.execute_reply": "2022-02-08T08:30:46.702251Z"
    }
   },
   "outputs": [],
   "source": [
    "da = DataFrame(\"Index\" => [string(\"Index \", id) for id in 1:n_ro], \"Column 1\" => 1:n_ro)"
   ]
  },
  {
   "cell_type": "code",
   "execution_count": null,
   "id": "933aaa1b",
   "metadata": {
    "execution": {
     "iopub.execute_input": "2022-02-08T08:30:46.704571Z",
     "iopub.status.busy": "2022-02-08T08:30:46.704021Z",
     "iopub.status.idle": "2022-02-08T08:30:46.958589Z",
     "shell.execute_reply": "2022-02-08T08:30:46.958189Z"
    }
   },
   "outputs": [],
   "source": [
    "OnePiece.io.pandas.make_series(da[1, :])"
   ]
  },
  {
   "cell_type": "markdown",
   "id": "7313f415",
   "metadata": {},
   "source": [
    "### Int and Float"
   ]
  },
  {
   "cell_type": "code",
   "execution_count": null,
   "id": "9722e790",
   "metadata": {
    "execution": {
     "iopub.execute_input": "2022-02-08T08:30:46.960438Z",
     "iopub.status.busy": "2022-02-08T08:30:46.959944Z",
     "iopub.status.idle": "2022-02-08T08:30:46.973746Z",
     "shell.execute_reply": "2022-02-08T08:30:46.973312Z"
    }
   },
   "outputs": [],
   "source": [
    "da[!, \"Column 2\"] = convert(Vector{Float64}, da[!, \"Column 1\"])\n",
    "\n",
    "da"
   ]
  },
  {
   "cell_type": "code",
   "execution_count": null,
   "id": "65ced7d3",
   "metadata": {
    "execution": {
     "iopub.execute_input": "2022-02-08T08:30:46.975590Z",
     "iopub.status.busy": "2022-02-08T08:30:46.975017Z",
     "iopub.status.idle": "2022-02-08T08:30:47.146651Z",
     "shell.execute_reply": "2022-02-08T08:30:47.146225Z"
    }
   },
   "outputs": [],
   "source": [
    "OnePiece.io.pandas.make_series(da[1, :])"
   ]
  },
  {
   "cell_type": "markdown",
   "id": "6f3fc3d3",
   "metadata": {},
   "source": [
    "### Int, Float, and String"
   ]
  },
  {
   "cell_type": "code",
   "execution_count": null,
   "id": "2e15f0e7",
   "metadata": {
    "execution": {
     "iopub.execute_input": "2022-02-08T08:30:47.148669Z",
     "iopub.status.busy": "2022-02-08T08:30:47.148052Z",
     "iopub.status.idle": "2022-02-08T08:30:47.193006Z",
     "shell.execute_reply": "2022-02-08T08:30:47.192615Z"
    }
   },
   "outputs": [],
   "source": [
    "da[!, \"Column 3\"] = string.(da[!, \"Column 1\"])\n",
    "\n",
    "da"
   ]
  },
  {
   "cell_type": "code",
   "execution_count": null,
   "id": "1b2f0a6a",
   "metadata": {
    "execution": {
     "iopub.execute_input": "2022-02-08T08:30:47.194790Z",
     "iopub.status.busy": "2022-02-08T08:30:47.194256Z",
     "iopub.status.idle": "2022-02-08T08:30:47.324523Z",
     "shell.execute_reply": "2022-02-08T08:30:47.324089Z"
    }
   },
   "outputs": [],
   "source": [
    "OnePiece.io.pandas.make_series(da[1, :])"
   ]
  }
 ],
 "metadata": {
  "@webio": {
   "lastCommId": "d4398f1b106f4e9f85f1567958324314",
   "lastKernelId": "8b235a02-1cba-40f6-98c6-950a591f47c7"
  },
  "kernelspec": {
   "display_name": "Julia 1.7.1",
   "language": "julia",
   "name": "julia-1.7"
  },
  "language_info": {
   "file_extension": ".jl",
   "mimetype": "application/julia",
   "name": "julia",
   "version": "1.7.1"
  }
 },
 "nbformat": 4,
 "nbformat_minor": 5
}
