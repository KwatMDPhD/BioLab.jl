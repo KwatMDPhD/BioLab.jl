{
 "cells": [
  {
   "cell_type": "code",
   "execution_count": null,
   "id": "017464da",
   "metadata": {
    "execution": {
     "iopub.execute_input": "2022-02-13T22:55:21.145644Z",
     "iopub.status.busy": "2022-02-13T22:55:20.817015Z",
     "iopub.status.idle": "2022-02-13T22:55:21.327951Z",
     "shell.execute_reply": "2022-02-13T22:55:21.327454Z"
    }
   },
   "outputs": [],
   "source": [
    "TE = joinpath(tempdir(), \"OnePiece.test\")\n",
    "\n",
    "if isdir(TE)\n",
    "\n",
    "    rm(TE, recursive = true)\n",
    "\n",
    "    println(\"Removed \", TE, \".\")\n",
    "\n",
    "end\n",
    "\n",
    "mkdir(TE)\n",
    "\n",
    "println(\"Made \", TE, \".\")"
   ]
  },
  {
   "cell_type": "code",
   "execution_count": null,
   "id": "34e4701e",
   "metadata": {
    "execution": {
     "iopub.execute_input": "2022-02-13T22:55:21.329942Z",
     "iopub.status.busy": "2022-02-13T22:55:21.329427Z",
     "iopub.status.idle": "2022-02-13T22:55:25.260869Z",
     "shell.execute_reply": "2022-02-13T22:55:25.260422Z"
    }
   },
   "outputs": [],
   "source": [
    "using OnePiece"
   ]
  },
  {
   "cell_type": "markdown",
   "id": "b92a3da9",
   "metadata": {},
   "source": [
    "---"
   ]
  },
  {
   "cell_type": "markdown",
   "id": "457e56c6",
   "metadata": {},
   "source": [
    "## read"
   ]
  },
  {
   "cell_type": "code",
   "execution_count": null,
   "id": "d65d61f4",
   "metadata": {
    "execution": {
     "iopub.execute_input": "2022-02-13T22:55:25.565557Z",
     "iopub.status.busy": "2022-02-13T22:55:25.262417Z",
     "iopub.status.idle": "2022-02-13T22:55:25.610703Z",
     "shell.execute_reply": "2022-02-13T22:55:25.610271Z"
    }
   },
   "outputs": [],
   "source": [
    "gc = joinpath(\"gct.data\", \"a.gct\")\n",
    "\n",
    ";"
   ]
  },
  {
   "cell_type": "code",
   "execution_count": null,
   "id": "f4c0a973",
   "metadata": {
    "execution": {
     "iopub.execute_input": "2022-02-13T22:55:25.613077Z",
     "iopub.status.busy": "2022-02-13T22:55:25.612528Z",
     "iopub.status.idle": "2022-02-13T22:55:43.124229Z",
     "shell.execute_reply": "2022-02-13T22:55:43.122612Z"
    }
   },
   "outputs": [],
   "source": [
    "OnePiece.io.gct.read(gc)"
   ]
  },
  {
   "cell_type": "code",
   "execution_count": null,
   "id": "10ac5b9f",
   "metadata": {
    "execution": {
     "iopub.execute_input": "2022-02-13T22:55:43.126167Z",
     "iopub.status.busy": "2022-02-13T22:55:43.125574Z",
     "iopub.status.idle": "2022-02-13T22:55:43.517212Z",
     "shell.execute_reply": "2022-02-13T22:55:43.516761Z"
    }
   },
   "outputs": [],
   "source": [
    "OnePiece.io.gct.read(gc; na = \"Heso\")"
   ]
  },
  {
   "cell_type": "markdown",
   "id": "3f396855",
   "metadata": {},
   "source": [
    "---"
   ]
  },
  {
   "cell_type": "code",
   "execution_count": null,
   "id": "b4af2023",
   "metadata": {
    "execution": {
     "iopub.execute_input": "2022-02-13T22:55:43.519176Z",
     "iopub.status.busy": "2022-02-13T22:55:43.518584Z",
     "iopub.status.idle": "2022-02-13T22:55:43.521101Z",
     "shell.execute_reply": "2022-02-13T22:55:43.520597Z"
    }
   },
   "outputs": [],
   "source": [
    "if isdir(TE)\n",
    "\n",
    "    rm(TE, recursive = true)\n",
    "\n",
    "    println(\"Removed \", TE, \".\")\n",
    "\n",
    "end"
   ]
  }
 ],
 "metadata": {
  "kernelspec": {
   "display_name": "Julia 1.7.2",
   "language": "julia",
   "name": "julia-1.7"
  },
  "language_info": {
   "file_extension": ".jl",
   "mimetype": "application/julia",
   "name": "julia",
   "version": "1.7.2"
  }
 },
 "nbformat": 4,
 "nbformat_minor": 5
}
