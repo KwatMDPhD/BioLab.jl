{
 "cells": [
  {
   "cell_type": "code",
   "execution_count": null,
   "id": "017464da",
   "metadata": {
    "execution": {
     "iopub.execute_input": "2022-02-14T16:10:42.400362Z",
     "iopub.status.busy": "2022-02-14T16:10:42.027174Z",
     "iopub.status.idle": "2022-02-14T16:10:42.616887Z",
     "shell.execute_reply": "2022-02-14T16:10:42.616375Z"
    }
   },
   "outputs": [],
   "source": [
    "TE = joinpath(tempdir(), \"OnePiece.test\")\n",
    "\n",
    "if isdir(TE)\n",
    "\n",
    "    rm(TE, recursive = true)\n",
    "\n",
    "    println(\"Removed \", TE, \".\")\n",
    "\n",
    "end\n",
    "\n",
    "mkdir(TE)\n",
    "\n",
    "println(\"Made \", TE, \".\")"
   ]
  },
  {
   "cell_type": "code",
   "execution_count": null,
   "id": "34e4701e",
   "metadata": {
    "execution": {
     "iopub.execute_input": "2022-02-14T16:10:42.618746Z",
     "iopub.status.busy": "2022-02-14T16:10:42.618189Z",
     "iopub.status.idle": "2022-02-14T16:10:46.905342Z",
     "shell.execute_reply": "2022-02-14T16:10:46.904899Z"
    }
   },
   "outputs": [],
   "source": [
    "using OnePiece"
   ]
  },
  {
   "cell_type": "markdown",
   "id": "b92a3da9",
   "metadata": {},
   "source": [
    "---"
   ]
  },
  {
   "cell_type": "markdown",
   "id": "457e56c6",
   "metadata": {},
   "source": [
    "## read"
   ]
  },
  {
   "cell_type": "code",
   "execution_count": null,
   "id": "d65d61f4",
   "metadata": {
    "execution": {
     "iopub.execute_input": "2022-02-14T16:10:47.247697Z",
     "iopub.status.busy": "2022-02-14T16:10:46.907007Z",
     "iopub.status.idle": "2022-02-14T16:10:47.299410Z",
     "shell.execute_reply": "2022-02-14T16:10:47.298363Z"
    }
   },
   "outputs": [],
   "source": [
    "gc = joinpath(\"gct.data\", \"a.gct\")\n",
    "\n",
    ";"
   ]
  },
  {
   "cell_type": "code",
   "execution_count": null,
   "id": "f4c0a973",
   "metadata": {
    "execution": {
     "iopub.execute_input": "2022-02-14T16:10:47.301531Z",
     "iopub.status.busy": "2022-02-14T16:10:47.301020Z",
     "iopub.status.idle": "2022-02-14T16:11:06.249228Z",
     "shell.execute_reply": "2022-02-14T16:11:06.247502Z"
    }
   },
   "outputs": [],
   "source": [
    "OnePiece.io.gct.read(gc)"
   ]
  },
  {
   "cell_type": "code",
   "execution_count": null,
   "id": "10ac5b9f",
   "metadata": {
    "execution": {
     "iopub.execute_input": "2022-02-14T16:11:06.251407Z",
     "iopub.status.busy": "2022-02-14T16:11:06.250907Z",
     "iopub.status.idle": "2022-02-14T16:11:06.691660Z",
     "shell.execute_reply": "2022-02-14T16:11:06.691135Z"
    }
   },
   "outputs": [],
   "source": [
    "OnePiece.io.gct.read(gc; na = \"Heso\")"
   ]
  },
  {
   "cell_type": "markdown",
   "id": "3f396855",
   "metadata": {},
   "source": [
    "---"
   ]
  },
  {
   "cell_type": "code",
   "execution_count": null,
   "id": "b4af2023",
   "metadata": {
    "execution": {
     "iopub.execute_input": "2022-02-14T16:11:06.693799Z",
     "iopub.status.busy": "2022-02-14T16:11:06.693085Z",
     "iopub.status.idle": "2022-02-14T16:11:06.695709Z",
     "shell.execute_reply": "2022-02-14T16:11:06.695257Z"
    }
   },
   "outputs": [],
   "source": [
    "if isdir(TE)\n",
    "\n",
    "    rm(TE, recursive = true)\n",
    "\n",
    "    println(\"Removed \", TE, \".\")\n",
    "\n",
    "end"
   ]
  }
 ],
 "metadata": {
  "kernelspec": {
   "display_name": "Julia 1.7.2",
   "language": "julia",
   "name": "julia-1.7"
  },
  "language_info": {
   "file_extension": ".jl",
   "mimetype": "application/julia",
   "name": "julia",
   "version": "1.7.2"
  }
 },
 "nbformat": 4,
 "nbformat_minor": 5
}
