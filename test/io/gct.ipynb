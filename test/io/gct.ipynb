{
 "cells": [
  {
   "cell_type": "code",
   "execution_count": null,
   "id": "017464da",
   "metadata": {
    "execution": {
     "iopub.execute_input": "2022-02-13T05:30:15.626905Z",
     "iopub.status.busy": "2022-02-13T05:30:15.300203Z",
     "iopub.status.idle": "2022-02-13T05:30:15.804483Z",
     "shell.execute_reply": "2022-02-13T05:30:15.803988Z"
    }
   },
   "outputs": [],
   "source": [
    "TE = joinpath(tempdir(), \"OnePiece.test\")\n",
    "\n",
    "if isdir(TE)\n",
    "\n",
    "    rm(TE, recursive = true)\n",
    "\n",
    "    println(\"Removed \", TE, \".\")\n",
    "\n",
    "end\n",
    "\n",
    "mkdir(TE)\n",
    "\n",
    "println(\"Made \", TE, \".\")"
   ]
  },
  {
   "cell_type": "code",
   "execution_count": null,
   "id": "34e4701e",
   "metadata": {
    "execution": {
     "iopub.execute_input": "2022-02-13T05:30:15.806340Z",
     "iopub.status.busy": "2022-02-13T05:30:15.805825Z",
     "iopub.status.idle": "2022-02-13T05:30:19.808347Z",
     "shell.execute_reply": "2022-02-13T05:30:19.807906Z"
    }
   },
   "outputs": [],
   "source": [
    "using OnePiece"
   ]
  },
  {
   "cell_type": "markdown",
   "id": "b92a3da9",
   "metadata": {},
   "source": [
    "---"
   ]
  },
  {
   "cell_type": "markdown",
   "id": "457e56c6",
   "metadata": {},
   "source": [
    "## read"
   ]
  },
  {
   "cell_type": "code",
   "execution_count": null,
   "id": "d65d61f4",
   "metadata": {
    "execution": {
     "iopub.execute_input": "2022-02-13T05:30:20.118627Z",
     "iopub.status.busy": "2022-02-13T05:30:19.809711Z",
     "iopub.status.idle": "2022-02-13T05:30:20.162331Z",
     "shell.execute_reply": "2022-02-13T05:30:20.161878Z"
    }
   },
   "outputs": [],
   "source": [
    "gc = joinpath(\"gct.data\", \"a.gct\")\n",
    "\n",
    ";"
   ]
  },
  {
   "cell_type": "code",
   "execution_count": null,
   "id": "f4c0a973",
   "metadata": {
    "execution": {
     "iopub.execute_input": "2022-02-13T05:30:20.164150Z",
     "iopub.status.busy": "2022-02-13T05:30:20.163653Z",
     "iopub.status.idle": "2022-02-13T05:30:38.896482Z",
     "shell.execute_reply": "2022-02-13T05:30:38.895900Z"
    }
   },
   "outputs": [],
   "source": [
    "OnePiece.io.gct.read(gc)"
   ]
  },
  {
   "cell_type": "code",
   "execution_count": null,
   "id": "10ac5b9f",
   "metadata": {
    "execution": {
     "iopub.execute_input": "2022-02-13T05:30:38.898383Z",
     "iopub.status.busy": "2022-02-13T05:30:38.897808Z",
     "iopub.status.idle": "2022-02-13T05:30:39.310276Z",
     "shell.execute_reply": "2022-02-13T05:30:39.309821Z"
    }
   },
   "outputs": [],
   "source": [
    "OnePiece.io.gct.read(gc; na = \"Heso\")"
   ]
  },
  {
   "cell_type": "markdown",
   "id": "3f396855",
   "metadata": {},
   "source": [
    "---"
   ]
  },
  {
   "cell_type": "code",
   "execution_count": null,
   "id": "b4af2023",
   "metadata": {
    "execution": {
     "iopub.execute_input": "2022-02-13T05:30:39.312264Z",
     "iopub.status.busy": "2022-02-13T05:30:39.311665Z",
     "iopub.status.idle": "2022-02-13T05:30:39.314082Z",
     "shell.execute_reply": "2022-02-13T05:30:39.313642Z"
    }
   },
   "outputs": [],
   "source": [
    "if isdir(TE)\n",
    "\n",
    "    rm(TE, recursive = true)\n",
    "\n",
    "    println(\"Removed \", TE, \".\")\n",
    "\n",
    "end"
   ]
  }
 ],
 "metadata": {
  "kernelspec": {
   "display_name": "Julia 1.7.2",
   "language": "julia",
   "name": "julia-1.7"
  },
  "language_info": {
   "file_extension": ".jl",
   "mimetype": "application/julia",
   "name": "julia",
   "version": "1.7.2"
  }
 },
 "nbformat": 4,
 "nbformat_minor": 5
}
