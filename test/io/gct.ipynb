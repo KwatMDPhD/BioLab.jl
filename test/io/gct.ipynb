{
 "cells": [
  {
   "cell_type": "code",
   "execution_count": null,
   "id": "017464da",
   "metadata": {
    "execution": {
     "iopub.execute_input": "2022-02-13T21:47:14.738385Z",
     "iopub.status.busy": "2022-02-13T21:47:14.378526Z",
     "iopub.status.idle": "2022-02-13T21:47:14.947489Z",
     "shell.execute_reply": "2022-02-13T21:47:14.946984Z"
    }
   },
   "outputs": [],
   "source": [
    "TE = joinpath(tempdir(), \"OnePiece.test\")\n",
    "\n",
    "if isdir(TE)\n",
    "\n",
    "    rm(TE, recursive = true)\n",
    "\n",
    "    println(\"Removed \", TE, \".\")\n",
    "\n",
    "end\n",
    "\n",
    "mkdir(TE)\n",
    "\n",
    "println(\"Made \", TE, \".\")"
   ]
  },
  {
   "cell_type": "code",
   "execution_count": null,
   "id": "34e4701e",
   "metadata": {
    "execution": {
     "iopub.execute_input": "2022-02-13T21:47:14.949266Z",
     "iopub.status.busy": "2022-02-13T21:47:14.948766Z",
     "iopub.status.idle": "2022-02-13T21:47:19.530080Z",
     "shell.execute_reply": "2022-02-13T21:47:19.529522Z"
    }
   },
   "outputs": [],
   "source": [
    "using OnePiece"
   ]
  },
  {
   "cell_type": "markdown",
   "id": "b92a3da9",
   "metadata": {},
   "source": [
    "---"
   ]
  },
  {
   "cell_type": "markdown",
   "id": "457e56c6",
   "metadata": {},
   "source": [
    "## read"
   ]
  },
  {
   "cell_type": "code",
   "execution_count": null,
   "id": "d65d61f4",
   "metadata": {
    "execution": {
     "iopub.execute_input": "2022-02-13T21:47:19.951752Z",
     "iopub.status.busy": "2022-02-13T21:47:19.531590Z",
     "iopub.status.idle": "2022-02-13T21:47:20.015151Z",
     "shell.execute_reply": "2022-02-13T21:47:20.014470Z"
    }
   },
   "outputs": [],
   "source": [
    "gc = joinpath(\"gct.data\", \"a.gct\")\n",
    "\n",
    ";"
   ]
  },
  {
   "cell_type": "code",
   "execution_count": null,
   "id": "f4c0a973",
   "metadata": {
    "execution": {
     "iopub.execute_input": "2022-02-13T21:47:20.017923Z",
     "iopub.status.busy": "2022-02-13T21:47:20.016988Z",
     "iopub.status.idle": "2022-02-13T21:47:40.608085Z",
     "shell.execute_reply": "2022-02-13T21:47:40.606523Z"
    }
   },
   "outputs": [],
   "source": [
    "OnePiece.io.gct.read(gc)"
   ]
  },
  {
   "cell_type": "code",
   "execution_count": null,
   "id": "10ac5b9f",
   "metadata": {
    "execution": {
     "iopub.execute_input": "2022-02-13T21:47:40.610005Z",
     "iopub.status.busy": "2022-02-13T21:47:40.609510Z",
     "iopub.status.idle": "2022-02-13T21:47:41.038119Z",
     "shell.execute_reply": "2022-02-13T21:47:41.037641Z"
    }
   },
   "outputs": [],
   "source": [
    "OnePiece.io.gct.read(gc; na = \"Heso\")"
   ]
  },
  {
   "cell_type": "markdown",
   "id": "3f396855",
   "metadata": {},
   "source": [
    "---"
   ]
  },
  {
   "cell_type": "code",
   "execution_count": null,
   "id": "b4af2023",
   "metadata": {
    "execution": {
     "iopub.execute_input": "2022-02-13T21:47:41.040118Z",
     "iopub.status.busy": "2022-02-13T21:47:41.039531Z",
     "iopub.status.idle": "2022-02-13T21:47:41.042017Z",
     "shell.execute_reply": "2022-02-13T21:47:41.041561Z"
    }
   },
   "outputs": [],
   "source": [
    "if isdir(TE)\n",
    "\n",
    "    rm(TE, recursive = true)\n",
    "\n",
    "    println(\"Removed \", TE, \".\")\n",
    "\n",
    "end"
   ]
  }
 ],
 "metadata": {
  "kernelspec": {
   "display_name": "Julia 1.7.2",
   "language": "julia",
   "name": "julia-1.7"
  },
  "language_info": {
   "file_extension": ".jl",
   "mimetype": "application/julia",
   "name": "julia",
   "version": "1.7.2"
  }
 },
 "nbformat": 4,
 "nbformat_minor": 5
}
