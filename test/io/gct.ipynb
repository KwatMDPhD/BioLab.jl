{
 "cells": [
  {
   "cell_type": "code",
   "execution_count": null,
   "id": "017464da",
   "metadata": {
    "execution": {
     "iopub.execute_input": "2022-02-14T15:16:14.611180Z",
     "iopub.status.busy": "2022-02-14T15:16:14.274605Z",
     "iopub.status.idle": "2022-02-14T15:16:14.795655Z",
     "shell.execute_reply": "2022-02-14T15:16:14.795070Z"
    }
   },
   "outputs": [],
   "source": [
    "TE = joinpath(tempdir(), \"OnePiece.test\")\n",
    "\n",
    "if isdir(TE)\n",
    "\n",
    "    rm(TE, recursive = true)\n",
    "\n",
    "    println(\"Removed \", TE, \".\")\n",
    "\n",
    "end\n",
    "\n",
    "mkdir(TE)\n",
    "\n",
    "println(\"Made \", TE, \".\")"
   ]
  },
  {
   "cell_type": "code",
   "execution_count": null,
   "id": "34e4701e",
   "metadata": {
    "execution": {
     "iopub.execute_input": "2022-02-14T15:16:14.798026Z",
     "iopub.status.busy": "2022-02-14T15:16:14.797350Z",
     "iopub.status.idle": "2022-02-14T15:16:18.881070Z",
     "shell.execute_reply": "2022-02-14T15:16:18.880616Z"
    }
   },
   "outputs": [],
   "source": [
    "using OnePiece"
   ]
  },
  {
   "cell_type": "markdown",
   "id": "b92a3da9",
   "metadata": {},
   "source": [
    "---"
   ]
  },
  {
   "cell_type": "markdown",
   "id": "457e56c6",
   "metadata": {},
   "source": [
    "## read"
   ]
  },
  {
   "cell_type": "code",
   "execution_count": null,
   "id": "d65d61f4",
   "metadata": {
    "execution": {
     "iopub.execute_input": "2022-02-14T15:16:19.200324Z",
     "iopub.status.busy": "2022-02-14T15:16:18.882426Z",
     "iopub.status.idle": "2022-02-14T15:16:19.245734Z",
     "shell.execute_reply": "2022-02-14T15:16:19.245189Z"
    }
   },
   "outputs": [],
   "source": [
    "gc = joinpath(\"gct.data\", \"a.gct\")\n",
    "\n",
    ";"
   ]
  },
  {
   "cell_type": "code",
   "execution_count": null,
   "id": "f4c0a973",
   "metadata": {
    "execution": {
     "iopub.execute_input": "2022-02-14T15:16:19.247549Z",
     "iopub.status.busy": "2022-02-14T15:16:19.247046Z",
     "iopub.status.idle": "2022-02-14T15:16:37.770896Z",
     "shell.execute_reply": "2022-02-14T15:16:37.770353Z"
    }
   },
   "outputs": [],
   "source": [
    "OnePiece.io.gct.read(gc)"
   ]
  },
  {
   "cell_type": "code",
   "execution_count": null,
   "id": "10ac5b9f",
   "metadata": {
    "execution": {
     "iopub.execute_input": "2022-02-14T15:16:37.772803Z",
     "iopub.status.busy": "2022-02-14T15:16:37.772221Z",
     "iopub.status.idle": "2022-02-14T15:16:38.212076Z",
     "shell.execute_reply": "2022-02-14T15:16:38.210692Z"
    }
   },
   "outputs": [],
   "source": [
    "OnePiece.io.gct.read(gc; na = \"Heso\")"
   ]
  },
  {
   "cell_type": "markdown",
   "id": "3f396855",
   "metadata": {},
   "source": [
    "---"
   ]
  },
  {
   "cell_type": "code",
   "execution_count": null,
   "id": "b4af2023",
   "metadata": {
    "execution": {
     "iopub.execute_input": "2022-02-14T15:16:38.214188Z",
     "iopub.status.busy": "2022-02-14T15:16:38.213543Z",
     "iopub.status.idle": "2022-02-14T15:16:38.216145Z",
     "shell.execute_reply": "2022-02-14T15:16:38.215690Z"
    }
   },
   "outputs": [],
   "source": [
    "if isdir(TE)\n",
    "\n",
    "    rm(TE, recursive = true)\n",
    "\n",
    "    println(\"Removed \", TE, \".\")\n",
    "\n",
    "end"
   ]
  }
 ],
 "metadata": {
  "kernelspec": {
   "display_name": "Julia 1.7.2",
   "language": "julia",
   "name": "julia-1.7"
  },
  "language_info": {
   "file_extension": ".jl",
   "mimetype": "application/julia",
   "name": "julia",
   "version": "1.7.2"
  }
 },
 "nbformat": 4,
 "nbformat_minor": 5
}
