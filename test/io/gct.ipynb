{
 "cells": [
  {
   "cell_type": "code",
   "execution_count": null,
   "id": "017464da",
   "metadata": {
    "execution": {
     "iopub.execute_input": "2022-02-11T08:09:22.253284Z",
     "iopub.status.busy": "2022-02-11T08:09:21.904984Z",
     "iopub.status.idle": "2022-02-11T08:09:22.458645Z",
     "shell.execute_reply": "2022-02-11T08:09:22.458112Z"
    }
   },
   "outputs": [],
   "source": [
    "TE = joinpath(tempdir(), \"OnePiece.test\")\n",
    "\n",
    "if isdir(TE)\n",
    "\n",
    "    rm(TE; recursive = true)\n",
    "\n",
    "    println(\"Removed \", TE, \".\")\n",
    "\n",
    "end\n",
    "\n",
    "mkdir(TE)\n",
    "\n",
    "println(\"Made \", TE, \".\")"
   ]
  },
  {
   "cell_type": "code",
   "execution_count": null,
   "id": "34e4701e",
   "metadata": {
    "execution": {
     "iopub.execute_input": "2022-02-11T08:09:22.460717Z",
     "iopub.status.busy": "2022-02-11T08:09:22.460055Z",
     "iopub.status.idle": "2022-02-11T08:09:26.593900Z",
     "shell.execute_reply": "2022-02-11T08:09:26.593325Z"
    }
   },
   "outputs": [],
   "source": [
    "using OnePiece"
   ]
  },
  {
   "cell_type": "markdown",
   "id": "b92a3da9",
   "metadata": {},
   "source": [
    "---"
   ]
  },
  {
   "cell_type": "markdown",
   "id": "457e56c6",
   "metadata": {},
   "source": [
    "## read"
   ]
  },
  {
   "cell_type": "code",
   "execution_count": null,
   "id": "d65d61f4",
   "metadata": {
    "execution": {
     "iopub.execute_input": "2022-02-11T08:09:26.900166Z",
     "iopub.status.busy": "2022-02-11T08:09:26.595422Z",
     "iopub.status.idle": "2022-02-11T08:09:26.946953Z",
     "shell.execute_reply": "2022-02-11T08:09:26.946407Z"
    }
   },
   "outputs": [],
   "source": [
    "gc = joinpath(\"gct.data\", \"a.gct\")\n",
    "\n",
    ";"
   ]
  },
  {
   "cell_type": "code",
   "execution_count": null,
   "id": "f4c0a973",
   "metadata": {
    "execution": {
     "iopub.execute_input": "2022-02-11T08:09:26.948977Z",
     "iopub.status.busy": "2022-02-11T08:09:26.948363Z",
     "iopub.status.idle": "2022-02-11T08:09:45.430876Z",
     "shell.execute_reply": "2022-02-11T08:09:45.429230Z"
    }
   },
   "outputs": [],
   "source": [
    "OnePiece.io.gct.read(gc)"
   ]
  },
  {
   "cell_type": "code",
   "execution_count": null,
   "id": "10ac5b9f",
   "metadata": {
    "execution": {
     "iopub.execute_input": "2022-02-11T08:09:45.433036Z",
     "iopub.status.busy": "2022-02-11T08:09:45.432390Z",
     "iopub.status.idle": "2022-02-11T08:09:45.821194Z",
     "shell.execute_reply": "2022-02-11T08:09:45.819912Z"
    }
   },
   "outputs": [],
   "source": [
    "OnePiece.io.gct.read(gc; na = \"Heso\")"
   ]
  },
  {
   "cell_type": "markdown",
   "id": "3f396855",
   "metadata": {},
   "source": [
    "---"
   ]
  },
  {
   "cell_type": "code",
   "execution_count": null,
   "id": "b4af2023",
   "metadata": {
    "execution": {
     "iopub.execute_input": "2022-02-11T08:09:45.823359Z",
     "iopub.status.busy": "2022-02-11T08:09:45.822579Z",
     "iopub.status.idle": "2022-02-11T08:09:45.825143Z",
     "shell.execute_reply": "2022-02-11T08:09:45.824764Z"
    }
   },
   "outputs": [],
   "source": [
    "if isdir(TE)\n",
    "\n",
    "    rm(TE; recursive = true)\n",
    "\n",
    "    println(\"Removed \", TE, \".\")\n",
    "\n",
    "end"
   ]
  }
 ],
 "metadata": {
  "kernelspec": {
   "display_name": "Julia 1.7.2",
   "language": "julia",
   "name": "julia-1.7"
  },
  "language_info": {
   "file_extension": ".jl",
   "mimetype": "application/julia",
   "name": "julia",
   "version": "1.7.2"
  }
 },
 "nbformat": 4,
 "nbformat_minor": 5
}
