{
 "cells": [
  {
   "cell_type": "code",
   "execution_count": null,
   "id": "34e4701e",
   "metadata": {
    "execution": {
     "iopub.execute_input": "2022-02-09T18:49:13.406220Z",
     "iopub.status.busy": "2022-02-09T18:49:12.986873Z",
     "iopub.status.idle": "2022-02-09T18:49:14.435544Z",
     "shell.execute_reply": "2022-02-09T18:49:14.434909Z"
    }
   },
   "outputs": [],
   "source": [
    "using Revise\n",
    "using BenchmarkTools"
   ]
  },
  {
   "cell_type": "code",
   "execution_count": null,
   "id": "3b5b54ea",
   "metadata": {
    "execution": {
     "iopub.execute_input": "2022-02-09T18:49:14.437954Z",
     "iopub.status.busy": "2022-02-09T18:49:14.437183Z",
     "iopub.status.idle": "2022-02-09T18:49:25.368695Z",
     "shell.execute_reply": "2022-02-09T18:49:25.368174Z"
    }
   },
   "outputs": [],
   "source": [
    "using OnePiece"
   ]
  },
  {
   "cell_type": "code",
   "execution_count": null,
   "id": "d65d61f4",
   "metadata": {
    "execution": {
     "iopub.execute_input": "2022-02-09T18:49:27.055620Z",
     "iopub.status.busy": "2022-02-09T18:49:25.370021Z",
     "iopub.status.idle": "2022-02-09T18:49:27.725102Z",
     "shell.execute_reply": "2022-02-09T18:49:27.724525Z"
    }
   },
   "outputs": [],
   "source": [
    "gc = joinpath(\"gct.data\", \"a.gct\")\n",
    "\n",
    ";"
   ]
  },
  {
   "cell_type": "code",
   "execution_count": null,
   "id": "f4c0a973",
   "metadata": {
    "execution": {
     "iopub.execute_input": "2022-02-09T18:49:27.726913Z",
     "iopub.status.busy": "2022-02-09T18:49:27.726286Z",
     "iopub.status.idle": "2022-02-09T18:49:50.188283Z",
     "shell.execute_reply": "2022-02-09T18:49:50.186886Z"
    }
   },
   "outputs": [],
   "source": [
    "OnePiece.io.gct.read(gc)"
   ]
  },
  {
   "cell_type": "code",
   "execution_count": null,
   "id": "10ac5b9f",
   "metadata": {
    "execution": {
     "iopub.execute_input": "2022-02-09T18:49:50.190285Z",
     "iopub.status.busy": "2022-02-09T18:49:50.189703Z",
     "iopub.status.idle": "2022-02-09T18:49:50.459425Z",
     "shell.execute_reply": "2022-02-09T18:49:50.458954Z"
    }
   },
   "outputs": [],
   "source": [
    "OnePiece.io.gct.read(gc; na = \"Heso\")"
   ]
  }
 ],
 "metadata": {
  "@webio": {
   "lastCommId": "25789cdc7b064618b2a7b54b51822ab1",
   "lastKernelId": "3a33294b-7868-40c4-989f-0c9fe7b604e1"
  },
  "kernelspec": {
   "display_name": "Julia 1.7.1",
   "language": "julia",
   "name": "julia-1.7"
  },
  "language_info": {
   "file_extension": ".jl",
   "mimetype": "application/julia",
   "name": "julia",
   "version": "1.7.2"
  }
 },
 "nbformat": 4,
 "nbformat_minor": 5
}
