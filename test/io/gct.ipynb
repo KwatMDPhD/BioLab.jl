{
 "cells": [
  {
   "cell_type": "code",
   "execution_count": null,
   "id": "34e4701e",
   "metadata": {
    "execution": {
     "iopub.execute_input": "2022-02-09T02:32:56.129839Z",
     "iopub.status.busy": "2022-02-09T02:32:55.705604Z",
     "iopub.status.idle": "2022-02-09T02:32:57.216713Z",
     "shell.execute_reply": "2022-02-09T02:32:57.216140Z"
    }
   },
   "outputs": [],
   "source": [
    "using Revise\n",
    "using BenchmarkTools"
   ]
  },
  {
   "cell_type": "code",
   "execution_count": null,
   "id": "3b5b54ea",
   "metadata": {
    "execution": {
     "iopub.execute_input": "2022-02-09T02:32:57.218739Z",
     "iopub.status.busy": "2022-02-09T02:32:57.218093Z",
     "iopub.status.idle": "2022-02-09T02:33:17.459667Z",
     "shell.execute_reply": "2022-02-09T02:33:17.459099Z"
    }
   },
   "outputs": [],
   "source": [
    "using OnePiece"
   ]
  },
  {
   "cell_type": "code",
   "execution_count": null,
   "id": "d65d61f4",
   "metadata": {
    "execution": {
     "iopub.execute_input": "2022-02-09T02:33:19.189423Z",
     "iopub.status.busy": "2022-02-09T02:33:17.461244Z",
     "iopub.status.idle": "2022-02-09T02:33:19.950368Z",
     "shell.execute_reply": "2022-02-09T02:33:19.949794Z"
    }
   },
   "outputs": [],
   "source": [
    "gc = joinpath(\"gct.data\", \"a.gct\")\n",
    "\n",
    ";"
   ]
  },
  {
   "cell_type": "code",
   "execution_count": null,
   "id": "f4c0a973",
   "metadata": {
    "execution": {
     "iopub.execute_input": "2022-02-09T02:33:19.952348Z",
     "iopub.status.busy": "2022-02-09T02:33:19.951735Z",
     "iopub.status.idle": "2022-02-09T02:33:44.370588Z",
     "shell.execute_reply": "2022-02-09T02:33:44.370122Z"
    }
   },
   "outputs": [],
   "source": [
    "OnePiece.io.gct.read(gc)"
   ]
  },
  {
   "cell_type": "code",
   "execution_count": null,
   "id": "10ac5b9f",
   "metadata": {
    "execution": {
     "iopub.execute_input": "2022-02-09T02:33:44.372487Z",
     "iopub.status.busy": "2022-02-09T02:33:44.371913Z",
     "iopub.status.idle": "2022-02-09T02:33:44.607988Z",
     "shell.execute_reply": "2022-02-09T02:33:44.607468Z"
    }
   },
   "outputs": [],
   "source": [
    "OnePiece.io.gct.read(gc; na = \"Heso\")"
   ]
  }
 ],
 "metadata": {
  "@webio": {
   "lastCommId": "25789cdc7b064618b2a7b54b51822ab1",
   "lastKernelId": "3a33294b-7868-40c4-989f-0c9fe7b604e1"
  },
  "kernelspec": {
   "display_name": "Julia 1.7.1",
   "language": "julia",
   "name": "julia-1.7"
  },
  "language_info": {
   "file_extension": ".jl",
   "mimetype": "application/julia",
   "name": "julia",
   "version": "1.7.2"
  }
 },
 "nbformat": 4,
 "nbformat_minor": 5
}
