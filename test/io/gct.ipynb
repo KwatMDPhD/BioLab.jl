{
 "cells": [
  {
   "cell_type": "code",
   "execution_count": null,
   "id": "017464da",
   "metadata": {
    "execution": {
     "iopub.execute_input": "2022-02-13T23:27:52.488189Z",
     "iopub.status.busy": "2022-02-13T23:27:51.623486Z",
     "iopub.status.idle": "2022-02-13T23:27:52.688124Z",
     "shell.execute_reply": "2022-02-13T23:27:52.687634Z"
    }
   },
   "outputs": [],
   "source": [
    "TE = joinpath(tempdir(), \"OnePiece.test\")\n",
    "\n",
    "if isdir(TE)\n",
    "\n",
    "    rm(TE, recursive = true)\n",
    "\n",
    "    println(\"Removed \", TE, \".\")\n",
    "\n",
    "end\n",
    "\n",
    "mkdir(TE)\n",
    "\n",
    "println(\"Made \", TE, \".\")"
   ]
  },
  {
   "cell_type": "code",
   "execution_count": null,
   "id": "34e4701e",
   "metadata": {
    "execution": {
     "iopub.execute_input": "2022-02-13T23:27:52.689989Z",
     "iopub.status.busy": "2022-02-13T23:27:52.689485Z",
     "iopub.status.idle": "2022-02-13T23:27:56.800923Z",
     "shell.execute_reply": "2022-02-13T23:27:56.800472Z"
    }
   },
   "outputs": [],
   "source": [
    "using OnePiece"
   ]
  },
  {
   "cell_type": "markdown",
   "id": "b92a3da9",
   "metadata": {},
   "source": [
    "---"
   ]
  },
  {
   "cell_type": "markdown",
   "id": "457e56c6",
   "metadata": {},
   "source": [
    "## read"
   ]
  },
  {
   "cell_type": "code",
   "execution_count": null,
   "id": "d65d61f4",
   "metadata": {
    "execution": {
     "iopub.execute_input": "2022-02-13T23:27:57.117018Z",
     "iopub.status.busy": "2022-02-13T23:27:56.802321Z",
     "iopub.status.idle": "2022-02-13T23:27:57.163756Z",
     "shell.execute_reply": "2022-02-13T23:27:57.163374Z"
    }
   },
   "outputs": [],
   "source": [
    "gc = joinpath(\"gct.data\", \"a.gct\")\n",
    "\n",
    ";"
   ]
  },
  {
   "cell_type": "code",
   "execution_count": null,
   "id": "f4c0a973",
   "metadata": {
    "execution": {
     "iopub.execute_input": "2022-02-13T23:27:57.165742Z",
     "iopub.status.busy": "2022-02-13T23:27:57.165138Z",
     "iopub.status.idle": "2022-02-13T23:28:16.410644Z",
     "shell.execute_reply": "2022-02-13T23:28:16.409111Z"
    }
   },
   "outputs": [],
   "source": [
    "OnePiece.io.gct.read(gc)"
   ]
  },
  {
   "cell_type": "code",
   "execution_count": null,
   "id": "10ac5b9f",
   "metadata": {
    "execution": {
     "iopub.execute_input": "2022-02-13T23:28:16.412464Z",
     "iopub.status.busy": "2022-02-13T23:28:16.411961Z",
     "iopub.status.idle": "2022-02-13T23:28:16.792460Z",
     "shell.execute_reply": "2022-02-13T23:28:16.791948Z"
    }
   },
   "outputs": [],
   "source": [
    "OnePiece.io.gct.read(gc; na = \"Heso\")"
   ]
  },
  {
   "cell_type": "markdown",
   "id": "3f396855",
   "metadata": {},
   "source": [
    "---"
   ]
  },
  {
   "cell_type": "code",
   "execution_count": null,
   "id": "b4af2023",
   "metadata": {
    "execution": {
     "iopub.execute_input": "2022-02-13T23:28:16.794451Z",
     "iopub.status.busy": "2022-02-13T23:28:16.793868Z",
     "iopub.status.idle": "2022-02-13T23:28:16.796304Z",
     "shell.execute_reply": "2022-02-13T23:28:16.795864Z"
    }
   },
   "outputs": [],
   "source": [
    "if isdir(TE)\n",
    "\n",
    "    rm(TE, recursive = true)\n",
    "\n",
    "    println(\"Removed \", TE, \".\")\n",
    "\n",
    "end"
   ]
  }
 ],
 "metadata": {
  "kernelspec": {
   "display_name": "Julia 1.7.2",
   "language": "julia",
   "name": "julia-1.7"
  },
  "language_info": {
   "file_extension": ".jl",
   "mimetype": "application/julia",
   "name": "julia",
   "version": "1.7.2"
  }
 },
 "nbformat": 4,
 "nbformat_minor": 5
}
