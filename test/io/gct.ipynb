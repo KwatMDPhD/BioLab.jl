{
 "cells": [
  {
   "cell_type": "code",
   "execution_count": null,
   "id": "34e4701e",
   "metadata": {
    "execution": {
     "iopub.execute_input": "2022-02-09T22:38:07.065438Z",
     "iopub.status.busy": "2022-02-09T22:38:06.688400Z",
     "iopub.status.idle": "2022-02-09T22:38:07.999796Z",
     "shell.execute_reply": "2022-02-09T22:38:07.999254Z"
    }
   },
   "outputs": [],
   "source": [
    "using Revise\n",
    "using BenchmarkTools"
   ]
  },
  {
   "cell_type": "code",
   "execution_count": null,
   "id": "3b5b54ea",
   "metadata": {
    "execution": {
     "iopub.execute_input": "2022-02-09T22:38:08.002516Z",
     "iopub.status.busy": "2022-02-09T22:38:08.001406Z",
     "iopub.status.idle": "2022-02-09T22:38:18.285853Z",
     "shell.execute_reply": "2022-02-09T22:38:18.285258Z"
    }
   },
   "outputs": [],
   "source": [
    "using OnePiece"
   ]
  },
  {
   "cell_type": "code",
   "execution_count": null,
   "id": "d65d61f4",
   "metadata": {
    "execution": {
     "iopub.execute_input": "2022-02-09T22:38:19.916854Z",
     "iopub.status.busy": "2022-02-09T22:38:18.287128Z",
     "iopub.status.idle": "2022-02-09T22:38:20.676447Z",
     "shell.execute_reply": "2022-02-09T22:38:20.676058Z"
    }
   },
   "outputs": [],
   "source": [
    "gc = joinpath(\"gct.data\", \"a.gct\")\n",
    "\n",
    ";"
   ]
  },
  {
   "cell_type": "code",
   "execution_count": null,
   "id": "f4c0a973",
   "metadata": {
    "execution": {
     "iopub.execute_input": "2022-02-09T22:38:20.678509Z",
     "iopub.status.busy": "2022-02-09T22:38:20.678006Z",
     "iopub.status.idle": "2022-02-09T22:38:42.679926Z",
     "shell.execute_reply": "2022-02-09T22:38:42.679536Z"
    }
   },
   "outputs": [],
   "source": [
    "OnePiece.io.gct.read(gc)"
   ]
  },
  {
   "cell_type": "code",
   "execution_count": null,
   "id": "10ac5b9f",
   "metadata": {
    "execution": {
     "iopub.execute_input": "2022-02-09T22:38:42.681699Z",
     "iopub.status.busy": "2022-02-09T22:38:42.681170Z",
     "iopub.status.idle": "2022-02-09T22:38:42.933582Z",
     "shell.execute_reply": "2022-02-09T22:38:42.933110Z"
    }
   },
   "outputs": [],
   "source": [
    "OnePiece.io.gct.read(gc; na = \"Heso\")"
   ]
  }
 ],
 "metadata": {
  "@webio": {
   "lastCommId": "25789cdc7b064618b2a7b54b51822ab1",
   "lastKernelId": "3a33294b-7868-40c4-989f-0c9fe7b604e1"
  },
  "kernelspec": {
   "display_name": "Julia 1.7.1",
   "language": "julia",
   "name": "julia-1.7"
  },
  "language_info": {
   "file_extension": ".jl",
   "mimetype": "application/julia",
   "name": "julia",
   "version": "1.7.2"
  }
 },
 "nbformat": 4,
 "nbformat_minor": 5
}
