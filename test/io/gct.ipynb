{
 "cells": [
  {
   "cell_type": "code",
   "execution_count": null,
   "id": "017464da",
   "metadata": {
    "execution": {
     "iopub.execute_input": "2022-02-13T23:08:58.991472Z",
     "iopub.status.busy": "2022-02-13T23:08:58.626505Z",
     "iopub.status.idle": "2022-02-13T23:08:59.194494Z",
     "shell.execute_reply": "2022-02-13T23:08:59.193866Z"
    }
   },
   "outputs": [],
   "source": [
    "TE = joinpath(tempdir(), \"OnePiece.test\")\n",
    "\n",
    "if isdir(TE)\n",
    "\n",
    "    rm(TE, recursive = true)\n",
    "\n",
    "    println(\"Removed \", TE, \".\")\n",
    "\n",
    "end\n",
    "\n",
    "mkdir(TE)\n",
    "\n",
    "println(\"Made \", TE, \".\")"
   ]
  },
  {
   "cell_type": "code",
   "execution_count": null,
   "id": "34e4701e",
   "metadata": {
    "execution": {
     "iopub.execute_input": "2022-02-13T23:08:59.196414Z",
     "iopub.status.busy": "2022-02-13T23:08:59.195917Z",
     "iopub.status.idle": "2022-02-13T23:09:03.655940Z",
     "shell.execute_reply": "2022-02-13T23:09:03.655486Z"
    }
   },
   "outputs": [],
   "source": [
    "using OnePiece"
   ]
  },
  {
   "cell_type": "markdown",
   "id": "b92a3da9",
   "metadata": {},
   "source": [
    "---"
   ]
  },
  {
   "cell_type": "markdown",
   "id": "457e56c6",
   "metadata": {},
   "source": [
    "## read"
   ]
  },
  {
   "cell_type": "code",
   "execution_count": null,
   "id": "d65d61f4",
   "metadata": {
    "execution": {
     "iopub.execute_input": "2022-02-13T23:09:03.987395Z",
     "iopub.status.busy": "2022-02-13T23:09:03.657862Z",
     "iopub.status.idle": "2022-02-13T23:09:04.037172Z",
     "shell.execute_reply": "2022-02-13T23:09:04.036726Z"
    }
   },
   "outputs": [],
   "source": [
    "gc = joinpath(\"gct.data\", \"a.gct\")\n",
    "\n",
    ";"
   ]
  },
  {
   "cell_type": "code",
   "execution_count": null,
   "id": "f4c0a973",
   "metadata": {
    "execution": {
     "iopub.execute_input": "2022-02-13T23:09:04.039468Z",
     "iopub.status.busy": "2022-02-13T23:09:04.038585Z",
     "iopub.status.idle": "2022-02-13T23:09:23.401666Z",
     "shell.execute_reply": "2022-02-13T23:09:23.401119Z"
    }
   },
   "outputs": [],
   "source": [
    "OnePiece.io.gct.read(gc)"
   ]
  },
  {
   "cell_type": "code",
   "execution_count": null,
   "id": "10ac5b9f",
   "metadata": {
    "execution": {
     "iopub.execute_input": "2022-02-13T23:09:23.403862Z",
     "iopub.status.busy": "2022-02-13T23:09:23.403369Z",
     "iopub.status.idle": "2022-02-13T23:09:23.824321Z",
     "shell.execute_reply": "2022-02-13T23:09:23.823791Z"
    }
   },
   "outputs": [],
   "source": [
    "OnePiece.io.gct.read(gc; na = \"Heso\")"
   ]
  },
  {
   "cell_type": "markdown",
   "id": "3f396855",
   "metadata": {},
   "source": [
    "---"
   ]
  },
  {
   "cell_type": "code",
   "execution_count": null,
   "id": "b4af2023",
   "metadata": {
    "execution": {
     "iopub.execute_input": "2022-02-13T23:09:23.826514Z",
     "iopub.status.busy": "2022-02-13T23:09:23.825927Z",
     "iopub.status.idle": "2022-02-13T23:09:23.828533Z",
     "shell.execute_reply": "2022-02-13T23:09:23.828079Z"
    }
   },
   "outputs": [],
   "source": [
    "if isdir(TE)\n",
    "\n",
    "    rm(TE, recursive = true)\n",
    "\n",
    "    println(\"Removed \", TE, \".\")\n",
    "\n",
    "end"
   ]
  }
 ],
 "metadata": {
  "kernelspec": {
   "display_name": "Julia 1.7.2",
   "language": "julia",
   "name": "julia-1.7"
  },
  "language_info": {
   "file_extension": ".jl",
   "mimetype": "application/julia",
   "name": "julia",
   "version": "1.7.2"
  }
 },
 "nbformat": 4,
 "nbformat_minor": 5
}
