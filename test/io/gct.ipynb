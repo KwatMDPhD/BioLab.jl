{
 "cells": [
  {
   "cell_type": "code",
   "execution_count": null,
   "id": "34e4701e",
   "metadata": {
    "execution": {
     "iopub.execute_input": "2022-02-08T08:28:59.182245Z",
     "iopub.status.busy": "2022-02-08T08:28:58.770789Z",
     "iopub.status.idle": "2022-02-08T08:29:00.021049Z",
     "shell.execute_reply": "2022-02-08T08:29:00.020175Z"
    }
   },
   "outputs": [],
   "source": [
    "using Revise\n",
    "using BenchmarkTools"
   ]
  },
  {
   "cell_type": "code",
   "execution_count": null,
   "id": "3b5b54ea",
   "metadata": {
    "execution": {
     "iopub.execute_input": "2022-02-08T08:29:00.023345Z",
     "iopub.status.busy": "2022-02-08T08:29:00.022812Z",
     "iopub.status.idle": "2022-02-08T08:29:11.605727Z",
     "shell.execute_reply": "2022-02-08T08:29:11.605188Z"
    }
   },
   "outputs": [],
   "source": [
    "using OnePiece"
   ]
  },
  {
   "cell_type": "code",
   "execution_count": null,
   "id": "d65d61f4",
   "metadata": {
    "execution": {
     "iopub.execute_input": "2022-02-08T08:29:13.282151Z",
     "iopub.status.busy": "2022-02-08T08:29:11.607032Z",
     "iopub.status.idle": "2022-02-08T08:29:13.943023Z",
     "shell.execute_reply": "2022-02-08T08:29:13.942242Z"
    }
   },
   "outputs": [],
   "source": [
    "gc = joinpath(\"gct.data\", \"a.gct\")\n",
    "\n",
    ";"
   ]
  },
  {
   "cell_type": "code",
   "execution_count": null,
   "id": "f4c0a973",
   "metadata": {
    "execution": {
     "iopub.execute_input": "2022-02-08T08:29:13.944997Z",
     "iopub.status.busy": "2022-02-08T08:29:13.944373Z",
     "iopub.status.idle": "2022-02-08T08:29:35.471337Z",
     "shell.execute_reply": "2022-02-08T08:29:35.470810Z"
    }
   },
   "outputs": [],
   "source": [
    "OnePiece.io.gct.read(gc)"
   ]
  },
  {
   "cell_type": "code",
   "execution_count": null,
   "id": "10ac5b9f",
   "metadata": {
    "execution": {
     "iopub.execute_input": "2022-02-08T08:29:35.473517Z",
     "iopub.status.busy": "2022-02-08T08:29:35.472923Z",
     "iopub.status.idle": "2022-02-08T08:29:35.744014Z",
     "shell.execute_reply": "2022-02-08T08:29:35.743551Z"
    }
   },
   "outputs": [],
   "source": [
    "OnePiece.io.gct.read(gc; na = \"Heso\")"
   ]
  }
 ],
 "metadata": {
  "@webio": {
   "lastCommId": "25789cdc7b064618b2a7b54b51822ab1",
   "lastKernelId": "3a33294b-7868-40c4-989f-0c9fe7b604e1"
  },
  "kernelspec": {
   "display_name": "Julia 1.7.1",
   "language": "julia",
   "name": "julia-1.7"
  },
  "language_info": {
   "file_extension": ".jl",
   "mimetype": "application/julia",
   "name": "julia",
   "version": "1.7.1"
  }
 },
 "nbformat": 4,
 "nbformat_minor": 5
}
