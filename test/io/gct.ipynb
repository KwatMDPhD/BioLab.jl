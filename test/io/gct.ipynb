{
 "cells": [
  {
   "cell_type": "code",
   "execution_count": null,
   "id": "017464da",
   "metadata": {
    "execution": {
     "iopub.execute_input": "2022-02-14T02:51:05.989894Z",
     "iopub.status.busy": "2022-02-14T02:51:05.569873Z",
     "iopub.status.idle": "2022-02-14T02:51:06.220209Z",
     "shell.execute_reply": "2022-02-14T02:51:06.219567Z"
    }
   },
   "outputs": [],
   "source": [
    "TE = joinpath(tempdir(), \"OnePiece.test\")\n",
    "\n",
    "if isdir(TE)\n",
    "\n",
    "    rm(TE, recursive = true)\n",
    "\n",
    "    println(\"Removed \", TE, \".\")\n",
    "\n",
    "end\n",
    "\n",
    "mkdir(TE)\n",
    "\n",
    "println(\"Made \", TE, \".\")"
   ]
  },
  {
   "cell_type": "code",
   "execution_count": null,
   "id": "34e4701e",
   "metadata": {
    "execution": {
     "iopub.execute_input": "2022-02-14T02:51:06.222297Z",
     "iopub.status.busy": "2022-02-14T02:51:06.221676Z",
     "iopub.status.idle": "2022-02-14T02:51:11.244304Z",
     "shell.execute_reply": "2022-02-14T02:51:11.243740Z"
    }
   },
   "outputs": [],
   "source": [
    "using OnePiece"
   ]
  },
  {
   "cell_type": "markdown",
   "id": "b92a3da9",
   "metadata": {},
   "source": [
    "---"
   ]
  },
  {
   "cell_type": "markdown",
   "id": "457e56c6",
   "metadata": {},
   "source": [
    "## read"
   ]
  },
  {
   "cell_type": "code",
   "execution_count": null,
   "id": "d65d61f4",
   "metadata": {
    "execution": {
     "iopub.execute_input": "2022-02-14T02:51:11.626369Z",
     "iopub.status.busy": "2022-02-14T02:51:11.245820Z",
     "iopub.status.idle": "2022-02-14T02:51:11.683210Z",
     "shell.execute_reply": "2022-02-14T02:51:11.682656Z"
    }
   },
   "outputs": [],
   "source": [
    "gc = joinpath(\"gct.data\", \"a.gct\")\n",
    "\n",
    ";"
   ]
  },
  {
   "cell_type": "code",
   "execution_count": null,
   "id": "f4c0a973",
   "metadata": {
    "execution": {
     "iopub.execute_input": "2022-02-14T02:51:11.685204Z",
     "iopub.status.busy": "2022-02-14T02:51:11.684586Z",
     "iopub.status.idle": "2022-02-14T02:51:33.799376Z",
     "shell.execute_reply": "2022-02-14T02:51:33.798613Z"
    }
   },
   "outputs": [],
   "source": [
    "OnePiece.io.gct.read(gc)"
   ]
  },
  {
   "cell_type": "code",
   "execution_count": null,
   "id": "10ac5b9f",
   "metadata": {
    "execution": {
     "iopub.execute_input": "2022-02-14T02:51:33.802428Z",
     "iopub.status.busy": "2022-02-14T02:51:33.801494Z",
     "iopub.status.idle": "2022-02-14T02:51:34.271312Z",
     "shell.execute_reply": "2022-02-14T02:51:34.270820Z"
    }
   },
   "outputs": [],
   "source": [
    "OnePiece.io.gct.read(gc; na = \"Heso\")"
   ]
  },
  {
   "cell_type": "markdown",
   "id": "3f396855",
   "metadata": {},
   "source": [
    "---"
   ]
  },
  {
   "cell_type": "code",
   "execution_count": null,
   "id": "b4af2023",
   "metadata": {
    "execution": {
     "iopub.execute_input": "2022-02-14T02:51:34.273459Z",
     "iopub.status.busy": "2022-02-14T02:51:34.272862Z",
     "iopub.status.idle": "2022-02-14T02:51:34.275487Z",
     "shell.execute_reply": "2022-02-14T02:51:34.275013Z"
    }
   },
   "outputs": [],
   "source": [
    "if isdir(TE)\n",
    "\n",
    "    rm(TE, recursive = true)\n",
    "\n",
    "    println(\"Removed \", TE, \".\")\n",
    "\n",
    "end"
   ]
  }
 ],
 "metadata": {
  "kernelspec": {
   "display_name": "Julia 1.7.2",
   "language": "julia",
   "name": "julia-1.7"
  },
  "language_info": {
   "file_extension": ".jl",
   "mimetype": "application/julia",
   "name": "julia",
   "version": "1.7.2"
  }
 },
 "nbformat": 4,
 "nbformat_minor": 5
}
