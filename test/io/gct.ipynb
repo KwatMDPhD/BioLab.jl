{
 "cells": [
  {
   "cell_type": "code",
   "execution_count": null,
   "id": "34e4701e",
   "metadata": {
    "execution": {
     "iopub.execute_input": "2022-02-09T05:28:06.281297Z",
     "iopub.status.busy": "2022-02-09T05:28:05.883278Z",
     "iopub.status.idle": "2022-02-09T05:28:07.315555Z",
     "shell.execute_reply": "2022-02-09T05:28:07.314946Z"
    }
   },
   "outputs": [],
   "source": [
    "using Revise\n",
    "using BenchmarkTools"
   ]
  },
  {
   "cell_type": "code",
   "execution_count": null,
   "id": "3b5b54ea",
   "metadata": {
    "execution": {
     "iopub.execute_input": "2022-02-09T05:28:07.317630Z",
     "iopub.status.busy": "2022-02-09T05:28:07.317028Z",
     "iopub.status.idle": "2022-02-09T05:28:17.997809Z",
     "shell.execute_reply": "2022-02-09T05:28:17.997347Z"
    }
   },
   "outputs": [],
   "source": [
    "using OnePiece"
   ]
  },
  {
   "cell_type": "code",
   "execution_count": null,
   "id": "d65d61f4",
   "metadata": {
    "execution": {
     "iopub.execute_input": "2022-02-09T05:28:19.740135Z",
     "iopub.status.busy": "2022-02-09T05:28:17.999182Z",
     "iopub.status.idle": "2022-02-09T05:28:20.529744Z",
     "shell.execute_reply": "2022-02-09T05:28:20.529277Z"
    }
   },
   "outputs": [],
   "source": [
    "gc = joinpath(\"gct.data\", \"a.gct\")\n",
    "\n",
    ";"
   ]
  },
  {
   "cell_type": "code",
   "execution_count": null,
   "id": "f4c0a973",
   "metadata": {
    "execution": {
     "iopub.execute_input": "2022-02-09T05:28:20.531519Z",
     "iopub.status.busy": "2022-02-09T05:28:20.530994Z",
     "iopub.status.idle": "2022-02-09T05:28:43.955240Z",
     "shell.execute_reply": "2022-02-09T05:28:43.954661Z"
    }
   },
   "outputs": [],
   "source": [
    "OnePiece.io.gct.read(gc)"
   ]
  },
  {
   "cell_type": "code",
   "execution_count": null,
   "id": "10ac5b9f",
   "metadata": {
    "execution": {
     "iopub.execute_input": "2022-02-09T05:28:43.956825Z",
     "iopub.status.busy": "2022-02-09T05:28:43.956338Z",
     "iopub.status.idle": "2022-02-09T05:28:44.229509Z",
     "shell.execute_reply": "2022-02-09T05:28:44.229051Z"
    }
   },
   "outputs": [],
   "source": [
    "OnePiece.io.gct.read(gc; na = \"Heso\")"
   ]
  }
 ],
 "metadata": {
  "@webio": {
   "lastCommId": "25789cdc7b064618b2a7b54b51822ab1",
   "lastKernelId": "3a33294b-7868-40c4-989f-0c9fe7b604e1"
  },
  "kernelspec": {
   "display_name": "Julia 1.7.1",
   "language": "julia",
   "name": "julia-1.7"
  },
  "language_info": {
   "file_extension": ".jl",
   "mimetype": "application/julia",
   "name": "julia",
   "version": "1.7.2"
  }
 },
 "nbformat": 4,
 "nbformat_minor": 5
}
