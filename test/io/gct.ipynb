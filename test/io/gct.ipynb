{
 "cells": [
  {
   "cell_type": "code",
   "execution_count": null,
   "id": "017464da",
   "metadata": {
    "execution": {
     "iopub.execute_input": "2022-02-11T19:55:21.368852Z",
     "iopub.status.busy": "2022-02-11T19:55:20.884612Z",
     "iopub.status.idle": "2022-02-11T19:55:21.632249Z",
     "shell.execute_reply": "2022-02-11T19:55:21.631510Z"
    }
   },
   "outputs": [],
   "source": [
    "TE = joinpath(tempdir(), \"OnePiece.test\")\n",
    "\n",
    "if isdir(TE)\n",
    "\n",
    "    rm(TE, recursive = true)\n",
    "\n",
    "    println(\"Removed \", TE, \".\")\n",
    "\n",
    "end\n",
    "\n",
    "mkdir(TE)\n",
    "\n",
    "println(\"Made \", TE, \".\")"
   ]
  },
  {
   "cell_type": "code",
   "execution_count": null,
   "id": "34e4701e",
   "metadata": {
    "execution": {
     "iopub.execute_input": "2022-02-11T19:55:21.634750Z",
     "iopub.status.busy": "2022-02-11T19:55:21.633944Z",
     "iopub.status.idle": "2022-02-11T19:55:27.204623Z",
     "shell.execute_reply": "2022-02-11T19:55:27.204005Z"
    }
   },
   "outputs": [],
   "source": [
    "using OnePiece"
   ]
  },
  {
   "cell_type": "markdown",
   "id": "b92a3da9",
   "metadata": {},
   "source": [
    "---"
   ]
  },
  {
   "cell_type": "markdown",
   "id": "457e56c6",
   "metadata": {},
   "source": [
    "## read"
   ]
  },
  {
   "cell_type": "code",
   "execution_count": null,
   "id": "d65d61f4",
   "metadata": {
    "execution": {
     "iopub.execute_input": "2022-02-11T19:55:27.634369Z",
     "iopub.status.busy": "2022-02-11T19:55:27.206287Z",
     "iopub.status.idle": "2022-02-11T19:55:27.698688Z",
     "shell.execute_reply": "2022-02-11T19:55:27.698147Z"
    }
   },
   "outputs": [],
   "source": [
    "gc = joinpath(\"gct.data\", \"a.gct\")\n",
    "\n",
    ";"
   ]
  },
  {
   "cell_type": "code",
   "execution_count": null,
   "id": "f4c0a973",
   "metadata": {
    "execution": {
     "iopub.execute_input": "2022-02-11T19:55:27.701114Z",
     "iopub.status.busy": "2022-02-11T19:55:27.700324Z",
     "iopub.status.idle": "2022-02-11T19:55:51.042562Z",
     "shell.execute_reply": "2022-02-11T19:55:51.042051Z"
    }
   },
   "outputs": [],
   "source": [
    "OnePiece.io.gct.read(gc)"
   ]
  },
  {
   "cell_type": "code",
   "execution_count": null,
   "id": "10ac5b9f",
   "metadata": {
    "execution": {
     "iopub.execute_input": "2022-02-11T19:55:51.044579Z",
     "iopub.status.busy": "2022-02-11T19:55:51.043927Z",
     "iopub.status.idle": "2022-02-11T19:55:51.566638Z",
     "shell.execute_reply": "2022-02-11T19:55:51.566113Z"
    }
   },
   "outputs": [],
   "source": [
    "OnePiece.io.gct.read(gc; na = \"Heso\")"
   ]
  },
  {
   "cell_type": "markdown",
   "id": "3f396855",
   "metadata": {},
   "source": [
    "---"
   ]
  },
  {
   "cell_type": "code",
   "execution_count": null,
   "id": "b4af2023",
   "metadata": {
    "execution": {
     "iopub.execute_input": "2022-02-11T19:55:51.569645Z",
     "iopub.status.busy": "2022-02-11T19:55:51.568522Z",
     "iopub.status.idle": "2022-02-11T19:55:51.571864Z",
     "shell.execute_reply": "2022-02-11T19:55:51.571356Z"
    }
   },
   "outputs": [],
   "source": [
    "if isdir(TE)\n",
    "\n",
    "    rm(TE, recursive = true)\n",
    "\n",
    "    println(\"Removed \", TE, \".\")\n",
    "\n",
    "end"
   ]
  }
 ],
 "metadata": {
  "kernelspec": {
   "display_name": "Julia 1.7.2",
   "language": "julia",
   "name": "julia-1.7"
  },
  "language_info": {
   "file_extension": ".jl",
   "mimetype": "application/julia",
   "name": "julia",
   "version": "1.7.2"
  }
 },
 "nbformat": 4,
 "nbformat_minor": 5
}
