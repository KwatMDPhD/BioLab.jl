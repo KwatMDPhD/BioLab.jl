{
 "cells": [
  {
   "cell_type": "code",
   "execution_count": null,
   "id": "017464da",
   "metadata": {
    "execution": {
     "iopub.execute_input": "2022-02-13T05:17:37.068150Z",
     "iopub.status.busy": "2022-02-13T05:17:36.680499Z",
     "iopub.status.idle": "2022-02-13T05:17:37.292024Z",
     "shell.execute_reply": "2022-02-13T05:17:37.291435Z"
    }
   },
   "outputs": [],
   "source": [
    "TE = joinpath(tempdir(), \"OnePiece.test\")\n",
    "\n",
    "if isdir(TE)\n",
    "\n",
    "    rm(TE, recursive = true)\n",
    "\n",
    "    println(\"Removed \", TE, \".\")\n",
    "\n",
    "end\n",
    "\n",
    "mkdir(TE)\n",
    "\n",
    "println(\"Made \", TE, \".\")"
   ]
  },
  {
   "cell_type": "code",
   "execution_count": null,
   "id": "34e4701e",
   "metadata": {
    "execution": {
     "iopub.execute_input": "2022-02-13T05:17:37.294065Z",
     "iopub.status.busy": "2022-02-13T05:17:37.293384Z",
     "iopub.status.idle": "2022-02-13T05:17:41.890037Z",
     "shell.execute_reply": "2022-02-13T05:17:41.889575Z"
    }
   },
   "outputs": [],
   "source": [
    "using OnePiece"
   ]
  },
  {
   "cell_type": "markdown",
   "id": "b92a3da9",
   "metadata": {},
   "source": [
    "---"
   ]
  },
  {
   "cell_type": "markdown",
   "id": "457e56c6",
   "metadata": {},
   "source": [
    "## read"
   ]
  },
  {
   "cell_type": "code",
   "execution_count": null,
   "id": "d65d61f4",
   "metadata": {
    "execution": {
     "iopub.execute_input": "2022-02-13T05:17:42.203255Z",
     "iopub.status.busy": "2022-02-13T05:17:41.891522Z",
     "iopub.status.idle": "2022-02-13T05:17:42.247433Z",
     "shell.execute_reply": "2022-02-13T05:17:42.246991Z"
    }
   },
   "outputs": [],
   "source": [
    "gc = joinpath(\"gct.data\", \"a.gct\")\n",
    "\n",
    ";"
   ]
  },
  {
   "cell_type": "code",
   "execution_count": null,
   "id": "f4c0a973",
   "metadata": {
    "execution": {
     "iopub.execute_input": "2022-02-13T05:17:42.249324Z",
     "iopub.status.busy": "2022-02-13T05:17:42.248823Z",
     "iopub.status.idle": "2022-02-13T05:18:02.493556Z",
     "shell.execute_reply": "2022-02-13T05:18:02.493098Z"
    }
   },
   "outputs": [],
   "source": [
    "OnePiece.io.gct.read(gc)"
   ]
  },
  {
   "cell_type": "code",
   "execution_count": null,
   "id": "10ac5b9f",
   "metadata": {
    "execution": {
     "iopub.execute_input": "2022-02-13T05:18:02.495579Z",
     "iopub.status.busy": "2022-02-13T05:18:02.494902Z",
     "iopub.status.idle": "2022-02-13T05:18:02.951941Z",
     "shell.execute_reply": "2022-02-13T05:18:02.951372Z"
    }
   },
   "outputs": [],
   "source": [
    "OnePiece.io.gct.read(gc; na = \"Heso\")"
   ]
  },
  {
   "cell_type": "markdown",
   "id": "3f396855",
   "metadata": {},
   "source": [
    "---"
   ]
  },
  {
   "cell_type": "code",
   "execution_count": null,
   "id": "b4af2023",
   "metadata": {
    "execution": {
     "iopub.execute_input": "2022-02-13T05:18:02.953971Z",
     "iopub.status.busy": "2022-02-13T05:18:02.953385Z",
     "iopub.status.idle": "2022-02-13T05:18:02.955862Z",
     "shell.execute_reply": "2022-02-13T05:18:02.955386Z"
    }
   },
   "outputs": [],
   "source": [
    "if isdir(TE)\n",
    "\n",
    "    rm(TE, recursive = true)\n",
    "\n",
    "    println(\"Removed \", TE, \".\")\n",
    "\n",
    "end"
   ]
  }
 ],
 "metadata": {
  "kernelspec": {
   "display_name": "Julia 1.7.2",
   "language": "julia",
   "name": "julia-1.7"
  },
  "language_info": {
   "file_extension": ".jl",
   "mimetype": "application/julia",
   "name": "julia",
   "version": "1.7.2"
  }
 },
 "nbformat": 4,
 "nbformat_minor": 5
}
