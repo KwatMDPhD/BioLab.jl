{
 "cells": [
  {
   "cell_type": "code",
   "execution_count": null,
   "id": "017464da",
   "metadata": {
    "execution": {
     "iopub.execute_input": "2022-02-13T22:21:15.946296Z",
     "iopub.status.busy": "2022-02-13T22:21:15.588949Z",
     "iopub.status.idle": "2022-02-13T22:21:16.149739Z",
     "shell.execute_reply": "2022-02-13T22:21:16.149235Z"
    }
   },
   "outputs": [],
   "source": [
    "TE = joinpath(tempdir(), \"OnePiece.test\")\n",
    "\n",
    "if isdir(TE)\n",
    "\n",
    "    rm(TE, recursive = true)\n",
    "\n",
    "    println(\"Removed \", TE, \".\")\n",
    "\n",
    "end\n",
    "\n",
    "mkdir(TE)\n",
    "\n",
    "println(\"Made \", TE, \".\")"
   ]
  },
  {
   "cell_type": "code",
   "execution_count": null,
   "id": "34e4701e",
   "metadata": {
    "execution": {
     "iopub.execute_input": "2022-02-13T22:21:16.151994Z",
     "iopub.status.busy": "2022-02-13T22:21:16.151484Z",
     "iopub.status.idle": "2022-02-13T22:21:20.559278Z",
     "shell.execute_reply": "2022-02-13T22:21:20.558831Z"
    }
   },
   "outputs": [],
   "source": [
    "using OnePiece"
   ]
  },
  {
   "cell_type": "markdown",
   "id": "b92a3da9",
   "metadata": {},
   "source": [
    "---"
   ]
  },
  {
   "cell_type": "markdown",
   "id": "457e56c6",
   "metadata": {},
   "source": [
    "## read"
   ]
  },
  {
   "cell_type": "code",
   "execution_count": null,
   "id": "d65d61f4",
   "metadata": {
    "execution": {
     "iopub.execute_input": "2022-02-13T22:21:20.896708Z",
     "iopub.status.busy": "2022-02-13T22:21:20.561910Z",
     "iopub.status.idle": "2022-02-13T22:21:20.947226Z",
     "shell.execute_reply": "2022-02-13T22:21:20.946836Z"
    }
   },
   "outputs": [],
   "source": [
    "gc = joinpath(\"gct.data\", \"a.gct\")\n",
    "\n",
    ";"
   ]
  },
  {
   "cell_type": "code",
   "execution_count": null,
   "id": "f4c0a973",
   "metadata": {
    "execution": {
     "iopub.execute_input": "2022-02-13T22:21:20.949118Z",
     "iopub.status.busy": "2022-02-13T22:21:20.948575Z",
     "iopub.status.idle": "2022-02-13T22:21:40.264168Z",
     "shell.execute_reply": "2022-02-13T22:21:40.263766Z"
    }
   },
   "outputs": [],
   "source": [
    "OnePiece.io.gct.read(gc)"
   ]
  },
  {
   "cell_type": "code",
   "execution_count": null,
   "id": "10ac5b9f",
   "metadata": {
    "execution": {
     "iopub.execute_input": "2022-02-13T22:21:40.266033Z",
     "iopub.status.busy": "2022-02-13T22:21:40.265535Z",
     "iopub.status.idle": "2022-02-13T22:21:40.696575Z",
     "shell.execute_reply": "2022-02-13T22:21:40.696085Z"
    }
   },
   "outputs": [],
   "source": [
    "OnePiece.io.gct.read(gc; na = \"Heso\")"
   ]
  },
  {
   "cell_type": "markdown",
   "id": "3f396855",
   "metadata": {},
   "source": [
    "---"
   ]
  },
  {
   "cell_type": "code",
   "execution_count": null,
   "id": "b4af2023",
   "metadata": {
    "execution": {
     "iopub.execute_input": "2022-02-13T22:21:40.698604Z",
     "iopub.status.busy": "2022-02-13T22:21:40.698014Z",
     "iopub.status.idle": "2022-02-13T22:21:40.700513Z",
     "shell.execute_reply": "2022-02-13T22:21:40.700060Z"
    }
   },
   "outputs": [],
   "source": [
    "if isdir(TE)\n",
    "\n",
    "    rm(TE, recursive = true)\n",
    "\n",
    "    println(\"Removed \", TE, \".\")\n",
    "\n",
    "end"
   ]
  }
 ],
 "metadata": {
  "kernelspec": {
   "display_name": "Julia 1.7.2",
   "language": "julia",
   "name": "julia-1.7"
  },
  "language_info": {
   "file_extension": ".jl",
   "mimetype": "application/julia",
   "name": "julia",
   "version": "1.7.2"
  }
 },
 "nbformat": 4,
 "nbformat_minor": 5
}
