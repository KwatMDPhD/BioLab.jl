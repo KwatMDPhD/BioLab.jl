{
 "cells": [
  {
   "cell_type": "code",
   "execution_count": null,
   "id": "34e4701e",
   "metadata": {
    "execution": {
     "iopub.execute_input": "2022-02-08T23:57:39.875950Z",
     "iopub.status.busy": "2022-02-08T23:57:39.462465Z",
     "iopub.status.idle": "2022-02-08T23:57:40.800908Z",
     "shell.execute_reply": "2022-02-08T23:57:40.800416Z"
    }
   },
   "outputs": [],
   "source": [
    "using Revise\n",
    "using BenchmarkTools"
   ]
  },
  {
   "cell_type": "code",
   "execution_count": null,
   "id": "3b5b54ea",
   "metadata": {
    "execution": {
     "iopub.execute_input": "2022-02-08T23:57:40.802737Z",
     "iopub.status.busy": "2022-02-08T23:57:40.802156Z",
     "iopub.status.idle": "2022-02-08T23:57:51.753976Z",
     "shell.execute_reply": "2022-02-08T23:57:51.753390Z"
    }
   },
   "outputs": [],
   "source": [
    "using OnePiece"
   ]
  },
  {
   "cell_type": "code",
   "execution_count": null,
   "id": "d65d61f4",
   "metadata": {
    "execution": {
     "iopub.execute_input": "2022-02-08T23:57:53.428967Z",
     "iopub.status.busy": "2022-02-08T23:57:51.755261Z",
     "iopub.status.idle": "2022-02-08T23:57:54.059471Z",
     "shell.execute_reply": "2022-02-08T23:57:54.059093Z"
    }
   },
   "outputs": [],
   "source": [
    "gc = joinpath(\"gct.data\", \"a.gct\")\n",
    "\n",
    ";"
   ]
  },
  {
   "cell_type": "code",
   "execution_count": null,
   "id": "f4c0a973",
   "metadata": {
    "execution": {
     "iopub.execute_input": "2022-02-08T23:57:54.061141Z",
     "iopub.status.busy": "2022-02-08T23:57:54.060640Z",
     "iopub.status.idle": "2022-02-08T23:58:18.106708Z",
     "shell.execute_reply": "2022-02-08T23:58:18.105244Z"
    }
   },
   "outputs": [],
   "source": [
    "OnePiece.io.gct.read(gc)"
   ]
  },
  {
   "cell_type": "code",
   "execution_count": null,
   "id": "10ac5b9f",
   "metadata": {
    "execution": {
     "iopub.execute_input": "2022-02-08T23:58:18.108573Z",
     "iopub.status.busy": "2022-02-08T23:58:18.108001Z",
     "iopub.status.idle": "2022-02-08T23:58:18.373971Z",
     "shell.execute_reply": "2022-02-08T23:58:18.373489Z"
    }
   },
   "outputs": [],
   "source": [
    "OnePiece.io.gct.read(gc; na = \"Heso\")"
   ]
  }
 ],
 "metadata": {
  "@webio": {
   "lastCommId": "25789cdc7b064618b2a7b54b51822ab1",
   "lastKernelId": "3a33294b-7868-40c4-989f-0c9fe7b604e1"
  },
  "kernelspec": {
   "display_name": "Julia 1.7.1",
   "language": "julia",
   "name": "julia-1.7"
  },
  "language_info": {
   "file_extension": ".jl",
   "mimetype": "application/julia",
   "name": "julia",
   "version": "1.7.2"
  }
 },
 "nbformat": 4,
 "nbformat_minor": 5
}
