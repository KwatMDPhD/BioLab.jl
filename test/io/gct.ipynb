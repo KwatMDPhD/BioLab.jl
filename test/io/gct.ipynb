{
 "cells": [
  {
   "cell_type": "code",
   "execution_count": null,
   "id": "34e4701e",
   "metadata": {
    "execution": {
     "iopub.execute_input": "2022-02-08T11:24:13.455442Z",
     "iopub.status.busy": "2022-02-08T11:24:13.065625Z",
     "iopub.status.idle": "2022-02-08T11:24:14.276185Z",
     "shell.execute_reply": "2022-02-08T11:24:14.275695Z"
    }
   },
   "outputs": [],
   "source": [
    "using Revise\n",
    "using BenchmarkTools"
   ]
  },
  {
   "cell_type": "code",
   "execution_count": null,
   "id": "3b5b54ea",
   "metadata": {
    "execution": {
     "iopub.execute_input": "2022-02-08T11:24:14.278079Z",
     "iopub.status.busy": "2022-02-08T11:24:14.277479Z",
     "iopub.status.idle": "2022-02-08T11:24:25.424163Z",
     "shell.execute_reply": "2022-02-08T11:24:25.423448Z"
    }
   },
   "outputs": [],
   "source": [
    "using OnePiece"
   ]
  },
  {
   "cell_type": "code",
   "execution_count": null,
   "id": "d65d61f4",
   "metadata": {
    "execution": {
     "iopub.execute_input": "2022-02-08T11:24:27.147016Z",
     "iopub.status.busy": "2022-02-08T11:24:25.425496Z",
     "iopub.status.idle": "2022-02-08T11:24:27.784537Z",
     "shell.execute_reply": "2022-02-08T11:24:27.784051Z"
    }
   },
   "outputs": [],
   "source": [
    "gc = joinpath(\"gct.data\", \"a.gct\")\n",
    "\n",
    ";"
   ]
  },
  {
   "cell_type": "code",
   "execution_count": null,
   "id": "f4c0a973",
   "metadata": {
    "execution": {
     "iopub.execute_input": "2022-02-08T11:24:27.786615Z",
     "iopub.status.busy": "2022-02-08T11:24:27.785814Z",
     "iopub.status.idle": "2022-02-08T11:24:49.141284Z",
     "shell.execute_reply": "2022-02-08T11:24:49.139968Z"
    }
   },
   "outputs": [],
   "source": [
    "OnePiece.io.gct.read(gc)"
   ]
  },
  {
   "cell_type": "code",
   "execution_count": null,
   "id": "10ac5b9f",
   "metadata": {
    "execution": {
     "iopub.execute_input": "2022-02-08T11:24:49.143343Z",
     "iopub.status.busy": "2022-02-08T11:24:49.142725Z",
     "iopub.status.idle": "2022-02-08T11:24:49.398933Z",
     "shell.execute_reply": "2022-02-08T11:24:49.398151Z"
    }
   },
   "outputs": [],
   "source": [
    "OnePiece.io.gct.read(gc; na = \"Heso\")"
   ]
  }
 ],
 "metadata": {
  "@webio": {
   "lastCommId": "25789cdc7b064618b2a7b54b51822ab1",
   "lastKernelId": "3a33294b-7868-40c4-989f-0c9fe7b604e1"
  },
  "kernelspec": {
   "display_name": "Julia 1.7.1",
   "language": "julia",
   "name": "julia-1.7"
  },
  "language_info": {
   "file_extension": ".jl",
   "mimetype": "application/julia",
   "name": "julia",
   "version": "1.7.1"
  }
 },
 "nbformat": 4,
 "nbformat_minor": 5
}
