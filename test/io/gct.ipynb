{
 "cells": [
  {
   "cell_type": "code",
   "execution_count": null,
   "id": "017464da",
   "metadata": {
    "execution": {
     "iopub.execute_input": "2022-02-14T17:00:04.591895Z",
     "iopub.status.busy": "2022-02-14T17:00:04.258742Z",
     "iopub.status.idle": "2022-02-14T17:00:04.775584Z",
     "shell.execute_reply": "2022-02-14T17:00:04.775077Z"
    }
   },
   "outputs": [],
   "source": [
    "TE = joinpath(tempdir(), \"OnePiece.test\")\n",
    "\n",
    "if isdir(TE)\n",
    "\n",
    "    rm(TE, recursive = true)\n",
    "\n",
    "    println(\"Removed \", TE, \".\")\n",
    "\n",
    "end\n",
    "\n",
    "mkdir(TE)\n",
    "\n",
    "println(\"Made \", TE, \".\")"
   ]
  },
  {
   "cell_type": "code",
   "execution_count": null,
   "id": "34e4701e",
   "metadata": {
    "execution": {
     "iopub.execute_input": "2022-02-14T17:00:04.777437Z",
     "iopub.status.busy": "2022-02-14T17:00:04.776939Z",
     "iopub.status.idle": "2022-02-14T17:00:08.882829Z",
     "shell.execute_reply": "2022-02-14T17:00:08.882376Z"
    }
   },
   "outputs": [],
   "source": [
    "using OnePiece"
   ]
  },
  {
   "cell_type": "markdown",
   "id": "b92a3da9",
   "metadata": {},
   "source": [
    "---"
   ]
  },
  {
   "cell_type": "markdown",
   "id": "457e56c6",
   "metadata": {},
   "source": [
    "## read"
   ]
  },
  {
   "cell_type": "code",
   "execution_count": null,
   "id": "d65d61f4",
   "metadata": {
    "execution": {
     "iopub.execute_input": "2022-02-14T17:00:09.237619Z",
     "iopub.status.busy": "2022-02-14T17:00:08.884228Z",
     "iopub.status.idle": "2022-02-14T17:00:09.293467Z",
     "shell.execute_reply": "2022-02-14T17:00:09.292958Z"
    }
   },
   "outputs": [],
   "source": [
    "gc = joinpath(\"gct.data\", \"a.gct\")\n",
    "\n",
    ";"
   ]
  },
  {
   "cell_type": "code",
   "execution_count": null,
   "id": "f4c0a973",
   "metadata": {
    "execution": {
     "iopub.execute_input": "2022-02-14T17:00:09.295287Z",
     "iopub.status.busy": "2022-02-14T17:00:09.294715Z",
     "iopub.status.idle": "2022-02-14T17:00:29.300295Z",
     "shell.execute_reply": "2022-02-14T17:00:29.298747Z"
    }
   },
   "outputs": [],
   "source": [
    "OnePiece.io.gct.read(gc)"
   ]
  },
  {
   "cell_type": "code",
   "execution_count": null,
   "id": "10ac5b9f",
   "metadata": {
    "execution": {
     "iopub.execute_input": "2022-02-14T17:00:29.302152Z",
     "iopub.status.busy": "2022-02-14T17:00:29.301648Z",
     "iopub.status.idle": "2022-02-14T17:00:29.670724Z",
     "shell.execute_reply": "2022-02-14T17:00:29.670288Z"
    }
   },
   "outputs": [],
   "source": [
    "OnePiece.io.gct.read(gc; na = \"Heso\")"
   ]
  },
  {
   "cell_type": "markdown",
   "id": "3f396855",
   "metadata": {},
   "source": [
    "---"
   ]
  },
  {
   "cell_type": "code",
   "execution_count": null,
   "id": "b4af2023",
   "metadata": {
    "execution": {
     "iopub.execute_input": "2022-02-14T17:00:29.672640Z",
     "iopub.status.busy": "2022-02-14T17:00:29.672083Z",
     "iopub.status.idle": "2022-02-14T17:00:29.674407Z",
     "shell.execute_reply": "2022-02-14T17:00:29.674033Z"
    }
   },
   "outputs": [],
   "source": [
    "if isdir(TE)\n",
    "\n",
    "    rm(TE, recursive = true)\n",
    "\n",
    "    println(\"Removed \", TE, \".\")\n",
    "\n",
    "end"
   ]
  }
 ],
 "metadata": {
  "kernelspec": {
   "display_name": "Julia 1.7.2",
   "language": "julia",
   "name": "julia-1.7"
  },
  "language_info": {
   "file_extension": ".jl",
   "mimetype": "application/julia",
   "name": "julia",
   "version": "1.7.2"
  }
 },
 "nbformat": 4,
 "nbformat_minor": 5
}
