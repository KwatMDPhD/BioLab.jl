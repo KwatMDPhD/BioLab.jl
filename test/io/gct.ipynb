{
 "cells": [
  {
   "cell_type": "code",
   "execution_count": null,
   "id": "017464da",
   "metadata": {},
   "outputs": [],
   "source": [
    "TE = joinpath(tempdir(), \"OnePiece.test\")\n",
    "\n",
    "mkpath(TE)"
   ]
  },
  {
   "cell_type": "code",
   "execution_count": null,
   "id": "34e4701e",
   "metadata": {
    "execution": {
     "iopub.execute_input": "2022-02-10T17:51:23.590384Z",
     "iopub.status.busy": "2022-02-10T17:51:23.250154Z",
     "iopub.status.idle": "2022-02-10T17:51:24.482021Z",
     "shell.execute_reply": "2022-02-10T17:51:24.481306Z"
    }
   },
   "outputs": [],
   "source": [
    "using OnePiece"
   ]
  },
  {
   "cell_type": "markdown",
   "id": "b92a3da9",
   "metadata": {},
   "source": [
    "---"
   ]
  },
  {
   "cell_type": "markdown",
   "id": "457e56c6",
   "metadata": {},
   "source": [
    "## read"
   ]
  },
  {
   "cell_type": "code",
   "execution_count": null,
   "id": "d65d61f4",
   "metadata": {
    "execution": {
     "iopub.execute_input": "2022-02-10T20:36:29.843639Z",
     "iopub.status.busy": "2022-02-10T20:36:29.365272Z",
     "iopub.status.idle": "2022-02-10T20:36:29.896976Z",
     "shell.execute_reply": "2022-02-10T20:36:29.896418Z"
    }
   },
   "outputs": [],
   "source": [
    "gc = joinpath(\"gct.data\", \"a.gct\")\n",
    "\n",
    ";"
   ]
  },
  {
   "cell_type": "code",
   "execution_count": null,
   "id": "f4c0a973",
   "metadata": {
    "execution": {
     "iopub.execute_input": "2022-02-10T20:36:29.898969Z",
     "iopub.status.busy": "2022-02-10T20:36:29.898336Z",
     "iopub.status.idle": "2022-02-10T20:36:52.557452Z",
     "shell.execute_reply": "2022-02-10T20:36:52.556998Z"
    }
   },
   "outputs": [],
   "source": [
    "OnePiece.io.gct.read(gc)"
   ]
  },
  {
   "cell_type": "code",
   "execution_count": null,
   "id": "10ac5b9f",
   "metadata": {
    "execution": {
     "iopub.execute_input": "2022-02-10T20:36:52.559435Z",
     "iopub.status.busy": "2022-02-10T20:36:52.558821Z",
     "iopub.status.idle": "2022-02-10T20:36:52.793508Z",
     "shell.execute_reply": "2022-02-10T20:36:52.793066Z"
    }
   },
   "outputs": [],
   "source": [
    "OnePiece.io.gct.read(gc; na = \"Heso\")"
   ]
  },
  {
   "cell_type": "markdown",
   "id": "3f396855",
   "metadata": {},
   "source": [
    "---"
   ]
  },
  {
   "cell_type": "code",
   "execution_count": null,
   "id": "b4af2023",
   "metadata": {},
   "outputs": [],
   "source": [
    "rm(TE; recursive = true)"
   ]
  }
 ],
 "metadata": {
  "kernelspec": {
   "display_name": "Julia 1.7.2",
   "language": "julia",
   "name": "julia-1.7"
  },
  "language_info": {
   "file_extension": ".jl",
   "mimetype": "application/julia",
   "name": "julia",
   "version": "1.7.2"
  }
 },
 "nbformat": 4,
 "nbformat_minor": 5
}
