{
 "cells": [
  {
   "cell_type": "code",
   "execution_count": null,
   "id": "017464da",
   "metadata": {
    "execution": {
     "iopub.execute_input": "2022-02-14T16:44:05.174141Z",
     "iopub.status.busy": "2022-02-14T16:44:04.392543Z",
     "iopub.status.idle": "2022-02-14T16:44:05.579003Z",
     "shell.execute_reply": "2022-02-14T16:44:05.577922Z"
    }
   },
   "outputs": [],
   "source": [
    "TE = joinpath(tempdir(), \"OnePiece.test\")\n",
    "\n",
    "if isdir(TE)\n",
    "\n",
    "    rm(TE, recursive = true)\n",
    "\n",
    "    println(\"Removed \", TE, \".\")\n",
    "\n",
    "end\n",
    "\n",
    "mkdir(TE)\n",
    "\n",
    "println(\"Made \", TE, \".\")"
   ]
  },
  {
   "cell_type": "code",
   "execution_count": null,
   "id": "34e4701e",
   "metadata": {
    "execution": {
     "iopub.execute_input": "2022-02-14T16:44:05.583996Z",
     "iopub.status.busy": "2022-02-14T16:44:05.582243Z",
     "iopub.status.idle": "2022-02-14T16:44:13.986868Z",
     "shell.execute_reply": "2022-02-14T16:44:13.985867Z"
    }
   },
   "outputs": [],
   "source": [
    "using OnePiece"
   ]
  },
  {
   "cell_type": "markdown",
   "id": "b92a3da9",
   "metadata": {},
   "source": [
    "---"
   ]
  },
  {
   "cell_type": "markdown",
   "id": "457e56c6",
   "metadata": {},
   "source": [
    "## read"
   ]
  },
  {
   "cell_type": "code",
   "execution_count": null,
   "id": "d65d61f4",
   "metadata": {
    "execution": {
     "iopub.execute_input": "2022-02-14T16:44:14.647236Z",
     "iopub.status.busy": "2022-02-14T16:44:13.990059Z",
     "iopub.status.idle": "2022-02-14T16:44:14.752050Z",
     "shell.execute_reply": "2022-02-14T16:44:14.750977Z"
    }
   },
   "outputs": [],
   "source": [
    "gc = joinpath(\"gct.data\", \"a.gct\")\n",
    "\n",
    ";"
   ]
  },
  {
   "cell_type": "code",
   "execution_count": null,
   "id": "f4c0a973",
   "metadata": {
    "execution": {
     "iopub.execute_input": "2022-02-14T16:44:14.755167Z",
     "iopub.status.busy": "2022-02-14T16:44:14.754219Z",
     "iopub.status.idle": "2022-02-14T16:44:46.480688Z",
     "shell.execute_reply": "2022-02-14T16:44:46.480139Z"
    }
   },
   "outputs": [],
   "source": [
    "OnePiece.io.gct.read(gc)"
   ]
  },
  {
   "cell_type": "code",
   "execution_count": null,
   "id": "10ac5b9f",
   "metadata": {
    "execution": {
     "iopub.execute_input": "2022-02-14T16:44:46.483196Z",
     "iopub.status.busy": "2022-02-14T16:44:46.482319Z",
     "iopub.status.idle": "2022-02-14T16:44:46.988319Z",
     "shell.execute_reply": "2022-02-14T16:44:46.987770Z"
    }
   },
   "outputs": [],
   "source": [
    "OnePiece.io.gct.read(gc; na = \"Heso\")"
   ]
  },
  {
   "cell_type": "markdown",
   "id": "3f396855",
   "metadata": {},
   "source": [
    "---"
   ]
  },
  {
   "cell_type": "code",
   "execution_count": null,
   "id": "b4af2023",
   "metadata": {
    "execution": {
     "iopub.execute_input": "2022-02-14T16:44:46.990811Z",
     "iopub.status.busy": "2022-02-14T16:44:46.989959Z",
     "iopub.status.idle": "2022-02-14T16:44:46.993164Z",
     "shell.execute_reply": "2022-02-14T16:44:46.992513Z"
    }
   },
   "outputs": [],
   "source": [
    "if isdir(TE)\n",
    "\n",
    "    rm(TE, recursive = true)\n",
    "\n",
    "    println(\"Removed \", TE, \".\")\n",
    "\n",
    "end"
   ]
  }
 ],
 "metadata": {
  "kernelspec": {
   "display_name": "Julia 1.7.2",
   "language": "julia",
   "name": "julia-1.7"
  },
  "language_info": {
   "file_extension": ".jl",
   "mimetype": "application/julia",
   "name": "julia",
   "version": "1.7.2"
  }
 },
 "nbformat": 4,
 "nbformat_minor": 5
}
