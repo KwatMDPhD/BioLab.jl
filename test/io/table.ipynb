{
 "cells": [
  {
   "cell_type": "code",
   "execution_count": null,
   "id": "34e4701e",
   "metadata": {
    "execution": {
     "iopub.execute_input": "2022-02-08T23:56:16.300951Z",
     "iopub.status.busy": "2022-02-08T23:56:15.911300Z",
     "iopub.status.idle": "2022-02-08T23:56:17.149711Z",
     "shell.execute_reply": "2022-02-08T23:56:17.149206Z"
    }
   },
   "outputs": [],
   "source": [
    "using Revise\n",
    "using BenchmarkTools"
   ]
  },
  {
   "cell_type": "code",
   "execution_count": null,
   "id": "7a444e5c",
   "metadata": {
    "execution": {
     "iopub.execute_input": "2022-02-08T23:56:17.151716Z",
     "iopub.status.busy": "2022-02-08T23:56:17.151175Z",
     "iopub.status.idle": "2022-02-08T23:56:26.906063Z",
     "shell.execute_reply": "2022-02-08T23:56:26.905502Z"
    }
   },
   "outputs": [],
   "source": [
    "using DataFrames\n",
    "\n",
    "using OnePiece"
   ]
  },
  {
   "cell_type": "code",
   "execution_count": null,
   "id": "2b31cd2e",
   "metadata": {
    "execution": {
     "iopub.execute_input": "2022-02-08T23:56:28.635162Z",
     "iopub.status.busy": "2022-02-08T23:56:26.907395Z",
     "iopub.status.idle": "2022-02-08T23:56:29.231407Z",
     "shell.execute_reply": "2022-02-08T23:56:29.231017Z"
    }
   },
   "outputs": [],
   "source": [
    "da = joinpath(@__DIR__, \"table.data\")\n",
    "\n",
    ";"
   ]
  },
  {
   "cell_type": "markdown",
   "id": "0c198306",
   "metadata": {},
   "source": [
    "## read"
   ]
  },
  {
   "cell_type": "code",
   "execution_count": null,
   "id": "e789c6a5",
   "metadata": {
    "execution": {
     "iopub.execute_input": "2022-02-08T23:56:29.233788Z",
     "iopub.status.busy": "2022-02-08T23:56:29.233031Z",
     "iopub.status.idle": "2022-02-08T23:56:55.054528Z",
     "shell.execute_reply": "2022-02-08T23:56:55.054136Z"
    }
   },
   "outputs": [],
   "source": [
    "OnePiece.io.table.read(joinpath(da, \"titanic.tsv\"))"
   ]
  },
  {
   "cell_type": "code",
   "execution_count": null,
   "id": "53b674e5",
   "metadata": {
    "execution": {
     "iopub.execute_input": "2022-02-08T23:56:55.056135Z",
     "iopub.status.busy": "2022-02-08T23:56:55.055614Z",
     "iopub.status.idle": "2022-02-08T23:56:55.490032Z",
     "shell.execute_reply": "2022-02-08T23:56:55.489578Z"
    }
   },
   "outputs": [],
   "source": [
    "OnePiece.io.table.read(joinpath(da, \"enst_gene.tsv.gz\"))"
   ]
  },
  {
   "cell_type": "code",
   "execution_count": null,
   "id": "e58868be",
   "metadata": {
    "execution": {
     "iopub.execute_input": "2022-02-08T23:56:55.492005Z",
     "iopub.status.busy": "2022-02-08T23:56:55.491448Z",
     "iopub.status.idle": "2022-02-08T23:56:56.086930Z",
     "shell.execute_reply": "2022-02-08T23:56:56.086547Z"
    }
   },
   "outputs": [],
   "source": [
    "OnePiece.io.table.read(joinpath(da, \"12859_2019_2886_MOESM2_ESM.xlsx\"); xl = \"HumanSpecific Genes\")"
   ]
  },
  {
   "cell_type": "markdown",
   "id": "e4b8ebb8",
   "metadata": {},
   "source": [
    "## write"
   ]
  },
  {
   "cell_type": "code",
   "execution_count": null,
   "id": "ff1ddff1",
   "metadata": {
    "execution": {
     "iopub.execute_input": "2022-02-08T23:56:56.088823Z",
     "iopub.status.busy": "2022-02-08T23:56:56.088321Z",
     "iopub.status.idle": "2022-02-08T23:56:56.443186Z",
     "shell.execute_reply": "2022-02-08T23:56:56.442587Z"
    }
   },
   "outputs": [],
   "source": [
    "co1 = 1:4\n",
    "\n",
    "co2 = 1.0:4\n",
    "\n",
    "da = DataFrame(\n",
    "    \"Column 1\" => co1,\n",
    "    \"Column 2\" => co2,\n",
    "    \"Column 3\" => string.(co1),\n",
    "    \"Column 4\" => string.(co2),\n",
    ")\n",
    "\n",
    "ts = joinpath(tempdir(), \"write.csv\")\n",
    "\n",
    ";"
   ]
  },
  {
   "cell_type": "code",
   "execution_count": null,
   "id": "2352d3f2",
   "metadata": {
    "execution": {
     "iopub.execute_input": "2022-02-08T23:56:56.445168Z",
     "iopub.status.busy": "2022-02-08T23:56:56.444464Z",
     "iopub.status.idle": "2022-02-08T23:56:57.307682Z",
     "shell.execute_reply": "2022-02-08T23:56:57.307236Z"
    }
   },
   "outputs": [],
   "source": [
    "try\n",
    "\n",
    "    OnePiece.io.table.write(ts, da)\n",
    "\n",
    "catch er\n",
    "\n",
    "    er\n",
    "\n",
    "end"
   ]
  },
  {
   "cell_type": "code",
   "execution_count": null,
   "id": "59b5598a",
   "metadata": {
    "execution": {
     "iopub.execute_input": "2022-02-08T23:56:57.309512Z",
     "iopub.status.busy": "2022-02-08T23:56:57.309009Z",
     "iopub.status.idle": "2022-02-08T23:56:57.325585Z",
     "shell.execute_reply": "2022-02-08T23:56:57.325067Z"
    }
   },
   "outputs": [],
   "source": [
    "OnePiece.io.table.write(replace(ts, \".csv\" => \".tsv\"), da)"
   ]
  }
 ],
 "metadata": {
  "@webio": {
   "lastCommId": "66af5eb15d6f47f79a6d81e87ac7b017",
   "lastKernelId": "6d333ff8-983e-424f-97e2-e83a98c8caf7"
  },
  "kernelspec": {
   "display_name": "Julia 1.7.1",
   "language": "julia",
   "name": "julia-1.7"
  },
  "language_info": {
   "file_extension": ".jl",
   "mimetype": "application/julia",
   "name": "julia",
   "version": "1.7.2"
  }
 },
 "nbformat": 4,
 "nbformat_minor": 5
}
