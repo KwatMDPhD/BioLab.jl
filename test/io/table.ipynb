{
 "cells": [
  {
   "cell_type": "code",
   "execution_count": null,
   "id": "017464da",
   "metadata": {
    "execution": {
     "iopub.execute_input": "2022-02-14T02:50:01.416017Z",
     "iopub.status.busy": "2022-02-14T02:50:00.978878Z",
     "iopub.status.idle": "2022-02-14T02:50:01.653457Z",
     "shell.execute_reply": "2022-02-14T02:50:01.652737Z"
    }
   },
   "outputs": [],
   "source": [
    "TE = joinpath(tempdir(), \"OnePiece.test\")\n",
    "\n",
    "if isdir(TE)\n",
    "\n",
    "    rm(TE, recursive = true)\n",
    "\n",
    "    println(\"Removed \", TE, \".\")\n",
    "\n",
    "end\n",
    "\n",
    "mkdir(TE)\n",
    "\n",
    "println(\"Made \", TE, \".\")"
   ]
  },
  {
   "cell_type": "code",
   "execution_count": null,
   "id": "34e4701e",
   "metadata": {
    "execution": {
     "iopub.execute_input": "2022-02-14T02:50:01.655545Z",
     "iopub.status.busy": "2022-02-14T02:50:01.654911Z",
     "iopub.status.idle": "2022-02-14T02:50:12.420645Z",
     "shell.execute_reply": "2022-02-14T02:50:12.420157Z"
    }
   },
   "outputs": [],
   "source": [
    "using OnePiece"
   ]
  },
  {
   "cell_type": "markdown",
   "id": "b92a3da9",
   "metadata": {},
   "source": [
    "---"
   ]
  },
  {
   "cell_type": "code",
   "execution_count": null,
   "id": "2b31cd2e",
   "metadata": {
    "execution": {
     "iopub.execute_input": "2022-02-14T02:50:12.811106Z",
     "iopub.status.busy": "2022-02-14T02:50:12.422064Z",
     "iopub.status.idle": "2022-02-14T02:50:12.872212Z",
     "shell.execute_reply": "2022-02-14T02:50:12.871664Z"
    }
   },
   "outputs": [],
   "source": [
    "da = joinpath(@__DIR__, \"table.data\")\n",
    "\n",
    ";"
   ]
  },
  {
   "cell_type": "markdown",
   "id": "0c198306",
   "metadata": {},
   "source": [
    "## read"
   ]
  },
  {
   "cell_type": "code",
   "execution_count": null,
   "id": "e789c6a5",
   "metadata": {
    "execution": {
     "iopub.execute_input": "2022-02-14T02:50:12.874354Z",
     "iopub.status.busy": "2022-02-14T02:50:12.873677Z",
     "iopub.status.idle": "2022-02-14T02:50:41.106281Z",
     "shell.execute_reply": "2022-02-14T02:50:41.105797Z"
    }
   },
   "outputs": [],
   "source": [
    "OnePiece.io.table.read(joinpath(da, \"titanic.tsv\"))"
   ]
  },
  {
   "cell_type": "code",
   "execution_count": null,
   "id": "53b674e5",
   "metadata": {
    "execution": {
     "iopub.execute_input": "2022-02-14T02:50:41.108300Z",
     "iopub.status.busy": "2022-02-14T02:50:41.107679Z",
     "iopub.status.idle": "2022-02-14T02:50:41.669447Z",
     "shell.execute_reply": "2022-02-14T02:50:41.668950Z"
    }
   },
   "outputs": [],
   "source": [
    "OnePiece.io.table.read(joinpath(da, \"enst_gene.tsv.gz\"))"
   ]
  },
  {
   "cell_type": "code",
   "execution_count": null,
   "id": "e58868be",
   "metadata": {
    "execution": {
     "iopub.execute_input": "2022-02-14T02:50:41.671508Z",
     "iopub.status.busy": "2022-02-14T02:50:41.670804Z",
     "iopub.status.idle": "2022-02-14T02:50:42.228808Z",
     "shell.execute_reply": "2022-02-14T02:50:42.228327Z"
    }
   },
   "outputs": [],
   "source": [
    "OnePiece.io.table.read(joinpath(da, \"12859_2019_2886_MOESM2_ESM.xlsx\"); xl = \"HumanSpecific Genes\")"
   ]
  },
  {
   "cell_type": "markdown",
   "id": "e4b8ebb8",
   "metadata": {},
   "source": [
    "## write"
   ]
  },
  {
   "cell_type": "code",
   "execution_count": null,
   "id": "65b70b5d",
   "metadata": {
    "execution": {
     "iopub.execute_input": "2022-02-14T02:50:42.231219Z",
     "iopub.status.busy": "2022-02-14T02:50:42.230312Z",
     "iopub.status.idle": "2022-02-14T02:50:42.232328Z",
     "shell.execute_reply": "2022-02-14T02:50:42.231774Z"
    }
   },
   "outputs": [],
   "source": [
    "using DataFrames"
   ]
  },
  {
   "cell_type": "code",
   "execution_count": null,
   "id": "ff1ddff1",
   "metadata": {
    "execution": {
     "iopub.execute_input": "2022-02-14T02:50:42.234403Z",
     "iopub.status.busy": "2022-02-14T02:50:42.233789Z",
     "iopub.status.idle": "2022-02-14T02:50:42.637627Z",
     "shell.execute_reply": "2022-02-14T02:50:42.637156Z"
    }
   },
   "outputs": [],
   "source": [
    "co1 = 1:4\n",
    "\n",
    "co2 = 1.0:4\n",
    "\n",
    "da = DataFrame(\n",
    "    \"Column 1\" => co1,\n",
    "    \"Column 2\" => co2,\n",
    "    \"Column 3\" => string.(co1),\n",
    "    \"Column 4\" => string.(co2),\n",
    ")\n",
    "\n",
    "ts = joinpath(tempdir(), \"write.csv\")\n",
    "\n",
    ";"
   ]
  },
  {
   "cell_type": "code",
   "execution_count": null,
   "id": "2352d3f2",
   "metadata": {
    "execution": {
     "iopub.execute_input": "2022-02-14T02:50:42.639624Z",
     "iopub.status.busy": "2022-02-14T02:50:42.639009Z",
     "iopub.status.idle": "2022-02-14T02:50:43.637322Z",
     "shell.execute_reply": "2022-02-14T02:50:43.636757Z"
    }
   },
   "outputs": [],
   "source": [
    "try\n",
    "\n",
    "    OnePiece.io.table.write(ts, da)\n",
    "\n",
    "catch er\n",
    "\n",
    "    er\n",
    "\n",
    "end"
   ]
  },
  {
   "cell_type": "code",
   "execution_count": null,
   "id": "59b5598a",
   "metadata": {
    "execution": {
     "iopub.execute_input": "2022-02-14T02:50:43.639342Z",
     "iopub.status.busy": "2022-02-14T02:50:43.638729Z",
     "iopub.status.idle": "2022-02-14T02:50:43.644289Z",
     "shell.execute_reply": "2022-02-14T02:50:43.643670Z"
    }
   },
   "outputs": [],
   "source": [
    "OnePiece.io.table.write(replace(ts, \".csv\" => \".tsv\"), da)"
   ]
  },
  {
   "cell_type": "markdown",
   "id": "3f396855",
   "metadata": {},
   "source": [
    "---"
   ]
  },
  {
   "cell_type": "code",
   "execution_count": null,
   "id": "b4af2023",
   "metadata": {
    "execution": {
     "iopub.execute_input": "2022-02-14T02:50:43.646697Z",
     "iopub.status.busy": "2022-02-14T02:50:43.645950Z",
     "iopub.status.idle": "2022-02-14T02:50:43.649014Z",
     "shell.execute_reply": "2022-02-14T02:50:43.648503Z"
    }
   },
   "outputs": [],
   "source": [
    "if isdir(TE)\n",
    "\n",
    "    rm(TE, recursive = true)\n",
    "\n",
    "    println(\"Removed \", TE, \".\")\n",
    "\n",
    "end"
   ]
  }
 ],
 "metadata": {
  "kernelspec": {
   "display_name": "Julia 1.7.2",
   "language": "julia",
   "name": "julia-1.7"
  },
  "language_info": {
   "file_extension": ".jl",
   "mimetype": "application/julia",
   "name": "julia",
   "version": "1.7.2"
  }
 },
 "nbformat": 4,
 "nbformat_minor": 5
}
