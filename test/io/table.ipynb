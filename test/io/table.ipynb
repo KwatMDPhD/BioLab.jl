{
 "cells": [
  {
   "cell_type": "code",
   "execution_count": null,
   "id": "34e4701e",
   "metadata": {
    "execution": {
     "iopub.execute_input": "2022-02-08T17:27:01.930004Z",
     "iopub.status.busy": "2022-02-08T17:27:01.523218Z",
     "iopub.status.idle": "2022-02-08T17:27:02.786759Z",
     "shell.execute_reply": "2022-02-08T17:27:02.786085Z"
    }
   },
   "outputs": [],
   "source": [
    "using Revise\n",
    "using BenchmarkTools"
   ]
  },
  {
   "cell_type": "code",
   "execution_count": null,
   "id": "7a444e5c",
   "metadata": {
    "execution": {
     "iopub.execute_input": "2022-02-08T17:27:02.789008Z",
     "iopub.status.busy": "2022-02-08T17:27:02.788404Z",
     "iopub.status.idle": "2022-02-08T17:27:14.806649Z",
     "shell.execute_reply": "2022-02-08T17:27:14.805976Z"
    }
   },
   "outputs": [],
   "source": [
    "using DataFrames\n",
    "\n",
    "using OnePiece"
   ]
  },
  {
   "cell_type": "code",
   "execution_count": null,
   "id": "2b31cd2e",
   "metadata": {
    "execution": {
     "iopub.execute_input": "2022-02-08T17:27:16.702802Z",
     "iopub.status.busy": "2022-02-08T17:27:14.808046Z",
     "iopub.status.idle": "2022-02-08T17:27:17.405495Z",
     "shell.execute_reply": "2022-02-08T17:27:17.405074Z"
    }
   },
   "outputs": [],
   "source": [
    "da = joinpath(@__DIR__, \"table.data\")\n",
    "\n",
    ";"
   ]
  },
  {
   "cell_type": "markdown",
   "id": "0c198306",
   "metadata": {},
   "source": [
    "## read"
   ]
  },
  {
   "cell_type": "code",
   "execution_count": null,
   "id": "e789c6a5",
   "metadata": {
    "execution": {
     "iopub.execute_input": "2022-02-08T17:27:17.407642Z",
     "iopub.status.busy": "2022-02-08T17:27:17.406998Z",
     "iopub.status.idle": "2022-02-08T17:27:44.495639Z",
     "shell.execute_reply": "2022-02-08T17:27:44.495115Z"
    }
   },
   "outputs": [],
   "source": [
    "OnePiece.io.table.read(joinpath(da, \"titanic.tsv\"))"
   ]
  },
  {
   "cell_type": "code",
   "execution_count": null,
   "id": "53b674e5",
   "metadata": {
    "execution": {
     "iopub.execute_input": "2022-02-08T17:27:44.497557Z",
     "iopub.status.busy": "2022-02-08T17:27:44.496981Z",
     "iopub.status.idle": "2022-02-08T17:27:47.880149Z",
     "shell.execute_reply": "2022-02-08T17:27:47.879747Z"
    }
   },
   "outputs": [],
   "source": [
    "OnePiece.io.table.read(joinpath(da, \"enst_gene.tsv.gz\"))"
   ]
  },
  {
   "cell_type": "code",
   "execution_count": null,
   "id": "e58868be",
   "metadata": {
    "execution": {
     "iopub.execute_input": "2022-02-08T17:27:47.882120Z",
     "iopub.status.busy": "2022-02-08T17:27:47.881621Z",
     "iopub.status.idle": "2022-02-08T17:27:48.481863Z",
     "shell.execute_reply": "2022-02-08T17:27:48.481485Z"
    }
   },
   "outputs": [],
   "source": [
    "OnePiece.io.table.read(joinpath(da, \"12859_2019_2886_MOESM2_ESM.xlsx\"); xl = \"HumanSpecific Genes\")"
   ]
  },
  {
   "cell_type": "markdown",
   "id": "e4b8ebb8",
   "metadata": {},
   "source": [
    "## write"
   ]
  },
  {
   "cell_type": "code",
   "execution_count": null,
   "id": "ff1ddff1",
   "metadata": {
    "execution": {
     "iopub.execute_input": "2022-02-08T17:27:48.483758Z",
     "iopub.status.busy": "2022-02-08T17:27:48.483196Z",
     "iopub.status.idle": "2022-02-08T17:27:48.822254Z",
     "shell.execute_reply": "2022-02-08T17:27:48.821811Z"
    }
   },
   "outputs": [],
   "source": [
    "co1 = 1:4\n",
    "\n",
    "co2 = 1.0:4\n",
    "\n",
    "da = DataFrame(\n",
    "    \"Column 1\" => co1,\n",
    "    \"Column 2\" => co2,\n",
    "    \"Column 3\" => string.(co1),\n",
    "    \"Column 4\" => string.(co2),\n",
    ")\n",
    "\n",
    "ts = joinpath(tempdir(), \"write.csv\")\n",
    "\n",
    ";"
   ]
  },
  {
   "cell_type": "code",
   "execution_count": null,
   "id": "2352d3f2",
   "metadata": {
    "execution": {
     "iopub.execute_input": "2022-02-08T17:27:48.824114Z",
     "iopub.status.busy": "2022-02-08T17:27:48.823611Z",
     "iopub.status.idle": "2022-02-08T17:27:49.653644Z",
     "shell.execute_reply": "2022-02-08T17:27:49.653068Z"
    }
   },
   "outputs": [],
   "source": [
    "try\n",
    "\n",
    "    OnePiece.io.table.write(ts, da)\n",
    "\n",
    "catch er\n",
    "\n",
    "    er\n",
    "\n",
    "end"
   ]
  },
  {
   "cell_type": "code",
   "execution_count": null,
   "id": "59b5598a",
   "metadata": {
    "execution": {
     "iopub.execute_input": "2022-02-08T17:27:49.655412Z",
     "iopub.status.busy": "2022-02-08T17:27:49.654861Z",
     "iopub.status.idle": "2022-02-08T17:27:49.672485Z",
     "shell.execute_reply": "2022-02-08T17:27:49.671662Z"
    }
   },
   "outputs": [],
   "source": [
    "OnePiece.io.table.write(replace(ts, \".csv\" => \".tsv\"), da)"
   ]
  }
 ],
 "metadata": {
  "@webio": {
   "lastCommId": "66af5eb15d6f47f79a6d81e87ac7b017",
   "lastKernelId": "6d333ff8-983e-424f-97e2-e83a98c8caf7"
  },
  "kernelspec": {
   "display_name": "Julia 1.7.1",
   "language": "julia",
   "name": "julia-1.7"
  },
  "language_info": {
   "file_extension": ".jl",
   "mimetype": "application/julia",
   "name": "julia",
   "version": "1.7.1"
  }
 },
 "nbformat": 4,
 "nbformat_minor": 5
}
