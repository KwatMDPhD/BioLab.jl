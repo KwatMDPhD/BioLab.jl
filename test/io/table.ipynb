{
 "cells": [
  {
   "cell_type": "code",
   "execution_count": null,
   "id": "017464da",
   "metadata": {
    "execution": {
     "iopub.execute_input": "2022-02-13T23:26:54.101600Z",
     "iopub.status.busy": "2022-02-13T23:26:53.760960Z",
     "iopub.status.idle": "2022-02-13T23:26:54.291124Z",
     "shell.execute_reply": "2022-02-13T23:26:54.290490Z"
    }
   },
   "outputs": [],
   "source": [
    "TE = joinpath(tempdir(), \"OnePiece.test\")\n",
    "\n",
    "if isdir(TE)\n",
    "\n",
    "    rm(TE, recursive = true)\n",
    "\n",
    "    println(\"Removed \", TE, \".\")\n",
    "\n",
    "end\n",
    "\n",
    "mkdir(TE)\n",
    "\n",
    "println(\"Made \", TE, \".\")"
   ]
  },
  {
   "cell_type": "code",
   "execution_count": null,
   "id": "34e4701e",
   "metadata": {
    "execution": {
     "iopub.execute_input": "2022-02-13T23:26:54.293004Z",
     "iopub.status.busy": "2022-02-13T23:26:54.292495Z",
     "iopub.status.idle": "2022-02-13T23:27:03.085979Z",
     "shell.execute_reply": "2022-02-13T23:27:03.085297Z"
    }
   },
   "outputs": [],
   "source": [
    "using OnePiece"
   ]
  },
  {
   "cell_type": "markdown",
   "id": "b92a3da9",
   "metadata": {},
   "source": [
    "---"
   ]
  },
  {
   "cell_type": "code",
   "execution_count": null,
   "id": "2b31cd2e",
   "metadata": {
    "execution": {
     "iopub.execute_input": "2022-02-13T23:27:03.444198Z",
     "iopub.status.busy": "2022-02-13T23:27:03.087721Z",
     "iopub.status.idle": "2022-02-13T23:27:03.497108Z",
     "shell.execute_reply": "2022-02-13T23:27:03.496667Z"
    }
   },
   "outputs": [],
   "source": [
    "da = joinpath(@__DIR__, \"table.data\")\n",
    "\n",
    ";"
   ]
  },
  {
   "cell_type": "markdown",
   "id": "0c198306",
   "metadata": {},
   "source": [
    "## read"
   ]
  },
  {
   "cell_type": "code",
   "execution_count": null,
   "id": "e789c6a5",
   "metadata": {
    "execution": {
     "iopub.execute_input": "2022-02-13T23:27:03.499076Z",
     "iopub.status.busy": "2022-02-13T23:27:03.498574Z",
     "iopub.status.idle": "2022-02-13T23:27:28.373666Z",
     "shell.execute_reply": "2022-02-13T23:27:28.372140Z"
    }
   },
   "outputs": [],
   "source": [
    "OnePiece.io.table.read(joinpath(da, \"titanic.tsv\"))"
   ]
  },
  {
   "cell_type": "code",
   "execution_count": null,
   "id": "53b674e5",
   "metadata": {
    "execution": {
     "iopub.execute_input": "2022-02-13T23:27:28.375723Z",
     "iopub.status.busy": "2022-02-13T23:27:28.375107Z",
     "iopub.status.idle": "2022-02-13T23:27:28.917809Z",
     "shell.execute_reply": "2022-02-13T23:27:28.917406Z"
    }
   },
   "outputs": [],
   "source": [
    "OnePiece.io.table.read(joinpath(da, \"enst_gene.tsv.gz\"))"
   ]
  },
  {
   "cell_type": "code",
   "execution_count": null,
   "id": "e58868be",
   "metadata": {
    "execution": {
     "iopub.execute_input": "2022-02-13T23:27:28.920296Z",
     "iopub.status.busy": "2022-02-13T23:27:28.919303Z",
     "iopub.status.idle": "2022-02-13T23:27:29.501511Z",
     "shell.execute_reply": "2022-02-13T23:27:29.500937Z"
    }
   },
   "outputs": [],
   "source": [
    "OnePiece.io.table.read(joinpath(da, \"12859_2019_2886_MOESM2_ESM.xlsx\"); xl = \"HumanSpecific Genes\")"
   ]
  },
  {
   "cell_type": "markdown",
   "id": "e4b8ebb8",
   "metadata": {},
   "source": [
    "## write"
   ]
  },
  {
   "cell_type": "code",
   "execution_count": null,
   "id": "65b70b5d",
   "metadata": {
    "execution": {
     "iopub.execute_input": "2022-02-13T23:27:29.504567Z",
     "iopub.status.busy": "2022-02-13T23:27:29.503817Z",
     "iopub.status.idle": "2022-02-13T23:27:29.505447Z",
     "shell.execute_reply": "2022-02-13T23:27:29.505066Z"
    }
   },
   "outputs": [],
   "source": [
    "using DataFrames"
   ]
  },
  {
   "cell_type": "code",
   "execution_count": null,
   "id": "ff1ddff1",
   "metadata": {
    "execution": {
     "iopub.execute_input": "2022-02-13T23:27:29.507340Z",
     "iopub.status.busy": "2022-02-13T23:27:29.506838Z",
     "iopub.status.idle": "2022-02-13T23:27:29.939742Z",
     "shell.execute_reply": "2022-02-13T23:27:29.939131Z"
    }
   },
   "outputs": [],
   "source": [
    "co1 = 1:4\n",
    "\n",
    "co2 = 1.0:4\n",
    "\n",
    "da = DataFrame(\n",
    "    \"Column 1\" => co1,\n",
    "    \"Column 2\" => co2,\n",
    "    \"Column 3\" => string.(co1),\n",
    "    \"Column 4\" => string.(co2),\n",
    ")\n",
    "\n",
    "ts = joinpath(tempdir(), \"write.csv\")\n",
    "\n",
    ";"
   ]
  },
  {
   "cell_type": "code",
   "execution_count": null,
   "id": "2352d3f2",
   "metadata": {
    "execution": {
     "iopub.execute_input": "2022-02-13T23:27:29.941772Z",
     "iopub.status.busy": "2022-02-13T23:27:29.941170Z",
     "iopub.status.idle": "2022-02-13T23:27:30.949455Z",
     "shell.execute_reply": "2022-02-13T23:27:30.948767Z"
    }
   },
   "outputs": [],
   "source": [
    "try\n",
    "\n",
    "    OnePiece.io.table.write(ts, da)\n",
    "\n",
    "catch er\n",
    "\n",
    "    er\n",
    "\n",
    "end"
   ]
  },
  {
   "cell_type": "code",
   "execution_count": null,
   "id": "59b5598a",
   "metadata": {
    "execution": {
     "iopub.execute_input": "2022-02-13T23:27:30.951605Z",
     "iopub.status.busy": "2022-02-13T23:27:30.950895Z",
     "iopub.status.idle": "2022-02-13T23:27:30.957171Z",
     "shell.execute_reply": "2022-02-13T23:27:30.956538Z"
    }
   },
   "outputs": [],
   "source": [
    "OnePiece.io.table.write(replace(ts, \".csv\" => \".tsv\"), da)"
   ]
  },
  {
   "cell_type": "markdown",
   "id": "3f396855",
   "metadata": {},
   "source": [
    "---"
   ]
  },
  {
   "cell_type": "code",
   "execution_count": null,
   "id": "b4af2023",
   "metadata": {
    "execution": {
     "iopub.execute_input": "2022-02-13T23:27:30.959576Z",
     "iopub.status.busy": "2022-02-13T23:27:30.958802Z",
     "iopub.status.idle": "2022-02-13T23:27:30.961622Z",
     "shell.execute_reply": "2022-02-13T23:27:30.961139Z"
    }
   },
   "outputs": [],
   "source": [
    "if isdir(TE)\n",
    "\n",
    "    rm(TE, recursive = true)\n",
    "\n",
    "    println(\"Removed \", TE, \".\")\n",
    "\n",
    "end"
   ]
  }
 ],
 "metadata": {
  "kernelspec": {
   "display_name": "Julia 1.7.2",
   "language": "julia",
   "name": "julia-1.7"
  },
  "language_info": {
   "file_extension": ".jl",
   "mimetype": "application/julia",
   "name": "julia",
   "version": "1.7.2"
  }
 },
 "nbformat": 4,
 "nbformat_minor": 5
}
