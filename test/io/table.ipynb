{
 "cells": [
  {
   "cell_type": "code",
   "execution_count": null,
   "id": "34e4701e",
   "metadata": {
    "execution": {
     "iopub.execute_input": "2022-02-09T05:26:34.286365Z",
     "iopub.status.busy": "2022-02-09T05:26:33.862084Z",
     "iopub.status.idle": "2022-02-09T05:26:35.334254Z",
     "shell.execute_reply": "2022-02-09T05:26:35.333515Z"
    }
   },
   "outputs": [],
   "source": [
    "using Revise\n",
    "using BenchmarkTools"
   ]
  },
  {
   "cell_type": "code",
   "execution_count": null,
   "id": "7a444e5c",
   "metadata": {
    "execution": {
     "iopub.execute_input": "2022-02-09T05:26:35.336215Z",
     "iopub.status.busy": "2022-02-09T05:26:35.335614Z",
     "iopub.status.idle": "2022-02-09T05:26:46.236228Z",
     "shell.execute_reply": "2022-02-09T05:26:46.235573Z"
    }
   },
   "outputs": [],
   "source": [
    "using DataFrames\n",
    "\n",
    "using OnePiece"
   ]
  },
  {
   "cell_type": "code",
   "execution_count": null,
   "id": "2b31cd2e",
   "metadata": {
    "execution": {
     "iopub.execute_input": "2022-02-09T05:26:47.944524Z",
     "iopub.status.busy": "2022-02-09T05:26:46.237709Z",
     "iopub.status.idle": "2022-02-09T05:26:48.570162Z",
     "shell.execute_reply": "2022-02-09T05:26:48.569645Z"
    }
   },
   "outputs": [],
   "source": [
    "da = joinpath(@__DIR__, \"table.data\")\n",
    "\n",
    ";"
   ]
  },
  {
   "cell_type": "markdown",
   "id": "0c198306",
   "metadata": {},
   "source": [
    "## read"
   ]
  },
  {
   "cell_type": "code",
   "execution_count": null,
   "id": "e789c6a5",
   "metadata": {
    "execution": {
     "iopub.execute_input": "2022-02-09T05:26:48.572237Z",
     "iopub.status.busy": "2022-02-09T05:26:48.571526Z",
     "iopub.status.idle": "2022-02-09T05:27:17.844007Z",
     "shell.execute_reply": "2022-02-09T05:27:17.843572Z"
    }
   },
   "outputs": [],
   "source": [
    "OnePiece.io.table.read(joinpath(da, \"titanic.tsv\"))"
   ]
  },
  {
   "cell_type": "code",
   "execution_count": null,
   "id": "53b674e5",
   "metadata": {
    "execution": {
     "iopub.execute_input": "2022-02-09T05:27:17.845704Z",
     "iopub.status.busy": "2022-02-09T05:27:17.845210Z",
     "iopub.status.idle": "2022-02-09T05:27:18.373761Z",
     "shell.execute_reply": "2022-02-09T05:27:18.373309Z"
    }
   },
   "outputs": [],
   "source": [
    "OnePiece.io.table.read(joinpath(da, \"enst_gene.tsv.gz\"))"
   ]
  },
  {
   "cell_type": "code",
   "execution_count": null,
   "id": "e58868be",
   "metadata": {
    "execution": {
     "iopub.execute_input": "2022-02-09T05:27:18.375694Z",
     "iopub.status.busy": "2022-02-09T05:27:18.375092Z",
     "iopub.status.idle": "2022-02-09T05:27:18.992301Z",
     "shell.execute_reply": "2022-02-09T05:27:18.991835Z"
    }
   },
   "outputs": [],
   "source": [
    "OnePiece.io.table.read(joinpath(da, \"12859_2019_2886_MOESM2_ESM.xlsx\"); xl = \"HumanSpecific Genes\")"
   ]
  },
  {
   "cell_type": "markdown",
   "id": "e4b8ebb8",
   "metadata": {},
   "source": [
    "## write"
   ]
  },
  {
   "cell_type": "code",
   "execution_count": null,
   "id": "ff1ddff1",
   "metadata": {
    "execution": {
     "iopub.execute_input": "2022-02-09T05:27:18.994317Z",
     "iopub.status.busy": "2022-02-09T05:27:18.993660Z",
     "iopub.status.idle": "2022-02-09T05:27:19.401761Z",
     "shell.execute_reply": "2022-02-09T05:27:19.401296Z"
    }
   },
   "outputs": [],
   "source": [
    "co1 = 1:4\n",
    "\n",
    "co2 = 1.0:4\n",
    "\n",
    "da = DataFrame(\n",
    "    \"Column 1\" => co1,\n",
    "    \"Column 2\" => co2,\n",
    "    \"Column 3\" => string.(co1),\n",
    "    \"Column 4\" => string.(co2),\n",
    ")\n",
    "\n",
    "ts = joinpath(tempdir(), \"write.csv\")\n",
    "\n",
    ";"
   ]
  },
  {
   "cell_type": "code",
   "execution_count": null,
   "id": "2352d3f2",
   "metadata": {
    "execution": {
     "iopub.execute_input": "2022-02-09T05:27:19.403407Z",
     "iopub.status.busy": "2022-02-09T05:27:19.402891Z",
     "iopub.status.idle": "2022-02-09T05:27:20.363066Z",
     "shell.execute_reply": "2022-02-09T05:27:20.362620Z"
    }
   },
   "outputs": [],
   "source": [
    "try\n",
    "\n",
    "    OnePiece.io.table.write(ts, da)\n",
    "\n",
    "catch er\n",
    "\n",
    "    er\n",
    "\n",
    "end"
   ]
  },
  {
   "cell_type": "code",
   "execution_count": null,
   "id": "59b5598a",
   "metadata": {
    "execution": {
     "iopub.execute_input": "2022-02-09T05:27:20.365037Z",
     "iopub.status.busy": "2022-02-09T05:27:20.364377Z",
     "iopub.status.idle": "2022-02-09T05:27:20.380897Z",
     "shell.execute_reply": "2022-02-09T05:27:20.380383Z"
    }
   },
   "outputs": [],
   "source": [
    "OnePiece.io.table.write(replace(ts, \".csv\" => \".tsv\"), da)"
   ]
  }
 ],
 "metadata": {
  "@webio": {
   "lastCommId": "66af5eb15d6f47f79a6d81e87ac7b017",
   "lastKernelId": "6d333ff8-983e-424f-97e2-e83a98c8caf7"
  },
  "kernelspec": {
   "display_name": "Julia 1.7.1",
   "language": "julia",
   "name": "julia-1.7"
  },
  "language_info": {
   "file_extension": ".jl",
   "mimetype": "application/julia",
   "name": "julia",
   "version": "1.7.2"
  }
 },
 "nbformat": 4,
 "nbformat_minor": 5
}
