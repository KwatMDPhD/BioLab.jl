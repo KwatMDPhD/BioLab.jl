{
 "cells": [
  {
   "cell_type": "code",
   "execution_count": null,
   "id": "017464da",
   "metadata": {
    "execution": {
     "iopub.execute_input": "2022-02-14T16:09:45.615641Z",
     "iopub.status.busy": "2022-02-14T16:09:45.267213Z",
     "iopub.status.idle": "2022-02-14T16:09:45.814712Z",
     "shell.execute_reply": "2022-02-14T16:09:45.814181Z"
    }
   },
   "outputs": [],
   "source": [
    "TE = joinpath(tempdir(), \"OnePiece.test\")\n",
    "\n",
    "if isdir(TE)\n",
    "\n",
    "    rm(TE, recursive = true)\n",
    "\n",
    "    println(\"Removed \", TE, \".\")\n",
    "\n",
    "end\n",
    "\n",
    "mkdir(TE)\n",
    "\n",
    "println(\"Made \", TE, \".\")"
   ]
  },
  {
   "cell_type": "code",
   "execution_count": null,
   "id": "34e4701e",
   "metadata": {
    "execution": {
     "iopub.execute_input": "2022-02-14T16:09:45.816937Z",
     "iopub.status.busy": "2022-02-14T16:09:45.816324Z",
     "iopub.status.idle": "2022-02-14T16:09:55.018711Z",
     "shell.execute_reply": "2022-02-14T16:09:55.018312Z"
    }
   },
   "outputs": [],
   "source": [
    "using OnePiece"
   ]
  },
  {
   "cell_type": "markdown",
   "id": "b92a3da9",
   "metadata": {},
   "source": [
    "---"
   ]
  },
  {
   "cell_type": "code",
   "execution_count": null,
   "id": "2b31cd2e",
   "metadata": {
    "execution": {
     "iopub.execute_input": "2022-02-14T16:09:55.362325Z",
     "iopub.status.busy": "2022-02-14T16:09:55.020083Z",
     "iopub.status.idle": "2022-02-14T16:09:55.413063Z",
     "shell.execute_reply": "2022-02-14T16:09:55.412591Z"
    }
   },
   "outputs": [],
   "source": [
    "da = joinpath(@__DIR__, \"table.data\")\n",
    "\n",
    ";"
   ]
  },
  {
   "cell_type": "markdown",
   "id": "0c198306",
   "metadata": {},
   "source": [
    "## read"
   ]
  },
  {
   "cell_type": "code",
   "execution_count": null,
   "id": "e789c6a5",
   "metadata": {
    "execution": {
     "iopub.execute_input": "2022-02-14T16:09:55.414917Z",
     "iopub.status.busy": "2022-02-14T16:09:55.414423Z",
     "iopub.status.idle": "2022-02-14T16:10:20.219531Z",
     "shell.execute_reply": "2022-02-14T16:10:20.217861Z"
    }
   },
   "outputs": [],
   "source": [
    "OnePiece.io.table.read(joinpath(da, \"titanic.tsv\"))"
   ]
  },
  {
   "cell_type": "code",
   "execution_count": null,
   "id": "53b674e5",
   "metadata": {
    "execution": {
     "iopub.execute_input": "2022-02-14T16:10:20.221476Z",
     "iopub.status.busy": "2022-02-14T16:10:20.220978Z",
     "iopub.status.idle": "2022-02-14T16:10:20.698196Z",
     "shell.execute_reply": "2022-02-14T16:10:20.697692Z"
    }
   },
   "outputs": [],
   "source": [
    "OnePiece.io.table.read(joinpath(da, \"enst_gene.tsv.gz\"))"
   ]
  },
  {
   "cell_type": "code",
   "execution_count": null,
   "id": "e58868be",
   "metadata": {
    "execution": {
     "iopub.execute_input": "2022-02-14T16:10:20.700327Z",
     "iopub.status.busy": "2022-02-14T16:10:20.699827Z",
     "iopub.status.idle": "2022-02-14T16:10:21.209958Z",
     "shell.execute_reply": "2022-02-14T16:10:21.208603Z"
    }
   },
   "outputs": [],
   "source": [
    "OnePiece.io.table.read(joinpath(da, \"12859_2019_2886_MOESM2_ESM.xlsx\"); xl = \"HumanSpecific Genes\")"
   ]
  },
  {
   "cell_type": "markdown",
   "id": "e4b8ebb8",
   "metadata": {},
   "source": [
    "## write"
   ]
  },
  {
   "cell_type": "code",
   "execution_count": null,
   "id": "65b70b5d",
   "metadata": {
    "execution": {
     "iopub.execute_input": "2022-02-14T16:10:21.212563Z",
     "iopub.status.busy": "2022-02-14T16:10:21.211794Z",
     "iopub.status.idle": "2022-02-14T16:10:21.213377Z",
     "shell.execute_reply": "2022-02-14T16:10:21.213006Z"
    }
   },
   "outputs": [],
   "source": [
    "using DataFrames"
   ]
  },
  {
   "cell_type": "code",
   "execution_count": null,
   "id": "ff1ddff1",
   "metadata": {
    "execution": {
     "iopub.execute_input": "2022-02-14T16:10:21.215490Z",
     "iopub.status.busy": "2022-02-14T16:10:21.214915Z",
     "iopub.status.idle": "2022-02-14T16:10:21.546021Z",
     "shell.execute_reply": "2022-02-14T16:10:21.545175Z"
    }
   },
   "outputs": [],
   "source": [
    "co1 = 1:4\n",
    "\n",
    "co2 = 1.0:4\n",
    "\n",
    "da = DataFrame(\n",
    "    \"Column 1\" => co1,\n",
    "    \"Column 2\" => co2,\n",
    "    \"Column 3\" => string.(co1),\n",
    "    \"Column 4\" => string.(co2),\n",
    ")\n",
    "\n",
    "ts = joinpath(tempdir(), \"write.csv\")\n",
    "\n",
    ";"
   ]
  },
  {
   "cell_type": "code",
   "execution_count": null,
   "id": "2352d3f2",
   "metadata": {
    "execution": {
     "iopub.execute_input": "2022-02-14T16:10:21.548278Z",
     "iopub.status.busy": "2022-02-14T16:10:21.547579Z",
     "iopub.status.idle": "2022-02-14T16:10:22.403361Z",
     "shell.execute_reply": "2022-02-14T16:10:22.402911Z"
    }
   },
   "outputs": [],
   "source": [
    "try\n",
    "\n",
    "    OnePiece.io.table.write(ts, da)\n",
    "\n",
    "catch er\n",
    "\n",
    "    er\n",
    "\n",
    "end"
   ]
  },
  {
   "cell_type": "code",
   "execution_count": null,
   "id": "59b5598a",
   "metadata": {
    "execution": {
     "iopub.execute_input": "2022-02-14T16:10:22.405192Z",
     "iopub.status.busy": "2022-02-14T16:10:22.404686Z",
     "iopub.status.idle": "2022-02-14T16:10:22.409848Z",
     "shell.execute_reply": "2022-02-14T16:10:22.409049Z"
    }
   },
   "outputs": [],
   "source": [
    "OnePiece.io.table.write(replace(ts, \".csv\" => \".tsv\"), da)"
   ]
  },
  {
   "cell_type": "markdown",
   "id": "3f396855",
   "metadata": {},
   "source": [
    "---"
   ]
  },
  {
   "cell_type": "code",
   "execution_count": null,
   "id": "b4af2023",
   "metadata": {
    "execution": {
     "iopub.execute_input": "2022-02-14T16:10:22.411950Z",
     "iopub.status.busy": "2022-02-14T16:10:22.411256Z",
     "iopub.status.idle": "2022-02-14T16:10:22.413877Z",
     "shell.execute_reply": "2022-02-14T16:10:22.413481Z"
    }
   },
   "outputs": [],
   "source": [
    "if isdir(TE)\n",
    "\n",
    "    rm(TE, recursive = true)\n",
    "\n",
    "    println(\"Removed \", TE, \".\")\n",
    "\n",
    "end"
   ]
  }
 ],
 "metadata": {
  "kernelspec": {
   "display_name": "Julia 1.7.2",
   "language": "julia",
   "name": "julia-1.7"
  },
  "language_info": {
   "file_extension": ".jl",
   "mimetype": "application/julia",
   "name": "julia",
   "version": "1.7.2"
  }
 },
 "nbformat": 4,
 "nbformat_minor": 5
}
