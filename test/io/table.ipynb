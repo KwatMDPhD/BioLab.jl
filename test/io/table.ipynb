{
 "cells": [
  {
   "cell_type": "code",
   "execution_count": null,
   "id": "017464da",
   "metadata": {
    "execution": {
     "iopub.execute_input": "2022-02-13T22:20:19.023485Z",
     "iopub.status.busy": "2022-02-13T22:20:18.648004Z",
     "iopub.status.idle": "2022-02-13T22:20:19.226343Z",
     "shell.execute_reply": "2022-02-13T22:20:19.225836Z"
    }
   },
   "outputs": [],
   "source": [
    "TE = joinpath(tempdir(), \"OnePiece.test\")\n",
    "\n",
    "if isdir(TE)\n",
    "\n",
    "    rm(TE, recursive = true)\n",
    "\n",
    "    println(\"Removed \", TE, \".\")\n",
    "\n",
    "end\n",
    "\n",
    "mkdir(TE)\n",
    "\n",
    "println(\"Made \", TE, \".\")"
   ]
  },
  {
   "cell_type": "code",
   "execution_count": null,
   "id": "34e4701e",
   "metadata": {
    "execution": {
     "iopub.execute_input": "2022-02-13T22:20:19.229078Z",
     "iopub.status.busy": "2022-02-13T22:20:19.228497Z",
     "iopub.status.idle": "2022-02-13T22:20:28.603543Z",
     "shell.execute_reply": "2022-02-13T22:20:28.603148Z"
    }
   },
   "outputs": [],
   "source": [
    "using OnePiece"
   ]
  },
  {
   "cell_type": "markdown",
   "id": "b92a3da9",
   "metadata": {},
   "source": [
    "---"
   ]
  },
  {
   "cell_type": "code",
   "execution_count": null,
   "id": "2b31cd2e",
   "metadata": {
    "execution": {
     "iopub.execute_input": "2022-02-13T22:20:28.985150Z",
     "iopub.status.busy": "2022-02-13T22:20:28.604901Z",
     "iopub.status.idle": "2022-02-13T22:20:29.042072Z",
     "shell.execute_reply": "2022-02-13T22:20:29.041579Z"
    }
   },
   "outputs": [],
   "source": [
    "da = joinpath(@__DIR__, \"table.data\")\n",
    "\n",
    ";"
   ]
  },
  {
   "cell_type": "markdown",
   "id": "0c198306",
   "metadata": {},
   "source": [
    "## read"
   ]
  },
  {
   "cell_type": "code",
   "execution_count": null,
   "id": "e789c6a5",
   "metadata": {
    "execution": {
     "iopub.execute_input": "2022-02-13T22:20:29.044627Z",
     "iopub.status.busy": "2022-02-13T22:20:29.043798Z",
     "iopub.status.idle": "2022-02-13T22:20:53.326669Z",
     "shell.execute_reply": "2022-02-13T22:20:53.325138Z"
    }
   },
   "outputs": [],
   "source": [
    "OnePiece.io.table.read(joinpath(da, \"titanic.tsv\"))"
   ]
  },
  {
   "cell_type": "code",
   "execution_count": null,
   "id": "53b674e5",
   "metadata": {
    "execution": {
     "iopub.execute_input": "2022-02-13T22:20:53.328940Z",
     "iopub.status.busy": "2022-02-13T22:20:53.328430Z",
     "iopub.status.idle": "2022-02-13T22:20:53.809960Z",
     "shell.execute_reply": "2022-02-13T22:20:53.809271Z"
    }
   },
   "outputs": [],
   "source": [
    "OnePiece.io.table.read(joinpath(da, \"enst_gene.tsv.gz\"))"
   ]
  },
  {
   "cell_type": "code",
   "execution_count": null,
   "id": "e58868be",
   "metadata": {
    "execution": {
     "iopub.execute_input": "2022-02-13T22:20:53.812976Z",
     "iopub.status.busy": "2022-02-13T22:20:53.811406Z",
     "iopub.status.idle": "2022-02-13T22:20:54.333128Z",
     "shell.execute_reply": "2022-02-13T22:20:54.332741Z"
    }
   },
   "outputs": [],
   "source": [
    "OnePiece.io.table.read(joinpath(da, \"12859_2019_2886_MOESM2_ESM.xlsx\"); xl = \"HumanSpecific Genes\")"
   ]
  },
  {
   "cell_type": "markdown",
   "id": "e4b8ebb8",
   "metadata": {},
   "source": [
    "## write"
   ]
  },
  {
   "cell_type": "code",
   "execution_count": null,
   "id": "65b70b5d",
   "metadata": {
    "execution": {
     "iopub.execute_input": "2022-02-13T22:20:54.335409Z",
     "iopub.status.busy": "2022-02-13T22:20:54.334706Z",
     "iopub.status.idle": "2022-02-13T22:20:54.336231Z",
     "shell.execute_reply": "2022-02-13T22:20:54.335858Z"
    }
   },
   "outputs": [],
   "source": [
    "using DataFrames"
   ]
  },
  {
   "cell_type": "code",
   "execution_count": null,
   "id": "ff1ddff1",
   "metadata": {
    "execution": {
     "iopub.execute_input": "2022-02-13T22:20:54.338107Z",
     "iopub.status.busy": "2022-02-13T22:20:54.337603Z",
     "iopub.status.idle": "2022-02-13T22:20:54.674996Z",
     "shell.execute_reply": "2022-02-13T22:20:54.674560Z"
    }
   },
   "outputs": [],
   "source": [
    "co1 = 1:4\n",
    "\n",
    "co2 = 1.0:4\n",
    "\n",
    "da = DataFrame(\n",
    "    \"Column 1\" => co1,\n",
    "    \"Column 2\" => co2,\n",
    "    \"Column 3\" => string.(co1),\n",
    "    \"Column 4\" => string.(co2),\n",
    ")\n",
    "\n",
    "ts = joinpath(tempdir(), \"write.csv\")\n",
    "\n",
    ";"
   ]
  },
  {
   "cell_type": "code",
   "execution_count": null,
   "id": "2352d3f2",
   "metadata": {
    "execution": {
     "iopub.execute_input": "2022-02-13T22:20:54.676966Z",
     "iopub.status.busy": "2022-02-13T22:20:54.676465Z",
     "iopub.status.idle": "2022-02-13T22:20:55.541112Z",
     "shell.execute_reply": "2022-02-13T22:20:55.540672Z"
    }
   },
   "outputs": [],
   "source": [
    "try\n",
    "\n",
    "    OnePiece.io.table.write(ts, da)\n",
    "\n",
    "catch er\n",
    "\n",
    "    er\n",
    "\n",
    "end"
   ]
  },
  {
   "cell_type": "code",
   "execution_count": null,
   "id": "59b5598a",
   "metadata": {
    "execution": {
     "iopub.execute_input": "2022-02-13T22:20:55.543326Z",
     "iopub.status.busy": "2022-02-13T22:20:55.542543Z",
     "iopub.status.idle": "2022-02-13T22:20:55.548102Z",
     "shell.execute_reply": "2022-02-13T22:20:55.547664Z"
    }
   },
   "outputs": [],
   "source": [
    "OnePiece.io.table.write(replace(ts, \".csv\" => \".tsv\"), da)"
   ]
  },
  {
   "cell_type": "markdown",
   "id": "3f396855",
   "metadata": {},
   "source": [
    "---"
   ]
  },
  {
   "cell_type": "code",
   "execution_count": null,
   "id": "b4af2023",
   "metadata": {
    "execution": {
     "iopub.execute_input": "2022-02-13T22:20:55.550268Z",
     "iopub.status.busy": "2022-02-13T22:20:55.549545Z",
     "iopub.status.idle": "2022-02-13T22:20:55.552194Z",
     "shell.execute_reply": "2022-02-13T22:20:55.551821Z"
    }
   },
   "outputs": [],
   "source": [
    "if isdir(TE)\n",
    "\n",
    "    rm(TE, recursive = true)\n",
    "\n",
    "    println(\"Removed \", TE, \".\")\n",
    "\n",
    "end"
   ]
  }
 ],
 "metadata": {
  "kernelspec": {
   "display_name": "Julia 1.7.2",
   "language": "julia",
   "name": "julia-1.7"
  },
  "language_info": {
   "file_extension": ".jl",
   "mimetype": "application/julia",
   "name": "julia",
   "version": "1.7.2"
  }
 },
 "nbformat": 4,
 "nbformat_minor": 5
}
