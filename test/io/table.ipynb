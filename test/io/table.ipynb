{
 "cells": [
  {
   "cell_type": "code",
   "execution_count": null,
   "id": "017464da",
   "metadata": {
    "execution": {
     "iopub.execute_input": "2022-02-13T21:46:20.961152Z",
     "iopub.status.busy": "2022-02-13T21:46:20.635228Z",
     "iopub.status.idle": "2022-02-13T21:46:21.141531Z",
     "shell.execute_reply": "2022-02-13T21:46:21.141028Z"
    }
   },
   "outputs": [],
   "source": [
    "TE = joinpath(tempdir(), \"OnePiece.test\")\n",
    "\n",
    "if isdir(TE)\n",
    "\n",
    "    rm(TE, recursive = true)\n",
    "\n",
    "    println(\"Removed \", TE, \".\")\n",
    "\n",
    "end\n",
    "\n",
    "mkdir(TE)\n",
    "\n",
    "println(\"Made \", TE, \".\")"
   ]
  },
  {
   "cell_type": "code",
   "execution_count": null,
   "id": "34e4701e",
   "metadata": {
    "execution": {
     "iopub.execute_input": "2022-02-13T21:46:21.143570Z",
     "iopub.status.busy": "2022-02-13T21:46:21.142947Z",
     "iopub.status.idle": "2022-02-13T21:46:29.504179Z",
     "shell.execute_reply": "2022-02-13T21:46:29.503780Z"
    }
   },
   "outputs": [],
   "source": [
    "using OnePiece"
   ]
  },
  {
   "cell_type": "markdown",
   "id": "b92a3da9",
   "metadata": {},
   "source": [
    "---"
   ]
  },
  {
   "cell_type": "code",
   "execution_count": null,
   "id": "2b31cd2e",
   "metadata": {
    "execution": {
     "iopub.execute_input": "2022-02-13T21:46:29.828870Z",
     "iopub.status.busy": "2022-02-13T21:46:29.505442Z",
     "iopub.status.idle": "2022-02-13T21:46:29.876297Z",
     "shell.execute_reply": "2022-02-13T21:46:29.875848Z"
    }
   },
   "outputs": [],
   "source": [
    "da = joinpath(@__DIR__, \"table.data\")\n",
    "\n",
    ";"
   ]
  },
  {
   "cell_type": "markdown",
   "id": "0c198306",
   "metadata": {},
   "source": [
    "## read"
   ]
  },
  {
   "cell_type": "code",
   "execution_count": null,
   "id": "e789c6a5",
   "metadata": {
    "execution": {
     "iopub.execute_input": "2022-02-13T21:46:29.878215Z",
     "iopub.status.busy": "2022-02-13T21:46:29.877725Z",
     "iopub.status.idle": "2022-02-13T21:46:51.611873Z",
     "shell.execute_reply": "2022-02-13T21:46:51.610367Z"
    }
   },
   "outputs": [],
   "source": [
    "OnePiece.io.table.read(joinpath(da, \"titanic.tsv\"))"
   ]
  },
  {
   "cell_type": "code",
   "execution_count": null,
   "id": "53b674e5",
   "metadata": {
    "execution": {
     "iopub.execute_input": "2022-02-13T21:46:51.613735Z",
     "iopub.status.busy": "2022-02-13T21:46:51.613227Z",
     "iopub.status.idle": "2022-02-13T21:46:52.058060Z",
     "shell.execute_reply": "2022-02-13T21:46:52.057665Z"
    }
   },
   "outputs": [],
   "source": [
    "OnePiece.io.table.read(joinpath(da, \"enst_gene.tsv.gz\"))"
   ]
  },
  {
   "cell_type": "code",
   "execution_count": null,
   "id": "e58868be",
   "metadata": {
    "execution": {
     "iopub.execute_input": "2022-02-13T21:46:52.059952Z",
     "iopub.status.busy": "2022-02-13T21:46:52.059444Z",
     "iopub.status.idle": "2022-02-13T21:46:52.546751Z",
     "shell.execute_reply": "2022-02-13T21:46:52.546361Z"
    }
   },
   "outputs": [],
   "source": [
    "OnePiece.io.table.read(joinpath(da, \"12859_2019_2886_MOESM2_ESM.xlsx\"); xl = \"HumanSpecific Genes\")"
   ]
  },
  {
   "cell_type": "markdown",
   "id": "e4b8ebb8",
   "metadata": {},
   "source": [
    "## write"
   ]
  },
  {
   "cell_type": "code",
   "execution_count": null,
   "id": "65b70b5d",
   "metadata": {
    "execution": {
     "iopub.execute_input": "2022-02-13T21:46:52.549420Z",
     "iopub.status.busy": "2022-02-13T21:46:52.548567Z",
     "iopub.status.idle": "2022-02-13T21:46:52.550261Z",
     "shell.execute_reply": "2022-02-13T21:46:52.549879Z"
    }
   },
   "outputs": [],
   "source": [
    "using DataFrames"
   ]
  },
  {
   "cell_type": "code",
   "execution_count": null,
   "id": "ff1ddff1",
   "metadata": {
    "execution": {
     "iopub.execute_input": "2022-02-13T21:46:52.552237Z",
     "iopub.status.busy": "2022-02-13T21:46:52.551639Z",
     "iopub.status.idle": "2022-02-13T21:46:52.857668Z",
     "shell.execute_reply": "2022-02-13T21:46:52.857232Z"
    }
   },
   "outputs": [],
   "source": [
    "co1 = 1:4\n",
    "\n",
    "co2 = 1.0:4\n",
    "\n",
    "da = DataFrame(\n",
    "    \"Column 1\" => co1,\n",
    "    \"Column 2\" => co2,\n",
    "    \"Column 3\" => string.(co1),\n",
    "    \"Column 4\" => string.(co2),\n",
    ")\n",
    "\n",
    "ts = joinpath(tempdir(), \"write.csv\")\n",
    "\n",
    ";"
   ]
  },
  {
   "cell_type": "code",
   "execution_count": null,
   "id": "2352d3f2",
   "metadata": {
    "execution": {
     "iopub.execute_input": "2022-02-13T21:46:52.859582Z",
     "iopub.status.busy": "2022-02-13T21:46:52.859073Z",
     "iopub.status.idle": "2022-02-13T21:46:53.638806Z",
     "shell.execute_reply": "2022-02-13T21:46:53.638289Z"
    }
   },
   "outputs": [],
   "source": [
    "try\n",
    "\n",
    "    OnePiece.io.table.write(ts, da)\n",
    "\n",
    "catch er\n",
    "\n",
    "    er\n",
    "\n",
    "end"
   ]
  },
  {
   "cell_type": "code",
   "execution_count": null,
   "id": "59b5598a",
   "metadata": {
    "execution": {
     "iopub.execute_input": "2022-02-13T21:46:53.640727Z",
     "iopub.status.busy": "2022-02-13T21:46:53.640189Z",
     "iopub.status.idle": "2022-02-13T21:46:53.644715Z",
     "shell.execute_reply": "2022-02-13T21:46:53.644311Z"
    }
   },
   "outputs": [],
   "source": [
    "OnePiece.io.table.write(replace(ts, \".csv\" => \".tsv\"), da)"
   ]
  },
  {
   "cell_type": "markdown",
   "id": "3f396855",
   "metadata": {},
   "source": [
    "---"
   ]
  },
  {
   "cell_type": "code",
   "execution_count": null,
   "id": "b4af2023",
   "metadata": {
    "execution": {
     "iopub.execute_input": "2022-02-13T21:46:53.646935Z",
     "iopub.status.busy": "2022-02-13T21:46:53.646162Z",
     "iopub.status.idle": "2022-02-13T21:46:53.648949Z",
     "shell.execute_reply": "2022-02-13T21:46:53.648583Z"
    }
   },
   "outputs": [],
   "source": [
    "if isdir(TE)\n",
    "\n",
    "    rm(TE, recursive = true)\n",
    "\n",
    "    println(\"Removed \", TE, \".\")\n",
    "\n",
    "end"
   ]
  }
 ],
 "metadata": {
  "kernelspec": {
   "display_name": "Julia 1.7.2",
   "language": "julia",
   "name": "julia-1.7"
  },
  "language_info": {
   "file_extension": ".jl",
   "mimetype": "application/julia",
   "name": "julia",
   "version": "1.7.2"
  }
 },
 "nbformat": 4,
 "nbformat_minor": 5
}
