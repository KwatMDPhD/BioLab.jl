{
 "cells": [
  {
   "cell_type": "code",
   "execution_count": null,
   "id": "34e4701e",
   "metadata": {
    "execution": {
     "iopub.execute_input": "2022-02-09T18:47:41.633632Z",
     "iopub.status.busy": "2022-02-09T18:47:41.222817Z",
     "iopub.status.idle": "2022-02-09T18:47:42.695704Z",
     "shell.execute_reply": "2022-02-09T18:47:42.695107Z"
    }
   },
   "outputs": [],
   "source": [
    "using Revise\n",
    "using BenchmarkTools"
   ]
  },
  {
   "cell_type": "code",
   "execution_count": null,
   "id": "7a444e5c",
   "metadata": {
    "execution": {
     "iopub.execute_input": "2022-02-09T18:47:42.697723Z",
     "iopub.status.busy": "2022-02-09T18:47:42.697129Z",
     "iopub.status.idle": "2022-02-09T18:47:53.405993Z",
     "shell.execute_reply": "2022-02-09T18:47:53.405470Z"
    }
   },
   "outputs": [],
   "source": [
    "using DataFrames\n",
    "\n",
    "using OnePiece"
   ]
  },
  {
   "cell_type": "code",
   "execution_count": null,
   "id": "2b31cd2e",
   "metadata": {
    "execution": {
     "iopub.execute_input": "2022-02-09T18:47:55.123853Z",
     "iopub.status.busy": "2022-02-09T18:47:53.407318Z",
     "iopub.status.idle": "2022-02-09T18:47:55.728396Z",
     "shell.execute_reply": "2022-02-09T18:47:55.727875Z"
    }
   },
   "outputs": [],
   "source": [
    "da = joinpath(@__DIR__, \"table.data\")\n",
    "\n",
    ";"
   ]
  },
  {
   "cell_type": "markdown",
   "id": "0c198306",
   "metadata": {},
   "source": [
    "## read"
   ]
  },
  {
   "cell_type": "code",
   "execution_count": null,
   "id": "e789c6a5",
   "metadata": {
    "execution": {
     "iopub.execute_input": "2022-02-09T18:47:55.730543Z",
     "iopub.status.busy": "2022-02-09T18:47:55.729831Z",
     "iopub.status.idle": "2022-02-09T18:48:24.784156Z",
     "shell.execute_reply": "2022-02-09T18:48:24.783609Z"
    }
   },
   "outputs": [],
   "source": [
    "OnePiece.io.table.read(joinpath(da, \"titanic.tsv\"))"
   ]
  },
  {
   "cell_type": "code",
   "execution_count": null,
   "id": "53b674e5",
   "metadata": {
    "execution": {
     "iopub.execute_input": "2022-02-09T18:48:24.786148Z",
     "iopub.status.busy": "2022-02-09T18:48:24.785499Z",
     "iopub.status.idle": "2022-02-09T18:48:25.264264Z",
     "shell.execute_reply": "2022-02-09T18:48:25.263845Z"
    }
   },
   "outputs": [],
   "source": [
    "OnePiece.io.table.read(joinpath(da, \"enst_gene.tsv.gz\"))"
   ]
  },
  {
   "cell_type": "code",
   "execution_count": null,
   "id": "e58868be",
   "metadata": {
    "execution": {
     "iopub.execute_input": "2022-02-09T18:48:25.266559Z",
     "iopub.status.busy": "2022-02-09T18:48:25.265802Z",
     "iopub.status.idle": "2022-02-09T18:48:25.863637Z",
     "shell.execute_reply": "2022-02-09T18:48:25.863161Z"
    }
   },
   "outputs": [],
   "source": [
    "OnePiece.io.table.read(joinpath(da, \"12859_2019_2886_MOESM2_ESM.xlsx\"); xl = \"HumanSpecific Genes\")"
   ]
  },
  {
   "cell_type": "markdown",
   "id": "e4b8ebb8",
   "metadata": {},
   "source": [
    "## write"
   ]
  },
  {
   "cell_type": "code",
   "execution_count": null,
   "id": "ff1ddff1",
   "metadata": {
    "execution": {
     "iopub.execute_input": "2022-02-09T18:48:25.865646Z",
     "iopub.status.busy": "2022-02-09T18:48:25.865053Z",
     "iopub.status.idle": "2022-02-09T18:48:26.266141Z",
     "shell.execute_reply": "2022-02-09T18:48:26.265643Z"
    }
   },
   "outputs": [],
   "source": [
    "co1 = 1:4\n",
    "\n",
    "co2 = 1.0:4\n",
    "\n",
    "da = DataFrame(\n",
    "    \"Column 1\" => co1,\n",
    "    \"Column 2\" => co2,\n",
    "    \"Column 3\" => string.(co1),\n",
    "    \"Column 4\" => string.(co2),\n",
    ")\n",
    "\n",
    "ts = joinpath(tempdir(), \"write.csv\")\n",
    "\n",
    ";"
   ]
  },
  {
   "cell_type": "code",
   "execution_count": null,
   "id": "2352d3f2",
   "metadata": {
    "execution": {
     "iopub.execute_input": "2022-02-09T18:48:26.268006Z",
     "iopub.status.busy": "2022-02-09T18:48:26.267451Z",
     "iopub.status.idle": "2022-02-09T18:48:27.210266Z",
     "shell.execute_reply": "2022-02-09T18:48:27.209602Z"
    }
   },
   "outputs": [],
   "source": [
    "try\n",
    "\n",
    "    OnePiece.io.table.write(ts, da)\n",
    "\n",
    "catch er\n",
    "\n",
    "    er\n",
    "\n",
    "end"
   ]
  },
  {
   "cell_type": "code",
   "execution_count": null,
   "id": "59b5598a",
   "metadata": {
    "execution": {
     "iopub.execute_input": "2022-02-09T18:48:27.212524Z",
     "iopub.status.busy": "2022-02-09T18:48:27.211930Z",
     "iopub.status.idle": "2022-02-09T18:48:27.232292Z",
     "shell.execute_reply": "2022-02-09T18:48:27.231745Z"
    }
   },
   "outputs": [],
   "source": [
    "OnePiece.io.table.write(replace(ts, \".csv\" => \".tsv\"), da)"
   ]
  }
 ],
 "metadata": {
  "@webio": {
   "lastCommId": "66af5eb15d6f47f79a6d81e87ac7b017",
   "lastKernelId": "6d333ff8-983e-424f-97e2-e83a98c8caf7"
  },
  "kernelspec": {
   "display_name": "Julia 1.7.1",
   "language": "julia",
   "name": "julia-1.7"
  },
  "language_info": {
   "file_extension": ".jl",
   "mimetype": "application/julia",
   "name": "julia",
   "version": "1.7.2"
  }
 },
 "nbformat": 4,
 "nbformat_minor": 5
}
