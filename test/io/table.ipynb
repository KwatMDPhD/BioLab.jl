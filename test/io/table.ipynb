{
 "cells": [
  {
   "cell_type": "code",
   "execution_count": null,
   "id": "017464da",
   "metadata": {
    "execution": {
     "iopub.execute_input": "2022-02-14T16:42:40.145193Z",
     "iopub.status.busy": "2022-02-14T16:42:39.566193Z",
     "iopub.status.idle": "2022-02-14T16:42:40.469710Z",
     "shell.execute_reply": "2022-02-14T16:42:40.468789Z"
    }
   },
   "outputs": [],
   "source": [
    "TE = joinpath(tempdir(), \"OnePiece.test\")\n",
    "\n",
    "if isdir(TE)\n",
    "\n",
    "    rm(TE, recursive = true)\n",
    "\n",
    "    println(\"Removed \", TE, \".\")\n",
    "\n",
    "end\n",
    "\n",
    "mkdir(TE)\n",
    "\n",
    "println(\"Made \", TE, \".\")"
   ]
  },
  {
   "cell_type": "code",
   "execution_count": null,
   "id": "34e4701e",
   "metadata": {
    "execution": {
     "iopub.execute_input": "2022-02-14T16:42:40.472563Z",
     "iopub.status.busy": "2022-02-14T16:42:40.471672Z",
     "iopub.status.idle": "2022-02-14T16:42:55.092523Z",
     "shell.execute_reply": "2022-02-14T16:42:55.091798Z"
    }
   },
   "outputs": [],
   "source": [
    "using OnePiece"
   ]
  },
  {
   "cell_type": "markdown",
   "id": "b92a3da9",
   "metadata": {},
   "source": [
    "---"
   ]
  },
  {
   "cell_type": "code",
   "execution_count": null,
   "id": "2b31cd2e",
   "metadata": {
    "execution": {
     "iopub.execute_input": "2022-02-14T16:42:55.645100Z",
     "iopub.status.busy": "2022-02-14T16:42:55.094388Z",
     "iopub.status.idle": "2022-02-14T16:42:55.734100Z",
     "shell.execute_reply": "2022-02-14T16:42:55.733393Z"
    }
   },
   "outputs": [],
   "source": [
    "da = joinpath(@__DIR__, \"table.data\")\n",
    "\n",
    ";"
   ]
  },
  {
   "cell_type": "markdown",
   "id": "0c198306",
   "metadata": {},
   "source": [
    "## read"
   ]
  },
  {
   "cell_type": "code",
   "execution_count": null,
   "id": "e789c6a5",
   "metadata": {
    "execution": {
     "iopub.execute_input": "2022-02-14T16:42:55.737409Z",
     "iopub.status.busy": "2022-02-14T16:42:55.736468Z",
     "iopub.status.idle": "2022-02-14T16:43:33.600899Z",
     "shell.execute_reply": "2022-02-14T16:43:33.600334Z"
    }
   },
   "outputs": [],
   "source": [
    "OnePiece.io.table.read(joinpath(da, \"titanic.tsv\"))"
   ]
  },
  {
   "cell_type": "code",
   "execution_count": null,
   "id": "53b674e5",
   "metadata": {
    "execution": {
     "iopub.execute_input": "2022-02-14T16:43:33.603128Z",
     "iopub.status.busy": "2022-02-14T16:43:33.602436Z",
     "iopub.status.idle": "2022-02-14T16:43:34.273751Z",
     "shell.execute_reply": "2022-02-14T16:43:34.273218Z"
    }
   },
   "outputs": [],
   "source": [
    "OnePiece.io.table.read(joinpath(da, \"enst_gene.tsv.gz\"))"
   ]
  },
  {
   "cell_type": "code",
   "execution_count": null,
   "id": "e58868be",
   "metadata": {
    "execution": {
     "iopub.execute_input": "2022-02-14T16:43:34.276128Z",
     "iopub.status.busy": "2022-02-14T16:43:34.275452Z",
     "iopub.status.idle": "2022-02-14T16:43:34.892998Z",
     "shell.execute_reply": "2022-02-14T16:43:34.891485Z"
    }
   },
   "outputs": [],
   "source": [
    "OnePiece.io.table.read(joinpath(da, \"12859_2019_2886_MOESM2_ESM.xlsx\"); xl = \"HumanSpecific Genes\")"
   ]
  },
  {
   "cell_type": "markdown",
   "id": "e4b8ebb8",
   "metadata": {},
   "source": [
    "## write"
   ]
  },
  {
   "cell_type": "code",
   "execution_count": null,
   "id": "65b70b5d",
   "metadata": {
    "execution": {
     "iopub.execute_input": "2022-02-14T16:43:34.895404Z",
     "iopub.status.busy": "2022-02-14T16:43:34.894605Z",
     "iopub.status.idle": "2022-02-14T16:43:34.896589Z",
     "shell.execute_reply": "2022-02-14T16:43:34.896003Z"
    }
   },
   "outputs": [],
   "source": [
    "using DataFrames"
   ]
  },
  {
   "cell_type": "code",
   "execution_count": null,
   "id": "ff1ddff1",
   "metadata": {
    "execution": {
     "iopub.execute_input": "2022-02-14T16:43:34.899142Z",
     "iopub.status.busy": "2022-02-14T16:43:34.898175Z",
     "iopub.status.idle": "2022-02-14T16:43:35.368501Z",
     "shell.execute_reply": "2022-02-14T16:43:35.367895Z"
    }
   },
   "outputs": [],
   "source": [
    "co1 = 1:4\n",
    "\n",
    "co2 = 1.0:4\n",
    "\n",
    "da = DataFrame(\n",
    "    \"Column 1\" => co1,\n",
    "    \"Column 2\" => co2,\n",
    "    \"Column 3\" => string.(co1),\n",
    "    \"Column 4\" => string.(co2),\n",
    ")\n",
    "\n",
    "ts = joinpath(tempdir(), \"write.csv\")\n",
    "\n",
    ";"
   ]
  },
  {
   "cell_type": "code",
   "execution_count": null,
   "id": "2352d3f2",
   "metadata": {
    "execution": {
     "iopub.execute_input": "2022-02-14T16:43:35.370656Z",
     "iopub.status.busy": "2022-02-14T16:43:35.369988Z",
     "iopub.status.idle": "2022-02-14T16:43:36.485670Z",
     "shell.execute_reply": "2022-02-14T16:43:36.485079Z"
    }
   },
   "outputs": [],
   "source": [
    "try\n",
    "\n",
    "    OnePiece.io.table.write(ts, da)\n",
    "\n",
    "catch er\n",
    "\n",
    "    er\n",
    "\n",
    "end"
   ]
  },
  {
   "cell_type": "code",
   "execution_count": null,
   "id": "59b5598a",
   "metadata": {
    "execution": {
     "iopub.execute_input": "2022-02-14T16:43:36.487996Z",
     "iopub.status.busy": "2022-02-14T16:43:36.487232Z",
     "iopub.status.idle": "2022-02-14T16:43:36.492982Z",
     "shell.execute_reply": "2022-02-14T16:43:36.492310Z"
    }
   },
   "outputs": [],
   "source": [
    "OnePiece.io.table.write(replace(ts, \".csv\" => \".tsv\"), da)"
   ]
  },
  {
   "cell_type": "markdown",
   "id": "3f396855",
   "metadata": {},
   "source": [
    "---"
   ]
  },
  {
   "cell_type": "code",
   "execution_count": null,
   "id": "b4af2023",
   "metadata": {
    "execution": {
     "iopub.execute_input": "2022-02-14T16:43:36.495305Z",
     "iopub.status.busy": "2022-02-14T16:43:36.494491Z",
     "iopub.status.idle": "2022-02-14T16:43:36.497568Z",
     "shell.execute_reply": "2022-02-14T16:43:36.497037Z"
    }
   },
   "outputs": [],
   "source": [
    "if isdir(TE)\n",
    "\n",
    "    rm(TE, recursive = true)\n",
    "\n",
    "    println(\"Removed \", TE, \".\")\n",
    "\n",
    "end"
   ]
  }
 ],
 "metadata": {
  "kernelspec": {
   "display_name": "Julia 1.7.2",
   "language": "julia",
   "name": "julia-1.7"
  },
  "language_info": {
   "file_extension": ".jl",
   "mimetype": "application/julia",
   "name": "julia",
   "version": "1.7.2"
  }
 },
 "nbformat": 4,
 "nbformat_minor": 5
}
