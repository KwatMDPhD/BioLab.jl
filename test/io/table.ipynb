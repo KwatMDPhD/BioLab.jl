{
 "cells": [
  {
   "cell_type": "code",
   "execution_count": null,
   "id": "017464da",
   "metadata": {
    "execution": {
     "iopub.execute_input": "2022-02-13T05:16:38.012810Z",
     "iopub.status.busy": "2022-02-13T05:16:37.682421Z",
     "iopub.status.idle": "2022-02-13T05:16:38.198355Z",
     "shell.execute_reply": "2022-02-13T05:16:38.197914Z"
    }
   },
   "outputs": [],
   "source": [
    "TE = joinpath(tempdir(), \"OnePiece.test\")\n",
    "\n",
    "if isdir(TE)\n",
    "\n",
    "    rm(TE, recursive = true)\n",
    "\n",
    "    println(\"Removed \", TE, \".\")\n",
    "\n",
    "end\n",
    "\n",
    "mkdir(TE)\n",
    "\n",
    "println(\"Made \", TE, \".\")"
   ]
  },
  {
   "cell_type": "code",
   "execution_count": null,
   "id": "34e4701e",
   "metadata": {
    "execution": {
     "iopub.execute_input": "2022-02-13T05:16:38.200187Z",
     "iopub.status.busy": "2022-02-13T05:16:38.199682Z",
     "iopub.status.idle": "2022-02-13T05:16:47.336684Z",
     "shell.execute_reply": "2022-02-13T05:16:47.336287Z"
    }
   },
   "outputs": [],
   "source": [
    "using OnePiece"
   ]
  },
  {
   "cell_type": "markdown",
   "id": "b92a3da9",
   "metadata": {},
   "source": [
    "---"
   ]
  },
  {
   "cell_type": "code",
   "execution_count": null,
   "id": "2b31cd2e",
   "metadata": {
    "execution": {
     "iopub.execute_input": "2022-02-13T05:16:47.702184Z",
     "iopub.status.busy": "2022-02-13T05:16:47.337945Z",
     "iopub.status.idle": "2022-02-13T05:16:47.758424Z",
     "shell.execute_reply": "2022-02-13T05:16:47.757942Z"
    }
   },
   "outputs": [],
   "source": [
    "da = joinpath(@__DIR__, \"table.data\")\n",
    "\n",
    ";"
   ]
  },
  {
   "cell_type": "markdown",
   "id": "0c198306",
   "metadata": {},
   "source": [
    "## read"
   ]
  },
  {
   "cell_type": "code",
   "execution_count": null,
   "id": "e789c6a5",
   "metadata": {
    "execution": {
     "iopub.execute_input": "2022-02-13T05:16:47.760877Z",
     "iopub.status.busy": "2022-02-13T05:16:47.760151Z",
     "iopub.status.idle": "2022-02-13T05:17:13.822180Z",
     "shell.execute_reply": "2022-02-13T05:17:13.821732Z"
    }
   },
   "outputs": [],
   "source": [
    "OnePiece.io.table.read(joinpath(da, \"titanic.tsv\"))"
   ]
  },
  {
   "cell_type": "code",
   "execution_count": null,
   "id": "53b674e5",
   "metadata": {
    "execution": {
     "iopub.execute_input": "2022-02-13T05:17:13.824006Z",
     "iopub.status.busy": "2022-02-13T05:17:13.823434Z",
     "iopub.status.idle": "2022-02-13T05:17:14.356127Z",
     "shell.execute_reply": "2022-02-13T05:17:14.355675Z"
    }
   },
   "outputs": [],
   "source": [
    "OnePiece.io.table.read(joinpath(da, \"enst_gene.tsv.gz\"))"
   ]
  },
  {
   "cell_type": "code",
   "execution_count": null,
   "id": "e58868be",
   "metadata": {
    "execution": {
     "iopub.execute_input": "2022-02-13T05:17:14.358042Z",
     "iopub.status.busy": "2022-02-13T05:17:14.357456Z",
     "iopub.status.idle": "2022-02-13T05:17:14.900580Z",
     "shell.execute_reply": "2022-02-13T05:17:14.899273Z"
    }
   },
   "outputs": [],
   "source": [
    "OnePiece.io.table.read(joinpath(da, \"12859_2019_2886_MOESM2_ESM.xlsx\"); xl = \"HumanSpecific Genes\")"
   ]
  },
  {
   "cell_type": "markdown",
   "id": "e4b8ebb8",
   "metadata": {},
   "source": [
    "## write"
   ]
  },
  {
   "cell_type": "code",
   "execution_count": null,
   "id": "65b70b5d",
   "metadata": {
    "execution": {
     "iopub.execute_input": "2022-02-13T05:17:14.902687Z",
     "iopub.status.busy": "2022-02-13T05:17:14.901928Z",
     "iopub.status.idle": "2022-02-13T05:17:14.903643Z",
     "shell.execute_reply": "2022-02-13T05:17:14.903208Z"
    }
   },
   "outputs": [],
   "source": [
    "using DataFrames"
   ]
  },
  {
   "cell_type": "code",
   "execution_count": null,
   "id": "ff1ddff1",
   "metadata": {
    "execution": {
     "iopub.execute_input": "2022-02-13T05:17:14.905466Z",
     "iopub.status.busy": "2022-02-13T05:17:14.904891Z",
     "iopub.status.idle": "2022-02-13T05:17:15.283636Z",
     "shell.execute_reply": "2022-02-13T05:17:15.283202Z"
    }
   },
   "outputs": [],
   "source": [
    "co1 = 1:4\n",
    "\n",
    "co2 = 1.0:4\n",
    "\n",
    "da = DataFrame(\n",
    "    \"Column 1\" => co1,\n",
    "    \"Column 2\" => co2,\n",
    "    \"Column 3\" => string.(co1),\n",
    "    \"Column 4\" => string.(co2),\n",
    ")\n",
    "\n",
    "ts = joinpath(tempdir(), \"write.csv\")\n",
    "\n",
    ";"
   ]
  },
  {
   "cell_type": "code",
   "execution_count": null,
   "id": "2352d3f2",
   "metadata": {
    "execution": {
     "iopub.execute_input": "2022-02-13T05:17:15.285545Z",
     "iopub.status.busy": "2022-02-13T05:17:15.284963Z",
     "iopub.status.idle": "2022-02-13T05:17:16.210373Z",
     "shell.execute_reply": "2022-02-13T05:17:16.209832Z"
    }
   },
   "outputs": [],
   "source": [
    "try\n",
    "\n",
    "    OnePiece.io.table.write(ts, da)\n",
    "\n",
    "catch er\n",
    "\n",
    "    er\n",
    "\n",
    "end"
   ]
  },
  {
   "cell_type": "code",
   "execution_count": null,
   "id": "59b5598a",
   "metadata": {
    "execution": {
     "iopub.execute_input": "2022-02-13T05:17:16.212255Z",
     "iopub.status.busy": "2022-02-13T05:17:16.211687Z",
     "iopub.status.idle": "2022-02-13T05:17:16.216603Z",
     "shell.execute_reply": "2022-02-13T05:17:16.216014Z"
    }
   },
   "outputs": [],
   "source": [
    "OnePiece.io.table.write(replace(ts, \".csv\" => \".tsv\"), da)"
   ]
  },
  {
   "cell_type": "markdown",
   "id": "3f396855",
   "metadata": {},
   "source": [
    "---"
   ]
  },
  {
   "cell_type": "code",
   "execution_count": null,
   "id": "b4af2023",
   "metadata": {
    "execution": {
     "iopub.execute_input": "2022-02-13T05:17:16.218524Z",
     "iopub.status.busy": "2022-02-13T05:17:16.217952Z",
     "iopub.status.idle": "2022-02-13T05:17:16.220489Z",
     "shell.execute_reply": "2022-02-13T05:17:16.219998Z"
    }
   },
   "outputs": [],
   "source": [
    "if isdir(TE)\n",
    "\n",
    "    rm(TE, recursive = true)\n",
    "\n",
    "    println(\"Removed \", TE, \".\")\n",
    "\n",
    "end"
   ]
  }
 ],
 "metadata": {
  "kernelspec": {
   "display_name": "Julia 1.7.2",
   "language": "julia",
   "name": "julia-1.7"
  },
  "language_info": {
   "file_extension": ".jl",
   "mimetype": "application/julia",
   "name": "julia",
   "version": "1.7.2"
  }
 },
 "nbformat": 4,
 "nbformat_minor": 5
}
