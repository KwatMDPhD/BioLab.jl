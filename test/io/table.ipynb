{
 "cells": [
  {
   "cell_type": "code",
   "execution_count": null,
   "id": "017464da",
   "metadata": {
    "execution": {
     "iopub.execute_input": "2022-02-14T15:15:20.838839Z",
     "iopub.status.busy": "2022-02-14T15:15:20.502070Z",
     "iopub.status.idle": "2022-02-14T15:15:21.027024Z",
     "shell.execute_reply": "2022-02-14T15:15:21.026520Z"
    }
   },
   "outputs": [],
   "source": [
    "TE = joinpath(tempdir(), \"OnePiece.test\")\n",
    "\n",
    "if isdir(TE)\n",
    "\n",
    "    rm(TE, recursive = true)\n",
    "\n",
    "    println(\"Removed \", TE, \".\")\n",
    "\n",
    "end\n",
    "\n",
    "mkdir(TE)\n",
    "\n",
    "println(\"Made \", TE, \".\")"
   ]
  },
  {
   "cell_type": "code",
   "execution_count": null,
   "id": "34e4701e",
   "metadata": {
    "execution": {
     "iopub.execute_input": "2022-02-14T15:15:21.029570Z",
     "iopub.status.busy": "2022-02-14T15:15:21.028699Z",
     "iopub.status.idle": "2022-02-14T15:15:29.852128Z",
     "shell.execute_reply": "2022-02-14T15:15:29.851744Z"
    }
   },
   "outputs": [],
   "source": [
    "using OnePiece"
   ]
  },
  {
   "cell_type": "markdown",
   "id": "b92a3da9",
   "metadata": {},
   "source": [
    "---"
   ]
  },
  {
   "cell_type": "code",
   "execution_count": null,
   "id": "2b31cd2e",
   "metadata": {
    "execution": {
     "iopub.execute_input": "2022-02-14T15:15:30.190558Z",
     "iopub.status.busy": "2022-02-14T15:15:29.853405Z",
     "iopub.status.idle": "2022-02-14T15:15:30.240556Z",
     "shell.execute_reply": "2022-02-14T15:15:30.240164Z"
    }
   },
   "outputs": [],
   "source": [
    "da = joinpath(@__DIR__, \"table.data\")\n",
    "\n",
    ";"
   ]
  },
  {
   "cell_type": "markdown",
   "id": "0c198306",
   "metadata": {},
   "source": [
    "## read"
   ]
  },
  {
   "cell_type": "code",
   "execution_count": null,
   "id": "e789c6a5",
   "metadata": {
    "execution": {
     "iopub.execute_input": "2022-02-14T15:15:30.242503Z",
     "iopub.status.busy": "2022-02-14T15:15:30.242005Z",
     "iopub.status.idle": "2022-02-14T15:15:53.020888Z",
     "shell.execute_reply": "2022-02-14T15:15:53.020499Z"
    }
   },
   "outputs": [],
   "source": [
    "OnePiece.io.table.read(joinpath(da, \"titanic.tsv\"))"
   ]
  },
  {
   "cell_type": "code",
   "execution_count": null,
   "id": "53b674e5",
   "metadata": {
    "execution": {
     "iopub.execute_input": "2022-02-14T15:15:53.023192Z",
     "iopub.status.busy": "2022-02-14T15:15:53.022507Z",
     "iopub.status.idle": "2022-02-14T15:15:53.488437Z",
     "shell.execute_reply": "2022-02-14T15:15:53.488049Z"
    }
   },
   "outputs": [],
   "source": [
    "OnePiece.io.table.read(joinpath(da, \"enst_gene.tsv.gz\"))"
   ]
  },
  {
   "cell_type": "code",
   "execution_count": null,
   "id": "e58868be",
   "metadata": {
    "execution": {
     "iopub.execute_input": "2022-02-14T15:15:53.490286Z",
     "iopub.status.busy": "2022-02-14T15:15:53.489767Z",
     "iopub.status.idle": "2022-02-14T15:15:53.975286Z",
     "shell.execute_reply": "2022-02-14T15:15:53.974879Z"
    }
   },
   "outputs": [],
   "source": [
    "OnePiece.io.table.read(joinpath(da, \"12859_2019_2886_MOESM2_ESM.xlsx\"); xl = \"HumanSpecific Genes\")"
   ]
  },
  {
   "cell_type": "markdown",
   "id": "e4b8ebb8",
   "metadata": {},
   "source": [
    "## write"
   ]
  },
  {
   "cell_type": "code",
   "execution_count": null,
   "id": "65b70b5d",
   "metadata": {
    "execution": {
     "iopub.execute_input": "2022-02-14T15:15:53.978124Z",
     "iopub.status.busy": "2022-02-14T15:15:53.976839Z",
     "iopub.status.idle": "2022-02-14T15:15:53.978986Z",
     "shell.execute_reply": "2022-02-14T15:15:53.978612Z"
    }
   },
   "outputs": [],
   "source": [
    "using DataFrames"
   ]
  },
  {
   "cell_type": "code",
   "execution_count": null,
   "id": "ff1ddff1",
   "metadata": {
    "execution": {
     "iopub.execute_input": "2022-02-14T15:15:53.980699Z",
     "iopub.status.busy": "2022-02-14T15:15:53.980196Z",
     "iopub.status.idle": "2022-02-14T15:15:54.300596Z",
     "shell.execute_reply": "2022-02-14T15:15:54.300123Z"
    }
   },
   "outputs": [],
   "source": [
    "co1 = 1:4\n",
    "\n",
    "co2 = 1.0:4\n",
    "\n",
    "da = DataFrame(\n",
    "    \"Column 1\" => co1,\n",
    "    \"Column 2\" => co2,\n",
    "    \"Column 3\" => string.(co1),\n",
    "    \"Column 4\" => string.(co2),\n",
    ")\n",
    "\n",
    "ts = joinpath(tempdir(), \"write.csv\")\n",
    "\n",
    ";"
   ]
  },
  {
   "cell_type": "code",
   "execution_count": null,
   "id": "2352d3f2",
   "metadata": {
    "execution": {
     "iopub.execute_input": "2022-02-14T15:15:54.302489Z",
     "iopub.status.busy": "2022-02-14T15:15:54.301933Z",
     "iopub.status.idle": "2022-02-14T15:15:55.111944Z",
     "shell.execute_reply": "2022-02-14T15:15:55.111502Z"
    }
   },
   "outputs": [],
   "source": [
    "try\n",
    "\n",
    "    OnePiece.io.table.write(ts, da)\n",
    "\n",
    "catch er\n",
    "\n",
    "    er\n",
    "\n",
    "end"
   ]
  },
  {
   "cell_type": "code",
   "execution_count": null,
   "id": "59b5598a",
   "metadata": {
    "execution": {
     "iopub.execute_input": "2022-02-14T15:15:55.113854Z",
     "iopub.status.busy": "2022-02-14T15:15:55.113360Z",
     "iopub.status.idle": "2022-02-14T15:15:55.118327Z",
     "shell.execute_reply": "2022-02-14T15:15:55.117826Z"
    }
   },
   "outputs": [],
   "source": [
    "OnePiece.io.table.write(replace(ts, \".csv\" => \".tsv\"), da)"
   ]
  },
  {
   "cell_type": "markdown",
   "id": "3f396855",
   "metadata": {},
   "source": [
    "---"
   ]
  },
  {
   "cell_type": "code",
   "execution_count": null,
   "id": "b4af2023",
   "metadata": {
    "execution": {
     "iopub.execute_input": "2022-02-14T15:15:55.120521Z",
     "iopub.status.busy": "2022-02-14T15:15:55.119782Z",
     "iopub.status.idle": "2022-02-14T15:15:55.122399Z",
     "shell.execute_reply": "2022-02-14T15:15:55.122026Z"
    }
   },
   "outputs": [],
   "source": [
    "if isdir(TE)\n",
    "\n",
    "    rm(TE, recursive = true)\n",
    "\n",
    "    println(\"Removed \", TE, \".\")\n",
    "\n",
    "end"
   ]
  }
 ],
 "metadata": {
  "kernelspec": {
   "display_name": "Julia 1.7.2",
   "language": "julia",
   "name": "julia-1.7"
  },
  "language_info": {
   "file_extension": ".jl",
   "mimetype": "application/julia",
   "name": "julia",
   "version": "1.7.2"
  }
 },
 "nbformat": 4,
 "nbformat_minor": 5
}
