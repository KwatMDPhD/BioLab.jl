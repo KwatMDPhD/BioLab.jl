{
 "cells": [
  {
   "cell_type": "code",
   "execution_count": null,
   "id": "017464da",
   "metadata": {
    "execution": {
     "iopub.execute_input": "2022-02-13T23:07:59.141963Z",
     "iopub.status.busy": "2022-02-13T23:07:58.775021Z",
     "iopub.status.idle": "2022-02-13T23:07:59.382475Z",
     "shell.execute_reply": "2022-02-13T23:07:59.381803Z"
    }
   },
   "outputs": [],
   "source": [
    "TE = joinpath(tempdir(), \"OnePiece.test\")\n",
    "\n",
    "if isdir(TE)\n",
    "\n",
    "    rm(TE, recursive = true)\n",
    "\n",
    "    println(\"Removed \", TE, \".\")\n",
    "\n",
    "end\n",
    "\n",
    "mkdir(TE)\n",
    "\n",
    "println(\"Made \", TE, \".\")"
   ]
  },
  {
   "cell_type": "code",
   "execution_count": null,
   "id": "34e4701e",
   "metadata": {
    "execution": {
     "iopub.execute_input": "2022-02-13T23:07:59.384630Z",
     "iopub.status.busy": "2022-02-13T23:07:59.383892Z",
     "iopub.status.idle": "2022-02-13T23:08:09.457765Z",
     "shell.execute_reply": "2022-02-13T23:08:09.457251Z"
    }
   },
   "outputs": [],
   "source": [
    "using OnePiece"
   ]
  },
  {
   "cell_type": "markdown",
   "id": "b92a3da9",
   "metadata": {},
   "source": [
    "---"
   ]
  },
  {
   "cell_type": "code",
   "execution_count": null,
   "id": "2b31cd2e",
   "metadata": {
    "execution": {
     "iopub.execute_input": "2022-02-13T23:08:09.791843Z",
     "iopub.status.busy": "2022-02-13T23:08:09.459494Z",
     "iopub.status.idle": "2022-02-13T23:08:09.840316Z",
     "shell.execute_reply": "2022-02-13T23:08:09.839798Z"
    }
   },
   "outputs": [],
   "source": [
    "da = joinpath(@__DIR__, \"table.data\")\n",
    "\n",
    ";"
   ]
  },
  {
   "cell_type": "markdown",
   "id": "0c198306",
   "metadata": {},
   "source": [
    "## read"
   ]
  },
  {
   "cell_type": "code",
   "execution_count": null,
   "id": "e789c6a5",
   "metadata": {
    "execution": {
     "iopub.execute_input": "2022-02-13T23:08:09.842156Z",
     "iopub.status.busy": "2022-02-13T23:08:09.841667Z",
     "iopub.status.idle": "2022-02-13T23:08:36.182155Z",
     "shell.execute_reply": "2022-02-13T23:08:36.180498Z"
    }
   },
   "outputs": [],
   "source": [
    "OnePiece.io.table.read(joinpath(da, \"titanic.tsv\"))"
   ]
  },
  {
   "cell_type": "code",
   "execution_count": null,
   "id": "53b674e5",
   "metadata": {
    "execution": {
     "iopub.execute_input": "2022-02-13T23:08:36.184087Z",
     "iopub.status.busy": "2022-02-13T23:08:36.183589Z",
     "iopub.status.idle": "2022-02-13T23:08:36.720578Z",
     "shell.execute_reply": "2022-02-13T23:08:36.720164Z"
    }
   },
   "outputs": [],
   "source": [
    "OnePiece.io.table.read(joinpath(da, \"enst_gene.tsv.gz\"))"
   ]
  },
  {
   "cell_type": "code",
   "execution_count": null,
   "id": "e58868be",
   "metadata": {
    "execution": {
     "iopub.execute_input": "2022-02-13T23:08:36.722377Z",
     "iopub.status.busy": "2022-02-13T23:08:36.721858Z",
     "iopub.status.idle": "2022-02-13T23:08:37.310949Z",
     "shell.execute_reply": "2022-02-13T23:08:37.310112Z"
    }
   },
   "outputs": [],
   "source": [
    "OnePiece.io.table.read(joinpath(da, \"12859_2019_2886_MOESM2_ESM.xlsx\"); xl = \"HumanSpecific Genes\")"
   ]
  },
  {
   "cell_type": "markdown",
   "id": "e4b8ebb8",
   "metadata": {},
   "source": [
    "## write"
   ]
  },
  {
   "cell_type": "code",
   "execution_count": null,
   "id": "65b70b5d",
   "metadata": {
    "execution": {
     "iopub.execute_input": "2022-02-13T23:08:37.313059Z",
     "iopub.status.busy": "2022-02-13T23:08:37.312395Z",
     "iopub.status.idle": "2022-02-13T23:08:37.314760Z",
     "shell.execute_reply": "2022-02-13T23:08:37.314122Z"
    }
   },
   "outputs": [],
   "source": [
    "using DataFrames"
   ]
  },
  {
   "cell_type": "code",
   "execution_count": null,
   "id": "ff1ddff1",
   "metadata": {
    "execution": {
     "iopub.execute_input": "2022-02-13T23:08:37.316965Z",
     "iopub.status.busy": "2022-02-13T23:08:37.316332Z",
     "iopub.status.idle": "2022-02-13T23:08:37.689088Z",
     "shell.execute_reply": "2022-02-13T23:08:37.688546Z"
    }
   },
   "outputs": [],
   "source": [
    "co1 = 1:4\n",
    "\n",
    "co2 = 1.0:4\n",
    "\n",
    "da = DataFrame(\n",
    "    \"Column 1\" => co1,\n",
    "    \"Column 2\" => co2,\n",
    "    \"Column 3\" => string.(co1),\n",
    "    \"Column 4\" => string.(co2),\n",
    ")\n",
    "\n",
    "ts = joinpath(tempdir(), \"write.csv\")\n",
    "\n",
    ";"
   ]
  },
  {
   "cell_type": "code",
   "execution_count": null,
   "id": "2352d3f2",
   "metadata": {
    "execution": {
     "iopub.execute_input": "2022-02-13T23:08:37.691370Z",
     "iopub.status.busy": "2022-02-13T23:08:37.690789Z",
     "iopub.status.idle": "2022-02-13T23:08:38.611299Z",
     "shell.execute_reply": "2022-02-13T23:08:38.610925Z"
    }
   },
   "outputs": [],
   "source": [
    "try\n",
    "\n",
    "    OnePiece.io.table.write(ts, da)\n",
    "\n",
    "catch er\n",
    "\n",
    "    er\n",
    "\n",
    "end"
   ]
  },
  {
   "cell_type": "code",
   "execution_count": null,
   "id": "59b5598a",
   "metadata": {
    "execution": {
     "iopub.execute_input": "2022-02-13T23:08:38.613788Z",
     "iopub.status.busy": "2022-02-13T23:08:38.612941Z",
     "iopub.status.idle": "2022-02-13T23:08:38.618381Z",
     "shell.execute_reply": "2022-02-13T23:08:38.617833Z"
    }
   },
   "outputs": [],
   "source": [
    "OnePiece.io.table.write(replace(ts, \".csv\" => \".tsv\"), da)"
   ]
  },
  {
   "cell_type": "markdown",
   "id": "3f396855",
   "metadata": {},
   "source": [
    "---"
   ]
  },
  {
   "cell_type": "code",
   "execution_count": null,
   "id": "b4af2023",
   "metadata": {
    "execution": {
     "iopub.execute_input": "2022-02-13T23:08:38.620598Z",
     "iopub.status.busy": "2022-02-13T23:08:38.619896Z",
     "iopub.status.idle": "2022-02-13T23:08:38.622813Z",
     "shell.execute_reply": "2022-02-13T23:08:38.622390Z"
    }
   },
   "outputs": [],
   "source": [
    "if isdir(TE)\n",
    "\n",
    "    rm(TE, recursive = true)\n",
    "\n",
    "    println(\"Removed \", TE, \".\")\n",
    "\n",
    "end"
   ]
  }
 ],
 "metadata": {
  "kernelspec": {
   "display_name": "Julia 1.7.2",
   "language": "julia",
   "name": "julia-1.7"
  },
  "language_info": {
   "file_extension": ".jl",
   "mimetype": "application/julia",
   "name": "julia",
   "version": "1.7.2"
  }
 },
 "nbformat": 4,
 "nbformat_minor": 5
}
