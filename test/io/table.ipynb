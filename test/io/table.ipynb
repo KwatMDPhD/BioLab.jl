{
 "cells": [
  {
   "cell_type": "code",
   "execution_count": null,
   "id": "017464da",
   "metadata": {},
   "outputs": [],
   "source": [
    "TE = joinpath(tempdir(), \"OnePiece.test\")\n",
    "\n",
    "if isdir(TE)\n",
    "\n",
    "    rm(TE, recursive = true)\n",
    "\n",
    "    println(\"Removed \", TE, \".\")\n",
    "\n",
    "end\n",
    "\n",
    "mkdir(TE)\n",
    "\n",
    "println(\"Made \", TE, \".\")"
   ]
  },
  {
   "cell_type": "code",
   "execution_count": null,
   "id": "34e4701e",
   "metadata": {
    "execution": {
     "iopub.execute_input": "2022-02-10T17:51:23.590384Z",
     "iopub.status.busy": "2022-02-10T17:51:23.250154Z",
     "iopub.status.idle": "2022-02-10T17:51:24.482021Z",
     "shell.execute_reply": "2022-02-10T17:51:24.481306Z"
    }
   },
   "outputs": [],
   "source": [
    "using OnePiece"
   ]
  },
  {
   "cell_type": "markdown",
   "id": "b92a3da9",
   "metadata": {},
   "source": [
    "---"
   ]
  },
  {
   "cell_type": "code",
   "execution_count": null,
   "id": "2b31cd2e",
   "metadata": {
    "execution": {
     "iopub.execute_input": "2022-02-11T17:38:34.052149Z",
     "iopub.status.busy": "2022-02-11T17:38:33.632488Z",
     "iopub.status.idle": "2022-02-11T17:38:34.116638Z",
     "shell.execute_reply": "2022-02-11T17:38:34.115676Z"
    }
   },
   "outputs": [],
   "source": [
    "da = joinpath(@__DIR__, \"table.data\")\n",
    "\n",
    ";"
   ]
  },
  {
   "cell_type": "markdown",
   "id": "0c198306",
   "metadata": {},
   "source": [
    "## read"
   ]
  },
  {
   "cell_type": "code",
   "execution_count": null,
   "id": "e789c6a5",
   "metadata": {
    "execution": {
     "iopub.execute_input": "2022-02-11T17:38:34.120099Z",
     "iopub.status.busy": "2022-02-11T17:38:34.118963Z",
     "iopub.status.idle": "2022-02-11T17:39:03.656950Z",
     "shell.execute_reply": "2022-02-11T17:39:03.656472Z"
    }
   },
   "outputs": [],
   "source": [
    "OnePiece.io.table.read(joinpath(da, \"titanic.tsv\"))"
   ]
  },
  {
   "cell_type": "code",
   "execution_count": null,
   "id": "53b674e5",
   "metadata": {
    "execution": {
     "iopub.execute_input": "2022-02-11T17:39:03.658970Z",
     "iopub.status.busy": "2022-02-11T17:39:03.658373Z",
     "iopub.status.idle": "2022-02-11T17:39:04.234515Z",
     "shell.execute_reply": "2022-02-11T17:39:04.234028Z"
    }
   },
   "outputs": [],
   "source": [
    "OnePiece.io.table.read(joinpath(da, \"enst_gene.tsv.gz\"))"
   ]
  },
  {
   "cell_type": "code",
   "execution_count": null,
   "id": "e58868be",
   "metadata": {
    "execution": {
     "iopub.execute_input": "2022-02-11T17:39:04.236477Z",
     "iopub.status.busy": "2022-02-11T17:39:04.235834Z",
     "iopub.status.idle": "2022-02-11T17:39:04.852899Z",
     "shell.execute_reply": "2022-02-11T17:39:04.852439Z"
    }
   },
   "outputs": [],
   "source": [
    "OnePiece.io.table.read(joinpath(da, \"12859_2019_2886_MOESM2_ESM.xlsx\"); xl = \"HumanSpecific Genes\")"
   ]
  },
  {
   "cell_type": "markdown",
   "id": "e4b8ebb8",
   "metadata": {},
   "source": [
    "## write"
   ]
  },
  {
   "cell_type": "code",
   "execution_count": null,
   "id": "65b70b5d",
   "metadata": {
    "execution": {
     "iopub.execute_input": "2022-02-11T17:39:04.855097Z",
     "iopub.status.busy": "2022-02-11T17:39:04.854340Z",
     "iopub.status.idle": "2022-02-11T17:39:04.856079Z",
     "shell.execute_reply": "2022-02-11T17:39:04.855630Z"
    }
   },
   "outputs": [],
   "source": [
    "using DataFrames"
   ]
  },
  {
   "cell_type": "code",
   "execution_count": null,
   "id": "ff1ddff1",
   "metadata": {
    "execution": {
     "iopub.execute_input": "2022-02-11T17:39:04.857966Z",
     "iopub.status.busy": "2022-02-11T17:39:04.857376Z",
     "iopub.status.idle": "2022-02-11T17:39:05.246523Z",
     "shell.execute_reply": "2022-02-11T17:39:05.245838Z"
    }
   },
   "outputs": [],
   "source": [
    "co1 = 1:4\n",
    "\n",
    "co2 = 1.0:4\n",
    "\n",
    "da = DataFrame(\n",
    "    \"Column 1\" => co1,\n",
    "    \"Column 2\" => co2,\n",
    "    \"Column 3\" => string.(co1),\n",
    "    \"Column 4\" => string.(co2),\n",
    ")\n",
    "\n",
    "ts = joinpath(tempdir(), \"write.csv\")\n",
    "\n",
    ";"
   ]
  },
  {
   "cell_type": "code",
   "execution_count": null,
   "id": "2352d3f2",
   "metadata": {
    "execution": {
     "iopub.execute_input": "2022-02-11T17:39:05.248558Z",
     "iopub.status.busy": "2022-02-11T17:39:05.247906Z",
     "iopub.status.idle": "2022-02-11T17:39:06.236382Z",
     "shell.execute_reply": "2022-02-11T17:39:06.235777Z"
    }
   },
   "outputs": [],
   "source": [
    "try\n",
    "\n",
    "    OnePiece.io.table.write(ts, da)\n",
    "\n",
    "catch er\n",
    "\n",
    "    er\n",
    "\n",
    "end"
   ]
  },
  {
   "cell_type": "code",
   "execution_count": null,
   "id": "59b5598a",
   "metadata": {
    "execution": {
     "iopub.execute_input": "2022-02-11T17:39:06.238447Z",
     "iopub.status.busy": "2022-02-11T17:39:06.237746Z",
     "iopub.status.idle": "2022-02-11T17:39:06.244573Z",
     "shell.execute_reply": "2022-02-11T17:39:06.244053Z"
    }
   },
   "outputs": [],
   "source": [
    "OnePiece.io.table.write(replace(ts, \".csv\" => \".tsv\"), da)"
   ]
  },
  {
   "cell_type": "markdown",
   "id": "3f396855",
   "metadata": {},
   "source": [
    "---"
   ]
  },
  {
   "cell_type": "code",
   "execution_count": null,
   "id": "b4af2023",
   "metadata": {},
   "outputs": [],
   "source": [
    "if isdir(TE)\n",
    "\n",
    "    rm(TE, recursive = true)\n",
    "\n",
    "    println(\"Removed \", TE, \".\")\n",
    "\n",
    "end"
   ]
  }
 ],
 "metadata": {
  "kernelspec": {
   "display_name": "Julia 1.7.2",
   "language": "julia",
   "name": "julia-1.7"
  },
  "language_info": {
   "file_extension": ".jl",
   "mimetype": "application/julia",
   "name": "julia",
   "version": "1.7.2"
  }
 },
 "nbformat": 4,
 "nbformat_minor": 5
}
