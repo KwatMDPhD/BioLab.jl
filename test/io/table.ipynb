{
 "cells": [
  {
   "cell_type": "code",
   "execution_count": null,
   "id": "017464da",
   "metadata": {
    "execution": {
     "iopub.execute_input": "2022-02-13T22:54:29.698572Z",
     "iopub.status.busy": "2022-02-13T22:54:29.369707Z",
     "iopub.status.idle": "2022-02-13T22:54:29.881994Z",
     "shell.execute_reply": "2022-02-13T22:54:29.881566Z"
    }
   },
   "outputs": [],
   "source": [
    "TE = joinpath(tempdir(), \"OnePiece.test\")\n",
    "\n",
    "if isdir(TE)\n",
    "\n",
    "    rm(TE, recursive = true)\n",
    "\n",
    "    println(\"Removed \", TE, \".\")\n",
    "\n",
    "end\n",
    "\n",
    "mkdir(TE)\n",
    "\n",
    "println(\"Made \", TE, \".\")"
   ]
  },
  {
   "cell_type": "code",
   "execution_count": null,
   "id": "34e4701e",
   "metadata": {
    "execution": {
     "iopub.execute_input": "2022-02-13T22:54:29.883922Z",
     "iopub.status.busy": "2022-02-13T22:54:29.883409Z",
     "iopub.status.idle": "2022-02-13T22:54:38.277220Z",
     "shell.execute_reply": "2022-02-13T22:54:38.276835Z"
    }
   },
   "outputs": [],
   "source": [
    "using OnePiece"
   ]
  },
  {
   "cell_type": "markdown",
   "id": "b92a3da9",
   "metadata": {},
   "source": [
    "---"
   ]
  },
  {
   "cell_type": "code",
   "execution_count": null,
   "id": "2b31cd2e",
   "metadata": {
    "execution": {
     "iopub.execute_input": "2022-02-13T22:54:38.597067Z",
     "iopub.status.busy": "2022-02-13T22:54:38.278516Z",
     "iopub.status.idle": "2022-02-13T22:54:38.645084Z",
     "shell.execute_reply": "2022-02-13T22:54:38.644660Z"
    }
   },
   "outputs": [],
   "source": [
    "da = joinpath(@__DIR__, \"table.data\")\n",
    "\n",
    ";"
   ]
  },
  {
   "cell_type": "markdown",
   "id": "0c198306",
   "metadata": {},
   "source": [
    "## read"
   ]
  },
  {
   "cell_type": "code",
   "execution_count": null,
   "id": "e789c6a5",
   "metadata": {
    "execution": {
     "iopub.execute_input": "2022-02-13T22:54:38.647469Z",
     "iopub.status.busy": "2022-02-13T22:54:38.646620Z",
     "iopub.status.idle": "2022-02-13T22:55:00.449393Z",
     "shell.execute_reply": "2022-02-13T22:55:00.449007Z"
    }
   },
   "outputs": [],
   "source": [
    "OnePiece.io.table.read(joinpath(da, \"titanic.tsv\"))"
   ]
  },
  {
   "cell_type": "code",
   "execution_count": null,
   "id": "53b674e5",
   "metadata": {
    "execution": {
     "iopub.execute_input": "2022-02-13T22:55:00.451322Z",
     "iopub.status.busy": "2022-02-13T22:55:00.450811Z",
     "iopub.status.idle": "2022-02-13T22:55:00.895614Z",
     "shell.execute_reply": "2022-02-13T22:55:00.895220Z"
    }
   },
   "outputs": [],
   "source": [
    "OnePiece.io.table.read(joinpath(da, \"enst_gene.tsv.gz\"))"
   ]
  },
  {
   "cell_type": "code",
   "execution_count": null,
   "id": "e58868be",
   "metadata": {
    "execution": {
     "iopub.execute_input": "2022-02-13T22:55:00.897668Z",
     "iopub.status.busy": "2022-02-13T22:55:00.897173Z",
     "iopub.status.idle": "2022-02-13T22:55:01.349320Z",
     "shell.execute_reply": "2022-02-13T22:55:01.348931Z"
    }
   },
   "outputs": [],
   "source": [
    "OnePiece.io.table.read(joinpath(da, \"12859_2019_2886_MOESM2_ESM.xlsx\"); xl = \"HumanSpecific Genes\")"
   ]
  },
  {
   "cell_type": "markdown",
   "id": "e4b8ebb8",
   "metadata": {},
   "source": [
    "## write"
   ]
  },
  {
   "cell_type": "code",
   "execution_count": null,
   "id": "65b70b5d",
   "metadata": {
    "execution": {
     "iopub.execute_input": "2022-02-13T22:55:01.351577Z",
     "iopub.status.busy": "2022-02-13T22:55:01.350833Z",
     "iopub.status.idle": "2022-02-13T22:55:01.352394Z",
     "shell.execute_reply": "2022-02-13T22:55:01.352032Z"
    }
   },
   "outputs": [],
   "source": [
    "using DataFrames"
   ]
  },
  {
   "cell_type": "code",
   "execution_count": null,
   "id": "ff1ddff1",
   "metadata": {
    "execution": {
     "iopub.execute_input": "2022-02-13T22:55:01.354344Z",
     "iopub.status.busy": "2022-02-13T22:55:01.353797Z",
     "iopub.status.idle": "2022-02-13T22:55:01.671713Z",
     "shell.execute_reply": "2022-02-13T22:55:01.671277Z"
    }
   },
   "outputs": [],
   "source": [
    "co1 = 1:4\n",
    "\n",
    "co2 = 1.0:4\n",
    "\n",
    "da = DataFrame(\n",
    "    \"Column 1\" => co1,\n",
    "    \"Column 2\" => co2,\n",
    "    \"Column 3\" => string.(co1),\n",
    "    \"Column 4\" => string.(co2),\n",
    ")\n",
    "\n",
    "ts = joinpath(tempdir(), \"write.csv\")\n",
    "\n",
    ";"
   ]
  },
  {
   "cell_type": "code",
   "execution_count": null,
   "id": "2352d3f2",
   "metadata": {
    "execution": {
     "iopub.execute_input": "2022-02-13T22:55:01.673664Z",
     "iopub.status.busy": "2022-02-13T22:55:01.673185Z",
     "iopub.status.idle": "2022-02-13T22:55:02.445555Z",
     "shell.execute_reply": "2022-02-13T22:55:02.445109Z"
    }
   },
   "outputs": [],
   "source": [
    "try\n",
    "\n",
    "    OnePiece.io.table.write(ts, da)\n",
    "\n",
    "catch er\n",
    "\n",
    "    er\n",
    "\n",
    "end"
   ]
  },
  {
   "cell_type": "code",
   "execution_count": null,
   "id": "59b5598a",
   "metadata": {
    "execution": {
     "iopub.execute_input": "2022-02-13T22:55:02.447685Z",
     "iopub.status.busy": "2022-02-13T22:55:02.447159Z",
     "iopub.status.idle": "2022-02-13T22:55:02.451566Z",
     "shell.execute_reply": "2022-02-13T22:55:02.451085Z"
    }
   },
   "outputs": [],
   "source": [
    "OnePiece.io.table.write(replace(ts, \".csv\" => \".tsv\"), da)"
   ]
  },
  {
   "cell_type": "markdown",
   "id": "3f396855",
   "metadata": {},
   "source": [
    "---"
   ]
  },
  {
   "cell_type": "code",
   "execution_count": null,
   "id": "b4af2023",
   "metadata": {
    "execution": {
     "iopub.execute_input": "2022-02-13T22:55:02.454149Z",
     "iopub.status.busy": "2022-02-13T22:55:02.453129Z",
     "iopub.status.idle": "2022-02-13T22:55:02.455969Z",
     "shell.execute_reply": "2022-02-13T22:55:02.455537Z"
    }
   },
   "outputs": [],
   "source": [
    "if isdir(TE)\n",
    "\n",
    "    rm(TE, recursive = true)\n",
    "\n",
    "    println(\"Removed \", TE, \".\")\n",
    "\n",
    "end"
   ]
  }
 ],
 "metadata": {
  "kernelspec": {
   "display_name": "Julia 1.7.2",
   "language": "julia",
   "name": "julia-1.7"
  },
  "language_info": {
   "file_extension": ".jl",
   "mimetype": "application/julia",
   "name": "julia",
   "version": "1.7.2"
  }
 },
 "nbformat": 4,
 "nbformat_minor": 5
}
