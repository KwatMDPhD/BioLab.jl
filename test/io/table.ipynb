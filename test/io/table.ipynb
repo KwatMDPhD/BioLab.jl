{
 "cells": [
  {
   "cell_type": "code",
   "execution_count": null,
   "id": "017464da",
   "metadata": {
    "execution": {
     "iopub.execute_input": "2022-02-11T19:54:23.401889Z",
     "iopub.status.busy": "2022-02-11T19:54:23.013529Z",
     "iopub.status.idle": "2022-02-11T19:54:23.618782Z",
     "shell.execute_reply": "2022-02-11T19:54:23.618192Z"
    }
   },
   "outputs": [],
   "source": [
    "TE = joinpath(tempdir(), \"OnePiece.test\")\n",
    "\n",
    "if isdir(TE)\n",
    "\n",
    "    rm(TE, recursive = true)\n",
    "\n",
    "    println(\"Removed \", TE, \".\")\n",
    "\n",
    "end\n",
    "\n",
    "mkdir(TE)\n",
    "\n",
    "println(\"Made \", TE, \".\")"
   ]
  },
  {
   "cell_type": "code",
   "execution_count": null,
   "id": "34e4701e",
   "metadata": {
    "execution": {
     "iopub.execute_input": "2022-02-11T19:54:23.620673Z",
     "iopub.status.busy": "2022-02-11T19:54:23.620093Z",
     "iopub.status.idle": "2022-02-11T19:54:28.381726Z",
     "shell.execute_reply": "2022-02-11T19:54:28.381212Z"
    }
   },
   "outputs": [],
   "source": [
    "using OnePiece"
   ]
  },
  {
   "cell_type": "markdown",
   "id": "b92a3da9",
   "metadata": {},
   "source": [
    "---"
   ]
  },
  {
   "cell_type": "code",
   "execution_count": null,
   "id": "2b31cd2e",
   "metadata": {
    "execution": {
     "iopub.execute_input": "2022-02-11T19:54:28.745590Z",
     "iopub.status.busy": "2022-02-11T19:54:28.383147Z",
     "iopub.status.idle": "2022-02-11T19:54:28.804599Z",
     "shell.execute_reply": "2022-02-11T19:54:28.804075Z"
    }
   },
   "outputs": [],
   "source": [
    "da = joinpath(@__DIR__, \"table.data\")\n",
    "\n",
    ";"
   ]
  },
  {
   "cell_type": "markdown",
   "id": "0c198306",
   "metadata": {},
   "source": [
    "## read"
   ]
  },
  {
   "cell_type": "code",
   "execution_count": null,
   "id": "e789c6a5",
   "metadata": {
    "execution": {
     "iopub.execute_input": "2022-02-11T19:54:28.806634Z",
     "iopub.status.busy": "2022-02-11T19:54:28.806063Z",
     "iopub.status.idle": "2022-02-11T19:54:54.900002Z",
     "shell.execute_reply": "2022-02-11T19:54:54.899543Z"
    }
   },
   "outputs": [],
   "source": [
    "OnePiece.io.table.read(joinpath(da, \"titanic.tsv\"))"
   ]
  },
  {
   "cell_type": "code",
   "execution_count": null,
   "id": "53b674e5",
   "metadata": {
    "execution": {
     "iopub.execute_input": "2022-02-11T19:54:54.902146Z",
     "iopub.status.busy": "2022-02-11T19:54:54.901448Z",
     "iopub.status.idle": "2022-02-11T19:54:55.429518Z",
     "shell.execute_reply": "2022-02-11T19:54:55.428976Z"
    }
   },
   "outputs": [],
   "source": [
    "OnePiece.io.table.read(joinpath(da, \"enst_gene.tsv.gz\"))"
   ]
  },
  {
   "cell_type": "code",
   "execution_count": null,
   "id": "e58868be",
   "metadata": {
    "execution": {
     "iopub.execute_input": "2022-02-11T19:54:55.431474Z",
     "iopub.status.busy": "2022-02-11T19:54:55.430812Z",
     "iopub.status.idle": "2022-02-11T19:54:56.019818Z",
     "shell.execute_reply": "2022-02-11T19:54:56.018471Z"
    }
   },
   "outputs": [],
   "source": [
    "OnePiece.io.table.read(joinpath(da, \"12859_2019_2886_MOESM2_ESM.xlsx\"); xl = \"HumanSpecific Genes\")"
   ]
  },
  {
   "cell_type": "markdown",
   "id": "e4b8ebb8",
   "metadata": {},
   "source": [
    "## write"
   ]
  },
  {
   "cell_type": "code",
   "execution_count": null,
   "id": "65b70b5d",
   "metadata": {
    "execution": {
     "iopub.execute_input": "2022-02-11T19:54:56.021925Z",
     "iopub.status.busy": "2022-02-11T19:54:56.021178Z",
     "iopub.status.idle": "2022-02-11T19:54:56.022976Z",
     "shell.execute_reply": "2022-02-11T19:54:56.022490Z"
    }
   },
   "outputs": [],
   "source": [
    "using DataFrames"
   ]
  },
  {
   "cell_type": "code",
   "execution_count": null,
   "id": "ff1ddff1",
   "metadata": {
    "execution": {
     "iopub.execute_input": "2022-02-11T19:54:56.025009Z",
     "iopub.status.busy": "2022-02-11T19:54:56.024417Z",
     "iopub.status.idle": "2022-02-11T19:54:56.405235Z",
     "shell.execute_reply": "2022-02-11T19:54:56.404640Z"
    }
   },
   "outputs": [],
   "source": [
    "co1 = 1:4\n",
    "\n",
    "co2 = 1.0:4\n",
    "\n",
    "da = DataFrame(\n",
    "    \"Column 1\" => co1,\n",
    "    \"Column 2\" => co2,\n",
    "    \"Column 3\" => string.(co1),\n",
    "    \"Column 4\" => string.(co2),\n",
    ")\n",
    "\n",
    "ts = joinpath(tempdir(), \"write.csv\")\n",
    "\n",
    ";"
   ]
  },
  {
   "cell_type": "code",
   "execution_count": null,
   "id": "2352d3f2",
   "metadata": {
    "execution": {
     "iopub.execute_input": "2022-02-11T19:54:56.407179Z",
     "iopub.status.busy": "2022-02-11T19:54:56.406596Z",
     "iopub.status.idle": "2022-02-11T19:54:57.615588Z",
     "shell.execute_reply": "2022-02-11T19:54:57.615062Z"
    }
   },
   "outputs": [],
   "source": [
    "try\n",
    "\n",
    "    OnePiece.io.table.write(ts, da)\n",
    "\n",
    "catch er\n",
    "\n",
    "    er\n",
    "\n",
    "end"
   ]
  },
  {
   "cell_type": "code",
   "execution_count": null,
   "id": "59b5598a",
   "metadata": {
    "execution": {
     "iopub.execute_input": "2022-02-11T19:54:57.617663Z",
     "iopub.status.busy": "2022-02-11T19:54:57.617076Z",
     "iopub.status.idle": "2022-02-11T19:54:57.622585Z",
     "shell.execute_reply": "2022-02-11T19:54:57.622041Z"
    }
   },
   "outputs": [],
   "source": [
    "OnePiece.io.table.write(replace(ts, \".csv\" => \".tsv\"), da)"
   ]
  },
  {
   "cell_type": "markdown",
   "id": "3f396855",
   "metadata": {},
   "source": [
    "---"
   ]
  },
  {
   "cell_type": "code",
   "execution_count": null,
   "id": "b4af2023",
   "metadata": {
    "execution": {
     "iopub.execute_input": "2022-02-11T19:54:57.624597Z",
     "iopub.status.busy": "2022-02-11T19:54:57.623982Z",
     "iopub.status.idle": "2022-02-11T19:54:57.626572Z",
     "shell.execute_reply": "2022-02-11T19:54:57.626099Z"
    }
   },
   "outputs": [],
   "source": [
    "if isdir(TE)\n",
    "\n",
    "    rm(TE, recursive = true)\n",
    "\n",
    "    println(\"Removed \", TE, \".\")\n",
    "\n",
    "end"
   ]
  }
 ],
 "metadata": {
  "kernelspec": {
   "display_name": "Julia 1.7.2",
   "language": "julia",
   "name": "julia-1.7"
  },
  "language_info": {
   "file_extension": ".jl",
   "mimetype": "application/julia",
   "name": "julia",
   "version": "1.7.2"
  }
 },
 "nbformat": 4,
 "nbformat_minor": 5
}
