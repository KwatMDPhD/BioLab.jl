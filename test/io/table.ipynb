{
 "cells": [
  {
   "cell_type": "code",
   "execution_count": null,
   "id": "34e4701e",
   "metadata": {
    "execution": {
     "iopub.execute_input": "2022-02-09T02:30:09.195180Z",
     "iopub.status.busy": "2022-02-09T02:30:08.147013Z",
     "iopub.status.idle": "2022-02-09T02:30:12.306190Z",
     "shell.execute_reply": "2022-02-09T02:30:12.303809Z"
    }
   },
   "outputs": [],
   "source": [
    "using Revise\n",
    "using BenchmarkTools"
   ]
  },
  {
   "cell_type": "code",
   "execution_count": null,
   "id": "7a444e5c",
   "metadata": {
    "execution": {
     "iopub.execute_input": "2022-02-09T02:30:12.310720Z",
     "iopub.status.busy": "2022-02-09T02:30:12.309227Z",
     "iopub.status.idle": "2022-02-09T02:31:10.213664Z",
     "shell.execute_reply": "2022-02-09T02:31:10.209667Z"
    }
   },
   "outputs": [],
   "source": [
    "using DataFrames\n",
    "\n",
    "using OnePiece"
   ]
  },
  {
   "cell_type": "code",
   "execution_count": null,
   "id": "2b31cd2e",
   "metadata": {
    "execution": {
     "iopub.execute_input": "2022-02-09T02:31:15.322612Z",
     "iopub.status.busy": "2022-02-09T02:31:10.217026Z",
     "iopub.status.idle": "2022-02-09T02:31:16.925383Z",
     "shell.execute_reply": "2022-02-09T02:31:16.923923Z"
    }
   },
   "outputs": [],
   "source": [
    "da = joinpath(@__DIR__, \"table.data\")\n",
    "\n",
    ";"
   ]
  },
  {
   "cell_type": "markdown",
   "id": "0c198306",
   "metadata": {},
   "source": [
    "## read"
   ]
  },
  {
   "cell_type": "code",
   "execution_count": null,
   "id": "e789c6a5",
   "metadata": {
    "execution": {
     "iopub.execute_input": "2022-02-09T02:31:16.930440Z",
     "iopub.status.busy": "2022-02-09T02:31:16.928973Z",
     "iopub.status.idle": "2022-02-09T02:32:02.615122Z",
     "shell.execute_reply": "2022-02-09T02:32:02.614484Z"
    }
   },
   "outputs": [],
   "source": [
    "OnePiece.io.table.read(joinpath(da, \"titanic.tsv\"))"
   ]
  },
  {
   "cell_type": "code",
   "execution_count": null,
   "id": "53b674e5",
   "metadata": {
    "execution": {
     "iopub.execute_input": "2022-02-09T02:32:02.617650Z",
     "iopub.status.busy": "2022-02-09T02:32:02.616898Z",
     "iopub.status.idle": "2022-02-09T02:32:03.282527Z",
     "shell.execute_reply": "2022-02-09T02:32:03.281902Z"
    }
   },
   "outputs": [],
   "source": [
    "OnePiece.io.table.read(joinpath(da, \"enst_gene.tsv.gz\"))"
   ]
  },
  {
   "cell_type": "code",
   "execution_count": null,
   "id": "e58868be",
   "metadata": {
    "execution": {
     "iopub.execute_input": "2022-02-09T02:32:03.285182Z",
     "iopub.status.busy": "2022-02-09T02:32:03.284352Z",
     "iopub.status.idle": "2022-02-09T02:32:04.048614Z",
     "shell.execute_reply": "2022-02-09T02:32:04.048031Z"
    }
   },
   "outputs": [],
   "source": [
    "OnePiece.io.table.read(joinpath(da, \"12859_2019_2886_MOESM2_ESM.xlsx\"); xl = \"HumanSpecific Genes\")"
   ]
  },
  {
   "cell_type": "markdown",
   "id": "e4b8ebb8",
   "metadata": {},
   "source": [
    "## write"
   ]
  },
  {
   "cell_type": "code",
   "execution_count": null,
   "id": "ff1ddff1",
   "metadata": {
    "execution": {
     "iopub.execute_input": "2022-02-09T02:32:04.051271Z",
     "iopub.status.busy": "2022-02-09T02:32:04.050478Z",
     "iopub.status.idle": "2022-02-09T02:32:04.647536Z",
     "shell.execute_reply": "2022-02-09T02:32:04.646881Z"
    }
   },
   "outputs": [],
   "source": [
    "co1 = 1:4\n",
    "\n",
    "co2 = 1.0:4\n",
    "\n",
    "da = DataFrame(\n",
    "    \"Column 1\" => co1,\n",
    "    \"Column 2\" => co2,\n",
    "    \"Column 3\" => string.(co1),\n",
    "    \"Column 4\" => string.(co2),\n",
    ")\n",
    "\n",
    "ts = joinpath(tempdir(), \"write.csv\")\n",
    "\n",
    ";"
   ]
  },
  {
   "cell_type": "code",
   "execution_count": null,
   "id": "2352d3f2",
   "metadata": {
    "execution": {
     "iopub.execute_input": "2022-02-09T02:32:04.650412Z",
     "iopub.status.busy": "2022-02-09T02:32:04.649470Z",
     "iopub.status.idle": "2022-02-09T02:32:05.979881Z",
     "shell.execute_reply": "2022-02-09T02:32:05.979172Z"
    }
   },
   "outputs": [],
   "source": [
    "try\n",
    "\n",
    "    OnePiece.io.table.write(ts, da)\n",
    "\n",
    "catch er\n",
    "\n",
    "    er\n",
    "\n",
    "end"
   ]
  },
  {
   "cell_type": "code",
   "execution_count": null,
   "id": "59b5598a",
   "metadata": {
    "execution": {
     "iopub.execute_input": "2022-02-09T02:32:05.982363Z",
     "iopub.status.busy": "2022-02-09T02:32:05.981512Z",
     "iopub.status.idle": "2022-02-09T02:32:05.999990Z",
     "shell.execute_reply": "2022-02-09T02:32:05.999135Z"
    }
   },
   "outputs": [],
   "source": [
    "OnePiece.io.table.write(replace(ts, \".csv\" => \".tsv\"), da)"
   ]
  }
 ],
 "metadata": {
  "@webio": {
   "lastCommId": "66af5eb15d6f47f79a6d81e87ac7b017",
   "lastKernelId": "6d333ff8-983e-424f-97e2-e83a98c8caf7"
  },
  "kernelspec": {
   "display_name": "Julia 1.7.1",
   "language": "julia",
   "name": "julia-1.7"
  },
  "language_info": {
   "file_extension": ".jl",
   "mimetype": "application/julia",
   "name": "julia",
   "version": "1.7.2"
  }
 },
 "nbformat": 4,
 "nbformat_minor": 5
}
