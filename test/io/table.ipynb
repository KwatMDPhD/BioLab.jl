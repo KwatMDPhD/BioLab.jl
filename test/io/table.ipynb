{
 "cells": [
  {
   "cell_type": "code",
   "execution_count": null,
   "id": "017464da",
   "metadata": {
    "execution": {
     "iopub.execute_input": "2022-02-11T08:08:28.093888Z",
     "iopub.status.busy": "2022-02-11T08:08:27.737724Z",
     "iopub.status.idle": "2022-02-11T08:08:28.277456Z",
     "shell.execute_reply": "2022-02-11T08:08:28.277004Z"
    }
   },
   "outputs": [],
   "source": [
    "TE = joinpath(tempdir(), \"OnePiece.test\")\n",
    "\n",
    "if isdir(TE)\n",
    "\n",
    "    rm(TE; recursive = true)\n",
    "\n",
    "    println(\"Removed \", TE, \".\")\n",
    "\n",
    "end\n",
    "\n",
    "mkdir(TE)\n",
    "\n",
    "println(\"Made \", TE, \".\")"
   ]
  },
  {
   "cell_type": "code",
   "execution_count": null,
   "id": "34e4701e",
   "metadata": {
    "execution": {
     "iopub.execute_input": "2022-02-11T08:08:28.279575Z",
     "iopub.status.busy": "2022-02-11T08:08:28.278905Z",
     "iopub.status.idle": "2022-02-11T08:08:37.406641Z",
     "shell.execute_reply": "2022-02-11T08:08:37.406244Z"
    }
   },
   "outputs": [],
   "source": [
    "using OnePiece"
   ]
  },
  {
   "cell_type": "markdown",
   "id": "b92a3da9",
   "metadata": {},
   "source": [
    "---"
   ]
  },
  {
   "cell_type": "code",
   "execution_count": null,
   "id": "2b31cd2e",
   "metadata": {
    "execution": {
     "iopub.execute_input": "2022-02-11T08:08:37.737425Z",
     "iopub.status.busy": "2022-02-11T08:08:37.408194Z",
     "iopub.status.idle": "2022-02-11T08:08:37.787167Z",
     "shell.execute_reply": "2022-02-11T08:08:37.786677Z"
    }
   },
   "outputs": [],
   "source": [
    "da = joinpath(@__DIR__, \"table.data\")\n",
    "\n",
    ";"
   ]
  },
  {
   "cell_type": "markdown",
   "id": "0c198306",
   "metadata": {},
   "source": [
    "## read"
   ]
  },
  {
   "cell_type": "code",
   "execution_count": null,
   "id": "e789c6a5",
   "metadata": {
    "execution": {
     "iopub.execute_input": "2022-02-11T08:08:37.789246Z",
     "iopub.status.busy": "2022-02-11T08:08:37.788668Z",
     "iopub.status.idle": "2022-02-11T08:09:00.591854Z",
     "shell.execute_reply": "2022-02-11T08:09:00.590215Z"
    }
   },
   "outputs": [],
   "source": [
    "OnePiece.io.table.read(joinpath(da, \"titanic.tsv\"))"
   ]
  },
  {
   "cell_type": "code",
   "execution_count": null,
   "id": "53b674e5",
   "metadata": {
    "execution": {
     "iopub.execute_input": "2022-02-11T08:09:00.593845Z",
     "iopub.status.busy": "2022-02-11T08:09:00.593304Z",
     "iopub.status.idle": "2022-02-11T08:09:01.055194Z",
     "shell.execute_reply": "2022-02-11T08:09:01.054803Z"
    }
   },
   "outputs": [],
   "source": [
    "OnePiece.io.table.read(joinpath(da, \"enst_gene.tsv.gz\"))"
   ]
  },
  {
   "cell_type": "code",
   "execution_count": null,
   "id": "e58868be",
   "metadata": {
    "execution": {
     "iopub.execute_input": "2022-02-11T08:09:01.057303Z",
     "iopub.status.busy": "2022-02-11T08:09:01.056771Z",
     "iopub.status.idle": "2022-02-11T08:09:01.517610Z",
     "shell.execute_reply": "2022-02-11T08:09:01.517208Z"
    }
   },
   "outputs": [],
   "source": [
    "OnePiece.io.table.read(joinpath(da, \"12859_2019_2886_MOESM2_ESM.xlsx\"); xl = \"HumanSpecific Genes\")"
   ]
  },
  {
   "cell_type": "markdown",
   "id": "e4b8ebb8",
   "metadata": {},
   "source": [
    "## write"
   ]
  },
  {
   "cell_type": "code",
   "execution_count": null,
   "id": "65b70b5d",
   "metadata": {
    "execution": {
     "iopub.execute_input": "2022-02-11T08:09:01.520049Z",
     "iopub.status.busy": "2022-02-11T08:09:01.519029Z",
     "iopub.status.idle": "2022-02-11T08:09:01.520964Z",
     "shell.execute_reply": "2022-02-11T08:09:01.520577Z"
    }
   },
   "outputs": [],
   "source": [
    "using DataFrames"
   ]
  },
  {
   "cell_type": "code",
   "execution_count": null,
   "id": "ff1ddff1",
   "metadata": {
    "execution": {
     "iopub.execute_input": "2022-02-11T08:09:01.522887Z",
     "iopub.status.busy": "2022-02-11T08:09:01.522378Z",
     "iopub.status.idle": "2022-02-11T08:09:01.851674Z",
     "shell.execute_reply": "2022-02-11T08:09:01.851139Z"
    }
   },
   "outputs": [],
   "source": [
    "co1 = 1:4\n",
    "\n",
    "co2 = 1.0:4\n",
    "\n",
    "da = DataFrame(\n",
    "    \"Column 1\" => co1,\n",
    "    \"Column 2\" => co2,\n",
    "    \"Column 3\" => string.(co1),\n",
    "    \"Column 4\" => string.(co2),\n",
    ")\n",
    "\n",
    "ts = joinpath(tempdir(), \"write.csv\")\n",
    "\n",
    ";"
   ]
  },
  {
   "cell_type": "code",
   "execution_count": null,
   "id": "2352d3f2",
   "metadata": {
    "execution": {
     "iopub.execute_input": "2022-02-11T08:09:01.853665Z",
     "iopub.status.busy": "2022-02-11T08:09:01.853086Z",
     "iopub.status.idle": "2022-02-11T08:09:02.653775Z",
     "shell.execute_reply": "2022-02-11T08:09:02.653341Z"
    }
   },
   "outputs": [],
   "source": [
    "try\n",
    "\n",
    "    OnePiece.io.table.write(ts, da)\n",
    "\n",
    "catch er\n",
    "\n",
    "    er\n",
    "\n",
    "end"
   ]
  },
  {
   "cell_type": "code",
   "execution_count": null,
   "id": "59b5598a",
   "metadata": {
    "execution": {
     "iopub.execute_input": "2022-02-11T08:09:02.655865Z",
     "iopub.status.busy": "2022-02-11T08:09:02.655211Z",
     "iopub.status.idle": "2022-02-11T08:09:02.668270Z",
     "shell.execute_reply": "2022-02-11T08:09:02.667835Z"
    }
   },
   "outputs": [],
   "source": [
    "OnePiece.io.table.write(replace(ts, \".csv\" => \".tsv\"), da)"
   ]
  },
  {
   "cell_type": "markdown",
   "id": "3f396855",
   "metadata": {},
   "source": [
    "---"
   ]
  },
  {
   "cell_type": "code",
   "execution_count": null,
   "id": "b4af2023",
   "metadata": {
    "execution": {
     "iopub.execute_input": "2022-02-11T08:09:02.670655Z",
     "iopub.status.busy": "2022-02-11T08:09:02.669830Z",
     "iopub.status.idle": "2022-02-11T08:09:02.672749Z",
     "shell.execute_reply": "2022-02-11T08:09:02.672376Z"
    }
   },
   "outputs": [],
   "source": [
    "if isdir(TE)\n",
    "\n",
    "    rm(TE; recursive = true)\n",
    "\n",
    "    println(\"Removed \", TE, \".\")\n",
    "\n",
    "end"
   ]
  }
 ],
 "metadata": {
  "kernelspec": {
   "display_name": "Julia 1.7.2",
   "language": "julia",
   "name": "julia-1.7"
  },
  "language_info": {
   "file_extension": ".jl",
   "mimetype": "application/julia",
   "name": "julia",
   "version": "1.7.2"
  }
 },
 "nbformat": 4,
 "nbformat_minor": 5
}
