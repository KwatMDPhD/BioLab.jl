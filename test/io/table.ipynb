{
 "cells": [
  {
   "cell_type": "code",
   "execution_count": null,
   "id": "34e4701e",
   "metadata": {
    "execution": {
     "iopub.execute_input": "2022-02-08T08:27:21.366973Z",
     "iopub.status.busy": "2022-02-08T08:27:20.963994Z",
     "iopub.status.idle": "2022-02-08T08:27:22.262540Z",
     "shell.execute_reply": "2022-02-08T08:27:22.262032Z"
    }
   },
   "outputs": [],
   "source": [
    "using Revise\n",
    "using BenchmarkTools"
   ]
  },
  {
   "cell_type": "code",
   "execution_count": null,
   "id": "7a444e5c",
   "metadata": {
    "execution": {
     "iopub.execute_input": "2022-02-08T08:27:22.264673Z",
     "iopub.status.busy": "2022-02-08T08:27:22.264067Z",
     "iopub.status.idle": "2022-02-08T08:27:41.369799Z",
     "shell.execute_reply": "2022-02-08T08:27:41.369269Z"
    }
   },
   "outputs": [],
   "source": [
    "using DataFrames\n",
    "\n",
    "using OnePiece"
   ]
  },
  {
   "cell_type": "code",
   "execution_count": null,
   "id": "2b31cd2e",
   "metadata": {
    "execution": {
     "iopub.execute_input": "2022-02-08T08:27:43.042227Z",
     "iopub.status.busy": "2022-02-08T08:27:41.371142Z",
     "iopub.status.idle": "2022-02-08T08:27:43.766007Z",
     "shell.execute_reply": "2022-02-08T08:27:43.765532Z"
    }
   },
   "outputs": [],
   "source": [
    "da = joinpath(@__DIR__, \"table.data\")\n",
    "\n",
    ";"
   ]
  },
  {
   "cell_type": "markdown",
   "id": "0c198306",
   "metadata": {},
   "source": [
    "## read"
   ]
  },
  {
   "cell_type": "code",
   "execution_count": null,
   "id": "e789c6a5",
   "metadata": {
    "execution": {
     "iopub.execute_input": "2022-02-08T08:27:43.767940Z",
     "iopub.status.busy": "2022-02-08T08:27:43.767420Z",
     "iopub.status.idle": "2022-02-08T08:28:11.225757Z",
     "shell.execute_reply": "2022-02-08T08:28:11.225288Z"
    }
   },
   "outputs": [],
   "source": [
    "OnePiece.io.table.read(joinpath(da, \"titanic.tsv\"))"
   ]
  },
  {
   "cell_type": "code",
   "execution_count": null,
   "id": "53b674e5",
   "metadata": {
    "execution": {
     "iopub.execute_input": "2022-02-08T08:28:11.227715Z",
     "iopub.status.busy": "2022-02-08T08:28:11.227120Z",
     "iopub.status.idle": "2022-02-08T08:28:11.689046Z",
     "shell.execute_reply": "2022-02-08T08:28:11.688655Z"
    }
   },
   "outputs": [],
   "source": [
    "OnePiece.io.table.read(joinpath(da, \"enst_gene.tsv.gz\"))"
   ]
  },
  {
   "cell_type": "code",
   "execution_count": null,
   "id": "e58868be",
   "metadata": {
    "execution": {
     "iopub.execute_input": "2022-02-08T08:28:11.691023Z",
     "iopub.status.busy": "2022-02-08T08:28:11.690523Z",
     "iopub.status.idle": "2022-02-08T08:28:12.267301Z",
     "shell.execute_reply": "2022-02-08T08:28:12.266903Z"
    }
   },
   "outputs": [],
   "source": [
    "OnePiece.io.table.read(joinpath(da, \"12859_2019_2886_MOESM2_ESM.xlsx\"); xl = \"HumanSpecific Genes\")"
   ]
  },
  {
   "cell_type": "markdown",
   "id": "e4b8ebb8",
   "metadata": {},
   "source": [
    "## write"
   ]
  },
  {
   "cell_type": "code",
   "execution_count": null,
   "id": "ff1ddff1",
   "metadata": {
    "execution": {
     "iopub.execute_input": "2022-02-08T08:28:12.269472Z",
     "iopub.status.busy": "2022-02-08T08:28:12.268881Z",
     "iopub.status.idle": "2022-02-08T08:28:12.622044Z",
     "shell.execute_reply": "2022-02-08T08:28:12.621580Z"
    }
   },
   "outputs": [],
   "source": [
    "co1 = 1:4\n",
    "\n",
    "co2 = 1.0:4\n",
    "\n",
    "da = DataFrame(\n",
    "    \"Column 1\" => co1,\n",
    "    \"Column 2\" => co2,\n",
    "    \"Column 3\" => string.(co1),\n",
    "    \"Column 4\" => string.(co2),\n",
    ")\n",
    "\n",
    "ts = joinpath(tempdir(), \"write.csv\")\n",
    "\n",
    ";"
   ]
  },
  {
   "cell_type": "code",
   "execution_count": null,
   "id": "2352d3f2",
   "metadata": {
    "execution": {
     "iopub.execute_input": "2022-02-08T08:28:12.624001Z",
     "iopub.status.busy": "2022-02-08T08:28:12.623507Z",
     "iopub.status.idle": "2022-02-08T08:28:13.588793Z",
     "shell.execute_reply": "2022-02-08T08:28:13.588251Z"
    }
   },
   "outputs": [],
   "source": [
    "try\n",
    "\n",
    "    OnePiece.io.table.write(ts, da)\n",
    "\n",
    "catch er\n",
    "\n",
    "    er\n",
    "\n",
    "end"
   ]
  },
  {
   "cell_type": "code",
   "execution_count": null,
   "id": "59b5598a",
   "metadata": {
    "execution": {
     "iopub.execute_input": "2022-02-08T08:28:13.590717Z",
     "iopub.status.busy": "2022-02-08T08:28:13.590160Z",
     "iopub.status.idle": "2022-02-08T08:28:13.608201Z",
     "shell.execute_reply": "2022-02-08T08:28:13.607776Z"
    }
   },
   "outputs": [],
   "source": [
    "OnePiece.io.table.write(replace(ts, \".csv\" => \".tsv\"), da)"
   ]
  }
 ],
 "metadata": {
  "@webio": {
   "lastCommId": "66af5eb15d6f47f79a6d81e87ac7b017",
   "lastKernelId": "6d333ff8-983e-424f-97e2-e83a98c8caf7"
  },
  "kernelspec": {
   "display_name": "Julia 1.7.1",
   "language": "julia",
   "name": "julia-1.7"
  },
  "language_info": {
   "file_extension": ".jl",
   "mimetype": "application/julia",
   "name": "julia",
   "version": "1.7.1"
  }
 },
 "nbformat": 4,
 "nbformat_minor": 5
}
