{
 "cells": [
  {
   "cell_type": "code",
   "execution_count": null,
   "id": "017464da",
   "metadata": {
    "execution": {
     "iopub.execute_input": "2022-02-13T05:29:21.683712Z",
     "iopub.status.busy": "2022-02-13T05:29:21.302362Z",
     "iopub.status.idle": "2022-02-13T05:29:21.892679Z",
     "shell.execute_reply": "2022-02-13T05:29:21.892083Z"
    }
   },
   "outputs": [],
   "source": [
    "TE = joinpath(tempdir(), \"OnePiece.test\")\n",
    "\n",
    "if isdir(TE)\n",
    "\n",
    "    rm(TE, recursive = true)\n",
    "\n",
    "    println(\"Removed \", TE, \".\")\n",
    "\n",
    "end\n",
    "\n",
    "mkdir(TE)\n",
    "\n",
    "println(\"Made \", TE, \".\")"
   ]
  },
  {
   "cell_type": "code",
   "execution_count": null,
   "id": "34e4701e",
   "metadata": {
    "execution": {
     "iopub.execute_input": "2022-02-13T05:29:21.894591Z",
     "iopub.status.busy": "2022-02-13T05:29:21.894011Z",
     "iopub.status.idle": "2022-02-13T05:29:30.826906Z",
     "shell.execute_reply": "2022-02-13T05:29:30.826511Z"
    }
   },
   "outputs": [],
   "source": [
    "using OnePiece"
   ]
  },
  {
   "cell_type": "markdown",
   "id": "b92a3da9",
   "metadata": {},
   "source": [
    "---"
   ]
  },
  {
   "cell_type": "code",
   "execution_count": null,
   "id": "2b31cd2e",
   "metadata": {
    "execution": {
     "iopub.execute_input": "2022-02-13T05:29:31.146683Z",
     "iopub.status.busy": "2022-02-13T05:29:30.828216Z",
     "iopub.status.idle": "2022-02-13T05:29:31.194325Z",
     "shell.execute_reply": "2022-02-13T05:29:31.193872Z"
    }
   },
   "outputs": [],
   "source": [
    "da = joinpath(@__DIR__, \"table.data\")\n",
    "\n",
    ";"
   ]
  },
  {
   "cell_type": "markdown",
   "id": "0c198306",
   "metadata": {},
   "source": [
    "## read"
   ]
  },
  {
   "cell_type": "code",
   "execution_count": null,
   "id": "e789c6a5",
   "metadata": {
    "execution": {
     "iopub.execute_input": "2022-02-13T05:29:31.196259Z",
     "iopub.status.busy": "2022-02-13T05:29:31.195755Z",
     "iopub.status.idle": "2022-02-13T05:29:53.990877Z",
     "shell.execute_reply": "2022-02-13T05:29:53.990417Z"
    }
   },
   "outputs": [],
   "source": [
    "OnePiece.io.table.read(joinpath(da, \"titanic.tsv\"))"
   ]
  },
  {
   "cell_type": "code",
   "execution_count": null,
   "id": "53b674e5",
   "metadata": {
    "execution": {
     "iopub.execute_input": "2022-02-13T05:29:53.992791Z",
     "iopub.status.busy": "2022-02-13T05:29:53.992213Z",
     "iopub.status.idle": "2022-02-13T05:29:54.496913Z",
     "shell.execute_reply": "2022-02-13T05:29:54.496447Z"
    }
   },
   "outputs": [],
   "source": [
    "OnePiece.io.table.read(joinpath(da, \"enst_gene.tsv.gz\"))"
   ]
  },
  {
   "cell_type": "code",
   "execution_count": null,
   "id": "e58868be",
   "metadata": {
    "execution": {
     "iopub.execute_input": "2022-02-13T05:29:54.498827Z",
     "iopub.status.busy": "2022-02-13T05:29:54.498245Z",
     "iopub.status.idle": "2022-02-13T05:29:55.033152Z",
     "shell.execute_reply": "2022-02-13T05:29:55.032639Z"
    }
   },
   "outputs": [],
   "source": [
    "OnePiece.io.table.read(joinpath(da, \"12859_2019_2886_MOESM2_ESM.xlsx\"); xl = \"HumanSpecific Genes\")"
   ]
  },
  {
   "cell_type": "markdown",
   "id": "e4b8ebb8",
   "metadata": {},
   "source": [
    "## write"
   ]
  },
  {
   "cell_type": "code",
   "execution_count": null,
   "id": "65b70b5d",
   "metadata": {
    "execution": {
     "iopub.execute_input": "2022-02-13T05:29:55.035245Z",
     "iopub.status.busy": "2022-02-13T05:29:55.034520Z",
     "iopub.status.idle": "2022-02-13T05:29:55.036229Z",
     "shell.execute_reply": "2022-02-13T05:29:55.035762Z"
    }
   },
   "outputs": [],
   "source": [
    "using DataFrames"
   ]
  },
  {
   "cell_type": "code",
   "execution_count": null,
   "id": "ff1ddff1",
   "metadata": {
    "execution": {
     "iopub.execute_input": "2022-02-13T05:29:55.038254Z",
     "iopub.status.busy": "2022-02-13T05:29:55.037582Z",
     "iopub.status.idle": "2022-02-13T05:29:55.392207Z",
     "shell.execute_reply": "2022-02-13T05:29:55.391697Z"
    }
   },
   "outputs": [],
   "source": [
    "co1 = 1:4\n",
    "\n",
    "co2 = 1.0:4\n",
    "\n",
    "da = DataFrame(\n",
    "    \"Column 1\" => co1,\n",
    "    \"Column 2\" => co2,\n",
    "    \"Column 3\" => string.(co1),\n",
    "    \"Column 4\" => string.(co2),\n",
    ")\n",
    "\n",
    "ts = joinpath(tempdir(), \"write.csv\")\n",
    "\n",
    ";"
   ]
  },
  {
   "cell_type": "code",
   "execution_count": null,
   "id": "2352d3f2",
   "metadata": {
    "execution": {
     "iopub.execute_input": "2022-02-13T05:29:55.394205Z",
     "iopub.status.busy": "2022-02-13T05:29:55.393507Z",
     "iopub.status.idle": "2022-02-13T05:29:56.275226Z",
     "shell.execute_reply": "2022-02-13T05:29:56.274705Z"
    }
   },
   "outputs": [],
   "source": [
    "try\n",
    "\n",
    "    OnePiece.io.table.write(ts, da)\n",
    "\n",
    "catch er\n",
    "\n",
    "    er\n",
    "\n",
    "end"
   ]
  },
  {
   "cell_type": "code",
   "execution_count": null,
   "id": "59b5598a",
   "metadata": {
    "execution": {
     "iopub.execute_input": "2022-02-13T05:29:56.277096Z",
     "iopub.status.busy": "2022-02-13T05:29:56.276530Z",
     "iopub.status.idle": "2022-02-13T05:29:56.281368Z",
     "shell.execute_reply": "2022-02-13T05:29:56.280804Z"
    }
   },
   "outputs": [],
   "source": [
    "OnePiece.io.table.write(replace(ts, \".csv\" => \".tsv\"), da)"
   ]
  },
  {
   "cell_type": "markdown",
   "id": "3f396855",
   "metadata": {},
   "source": [
    "---"
   ]
  },
  {
   "cell_type": "code",
   "execution_count": null,
   "id": "b4af2023",
   "metadata": {
    "execution": {
     "iopub.execute_input": "2022-02-13T05:29:56.283448Z",
     "iopub.status.busy": "2022-02-13T05:29:56.282826Z",
     "iopub.status.idle": "2022-02-13T05:29:56.285430Z",
     "shell.execute_reply": "2022-02-13T05:29:56.284985Z"
    }
   },
   "outputs": [],
   "source": [
    "if isdir(TE)\n",
    "\n",
    "    rm(TE, recursive = true)\n",
    "\n",
    "    println(\"Removed \", TE, \".\")\n",
    "\n",
    "end"
   ]
  }
 ],
 "metadata": {
  "kernelspec": {
   "display_name": "Julia 1.7.2",
   "language": "julia",
   "name": "julia-1.7"
  },
  "language_info": {
   "file_extension": ".jl",
   "mimetype": "application/julia",
   "name": "julia",
   "version": "1.7.2"
  }
 },
 "nbformat": 4,
 "nbformat_minor": 5
}
