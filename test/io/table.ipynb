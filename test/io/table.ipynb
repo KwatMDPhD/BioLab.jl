{
 "cells": [
  {
   "cell_type": "code",
   "execution_count": null,
   "id": "34e4701e",
   "metadata": {
    "execution": {
     "iopub.execute_input": "2022-02-09T22:36:41.963108Z",
     "iopub.status.busy": "2022-02-09T22:36:41.580422Z",
     "iopub.status.idle": "2022-02-09T22:36:42.937769Z",
     "shell.execute_reply": "2022-02-09T22:36:42.937238Z"
    }
   },
   "outputs": [],
   "source": [
    "using Revise\n",
    "using BenchmarkTools"
   ]
  },
  {
   "cell_type": "code",
   "execution_count": null,
   "id": "7a444e5c",
   "metadata": {
    "execution": {
     "iopub.execute_input": "2022-02-09T22:36:42.939831Z",
     "iopub.status.busy": "2022-02-09T22:36:42.939168Z",
     "iopub.status.idle": "2022-02-09T22:36:53.318661Z",
     "shell.execute_reply": "2022-02-09T22:36:53.317971Z"
    }
   },
   "outputs": [],
   "source": [
    "using DataFrames\n",
    "\n",
    "using OnePiece"
   ]
  },
  {
   "cell_type": "code",
   "execution_count": null,
   "id": "2b31cd2e",
   "metadata": {
    "execution": {
     "iopub.execute_input": "2022-02-09T22:36:55.018918Z",
     "iopub.status.busy": "2022-02-09T22:36:53.320053Z",
     "iopub.status.idle": "2022-02-09T22:36:55.607455Z",
     "shell.execute_reply": "2022-02-09T22:36:55.607035Z"
    }
   },
   "outputs": [],
   "source": [
    "da = joinpath(@__DIR__, \"table.data\")\n",
    "\n",
    ";"
   ]
  },
  {
   "cell_type": "markdown",
   "id": "0c198306",
   "metadata": {},
   "source": [
    "## read"
   ]
  },
  {
   "cell_type": "code",
   "execution_count": null,
   "id": "e789c6a5",
   "metadata": {
    "execution": {
     "iopub.execute_input": "2022-02-09T22:36:55.609451Z",
     "iopub.status.busy": "2022-02-09T22:36:55.608906Z",
     "iopub.status.idle": "2022-02-09T22:37:22.463313Z",
     "shell.execute_reply": "2022-02-09T22:37:22.462805Z"
    }
   },
   "outputs": [],
   "source": [
    "OnePiece.io.table.read(joinpath(da, \"titanic.tsv\"))"
   ]
  },
  {
   "cell_type": "code",
   "execution_count": null,
   "id": "53b674e5",
   "metadata": {
    "execution": {
     "iopub.execute_input": "2022-02-09T22:37:22.465207Z",
     "iopub.status.busy": "2022-02-09T22:37:22.464673Z",
     "iopub.status.idle": "2022-02-09T22:37:22.919560Z",
     "shell.execute_reply": "2022-02-09T22:37:22.918751Z"
    }
   },
   "outputs": [],
   "source": [
    "OnePiece.io.table.read(joinpath(da, \"enst_gene.tsv.gz\"))"
   ]
  },
  {
   "cell_type": "code",
   "execution_count": null,
   "id": "e58868be",
   "metadata": {
    "execution": {
     "iopub.execute_input": "2022-02-09T22:37:22.921729Z",
     "iopub.status.busy": "2022-02-09T22:37:22.921074Z",
     "iopub.status.idle": "2022-02-09T22:37:23.562199Z",
     "shell.execute_reply": "2022-02-09T22:37:23.561821Z"
    }
   },
   "outputs": [],
   "source": [
    "OnePiece.io.table.read(joinpath(da, \"12859_2019_2886_MOESM2_ESM.xlsx\"); xl = \"HumanSpecific Genes\")"
   ]
  },
  {
   "cell_type": "markdown",
   "id": "e4b8ebb8",
   "metadata": {},
   "source": [
    "## write"
   ]
  },
  {
   "cell_type": "code",
   "execution_count": null,
   "id": "ff1ddff1",
   "metadata": {
    "execution": {
     "iopub.execute_input": "2022-02-09T22:37:23.564073Z",
     "iopub.status.busy": "2022-02-09T22:37:23.563563Z",
     "iopub.status.idle": "2022-02-09T22:37:23.939038Z",
     "shell.execute_reply": "2022-02-09T22:37:23.938664Z"
    }
   },
   "outputs": [],
   "source": [
    "co1 = 1:4\n",
    "\n",
    "co2 = 1.0:4\n",
    "\n",
    "da = DataFrame(\n",
    "    \"Column 1\" => co1,\n",
    "    \"Column 2\" => co2,\n",
    "    \"Column 3\" => string.(co1),\n",
    "    \"Column 4\" => string.(co2),\n",
    ")\n",
    "\n",
    "ts = joinpath(tempdir(), \"write.csv\")\n",
    "\n",
    ";"
   ]
  },
  {
   "cell_type": "code",
   "execution_count": null,
   "id": "2352d3f2",
   "metadata": {
    "execution": {
     "iopub.execute_input": "2022-02-09T22:37:23.941416Z",
     "iopub.status.busy": "2022-02-09T22:37:23.940792Z",
     "iopub.status.idle": "2022-02-09T22:37:24.839733Z",
     "shell.execute_reply": "2022-02-09T22:37:24.839314Z"
    }
   },
   "outputs": [],
   "source": [
    "try\n",
    "\n",
    "    OnePiece.io.table.write(ts, da)\n",
    "\n",
    "catch er\n",
    "\n",
    "    er\n",
    "\n",
    "end"
   ]
  },
  {
   "cell_type": "code",
   "execution_count": null,
   "id": "59b5598a",
   "metadata": {
    "execution": {
     "iopub.execute_input": "2022-02-09T22:37:24.841602Z",
     "iopub.status.busy": "2022-02-09T22:37:24.840991Z",
     "iopub.status.idle": "2022-02-09T22:37:24.857499Z",
     "shell.execute_reply": "2022-02-09T22:37:24.856925Z"
    }
   },
   "outputs": [],
   "source": [
    "OnePiece.io.table.write(replace(ts, \".csv\" => \".tsv\"), da)"
   ]
  }
 ],
 "metadata": {
  "@webio": {
   "lastCommId": "66af5eb15d6f47f79a6d81e87ac7b017",
   "lastKernelId": "6d333ff8-983e-424f-97e2-e83a98c8caf7"
  },
  "kernelspec": {
   "display_name": "Julia 1.7.2",
   "language": "julia",
   "name": "julia-1.7"
  },
  "language_info": {
   "file_extension": ".jl",
   "mimetype": "application/julia",
   "name": "julia",
   "version": "1.7.2"
  }
 },
 "nbformat": 4,
 "nbformat_minor": 5
}
