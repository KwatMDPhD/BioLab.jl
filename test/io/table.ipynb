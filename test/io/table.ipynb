{
 "cells": [
  {
   "cell_type": "code",
   "execution_count": null,
   "id": "34e4701e",
   "metadata": {
    "execution": {
     "iopub.execute_input": "2022-02-08T11:22:46.902545Z",
     "iopub.status.busy": "2022-02-08T11:22:46.505208Z",
     "iopub.status.idle": "2022-02-08T11:22:47.723461Z",
     "shell.execute_reply": "2022-02-08T11:22:47.722975Z"
    }
   },
   "outputs": [],
   "source": [
    "using Revise\n",
    "using BenchmarkTools"
   ]
  },
  {
   "cell_type": "code",
   "execution_count": null,
   "id": "7a444e5c",
   "metadata": {
    "execution": {
     "iopub.execute_input": "2022-02-08T11:22:47.725518Z",
     "iopub.status.busy": "2022-02-08T11:22:47.724887Z",
     "iopub.status.idle": "2022-02-08T11:22:59.136370Z",
     "shell.execute_reply": "2022-02-08T11:22:59.135860Z"
    }
   },
   "outputs": [],
   "source": [
    "using DataFrames\n",
    "\n",
    "using OnePiece"
   ]
  },
  {
   "cell_type": "code",
   "execution_count": null,
   "id": "2b31cd2e",
   "metadata": {
    "execution": {
     "iopub.execute_input": "2022-02-08T11:23:00.903204Z",
     "iopub.status.busy": "2022-02-08T11:22:59.137726Z",
     "iopub.status.idle": "2022-02-08T11:23:01.513828Z",
     "shell.execute_reply": "2022-02-08T11:23:01.513342Z"
    }
   },
   "outputs": [],
   "source": [
    "da = joinpath(@__DIR__, \"table.data\")\n",
    "\n",
    ";"
   ]
  },
  {
   "cell_type": "markdown",
   "id": "0c198306",
   "metadata": {},
   "source": [
    "## read"
   ]
  },
  {
   "cell_type": "code",
   "execution_count": null,
   "id": "e789c6a5",
   "metadata": {
    "execution": {
     "iopub.execute_input": "2022-02-08T11:23:01.515765Z",
     "iopub.status.busy": "2022-02-08T11:23:01.515179Z",
     "iopub.status.idle": "2022-02-08T11:23:27.721990Z",
     "shell.execute_reply": "2022-02-08T11:23:27.721559Z"
    }
   },
   "outputs": [],
   "source": [
    "OnePiece.io.table.read(joinpath(da, \"titanic.tsv\"))"
   ]
  },
  {
   "cell_type": "code",
   "execution_count": null,
   "id": "53b674e5",
   "metadata": {
    "execution": {
     "iopub.execute_input": "2022-02-08T11:23:27.723799Z",
     "iopub.status.busy": "2022-02-08T11:23:27.723268Z",
     "iopub.status.idle": "2022-02-08T11:23:28.195481Z",
     "shell.execute_reply": "2022-02-08T11:23:28.195088Z"
    }
   },
   "outputs": [],
   "source": [
    "OnePiece.io.table.read(joinpath(da, \"enst_gene.tsv.gz\"))"
   ]
  },
  {
   "cell_type": "code",
   "execution_count": null,
   "id": "e58868be",
   "metadata": {
    "execution": {
     "iopub.execute_input": "2022-02-08T11:23:28.197262Z",
     "iopub.status.busy": "2022-02-08T11:23:28.196739Z",
     "iopub.status.idle": "2022-02-08T11:23:28.789489Z",
     "shell.execute_reply": "2022-02-08T11:23:28.788343Z"
    }
   },
   "outputs": [],
   "source": [
    "OnePiece.io.table.read(joinpath(da, \"12859_2019_2886_MOESM2_ESM.xlsx\"); xl = \"HumanSpecific Genes\")"
   ]
  },
  {
   "cell_type": "markdown",
   "id": "e4b8ebb8",
   "metadata": {},
   "source": [
    "## write"
   ]
  },
  {
   "cell_type": "code",
   "execution_count": null,
   "id": "ff1ddff1",
   "metadata": {
    "execution": {
     "iopub.execute_input": "2022-02-08T11:23:28.791496Z",
     "iopub.status.busy": "2022-02-08T11:23:28.790941Z",
     "iopub.status.idle": "2022-02-08T11:23:29.130174Z",
     "shell.execute_reply": "2022-02-08T11:23:29.129660Z"
    }
   },
   "outputs": [],
   "source": [
    "co1 = 1:4\n",
    "\n",
    "co2 = 1.0:4\n",
    "\n",
    "da = DataFrame(\n",
    "    \"Column 1\" => co1,\n",
    "    \"Column 2\" => co2,\n",
    "    \"Column 3\" => string.(co1),\n",
    "    \"Column 4\" => string.(co2),\n",
    ")\n",
    "\n",
    "ts = joinpath(tempdir(), \"write.csv\")\n",
    "\n",
    ";"
   ]
  },
  {
   "cell_type": "code",
   "execution_count": null,
   "id": "2352d3f2",
   "metadata": {
    "execution": {
     "iopub.execute_input": "2022-02-08T11:23:29.132101Z",
     "iopub.status.busy": "2022-02-08T11:23:29.131463Z",
     "iopub.status.idle": "2022-02-08T11:23:29.973172Z",
     "shell.execute_reply": "2022-02-08T11:23:29.972684Z"
    }
   },
   "outputs": [],
   "source": [
    "try\n",
    "\n",
    "    OnePiece.io.table.write(ts, da)\n",
    "\n",
    "catch er\n",
    "\n",
    "    er\n",
    "\n",
    "end"
   ]
  },
  {
   "cell_type": "code",
   "execution_count": null,
   "id": "59b5598a",
   "metadata": {
    "execution": {
     "iopub.execute_input": "2022-02-08T11:23:29.974940Z",
     "iopub.status.busy": "2022-02-08T11:23:29.974404Z",
     "iopub.status.idle": "2022-02-08T11:23:29.991362Z",
     "shell.execute_reply": "2022-02-08T11:23:29.990854Z"
    }
   },
   "outputs": [],
   "source": [
    "OnePiece.io.table.write(replace(ts, \".csv\" => \".tsv\"), da)"
   ]
  }
 ],
 "metadata": {
  "@webio": {
   "lastCommId": "66af5eb15d6f47f79a6d81e87ac7b017",
   "lastKernelId": "6d333ff8-983e-424f-97e2-e83a98c8caf7"
  },
  "kernelspec": {
   "display_name": "Julia 1.7.1",
   "language": "julia",
   "name": "julia-1.7"
  },
  "language_info": {
   "file_extension": ".jl",
   "mimetype": "application/julia",
   "name": "julia",
   "version": "1.7.1"
  }
 },
 "nbformat": 4,
 "nbformat_minor": 5
}
