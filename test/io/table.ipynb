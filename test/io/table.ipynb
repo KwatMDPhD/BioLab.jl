{
 "cells": [
  {
   "cell_type": "code",
   "execution_count": null,
   "id": "017464da",
   "metadata": {
    "execution": {
     "iopub.execute_input": "2022-02-14T16:59:06.813268Z",
     "iopub.status.busy": "2022-02-14T16:59:06.426573Z",
     "iopub.status.idle": "2022-02-14T16:59:07.026794Z",
     "shell.execute_reply": "2022-02-14T16:59:07.026205Z"
    }
   },
   "outputs": [],
   "source": [
    "TE = joinpath(tempdir(), \"OnePiece.test\")\n",
    "\n",
    "if isdir(TE)\n",
    "\n",
    "    rm(TE, recursive = true)\n",
    "\n",
    "    println(\"Removed \", TE, \".\")\n",
    "\n",
    "end\n",
    "\n",
    "mkdir(TE)\n",
    "\n",
    "println(\"Made \", TE, \".\")"
   ]
  },
  {
   "cell_type": "code",
   "execution_count": null,
   "id": "34e4701e",
   "metadata": {
    "execution": {
     "iopub.execute_input": "2022-02-14T16:59:07.028865Z",
     "iopub.status.busy": "2022-02-14T16:59:07.028128Z",
     "iopub.status.idle": "2022-02-14T16:59:16.736036Z",
     "shell.execute_reply": "2022-02-14T16:59:16.735582Z"
    }
   },
   "outputs": [],
   "source": [
    "using OnePiece"
   ]
  },
  {
   "cell_type": "markdown",
   "id": "b92a3da9",
   "metadata": {},
   "source": [
    "---"
   ]
  },
  {
   "cell_type": "code",
   "execution_count": null,
   "id": "2b31cd2e",
   "metadata": {
    "execution": {
     "iopub.execute_input": "2022-02-14T16:59:17.099047Z",
     "iopub.status.busy": "2022-02-14T16:59:16.737359Z",
     "iopub.status.idle": "2022-02-14T16:59:17.154901Z",
     "shell.execute_reply": "2022-02-14T16:59:17.154377Z"
    }
   },
   "outputs": [],
   "source": [
    "da = joinpath(@__DIR__, \"table.data\")\n",
    "\n",
    ";"
   ]
  },
  {
   "cell_type": "markdown",
   "id": "0c198306",
   "metadata": {},
   "source": [
    "## read"
   ]
  },
  {
   "cell_type": "code",
   "execution_count": null,
   "id": "e789c6a5",
   "metadata": {
    "execution": {
     "iopub.execute_input": "2022-02-14T16:59:17.156899Z",
     "iopub.status.busy": "2022-02-14T16:59:17.156312Z",
     "iopub.status.idle": "2022-02-14T16:59:41.735889Z",
     "shell.execute_reply": "2022-02-14T16:59:41.734356Z"
    }
   },
   "outputs": [],
   "source": [
    "OnePiece.io.table.read(joinpath(da, \"titanic.tsv\"))"
   ]
  },
  {
   "cell_type": "code",
   "execution_count": null,
   "id": "53b674e5",
   "metadata": {
    "execution": {
     "iopub.execute_input": "2022-02-14T16:59:41.737712Z",
     "iopub.status.busy": "2022-02-14T16:59:41.737211Z",
     "iopub.status.idle": "2022-02-14T16:59:42.174200Z",
     "shell.execute_reply": "2022-02-14T16:59:42.173805Z"
    }
   },
   "outputs": [],
   "source": [
    "OnePiece.io.table.read(joinpath(da, \"enst_gene.tsv.gz\"))"
   ]
  },
  {
   "cell_type": "code",
   "execution_count": null,
   "id": "e58868be",
   "metadata": {
    "execution": {
     "iopub.execute_input": "2022-02-14T16:59:42.176078Z",
     "iopub.status.busy": "2022-02-14T16:59:42.175519Z",
     "iopub.status.idle": "2022-02-14T16:59:42.682819Z",
     "shell.execute_reply": "2022-02-14T16:59:42.681573Z"
    }
   },
   "outputs": [],
   "source": [
    "OnePiece.io.table.read(joinpath(da, \"12859_2019_2886_MOESM2_ESM.xlsx\"); xl = \"HumanSpecific Genes\")"
   ]
  },
  {
   "cell_type": "markdown",
   "id": "e4b8ebb8",
   "metadata": {},
   "source": [
    "## write"
   ]
  },
  {
   "cell_type": "code",
   "execution_count": null,
   "id": "65b70b5d",
   "metadata": {
    "execution": {
     "iopub.execute_input": "2022-02-14T16:59:42.685324Z",
     "iopub.status.busy": "2022-02-14T16:59:42.684468Z",
     "iopub.status.idle": "2022-02-14T16:59:42.686143Z",
     "shell.execute_reply": "2022-02-14T16:59:42.685771Z"
    }
   },
   "outputs": [],
   "source": [
    "using DataFrames"
   ]
  },
  {
   "cell_type": "code",
   "execution_count": null,
   "id": "ff1ddff1",
   "metadata": {
    "execution": {
     "iopub.execute_input": "2022-02-14T16:59:42.688127Z",
     "iopub.status.busy": "2022-02-14T16:59:42.687628Z",
     "iopub.status.idle": "2022-02-14T16:59:43.009526Z",
     "shell.execute_reply": "2022-02-14T16:59:43.009086Z"
    }
   },
   "outputs": [],
   "source": [
    "co1 = 1:4\n",
    "\n",
    "co2 = 1.0:4\n",
    "\n",
    "da = DataFrame(\n",
    "    \"Column 1\" => co1,\n",
    "    \"Column 2\" => co2,\n",
    "    \"Column 3\" => string.(co1),\n",
    "    \"Column 4\" => string.(co2),\n",
    ")\n",
    "\n",
    "ts = joinpath(tempdir(), \"write.csv\")\n",
    "\n",
    ";"
   ]
  },
  {
   "cell_type": "code",
   "execution_count": null,
   "id": "2352d3f2",
   "metadata": {
    "execution": {
     "iopub.execute_input": "2022-02-14T16:59:43.011381Z",
     "iopub.status.busy": "2022-02-14T16:59:43.010877Z",
     "iopub.status.idle": "2022-02-14T16:59:43.836298Z",
     "shell.execute_reply": "2022-02-14T16:59:43.835902Z"
    }
   },
   "outputs": [],
   "source": [
    "try\n",
    "\n",
    "    OnePiece.io.table.write(ts, da)\n",
    "\n",
    "catch er\n",
    "\n",
    "    er\n",
    "\n",
    "end"
   ]
  },
  {
   "cell_type": "code",
   "execution_count": null,
   "id": "59b5598a",
   "metadata": {
    "execution": {
     "iopub.execute_input": "2022-02-14T16:59:43.837897Z",
     "iopub.status.busy": "2022-02-14T16:59:43.837402Z",
     "iopub.status.idle": "2022-02-14T16:59:43.841868Z",
     "shell.execute_reply": "2022-02-14T16:59:43.841440Z"
    }
   },
   "outputs": [],
   "source": [
    "OnePiece.io.table.write(replace(ts, \".csv\" => \".tsv\"), da)"
   ]
  },
  {
   "cell_type": "markdown",
   "id": "3f396855",
   "metadata": {},
   "source": [
    "---"
   ]
  },
  {
   "cell_type": "code",
   "execution_count": null,
   "id": "b4af2023",
   "metadata": {
    "execution": {
     "iopub.execute_input": "2022-02-14T16:59:43.844863Z",
     "iopub.status.busy": "2022-02-14T16:59:43.843880Z",
     "iopub.status.idle": "2022-02-14T16:59:43.846887Z",
     "shell.execute_reply": "2022-02-14T16:59:43.846474Z"
    }
   },
   "outputs": [],
   "source": [
    "if isdir(TE)\n",
    "\n",
    "    rm(TE, recursive = true)\n",
    "\n",
    "    println(\"Removed \", TE, \".\")\n",
    "\n",
    "end"
   ]
  }
 ],
 "metadata": {
  "kernelspec": {
   "display_name": "Julia 1.7.2",
   "language": "julia",
   "name": "julia-1.7"
  },
  "language_info": {
   "file_extension": ".jl",
   "mimetype": "application/julia",
   "name": "julia",
   "version": "1.7.2"
  }
 },
 "nbformat": 4,
 "nbformat_minor": 5
}
