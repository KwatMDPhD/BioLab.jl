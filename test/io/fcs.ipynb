{
 "cells": [
  {
   "cell_type": "code",
   "execution_count": null,
   "id": "34e4701e",
   "metadata": {
    "execution": {
     "iopub.execute_input": "2022-02-09T02:32:24.648606Z",
     "iopub.status.busy": "2022-02-09T02:32:24.224316Z",
     "iopub.status.idle": "2022-02-09T02:32:25.619053Z",
     "shell.execute_reply": "2022-02-09T02:32:25.618467Z"
    }
   },
   "outputs": [],
   "source": [
    "using Revise\n",
    "using BenchmarkTools"
   ]
  },
  {
   "cell_type": "code",
   "execution_count": null,
   "id": "b3325ba2-989b-48ae-b530-5d0f64147f9a",
   "metadata": {
    "execution": {
     "iopub.execute_input": "2022-02-09T02:32:25.621091Z",
     "iopub.status.busy": "2022-02-09T02:32:25.620477Z",
     "iopub.status.idle": "2022-02-09T02:32:36.816544Z",
     "shell.execute_reply": "2022-02-09T02:32:36.815967Z"
    }
   },
   "outputs": [],
   "source": [
    "using OnePiece"
   ]
  },
  {
   "cell_type": "markdown",
   "id": "f57730bc",
   "metadata": {},
   "source": [
    "## read"
   ]
  },
  {
   "cell_type": "code",
   "execution_count": null,
   "id": "ac605aaf",
   "metadata": {
    "execution": {
     "iopub.execute_input": "2022-02-09T02:32:38.551922Z",
     "iopub.status.busy": "2022-02-09T02:32:36.818028Z",
     "iopub.status.idle": "2022-02-09T02:32:39.477733Z",
     "shell.execute_reply": "2022-02-09T02:32:39.477284Z"
    }
   },
   "outputs": [],
   "source": [
    "OnePiece.io.fcs.read"
   ]
  }
 ],
 "metadata": {
  "@webio": {
   "lastCommId": "b81113da603c4d25aa3d34613b4d4a48",
   "lastKernelId": "83a82dbe-a65e-4819-8911-300285dda9ca"
  },
  "kernelspec": {
   "display_name": "Julia 1.7.1",
   "language": "julia",
   "name": "julia-1.7"
  },
  "language_info": {
   "file_extension": ".jl",
   "mimetype": "application/julia",
   "name": "julia",
   "version": "1.7.2"
  }
 },
 "nbformat": 4,
 "nbformat_minor": 5
}
