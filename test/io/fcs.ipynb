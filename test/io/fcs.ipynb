{
 "cells": [
  {
   "cell_type": "code",
   "execution_count": null,
   "id": "34e4701e",
   "metadata": {
    "execution": {
     "iopub.execute_input": "2022-02-08T11:23:44.568216Z",
     "iopub.status.busy": "2022-02-08T11:23:44.184005Z",
     "iopub.status.idle": "2022-02-08T11:23:45.395222Z",
     "shell.execute_reply": "2022-02-08T11:23:45.394694Z"
    }
   },
   "outputs": [],
   "source": [
    "using Revise\n",
    "using BenchmarkTools"
   ]
  },
  {
   "cell_type": "code",
   "execution_count": null,
   "id": "b3325ba2-989b-48ae-b530-5d0f64147f9a",
   "metadata": {
    "execution": {
     "iopub.execute_input": "2022-02-08T11:23:45.397173Z",
     "iopub.status.busy": "2022-02-08T11:23:45.396622Z",
     "iopub.status.idle": "2022-02-08T11:23:56.678921Z",
     "shell.execute_reply": "2022-02-08T11:23:56.678465Z"
    }
   },
   "outputs": [],
   "source": [
    "using OnePiece"
   ]
  },
  {
   "cell_type": "markdown",
   "id": "f57730bc",
   "metadata": {},
   "source": [
    "## read"
   ]
  },
  {
   "cell_type": "code",
   "execution_count": null,
   "id": "ac605aaf",
   "metadata": {
    "execution": {
     "iopub.execute_input": "2022-02-08T11:23:58.435353Z",
     "iopub.status.busy": "2022-02-08T11:23:56.680397Z",
     "iopub.status.idle": "2022-02-08T11:23:59.334370Z",
     "shell.execute_reply": "2022-02-08T11:23:59.333970Z"
    }
   },
   "outputs": [],
   "source": [
    "OnePiece.io.fcs.read"
   ]
  }
 ],
 "metadata": {
  "@webio": {
   "lastCommId": "b81113da603c4d25aa3d34613b4d4a48",
   "lastKernelId": "83a82dbe-a65e-4819-8911-300285dda9ca"
  },
  "kernelspec": {
   "display_name": "Julia 1.7.1",
   "language": "julia",
   "name": "julia-1.7"
  },
  "language_info": {
   "file_extension": ".jl",
   "mimetype": "application/julia",
   "name": "julia",
   "version": "1.7.1"
  }
 },
 "nbformat": 4,
 "nbformat_minor": 5
}
