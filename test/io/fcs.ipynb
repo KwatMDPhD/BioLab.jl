{
 "cells": [
  {
   "cell_type": "code",
   "execution_count": null,
   "id": "34e4701e",
   "metadata": {
    "execution": {
     "iopub.execute_input": "2022-02-08T23:57:11.847483Z",
     "iopub.status.busy": "2022-02-08T23:57:11.460141Z",
     "iopub.status.idle": "2022-02-08T23:57:12.705420Z",
     "shell.execute_reply": "2022-02-08T23:57:12.704924Z"
    }
   },
   "outputs": [],
   "source": [
    "using Revise\n",
    "using BenchmarkTools"
   ]
  },
  {
   "cell_type": "code",
   "execution_count": null,
   "id": "b3325ba2-989b-48ae-b530-5d0f64147f9a",
   "metadata": {
    "execution": {
     "iopub.execute_input": "2022-02-08T23:57:12.707442Z",
     "iopub.status.busy": "2022-02-08T23:57:12.706833Z",
     "iopub.status.idle": "2022-02-08T23:57:22.626911Z",
     "shell.execute_reply": "2022-02-08T23:57:22.626272Z"
    }
   },
   "outputs": [],
   "source": [
    "using OnePiece"
   ]
  },
  {
   "cell_type": "markdown",
   "id": "f57730bc",
   "metadata": {},
   "source": [
    "## read"
   ]
  },
  {
   "cell_type": "code",
   "execution_count": null,
   "id": "ac605aaf",
   "metadata": {
    "execution": {
     "iopub.execute_input": "2022-02-08T23:57:24.275966Z",
     "iopub.status.busy": "2022-02-08T23:57:22.628418Z",
     "iopub.status.idle": "2022-02-08T23:57:25.341987Z",
     "shell.execute_reply": "2022-02-08T23:57:25.341598Z"
    }
   },
   "outputs": [],
   "source": [
    "OnePiece.io.fcs.read"
   ]
  }
 ],
 "metadata": {
  "@webio": {
   "lastCommId": "b81113da603c4d25aa3d34613b4d4a48",
   "lastKernelId": "83a82dbe-a65e-4819-8911-300285dda9ca"
  },
  "kernelspec": {
   "display_name": "Julia 1.7.1",
   "language": "julia",
   "name": "julia-1.7"
  },
  "language_info": {
   "file_extension": ".jl",
   "mimetype": "application/julia",
   "name": "julia",
   "version": "1.7.2"
  }
 },
 "nbformat": 4,
 "nbformat_minor": 5
}
