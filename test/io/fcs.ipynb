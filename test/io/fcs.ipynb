{
 "cells": [
  {
   "cell_type": "code",
   "execution_count": null,
   "id": "017464da",
   "metadata": {
    "execution": {
     "iopub.execute_input": "2022-02-13T05:30:03.507016Z",
     "iopub.status.busy": "2022-02-13T05:30:03.186325Z",
     "iopub.status.idle": "2022-02-13T05:30:03.684572Z",
     "shell.execute_reply": "2022-02-13T05:30:03.684137Z"
    }
   },
   "outputs": [],
   "source": [
    "TE = joinpath(tempdir(), \"OnePiece.test\")\n",
    "\n",
    "if isdir(TE)\n",
    "\n",
    "    rm(TE, recursive = true)\n",
    "\n",
    "    println(\"Removed \", TE, \".\")\n",
    "\n",
    "end\n",
    "\n",
    "mkdir(TE)\n",
    "\n",
    "println(\"Made \", TE, \".\")"
   ]
  },
  {
   "cell_type": "code",
   "execution_count": null,
   "id": "34e4701e",
   "metadata": {
    "execution": {
     "iopub.execute_input": "2022-02-13T05:30:03.686467Z",
     "iopub.status.busy": "2022-02-13T05:30:03.685931Z",
     "iopub.status.idle": "2022-02-13T05:30:07.891233Z",
     "shell.execute_reply": "2022-02-13T05:30:07.890715Z"
    }
   },
   "outputs": [],
   "source": [
    "using OnePiece"
   ]
  },
  {
   "cell_type": "markdown",
   "id": "b92a3da9",
   "metadata": {},
   "source": [
    "---"
   ]
  },
  {
   "cell_type": "markdown",
   "id": "45fe66c0",
   "metadata": {},
   "source": [
    "## read"
   ]
  },
  {
   "cell_type": "code",
   "execution_count": null,
   "id": "ac605aaf",
   "metadata": {
    "execution": {
     "iopub.execute_input": "2022-02-13T05:30:08.232090Z",
     "iopub.status.busy": "2022-02-13T05:30:07.892635Z",
     "iopub.status.idle": "2022-02-13T05:30:08.673577Z",
     "shell.execute_reply": "2022-02-13T05:30:08.673116Z"
    }
   },
   "outputs": [],
   "source": [
    "OnePiece.io.fcs.read"
   ]
  },
  {
   "cell_type": "markdown",
   "id": "3f396855",
   "metadata": {},
   "source": [
    "---"
   ]
  },
  {
   "cell_type": "code",
   "execution_count": null,
   "id": "b4af2023",
   "metadata": {
    "execution": {
     "iopub.execute_input": "2022-02-13T05:30:08.675633Z",
     "iopub.status.busy": "2022-02-13T05:30:08.674974Z",
     "iopub.status.idle": "2022-02-13T05:30:08.689000Z",
     "shell.execute_reply": "2022-02-13T05:30:08.688492Z"
    }
   },
   "outputs": [],
   "source": [
    "if isdir(TE)\n",
    "\n",
    "    rm(TE, recursive = true)\n",
    "\n",
    "    println(\"Removed \", TE, \".\")\n",
    "\n",
    "end"
   ]
  }
 ],
 "metadata": {
  "kernelspec": {
   "display_name": "Julia 1.7.2",
   "language": "julia",
   "name": "julia-1.7"
  },
  "language_info": {
   "file_extension": ".jl",
   "mimetype": "application/julia",
   "name": "julia",
   "version": "1.7.2"
  }
 },
 "nbformat": 4,
 "nbformat_minor": 5
}
