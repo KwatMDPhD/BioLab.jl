{
 "cells": [
  {
   "cell_type": "code",
   "execution_count": null,
   "id": "017464da",
   "metadata": {
    "execution": {
     "iopub.execute_input": "2022-02-14T15:16:02.523641Z",
     "iopub.status.busy": "2022-02-14T15:16:02.184945Z",
     "iopub.status.idle": "2022-02-14T15:16:02.708586Z",
     "shell.execute_reply": "2022-02-14T15:16:02.708150Z"
    }
   },
   "outputs": [],
   "source": [
    "TE = joinpath(tempdir(), \"OnePiece.test\")\n",
    "\n",
    "if isdir(TE)\n",
    "\n",
    "    rm(TE, recursive = true)\n",
    "\n",
    "    println(\"Removed \", TE, \".\")\n",
    "\n",
    "end\n",
    "\n",
    "mkdir(TE)\n",
    "\n",
    "println(\"Made \", TE, \".\")"
   ]
  },
  {
   "cell_type": "code",
   "execution_count": null,
   "id": "34e4701e",
   "metadata": {
    "execution": {
     "iopub.execute_input": "2022-02-14T15:16:02.710433Z",
     "iopub.status.busy": "2022-02-14T15:16:02.709920Z",
     "iopub.status.idle": "2022-02-14T15:16:06.792269Z",
     "shell.execute_reply": "2022-02-14T15:16:06.791813Z"
    }
   },
   "outputs": [],
   "source": [
    "using OnePiece"
   ]
  },
  {
   "cell_type": "markdown",
   "id": "b92a3da9",
   "metadata": {},
   "source": [
    "---"
   ]
  },
  {
   "cell_type": "markdown",
   "id": "45fe66c0",
   "metadata": {},
   "source": [
    "## read"
   ]
  },
  {
   "cell_type": "code",
   "execution_count": null,
   "id": "ac605aaf",
   "metadata": {
    "execution": {
     "iopub.execute_input": "2022-02-14T15:16:07.112751Z",
     "iopub.status.busy": "2022-02-14T15:16:06.793670Z",
     "iopub.status.idle": "2022-02-14T15:16:07.514505Z",
     "shell.execute_reply": "2022-02-14T15:16:07.514108Z"
    }
   },
   "outputs": [],
   "source": [
    "OnePiece.io.fcs.read"
   ]
  },
  {
   "cell_type": "markdown",
   "id": "3f396855",
   "metadata": {},
   "source": [
    "---"
   ]
  },
  {
   "cell_type": "code",
   "execution_count": null,
   "id": "b4af2023",
   "metadata": {
    "execution": {
     "iopub.execute_input": "2022-02-14T15:16:07.516838Z",
     "iopub.status.busy": "2022-02-14T15:16:07.515973Z",
     "iopub.status.idle": "2022-02-14T15:16:07.529447Z",
     "shell.execute_reply": "2022-02-14T15:16:07.528795Z"
    }
   },
   "outputs": [],
   "source": [
    "if isdir(TE)\n",
    "\n",
    "    rm(TE, recursive = true)\n",
    "\n",
    "    println(\"Removed \", TE, \".\")\n",
    "\n",
    "end"
   ]
  }
 ],
 "metadata": {
  "kernelspec": {
   "display_name": "Julia 1.7.2",
   "language": "julia",
   "name": "julia-1.7"
  },
  "language_info": {
   "file_extension": ".jl",
   "mimetype": "application/julia",
   "name": "julia",
   "version": "1.7.2"
  }
 },
 "nbformat": 4,
 "nbformat_minor": 5
}
