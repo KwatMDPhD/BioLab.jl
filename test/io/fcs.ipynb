{
 "cells": [
  {
   "cell_type": "code",
   "execution_count": 1,
   "id": "34e4701e",
   "metadata": {
    "execution": {
     "iopub.execute_input": "2022-02-10T17:13:40.825539Z",
     "iopub.status.busy": "2022-02-10T17:13:40.429523Z",
     "iopub.status.idle": "2022-02-10T17:13:41.671543Z",
     "shell.execute_reply": "2022-02-10T17:13:41.671045Z"
    }
   },
   "outputs": [],
   "source": [
    "using Revise\n",
    "using BenchmarkTools"
   ]
  },
  {
   "cell_type": "code",
   "execution_count": 2,
   "id": "b3325ba2-989b-48ae-b530-5d0f64147f9a",
   "metadata": {
    "execution": {
     "iopub.execute_input": "2022-02-10T17:13:41.673573Z",
     "iopub.status.busy": "2022-02-10T17:13:41.673069Z",
     "iopub.status.idle": "2022-02-10T17:13:47.019516Z",
     "shell.execute_reply": "2022-02-10T17:13:47.019133Z"
    }
   },
   "outputs": [],
   "source": [
    "using OnePiece"
   ]
  },
  {
   "cell_type": "markdown",
   "id": "f57730bc",
   "metadata": {},
   "source": [
    "## read"
   ]
  },
  {
   "cell_type": "code",
   "execution_count": 3,
   "id": "ac605aaf",
   "metadata": {
    "execution": {
     "iopub.execute_input": "2022-02-10T17:13:47.352602Z",
     "iopub.status.busy": "2022-02-10T17:13:47.020943Z",
     "iopub.status.idle": "2022-02-10T17:13:48.738144Z",
     "shell.execute_reply": "2022-02-10T17:13:48.737760Z"
    }
   },
   "outputs": [
    {
     "data": {
      "text/plain": [
       "read (generic function with 1 method)"
      ]
     },
     "execution_count": 3,
     "metadata": {},
     "output_type": "execute_result"
    }
   ],
   "source": [
    "OnePiece.io.fcs.read"
   ]
  }
 ],
 "metadata": {
  "@webio": {
   "lastCommId": "b81113da603c4d25aa3d34613b4d4a48",
   "lastKernelId": "83a82dbe-a65e-4819-8911-300285dda9ca"
  },
  "kernelspec": {
   "display_name": "Julia 1.7.1",
   "language": "julia",
   "name": "julia-1.7"
  },
  "language_info": {
   "file_extension": ".jl",
   "mimetype": "application/julia",
   "name": "julia",
   "version": "1.7.2"
  }
 },
 "nbformat": 4,
 "nbformat_minor": 5
}
