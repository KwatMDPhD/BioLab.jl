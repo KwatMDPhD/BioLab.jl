{
 "cells": [
  {
   "cell_type": "code",
   "execution_count": null,
   "id": "34e4701e",
   "metadata": {
    "execution": {
     "iopub.execute_input": "2022-02-09T22:37:39.287782Z",
     "iopub.status.busy": "2022-02-09T22:37:38.908140Z",
     "iopub.status.idle": "2022-02-09T22:37:40.157319Z",
     "shell.execute_reply": "2022-02-09T22:37:40.156750Z"
    }
   },
   "outputs": [],
   "source": [
    "using Revise\n",
    "using BenchmarkTools"
   ]
  },
  {
   "cell_type": "code",
   "execution_count": null,
   "id": "b3325ba2-989b-48ae-b530-5d0f64147f9a",
   "metadata": {
    "execution": {
     "iopub.execute_input": "2022-02-09T22:37:40.159332Z",
     "iopub.status.busy": "2022-02-09T22:37:40.158781Z",
     "iopub.status.idle": "2022-02-09T22:37:50.105362Z",
     "shell.execute_reply": "2022-02-09T22:37:50.104824Z"
    }
   },
   "outputs": [],
   "source": [
    "using OnePiece"
   ]
  },
  {
   "cell_type": "markdown",
   "id": "f57730bc",
   "metadata": {},
   "source": [
    "## read"
   ]
  },
  {
   "cell_type": "code",
   "execution_count": null,
   "id": "ac605aaf",
   "metadata": {
    "execution": {
     "iopub.execute_input": "2022-02-09T22:37:51.649935Z",
     "iopub.status.busy": "2022-02-09T22:37:50.106796Z",
     "iopub.status.idle": "2022-02-09T22:37:52.472264Z",
     "shell.execute_reply": "2022-02-09T22:37:52.471827Z"
    }
   },
   "outputs": [],
   "source": [
    "OnePiece.io.fcs.read"
   ]
  }
 ],
 "metadata": {
  "@webio": {
   "lastCommId": "b81113da603c4d25aa3d34613b4d4a48",
   "lastKernelId": "83a82dbe-a65e-4819-8911-300285dda9ca"
  },
  "kernelspec": {
   "display_name": "Julia 1.7.1",
   "language": "julia",
   "name": "julia-1.7"
  },
  "language_info": {
   "file_extension": ".jl",
   "mimetype": "application/julia",
   "name": "julia",
   "version": "1.7.2"
  }
 },
 "nbformat": 4,
 "nbformat_minor": 5
}
