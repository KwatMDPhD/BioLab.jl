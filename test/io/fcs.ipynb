{
 "cells": [
  {
   "cell_type": "code",
   "execution_count": null,
   "id": "017464da",
   "metadata": {
    "execution": {
     "iopub.execute_input": "2022-02-10T21:20:26.868632Z",
     "iopub.status.busy": "2022-02-10T21:20:26.240880Z",
     "iopub.status.idle": "2022-02-10T21:20:28.061776Z",
     "shell.execute_reply": "2022-02-10T21:20:28.060886Z"
    }
   },
   "outputs": [],
   "source": [
    "TE = joinpath(tempdir(), \"OnePiece.test\")\n",
    "\n",
    "mkpath(TE)"
   ]
  },
  {
   "cell_type": "code",
   "execution_count": null,
   "id": "34e4701e",
   "metadata": {
    "execution": {
     "iopub.execute_input": "2022-02-10T21:20:28.064341Z",
     "iopub.status.busy": "2022-02-10T21:20:28.063537Z",
     "iopub.status.idle": "2022-02-10T21:20:34.105619Z",
     "shell.execute_reply": "2022-02-10T21:20:34.104798Z"
    }
   },
   "outputs": [],
   "source": [
    "using OnePiece"
   ]
  },
  {
   "cell_type": "markdown",
   "id": "b92a3da9",
   "metadata": {},
   "source": [
    "---"
   ]
  },
  {
   "cell_type": "markdown",
   "id": "45fe66c0",
   "metadata": {},
   "source": [
    "## read"
   ]
  },
  {
   "cell_type": "code",
   "execution_count": null,
   "id": "ac605aaf",
   "metadata": {
    "execution": {
     "iopub.execute_input": "2022-02-10T21:20:34.693572Z",
     "iopub.status.busy": "2022-02-10T21:20:34.108270Z",
     "iopub.status.idle": "2022-02-10T21:20:35.106411Z",
     "shell.execute_reply": "2022-02-10T21:20:35.105744Z"
    }
   },
   "outputs": [],
   "source": [
    "OnePiece.io.fcs.read"
   ]
  },
  {
   "cell_type": "markdown",
   "id": "3f396855",
   "metadata": {},
   "source": [
    "---"
   ]
  },
  {
   "cell_type": "code",
   "execution_count": null,
   "id": "b4af2023",
   "metadata": {
    "execution": {
     "iopub.execute_input": "2022-02-10T21:20:35.109030Z",
     "iopub.status.busy": "2022-02-10T21:20:35.108209Z",
     "iopub.status.idle": "2022-02-10T21:20:35.130059Z",
     "shell.execute_reply": "2022-02-10T21:20:35.129409Z"
    }
   },
   "outputs": [],
   "source": [
    "rm(TE; recursive = true)"
   ]
  }
 ],
 "metadata": {
  "kernelspec": {
   "display_name": "Julia 1.7.2",
   "language": "julia",
   "name": "julia-1.7"
  },
  "language_info": {
   "file_extension": ".jl",
   "mimetype": "application/julia",
   "name": "julia",
   "version": "1.7.2"
  }
 },
 "nbformat": 4,
 "nbformat_minor": 5
}
