{
 "cells": [
  {
   "cell_type": "code",
   "execution_count": null,
   "id": "017464da",
   "metadata": {
    "execution": {
     "iopub.execute_input": "2022-02-13T05:30:46.263264Z",
     "iopub.status.busy": "2022-02-13T05:30:45.932388Z",
     "iopub.status.idle": "2022-02-13T05:30:46.448791Z",
     "shell.execute_reply": "2022-02-13T05:30:46.448270Z"
    }
   },
   "outputs": [],
   "source": [
    "TE = joinpath(tempdir(), \"OnePiece.test\")\n",
    "\n",
    "if isdir(TE)\n",
    "\n",
    "    rm(TE, recursive = true)\n",
    "\n",
    "    println(\"Removed \", TE, \".\")\n",
    "\n",
    "end\n",
    "\n",
    "mkdir(TE)\n",
    "\n",
    "println(\"Made \", TE, \".\")"
   ]
  },
  {
   "cell_type": "code",
   "execution_count": null,
   "id": "34e4701e",
   "metadata": {
    "execution": {
     "iopub.execute_input": "2022-02-13T05:30:46.450818Z",
     "iopub.status.busy": "2022-02-13T05:30:46.450302Z",
     "iopub.status.idle": "2022-02-13T05:30:50.404781Z",
     "shell.execute_reply": "2022-02-13T05:30:50.404338Z"
    }
   },
   "outputs": [],
   "source": [
    "using OnePiece"
   ]
  },
  {
   "cell_type": "markdown",
   "id": "b92a3da9",
   "metadata": {},
   "source": [
    "---"
   ]
  },
  {
   "cell_type": "markdown",
   "id": "d6a94f7d",
   "metadata": {},
   "source": [
    "## read"
   ]
  },
  {
   "cell_type": "code",
   "execution_count": null,
   "id": "9bccde5e",
   "metadata": {
    "execution": {
     "iopub.execute_input": "2022-02-13T05:30:50.713338Z",
     "iopub.status.busy": "2022-02-13T05:30:50.406181Z",
     "iopub.status.idle": "2022-02-13T05:30:50.758999Z",
     "shell.execute_reply": "2022-02-13T05:30:50.758630Z"
    }
   },
   "outputs": [],
   "source": [
    "da = joinpath(\"gmt.data\", \"\")\n",
    "\n",
    ";"
   ]
  },
  {
   "cell_type": "code",
   "execution_count": null,
   "id": "7ff0d266",
   "metadata": {
    "execution": {
     "iopub.execute_input": "2022-02-13T05:30:50.761531Z",
     "iopub.status.busy": "2022-02-13T05:30:50.760611Z",
     "iopub.status.idle": "2022-02-13T05:30:50.762548Z",
     "shell.execute_reply": "2022-02-13T05:30:50.762035Z"
    }
   },
   "outputs": [],
   "source": [
    "gm = joinpath(da, \"h.all.v7.1.symbols.gmt\")\n",
    "\n",
    ";"
   ]
  },
  {
   "cell_type": "code",
   "execution_count": null,
   "id": "eca3c643",
   "metadata": {
    "execution": {
     "iopub.execute_input": "2022-02-13T05:30:50.764554Z",
     "iopub.status.busy": "2022-02-13T05:30:50.764081Z",
     "iopub.status.idle": "2022-02-13T05:30:52.064036Z",
     "shell.execute_reply": "2022-02-13T05:30:52.063574Z"
    }
   },
   "outputs": [],
   "source": [
    "OnePiece.io.gmt.read(gm)"
   ]
  },
  {
   "cell_type": "code",
   "execution_count": null,
   "id": "e0db3fd1",
   "metadata": {
    "execution": {
     "iopub.execute_input": "2022-02-13T05:30:52.065935Z",
     "iopub.status.busy": "2022-02-13T05:30:52.065353Z",
     "iopub.status.idle": "2022-02-13T05:30:52.173544Z",
     "shell.execute_reply": "2022-02-13T05:30:52.173080Z"
    }
   },
   "outputs": [],
   "source": [
    "OnePiece.io.gmt.read([gm, joinpath(da, \"c2.all.v7.1.symbols.gmt\")])"
   ]
  },
  {
   "cell_type": "markdown",
   "id": "3f396855",
   "metadata": {},
   "source": [
    "---"
   ]
  },
  {
   "cell_type": "code",
   "execution_count": null,
   "id": "b4af2023",
   "metadata": {
    "execution": {
     "iopub.execute_input": "2022-02-13T05:30:52.175552Z",
     "iopub.status.busy": "2022-02-13T05:30:52.174912Z",
     "iopub.status.idle": "2022-02-13T05:30:52.177402Z",
     "shell.execute_reply": "2022-02-13T05:30:52.176957Z"
    }
   },
   "outputs": [],
   "source": [
    "if isdir(TE)\n",
    "\n",
    "    rm(TE, recursive = true)\n",
    "\n",
    "    println(\"Removed \", TE, \".\")\n",
    "\n",
    "end"
   ]
  }
 ],
 "metadata": {
  "kernelspec": {
   "display_name": "Julia 1.7.2",
   "language": "julia",
   "name": "julia-1.7"
  },
  "language_info": {
   "file_extension": ".jl",
   "mimetype": "application/julia",
   "name": "julia",
   "version": "1.7.2"
  }
 },
 "nbformat": 4,
 "nbformat_minor": 5
}
