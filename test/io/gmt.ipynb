{
 "cells": [
  {
   "cell_type": "code",
   "execution_count": null,
   "id": "017464da",
   "metadata": {
    "execution": {
     "iopub.execute_input": "2022-02-13T05:18:10.524959Z",
     "iopub.status.busy": "2022-02-13T05:18:10.144523Z",
     "iopub.status.idle": "2022-02-13T05:18:10.731931Z",
     "shell.execute_reply": "2022-02-13T05:18:10.731343Z"
    }
   },
   "outputs": [],
   "source": [
    "TE = joinpath(tempdir(), \"OnePiece.test\")\n",
    "\n",
    "if isdir(TE)\n",
    "\n",
    "    rm(TE, recursive = true)\n",
    "\n",
    "    println(\"Removed \", TE, \".\")\n",
    "\n",
    "end\n",
    "\n",
    "mkdir(TE)\n",
    "\n",
    "println(\"Made \", TE, \".\")"
   ]
  },
  {
   "cell_type": "code",
   "execution_count": null,
   "id": "34e4701e",
   "metadata": {
    "execution": {
     "iopub.execute_input": "2022-02-13T05:18:10.733755Z",
     "iopub.status.busy": "2022-02-13T05:18:10.733185Z",
     "iopub.status.idle": "2022-02-13T05:18:15.226670Z",
     "shell.execute_reply": "2022-02-13T05:18:15.226219Z"
    }
   },
   "outputs": [],
   "source": [
    "using OnePiece"
   ]
  },
  {
   "cell_type": "markdown",
   "id": "b92a3da9",
   "metadata": {},
   "source": [
    "---"
   ]
  },
  {
   "cell_type": "markdown",
   "id": "d6a94f7d",
   "metadata": {},
   "source": [
    "## read"
   ]
  },
  {
   "cell_type": "code",
   "execution_count": null,
   "id": "9bccde5e",
   "metadata": {
    "execution": {
     "iopub.execute_input": "2022-02-13T05:18:15.526975Z",
     "iopub.status.busy": "2022-02-13T05:18:15.228202Z",
     "iopub.status.idle": "2022-02-13T05:18:15.571249Z",
     "shell.execute_reply": "2022-02-13T05:18:15.570810Z"
    }
   },
   "outputs": [],
   "source": [
    "da = joinpath(\"gmt.data\", \"\")\n",
    "\n",
    ";"
   ]
  },
  {
   "cell_type": "code",
   "execution_count": null,
   "id": "7ff0d266",
   "metadata": {
    "execution": {
     "iopub.execute_input": "2022-02-13T05:18:15.573307Z",
     "iopub.status.busy": "2022-02-13T05:18:15.572607Z",
     "iopub.status.idle": "2022-02-13T05:18:15.574126Z",
     "shell.execute_reply": "2022-02-13T05:18:15.573752Z"
    }
   },
   "outputs": [],
   "source": [
    "gm = joinpath(da, \"h.all.v7.1.symbols.gmt\")\n",
    "\n",
    ";"
   ]
  },
  {
   "cell_type": "code",
   "execution_count": null,
   "id": "eca3c643",
   "metadata": {
    "execution": {
     "iopub.execute_input": "2022-02-13T05:18:15.575875Z",
     "iopub.status.busy": "2022-02-13T05:18:15.575394Z",
     "iopub.status.idle": "2022-02-13T05:18:16.936794Z",
     "shell.execute_reply": "2022-02-13T05:18:16.936403Z"
    }
   },
   "outputs": [],
   "source": [
    "OnePiece.io.gmt.read(gm)"
   ]
  },
  {
   "cell_type": "code",
   "execution_count": null,
   "id": "e0db3fd1",
   "metadata": {
    "execution": {
     "iopub.execute_input": "2022-02-13T05:18:16.938637Z",
     "iopub.status.busy": "2022-02-13T05:18:16.938137Z",
     "iopub.status.idle": "2022-02-13T05:18:17.043468Z",
     "shell.execute_reply": "2022-02-13T05:18:17.042890Z"
    }
   },
   "outputs": [],
   "source": [
    "OnePiece.io.gmt.read([gm, joinpath(da, \"c2.all.v7.1.symbols.gmt\")])"
   ]
  },
  {
   "cell_type": "markdown",
   "id": "3f396855",
   "metadata": {},
   "source": [
    "---"
   ]
  },
  {
   "cell_type": "code",
   "execution_count": null,
   "id": "b4af2023",
   "metadata": {
    "execution": {
     "iopub.execute_input": "2022-02-13T05:18:17.046564Z",
     "iopub.status.busy": "2022-02-13T05:18:17.045572Z",
     "iopub.status.idle": "2022-02-13T05:18:17.048940Z",
     "shell.execute_reply": "2022-02-13T05:18:17.048555Z"
    }
   },
   "outputs": [],
   "source": [
    "if isdir(TE)\n",
    "\n",
    "    rm(TE, recursive = true)\n",
    "\n",
    "    println(\"Removed \", TE, \".\")\n",
    "\n",
    "end"
   ]
  }
 ],
 "metadata": {
  "kernelspec": {
   "display_name": "Julia 1.7.2",
   "language": "julia",
   "name": "julia-1.7"
  },
  "language_info": {
   "file_extension": ".jl",
   "mimetype": "application/julia",
   "name": "julia",
   "version": "1.7.2"
  }
 },
 "nbformat": 4,
 "nbformat_minor": 5
}
