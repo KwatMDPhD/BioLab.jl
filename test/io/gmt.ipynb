{
 "cells": [
  {
   "cell_type": "code",
   "execution_count": null,
   "id": "34e4701e",
   "metadata": {
    "execution": {
     "iopub.execute_input": "2022-02-08T11:25:03.681738Z",
     "iopub.status.busy": "2022-02-08T11:25:03.290919Z",
     "iopub.status.idle": "2022-02-08T11:25:04.487988Z",
     "shell.execute_reply": "2022-02-08T11:25:04.487497Z"
    }
   },
   "outputs": [],
   "source": [
    "using Revise\n",
    "using BenchmarkTools"
   ]
  },
  {
   "cell_type": "code",
   "execution_count": null,
   "id": "a546862f",
   "metadata": {
    "execution": {
     "iopub.execute_input": "2022-02-08T11:25:04.489903Z",
     "iopub.status.busy": "2022-02-08T11:25:04.489366Z",
     "iopub.status.idle": "2022-02-08T11:25:15.684341Z",
     "shell.execute_reply": "2022-02-08T11:25:15.683820Z"
    }
   },
   "outputs": [],
   "source": [
    "using OnePiece"
   ]
  },
  {
   "cell_type": "markdown",
   "id": "d6a94f7d",
   "metadata": {},
   "source": [
    "## read"
   ]
  },
  {
   "cell_type": "code",
   "execution_count": null,
   "id": "9bccde5e",
   "metadata": {
    "execution": {
     "iopub.execute_input": "2022-02-08T11:25:17.276817Z",
     "iopub.status.busy": "2022-02-08T11:25:15.685785Z",
     "iopub.status.idle": "2022-02-08T11:25:17.915668Z",
     "shell.execute_reply": "2022-02-08T11:25:17.915223Z"
    }
   },
   "outputs": [],
   "source": [
    "da = joinpath(\"gmt.data\", \"\")\n",
    "\n",
    ";"
   ]
  },
  {
   "cell_type": "code",
   "execution_count": null,
   "id": "7ff0d266",
   "metadata": {
    "execution": {
     "iopub.execute_input": "2022-02-08T11:25:17.917421Z",
     "iopub.status.busy": "2022-02-08T11:25:17.916922Z",
     "iopub.status.idle": "2022-02-08T11:25:17.930927Z",
     "shell.execute_reply": "2022-02-08T11:25:17.930115Z"
    }
   },
   "outputs": [],
   "source": [
    "gm = joinpath(da, \"h.all.v7.1.symbols.gmt\")\n",
    "\n",
    ";"
   ]
  },
  {
   "cell_type": "code",
   "execution_count": null,
   "id": "eca3c643",
   "metadata": {
    "execution": {
     "iopub.execute_input": "2022-02-08T11:25:17.933086Z",
     "iopub.status.busy": "2022-02-08T11:25:17.932506Z",
     "iopub.status.idle": "2022-02-08T11:25:19.349259Z",
     "shell.execute_reply": "2022-02-08T11:25:19.348824Z"
    }
   },
   "outputs": [],
   "source": [
    "OnePiece.io.gmt.read(gm)"
   ]
  },
  {
   "cell_type": "code",
   "execution_count": null,
   "id": "e0db3fd1",
   "metadata": {
    "execution": {
     "iopub.execute_input": "2022-02-08T11:25:19.351196Z",
     "iopub.status.busy": "2022-02-08T11:25:19.350623Z",
     "iopub.status.idle": "2022-02-08T11:25:19.478739Z",
     "shell.execute_reply": "2022-02-08T11:25:19.478291Z"
    }
   },
   "outputs": [],
   "source": [
    "OnePiece.io.gmt.read([gm, joinpath(da, \"c2.all.v7.1.symbols.gmt\")])"
   ]
  }
 ],
 "metadata": {
  "@webio": {
   "lastCommId": "c15320246a65470f88edd712671b4083",
   "lastKernelId": "6c9a6c5b-72f8-405a-a2e0-4641f1fab266"
  },
  "kernelspec": {
   "display_name": "Julia 1.7.1",
   "language": "julia",
   "name": "julia-1.7"
  },
  "language_info": {
   "file_extension": ".jl",
   "mimetype": "application/julia",
   "name": "julia",
   "version": "1.7.1"
  }
 },
 "nbformat": 4,
 "nbformat_minor": 5
}
