{
 "cells": [
  {
   "cell_type": "code",
   "execution_count": null,
   "id": "017464da",
   "metadata": {
    "execution": {
     "iopub.execute_input": "2022-02-13T22:55:50.432880Z",
     "iopub.status.busy": "2022-02-13T22:55:50.106943Z",
     "iopub.status.idle": "2022-02-13T22:55:50.616543Z",
     "shell.execute_reply": "2022-02-13T22:55:50.615578Z"
    }
   },
   "outputs": [],
   "source": [
    "TE = joinpath(tempdir(), \"OnePiece.test\")\n",
    "\n",
    "if isdir(TE)\n",
    "\n",
    "    rm(TE, recursive = true)\n",
    "\n",
    "    println(\"Removed \", TE, \".\")\n",
    "\n",
    "end\n",
    "\n",
    "mkdir(TE)\n",
    "\n",
    "println(\"Made \", TE, \".\")"
   ]
  },
  {
   "cell_type": "code",
   "execution_count": null,
   "id": "34e4701e",
   "metadata": {
    "execution": {
     "iopub.execute_input": "2022-02-13T22:55:50.618291Z",
     "iopub.status.busy": "2022-02-13T22:55:50.617797Z",
     "iopub.status.idle": "2022-02-13T22:55:54.536564Z",
     "shell.execute_reply": "2022-02-13T22:55:54.536100Z"
    }
   },
   "outputs": [],
   "source": [
    "using OnePiece"
   ]
  },
  {
   "cell_type": "markdown",
   "id": "b92a3da9",
   "metadata": {},
   "source": [
    "---"
   ]
  },
  {
   "cell_type": "markdown",
   "id": "d6a94f7d",
   "metadata": {},
   "source": [
    "## read"
   ]
  },
  {
   "cell_type": "code",
   "execution_count": null,
   "id": "9bccde5e",
   "metadata": {
    "execution": {
     "iopub.execute_input": "2022-02-13T22:55:54.829844Z",
     "iopub.status.busy": "2022-02-13T22:55:54.537959Z",
     "iopub.status.idle": "2022-02-13T22:55:54.874355Z",
     "shell.execute_reply": "2022-02-13T22:55:54.873983Z"
    }
   },
   "outputs": [],
   "source": [
    "da = joinpath(\"gmt.data\", \"\")\n",
    "\n",
    ";"
   ]
  },
  {
   "cell_type": "code",
   "execution_count": null,
   "id": "7ff0d266",
   "metadata": {
    "execution": {
     "iopub.execute_input": "2022-02-13T22:55:54.877158Z",
     "iopub.status.busy": "2022-02-13T22:55:54.875945Z",
     "iopub.status.idle": "2022-02-13T22:55:54.877954Z",
     "shell.execute_reply": "2022-02-13T22:55:54.877589Z"
    }
   },
   "outputs": [],
   "source": [
    "gm = joinpath(da, \"h.all.v7.1.symbols.gmt\")\n",
    "\n",
    ";"
   ]
  },
  {
   "cell_type": "code",
   "execution_count": null,
   "id": "eca3c643",
   "metadata": {
    "execution": {
     "iopub.execute_input": "2022-02-13T22:55:54.879919Z",
     "iopub.status.busy": "2022-02-13T22:55:54.879355Z",
     "iopub.status.idle": "2022-02-13T22:55:56.072984Z",
     "shell.execute_reply": "2022-02-13T22:55:56.072595Z"
    }
   },
   "outputs": [],
   "source": [
    "OnePiece.io.gmt.read(gm)"
   ]
  },
  {
   "cell_type": "code",
   "execution_count": null,
   "id": "e0db3fd1",
   "metadata": {
    "execution": {
     "iopub.execute_input": "2022-02-13T22:55:56.074840Z",
     "iopub.status.busy": "2022-02-13T22:55:56.074339Z",
     "iopub.status.idle": "2022-02-13T22:55:56.168888Z",
     "shell.execute_reply": "2022-02-13T22:55:56.168487Z"
    }
   },
   "outputs": [],
   "source": [
    "OnePiece.io.gmt.read([gm, joinpath(da, \"c2.all.v7.1.symbols.gmt\")])"
   ]
  },
  {
   "cell_type": "markdown",
   "id": "3f396855",
   "metadata": {},
   "source": [
    "---"
   ]
  },
  {
   "cell_type": "code",
   "execution_count": null,
   "id": "b4af2023",
   "metadata": {
    "execution": {
     "iopub.execute_input": "2022-02-13T22:55:56.171050Z",
     "iopub.status.busy": "2022-02-13T22:55:56.170277Z",
     "iopub.status.idle": "2022-02-13T22:55:56.172771Z",
     "shell.execute_reply": "2022-02-13T22:55:56.172392Z"
    }
   },
   "outputs": [],
   "source": [
    "if isdir(TE)\n",
    "\n",
    "    rm(TE, recursive = true)\n",
    "\n",
    "    println(\"Removed \", TE, \".\")\n",
    "\n",
    "end"
   ]
  }
 ],
 "metadata": {
  "kernelspec": {
   "display_name": "Julia 1.7.2",
   "language": "julia",
   "name": "julia-1.7"
  },
  "language_info": {
   "file_extension": ".jl",
   "mimetype": "application/julia",
   "name": "julia",
   "version": "1.7.2"
  }
 },
 "nbformat": 4,
 "nbformat_minor": 5
}
