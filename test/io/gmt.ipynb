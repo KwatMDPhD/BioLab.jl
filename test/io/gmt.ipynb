{
 "cells": [
  {
   "cell_type": "code",
   "execution_count": null,
   "id": "34e4701e",
   "metadata": {
    "execution": {
     "iopub.execute_input": "2022-02-09T18:50:05.098269Z",
     "iopub.status.busy": "2022-02-09T18:50:04.718565Z",
     "iopub.status.idle": "2022-02-09T18:50:06.065951Z",
     "shell.execute_reply": "2022-02-09T18:50:06.065433Z"
    }
   },
   "outputs": [],
   "source": [
    "using Revise\n",
    "using BenchmarkTools"
   ]
  },
  {
   "cell_type": "code",
   "execution_count": null,
   "id": "a546862f",
   "metadata": {
    "execution": {
     "iopub.execute_input": "2022-02-09T18:50:06.067912Z",
     "iopub.status.busy": "2022-02-09T18:50:06.067352Z",
     "iopub.status.idle": "2022-02-09T18:50:16.226329Z",
     "shell.execute_reply": "2022-02-09T18:50:16.225811Z"
    }
   },
   "outputs": [],
   "source": [
    "using OnePiece"
   ]
  },
  {
   "cell_type": "markdown",
   "id": "d6a94f7d",
   "metadata": {},
   "source": [
    "## read"
   ]
  },
  {
   "cell_type": "code",
   "execution_count": null,
   "id": "9bccde5e",
   "metadata": {
    "execution": {
     "iopub.execute_input": "2022-02-09T18:50:17.806852Z",
     "iopub.status.busy": "2022-02-09T18:50:16.227763Z",
     "iopub.status.idle": "2022-02-09T18:50:18.495196Z",
     "shell.execute_reply": "2022-02-09T18:50:18.494761Z"
    }
   },
   "outputs": [],
   "source": [
    "da = joinpath(\"gmt.data\", \"\")\n",
    "\n",
    ";"
   ]
  },
  {
   "cell_type": "code",
   "execution_count": null,
   "id": "7ff0d266",
   "metadata": {
    "execution": {
     "iopub.execute_input": "2022-02-09T18:50:18.497130Z",
     "iopub.status.busy": "2022-02-09T18:50:18.496640Z",
     "iopub.status.idle": "2022-02-09T18:50:18.509509Z",
     "shell.execute_reply": "2022-02-09T18:50:18.508990Z"
    }
   },
   "outputs": [],
   "source": [
    "gm = joinpath(da, \"h.all.v7.1.symbols.gmt\")\n",
    "\n",
    ";"
   ]
  },
  {
   "cell_type": "code",
   "execution_count": null,
   "id": "eca3c643",
   "metadata": {
    "execution": {
     "iopub.execute_input": "2022-02-09T18:50:18.511579Z",
     "iopub.status.busy": "2022-02-09T18:50:18.510951Z",
     "iopub.status.idle": "2022-02-09T18:50:19.609465Z",
     "shell.execute_reply": "2022-02-09T18:50:19.609029Z"
    }
   },
   "outputs": [],
   "source": [
    "OnePiece.io.gmt.read(gm)"
   ]
  },
  {
   "cell_type": "code",
   "execution_count": null,
   "id": "e0db3fd1",
   "metadata": {
    "execution": {
     "iopub.execute_input": "2022-02-09T18:50:19.611453Z",
     "iopub.status.busy": "2022-02-09T18:50:19.610907Z",
     "iopub.status.idle": "2022-02-09T18:50:19.726512Z",
     "shell.execute_reply": "2022-02-09T18:50:19.726006Z"
    }
   },
   "outputs": [],
   "source": [
    "OnePiece.io.gmt.read([gm, joinpath(da, \"c2.all.v7.1.symbols.gmt\")])"
   ]
  }
 ],
 "metadata": {
  "@webio": {
   "lastCommId": "c15320246a65470f88edd712671b4083",
   "lastKernelId": "6c9a6c5b-72f8-405a-a2e0-4641f1fab266"
  },
  "kernelspec": {
   "display_name": "Julia 1.7.1",
   "language": "julia",
   "name": "julia-1.7"
  },
  "language_info": {
   "file_extension": ".jl",
   "mimetype": "application/julia",
   "name": "julia",
   "version": "1.7.2"
  }
 },
 "nbformat": 4,
 "nbformat_minor": 5
}
