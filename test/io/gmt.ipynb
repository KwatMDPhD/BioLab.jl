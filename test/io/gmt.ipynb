{
 "cells": [
  {
   "cell_type": "code",
   "execution_count": null,
   "id": "34e4701e",
   "metadata": {
    "execution": {
     "iopub.execute_input": "2022-02-09T22:38:57.544553Z",
     "iopub.status.busy": "2022-02-09T22:38:57.169617Z",
     "iopub.status.idle": "2022-02-09T22:38:58.438540Z",
     "shell.execute_reply": "2022-02-09T22:38:58.437827Z"
    }
   },
   "outputs": [],
   "source": [
    "using Revise\n",
    "using BenchmarkTools"
   ]
  },
  {
   "cell_type": "code",
   "execution_count": null,
   "id": "a546862f",
   "metadata": {
    "execution": {
     "iopub.execute_input": "2022-02-09T22:38:58.441270Z",
     "iopub.status.busy": "2022-02-09T22:38:58.440320Z",
     "iopub.status.idle": "2022-02-09T22:39:08.464828Z",
     "shell.execute_reply": "2022-02-09T22:39:08.463871Z"
    }
   },
   "outputs": [],
   "source": [
    "using OnePiece"
   ]
  },
  {
   "cell_type": "markdown",
   "id": "d6a94f7d",
   "metadata": {},
   "source": [
    "## read"
   ]
  },
  {
   "cell_type": "code",
   "execution_count": null,
   "id": "9bccde5e",
   "metadata": {
    "execution": {
     "iopub.execute_input": "2022-02-09T22:39:10.052068Z",
     "iopub.status.busy": "2022-02-09T22:39:08.466383Z",
     "iopub.status.idle": "2022-02-09T22:39:10.750777Z",
     "shell.execute_reply": "2022-02-09T22:39:10.750279Z"
    }
   },
   "outputs": [],
   "source": [
    "da = joinpath(\"gmt.data\", \"\")\n",
    "\n",
    ";"
   ]
  },
  {
   "cell_type": "code",
   "execution_count": null,
   "id": "7ff0d266",
   "metadata": {
    "execution": {
     "iopub.execute_input": "2022-02-09T22:39:10.752625Z",
     "iopub.status.busy": "2022-02-09T22:39:10.752133Z",
     "iopub.status.idle": "2022-02-09T22:39:10.764391Z",
     "shell.execute_reply": "2022-02-09T22:39:10.763842Z"
    }
   },
   "outputs": [],
   "source": [
    "gm = joinpath(da, \"h.all.v7.1.symbols.gmt\")\n",
    "\n",
    ";"
   ]
  },
  {
   "cell_type": "code",
   "execution_count": null,
   "id": "eca3c643",
   "metadata": {
    "execution": {
     "iopub.execute_input": "2022-02-09T22:39:10.766194Z",
     "iopub.status.busy": "2022-02-09T22:39:10.765622Z",
     "iopub.status.idle": "2022-02-09T22:39:11.904905Z",
     "shell.execute_reply": "2022-02-09T22:39:11.904456Z"
    }
   },
   "outputs": [],
   "source": [
    "OnePiece.io.gmt.read(gm)"
   ]
  },
  {
   "cell_type": "code",
   "execution_count": null,
   "id": "e0db3fd1",
   "metadata": {
    "execution": {
     "iopub.execute_input": "2022-02-09T22:39:11.907012Z",
     "iopub.status.busy": "2022-02-09T22:39:11.906483Z",
     "iopub.status.idle": "2022-02-09T22:39:12.021439Z",
     "shell.execute_reply": "2022-02-09T22:39:12.020970Z"
    }
   },
   "outputs": [],
   "source": [
    "OnePiece.io.gmt.read([gm, joinpath(da, \"c2.all.v7.1.symbols.gmt\")])"
   ]
  }
 ],
 "metadata": {
  "@webio": {
   "lastCommId": "c15320246a65470f88edd712671b4083",
   "lastKernelId": "6c9a6c5b-72f8-405a-a2e0-4641f1fab266"
  },
  "kernelspec": {
   "display_name": "Julia 1.7.1",
   "language": "julia",
   "name": "julia-1.7"
  },
  "language_info": {
   "file_extension": ".jl",
   "mimetype": "application/julia",
   "name": "julia",
   "version": "1.7.2"
  }
 },
 "nbformat": 4,
 "nbformat_minor": 5
}
