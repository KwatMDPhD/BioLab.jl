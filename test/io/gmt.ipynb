{
 "cells": [
  {
   "cell_type": "code",
   "execution_count": null,
   "id": "017464da",
   "metadata": {
    "execution": {
     "iopub.execute_input": "2022-02-14T15:16:45.272346Z",
     "iopub.status.busy": "2022-02-14T15:16:44.903034Z",
     "iopub.status.idle": "2022-02-14T15:16:45.484356Z",
     "shell.execute_reply": "2022-02-14T15:16:45.483788Z"
    }
   },
   "outputs": [],
   "source": [
    "TE = joinpath(tempdir(), \"OnePiece.test\")\n",
    "\n",
    "if isdir(TE)\n",
    "\n",
    "    rm(TE, recursive = true)\n",
    "\n",
    "    println(\"Removed \", TE, \".\")\n",
    "\n",
    "end\n",
    "\n",
    "mkdir(TE)\n",
    "\n",
    "println(\"Made \", TE, \".\")"
   ]
  },
  {
   "cell_type": "code",
   "execution_count": null,
   "id": "34e4701e",
   "metadata": {
    "execution": {
     "iopub.execute_input": "2022-02-14T15:16:45.486233Z",
     "iopub.status.busy": "2022-02-14T15:16:45.485640Z",
     "iopub.status.idle": "2022-02-14T15:16:49.726366Z",
     "shell.execute_reply": "2022-02-14T15:16:49.725851Z"
    }
   },
   "outputs": [],
   "source": [
    "using OnePiece"
   ]
  },
  {
   "cell_type": "markdown",
   "id": "b92a3da9",
   "metadata": {},
   "source": [
    "---"
   ]
  },
  {
   "cell_type": "markdown",
   "id": "d6a94f7d",
   "metadata": {},
   "source": [
    "## read"
   ]
  },
  {
   "cell_type": "code",
   "execution_count": null,
   "id": "9bccde5e",
   "metadata": {
    "execution": {
     "iopub.execute_input": "2022-02-14T15:16:50.065278Z",
     "iopub.status.busy": "2022-02-14T15:16:49.727805Z",
     "iopub.status.idle": "2022-02-14T15:16:50.118048Z",
     "shell.execute_reply": "2022-02-14T15:16:50.117603Z"
    }
   },
   "outputs": [],
   "source": [
    "da = joinpath(\"gmt.data\", \"\")\n",
    "\n",
    ";"
   ]
  },
  {
   "cell_type": "code",
   "execution_count": null,
   "id": "7ff0d266",
   "metadata": {
    "execution": {
     "iopub.execute_input": "2022-02-14T15:16:50.120056Z",
     "iopub.status.busy": "2022-02-14T15:16:50.119353Z",
     "iopub.status.idle": "2022-02-14T15:16:50.121086Z",
     "shell.execute_reply": "2022-02-14T15:16:50.120635Z"
    }
   },
   "outputs": [],
   "source": [
    "gm = joinpath(da, \"h.all.v7.1.symbols.gmt\")\n",
    "\n",
    ";"
   ]
  },
  {
   "cell_type": "code",
   "execution_count": null,
   "id": "eca3c643",
   "metadata": {
    "execution": {
     "iopub.execute_input": "2022-02-14T15:16:50.122972Z",
     "iopub.status.busy": "2022-02-14T15:16:50.122392Z",
     "iopub.status.idle": "2022-02-14T15:16:51.388974Z",
     "shell.execute_reply": "2022-02-14T15:16:51.388576Z"
    }
   },
   "outputs": [],
   "source": [
    "OnePiece.io.gmt.read(gm)"
   ]
  },
  {
   "cell_type": "code",
   "execution_count": null,
   "id": "e0db3fd1",
   "metadata": {
    "execution": {
     "iopub.execute_input": "2022-02-14T15:16:51.390834Z",
     "iopub.status.busy": "2022-02-14T15:16:51.390335Z",
     "iopub.status.idle": "2022-02-14T15:16:51.492714Z",
     "shell.execute_reply": "2022-02-14T15:16:51.492318Z"
    }
   },
   "outputs": [],
   "source": [
    "OnePiece.io.gmt.read([gm, joinpath(da, \"c2.all.v7.1.symbols.gmt\")])"
   ]
  },
  {
   "cell_type": "markdown",
   "id": "3f396855",
   "metadata": {},
   "source": [
    "---"
   ]
  },
  {
   "cell_type": "code",
   "execution_count": null,
   "id": "b4af2023",
   "metadata": {
    "execution": {
     "iopub.execute_input": "2022-02-14T15:16:51.494555Z",
     "iopub.status.busy": "2022-02-14T15:16:51.493971Z",
     "iopub.status.idle": "2022-02-14T15:16:51.496552Z",
     "shell.execute_reply": "2022-02-14T15:16:51.495898Z"
    }
   },
   "outputs": [],
   "source": [
    "if isdir(TE)\n",
    "\n",
    "    rm(TE, recursive = true)\n",
    "\n",
    "    println(\"Removed \", TE, \".\")\n",
    "\n",
    "end"
   ]
  }
 ],
 "metadata": {
  "kernelspec": {
   "display_name": "Julia 1.7.2",
   "language": "julia",
   "name": "julia-1.7"
  },
  "language_info": {
   "file_extension": ".jl",
   "mimetype": "application/julia",
   "name": "julia",
   "version": "1.7.2"
  }
 },
 "nbformat": 4,
 "nbformat_minor": 5
}
