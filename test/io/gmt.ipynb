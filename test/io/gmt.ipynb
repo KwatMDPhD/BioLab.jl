{
 "cells": [
  {
   "cell_type": "code",
   "execution_count": null,
   "id": "017464da",
   "metadata": {
    "execution": {
     "iopub.execute_input": "2022-02-10T21:21:46.764906Z",
     "iopub.status.busy": "2022-02-10T21:21:46.219307Z",
     "iopub.status.idle": "2022-02-10T21:21:47.877035Z",
     "shell.execute_reply": "2022-02-10T21:21:47.876237Z"
    }
   },
   "outputs": [],
   "source": [
    "TE = joinpath(tempdir(), \"OnePiece.test\")\n",
    "\n",
    "mkpath(TE)"
   ]
  },
  {
   "cell_type": "code",
   "execution_count": null,
   "id": "34e4701e",
   "metadata": {
    "execution": {
     "iopub.execute_input": "2022-02-10T21:21:47.879611Z",
     "iopub.status.busy": "2022-02-10T21:21:47.878792Z",
     "iopub.status.idle": "2022-02-10T21:21:53.816135Z",
     "shell.execute_reply": "2022-02-10T21:21:53.815496Z"
    }
   },
   "outputs": [],
   "source": [
    "using OnePiece"
   ]
  },
  {
   "cell_type": "markdown",
   "id": "b92a3da9",
   "metadata": {},
   "source": [
    "---"
   ]
  },
  {
   "cell_type": "markdown",
   "id": "d6a94f7d",
   "metadata": {},
   "source": [
    "## read"
   ]
  },
  {
   "cell_type": "code",
   "execution_count": null,
   "id": "9bccde5e",
   "metadata": {
    "execution": {
     "iopub.execute_input": "2022-02-10T21:21:54.377616Z",
     "iopub.status.busy": "2022-02-10T21:21:53.817963Z",
     "iopub.status.idle": "2022-02-10T21:21:54.446777Z",
     "shell.execute_reply": "2022-02-10T21:21:54.446140Z"
    }
   },
   "outputs": [],
   "source": [
    "da = joinpath(\"gmt.data\", \"\")\n",
    "\n",
    ";"
   ]
  },
  {
   "cell_type": "code",
   "execution_count": null,
   "id": "7ff0d266",
   "metadata": {
    "execution": {
     "iopub.execute_input": "2022-02-10T21:21:54.449633Z",
     "iopub.status.busy": "2022-02-10T21:21:54.448527Z",
     "iopub.status.idle": "2022-02-10T21:21:54.451000Z",
     "shell.execute_reply": "2022-02-10T21:21:54.450409Z"
    }
   },
   "outputs": [],
   "source": [
    "gm = joinpath(da, \"h.all.v7.1.symbols.gmt\")\n",
    "\n",
    ";"
   ]
  },
  {
   "cell_type": "code",
   "execution_count": null,
   "id": "eca3c643",
   "metadata": {
    "execution": {
     "iopub.execute_input": "2022-02-10T21:21:54.453337Z",
     "iopub.status.busy": "2022-02-10T21:21:54.452633Z",
     "iopub.status.idle": "2022-02-10T21:21:56.002961Z",
     "shell.execute_reply": "2022-02-10T21:21:56.002278Z"
    }
   },
   "outputs": [],
   "source": [
    "OnePiece.io.gmt.read(gm)"
   ]
  },
  {
   "cell_type": "code",
   "execution_count": null,
   "id": "e0db3fd1",
   "metadata": {
    "execution": {
     "iopub.execute_input": "2022-02-10T21:21:56.005530Z",
     "iopub.status.busy": "2022-02-10T21:21:56.004710Z",
     "iopub.status.idle": "2022-02-10T21:21:56.150763Z",
     "shell.execute_reply": "2022-02-10T21:21:56.150198Z"
    }
   },
   "outputs": [],
   "source": [
    "OnePiece.io.gmt.read([gm, joinpath(da, \"c2.all.v7.1.symbols.gmt\")])"
   ]
  },
  {
   "cell_type": "markdown",
   "id": "3f396855",
   "metadata": {},
   "source": [
    "---"
   ]
  },
  {
   "cell_type": "code",
   "execution_count": null,
   "id": "b4af2023",
   "metadata": {
    "execution": {
     "iopub.execute_input": "2022-02-10T21:21:56.153361Z",
     "iopub.status.busy": "2022-02-10T21:21:56.152639Z",
     "iopub.status.idle": "2022-02-10T21:21:56.157568Z",
     "shell.execute_reply": "2022-02-10T21:21:56.156875Z"
    }
   },
   "outputs": [],
   "source": [
    "rm(TE; recursive = true)"
   ]
  }
 ],
 "metadata": {
  "kernelspec": {
   "display_name": "Julia 1.7.2",
   "language": "julia",
   "name": "julia-1.7"
  },
  "language_info": {
   "file_extension": ".jl",
   "mimetype": "application/julia",
   "name": "julia",
   "version": "1.7.2"
  }
 },
 "nbformat": 4,
 "nbformat_minor": 5
}
