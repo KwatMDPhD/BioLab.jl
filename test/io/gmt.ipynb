{
 "cells": [
  {
   "cell_type": "code",
   "execution_count": null,
   "id": "017464da",
   "metadata": {
    "execution": {
     "iopub.execute_input": "2022-02-14T02:51:42.216968Z",
     "iopub.status.busy": "2022-02-14T02:51:41.813092Z",
     "iopub.status.idle": "2022-02-14T02:51:42.439033Z",
     "shell.execute_reply": "2022-02-14T02:51:42.438418Z"
    }
   },
   "outputs": [],
   "source": [
    "TE = joinpath(tempdir(), \"OnePiece.test\")\n",
    "\n",
    "if isdir(TE)\n",
    "\n",
    "    rm(TE, recursive = true)\n",
    "\n",
    "    println(\"Removed \", TE, \".\")\n",
    "\n",
    "end\n",
    "\n",
    "mkdir(TE)\n",
    "\n",
    "println(\"Made \", TE, \".\")"
   ]
  },
  {
   "cell_type": "code",
   "execution_count": null,
   "id": "34e4701e",
   "metadata": {
    "execution": {
     "iopub.execute_input": "2022-02-14T02:51:42.441065Z",
     "iopub.status.busy": "2022-02-14T02:51:42.440448Z",
     "iopub.status.idle": "2022-02-14T02:51:47.394166Z",
     "shell.execute_reply": "2022-02-14T02:51:47.393622Z"
    }
   },
   "outputs": [],
   "source": [
    "using OnePiece"
   ]
  },
  {
   "cell_type": "markdown",
   "id": "b92a3da9",
   "metadata": {},
   "source": [
    "---"
   ]
  },
  {
   "cell_type": "markdown",
   "id": "d6a94f7d",
   "metadata": {},
   "source": [
    "## read"
   ]
  },
  {
   "cell_type": "code",
   "execution_count": null,
   "id": "9bccde5e",
   "metadata": {
    "execution": {
     "iopub.execute_input": "2022-02-14T02:51:47.785225Z",
     "iopub.status.busy": "2022-02-14T02:51:47.395717Z",
     "iopub.status.idle": "2022-02-14T02:51:47.842312Z",
     "shell.execute_reply": "2022-02-14T02:51:47.841761Z"
    }
   },
   "outputs": [],
   "source": [
    "da = joinpath(\"gmt.data\", \"\")\n",
    "\n",
    ";"
   ]
  },
  {
   "cell_type": "code",
   "execution_count": null,
   "id": "7ff0d266",
   "metadata": {
    "execution": {
     "iopub.execute_input": "2022-02-14T02:51:47.844531Z",
     "iopub.status.busy": "2022-02-14T02:51:47.843743Z",
     "iopub.status.idle": "2022-02-14T02:51:47.845550Z",
     "shell.execute_reply": "2022-02-14T02:51:47.845084Z"
    }
   },
   "outputs": [],
   "source": [
    "gm = joinpath(da, \"h.all.v7.1.symbols.gmt\")\n",
    "\n",
    ";"
   ]
  },
  {
   "cell_type": "code",
   "execution_count": null,
   "id": "eca3c643",
   "metadata": {
    "execution": {
     "iopub.execute_input": "2022-02-14T02:51:47.847675Z",
     "iopub.status.busy": "2022-02-14T02:51:47.846979Z",
     "iopub.status.idle": "2022-02-14T02:51:49.369346Z",
     "shell.execute_reply": "2022-02-14T02:51:49.368855Z"
    }
   },
   "outputs": [],
   "source": [
    "OnePiece.io.gmt.read(gm)"
   ]
  },
  {
   "cell_type": "code",
   "execution_count": null,
   "id": "e0db3fd1",
   "metadata": {
    "execution": {
     "iopub.execute_input": "2022-02-14T02:51:49.371508Z",
     "iopub.status.busy": "2022-02-14T02:51:49.370746Z",
     "iopub.status.idle": "2022-02-14T02:51:49.491556Z",
     "shell.execute_reply": "2022-02-14T02:51:49.491013Z"
    }
   },
   "outputs": [],
   "source": [
    "OnePiece.io.gmt.read([gm, joinpath(da, \"c2.all.v7.1.symbols.gmt\")])"
   ]
  },
  {
   "cell_type": "markdown",
   "id": "3f396855",
   "metadata": {},
   "source": [
    "---"
   ]
  },
  {
   "cell_type": "code",
   "execution_count": null,
   "id": "b4af2023",
   "metadata": {
    "execution": {
     "iopub.execute_input": "2022-02-14T02:51:49.493607Z",
     "iopub.status.busy": "2022-02-14T02:51:49.492990Z",
     "iopub.status.idle": "2022-02-14T02:51:49.495513Z",
     "shell.execute_reply": "2022-02-14T02:51:49.495035Z"
    }
   },
   "outputs": [],
   "source": [
    "if isdir(TE)\n",
    "\n",
    "    rm(TE, recursive = true)\n",
    "\n",
    "    println(\"Removed \", TE, \".\")\n",
    "\n",
    "end"
   ]
  }
 ],
 "metadata": {
  "kernelspec": {
   "display_name": "Julia 1.7.2",
   "language": "julia",
   "name": "julia-1.7"
  },
  "language_info": {
   "file_extension": ".jl",
   "mimetype": "application/julia",
   "name": "julia",
   "version": "1.7.2"
  }
 },
 "nbformat": 4,
 "nbformat_minor": 5
}
