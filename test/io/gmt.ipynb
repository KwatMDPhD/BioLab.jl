{
 "cells": [
  {
   "cell_type": "code",
   "execution_count": null,
   "id": "34e4701e",
   "metadata": {
    "execution": {
     "iopub.execute_input": "2022-02-09T05:28:59.671475Z",
     "iopub.status.busy": "2022-02-09T05:28:59.250379Z",
     "iopub.status.idle": "2022-02-09T05:29:00.682071Z",
     "shell.execute_reply": "2022-02-09T05:29:00.681559Z"
    }
   },
   "outputs": [],
   "source": [
    "using Revise\n",
    "using BenchmarkTools"
   ]
  },
  {
   "cell_type": "code",
   "execution_count": null,
   "id": "a546862f",
   "metadata": {
    "execution": {
     "iopub.execute_input": "2022-02-09T05:29:00.684132Z",
     "iopub.status.busy": "2022-02-09T05:29:00.683404Z",
     "iopub.status.idle": "2022-02-09T05:29:11.327592Z",
     "shell.execute_reply": "2022-02-09T05:29:11.326973Z"
    }
   },
   "outputs": [],
   "source": [
    "using OnePiece"
   ]
  },
  {
   "cell_type": "markdown",
   "id": "d6a94f7d",
   "metadata": {},
   "source": [
    "## read"
   ]
  },
  {
   "cell_type": "code",
   "execution_count": null,
   "id": "9bccde5e",
   "metadata": {
    "execution": {
     "iopub.execute_input": "2022-02-09T05:29:13.045190Z",
     "iopub.status.busy": "2022-02-09T05:29:11.329030Z",
     "iopub.status.idle": "2022-02-09T05:29:13.742789Z",
     "shell.execute_reply": "2022-02-09T05:29:13.742342Z"
    }
   },
   "outputs": [],
   "source": [
    "da = joinpath(\"gmt.data\", \"\")\n",
    "\n",
    ";"
   ]
  },
  {
   "cell_type": "code",
   "execution_count": null,
   "id": "7ff0d266",
   "metadata": {
    "execution": {
     "iopub.execute_input": "2022-02-09T05:29:13.744509Z",
     "iopub.status.busy": "2022-02-09T05:29:13.744018Z",
     "iopub.status.idle": "2022-02-09T05:29:13.756773Z",
     "shell.execute_reply": "2022-02-09T05:29:13.756280Z"
    }
   },
   "outputs": [],
   "source": [
    "gm = joinpath(da, \"h.all.v7.1.symbols.gmt\")\n",
    "\n",
    ";"
   ]
  },
  {
   "cell_type": "code",
   "execution_count": null,
   "id": "eca3c643",
   "metadata": {
    "execution": {
     "iopub.execute_input": "2022-02-09T05:29:13.758611Z",
     "iopub.status.busy": "2022-02-09T05:29:13.757975Z",
     "iopub.status.idle": "2022-02-09T05:29:14.937351Z",
     "shell.execute_reply": "2022-02-09T05:29:14.936911Z"
    }
   },
   "outputs": [],
   "source": [
    "OnePiece.io.gmt.read(gm)"
   ]
  },
  {
   "cell_type": "code",
   "execution_count": null,
   "id": "e0db3fd1",
   "metadata": {
    "execution": {
     "iopub.execute_input": "2022-02-09T05:29:14.939276Z",
     "iopub.status.busy": "2022-02-09T05:29:14.938640Z",
     "iopub.status.idle": "2022-02-09T05:29:15.069340Z",
     "shell.execute_reply": "2022-02-09T05:29:15.068879Z"
    }
   },
   "outputs": [],
   "source": [
    "OnePiece.io.gmt.read([gm, joinpath(da, \"c2.all.v7.1.symbols.gmt\")])"
   ]
  }
 ],
 "metadata": {
  "@webio": {
   "lastCommId": "c15320246a65470f88edd712671b4083",
   "lastKernelId": "6c9a6c5b-72f8-405a-a2e0-4641f1fab266"
  },
  "kernelspec": {
   "display_name": "Julia 1.7.1",
   "language": "julia",
   "name": "julia-1.7"
  },
  "language_info": {
   "file_extension": ".jl",
   "mimetype": "application/julia",
   "name": "julia",
   "version": "1.7.2"
  }
 },
 "nbformat": 4,
 "nbformat_minor": 5
}
