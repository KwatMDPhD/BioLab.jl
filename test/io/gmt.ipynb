{
 "cells": [
  {
   "cell_type": "code",
   "execution_count": null,
   "id": "017464da",
   "metadata": {
    "execution": {
     "iopub.execute_input": "2022-02-13T23:28:24.077893Z",
     "iopub.status.busy": "2022-02-13T23:28:23.613336Z",
     "iopub.status.idle": "2022-02-13T23:28:24.359377Z",
     "shell.execute_reply": "2022-02-13T23:28:24.358518Z"
    }
   },
   "outputs": [],
   "source": [
    "TE = joinpath(tempdir(), \"OnePiece.test\")\n",
    "\n",
    "if isdir(TE)\n",
    "\n",
    "    rm(TE, recursive = true)\n",
    "\n",
    "    println(\"Removed \", TE, \".\")\n",
    "\n",
    "end\n",
    "\n",
    "mkdir(TE)\n",
    "\n",
    "println(\"Made \", TE, \".\")"
   ]
  },
  {
   "cell_type": "code",
   "execution_count": null,
   "id": "34e4701e",
   "metadata": {
    "execution": {
     "iopub.execute_input": "2022-02-13T23:28:24.361406Z",
     "iopub.status.busy": "2022-02-13T23:28:24.360762Z",
     "iopub.status.idle": "2022-02-13T23:28:29.138936Z",
     "shell.execute_reply": "2022-02-13T23:28:29.138362Z"
    }
   },
   "outputs": [],
   "source": [
    "using OnePiece"
   ]
  },
  {
   "cell_type": "markdown",
   "id": "b92a3da9",
   "metadata": {},
   "source": [
    "---"
   ]
  },
  {
   "cell_type": "markdown",
   "id": "d6a94f7d",
   "metadata": {},
   "source": [
    "## read"
   ]
  },
  {
   "cell_type": "code",
   "execution_count": null,
   "id": "9bccde5e",
   "metadata": {
    "execution": {
     "iopub.execute_input": "2022-02-13T23:28:29.482796Z",
     "iopub.status.busy": "2022-02-13T23:28:29.140411Z",
     "iopub.status.idle": "2022-02-13T23:28:29.534131Z",
     "shell.execute_reply": "2022-02-13T23:28:29.533581Z"
    }
   },
   "outputs": [],
   "source": [
    "da = joinpath(\"gmt.data\", \"\")\n",
    "\n",
    ";"
   ]
  },
  {
   "cell_type": "code",
   "execution_count": null,
   "id": "7ff0d266",
   "metadata": {
    "execution": {
     "iopub.execute_input": "2022-02-13T23:28:29.536353Z",
     "iopub.status.busy": "2022-02-13T23:28:29.535577Z",
     "iopub.status.idle": "2022-02-13T23:28:29.537347Z",
     "shell.execute_reply": "2022-02-13T23:28:29.536892Z"
    }
   },
   "outputs": [],
   "source": [
    "gm = joinpath(da, \"h.all.v7.1.symbols.gmt\")\n",
    "\n",
    ";"
   ]
  },
  {
   "cell_type": "code",
   "execution_count": null,
   "id": "eca3c643",
   "metadata": {
    "execution": {
     "iopub.execute_input": "2022-02-13T23:28:29.539371Z",
     "iopub.status.busy": "2022-02-13T23:28:29.538668Z",
     "iopub.status.idle": "2022-02-13T23:28:31.025850Z",
     "shell.execute_reply": "2022-02-13T23:28:31.025458Z"
    }
   },
   "outputs": [],
   "source": [
    "OnePiece.io.gmt.read(gm)"
   ]
  },
  {
   "cell_type": "code",
   "execution_count": null,
   "id": "e0db3fd1",
   "metadata": {
    "execution": {
     "iopub.execute_input": "2022-02-13T23:28:31.028243Z",
     "iopub.status.busy": "2022-02-13T23:28:31.027725Z",
     "iopub.status.idle": "2022-02-13T23:28:31.141648Z",
     "shell.execute_reply": "2022-02-13T23:28:31.141235Z"
    }
   },
   "outputs": [],
   "source": [
    "OnePiece.io.gmt.read([gm, joinpath(da, \"c2.all.v7.1.symbols.gmt\")])"
   ]
  },
  {
   "cell_type": "markdown",
   "id": "3f396855",
   "metadata": {},
   "source": [
    "---"
   ]
  },
  {
   "cell_type": "code",
   "execution_count": null,
   "id": "b4af2023",
   "metadata": {
    "execution": {
     "iopub.execute_input": "2022-02-13T23:28:31.144250Z",
     "iopub.status.busy": "2022-02-13T23:28:31.143372Z",
     "iopub.status.idle": "2022-02-13T23:28:31.146460Z",
     "shell.execute_reply": "2022-02-13T23:28:31.146071Z"
    }
   },
   "outputs": [],
   "source": [
    "if isdir(TE)\n",
    "\n",
    "    rm(TE, recursive = true)\n",
    "\n",
    "    println(\"Removed \", TE, \".\")\n",
    "\n",
    "end"
   ]
  }
 ],
 "metadata": {
  "kernelspec": {
   "display_name": "Julia 1.7.2",
   "language": "julia",
   "name": "julia-1.7"
  },
  "language_info": {
   "file_extension": ".jl",
   "mimetype": "application/julia",
   "name": "julia",
   "version": "1.7.2"
  }
 },
 "nbformat": 4,
 "nbformat_minor": 5
}
