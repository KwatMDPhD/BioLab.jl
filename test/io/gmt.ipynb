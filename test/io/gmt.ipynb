{
 "cells": [
  {
   "cell_type": "code",
   "execution_count": null,
   "id": "017464da",
   "metadata": {
    "execution": {
     "iopub.execute_input": "2022-02-11T08:09:52.958474Z",
     "iopub.status.busy": "2022-02-11T08:09:52.618332Z",
     "iopub.status.idle": "2022-02-11T08:09:53.150965Z",
     "shell.execute_reply": "2022-02-11T08:09:53.150414Z"
    }
   },
   "outputs": [],
   "source": [
    "TE = joinpath(tempdir(), \"OnePiece.test\")\n",
    "\n",
    "if isdir(TE)\n",
    "\n",
    "    rm(TE; recursive = true)\n",
    "\n",
    "    println(\"Removed \", TE, \".\")\n",
    "\n",
    "end\n",
    "\n",
    "mkdir(TE)\n",
    "\n",
    "println(\"Made \", TE, \".\")"
   ]
  },
  {
   "cell_type": "code",
   "execution_count": null,
   "id": "34e4701e",
   "metadata": {
    "execution": {
     "iopub.execute_input": "2022-02-11T08:09:53.153015Z",
     "iopub.status.busy": "2022-02-11T08:09:53.152392Z",
     "iopub.status.idle": "2022-02-11T08:09:57.291138Z",
     "shell.execute_reply": "2022-02-11T08:09:57.290618Z"
    }
   },
   "outputs": [],
   "source": [
    "using OnePiece"
   ]
  },
  {
   "cell_type": "markdown",
   "id": "b92a3da9",
   "metadata": {},
   "source": [
    "---"
   ]
  },
  {
   "cell_type": "markdown",
   "id": "d6a94f7d",
   "metadata": {},
   "source": [
    "## read"
   ]
  },
  {
   "cell_type": "code",
   "execution_count": null,
   "id": "9bccde5e",
   "metadata": {
    "execution": {
     "iopub.execute_input": "2022-02-11T08:09:57.600936Z",
     "iopub.status.busy": "2022-02-11T08:09:57.292543Z",
     "iopub.status.idle": "2022-02-11T08:09:57.647287Z",
     "shell.execute_reply": "2022-02-11T08:09:57.646787Z"
    }
   },
   "outputs": [],
   "source": [
    "da = joinpath(\"gmt.data\", \"\")\n",
    "\n",
    ";"
   ]
  },
  {
   "cell_type": "code",
   "execution_count": null,
   "id": "7ff0d266",
   "metadata": {
    "execution": {
     "iopub.execute_input": "2022-02-11T08:09:57.649669Z",
     "iopub.status.busy": "2022-02-11T08:09:57.648854Z",
     "iopub.status.idle": "2022-02-11T08:09:57.650603Z",
     "shell.execute_reply": "2022-02-11T08:09:57.650218Z"
    }
   },
   "outputs": [],
   "source": [
    "gm = joinpath(da, \"h.all.v7.1.symbols.gmt\")\n",
    "\n",
    ";"
   ]
  },
  {
   "cell_type": "code",
   "execution_count": null,
   "id": "eca3c643",
   "metadata": {
    "execution": {
     "iopub.execute_input": "2022-02-11T08:09:57.652531Z",
     "iopub.status.busy": "2022-02-11T08:09:57.652034Z",
     "iopub.status.idle": "2022-02-11T08:09:58.906756Z",
     "shell.execute_reply": "2022-02-11T08:09:58.906353Z"
    }
   },
   "outputs": [],
   "source": [
    "OnePiece.io.gmt.read(gm)"
   ]
  },
  {
   "cell_type": "code",
   "execution_count": null,
   "id": "e0db3fd1",
   "metadata": {
    "execution": {
     "iopub.execute_input": "2022-02-11T08:09:58.908770Z",
     "iopub.status.busy": "2022-02-11T08:09:58.908268Z",
     "iopub.status.idle": "2022-02-11T08:09:59.011305Z",
     "shell.execute_reply": "2022-02-11T08:09:59.010736Z"
    }
   },
   "outputs": [],
   "source": [
    "OnePiece.io.gmt.read([gm, joinpath(da, \"c2.all.v7.1.symbols.gmt\")])"
   ]
  },
  {
   "cell_type": "markdown",
   "id": "3f396855",
   "metadata": {},
   "source": [
    "---"
   ]
  },
  {
   "cell_type": "code",
   "execution_count": null,
   "id": "b4af2023",
   "metadata": {
    "execution": {
     "iopub.execute_input": "2022-02-11T08:09:59.014469Z",
     "iopub.status.busy": "2022-02-11T08:09:59.013745Z",
     "iopub.status.idle": "2022-02-11T08:09:59.018457Z",
     "shell.execute_reply": "2022-02-11T08:09:59.018100Z"
    }
   },
   "outputs": [],
   "source": [
    "if isdir(TE)\n",
    "\n",
    "    rm(TE; recursive = true)\n",
    "\n",
    "    println(\"Removed \", TE, \".\")\n",
    "\n",
    "end"
   ]
  }
 ],
 "metadata": {
  "kernelspec": {
   "display_name": "Julia 1.7.2",
   "language": "julia",
   "name": "julia-1.7"
  },
  "language_info": {
   "file_extension": ".jl",
   "mimetype": "application/julia",
   "name": "julia",
   "version": "1.7.2"
  }
 },
 "nbformat": 4,
 "nbformat_minor": 5
}
