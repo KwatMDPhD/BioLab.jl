{
 "cells": [
  {
   "cell_type": "code",
   "execution_count": null,
   "id": "017464da",
   "metadata": {
    "execution": {
     "iopub.execute_input": "2022-02-13T21:47:48.588868Z",
     "iopub.status.busy": "2022-02-13T21:47:48.234482Z",
     "iopub.status.idle": "2022-02-13T21:47:48.788562Z",
     "shell.execute_reply": "2022-02-13T21:47:48.788065Z"
    }
   },
   "outputs": [],
   "source": [
    "TE = joinpath(tempdir(), \"OnePiece.test\")\n",
    "\n",
    "if isdir(TE)\n",
    "\n",
    "    rm(TE, recursive = true)\n",
    "\n",
    "    println(\"Removed \", TE, \".\")\n",
    "\n",
    "end\n",
    "\n",
    "mkdir(TE)\n",
    "\n",
    "println(\"Made \", TE, \".\")"
   ]
  },
  {
   "cell_type": "code",
   "execution_count": null,
   "id": "34e4701e",
   "metadata": {
    "execution": {
     "iopub.execute_input": "2022-02-13T21:47:48.790492Z",
     "iopub.status.busy": "2022-02-13T21:47:48.789995Z",
     "iopub.status.idle": "2022-02-13T21:47:53.107577Z",
     "shell.execute_reply": "2022-02-13T21:47:53.107128Z"
    }
   },
   "outputs": [],
   "source": [
    "using OnePiece"
   ]
  },
  {
   "cell_type": "markdown",
   "id": "b92a3da9",
   "metadata": {},
   "source": [
    "---"
   ]
  },
  {
   "cell_type": "markdown",
   "id": "d6a94f7d",
   "metadata": {},
   "source": [
    "## read"
   ]
  },
  {
   "cell_type": "code",
   "execution_count": null,
   "id": "9bccde5e",
   "metadata": {
    "execution": {
     "iopub.execute_input": "2022-02-13T21:47:53.443804Z",
     "iopub.status.busy": "2022-02-13T21:47:53.108935Z",
     "iopub.status.idle": "2022-02-13T21:47:53.494861Z",
     "shell.execute_reply": "2022-02-13T21:47:53.494276Z"
    }
   },
   "outputs": [],
   "source": [
    "da = joinpath(\"gmt.data\", \"\")\n",
    "\n",
    ";"
   ]
  },
  {
   "cell_type": "code",
   "execution_count": null,
   "id": "7ff0d266",
   "metadata": {
    "execution": {
     "iopub.execute_input": "2022-02-13T21:47:53.497306Z",
     "iopub.status.busy": "2022-02-13T21:47:53.496479Z",
     "iopub.status.idle": "2022-02-13T21:47:53.498153Z",
     "shell.execute_reply": "2022-02-13T21:47:53.497779Z"
    }
   },
   "outputs": [],
   "source": [
    "gm = joinpath(da, \"h.all.v7.1.symbols.gmt\")\n",
    "\n",
    ";"
   ]
  },
  {
   "cell_type": "code",
   "execution_count": null,
   "id": "eca3c643",
   "metadata": {
    "execution": {
     "iopub.execute_input": "2022-02-13T21:47:53.499851Z",
     "iopub.status.busy": "2022-02-13T21:47:53.499314Z",
     "iopub.status.idle": "2022-02-13T21:47:54.826377Z",
     "shell.execute_reply": "2022-02-13T21:47:54.825987Z"
    }
   },
   "outputs": [],
   "source": [
    "OnePiece.io.gmt.read(gm)"
   ]
  },
  {
   "cell_type": "code",
   "execution_count": null,
   "id": "e0db3fd1",
   "metadata": {
    "execution": {
     "iopub.execute_input": "2022-02-13T21:47:54.828304Z",
     "iopub.status.busy": "2022-02-13T21:47:54.827722Z",
     "iopub.status.idle": "2022-02-13T21:47:54.940535Z",
     "shell.execute_reply": "2022-02-13T21:47:54.940146Z"
    }
   },
   "outputs": [],
   "source": [
    "OnePiece.io.gmt.read([gm, joinpath(da, \"c2.all.v7.1.symbols.gmt\")])"
   ]
  },
  {
   "cell_type": "markdown",
   "id": "3f396855",
   "metadata": {},
   "source": [
    "---"
   ]
  },
  {
   "cell_type": "code",
   "execution_count": null,
   "id": "b4af2023",
   "metadata": {
    "execution": {
     "iopub.execute_input": "2022-02-13T21:47:54.942625Z",
     "iopub.status.busy": "2022-02-13T21:47:54.942046Z",
     "iopub.status.idle": "2022-02-13T21:47:54.944319Z",
     "shell.execute_reply": "2022-02-13T21:47:54.943941Z"
    }
   },
   "outputs": [],
   "source": [
    "if isdir(TE)\n",
    "\n",
    "    rm(TE, recursive = true)\n",
    "\n",
    "    println(\"Removed \", TE, \".\")\n",
    "\n",
    "end"
   ]
  }
 ],
 "metadata": {
  "kernelspec": {
   "display_name": "Julia 1.7.2",
   "language": "julia",
   "name": "julia-1.7"
  },
  "language_info": {
   "file_extension": ".jl",
   "mimetype": "application/julia",
   "name": "julia",
   "version": "1.7.2"
  }
 },
 "nbformat": 4,
 "nbformat_minor": 5
}
