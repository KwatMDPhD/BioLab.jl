{
 "cells": [
  {
   "cell_type": "code",
   "execution_count": null,
   "id": "34e4701e",
   "metadata": {
    "execution": {
     "iopub.execute_input": "2022-02-09T02:34:00.877848Z",
     "iopub.status.busy": "2022-02-09T02:34:00.428557Z",
     "iopub.status.idle": "2022-02-09T02:34:01.932148Z",
     "shell.execute_reply": "2022-02-09T02:34:01.931586Z"
    }
   },
   "outputs": [],
   "source": [
    "using Revise\n",
    "using BenchmarkTools"
   ]
  },
  {
   "cell_type": "code",
   "execution_count": null,
   "id": "a546862f",
   "metadata": {
    "execution": {
     "iopub.execute_input": "2022-02-09T02:34:01.934055Z",
     "iopub.status.busy": "2022-02-09T02:34:01.933461Z",
     "iopub.status.idle": "2022-02-09T02:34:12.897826Z",
     "shell.execute_reply": "2022-02-09T02:34:12.897304Z"
    }
   },
   "outputs": [],
   "source": [
    "using OnePiece"
   ]
  },
  {
   "cell_type": "markdown",
   "id": "d6a94f7d",
   "metadata": {},
   "source": [
    "## read"
   ]
  },
  {
   "cell_type": "code",
   "execution_count": null,
   "id": "9bccde5e",
   "metadata": {
    "execution": {
     "iopub.execute_input": "2022-02-09T02:34:14.659015Z",
     "iopub.status.busy": "2022-02-09T02:34:12.899356Z",
     "iopub.status.idle": "2022-02-09T02:34:15.379402Z",
     "shell.execute_reply": "2022-02-09T02:34:15.378761Z"
    }
   },
   "outputs": [],
   "source": [
    "da = joinpath(\"gmt.data\", \"\")\n",
    "\n",
    ";"
   ]
  },
  {
   "cell_type": "code",
   "execution_count": null,
   "id": "7ff0d266",
   "metadata": {
    "execution": {
     "iopub.execute_input": "2022-02-09T02:34:15.381884Z",
     "iopub.status.busy": "2022-02-09T02:34:15.381075Z",
     "iopub.status.idle": "2022-02-09T02:34:15.393901Z",
     "shell.execute_reply": "2022-02-09T02:34:15.393337Z"
    }
   },
   "outputs": [],
   "source": [
    "gm = joinpath(da, \"h.all.v7.1.symbols.gmt\")\n",
    "\n",
    ";"
   ]
  },
  {
   "cell_type": "code",
   "execution_count": null,
   "id": "eca3c643",
   "metadata": {
    "execution": {
     "iopub.execute_input": "2022-02-09T02:34:15.395751Z",
     "iopub.status.busy": "2022-02-09T02:34:15.395091Z",
     "iopub.status.idle": "2022-02-09T02:34:16.622333Z",
     "shell.execute_reply": "2022-02-09T02:34:16.621932Z"
    }
   },
   "outputs": [],
   "source": [
    "OnePiece.io.gmt.read(gm)"
   ]
  },
  {
   "cell_type": "code",
   "execution_count": null,
   "id": "e0db3fd1",
   "metadata": {
    "execution": {
     "iopub.execute_input": "2022-02-09T02:34:16.624065Z",
     "iopub.status.busy": "2022-02-09T02:34:16.623552Z",
     "iopub.status.idle": "2022-02-09T02:34:16.744903Z",
     "shell.execute_reply": "2022-02-09T02:34:16.744476Z"
    }
   },
   "outputs": [],
   "source": [
    "OnePiece.io.gmt.read([gm, joinpath(da, \"c2.all.v7.1.symbols.gmt\")])"
   ]
  }
 ],
 "metadata": {
  "@webio": {
   "lastCommId": "c15320246a65470f88edd712671b4083",
   "lastKernelId": "6c9a6c5b-72f8-405a-a2e0-4641f1fab266"
  },
  "kernelspec": {
   "display_name": "Julia 1.7.1",
   "language": "julia",
   "name": "julia-1.7"
  },
  "language_info": {
   "file_extension": ".jl",
   "mimetype": "application/julia",
   "name": "julia",
   "version": "1.7.2"
  }
 },
 "nbformat": 4,
 "nbformat_minor": 5
}
