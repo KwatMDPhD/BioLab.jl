{
 "cells": [
  {
   "cell_type": "code",
   "execution_count": null,
   "id": "34e4701e",
   "metadata": {
    "execution": {
     "iopub.execute_input": "2022-02-08T23:58:32.987990Z",
     "iopub.status.busy": "2022-02-08T23:58:32.567008Z",
     "iopub.status.idle": "2022-02-08T23:58:34.707093Z",
     "shell.execute_reply": "2022-02-08T23:58:34.703711Z"
    }
   },
   "outputs": [],
   "source": [
    "using Revise\n",
    "using BenchmarkTools"
   ]
  },
  {
   "cell_type": "code",
   "execution_count": null,
   "id": "a546862f",
   "metadata": {
    "execution": {
     "iopub.execute_input": "2022-02-08T23:58:34.710915Z",
     "iopub.status.busy": "2022-02-08T23:58:34.709856Z",
     "iopub.status.idle": "2022-02-08T23:58:46.678062Z",
     "shell.execute_reply": "2022-02-08T23:58:46.677414Z"
    }
   },
   "outputs": [],
   "source": [
    "using OnePiece"
   ]
  },
  {
   "cell_type": "markdown",
   "id": "d6a94f7d",
   "metadata": {},
   "source": [
    "## read"
   ]
  },
  {
   "cell_type": "code",
   "execution_count": null,
   "id": "9bccde5e",
   "metadata": {
    "execution": {
     "iopub.execute_input": "2022-02-08T23:58:48.325391Z",
     "iopub.status.busy": "2022-02-08T23:58:46.679620Z",
     "iopub.status.idle": "2022-02-08T23:58:48.948966Z",
     "shell.execute_reply": "2022-02-08T23:58:48.948401Z"
    }
   },
   "outputs": [],
   "source": [
    "da = joinpath(\"gmt.data\", \"\")\n",
    "\n",
    ";"
   ]
  },
  {
   "cell_type": "code",
   "execution_count": null,
   "id": "7ff0d266",
   "metadata": {
    "execution": {
     "iopub.execute_input": "2022-02-08T23:58:48.950943Z",
     "iopub.status.busy": "2022-02-08T23:58:48.950447Z",
     "iopub.status.idle": "2022-02-08T23:58:48.962879Z",
     "shell.execute_reply": "2022-02-08T23:58:48.962416Z"
    }
   },
   "outputs": [],
   "source": [
    "gm = joinpath(da, \"h.all.v7.1.symbols.gmt\")\n",
    "\n",
    ";"
   ]
  },
  {
   "cell_type": "code",
   "execution_count": null,
   "id": "eca3c643",
   "metadata": {
    "execution": {
     "iopub.execute_input": "2022-02-08T23:58:48.964808Z",
     "iopub.status.busy": "2022-02-08T23:58:48.964296Z",
     "iopub.status.idle": "2022-02-08T23:58:50.191647Z",
     "shell.execute_reply": "2022-02-08T23:58:50.191228Z"
    }
   },
   "outputs": [],
   "source": [
    "OnePiece.io.gmt.read(gm)"
   ]
  },
  {
   "cell_type": "code",
   "execution_count": null,
   "id": "e0db3fd1",
   "metadata": {
    "execution": {
     "iopub.execute_input": "2022-02-08T23:58:50.193626Z",
     "iopub.status.busy": "2022-02-08T23:58:50.193092Z",
     "iopub.status.idle": "2022-02-08T23:58:50.336048Z",
     "shell.execute_reply": "2022-02-08T23:58:50.335616Z"
    }
   },
   "outputs": [],
   "source": [
    "OnePiece.io.gmt.read([gm, joinpath(da, \"c2.all.v7.1.symbols.gmt\")])"
   ]
  }
 ],
 "metadata": {
  "@webio": {
   "lastCommId": "c15320246a65470f88edd712671b4083",
   "lastKernelId": "6c9a6c5b-72f8-405a-a2e0-4641f1fab266"
  },
  "kernelspec": {
   "display_name": "Julia 1.7.1",
   "language": "julia",
   "name": "julia-1.7"
  },
  "language_info": {
   "file_extension": ".jl",
   "mimetype": "application/julia",
   "name": "julia",
   "version": "1.7.2"
  }
 },
 "nbformat": 4,
 "nbformat_minor": 5
}
