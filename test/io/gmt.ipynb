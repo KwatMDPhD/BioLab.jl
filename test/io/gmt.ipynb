{
 "cells": [
  {
   "cell_type": "code",
   "execution_count": null,
   "id": "017464da",
   "metadata": {
    "execution": {
     "iopub.execute_input": "2022-02-11T19:55:59.976242Z",
     "iopub.status.busy": "2022-02-11T19:55:59.520614Z",
     "iopub.status.idle": "2022-02-11T19:56:00.229272Z",
     "shell.execute_reply": "2022-02-11T19:56:00.228624Z"
    }
   },
   "outputs": [],
   "source": [
    "TE = joinpath(tempdir(), \"OnePiece.test\")\n",
    "\n",
    "if isdir(TE)\n",
    "\n",
    "    rm(TE, recursive = true)\n",
    "\n",
    "    println(\"Removed \", TE, \".\")\n",
    "\n",
    "end\n",
    "\n",
    "mkdir(TE)\n",
    "\n",
    "println(\"Made \", TE, \".\")"
   ]
  },
  {
   "cell_type": "code",
   "execution_count": null,
   "id": "34e4701e",
   "metadata": {
    "execution": {
     "iopub.execute_input": "2022-02-11T19:56:00.231466Z",
     "iopub.status.busy": "2022-02-11T19:56:00.230775Z",
     "iopub.status.idle": "2022-02-11T19:56:05.771650Z",
     "shell.execute_reply": "2022-02-11T19:56:05.771067Z"
    }
   },
   "outputs": [],
   "source": [
    "using OnePiece"
   ]
  },
  {
   "cell_type": "markdown",
   "id": "b92a3da9",
   "metadata": {},
   "source": [
    "---"
   ]
  },
  {
   "cell_type": "markdown",
   "id": "d6a94f7d",
   "metadata": {},
   "source": [
    "## read"
   ]
  },
  {
   "cell_type": "code",
   "execution_count": null,
   "id": "9bccde5e",
   "metadata": {
    "execution": {
     "iopub.execute_input": "2022-02-11T19:56:06.192304Z",
     "iopub.status.busy": "2022-02-11T19:56:05.773520Z",
     "iopub.status.idle": "2022-02-11T19:56:06.254066Z",
     "shell.execute_reply": "2022-02-11T19:56:06.253551Z"
    }
   },
   "outputs": [],
   "source": [
    "da = joinpath(\"gmt.data\", \"\")\n",
    "\n",
    ";"
   ]
  },
  {
   "cell_type": "code",
   "execution_count": null,
   "id": "7ff0d266",
   "metadata": {
    "execution": {
     "iopub.execute_input": "2022-02-11T19:56:06.256426Z",
     "iopub.status.busy": "2022-02-11T19:56:06.255502Z",
     "iopub.status.idle": "2022-02-11T19:56:06.257624Z",
     "shell.execute_reply": "2022-02-11T19:56:06.257097Z"
    }
   },
   "outputs": [],
   "source": [
    "gm = joinpath(da, \"h.all.v7.1.symbols.gmt\")\n",
    "\n",
    ";"
   ]
  },
  {
   "cell_type": "code",
   "execution_count": null,
   "id": "eca3c643",
   "metadata": {
    "execution": {
     "iopub.execute_input": "2022-02-11T19:56:06.259736Z",
     "iopub.status.busy": "2022-02-11T19:56:06.259053Z",
     "iopub.status.idle": "2022-02-11T19:56:07.930194Z",
     "shell.execute_reply": "2022-02-11T19:56:07.929677Z"
    }
   },
   "outputs": [],
   "source": [
    "OnePiece.io.gmt.read(gm)"
   ]
  },
  {
   "cell_type": "code",
   "execution_count": null,
   "id": "e0db3fd1",
   "metadata": {
    "execution": {
     "iopub.execute_input": "2022-02-11T19:56:07.932492Z",
     "iopub.status.busy": "2022-02-11T19:56:07.931741Z",
     "iopub.status.idle": "2022-02-11T19:56:08.061130Z",
     "shell.execute_reply": "2022-02-11T19:56:08.060599Z"
    }
   },
   "outputs": [],
   "source": [
    "OnePiece.io.gmt.read([gm, joinpath(da, \"c2.all.v7.1.symbols.gmt\")])"
   ]
  },
  {
   "cell_type": "markdown",
   "id": "3f396855",
   "metadata": {},
   "source": [
    "---"
   ]
  },
  {
   "cell_type": "code",
   "execution_count": null,
   "id": "b4af2023",
   "metadata": {
    "execution": {
     "iopub.execute_input": "2022-02-11T19:56:08.063445Z",
     "iopub.status.busy": "2022-02-11T19:56:08.062716Z",
     "iopub.status.idle": "2022-02-11T19:56:08.065561Z",
     "shell.execute_reply": "2022-02-11T19:56:08.065065Z"
    }
   },
   "outputs": [],
   "source": [
    "if isdir(TE)\n",
    "\n",
    "    rm(TE, recursive = true)\n",
    "\n",
    "    println(\"Removed \", TE, \".\")\n",
    "\n",
    "end"
   ]
  }
 ],
 "metadata": {
  "kernelspec": {
   "display_name": "Julia 1.7.2",
   "language": "julia",
   "name": "julia-1.7"
  },
  "language_info": {
   "file_extension": ".jl",
   "mimetype": "application/julia",
   "name": "julia",
   "version": "1.7.2"
  }
 },
 "nbformat": 4,
 "nbformat_minor": 5
}
