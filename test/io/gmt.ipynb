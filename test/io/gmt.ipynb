{
 "cells": [
  {
   "cell_type": "code",
   "execution_count": null,
   "id": "017464da",
   "metadata": {
    "execution": {
     "iopub.execute_input": "2022-02-13T23:09:31.202712Z",
     "iopub.status.busy": "2022-02-13T23:09:30.832419Z",
     "iopub.status.idle": "2022-02-13T23:09:31.405643Z",
     "shell.execute_reply": "2022-02-13T23:09:31.404889Z"
    }
   },
   "outputs": [],
   "source": [
    "TE = joinpath(tempdir(), \"OnePiece.test\")\n",
    "\n",
    "if isdir(TE)\n",
    "\n",
    "    rm(TE, recursive = true)\n",
    "\n",
    "    println(\"Removed \", TE, \".\")\n",
    "\n",
    "end\n",
    "\n",
    "mkdir(TE)\n",
    "\n",
    "println(\"Made \", TE, \".\")"
   ]
  },
  {
   "cell_type": "code",
   "execution_count": null,
   "id": "34e4701e",
   "metadata": {
    "execution": {
     "iopub.execute_input": "2022-02-13T23:09:31.408019Z",
     "iopub.status.busy": "2022-02-13T23:09:31.407166Z",
     "iopub.status.idle": "2022-02-13T23:09:35.930699Z",
     "shell.execute_reply": "2022-02-13T23:09:35.930156Z"
    }
   },
   "outputs": [],
   "source": [
    "using OnePiece"
   ]
  },
  {
   "cell_type": "markdown",
   "id": "b92a3da9",
   "metadata": {},
   "source": [
    "---"
   ]
  },
  {
   "cell_type": "markdown",
   "id": "d6a94f7d",
   "metadata": {},
   "source": [
    "## read"
   ]
  },
  {
   "cell_type": "code",
   "execution_count": null,
   "id": "9bccde5e",
   "metadata": {
    "execution": {
     "iopub.execute_input": "2022-02-13T23:09:36.278981Z",
     "iopub.status.busy": "2022-02-13T23:09:35.932408Z",
     "iopub.status.idle": "2022-02-13T23:09:36.327792Z",
     "shell.execute_reply": "2022-02-13T23:09:36.327335Z"
    }
   },
   "outputs": [],
   "source": [
    "da = joinpath(\"gmt.data\", \"\")\n",
    "\n",
    ";"
   ]
  },
  {
   "cell_type": "code",
   "execution_count": null,
   "id": "7ff0d266",
   "metadata": {
    "execution": {
     "iopub.execute_input": "2022-02-13T23:09:36.330660Z",
     "iopub.status.busy": "2022-02-13T23:09:36.329326Z",
     "iopub.status.idle": "2022-02-13T23:09:36.331757Z",
     "shell.execute_reply": "2022-02-13T23:09:36.331372Z"
    }
   },
   "outputs": [],
   "source": [
    "gm = joinpath(da, \"h.all.v7.1.symbols.gmt\")\n",
    "\n",
    ";"
   ]
  },
  {
   "cell_type": "code",
   "execution_count": null,
   "id": "eca3c643",
   "metadata": {
    "execution": {
     "iopub.execute_input": "2022-02-13T23:09:36.333731Z",
     "iopub.status.busy": "2022-02-13T23:09:36.333206Z",
     "iopub.status.idle": "2022-02-13T23:09:37.661082Z",
     "shell.execute_reply": "2022-02-13T23:09:37.660675Z"
    }
   },
   "outputs": [],
   "source": [
    "OnePiece.io.gmt.read(gm)"
   ]
  },
  {
   "cell_type": "code",
   "execution_count": null,
   "id": "e0db3fd1",
   "metadata": {
    "execution": {
     "iopub.execute_input": "2022-02-13T23:09:37.662880Z",
     "iopub.status.busy": "2022-02-13T23:09:37.662379Z",
     "iopub.status.idle": "2022-02-13T23:09:37.771154Z",
     "shell.execute_reply": "2022-02-13T23:09:37.770678Z"
    }
   },
   "outputs": [],
   "source": [
    "OnePiece.io.gmt.read([gm, joinpath(da, \"c2.all.v7.1.symbols.gmt\")])"
   ]
  },
  {
   "cell_type": "markdown",
   "id": "3f396855",
   "metadata": {},
   "source": [
    "---"
   ]
  },
  {
   "cell_type": "code",
   "execution_count": null,
   "id": "b4af2023",
   "metadata": {
    "execution": {
     "iopub.execute_input": "2022-02-13T23:09:37.773070Z",
     "iopub.status.busy": "2022-02-13T23:09:37.772475Z",
     "iopub.status.idle": "2022-02-13T23:09:37.774983Z",
     "shell.execute_reply": "2022-02-13T23:09:37.774571Z"
    }
   },
   "outputs": [],
   "source": [
    "if isdir(TE)\n",
    "\n",
    "    rm(TE, recursive = true)\n",
    "\n",
    "    println(\"Removed \", TE, \".\")\n",
    "\n",
    "end"
   ]
  }
 ],
 "metadata": {
  "kernelspec": {
   "display_name": "Julia 1.7.2",
   "language": "julia",
   "name": "julia-1.7"
  },
  "language_info": {
   "file_extension": ".jl",
   "mimetype": "application/julia",
   "name": "julia",
   "version": "1.7.2"
  }
 },
 "nbformat": 4,
 "nbformat_minor": 5
}
