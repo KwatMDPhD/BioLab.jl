{
 "cells": [
  {
   "cell_type": "code",
   "execution_count": null,
   "id": "017464da",
   "metadata": {
    "execution": {
     "iopub.execute_input": "2022-02-14T16:11:14.186520Z",
     "iopub.status.busy": "2022-02-14T16:11:13.817285Z",
     "iopub.status.idle": "2022-02-14T16:11:14.411225Z",
     "shell.execute_reply": "2022-02-14T16:11:14.410706Z"
    }
   },
   "outputs": [],
   "source": [
    "TE = joinpath(tempdir(), \"OnePiece.test\")\n",
    "\n",
    "if isdir(TE)\n",
    "\n",
    "    rm(TE, recursive = true)\n",
    "\n",
    "    println(\"Removed \", TE, \".\")\n",
    "\n",
    "end\n",
    "\n",
    "mkdir(TE)\n",
    "\n",
    "println(\"Made \", TE, \".\")"
   ]
  },
  {
   "cell_type": "code",
   "execution_count": null,
   "id": "34e4701e",
   "metadata": {
    "execution": {
     "iopub.execute_input": "2022-02-14T16:11:14.413029Z",
     "iopub.status.busy": "2022-02-14T16:11:14.412508Z",
     "iopub.status.idle": "2022-02-14T16:11:18.724750Z",
     "shell.execute_reply": "2022-02-14T16:11:18.724355Z"
    }
   },
   "outputs": [],
   "source": [
    "using OnePiece"
   ]
  },
  {
   "cell_type": "markdown",
   "id": "b92a3da9",
   "metadata": {},
   "source": [
    "---"
   ]
  },
  {
   "cell_type": "markdown",
   "id": "d6a94f7d",
   "metadata": {},
   "source": [
    "## read"
   ]
  },
  {
   "cell_type": "code",
   "execution_count": null,
   "id": "9bccde5e",
   "metadata": {
    "execution": {
     "iopub.execute_input": "2022-02-14T16:11:19.046872Z",
     "iopub.status.busy": "2022-02-14T16:11:18.726211Z",
     "iopub.status.idle": "2022-02-14T16:11:19.095661Z",
     "shell.execute_reply": "2022-02-14T16:11:19.095195Z"
    }
   },
   "outputs": [],
   "source": [
    "da = joinpath(\"gmt.data\", \"\")\n",
    "\n",
    ";"
   ]
  },
  {
   "cell_type": "code",
   "execution_count": null,
   "id": "7ff0d266",
   "metadata": {
    "execution": {
     "iopub.execute_input": "2022-02-14T16:11:19.098110Z",
     "iopub.status.busy": "2022-02-14T16:11:19.097375Z",
     "iopub.status.idle": "2022-02-14T16:11:19.098949Z",
     "shell.execute_reply": "2022-02-14T16:11:19.098567Z"
    }
   },
   "outputs": [],
   "source": [
    "gm = joinpath(da, \"h.all.v7.1.symbols.gmt\")\n",
    "\n",
    ";"
   ]
  },
  {
   "cell_type": "code",
   "execution_count": null,
   "id": "eca3c643",
   "metadata": {
    "execution": {
     "iopub.execute_input": "2022-02-14T16:11:19.100799Z",
     "iopub.status.busy": "2022-02-14T16:11:19.100303Z",
     "iopub.status.idle": "2022-02-14T16:11:20.370828Z",
     "shell.execute_reply": "2022-02-14T16:11:20.370442Z"
    }
   },
   "outputs": [],
   "source": [
    "OnePiece.io.gmt.read(gm)"
   ]
  },
  {
   "cell_type": "code",
   "execution_count": null,
   "id": "e0db3fd1",
   "metadata": {
    "execution": {
     "iopub.execute_input": "2022-02-14T16:11:20.372693Z",
     "iopub.status.busy": "2022-02-14T16:11:20.372175Z",
     "iopub.status.idle": "2022-02-14T16:11:20.472292Z",
     "shell.execute_reply": "2022-02-14T16:11:20.471872Z"
    }
   },
   "outputs": [],
   "source": [
    "OnePiece.io.gmt.read([gm, joinpath(da, \"c2.all.v7.1.symbols.gmt\")])"
   ]
  },
  {
   "cell_type": "markdown",
   "id": "3f396855",
   "metadata": {},
   "source": [
    "---"
   ]
  },
  {
   "cell_type": "code",
   "execution_count": null,
   "id": "b4af2023",
   "metadata": {
    "execution": {
     "iopub.execute_input": "2022-02-14T16:11:20.474340Z",
     "iopub.status.busy": "2022-02-14T16:11:20.473688Z",
     "iopub.status.idle": "2022-02-14T16:11:20.476315Z",
     "shell.execute_reply": "2022-02-14T16:11:20.475787Z"
    }
   },
   "outputs": [],
   "source": [
    "if isdir(TE)\n",
    "\n",
    "    rm(TE, recursive = true)\n",
    "\n",
    "    println(\"Removed \", TE, \".\")\n",
    "\n",
    "end"
   ]
  }
 ],
 "metadata": {
  "kernelspec": {
   "display_name": "Julia 1.7.2",
   "language": "julia",
   "name": "julia-1.7"
  },
  "language_info": {
   "file_extension": ".jl",
   "mimetype": "application/julia",
   "name": "julia",
   "version": "1.7.2"
  }
 },
 "nbformat": 4,
 "nbformat_minor": 5
}
