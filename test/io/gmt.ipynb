{
 "cells": [
  {
   "cell_type": "code",
   "execution_count": null,
   "id": "017464da",
   "metadata": {
    "execution": {
     "iopub.execute_input": "2022-02-13T22:21:48.051855Z",
     "iopub.status.busy": "2022-02-13T22:21:47.689836Z",
     "iopub.status.idle": "2022-02-13T22:21:48.253267Z",
     "shell.execute_reply": "2022-02-13T22:21:48.252770Z"
    }
   },
   "outputs": [],
   "source": [
    "TE = joinpath(tempdir(), \"OnePiece.test\")\n",
    "\n",
    "if isdir(TE)\n",
    "\n",
    "    rm(TE, recursive = true)\n",
    "\n",
    "    println(\"Removed \", TE, \".\")\n",
    "\n",
    "end\n",
    "\n",
    "mkdir(TE)\n",
    "\n",
    "println(\"Made \", TE, \".\")"
   ]
  },
  {
   "cell_type": "code",
   "execution_count": null,
   "id": "34e4701e",
   "metadata": {
    "execution": {
     "iopub.execute_input": "2022-02-13T22:21:48.255311Z",
     "iopub.status.busy": "2022-02-13T22:21:48.254809Z",
     "iopub.status.idle": "2022-02-13T22:21:52.636821Z",
     "shell.execute_reply": "2022-02-13T22:21:52.636186Z"
    }
   },
   "outputs": [],
   "source": [
    "using OnePiece"
   ]
  },
  {
   "cell_type": "markdown",
   "id": "b92a3da9",
   "metadata": {},
   "source": [
    "---"
   ]
  },
  {
   "cell_type": "markdown",
   "id": "d6a94f7d",
   "metadata": {},
   "source": [
    "## read"
   ]
  },
  {
   "cell_type": "code",
   "execution_count": null,
   "id": "9bccde5e",
   "metadata": {
    "execution": {
     "iopub.execute_input": "2022-02-13T22:21:52.965507Z",
     "iopub.status.busy": "2022-02-13T22:21:52.638538Z",
     "iopub.status.idle": "2022-02-13T22:21:53.018709Z",
     "shell.execute_reply": "2022-02-13T22:21:53.018035Z"
    }
   },
   "outputs": [],
   "source": [
    "da = joinpath(\"gmt.data\", \"\")\n",
    "\n",
    ";"
   ]
  },
  {
   "cell_type": "code",
   "execution_count": null,
   "id": "7ff0d266",
   "metadata": {
    "execution": {
     "iopub.execute_input": "2022-02-13T22:21:53.020958Z",
     "iopub.status.busy": "2022-02-13T22:21:53.020148Z",
     "iopub.status.idle": "2022-02-13T22:21:53.021780Z",
     "shell.execute_reply": "2022-02-13T22:21:53.021404Z"
    }
   },
   "outputs": [],
   "source": [
    "gm = joinpath(da, \"h.all.v7.1.symbols.gmt\")\n",
    "\n",
    ";"
   ]
  },
  {
   "cell_type": "code",
   "execution_count": null,
   "id": "eca3c643",
   "metadata": {
    "execution": {
     "iopub.execute_input": "2022-02-13T22:21:53.023708Z",
     "iopub.status.busy": "2022-02-13T22:21:53.023117Z",
     "iopub.status.idle": "2022-02-13T22:21:54.347280Z",
     "shell.execute_reply": "2022-02-13T22:21:54.346888Z"
    }
   },
   "outputs": [],
   "source": [
    "OnePiece.io.gmt.read(gm)"
   ]
  },
  {
   "cell_type": "code",
   "execution_count": null,
   "id": "e0db3fd1",
   "metadata": {
    "execution": {
     "iopub.execute_input": "2022-02-13T22:21:54.349822Z",
     "iopub.status.busy": "2022-02-13T22:21:54.349316Z",
     "iopub.status.idle": "2022-02-13T22:21:54.457783Z",
     "shell.execute_reply": "2022-02-13T22:21:54.457369Z"
    }
   },
   "outputs": [],
   "source": [
    "OnePiece.io.gmt.read([gm, joinpath(da, \"c2.all.v7.1.symbols.gmt\")])"
   ]
  },
  {
   "cell_type": "markdown",
   "id": "3f396855",
   "metadata": {},
   "source": [
    "---"
   ]
  },
  {
   "cell_type": "code",
   "execution_count": null,
   "id": "b4af2023",
   "metadata": {
    "execution": {
     "iopub.execute_input": "2022-02-13T22:21:54.459866Z",
     "iopub.status.busy": "2022-02-13T22:21:54.459097Z",
     "iopub.status.idle": "2022-02-13T22:21:54.462682Z",
     "shell.execute_reply": "2022-02-13T22:21:54.462304Z"
    }
   },
   "outputs": [],
   "source": [
    "if isdir(TE)\n",
    "\n",
    "    rm(TE, recursive = true)\n",
    "\n",
    "    println(\"Removed \", TE, \".\")\n",
    "\n",
    "end"
   ]
  }
 ],
 "metadata": {
  "kernelspec": {
   "display_name": "Julia 1.7.2",
   "language": "julia",
   "name": "julia-1.7"
  },
  "language_info": {
   "file_extension": ".jl",
   "mimetype": "application/julia",
   "name": "julia",
   "version": "1.7.2"
  }
 },
 "nbformat": 4,
 "nbformat_minor": 5
}
