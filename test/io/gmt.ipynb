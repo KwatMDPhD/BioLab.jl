{
 "cells": [
  {
   "cell_type": "code",
   "execution_count": null,
   "id": "017464da",
   "metadata": {
    "execution": {
     "iopub.execute_input": "2022-02-14T16:44:55.825533Z",
     "iopub.status.busy": "2022-02-14T16:44:55.338937Z",
     "iopub.status.idle": "2022-02-14T16:44:56.096394Z",
     "shell.execute_reply": "2022-02-14T16:44:56.095706Z"
    }
   },
   "outputs": [],
   "source": [
    "TE = joinpath(tempdir(), \"OnePiece.test\")\n",
    "\n",
    "if isdir(TE)\n",
    "\n",
    "    rm(TE, recursive = true)\n",
    "\n",
    "    println(\"Removed \", TE, \".\")\n",
    "\n",
    "end\n",
    "\n",
    "mkdir(TE)\n",
    "\n",
    "println(\"Made \", TE, \".\")"
   ]
  },
  {
   "cell_type": "code",
   "execution_count": null,
   "id": "34e4701e",
   "metadata": {
    "execution": {
     "iopub.execute_input": "2022-02-14T16:44:56.098785Z",
     "iopub.status.busy": "2022-02-14T16:44:56.097990Z",
     "iopub.status.idle": "2022-02-14T16:45:01.935737Z",
     "shell.execute_reply": "2022-02-14T16:45:01.935173Z"
    }
   },
   "outputs": [],
   "source": [
    "using OnePiece"
   ]
  },
  {
   "cell_type": "markdown",
   "id": "b92a3da9",
   "metadata": {},
   "source": [
    "---"
   ]
  },
  {
   "cell_type": "markdown",
   "id": "d6a94f7d",
   "metadata": {},
   "source": [
    "## read"
   ]
  },
  {
   "cell_type": "code",
   "execution_count": null,
   "id": "9bccde5e",
   "metadata": {
    "execution": {
     "iopub.execute_input": "2022-02-14T16:45:02.372468Z",
     "iopub.status.busy": "2022-02-14T16:45:01.937354Z",
     "iopub.status.idle": "2022-02-14T16:45:02.437249Z",
     "shell.execute_reply": "2022-02-14T16:45:02.436654Z"
    }
   },
   "outputs": [],
   "source": [
    "da = joinpath(\"gmt.data\", \"\")\n",
    "\n",
    ";"
   ]
  },
  {
   "cell_type": "code",
   "execution_count": null,
   "id": "7ff0d266",
   "metadata": {
    "execution": {
     "iopub.execute_input": "2022-02-14T16:45:02.439570Z",
     "iopub.status.busy": "2022-02-14T16:45:02.438756Z",
     "iopub.status.idle": "2022-02-14T16:45:02.440699Z",
     "shell.execute_reply": "2022-02-14T16:45:02.440179Z"
    }
   },
   "outputs": [],
   "source": [
    "gm = joinpath(da, \"h.all.v7.1.symbols.gmt\")\n",
    "\n",
    ";"
   ]
  },
  {
   "cell_type": "code",
   "execution_count": null,
   "id": "eca3c643",
   "metadata": {
    "execution": {
     "iopub.execute_input": "2022-02-14T16:45:02.442822Z",
     "iopub.status.busy": "2022-02-14T16:45:02.442152Z",
     "iopub.status.idle": "2022-02-14T16:45:04.229185Z",
     "shell.execute_reply": "2022-02-14T16:45:04.228634Z"
    }
   },
   "outputs": [],
   "source": [
    "OnePiece.io.gmt.read(gm)"
   ]
  },
  {
   "cell_type": "code",
   "execution_count": null,
   "id": "e0db3fd1",
   "metadata": {
    "execution": {
     "iopub.execute_input": "2022-02-14T16:45:04.231446Z",
     "iopub.status.busy": "2022-02-14T16:45:04.230706Z",
     "iopub.status.idle": "2022-02-14T16:45:04.364407Z",
     "shell.execute_reply": "2022-02-14T16:45:04.363833Z"
    }
   },
   "outputs": [],
   "source": [
    "OnePiece.io.gmt.read([gm, joinpath(da, \"c2.all.v7.1.symbols.gmt\")])"
   ]
  },
  {
   "cell_type": "markdown",
   "id": "3f396855",
   "metadata": {},
   "source": [
    "---"
   ]
  },
  {
   "cell_type": "code",
   "execution_count": null,
   "id": "b4af2023",
   "metadata": {
    "execution": {
     "iopub.execute_input": "2022-02-14T16:45:04.367053Z",
     "iopub.status.busy": "2022-02-14T16:45:04.366223Z",
     "iopub.status.idle": "2022-02-14T16:45:04.369603Z",
     "shell.execute_reply": "2022-02-14T16:45:04.368996Z"
    }
   },
   "outputs": [],
   "source": [
    "if isdir(TE)\n",
    "\n",
    "    rm(TE, recursive = true)\n",
    "\n",
    "    println(\"Removed \", TE, \".\")\n",
    "\n",
    "end"
   ]
  }
 ],
 "metadata": {
  "kernelspec": {
   "display_name": "Julia 1.7.2",
   "language": "julia",
   "name": "julia-1.7"
  },
  "language_info": {
   "file_extension": ".jl",
   "mimetype": "application/julia",
   "name": "julia",
   "version": "1.7.2"
  }
 },
 "nbformat": 4,
 "nbformat_minor": 5
}
