{
 "cells": [
  {
   "cell_type": "code",
   "execution_count": null,
   "id": "34e4701e",
   "metadata": {
    "execution": {
     "iopub.execute_input": "2022-02-08T08:29:50.862441Z",
     "iopub.status.busy": "2022-02-08T08:29:50.445491Z",
     "iopub.status.idle": "2022-02-08T08:29:51.726291Z",
     "shell.execute_reply": "2022-02-08T08:29:51.725661Z"
    }
   },
   "outputs": [],
   "source": [
    "using Revise\n",
    "using BenchmarkTools"
   ]
  },
  {
   "cell_type": "code",
   "execution_count": null,
   "id": "a546862f",
   "metadata": {
    "execution": {
     "iopub.execute_input": "2022-02-08T08:29:51.728584Z",
     "iopub.status.busy": "2022-02-08T08:29:51.727967Z",
     "iopub.status.idle": "2022-02-08T08:30:03.793866Z",
     "shell.execute_reply": "2022-02-08T08:30:03.793326Z"
    }
   },
   "outputs": [],
   "source": [
    "using OnePiece"
   ]
  },
  {
   "cell_type": "markdown",
   "id": "d6a94f7d",
   "metadata": {},
   "source": [
    "## read"
   ]
  },
  {
   "cell_type": "code",
   "execution_count": null,
   "id": "9bccde5e",
   "metadata": {
    "execution": {
     "iopub.execute_input": "2022-02-08T08:30:05.480755Z",
     "iopub.status.busy": "2022-02-08T08:30:03.795282Z",
     "iopub.status.idle": "2022-02-08T08:30:06.138186Z",
     "shell.execute_reply": "2022-02-08T08:30:06.137748Z"
    }
   },
   "outputs": [],
   "source": [
    "da = joinpath(\"gmt.data\", \"\")\n",
    "\n",
    ";"
   ]
  },
  {
   "cell_type": "code",
   "execution_count": null,
   "id": "7ff0d266",
   "metadata": {
    "execution": {
     "iopub.execute_input": "2022-02-08T08:30:06.140067Z",
     "iopub.status.busy": "2022-02-08T08:30:06.139526Z",
     "iopub.status.idle": "2022-02-08T08:30:06.151976Z",
     "shell.execute_reply": "2022-02-08T08:30:06.151437Z"
    }
   },
   "outputs": [],
   "source": [
    "gm = joinpath(da, \"h.all.v7.1.symbols.gmt\")\n",
    "\n",
    ";"
   ]
  },
  {
   "cell_type": "code",
   "execution_count": null,
   "id": "eca3c643",
   "metadata": {
    "execution": {
     "iopub.execute_input": "2022-02-08T08:30:06.153752Z",
     "iopub.status.busy": "2022-02-08T08:30:06.153207Z",
     "iopub.status.idle": "2022-02-08T08:30:07.786677Z",
     "shell.execute_reply": "2022-02-08T08:30:07.786229Z"
    }
   },
   "outputs": [],
   "source": [
    "OnePiece.io.gmt.read(gm)"
   ]
  },
  {
   "cell_type": "code",
   "execution_count": null,
   "id": "e0db3fd1",
   "metadata": {
    "execution": {
     "iopub.execute_input": "2022-02-08T08:30:07.788816Z",
     "iopub.status.busy": "2022-02-08T08:30:07.788144Z",
     "iopub.status.idle": "2022-02-08T08:30:07.908016Z",
     "shell.execute_reply": "2022-02-08T08:30:07.907620Z"
    }
   },
   "outputs": [],
   "source": [
    "OnePiece.io.gmt.read([gm, joinpath(da, \"c2.all.v7.1.symbols.gmt\")])"
   ]
  }
 ],
 "metadata": {
  "@webio": {
   "lastCommId": "c15320246a65470f88edd712671b4083",
   "lastKernelId": "6c9a6c5b-72f8-405a-a2e0-4641f1fab266"
  },
  "kernelspec": {
   "display_name": "Julia 1.7.1",
   "language": "julia",
   "name": "julia-1.7"
  },
  "language_info": {
   "file_extension": ".jl",
   "mimetype": "application/julia",
   "name": "julia",
   "version": "1.7.1"
  }
 },
 "nbformat": 4,
 "nbformat_minor": 5
}
