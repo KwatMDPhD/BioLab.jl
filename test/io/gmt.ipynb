{
 "cells": [
  {
   "cell_type": "code",
   "execution_count": 1,
   "id": "34e4701e",
   "metadata": {
    "execution": {
     "iopub.execute_input": "2022-02-10T17:14:52.574559Z",
     "iopub.status.busy": "2022-02-10T17:14:52.233947Z",
     "iopub.status.idle": "2022-02-10T17:14:53.482051Z",
     "shell.execute_reply": "2022-02-10T17:14:53.481500Z"
    }
   },
   "outputs": [],
   "source": [
    "using Revise\n",
    "using BenchmarkTools"
   ]
  },
  {
   "cell_type": "code",
   "execution_count": 2,
   "id": "a546862f",
   "metadata": {
    "execution": {
     "iopub.execute_input": "2022-02-10T17:14:53.484254Z",
     "iopub.status.busy": "2022-02-10T17:14:53.483559Z",
     "iopub.status.idle": "2022-02-10T17:14:58.771527Z",
     "shell.execute_reply": "2022-02-10T17:14:58.771039Z"
    }
   },
   "outputs": [],
   "source": [
    "using OnePiece"
   ]
  },
  {
   "cell_type": "markdown",
   "id": "d6a94f7d",
   "metadata": {},
   "source": [
    "## read"
   ]
  },
  {
   "cell_type": "code",
   "execution_count": 3,
   "id": "9bccde5e",
   "metadata": {
    "execution": {
     "iopub.execute_input": "2022-02-10T17:14:59.235621Z",
     "iopub.status.busy": "2022-02-10T17:14:58.772931Z",
     "iopub.status.idle": "2022-02-10T17:15:00.271476Z",
     "shell.execute_reply": "2022-02-10T17:15:00.271035Z"
    }
   },
   "outputs": [],
   "source": [
    "da = joinpath(\"gmt.data\", \"\")\n",
    "\n",
    ";"
   ]
  },
  {
   "cell_type": "code",
   "execution_count": 4,
   "id": "7ff0d266",
   "metadata": {
    "execution": {
     "iopub.execute_input": "2022-02-10T17:15:00.273550Z",
     "iopub.status.busy": "2022-02-10T17:15:00.273016Z",
     "iopub.status.idle": "2022-02-10T17:15:00.285482Z",
     "shell.execute_reply": "2022-02-10T17:15:00.285005Z"
    }
   },
   "outputs": [],
   "source": [
    "gm = joinpath(da, \"h.all.v7.1.symbols.gmt\")\n",
    "\n",
    ";"
   ]
  },
  {
   "cell_type": "code",
   "execution_count": 5,
   "id": "eca3c643",
   "metadata": {
    "execution": {
     "iopub.execute_input": "2022-02-10T17:15:00.287332Z",
     "iopub.status.busy": "2022-02-10T17:15:00.286846Z",
     "iopub.status.idle": "2022-02-10T17:15:01.639091Z",
     "shell.execute_reply": "2022-02-10T17:15:01.638705Z"
    }
   },
   "outputs": [
    {
     "data": {
      "text/plain": [
       "Dict{Any, Any} with 50 entries:\n",
       "  \"HALLMARK_ANGIOGENESIS\"   => SubString{String}[\"VCAN\", \"POSTN\", \"FSTL1\", \"LRP…\n",
       "  \"HALLMARK_MYOGENESIS\"     => SubString{String}[\"ACTA1\", \"TNNI2\", \"MYL1\", \"TNN…\n",
       "  \"HALLMARK_PEROXISOME\"     => SubString{String}[\"ABCD3\", \"ACOT8\", \"ACOX1\", \"AC…\n",
       "  \"HALLMARK_UV_RESPONSE_DN\" => SubString{String}[\"TJP1\", \"NFIB\", \"TGFBR3\", \"TFP…\n",
       "  \"HALLMARK_NOTCH_SIGNALIN… => SubString{String}[\"JAG1\", \"NOTCH3\", \"NOTCH2\", \"A…\n",
       "  \"HALLMARK_ANDROGEN_RESPO… => SubString{String}[\"KLK3\", \"KLK2\", \"ACSL3\", \"PIAS…\n",
       "  \"HALLMARK_ALLOGRAFT_REJE… => SubString{String}[\"PTPRC\", \"IL12B\", \"TGFB1\", \"IL…\n",
       "  \"HALLMARK_ESTROGEN_RESPO… => SubString{String}[\"TFF1\", \"SLC9A3R1\", \"TPD52L1\",…\n",
       "  \"HALLMARK_G2M_CHECKPOINT\" => SubString{String}[\"AURKA\", \"CCNA2\", \"TOP2A\", \"CC…\n",
       "  \"HALLMARK_MYC_TARGETS_V2\" => SubString{String}[\"SLC19A1\", \"MRTO4\", \"TMEM97\", …\n",
       "  \"HALLMARK_APOPTOSIS\"      => SubString{String}[\"CASP3\", \"CASP9\", \"DFFA\", \"CAS…\n",
       "  \"HALLMARK_P53_PATHWAY\"    => SubString{String}[\"CDKN1A\", \"BTG2\", \"MDM2\", \"CCN…\n",
       "  \"HALLMARK_UNFOLDED_PROTE… => SubString{String}[\"ATF4\", \"HERPUD1\", \"PARN\", \"EX…\n",
       "  \"HALLMARK_ADIPOGENESIS\"   => SubString{String}[\"FABP4\", \"ADIPOQ\", \"PPARG\", \"L…\n",
       "  \"HALLMARK_DNA_REPAIR\"     => SubString{String}[\"POLR2H\", \"POLR2A\", \"POLR2G\", …\n",
       "  \"HALLMARK_EPITHELIAL_MES… => SubString{String}[\"COL3A1\", \"COL5A2\", \"COL5A1\", …\n",
       "  \"HALLMARK_OXIDATIVE_PHOS… => SubString{String}[\"NDUFS3\", \"UQCRB\", \"NDUFS2\", \"…\n",
       "  \"HALLMARK_HEME_METABOLIS… => SubString{String}[\"ALAS2\", \"PPOX\", \"FECH\", \"HMBS…\n",
       "  \"HALLMARK_MITOTIC_SPINDL… => SubString{String}[\"ARHGEF2\", \"CLASP1\", \"KIF11\", …\n",
       "  \"HALLMARK_FATTY_ACID_MET… => SubString{String}[\"ACAA1\", \"ACAA2\", \"ACADL\", \"AC…\n",
       "  \"HALLMARK_COMPLEMENT\"     => SubString{String}[\"C2\", \"C1S\", \"CFB\", \"C1R\", \"SE…\n",
       "  \"HALLMARK_APICAL_SURFACE\" => SubString{String}[\"B4GALT1\", \"RHCG\", \"MAL\", \"LYP…\n",
       "  \"HALLMARK_ESTROGEN_RESPO… => SubString{String}[\"GREB1\", \"CA12\", \"SLC9A3R1\", \"…\n",
       "  \"HALLMARK_INTERFERON_GAM… => SubString{String}[\"STAT1\", \"ISG15\", \"IFIT1\", \"MX…\n",
       "  \"HALLMARK_MTORC1_SIGNALI… => SubString{String}[\"FADS1\", \"DDIT4\", \"CALR\", \"HK2…\n",
       "  ⋮                         => ⋮"
      ]
     },
     "execution_count": 5,
     "metadata": {},
     "output_type": "execute_result"
    }
   ],
   "source": [
    "OnePiece.io.gmt.read(gm)"
   ]
  },
  {
   "cell_type": "code",
   "execution_count": 6,
   "id": "e0db3fd1",
   "metadata": {
    "execution": {
     "iopub.execute_input": "2022-02-10T17:15:01.641111Z",
     "iopub.status.busy": "2022-02-10T17:15:01.640511Z",
     "iopub.status.idle": "2022-02-10T17:15:01.755837Z",
     "shell.execute_reply": "2022-02-10T17:15:01.755322Z"
    }
   },
   "outputs": [
    {
     "data": {
      "text/plain": [
       "Dict{Any, Any} with 5579 entries:\n",
       "  \"GRABARCZYK_BCL11B_TARGE… => SubString{String}[\"PLEKHA8\", \"PRKCQ-AS1\", \"PDCD6…\n",
       "  \"REACTOME_EXTRACELLULAR_… => SubString{String}[\"ITGAL\", \"ITGA3\", \"ITGA2B\", \"M…\n",
       "  \"GARCIA_TARGETS_OF_FLI1_… => SubString{String}[\"LMBR1L\", \"SYNGR1\", \"PBXIP1\", …\n",
       "  \"SIMBULAN_PARP1_TARGETS_… => SubString{String}[\"CCNG1\", \"FGF7\", \"MFAP5\", \"PRR…\n",
       "  \"BIOCARTA_CPSF_PATHWAY\"   => SubString{String}[\"CSTF3\", \"CSTF2\", \"CSTF1\", \"PA…\n",
       "  \"WEI_MYCN_TARGETS_WITH_E… => SubString{String}[\"DPYSL3\", \"XPO6\", \"LPCAT1\", \"M…\n",
       "  \"PID_RET_PATHWAY\"         => SubString{String}[\"PRKACA\", \"PXN\", \"GAB1\", \"GRB2…\n",
       "  \"MARIADASON_RESPONSE_TO_… => SubString{String}[\"KAT7\", \"PTGDS\", \"DDX21\", \"LAR…\n",
       "  \"BIOCARTA_VOBESITY_PATHW… => SubString{String}[\"ADIPOQ\", \"NR3C1\", \"PPARG\", \"L…\n",
       "  \"REACTOME_GPCR_LIGAND_BI… => SubString{String}[\"WNT16\", \"CALCR\", \"TAC1\", \"CX3…\n",
       "  \"BIOCARTA_S1P_PATHWAY\"    => SubString{String}[\"MBTPS1\", \"LDLR\", \"HMGCS1\", \"S…\n",
       "  \"KEGG_CYTOSOLIC_DNA_SENS… => SubString{String}[\"CXCL10\", \"CHUK\", \"IFNA5\", \"IF…\n",
       "  \"HOSHIDA_LIVER_CANCER_SU… => SubString{String}[\"MME\", \"AGXT\", \"TST\", \"SLC7A2\"…\n",
       "  \"LIAN_LIPA_TARGETS_3M\"    => SubString{String}[\"ACOD1\", \"MSR1\", \"FKBP5\", \"NEU…\n",
       "  \"SENESE_HDAC3_TARGETS_UP\" => SubString{String}[\"AKR1C1\", \"IGKV1OR1-1\", \"CNTNA…\n",
       "  \"BIOCARTA_TOB1_PATHWAY\"   => SubString{String}[\"IFNG\", \"CD3G\", \"CD3E\", \"IL4\",…\n",
       "  \"RODRIGUES_THYROID_CARCI… => SubString{String}[\"B3GALNT1\", \"YPEL1\", \"TCF4\", \"…\n",
       "  \"REACTOME_SUMOYLATION_OF… => SubString{String}[\"NR1H4\", \"NR1H3\", \"PIAS1\", \"HD…\n",
       "  \"REACTOME_RNA_POLYMERASE… => SubString{String}[\"POLR2J\", \"SNAPC1\", \"POU2F2\", …\n",
       "  \"BIOCARTA_CTBP1_PATHWAY\"  => SubString{String}[\"SUMO1\", \"ZEB1\", \"CTBP1\", \"UBE…\n",
       "  \"KIM_RESPONSE_TO_TSA_AND… => SubString{String}[\"LAMB3\", \"SFN\", \"ICAM2\", \"PLIN…\n",
       "  \"FRIDMAN_SENESCENCE_UP\"   => SubString{String}[\"HSPA2\", \"CDKN2A\", \"SERPINE1\",…\n",
       "  \"CREIGHTON_ENDOCRINE_THE… => SubString{String}[\"PPP6R3\", \"DYNLRB2\", \"TMEM121\"…\n",
       "  \"PAL_PRMT5_TARGETS_DN\"    => SubString{String}[\"HLA-A\", \"TCF15\", \"SEL1L\", \"GZ…\n",
       "  \"REACTOME_BH3_ONLY_PROTE… => SubString{String}[\"BAD\", \"BID\", \"BMF\", \"BBC3\", \"…\n",
       "  ⋮                         => ⋮"
      ]
     },
     "execution_count": 6,
     "metadata": {},
     "output_type": "execute_result"
    }
   ],
   "source": [
    "OnePiece.io.gmt.read([gm, joinpath(da, \"c2.all.v7.1.symbols.gmt\")])"
   ]
  }
 ],
 "metadata": {
  "@webio": {
   "lastCommId": "c15320246a65470f88edd712671b4083",
   "lastKernelId": "6c9a6c5b-72f8-405a-a2e0-4641f1fab266"
  },
  "kernelspec": {
   "display_name": "Julia 1.7.1",
   "language": "julia",
   "name": "julia-1.7"
  },
  "language_info": {
   "file_extension": ".jl",
   "mimetype": "application/julia",
   "name": "julia",
   "version": "1.7.2"
  }
 },
 "nbformat": 4,
 "nbformat_minor": 5
}
