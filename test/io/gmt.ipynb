{
 "cells": [
  {
   "cell_type": "code",
   "execution_count": null,
   "id": "017464da",
   "metadata": {
    "execution": {
     "iopub.execute_input": "2022-02-14T17:00:37.323041Z",
     "iopub.status.busy": "2022-02-14T17:00:36.937790Z",
     "iopub.status.idle": "2022-02-14T17:00:37.534130Z",
     "shell.execute_reply": "2022-02-14T17:00:37.533539Z"
    }
   },
   "outputs": [],
   "source": [
    "TE = joinpath(tempdir(), \"OnePiece.test\")\n",
    "\n",
    "if isdir(TE)\n",
    "\n",
    "    rm(TE, recursive = true)\n",
    "\n",
    "    println(\"Removed \", TE, \".\")\n",
    "\n",
    "end\n",
    "\n",
    "mkdir(TE)\n",
    "\n",
    "println(\"Made \", TE, \".\")"
   ]
  },
  {
   "cell_type": "code",
   "execution_count": null,
   "id": "34e4701e",
   "metadata": {
    "execution": {
     "iopub.execute_input": "2022-02-14T17:00:37.536077Z",
     "iopub.status.busy": "2022-02-14T17:00:37.535499Z",
     "iopub.status.idle": "2022-02-14T17:00:42.237490Z",
     "shell.execute_reply": "2022-02-14T17:00:42.237041Z"
    }
   },
   "outputs": [],
   "source": [
    "using OnePiece"
   ]
  },
  {
   "cell_type": "markdown",
   "id": "b92a3da9",
   "metadata": {},
   "source": [
    "---"
   ]
  },
  {
   "cell_type": "markdown",
   "id": "d6a94f7d",
   "metadata": {},
   "source": [
    "## read"
   ]
  },
  {
   "cell_type": "code",
   "execution_count": null,
   "id": "9bccde5e",
   "metadata": {
    "execution": {
     "iopub.execute_input": "2022-02-14T17:00:42.588719Z",
     "iopub.status.busy": "2022-02-14T17:00:42.238953Z",
     "iopub.status.idle": "2022-02-14T17:00:42.642303Z",
     "shell.execute_reply": "2022-02-14T17:00:42.641687Z"
    }
   },
   "outputs": [],
   "source": [
    "da = joinpath(\"gmt.data\", \"\")\n",
    "\n",
    ";"
   ]
  },
  {
   "cell_type": "code",
   "execution_count": null,
   "id": "7ff0d266",
   "metadata": {
    "execution": {
     "iopub.execute_input": "2022-02-14T17:00:42.644406Z",
     "iopub.status.busy": "2022-02-14T17:00:42.643607Z",
     "iopub.status.idle": "2022-02-14T17:00:42.645439Z",
     "shell.execute_reply": "2022-02-14T17:00:42.644933Z"
    }
   },
   "outputs": [],
   "source": [
    "gm = joinpath(da, \"h.all.v7.1.symbols.gmt\")\n",
    "\n",
    ";"
   ]
  },
  {
   "cell_type": "code",
   "execution_count": null,
   "id": "eca3c643",
   "metadata": {
    "execution": {
     "iopub.execute_input": "2022-02-14T17:00:42.647321Z",
     "iopub.status.busy": "2022-02-14T17:00:42.646691Z",
     "iopub.status.idle": "2022-02-14T17:00:44.048365Z",
     "shell.execute_reply": "2022-02-14T17:00:44.047797Z"
    }
   },
   "outputs": [],
   "source": [
    "OnePiece.io.gmt.read(gm)"
   ]
  },
  {
   "cell_type": "code",
   "execution_count": null,
   "id": "e0db3fd1",
   "metadata": {
    "execution": {
     "iopub.execute_input": "2022-02-14T17:00:44.050510Z",
     "iopub.status.busy": "2022-02-14T17:00:44.049879Z",
     "iopub.status.idle": "2022-02-14T17:00:44.158547Z",
     "shell.execute_reply": "2022-02-14T17:00:44.158086Z"
    }
   },
   "outputs": [],
   "source": [
    "OnePiece.io.gmt.read([gm, joinpath(da, \"c2.all.v7.1.symbols.gmt\")])"
   ]
  },
  {
   "cell_type": "markdown",
   "id": "3f396855",
   "metadata": {},
   "source": [
    "---"
   ]
  },
  {
   "cell_type": "code",
   "execution_count": null,
   "id": "b4af2023",
   "metadata": {
    "execution": {
     "iopub.execute_input": "2022-02-14T17:00:44.160521Z",
     "iopub.status.busy": "2022-02-14T17:00:44.159937Z",
     "iopub.status.idle": "2022-02-14T17:00:44.162336Z",
     "shell.execute_reply": "2022-02-14T17:00:44.161897Z"
    }
   },
   "outputs": [],
   "source": [
    "if isdir(TE)\n",
    "\n",
    "    rm(TE, recursive = true)\n",
    "\n",
    "    println(\"Removed \", TE, \".\")\n",
    "\n",
    "end"
   ]
  }
 ],
 "metadata": {
  "kernelspec": {
   "display_name": "Julia 1.7.2",
   "language": "julia",
   "name": "julia-1.7"
  },
  "language_info": {
   "file_extension": ".jl",
   "mimetype": "application/julia",
   "name": "julia",
   "version": "1.7.2"
  }
 },
 "nbformat": 4,
 "nbformat_minor": 5
}
