{
 "cells": [
  {
   "cell_type": "code",
   "execution_count": null,
   "id": "3f062018-a3df-40ca-a27a-05d34e64fe15",
   "metadata": {
    "execution": {
     "iopub.execute_input": "2022-08-25T17:20:37.715000Z",
     "iopub.status.busy": "2022-08-25T17:20:37.221000Z",
     "iopub.status.idle": "2022-08-25T17:20:44.600000Z",
     "shell.execute_reply": "2022-08-25T17:20:44.558000Z"
    }
   },
   "outputs": [],
   "source": [
    "using OnePiece"
   ]
  },
  {
   "cell_type": "markdown",
   "id": "c6b47824-16e7-48e1-9cc5-cea3dbcf71d9",
   "metadata": {},
   "source": [
    "## factorize"
   ]
  },
  {
   "cell_type": "markdown",
   "id": "51e78304-1c13-45fc-9733-cc096e91e9a7",
   "metadata": {},
   "source": [
    "## plot"
   ]
  },
  {
   "cell_type": "code",
   "execution_count": null,
   "id": "6fe28884-3a93-47e8-ac19-306d224768ea",
   "metadata": {
    "execution": {
     "iopub.execute_input": "2022-08-25T17:20:44.793000Z",
     "iopub.status.busy": "2022-08-25T17:20:44.605000Z",
     "iopub.status.idle": "2022-08-25T17:20:59.476000Z",
     "shell.execute_reply": "2022-08-25T17:20:59.476000Z"
    }
   },
   "outputs": [],
   "source": [
    "n_ro = 4\n",
    "\n",
    "n_co = 3\n",
    "\n",
    "ma = OnePiece.matrix.simulate(n_ro, n_co)\n",
    "\n",
    "OnePiece.matrix_factorization.factorize(ma, 2)"
   ]
  }
 ],
 "metadata": {
  "kernelspec": {
   "display_name": "Julia 1.7.3",
   "language": "julia",
   "name": "julia-1.8"
  },
  "language_info": {
   "file_extension": ".jl",
   "mimetype": "application/julia",
   "name": "julia",
   "version": "1.8.0"
  }
 },
 "nbformat": 4,
 "nbformat_minor": 5
}
