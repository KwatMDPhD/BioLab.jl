{
 "cells": [
  {
   "cell_type": "code",
   "execution_count": null,
   "id": "3f062018-a3df-40ca-a27a-05d34e64fe15",
   "metadata": {
    "execution": {
     "iopub.execute_input": "2022-08-17T13:49:17.287000Z",
     "iopub.status.busy": "2022-08-17T13:49:16.957000Z",
     "iopub.status.idle": "2022-08-17T13:49:21.813000Z",
     "shell.execute_reply": "2022-08-17T13:49:21.768000Z"
    }
   },
   "outputs": [],
   "source": [
    "using OnePiece"
   ]
  },
  {
   "cell_type": "markdown",
   "id": "c6b47824-16e7-48e1-9cc5-cea3dbcf71d9",
   "metadata": {},
   "source": [
    "## factorize"
   ]
  },
  {
   "cell_type": "markdown",
   "id": "51e78304-1c13-45fc-9733-cc096e91e9a7",
   "metadata": {},
   "source": [
    "## plot"
   ]
  },
  {
   "cell_type": "code",
   "execution_count": null,
   "id": "6fe28884-3a93-47e8-ac19-306d224768ea",
   "metadata": {
    "execution": {
     "iopub.execute_input": "2022-08-17T13:49:22.419000Z",
     "iopub.status.busy": "2022-08-17T13:49:21.833000Z",
     "iopub.status.idle": "2022-08-17T13:49:33.369000Z",
     "shell.execute_reply": "2022-08-17T13:49:33.369000Z"
    }
   },
   "outputs": [],
   "source": [
    "n_ro = 4\n",
    "\n",
    "n_co = 3\n",
    "\n",
    "ma = OnePiece.matrix.simulate(n_ro, n_co)\n",
    "\n",
    "OnePiece.matrix_factorization.factorize(ma, 2)"
   ]
  }
 ],
 "metadata": {
  "kernelspec": {
   "display_name": "Julia 1.7.3",
   "language": "julia",
   "name": "julia-1.7"
  },
  "language_info": {
   "file_extension": ".jl",
   "mimetype": "application/julia",
   "name": "julia",
   "version": "1.7.3"
  }
 },
 "nbformat": 4,
 "nbformat_minor": 5
}
