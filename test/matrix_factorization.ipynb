{
 "cells": [
  {
   "cell_type": "code",
   "execution_count": null,
   "id": "3f062018-a3df-40ca-a27a-05d34e64fe15",
   "metadata": {},
   "outputs": [],
   "source": [
    "using OnePiece"
   ]
  },
  {
   "cell_type": "code",
   "execution_count": null,
   "id": "a6a96ec8-5bcd-4fe8-a804-07a238f96255",
   "metadata": {},
   "outputs": [],
   "source": [
    "te = OnePiece.path.make_temporary(\"OnePiece.test.matrix_factorization\")"
   ]
  },
  {
   "cell_type": "markdown",
   "id": "c6b47824-16e7-48e1-9cc5-cea3dbcf71d9",
   "metadata": {},
   "source": [
    "## factorize"
   ]
  },
  {
   "cell_type": "markdown",
   "id": "51e78304-1c13-45fc-9733-cc096e91e9a7",
   "metadata": {},
   "source": [
    "## plot"
   ]
  },
  {
   "cell_type": "code",
   "execution_count": null,
   "id": "6fe28884-3a93-47e8-ac19-306d224768ea",
   "metadata": {},
   "outputs": [],
   "source": [
    "n_ro = 4\n",
    "\n",
    "n_co = 3\n",
    "\n",
    "ma = OnePiece.matrix.simulate(n_ro, n_co)\n",
    "\n",
    "OnePiece.matrix_factorization.factorize(ma, 2)"
   ]
  },
  {
   "cell_type": "code",
   "execution_count": null,
   "id": "f116c959-6995-441f-812f-3ea6525cf2ba",
   "metadata": {},
   "outputs": [],
   "source": [
    "n_ro = 8\n",
    "\n",
    "n_co = 16\n",
    "\n",
    "ma = OnePiece.matrix.simulate(n_ro, n_co, ho = \"ra\")\n",
    "\n",
    "w, h = OnePiece.matrix_factorization.factorize(ma, 3, ou = te)"
   ]
  },
  {
   "cell_type": "code",
   "execution_count": null,
   "id": "edb2fb96-a0ee-4d52-ba94-4bab61e5bc57",
   "metadata": {},
   "outputs": [],
   "source": [
    "OnePiece.table.read(joinpath(te, \"W 1.tsv\"))"
   ]
  },
  {
   "cell_type": "code",
   "execution_count": null,
   "id": "2e5d1c33-2909-4e80-a74d-28f51347748a",
   "metadata": {},
   "outputs": [],
   "source": [
    "OnePiece.table.read(joinpath(te, \"H 1.tsv\"))"
   ]
  },
  {
   "cell_type": "markdown",
   "id": "427cd8a5-5e16-4d31-82cf-7bb6319e1129",
   "metadata": {},
   "source": [
    "## solve_h"
   ]
  },
  {
   "cell_type": "code",
   "execution_count": null,
   "id": "3d0c4f1d-27cd-4360-9105-10e3231349d2",
   "metadata": {},
   "outputs": [],
   "source": [
    "n_ro = 7\n",
    "\n",
    "n_co = 9\n",
    "\n",
    "a = OnePiece.matrix.simulate(n_ro, n_co, ho = \"ra\")\n",
    "\n",
    "w, h = OnePiece.matrix_factorization.factorize(a, 3)\n",
    "\n",
    ";"
   ]
  },
  {
   "cell_type": "code",
   "execution_count": null,
   "id": "0e5590cd-8352-4de8-8713-26d10bc8eb16",
   "metadata": {},
   "outputs": [],
   "source": [
    "h2 = OnePiece.matrix_factorization.solve_h(a, w)\n",
    "\n",
    "display(OnePiece.figure.plot_heat_map(h, layout = Dict(\"title\" => Dict(\"text\" => \"H 1\"))))\n",
    "\n",
    "display(OnePiece.figure.plot_heat_map(h2, layout = Dict(\"title\" => Dict(\"text\" => \"H 2\"))))"
   ]
  }
 ],
 "metadata": {
  "kernelspec": {
   "display_name": "Julia 1.8.0",
   "language": "julia",
   "name": "julia-1.8"
  },
  "language_info": {
   "file_extension": ".jl",
   "mimetype": "application/julia",
   "name": "julia",
   "version": "1.8.0"
  }
 },
 "nbformat": 4,
 "nbformat_minor": 5
}
