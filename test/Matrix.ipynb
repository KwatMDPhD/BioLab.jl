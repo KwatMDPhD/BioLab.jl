{
 "cells": [
  {
   "outputs": [],
   "cell_type": "code",
   "source": [
    "using BioinformaticsCore"
   ],
   "id": "778d9ff9",
   "metadata": {},
   "execution_count": null
  },
  {
   "outputs": [],
   "cell_type": "code",
   "source": [
    "ba__ = (\n",
    "    [missing, 1, 2, 3],\n",
    "    [nothing, 2, 3, 4],\n",
    "    [Inf, 3, 4, 5],\n",
    "    [-Inf, 4, 5, 6],\n",
    "    [missing, nothing, Inf, -Inf],\n",
    "    [\"a\", \"b\", \"c\", \"d\"],\n",
    ")"
   ],
   "id": "39244d82-9622-4b2a-ad10-68705ce1e93c",
   "metadata": {},
   "execution_count": null
  },
  {
   "cell_type": "markdown",
   "source": [
    "## make"
   ],
   "id": "50e558c6",
   "metadata": {}
  },
  {
   "outputs": [],
   "cell_type": "code",
   "source": [
    "for an__ in (\n",
    "    ([1, 2, 3], [4, 5, 6]),\n",
    "    ([1, 2.0, 3], [4, 5, 6]),\n",
    "    ([1, NaN, 3], [4, 5, 6]),\n",
    "    ([1, nothing, 3], [4, 5, 6]),\n",
    "    ([1, missing, 3], [4, 5, 6]),\n",
    "    ([1, nothing, 3], [missing, 4, 5], [7, 8, NaN]),\n",
    "    ([\"1\", \"2\", \"3\"], [\"4\", \"5\", \"6\"]),\n",
    "    ba__,\n",
    ")\n",
    "\n",
    "    display(BioinformaticsCore.Matrix.make(an__))\n",
    "\n",
    "end"
   ],
   "id": "b709060b",
   "metadata": {},
   "execution_count": null
  },
  {
   "outputs": [],
   "cell_type": "code",
   "source": [
    "try\n",
    "\n",
    "    BioinformaticsCore.Matrix.make(([1, 2], [3, 4, 5]))\n",
    "\n",
    "catch er\n",
    "\n",
    "    println(er)\n",
    "\n",
    "end"
   ],
   "id": "baf57c97-471d-41de-9ec4-9b3677d3ab35",
   "metadata": {},
   "execution_count": null
  },
  {
   "cell_type": "markdown",
   "source": [
    "## simulate"
   ],
   "id": "67613398-3db7-4336-a43e-827887d1b733",
   "metadata": {}
  },
  {
   "outputs": [],
   "cell_type": "code",
   "source": [
    "for ho in (\"1:\", \"rand\")\n",
    "\n",
    "    println(BioinformaticsCore.Matrix.simulate(2, 3, ho))\n",
    "\n",
    "end"
   ],
   "id": "f82f9560-501d-403b-94d3-278e2f7049c6",
   "metadata": {},
   "execution_count": null
  },
  {
   "cell_type": "markdown",
   "source": [
    "# error_bad"
   ],
   "id": "e5e19dc3-1af9-472f-a9d8-b40030ac8b7c",
   "metadata": {}
  },
  {
   "outputs": [],
   "cell_type": "code",
   "source": [
    "BioinformaticsCore.Matrix.error_bad([\"a\" \"b\"; \"c\" \"d\"], String)"
   ],
   "id": "d0f58179-6142-43fa-9f40-f93f802d3bf4",
   "metadata": {},
   "execution_count": null
  },
  {
   "outputs": [],
   "cell_type": "code",
   "source": [
    "try\n",
    "\n",
    "    BioinformaticsCore.Matrix.error_bad([\"a\" \"\"; \"c\" \"d\"], String)\n",
    "\n",
    "catch er\n",
    "\n",
    "    println(er)\n",
    "\n",
    "end"
   ],
   "id": "ec14b662-2e02-430d-a26c-1fbfc1c1fe3c",
   "metadata": {},
   "execution_count": null
  },
  {
   "outputs": [],
   "cell_type": "code",
   "source": [
    "BioinformaticsCore.Matrix.error_bad([1 2; 3 4], Real)"
   ],
   "id": "670d0a60-5519-4e52-91a8-615a403b3516",
   "metadata": {},
   "execution_count": null
  },
  {
   "outputs": [],
   "cell_type": "code",
   "source": [
    "for ba in (Inf, -Inf, NaN)\n",
    "\n",
    "    try\n",
    "\n",
    "        BioinformaticsCore.Matrix.error_bad([1 ba; 3 4], Real)\n",
    "\n",
    "    catch er\n",
    "\n",
    "        println(er)\n",
    "\n",
    "    end\n",
    "\n",
    "end"
   ],
   "id": "1791f33c-63e8-4b7f-8cbb-78e95741bf80",
   "metadata": {},
   "execution_count": null
  },
  {
   "outputs": [],
   "cell_type": "code",
   "source": [
    "ro_x_co_x_ba = BioinformaticsCore.Matrix.make(ba__)"
   ],
   "id": "f22c4b1f-a878-43d6-a574-e605d315e664",
   "metadata": {},
   "execution_count": null
  },
  {
   "outputs": [],
   "cell_type": "code",
   "source": [
    "try\n",
    "\n",
    "    BioinformaticsCore.Matrix.error_bad(ro_x_co_x_ba, Real)\n",
    "\n",
    "catch er\n",
    "\n",
    "    println(er)\n",
    "\n",
    "end"
   ],
   "id": "0a300da8-3cc9-4955-a83b-e90721b88961",
   "metadata": {},
   "execution_count": null
  }
 ],
 "nbformat_minor": 5,
 "metadata": {
  "language_info": {
   "file_extension": ".jl",
   "mimetype": "application/julia",
   "name": "julia",
   "version": "1.8.2"
  },
  "@webio": {
   "lastKernelId": null,
   "lastCommId": null
  },
  "kernelspec": {
   "name": "julia-1.8",
   "display_name": "Julia 1.8.2",
   "language": "julia"
  }
 },
 "nbformat": 4
}
