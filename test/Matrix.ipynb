{
 "cells": [
  {
   "cell_type": "code",
   "execution_count": null,
   "id": "778d9ff9",
   "metadata": {},
   "outputs": [],
   "source": [
    "using OnePiece"
   ]
  },
  {
   "cell_type": "markdown",
   "id": "50e558c6",
   "metadata": {},
   "source": [
    "## make"
   ]
  },
  {
   "cell_type": "code",
   "execution_count": null,
   "id": "b709060b",
   "metadata": {},
   "outputs": [],
   "source": [
    "for ro_ in [[[1, 2, 3], [4, 5, 6]], [[1, 2.0, 3], [4, 5, 6]]]\n",
    "\n",
    "    println(OnePiece.Matrix.make(ro_))\n",
    "\n",
    "end"
   ]
  },
  {
   "cell_type": "markdown",
   "id": "67613398-3db7-4336-a43e-827887d1b733",
   "metadata": {},
   "source": [
    "## simulate"
   ]
  },
  {
   "cell_type": "code",
   "execution_count": null,
   "id": "f82f9560-501d-403b-94d3-278e2f7049c6",
   "metadata": {},
   "outputs": [],
   "source": [
    "for ho in [\"1:\", \"rand\"]\n",
    "\n",
    "    println(OnePiece.Matrix.simulate(2, 3, ho))\n",
    "\n",
    "end"
   ]
  },
  {
   "cell_type": "markdown",
   "id": "e5e19dc3-1af9-472f-a9d8-b40030ac8b7c",
   "metadata": {},
   "source": [
    "## error_bad"
   ]
  },
  {
   "cell_type": "code",
   "execution_count": null,
   "id": "d0f58179-6142-43fa-9f40-f93f802d3bf4",
   "metadata": {},
   "outputs": [],
   "source": [
    "OnePiece.Matrix.error_bad([\"a\" \"b\"; \"c\" \"d\"], String)"
   ]
  },
  {
   "cell_type": "code",
   "execution_count": null,
   "id": "ec14b662-2e02-430d-a26c-1fbfc1c1fe3c",
   "metadata": {},
   "outputs": [],
   "source": [
    "try\n",
    "\n",
    "    OnePiece.Matrix.error_bad([\"a\" \"\"; \"c\" \"d\"], String)\n",
    "\n",
    "catch er\n",
    "\n",
    "    println(er)\n",
    "\n",
    "end"
   ]
  },
  {
   "cell_type": "code",
   "execution_count": null,
   "id": "670d0a60-5519-4e52-91a8-615a403b3516",
   "metadata": {},
   "outputs": [],
   "source": [
    "OnePiece.Matrix.error_bad([1 2; 3 4], Real)"
   ]
  },
  {
   "cell_type": "code",
   "execution_count": null,
   "id": "1791f33c-63e8-4b7f-8cbb-78e95741bf80",
   "metadata": {},
   "outputs": [],
   "source": [
    "for ba in [Inf, -Inf, NaN]\n",
    "\n",
    "    try\n",
    "\n",
    "        OnePiece.Matrix.error_bad([1 ba; 3 4], Real)\n",
    "\n",
    "    catch er\n",
    "\n",
    "        println(er)\n",
    "\n",
    "    end\n",
    "\n",
    "end"
   ]
  },
  {
   "cell_type": "code",
   "execution_count": null,
   "id": "f22c4b1f-a878-43d6-a574-e605d315e664",
   "metadata": {},
   "outputs": [],
   "source": [
    "ma = OnePiece.Matrix.make([\n",
    "    [missing, 1, 2, 3],\n",
    "    [nothing, 2, 3, 4],\n",
    "    [Inf, 3, 4, 5],\n",
    "    [-Inf, 4, 5, 6],\n",
    "    [missing, nothing, Inf, -Inf],\n",
    "    [\"a\", \"b\", \"c\", \"d\"],\n",
    "])"
   ]
  },
  {
   "cell_type": "code",
   "execution_count": null,
   "id": "0a300da8-3cc9-4955-a83b-e90721b88961",
   "metadata": {},
   "outputs": [],
   "source": [
    "try\n",
    "\n",
    "    OnePiece.Matrix.error_bad(da)\n",
    "\n",
    "catch er\n",
    "\n",
    "    println(er)\n",
    "\n",
    "end"
   ]
  }
 ],
 "metadata": {
  "@webio": {
   "lastCommId": null,
   "lastKernelId": null
  },
  "kernelspec": {
   "display_name": "Julia 1.8.2",
   "language": "julia",
   "name": "julia-1.8"
  },
  "language_info": {
   "file_extension": ".jl",
   "mimetype": "application/julia",
   "name": "julia",
   "version": "1.8.2"
  }
 },
 "nbformat": 4,
 "nbformat_minor": 5
}
