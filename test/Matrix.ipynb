{
 "cells": [
  {
   "outputs": [],
   "cell_type": "code",
   "source": [
    "include(\"_.jl\")"
   ],
   "id": "778d9ff9",
   "metadata": {},
   "execution_count": null
  },
  {
   "cell_type": "markdown",
   "source": [
    "## print"
   ],
   "id": "cb47a771-7b1c-4601-83ac-88bd264fb571",
   "metadata": {}
  },
  {
   "outputs": [],
   "cell_type": "code",
   "source": [
    "@test @check_error BioLab.Matrix.print(Matrix())\n",
    "\n",
    "for (n_ro, n_co) in ((2, 2), (4, 2), (2, 4), (4, 4), (6, 6), (10, 10))\n",
    "\n",
    "    BioLab.String.print_header(\"$n_ro x $n_co\")\n",
    "\n",
    "    ro_x_co_x_an = BioLab.Matrix.simulate(n_ro, n_co, \"1.0:\")\n",
    "\n",
    "    BioLab.Matrix.print(ro_x_co_x_an)\n",
    "\n",
    "    @code_warntype BioLab.Matrix.print(ro_x_co_x_an)\n",
    "\n",
    "end"
   ],
   "id": "277ac561-ced7-4320-8862-7272e2c5bf4c",
   "metadata": {},
   "execution_count": null
  },
  {
   "cell_type": "markdown",
   "source": [
    "# error_bad"
   ],
   "id": "f8131761-a195-4a15-adee-beca2420e93d",
   "metadata": {}
  },
  {
   "outputs": [],
   "cell_type": "code",
   "source": [
    "@test !@check_error BioLab.Matrix.error_bad([\"a\" \"b\"; \"c\" \"d\"], String)\n",
    "\n",
    "@test !@check_error BioLab.Matrix.error_bad([1 2; 3 4], Real)\n",
    "\n",
    "@test @check_error BioLab.Matrix.error_bad([\"a\" \"\"; \"c\" \"d\"], String)\n",
    "\n",
    "for ba in (Inf, -Inf, NaN)\n",
    "\n",
    "    @test @check_error BioLab.Matrix.error_bad([1 ba; 3 4], Real)\n",
    "\n",
    "end\n",
    "\n",
    "ba__ = (\n",
    "    [missing, 1, 2, 3],\n",
    "    [nothing, 2, 3, 4],\n",
    "    [Inf, 3, 4, 5],\n",
    "    [-Inf, 4, 5, 6],\n",
    "    [missing, nothing, Inf, -Inf],\n",
    "    [\"a\", \"b\", \"c\", \"d\"],\n",
    ")\n",
    "\n",
    "ro_x_co_x_ba = BioLab.Matrix.make(ba__)\n",
    "\n",
    "@test @check_error BioLab.Matrix.error_bad(ro_x_co_x_ba, Real)\n",
    "\n",
    "@code_warntype BioLab.Matrix.error_bad(ro_x_co_x_ba, Real)"
   ],
   "id": "2488d51b-35e1-450f-9c05-2000543745fb",
   "metadata": {},
   "execution_count": null
  },
  {
   "cell_type": "markdown",
   "source": [
    "## make"
   ],
   "id": "50e558c6",
   "metadata": {}
  },
  {
   "outputs": [],
   "cell_type": "code",
   "source": [
    "@test @check_error BioLab.Matrix.make(([1, 2], [3, 4, 5]))\n",
    "\n",
    "for an__ in (\n",
    "    ([1, 2, 3], [4, 5, 6]),\n",
    "    ([1, 2.0, 3], [4, 5, 6]),\n",
    "    ([1, NaN, 3], [4, 5, 6]),\n",
    "    ([1, nothing, 3], [4, 5, 6]),\n",
    "    ([1, missing, 3], [4, 5, 6]),\n",
    "    ([1, nothing, 3], [missing, 4, 5], [7, 8, NaN]),\n",
    "    (['1', '2', '3'], ['4', '5', '6']),\n",
    "    ba__,\n",
    ")\n",
    "\n",
    "    BioLab.String.print_header(an__)\n",
    "\n",
    "    # TODO: `@test`.\n",
    "    display(BioLab.Matrix.make(an__))\n",
    "\n",
    "    @code_warntype BioLab.Matrix.make(an__)\n",
    "\n",
    "    # 78.479 ns (2 allocations: 224 bytes)\n",
    "    # 90.300 ns (2 allocations: 224 bytes)\n",
    "    # 90.553 ns (2 allocations: 224 bytes)\n",
    "    # 129.269 ns (2 allocations: 224 bytes)\n",
    "    # 126.810 ns (2 allocations: 224 bytes)\n",
    "    # 2.787 μs (9 allocations: 400 bytes)\n",
    "    # 76.411 ns (2 allocations: 160 bytes)\n",
    "    # 1.995 μs (28 allocations: 992 bytes)\n",
    "    # @btime BioLab.Matrix.make($an__)\n",
    "\n",
    "end"
   ],
   "id": "b0a3b200-c042-44ac-b4f0-c7ad73ee394d",
   "metadata": {},
   "execution_count": null
  },
  {
   "cell_type": "markdown",
   "source": [
    "## apply_by_*!"
   ],
   "id": "5c6a4317-0418-4b2b-9440-383dbd5d39b3",
   "metadata": {}
  },
  {
   "outputs": [],
   "cell_type": "code",
   "source": [
    "ro_x_co_x_an = [\n",
    "    1.0 10 100\n",
    "    2 20 200\n",
    "    3 30 300\n",
    "]\n",
    "\n",
    "display(ro_x_co_x_an)\n",
    "\n",
    "function fu!(nu_)\n",
    "\n",
    "    ma = maximum(nu_)\n",
    "\n",
    "    for id in eachindex(nu_)\n",
    "\n",
    "        nu_[id] += ma\n",
    "\n",
    "    end\n",
    "\n",
    "    return nothing\n",
    "\n",
    "end"
   ],
   "id": "dac6a69b-9024-486b-9915-ee41b21be447",
   "metadata": {},
   "execution_count": null
  },
  {
   "cell_type": "markdown",
   "source": [
    "## apply_by_column!"
   ],
   "id": "58e7d0d0-41d1-4c88-a675-07ef8bc650de",
   "metadata": {}
  },
  {
   "outputs": [],
   "cell_type": "code",
   "source": [
    "co = copy(ro_x_co_x_an)\n",
    "\n",
    "BioLab.Matrix.apply_by_column!(co, fu!)\n",
    "\n",
    "@test isequal(\n",
    "    co,\n",
    "    [\n",
    "        4.0 40 400\n",
    "           5 50 500\n",
    "           6 60 600\n",
    "    ],\n",
    ")\n",
    "\n",
    "@code_warntype BioLab.Matrix.apply_by_column!(co, fu!)\n",
    "\n",
    "# 54.078 ns (0 allocations: 0 bytes)\n",
    "# @btime BioLab.Matrix.apply_by_column!($co, $fu!) setup = (co = copy($ro_x_co_x_an))"
   ],
   "id": "22690111-773c-4ddc-9d55-f47690690a5e",
   "metadata": {},
   "execution_count": null
  },
  {
   "cell_type": "markdown",
   "source": [
    "## apply_by_row!"
   ],
   "id": "7f9d10ae-eed7-42e6-afe8-940dc73adad7",
   "metadata": {}
  },
  {
   "outputs": [],
   "cell_type": "code",
   "source": [
    "co = copy(ro_x_co_x_an)\n",
    "\n",
    "BioLab.Matrix.apply_by_row!(co, fu!)\n",
    "\n",
    "@test isequal(\n",
    "    co,\n",
    "    [\n",
    "         101.0 110 200\n",
    "        202 220 400\n",
    "        303 330 600\n",
    "    ],\n",
    ")\n",
    "\n",
    "@code_warntype BioLab.Matrix.apply_by_row!(co, fu!)\n",
    "\n",
    "# 53.963 ns (0 allocations: 0 bytes)\n",
    "# @btime BioLab.Matrix.apply_by_row!($co, $fu!) setup = (co = copy($ro_x_co_x_an))"
   ],
   "id": "6dc9fa1c-d66a-4419-98b0-02d3e7359385",
   "metadata": {},
   "execution_count": null
  },
  {
   "cell_type": "markdown",
   "source": [
    "## simulate"
   ],
   "id": "b27e3313-3408-4680-96f9-7db03062d49f",
   "metadata": {}
  },
  {
   "outputs": [],
   "cell_type": "code",
   "source": [
    "n_ro = 2\n",
    "\n",
    "n_co = 3\n",
    "\n",
    "for ho in (\"1.0:\", \"rand\")\n",
    "\n",
    "    BioLab.String.print_header(ho)\n",
    "\n",
    "    # TODO: `@test`.\n",
    "    display(BioLab.Matrix.simulate(n_ro, n_co, ho))\n",
    "\n",
    "    @code_warntype BioLab.Matrix.simulate(n_ro, n_co, ho)\n",
    "\n",
    "    # 147.837 ns (1 allocation: 112 bytes)\n",
    "    # 63.436 ns (1 allocation: 112 bytes)\n",
    "    # @btime BioLab.Matrix.simulate($n_ro, $n_co, $ho)\n",
    "\n",
    "end"
   ],
   "id": "f82f9560-501d-403b-94d3-278e2f7049c6",
   "metadata": {},
   "execution_count": null
  }
 ],
 "nbformat_minor": 5,
 "metadata": {
  "language_info": {
   "file_extension": ".jl",
   "mimetype": "application/julia",
   "name": "julia",
   "version": "1.8.5"
  },
  "@webio": {
   "lastKernelId": null,
   "lastCommId": null
  },
  "kernelspec": {
   "name": "julia-1.8",
   "display_name": "Julia 1.8.5",
   "language": "julia"
  }
 },
 "nbformat": 4
}
