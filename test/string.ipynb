{
 "cells": [
  {
   "cell_type": "code",
   "execution_count": null,
   "id": "baf12f00",
   "metadata": {
    "execution": {
     "iopub.execute_input": "2022-08-17T13:51:49.795000Z",
     "iopub.status.busy": "2022-08-17T13:51:49.457000Z",
     "iopub.status.idle": "2022-08-17T13:51:54.323000Z",
     "shell.execute_reply": "2022-08-17T13:51:54.278000Z"
    }
   },
   "outputs": [],
   "source": [
    "using OnePiece"
   ]
  },
  {
   "cell_type": "markdown",
   "id": "7a35a068-3dbb-46fb-a956-203c61fccce4",
   "metadata": {},
   "source": [
    "## count_noun"
   ]
  },
  {
   "cell_type": "code",
   "execution_count": null,
   "id": "63dad167-5d4b-45f0-a40c-59f041b0d120",
   "metadata": {
    "execution": {
     "iopub.execute_input": "2022-08-17T13:51:54.922000Z",
     "iopub.status.busy": "2022-08-17T13:51:54.340000Z",
     "iopub.status.idle": "2022-08-17T13:51:54.996000Z",
     "shell.execute_reply": "2022-08-17T13:51:54.996000Z"
    }
   },
   "outputs": [],
   "source": [
    "no_ = [\"vertex\", \"edge\", \"sex\", \"country\", \"hero\"]\n",
    "\n",
    "for no in no_\n",
    "\n",
    "    for n_no in [1, 2]\n",
    "\n",
    "        println(OnePiece.string.count_noun(n_no, no))\n",
    "\n",
    "    end\n",
    "\n",
    "end"
   ]
  },
  {
   "cell_type": "markdown",
   "id": "4f555b8b",
   "metadata": {},
   "source": [
    "## remove_longest_common_prefix"
   ]
  },
  {
   "cell_type": "code",
   "execution_count": null,
   "id": "35c1007b",
   "metadata": {
    "execution": {
     "iopub.execute_input": "2022-08-17T13:51:55.000000Z",
     "iopub.status.busy": "2022-08-17T13:51:55.000000Z",
     "iopub.status.idle": "2022-08-17T13:51:55.458000Z",
     "shell.execute_reply": "2022-08-17T13:51:55.458000Z"
    }
   },
   "outputs": [],
   "source": [
    "for st_ in (\n",
    "    [\"\", \"\", \"\"],\n",
    "    [\"kate\"],\n",
    "    [\"kate\", \"katana\"],\n",
    "    [\"kate\", \"kwat\"],\n",
    "    [\"kate\", \"kwat\", \"kazakh\"],\n",
    "    [\"a\", \"ab\", \"abc\"],\n",
    "    [\"abc\", \"ab\", \"a\"],\n",
    ")\n",
    "\n",
    "    println(OnePiece.string.remove_longest_common_prefix(st_))\n",
    "\n",
    "end"
   ]
  },
  {
   "cell_type": "markdown",
   "id": "fdc7094b",
   "metadata": {},
   "source": [
    "## title"
   ]
  },
  {
   "cell_type": "code",
   "execution_count": null,
   "id": "4a641135",
   "metadata": {
    "execution": {
     "iopub.execute_input": "2022-08-17T13:51:55.461000Z",
     "iopub.status.busy": "2022-08-17T13:51:55.461000Z",
     "iopub.status.idle": "2022-08-17T13:51:55.487000Z",
     "shell.execute_reply": "2022-08-17T13:51:55.487000Z"
    }
   },
   "outputs": [],
   "source": [
    "for st in [\"aa\", \"DNA\", \"Hello world!\", \"SARS-COVID-2\"]\n",
    "\n",
    "    println(\"$st ==> $(OnePiece.string.title(st))\")\n",
    "\n",
    "end"
   ]
  },
  {
   "cell_type": "markdown",
   "id": "9103da59",
   "metadata": {},
   "source": [
    "## transplant"
   ]
  },
  {
   "cell_type": "code",
   "execution_count": null,
   "id": "685bc10f",
   "metadata": {
    "execution": {
     "iopub.execute_input": "2022-08-17T13:51:55.490000Z",
     "iopub.status.busy": "2022-08-17T13:51:55.490000Z",
     "iopub.status.idle": "2022-08-17T13:51:56.076000Z",
     "shell.execute_reply": "2022-08-17T13:51:56.076000Z"
    }
   },
   "outputs": [],
   "source": [
    "st1 = \"A--BB--CCC\"\n",
    "\n",
    "st2 = \"a--bb--ccc\"\n",
    "\n",
    "de = \"--\"\n",
    "\n",
    "OnePiece.string.transplant(st1, st2, de, (1, 2, 1))"
   ]
  }
 ],
 "metadata": {
  "@webio": {
   "lastCommId": null,
   "lastKernelId": null
  },
  "kernelspec": {
   "display_name": "Julia 1.7.3",
   "language": "julia",
   "name": "julia-1.7"
  },
  "language_info": {
   "file_extension": ".jl",
   "mimetype": "application/julia",
   "name": "julia",
   "version": "1.7.3"
  }
 },
 "nbformat": 4,
 "nbformat_minor": 5
}
