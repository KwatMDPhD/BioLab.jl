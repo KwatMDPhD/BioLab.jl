{
 "cells": [
  {
   "cell_type": "code",
   "execution_count": null,
   "id": "bfdc3770-14c5-4197-abb3-d665cb153a7b",
   "metadata": {},
   "outputs": [],
   "source": [
    "using Revise"
   ]
  },
  {
   "cell_type": "code",
   "execution_count": null,
   "id": "c6e018a8-fed5-4f5a-97b8-bde4d1c32de3",
   "metadata": {},
   "outputs": [],
   "source": [
    "using OnePiece"
   ]
  },
  {
   "cell_type": "code",
   "execution_count": null,
   "id": "936cdecc-6b8a-4431-ad24-617403fb6570",
   "metadata": {},
   "outputs": [],
   "source": [
    "te = OnePiece.Path.make_temporary(\"OnePiece.test.Kumo\")"
   ]
  },
  {
   "cell_type": "markdown",
   "id": "d2d8731e-7d8f-44d7-a447-613ce1f983de",
   "metadata": {},
   "source": [
    "## _add!"
   ]
  },
  {
   "cell_type": "code",
   "execution_count": null,
   "id": "35803aa4-0363-4d4e-917b-7e22e837379b",
   "metadata": {},
   "outputs": [],
   "source": [
    "OnePiece.Kumo._add!(\"Luffy\")\n",
    "\n",
    "OnePiece.Kumo._add!(\"Luffy\", \"Nami\")\n",
    "\n",
    "OnePiece.Kumo._add!(\"Zoro\", \"Nami\")"
   ]
  },
  {
   "cell_type": "markdown",
   "id": "21ea54da-e1bf-4523-b9b5-cce98409594f",
   "metadata": {},
   "source": [
    "## VE_"
   ]
  },
  {
   "cell_type": "code",
   "execution_count": null,
   "id": "4d2a81fe-1b77-4f1f-a424-d13b694dfd36",
   "metadata": {},
   "outputs": [],
   "source": [
    "OnePiece.Kumo.VE_"
   ]
  },
  {
   "cell_type": "markdown",
   "id": "29da5788-d5d0-45dc-ac53-13e7becb85ae",
   "metadata": {},
   "source": [
    "## _stringify_vertex"
   ]
  },
  {
   "cell_type": "code",
   "execution_count": null,
   "id": "0dbe7247-1147-47bf-9a1c-9a75e3301d95",
   "metadata": {},
   "outputs": [],
   "source": [
    "collect(OnePiece.Kumo._stringify_vertex())"
   ]
  },
  {
   "cell_type": "markdown",
   "id": "e32d882a-4dc6-48d9-b53f-caac6a53cf9d",
   "metadata": {},
   "source": [
    "## ED_"
   ]
  },
  {
   "cell_type": "code",
   "execution_count": null,
   "id": "20f4f379-11fd-441d-992b-858339282efc",
   "metadata": {},
   "outputs": [],
   "source": [
    "OnePiece.Kumo.ED_"
   ]
  },
  {
   "cell_type": "markdown",
   "id": "a28e0a37-fbdc-47f1-9d8d-25509b44428d",
   "metadata": {},
   "source": [
    "## plot"
   ]
  },
  {
   "cell_type": "code",
   "execution_count": null,
   "id": "babb62db-4239-44bd-9278-294a2b35bbbf",
   "metadata": {},
   "outputs": [],
   "source": [
    "OnePiece.Kumo.plot()"
   ]
  },
  {
   "cell_type": "markdown",
   "id": "dca09daf-38da-4555-960f-ab888a091889",
   "metadata": {},
   "source": [
    "## reset!"
   ]
  },
  {
   "cell_type": "code",
   "execution_count": null,
   "id": "ed2c02b2-03cb-487f-964f-1180bb7bdc36",
   "metadata": {},
   "outputs": [],
   "source": [
    "OnePiece.Kumo.reset!()\n",
    "\n",
    "OnePiece.Kumo.VE_, OnePiece.Kumo.ED_"
   ]
  },
  {
   "cell_type": "markdown",
   "id": "08ef152a-6da1-494f-a97e-985db960dd58",
   "metadata": {},
   "source": [
    "## load!\n",
    "\n",
    "## potentiate!"
   ]
  },
  {
   "cell_type": "code",
   "execution_count": null,
   "id": "bd40f494-0b77-4166-8f9d-51e29443a8ea",
   "metadata": {},
   "outputs": [],
   "source": [
    "struct A end\n",
    "\n",
    "OnePiece.Kumo.plot()"
   ]
  },
  {
   "cell_type": "code",
   "execution_count": null,
   "id": "1ef36a96-fbeb-4f34-9119-98b1a6c886ed",
   "metadata": {},
   "outputs": [],
   "source": [
    "OnePiece.Kumo.load!()\n",
    "\n",
    "OnePiece.Kumo.plot()"
   ]
  },
  {
   "cell_type": "code",
   "execution_count": null,
   "id": "23217d54-cb87-4f55-ada1-5f5cf50e3641",
   "metadata": {},
   "outputs": [],
   "source": [
    "A >> A\n",
    "\n",
    "OnePiece.Kumo.plot()"
   ]
  },
  {
   "cell_type": "code",
   "execution_count": null,
   "id": "6395c095-1273-4b4b-9a56-28118a7660c5",
   "metadata": {},
   "outputs": [],
   "source": [
    "A << A\n",
    "\n",
    "OnePiece.Kumo.plot()"
   ]
  },
  {
   "cell_type": "code",
   "execution_count": null,
   "id": "802e1049-1b55-4440-92ac-8457f997b436",
   "metadata": {},
   "outputs": [],
   "source": [
    "struct B end\n",
    "\n",
    "struct C end\n",
    "\n",
    "OnePiece.Kumo.load!()\n",
    "\n",
    "OnePiece.Kumo.plot()"
   ]
  },
  {
   "cell_type": "code",
   "execution_count": null,
   "id": "1c806cba-0d3f-4aa2-8edd-83e46de140bb",
   "metadata": {},
   "outputs": [],
   "source": [
    "abstract type Grand end\n",
    "\n",
    "abstract type Combine <: Grand end\n",
    "\n",
    "abstract type React end\n",
    "\n",
    "struct ABCStruct <: Combine\n",
    "\n",
    "    a::A\n",
    "\n",
    "    b::B\n",
    "\n",
    "    c::C\n",
    "\n",
    "end\n",
    "\n",
    "struct ABCReact <: React end\n",
    "\n",
    "OnePiece.Kumo.load!()\n",
    "\n",
    "[A, B, C] >> ABCReact\n",
    "\n",
    ";"
   ]
  },
  {
   "cell_type": "code",
   "execution_count": null,
   "id": "0178b546-61ff-4ae7-9c79-309c5f385ac4",
   "metadata": {},
   "outputs": [],
   "source": [
    "si = 128\n",
    "\n",
    "st_ = [\n",
    "    Dict(\"selector\" => \"#A\", \"style\" => Dict(\"background-color\" => \"#20d9ba\")),\n",
    "    Dict(\"selector\" => \"#B\", \"style\" => Dict(\"background-color\" => \"#9017e6\")),\n",
    "    Dict(\"selector\" => \"#C\", \"style\" => Dict(\"background-color\" => \"#4e40d8\")),\n",
    "    Dict(\n",
    "        \"selector\" => \".Combine\",\n",
    "        \"style\" => Dict(\n",
    "            \"background-color\" => \"#ff1968\",\n",
    "            \"height\" => si * 1 / 2,\n",
    "            \"width\" => si * 1 / 2,\n",
    "        ),\n",
    "    ),\n",
    "    Dict(\n",
    "        \"selector\" => \".React\",\n",
    "        \"style\" => Dict(\n",
    "            \"background-color\" => \"#f3c13a\",\n",
    "            \"height\" => si * 1 / 2,\n",
    "            \"width\" => si * 1 / 2,\n",
    "        ),\n",
    "    ),\n",
    "    Dict(\n",
    "        \"selector\" => \".Grand\",\n",
    "        \"style\" => Dict(\"background-color\" => \"#ff1968\", \"height\" => si, \"width\" => si),\n",
    "    ),\n",
    "]\n",
    "\n",
    ";"
   ]
  },
  {
   "cell_type": "code",
   "execution_count": null,
   "id": "ee91eff9-72ea-4a20-90d8-be5a275c2311",
   "metadata": {},
   "outputs": [],
   "source": [
    "pr = \"Kumo.interaction\"\n",
    "\n",
    "js = joinpath(homedir(), \"Downloads\", \"$pr.json\")\n",
    "\n",
    "if ispath(js)\n",
    "\n",
    "    rm(js)\n",
    "\n",
    "end\n",
    "\n",
    "OnePiece.Kumo.plot(st_ = st_, ht = joinpath(te, \"$pr.html\"))\n",
    "\n",
    "sleep(1)\n",
    "\n",
    "if !ispath(js)\n",
    "\n",
    "    println(\"$js is missing.\")\n",
    "\n",
    "    js = \"\"\n",
    "\n",
    "end"
   ]
  },
  {
   "cell_type": "markdown",
   "id": "7cf216de-afc1-4e4f-b347-c5011b2c0d6c",
   "metadata": {},
   "source": [
    "## animate"
   ]
  },
  {
   "cell_type": "code",
   "execution_count": null,
   "id": "05b40276-036c-4a76-b2c1-6bd8b16cd936",
   "metadata": {},
   "outputs": [],
   "source": [
    "OnePiece.Kumo.animate(\n",
    "    [\n",
    "        [1, 0, 0, 0, 0, 0, 0, 0],\n",
    "        [2, 0, 0, 1, 0, 0, 0, 0],\n",
    "        [3, 0, 0, 2, 1, 0, 0, 0],\n",
    "        [4, 0, 0, 3, 2, 1, 1, 0],\n",
    "        [5, 1, 1, 4, 3, 2, 2, 1],\n",
    "    ],\n",
    "    mkpath(joinpath(te, \"animate\")),\n",
    "    js = js,\n",
    "    st_ = st_,\n",
    ")"
   ]
  },
  {
   "cell_type": "markdown",
   "id": "31580ab5-fa95-409f-a97b-0f90ec983146",
   "metadata": {},
   "source": [
    "## edge"
   ]
  },
  {
   "cell_type": "code",
   "execution_count": null,
   "id": "ffc2892e-2f94-40f8-80f0-d1a93000d5cc",
   "metadata": {},
   "outputs": [],
   "source": [
    "de_x_so_x_ed = OnePiece.Kumo.edge()"
   ]
  },
  {
   "cell_type": "markdown",
   "id": "20dce3d1-4c7a-4a31-a65b-b8638f4545c6",
   "metadata": {},
   "source": [
    "## heat"
   ]
  },
  {
   "cell_type": "code",
   "execution_count": null,
   "id": "277ee24b-27a6-4f5e-890a-ccc444b8e340",
   "metadata": {},
   "outputs": [],
   "source": [
    "lo_ = [\"A\", \"b1\", \"b2\", \"C\"]\n",
    "\n",
    "ve_al_ = Dict(\"B\" => [\"b1\", \"b2\"])\n",
    "\n",
    ";"
   ]
  },
  {
   "cell_type": "code",
   "execution_count": null,
   "id": "91df3eed-da3a-4d7c-adfe-93810985ad9b",
   "metadata": {},
   "outputs": [],
   "source": [
    "he_ = OnePiece.Kumo.heat(lo_, [1.0, 2.0, 4.0, 0.0], ve_al_ = ve_al_)"
   ]
  },
  {
   "cell_type": "code",
   "execution_count": null,
   "id": "ceaa48f4-fee2-4345-aa0b-0b77efb7f757",
   "metadata": {},
   "outputs": [],
   "source": [
    "OnePiece.Kumo.plot(js = js, st_ = st_, he_ = he_)"
   ]
  },
  {
   "cell_type": "code",
   "execution_count": null,
   "id": "92402113-822b-4697-98ea-0e1491124d0e",
   "metadata": {},
   "outputs": [],
   "source": [
    "ve_x_sa_x_he = OnePiece.Kumo.heat(\n",
    "    lo_,\n",
    "    [\n",
    "        1.0 10.0\n",
    "        2.0 20.0\n",
    "        4.0 40.0\n",
    "        0.0  0.0\n",
    "    ],\n",
    "    ve_al_ = ve_al_,\n",
    ")"
   ]
  },
  {
   "cell_type": "code",
   "execution_count": null,
   "id": "b90f4679-b48d-4a2e-8e06-27087f4e0daa",
   "metadata": {},
   "outputs": [],
   "source": [
    "OnePiece.Kumo.plot(js = js, st_ = st_, he_ = ve_x_sa_x_he[:, end])"
   ]
  },
  {
   "cell_type": "markdown",
   "id": "a8c39993-7a4f-43b0-885a-f04e02e2842d",
   "metadata": {},
   "source": [
    "## flow"
   ]
  },
  {
   "cell_type": "code",
   "execution_count": null,
   "id": "ca292f8c-b8cc-4920-942f-7aa09dd672d4",
   "metadata": {},
   "outputs": [],
   "source": [
    "he__ = OnePiece.Kumo.flow(he_)\n",
    "\n",
    "OnePiece.Kumo.animate(he__, mkpath(joinpath(te, \"flow\")), pe = 1 / 8, js = js, st_ = st_)\n",
    "\n",
    "he__"
   ]
  },
  {
   "cell_type": "code",
   "execution_count": null,
   "id": "2c335a58-ac3b-4873-a497-01718b5234ca",
   "metadata": {},
   "outputs": [],
   "source": [
    "he___, ve_x_sa_x_he = OnePiece.Kumo.flow(ve_x_sa_x_he)\n",
    "\n",
    "OnePiece.Kumo.animate(\n",
    "    he___[end],\n",
    "    mkpath(joinpath(te, \"flow_matrix\")),\n",
    "    pe = 1 / 10,\n",
    "    js = js,\n",
    "    st_ = st_,\n",
    ")\n",
    "\n",
    "ve_x_sa_x_he"
   ]
  }
 ],
 "metadata": {
  "kernelspec": {
   "display_name": "Julia 1.8.2",
   "language": "julia",
   "name": "julia-1.8"
  },
  "language_info": {
   "file_extension": ".jl",
   "mimetype": "application/julia",
   "name": "julia",
   "version": "1.8.2"
  }
 },
 "nbformat": 4,
 "nbformat_minor": 5
}
