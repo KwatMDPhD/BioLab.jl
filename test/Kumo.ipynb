{
 "cells": [
  {
   "outputs": [],
   "cell_type": "code",
   "source": [
    "using BioLab"
   ],
   "id": "c6e018a8-fed5-4f5a-97b8-bde4d1c32de3",
   "metadata": {},
   "execution_count": null
  },
  {
   "outputs": [],
   "cell_type": "code",
   "source": [
    "te = BioLab.Path.make_temporary(\"BioLab.test.Kumo\")"
   ],
   "id": "936cdecc-6b8a-4431-ad24-617403fb6570",
   "metadata": {},
   "execution_count": null
  },
  {
   "cell_type": "markdown",
   "source": [
    "## _add!"
   ],
   "id": "d2d8731e-7d8f-44d7-a447-613ce1f983de",
   "metadata": {}
  },
  {
   "outputs": [],
   "cell_type": "code",
   "source": [
    "BioLab.Kumo._add!(\"Luffy\")\n",
    "\n",
    "BioLab.Kumo._add!(\"Luffy\", \"Nami\")\n",
    "\n",
    "BioLab.Kumo._add!(\"Zoro\", \"Nami\")"
   ],
   "id": "35803aa4-0363-4d4e-917b-7e22e837379b",
   "metadata": {},
   "execution_count": null
  },
  {
   "cell_type": "markdown",
   "source": [
    "## VE_"
   ],
   "id": "21ea54da-e1bf-4523-b9b5-cce98409594f",
   "metadata": {}
  },
  {
   "outputs": [],
   "cell_type": "code",
   "source": [
    "BioLab.Kumo.VE_"
   ],
   "id": "4d2a81fe-1b77-4f1f-a424-d13b694dfd36",
   "metadata": {},
   "execution_count": null
  },
  {
   "cell_type": "markdown",
   "source": [
    "## _string_vertex"
   ],
   "id": "29da5788-d5d0-45dc-ac53-13e7becb85ae",
   "metadata": {}
  },
  {
   "outputs": [],
   "cell_type": "code",
   "source": [
    "collect(BioLab.Kumo._stringify_vertex())"
   ],
   "id": "0dbe7247-1147-47bf-9a1c-9a75e3301d95",
   "metadata": {},
   "execution_count": null
  },
  {
   "cell_type": "markdown",
   "source": [
    "## ED_"
   ],
   "id": "e32d882a-4dc6-48d9-b53f-caac6a53cf9d",
   "metadata": {}
  },
  {
   "outputs": [],
   "cell_type": "code",
   "source": [
    "BioLab.Kumo.ED_"
   ],
   "id": "20f4f379-11fd-441d-992b-858339282efc",
   "metadata": {},
   "execution_count": null
  },
  {
   "cell_type": "markdown",
   "source": [
    "## plot"
   ],
   "id": "a28e0a37-fbdc-47f1-9d8d-25509b44428d",
   "metadata": {}
  },
  {
   "outputs": [],
   "cell_type": "code",
   "source": [
    "BioLab.Kumo.plot()"
   ],
   "id": "babb62db-4239-44bd-9278-294a2b35bbbf",
   "metadata": {},
   "execution_count": null
  },
  {
   "cell_type": "markdown",
   "source": [
    "## reset!"
   ],
   "id": "dca09daf-38da-4555-960f-ab888a091889",
   "metadata": {}
  },
  {
   "outputs": [],
   "cell_type": "code",
   "source": [
    "BioLab.Kumo.reset!()\n",
    "\n",
    "BioLab.Kumo.VE_, BioLab.Kumo.ED_"
   ],
   "id": "ed2c02b2-03cb-487f-964f-1180bb7bdc36",
   "metadata": {},
   "execution_count": null
  },
  {
   "cell_type": "markdown",
   "source": [
    "## load!\n",
    "## potentiate"
   ],
   "id": "08ef152a-6da1-494f-a97e-985db960dd58",
   "metadata": {}
  },
  {
   "outputs": [],
   "cell_type": "code",
   "source": [
    "struct A end\n",
    "\n",
    "BioLab.Kumo.plot()"
   ],
   "id": "bd40f494-0b77-4166-8f9d-51e29443a8ea",
   "metadata": {},
   "execution_count": null
  },
  {
   "outputs": [],
   "cell_type": "code",
   "source": [
    "BioLab.Kumo.load!()\n",
    "\n",
    "BioLab.Kumo.plot()"
   ],
   "id": "1ef36a96-fbeb-4f34-9119-98b1a6c886ed",
   "metadata": {},
   "execution_count": null
  },
  {
   "outputs": [],
   "cell_type": "code",
   "source": [
    "A >> A\n",
    "\n",
    "BioLab.Kumo.plot()"
   ],
   "id": "23217d54-cb87-4f55-ada1-5f5cf50e3641",
   "metadata": {},
   "execution_count": null
  },
  {
   "outputs": [],
   "cell_type": "code",
   "source": [
    "A << A\n",
    "\n",
    "BioLab.Kumo.plot()"
   ],
   "id": "6395c095-1273-4b4b-9a56-28118a7660c5",
   "metadata": {},
   "execution_count": null
  },
  {
   "outputs": [],
   "cell_type": "code",
   "source": [
    "struct B end\n",
    "\n",
    "struct C end\n",
    "\n",
    "BioLab.Kumo.load!()\n",
    "\n",
    "BioLab.Kumo.plot()"
   ],
   "id": "802e1049-1b55-4440-92ac-8457f997b436",
   "metadata": {},
   "execution_count": null
  },
  {
   "outputs": [],
   "cell_type": "code",
   "source": [
    "abstract type Grand end\n",
    "\n",
    "abstract type Combine <: Grand end\n",
    "\n",
    "abstract type React end\n",
    "\n",
    "struct ABCStruct <: Combine\n",
    "\n",
    "    a::A\n",
    "\n",
    "    b::B\n",
    "\n",
    "    c::C\n",
    "\n",
    "end\n",
    "\n",
    "struct ABCReact <: React end\n",
    "\n",
    "BioLab.Kumo.load!()\n",
    "\n",
    "[A, B, C] >> ABCReact\n",
    "\n",
    ";"
   ],
   "id": "1c806cba-0d3f-4aa2-8edd-83e46de140bb",
   "metadata": {},
   "execution_count": null
  },
  {
   "outputs": [],
   "cell_type": "code",
   "source": [
    "si = 128\n",
    "\n",
    "st_ = [\n",
    "    Dict(\"selector\" => \"#A\", \"style\" => Dict(\"background-color\" => \"#20d9ba\")),\n",
    "    Dict(\"selector\" => \"#B\", \"style\" => Dict(\"background-color\" => \"#9017e6\")),\n",
    "    Dict(\"selector\" => \"#C\", \"style\" => Dict(\"background-color\" => \"#4e40d8\")),\n",
    "    Dict(\n",
    "        \"selector\" => \".Combine\",\n",
    "        \"style\" => Dict(\n",
    "            \"background-color\" => \"#ff1968\",\n",
    "            \"height\" => si * 1 / 2,\n",
    "            \"width\" => si * 1 / 2,\n",
    "        ),\n",
    "    ),\n",
    "    Dict(\n",
    "        \"selector\" => \".React\",\n",
    "        \"style\" => Dict(\n",
    "            \"background-color\" => \"#f3c13a\",\n",
    "            \"height\" => si * 1 / 2,\n",
    "            \"width\" => si * 1 / 2,\n",
    "        ),\n",
    "    ),\n",
    "    Dict(\n",
    "        \"selector\" => \".Grand\",\n",
    "        \"style\" => Dict(\"background-color\" => \"#ff1968\", \"height\" => si, \"width\" => si),\n",
    "    ),\n",
    "]\n",
    "\n",
    ";"
   ],
   "id": "0178b546-61ff-4ae7-9c79-309c5f385ac4",
   "metadata": {},
   "execution_count": null
  },
  {
   "outputs": [],
   "cell_type": "code",
   "source": [
    "pr = \"Kumo.interaction\"\n",
    "\n",
    "js = joinpath(homedir(), \"Downloads\", \"$pr.json\")\n",
    "\n",
    "if ispath(js)\n",
    "\n",
    "    rm(js)\n",
    "\n",
    "end\n",
    "\n",
    "BioLab.Kumo.plot(st_ = st_, ht = joinpath(te, \"$pr.html\"))\n",
    "\n",
    "sleep(1)\n",
    "\n",
    "if !ispath(js)\n",
    "\n",
    "    println(\"$js is missing.\")\n",
    "\n",
    "    js = \"\"\n",
    "\n",
    "end"
   ],
   "id": "ee91eff9-72ea-4a20-90d8-be5a275c2311",
   "metadata": {},
   "execution_count": null
  },
  {
   "cell_type": "markdown",
   "source": [
    "## animate"
   ],
   "id": "7cf216de-afc1-4e4f-b347-c5011b2c0d6c",
   "metadata": {}
  },
  {
   "outputs": [],
   "cell_type": "code",
   "source": [
    "BioLab.Kumo.animate(\n",
    "    [\n",
    "        [1, 0, 0, 0, 0, 0, 0, 0],\n",
    "        [2, 0, 0, 1, 0, 0, 0, 0],\n",
    "        [3, 0, 0, 2, 1, 0, 0, 0],\n",
    "        [4, 0, 0, 3, 2, 1, 1, 0],\n",
    "        [5, 1, 1, 4, 3, 2, 2, 1],\n",
    "    ],\n",
    "    js,\n",
    "    mkpath(joinpath(te, \"animate\")),\n",
    "    st_ = st_,\n",
    ")"
   ],
   "id": "05b40276-036c-4a76-b2c1-6bd8b16cd936",
   "metadata": {},
   "execution_count": null
  },
  {
   "cell_type": "markdown",
   "source": [
    "## edge"
   ],
   "id": "31580ab5-fa95-409f-a97b-0f90ec983146",
   "metadata": {}
  },
  {
   "outputs": [],
   "cell_type": "code",
   "source": [
    "de_x_so_x_ed = BioLab.Kumo.edge()"
   ],
   "id": "ffc2892e-2f94-40f8-80f0-d1a93000d5cc",
   "metadata": {},
   "execution_count": null
  },
  {
   "cell_type": "markdown",
   "source": [
    "## heat\n",
    "## _heat_check"
   ],
   "id": "20dce3d1-4c7a-4a31-a65b-b8638f4545c6",
   "metadata": {}
  },
  {
   "outputs": [],
   "cell_type": "code",
   "source": [
    "sr_ = [\"A\", \"b1\", \"b2\", \"C\"]\n",
    "\n",
    "st_he = Dict(zip(sr_, (1.0, 2.0, 4.0, 0.0)))\n",
    "\n",
    "st_al_ = Dict(\"B\" => [\"b1\", \"b2\"])\n",
    "\n",
    "he_ = BioLab.Kumo.heat(st_he, st_al_ = st_al_)"
   ],
   "id": "dde61d69-89d4-4227-b1f6-5363dcb4eaf3",
   "metadata": {},
   "execution_count": null
  },
  {
   "outputs": [],
   "cell_type": "code",
   "source": [
    "BioLab.Kumo.plot(js = js, st_ = st_, he_ = he_)"
   ],
   "id": "ceaa48f4-fee2-4345-aa0b-0b77efb7f757",
   "metadata": {},
   "execution_count": null
  },
  {
   "outputs": [],
   "cell_type": "code",
   "source": [
    "ve_x_sa_x_he = BioLab.Kumo.heat(\n",
    "    sr_,\n",
    "    [\n",
    "        1.0 10.0\n",
    "        2.0 20.0\n",
    "        4.0 40.0\n",
    "        0.0  0.0\n",
    "    ],\n",
    "    st_al_ = st_al_,\n",
    ")"
   ],
   "id": "92402113-822b-4697-98ea-0e1491124d0e",
   "metadata": {},
   "execution_count": null
  },
  {
   "outputs": [],
   "cell_type": "code",
   "source": [
    "BioLab.Kumo.plot(js = js, st_ = st_, he_ = ve_x_sa_x_he[:, end])"
   ],
   "id": "b90f4679-b48d-4a2e-8e06-27087f4e0daa",
   "metadata": {},
   "execution_count": null
  },
  {
   "cell_type": "markdown",
   "source": [
    "## flow"
   ],
   "id": "a8c39993-7a4f-43b0-885a-f04e02e2842d",
   "metadata": {}
  },
  {
   "outputs": [],
   "cell_type": "code",
   "source": [
    "he__ = BioLab.Kumo.flow(he_)\n",
    "\n",
    "BioLab.Kumo.animate(he__, js, mkpath(joinpath(te, \"flow\")), pe = 1 / 8, st_ = st_)\n",
    "\n",
    "he__"
   ],
   "id": "2d669950-f7a6-4a97-a61f-5ae8ec9234cc",
   "metadata": {},
   "execution_count": null
  },
  {
   "outputs": [],
   "cell_type": "code",
   "source": [
    "ve_x_sa_x_he"
   ],
   "id": "7b310abd-ca58-4043-a2a6-d769732f7319",
   "metadata": {},
   "execution_count": null
  },
  {
   "outputs": [],
   "cell_type": "code",
   "source": [
    "he___, ve_x_sa_x_he = BioLab.Kumo.flow(ve_x_sa_x_he)\n",
    "\n",
    "BioLab.Kumo.animate(he___[end], js, mkpath(joinpath(te, \"flow_matrix\")), pe = 1 / 10, st_ = st_)\n",
    "\n",
    "ve_x_sa_x_he"
   ],
   "id": "2c335a58-ac3b-4873-a497-01718b5234ca",
   "metadata": {},
   "execution_count": null
  }
 ],
 "nbformat_minor": 5,
 "metadata": {
  "language_info": {
   "file_extension": ".jl",
   "mimetype": "application/julia",
   "name": "julia",
   "version": "1.8.3"
  },
  "kernelspec": {
   "name": "julia-1.8",
   "display_name": "Julia 1.8.3",
   "language": "julia"
  }
 },
 "nbformat": 4
}
