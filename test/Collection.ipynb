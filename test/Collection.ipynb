{
 "cells": [
  {
   "cell_type": "code",
   "execution_count": null,
   "id": "baf12f00",
   "metadata": {
    "execution": {
     "iopub.execute_input": "2023-02-23T14:50:25.525000Z",
     "iopub.status.busy": "2023-02-23T14:50:25.251000Z",
     "iopub.status.idle": "2023-02-23T14:50:29.788000Z",
     "shell.execute_reply": "2023-02-23T14:50:29.763000Z"
    }
   },
   "outputs": [],
   "source": [
    "include(\"_.jl\")"
   ]
  },
  {
   "cell_type": "markdown",
   "id": "3c0875e6-77b5-4fda-b35f-466410a13599",
   "metadata": {},
   "source": [
    "## is_in"
   ]
  },
  {
   "cell_type": "code",
   "execution_count": null,
   "id": "0feeec39-e94f-4371-a8d7-e87365da9195",
   "metadata": {
    "execution": {
     "iopub.execute_input": "2023-02-23T14:50:29.953000Z",
     "iopub.status.busy": "2023-02-23T14:50:29.789000Z",
     "iopub.status.idle": "2023-02-23T14:50:38.993000Z",
     "shell.execute_reply": "2023-02-23T14:50:38.993000Z"
    }
   },
   "outputs": [],
   "source": [
    "an_ = BioLab.CA_\n",
    "\n",
    "an1_ = ['1', '2', 'K']\n",
    "\n",
    "@test BioLab.Collection.is_in(an_, an1_) ==\n",
    "      [false, true, false, false, false, false, false, false, false, false, false, false, true]\n",
    "\n",
    "an_id = Dict('A' => 1, '2' => 2, '3' => 3, 'Q' => 4, 'K' => 5)\n",
    "\n",
    "@test BioLab.Collection.is_in(an_id, an1_) == [false, true, false, false, true]\n",
    "\n",
    "fe_, sc_, fe1_ = BioLab.FeatureSetEnrichment.benchmark_myc()\n",
    "\n",
    "BioLab.String.print_header(\"Set\")\n",
    "\n",
    "fe1s_ = Set(fe1_)\n",
    "\n",
    "@code_warntype BioLab.Collection.is_in(fe_, fe1s_)\n",
    "\n",
    "# 499.417 μs (2 allocations: 19.67 KiB)\n",
    "# 520.208 μs (2 allocations: 19.67 KiB)\n",
    "# @btime BioLab.Collection.is_in($fe_, $fe1s_)\n",
    "\n",
    "BioLab.String.print_header(\"Vector\")\n",
    "\n",
    "@code_warntype BioLab.Collection.is_in(fe_, fe1_)\n",
    "\n",
    "# 743.583 μs (2 allocations: 19.67 KiB)\n",
    "# 1.192 ms (2 allocations: 19.67 KiB)\n",
    "# @btime BioLab.Collection.is_in($fe_, $fe1_)\n",
    "\n",
    "BioLab.String.print_header(\"Dict\")\n",
    "\n",
    "fe_id = Dict(fe => id for (id, fe) in enumerate(fe_))\n",
    "\n",
    "@code_warntype BioLab.Collection.is_in(fe_id, fe1_)\n",
    "\n",
    "# 1.367 μs (2 allocations: 19.67 KiB) \n",
    "# @btime BioLab.Collection.is_in($fe_id, $fe1_)"
   ]
  },
  {
   "cell_type": "markdown",
   "id": "4f3b2c46-eded-44aa-a798-bd53121126c4",
   "metadata": {},
   "source": [
    "## pair_index"
   ]
  },
  {
   "cell_type": "code",
   "execution_count": null,
   "id": "bca5792b-10be-4c3a-a529-ef01103a900b",
   "metadata": {
    "execution": {
     "iopub.execute_input": "2023-02-23T14:50:38.994000Z",
     "iopub.status.busy": "2023-02-23T14:50:38.994000Z",
     "iopub.status.idle": "2023-02-23T14:50:39.214000Z",
     "shell.execute_reply": "2023-02-23T14:50:39.214000Z"
    }
   },
   "outputs": [],
   "source": [
    "an_ = (\"Aa\", \"Ii\", \"Uu\", \"Ee\", \"Oo\")\n",
    "\n",
    "@test BioLab.Collection.pair_index(an_) == (\n",
    "    Dict(\"Aa\" => 1, \"Ii\" => 2, \"Uu\" => 3, \"Ee\" => 4, \"Oo\" => 5),\n",
    "    Dict(1 => \"Aa\", 2 => \"Ii\", 3 => \"Uu\", 4 => \"Ee\", 5 => \"Oo\"),\n",
    ")\n",
    "\n",
    "@code_warntype BioLab.Collection.pair_index(an_)\n",
    "\n",
    "# 197.218 ns (8 allocations: 1.03 KiB)\n",
    "# @btime BioLab.Collection.pair_index($an_)"
   ]
  },
  {
   "cell_type": "markdown",
   "id": "68f13944-5541-41fe-9a52-0d47995a7158",
   "metadata": {},
   "source": [
    "## get_common_start"
   ]
  },
  {
   "cell_type": "code",
   "execution_count": null,
   "id": "af6cf4c6",
   "metadata": {
    "execution": {
     "iopub.execute_input": "2023-02-23T14:50:39.215000Z",
     "iopub.status.busy": "2023-02-23T14:50:39.215000Z",
     "iopub.status.idle": "2023-02-23T14:50:40.471000Z",
     "shell.execute_reply": "2023-02-23T14:50:40.471000Z"
    }
   },
   "outputs": [],
   "source": [
    "for (an_, re) in (\n",
    "    (((), ()), ()),\n",
    "    ((Vector{Int}(), Vector{Int}()), Vector{Int}()),\n",
    "    (((1,), (1, 2)), (1,)),\n",
    "    (((1.0,), (1.0, 2.0)), (1.0,)),\n",
    "    ((('a', 'b'), ('a',)), ('a',)),\n",
    "    (((\"a\", \"b\"), (\"a\",)), (\"a\",)),\n",
    "    (((1, 2, 3), (1, 4, 5)), (1,)),\n",
    "    ((\"aiueo\", \"aiue\", \"aiu\"), \"aiu\"),\n",
    ")\n",
    "\n",
    "    BioLab.String.print_header(an_)\n",
    "\n",
    "    @test BioLab.Collection.get_common_start(an_) == re\n",
    "\n",
    "    @code_warntype BioLab.Collection.get_common_start(an_)\n",
    "\n",
    "    # 279.445 ns (5 allocations: 192 bytes)\n",
    "    # 130.407 ns (4 allocations: 192 bytes)\n",
    "    # 1.179 μs (17 allocations: 544 bytes)\n",
    "    # 1.158 μs (20 allocations: 592 bytes)\n",
    "    # 1.221 μs (17 allocations: 496 bytes)\n",
    "    # 1.183 μs (17 allocations: 512 bytes)\n",
    "    # 1.833 μs (19 allocations: 800 bytes)\n",
    "    # 1.550 μs (13 allocations: 488 bytes)\n",
    "    # @btime BioLab.Collection.get_common_start($an_)\n",
    "\n",
    "end"
   ]
  },
  {
   "cell_type": "markdown",
   "id": "c3e6f165",
   "metadata": {},
   "source": [
    "## sort_like"
   ]
  },
  {
   "cell_type": "code",
   "execution_count": null,
   "id": "08d69395-4d20-494c-98b1-a022654a7379",
   "metadata": {
    "execution": {
     "iopub.execute_input": "2023-02-23T14:50:40.472000Z",
     "iopub.status.busy": "2023-02-23T14:50:40.472000Z",
     "iopub.status.idle": "2023-02-23T14:50:40.775000Z",
     "shell.execute_reply": "2023-02-23T14:50:40.775000Z"
    }
   },
   "outputs": [],
   "source": [
    "ve1 = ['a', 'e', 'K', 't']\n",
    "\n",
    "ve2 = [\"a\", \"K\", \"t\", \"w\"]\n",
    "\n",
    "@test BioLab.Collection.sort_like(([2, 4, 1, 3], ve1, ve2)) ==\n",
    "      [[1, 2, 3, 4], ['K', 'a', 't', 'e'], [\"t\", \"a\", \"w\", \"K\"]]\n",
    "\n",
    "@test BioLab.Collection.sort_like(([3, 1, 4, 2], ve1, ve2)) ==\n",
    "      [[1, 2, 3, 4], ['e', 't', 'a', 'K'], [\"K\", \"w\", \"a\", \"t\"]]\n",
    "\n",
    "an__ = ([1, 3, 5, 6, 4, 2], \"acefdb\")\n",
    "\n",
    "@test BioLab.Collection.sort_like(an__) == [[1, 2, 3, 4, 5, 6], \"abcdef\"]\n",
    "\n",
    "@test BioLab.Collection.sort_like(an__; ic = false) == [[6, 5, 4, 3, 2, 1], \"fedcba\"]\n",
    "\n",
    "@code_warntype BioLab.Collection.sort_like(an__)\n",
    "\n",
    "# 408.955 ns (9 allocations: 552 bytes)\n",
    "# @btime BioLab.Collection.sort_like($an__)"
   ]
  },
  {
   "cell_type": "markdown",
   "id": "ea9d570c-35d4-4eaf-b99a-e0829d2c010a",
   "metadata": {},
   "source": [
    "## get_type"
   ]
  },
  {
   "cell_type": "code",
   "execution_count": null,
   "id": "929e04ed-0f7c-4906-8dff-d8985a2d7b8f",
   "metadata": {
    "execution": {
     "iopub.execute_input": "2023-02-23T14:50:40.777000Z",
     "iopub.status.busy": "2023-02-23T14:50:40.777000Z",
     "iopub.status.idle": "2023-02-23T14:50:41.413000Z",
     "shell.execute_reply": "2023-02-23T14:50:41.412000Z"
    }
   },
   "outputs": [],
   "source": [
    "for (ar_, re) in (\n",
    "    ((1, 2), Int),\n",
    "    ((3.0, 4.0), Float64),\n",
    "    ((5, 6.0), Float64),\n",
    "    (('a', 'b'), Char),\n",
    "    ((\"Cc\", \"Dd\"), String),\n",
    "    (('e', \"Ff\"), Any),\n",
    "    (([], []), Any),\n",
    "    ((Int[], []), Any),\n",
    "    ((Float64[], []), Any),\n",
    "    ((Float64[], Int[]), Float64),\n",
    ")\n",
    "\n",
    "    BioLab.String.print_header(ar_)\n",
    "\n",
    "    @test BioLab.Collection.get_type(ar_...) == re\n",
    "\n",
    "    @code_warntype BioLab.Collection.get_type(ar_...)\n",
    "\n",
    "    # 17.200 ns (1 allocation: 80 bytes)\n",
    "    # 17.452 ns (1 allocation: 80 bytes)\n",
    "    # 107.162 ns (4 allocations: 160 bytes)\n",
    "    # 16.825 ns (1 allocation: 64 bytes)\n",
    "    # 18.036 ns (1 allocation: 64 bytes)\n",
    "    # 45.283 ns (1 allocation: 64 bytes)\n",
    "    # 45.539 ns (1 allocation: 48 bytes)\n",
    "    # 44.021 ns (1 allocation: 48 bytes)\n",
    "    # 45.753 ns (1 allocation: 48 bytes)\n",
    "    # 45.374 ns (1 allocation: 64 bytes)\n",
    "    # @btime BioLab.Collection.get_type($ar_...)\n",
    "\n",
    "end"
   ]
  },
  {
   "cell_type": "markdown",
   "id": "35a25b05-17fd-4398-b7cd-969ed201ebba",
   "metadata": {},
   "source": [
    "## sort_recursively"
   ]
  },
  {
   "cell_type": "code",
   "execution_count": null,
   "id": "a811c9cc-3e7e-4264-ac82-72347d30924f",
   "metadata": {
    "execution": {
     "iopub.execute_input": "2023-02-23T14:50:41.414000Z",
     "iopub.status.busy": "2023-02-23T14:50:41.414000Z",
     "iopub.status.idle": "2023-02-23T14:50:43.757000Z",
     "shell.execute_reply": "2023-02-23T14:50:43.757000Z"
    }
   },
   "outputs": [],
   "source": [
    "an = Dict(\n",
    "    \"8ved\" => [Dict(\"e2\" => 4, \"e1\" => 3), Dict(\"e2\" => 6, \"e1\" => 5)],\n",
    "    \"7tuhd\" => (2, 3, 1, Dict(\"d2\" => 2, \"d1\" => 1)),\n",
    "    \"6vehd\" => [2, 3, 1, Dict(\"d2\" => 2, \"d1\" => 1)],\n",
    "    \"5veh\" => [1, \"a\"],\n",
    "    \"4di\" => Dict(\"c\" => 1, \"b\" => 2, \"a\" => 3),\n",
    "    \"3di\" => Dict(),\n",
    "    \"2tu\" => (2, 3, 1),\n",
    "    \"1ve\" => [2, 3, 1],\n",
    ")\n",
    "\n",
    "# TODO: `@test`.\n",
    "BioLab.Dict.print(BioLab.Collection.sort_recursively(an))\n",
    "\n",
    "@code_warntype BioLab.Collection.sort_recursively(an)\n",
    "\n",
    "# 7.284 ms (224 allocations: 14.72 KiB)\n",
    "# @btime BioLab.Collection.sort_recursively($an)"
   ]
  }
 ],
 "metadata": {
  "@webio": {
   "lastCommId": null,
   "lastKernelId": null
  },
  "kernelspec": {
   "display_name": "Julia 1.8.5",
   "language": "julia",
   "name": "julia-1.8"
  },
  "language_info": {
   "file_extension": ".jl",
   "mimetype": "application/julia",
   "name": "julia",
   "version": "1.8.5"
  }
 },
 "nbformat": 4,
 "nbformat_minor": 5
}
