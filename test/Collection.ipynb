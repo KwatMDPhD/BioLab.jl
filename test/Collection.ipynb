{
 "cells": [
  {
   "outputs": [],
   "cell_type": "code",
   "source": [
    "include(\"_.jl\")"
   ],
   "id": "baf12f00",
   "metadata": {},
   "execution_count": null
  },
  {
   "cell_type": "markdown",
   "source": [
    "## is_in"
   ],
   "id": "3c0875e6-77b5-4fda-b35f-466410a13599",
   "metadata": {}
  },
  {
   "outputs": [],
   "cell_type": "code",
   "source": [
    "an_ = BioLab.CA_\n",
    "\n",
    "an1_ = ['1', '2', 'K']\n",
    "\n",
    "@test BioLab.Collection.is_in(an_, an1_) ==\n",
    "      [false, true, false, false, false, false, false, false, false, false, false, false, true]\n",
    "\n",
    "an_id = Dict('A' => 1, '2' => 2, '3' => 3, 'Q' => 4, 'K' => 5)\n",
    "\n",
    "@test BioLab.Collection.is_in(an_id, an1_) == [false, true, false, false, true]\n",
    "\n",
    "fe_, sc_, fe1_ = BioLab.FeatureSetEnrichment.benchmark_myc()\n",
    "\n",
    "BioLab.String.print_header(\"Set\")\n",
    "\n",
    "fe1s_ = Set(fe1_)\n",
    "\n",
    "@code_warntype BioLab.Collection.is_in(fe_, fe1s_)\n",
    "\n",
    "# 499.417 μs (2 allocations: 19.67 KiB)\n",
    "# 520.208 μs (2 allocations: 19.67 KiB)\n",
    "@btime BioLab.Collection.is_in($fe_, $fe1s_)\n",
    "\n",
    "BioLab.String.print_header(\"Vector\")\n",
    "\n",
    "@code_warntype BioLab.Collection.is_in(fe_, fe1_)\n",
    "\n",
    "# 743.583 μs (2 allocations: 19.67 KiB)\n",
    "# 1.192 ms (2 allocations: 19.67 KiB)\n",
    "@btime BioLab.Collection.is_in($fe_, $fe1_)\n",
    "\n",
    "BioLab.String.print_header(\"Dict\")\n",
    "\n",
    "fe_id = Dict(fe => id for (id, fe) in enumerate(fe_))\n",
    "\n",
    "@code_warntype BioLab.Collection.is_in(fe_id, fe1_)\n",
    "\n",
    "# 1.367 μs (2 allocations: 19.67 KiB) \n",
    "@btime BioLab.Collection.is_in($fe_id, $fe1_)"
   ],
   "id": "0feeec39-e94f-4371-a8d7-e87365da9195",
   "metadata": {},
   "execution_count": null
  },
  {
   "cell_type": "markdown",
   "source": [
    "## pair_index"
   ],
   "id": "4f3b2c46-eded-44aa-a798-bd53121126c4",
   "metadata": {}
  },
  {
   "outputs": [],
   "cell_type": "code",
   "source": [
    "an_ = (\"Aa\", \"Ii\", \"Uu\", \"Ee\", \"Oo\")\n",
    "\n",
    "@test BioLab.Collection.pair_index(an_) == (\n",
    "    Dict(\"Aa\" => 1, \"Ii\" => 2, \"Uu\" => 3, \"Ee\" => 4, \"Oo\" => 5),\n",
    "    Dict(1 => \"Aa\", 2 => \"Ii\", 3 => \"Uu\", 4 => \"Ee\", 5 => \"Oo\"),\n",
    ")\n",
    "\n",
    "@code_warntype BioLab.Collection.pair_index(an_)\n",
    "\n",
    "# 197.218 ns (8 allocations: 1.03 KiB)\n",
    "@btime BioLab.Collection.pair_index($an_)"
   ],
   "id": "bca5792b-10be-4c3a-a529-ef01103a900b",
   "metadata": {},
   "execution_count": null
  },
  {
   "cell_type": "markdown",
   "source": [
    "## get_common_start"
   ],
   "id": "68f13944-5541-41fe-9a52-0d47995a7158",
   "metadata": {}
  },
  {
   "outputs": [],
   "cell_type": "code",
   "source": [
    "for (an_, re) in (\n",
    "    (((), ()), ()),\n",
    "    ((Vector{Int}(), Vector{Int}()), Vector{Int}()),\n",
    "    (((1,), (1, 2)), (1,)),\n",
    "    (((1.0,), (1.0, 2.0)), (1.0,)),\n",
    "    ((('a', 'b'), ('a',)), ('a',)),\n",
    "    (((\"a\", \"b\"), (\"a\",)), (\"a\",)),\n",
    "    (((1, 2, 3), (1, 4, 5)), (1,)),\n",
    "    ((\"aiueo\", \"aiue\", \"aiu\"), \"aiu\"),\n",
    ")\n",
    "\n",
    "    BioLab.String.print_header(an_)\n",
    "\n",
    "    @test BioLab.Collection.get_common_start(an_) == re\n",
    "\n",
    "    @code_warntype BioLab.Collection.get_common_start(an_)\n",
    "\n",
    "    # 279.445 ns (5 allocations: 192 bytes)\n",
    "    # 130.407 ns (4 allocations: 192 bytes)\n",
    "    # 1.179 μs (17 allocations: 544 bytes)\n",
    "    # 1.158 μs (20 allocations: 592 bytes)\n",
    "    # 1.221 μs (17 allocations: 496 bytes)\n",
    "    # 1.183 μs (17 allocations: 512 bytes)\n",
    "    # 1.833 μs (19 allocations: 800 bytes)\n",
    "    # 1.550 μs (13 allocations: 488 bytes)\n",
    "    @btime BioLab.Collection.get_common_start($an_)\n",
    "\n",
    "end"
   ],
   "id": "af6cf4c6",
   "metadata": {},
   "execution_count": null
  },
  {
   "cell_type": "markdown",
   "source": [
    "## sort_like"
   ],
   "id": "c3e6f165",
   "metadata": {}
  },
  {
   "outputs": [],
   "cell_type": "code",
   "source": [
    "ve1 = ['a', 'e', 'K', 't']\n",
    "\n",
    "ve2 = [\"a\", \"K\", \"t\", \"w\"]\n",
    "\n",
    "@test BioLab.Collection.sort_like(([2, 4, 1, 3], ve1, ve2)) ==\n",
    "      [[1, 2, 3, 4], ['K', 'a', 't', 'e'], [\"t\", \"a\", \"w\", \"K\"]]\n",
    "\n",
    "@test BioLab.Collection.sort_like(([3, 1, 4, 2], ve1, ve2)) ==\n",
    "      [[1, 2, 3, 4], ['e', 't', 'a', 'K'], [\"K\", \"w\", \"a\", \"t\"]]\n",
    "\n",
    "an__ = ([1, 3, 5, 6, 4, 2], \"acefdb\")\n",
    "\n",
    "@test BioLab.Collection.sort_like(an__) == [[1, 2, 3, 4, 5, 6], \"abcdef\"]\n",
    "\n",
    "@code_warntype BioLab.Collection.sort_like(an__)\n",
    "\n",
    "# 408.955 ns (9 allocations: 552 bytes)\n",
    "@btime BioLab.Collection.sort_like($an__)"
   ],
   "id": "08d69395-4d20-494c-98b1-a022654a7379",
   "metadata": {},
   "execution_count": null
  },
  {
   "cell_type": "markdown",
   "source": [
    "## sort_recursively"
   ],
   "id": "35a25b05-17fd-4398-b7cd-969ed201ebba",
   "metadata": {}
  },
  {
   "outputs": [],
   "cell_type": "code",
   "source": [
    "an = Dict(\n",
    "    \"8ved\" => [Dict(\"e2\" => 4, \"e1\" => 3), Dict(\"e2\" => 6, \"e1\" => 5)],\n",
    "    \"7tuhd\" => (2, 3, 1, Dict(\"d2\" => 2, \"d1\" => 1)),\n",
    "    \"6vehd\" => [2, 3, 1, Dict(\"d2\" => 2, \"d1\" => 1)],\n",
    "    \"5veh\" => [1, \"a\"],\n",
    "    \"4di\" => Dict(\"c\" => 1, \"b\" => 2, \"a\" => 3),\n",
    "    \"3di\" => Dict(),\n",
    "    \"2tu\" => (2, 3, 1),\n",
    "    \"1ve\" => [2, 3, 1],\n",
    ")\n",
    "\n",
    "# TODO: `@test`.\n",
    "BioLab.Dict.print(BioLab.Collection.sort_recursively(an))\n",
    "\n",
    "@code_warntype BioLab.Collection.sort_recursively(an)\n",
    "\n",
    "# 7.284 ms (224 allocations: 14.72 KiB)\n",
    "@btime BioLab.Collection.sort_recursively($an)"
   ],
   "id": "a811c9cc-3e7e-4264-ac82-72347d30924f",
   "metadata": {},
   "execution_count": null
  }
 ],
 "nbformat_minor": 5,
 "metadata": {
  "language_info": {
   "file_extension": ".jl",
   "mimetype": "application/julia",
   "name": "julia",
   "version": "1.8.5"
  },
  "@webio": {
   "lastKernelId": null,
   "lastCommId": null
  },
  "kernelspec": {
   "name": "julia-1.8",
   "display_name": "Julia 1.8.5",
   "language": "julia"
  }
 },
 "nbformat": 4
}
