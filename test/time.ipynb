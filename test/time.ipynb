{
 "cells": [
  {
   "cell_type": "code",
   "execution_count": 1,
   "id": "6482a17b",
   "metadata": {
    "execution": {
     "iopub.execute_input": "2022-08-10T10:56:43.856000Z",
     "iopub.status.busy": "2022-08-10T10:56:43.360000Z",
     "iopub.status.idle": "2022-08-10T10:56:50.125000Z",
     "shell.execute_reply": "2022-08-10T10:56:50.051000Z"
    }
   },
   "outputs": [],
   "source": [
    "using OnePiece"
   ]
  },
  {
   "cell_type": "markdown",
   "id": "f1afa9da",
   "metadata": {},
   "source": [
    "## stamp"
   ]
  },
  {
   "cell_type": "code",
   "execution_count": 2,
   "id": "66b20884",
   "metadata": {
    "execution": {
     "iopub.execute_input": "2022-08-10T10:56:50.782000Z",
     "iopub.status.busy": "2022-08-10T10:56:50.128000Z",
     "iopub.status.idle": "2022-08-10T10:56:51.804000Z",
     "shell.execute_reply": "2022-08-10T10:56:51.804000Z"
    }
   },
   "outputs": [
    {
     "data": {
      "text/plain": [
       "\"2022-8-10_10.56.50.807\""
      ]
     },
     "execution_count": 2,
     "metadata": {},
     "output_type": "execute_result"
    }
   ],
   "source": [
    "OnePiece.time.stamp()"
   ]
  }
 ],
 "metadata": {
  "@webio": {
   "lastCommId": null,
   "lastKernelId": null
  },
  "kernelspec": {
   "display_name": "Julia 1.7.3",
   "language": "julia",
   "name": "julia-1.7"
  },
  "language_info": {
   "file_extension": ".jl",
   "mimetype": "application/julia",
   "name": "julia",
   "version": "1.7.3"
  }
 },
 "nbformat": 4,
 "nbformat_minor": 5
}
