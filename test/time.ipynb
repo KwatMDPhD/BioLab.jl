{
 "cells": [
  {
   "cell_type": "code",
   "execution_count": null,
   "id": "6482a17b",
   "metadata": {
    "execution": {
     "iopub.execute_input": "2022-08-17T20:09:37.588000Z",
     "iopub.status.busy": "2022-08-17T20:09:37.213000Z",
     "iopub.status.idle": "2022-08-17T20:09:42.585000Z",
     "shell.execute_reply": "2022-08-17T20:09:42.538000Z"
    }
   },
   "outputs": [],
   "source": [
    "using OnePiece"
   ]
  },
  {
   "cell_type": "markdown",
   "id": "f1afa9da",
   "metadata": {},
   "source": [
    "## stamp"
   ]
  },
  {
   "cell_type": "code",
   "execution_count": null,
   "id": "66b20884",
   "metadata": {
    "execution": {
     "iopub.execute_input": "2022-08-17T20:09:43.213000Z",
     "iopub.status.busy": "2022-08-17T20:09:42.587000Z",
     "iopub.status.idle": "2022-08-17T20:09:43.895000Z",
     "shell.execute_reply": "2022-08-17T20:09:43.895000Z"
    }
   },
   "outputs": [],
   "source": [
    "OnePiece.time.stamp()"
   ]
  }
 ],
 "metadata": {
  "@webio": {
   "lastCommId": null,
   "lastKernelId": null
  },
  "kernelspec": {
   "display_name": "Julia 1.7.3",
   "language": "julia",
   "name": "julia-1.7"
  },
  "language_info": {
   "file_extension": ".jl",
   "mimetype": "application/julia",
   "name": "julia",
   "version": "1.7.3"
  }
 },
 "nbformat": 4,
 "nbformat_minor": 5
}
