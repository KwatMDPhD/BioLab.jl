{
 "cells": [
  {
   "cell_type": "code",
   "execution_count": 1,
   "id": "6482a17b",
   "metadata": {
    "execution": {
     "iopub.execute_input": "2022-08-10T21:41:46.101000Z",
     "iopub.status.busy": "2022-08-10T21:41:45.761000Z",
     "iopub.status.idle": "2022-08-10T21:41:50.223000Z",
     "shell.execute_reply": "2022-08-10T21:41:50.178000Z"
    }
   },
   "outputs": [],
   "source": [
    "using OnePiece"
   ]
  },
  {
   "cell_type": "markdown",
   "id": "f1afa9da",
   "metadata": {},
   "source": [
    "## stamp"
   ]
  },
  {
   "cell_type": "code",
   "execution_count": 2,
   "id": "66b20884",
   "metadata": {
    "execution": {
     "iopub.execute_input": "2022-08-10T21:41:50.672000Z",
     "iopub.status.busy": "2022-08-10T21:41:50.225000Z",
     "iopub.status.idle": "2022-08-10T21:41:51.300000Z",
     "shell.execute_reply": "2022-08-10T21:41:51.300000Z"
    }
   },
   "outputs": [
    {
     "data": {
      "text/plain": [
       "\"2022-8-10_21.41.50.687\""
      ]
     },
     "execution_count": 2,
     "metadata": {},
     "output_type": "execute_result"
    }
   ],
   "source": [
    "OnePiece.time.stamp()"
   ]
  }
 ],
 "metadata": {
  "@webio": {
   "lastCommId": null,
   "lastKernelId": null
  },
  "kernelspec": {
   "display_name": "Julia 1.7.3",
   "language": "julia",
   "name": "julia-1.7"
  },
  "language_info": {
   "file_extension": ".jl",
   "mimetype": "application/julia",
   "name": "julia",
   "version": "1.7.3"
  }
 },
 "nbformat": 4,
 "nbformat_minor": 5
}
