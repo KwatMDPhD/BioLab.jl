{
 "cells": [
  {
   "cell_type": "code",
   "execution_count": null,
   "id": "6482a17b",
   "metadata": {
    "execution": {
     "iopub.execute_input": "2022-08-19T09:43:17.798000Z",
     "iopub.status.busy": "2022-08-19T09:43:17.459000Z",
     "iopub.status.idle": "2022-08-19T09:43:22.490000Z",
     "shell.execute_reply": "2022-08-19T09:43:22.444000Z"
    }
   },
   "outputs": [],
   "source": [
    "using OnePiece"
   ]
  },
  {
   "cell_type": "markdown",
   "id": "f1afa9da",
   "metadata": {},
   "source": [
    "## stamp"
   ]
  },
  {
   "cell_type": "code",
   "execution_count": null,
   "id": "66b20884",
   "metadata": {
    "execution": {
     "iopub.execute_input": "2022-08-19T09:43:23.097000Z",
     "iopub.status.busy": "2022-08-19T09:43:22.492000Z",
     "iopub.status.idle": "2022-08-19T09:43:23.743000Z",
     "shell.execute_reply": "2022-08-19T09:43:23.742000Z"
    }
   },
   "outputs": [],
   "source": [
    "OnePiece.time.stamp()"
   ]
  }
 ],
 "metadata": {
  "@webio": {
   "lastCommId": null,
   "lastKernelId": null
  },
  "kernelspec": {
   "display_name": "Julia 1.7.3",
   "language": "julia",
   "name": "julia-1.7"
  },
  "language_info": {
   "file_extension": ".jl",
   "mimetype": "application/julia",
   "name": "julia",
   "version": "1.7.3"
  }
 },
 "nbformat": 4,
 "nbformat_minor": 5
}
