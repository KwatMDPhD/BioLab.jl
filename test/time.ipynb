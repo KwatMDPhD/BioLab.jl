{
 "cells": [
  {
   "cell_type": "code",
   "execution_count": null,
   "id": "6482a17b",
   "metadata": {
    "execution": {
     "iopub.execute_input": "2022-08-25T17:24:29.017000Z",
     "iopub.status.busy": "2022-08-25T17:24:28.521000Z",
     "iopub.status.idle": "2022-08-25T17:24:35.933000Z",
     "shell.execute_reply": "2022-08-25T17:24:35.891000Z"
    }
   },
   "outputs": [],
   "source": [
    "using OnePiece"
   ]
  },
  {
   "cell_type": "markdown",
   "id": "f1afa9da",
   "metadata": {},
   "source": [
    "## stamp"
   ]
  },
  {
   "cell_type": "code",
   "execution_count": null,
   "id": "66b20884",
   "metadata": {
    "execution": {
     "iopub.execute_input": "2022-08-25T17:24:36.120000Z",
     "iopub.status.busy": "2022-08-25T17:24:35.935000Z",
     "iopub.status.idle": "2022-08-25T17:24:36.765000Z",
     "shell.execute_reply": "2022-08-25T17:24:36.764000Z"
    }
   },
   "outputs": [],
   "source": [
    "OnePiece.time.stamp()"
   ]
  }
 ],
 "metadata": {
  "@webio": {
   "lastCommId": null,
   "lastKernelId": null
  },
  "kernelspec": {
   "display_name": "Julia 1.7.3",
   "language": "julia",
   "name": "julia-1.8"
  },
  "language_info": {
   "file_extension": ".jl",
   "mimetype": "application/julia",
   "name": "julia",
   "version": "1.8.0"
  }
 },
 "nbformat": 4,
 "nbformat_minor": 5
}
