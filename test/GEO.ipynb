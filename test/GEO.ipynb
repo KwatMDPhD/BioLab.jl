{
 "cells": [
  {
   "outputs": [],
   "cell_type": "code",
   "source": [
    "using BioLab"
   ],
   "id": "2f2e3891-39dd-4123-a959-6c56de9fbf0d",
   "metadata": {},
   "execution_count": null
  },
  {
   "cell_type": "markdown",
   "source": [
    "## read"
   ],
   "id": "6d8209a8-8baf-4d49-8978-00db79ba5bee",
   "metadata": {}
  },
  {
   "outputs": [],
   "cell_type": "code",
   "source": [
    "gs = \"GSE122404\"\n",
    "\n",
    "ty_bl = BioLab.GEO.read(gs)\n",
    "\n",
    ";"
   ],
   "id": "0efc1adf-026b-42fe-82c4-06c6959f4da6",
   "metadata": {},
   "execution_count": null
  },
  {
   "outputs": [],
   "cell_type": "code",
   "source": [
    "ty_bl[\"PLATFORM\"]"
   ],
   "id": "ae65ef3e-05f5-4558-8f41-4e507c4c603c",
   "metadata": {},
   "execution_count": null
  },
  {
   "outputs": [],
   "cell_type": "code",
   "source": [
    "ty_bl[\"SAMPLE\"][\"GSM3466115\"]"
   ],
   "id": "fbfe93c2-6e6d-4f40-9089-3ff829e1ef9e",
   "metadata": {},
   "execution_count": null
  },
  {
   "cell_type": "markdown",
   "source": [
    "## _name"
   ],
   "id": "2a69fbaf-5151-4fd2-afba-687815157632",
   "metadata": {}
  },
  {
   "outputs": [],
   "cell_type": "code",
   "source": [
    "pl_ke_va = ty_bl[\"PLATFORM\"]\n",
    "\n",
    "pl = collect(keys(pl_ke_va))[1]\n",
    "\n",
    "println(pl)\n",
    "\n",
    "fe_na = BioLab.GEO._name(pl, pl_ke_va[pl][\"fe_x_in_x_an\"])\n",
    "\n",
    "if fe_na[\"16657485\"] != \"XR_132471\"\n",
    "\n",
    "    error()\n",
    "\n",
    "end"
   ],
   "id": "b8e30235-dd4a-4c86-8112-809483d81428",
   "metadata": {},
   "execution_count": null
  },
  {
   "cell_type": "markdown",
   "source": [
    "## tabulate"
   ],
   "id": "610a0151-5468-4fcb-b342-837a5dd0a42b",
   "metadata": {}
  },
  {
   "outputs": [],
   "cell_type": "code",
   "source": [
    "fe_x_sa_x_an, fe_x_sa_x_nu_____... = BioLab.GEO.tabulate(ty_bl)\n",
    "\n",
    ";"
   ],
   "id": "35acf1ff-aa4a-48e5-8b7a-5d021c860d12",
   "metadata": {},
   "execution_count": null
  },
  {
   "outputs": [],
   "cell_type": "code",
   "source": [
    "fe_x_sa_x_an"
   ],
   "id": "6410ba50-62cc-425f-aaae-ede28a7cc343",
   "metadata": {},
   "execution_count": null
  },
  {
   "outputs": [],
   "cell_type": "code",
   "source": [
    "println(length(fe_x_sa_x_nu_____))\n",
    "\n",
    "fe_x_sa_x_nu_____[1]"
   ],
   "id": "d878ee08-478b-4416-9fbe-2e17d477757f",
   "metadata": {},
   "execution_count": null
  },
  {
   "cell_type": "markdown",
   "source": [
    "## read and tabulate"
   ],
   "id": "24e6340b-e3a0-48d4-b2b3-ba4fd099dfcb",
   "metadata": {}
  },
  {
   "outputs": [],
   "cell_type": "code",
   "source": [
    "ty_bl, fe_x_sa_x_an, fe_x_sa_x_nu_____ = nothing, nothing, nothing\n",
    "\n",
    "for gs in (\"GSE13534\", \"GSE107011\", \"GSE168204\", \"GSE141484\")\n",
    "\n",
    "    println(\"=\"^99)\n",
    "\n",
    "    ty_bl = BioLab.GEO.read(gs; pr = false)\n",
    "\n",
    "    fe_x_sa_x_an, fe_x_sa_x_nu_____... = BioLab.GEO.tabulate(ty_bl)\n",
    "\n",
    "    println(size(fe_x_sa_x_an))\n",
    "\n",
    "    println([size(fe_x_sa_x_nu) for fe_x_sa_x_nu in fe_x_sa_x_nu_____])\n",
    "\n",
    "end"
   ],
   "id": "2768aa23-9fd6-4e3c-b301-2a75b8b2bd93",
   "metadata": {},
   "execution_count": null
  },
  {
   "outputs": [],
   "cell_type": "code",
   "source": [
    "fe_x_sa_x_an"
   ],
   "id": "4ba85535-5a07-4569-9319-be515857fe2b",
   "metadata": {},
   "execution_count": null
  },
  {
   "outputs": [],
   "cell_type": "code",
   "source": [
    "fe_x_sa_x_nu_____[1]"
   ],
   "id": "8c4004c2-7a0e-48b9-9fb6-cc9370239244",
   "metadata": {},
   "execution_count": null
  }
 ],
 "nbformat_minor": 5,
 "metadata": {
  "language_info": {
   "file_extension": ".jl",
   "mimetype": "application/julia",
   "name": "julia",
   "version": "1.8.5"
  },
  "kernelspec": {
   "name": "julia-1.8",
   "display_name": "Julia 1.8.5",
   "language": "julia"
  }
 },
 "nbformat": 4
}
