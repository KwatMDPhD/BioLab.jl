{
 "cells": [
  {
   "outputs": [],
   "cell_type": "code",
   "source": [
    "include(\"_.jl\")"
   ],
   "id": "2f2e3891-39dd-4123-a959-6c56de9fbf0d",
   "metadata": {},
   "execution_count": null
  },
  {
   "cell_type": "markdown",
   "source": [
    "## read"
   ],
   "id": "6d8209a8-8baf-4d49-8978-00db79ba5bee",
   "metadata": {}
  },
  {
   "outputs": [],
   "cell_type": "code",
   "source": [
    "gs = \"GSE122404\"\n",
    "\n",
    "# TODO: `@test`.\n",
    "ty_bl = BioLab.GEO.read(gs)\n",
    "\n",
    "@code_warntype BioLab.GEO.read(gs)\n",
    "\n",
    "# 897.817 ms (10424941 allocations: 814.04 MiB)\n",
    "@btime BioLab.GEO.read($gs; pr = $false)"
   ],
   "id": "0efc1adf-026b-42fe-82c4-06c6959f4da6",
   "metadata": {},
   "execution_count": null
  },
  {
   "cell_type": "markdown",
   "source": [
    "## _name"
   ],
   "id": "2a69fbaf-5151-4fd2-afba-687815157632",
   "metadata": {}
  },
  {
   "outputs": [],
   "cell_type": "code",
   "source": [
    "pl_ke_va = ty_bl[\"PLATFORM\"]\n",
    "\n",
    "pl = collect(keys(pl_ke_va))[1]\n",
    "\n",
    "println(pl)\n",
    "\n",
    "fe_x_in_x_an = pl_ke_va[pl][\"fe_x_in_x_an\"]\n",
    "\n",
    "fe_na = BioLab.GEO._name(pl, fe_x_in_x_an)\n",
    "\n",
    "@test fe_na[\"16657485\"] == \"XR_132471\"\n",
    "\n",
    "@code_warntype BioLab.GEO._name(pl, fe_x_in_x_an)\n",
    "\n",
    "# 13.012 ms (287563 allocations: 10.75 MiB)\n",
    "@btime BioLab.GEO._name($pl, $fe_x_in_x_an; pr = false)"
   ],
   "id": "b8e30235-dd4a-4c86-8112-809483d81428",
   "metadata": {},
   "execution_count": null
  },
  {
   "cell_type": "markdown",
   "source": [
    "## tabulate"
   ],
   "id": "610a0151-5468-4fcb-b342-837a5dd0a42b",
   "metadata": {}
  },
  {
   "outputs": [],
   "cell_type": "code",
   "source": [
    "# TODO: `@test`.\n",
    "fe_x_sa_x_an, fe_x_sa_x_nu_____... = BioLab.GEO.tabulate(ty_bl)\n",
    "\n",
    "@code_warntype BioLab.GEO.tabulate(ty_bl)\n",
    "\n",
    "# 162.249 ms (360569 allocations: 139.39 MiB)\n",
    "@btime BioLab.GEO.tabulate($ty_bl; pr = $false)"
   ],
   "id": "ede49021-5cfa-4e5d-9632-c7026ee052ce",
   "metadata": {},
   "execution_count": null
  },
  {
   "cell_type": "markdown",
   "source": [
    "## Example"
   ],
   "id": "cd0bae8f-f333-4a07-822e-5ff8619fca40",
   "metadata": {}
  },
  {
   "outputs": [],
   "cell_type": "code",
   "source": [
    "pr = false\n",
    "\n",
    "for gs in (\"GSE13534\", \"GSE107011\", \"GSE168204\", \"GSE141484\")\n",
    "\n",
    "    BioLab.String.print_header(gs)\n",
    "\n",
    "    ty_bl = BioLab.GEO.read(gs; pr)\n",
    "\n",
    "    fe_x_sa_x_an, fe_x_sa_x_nu_____... = BioLab.GEO.tabulate(ty_bl; pr)\n",
    "\n",
    "end"
   ],
   "id": "2506d3fe-92f8-49e2-90ce-6975693bb737",
   "metadata": {},
   "execution_count": null
  }
 ],
 "nbformat_minor": 5,
 "metadata": {
  "language_info": {
   "file_extension": ".jl",
   "mimetype": "application/julia",
   "name": "julia",
   "version": "1.8.5"
  },
  "kernelspec": {
   "name": "julia-1.8",
   "display_name": "Julia 1.8.5",
   "language": "julia"
  }
 },
 "nbformat": 4
}
