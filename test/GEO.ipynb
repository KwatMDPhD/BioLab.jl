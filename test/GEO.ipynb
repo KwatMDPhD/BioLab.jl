{
 "cells": [
  {
   "cell_type": "code",
   "execution_count": null,
   "id": "2f2e3891-39dd-4123-a959-6c56de9fbf0d",
   "metadata": {},
   "outputs": [],
   "source": [
    "using OnePiece"
   ]
  },
  {
   "cell_type": "markdown",
   "id": "6d8209a8-8baf-4d49-8978-00db79ba5bee",
   "metadata": {},
   "source": [
    "## read"
   ]
  },
  {
   "cell_type": "code",
   "execution_count": null,
   "id": "0efc1adf-026b-42fe-82c4-06c6959f4da6",
   "metadata": {},
   "outputs": [],
   "source": [
    "gs = \"GSE122404\"\n",
    "\n",
    "ty_bl = OnePiece.GEO.read(gs)"
   ]
  },
  {
   "cell_type": "markdown",
   "id": "2a69fbaf-5151-4fd2-afba-687815157632",
   "metadata": {},
   "source": [
    "## _name"
   ]
  },
  {
   "cell_type": "code",
   "execution_count": null,
   "id": "b8e30235-dd4a-4c86-8112-809483d81428",
   "metadata": {},
   "outputs": [],
   "source": [
    "pl_ke_va = ty_bl[\"PLATFORM\"]\n",
    "\n",
    "pl = collect(keys(pl_ke_va))[1]\n",
    "\n",
    "fe_x_in_x_an = OnePiece.GEO._name(pl, pl_ke_va[pl][\"fe_x_in_x_an\"])"
   ]
  },
  {
   "cell_type": "markdown",
   "id": "610a0151-5468-4fcb-b342-837a5dd0a42b",
   "metadata": {},
   "source": [
    "## tabulate"
   ]
  },
  {
   "cell_type": "code",
   "execution_count": null,
   "id": "35acf1ff-aa4a-48e5-8b7a-5d021c860d12",
   "metadata": {},
   "outputs": [],
   "source": [
    "fe_x_sa_x_an, fe_x_sa_x_nu = OnePiece.GEO.tabulate(ty_bl)\n",
    "\n",
    ";"
   ]
  },
  {
   "cell_type": "code",
   "execution_count": null,
   "id": "6410ba50-62cc-425f-aaae-ede28a7cc343",
   "metadata": {},
   "outputs": [],
   "source": [
    "fe_x_sa_x_an"
   ]
  },
  {
   "cell_type": "code",
   "execution_count": null,
   "id": "d878ee08-478b-4416-9fbe-2e17d477757f",
   "metadata": {},
   "outputs": [],
   "source": [
    "fe_x_sa_x_nu"
   ]
  },
  {
   "cell_type": "markdown",
   "id": "24e6340b-e3a0-48d4-b2b3-ba4fd099dfcb",
   "metadata": {},
   "source": [
    "## read and tabulate"
   ]
  },
  {
   "cell_type": "code",
   "execution_count": null,
   "id": "2768aa23-9fd6-4e3c-b301-2a75b8b2bd93",
   "metadata": {},
   "outputs": [],
   "source": [
    "ty_bl, fe_x_sa_x_an, fe_x_sa_x_nu = nothing, nothing, nothing\n",
    "\n",
    "for gs in (\"GSE13534\", \"GSE107011\")\n",
    "\n",
    "    println(\"=\"^99)\n",
    "\n",
    "    ty_bl = OnePiece.GEO.read(gs)\n",
    "\n",
    "    fe_x_sa_x_an, fe_x_sa_x_nu = OnePiece.GEO.tabulate(ty_bl)\n",
    "\n",
    "    println(size(fe_x_sa_x_an))\n",
    "\n",
    "    println(size(fe_x_sa_x_nu))\n",
    "\n",
    "end"
   ]
  },
  {
   "cell_type": "code",
   "execution_count": null,
   "id": "1c575f17-d6df-49df-a17c-96b029f89e77",
   "metadata": {},
   "outputs": [],
   "source": [
    "fe_x_sa_x_an"
   ]
  },
  {
   "cell_type": "code",
   "execution_count": null,
   "id": "7c92642f-6726-4d19-818c-7d08a6990e05",
   "metadata": {},
   "outputs": [],
   "source": [
    "fe_x_sa_x_nu"
   ]
  }
 ],
 "metadata": {
  "kernelspec": {
   "display_name": "Julia 1.8.2",
   "language": "julia",
   "name": "julia-1.8"
  },
  "language_info": {
   "file_extension": ".jl",
   "mimetype": "application/julia",
   "name": "julia",
   "version": "1.8.2"
  }
 },
 "nbformat": 4,
 "nbformat_minor": 5
}
