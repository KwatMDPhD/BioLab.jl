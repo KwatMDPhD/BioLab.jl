{
 "cells": [
  {
   "outputs": [],
   "cell_type": "code",
   "source": [
    "using BenchmarkTools"
   ],
   "id": "fd43d069-12fa-439a-9a77-8499306cdd2a",
   "metadata": {},
   "execution_count": null
  },
  {
   "outputs": [],
   "cell_type": "code",
   "source": [
    "using BioinformaticsCore"
   ],
   "id": "2f2e3891-39dd-4123-a959-6c56de9fbf0d",
   "metadata": {},
   "execution_count": null
  },
  {
   "cell_type": "markdown",
   "source": [
    "## read"
   ],
   "id": "6d8209a8-8baf-4d49-8978-00db79ba5bee",
   "metadata": {}
  },
  {
   "outputs": [],
   "cell_type": "code",
   "source": [
    "gs = \"GSE122404\"\n",
    "\n",
    "ty_bl = BioinformaticsCore.GEO.read(gs)"
   ],
   "id": "0efc1adf-026b-42fe-82c4-06c6959f4da6",
   "metadata": {},
   "execution_count": null
  },
  {
   "outputs": [],
   "cell_type": "code",
   "source": [
    "# 1.067 s (19311727 allocations: 1.13 GiB)\n",
    "@btime BioinformaticsCore.GEO.read($gs, pr = false)"
   ],
   "id": "a5dca78b-7350-4d42-8689-3e5fef163712",
   "metadata": {},
   "execution_count": null
  },
  {
   "cell_type": "markdown",
   "source": [
    "## _name"
   ],
   "id": "2a69fbaf-5151-4fd2-afba-687815157632",
   "metadata": {}
  },
  {
   "outputs": [],
   "cell_type": "code",
   "source": [
    "pl_ke_va = ty_bl[\"PLATFORM\"]\n",
    "\n",
    "pl = collect(keys(pl_ke_va))[1]\n",
    "\n",
    "fe_x_in_x_an = BioinformaticsCore.GEO._name(pl, pl_ke_va[pl][\"fe_x_in_x_an\"])"
   ],
   "id": "b8e30235-dd4a-4c86-8112-809483d81428",
   "metadata": {},
   "execution_count": null
  },
  {
   "outputs": [],
   "cell_type": "code",
   "source": [
    "# 16.800 ms (448394 allocations: 18.68 MiB)\n",
    "@btime BioinformaticsCore.GEO._name($pl, $pl_ke_va[pl][\"fe_x_in_x_an\"], pr = false)"
   ],
   "id": "e2709ec2-f76e-4ad2-8b7b-511820e6bdc7",
   "metadata": {},
   "execution_count": null
  },
  {
   "cell_type": "markdown",
   "source": [
    "## tabulate"
   ],
   "id": "610a0151-5468-4fcb-b342-837a5dd0a42b",
   "metadata": {}
  },
  {
   "outputs": [],
   "cell_type": "code",
   "source": [
    "fe_x_sa_x_an, fe_x_sa_x_nu = BioinformaticsCore.GEO.tabulate(ty_bl)\n",
    "\n",
    ";"
   ],
   "id": "35acf1ff-aa4a-48e5-8b7a-5d021c860d12",
   "metadata": {},
   "execution_count": null
  },
  {
   "outputs": [],
   "cell_type": "code",
   "source": [
    "fe_x_sa_x_an"
   ],
   "id": "6410ba50-62cc-425f-aaae-ede28a7cc343",
   "metadata": {},
   "execution_count": null
  },
  {
   "outputs": [],
   "cell_type": "code",
   "source": [
    "fe_x_sa_x_nu"
   ],
   "id": "d878ee08-478b-4416-9fbe-2e17d477757f",
   "metadata": {},
   "execution_count": null
  },
  {
   "cell_type": "markdown",
   "source": [
    "## read and tabulate"
   ],
   "id": "24e6340b-e3a0-48d4-b2b3-ba4fd099dfcb",
   "metadata": {}
  },
  {
   "outputs": [],
   "cell_type": "code",
   "source": [
    "ty_bl, fe_x_sa_x_an, fe_x_sa_x_nu = nothing, nothing, nothing\n",
    "\n",
    "for gs in (\"GSE13534\", \"GSE107011\")\n",
    "\n",
    "    println(\"=\"^99)\n",
    "\n",
    "    ty_bl = BioinformaticsCore.GEO.read(gs)\n",
    "\n",
    "    fe_x_sa_x_an, fe_x_sa_x_nu = BioinformaticsCore.GEO.tabulate(ty_bl)\n",
    "\n",
    "    println(size(fe_x_sa_x_an))\n",
    "\n",
    "    println(size(fe_x_sa_x_nu))\n",
    "\n",
    "end"
   ],
   "id": "2768aa23-9fd6-4e3c-b301-2a75b8b2bd93",
   "metadata": {},
   "execution_count": null
  },
  {
   "outputs": [],
   "cell_type": "code",
   "source": [
    "fe_x_sa_x_an"
   ],
   "id": "1c575f17-d6df-49df-a17c-96b029f89e77",
   "metadata": {},
   "execution_count": null
  },
  {
   "outputs": [],
   "cell_type": "code",
   "source": [
    "fe_x_sa_x_nu"
   ],
   "id": "7c92642f-6726-4d19-818c-7d08a6990e05",
   "metadata": {},
   "execution_count": null
  }
 ],
 "nbformat_minor": 5,
 "metadata": {
  "language_info": {
   "file_extension": ".jl",
   "mimetype": "application/julia",
   "name": "julia",
   "version": "1.8.3"
  },
  "kernelspec": {
   "name": "julia-1.8",
   "display_name": "Julia 1.8.2",
   "language": "julia"
  }
 },
 "nbformat": 4
}
