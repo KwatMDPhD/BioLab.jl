{
 "cells": [
  {
   "cell_type": "code",
   "execution_count": null,
   "id": "34e4701e",
   "metadata": {
    "execution": {
     "iopub.execute_input": "2022-02-09T18:59:28.899563Z",
     "iopub.status.busy": "2022-02-09T18:59:28.534065Z",
     "iopub.status.idle": "2022-02-09T18:59:29.810095Z",
     "shell.execute_reply": "2022-02-09T18:59:29.809514Z"
    }
   },
   "outputs": [],
   "source": [
    "using Revise\n",
    "using BenchmarkTools"
   ]
  },
  {
   "cell_type": "code",
   "execution_count": null,
   "id": "7ede11b2",
   "metadata": {
    "execution": {
     "iopub.execute_input": "2022-02-09T18:59:29.812073Z",
     "iopub.status.busy": "2022-02-09T18:59:29.811551Z",
     "iopub.status.idle": "2022-02-09T18:59:40.595242Z",
     "shell.execute_reply": "2022-02-09T18:59:40.594540Z"
    }
   },
   "outputs": [],
   "source": [
    "using OnePiece"
   ]
  },
  {
   "cell_type": "markdown",
   "id": "79e29c8f",
   "metadata": {},
   "source": [
    "## compare_with_target"
   ]
  },
  {
   "cell_type": "code",
   "execution_count": null,
   "id": "54a16928",
   "metadata": {
    "execution": {
     "iopub.execute_input": "2022-02-09T18:59:42.290634Z",
     "iopub.status.busy": "2022-02-09T18:59:40.596726Z",
     "iopub.status.idle": "2022-02-09T18:59:43.289644Z",
     "shell.execute_reply": "2022-02-09T18:59:43.289126Z"
    }
   },
   "outputs": [],
   "source": [
    "n_ro = 5\n",
    "\n",
    "n_co = 4\n",
    "\n",
    "n_ze = convert(Int64, n_co / 2)\n",
    "\n",
    "n_on = n_co - n_ze"
   ]
  },
  {
   "cell_type": "code",
   "execution_count": null,
   "id": "4debe8bd",
   "metadata": {
    "execution": {
     "iopub.execute_input": "2022-02-09T18:59:43.291430Z",
     "iopub.status.busy": "2022-02-09T18:59:43.290865Z",
     "iopub.status.idle": "2022-02-09T18:59:44.297061Z",
     "shell.execute_reply": "2022-02-09T18:59:44.296571Z"
    }
   },
   "outputs": [],
   "source": [
    "bi_ = convert(BitVector, [zeros(n_ze); ones(n_on)])"
   ]
  },
  {
   "cell_type": "code",
   "execution_count": null,
   "id": "d851562e",
   "metadata": {
    "execution": {
     "iopub.execute_input": "2022-02-09T18:59:44.299005Z",
     "iopub.status.busy": "2022-02-09T18:59:44.298420Z",
     "iopub.status.idle": "2022-02-09T18:59:44.713269Z",
     "shell.execute_reply": "2022-02-09T18:59:44.712801Z"
    }
   },
   "outputs": [],
   "source": [
    "ve = [10^(id - 1) for id in 1:n_co]"
   ]
  },
  {
   "cell_type": "code",
   "execution_count": null,
   "id": "937eb6c7",
   "metadata": {
    "execution": {
     "iopub.execute_input": "2022-02-09T18:59:44.715145Z",
     "iopub.status.busy": "2022-02-09T18:59:44.714505Z",
     "iopub.status.idle": "2022-02-09T18:59:45.201337Z",
     "shell.execute_reply": "2022-02-09T18:59:45.200872Z"
    }
   },
   "outputs": [],
   "source": [
    "ma = convert(Matrix, reshape(1:(n_ro * n_co), (n_ro, n_co)))"
   ]
  },
  {
   "cell_type": "code",
   "execution_count": null,
   "id": "bcccaff6",
   "metadata": {
    "execution": {
     "iopub.execute_input": "2022-02-09T18:59:45.203208Z",
     "iopub.status.busy": "2022-02-09T18:59:45.202614Z",
     "iopub.status.idle": "2022-02-09T18:59:45.932344Z",
     "shell.execute_reply": "2022-02-09T18:59:45.931945Z"
    }
   },
   "outputs": [],
   "source": [
    "OnePiece.feature_by_sample.compare_with_target(bi_, ma, \"signal_to_noise_ratio\")"
   ]
  }
 ],
 "metadata": {
  "@webio": {
   "lastCommId": null,
   "lastKernelId": null
  },
  "kernelspec": {
   "display_name": "Julia 1.7.1",
   "language": "julia",
   "name": "julia-1.7"
  },
  "language_info": {
   "file_extension": ".jl",
   "mimetype": "application/julia",
   "name": "julia",
   "version": "1.7.2"
  }
 },
 "nbformat": 4,
 "nbformat_minor": 5
}
