{
 "cells": [
  {
   "cell_type": "code",
   "execution_count": null,
   "id": "017464da",
   "metadata": {
    "execution": {
     "iopub.execute_input": "2022-02-11T20:00:44.671134Z",
     "iopub.status.busy": "2022-02-11T20:00:44.272052Z",
     "iopub.status.idle": "2022-02-11T20:00:44.896905Z",
     "shell.execute_reply": "2022-02-11T20:00:44.896344Z"
    }
   },
   "outputs": [],
   "source": [
    "TE = joinpath(tempdir(), \"OnePiece.test\")\n",
    "\n",
    "if isdir(TE)\n",
    "\n",
    "    rm(TE, recursive = true)\n",
    "\n",
    "    println(\"Removed \", TE, \".\")\n",
    "\n",
    "end\n",
    "\n",
    "mkdir(TE)\n",
    "\n",
    "println(\"Made \", TE, \".\")"
   ]
  },
  {
   "cell_type": "code",
   "execution_count": null,
   "id": "34e4701e",
   "metadata": {
    "execution": {
     "iopub.execute_input": "2022-02-11T20:00:44.898894Z",
     "iopub.status.busy": "2022-02-11T20:00:44.898318Z",
     "iopub.status.idle": "2022-02-11T20:00:49.849080Z",
     "shell.execute_reply": "2022-02-11T20:00:49.848572Z"
    }
   },
   "outputs": [],
   "source": [
    "using OnePiece"
   ]
  },
  {
   "cell_type": "markdown",
   "id": "b92a3da9",
   "metadata": {},
   "source": [
    "---"
   ]
  },
  {
   "cell_type": "markdown",
   "id": "79e29c8f",
   "metadata": {},
   "source": [
    "## compare_with_target"
   ]
  },
  {
   "cell_type": "code",
   "execution_count": null,
   "id": "54a16928",
   "metadata": {
    "execution": {
     "iopub.execute_input": "2022-02-11T20:00:50.232225Z",
     "iopub.status.busy": "2022-02-11T20:00:49.850503Z",
     "iopub.status.idle": "2022-02-11T20:00:50.693179Z",
     "shell.execute_reply": "2022-02-11T20:00:50.692701Z"
    }
   },
   "outputs": [],
   "source": [
    "n_ro = 5\n",
    "\n",
    "n_co = 4\n",
    "\n",
    "n_ze = convert(Int64, n_co / 2)\n",
    "\n",
    "n_on = n_co - n_ze"
   ]
  },
  {
   "cell_type": "code",
   "execution_count": null,
   "id": "4debe8bd",
   "metadata": {
    "execution": {
     "iopub.execute_input": "2022-02-11T20:00:50.695736Z",
     "iopub.status.busy": "2022-02-11T20:00:50.694707Z",
     "iopub.status.idle": "2022-02-11T20:00:51.814366Z",
     "shell.execute_reply": "2022-02-11T20:00:51.813807Z"
    }
   },
   "outputs": [],
   "source": [
    "bi_ = convert(BitVector, [zeros(n_ze); ones(n_on)])"
   ]
  },
  {
   "cell_type": "code",
   "execution_count": null,
   "id": "d851562e",
   "metadata": {
    "execution": {
     "iopub.execute_input": "2022-02-11T20:00:51.816158Z",
     "iopub.status.busy": "2022-02-11T20:00:51.815586Z",
     "iopub.status.idle": "2022-02-11T20:00:52.230172Z",
     "shell.execute_reply": "2022-02-11T20:00:52.229699Z"
    }
   },
   "outputs": [],
   "source": [
    "ve = [10^(id - 1) for id in 1:n_co]"
   ]
  },
  {
   "cell_type": "code",
   "execution_count": null,
   "id": "937eb6c7",
   "metadata": {
    "execution": {
     "iopub.execute_input": "2022-02-11T20:00:52.232101Z",
     "iopub.status.busy": "2022-02-11T20:00:52.231509Z",
     "iopub.status.idle": "2022-02-11T20:00:52.646468Z",
     "shell.execute_reply": "2022-02-11T20:00:52.646020Z"
    }
   },
   "outputs": [],
   "source": [
    "ma = convert(Matrix, reshape(1:(n_ro * n_co), (n_ro, n_co)))"
   ]
  },
  {
   "cell_type": "code",
   "execution_count": null,
   "id": "bcccaff6",
   "metadata": {
    "execution": {
     "iopub.execute_input": "2022-02-11T20:00:52.648547Z",
     "iopub.status.busy": "2022-02-11T20:00:52.647918Z",
     "iopub.status.idle": "2022-02-11T20:00:53.362408Z",
     "shell.execute_reply": "2022-02-11T20:00:53.361846Z"
    }
   },
   "outputs": [],
   "source": [
    "OnePiece.feature_by_sample.compare_with_target(bi_, ma, \"signal_to_noise_ratio\")"
   ]
  },
  {
   "cell_type": "markdown",
   "id": "3f396855",
   "metadata": {},
   "source": [
    "---"
   ]
  },
  {
   "cell_type": "code",
   "execution_count": null,
   "id": "b4af2023",
   "metadata": {
    "execution": {
     "iopub.execute_input": "2022-02-11T20:00:53.364619Z",
     "iopub.status.busy": "2022-02-11T20:00:53.363894Z",
     "iopub.status.idle": "2022-02-11T20:00:53.378938Z",
     "shell.execute_reply": "2022-02-11T20:00:53.378356Z"
    }
   },
   "outputs": [],
   "source": [
    "if isdir(TE)\n",
    "\n",
    "    rm(TE, recursive = true)\n",
    "\n",
    "    println(\"Removed \", TE, \".\")\n",
    "\n",
    "end"
   ]
  }
 ],
 "metadata": {
  "kernelspec": {
   "display_name": "Julia 1.7.2",
   "language": "julia",
   "name": "julia-1.7"
  },
  "language_info": {
   "file_extension": ".jl",
   "mimetype": "application/julia",
   "name": "julia",
   "version": "1.7.2"
  }
 },
 "nbformat": 4,
 "nbformat_minor": 5
}
