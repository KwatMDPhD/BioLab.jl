{
 "cells": [
  {
   "cell_type": "code",
   "execution_count": null,
   "id": "34e4701e",
   "metadata": {
    "execution": {
     "iopub.execute_input": "2022-02-09T00:10:53.112825Z",
     "iopub.status.busy": "2022-02-09T00:10:51.993398Z",
     "iopub.status.idle": "2022-02-09T00:10:56.529394Z",
     "shell.execute_reply": "2022-02-09T00:10:56.525513Z"
    }
   },
   "outputs": [],
   "source": [
    "using Revise\n",
    "using BenchmarkTools"
   ]
  },
  {
   "cell_type": "code",
   "execution_count": null,
   "id": "7ede11b2",
   "metadata": {
    "execution": {
     "iopub.execute_input": "2022-02-09T00:10:56.534543Z",
     "iopub.status.busy": "2022-02-09T00:10:56.532835Z",
     "iopub.status.idle": "2022-02-09T00:11:33.562485Z",
     "shell.execute_reply": "2022-02-09T00:11:33.559829Z"
    }
   },
   "outputs": [],
   "source": [
    "using OnePiece"
   ]
  },
  {
   "cell_type": "markdown",
   "id": "79e29c8f",
   "metadata": {},
   "source": [
    "## compare_with_target"
   ]
  },
  {
   "cell_type": "code",
   "execution_count": null,
   "id": "54a16928",
   "metadata": {
    "execution": {
     "iopub.execute_input": "2022-02-09T00:11:39.087241Z",
     "iopub.status.busy": "2022-02-09T00:11:33.565916Z",
     "iopub.status.idle": "2022-02-09T00:11:41.953242Z",
     "shell.execute_reply": "2022-02-09T00:11:41.951977Z"
    }
   },
   "outputs": [],
   "source": [
    "n_ro = 5\n",
    "\n",
    "n_co = 4\n",
    "\n",
    "n_ze = convert(Int64, n_co / 2)\n",
    "\n",
    "n_on = n_co - n_ze"
   ]
  },
  {
   "cell_type": "code",
   "execution_count": null,
   "id": "4debe8bd",
   "metadata": {
    "execution": {
     "iopub.execute_input": "2022-02-09T00:11:41.957903Z",
     "iopub.status.busy": "2022-02-09T00:11:41.956443Z",
     "iopub.status.idle": "2022-02-09T00:11:44.796426Z",
     "shell.execute_reply": "2022-02-09T00:11:44.790401Z"
    }
   },
   "outputs": [],
   "source": [
    "bi_ = convert(BitVector, [zeros(n_ze); ones(n_on)])"
   ]
  },
  {
   "cell_type": "code",
   "execution_count": null,
   "id": "d851562e",
   "metadata": {
    "execution": {
     "iopub.execute_input": "2022-02-09T00:11:44.801229Z",
     "iopub.status.busy": "2022-02-09T00:11:44.799722Z",
     "iopub.status.idle": "2022-02-09T00:11:46.031408Z",
     "shell.execute_reply": "2022-02-09T00:11:46.030242Z"
    }
   },
   "outputs": [],
   "source": [
    "ve = [10^(id - 1) for id in 1:n_co]"
   ]
  },
  {
   "cell_type": "code",
   "execution_count": null,
   "id": "937eb6c7",
   "metadata": {
    "execution": {
     "iopub.execute_input": "2022-02-09T00:11:46.036111Z",
     "iopub.status.busy": "2022-02-09T00:11:46.034500Z",
     "iopub.status.idle": "2022-02-09T00:11:47.402901Z",
     "shell.execute_reply": "2022-02-09T00:11:47.395173Z"
    }
   },
   "outputs": [],
   "source": [
    "ma = convert(Matrix, reshape(1:(n_ro * n_co), (n_ro, n_co)))"
   ]
  },
  {
   "cell_type": "code",
   "execution_count": null,
   "id": "bcccaff6",
   "metadata": {
    "execution": {
     "iopub.execute_input": "2022-02-09T00:11:47.407762Z",
     "iopub.status.busy": "2022-02-09T00:11:47.406219Z",
     "iopub.status.idle": "2022-02-09T00:11:49.542881Z",
     "shell.execute_reply": "2022-02-09T00:11:49.532092Z"
    }
   },
   "outputs": [],
   "source": [
    "OnePiece.feature_by_sample.compare_with_target(bi_, ma, \"signal_to_noise_ratio\")"
   ]
  }
 ],
 "metadata": {
  "@webio": {
   "lastCommId": null,
   "lastKernelId": null
  },
  "kernelspec": {
   "display_name": "Julia 1.7.1",
   "language": "julia",
   "name": "julia-1.7"
  },
  "language_info": {
   "file_extension": ".jl",
   "mimetype": "application/julia",
   "name": "julia",
   "version": "1.7.2"
  }
 },
 "nbformat": 4,
 "nbformat_minor": 5
}
