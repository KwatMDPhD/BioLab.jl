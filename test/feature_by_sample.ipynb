{
 "cells": [
  {
   "cell_type": "code",
   "execution_count": 1,
   "id": "34e4701e",
   "metadata": {
    "execution": {
     "iopub.execute_input": "2022-02-10T17:51:53.748605Z",
     "iopub.status.busy": "2022-02-10T17:51:53.291176Z",
     "iopub.status.idle": "2022-02-10T17:51:54.682649Z",
     "shell.execute_reply": "2022-02-10T17:51:54.681878Z"
    }
   },
   "outputs": [],
   "source": [
    "using Revise\n",
    "using BenchmarkTools"
   ]
  },
  {
   "cell_type": "code",
   "execution_count": 2,
   "id": "7ede11b2",
   "metadata": {
    "execution": {
     "iopub.execute_input": "2022-02-10T17:51:54.684990Z",
     "iopub.status.busy": "2022-02-10T17:51:54.684460Z",
     "iopub.status.idle": "2022-02-10T17:52:00.716225Z",
     "shell.execute_reply": "2022-02-10T17:52:00.715774Z"
    }
   },
   "outputs": [],
   "source": [
    "using OnePiece"
   ]
  },
  {
   "cell_type": "markdown",
   "id": "79e29c8f",
   "metadata": {},
   "source": [
    "## compare_with_target"
   ]
  },
  {
   "cell_type": "code",
   "execution_count": 3,
   "id": "54a16928",
   "metadata": {
    "execution": {
     "iopub.execute_input": "2022-02-10T17:52:01.065876Z",
     "iopub.status.busy": "2022-02-10T17:52:00.717610Z",
     "iopub.status.idle": "2022-02-10T17:52:02.590560Z",
     "shell.execute_reply": "2022-02-10T17:52:02.590098Z"
    }
   },
   "outputs": [
    {
     "data": {
      "text/plain": [
       "2"
      ]
     },
     "execution_count": 3,
     "metadata": {},
     "output_type": "execute_result"
    }
   ],
   "source": [
    "n_ro = 5\n",
    "\n",
    "n_co = 4\n",
    "\n",
    "n_ze = convert(Int64, n_co / 2)\n",
    "\n",
    "n_on = n_co - n_ze"
   ]
  },
  {
   "cell_type": "code",
   "execution_count": 4,
   "id": "4debe8bd",
   "metadata": {
    "execution": {
     "iopub.execute_input": "2022-02-10T17:52:02.592545Z",
     "iopub.status.busy": "2022-02-10T17:52:02.591855Z",
     "iopub.status.idle": "2022-02-10T17:52:03.863692Z",
     "shell.execute_reply": "2022-02-10T17:52:03.863165Z"
    }
   },
   "outputs": [
    {
     "data": {
      "text/plain": [
       "4-element BitVector:\n",
       " 0\n",
       " 0\n",
       " 1\n",
       " 1"
      ]
     },
     "execution_count": 4,
     "metadata": {},
     "output_type": "execute_result"
    }
   ],
   "source": [
    "bi_ = convert(BitVector, [zeros(n_ze); ones(n_on)])"
   ]
  },
  {
   "cell_type": "code",
   "execution_count": 5,
   "id": "d851562e",
   "metadata": {
    "execution": {
     "iopub.execute_input": "2022-02-10T17:52:03.865825Z",
     "iopub.status.busy": "2022-02-10T17:52:03.865124Z",
     "iopub.status.idle": "2022-02-10T17:52:04.264427Z",
     "shell.execute_reply": "2022-02-10T17:52:04.263953Z"
    }
   },
   "outputs": [
    {
     "data": {
      "text/plain": [
       "4-element Vector{Int64}:\n",
       "    1\n",
       "   10\n",
       "  100\n",
       " 1000"
      ]
     },
     "execution_count": 5,
     "metadata": {},
     "output_type": "execute_result"
    }
   ],
   "source": [
    "ve = [10^(id - 1) for id in 1:n_co]"
   ]
  },
  {
   "cell_type": "code",
   "execution_count": 6,
   "id": "937eb6c7",
   "metadata": {
    "execution": {
     "iopub.execute_input": "2022-02-10T17:52:04.266346Z",
     "iopub.status.busy": "2022-02-10T17:52:04.265811Z",
     "iopub.status.idle": "2022-02-10T17:52:04.751065Z",
     "shell.execute_reply": "2022-02-10T17:52:04.750663Z"
    }
   },
   "outputs": [
    {
     "data": {
      "text/plain": [
       "5×4 Matrix{Int64}:\n",
       " 1   6  11  16\n",
       " 2   7  12  17\n",
       " 3   8  13  18\n",
       " 4   9  14  19\n",
       " 5  10  15  20"
      ]
     },
     "execution_count": 6,
     "metadata": {},
     "output_type": "execute_result"
    }
   ],
   "source": [
    "ma = convert(Matrix, reshape(1:(n_ro * n_co), (n_ro, n_co)))"
   ]
  },
  {
   "cell_type": "code",
   "execution_count": 7,
   "id": "bcccaff6",
   "metadata": {
    "execution": {
     "iopub.execute_input": "2022-02-10T17:52:04.753155Z",
     "iopub.status.busy": "2022-02-10T17:52:04.752599Z",
     "iopub.status.idle": "2022-02-10T17:52:05.470188Z",
     "shell.execute_reply": "2022-02-10T17:52:05.469804Z"
    }
   },
   "outputs": [
    {
     "data": {
      "text/plain": [
       "5-element Vector{Float64}:\n",
       " -1.923076923076923\n",
       " -1.8518518518518516\n",
       " -1.7857142857142858\n",
       " -1.7241379310344827\n",
       " -1.6666666666666667"
      ]
     },
     "execution_count": 7,
     "metadata": {},
     "output_type": "execute_result"
    }
   ],
   "source": [
    "OnePiece.feature_by_sample.compare_with_target(bi_, ma, \"signal_to_noise_ratio\")"
   ]
  }
 ],
 "metadata": {
  "@webio": {
   "lastCommId": null,
   "lastKernelId": null
  },
  "kernelspec": {
   "display_name": "Julia 1.7.1",
   "language": "julia",
   "name": "julia-1.7"
  },
  "language_info": {
   "file_extension": ".jl",
   "mimetype": "application/julia",
   "name": "julia",
   "version": "1.7.2"
  }
 },
 "nbformat": 4,
 "nbformat_minor": 5
}
