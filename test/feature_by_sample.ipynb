{
 "cells": [
  {
   "cell_type": "code",
   "execution_count": null,
   "id": "017464da",
   "metadata": {
    "execution": {
     "iopub.execute_input": "2022-02-13T22:26:15.403877Z",
     "iopub.status.busy": "2022-02-13T22:26:15.046343Z",
     "iopub.status.idle": "2022-02-13T22:26:15.605880Z",
     "shell.execute_reply": "2022-02-13T22:26:15.605374Z"
    }
   },
   "outputs": [],
   "source": [
    "TE = joinpath(tempdir(), \"OnePiece.test\")\n",
    "\n",
    "if isdir(TE)\n",
    "\n",
    "    rm(TE, recursive = true)\n",
    "\n",
    "    println(\"Removed \", TE, \".\")\n",
    "\n",
    "end\n",
    "\n",
    "mkdir(TE)\n",
    "\n",
    "println(\"Made \", TE, \".\")"
   ]
  },
  {
   "cell_type": "code",
   "execution_count": null,
   "id": "34e4701e",
   "metadata": {
    "execution": {
     "iopub.execute_input": "2022-02-13T22:26:15.607809Z",
     "iopub.status.busy": "2022-02-13T22:26:15.607305Z",
     "iopub.status.idle": "2022-02-13T22:26:19.985191Z",
     "shell.execute_reply": "2022-02-13T22:26:19.984750Z"
    }
   },
   "outputs": [],
   "source": [
    "using OnePiece"
   ]
  },
  {
   "cell_type": "markdown",
   "id": "b92a3da9",
   "metadata": {},
   "source": [
    "---"
   ]
  },
  {
   "cell_type": "markdown",
   "id": "79e29c8f",
   "metadata": {},
   "source": [
    "## compare_with_target"
   ]
  },
  {
   "cell_type": "code",
   "execution_count": null,
   "id": "54a16928",
   "metadata": {
    "execution": {
     "iopub.execute_input": "2022-02-13T22:26:20.322627Z",
     "iopub.status.busy": "2022-02-13T22:26:19.986740Z",
     "iopub.status.idle": "2022-02-13T22:26:20.728181Z",
     "shell.execute_reply": "2022-02-13T22:26:20.727774Z"
    }
   },
   "outputs": [],
   "source": [
    "n_ro = 5\n",
    "\n",
    "n_co = 4\n",
    "\n",
    "n_ze = convert(Int64, n_co / 2)\n",
    "\n",
    "n_on = n_co - n_ze"
   ]
  },
  {
   "cell_type": "code",
   "execution_count": null,
   "id": "4debe8bd",
   "metadata": {
    "execution": {
     "iopub.execute_input": "2022-02-13T22:26:20.731138Z",
     "iopub.status.busy": "2022-02-13T22:26:20.730448Z",
     "iopub.status.idle": "2022-02-13T22:26:21.757843Z",
     "shell.execute_reply": "2022-02-13T22:26:21.757430Z"
    }
   },
   "outputs": [],
   "source": [
    "bi_ = convert(BitVector, [zeros(n_ze); ones(n_on)])"
   ]
  },
  {
   "cell_type": "code",
   "execution_count": null,
   "id": "d851562e",
   "metadata": {
    "execution": {
     "iopub.execute_input": "2022-02-13T22:26:21.759698Z",
     "iopub.status.busy": "2022-02-13T22:26:21.759177Z",
     "iopub.status.idle": "2022-02-13T22:26:22.146695Z",
     "shell.execute_reply": "2022-02-13T22:26:22.145031Z"
    }
   },
   "outputs": [],
   "source": [
    "ve = [10^(id - 1) for id in 1:n_co]"
   ]
  },
  {
   "cell_type": "code",
   "execution_count": null,
   "id": "937eb6c7",
   "metadata": {
    "execution": {
     "iopub.execute_input": "2022-02-13T22:26:22.149159Z",
     "iopub.status.busy": "2022-02-13T22:26:22.148458Z",
     "iopub.status.idle": "2022-02-13T22:26:22.521977Z",
     "shell.execute_reply": "2022-02-13T22:26:22.521595Z"
    }
   },
   "outputs": [],
   "source": [
    "ma = convert(Matrix, reshape(1:(n_ro * n_co), (n_ro, n_co)))"
   ]
  },
  {
   "cell_type": "code",
   "execution_count": null,
   "id": "bcccaff6",
   "metadata": {
    "execution": {
     "iopub.execute_input": "2022-02-13T22:26:22.524006Z",
     "iopub.status.busy": "2022-02-13T22:26:22.523328Z",
     "iopub.status.idle": "2022-02-13T22:26:23.158081Z",
     "shell.execute_reply": "2022-02-13T22:26:23.157688Z"
    }
   },
   "outputs": [],
   "source": [
    "OnePiece.feature_by_sample.compare_with_target(bi_, ma, \"signal_to_noise_ratio\")"
   ]
  },
  {
   "cell_type": "markdown",
   "id": "3f396855",
   "metadata": {},
   "source": [
    "---"
   ]
  },
  {
   "cell_type": "code",
   "execution_count": null,
   "id": "b4af2023",
   "metadata": {
    "execution": {
     "iopub.execute_input": "2022-02-13T22:26:23.160079Z",
     "iopub.status.busy": "2022-02-13T22:26:23.159456Z",
     "iopub.status.idle": "2022-02-13T22:26:23.174588Z",
     "shell.execute_reply": "2022-02-13T22:26:23.174137Z"
    }
   },
   "outputs": [],
   "source": [
    "if isdir(TE)\n",
    "\n",
    "    rm(TE, recursive = true)\n",
    "\n",
    "    println(\"Removed \", TE, \".\")\n",
    "\n",
    "end"
   ]
  }
 ],
 "metadata": {
  "kernelspec": {
   "display_name": "Julia 1.7.2",
   "language": "julia",
   "name": "julia-1.7"
  },
  "language_info": {
   "file_extension": ".jl",
   "mimetype": "application/julia",
   "name": "julia",
   "version": "1.7.2"
  }
 },
 "nbformat": 4,
 "nbformat_minor": 5
}
