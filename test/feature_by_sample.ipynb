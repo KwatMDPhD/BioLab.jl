{
 "cells": [
  {
   "cell_type": "code",
   "execution_count": null,
   "id": "017464da",
   "metadata": {
    "execution": {
     "iopub.execute_input": "2022-02-14T16:49:48.709440Z",
     "iopub.status.busy": "2022-02-14T16:49:48.321602Z",
     "iopub.status.idle": "2022-02-14T16:49:48.927327Z",
     "shell.execute_reply": "2022-02-14T16:49:48.926761Z"
    }
   },
   "outputs": [],
   "source": [
    "TE = joinpath(tempdir(), \"OnePiece.test\")\n",
    "\n",
    "if isdir(TE)\n",
    "\n",
    "    rm(TE, recursive = true)\n",
    "\n",
    "    println(\"Removed \", TE, \".\")\n",
    "\n",
    "end\n",
    "\n",
    "mkdir(TE)\n",
    "\n",
    "println(\"Made \", TE, \".\")"
   ]
  },
  {
   "cell_type": "code",
   "execution_count": null,
   "id": "34e4701e",
   "metadata": {
    "execution": {
     "iopub.execute_input": "2022-02-14T16:49:48.929236Z",
     "iopub.status.busy": "2022-02-14T16:49:48.928660Z",
     "iopub.status.idle": "2022-02-14T16:49:53.561651Z",
     "shell.execute_reply": "2022-02-14T16:49:53.561070Z"
    }
   },
   "outputs": [],
   "source": [
    "using OnePiece"
   ]
  },
  {
   "cell_type": "markdown",
   "id": "b92a3da9",
   "metadata": {},
   "source": [
    "---"
   ]
  },
  {
   "cell_type": "markdown",
   "id": "79e29c8f",
   "metadata": {},
   "source": [
    "## compare_with_target"
   ]
  },
  {
   "cell_type": "code",
   "execution_count": null,
   "id": "54a16928",
   "metadata": {
    "execution": {
     "iopub.execute_input": "2022-02-14T16:49:53.912985Z",
     "iopub.status.busy": "2022-02-14T16:49:53.563094Z",
     "iopub.status.idle": "2022-02-14T16:49:54.338370Z",
     "shell.execute_reply": "2022-02-14T16:49:54.337920Z"
    }
   },
   "outputs": [],
   "source": [
    "n_ro = 5\n",
    "\n",
    "n_co = 4\n",
    "\n",
    "n_ze = convert(Int64, n_co / 2)\n",
    "\n",
    "n_on = n_co - n_ze"
   ]
  },
  {
   "cell_type": "code",
   "execution_count": null,
   "id": "4debe8bd",
   "metadata": {
    "execution": {
     "iopub.execute_input": "2022-02-14T16:49:54.340259Z",
     "iopub.status.busy": "2022-02-14T16:49:54.339684Z",
     "iopub.status.idle": "2022-02-14T16:49:55.413972Z",
     "shell.execute_reply": "2022-02-14T16:49:55.413516Z"
    }
   },
   "outputs": [],
   "source": [
    "bi_ = convert(BitVector, [zeros(n_ze); ones(n_on)])"
   ]
  },
  {
   "cell_type": "code",
   "execution_count": null,
   "id": "d851562e",
   "metadata": {
    "execution": {
     "iopub.execute_input": "2022-02-14T16:49:55.415814Z",
     "iopub.status.busy": "2022-02-14T16:49:55.415236Z",
     "iopub.status.idle": "2022-02-14T16:49:55.811795Z",
     "shell.execute_reply": "2022-02-14T16:49:55.811304Z"
    }
   },
   "outputs": [],
   "source": [
    "ve = [10^(id - 1) for id in 1:n_co]"
   ]
  },
  {
   "cell_type": "code",
   "execution_count": null,
   "id": "937eb6c7",
   "metadata": {
    "execution": {
     "iopub.execute_input": "2022-02-14T16:49:55.813653Z",
     "iopub.status.busy": "2022-02-14T16:49:55.813073Z",
     "iopub.status.idle": "2022-02-14T16:49:56.214042Z",
     "shell.execute_reply": "2022-02-14T16:49:56.213585Z"
    }
   },
   "outputs": [],
   "source": [
    "ma = convert(Matrix, reshape(1:(n_ro * n_co), (n_ro, n_co)))"
   ]
  },
  {
   "cell_type": "code",
   "execution_count": null,
   "id": "bcccaff6",
   "metadata": {
    "execution": {
     "iopub.execute_input": "2022-02-14T16:49:56.215909Z",
     "iopub.status.busy": "2022-02-14T16:49:56.215332Z",
     "iopub.status.idle": "2022-02-14T16:49:56.893811Z",
     "shell.execute_reply": "2022-02-14T16:49:56.893354Z"
    }
   },
   "outputs": [],
   "source": [
    "OnePiece.feature_by_sample.compare_with_target(bi_, ma, \"signal_to_noise_ratio\")"
   ]
  },
  {
   "cell_type": "markdown",
   "id": "3f396855",
   "metadata": {},
   "source": [
    "---"
   ]
  },
  {
   "cell_type": "code",
   "execution_count": null,
   "id": "b4af2023",
   "metadata": {
    "execution": {
     "iopub.execute_input": "2022-02-14T16:49:56.895777Z",
     "iopub.status.busy": "2022-02-14T16:49:56.895208Z",
     "iopub.status.idle": "2022-02-14T16:49:56.909636Z",
     "shell.execute_reply": "2022-02-14T16:49:56.909126Z"
    }
   },
   "outputs": [],
   "source": [
    "if isdir(TE)\n",
    "\n",
    "    rm(TE, recursive = true)\n",
    "\n",
    "    println(\"Removed \", TE, \".\")\n",
    "\n",
    "end"
   ]
  }
 ],
 "metadata": {
  "kernelspec": {
   "display_name": "Julia 1.7.2",
   "language": "julia",
   "name": "julia-1.7"
  },
  "language_info": {
   "file_extension": ".jl",
   "mimetype": "application/julia",
   "name": "julia",
   "version": "1.7.2"
  }
 },
 "nbformat": 4,
 "nbformat_minor": 5
}
