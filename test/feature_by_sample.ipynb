{
 "cells": [
  {
   "cell_type": "code",
   "execution_count": null,
   "id": "017464da",
   "metadata": {
    "execution": {
     "iopub.execute_input": "2022-02-14T17:05:09.095288Z",
     "iopub.status.busy": "2022-02-14T17:05:08.706387Z",
     "iopub.status.idle": "2022-02-14T17:05:09.311627Z",
     "shell.execute_reply": "2022-02-14T17:05:09.311046Z"
    }
   },
   "outputs": [],
   "source": [
    "TE = joinpath(tempdir(), \"OnePiece.test\")\n",
    "\n",
    "if isdir(TE)\n",
    "\n",
    "    rm(TE, recursive = true)\n",
    "\n",
    "    println(\"Removed \", TE, \".\")\n",
    "\n",
    "end\n",
    "\n",
    "mkdir(TE)\n",
    "\n",
    "println(\"Made \", TE, \".\")"
   ]
  },
  {
   "cell_type": "code",
   "execution_count": null,
   "id": "34e4701e",
   "metadata": {
    "execution": {
     "iopub.execute_input": "2022-02-14T17:05:09.313636Z",
     "iopub.status.busy": "2022-02-14T17:05:09.312965Z",
     "iopub.status.idle": "2022-02-14T17:05:14.327394Z",
     "shell.execute_reply": "2022-02-14T17:05:14.326879Z"
    }
   },
   "outputs": [],
   "source": [
    "using OnePiece"
   ]
  },
  {
   "cell_type": "markdown",
   "id": "b92a3da9",
   "metadata": {},
   "source": [
    "---"
   ]
  },
  {
   "cell_type": "markdown",
   "id": "79e29c8f",
   "metadata": {},
   "source": [
    "## compare_with_target"
   ]
  },
  {
   "cell_type": "code",
   "execution_count": null,
   "id": "54a16928",
   "metadata": {
    "execution": {
     "iopub.execute_input": "2022-02-14T17:05:14.685604Z",
     "iopub.status.busy": "2022-02-14T17:05:14.328857Z",
     "iopub.status.idle": "2022-02-14T17:05:15.121415Z",
     "shell.execute_reply": "2022-02-14T17:05:15.120957Z"
    }
   },
   "outputs": [],
   "source": [
    "n_ro = 5\n",
    "\n",
    "n_co = 4\n",
    "\n",
    "n_ze = convert(Int64, n_co / 2)\n",
    "\n",
    "n_on = n_co - n_ze"
   ]
  },
  {
   "cell_type": "code",
   "execution_count": null,
   "id": "4debe8bd",
   "metadata": {
    "execution": {
     "iopub.execute_input": "2022-02-14T17:05:15.123310Z",
     "iopub.status.busy": "2022-02-14T17:05:15.122722Z",
     "iopub.status.idle": "2022-02-14T17:05:16.226836Z",
     "shell.execute_reply": "2022-02-14T17:05:16.226311Z"
    }
   },
   "outputs": [],
   "source": [
    "bi_ = convert(BitVector, [zeros(n_ze); ones(n_on)])"
   ]
  },
  {
   "cell_type": "code",
   "execution_count": null,
   "id": "d851562e",
   "metadata": {
    "execution": {
     "iopub.execute_input": "2022-02-14T17:05:16.228826Z",
     "iopub.status.busy": "2022-02-14T17:05:16.228199Z",
     "iopub.status.idle": "2022-02-14T17:05:16.638695Z",
     "shell.execute_reply": "2022-02-14T17:05:16.638213Z"
    }
   },
   "outputs": [],
   "source": [
    "ve = [10^(id - 1) for id in 1:n_co]"
   ]
  },
  {
   "cell_type": "code",
   "execution_count": null,
   "id": "937eb6c7",
   "metadata": {
    "execution": {
     "iopub.execute_input": "2022-02-14T17:05:16.640625Z",
     "iopub.status.busy": "2022-02-14T17:05:16.640038Z",
     "iopub.status.idle": "2022-02-14T17:05:17.048820Z",
     "shell.execute_reply": "2022-02-14T17:05:17.048369Z"
    }
   },
   "outputs": [],
   "source": [
    "ma = convert(Matrix, reshape(1:(n_ro * n_co), (n_ro, n_co)))"
   ]
  },
  {
   "cell_type": "code",
   "execution_count": null,
   "id": "bcccaff6",
   "metadata": {
    "execution": {
     "iopub.execute_input": "2022-02-14T17:05:17.050777Z",
     "iopub.status.busy": "2022-02-14T17:05:17.050152Z",
     "iopub.status.idle": "2022-02-14T17:05:17.744045Z",
     "shell.execute_reply": "2022-02-14T17:05:17.743592Z"
    }
   },
   "outputs": [],
   "source": [
    "OnePiece.feature_by_sample.compare_with_target(bi_, ma, \"signal_to_noise_ratio\")"
   ]
  },
  {
   "cell_type": "markdown",
   "id": "3f396855",
   "metadata": {},
   "source": [
    "---"
   ]
  },
  {
   "cell_type": "code",
   "execution_count": null,
   "id": "b4af2023",
   "metadata": {
    "execution": {
     "iopub.execute_input": "2022-02-14T17:05:17.746065Z",
     "iopub.status.busy": "2022-02-14T17:05:17.745496Z",
     "iopub.status.idle": "2022-02-14T17:05:17.759819Z",
     "shell.execute_reply": "2022-02-14T17:05:17.759306Z"
    }
   },
   "outputs": [],
   "source": [
    "if isdir(TE)\n",
    "\n",
    "    rm(TE, recursive = true)\n",
    "\n",
    "    println(\"Removed \", TE, \".\")\n",
    "\n",
    "end"
   ]
  }
 ],
 "metadata": {
  "kernelspec": {
   "display_name": "Julia 1.7.2",
   "language": "julia",
   "name": "julia-1.7"
  },
  "language_info": {
   "file_extension": ".jl",
   "mimetype": "application/julia",
   "name": "julia",
   "version": "1.7.2"
  }
 },
 "nbformat": 4,
 "nbformat_minor": 5
}
