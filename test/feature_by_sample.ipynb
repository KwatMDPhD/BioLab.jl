{
 "cells": [
  {
   "cell_type": "code",
   "execution_count": null,
   "id": "017464da",
   "metadata": {
    "execution": {
     "iopub.execute_input": "2022-02-13T21:52:16.640374Z",
     "iopub.status.busy": "2022-02-13T21:52:16.283050Z",
     "iopub.status.idle": "2022-02-13T21:52:16.842817Z",
     "shell.execute_reply": "2022-02-13T21:52:16.842324Z"
    }
   },
   "outputs": [],
   "source": [
    "TE = joinpath(tempdir(), \"OnePiece.test\")\n",
    "\n",
    "if isdir(TE)\n",
    "\n",
    "    rm(TE, recursive = true)\n",
    "\n",
    "    println(\"Removed \", TE, \".\")\n",
    "\n",
    "end\n",
    "\n",
    "mkdir(TE)\n",
    "\n",
    "println(\"Made \", TE, \".\")"
   ]
  },
  {
   "cell_type": "code",
   "execution_count": null,
   "id": "34e4701e",
   "metadata": {
    "execution": {
     "iopub.execute_input": "2022-02-13T21:52:16.846014Z",
     "iopub.status.busy": "2022-02-13T21:52:16.844770Z",
     "iopub.status.idle": "2022-02-13T21:52:21.216427Z",
     "shell.execute_reply": "2022-02-13T21:52:21.215982Z"
    }
   },
   "outputs": [],
   "source": [
    "using OnePiece"
   ]
  },
  {
   "cell_type": "markdown",
   "id": "b92a3da9",
   "metadata": {},
   "source": [
    "---"
   ]
  },
  {
   "cell_type": "markdown",
   "id": "79e29c8f",
   "metadata": {},
   "source": [
    "## compare_with_target"
   ]
  },
  {
   "cell_type": "code",
   "execution_count": null,
   "id": "54a16928",
   "metadata": {
    "execution": {
     "iopub.execute_input": "2022-02-13T21:52:21.550711Z",
     "iopub.status.busy": "2022-02-13T21:52:21.217788Z",
     "iopub.status.idle": "2022-02-13T21:52:21.951483Z",
     "shell.execute_reply": "2022-02-13T21:52:21.951094Z"
    }
   },
   "outputs": [],
   "source": [
    "n_ro = 5\n",
    "\n",
    "n_co = 4\n",
    "\n",
    "n_ze = convert(Int64, n_co / 2)\n",
    "\n",
    "n_on = n_co - n_ze"
   ]
  },
  {
   "cell_type": "code",
   "execution_count": null,
   "id": "4debe8bd",
   "metadata": {
    "execution": {
     "iopub.execute_input": "2022-02-13T21:52:21.953342Z",
     "iopub.status.busy": "2022-02-13T21:52:21.952848Z",
     "iopub.status.idle": "2022-02-13T21:52:22.992816Z",
     "shell.execute_reply": "2022-02-13T21:52:22.992350Z"
    }
   },
   "outputs": [],
   "source": [
    "bi_ = convert(BitVector, [zeros(n_ze); ones(n_on)])"
   ]
  },
  {
   "cell_type": "code",
   "execution_count": null,
   "id": "d851562e",
   "metadata": {
    "execution": {
     "iopub.execute_input": "2022-02-13T21:52:22.995047Z",
     "iopub.status.busy": "2022-02-13T21:52:22.994269Z",
     "iopub.status.idle": "2022-02-13T21:52:23.374379Z",
     "shell.execute_reply": "2022-02-13T21:52:23.373967Z"
    }
   },
   "outputs": [],
   "source": [
    "ve = [10^(id - 1) for id in 1:n_co]"
   ]
  },
  {
   "cell_type": "code",
   "execution_count": null,
   "id": "937eb6c7",
   "metadata": {
    "execution": {
     "iopub.execute_input": "2022-02-13T21:52:23.376206Z",
     "iopub.status.busy": "2022-02-13T21:52:23.375711Z",
     "iopub.status.idle": "2022-02-13T21:52:23.746317Z",
     "shell.execute_reply": "2022-02-13T21:52:23.745917Z"
    }
   },
   "outputs": [],
   "source": [
    "ma = convert(Matrix, reshape(1:(n_ro * n_co), (n_ro, n_co)))"
   ]
  },
  {
   "cell_type": "code",
   "execution_count": null,
   "id": "bcccaff6",
   "metadata": {
    "execution": {
     "iopub.execute_input": "2022-02-13T21:52:23.748319Z",
     "iopub.status.busy": "2022-02-13T21:52:23.747799Z",
     "iopub.status.idle": "2022-02-13T21:52:24.374158Z",
     "shell.execute_reply": "2022-02-13T21:52:24.373674Z"
    }
   },
   "outputs": [],
   "source": [
    "OnePiece.feature_by_sample.compare_with_target(bi_, ma, \"signal_to_noise_ratio\")"
   ]
  },
  {
   "cell_type": "markdown",
   "id": "3f396855",
   "metadata": {},
   "source": [
    "---"
   ]
  },
  {
   "cell_type": "code",
   "execution_count": null,
   "id": "b4af2023",
   "metadata": {
    "execution": {
     "iopub.execute_input": "2022-02-13T21:52:24.376016Z",
     "iopub.status.busy": "2022-02-13T21:52:24.375460Z",
     "iopub.status.idle": "2022-02-13T21:52:24.389025Z",
     "shell.execute_reply": "2022-02-13T21:52:24.388651Z"
    }
   },
   "outputs": [],
   "source": [
    "if isdir(TE)\n",
    "\n",
    "    rm(TE, recursive = true)\n",
    "\n",
    "    println(\"Removed \", TE, \".\")\n",
    "\n",
    "end"
   ]
  }
 ],
 "metadata": {
  "kernelspec": {
   "display_name": "Julia 1.7.2",
   "language": "julia",
   "name": "julia-1.7"
  },
  "language_info": {
   "file_extension": ".jl",
   "mimetype": "application/julia",
   "name": "julia",
   "version": "1.7.2"
  }
 },
 "nbformat": 4,
 "nbformat_minor": 5
}
