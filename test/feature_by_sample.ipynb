{
 "cells": [
  {
   "cell_type": "code",
   "execution_count": null,
   "id": "34e4701e",
   "metadata": {
    "execution": {
     "iopub.execute_input": "2022-02-09T02:43:05.075049Z",
     "iopub.status.busy": "2022-02-09T02:43:04.677575Z",
     "iopub.status.idle": "2022-02-09T02:43:06.097733Z",
     "shell.execute_reply": "2022-02-09T02:43:06.097100Z"
    }
   },
   "outputs": [],
   "source": [
    "using Revise\n",
    "using BenchmarkTools"
   ]
  },
  {
   "cell_type": "code",
   "execution_count": null,
   "id": "7ede11b2",
   "metadata": {
    "execution": {
     "iopub.execute_input": "2022-02-09T02:43:06.099700Z",
     "iopub.status.busy": "2022-02-09T02:43:06.099069Z",
     "iopub.status.idle": "2022-02-09T02:43:16.909786Z",
     "shell.execute_reply": "2022-02-09T02:43:16.909241Z"
    }
   },
   "outputs": [],
   "source": [
    "using OnePiece"
   ]
  },
  {
   "cell_type": "markdown",
   "id": "79e29c8f",
   "metadata": {},
   "source": [
    "## compare_with_target"
   ]
  },
  {
   "cell_type": "code",
   "execution_count": null,
   "id": "54a16928",
   "metadata": {
    "execution": {
     "iopub.execute_input": "2022-02-09T02:43:18.597005Z",
     "iopub.status.busy": "2022-02-09T02:43:16.911274Z",
     "iopub.status.idle": "2022-02-09T02:43:19.474446Z",
     "shell.execute_reply": "2022-02-09T02:43:19.473982Z"
    }
   },
   "outputs": [],
   "source": [
    "n_ro = 5\n",
    "\n",
    "n_co = 4\n",
    "\n",
    "n_ze = convert(Int64, n_co / 2)\n",
    "\n",
    "n_on = n_co - n_ze"
   ]
  },
  {
   "cell_type": "code",
   "execution_count": null,
   "id": "4debe8bd",
   "metadata": {
    "execution": {
     "iopub.execute_input": "2022-02-09T02:43:19.476410Z",
     "iopub.status.busy": "2022-02-09T02:43:19.475786Z",
     "iopub.status.idle": "2022-02-09T02:43:20.442306Z",
     "shell.execute_reply": "2022-02-09T02:43:20.441842Z"
    }
   },
   "outputs": [],
   "source": [
    "bi_ = convert(BitVector, [zeros(n_ze); ones(n_on)])"
   ]
  },
  {
   "cell_type": "code",
   "execution_count": null,
   "id": "d851562e",
   "metadata": {
    "execution": {
     "iopub.execute_input": "2022-02-09T02:43:20.444306Z",
     "iopub.status.busy": "2022-02-09T02:43:20.443674Z",
     "iopub.status.idle": "2022-02-09T02:43:20.868861Z",
     "shell.execute_reply": "2022-02-09T02:43:20.868410Z"
    }
   },
   "outputs": [],
   "source": [
    "ve = [10^(id - 1) for id in 1:n_co]"
   ]
  },
  {
   "cell_type": "code",
   "execution_count": null,
   "id": "937eb6c7",
   "metadata": {
    "execution": {
     "iopub.execute_input": "2022-02-09T02:43:20.870795Z",
     "iopub.status.busy": "2022-02-09T02:43:20.870207Z",
     "iopub.status.idle": "2022-02-09T02:43:21.350707Z",
     "shell.execute_reply": "2022-02-09T02:43:21.350254Z"
    }
   },
   "outputs": [],
   "source": [
    "ma = convert(Matrix, reshape(1:(n_ro * n_co), (n_ro, n_co)))"
   ]
  },
  {
   "cell_type": "code",
   "execution_count": null,
   "id": "bcccaff6",
   "metadata": {
    "execution": {
     "iopub.execute_input": "2022-02-09T02:43:21.352589Z",
     "iopub.status.busy": "2022-02-09T02:43:21.352007Z",
     "iopub.status.idle": "2022-02-09T02:43:22.105265Z",
     "shell.execute_reply": "2022-02-09T02:43:22.104724Z"
    }
   },
   "outputs": [],
   "source": [
    "OnePiece.feature_by_sample.compare_with_target(bi_, ma, \"signal_to_noise_ratio\")"
   ]
  }
 ],
 "metadata": {
  "@webio": {
   "lastCommId": null,
   "lastKernelId": null
  },
  "kernelspec": {
   "display_name": "Julia 1.7.1",
   "language": "julia",
   "name": "julia-1.7"
  },
  "language_info": {
   "file_extension": ".jl",
   "mimetype": "application/julia",
   "name": "julia",
   "version": "1.7.2"
  }
 },
 "nbformat": 4,
 "nbformat_minor": 5
}
