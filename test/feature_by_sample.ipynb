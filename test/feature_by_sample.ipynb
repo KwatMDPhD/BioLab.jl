{
 "cells": [
  {
   "cell_type": "code",
   "execution_count": null,
   "id": "017464da",
   "metadata": {
    "execution": {
     "iopub.execute_input": "2022-02-14T15:21:00.004179Z",
     "iopub.status.busy": "2022-02-14T15:20:59.669016Z",
     "iopub.status.idle": "2022-02-14T15:21:00.193668Z",
     "shell.execute_reply": "2022-02-14T15:21:00.193167Z"
    }
   },
   "outputs": [],
   "source": [
    "TE = joinpath(tempdir(), \"OnePiece.test\")\n",
    "\n",
    "if isdir(TE)\n",
    "\n",
    "    rm(TE, recursive = true)\n",
    "\n",
    "    println(\"Removed \", TE, \".\")\n",
    "\n",
    "end\n",
    "\n",
    "mkdir(TE)\n",
    "\n",
    "println(\"Made \", TE, \".\")"
   ]
  },
  {
   "cell_type": "code",
   "execution_count": null,
   "id": "34e4701e",
   "metadata": {
    "execution": {
     "iopub.execute_input": "2022-02-14T15:21:00.195658Z",
     "iopub.status.busy": "2022-02-14T15:21:00.195150Z",
     "iopub.status.idle": "2022-02-14T15:21:04.413739Z",
     "shell.execute_reply": "2022-02-14T15:21:04.413283Z"
    }
   },
   "outputs": [],
   "source": [
    "using OnePiece"
   ]
  },
  {
   "cell_type": "markdown",
   "id": "b92a3da9",
   "metadata": {},
   "source": [
    "---"
   ]
  },
  {
   "cell_type": "markdown",
   "id": "79e29c8f",
   "metadata": {},
   "source": [
    "## compare_with_target"
   ]
  },
  {
   "cell_type": "code",
   "execution_count": null,
   "id": "54a16928",
   "metadata": {
    "execution": {
     "iopub.execute_input": "2022-02-14T15:21:04.734152Z",
     "iopub.status.busy": "2022-02-14T15:21:04.415109Z",
     "iopub.status.idle": "2022-02-14T15:21:05.114208Z",
     "shell.execute_reply": "2022-02-14T15:21:05.113815Z"
    }
   },
   "outputs": [],
   "source": [
    "n_ro = 5\n",
    "\n",
    "n_co = 4\n",
    "\n",
    "n_ze = convert(Int64, n_co / 2)\n",
    "\n",
    "n_on = n_co - n_ze"
   ]
  },
  {
   "cell_type": "code",
   "execution_count": null,
   "id": "4debe8bd",
   "metadata": {
    "execution": {
     "iopub.execute_input": "2022-02-14T15:21:05.116690Z",
     "iopub.status.busy": "2022-02-14T15:21:05.115766Z",
     "iopub.status.idle": "2022-02-14T15:21:06.045590Z",
     "shell.execute_reply": "2022-02-14T15:21:06.045195Z"
    }
   },
   "outputs": [],
   "source": [
    "bi_ = convert(BitVector, [zeros(n_ze); ones(n_on)])"
   ]
  },
  {
   "cell_type": "code",
   "execution_count": null,
   "id": "d851562e",
   "metadata": {
    "execution": {
     "iopub.execute_input": "2022-02-14T15:21:06.047467Z",
     "iopub.status.busy": "2022-02-14T15:21:06.046963Z",
     "iopub.status.idle": "2022-02-14T15:21:06.389442Z",
     "shell.execute_reply": "2022-02-14T15:21:06.389056Z"
    }
   },
   "outputs": [],
   "source": [
    "ve = [10^(id - 1) for id in 1:n_co]"
   ]
  },
  {
   "cell_type": "code",
   "execution_count": null,
   "id": "937eb6c7",
   "metadata": {
    "execution": {
     "iopub.execute_input": "2022-02-14T15:21:06.391321Z",
     "iopub.status.busy": "2022-02-14T15:21:06.390822Z",
     "iopub.status.idle": "2022-02-14T15:21:06.748952Z",
     "shell.execute_reply": "2022-02-14T15:21:06.748566Z"
    }
   },
   "outputs": [],
   "source": [
    "ma = convert(Matrix, reshape(1:(n_ro * n_co), (n_ro, n_co)))"
   ]
  },
  {
   "cell_type": "code",
   "execution_count": null,
   "id": "bcccaff6",
   "metadata": {
    "execution": {
     "iopub.execute_input": "2022-02-14T15:21:06.751476Z",
     "iopub.status.busy": "2022-02-14T15:21:06.750955Z",
     "iopub.status.idle": "2022-02-14T15:21:07.356041Z",
     "shell.execute_reply": "2022-02-14T15:21:07.355654Z"
    }
   },
   "outputs": [],
   "source": [
    "OnePiece.feature_by_sample.compare_with_target(bi_, ma, \"signal_to_noise_ratio\")"
   ]
  },
  {
   "cell_type": "markdown",
   "id": "3f396855",
   "metadata": {},
   "source": [
    "---"
   ]
  },
  {
   "cell_type": "code",
   "execution_count": null,
   "id": "b4af2023",
   "metadata": {
    "execution": {
     "iopub.execute_input": "2022-02-14T15:21:07.358123Z",
     "iopub.status.busy": "2022-02-14T15:21:07.357481Z",
     "iopub.status.idle": "2022-02-14T15:21:07.370343Z",
     "shell.execute_reply": "2022-02-14T15:21:07.369788Z"
    }
   },
   "outputs": [],
   "source": [
    "if isdir(TE)\n",
    "\n",
    "    rm(TE, recursive = true)\n",
    "\n",
    "    println(\"Removed \", TE, \".\")\n",
    "\n",
    "end"
   ]
  }
 ],
 "metadata": {
  "kernelspec": {
   "display_name": "Julia 1.7.2",
   "language": "julia",
   "name": "julia-1.7"
  },
  "language_info": {
   "file_extension": ".jl",
   "mimetype": "application/julia",
   "name": "julia",
   "version": "1.7.2"
  }
 },
 "nbformat": 4,
 "nbformat_minor": 5
}
