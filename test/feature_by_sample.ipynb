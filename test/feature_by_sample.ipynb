{
 "cells": [
  {
   "cell_type": "code",
   "execution_count": null,
   "id": "34e4701e",
   "metadata": {
    "execution": {
     "iopub.execute_input": "2022-02-09T05:38:25.483976Z",
     "iopub.status.busy": "2022-02-09T05:38:25.092364Z",
     "iopub.status.idle": "2022-02-09T05:38:26.462622Z",
     "shell.execute_reply": "2022-02-09T05:38:26.461954Z"
    }
   },
   "outputs": [],
   "source": [
    "using Revise\n",
    "using BenchmarkTools"
   ]
  },
  {
   "cell_type": "code",
   "execution_count": null,
   "id": "7ede11b2",
   "metadata": {
    "execution": {
     "iopub.execute_input": "2022-02-09T05:38:26.464680Z",
     "iopub.status.busy": "2022-02-09T05:38:26.464024Z",
     "iopub.status.idle": "2022-02-09T05:38:37.621376Z",
     "shell.execute_reply": "2022-02-09T05:38:37.620813Z"
    }
   },
   "outputs": [],
   "source": [
    "using OnePiece"
   ]
  },
  {
   "cell_type": "markdown",
   "id": "79e29c8f",
   "metadata": {},
   "source": [
    "## compare_with_target"
   ]
  },
  {
   "cell_type": "code",
   "execution_count": null,
   "id": "54a16928",
   "metadata": {
    "execution": {
     "iopub.execute_input": "2022-02-09T05:38:39.365374Z",
     "iopub.status.busy": "2022-02-09T05:38:37.622902Z",
     "iopub.status.idle": "2022-02-09T05:38:40.275147Z",
     "shell.execute_reply": "2022-02-09T05:38:40.274593Z"
    }
   },
   "outputs": [],
   "source": [
    "n_ro = 5\n",
    "\n",
    "n_co = 4\n",
    "\n",
    "n_ze = convert(Int64, n_co / 2)\n",
    "\n",
    "n_on = n_co - n_ze"
   ]
  },
  {
   "cell_type": "code",
   "execution_count": null,
   "id": "4debe8bd",
   "metadata": {
    "execution": {
     "iopub.execute_input": "2022-02-09T05:38:40.277071Z",
     "iopub.status.busy": "2022-02-09T05:38:40.276486Z",
     "iopub.status.idle": "2022-02-09T05:38:41.287101Z",
     "shell.execute_reply": "2022-02-09T05:38:41.286631Z"
    }
   },
   "outputs": [],
   "source": [
    "bi_ = convert(BitVector, [zeros(n_ze); ones(n_on)])"
   ]
  },
  {
   "cell_type": "code",
   "execution_count": null,
   "id": "d851562e",
   "metadata": {
    "execution": {
     "iopub.execute_input": "2022-02-09T05:38:41.289050Z",
     "iopub.status.busy": "2022-02-09T05:38:41.288446Z",
     "iopub.status.idle": "2022-02-09T05:38:41.720905Z",
     "shell.execute_reply": "2022-02-09T05:38:41.720439Z"
    }
   },
   "outputs": [],
   "source": [
    "ve = [10^(id - 1) for id in 1:n_co]"
   ]
  },
  {
   "cell_type": "code",
   "execution_count": null,
   "id": "937eb6c7",
   "metadata": {
    "execution": {
     "iopub.execute_input": "2022-02-09T05:38:41.723020Z",
     "iopub.status.busy": "2022-02-09T05:38:41.722344Z",
     "iopub.status.idle": "2022-02-09T05:38:42.245981Z",
     "shell.execute_reply": "2022-02-09T05:38:42.245519Z"
    }
   },
   "outputs": [],
   "source": [
    "ma = convert(Matrix, reshape(1:(n_ro * n_co), (n_ro, n_co)))"
   ]
  },
  {
   "cell_type": "code",
   "execution_count": null,
   "id": "bcccaff6",
   "metadata": {
    "execution": {
     "iopub.execute_input": "2022-02-09T05:38:42.247824Z",
     "iopub.status.busy": "2022-02-09T05:38:42.247237Z",
     "iopub.status.idle": "2022-02-09T05:38:43.090417Z",
     "shell.execute_reply": "2022-02-09T05:38:43.089908Z"
    }
   },
   "outputs": [],
   "source": [
    "OnePiece.feature_by_sample.compare_with_target(bi_, ma, \"signal_to_noise_ratio\")"
   ]
  }
 ],
 "metadata": {
  "@webio": {
   "lastCommId": null,
   "lastKernelId": null
  },
  "kernelspec": {
   "display_name": "Julia 1.7.1",
   "language": "julia",
   "name": "julia-1.7"
  },
  "language_info": {
   "file_extension": ".jl",
   "mimetype": "application/julia",
   "name": "julia",
   "version": "1.7.2"
  }
 },
 "nbformat": 4,
 "nbformat_minor": 5
}
