{
 "cells": [
  {
   "cell_type": "code",
   "execution_count": null,
   "id": "34e4701e",
   "metadata": {
    "execution": {
     "iopub.execute_input": "2022-02-08T03:22:20.196363Z",
     "iopub.status.busy": "2022-02-08T03:22:19.782724Z",
     "iopub.status.idle": "2022-02-08T03:22:20.995994Z",
     "shell.execute_reply": "2022-02-08T03:22:20.995500Z"
    }
   },
   "outputs": [],
   "source": [
    "using Revise\n",
    "using BenchmarkTools"
   ]
  },
  {
   "cell_type": "code",
   "execution_count": null,
   "id": "7ede11b2",
   "metadata": {
    "execution": {
     "iopub.execute_input": "2022-02-08T03:22:20.997965Z",
     "iopub.status.busy": "2022-02-08T03:22:20.997314Z",
     "iopub.status.idle": "2022-02-08T03:22:32.489872Z",
     "shell.execute_reply": "2022-02-08T03:22:32.489309Z"
    }
   },
   "outputs": [],
   "source": [
    "using OnePiece"
   ]
  },
  {
   "cell_type": "markdown",
   "id": "79e29c8f",
   "metadata": {},
   "source": [
    "## compare_with_target"
   ]
  },
  {
   "cell_type": "code",
   "execution_count": null,
   "id": "54a16928",
   "metadata": {
    "execution": {
     "iopub.execute_input": "2022-02-08T03:22:34.104020Z",
     "iopub.status.busy": "2022-02-08T03:22:32.491226Z",
     "iopub.status.idle": "2022-02-08T03:22:34.963539Z",
     "shell.execute_reply": "2022-02-08T03:22:34.963156Z"
    }
   },
   "outputs": [],
   "source": [
    "n_ro = 5\n",
    "\n",
    "n_co = 4\n",
    "\n",
    "n_ze = convert(Int64, n_co / 2)\n",
    "\n",
    "n_on = n_co - n_ze"
   ]
  },
  {
   "cell_type": "code",
   "execution_count": null,
   "id": "4debe8bd",
   "metadata": {
    "execution": {
     "iopub.execute_input": "2022-02-08T03:22:34.965368Z",
     "iopub.status.busy": "2022-02-08T03:22:34.964875Z",
     "iopub.status.idle": "2022-02-08T03:22:36.050356Z",
     "shell.execute_reply": "2022-02-08T03:22:36.049951Z"
    }
   },
   "outputs": [],
   "source": [
    "bi_ = convert(BitVector, [zeros(n_ze); ones(n_on)])"
   ]
  },
  {
   "cell_type": "code",
   "execution_count": null,
   "id": "d851562e",
   "metadata": {
    "execution": {
     "iopub.execute_input": "2022-02-08T03:22:36.052099Z",
     "iopub.status.busy": "2022-02-08T03:22:36.051560Z",
     "iopub.status.idle": "2022-02-08T03:22:36.550373Z",
     "shell.execute_reply": "2022-02-08T03:22:36.549915Z"
    }
   },
   "outputs": [],
   "source": [
    "ve = [10^(id - 1) for id in 1:n_co]"
   ]
  },
  {
   "cell_type": "code",
   "execution_count": null,
   "id": "937eb6c7",
   "metadata": {
    "execution": {
     "iopub.execute_input": "2022-02-08T03:22:36.552526Z",
     "iopub.status.busy": "2022-02-08T03:22:36.551950Z",
     "iopub.status.idle": "2022-02-08T03:22:36.950604Z",
     "shell.execute_reply": "2022-02-08T03:22:36.950215Z"
    }
   },
   "outputs": [],
   "source": [
    "ma = convert(Matrix, reshape(1:(n_ro * n_co), (n_ro, n_co)))"
   ]
  },
  {
   "cell_type": "code",
   "execution_count": null,
   "id": "bcccaff6",
   "metadata": {
    "execution": {
     "iopub.execute_input": "2022-02-08T03:22:36.952299Z",
     "iopub.status.busy": "2022-02-08T03:22:36.951763Z",
     "iopub.status.idle": "2022-02-08T03:22:37.230873Z",
     "shell.execute_reply": "2022-02-08T03:22:37.230491Z"
    }
   },
   "outputs": [],
   "source": [
    "OnePiece.feature_by_sample.compare_with_target(bi_, ma, \"signal_to_noise_ratio\")"
   ]
  }
 ],
 "metadata": {
  "@webio": {
   "lastCommId": null,
   "lastKernelId": null
  },
  "kernelspec": {
   "display_name": "Julia 1.7.1",
   "language": "julia",
   "name": "julia-1.7"
  },
  "language_info": {
   "file_extension": ".jl",
   "mimetype": "application/julia",
   "name": "julia",
   "version": "1.7.1"
  }
 },
 "nbformat": 4,
 "nbformat_minor": 5
}
