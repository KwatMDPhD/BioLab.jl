{
 "cells": [
  {
   "cell_type": "code",
   "execution_count": null,
   "id": "017464da",
   "metadata": {},
   "outputs": [],
   "source": [
    "TE = joinpath(tempdir(), \"OnePiece.test\")\n",
    "\n",
    "if isdir(TE)\n",
    "\n",
    "    rm(TE, recursive = true)\n",
    "\n",
    "    println(\"Removed \", TE, \".\")\n",
    "\n",
    "end\n",
    "\n",
    "mkdir(TE)\n",
    "\n",
    "println(\"Made \", TE, \".\")"
   ]
  },
  {
   "cell_type": "code",
   "execution_count": null,
   "id": "34e4701e",
   "metadata": {
    "execution": {
     "iopub.execute_input": "2022-02-10T17:51:23.590384Z",
     "iopub.status.busy": "2022-02-10T17:51:23.250154Z",
     "iopub.status.idle": "2022-02-10T17:51:24.482021Z",
     "shell.execute_reply": "2022-02-10T17:51:24.481306Z"
    }
   },
   "outputs": [],
   "source": [
    "using OnePiece"
   ]
  },
  {
   "cell_type": "markdown",
   "id": "b92a3da9",
   "metadata": {},
   "source": [
    "---"
   ]
  },
  {
   "cell_type": "markdown",
   "id": "79e29c8f",
   "metadata": {},
   "source": [
    "## compare_with_target"
   ]
  },
  {
   "cell_type": "code",
   "execution_count": null,
   "id": "54a16928",
   "metadata": {
    "execution": {
     "iopub.execute_input": "2022-02-11T17:44:56.098143Z",
     "iopub.status.busy": "2022-02-11T17:44:55.763997Z",
     "iopub.status.idle": "2022-02-11T17:44:56.490969Z",
     "shell.execute_reply": "2022-02-11T17:44:56.490574Z"
    }
   },
   "outputs": [],
   "source": [
    "n_ro = 5\n",
    "\n",
    "n_co = 4\n",
    "\n",
    "n_ze = convert(Int64, n_co / 2)\n",
    "\n",
    "n_on = n_co - n_ze"
   ]
  },
  {
   "cell_type": "code",
   "execution_count": null,
   "id": "4debe8bd",
   "metadata": {
    "execution": {
     "iopub.execute_input": "2022-02-11T17:44:56.492961Z",
     "iopub.status.busy": "2022-02-11T17:44:56.492459Z",
     "iopub.status.idle": "2022-02-11T17:44:57.500723Z",
     "shell.execute_reply": "2022-02-11T17:44:57.500179Z"
    }
   },
   "outputs": [],
   "source": [
    "bi_ = convert(BitVector, [zeros(n_ze); ones(n_on)])"
   ]
  },
  {
   "cell_type": "code",
   "execution_count": null,
   "id": "d851562e",
   "metadata": {
    "execution": {
     "iopub.execute_input": "2022-02-11T17:44:57.502815Z",
     "iopub.status.busy": "2022-02-11T17:44:57.502262Z",
     "iopub.status.idle": "2022-02-11T17:44:57.858563Z",
     "shell.execute_reply": "2022-02-11T17:44:57.858056Z"
    }
   },
   "outputs": [],
   "source": [
    "ve = [10^(id - 1) for id in 1:n_co]"
   ]
  },
  {
   "cell_type": "code",
   "execution_count": null,
   "id": "937eb6c7",
   "metadata": {
    "execution": {
     "iopub.execute_input": "2022-02-11T17:44:57.860623Z",
     "iopub.status.busy": "2022-02-11T17:44:57.859941Z",
     "iopub.status.idle": "2022-02-11T17:44:58.229235Z",
     "shell.execute_reply": "2022-02-11T17:44:58.228848Z"
    }
   },
   "outputs": [],
   "source": [
    "ma = convert(Matrix, reshape(1:(n_ro * n_co), (n_ro, n_co)))"
   ]
  },
  {
   "cell_type": "code",
   "execution_count": null,
   "id": "bcccaff6",
   "metadata": {
    "execution": {
     "iopub.execute_input": "2022-02-11T17:44:58.231261Z",
     "iopub.status.busy": "2022-02-11T17:44:58.230713Z",
     "iopub.status.idle": "2022-02-11T17:44:58.858944Z",
     "shell.execute_reply": "2022-02-11T17:44:58.858553Z"
    }
   },
   "outputs": [],
   "source": [
    "OnePiece.feature_by_sample.compare_with_target(bi_, ma, \"signal_to_noise_ratio\")"
   ]
  },
  {
   "cell_type": "markdown",
   "id": "3f396855",
   "metadata": {},
   "source": [
    "---"
   ]
  },
  {
   "cell_type": "code",
   "execution_count": null,
   "id": "b4af2023",
   "metadata": {},
   "outputs": [],
   "source": [
    "if isdir(TE)\n",
    "\n",
    "    rm(TE, recursive = true)\n",
    "\n",
    "    println(\"Removed \", TE, \".\")\n",
    "\n",
    "end"
   ]
  }
 ],
 "metadata": {
  "kernelspec": {
   "display_name": "Julia 1.7.2",
   "language": "julia",
   "name": "julia-1.7"
  },
  "language_info": {
   "file_extension": ".jl",
   "mimetype": "application/julia",
   "name": "julia",
   "version": "1.7.2"
  }
 },
 "nbformat": 4,
 "nbformat_minor": 5
}
