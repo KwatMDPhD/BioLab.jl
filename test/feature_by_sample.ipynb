{
 "cells": [
  {
   "cell_type": "code",
   "execution_count": null,
   "id": "017464da",
   "metadata": {
    "execution": {
     "iopub.execute_input": "2022-02-14T16:15:46.431868Z",
     "iopub.status.busy": "2022-02-14T16:15:46.050112Z",
     "iopub.status.idle": "2022-02-14T16:15:46.643417Z",
     "shell.execute_reply": "2022-02-14T16:15:46.642848Z"
    }
   },
   "outputs": [],
   "source": [
    "TE = joinpath(tempdir(), \"OnePiece.test\")\n",
    "\n",
    "if isdir(TE)\n",
    "\n",
    "    rm(TE, recursive = true)\n",
    "\n",
    "    println(\"Removed \", TE, \".\")\n",
    "\n",
    "end\n",
    "\n",
    "mkdir(TE)\n",
    "\n",
    "println(\"Made \", TE, \".\")"
   ]
  },
  {
   "cell_type": "code",
   "execution_count": null,
   "id": "34e4701e",
   "metadata": {
    "execution": {
     "iopub.execute_input": "2022-02-14T16:15:46.645461Z",
     "iopub.status.busy": "2022-02-14T16:15:46.644863Z",
     "iopub.status.idle": "2022-02-14T16:15:51.066338Z",
     "shell.execute_reply": "2022-02-14T16:15:51.065888Z"
    }
   },
   "outputs": [],
   "source": [
    "using OnePiece"
   ]
  },
  {
   "cell_type": "markdown",
   "id": "b92a3da9",
   "metadata": {},
   "source": [
    "---"
   ]
  },
  {
   "cell_type": "markdown",
   "id": "79e29c8f",
   "metadata": {},
   "source": [
    "## compare_with_target"
   ]
  },
  {
   "cell_type": "code",
   "execution_count": null,
   "id": "54a16928",
   "metadata": {
    "execution": {
     "iopub.execute_input": "2022-02-14T16:15:51.380937Z",
     "iopub.status.busy": "2022-02-14T16:15:51.067750Z",
     "iopub.status.idle": "2022-02-14T16:15:51.797567Z",
     "shell.execute_reply": "2022-02-14T16:15:51.797168Z"
    }
   },
   "outputs": [],
   "source": [
    "n_ro = 5\n",
    "\n",
    "n_co = 4\n",
    "\n",
    "n_ze = convert(Int64, n_co / 2)\n",
    "\n",
    "n_on = n_co - n_ze"
   ]
  },
  {
   "cell_type": "code",
   "execution_count": null,
   "id": "4debe8bd",
   "metadata": {
    "execution": {
     "iopub.execute_input": "2022-02-14T16:15:51.799762Z",
     "iopub.status.busy": "2022-02-14T16:15:51.799262Z",
     "iopub.status.idle": "2022-02-14T16:15:52.852845Z",
     "shell.execute_reply": "2022-02-14T16:15:52.852365Z"
    }
   },
   "outputs": [],
   "source": [
    "bi_ = convert(BitVector, [zeros(n_ze); ones(n_on)])"
   ]
  },
  {
   "cell_type": "code",
   "execution_count": null,
   "id": "d851562e",
   "metadata": {
    "execution": {
     "iopub.execute_input": "2022-02-14T16:15:52.854733Z",
     "iopub.status.busy": "2022-02-14T16:15:52.854155Z",
     "iopub.status.idle": "2022-02-14T16:15:53.246642Z",
     "shell.execute_reply": "2022-02-14T16:15:53.246167Z"
    }
   },
   "outputs": [],
   "source": [
    "ve = [10^(id - 1) for id in 1:n_co]"
   ]
  },
  {
   "cell_type": "code",
   "execution_count": null,
   "id": "937eb6c7",
   "metadata": {
    "execution": {
     "iopub.execute_input": "2022-02-14T16:15:53.248515Z",
     "iopub.status.busy": "2022-02-14T16:15:53.247929Z",
     "iopub.status.idle": "2022-02-14T16:15:53.636702Z",
     "shell.execute_reply": "2022-02-14T16:15:53.636307Z"
    }
   },
   "outputs": [],
   "source": [
    "ma = convert(Matrix, reshape(1:(n_ro * n_co), (n_ro, n_co)))"
   ]
  },
  {
   "cell_type": "code",
   "execution_count": null,
   "id": "bcccaff6",
   "metadata": {
    "execution": {
     "iopub.execute_input": "2022-02-14T16:15:53.638606Z",
     "iopub.status.busy": "2022-02-14T16:15:53.638115Z",
     "iopub.status.idle": "2022-02-14T16:15:54.255334Z",
     "shell.execute_reply": "2022-02-14T16:15:54.254870Z"
    }
   },
   "outputs": [],
   "source": [
    "OnePiece.feature_by_sample.compare_with_target(bi_, ma, \"signal_to_noise_ratio\")"
   ]
  },
  {
   "cell_type": "markdown",
   "id": "3f396855",
   "metadata": {},
   "source": [
    "---"
   ]
  },
  {
   "cell_type": "code",
   "execution_count": null,
   "id": "b4af2023",
   "metadata": {
    "execution": {
     "iopub.execute_input": "2022-02-14T16:15:54.257333Z",
     "iopub.status.busy": "2022-02-14T16:15:54.256751Z",
     "iopub.status.idle": "2022-02-14T16:15:54.271846Z",
     "shell.execute_reply": "2022-02-14T16:15:54.271317Z"
    }
   },
   "outputs": [],
   "source": [
    "if isdir(TE)\n",
    "\n",
    "    rm(TE, recursive = true)\n",
    "\n",
    "    println(\"Removed \", TE, \".\")\n",
    "\n",
    "end"
   ]
  }
 ],
 "metadata": {
  "kernelspec": {
   "display_name": "Julia 1.7.2",
   "language": "julia",
   "name": "julia-1.7"
  },
  "language_info": {
   "file_extension": ".jl",
   "mimetype": "application/julia",
   "name": "julia",
   "version": "1.7.2"
  }
 },
 "nbformat": 4,
 "nbformat_minor": 5
}
