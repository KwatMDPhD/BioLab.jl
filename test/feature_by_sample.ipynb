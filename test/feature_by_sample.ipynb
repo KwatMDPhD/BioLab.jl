{
 "cells": [
  {
   "cell_type": "code",
   "execution_count": null,
   "id": "017464da",
   "metadata": {
    "execution": {
     "iopub.execute_input": "2022-02-13T22:59:54.248309Z",
     "iopub.status.busy": "2022-02-13T22:59:53.917100Z",
     "iopub.status.idle": "2022-02-13T22:59:54.431731Z",
     "shell.execute_reply": "2022-02-13T22:59:54.431102Z"
    }
   },
   "outputs": [],
   "source": [
    "TE = joinpath(tempdir(), \"OnePiece.test\")\n",
    "\n",
    "if isdir(TE)\n",
    "\n",
    "    rm(TE, recursive = true)\n",
    "\n",
    "    println(\"Removed \", TE, \".\")\n",
    "\n",
    "end\n",
    "\n",
    "mkdir(TE)\n",
    "\n",
    "println(\"Made \", TE, \".\")"
   ]
  },
  {
   "cell_type": "code",
   "execution_count": null,
   "id": "34e4701e",
   "metadata": {
    "execution": {
     "iopub.execute_input": "2022-02-13T22:59:54.433667Z",
     "iopub.status.busy": "2022-02-13T22:59:54.433172Z",
     "iopub.status.idle": "2022-02-13T22:59:58.351018Z",
     "shell.execute_reply": "2022-02-13T22:59:58.350566Z"
    }
   },
   "outputs": [],
   "source": [
    "using OnePiece"
   ]
  },
  {
   "cell_type": "markdown",
   "id": "b92a3da9",
   "metadata": {},
   "source": [
    "---"
   ]
  },
  {
   "cell_type": "markdown",
   "id": "79e29c8f",
   "metadata": {},
   "source": [
    "## compare_with_target"
   ]
  },
  {
   "cell_type": "code",
   "execution_count": null,
   "id": "54a16928",
   "metadata": {
    "execution": {
     "iopub.execute_input": "2022-02-13T22:59:58.643942Z",
     "iopub.status.busy": "2022-02-13T22:59:58.352489Z",
     "iopub.status.idle": "2022-02-13T22:59:59.008811Z",
     "shell.execute_reply": "2022-02-13T22:59:59.008265Z"
    }
   },
   "outputs": [],
   "source": [
    "n_ro = 5\n",
    "\n",
    "n_co = 4\n",
    "\n",
    "n_ze = convert(Int64, n_co / 2)\n",
    "\n",
    "n_on = n_co - n_ze"
   ]
  },
  {
   "cell_type": "code",
   "execution_count": null,
   "id": "4debe8bd",
   "metadata": {
    "execution": {
     "iopub.execute_input": "2022-02-13T22:59:59.010802Z",
     "iopub.status.busy": "2022-02-13T22:59:59.010295Z",
     "iopub.status.idle": "2022-02-13T22:59:59.927941Z",
     "shell.execute_reply": "2022-02-13T22:59:59.927539Z"
    }
   },
   "outputs": [],
   "source": [
    "bi_ = convert(BitVector, [zeros(n_ze); ones(n_on)])"
   ]
  },
  {
   "cell_type": "code",
   "execution_count": null,
   "id": "d851562e",
   "metadata": {
    "execution": {
     "iopub.execute_input": "2022-02-13T22:59:59.929804Z",
     "iopub.status.busy": "2022-02-13T22:59:59.929306Z",
     "iopub.status.idle": "2022-02-13T23:00:00.277293Z",
     "shell.execute_reply": "2022-02-13T23:00:00.276837Z"
    }
   },
   "outputs": [],
   "source": [
    "ve = [10^(id - 1) for id in 1:n_co]"
   ]
  },
  {
   "cell_type": "code",
   "execution_count": null,
   "id": "937eb6c7",
   "metadata": {
    "execution": {
     "iopub.execute_input": "2022-02-13T23:00:00.279232Z",
     "iopub.status.busy": "2022-02-13T23:00:00.278650Z",
     "iopub.status.idle": "2022-02-13T23:00:00.614097Z",
     "shell.execute_reply": "2022-02-13T23:00:00.613616Z"
    }
   },
   "outputs": [],
   "source": [
    "ma = convert(Matrix, reshape(1:(n_ro * n_co), (n_ro, n_co)))"
   ]
  },
  {
   "cell_type": "code",
   "execution_count": null,
   "id": "bcccaff6",
   "metadata": {
    "execution": {
     "iopub.execute_input": "2022-02-13T23:00:00.616014Z",
     "iopub.status.busy": "2022-02-13T23:00:00.615534Z",
     "iopub.status.idle": "2022-02-13T23:00:01.189922Z",
     "shell.execute_reply": "2022-02-13T23:00:01.189466Z"
    }
   },
   "outputs": [],
   "source": [
    "OnePiece.feature_by_sample.compare_with_target(bi_, ma, \"signal_to_noise_ratio\")"
   ]
  },
  {
   "cell_type": "markdown",
   "id": "3f396855",
   "metadata": {},
   "source": [
    "---"
   ]
  },
  {
   "cell_type": "code",
   "execution_count": null,
   "id": "b4af2023",
   "metadata": {
    "execution": {
     "iopub.execute_input": "2022-02-13T23:00:01.192135Z",
     "iopub.status.busy": "2022-02-13T23:00:01.191501Z",
     "iopub.status.idle": "2022-02-13T23:00:01.204138Z",
     "shell.execute_reply": "2022-02-13T23:00:01.203613Z"
    }
   },
   "outputs": [],
   "source": [
    "if isdir(TE)\n",
    "\n",
    "    rm(TE, recursive = true)\n",
    "\n",
    "    println(\"Removed \", TE, \".\")\n",
    "\n",
    "end"
   ]
  }
 ],
 "metadata": {
  "kernelspec": {
   "display_name": "Julia 1.7.2",
   "language": "julia",
   "name": "julia-1.7"
  },
  "language_info": {
   "file_extension": ".jl",
   "mimetype": "application/julia",
   "name": "julia",
   "version": "1.7.2"
  }
 },
 "nbformat": 4,
 "nbformat_minor": 5
}
