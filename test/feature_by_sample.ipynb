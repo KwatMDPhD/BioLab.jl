{
 "cells": [
  {
   "cell_type": "code",
   "execution_count": null,
   "id": "017464da",
   "metadata": {
    "execution": {
     "iopub.execute_input": "2022-02-13T05:22:38.649466Z",
     "iopub.status.busy": "2022-02-13T05:22:38.268674Z",
     "iopub.status.idle": "2022-02-13T05:22:38.860280Z",
     "shell.execute_reply": "2022-02-13T05:22:38.859693Z"
    }
   },
   "outputs": [],
   "source": [
    "TE = joinpath(tempdir(), \"OnePiece.test\")\n",
    "\n",
    "if isdir(TE)\n",
    "\n",
    "    rm(TE, recursive = true)\n",
    "\n",
    "    println(\"Removed \", TE, \".\")\n",
    "\n",
    "end\n",
    "\n",
    "mkdir(TE)\n",
    "\n",
    "println(\"Made \", TE, \".\")"
   ]
  },
  {
   "cell_type": "code",
   "execution_count": null,
   "id": "34e4701e",
   "metadata": {
    "execution": {
     "iopub.execute_input": "2022-02-13T05:22:38.862165Z",
     "iopub.status.busy": "2022-02-13T05:22:38.861590Z",
     "iopub.status.idle": "2022-02-13T05:22:43.155823Z",
     "shell.execute_reply": "2022-02-13T05:22:43.155373Z"
    }
   },
   "outputs": [],
   "source": [
    "using OnePiece"
   ]
  },
  {
   "cell_type": "markdown",
   "id": "b92a3da9",
   "metadata": {},
   "source": [
    "---"
   ]
  },
  {
   "cell_type": "markdown",
   "id": "79e29c8f",
   "metadata": {},
   "source": [
    "## compare_with_target"
   ]
  },
  {
   "cell_type": "code",
   "execution_count": null,
   "id": "54a16928",
   "metadata": {
    "execution": {
     "iopub.execute_input": "2022-02-13T05:22:43.457820Z",
     "iopub.status.busy": "2022-02-13T05:22:43.157137Z",
     "iopub.status.idle": "2022-02-13T05:22:43.820136Z",
     "shell.execute_reply": "2022-02-13T05:22:43.819731Z"
    }
   },
   "outputs": [],
   "source": [
    "n_ro = 5\n",
    "\n",
    "n_co = 4\n",
    "\n",
    "n_ze = convert(Int64, n_co / 2)\n",
    "\n",
    "n_on = n_co - n_ze"
   ]
  },
  {
   "cell_type": "code",
   "execution_count": null,
   "id": "4debe8bd",
   "metadata": {
    "execution": {
     "iopub.execute_input": "2022-02-13T05:22:43.821986Z",
     "iopub.status.busy": "2022-02-13T05:22:43.821486Z",
     "iopub.status.idle": "2022-02-13T05:22:44.725467Z",
     "shell.execute_reply": "2022-02-13T05:22:44.725071Z"
    }
   },
   "outputs": [],
   "source": [
    "bi_ = convert(BitVector, [zeros(n_ze); ones(n_on)])"
   ]
  },
  {
   "cell_type": "code",
   "execution_count": null,
   "id": "d851562e",
   "metadata": {
    "execution": {
     "iopub.execute_input": "2022-02-13T05:22:44.727679Z",
     "iopub.status.busy": "2022-02-13T05:22:44.727055Z",
     "iopub.status.idle": "2022-02-13T05:22:45.075595Z",
     "shell.execute_reply": "2022-02-13T05:22:45.075200Z"
    }
   },
   "outputs": [],
   "source": [
    "ve = [10^(id - 1) for id in 1:n_co]"
   ]
  },
  {
   "cell_type": "code",
   "execution_count": null,
   "id": "937eb6c7",
   "metadata": {
    "execution": {
     "iopub.execute_input": "2022-02-13T05:22:45.077446Z",
     "iopub.status.busy": "2022-02-13T05:22:45.076950Z",
     "iopub.status.idle": "2022-02-13T05:22:45.412480Z",
     "shell.execute_reply": "2022-02-13T05:22:45.412090Z"
    }
   },
   "outputs": [],
   "source": [
    "ma = convert(Matrix, reshape(1:(n_ro * n_co), (n_ro, n_co)))"
   ]
  },
  {
   "cell_type": "code",
   "execution_count": null,
   "id": "bcccaff6",
   "metadata": {
    "execution": {
     "iopub.execute_input": "2022-02-13T05:22:45.414316Z",
     "iopub.status.busy": "2022-02-13T05:22:45.413817Z",
     "iopub.status.idle": "2022-02-13T05:22:45.970808Z",
     "shell.execute_reply": "2022-02-13T05:22:45.970121Z"
    }
   },
   "outputs": [],
   "source": [
    "OnePiece.feature_by_sample.compare_with_target(bi_, ma, \"signal_to_noise_ratio\")"
   ]
  },
  {
   "cell_type": "markdown",
   "id": "3f396855",
   "metadata": {},
   "source": [
    "---"
   ]
  },
  {
   "cell_type": "code",
   "execution_count": null,
   "id": "b4af2023",
   "metadata": {
    "execution": {
     "iopub.execute_input": "2022-02-13T05:22:45.973333Z",
     "iopub.status.busy": "2022-02-13T05:22:45.972641Z",
     "iopub.status.idle": "2022-02-13T05:22:45.984938Z",
     "shell.execute_reply": "2022-02-13T05:22:45.984493Z"
    }
   },
   "outputs": [],
   "source": [
    "if isdir(TE)\n",
    "\n",
    "    rm(TE, recursive = true)\n",
    "\n",
    "    println(\"Removed \", TE, \".\")\n",
    "\n",
    "end"
   ]
  }
 ],
 "metadata": {
  "kernelspec": {
   "display_name": "Julia 1.7.2",
   "language": "julia",
   "name": "julia-1.7"
  },
  "language_info": {
   "file_extension": ".jl",
   "mimetype": "application/julia",
   "name": "julia",
   "version": "1.7.2"
  }
 },
 "nbformat": 4,
 "nbformat_minor": 5
}
