{
 "cells": [
  {
   "cell_type": "code",
   "execution_count": null,
   "id": "017464da",
   "metadata": {
    "execution": {
     "iopub.execute_input": "2022-02-14T02:56:46.124618Z",
     "iopub.status.busy": "2022-02-14T02:56:45.672783Z",
     "iopub.status.idle": "2022-02-14T02:56:46.376494Z",
     "shell.execute_reply": "2022-02-14T02:56:46.375603Z"
    }
   },
   "outputs": [],
   "source": [
    "TE = joinpath(tempdir(), \"OnePiece.test\")\n",
    "\n",
    "if isdir(TE)\n",
    "\n",
    "    rm(TE, recursive = true)\n",
    "\n",
    "    println(\"Removed \", TE, \".\")\n",
    "\n",
    "end\n",
    "\n",
    "mkdir(TE)\n",
    "\n",
    "println(\"Made \", TE, \".\")"
   ]
  },
  {
   "cell_type": "code",
   "execution_count": null,
   "id": "34e4701e",
   "metadata": {
    "execution": {
     "iopub.execute_input": "2022-02-14T02:56:46.378764Z",
     "iopub.status.busy": "2022-02-14T02:56:46.378052Z",
     "iopub.status.idle": "2022-02-14T02:56:51.887057Z",
     "shell.execute_reply": "2022-02-14T02:56:51.886476Z"
    }
   },
   "outputs": [],
   "source": [
    "using OnePiece"
   ]
  },
  {
   "cell_type": "markdown",
   "id": "b92a3da9",
   "metadata": {},
   "source": [
    "---"
   ]
  },
  {
   "cell_type": "markdown",
   "id": "79e29c8f",
   "metadata": {},
   "source": [
    "## compare_with_target"
   ]
  },
  {
   "cell_type": "code",
   "execution_count": null,
   "id": "54a16928",
   "metadata": {
    "execution": {
     "iopub.execute_input": "2022-02-14T02:56:52.303842Z",
     "iopub.status.busy": "2022-02-14T02:56:51.888734Z",
     "iopub.status.idle": "2022-02-14T02:56:52.822883Z",
     "shell.execute_reply": "2022-02-14T02:56:52.822349Z"
    }
   },
   "outputs": [],
   "source": [
    "n_ro = 5\n",
    "\n",
    "n_co = 4\n",
    "\n",
    "n_ze = convert(Int64, n_co / 2)\n",
    "\n",
    "n_on = n_co - n_ze"
   ]
  },
  {
   "cell_type": "code",
   "execution_count": null,
   "id": "4debe8bd",
   "metadata": {
    "execution": {
     "iopub.execute_input": "2022-02-14T02:56:52.825285Z",
     "iopub.status.busy": "2022-02-14T02:56:52.824521Z",
     "iopub.status.idle": "2022-02-14T02:56:54.138403Z",
     "shell.execute_reply": "2022-02-14T02:56:54.137802Z"
    }
   },
   "outputs": [],
   "source": [
    "bi_ = convert(BitVector, [zeros(n_ze); ones(n_on)])"
   ]
  },
  {
   "cell_type": "code",
   "execution_count": null,
   "id": "d851562e",
   "metadata": {
    "execution": {
     "iopub.execute_input": "2022-02-14T02:56:54.140669Z",
     "iopub.status.busy": "2022-02-14T02:56:54.140007Z",
     "iopub.status.idle": "2022-02-14T02:56:54.619451Z",
     "shell.execute_reply": "2022-02-14T02:56:54.618922Z"
    }
   },
   "outputs": [],
   "source": [
    "ve = [10^(id - 1) for id in 1:n_co]"
   ]
  },
  {
   "cell_type": "code",
   "execution_count": null,
   "id": "937eb6c7",
   "metadata": {
    "execution": {
     "iopub.execute_input": "2022-02-14T02:56:54.621721Z",
     "iopub.status.busy": "2022-02-14T02:56:54.620992Z",
     "iopub.status.idle": "2022-02-14T02:56:55.081044Z",
     "shell.execute_reply": "2022-02-14T02:56:55.080521Z"
    }
   },
   "outputs": [],
   "source": [
    "ma = convert(Matrix, reshape(1:(n_ro * n_co), (n_ro, n_co)))"
   ]
  },
  {
   "cell_type": "code",
   "execution_count": null,
   "id": "bcccaff6",
   "metadata": {
    "execution": {
     "iopub.execute_input": "2022-02-14T02:56:55.083288Z",
     "iopub.status.busy": "2022-02-14T02:56:55.082638Z",
     "iopub.status.idle": "2022-02-14T02:56:55.857918Z",
     "shell.execute_reply": "2022-02-14T02:56:55.857404Z"
    }
   },
   "outputs": [],
   "source": [
    "OnePiece.feature_by_sample.compare_with_target(bi_, ma, \"signal_to_noise_ratio\")"
   ]
  },
  {
   "cell_type": "markdown",
   "id": "3f396855",
   "metadata": {},
   "source": [
    "---"
   ]
  },
  {
   "cell_type": "code",
   "execution_count": null,
   "id": "b4af2023",
   "metadata": {
    "execution": {
     "iopub.execute_input": "2022-02-14T02:56:55.860157Z",
     "iopub.status.busy": "2022-02-14T02:56:55.859507Z",
     "iopub.status.idle": "2022-02-14T02:56:55.875667Z",
     "shell.execute_reply": "2022-02-14T02:56:55.875094Z"
    }
   },
   "outputs": [],
   "source": [
    "if isdir(TE)\n",
    "\n",
    "    rm(TE, recursive = true)\n",
    "\n",
    "    println(\"Removed \", TE, \".\")\n",
    "\n",
    "end"
   ]
  }
 ],
 "metadata": {
  "kernelspec": {
   "display_name": "Julia 1.7.2",
   "language": "julia",
   "name": "julia-1.7"
  },
  "language_info": {
   "file_extension": ".jl",
   "mimetype": "application/julia",
   "name": "julia",
   "version": "1.7.2"
  }
 },
 "nbformat": 4,
 "nbformat_minor": 5
}
