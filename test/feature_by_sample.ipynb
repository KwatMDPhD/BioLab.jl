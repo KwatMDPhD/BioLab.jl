{
 "cells": [
  {
   "cell_type": "code",
   "execution_count": null,
   "id": "017464da",
   "metadata": {
    "execution": {
     "iopub.execute_input": "2022-02-10T21:31:02.654508Z",
     "iopub.status.busy": "2022-02-10T21:31:02.036209Z",
     "iopub.status.idle": "2022-02-10T21:31:03.900533Z",
     "shell.execute_reply": "2022-02-10T21:31:03.899742Z"
    }
   },
   "outputs": [],
   "source": [
    "TE = joinpath(tempdir(), \"OnePiece.test\")\n",
    "\n",
    "mkpath(TE)"
   ]
  },
  {
   "cell_type": "code",
   "execution_count": null,
   "id": "34e4701e",
   "metadata": {
    "execution": {
     "iopub.execute_input": "2022-02-10T21:31:03.903212Z",
     "iopub.status.busy": "2022-02-10T21:31:03.902399Z",
     "iopub.status.idle": "2022-02-10T21:31:10.616558Z",
     "shell.execute_reply": "2022-02-10T21:31:10.615845Z"
    }
   },
   "outputs": [],
   "source": [
    "using OnePiece"
   ]
  },
  {
   "cell_type": "markdown",
   "id": "b92a3da9",
   "metadata": {},
   "source": [
    "---"
   ]
  },
  {
   "cell_type": "markdown",
   "id": "79e29c8f",
   "metadata": {},
   "source": [
    "## compare_with_target"
   ]
  },
  {
   "cell_type": "code",
   "execution_count": null,
   "id": "54a16928",
   "metadata": {
    "execution": {
     "iopub.execute_input": "2022-02-10T21:31:11.252426Z",
     "iopub.status.busy": "2022-02-10T21:31:10.618540Z",
     "iopub.status.idle": "2022-02-10T21:31:11.662387Z",
     "shell.execute_reply": "2022-02-10T21:31:11.661755Z"
    }
   },
   "outputs": [],
   "source": [
    "n_ro = 5\n",
    "\n",
    "n_co = 4\n",
    "\n",
    "n_ze = convert(Int64, n_co / 2)\n",
    "\n",
    "n_on = n_co - n_ze"
   ]
  },
  {
   "cell_type": "code",
   "execution_count": null,
   "id": "4debe8bd",
   "metadata": {
    "execution": {
     "iopub.execute_input": "2022-02-10T21:31:11.665096Z",
     "iopub.status.busy": "2022-02-10T21:31:11.664205Z",
     "iopub.status.idle": "2022-02-10T21:31:13.224569Z",
     "shell.execute_reply": "2022-02-10T21:31:13.223944Z"
    }
   },
   "outputs": [],
   "source": [
    "bi_ = convert(BitVector, [zeros(n_ze); ones(n_on)])"
   ]
  },
  {
   "cell_type": "code",
   "execution_count": null,
   "id": "d851562e",
   "metadata": {
    "execution": {
     "iopub.execute_input": "2022-02-10T21:31:13.227380Z",
     "iopub.status.busy": "2022-02-10T21:31:13.226591Z",
     "iopub.status.idle": "2022-02-10T21:31:13.795357Z",
     "shell.execute_reply": "2022-02-10T21:31:13.794746Z"
    }
   },
   "outputs": [],
   "source": [
    "ve = [10^(id - 1) for id in 1:n_co]"
   ]
  },
  {
   "cell_type": "code",
   "execution_count": null,
   "id": "937eb6c7",
   "metadata": {
    "execution": {
     "iopub.execute_input": "2022-02-10T21:31:13.798058Z",
     "iopub.status.busy": "2022-02-10T21:31:13.797189Z",
     "iopub.status.idle": "2022-02-10T21:31:14.400927Z",
     "shell.execute_reply": "2022-02-10T21:31:14.400221Z"
    }
   },
   "outputs": [],
   "source": [
    "ma = convert(Matrix, reshape(1:(n_ro * n_co), (n_ro, n_co)))"
   ]
  },
  {
   "cell_type": "code",
   "execution_count": null,
   "id": "bcccaff6",
   "metadata": {
    "execution": {
     "iopub.execute_input": "2022-02-10T21:31:14.403443Z",
     "iopub.status.busy": "2022-02-10T21:31:14.402672Z",
     "iopub.status.idle": "2022-02-10T21:31:15.450599Z",
     "shell.execute_reply": "2022-02-10T21:31:15.449664Z"
    }
   },
   "outputs": [],
   "source": [
    "OnePiece.feature_by_sample.compare_with_target(bi_, ma, \"signal_to_noise_ratio\")"
   ]
  },
  {
   "cell_type": "markdown",
   "id": "3f396855",
   "metadata": {},
   "source": [
    "---"
   ]
  },
  {
   "cell_type": "code",
   "execution_count": null,
   "id": "b4af2023",
   "metadata": {
    "execution": {
     "iopub.execute_input": "2022-02-10T21:31:15.453860Z",
     "iopub.status.busy": "2022-02-10T21:31:15.452875Z",
     "iopub.status.idle": "2022-02-10T21:31:15.474422Z",
     "shell.execute_reply": "2022-02-10T21:31:15.473550Z"
    }
   },
   "outputs": [],
   "source": [
    "rm(TE; recursive = true)"
   ]
  }
 ],
 "metadata": {
  "kernelspec": {
   "display_name": "Julia 1.7.2",
   "language": "julia",
   "name": "julia-1.7"
  },
  "language_info": {
   "file_extension": ".jl",
   "mimetype": "application/julia",
   "name": "julia",
   "version": "1.7.2"
  }
 },
 "nbformat": 4,
 "nbformat_minor": 5
}
