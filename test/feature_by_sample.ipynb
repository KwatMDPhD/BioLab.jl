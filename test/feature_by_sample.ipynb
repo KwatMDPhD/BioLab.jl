{
 "cells": [
  {
   "cell_type": "code",
   "execution_count": null,
   "id": "017464da",
   "metadata": {
    "execution": {
     "iopub.execute_input": "2022-02-13T05:35:00.900167Z",
     "iopub.status.busy": "2022-02-13T05:35:00.577431Z",
     "iopub.status.idle": "2022-02-13T05:35:01.083662Z",
     "shell.execute_reply": "2022-02-13T05:35:01.083246Z"
    }
   },
   "outputs": [],
   "source": [
    "TE = joinpath(tempdir(), \"OnePiece.test\")\n",
    "\n",
    "if isdir(TE)\n",
    "\n",
    "    rm(TE, recursive = true)\n",
    "\n",
    "    println(\"Removed \", TE, \".\")\n",
    "\n",
    "end\n",
    "\n",
    "mkdir(TE)\n",
    "\n",
    "println(\"Made \", TE, \".\")"
   ]
  },
  {
   "cell_type": "code",
   "execution_count": null,
   "id": "34e4701e",
   "metadata": {
    "execution": {
     "iopub.execute_input": "2022-02-13T05:35:01.085556Z",
     "iopub.status.busy": "2022-02-13T05:35:01.085025Z",
     "iopub.status.idle": "2022-02-13T05:35:05.116005Z",
     "shell.execute_reply": "2022-02-13T05:35:05.115543Z"
    }
   },
   "outputs": [],
   "source": [
    "using OnePiece"
   ]
  },
  {
   "cell_type": "markdown",
   "id": "b92a3da9",
   "metadata": {},
   "source": [
    "---"
   ]
  },
  {
   "cell_type": "markdown",
   "id": "79e29c8f",
   "metadata": {},
   "source": [
    "## compare_with_target"
   ]
  },
  {
   "cell_type": "code",
   "execution_count": null,
   "id": "54a16928",
   "metadata": {
    "execution": {
     "iopub.execute_input": "2022-02-13T05:35:05.411953Z",
     "iopub.status.busy": "2022-02-13T05:35:05.117399Z",
     "iopub.status.idle": "2022-02-13T05:35:05.812927Z",
     "shell.execute_reply": "2022-02-13T05:35:05.812478Z"
    }
   },
   "outputs": [],
   "source": [
    "n_ro = 5\n",
    "\n",
    "n_co = 4\n",
    "\n",
    "n_ze = convert(Int64, n_co / 2)\n",
    "\n",
    "n_on = n_co - n_ze"
   ]
  },
  {
   "cell_type": "code",
   "execution_count": null,
   "id": "4debe8bd",
   "metadata": {
    "execution": {
     "iopub.execute_input": "2022-02-13T05:35:05.814926Z",
     "iopub.status.busy": "2022-02-13T05:35:05.814282Z",
     "iopub.status.idle": "2022-02-13T05:35:06.860270Z",
     "shell.execute_reply": "2022-02-13T05:35:06.859805Z"
    }
   },
   "outputs": [],
   "source": [
    "bi_ = convert(BitVector, [zeros(n_ze); ones(n_on)])"
   ]
  },
  {
   "cell_type": "code",
   "execution_count": null,
   "id": "d851562e",
   "metadata": {
    "execution": {
     "iopub.execute_input": "2022-02-13T05:35:06.862196Z",
     "iopub.status.busy": "2022-02-13T05:35:06.861571Z",
     "iopub.status.idle": "2022-02-13T05:35:07.253558Z",
     "shell.execute_reply": "2022-02-13T05:35:07.253097Z"
    }
   },
   "outputs": [],
   "source": [
    "ve = [10^(id - 1) for id in 1:n_co]"
   ]
  },
  {
   "cell_type": "code",
   "execution_count": null,
   "id": "937eb6c7",
   "metadata": {
    "execution": {
     "iopub.execute_input": "2022-02-13T05:35:07.255472Z",
     "iopub.status.busy": "2022-02-13T05:35:07.254896Z",
     "iopub.status.idle": "2022-02-13T05:35:07.643608Z",
     "shell.execute_reply": "2022-02-13T05:35:07.643157Z"
    }
   },
   "outputs": [],
   "source": [
    "ma = convert(Matrix, reshape(1:(n_ro * n_co), (n_ro, n_co)))"
   ]
  },
  {
   "cell_type": "code",
   "execution_count": null,
   "id": "bcccaff6",
   "metadata": {
    "execution": {
     "iopub.execute_input": "2022-02-13T05:35:07.645429Z",
     "iopub.status.busy": "2022-02-13T05:35:07.644858Z",
     "iopub.status.idle": "2022-02-13T05:35:08.315487Z",
     "shell.execute_reply": "2022-02-13T05:35:08.315045Z"
    }
   },
   "outputs": [],
   "source": [
    "OnePiece.feature_by_sample.compare_with_target(bi_, ma, \"signal_to_noise_ratio\")"
   ]
  },
  {
   "cell_type": "markdown",
   "id": "3f396855",
   "metadata": {},
   "source": [
    "---"
   ]
  },
  {
   "cell_type": "code",
   "execution_count": null,
   "id": "b4af2023",
   "metadata": {
    "execution": {
     "iopub.execute_input": "2022-02-13T05:35:08.317434Z",
     "iopub.status.busy": "2022-02-13T05:35:08.316861Z",
     "iopub.status.idle": "2022-02-13T05:35:08.330742Z",
     "shell.execute_reply": "2022-02-13T05:35:08.330245Z"
    }
   },
   "outputs": [],
   "source": [
    "if isdir(TE)\n",
    "\n",
    "    rm(TE, recursive = true)\n",
    "\n",
    "    println(\"Removed \", TE, \".\")\n",
    "\n",
    "end"
   ]
  }
 ],
 "metadata": {
  "kernelspec": {
   "display_name": "Julia 1.7.2",
   "language": "julia",
   "name": "julia-1.7"
  },
  "language_info": {
   "file_extension": ".jl",
   "mimetype": "application/julia",
   "name": "julia",
   "version": "1.7.2"
  }
 },
 "nbformat": 4,
 "nbformat_minor": 5
}
