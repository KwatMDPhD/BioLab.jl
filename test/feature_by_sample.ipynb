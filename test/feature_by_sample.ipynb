{
 "cells": [
  {
   "cell_type": "code",
   "execution_count": null,
   "id": "017464da",
   "metadata": {
    "execution": {
     "iopub.execute_input": "2022-02-11T08:14:10.310344Z",
     "iopub.status.busy": "2022-02-11T08:14:09.927717Z",
     "iopub.status.idle": "2022-02-11T08:14:10.519878Z",
     "shell.execute_reply": "2022-02-11T08:14:10.519259Z"
    }
   },
   "outputs": [],
   "source": [
    "TE = joinpath(tempdir(), \"OnePiece.test\")\n",
    "\n",
    "if isdir(TE)\n",
    "\n",
    "    rm(TE; recursive = true)\n",
    "\n",
    "    println(\"Removed \", TE, \".\")\n",
    "\n",
    "end\n",
    "\n",
    "mkdir(TE)\n",
    "\n",
    "println(\"Made \", TE, \".\")"
   ]
  },
  {
   "cell_type": "code",
   "execution_count": null,
   "id": "34e4701e",
   "metadata": {
    "execution": {
     "iopub.execute_input": "2022-02-11T08:14:10.521921Z",
     "iopub.status.busy": "2022-02-11T08:14:10.521272Z",
     "iopub.status.idle": "2022-02-11T08:14:14.725673Z",
     "shell.execute_reply": "2022-02-11T08:14:14.725134Z"
    }
   },
   "outputs": [],
   "source": [
    "using OnePiece"
   ]
  },
  {
   "cell_type": "markdown",
   "id": "b92a3da9",
   "metadata": {},
   "source": [
    "---"
   ]
  },
  {
   "cell_type": "markdown",
   "id": "79e29c8f",
   "metadata": {},
   "source": [
    "## compare_with_target"
   ]
  },
  {
   "cell_type": "code",
   "execution_count": null,
   "id": "54a16928",
   "metadata": {
    "execution": {
     "iopub.execute_input": "2022-02-11T08:14:15.065253Z",
     "iopub.status.busy": "2022-02-11T08:14:14.727148Z",
     "iopub.status.idle": "2022-02-11T08:14:15.481368Z",
     "shell.execute_reply": "2022-02-11T08:14:15.480904Z"
    }
   },
   "outputs": [],
   "source": [
    "n_ro = 5\n",
    "\n",
    "n_co = 4\n",
    "\n",
    "n_ze = convert(Int64, n_co / 2)\n",
    "\n",
    "n_on = n_co - n_ze"
   ]
  },
  {
   "cell_type": "code",
   "execution_count": null,
   "id": "4debe8bd",
   "metadata": {
    "execution": {
     "iopub.execute_input": "2022-02-11T08:14:15.483327Z",
     "iopub.status.busy": "2022-02-11T08:14:15.482742Z",
     "iopub.status.idle": "2022-02-11T08:14:16.482405Z",
     "shell.execute_reply": "2022-02-11T08:14:16.482001Z"
    }
   },
   "outputs": [],
   "source": [
    "bi_ = convert(BitVector, [zeros(n_ze); ones(n_on)])"
   ]
  },
  {
   "cell_type": "code",
   "execution_count": null,
   "id": "d851562e",
   "metadata": {
    "execution": {
     "iopub.execute_input": "2022-02-11T08:14:16.484540Z",
     "iopub.status.busy": "2022-02-11T08:14:16.484042Z",
     "iopub.status.idle": "2022-02-11T08:14:16.837632Z",
     "shell.execute_reply": "2022-02-11T08:14:16.837207Z"
    }
   },
   "outputs": [],
   "source": [
    "ve = [10^(id - 1) for id in 1:n_co]"
   ]
  },
  {
   "cell_type": "code",
   "execution_count": null,
   "id": "937eb6c7",
   "metadata": {
    "execution": {
     "iopub.execute_input": "2022-02-11T08:14:16.839584Z",
     "iopub.status.busy": "2022-02-11T08:14:16.839032Z",
     "iopub.status.idle": "2022-02-11T08:14:17.204321Z",
     "shell.execute_reply": "2022-02-11T08:14:17.203925Z"
    }
   },
   "outputs": [],
   "source": [
    "ma = convert(Matrix, reshape(1:(n_ro * n_co), (n_ro, n_co)))"
   ]
  },
  {
   "cell_type": "code",
   "execution_count": null,
   "id": "bcccaff6",
   "metadata": {
    "execution": {
     "iopub.execute_input": "2022-02-11T08:14:17.206304Z",
     "iopub.status.busy": "2022-02-11T08:14:17.205807Z",
     "iopub.status.idle": "2022-02-11T08:14:17.810186Z",
     "shell.execute_reply": "2022-02-11T08:14:17.809802Z"
    }
   },
   "outputs": [],
   "source": [
    "OnePiece.feature_by_sample.compare_with_target(bi_, ma, \"signal_to_noise_ratio\")"
   ]
  },
  {
   "cell_type": "markdown",
   "id": "3f396855",
   "metadata": {},
   "source": [
    "---"
   ]
  },
  {
   "cell_type": "code",
   "execution_count": null,
   "id": "b4af2023",
   "metadata": {
    "execution": {
     "iopub.execute_input": "2022-02-11T08:14:17.812324Z",
     "iopub.status.busy": "2022-02-11T08:14:17.811747Z",
     "iopub.status.idle": "2022-02-11T08:14:17.824484Z",
     "shell.execute_reply": "2022-02-11T08:14:17.824058Z"
    }
   },
   "outputs": [],
   "source": [
    "if isdir(TE)\n",
    "\n",
    "    rm(TE; recursive = true)\n",
    "\n",
    "    println(\"Removed \", TE, \".\")\n",
    "\n",
    "end"
   ]
  }
 ],
 "metadata": {
  "kernelspec": {
   "display_name": "Julia 1.7.2",
   "language": "julia",
   "name": "julia-1.7"
  },
  "language_info": {
   "file_extension": ".jl",
   "mimetype": "application/julia",
   "name": "julia",
   "version": "1.7.2"
  }
 },
 "nbformat": 4,
 "nbformat_minor": 5
}
