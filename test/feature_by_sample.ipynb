{
 "cells": [
  {
   "cell_type": "code",
   "execution_count": null,
   "id": "34e4701e",
   "metadata": {
    "execution": {
     "iopub.execute_input": "2022-02-09T22:48:01.891597Z",
     "iopub.status.busy": "2022-02-09T22:48:01.525239Z",
     "iopub.status.idle": "2022-02-09T22:48:02.825919Z",
     "shell.execute_reply": "2022-02-09T22:48:02.825422Z"
    }
   },
   "outputs": [],
   "source": [
    "using Revise\n",
    "using BenchmarkTools"
   ]
  },
  {
   "cell_type": "code",
   "execution_count": null,
   "id": "7ede11b2",
   "metadata": {
    "execution": {
     "iopub.execute_input": "2022-02-09T22:48:02.828158Z",
     "iopub.status.busy": "2022-02-09T22:48:02.827468Z",
     "iopub.status.idle": "2022-02-09T22:48:12.640577Z",
     "shell.execute_reply": "2022-02-09T22:48:12.640049Z"
    }
   },
   "outputs": [],
   "source": [
    "using OnePiece"
   ]
  },
  {
   "cell_type": "markdown",
   "id": "79e29c8f",
   "metadata": {},
   "source": [
    "## compare_with_target"
   ]
  },
  {
   "cell_type": "code",
   "execution_count": null,
   "id": "54a16928",
   "metadata": {
    "execution": {
     "iopub.execute_input": "2022-02-09T22:48:14.221523Z",
     "iopub.status.busy": "2022-02-09T22:48:12.641942Z",
     "iopub.status.idle": "2022-02-09T22:48:15.095770Z",
     "shell.execute_reply": "2022-02-09T22:48:15.095315Z"
    }
   },
   "outputs": [],
   "source": [
    "n_ro = 5\n",
    "\n",
    "n_co = 4\n",
    "\n",
    "n_ze = convert(Int64, n_co / 2)\n",
    "\n",
    "n_on = n_co - n_ze"
   ]
  },
  {
   "cell_type": "code",
   "execution_count": null,
   "id": "4debe8bd",
   "metadata": {
    "execution": {
     "iopub.execute_input": "2022-02-09T22:48:15.097579Z",
     "iopub.status.busy": "2022-02-09T22:48:15.097044Z",
     "iopub.status.idle": "2022-02-09T22:48:15.955673Z",
     "shell.execute_reply": "2022-02-09T22:48:15.955287Z"
    }
   },
   "outputs": [],
   "source": [
    "bi_ = convert(BitVector, [zeros(n_ze); ones(n_on)])"
   ]
  },
  {
   "cell_type": "code",
   "execution_count": null,
   "id": "d851562e",
   "metadata": {
    "execution": {
     "iopub.execute_input": "2022-02-09T22:48:15.957798Z",
     "iopub.status.busy": "2022-02-09T22:48:15.957170Z",
     "iopub.status.idle": "2022-02-09T22:48:16.336905Z",
     "shell.execute_reply": "2022-02-09T22:48:16.336517Z"
    }
   },
   "outputs": [],
   "source": [
    "ve = [10^(id - 1) for id in 1:n_co]"
   ]
  },
  {
   "cell_type": "code",
   "execution_count": null,
   "id": "937eb6c7",
   "metadata": {
    "execution": {
     "iopub.execute_input": "2022-02-09T22:48:16.338896Z",
     "iopub.status.busy": "2022-02-09T22:48:16.338403Z",
     "iopub.status.idle": "2022-02-09T22:48:16.755223Z",
     "shell.execute_reply": "2022-02-09T22:48:16.754704Z"
    }
   },
   "outputs": [],
   "source": [
    "ma = convert(Matrix, reshape(1:(n_ro * n_co), (n_ro, n_co)))"
   ]
  },
  {
   "cell_type": "code",
   "execution_count": null,
   "id": "bcccaff6",
   "metadata": {
    "execution": {
     "iopub.execute_input": "2022-02-09T22:48:16.757187Z",
     "iopub.status.busy": "2022-02-09T22:48:16.756543Z",
     "iopub.status.idle": "2022-02-09T22:48:17.400700Z",
     "shell.execute_reply": "2022-02-09T22:48:17.400310Z"
    }
   },
   "outputs": [],
   "source": [
    "OnePiece.feature_by_sample.compare_with_target(bi_, ma, \"signal_to_noise_ratio\")"
   ]
  }
 ],
 "metadata": {
  "@webio": {
   "lastCommId": null,
   "lastKernelId": null
  },
  "kernelspec": {
   "display_name": "Julia 1.7.1",
   "language": "julia",
   "name": "julia-1.7"
  },
  "language_info": {
   "file_extension": ".jl",
   "mimetype": "application/julia",
   "name": "julia",
   "version": "1.7.2"
  }
 },
 "nbformat": 4,
 "nbformat_minor": 5
}
