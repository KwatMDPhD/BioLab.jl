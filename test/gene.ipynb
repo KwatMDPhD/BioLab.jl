{
 "cells": [
  {
   "cell_type": "code",
   "execution_count": null,
   "id": "017464da",
   "metadata": {
    "execution": {
     "iopub.execute_input": "2022-02-14T16:16:01.525640Z",
     "iopub.status.busy": "2022-02-14T16:16:01.137168Z",
     "iopub.status.idle": "2022-02-14T16:16:01.740084Z",
     "shell.execute_reply": "2022-02-14T16:16:01.739493Z"
    }
   },
   "outputs": [],
   "source": [
    "TE = joinpath(tempdir(), \"OnePiece.test\")\n",
    "\n",
    "if isdir(TE)\n",
    "\n",
    "    rm(TE, recursive = true)\n",
    "\n",
    "    println(\"Removed \", TE, \".\")\n",
    "\n",
    "end\n",
    "\n",
    "mkdir(TE)\n",
    "\n",
    "println(\"Made \", TE, \".\")"
   ]
  },
  {
   "cell_type": "code",
   "execution_count": null,
   "id": "34e4701e",
   "metadata": {
    "execution": {
     "iopub.execute_input": "2022-02-14T16:16:01.742024Z",
     "iopub.status.busy": "2022-02-14T16:16:01.741442Z",
     "iopub.status.idle": "2022-02-14T16:16:06.188905Z",
     "shell.execute_reply": "2022-02-14T16:16:06.188377Z"
    }
   },
   "outputs": [],
   "source": [
    "using OnePiece"
   ]
  },
  {
   "cell_type": "markdown",
   "id": "b92a3da9",
   "metadata": {},
   "source": [
    "---"
   ]
  },
  {
   "cell_type": "markdown",
   "id": "19d500c7",
   "metadata": {},
   "source": [
    "## read_hgnc"
   ]
  },
  {
   "cell_type": "code",
   "execution_count": null,
   "id": "31c67e64",
   "metadata": {
    "execution": {
     "iopub.execute_input": "2022-02-14T16:16:06.529896Z",
     "iopub.status.busy": "2022-02-14T16:16:06.190325Z",
     "iopub.status.idle": "2022-02-14T16:16:27.716167Z",
     "shell.execute_reply": "2022-02-14T16:16:27.715698Z"
    }
   },
   "outputs": [],
   "source": [
    "hg = OnePiece.gene.read_hgnc()\n",
    "\n",
    "size(hg)"
   ]
  },
  {
   "cell_type": "markdown",
   "id": "1e618da3",
   "metadata": {},
   "source": [
    "## read_ensembl"
   ]
  },
  {
   "cell_type": "code",
   "execution_count": null,
   "id": "cecc8625",
   "metadata": {
    "execution": {
     "iopub.execute_input": "2022-02-14T16:16:27.718270Z",
     "iopub.status.busy": "2022-02-14T16:16:27.717628Z",
     "iopub.status.idle": "2022-02-14T16:16:28.967327Z",
     "shell.execute_reply": "2022-02-14T16:16:28.966907Z"
    }
   },
   "outputs": [],
   "source": [
    "en = OnePiece.gene.read_ensembl()\n",
    "\n",
    "size(en)"
   ]
  },
  {
   "cell_type": "code",
   "execution_count": null,
   "id": "2704ed42",
   "metadata": {
    "execution": {
     "iopub.execute_input": "2022-02-14T16:16:28.969432Z",
     "iopub.status.busy": "2022-02-14T16:16:28.968928Z",
     "iopub.status.idle": "2022-02-14T16:16:29.521559Z",
     "shell.execute_reply": "2022-02-14T16:16:29.521165Z"
    }
   },
   "outputs": [],
   "source": [
    "en = OnePiece.gene.read_ensembl(; or = \"mouse\")\n",
    "\n",
    "size(en)"
   ]
  },
  {
   "cell_type": "markdown",
   "id": "067fadb9",
   "metadata": {},
   "source": [
    "## map_to_hgnc_gene"
   ]
  },
  {
   "cell_type": "code",
   "execution_count": null,
   "id": "0ac96217",
   "metadata": {
    "execution": {
     "iopub.execute_input": "2022-02-14T16:16:29.523509Z",
     "iopub.status.busy": "2022-02-14T16:16:29.523001Z",
     "iopub.status.idle": "2022-02-14T16:16:32.289560Z",
     "shell.execute_reply": "2022-02-14T16:16:32.288916Z"
    }
   },
   "outputs": [],
   "source": [
    "st_hg = OnePiece.gene.map_to_hgnc_gene()"
   ]
  },
  {
   "cell_type": "markdown",
   "id": "d8ed8dfc",
   "metadata": {},
   "source": [
    "## map_to_ensembl_gene"
   ]
  },
  {
   "cell_type": "code",
   "execution_count": null,
   "id": "b1068615",
   "metadata": {
    "execution": {
     "iopub.execute_input": "2022-02-14T16:16:32.291527Z",
     "iopub.status.busy": "2022-02-14T16:16:32.290962Z",
     "iopub.status.idle": "2022-02-14T16:16:41.143031Z",
     "shell.execute_reply": "2022-02-14T16:16:41.142638Z"
    }
   },
   "outputs": [],
   "source": [
    "st_en = OnePiece.gene.map_to_ensembl_gene()"
   ]
  },
  {
   "cell_type": "markdown",
   "id": "64ff451e",
   "metadata": {},
   "source": [
    "## map_with_mouse"
   ]
  },
  {
   "cell_type": "code",
   "execution_count": null,
   "id": "344da7eb",
   "metadata": {
    "execution": {
     "iopub.execute_input": "2022-02-14T16:16:41.145180Z",
     "iopub.status.busy": "2022-02-14T16:16:41.144670Z",
     "iopub.status.idle": "2022-02-14T16:16:53.075271Z",
     "shell.execute_reply": "2022-02-14T16:16:53.074872Z"
    }
   },
   "outputs": [],
   "source": [
    "OnePiece.gene.map_with_mouse()"
   ]
  },
  {
   "cell_type": "code",
   "execution_count": null,
   "id": "c3b98547",
   "metadata": {
    "execution": {
     "iopub.execute_input": "2022-02-14T16:16:53.077134Z",
     "iopub.status.busy": "2022-02-14T16:16:53.076634Z",
     "iopub.status.idle": "2022-02-14T16:17:03.754616Z",
     "shell.execute_reply": "2022-02-14T16:17:03.754229Z"
    }
   },
   "outputs": [],
   "source": [
    "OnePiece.gene.map_with_mouse(; ho = \"human_to_mouse\")"
   ]
  },
  {
   "cell_type": "markdown",
   "id": "cfb03409",
   "metadata": {},
   "source": [
    "## rename"
   ]
  },
  {
   "cell_type": "code",
   "execution_count": null,
   "id": "e2b70674",
   "metadata": {
    "execution": {
     "iopub.execute_input": "2022-02-14T16:17:03.756876Z",
     "iopub.status.busy": "2022-02-14T16:17:03.756148Z",
     "iopub.status.idle": "2022-02-14T16:17:03.805116Z",
     "shell.execute_reply": "2022-02-14T16:17:03.804678Z"
    }
   },
   "outputs": [],
   "source": [
    "hg_ = string.(hg[!, \"symbol\"])\n",
    "\n",
    ";"
   ]
  },
  {
   "cell_type": "code",
   "execution_count": null,
   "id": "0dcb6a68",
   "metadata": {
    "execution": {
     "iopub.execute_input": "2022-02-14T16:17:03.806992Z",
     "iopub.status.busy": "2022-02-14T16:17:03.806476Z",
     "iopub.status.idle": "2022-02-14T16:17:23.347537Z",
     "shell.execute_reply": "2022-02-14T16:17:23.347152Z"
    }
   },
   "outputs": [],
   "source": [
    "na_, ma_ = OnePiece.gene.rename(hg_)"
   ]
  },
  {
   "cell_type": "code",
   "execution_count": null,
   "id": "9b31bde2",
   "metadata": {
    "execution": {
     "iopub.execute_input": "2022-02-14T16:17:23.349383Z",
     "iopub.status.busy": "2022-02-14T16:17:23.348890Z",
     "iopub.status.idle": "2022-02-14T16:17:24.130298Z",
     "shell.execute_reply": "2022-02-14T16:17:24.129834Z"
    }
   },
   "outputs": [],
   "source": [
    "ge_ = unique(skipmissing(en[!, \"Gene name\"]))\n",
    "\n",
    "na_, ma_ = OnePiece.gene.rename(ge_; mo = false, en = false)"
   ]
  },
  {
   "cell_type": "code",
   "execution_count": null,
   "id": "bb77a60e",
   "metadata": {
    "execution": {
     "iopub.execute_input": "2022-02-14T16:17:24.132234Z",
     "iopub.status.busy": "2022-02-14T16:17:24.131650Z",
     "iopub.status.idle": "2022-02-14T16:17:25.484761Z",
     "shell.execute_reply": "2022-02-14T16:17:25.484380Z"
    }
   },
   "outputs": [],
   "source": [
    "hg_gr = OnePiece.extension.dataframe.map_to_column(coalesce.(hg, \"?\"), [\"symbol\", \"gene_group\"])"
   ]
  },
  {
   "cell_type": "code",
   "execution_count": null,
   "id": "5f36e738",
   "metadata": {
    "execution": {
     "iopub.execute_input": "2022-02-14T16:17:25.486491Z",
     "iopub.status.busy": "2022-02-14T16:17:25.485999Z",
     "iopub.status.idle": "2022-02-14T16:17:25.596062Z",
     "shell.execute_reply": "2022-02-14T16:17:25.595563Z"
    }
   },
   "outputs": [],
   "source": [
    "println(join(unique([hg_gr[na] for na in na_[ma_ .== 1]]), \"\\n\"))"
   ]
  },
  {
   "cell_type": "code",
   "execution_count": null,
   "id": "5f70be28",
   "metadata": {
    "execution": {
     "iopub.execute_input": "2022-02-14T16:17:25.597959Z",
     "iopub.status.busy": "2022-02-14T16:17:25.597461Z",
     "iopub.status.idle": "2022-02-14T16:17:26.096312Z",
     "shell.execute_reply": "2022-02-14T16:17:26.095899Z"
    }
   },
   "outputs": [],
   "source": [
    "en_ty = OnePiece.extension.dataframe.map_to_column(en, [\"Gene name\", \"Gene type\"])\n",
    "\n",
    "println(join(unique([en_ty[na] for na in na_[ma_ .== 2]]), \"\\n\"))"
   ]
  },
  {
   "cell_type": "markdown",
   "id": "3f396855",
   "metadata": {},
   "source": [
    "---"
   ]
  },
  {
   "cell_type": "code",
   "execution_count": null,
   "id": "b4af2023",
   "metadata": {
    "execution": {
     "iopub.execute_input": "2022-02-14T16:17:26.098373Z",
     "iopub.status.busy": "2022-02-14T16:17:26.097795Z",
     "iopub.status.idle": "2022-02-14T16:17:26.100190Z",
     "shell.execute_reply": "2022-02-14T16:17:26.099758Z"
    }
   },
   "outputs": [],
   "source": [
    "if isdir(TE)\n",
    "\n",
    "    rm(TE, recursive = true)\n",
    "\n",
    "    println(\"Removed \", TE, \".\")\n",
    "\n",
    "end"
   ]
  }
 ],
 "metadata": {
  "kernelspec": {
   "display_name": "Julia 1.7.2",
   "language": "julia",
   "name": "julia-1.7"
  },
  "language_info": {
   "file_extension": ".jl",
   "mimetype": "application/julia",
   "name": "julia",
   "version": "1.7.2"
  }
 },
 "nbformat": 4,
 "nbformat_minor": 5
}
