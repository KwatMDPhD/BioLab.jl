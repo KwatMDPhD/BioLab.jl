{
 "cells": [
  {
   "cell_type": "code",
   "execution_count": null,
   "id": "017464da",
   "metadata": {},
   "outputs": [],
   "source": [
    "TE = joinpath(tempdir(), \"OnePiece.test\")\n",
    "\n",
    "mkpath(TE)"
   ]
  },
  {
   "cell_type": "code",
   "execution_count": null,
   "id": "34e4701e",
   "metadata": {
    "execution": {
     "iopub.execute_input": "2022-02-10T17:51:23.590384Z",
     "iopub.status.busy": "2022-02-10T17:51:23.250154Z",
     "iopub.status.idle": "2022-02-10T17:51:24.482021Z",
     "shell.execute_reply": "2022-02-10T17:51:24.481306Z"
    }
   },
   "outputs": [],
   "source": [
    "using OnePiece"
   ]
  },
  {
   "cell_type": "markdown",
   "id": "b92a3da9",
   "metadata": {},
   "source": [
    "---"
   ]
  },
  {
   "cell_type": "markdown",
   "id": "19d500c7",
   "metadata": {},
   "source": [
    "## read_hgnc"
   ]
  },
  {
   "cell_type": "code",
   "execution_count": null,
   "id": "31c67e64",
   "metadata": {
    "execution": {
     "iopub.execute_input": "2022-02-10T20:45:04.443374Z",
     "iopub.status.busy": "2022-02-10T20:45:03.926506Z",
     "iopub.status.idle": "2022-02-10T20:45:35.419555Z",
     "shell.execute_reply": "2022-02-10T20:45:35.418675Z"
    }
   },
   "outputs": [],
   "source": [
    "hg = OnePiece.gene.read_hgnc()\n",
    "\n",
    "size(hg)"
   ]
  },
  {
   "cell_type": "markdown",
   "id": "1e618da3",
   "metadata": {},
   "source": [
    "## read_ensembl"
   ]
  },
  {
   "cell_type": "code",
   "execution_count": null,
   "id": "cecc8625",
   "metadata": {
    "execution": {
     "iopub.execute_input": "2022-02-10T20:45:35.423496Z",
     "iopub.status.busy": "2022-02-10T20:45:35.422339Z",
     "iopub.status.idle": "2022-02-10T20:45:37.137011Z",
     "shell.execute_reply": "2022-02-10T20:45:37.136457Z"
    }
   },
   "outputs": [],
   "source": [
    "en = OnePiece.gene.read_ensembl()\n",
    "\n",
    "size(en)"
   ]
  },
  {
   "cell_type": "code",
   "execution_count": null,
   "id": "2704ed42",
   "metadata": {
    "execution": {
     "iopub.execute_input": "2022-02-10T20:45:37.139419Z",
     "iopub.status.busy": "2022-02-10T20:45:37.138604Z",
     "iopub.status.idle": "2022-02-10T20:45:37.872263Z",
     "shell.execute_reply": "2022-02-10T20:45:37.871696Z"
    }
   },
   "outputs": [],
   "source": [
    "en = OnePiece.gene.read_ensembl(; or = \"mouse\")\n",
    "\n",
    "size(en)"
   ]
  },
  {
   "cell_type": "markdown",
   "id": "067fadb9",
   "metadata": {},
   "source": [
    "## map_to_hgnc_gene"
   ]
  },
  {
   "cell_type": "code",
   "execution_count": null,
   "id": "0ac96217",
   "metadata": {
    "execution": {
     "iopub.execute_input": "2022-02-10T20:45:37.874646Z",
     "iopub.status.busy": "2022-02-10T20:45:37.873951Z",
     "iopub.status.idle": "2022-02-10T20:45:41.577879Z",
     "shell.execute_reply": "2022-02-10T20:45:41.577239Z"
    }
   },
   "outputs": [],
   "source": [
    "st_hg = OnePiece.gene.map_to_hgnc_gene()"
   ]
  },
  {
   "cell_type": "markdown",
   "id": "d8ed8dfc",
   "metadata": {},
   "source": [
    "## map_to_ensembl_gene"
   ]
  },
  {
   "cell_type": "code",
   "execution_count": null,
   "id": "b1068615",
   "metadata": {
    "execution": {
     "iopub.execute_input": "2022-02-10T20:45:41.580377Z",
     "iopub.status.busy": "2022-02-10T20:45:41.579632Z",
     "iopub.status.idle": "2022-02-10T20:45:52.766950Z",
     "shell.execute_reply": "2022-02-10T20:45:52.766390Z"
    }
   },
   "outputs": [],
   "source": [
    "st_en = OnePiece.gene.map_to_ensembl_gene()"
   ]
  },
  {
   "cell_type": "markdown",
   "id": "64ff451e",
   "metadata": {},
   "source": [
    "## map_with_mouse"
   ]
  },
  {
   "cell_type": "code",
   "execution_count": null,
   "id": "344da7eb",
   "metadata": {
    "execution": {
     "iopub.execute_input": "2022-02-10T20:45:52.769338Z",
     "iopub.status.busy": "2022-02-10T20:45:52.768670Z",
     "iopub.status.idle": "2022-02-10T20:46:07.415600Z",
     "shell.execute_reply": "2022-02-10T20:46:07.415013Z"
    }
   },
   "outputs": [],
   "source": [
    "OnePiece.gene.map_with_mouse()"
   ]
  },
  {
   "cell_type": "code",
   "execution_count": null,
   "id": "c3b98547",
   "metadata": {
    "execution": {
     "iopub.execute_input": "2022-02-10T20:46:07.417886Z",
     "iopub.status.busy": "2022-02-10T20:46:07.417180Z",
     "iopub.status.idle": "2022-02-10T20:46:20.126415Z",
     "shell.execute_reply": "2022-02-10T20:46:20.125913Z"
    }
   },
   "outputs": [],
   "source": [
    "OnePiece.gene.map_with_mouse(; ho = \"human_to_mouse\")"
   ]
  },
  {
   "cell_type": "markdown",
   "id": "cfb03409",
   "metadata": {},
   "source": [
    "## rename"
   ]
  },
  {
   "cell_type": "code",
   "execution_count": null,
   "id": "e2b70674",
   "metadata": {
    "execution": {
     "iopub.execute_input": "2022-02-10T20:46:20.128898Z",
     "iopub.status.busy": "2022-02-10T20:46:20.127960Z",
     "iopub.status.idle": "2022-02-10T20:46:20.193584Z",
     "shell.execute_reply": "2022-02-10T20:46:20.193033Z"
    }
   },
   "outputs": [],
   "source": [
    "hg_ = string.(hg[!, \"symbol\"])\n",
    "\n",
    ";"
   ]
  },
  {
   "cell_type": "code",
   "execution_count": null,
   "id": "0dcb6a68",
   "metadata": {
    "execution": {
     "iopub.execute_input": "2022-02-10T20:46:20.195845Z",
     "iopub.status.busy": "2022-02-10T20:46:20.195165Z",
     "iopub.status.idle": "2022-02-10T20:46:43.737086Z",
     "shell.execute_reply": "2022-02-10T20:46:43.736475Z"
    }
   },
   "outputs": [],
   "source": [
    "na_, ma_ = OnePiece.gene.rename(hg_)"
   ]
  },
  {
   "cell_type": "code",
   "execution_count": null,
   "id": "9b31bde2",
   "metadata": {
    "execution": {
     "iopub.execute_input": "2022-02-10T20:46:43.739277Z",
     "iopub.status.busy": "2022-02-10T20:46:43.738567Z",
     "iopub.status.idle": "2022-02-10T20:46:44.677711Z",
     "shell.execute_reply": "2022-02-10T20:46:44.677208Z"
    }
   },
   "outputs": [],
   "source": [
    "ge_ = unique(skipmissing(en[!, \"Gene name\"]))\n",
    "\n",
    "na_, ma_ = OnePiece.gene.rename(ge_; mo = false, en = false)"
   ]
  },
  {
   "cell_type": "code",
   "execution_count": null,
   "id": "bb77a60e",
   "metadata": {
    "execution": {
     "iopub.execute_input": "2022-02-10T20:46:44.680219Z",
     "iopub.status.busy": "2022-02-10T20:46:44.679289Z",
     "iopub.status.idle": "2022-02-10T20:46:46.318175Z",
     "shell.execute_reply": "2022-02-10T20:46:46.317632Z"
    }
   },
   "outputs": [],
   "source": [
    "hg_gr = OnePiece.extension.dataframe.map_to_column(coalesce.(hg, \"?\"), [\"symbol\", \"gene_group\"])"
   ]
  },
  {
   "cell_type": "code",
   "execution_count": null,
   "id": "5f36e738",
   "metadata": {
    "execution": {
     "iopub.execute_input": "2022-02-10T20:46:46.320245Z",
     "iopub.status.busy": "2022-02-10T20:46:46.319595Z",
     "iopub.status.idle": "2022-02-10T20:46:46.470503Z",
     "shell.execute_reply": "2022-02-10T20:46:46.469988Z"
    }
   },
   "outputs": [],
   "source": [
    "println(join(unique([hg_gr[na] for na in na_[ma_ .== 1]]), \"\\n\"))"
   ]
  },
  {
   "cell_type": "code",
   "execution_count": null,
   "id": "5f70be28",
   "metadata": {
    "execution": {
     "iopub.execute_input": "2022-02-10T20:46:46.472667Z",
     "iopub.status.busy": "2022-02-10T20:46:46.472006Z",
     "iopub.status.idle": "2022-02-10T20:46:47.127543Z",
     "shell.execute_reply": "2022-02-10T20:46:47.127063Z"
    }
   },
   "outputs": [],
   "source": [
    "en_ty = OnePiece.extension.dataframe.map_to_column(en, [\"Gene name\", \"Gene type\"])\n",
    "\n",
    "println(join(unique([en_ty[na] for na in na_[ma_ .== 2]]), \"\\n\"))"
   ]
  },
  {
   "cell_type": "markdown",
   "id": "3f396855",
   "metadata": {},
   "source": [
    "---"
   ]
  },
  {
   "cell_type": "code",
   "execution_count": null,
   "id": "b4af2023",
   "metadata": {},
   "outputs": [],
   "source": [
    "rm(TE; recursive = true)"
   ]
  }
 ],
 "metadata": {
  "kernelspec": {
   "display_name": "Julia 1.7.2",
   "language": "julia",
   "name": "julia-1.7"
  },
  "language_info": {
   "file_extension": ".jl",
   "mimetype": "application/julia",
   "name": "julia",
   "version": "1.7.2"
  }
 },
 "nbformat": 4,
 "nbformat_minor": 5
}
