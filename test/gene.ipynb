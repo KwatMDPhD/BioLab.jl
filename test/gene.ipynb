{
 "cells": [
  {
   "cell_type": "code",
   "execution_count": null,
   "id": "34e4701e",
   "metadata": {
    "execution": {
     "iopub.execute_input": "2022-02-09T22:48:31.769977Z",
     "iopub.status.busy": "2022-02-09T22:48:31.404759Z",
     "iopub.status.idle": "2022-02-09T22:48:32.708669Z",
     "shell.execute_reply": "2022-02-09T22:48:32.708167Z"
    }
   },
   "outputs": [],
   "source": [
    "using Revise\n",
    "using BenchmarkTools"
   ]
  },
  {
   "cell_type": "code",
   "execution_count": null,
   "id": "23b98853",
   "metadata": {
    "execution": {
     "iopub.execute_input": "2022-02-09T22:48:32.710561Z",
     "iopub.status.busy": "2022-02-09T22:48:32.710059Z",
     "iopub.status.idle": "2022-02-09T22:48:42.614648Z",
     "shell.execute_reply": "2022-02-09T22:48:42.614118Z"
    }
   },
   "outputs": [],
   "source": [
    "using DataFrames\n",
    "\n",
    "using OnePiece"
   ]
  },
  {
   "cell_type": "markdown",
   "id": "19d500c7",
   "metadata": {},
   "source": [
    "## read_hgnc"
   ]
  },
  {
   "cell_type": "code",
   "execution_count": null,
   "id": "31c67e64",
   "metadata": {
    "execution": {
     "iopub.execute_input": "2022-02-09T22:48:44.166524Z",
     "iopub.status.busy": "2022-02-09T22:48:42.616156Z",
     "iopub.status.idle": "2022-02-09T22:49:07.049120Z",
     "shell.execute_reply": "2022-02-09T22:49:07.048654Z"
    }
   },
   "outputs": [],
   "source": [
    "hg = OnePiece.gene.read_hgnc()\n",
    "\n",
    "size(hg)"
   ]
  },
  {
   "cell_type": "markdown",
   "id": "1e618da3",
   "metadata": {},
   "source": [
    "## read_ensembl"
   ]
  },
  {
   "cell_type": "code",
   "execution_count": null,
   "id": "cecc8625",
   "metadata": {
    "execution": {
     "iopub.execute_input": "2022-02-09T22:49:07.052252Z",
     "iopub.status.busy": "2022-02-09T22:49:07.051518Z",
     "iopub.status.idle": "2022-02-09T22:49:08.173348Z",
     "shell.execute_reply": "2022-02-09T22:49:08.172826Z"
    }
   },
   "outputs": [],
   "source": [
    "en = OnePiece.gene.read_ensembl()\n",
    "\n",
    "size(en)"
   ]
  },
  {
   "cell_type": "code",
   "execution_count": null,
   "id": "2704ed42",
   "metadata": {
    "execution": {
     "iopub.execute_input": "2022-02-09T22:49:08.175270Z",
     "iopub.status.busy": "2022-02-09T22:49:08.174764Z",
     "iopub.status.idle": "2022-02-09T22:49:08.917433Z",
     "shell.execute_reply": "2022-02-09T22:49:08.917047Z"
    }
   },
   "outputs": [],
   "source": [
    "en = OnePiece.gene.read_ensembl(; or = \"mouse\")\n",
    "\n",
    "size(en)"
   ]
  },
  {
   "cell_type": "markdown",
   "id": "067fadb9",
   "metadata": {},
   "source": [
    "## map_to_hgnc_gene"
   ]
  },
  {
   "cell_type": "code",
   "execution_count": null,
   "id": "0ac96217",
   "metadata": {
    "execution": {
     "iopub.execute_input": "2022-02-09T22:49:08.919437Z",
     "iopub.status.busy": "2022-02-09T22:49:08.918942Z",
     "iopub.status.idle": "2022-02-09T22:49:11.421250Z",
     "shell.execute_reply": "2022-02-09T22:49:11.420863Z"
    }
   },
   "outputs": [],
   "source": [
    "st_hg = OnePiece.gene.map_to_hgnc_gene()"
   ]
  },
  {
   "cell_type": "markdown",
   "id": "d8ed8dfc",
   "metadata": {},
   "source": [
    "## map_to_ensembl_gene"
   ]
  },
  {
   "cell_type": "code",
   "execution_count": null,
   "id": "b1068615",
   "metadata": {
    "execution": {
     "iopub.execute_input": "2022-02-09T22:49:11.423367Z",
     "iopub.status.busy": "2022-02-09T22:49:11.422871Z",
     "iopub.status.idle": "2022-02-09T22:49:20.069294Z",
     "shell.execute_reply": "2022-02-09T22:49:20.068837Z"
    }
   },
   "outputs": [],
   "source": [
    "st_en = OnePiece.gene.map_to_ensembl_gene()"
   ]
  },
  {
   "cell_type": "markdown",
   "id": "64ff451e",
   "metadata": {},
   "source": [
    "## map_with_mouse"
   ]
  },
  {
   "cell_type": "code",
   "execution_count": null,
   "id": "344da7eb",
   "metadata": {
    "execution": {
     "iopub.execute_input": "2022-02-09T22:49:20.072427Z",
     "iopub.status.busy": "2022-02-09T22:49:20.071740Z",
     "iopub.status.idle": "2022-02-09T22:49:32.534764Z",
     "shell.execute_reply": "2022-02-09T22:49:32.534253Z"
    }
   },
   "outputs": [],
   "source": [
    "OnePiece.gene.map_with_mouse()"
   ]
  },
  {
   "cell_type": "code",
   "execution_count": null,
   "id": "c3b98547",
   "metadata": {
    "execution": {
     "iopub.execute_input": "2022-02-09T22:49:32.537178Z",
     "iopub.status.busy": "2022-02-09T22:49:32.536484Z",
     "iopub.status.idle": "2022-02-09T22:49:43.321796Z",
     "shell.execute_reply": "2022-02-09T22:49:43.321349Z"
    }
   },
   "outputs": [],
   "source": [
    "OnePiece.gene.map_with_mouse(; ho = \"human_to_mouse\")"
   ]
  },
  {
   "cell_type": "markdown",
   "id": "cfb03409",
   "metadata": {},
   "source": [
    "## rename"
   ]
  },
  {
   "cell_type": "code",
   "execution_count": null,
   "id": "e2b70674",
   "metadata": {
    "execution": {
     "iopub.execute_input": "2022-02-09T22:49:43.323824Z",
     "iopub.status.busy": "2022-02-09T22:49:43.323146Z",
     "iopub.status.idle": "2022-02-09T22:49:43.395555Z",
     "shell.execute_reply": "2022-02-09T22:49:43.395031Z"
    }
   },
   "outputs": [],
   "source": [
    "hg_ = string.(hg[!, \"symbol\"])\n",
    "\n",
    ";"
   ]
  },
  {
   "cell_type": "code",
   "execution_count": null,
   "id": "0dcb6a68",
   "metadata": {
    "execution": {
     "iopub.execute_input": "2022-02-09T22:49:43.397418Z",
     "iopub.status.busy": "2022-02-09T22:49:43.396837Z",
     "iopub.status.idle": "2022-02-09T22:50:03.796087Z",
     "shell.execute_reply": "2022-02-09T22:50:03.795587Z"
    }
   },
   "outputs": [],
   "source": [
    "na_, ma_ = OnePiece.gene.rename(hg_)"
   ]
  },
  {
   "cell_type": "code",
   "execution_count": null,
   "id": "9b31bde2",
   "metadata": {
    "execution": {
     "iopub.execute_input": "2022-02-09T22:50:03.797886Z",
     "iopub.status.busy": "2022-02-09T22:50:03.797370Z",
     "iopub.status.idle": "2022-02-09T22:50:04.664356Z",
     "shell.execute_reply": "2022-02-09T22:50:04.663778Z"
    }
   },
   "outputs": [],
   "source": [
    "ge_ = unique(skipmissing(en[!, \"Gene name\"]))\n",
    "\n",
    "na_, ma_ = OnePiece.gene.rename(ge_; mo = false, en = false)"
   ]
  },
  {
   "cell_type": "code",
   "execution_count": null,
   "id": "bb77a60e",
   "metadata": {
    "execution": {
     "iopub.execute_input": "2022-02-09T22:50:04.666543Z",
     "iopub.status.busy": "2022-02-09T22:50:04.665822Z",
     "iopub.status.idle": "2022-02-09T22:50:06.198999Z",
     "shell.execute_reply": "2022-02-09T22:50:06.198488Z"
    }
   },
   "outputs": [],
   "source": [
    "hg_gr = OnePiece.extension.dataframe.map_to_column(coalesce.(hg, \"?\"), [\"symbol\", \"gene_group\"])"
   ]
  },
  {
   "cell_type": "code",
   "execution_count": null,
   "id": "5f36e738",
   "metadata": {
    "execution": {
     "iopub.execute_input": "2022-02-09T22:50:06.200991Z",
     "iopub.status.busy": "2022-02-09T22:50:06.200411Z",
     "iopub.status.idle": "2022-02-09T22:50:06.340173Z",
     "shell.execute_reply": "2022-02-09T22:50:06.339776Z"
    }
   },
   "outputs": [],
   "source": [
    "println(join(unique([hg_gr[na] for na in na_[ma_ .== 1]]), \"\\n\"))"
   ]
  },
  {
   "cell_type": "code",
   "execution_count": null,
   "id": "5f70be28",
   "metadata": {
    "execution": {
     "iopub.execute_input": "2022-02-09T22:50:06.342017Z",
     "iopub.status.busy": "2022-02-09T22:50:06.341499Z",
     "iopub.status.idle": "2022-02-09T22:50:06.913056Z",
     "shell.execute_reply": "2022-02-09T22:50:06.912585Z"
    }
   },
   "outputs": [],
   "source": [
    "en_ty = OnePiece.extension.dataframe.map_to_column(en, [\"Gene name\", \"Gene type\"])\n",
    "\n",
    "println(join(unique([en_ty[na] for na in na_[ma_ .== 2]]), \"\\n\"))"
   ]
  }
 ],
 "metadata": {
  "@webio": {
   "lastCommId": "91a4c8b6c2984fc181f7c576ddc0aae3",
   "lastKernelId": "3d1a124c-896a-4b9a-a73d-8ff0662ed429"
  },
  "kernelspec": {
   "display_name": "Julia 1.7.2",
   "language": "julia",
   "name": "julia-1.7"
  },
  "language_info": {
   "file_extension": ".jl",
   "mimetype": "application/julia",
   "name": "julia",
   "version": "1.7.2"
  }
 },
 "nbformat": 4,
 "nbformat_minor": 5
}
