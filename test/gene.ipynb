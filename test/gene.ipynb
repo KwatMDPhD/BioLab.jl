{
 "cells": [
  {
   "cell_type": "code",
   "execution_count": null,
   "id": "017464da",
   "metadata": {
    "execution": {
     "iopub.execute_input": "2022-02-13T05:22:53.005337Z",
     "iopub.status.busy": "2022-02-13T05:22:52.674563Z",
     "iopub.status.idle": "2022-02-13T05:22:53.186175Z",
     "shell.execute_reply": "2022-02-13T05:22:53.185669Z"
    }
   },
   "outputs": [],
   "source": [
    "TE = joinpath(tempdir(), \"OnePiece.test\")\n",
    "\n",
    "if isdir(TE)\n",
    "\n",
    "    rm(TE, recursive = true)\n",
    "\n",
    "    println(\"Removed \", TE, \".\")\n",
    "\n",
    "end\n",
    "\n",
    "mkdir(TE)\n",
    "\n",
    "println(\"Made \", TE, \".\")"
   ]
  },
  {
   "cell_type": "code",
   "execution_count": null,
   "id": "34e4701e",
   "metadata": {
    "execution": {
     "iopub.execute_input": "2022-02-13T05:22:53.188001Z",
     "iopub.status.busy": "2022-02-13T05:22:53.187485Z",
     "iopub.status.idle": "2022-02-13T05:22:57.375720Z",
     "shell.execute_reply": "2022-02-13T05:22:57.375277Z"
    }
   },
   "outputs": [],
   "source": [
    "using OnePiece"
   ]
  },
  {
   "cell_type": "markdown",
   "id": "b92a3da9",
   "metadata": {},
   "source": [
    "---"
   ]
  },
  {
   "cell_type": "markdown",
   "id": "19d500c7",
   "metadata": {},
   "source": [
    "## read_hgnc"
   ]
  },
  {
   "cell_type": "code",
   "execution_count": null,
   "id": "31c67e64",
   "metadata": {
    "execution": {
     "iopub.execute_input": "2022-02-13T05:22:57.709181Z",
     "iopub.status.busy": "2022-02-13T05:22:57.377143Z",
     "iopub.status.idle": "2022-02-13T05:23:16.278320Z",
     "shell.execute_reply": "2022-02-13T05:23:16.277926Z"
    }
   },
   "outputs": [],
   "source": [
    "hg = OnePiece.gene.read_hgnc()\n",
    "\n",
    "size(hg)"
   ]
  },
  {
   "cell_type": "markdown",
   "id": "1e618da3",
   "metadata": {},
   "source": [
    "## read_ensembl"
   ]
  },
  {
   "cell_type": "code",
   "execution_count": null,
   "id": "cecc8625",
   "metadata": {
    "execution": {
     "iopub.execute_input": "2022-02-13T05:23:16.280196Z",
     "iopub.status.busy": "2022-02-13T05:23:16.279697Z",
     "iopub.status.idle": "2022-02-13T05:23:17.508811Z",
     "shell.execute_reply": "2022-02-13T05:23:17.508344Z"
    }
   },
   "outputs": [],
   "source": [
    "en = OnePiece.gene.read_ensembl()\n",
    "\n",
    "size(en)"
   ]
  },
  {
   "cell_type": "code",
   "execution_count": null,
   "id": "2704ed42",
   "metadata": {
    "execution": {
     "iopub.execute_input": "2022-02-13T05:23:17.510703Z",
     "iopub.status.busy": "2022-02-13T05:23:17.510132Z",
     "iopub.status.idle": "2022-02-13T05:23:18.282271Z",
     "shell.execute_reply": "2022-02-13T05:23:18.281817Z"
    }
   },
   "outputs": [],
   "source": [
    "en = OnePiece.gene.read_ensembl(; or = \"mouse\")\n",
    "\n",
    "size(en)"
   ]
  },
  {
   "cell_type": "markdown",
   "id": "067fadb9",
   "metadata": {},
   "source": [
    "## map_to_hgnc_gene"
   ]
  },
  {
   "cell_type": "code",
   "execution_count": null,
   "id": "0ac96217",
   "metadata": {
    "execution": {
     "iopub.execute_input": "2022-02-13T05:23:18.284221Z",
     "iopub.status.busy": "2022-02-13T05:23:18.283653Z",
     "iopub.status.idle": "2022-02-13T05:23:21.153492Z",
     "shell.execute_reply": "2022-02-13T05:23:21.153035Z"
    }
   },
   "outputs": [],
   "source": [
    "st_hg = OnePiece.gene.map_to_hgnc_gene()"
   ]
  },
  {
   "cell_type": "markdown",
   "id": "d8ed8dfc",
   "metadata": {},
   "source": [
    "## map_to_ensembl_gene"
   ]
  },
  {
   "cell_type": "code",
   "execution_count": null,
   "id": "b1068615",
   "metadata": {
    "execution": {
     "iopub.execute_input": "2022-02-13T05:23:21.155444Z",
     "iopub.status.busy": "2022-02-13T05:23:21.154874Z",
     "iopub.status.idle": "2022-02-13T05:23:29.361587Z",
     "shell.execute_reply": "2022-02-13T05:23:29.361205Z"
    }
   },
   "outputs": [],
   "source": [
    "st_en = OnePiece.gene.map_to_ensembl_gene()"
   ]
  },
  {
   "cell_type": "markdown",
   "id": "64ff451e",
   "metadata": {},
   "source": [
    "## map_with_mouse"
   ]
  },
  {
   "cell_type": "code",
   "execution_count": null,
   "id": "344da7eb",
   "metadata": {
    "execution": {
     "iopub.execute_input": "2022-02-13T05:23:29.363497Z",
     "iopub.status.busy": "2022-02-13T05:23:29.362979Z",
     "iopub.status.idle": "2022-02-13T05:23:40.772132Z",
     "shell.execute_reply": "2022-02-13T05:23:40.771722Z"
    }
   },
   "outputs": [],
   "source": [
    "OnePiece.gene.map_with_mouse()"
   ]
  },
  {
   "cell_type": "code",
   "execution_count": null,
   "id": "c3b98547",
   "metadata": {
    "execution": {
     "iopub.execute_input": "2022-02-13T05:23:40.773938Z",
     "iopub.status.busy": "2022-02-13T05:23:40.773442Z",
     "iopub.status.idle": "2022-02-13T05:23:50.785307Z",
     "shell.execute_reply": "2022-02-13T05:23:50.784787Z"
    }
   },
   "outputs": [],
   "source": [
    "OnePiece.gene.map_with_mouse(; ho = \"human_to_mouse\")"
   ]
  },
  {
   "cell_type": "markdown",
   "id": "cfb03409",
   "metadata": {},
   "source": [
    "## rename"
   ]
  },
  {
   "cell_type": "code",
   "execution_count": null,
   "id": "e2b70674",
   "metadata": {
    "execution": {
     "iopub.execute_input": "2022-02-13T05:23:50.787241Z",
     "iopub.status.busy": "2022-02-13T05:23:50.786736Z",
     "iopub.status.idle": "2022-02-13T05:23:50.835691Z",
     "shell.execute_reply": "2022-02-13T05:23:50.835263Z"
    }
   },
   "outputs": [],
   "source": [
    "hg_ = string.(hg[!, \"symbol\"])\n",
    "\n",
    ";"
   ]
  },
  {
   "cell_type": "code",
   "execution_count": null,
   "id": "0dcb6a68",
   "metadata": {
    "execution": {
     "iopub.execute_input": "2022-02-13T05:23:50.837820Z",
     "iopub.status.busy": "2022-02-13T05:23:50.837231Z",
     "iopub.status.idle": "2022-02-13T05:24:10.130983Z",
     "shell.execute_reply": "2022-02-13T05:24:10.130599Z"
    }
   },
   "outputs": [],
   "source": [
    "na_, ma_ = OnePiece.gene.rename(hg_)"
   ]
  },
  {
   "cell_type": "code",
   "execution_count": null,
   "id": "9b31bde2",
   "metadata": {
    "execution": {
     "iopub.execute_input": "2022-02-13T05:24:10.132938Z",
     "iopub.status.busy": "2022-02-13T05:24:10.132432Z",
     "iopub.status.idle": "2022-02-13T05:24:10.887919Z",
     "shell.execute_reply": "2022-02-13T05:24:10.887451Z"
    }
   },
   "outputs": [],
   "source": [
    "ge_ = unique(skipmissing(en[!, \"Gene name\"]))\n",
    "\n",
    "na_, ma_ = OnePiece.gene.rename(ge_; mo = false, en = false)"
   ]
  },
  {
   "cell_type": "code",
   "execution_count": null,
   "id": "bb77a60e",
   "metadata": {
    "execution": {
     "iopub.execute_input": "2022-02-13T05:24:10.889922Z",
     "iopub.status.busy": "2022-02-13T05:24:10.889244Z",
     "iopub.status.idle": "2022-02-13T05:24:12.219644Z",
     "shell.execute_reply": "2022-02-13T05:24:12.219256Z"
    }
   },
   "outputs": [],
   "source": [
    "hg_gr = OnePiece.extension.dataframe.map_to_column(coalesce.(hg, \"?\"), [\"symbol\", \"gene_group\"])"
   ]
  },
  {
   "cell_type": "code",
   "execution_count": null,
   "id": "5f36e738",
   "metadata": {
    "execution": {
     "iopub.execute_input": "2022-02-13T05:24:12.221517Z",
     "iopub.status.busy": "2022-02-13T05:24:12.221028Z",
     "iopub.status.idle": "2022-02-13T05:24:12.326437Z",
     "shell.execute_reply": "2022-02-13T05:24:12.326059Z"
    }
   },
   "outputs": [],
   "source": [
    "println(join(unique([hg_gr[na] for na in na_[ma_ .== 1]]), \"\\n\"))"
   ]
  },
  {
   "cell_type": "code",
   "execution_count": null,
   "id": "5f70be28",
   "metadata": {
    "execution": {
     "iopub.execute_input": "2022-02-13T05:24:12.328259Z",
     "iopub.status.busy": "2022-02-13T05:24:12.327754Z",
     "iopub.status.idle": "2022-02-13T05:24:12.810059Z",
     "shell.execute_reply": "2022-02-13T05:24:12.809648Z"
    }
   },
   "outputs": [],
   "source": [
    "en_ty = OnePiece.extension.dataframe.map_to_column(en, [\"Gene name\", \"Gene type\"])\n",
    "\n",
    "println(join(unique([en_ty[na] for na in na_[ma_ .== 2]]), \"\\n\"))"
   ]
  },
  {
   "cell_type": "markdown",
   "id": "3f396855",
   "metadata": {},
   "source": [
    "---"
   ]
  },
  {
   "cell_type": "code",
   "execution_count": null,
   "id": "b4af2023",
   "metadata": {
    "execution": {
     "iopub.execute_input": "2022-02-13T05:24:12.812068Z",
     "iopub.status.busy": "2022-02-13T05:24:12.811445Z",
     "iopub.status.idle": "2022-02-13T05:24:12.813886Z",
     "shell.execute_reply": "2022-02-13T05:24:12.813450Z"
    }
   },
   "outputs": [],
   "source": [
    "if isdir(TE)\n",
    "\n",
    "    rm(TE, recursive = true)\n",
    "\n",
    "    println(\"Removed \", TE, \".\")\n",
    "\n",
    "end"
   ]
  }
 ],
 "metadata": {
  "kernelspec": {
   "display_name": "Julia 1.7.2",
   "language": "julia",
   "name": "julia-1.7"
  },
  "language_info": {
   "file_extension": ".jl",
   "mimetype": "application/julia",
   "name": "julia",
   "version": "1.7.2"
  }
 },
 "nbformat": 4,
 "nbformat_minor": 5
}
