{
 "cells": [
  {
   "cell_type": "code",
   "execution_count": null,
   "id": "017464da",
   "metadata": {
    "execution": {
     "iopub.execute_input": "2022-02-13T23:00:08.159963Z",
     "iopub.status.busy": "2022-02-13T23:00:07.826824Z",
     "iopub.status.idle": "2022-02-13T23:00:08.341661Z",
     "shell.execute_reply": "2022-02-13T23:00:08.341172Z"
    }
   },
   "outputs": [],
   "source": [
    "TE = joinpath(tempdir(), \"OnePiece.test\")\n",
    "\n",
    "if isdir(TE)\n",
    "\n",
    "    rm(TE, recursive = true)\n",
    "\n",
    "    println(\"Removed \", TE, \".\")\n",
    "\n",
    "end\n",
    "\n",
    "mkdir(TE)\n",
    "\n",
    "println(\"Made \", TE, \".\")"
   ]
  },
  {
   "cell_type": "code",
   "execution_count": null,
   "id": "34e4701e",
   "metadata": {
    "execution": {
     "iopub.execute_input": "2022-02-13T23:00:08.343692Z",
     "iopub.status.busy": "2022-02-13T23:00:08.343187Z",
     "iopub.status.idle": "2022-02-13T23:00:12.276164Z",
     "shell.execute_reply": "2022-02-13T23:00:12.275677Z"
    }
   },
   "outputs": [],
   "source": [
    "using OnePiece"
   ]
  },
  {
   "cell_type": "markdown",
   "id": "b92a3da9",
   "metadata": {},
   "source": [
    "---"
   ]
  },
  {
   "cell_type": "markdown",
   "id": "19d500c7",
   "metadata": {},
   "source": [
    "## read_hgnc"
   ]
  },
  {
   "cell_type": "code",
   "execution_count": null,
   "id": "31c67e64",
   "metadata": {
    "execution": {
     "iopub.execute_input": "2022-02-13T23:00:12.567248Z",
     "iopub.status.busy": "2022-02-13T23:00:12.277542Z",
     "iopub.status.idle": "2022-02-13T23:00:30.298802Z",
     "shell.execute_reply": "2022-02-13T23:00:30.298398Z"
    }
   },
   "outputs": [],
   "source": [
    "hg = OnePiece.gene.read_hgnc()\n",
    "\n",
    "size(hg)"
   ]
  },
  {
   "cell_type": "markdown",
   "id": "1e618da3",
   "metadata": {},
   "source": [
    "## read_ensembl"
   ]
  },
  {
   "cell_type": "code",
   "execution_count": null,
   "id": "cecc8625",
   "metadata": {
    "execution": {
     "iopub.execute_input": "2022-02-13T23:00:30.300950Z",
     "iopub.status.busy": "2022-02-13T23:00:30.300379Z",
     "iopub.status.idle": "2022-02-13T23:00:31.328840Z",
     "shell.execute_reply": "2022-02-13T23:00:31.328448Z"
    }
   },
   "outputs": [],
   "source": [
    "en = OnePiece.gene.read_ensembl()\n",
    "\n",
    "size(en)"
   ]
  },
  {
   "cell_type": "code",
   "execution_count": null,
   "id": "2704ed42",
   "metadata": {
    "execution": {
     "iopub.execute_input": "2022-02-13T23:00:31.330746Z",
     "iopub.status.busy": "2022-02-13T23:00:31.330238Z",
     "iopub.status.idle": "2022-02-13T23:00:31.999839Z",
     "shell.execute_reply": "2022-02-13T23:00:31.999443Z"
    }
   },
   "outputs": [],
   "source": [
    "en = OnePiece.gene.read_ensembl(; or = \"mouse\")\n",
    "\n",
    "size(en)"
   ]
  },
  {
   "cell_type": "markdown",
   "id": "067fadb9",
   "metadata": {},
   "source": [
    "## map_to_hgnc_gene"
   ]
  },
  {
   "cell_type": "code",
   "execution_count": null,
   "id": "0ac96217",
   "metadata": {
    "execution": {
     "iopub.execute_input": "2022-02-13T23:00:32.002084Z",
     "iopub.status.busy": "2022-02-13T23:00:32.001565Z",
     "iopub.status.idle": "2022-02-13T23:00:34.475195Z",
     "shell.execute_reply": "2022-02-13T23:00:34.474809Z"
    }
   },
   "outputs": [],
   "source": [
    "st_hg = OnePiece.gene.map_to_hgnc_gene()"
   ]
  },
  {
   "cell_type": "markdown",
   "id": "d8ed8dfc",
   "metadata": {},
   "source": [
    "## map_to_ensembl_gene"
   ]
  },
  {
   "cell_type": "code",
   "execution_count": null,
   "id": "b1068615",
   "metadata": {
    "execution": {
     "iopub.execute_input": "2022-02-13T23:00:34.477388Z",
     "iopub.status.busy": "2022-02-13T23:00:34.476851Z",
     "iopub.status.idle": "2022-02-13T23:00:42.402853Z",
     "shell.execute_reply": "2022-02-13T23:00:42.402479Z"
    }
   },
   "outputs": [],
   "source": [
    "st_en = OnePiece.gene.map_to_ensembl_gene()"
   ]
  },
  {
   "cell_type": "markdown",
   "id": "64ff451e",
   "metadata": {},
   "source": [
    "## map_with_mouse"
   ]
  },
  {
   "cell_type": "code",
   "execution_count": null,
   "id": "344da7eb",
   "metadata": {
    "execution": {
     "iopub.execute_input": "2022-02-13T23:00:42.405086Z",
     "iopub.status.busy": "2022-02-13T23:00:42.404575Z",
     "iopub.status.idle": "2022-02-13T23:00:53.660889Z",
     "shell.execute_reply": "2022-02-13T23:00:53.660474Z"
    }
   },
   "outputs": [],
   "source": [
    "OnePiece.gene.map_with_mouse()"
   ]
  },
  {
   "cell_type": "code",
   "execution_count": null,
   "id": "c3b98547",
   "metadata": {
    "execution": {
     "iopub.execute_input": "2022-02-13T23:00:53.662727Z",
     "iopub.status.busy": "2022-02-13T23:00:53.662216Z",
     "iopub.status.idle": "2022-02-13T23:01:03.696829Z",
     "shell.execute_reply": "2022-02-13T23:01:03.696461Z"
    }
   },
   "outputs": [],
   "source": [
    "OnePiece.gene.map_with_mouse(; ho = \"human_to_mouse\")"
   ]
  },
  {
   "cell_type": "markdown",
   "id": "cfb03409",
   "metadata": {},
   "source": [
    "## rename"
   ]
  },
  {
   "cell_type": "code",
   "execution_count": null,
   "id": "e2b70674",
   "metadata": {
    "execution": {
     "iopub.execute_input": "2022-02-13T23:01:03.698992Z",
     "iopub.status.busy": "2022-02-13T23:01:03.698484Z",
     "iopub.status.idle": "2022-02-13T23:01:03.747143Z",
     "shell.execute_reply": "2022-02-13T23:01:03.746698Z"
    }
   },
   "outputs": [],
   "source": [
    "hg_ = string.(hg[!, \"symbol\"])\n",
    "\n",
    ";"
   ]
  },
  {
   "cell_type": "code",
   "execution_count": null,
   "id": "0dcb6a68",
   "metadata": {
    "execution": {
     "iopub.execute_input": "2022-02-13T23:01:03.748987Z",
     "iopub.status.busy": "2022-02-13T23:01:03.748484Z",
     "iopub.status.idle": "2022-02-13T23:01:22.697813Z",
     "shell.execute_reply": "2022-02-13T23:01:22.697453Z"
    }
   },
   "outputs": [],
   "source": [
    "na_, ma_ = OnePiece.gene.rename(hg_)"
   ]
  },
  {
   "cell_type": "code",
   "execution_count": null,
   "id": "9b31bde2",
   "metadata": {
    "execution": {
     "iopub.execute_input": "2022-02-13T23:01:22.699954Z",
     "iopub.status.busy": "2022-02-13T23:01:22.699389Z",
     "iopub.status.idle": "2022-02-13T23:01:23.457643Z",
     "shell.execute_reply": "2022-02-13T23:01:23.457171Z"
    }
   },
   "outputs": [],
   "source": [
    "ge_ = unique(skipmissing(en[!, \"Gene name\"]))\n",
    "\n",
    "na_, ma_ = OnePiece.gene.rename(ge_; mo = false, en = false)"
   ]
  },
  {
   "cell_type": "code",
   "execution_count": null,
   "id": "bb77a60e",
   "metadata": {
    "execution": {
     "iopub.execute_input": "2022-02-13T23:01:23.459596Z",
     "iopub.status.busy": "2022-02-13T23:01:23.459009Z",
     "iopub.status.idle": "2022-02-13T23:01:24.778500Z",
     "shell.execute_reply": "2022-02-13T23:01:24.778112Z"
    }
   },
   "outputs": [],
   "source": [
    "hg_gr = OnePiece.extension.dataframe.map_to_column(coalesce.(hg, \"?\"), [\"symbol\", \"gene_group\"])"
   ]
  },
  {
   "cell_type": "code",
   "execution_count": null,
   "id": "5f36e738",
   "metadata": {
    "execution": {
     "iopub.execute_input": "2022-02-13T23:01:24.780329Z",
     "iopub.status.busy": "2022-02-13T23:01:24.779833Z",
     "iopub.status.idle": "2022-02-13T23:01:24.888543Z",
     "shell.execute_reply": "2022-02-13T23:01:24.888195Z"
    }
   },
   "outputs": [],
   "source": [
    "println(join(unique([hg_gr[na] for na in na_[ma_ .== 1]]), \"\\n\"))"
   ]
  },
  {
   "cell_type": "code",
   "execution_count": null,
   "id": "5f70be28",
   "metadata": {
    "execution": {
     "iopub.execute_input": "2022-02-13T23:01:24.890361Z",
     "iopub.status.busy": "2022-02-13T23:01:24.889854Z",
     "iopub.status.idle": "2022-02-13T23:01:25.367588Z",
     "shell.execute_reply": "2022-02-13T23:01:25.367177Z"
    }
   },
   "outputs": [],
   "source": [
    "en_ty = OnePiece.extension.dataframe.map_to_column(en, [\"Gene name\", \"Gene type\"])\n",
    "\n",
    "println(join(unique([en_ty[na] for na in na_[ma_ .== 2]]), \"\\n\"))"
   ]
  },
  {
   "cell_type": "markdown",
   "id": "3f396855",
   "metadata": {},
   "source": [
    "---"
   ]
  },
  {
   "cell_type": "code",
   "execution_count": null,
   "id": "b4af2023",
   "metadata": {
    "execution": {
     "iopub.execute_input": "2022-02-13T23:01:25.369570Z",
     "iopub.status.busy": "2022-02-13T23:01:25.368987Z",
     "iopub.status.idle": "2022-02-13T23:01:25.371452Z",
     "shell.execute_reply": "2022-02-13T23:01:25.371013Z"
    }
   },
   "outputs": [],
   "source": [
    "if isdir(TE)\n",
    "\n",
    "    rm(TE, recursive = true)\n",
    "\n",
    "    println(\"Removed \", TE, \".\")\n",
    "\n",
    "end"
   ]
  }
 ],
 "metadata": {
  "kernelspec": {
   "display_name": "Julia 1.7.2",
   "language": "julia",
   "name": "julia-1.7"
  },
  "language_info": {
   "file_extension": ".jl",
   "mimetype": "application/julia",
   "name": "julia",
   "version": "1.7.2"
  }
 },
 "nbformat": 4,
 "nbformat_minor": 5
}
