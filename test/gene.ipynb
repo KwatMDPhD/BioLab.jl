{
 "cells": [
  {
   "cell_type": "code",
   "execution_count": null,
   "id": "baf12f00",
   "metadata": {
    "execution": {
     "iopub.execute_input": "2022-08-17T20:03:41.789000Z",
     "iopub.status.busy": "2022-08-17T20:03:41.390000Z",
     "iopub.status.idle": "2022-08-17T20:03:47.219000Z",
     "shell.execute_reply": "2022-08-17T20:03:47.160000Z"
    }
   },
   "outputs": [],
   "source": [
    "using OnePiece"
   ]
  },
  {
   "cell_type": "markdown",
   "id": "aef3bb6e",
   "metadata": {},
   "source": [
    "## map_from_mouse"
   ]
  },
  {
   "cell_type": "code",
   "execution_count": null,
   "id": "abadc491",
   "metadata": {
    "execution": {
     "iopub.execute_input": "2022-08-17T20:03:47.874000Z",
     "iopub.status.busy": "2022-08-17T20:03:47.222000Z",
     "iopub.status.idle": "2022-08-17T20:04:01.538000Z",
     "shell.execute_reply": "2022-08-17T20:04:01.538000Z"
    }
   },
   "outputs": [],
   "source": [
    "OnePiece.dict.print(OnePiece.gene.map_from_mouse(), n_pa = 3)"
   ]
  },
  {
   "cell_type": "markdown",
   "id": "e58c0d0b",
   "metadata": {},
   "source": [
    "## map_to_ensembl"
   ]
  },
  {
   "cell_type": "code",
   "execution_count": null,
   "id": "1819ebb5",
   "metadata": {
    "execution": {
     "iopub.execute_input": "2022-08-17T20:04:01.541000Z",
     "iopub.status.busy": "2022-08-17T20:04:01.541000Z",
     "iopub.status.idle": "2022-08-17T20:04:11.706000Z",
     "shell.execute_reply": "2022-08-17T20:04:11.706000Z"
    }
   },
   "outputs": [],
   "source": [
    "OnePiece.dict.print(OnePiece.gene.map_to_ensembl(), n_pa = 3)"
   ]
  },
  {
   "cell_type": "markdown",
   "id": "5aeb9979",
   "metadata": {},
   "source": [
    "## map_to_hgnc"
   ]
  },
  {
   "cell_type": "code",
   "execution_count": null,
   "id": "648177cb",
   "metadata": {
    "execution": {
     "iopub.execute_input": "2022-08-17T20:04:11.710000Z",
     "iopub.status.busy": "2022-08-17T20:04:11.710000Z",
     "iopub.status.idle": "2022-08-17T20:04:12.902000Z",
     "shell.execute_reply": "2022-08-17T20:04:12.902000Z"
    }
   },
   "outputs": [],
   "source": [
    "OnePiece.dict.print(OnePiece.gene.map_to_hgnc(), n_pa = 3)"
   ]
  },
  {
   "cell_type": "markdown",
   "id": "7d14bc76",
   "metadata": {},
   "source": [
    "## read_ensembl"
   ]
  },
  {
   "cell_type": "code",
   "execution_count": null,
   "id": "9dc290fb",
   "metadata": {
    "execution": {
     "iopub.execute_input": "2022-08-17T20:04:12.924000Z",
     "iopub.status.busy": "2022-08-17T20:04:12.924000Z",
     "iopub.status.idle": "2022-08-17T20:04:16.119000Z",
     "shell.execute_reply": "2022-08-17T20:04:16.119000Z"
    }
   },
   "outputs": [],
   "source": [
    "en = OnePiece.gene.read_ensembl()\n",
    "\n",
    "OnePiece.data_frame.print(en)"
   ]
  },
  {
   "cell_type": "markdown",
   "id": "7c0c1b64",
   "metadata": {},
   "source": [
    "## read_hgnc"
   ]
  },
  {
   "cell_type": "code",
   "execution_count": null,
   "id": "687a2613",
   "metadata": {
    "execution": {
     "iopub.execute_input": "2022-08-17T20:04:16.122000Z",
     "iopub.status.busy": "2022-08-17T20:04:16.122000Z",
     "iopub.status.idle": "2022-08-17T20:04:16.473000Z",
     "shell.execute_reply": "2022-08-17T20:04:16.472000Z"
    }
   },
   "outputs": [],
   "source": [
    "hg = OnePiece.gene.read_hgnc()\n",
    "\n",
    "OnePiece.data_frame.print(hg)"
   ]
  },
  {
   "cell_type": "markdown",
   "id": "d977a08d",
   "metadata": {},
   "source": [
    "## rename"
   ]
  },
  {
   "cell_type": "code",
   "execution_count": null,
   "id": "44d3683b",
   "metadata": {
    "execution": {
     "iopub.execute_input": "2022-08-17T20:04:16.478000Z",
     "iopub.status.busy": "2022-08-17T20:04:16.478000Z",
     "iopub.status.idle": "2022-08-17T20:04:18.155000Z",
     "shell.execute_reply": "2022-08-17T20:04:18.154000Z"
    }
   },
   "outputs": [],
   "source": [
    "na_, ma_ = OnePiece.gene.rename(unique(skipmissing(en[!, \"Gene name\"])), en = false, mo = false)"
   ]
  },
  {
   "cell_type": "code",
   "execution_count": null,
   "id": "1472bc79",
   "metadata": {
    "execution": {
     "iopub.execute_input": "2022-08-17T20:04:18.158000Z",
     "iopub.status.busy": "2022-08-17T20:04:18.158000Z",
     "iopub.status.idle": "2022-08-17T20:04:26.547000Z",
     "shell.execute_reply": "2022-08-17T20:04:26.547000Z"
    }
   },
   "outputs": [],
   "source": [
    "na_, ma_ = OnePiece.gene.rename(unique(skipmissing(hg[!, \"symbol\"])), hg = false, mo = false)"
   ]
  }
 ],
 "metadata": {
  "@webio": {
   "lastCommId": null,
   "lastKernelId": null
  },
  "kernelspec": {
   "display_name": "Julia 1.7.3",
   "language": "julia",
   "name": "julia-1.7"
  },
  "language_info": {
   "file_extension": ".jl",
   "mimetype": "application/julia",
   "name": "julia",
   "version": "1.7.3"
  }
 },
 "nbformat": 4,
 "nbformat_minor": 5
}
