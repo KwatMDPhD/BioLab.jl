{
 "cells": [
  {
   "cell_type": "code",
   "execution_count": null,
   "id": "34e4701e",
   "metadata": {
    "execution": {
     "iopub.execute_input": "2022-02-09T05:38:59.897041Z",
     "iopub.status.busy": "2022-02-09T05:38:59.455971Z",
     "iopub.status.idle": "2022-02-09T05:39:01.014881Z",
     "shell.execute_reply": "2022-02-09T05:39:01.014299Z"
    }
   },
   "outputs": [],
   "source": [
    "using Revise\n",
    "using BenchmarkTools"
   ]
  },
  {
   "cell_type": "code",
   "execution_count": null,
   "id": "23b98853",
   "metadata": {
    "execution": {
     "iopub.execute_input": "2022-02-09T05:39:01.016776Z",
     "iopub.status.busy": "2022-02-09T05:39:01.016190Z",
     "iopub.status.idle": "2022-02-09T05:39:13.002981Z",
     "shell.execute_reply": "2022-02-09T05:39:13.002288Z"
    }
   },
   "outputs": [],
   "source": [
    "using DataFrames\n",
    "\n",
    "using OnePiece"
   ]
  },
  {
   "cell_type": "markdown",
   "id": "19d500c7",
   "metadata": {},
   "source": [
    "## read_hgnc"
   ]
  },
  {
   "cell_type": "code",
   "execution_count": null,
   "id": "31c67e64",
   "metadata": {
    "execution": {
     "iopub.execute_input": "2022-02-09T05:39:14.891669Z",
     "iopub.status.busy": "2022-02-09T05:39:13.004783Z",
     "iopub.status.idle": "2022-02-09T05:39:42.353109Z",
     "shell.execute_reply": "2022-02-09T05:39:42.352660Z"
    }
   },
   "outputs": [],
   "source": [
    "hg = OnePiece.gene.read_hgnc()\n",
    "\n",
    "size(hg)"
   ]
  },
  {
   "cell_type": "markdown",
   "id": "1e618da3",
   "metadata": {},
   "source": [
    "## read_ensembl"
   ]
  },
  {
   "cell_type": "code",
   "execution_count": null,
   "id": "cecc8625",
   "metadata": {
    "execution": {
     "iopub.execute_input": "2022-02-09T05:39:42.355016Z",
     "iopub.status.busy": "2022-02-09T05:39:42.354518Z",
     "iopub.status.idle": "2022-02-09T05:39:43.602737Z",
     "shell.execute_reply": "2022-02-09T05:39:43.602325Z"
    }
   },
   "outputs": [],
   "source": [
    "en = OnePiece.gene.read_ensembl()\n",
    "\n",
    "size(en)"
   ]
  },
  {
   "cell_type": "code",
   "execution_count": null,
   "id": "2704ed42",
   "metadata": {
    "execution": {
     "iopub.execute_input": "2022-02-09T05:39:43.604499Z",
     "iopub.status.busy": "2022-02-09T05:39:43.603834Z",
     "iopub.status.idle": "2022-02-09T05:39:44.433491Z",
     "shell.execute_reply": "2022-02-09T05:39:44.433069Z"
    }
   },
   "outputs": [],
   "source": [
    "en = OnePiece.gene.read_ensembl(; or = \"mouse\")\n",
    "\n",
    "size(en)"
   ]
  },
  {
   "cell_type": "markdown",
   "id": "39171df7",
   "metadata": {},
   "source": [
    "## map_to_column"
   ]
  },
  {
   "cell_type": "code",
   "execution_count": null,
   "id": "1db03a1e",
   "metadata": {
    "execution": {
     "iopub.execute_input": "2022-02-09T05:39:44.435457Z",
     "iopub.status.busy": "2022-02-09T05:39:44.434776Z",
     "iopub.status.idle": "2022-02-09T05:39:48.144394Z",
     "shell.execute_reply": "2022-02-09T05:39:48.143864Z"
    }
   },
   "outputs": [],
   "source": [
    "hg_gr = OnePiece.gene.map_to_column(coalesce.(hg, \"?\"), [\"symbol\", \"gene_group\"])"
   ]
  },
  {
   "cell_type": "markdown",
   "id": "067fadb9",
   "metadata": {},
   "source": [
    "## map_to_hgnc_gene"
   ]
  },
  {
   "cell_type": "code",
   "execution_count": null,
   "id": "0ac96217",
   "metadata": {
    "execution": {
     "iopub.execute_input": "2022-02-09T05:39:48.146393Z",
     "iopub.status.busy": "2022-02-09T05:39:48.145807Z",
     "iopub.status.idle": "2022-02-09T05:39:49.481950Z",
     "shell.execute_reply": "2022-02-09T05:39:49.481471Z"
    }
   },
   "outputs": [],
   "source": [
    "st_hg = OnePiece.gene.map_to_hgnc_gene()"
   ]
  },
  {
   "cell_type": "markdown",
   "id": "d8ed8dfc",
   "metadata": {},
   "source": [
    "## map_to_ensembl_gene"
   ]
  },
  {
   "cell_type": "code",
   "execution_count": null,
   "id": "b1068615",
   "metadata": {
    "execution": {
     "iopub.execute_input": "2022-02-09T05:39:49.484012Z",
     "iopub.status.busy": "2022-02-09T05:39:49.483424Z",
     "iopub.status.idle": "2022-02-09T05:39:57.952141Z",
     "shell.execute_reply": "2022-02-09T05:39:57.951746Z"
    }
   },
   "outputs": [],
   "source": [
    "st_en = OnePiece.gene.map_to_ensembl_gene()"
   ]
  },
  {
   "cell_type": "markdown",
   "id": "64ff451e",
   "metadata": {},
   "source": [
    "## map_with_mouse"
   ]
  },
  {
   "cell_type": "code",
   "execution_count": null,
   "id": "344da7eb",
   "metadata": {
    "execution": {
     "iopub.execute_input": "2022-02-09T05:39:57.953903Z",
     "iopub.status.busy": "2022-02-09T05:39:57.953385Z",
     "iopub.status.idle": "2022-02-09T05:40:10.881733Z",
     "shell.execute_reply": "2022-02-09T05:40:10.881182Z"
    }
   },
   "outputs": [],
   "source": [
    "OnePiece.gene.map_with_mouse()"
   ]
  },
  {
   "cell_type": "code",
   "execution_count": null,
   "id": "c3b98547",
   "metadata": {
    "execution": {
     "iopub.execute_input": "2022-02-09T05:40:10.883698Z",
     "iopub.status.busy": "2022-02-09T05:40:10.883060Z",
     "iopub.status.idle": "2022-02-09T05:40:22.355700Z",
     "shell.execute_reply": "2022-02-09T05:40:22.355231Z"
    }
   },
   "outputs": [],
   "source": [
    "OnePiece.gene.map_with_mouse(; ho = \"human_to_mouse\")"
   ]
  },
  {
   "cell_type": "markdown",
   "id": "cfb03409",
   "metadata": {},
   "source": [
    "## rename"
   ]
  },
  {
   "cell_type": "code",
   "execution_count": null,
   "id": "e2b70674",
   "metadata": {
    "execution": {
     "iopub.execute_input": "2022-02-09T05:40:22.357595Z",
     "iopub.status.busy": "2022-02-09T05:40:22.357011Z",
     "iopub.status.idle": "2022-02-09T05:40:22.423116Z",
     "shell.execute_reply": "2022-02-09T05:40:22.422666Z"
    }
   },
   "outputs": [],
   "source": [
    "hg_ = string.(hg[!, \"symbol\"])\n",
    "\n",
    ";"
   ]
  },
  {
   "cell_type": "code",
   "execution_count": null,
   "id": "0dcb6a68",
   "metadata": {
    "execution": {
     "iopub.execute_input": "2022-02-09T05:40:22.424956Z",
     "iopub.status.busy": "2022-02-09T05:40:22.424378Z",
     "iopub.status.idle": "2022-02-09T05:40:43.183628Z",
     "shell.execute_reply": "2022-02-09T05:40:43.183161Z"
    }
   },
   "outputs": [],
   "source": [
    "na_, ma_ = OnePiece.gene.rename(hg_)"
   ]
  },
  {
   "cell_type": "code",
   "execution_count": null,
   "id": "9b31bde2",
   "metadata": {
    "execution": {
     "iopub.execute_input": "2022-02-09T05:40:43.185519Z",
     "iopub.status.busy": "2022-02-09T05:40:43.184933Z",
     "iopub.status.idle": "2022-02-09T05:40:43.834709Z",
     "shell.execute_reply": "2022-02-09T05:40:43.834250Z"
    }
   },
   "outputs": [],
   "source": [
    "ge_ = unique(skipmissing(en[!, \"Gene name\"]))\n",
    "\n",
    "na_, ma_ = OnePiece.gene.rename(ge_; mo = false, en = false)"
   ]
  },
  {
   "cell_type": "code",
   "execution_count": null,
   "id": "5f36e738",
   "metadata": {
    "execution": {
     "iopub.execute_input": "2022-02-09T05:40:43.836647Z",
     "iopub.status.busy": "2022-02-09T05:40:43.836071Z",
     "iopub.status.idle": "2022-02-09T05:40:43.984171Z",
     "shell.execute_reply": "2022-02-09T05:40:43.983775Z"
    }
   },
   "outputs": [],
   "source": [
    "println(join(unique([hg_gr[na] for na in na_[ma_ .== 1]]), \"\\n\"))"
   ]
  },
  {
   "cell_type": "code",
   "execution_count": null,
   "id": "5f70be28",
   "metadata": {
    "execution": {
     "iopub.execute_input": "2022-02-09T05:40:43.985994Z",
     "iopub.status.busy": "2022-02-09T05:40:43.985399Z",
     "iopub.status.idle": "2022-02-09T05:40:44.903581Z",
     "shell.execute_reply": "2022-02-09T05:40:44.903128Z"
    }
   },
   "outputs": [],
   "source": [
    "en_ty = OnePiece.gene.map_to_column(en, [\"Gene name\", \"Gene type\"])\n",
    "\n",
    "println(join(unique([en_ty[na] for na in na_[ma_ .== 2]]), \"\\n\"))"
   ]
  }
 ],
 "metadata": {
  "@webio": {
   "lastCommId": null,
   "lastKernelId": null
  },
  "kernelspec": {
   "display_name": "Julia 1.7.1",
   "language": "julia",
   "name": "julia-1.7"
  },
  "language_info": {
   "file_extension": ".jl",
   "mimetype": "application/julia",
   "name": "julia",
   "version": "1.7.2"
  }
 },
 "nbformat": 4,
 "nbformat_minor": 5
}
