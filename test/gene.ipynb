{
 "cells": [
  {
   "cell_type": "code",
   "execution_count": null,
   "id": "34e4701e",
   "metadata": {
    "execution": {
     "iopub.execute_input": "2022-02-09T02:43:37.610071Z",
     "iopub.status.busy": "2022-02-09T02:43:37.211663Z",
     "iopub.status.idle": "2022-02-09T02:43:38.641546Z",
     "shell.execute_reply": "2022-02-09T02:43:38.640962Z"
    }
   },
   "outputs": [],
   "source": [
    "using Revise\n",
    "using BenchmarkTools"
   ]
  },
  {
   "cell_type": "code",
   "execution_count": null,
   "id": "23b98853",
   "metadata": {
    "execution": {
     "iopub.execute_input": "2022-02-09T02:43:38.643429Z",
     "iopub.status.busy": "2022-02-09T02:43:38.642771Z",
     "iopub.status.idle": "2022-02-09T02:43:49.479092Z",
     "shell.execute_reply": "2022-02-09T02:43:49.478514Z"
    }
   },
   "outputs": [],
   "source": [
    "using DataFrames\n",
    "\n",
    "using OnePiece"
   ]
  },
  {
   "cell_type": "markdown",
   "id": "19d500c7",
   "metadata": {},
   "source": [
    "## read_hgnc"
   ]
  },
  {
   "cell_type": "code",
   "execution_count": null,
   "id": "31c67e64",
   "metadata": {
    "execution": {
     "iopub.execute_input": "2022-02-09T02:43:51.172266Z",
     "iopub.status.busy": "2022-02-09T02:43:49.480643Z",
     "iopub.status.idle": "2022-02-09T02:44:17.881524Z",
     "shell.execute_reply": "2022-02-09T02:44:17.881062Z"
    }
   },
   "outputs": [],
   "source": [
    "hg = OnePiece.gene.read_hgnc()\n",
    "\n",
    "size(hg)"
   ]
  },
  {
   "cell_type": "markdown",
   "id": "1e618da3",
   "metadata": {},
   "source": [
    "## read_ensembl"
   ]
  },
  {
   "cell_type": "code",
   "execution_count": null,
   "id": "cecc8625",
   "metadata": {
    "execution": {
     "iopub.execute_input": "2022-02-09T02:44:17.883577Z",
     "iopub.status.busy": "2022-02-09T02:44:17.882971Z",
     "iopub.status.idle": "2022-02-09T02:44:19.294427Z",
     "shell.execute_reply": "2022-02-09T02:44:19.293792Z"
    }
   },
   "outputs": [],
   "source": [
    "en = OnePiece.gene.read_ensembl()\n",
    "\n",
    "size(en)"
   ]
  },
  {
   "cell_type": "code",
   "execution_count": null,
   "id": "2704ed42",
   "metadata": {
    "execution": {
     "iopub.execute_input": "2022-02-09T02:44:19.296542Z",
     "iopub.status.busy": "2022-02-09T02:44:19.295946Z",
     "iopub.status.idle": "2022-02-09T02:44:20.253750Z",
     "shell.execute_reply": "2022-02-09T02:44:20.253223Z"
    }
   },
   "outputs": [],
   "source": [
    "en = OnePiece.gene.read_ensembl(; or = \"mouse\")\n",
    "\n",
    "size(en)"
   ]
  },
  {
   "cell_type": "markdown",
   "id": "39171df7",
   "metadata": {},
   "source": [
    "## map_to_column"
   ]
  },
  {
   "cell_type": "code",
   "execution_count": null,
   "id": "1db03a1e",
   "metadata": {
    "execution": {
     "iopub.execute_input": "2022-02-09T02:44:20.255772Z",
     "iopub.status.busy": "2022-02-09T02:44:20.255177Z",
     "iopub.status.idle": "2022-02-09T02:44:24.131850Z",
     "shell.execute_reply": "2022-02-09T02:44:24.131392Z"
    }
   },
   "outputs": [],
   "source": [
    "hg_gr = OnePiece.gene.map_to_column(coalesce.(hg, \"?\"), [\"symbol\", \"gene_group\"])"
   ]
  },
  {
   "cell_type": "markdown",
   "id": "067fadb9",
   "metadata": {},
   "source": [
    "## map_to_hgnc_gene"
   ]
  },
  {
   "cell_type": "code",
   "execution_count": null,
   "id": "0ac96217",
   "metadata": {
    "execution": {
     "iopub.execute_input": "2022-02-09T02:44:24.133771Z",
     "iopub.status.busy": "2022-02-09T02:44:24.133177Z",
     "iopub.status.idle": "2022-02-09T02:44:25.428908Z",
     "shell.execute_reply": "2022-02-09T02:44:25.428418Z"
    }
   },
   "outputs": [],
   "source": [
    "st_hg = OnePiece.gene.map_to_hgnc_gene()"
   ]
  },
  {
   "cell_type": "markdown",
   "id": "d8ed8dfc",
   "metadata": {},
   "source": [
    "## map_to_ensembl_gene"
   ]
  },
  {
   "cell_type": "code",
   "execution_count": null,
   "id": "b1068615",
   "metadata": {
    "execution": {
     "iopub.execute_input": "2022-02-09T02:44:25.430894Z",
     "iopub.status.busy": "2022-02-09T02:44:25.430241Z",
     "iopub.status.idle": "2022-02-09T02:44:34.102319Z",
     "shell.execute_reply": "2022-02-09T02:44:34.101916Z"
    }
   },
   "outputs": [],
   "source": [
    "st_en = OnePiece.gene.map_to_ensembl_gene()"
   ]
  },
  {
   "cell_type": "markdown",
   "id": "64ff451e",
   "metadata": {},
   "source": [
    "## map_with_mouse"
   ]
  },
  {
   "cell_type": "code",
   "execution_count": null,
   "id": "344da7eb",
   "metadata": {
    "execution": {
     "iopub.execute_input": "2022-02-09T02:44:34.104216Z",
     "iopub.status.busy": "2022-02-09T02:44:34.103690Z",
     "iopub.status.idle": "2022-02-09T02:44:46.487690Z",
     "shell.execute_reply": "2022-02-09T02:44:46.487172Z"
    }
   },
   "outputs": [],
   "source": [
    "OnePiece.gene.map_with_mouse()"
   ]
  },
  {
   "cell_type": "code",
   "execution_count": null,
   "id": "c3b98547",
   "metadata": {
    "execution": {
     "iopub.execute_input": "2022-02-09T02:44:46.489512Z",
     "iopub.status.busy": "2022-02-09T02:44:46.488938Z",
     "iopub.status.idle": "2022-02-09T02:44:57.557814Z",
     "shell.execute_reply": "2022-02-09T02:44:57.557358Z"
    }
   },
   "outputs": [],
   "source": [
    "OnePiece.gene.map_with_mouse(; ho = \"human_to_mouse\")"
   ]
  },
  {
   "cell_type": "markdown",
   "id": "cfb03409",
   "metadata": {},
   "source": [
    "## rename"
   ]
  },
  {
   "cell_type": "code",
   "execution_count": null,
   "id": "e2b70674",
   "metadata": {
    "execution": {
     "iopub.execute_input": "2022-02-09T02:44:57.560077Z",
     "iopub.status.busy": "2022-02-09T02:44:57.559324Z",
     "iopub.status.idle": "2022-02-09T02:44:57.622515Z",
     "shell.execute_reply": "2022-02-09T02:44:57.622037Z"
    }
   },
   "outputs": [],
   "source": [
    "hg_ = string.(hg[!, \"symbol\"])\n",
    "\n",
    ";"
   ]
  },
  {
   "cell_type": "code",
   "execution_count": null,
   "id": "0dcb6a68",
   "metadata": {
    "execution": {
     "iopub.execute_input": "2022-02-09T02:44:57.624421Z",
     "iopub.status.busy": "2022-02-09T02:44:57.623860Z",
     "iopub.status.idle": "2022-02-09T02:45:17.698439Z",
     "shell.execute_reply": "2022-02-09T02:45:17.697957Z"
    }
   },
   "outputs": [],
   "source": [
    "na_, ma_ = OnePiece.gene.rename(hg_)"
   ]
  },
  {
   "cell_type": "code",
   "execution_count": null,
   "id": "9b31bde2",
   "metadata": {
    "execution": {
     "iopub.execute_input": "2022-02-09T02:45:17.700419Z",
     "iopub.status.busy": "2022-02-09T02:45:17.699796Z",
     "iopub.status.idle": "2022-02-09T02:45:18.330616Z",
     "shell.execute_reply": "2022-02-09T02:45:18.330131Z"
    }
   },
   "outputs": [],
   "source": [
    "ge_ = unique(skipmissing(en[!, \"Gene name\"]))\n",
    "\n",
    "na_, ma_ = OnePiece.gene.rename(ge_; mo = false, en = false)"
   ]
  },
  {
   "cell_type": "code",
   "execution_count": null,
   "id": "5f36e738",
   "metadata": {
    "execution": {
     "iopub.execute_input": "2022-02-09T02:45:18.332572Z",
     "iopub.status.busy": "2022-02-09T02:45:18.331983Z",
     "iopub.status.idle": "2022-02-09T02:45:18.483385Z",
     "shell.execute_reply": "2022-02-09T02:45:18.482906Z"
    }
   },
   "outputs": [],
   "source": [
    "println(join(unique([hg_gr[na] for na in na_[ma_ .== 1]]), \"\\n\"))"
   ]
  },
  {
   "cell_type": "code",
   "execution_count": null,
   "id": "5f70be28",
   "metadata": {
    "execution": {
     "iopub.execute_input": "2022-02-09T02:45:18.485506Z",
     "iopub.status.busy": "2022-02-09T02:45:18.484869Z",
     "iopub.status.idle": "2022-02-09T02:45:19.376782Z",
     "shell.execute_reply": "2022-02-09T02:45:19.376228Z"
    }
   },
   "outputs": [],
   "source": [
    "en_ty = OnePiece.gene.map_to_column(en, [\"Gene name\", \"Gene type\"])\n",
    "\n",
    "println(join(unique([en_ty[na] for na in na_[ma_ .== 2]]), \"\\n\"))"
   ]
  }
 ],
 "metadata": {
  "@webio": {
   "lastCommId": null,
   "lastKernelId": null
  },
  "kernelspec": {
   "display_name": "Julia 1.7.1",
   "language": "julia",
   "name": "julia-1.7"
  },
  "language_info": {
   "file_extension": ".jl",
   "mimetype": "application/julia",
   "name": "julia",
   "version": "1.7.2"
  }
 },
 "nbformat": 4,
 "nbformat_minor": 5
}
