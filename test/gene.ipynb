{
 "cells": [
  {
   "cell_type": "code",
   "execution_count": null,
   "id": "017464da",
   "metadata": {
    "execution": {
     "iopub.execute_input": "2022-02-13T21:52:32.313177Z",
     "iopub.status.busy": "2022-02-13T21:52:31.942883Z",
     "iopub.status.idle": "2022-02-13T21:52:32.512058Z",
     "shell.execute_reply": "2022-02-13T21:52:32.511517Z"
    }
   },
   "outputs": [],
   "source": [
    "TE = joinpath(tempdir(), \"OnePiece.test\")\n",
    "\n",
    "if isdir(TE)\n",
    "\n",
    "    rm(TE, recursive = true)\n",
    "\n",
    "    println(\"Removed \", TE, \".\")\n",
    "\n",
    "end\n",
    "\n",
    "mkdir(TE)\n",
    "\n",
    "println(\"Made \", TE, \".\")"
   ]
  },
  {
   "cell_type": "code",
   "execution_count": null,
   "id": "34e4701e",
   "metadata": {
    "execution": {
     "iopub.execute_input": "2022-02-13T21:52:32.514128Z",
     "iopub.status.busy": "2022-02-13T21:52:32.513613Z",
     "iopub.status.idle": "2022-02-13T21:52:36.849480Z",
     "shell.execute_reply": "2022-02-13T21:52:36.849016Z"
    }
   },
   "outputs": [],
   "source": [
    "using OnePiece"
   ]
  },
  {
   "cell_type": "markdown",
   "id": "b92a3da9",
   "metadata": {},
   "source": [
    "---"
   ]
  },
  {
   "cell_type": "markdown",
   "id": "19d500c7",
   "metadata": {},
   "source": [
    "## read_hgnc"
   ]
  },
  {
   "cell_type": "code",
   "execution_count": null,
   "id": "31c67e64",
   "metadata": {
    "execution": {
     "iopub.execute_input": "2022-02-13T21:52:37.186160Z",
     "iopub.status.busy": "2022-02-13T21:52:36.850834Z",
     "iopub.status.idle": "2022-02-13T21:52:57.446826Z",
     "shell.execute_reply": "2022-02-13T21:52:57.446425Z"
    }
   },
   "outputs": [],
   "source": [
    "hg = OnePiece.gene.read_hgnc()\n",
    "\n",
    "size(hg)"
   ]
  },
  {
   "cell_type": "markdown",
   "id": "1e618da3",
   "metadata": {},
   "source": [
    "## read_ensembl"
   ]
  },
  {
   "cell_type": "code",
   "execution_count": null,
   "id": "cecc8625",
   "metadata": {
    "execution": {
     "iopub.execute_input": "2022-02-13T21:52:57.449358Z",
     "iopub.status.busy": "2022-02-13T21:52:57.448840Z",
     "iopub.status.idle": "2022-02-13T21:52:58.606502Z",
     "shell.execute_reply": "2022-02-13T21:52:58.606107Z"
    }
   },
   "outputs": [],
   "source": [
    "en = OnePiece.gene.read_ensembl()\n",
    "\n",
    "size(en)"
   ]
  },
  {
   "cell_type": "code",
   "execution_count": null,
   "id": "2704ed42",
   "metadata": {
    "execution": {
     "iopub.execute_input": "2022-02-13T21:52:58.608357Z",
     "iopub.status.busy": "2022-02-13T21:52:58.607848Z",
     "iopub.status.idle": "2022-02-13T21:52:59.306006Z",
     "shell.execute_reply": "2022-02-13T21:52:59.305615Z"
    }
   },
   "outputs": [],
   "source": [
    "en = OnePiece.gene.read_ensembl(; or = \"mouse\")\n",
    "\n",
    "size(en)"
   ]
  },
  {
   "cell_type": "markdown",
   "id": "067fadb9",
   "metadata": {},
   "source": [
    "## map_to_hgnc_gene"
   ]
  },
  {
   "cell_type": "code",
   "execution_count": null,
   "id": "0ac96217",
   "metadata": {
    "execution": {
     "iopub.execute_input": "2022-02-13T21:52:59.308071Z",
     "iopub.status.busy": "2022-02-13T21:52:59.307441Z",
     "iopub.status.idle": "2022-02-13T21:53:02.021593Z",
     "shell.execute_reply": "2022-02-13T21:53:02.021204Z"
    }
   },
   "outputs": [],
   "source": [
    "st_hg = OnePiece.gene.map_to_hgnc_gene()"
   ]
  },
  {
   "cell_type": "markdown",
   "id": "d8ed8dfc",
   "metadata": {},
   "source": [
    "## map_to_ensembl_gene"
   ]
  },
  {
   "cell_type": "code",
   "execution_count": null,
   "id": "b1068615",
   "metadata": {
    "execution": {
     "iopub.execute_input": "2022-02-13T21:53:02.024573Z",
     "iopub.status.busy": "2022-02-13T21:53:02.023400Z",
     "iopub.status.idle": "2022-02-13T21:53:10.828705Z",
     "shell.execute_reply": "2022-02-13T21:53:10.828186Z"
    }
   },
   "outputs": [],
   "source": [
    "st_en = OnePiece.gene.map_to_ensembl_gene()"
   ]
  },
  {
   "cell_type": "markdown",
   "id": "64ff451e",
   "metadata": {},
   "source": [
    "## map_with_mouse"
   ]
  },
  {
   "cell_type": "code",
   "execution_count": null,
   "id": "344da7eb",
   "metadata": {
    "execution": {
     "iopub.execute_input": "2022-02-13T21:53:10.830782Z",
     "iopub.status.busy": "2022-02-13T21:53:10.830270Z",
     "iopub.status.idle": "2022-02-13T21:53:22.830592Z",
     "shell.execute_reply": "2022-02-13T21:53:22.830190Z"
    }
   },
   "outputs": [],
   "source": [
    "OnePiece.gene.map_with_mouse()"
   ]
  },
  {
   "cell_type": "code",
   "execution_count": null,
   "id": "c3b98547",
   "metadata": {
    "execution": {
     "iopub.execute_input": "2022-02-13T21:53:22.832547Z",
     "iopub.status.busy": "2022-02-13T21:53:22.832047Z",
     "iopub.status.idle": "2022-02-13T21:53:33.063667Z",
     "shell.execute_reply": "2022-02-13T21:53:33.063274Z"
    }
   },
   "outputs": [],
   "source": [
    "OnePiece.gene.map_with_mouse(; ho = \"human_to_mouse\")"
   ]
  },
  {
   "cell_type": "markdown",
   "id": "cfb03409",
   "metadata": {},
   "source": [
    "## rename"
   ]
  },
  {
   "cell_type": "code",
   "execution_count": null,
   "id": "e2b70674",
   "metadata": {
    "execution": {
     "iopub.execute_input": "2022-02-13T21:53:33.065571Z",
     "iopub.status.busy": "2022-02-13T21:53:33.065073Z",
     "iopub.status.idle": "2022-02-13T21:53:33.118335Z",
     "shell.execute_reply": "2022-02-13T21:53:33.117894Z"
    }
   },
   "outputs": [],
   "source": [
    "hg_ = string.(hg[!, \"symbol\"])\n",
    "\n",
    ";"
   ]
  },
  {
   "cell_type": "code",
   "execution_count": null,
   "id": "0dcb6a68",
   "metadata": {
    "execution": {
     "iopub.execute_input": "2022-02-13T21:53:33.120402Z",
     "iopub.status.busy": "2022-02-13T21:53:33.119834Z",
     "iopub.status.idle": "2022-02-13T21:53:53.860380Z",
     "shell.execute_reply": "2022-02-13T21:53:53.859720Z"
    }
   },
   "outputs": [],
   "source": [
    "na_, ma_ = OnePiece.gene.rename(hg_)"
   ]
  },
  {
   "cell_type": "code",
   "execution_count": null,
   "id": "9b31bde2",
   "metadata": {
    "execution": {
     "iopub.execute_input": "2022-02-13T21:53:53.862519Z",
     "iopub.status.busy": "2022-02-13T21:53:53.862001Z",
     "iopub.status.idle": "2022-02-13T21:53:54.687988Z",
     "shell.execute_reply": "2022-02-13T21:53:54.687515Z"
    }
   },
   "outputs": [],
   "source": [
    "ge_ = unique(skipmissing(en[!, \"Gene name\"]))\n",
    "\n",
    "na_, ma_ = OnePiece.gene.rename(ge_; mo = false, en = false)"
   ]
  },
  {
   "cell_type": "code",
   "execution_count": null,
   "id": "bb77a60e",
   "metadata": {
    "execution": {
     "iopub.execute_input": "2022-02-13T21:53:54.689968Z",
     "iopub.status.busy": "2022-02-13T21:53:54.689315Z",
     "iopub.status.idle": "2022-02-13T21:53:56.138465Z",
     "shell.execute_reply": "2022-02-13T21:53:56.137991Z"
    }
   },
   "outputs": [],
   "source": [
    "hg_gr = OnePiece.extension.dataframe.map_to_column(coalesce.(hg, \"?\"), [\"symbol\", \"gene_group\"])"
   ]
  },
  {
   "cell_type": "code",
   "execution_count": null,
   "id": "5f36e738",
   "metadata": {
    "execution": {
     "iopub.execute_input": "2022-02-13T21:53:56.140421Z",
     "iopub.status.busy": "2022-02-13T21:53:56.139827Z",
     "iopub.status.idle": "2022-02-13T21:53:56.262682Z",
     "shell.execute_reply": "2022-02-13T21:53:56.262293Z"
    }
   },
   "outputs": [],
   "source": [
    "println(join(unique([hg_gr[na] for na in na_[ma_ .== 1]]), \"\\n\"))"
   ]
  },
  {
   "cell_type": "code",
   "execution_count": null,
   "id": "5f70be28",
   "metadata": {
    "execution": {
     "iopub.execute_input": "2022-02-13T21:53:56.264744Z",
     "iopub.status.busy": "2022-02-13T21:53:56.264235Z",
     "iopub.status.idle": "2022-02-13T21:53:56.788885Z",
     "shell.execute_reply": "2022-02-13T21:53:56.788458Z"
    }
   },
   "outputs": [],
   "source": [
    "en_ty = OnePiece.extension.dataframe.map_to_column(en, [\"Gene name\", \"Gene type\"])\n",
    "\n",
    "println(join(unique([en_ty[na] for na in na_[ma_ .== 2]]), \"\\n\"))"
   ]
  },
  {
   "cell_type": "markdown",
   "id": "3f396855",
   "metadata": {},
   "source": [
    "---"
   ]
  },
  {
   "cell_type": "code",
   "execution_count": null,
   "id": "b4af2023",
   "metadata": {
    "execution": {
     "iopub.execute_input": "2022-02-13T21:53:56.790975Z",
     "iopub.status.busy": "2022-02-13T21:53:56.790325Z",
     "iopub.status.idle": "2022-02-13T21:53:56.792868Z",
     "shell.execute_reply": "2022-02-13T21:53:56.792409Z"
    }
   },
   "outputs": [],
   "source": [
    "if isdir(TE)\n",
    "\n",
    "    rm(TE, recursive = true)\n",
    "\n",
    "    println(\"Removed \", TE, \".\")\n",
    "\n",
    "end"
   ]
  }
 ],
 "metadata": {
  "kernelspec": {
   "display_name": "Julia 1.7.2",
   "language": "julia",
   "name": "julia-1.7"
  },
  "language_info": {
   "file_extension": ".jl",
   "mimetype": "application/julia",
   "name": "julia",
   "version": "1.7.2"
  }
 },
 "nbformat": 4,
 "nbformat_minor": 5
}
