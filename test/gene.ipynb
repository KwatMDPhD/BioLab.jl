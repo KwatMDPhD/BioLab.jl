{
 "cells": [
  {
   "cell_type": "code",
   "execution_count": null,
   "id": "017464da",
   "metadata": {
    "execution": {
     "iopub.execute_input": "2022-02-14T17:05:25.390508Z",
     "iopub.status.busy": "2022-02-14T17:05:24.993425Z",
     "iopub.status.idle": "2022-02-14T17:05:25.612570Z",
     "shell.execute_reply": "2022-02-14T17:05:25.611924Z"
    }
   },
   "outputs": [],
   "source": [
    "TE = joinpath(tempdir(), \"OnePiece.test\")\n",
    "\n",
    "if isdir(TE)\n",
    "\n",
    "    rm(TE, recursive = true)\n",
    "\n",
    "    println(\"Removed \", TE, \".\")\n",
    "\n",
    "end\n",
    "\n",
    "mkdir(TE)\n",
    "\n",
    "println(\"Made \", TE, \".\")"
   ]
  },
  {
   "cell_type": "code",
   "execution_count": null,
   "id": "34e4701e",
   "metadata": {
    "execution": {
     "iopub.execute_input": "2022-02-14T17:05:25.614407Z",
     "iopub.status.busy": "2022-02-14T17:05:25.613827Z",
     "iopub.status.idle": "2022-02-14T17:05:30.264334Z",
     "shell.execute_reply": "2022-02-14T17:05:30.263798Z"
    }
   },
   "outputs": [],
   "source": [
    "using OnePiece"
   ]
  },
  {
   "cell_type": "markdown",
   "id": "b92a3da9",
   "metadata": {},
   "source": [
    "---"
   ]
  },
  {
   "cell_type": "markdown",
   "id": "19d500c7",
   "metadata": {},
   "source": [
    "## read_hgnc"
   ]
  },
  {
   "cell_type": "code",
   "execution_count": null,
   "id": "31c67e64",
   "metadata": {
    "execution": {
     "iopub.execute_input": "2022-02-14T17:05:30.609692Z",
     "iopub.status.busy": "2022-02-14T17:05:30.265832Z",
     "iopub.status.idle": "2022-02-14T17:05:51.596005Z",
     "shell.execute_reply": "2022-02-14T17:05:51.595544Z"
    }
   },
   "outputs": [],
   "source": [
    "hg = OnePiece.gene.read_hgnc()\n",
    "\n",
    "size(hg)"
   ]
  },
  {
   "cell_type": "markdown",
   "id": "1e618da3",
   "metadata": {},
   "source": [
    "## read_ensembl"
   ]
  },
  {
   "cell_type": "code",
   "execution_count": null,
   "id": "cecc8625",
   "metadata": {
    "execution": {
     "iopub.execute_input": "2022-02-14T17:05:51.597972Z",
     "iopub.status.busy": "2022-02-14T17:05:51.597389Z",
     "iopub.status.idle": "2022-02-14T17:05:52.895725Z",
     "shell.execute_reply": "2022-02-14T17:05:52.895235Z"
    }
   },
   "outputs": [],
   "source": [
    "en = OnePiece.gene.read_ensembl()\n",
    "\n",
    "size(en)"
   ]
  },
  {
   "cell_type": "code",
   "execution_count": null,
   "id": "2704ed42",
   "metadata": {
    "execution": {
     "iopub.execute_input": "2022-02-14T17:05:52.897686Z",
     "iopub.status.busy": "2022-02-14T17:05:52.897092Z",
     "iopub.status.idle": "2022-02-14T17:05:53.496359Z",
     "shell.execute_reply": "2022-02-14T17:05:53.495895Z"
    }
   },
   "outputs": [],
   "source": [
    "en = OnePiece.gene.read_ensembl(; or = \"mouse\")\n",
    "\n",
    "size(en)"
   ]
  },
  {
   "cell_type": "markdown",
   "id": "067fadb9",
   "metadata": {},
   "source": [
    "## map_to_hgnc_gene"
   ]
  },
  {
   "cell_type": "code",
   "execution_count": null,
   "id": "0ac96217",
   "metadata": {
    "execution": {
     "iopub.execute_input": "2022-02-14T17:05:53.498310Z",
     "iopub.status.busy": "2022-02-14T17:05:53.497736Z",
     "iopub.status.idle": "2022-02-14T17:05:56.416194Z",
     "shell.execute_reply": "2022-02-14T17:05:56.415738Z"
    }
   },
   "outputs": [],
   "source": [
    "st_hg = OnePiece.gene.map_to_hgnc_gene()"
   ]
  },
  {
   "cell_type": "markdown",
   "id": "d8ed8dfc",
   "metadata": {},
   "source": [
    "## map_to_ensembl_gene"
   ]
  },
  {
   "cell_type": "code",
   "execution_count": null,
   "id": "b1068615",
   "metadata": {
    "execution": {
     "iopub.execute_input": "2022-02-14T17:05:56.418237Z",
     "iopub.status.busy": "2022-02-14T17:05:56.417621Z",
     "iopub.status.idle": "2022-02-14T17:06:05.502939Z",
     "shell.execute_reply": "2022-02-14T17:06:05.502428Z"
    }
   },
   "outputs": [],
   "source": [
    "st_en = OnePiece.gene.map_to_ensembl_gene()"
   ]
  },
  {
   "cell_type": "markdown",
   "id": "64ff451e",
   "metadata": {},
   "source": [
    "## map_with_mouse"
   ]
  },
  {
   "cell_type": "code",
   "execution_count": null,
   "id": "344da7eb",
   "metadata": {
    "execution": {
     "iopub.execute_input": "2022-02-14T17:06:05.504953Z",
     "iopub.status.busy": "2022-02-14T17:06:05.504374Z",
     "iopub.status.idle": "2022-02-14T17:06:17.937251Z",
     "shell.execute_reply": "2022-02-14T17:06:17.936742Z"
    }
   },
   "outputs": [],
   "source": [
    "OnePiece.gene.map_with_mouse()"
   ]
  },
  {
   "cell_type": "code",
   "execution_count": null,
   "id": "c3b98547",
   "metadata": {
    "execution": {
     "iopub.execute_input": "2022-02-14T17:06:17.939108Z",
     "iopub.status.busy": "2022-02-14T17:06:17.938521Z",
     "iopub.status.idle": "2022-02-14T17:06:29.144748Z",
     "shell.execute_reply": "2022-02-14T17:06:29.144289Z"
    }
   },
   "outputs": [],
   "source": [
    "OnePiece.gene.map_with_mouse(; ho = \"human_to_mouse\")"
   ]
  },
  {
   "cell_type": "markdown",
   "id": "cfb03409",
   "metadata": {},
   "source": [
    "## rename"
   ]
  },
  {
   "cell_type": "code",
   "execution_count": null,
   "id": "e2b70674",
   "metadata": {
    "execution": {
     "iopub.execute_input": "2022-02-14T17:06:29.146716Z",
     "iopub.status.busy": "2022-02-14T17:06:29.146139Z",
     "iopub.status.idle": "2022-02-14T17:06:29.205109Z",
     "shell.execute_reply": "2022-02-14T17:06:29.204657Z"
    }
   },
   "outputs": [],
   "source": [
    "hg_ = string.(hg[!, \"symbol\"])\n",
    "\n",
    ";"
   ]
  },
  {
   "cell_type": "code",
   "execution_count": null,
   "id": "0dcb6a68",
   "metadata": {
    "execution": {
     "iopub.execute_input": "2022-02-14T17:06:29.207088Z",
     "iopub.status.busy": "2022-02-14T17:06:29.206513Z",
     "iopub.status.idle": "2022-02-14T17:06:49.978485Z",
     "shell.execute_reply": "2022-02-14T17:06:49.978010Z"
    }
   },
   "outputs": [],
   "source": [
    "na_, ma_ = OnePiece.gene.rename(hg_)"
   ]
  },
  {
   "cell_type": "code",
   "execution_count": null,
   "id": "9b31bde2",
   "metadata": {
    "execution": {
     "iopub.execute_input": "2022-02-14T17:06:49.980415Z",
     "iopub.status.busy": "2022-02-14T17:06:49.979841Z",
     "iopub.status.idle": "2022-02-14T17:06:50.811719Z",
     "shell.execute_reply": "2022-02-14T17:06:50.811249Z"
    }
   },
   "outputs": [],
   "source": [
    "ge_ = unique(skipmissing(en[!, \"Gene name\"]))\n",
    "\n",
    "na_, ma_ = OnePiece.gene.rename(ge_; mo = false, en = false)"
   ]
  },
  {
   "cell_type": "code",
   "execution_count": null,
   "id": "bb77a60e",
   "metadata": {
    "execution": {
     "iopub.execute_input": "2022-02-14T17:06:50.813738Z",
     "iopub.status.busy": "2022-02-14T17:06:50.813161Z",
     "iopub.status.idle": "2022-02-14T17:06:52.351165Z",
     "shell.execute_reply": "2022-02-14T17:06:52.350714Z"
    }
   },
   "outputs": [],
   "source": [
    "hg_gr = OnePiece.extension.dataframe.map_to_column(coalesce.(hg, \"?\"), [\"symbol\", \"gene_group\"])"
   ]
  },
  {
   "cell_type": "code",
   "execution_count": null,
   "id": "5f36e738",
   "metadata": {
    "execution": {
     "iopub.execute_input": "2022-02-14T17:06:52.352900Z",
     "iopub.status.busy": "2022-02-14T17:06:52.352340Z",
     "iopub.status.idle": "2022-02-14T17:06:52.478940Z",
     "shell.execute_reply": "2022-02-14T17:06:52.478500Z"
    }
   },
   "outputs": [],
   "source": [
    "println(join(unique([hg_gr[na] for na in na_[ma_ .== 1]]), \"\\n\"))"
   ]
  },
  {
   "cell_type": "code",
   "execution_count": null,
   "id": "5f70be28",
   "metadata": {
    "execution": {
     "iopub.execute_input": "2022-02-14T17:06:52.480796Z",
     "iopub.status.busy": "2022-02-14T17:06:52.480226Z",
     "iopub.status.idle": "2022-02-14T17:06:53.010051Z",
     "shell.execute_reply": "2022-02-14T17:06:53.009594Z"
    }
   },
   "outputs": [],
   "source": [
    "en_ty = OnePiece.extension.dataframe.map_to_column(en, [\"Gene name\", \"Gene type\"])\n",
    "\n",
    "println(join(unique([en_ty[na] for na in na_[ma_ .== 2]]), \"\\n\"))"
   ]
  },
  {
   "cell_type": "markdown",
   "id": "3f396855",
   "metadata": {},
   "source": [
    "---"
   ]
  },
  {
   "cell_type": "code",
   "execution_count": null,
   "id": "b4af2023",
   "metadata": {
    "execution": {
     "iopub.execute_input": "2022-02-14T17:06:53.012037Z",
     "iopub.status.busy": "2022-02-14T17:06:53.011444Z",
     "iopub.status.idle": "2022-02-14T17:06:53.013975Z",
     "shell.execute_reply": "2022-02-14T17:06:53.013493Z"
    }
   },
   "outputs": [],
   "source": [
    "if isdir(TE)\n",
    "\n",
    "    rm(TE, recursive = true)\n",
    "\n",
    "    println(\"Removed \", TE, \".\")\n",
    "\n",
    "end"
   ]
  }
 ],
 "metadata": {
  "kernelspec": {
   "display_name": "Julia 1.7.2",
   "language": "julia",
   "name": "julia-1.7"
  },
  "language_info": {
   "file_extension": ".jl",
   "mimetype": "application/julia",
   "name": "julia",
   "version": "1.7.2"
  }
 },
 "nbformat": 4,
 "nbformat_minor": 5
}
