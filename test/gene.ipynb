{
 "cells": [
  {
   "cell_type": "code",
   "execution_count": null,
   "id": "017464da",
   "metadata": {
    "execution": {
     "iopub.execute_input": "2022-02-14T15:21:14.501308Z",
     "iopub.status.busy": "2022-02-14T15:21:14.163265Z",
     "iopub.status.idle": "2022-02-14T15:21:14.688178Z",
     "shell.execute_reply": "2022-02-14T15:21:14.687680Z"
    }
   },
   "outputs": [],
   "source": [
    "TE = joinpath(tempdir(), \"OnePiece.test\")\n",
    "\n",
    "if isdir(TE)\n",
    "\n",
    "    rm(TE, recursive = true)\n",
    "\n",
    "    println(\"Removed \", TE, \".\")\n",
    "\n",
    "end\n",
    "\n",
    "mkdir(TE)\n",
    "\n",
    "println(\"Made \", TE, \".\")"
   ]
  },
  {
   "cell_type": "code",
   "execution_count": null,
   "id": "34e4701e",
   "metadata": {
    "execution": {
     "iopub.execute_input": "2022-02-14T15:21:14.690144Z",
     "iopub.status.busy": "2022-02-14T15:21:14.689635Z",
     "iopub.status.idle": "2022-02-14T15:21:18.904214Z",
     "shell.execute_reply": "2022-02-14T15:21:18.903551Z"
    }
   },
   "outputs": [],
   "source": [
    "using OnePiece"
   ]
  },
  {
   "cell_type": "markdown",
   "id": "b92a3da9",
   "metadata": {},
   "source": [
    "---"
   ]
  },
  {
   "cell_type": "markdown",
   "id": "19d500c7",
   "metadata": {},
   "source": [
    "## read_hgnc"
   ]
  },
  {
   "cell_type": "code",
   "execution_count": null,
   "id": "31c67e64",
   "metadata": {
    "execution": {
     "iopub.execute_input": "2022-02-14T15:21:19.208784Z",
     "iopub.status.busy": "2022-02-14T15:21:18.905540Z",
     "iopub.status.idle": "2022-02-14T15:21:38.081447Z",
     "shell.execute_reply": "2022-02-14T15:21:38.080777Z"
    }
   },
   "outputs": [],
   "source": [
    "hg = OnePiece.gene.read_hgnc()\n",
    "\n",
    "size(hg)"
   ]
  },
  {
   "cell_type": "markdown",
   "id": "1e618da3",
   "metadata": {},
   "source": [
    "## read_ensembl"
   ]
  },
  {
   "cell_type": "code",
   "execution_count": null,
   "id": "cecc8625",
   "metadata": {
    "execution": {
     "iopub.execute_input": "2022-02-14T15:21:38.083973Z",
     "iopub.status.busy": "2022-02-14T15:21:38.083396Z",
     "iopub.status.idle": "2022-02-14T15:21:39.303540Z",
     "shell.execute_reply": "2022-02-14T15:21:39.303072Z"
    }
   },
   "outputs": [],
   "source": [
    "en = OnePiece.gene.read_ensembl()\n",
    "\n",
    "size(en)"
   ]
  },
  {
   "cell_type": "code",
   "execution_count": null,
   "id": "2704ed42",
   "metadata": {
    "execution": {
     "iopub.execute_input": "2022-02-14T15:21:39.305447Z",
     "iopub.status.busy": "2022-02-14T15:21:39.304866Z",
     "iopub.status.idle": "2022-02-14T15:21:40.046071Z",
     "shell.execute_reply": "2022-02-14T15:21:40.045624Z"
    }
   },
   "outputs": [],
   "source": [
    "en = OnePiece.gene.read_ensembl(; or = \"mouse\")\n",
    "\n",
    "size(en)"
   ]
  },
  {
   "cell_type": "markdown",
   "id": "067fadb9",
   "metadata": {},
   "source": [
    "## map_to_hgnc_gene"
   ]
  },
  {
   "cell_type": "code",
   "execution_count": null,
   "id": "0ac96217",
   "metadata": {
    "execution": {
     "iopub.execute_input": "2022-02-14T15:21:40.048030Z",
     "iopub.status.busy": "2022-02-14T15:21:40.047439Z",
     "iopub.status.idle": "2022-02-14T15:21:42.810404Z",
     "shell.execute_reply": "2022-02-14T15:21:42.810017Z"
    }
   },
   "outputs": [],
   "source": [
    "st_hg = OnePiece.gene.map_to_hgnc_gene()"
   ]
  },
  {
   "cell_type": "markdown",
   "id": "d8ed8dfc",
   "metadata": {},
   "source": [
    "## map_to_ensembl_gene"
   ]
  },
  {
   "cell_type": "code",
   "execution_count": null,
   "id": "b1068615",
   "metadata": {
    "execution": {
     "iopub.execute_input": "2022-02-14T15:21:42.812385Z",
     "iopub.status.busy": "2022-02-14T15:21:42.811896Z",
     "iopub.status.idle": "2022-02-14T15:21:50.869415Z",
     "shell.execute_reply": "2022-02-14T15:21:50.869029Z"
    }
   },
   "outputs": [],
   "source": [
    "st_en = OnePiece.gene.map_to_ensembl_gene()"
   ]
  },
  {
   "cell_type": "markdown",
   "id": "64ff451e",
   "metadata": {},
   "source": [
    "## map_with_mouse"
   ]
  },
  {
   "cell_type": "code",
   "execution_count": null,
   "id": "344da7eb",
   "metadata": {
    "execution": {
     "iopub.execute_input": "2022-02-14T15:21:50.871376Z",
     "iopub.status.busy": "2022-02-14T15:21:50.870884Z",
     "iopub.status.idle": "2022-02-14T15:22:02.367750Z",
     "shell.execute_reply": "2022-02-14T15:22:02.367362Z"
    }
   },
   "outputs": [],
   "source": [
    "OnePiece.gene.map_with_mouse()"
   ]
  },
  {
   "cell_type": "code",
   "execution_count": null,
   "id": "c3b98547",
   "metadata": {
    "execution": {
     "iopub.execute_input": "2022-02-14T15:22:02.369707Z",
     "iopub.status.busy": "2022-02-14T15:22:02.369209Z",
     "iopub.status.idle": "2022-02-14T15:22:12.597175Z",
     "shell.execute_reply": "2022-02-14T15:22:12.596788Z"
    }
   },
   "outputs": [],
   "source": [
    "OnePiece.gene.map_with_mouse(; ho = \"human_to_mouse\")"
   ]
  },
  {
   "cell_type": "markdown",
   "id": "cfb03409",
   "metadata": {},
   "source": [
    "## rename"
   ]
  },
  {
   "cell_type": "code",
   "execution_count": null,
   "id": "e2b70674",
   "metadata": {
    "execution": {
     "iopub.execute_input": "2022-02-14T15:22:12.599271Z",
     "iopub.status.busy": "2022-02-14T15:22:12.598708Z",
     "iopub.status.idle": "2022-02-14T15:22:12.647688Z",
     "shell.execute_reply": "2022-02-14T15:22:12.647280Z"
    }
   },
   "outputs": [],
   "source": [
    "hg_ = string.(hg[!, \"symbol\"])\n",
    "\n",
    ";"
   ]
  },
  {
   "cell_type": "code",
   "execution_count": null,
   "id": "0dcb6a68",
   "metadata": {
    "execution": {
     "iopub.execute_input": "2022-02-14T15:22:12.649800Z",
     "iopub.status.busy": "2022-02-14T15:22:12.649150Z",
     "iopub.status.idle": "2022-02-14T15:22:31.764494Z",
     "shell.execute_reply": "2022-02-14T15:22:31.764100Z"
    }
   },
   "outputs": [],
   "source": [
    "na_, ma_ = OnePiece.gene.rename(hg_)"
   ]
  },
  {
   "cell_type": "code",
   "execution_count": null,
   "id": "9b31bde2",
   "metadata": {
    "execution": {
     "iopub.execute_input": "2022-02-14T15:22:31.766485Z",
     "iopub.status.busy": "2022-02-14T15:22:31.765988Z",
     "iopub.status.idle": "2022-02-14T15:22:32.554739Z",
     "shell.execute_reply": "2022-02-14T15:22:32.554275Z"
    }
   },
   "outputs": [],
   "source": [
    "ge_ = unique(skipmissing(en[!, \"Gene name\"]))\n",
    "\n",
    "na_, ma_ = OnePiece.gene.rename(ge_; mo = false, en = false)"
   ]
  },
  {
   "cell_type": "code",
   "execution_count": null,
   "id": "bb77a60e",
   "metadata": {
    "execution": {
     "iopub.execute_input": "2022-02-14T15:22:32.556637Z",
     "iopub.status.busy": "2022-02-14T15:22:32.556063Z",
     "iopub.status.idle": "2022-02-14T15:22:33.900847Z",
     "shell.execute_reply": "2022-02-14T15:22:33.900470Z"
    }
   },
   "outputs": [],
   "source": [
    "hg_gr = OnePiece.extension.dataframe.map_to_column(coalesce.(hg, \"?\"), [\"symbol\", \"gene_group\"])"
   ]
  },
  {
   "cell_type": "code",
   "execution_count": null,
   "id": "5f36e738",
   "metadata": {
    "execution": {
     "iopub.execute_input": "2022-02-14T15:22:33.902599Z",
     "iopub.status.busy": "2022-02-14T15:22:33.902108Z",
     "iopub.status.idle": "2022-02-14T15:22:34.011230Z",
     "shell.execute_reply": "2022-02-14T15:22:34.010874Z"
    }
   },
   "outputs": [],
   "source": [
    "println(join(unique([hg_gr[na] for na in na_[ma_ .== 1]]), \"\\n\"))"
   ]
  },
  {
   "cell_type": "code",
   "execution_count": null,
   "id": "5f70be28",
   "metadata": {
    "execution": {
     "iopub.execute_input": "2022-02-14T15:22:34.013708Z",
     "iopub.status.busy": "2022-02-14T15:22:34.012883Z",
     "iopub.status.idle": "2022-02-14T15:22:34.510358Z",
     "shell.execute_reply": "2022-02-14T15:22:34.509943Z"
    }
   },
   "outputs": [],
   "source": [
    "en_ty = OnePiece.extension.dataframe.map_to_column(en, [\"Gene name\", \"Gene type\"])\n",
    "\n",
    "println(join(unique([en_ty[na] for na in na_[ma_ .== 2]]), \"\\n\"))"
   ]
  },
  {
   "cell_type": "markdown",
   "id": "3f396855",
   "metadata": {},
   "source": [
    "---"
   ]
  },
  {
   "cell_type": "code",
   "execution_count": null,
   "id": "b4af2023",
   "metadata": {
    "execution": {
     "iopub.execute_input": "2022-02-14T15:22:34.512383Z",
     "iopub.status.busy": "2022-02-14T15:22:34.511812Z",
     "iopub.status.idle": "2022-02-14T15:22:34.514368Z",
     "shell.execute_reply": "2022-02-14T15:22:34.513804Z"
    }
   },
   "outputs": [],
   "source": [
    "if isdir(TE)\n",
    "\n",
    "    rm(TE, recursive = true)\n",
    "\n",
    "    println(\"Removed \", TE, \".\")\n",
    "\n",
    "end"
   ]
  }
 ],
 "metadata": {
  "kernelspec": {
   "display_name": "Julia 1.7.2",
   "language": "julia",
   "name": "julia-1.7"
  },
  "language_info": {
   "file_extension": ".jl",
   "mimetype": "application/julia",
   "name": "julia",
   "version": "1.7.2"
  }
 },
 "nbformat": 4,
 "nbformat_minor": 5
}
