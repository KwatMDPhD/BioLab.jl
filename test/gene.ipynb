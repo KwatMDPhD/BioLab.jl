{
 "cells": [
  {
   "cell_type": "code",
   "execution_count": null,
   "id": "017464da",
   "metadata": {
    "execution": {
     "iopub.execute_input": "2022-02-11T08:14:25.013773Z",
     "iopub.status.busy": "2022-02-11T08:14:24.672171Z",
     "iopub.status.idle": "2022-02-11T08:14:25.202277Z",
     "shell.execute_reply": "2022-02-11T08:14:25.201773Z"
    }
   },
   "outputs": [],
   "source": [
    "TE = joinpath(tempdir(), \"OnePiece.test\")\n",
    "\n",
    "if isdir(TE)\n",
    "\n",
    "    rm(TE; recursive = true)\n",
    "\n",
    "    println(\"Removed \", TE, \".\")\n",
    "\n",
    "end\n",
    "\n",
    "mkdir(TE)\n",
    "\n",
    "println(\"Made \", TE, \".\")"
   ]
  },
  {
   "cell_type": "code",
   "execution_count": null,
   "id": "34e4701e",
   "metadata": {
    "execution": {
     "iopub.execute_input": "2022-02-11T08:14:25.204258Z",
     "iopub.status.busy": "2022-02-11T08:14:25.203742Z",
     "iopub.status.idle": "2022-02-11T08:14:29.440188Z",
     "shell.execute_reply": "2022-02-11T08:14:29.439730Z"
    }
   },
   "outputs": [],
   "source": [
    "using OnePiece"
   ]
  },
  {
   "cell_type": "markdown",
   "id": "b92a3da9",
   "metadata": {},
   "source": [
    "---"
   ]
  },
  {
   "cell_type": "markdown",
   "id": "19d500c7",
   "metadata": {},
   "source": [
    "## read_hgnc"
   ]
  },
  {
   "cell_type": "code",
   "execution_count": null,
   "id": "31c67e64",
   "metadata": {
    "execution": {
     "iopub.execute_input": "2022-02-11T08:14:29.747933Z",
     "iopub.status.busy": "2022-02-11T08:14:29.441618Z",
     "iopub.status.idle": "2022-02-11T08:14:48.873714Z",
     "shell.execute_reply": "2022-02-11T08:14:48.873322Z"
    }
   },
   "outputs": [],
   "source": [
    "hg = OnePiece.gene.read_hgnc()\n",
    "\n",
    "size(hg)"
   ]
  },
  {
   "cell_type": "markdown",
   "id": "1e618da3",
   "metadata": {},
   "source": [
    "## read_ensembl"
   ]
  },
  {
   "cell_type": "code",
   "execution_count": null,
   "id": "cecc8625",
   "metadata": {
    "execution": {
     "iopub.execute_input": "2022-02-11T08:14:48.875772Z",
     "iopub.status.busy": "2022-02-11T08:14:48.875271Z",
     "iopub.status.idle": "2022-02-11T08:14:50.130508Z",
     "shell.execute_reply": "2022-02-11T08:14:50.130120Z"
    }
   },
   "outputs": [],
   "source": [
    "en = OnePiece.gene.read_ensembl()\n",
    "\n",
    "size(en)"
   ]
  },
  {
   "cell_type": "code",
   "execution_count": null,
   "id": "2704ed42",
   "metadata": {
    "execution": {
     "iopub.execute_input": "2022-02-11T08:14:50.132359Z",
     "iopub.status.busy": "2022-02-11T08:14:50.131757Z",
     "iopub.status.idle": "2022-02-11T08:14:50.632298Z",
     "shell.execute_reply": "2022-02-11T08:14:50.631911Z"
    }
   },
   "outputs": [],
   "source": [
    "en = OnePiece.gene.read_ensembl(; or = \"mouse\")\n",
    "\n",
    "size(en)"
   ]
  },
  {
   "cell_type": "markdown",
   "id": "067fadb9",
   "metadata": {},
   "source": [
    "## map_to_hgnc_gene"
   ]
  },
  {
   "cell_type": "code",
   "execution_count": null,
   "id": "0ac96217",
   "metadata": {
    "execution": {
     "iopub.execute_input": "2022-02-11T08:14:50.634378Z",
     "iopub.status.busy": "2022-02-11T08:14:50.633762Z",
     "iopub.status.idle": "2022-02-11T08:14:53.372342Z",
     "shell.execute_reply": "2022-02-11T08:14:53.371946Z"
    }
   },
   "outputs": [],
   "source": [
    "st_hg = OnePiece.gene.map_to_hgnc_gene()"
   ]
  },
  {
   "cell_type": "markdown",
   "id": "d8ed8dfc",
   "metadata": {},
   "source": [
    "## map_to_ensembl_gene"
   ]
  },
  {
   "cell_type": "code",
   "execution_count": null,
   "id": "b1068615",
   "metadata": {
    "execution": {
     "iopub.execute_input": "2022-02-11T08:14:53.374489Z",
     "iopub.status.busy": "2022-02-11T08:14:53.373998Z",
     "iopub.status.idle": "2022-02-11T08:15:01.390366Z",
     "shell.execute_reply": "2022-02-11T08:15:01.389970Z"
    }
   },
   "outputs": [],
   "source": [
    "st_en = OnePiece.gene.map_to_ensembl_gene()"
   ]
  },
  {
   "cell_type": "markdown",
   "id": "64ff451e",
   "metadata": {},
   "source": [
    "## map_with_mouse"
   ]
  },
  {
   "cell_type": "code",
   "execution_count": null,
   "id": "344da7eb",
   "metadata": {
    "execution": {
     "iopub.execute_input": "2022-02-11T08:15:01.392544Z",
     "iopub.status.busy": "2022-02-11T08:15:01.391911Z",
     "iopub.status.idle": "2022-02-11T08:15:12.756628Z",
     "shell.execute_reply": "2022-02-11T08:15:12.756186Z"
    }
   },
   "outputs": [],
   "source": [
    "OnePiece.gene.map_with_mouse()"
   ]
  },
  {
   "cell_type": "code",
   "execution_count": null,
   "id": "c3b98547",
   "metadata": {
    "execution": {
     "iopub.execute_input": "2022-02-11T08:15:12.758630Z",
     "iopub.status.busy": "2022-02-11T08:15:12.758129Z",
     "iopub.status.idle": "2022-02-11T08:15:22.889131Z",
     "shell.execute_reply": "2022-02-11T08:15:22.888709Z"
    }
   },
   "outputs": [],
   "source": [
    "OnePiece.gene.map_with_mouse(; ho = \"human_to_mouse\")"
   ]
  },
  {
   "cell_type": "markdown",
   "id": "cfb03409",
   "metadata": {},
   "source": [
    "## rename"
   ]
  },
  {
   "cell_type": "code",
   "execution_count": null,
   "id": "e2b70674",
   "metadata": {
    "execution": {
     "iopub.execute_input": "2022-02-11T08:15:22.891200Z",
     "iopub.status.busy": "2022-02-11T08:15:22.890635Z",
     "iopub.status.idle": "2022-02-11T08:15:22.940123Z",
     "shell.execute_reply": "2022-02-11T08:15:22.939643Z"
    }
   },
   "outputs": [],
   "source": [
    "hg_ = string.(hg[!, \"symbol\"])\n",
    "\n",
    ";"
   ]
  },
  {
   "cell_type": "code",
   "execution_count": null,
   "id": "0dcb6a68",
   "metadata": {
    "execution": {
     "iopub.execute_input": "2022-02-11T08:15:22.942007Z",
     "iopub.status.busy": "2022-02-11T08:15:22.941510Z",
     "iopub.status.idle": "2022-02-11T08:15:42.115309Z",
     "shell.execute_reply": "2022-02-11T08:15:42.114881Z"
    }
   },
   "outputs": [],
   "source": [
    "na_, ma_ = OnePiece.gene.rename(hg_)"
   ]
  },
  {
   "cell_type": "code",
   "execution_count": null,
   "id": "9b31bde2",
   "metadata": {
    "execution": {
     "iopub.execute_input": "2022-02-11T08:15:42.117353Z",
     "iopub.status.busy": "2022-02-11T08:15:42.116780Z",
     "iopub.status.idle": "2022-02-11T08:15:42.897908Z",
     "shell.execute_reply": "2022-02-11T08:15:42.897450Z"
    }
   },
   "outputs": [],
   "source": [
    "ge_ = unique(skipmissing(en[!, \"Gene name\"]))\n",
    "\n",
    "na_, ma_ = OnePiece.gene.rename(ge_; mo = false, en = false)"
   ]
  },
  {
   "cell_type": "code",
   "execution_count": null,
   "id": "bb77a60e",
   "metadata": {
    "execution": {
     "iopub.execute_input": "2022-02-11T08:15:42.899803Z",
     "iopub.status.busy": "2022-02-11T08:15:42.899211Z",
     "iopub.status.idle": "2022-02-11T08:15:44.262204Z",
     "shell.execute_reply": "2022-02-11T08:15:44.261819Z"
    }
   },
   "outputs": [],
   "source": [
    "hg_gr = OnePiece.extension.dataframe.map_to_column(coalesce.(hg, \"?\"), [\"symbol\", \"gene_group\"])"
   ]
  },
  {
   "cell_type": "code",
   "execution_count": null,
   "id": "5f36e738",
   "metadata": {
    "execution": {
     "iopub.execute_input": "2022-02-11T08:15:44.264121Z",
     "iopub.status.busy": "2022-02-11T08:15:44.263632Z",
     "iopub.status.idle": "2022-02-11T08:15:44.377212Z",
     "shell.execute_reply": "2022-02-11T08:15:44.376862Z"
    }
   },
   "outputs": [],
   "source": [
    "println(join(unique([hg_gr[na] for na in na_[ma_ .== 1]]), \"\\n\"))"
   ]
  },
  {
   "cell_type": "code",
   "execution_count": null,
   "id": "5f70be28",
   "metadata": {
    "execution": {
     "iopub.execute_input": "2022-02-11T08:15:44.379300Z",
     "iopub.status.busy": "2022-02-11T08:15:44.378721Z",
     "iopub.status.idle": "2022-02-11T08:15:44.863639Z",
     "shell.execute_reply": "2022-02-11T08:15:44.863175Z"
    }
   },
   "outputs": [],
   "source": [
    "en_ty = OnePiece.extension.dataframe.map_to_column(en, [\"Gene name\", \"Gene type\"])\n",
    "\n",
    "println(join(unique([en_ty[na] for na in na_[ma_ .== 2]]), \"\\n\"))"
   ]
  },
  {
   "cell_type": "markdown",
   "id": "3f396855",
   "metadata": {},
   "source": [
    "---"
   ]
  },
  {
   "cell_type": "code",
   "execution_count": null,
   "id": "b4af2023",
   "metadata": {
    "execution": {
     "iopub.execute_input": "2022-02-11T08:15:44.865671Z",
     "iopub.status.busy": "2022-02-11T08:15:44.865011Z",
     "iopub.status.idle": "2022-02-11T08:15:44.867470Z",
     "shell.execute_reply": "2022-02-11T08:15:44.867038Z"
    }
   },
   "outputs": [],
   "source": [
    "if isdir(TE)\n",
    "\n",
    "    rm(TE; recursive = true)\n",
    "\n",
    "    println(\"Removed \", TE, \".\")\n",
    "\n",
    "end"
   ]
  }
 ],
 "metadata": {
  "kernelspec": {
   "display_name": "Julia 1.7.2",
   "language": "julia",
   "name": "julia-1.7"
  },
  "language_info": {
   "file_extension": ".jl",
   "mimetype": "application/julia",
   "name": "julia",
   "version": "1.7.2"
  }
 },
 "nbformat": 4,
 "nbformat_minor": 5
}
