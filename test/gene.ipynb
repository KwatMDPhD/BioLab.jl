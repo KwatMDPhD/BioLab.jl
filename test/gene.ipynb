{
 "cells": [
  {
   "cell_type": "code",
   "execution_count": null,
   "id": "017464da",
   "metadata": {
    "execution": {
     "iopub.execute_input": "2022-02-14T02:57:04.130762Z",
     "iopub.status.busy": "2022-02-14T02:57:03.698831Z",
     "iopub.status.idle": "2022-02-14T02:57:04.382452Z",
     "shell.execute_reply": "2022-02-14T02:57:04.381802Z"
    }
   },
   "outputs": [],
   "source": [
    "TE = joinpath(tempdir(), \"OnePiece.test\")\n",
    "\n",
    "if isdir(TE)\n",
    "\n",
    "    rm(TE, recursive = true)\n",
    "\n",
    "    println(\"Removed \", TE, \".\")\n",
    "\n",
    "end\n",
    "\n",
    "mkdir(TE)\n",
    "\n",
    "println(\"Made \", TE, \".\")"
   ]
  },
  {
   "cell_type": "code",
   "execution_count": null,
   "id": "34e4701e",
   "metadata": {
    "execution": {
     "iopub.execute_input": "2022-02-14T02:57:04.384614Z",
     "iopub.status.busy": "2022-02-14T02:57:04.383979Z",
     "iopub.status.idle": "2022-02-14T02:57:09.669706Z",
     "shell.execute_reply": "2022-02-14T02:57:09.669136Z"
    }
   },
   "outputs": [],
   "source": [
    "using OnePiece"
   ]
  },
  {
   "cell_type": "markdown",
   "id": "b92a3da9",
   "metadata": {},
   "source": [
    "---"
   ]
  },
  {
   "cell_type": "markdown",
   "id": "19d500c7",
   "metadata": {},
   "source": [
    "## read_hgnc"
   ]
  },
  {
   "cell_type": "code",
   "execution_count": null,
   "id": "31c67e64",
   "metadata": {
    "execution": {
     "iopub.execute_input": "2022-02-14T02:57:10.077029Z",
     "iopub.status.busy": "2022-02-14T02:57:09.671331Z",
     "iopub.status.idle": "2022-02-14T02:57:34.426183Z",
     "shell.execute_reply": "2022-02-14T02:57:34.425596Z"
    }
   },
   "outputs": [],
   "source": [
    "hg = OnePiece.gene.read_hgnc()\n",
    "\n",
    "size(hg)"
   ]
  },
  {
   "cell_type": "markdown",
   "id": "1e618da3",
   "metadata": {},
   "source": [
    "## read_ensembl"
   ]
  },
  {
   "cell_type": "code",
   "execution_count": null,
   "id": "cecc8625",
   "metadata": {
    "execution": {
     "iopub.execute_input": "2022-02-14T02:57:34.428672Z",
     "iopub.status.busy": "2022-02-14T02:57:34.427828Z",
     "iopub.status.idle": "2022-02-14T02:57:35.859222Z",
     "shell.execute_reply": "2022-02-14T02:57:35.858651Z"
    }
   },
   "outputs": [],
   "source": [
    "en = OnePiece.gene.read_ensembl()\n",
    "\n",
    "size(en)"
   ]
  },
  {
   "cell_type": "code",
   "execution_count": null,
   "id": "2704ed42",
   "metadata": {
    "execution": {
     "iopub.execute_input": "2022-02-14T02:57:35.861467Z",
     "iopub.status.busy": "2022-02-14T02:57:35.860804Z",
     "iopub.status.idle": "2022-02-14T02:57:36.733752Z",
     "shell.execute_reply": "2022-02-14T02:57:36.733226Z"
    }
   },
   "outputs": [],
   "source": [
    "en = OnePiece.gene.read_ensembl(; or = \"mouse\")\n",
    "\n",
    "size(en)"
   ]
  },
  {
   "cell_type": "markdown",
   "id": "067fadb9",
   "metadata": {},
   "source": [
    "## map_to_hgnc_gene"
   ]
  },
  {
   "cell_type": "code",
   "execution_count": null,
   "id": "0ac96217",
   "metadata": {
    "execution": {
     "iopub.execute_input": "2022-02-14T02:57:36.736022Z",
     "iopub.status.busy": "2022-02-14T02:57:36.735358Z",
     "iopub.status.idle": "2022-02-14T02:57:40.244775Z",
     "shell.execute_reply": "2022-02-14T02:57:40.244248Z"
    }
   },
   "outputs": [],
   "source": [
    "st_hg = OnePiece.gene.map_to_hgnc_gene()"
   ]
  },
  {
   "cell_type": "markdown",
   "id": "d8ed8dfc",
   "metadata": {},
   "source": [
    "## map_to_ensembl_gene"
   ]
  },
  {
   "cell_type": "code",
   "execution_count": null,
   "id": "b1068615",
   "metadata": {
    "execution": {
     "iopub.execute_input": "2022-02-14T02:57:40.247021Z",
     "iopub.status.busy": "2022-02-14T02:57:40.246362Z",
     "iopub.status.idle": "2022-02-14T02:57:51.076917Z",
     "shell.execute_reply": "2022-02-14T02:57:51.076356Z"
    }
   },
   "outputs": [],
   "source": [
    "st_en = OnePiece.gene.map_to_ensembl_gene()"
   ]
  },
  {
   "cell_type": "markdown",
   "id": "64ff451e",
   "metadata": {},
   "source": [
    "## map_with_mouse"
   ]
  },
  {
   "cell_type": "code",
   "execution_count": null,
   "id": "344da7eb",
   "metadata": {
    "execution": {
     "iopub.execute_input": "2022-02-14T02:57:51.079499Z",
     "iopub.status.busy": "2022-02-14T02:57:51.078649Z",
     "iopub.status.idle": "2022-02-14T02:58:07.480130Z",
     "shell.execute_reply": "2022-02-14T02:58:07.479455Z"
    }
   },
   "outputs": [],
   "source": [
    "OnePiece.gene.map_with_mouse()"
   ]
  },
  {
   "cell_type": "code",
   "execution_count": null,
   "id": "c3b98547",
   "metadata": {
    "execution": {
     "iopub.execute_input": "2022-02-14T02:58:07.482563Z",
     "iopub.status.busy": "2022-02-14T02:58:07.481833Z",
     "iopub.status.idle": "2022-02-14T02:58:21.898989Z",
     "shell.execute_reply": "2022-02-14T02:58:21.898407Z"
    }
   },
   "outputs": [],
   "source": [
    "OnePiece.gene.map_with_mouse(; ho = \"human_to_mouse\")"
   ]
  },
  {
   "cell_type": "markdown",
   "id": "cfb03409",
   "metadata": {},
   "source": [
    "## rename"
   ]
  },
  {
   "cell_type": "code",
   "execution_count": null,
   "id": "e2b70674",
   "metadata": {
    "execution": {
     "iopub.execute_input": "2022-02-14T02:58:21.901454Z",
     "iopub.status.busy": "2022-02-14T02:58:21.900723Z",
     "iopub.status.idle": "2022-02-14T02:58:21.974747Z",
     "shell.execute_reply": "2022-02-14T02:58:21.974091Z"
    }
   },
   "outputs": [],
   "source": [
    "hg_ = string.(hg[!, \"symbol\"])\n",
    "\n",
    ";"
   ]
  },
  {
   "cell_type": "code",
   "execution_count": null,
   "id": "0dcb6a68",
   "metadata": {
    "execution": {
     "iopub.execute_input": "2022-02-14T02:58:21.977150Z",
     "iopub.status.busy": "2022-02-14T02:58:21.976421Z",
     "iopub.status.idle": "2022-02-14T02:58:47.506156Z",
     "shell.execute_reply": "2022-02-14T02:58:47.505615Z"
    }
   },
   "outputs": [],
   "source": [
    "na_, ma_ = OnePiece.gene.rename(hg_)"
   ]
  },
  {
   "cell_type": "code",
   "execution_count": null,
   "id": "9b31bde2",
   "metadata": {
    "execution": {
     "iopub.execute_input": "2022-02-14T02:58:47.508464Z",
     "iopub.status.busy": "2022-02-14T02:58:47.507806Z",
     "iopub.status.idle": "2022-02-14T02:58:48.512316Z",
     "shell.execute_reply": "2022-02-14T02:58:48.511649Z"
    }
   },
   "outputs": [],
   "source": [
    "ge_ = unique(skipmissing(en[!, \"Gene name\"]))\n",
    "\n",
    "na_, ma_ = OnePiece.gene.rename(ge_; mo = false, en = false)"
   ]
  },
  {
   "cell_type": "code",
   "execution_count": null,
   "id": "bb77a60e",
   "metadata": {
    "execution": {
     "iopub.execute_input": "2022-02-14T02:58:48.514781Z",
     "iopub.status.busy": "2022-02-14T02:58:48.513822Z",
     "iopub.status.idle": "2022-02-14T02:58:50.402829Z",
     "shell.execute_reply": "2022-02-14T02:58:50.402309Z"
    }
   },
   "outputs": [],
   "source": [
    "hg_gr = OnePiece.extension.dataframe.map_to_column(coalesce.(hg, \"?\"), [\"symbol\", \"gene_group\"])"
   ]
  },
  {
   "cell_type": "code",
   "execution_count": null,
   "id": "5f36e738",
   "metadata": {
    "execution": {
     "iopub.execute_input": "2022-02-14T02:58:50.405113Z",
     "iopub.status.busy": "2022-02-14T02:58:50.404387Z",
     "iopub.status.idle": "2022-02-14T02:58:50.563502Z",
     "shell.execute_reply": "2022-02-14T02:58:50.562795Z"
    }
   },
   "outputs": [],
   "source": [
    "println(join(unique([hg_gr[na] for na in na_[ma_ .== 1]]), \"\\n\"))"
   ]
  },
  {
   "cell_type": "code",
   "execution_count": null,
   "id": "5f70be28",
   "metadata": {
    "execution": {
     "iopub.execute_input": "2022-02-14T02:58:50.565805Z",
     "iopub.status.busy": "2022-02-14T02:58:50.565113Z",
     "iopub.status.idle": "2022-02-14T02:58:51.197991Z",
     "shell.execute_reply": "2022-02-14T02:58:51.197481Z"
    }
   },
   "outputs": [],
   "source": [
    "en_ty = OnePiece.extension.dataframe.map_to_column(en, [\"Gene name\", \"Gene type\"])\n",
    "\n",
    "println(join(unique([en_ty[na] for na in na_[ma_ .== 2]]), \"\\n\"))"
   ]
  },
  {
   "cell_type": "markdown",
   "id": "3f396855",
   "metadata": {},
   "source": [
    "---"
   ]
  },
  {
   "cell_type": "code",
   "execution_count": null,
   "id": "b4af2023",
   "metadata": {
    "execution": {
     "iopub.execute_input": "2022-02-14T02:58:51.200275Z",
     "iopub.status.busy": "2022-02-14T02:58:51.199620Z",
     "iopub.status.idle": "2022-02-14T02:58:51.202413Z",
     "shell.execute_reply": "2022-02-14T02:58:51.201936Z"
    }
   },
   "outputs": [],
   "source": [
    "if isdir(TE)\n",
    "\n",
    "    rm(TE, recursive = true)\n",
    "\n",
    "    println(\"Removed \", TE, \".\")\n",
    "\n",
    "end"
   ]
  }
 ],
 "metadata": {
  "kernelspec": {
   "display_name": "Julia 1.7.2",
   "language": "julia",
   "name": "julia-1.7"
  },
  "language_info": {
   "file_extension": ".jl",
   "mimetype": "application/julia",
   "name": "julia",
   "version": "1.7.2"
  }
 },
 "nbformat": 4,
 "nbformat_minor": 5
}
