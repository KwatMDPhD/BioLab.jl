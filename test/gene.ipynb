{
 "cells": [
  {
   "cell_type": "code",
   "execution_count": null,
   "id": "017464da",
   "metadata": {},
   "outputs": [],
   "source": [
    "TE = joinpath(tempdir(), \"OnePiece.test\")\n",
    "\n",
    "if isdir(TE)\n",
    "\n",
    "    rm(TE, recursive = true)\n",
    "\n",
    "    println(\"Removed \", TE, \".\")\n",
    "\n",
    "end\n",
    "\n",
    "mkdir(TE)\n",
    "\n",
    "println(\"Made \", TE, \".\")"
   ]
  },
  {
   "cell_type": "code",
   "execution_count": null,
   "id": "34e4701e",
   "metadata": {
    "execution": {
     "iopub.execute_input": "2022-02-10T17:51:23.590384Z",
     "iopub.status.busy": "2022-02-10T17:51:23.250154Z",
     "iopub.status.idle": "2022-02-10T17:51:24.482021Z",
     "shell.execute_reply": "2022-02-10T17:51:24.481306Z"
    }
   },
   "outputs": [],
   "source": [
    "using OnePiece"
   ]
  },
  {
   "cell_type": "markdown",
   "id": "b92a3da9",
   "metadata": {},
   "source": [
    "---"
   ]
  },
  {
   "cell_type": "markdown",
   "id": "19d500c7",
   "metadata": {},
   "source": [
    "## read_hgnc"
   ]
  },
  {
   "cell_type": "code",
   "execution_count": null,
   "id": "31c67e64",
   "metadata": {
    "execution": {
     "iopub.execute_input": "2022-02-11T17:45:11.536638Z",
     "iopub.status.busy": "2022-02-11T17:45:11.171311Z",
     "iopub.status.idle": "2022-02-11T17:45:32.246365Z",
     "shell.execute_reply": "2022-02-11T17:45:32.245538Z"
    }
   },
   "outputs": [],
   "source": [
    "hg = OnePiece.gene.read_hgnc()\n",
    "\n",
    "size(hg)"
   ]
  },
  {
   "cell_type": "markdown",
   "id": "1e618da3",
   "metadata": {},
   "source": [
    "## read_ensembl"
   ]
  },
  {
   "cell_type": "code",
   "execution_count": null,
   "id": "cecc8625",
   "metadata": {
    "execution": {
     "iopub.execute_input": "2022-02-11T17:45:32.248485Z",
     "iopub.status.busy": "2022-02-11T17:45:32.247913Z",
     "iopub.status.idle": "2022-02-11T17:45:33.489854Z",
     "shell.execute_reply": "2022-02-11T17:45:33.489463Z"
    }
   },
   "outputs": [],
   "source": [
    "en = OnePiece.gene.read_ensembl()\n",
    "\n",
    "size(en)"
   ]
  },
  {
   "cell_type": "code",
   "execution_count": null,
   "id": "2704ed42",
   "metadata": {
    "execution": {
     "iopub.execute_input": "2022-02-11T17:45:33.491821Z",
     "iopub.status.busy": "2022-02-11T17:45:33.491210Z",
     "iopub.status.idle": "2022-02-11T17:45:34.126335Z",
     "shell.execute_reply": "2022-02-11T17:45:34.125904Z"
    }
   },
   "outputs": [],
   "source": [
    "en = OnePiece.gene.read_ensembl(; or = \"mouse\")\n",
    "\n",
    "size(en)"
   ]
  },
  {
   "cell_type": "markdown",
   "id": "067fadb9",
   "metadata": {},
   "source": [
    "## map_to_hgnc_gene"
   ]
  },
  {
   "cell_type": "code",
   "execution_count": null,
   "id": "0ac96217",
   "metadata": {
    "execution": {
     "iopub.execute_input": "2022-02-11T17:45:34.128701Z",
     "iopub.status.busy": "2022-02-11T17:45:34.128054Z",
     "iopub.status.idle": "2022-02-11T17:45:36.912208Z",
     "shell.execute_reply": "2022-02-11T17:45:36.911812Z"
    }
   },
   "outputs": [],
   "source": [
    "st_hg = OnePiece.gene.map_to_hgnc_gene()"
   ]
  },
  {
   "cell_type": "markdown",
   "id": "d8ed8dfc",
   "metadata": {},
   "source": [
    "## map_to_ensembl_gene"
   ]
  },
  {
   "cell_type": "code",
   "execution_count": null,
   "id": "b1068615",
   "metadata": {
    "execution": {
     "iopub.execute_input": "2022-02-11T17:45:36.915305Z",
     "iopub.status.busy": "2022-02-11T17:45:36.914800Z",
     "iopub.status.idle": "2022-02-11T17:45:45.546463Z",
     "shell.execute_reply": "2022-02-11T17:45:45.546058Z"
    }
   },
   "outputs": [],
   "source": [
    "st_en = OnePiece.gene.map_to_ensembl_gene()"
   ]
  },
  {
   "cell_type": "markdown",
   "id": "64ff451e",
   "metadata": {},
   "source": [
    "## map_with_mouse"
   ]
  },
  {
   "cell_type": "code",
   "execution_count": null,
   "id": "344da7eb",
   "metadata": {
    "execution": {
     "iopub.execute_input": "2022-02-11T17:45:45.549276Z",
     "iopub.status.busy": "2022-02-11T17:45:45.548170Z",
     "iopub.status.idle": "2022-02-11T17:45:57.742641Z",
     "shell.execute_reply": "2022-02-11T17:45:57.742197Z"
    }
   },
   "outputs": [],
   "source": [
    "OnePiece.gene.map_with_mouse()"
   ]
  },
  {
   "cell_type": "code",
   "execution_count": null,
   "id": "c3b98547",
   "metadata": {
    "execution": {
     "iopub.execute_input": "2022-02-11T17:45:57.744558Z",
     "iopub.status.busy": "2022-02-11T17:45:57.743973Z",
     "iopub.status.idle": "2022-02-11T17:46:08.190861Z",
     "shell.execute_reply": "2022-02-11T17:46:08.190452Z"
    }
   },
   "outputs": [],
   "source": [
    "OnePiece.gene.map_with_mouse(; ho = \"human_to_mouse\")"
   ]
  },
  {
   "cell_type": "markdown",
   "id": "cfb03409",
   "metadata": {},
   "source": [
    "## rename"
   ]
  },
  {
   "cell_type": "code",
   "execution_count": null,
   "id": "e2b70674",
   "metadata": {
    "execution": {
     "iopub.execute_input": "2022-02-11T17:46:08.192741Z",
     "iopub.status.busy": "2022-02-11T17:46:08.192229Z",
     "iopub.status.idle": "2022-02-11T17:46:08.244503Z",
     "shell.execute_reply": "2022-02-11T17:46:08.244055Z"
    }
   },
   "outputs": [],
   "source": [
    "hg_ = string.(hg[!, \"symbol\"])\n",
    "\n",
    ";"
   ]
  },
  {
   "cell_type": "code",
   "execution_count": null,
   "id": "0dcb6a68",
   "metadata": {
    "execution": {
     "iopub.execute_input": "2022-02-11T17:46:08.246584Z",
     "iopub.status.busy": "2022-02-11T17:46:08.246085Z",
     "iopub.status.idle": "2022-02-11T17:46:28.490356Z",
     "shell.execute_reply": "2022-02-11T17:46:28.489956Z"
    }
   },
   "outputs": [],
   "source": [
    "na_, ma_ = OnePiece.gene.rename(hg_)"
   ]
  },
  {
   "cell_type": "code",
   "execution_count": null,
   "id": "9b31bde2",
   "metadata": {
    "execution": {
     "iopub.execute_input": "2022-02-11T17:46:28.492508Z",
     "iopub.status.busy": "2022-02-11T17:46:28.491866Z",
     "iopub.status.idle": "2022-02-11T17:46:29.285254Z",
     "shell.execute_reply": "2022-02-11T17:46:29.284791Z"
    }
   },
   "outputs": [],
   "source": [
    "ge_ = unique(skipmissing(en[!, \"Gene name\"]))\n",
    "\n",
    "na_, ma_ = OnePiece.gene.rename(ge_; mo = false, en = false)"
   ]
  },
  {
   "cell_type": "code",
   "execution_count": null,
   "id": "bb77a60e",
   "metadata": {
    "execution": {
     "iopub.execute_input": "2022-02-11T17:46:29.287254Z",
     "iopub.status.busy": "2022-02-11T17:46:29.286600Z",
     "iopub.status.idle": "2022-02-11T17:46:30.822528Z",
     "shell.execute_reply": "2022-02-11T17:46:30.821987Z"
    }
   },
   "outputs": [],
   "source": [
    "hg_gr = OnePiece.extension.dataframe.map_to_column(coalesce.(hg, \"?\"), [\"symbol\", \"gene_group\"])"
   ]
  },
  {
   "cell_type": "code",
   "execution_count": null,
   "id": "5f36e738",
   "metadata": {
    "execution": {
     "iopub.execute_input": "2022-02-11T17:46:30.824713Z",
     "iopub.status.busy": "2022-02-11T17:46:30.823899Z",
     "iopub.status.idle": "2022-02-11T17:46:30.945739Z",
     "shell.execute_reply": "2022-02-11T17:46:30.945192Z"
    }
   },
   "outputs": [],
   "source": [
    "println(join(unique([hg_gr[na] for na in na_[ma_ .== 1]]), \"\\n\"))"
   ]
  },
  {
   "cell_type": "code",
   "execution_count": null,
   "id": "5f70be28",
   "metadata": {
    "execution": {
     "iopub.execute_input": "2022-02-11T17:46:30.947829Z",
     "iopub.status.busy": "2022-02-11T17:46:30.947183Z",
     "iopub.status.idle": "2022-02-11T17:46:31.481636Z",
     "shell.execute_reply": "2022-02-11T17:46:31.481068Z"
    }
   },
   "outputs": [],
   "source": [
    "en_ty = OnePiece.extension.dataframe.map_to_column(en, [\"Gene name\", \"Gene type\"])\n",
    "\n",
    "println(join(unique([en_ty[na] for na in na_[ma_ .== 2]]), \"\\n\"))"
   ]
  },
  {
   "cell_type": "markdown",
   "id": "3f396855",
   "metadata": {},
   "source": [
    "---"
   ]
  },
  {
   "cell_type": "code",
   "execution_count": null,
   "id": "b4af2023",
   "metadata": {},
   "outputs": [],
   "source": [
    "if isdir(TE)\n",
    "\n",
    "    rm(TE, recursive = true)\n",
    "\n",
    "    println(\"Removed \", TE, \".\")\n",
    "\n",
    "end"
   ]
  }
 ],
 "metadata": {
  "kernelspec": {
   "display_name": "Julia 1.7.2",
   "language": "julia",
   "name": "julia-1.7"
  },
  "language_info": {
   "file_extension": ".jl",
   "mimetype": "application/julia",
   "name": "julia",
   "version": "1.7.2"
  }
 },
 "nbformat": 4,
 "nbformat_minor": 5
}
