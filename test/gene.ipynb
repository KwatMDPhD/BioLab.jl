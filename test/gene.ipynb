{
 "cells": [
  {
   "cell_type": "code",
   "execution_count": null,
   "id": "017464da",
   "metadata": {},
   "outputs": [],
   "source": [
    "TE = joinpath(tempdir(), \"OnePiece.test\")\n",
    "\n",
    "mkpath(TE)"
   ]
  },
  {
   "cell_type": "code",
   "execution_count": 1,
   "id": "34e4701e",
   "metadata": {
    "execution": {
     "iopub.execute_input": "2022-02-10T17:51:23.590384Z",
     "iopub.status.busy": "2022-02-10T17:51:23.250154Z",
     "iopub.status.idle": "2022-02-10T17:51:24.482021Z",
     "shell.execute_reply": "2022-02-10T17:51:24.481306Z"
    }
   },
   "outputs": [],
   "source": [
    "#using Revise\n",
    "using BenchmarkTools\n",
    "\n",
    "using OnePiece"
   ]
  },
  {
   "cell_type": "markdown",
   "id": "65450cb4",
   "metadata": {},
   "source": [
    "---"
   ]
  },
  {
   "cell_type": "markdown",
   "id": "19d500c7",
   "metadata": {},
   "source": [
    "## read_hgnc"
   ]
  },
  {
   "cell_type": "code",
   "execution_count": null,
   "id": "31c67e64",
   "metadata": {
    "execution": {
     "iopub.execute_input": "2022-02-10T19:21:35.275060Z",
     "iopub.status.busy": "2022-02-10T19:21:34.858473Z",
     "iopub.status.idle": "2022-02-10T19:21:57.351687Z",
     "shell.execute_reply": "2022-02-10T19:21:57.351184Z"
    }
   },
   "outputs": [],
   "source": [
    "hg = OnePiece.gene.read_hgnc()\n",
    "\n",
    "size(hg)"
   ]
  },
  {
   "cell_type": "markdown",
   "id": "1e618da3",
   "metadata": {},
   "source": [
    "## read_ensembl"
   ]
  },
  {
   "cell_type": "code",
   "execution_count": null,
   "id": "cecc8625",
   "metadata": {
    "execution": {
     "iopub.execute_input": "2022-02-10T19:21:57.353789Z",
     "iopub.status.busy": "2022-02-10T19:21:57.353198Z",
     "iopub.status.idle": "2022-02-10T19:21:58.709514Z",
     "shell.execute_reply": "2022-02-10T19:21:58.709093Z"
    }
   },
   "outputs": [],
   "source": [
    "en = OnePiece.gene.read_ensembl()\n",
    "\n",
    "size(en)"
   ]
  },
  {
   "cell_type": "code",
   "execution_count": null,
   "id": "2704ed42",
   "metadata": {
    "execution": {
     "iopub.execute_input": "2022-02-10T19:21:58.711530Z",
     "iopub.status.busy": "2022-02-10T19:21:58.710914Z",
     "iopub.status.idle": "2022-02-10T19:21:59.393959Z",
     "shell.execute_reply": "2022-02-10T19:21:59.393503Z"
    }
   },
   "outputs": [],
   "source": [
    "en = OnePiece.gene.read_ensembl(; or = \"mouse\")\n",
    "\n",
    "size(en)"
   ]
  },
  {
   "cell_type": "markdown",
   "id": "067fadb9",
   "metadata": {},
   "source": [
    "## map_to_hgnc_gene"
   ]
  },
  {
   "cell_type": "code",
   "execution_count": null,
   "id": "0ac96217",
   "metadata": {
    "execution": {
     "iopub.execute_input": "2022-02-10T19:21:59.395991Z",
     "iopub.status.busy": "2022-02-10T19:21:59.395483Z",
     "iopub.status.idle": "2022-02-10T19:22:01.834916Z",
     "shell.execute_reply": "2022-02-10T19:22:01.834536Z"
    }
   },
   "outputs": [],
   "source": [
    "st_hg = OnePiece.gene.map_to_hgnc_gene()"
   ]
  },
  {
   "cell_type": "markdown",
   "id": "d8ed8dfc",
   "metadata": {},
   "source": [
    "## map_to_ensembl_gene"
   ]
  },
  {
   "cell_type": "code",
   "execution_count": null,
   "id": "b1068615",
   "metadata": {
    "execution": {
     "iopub.execute_input": "2022-02-10T19:22:01.836916Z",
     "iopub.status.busy": "2022-02-10T19:22:01.836343Z",
     "iopub.status.idle": "2022-02-10T19:22:10.155782Z",
     "shell.execute_reply": "2022-02-10T19:22:10.155293Z"
    }
   },
   "outputs": [],
   "source": [
    "st_en = OnePiece.gene.map_to_ensembl_gene()"
   ]
  },
  {
   "cell_type": "markdown",
   "id": "64ff451e",
   "metadata": {},
   "source": [
    "## map_with_mouse"
   ]
  },
  {
   "cell_type": "code",
   "execution_count": null,
   "id": "344da7eb",
   "metadata": {
    "execution": {
     "iopub.execute_input": "2022-02-10T19:22:10.157968Z",
     "iopub.status.busy": "2022-02-10T19:22:10.157320Z",
     "iopub.status.idle": "2022-02-10T19:22:21.586442Z",
     "shell.execute_reply": "2022-02-10T19:22:21.586057Z"
    }
   },
   "outputs": [],
   "source": [
    "OnePiece.gene.map_with_mouse()"
   ]
  },
  {
   "cell_type": "code",
   "execution_count": null,
   "id": "c3b98547",
   "metadata": {
    "execution": {
     "iopub.execute_input": "2022-02-10T19:22:21.588382Z",
     "iopub.status.busy": "2022-02-10T19:22:21.587868Z",
     "iopub.status.idle": "2022-02-10T19:22:32.127177Z",
     "shell.execute_reply": "2022-02-10T19:22:32.126789Z"
    }
   },
   "outputs": [],
   "source": [
    "OnePiece.gene.map_with_mouse(; ho = \"human_to_mouse\")"
   ]
  },
  {
   "cell_type": "markdown",
   "id": "cfb03409",
   "metadata": {},
   "source": [
    "## rename"
   ]
  },
  {
   "cell_type": "code",
   "execution_count": null,
   "id": "e2b70674",
   "metadata": {
    "execution": {
     "iopub.execute_input": "2022-02-10T19:22:32.129238Z",
     "iopub.status.busy": "2022-02-10T19:22:32.128598Z",
     "iopub.status.idle": "2022-02-10T19:22:32.181678Z",
     "shell.execute_reply": "2022-02-10T19:22:32.181190Z"
    }
   },
   "outputs": [],
   "source": [
    "hg_ = string.(hg[!, \"symbol\"])\n",
    "\n",
    ";"
   ]
  },
  {
   "cell_type": "code",
   "execution_count": null,
   "id": "0dcb6a68",
   "metadata": {
    "execution": {
     "iopub.execute_input": "2022-02-10T19:22:32.183898Z",
     "iopub.status.busy": "2022-02-10T19:22:32.183314Z",
     "iopub.status.idle": "2022-02-10T19:22:51.690200Z",
     "shell.execute_reply": "2022-02-10T19:22:51.689678Z"
    }
   },
   "outputs": [],
   "source": [
    "na_, ma_ = OnePiece.gene.rename(hg_)"
   ]
  },
  {
   "cell_type": "code",
   "execution_count": null,
   "id": "9b31bde2",
   "metadata": {
    "execution": {
     "iopub.execute_input": "2022-02-10T19:22:51.692639Z",
     "iopub.status.busy": "2022-02-10T19:22:51.691810Z",
     "iopub.status.idle": "2022-02-10T19:22:52.270693Z",
     "shell.execute_reply": "2022-02-10T19:22:52.270232Z"
    }
   },
   "outputs": [],
   "source": [
    "ge_ = unique(skipmissing(en[!, \"Gene name\"]))\n",
    "\n",
    "na_, ma_ = OnePiece.gene.rename(ge_; mo = false, en = false)"
   ]
  },
  {
   "cell_type": "code",
   "execution_count": null,
   "id": "bb77a60e",
   "metadata": {
    "execution": {
     "iopub.execute_input": "2022-02-10T19:22:52.272614Z",
     "iopub.status.busy": "2022-02-10T19:22:52.272029Z",
     "iopub.status.idle": "2022-02-10T19:22:53.708331Z",
     "shell.execute_reply": "2022-02-10T19:22:53.707949Z"
    }
   },
   "outputs": [],
   "source": [
    "hg_gr = OnePiece.extension.dataframe.map_to_column(coalesce.(hg, \"?\"), [\"symbol\", \"gene_group\"])"
   ]
  },
  {
   "cell_type": "code",
   "execution_count": null,
   "id": "5f36e738",
   "metadata": {
    "execution": {
     "iopub.execute_input": "2022-02-10T19:22:53.710402Z",
     "iopub.status.busy": "2022-02-10T19:22:53.709772Z",
     "iopub.status.idle": "2022-02-10T19:22:53.827052Z",
     "shell.execute_reply": "2022-02-10T19:22:53.826637Z"
    }
   },
   "outputs": [],
   "source": [
    "println(join(unique([hg_gr[na] for na in na_[ma_ .== 1]]), \"\\n\"))"
   ]
  },
  {
   "cell_type": "code",
   "execution_count": null,
   "id": "5f70be28",
   "metadata": {
    "execution": {
     "iopub.execute_input": "2022-02-10T19:22:53.829000Z",
     "iopub.status.busy": "2022-02-10T19:22:53.828419Z",
     "iopub.status.idle": "2022-02-10T19:22:54.349043Z",
     "shell.execute_reply": "2022-02-10T19:22:54.348627Z"
    }
   },
   "outputs": [],
   "source": [
    "en_ty = OnePiece.extension.dataframe.map_to_column(en, [\"Gene name\", \"Gene type\"])\n",
    "\n",
    "println(join(unique([en_ty[na] for na in na_[ma_ .== 2]]), \"\\n\"))"
   ]
  },
  {
   "cell_type": "markdown",
   "id": "3f396855",
   "metadata": {},
   "source": [
    "---"
   ]
  }
 ],
 "metadata": {
  "@webio": {
   "lastCommId": "91a4c8b6c2984fc181f7c576ddc0aae3",
   "lastKernelId": "3d1a124c-896a-4b9a-a73d-8ff0662ed429"
  },
  "kernelspec": {
   "display_name": "Julia 1.7.2",
   "language": "julia",
   "name": "julia-1.7"
  },
  "language_info": {
   "file_extension": ".jl",
   "mimetype": "application/julia",
   "name": "julia",
   "version": "1.7.2"
  }
 },
 "nbformat": 4,
 "nbformat_minor": 5
}
