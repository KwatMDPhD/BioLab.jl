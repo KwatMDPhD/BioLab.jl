{
 "cells": [
  {
   "cell_type": "code",
   "execution_count": 1,
   "id": "017464da",
   "metadata": {
    "execution": {
     "iopub.execute_input": "2022-02-10T19:21:29.942498Z",
     "iopub.status.busy": "2022-02-10T19:21:29.608060Z",
     "iopub.status.idle": "2022-02-10T19:21:30.750921Z",
     "shell.execute_reply": "2022-02-10T19:21:30.750398Z"
    }
   },
   "outputs": [
    {
     "data": {
      "text/plain": [
       "\"/var/folders/mg/30npdf0s1z36txb2qvgylrzh0000gn/T/OnePiece.test\""
      ]
     },
     "execution_count": 1,
     "metadata": {},
     "output_type": "execute_result"
    }
   ],
   "source": [
    "TE = joinpath(tempdir(), \"OnePiece.test\")\n",
    "\n",
    "mkpath(TE)"
   ]
  },
  {
   "cell_type": "code",
   "execution_count": 2,
   "id": "34e4701e",
   "metadata": {
    "execution": {
     "iopub.execute_input": "2022-02-10T19:21:30.752921Z",
     "iopub.status.busy": "2022-02-10T19:21:30.752401Z",
     "iopub.status.idle": "2022-02-10T19:21:34.856956Z",
     "shell.execute_reply": "2022-02-10T19:21:34.856493Z"
    }
   },
   "outputs": [],
   "source": [
    "#using Revise\n",
    "using BenchmarkTools\n",
    "\n",
    "using OnePiece"
   ]
  },
  {
   "cell_type": "markdown",
   "id": "19d500c7",
   "metadata": {},
   "source": [
    "## read_hgnc"
   ]
  },
  {
   "cell_type": "code",
   "execution_count": 3,
   "id": "31c67e64",
   "metadata": {
    "execution": {
     "iopub.execute_input": "2022-02-10T19:21:35.275060Z",
     "iopub.status.busy": "2022-02-10T19:21:34.858473Z",
     "iopub.status.idle": "2022-02-10T19:21:57.351687Z",
     "shell.execute_reply": "2022-02-10T19:21:57.351184Z"
    }
   },
   "outputs": [
    {
     "data": {
      "text/plain": [
       "(42898, 54)"
      ]
     },
     "execution_count": 3,
     "metadata": {},
     "output_type": "execute_result"
    }
   ],
   "source": [
    "hg = OnePiece.gene.read_hgnc()\n",
    "\n",
    "size(hg)"
   ]
  },
  {
   "cell_type": "markdown",
   "id": "1e618da3",
   "metadata": {},
   "source": [
    "## read_ensembl"
   ]
  },
  {
   "cell_type": "code",
   "execution_count": 4,
   "id": "cecc8625",
   "metadata": {
    "execution": {
     "iopub.execute_input": "2022-02-10T19:21:57.353789Z",
     "iopub.status.busy": "2022-02-10T19:21:57.353198Z",
     "iopub.status.idle": "2022-02-10T19:21:58.709514Z",
     "shell.execute_reply": "2022-02-10T19:21:58.709093Z"
    }
   },
   "outputs": [
    {
     "data": {
      "text/plain": [
       "(572085, 10)"
      ]
     },
     "execution_count": 4,
     "metadata": {},
     "output_type": "execute_result"
    }
   ],
   "source": [
    "en = OnePiece.gene.read_ensembl()\n",
    "\n",
    "size(en)"
   ]
  },
  {
   "cell_type": "code",
   "execution_count": 5,
   "id": "2704ed42",
   "metadata": {
    "execution": {
     "iopub.execute_input": "2022-02-10T19:21:58.711530Z",
     "iopub.status.busy": "2022-02-10T19:21:58.710914Z",
     "iopub.status.idle": "2022-02-10T19:21:59.393959Z",
     "shell.execute_reply": "2022-02-10T19:21:59.393503Z"
    }
   },
   "outputs": [
    {
     "data": {
      "text/plain": [
       "(283857, 10)"
      ]
     },
     "execution_count": 5,
     "metadata": {},
     "output_type": "execute_result"
    }
   ],
   "source": [
    "en = OnePiece.gene.read_ensembl(; or = \"mouse\")\n",
    "\n",
    "size(en)"
   ]
  },
  {
   "cell_type": "markdown",
   "id": "067fadb9",
   "metadata": {},
   "source": [
    "## map_to_hgnc_gene"
   ]
  },
  {
   "cell_type": "code",
   "execution_count": 6,
   "id": "0ac96217",
   "metadata": {
    "execution": {
     "iopub.execute_input": "2022-02-10T19:21:59.395991Z",
     "iopub.status.busy": "2022-02-10T19:21:59.395483Z",
     "iopub.status.idle": "2022-02-10T19:22:01.834916Z",
     "shell.execute_reply": "2022-02-10T19:22:01.834536Z"
    }
   },
   "outputs": [
    {
     "name": "stdout",
     "output_type": "stream",
     "text": [
      "98206 keys and 42898 unique values\n",
      "hsa-mir-302f => MIR302F\n",
      "KIAA1300 => STARD9\n",
      "KIAA0294 => ARHGEF10\n",
      "...\n"
     ]
    },
    {
     "data": {
      "text/plain": [
       "Dict{Any, Any} with 98206 entries:\n",
       "  \"hsa-mir-302f\" => \"MIR302F\"\n",
       "  \"KIAA1300\"     => \"STARD9\"\n",
       "  \"KIAA0294\"     => \"ARHGEF10\"\n",
       "  \"TMOD4\"        => \"TMOD4\"\n",
       "  \"LINC01469\"    => \"MIR3976HG\"\n",
       "  \"RN7SL34P\"     => \"RN7SL34P\"\n",
       "  \"XB130\"        => \"AFAP1L2\"\n",
       "  \"OR11K1BP\"     => \"OR11K1BP\"\n",
       "  \"VDAC5P\"       => \"VDAC1P5\"\n",
       "  \"MOB4\"         => \"MOB4\"\n",
       "  \"RNU7-5P\"      => \"RNU7-5P\"\n",
       "  \"RPL21P47\"     => \"RPL21P47\"\n",
       "  \"FLJ10883\"     => \"PCMTD1\"\n",
       "  \"BPX\"          => \"NAP1L2\"\n",
       "  \"HLA-B\"        => \"HLA-B\"\n",
       "  \"RNF184\"       => \"MSL2\"\n",
       "  \"CAHM\"         => \"CAHM\"\n",
       "  \"PHB1P6\"       => \"PHB1P6\"\n",
       "  \"C6orf172\"     => \"RNF217\"\n",
       "  \"MGC22579\"     => \"SERPINC1\"\n",
       "  \"FLJ10052\"     => \"SUSD4\"\n",
       "  \"RPS12P17\"     => \"RPS12P17\"\n",
       "  \"CARD3\"        => \"RIPK2\"\n",
       "  \"AMZ2\"         => \"AMZ2\"\n",
       "  \"RNA5SP281\"    => \"RNA5SP281\"\n",
       "  ⋮              => ⋮"
      ]
     },
     "execution_count": 6,
     "metadata": {},
     "output_type": "execute_result"
    }
   ],
   "source": [
    "st_hg = OnePiece.gene.map_to_hgnc_gene()"
   ]
  },
  {
   "cell_type": "markdown",
   "id": "d8ed8dfc",
   "metadata": {},
   "source": [
    "## map_to_ensembl_gene"
   ]
  },
  {
   "cell_type": "code",
   "execution_count": 7,
   "id": "b1068615",
   "metadata": {
    "execution": {
     "iopub.execute_input": "2022-02-10T19:22:01.836916Z",
     "iopub.status.busy": "2022-02-10T19:22:01.836343Z",
     "iopub.status.idle": "2022-02-10T19:22:10.155782Z",
     "shell.execute_reply": "2022-02-10T19:22:10.155293Z"
    }
   },
   "outputs": [
    {
     "name": "stdout",
     "output_type": "stream",
     "text": [
      "860977 keys and 39425 unique values\n",
      "ENST00000303227 => GLOD5\n",
      "ENST00000592956.1 => SYT5\n",
      "ENST00000494923 => RPL30P5\n",
      "...\n"
     ]
    },
    {
     "data": {
      "text/plain": [
       "Dict{Any, Any} with 860977 entries:\n",
       "  \"ENST00000303227\"    => \"GLOD5\"\n",
       "  \"ENST00000592956.1\"  => \"SYT5\"\n",
       "  \"ENST00000494923\"    => \"RPL30P5\"\n",
       "  \"XB130\"              => \"AFAP1L2\"\n",
       "  \"ZNF555-203\"         => \"ZNF555\"\n",
       "  \"ENSG00000141127\"    => \"PRPSAP2\"\n",
       "  \"FBXO3-205\"          => \"FBXO3\"\n",
       "  \"CENPE-202\"          => \"CENPE\"\n",
       "  \"RPL21P47\"           => \"RPL21P47\"\n",
       "  \"ENSG00000187049.10\" => \"TMEM216\"\n",
       "  \"PKN2-AS1-202\"       => \"PKN2-AS1\"\n",
       "  \"MIR7-3HG-222\"       => \"MIR7-3HG\"\n",
       "  \"ENST00000479176.5\"  => \"FXR1\"\n",
       "  \"ENST00000601778.5\"  => \"ECH1\"\n",
       "  \"ENST00000519785\"    => \"IGKV2D-18\"\n",
       "  \"FLJ10883\"           => \"PCMTD1\"\n",
       "  \"ENSG00000274226.5\"  => \"TBC1D3H\"\n",
       "  \"PPP1R26P3-201\"      => \"PPP1R26P3\"\n",
       "  \"ZNF225-201\"         => \"ZNF225\"\n",
       "  \"ENST00000452382.1\"  => \"PMS1\"\n",
       "  \"SMN2-210\"           => \"SMN2\"\n",
       "  \"HNRNPU-203\"         => \"HNRNPU\"\n",
       "  \"ENST00000635257.1\"  => \"GPATCH8\"\n",
       "  \"FLJ10052\"           => \"SUSD4\"\n",
       "  \"CDC45-208\"          => \"CDC45\"\n",
       "  ⋮                    => ⋮"
      ]
     },
     "execution_count": 7,
     "metadata": {},
     "output_type": "execute_result"
    }
   ],
   "source": [
    "st_en = OnePiece.gene.map_to_ensembl_gene()"
   ]
  },
  {
   "cell_type": "markdown",
   "id": "64ff451e",
   "metadata": {},
   "source": [
    "## map_with_mouse"
   ]
  },
  {
   "cell_type": "code",
   "execution_count": 8,
   "id": "344da7eb",
   "metadata": {
    "execution": {
     "iopub.execute_input": "2022-02-10T19:22:10.157968Z",
     "iopub.status.busy": "2022-02-10T19:22:10.157320Z",
     "iopub.status.idle": "2022-02-10T19:22:21.586442Z",
     "shell.execute_reply": "2022-02-10T19:22:21.586057Z"
    }
   },
   "outputs": [
    {
     "name": "stdout",
     "output_type": "stream",
     "text": [
      "860977 keys and 39425 unique values\n",
      "ENST00000303227 => GLOD5\n",
      "ENST00000592956.1 => SYT5\n",
      "ENST00000494923 => RPL30P5\n",
      "...\n",
      "98206 keys and 42898 unique values\n",
      "hsa-mir-302f => MIR302F\n",
      "KIAA1300 => STARD9\n",
      "KIAA0294 => ARHGEF10\n",
      "...\n",
      "Kept 23879\n",
      "Named 174\n",
      "Failed 0\n",
      "19416 keys and 17542 unique values\n",
      "Jchain => JCHAIN\n",
      "Sult1c2 => SULT1C2\n",
      "Agtrap => AGTRAP\n",
      "...\n"
     ]
    },
    {
     "data": {
      "text/plain": [
       "Dict{InlineStrings.String31, String} with 19416 entries:\n",
       "  \"Jchain\"        => \"JCHAIN\"\n",
       "  \"Sult1c2\"       => \"SULT1C2\"\n",
       "  \"Agtrap\"        => \"AGTRAP\"\n",
       "  \"Rmdn3\"         => \"RMDN3\"\n",
       "  \"Elmod2\"        => \"ELMOD2\"\n",
       "  \"Ripply2\"       => \"RIPPLY2\"\n",
       "  \"Mtpap\"         => \"MTPAP\"\n",
       "  \"Trav7n-6\"      => \"TRAV12-2\"\n",
       "  \"Acvr1\"         => \"ACVR1\"\n",
       "  \"Taf7l\"         => \"TAF7L\"\n",
       "  \"Vash1\"         => \"VASH1\"\n",
       "  \"Lrp8\"          => \"LRP8\"\n",
       "  \"Trbv3\"         => \"TRBV2\"\n",
       "  \"Frmd4a\"        => \"FRMD4A\"\n",
       "  \"Tbp\"           => \"TBP\"\n",
       "  \"Cdyl2\"         => \"CDYL2\"\n",
       "  \"Dio1\"          => \"DIO1\"\n",
       "  \"Ssc4d\"         => \"SSC4D\"\n",
       "  \"Enho\"          => \"ENHO\"\n",
       "  \"Farsb\"         => \"FARSB\"\n",
       "  \"Cnr1\"          => \"CNR1\"\n",
       "  \"Zfp667\"        => \"ZNF667\"\n",
       "  \"Nudt9\"         => \"NUDT9\"\n",
       "  \"Enpp5\"         => \"ENPP5\"\n",
       "  \"Trim38\"        => \"TRIM38\"\n",
       "  ⋮               => ⋮"
      ]
     },
     "execution_count": 8,
     "metadata": {},
     "output_type": "execute_result"
    }
   ],
   "source": [
    "OnePiece.gene.map_with_mouse()"
   ]
  },
  {
   "cell_type": "code",
   "execution_count": 9,
   "id": "c3b98547",
   "metadata": {
    "execution": {
     "iopub.execute_input": "2022-02-10T19:22:21.588382Z",
     "iopub.status.busy": "2022-02-10T19:22:21.587868Z",
     "iopub.status.idle": "2022-02-10T19:22:32.127177Z",
     "shell.execute_reply": "2022-02-10T19:22:32.126789Z"
    }
   },
   "outputs": [
    {
     "name": "stdout",
     "output_type": "stream",
     "text": [
      "860977 keys and 39425 unique values\n",
      "ENST00000303227 => GLOD5\n",
      "ENST00000592956.1 => SYT5\n",
      "ENST00000494923 => RPL30P5\n",
      "...\n",
      "98206 keys and 42898 unique values\n",
      "hsa-mir-302f => MIR302F\n",
      "KIAA1300 => STARD9\n",
      "KIAA0294 => ARHGEF10\n",
      "...\n",
      "Kept 23879\n",
      "Named 174\n",
      "Failed 0\n",
      "18813 keys and 17524 unique values\n",
      "TPR => Tpr\n",
      "MIR133A2 => Mir133a-2\n",
      "ETV4 => Etv4\n",
      "...\n"
     ]
    },
    {
     "data": {
      "text/plain": [
       "Dict{String, InlineStrings.String31} with 18813 entries:\n",
       "  \"TPR\"       => \"Tpr\"\n",
       "  \"MIR133A2\"  => \"Mir133a-2\"\n",
       "  \"ETV4\"      => \"Etv4\"\n",
       "  \"TMOD4\"     => \"Tmod4\"\n",
       "  \"DNASE2\"    => \"Dnase2a\"\n",
       "  \"CLTRN\"     => \"Cltrn\"\n",
       "  \"RNU1-75P\"  => \"Gm23039\"\n",
       "  \"MOB4\"      => \"Mob4\"\n",
       "  \"KAT2A\"     => \"Kat2a\"\n",
       "  \"GCNT3\"     => \"Gcnt3\"\n",
       "  \"SREBF2\"    => \"Srebf2\"\n",
       "  \"APOC2\"     => \"Apoc2\"\n",
       "  \"CDC40\"     => \"Cdc40\"\n",
       "  \"HLA-B\"     => \"H2-M10.4\"\n",
       "  \"TEX49\"     => \"Tex49\"\n",
       "  \"CNN3\"      => \"Cnn3\"\n",
       "  \"FAXC\"      => \"Faxc\"\n",
       "  \"NAGS\"      => \"Nags\"\n",
       "  \"TMEM74B\"   => \"Tmem74b\"\n",
       "  \"HOXD4\"     => \"Gm28230\"\n",
       "  \"TNFRSF11B\" => \"Tnfrsf11b\"\n",
       "  \"AMZ2\"      => \"Amz2\"\n",
       "  \"ACER2\"     => \"Acer2\"\n",
       "  \"TPP2\"      => \"Tpp2\"\n",
       "  \"THBS4\"     => \"Thbs4\"\n",
       "  ⋮           => ⋮"
      ]
     },
     "execution_count": 9,
     "metadata": {},
     "output_type": "execute_result"
    }
   ],
   "source": [
    "OnePiece.gene.map_with_mouse(; ho = \"human_to_mouse\")"
   ]
  },
  {
   "cell_type": "markdown",
   "id": "cfb03409",
   "metadata": {},
   "source": [
    "## rename"
   ]
  },
  {
   "cell_type": "code",
   "execution_count": 10,
   "id": "e2b70674",
   "metadata": {
    "execution": {
     "iopub.execute_input": "2022-02-10T19:22:32.129238Z",
     "iopub.status.busy": "2022-02-10T19:22:32.128598Z",
     "iopub.status.idle": "2022-02-10T19:22:32.181678Z",
     "shell.execute_reply": "2022-02-10T19:22:32.181190Z"
    }
   },
   "outputs": [],
   "source": [
    "hg_ = string.(hg[!, \"symbol\"])\n",
    "\n",
    ";"
   ]
  },
  {
   "cell_type": "code",
   "execution_count": 11,
   "id": "0dcb6a68",
   "metadata": {
    "execution": {
     "iopub.execute_input": "2022-02-10T19:22:32.183898Z",
     "iopub.status.busy": "2022-02-10T19:22:32.183314Z",
     "iopub.status.idle": "2022-02-10T19:22:51.690200Z",
     "shell.execute_reply": "2022-02-10T19:22:51.689678Z"
    }
   },
   "outputs": [
    {
     "name": "stdout",
     "output_type": "stream",
     "text": [
      "860977 keys and 39425 unique values\n",
      "ENST00000303227 => GLOD5\n",
      "ENST00000592956.1 => SYT5\n",
      "ENST00000494923 => RPL30P5\n",
      "...\n",
      "98206 keys and 42898 unique values\n",
      "hsa-mir-302f => MIR302F\n",
      "KIAA1300 => STARD9\n",
      "KIAA0294 => ARHGEF10\n",
      "...\n",
      "Kept 23879\n",
      "Named 174\n",
      "Failed 0\n",
      "19416 keys and 17542 unique values\n",
      "Jchain => JCHAIN\n",
      "Sult1c2 => SULT1C2\n",
      "Agtrap => AGTRAP\n",
      "...\n",
      "860977 keys and 39425 unique values\n",
      "ENST00000303227 => GLOD5\n",
      "ENST00000592956.1 => SYT5\n",
      "ENST00000494923 => RPL30P5\n",
      "...\n",
      "98206 keys and 42898 unique values\n",
      "hsa-mir-302f => MIR302F\n",
      "KIAA1300 => STARD9\n",
      "KIAA0294 => ARHGEF10\n",
      "...\n",
      "Kept 42898\n",
      "Named 0\n",
      "Failed 0\n"
     ]
    },
    {
     "data": {
      "text/plain": [
       "([\"A1BG\", \"A1BG-AS1\", \"A1CF\", \"A2M\", \"A2M-AS1\", \"A2ML1\", \"A2ML1-AS1\", \"A2ML1-AS2\", \"A2MP1\", \"A3GALT2\"  …  \"ZXDA\", \"ZXDB\", \"ZXDC\", \"ZYG11A\", \"ZYG11AP1\", \"ZYG11B\", \"ZYX\", \"ZYXP1\", \"ZZEF1\", \"ZZZ3\"], [0, 0, 0, 0, 0, 0, 0, 0, 0, 0  …  0, 0, 0, 0, 0, 0, 0, 0, 0, 0])"
      ]
     },
     "execution_count": 11,
     "metadata": {},
     "output_type": "execute_result"
    }
   ],
   "source": [
    "na_, ma_ = OnePiece.gene.rename(hg_)"
   ]
  },
  {
   "cell_type": "code",
   "execution_count": 12,
   "id": "9b31bde2",
   "metadata": {
    "execution": {
     "iopub.execute_input": "2022-02-10T19:22:51.692639Z",
     "iopub.status.busy": "2022-02-10T19:22:51.691810Z",
     "iopub.status.idle": "2022-02-10T19:22:52.270693Z",
     "shell.execute_reply": "2022-02-10T19:22:52.270232Z"
    }
   },
   "outputs": [
    {
     "name": "stdout",
     "output_type": "stream",
     "text": [
      "98206 keys and 42898 unique values\n",
      "hsa-mir-302f => MIR302F\n",
      "KIAA1300 => STARD9\n",
      "KIAA0294 => ARHGEF10\n",
      "...\n",
      "Kept 46\n",
      "Named 90\n",
      "Failed 52191\n"
     ]
    },
    {
     "data": {
      "text/plain": [
       "([\"mt-Tf\", \"mt-Rnr1\", \"mt-Tv\", \"mt-Rnr2\", \"mt-Tl1\", \"mt-Nd1\", \"mt-Ti\", \"mt-Tq\", \"mt-Tm\", \"mt-Nd2\"  …  \"Nop56\", \"Snord110\", \"Gm24451\", \"Gm23187\", \"Gm23650\", \"Snord57\", \"Idh3b\", \"Raly\", \"Eif2s2\", \"Gm14214\"], [2, 2, 2, 2, 2, 2, 2, 2, 2, 2  …  2, 2, 2, 2, 2, 2, 2, 2, 2, 2])"
      ]
     },
     "execution_count": 12,
     "metadata": {},
     "output_type": "execute_result"
    }
   ],
   "source": [
    "ge_ = unique(skipmissing(en[!, \"Gene name\"]))\n",
    "\n",
    "na_, ma_ = OnePiece.gene.rename(ge_; mo = false, en = false)"
   ]
  },
  {
   "cell_type": "code",
   "execution_count": 13,
   "id": "bb77a60e",
   "metadata": {
    "execution": {
     "iopub.execute_input": "2022-02-10T19:22:52.272614Z",
     "iopub.status.busy": "2022-02-10T19:22:52.272029Z",
     "iopub.status.idle": "2022-02-10T19:22:53.708331Z",
     "shell.execute_reply": "2022-02-10T19:22:53.707949Z"
    }
   },
   "outputs": [
    {
     "name": "stdout",
     "output_type": "stream",
     "text": [
      "46176 keys and 3278 unique values\n",
      "TMOD4 => Tropomodulins\n",
      "RN7SL34P => ?\n",
      "WD repeat domain containing|MicroRNA protein coding host genes => WD repeat domain containing|MicroRNA protein coding host genes\n",
      "...\n"
     ]
    },
    {
     "data": {
      "text/plain": [
       "Dict{Any, Any} with 46176 entries:\n",
       "  \"TMOD4\"                   => \"Tropomodulins\"\n",
       "  \"RN7SL34P\"                => \"?\"\n",
       "  \"WD repeat domain contai… => \"WD repeat domain containing|MicroRNA protein co…\n",
       "  \"OR11K1BP\"                => \"Olfactory receptors, family 11\"\n",
       "  \"MOB4\"                    => \"MOB kinase activators|STRIPAK complex\"\n",
       "  \"RNU7-5P\"                 => \"?\"\n",
       "  \"RPL21P47\"                => \"?\"\n",
       "  \"HLA-B\"                   => \"Histocompatibility complex|C1-set domain contai…\n",
       "  \"CAHM\"                    => \"Long non-coding RNAs with non-systematic symbol…\n",
       "  \"PHB1P6\"                  => \"?\"\n",
       "  \"RPS12P17\"                => \"?\"\n",
       "  \"AMZ2\"                    => \"M54 metallopeptidase family\"\n",
       "  \"RNA5SP281\"               => \"?\"\n",
       "  \"Activating signal coint… => \"Activating signal cointegrator 1 complex\"\n",
       "  \"RNU6-360P\"               => \"?\"\n",
       "  \"RN7SL625P\"               => \"?\"\n",
       "  \"Zinc fingers C2H2-type|… => \"Zinc fingers C2H2-type|Myb/SANT domain containi…\n",
       "  \"TIMM9\"                   => \"TIM22 complex\"\n",
       "  \"KIRREL3-AS1\"             => \"Antisense RNAs\"\n",
       "  \"RNU6-1147P\"              => \"?\"\n",
       "  \"GCSAM\"                   => \"?\"\n",
       "  \"STX1A\"                   => \"Syntaxins\"\n",
       "  \"SULT1C4\"                 => \"Sulfotransferases, cytosolic\"\n",
       "  \"SSRP1\"                   => \"?\"\n",
       "  \"RN7SL191P\"               => \"?\"\n",
       "  ⋮                         => ⋮"
      ]
     },
     "execution_count": 13,
     "metadata": {},
     "output_type": "execute_result"
    }
   ],
   "source": [
    "hg_gr = OnePiece.extension.dataframe.map_to_column(coalesce.(hg, \"?\"), [\"symbol\", \"gene_group\"])"
   ]
  },
  {
   "cell_type": "code",
   "execution_count": 14,
   "id": "5f36e738",
   "metadata": {
    "execution": {
     "iopub.execute_input": "2022-02-10T19:22:53.710402Z",
     "iopub.status.busy": "2022-02-10T19:22:53.709772Z",
     "iopub.status.idle": "2022-02-10T19:22:53.827052Z",
     "shell.execute_reply": "2022-02-10T19:22:53.826637Z"
    }
   },
   "outputs": [
    {
     "name": "stdout",
     "output_type": "stream",
     "text": [
      "7SK snRNP complex|Long non-coding RNAs with non-systematic symbols\n",
      "Small nuclear RNAs|U4/U6 small nuclear ribonucleoprotein |Spliceosomal Bact complex|Spliceosomal C complex|Spliceosomal P complex\n",
      "Small nuclear RNAs|U1 small nuclear ribonucleoprotein\n",
      "UTPc subcomplex|MicroRNA protein coding host genes\n",
      "Small nuclear RNAs|U4/U6 small nuclear ribonucleoprotein \n",
      "Zinc fingers C2H2-type\n",
      "NKL subclass homeoboxes and pseudogenes\n",
      "Small nuclear RNAs|U2 small nuclear ribonucleoprotein \n",
      "Type II classical cadherins\n",
      "Proteasome|Armadillo like helical domain containing\n",
      "Gelsolin/villins\n",
      "Ankyrin repeat domain containing\n",
      "Kallikreins|Serine proteases\n",
      "Kallikreins\n",
      "Peptidase family A22\n",
      "Mediator complex\n",
      "RNA binding motif containing|U2 small nuclear ribonucleoprotein \n",
      "Shelterin complex\n",
      "?\n",
      "MicroRNA protein coding host genes\n",
      "Protein phosphatase 1 regulatory subunits|PDZ domain containing\n",
      "RNA binding motif containing\n",
      "Receptor ligands|Fibrinogen C domain containing\n",
      "Membrane spanning 4-domains\n",
      "F-boxes other\n",
      "MicroRNA non-coding host genes|Small nucleolar RNA non-coding host genes\n",
      "Solute carriers\n",
      "Tubulins\n",
      "DEAH-box helicases|Spliceosomal Bact complex|Spliceosomal C complex|Spliceosomal P complex\n",
      "Carbonic anhydrases\n",
      "Tetratricopeptide repeat domain containing\n",
      "G-patch domain containing|NTC associated proteins|Spliceosomal Bact complex|Spliceosomal C complex|Spliceosomal P complex\n",
      "DEAD-box helicases|SSU processome\n",
      "Importins|TOG domain containing\n",
      "Rho family GTPases\n",
      "Scavenger receptor cysteine rich domain containing|Type II transmembrane serine proteases\n",
      "Long non-coding RNAs with non-systematic symbols\n",
      "M20 metallopeptidases\n",
      "T-box transcription factors\n",
      "Small nucleolar RNAs, C/D box\n",
      "Beta 4-glycosyltransferases\n",
      "TIR domain containing\n",
      "Clathrin subunits\n"
     ]
    }
   ],
   "source": [
    "println(join(unique([hg_gr[na] for na in na_[ma_ .== 1]]), \"\\n\"))"
   ]
  },
  {
   "cell_type": "code",
   "execution_count": 15,
   "id": "5f70be28",
   "metadata": {
    "execution": {
     "iopub.execute_input": "2022-02-10T19:22:53.829000Z",
     "iopub.status.busy": "2022-02-10T19:22:53.828419Z",
     "iopub.status.idle": "2022-02-10T19:22:54.349043Z",
     "shell.execute_reply": "2022-02-10T19:22:54.348627Z"
    }
   },
   "outputs": [
    {
     "name": "stdout",
     "output_type": "stream",
     "text": [
      "52365 keys and 38 unique values\n",
      "2610005L07Rik => transcribed_unprocessed_pseudogene\n",
      "Jchain => protein_coding\n",
      "Gm12778 => processed_pseudogene\n",
      "...\n",
      "Mt_tRNA\n",
      "Mt_rRNA\n",
      "protein_coding\n",
      "unprocessed_pseudogene\n",
      "lncRNA\n",
      "processed_pseudogene\n",
      "transcribed_unprocessed_pseudogene\n",
      "TEC\n",
      "transcribed_processed_pseudogene\n",
      "rRNA\n",
      "snRNA\n",
      "snoRNA\n",
      "miRNA\n",
      "misc_RNA\n",
      "TR_J_gene\n",
      "TR_C_gene\n",
      "TR_V_gene\n",
      "pseudogene\n",
      "unitary_pseudogene\n",
      "scaRNA\n",
      "ribozyme\n",
      "TR_V_pseudogene\n",
      "polymorphic_pseudogene\n",
      "IG_V_gene\n",
      "IG_V_pseudogene\n",
      "TR_D_gene\n",
      "TR_J_pseudogene\n",
      "IG_J_gene\n",
      "IG_C_gene\n",
      "IG_LV_gene\n",
      "IG_C_pseudogene\n",
      "IG_D_gene\n",
      "IG_D_pseudogene\n",
      "IG_pseudogene\n",
      "transcribed_unitary_pseudogene\n",
      "translated_unprocessed_pseudogene\n",
      "scRNA\n"
     ]
    }
   ],
   "source": [
    "en_ty = OnePiece.extension.dataframe.map_to_column(en, [\"Gene name\", \"Gene type\"])\n",
    "\n",
    "println(join(unique([en_ty[na] for na in na_[ma_ .== 2]]), \"\\n\"))"
   ]
  }
 ],
 "metadata": {
  "@webio": {
   "lastCommId": "91a4c8b6c2984fc181f7c576ddc0aae3",
   "lastKernelId": "3d1a124c-896a-4b9a-a73d-8ff0662ed429"
  },
  "kernelspec": {
   "display_name": "Julia 1.7.2",
   "language": "julia",
   "name": "julia-1.7"
  },
  "language_info": {
   "file_extension": ".jl",
   "mimetype": "application/julia",
   "name": "julia",
   "version": "1.7.2"
  }
 },
 "nbformat": 4,
 "nbformat_minor": 5
}
