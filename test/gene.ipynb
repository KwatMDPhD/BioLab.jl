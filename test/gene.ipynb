{
 "cells": [
  {
   "cell_type": "code",
   "execution_count": null,
   "id": "017464da",
   "metadata": {
    "execution": {
     "iopub.execute_input": "2022-02-13T05:35:15.387075Z",
     "iopub.status.busy": "2022-02-13T05:35:15.059952Z",
     "iopub.status.idle": "2022-02-13T05:35:15.568273Z",
     "shell.execute_reply": "2022-02-13T05:35:15.567831Z"
    }
   },
   "outputs": [],
   "source": [
    "TE = joinpath(tempdir(), \"OnePiece.test\")\n",
    "\n",
    "if isdir(TE)\n",
    "\n",
    "    rm(TE, recursive = true)\n",
    "\n",
    "    println(\"Removed \", TE, \".\")\n",
    "\n",
    "end\n",
    "\n",
    "mkdir(TE)\n",
    "\n",
    "println(\"Made \", TE, \".\")"
   ]
  },
  {
   "cell_type": "code",
   "execution_count": null,
   "id": "34e4701e",
   "metadata": {
    "execution": {
     "iopub.execute_input": "2022-02-13T05:35:15.570286Z",
     "iopub.status.busy": "2022-02-13T05:35:15.569759Z",
     "iopub.status.idle": "2022-02-13T05:35:19.637392Z",
     "shell.execute_reply": "2022-02-13T05:35:19.636927Z"
    }
   },
   "outputs": [],
   "source": [
    "using OnePiece"
   ]
  },
  {
   "cell_type": "markdown",
   "id": "b92a3da9",
   "metadata": {},
   "source": [
    "---"
   ]
  },
  {
   "cell_type": "markdown",
   "id": "19d500c7",
   "metadata": {},
   "source": [
    "## read_hgnc"
   ]
  },
  {
   "cell_type": "code",
   "execution_count": null,
   "id": "31c67e64",
   "metadata": {
    "execution": {
     "iopub.execute_input": "2022-02-13T05:35:19.937949Z",
     "iopub.status.busy": "2022-02-13T05:35:19.638807Z",
     "iopub.status.idle": "2022-02-13T05:35:38.915215Z",
     "shell.execute_reply": "2022-02-13T05:35:38.914751Z"
    }
   },
   "outputs": [],
   "source": [
    "hg = OnePiece.gene.read_hgnc()\n",
    "\n",
    "size(hg)"
   ]
  },
  {
   "cell_type": "markdown",
   "id": "1e618da3",
   "metadata": {},
   "source": [
    "## read_ensembl"
   ]
  },
  {
   "cell_type": "code",
   "execution_count": null,
   "id": "cecc8625",
   "metadata": {
    "execution": {
     "iopub.execute_input": "2022-02-13T05:35:38.917419Z",
     "iopub.status.busy": "2022-02-13T05:35:38.916716Z",
     "iopub.status.idle": "2022-02-13T05:35:40.033700Z",
     "shell.execute_reply": "2022-02-13T05:35:40.033100Z"
    }
   },
   "outputs": [],
   "source": [
    "en = OnePiece.gene.read_ensembl()\n",
    "\n",
    "size(en)"
   ]
  },
  {
   "cell_type": "code",
   "execution_count": null,
   "id": "2704ed42",
   "metadata": {
    "execution": {
     "iopub.execute_input": "2022-02-13T05:35:40.036138Z",
     "iopub.status.busy": "2022-02-13T05:35:40.035636Z",
     "iopub.status.idle": "2022-02-13T05:35:40.717578Z",
     "shell.execute_reply": "2022-02-13T05:35:40.717186Z"
    }
   },
   "outputs": [],
   "source": [
    "en = OnePiece.gene.read_ensembl(; or = \"mouse\")\n",
    "\n",
    "size(en)"
   ]
  },
  {
   "cell_type": "markdown",
   "id": "067fadb9",
   "metadata": {},
   "source": [
    "## map_to_hgnc_gene"
   ]
  },
  {
   "cell_type": "code",
   "execution_count": null,
   "id": "0ac96217",
   "metadata": {
    "execution": {
     "iopub.execute_input": "2022-02-13T05:35:40.719460Z",
     "iopub.status.busy": "2022-02-13T05:35:40.718955Z",
     "iopub.status.idle": "2022-02-13T05:35:43.323012Z",
     "shell.execute_reply": "2022-02-13T05:35:43.322557Z"
    }
   },
   "outputs": [],
   "source": [
    "st_hg = OnePiece.gene.map_to_hgnc_gene()"
   ]
  },
  {
   "cell_type": "markdown",
   "id": "d8ed8dfc",
   "metadata": {},
   "source": [
    "## map_to_ensembl_gene"
   ]
  },
  {
   "cell_type": "code",
   "execution_count": null,
   "id": "b1068615",
   "metadata": {
    "execution": {
     "iopub.execute_input": "2022-02-13T05:35:43.325021Z",
     "iopub.status.busy": "2022-02-13T05:35:43.324445Z",
     "iopub.status.idle": "2022-02-13T05:35:51.845527Z",
     "shell.execute_reply": "2022-02-13T05:35:51.845144Z"
    }
   },
   "outputs": [],
   "source": [
    "st_en = OnePiece.gene.map_to_ensembl_gene()"
   ]
  },
  {
   "cell_type": "markdown",
   "id": "64ff451e",
   "metadata": {},
   "source": [
    "## map_with_mouse"
   ]
  },
  {
   "cell_type": "code",
   "execution_count": null,
   "id": "344da7eb",
   "metadata": {
    "execution": {
     "iopub.execute_input": "2022-02-13T05:35:51.847524Z",
     "iopub.status.busy": "2022-02-13T05:35:51.847039Z",
     "iopub.status.idle": "2022-02-13T05:36:03.294493Z",
     "shell.execute_reply": "2022-02-13T05:36:03.294071Z"
    }
   },
   "outputs": [],
   "source": [
    "OnePiece.gene.map_with_mouse()"
   ]
  },
  {
   "cell_type": "code",
   "execution_count": null,
   "id": "c3b98547",
   "metadata": {
    "execution": {
     "iopub.execute_input": "2022-02-13T05:36:03.296399Z",
     "iopub.status.busy": "2022-02-13T05:36:03.295891Z",
     "iopub.status.idle": "2022-02-13T05:36:13.318313Z",
     "shell.execute_reply": "2022-02-13T05:36:13.317933Z"
    }
   },
   "outputs": [],
   "source": [
    "OnePiece.gene.map_with_mouse(; ho = \"human_to_mouse\")"
   ]
  },
  {
   "cell_type": "markdown",
   "id": "cfb03409",
   "metadata": {},
   "source": [
    "## rename"
   ]
  },
  {
   "cell_type": "code",
   "execution_count": null,
   "id": "e2b70674",
   "metadata": {
    "execution": {
     "iopub.execute_input": "2022-02-13T05:36:13.320392Z",
     "iopub.status.busy": "2022-02-13T05:36:13.319904Z",
     "iopub.status.idle": "2022-02-13T05:36:13.369320Z",
     "shell.execute_reply": "2022-02-13T05:36:13.368836Z"
    }
   },
   "outputs": [],
   "source": [
    "hg_ = string.(hg[!, \"symbol\"])\n",
    "\n",
    ";"
   ]
  },
  {
   "cell_type": "code",
   "execution_count": null,
   "id": "0dcb6a68",
   "metadata": {
    "execution": {
     "iopub.execute_input": "2022-02-13T05:36:13.371409Z",
     "iopub.status.busy": "2022-02-13T05:36:13.370918Z",
     "iopub.status.idle": "2022-02-13T05:36:32.537686Z",
     "shell.execute_reply": "2022-02-13T05:36:32.537290Z"
    }
   },
   "outputs": [],
   "source": [
    "na_, ma_ = OnePiece.gene.rename(hg_)"
   ]
  },
  {
   "cell_type": "code",
   "execution_count": null,
   "id": "9b31bde2",
   "metadata": {
    "execution": {
     "iopub.execute_input": "2022-02-13T05:36:32.539570Z",
     "iopub.status.busy": "2022-02-13T05:36:32.539059Z",
     "iopub.status.idle": "2022-02-13T05:36:33.318506Z",
     "shell.execute_reply": "2022-02-13T05:36:33.318036Z"
    }
   },
   "outputs": [],
   "source": [
    "ge_ = unique(skipmissing(en[!, \"Gene name\"]))\n",
    "\n",
    "na_, ma_ = OnePiece.gene.rename(ge_; mo = false, en = false)"
   ]
  },
  {
   "cell_type": "code",
   "execution_count": null,
   "id": "bb77a60e",
   "metadata": {
    "execution": {
     "iopub.execute_input": "2022-02-13T05:36:33.320415Z",
     "iopub.status.busy": "2022-02-13T05:36:33.319820Z",
     "iopub.status.idle": "2022-02-13T05:36:34.647712Z",
     "shell.execute_reply": "2022-02-13T05:36:34.647244Z"
    }
   },
   "outputs": [],
   "source": [
    "hg_gr = OnePiece.extension.dataframe.map_to_column(coalesce.(hg, \"?\"), [\"symbol\", \"gene_group\"])"
   ]
  },
  {
   "cell_type": "code",
   "execution_count": null,
   "id": "5f36e738",
   "metadata": {
    "execution": {
     "iopub.execute_input": "2022-02-13T05:36:34.649534Z",
     "iopub.status.busy": "2022-02-13T05:36:34.649038Z",
     "iopub.status.idle": "2022-02-13T05:36:34.756558Z",
     "shell.execute_reply": "2022-02-13T05:36:34.756173Z"
    }
   },
   "outputs": [],
   "source": [
    "println(join(unique([hg_gr[na] for na in na_[ma_ .== 1]]), \"\\n\"))"
   ]
  },
  {
   "cell_type": "code",
   "execution_count": null,
   "id": "5f70be28",
   "metadata": {
    "execution": {
     "iopub.execute_input": "2022-02-13T05:36:34.758495Z",
     "iopub.status.busy": "2022-02-13T05:36:34.757982Z",
     "iopub.status.idle": "2022-02-13T05:36:35.244583Z",
     "shell.execute_reply": "2022-02-13T05:36:35.244159Z"
    }
   },
   "outputs": [],
   "source": [
    "en_ty = OnePiece.extension.dataframe.map_to_column(en, [\"Gene name\", \"Gene type\"])\n",
    "\n",
    "println(join(unique([en_ty[na] for na in na_[ma_ .== 2]]), \"\\n\"))"
   ]
  },
  {
   "cell_type": "markdown",
   "id": "3f396855",
   "metadata": {},
   "source": [
    "---"
   ]
  },
  {
   "cell_type": "code",
   "execution_count": null,
   "id": "b4af2023",
   "metadata": {
    "execution": {
     "iopub.execute_input": "2022-02-13T05:36:35.246591Z",
     "iopub.status.busy": "2022-02-13T05:36:35.246020Z",
     "iopub.status.idle": "2022-02-13T05:36:35.248395Z",
     "shell.execute_reply": "2022-02-13T05:36:35.247950Z"
    }
   },
   "outputs": [],
   "source": [
    "if isdir(TE)\n",
    "\n",
    "    rm(TE, recursive = true)\n",
    "\n",
    "    println(\"Removed \", TE, \".\")\n",
    "\n",
    "end"
   ]
  }
 ],
 "metadata": {
  "kernelspec": {
   "display_name": "Julia 1.7.2",
   "language": "julia",
   "name": "julia-1.7"
  },
  "language_info": {
   "file_extension": ".jl",
   "mimetype": "application/julia",
   "name": "julia",
   "version": "1.7.2"
  }
 },
 "nbformat": 4,
 "nbformat_minor": 5
}
