{
 "cells": [
  {
   "cell_type": "code",
   "execution_count": null,
   "id": "34e4701e",
   "metadata": {
    "execution": {
     "iopub.execute_input": "2022-02-09T19:00:01.128387Z",
     "iopub.status.busy": "2022-02-09T19:00:00.725845Z",
     "iopub.status.idle": "2022-02-09T19:00:02.087035Z",
     "shell.execute_reply": "2022-02-09T19:00:02.086512Z"
    }
   },
   "outputs": [],
   "source": [
    "using Revise\n",
    "using BenchmarkTools"
   ]
  },
  {
   "cell_type": "code",
   "execution_count": null,
   "id": "23b98853",
   "metadata": {
    "execution": {
     "iopub.execute_input": "2022-02-09T19:00:02.088978Z",
     "iopub.status.busy": "2022-02-09T19:00:02.088419Z",
     "iopub.status.idle": "2022-02-09T19:00:12.206351Z",
     "shell.execute_reply": "2022-02-09T19:00:12.205901Z"
    }
   },
   "outputs": [],
   "source": [
    "using DataFrames\n",
    "\n",
    "using OnePiece"
   ]
  },
  {
   "cell_type": "markdown",
   "id": "19d500c7",
   "metadata": {},
   "source": [
    "## read_hgnc"
   ]
  },
  {
   "cell_type": "code",
   "execution_count": null,
   "id": "31c67e64",
   "metadata": {
    "execution": {
     "iopub.execute_input": "2022-02-09T19:00:13.748877Z",
     "iopub.status.busy": "2022-02-09T19:00:12.207792Z",
     "iopub.status.idle": "2022-02-09T19:00:38.062425Z",
     "shell.execute_reply": "2022-02-09T19:00:38.061968Z"
    }
   },
   "outputs": [],
   "source": [
    "hg = OnePiece.gene.read_hgnc()\n",
    "\n",
    "size(hg)"
   ]
  },
  {
   "cell_type": "markdown",
   "id": "1e618da3",
   "metadata": {},
   "source": [
    "## read_ensembl"
   ]
  },
  {
   "cell_type": "code",
   "execution_count": null,
   "id": "cecc8625",
   "metadata": {
    "execution": {
     "iopub.execute_input": "2022-02-09T19:00:38.064450Z",
     "iopub.status.busy": "2022-02-09T19:00:38.063859Z",
     "iopub.status.idle": "2022-02-09T19:00:39.208953Z",
     "shell.execute_reply": "2022-02-09T19:00:39.208575Z"
    }
   },
   "outputs": [],
   "source": [
    "en = OnePiece.gene.read_ensembl()\n",
    "\n",
    "size(en)"
   ]
  },
  {
   "cell_type": "code",
   "execution_count": null,
   "id": "2704ed42",
   "metadata": {
    "execution": {
     "iopub.execute_input": "2022-02-09T19:00:39.211369Z",
     "iopub.status.busy": "2022-02-09T19:00:39.210296Z",
     "iopub.status.idle": "2022-02-09T19:00:39.995006Z",
     "shell.execute_reply": "2022-02-09T19:00:39.994390Z"
    }
   },
   "outputs": [],
   "source": [
    "en = OnePiece.gene.read_ensembl(; or = \"mouse\")\n",
    "\n",
    "size(en)"
   ]
  },
  {
   "cell_type": "markdown",
   "id": "067fadb9",
   "metadata": {},
   "source": [
    "## map_to_hgnc_gene"
   ]
  },
  {
   "cell_type": "code",
   "execution_count": null,
   "id": "0ac96217",
   "metadata": {
    "execution": {
     "iopub.execute_input": "2022-02-09T19:00:39.997221Z",
     "iopub.status.busy": "2022-02-09T19:00:39.996614Z",
     "iopub.status.idle": "2022-02-09T19:00:42.673357Z",
     "shell.execute_reply": "2022-02-09T19:00:42.672896Z"
    }
   },
   "outputs": [],
   "source": [
    "st_hg = OnePiece.gene.map_to_hgnc_gene()"
   ]
  },
  {
   "cell_type": "markdown",
   "id": "d8ed8dfc",
   "metadata": {},
   "source": [
    "## map_to_ensembl_gene"
   ]
  },
  {
   "cell_type": "code",
   "execution_count": null,
   "id": "b1068615",
   "metadata": {
    "execution": {
     "iopub.execute_input": "2022-02-09T19:00:42.675460Z",
     "iopub.status.busy": "2022-02-09T19:00:42.674756Z",
     "iopub.status.idle": "2022-02-09T19:00:51.405567Z",
     "shell.execute_reply": "2022-02-09T19:00:51.405038Z"
    }
   },
   "outputs": [],
   "source": [
    "st_en = OnePiece.gene.map_to_ensembl_gene()"
   ]
  },
  {
   "cell_type": "markdown",
   "id": "64ff451e",
   "metadata": {},
   "source": [
    "## map_with_mouse"
   ]
  },
  {
   "cell_type": "code",
   "execution_count": null,
   "id": "344da7eb",
   "metadata": {
    "execution": {
     "iopub.execute_input": "2022-02-09T19:00:51.407465Z",
     "iopub.status.busy": "2022-02-09T19:00:51.406727Z",
     "iopub.status.idle": "2022-02-09T19:01:03.682590Z",
     "shell.execute_reply": "2022-02-09T19:01:03.682147Z"
    }
   },
   "outputs": [],
   "source": [
    "OnePiece.gene.map_with_mouse()"
   ]
  },
  {
   "cell_type": "code",
   "execution_count": null,
   "id": "c3b98547",
   "metadata": {
    "execution": {
     "iopub.execute_input": "2022-02-09T19:01:03.684478Z",
     "iopub.status.busy": "2022-02-09T19:01:03.683974Z",
     "iopub.status.idle": "2022-02-09T19:01:14.334320Z",
     "shell.execute_reply": "2022-02-09T19:01:14.333933Z"
    }
   },
   "outputs": [],
   "source": [
    "OnePiece.gene.map_with_mouse(; ho = \"human_to_mouse\")"
   ]
  },
  {
   "cell_type": "markdown",
   "id": "cfb03409",
   "metadata": {},
   "source": [
    "## rename"
   ]
  },
  {
   "cell_type": "code",
   "execution_count": null,
   "id": "e2b70674",
   "metadata": {
    "execution": {
     "iopub.execute_input": "2022-02-09T19:01:14.336297Z",
     "iopub.status.busy": "2022-02-09T19:01:14.335661Z",
     "iopub.status.idle": "2022-02-09T19:01:14.401383Z",
     "shell.execute_reply": "2022-02-09T19:01:14.400786Z"
    }
   },
   "outputs": [],
   "source": [
    "hg_ = string.(hg[!, \"symbol\"])\n",
    "\n",
    ";"
   ]
  },
  {
   "cell_type": "code",
   "execution_count": null,
   "id": "0dcb6a68",
   "metadata": {
    "execution": {
     "iopub.execute_input": "2022-02-09T19:01:14.403293Z",
     "iopub.status.busy": "2022-02-09T19:01:14.402650Z",
     "iopub.status.idle": "2022-02-09T19:01:35.261671Z",
     "shell.execute_reply": "2022-02-09T19:01:35.261076Z"
    }
   },
   "outputs": [],
   "source": [
    "na_, ma_ = OnePiece.gene.rename(hg_)"
   ]
  },
  {
   "cell_type": "code",
   "execution_count": null,
   "id": "9b31bde2",
   "metadata": {
    "execution": {
     "iopub.execute_input": "2022-02-09T19:01:35.263804Z",
     "iopub.status.busy": "2022-02-09T19:01:35.263101Z",
     "iopub.status.idle": "2022-02-09T19:01:36.344830Z",
     "shell.execute_reply": "2022-02-09T19:01:36.344122Z"
    }
   },
   "outputs": [],
   "source": [
    "ge_ = unique(skipmissing(en[!, \"Gene name\"]))\n",
    "\n",
    "na_, ma_ = OnePiece.gene.rename(ge_; mo = false, en = false)"
   ]
  },
  {
   "cell_type": "code",
   "execution_count": null,
   "id": "bb77a60e",
   "metadata": {
    "execution": {
     "iopub.execute_input": "2022-02-09T19:01:36.347426Z",
     "iopub.status.busy": "2022-02-09T19:01:36.346670Z",
     "iopub.status.idle": "2022-02-09T19:01:37.808965Z",
     "shell.execute_reply": "2022-02-09T19:01:37.808504Z"
    }
   },
   "outputs": [],
   "source": [
    "hg_gr = OnePiece.extension.dataframe.map_to_column(coalesce.(hg, \"?\"), [\"symbol\", \"gene_group\"])"
   ]
  },
  {
   "cell_type": "code",
   "execution_count": null,
   "id": "5f36e738",
   "metadata": {
    "execution": {
     "iopub.execute_input": "2022-02-09T19:01:37.810997Z",
     "iopub.status.busy": "2022-02-09T19:01:37.810362Z",
     "iopub.status.idle": "2022-02-09T19:01:37.955844Z",
     "shell.execute_reply": "2022-02-09T19:01:37.955382Z"
    }
   },
   "outputs": [],
   "source": [
    "println(join(unique([hg_gr[na] for na in na_[ma_ .== 1]]), \"\\n\"))"
   ]
  },
  {
   "cell_type": "code",
   "execution_count": null,
   "id": "5f70be28",
   "metadata": {
    "execution": {
     "iopub.execute_input": "2022-02-09T19:01:37.957776Z",
     "iopub.status.busy": "2022-02-09T19:01:37.957126Z",
     "iopub.status.idle": "2022-02-09T19:01:38.544252Z",
     "shell.execute_reply": "2022-02-09T19:01:38.543737Z"
    }
   },
   "outputs": [],
   "source": [
    "en_ty = OnePiece.extension.dataframe.map_to_column(en, [\"Gene name\", \"Gene type\"])\n",
    "\n",
    "println(join(unique([en_ty[na] for na in na_[ma_ .== 2]]), \"\\n\"))"
   ]
  }
 ],
 "metadata": {
  "@webio": {
   "lastCommId": "91a4c8b6c2984fc181f7c576ddc0aae3",
   "lastKernelId": "3d1a124c-896a-4b9a-a73d-8ff0662ed429"
  },
  "kernelspec": {
   "display_name": "Julia 1.7.2",
   "language": "julia",
   "name": "julia-1.7"
  },
  "language_info": {
   "file_extension": ".jl",
   "mimetype": "application/julia",
   "name": "julia",
   "version": "1.7.2"
  }
 },
 "nbformat": 4,
 "nbformat_minor": 5
}
