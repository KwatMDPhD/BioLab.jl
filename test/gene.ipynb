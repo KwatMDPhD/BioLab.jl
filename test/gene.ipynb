{
 "cells": [
  {
   "cell_type": "code",
   "execution_count": null,
   "id": "017464da",
   "metadata": {
    "execution": {
     "iopub.execute_input": "2022-02-11T20:01:01.297767Z",
     "iopub.status.busy": "2022-02-11T20:01:00.890443Z",
     "iopub.status.idle": "2022-02-11T20:01:01.528508Z",
     "shell.execute_reply": "2022-02-11T20:01:01.527560Z"
    }
   },
   "outputs": [],
   "source": [
    "TE = joinpath(tempdir(), \"OnePiece.test\")\n",
    "\n",
    "if isdir(TE)\n",
    "\n",
    "    rm(TE, recursive = true)\n",
    "\n",
    "    println(\"Removed \", TE, \".\")\n",
    "\n",
    "end\n",
    "\n",
    "mkdir(TE)\n",
    "\n",
    "println(\"Made \", TE, \".\")"
   ]
  },
  {
   "cell_type": "code",
   "execution_count": null,
   "id": "34e4701e",
   "metadata": {
    "execution": {
     "iopub.execute_input": "2022-02-11T20:01:01.530661Z",
     "iopub.status.busy": "2022-02-11T20:01:01.529972Z",
     "iopub.status.idle": "2022-02-11T20:01:06.722309Z",
     "shell.execute_reply": "2022-02-11T20:01:06.721751Z"
    }
   },
   "outputs": [],
   "source": [
    "using OnePiece"
   ]
  },
  {
   "cell_type": "markdown",
   "id": "b92a3da9",
   "metadata": {},
   "source": [
    "---"
   ]
  },
  {
   "cell_type": "markdown",
   "id": "19d500c7",
   "metadata": {},
   "source": [
    "## read_hgnc"
   ]
  },
  {
   "cell_type": "code",
   "execution_count": null,
   "id": "31c67e64",
   "metadata": {
    "execution": {
     "iopub.execute_input": "2022-02-11T20:01:07.132649Z",
     "iopub.status.busy": "2022-02-11T20:01:06.723857Z",
     "iopub.status.idle": "2022-02-11T20:01:32.523780Z",
     "shell.execute_reply": "2022-02-11T20:01:32.523197Z"
    }
   },
   "outputs": [],
   "source": [
    "hg = OnePiece.gene.read_hgnc()\n",
    "\n",
    "size(hg)"
   ]
  },
  {
   "cell_type": "markdown",
   "id": "1e618da3",
   "metadata": {},
   "source": [
    "## read_ensembl"
   ]
  },
  {
   "cell_type": "code",
   "execution_count": null,
   "id": "cecc8625",
   "metadata": {
    "execution": {
     "iopub.execute_input": "2022-02-11T20:01:32.526287Z",
     "iopub.status.busy": "2022-02-11T20:01:32.525526Z",
     "iopub.status.idle": "2022-02-11T20:01:34.048059Z",
     "shell.execute_reply": "2022-02-11T20:01:34.047494Z"
    }
   },
   "outputs": [],
   "source": [
    "en = OnePiece.gene.read_ensembl()\n",
    "\n",
    "size(en)"
   ]
  },
  {
   "cell_type": "code",
   "execution_count": null,
   "id": "2704ed42",
   "metadata": {
    "execution": {
     "iopub.execute_input": "2022-02-11T20:01:34.050310Z",
     "iopub.status.busy": "2022-02-11T20:01:34.049618Z",
     "iopub.status.idle": "2022-02-11T20:01:34.847076Z",
     "shell.execute_reply": "2022-02-11T20:01:34.846521Z"
    }
   },
   "outputs": [],
   "source": [
    "en = OnePiece.gene.read_ensembl(; or = \"mouse\")\n",
    "\n",
    "size(en)"
   ]
  },
  {
   "cell_type": "markdown",
   "id": "067fadb9",
   "metadata": {},
   "source": [
    "## map_to_hgnc_gene"
   ]
  },
  {
   "cell_type": "code",
   "execution_count": null,
   "id": "0ac96217",
   "metadata": {
    "execution": {
     "iopub.execute_input": "2022-02-11T20:01:34.849238Z",
     "iopub.status.busy": "2022-02-11T20:01:34.848572Z",
     "iopub.status.idle": "2022-02-11T20:01:38.527982Z",
     "shell.execute_reply": "2022-02-11T20:01:38.527332Z"
    }
   },
   "outputs": [],
   "source": [
    "st_hg = OnePiece.gene.map_to_hgnc_gene()"
   ]
  },
  {
   "cell_type": "markdown",
   "id": "d8ed8dfc",
   "metadata": {},
   "source": [
    "## map_to_ensembl_gene"
   ]
  },
  {
   "cell_type": "code",
   "execution_count": null,
   "id": "b1068615",
   "metadata": {
    "execution": {
     "iopub.execute_input": "2022-02-11T20:01:38.530492Z",
     "iopub.status.busy": "2022-02-11T20:01:38.529806Z",
     "iopub.status.idle": "2022-02-11T20:01:48.916828Z",
     "shell.execute_reply": "2022-02-11T20:01:48.916304Z"
    }
   },
   "outputs": [],
   "source": [
    "st_en = OnePiece.gene.map_to_ensembl_gene()"
   ]
  },
  {
   "cell_type": "markdown",
   "id": "64ff451e",
   "metadata": {},
   "source": [
    "## map_with_mouse"
   ]
  },
  {
   "cell_type": "code",
   "execution_count": null,
   "id": "344da7eb",
   "metadata": {
    "execution": {
     "iopub.execute_input": "2022-02-11T20:01:48.919253Z",
     "iopub.status.busy": "2022-02-11T20:01:48.918423Z",
     "iopub.status.idle": "2022-02-11T20:02:03.234478Z",
     "shell.execute_reply": "2022-02-11T20:02:03.233959Z"
    }
   },
   "outputs": [],
   "source": [
    "OnePiece.gene.map_with_mouse()"
   ]
  },
  {
   "cell_type": "code",
   "execution_count": null,
   "id": "c3b98547",
   "metadata": {
    "execution": {
     "iopub.execute_input": "2022-02-11T20:02:03.236534Z",
     "iopub.status.busy": "2022-02-11T20:02:03.235890Z",
     "iopub.status.idle": "2022-02-11T20:02:15.425088Z",
     "shell.execute_reply": "2022-02-11T20:02:15.424548Z"
    }
   },
   "outputs": [],
   "source": [
    "OnePiece.gene.map_with_mouse(; ho = \"human_to_mouse\")"
   ]
  },
  {
   "cell_type": "markdown",
   "id": "cfb03409",
   "metadata": {},
   "source": [
    "## rename"
   ]
  },
  {
   "cell_type": "code",
   "execution_count": null,
   "id": "e2b70674",
   "metadata": {
    "execution": {
     "iopub.execute_input": "2022-02-11T20:02:15.427371Z",
     "iopub.status.busy": "2022-02-11T20:02:15.426622Z",
     "iopub.status.idle": "2022-02-11T20:02:15.491185Z",
     "shell.execute_reply": "2022-02-11T20:02:15.490573Z"
    }
   },
   "outputs": [],
   "source": [
    "hg_ = string.(hg[!, \"symbol\"])\n",
    "\n",
    ";"
   ]
  },
  {
   "cell_type": "code",
   "execution_count": null,
   "id": "0dcb6a68",
   "metadata": {
    "execution": {
     "iopub.execute_input": "2022-02-11T20:02:15.493212Z",
     "iopub.status.busy": "2022-02-11T20:02:15.492583Z",
     "iopub.status.idle": "2022-02-11T20:02:37.175163Z",
     "shell.execute_reply": "2022-02-11T20:02:37.174677Z"
    }
   },
   "outputs": [],
   "source": [
    "na_, ma_ = OnePiece.gene.rename(hg_)"
   ]
  },
  {
   "cell_type": "code",
   "execution_count": null,
   "id": "9b31bde2",
   "metadata": {
    "execution": {
     "iopub.execute_input": "2022-02-11T20:02:37.177054Z",
     "iopub.status.busy": "2022-02-11T20:02:37.176462Z",
     "iopub.status.idle": "2022-02-11T20:02:38.029869Z",
     "shell.execute_reply": "2022-02-11T20:02:38.029379Z"
    }
   },
   "outputs": [],
   "source": [
    "ge_ = unique(skipmissing(en[!, \"Gene name\"]))\n",
    "\n",
    "na_, ma_ = OnePiece.gene.rename(ge_; mo = false, en = false)"
   ]
  },
  {
   "cell_type": "code",
   "execution_count": null,
   "id": "bb77a60e",
   "metadata": {
    "execution": {
     "iopub.execute_input": "2022-02-11T20:02:38.031707Z",
     "iopub.status.busy": "2022-02-11T20:02:38.031127Z",
     "iopub.status.idle": "2022-02-11T20:02:39.569610Z",
     "shell.execute_reply": "2022-02-11T20:02:39.569156Z"
    }
   },
   "outputs": [],
   "source": [
    "hg_gr = OnePiece.extension.dataframe.map_to_column(coalesce.(hg, \"?\"), [\"symbol\", \"gene_group\"])"
   ]
  },
  {
   "cell_type": "code",
   "execution_count": null,
   "id": "5f36e738",
   "metadata": {
    "execution": {
     "iopub.execute_input": "2022-02-11T20:02:39.571491Z",
     "iopub.status.busy": "2022-02-11T20:02:39.570923Z",
     "iopub.status.idle": "2022-02-11T20:02:39.697569Z",
     "shell.execute_reply": "2022-02-11T20:02:39.697094Z"
    }
   },
   "outputs": [],
   "source": [
    "println(join(unique([hg_gr[na] for na in na_[ma_ .== 1]]), \"\\n\"))"
   ]
  },
  {
   "cell_type": "code",
   "execution_count": null,
   "id": "5f70be28",
   "metadata": {
    "execution": {
     "iopub.execute_input": "2022-02-11T20:02:39.699493Z",
     "iopub.status.busy": "2022-02-11T20:02:39.698918Z",
     "iopub.status.idle": "2022-02-11T20:02:40.232511Z",
     "shell.execute_reply": "2022-02-11T20:02:40.232057Z"
    }
   },
   "outputs": [],
   "source": [
    "en_ty = OnePiece.extension.dataframe.map_to_column(en, [\"Gene name\", \"Gene type\"])\n",
    "\n",
    "println(join(unique([en_ty[na] for na in na_[ma_ .== 2]]), \"\\n\"))"
   ]
  },
  {
   "cell_type": "markdown",
   "id": "3f396855",
   "metadata": {},
   "source": [
    "---"
   ]
  },
  {
   "cell_type": "code",
   "execution_count": null,
   "id": "b4af2023",
   "metadata": {
    "execution": {
     "iopub.execute_input": "2022-02-11T20:02:40.234533Z",
     "iopub.status.busy": "2022-02-11T20:02:40.233917Z",
     "iopub.status.idle": "2022-02-11T20:02:40.236390Z",
     "shell.execute_reply": "2022-02-11T20:02:40.235941Z"
    }
   },
   "outputs": [],
   "source": [
    "if isdir(TE)\n",
    "\n",
    "    rm(TE, recursive = true)\n",
    "\n",
    "    println(\"Removed \", TE, \".\")\n",
    "\n",
    "end"
   ]
  }
 ],
 "metadata": {
  "kernelspec": {
   "display_name": "Julia 1.7.2",
   "language": "julia",
   "name": "julia-1.7"
  },
  "language_info": {
   "file_extension": ".jl",
   "mimetype": "application/julia",
   "name": "julia",
   "version": "1.7.2"
  }
 },
 "nbformat": 4,
 "nbformat_minor": 5
}
