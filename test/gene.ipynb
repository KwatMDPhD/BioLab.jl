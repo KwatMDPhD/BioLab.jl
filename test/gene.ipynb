{
 "cells": [
  {
   "cell_type": "code",
   "execution_count": null,
   "id": "34e4701e",
   "metadata": {
    "execution": {
     "iopub.execute_input": "2022-02-09T00:12:31.146008Z",
     "iopub.status.busy": "2022-02-09T00:12:30.100444Z",
     "iopub.status.idle": "2022-02-09T00:12:33.679796Z",
     "shell.execute_reply": "2022-02-09T00:12:33.678386Z"
    }
   },
   "outputs": [],
   "source": [
    "using Revise\n",
    "using BenchmarkTools"
   ]
  },
  {
   "cell_type": "code",
   "execution_count": null,
   "id": "23b98853",
   "metadata": {
    "execution": {
     "iopub.execute_input": "2022-02-09T00:12:33.684256Z",
     "iopub.status.busy": "2022-02-09T00:12:33.682840Z",
     "iopub.status.idle": "2022-02-09T00:12:57.230903Z",
     "shell.execute_reply": "2022-02-09T00:12:57.229422Z"
    }
   },
   "outputs": [],
   "source": [
    "using DataFrames\n",
    "\n",
    "using OnePiece"
   ]
  },
  {
   "cell_type": "markdown",
   "id": "19d500c7",
   "metadata": {},
   "source": [
    "## read_hgnc"
   ]
  },
  {
   "cell_type": "code",
   "execution_count": null,
   "id": "31c67e64",
   "metadata": {
    "execution": {
     "iopub.execute_input": "2022-02-09T00:13:00.197245Z",
     "iopub.status.busy": "2022-02-09T00:12:57.234072Z",
     "iopub.status.idle": "2022-02-09T00:13:35.090694Z",
     "shell.execute_reply": "2022-02-09T00:13:35.089920Z"
    }
   },
   "outputs": [],
   "source": [
    "hg = OnePiece.gene.read_hgnc()\n",
    "\n",
    "size(hg)"
   ]
  },
  {
   "cell_type": "markdown",
   "id": "1e618da3",
   "metadata": {},
   "source": [
    "## read_ensembl"
   ]
  },
  {
   "cell_type": "code",
   "execution_count": null,
   "id": "cecc8625",
   "metadata": {
    "execution": {
     "iopub.execute_input": "2022-02-09T00:13:35.093938Z",
     "iopub.status.busy": "2022-02-09T00:13:35.093051Z",
     "iopub.status.idle": "2022-02-09T00:13:36.793693Z",
     "shell.execute_reply": "2022-02-09T00:13:36.793030Z"
    }
   },
   "outputs": [],
   "source": [
    "en = OnePiece.gene.read_ensembl()\n",
    "\n",
    "size(en)"
   ]
  },
  {
   "cell_type": "code",
   "execution_count": null,
   "id": "2704ed42",
   "metadata": {
    "execution": {
     "iopub.execute_input": "2022-02-09T00:13:36.796423Z",
     "iopub.status.busy": "2022-02-09T00:13:36.795583Z",
     "iopub.status.idle": "2022-02-09T00:13:37.880967Z",
     "shell.execute_reply": "2022-02-09T00:13:37.880375Z"
    }
   },
   "outputs": [],
   "source": [
    "en = OnePiece.gene.read_ensembl(; or = \"mouse\")\n",
    "\n",
    "size(en)"
   ]
  },
  {
   "cell_type": "markdown",
   "id": "39171df7",
   "metadata": {},
   "source": [
    "## map_to_column"
   ]
  },
  {
   "cell_type": "code",
   "execution_count": null,
   "id": "1db03a1e",
   "metadata": {
    "execution": {
     "iopub.execute_input": "2022-02-09T00:13:37.883647Z",
     "iopub.status.busy": "2022-02-09T00:13:37.882834Z",
     "iopub.status.idle": "2022-02-09T00:13:42.783951Z",
     "shell.execute_reply": "2022-02-09T00:13:42.783399Z"
    }
   },
   "outputs": [],
   "source": [
    "hg_gr = OnePiece.gene.map_to_column(coalesce.(hg, \"?\"), [\"symbol\", \"gene_group\"])"
   ]
  },
  {
   "cell_type": "markdown",
   "id": "067fadb9",
   "metadata": {},
   "source": [
    "## map_to_hgnc_gene"
   ]
  },
  {
   "cell_type": "code",
   "execution_count": null,
   "id": "0ac96217",
   "metadata": {
    "execution": {
     "iopub.execute_input": "2022-02-09T00:13:42.786409Z",
     "iopub.status.busy": "2022-02-09T00:13:42.785714Z",
     "iopub.status.idle": "2022-02-09T00:13:44.298401Z",
     "shell.execute_reply": "2022-02-09T00:13:44.297831Z"
    }
   },
   "outputs": [],
   "source": [
    "st_hg = OnePiece.gene.map_to_hgnc_gene()"
   ]
  },
  {
   "cell_type": "markdown",
   "id": "d8ed8dfc",
   "metadata": {},
   "source": [
    "## map_to_ensembl_gene"
   ]
  },
  {
   "cell_type": "code",
   "execution_count": null,
   "id": "b1068615",
   "metadata": {
    "execution": {
     "iopub.execute_input": "2022-02-09T00:13:44.300781Z",
     "iopub.status.busy": "2022-02-09T00:13:44.300075Z",
     "iopub.status.idle": "2022-02-09T00:13:53.848920Z",
     "shell.execute_reply": "2022-02-09T00:13:53.848432Z"
    }
   },
   "outputs": [],
   "source": [
    "st_en = OnePiece.gene.map_to_ensembl_gene()"
   ]
  },
  {
   "cell_type": "markdown",
   "id": "64ff451e",
   "metadata": {},
   "source": [
    "## map_with_mouse"
   ]
  },
  {
   "cell_type": "code",
   "execution_count": null,
   "id": "344da7eb",
   "metadata": {
    "execution": {
     "iopub.execute_input": "2022-02-09T00:13:53.851083Z",
     "iopub.status.busy": "2022-02-09T00:13:53.850466Z",
     "iopub.status.idle": "2022-02-09T00:14:06.794198Z",
     "shell.execute_reply": "2022-02-09T00:14:06.793722Z"
    }
   },
   "outputs": [],
   "source": [
    "OnePiece.gene.map_with_mouse()"
   ]
  },
  {
   "cell_type": "code",
   "execution_count": null,
   "id": "c3b98547",
   "metadata": {
    "execution": {
     "iopub.execute_input": "2022-02-09T00:14:06.796289Z",
     "iopub.status.busy": "2022-02-09T00:14:06.795699Z",
     "iopub.status.idle": "2022-02-09T00:14:18.972964Z",
     "shell.execute_reply": "2022-02-09T00:14:18.972393Z"
    }
   },
   "outputs": [],
   "source": [
    "OnePiece.gene.map_with_mouse(; ho = \"human_to_mouse\")"
   ]
  },
  {
   "cell_type": "markdown",
   "id": "cfb03409",
   "metadata": {},
   "source": [
    "## rename"
   ]
  },
  {
   "cell_type": "code",
   "execution_count": null,
   "id": "e2b70674",
   "metadata": {
    "execution": {
     "iopub.execute_input": "2022-02-09T00:14:18.975219Z",
     "iopub.status.busy": "2022-02-09T00:14:18.974580Z",
     "iopub.status.idle": "2022-02-09T00:14:19.047037Z",
     "shell.execute_reply": "2022-02-09T00:14:19.046511Z"
    }
   },
   "outputs": [],
   "source": [
    "hg_ = string.(hg[!, \"symbol\"])\n",
    "\n",
    ";"
   ]
  },
  {
   "cell_type": "code",
   "execution_count": null,
   "id": "0dcb6a68",
   "metadata": {
    "execution": {
     "iopub.execute_input": "2022-02-09T00:14:19.049239Z",
     "iopub.status.busy": "2022-02-09T00:14:19.048606Z",
     "iopub.status.idle": "2022-02-09T00:14:42.708212Z",
     "shell.execute_reply": "2022-02-09T00:14:42.707703Z"
    }
   },
   "outputs": [],
   "source": [
    "na_, ma_ = OnePiece.gene.rename(hg_)"
   ]
  },
  {
   "cell_type": "code",
   "execution_count": null,
   "id": "9b31bde2",
   "metadata": {
    "execution": {
     "iopub.execute_input": "2022-02-09T00:14:42.710404Z",
     "iopub.status.busy": "2022-02-09T00:14:42.709755Z",
     "iopub.status.idle": "2022-02-09T00:14:43.430528Z",
     "shell.execute_reply": "2022-02-09T00:14:43.430009Z"
    }
   },
   "outputs": [],
   "source": [
    "ge_ = unique(skipmissing(en[!, \"Gene name\"]))\n",
    "\n",
    "na_, ma_ = OnePiece.gene.rename(ge_; mo = false, en = false)"
   ]
  },
  {
   "cell_type": "code",
   "execution_count": null,
   "id": "5f36e738",
   "metadata": {
    "execution": {
     "iopub.execute_input": "2022-02-09T00:14:43.432748Z",
     "iopub.status.busy": "2022-02-09T00:14:43.432106Z",
     "iopub.status.idle": "2022-02-09T00:14:43.595024Z",
     "shell.execute_reply": "2022-02-09T00:14:43.594424Z"
    }
   },
   "outputs": [],
   "source": [
    "println(join(unique([hg_gr[na] for na in na_[ma_ .== 1]]), \"\\n\"))"
   ]
  },
  {
   "cell_type": "code",
   "execution_count": null,
   "id": "5f70be28",
   "metadata": {
    "execution": {
     "iopub.execute_input": "2022-02-09T00:14:43.597405Z",
     "iopub.status.busy": "2022-02-09T00:14:43.596528Z",
     "iopub.status.idle": "2022-02-09T00:14:44.547724Z",
     "shell.execute_reply": "2022-02-09T00:14:44.547256Z"
    }
   },
   "outputs": [],
   "source": [
    "en_ty = OnePiece.gene.map_to_column(en, [\"Gene name\", \"Gene type\"])\n",
    "\n",
    "println(join(unique([en_ty[na] for na in na_[ma_ .== 2]]), \"\\n\"))"
   ]
  }
 ],
 "metadata": {
  "@webio": {
   "lastCommId": null,
   "lastKernelId": null
  },
  "kernelspec": {
   "display_name": "Julia 1.7.1",
   "language": "julia",
   "name": "julia-1.7"
  },
  "language_info": {
   "file_extension": ".jl",
   "mimetype": "application/julia",
   "name": "julia",
   "version": "1.7.2"
  }
 },
 "nbformat": 4,
 "nbformat_minor": 5
}
