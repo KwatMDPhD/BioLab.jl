{
 "cells": [
  {
   "cell_type": "code",
   "execution_count": null,
   "id": "017464da",
   "metadata": {
    "execution": {
     "iopub.execute_input": "2022-02-13T23:14:14.452822Z",
     "iopub.status.busy": "2022-02-13T23:14:14.061110Z",
     "iopub.status.idle": "2022-02-13T23:14:14.667514Z",
     "shell.execute_reply": "2022-02-13T23:14:14.666672Z"
    }
   },
   "outputs": [],
   "source": [
    "TE = joinpath(tempdir(), \"OnePiece.test\")\n",
    "\n",
    "if isdir(TE)\n",
    "\n",
    "    rm(TE, recursive = true)\n",
    "\n",
    "    println(\"Removed \", TE, \".\")\n",
    "\n",
    "end\n",
    "\n",
    "mkdir(TE)\n",
    "\n",
    "println(\"Made \", TE, \".\")"
   ]
  },
  {
   "cell_type": "code",
   "execution_count": null,
   "id": "34e4701e",
   "metadata": {
    "execution": {
     "iopub.execute_input": "2022-02-13T23:14:14.669556Z",
     "iopub.status.busy": "2022-02-13T23:14:14.669041Z",
     "iopub.status.idle": "2022-02-13T23:14:19.374071Z",
     "shell.execute_reply": "2022-02-13T23:14:19.373679Z"
    }
   },
   "outputs": [],
   "source": [
    "using OnePiece"
   ]
  },
  {
   "cell_type": "markdown",
   "id": "b92a3da9",
   "metadata": {},
   "source": [
    "---"
   ]
  },
  {
   "cell_type": "markdown",
   "id": "19d500c7",
   "metadata": {},
   "source": [
    "## read_hgnc"
   ]
  },
  {
   "cell_type": "code",
   "execution_count": null,
   "id": "31c67e64",
   "metadata": {
    "execution": {
     "iopub.execute_input": "2022-02-13T23:14:19.709118Z",
     "iopub.status.busy": "2022-02-13T23:14:19.375513Z",
     "iopub.status.idle": "2022-02-13T23:14:40.790838Z",
     "shell.execute_reply": "2022-02-13T23:14:40.790391Z"
    }
   },
   "outputs": [],
   "source": [
    "hg = OnePiece.gene.read_hgnc()\n",
    "\n",
    "size(hg)"
   ]
  },
  {
   "cell_type": "markdown",
   "id": "1e618da3",
   "metadata": {},
   "source": [
    "## read_ensembl"
   ]
  },
  {
   "cell_type": "code",
   "execution_count": null,
   "id": "cecc8625",
   "metadata": {
    "execution": {
     "iopub.execute_input": "2022-02-13T23:14:40.792944Z",
     "iopub.status.busy": "2022-02-13T23:14:40.792293Z",
     "iopub.status.idle": "2022-02-13T23:14:41.970252Z",
     "shell.execute_reply": "2022-02-13T23:14:41.969853Z"
    }
   },
   "outputs": [],
   "source": [
    "en = OnePiece.gene.read_ensembl()\n",
    "\n",
    "size(en)"
   ]
  },
  {
   "cell_type": "code",
   "execution_count": null,
   "id": "2704ed42",
   "metadata": {
    "execution": {
     "iopub.execute_input": "2022-02-13T23:14:41.972045Z",
     "iopub.status.busy": "2022-02-13T23:14:41.971543Z",
     "iopub.status.idle": "2022-02-13T23:14:42.719343Z",
     "shell.execute_reply": "2022-02-13T23:14:42.718936Z"
    }
   },
   "outputs": [],
   "source": [
    "en = OnePiece.gene.read_ensembl(; or = \"mouse\")\n",
    "\n",
    "size(en)"
   ]
  },
  {
   "cell_type": "markdown",
   "id": "067fadb9",
   "metadata": {},
   "source": [
    "## map_to_hgnc_gene"
   ]
  },
  {
   "cell_type": "code",
   "execution_count": null,
   "id": "0ac96217",
   "metadata": {
    "execution": {
     "iopub.execute_input": "2022-02-13T23:14:42.721189Z",
     "iopub.status.busy": "2022-02-13T23:14:42.720673Z",
     "iopub.status.idle": "2022-02-13T23:14:45.612911Z",
     "shell.execute_reply": "2022-02-13T23:14:45.612524Z"
    }
   },
   "outputs": [],
   "source": [
    "st_hg = OnePiece.gene.map_to_hgnc_gene()"
   ]
  },
  {
   "cell_type": "markdown",
   "id": "d8ed8dfc",
   "metadata": {},
   "source": [
    "## map_to_ensembl_gene"
   ]
  },
  {
   "cell_type": "code",
   "execution_count": null,
   "id": "b1068615",
   "metadata": {
    "execution": {
     "iopub.execute_input": "2022-02-13T23:14:45.614866Z",
     "iopub.status.busy": "2022-02-13T23:14:45.614378Z",
     "iopub.status.idle": "2022-02-13T23:14:55.034989Z",
     "shell.execute_reply": "2022-02-13T23:14:55.034600Z"
    }
   },
   "outputs": [],
   "source": [
    "st_en = OnePiece.gene.map_to_ensembl_gene()"
   ]
  },
  {
   "cell_type": "markdown",
   "id": "64ff451e",
   "metadata": {},
   "source": [
    "## map_with_mouse"
   ]
  },
  {
   "cell_type": "code",
   "execution_count": null,
   "id": "344da7eb",
   "metadata": {
    "execution": {
     "iopub.execute_input": "2022-02-13T23:14:55.036892Z",
     "iopub.status.busy": "2022-02-13T23:14:55.036400Z",
     "iopub.status.idle": "2022-02-13T23:15:07.234479Z",
     "shell.execute_reply": "2022-02-13T23:15:07.233930Z"
    }
   },
   "outputs": [],
   "source": [
    "OnePiece.gene.map_with_mouse()"
   ]
  },
  {
   "cell_type": "code",
   "execution_count": null,
   "id": "c3b98547",
   "metadata": {
    "execution": {
     "iopub.execute_input": "2022-02-13T23:15:07.236420Z",
     "iopub.status.busy": "2022-02-13T23:15:07.235801Z",
     "iopub.status.idle": "2022-02-13T23:15:18.206276Z",
     "shell.execute_reply": "2022-02-13T23:15:18.205131Z"
    }
   },
   "outputs": [],
   "source": [
    "OnePiece.gene.map_with_mouse(; ho = \"human_to_mouse\")"
   ]
  },
  {
   "cell_type": "markdown",
   "id": "cfb03409",
   "metadata": {},
   "source": [
    "## rename"
   ]
  },
  {
   "cell_type": "code",
   "execution_count": null,
   "id": "e2b70674",
   "metadata": {
    "execution": {
     "iopub.execute_input": "2022-02-13T23:15:18.208485Z",
     "iopub.status.busy": "2022-02-13T23:15:18.207990Z",
     "iopub.status.idle": "2022-02-13T23:15:18.260655Z",
     "shell.execute_reply": "2022-02-13T23:15:18.260106Z"
    }
   },
   "outputs": [],
   "source": [
    "hg_ = string.(hg[!, \"symbol\"])\n",
    "\n",
    ";"
   ]
  },
  {
   "cell_type": "code",
   "execution_count": null,
   "id": "0dcb6a68",
   "metadata": {
    "execution": {
     "iopub.execute_input": "2022-02-13T23:15:18.262498Z",
     "iopub.status.busy": "2022-02-13T23:15:18.262004Z",
     "iopub.status.idle": "2022-02-13T23:15:38.713637Z",
     "shell.execute_reply": "2022-02-13T23:15:38.713228Z"
    }
   },
   "outputs": [],
   "source": [
    "na_, ma_ = OnePiece.gene.rename(hg_)"
   ]
  },
  {
   "cell_type": "code",
   "execution_count": null,
   "id": "9b31bde2",
   "metadata": {
    "execution": {
     "iopub.execute_input": "2022-02-13T23:15:38.715693Z",
     "iopub.status.busy": "2022-02-13T23:15:38.715196Z",
     "iopub.status.idle": "2022-02-13T23:15:39.731754Z",
     "shell.execute_reply": "2022-02-13T23:15:39.731233Z"
    }
   },
   "outputs": [],
   "source": [
    "ge_ = unique(skipmissing(en[!, \"Gene name\"]))\n",
    "\n",
    "na_, ma_ = OnePiece.gene.rename(ge_; mo = false, en = false)"
   ]
  },
  {
   "cell_type": "code",
   "execution_count": null,
   "id": "bb77a60e",
   "metadata": {
    "execution": {
     "iopub.execute_input": "2022-02-13T23:15:39.733690Z",
     "iopub.status.busy": "2022-02-13T23:15:39.733101Z",
     "iopub.status.idle": "2022-02-13T23:15:40.972017Z",
     "shell.execute_reply": "2022-02-13T23:15:40.971638Z"
    }
   },
   "outputs": [],
   "source": [
    "hg_gr = OnePiece.extension.dataframe.map_to_column(coalesce.(hg, \"?\"), [\"symbol\", \"gene_group\"])"
   ]
  },
  {
   "cell_type": "code",
   "execution_count": null,
   "id": "5f36e738",
   "metadata": {
    "execution": {
     "iopub.execute_input": "2022-02-13T23:15:40.973846Z",
     "iopub.status.busy": "2022-02-13T23:15:40.973363Z",
     "iopub.status.idle": "2022-02-13T23:15:41.086129Z",
     "shell.execute_reply": "2022-02-13T23:15:41.085717Z"
    }
   },
   "outputs": [],
   "source": [
    "println(join(unique([hg_gr[na] for na in na_[ma_ .== 1]]), \"\\n\"))"
   ]
  },
  {
   "cell_type": "code",
   "execution_count": null,
   "id": "5f70be28",
   "metadata": {
    "execution": {
     "iopub.execute_input": "2022-02-13T23:15:41.088125Z",
     "iopub.status.busy": "2022-02-13T23:15:41.087545Z",
     "iopub.status.idle": "2022-02-13T23:15:41.670892Z",
     "shell.execute_reply": "2022-02-13T23:15:41.670423Z"
    }
   },
   "outputs": [],
   "source": [
    "en_ty = OnePiece.extension.dataframe.map_to_column(en, [\"Gene name\", \"Gene type\"])\n",
    "\n",
    "println(join(unique([en_ty[na] for na in na_[ma_ .== 2]]), \"\\n\"))"
   ]
  },
  {
   "cell_type": "markdown",
   "id": "3f396855",
   "metadata": {},
   "source": [
    "---"
   ]
  },
  {
   "cell_type": "code",
   "execution_count": null,
   "id": "b4af2023",
   "metadata": {
    "execution": {
     "iopub.execute_input": "2022-02-13T23:15:41.672905Z",
     "iopub.status.busy": "2022-02-13T23:15:41.672326Z",
     "iopub.status.idle": "2022-02-13T23:15:41.674811Z",
     "shell.execute_reply": "2022-02-13T23:15:41.674360Z"
    }
   },
   "outputs": [],
   "source": [
    "if isdir(TE)\n",
    "\n",
    "    rm(TE, recursive = true)\n",
    "\n",
    "    println(\"Removed \", TE, \".\")\n",
    "\n",
    "end"
   ]
  }
 ],
 "metadata": {
  "kernelspec": {
   "display_name": "Julia 1.7.2",
   "language": "julia",
   "name": "julia-1.7"
  },
  "language_info": {
   "file_extension": ".jl",
   "mimetype": "application/julia",
   "name": "julia",
   "version": "1.7.2"
  }
 },
 "nbformat": 4,
 "nbformat_minor": 5
}
