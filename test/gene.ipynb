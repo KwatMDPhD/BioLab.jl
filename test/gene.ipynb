{
 "cells": [
  {
   "cell_type": "code",
   "execution_count": null,
   "id": "baf12f00",
   "metadata": {
    "execution": {
     "iopub.execute_input": "2022-08-17T13:46:49.193000Z",
     "iopub.status.busy": "2022-08-17T13:46:48.853000Z",
     "iopub.status.idle": "2022-08-17T13:46:53.718000Z",
     "shell.execute_reply": "2022-08-17T13:46:53.673000Z"
    }
   },
   "outputs": [],
   "source": [
    "using OnePiece"
   ]
  },
  {
   "cell_type": "markdown",
   "id": "aef3bb6e",
   "metadata": {},
   "source": [
    "## map_from_mouse"
   ]
  },
  {
   "cell_type": "code",
   "execution_count": null,
   "id": "abadc491",
   "metadata": {
    "execution": {
     "iopub.execute_input": "2022-08-17T13:46:54.307000Z",
     "iopub.status.busy": "2022-08-17T13:46:53.720000Z",
     "iopub.status.idle": "2022-08-17T13:47:06.625000Z",
     "shell.execute_reply": "2022-08-17T13:47:06.625000Z"
    }
   },
   "outputs": [],
   "source": [
    "OnePiece.dict.print(OnePiece.gene.map_from_mouse(), n_pa = 3)"
   ]
  },
  {
   "cell_type": "markdown",
   "id": "e58c0d0b",
   "metadata": {},
   "source": [
    "## map_to_ensembl"
   ]
  },
  {
   "cell_type": "code",
   "execution_count": null,
   "id": "1819ebb5",
   "metadata": {
    "execution": {
     "iopub.execute_input": "2022-08-17T13:47:06.629000Z",
     "iopub.status.busy": "2022-08-17T13:47:06.629000Z",
     "iopub.status.idle": "2022-08-17T13:47:15.730000Z",
     "shell.execute_reply": "2022-08-17T13:47:15.730000Z"
    }
   },
   "outputs": [],
   "source": [
    "OnePiece.dict.print(OnePiece.gene.map_to_ensembl(), n_pa = 3)"
   ]
  },
  {
   "cell_type": "markdown",
   "id": "5aeb9979",
   "metadata": {},
   "source": [
    "## map_to_hgnc"
   ]
  },
  {
   "cell_type": "code",
   "execution_count": null,
   "id": "648177cb",
   "metadata": {
    "execution": {
     "iopub.execute_input": "2022-08-17T13:47:15.733000Z",
     "iopub.status.busy": "2022-08-17T13:47:15.733000Z",
     "iopub.status.idle": "2022-08-17T13:47:16.835000Z",
     "shell.execute_reply": "2022-08-17T13:47:16.835000Z"
    }
   },
   "outputs": [],
   "source": [
    "OnePiece.dict.print(OnePiece.gene.map_to_hgnc(), n_pa = 3)"
   ]
  },
  {
   "cell_type": "markdown",
   "id": "7d14bc76",
   "metadata": {},
   "source": [
    "## read_ensembl"
   ]
  },
  {
   "cell_type": "code",
   "execution_count": null,
   "id": "9dc290fb",
   "metadata": {
    "execution": {
     "iopub.execute_input": "2022-08-17T13:47:16.856000Z",
     "iopub.status.busy": "2022-08-17T13:47:16.856000Z",
     "iopub.status.idle": "2022-08-17T13:47:19.798000Z",
     "shell.execute_reply": "2022-08-17T13:47:19.798000Z"
    }
   },
   "outputs": [],
   "source": [
    "en = OnePiece.gene.read_ensembl()\n",
    "\n",
    "OnePiece.data_frame.print(en)"
   ]
  },
  {
   "cell_type": "markdown",
   "id": "7c0c1b64",
   "metadata": {},
   "source": [
    "## read_hgnc"
   ]
  },
  {
   "cell_type": "code",
   "execution_count": null,
   "id": "687a2613",
   "metadata": {
    "execution": {
     "iopub.execute_input": "2022-08-17T13:47:19.804000Z",
     "iopub.status.busy": "2022-08-17T13:47:19.803000Z",
     "iopub.status.idle": "2022-08-17T13:47:20.339000Z",
     "shell.execute_reply": "2022-08-17T13:47:20.339000Z"
    }
   },
   "outputs": [],
   "source": [
    "hg = OnePiece.gene.read_hgnc()\n",
    "\n",
    "OnePiece.data_frame.print(hg)"
   ]
  },
  {
   "cell_type": "markdown",
   "id": "d977a08d",
   "metadata": {},
   "source": [
    "## rename"
   ]
  },
  {
   "cell_type": "code",
   "execution_count": null,
   "id": "44d3683b",
   "metadata": {
    "execution": {
     "iopub.execute_input": "2022-08-17T13:47:20.342000Z",
     "iopub.status.busy": "2022-08-17T13:47:20.342000Z",
     "iopub.status.idle": "2022-08-17T13:47:21.858000Z",
     "shell.execute_reply": "2022-08-17T13:47:21.858000Z"
    }
   },
   "outputs": [],
   "source": [
    "na_, ma_ = OnePiece.gene.rename(unique(skipmissing(en[!, \"Gene name\"])), en = false, mo = false)"
   ]
  },
  {
   "cell_type": "code",
   "execution_count": null,
   "id": "1472bc79",
   "metadata": {
    "execution": {
     "iopub.execute_input": "2022-08-17T13:47:21.861000Z",
     "iopub.status.busy": "2022-08-17T13:47:21.861000Z",
     "iopub.status.idle": "2022-08-17T13:47:29.868000Z",
     "shell.execute_reply": "2022-08-17T13:47:29.868000Z"
    }
   },
   "outputs": [],
   "source": [
    "na_, ma_ = OnePiece.gene.rename(unique(skipmissing(hg[!, \"symbol\"])), hg = false, mo = false)"
   ]
  }
 ],
 "metadata": {
  "@webio": {
   "lastCommId": null,
   "lastKernelId": null
  },
  "kernelspec": {
   "display_name": "Julia 1.7.3",
   "language": "julia",
   "name": "julia-1.7"
  },
  "language_info": {
   "file_extension": ".jl",
   "mimetype": "application/julia",
   "name": "julia",
   "version": "1.7.3"
  }
 },
 "nbformat": 4,
 "nbformat_minor": 5
}
