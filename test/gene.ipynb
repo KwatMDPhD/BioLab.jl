{
 "cells": [
  {
   "cell_type": "code",
   "execution_count": null,
   "id": "34e4701e",
   "metadata": {
    "execution": {
     "iopub.execute_input": "2022-02-08T03:22:51.589598Z",
     "iopub.status.busy": "2022-02-08T03:22:51.181020Z",
     "iopub.status.idle": "2022-02-08T03:22:52.456515Z",
     "shell.execute_reply": "2022-02-08T03:22:52.455925Z"
    }
   },
   "outputs": [],
   "source": [
    "using Revise\n",
    "using BenchmarkTools"
   ]
  },
  {
   "cell_type": "code",
   "execution_count": null,
   "id": "23b98853",
   "metadata": {
    "execution": {
     "iopub.execute_input": "2022-02-08T03:22:52.458508Z",
     "iopub.status.busy": "2022-02-08T03:22:52.457997Z",
     "iopub.status.idle": "2022-02-08T03:23:04.149712Z",
     "shell.execute_reply": "2022-02-08T03:23:04.149020Z"
    }
   },
   "outputs": [],
   "source": [
    "using DataFrames\n",
    "\n",
    "using OnePiece"
   ]
  },
  {
   "cell_type": "markdown",
   "id": "19d500c7",
   "metadata": {},
   "source": [
    "## read_hgnc"
   ]
  },
  {
   "cell_type": "code",
   "execution_count": null,
   "id": "31c67e64",
   "metadata": {
    "execution": {
     "iopub.execute_input": "2022-02-08T03:23:05.775492Z",
     "iopub.status.busy": "2022-02-08T03:23:04.151179Z",
     "iopub.status.idle": "2022-02-08T03:23:28.905414Z",
     "shell.execute_reply": "2022-02-08T03:23:28.904965Z"
    }
   },
   "outputs": [],
   "source": [
    "hg = OnePiece.gene.read_hgnc()\n",
    "\n",
    "size(hg)"
   ]
  },
  {
   "cell_type": "markdown",
   "id": "1e618da3",
   "metadata": {},
   "source": [
    "## read_ensembl"
   ]
  },
  {
   "cell_type": "code",
   "execution_count": null,
   "id": "cecc8625",
   "metadata": {
    "execution": {
     "iopub.execute_input": "2022-02-08T03:23:28.907418Z",
     "iopub.status.busy": "2022-02-08T03:23:28.906839Z",
     "iopub.status.idle": "2022-02-08T03:23:30.096281Z",
     "shell.execute_reply": "2022-02-08T03:23:30.095890Z"
    }
   },
   "outputs": [],
   "source": [
    "en = OnePiece.gene.read_ensembl()\n",
    "\n",
    "size(en)"
   ]
  },
  {
   "cell_type": "code",
   "execution_count": null,
   "id": "2704ed42",
   "metadata": {
    "execution": {
     "iopub.execute_input": "2022-02-08T03:23:30.097934Z",
     "iopub.status.busy": "2022-02-08T03:23:30.097447Z",
     "iopub.status.idle": "2022-02-08T03:23:30.894875Z",
     "shell.execute_reply": "2022-02-08T03:23:30.894469Z"
    }
   },
   "outputs": [],
   "source": [
    "en = OnePiece.gene.read_ensembl(; or = \"mouse\")\n",
    "\n",
    "size(en)"
   ]
  },
  {
   "cell_type": "markdown",
   "id": "39171df7",
   "metadata": {},
   "source": [
    "## map_to_column"
   ]
  },
  {
   "cell_type": "code",
   "execution_count": null,
   "id": "1db03a1e",
   "metadata": {
    "execution": {
     "iopub.execute_input": "2022-02-08T03:23:30.897169Z",
     "iopub.status.busy": "2022-02-08T03:23:30.896382Z",
     "iopub.status.idle": "2022-02-08T03:23:33.837153Z",
     "shell.execute_reply": "2022-02-08T03:23:33.836739Z"
    }
   },
   "outputs": [],
   "source": [
    "hg_gr = OnePiece.gene.map_to_column(coalesce.(hg, \"?\"), [\"symbol\", \"gene_group\"])"
   ]
  },
  {
   "cell_type": "markdown",
   "id": "067fadb9",
   "metadata": {},
   "source": [
    "## map_to_hgnc_gene"
   ]
  },
  {
   "cell_type": "code",
   "execution_count": null,
   "id": "0ac96217",
   "metadata": {
    "execution": {
     "iopub.execute_input": "2022-02-08T03:23:33.838991Z",
     "iopub.status.busy": "2022-02-08T03:23:33.838454Z",
     "iopub.status.idle": "2022-02-08T03:23:34.786984Z",
     "shell.execute_reply": "2022-02-08T03:23:34.786530Z"
    }
   },
   "outputs": [],
   "source": [
    "st_hg = OnePiece.gene.map_to_hgnc_gene()"
   ]
  },
  {
   "cell_type": "markdown",
   "id": "d8ed8dfc",
   "metadata": {},
   "source": [
    "## map_to_ensembl_gene"
   ]
  },
  {
   "cell_type": "code",
   "execution_count": null,
   "id": "b1068615",
   "metadata": {
    "execution": {
     "iopub.execute_input": "2022-02-08T03:23:34.789009Z",
     "iopub.status.busy": "2022-02-08T03:23:34.788328Z",
     "iopub.status.idle": "2022-02-08T03:23:42.164508Z",
     "shell.execute_reply": "2022-02-08T03:23:42.164046Z"
    }
   },
   "outputs": [],
   "source": [
    "st_en = OnePiece.gene.map_to_ensembl_gene()"
   ]
  },
  {
   "cell_type": "markdown",
   "id": "64ff451e",
   "metadata": {},
   "source": [
    "## map_with_mouse"
   ]
  },
  {
   "cell_type": "code",
   "execution_count": null,
   "id": "344da7eb",
   "metadata": {
    "execution": {
     "iopub.execute_input": "2022-02-08T03:23:42.166829Z",
     "iopub.status.busy": "2022-02-08T03:23:42.166142Z",
     "iopub.status.idle": "2022-02-08T03:23:52.298791Z",
     "shell.execute_reply": "2022-02-08T03:23:52.298241Z"
    }
   },
   "outputs": [],
   "source": [
    "OnePiece.gene.map_with_mouse()"
   ]
  },
  {
   "cell_type": "code",
   "execution_count": null,
   "id": "c3b98547",
   "metadata": {
    "execution": {
     "iopub.execute_input": "2022-02-08T03:23:52.300839Z",
     "iopub.status.busy": "2022-02-08T03:23:52.300158Z",
     "iopub.status.idle": "2022-02-08T03:24:01.289007Z",
     "shell.execute_reply": "2022-02-08T03:24:01.288444Z"
    }
   },
   "outputs": [],
   "source": [
    "OnePiece.gene.map_with_mouse(; ho = \"human_to_mouse\")"
   ]
  },
  {
   "cell_type": "markdown",
   "id": "cfb03409",
   "metadata": {},
   "source": [
    "## rename"
   ]
  },
  {
   "cell_type": "code",
   "execution_count": null,
   "id": "e2b70674",
   "metadata": {
    "execution": {
     "iopub.execute_input": "2022-02-08T03:24:01.291032Z",
     "iopub.status.busy": "2022-02-08T03:24:01.290440Z",
     "iopub.status.idle": "2022-02-08T03:24:01.353464Z",
     "shell.execute_reply": "2022-02-08T03:24:01.353083Z"
    }
   },
   "outputs": [],
   "source": [
    "hg_ = string.(hg[!, \"symbol\"])\n",
    "\n",
    ";"
   ]
  },
  {
   "cell_type": "code",
   "execution_count": null,
   "id": "0dcb6a68",
   "metadata": {
    "execution": {
     "iopub.execute_input": "2022-02-08T03:24:01.355466Z",
     "iopub.status.busy": "2022-02-08T03:24:01.354978Z",
     "iopub.status.idle": "2022-02-08T03:24:18.102992Z",
     "shell.execute_reply": "2022-02-08T03:24:18.102559Z"
    }
   },
   "outputs": [],
   "source": [
    "na_, ma_ = OnePiece.gene.rename(hg_)"
   ]
  },
  {
   "cell_type": "code",
   "execution_count": null,
   "id": "9b31bde2",
   "metadata": {
    "execution": {
     "iopub.execute_input": "2022-02-08T03:24:18.104951Z",
     "iopub.status.busy": "2022-02-08T03:24:18.104358Z",
     "iopub.status.idle": "2022-02-08T03:24:18.960857Z",
     "shell.execute_reply": "2022-02-08T03:24:18.960391Z"
    }
   },
   "outputs": [],
   "source": [
    "ge_ = unique(skipmissing(en[!, \"Gene name\"]))\n",
    "\n",
    "na_, ma_ = OnePiece.gene.rename(ge_; mo = false, en = false)"
   ]
  },
  {
   "cell_type": "code",
   "execution_count": null,
   "id": "5f36e738",
   "metadata": {
    "execution": {
     "iopub.execute_input": "2022-02-08T03:24:18.962833Z",
     "iopub.status.busy": "2022-02-08T03:24:18.962180Z",
     "iopub.status.idle": "2022-02-08T03:24:19.768857Z",
     "shell.execute_reply": "2022-02-08T03:24:19.768478Z"
    }
   },
   "outputs": [],
   "source": [
    "println(join(unique([hg_gr[na] for na in na_[ma_ .== 1]]), \"\\n\"))"
   ]
  },
  {
   "cell_type": "code",
   "execution_count": null,
   "id": "5f70be28",
   "metadata": {
    "execution": {
     "iopub.execute_input": "2022-02-08T03:24:19.770735Z",
     "iopub.status.busy": "2022-02-08T03:24:19.770233Z",
     "iopub.status.idle": "2022-02-08T03:24:20.700911Z",
     "shell.execute_reply": "2022-02-08T03:24:20.700442Z"
    }
   },
   "outputs": [],
   "source": [
    "en_ty = OnePiece.gene.map_to_column(en, [\"Gene name\", \"Gene type\"])\n",
    "\n",
    "println(join(unique([en_ty[na] for na in na_[ma_ .== 2]]), \"\\n\"))"
   ]
  }
 ],
 "metadata": {
  "@webio": {
   "lastCommId": null,
   "lastKernelId": null
  },
  "kernelspec": {
   "display_name": "Julia 1.7.1",
   "language": "julia",
   "name": "julia-1.7"
  },
  "language_info": {
   "file_extension": ".jl",
   "mimetype": "application/julia",
   "name": "julia",
   "version": "1.7.1"
  }
 },
 "nbformat": 4,
 "nbformat_minor": 5
}
