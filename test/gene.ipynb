{
 "cells": [
  {
   "cell_type": "code",
   "execution_count": null,
   "id": "baf12f00",
   "metadata": {
    "execution": {
     "iopub.execute_input": "2022-08-25T17:17:42.572000Z",
     "iopub.status.busy": "2022-08-25T17:17:42.073000Z",
     "iopub.status.idle": "2022-08-25T17:17:49.473000Z",
     "shell.execute_reply": "2022-08-25T17:17:49.431000Z"
    }
   },
   "outputs": [],
   "source": [
    "using OnePiece"
   ]
  },
  {
   "cell_type": "markdown",
   "id": "aef3bb6e",
   "metadata": {},
   "source": [
    "## map_from_mouse"
   ]
  },
  {
   "cell_type": "code",
   "execution_count": null,
   "id": "abadc491",
   "metadata": {
    "execution": {
     "iopub.execute_input": "2022-08-25T17:17:49.660000Z",
     "iopub.status.busy": "2022-08-25T17:17:49.475000Z",
     "iopub.status.idle": "2022-08-25T17:18:02.178000Z",
     "shell.execute_reply": "2022-08-25T17:18:02.178000Z"
    }
   },
   "outputs": [],
   "source": [
    "OnePiece.dict.print(OnePiece.gene.map_from_mouse(), n_pa = 3)"
   ]
  },
  {
   "cell_type": "markdown",
   "id": "e58c0d0b",
   "metadata": {},
   "source": [
    "## map_to_ensembl"
   ]
  },
  {
   "cell_type": "code",
   "execution_count": null,
   "id": "1819ebb5",
   "metadata": {
    "execution": {
     "iopub.execute_input": "2022-08-25T17:18:02.182000Z",
     "iopub.status.busy": "2022-08-25T17:18:02.182000Z",
     "iopub.status.idle": "2022-08-25T17:18:11.241000Z",
     "shell.execute_reply": "2022-08-25T17:18:11.241000Z"
    }
   },
   "outputs": [],
   "source": [
    "OnePiece.dict.print(OnePiece.gene.map_to_ensembl(), n_pa = 3)"
   ]
  },
  {
   "cell_type": "markdown",
   "id": "5aeb9979",
   "metadata": {},
   "source": [
    "## map_to_hgnc"
   ]
  },
  {
   "cell_type": "code",
   "execution_count": null,
   "id": "648177cb",
   "metadata": {
    "execution": {
     "iopub.execute_input": "2022-08-25T17:18:11.246000Z",
     "iopub.status.busy": "2022-08-25T17:18:11.246000Z",
     "iopub.status.idle": "2022-08-25T17:18:12.349000Z",
     "shell.execute_reply": "2022-08-25T17:18:12.349000Z"
    }
   },
   "outputs": [],
   "source": [
    "OnePiece.dict.print(OnePiece.gene.map_to_hgnc(), n_pa = 3)"
   ]
  },
  {
   "cell_type": "markdown",
   "id": "7d14bc76",
   "metadata": {},
   "source": [
    "## read_ensembl"
   ]
  },
  {
   "cell_type": "code",
   "execution_count": null,
   "id": "9dc290fb",
   "metadata": {
    "execution": {
     "iopub.execute_input": "2022-08-25T17:18:12.352000Z",
     "iopub.status.busy": "2022-08-25T17:18:12.352000Z",
     "iopub.status.idle": "2022-08-25T17:18:15.150000Z",
     "shell.execute_reply": "2022-08-25T17:18:15.150000Z"
    }
   },
   "outputs": [],
   "source": [
    "en = OnePiece.gene.read_ensembl()\n",
    "\n",
    "OnePiece.data_frame.print(en)"
   ]
  },
  {
   "cell_type": "markdown",
   "id": "7c0c1b64",
   "metadata": {},
   "source": [
    "## read_hgnc"
   ]
  },
  {
   "cell_type": "code",
   "execution_count": null,
   "id": "687a2613",
   "metadata": {
    "execution": {
     "iopub.execute_input": "2022-08-25T17:18:15.155000Z",
     "iopub.status.busy": "2022-08-25T17:18:15.155000Z",
     "iopub.status.idle": "2022-08-25T17:18:15.504000Z",
     "shell.execute_reply": "2022-08-25T17:18:15.504000Z"
    }
   },
   "outputs": [],
   "source": [
    "hg = OnePiece.gene.read_hgnc()\n",
    "\n",
    "OnePiece.data_frame.print(hg)"
   ]
  },
  {
   "cell_type": "markdown",
   "id": "d977a08d",
   "metadata": {},
   "source": [
    "## rename"
   ]
  },
  {
   "cell_type": "code",
   "execution_count": null,
   "id": "44d3683b",
   "metadata": {
    "execution": {
     "iopub.execute_input": "2022-08-25T17:18:15.507000Z",
     "iopub.status.busy": "2022-08-25T17:18:15.507000Z",
     "iopub.status.idle": "2022-08-25T17:18:17.457000Z",
     "shell.execute_reply": "2022-08-25T17:18:17.457000Z"
    }
   },
   "outputs": [],
   "source": [
    "na_, ma_ = OnePiece.gene.rename(unique(skipmissing(en[!, \"Gene name\"])), en = false, mo = false)"
   ]
  },
  {
   "cell_type": "code",
   "execution_count": null,
   "id": "1472bc79",
   "metadata": {
    "execution": {
     "iopub.execute_input": "2022-08-25T17:18:17.460000Z",
     "iopub.status.busy": "2022-08-25T17:18:17.460000Z",
     "iopub.status.idle": "2022-08-25T17:18:25.733000Z",
     "shell.execute_reply": "2022-08-25T17:18:25.733000Z"
    }
   },
   "outputs": [],
   "source": [
    "na_, ma_ = OnePiece.gene.rename(unique(skipmissing(hg[!, \"symbol\"])), hg = false, mo = false)"
   ]
  }
 ],
 "metadata": {
  "@webio": {
   "lastCommId": null,
   "lastKernelId": null
  },
  "kernelspec": {
   "display_name": "Julia 1.7.3",
   "language": "julia",
   "name": "julia-1.8"
  },
  "language_info": {
   "file_extension": ".jl",
   "mimetype": "application/julia",
   "name": "julia",
   "version": "1.8.0"
  }
 },
 "nbformat": 4,
 "nbformat_minor": 5
}
