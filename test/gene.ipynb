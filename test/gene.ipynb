{
 "cells": [
  {
   "cell_type": "code",
   "execution_count": null,
   "id": "017464da",
   "metadata": {
    "execution": {
     "iopub.execute_input": "2022-02-13T22:26:30.570241Z",
     "iopub.status.busy": "2022-02-13T22:26:30.210713Z",
     "iopub.status.idle": "2022-02-13T22:26:30.770990Z",
     "shell.execute_reply": "2022-02-13T22:26:30.770471Z"
    }
   },
   "outputs": [],
   "source": [
    "TE = joinpath(tempdir(), \"OnePiece.test\")\n",
    "\n",
    "if isdir(TE)\n",
    "\n",
    "    rm(TE, recursive = true)\n",
    "\n",
    "    println(\"Removed \", TE, \".\")\n",
    "\n",
    "end\n",
    "\n",
    "mkdir(TE)\n",
    "\n",
    "println(\"Made \", TE, \".\")"
   ]
  },
  {
   "cell_type": "code",
   "execution_count": null,
   "id": "34e4701e",
   "metadata": {
    "execution": {
     "iopub.execute_input": "2022-02-13T22:26:30.772828Z",
     "iopub.status.busy": "2022-02-13T22:26:30.772334Z",
     "iopub.status.idle": "2022-02-13T22:26:35.117551Z",
     "shell.execute_reply": "2022-02-13T22:26:35.117167Z"
    }
   },
   "outputs": [],
   "source": [
    "using OnePiece"
   ]
  },
  {
   "cell_type": "markdown",
   "id": "b92a3da9",
   "metadata": {},
   "source": [
    "---"
   ]
  },
  {
   "cell_type": "markdown",
   "id": "19d500c7",
   "metadata": {},
   "source": [
    "## read_hgnc"
   ]
  },
  {
   "cell_type": "code",
   "execution_count": null,
   "id": "31c67e64",
   "metadata": {
    "execution": {
     "iopub.execute_input": "2022-02-13T22:26:35.455005Z",
     "iopub.status.busy": "2022-02-13T22:26:35.119057Z",
     "iopub.status.idle": "2022-02-13T22:26:55.184134Z",
     "shell.execute_reply": "2022-02-13T22:26:55.183743Z"
    }
   },
   "outputs": [],
   "source": [
    "hg = OnePiece.gene.read_hgnc()\n",
    "\n",
    "size(hg)"
   ]
  },
  {
   "cell_type": "markdown",
   "id": "1e618da3",
   "metadata": {},
   "source": [
    "## read_ensembl"
   ]
  },
  {
   "cell_type": "code",
   "execution_count": null,
   "id": "cecc8625",
   "metadata": {
    "execution": {
     "iopub.execute_input": "2022-02-13T22:26:55.186645Z",
     "iopub.status.busy": "2022-02-13T22:26:55.185723Z",
     "iopub.status.idle": "2022-02-13T22:26:56.452008Z",
     "shell.execute_reply": "2022-02-13T22:26:56.451614Z"
    }
   },
   "outputs": [],
   "source": [
    "en = OnePiece.gene.read_ensembl()\n",
    "\n",
    "size(en)"
   ]
  },
  {
   "cell_type": "code",
   "execution_count": null,
   "id": "2704ed42",
   "metadata": {
    "execution": {
     "iopub.execute_input": "2022-02-13T22:26:56.454213Z",
     "iopub.status.busy": "2022-02-13T22:26:56.453713Z",
     "iopub.status.idle": "2022-02-13T22:26:57.060710Z",
     "shell.execute_reply": "2022-02-13T22:26:57.059792Z"
    }
   },
   "outputs": [],
   "source": [
    "en = OnePiece.gene.read_ensembl(; or = \"mouse\")\n",
    "\n",
    "size(en)"
   ]
  },
  {
   "cell_type": "markdown",
   "id": "067fadb9",
   "metadata": {},
   "source": [
    "## map_to_hgnc_gene"
   ]
  },
  {
   "cell_type": "code",
   "execution_count": null,
   "id": "0ac96217",
   "metadata": {
    "execution": {
     "iopub.execute_input": "2022-02-13T22:26:57.072501Z",
     "iopub.status.busy": "2022-02-13T22:26:57.071899Z",
     "iopub.status.idle": "2022-02-13T22:26:59.848273Z",
     "shell.execute_reply": "2022-02-13T22:26:59.847514Z"
    }
   },
   "outputs": [],
   "source": [
    "st_hg = OnePiece.gene.map_to_hgnc_gene()"
   ]
  },
  {
   "cell_type": "markdown",
   "id": "d8ed8dfc",
   "metadata": {},
   "source": [
    "## map_to_ensembl_gene"
   ]
  },
  {
   "cell_type": "code",
   "execution_count": null,
   "id": "b1068615",
   "metadata": {
    "execution": {
     "iopub.execute_input": "2022-02-13T22:26:59.851618Z",
     "iopub.status.busy": "2022-02-13T22:26:59.851117Z",
     "iopub.status.idle": "2022-02-13T22:27:08.354704Z",
     "shell.execute_reply": "2022-02-13T22:27:08.354323Z"
    }
   },
   "outputs": [],
   "source": [
    "st_en = OnePiece.gene.map_to_ensembl_gene()"
   ]
  },
  {
   "cell_type": "markdown",
   "id": "64ff451e",
   "metadata": {},
   "source": [
    "## map_with_mouse"
   ]
  },
  {
   "cell_type": "code",
   "execution_count": null,
   "id": "344da7eb",
   "metadata": {
    "execution": {
     "iopub.execute_input": "2022-02-13T22:27:08.356663Z",
     "iopub.status.busy": "2022-02-13T22:27:08.356085Z",
     "iopub.status.idle": "2022-02-13T22:27:20.585910Z",
     "shell.execute_reply": "2022-02-13T22:27:20.585490Z"
    }
   },
   "outputs": [],
   "source": [
    "OnePiece.gene.map_with_mouse()"
   ]
  },
  {
   "cell_type": "code",
   "execution_count": null,
   "id": "c3b98547",
   "metadata": {
    "execution": {
     "iopub.execute_input": "2022-02-13T22:27:20.587678Z",
     "iopub.status.busy": "2022-02-13T22:27:20.587157Z",
     "iopub.status.idle": "2022-02-13T22:27:31.292741Z",
     "shell.execute_reply": "2022-02-13T22:27:31.292356Z"
    }
   },
   "outputs": [],
   "source": [
    "OnePiece.gene.map_with_mouse(; ho = \"human_to_mouse\")"
   ]
  },
  {
   "cell_type": "markdown",
   "id": "cfb03409",
   "metadata": {},
   "source": [
    "## rename"
   ]
  },
  {
   "cell_type": "code",
   "execution_count": null,
   "id": "e2b70674",
   "metadata": {
    "execution": {
     "iopub.execute_input": "2022-02-13T22:27:31.295082Z",
     "iopub.status.busy": "2022-02-13T22:27:31.294203Z",
     "iopub.status.idle": "2022-02-13T22:27:31.346284Z",
     "shell.execute_reply": "2022-02-13T22:27:31.345478Z"
    }
   },
   "outputs": [],
   "source": [
    "hg_ = string.(hg[!, \"symbol\"])\n",
    "\n",
    ";"
   ]
  },
  {
   "cell_type": "code",
   "execution_count": null,
   "id": "0dcb6a68",
   "metadata": {
    "execution": {
     "iopub.execute_input": "2022-02-13T22:27:31.348335Z",
     "iopub.status.busy": "2022-02-13T22:27:31.347834Z",
     "iopub.status.idle": "2022-02-13T22:27:51.852966Z",
     "shell.execute_reply": "2022-02-13T22:27:51.852565Z"
    }
   },
   "outputs": [],
   "source": [
    "na_, ma_ = OnePiece.gene.rename(hg_)"
   ]
  },
  {
   "cell_type": "code",
   "execution_count": null,
   "id": "9b31bde2",
   "metadata": {
    "execution": {
     "iopub.execute_input": "2022-02-13T22:27:51.854835Z",
     "iopub.status.busy": "2022-02-13T22:27:51.854339Z",
     "iopub.status.idle": "2022-02-13T22:27:52.878708Z",
     "shell.execute_reply": "2022-02-13T22:27:52.878239Z"
    }
   },
   "outputs": [],
   "source": [
    "ge_ = unique(skipmissing(en[!, \"Gene name\"]))\n",
    "\n",
    "na_, ma_ = OnePiece.gene.rename(ge_; mo = false, en = false)"
   ]
  },
  {
   "cell_type": "code",
   "execution_count": null,
   "id": "bb77a60e",
   "metadata": {
    "execution": {
     "iopub.execute_input": "2022-02-13T22:27:52.880899Z",
     "iopub.status.busy": "2022-02-13T22:27:52.880191Z",
     "iopub.status.idle": "2022-02-13T22:27:54.209299Z",
     "shell.execute_reply": "2022-02-13T22:27:54.208852Z"
    }
   },
   "outputs": [],
   "source": [
    "hg_gr = OnePiece.extension.dataframe.map_to_column(coalesce.(hg, \"?\"), [\"symbol\", \"gene_group\"])"
   ]
  },
  {
   "cell_type": "code",
   "execution_count": null,
   "id": "5f36e738",
   "metadata": {
    "execution": {
     "iopub.execute_input": "2022-02-13T22:27:54.211167Z",
     "iopub.status.busy": "2022-02-13T22:27:54.210605Z",
     "iopub.status.idle": "2022-02-13T22:27:54.332161Z",
     "shell.execute_reply": "2022-02-13T22:27:54.331786Z"
    }
   },
   "outputs": [],
   "source": [
    "println(join(unique([hg_gr[na] for na in na_[ma_ .== 1]]), \"\\n\"))"
   ]
  },
  {
   "cell_type": "code",
   "execution_count": null,
   "id": "5f70be28",
   "metadata": {
    "execution": {
     "iopub.execute_input": "2022-02-13T22:27:54.334074Z",
     "iopub.status.busy": "2022-02-13T22:27:54.333580Z",
     "iopub.status.idle": "2022-02-13T22:27:54.975429Z",
     "shell.execute_reply": "2022-02-13T22:27:54.974978Z"
    }
   },
   "outputs": [],
   "source": [
    "en_ty = OnePiece.extension.dataframe.map_to_column(en, [\"Gene name\", \"Gene type\"])\n",
    "\n",
    "println(join(unique([en_ty[na] for na in na_[ma_ .== 2]]), \"\\n\"))"
   ]
  },
  {
   "cell_type": "markdown",
   "id": "3f396855",
   "metadata": {},
   "source": [
    "---"
   ]
  },
  {
   "cell_type": "code",
   "execution_count": null,
   "id": "b4af2023",
   "metadata": {
    "execution": {
     "iopub.execute_input": "2022-02-13T22:27:54.977408Z",
     "iopub.status.busy": "2022-02-13T22:27:54.976826Z",
     "iopub.status.idle": "2022-02-13T22:27:54.979374Z",
     "shell.execute_reply": "2022-02-13T22:27:54.978932Z"
    }
   },
   "outputs": [],
   "source": [
    "if isdir(TE)\n",
    "\n",
    "    rm(TE, recursive = true)\n",
    "\n",
    "    println(\"Removed \", TE, \".\")\n",
    "\n",
    "end"
   ]
  }
 ],
 "metadata": {
  "kernelspec": {
   "display_name": "Julia 1.7.2",
   "language": "julia",
   "name": "julia-1.7"
  },
  "language_info": {
   "file_extension": ".jl",
   "mimetype": "application/julia",
   "name": "julia",
   "version": "1.7.2"
  }
 },
 "nbformat": 4,
 "nbformat_minor": 5
}
