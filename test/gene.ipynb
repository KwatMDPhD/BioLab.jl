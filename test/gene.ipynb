{
 "cells": [
  {
   "cell_type": "code",
   "execution_count": null,
   "id": "017464da",
   "metadata": {
    "execution": {
     "iopub.execute_input": "2022-02-14T16:50:04.524646Z",
     "iopub.status.busy": "2022-02-14T16:50:04.135227Z",
     "iopub.status.idle": "2022-02-14T16:50:04.738825Z",
     "shell.execute_reply": "2022-02-14T16:50:04.738096Z"
    }
   },
   "outputs": [],
   "source": [
    "TE = joinpath(tempdir(), \"OnePiece.test\")\n",
    "\n",
    "if isdir(TE)\n",
    "\n",
    "    rm(TE, recursive = true)\n",
    "\n",
    "    println(\"Removed \", TE, \".\")\n",
    "\n",
    "end\n",
    "\n",
    "mkdir(TE)\n",
    "\n",
    "println(\"Made \", TE, \".\")"
   ]
  },
  {
   "cell_type": "code",
   "execution_count": null,
   "id": "34e4701e",
   "metadata": {
    "execution": {
     "iopub.execute_input": "2022-02-14T16:50:04.740716Z",
     "iopub.status.busy": "2022-02-14T16:50:04.740130Z",
     "iopub.status.idle": "2022-02-14T16:50:09.522814Z",
     "shell.execute_reply": "2022-02-14T16:50:09.522280Z"
    }
   },
   "outputs": [],
   "source": [
    "using OnePiece"
   ]
  },
  {
   "cell_type": "markdown",
   "id": "b92a3da9",
   "metadata": {},
   "source": [
    "---"
   ]
  },
  {
   "cell_type": "markdown",
   "id": "19d500c7",
   "metadata": {},
   "source": [
    "## read_hgnc"
   ]
  },
  {
   "cell_type": "code",
   "execution_count": null,
   "id": "31c67e64",
   "metadata": {
    "execution": {
     "iopub.execute_input": "2022-02-14T16:50:09.877720Z",
     "iopub.status.busy": "2022-02-14T16:50:09.524475Z",
     "iopub.status.idle": "2022-02-14T16:50:31.043201Z",
     "shell.execute_reply": "2022-02-14T16:50:31.042739Z"
    }
   },
   "outputs": [],
   "source": [
    "hg = OnePiece.gene.read_hgnc()\n",
    "\n",
    "size(hg)"
   ]
  },
  {
   "cell_type": "markdown",
   "id": "1e618da3",
   "metadata": {},
   "source": [
    "## read_ensembl"
   ]
  },
  {
   "cell_type": "code",
   "execution_count": null,
   "id": "cecc8625",
   "metadata": {
    "execution": {
     "iopub.execute_input": "2022-02-14T16:50:31.045182Z",
     "iopub.status.busy": "2022-02-14T16:50:31.044602Z",
     "iopub.status.idle": "2022-02-14T16:50:32.293569Z",
     "shell.execute_reply": "2022-02-14T16:50:32.293109Z"
    }
   },
   "outputs": [],
   "source": [
    "en = OnePiece.gene.read_ensembl()\n",
    "\n",
    "size(en)"
   ]
  },
  {
   "cell_type": "code",
   "execution_count": null,
   "id": "2704ed42",
   "metadata": {
    "execution": {
     "iopub.execute_input": "2022-02-14T16:50:32.295609Z",
     "iopub.status.busy": "2022-02-14T16:50:32.294958Z",
     "iopub.status.idle": "2022-02-14T16:50:33.039431Z",
     "shell.execute_reply": "2022-02-14T16:50:33.038797Z"
    }
   },
   "outputs": [],
   "source": [
    "en = OnePiece.gene.read_ensembl(; or = \"mouse\")\n",
    "\n",
    "size(en)"
   ]
  },
  {
   "cell_type": "markdown",
   "id": "067fadb9",
   "metadata": {},
   "source": [
    "## map_to_hgnc_gene"
   ]
  },
  {
   "cell_type": "code",
   "execution_count": null,
   "id": "0ac96217",
   "metadata": {
    "execution": {
     "iopub.execute_input": "2022-02-14T16:50:33.041431Z",
     "iopub.status.busy": "2022-02-14T16:50:33.040802Z",
     "iopub.status.idle": "2022-02-14T16:50:35.899858Z",
     "shell.execute_reply": "2022-02-14T16:50:35.899404Z"
    }
   },
   "outputs": [],
   "source": [
    "st_hg = OnePiece.gene.map_to_hgnc_gene()"
   ]
  },
  {
   "cell_type": "markdown",
   "id": "d8ed8dfc",
   "metadata": {},
   "source": [
    "## map_to_ensembl_gene"
   ]
  },
  {
   "cell_type": "code",
   "execution_count": null,
   "id": "b1068615",
   "metadata": {
    "execution": {
     "iopub.execute_input": "2022-02-14T16:50:35.901864Z",
     "iopub.status.busy": "2022-02-14T16:50:35.901290Z",
     "iopub.status.idle": "2022-02-14T16:50:44.603929Z",
     "shell.execute_reply": "2022-02-14T16:50:44.603356Z"
    }
   },
   "outputs": [],
   "source": [
    "st_en = OnePiece.gene.map_to_ensembl_gene()"
   ]
  },
  {
   "cell_type": "markdown",
   "id": "64ff451e",
   "metadata": {},
   "source": [
    "## map_with_mouse"
   ]
  },
  {
   "cell_type": "code",
   "execution_count": null,
   "id": "344da7eb",
   "metadata": {
    "execution": {
     "iopub.execute_input": "2022-02-14T16:50:44.606813Z",
     "iopub.status.busy": "2022-02-14T16:50:44.605892Z",
     "iopub.status.idle": "2022-02-14T16:50:56.959468Z",
     "shell.execute_reply": "2022-02-14T16:50:56.959014Z"
    }
   },
   "outputs": [],
   "source": [
    "OnePiece.gene.map_with_mouse()"
   ]
  },
  {
   "cell_type": "code",
   "execution_count": null,
   "id": "c3b98547",
   "metadata": {
    "execution": {
     "iopub.execute_input": "2022-02-14T16:50:56.961543Z",
     "iopub.status.busy": "2022-02-14T16:50:56.960873Z",
     "iopub.status.idle": "2022-02-14T16:51:08.390680Z",
     "shell.execute_reply": "2022-02-14T16:51:08.389975Z"
    }
   },
   "outputs": [],
   "source": [
    "OnePiece.gene.map_with_mouse(; ho = \"human_to_mouse\")"
   ]
  },
  {
   "cell_type": "markdown",
   "id": "cfb03409",
   "metadata": {},
   "source": [
    "## rename"
   ]
  },
  {
   "cell_type": "code",
   "execution_count": null,
   "id": "e2b70674",
   "metadata": {
    "execution": {
     "iopub.execute_input": "2022-02-14T16:51:08.392935Z",
     "iopub.status.busy": "2022-02-14T16:51:08.392333Z",
     "iopub.status.idle": "2022-02-14T16:51:08.466811Z",
     "shell.execute_reply": "2022-02-14T16:51:08.466188Z"
    }
   },
   "outputs": [],
   "source": [
    "hg_ = string.(hg[!, \"symbol\"])\n",
    "\n",
    ";"
   ]
  },
  {
   "cell_type": "code",
   "execution_count": null,
   "id": "0dcb6a68",
   "metadata": {
    "execution": {
     "iopub.execute_input": "2022-02-14T16:51:08.469747Z",
     "iopub.status.busy": "2022-02-14T16:51:08.468858Z",
     "iopub.status.idle": "2022-02-14T16:51:29.779901Z",
     "shell.execute_reply": "2022-02-14T16:51:29.779430Z"
    }
   },
   "outputs": [],
   "source": [
    "na_, ma_ = OnePiece.gene.rename(hg_)"
   ]
  },
  {
   "cell_type": "code",
   "execution_count": null,
   "id": "9b31bde2",
   "metadata": {
    "execution": {
     "iopub.execute_input": "2022-02-14T16:51:29.781823Z",
     "iopub.status.busy": "2022-02-14T16:51:29.781240Z",
     "iopub.status.idle": "2022-02-14T16:51:30.615156Z",
     "shell.execute_reply": "2022-02-14T16:51:30.614692Z"
    }
   },
   "outputs": [],
   "source": [
    "ge_ = unique(skipmissing(en[!, \"Gene name\"]))\n",
    "\n",
    "na_, ma_ = OnePiece.gene.rename(ge_; mo = false, en = false)"
   ]
  },
  {
   "cell_type": "code",
   "execution_count": null,
   "id": "bb77a60e",
   "metadata": {
    "execution": {
     "iopub.execute_input": "2022-02-14T16:51:30.617094Z",
     "iopub.status.busy": "2022-02-14T16:51:30.616498Z",
     "iopub.status.idle": "2022-02-14T16:51:32.140437Z",
     "shell.execute_reply": "2022-02-14T16:51:32.139936Z"
    }
   },
   "outputs": [],
   "source": [
    "hg_gr = OnePiece.extension.dataframe.map_to_column(coalesce.(hg, \"?\"), [\"symbol\", \"gene_group\"])"
   ]
  },
  {
   "cell_type": "code",
   "execution_count": null,
   "id": "5f36e738",
   "metadata": {
    "execution": {
     "iopub.execute_input": "2022-02-14T16:51:32.142322Z",
     "iopub.status.busy": "2022-02-14T16:51:32.141687Z",
     "iopub.status.idle": "2022-02-14T16:51:32.268552Z",
     "shell.execute_reply": "2022-02-14T16:51:32.268092Z"
    }
   },
   "outputs": [],
   "source": [
    "println(join(unique([hg_gr[na] for na in na_[ma_ .== 1]]), \"\\n\"))"
   ]
  },
  {
   "cell_type": "code",
   "execution_count": null,
   "id": "5f70be28",
   "metadata": {
    "execution": {
     "iopub.execute_input": "2022-02-14T16:51:32.270470Z",
     "iopub.status.busy": "2022-02-14T16:51:32.269889Z",
     "iopub.status.idle": "2022-02-14T16:51:32.796531Z",
     "shell.execute_reply": "2022-02-14T16:51:32.796104Z"
    }
   },
   "outputs": [],
   "source": [
    "en_ty = OnePiece.extension.dataframe.map_to_column(en, [\"Gene name\", \"Gene type\"])\n",
    "\n",
    "println(join(unique([en_ty[na] for na in na_[ma_ .== 2]]), \"\\n\"))"
   ]
  },
  {
   "cell_type": "markdown",
   "id": "3f396855",
   "metadata": {},
   "source": [
    "---"
   ]
  },
  {
   "cell_type": "code",
   "execution_count": null,
   "id": "b4af2023",
   "metadata": {
    "execution": {
     "iopub.execute_input": "2022-02-14T16:51:32.798502Z",
     "iopub.status.busy": "2022-02-14T16:51:32.797909Z",
     "iopub.status.idle": "2022-02-14T16:51:32.800454Z",
     "shell.execute_reply": "2022-02-14T16:51:32.800002Z"
    }
   },
   "outputs": [],
   "source": [
    "if isdir(TE)\n",
    "\n",
    "    rm(TE, recursive = true)\n",
    "\n",
    "    println(\"Removed \", TE, \".\")\n",
    "\n",
    "end"
   ]
  }
 ],
 "metadata": {
  "kernelspec": {
   "display_name": "Julia 1.7.2",
   "language": "julia",
   "name": "julia-1.7"
  },
  "language_info": {
   "file_extension": ".jl",
   "mimetype": "application/julia",
   "name": "julia",
   "version": "1.7.2"
  }
 },
 "nbformat": 4,
 "nbformat_minor": 5
}
