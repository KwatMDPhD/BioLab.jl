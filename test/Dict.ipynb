{
 "cells": [
  {
   "outputs": [],
   "cell_type": "code",
   "source": [
    "using OrderedCollections\n",
    "\n",
    "include(\"_.jl\")"
   ],
   "id": "baf12f00",
   "metadata": {},
   "execution_count": null
  },
  {
   "cell_type": "markdown",
   "source": [
    "## print"
   ],
   "id": "75520b44-22d2-4ba8-8a8e-e375ac8221de",
   "metadata": {}
  },
  {
   "outputs": [],
   "cell_type": "code",
   "source": [
    "for ty in (Dict, OrderedDict)\n",
    "\n",
    "    BioLab.String.print_header()\n",
    "\n",
    "    BioLab.Dict.print(ty())\n",
    "\n",
    "end"
   ],
   "id": "e67d7e5a-93d8-42cf-a3fe-6dcf5444f0f4",
   "metadata": {},
   "execution_count": null
  },
  {
   "outputs": [],
   "cell_type": "code",
   "source": [
    "ke_va = Dict(1 => \"a\", 2 => \"a\", 3 => \"b\", '4' => nothing, \"5\" => nothing, 6 => NaN)\n",
    "\n",
    "BioLab.Dict.print(ke_va)\n",
    "\n",
    "for n in 1:6\n",
    "\n",
    "    BioLab.String.print_header(n)\n",
    "\n",
    "    BioLab.Dict.print(ke_va; n)\n",
    "\n",
    "end"
   ],
   "id": "2dfa9d49-0a36-4645-8a68-a130d9447b86",
   "metadata": {},
   "execution_count": null
  },
  {
   "outputs": [],
   "cell_type": "code",
   "source": [
    "for ke_va in (Dict('a' => 1), Dict('a' => 1, \"a\" => 2), Dict('a' => 1, \"a\" => 2, 3 => 2))\n",
    "\n",
    "    BioLab.String.print_header(ke_va)\n",
    "\n",
    "    BioLab.Dict.print(ke_va)\n",
    "\n",
    "    @code_warntype BioLab.Dict.print(ke_va)\n",
    "\n",
    "end"
   ],
   "id": "b3786e31-d8b7-490a-8fcc-f7bae48c5eee",
   "metadata": {},
   "execution_count": null
  },
  {
   "cell_type": "markdown",
   "source": [
    "## symbolize"
   ],
   "id": "0723746b-d65a-4075-806d-3f5b3cbbafd8",
   "metadata": {}
  },
  {
   "outputs": [],
   "cell_type": "code",
   "source": [
    "ke_va = Dict(\"k1\" => \"v1\", \"k2\" => \"v2\", 3 => 4)\n",
    "\n",
    "@test BioLab.Dict.symbolize(ke_va) == Dict(:k1 => \"v1\", :k2 => \"v2\", Symbol(3) => 4)"
   ],
   "id": "9e76031e-0428-4a08-9820-de6bf42d6e07",
   "metadata": {},
   "execution_count": null
  },
  {
   "outputs": [],
   "cell_type": "code",
   "source": [
    "@code_warntype BioLab.Dict.symbolize(ke_va)\n",
    "\n",
    "# 1.188 μs (9 allocations: 696 bytes) \n",
    "@btime BioLab.Dict.symbolize($ke_va)"
   ],
   "id": "6335a963-bc31-44a1-a90c-4e0f48a6e5c4",
   "metadata": {},
   "execution_count": null
  },
  {
   "cell_type": "markdown",
   "source": [
    "## set_with_first!\n",
    "## set_with_last!\n",
    "## set_with_suffix!"
   ],
   "id": "f8882e83-64fb-44a4-ad39-628b3f0ca466",
   "metadata": {}
  },
  {
   "outputs": [],
   "cell_type": "code",
   "source": [
    "for (ke, va) in ((\"Existing\", 2), (\"New\", 3))\n",
    "\n",
    "    for fu in\n",
    "        (BioLab.Dict.set_with_first!, BioLab.Dict.set_with_last!, BioLab.Dict.set_with_suffix!)\n",
    "\n",
    "        BioLab.String.print_header(\"$fu $ke ➡️ $va\")\n",
    "\n",
    "        ke_va = Dict(\"Existing\" => 1)\n",
    "\n",
    "        fu(ke_va, ke, va)\n",
    "\n",
    "        display(ke_va)\n",
    "\n",
    "        @code_warntype fu(ke_va, ke, va)\n",
    "\n",
    "    end\n",
    "\n",
    "end"
   ],
   "id": "5d0cad15-9e0c-42a6-820d-1b8290e802e0",
   "metadata": {},
   "execution_count": null
  },
  {
   "cell_type": "markdown",
   "source": [
    "## merge"
   ],
   "id": "663a7e42-f84a-48e5-9222-c6dedfcc59c0",
   "metadata": {}
  },
  {
   "outputs": [],
   "cell_type": "code",
   "source": [
    "ke1_va1 = Dict(\"1A\" => 1, \"B\" => Dict(\"C\" => 1, \"1D\" => 1))\n",
    "\n",
    "ke2_va2 = Dict(\"2A\" => 2, \"B\" => Dict(\"C\" => 2, \"2D\" => 2))\n",
    "\n",
    "@test BioLab.Dict.merge(ke1_va1, ke2_va2, BioLab.Dict.set_with_last!) ==\n",
    "      Dict(\"1A\" => 1, \"2A\" => 2, \"B\" => Dict(\"C\" => 2, \"1D\" => 1, \"2D\" => 2))\n",
    "\n",
    "@test BioLab.Dict.merge(ke2_va2, ke1_va1, BioLab.Dict.set_with_last!) ==\n",
    "      Dict(\"1A\" => 1, \"2A\" => 2, \"B\" => Dict(\"C\" => 1, \"1D\" => 1, \"2D\" => 2))\n",
    "\n",
    "@test BioLab.Dict.merge(ke1_va1, ke2_va2, BioLab.Dict.set_with_last!) ==\n",
    "      BioLab.Dict.merge(ke2_va2, ke1_va1, BioLab.Dict.set_with_first!)"
   ],
   "id": "1db4b9a1-b270-4ac9-bf6d-2b97c45e3bc9",
   "metadata": {},
   "execution_count": null
  },
  {
   "outputs": [],
   "cell_type": "code",
   "source": [
    "ke1_va1 = Dict(\"1A\" => 1, \"B\" => Dict(\"C\" => 1, \"1D\" => 1))\n",
    "\n",
    "ke2_va2 = Dict(\"2A\" => 2, \"B\" => Dict(\"C\" => 2, \"2D\" => 2))\n",
    "\n",
    "@code_warntype BioLab.Dict.merge(ke1_va1, ke2_va2, BioLab.Dict.set_with_last!)"
   ],
   "id": "1ae71c82-3d6c-450b-b888-86e9fe5575ff",
   "metadata": {},
   "execution_count": null
  },
  {
   "cell_type": "markdown",
   "source": [
    "## read"
   ],
   "id": "035dc040-52fb-443d-a73e-72ffc8e132b5",
   "metadata": {}
  },
  {
   "outputs": [],
   "cell_type": "code",
   "source": [
    "da = joinpath(@__DIR__, \"dict.data\")\n",
    "\n",
    "js1 = joinpath(da, \"example_1.json\")\n",
    "\n",
    "js2 = joinpath(da, \"example_2.json\")\n",
    "\n",
    "to = joinpath(da, \"example.toml\")\n",
    "\n",
    "display(BioLab.Dict.read(js1))\n",
    "\n",
    "display(BioLab.Dict.read(js2))\n",
    "\n",
    "BioLab.Dict.read(to)"
   ],
   "id": "255a9a9f-082a-4139-a4dd-d3907aca1d53",
   "metadata": {},
   "execution_count": null
  },
  {
   "outputs": [],
   "cell_type": "code",
   "source": [
    "pa_ = (js1, js2, to)\n",
    "\n",
    "BioLab.Dict.read(pa_)\n",
    "\n",
    "@code_warntype BioLab.Dict.read(pa_)"
   ],
   "id": "14c6f1df-f7b4-44c6-b6cb-1533155d1450",
   "metadata": {},
   "execution_count": null
  },
  {
   "cell_type": "markdown",
   "source": [
    "## write"
   ],
   "id": "db43b4a9",
   "metadata": {}
  },
  {
   "outputs": [],
   "cell_type": "code",
   "source": [
    "ke_va = Dict(\n",
    "    \"Luffy\" => \"Pirate King\",\n",
    "    \"Crews\" => [\n",
    "        \"Luffy\",\n",
    "        \"Zoro\",\n",
    "        \"Nami\",\n",
    "        \"Usopp\",\n",
    "        \"Sanji\",\n",
    "        \"Chopper\",\n",
    "        \"Robin\",\n",
    "        \"Franky\",\n",
    "        \"Brook\",\n",
    "        \"Jinbe\",\n",
    "    ],\n",
    "    \"episode\" => 1030,\n",
    ")\n",
    "\n",
    "js = joinpath(BioLab.Path.make_temporary(\"BioLab.test.Dict\"), \"write.json\")\n",
    "\n",
    "BioLab.Dict.write(js, ke_va)\n",
    "\n",
    "@test ke_va == BioLab.Dict.read(js)"
   ],
   "id": "d9c4461c-492d-4b94-bd2f-71199e373f47",
   "metadata": {},
   "execution_count": null
  },
  {
   "outputs": [],
   "cell_type": "code",
   "source": [
    "ke_va[\"Black Beard\"] = (\"Yami Yami\", \"Gura Gura\")\n",
    "\n",
    "display(ke_va)\n",
    "\n",
    "BioLab.Dict.write(js, ke_va)\n",
    "\n",
    "ke2_va2 = BioLab.Dict.read(js)\n",
    "\n",
    "@test ke_va != ke2_va2\n",
    "\n",
    "ke2_va2"
   ],
   "id": "1918b198-8551-407e-a564-c915fdf1c179",
   "metadata": {},
   "execution_count": null
  },
  {
   "outputs": [],
   "cell_type": "code",
   "source": [
    "@code_warntype BioLab.Dict.write(js, ke_va)"
   ],
   "id": "0ae71176-64db-431d-a5dd-1cb809ae93a7",
   "metadata": {},
   "execution_count": null
  }
 ],
 "nbformat_minor": 5,
 "metadata": {
  "language_info": {
   "file_extension": ".jl",
   "mimetype": "application/julia",
   "name": "julia",
   "version": "1.8.5"
  },
  "@webio": {
   "lastKernelId": null,
   "lastCommId": null
  },
  "kernelspec": {
   "name": "julia-1.8",
   "display_name": "Julia 1.8.5",
   "language": "julia"
  }
 },
 "nbformat": 4
}
