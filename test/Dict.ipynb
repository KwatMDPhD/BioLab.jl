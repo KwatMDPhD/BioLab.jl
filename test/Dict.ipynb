{
 "cells": [
  {
   "outputs": [],
   "cell_type": "code",
   "source": [
    "using BioLab"
   ],
   "id": "baf12f00",
   "metadata": {},
   "execution_count": null
  },
  {
   "cell_type": "markdown",
   "source": [
    "## print"
   ],
   "id": "75520b44-22d2-4ba8-8a8e-e375ac8221de",
   "metadata": {}
  },
  {
   "outputs": [],
   "cell_type": "code",
   "source": [
    "ke_va = Dict(1 => \"a\", 2 => \"a\", 3 => \"b\", 4 => nothing, 5 => nothing, 6 => NaN)\n",
    "\n",
    "BioLab.Dict.print(ke_va)"
   ],
   "id": "449a4bf4-baa9-46a3-8bd8-f8ab56eb801e",
   "metadata": {},
   "execution_count": null
  },
  {
   "outputs": [],
   "cell_type": "code",
   "source": [
    "BioLab.Dict.print(ke_va, 2)"
   ],
   "id": "f1b751b7",
   "metadata": {},
   "execution_count": null
  },
  {
   "outputs": [],
   "cell_type": "code",
   "source": [
    "for ke_va in (Dict(), Dict(\"a\" => 1), Dict(\"a\" => 1, \"b\" => 1), Dict(\"a\" => 1, \"b\" => 2))\n",
    "\n",
    "    println(\"=\"^99)\n",
    "\n",
    "    for n in (0, 2, -1)\n",
    "\n",
    "        BioLab.Dict.print(ke_va, n)\n",
    "\n",
    "    end\n",
    "\n",
    "end"
   ],
   "id": "6b68440b-f89f-4141-ab74-9cc0ecdd6f70",
   "metadata": {},
   "execution_count": null
  },
  {
   "cell_type": "markdown",
   "source": [
    "## symbolize"
   ],
   "id": "0723746b-d65a-4075-806d-3f5b3cbbafd8",
   "metadata": {}
  },
  {
   "outputs": [],
   "cell_type": "code",
   "source": [
    "BioLab.Dict.symbolize(Dict(\"k1\" => \"v1\", \"k2\" => \"v2\"))"
   ],
   "id": "795da86d",
   "metadata": {},
   "execution_count": null
  },
  {
   "cell_type": "markdown",
   "source": [
    "## set!"
   ],
   "id": "050053c5-71f1-4df4-8cf0-54775826709e",
   "metadata": {}
  },
  {
   "outputs": [],
   "cell_type": "code",
   "source": [
    "for (ke, va) in ((\"a\", 2), (\"b\", 1))\n",
    "\n",
    "    for ho in (\"first\", \"last\", \"suffix\")\n",
    "\n",
    "        println(\"=\"^99)\n",
    "\n",
    "        println(\"$ke => $va, $ho\")\n",
    "\n",
    "        ke_va = Dict(\"a\" => 1)\n",
    "\n",
    "        BioLab.Dict.set!(ke_va, ke, va, ho)\n",
    "\n",
    "        println(ke_va)\n",
    "\n",
    "    end\n",
    "\n",
    "end"
   ],
   "id": "d2f7dee2-a3d4-4268-a65d-07ead1d04461",
   "metadata": {},
   "execution_count": null
  },
  {
   "cell_type": "markdown",
   "source": [
    "## sort_recursively"
   ],
   "id": "0ee83d77",
   "metadata": {}
  },
  {
   "outputs": [],
   "cell_type": "code",
   "source": [
    "BioLab.Dict.sort_recursively(\n",
    "    Dict(\n",
    "        \"e\" => [Dict(\"e2\" => 4, \"e1\" => 3), Dict(\"e2\" => 3, \"e1\" => 4)],\n",
    "        \"d2\" => (2, 3, 1, Dict(\"d22\" => 2, \"d21\" => 1)),\n",
    "        \"d1\" => [1, 3, 2, Dict(\"d12\" => 2, \"d11\" => 1)],\n",
    "        \"c\" => Dict(\"c\" => 1, \"b\" => 2, \"a\" => 3),\n",
    "        \"b\" => Dict(),\n",
    "        \"a3\" => (2, 3, 1),\n",
    "        \"a2\" => [2, 3, 1],\n",
    "        \"a1\" => [1, 3, 2],\n",
    "    ),\n",
    ")"
   ],
   "id": "265df1af",
   "metadata": {},
   "execution_count": null
  },
  {
   "cell_type": "markdown",
   "source": [
    "## merge"
   ],
   "id": "663a7e42-f84a-48e5-9222-c6dedfcc59c0",
   "metadata": {}
  },
  {
   "outputs": [],
   "cell_type": "code",
   "source": [
    "ke1_va1 = Dict(\"1A\" => 1, \"B\" => Dict(\"C\" => 1, \"1D\" => 1))\n",
    "\n",
    "ke2_va2 = Dict(\"2A\" => 2, \"B\" => Dict(\"C\" => 2, \"2D\" => 2))\n",
    "\n",
    ";"
   ],
   "id": "b5c86d72-7c02-4dc6-9d43-bfe22df256cd",
   "metadata": {},
   "execution_count": null
  },
  {
   "outputs": [],
   "cell_type": "code",
   "source": [
    "BioLab.Dict.print(BioLab.Dict.merge(ke1_va1, ke2_va2))"
   ],
   "id": "bb40b05a-6da3-49e6-b8ef-3e0b353e3d5f",
   "metadata": {},
   "execution_count": null
  },
  {
   "outputs": [],
   "cell_type": "code",
   "source": [
    "BioLab.Dict.print(BioLab.Dict.merge(ke2_va2, ke1_va1))"
   ],
   "id": "f3a9c72e",
   "metadata": {},
   "execution_count": null
  },
  {
   "cell_type": "markdown",
   "source": [
    "## read"
   ],
   "id": "035dc040-52fb-443d-a73e-72ffc8e132b5",
   "metadata": {}
  },
  {
   "outputs": [],
   "cell_type": "code",
   "source": [
    "da = joinpath(@__DIR__, \"dict.data\")\n",
    "\n",
    "js1 = joinpath(da, \"example_1.json\")\n",
    "\n",
    "js2 = joinpath(da, \"example_2.json\")\n",
    "\n",
    "to = joinpath(da, \"example.toml\")\n",
    "\n",
    ";"
   ],
   "id": "d05fbdbf",
   "metadata": {},
   "execution_count": null
  },
  {
   "outputs": [],
   "cell_type": "code",
   "source": [
    "BioLab.Dict.print(BioLab.Dict.read(js1))"
   ],
   "id": "cedaae14",
   "metadata": {},
   "execution_count": null
  },
  {
   "outputs": [],
   "cell_type": "code",
   "source": [
    "BioLab.Dict.print(BioLab.Dict.read(js2))"
   ],
   "id": "eec77164",
   "metadata": {},
   "execution_count": null
  },
  {
   "outputs": [],
   "cell_type": "code",
   "source": [
    "BioLab.Dict.print(BioLab.Dict.read(to))"
   ],
   "id": "b628d2f3",
   "metadata": {},
   "execution_count": null
  },
  {
   "outputs": [],
   "cell_type": "code",
   "source": [
    "BioLab.Dict.print(BioLab.Dict.read((js1, js2, to)))"
   ],
   "id": "30220ddb",
   "metadata": {},
   "execution_count": null
  },
  {
   "cell_type": "markdown",
   "source": [
    "## write"
   ],
   "id": "db43b4a9",
   "metadata": {}
  },
  {
   "outputs": [],
   "cell_type": "code",
   "source": [
    "ke_va = Dict(\n",
    "    \"Luffy\" => \"Pirate King\",\n",
    "    \"Crews\" => [\n",
    "        \"Luffy\",\n",
    "        \"Zoro\",\n",
    "        \"Nami\",\n",
    "        \"Usopp\",\n",
    "        \"Sanji\",\n",
    "        \"Chopper\",\n",
    "        \"Robin\",\n",
    "        \"Franky\",\n",
    "        \"Brook\",\n",
    "        \"Jinbe\",\n",
    "    ],\n",
    "    \"episode\" => 1030,\n",
    ")\n",
    "\n",
    "js = joinpath(BioLab.Path.make_temporary(\"BioLab.test.Dict\"), \"write.json\")"
   ],
   "id": "e14cdc65-2163-471b-89cf-2cadd4e100ac",
   "metadata": {},
   "execution_count": null
  },
  {
   "outputs": [],
   "cell_type": "code",
   "source": [
    "BioLab.Dict.write(js, ke_va)\n",
    "\n",
    "ke_va == BioLab.Dict.read(js)"
   ],
   "id": "56d9d40e-9466-4f09-8e74-4a99d0a42c35",
   "metadata": {},
   "execution_count": null
  },
  {
   "outputs": [],
   "cell_type": "code",
   "source": [
    "ke_va[\"Black Beard\"] = (\"Yami Yami\", \"Gura Gura\")\n",
    "\n",
    "BioLab.Dict.write(js, ke_va)\n",
    "\n",
    "ke2_va2 = BioLab.Dict.read(js)\n",
    "\n",
    "ke_va == ke2_va2\n",
    "\n",
    "ke2_va2"
   ],
   "id": "987347c1-5fc1-4c7e-9a96-935d1b98d0a5",
   "metadata": {},
   "execution_count": null
  }
 ],
 "nbformat_minor": 5,
 "metadata": {
  "language_info": {
   "file_extension": ".jl",
   "mimetype": "application/julia",
   "name": "julia",
   "version": "1.8.5"
  },
  "@webio": {
   "lastKernelId": null,
   "lastCommId": null
  },
  "kernelspec": {
   "name": "julia-1.8",
   "display_name": "Julia 1.8.5",
   "language": "julia"
  }
 },
 "nbformat": 4
}
