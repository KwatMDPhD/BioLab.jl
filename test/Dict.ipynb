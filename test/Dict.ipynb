{
 "cells": [
  {
   "cell_type": "code",
   "execution_count": null,
   "id": "baf12f00",
   "metadata": {},
   "outputs": [],
   "source": [
    "using OnePiece"
   ]
  },
  {
   "cell_type": "markdown",
   "id": "75520b44-22d2-4ba8-8a8e-e375ac8221de",
   "metadata": {},
   "source": [
    "## print"
   ]
  },
  {
   "cell_type": "code",
   "execution_count": null,
   "id": "6b68440b-f89f-4141-ab74-9cc0ecdd6f70",
   "metadata": {},
   "outputs": [],
   "source": [
    "for di in [Dict(), Dict(\"a\" => 1), Dict(\"a\" => 1, \"b\" => 1), Dict(\"a\" => 1, \"b\" => 2)]\n",
    "\n",
    "    OnePiece.Dict.print(di)\n",
    "\n",
    "end"
   ]
  },
  {
   "cell_type": "code",
   "execution_count": null,
   "id": "449a4bf4-baa9-46a3-8bd8-f8ab56eb801e",
   "metadata": {},
   "outputs": [],
   "source": [
    "di = Dict(1 => \"a\", 2 => \"a\", 3 => \"b\", 4 => nothing, 5 => nothing, 6 => NaN)\n",
    "\n",
    "OnePiece.Dict.print(di)"
   ]
  },
  {
   "cell_type": "code",
   "execution_count": null,
   "id": "f1b751b7",
   "metadata": {},
   "outputs": [],
   "source": [
    "OnePiece.Dict.print(di, 2)"
   ]
  },
  {
   "cell_type": "markdown",
   "id": "f490ea3e",
   "metadata": {},
   "source": [
    "## make"
   ]
  },
  {
   "cell_type": "code",
   "execution_count": null,
   "id": "aef53cc5",
   "metadata": {},
   "outputs": [],
   "source": [
    "OnePiece.Dict.make(c = Dict(\"d\" => 3), b = [2], a = 1)"
   ]
  },
  {
   "cell_type": "markdown",
   "id": "0723746b-d65a-4075-806d-3f5b3cbbafd8",
   "metadata": {},
   "source": [
    "## symbolize"
   ]
  },
  {
   "cell_type": "code",
   "execution_count": null,
   "id": "795da86d",
   "metadata": {},
   "outputs": [],
   "source": [
    "OnePiece.Dict.symbolize(Dict(\"k1\" => \"v1\", \"k2\" => \"v2\"))"
   ]
  },
  {
   "cell_type": "markdown",
   "id": "050053c5-71f1-4df4-8cf0-54775826709e",
   "metadata": {},
   "source": [
    "## set!"
   ]
  },
  {
   "cell_type": "code",
   "execution_count": null,
   "id": "d2f7dee2-a3d4-4268-a65d-07ead1d04461",
   "metadata": {},
   "outputs": [],
   "source": [
    "for pa in [\"a\" => 1, \"a\" => 2, \"b\" => 1]\n",
    "\n",
    "    for ho in [\"first\", \"last\", \"suffix\"]\n",
    "\n",
    "        println(\"=\"^99)\n",
    "\n",
    "        println(\"$pa & $ho\")\n",
    "\n",
    "        OnePiece.Dict.set!(Dict(\"a\" => 1), pa, ho)\n",
    "\n",
    "    end\n",
    "\n",
    "end"
   ]
  },
  {
   "cell_type": "markdown",
   "id": "0ee83d77",
   "metadata": {},
   "source": [
    "## sort_recursively"
   ]
  },
  {
   "cell_type": "code",
   "execution_count": null,
   "id": "265df1af",
   "metadata": {},
   "outputs": [],
   "source": [
    "OnePiece.Dict.print(\n",
    "    OnePiece.Dict.sort_recursively(\n",
    "        Dict(\n",
    "            \"z\" => Dict(\"c\" => 1, \"b\" => 2, \"a\" => 3),\n",
    "            \"y\" => Dict(),\n",
    "            \"x\" => [3, 2, 1, Dict(\"zo\" => 2, \"lu\" => 1)],\n",
    "            \"w\" => [Dict(\"k\" => 8, \"j\" => 24), Dict(\"lo\" => 1, \"la\" => 3)],\n",
    "        ),\n",
    "    ),\n",
    ")"
   ]
  },
  {
   "cell_type": "markdown",
   "id": "663a7e42-f84a-48e5-9222-c6dedfcc59c0",
   "metadata": {},
   "source": [
    "## merge"
   ]
  },
  {
   "cell_type": "code",
   "execution_count": null,
   "id": "b5c86d72-7c02-4dc6-9d43-bfe22df256cd",
   "metadata": {},
   "outputs": [],
   "source": [
    "di1 = Dict(\"1A\" => 1, \"B\" => Dict(\"C\" => 1, \"1D\" => 1))\n",
    "\n",
    "di2 = Dict(\"2A\" => 2, \"B\" => Dict(\"C\" => 2, \"2D\" => 2))\n",
    "\n",
    ";"
   ]
  },
  {
   "cell_type": "code",
   "execution_count": null,
   "id": "bb40b05a-6da3-49e6-b8ef-3e0b353e3d5f",
   "metadata": {},
   "outputs": [],
   "source": [
    "OnePiece.Dict.print(OnePiece.Dict.merge(di1, di2))"
   ]
  },
  {
   "cell_type": "code",
   "execution_count": null,
   "id": "f3a9c72e",
   "metadata": {},
   "outputs": [],
   "source": [
    "OnePiece.Dict.print(OnePiece.Dict.merge(di2, di1))"
   ]
  },
  {
   "cell_type": "markdown",
   "id": "035dc040-52fb-443d-a73e-72ffc8e132b5",
   "metadata": {},
   "source": [
    "## read"
   ]
  },
  {
   "cell_type": "code",
   "execution_count": null,
   "id": "d05fbdbf",
   "metadata": {},
   "outputs": [],
   "source": [
    "da = joinpath(@__DIR__, \"dict.data\")\n",
    "\n",
    "js1 = joinpath(da, \"example_1.json\")\n",
    "\n",
    "js2 = joinpath(da, \"example_2.json\")\n",
    "\n",
    "to = joinpath(da, \"example.toml\")\n",
    "\n",
    ";"
   ]
  },
  {
   "cell_type": "code",
   "execution_count": null,
   "id": "cedaae14",
   "metadata": {},
   "outputs": [],
   "source": [
    "OnePiece.Dict.print(OnePiece.Dict.read(js1))"
   ]
  },
  {
   "cell_type": "code",
   "execution_count": null,
   "id": "eec77164",
   "metadata": {},
   "outputs": [],
   "source": [
    "OnePiece.Dict.print(OnePiece.Dict.read(js2))"
   ]
  },
  {
   "cell_type": "code",
   "execution_count": null,
   "id": "b628d2f3",
   "metadata": {},
   "outputs": [],
   "source": [
    "OnePiece.Dict.print(OnePiece.Dict.read(to))"
   ]
  },
  {
   "cell_type": "code",
   "execution_count": null,
   "id": "30220ddb",
   "metadata": {},
   "outputs": [],
   "source": [
    "OnePiece.Dict.print(OnePiece.Dict.read([js1, js2, to]))"
   ]
  },
  {
   "cell_type": "markdown",
   "id": "db43b4a9",
   "metadata": {},
   "source": [
    "## write"
   ]
  },
  {
   "cell_type": "code",
   "execution_count": null,
   "id": "e14cdc65-2163-471b-89cf-2cadd4e100ac",
   "metadata": {},
   "outputs": [],
   "source": [
    "di = Dict(\n",
    "    \"Luffy\" => \"Pirate King\",\n",
    "    \"Crews\" => [\n",
    "        \"Luffy\",\n",
    "        \"Zoro\",\n",
    "        \"Nami\",\n",
    "        \"Usopp\",\n",
    "        \"Sanji\",\n",
    "        \"Chopper\",\n",
    "        \"Robin\",\n",
    "        \"Franky\",\n",
    "        \"Brook\",\n",
    "        \"Jinbe\",\n",
    "    ],\n",
    "    \"episode\" => 1030,\n",
    ")\n",
    "\n",
    "js = joinpath(OnePiece.Path.make_temporary(\"OnePiece.test.dict\"), \"write.json\")"
   ]
  },
  {
   "cell_type": "code",
   "execution_count": null,
   "id": "b935cf28-b190-4cde-bac2-de9dc24954b3",
   "metadata": {},
   "outputs": [],
   "source": [
    "OnePiece.Dict.write(js, di)"
   ]
  },
  {
   "cell_type": "code",
   "execution_count": null,
   "id": "4f8acb08",
   "metadata": {},
   "outputs": [],
   "source": [
    "di == OnePiece.Dict.read(js)"
   ]
  }
 ],
 "metadata": {
  "@webio": {
   "lastCommId": null,
   "lastKernelId": null
  },
  "kernelspec": {
   "display_name": "Julia 1.8.2",
   "language": "julia",
   "name": "julia-1.8"
  },
  "language_info": {
   "file_extension": ".jl",
   "mimetype": "application/julia",
   "name": "julia",
   "version": "1.8.2"
  }
 },
 "nbformat": 4,
 "nbformat_minor": 5
}
