{
 "cells": [
  {
   "outputs": [],
   "cell_type": "code",
   "source": [
    "using OrderedCollections\n",
    "\n",
    "include(\"_.jl\")"
   ],
   "id": "baf12f00",
   "metadata": {},
   "execution_count": null
  },
  {
   "cell_type": "markdown",
   "source": [
    "## print"
   ],
   "id": "75520b44-22d2-4ba8-8a8e-e375ac8221de",
   "metadata": {}
  },
  {
   "outputs": [],
   "cell_type": "code",
   "source": [
    "for ty in (Dict, OrderedDict)\n",
    "\n",
    "    BioLab.print_header(ty)\n",
    "\n",
    "    BioLab.Dict.print(ty())\n",
    "\n",
    "end\n",
    "\n",
    "ke_va = Dict(1 => \"a\", 2 => \"a\", 3 => \"b\", '4' => nothing, \"5\" => nothing, 6 => NaN)\n",
    "\n",
    "BioLab.Dict.print(ke_va)\n",
    "\n",
    "for n in 1:6\n",
    "\n",
    "    BioLab.print_header(n)\n",
    "\n",
    "    BioLab.Dict.print(ke_va; n)\n",
    "\n",
    "end\n",
    "\n",
    "for ke_va in (Dict('a' => 1), Dict('a' => 1, \"a\" => 2), Dict('a' => 1, \"a\" => 2, 3 => 2))\n",
    "\n",
    "    BioLab.print_header(ke_va)\n",
    "\n",
    "    BioLab.Dict.print(ke_va)\n",
    "\n",
    "    @code_warntype BioLab.Dict.print(ke_va)\n",
    "\n",
    "end"
   ],
   "id": "97641183-c6d4-4d4b-8225-8b5c99d5c187",
   "metadata": {},
   "execution_count": null
  },
  {
   "cell_type": "markdown",
   "source": [
    "## symbolize"
   ],
   "id": "0723746b-d65a-4075-806d-3f5b3cbbafd8",
   "metadata": {}
  },
  {
   "outputs": [],
   "cell_type": "code",
   "source": [
    "ke_va = Dict(\"k1\" => \"v1\", \"k2\" => \"v2\", 3 => 4)\n",
    "\n",
    "@test BioLab.Dict.symbolize(ke_va) == Dict(:k1 => \"v1\", :k2 => \"v2\", Symbol(3) => 4)\n",
    "\n",
    "@code_warntype BioLab.Dict.symbolize(ke_va)\n",
    "\n",
    "# 1.188 μs (9 allocations: 696 bytes) \n",
    "@btime BioLab.Dict.symbolize($ke_va)"
   ],
   "id": "9ebb61ba-619d-4ccd-8988-489e6325b9a5",
   "metadata": {},
   "execution_count": null
  },
  {
   "cell_type": "markdown",
   "source": [
    "## set_with_*!"
   ],
   "id": "535a856e-a5e5-4727-b584-736039a943b9",
   "metadata": {}
  },
  {
   "outputs": [],
   "cell_type": "code",
   "source": [
    "ke_va = Dict(\"Existing\" => 1)"
   ],
   "id": "3cc823ad-89fe-4caf-a4cb-442bc58230aa",
   "metadata": {},
   "execution_count": null
  },
  {
   "cell_type": "markdown",
   "source": [
    "## set_with_first!"
   ],
   "id": "df8eb66b-55dc-48a8-a5fb-d981aed6eb62",
   "metadata": {}
  },
  {
   "outputs": [],
   "cell_type": "code",
   "source": [
    "for (ke, va) in ((\"Existing\", 1), (\"Existing\", 2), (\"New\", 3))\n",
    "\n",
    "    BioLab.print_header(\"$ke ➡️ $va\")\n",
    "\n",
    "    co = copy(ke_va)\n",
    "\n",
    "    BioLab.Dict.set_with_first!(co, ke, va)\n",
    "\n",
    "    # TODO: `@test`.\n",
    "    BioLab.Dict.print(co)\n",
    "\n",
    "    @code_warntype BioLab.Dict.set_with_first!(co, ke, va)\n",
    "\n",
    "    # 44.063 ns (0 allocations: 0 bytes)\n",
    "    # 43.979 ns (0 allocations: 0 bytes)\n",
    "    # 29.983 ns (0 allocations: 0 bytes)\n",
    "    @btime BioLab.Dict.set_with_first!($co, $ke, $va; pr = $false) setup = (co = copy($ke_va))\n",
    "\n",
    "end"
   ],
   "id": "03a5f148-7da9-4fc0-acaf-53cd6d064454",
   "metadata": {},
   "execution_count": null
  },
  {
   "cell_type": "markdown",
   "source": [
    "## set_with_last!"
   ],
   "id": "ad6c4c98-2e2c-45dc-96da-60d21f1ed0ae",
   "metadata": {}
  },
  {
   "outputs": [],
   "cell_type": "code",
   "source": [
    "for (ke, va) in ((\"Existing\", 1), (\"Existing\", 2), (\"New\", 3))\n",
    "\n",
    "    BioLab.print_header(\"$ke ➡️ $va\")\n",
    "\n",
    "    co = copy(ke_va)\n",
    "\n",
    "    BioLab.Dict.set_with_last!(co, ke, va)\n",
    "\n",
    "    # TODO: `@test`.\n",
    "    BioLab.Dict.print(co)\n",
    "\n",
    "    @code_warntype BioLab.Dict.set_with_last!(co, ke, va)\n",
    "\n",
    "    # 48.660 ns (0 allocations: 0 bytes)\n",
    "    # 48.710 ns (0 allocations: 0 bytes)\n",
    "    # 47.817 ns (0 allocations: 0 bytes)\n",
    "    @btime BioLab.Dict.set_with_last!($co, $ke, $va; pr = $false) setup = (co = copy($ke_va))\n",
    "\n",
    "end"
   ],
   "id": "0e2372ea-7f1e-4010-9125-f68a298ed3b7",
   "metadata": {},
   "execution_count": null
  },
  {
   "cell_type": "markdown",
   "source": [
    "## set_with_suffix!"
   ],
   "id": "f6fe4fc5-9443-4217-b142-59baca76fa98",
   "metadata": {}
  },
  {
   "outputs": [],
   "cell_type": "code",
   "source": [
    "for (ke, va) in ((\"Existing\", 1), (\"Existing\", 2), (\"New\", 3))\n",
    "\n",
    "    BioLab.print_header(\"$ke ➡️ $va\")\n",
    "\n",
    "    co = copy(ke_va)\n",
    "\n",
    "    BioLab.Dict.set_with_suffix!(co, ke, va)\n",
    "\n",
    "    # TODO: `@test`.\n",
    "    BioLab.Dict.print(co)\n",
    "\n",
    "    @code_warntype BioLab.Dict.set_with_suffix!(co, ke, va)\n",
    "\n",
    "    # 48.660 ns (0 allocations: 0 bytes)\n",
    "    # 48.710 ns (0 allocations: 0 bytes)\n",
    "    # 47.817 ns (0 allocations: 0 bytes)\n",
    "    @btime BioLab.Dict.set_with_suffix!($co, $ke, $va; pr = $false) setup = (co = copy($ke_va))\n",
    "\n",
    "end"
   ],
   "id": "5d0cad15-9e0c-42a6-820d-1b8290e802e0",
   "metadata": {},
   "execution_count": null
  },
  {
   "cell_type": "markdown",
   "source": [
    "## merge"
   ],
   "id": "663a7e42-f84a-48e5-9222-c6dedfcc59c0",
   "metadata": {}
  },
  {
   "outputs": [],
   "cell_type": "code",
   "source": [
    "ke1_va1 = Dict(\"1A\" => 1, \"B\" => Dict(\"C\" => 1, \"1D\" => 1))\n",
    "\n",
    "ke2_va2 = Dict(\"2A\" => 2, \"B\" => Dict(\"C\" => 2, \"2D\" => 2))\n",
    "\n",
    "@test BioLab.Dict.merge(ke1_va1, ke2_va2, BioLab.Dict.set_with_last!) ==\n",
    "      Dict(\"1A\" => 1, \"2A\" => 2, \"B\" => Dict(\"C\" => 2, \"1D\" => 1, \"2D\" => 2))\n",
    "\n",
    "@test BioLab.Dict.merge(ke2_va2, ke1_va1, BioLab.Dict.set_with_last!) ==\n",
    "      Dict(\"1A\" => 1, \"2A\" => 2, \"B\" => Dict(\"C\" => 1, \"1D\" => 1, \"2D\" => 2))\n",
    "\n",
    "@test BioLab.Dict.merge(ke1_va1, ke2_va2, BioLab.Dict.set_with_last!) ==\n",
    "      BioLab.Dict.merge(ke2_va2, ke1_va1, BioLab.Dict.set_with_first!)\n",
    "\n",
    "@code_warntype BioLab.Dict.merge(ke1_va1, ke2_va2, BioLab.Dict.set_with_last!)\n",
    "\n",
    "# 1.658 μs (22 allocations: 2.03 KiB)\n",
    "@btime BioLab.Dict.merge($ke1_va1, $ke2_va2, $BioLab.Dict.set_with_last!; pr = $false)"
   ],
   "id": "cd333d98-c94c-4d61-8ed0-ca9d0e3e2b21",
   "metadata": {},
   "execution_count": null
  },
  {
   "outputs": [],
   "cell_type": "code",
   "source": [
    "ke1_va1 = Dict(\"Aa\" => 1, 'b' => 2)\n",
    "\n",
    "ke2_va2 = Dict(\"Aa\" => 3, 'b' => 2, 4 => 5)\n",
    "\n",
    "BioLab.Dict.merge(ke1_va1, ke2_va2)\n",
    "\n",
    "@code_warntype BioLab.Dict.merge(ke1_va1, ke2_va2)"
   ],
   "id": "ec17130c-fcc1-40b8-892d-0dbf94bd0868",
   "metadata": {},
   "execution_count": null
  },
  {
   "cell_type": "markdown",
   "source": [
    "## read"
   ],
   "id": "035dc040-52fb-443d-a73e-72ffc8e132b5",
   "metadata": {}
  },
  {
   "outputs": [],
   "cell_type": "code",
   "source": [
    "da = joinpath(@__DIR__, \"dict.data\")\n",
    "\n",
    "js1 = joinpath(da, \"example_1.json\")\n",
    "\n",
    "js2 = joinpath(da, \"example_2.json\")\n",
    "\n",
    "to = joinpath(da, \"example.toml\")\n",
    "\n",
    "# TODO: `@test`.\n",
    "BioLab.Dict.print(BioLab.Dict.read(js1))\n",
    "\n",
    "# TODO: `@test`.\n",
    "BioLab.Dict.print(BioLab.Dict.read(js2))\n",
    "\n",
    "# TODO: `@test`.\n",
    "BioLab.Dict.print(BioLab.Dict.read(to))\n",
    "\n",
    "pa_ = (js1, js2, to)\n",
    "\n",
    "# TODO: `@test`.\n",
    "BioLab.Dict.print(BioLab.Dict.read(pa_))\n",
    "\n",
    "@code_warntype BioLab.Dict.read(pa_)"
   ],
   "id": "81d3e88d-78ae-41b8-a276-a4609e888bd1",
   "metadata": {},
   "execution_count": null
  },
  {
   "cell_type": "markdown",
   "source": [
    "## write"
   ],
   "id": "db43b4a9",
   "metadata": {}
  },
  {
   "outputs": [],
   "cell_type": "code",
   "source": [
    "ke_va = Dict(\n",
    "    \"Luffy\" => \"Pirate King\",\n",
    "    \"Crews\" => [\n",
    "        \"Luffy\",\n",
    "        \"Zoro\",\n",
    "        \"Nami\",\n",
    "        \"Usopp\",\n",
    "        \"Sanji\",\n",
    "        \"Chopper\",\n",
    "        \"Robin\",\n",
    "        \"Franky\",\n",
    "        \"Brook\",\n",
    "        \"Jinbe\",\n",
    "    ],\n",
    "    \"episode\" => 1030,\n",
    ")\n",
    "\n",
    "js = joinpath(BioLab.Path.make_temporary(\"BioLab.test.Dict\"), \"write.json\")\n",
    "\n",
    "BioLab.Dict.write(js, ke_va)\n",
    "\n",
    "@test ke_va == BioLab.Dict.read(js)\n",
    "\n",
    "ke_va[\"Black Beard\"] = (\"Yami Yami\", \"Gura Gura\")\n",
    "\n",
    "BioLab.Dict.print(ke_va)\n",
    "\n",
    "BioLab.Dict.write(js, ke_va)\n",
    "\n",
    "ke2_va2 = BioLab.Dict.read(js)\n",
    "\n",
    "BioLab.Dict.print(ke2_va2)\n",
    "\n",
    "@test ke_va != ke2_va2\n",
    "\n",
    "@code_warntype BioLab.Dict.write(js, ke_va)"
   ],
   "id": "d678f048-c19d-462e-92be-8640dec859e7",
   "metadata": {},
   "execution_count": null
  }
 ],
 "nbformat_minor": 5,
 "metadata": {
  "language_info": {
   "file_extension": ".jl",
   "mimetype": "application/julia",
   "name": "julia",
   "version": "1.8.5"
  },
  "@webio": {
   "lastKernelId": null,
   "lastCommId": null
  },
  "kernelspec": {
   "name": "julia-1.8",
   "display_name": "Julia 1.8.5",
   "language": "julia"
  }
 },
 "nbformat": 4
}
