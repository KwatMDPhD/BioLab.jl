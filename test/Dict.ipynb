{
 "cells": [
  {
   "outputs": [],
   "cell_type": "code",
   "source": [
    "include(\"_.jl\")"
   ],
   "id": "baf12f00",
   "metadata": {},
   "execution_count": null
  },
  {
   "cell_type": "markdown",
   "source": [
    "## print"
   ],
   "id": "75520b44-22d2-4ba8-8a8e-e375ac8221de",
   "metadata": {}
  },
  {
   "outputs": [],
   "cell_type": "code",
   "source": [
    "BioLab.Dict.print(Dict())"
   ],
   "id": "e67d7e5a-93d8-42cf-a3fe-6dcf5444f0f4",
   "metadata": {},
   "execution_count": null
  },
  {
   "outputs": [],
   "cell_type": "code",
   "source": [
    "ke_va = Dict(1 => \"a\", 2 => \"a\", 3 => \"b\", 4 => nothing, 5 => nothing, 6 => NaN)"
   ],
   "id": "b1ecad40-fc8e-4520-9f63-485e5ae4ef59",
   "metadata": {},
   "execution_count": null
  },
  {
   "outputs": [],
   "cell_type": "code",
   "source": [
    "BioLab.Dict.print(ke_va)"
   ],
   "id": "29af48fb-0d49-48cf-ab3b-660c9afd2ca9",
   "metadata": {},
   "execution_count": null
  },
  {
   "outputs": [],
   "cell_type": "code",
   "source": [
    "for n in 1:6\n",
    "\n",
    "    BioLab.Dict.print(ke_va; n = n)\n",
    "\n",
    "end"
   ],
   "id": "d8469682-3e27-4fee-ad8c-b5f5a2872401",
   "metadata": {},
   "execution_count": null
  },
  {
   "outputs": [],
   "cell_type": "code",
   "source": [
    "@test @check_error BioLab.Dict.print(ke_va; n = 7)"
   ],
   "id": "8e325d2a-23e3-4808-9f84-af0343ff6cbf",
   "metadata": {},
   "execution_count": null
  },
  {
   "cell_type": "markdown",
   "source": [
    "## symbolize"
   ],
   "id": "0723746b-d65a-4075-806d-3f5b3cbbafd8",
   "metadata": {}
  },
  {
   "outputs": [],
   "cell_type": "code",
   "source": [
    "@test BioLab.Dict.symbolize(Dict(\"k1\" => \"v1\", \"k2\" => \"v2\")) == Dict(:k1 => \"v1\", :k2 => \"v2\")"
   ],
   "id": "795da86d",
   "metadata": {},
   "execution_count": null
  },
  {
   "cell_type": "markdown",
   "source": [
    "## set!"
   ],
   "id": "050053c5-71f1-4df4-8cf0-54775826709e",
   "metadata": {}
  },
  {
   "outputs": [],
   "cell_type": "code",
   "source": [
    "# TODO: @test.\n",
    "\n",
    "for (ke, va) in ((\"a\", 2), (\"b\", 1))\n",
    "\n",
    "    for ho in (\"first\", \"last\", \"suffix\")\n",
    "\n",
    "        println(\"=\"^99)\n",
    "\n",
    "        println(\"$ke ➡ $va, $ho\")\n",
    "\n",
    "        ke_va = Dict(\"a\" => 1)\n",
    "\n",
    "        BioLab.Dict.set!(ke_va, ke, va, ho)\n",
    "\n",
    "        println(ke_va)\n",
    "\n",
    "    end\n",
    "\n",
    "end"
   ],
   "id": "d2f7dee2-a3d4-4268-a65d-07ead1d04461",
   "metadata": {},
   "execution_count": null
  },
  {
   "cell_type": "markdown",
   "source": [
    "## sort_recursively"
   ],
   "id": "0ee83d77",
   "metadata": {}
  },
  {
   "outputs": [],
   "cell_type": "code",
   "source": [
    "BioLab.Dict.sort_recursively(\n",
    "    Dict(\n",
    "        \"e\" => [Dict(\"e2\" => 4, \"e1\" => 3), Dict(\"e2\" => 3, \"e1\" => 4)],\n",
    "        \"d2\" => (2, 3, 1, Dict(\"d22\" => 2, \"d21\" => 1)),\n",
    "        \"d1\" => [1, 3, 2, Dict(\"d12\" => 2, \"d11\" => 1)],\n",
    "        \"c\" => Dict(\"c\" => 1, \"b\" => 2, \"a\" => 3),\n",
    "        \"b\" => Dict(),\n",
    "        \"a3\" => (2, 3, 1),\n",
    "        \"a2\" => [2, 3, 1],\n",
    "        \"a1\" => [1, 3, 2],\n",
    "        \"break1\" => [1, \"a\"],\n",
    "    ),\n",
    ")"
   ],
   "id": "265df1af",
   "metadata": {},
   "execution_count": null
  },
  {
   "cell_type": "markdown",
   "source": [
    "## merge"
   ],
   "id": "663a7e42-f84a-48e5-9222-c6dedfcc59c0",
   "metadata": {}
  },
  {
   "outputs": [],
   "cell_type": "code",
   "source": [
    "ke1_va1 = Dict(\"1A\" => 1, \"B\" => Dict(\"C\" => 1, \"1D\" => 1))\n",
    "\n",
    "ke2_va2 = Dict(\"2A\" => 2, \"B\" => Dict(\"C\" => 2, \"2D\" => 2))\n",
    "\n",
    "@test BioLab.Dict.merge(ke1_va1, ke2_va2, \"last\") ==\n",
    "      Dict(\"1A\" => 1, \"2A\" => 2, \"B\" => Dict(\"C\" => 2, \"1D\" => 1, \"2D\" => 2))\n",
    "\n",
    "@test BioLab.Dict.merge(ke2_va2, ke1_va1, \"last\") ==\n",
    "      Dict(\"1A\" => 1, \"2A\" => 2, \"B\" => Dict(\"C\" => 1, \"1D\" => 1, \"2D\" => 2))"
   ],
   "id": "1db4b9a1-b270-4ac9-bf6d-2b97c45e3bc9",
   "metadata": {},
   "execution_count": null
  },
  {
   "cell_type": "markdown",
   "source": [
    "## read"
   ],
   "id": "035dc040-52fb-443d-a73e-72ffc8e132b5",
   "metadata": {}
  },
  {
   "outputs": [],
   "cell_type": "code",
   "source": [
    "da = joinpath(@__DIR__, \"dict.data\")\n",
    "\n",
    "js1 = joinpath(da, \"example_1.json\")\n",
    "\n",
    "js2 = joinpath(da, \"example_2.json\")\n",
    "\n",
    "to = joinpath(da, \"example.toml\")\n",
    "\n",
    ";"
   ],
   "id": "d05fbdbf",
   "metadata": {},
   "execution_count": null
  },
  {
   "outputs": [],
   "cell_type": "code",
   "source": [
    "BioLab.Dict.print(BioLab.Dict.read(js1))"
   ],
   "id": "cedaae14",
   "metadata": {},
   "execution_count": null
  },
  {
   "outputs": [],
   "cell_type": "code",
   "source": [
    "BioLab.Dict.print(BioLab.Dict.read(js2))"
   ],
   "id": "eec77164",
   "metadata": {},
   "execution_count": null
  },
  {
   "outputs": [],
   "cell_type": "code",
   "source": [
    "BioLab.Dict.print(BioLab.Dict.read(to))"
   ],
   "id": "b628d2f3",
   "metadata": {},
   "execution_count": null
  },
  {
   "outputs": [],
   "cell_type": "code",
   "source": [
    "BioLab.Dict.print(BioLab.Dict.read((js1, js2, to)))"
   ],
   "id": "30220ddb",
   "metadata": {},
   "execution_count": null
  },
  {
   "cell_type": "markdown",
   "source": [
    "## write"
   ],
   "id": "db43b4a9",
   "metadata": {}
  },
  {
   "outputs": [],
   "cell_type": "code",
   "source": [
    "ke_va = Dict(\n",
    "    \"Luffy\" => \"Pirate King\",\n",
    "    \"Crews\" => [\n",
    "        \"Luffy\",\n",
    "        \"Zoro\",\n",
    "        \"Nami\",\n",
    "        \"Usopp\",\n",
    "        \"Sanji\",\n",
    "        \"Chopper\",\n",
    "        \"Robin\",\n",
    "        \"Franky\",\n",
    "        \"Brook\",\n",
    "        \"Jinbe\",\n",
    "    ],\n",
    "    \"episode\" => 1030,\n",
    ")\n",
    "\n",
    "js = joinpath(BioLab.Path.make_temporary(\"BioLab.test.Dict\"), \"write.json\")"
   ],
   "id": "e14cdc65-2163-471b-89cf-2cadd4e100ac",
   "metadata": {},
   "execution_count": null
  },
  {
   "outputs": [],
   "cell_type": "code",
   "source": [
    "BioLab.Dict.write(js, ke_va)\n",
    "\n",
    "@test ke_va == BioLab.Dict.read(js)"
   ],
   "id": "56d9d40e-9466-4f09-8e74-4a99d0a42c35",
   "metadata": {},
   "execution_count": null
  },
  {
   "outputs": [],
   "cell_type": "code",
   "source": [
    "ke_va[\"Black Beard\"] = (\"Yami Yami\", \"Gura Gura\")\n",
    "\n",
    "ke_va"
   ],
   "id": "80730ec2-c46a-4994-9a57-4c6dcbf4d4a8",
   "metadata": {},
   "execution_count": null
  },
  {
   "outputs": [],
   "cell_type": "code",
   "source": [
    "BioLab.Dict.write(js, ke_va)\n",
    "\n",
    "ke2_va2 = BioLab.Dict.read(js)\n",
    "\n",
    "@test ke_va != ke2_va2\n",
    "\n",
    "ke2_va2"
   ],
   "id": "d5aee450-db47-4618-b273-8497f7d514c8",
   "metadata": {},
   "execution_count": null
  }
 ],
 "nbformat_minor": 5,
 "metadata": {
  "language_info": {
   "file_extension": ".jl",
   "mimetype": "application/julia",
   "name": "julia",
   "version": "1.8.5"
  },
  "@webio": {
   "lastKernelId": null,
   "lastCommId": null
  },
  "kernelspec": {
   "name": "julia-1.8",
   "display_name": "Julia 1.8.5",
   "language": "julia"
  }
 },
 "nbformat": 4
}
