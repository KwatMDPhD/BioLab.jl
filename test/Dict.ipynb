{
 "cells": [
  {
   "cell_type": "code",
   "execution_count": null,
   "id": "baf12f00",
   "metadata": {},
   "outputs": [],
   "source": [
    "using OnePiece"
   ]
  },
  {
   "cell_type": "markdown",
   "id": "75520b44-22d2-4ba8-8a8e-e375ac8221de",
   "metadata": {},
   "source": [
    "## print"
   ]
  },
  {
   "cell_type": "code",
   "execution_count": null,
   "id": "449a4bf4-baa9-46a3-8bd8-f8ab56eb801e",
   "metadata": {},
   "outputs": [],
   "source": [
    "ke_va = Dict(1 => \"a\", 2 => \"a\", 3 => \"b\", 4 => nothing, 5 => nothing, 6 => NaN)\n",
    "\n",
    "OnePiece.Dict.print(ke_va)"
   ]
  },
  {
   "cell_type": "code",
   "execution_count": null,
   "id": "f1b751b7",
   "metadata": {},
   "outputs": [],
   "source": [
    "OnePiece.Dict.print(ke_va, 2)"
   ]
  },
  {
   "cell_type": "code",
   "execution_count": null,
   "id": "6b68440b-f89f-4141-ab74-9cc0ecdd6f70",
   "metadata": {},
   "outputs": [],
   "source": [
    "for ke_va in (Dict(), Dict(\"a\" => 1), Dict(\"a\" => 1, \"b\" => 1), Dict(\"a\" => 1, \"b\" => 2))\n",
    "\n",
    "    println(\"=\"^99)\n",
    "\n",
    "    for n in (0, 2, -1)\n",
    "\n",
    "        OnePiece.Dict.print(ke_va, n)\n",
    "\n",
    "    end\n",
    "\n",
    "end"
   ]
  },
  {
   "cell_type": "markdown",
   "id": "0723746b-d65a-4075-806d-3f5b3cbbafd8",
   "metadata": {},
   "source": [
    "## symbolize"
   ]
  },
  {
   "cell_type": "code",
   "execution_count": null,
   "id": "795da86d",
   "metadata": {},
   "outputs": [],
   "source": [
    "OnePiece.Dict.symbolize(Dict(\"k1\" => \"v1\", \"k2\" => \"v2\"))"
   ]
  },
  {
   "cell_type": "markdown",
   "id": "050053c5-71f1-4df4-8cf0-54775826709e",
   "metadata": {},
   "source": [
    "## set!"
   ]
  },
  {
   "cell_type": "code",
   "execution_count": null,
   "id": "d2f7dee2-a3d4-4268-a65d-07ead1d04461",
   "metadata": {},
   "outputs": [],
   "source": [
    "for (ke, va) in ((\"a\", 2), (\"b\", 1))\n",
    "\n",
    "    for ho in (\"first\", \"last\", \"suffix\")\n",
    "\n",
    "        println(\"=\"^99)\n",
    "\n",
    "        println(\"$ke => $va, $ho\")\n",
    "\n",
    "        ke_va = Dict(\"a\" => 1)\n",
    "\n",
    "        OnePiece.Dict.set!(ke_va, ke, va, ho)\n",
    "\n",
    "        println(ke_va)\n",
    "\n",
    "    end\n",
    "\n",
    "end"
   ]
  },
  {
   "cell_type": "markdown",
   "id": "0ee83d77",
   "metadata": {},
   "source": [
    "## sort_recursively"
   ]
  },
  {
   "cell_type": "code",
   "execution_count": null,
   "id": "265df1af",
   "metadata": {},
   "outputs": [],
   "source": [
    "OnePiece.Dict.sort_recursively(\n",
    "    Dict(\n",
    "        \"e\" => [Dict(\"e2\" => 4, \"e1\" => 3), Dict(\"e2\" => 3, \"e1\" => 4)],\n",
    "        \"d2\" => (2, 3, 1, Dict(\"d22\" => 2, \"d21\" => 1)),\n",
    "        \"d1\" => [1, 3, 2, Dict(\"d12\" => 2, \"d11\" => 1)],\n",
    "        \"c\" => Dict(\"c\" => 1, \"b\" => 2, \"a\" => 3),\n",
    "        \"b\" => Dict(),\n",
    "        \"a3\" => (2, 3, 1),\n",
    "        \"a2\" => [2, 3, 1],\n",
    "        \"a1\" => [1, 3, 2],\n",
    "    ),\n",
    ")"
   ]
  },
  {
   "cell_type": "markdown",
   "id": "663a7e42-f84a-48e5-9222-c6dedfcc59c0",
   "metadata": {},
   "source": [
    "## merge"
   ]
  },
  {
   "cell_type": "code",
   "execution_count": null,
   "id": "b5c86d72-7c02-4dc6-9d43-bfe22df256cd",
   "metadata": {},
   "outputs": [],
   "source": [
    "ke1_va1 = Dict(\"1A\" => 1, \"B\" => Dict(\"C\" => 1, \"1D\" => 1))\n",
    "\n",
    "ke2_va2 = Dict(\"2A\" => 2, \"B\" => Dict(\"C\" => 2, \"2D\" => 2))\n",
    "\n",
    ";"
   ]
  },
  {
   "cell_type": "code",
   "execution_count": null,
   "id": "bb40b05a-6da3-49e6-b8ef-3e0b353e3d5f",
   "metadata": {},
   "outputs": [],
   "source": [
    "OnePiece.Dict.print(OnePiece.Dict.merge(ke1_va1, ke2_va2))"
   ]
  },
  {
   "cell_type": "code",
   "execution_count": null,
   "id": "f3a9c72e",
   "metadata": {},
   "outputs": [],
   "source": [
    "OnePiece.Dict.print(OnePiece.Dict.merge(ke2_va2, ke1_va1))"
   ]
  },
  {
   "cell_type": "markdown",
   "id": "035dc040-52fb-443d-a73e-72ffc8e132b5",
   "metadata": {},
   "source": [
    "## read"
   ]
  },
  {
   "cell_type": "code",
   "execution_count": null,
   "id": "d05fbdbf",
   "metadata": {},
   "outputs": [],
   "source": [
    "da = joinpath(@__DIR__, \"dict.data\")\n",
    "\n",
    "js1 = joinpath(da, \"example_1.json\")\n",
    "\n",
    "js2 = joinpath(da, \"example_2.json\")\n",
    "\n",
    "to = joinpath(da, \"example.toml\")\n",
    "\n",
    ";"
   ]
  },
  {
   "cell_type": "code",
   "execution_count": null,
   "id": "cedaae14",
   "metadata": {},
   "outputs": [],
   "source": [
    "OnePiece.Dict.print(OnePiece.Dict.read(js1))"
   ]
  },
  {
   "cell_type": "code",
   "execution_count": null,
   "id": "eec77164",
   "metadata": {},
   "outputs": [],
   "source": [
    "OnePiece.Dict.print(OnePiece.Dict.read(js2))"
   ]
  },
  {
   "cell_type": "code",
   "execution_count": null,
   "id": "b628d2f3",
   "metadata": {},
   "outputs": [],
   "source": [
    "OnePiece.Dict.print(OnePiece.Dict.read(to))"
   ]
  },
  {
   "cell_type": "code",
   "execution_count": null,
   "id": "30220ddb",
   "metadata": {},
   "outputs": [],
   "source": [
    "OnePiece.Dict.print(OnePiece.Dict.read((js1, js2, to)))"
   ]
  },
  {
   "cell_type": "markdown",
   "id": "db43b4a9",
   "metadata": {},
   "source": [
    "## write"
   ]
  },
  {
   "cell_type": "code",
   "execution_count": null,
   "id": "e14cdc65-2163-471b-89cf-2cadd4e100ac",
   "metadata": {},
   "outputs": [],
   "source": [
    "ke_va = Dict(\n",
    "    \"Luffy\" => \"Pirate King\",\n",
    "    \"Crews\" => [\n",
    "        \"Luffy\",\n",
    "        \"Zoro\",\n",
    "        \"Nami\",\n",
    "        \"Usopp\",\n",
    "        \"Sanji\",\n",
    "        \"Chopper\",\n",
    "        \"Robin\",\n",
    "        \"Franky\",\n",
    "        \"Brook\",\n",
    "        \"Jinbe\",\n",
    "    ],\n",
    "    \"episode\" => 1030,\n",
    ")\n",
    "\n",
    "js = joinpath(OnePiece.Path.make_temporary(\"OnePiece.test.Dict\"), \"write.json\")"
   ]
  },
  {
   "cell_type": "code",
   "execution_count": null,
   "id": "56d9d40e-9466-4f09-8e74-4a99d0a42c35",
   "metadata": {},
   "outputs": [],
   "source": [
    "OnePiece.Dict.write(js, ke_va)\n",
    "\n",
    "ke_va == OnePiece.Dict.read(js)"
   ]
  },
  {
   "cell_type": "code",
   "execution_count": null,
   "id": "987347c1-5fc1-4c7e-9a96-935d1b98d0a5",
   "metadata": {},
   "outputs": [],
   "source": [
    "ke_va[\"Black Beard\"] = (\"Yami Yami\", \"Gura Gura\")\n",
    "\n",
    "OnePiece.Dict.write(js, ke_va)\n",
    "\n",
    "ke2_va2 = OnePiece.Dict.read(js)\n",
    "\n",
    "ke_va == ke2_va2\n",
    "\n",
    "ke2_va2"
   ]
  }
 ],
 "metadata": {
  "@webio": {
   "lastCommId": null,
   "lastKernelId": null
  },
  "kernelspec": {
   "display_name": "Julia 1.8.2",
   "language": "julia",
   "name": "julia-1.8"
  },
  "language_info": {
   "file_extension": ".jl",
   "mimetype": "application/julia",
   "name": "julia",
   "version": "1.8.2"
  }
 },
 "nbformat": 4,
 "nbformat_minor": 5
}
