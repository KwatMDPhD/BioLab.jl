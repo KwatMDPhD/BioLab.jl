{
 "cells": [
  {
   "outputs": [],
   "cell_type": "code",
   "source": [
    "include(\"_.jl\")"
   ],
   "id": "a9323e37",
   "metadata": {},
   "execution_count": null
  },
  {
   "cell_type": "markdown",
   "source": [
    "## _aim"
   ],
   "id": "a5a248f4-000a-4ca2-ab51-8840626ae543",
   "metadata": {}
  },
  {
   "outputs": [],
   "cell_type": "code",
   "source": [
    "nu_ = [2, 3, 4, 5]\n",
    "\n",
    "co_ = [0, 0, 1, 1]\n",
    "\n",
    "BioLab.String.print_header(co_)\n",
    "\n",
    "@test BioLab.FeatureXSample._aim(co_, nu_) == (co_, nu_)\n",
    "\n",
    "@code_warntype BioLab.FeatureXSample._aim(co_, nu_)\n",
    "\n",
    "# 2.125 ns (0 allocations: 0 bytes)\n",
    "@btime BioLab.FeatureXSample._aim($co_, $nu_)\n",
    "\n",
    "bo_ = convert(Vector{Bool}, co_)\n",
    "\n",
    "BioLab.String.print_header(bo_)\n",
    "\n",
    "@test BioLab.FeatureXSample._aim(bo_, nu_) == ([2, 3], [4, 5])\n",
    "\n",
    "@code_warntype BioLab.FeatureXSample._aim(bo_, nu_)\n",
    "\n",
    "# 116.703 ns (3 allocations: 224 bytes)\n",
    "@btime BioLab.FeatureXSample._aim($bo_, $nu_)"
   ],
   "id": "8920bb8c-0e22-4a24-9307-9428a8cd1f8e",
   "metadata": {},
   "execution_count": null
  },
  {
   "cell_type": "markdown",
   "source": [
    "## _trigger"
   ],
   "id": "9f1497c9-b963-4e1b-8983-fae65ca3f76a",
   "metadata": {}
  },
  {
   "outputs": [],
   "cell_type": "code",
   "source": [
    "function fu(nu1_, nu2_)\n",
    "\n",
    "    sum(nu1_) - sum(nu2_)\n",
    "\n",
    "end\n",
    "\n",
    "n_co = 4\n",
    "\n",
    "nu_ = [10^(id - 1) for id in 1:n_co]\n",
    "\n",
    "co_ = [co + 1 for co in nu_]\n",
    "\n",
    "BioLab.String.print_header(co_)\n",
    "\n",
    "@test BioLab.FeatureXSample._trigger(fu, co_, nu_) == 4\n",
    "\n",
    "# 4.875 ns (0 allocations: 0 bytes)\n",
    "@btime BioLab.FeatureXSample._trigger($fu, $co_, $nu_)\n",
    "\n",
    "n_ze = div(n_co, 2)\n",
    "\n",
    "bo_ = vcat(fill(false, n_ze), fill(true, n_co - n_ze))\n",
    "\n",
    "BioLab.String.print_header(bo_)\n",
    "\n",
    "@test BioLab.FeatureXSample._trigger(fu, bo_, nu_) == -1089\n",
    "\n",
    "# 112.206 ns (3 allocations: 224 bytes)\n",
    "@btime BioLab.FeatureXSample._trigger($fu, $bo_, $nu_)"
   ],
   "id": "b729f3ef-efc1-4d9d-a18a-240a6401355c",
   "metadata": {},
   "execution_count": null
  },
  {
   "cell_type": "markdown",
   "source": [
    "## target"
   ],
   "id": "79a00ecb",
   "metadata": {}
  },
  {
   "outputs": [],
   "cell_type": "code",
   "source": [
    "n_ro = 2\n",
    "\n",
    "n_co = 6\n",
    "\n",
    "fe_x_sa_x_nu = BioLab.Matrix.simulate(n_ro, n_co, \"1:\")\n",
    "\n",
    "display(fe_x_sa_x_nu)\n",
    "\n",
    "fut = (nu1_, nu2_) -> mean(nu1_) - mean(nu2_)\n",
    "\n",
    "co_ = [10^(id - 1) for id in 1:n_co]\n",
    "\n",
    "BioLab.String.print_header(co_)\n",
    "\n",
    "@test BioLab.FeatureXSample.target(co_, fe_x_sa_x_nu, fut) == [18512.5, 18511.5]\n",
    "\n",
    "@code_warntype BioLab.FeatureXSample.target(co_, fe_x_sa_x_nu, fut)\n",
    "\n",
    "# 74.373 ns (1 allocation: 80 bytes)\n",
    "@btime BioLab.FeatureXSample.target($co_, $fe_x_sa_x_nu, $fut)\n",
    "\n",
    "n_ze = div(n_co, 2)\n",
    "\n",
    "bo_ = vcat(fill(false, n_ze), fill(true, n_co - n_ze))\n",
    "\n",
    "BioLab.String.print_header(bo_)\n",
    "\n",
    "@test BioLab.FeatureXSample.target(bo_, fe_x_sa_x_nu, fut) == [-6.0, -6.0]\n",
    "\n",
    "@code_warntype BioLab.FeatureXSample.target(bo_, fe_x_sa_x_nu, fut)\n",
    "\n",
    "# 268.059 ns (7 allocations: 528 bytes)\n",
    "@btime BioLab.FeatureXSample.target($bo_, $fe_x_sa_x_nu, $fut)"
   ],
   "id": "262594cf-2019-4e23-a2e9-24ce8b8d79b7",
   "metadata": {},
   "execution_count": null
  }
 ],
 "nbformat_minor": 5,
 "metadata": {
  "language_info": {
   "file_extension": ".jl",
   "mimetype": "application/julia",
   "name": "julia",
   "version": "1.8.5"
  },
  "@webio": {
   "lastKernelId": null,
   "lastCommId": null
  },
  "kernelspec": {
   "name": "julia-1.8",
   "display_name": "Julia 1.8.5",
   "language": "julia"
  }
 },
 "nbformat": 4
}
