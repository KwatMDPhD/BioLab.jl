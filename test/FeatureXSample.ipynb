{
 "cells": [
  {
   "outputs": [],
   "cell_type": "code",
   "source": [
    "include(\"_.jl\")"
   ],
   "id": "a9323e37",
   "metadata": {},
   "execution_count": null
  },
  {
   "cell_type": "markdown",
   "source": [
    "## _aim"
   ],
   "id": "a5a248f4-000a-4ca2-ab51-8840626ae543",
   "metadata": {}
  },
  {
   "outputs": [],
   "cell_type": "code",
   "source": [
    "nu1_ = [0, 0, 1, 1]\n",
    "\n",
    "nu2_ = [2, 3, 4, 5]\n",
    "\n",
    "@test BioLab.FeatureXSample._aim(nu1_, nu2_) == (nu1_, nu2_)\n",
    "\n",
    "@test BioLab.FeatureXSample._aim(convert(Vector{Bool}, nu1_), nu2_) == ([2, 3], [4, 5])\n",
    "\n",
    ";"
   ],
   "id": "8920bb8c-0e22-4a24-9307-9428a8cd1f8e",
   "metadata": {},
   "execution_count": null
  },
  {
   "cell_type": "markdown",
   "source": [
    "## _trigger"
   ],
   "id": "9f1497c9-b963-4e1b-8983-fae65ca3f76a",
   "metadata": {}
  },
  {
   "outputs": [],
   "cell_type": "code",
   "source": [
    "function fu(nu1_, nu2_)\n",
    "\n",
    "    sum(nu1_) - sum(nu2_)\n",
    "\n",
    "end\n",
    "\n",
    "n_co = 4\n",
    "\n",
    "co_ = [10^(id - 1) for id in 1:n_co]"
   ],
   "id": "cd487dbc-9cff-4b2d-ac30-ec0ef89f5913",
   "metadata": {},
   "execution_count": null
  },
  {
   "outputs": [],
   "cell_type": "code",
   "source": [
    "co1_ = [co + 1 for co in co_]\n",
    "\n",
    "println(co1_)\n",
    "\n",
    "@test BioLab.FeatureXSample._trigger(fu, co1_, co_) == 4\n",
    "\n",
    "# 4.875 ns (0 allocations: 0 bytes)\n",
    "#@btime BioLab.FeatureXSample._trigger($fu, $co1_, $co_)"
   ],
   "id": "de4d91fa-0beb-42d2-8289-2259ac537a63",
   "metadata": {},
   "execution_count": null
  },
  {
   "outputs": [],
   "cell_type": "code",
   "source": [
    "n_ze = div(n_co, 2)\n",
    "\n",
    "bo_ = vcat(fill(false, n_ze), fill(true, n_co - n_ze))\n",
    "\n",
    "println(bo_)\n",
    "\n",
    "@test BioLab.FeatureXSample._trigger(fu, bo_, co_) == -1089\n",
    "\n",
    "# 112.206 ns (3 allocations: 224 bytes)\n",
    "#@btime BioLab.FeatureXSample._trigger($fu, $bo_, $co_)"
   ],
   "id": "f9aab83f-eb3f-4c23-afe0-f4d571d93e2c",
   "metadata": {},
   "execution_count": null
  },
  {
   "cell_type": "markdown",
   "source": [
    "## target"
   ],
   "id": "79a00ecb",
   "metadata": {}
  },
  {
   "outputs": [],
   "cell_type": "code",
   "source": [
    "n_ro = 2\n",
    "\n",
    "n_co = 6\n",
    "\n",
    "fe_x_sa_x_nu = BioLab.Matrix.simulate(n_ro, n_co)\n",
    "\n",
    "display(fe_x_sa_x_nu)\n",
    "\n",
    "fut = (nu1_, nu2_) -> mean(nu1_) - mean(nu2_)\n",
    "\n",
    ";"
   ],
   "id": "43c500b0-4506-4af1-875c-c2a131cc5930",
   "metadata": {},
   "execution_count": null
  },
  {
   "outputs": [],
   "cell_type": "code",
   "source": [
    "co_ = [10^(id - 1) for id in 1:n_co]\n",
    "\n",
    "println(co_)\n",
    "\n",
    "@test BioLab.FeatureXSample.target(co_, fe_x_sa_x_nu, fut) == [18512.5, 18511.5]\n",
    "\n",
    "# 74.373 ns (1 allocation: 80 bytes)\n",
    "#@btime BioLab.FeatureXSample.target($co_, $fe_x_sa_x_nu, $fut)"
   ],
   "id": "cf5f9cea-389c-4f6f-9765-826df18a4193",
   "metadata": {},
   "execution_count": null
  },
  {
   "outputs": [],
   "cell_type": "code",
   "source": [
    "n_ze = div(n_co, 2)\n",
    "\n",
    "bo_ = vcat(fill(false, n_ze), fill(true, n_co - n_ze))\n",
    "\n",
    "println(bo_)\n",
    "\n",
    "@test BioLab.FeatureXSample.target(bo_, fe_x_sa_x_nu, fut) == [-6.0, -6.0]\n",
    "\n",
    "# 268.059 ns (7 allocations: 528 bytes)\n",
    "#@btime BioLab.FeatureXSample.target($bo_, $fe_x_sa_x_nu, $fut)"
   ],
   "id": "3c18d184-40e2-458a-90e1-755e8517d39c",
   "metadata": {},
   "execution_count": null
  }
 ],
 "nbformat_minor": 5,
 "metadata": {
  "language_info": {
   "file_extension": ".jl",
   "mimetype": "application/julia",
   "name": "julia",
   "version": "1.8.5"
  },
  "@webio": {
   "lastKernelId": null,
   "lastCommId": null
  },
  "kernelspec": {
   "name": "julia-1.8",
   "display_name": "Julia 1.8.5",
   "language": "julia"
  }
 },
 "nbformat": 4
}
