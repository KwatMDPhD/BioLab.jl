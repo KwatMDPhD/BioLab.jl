{
 "cells": [
  {
   "outputs": [],
   "cell_type": "code",
   "source": [
    "using OnePiece"
   ],
   "id": "a9323e37",
   "metadata": {},
   "execution_count": null
  },
  {
   "cell_type": "markdown",
   "source": [
    "## _aim"
   ],
   "id": "a5a248f4-000a-4ca2-ab51-8840626ae543",
   "metadata": {}
  },
  {
   "outputs": [],
   "cell_type": "code",
   "source": [
    "nu1_ = [0, 0, 1, 1]\n",
    "\n",
    "nu2_ = [2, 3, 4, 5]\n",
    "\n",
    ";"
   ],
   "id": "200ae96e-dc90-4150-9ad5-2386e5fe808c",
   "metadata": {},
   "execution_count": null
  },
  {
   "outputs": [],
   "cell_type": "code",
   "source": [
    "OnePiece.FeatureXSample._aim(nu1_, nu2_)"
   ],
   "id": "8c9c1c1b-0d11-413f-b9da-30b380c69eff",
   "metadata": {},
   "execution_count": null
  },
  {
   "outputs": [],
   "cell_type": "code",
   "source": [
    "OnePiece.FeatureXSample._aim(convert(BitVector, nu1_), nu2_)"
   ],
   "id": "dd83b3f0-6c40-4537-8080-57d2957cb7e3",
   "metadata": {},
   "execution_count": null
  },
  {
   "cell_type": "markdown",
   "source": [
    "## _trigger"
   ],
   "id": "9f1497c9-b963-4e1b-8983-fae65ca3f76a",
   "metadata": {}
  },
  {
   "outputs": [],
   "cell_type": "code",
   "source": [
    "function fu(nu1_, nu2_)\n",
    "\n",
    "    su1 = sum(nu1_)\n",
    "\n",
    "    su2 = sum(nu2_)\n",
    "\n",
    "    println(\"$su1 & $su2\")\n",
    "\n",
    "    su2 - su1\n",
    "\n",
    "end"
   ],
   "id": "3fe26de2",
   "metadata": {},
   "execution_count": null
  },
  {
   "outputs": [],
   "cell_type": "code",
   "source": [
    "n_co = 4\n",
    "\n",
    ";"
   ],
   "id": "28496e7d-2d64-4fec-b29a-68be60340a0e",
   "metadata": {},
   "execution_count": null
  },
  {
   "outputs": [],
   "cell_type": "code",
   "source": [
    "co_ = [10^(id - 1) for id in 1:n_co]"
   ],
   "id": "2f1d18f2-da2a-4a8b-9526-b4b306a09e0a",
   "metadata": {},
   "execution_count": null
  },
  {
   "outputs": [],
   "cell_type": "code",
   "source": [
    "OnePiece.FeatureXSample._trigger(fu, co_, co_)"
   ],
   "id": "d73c6551",
   "metadata": {},
   "execution_count": null
  },
  {
   "outputs": [],
   "cell_type": "code",
   "source": [
    "n_ze = convert(Int, n_co / 2)\n",
    "\n",
    "bi_ = convert(BitVector, vcat(fill(0, n_ze), fill(1, n_co - n_ze)))"
   ],
   "id": "786c9565",
   "metadata": {},
   "execution_count": null
  },
  {
   "outputs": [],
   "cell_type": "code",
   "source": [
    "OnePiece.FeatureXSample._trigger(fu, bi_, co_)"
   ],
   "id": "996d485f",
   "metadata": {},
   "execution_count": null
  },
  {
   "cell_type": "markdown",
   "source": [
    "## target"
   ],
   "id": "79a00ecb",
   "metadata": {}
  },
  {
   "outputs": [],
   "cell_type": "code",
   "source": [
    "n_ro = 2\n",
    "\n",
    "n_co = 6\n",
    "\n",
    ";"
   ],
   "id": "596e3fdf-b82e-4bc0-8635-58a3a16cc3e7",
   "metadata": {},
   "execution_count": null
  },
  {
   "outputs": [],
   "cell_type": "code",
   "source": [
    "fe_x_sa_x_nu = OnePiece.Matrix.simulate(n_ro, n_co)"
   ],
   "id": "5da78282-2f6d-481f-8b15-206a2beff839",
   "metadata": {},
   "execution_count": null
  },
  {
   "outputs": [],
   "cell_type": "code",
   "source": [
    "fut = \"mean_difference\""
   ],
   "id": "92d23148-2bae-4332-ab95-6a22d0255895",
   "metadata": {},
   "execution_count": null
  },
  {
   "outputs": [],
   "cell_type": "code",
   "source": [
    "co_ = [10^(id - 1) for id in 1:n_co]"
   ],
   "id": "d4713561",
   "metadata": {},
   "execution_count": null
  },
  {
   "outputs": [],
   "cell_type": "code",
   "source": [
    "OnePiece.FeatureXSample.target(co_, fe_x_sa_x_nu, fut)"
   ],
   "id": "a223627a",
   "metadata": {},
   "execution_count": null
  },
  {
   "outputs": [],
   "cell_type": "code",
   "source": [
    "n_ze = convert(Int, n_co / 2)\n",
    "\n",
    "bi_ = convert(BitVector, vcat(fill(0, n_ze), fill(1, n_co - n_ze)))"
   ],
   "id": "f159d040",
   "metadata": {},
   "execution_count": null
  },
  {
   "outputs": [],
   "cell_type": "code",
   "source": [
    "OnePiece.FeatureXSample.target(bi_, fe_x_sa_x_nu, fut)"
   ],
   "id": "ef214d22",
   "metadata": {},
   "execution_count": null
  }
 ],
 "nbformat_minor": 5,
 "metadata": {
  "language_info": {
   "file_extension": ".jl",
   "mimetype": "application/julia",
   "name": "julia",
   "version": "1.8.2"
  },
  "@webio": {
   "lastKernelId": null,
   "lastCommId": null
  },
  "kernelspec": {
   "name": "julia-1.8",
   "display_name": "Julia 1.8.2",
   "language": "julia"
  }
 },
 "nbformat": 4
}
