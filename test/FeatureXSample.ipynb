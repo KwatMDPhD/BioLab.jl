{
 "cells": [
  {
   "cell_type": "code",
   "execution_count": null,
   "id": "a9323e37",
   "metadata": {},
   "outputs": [],
   "source": [
    "using OnePiece"
   ]
  },
  {
   "cell_type": "markdown",
   "id": "a5a248f4-000a-4ca2-ab51-8840626ae543",
   "metadata": {},
   "source": [
    "## _aim"
   ]
  },
  {
   "cell_type": "code",
   "execution_count": null,
   "id": "200ae96e-dc90-4150-9ad5-2386e5fe808c",
   "metadata": {},
   "outputs": [],
   "source": [
    "nu1_ = [0, 0, 1, 1]\n",
    "\n",
    "nu2_ = [3, 4, 5, 6]\n",
    "\n",
    ";"
   ]
  },
  {
   "cell_type": "code",
   "execution_count": null,
   "id": "8c9c1c1b-0d11-413f-b9da-30b380c69eff",
   "metadata": {},
   "outputs": [],
   "source": [
    "OnePiece.FeatureXSample._aim(nu1_, nu2_)"
   ]
  },
  {
   "cell_type": "code",
   "execution_count": null,
   "id": "dd83b3f0-6c40-4537-8080-57d2957cb7e3",
   "metadata": {},
   "outputs": [],
   "source": [
    "OnePiece.FeatureXSample._aim(convert(BitVector, nu1_), nu2_)"
   ]
  },
  {
   "cell_type": "markdown",
   "id": "9f1497c9-b963-4e1b-8983-fae65ca3f76a",
   "metadata": {},
   "source": [
    "## _trigger"
   ]
  },
  {
   "cell_type": "code",
   "execution_count": null,
   "id": "3fe26de2",
   "metadata": {},
   "outputs": [],
   "source": [
    "function fu(nu1_, nu2_)\n",
    "\n",
    "    su1 = sum(nu1_)\n",
    "\n",
    "    su2 = sum(nu2_)\n",
    "\n",
    "    println(\"$su1 & $su2\")\n",
    "\n",
    "    su2 - su1\n",
    "\n",
    "end"
   ]
  },
  {
   "cell_type": "code",
   "execution_count": null,
   "id": "a3397861",
   "metadata": {},
   "outputs": [],
   "source": [
    "n_ro = 5\n",
    "\n",
    "n_co = 4\n",
    "\n",
    "ma = OnePiece.Matrix.simulate(n_ro, n_co)"
   ]
  },
  {
   "cell_type": "code",
   "execution_count": null,
   "id": "dccf79f3",
   "metadata": {},
   "outputs": [],
   "source": [
    "co_ = [10^(id - 1) for id in 1:n_co]"
   ]
  },
  {
   "cell_type": "code",
   "execution_count": null,
   "id": "786c9565",
   "metadata": {},
   "outputs": [],
   "source": [
    "n_ze = convert(Int, n_co / 2)\n",
    "\n",
    "bi_ = convert(BitVector, vcat(zeros(n_ze), ones(n_co - n_ze)))"
   ]
  },
  {
   "cell_type": "code",
   "execution_count": null,
   "id": "d73c6551",
   "metadata": {},
   "outputs": [],
   "source": [
    "OnePiece.FeatureXSample._trigger(fu, co_, co_)"
   ]
  },
  {
   "cell_type": "code",
   "execution_count": null,
   "id": "996d485f",
   "metadata": {},
   "outputs": [],
   "source": [
    "OnePiece.FeatureXSample._trigger(fu, bi_, co_)"
   ]
  },
  {
   "cell_type": "markdown",
   "id": "79a00ecb",
   "metadata": {},
   "source": [
    "## target"
   ]
  },
  {
   "cell_type": "code",
   "execution_count": null,
   "id": "9f962f7a",
   "metadata": {},
   "outputs": [],
   "source": [
    "n_ro = 2\n",
    "\n",
    "n_co = 6\n",
    "\n",
    "fe_x_sa_x_nu = OnePiece.Matrix.simulate(n_ro, n_co)"
   ]
  },
  {
   "cell_type": "code",
   "execution_count": null,
   "id": "d4713561",
   "metadata": {},
   "outputs": [],
   "source": [
    "co_ = [10^(id - 1) for id in 1:n_co]"
   ]
  },
  {
   "cell_type": "code",
   "execution_count": null,
   "id": "f159d040",
   "metadata": {},
   "outputs": [],
   "source": [
    "n_ze = convert(Int, n_co / 2)\n",
    "\n",
    "bi_ = convert(BitVector, vcat(zeros(n_ze), ones(n_co - n_ze)))"
   ]
  },
  {
   "cell_type": "code",
   "execution_count": null,
   "id": "92d23148-2bae-4332-ab95-6a22d0255895",
   "metadata": {},
   "outputs": [],
   "source": [
    "fut = \"mean_difference\""
   ]
  },
  {
   "cell_type": "code",
   "execution_count": null,
   "id": "a223627a",
   "metadata": {},
   "outputs": [],
   "source": [
    "OnePiece.FeatureXSample.target(co_, fe_x_sa_x_nu, fut)"
   ]
  },
  {
   "cell_type": "code",
   "execution_count": null,
   "id": "ef214d22",
   "metadata": {},
   "outputs": [],
   "source": [
    "OnePiece.FeatureXSample.target(bi_, fe_x_sa_x_nu, fut)"
   ]
  }
 ],
 "metadata": {
  "@webio": {
   "lastCommId": null,
   "lastKernelId": null
  },
  "kernelspec": {
   "display_name": "Julia 1.8.2",
   "language": "julia",
   "name": "julia-1.8"
  },
  "language_info": {
   "file_extension": ".jl",
   "mimetype": "application/julia",
   "name": "julia",
   "version": "1.8.2"
  }
 },
 "nbformat": 4,
 "nbformat_minor": 5
}
