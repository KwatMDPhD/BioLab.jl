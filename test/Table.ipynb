{
 "cells": [
  {
   "cell_type": "code",
   "execution_count": null,
   "id": "5336e4b8-e761-49c3-8025-cb5e91aa3ed1",
   "metadata": {
    "execution": {
     "iopub.execute_input": "2023-02-23T14:58:05.254000Z",
     "iopub.status.busy": "2023-02-23T14:58:04.798000Z",
     "iopub.status.idle": "2023-02-23T14:58:10.098000Z",
     "shell.execute_reply": "2023-02-23T14:58:10.089000Z"
    }
   },
   "outputs": [],
   "source": [
    "include(\"_.jl\")\n",
    "\n",
    "using DataFrames\n",
    "\n",
    "te = BioLab.Path.make_temporary(\"BioLab.test.Table\")"
   ]
  },
  {
   "cell_type": "markdown",
   "id": "fcce84a3",
   "metadata": {},
   "source": [
    "## read"
   ]
  },
  {
   "cell_type": "code",
   "execution_count": null,
   "id": "3a03ae5e-c1c0-4785-a540-d6b5bc579999",
   "metadata": {
    "execution": {
     "iopub.execute_input": "2023-02-23T14:58:10.273000Z",
     "iopub.status.busy": "2023-02-23T14:58:10.101000Z",
     "iopub.status.idle": "2023-02-23T14:58:24.075000Z",
     "shell.execute_reply": "2023-02-23T14:58:24.075000Z"
    }
   },
   "outputs": [],
   "source": [
    "di = joinpath(@__DIR__, \"Table.data\")\n",
    "\n",
    "for na in (\"titanic.tsv\", \"enst_gene.tsv.gz\")\n",
    "\n",
    "    BioLab.String.print_header(na)\n",
    "\n",
    "    pa = joinpath(di, na)\n",
    "\n",
    "    # TODO: `@test`.\n",
    "    display(BioLab.Table.read(pa))\n",
    "\n",
    "    @code_warntype BioLab.Table.read(pa)\n",
    "\n",
    "end\n",
    "\n",
    "pa = joinpath(di, \"12859_2019_2886_MOESM2_ESM.xlsx\")\n",
    "\n",
    "xl = \"HumanSpecific Genes\"\n",
    "\n",
    "BioLab.Table.read(pa; xl)\n",
    "\n",
    "@code_warntype BioLab.Table.read(pa; xl)"
   ]
  },
  {
   "cell_type": "markdown",
   "id": "5b77c5d6",
   "metadata": {},
   "source": [
    "## write"
   ]
  },
  {
   "cell_type": "code",
   "execution_count": null,
   "id": "1b9b0dbf-2c20-4148-8756-ec31232a20d7",
   "metadata": {
    "execution": {
     "iopub.execute_input": "2023-02-23T14:58:24.077000Z",
     "iopub.status.busy": "2023-02-23T14:58:24.076000Z",
     "iopub.status.idle": "2023-02-23T14:58:25.214000Z",
     "shell.execute_reply": "2023-02-23T14:58:25.213000Z"
    }
   },
   "outputs": [],
   "source": [
    "co1 = 1:4\n",
    "\n",
    "co2 = 1.0:4\n",
    "\n",
    "ro_x_co_x_an = DataFrame(\n",
    "    \"Column 1\" => co1,\n",
    "    \"Column 2\" => co2,\n",
    "    \"Column 3\" => [string(an) for an in co1],\n",
    "    \"Column 4\" => [string(an) for an in co2],\n",
    ")\n",
    "\n",
    "ts = joinpath(te, \"write.csv\")\n",
    "\n",
    "@test @check_error BioLab.Table.write(ts, ro_x_co_x_an)\n",
    "\n",
    "ts = replace(ts, \".csv\" => \".tsv\")\n",
    "\n",
    "BioLab.Table.write(ts, ro_x_co_x_an)\n",
    "\n",
    "ro_x_co_x_an2 = BioLab.Table.read(ts)\n",
    "\n",
    "@test ro_x_co_x_an != ro_x_co_x_an2"
   ]
  }
 ],
 "metadata": {
  "@webio": {
   "lastCommId": null,
   "lastKernelId": null
  },
  "kernelspec": {
   "display_name": "Julia 1.8.5",
   "language": "julia",
   "name": "julia-1.8"
  },
  "language_info": {
   "file_extension": ".jl",
   "mimetype": "application/julia",
   "name": "julia",
   "version": "1.8.5"
  }
 },
 "nbformat": 4,
 "nbformat_minor": 5
}
