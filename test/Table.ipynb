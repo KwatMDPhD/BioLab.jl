{
 "cells": [
  {
   "cell_type": "code",
   "execution_count": null,
   "id": "6fa7c1dc-6d3c-46ed-b858-471f394f4e53",
   "metadata": {},
   "outputs": [],
   "source": [
    "using Revise"
   ]
  },
  {
   "cell_type": "code",
   "execution_count": null,
   "id": "baf12f00",
   "metadata": {},
   "outputs": [],
   "source": [
    "using OnePiece\n",
    "\n",
    "using DataFrames"
   ]
  },
  {
   "cell_type": "code",
   "execution_count": null,
   "id": "6a6e3d87",
   "metadata": {},
   "outputs": [],
   "source": [
    "te = OnePiece.Path.make_temporary(\"OnePiece.test.table\")"
   ]
  },
  {
   "cell_type": "markdown",
   "id": "fcce84a3",
   "metadata": {},
   "source": [
    "## read"
   ]
  },
  {
   "cell_type": "code",
   "execution_count": null,
   "id": "54212881-8e49-4622-8019-3b708a3eba48",
   "metadata": {},
   "outputs": [],
   "source": [
    "di = joinpath(@__DIR__, \"Table.data\")\n",
    "\n",
    ";"
   ]
  },
  {
   "cell_type": "code",
   "execution_count": null,
   "id": "bd172f7a-3a07-4997-a3fc-44d35cce5f21",
   "metadata": {},
   "outputs": [],
   "source": [
    "OnePiece.Table.read(joinpath(di, \"titanic.tsv\"))"
   ]
  },
  {
   "cell_type": "code",
   "execution_count": null,
   "id": "280e319f",
   "metadata": {},
   "outputs": [],
   "source": [
    "OnePiece.Table.read(joinpath(di, \"enst_gene.tsv.gz\"))"
   ]
  },
  {
   "cell_type": "code",
   "execution_count": null,
   "id": "7137cf1b",
   "metadata": {},
   "outputs": [],
   "source": [
    "OnePiece.Table.read(joinpath(di, \"12859_2019_2886_MOESM2_ESM.xlsx\"), \"HumanSpecific Genes\")"
   ]
  },
  {
   "cell_type": "markdown",
   "id": "5b77c5d6",
   "metadata": {},
   "source": [
    "## write"
   ]
  },
  {
   "cell_type": "code",
   "execution_count": null,
   "id": "3d64c320",
   "metadata": {},
   "outputs": [],
   "source": [
    "co1 = 1:4\n",
    "\n",
    "co2 = 1.0:4\n",
    "\n",
    "da = DataFrame(\n",
    "    \"Column 1\" => co1,\n",
    "    \"Column 2\" => co2,\n",
    "    \"Column 3\" => [string(an) for an in co1],\n",
    "    \"Column 4\" => [string(an) for an in co2],\n",
    ")"
   ]
  },
  {
   "cell_type": "code",
   "execution_count": null,
   "id": "f380da76",
   "metadata": {},
   "outputs": [],
   "source": [
    "ts = joinpath(te, \"write.csv\")\n",
    "\n",
    "try\n",
    "\n",
    "    OnePiece.Table.write(ts, da)\n",
    "\n",
    "catch er\n",
    "\n",
    "    println(er)\n",
    "\n",
    "end"
   ]
  },
  {
   "cell_type": "code",
   "execution_count": null,
   "id": "97344950",
   "metadata": {},
   "outputs": [],
   "source": [
    "OnePiece.Table.write(replace(ts, \".csv\" => \".tsv\"), da)"
   ]
  }
 ],
 "metadata": {
  "@webio": {
   "lastCommId": null,
   "lastKernelId": null
  },
  "kernelspec": {
   "display_name": "Julia 1.8.2",
   "language": "julia",
   "name": "julia-1.8"
  },
  "language_info": {
   "file_extension": ".jl",
   "mimetype": "application/julia",
   "name": "julia",
   "version": "1.8.2"
  }
 },
 "nbformat": 4,
 "nbformat_minor": 5
}
