{
 "cells": [
  {
   "outputs": [],
   "cell_type": "code",
   "source": [
    "using BioLab\n",
    "\n",
    "using DataFrames"
   ],
   "id": "baf12f00",
   "metadata": {},
   "execution_count": null
  },
  {
   "outputs": [],
   "cell_type": "code",
   "source": [
    "te = BioLab.Path.make_temporary(\"BioLab.test.Table\")"
   ],
   "id": "6a6e3d87",
   "metadata": {},
   "execution_count": null
  },
  {
   "cell_type": "markdown",
   "source": [
    "## read"
   ],
   "id": "fcce84a3",
   "metadata": {}
  },
  {
   "outputs": [],
   "cell_type": "code",
   "source": [
    "di = joinpath(@__DIR__, \"Table.data\")\n",
    "\n",
    ";"
   ],
   "id": "54212881-8e49-4622-8019-3b708a3eba48",
   "metadata": {},
   "execution_count": null
  },
  {
   "outputs": [],
   "cell_type": "code",
   "source": [
    "BioLab.Table.read(joinpath(di, \"titanic.tsv\"))"
   ],
   "id": "bd172f7a-3a07-4997-a3fc-44d35cce5f21",
   "metadata": {},
   "execution_count": null
  },
  {
   "outputs": [],
   "cell_type": "code",
   "source": [
    "BioLab.Table.read(joinpath(di, \"enst_gene.tsv.gz\"))"
   ],
   "id": "280e319f",
   "metadata": {},
   "execution_count": null
  },
  {
   "outputs": [],
   "cell_type": "code",
   "source": [
    "BioLab.Table.read(joinpath(di, \"12859_2019_2886_MOESM2_ESM.xlsx\"), \"HumanSpecific Genes\")"
   ],
   "id": "7137cf1b",
   "metadata": {},
   "execution_count": null
  },
  {
   "cell_type": "markdown",
   "source": [
    "## write"
   ],
   "id": "5b77c5d6",
   "metadata": {}
  },
  {
   "outputs": [],
   "cell_type": "code",
   "source": [
    "co1 = 1:4\n",
    "\n",
    "co2 = 1.0:4\n",
    "\n",
    "ro_x_co_x_an = DataFrame(\n",
    "    \"Column 1\" => co1,\n",
    "    \"Column 2\" => co2,\n",
    "    \"Column 3\" => [string(an) for an in co1],\n",
    "    \"Column 4\" => [string(an) for an in co2],\n",
    ")"
   ],
   "id": "3d64c320",
   "metadata": {},
   "execution_count": null
  },
  {
   "outputs": [],
   "cell_type": "code",
   "source": [
    "ts = joinpath(te, \"write.csv\")\n",
    "\n",
    ";"
   ],
   "id": "f770a40b-cee6-43fa-babc-a766fd97e50e",
   "metadata": {},
   "execution_count": null
  },
  {
   "outputs": [],
   "cell_type": "code",
   "source": [
    "try\n",
    "\n",
    "    BioLab.Table.write(ts, ro_x_co_x_an)\n",
    "\n",
    "catch er\n",
    "\n",
    "    println(er)\n",
    "\n",
    "end"
   ],
   "id": "bde4ad7e-7cd4-468f-a50c-8a8daa6d4efc",
   "metadata": {},
   "execution_count": null
  },
  {
   "outputs": [],
   "cell_type": "code",
   "source": [
    "ts = replace(ts, \".csv\" => \".tsv\")\n",
    "\n",
    "BioLab.Table.write(ts, ro_x_co_x_an)"
   ],
   "id": "97344950",
   "metadata": {},
   "execution_count": null
  },
  {
   "outputs": [],
   "cell_type": "code",
   "source": [
    "ro_x_co_x_an2 = BioLab.Table.read(ts)"
   ],
   "id": "29e84d7e-c943-43af-b3d3-d1fc2fb1cbaa",
   "metadata": {},
   "execution_count": null
  },
  {
   "outputs": [],
   "cell_type": "code",
   "source": [
    "ro_x_co_x_an == ro_x_co_x_an2"
   ],
   "id": "d36d9472-7e1d-4855-bd77-572eef2b8874",
   "metadata": {},
   "execution_count": null
  }
 ],
 "nbformat_minor": 5,
 "metadata": {
  "language_info": {
   "file_extension": ".jl",
   "mimetype": "application/julia",
   "name": "julia",
   "version": "1.8.5"
  },
  "@webio": {
   "lastKernelId": null,
   "lastCommId": null
  },
  "kernelspec": {
   "name": "julia-1.8",
   "display_name": "Julia 1.8.5",
   "language": "julia"
  }
 },
 "nbformat": 4
}
