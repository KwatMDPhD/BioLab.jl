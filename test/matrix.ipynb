{
 "cells": [
  {
   "cell_type": "code",
   "execution_count": null,
   "id": "778d9ff9",
   "metadata": {
    "execution": {
     "iopub.execute_input": "2022-08-17T20:05:58.500000Z",
     "iopub.status.busy": "2022-08-17T20:05:58.159000Z",
     "iopub.status.idle": "2022-08-17T20:06:03.075000Z",
     "shell.execute_reply": "2022-08-17T20:06:03.030000Z"
    }
   },
   "outputs": [],
   "source": [
    "using OnePiece"
   ]
  },
  {
   "cell_type": "markdown",
   "id": "50e558c6",
   "metadata": {},
   "source": [
    "## convert"
   ]
  },
  {
   "cell_type": "code",
   "execution_count": null,
   "id": "b709060b",
   "metadata": {
    "execution": {
     "iopub.execute_input": "2022-08-17T20:06:03.655000Z",
     "iopub.status.busy": "2022-08-17T20:06:03.077000Z",
     "iopub.status.idle": "2022-08-17T20:06:04.845000Z",
     "shell.execute_reply": "2022-08-17T20:06:04.844000Z"
    }
   },
   "outputs": [],
   "source": [
    "OnePiece.matrix.convert([[1, 2, 3], [4, 5, 6]])"
   ]
  },
  {
   "cell_type": "code",
   "execution_count": null,
   "id": "c1039c12",
   "metadata": {
    "execution": {
     "iopub.execute_input": "2022-08-17T20:06:04.848000Z",
     "iopub.status.busy": "2022-08-17T20:06:04.848000Z",
     "iopub.status.idle": "2022-08-17T20:06:05.383000Z",
     "shell.execute_reply": "2022-08-17T20:06:05.383000Z"
    }
   },
   "outputs": [],
   "source": [
    "OnePiece.matrix.convert([[1.0, 2, 3], [4, 5, 6]])"
   ]
  }
 ],
 "metadata": {
  "@webio": {
   "lastCommId": null,
   "lastKernelId": null
  },
  "kernelspec": {
   "display_name": "Julia 1.7.3",
   "language": "julia",
   "name": "julia-1.7"
  },
  "language_info": {
   "file_extension": ".jl",
   "mimetype": "application/julia",
   "name": "julia",
   "version": "1.7.3"
  }
 },
 "nbformat": 4,
 "nbformat_minor": 5
}
