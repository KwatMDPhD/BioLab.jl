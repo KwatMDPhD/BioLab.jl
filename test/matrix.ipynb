{
 "cells": [
  {
   "cell_type": "code",
   "execution_count": null,
   "id": "778d9ff9",
   "metadata": {},
   "outputs": [],
   "source": [
    "using OnePiece"
   ]
  },
  {
   "cell_type": "markdown",
   "id": "50e558c6",
   "metadata": {},
   "source": [
    "## convert"
   ]
  },
  {
   "cell_type": "code",
   "execution_count": null,
   "id": "b709060b",
   "metadata": {},
   "outputs": [],
   "source": [
    "OnePiece.matrix.convert([[1, 2, 3], [4, 5, 6]])"
   ]
  },
  {
   "cell_type": "code",
   "execution_count": null,
   "id": "c1039c12",
   "metadata": {},
   "outputs": [],
   "source": [
    "OnePiece.matrix.convert([[1.0, 2, 3], [4, 5, 6]])"
   ]
  },
  {
   "cell_type": "markdown",
   "id": "e5e19dc3-1af9-472f-a9d8-b40030ac8b7c",
   "metadata": {},
   "source": [
    "## error_bad"
   ]
  },
  {
   "cell_type": "code",
   "execution_count": null,
   "id": "d0f58179-6142-43fa-9f40-f93f802d3bf4",
   "metadata": {},
   "outputs": [],
   "source": [
    "OnePiece.matrix.error_bad([\"a\" \"b\"; \"c\" \"d\"], String)"
   ]
  },
  {
   "cell_type": "code",
   "execution_count": null,
   "id": "ec14b662-2e02-430d-a26c-1fbfc1c1fe3c",
   "metadata": {},
   "outputs": [],
   "source": [
    "try\n",
    "\n",
    "    OnePiece.matrix.error_bad([\"\" \"b\"; \"c\" \"d\"], String)\n",
    "\n",
    "catch er\n",
    "\n",
    "    println(er)\n",
    "\n",
    "end"
   ]
  },
  {
   "cell_type": "code",
   "execution_count": null,
   "id": "670d0a60-5519-4e52-91a8-615a403b3516",
   "metadata": {},
   "outputs": [],
   "source": [
    "OnePiece.matrix.error_bad([1 2; 3 4], Real)"
   ]
  },
  {
   "cell_type": "code",
   "execution_count": null,
   "id": "1791f33c-63e8-4b7f-8cbb-78e95741bf80",
   "metadata": {},
   "outputs": [],
   "source": [
    "try\n",
    "\n",
    "    OnePiece.matrix.error_bad([Inf 2; 3 4], Real)\n",
    "\n",
    "catch er\n",
    "\n",
    "    println(er)\n",
    "\n",
    "end"
   ]
  },
  {
   "cell_type": "code",
   "execution_count": null,
   "id": "3c1d42a8-dcc6-428b-95be-b7782d0f54f2",
   "metadata": {},
   "outputs": [],
   "source": [
    "try\n",
    "\n",
    "    OnePiece.matrix.error_bad([-Inf 2; 3 4], Real)\n",
    "\n",
    "catch er\n",
    "\n",
    "    println(er)\n",
    "\n",
    "end"
   ]
  },
  {
   "cell_type": "code",
   "execution_count": null,
   "id": "9a5c0a46-50ea-482f-8407-c48a110b19ae",
   "metadata": {},
   "outputs": [],
   "source": [
    "try\n",
    "\n",
    "    OnePiece.matrix.error_bad([NaN 2; 3 4], Real)\n",
    "\n",
    "catch er\n",
    "\n",
    "    println(er)\n",
    "\n",
    "end"
   ]
  },
  {
   "cell_type": "markdown",
   "id": "01c16416-2982-4980-a941-317f6cbf557b",
   "metadata": {},
   "source": [
    "## simulate"
   ]
  },
  {
   "cell_type": "code",
   "execution_count": null,
   "id": "f82f9560-501d-403b-94d3-278e2f7049c6",
   "metadata": {},
   "outputs": [],
   "source": [
    "OnePiece.matrix.simulate(2, 3, ho = \"1:\")"
   ]
  },
  {
   "cell_type": "code",
   "execution_count": null,
   "id": "b9e8d716-185c-4088-89af-6cb43c5fee89",
   "metadata": {},
   "outputs": [],
   "source": [
    "OnePiece.matrix.simulate(2, 3, ho = \"rand\")"
   ]
  }
 ],
 "metadata": {
  "@webio": {
   "lastCommId": null,
   "lastKernelId": null
  },
  "kernelspec": {
   "display_name": "Julia 1.8.0",
   "language": "julia",
   "name": "julia-1.8"
  },
  "language_info": {
   "file_extension": ".jl",
   "mimetype": "application/julia",
   "name": "julia",
   "version": "1.8.0"
  }
 },
 "nbformat": 4,
 "nbformat_minor": 5
}
