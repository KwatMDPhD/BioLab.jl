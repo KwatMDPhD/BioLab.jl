{
 "cells": [
  {
   "cell_type": "code",
   "execution_count": null,
   "id": "778d9ff9",
   "metadata": {
    "execution": {
     "iopub.execute_input": "2022-08-25T17:20:18.446000Z",
     "iopub.status.busy": "2022-08-25T17:20:17.936000Z",
     "iopub.status.idle": "2022-08-25T17:20:25.304000Z",
     "shell.execute_reply": "2022-08-25T17:20:25.262000Z"
    }
   },
   "outputs": [],
   "source": [
    "using OnePiece"
   ]
  },
  {
   "cell_type": "markdown",
   "id": "50e558c6",
   "metadata": {},
   "source": [
    "## convert"
   ]
  },
  {
   "cell_type": "code",
   "execution_count": null,
   "id": "b709060b",
   "metadata": {
    "execution": {
     "iopub.execute_input": "2022-08-25T17:20:25.489000Z",
     "iopub.status.busy": "2022-08-25T17:20:25.306000Z",
     "iopub.status.idle": "2022-08-25T17:20:27.363000Z",
     "shell.execute_reply": "2022-08-25T17:20:27.363000Z"
    }
   },
   "outputs": [],
   "source": [
    "OnePiece.matrix.convert([[1, 2, 3], [4, 5, 6]])"
   ]
  },
  {
   "cell_type": "code",
   "execution_count": null,
   "id": "c1039c12",
   "metadata": {
    "execution": {
     "iopub.execute_input": "2022-08-25T17:20:27.366000Z",
     "iopub.status.busy": "2022-08-25T17:20:27.366000Z",
     "iopub.status.idle": "2022-08-25T17:20:27.856000Z",
     "shell.execute_reply": "2022-08-25T17:20:27.856000Z"
    }
   },
   "outputs": [],
   "source": [
    "OnePiece.matrix.convert([[1.0, 2, 3], [4, 5, 6]])"
   ]
  }
 ],
 "metadata": {
  "@webio": {
   "lastCommId": null,
   "lastKernelId": null
  },
  "kernelspec": {
   "display_name": "Julia 1.7.3",
   "language": "julia",
   "name": "julia-1.8"
  },
  "language_info": {
   "file_extension": ".jl",
   "mimetype": "application/julia",
   "name": "julia",
   "version": "1.8.0"
  }
 },
 "nbformat": 4,
 "nbformat_minor": 5
}
