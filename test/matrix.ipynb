{
 "cells": [
  {
   "cell_type": "code",
   "execution_count": 1,
   "id": "778d9ff9",
   "metadata": {
    "execution": {
     "iopub.execute_input": "2022-08-10T21:39:00.182000Z",
     "iopub.status.busy": "2022-08-10T21:38:59.851000Z",
     "iopub.status.idle": "2022-08-10T21:39:04.316000Z",
     "shell.execute_reply": "2022-08-10T21:39:04.270000Z"
    }
   },
   "outputs": [],
   "source": [
    "using OnePiece"
   ]
  },
  {
   "cell_type": "markdown",
   "id": "50e558c6",
   "metadata": {},
   "source": [
    "## convert"
   ]
  },
  {
   "cell_type": "code",
   "execution_count": 2,
   "id": "b709060b",
   "metadata": {
    "execution": {
     "iopub.execute_input": "2022-08-10T21:39:04.766000Z",
     "iopub.status.busy": "2022-08-10T21:39:04.319000Z",
     "iopub.status.idle": "2022-08-10T21:39:05.934000Z",
     "shell.execute_reply": "2022-08-10T21:39:05.934000Z"
    }
   },
   "outputs": [
    {
     "data": {
      "text/plain": [
       "1×2 Matrix{Vector{Int64}}:\n",
       " [1, 2, 3]  [4, 5, 6]"
      ]
     },
     "execution_count": 2,
     "metadata": {},
     "output_type": "execute_result"
    }
   ],
   "source": [
    "OnePiece.matrix.convert([[1, 2, 3], [4, 5, 6]])"
   ]
  },
  {
   "cell_type": "code",
   "execution_count": 3,
   "id": "c1039c12",
   "metadata": {
    "execution": {
     "iopub.execute_input": "2022-08-10T21:39:05.938000Z",
     "iopub.status.busy": "2022-08-10T21:39:05.938000Z",
     "iopub.status.idle": "2022-08-10T21:39:06.462000Z",
     "shell.execute_reply": "2022-08-10T21:39:06.461000Z"
    }
   },
   "outputs": [
    {
     "data": {
      "text/plain": [
       "1×2 Matrix{Vector{Float64}}:\n",
       " [1.0, 2.0, 3.0]  [4.0, 5.0, 6.0]"
      ]
     },
     "execution_count": 3,
     "metadata": {},
     "output_type": "execute_result"
    }
   ],
   "source": [
    "OnePiece.matrix.convert([[1.0, 2, 3], [4, 5, 6]])"
   ]
  }
 ],
 "metadata": {
  "@webio": {
   "lastCommId": null,
   "lastKernelId": null
  },
  "kernelspec": {
   "display_name": "Julia 1.7.3",
   "language": "julia",
   "name": "julia-1.7"
  },
  "language_info": {
   "file_extension": ".jl",
   "mimetype": "application/julia",
   "name": "julia",
   "version": "1.7.3"
  }
 },
 "nbformat": 4,
 "nbformat_minor": 5
}
