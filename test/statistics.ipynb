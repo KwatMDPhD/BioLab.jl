{
 "cells": [
  {
   "cell_type": "code",
   "execution_count": null,
   "id": "baf12f00",
   "metadata": {
    "execution": {
     "iopub.execute_input": "2022-08-17T20:08:32.099000Z",
     "iopub.status.busy": "2022-08-17T20:08:31.750000Z",
     "iopub.status.idle": "2022-08-17T20:08:36.810000Z",
     "shell.execute_reply": "2022-08-17T20:08:36.762000Z"
    }
   },
   "outputs": [],
   "source": [
    "using OnePiece"
   ]
  },
  {
   "cell_type": "markdown",
   "id": "271fc92d",
   "metadata": {},
   "source": [
    "## get_confidence_interval"
   ]
  },
  {
   "cell_type": "code",
   "execution_count": null,
   "id": "d3ecf358",
   "metadata": {
    "execution": {
     "iopub.execute_input": "2022-08-17T20:08:37.422000Z",
     "iopub.status.busy": "2022-08-17T20:08:36.827000Z",
     "iopub.status.idle": "2022-08-17T20:08:37.645000Z",
     "shell.execute_reply": "2022-08-17T20:08:37.645000Z"
    }
   },
   "outputs": [],
   "source": [
    "fr_ = (0.0, 0.001, 0.025, 0.05, 0.5, 0.95, 0.975, 0.999, 1)\n",
    "\n",
    "for co in fr_\n",
    "\n",
    "    println(co)\n",
    "\n",
    "    println(OnePiece.statistics.get_confidence_interval(co))\n",
    "\n",
    "end"
   ]
  },
  {
   "cell_type": "markdown",
   "id": "3e808f06",
   "metadata": {},
   "source": [
    "## get_z_score"
   ]
  },
  {
   "cell_type": "code",
   "execution_count": null,
   "id": "a20437ee",
   "metadata": {
    "execution": {
     "iopub.execute_input": "2022-08-17T20:08:37.650000Z",
     "iopub.status.busy": "2022-08-17T20:08:37.650000Z",
     "iopub.status.idle": "2022-08-17T20:08:37.666000Z",
     "shell.execute_reply": "2022-08-17T20:08:37.666000Z"
    }
   },
   "outputs": [],
   "source": [
    "fr_ = (0.0, 0.001, 0.025, 0.05, 0.5, 0.95, 0.975, 0.999, 1)\n",
    "\n",
    "for cu in fr_\n",
    "\n",
    "    println(cu)\n",
    "\n",
    "    println(OnePiece.statistics.get_z_score(cu))\n",
    "\n",
    "end"
   ]
  }
 ],
 "metadata": {
  "@webio": {
   "lastCommId": null,
   "lastKernelId": null
  },
  "kernelspec": {
   "display_name": "Julia 1.7.3",
   "language": "julia",
   "name": "julia-1.7"
  },
  "language_info": {
   "file_extension": ".jl",
   "mimetype": "application/julia",
   "name": "julia",
   "version": "1.7.3"
  }
 },
 "nbformat": 4,
 "nbformat_minor": 5
}
