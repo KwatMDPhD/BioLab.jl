{
 "cells": [
  {
   "cell_type": "code",
   "execution_count": null,
   "id": "baf12f00",
   "metadata": {
    "execution": {
     "iopub.execute_input": "2022-08-25T17:18:36.004000Z",
     "iopub.status.busy": "2022-08-25T17:18:35.509000Z",
     "iopub.status.idle": "2022-08-25T17:18:42.904000Z",
     "shell.execute_reply": "2022-08-25T17:18:42.862000Z"
    }
   },
   "outputs": [],
   "source": [
    "using OnePiece"
   ]
  },
  {
   "cell_type": "markdown",
   "id": "a1b4100b",
   "metadata": {},
   "source": [
    "## read"
   ]
  },
  {
   "cell_type": "code",
   "execution_count": null,
   "id": "00388202",
   "metadata": {
    "execution": {
     "iopub.execute_input": "2022-08-25T17:18:43.093000Z",
     "iopub.status.busy": "2022-08-25T17:18:42.906000Z",
     "iopub.status.idle": "2022-08-25T17:18:43.695000Z",
     "shell.execute_reply": "2022-08-25T17:18:43.695000Z"
    }
   },
   "outputs": [],
   "source": [
    "da = joinpath(@__DIR__, \"gmt.data\")\n",
    "\n",
    "gm = joinpath(da, \"h.all.v7.1.symbols.gmt\")"
   ]
  },
  {
   "cell_type": "code",
   "execution_count": null,
   "id": "2930b45f",
   "metadata": {
    "execution": {
     "iopub.execute_input": "2022-08-25T17:18:43.699000Z",
     "iopub.status.busy": "2022-08-25T17:18:43.698000Z",
     "iopub.status.idle": "2022-08-25T17:18:43.858000Z",
     "shell.execute_reply": "2022-08-25T17:18:43.857000Z"
    }
   },
   "outputs": [],
   "source": [
    "n_pa = 2"
   ]
  },
  {
   "cell_type": "code",
   "execution_count": null,
   "id": "7c317f9d",
   "metadata": {
    "execution": {
     "iopub.execute_input": "2022-08-25T17:18:43.860000Z",
     "iopub.status.busy": "2022-08-25T17:18:43.860000Z",
     "iopub.status.idle": "2022-08-25T17:18:44.201000Z",
     "shell.execute_reply": "2022-08-25T17:18:44.201000Z"
    }
   },
   "outputs": [],
   "source": [
    "OnePiece.dict.print(OnePiece.gmt.read(gm), n_pa = n_pa)"
   ]
  },
  {
   "cell_type": "code",
   "execution_count": null,
   "id": "05216e41",
   "metadata": {
    "execution": {
     "iopub.execute_input": "2022-08-25T17:18:44.206000Z",
     "iopub.status.busy": "2022-08-25T17:18:44.206000Z",
     "iopub.status.idle": "2022-08-25T17:18:44.308000Z",
     "shell.execute_reply": "2022-08-25T17:18:44.308000Z"
    }
   },
   "outputs": [],
   "source": [
    "OnePiece.dict.print(OnePiece.gmt.read((gm, joinpath(da, \"c2.all.v7.1.symbols.gmt\"))), n_pa = n_pa)"
   ]
  }
 ],
 "metadata": {
  "@webio": {
   "lastCommId": null,
   "lastKernelId": null
  },
  "kernelspec": {
   "display_name": "Julia 1.7.3",
   "language": "julia",
   "name": "julia-1.8"
  },
  "language_info": {
   "file_extension": ".jl",
   "mimetype": "application/julia",
   "name": "julia",
   "version": "1.8.0"
  }
 },
 "nbformat": 4,
 "nbformat_minor": 5
}
