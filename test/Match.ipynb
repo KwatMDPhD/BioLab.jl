{
 "cells": [
  {
   "outputs": [],
   "cell_type": "code",
   "source": [
    "include(\"_.jl\")"
   ],
   "id": "767a2fc7-3a00-4894-b916-4835ad0c5df1",
   "metadata": {},
   "execution_count": null
  },
  {
   "outputs": [],
   "cell_type": "code",
   "source": [
    "ta_ = [1.0, 2, 3]\n",
    "\n",
    "co_ = [\"Column $id\" for id in 1:3]\n",
    "\n",
    "da = BioLab.Matrix.simulate(10, 3, \"1.0:\")\n",
    "\n",
    "ht = \"\""
   ],
   "id": "fd89c341-10b8-41c5-9b8b-4ca7d4ad1eaf",
   "metadata": {},
   "execution_count": null
  },
  {
   "outputs": [],
   "cell_type": "code",
   "source": [
    "LAYOUT =\n",
    "    Dict(\"width\" => 800, \"margin\" => Dict(\"l\" => 200, \"r\" => 200), \"title\" => Dict(\"x\" => 0.5))\n",
    "\n",
    "ANNOTATION = Dict(\n",
    "    \"yref\" => \"paper\",\n",
    "    \"xref\" => \"paper\",\n",
    "    \"yanchor\" => \"middle\",\n",
    "    \"font\" => Dict(\"size\" => 10),\n",
    "    \"showarrow\" => false,\n",
    ")\n",
    "\n",
    "HEATMAP = Dict(\"type\" => \"heatmap\", \"showscale\" => false)"
   ],
   "id": "3527bb44-e639-4ee2-865d-ef27618cc1da",
   "metadata": {},
   "execution_count": null
  },
  {
   "outputs": [],
   "cell_type": "code",
   "source": [
    "n_co, n_ro = size(da)\n",
    "\n",
    "n_ro += 2\n",
    "\n",
    "he = 1 / n_ro\n",
    "\n",
    "layout = BioLab.Dict.merge(\n",
    "    LAYOUT,\n",
    "    Dict(\n",
    "        \"height\" => max(640, 24 * n_ro),\n",
    "        \"title\" => Dict(\"text\" => \"Match Panel\"),\n",
    "        \"yaxis2\" => Dict(\"domain\" => (1 - he, 1.0), \"showticklabels\" => false),\n",
    "        \"yaxis\" => Dict(\"domain\" => (0.0, 1 - he * 2), \"showticklabels\" => false),\n",
    "    ),\n",
    "    BioLab.Dict.set_with_last!,\n",
    ")\n",
    "\n",
    "data = [\n",
    "    BioLab.Dict.merge(\n",
    "        HEATMAP,\n",
    "        Dict(\n",
    "            \"yaxis\" => \"y2\",\n",
    "            \"z\" => [ta_],\n",
    "            \"text\" => tat_,\n",
    "            #\"zmin\"=> ,\n",
    "            #\"zmax\"=> ,\n",
    "            \"colorscale\" => BioLab.Plot.fractionate(BioLab.Plot.COPLA),\n",
    "        ),\n",
    "        BioLab.Dict.set_with_last!,\n",
    "    ),\n",
    "    BioLab.Dict.merge(\n",
    "        HEATMAP,\n",
    "        Dict(\n",
    "            \"yaxis\" => \"y\",\n",
    "            \"z\" => collect(eachrow(da)),\n",
    "            #\"text\" => ,\n",
    "            #\"zmin\"=> ,\n",
    "            #\"zmax\"=> ,\n",
    "            \"colorscale\" => BioLab.Plot.fractionate(BioLab.Plot.COPLA),\n",
    "        ),\n",
    "        BioLab.Dict.set_with_last!,\n",
    "    ),\n",
    "]\n",
    "\n",
    "BioLab.Plot.plot(data, layout; ht)"
   ],
   "id": "372a7a0f-d5d7-4403-bc7f-a21cbb1a44e6",
   "metadata": {},
   "execution_count": null
  }
 ],
 "nbformat_minor": 5,
 "metadata": {
  "language_info": {
   "file_extension": ".jl",
   "mimetype": "application/julia",
   "name": "julia",
   "version": "1.8.5"
  },
  "kernelspec": {
   "name": "julia-1.8",
   "display_name": "Julia 1.8.5",
   "language": "julia"
  }
 },
 "nbformat": 4
}
