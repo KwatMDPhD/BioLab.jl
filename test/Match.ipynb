{
 "cells": [
  {
   "outputs": [],
   "cell_type": "code",
   "source": [
    "nu_ = [2, 4, 6, 5, 3, 1]\n",
    "\n",
    "function get_extreme_id(nu_, n)\n",
    "\n",
    "    return sortperm(nu_)[[1:n..., (end - n + 1):end...]]\n",
    "\n",
    "end\n",
    "\n",
    "for n in 0:(length(nu_) + 1)\n",
    "\n",
    "    println(nu_[get_extreme_id(nu_, n)])\n",
    "\n",
    "end"
   ],
   "id": "e9222532-1a7d-4ffa-822d-ddfbedecbc12",
   "metadata": {},
   "execution_count": null
  },
  {
   "outputs": [],
   "cell_type": "code",
   "source": [
    "kkinclude(\"_.jl\")\n",
    "\n",
    "te = BioLab.Path.make_temporary(\"BioLab.Match.test\")\n",
    "\n",
    "function make_benchmark(n_ro, n_co)\n",
    "\n",
    "    nat = \"Target Name\"\n",
    "\n",
    "    co_ = [\"Column $id\" for id in 1:n_co]\n",
    "\n",
    "    ta = collect(1.0:n_co)\n",
    "\n",
    "    ro_ = [\"Row $id\" for id in 1:n_ro]\n",
    "\n",
    "    da = BioLab.Matrix.simulate(n_ro, n_co, \"1.0:\")\n",
    "\n",
    "    st = rand(n_ro, 4)\n",
    "\n",
    "    nat, co_, ta, ro_, da, st\n",
    "\n",
    "end"
   ],
   "id": "e5f016ec-bf25-48df-97f6-3880934943bc",
   "metadata": {},
   "execution_count": null
  },
  {
   "outputs": [],
   "cell_type": "code",
   "source": [
    "for (n_ro, n_co) in ((2, 2), (4, 4), (8, 8), (16, 16), (80, 80), (1000, 4), (4, 1000))\n",
    "\n",
    "    nat, co_, ta, ro_, da, st = make_benchmark(n_ro, n_co)\n",
    "\n",
    "    ti = \"$(n_ro) x $(n_co)\"\n",
    "\n",
    "    BioLab.Match.make(\n",
    "        nat,\n",
    "        co_,\n",
    "        ta,\n",
    "        ro_,\n",
    "        da,\n",
    "        st;\n",
    "        layout = Dict(\"title\" => Dict(\"text\" => ti)),\n",
    "        ht = joinpath(te, \"$(BioLab.Path.clean(ti)).html\"),\n",
    "    )\n",
    "\n",
    "end"
   ],
   "id": "fd89c341-10b8-41c5-9b8b-4ca7d4ad1eaf",
   "metadata": {},
   "execution_count": null
  },
  {
   "outputs": [],
   "cell_type": "code",
   "source": [
    "for (n_ro, n_co) in ((8, 8),)\n",
    "\n",
    "    for ic in (true, false)\n",
    "\n",
    "        nat, co_, ta, ro_, da, st = make_benchmark(n_ro, n_co)\n",
    "\n",
    "        BioLab.Match.make(nat, co_, ta, ro_, da, st; ic)\n",
    "\n",
    "    end\n",
    "\n",
    "end"
   ],
   "id": "da9d7da7-07c6-431b-83c9-1765530b2768",
   "metadata": {},
   "execution_count": null
  }
 ],
 "nbformat_minor": 5,
 "metadata": {
  "language_info": {
   "file_extension": ".jl",
   "mimetype": "application/julia",
   "name": "julia",
   "version": "1.8.5"
  },
  "kernelspec": {
   "name": "julia-1.8",
   "display_name": "Julia 1.8.5",
   "language": "julia"
  }
 },
 "nbformat": 4
}
