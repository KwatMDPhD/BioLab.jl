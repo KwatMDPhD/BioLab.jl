{
 "cells": [
  {
   "outputs": [],
   "cell_type": "code",
   "source": [
    "include(\"_.jl\")\n",
    "\n",
    "te = BioLab.Path.make_temporary(\"BioLab.Match.test\")"
   ],
   "id": "767a2fc7-3a00-4894-b916-4835ad0c5df1",
   "metadata": {},
   "execution_count": null
  },
  {
   "outputs": [],
   "cell_type": "code",
   "source": [
    "nat = \"Target Name\"\n",
    "\n",
    "for (n_ro, n_co) in ((2, 4), (8, 8), (80, 80))\n",
    "\n",
    "    co_ = [\"Column $id\" for id in 1:n_co]\n",
    "\n",
    "    ta = collect(1.0:n_co)\n",
    "\n",
    "    ro_ = [\"Row $id\" for id in 1:n_ro]\n",
    "\n",
    "    da = BioLab.Matrix.simulate(n_ro, n_co, \"1.0:\")\n",
    "\n",
    "    st = rand(n_ro, 4)\n",
    "\n",
    "    BioLab.Match.make(nat, co_, ta, ro_, da, st; ht = joinpath(te, \"$(n_ro)_x_$(n_co).html\"))\n",
    "\n",
    "end"
   ],
   "id": "fd89c341-10b8-41c5-9b8b-4ca7d4ad1eaf",
   "metadata": {},
   "execution_count": null
  }
 ],
 "nbformat_minor": 5,
 "metadata": {
  "language_info": {
   "file_extension": ".jl",
   "mimetype": "application/julia",
   "name": "julia",
   "version": "1.8.5"
  },
  "kernelspec": {
   "name": "julia-1.8",
   "display_name": "Julia 1.8.5",
   "language": "julia"
  }
 },
 "nbformat": 4
}
