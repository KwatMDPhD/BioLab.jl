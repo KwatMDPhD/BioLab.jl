{
 "cells": [
  {
   "outputs": [],
   "cell_type": "code",
   "source": [
    "include(\"_.jl\")\n",
    "\n",
    "te = BioLab.Path.make_temporary(\"BioLab.Match.tefu\")\n",
    "\n",
    "function make_benchmark(n_ro, n_co)\n",
    "\n",
    "    nat = \"Target Name\"\n",
    "\n",
    "    co_ = [\"Column $id\" for id in 1:n_co]\n",
    "\n",
    "    ta = collect(1.0:n_co)\n",
    "\n",
    "    nar = \"Feature\"\n",
    "\n",
    "    ro_ = [\"Row $id\" for id in 1:n_ro]\n",
    "\n",
    "    da = BioLab.Matrix.simulate(n_ro, n_co, \"1.0:\")\n",
    "\n",
    "    fu = rand(n_ro, 4)\n",
    "\n",
    "    nat, co_, ta, nar, ro_, da, fu\n",
    "\n",
    "end"
   ],
   "id": "e5f016ec-bf25-48df-97f6-3880934943bc",
   "metadata": {},
   "execution_count": null
  },
  {
   "outputs": [],
   "cell_type": "code",
   "source": [
    "n_ro = 2\n",
    "\n",
    "n_co = 4\n",
    "\n",
    "for ic in (true, false)\n",
    "\n",
    "    nat, co_, ta, nar, ro_, da, fu = make_benchmark(n_ro, n_co)\n",
    "\n",
    "    layout = Dict(\"title\" => Dict(\"text\" => \"$(ifelse(ic, \"Increasing\", \"Decreasing\")) Target\"))\n",
    "\n",
    "    BioLab.Match.make(nat, co_, ta, nar, ro_, da, fu; ic, layout)\n",
    "\n",
    "end"
   ],
   "id": "da9d7da7-07c6-431b-83c9-1765530b2768",
   "metadata": {},
   "execution_count": null
  },
  {
   "outputs": [],
   "cell_type": "code",
   "source": [
    "n_ro = 5\n",
    "\n",
    "n_co = 2\n",
    "\n",
    "for n_ex in 0:(n_ro + 1)\n",
    "\n",
    "    nat, co_, ta, nar, ro_, da, fu = make_benchmark(n_ro, n_co)\n",
    "\n",
    "    layout = Dict(\"title\" => Dict(\"text\" => BioLab.String.count_noun(n_ex, \"Extreme\")))\n",
    "\n",
    "    BioLab.Match.make(nat, co_, ta, nar, ro_, da, fu; n_ex, layout)\n",
    "\n",
    "end"
   ],
   "id": "fe8502fe-0e0d-4406-882b-d6439cbcea96",
   "metadata": {},
   "execution_count": null
  },
  {
   "outputs": [],
   "cell_type": "code",
   "source": [
    "n_ro = 2\n",
    "\n",
    "n_co = 4\n",
    "\n",
    "for st in (0, 0.1, 1, 2, 4)\n",
    "\n",
    "    nat, co_, ta, nar, ro_, da, fu = make_benchmark(n_ro, n_co)\n",
    "\n",
    "    layout = Dict(\"title\" => Dict(\"text\" => BioLab.String.count_noun(st, \"Standard Deviation\")))\n",
    "\n",
    "    BioLab.Match.make(nat, co_, ta, nar, ro_, da, fu; st, layout)\n",
    "\n",
    "end"
   ],
   "id": "9da54aa6-992b-4927-8b6f-c913076b935e",
   "metadata": {},
   "execution_count": null
  },
  {
   "outputs": [],
   "cell_type": "code",
   "source": [
    "n_ro = 2\n",
    "\n",
    "n_co = 4\n",
    "\n",
    "nat, co_, ta, nar, ro_, da, fu = make_benchmark(n_ro, n_co)\n",
    "\n",
    "tai = convert(Vector{Int}, ta)\n",
    "\n",
    "dai = convert(Matrix{Int}, da)\n",
    "\n",
    "BioLab.Match.make(nat, co_, ta, nar, ro_, da, fu)\n",
    "\n",
    "BioLab.Match.make(nat, co_, tai, nar, ro_, da, fu)\n",
    "\n",
    "BioLab.Match.make(nat, co_, ta, nar, ro_, dai, fu)\n",
    "\n",
    "BioLab.Match.make(nat, co_, tai, nar, ro_, dai, fu)"
   ],
   "id": "ce67a255-7f02-4e17-a16e-9a463c248571",
   "metadata": {},
   "execution_count": null
  },
  {
   "outputs": [],
   "cell_type": "code",
   "source": [
    "for (n_ro, n_co) in ((2, 2), (4, 4), (8, 8), (16, 16), (80, 80), (1000, 4), (4, 1000))\n",
    "\n",
    "    nat, co_, ta, nar, ro_, da, fu = make_benchmark(n_ro, n_co)\n",
    "\n",
    "    ti = \"$(n_ro) x $(n_co)\"\n",
    "\n",
    "    layout = Dict(\"title\" => Dict(\"text\" => ti))\n",
    "\n",
    "    BioLab.Match.make(\n",
    "        nat,\n",
    "        co_,\n",
    "        ta,\n",
    "        nar,\n",
    "        ro_,\n",
    "        da,\n",
    "        fu;\n",
    "        layout,\n",
    "        ht = joinpath(te, \"$(BioLab.Path.clean(ti)).html\"),\n",
    "    )\n",
    "\n",
    "end"
   ],
   "id": "fd89c341-10b8-41c5-9b8b-4ca7d4ad1eaf",
   "metadata": {},
   "execution_count": null
  }
 ],
 "nbformat_minor": 5,
 "metadata": {
  "language_info": {
   "file_extension": ".jl",
   "mimetype": "application/julia",
   "name": "julia",
   "version": "1.8.5"
  },
  "kernelspec": {
   "name": "julia-1.8",
   "display_name": "Julia 1.8.5",
   "language": "julia"
  }
 },
 "nbformat": 4
}
