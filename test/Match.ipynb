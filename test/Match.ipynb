{
 "cells": [
  {
   "outputs": [],
   "cell_type": "code",
   "source": [
    "include(\"_.jl\")\n",
    "\n",
    "te = BioLab.Path.make_temporary(\"BioLab.Match.test\")\n",
    "\n",
    "using Statistics\n",
    "\n",
    "fu = cor\n",
    "\n",
    "function benchmark(n_fe, n_sa, ho)\n",
    "\n",
    "    tan = \"Target\"\n",
    "\n",
    "    fen = \"Feature\"\n",
    "\n",
    "    fe_ = [\"Feature $id\" for id in 1:n_fe]\n",
    "\n",
    "    sa_ = [\"Sample $id\" for id in 1:n_sa]\n",
    "\n",
    "    if ho == \"1.0:\"\n",
    "\n",
    "        ta_ = collect(1.0:n_sa)\n",
    "\n",
    "    elseif ho == \"randn\"\n",
    "\n",
    "        ta_ = randn(n_sa)\n",
    "\n",
    "    else\n",
    "\n",
    "        error()\n",
    "\n",
    "    end\n",
    "\n",
    "    fe_x_sa_x_nu = BioLab.Matrix.simulate(n_fe, n_sa, ho; re = 1)\n",
    "\n",
    "    return tan, fen, fe_, sa_, ta_, fe_x_sa_x_nu\n",
    "\n",
    "end"
   ],
   "id": "229136f6-4523-4406-bd65-e0a25396a70c",
   "metadata": {},
   "execution_count": null
  },
  {
   "outputs": [],
   "cell_type": "code",
   "source": [
    "n_fe, n_sa = (2, 4)\n",
    "\n",
    "for ic in (true, false)\n",
    "\n",
    "    tan, fen, fe_, sa_, ta_, fe_x_sa_x_nu = benchmark(n_fe, n_sa, \"1.0:\")\n",
    "\n",
    "    layout = Dict(\"title\" => Dict(\"text\" => \"$(ifelse(ic, \"Increasing\", \"Decreasing\")) Target\"))\n",
    "\n",
    "    BioLab.Match.make(fu, tan, fen, fe_, sa_, ta_, fe_x_sa_x_nu; ic, layout)\n",
    "\n",
    "end"
   ],
   "id": "da9d7da7-07c6-431b-83c9-1765530b2768",
   "metadata": {},
   "execution_count": null
  },
  {
   "outputs": [],
   "cell_type": "code",
   "source": [
    "n_fe, n_sa = (1000, 100)\n",
    "\n",
    "tan, fen, fe_, sa_, ta_, fe_x_sa_x_nu = benchmark(n_fe, n_sa, \"randn\")\n",
    "\n",
    "for (n_ma, n_pv) in ((0, 10), (10, 0), (0, 0), (10, 10), (100, 100))\n",
    "\n",
    "    layout = Dict(\"title\" => Dict(\"text\" => \"$n_ma & $n_pv\"))\n",
    "\n",
    "    fe_x_st_x_nu = BioLab.Match.make(fu, tan, fen, fe_, sa_, ta_, fe_x_sa_x_nu; n_ma, n_pv, layout)\n",
    "\n",
    "    display(sort(fe_x_st_x_nu, \"Score\"; rev = true))\n",
    "\n",
    "end"
   ],
   "id": "23d95c75-fc09-4355-a952-9c708ce2559b",
   "metadata": {},
   "execution_count": null
  },
  {
   "outputs": [],
   "cell_type": "code",
   "source": [
    "n_fe, n_sa = (5, 2)\n",
    "\n",
    "for n_ex in 0:(n_fe + 1)\n",
    "\n",
    "    tan, fen, fe_, sa_, ta_, fe_x_sa_x_nu = benchmark(n_fe, n_sa, \"1.0:\")\n",
    "\n",
    "    layout = Dict(\"title\" => Dict(\"text\" => BioLab.String.count_noun(n_ex, \"Extreme\")))\n",
    "\n",
    "    BioLab.Match.make(fu, tan, fen, fe_, sa_, ta_, fe_x_sa_x_nu; n_ex, layout)\n",
    "\n",
    "end"
   ],
   "id": "fe8502fe-0e0d-4406-882b-d6439cbcea96",
   "metadata": {},
   "execution_count": null
  },
  {
   "outputs": [],
   "cell_type": "code",
   "source": [
    "n_fe, n_sa = (2, 4)\n",
    "\n",
    "tan, fen, fe_, sa_, ta_, fe_x_sa_x_nu = benchmark(n_fe, n_sa, \"1.0:\")\n",
    "\n",
    "tai_ = convert(Vector{Int}, ta_)\n",
    "\n",
    "fe_x_sa_x_in = convert(Matrix{Int}, fe_x_sa_x_nu)\n",
    "\n",
    "for (ta_, fe_x_sa_x_nu, title_text) in (\n",
    "    (ta_, fe_x_sa_x_nu, \"Float x Float\"),\n",
    "    (tai_, fe_x_sa_x_nu, \"Int x Float\"),\n",
    "    (ta_, fe_x_sa_x_in, \"Float x Int\"),\n",
    "    (tai_, fe_x_sa_x_in, \"Int x Int\"),\n",
    ")\n",
    "\n",
    "    layout = Dict(\"title\" => Dict(\"text\" => title_text))\n",
    "\n",
    "    BioLab.Match.make(fu, tan, fen, fe_, sa_, ta_, fe_x_sa_x_nu; layout)\n",
    "\n",
    "end"
   ],
   "id": "ce67a255-7f02-4e17-a16e-9a463c248571",
   "metadata": {},
   "execution_count": null
  },
  {
   "outputs": [],
   "cell_type": "code",
   "source": [
    "n_fe, n_sa = (2, 4)\n",
    "\n",
    "for st in (0, 0.1, 1, 2, 4, 8)\n",
    "\n",
    "    tan, fen, fe_, sa_, ta_, fe_x_sa_x_nu = benchmark(n_fe, n_sa, \"randn\")\n",
    "\n",
    "    layout = Dict(\"title\" => Dict(\"text\" => BioLab.String.count_noun(st, \"Standard Deviation\")))\n",
    "\n",
    "    BioLab.Match.make(fu, tan, fen, fe_, sa_, ta_, fe_x_sa_x_nu; st, layout)\n",
    "\n",
    "end"
   ],
   "id": "9da54aa6-992b-4927-8b6f-c913076b935e",
   "metadata": {},
   "execution_count": null
  },
  {
   "outputs": [],
   "cell_type": "code",
   "source": [
    "for (n_fe, n_sa) in ((2, 2), (4, 4), (8, 8), (16, 16), (80, 80), (1000, 4), (4, 1000))\n",
    "\n",
    "    tan, fen, fe_, sa_, ta_, fe_x_sa_x_nu = benchmark(n_fe, n_sa, \"randn\")\n",
    "\n",
    "    ti = \"$(n_fe) x $(n_sa)\"\n",
    "\n",
    "    layout = Dict(\"title\" => Dict(\"text\" => ti))\n",
    "\n",
    "    di = te\n",
    "\n",
    "    BioLab.Match.make(fu, tan, fen, fe_, sa_, ta_, fe_x_sa_x_nu; layout, di)\n",
    "\n",
    "end"
   ],
   "id": "fd89c341-10b8-41c5-9b8b-4ca7d4ad1eaf",
   "metadata": {},
   "execution_count": null
  }
 ],
 "nbformat_minor": 5,
 "metadata": {
  "language_info": {
   "file_extension": ".jl",
   "mimetype": "application/julia",
   "name": "julia",
   "version": "1.8.5"
  },
  "kernelspec": {
   "name": "julia-1.8",
   "display_name": "Julia 1.8.5",
   "language": "julia"
  }
 },
 "nbformat": 4
}
