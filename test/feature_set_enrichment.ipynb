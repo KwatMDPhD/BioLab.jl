{
 "cells": [
  {
   "cell_type": "code",
   "execution_count": null,
   "id": "017464da",
   "metadata": {
    "execution": {
     "iopub.execute_input": "2022-02-13T05:36:42.577539Z",
     "iopub.status.busy": "2022-02-13T05:36:42.248333Z",
     "iopub.status.idle": "2022-02-13T05:36:42.757387Z",
     "shell.execute_reply": "2022-02-13T05:36:42.756890Z"
    }
   },
   "outputs": [],
   "source": [
    "TE = joinpath(tempdir(), \"OnePiece.test\")\n",
    "\n",
    "if isdir(TE)\n",
    "\n",
    "    rm(TE, recursive = true)\n",
    "\n",
    "    println(\"Removed \", TE, \".\")\n",
    "\n",
    "end\n",
    "\n",
    "mkdir(TE)\n",
    "\n",
    "println(\"Made \", TE, \".\")"
   ]
  },
  {
   "cell_type": "code",
   "execution_count": null,
   "id": "34e4701e",
   "metadata": {
    "execution": {
     "iopub.execute_input": "2022-02-13T05:36:42.759311Z",
     "iopub.status.busy": "2022-02-13T05:36:42.758700Z",
     "iopub.status.idle": "2022-02-13T05:36:46.817979Z",
     "shell.execute_reply": "2022-02-13T05:36:46.817519Z"
    }
   },
   "outputs": [],
   "source": [
    "using OnePiece"
   ]
  },
  {
   "cell_type": "markdown",
   "id": "b92a3da9",
   "metadata": {},
   "source": [
    "---"
   ]
  },
  {
   "cell_type": "markdown",
   "id": "ccdb8b26",
   "metadata": {},
   "source": [
    "## get_probability_and_cumulate"
   ]
  },
  {
   "cell_type": "code",
   "execution_count": null,
   "id": "1ba5422d",
   "metadata": {
    "execution": {
     "iopub.execute_input": "2022-02-13T05:36:47.117599Z",
     "iopub.status.busy": "2022-02-13T05:36:46.819348Z",
     "iopub.status.idle": "2022-02-13T05:36:47.817610Z",
     "shell.execute_reply": "2022-02-13T05:36:47.817220Z"
    }
   },
   "outputs": [],
   "source": [
    "OnePiece.feature_set_enrichment.get_probability_and_cumulate([1, 4])"
   ]
  },
  {
   "cell_type": "markdown",
   "id": "f009ac6a",
   "metadata": {},
   "source": [
    "## sum_1_absolute_and_0_count"
   ]
  },
  {
   "cell_type": "code",
   "execution_count": null,
   "id": "6ea9fb15",
   "metadata": {
    "execution": {
     "iopub.execute_input": "2022-02-13T05:36:47.819776Z",
     "iopub.status.busy": "2022-02-13T05:36:47.819177Z",
     "iopub.status.idle": "2022-02-13T05:36:48.096344Z",
     "shell.execute_reply": "2022-02-13T05:36:48.095947Z"
    }
   },
   "outputs": [],
   "source": [
    "OnePiece.feature_set_enrichment.sum_1_absolute_and_0_count(\n",
    "    [-2.0, -1, 0, 1, 2],\n",
    "    convert(Vector{Bool}, [1, 1, 0, 0, 1]),\n",
    ")"
   ]
  },
  {
   "cell_type": "markdown",
   "id": "8a6e1061",
   "metadata": {},
   "source": [
    "## make_benchmark"
   ]
  },
  {
   "cell_type": "code",
   "execution_count": null,
   "id": "4c20ec75",
   "metadata": {
    "execution": {
     "iopub.execute_input": "2022-02-13T05:36:48.098434Z",
     "iopub.status.busy": "2022-02-13T05:36:48.097865Z",
     "iopub.status.idle": "2022-02-13T05:36:54.793600Z",
     "shell.execute_reply": "2022-02-13T05:36:54.793214Z"
    }
   },
   "outputs": [],
   "source": [
    "try\n",
    "\n",
    "    OnePiece.feature_set_enrichment.make_benchmark(\"card 12K\")\n",
    "\n",
    "catch er\n",
    "\n",
    "    er\n",
    "\n",
    "end"
   ]
  },
  {
   "cell_type": "code",
   "execution_count": null,
   "id": "68aeeb9b",
   "metadata": {
    "execution": {
     "iopub.execute_input": "2022-02-13T05:36:54.795415Z",
     "iopub.status.busy": "2022-02-13T05:36:54.794891Z",
     "iopub.status.idle": "2022-02-13T05:36:55.185147Z",
     "shell.execute_reply": "2022-02-13T05:36:55.184761Z"
    }
   },
   "outputs": [],
   "source": [
    "OnePiece.feature_set_enrichment.make_benchmark(\"card A2K\")"
   ]
  },
  {
   "cell_type": "code",
   "execution_count": null,
   "id": "a93d4ce0",
   "metadata": {
    "execution": {
     "iopub.execute_input": "2022-02-13T05:36:55.187030Z",
     "iopub.status.busy": "2022-02-13T05:36:55.186539Z",
     "iopub.status.idle": "2022-02-13T05:36:55.514364Z",
     "shell.execute_reply": "2022-02-13T05:36:55.513977Z"
    }
   },
   "outputs": [],
   "source": [
    "OnePiece.feature_set_enrichment.make_benchmark(\"random 3 2\")"
   ]
  },
  {
   "cell_type": "code",
   "execution_count": null,
   "id": "a0f3bce7",
   "metadata": {
    "execution": {
     "iopub.execute_input": "2022-02-13T05:36:55.516923Z",
     "iopub.status.busy": "2022-02-13T05:36:55.515828Z",
     "iopub.status.idle": "2022-02-13T05:36:55.518629Z",
     "shell.execute_reply": "2022-02-13T05:36:55.517437Z"
    }
   },
   "outputs": [],
   "source": [
    "OnePiece.feature_set_enrichment.make_benchmark(\"random 4 2\")"
   ]
  },
  {
   "cell_type": "code",
   "execution_count": null,
   "id": "86bfbc58",
   "metadata": {
    "execution": {
     "iopub.execute_input": "2022-02-13T05:36:55.520401Z",
     "iopub.status.busy": "2022-02-13T05:36:55.519918Z",
     "iopub.status.idle": "2022-02-13T05:37:06.060086Z",
     "shell.execute_reply": "2022-02-13T05:37:06.059635Z"
    }
   },
   "outputs": [],
   "source": [
    "fe_, sc_, fe1_ = OnePiece.feature_set_enrichment.make_benchmark(\"myc\")\n",
    "\n",
    "println(length(fe_))\n",
    "\n",
    "println(length(sc_))\n",
    "\n",
    "println(length(fe1_))"
   ]
  },
  {
   "cell_type": "markdown",
   "id": "337971f7",
   "metadata": {},
   "source": [
    "## plot_mountain"
   ]
  },
  {
   "cell_type": "code",
   "execution_count": null,
   "id": "e74b541b",
   "metadata": {
    "execution": {
     "iopub.execute_input": "2022-02-13T05:37:06.062339Z",
     "iopub.status.busy": "2022-02-13T05:37:06.061611Z",
     "iopub.status.idle": "2022-02-13T05:37:06.062930Z",
     "shell.execute_reply": "2022-02-13T05:37:06.063274Z"
    }
   },
   "outputs": [],
   "source": [
    "fe_, sc_, fe1_ = OnePiece.feature_set_enrichment.make_benchmark(\"card AK\")\n",
    "\n",
    ";"
   ]
  },
  {
   "cell_type": "code",
   "execution_count": null,
   "id": "58f279e2",
   "metadata": {
    "execution": {
     "iopub.execute_input": "2022-02-13T05:37:06.065052Z",
     "iopub.status.busy": "2022-02-13T05:37:06.064555Z",
     "iopub.status.idle": "2022-02-13T05:37:08.781886Z",
     "shell.execute_reply": "2022-02-13T05:37:08.781432Z"
    }
   },
   "outputs": [],
   "source": [
    "OnePiece.feature_set_enrichment.score_set(fe_, sc_, fe1_, ou = joinpath(TE, \"mountain.html\"))"
   ]
  },
  {
   "cell_type": "code",
   "execution_count": null,
   "id": "517bc174",
   "metadata": {
    "execution": {
     "iopub.execute_input": "2022-02-13T05:37:08.783841Z",
     "iopub.status.busy": "2022-02-13T05:37:08.783257Z",
     "iopub.status.idle": "2022-02-13T05:37:09.608447Z",
     "shell.execute_reply": "2022-02-13T05:37:09.608922Z"
    }
   },
   "outputs": [],
   "source": [
    "OnePiece.feature_set_enrichment.score_set_new(\n",
    "    fe_,\n",
    "    sc_,\n",
    "    fe1_,\n",
    "    ou = joinpath(TE, \"mountain_new.html\"),\n",
    ")"
   ]
  },
  {
   "cell_type": "markdown",
   "id": "b2ede5e5",
   "metadata": {},
   "source": [
    "## score_set*"
   ]
  },
  {
   "cell_type": "code",
   "execution_count": null,
   "id": "bfe544b8",
   "metadata": {
    "execution": {
     "iopub.execute_input": "2022-02-13T05:37:09.610916Z",
     "iopub.status.busy": "2022-02-13T05:37:09.610337Z",
     "iopub.status.idle": "2022-02-13T05:37:09.612649Z",
     "shell.execute_reply": "2022-02-13T05:37:09.612064Z"
    }
   },
   "outputs": [],
   "source": [
    "using DataFrames"
   ]
  },
  {
   "cell_type": "code",
   "execution_count": null,
   "id": "ee5aff03",
   "metadata": {
    "execution": {
     "iopub.execute_input": "2022-02-13T05:37:09.614656Z",
     "iopub.status.busy": "2022-02-13T05:37:09.614066Z",
     "iopub.status.idle": "2022-02-13T05:37:09.977425Z",
     "shell.execute_reply": "2022-02-13T05:37:09.976916Z"
    }
   },
   "outputs": [],
   "source": [
    "fe_, sc_, fe1_ = OnePiece.feature_set_enrichment.make_benchmark(\"myc\")\n",
    "\n",
    "in_ = OnePiece.extension.vector.is_in(fe_, fe1_)\n",
    "\n",
    "sc_fe_sa = DataFrame(\n",
    "    \"Feature\" => fe_,\n",
    "    \"Score\" => sc_,\n",
    "    \"Score x 10\" => sc_ * 10,\n",
    "    \"Constant\" => fill(0.8, length(fe_)),\n",
    ")\n",
    "\n",
    "se_fe_ = OnePiece.io.gmt.read(\n",
    "    joinpath(@__DIR__, \"feature_set_enrichment.data\", \"h.all.v7.1.symbols.gmt\"),\n",
    ")\n",
    "\n",
    ";"
   ]
  },
  {
   "cell_type": "markdown",
   "id": "b3cd3ef2",
   "metadata": {},
   "source": [
    "### score_set"
   ]
  },
  {
   "cell_type": "code",
   "execution_count": null,
   "id": "871350b7",
   "metadata": {
    "execution": {
     "iopub.execute_input": "2022-02-13T05:37:09.979437Z",
     "iopub.status.busy": "2022-02-13T05:37:09.978795Z",
     "iopub.status.idle": "2022-02-13T05:37:10.039859Z",
     "shell.execute_reply": "2022-02-13T05:37:10.039408Z"
    }
   },
   "outputs": [],
   "source": [
    "OnePiece.feature_set_enrichment.score_set(fe_, sc_, fe1_, in_)"
   ]
  },
  {
   "cell_type": "code",
   "execution_count": null,
   "id": "f1d3072c",
   "metadata": {
    "execution": {
     "iopub.execute_input": "2022-02-13T05:37:10.043615Z",
     "iopub.status.busy": "2022-02-13T05:37:10.043044Z",
     "iopub.status.idle": "2022-02-13T05:37:10.092719Z",
     "shell.execute_reply": "2022-02-13T05:37:10.092232Z"
    }
   },
   "outputs": [],
   "source": [
    "OnePiece.feature_set_enrichment.score_set(fe_, sc_, fe1_)"
   ]
  },
  {
   "cell_type": "code",
   "execution_count": null,
   "id": "3e380333",
   "metadata": {
    "execution": {
     "iopub.execute_input": "2022-02-13T05:37:10.097633Z",
     "iopub.status.busy": "2022-02-13T05:37:10.096666Z",
     "iopub.status.idle": "2022-02-13T05:37:11.610499Z",
     "shell.execute_reply": "2022-02-13T05:37:11.610035Z"
    }
   },
   "outputs": [],
   "source": [
    "OnePiece.feature_set_enrichment.score_set(fe_, sc_, se_fe_)"
   ]
  },
  {
   "cell_type": "code",
   "execution_count": null,
   "id": "f31c3a45",
   "metadata": {
    "execution": {
     "iopub.execute_input": "2022-02-13T05:37:11.612375Z",
     "iopub.status.busy": "2022-02-13T05:37:11.611801Z",
     "iopub.status.idle": "2022-02-13T05:37:15.784769Z",
     "shell.execute_reply": "2022-02-13T05:37:15.784247Z"
    }
   },
   "outputs": [],
   "source": [
    "OnePiece.feature_set_enrichment.score_set(sc_fe_sa, se_fe_)"
   ]
  },
  {
   "cell_type": "markdown",
   "id": "b955b922",
   "metadata": {},
   "source": [
    "### score_set_new"
   ]
  },
  {
   "cell_type": "code",
   "execution_count": null,
   "id": "dc2fb2d2",
   "metadata": {
    "execution": {
     "iopub.execute_input": "2022-02-13T05:37:15.786714Z",
     "iopub.status.busy": "2022-02-13T05:37:15.786147Z",
     "iopub.status.idle": "2022-02-13T05:37:15.908523Z",
     "shell.execute_reply": "2022-02-13T05:37:15.908079Z"
    }
   },
   "outputs": [],
   "source": [
    "OnePiece.feature_set_enrichment.score_set_new(fe_, sc_, fe1_)"
   ]
  },
  {
   "cell_type": "code",
   "execution_count": null,
   "id": "a6ac1e10",
   "metadata": {
    "execution": {
     "iopub.execute_input": "2022-02-13T05:37:15.910632Z",
     "iopub.status.busy": "2022-02-13T05:37:15.909903Z",
     "iopub.status.idle": "2022-02-13T05:37:16.746408Z",
     "shell.execute_reply": "2022-02-13T05:37:16.745959Z"
    }
   },
   "outputs": [],
   "source": [
    "OnePiece.feature_set_enrichment.score_set_new(fe_, sc_, se_fe_)"
   ]
  },
  {
   "cell_type": "markdown",
   "id": "94460707",
   "metadata": {},
   "source": [
    "## try_method"
   ]
  },
  {
   "cell_type": "code",
   "execution_count": null,
   "id": "2893cb57",
   "metadata": {
    "execution": {
     "iopub.execute_input": "2022-02-13T05:37:16.748380Z",
     "iopub.status.busy": "2022-02-13T05:37:16.747791Z",
     "iopub.status.idle": "2022-02-13T05:37:18.513506Z",
     "shell.execute_reply": "2022-02-13T05:37:18.513060Z"
    }
   },
   "outputs": [],
   "source": [
    "OnePiece.feature_set_enrichment.try_method(fe_, sc_, fe1_, plp = false)"
   ]
  },
  {
   "cell_type": "markdown",
   "id": "3f396855",
   "metadata": {},
   "source": [
    "---"
   ]
  },
  {
   "cell_type": "code",
   "execution_count": null,
   "id": "b4af2023",
   "metadata": {
    "execution": {
     "iopub.execute_input": "2022-02-13T05:37:18.515498Z",
     "iopub.status.busy": "2022-02-13T05:37:18.514935Z",
     "iopub.status.idle": "2022-02-13T05:37:18.517483Z",
     "shell.execute_reply": "2022-02-13T05:37:18.517076Z"
    }
   },
   "outputs": [],
   "source": [
    "if isdir(TE)\n",
    "\n",
    "    rm(TE, recursive = true)\n",
    "\n",
    "    println(\"Removed \", TE, \".\")\n",
    "\n",
    "end"
   ]
  }
 ],
 "metadata": {
  "kernelspec": {
   "display_name": "Julia 1.7.2",
   "language": "julia",
   "name": "julia-1.7"
  },
  "language_info": {
   "file_extension": ".jl",
   "mimetype": "application/julia",
   "name": "julia",
   "version": "1.7.2"
  }
 },
 "nbformat": 4,
 "nbformat_minor": 5
}
