{
 "cells": [
  {
   "cell_type": "code",
   "execution_count": null,
   "id": "017464da",
   "metadata": {
    "execution": {
     "iopub.execute_input": "2022-02-14T16:51:40.781122Z",
     "iopub.status.busy": "2022-02-14T16:51:40.385140Z",
     "iopub.status.idle": "2022-02-14T16:51:41.007383Z",
     "shell.execute_reply": "2022-02-14T16:51:41.006853Z"
    }
   },
   "outputs": [],
   "source": [
    "TE = joinpath(tempdir(), \"OnePiece.test\")\n",
    "\n",
    "if isdir(TE)\n",
    "\n",
    "    rm(TE, recursive = true)\n",
    "\n",
    "    println(\"Removed \", TE, \".\")\n",
    "\n",
    "end\n",
    "\n",
    "mkdir(TE)\n",
    "\n",
    "println(\"Made \", TE, \".\")"
   ]
  },
  {
   "cell_type": "code",
   "execution_count": null,
   "id": "34e4701e",
   "metadata": {
    "execution": {
     "iopub.execute_input": "2022-02-14T16:51:41.009467Z",
     "iopub.status.busy": "2022-02-14T16:51:41.008887Z",
     "iopub.status.idle": "2022-02-14T16:51:45.825842Z",
     "shell.execute_reply": "2022-02-14T16:51:45.825310Z"
    }
   },
   "outputs": [],
   "source": [
    "using OnePiece"
   ]
  },
  {
   "cell_type": "markdown",
   "id": "b92a3da9",
   "metadata": {},
   "source": [
    "---"
   ]
  },
  {
   "cell_type": "markdown",
   "id": "ccdb8b26",
   "metadata": {},
   "source": [
    "## get_probability_and_cumulate"
   ]
  },
  {
   "cell_type": "code",
   "execution_count": null,
   "id": "1ba5422d",
   "metadata": {
    "execution": {
     "iopub.execute_input": "2022-02-14T16:51:46.191692Z",
     "iopub.status.busy": "2022-02-14T16:51:45.827181Z",
     "iopub.status.idle": "2022-02-14T16:51:47.046690Z",
     "shell.execute_reply": "2022-02-14T16:51:47.046238Z"
    }
   },
   "outputs": [],
   "source": [
    "OnePiece.feature_set_enrichment.get_probability_and_cumulate([1, 4])"
   ]
  },
  {
   "cell_type": "markdown",
   "id": "f009ac6a",
   "metadata": {},
   "source": [
    "## sum_1_absolute_and_0_count"
   ]
  },
  {
   "cell_type": "code",
   "execution_count": null,
   "id": "6ea9fb15",
   "metadata": {
    "execution": {
     "iopub.execute_input": "2022-02-14T16:51:47.048618Z",
     "iopub.status.busy": "2022-02-14T16:51:47.048021Z",
     "iopub.status.idle": "2022-02-14T16:51:47.364400Z",
     "shell.execute_reply": "2022-02-14T16:51:47.363945Z"
    }
   },
   "outputs": [],
   "source": [
    "OnePiece.feature_set_enrichment.sum_1_absolute_and_0_count(\n",
    "    [-2.0, -1, 0, 1, 2],\n",
    "    convert(Vector{Bool}, [1, 1, 0, 0, 1]),\n",
    ")"
   ]
  },
  {
   "cell_type": "markdown",
   "id": "8a6e1061",
   "metadata": {},
   "source": [
    "## make_benchmark"
   ]
  },
  {
   "cell_type": "code",
   "execution_count": null,
   "id": "4c20ec75",
   "metadata": {
    "execution": {
     "iopub.execute_input": "2022-02-14T16:51:47.366324Z",
     "iopub.status.busy": "2022-02-14T16:51:47.365687Z",
     "iopub.status.idle": "2022-02-14T16:51:55.597935Z",
     "shell.execute_reply": "2022-02-14T16:51:55.597461Z"
    }
   },
   "outputs": [],
   "source": [
    "try\n",
    "\n",
    "    OnePiece.feature_set_enrichment.make_benchmark(\"card 12K\")\n",
    "\n",
    "catch er\n",
    "\n",
    "    er\n",
    "\n",
    "end"
   ]
  },
  {
   "cell_type": "code",
   "execution_count": null,
   "id": "68aeeb9b",
   "metadata": {
    "execution": {
     "iopub.execute_input": "2022-02-14T16:51:55.599871Z",
     "iopub.status.busy": "2022-02-14T16:51:55.599279Z",
     "iopub.status.idle": "2022-02-14T16:51:56.095433Z",
     "shell.execute_reply": "2022-02-14T16:51:56.094897Z"
    }
   },
   "outputs": [],
   "source": [
    "OnePiece.feature_set_enrichment.make_benchmark(\"card A2K\")"
   ]
  },
  {
   "cell_type": "code",
   "execution_count": null,
   "id": "a93d4ce0",
   "metadata": {
    "execution": {
     "iopub.execute_input": "2022-02-14T16:51:56.097368Z",
     "iopub.status.busy": "2022-02-14T16:51:56.096777Z",
     "iopub.status.idle": "2022-02-14T16:51:56.502353Z",
     "shell.execute_reply": "2022-02-14T16:51:56.501882Z"
    }
   },
   "outputs": [],
   "source": [
    "OnePiece.feature_set_enrichment.make_benchmark(\"random 3 2\")"
   ]
  },
  {
   "cell_type": "code",
   "execution_count": null,
   "id": "a0f3bce7",
   "metadata": {
    "execution": {
     "iopub.execute_input": "2022-02-14T16:51:56.504568Z",
     "iopub.status.busy": "2022-02-14T16:51:56.503712Z",
     "iopub.status.idle": "2022-02-14T16:51:56.506591Z",
     "shell.execute_reply": "2022-02-14T16:51:56.505368Z"
    }
   },
   "outputs": [],
   "source": [
    "OnePiece.feature_set_enrichment.make_benchmark(\"random 4 2\")"
   ]
  },
  {
   "cell_type": "code",
   "execution_count": null,
   "id": "86bfbc58",
   "metadata": {
    "execution": {
     "iopub.execute_input": "2022-02-14T16:51:56.508746Z",
     "iopub.status.busy": "2022-02-14T16:51:56.507998Z",
     "iopub.status.idle": "2022-02-14T16:52:09.983286Z",
     "shell.execute_reply": "2022-02-14T16:52:09.982720Z"
    }
   },
   "outputs": [],
   "source": [
    "fe_, sc_, fe1_ = OnePiece.feature_set_enrichment.make_benchmark(\"myc\")\n",
    "\n",
    "println(length(fe_))\n",
    "\n",
    "println(length(sc_))\n",
    "\n",
    "println(length(fe1_))"
   ]
  },
  {
   "cell_type": "markdown",
   "id": "337971f7",
   "metadata": {},
   "source": [
    "## plot_mountain"
   ]
  },
  {
   "cell_type": "code",
   "execution_count": null,
   "id": "e74b541b",
   "metadata": {
    "execution": {
     "iopub.execute_input": "2022-02-14T16:52:09.985428Z",
     "iopub.status.busy": "2022-02-14T16:52:09.984792Z",
     "iopub.status.idle": "2022-02-14T16:52:09.986168Z",
     "shell.execute_reply": "2022-02-14T16:52:09.986615Z"
    }
   },
   "outputs": [],
   "source": [
    "fe_, sc_, fe1_ = OnePiece.feature_set_enrichment.make_benchmark(\"card AK\")\n",
    "\n",
    ";"
   ]
  },
  {
   "cell_type": "code",
   "execution_count": null,
   "id": "58f279e2",
   "metadata": {
    "execution": {
     "iopub.execute_input": "2022-02-14T16:52:09.988626Z",
     "iopub.status.busy": "2022-02-14T16:52:09.987994Z",
     "iopub.status.idle": "2022-02-14T16:52:13.380730Z",
     "shell.execute_reply": "2022-02-14T16:52:13.380223Z"
    }
   },
   "outputs": [],
   "source": [
    "OnePiece.feature_set_enrichment.score_set(fe_, sc_, fe1_, ou = joinpath(TE, \"mountain.html\"))"
   ]
  },
  {
   "cell_type": "code",
   "execution_count": null,
   "id": "517bc174",
   "metadata": {
    "execution": {
     "iopub.execute_input": "2022-02-14T16:52:13.382787Z",
     "iopub.status.busy": "2022-02-14T16:52:13.382150Z",
     "iopub.status.idle": "2022-02-14T16:52:14.326652Z",
     "shell.execute_reply": "2022-02-14T16:52:14.326149Z"
    }
   },
   "outputs": [],
   "source": [
    "OnePiece.feature_set_enrichment.score_set_new(\n",
    "    fe_,\n",
    "    sc_,\n",
    "    fe1_,\n",
    "    ou = joinpath(TE, \"mountain_new.html\"),\n",
    ")"
   ]
  },
  {
   "cell_type": "markdown",
   "id": "b2ede5e5",
   "metadata": {},
   "source": [
    "## score_set*"
   ]
  },
  {
   "cell_type": "code",
   "execution_count": null,
   "id": "bfe544b8",
   "metadata": {
    "execution": {
     "iopub.execute_input": "2022-02-14T16:52:14.329118Z",
     "iopub.status.busy": "2022-02-14T16:52:14.328485Z",
     "iopub.status.idle": "2022-02-14T16:52:14.330602Z",
     "shell.execute_reply": "2022-02-14T16:52:14.329976Z"
    }
   },
   "outputs": [],
   "source": [
    "using DataFrames"
   ]
  },
  {
   "cell_type": "code",
   "execution_count": null,
   "id": "ee5aff03",
   "metadata": {
    "execution": {
     "iopub.execute_input": "2022-02-14T16:52:14.332587Z",
     "iopub.status.busy": "2022-02-14T16:52:14.331947Z",
     "iopub.status.idle": "2022-02-14T16:52:14.732685Z",
     "shell.execute_reply": "2022-02-14T16:52:14.732063Z"
    }
   },
   "outputs": [],
   "source": [
    "fe_, sc_, fe1_ = OnePiece.feature_set_enrichment.make_benchmark(\"myc\")\n",
    "\n",
    "in_ = OnePiece.extension.vector.is_in(fe_, fe1_)\n",
    "\n",
    "sc_fe_sa = DataFrame(\n",
    "    \"Feature\" => fe_,\n",
    "    \"Score\" => sc_,\n",
    "    \"Score x 10\" => sc_ * 10,\n",
    "    \"Constant\" => fill(0.8, length(fe_)),\n",
    ")\n",
    "\n",
    "se_fe_ = OnePiece.io.gmt.read(\n",
    "    joinpath(@__DIR__, \"feature_set_enrichment.data\", \"h.all.v7.1.symbols.gmt\"),\n",
    ")\n",
    "\n",
    ";"
   ]
  },
  {
   "cell_type": "markdown",
   "id": "b3cd3ef2",
   "metadata": {},
   "source": [
    "### score_set"
   ]
  },
  {
   "cell_type": "code",
   "execution_count": null,
   "id": "871350b7",
   "metadata": {
    "execution": {
     "iopub.execute_input": "2022-02-14T16:52:14.734927Z",
     "iopub.status.busy": "2022-02-14T16:52:14.734196Z",
     "iopub.status.idle": "2022-02-14T16:52:14.796825Z",
     "shell.execute_reply": "2022-02-14T16:52:14.796325Z"
    }
   },
   "outputs": [],
   "source": [
    "OnePiece.feature_set_enrichment.score_set(fe_, sc_, fe1_, in_)"
   ]
  },
  {
   "cell_type": "code",
   "execution_count": null,
   "id": "f1d3072c",
   "metadata": {
    "execution": {
     "iopub.execute_input": "2022-02-14T16:52:14.801381Z",
     "iopub.status.busy": "2022-02-14T16:52:14.800756Z",
     "iopub.status.idle": "2022-02-14T16:52:14.845078Z",
     "shell.execute_reply": "2022-02-14T16:52:14.844512Z"
    }
   },
   "outputs": [],
   "source": [
    "OnePiece.feature_set_enrichment.score_set(fe_, sc_, fe1_)"
   ]
  },
  {
   "cell_type": "code",
   "execution_count": null,
   "id": "3e380333",
   "metadata": {
    "execution": {
     "iopub.execute_input": "2022-02-14T16:52:14.848931Z",
     "iopub.status.busy": "2022-02-14T16:52:14.848298Z",
     "iopub.status.idle": "2022-02-14T16:52:16.507320Z",
     "shell.execute_reply": "2022-02-14T16:52:16.506830Z"
    }
   },
   "outputs": [],
   "source": [
    "OnePiece.feature_set_enrichment.score_set(fe_, sc_, se_fe_)"
   ]
  },
  {
   "cell_type": "code",
   "execution_count": null,
   "id": "f31c3a45",
   "metadata": {
    "execution": {
     "iopub.execute_input": "2022-02-14T16:52:16.509608Z",
     "iopub.status.busy": "2022-02-14T16:52:16.508909Z",
     "iopub.status.idle": "2022-02-14T16:52:21.268779Z",
     "shell.execute_reply": "2022-02-14T16:52:21.268280Z"
    }
   },
   "outputs": [],
   "source": [
    "OnePiece.feature_set_enrichment.score_set(sc_fe_sa, se_fe_)"
   ]
  },
  {
   "cell_type": "markdown",
   "id": "b955b922",
   "metadata": {},
   "source": [
    "### score_set_new"
   ]
  },
  {
   "cell_type": "code",
   "execution_count": null,
   "id": "dc2fb2d2",
   "metadata": {
    "execution": {
     "iopub.execute_input": "2022-02-14T16:52:21.270824Z",
     "iopub.status.busy": "2022-02-14T16:52:21.270199Z",
     "iopub.status.idle": "2022-02-14T16:52:21.402132Z",
     "shell.execute_reply": "2022-02-14T16:52:21.402606Z"
    }
   },
   "outputs": [],
   "source": [
    "OnePiece.feature_set_enrichment.score_set_new(fe_, sc_, fe1_)"
   ]
  },
  {
   "cell_type": "code",
   "execution_count": null,
   "id": "a6ac1e10",
   "metadata": {
    "execution": {
     "iopub.execute_input": "2022-02-14T16:52:21.404817Z",
     "iopub.status.busy": "2022-02-14T16:52:21.404184Z",
     "iopub.status.idle": "2022-02-14T16:52:22.312069Z",
     "shell.execute_reply": "2022-02-14T16:52:22.311169Z"
    }
   },
   "outputs": [],
   "source": [
    "OnePiece.feature_set_enrichment.score_set_new(fe_, sc_, se_fe_)"
   ]
  },
  {
   "cell_type": "markdown",
   "id": "94460707",
   "metadata": {},
   "source": [
    "## try_method"
   ]
  },
  {
   "cell_type": "code",
   "execution_count": null,
   "id": "2893cb57",
   "metadata": {
    "execution": {
     "iopub.execute_input": "2022-02-14T16:52:22.314357Z",
     "iopub.status.busy": "2022-02-14T16:52:22.313726Z",
     "iopub.status.idle": "2022-02-14T16:52:24.274398Z",
     "shell.execute_reply": "2022-02-14T16:52:24.273844Z"
    }
   },
   "outputs": [],
   "source": [
    "OnePiece.feature_set_enrichment.try_method(fe_, sc_, fe1_, plp = false)"
   ]
  },
  {
   "cell_type": "markdown",
   "id": "3f396855",
   "metadata": {},
   "source": [
    "---"
   ]
  },
  {
   "cell_type": "code",
   "execution_count": null,
   "id": "b4af2023",
   "metadata": {
    "execution": {
     "iopub.execute_input": "2022-02-14T16:52:24.276565Z",
     "iopub.status.busy": "2022-02-14T16:52:24.275943Z",
     "iopub.status.idle": "2022-02-14T16:52:24.278289Z",
     "shell.execute_reply": "2022-02-14T16:52:24.278695Z"
    }
   },
   "outputs": [],
   "source": [
    "if isdir(TE)\n",
    "\n",
    "    rm(TE, recursive = true)\n",
    "\n",
    "    println(\"Removed \", TE, \".\")\n",
    "\n",
    "end"
   ]
  }
 ],
 "metadata": {
  "kernelspec": {
   "display_name": "Julia 1.7.2",
   "language": "julia",
   "name": "julia-1.7"
  },
  "language_info": {
   "file_extension": ".jl",
   "mimetype": "application/julia",
   "name": "julia",
   "version": "1.7.2"
  }
 },
 "nbformat": 4,
 "nbformat_minor": 5
}
