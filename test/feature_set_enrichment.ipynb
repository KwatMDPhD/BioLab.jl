{
 "cells": [
  {
   "cell_type": "code",
   "execution_count": null,
   "id": "017464da",
   "metadata": {},
   "outputs": [],
   "source": [
    "TE = joinpath(tempdir(), \"OnePiece.test\")\n",
    "\n",
    "if isdir(TE)\n",
    "\n",
    "    rm(TE; recursive = true)\n",
    "\n",
    "    println(\"Removed \", TE, \".\")\n",
    "\n",
    "end\n",
    "\n",
    "mkdir(TE)\n",
    "\n",
    "println(\"Made \", TE, \".\")"
   ]
  },
  {
   "cell_type": "code",
   "execution_count": null,
   "id": "34e4701e",
   "metadata": {
    "execution": {
     "iopub.execute_input": "2022-02-10T17:51:23.590384Z",
     "iopub.status.busy": "2022-02-10T17:51:23.250154Z",
     "iopub.status.idle": "2022-02-10T17:51:24.482021Z",
     "shell.execute_reply": "2022-02-10T17:51:24.481306Z"
    }
   },
   "outputs": [],
   "source": [
    "using OnePiece"
   ]
  },
  {
   "cell_type": "markdown",
   "id": "b92a3da9",
   "metadata": {},
   "source": [
    "---"
   ]
  },
  {
   "cell_type": "code",
   "execution_count": null,
   "id": "deeff91c",
   "metadata": {
    "execution": {
     "iopub.execute_input": "2022-02-10T21:34:28.467526Z",
     "iopub.status.busy": "2022-02-10T21:34:27.867244Z",
     "iopub.status.idle": "2022-02-10T21:34:28.548135Z",
     "shell.execute_reply": "2022-02-10T21:34:28.547447Z"
    }
   },
   "outputs": [],
   "source": [
    "using BenchmarkTools"
   ]
  },
  {
   "cell_type": "markdown",
   "id": "ccdb8b26",
   "metadata": {},
   "source": [
    "## get_probability_and_cumulate"
   ]
  },
  {
   "cell_type": "code",
   "execution_count": null,
   "id": "1ba5422d",
   "metadata": {
    "execution": {
     "iopub.execute_input": "2022-02-10T21:34:28.550882Z",
     "iopub.status.busy": "2022-02-10T21:34:28.550093Z",
     "iopub.status.idle": "2022-02-10T21:34:29.449602Z",
     "shell.execute_reply": "2022-02-10T21:34:29.448876Z"
    }
   },
   "outputs": [],
   "source": [
    "ve = [1, 4]\n",
    "\n",
    "OnePiece.feature_set_enrichment.get_probability_and_cumulate(ve)"
   ]
  },
  {
   "cell_type": "markdown",
   "id": "f009ac6a",
   "metadata": {},
   "source": [
    "## sum_1_absolute_and_0_count"
   ]
  },
  {
   "cell_type": "code",
   "execution_count": null,
   "id": "6ea9fb15",
   "metadata": {
    "execution": {
     "iopub.execute_input": "2022-02-10T21:34:29.452298Z",
     "iopub.status.busy": "2022-02-10T21:34:29.451523Z",
     "iopub.status.idle": "2022-02-10T21:34:32.121431Z",
     "shell.execute_reply": "2022-02-10T21:34:32.120815Z"
    }
   },
   "outputs": [],
   "source": [
    "ve = [-2.0, -1, 0, 1, 2]\n",
    "\n",
    "in_ = convert(Vector{Bool}, [1, 1, 0, 0, 1])\n",
    "\n",
    "@btime OnePiece.feature_set_enrichment.sum_1_absolute_and_0_count(ve, in_)"
   ]
  },
  {
   "cell_type": "markdown",
   "id": "8a6e1061",
   "metadata": {},
   "source": [
    "## make_benchmark"
   ]
  },
  {
   "cell_type": "code",
   "execution_count": null,
   "id": "4c20ec75",
   "metadata": {
    "execution": {
     "iopub.execute_input": "2022-02-10T21:34:32.124561Z",
     "iopub.status.busy": "2022-02-10T21:34:32.123631Z",
     "iopub.status.idle": "2022-02-10T21:34:44.184484Z",
     "shell.execute_reply": "2022-02-10T21:34:44.183848Z"
    }
   },
   "outputs": [],
   "source": [
    "try\n",
    "\n",
    "    OnePiece.feature_set_enrichment.make_benchmark(\"card 12K\")\n",
    "\n",
    "catch er\n",
    "\n",
    "    er\n",
    "\n",
    "end"
   ]
  },
  {
   "cell_type": "code",
   "execution_count": null,
   "id": "68aeeb9b",
   "metadata": {
    "execution": {
     "iopub.execute_input": "2022-02-10T21:34:44.187064Z",
     "iopub.status.busy": "2022-02-10T21:34:44.186271Z",
     "iopub.status.idle": "2022-02-10T21:34:44.690434Z",
     "shell.execute_reply": "2022-02-10T21:34:44.689723Z"
    }
   },
   "outputs": [],
   "source": [
    "OnePiece.feature_set_enrichment.make_benchmark(\"card A2K\")"
   ]
  },
  {
   "cell_type": "code",
   "execution_count": null,
   "id": "a93d4ce0",
   "metadata": {
    "execution": {
     "iopub.execute_input": "2022-02-10T21:34:44.693114Z",
     "iopub.status.busy": "2022-02-10T21:34:44.692263Z",
     "iopub.status.idle": "2022-02-10T21:34:45.210090Z",
     "shell.execute_reply": "2022-02-10T21:34:45.209408Z"
    }
   },
   "outputs": [],
   "source": [
    "OnePiece.feature_set_enrichment.make_benchmark(\"random 3 2\")"
   ]
  },
  {
   "cell_type": "code",
   "execution_count": null,
   "id": "a0f3bce7",
   "metadata": {
    "execution": {
     "iopub.execute_input": "2022-02-10T21:34:45.212847Z",
     "iopub.status.busy": "2022-02-10T21:34:45.211796Z",
     "iopub.status.idle": "2022-02-10T21:34:45.215419Z",
     "shell.execute_reply": "2022-02-10T21:34:45.213712Z"
    }
   },
   "outputs": [],
   "source": [
    "OnePiece.feature_set_enrichment.make_benchmark(\"random 4 2\")"
   ]
  },
  {
   "cell_type": "code",
   "execution_count": null,
   "id": "86bfbc58",
   "metadata": {
    "execution": {
     "iopub.execute_input": "2022-02-10T21:34:45.218221Z",
     "iopub.status.busy": "2022-02-10T21:34:45.217299Z",
     "iopub.status.idle": "2022-02-10T21:35:05.617687Z",
     "shell.execute_reply": "2022-02-10T21:35:05.617011Z"
    }
   },
   "outputs": [],
   "source": [
    "fe_, sc_, fe1_ = OnePiece.feature_set_enrichment.make_benchmark(\"myc\")\n",
    "\n",
    "println(length(fe_))\n",
    "\n",
    "println(length(sc_))\n",
    "\n",
    "println(length(fe1_))"
   ]
  },
  {
   "cell_type": "markdown",
   "id": "337971f7",
   "metadata": {},
   "source": [
    "## plot_mountain"
   ]
  },
  {
   "cell_type": "code",
   "execution_count": null,
   "id": "e74b541b",
   "metadata": {
    "execution": {
     "iopub.execute_input": "2022-02-10T21:35:05.620510Z",
     "iopub.status.busy": "2022-02-10T21:35:05.619586Z",
     "iopub.status.idle": "2022-02-10T21:35:05.621412Z",
     "shell.execute_reply": "2022-02-10T21:35:05.621962Z"
    }
   },
   "outputs": [],
   "source": [
    "fe_, sc_, fe1_ = OnePiece.feature_set_enrichment.make_benchmark(\"card AK\")\n",
    "\n",
    ";"
   ]
  },
  {
   "cell_type": "code",
   "execution_count": null,
   "id": "517bc174",
   "metadata": {
    "execution": {
     "iopub.execute_input": "2022-02-10T21:35:05.624434Z",
     "iopub.status.busy": "2022-02-10T21:35:05.623548Z",
     "iopub.status.idle": "2022-02-10T21:35:09.827931Z",
     "shell.execute_reply": "2022-02-10T21:35:09.827294Z"
    }
   },
   "outputs": [],
   "source": [
    "OnePiece.feature_set_enrichment.score_set(fe_, sc_, fe1_, si = false)"
   ]
  },
  {
   "cell_type": "code",
   "execution_count": null,
   "id": "7a2a9a37",
   "metadata": {
    "execution": {
     "iopub.execute_input": "2022-02-10T21:35:09.830641Z",
     "iopub.status.busy": "2022-02-10T21:35:09.829810Z",
     "iopub.status.idle": "2022-02-10T21:35:11.290793Z",
     "shell.execute_reply": "2022-02-10T21:35:11.291365Z"
    }
   },
   "outputs": [],
   "source": [
    "OnePiece.feature_set_enrichment.score_set_new(fe_, sc_, fe1_)"
   ]
  },
  {
   "cell_type": "markdown",
   "id": "e6056ac2",
   "metadata": {},
   "source": [
    "## score_set"
   ]
  },
  {
   "cell_type": "code",
   "execution_count": null,
   "id": "ee5aff03",
   "metadata": {
    "execution": {
     "iopub.execute_input": "2022-02-10T21:35:11.294535Z",
     "iopub.status.busy": "2022-02-10T21:35:11.293586Z",
     "iopub.status.idle": "2022-02-10T21:35:11.417277Z",
     "shell.execute_reply": "2022-02-10T21:35:11.416412Z"
    }
   },
   "outputs": [],
   "source": [
    "fe_, sc_, fe1_ = OnePiece.feature_set_enrichment.make_benchmark(\"myc\")\n",
    "\n",
    "in_ = OnePiece.extension.vector.is_in(fe_, fe1_)\n",
    "\n",
    ";"
   ]
  },
  {
   "cell_type": "markdown",
   "id": "b05aefbe",
   "metadata": {},
   "source": [
    "## score_set (1 1)"
   ]
  },
  {
   "cell_type": "code",
   "execution_count": null,
   "id": "51ade553",
   "metadata": {
    "execution": {
     "iopub.execute_input": "2022-02-10T21:35:11.420484Z",
     "iopub.status.busy": "2022-02-10T21:35:11.419579Z",
     "iopub.status.idle": "2022-02-10T21:35:24.136961Z",
     "shell.execute_reply": "2022-02-10T21:35:24.136242Z"
    }
   },
   "outputs": [],
   "source": [
    "@btime OnePiece.extension.vector.is_in(fe_, fe1_)"
   ]
  },
  {
   "cell_type": "code",
   "execution_count": null,
   "id": "f1d3072c",
   "metadata": {
    "execution": {
     "iopub.execute_input": "2022-02-10T21:35:24.139658Z",
     "iopub.status.busy": "2022-02-10T21:35:24.138771Z",
     "iopub.status.idle": "2022-02-10T21:35:31.954304Z",
     "shell.execute_reply": "2022-02-10T21:35:31.953661Z"
    }
   },
   "outputs": [],
   "source": [
    "@btime OnePiece.feature_set_enrichment.score_set(fe_, sc_, fe1_, in_; pl = false)"
   ]
  },
  {
   "cell_type": "code",
   "execution_count": null,
   "id": "db503e6d",
   "metadata": {
    "execution": {
     "iopub.execute_input": "2022-02-10T21:35:31.957010Z",
     "iopub.status.busy": "2022-02-10T21:35:31.956076Z",
     "iopub.status.idle": "2022-02-10T21:35:43.168049Z",
     "shell.execute_reply": "2022-02-10T21:35:43.167404Z"
    }
   },
   "outputs": [],
   "source": [
    "@btime OnePiece.feature_set_enrichment.score_set(fe_, sc_, fe1_; pl = false)"
   ]
  },
  {
   "cell_type": "code",
   "execution_count": null,
   "id": "d0b57976",
   "metadata": {
    "execution": {
     "iopub.execute_input": "2022-02-10T21:35:43.170997Z",
     "iopub.status.busy": "2022-02-10T21:35:43.170012Z",
     "iopub.status.idle": "2022-02-10T21:35:43.220362Z",
     "shell.execute_reply": "2022-02-10T21:35:43.219725Z"
    }
   },
   "outputs": [],
   "source": [
    "OnePiece.feature_set_enrichment.score_set(fe_, sc_, fe1_)"
   ]
  },
  {
   "cell_type": "markdown",
   "id": "b955b922",
   "metadata": {},
   "source": [
    "## score_set_new (1 1)"
   ]
  },
  {
   "cell_type": "code",
   "execution_count": null,
   "id": "fa48624f",
   "metadata": {
    "execution": {
     "iopub.execute_input": "2022-02-10T21:35:43.223923Z",
     "iopub.status.busy": "2022-02-10T21:35:43.222804Z",
     "iopub.status.idle": "2022-02-10T21:35:54.863153Z",
     "shell.execute_reply": "2022-02-10T21:35:54.862382Z"
    }
   },
   "outputs": [],
   "source": [
    "@btime OnePiece.feature_set_enrichment.score_set_new(fe_, sc_, fe1_; pl = false)"
   ]
  },
  {
   "cell_type": "code",
   "execution_count": null,
   "id": "dc2fb2d2",
   "metadata": {
    "execution": {
     "iopub.execute_input": "2022-02-10T21:35:54.866179Z",
     "iopub.status.busy": "2022-02-10T21:35:54.865110Z",
     "iopub.status.idle": "2022-02-10T21:35:54.911776Z",
     "shell.execute_reply": "2022-02-10T21:35:54.912420Z"
    }
   },
   "outputs": [],
   "source": [
    "OnePiece.feature_set_enrichment.score_set_new(fe_, sc_, fe1_)"
   ]
  },
  {
   "cell_type": "markdown",
   "id": "f7052fba",
   "metadata": {},
   "source": [
    "## score_set (? n)"
   ]
  },
  {
   "cell_type": "code",
   "execution_count": null,
   "id": "3d4df309",
   "metadata": {
    "execution": {
     "iopub.execute_input": "2022-02-10T21:35:54.915949Z",
     "iopub.status.busy": "2022-02-10T21:35:54.914894Z",
     "iopub.status.idle": "2022-02-10T21:35:54.946456Z",
     "shell.execute_reply": "2022-02-10T21:35:54.945698Z"
    }
   },
   "outputs": [],
   "source": [
    "se_fe_ = OnePiece.io.gmt.read(\n",
    "    joinpath(@__DIR__, \"feature_set_enrichment.data\", \"h.all.v7.1.symbols.gmt\"),\n",
    ")\n",
    "\n",
    ";"
   ]
  },
  {
   "cell_type": "markdown",
   "id": "4766e9c6",
   "metadata": {},
   "source": [
    "## score_set (1 n)"
   ]
  },
  {
   "cell_type": "code",
   "execution_count": null,
   "id": "1679bed5",
   "metadata": {
    "execution": {
     "iopub.execute_input": "2022-02-10T21:35:54.949684Z",
     "iopub.status.busy": "2022-02-10T21:35:54.948722Z",
     "iopub.status.idle": "2022-02-10T21:36:08.911993Z",
     "shell.execute_reply": "2022-02-10T21:36:08.911311Z"
    }
   },
   "outputs": [],
   "source": [
    "@btime OnePiece.feature_set_enrichment.score_set(fe_, sc_, se_fe_)"
   ]
  },
  {
   "cell_type": "markdown",
   "id": "d18c90c2",
   "metadata": {},
   "source": [
    "## score_set_new (1 n)"
   ]
  },
  {
   "cell_type": "code",
   "execution_count": null,
   "id": "a6ac1e10",
   "metadata": {
    "execution": {
     "iopub.execute_input": "2022-02-10T21:36:08.915148Z",
     "iopub.status.busy": "2022-02-10T21:36:08.914164Z",
     "iopub.status.idle": "2022-02-10T21:36:23.009723Z",
     "shell.execute_reply": "2022-02-10T21:36:23.008969Z"
    }
   },
   "outputs": [],
   "source": [
    "@btime OnePiece.feature_set_enrichment.score_set_new(fe_, sc_, se_fe_)"
   ]
  },
  {
   "cell_type": "markdown",
   "id": "73665aeb",
   "metadata": {},
   "source": [
    "## score_set (n n)"
   ]
  },
  {
   "cell_type": "code",
   "execution_count": null,
   "id": "1dfc4b4f",
   "metadata": {
    "execution": {
     "iopub.execute_input": "2022-02-10T21:36:23.013021Z",
     "iopub.status.busy": "2022-02-10T21:36:23.012006Z",
     "iopub.status.idle": "2022-02-10T21:36:23.014449Z",
     "shell.execute_reply": "2022-02-10T21:36:23.013789Z"
    }
   },
   "outputs": [],
   "source": [
    "using DataFrames"
   ]
  },
  {
   "cell_type": "code",
   "execution_count": null,
   "id": "d1dae9b2",
   "metadata": {
    "execution": {
     "iopub.execute_input": "2022-02-10T21:36:23.017116Z",
     "iopub.status.busy": "2022-02-10T21:36:23.016250Z",
     "iopub.status.idle": "2022-02-10T21:36:41.918099Z",
     "shell.execute_reply": "2022-02-10T21:36:41.915892Z"
    }
   },
   "outputs": [],
   "source": [
    "sc_fe_sa = DataFrame(\n",
    "    \"Feature\" => fe_,\n",
    "    \"Score\" => sc_,\n",
    "    \"Score x 10\" => sc_ * 10,\n",
    "    \"Constant\" => fill(0.8, length(fe_)),\n",
    ")\n",
    "\n",
    "@btime OnePiece.feature_set_enrichment.score_set(sc_fe_sa, se_fe_; n_jo = 1)"
   ]
  },
  {
   "cell_type": "markdown",
   "id": "94460707",
   "metadata": {},
   "source": [
    "## try_method"
   ]
  },
  {
   "cell_type": "code",
   "execution_count": null,
   "id": "2893cb57",
   "metadata": {
    "execution": {
     "iopub.execute_input": "2022-02-10T21:36:41.921224Z",
     "iopub.status.busy": "2022-02-10T21:36:41.920267Z",
     "iopub.status.idle": "2022-02-10T21:36:44.394472Z",
     "shell.execute_reply": "2022-02-10T21:36:44.393778Z"
    }
   },
   "outputs": [],
   "source": [
    "OnePiece.feature_set_enrichment.try_method(fe_, sc_, fe1_; plp = false)"
   ]
  },
  {
   "cell_type": "markdown",
   "id": "3f396855",
   "metadata": {},
   "source": [
    "---"
   ]
  },
  {
   "cell_type": "code",
   "execution_count": null,
   "id": "b4af2023",
   "metadata": {},
   "outputs": [],
   "source": [
    "if isdir(TE)\n",
    "\n",
    "    rm(TE; recursive = true)\n",
    "\n",
    "    println(\"Removed \", TE, \".\")\n",
    "\n",
    "end"
   ]
  }
 ],
 "metadata": {
  "kernelspec": {
   "display_name": "Julia 1.7.2",
   "language": "julia",
   "name": "julia-1.7"
  },
  "language_info": {
   "file_extension": ".jl",
   "mimetype": "application/julia",
   "name": "julia",
   "version": "1.7.2"
  }
 },
 "nbformat": 4,
 "nbformat_minor": 5
}
