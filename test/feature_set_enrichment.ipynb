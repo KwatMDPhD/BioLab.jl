{
 "cells": [
  {
   "cell_type": "code",
   "execution_count": null,
   "id": "017464da",
   "metadata": {
    "execution": {
     "iopub.execute_input": "2022-02-14T02:59:00.627609Z",
     "iopub.status.busy": "2022-02-14T02:59:00.155944Z",
     "iopub.status.idle": "2022-02-14T02:59:00.889842Z",
     "shell.execute_reply": "2022-02-14T02:59:00.889165Z"
    }
   },
   "outputs": [],
   "source": [
    "TE = joinpath(tempdir(), \"OnePiece.test\")\n",
    "\n",
    "if isdir(TE)\n",
    "\n",
    "    rm(TE, recursive = true)\n",
    "\n",
    "    println(\"Removed \", TE, \".\")\n",
    "\n",
    "end\n",
    "\n",
    "mkdir(TE)\n",
    "\n",
    "println(\"Made \", TE, \".\")"
   ]
  },
  {
   "cell_type": "code",
   "execution_count": null,
   "id": "34e4701e",
   "metadata": {
    "execution": {
     "iopub.execute_input": "2022-02-14T02:59:00.892254Z",
     "iopub.status.busy": "2022-02-14T02:59:00.891575Z",
     "iopub.status.idle": "2022-02-14T02:59:06.531091Z",
     "shell.execute_reply": "2022-02-14T02:59:06.530472Z"
    }
   },
   "outputs": [],
   "source": [
    "using OnePiece"
   ]
  },
  {
   "cell_type": "markdown",
   "id": "b92a3da9",
   "metadata": {},
   "source": [
    "---"
   ]
  },
  {
   "cell_type": "markdown",
   "id": "ccdb8b26",
   "metadata": {},
   "source": [
    "## get_probability_and_cumulate"
   ]
  },
  {
   "cell_type": "code",
   "execution_count": null,
   "id": "1ba5422d",
   "metadata": {
    "execution": {
     "iopub.execute_input": "2022-02-14T02:59:06.965864Z",
     "iopub.status.busy": "2022-02-14T02:59:06.532743Z",
     "iopub.status.idle": "2022-02-14T02:59:07.997000Z",
     "shell.execute_reply": "2022-02-14T02:59:07.996315Z"
    }
   },
   "outputs": [],
   "source": [
    "OnePiece.feature_set_enrichment.get_probability_and_cumulate([1, 4])"
   ]
  },
  {
   "cell_type": "markdown",
   "id": "f009ac6a",
   "metadata": {},
   "source": [
    "## sum_1_absolute_and_0_count"
   ]
  },
  {
   "cell_type": "code",
   "execution_count": null,
   "id": "6ea9fb15",
   "metadata": {
    "execution": {
     "iopub.execute_input": "2022-02-14T02:59:07.999497Z",
     "iopub.status.busy": "2022-02-14T02:59:07.998806Z",
     "iopub.status.idle": "2022-02-14T02:59:08.384843Z",
     "shell.execute_reply": "2022-02-14T02:59:08.384313Z"
    }
   },
   "outputs": [],
   "source": [
    "OnePiece.feature_set_enrichment.sum_1_absolute_and_0_count(\n",
    "    [-2.0, -1, 0, 1, 2],\n",
    "    convert(Vector{Bool}, [1, 1, 0, 0, 1]),\n",
    ")"
   ]
  },
  {
   "cell_type": "markdown",
   "id": "8a6e1061",
   "metadata": {},
   "source": [
    "## make_benchmark"
   ]
  },
  {
   "cell_type": "code",
   "execution_count": null,
   "id": "4c20ec75",
   "metadata": {
    "execution": {
     "iopub.execute_input": "2022-02-14T02:59:08.387304Z",
     "iopub.status.busy": "2022-02-14T02:59:08.386415Z",
     "iopub.status.idle": "2022-02-14T02:59:17.336950Z",
     "shell.execute_reply": "2022-02-14T02:59:17.336448Z"
    }
   },
   "outputs": [],
   "source": [
    "try\n",
    "\n",
    "    OnePiece.feature_set_enrichment.make_benchmark(\"card 12K\")\n",
    "\n",
    "catch er\n",
    "\n",
    "    er\n",
    "\n",
    "end"
   ]
  },
  {
   "cell_type": "code",
   "execution_count": null,
   "id": "68aeeb9b",
   "metadata": {
    "execution": {
     "iopub.execute_input": "2022-02-14T02:59:17.339412Z",
     "iopub.status.busy": "2022-02-14T02:59:17.338671Z",
     "iopub.status.idle": "2022-02-14T02:59:17.870166Z",
     "shell.execute_reply": "2022-02-14T02:59:17.869648Z"
    }
   },
   "outputs": [],
   "source": [
    "OnePiece.feature_set_enrichment.make_benchmark(\"card A2K\")"
   ]
  },
  {
   "cell_type": "code",
   "execution_count": null,
   "id": "a93d4ce0",
   "metadata": {
    "execution": {
     "iopub.execute_input": "2022-02-14T02:59:17.872439Z",
     "iopub.status.busy": "2022-02-14T02:59:17.871792Z",
     "iopub.status.idle": "2022-02-14T02:59:18.307607Z",
     "shell.execute_reply": "2022-02-14T02:59:18.307098Z"
    }
   },
   "outputs": [],
   "source": [
    "OnePiece.feature_set_enrichment.make_benchmark(\"random 3 2\")"
   ]
  },
  {
   "cell_type": "code",
   "execution_count": null,
   "id": "a0f3bce7",
   "metadata": {
    "execution": {
     "iopub.execute_input": "2022-02-14T02:59:18.309869Z",
     "iopub.status.busy": "2022-02-14T02:59:18.309049Z",
     "iopub.status.idle": "2022-02-14T02:59:18.311873Z",
     "shell.execute_reply": "2022-02-14T02:59:18.310527Z"
    }
   },
   "outputs": [],
   "source": [
    "OnePiece.feature_set_enrichment.make_benchmark(\"random 4 2\")"
   ]
  },
  {
   "cell_type": "code",
   "execution_count": null,
   "id": "86bfbc58",
   "metadata": {
    "execution": {
     "iopub.execute_input": "2022-02-14T02:59:18.314087Z",
     "iopub.status.busy": "2022-02-14T02:59:18.313311Z",
     "iopub.status.idle": "2022-02-14T02:59:32.398997Z",
     "shell.execute_reply": "2022-02-14T02:59:32.398426Z"
    }
   },
   "outputs": [],
   "source": [
    "fe_, sc_, fe1_ = OnePiece.feature_set_enrichment.make_benchmark(\"myc\")\n",
    "\n",
    "println(length(fe_))\n",
    "\n",
    "println(length(sc_))\n",
    "\n",
    "println(length(fe1_))"
   ]
  },
  {
   "cell_type": "markdown",
   "id": "337971f7",
   "metadata": {},
   "source": [
    "## plot_mountain"
   ]
  },
  {
   "cell_type": "code",
   "execution_count": null,
   "id": "e74b541b",
   "metadata": {
    "execution": {
     "iopub.execute_input": "2022-02-14T02:59:32.401110Z",
     "iopub.status.busy": "2022-02-14T02:59:32.400480Z",
     "iopub.status.idle": "2022-02-14T02:59:32.401844Z",
     "shell.execute_reply": "2022-02-14T02:59:32.402287Z"
    }
   },
   "outputs": [],
   "source": [
    "fe_, sc_, fe1_ = OnePiece.feature_set_enrichment.make_benchmark(\"card AK\")\n",
    "\n",
    ";"
   ]
  },
  {
   "cell_type": "code",
   "execution_count": null,
   "id": "58f279e2",
   "metadata": {
    "execution": {
     "iopub.execute_input": "2022-02-14T02:59:32.404365Z",
     "iopub.status.busy": "2022-02-14T02:59:32.403736Z",
     "iopub.status.idle": "2022-02-14T02:59:35.957723Z",
     "shell.execute_reply": "2022-02-14T02:59:35.957199Z"
    }
   },
   "outputs": [],
   "source": [
    "OnePiece.feature_set_enrichment.score_set(fe_, sc_, fe1_, ou = joinpath(TE, \"mountain.html\"))"
   ]
  },
  {
   "cell_type": "code",
   "execution_count": null,
   "id": "517bc174",
   "metadata": {
    "execution": {
     "iopub.execute_input": "2022-02-14T02:59:35.959941Z",
     "iopub.status.busy": "2022-02-14T02:59:35.959181Z",
     "iopub.status.idle": "2022-02-14T02:59:36.991634Z",
     "shell.execute_reply": "2022-02-14T02:59:36.990953Z"
    }
   },
   "outputs": [],
   "source": [
    "OnePiece.feature_set_enrichment.score_set_new(\n",
    "    fe_,\n",
    "    sc_,\n",
    "    fe1_,\n",
    "    ou = joinpath(TE, \"mountain_new.html\"),\n",
    ")"
   ]
  },
  {
   "cell_type": "markdown",
   "id": "b2ede5e5",
   "metadata": {},
   "source": [
    "## score_set*"
   ]
  },
  {
   "cell_type": "code",
   "execution_count": null,
   "id": "bfe544b8",
   "metadata": {
    "execution": {
     "iopub.execute_input": "2022-02-14T02:59:36.993858Z",
     "iopub.status.busy": "2022-02-14T02:59:36.993211Z",
     "iopub.status.idle": "2022-02-14T02:59:36.995273Z",
     "shell.execute_reply": "2022-02-14T02:59:36.994715Z"
    }
   },
   "outputs": [],
   "source": [
    "using DataFrames"
   ]
  },
  {
   "cell_type": "code",
   "execution_count": null,
   "id": "ee5aff03",
   "metadata": {
    "execution": {
     "iopub.execute_input": "2022-02-14T02:59:36.997542Z",
     "iopub.status.busy": "2022-02-14T02:59:36.996821Z",
     "iopub.status.idle": "2022-02-14T02:59:37.412922Z",
     "shell.execute_reply": "2022-02-14T02:59:37.412348Z"
    }
   },
   "outputs": [],
   "source": [
    "fe_, sc_, fe1_ = OnePiece.feature_set_enrichment.make_benchmark(\"myc\")\n",
    "\n",
    "in_ = OnePiece.extension.vector.is_in(fe_, fe1_)\n",
    "\n",
    "sc_fe_sa = DataFrame(\n",
    "    \"Feature\" => fe_,\n",
    "    \"Score\" => sc_,\n",
    "    \"Score x 10\" => sc_ * 10,\n",
    "    \"Constant\" => fill(0.8, length(fe_)),\n",
    ")\n",
    "\n",
    "se_fe_ = OnePiece.io.gmt.read(\n",
    "    joinpath(@__DIR__, \"feature_set_enrichment.data\", \"h.all.v7.1.symbols.gmt\"),\n",
    ")\n",
    "\n",
    ";"
   ]
  },
  {
   "cell_type": "markdown",
   "id": "b3cd3ef2",
   "metadata": {},
   "source": [
    "### score_set"
   ]
  },
  {
   "cell_type": "code",
   "execution_count": null,
   "id": "871350b7",
   "metadata": {
    "execution": {
     "iopub.execute_input": "2022-02-14T02:59:37.415153Z",
     "iopub.status.busy": "2022-02-14T02:59:37.414500Z",
     "iopub.status.idle": "2022-02-14T02:59:37.489554Z",
     "shell.execute_reply": "2022-02-14T02:59:37.488971Z"
    }
   },
   "outputs": [],
   "source": [
    "OnePiece.feature_set_enrichment.score_set(fe_, sc_, fe1_, in_)"
   ]
  },
  {
   "cell_type": "code",
   "execution_count": null,
   "id": "f1d3072c",
   "metadata": {
    "execution": {
     "iopub.execute_input": "2022-02-14T02:59:37.492396Z",
     "iopub.status.busy": "2022-02-14T02:59:37.491474Z",
     "iopub.status.idle": "2022-02-14T02:59:37.553135Z",
     "shell.execute_reply": "2022-02-14T02:59:37.552496Z"
    }
   },
   "outputs": [],
   "source": [
    "OnePiece.feature_set_enrichment.score_set(fe_, sc_, fe1_)"
   ]
  },
  {
   "cell_type": "code",
   "execution_count": null,
   "id": "3e380333",
   "metadata": {
    "execution": {
     "iopub.execute_input": "2022-02-14T02:59:37.555674Z",
     "iopub.status.busy": "2022-02-14T02:59:37.554934Z",
     "iopub.status.idle": "2022-02-14T02:59:39.339177Z",
     "shell.execute_reply": "2022-02-14T02:59:39.338641Z"
    }
   },
   "outputs": [],
   "source": [
    "OnePiece.feature_set_enrichment.score_set(fe_, sc_, se_fe_)"
   ]
  },
  {
   "cell_type": "code",
   "execution_count": null,
   "id": "f31c3a45",
   "metadata": {
    "execution": {
     "iopub.execute_input": "2022-02-14T02:59:39.341288Z",
     "iopub.status.busy": "2022-02-14T02:59:39.340620Z",
     "iopub.status.idle": "2022-02-14T02:59:44.441256Z",
     "shell.execute_reply": "2022-02-14T02:59:44.440721Z"
    }
   },
   "outputs": [],
   "source": [
    "OnePiece.feature_set_enrichment.score_set(sc_fe_sa, se_fe_)"
   ]
  },
  {
   "cell_type": "markdown",
   "id": "b955b922",
   "metadata": {},
   "source": [
    "### score_set_new"
   ]
  },
  {
   "cell_type": "code",
   "execution_count": null,
   "id": "dc2fb2d2",
   "metadata": {
    "execution": {
     "iopub.execute_input": "2022-02-14T02:59:44.443539Z",
     "iopub.status.busy": "2022-02-14T02:59:44.442865Z",
     "iopub.status.idle": "2022-02-14T02:59:44.588206Z",
     "shell.execute_reply": "2022-02-14T02:59:44.587606Z"
    }
   },
   "outputs": [],
   "source": [
    "OnePiece.feature_set_enrichment.score_set_new(fe_, sc_, fe1_)"
   ]
  },
  {
   "cell_type": "code",
   "execution_count": null,
   "id": "a6ac1e10",
   "metadata": {
    "execution": {
     "iopub.execute_input": "2022-02-14T02:59:44.590848Z",
     "iopub.status.busy": "2022-02-14T02:59:44.590032Z",
     "iopub.status.idle": "2022-02-14T02:59:45.575979Z",
     "shell.execute_reply": "2022-02-14T02:59:45.575463Z"
    }
   },
   "outputs": [],
   "source": [
    "OnePiece.feature_set_enrichment.score_set_new(fe_, sc_, se_fe_)"
   ]
  },
  {
   "cell_type": "markdown",
   "id": "94460707",
   "metadata": {},
   "source": [
    "## try_method"
   ]
  },
  {
   "cell_type": "code",
   "execution_count": null,
   "id": "2893cb57",
   "metadata": {
    "execution": {
     "iopub.execute_input": "2022-02-14T02:59:45.578331Z",
     "iopub.status.busy": "2022-02-14T02:59:45.577660Z",
     "iopub.status.idle": "2022-02-14T02:59:47.716076Z",
     "shell.execute_reply": "2022-02-14T02:59:47.715559Z"
    }
   },
   "outputs": [],
   "source": [
    "OnePiece.feature_set_enrichment.try_method(fe_, sc_, fe1_, plp = false)"
   ]
  },
  {
   "cell_type": "markdown",
   "id": "3f396855",
   "metadata": {},
   "source": [
    "---"
   ]
  },
  {
   "cell_type": "code",
   "execution_count": null,
   "id": "b4af2023",
   "metadata": {
    "execution": {
     "iopub.execute_input": "2022-02-14T02:59:47.718343Z",
     "iopub.status.busy": "2022-02-14T02:59:47.717680Z",
     "iopub.status.idle": "2022-02-14T02:59:47.720790Z",
     "shell.execute_reply": "2022-02-14T02:59:47.720293Z"
    }
   },
   "outputs": [],
   "source": [
    "if isdir(TE)\n",
    "\n",
    "    rm(TE, recursive = true)\n",
    "\n",
    "    println(\"Removed \", TE, \".\")\n",
    "\n",
    "end"
   ]
  }
 ],
 "metadata": {
  "kernelspec": {
   "display_name": "Julia 1.7.2",
   "language": "julia",
   "name": "julia-1.7"
  },
  "language_info": {
   "file_extension": ".jl",
   "mimetype": "application/julia",
   "name": "julia",
   "version": "1.7.2"
  }
 },
 "nbformat": 4,
 "nbformat_minor": 5
}
