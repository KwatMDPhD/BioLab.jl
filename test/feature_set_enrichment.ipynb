{
 "cells": [
  {
   "cell_type": "code",
   "execution_count": null,
   "id": "c516e796",
   "metadata": {
    "execution": {
     "iopub.execute_input": "2022-08-17T13:44:47.929000Z",
     "iopub.status.busy": "2022-08-17T13:44:47.595000Z",
     "iopub.status.idle": "2022-08-17T13:44:52.508000Z",
     "shell.execute_reply": "2022-08-17T13:44:52.462000Z"
    }
   },
   "outputs": [],
   "source": [
    "using OnePiece"
   ]
  },
  {
   "cell_type": "code",
   "execution_count": null,
   "id": "8f2f5b35",
   "metadata": {
    "execution": {
     "iopub.execute_input": "2022-08-17T13:44:53.104000Z",
     "iopub.status.busy": "2022-08-17T13:44:52.524000Z",
     "iopub.status.idle": "2022-08-17T13:44:53.700000Z",
     "shell.execute_reply": "2022-08-17T13:44:53.700000Z"
    }
   },
   "outputs": [],
   "source": [
    "te = OnePiece.path.make_temporary(\"OnePiece.test.feature_set_enrichment\")"
   ]
  },
  {
   "cell_type": "code",
   "execution_count": null,
   "id": "22c23540",
   "metadata": {
    "execution": {
     "iopub.execute_input": "2022-08-17T13:44:53.706000Z",
     "iopub.status.busy": "2022-08-17T13:44:53.705000Z",
     "iopub.status.idle": "2022-08-17T13:44:53.706000Z",
     "shell.execute_reply": "2022-08-17T13:44:53.706000Z"
    }
   },
   "outputs": [],
   "source": [
    "using DataFrames"
   ]
  },
  {
   "cell_type": "markdown",
   "id": "b5d26adb",
   "metadata": {},
   "source": [
    "## _sum_1_absolute_and_0_count"
   ]
  },
  {
   "cell_type": "code",
   "execution_count": null,
   "id": "1f64a15a",
   "metadata": {
    "execution": {
     "iopub.execute_input": "2022-08-17T13:44:53.710000Z",
     "iopub.status.busy": "2022-08-17T13:44:53.710000Z",
     "iopub.status.idle": "2022-08-17T13:44:54.009000Z",
     "shell.execute_reply": "2022-08-17T13:44:54.009000Z"
    }
   },
   "outputs": [],
   "source": [
    "OnePiece.feature_set_enrichment._sum_1_absolute_and_0_count(\n",
    "    [-2.0, -1, 0, 1, 2],\n",
    "    convert(Vector{Bool}, [1, 1, 0, 0, 1]),\n",
    ")"
   ]
  },
  {
   "cell_type": "markdown",
   "id": "2aa30698",
   "metadata": {},
   "source": [
    "## _cumulate"
   ]
  },
  {
   "cell_type": "code",
   "execution_count": null,
   "id": "f45c4e4f",
   "metadata": {
    "execution": {
     "iopub.execute_input": "2022-08-17T13:44:54.013000Z",
     "iopub.status.busy": "2022-08-17T13:44:54.013000Z",
     "iopub.status.idle": "2022-08-17T13:44:54.854000Z",
     "shell.execute_reply": "2022-08-17T13:44:54.854000Z"
    }
   },
   "outputs": [],
   "source": [
    "ve = [0.1, 0.2, 0.4, 0.2, 0.1]"
   ]
  },
  {
   "cell_type": "code",
   "execution_count": null,
   "id": "90b86247",
   "metadata": {
    "execution": {
     "iopub.execute_input": "2022-08-17T13:44:54.857000Z",
     "iopub.status.busy": "2022-08-17T13:44:54.857000Z",
     "iopub.status.idle": "2022-08-17T13:44:54.878000Z",
     "shell.execute_reply": "2022-08-17T13:44:54.878000Z"
    }
   },
   "outputs": [],
   "source": [
    "cumsum(ve)"
   ]
  },
  {
   "cell_type": "code",
   "execution_count": null,
   "id": "e1f165b7",
   "metadata": {
    "execution": {
     "iopub.execute_input": "2022-08-17T13:44:54.881000Z",
     "iopub.status.busy": "2022-08-17T13:44:54.881000Z",
     "iopub.status.idle": "2022-08-17T13:44:54.919000Z",
     "shell.execute_reply": "2022-08-17T13:44:54.919000Z"
    }
   },
   "outputs": [],
   "source": [
    "1 .- cumsum(ve)"
   ]
  },
  {
   "cell_type": "code",
   "execution_count": null,
   "id": "4988ed4d",
   "metadata": {
    "execution": {
     "iopub.execute_input": "2022-08-17T13:44:54.924000Z",
     "iopub.status.busy": "2022-08-17T13:44:54.924000Z",
     "iopub.status.idle": "2022-08-17T13:44:55.282000Z",
     "shell.execute_reply": "2022-08-17T13:44:55.281000Z"
    }
   },
   "outputs": [],
   "source": [
    "OnePiece.feature_set_enrichment._cumulate(ve)"
   ]
  },
  {
   "cell_type": "markdown",
   "id": "416f5cc1",
   "metadata": {},
   "source": [
    "## _plot_mountain"
   ]
  },
  {
   "cell_type": "code",
   "execution_count": null,
   "id": "ad1ee2bd",
   "metadata": {
    "execution": {
     "iopub.execute_input": "2022-08-17T13:44:55.284000Z",
     "iopub.status.busy": "2022-08-17T13:44:55.284000Z",
     "iopub.status.idle": "2022-08-17T13:44:55.463000Z",
     "shell.execute_reply": "2022-08-17T13:44:55.462000Z"
    }
   },
   "outputs": [],
   "source": [
    "OnePiece.feature_set_enrichment._plot_mountain"
   ]
  },
  {
   "cell_type": "markdown",
   "id": "5c84331f",
   "metadata": {},
   "source": [
    "## make_benchmark"
   ]
  },
  {
   "cell_type": "code",
   "execution_count": null,
   "id": "a6be0bcb",
   "metadata": {
    "execution": {
     "iopub.execute_input": "2022-08-17T13:44:55.466000Z",
     "iopub.status.busy": "2022-08-17T13:44:55.466000Z",
     "iopub.status.idle": "2022-08-17T13:45:01.475000Z",
     "shell.execute_reply": "2022-08-17T13:45:01.474000Z"
    }
   },
   "outputs": [],
   "source": [
    "OnePiece.feature_set_enrichment.make_benchmark(\"card A2K\")"
   ]
  },
  {
   "cell_type": "code",
   "execution_count": null,
   "id": "50f056f8",
   "metadata": {
    "execution": {
     "iopub.execute_input": "2022-08-17T13:45:01.477000Z",
     "iopub.status.busy": "2022-08-17T13:45:01.477000Z",
     "iopub.status.idle": "2022-08-17T13:45:01.827000Z",
     "shell.execute_reply": "2022-08-17T13:45:01.827000Z"
    }
   },
   "outputs": [],
   "source": [
    "OnePiece.feature_set_enrichment.make_benchmark(\"random 3 2\")"
   ]
  },
  {
   "cell_type": "code",
   "execution_count": null,
   "id": "2fd2f9e9",
   "metadata": {
    "execution": {
     "iopub.execute_input": "2022-08-17T13:45:01.830000Z",
     "iopub.status.busy": "2022-08-17T13:45:01.830000Z",
     "iopub.status.idle": "2022-08-17T13:45:01.831000Z",
     "shell.execute_reply": "2022-08-17T13:45:01.831000Z"
    }
   },
   "outputs": [],
   "source": [
    "OnePiece.feature_set_enrichment.make_benchmark(\"random 4 2\")"
   ]
  },
  {
   "cell_type": "code",
   "execution_count": null,
   "id": "ffe60bda",
   "metadata": {
    "execution": {
     "iopub.execute_input": "2022-08-17T13:45:01.834000Z",
     "iopub.status.busy": "2022-08-17T13:45:01.834000Z",
     "iopub.status.idle": "2022-08-17T13:45:07.580000Z",
     "shell.execute_reply": "2022-08-17T13:45:07.580000Z"
    }
   },
   "outputs": [],
   "source": [
    "fe_, sc_, fe1_ = OnePiece.feature_set_enrichment.make_benchmark(\"myc\")\n",
    "\n",
    "println(length(fe_))\n",
    "\n",
    "println(length(sc_))\n",
    "\n",
    "println(length(fe1_))"
   ]
  },
  {
   "cell_type": "markdown",
   "id": "e0005834",
   "metadata": {},
   "source": [
    "## score_set*"
   ]
  },
  {
   "cell_type": "code",
   "execution_count": null,
   "id": "87741f4a",
   "metadata": {
    "execution": {
     "iopub.execute_input": "2022-08-17T13:45:07.586000Z",
     "iopub.status.busy": "2022-08-17T13:45:07.586000Z",
     "iopub.status.idle": "2022-08-17T13:45:07.587000Z",
     "shell.execute_reply": "2022-08-17T13:45:07.587000Z"
    }
   },
   "outputs": [],
   "source": [
    "fe_, sc_, fe1_ = OnePiece.feature_set_enrichment.make_benchmark(\"card AK\")"
   ]
  },
  {
   "cell_type": "markdown",
   "id": "0a5bc30f",
   "metadata": {},
   "source": [
    "## score_set"
   ]
  },
  {
   "cell_type": "code",
   "execution_count": null,
   "id": "2c5d14d0",
   "metadata": {
    "execution": {
     "iopub.execute_input": "2022-08-17T13:45:07.592000Z",
     "iopub.status.busy": "2022-08-17T13:45:07.591000Z",
     "iopub.status.idle": "2022-08-17T13:45:11.450000Z",
     "shell.execute_reply": "2022-08-17T13:45:11.450000Z"
    }
   },
   "outputs": [],
   "source": [
    "OnePiece.feature_set_enrichment.score_set(fe_, sc_, fe1_, ou = joinpath(te, \"mountain.html\"))"
   ]
  },
  {
   "cell_type": "markdown",
   "id": "1610cab2",
   "metadata": {},
   "source": [
    "## score_set_new"
   ]
  },
  {
   "cell_type": "code",
   "execution_count": null,
   "id": "60909b34",
   "metadata": {
    "execution": {
     "iopub.execute_input": "2022-08-17T13:45:11.454000Z",
     "iopub.status.busy": "2022-08-17T13:45:11.454000Z",
     "iopub.status.idle": "2022-08-17T13:45:12.361000Z",
     "shell.execute_reply": "2022-08-17T13:45:12.360000Z"
    }
   },
   "outputs": [],
   "source": [
    "OnePiece.feature_set_enrichment.score_set_new(\n",
    "    fe_,\n",
    "    sc_,\n",
    "    fe1_,\n",
    "    ou = joinpath(te, \"mountain_new.html\"),\n",
    ")"
   ]
  },
  {
   "cell_type": "markdown",
   "id": "a9aef25c",
   "metadata": {},
   "source": [
    "## More"
   ]
  },
  {
   "cell_type": "code",
   "execution_count": null,
   "id": "fd01b6d0",
   "metadata": {
    "execution": {
     "iopub.execute_input": "2022-08-17T13:45:12.364000Z",
     "iopub.status.busy": "2022-08-17T13:45:12.364000Z",
     "iopub.status.idle": "2022-08-17T13:45:12.653000Z",
     "shell.execute_reply": "2022-08-17T13:45:12.653000Z"
    }
   },
   "outputs": [],
   "source": [
    "fe_, sc_, fe1_ = OnePiece.feature_set_enrichment.make_benchmark(\"myc\")\n",
    "\n",
    "in_ = OnePiece.vector.is_in(fe_, fe1_)\n",
    "\n",
    "sc_fe_sa = DataFrame(\n",
    "    \"Feature\" => fe_,\n",
    "    \"Score\" => sc_,\n",
    "    \"Score x 10\" => sc_ * 10,\n",
    "    \"Constant\" => fill(0.8, length(fe_)),\n",
    ")\n",
    "\n",
    "se_fe_ =\n",
    "    OnePiece.gmt.read(joinpath(@__DIR__, \"feature_set_enrichment.data\", \"h.all.v7.1.symbols.gmt\"))\n",
    "\n",
    ";"
   ]
  },
  {
   "cell_type": "markdown",
   "id": "29648e2e",
   "metadata": {},
   "source": [
    "## score_set"
   ]
  },
  {
   "cell_type": "code",
   "execution_count": null,
   "id": "fb14dcef",
   "metadata": {
    "execution": {
     "iopub.execute_input": "2022-08-17T13:45:12.655000Z",
     "iopub.status.busy": "2022-08-17T13:45:12.655000Z",
     "iopub.status.idle": "2022-08-17T13:45:12.711000Z",
     "shell.execute_reply": "2022-08-17T13:45:12.711000Z"
    }
   },
   "outputs": [],
   "source": [
    "OnePiece.feature_set_enrichment.score_set(fe_, sc_, fe1_, in_)"
   ]
  },
  {
   "cell_type": "code",
   "execution_count": null,
   "id": "ca942b2a",
   "metadata": {
    "execution": {
     "iopub.execute_input": "2022-08-17T13:45:12.715000Z",
     "iopub.status.busy": "2022-08-17T13:45:12.715000Z",
     "iopub.status.idle": "2022-08-17T13:45:12.733000Z",
     "shell.execute_reply": "2022-08-17T13:45:12.733000Z"
    }
   },
   "outputs": [],
   "source": [
    "OnePiece.feature_set_enrichment.score_set(fe_, sc_, fe1_)"
   ]
  },
  {
   "cell_type": "code",
   "execution_count": null,
   "id": "cf091ae2",
   "metadata": {
    "execution": {
     "iopub.execute_input": "2022-08-17T13:45:12.737000Z",
     "iopub.status.busy": "2022-08-17T13:45:12.737000Z",
     "iopub.status.idle": "2022-08-17T13:45:13.906000Z",
     "shell.execute_reply": "2022-08-17T13:45:13.905000Z"
    }
   },
   "outputs": [],
   "source": [
    "OnePiece.feature_set_enrichment.score_set(fe_, sc_, se_fe_)"
   ]
  },
  {
   "cell_type": "code",
   "execution_count": null,
   "id": "d97a96a5",
   "metadata": {
    "execution": {
     "iopub.execute_input": "2022-08-17T13:45:13.908000Z",
     "iopub.status.busy": "2022-08-17T13:45:13.908000Z",
     "iopub.status.idle": "2022-08-17T13:45:19.237000Z",
     "shell.execute_reply": "2022-08-17T13:45:19.236000Z"
    }
   },
   "outputs": [],
   "source": [
    "OnePiece.feature_set_enrichment.score_set(sc_fe_sa, se_fe_)"
   ]
  },
  {
   "cell_type": "markdown",
   "id": "0e091e7b",
   "metadata": {},
   "source": [
    "## score_set_new"
   ]
  },
  {
   "cell_type": "code",
   "execution_count": null,
   "id": "2f4480dc",
   "metadata": {
    "execution": {
     "iopub.execute_input": "2022-08-17T13:45:19.240000Z",
     "iopub.status.busy": "2022-08-17T13:45:19.239000Z",
     "iopub.status.idle": "2022-08-17T13:45:19.346000Z",
     "shell.execute_reply": "2022-08-17T13:45:19.346000Z"
    }
   },
   "outputs": [],
   "source": [
    "OnePiece.feature_set_enrichment.score_set_new(fe_, sc_, fe1_)"
   ]
  },
  {
   "cell_type": "code",
   "execution_count": null,
   "id": "c573a195",
   "metadata": {
    "execution": {
     "iopub.execute_input": "2022-08-17T13:45:19.350000Z",
     "iopub.status.busy": "2022-08-17T13:45:19.350000Z",
     "iopub.status.idle": "2022-08-17T13:45:19.566000Z",
     "shell.execute_reply": "2022-08-17T13:45:19.566000Z"
    }
   },
   "outputs": [],
   "source": [
    "OnePiece.feature_set_enrichment.score_set_new(fe_, sc_, se_fe_)"
   ]
  }
 ],
 "metadata": {
  "@webio": {
   "lastCommId": null,
   "lastKernelId": null
  },
  "kernelspec": {
   "display_name": "Julia 1.7.3",
   "language": "julia",
   "name": "julia-1.7"
  },
  "language_info": {
   "file_extension": ".jl",
   "mimetype": "application/julia",
   "name": "julia",
   "version": "1.7.3"
  }
 },
 "nbformat": 4,
 "nbformat_minor": 5
}
