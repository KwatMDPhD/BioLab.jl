{
 "cells": [
  {
   "cell_type": "code",
   "execution_count": null,
   "id": "017464da",
   "metadata": {
    "execution": {
     "iopub.execute_input": "2022-02-13T21:54:04.619083Z",
     "iopub.status.busy": "2022-02-13T21:54:04.259111Z",
     "iopub.status.idle": "2022-02-13T21:54:04.825682Z",
     "shell.execute_reply": "2022-02-13T21:54:04.825193Z"
    }
   },
   "outputs": [],
   "source": [
    "TE = joinpath(tempdir(), \"OnePiece.test\")\n",
    "\n",
    "if isdir(TE)\n",
    "\n",
    "    rm(TE, recursive = true)\n",
    "\n",
    "    println(\"Removed \", TE, \".\")\n",
    "\n",
    "end\n",
    "\n",
    "mkdir(TE)\n",
    "\n",
    "println(\"Made \", TE, \".\")"
   ]
  },
  {
   "cell_type": "code",
   "execution_count": null,
   "id": "34e4701e",
   "metadata": {
    "execution": {
     "iopub.execute_input": "2022-02-13T21:54:04.827693Z",
     "iopub.status.busy": "2022-02-13T21:54:04.827191Z",
     "iopub.status.idle": "2022-02-13T21:54:09.175780Z",
     "shell.execute_reply": "2022-02-13T21:54:09.175295Z"
    }
   },
   "outputs": [],
   "source": [
    "using OnePiece"
   ]
  },
  {
   "cell_type": "markdown",
   "id": "b92a3da9",
   "metadata": {},
   "source": [
    "---"
   ]
  },
  {
   "cell_type": "markdown",
   "id": "ccdb8b26",
   "metadata": {},
   "source": [
    "## get_probability_and_cumulate"
   ]
  },
  {
   "cell_type": "code",
   "execution_count": null,
   "id": "1ba5422d",
   "metadata": {
    "execution": {
     "iopub.execute_input": "2022-02-13T21:54:09.514314Z",
     "iopub.status.busy": "2022-02-13T21:54:09.177736Z",
     "iopub.status.idle": "2022-02-13T21:54:10.288726Z",
     "shell.execute_reply": "2022-02-13T21:54:10.288333Z"
    }
   },
   "outputs": [],
   "source": [
    "OnePiece.feature_set_enrichment.get_probability_and_cumulate([1, 4])"
   ]
  },
  {
   "cell_type": "markdown",
   "id": "f009ac6a",
   "metadata": {},
   "source": [
    "## sum_1_absolute_and_0_count"
   ]
  },
  {
   "cell_type": "code",
   "execution_count": null,
   "id": "6ea9fb15",
   "metadata": {
    "execution": {
     "iopub.execute_input": "2022-02-13T21:54:10.290950Z",
     "iopub.status.busy": "2022-02-13T21:54:10.290327Z",
     "iopub.status.idle": "2022-02-13T21:54:10.604284Z",
     "shell.execute_reply": "2022-02-13T21:54:10.603894Z"
    }
   },
   "outputs": [],
   "source": [
    "OnePiece.feature_set_enrichment.sum_1_absolute_and_0_count(\n",
    "    [-2.0, -1, 0, 1, 2],\n",
    "    convert(Vector{Bool}, [1, 1, 0, 0, 1]),\n",
    ")"
   ]
  },
  {
   "cell_type": "markdown",
   "id": "8a6e1061",
   "metadata": {},
   "source": [
    "## make_benchmark"
   ]
  },
  {
   "cell_type": "code",
   "execution_count": null,
   "id": "4c20ec75",
   "metadata": {
    "execution": {
     "iopub.execute_input": "2022-02-13T21:54:10.606263Z",
     "iopub.status.busy": "2022-02-13T21:54:10.605756Z",
     "iopub.status.idle": "2022-02-13T21:54:17.792939Z",
     "shell.execute_reply": "2022-02-13T21:54:17.792528Z"
    }
   },
   "outputs": [],
   "source": [
    "try\n",
    "\n",
    "    OnePiece.feature_set_enrichment.make_benchmark(\"card 12K\")\n",
    "\n",
    "catch er\n",
    "\n",
    "    er\n",
    "\n",
    "end"
   ]
  },
  {
   "cell_type": "code",
   "execution_count": null,
   "id": "68aeeb9b",
   "metadata": {
    "execution": {
     "iopub.execute_input": "2022-02-13T21:54:17.795928Z",
     "iopub.status.busy": "2022-02-13T21:54:17.795077Z",
     "iopub.status.idle": "2022-02-13T21:54:18.246725Z",
     "shell.execute_reply": "2022-02-13T21:54:18.246341Z"
    }
   },
   "outputs": [],
   "source": [
    "OnePiece.feature_set_enrichment.make_benchmark(\"card A2K\")"
   ]
  },
  {
   "cell_type": "code",
   "execution_count": null,
   "id": "a93d4ce0",
   "metadata": {
    "execution": {
     "iopub.execute_input": "2022-02-13T21:54:18.248620Z",
     "iopub.status.busy": "2022-02-13T21:54:18.248112Z",
     "iopub.status.idle": "2022-02-13T21:54:18.621016Z",
     "shell.execute_reply": "2022-02-13T21:54:18.620581Z"
    }
   },
   "outputs": [],
   "source": [
    "OnePiece.feature_set_enrichment.make_benchmark(\"random 3 2\")"
   ]
  },
  {
   "cell_type": "code",
   "execution_count": null,
   "id": "a0f3bce7",
   "metadata": {
    "execution": {
     "iopub.execute_input": "2022-02-13T21:54:18.623180Z",
     "iopub.status.busy": "2022-02-13T21:54:18.622409Z",
     "iopub.status.idle": "2022-02-13T21:54:18.624769Z",
     "shell.execute_reply": "2022-02-13T21:54:18.624325Z"
    }
   },
   "outputs": [],
   "source": [
    "OnePiece.feature_set_enrichment.make_benchmark(\"random 4 2\")"
   ]
  },
  {
   "cell_type": "code",
   "execution_count": null,
   "id": "86bfbc58",
   "metadata": {
    "execution": {
     "iopub.execute_input": "2022-02-13T21:54:18.626918Z",
     "iopub.status.busy": "2022-02-13T21:54:18.626015Z",
     "iopub.status.idle": "2022-02-13T21:54:29.935620Z",
     "shell.execute_reply": "2022-02-13T21:54:29.935178Z"
    }
   },
   "outputs": [],
   "source": [
    "fe_, sc_, fe1_ = OnePiece.feature_set_enrichment.make_benchmark(\"myc\")\n",
    "\n",
    "println(length(fe_))\n",
    "\n",
    "println(length(sc_))\n",
    "\n",
    "println(length(fe1_))"
   ]
  },
  {
   "cell_type": "markdown",
   "id": "337971f7",
   "metadata": {},
   "source": [
    "## plot_mountain"
   ]
  },
  {
   "cell_type": "code",
   "execution_count": null,
   "id": "e74b541b",
   "metadata": {
    "execution": {
     "iopub.execute_input": "2022-02-13T21:54:29.937688Z",
     "iopub.status.busy": "2022-02-13T21:54:29.936984Z",
     "iopub.status.idle": "2022-02-13T21:54:29.938373Z",
     "shell.execute_reply": "2022-02-13T21:54:29.938723Z"
    }
   },
   "outputs": [],
   "source": [
    "fe_, sc_, fe1_ = OnePiece.feature_set_enrichment.make_benchmark(\"card AK\")\n",
    "\n",
    ";"
   ]
  },
  {
   "cell_type": "code",
   "execution_count": null,
   "id": "58f279e2",
   "metadata": {
    "execution": {
     "iopub.execute_input": "2022-02-13T21:54:29.940576Z",
     "iopub.status.busy": "2022-02-13T21:54:29.940079Z",
     "iopub.status.idle": "2022-02-13T21:54:32.791715Z",
     "shell.execute_reply": "2022-02-13T21:54:32.791257Z"
    }
   },
   "outputs": [],
   "source": [
    "OnePiece.feature_set_enrichment.score_set(fe_, sc_, fe1_, ou = joinpath(TE, \"mountain.html\"))"
   ]
  },
  {
   "cell_type": "code",
   "execution_count": null,
   "id": "517bc174",
   "metadata": {
    "execution": {
     "iopub.execute_input": "2022-02-13T21:54:32.794027Z",
     "iopub.status.busy": "2022-02-13T21:54:32.793315Z",
     "iopub.status.idle": "2022-02-13T21:54:33.648587Z",
     "shell.execute_reply": "2022-02-13T21:54:33.648154Z"
    }
   },
   "outputs": [],
   "source": [
    "OnePiece.feature_set_enrichment.score_set_new(\n",
    "    fe_,\n",
    "    sc_,\n",
    "    fe1_,\n",
    "    ou = joinpath(TE, \"mountain_new.html\"),\n",
    ")"
   ]
  },
  {
   "cell_type": "markdown",
   "id": "b2ede5e5",
   "metadata": {},
   "source": [
    "## score_set*"
   ]
  },
  {
   "cell_type": "code",
   "execution_count": null,
   "id": "bfe544b8",
   "metadata": {
    "execution": {
     "iopub.execute_input": "2022-02-13T21:54:33.651003Z",
     "iopub.status.busy": "2022-02-13T21:54:33.650400Z",
     "iopub.status.idle": "2022-02-13T21:54:33.652711Z",
     "shell.execute_reply": "2022-02-13T21:54:33.652147Z"
    }
   },
   "outputs": [],
   "source": [
    "using DataFrames"
   ]
  },
  {
   "cell_type": "code",
   "execution_count": null,
   "id": "ee5aff03",
   "metadata": {
    "execution": {
     "iopub.execute_input": "2022-02-13T21:54:33.654683Z",
     "iopub.status.busy": "2022-02-13T21:54:33.654082Z",
     "iopub.status.idle": "2022-02-13T21:54:34.006070Z",
     "shell.execute_reply": "2022-02-13T21:54:34.005624Z"
    }
   },
   "outputs": [],
   "source": [
    "fe_, sc_, fe1_ = OnePiece.feature_set_enrichment.make_benchmark(\"myc\")\n",
    "\n",
    "in_ = OnePiece.extension.vector.is_in(fe_, fe1_)\n",
    "\n",
    "sc_fe_sa = DataFrame(\n",
    "    \"Feature\" => fe_,\n",
    "    \"Score\" => sc_,\n",
    "    \"Score x 10\" => sc_ * 10,\n",
    "    \"Constant\" => fill(0.8, length(fe_)),\n",
    ")\n",
    "\n",
    "se_fe_ = OnePiece.io.gmt.read(\n",
    "    joinpath(@__DIR__, \"feature_set_enrichment.data\", \"h.all.v7.1.symbols.gmt\"),\n",
    ")\n",
    "\n",
    ";"
   ]
  },
  {
   "cell_type": "markdown",
   "id": "b3cd3ef2",
   "metadata": {},
   "source": [
    "### score_set"
   ]
  },
  {
   "cell_type": "code",
   "execution_count": null,
   "id": "871350b7",
   "metadata": {
    "execution": {
     "iopub.execute_input": "2022-02-13T21:54:34.008062Z",
     "iopub.status.busy": "2022-02-13T21:54:34.007568Z",
     "iopub.status.idle": "2022-02-13T21:54:34.066743Z",
     "shell.execute_reply": "2022-02-13T21:54:34.066324Z"
    }
   },
   "outputs": [],
   "source": [
    "OnePiece.feature_set_enrichment.score_set(fe_, sc_, fe1_, in_)"
   ]
  },
  {
   "cell_type": "code",
   "execution_count": null,
   "id": "f1d3072c",
   "metadata": {
    "execution": {
     "iopub.execute_input": "2022-02-13T21:54:34.069020Z",
     "iopub.status.busy": "2022-02-13T21:54:34.068409Z",
     "iopub.status.idle": "2022-02-13T21:54:34.115014Z",
     "shell.execute_reply": "2022-02-13T21:54:34.115451Z"
    }
   },
   "outputs": [],
   "source": [
    "OnePiece.feature_set_enrichment.score_set(fe_, sc_, fe1_)"
   ]
  },
  {
   "cell_type": "code",
   "execution_count": null,
   "id": "3e380333",
   "metadata": {
    "execution": {
     "iopub.execute_input": "2022-02-13T21:54:34.117913Z",
     "iopub.status.busy": "2022-02-13T21:54:34.117204Z",
     "iopub.status.idle": "2022-02-13T21:54:35.784083Z",
     "shell.execute_reply": "2022-02-13T21:54:35.783612Z"
    }
   },
   "outputs": [],
   "source": [
    "OnePiece.feature_set_enrichment.score_set(fe_, sc_, se_fe_)"
   ]
  },
  {
   "cell_type": "code",
   "execution_count": null,
   "id": "f31c3a45",
   "metadata": {
    "execution": {
     "iopub.execute_input": "2022-02-13T21:54:35.786227Z",
     "iopub.status.busy": "2022-02-13T21:54:35.785600Z",
     "iopub.status.idle": "2022-02-13T21:54:40.030660Z",
     "shell.execute_reply": "2022-02-13T21:54:40.030199Z"
    }
   },
   "outputs": [],
   "source": [
    "OnePiece.feature_set_enrichment.score_set(sc_fe_sa, se_fe_)"
   ]
  },
  {
   "cell_type": "markdown",
   "id": "b955b922",
   "metadata": {},
   "source": [
    "### score_set_new"
   ]
  },
  {
   "cell_type": "code",
   "execution_count": null,
   "id": "dc2fb2d2",
   "metadata": {
    "execution": {
     "iopub.execute_input": "2022-02-13T21:54:40.032645Z",
     "iopub.status.busy": "2022-02-13T21:54:40.032066Z",
     "iopub.status.idle": "2022-02-13T21:54:40.143965Z",
     "shell.execute_reply": "2022-02-13T21:54:40.144352Z"
    }
   },
   "outputs": [],
   "source": [
    "OnePiece.feature_set_enrichment.score_set_new(fe_, sc_, fe1_)"
   ]
  },
  {
   "cell_type": "code",
   "execution_count": null,
   "id": "a6ac1e10",
   "metadata": {
    "execution": {
     "iopub.execute_input": "2022-02-13T21:54:40.146276Z",
     "iopub.status.busy": "2022-02-13T21:54:40.145644Z",
     "iopub.status.idle": "2022-02-13T21:54:40.997921Z",
     "shell.execute_reply": "2022-02-13T21:54:40.997524Z"
    }
   },
   "outputs": [],
   "source": [
    "OnePiece.feature_set_enrichment.score_set_new(fe_, sc_, se_fe_)"
   ]
  },
  {
   "cell_type": "markdown",
   "id": "94460707",
   "metadata": {},
   "source": [
    "## try_method"
   ]
  },
  {
   "cell_type": "code",
   "execution_count": null,
   "id": "2893cb57",
   "metadata": {
    "execution": {
     "iopub.execute_input": "2022-02-13T21:54:40.999864Z",
     "iopub.status.busy": "2022-02-13T21:54:40.999364Z",
     "iopub.status.idle": "2022-02-13T21:54:42.605268Z",
     "shell.execute_reply": "2022-02-13T21:54:42.604883Z"
    }
   },
   "outputs": [],
   "source": [
    "OnePiece.feature_set_enrichment.try_method(fe_, sc_, fe1_, plp = false)"
   ]
  },
  {
   "cell_type": "markdown",
   "id": "3f396855",
   "metadata": {},
   "source": [
    "---"
   ]
  },
  {
   "cell_type": "code",
   "execution_count": null,
   "id": "b4af2023",
   "metadata": {
    "execution": {
     "iopub.execute_input": "2022-02-13T21:54:42.607170Z",
     "iopub.status.busy": "2022-02-13T21:54:42.606673Z",
     "iopub.status.idle": "2022-02-13T21:54:42.609245Z",
     "shell.execute_reply": "2022-02-13T21:54:42.608816Z"
    }
   },
   "outputs": [],
   "source": [
    "if isdir(TE)\n",
    "\n",
    "    rm(TE, recursive = true)\n",
    "\n",
    "    println(\"Removed \", TE, \".\")\n",
    "\n",
    "end"
   ]
  }
 ],
 "metadata": {
  "kernelspec": {
   "display_name": "Julia 1.7.2",
   "language": "julia",
   "name": "julia-1.7"
  },
  "language_info": {
   "file_extension": ".jl",
   "mimetype": "application/julia",
   "name": "julia",
   "version": "1.7.2"
  }
 },
 "nbformat": 4,
 "nbformat_minor": 5
}
