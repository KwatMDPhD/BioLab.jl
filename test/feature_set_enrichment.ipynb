{
 "cells": [
  {
   "cell_type": "code",
   "execution_count": null,
   "id": "017464da",
   "metadata": {
    "execution": {
     "iopub.execute_input": "2022-02-14T15:22:42.281198Z",
     "iopub.status.busy": "2022-02-14T15:22:41.952173Z",
     "iopub.status.idle": "2022-02-14T15:22:42.463073Z",
     "shell.execute_reply": "2022-02-14T15:22:42.462537Z"
    }
   },
   "outputs": [],
   "source": [
    "TE = joinpath(tempdir(), \"OnePiece.test\")\n",
    "\n",
    "if isdir(TE)\n",
    "\n",
    "    rm(TE, recursive = true)\n",
    "\n",
    "    println(\"Removed \", TE, \".\")\n",
    "\n",
    "end\n",
    "\n",
    "mkdir(TE)\n",
    "\n",
    "println(\"Made \", TE, \".\")"
   ]
  },
  {
   "cell_type": "code",
   "execution_count": null,
   "id": "34e4701e",
   "metadata": {
    "execution": {
     "iopub.execute_input": "2022-02-14T15:22:42.465001Z",
     "iopub.status.busy": "2022-02-14T15:22:42.464423Z",
     "iopub.status.idle": "2022-02-14T15:22:46.542229Z",
     "shell.execute_reply": "2022-02-14T15:22:46.541785Z"
    }
   },
   "outputs": [],
   "source": [
    "using OnePiece"
   ]
  },
  {
   "cell_type": "markdown",
   "id": "b92a3da9",
   "metadata": {},
   "source": [
    "---"
   ]
  },
  {
   "cell_type": "markdown",
   "id": "ccdb8b26",
   "metadata": {},
   "source": [
    "## get_probability_and_cumulate"
   ]
  },
  {
   "cell_type": "code",
   "execution_count": null,
   "id": "1ba5422d",
   "metadata": {
    "execution": {
     "iopub.execute_input": "2022-02-14T15:22:46.859185Z",
     "iopub.status.busy": "2022-02-14T15:22:46.543613Z",
     "iopub.status.idle": "2022-02-14T15:22:47.587948Z",
     "shell.execute_reply": "2022-02-14T15:22:47.587557Z"
    }
   },
   "outputs": [],
   "source": [
    "OnePiece.feature_set_enrichment.get_probability_and_cumulate([1, 4])"
   ]
  },
  {
   "cell_type": "markdown",
   "id": "f009ac6a",
   "metadata": {},
   "source": [
    "## sum_1_absolute_and_0_count"
   ]
  },
  {
   "cell_type": "code",
   "execution_count": null,
   "id": "6ea9fb15",
   "metadata": {
    "execution": {
     "iopub.execute_input": "2022-02-14T15:22:47.589933Z",
     "iopub.status.busy": "2022-02-14T15:22:47.589363Z",
     "iopub.status.idle": "2022-02-14T15:22:47.856728Z",
     "shell.execute_reply": "2022-02-14T15:22:47.856339Z"
    }
   },
   "outputs": [],
   "source": [
    "OnePiece.feature_set_enrichment.sum_1_absolute_and_0_count(\n",
    "    [-2.0, -1, 0, 1, 2],\n",
    "    convert(Vector{Bool}, [1, 1, 0, 0, 1]),\n",
    ")"
   ]
  },
  {
   "cell_type": "markdown",
   "id": "8a6e1061",
   "metadata": {},
   "source": [
    "## make_benchmark"
   ]
  },
  {
   "cell_type": "code",
   "execution_count": null,
   "id": "4c20ec75",
   "metadata": {
    "execution": {
     "iopub.execute_input": "2022-02-14T15:22:47.858613Z",
     "iopub.status.busy": "2022-02-14T15:22:47.858115Z",
     "iopub.status.idle": "2022-02-14T15:22:54.626850Z",
     "shell.execute_reply": "2022-02-14T15:22:54.626445Z"
    }
   },
   "outputs": [],
   "source": [
    "try\n",
    "\n",
    "    OnePiece.feature_set_enrichment.make_benchmark(\"card 12K\")\n",
    "\n",
    "catch er\n",
    "\n",
    "    er\n",
    "\n",
    "end"
   ]
  },
  {
   "cell_type": "code",
   "execution_count": null,
   "id": "68aeeb9b",
   "metadata": {
    "execution": {
     "iopub.execute_input": "2022-02-14T15:22:54.628731Z",
     "iopub.status.busy": "2022-02-14T15:22:54.628230Z",
     "iopub.status.idle": "2022-02-14T15:22:55.028699Z",
     "shell.execute_reply": "2022-02-14T15:22:55.028309Z"
    }
   },
   "outputs": [],
   "source": [
    "OnePiece.feature_set_enrichment.make_benchmark(\"card A2K\")"
   ]
  },
  {
   "cell_type": "code",
   "execution_count": null,
   "id": "a93d4ce0",
   "metadata": {
    "execution": {
     "iopub.execute_input": "2022-02-14T15:22:55.030627Z",
     "iopub.status.busy": "2022-02-14T15:22:55.030133Z",
     "iopub.status.idle": "2022-02-14T15:22:55.355157Z",
     "shell.execute_reply": "2022-02-14T15:22:55.354774Z"
    }
   },
   "outputs": [],
   "source": [
    "OnePiece.feature_set_enrichment.make_benchmark(\"random 3 2\")"
   ]
  },
  {
   "cell_type": "code",
   "execution_count": null,
   "id": "a0f3bce7",
   "metadata": {
    "execution": {
     "iopub.execute_input": "2022-02-14T15:22:55.357446Z",
     "iopub.status.busy": "2022-02-14T15:22:55.356486Z",
     "iopub.status.idle": "2022-02-14T15:22:55.358959Z",
     "shell.execute_reply": "2022-02-14T15:22:55.357961Z"
    }
   },
   "outputs": [],
   "source": [
    "OnePiece.feature_set_enrichment.make_benchmark(\"random 4 2\")"
   ]
  },
  {
   "cell_type": "code",
   "execution_count": null,
   "id": "86bfbc58",
   "metadata": {
    "execution": {
     "iopub.execute_input": "2022-02-14T15:22:55.360688Z",
     "iopub.status.busy": "2022-02-14T15:22:55.360212Z",
     "iopub.status.idle": "2022-02-14T15:23:05.924057Z",
     "shell.execute_reply": "2022-02-14T15:23:05.923614Z"
    }
   },
   "outputs": [],
   "source": [
    "fe_, sc_, fe1_ = OnePiece.feature_set_enrichment.make_benchmark(\"myc\")\n",
    "\n",
    "println(length(fe_))\n",
    "\n",
    "println(length(sc_))\n",
    "\n",
    "println(length(fe1_))"
   ]
  },
  {
   "cell_type": "markdown",
   "id": "337971f7",
   "metadata": {},
   "source": [
    "## plot_mountain"
   ]
  },
  {
   "cell_type": "code",
   "execution_count": null,
   "id": "e74b541b",
   "metadata": {
    "execution": {
     "iopub.execute_input": "2022-02-14T15:23:05.926386Z",
     "iopub.status.busy": "2022-02-14T15:23:05.925450Z",
     "iopub.status.idle": "2022-02-14T15:23:05.926973Z",
     "shell.execute_reply": "2022-02-14T15:23:05.927316Z"
    }
   },
   "outputs": [],
   "source": [
    "fe_, sc_, fe1_ = OnePiece.feature_set_enrichment.make_benchmark(\"card AK\")\n",
    "\n",
    ";"
   ]
  },
  {
   "cell_type": "code",
   "execution_count": null,
   "id": "58f279e2",
   "metadata": {
    "execution": {
     "iopub.execute_input": "2022-02-14T15:23:05.929087Z",
     "iopub.status.busy": "2022-02-14T15:23:05.928594Z",
     "iopub.status.idle": "2022-02-14T15:23:08.596344Z",
     "shell.execute_reply": "2022-02-14T15:23:08.595946Z"
    }
   },
   "outputs": [],
   "source": [
    "OnePiece.feature_set_enrichment.score_set(fe_, sc_, fe1_, ou = joinpath(TE, \"mountain.html\"))"
   ]
  },
  {
   "cell_type": "code",
   "execution_count": null,
   "id": "517bc174",
   "metadata": {
    "execution": {
     "iopub.execute_input": "2022-02-14T15:23:08.598401Z",
     "iopub.status.busy": "2022-02-14T15:23:08.597843Z",
     "iopub.status.idle": "2022-02-14T15:23:09.419297Z",
     "shell.execute_reply": "2022-02-14T15:23:09.419724Z"
    }
   },
   "outputs": [],
   "source": [
    "OnePiece.feature_set_enrichment.score_set_new(\n",
    "    fe_,\n",
    "    sc_,\n",
    "    fe1_,\n",
    "    ou = joinpath(TE, \"mountain_new.html\"),\n",
    ")"
   ]
  },
  {
   "cell_type": "markdown",
   "id": "b2ede5e5",
   "metadata": {},
   "source": [
    "## score_set*"
   ]
  },
  {
   "cell_type": "code",
   "execution_count": null,
   "id": "bfe544b8",
   "metadata": {
    "execution": {
     "iopub.execute_input": "2022-02-14T15:23:09.422118Z",
     "iopub.status.busy": "2022-02-14T15:23:09.421530Z",
     "iopub.status.idle": "2022-02-14T15:23:09.422884Z",
     "shell.execute_reply": "2022-02-14T15:23:09.423302Z"
    }
   },
   "outputs": [],
   "source": [
    "using DataFrames"
   ]
  },
  {
   "cell_type": "code",
   "execution_count": null,
   "id": "ee5aff03",
   "metadata": {
    "execution": {
     "iopub.execute_input": "2022-02-14T15:23:09.425168Z",
     "iopub.status.busy": "2022-02-14T15:23:09.424591Z",
     "iopub.status.idle": "2022-02-14T15:23:09.787396Z",
     "shell.execute_reply": "2022-02-14T15:23:09.786954Z"
    }
   },
   "outputs": [],
   "source": [
    "fe_, sc_, fe1_ = OnePiece.feature_set_enrichment.make_benchmark(\"myc\")\n",
    "\n",
    "in_ = OnePiece.extension.vector.is_in(fe_, fe1_)\n",
    "\n",
    "sc_fe_sa = DataFrame(\n",
    "    \"Feature\" => fe_,\n",
    "    \"Score\" => sc_,\n",
    "    \"Score x 10\" => sc_ * 10,\n",
    "    \"Constant\" => fill(0.8, length(fe_)),\n",
    ")\n",
    "\n",
    "se_fe_ = OnePiece.io.gmt.read(\n",
    "    joinpath(@__DIR__, \"feature_set_enrichment.data\", \"h.all.v7.1.symbols.gmt\"),\n",
    ")\n",
    "\n",
    ";"
   ]
  },
  {
   "cell_type": "markdown",
   "id": "b3cd3ef2",
   "metadata": {},
   "source": [
    "### score_set"
   ]
  },
  {
   "cell_type": "code",
   "execution_count": null,
   "id": "871350b7",
   "metadata": {
    "execution": {
     "iopub.execute_input": "2022-02-14T15:23:09.789243Z",
     "iopub.status.busy": "2022-02-14T15:23:09.788749Z",
     "iopub.status.idle": "2022-02-14T15:23:09.852291Z",
     "shell.execute_reply": "2022-02-14T15:23:09.851842Z"
    }
   },
   "outputs": [],
   "source": [
    "OnePiece.feature_set_enrichment.score_set(fe_, sc_, fe1_, in_)"
   ]
  },
  {
   "cell_type": "code",
   "execution_count": null,
   "id": "f1d3072c",
   "metadata": {
    "execution": {
     "iopub.execute_input": "2022-02-14T15:23:09.854957Z",
     "iopub.status.busy": "2022-02-14T15:23:09.854213Z",
     "iopub.status.idle": "2022-02-14T15:23:09.904153Z",
     "shell.execute_reply": "2022-02-14T15:23:09.904584Z"
    }
   },
   "outputs": [],
   "source": [
    "OnePiece.feature_set_enrichment.score_set(fe_, sc_, fe1_)"
   ]
  },
  {
   "cell_type": "code",
   "execution_count": null,
   "id": "3e380333",
   "metadata": {
    "execution": {
     "iopub.execute_input": "2022-02-14T15:23:09.906768Z",
     "iopub.status.busy": "2022-02-14T15:23:09.906184Z",
     "iopub.status.idle": "2022-02-14T15:23:11.272352Z",
     "shell.execute_reply": "2022-02-14T15:23:11.271955Z"
    }
   },
   "outputs": [],
   "source": [
    "OnePiece.feature_set_enrichment.score_set(fe_, sc_, se_fe_)"
   ]
  },
  {
   "cell_type": "code",
   "execution_count": null,
   "id": "f31c3a45",
   "metadata": {
    "execution": {
     "iopub.execute_input": "2022-02-14T15:23:11.274328Z",
     "iopub.status.busy": "2022-02-14T15:23:11.273576Z",
     "iopub.status.idle": "2022-02-14T15:23:15.025140Z",
     "shell.execute_reply": "2022-02-14T15:23:15.024762Z"
    }
   },
   "outputs": [],
   "source": [
    "OnePiece.feature_set_enrichment.score_set(sc_fe_sa, se_fe_)"
   ]
  },
  {
   "cell_type": "markdown",
   "id": "b955b922",
   "metadata": {},
   "source": [
    "### score_set_new"
   ]
  },
  {
   "cell_type": "code",
   "execution_count": null,
   "id": "dc2fb2d2",
   "metadata": {
    "execution": {
     "iopub.execute_input": "2022-02-14T15:23:15.027136Z",
     "iopub.status.busy": "2022-02-14T15:23:15.026644Z",
     "iopub.status.idle": "2022-02-14T15:23:15.158930Z",
     "shell.execute_reply": "2022-02-14T15:23:15.159276Z"
    }
   },
   "outputs": [],
   "source": [
    "OnePiece.feature_set_enrichment.score_set_new(fe_, sc_, fe1_)"
   ]
  },
  {
   "cell_type": "code",
   "execution_count": null,
   "id": "a6ac1e10",
   "metadata": {
    "execution": {
     "iopub.execute_input": "2022-02-14T15:23:15.161284Z",
     "iopub.status.busy": "2022-02-14T15:23:15.160789Z",
     "iopub.status.idle": "2022-02-14T15:23:15.971607Z",
     "shell.execute_reply": "2022-02-14T15:23:15.971216Z"
    }
   },
   "outputs": [],
   "source": [
    "OnePiece.feature_set_enrichment.score_set_new(fe_, sc_, se_fe_)"
   ]
  },
  {
   "cell_type": "markdown",
   "id": "94460707",
   "metadata": {},
   "source": [
    "## try_method"
   ]
  },
  {
   "cell_type": "code",
   "execution_count": null,
   "id": "2893cb57",
   "metadata": {
    "execution": {
     "iopub.execute_input": "2022-02-14T15:23:15.973550Z",
     "iopub.status.busy": "2022-02-14T15:23:15.973054Z",
     "iopub.status.idle": "2022-02-14T15:23:17.608011Z",
     "shell.execute_reply": "2022-02-14T15:23:17.607610Z"
    }
   },
   "outputs": [],
   "source": [
    "OnePiece.feature_set_enrichment.try_method(fe_, sc_, fe1_, plp = false)"
   ]
  },
  {
   "cell_type": "markdown",
   "id": "3f396855",
   "metadata": {},
   "source": [
    "---"
   ]
  },
  {
   "cell_type": "code",
   "execution_count": null,
   "id": "b4af2023",
   "metadata": {
    "execution": {
     "iopub.execute_input": "2022-02-14T15:23:17.610018Z",
     "iopub.status.busy": "2022-02-14T15:23:17.609528Z",
     "iopub.status.idle": "2022-02-14T15:23:17.612082Z",
     "shell.execute_reply": "2022-02-14T15:23:17.611733Z"
    }
   },
   "outputs": [],
   "source": [
    "if isdir(TE)\n",
    "\n",
    "    rm(TE, recursive = true)\n",
    "\n",
    "    println(\"Removed \", TE, \".\")\n",
    "\n",
    "end"
   ]
  }
 ],
 "metadata": {
  "kernelspec": {
   "display_name": "Julia 1.7.2",
   "language": "julia",
   "name": "julia-1.7"
  },
  "language_info": {
   "file_extension": ".jl",
   "mimetype": "application/julia",
   "name": "julia",
   "version": "1.7.2"
  }
 },
 "nbformat": 4,
 "nbformat_minor": 5
}
