{
 "cells": [
  {
   "cell_type": "code",
   "execution_count": null,
   "id": "34e4701e",
   "metadata": {
    "execution": {
     "iopub.execute_input": "2022-02-09T00:15:01.064245Z",
     "iopub.status.busy": "2022-02-09T00:15:00.661914Z",
     "iopub.status.idle": "2022-02-09T00:15:02.089888Z",
     "shell.execute_reply": "2022-02-09T00:15:02.089304Z"
    }
   },
   "outputs": [],
   "source": [
    "using Revise\n",
    "using BenchmarkTools"
   ]
  },
  {
   "cell_type": "code",
   "execution_count": null,
   "id": "e0b39736",
   "metadata": {
    "execution": {
     "iopub.execute_input": "2022-02-09T00:15:02.092066Z",
     "iopub.status.busy": "2022-02-09T00:15:02.091295Z",
     "iopub.status.idle": "2022-02-09T00:15:13.078100Z",
     "shell.execute_reply": "2022-02-09T00:15:13.077563Z"
    }
   },
   "outputs": [],
   "source": [
    "using DataFrames\n",
    "\n",
    "using OnePiece"
   ]
  },
  {
   "cell_type": "markdown",
   "id": "ccdb8b26",
   "metadata": {},
   "source": [
    "## get_probability_and_cumulate"
   ]
  },
  {
   "cell_type": "code",
   "execution_count": null,
   "id": "1ba5422d",
   "metadata": {
    "execution": {
     "iopub.execute_input": "2022-02-09T00:15:14.751128Z",
     "iopub.status.busy": "2022-02-09T00:15:13.079513Z",
     "iopub.status.idle": "2022-02-09T00:15:16.008268Z",
     "shell.execute_reply": "2022-02-09T00:15:16.007581Z"
    }
   },
   "outputs": [],
   "source": [
    "ve = [1, 4]\n",
    "\n",
    "OnePiece.feature_set_enrichment.get_probability_and_cumulate(ve)"
   ]
  },
  {
   "cell_type": "markdown",
   "id": "f009ac6a",
   "metadata": {},
   "source": [
    "## sum_1_absolute_and_0_count"
   ]
  },
  {
   "cell_type": "code",
   "execution_count": null,
   "id": "6ea9fb15",
   "metadata": {
    "execution": {
     "iopub.execute_input": "2022-02-09T00:15:16.010491Z",
     "iopub.status.busy": "2022-02-09T00:15:16.009901Z",
     "iopub.status.idle": "2022-02-09T00:15:18.463258Z",
     "shell.execute_reply": "2022-02-09T00:15:18.462730Z"
    }
   },
   "outputs": [],
   "source": [
    "ve = [-2.0, -1, 0, 1, 2]\n",
    "\n",
    "in_ = convert(Vector{Bool}, [1, 1, 0, 0, 1])\n",
    "\n",
    "@btime OnePiece.feature_set_enrichment.sum_1_absolute_and_0_count(ve, in_)"
   ]
  },
  {
   "cell_type": "markdown",
   "id": "8a6e1061",
   "metadata": {},
   "source": [
    "## make_benchmark"
   ]
  },
  {
   "cell_type": "code",
   "execution_count": null,
   "id": "4c20ec75",
   "metadata": {
    "execution": {
     "iopub.execute_input": "2022-02-09T00:15:18.465338Z",
     "iopub.status.busy": "2022-02-09T00:15:18.464680Z",
     "iopub.status.idle": "2022-02-09T00:15:27.307167Z",
     "shell.execute_reply": "2022-02-09T00:15:27.306718Z"
    }
   },
   "outputs": [],
   "source": [
    "try\n",
    "\n",
    "    OnePiece.feature_set_enrichment.make_benchmark(\"card 12K\")\n",
    "\n",
    "catch er\n",
    "\n",
    "    er\n",
    "\n",
    "end"
   ]
  },
  {
   "cell_type": "code",
   "execution_count": null,
   "id": "68aeeb9b",
   "metadata": {
    "execution": {
     "iopub.execute_input": "2022-02-09T00:15:27.309174Z",
     "iopub.status.busy": "2022-02-09T00:15:27.308502Z",
     "iopub.status.idle": "2022-02-09T00:15:27.764015Z",
     "shell.execute_reply": "2022-02-09T00:15:27.763561Z"
    }
   },
   "outputs": [],
   "source": [
    "OnePiece.feature_set_enrichment.make_benchmark(\"card A2K\")"
   ]
  },
  {
   "cell_type": "code",
   "execution_count": null,
   "id": "a93d4ce0",
   "metadata": {
    "execution": {
     "iopub.execute_input": "2022-02-09T00:15:27.765994Z",
     "iopub.status.busy": "2022-02-09T00:15:27.765413Z",
     "iopub.status.idle": "2022-02-09T00:15:28.197959Z",
     "shell.execute_reply": "2022-02-09T00:15:28.197518Z"
    }
   },
   "outputs": [],
   "source": [
    "OnePiece.feature_set_enrichment.make_benchmark(\"random 3 2\")"
   ]
  },
  {
   "cell_type": "code",
   "execution_count": null,
   "id": "a0f3bce7",
   "metadata": {
    "execution": {
     "iopub.execute_input": "2022-02-09T00:15:28.199874Z",
     "iopub.status.busy": "2022-02-09T00:15:28.199278Z",
     "iopub.status.idle": "2022-02-09T00:15:28.213791Z",
     "shell.execute_reply": "2022-02-09T00:15:28.213312Z"
    }
   },
   "outputs": [],
   "source": [
    "OnePiece.feature_set_enrichment.make_benchmark(\"random 4 2\")"
   ]
  },
  {
   "cell_type": "code",
   "execution_count": null,
   "id": "86bfbc58",
   "metadata": {
    "execution": {
     "iopub.execute_input": "2022-02-09T00:15:28.215763Z",
     "iopub.status.busy": "2022-02-09T00:15:28.215193Z",
     "iopub.status.idle": "2022-02-09T00:15:42.842741Z",
     "shell.execute_reply": "2022-02-09T00:15:42.842217Z"
    }
   },
   "outputs": [],
   "source": [
    "fe_, sc_, fe1_ = OnePiece.feature_set_enrichment.make_benchmark(\"myc\")\n",
    "\n",
    "println(length(fe_))\n",
    "\n",
    "println(length(sc_))\n",
    "\n",
    "println(length(fe1_))"
   ]
  },
  {
   "cell_type": "markdown",
   "id": "337971f7",
   "metadata": {},
   "source": [
    "## plot_mountain"
   ]
  },
  {
   "cell_type": "code",
   "execution_count": null,
   "id": "e74b541b",
   "metadata": {
    "execution": {
     "iopub.execute_input": "2022-02-09T00:15:42.844672Z",
     "iopub.status.busy": "2022-02-09T00:15:42.844097Z",
     "iopub.status.idle": "2022-02-09T00:15:42.857434Z",
     "shell.execute_reply": "2022-02-09T00:15:42.856821Z"
    }
   },
   "outputs": [],
   "source": [
    "fe_, sc_, fe1_ = OnePiece.feature_set_enrichment.make_benchmark(\"card AK\")\n",
    "\n",
    ";"
   ]
  },
  {
   "cell_type": "code",
   "execution_count": null,
   "id": "517bc174",
   "metadata": {
    "execution": {
     "iopub.execute_input": "2022-02-09T00:15:42.859494Z",
     "iopub.status.busy": "2022-02-09T00:15:42.858809Z",
     "iopub.status.idle": "2022-02-09T00:15:52.014289Z",
     "shell.execute_reply": "2022-02-09T00:15:52.013741Z"
    }
   },
   "outputs": [],
   "source": [
    "OnePiece.feature_set_enrichment.score_set(fe_, sc_, fe1_; si = false)"
   ]
  },
  {
   "cell_type": "code",
   "execution_count": null,
   "id": "7a2a9a37",
   "metadata": {
    "execution": {
     "iopub.execute_input": "2022-02-09T00:15:52.016192Z",
     "iopub.status.busy": "2022-02-09T00:15:52.015612Z",
     "iopub.status.idle": "2022-02-09T00:15:52.918817Z",
     "shell.execute_reply": "2022-02-09T00:15:52.918343Z"
    }
   },
   "outputs": [],
   "source": [
    "OnePiece.feature_set_enrichment.score_set_new(fe_, sc_, fe1_)"
   ]
  },
  {
   "cell_type": "markdown",
   "id": "e6056ac2",
   "metadata": {},
   "source": [
    "## score_set"
   ]
  },
  {
   "cell_type": "code",
   "execution_count": null,
   "id": "ee5aff03",
   "metadata": {
    "execution": {
     "iopub.execute_input": "2022-02-09T00:15:52.920788Z",
     "iopub.status.busy": "2022-02-09T00:15:52.920211Z",
     "iopub.status.idle": "2022-02-09T00:15:53.027147Z",
     "shell.execute_reply": "2022-02-09T00:15:53.026688Z"
    }
   },
   "outputs": [],
   "source": [
    "fe_, sc_, fe1_ = OnePiece.feature_set_enrichment.make_benchmark(\"myc\")\n",
    "\n",
    "in_ = OnePiece.extension.vector.is_in(fe_, fe1_)\n",
    "\n",
    ";"
   ]
  },
  {
   "cell_type": "markdown",
   "id": "b05aefbe",
   "metadata": {},
   "source": [
    "## score_set (1 1)"
   ]
  },
  {
   "cell_type": "code",
   "execution_count": null,
   "id": "51ade553",
   "metadata": {
    "execution": {
     "iopub.execute_input": "2022-02-09T00:15:53.029079Z",
     "iopub.status.busy": "2022-02-09T00:15:53.028494Z",
     "iopub.status.idle": "2022-02-09T00:16:05.205040Z",
     "shell.execute_reply": "2022-02-09T00:16:05.204580Z"
    }
   },
   "outputs": [],
   "source": [
    "@btime OnePiece.extension.vector.is_in(fe_, fe1_)"
   ]
  },
  {
   "cell_type": "code",
   "execution_count": null,
   "id": "f1d3072c",
   "metadata": {
    "execution": {
     "iopub.execute_input": "2022-02-09T00:16:05.207164Z",
     "iopub.status.busy": "2022-02-09T00:16:05.206506Z",
     "iopub.status.idle": "2022-02-09T00:16:12.446727Z",
     "shell.execute_reply": "2022-02-09T00:16:12.446278Z"
    }
   },
   "outputs": [],
   "source": [
    "@btime OnePiece.feature_set_enrichment.score_set(fe_, sc_, fe1_, in_; pl = false)"
   ]
  },
  {
   "cell_type": "code",
   "execution_count": null,
   "id": "db503e6d",
   "metadata": {
    "execution": {
     "iopub.execute_input": "2022-02-09T00:16:12.448706Z",
     "iopub.status.busy": "2022-02-09T00:16:12.448126Z",
     "iopub.status.idle": "2022-02-09T00:16:23.676181Z",
     "shell.execute_reply": "2022-02-09T00:16:23.675717Z"
    }
   },
   "outputs": [],
   "source": [
    "@btime OnePiece.feature_set_enrichment.score_set(fe_, sc_, fe1_; pl = false)"
   ]
  },
  {
   "cell_type": "code",
   "execution_count": null,
   "id": "d0b57976",
   "metadata": {
    "execution": {
     "iopub.execute_input": "2022-02-09T00:16:23.678245Z",
     "iopub.status.busy": "2022-02-09T00:16:23.677650Z",
     "iopub.status.idle": "2022-02-09T00:16:24.035014Z",
     "shell.execute_reply": "2022-02-09T00:16:23.946599Z"
    }
   },
   "outputs": [],
   "source": [
    "OnePiece.feature_set_enrichment.score_set(fe_, sc_, fe1_)"
   ]
  },
  {
   "cell_type": "markdown",
   "id": "b955b922",
   "metadata": {},
   "source": [
    "## score_set_new (1 1)"
   ]
  },
  {
   "cell_type": "code",
   "execution_count": null,
   "id": "fa48624f",
   "metadata": {
    "execution": {
     "iopub.execute_input": "2022-02-09T00:16:24.037141Z",
     "iopub.status.busy": "2022-02-09T00:16:24.036565Z",
     "iopub.status.idle": "2022-02-09T00:16:35.290312Z",
     "shell.execute_reply": "2022-02-09T00:16:35.289865Z"
    }
   },
   "outputs": [],
   "source": [
    "@btime OnePiece.feature_set_enrichment.score_set_new(fe_, sc_, fe1_; pl = false)"
   ]
  },
  {
   "cell_type": "code",
   "execution_count": null,
   "id": "dc2fb2d2",
   "metadata": {
    "execution": {
     "iopub.execute_input": "2022-02-09T00:16:35.292396Z",
     "iopub.status.busy": "2022-02-09T00:16:35.291798Z",
     "iopub.status.idle": "2022-02-09T00:16:35.647067Z",
     "shell.execute_reply": "2022-02-09T00:16:35.646602Z"
    }
   },
   "outputs": [],
   "source": [
    "OnePiece.feature_set_enrichment.score_set_new(fe_, sc_, fe1_)"
   ]
  },
  {
   "cell_type": "markdown",
   "id": "f7052fba",
   "metadata": {},
   "source": [
    "## score_set (? n)"
   ]
  },
  {
   "cell_type": "code",
   "execution_count": null,
   "id": "3d4df309",
   "metadata": {
    "execution": {
     "iopub.execute_input": "2022-02-09T00:16:35.649165Z",
     "iopub.status.busy": "2022-02-09T00:16:35.648561Z",
     "iopub.status.idle": "2022-02-09T00:16:35.663660Z",
     "shell.execute_reply": "2022-02-09T00:16:35.663136Z"
    }
   },
   "outputs": [],
   "source": [
    "se_fe_ = OnePiece.io.gmt.read(\n",
    "    joinpath(@__DIR__, \"feature_set_enrichment.data\", \"h.all.v7.1.symbols.gmt\"),\n",
    ")\n",
    "\n",
    ";"
   ]
  },
  {
   "cell_type": "markdown",
   "id": "4766e9c6",
   "metadata": {},
   "source": [
    "## score_set (1 n)"
   ]
  },
  {
   "cell_type": "code",
   "execution_count": null,
   "id": "1679bed5",
   "metadata": {
    "execution": {
     "iopub.execute_input": "2022-02-09T00:16:35.665634Z",
     "iopub.status.busy": "2022-02-09T00:16:35.665063Z",
     "iopub.status.idle": "2022-02-09T00:16:48.442924Z",
     "shell.execute_reply": "2022-02-09T00:16:48.442473Z"
    }
   },
   "outputs": [],
   "source": [
    "@btime OnePiece.feature_set_enrichment.score_set(fe_, sc_, se_fe_)"
   ]
  },
  {
   "cell_type": "markdown",
   "id": "d18c90c2",
   "metadata": {},
   "source": [
    "## score_set_new (1 n)"
   ]
  },
  {
   "cell_type": "code",
   "execution_count": null,
   "id": "a6ac1e10",
   "metadata": {
    "execution": {
     "iopub.execute_input": "2022-02-09T00:16:48.445000Z",
     "iopub.status.busy": "2022-02-09T00:16:48.444349Z",
     "iopub.status.idle": "2022-02-09T00:17:01.476289Z",
     "shell.execute_reply": "2022-02-09T00:17:01.475831Z"
    }
   },
   "outputs": [],
   "source": [
    "@btime OnePiece.feature_set_enrichment.score_set_new(fe_, sc_, se_fe_)"
   ]
  },
  {
   "cell_type": "markdown",
   "id": "73665aeb",
   "metadata": {},
   "source": [
    "## score_set (n n)"
   ]
  },
  {
   "cell_type": "code",
   "execution_count": null,
   "id": "d1dae9b2",
   "metadata": {
    "execution": {
     "iopub.execute_input": "2022-02-09T00:17:01.478420Z",
     "iopub.status.busy": "2022-02-09T00:17:01.477761Z",
     "iopub.status.idle": "2022-02-09T00:17:17.670649Z",
     "shell.execute_reply": "2022-02-09T00:17:17.669369Z"
    }
   },
   "outputs": [],
   "source": [
    "sc_fe_sa = DataFrame(\n",
    "    \"Feature\" => fe_,\n",
    "    \"Score\" => sc_,\n",
    "    \"Score x 10\" => sc_ * 10,\n",
    "    \"Constant\" => fill(0.8, length(fe_)),\n",
    ")\n",
    "\n",
    "@btime OnePiece.feature_set_enrichment.score_set(sc_fe_sa, se_fe_; n_jo = 1)"
   ]
  },
  {
   "cell_type": "markdown",
   "id": "94460707",
   "metadata": {},
   "source": [
    "## try_method"
   ]
  },
  {
   "cell_type": "code",
   "execution_count": null,
   "id": "2893cb57",
   "metadata": {
    "execution": {
     "iopub.execute_input": "2022-02-09T00:17:17.672683Z",
     "iopub.status.busy": "2022-02-09T00:17:17.672097Z",
     "iopub.status.idle": "2022-02-09T00:17:20.710652Z",
     "shell.execute_reply": "2022-02-09T00:17:20.710200Z"
    }
   },
   "outputs": [],
   "source": [
    "OnePiece.feature_set_enrichment.try_method(fe_, sc_, fe1_; plp = false)"
   ]
  }
 ],
 "metadata": {
  "@webio": {
   "lastCommId": "5a921eb0f4c04e15b2b55486f2c40485",
   "lastKernelId": "6be6db44-0b8d-411c-afba-58c31e550920"
  },
  "kernelspec": {
   "display_name": "Julia 1.7.1",
   "language": "julia",
   "name": "julia-1.7"
  },
  "language_info": {
   "file_extension": ".jl",
   "mimetype": "application/julia",
   "name": "julia",
   "version": "1.7.2"
  }
 },
 "nbformat": 4,
 "nbformat_minor": 5
}
