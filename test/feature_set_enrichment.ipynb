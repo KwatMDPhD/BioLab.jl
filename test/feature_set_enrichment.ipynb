{
 "cells": [
  {
   "cell_type": "code",
   "execution_count": null,
   "id": "017464da",
   "metadata": {
    "execution": {
     "iopub.execute_input": "2022-02-11T20:02:48.231526Z",
     "iopub.status.busy": "2022-02-11T20:02:47.836628Z",
     "iopub.status.idle": "2022-02-11T20:02:48.453070Z",
     "shell.execute_reply": "2022-02-11T20:02:48.452440Z"
    }
   },
   "outputs": [],
   "source": [
    "TE = joinpath(tempdir(), \"OnePiece.test\")\n",
    "\n",
    "if isdir(TE)\n",
    "\n",
    "    rm(TE, recursive = true)\n",
    "\n",
    "    println(\"Removed \", TE, \".\")\n",
    "\n",
    "end\n",
    "\n",
    "mkdir(TE)\n",
    "\n",
    "println(\"Made \", TE, \".\")"
   ]
  },
  {
   "cell_type": "code",
   "execution_count": null,
   "id": "34e4701e",
   "metadata": {
    "execution": {
     "iopub.execute_input": "2022-02-11T20:02:48.454995Z",
     "iopub.status.busy": "2022-02-11T20:02:48.454346Z",
     "iopub.status.idle": "2022-02-11T20:02:53.188335Z",
     "shell.execute_reply": "2022-02-11T20:02:53.187818Z"
    }
   },
   "outputs": [],
   "source": [
    "using OnePiece"
   ]
  },
  {
   "cell_type": "markdown",
   "id": "b92a3da9",
   "metadata": {},
   "source": [
    "---"
   ]
  },
  {
   "cell_type": "markdown",
   "id": "ccdb8b26",
   "metadata": {},
   "source": [
    "## get_probability_and_cumulate"
   ]
  },
  {
   "cell_type": "code",
   "execution_count": null,
   "id": "1ba5422d",
   "metadata": {
    "execution": {
     "iopub.execute_input": "2022-02-11T20:02:53.552269Z",
     "iopub.status.busy": "2022-02-11T20:02:53.189863Z",
     "iopub.status.idle": "2022-02-11T20:02:54.400986Z",
     "shell.execute_reply": "2022-02-11T20:02:54.400462Z"
    }
   },
   "outputs": [],
   "source": [
    "OnePiece.feature_set_enrichment.get_probability_and_cumulate([1, 4])"
   ]
  },
  {
   "cell_type": "markdown",
   "id": "f009ac6a",
   "metadata": {},
   "source": [
    "## sum_1_absolute_and_0_count"
   ]
  },
  {
   "cell_type": "code",
   "execution_count": null,
   "id": "6ea9fb15",
   "metadata": {
    "execution": {
     "iopub.execute_input": "2022-02-11T20:02:54.403063Z",
     "iopub.status.busy": "2022-02-11T20:02:54.402422Z",
     "iopub.status.idle": "2022-02-11T20:02:54.721170Z",
     "shell.execute_reply": "2022-02-11T20:02:54.720704Z"
    }
   },
   "outputs": [],
   "source": [
    "OnePiece.feature_set_enrichment.sum_1_absolute_and_0_count(\n",
    "    [-2.0, -1, 0, 1, 2],\n",
    "    convert(Vector{Bool}, [1, 1, 0, 0, 1]),\n",
    ")"
   ]
  },
  {
   "cell_type": "markdown",
   "id": "8a6e1061",
   "metadata": {},
   "source": [
    "## make_benchmark"
   ]
  },
  {
   "cell_type": "code",
   "execution_count": null,
   "id": "4c20ec75",
   "metadata": {
    "execution": {
     "iopub.execute_input": "2022-02-11T20:02:54.723470Z",
     "iopub.status.busy": "2022-02-11T20:02:54.722878Z",
     "iopub.status.idle": "2022-02-11T20:03:02.533035Z",
     "shell.execute_reply": "2022-02-11T20:03:02.532547Z"
    }
   },
   "outputs": [],
   "source": [
    "try\n",
    "\n",
    "    OnePiece.feature_set_enrichment.make_benchmark(\"card 12K\")\n",
    "\n",
    "catch er\n",
    "\n",
    "    er\n",
    "\n",
    "end"
   ]
  },
  {
   "cell_type": "code",
   "execution_count": null,
   "id": "68aeeb9b",
   "metadata": {
    "execution": {
     "iopub.execute_input": "2022-02-11T20:03:02.535014Z",
     "iopub.status.busy": "2022-02-11T20:03:02.534322Z",
     "iopub.status.idle": "2022-02-11T20:03:02.967433Z",
     "shell.execute_reply": "2022-02-11T20:03:02.967034Z"
    }
   },
   "outputs": [],
   "source": [
    "OnePiece.feature_set_enrichment.make_benchmark(\"card A2K\")"
   ]
  },
  {
   "cell_type": "code",
   "execution_count": null,
   "id": "a93d4ce0",
   "metadata": {
    "execution": {
     "iopub.execute_input": "2022-02-11T20:03:02.969498Z",
     "iopub.status.busy": "2022-02-11T20:03:02.969007Z",
     "iopub.status.idle": "2022-02-11T20:03:03.321940Z",
     "shell.execute_reply": "2022-02-11T20:03:03.321508Z"
    }
   },
   "outputs": [],
   "source": [
    "OnePiece.feature_set_enrichment.make_benchmark(\"random 3 2\")"
   ]
  },
  {
   "cell_type": "code",
   "execution_count": null,
   "id": "a0f3bce7",
   "metadata": {
    "execution": {
     "iopub.execute_input": "2022-02-11T20:03:03.324374Z",
     "iopub.status.busy": "2022-02-11T20:03:03.323526Z",
     "iopub.status.idle": "2022-02-11T20:03:03.326103Z",
     "shell.execute_reply": "2022-02-11T20:03:03.325025Z"
    }
   },
   "outputs": [],
   "source": [
    "OnePiece.feature_set_enrichment.make_benchmark(\"random 4 2\")"
   ]
  },
  {
   "cell_type": "code",
   "execution_count": null,
   "id": "86bfbc58",
   "metadata": {
    "execution": {
     "iopub.execute_input": "2022-02-11T20:03:03.328213Z",
     "iopub.status.busy": "2022-02-11T20:03:03.327571Z",
     "iopub.status.idle": "2022-02-11T20:03:15.260776Z",
     "shell.execute_reply": "2022-02-11T20:03:15.260253Z"
    }
   },
   "outputs": [],
   "source": [
    "fe_, sc_, fe1_ = OnePiece.feature_set_enrichment.make_benchmark(\"myc\")\n",
    "\n",
    "println(length(fe_))\n",
    "\n",
    "println(length(sc_))\n",
    "\n",
    "println(length(fe1_))"
   ]
  },
  {
   "cell_type": "markdown",
   "id": "337971f7",
   "metadata": {},
   "source": [
    "## plot_mountain"
   ]
  },
  {
   "cell_type": "code",
   "execution_count": null,
   "id": "e74b541b",
   "metadata": {
    "execution": {
     "iopub.execute_input": "2022-02-11T20:03:15.262871Z",
     "iopub.status.busy": "2022-02-11T20:03:15.262235Z",
     "iopub.status.idle": "2022-02-11T20:03:15.263545Z",
     "shell.execute_reply": "2022-02-11T20:03:15.264001Z"
    }
   },
   "outputs": [],
   "source": [
    "fe_, sc_, fe1_ = OnePiece.feature_set_enrichment.make_benchmark(\"card AK\")\n",
    "\n",
    ";"
   ]
  },
  {
   "cell_type": "code",
   "execution_count": null,
   "id": "58f279e2",
   "metadata": {
    "execution": {
     "iopub.execute_input": "2022-02-11T20:03:15.265859Z",
     "iopub.status.busy": "2022-02-11T20:03:15.265284Z",
     "iopub.status.idle": "2022-02-11T20:03:18.325336Z",
     "shell.execute_reply": "2022-02-11T20:03:18.324663Z"
    }
   },
   "outputs": [],
   "source": [
    "OnePiece.feature_set_enrichment.score_set(fe_, sc_, fe1_, ou = joinpath(TE, \"mountain.html\"))"
   ]
  },
  {
   "cell_type": "code",
   "execution_count": null,
   "id": "517bc174",
   "metadata": {
    "execution": {
     "iopub.execute_input": "2022-02-11T20:03:18.327679Z",
     "iopub.status.busy": "2022-02-11T20:03:18.327079Z",
     "iopub.status.idle": "2022-02-11T20:03:19.232440Z",
     "shell.execute_reply": "2022-02-11T20:03:19.232926Z"
    }
   },
   "outputs": [],
   "source": [
    "OnePiece.feature_set_enrichment.score_set_new(\n",
    "    fe_,\n",
    "    sc_,\n",
    "    fe1_,\n",
    "    ou = joinpath(TE, \"mountain_new.html\"),\n",
    ")"
   ]
  },
  {
   "cell_type": "markdown",
   "id": "b2ede5e5",
   "metadata": {},
   "source": [
    "## score_set*"
   ]
  },
  {
   "cell_type": "code",
   "execution_count": null,
   "id": "bfe544b8",
   "metadata": {
    "execution": {
     "iopub.execute_input": "2022-02-11T20:03:19.235495Z",
     "iopub.status.busy": "2022-02-11T20:03:19.234864Z",
     "iopub.status.idle": "2022-02-11T20:03:19.237464Z",
     "shell.execute_reply": "2022-02-11T20:03:19.236543Z"
    }
   },
   "outputs": [],
   "source": [
    "using DataFrames"
   ]
  },
  {
   "cell_type": "code",
   "execution_count": null,
   "id": "ee5aff03",
   "metadata": {
    "execution": {
     "iopub.execute_input": "2022-02-11T20:03:19.239817Z",
     "iopub.status.busy": "2022-02-11T20:03:19.239040Z",
     "iopub.status.idle": "2022-02-11T20:03:19.620091Z",
     "shell.execute_reply": "2022-02-11T20:03:19.619525Z"
    }
   },
   "outputs": [],
   "source": [
    "fe_, sc_, fe1_ = OnePiece.feature_set_enrichment.make_benchmark(\"myc\")\n",
    "\n",
    "in_ = OnePiece.extension.vector.is_in(fe_, fe1_)\n",
    "\n",
    "sc_fe_sa = DataFrame(\n",
    "    \"Feature\" => fe_,\n",
    "    \"Score\" => sc_,\n",
    "    \"Score x 10\" => sc_ * 10,\n",
    "    \"Constant\" => fill(0.8, length(fe_)),\n",
    ")\n",
    "\n",
    "se_fe_ = OnePiece.io.gmt.read(\n",
    "    joinpath(@__DIR__, \"feature_set_enrichment.data\", \"h.all.v7.1.symbols.gmt\"),\n",
    ")\n",
    "\n",
    ";"
   ]
  },
  {
   "cell_type": "markdown",
   "id": "b3cd3ef2",
   "metadata": {},
   "source": [
    "### score_set"
   ]
  },
  {
   "cell_type": "code",
   "execution_count": null,
   "id": "871350b7",
   "metadata": {
    "execution": {
     "iopub.execute_input": "2022-02-11T20:03:19.622282Z",
     "iopub.status.busy": "2022-02-11T20:03:19.621548Z",
     "iopub.status.idle": "2022-02-11T20:03:19.687143Z",
     "shell.execute_reply": "2022-02-11T20:03:19.686596Z"
    }
   },
   "outputs": [],
   "source": [
    "OnePiece.feature_set_enrichment.score_set(fe_, sc_, fe1_, in_)"
   ]
  },
  {
   "cell_type": "code",
   "execution_count": null,
   "id": "f1d3072c",
   "metadata": {
    "execution": {
     "iopub.execute_input": "2022-02-11T20:03:19.689047Z",
     "iopub.status.busy": "2022-02-11T20:03:19.688412Z",
     "iopub.status.idle": "2022-02-11T20:03:19.737894Z",
     "shell.execute_reply": "2022-02-11T20:03:19.737393Z"
    }
   },
   "outputs": [],
   "source": [
    "OnePiece.feature_set_enrichment.score_set(fe_, sc_, fe1_)"
   ]
  },
  {
   "cell_type": "code",
   "execution_count": null,
   "id": "3e380333",
   "metadata": {
    "execution": {
     "iopub.execute_input": "2022-02-11T20:03:19.740120Z",
     "iopub.status.busy": "2022-02-11T20:03:19.739436Z",
     "iopub.status.idle": "2022-02-11T20:03:21.322577Z",
     "shell.execute_reply": "2022-02-11T20:03:21.322134Z"
    }
   },
   "outputs": [],
   "source": [
    "OnePiece.feature_set_enrichment.score_set(fe_, sc_, se_fe_)"
   ]
  },
  {
   "cell_type": "code",
   "execution_count": null,
   "id": "f31c3a45",
   "metadata": {
    "execution": {
     "iopub.execute_input": "2022-02-11T20:03:21.324514Z",
     "iopub.status.busy": "2022-02-11T20:03:21.323931Z",
     "iopub.status.idle": "2022-02-11T20:03:25.723366Z",
     "shell.execute_reply": "2022-02-11T20:03:25.722925Z"
    }
   },
   "outputs": [],
   "source": [
    "OnePiece.feature_set_enrichment.score_set(sc_fe_sa, se_fe_)"
   ]
  },
  {
   "cell_type": "markdown",
   "id": "b955b922",
   "metadata": {},
   "source": [
    "### score_set_new"
   ]
  },
  {
   "cell_type": "code",
   "execution_count": null,
   "id": "dc2fb2d2",
   "metadata": {
    "execution": {
     "iopub.execute_input": "2022-02-11T20:03:25.725363Z",
     "iopub.status.busy": "2022-02-11T20:03:25.724762Z",
     "iopub.status.idle": "2022-02-11T20:03:25.874637Z",
     "shell.execute_reply": "2022-02-11T20:03:25.875047Z"
    }
   },
   "outputs": [],
   "source": [
    "OnePiece.feature_set_enrichment.score_set_new(fe_, sc_, fe1_)"
   ]
  },
  {
   "cell_type": "code",
   "execution_count": null,
   "id": "a6ac1e10",
   "metadata": {
    "execution": {
     "iopub.execute_input": "2022-02-11T20:03:25.876912Z",
     "iopub.status.busy": "2022-02-11T20:03:25.876329Z",
     "iopub.status.idle": "2022-02-11T20:03:26.788809Z",
     "shell.execute_reply": "2022-02-11T20:03:26.788303Z"
    }
   },
   "outputs": [],
   "source": [
    "OnePiece.feature_set_enrichment.score_set_new(fe_, sc_, se_fe_)"
   ]
  },
  {
   "cell_type": "markdown",
   "id": "94460707",
   "metadata": {},
   "source": [
    "## try_method"
   ]
  },
  {
   "cell_type": "code",
   "execution_count": null,
   "id": "2893cb57",
   "metadata": {
    "execution": {
     "iopub.execute_input": "2022-02-11T20:03:26.791135Z",
     "iopub.status.busy": "2022-02-11T20:03:26.790490Z",
     "iopub.status.idle": "2022-02-11T20:03:28.564329Z",
     "shell.execute_reply": "2022-02-11T20:03:28.563797Z"
    }
   },
   "outputs": [],
   "source": [
    "OnePiece.feature_set_enrichment.try_method(fe_, sc_, fe1_, plp = false)"
   ]
  },
  {
   "cell_type": "markdown",
   "id": "3f396855",
   "metadata": {},
   "source": [
    "---"
   ]
  },
  {
   "cell_type": "code",
   "execution_count": null,
   "id": "b4af2023",
   "metadata": {
    "execution": {
     "iopub.execute_input": "2022-02-11T20:03:28.566257Z",
     "iopub.status.busy": "2022-02-11T20:03:28.565687Z",
     "iopub.status.idle": "2022-02-11T20:03:28.568497Z",
     "shell.execute_reply": "2022-02-11T20:03:28.568074Z"
    }
   },
   "outputs": [],
   "source": [
    "if isdir(TE)\n",
    "\n",
    "    rm(TE, recursive = true)\n",
    "\n",
    "    println(\"Removed \", TE, \".\")\n",
    "\n",
    "end"
   ]
  }
 ],
 "metadata": {
  "kernelspec": {
   "display_name": "Julia 1.7.2",
   "language": "julia",
   "name": "julia-1.7"
  },
  "language_info": {
   "file_extension": ".jl",
   "mimetype": "application/julia",
   "name": "julia",
   "version": "1.7.2"
  }
 },
 "nbformat": 4,
 "nbformat_minor": 5
}
