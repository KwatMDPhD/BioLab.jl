{
 "cells": [
  {
   "cell_type": "code",
   "execution_count": null,
   "id": "017464da",
   "metadata": {
    "execution": {
     "iopub.execute_input": "2022-02-11T17:56:10.249386Z",
     "iopub.status.busy": "2022-02-11T17:56:09.878306Z",
     "iopub.status.idle": "2022-02-11T17:56:10.454254Z",
     "shell.execute_reply": "2022-02-11T17:56:10.453654Z"
    }
   },
   "outputs": [],
   "source": [
    "TE = joinpath(tempdir(), \"OnePiece.test\")\n",
    "\n",
    "if isdir(TE)\n",
    "\n",
    "    rm(TE, recursive = true)\n",
    "\n",
    "    println(\"Removed \", TE, \".\")\n",
    "\n",
    "end\n",
    "\n",
    "mkdir(TE)\n",
    "\n",
    "println(\"Made \", TE, \".\")"
   ]
  },
  {
   "cell_type": "code",
   "execution_count": null,
   "id": "34e4701e",
   "metadata": {
    "execution": {
     "iopub.execute_input": "2022-02-11T17:56:10.456700Z",
     "iopub.status.busy": "2022-02-11T17:56:10.455965Z",
     "iopub.status.idle": "2022-02-11T17:56:14.762785Z",
     "shell.execute_reply": "2022-02-11T17:56:14.762299Z"
    }
   },
   "outputs": [],
   "source": [
    "using OnePiece"
   ]
  },
  {
   "cell_type": "markdown",
   "id": "b92a3da9",
   "metadata": {},
   "source": [
    "---"
   ]
  },
  {
   "cell_type": "markdown",
   "id": "ccdb8b26",
   "metadata": {},
   "source": [
    "## get_probability_and_cumulate"
   ]
  },
  {
   "cell_type": "code",
   "execution_count": null,
   "id": "1ba5422d",
   "metadata": {
    "execution": {
     "iopub.execute_input": "2022-02-11T17:56:15.103263Z",
     "iopub.status.busy": "2022-02-11T17:56:14.764374Z",
     "iopub.status.idle": "2022-02-11T17:56:15.860723Z",
     "shell.execute_reply": "2022-02-11T17:56:15.860331Z"
    }
   },
   "outputs": [],
   "source": [
    "OnePiece.feature_set_enrichment.get_probability_and_cumulate([1, 4])"
   ]
  },
  {
   "cell_type": "markdown",
   "id": "f009ac6a",
   "metadata": {},
   "source": [
    "## sum_1_absolute_and_0_count"
   ]
  },
  {
   "cell_type": "code",
   "execution_count": null,
   "id": "6ea9fb15",
   "metadata": {
    "execution": {
     "iopub.execute_input": "2022-02-11T17:56:15.862921Z",
     "iopub.status.busy": "2022-02-11T17:56:15.862416Z",
     "iopub.status.idle": "2022-02-11T17:56:16.151682Z",
     "shell.execute_reply": "2022-02-11T17:56:16.151280Z"
    }
   },
   "outputs": [],
   "source": [
    "OnePiece.feature_set_enrichment.sum_1_absolute_and_0_count(\n",
    "    [-2.0, -1, 0, 1, 2],\n",
    "    convert(Vector{Bool}, [1, 1, 0, 0, 1]),\n",
    ")"
   ]
  },
  {
   "cell_type": "markdown",
   "id": "8a6e1061",
   "metadata": {},
   "source": [
    "## make_benchmark"
   ]
  },
  {
   "cell_type": "code",
   "execution_count": null,
   "id": "4c20ec75",
   "metadata": {
    "execution": {
     "iopub.execute_input": "2022-02-11T17:56:16.153721Z",
     "iopub.status.busy": "2022-02-11T17:56:16.153207Z",
     "iopub.status.idle": "2022-02-11T17:56:23.399726Z",
     "shell.execute_reply": "2022-02-11T17:56:23.399340Z"
    }
   },
   "outputs": [],
   "source": [
    "try\n",
    "\n",
    "    OnePiece.feature_set_enrichment.make_benchmark(\"card 12K\")\n",
    "\n",
    "catch er\n",
    "\n",
    "    er\n",
    "\n",
    "end"
   ]
  },
  {
   "cell_type": "code",
   "execution_count": null,
   "id": "68aeeb9b",
   "metadata": {
    "execution": {
     "iopub.execute_input": "2022-02-11T17:56:23.401664Z",
     "iopub.status.busy": "2022-02-11T17:56:23.401047Z",
     "iopub.status.idle": "2022-02-11T17:56:23.814940Z",
     "shell.execute_reply": "2022-02-11T17:56:23.814531Z"
    }
   },
   "outputs": [],
   "source": [
    "OnePiece.feature_set_enrichment.make_benchmark(\"card A2K\")"
   ]
  },
  {
   "cell_type": "code",
   "execution_count": null,
   "id": "a93d4ce0",
   "metadata": {
    "execution": {
     "iopub.execute_input": "2022-02-11T17:56:23.816635Z",
     "iopub.status.busy": "2022-02-11T17:56:23.816080Z",
     "iopub.status.idle": "2022-02-11T17:56:24.188096Z",
     "shell.execute_reply": "2022-02-11T17:56:24.187710Z"
    }
   },
   "outputs": [],
   "source": [
    "OnePiece.feature_set_enrichment.make_benchmark(\"random 3 2\")"
   ]
  },
  {
   "cell_type": "code",
   "execution_count": null,
   "id": "a0f3bce7",
   "metadata": {
    "execution": {
     "iopub.execute_input": "2022-02-11T17:56:24.191323Z",
     "iopub.status.busy": "2022-02-11T17:56:24.189822Z",
     "iopub.status.idle": "2022-02-11T17:56:24.193702Z",
     "shell.execute_reply": "2022-02-11T17:56:24.191999Z"
    }
   },
   "outputs": [],
   "source": [
    "OnePiece.feature_set_enrichment.make_benchmark(\"random 4 2\")"
   ]
  },
  {
   "cell_type": "code",
   "execution_count": null,
   "id": "86bfbc58",
   "metadata": {
    "execution": {
     "iopub.execute_input": "2022-02-11T17:56:24.195511Z",
     "iopub.status.busy": "2022-02-11T17:56:24.194953Z",
     "iopub.status.idle": "2022-02-11T17:56:37.044908Z",
     "shell.execute_reply": "2022-02-11T17:56:37.044309Z"
    }
   },
   "outputs": [],
   "source": [
    "fe_, sc_, fe1_ = OnePiece.feature_set_enrichment.make_benchmark(\"myc\")\n",
    "\n",
    "println(length(fe_))\n",
    "\n",
    "println(length(sc_))\n",
    "\n",
    "println(length(fe1_))"
   ]
  },
  {
   "cell_type": "markdown",
   "id": "337971f7",
   "metadata": {},
   "source": [
    "## plot_mountain"
   ]
  },
  {
   "cell_type": "code",
   "execution_count": null,
   "id": "e74b541b",
   "metadata": {
    "execution": {
     "iopub.execute_input": "2022-02-11T17:56:37.047410Z",
     "iopub.status.busy": "2022-02-11T17:56:37.046501Z",
     "iopub.status.idle": "2022-02-11T17:56:37.048161Z",
     "shell.execute_reply": "2022-02-11T17:56:37.048608Z"
    }
   },
   "outputs": [],
   "source": [
    "fe_, sc_, fe1_ = OnePiece.feature_set_enrichment.make_benchmark(\"card AK\")\n",
    "\n",
    ";"
   ]
  },
  {
   "cell_type": "code",
   "execution_count": null,
   "id": "58f279e2",
   "metadata": {
    "execution": {
     "iopub.execute_input": "2022-02-11T17:56:37.050606Z",
     "iopub.status.busy": "2022-02-11T17:56:37.049911Z",
     "iopub.status.idle": "2022-02-11T17:56:40.196956Z",
     "shell.execute_reply": "2022-02-11T17:56:40.196194Z"
    }
   },
   "outputs": [],
   "source": [
    "OnePiece.feature_set_enrichment.score_set(fe_, sc_, fe1_, ou = joinpath(TE, \"mountain.html\"))"
   ]
  },
  {
   "cell_type": "code",
   "execution_count": null,
   "id": "517bc174",
   "metadata": {
    "execution": {
     "iopub.execute_input": "2022-02-11T17:56:40.199135Z",
     "iopub.status.busy": "2022-02-11T17:56:40.198444Z",
     "iopub.status.idle": "2022-02-11T17:56:41.143286Z",
     "shell.execute_reply": "2022-02-11T17:56:41.143774Z"
    }
   },
   "outputs": [],
   "source": [
    "OnePiece.feature_set_enrichment.score_set_new(\n",
    "    fe_,\n",
    "    sc_,\n",
    "    fe1_,\n",
    "    ou = joinpath(TE, \"mountain_new.html\"),\n",
    ")"
   ]
  },
  {
   "cell_type": "markdown",
   "id": "b2ede5e5",
   "metadata": {},
   "source": [
    "## score_set*"
   ]
  },
  {
   "cell_type": "code",
   "execution_count": null,
   "id": "bfe544b8",
   "metadata": {
    "execution": {
     "iopub.execute_input": "2022-02-11T17:56:41.146181Z",
     "iopub.status.busy": "2022-02-11T17:56:41.145565Z",
     "iopub.status.idle": "2022-02-11T17:56:41.147769Z",
     "shell.execute_reply": "2022-02-11T17:56:41.147133Z"
    }
   },
   "outputs": [],
   "source": [
    "using DataFrames"
   ]
  },
  {
   "cell_type": "code",
   "execution_count": null,
   "id": "ee5aff03",
   "metadata": {
    "execution": {
     "iopub.execute_input": "2022-02-11T17:56:41.149891Z",
     "iopub.status.busy": "2022-02-11T17:56:41.149294Z",
     "iopub.status.idle": "2022-02-11T17:56:41.531248Z",
     "shell.execute_reply": "2022-02-11T17:56:41.530809Z"
    }
   },
   "outputs": [],
   "source": [
    "fe_, sc_, fe1_ = OnePiece.feature_set_enrichment.make_benchmark(\"myc\")\n",
    "\n",
    "in_ = OnePiece.extension.vector.is_in(fe_, fe1_)\n",
    "\n",
    "sc_fe_sa = DataFrame(\n",
    "    \"Feature\" => fe_,\n",
    "    \"Score\" => sc_,\n",
    "    \"Score x 10\" => sc_ * 10,\n",
    "    \"Constant\" => fill(0.8, length(fe_)),\n",
    ")\n",
    "\n",
    "se_fe_ = OnePiece.io.gmt.read(\n",
    "    joinpath(@__DIR__, \"feature_set_enrichment.data\", \"h.all.v7.1.symbols.gmt\"),\n",
    ")\n",
    "\n",
    ";"
   ]
  },
  {
   "cell_type": "markdown",
   "id": "b3cd3ef2",
   "metadata": {},
   "source": [
    "### score_set"
   ]
  },
  {
   "cell_type": "code",
   "execution_count": null,
   "id": "871350b7",
   "metadata": {
    "execution": {
     "iopub.execute_input": "2022-02-11T17:56:41.533339Z",
     "iopub.status.busy": "2022-02-11T17:56:41.532772Z",
     "iopub.status.idle": "2022-02-11T17:56:41.598421Z",
     "shell.execute_reply": "2022-02-11T17:56:41.598838Z"
    }
   },
   "outputs": [],
   "source": [
    "OnePiece.feature_set_enrichment.score_set(fe_, sc_, fe1_, in_)"
   ]
  },
  {
   "cell_type": "code",
   "execution_count": null,
   "id": "f1d3072c",
   "metadata": {
    "execution": {
     "iopub.execute_input": "2022-02-11T17:56:41.601075Z",
     "iopub.status.busy": "2022-02-11T17:56:41.600448Z",
     "iopub.status.idle": "2022-02-11T17:56:41.646938Z",
     "shell.execute_reply": "2022-02-11T17:56:41.647367Z"
    }
   },
   "outputs": [],
   "source": [
    "OnePiece.feature_set_enrichment.score_set(fe_, sc_, fe1_)"
   ]
  },
  {
   "cell_type": "code",
   "execution_count": null,
   "id": "3e380333",
   "metadata": {
    "execution": {
     "iopub.execute_input": "2022-02-11T17:56:41.650771Z",
     "iopub.status.busy": "2022-02-11T17:56:41.649391Z",
     "iopub.status.idle": "2022-02-11T17:56:43.203744Z",
     "shell.execute_reply": "2022-02-11T17:56:43.203281Z"
    }
   },
   "outputs": [],
   "source": [
    "OnePiece.feature_set_enrichment.score_set(fe_, sc_, se_fe_)"
   ]
  },
  {
   "cell_type": "code",
   "execution_count": null,
   "id": "f31c3a45",
   "metadata": {
    "execution": {
     "iopub.execute_input": "2022-02-11T17:56:43.205527Z",
     "iopub.status.busy": "2022-02-11T17:56:43.204954Z",
     "iopub.status.idle": "2022-02-11T17:56:47.631662Z",
     "shell.execute_reply": "2022-02-11T17:56:47.631140Z"
    }
   },
   "outputs": [],
   "source": [
    "OnePiece.feature_set_enrichment.score_set(sc_fe_sa, se_fe_)"
   ]
  },
  {
   "cell_type": "markdown",
   "id": "b955b922",
   "metadata": {},
   "source": [
    "### score_set_new"
   ]
  },
  {
   "cell_type": "code",
   "execution_count": null,
   "id": "dc2fb2d2",
   "metadata": {
    "execution": {
     "iopub.execute_input": "2022-02-11T17:56:47.633524Z",
     "iopub.status.busy": "2022-02-11T17:56:47.632951Z",
     "iopub.status.idle": "2022-02-11T17:56:47.775361Z",
     "shell.execute_reply": "2022-02-11T17:56:47.774835Z"
    }
   },
   "outputs": [],
   "source": [
    "OnePiece.feature_set_enrichment.score_set_new(fe_, sc_, fe1_)"
   ]
  },
  {
   "cell_type": "code",
   "execution_count": null,
   "id": "a6ac1e10",
   "metadata": {
    "execution": {
     "iopub.execute_input": "2022-02-11T17:56:47.777407Z",
     "iopub.status.busy": "2022-02-11T17:56:47.776845Z",
     "iopub.status.idle": "2022-02-11T17:56:48.625091Z",
     "shell.execute_reply": "2022-02-11T17:56:48.624648Z"
    }
   },
   "outputs": [],
   "source": [
    "OnePiece.feature_set_enrichment.score_set_new(fe_, sc_, se_fe_)"
   ]
  },
  {
   "cell_type": "markdown",
   "id": "94460707",
   "metadata": {},
   "source": [
    "## try_method"
   ]
  },
  {
   "cell_type": "code",
   "execution_count": null,
   "id": "2893cb57",
   "metadata": {
    "execution": {
     "iopub.execute_input": "2022-02-11T17:56:48.627015Z",
     "iopub.status.busy": "2022-02-11T17:56:48.626400Z",
     "iopub.status.idle": "2022-02-11T17:56:50.489237Z",
     "shell.execute_reply": "2022-02-11T17:56:50.488754Z"
    }
   },
   "outputs": [],
   "source": [
    "OnePiece.feature_set_enrichment.try_method(fe_, sc_, fe1_, plp = false)"
   ]
  },
  {
   "cell_type": "markdown",
   "id": "3f396855",
   "metadata": {},
   "source": [
    "---"
   ]
  },
  {
   "cell_type": "code",
   "execution_count": null,
   "id": "b4af2023",
   "metadata": {
    "execution": {
     "iopub.execute_input": "2022-02-11T17:56:50.491163Z",
     "iopub.status.busy": "2022-02-11T17:56:50.490516Z",
     "iopub.status.idle": "2022-02-11T17:56:50.493238Z",
     "shell.execute_reply": "2022-02-11T17:56:50.492816Z"
    }
   },
   "outputs": [],
   "source": [
    "if isdir(TE)\n",
    "\n",
    "    rm(TE, recursive = true)\n",
    "\n",
    "    println(\"Removed \", TE, \".\")\n",
    "\n",
    "end"
   ]
  }
 ],
 "metadata": {
  "kernelspec": {
   "display_name": "Julia 1.7.2",
   "language": "julia",
   "name": "julia-1.7"
  },
  "language_info": {
   "file_extension": ".jl",
   "mimetype": "application/julia",
   "name": "julia",
   "version": "1.7.2"
  }
 },
 "nbformat": 4,
 "nbformat_minor": 5
}
