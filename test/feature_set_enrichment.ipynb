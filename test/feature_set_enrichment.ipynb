{
 "cells": [
  {
   "cell_type": "code",
   "execution_count": null,
   "id": "017464da",
   "metadata": {
    "execution": {
     "iopub.execute_input": "2022-02-14T16:17:33.606554Z",
     "iopub.status.busy": "2022-02-14T16:17:33.267951Z",
     "iopub.status.idle": "2022-02-14T16:17:33.800327Z",
     "shell.execute_reply": "2022-02-14T16:17:33.799905Z"
    }
   },
   "outputs": [],
   "source": [
    "TE = joinpath(tempdir(), \"OnePiece.test\")\n",
    "\n",
    "if isdir(TE)\n",
    "\n",
    "    rm(TE, recursive = true)\n",
    "\n",
    "    println(\"Removed \", TE, \".\")\n",
    "\n",
    "end\n",
    "\n",
    "mkdir(TE)\n",
    "\n",
    "println(\"Made \", TE, \".\")"
   ]
  },
  {
   "cell_type": "code",
   "execution_count": null,
   "id": "34e4701e",
   "metadata": {
    "execution": {
     "iopub.execute_input": "2022-02-14T16:17:33.802208Z",
     "iopub.status.busy": "2022-02-14T16:17:33.801698Z",
     "iopub.status.idle": "2022-02-14T16:17:37.901871Z",
     "shell.execute_reply": "2022-02-14T16:17:37.901412Z"
    }
   },
   "outputs": [],
   "source": [
    "using OnePiece"
   ]
  },
  {
   "cell_type": "markdown",
   "id": "b92a3da9",
   "metadata": {},
   "source": [
    "---"
   ]
  },
  {
   "cell_type": "markdown",
   "id": "ccdb8b26",
   "metadata": {},
   "source": [
    "## get_probability_and_cumulate"
   ]
  },
  {
   "cell_type": "code",
   "execution_count": null,
   "id": "1ba5422d",
   "metadata": {
    "execution": {
     "iopub.execute_input": "2022-02-14T16:17:38.214807Z",
     "iopub.status.busy": "2022-02-14T16:17:37.903226Z",
     "iopub.status.idle": "2022-02-14T16:17:38.979559Z",
     "shell.execute_reply": "2022-02-14T16:17:38.979175Z"
    }
   },
   "outputs": [],
   "source": [
    "OnePiece.feature_set_enrichment.get_probability_and_cumulate([1, 4])"
   ]
  },
  {
   "cell_type": "markdown",
   "id": "f009ac6a",
   "metadata": {},
   "source": [
    "## sum_1_absolute_and_0_count"
   ]
  },
  {
   "cell_type": "code",
   "execution_count": null,
   "id": "6ea9fb15",
   "metadata": {
    "execution": {
     "iopub.execute_input": "2022-02-14T16:17:38.981456Z",
     "iopub.status.busy": "2022-02-14T16:17:38.980955Z",
     "iopub.status.idle": "2022-02-14T16:17:39.252961Z",
     "shell.execute_reply": "2022-02-14T16:17:39.252568Z"
    }
   },
   "outputs": [],
   "source": [
    "OnePiece.feature_set_enrichment.sum_1_absolute_and_0_count(\n",
    "    [-2.0, -1, 0, 1, 2],\n",
    "    convert(Vector{Bool}, [1, 1, 0, 0, 1]),\n",
    ")"
   ]
  },
  {
   "cell_type": "markdown",
   "id": "8a6e1061",
   "metadata": {},
   "source": [
    "## make_benchmark"
   ]
  },
  {
   "cell_type": "code",
   "execution_count": null,
   "id": "4c20ec75",
   "metadata": {
    "execution": {
     "iopub.execute_input": "2022-02-14T16:17:39.254888Z",
     "iopub.status.busy": "2022-02-14T16:17:39.254313Z",
     "iopub.status.idle": "2022-02-14T16:17:46.435952Z",
     "shell.execute_reply": "2022-02-14T16:17:46.435556Z"
    }
   },
   "outputs": [],
   "source": [
    "try\n",
    "\n",
    "    OnePiece.feature_set_enrichment.make_benchmark(\"card 12K\")\n",
    "\n",
    "catch er\n",
    "\n",
    "    er\n",
    "\n",
    "end"
   ]
  },
  {
   "cell_type": "code",
   "execution_count": null,
   "id": "68aeeb9b",
   "metadata": {
    "execution": {
     "iopub.execute_input": "2022-02-14T16:17:46.437796Z",
     "iopub.status.busy": "2022-02-14T16:17:46.437298Z",
     "iopub.status.idle": "2022-02-14T16:17:46.868633Z",
     "shell.execute_reply": "2022-02-14T16:17:46.868234Z"
    }
   },
   "outputs": [],
   "source": [
    "OnePiece.feature_set_enrichment.make_benchmark(\"card A2K\")"
   ]
  },
  {
   "cell_type": "code",
   "execution_count": null,
   "id": "a93d4ce0",
   "metadata": {
    "execution": {
     "iopub.execute_input": "2022-02-14T16:17:46.870405Z",
     "iopub.status.busy": "2022-02-14T16:17:46.869896Z",
     "iopub.status.idle": "2022-02-14T16:17:47.235057Z",
     "shell.execute_reply": "2022-02-14T16:17:47.234564Z"
    }
   },
   "outputs": [],
   "source": [
    "OnePiece.feature_set_enrichment.make_benchmark(\"random 3 2\")"
   ]
  },
  {
   "cell_type": "code",
   "execution_count": null,
   "id": "a0f3bce7",
   "metadata": {
    "execution": {
     "iopub.execute_input": "2022-02-14T16:17:47.237377Z",
     "iopub.status.busy": "2022-02-14T16:17:47.236639Z",
     "iopub.status.idle": "2022-02-14T16:17:47.239268Z",
     "shell.execute_reply": "2022-02-14T16:17:47.238756Z"
    }
   },
   "outputs": [],
   "source": [
    "OnePiece.feature_set_enrichment.make_benchmark(\"random 4 2\")"
   ]
  },
  {
   "cell_type": "code",
   "execution_count": null,
   "id": "86bfbc58",
   "metadata": {
    "execution": {
     "iopub.execute_input": "2022-02-14T16:17:47.240955Z",
     "iopub.status.busy": "2022-02-14T16:17:47.240401Z",
     "iopub.status.idle": "2022-02-14T16:17:58.285757Z",
     "shell.execute_reply": "2022-02-14T16:17:58.285329Z"
    }
   },
   "outputs": [],
   "source": [
    "fe_, sc_, fe1_ = OnePiece.feature_set_enrichment.make_benchmark(\"myc\")\n",
    "\n",
    "println(length(fe_))\n",
    "\n",
    "println(length(sc_))\n",
    "\n",
    "println(length(fe1_))"
   ]
  },
  {
   "cell_type": "markdown",
   "id": "337971f7",
   "metadata": {},
   "source": [
    "## plot_mountain"
   ]
  },
  {
   "cell_type": "code",
   "execution_count": null,
   "id": "e74b541b",
   "metadata": {
    "execution": {
     "iopub.execute_input": "2022-02-14T16:17:58.287866Z",
     "iopub.status.busy": "2022-02-14T16:17:58.287164Z",
     "iopub.status.idle": "2022-02-14T16:17:58.288568Z",
     "shell.execute_reply": "2022-02-14T16:17:58.288914Z"
    }
   },
   "outputs": [],
   "source": [
    "fe_, sc_, fe1_ = OnePiece.feature_set_enrichment.make_benchmark(\"card AK\")\n",
    "\n",
    ";"
   ]
  },
  {
   "cell_type": "code",
   "execution_count": null,
   "id": "58f279e2",
   "metadata": {
    "execution": {
     "iopub.execute_input": "2022-02-14T16:17:58.290715Z",
     "iopub.status.busy": "2022-02-14T16:17:58.290220Z",
     "iopub.status.idle": "2022-02-14T16:18:01.019640Z",
     "shell.execute_reply": "2022-02-14T16:18:01.018944Z"
    }
   },
   "outputs": [],
   "source": [
    "OnePiece.feature_set_enrichment.score_set(fe_, sc_, fe1_, ou = joinpath(TE, \"mountain.html\"))"
   ]
  },
  {
   "cell_type": "code",
   "execution_count": null,
   "id": "517bc174",
   "metadata": {
    "execution": {
     "iopub.execute_input": "2022-02-14T16:18:01.021690Z",
     "iopub.status.busy": "2022-02-14T16:18:01.021107Z",
     "iopub.status.idle": "2022-02-14T16:18:01.819833Z",
     "shell.execute_reply": "2022-02-14T16:18:01.819279Z"
    }
   },
   "outputs": [],
   "source": [
    "OnePiece.feature_set_enrichment.score_set_new(\n",
    "    fe_,\n",
    "    sc_,\n",
    "    fe1_,\n",
    "    ou = joinpath(TE, \"mountain_new.html\"),\n",
    ")"
   ]
  },
  {
   "cell_type": "markdown",
   "id": "b2ede5e5",
   "metadata": {},
   "source": [
    "## score_set*"
   ]
  },
  {
   "cell_type": "code",
   "execution_count": null,
   "id": "bfe544b8",
   "metadata": {
    "execution": {
     "iopub.execute_input": "2022-02-14T16:18:01.821870Z",
     "iopub.status.busy": "2022-02-14T16:18:01.821279Z",
     "iopub.status.idle": "2022-02-14T16:18:01.824105Z",
     "shell.execute_reply": "2022-02-14T16:18:01.823393Z"
    }
   },
   "outputs": [],
   "source": [
    "using DataFrames"
   ]
  },
  {
   "cell_type": "code",
   "execution_count": null,
   "id": "ee5aff03",
   "metadata": {
    "execution": {
     "iopub.execute_input": "2022-02-14T16:18:01.826062Z",
     "iopub.status.busy": "2022-02-14T16:18:01.825400Z",
     "iopub.status.idle": "2022-02-14T16:18:02.201397Z",
     "shell.execute_reply": "2022-02-14T16:18:02.200895Z"
    }
   },
   "outputs": [],
   "source": [
    "fe_, sc_, fe1_ = OnePiece.feature_set_enrichment.make_benchmark(\"myc\")\n",
    "\n",
    "in_ = OnePiece.extension.vector.is_in(fe_, fe1_)\n",
    "\n",
    "sc_fe_sa = DataFrame(\n",
    "    \"Feature\" => fe_,\n",
    "    \"Score\" => sc_,\n",
    "    \"Score x 10\" => sc_ * 10,\n",
    "    \"Constant\" => fill(0.8, length(fe_)),\n",
    ")\n",
    "\n",
    "se_fe_ = OnePiece.io.gmt.read(\n",
    "    joinpath(@__DIR__, \"feature_set_enrichment.data\", \"h.all.v7.1.symbols.gmt\"),\n",
    ")\n",
    "\n",
    ";"
   ]
  },
  {
   "cell_type": "markdown",
   "id": "b3cd3ef2",
   "metadata": {},
   "source": [
    "### score_set"
   ]
  },
  {
   "cell_type": "code",
   "execution_count": null,
   "id": "871350b7",
   "metadata": {
    "execution": {
     "iopub.execute_input": "2022-02-14T16:18:02.204064Z",
     "iopub.status.busy": "2022-02-14T16:18:02.203398Z",
     "iopub.status.idle": "2022-02-14T16:18:02.268142Z",
     "shell.execute_reply": "2022-02-14T16:18:02.267684Z"
    }
   },
   "outputs": [],
   "source": [
    "OnePiece.feature_set_enrichment.score_set(fe_, sc_, fe1_, in_)"
   ]
  },
  {
   "cell_type": "code",
   "execution_count": null,
   "id": "f1d3072c",
   "metadata": {
    "execution": {
     "iopub.execute_input": "2022-02-14T16:18:02.272162Z",
     "iopub.status.busy": "2022-02-14T16:18:02.271497Z",
     "iopub.status.idle": "2022-02-14T16:18:02.320158Z",
     "shell.execute_reply": "2022-02-14T16:18:02.319452Z"
    }
   },
   "outputs": [],
   "source": [
    "OnePiece.feature_set_enrichment.score_set(fe_, sc_, fe1_)"
   ]
  },
  {
   "cell_type": "code",
   "execution_count": null,
   "id": "3e380333",
   "metadata": {
    "execution": {
     "iopub.execute_input": "2022-02-14T16:18:02.324214Z",
     "iopub.status.busy": "2022-02-14T16:18:02.323617Z",
     "iopub.status.idle": "2022-02-14T16:18:03.889642Z",
     "shell.execute_reply": "2022-02-14T16:18:03.889246Z"
    }
   },
   "outputs": [],
   "source": [
    "OnePiece.feature_set_enrichment.score_set(fe_, sc_, se_fe_)"
   ]
  },
  {
   "cell_type": "code",
   "execution_count": null,
   "id": "f31c3a45",
   "metadata": {
    "execution": {
     "iopub.execute_input": "2022-02-14T16:18:03.891392Z",
     "iopub.status.busy": "2022-02-14T16:18:03.890873Z",
     "iopub.status.idle": "2022-02-14T16:18:08.484846Z",
     "shell.execute_reply": "2022-02-14T16:18:08.484389Z"
    }
   },
   "outputs": [],
   "source": [
    "OnePiece.feature_set_enrichment.score_set(sc_fe_sa, se_fe_)"
   ]
  },
  {
   "cell_type": "markdown",
   "id": "b955b922",
   "metadata": {},
   "source": [
    "### score_set_new"
   ]
  },
  {
   "cell_type": "code",
   "execution_count": null,
   "id": "dc2fb2d2",
   "metadata": {
    "execution": {
     "iopub.execute_input": "2022-02-14T16:18:08.487142Z",
     "iopub.status.busy": "2022-02-14T16:18:08.486224Z",
     "iopub.status.idle": "2022-02-14T16:18:08.599259Z",
     "shell.execute_reply": "2022-02-14T16:18:08.598844Z"
    }
   },
   "outputs": [],
   "source": [
    "OnePiece.feature_set_enrichment.score_set_new(fe_, sc_, fe1_)"
   ]
  },
  {
   "cell_type": "code",
   "execution_count": null,
   "id": "a6ac1e10",
   "metadata": {
    "execution": {
     "iopub.execute_input": "2022-02-14T16:18:08.601169Z",
     "iopub.status.busy": "2022-02-14T16:18:08.600603Z",
     "iopub.status.idle": "2022-02-14T16:18:09.413695Z",
     "shell.execute_reply": "2022-02-14T16:18:09.413317Z"
    }
   },
   "outputs": [],
   "source": [
    "OnePiece.feature_set_enrichment.score_set_new(fe_, sc_, se_fe_)"
   ]
  },
  {
   "cell_type": "markdown",
   "id": "94460707",
   "metadata": {},
   "source": [
    "## try_method"
   ]
  },
  {
   "cell_type": "code",
   "execution_count": null,
   "id": "2893cb57",
   "metadata": {
    "execution": {
     "iopub.execute_input": "2022-02-14T16:18:09.415650Z",
     "iopub.status.busy": "2022-02-14T16:18:09.415156Z",
     "iopub.status.idle": "2022-02-14T16:18:11.069322Z",
     "shell.execute_reply": "2022-02-14T16:18:11.068930Z"
    }
   },
   "outputs": [],
   "source": [
    "OnePiece.feature_set_enrichment.try_method(fe_, sc_, fe1_, plp = false)"
   ]
  },
  {
   "cell_type": "markdown",
   "id": "3f396855",
   "metadata": {},
   "source": [
    "---"
   ]
  },
  {
   "cell_type": "code",
   "execution_count": null,
   "id": "b4af2023",
   "metadata": {
    "execution": {
     "iopub.execute_input": "2022-02-14T16:18:11.071354Z",
     "iopub.status.busy": "2022-02-14T16:18:11.070750Z",
     "iopub.status.idle": "2022-02-14T16:18:11.073305Z",
     "shell.execute_reply": "2022-02-14T16:18:11.072864Z"
    }
   },
   "outputs": [],
   "source": [
    "if isdir(TE)\n",
    "\n",
    "    rm(TE, recursive = true)\n",
    "\n",
    "    println(\"Removed \", TE, \".\")\n",
    "\n",
    "end"
   ]
  }
 ],
 "metadata": {
  "kernelspec": {
   "display_name": "Julia 1.7.2",
   "language": "julia",
   "name": "julia-1.7"
  },
  "language_info": {
   "file_extension": ".jl",
   "mimetype": "application/julia",
   "name": "julia",
   "version": "1.7.2"
  }
 },
 "nbformat": 4,
 "nbformat_minor": 5
}
