{
 "cells": [
  {
   "cell_type": "code",
   "execution_count": null,
   "id": "017464da",
   "metadata": {
    "execution": {
     "iopub.execute_input": "2022-02-13T23:01:32.805060Z",
     "iopub.status.busy": "2022-02-13T23:01:32.479477Z",
     "iopub.status.idle": "2022-02-13T23:01:32.997859Z",
     "shell.execute_reply": "2022-02-13T23:01:32.997374Z"
    }
   },
   "outputs": [],
   "source": [
    "TE = joinpath(tempdir(), \"OnePiece.test\")\n",
    "\n",
    "if isdir(TE)\n",
    "\n",
    "    rm(TE, recursive = true)\n",
    "\n",
    "    println(\"Removed \", TE, \".\")\n",
    "\n",
    "end\n",
    "\n",
    "mkdir(TE)\n",
    "\n",
    "println(\"Made \", TE, \".\")"
   ]
  },
  {
   "cell_type": "code",
   "execution_count": null,
   "id": "34e4701e",
   "metadata": {
    "execution": {
     "iopub.execute_input": "2022-02-13T23:01:33.000054Z",
     "iopub.status.busy": "2022-02-13T23:01:32.999541Z",
     "iopub.status.idle": "2022-02-13T23:01:36.925683Z",
     "shell.execute_reply": "2022-02-13T23:01:36.925233Z"
    }
   },
   "outputs": [],
   "source": [
    "using OnePiece"
   ]
  },
  {
   "cell_type": "markdown",
   "id": "b92a3da9",
   "metadata": {},
   "source": [
    "---"
   ]
  },
  {
   "cell_type": "markdown",
   "id": "ccdb8b26",
   "metadata": {},
   "source": [
    "## get_probability_and_cumulate"
   ]
  },
  {
   "cell_type": "code",
   "execution_count": null,
   "id": "1ba5422d",
   "metadata": {
    "execution": {
     "iopub.execute_input": "2022-02-13T23:01:37.223427Z",
     "iopub.status.busy": "2022-02-13T23:01:36.927158Z",
     "iopub.status.idle": "2022-02-13T23:01:37.919578Z",
     "shell.execute_reply": "2022-02-13T23:01:37.919192Z"
    }
   },
   "outputs": [],
   "source": [
    "OnePiece.feature_set_enrichment.get_probability_and_cumulate([1, 4])"
   ]
  },
  {
   "cell_type": "markdown",
   "id": "f009ac6a",
   "metadata": {},
   "source": [
    "## sum_1_absolute_and_0_count"
   ]
  },
  {
   "cell_type": "code",
   "execution_count": null,
   "id": "6ea9fb15",
   "metadata": {
    "execution": {
     "iopub.execute_input": "2022-02-13T23:01:37.921566Z",
     "iopub.status.busy": "2022-02-13T23:01:37.921063Z",
     "iopub.status.idle": "2022-02-13T23:01:38.187343Z",
     "shell.execute_reply": "2022-02-13T23:01:38.186950Z"
    }
   },
   "outputs": [],
   "source": [
    "OnePiece.feature_set_enrichment.sum_1_absolute_and_0_count(\n",
    "    [-2.0, -1, 0, 1, 2],\n",
    "    convert(Vector{Bool}, [1, 1, 0, 0, 1]),\n",
    ")"
   ]
  },
  {
   "cell_type": "markdown",
   "id": "8a6e1061",
   "metadata": {},
   "source": [
    "## make_benchmark"
   ]
  },
  {
   "cell_type": "code",
   "execution_count": null,
   "id": "4c20ec75",
   "metadata": {
    "execution": {
     "iopub.execute_input": "2022-02-13T23:01:38.189360Z",
     "iopub.status.busy": "2022-02-13T23:01:38.188840Z",
     "iopub.status.idle": "2022-02-13T23:01:44.710246Z",
     "shell.execute_reply": "2022-02-13T23:01:44.709853Z"
    }
   },
   "outputs": [],
   "source": [
    "try\n",
    "\n",
    "    OnePiece.feature_set_enrichment.make_benchmark(\"card 12K\")\n",
    "\n",
    "catch er\n",
    "\n",
    "    er\n",
    "\n",
    "end"
   ]
  },
  {
   "cell_type": "code",
   "execution_count": null,
   "id": "68aeeb9b",
   "metadata": {
    "execution": {
     "iopub.execute_input": "2022-02-13T23:01:44.712238Z",
     "iopub.status.busy": "2022-02-13T23:01:44.711715Z",
     "iopub.status.idle": "2022-02-13T23:01:45.100069Z",
     "shell.execute_reply": "2022-02-13T23:01:45.099689Z"
    }
   },
   "outputs": [],
   "source": [
    "OnePiece.feature_set_enrichment.make_benchmark(\"card A2K\")"
   ]
  },
  {
   "cell_type": "code",
   "execution_count": null,
   "id": "a93d4ce0",
   "metadata": {
    "execution": {
     "iopub.execute_input": "2022-02-13T23:01:45.101783Z",
     "iopub.status.busy": "2022-02-13T23:01:45.101304Z",
     "iopub.status.idle": "2022-02-13T23:01:45.415039Z",
     "shell.execute_reply": "2022-02-13T23:01:45.414647Z"
    }
   },
   "outputs": [],
   "source": [
    "OnePiece.feature_set_enrichment.make_benchmark(\"random 3 2\")"
   ]
  },
  {
   "cell_type": "code",
   "execution_count": null,
   "id": "a0f3bce7",
   "metadata": {
    "execution": {
     "iopub.execute_input": "2022-02-13T23:01:45.417253Z",
     "iopub.status.busy": "2022-02-13T23:01:45.416310Z",
     "iopub.status.idle": "2022-02-13T23:01:45.419105Z",
     "shell.execute_reply": "2022-02-13T23:01:45.417748Z"
    }
   },
   "outputs": [],
   "source": [
    "OnePiece.feature_set_enrichment.make_benchmark(\"random 4 2\")"
   ]
  },
  {
   "cell_type": "code",
   "execution_count": null,
   "id": "86bfbc58",
   "metadata": {
    "execution": {
     "iopub.execute_input": "2022-02-13T23:01:45.420936Z",
     "iopub.status.busy": "2022-02-13T23:01:45.420460Z",
     "iopub.status.idle": "2022-02-13T23:01:55.613726Z",
     "shell.execute_reply": "2022-02-13T23:01:55.613289Z"
    }
   },
   "outputs": [],
   "source": [
    "fe_, sc_, fe1_ = OnePiece.feature_set_enrichment.make_benchmark(\"myc\")\n",
    "\n",
    "println(length(fe_))\n",
    "\n",
    "println(length(sc_))\n",
    "\n",
    "println(length(fe1_))"
   ]
  },
  {
   "cell_type": "markdown",
   "id": "337971f7",
   "metadata": {},
   "source": [
    "## plot_mountain"
   ]
  },
  {
   "cell_type": "code",
   "execution_count": null,
   "id": "e74b541b",
   "metadata": {
    "execution": {
     "iopub.execute_input": "2022-02-13T23:01:55.616221Z",
     "iopub.status.busy": "2022-02-13T23:01:55.615270Z",
     "iopub.status.idle": "2022-02-13T23:01:55.616797Z",
     "shell.execute_reply": "2022-02-13T23:01:55.617128Z"
    }
   },
   "outputs": [],
   "source": [
    "fe_, sc_, fe1_ = OnePiece.feature_set_enrichment.make_benchmark(\"card AK\")\n",
    "\n",
    ";"
   ]
  },
  {
   "cell_type": "code",
   "execution_count": null,
   "id": "58f279e2",
   "metadata": {
    "execution": {
     "iopub.execute_input": "2022-02-13T23:01:55.619044Z",
     "iopub.status.busy": "2022-02-13T23:01:55.618536Z",
     "iopub.status.idle": "2022-02-13T23:01:58.236815Z",
     "shell.execute_reply": "2022-02-13T23:01:58.236377Z"
    }
   },
   "outputs": [],
   "source": [
    "OnePiece.feature_set_enrichment.score_set(fe_, sc_, fe1_, ou = joinpath(TE, \"mountain.html\"))"
   ]
  },
  {
   "cell_type": "code",
   "execution_count": null,
   "id": "517bc174",
   "metadata": {
    "execution": {
     "iopub.execute_input": "2022-02-13T23:01:58.238902Z",
     "iopub.status.busy": "2022-02-13T23:01:58.238180Z",
     "iopub.status.idle": "2022-02-13T23:01:58.967423Z",
     "shell.execute_reply": "2022-02-13T23:01:58.966897Z"
    }
   },
   "outputs": [],
   "source": [
    "OnePiece.feature_set_enrichment.score_set_new(\n",
    "    fe_,\n",
    "    sc_,\n",
    "    fe1_,\n",
    "    ou = joinpath(TE, \"mountain_new.html\"),\n",
    ")"
   ]
  },
  {
   "cell_type": "markdown",
   "id": "b2ede5e5",
   "metadata": {},
   "source": [
    "## score_set*"
   ]
  },
  {
   "cell_type": "code",
   "execution_count": null,
   "id": "bfe544b8",
   "metadata": {
    "execution": {
     "iopub.execute_input": "2022-02-13T23:01:58.971061Z",
     "iopub.status.busy": "2022-02-13T23:01:58.969827Z",
     "iopub.status.idle": "2022-02-13T23:01:58.972816Z",
     "shell.execute_reply": "2022-02-13T23:01:58.972337Z"
    }
   },
   "outputs": [],
   "source": [
    "using DataFrames"
   ]
  },
  {
   "cell_type": "code",
   "execution_count": null,
   "id": "ee5aff03",
   "metadata": {
    "execution": {
     "iopub.execute_input": "2022-02-13T23:01:58.974728Z",
     "iopub.status.busy": "2022-02-13T23:01:58.974212Z",
     "iopub.status.idle": "2022-02-13T23:01:59.330695Z",
     "shell.execute_reply": "2022-02-13T23:01:59.330162Z"
    }
   },
   "outputs": [],
   "source": [
    "fe_, sc_, fe1_ = OnePiece.feature_set_enrichment.make_benchmark(\"myc\")\n",
    "\n",
    "in_ = OnePiece.extension.vector.is_in(fe_, fe1_)\n",
    "\n",
    "sc_fe_sa = DataFrame(\n",
    "    \"Feature\" => fe_,\n",
    "    \"Score\" => sc_,\n",
    "    \"Score x 10\" => sc_ * 10,\n",
    "    \"Constant\" => fill(0.8, length(fe_)),\n",
    ")\n",
    "\n",
    "se_fe_ = OnePiece.io.gmt.read(\n",
    "    joinpath(@__DIR__, \"feature_set_enrichment.data\", \"h.all.v7.1.symbols.gmt\"),\n",
    ")\n",
    "\n",
    ";"
   ]
  },
  {
   "cell_type": "markdown",
   "id": "b3cd3ef2",
   "metadata": {},
   "source": [
    "### score_set"
   ]
  },
  {
   "cell_type": "code",
   "execution_count": null,
   "id": "871350b7",
   "metadata": {
    "execution": {
     "iopub.execute_input": "2022-02-13T23:01:59.332881Z",
     "iopub.status.busy": "2022-02-13T23:01:59.332350Z",
     "iopub.status.idle": "2022-02-13T23:01:59.398135Z",
     "shell.execute_reply": "2022-02-13T23:01:59.397670Z"
    }
   },
   "outputs": [],
   "source": [
    "OnePiece.feature_set_enrichment.score_set(fe_, sc_, fe1_, in_)"
   ]
  },
  {
   "cell_type": "code",
   "execution_count": null,
   "id": "f1d3072c",
   "metadata": {
    "execution": {
     "iopub.execute_input": "2022-02-13T23:01:59.402907Z",
     "iopub.status.busy": "2022-02-13T23:01:59.402315Z",
     "iopub.status.idle": "2022-02-13T23:01:59.452021Z",
     "shell.execute_reply": "2022-02-13T23:01:59.450787Z"
    }
   },
   "outputs": [],
   "source": [
    "OnePiece.feature_set_enrichment.score_set(fe_, sc_, fe1_)"
   ]
  },
  {
   "cell_type": "code",
   "execution_count": null,
   "id": "3e380333",
   "metadata": {
    "execution": {
     "iopub.execute_input": "2022-02-13T23:01:59.458172Z",
     "iopub.status.busy": "2022-02-13T23:01:59.457354Z",
     "iopub.status.idle": "2022-02-13T23:02:00.814433Z",
     "shell.execute_reply": "2022-02-13T23:02:00.814032Z"
    }
   },
   "outputs": [],
   "source": [
    "OnePiece.feature_set_enrichment.score_set(fe_, sc_, se_fe_)"
   ]
  },
  {
   "cell_type": "code",
   "execution_count": null,
   "id": "f31c3a45",
   "metadata": {
    "execution": {
     "iopub.execute_input": "2022-02-13T23:02:00.816293Z",
     "iopub.status.busy": "2022-02-13T23:02:00.815713Z",
     "iopub.status.idle": "2022-02-13T23:02:04.430370Z",
     "shell.execute_reply": "2022-02-13T23:02:04.429233Z"
    }
   },
   "outputs": [],
   "source": [
    "OnePiece.feature_set_enrichment.score_set(sc_fe_sa, se_fe_)"
   ]
  },
  {
   "cell_type": "markdown",
   "id": "b955b922",
   "metadata": {},
   "source": [
    "### score_set_new"
   ]
  },
  {
   "cell_type": "code",
   "execution_count": null,
   "id": "dc2fb2d2",
   "metadata": {
    "execution": {
     "iopub.execute_input": "2022-02-13T23:02:04.432336Z",
     "iopub.status.busy": "2022-02-13T23:02:04.431844Z",
     "iopub.status.idle": "2022-02-13T23:02:04.542947Z",
     "shell.execute_reply": "2022-02-13T23:02:04.543364Z"
    }
   },
   "outputs": [],
   "source": [
    "OnePiece.feature_set_enrichment.score_set_new(fe_, sc_, fe1_)"
   ]
  },
  {
   "cell_type": "code",
   "execution_count": null,
   "id": "a6ac1e10",
   "metadata": {
    "execution": {
     "iopub.execute_input": "2022-02-13T23:02:04.545772Z",
     "iopub.status.busy": "2022-02-13T23:02:04.545194Z",
     "iopub.status.idle": "2022-02-13T23:02:05.315183Z",
     "shell.execute_reply": "2022-02-13T23:02:05.314803Z"
    }
   },
   "outputs": [],
   "source": [
    "OnePiece.feature_set_enrichment.score_set_new(fe_, sc_, se_fe_)"
   ]
  },
  {
   "cell_type": "markdown",
   "id": "94460707",
   "metadata": {},
   "source": [
    "## try_method"
   ]
  },
  {
   "cell_type": "code",
   "execution_count": null,
   "id": "2893cb57",
   "metadata": {
    "execution": {
     "iopub.execute_input": "2022-02-13T23:02:05.317090Z",
     "iopub.status.busy": "2022-02-13T23:02:05.316589Z",
     "iopub.status.idle": "2022-02-13T23:02:06.921177Z",
     "shell.execute_reply": "2022-02-13T23:02:06.920802Z"
    }
   },
   "outputs": [],
   "source": [
    "OnePiece.feature_set_enrichment.try_method(fe_, sc_, fe1_, plp = false)"
   ]
  },
  {
   "cell_type": "markdown",
   "id": "3f396855",
   "metadata": {},
   "source": [
    "---"
   ]
  },
  {
   "cell_type": "code",
   "execution_count": null,
   "id": "b4af2023",
   "metadata": {
    "execution": {
     "iopub.execute_input": "2022-02-13T23:02:06.924124Z",
     "iopub.status.busy": "2022-02-13T23:02:06.923446Z",
     "iopub.status.idle": "2022-02-13T23:02:06.926122Z",
     "shell.execute_reply": "2022-02-13T23:02:06.925780Z"
    }
   },
   "outputs": [],
   "source": [
    "if isdir(TE)\n",
    "\n",
    "    rm(TE, recursive = true)\n",
    "\n",
    "    println(\"Removed \", TE, \".\")\n",
    "\n",
    "end"
   ]
  }
 ],
 "metadata": {
  "kernelspec": {
   "display_name": "Julia 1.7.2",
   "language": "julia",
   "name": "julia-1.7"
  },
  "language_info": {
   "file_extension": ".jl",
   "mimetype": "application/julia",
   "name": "julia",
   "version": "1.7.2"
  }
 },
 "nbformat": 4,
 "nbformat_minor": 5
}
