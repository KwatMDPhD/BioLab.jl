{
 "cells": [
  {
   "cell_type": "code",
   "execution_count": null,
   "id": "017464da",
   "metadata": {
    "execution": {
     "iopub.execute_input": "2022-02-14T17:07:01.109002Z",
     "iopub.status.busy": "2022-02-14T17:07:00.721772Z",
     "iopub.status.idle": "2022-02-14T17:07:01.319257Z",
     "shell.execute_reply": "2022-02-14T17:07:01.318660Z"
    }
   },
   "outputs": [],
   "source": [
    "TE = joinpath(tempdir(), \"OnePiece.test\")\n",
    "\n",
    "if isdir(TE)\n",
    "\n",
    "    rm(TE, recursive = true)\n",
    "\n",
    "    println(\"Removed \", TE, \".\")\n",
    "\n",
    "end\n",
    "\n",
    "mkdir(TE)\n",
    "\n",
    "println(\"Made \", TE, \".\")"
   ]
  },
  {
   "cell_type": "code",
   "execution_count": null,
   "id": "34e4701e",
   "metadata": {
    "execution": {
     "iopub.execute_input": "2022-02-14T17:07:01.321239Z",
     "iopub.status.busy": "2022-02-14T17:07:01.320605Z",
     "iopub.status.idle": "2022-02-14T17:07:06.074465Z",
     "shell.execute_reply": "2022-02-14T17:07:06.073949Z"
    }
   },
   "outputs": [],
   "source": [
    "using OnePiece"
   ]
  },
  {
   "cell_type": "markdown",
   "id": "b92a3da9",
   "metadata": {},
   "source": [
    "---"
   ]
  },
  {
   "cell_type": "markdown",
   "id": "ccdb8b26",
   "metadata": {},
   "source": [
    "## get_probability_and_cumulate"
   ]
  },
  {
   "cell_type": "code",
   "execution_count": null,
   "id": "1ba5422d",
   "metadata": {
    "execution": {
     "iopub.execute_input": "2022-02-14T17:07:06.436362Z",
     "iopub.status.busy": "2022-02-14T17:07:06.075842Z",
     "iopub.status.idle": "2022-02-14T17:07:07.267883Z",
     "shell.execute_reply": "2022-02-14T17:07:07.267416Z"
    }
   },
   "outputs": [],
   "source": [
    "OnePiece.feature_set_enrichment.get_probability_and_cumulate([1, 4])"
   ]
  },
  {
   "cell_type": "markdown",
   "id": "f009ac6a",
   "metadata": {},
   "source": [
    "## sum_1_absolute_and_0_count"
   ]
  },
  {
   "cell_type": "code",
   "execution_count": null,
   "id": "6ea9fb15",
   "metadata": {
    "execution": {
     "iopub.execute_input": "2022-02-14T17:07:07.269922Z",
     "iopub.status.busy": "2022-02-14T17:07:07.269326Z",
     "iopub.status.idle": "2022-02-14T17:07:07.572772Z",
     "shell.execute_reply": "2022-02-14T17:07:07.572236Z"
    }
   },
   "outputs": [],
   "source": [
    "OnePiece.feature_set_enrichment.sum_1_absolute_and_0_count(\n",
    "    [-2.0, -1, 0, 1, 2],\n",
    "    convert(Vector{Bool}, [1, 1, 0, 0, 1]),\n",
    ")"
   ]
  },
  {
   "cell_type": "markdown",
   "id": "8a6e1061",
   "metadata": {},
   "source": [
    "## make_benchmark"
   ]
  },
  {
   "cell_type": "code",
   "execution_count": null,
   "id": "4c20ec75",
   "metadata": {
    "execution": {
     "iopub.execute_input": "2022-02-14T17:07:07.574755Z",
     "iopub.status.busy": "2022-02-14T17:07:07.574173Z",
     "iopub.status.idle": "2022-02-14T17:07:15.240615Z",
     "shell.execute_reply": "2022-02-14T17:07:15.240073Z"
    }
   },
   "outputs": [],
   "source": [
    "try\n",
    "\n",
    "    OnePiece.feature_set_enrichment.make_benchmark(\"card 12K\")\n",
    "\n",
    "catch er\n",
    "\n",
    "    er\n",
    "\n",
    "end"
   ]
  },
  {
   "cell_type": "code",
   "execution_count": null,
   "id": "68aeeb9b",
   "metadata": {
    "execution": {
     "iopub.execute_input": "2022-02-14T17:07:15.242695Z",
     "iopub.status.busy": "2022-02-14T17:07:15.242087Z",
     "iopub.status.idle": "2022-02-14T17:07:15.746352Z",
     "shell.execute_reply": "2022-02-14T17:07:15.745882Z"
    }
   },
   "outputs": [],
   "source": [
    "OnePiece.feature_set_enrichment.make_benchmark(\"card A2K\")"
   ]
  },
  {
   "cell_type": "code",
   "execution_count": null,
   "id": "a93d4ce0",
   "metadata": {
    "execution": {
     "iopub.execute_input": "2022-02-14T17:07:15.748211Z",
     "iopub.status.busy": "2022-02-14T17:07:15.747631Z",
     "iopub.status.idle": "2022-02-14T17:07:16.132532Z",
     "shell.execute_reply": "2022-02-14T17:07:16.132072Z"
    }
   },
   "outputs": [],
   "source": [
    "OnePiece.feature_set_enrichment.make_benchmark(\"random 3 2\")"
   ]
  },
  {
   "cell_type": "code",
   "execution_count": null,
   "id": "a0f3bce7",
   "metadata": {
    "execution": {
     "iopub.execute_input": "2022-02-14T17:07:16.134647Z",
     "iopub.status.busy": "2022-02-14T17:07:16.133882Z",
     "iopub.status.idle": "2022-02-14T17:07:16.136450Z",
     "shell.execute_reply": "2022-02-14T17:07:16.135261Z"
    }
   },
   "outputs": [],
   "source": [
    "OnePiece.feature_set_enrichment.make_benchmark(\"random 4 2\")"
   ]
  },
  {
   "cell_type": "code",
   "execution_count": null,
   "id": "86bfbc58",
   "metadata": {
    "execution": {
     "iopub.execute_input": "2022-02-14T17:07:16.138368Z",
     "iopub.status.busy": "2022-02-14T17:07:16.137776Z",
     "iopub.status.idle": "2022-02-14T17:07:30.140401Z",
     "shell.execute_reply": "2022-02-14T17:07:30.139782Z"
    }
   },
   "outputs": [],
   "source": [
    "fe_, sc_, fe1_ = OnePiece.feature_set_enrichment.make_benchmark(\"myc\")\n",
    "\n",
    "println(length(fe_))\n",
    "\n",
    "println(length(sc_))\n",
    "\n",
    "println(length(fe1_))"
   ]
  },
  {
   "cell_type": "markdown",
   "id": "337971f7",
   "metadata": {},
   "source": [
    "## plot_mountain"
   ]
  },
  {
   "cell_type": "code",
   "execution_count": null,
   "id": "e74b541b",
   "metadata": {
    "execution": {
     "iopub.execute_input": "2022-02-14T17:07:30.142711Z",
     "iopub.status.busy": "2022-02-14T17:07:30.141979Z",
     "iopub.status.idle": "2022-02-14T17:07:30.143491Z",
     "shell.execute_reply": "2022-02-14T17:07:30.143969Z"
    }
   },
   "outputs": [],
   "source": [
    "fe_, sc_, fe1_ = OnePiece.feature_set_enrichment.make_benchmark(\"card AK\")\n",
    "\n",
    ";"
   ]
  },
  {
   "cell_type": "code",
   "execution_count": null,
   "id": "58f279e2",
   "metadata": {
    "execution": {
     "iopub.execute_input": "2022-02-14T17:07:30.146002Z",
     "iopub.status.busy": "2022-02-14T17:07:30.145328Z",
     "iopub.status.idle": "2022-02-14T17:07:33.788863Z",
     "shell.execute_reply": "2022-02-14T17:07:33.788288Z"
    }
   },
   "outputs": [],
   "source": [
    "OnePiece.feature_set_enrichment.score_set(fe_, sc_, fe1_, ou = joinpath(TE, \"mountain.html\"))"
   ]
  },
  {
   "cell_type": "code",
   "execution_count": null,
   "id": "517bc174",
   "metadata": {
    "execution": {
     "iopub.execute_input": "2022-02-14T17:07:33.791616Z",
     "iopub.status.busy": "2022-02-14T17:07:33.790908Z",
     "iopub.status.idle": "2022-02-14T17:07:34.912098Z",
     "shell.execute_reply": "2022-02-14T17:07:34.912613Z"
    }
   },
   "outputs": [],
   "source": [
    "OnePiece.feature_set_enrichment.score_set_new(\n",
    "    fe_,\n",
    "    sc_,\n",
    "    fe1_,\n",
    "    ou = joinpath(TE, \"mountain_new.html\"),\n",
    ")"
   ]
  },
  {
   "cell_type": "markdown",
   "id": "b2ede5e5",
   "metadata": {},
   "source": [
    "## score_set*"
   ]
  },
  {
   "cell_type": "code",
   "execution_count": null,
   "id": "bfe544b8",
   "metadata": {
    "execution": {
     "iopub.execute_input": "2022-02-14T17:07:34.915247Z",
     "iopub.status.busy": "2022-02-14T17:07:34.914551Z",
     "iopub.status.idle": "2022-02-14T17:07:34.916761Z",
     "shell.execute_reply": "2022-02-14T17:07:34.916245Z"
    }
   },
   "outputs": [],
   "source": [
    "using DataFrames"
   ]
  },
  {
   "cell_type": "code",
   "execution_count": null,
   "id": "ee5aff03",
   "metadata": {
    "execution": {
     "iopub.execute_input": "2022-02-14T17:07:34.919122Z",
     "iopub.status.busy": "2022-02-14T17:07:34.918323Z",
     "iopub.status.idle": "2022-02-14T17:07:35.353074Z",
     "shell.execute_reply": "2022-02-14T17:07:35.352547Z"
    }
   },
   "outputs": [],
   "source": [
    "fe_, sc_, fe1_ = OnePiece.feature_set_enrichment.make_benchmark(\"myc\")\n",
    "\n",
    "in_ = OnePiece.extension.vector.is_in(fe_, fe1_)\n",
    "\n",
    "sc_fe_sa = DataFrame(\n",
    "    \"Feature\" => fe_,\n",
    "    \"Score\" => sc_,\n",
    "    \"Score x 10\" => sc_ * 10,\n",
    "    \"Constant\" => fill(0.8, length(fe_)),\n",
    ")\n",
    "\n",
    "se_fe_ = OnePiece.io.gmt.read(\n",
    "    joinpath(@__DIR__, \"feature_set_enrichment.data\", \"h.all.v7.1.symbols.gmt\"),\n",
    ")\n",
    "\n",
    ";"
   ]
  },
  {
   "cell_type": "markdown",
   "id": "b3cd3ef2",
   "metadata": {},
   "source": [
    "### score_set"
   ]
  },
  {
   "cell_type": "code",
   "execution_count": null,
   "id": "871350b7",
   "metadata": {
    "execution": {
     "iopub.execute_input": "2022-02-14T17:07:35.355444Z",
     "iopub.status.busy": "2022-02-14T17:07:35.354766Z",
     "iopub.status.idle": "2022-02-14T17:07:35.422977Z",
     "shell.execute_reply": "2022-02-14T17:07:35.423728Z"
    }
   },
   "outputs": [],
   "source": [
    "OnePiece.feature_set_enrichment.score_set(fe_, sc_, fe1_, in_)"
   ]
  },
  {
   "cell_type": "code",
   "execution_count": null,
   "id": "f1d3072c",
   "metadata": {
    "execution": {
     "iopub.execute_input": "2022-02-14T17:07:35.429451Z",
     "iopub.status.busy": "2022-02-14T17:07:35.428411Z",
     "iopub.status.idle": "2022-02-14T17:07:35.482538Z",
     "shell.execute_reply": "2022-02-14T17:07:35.482007Z"
    }
   },
   "outputs": [],
   "source": [
    "OnePiece.feature_set_enrichment.score_set(fe_, sc_, fe1_)"
   ]
  },
  {
   "cell_type": "code",
   "execution_count": null,
   "id": "3e380333",
   "metadata": {
    "execution": {
     "iopub.execute_input": "2022-02-14T17:07:35.485471Z",
     "iopub.status.busy": "2022-02-14T17:07:35.484792Z",
     "iopub.status.idle": "2022-02-14T17:07:37.294065Z",
     "shell.execute_reply": "2022-02-14T17:07:37.293539Z"
    }
   },
   "outputs": [],
   "source": [
    "OnePiece.feature_set_enrichment.score_set(fe_, sc_, se_fe_)"
   ]
  },
  {
   "cell_type": "code",
   "execution_count": null,
   "id": "f31c3a45",
   "metadata": {
    "execution": {
     "iopub.execute_input": "2022-02-14T17:07:37.296215Z",
     "iopub.status.busy": "2022-02-14T17:07:37.295550Z",
     "iopub.status.idle": "2022-02-14T17:07:42.459838Z",
     "shell.execute_reply": "2022-02-14T17:07:42.459303Z"
    }
   },
   "outputs": [],
   "source": [
    "OnePiece.feature_set_enrichment.score_set(sc_fe_sa, se_fe_)"
   ]
  },
  {
   "cell_type": "markdown",
   "id": "b955b922",
   "metadata": {},
   "source": [
    "### score_set_new"
   ]
  },
  {
   "cell_type": "code",
   "execution_count": null,
   "id": "dc2fb2d2",
   "metadata": {
    "execution": {
     "iopub.execute_input": "2022-02-14T17:07:42.462225Z",
     "iopub.status.busy": "2022-02-14T17:07:42.461422Z",
     "iopub.status.idle": "2022-02-14T17:07:42.606894Z",
     "shell.execute_reply": "2022-02-14T17:07:42.607337Z"
    }
   },
   "outputs": [],
   "source": [
    "OnePiece.feature_set_enrichment.score_set_new(fe_, sc_, fe1_)"
   ]
  },
  {
   "cell_type": "code",
   "execution_count": null,
   "id": "a6ac1e10",
   "metadata": {
    "execution": {
     "iopub.execute_input": "2022-02-14T17:07:42.610002Z",
     "iopub.status.busy": "2022-02-14T17:07:42.609325Z",
     "iopub.status.idle": "2022-02-14T17:07:43.666078Z",
     "shell.execute_reply": "2022-02-14T17:07:43.665532Z"
    }
   },
   "outputs": [],
   "source": [
    "OnePiece.feature_set_enrichment.score_set_new(fe_, sc_, se_fe_)"
   ]
  },
  {
   "cell_type": "markdown",
   "id": "94460707",
   "metadata": {},
   "source": [
    "## try_method"
   ]
  },
  {
   "cell_type": "code",
   "execution_count": null,
   "id": "2893cb57",
   "metadata": {
    "execution": {
     "iopub.execute_input": "2022-02-14T17:07:43.668401Z",
     "iopub.status.busy": "2022-02-14T17:07:43.667615Z",
     "iopub.status.idle": "2022-02-14T17:07:45.777396Z",
     "shell.execute_reply": "2022-02-14T17:07:45.776859Z"
    }
   },
   "outputs": [],
   "source": [
    "OnePiece.feature_set_enrichment.try_method(fe_, sc_, fe1_, plp = false)"
   ]
  },
  {
   "cell_type": "markdown",
   "id": "3f396855",
   "metadata": {},
   "source": [
    "---"
   ]
  },
  {
   "cell_type": "code",
   "execution_count": null,
   "id": "b4af2023",
   "metadata": {
    "execution": {
     "iopub.execute_input": "2022-02-14T17:07:45.779730Z",
     "iopub.status.busy": "2022-02-14T17:07:45.779057Z",
     "iopub.status.idle": "2022-02-14T17:07:45.782104Z",
     "shell.execute_reply": "2022-02-14T17:07:45.781606Z"
    }
   },
   "outputs": [],
   "source": [
    "if isdir(TE)\n",
    "\n",
    "    rm(TE, recursive = true)\n",
    "\n",
    "    println(\"Removed \", TE, \".\")\n",
    "\n",
    "end"
   ]
  }
 ],
 "metadata": {
  "kernelspec": {
   "display_name": "Julia 1.7.2",
   "language": "julia",
   "name": "julia-1.7"
  },
  "language_info": {
   "file_extension": ".jl",
   "mimetype": "application/julia",
   "name": "julia",
   "version": "1.7.2"
  }
 },
 "nbformat": 4,
 "nbformat_minor": 5
}
