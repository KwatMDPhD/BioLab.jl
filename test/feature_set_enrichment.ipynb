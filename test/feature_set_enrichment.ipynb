{
 "cells": [
  {
   "cell_type": "code",
   "execution_count": null,
   "id": "017464da",
   "metadata": {},
   "outputs": [],
   "source": [
    "TE = joinpath(tempdir(), \"OnePiece.test\")\n",
    "\n",
    "mkpath(TE)"
   ]
  },
  {
   "cell_type": "code",
   "execution_count": null,
   "id": "34e4701e",
   "metadata": {
    "execution": {
     "iopub.execute_input": "2022-02-10T17:51:23.590384Z",
     "iopub.status.busy": "2022-02-10T17:51:23.250154Z",
     "iopub.status.idle": "2022-02-10T17:51:24.482021Z",
     "shell.execute_reply": "2022-02-10T17:51:24.481306Z"
    }
   },
   "outputs": [],
   "source": [
    "using Revise\n",
    "using OnePiece"
   ]
  },
  {
   "cell_type": "markdown",
   "id": "b92a3da9",
   "metadata": {},
   "source": [
    "---"
   ]
  },
  {
   "cell_type": "code",
   "execution_count": null,
   "id": "deeff91c",
   "metadata": {},
   "outputs": [],
   "source": [
    "using BenchmarkTools"
   ]
  },
  {
   "cell_type": "markdown",
   "id": "ccdb8b26",
   "metadata": {},
   "source": [
    "## get_probability_and_cumulate"
   ]
  },
  {
   "cell_type": "code",
   "execution_count": null,
   "id": "1ba5422d",
   "metadata": {
    "execution": {
     "iopub.execute_input": "2022-02-10T19:30:51.137160Z",
     "iopub.status.busy": "2022-02-10T19:30:50.673513Z",
     "iopub.status.idle": "2022-02-10T19:30:51.838716Z",
     "shell.execute_reply": "2022-02-10T19:30:51.838271Z"
    }
   },
   "outputs": [],
   "source": [
    "ve = [1, 4]\n",
    "\n",
    "OnePiece.feature_set_enrichment.get_probability_and_cumulate(ve)"
   ]
  },
  {
   "cell_type": "markdown",
   "id": "f009ac6a",
   "metadata": {},
   "source": [
    "## sum_1_absolute_and_0_count"
   ]
  },
  {
   "cell_type": "code",
   "execution_count": null,
   "id": "6ea9fb15",
   "metadata": {
    "execution": {
     "iopub.execute_input": "2022-02-10T19:30:51.840504Z",
     "iopub.status.busy": "2022-02-10T19:30:51.839934Z",
     "iopub.status.idle": "2022-02-10T19:30:53.870368Z",
     "shell.execute_reply": "2022-02-10T19:30:53.869910Z"
    }
   },
   "outputs": [],
   "source": [
    "ve = [-2.0, -1, 0, 1, 2]\n",
    "\n",
    "in_ = convert(Vector{Bool}, [1, 1, 0, 0, 1])\n",
    "\n",
    "@btime OnePiece.feature_set_enrichment.sum_1_absolute_and_0_count(ve, in_)"
   ]
  },
  {
   "cell_type": "markdown",
   "id": "8a6e1061",
   "metadata": {},
   "source": [
    "## make_benchmark"
   ]
  },
  {
   "cell_type": "code",
   "execution_count": null,
   "id": "4c20ec75",
   "metadata": {
    "execution": {
     "iopub.execute_input": "2022-02-10T19:30:53.872316Z",
     "iopub.status.busy": "2022-02-10T19:30:53.871724Z",
     "iopub.status.idle": "2022-02-10T19:31:02.821823Z",
     "shell.execute_reply": "2022-02-10T19:31:02.821372Z"
    }
   },
   "outputs": [],
   "source": [
    "try\n",
    "\n",
    "    OnePiece.feature_set_enrichment.make_benchmark(\"card 12K\")\n",
    "\n",
    "catch er\n",
    "\n",
    "    er\n",
    "\n",
    "end"
   ]
  },
  {
   "cell_type": "code",
   "execution_count": null,
   "id": "68aeeb9b",
   "metadata": {
    "execution": {
     "iopub.execute_input": "2022-02-10T19:31:02.823690Z",
     "iopub.status.busy": "2022-02-10T19:31:02.823118Z",
     "iopub.status.idle": "2022-02-10T19:31:03.214906Z",
     "shell.execute_reply": "2022-02-10T19:31:03.214353Z"
    }
   },
   "outputs": [],
   "source": [
    "OnePiece.feature_set_enrichment.make_benchmark(\"card A2K\")"
   ]
  },
  {
   "cell_type": "code",
   "execution_count": null,
   "id": "a93d4ce0",
   "metadata": {
    "execution": {
     "iopub.execute_input": "2022-02-10T19:31:03.217036Z",
     "iopub.status.busy": "2022-02-10T19:31:03.216366Z",
     "iopub.status.idle": "2022-02-10T19:31:03.597688Z",
     "shell.execute_reply": "2022-02-10T19:31:03.597242Z"
    }
   },
   "outputs": [],
   "source": [
    "OnePiece.feature_set_enrichment.make_benchmark(\"random 3 2\")"
   ]
  },
  {
   "cell_type": "code",
   "execution_count": null,
   "id": "a0f3bce7",
   "metadata": {
    "execution": {
     "iopub.execute_input": "2022-02-10T19:31:03.599830Z",
     "iopub.status.busy": "2022-02-10T19:31:03.599133Z",
     "iopub.status.idle": "2022-02-10T19:31:03.601796Z",
     "shell.execute_reply": "2022-02-10T19:31:03.601333Z"
    }
   },
   "outputs": [],
   "source": [
    "OnePiece.feature_set_enrichment.make_benchmark(\"random 4 2\")"
   ]
  },
  {
   "cell_type": "code",
   "execution_count": null,
   "id": "86bfbc58",
   "metadata": {
    "execution": {
     "iopub.execute_input": "2022-02-10T19:31:03.603627Z",
     "iopub.status.busy": "2022-02-10T19:31:03.603050Z",
     "iopub.status.idle": "2022-02-10T19:31:18.369867Z",
     "shell.execute_reply": "2022-02-10T19:31:18.369430Z"
    }
   },
   "outputs": [],
   "source": [
    "fe_, sc_, fe1_ = OnePiece.feature_set_enrichment.make_benchmark(\"myc\")\n",
    "\n",
    "println(length(fe_))\n",
    "\n",
    "println(length(sc_))\n",
    "\n",
    "println(length(fe1_))"
   ]
  },
  {
   "cell_type": "markdown",
   "id": "337971f7",
   "metadata": {},
   "source": [
    "## plot_mountain"
   ]
  },
  {
   "cell_type": "code",
   "execution_count": null,
   "id": "e74b541b",
   "metadata": {
    "execution": {
     "iopub.execute_input": "2022-02-10T19:31:18.371794Z",
     "iopub.status.busy": "2022-02-10T19:31:18.371217Z",
     "iopub.status.idle": "2022-02-10T19:31:18.372464Z",
     "shell.execute_reply": "2022-02-10T19:31:18.372866Z"
    }
   },
   "outputs": [],
   "source": [
    "fe_, sc_, fe1_ = OnePiece.feature_set_enrichment.make_benchmark(\"card AK\")\n",
    "\n",
    ";"
   ]
  },
  {
   "cell_type": "code",
   "execution_count": null,
   "id": "517bc174",
   "metadata": {
    "execution": {
     "iopub.execute_input": "2022-02-10T19:31:18.374565Z",
     "iopub.status.busy": "2022-02-10T19:31:18.373997Z",
     "iopub.status.idle": "2022-02-10T19:31:21.444744Z",
     "shell.execute_reply": "2022-02-10T19:31:21.444296Z"
    }
   },
   "outputs": [],
   "source": [
    "OnePiece.feature_set_enrichment.score_set(fe_, sc_, fe1_, si = false)"
   ]
  },
  {
   "cell_type": "code",
   "execution_count": null,
   "id": "7a2a9a37",
   "metadata": {
    "execution": {
     "iopub.execute_input": "2022-02-10T19:31:21.446645Z",
     "iopub.status.busy": "2022-02-10T19:31:21.445994Z",
     "iopub.status.idle": "2022-02-10T19:31:22.607207Z",
     "shell.execute_reply": "2022-02-10T19:31:22.606665Z"
    }
   },
   "outputs": [],
   "source": [
    "OnePiece.feature_set_enrichment.score_set_new(fe_, sc_, fe1_)"
   ]
  },
  {
   "cell_type": "markdown",
   "id": "e6056ac2",
   "metadata": {},
   "source": [
    "## score_set"
   ]
  },
  {
   "cell_type": "code",
   "execution_count": null,
   "id": "ee5aff03",
   "metadata": {
    "execution": {
     "iopub.execute_input": "2022-02-10T19:31:22.609672Z",
     "iopub.status.busy": "2022-02-10T19:31:22.609085Z",
     "iopub.status.idle": "2022-02-10T19:31:22.701026Z",
     "shell.execute_reply": "2022-02-10T19:31:22.700509Z"
    }
   },
   "outputs": [],
   "source": [
    "fe_, sc_, fe1_ = OnePiece.feature_set_enrichment.make_benchmark(\"myc\")\n",
    "\n",
    "in_ = OnePiece.extension.vector.is_in(fe_, fe1_)\n",
    "\n",
    ";"
   ]
  },
  {
   "cell_type": "markdown",
   "id": "b05aefbe",
   "metadata": {},
   "source": [
    "## score_set (1 1)"
   ]
  },
  {
   "cell_type": "code",
   "execution_count": null,
   "id": "51ade553",
   "metadata": {
    "execution": {
     "iopub.execute_input": "2022-02-10T19:31:22.702937Z",
     "iopub.status.busy": "2022-02-10T19:31:22.702357Z",
     "iopub.status.idle": "2022-02-10T19:31:34.759134Z",
     "shell.execute_reply": "2022-02-10T19:31:34.758689Z"
    }
   },
   "outputs": [],
   "source": [
    "@btime OnePiece.extension.vector.is_in(fe_, fe1_)"
   ]
  },
  {
   "cell_type": "code",
   "execution_count": null,
   "id": "f1d3072c",
   "metadata": {
    "execution": {
     "iopub.execute_input": "2022-02-10T19:31:34.760921Z",
     "iopub.status.busy": "2022-02-10T19:31:34.760346Z",
     "iopub.status.idle": "2022-02-10T19:31:41.788602Z",
     "shell.execute_reply": "2022-02-10T19:31:41.788086Z"
    }
   },
   "outputs": [],
   "source": [
    "@btime OnePiece.feature_set_enrichment.score_set(fe_, sc_, fe1_, in_; pl = false)"
   ]
  },
  {
   "cell_type": "code",
   "execution_count": null,
   "id": "db503e6d",
   "metadata": {
    "execution": {
     "iopub.execute_input": "2022-02-10T19:31:41.790494Z",
     "iopub.status.busy": "2022-02-10T19:31:41.789902Z",
     "iopub.status.idle": "2022-02-10T19:31:52.711530Z",
     "shell.execute_reply": "2022-02-10T19:31:52.711023Z"
    }
   },
   "outputs": [],
   "source": [
    "@btime OnePiece.feature_set_enrichment.score_set(fe_, sc_, fe1_; pl = false)"
   ]
  },
  {
   "cell_type": "code",
   "execution_count": null,
   "id": "d0b57976",
   "metadata": {
    "execution": {
     "iopub.execute_input": "2022-02-10T19:31:52.713403Z",
     "iopub.status.busy": "2022-02-10T19:31:52.712828Z",
     "iopub.status.idle": "2022-02-10T19:31:52.744039Z",
     "shell.execute_reply": "2022-02-10T19:31:52.743515Z"
    }
   },
   "outputs": [],
   "source": [
    "OnePiece.feature_set_enrichment.score_set(fe_, sc_, fe1_)"
   ]
  },
  {
   "cell_type": "markdown",
   "id": "b955b922",
   "metadata": {},
   "source": [
    "## score_set_new (1 1)"
   ]
  },
  {
   "cell_type": "code",
   "execution_count": null,
   "id": "fa48624f",
   "metadata": {
    "execution": {
     "iopub.execute_input": "2022-02-10T19:31:52.746031Z",
     "iopub.status.busy": "2022-02-10T19:31:52.745459Z",
     "iopub.status.idle": "2022-02-10T19:32:03.821761Z",
     "shell.execute_reply": "2022-02-10T19:32:03.821282Z"
    }
   },
   "outputs": [],
   "source": [
    "@btime OnePiece.feature_set_enrichment.score_set_new(fe_, sc_, fe1_; pl = false)"
   ]
  },
  {
   "cell_type": "code",
   "execution_count": null,
   "id": "dc2fb2d2",
   "metadata": {
    "execution": {
     "iopub.execute_input": "2022-02-10T19:32:03.823748Z",
     "iopub.status.busy": "2022-02-10T19:32:03.823044Z",
     "iopub.status.idle": "2022-02-10T19:32:03.850245Z",
     "shell.execute_reply": "2022-02-10T19:32:03.849660Z"
    }
   },
   "outputs": [],
   "source": [
    "OnePiece.feature_set_enrichment.score_set_new(fe_, sc_, fe1_)"
   ]
  },
  {
   "cell_type": "markdown",
   "id": "f7052fba",
   "metadata": {},
   "source": [
    "## score_set (? n)"
   ]
  },
  {
   "cell_type": "code",
   "execution_count": null,
   "id": "3d4df309",
   "metadata": {
    "execution": {
     "iopub.execute_input": "2022-02-10T19:32:03.852331Z",
     "iopub.status.busy": "2022-02-10T19:32:03.851746Z",
     "iopub.status.idle": "2022-02-10T19:32:03.869765Z",
     "shell.execute_reply": "2022-02-10T19:32:03.869313Z"
    }
   },
   "outputs": [],
   "source": [
    "se_fe_ = OnePiece.io.gmt.read(\n",
    "    joinpath(@__DIR__, \"feature_set_enrichment.data\", \"h.all.v7.1.symbols.gmt\"),\n",
    ")\n",
    "\n",
    ";"
   ]
  },
  {
   "cell_type": "markdown",
   "id": "4766e9c6",
   "metadata": {},
   "source": [
    "## score_set (1 n)"
   ]
  },
  {
   "cell_type": "code",
   "execution_count": null,
   "id": "1679bed5",
   "metadata": {
    "execution": {
     "iopub.execute_input": "2022-02-10T19:32:03.871804Z",
     "iopub.status.busy": "2022-02-10T19:32:03.871150Z",
     "iopub.status.idle": "2022-02-10T19:32:16.255197Z",
     "shell.execute_reply": "2022-02-10T19:32:16.254734Z"
    }
   },
   "outputs": [],
   "source": [
    "@btime OnePiece.feature_set_enrichment.score_set(fe_, sc_, se_fe_)"
   ]
  },
  {
   "cell_type": "markdown",
   "id": "d18c90c2",
   "metadata": {},
   "source": [
    "## score_set_new (1 n)"
   ]
  },
  {
   "cell_type": "code",
   "execution_count": null,
   "id": "a6ac1e10",
   "metadata": {
    "execution": {
     "iopub.execute_input": "2022-02-10T19:32:16.257443Z",
     "iopub.status.busy": "2022-02-10T19:32:16.256895Z",
     "iopub.status.idle": "2022-02-10T19:32:28.498998Z",
     "shell.execute_reply": "2022-02-10T19:32:28.498608Z"
    }
   },
   "outputs": [],
   "source": [
    "@btime OnePiece.feature_set_enrichment.score_set_new(fe_, sc_, se_fe_)"
   ]
  },
  {
   "cell_type": "markdown",
   "id": "73665aeb",
   "metadata": {},
   "source": [
    "## score_set (n n)"
   ]
  },
  {
   "cell_type": "code",
   "execution_count": null,
   "id": "1dfc4b4f",
   "metadata": {
    "execution": {
     "iopub.execute_input": "2022-02-10T19:32:28.502290Z",
     "iopub.status.busy": "2022-02-10T19:32:28.500990Z",
     "iopub.status.idle": "2022-02-10T19:32:28.503303Z",
     "shell.execute_reply": "2022-02-10T19:32:28.502777Z"
    }
   },
   "outputs": [],
   "source": [
    "using DataFrames"
   ]
  },
  {
   "cell_type": "code",
   "execution_count": null,
   "id": "d1dae9b2",
   "metadata": {
    "execution": {
     "iopub.execute_input": "2022-02-10T19:32:28.505343Z",
     "iopub.status.busy": "2022-02-10T19:32:28.504769Z",
     "iopub.status.idle": "2022-02-10T19:32:43.957644Z",
     "shell.execute_reply": "2022-02-10T19:32:43.956309Z"
    }
   },
   "outputs": [],
   "source": [
    "sc_fe_sa = DataFrame(\n",
    "    \"Feature\" => fe_,\n",
    "    \"Score\" => sc_,\n",
    "    \"Score x 10\" => sc_ * 10,\n",
    "    \"Constant\" => fill(0.8, length(fe_)),\n",
    ")\n",
    "\n",
    "@btime OnePiece.feature_set_enrichment.score_set(sc_fe_sa, se_fe_; n_jo = 1)"
   ]
  },
  {
   "cell_type": "markdown",
   "id": "94460707",
   "metadata": {},
   "source": [
    "## try_method"
   ]
  },
  {
   "cell_type": "code",
   "execution_count": null,
   "id": "2893cb57",
   "metadata": {
    "execution": {
     "iopub.execute_input": "2022-02-10T19:32:43.959607Z",
     "iopub.status.busy": "2022-02-10T19:32:43.959037Z",
     "iopub.status.idle": "2022-02-10T19:32:45.717674Z",
     "shell.execute_reply": "2022-02-10T19:32:45.717138Z"
    }
   },
   "outputs": [],
   "source": [
    "OnePiece.feature_set_enrichment.try_method(fe_, sc_, fe1_; plp = false)"
   ]
  },
  {
   "cell_type": "markdown",
   "id": "3f396855",
   "metadata": {},
   "source": [
    "---"
   ]
  },
  {
   "cell_type": "code",
   "execution_count": null,
   "id": "b4af2023",
   "metadata": {},
   "outputs": [],
   "source": [
    "rm(TE; recursive = true)"
   ]
  }
 ],
 "metadata": {
  "@webio": {
   "lastCommId": null,
   "lastKernelId": null
  },
  "kernelspec": {
   "display_name": "Julia 1.7.2",
   "language": "julia",
   "name": "julia-1.7"
  },
  "language_info": {
   "file_extension": ".jl",
   "mimetype": "application/julia",
   "name": "julia",
   "version": "1.7.2"
  }
 },
 "nbformat": 4,
 "nbformat_minor": 5
}
