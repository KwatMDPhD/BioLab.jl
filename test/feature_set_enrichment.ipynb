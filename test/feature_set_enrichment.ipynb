{
 "cells": [
  {
   "cell_type": "code",
   "execution_count": null,
   "id": "34e4701e",
   "metadata": {
    "execution": {
     "iopub.execute_input": "2022-02-09T22:50:21.639934Z",
     "iopub.status.busy": "2022-02-09T22:50:21.250894Z",
     "iopub.status.idle": "2022-02-09T22:50:22.594931Z",
     "shell.execute_reply": "2022-02-09T22:50:22.594346Z"
    }
   },
   "outputs": [],
   "source": [
    "using Revise\n",
    "using BenchmarkTools"
   ]
  },
  {
   "cell_type": "code",
   "execution_count": null,
   "id": "e0b39736",
   "metadata": {
    "execution": {
     "iopub.execute_input": "2022-02-09T22:50:22.596905Z",
     "iopub.status.busy": "2022-02-09T22:50:22.596320Z",
     "iopub.status.idle": "2022-02-09T22:50:32.526508Z",
     "shell.execute_reply": "2022-02-09T22:50:32.525878Z"
    }
   },
   "outputs": [],
   "source": [
    "using DataFrames\n",
    "\n",
    "using OnePiece"
   ]
  },
  {
   "cell_type": "markdown",
   "id": "ccdb8b26",
   "metadata": {},
   "source": [
    "## get_probability_and_cumulate"
   ]
  },
  {
   "cell_type": "code",
   "execution_count": null,
   "id": "1ba5422d",
   "metadata": {
    "execution": {
     "iopub.execute_input": "2022-02-09T22:50:34.114401Z",
     "iopub.status.busy": "2022-02-09T22:50:32.527947Z",
     "iopub.status.idle": "2022-02-09T22:50:35.280656Z",
     "shell.execute_reply": "2022-02-09T22:50:35.280259Z"
    }
   },
   "outputs": [],
   "source": [
    "ve = [1, 4]\n",
    "\n",
    "OnePiece.feature_set_enrichment.get_probability_and_cumulate(ve)"
   ]
  },
  {
   "cell_type": "markdown",
   "id": "f009ac6a",
   "metadata": {},
   "source": [
    "## sum_1_absolute_and_0_count"
   ]
  },
  {
   "cell_type": "code",
   "execution_count": null,
   "id": "6ea9fb15",
   "metadata": {
    "execution": {
     "iopub.execute_input": "2022-02-09T22:50:35.282999Z",
     "iopub.status.busy": "2022-02-09T22:50:35.282475Z",
     "iopub.status.idle": "2022-02-09T22:50:37.703957Z",
     "shell.execute_reply": "2022-02-09T22:50:37.703430Z"
    }
   },
   "outputs": [],
   "source": [
    "ve = [-2.0, -1, 0, 1, 2]\n",
    "\n",
    "in_ = convert(Vector{Bool}, [1, 1, 0, 0, 1])\n",
    "\n",
    "@btime OnePiece.feature_set_enrichment.sum_1_absolute_and_0_count(ve, in_)"
   ]
  },
  {
   "cell_type": "markdown",
   "id": "8a6e1061",
   "metadata": {},
   "source": [
    "## make_benchmark"
   ]
  },
  {
   "cell_type": "code",
   "execution_count": null,
   "id": "4c20ec75",
   "metadata": {
    "execution": {
     "iopub.execute_input": "2022-02-09T22:50:37.706091Z",
     "iopub.status.busy": "2022-02-09T22:50:37.705399Z",
     "iopub.status.idle": "2022-02-09T22:50:45.987824Z",
     "shell.execute_reply": "2022-02-09T22:50:45.987439Z"
    }
   },
   "outputs": [],
   "source": [
    "try\n",
    "\n",
    "    OnePiece.feature_set_enrichment.make_benchmark(\"card 12K\")\n",
    "\n",
    "catch er\n",
    "\n",
    "    er\n",
    "\n",
    "end"
   ]
  },
  {
   "cell_type": "code",
   "execution_count": null,
   "id": "68aeeb9b",
   "metadata": {
    "execution": {
     "iopub.execute_input": "2022-02-09T22:50:45.989624Z",
     "iopub.status.busy": "2022-02-09T22:50:45.989101Z",
     "iopub.status.idle": "2022-02-09T22:50:46.397870Z",
     "shell.execute_reply": "2022-02-09T22:50:46.397450Z"
    }
   },
   "outputs": [],
   "source": [
    "OnePiece.feature_set_enrichment.make_benchmark(\"card A2K\")"
   ]
  },
  {
   "cell_type": "code",
   "execution_count": null,
   "id": "a93d4ce0",
   "metadata": {
    "execution": {
     "iopub.execute_input": "2022-02-09T22:50:46.399968Z",
     "iopub.status.busy": "2022-02-09T22:50:46.399341Z",
     "iopub.status.idle": "2022-02-09T22:50:46.796837Z",
     "shell.execute_reply": "2022-02-09T22:50:46.796373Z"
    }
   },
   "outputs": [],
   "source": [
    "OnePiece.feature_set_enrichment.make_benchmark(\"random 3 2\")"
   ]
  },
  {
   "cell_type": "code",
   "execution_count": null,
   "id": "a0f3bce7",
   "metadata": {
    "execution": {
     "iopub.execute_input": "2022-02-09T22:50:46.799819Z",
     "iopub.status.busy": "2022-02-09T22:50:46.798831Z",
     "iopub.status.idle": "2022-02-09T22:50:46.812357Z",
     "shell.execute_reply": "2022-02-09T22:50:46.811914Z"
    }
   },
   "outputs": [],
   "source": [
    "OnePiece.feature_set_enrichment.make_benchmark(\"random 4 2\")"
   ]
  },
  {
   "cell_type": "code",
   "execution_count": null,
   "id": "86bfbc58",
   "metadata": {
    "execution": {
     "iopub.execute_input": "2022-02-09T22:50:46.814288Z",
     "iopub.status.busy": "2022-02-09T22:50:46.813583Z",
     "iopub.status.idle": "2022-02-09T22:51:00.091527Z",
     "shell.execute_reply": "2022-02-09T22:51:00.091059Z"
    }
   },
   "outputs": [],
   "source": [
    "fe_, sc_, fe1_ = OnePiece.feature_set_enrichment.make_benchmark(\"myc\")\n",
    "\n",
    "println(length(fe_))\n",
    "\n",
    "println(length(sc_))\n",
    "\n",
    "println(length(fe1_))"
   ]
  },
  {
   "cell_type": "markdown",
   "id": "337971f7",
   "metadata": {},
   "source": [
    "## plot_mountain"
   ]
  },
  {
   "cell_type": "code",
   "execution_count": null,
   "id": "e74b541b",
   "metadata": {
    "execution": {
     "iopub.execute_input": "2022-02-09T22:51:00.093781Z",
     "iopub.status.busy": "2022-02-09T22:51:00.093038Z",
     "iopub.status.idle": "2022-02-09T22:51:00.105761Z",
     "shell.execute_reply": "2022-02-09T22:51:00.105266Z"
    }
   },
   "outputs": [],
   "source": [
    "fe_, sc_, fe1_ = OnePiece.feature_set_enrichment.make_benchmark(\"card AK\")\n",
    "\n",
    ";"
   ]
  },
  {
   "cell_type": "code",
   "execution_count": null,
   "id": "517bc174",
   "metadata": {
    "execution": {
     "iopub.execute_input": "2022-02-09T22:51:00.107456Z",
     "iopub.status.busy": "2022-02-09T22:51:00.106892Z",
     "iopub.status.idle": "2022-02-09T22:51:08.427586Z",
     "shell.execute_reply": "2022-02-09T22:51:08.427206Z"
    }
   },
   "outputs": [],
   "source": [
    "OnePiece.feature_set_enrichment.score_set(fe_, sc_, fe1_; si = false)"
   ]
  },
  {
   "cell_type": "code",
   "execution_count": null,
   "id": "7a2a9a37",
   "metadata": {
    "execution": {
     "iopub.execute_input": "2022-02-09T22:51:08.429335Z",
     "iopub.status.busy": "2022-02-09T22:51:08.428842Z",
     "iopub.status.idle": "2022-02-09T22:51:09.244314Z",
     "shell.execute_reply": "2022-02-09T22:51:09.243850Z"
    }
   },
   "outputs": [],
   "source": [
    "OnePiece.feature_set_enrichment.score_set_new(fe_, sc_, fe1_)"
   ]
  },
  {
   "cell_type": "markdown",
   "id": "e6056ac2",
   "metadata": {},
   "source": [
    "## score_set"
   ]
  },
  {
   "cell_type": "code",
   "execution_count": null,
   "id": "ee5aff03",
   "metadata": {
    "execution": {
     "iopub.execute_input": "2022-02-09T22:51:09.246296Z",
     "iopub.status.busy": "2022-02-09T22:51:09.245725Z",
     "iopub.status.idle": "2022-02-09T22:51:09.348232Z",
     "shell.execute_reply": "2022-02-09T22:51:09.347782Z"
    }
   },
   "outputs": [],
   "source": [
    "fe_, sc_, fe1_ = OnePiece.feature_set_enrichment.make_benchmark(\"myc\")\n",
    "\n",
    "in_ = OnePiece.extension.vector.is_in(fe_, fe1_)\n",
    "\n",
    ";"
   ]
  },
  {
   "cell_type": "markdown",
   "id": "b05aefbe",
   "metadata": {},
   "source": [
    "## score_set (1 1)"
   ]
  },
  {
   "cell_type": "code",
   "execution_count": null,
   "id": "51ade553",
   "metadata": {
    "execution": {
     "iopub.execute_input": "2022-02-09T22:51:09.350264Z",
     "iopub.status.busy": "2022-02-09T22:51:09.349657Z",
     "iopub.status.idle": "2022-02-09T22:51:21.566185Z",
     "shell.execute_reply": "2022-02-09T22:51:21.565800Z"
    }
   },
   "outputs": [],
   "source": [
    "@btime OnePiece.extension.vector.is_in(fe_, fe1_)"
   ]
  },
  {
   "cell_type": "code",
   "execution_count": null,
   "id": "f1d3072c",
   "metadata": {
    "execution": {
     "iopub.execute_input": "2022-02-09T22:51:21.568117Z",
     "iopub.status.busy": "2022-02-09T22:51:21.567557Z",
     "iopub.status.idle": "2022-02-09T22:51:28.820713Z",
     "shell.execute_reply": "2022-02-09T22:51:28.820331Z"
    }
   },
   "outputs": [],
   "source": [
    "@btime OnePiece.feature_set_enrichment.score_set(fe_, sc_, fe1_, in_; pl = false)"
   ]
  },
  {
   "cell_type": "code",
   "execution_count": null,
   "id": "db503e6d",
   "metadata": {
    "execution": {
     "iopub.execute_input": "2022-02-09T22:51:28.822914Z",
     "iopub.status.busy": "2022-02-09T22:51:28.822337Z",
     "iopub.status.idle": "2022-02-09T22:51:40.079638Z",
     "shell.execute_reply": "2022-02-09T22:51:40.079190Z"
    }
   },
   "outputs": [],
   "source": [
    "@btime OnePiece.feature_set_enrichment.score_set(fe_, sc_, fe1_; pl = false)"
   ]
  },
  {
   "cell_type": "code",
   "execution_count": null,
   "id": "d0b57976",
   "metadata": {
    "execution": {
     "iopub.execute_input": "2022-02-09T22:51:40.081574Z",
     "iopub.status.busy": "2022-02-09T22:51:40.081055Z",
     "iopub.status.idle": "2022-02-09T22:51:40.403620Z",
     "shell.execute_reply": "2022-02-09T22:51:40.325094Z"
    }
   },
   "outputs": [],
   "source": [
    "OnePiece.feature_set_enrichment.score_set(fe_, sc_, fe1_)"
   ]
  },
  {
   "cell_type": "markdown",
   "id": "b955b922",
   "metadata": {},
   "source": [
    "## score_set_new (1 1)"
   ]
  },
  {
   "cell_type": "code",
   "execution_count": null,
   "id": "fa48624f",
   "metadata": {
    "execution": {
     "iopub.execute_input": "2022-02-09T22:51:40.405897Z",
     "iopub.status.busy": "2022-02-09T22:51:40.405305Z",
     "iopub.status.idle": "2022-02-09T22:51:51.861197Z",
     "shell.execute_reply": "2022-02-09T22:51:51.860733Z"
    }
   },
   "outputs": [],
   "source": [
    "@btime OnePiece.feature_set_enrichment.score_set_new(fe_, sc_, fe1_; pl = false)"
   ]
  },
  {
   "cell_type": "code",
   "execution_count": null,
   "id": "dc2fb2d2",
   "metadata": {
    "execution": {
     "iopub.execute_input": "2022-02-09T22:51:51.863023Z",
     "iopub.status.busy": "2022-02-09T22:51:51.862444Z",
     "iopub.status.idle": "2022-02-09T22:51:52.186631Z",
     "shell.execute_reply": "2022-02-09T22:51:52.111687Z"
    }
   },
   "outputs": [],
   "source": [
    "OnePiece.feature_set_enrichment.score_set_new(fe_, sc_, fe1_)"
   ]
  },
  {
   "cell_type": "markdown",
   "id": "f7052fba",
   "metadata": {},
   "source": [
    "## score_set (? n)"
   ]
  },
  {
   "cell_type": "code",
   "execution_count": null,
   "id": "3d4df309",
   "metadata": {
    "execution": {
     "iopub.execute_input": "2022-02-09T22:51:52.188761Z",
     "iopub.status.busy": "2022-02-09T22:51:52.188202Z",
     "iopub.status.idle": "2022-02-09T22:51:52.201754Z",
     "shell.execute_reply": "2022-02-09T22:51:52.201220Z"
    }
   },
   "outputs": [],
   "source": [
    "se_fe_ = OnePiece.io.gmt.read(\n",
    "    joinpath(@__DIR__, \"feature_set_enrichment.data\", \"h.all.v7.1.symbols.gmt\"),\n",
    ")\n",
    "\n",
    ";"
   ]
  },
  {
   "cell_type": "markdown",
   "id": "4766e9c6",
   "metadata": {},
   "source": [
    "## score_set (1 n)"
   ]
  },
  {
   "cell_type": "code",
   "execution_count": null,
   "id": "1679bed5",
   "metadata": {
    "execution": {
     "iopub.execute_input": "2022-02-09T22:51:52.203730Z",
     "iopub.status.busy": "2022-02-09T22:51:52.203141Z",
     "iopub.status.idle": "2022-02-09T22:52:04.908849Z",
     "shell.execute_reply": "2022-02-09T22:52:04.908376Z"
    }
   },
   "outputs": [],
   "source": [
    "@btime OnePiece.feature_set_enrichment.score_set(fe_, sc_, se_fe_)"
   ]
  },
  {
   "cell_type": "markdown",
   "id": "d18c90c2",
   "metadata": {},
   "source": [
    "## score_set_new (1 n)"
   ]
  },
  {
   "cell_type": "code",
   "execution_count": null,
   "id": "a6ac1e10",
   "metadata": {
    "execution": {
     "iopub.execute_input": "2022-02-09T22:52:04.910723Z",
     "iopub.status.busy": "2022-02-09T22:52:04.910222Z",
     "iopub.status.idle": "2022-02-09T22:52:18.056933Z",
     "shell.execute_reply": "2022-02-09T22:52:18.056411Z"
    }
   },
   "outputs": [],
   "source": [
    "@btime OnePiece.feature_set_enrichment.score_set_new(fe_, sc_, se_fe_)"
   ]
  },
  {
   "cell_type": "markdown",
   "id": "73665aeb",
   "metadata": {},
   "source": [
    "## score_set (n n)"
   ]
  },
  {
   "cell_type": "code",
   "execution_count": null,
   "id": "d1dae9b2",
   "metadata": {
    "execution": {
     "iopub.execute_input": "2022-02-09T22:52:18.058943Z",
     "iopub.status.busy": "2022-02-09T22:52:18.058349Z",
     "iopub.status.idle": "2022-02-09T22:52:33.571757Z",
     "shell.execute_reply": "2022-02-09T22:52:33.571348Z"
    }
   },
   "outputs": [],
   "source": [
    "sc_fe_sa = DataFrame(\n",
    "    \"Feature\" => fe_,\n",
    "    \"Score\" => sc_,\n",
    "    \"Score x 10\" => sc_ * 10,\n",
    "    \"Constant\" => fill(0.8, length(fe_)),\n",
    ")\n",
    "\n",
    "@btime OnePiece.feature_set_enrichment.score_set(sc_fe_sa, se_fe_; n_jo = 1)"
   ]
  },
  {
   "cell_type": "markdown",
   "id": "94460707",
   "metadata": {},
   "source": [
    "## try_method"
   ]
  },
  {
   "cell_type": "code",
   "execution_count": null,
   "id": "2893cb57",
   "metadata": {
    "execution": {
     "iopub.execute_input": "2022-02-09T22:52:33.573702Z",
     "iopub.status.busy": "2022-02-09T22:52:33.573155Z",
     "iopub.status.idle": "2022-02-09T22:52:36.270946Z",
     "shell.execute_reply": "2022-02-09T22:52:36.270553Z"
    }
   },
   "outputs": [],
   "source": [
    "OnePiece.feature_set_enrichment.try_method(fe_, sc_, fe1_; plp = false)"
   ]
  }
 ],
 "metadata": {
  "@webio": {
   "lastCommId": "5a921eb0f4c04e15b2b55486f2c40485",
   "lastKernelId": "6be6db44-0b8d-411c-afba-58c31e550920"
  },
  "kernelspec": {
   "display_name": "Julia 1.7.1",
   "language": "julia",
   "name": "julia-1.7"
  },
  "language_info": {
   "file_extension": ".jl",
   "mimetype": "application/julia",
   "name": "julia",
   "version": "1.7.2"
  }
 },
 "nbformat": 4,
 "nbformat_minor": 5
}
