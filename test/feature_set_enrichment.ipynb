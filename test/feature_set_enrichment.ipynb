{
 "cells": [
  {
   "cell_type": "code",
   "execution_count": null,
   "id": "017464da",
   "metadata": {
    "execution": {
     "iopub.execute_input": "2022-02-13T23:15:49.483337Z",
     "iopub.status.busy": "2022-02-13T23:15:49.153649Z",
     "iopub.status.idle": "2022-02-13T23:15:49.670281Z",
     "shell.execute_reply": "2022-02-13T23:15:49.669695Z"
    }
   },
   "outputs": [],
   "source": [
    "TE = joinpath(tempdir(), \"OnePiece.test\")\n",
    "\n",
    "if isdir(TE)\n",
    "\n",
    "    rm(TE, recursive = true)\n",
    "\n",
    "    println(\"Removed \", TE, \".\")\n",
    "\n",
    "end\n",
    "\n",
    "mkdir(TE)\n",
    "\n",
    "println(\"Made \", TE, \".\")"
   ]
  },
  {
   "cell_type": "code",
   "execution_count": null,
   "id": "34e4701e",
   "metadata": {
    "execution": {
     "iopub.execute_input": "2022-02-13T23:15:49.672274Z",
     "iopub.status.busy": "2022-02-13T23:15:49.671664Z",
     "iopub.status.idle": "2022-02-13T23:15:53.738933Z",
     "shell.execute_reply": "2022-02-13T23:15:53.738547Z"
    }
   },
   "outputs": [],
   "source": [
    "using OnePiece"
   ]
  },
  {
   "cell_type": "markdown",
   "id": "b92a3da9",
   "metadata": {},
   "source": [
    "---"
   ]
  },
  {
   "cell_type": "markdown",
   "id": "ccdb8b26",
   "metadata": {},
   "source": [
    "## get_probability_and_cumulate"
   ]
  },
  {
   "cell_type": "code",
   "execution_count": null,
   "id": "1ba5422d",
   "metadata": {
    "execution": {
     "iopub.execute_input": "2022-02-13T23:15:54.049771Z",
     "iopub.status.busy": "2022-02-13T23:15:53.740341Z",
     "iopub.status.idle": "2022-02-13T23:15:54.750569Z",
     "shell.execute_reply": "2022-02-13T23:15:54.750179Z"
    }
   },
   "outputs": [],
   "source": [
    "OnePiece.feature_set_enrichment.get_probability_and_cumulate([1, 4])"
   ]
  },
  {
   "cell_type": "markdown",
   "id": "f009ac6a",
   "metadata": {},
   "source": [
    "## sum_1_absolute_and_0_count"
   ]
  },
  {
   "cell_type": "code",
   "execution_count": null,
   "id": "6ea9fb15",
   "metadata": {
    "execution": {
     "iopub.execute_input": "2022-02-13T23:15:54.752455Z",
     "iopub.status.busy": "2022-02-13T23:15:54.751943Z",
     "iopub.status.idle": "2022-02-13T23:15:55.015235Z",
     "shell.execute_reply": "2022-02-13T23:15:55.014840Z"
    }
   },
   "outputs": [],
   "source": [
    "OnePiece.feature_set_enrichment.sum_1_absolute_and_0_count(\n",
    "    [-2.0, -1, 0, 1, 2],\n",
    "    convert(Vector{Bool}, [1, 1, 0, 0, 1]),\n",
    ")"
   ]
  },
  {
   "cell_type": "markdown",
   "id": "8a6e1061",
   "metadata": {},
   "source": [
    "## make_benchmark"
   ]
  },
  {
   "cell_type": "code",
   "execution_count": null,
   "id": "4c20ec75",
   "metadata": {
    "execution": {
     "iopub.execute_input": "2022-02-13T23:15:55.017241Z",
     "iopub.status.busy": "2022-02-13T23:15:55.016742Z",
     "iopub.status.idle": "2022-02-13T23:16:01.766471Z",
     "shell.execute_reply": "2022-02-13T23:16:01.766065Z"
    }
   },
   "outputs": [],
   "source": [
    "try\n",
    "\n",
    "    OnePiece.feature_set_enrichment.make_benchmark(\"card 12K\")\n",
    "\n",
    "catch er\n",
    "\n",
    "    er\n",
    "\n",
    "end"
   ]
  },
  {
   "cell_type": "code",
   "execution_count": null,
   "id": "68aeeb9b",
   "metadata": {
    "execution": {
     "iopub.execute_input": "2022-02-13T23:16:01.768642Z",
     "iopub.status.busy": "2022-02-13T23:16:01.767996Z",
     "iopub.status.idle": "2022-02-13T23:16:02.167384Z",
     "shell.execute_reply": "2022-02-13T23:16:02.166993Z"
    }
   },
   "outputs": [],
   "source": [
    "OnePiece.feature_set_enrichment.make_benchmark(\"card A2K\")"
   ]
  },
  {
   "cell_type": "code",
   "execution_count": null,
   "id": "a93d4ce0",
   "metadata": {
    "execution": {
     "iopub.execute_input": "2022-02-13T23:16:02.169226Z",
     "iopub.status.busy": "2022-02-13T23:16:02.168734Z",
     "iopub.status.idle": "2022-02-13T23:16:02.487231Z",
     "shell.execute_reply": "2022-02-13T23:16:02.486843Z"
    }
   },
   "outputs": [],
   "source": [
    "OnePiece.feature_set_enrichment.make_benchmark(\"random 3 2\")"
   ]
  },
  {
   "cell_type": "code",
   "execution_count": null,
   "id": "a0f3bce7",
   "metadata": {
    "execution": {
     "iopub.execute_input": "2022-02-13T23:16:02.489751Z",
     "iopub.status.busy": "2022-02-13T23:16:02.488632Z",
     "iopub.status.idle": "2022-02-13T23:16:02.491376Z",
     "shell.execute_reply": "2022-02-13T23:16:02.490256Z"
    }
   },
   "outputs": [],
   "source": [
    "OnePiece.feature_set_enrichment.make_benchmark(\"random 4 2\")"
   ]
  },
  {
   "cell_type": "code",
   "execution_count": null,
   "id": "86bfbc58",
   "metadata": {
    "execution": {
     "iopub.execute_input": "2022-02-13T23:16:02.493157Z",
     "iopub.status.busy": "2022-02-13T23:16:02.492679Z",
     "iopub.status.idle": "2022-02-13T23:16:14.043540Z",
     "shell.execute_reply": "2022-02-13T23:16:14.043090Z"
    }
   },
   "outputs": [],
   "source": [
    "fe_, sc_, fe1_ = OnePiece.feature_set_enrichment.make_benchmark(\"myc\")\n",
    "\n",
    "println(length(fe_))\n",
    "\n",
    "println(length(sc_))\n",
    "\n",
    "println(length(fe1_))"
   ]
  },
  {
   "cell_type": "markdown",
   "id": "337971f7",
   "metadata": {},
   "source": [
    "## plot_mountain"
   ]
  },
  {
   "cell_type": "code",
   "execution_count": null,
   "id": "e74b541b",
   "metadata": {
    "execution": {
     "iopub.execute_input": "2022-02-13T23:16:14.046043Z",
     "iopub.status.busy": "2022-02-13T23:16:14.044949Z",
     "iopub.status.idle": "2022-02-13T23:16:14.046934Z",
     "shell.execute_reply": "2022-02-13T23:16:14.047283Z"
    }
   },
   "outputs": [],
   "source": [
    "fe_, sc_, fe1_ = OnePiece.feature_set_enrichment.make_benchmark(\"card AK\")\n",
    "\n",
    ";"
   ]
  },
  {
   "cell_type": "code",
   "execution_count": null,
   "id": "58f279e2",
   "metadata": {
    "execution": {
     "iopub.execute_input": "2022-02-13T23:16:14.049045Z",
     "iopub.status.busy": "2022-02-13T23:16:14.048545Z",
     "iopub.status.idle": "2022-02-13T23:16:16.887721Z",
     "shell.execute_reply": "2022-02-13T23:16:16.887239Z"
    }
   },
   "outputs": [],
   "source": [
    "OnePiece.feature_set_enrichment.score_set(fe_, sc_, fe1_, ou = joinpath(TE, \"mountain.html\"))"
   ]
  },
  {
   "cell_type": "code",
   "execution_count": null,
   "id": "517bc174",
   "metadata": {
    "execution": {
     "iopub.execute_input": "2022-02-13T23:16:16.889721Z",
     "iopub.status.busy": "2022-02-13T23:16:16.889076Z",
     "iopub.status.idle": "2022-02-13T23:16:17.783939Z",
     "shell.execute_reply": "2022-02-13T23:16:17.783482Z"
    }
   },
   "outputs": [],
   "source": [
    "OnePiece.feature_set_enrichment.score_set_new(\n",
    "    fe_,\n",
    "    sc_,\n",
    "    fe1_,\n",
    "    ou = joinpath(TE, \"mountain_new.html\"),\n",
    ")"
   ]
  },
  {
   "cell_type": "markdown",
   "id": "b2ede5e5",
   "metadata": {},
   "source": [
    "## score_set*"
   ]
  },
  {
   "cell_type": "code",
   "execution_count": null,
   "id": "bfe544b8",
   "metadata": {
    "execution": {
     "iopub.execute_input": "2022-02-13T23:16:17.786195Z",
     "iopub.status.busy": "2022-02-13T23:16:17.785496Z",
     "iopub.status.idle": "2022-02-13T23:16:17.788509Z",
     "shell.execute_reply": "2022-02-13T23:16:17.787887Z"
    }
   },
   "outputs": [],
   "source": [
    "using DataFrames"
   ]
  },
  {
   "cell_type": "code",
   "execution_count": null,
   "id": "ee5aff03",
   "metadata": {
    "execution": {
     "iopub.execute_input": "2022-02-13T23:16:17.790337Z",
     "iopub.status.busy": "2022-02-13T23:16:17.789700Z",
     "iopub.status.idle": "2022-02-13T23:16:18.149369Z",
     "shell.execute_reply": "2022-02-13T23:16:18.148617Z"
    }
   },
   "outputs": [],
   "source": [
    "fe_, sc_, fe1_ = OnePiece.feature_set_enrichment.make_benchmark(\"myc\")\n",
    "\n",
    "in_ = OnePiece.extension.vector.is_in(fe_, fe1_)\n",
    "\n",
    "sc_fe_sa = DataFrame(\n",
    "    \"Feature\" => fe_,\n",
    "    \"Score\" => sc_,\n",
    "    \"Score x 10\" => sc_ * 10,\n",
    "    \"Constant\" => fill(0.8, length(fe_)),\n",
    ")\n",
    "\n",
    "se_fe_ = OnePiece.io.gmt.read(\n",
    "    joinpath(@__DIR__, \"feature_set_enrichment.data\", \"h.all.v7.1.symbols.gmt\"),\n",
    ")\n",
    "\n",
    ";"
   ]
  },
  {
   "cell_type": "markdown",
   "id": "b3cd3ef2",
   "metadata": {},
   "source": [
    "### score_set"
   ]
  },
  {
   "cell_type": "code",
   "execution_count": null,
   "id": "871350b7",
   "metadata": {
    "execution": {
     "iopub.execute_input": "2022-02-13T23:16:18.151545Z",
     "iopub.status.busy": "2022-02-13T23:16:18.150857Z",
     "iopub.status.idle": "2022-02-13T23:16:18.213405Z",
     "shell.execute_reply": "2022-02-13T23:16:18.212605Z"
    }
   },
   "outputs": [],
   "source": [
    "OnePiece.feature_set_enrichment.score_set(fe_, sc_, fe1_, in_)"
   ]
  },
  {
   "cell_type": "code",
   "execution_count": null,
   "id": "f1d3072c",
   "metadata": {
    "execution": {
     "iopub.execute_input": "2022-02-13T23:16:18.216533Z",
     "iopub.status.busy": "2022-02-13T23:16:18.215820Z",
     "iopub.status.idle": "2022-02-13T23:16:18.284484Z",
     "shell.execute_reply": "2022-02-13T23:16:18.283777Z"
    }
   },
   "outputs": [],
   "source": [
    "OnePiece.feature_set_enrichment.score_set(fe_, sc_, fe1_)"
   ]
  },
  {
   "cell_type": "code",
   "execution_count": null,
   "id": "3e380333",
   "metadata": {
    "execution": {
     "iopub.execute_input": "2022-02-13T23:16:18.288198Z",
     "iopub.status.busy": "2022-02-13T23:16:18.287232Z",
     "iopub.status.idle": "2022-02-13T23:16:19.926073Z",
     "shell.execute_reply": "2022-02-13T23:16:19.925691Z"
    }
   },
   "outputs": [],
   "source": [
    "OnePiece.feature_set_enrichment.score_set(fe_, sc_, se_fe_)"
   ]
  },
  {
   "cell_type": "code",
   "execution_count": null,
   "id": "f31c3a45",
   "metadata": {
    "execution": {
     "iopub.execute_input": "2022-02-13T23:16:19.928614Z",
     "iopub.status.busy": "2022-02-13T23:16:19.927469Z",
     "iopub.status.idle": "2022-02-13T23:16:24.068403Z",
     "shell.execute_reply": "2022-02-13T23:16:24.067254Z"
    }
   },
   "outputs": [],
   "source": [
    "OnePiece.feature_set_enrichment.score_set(sc_fe_sa, se_fe_)"
   ]
  },
  {
   "cell_type": "markdown",
   "id": "b955b922",
   "metadata": {},
   "source": [
    "### score_set_new"
   ]
  },
  {
   "cell_type": "code",
   "execution_count": null,
   "id": "dc2fb2d2",
   "metadata": {
    "execution": {
     "iopub.execute_input": "2022-02-13T23:16:24.070359Z",
     "iopub.status.busy": "2022-02-13T23:16:24.069868Z",
     "iopub.status.idle": "2022-02-13T23:16:24.206108Z",
     "shell.execute_reply": "2022-02-13T23:16:24.206542Z"
    }
   },
   "outputs": [],
   "source": [
    "OnePiece.feature_set_enrichment.score_set_new(fe_, sc_, fe1_)"
   ]
  },
  {
   "cell_type": "code",
   "execution_count": null,
   "id": "a6ac1e10",
   "metadata": {
    "execution": {
     "iopub.execute_input": "2022-02-13T23:16:24.208862Z",
     "iopub.status.busy": "2022-02-13T23:16:24.208273Z",
     "iopub.status.idle": "2022-02-13T23:16:25.067646Z",
     "shell.execute_reply": "2022-02-13T23:16:25.067264Z"
    }
   },
   "outputs": [],
   "source": [
    "OnePiece.feature_set_enrichment.score_set_new(fe_, sc_, se_fe_)"
   ]
  },
  {
   "cell_type": "markdown",
   "id": "94460707",
   "metadata": {},
   "source": [
    "## try_method"
   ]
  },
  {
   "cell_type": "code",
   "execution_count": null,
   "id": "2893cb57",
   "metadata": {
    "execution": {
     "iopub.execute_input": "2022-02-13T23:16:25.069591Z",
     "iopub.status.busy": "2022-02-13T23:16:25.069091Z",
     "iopub.status.idle": "2022-02-13T23:16:26.913358Z",
     "shell.execute_reply": "2022-02-13T23:16:26.912884Z"
    }
   },
   "outputs": [],
   "source": [
    "OnePiece.feature_set_enrichment.try_method(fe_, sc_, fe1_, plp = false)"
   ]
  },
  {
   "cell_type": "markdown",
   "id": "3f396855",
   "metadata": {},
   "source": [
    "---"
   ]
  },
  {
   "cell_type": "code",
   "execution_count": null,
   "id": "b4af2023",
   "metadata": {
    "execution": {
     "iopub.execute_input": "2022-02-13T23:16:26.915387Z",
     "iopub.status.busy": "2022-02-13T23:16:26.914809Z",
     "iopub.status.idle": "2022-02-13T23:16:26.917243Z",
     "shell.execute_reply": "2022-02-13T23:16:26.917628Z"
    }
   },
   "outputs": [],
   "source": [
    "if isdir(TE)\n",
    "\n",
    "    rm(TE, recursive = true)\n",
    "\n",
    "    println(\"Removed \", TE, \".\")\n",
    "\n",
    "end"
   ]
  }
 ],
 "metadata": {
  "kernelspec": {
   "display_name": "Julia 1.7.2",
   "language": "julia",
   "name": "julia-1.7"
  },
  "language_info": {
   "file_extension": ".jl",
   "mimetype": "application/julia",
   "name": "julia",
   "version": "1.7.2"
  }
 },
 "nbformat": 4,
 "nbformat_minor": 5
}
