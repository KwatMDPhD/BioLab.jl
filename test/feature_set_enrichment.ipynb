{
 "cells": [
  {
   "cell_type": "code",
   "execution_count": null,
   "id": "34e4701e",
   "metadata": {
    "execution": {
     "iopub.execute_input": "2022-02-09T19:01:53.915940Z",
     "iopub.status.busy": "2022-02-09T19:01:53.528673Z",
     "iopub.status.idle": "2022-02-09T19:01:54.882793Z",
     "shell.execute_reply": "2022-02-09T19:01:54.882056Z"
    }
   },
   "outputs": [],
   "source": [
    "using Revise\n",
    "using BenchmarkTools"
   ]
  },
  {
   "cell_type": "code",
   "execution_count": null,
   "id": "e0b39736",
   "metadata": {
    "execution": {
     "iopub.execute_input": "2022-02-09T19:01:54.884946Z",
     "iopub.status.busy": "2022-02-09T19:01:54.884217Z",
     "iopub.status.idle": "2022-02-09T19:02:05.098927Z",
     "shell.execute_reply": "2022-02-09T19:02:05.098396Z"
    }
   },
   "outputs": [],
   "source": [
    "using DataFrames\n",
    "\n",
    "using OnePiece"
   ]
  },
  {
   "cell_type": "markdown",
   "id": "ccdb8b26",
   "metadata": {},
   "source": [
    "## get_probability_and_cumulate"
   ]
  },
  {
   "cell_type": "code",
   "execution_count": null,
   "id": "1ba5422d",
   "metadata": {
    "execution": {
     "iopub.execute_input": "2022-02-09T19:02:06.685972Z",
     "iopub.status.busy": "2022-02-09T19:02:05.100514Z",
     "iopub.status.idle": "2022-02-09T19:02:07.853486Z",
     "shell.execute_reply": "2022-02-09T19:02:07.853091Z"
    }
   },
   "outputs": [],
   "source": [
    "ve = [1, 4]\n",
    "\n",
    "OnePiece.feature_set_enrichment.get_probability_and_cumulate(ve)"
   ]
  },
  {
   "cell_type": "markdown",
   "id": "f009ac6a",
   "metadata": {},
   "source": [
    "## sum_1_absolute_and_0_count"
   ]
  },
  {
   "cell_type": "code",
   "execution_count": null,
   "id": "6ea9fb15",
   "metadata": {
    "execution": {
     "iopub.execute_input": "2022-02-09T19:02:07.855277Z",
     "iopub.status.busy": "2022-02-09T19:02:07.854775Z",
     "iopub.status.idle": "2022-02-09T19:02:10.279945Z",
     "shell.execute_reply": "2022-02-09T19:02:10.279469Z"
    }
   },
   "outputs": [],
   "source": [
    "ve = [-2.0, -1, 0, 1, 2]\n",
    "\n",
    "in_ = convert(Vector{Bool}, [1, 1, 0, 0, 1])\n",
    "\n",
    "@btime OnePiece.feature_set_enrichment.sum_1_absolute_and_0_count(ve, in_)"
   ]
  },
  {
   "cell_type": "markdown",
   "id": "8a6e1061",
   "metadata": {},
   "source": [
    "## make_benchmark"
   ]
  },
  {
   "cell_type": "code",
   "execution_count": null,
   "id": "4c20ec75",
   "metadata": {
    "execution": {
     "iopub.execute_input": "2022-02-09T19:02:10.282068Z",
     "iopub.status.busy": "2022-02-09T19:02:10.281475Z",
     "iopub.status.idle": "2022-02-09T19:02:18.821081Z",
     "shell.execute_reply": "2022-02-09T19:02:18.820691Z"
    }
   },
   "outputs": [],
   "source": [
    "try\n",
    "\n",
    "    OnePiece.feature_set_enrichment.make_benchmark(\"card 12K\")\n",
    "\n",
    "catch er\n",
    "\n",
    "    er\n",
    "\n",
    "end"
   ]
  },
  {
   "cell_type": "code",
   "execution_count": null,
   "id": "68aeeb9b",
   "metadata": {
    "execution": {
     "iopub.execute_input": "2022-02-09T19:02:18.822783Z",
     "iopub.status.busy": "2022-02-09T19:02:18.822287Z",
     "iopub.status.idle": "2022-02-09T19:02:19.304514Z",
     "shell.execute_reply": "2022-02-09T19:02:19.304057Z"
    }
   },
   "outputs": [],
   "source": [
    "OnePiece.feature_set_enrichment.make_benchmark(\"card A2K\")"
   ]
  },
  {
   "cell_type": "code",
   "execution_count": null,
   "id": "a93d4ce0",
   "metadata": {
    "execution": {
     "iopub.execute_input": "2022-02-09T19:02:19.306413Z",
     "iopub.status.busy": "2022-02-09T19:02:19.305826Z",
     "iopub.status.idle": "2022-02-09T19:02:19.700912Z",
     "shell.execute_reply": "2022-02-09T19:02:19.700386Z"
    }
   },
   "outputs": [],
   "source": [
    "OnePiece.feature_set_enrichment.make_benchmark(\"random 3 2\")"
   ]
  },
  {
   "cell_type": "code",
   "execution_count": null,
   "id": "a0f3bce7",
   "metadata": {
    "execution": {
     "iopub.execute_input": "2022-02-09T19:02:19.702733Z",
     "iopub.status.busy": "2022-02-09T19:02:19.702151Z",
     "iopub.status.idle": "2022-02-09T19:02:19.717143Z",
     "shell.execute_reply": "2022-02-09T19:02:19.716679Z"
    }
   },
   "outputs": [],
   "source": [
    "OnePiece.feature_set_enrichment.make_benchmark(\"random 4 2\")"
   ]
  },
  {
   "cell_type": "code",
   "execution_count": null,
   "id": "86bfbc58",
   "metadata": {
    "execution": {
     "iopub.execute_input": "2022-02-09T19:02:19.719025Z",
     "iopub.status.busy": "2022-02-09T19:02:19.718415Z",
     "iopub.status.idle": "2022-02-09T19:02:33.323281Z",
     "shell.execute_reply": "2022-02-09T19:02:33.322780Z"
    }
   },
   "outputs": [],
   "source": [
    "fe_, sc_, fe1_ = OnePiece.feature_set_enrichment.make_benchmark(\"myc\")\n",
    "\n",
    "println(length(fe_))\n",
    "\n",
    "println(length(sc_))\n",
    "\n",
    "println(length(fe1_))"
   ]
  },
  {
   "cell_type": "markdown",
   "id": "337971f7",
   "metadata": {},
   "source": [
    "## plot_mountain"
   ]
  },
  {
   "cell_type": "code",
   "execution_count": null,
   "id": "e74b541b",
   "metadata": {
    "execution": {
     "iopub.execute_input": "2022-02-09T19:02:33.325157Z",
     "iopub.status.busy": "2022-02-09T19:02:33.324603Z",
     "iopub.status.idle": "2022-02-09T19:02:33.337879Z",
     "shell.execute_reply": "2022-02-09T19:02:33.337313Z"
    }
   },
   "outputs": [],
   "source": [
    "fe_, sc_, fe1_ = OnePiece.feature_set_enrichment.make_benchmark(\"card AK\")\n",
    "\n",
    ";"
   ]
  },
  {
   "cell_type": "code",
   "execution_count": null,
   "id": "517bc174",
   "metadata": {
    "execution": {
     "iopub.execute_input": "2022-02-09T19:02:33.339784Z",
     "iopub.status.busy": "2022-02-09T19:02:33.339213Z",
     "iopub.status.idle": "2022-02-09T19:02:41.934304Z",
     "shell.execute_reply": "2022-02-09T19:02:41.933843Z"
    }
   },
   "outputs": [],
   "source": [
    "OnePiece.feature_set_enrichment.score_set(fe_, sc_, fe1_; si = false)"
   ]
  },
  {
   "cell_type": "code",
   "execution_count": null,
   "id": "7a2a9a37",
   "metadata": {
    "execution": {
     "iopub.execute_input": "2022-02-09T19:02:41.936202Z",
     "iopub.status.busy": "2022-02-09T19:02:41.935598Z",
     "iopub.status.idle": "2022-02-09T19:02:42.834474Z",
     "shell.execute_reply": "2022-02-09T19:02:42.833998Z"
    }
   },
   "outputs": [],
   "source": [
    "OnePiece.feature_set_enrichment.score_set_new(fe_, sc_, fe1_)"
   ]
  },
  {
   "cell_type": "markdown",
   "id": "e6056ac2",
   "metadata": {},
   "source": [
    "## score_set"
   ]
  },
  {
   "cell_type": "code",
   "execution_count": null,
   "id": "ee5aff03",
   "metadata": {
    "execution": {
     "iopub.execute_input": "2022-02-09T19:02:42.836524Z",
     "iopub.status.busy": "2022-02-09T19:02:42.835924Z",
     "iopub.status.idle": "2022-02-09T19:02:42.909390Z",
     "shell.execute_reply": "2022-02-09T19:02:42.908822Z"
    }
   },
   "outputs": [],
   "source": [
    "fe_, sc_, fe1_ = OnePiece.feature_set_enrichment.make_benchmark(\"myc\")\n",
    "\n",
    "in_ = OnePiece.extension.vector.is_in(fe_, fe1_)\n",
    "\n",
    ";"
   ]
  },
  {
   "cell_type": "markdown",
   "id": "b05aefbe",
   "metadata": {},
   "source": [
    "## score_set (1 1)"
   ]
  },
  {
   "cell_type": "code",
   "execution_count": null,
   "id": "51ade553",
   "metadata": {
    "execution": {
     "iopub.execute_input": "2022-02-09T19:02:42.911295Z",
     "iopub.status.busy": "2022-02-09T19:02:42.910729Z",
     "iopub.status.idle": "2022-02-09T19:02:55.287574Z",
     "shell.execute_reply": "2022-02-09T19:02:55.287119Z"
    }
   },
   "outputs": [],
   "source": [
    "@btime OnePiece.extension.vector.is_in(fe_, fe1_)"
   ]
  },
  {
   "cell_type": "code",
   "execution_count": null,
   "id": "f1d3072c",
   "metadata": {
    "execution": {
     "iopub.execute_input": "2022-02-09T19:02:55.289393Z",
     "iopub.status.busy": "2022-02-09T19:02:55.288740Z",
     "iopub.status.idle": "2022-02-09T19:03:02.651464Z",
     "shell.execute_reply": "2022-02-09T19:03:02.651072Z"
    }
   },
   "outputs": [],
   "source": [
    "@btime OnePiece.feature_set_enrichment.score_set(fe_, sc_, fe1_, in_; pl = false)"
   ]
  },
  {
   "cell_type": "code",
   "execution_count": null,
   "id": "db503e6d",
   "metadata": {
    "execution": {
     "iopub.execute_input": "2022-02-09T19:03:02.653392Z",
     "iopub.status.busy": "2022-02-09T19:03:02.652746Z",
     "iopub.status.idle": "2022-02-09T19:03:13.942182Z",
     "shell.execute_reply": "2022-02-09T19:03:13.941762Z"
    }
   },
   "outputs": [],
   "source": [
    "@btime OnePiece.feature_set_enrichment.score_set(fe_, sc_, fe1_; pl = false)"
   ]
  },
  {
   "cell_type": "code",
   "execution_count": null,
   "id": "d0b57976",
   "metadata": {
    "execution": {
     "iopub.execute_input": "2022-02-09T19:03:13.944042Z",
     "iopub.status.busy": "2022-02-09T19:03:13.943528Z",
     "iopub.status.idle": "2022-02-09T19:03:14.284906Z",
     "shell.execute_reply": "2022-02-09T19:03:14.202115Z"
    }
   },
   "outputs": [],
   "source": [
    "OnePiece.feature_set_enrichment.score_set(fe_, sc_, fe1_)"
   ]
  },
  {
   "cell_type": "markdown",
   "id": "b955b922",
   "metadata": {},
   "source": [
    "## score_set_new (1 1)"
   ]
  },
  {
   "cell_type": "code",
   "execution_count": null,
   "id": "fa48624f",
   "metadata": {
    "execution": {
     "iopub.execute_input": "2022-02-09T19:03:14.287355Z",
     "iopub.status.busy": "2022-02-09T19:03:14.286508Z",
     "iopub.status.idle": "2022-02-09T19:03:25.840247Z",
     "shell.execute_reply": "2022-02-09T19:03:25.839788Z"
    }
   },
   "outputs": [],
   "source": [
    "@btime OnePiece.feature_set_enrichment.score_set_new(fe_, sc_, fe1_; pl = false)"
   ]
  },
  {
   "cell_type": "code",
   "execution_count": null,
   "id": "dc2fb2d2",
   "metadata": {
    "execution": {
     "iopub.execute_input": "2022-02-09T19:03:25.842193Z",
     "iopub.status.busy": "2022-02-09T19:03:25.841608Z",
     "iopub.status.idle": "2022-02-09T19:03:26.177616Z",
     "shell.execute_reply": "2022-02-09T19:03:26.092600Z"
    }
   },
   "outputs": [],
   "source": [
    "OnePiece.feature_set_enrichment.score_set_new(fe_, sc_, fe1_)"
   ]
  },
  {
   "cell_type": "markdown",
   "id": "f7052fba",
   "metadata": {},
   "source": [
    "## score_set (? n)"
   ]
  },
  {
   "cell_type": "code",
   "execution_count": null,
   "id": "3d4df309",
   "metadata": {
    "execution": {
     "iopub.execute_input": "2022-02-09T19:03:26.179793Z",
     "iopub.status.busy": "2022-02-09T19:03:26.179184Z",
     "iopub.status.idle": "2022-02-09T19:03:26.192951Z",
     "shell.execute_reply": "2022-02-09T19:03:26.192452Z"
    }
   },
   "outputs": [],
   "source": [
    "se_fe_ = OnePiece.io.gmt.read(\n",
    "    joinpath(@__DIR__, \"feature_set_enrichment.data\", \"h.all.v7.1.symbols.gmt\"),\n",
    ")\n",
    "\n",
    ";"
   ]
  },
  {
   "cell_type": "markdown",
   "id": "4766e9c6",
   "metadata": {},
   "source": [
    "## score_set (1 n)"
   ]
  },
  {
   "cell_type": "code",
   "execution_count": null,
   "id": "1679bed5",
   "metadata": {
    "execution": {
     "iopub.execute_input": "2022-02-09T19:03:26.194870Z",
     "iopub.status.busy": "2022-02-09T19:03:26.194293Z",
     "iopub.status.idle": "2022-02-09T19:03:38.938559Z",
     "shell.execute_reply": "2022-02-09T19:03:38.937970Z"
    }
   },
   "outputs": [],
   "source": [
    "@btime OnePiece.feature_set_enrichment.score_set(fe_, sc_, se_fe_)"
   ]
  },
  {
   "cell_type": "markdown",
   "id": "d18c90c2",
   "metadata": {},
   "source": [
    "## score_set_new (1 n)"
   ]
  },
  {
   "cell_type": "code",
   "execution_count": null,
   "id": "a6ac1e10",
   "metadata": {
    "execution": {
     "iopub.execute_input": "2022-02-09T19:03:38.940308Z",
     "iopub.status.busy": "2022-02-09T19:03:38.939800Z",
     "iopub.status.idle": "2022-02-09T19:03:51.208368Z",
     "shell.execute_reply": "2022-02-09T19:03:51.207906Z"
    }
   },
   "outputs": [],
   "source": [
    "@btime OnePiece.feature_set_enrichment.score_set_new(fe_, sc_, se_fe_)"
   ]
  },
  {
   "cell_type": "markdown",
   "id": "73665aeb",
   "metadata": {},
   "source": [
    "## score_set (n n)"
   ]
  },
  {
   "cell_type": "code",
   "execution_count": null,
   "id": "d1dae9b2",
   "metadata": {
    "execution": {
     "iopub.execute_input": "2022-02-09T19:03:51.210399Z",
     "iopub.status.busy": "2022-02-09T19:03:51.209865Z",
     "iopub.status.idle": "2022-02-09T19:04:06.972926Z",
     "shell.execute_reply": "2022-02-09T19:04:06.971773Z"
    }
   },
   "outputs": [],
   "source": [
    "sc_fe_sa = DataFrame(\n",
    "    \"Feature\" => fe_,\n",
    "    \"Score\" => sc_,\n",
    "    \"Score x 10\" => sc_ * 10,\n",
    "    \"Constant\" => fill(0.8, length(fe_)),\n",
    ")\n",
    "\n",
    "@btime OnePiece.feature_set_enrichment.score_set(sc_fe_sa, se_fe_; n_jo = 1)"
   ]
  },
  {
   "cell_type": "markdown",
   "id": "94460707",
   "metadata": {},
   "source": [
    "## try_method"
   ]
  },
  {
   "cell_type": "code",
   "execution_count": null,
   "id": "2893cb57",
   "metadata": {
    "execution": {
     "iopub.execute_input": "2022-02-09T19:04:06.975399Z",
     "iopub.status.busy": "2022-02-09T19:04:06.974905Z",
     "iopub.status.idle": "2022-02-09T19:04:09.798419Z",
     "shell.execute_reply": "2022-02-09T19:04:09.797939Z"
    }
   },
   "outputs": [],
   "source": [
    "OnePiece.feature_set_enrichment.try_method(fe_, sc_, fe1_; plp = false)"
   ]
  }
 ],
 "metadata": {
  "@webio": {
   "lastCommId": "5a921eb0f4c04e15b2b55486f2c40485",
   "lastKernelId": "6be6db44-0b8d-411c-afba-58c31e550920"
  },
  "kernelspec": {
   "display_name": "Julia 1.7.1",
   "language": "julia",
   "name": "julia-1.7"
  },
  "language_info": {
   "file_extension": ".jl",
   "mimetype": "application/julia",
   "name": "julia",
   "version": "1.7.2"
  }
 },
 "nbformat": 4,
 "nbformat_minor": 5
}
