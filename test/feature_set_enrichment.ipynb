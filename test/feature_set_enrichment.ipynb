{
 "cells": [
  {
   "cell_type": "code",
   "execution_count": null,
   "id": "017464da",
   "metadata": {
    "execution": {
     "iopub.execute_input": "2022-02-13T05:24:20.175239Z",
     "iopub.status.busy": "2022-02-13T05:24:19.845981Z",
     "iopub.status.idle": "2022-02-13T05:24:20.353302Z",
     "shell.execute_reply": "2022-02-13T05:24:20.352818Z"
    }
   },
   "outputs": [],
   "source": [
    "TE = joinpath(tempdir(), \"OnePiece.test\")\n",
    "\n",
    "if isdir(TE)\n",
    "\n",
    "    rm(TE, recursive = true)\n",
    "\n",
    "    println(\"Removed \", TE, \".\")\n",
    "\n",
    "end\n",
    "\n",
    "mkdir(TE)\n",
    "\n",
    "println(\"Made \", TE, \".\")"
   ]
  },
  {
   "cell_type": "code",
   "execution_count": null,
   "id": "34e4701e",
   "metadata": {
    "execution": {
     "iopub.execute_input": "2022-02-13T05:24:20.355148Z",
     "iopub.status.busy": "2022-02-13T05:24:20.354648Z",
     "iopub.status.idle": "2022-02-13T05:24:24.366806Z",
     "shell.execute_reply": "2022-02-13T05:24:24.366295Z"
    }
   },
   "outputs": [],
   "source": [
    "using OnePiece"
   ]
  },
  {
   "cell_type": "markdown",
   "id": "b92a3da9",
   "metadata": {},
   "source": [
    "---"
   ]
  },
  {
   "cell_type": "markdown",
   "id": "ccdb8b26",
   "metadata": {},
   "source": [
    "## get_probability_and_cumulate"
   ]
  },
  {
   "cell_type": "code",
   "execution_count": null,
   "id": "1ba5422d",
   "metadata": {
    "execution": {
     "iopub.execute_input": "2022-02-13T05:24:24.660116Z",
     "iopub.status.busy": "2022-02-13T05:24:24.368193Z",
     "iopub.status.idle": "2022-02-13T05:24:25.369460Z",
     "shell.execute_reply": "2022-02-13T05:24:25.369023Z"
    }
   },
   "outputs": [],
   "source": [
    "OnePiece.feature_set_enrichment.get_probability_and_cumulate([1, 4])"
   ]
  },
  {
   "cell_type": "markdown",
   "id": "f009ac6a",
   "metadata": {},
   "source": [
    "## sum_1_absolute_and_0_count"
   ]
  },
  {
   "cell_type": "code",
   "execution_count": null,
   "id": "6ea9fb15",
   "metadata": {
    "execution": {
     "iopub.execute_input": "2022-02-13T05:24:25.371685Z",
     "iopub.status.busy": "2022-02-13T05:24:25.371026Z",
     "iopub.status.idle": "2022-02-13T05:24:25.637887Z",
     "shell.execute_reply": "2022-02-13T05:24:25.637501Z"
    }
   },
   "outputs": [],
   "source": [
    "OnePiece.feature_set_enrichment.sum_1_absolute_and_0_count(\n",
    "    [-2.0, -1, 0, 1, 2],\n",
    "    convert(Vector{Bool}, [1, 1, 0, 0, 1]),\n",
    ")"
   ]
  },
  {
   "cell_type": "markdown",
   "id": "8a6e1061",
   "metadata": {},
   "source": [
    "## make_benchmark"
   ]
  },
  {
   "cell_type": "code",
   "execution_count": null,
   "id": "4c20ec75",
   "metadata": {
    "execution": {
     "iopub.execute_input": "2022-02-13T05:24:25.639860Z",
     "iopub.status.busy": "2022-02-13T05:24:25.639354Z",
     "iopub.status.idle": "2022-02-13T05:24:32.240302Z",
     "shell.execute_reply": "2022-02-13T05:24:32.239906Z"
    }
   },
   "outputs": [],
   "source": [
    "try\n",
    "\n",
    "    OnePiece.feature_set_enrichment.make_benchmark(\"card 12K\")\n",
    "\n",
    "catch er\n",
    "\n",
    "    er\n",
    "\n",
    "end"
   ]
  },
  {
   "cell_type": "code",
   "execution_count": null,
   "id": "68aeeb9b",
   "metadata": {
    "execution": {
     "iopub.execute_input": "2022-02-13T05:24:32.242124Z",
     "iopub.status.busy": "2022-02-13T05:24:32.241614Z",
     "iopub.status.idle": "2022-02-13T05:24:32.625930Z",
     "shell.execute_reply": "2022-02-13T05:24:32.625530Z"
    }
   },
   "outputs": [],
   "source": [
    "OnePiece.feature_set_enrichment.make_benchmark(\"card A2K\")"
   ]
  },
  {
   "cell_type": "code",
   "execution_count": null,
   "id": "a93d4ce0",
   "metadata": {
    "execution": {
     "iopub.execute_input": "2022-02-13T05:24:32.627737Z",
     "iopub.status.busy": "2022-02-13T05:24:32.627247Z",
     "iopub.status.idle": "2022-02-13T05:24:32.950366Z",
     "shell.execute_reply": "2022-02-13T05:24:32.949974Z"
    }
   },
   "outputs": [],
   "source": [
    "OnePiece.feature_set_enrichment.make_benchmark(\"random 3 2\")"
   ]
  },
  {
   "cell_type": "code",
   "execution_count": null,
   "id": "a0f3bce7",
   "metadata": {
    "execution": {
     "iopub.execute_input": "2022-02-13T05:24:32.952809Z",
     "iopub.status.busy": "2022-02-13T05:24:32.951789Z",
     "iopub.status.idle": "2022-02-13T05:24:32.954296Z",
     "shell.execute_reply": "2022-02-13T05:24:32.953319Z"
    }
   },
   "outputs": [],
   "source": [
    "OnePiece.feature_set_enrichment.make_benchmark(\"random 4 2\")"
   ]
  },
  {
   "cell_type": "code",
   "execution_count": null,
   "id": "86bfbc58",
   "metadata": {
    "execution": {
     "iopub.execute_input": "2022-02-13T05:24:32.956280Z",
     "iopub.status.busy": "2022-02-13T05:24:32.955795Z",
     "iopub.status.idle": "2022-02-13T05:24:44.166555Z",
     "shell.execute_reply": "2022-02-13T05:24:44.166108Z"
    }
   },
   "outputs": [],
   "source": [
    "fe_, sc_, fe1_ = OnePiece.feature_set_enrichment.make_benchmark(\"myc\")\n",
    "\n",
    "println(length(fe_))\n",
    "\n",
    "println(length(sc_))\n",
    "\n",
    "println(length(fe1_))"
   ]
  },
  {
   "cell_type": "markdown",
   "id": "337971f7",
   "metadata": {},
   "source": [
    "## plot_mountain"
   ]
  },
  {
   "cell_type": "code",
   "execution_count": null,
   "id": "e74b541b",
   "metadata": {
    "execution": {
     "iopub.execute_input": "2022-02-13T05:24:44.168660Z",
     "iopub.status.busy": "2022-02-13T05:24:44.167897Z",
     "iopub.status.idle": "2022-02-13T05:24:44.169238Z",
     "shell.execute_reply": "2022-02-13T05:24:44.169584Z"
    }
   },
   "outputs": [],
   "source": [
    "fe_, sc_, fe1_ = OnePiece.feature_set_enrichment.make_benchmark(\"card AK\")\n",
    "\n",
    ";"
   ]
  },
  {
   "cell_type": "code",
   "execution_count": null,
   "id": "58f279e2",
   "metadata": {
    "execution": {
     "iopub.execute_input": "2022-02-13T05:24:44.171451Z",
     "iopub.status.busy": "2022-02-13T05:24:44.170970Z",
     "iopub.status.idle": "2022-02-13T05:24:46.815112Z",
     "shell.execute_reply": "2022-02-13T05:24:46.814665Z"
    }
   },
   "outputs": [],
   "source": [
    "OnePiece.feature_set_enrichment.score_set(fe_, sc_, fe1_, ou = joinpath(TE, \"mountain.html\"))"
   ]
  },
  {
   "cell_type": "code",
   "execution_count": null,
   "id": "517bc174",
   "metadata": {
    "execution": {
     "iopub.execute_input": "2022-02-13T05:24:46.817030Z",
     "iopub.status.busy": "2022-02-13T05:24:46.816452Z",
     "iopub.status.idle": "2022-02-13T05:24:47.573135Z",
     "shell.execute_reply": "2022-02-13T05:24:47.572744Z"
    }
   },
   "outputs": [],
   "source": [
    "OnePiece.feature_set_enrichment.score_set_new(\n",
    "    fe_,\n",
    "    sc_,\n",
    "    fe1_,\n",
    "    ou = joinpath(TE, \"mountain_new.html\"),\n",
    ")"
   ]
  },
  {
   "cell_type": "markdown",
   "id": "b2ede5e5",
   "metadata": {},
   "source": [
    "## score_set*"
   ]
  },
  {
   "cell_type": "code",
   "execution_count": null,
   "id": "bfe544b8",
   "metadata": {
    "execution": {
     "iopub.execute_input": "2022-02-13T05:24:47.575202Z",
     "iopub.status.busy": "2022-02-13T05:24:47.574534Z",
     "iopub.status.idle": "2022-02-13T05:24:47.577887Z",
     "shell.execute_reply": "2022-02-13T05:24:47.577458Z"
    }
   },
   "outputs": [],
   "source": [
    "using DataFrames"
   ]
  },
  {
   "cell_type": "code",
   "execution_count": null,
   "id": "ee5aff03",
   "metadata": {
    "execution": {
     "iopub.execute_input": "2022-02-13T05:24:47.579981Z",
     "iopub.status.busy": "2022-02-13T05:24:47.579446Z",
     "iopub.status.idle": "2022-02-13T05:24:47.937335Z",
     "shell.execute_reply": "2022-02-13T05:24:47.936665Z"
    }
   },
   "outputs": [],
   "source": [
    "fe_, sc_, fe1_ = OnePiece.feature_set_enrichment.make_benchmark(\"myc\")\n",
    "\n",
    "in_ = OnePiece.extension.vector.is_in(fe_, fe1_)\n",
    "\n",
    "sc_fe_sa = DataFrame(\n",
    "    \"Feature\" => fe_,\n",
    "    \"Score\" => sc_,\n",
    "    \"Score x 10\" => sc_ * 10,\n",
    "    \"Constant\" => fill(0.8, length(fe_)),\n",
    ")\n",
    "\n",
    "se_fe_ = OnePiece.io.gmt.read(\n",
    "    joinpath(@__DIR__, \"feature_set_enrichment.data\", \"h.all.v7.1.symbols.gmt\"),\n",
    ")\n",
    "\n",
    ";"
   ]
  },
  {
   "cell_type": "markdown",
   "id": "b3cd3ef2",
   "metadata": {},
   "source": [
    "### score_set"
   ]
  },
  {
   "cell_type": "code",
   "execution_count": null,
   "id": "871350b7",
   "metadata": {
    "execution": {
     "iopub.execute_input": "2022-02-13T05:24:47.939533Z",
     "iopub.status.busy": "2022-02-13T05:24:47.939040Z",
     "iopub.status.idle": "2022-02-13T05:24:47.996450Z",
     "shell.execute_reply": "2022-02-13T05:24:47.996954Z"
    }
   },
   "outputs": [],
   "source": [
    "OnePiece.feature_set_enrichment.score_set(fe_, sc_, fe1_, in_)"
   ]
  },
  {
   "cell_type": "code",
   "execution_count": null,
   "id": "f1d3072c",
   "metadata": {
    "execution": {
     "iopub.execute_input": "2022-02-13T05:24:47.998979Z",
     "iopub.status.busy": "2022-02-13T05:24:47.998491Z",
     "iopub.status.idle": "2022-02-13T05:24:48.048930Z",
     "shell.execute_reply": "2022-02-13T05:24:48.049325Z"
    }
   },
   "outputs": [],
   "source": [
    "OnePiece.feature_set_enrichment.score_set(fe_, sc_, fe1_)"
   ]
  },
  {
   "cell_type": "code",
   "execution_count": null,
   "id": "3e380333",
   "metadata": {
    "execution": {
     "iopub.execute_input": "2022-02-13T05:24:48.051211Z",
     "iopub.status.busy": "2022-02-13T05:24:48.050619Z",
     "iopub.status.idle": "2022-02-13T05:24:49.449721Z",
     "shell.execute_reply": "2022-02-13T05:24:49.449242Z"
    }
   },
   "outputs": [],
   "source": [
    "OnePiece.feature_set_enrichment.score_set(fe_, sc_, se_fe_)"
   ]
  },
  {
   "cell_type": "code",
   "execution_count": null,
   "id": "f31c3a45",
   "metadata": {
    "execution": {
     "iopub.execute_input": "2022-02-13T05:24:49.451616Z",
     "iopub.status.busy": "2022-02-13T05:24:49.450996Z",
     "iopub.status.idle": "2022-02-13T05:24:53.623027Z",
     "shell.execute_reply": "2022-02-13T05:24:53.622586Z"
    }
   },
   "outputs": [],
   "source": [
    "OnePiece.feature_set_enrichment.score_set(sc_fe_sa, se_fe_)"
   ]
  },
  {
   "cell_type": "markdown",
   "id": "b955b922",
   "metadata": {},
   "source": [
    "### score_set_new"
   ]
  },
  {
   "cell_type": "code",
   "execution_count": null,
   "id": "dc2fb2d2",
   "metadata": {
    "execution": {
     "iopub.execute_input": "2022-02-13T05:24:53.624925Z",
     "iopub.status.busy": "2022-02-13T05:24:53.624354Z",
     "iopub.status.idle": "2022-02-13T05:24:53.746113Z",
     "shell.execute_reply": "2022-02-13T05:24:53.745672Z"
    }
   },
   "outputs": [],
   "source": [
    "OnePiece.feature_set_enrichment.score_set_new(fe_, sc_, fe1_)"
   ]
  },
  {
   "cell_type": "code",
   "execution_count": null,
   "id": "a6ac1e10",
   "metadata": {
    "execution": {
     "iopub.execute_input": "2022-02-13T05:24:53.748053Z",
     "iopub.status.busy": "2022-02-13T05:24:53.747486Z",
     "iopub.status.idle": "2022-02-13T05:24:54.600466Z",
     "shell.execute_reply": "2022-02-13T05:24:54.600024Z"
    }
   },
   "outputs": [],
   "source": [
    "OnePiece.feature_set_enrichment.score_set_new(fe_, sc_, se_fe_)"
   ]
  },
  {
   "cell_type": "markdown",
   "id": "94460707",
   "metadata": {},
   "source": [
    "## try_method"
   ]
  },
  {
   "cell_type": "code",
   "execution_count": null,
   "id": "2893cb57",
   "metadata": {
    "execution": {
     "iopub.execute_input": "2022-02-13T05:24:54.602403Z",
     "iopub.status.busy": "2022-02-13T05:24:54.601824Z",
     "iopub.status.idle": "2022-02-13T05:24:56.310144Z",
     "shell.execute_reply": "2022-02-13T05:24:56.309687Z"
    }
   },
   "outputs": [],
   "source": [
    "OnePiece.feature_set_enrichment.try_method(fe_, sc_, fe1_, plp = false)"
   ]
  },
  {
   "cell_type": "markdown",
   "id": "3f396855",
   "metadata": {},
   "source": [
    "---"
   ]
  },
  {
   "cell_type": "code",
   "execution_count": null,
   "id": "b4af2023",
   "metadata": {
    "execution": {
     "iopub.execute_input": "2022-02-13T05:24:56.312294Z",
     "iopub.status.busy": "2022-02-13T05:24:56.311594Z",
     "iopub.status.idle": "2022-02-13T05:24:56.314271Z",
     "shell.execute_reply": "2022-02-13T05:24:56.313858Z"
    }
   },
   "outputs": [],
   "source": [
    "if isdir(TE)\n",
    "\n",
    "    rm(TE, recursive = true)\n",
    "\n",
    "    println(\"Removed \", TE, \".\")\n",
    "\n",
    "end"
   ]
  }
 ],
 "metadata": {
  "kernelspec": {
   "display_name": "Julia 1.7.2",
   "language": "julia",
   "name": "julia-1.7"
  },
  "language_info": {
   "file_extension": ".jl",
   "mimetype": "application/julia",
   "name": "julia",
   "version": "1.7.2"
  }
 },
 "nbformat": 4,
 "nbformat_minor": 5
}
