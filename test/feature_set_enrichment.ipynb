{
 "cells": [
  {
   "cell_type": "code",
   "execution_count": null,
   "id": "34e4701e",
   "metadata": {
    "execution": {
     "iopub.execute_input": "2022-02-09T02:45:35.771826Z",
     "iopub.status.busy": "2022-02-09T02:45:35.364946Z",
     "iopub.status.idle": "2022-02-09T02:45:36.777399Z",
     "shell.execute_reply": "2022-02-09T02:45:36.776749Z"
    }
   },
   "outputs": [],
   "source": [
    "using Revise\n",
    "using BenchmarkTools"
   ]
  },
  {
   "cell_type": "code",
   "execution_count": null,
   "id": "e0b39736",
   "metadata": {
    "execution": {
     "iopub.execute_input": "2022-02-09T02:45:36.779381Z",
     "iopub.status.busy": "2022-02-09T02:45:36.778725Z",
     "iopub.status.idle": "2022-02-09T02:45:47.359857Z",
     "shell.execute_reply": "2022-02-09T02:45:47.359321Z"
    }
   },
   "outputs": [],
   "source": [
    "using DataFrames\n",
    "\n",
    "using OnePiece"
   ]
  },
  {
   "cell_type": "markdown",
   "id": "ccdb8b26",
   "metadata": {},
   "source": [
    "## get_probability_and_cumulate"
   ]
  },
  {
   "cell_type": "code",
   "execution_count": null,
   "id": "1ba5422d",
   "metadata": {
    "execution": {
     "iopub.execute_input": "2022-02-09T02:45:48.975736Z",
     "iopub.status.busy": "2022-02-09T02:45:47.361412Z",
     "iopub.status.idle": "2022-02-09T02:45:50.129307Z",
     "shell.execute_reply": "2022-02-09T02:45:50.128858Z"
    }
   },
   "outputs": [],
   "source": [
    "ve = [1, 4]\n",
    "\n",
    "OnePiece.feature_set_enrichment.get_probability_and_cumulate(ve)"
   ]
  },
  {
   "cell_type": "markdown",
   "id": "f009ac6a",
   "metadata": {},
   "source": [
    "## sum_1_absolute_and_0_count"
   ]
  },
  {
   "cell_type": "code",
   "execution_count": null,
   "id": "6ea9fb15",
   "metadata": {
    "execution": {
     "iopub.execute_input": "2022-02-09T02:45:50.131137Z",
     "iopub.status.busy": "2022-02-09T02:45:50.130595Z",
     "iopub.status.idle": "2022-02-09T02:45:52.359363Z",
     "shell.execute_reply": "2022-02-09T02:45:52.358939Z"
    }
   },
   "outputs": [],
   "source": [
    "ve = [-2.0, -1, 0, 1, 2]\n",
    "\n",
    "in_ = convert(Vector{Bool}, [1, 1, 0, 0, 1])\n",
    "\n",
    "@btime OnePiece.feature_set_enrichment.sum_1_absolute_and_0_count(ve, in_)"
   ]
  },
  {
   "cell_type": "markdown",
   "id": "8a6e1061",
   "metadata": {},
   "source": [
    "## make_benchmark"
   ]
  },
  {
   "cell_type": "code",
   "execution_count": null,
   "id": "4c20ec75",
   "metadata": {
    "execution": {
     "iopub.execute_input": "2022-02-09T02:45:52.361078Z",
     "iopub.status.busy": "2022-02-09T02:45:52.360578Z",
     "iopub.status.idle": "2022-02-09T02:46:00.465702Z",
     "shell.execute_reply": "2022-02-09T02:46:00.465305Z"
    }
   },
   "outputs": [],
   "source": [
    "try\n",
    "\n",
    "    OnePiece.feature_set_enrichment.make_benchmark(\"card 12K\")\n",
    "\n",
    "catch er\n",
    "\n",
    "    er\n",
    "\n",
    "end"
   ]
  },
  {
   "cell_type": "code",
   "execution_count": null,
   "id": "68aeeb9b",
   "metadata": {
    "execution": {
     "iopub.execute_input": "2022-02-09T02:46:00.467712Z",
     "iopub.status.busy": "2022-02-09T02:46:00.467212Z",
     "iopub.status.idle": "2022-02-09T02:46:00.880837Z",
     "shell.execute_reply": "2022-02-09T02:46:00.880456Z"
    }
   },
   "outputs": [],
   "source": [
    "OnePiece.feature_set_enrichment.make_benchmark(\"card A2K\")"
   ]
  },
  {
   "cell_type": "code",
   "execution_count": null,
   "id": "a93d4ce0",
   "metadata": {
    "execution": {
     "iopub.execute_input": "2022-02-09T02:46:00.882587Z",
     "iopub.status.busy": "2022-02-09T02:46:00.882011Z",
     "iopub.status.idle": "2022-02-09T02:46:01.233557Z",
     "shell.execute_reply": "2022-02-09T02:46:01.233162Z"
    }
   },
   "outputs": [],
   "source": [
    "OnePiece.feature_set_enrichment.make_benchmark(\"random 3 2\")"
   ]
  },
  {
   "cell_type": "code",
   "execution_count": null,
   "id": "a0f3bce7",
   "metadata": {
    "execution": {
     "iopub.execute_input": "2022-02-09T02:46:01.235561Z",
     "iopub.status.busy": "2022-02-09T02:46:01.234955Z",
     "iopub.status.idle": "2022-02-09T02:46:01.249589Z",
     "shell.execute_reply": "2022-02-09T02:46:01.249138Z"
    }
   },
   "outputs": [],
   "source": [
    "OnePiece.feature_set_enrichment.make_benchmark(\"random 4 2\")"
   ]
  },
  {
   "cell_type": "code",
   "execution_count": null,
   "id": "86bfbc58",
   "metadata": {
    "execution": {
     "iopub.execute_input": "2022-02-09T02:46:01.251443Z",
     "iopub.status.busy": "2022-02-09T02:46:01.250812Z",
     "iopub.status.idle": "2022-02-09T02:46:14.609974Z",
     "shell.execute_reply": "2022-02-09T02:46:14.609530Z"
    }
   },
   "outputs": [],
   "source": [
    "fe_, sc_, fe1_ = OnePiece.feature_set_enrichment.make_benchmark(\"myc\")\n",
    "\n",
    "println(length(fe_))\n",
    "\n",
    "println(length(sc_))\n",
    "\n",
    "println(length(fe1_))"
   ]
  },
  {
   "cell_type": "markdown",
   "id": "337971f7",
   "metadata": {},
   "source": [
    "## plot_mountain"
   ]
  },
  {
   "cell_type": "code",
   "execution_count": null,
   "id": "e74b541b",
   "metadata": {
    "execution": {
     "iopub.execute_input": "2022-02-09T02:46:14.611932Z",
     "iopub.status.busy": "2022-02-09T02:46:14.611437Z",
     "iopub.status.idle": "2022-02-09T02:46:14.624236Z",
     "shell.execute_reply": "2022-02-09T02:46:14.623666Z"
    }
   },
   "outputs": [],
   "source": [
    "fe_, sc_, fe1_ = OnePiece.feature_set_enrichment.make_benchmark(\"card AK\")\n",
    "\n",
    ";"
   ]
  },
  {
   "cell_type": "code",
   "execution_count": null,
   "id": "517bc174",
   "metadata": {
    "execution": {
     "iopub.execute_input": "2022-02-09T02:46:14.626121Z",
     "iopub.status.busy": "2022-02-09T02:46:14.625542Z",
     "iopub.status.idle": "2022-02-09T02:46:23.649212Z",
     "shell.execute_reply": "2022-02-09T02:46:23.648820Z"
    }
   },
   "outputs": [],
   "source": [
    "OnePiece.feature_set_enrichment.score_set(fe_, sc_, fe1_; si = false)"
   ]
  },
  {
   "cell_type": "code",
   "execution_count": null,
   "id": "7a2a9a37",
   "metadata": {
    "execution": {
     "iopub.execute_input": "2022-02-09T02:46:23.650985Z",
     "iopub.status.busy": "2022-02-09T02:46:23.650483Z",
     "iopub.status.idle": "2022-02-09T02:46:24.515733Z",
     "shell.execute_reply": "2022-02-09T02:46:24.515312Z"
    }
   },
   "outputs": [],
   "source": [
    "OnePiece.feature_set_enrichment.score_set_new(fe_, sc_, fe1_)"
   ]
  },
  {
   "cell_type": "markdown",
   "id": "e6056ac2",
   "metadata": {},
   "source": [
    "## score_set"
   ]
  },
  {
   "cell_type": "code",
   "execution_count": null,
   "id": "ee5aff03",
   "metadata": {
    "execution": {
     "iopub.execute_input": "2022-02-09T02:46:24.518043Z",
     "iopub.status.busy": "2022-02-09T02:46:24.517541Z",
     "iopub.status.idle": "2022-02-09T02:46:24.626745Z",
     "shell.execute_reply": "2022-02-09T02:46:24.626152Z"
    }
   },
   "outputs": [],
   "source": [
    "fe_, sc_, fe1_ = OnePiece.feature_set_enrichment.make_benchmark(\"myc\")\n",
    "\n",
    "in_ = OnePiece.extension.vector.is_in(fe_, fe1_)\n",
    "\n",
    ";"
   ]
  },
  {
   "cell_type": "markdown",
   "id": "b05aefbe",
   "metadata": {},
   "source": [
    "## score_set (1 1)"
   ]
  },
  {
   "cell_type": "code",
   "execution_count": null,
   "id": "51ade553",
   "metadata": {
    "execution": {
     "iopub.execute_input": "2022-02-09T02:46:24.628854Z",
     "iopub.status.busy": "2022-02-09T02:46:24.628149Z",
     "iopub.status.idle": "2022-02-09T02:46:36.806179Z",
     "shell.execute_reply": "2022-02-09T02:46:36.805718Z"
    }
   },
   "outputs": [],
   "source": [
    "@btime OnePiece.extension.vector.is_in(fe_, fe1_)"
   ]
  },
  {
   "cell_type": "code",
   "execution_count": null,
   "id": "f1d3072c",
   "metadata": {
    "execution": {
     "iopub.execute_input": "2022-02-09T02:46:36.808108Z",
     "iopub.status.busy": "2022-02-09T02:46:36.807463Z",
     "iopub.status.idle": "2022-02-09T02:46:44.078944Z",
     "shell.execute_reply": "2022-02-09T02:46:44.078475Z"
    }
   },
   "outputs": [],
   "source": [
    "@btime OnePiece.feature_set_enrichment.score_set(fe_, sc_, fe1_, in_; pl = false)"
   ]
  },
  {
   "cell_type": "code",
   "execution_count": null,
   "id": "db503e6d",
   "metadata": {
    "execution": {
     "iopub.execute_input": "2022-02-09T02:46:44.080910Z",
     "iopub.status.busy": "2022-02-09T02:46:44.080340Z",
     "iopub.status.idle": "2022-02-09T02:46:55.337247Z",
     "shell.execute_reply": "2022-02-09T02:46:55.336783Z"
    }
   },
   "outputs": [],
   "source": [
    "@btime OnePiece.feature_set_enrichment.score_set(fe_, sc_, fe1_; pl = false)"
   ]
  },
  {
   "cell_type": "code",
   "execution_count": null,
   "id": "d0b57976",
   "metadata": {
    "execution": {
     "iopub.execute_input": "2022-02-09T02:46:55.339186Z",
     "iopub.status.busy": "2022-02-09T02:46:55.338605Z",
     "iopub.status.idle": "2022-02-09T02:46:55.666280Z",
     "shell.execute_reply": "2022-02-09T02:46:55.584149Z"
    }
   },
   "outputs": [],
   "source": [
    "OnePiece.feature_set_enrichment.score_set(fe_, sc_, fe1_)"
   ]
  },
  {
   "cell_type": "markdown",
   "id": "b955b922",
   "metadata": {},
   "source": [
    "## score_set_new (1 1)"
   ]
  },
  {
   "cell_type": "code",
   "execution_count": null,
   "id": "fa48624f",
   "metadata": {
    "execution": {
     "iopub.execute_input": "2022-02-09T02:46:55.668653Z",
     "iopub.status.busy": "2022-02-09T02:46:55.667999Z",
     "iopub.status.idle": "2022-02-09T02:47:07.077069Z",
     "shell.execute_reply": "2022-02-09T02:47:07.076603Z"
    }
   },
   "outputs": [],
   "source": [
    "@btime OnePiece.feature_set_enrichment.score_set_new(fe_, sc_, fe1_; pl = false)"
   ]
  },
  {
   "cell_type": "code",
   "execution_count": null,
   "id": "dc2fb2d2",
   "metadata": {
    "execution": {
     "iopub.execute_input": "2022-02-09T02:47:07.078990Z",
     "iopub.status.busy": "2022-02-09T02:47:07.078368Z",
     "iopub.status.idle": "2022-02-09T02:47:07.392296Z",
     "shell.execute_reply": "2022-02-09T02:47:07.314308Z"
    }
   },
   "outputs": [],
   "source": [
    "OnePiece.feature_set_enrichment.score_set_new(fe_, sc_, fe1_)"
   ]
  },
  {
   "cell_type": "markdown",
   "id": "f7052fba",
   "metadata": {},
   "source": [
    "## score_set (? n)"
   ]
  },
  {
   "cell_type": "code",
   "execution_count": null,
   "id": "3d4df309",
   "metadata": {
    "execution": {
     "iopub.execute_input": "2022-02-09T02:47:07.394207Z",
     "iopub.status.busy": "2022-02-09T02:47:07.393645Z",
     "iopub.status.idle": "2022-02-09T02:47:07.408017Z",
     "shell.execute_reply": "2022-02-09T02:47:07.407481Z"
    }
   },
   "outputs": [],
   "source": [
    "se_fe_ = OnePiece.io.gmt.read(\n",
    "    joinpath(@__DIR__, \"feature_set_enrichment.data\", \"h.all.v7.1.symbols.gmt\"),\n",
    ")\n",
    "\n",
    ";"
   ]
  },
  {
   "cell_type": "markdown",
   "id": "4766e9c6",
   "metadata": {},
   "source": [
    "## score_set (1 n)"
   ]
  },
  {
   "cell_type": "code",
   "execution_count": null,
   "id": "1679bed5",
   "metadata": {
    "execution": {
     "iopub.execute_input": "2022-02-09T02:47:07.410114Z",
     "iopub.status.busy": "2022-02-09T02:47:07.409456Z",
     "iopub.status.idle": "2022-02-09T02:47:19.989968Z",
     "shell.execute_reply": "2022-02-09T02:47:19.989569Z"
    }
   },
   "outputs": [],
   "source": [
    "@btime OnePiece.feature_set_enrichment.score_set(fe_, sc_, se_fe_)"
   ]
  },
  {
   "cell_type": "markdown",
   "id": "d18c90c2",
   "metadata": {},
   "source": [
    "## score_set_new (1 n)"
   ]
  },
  {
   "cell_type": "code",
   "execution_count": null,
   "id": "a6ac1e10",
   "metadata": {
    "execution": {
     "iopub.execute_input": "2022-02-09T02:47:19.991947Z",
     "iopub.status.busy": "2022-02-09T02:47:19.991412Z",
     "iopub.status.idle": "2022-02-09T02:47:32.375143Z",
     "shell.execute_reply": "2022-02-09T02:47:32.374755Z"
    }
   },
   "outputs": [],
   "source": [
    "@btime OnePiece.feature_set_enrichment.score_set_new(fe_, sc_, se_fe_)"
   ]
  },
  {
   "cell_type": "markdown",
   "id": "73665aeb",
   "metadata": {},
   "source": [
    "## score_set (n n)"
   ]
  },
  {
   "cell_type": "code",
   "execution_count": null,
   "id": "d1dae9b2",
   "metadata": {
    "execution": {
     "iopub.execute_input": "2022-02-09T02:47:32.377025Z",
     "iopub.status.busy": "2022-02-09T02:47:32.376520Z",
     "iopub.status.idle": "2022-02-09T02:47:48.186302Z",
     "shell.execute_reply": "2022-02-09T02:47:48.185059Z"
    }
   },
   "outputs": [],
   "source": [
    "sc_fe_sa = DataFrame(\n",
    "    \"Feature\" => fe_,\n",
    "    \"Score\" => sc_,\n",
    "    \"Score x 10\" => sc_ * 10,\n",
    "    \"Constant\" => fill(0.8, length(fe_)),\n",
    ")\n",
    "\n",
    "@btime OnePiece.feature_set_enrichment.score_set(sc_fe_sa, se_fe_; n_jo = 1)"
   ]
  },
  {
   "cell_type": "markdown",
   "id": "94460707",
   "metadata": {},
   "source": [
    "## try_method"
   ]
  },
  {
   "cell_type": "code",
   "execution_count": null,
   "id": "2893cb57",
   "metadata": {
    "execution": {
     "iopub.execute_input": "2022-02-09T02:47:48.188214Z",
     "iopub.status.busy": "2022-02-09T02:47:48.187694Z",
     "iopub.status.idle": "2022-02-09T02:47:50.807200Z",
     "shell.execute_reply": "2022-02-09T02:47:50.806730Z"
    }
   },
   "outputs": [],
   "source": [
    "OnePiece.feature_set_enrichment.try_method(fe_, sc_, fe1_; plp = false)"
   ]
  }
 ],
 "metadata": {
  "@webio": {
   "lastCommId": "5a921eb0f4c04e15b2b55486f2c40485",
   "lastKernelId": "6be6db44-0b8d-411c-afba-58c31e550920"
  },
  "kernelspec": {
   "display_name": "Julia 1.7.1",
   "language": "julia",
   "name": "julia-1.7"
  },
  "language_info": {
   "file_extension": ".jl",
   "mimetype": "application/julia",
   "name": "julia",
   "version": "1.7.2"
  }
 },
 "nbformat": 4,
 "nbformat_minor": 5
}
