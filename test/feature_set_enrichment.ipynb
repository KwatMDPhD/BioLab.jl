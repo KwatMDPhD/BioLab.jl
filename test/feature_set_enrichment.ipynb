{
 "cells": [
  {
   "cell_type": "code",
   "execution_count": null,
   "id": "017464da",
   "metadata": {
    "execution": {
     "iopub.execute_input": "2022-02-13T22:28:03.112519Z",
     "iopub.status.busy": "2022-02-13T22:28:02.692116Z",
     "iopub.status.idle": "2022-02-13T22:28:03.337626Z",
     "shell.execute_reply": "2022-02-13T22:28:03.337120Z"
    }
   },
   "outputs": [],
   "source": [
    "TE = joinpath(tempdir(), \"OnePiece.test\")\n",
    "\n",
    "if isdir(TE)\n",
    "\n",
    "    rm(TE, recursive = true)\n",
    "\n",
    "    println(\"Removed \", TE, \".\")\n",
    "\n",
    "end\n",
    "\n",
    "mkdir(TE)\n",
    "\n",
    "println(\"Made \", TE, \".\")"
   ]
  },
  {
   "cell_type": "code",
   "execution_count": null,
   "id": "34e4701e",
   "metadata": {
    "execution": {
     "iopub.execute_input": "2022-02-13T22:28:03.339501Z",
     "iopub.status.busy": "2022-02-13T22:28:03.338979Z",
     "iopub.status.idle": "2022-02-13T22:28:08.164004Z",
     "shell.execute_reply": "2022-02-13T22:28:08.163457Z"
    }
   },
   "outputs": [],
   "source": [
    "using OnePiece"
   ]
  },
  {
   "cell_type": "markdown",
   "id": "b92a3da9",
   "metadata": {},
   "source": [
    "---"
   ]
  },
  {
   "cell_type": "markdown",
   "id": "ccdb8b26",
   "metadata": {},
   "source": [
    "## get_probability_and_cumulate"
   ]
  },
  {
   "cell_type": "code",
   "execution_count": null,
   "id": "1ba5422d",
   "metadata": {
    "execution": {
     "iopub.execute_input": "2022-02-13T22:28:08.540034Z",
     "iopub.status.busy": "2022-02-13T22:28:08.165685Z",
     "iopub.status.idle": "2022-02-13T22:28:09.384773Z",
     "shell.execute_reply": "2022-02-13T22:28:09.384239Z"
    }
   },
   "outputs": [],
   "source": [
    "OnePiece.feature_set_enrichment.get_probability_and_cumulate([1, 4])"
   ]
  },
  {
   "cell_type": "markdown",
   "id": "f009ac6a",
   "metadata": {},
   "source": [
    "## sum_1_absolute_and_0_count"
   ]
  },
  {
   "cell_type": "code",
   "execution_count": null,
   "id": "6ea9fb15",
   "metadata": {
    "execution": {
     "iopub.execute_input": "2022-02-13T22:28:09.387212Z",
     "iopub.status.busy": "2022-02-13T22:28:09.386704Z",
     "iopub.status.idle": "2022-02-13T22:28:09.707669Z",
     "shell.execute_reply": "2022-02-13T22:28:09.707246Z"
    }
   },
   "outputs": [],
   "source": [
    "OnePiece.feature_set_enrichment.sum_1_absolute_and_0_count(\n",
    "    [-2.0, -1, 0, 1, 2],\n",
    "    convert(Vector{Bool}, [1, 1, 0, 0, 1]),\n",
    ")"
   ]
  },
  {
   "cell_type": "markdown",
   "id": "8a6e1061",
   "metadata": {},
   "source": [
    "## make_benchmark"
   ]
  },
  {
   "cell_type": "code",
   "execution_count": null,
   "id": "4c20ec75",
   "metadata": {
    "execution": {
     "iopub.execute_input": "2022-02-13T22:28:09.709608Z",
     "iopub.status.busy": "2022-02-13T22:28:09.709099Z",
     "iopub.status.idle": "2022-02-13T22:28:17.634226Z",
     "shell.execute_reply": "2022-02-13T22:28:17.633808Z"
    }
   },
   "outputs": [],
   "source": [
    "try\n",
    "\n",
    "    OnePiece.feature_set_enrichment.make_benchmark(\"card 12K\")\n",
    "\n",
    "catch er\n",
    "\n",
    "    er\n",
    "\n",
    "end"
   ]
  },
  {
   "cell_type": "code",
   "execution_count": null,
   "id": "68aeeb9b",
   "metadata": {
    "execution": {
     "iopub.execute_input": "2022-02-13T22:28:17.636066Z",
     "iopub.status.busy": "2022-02-13T22:28:17.635535Z",
     "iopub.status.idle": "2022-02-13T22:28:18.179422Z",
     "shell.execute_reply": "2022-02-13T22:28:18.178335Z"
    }
   },
   "outputs": [],
   "source": [
    "OnePiece.feature_set_enrichment.make_benchmark(\"card A2K\")"
   ]
  },
  {
   "cell_type": "code",
   "execution_count": null,
   "id": "a93d4ce0",
   "metadata": {
    "execution": {
     "iopub.execute_input": "2022-02-13T22:28:18.183138Z",
     "iopub.status.busy": "2022-02-13T22:28:18.182049Z",
     "iopub.status.idle": "2022-02-13T22:28:18.633296Z",
     "shell.execute_reply": "2022-02-13T22:28:18.632806Z"
    }
   },
   "outputs": [],
   "source": [
    "OnePiece.feature_set_enrichment.make_benchmark(\"random 3 2\")"
   ]
  },
  {
   "cell_type": "code",
   "execution_count": null,
   "id": "a0f3bce7",
   "metadata": {
    "execution": {
     "iopub.execute_input": "2022-02-13T22:28:18.635415Z",
     "iopub.status.busy": "2022-02-13T22:28:18.634809Z",
     "iopub.status.idle": "2022-02-13T22:28:18.637784Z",
     "shell.execute_reply": "2022-02-13T22:28:18.637218Z"
    }
   },
   "outputs": [],
   "source": [
    "OnePiece.feature_set_enrichment.make_benchmark(\"random 4 2\")"
   ]
  },
  {
   "cell_type": "code",
   "execution_count": null,
   "id": "86bfbc58",
   "metadata": {
    "execution": {
     "iopub.execute_input": "2022-02-13T22:28:18.639788Z",
     "iopub.status.busy": "2022-02-13T22:28:18.639170Z",
     "iopub.status.idle": "2022-02-13T22:28:31.992066Z",
     "shell.execute_reply": "2022-02-13T22:28:31.991629Z"
    }
   },
   "outputs": [],
   "source": [
    "fe_, sc_, fe1_ = OnePiece.feature_set_enrichment.make_benchmark(\"myc\")\n",
    "\n",
    "println(length(fe_))\n",
    "\n",
    "println(length(sc_))\n",
    "\n",
    "println(length(fe1_))"
   ]
  },
  {
   "cell_type": "markdown",
   "id": "337971f7",
   "metadata": {},
   "source": [
    "## plot_mountain"
   ]
  },
  {
   "cell_type": "code",
   "execution_count": null,
   "id": "e74b541b",
   "metadata": {
    "execution": {
     "iopub.execute_input": "2022-02-13T22:28:31.994217Z",
     "iopub.status.busy": "2022-02-13T22:28:31.993505Z",
     "iopub.status.idle": "2022-02-13T22:28:31.994826Z",
     "shell.execute_reply": "2022-02-13T22:28:31.995175Z"
    }
   },
   "outputs": [],
   "source": [
    "fe_, sc_, fe1_ = OnePiece.feature_set_enrichment.make_benchmark(\"card AK\")\n",
    "\n",
    ";"
   ]
  },
  {
   "cell_type": "code",
   "execution_count": null,
   "id": "58f279e2",
   "metadata": {
    "execution": {
     "iopub.execute_input": "2022-02-13T22:28:31.997946Z",
     "iopub.status.busy": "2022-02-13T22:28:31.997434Z",
     "iopub.status.idle": "2022-02-13T22:28:34.911984Z",
     "shell.execute_reply": "2022-02-13T22:28:34.911433Z"
    }
   },
   "outputs": [],
   "source": [
    "OnePiece.feature_set_enrichment.score_set(fe_, sc_, fe1_, ou = joinpath(TE, \"mountain.html\"))"
   ]
  },
  {
   "cell_type": "code",
   "execution_count": null,
   "id": "517bc174",
   "metadata": {
    "execution": {
     "iopub.execute_input": "2022-02-13T22:28:34.914339Z",
     "iopub.status.busy": "2022-02-13T22:28:34.913674Z",
     "iopub.status.idle": "2022-02-13T22:28:35.825849Z",
     "shell.execute_reply": "2022-02-13T22:28:35.825422Z"
    }
   },
   "outputs": [],
   "source": [
    "OnePiece.feature_set_enrichment.score_set_new(\n",
    "    fe_,\n",
    "    sc_,\n",
    "    fe1_,\n",
    "    ou = joinpath(TE, \"mountain_new.html\"),\n",
    ")"
   ]
  },
  {
   "cell_type": "markdown",
   "id": "b2ede5e5",
   "metadata": {},
   "source": [
    "## score_set*"
   ]
  },
  {
   "cell_type": "code",
   "execution_count": null,
   "id": "bfe544b8",
   "metadata": {
    "execution": {
     "iopub.execute_input": "2022-02-13T22:28:35.827896Z",
     "iopub.status.busy": "2022-02-13T22:28:35.827301Z",
     "iopub.status.idle": "2022-02-13T22:28:35.830143Z",
     "shell.execute_reply": "2022-02-13T22:28:35.829460Z"
    }
   },
   "outputs": [],
   "source": [
    "using DataFrames"
   ]
  },
  {
   "cell_type": "code",
   "execution_count": null,
   "id": "ee5aff03",
   "metadata": {
    "execution": {
     "iopub.execute_input": "2022-02-13T22:28:35.832076Z",
     "iopub.status.busy": "2022-02-13T22:28:35.831422Z",
     "iopub.status.idle": "2022-02-13T22:28:36.196978Z",
     "shell.execute_reply": "2022-02-13T22:28:36.195783Z"
    }
   },
   "outputs": [],
   "source": [
    "fe_, sc_, fe1_ = OnePiece.feature_set_enrichment.make_benchmark(\"myc\")\n",
    "\n",
    "in_ = OnePiece.extension.vector.is_in(fe_, fe1_)\n",
    "\n",
    "sc_fe_sa = DataFrame(\n",
    "    \"Feature\" => fe_,\n",
    "    \"Score\" => sc_,\n",
    "    \"Score x 10\" => sc_ * 10,\n",
    "    \"Constant\" => fill(0.8, length(fe_)),\n",
    ")\n",
    "\n",
    "se_fe_ = OnePiece.io.gmt.read(\n",
    "    joinpath(@__DIR__, \"feature_set_enrichment.data\", \"h.all.v7.1.symbols.gmt\"),\n",
    ")\n",
    "\n",
    ";"
   ]
  },
  {
   "cell_type": "markdown",
   "id": "b3cd3ef2",
   "metadata": {},
   "source": [
    "### score_set"
   ]
  },
  {
   "cell_type": "code",
   "execution_count": null,
   "id": "871350b7",
   "metadata": {
    "execution": {
     "iopub.execute_input": "2022-02-13T22:28:36.199443Z",
     "iopub.status.busy": "2022-02-13T22:28:36.198948Z",
     "iopub.status.idle": "2022-02-13T22:28:36.264403Z",
     "shell.execute_reply": "2022-02-13T22:28:36.264795Z"
    }
   },
   "outputs": [],
   "source": [
    "OnePiece.feature_set_enrichment.score_set(fe_, sc_, fe1_, in_)"
   ]
  },
  {
   "cell_type": "code",
   "execution_count": null,
   "id": "f1d3072c",
   "metadata": {
    "execution": {
     "iopub.execute_input": "2022-02-13T22:28:36.267152Z",
     "iopub.status.busy": "2022-02-13T22:28:36.266570Z",
     "iopub.status.idle": "2022-02-13T22:28:36.316834Z",
     "shell.execute_reply": "2022-02-13T22:28:36.317586Z"
    }
   },
   "outputs": [],
   "source": [
    "OnePiece.feature_set_enrichment.score_set(fe_, sc_, fe1_)"
   ]
  },
  {
   "cell_type": "code",
   "execution_count": null,
   "id": "3e380333",
   "metadata": {
    "execution": {
     "iopub.execute_input": "2022-02-13T22:28:36.320326Z",
     "iopub.status.busy": "2022-02-13T22:28:36.319605Z",
     "iopub.status.idle": "2022-02-13T22:28:37.791917Z",
     "shell.execute_reply": "2022-02-13T22:28:37.791456Z"
    }
   },
   "outputs": [],
   "source": [
    "OnePiece.feature_set_enrichment.score_set(fe_, sc_, se_fe_)"
   ]
  },
  {
   "cell_type": "code",
   "execution_count": null,
   "id": "f31c3a45",
   "metadata": {
    "execution": {
     "iopub.execute_input": "2022-02-13T22:28:37.793906Z",
     "iopub.status.busy": "2022-02-13T22:28:37.793252Z",
     "iopub.status.idle": "2022-02-13T22:28:41.984810Z",
     "shell.execute_reply": "2022-02-13T22:28:41.983318Z"
    }
   },
   "outputs": [],
   "source": [
    "OnePiece.feature_set_enrichment.score_set(sc_fe_sa, se_fe_)"
   ]
  },
  {
   "cell_type": "markdown",
   "id": "b955b922",
   "metadata": {},
   "source": [
    "### score_set_new"
   ]
  },
  {
   "cell_type": "code",
   "execution_count": null,
   "id": "dc2fb2d2",
   "metadata": {
    "execution": {
     "iopub.execute_input": "2022-02-13T22:28:41.986855Z",
     "iopub.status.busy": "2022-02-13T22:28:41.986272Z",
     "iopub.status.idle": "2022-02-13T22:28:42.112162Z",
     "shell.execute_reply": "2022-02-13T22:28:42.112556Z"
    }
   },
   "outputs": [],
   "source": [
    "OnePiece.feature_set_enrichment.score_set_new(fe_, sc_, fe1_)"
   ]
  },
  {
   "cell_type": "code",
   "execution_count": null,
   "id": "a6ac1e10",
   "metadata": {
    "execution": {
     "iopub.execute_input": "2022-02-13T22:28:42.115178Z",
     "iopub.status.busy": "2022-02-13T22:28:42.114301Z",
     "iopub.status.idle": "2022-02-13T22:28:43.061547Z",
     "shell.execute_reply": "2022-02-13T22:28:43.061077Z"
    }
   },
   "outputs": [],
   "source": [
    "OnePiece.feature_set_enrichment.score_set_new(fe_, sc_, se_fe_)"
   ]
  },
  {
   "cell_type": "markdown",
   "id": "94460707",
   "metadata": {},
   "source": [
    "## try_method"
   ]
  },
  {
   "cell_type": "code",
   "execution_count": null,
   "id": "2893cb57",
   "metadata": {
    "execution": {
     "iopub.execute_input": "2022-02-13T22:28:43.063874Z",
     "iopub.status.busy": "2022-02-13T22:28:43.063198Z",
     "iopub.status.idle": "2022-02-13T22:28:44.809252Z",
     "shell.execute_reply": "2022-02-13T22:28:44.808868Z"
    }
   },
   "outputs": [],
   "source": [
    "OnePiece.feature_set_enrichment.try_method(fe_, sc_, fe1_, plp = false)"
   ]
  },
  {
   "cell_type": "markdown",
   "id": "3f396855",
   "metadata": {},
   "source": [
    "---"
   ]
  },
  {
   "cell_type": "code",
   "execution_count": null,
   "id": "b4af2023",
   "metadata": {
    "execution": {
     "iopub.execute_input": "2022-02-13T22:28:44.811264Z",
     "iopub.status.busy": "2022-02-13T22:28:44.810751Z",
     "iopub.status.idle": "2022-02-13T22:28:44.814214Z",
     "shell.execute_reply": "2022-02-13T22:28:44.813746Z"
    }
   },
   "outputs": [],
   "source": [
    "if isdir(TE)\n",
    "\n",
    "    rm(TE, recursive = true)\n",
    "\n",
    "    println(\"Removed \", TE, \".\")\n",
    "\n",
    "end"
   ]
  }
 ],
 "metadata": {
  "kernelspec": {
   "display_name": "Julia 1.7.2",
   "language": "julia",
   "name": "julia-1.7"
  },
  "language_info": {
   "file_extension": ".jl",
   "mimetype": "application/julia",
   "name": "julia",
   "version": "1.7.2"
  }
 },
 "nbformat": 4,
 "nbformat_minor": 5
}
