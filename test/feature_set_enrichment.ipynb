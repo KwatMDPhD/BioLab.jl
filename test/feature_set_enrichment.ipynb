{
 "cells": [
  {
   "cell_type": "code",
   "execution_count": null,
   "id": "34e4701e",
   "metadata": {
    "execution": {
     "iopub.execute_input": "2022-02-05T03:43:35.643278Z",
     "iopub.status.busy": "2022-02-05T03:43:35.233440Z",
     "iopub.status.idle": "2022-02-05T03:43:36.527551Z",
     "shell.execute_reply": "2022-02-05T03:43:36.526978Z"
    }
   },
   "outputs": [],
   "source": [
    "using Revise\n",
    "using BenchmarkTools"
   ]
  },
  {
   "cell_type": "code",
   "execution_count": null,
   "id": "e0b39736",
   "metadata": {
    "execution": {
     "iopub.execute_input": "2022-02-05T03:43:36.529580Z",
     "iopub.status.busy": "2022-02-05T03:43:36.528997Z",
     "iopub.status.idle": "2022-02-05T03:43:50.337344Z",
     "shell.execute_reply": "2022-02-05T03:43:50.336789Z"
    }
   },
   "outputs": [],
   "source": [
    "using DataFrames\n",
    "\n",
    "using OnePiece"
   ]
  },
  {
   "cell_type": "markdown",
   "id": "ccdb8b26",
   "metadata": {},
   "source": [
    "## get_probability_and_cumulate"
   ]
  },
  {
   "cell_type": "code",
   "execution_count": null,
   "id": "1ba5422d",
   "metadata": {
    "execution": {
     "iopub.execute_input": "2022-02-05T03:43:52.394380Z",
     "iopub.status.busy": "2022-02-05T03:43:50.338844Z",
     "iopub.status.idle": "2022-02-05T03:43:53.907101Z",
     "shell.execute_reply": "2022-02-05T03:43:53.906654Z"
    }
   },
   "outputs": [],
   "source": [
    "ve = [1, 4]\n",
    "\n",
    "OnePiece.feature_set_enrichment.get_probability_and_cumulate(ve)"
   ]
  },
  {
   "cell_type": "markdown",
   "id": "f009ac6a",
   "metadata": {},
   "source": [
    "## sum_1_absolute_and_0_count"
   ]
  },
  {
   "cell_type": "code",
   "execution_count": null,
   "id": "6ea9fb15",
   "metadata": {
    "execution": {
     "iopub.execute_input": "2022-02-05T03:43:53.909056Z",
     "iopub.status.busy": "2022-02-05T03:43:53.908491Z",
     "iopub.status.idle": "2022-02-05T03:43:54.216707Z",
     "shell.execute_reply": "2022-02-05T03:43:54.216321Z"
    }
   },
   "outputs": [],
   "source": [
    "# Enforcing Float64 everywhere resulted in 9.3ns\n",
    "\n",
    "ve = [-2.0, -1, 0, 1, 2]\n",
    "\n",
    "in_ = [1, 1, 0, 0, 1]\n",
    "\n",
    "@btime OnePiece.feature_set_enrichment.sum_1_absolute_and_0_count(ve, in_)"
   ]
  },
  {
   "cell_type": "markdown",
   "id": "8a6e1061",
   "metadata": {},
   "source": [
    "## make_benchmark"
   ]
  },
  {
   "cell_type": "code",
   "execution_count": null,
   "id": "4c20ec75",
   "metadata": {
    "execution": {
     "iopub.execute_input": "2022-02-05T03:43:54.218677Z",
     "iopub.status.busy": "2022-02-05T03:43:54.218043Z",
     "iopub.status.idle": "2022-02-05T03:44:01.793202Z",
     "shell.execute_reply": "2022-02-05T03:44:01.792732Z"
    }
   },
   "outputs": [],
   "source": [
    "try\n",
    "\n",
    "    OnePiece.feature_set_enrichment.make_benchmark(\"card 12K\")\n",
    "\n",
    "catch er\n",
    "\n",
    "    er\n",
    "\n",
    "end"
   ]
  },
  {
   "cell_type": "code",
   "execution_count": null,
   "id": "68aeeb9b",
   "metadata": {
    "execution": {
     "iopub.execute_input": "2022-02-05T03:44:01.795161Z",
     "iopub.status.busy": "2022-02-05T03:44:01.794562Z",
     "iopub.status.idle": "2022-02-05T03:44:02.259604Z",
     "shell.execute_reply": "2022-02-05T03:44:02.259064Z"
    }
   },
   "outputs": [],
   "source": [
    "OnePiece.feature_set_enrichment.make_benchmark(\"card A2K\")"
   ]
  },
  {
   "cell_type": "code",
   "execution_count": null,
   "id": "a93d4ce0",
   "metadata": {
    "execution": {
     "iopub.execute_input": "2022-02-05T03:44:02.261489Z",
     "iopub.status.busy": "2022-02-05T03:44:02.260874Z",
     "iopub.status.idle": "2022-02-05T03:44:02.698619Z",
     "shell.execute_reply": "2022-02-05T03:44:02.698169Z"
    }
   },
   "outputs": [],
   "source": [
    "OnePiece.feature_set_enrichment.make_benchmark(\"random 3 2\")"
   ]
  },
  {
   "cell_type": "code",
   "execution_count": null,
   "id": "a0f3bce7",
   "metadata": {},
   "outputs": [],
   "source": [
    "OnePiece.feature_set_enrichment.make_benchmark(\"random 4 2\")"
   ]
  },
  {
   "cell_type": "code",
   "execution_count": null,
   "id": "86bfbc58",
   "metadata": {},
   "outputs": [],
   "source": [
    "fe_, sc_, fe1_ = OnePiece.feature_set_enrichment.make_benchmark(\"myc\")\n",
    "\n",
    "println(length(fe_))\n",
    "\n",
    "println(length(sc_))\n",
    "\n",
    "println(length(fe1_))"
   ]
  },
  {
   "cell_type": "markdown",
   "id": "337971f7",
   "metadata": {},
   "source": [
    "## plot_mountain"
   ]
  },
  {
   "cell_type": "code",
   "execution_count": null,
   "id": "e74b541b",
   "metadata": {
    "execution": {
     "iopub.execute_input": "2022-02-05T03:44:02.700656Z",
     "iopub.status.busy": "2022-02-05T03:44:02.699992Z",
     "iopub.status.idle": "2022-02-05T03:44:02.735244Z",
     "shell.execute_reply": "2022-02-05T03:44:02.734683Z"
    }
   },
   "outputs": [],
   "source": [
    "fe_, sc_, fe1_ = OnePiece.feature_set_enrichment.make_benchmark(\"card AK\")\n",
    "\n",
    ";"
   ]
  },
  {
   "cell_type": "code",
   "execution_count": null,
   "id": "517bc174",
   "metadata": {
    "execution": {
     "iopub.execute_input": "2022-02-05T03:44:02.737928Z",
     "iopub.status.busy": "2022-02-05T03:44:02.737190Z",
     "iopub.status.idle": "2022-02-05T03:44:12.329480Z",
     "shell.execute_reply": "2022-02-05T03:44:12.329035Z"
    }
   },
   "outputs": [],
   "source": [
    "OnePiece.feature_set_enrichment.score_set(fe_, sc_, fe1_; si = false)"
   ]
  },
  {
   "cell_type": "code",
   "execution_count": null,
   "id": "7a2a9a37",
   "metadata": {
    "execution": {
     "iopub.execute_input": "2022-02-05T03:44:12.331585Z",
     "iopub.status.busy": "2022-02-05T03:44:12.330912Z",
     "iopub.status.idle": "2022-02-05T03:44:12.800753Z",
     "shell.execute_reply": "2022-02-05T03:44:12.800335Z"
    }
   },
   "outputs": [],
   "source": [
    "OnePiece.feature_set_enrichment.score_set_new(fe_, sc_, fe1_)"
   ]
  },
  {
   "cell_type": "code",
   "execution_count": null,
   "id": "ee5aff03",
   "metadata": {
    "execution": {
     "iopub.execute_input": "2022-02-05T03:44:12.802780Z",
     "iopub.status.busy": "2022-02-05T03:44:12.802120Z",
     "iopub.status.idle": "2022-02-05T03:44:25.812183Z",
     "shell.execute_reply": "2022-02-05T03:44:25.811662Z"
    }
   },
   "outputs": [],
   "source": [
    "fe_, sc_, fe1_ = OnePiece.feature_set_enrichment.make_benchmark(\"myc\")\n",
    "\n",
    "in_ = OnePiece.extension.vector.is_in(fe_, fe1_)\n",
    "\n",
    ";"
   ]
  },
  {
   "cell_type": "markdown",
   "id": "b05aefbe",
   "metadata": {},
   "source": [
    "## score_set (1 1)"
   ]
  },
  {
   "cell_type": "code",
   "execution_count": null,
   "id": "2e64a87c",
   "metadata": {
    "execution": {
     "iopub.execute_input": "2022-02-05T03:44:25.814095Z",
     "iopub.status.busy": "2022-02-05T03:44:25.813473Z",
     "iopub.status.idle": "2022-02-05T03:44:38.693119Z",
     "shell.execute_reply": "2022-02-05T03:44:38.692655Z"
    }
   },
   "outputs": [],
   "source": [
    "@btime OnePiece.extension.vector.is_in(fe_, fe1_)"
   ]
  },
  {
   "cell_type": "code",
   "execution_count": null,
   "id": "f1ccc530",
   "metadata": {
    "execution": {
     "iopub.execute_input": "2022-02-05T03:44:38.695073Z",
     "iopub.status.busy": "2022-02-05T03:44:38.694431Z",
     "iopub.status.idle": "2022-02-05T03:44:45.668274Z",
     "shell.execute_reply": "2022-02-05T03:44:45.667872Z"
    }
   },
   "outputs": [],
   "source": [
    "@btime OnePiece.feature_set_enrichment.score_set(fe_, sc_, fe1_, in_; pl = false)"
   ]
  },
  {
   "cell_type": "code",
   "execution_count": null,
   "id": "e5fa6eb9",
   "metadata": {
    "execution": {
     "iopub.execute_input": "2022-02-05T03:44:45.670107Z",
     "iopub.status.busy": "2022-02-05T03:44:45.669558Z",
     "iopub.status.idle": "2022-02-05T03:44:56.936632Z",
     "shell.execute_reply": "2022-02-05T03:44:56.936220Z"
    }
   },
   "outputs": [],
   "source": [
    "@btime OnePiece.feature_set_enrichment.score_set(fe_, sc_, fe1_; pl = false)"
   ]
  },
  {
   "cell_type": "code",
   "execution_count": null,
   "id": "d0b57976",
   "metadata": {
    "execution": {
     "iopub.execute_input": "2022-02-05T03:44:56.940816Z",
     "iopub.status.busy": "2022-02-05T03:44:56.940319Z",
     "iopub.status.idle": "2022-02-05T03:44:57.268447Z",
     "shell.execute_reply": "2022-02-05T03:44:57.182832Z"
    }
   },
   "outputs": [],
   "source": [
    "OnePiece.feature_set_enrichment.score_set(fe_, sc_, fe1_)"
   ]
  },
  {
   "cell_type": "markdown",
   "id": "b955b922",
   "metadata": {},
   "source": [
    "## sc_se_new (1 1)"
   ]
  },
  {
   "cell_type": "code",
   "execution_count": null,
   "id": "fa48624f",
   "metadata": {
    "execution": {
     "iopub.execute_input": "2022-02-05T03:44:57.270418Z",
     "iopub.status.busy": "2022-02-05T03:44:57.269912Z",
     "iopub.status.idle": "2022-02-05T03:45:08.580565Z",
     "shell.execute_reply": "2022-02-05T03:45:08.580106Z"
    }
   },
   "outputs": [],
   "source": [
    "@btime OnePiece.feature_set_enrichment.score_set_new(fe_, sc_, fe1_; pl = false)"
   ]
  },
  {
   "cell_type": "code",
   "execution_count": null,
   "id": "54c0a676",
   "metadata": {
    "execution": {
     "iopub.execute_input": "2022-02-05T03:45:08.584397Z",
     "iopub.status.busy": "2022-02-05T03:45:08.583830Z",
     "iopub.status.idle": "2022-02-05T03:45:08.892972Z",
     "shell.execute_reply": "2022-02-05T03:45:08.817295Z"
    }
   },
   "outputs": [],
   "source": [
    "OnePiece.feature_set_enrichment.score_set_new(fe_, sc_, fe1_)"
   ]
  },
  {
   "cell_type": "code",
   "execution_count": null,
   "id": "3d4df309",
   "metadata": {
    "execution": {
     "iopub.execute_input": "2022-02-05T03:45:08.895176Z",
     "iopub.status.busy": "2022-02-05T03:45:08.894571Z",
     "iopub.status.idle": "2022-02-05T03:45:08.909651Z",
     "shell.execute_reply": "2022-02-05T03:45:08.909118Z"
    }
   },
   "outputs": [],
   "source": [
    "se_fe_ = OnePiece.io.gmt.read(\n",
    "    joinpath(@__DIR__, \"feature_set_enrichment.data\", \"h.all.v7.1.symbols.gmt\"),\n",
    ")\n",
    "\n",
    ";"
   ]
  },
  {
   "cell_type": "markdown",
   "id": "4766e9c6",
   "metadata": {},
   "source": [
    "## score_set (1 n)"
   ]
  },
  {
   "cell_type": "code",
   "execution_count": null,
   "id": "1679bed5",
   "metadata": {
    "execution": {
     "iopub.execute_input": "2022-02-05T03:45:08.911653Z",
     "iopub.status.busy": "2022-02-05T03:45:08.911026Z",
     "iopub.status.idle": "2022-02-05T03:45:21.132163Z",
     "shell.execute_reply": "2022-02-05T03:45:21.131775Z"
    }
   },
   "outputs": [],
   "source": [
    "@btime OnePiece.feature_set_enrichment.score_set(fe_, sc_, se_fe_)"
   ]
  },
  {
   "cell_type": "markdown",
   "id": "d18c90c2",
   "metadata": {},
   "source": [
    "## sc_se_new (1 n)"
   ]
  },
  {
   "cell_type": "code",
   "execution_count": null,
   "id": "a6ac1e10",
   "metadata": {
    "execution": {
     "iopub.execute_input": "2022-02-05T03:45:21.133930Z",
     "iopub.status.busy": "2022-02-05T03:45:21.133437Z",
     "iopub.status.idle": "2022-02-05T03:45:33.022635Z",
     "shell.execute_reply": "2022-02-05T03:45:33.022116Z"
    }
   },
   "outputs": [],
   "source": [
    "@btime OnePiece.feature_set_enrichment.score_set_new(fe_, sc_, se_fe_)"
   ]
  },
  {
   "cell_type": "markdown",
   "id": "73665aeb",
   "metadata": {},
   "source": [
    "## score_set (n n)"
   ]
  },
  {
   "cell_type": "code",
   "execution_count": null,
   "id": "d1dae9b2",
   "metadata": {
    "execution": {
     "iopub.execute_input": "2022-02-05T03:45:33.025120Z",
     "iopub.status.busy": "2022-02-05T03:45:33.024473Z",
     "iopub.status.idle": "2022-02-05T03:45:48.827803Z",
     "shell.execute_reply": "2022-02-05T03:45:48.827340Z"
    }
   },
   "outputs": [],
   "source": [
    "sc_fe_sa = DataFrame(\n",
    "    \"Feature\" => fe_,\n",
    "    \"Score\" => sc_,\n",
    "    \"Score x 10\" => sc_ * 10,\n",
    "    \"Constant\" => fill(0.8, length(fe_)),\n",
    ")\n",
    "\n",
    "@btime OnePiece.feature_set_enrichment.score_set(sc_fe_sa, se_fe_; n_jo = 1)"
   ]
  },
  {
   "cell_type": "markdown",
   "id": "94460707",
   "metadata": {},
   "source": [
    "## try_method"
   ]
  },
  {
   "cell_type": "code",
   "execution_count": null,
   "id": "2893cb57",
   "metadata": {
    "execution": {
     "iopub.execute_input": "2022-02-05T03:45:48.829670Z",
     "iopub.status.busy": "2022-02-05T03:45:48.829163Z",
     "iopub.status.idle": "2022-02-05T03:46:10.686199Z",
     "shell.execute_reply": "2022-02-05T03:46:10.685816Z"
    }
   },
   "outputs": [],
   "source": [
    "OnePiece.feature_set_enrichment.try_method(fe_, sc_, fe1_; plp = false)"
   ]
  }
 ],
 "metadata": {
  "@webio": {
   "lastCommId": "7eb1c76518844bc78f1723d40ade39c4",
   "lastKernelId": "6be6db44-0b8d-411c-afba-58c31e550920"
  },
  "kernelspec": {
   "display_name": "Julia 1.7.1",
   "language": "julia",
   "name": "julia-1.7"
  },
  "language_info": {
   "file_extension": ".jl",
   "mimetype": "application/julia",
   "name": "julia",
   "version": "1.7.1"
  }
 },
 "nbformat": 4,
 "nbformat_minor": 5
}
