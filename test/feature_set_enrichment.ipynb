{
 "cells": [
  {
   "cell_type": "code",
   "execution_count": null,
   "id": "34e4701e",
   "metadata": {
    "execution": {
     "iopub.execute_input": "2022-02-09T05:41:01.063548Z",
     "iopub.status.busy": "2022-02-09T05:41:00.652228Z",
     "iopub.status.idle": "2022-02-09T05:41:02.104219Z",
     "shell.execute_reply": "2022-02-09T05:41:02.103615Z"
    }
   },
   "outputs": [],
   "source": [
    "using Revise\n",
    "using BenchmarkTools"
   ]
  },
  {
   "cell_type": "code",
   "execution_count": null,
   "id": "e0b39736",
   "metadata": {
    "execution": {
     "iopub.execute_input": "2022-02-09T05:41:02.106116Z",
     "iopub.status.busy": "2022-02-09T05:41:02.105516Z",
     "iopub.status.idle": "2022-02-09T05:41:13.853475Z",
     "shell.execute_reply": "2022-02-09T05:41:13.852867Z"
    }
   },
   "outputs": [],
   "source": [
    "using DataFrames\n",
    "\n",
    "using OnePiece"
   ]
  },
  {
   "cell_type": "markdown",
   "id": "ccdb8b26",
   "metadata": {},
   "source": [
    "## get_probability_and_cumulate"
   ]
  },
  {
   "cell_type": "code",
   "execution_count": null,
   "id": "1ba5422d",
   "metadata": {
    "execution": {
     "iopub.execute_input": "2022-02-09T05:41:15.620112Z",
     "iopub.status.busy": "2022-02-09T05:41:13.854940Z",
     "iopub.status.idle": "2022-02-09T05:41:16.944663Z",
     "shell.execute_reply": "2022-02-09T05:41:16.944206Z"
    }
   },
   "outputs": [],
   "source": [
    "ve = [1, 4]\n",
    "\n",
    "OnePiece.feature_set_enrichment.get_probability_and_cumulate(ve)"
   ]
  },
  {
   "cell_type": "markdown",
   "id": "f009ac6a",
   "metadata": {},
   "source": [
    "## sum_1_absolute_and_0_count"
   ]
  },
  {
   "cell_type": "code",
   "execution_count": null,
   "id": "6ea9fb15",
   "metadata": {
    "execution": {
     "iopub.execute_input": "2022-02-09T05:41:16.947122Z",
     "iopub.status.busy": "2022-02-09T05:41:16.946517Z",
     "iopub.status.idle": "2022-02-09T05:41:19.284923Z",
     "shell.execute_reply": "2022-02-09T05:41:19.284460Z"
    }
   },
   "outputs": [],
   "source": [
    "ve = [-2.0, -1, 0, 1, 2]\n",
    "\n",
    "in_ = convert(Vector{Bool}, [1, 1, 0, 0, 1])\n",
    "\n",
    "@btime OnePiece.feature_set_enrichment.sum_1_absolute_and_0_count(ve, in_)"
   ]
  },
  {
   "cell_type": "markdown",
   "id": "8a6e1061",
   "metadata": {},
   "source": [
    "## make_benchmark"
   ]
  },
  {
   "cell_type": "code",
   "execution_count": null,
   "id": "4c20ec75",
   "metadata": {
    "execution": {
     "iopub.execute_input": "2022-02-09T05:41:19.286870Z",
     "iopub.status.busy": "2022-02-09T05:41:19.286286Z",
     "iopub.status.idle": "2022-02-09T05:41:28.423597Z",
     "shell.execute_reply": "2022-02-09T05:41:28.423136Z"
    }
   },
   "outputs": [],
   "source": [
    "try\n",
    "\n",
    "    OnePiece.feature_set_enrichment.make_benchmark(\"card 12K\")\n",
    "\n",
    "catch er\n",
    "\n",
    "    er\n",
    "\n",
    "end"
   ]
  },
  {
   "cell_type": "code",
   "execution_count": null,
   "id": "68aeeb9b",
   "metadata": {
    "execution": {
     "iopub.execute_input": "2022-02-09T05:41:28.425492Z",
     "iopub.status.busy": "2022-02-09T05:41:28.424838Z",
     "iopub.status.idle": "2022-02-09T05:41:28.868626Z",
     "shell.execute_reply": "2022-02-09T05:41:28.868170Z"
    }
   },
   "outputs": [],
   "source": [
    "OnePiece.feature_set_enrichment.make_benchmark(\"card A2K\")"
   ]
  },
  {
   "cell_type": "code",
   "execution_count": null,
   "id": "a93d4ce0",
   "metadata": {
    "execution": {
     "iopub.execute_input": "2022-02-09T05:41:28.870519Z",
     "iopub.status.busy": "2022-02-09T05:41:28.869868Z",
     "iopub.status.idle": "2022-02-09T05:41:29.251200Z",
     "shell.execute_reply": "2022-02-09T05:41:29.250803Z"
    }
   },
   "outputs": [],
   "source": [
    "OnePiece.feature_set_enrichment.make_benchmark(\"random 3 2\")"
   ]
  },
  {
   "cell_type": "code",
   "execution_count": null,
   "id": "a0f3bce7",
   "metadata": {
    "execution": {
     "iopub.execute_input": "2022-02-09T05:41:29.252869Z",
     "iopub.status.busy": "2022-02-09T05:41:29.252357Z",
     "iopub.status.idle": "2022-02-09T05:41:29.266595Z",
     "shell.execute_reply": "2022-02-09T05:41:29.266136Z"
    }
   },
   "outputs": [],
   "source": [
    "OnePiece.feature_set_enrichment.make_benchmark(\"random 4 2\")"
   ]
  },
  {
   "cell_type": "code",
   "execution_count": null,
   "id": "86bfbc58",
   "metadata": {
    "execution": {
     "iopub.execute_input": "2022-02-09T05:41:29.268445Z",
     "iopub.status.busy": "2022-02-09T05:41:29.267840Z",
     "iopub.status.idle": "2022-02-09T05:41:44.469706Z",
     "shell.execute_reply": "2022-02-09T05:41:44.469118Z"
    }
   },
   "outputs": [],
   "source": [
    "fe_, sc_, fe1_ = OnePiece.feature_set_enrichment.make_benchmark(\"myc\")\n",
    "\n",
    "println(length(fe_))\n",
    "\n",
    "println(length(sc_))\n",
    "\n",
    "println(length(fe1_))"
   ]
  },
  {
   "cell_type": "markdown",
   "id": "337971f7",
   "metadata": {},
   "source": [
    "## plot_mountain"
   ]
  },
  {
   "cell_type": "code",
   "execution_count": null,
   "id": "e74b541b",
   "metadata": {
    "execution": {
     "iopub.execute_input": "2022-02-09T05:41:44.471648Z",
     "iopub.status.busy": "2022-02-09T05:41:44.471061Z",
     "iopub.status.idle": "2022-02-09T05:41:44.484146Z",
     "shell.execute_reply": "2022-02-09T05:41:44.483623Z"
    }
   },
   "outputs": [],
   "source": [
    "fe_, sc_, fe1_ = OnePiece.feature_set_enrichment.make_benchmark(\"card AK\")\n",
    "\n",
    ";"
   ]
  },
  {
   "cell_type": "code",
   "execution_count": null,
   "id": "517bc174",
   "metadata": {
    "execution": {
     "iopub.execute_input": "2022-02-09T05:41:44.486057Z",
     "iopub.status.busy": "2022-02-09T05:41:44.485447Z",
     "iopub.status.idle": "2022-02-09T05:41:54.235684Z",
     "shell.execute_reply": "2022-02-09T05:41:54.235211Z"
    }
   },
   "outputs": [],
   "source": [
    "OnePiece.feature_set_enrichment.score_set(fe_, sc_, fe1_; si = false)"
   ]
  },
  {
   "cell_type": "code",
   "execution_count": null,
   "id": "7a2a9a37",
   "metadata": {
    "execution": {
     "iopub.execute_input": "2022-02-09T05:41:54.237579Z",
     "iopub.status.busy": "2022-02-09T05:41:54.236928Z",
     "iopub.status.idle": "2022-02-09T05:41:55.211737Z",
     "shell.execute_reply": "2022-02-09T05:41:55.211268Z"
    }
   },
   "outputs": [],
   "source": [
    "OnePiece.feature_set_enrichment.score_set_new(fe_, sc_, fe1_)"
   ]
  },
  {
   "cell_type": "markdown",
   "id": "e6056ac2",
   "metadata": {},
   "source": [
    "## score_set"
   ]
  },
  {
   "cell_type": "code",
   "execution_count": null,
   "id": "ee5aff03",
   "metadata": {
    "execution": {
     "iopub.execute_input": "2022-02-09T05:41:55.213756Z",
     "iopub.status.busy": "2022-02-09T05:41:55.213169Z",
     "iopub.status.idle": "2022-02-09T05:41:55.321568Z",
     "shell.execute_reply": "2022-02-09T05:41:55.320933Z"
    }
   },
   "outputs": [],
   "source": [
    "fe_, sc_, fe1_ = OnePiece.feature_set_enrichment.make_benchmark(\"myc\")\n",
    "\n",
    "in_ = OnePiece.extension.vector.is_in(fe_, fe1_)\n",
    "\n",
    ";"
   ]
  },
  {
   "cell_type": "markdown",
   "id": "b05aefbe",
   "metadata": {},
   "source": [
    "## score_set (1 1)"
   ]
  },
  {
   "cell_type": "code",
   "execution_count": null,
   "id": "51ade553",
   "metadata": {
    "execution": {
     "iopub.execute_input": "2022-02-09T05:41:55.323700Z",
     "iopub.status.busy": "2022-02-09T05:41:55.323024Z",
     "iopub.status.idle": "2022-02-09T05:42:07.668939Z",
     "shell.execute_reply": "2022-02-09T05:42:07.668472Z"
    }
   },
   "outputs": [],
   "source": [
    "@btime OnePiece.extension.vector.is_in(fe_, fe1_)"
   ]
  },
  {
   "cell_type": "code",
   "execution_count": null,
   "id": "f1d3072c",
   "metadata": {
    "execution": {
     "iopub.execute_input": "2022-02-09T05:42:07.670969Z",
     "iopub.status.busy": "2022-02-09T05:42:07.670300Z",
     "iopub.status.idle": "2022-02-09T05:42:14.959712Z",
     "shell.execute_reply": "2022-02-09T05:42:14.959231Z"
    }
   },
   "outputs": [],
   "source": [
    "@btime OnePiece.feature_set_enrichment.score_set(fe_, sc_, fe1_, in_; pl = false)"
   ]
  },
  {
   "cell_type": "code",
   "execution_count": null,
   "id": "db503e6d",
   "metadata": {
    "execution": {
     "iopub.execute_input": "2022-02-09T05:42:14.961652Z",
     "iopub.status.busy": "2022-02-09T05:42:14.961069Z",
     "iopub.status.idle": "2022-02-09T05:42:26.179429Z",
     "shell.execute_reply": "2022-02-09T05:42:26.178710Z"
    }
   },
   "outputs": [],
   "source": [
    "@btime OnePiece.feature_set_enrichment.score_set(fe_, sc_, fe1_; pl = false)"
   ]
  },
  {
   "cell_type": "code",
   "execution_count": null,
   "id": "d0b57976",
   "metadata": {
    "execution": {
     "iopub.execute_input": "2022-02-09T05:42:26.181394Z",
     "iopub.status.busy": "2022-02-09T05:42:26.180874Z",
     "iopub.status.idle": "2022-02-09T05:42:26.548901Z",
     "shell.execute_reply": "2022-02-09T05:42:26.458643Z"
    }
   },
   "outputs": [],
   "source": [
    "OnePiece.feature_set_enrichment.score_set(fe_, sc_, fe1_)"
   ]
  },
  {
   "cell_type": "markdown",
   "id": "b955b922",
   "metadata": {},
   "source": [
    "## score_set_new (1 1)"
   ]
  },
  {
   "cell_type": "code",
   "execution_count": null,
   "id": "fa48624f",
   "metadata": {
    "execution": {
     "iopub.execute_input": "2022-02-09T05:42:26.550914Z",
     "iopub.status.busy": "2022-02-09T05:42:26.550293Z",
     "iopub.status.idle": "2022-02-09T05:42:37.852266Z",
     "shell.execute_reply": "2022-02-09T05:42:37.851811Z"
    }
   },
   "outputs": [],
   "source": [
    "@btime OnePiece.feature_set_enrichment.score_set_new(fe_, sc_, fe1_; pl = false)"
   ]
  },
  {
   "cell_type": "code",
   "execution_count": null,
   "id": "dc2fb2d2",
   "metadata": {
    "execution": {
     "iopub.execute_input": "2022-02-09T05:42:37.854133Z",
     "iopub.status.busy": "2022-02-09T05:42:37.853548Z",
     "iopub.status.idle": "2022-02-09T05:42:38.200751Z",
     "shell.execute_reply": "2022-02-09T05:42:38.199101Z"
    }
   },
   "outputs": [],
   "source": [
    "OnePiece.feature_set_enrichment.score_set_new(fe_, sc_, fe1_)"
   ]
  },
  {
   "cell_type": "markdown",
   "id": "f7052fba",
   "metadata": {},
   "source": [
    "## score_set (? n)"
   ]
  },
  {
   "cell_type": "code",
   "execution_count": null,
   "id": "3d4df309",
   "metadata": {
    "execution": {
     "iopub.execute_input": "2022-02-09T05:42:38.202795Z",
     "iopub.status.busy": "2022-02-09T05:42:38.202258Z",
     "iopub.status.idle": "2022-02-09T05:42:38.217438Z",
     "shell.execute_reply": "2022-02-09T05:42:38.216832Z"
    }
   },
   "outputs": [],
   "source": [
    "se_fe_ = OnePiece.io.gmt.read(\n",
    "    joinpath(@__DIR__, \"feature_set_enrichment.data\", \"h.all.v7.1.symbols.gmt\"),\n",
    ")\n",
    "\n",
    ";"
   ]
  },
  {
   "cell_type": "markdown",
   "id": "4766e9c6",
   "metadata": {},
   "source": [
    "## score_set (1 n)"
   ]
  },
  {
   "cell_type": "code",
   "execution_count": null,
   "id": "1679bed5",
   "metadata": {
    "execution": {
     "iopub.execute_input": "2022-02-09T05:42:38.219408Z",
     "iopub.status.busy": "2022-02-09T05:42:38.218767Z",
     "iopub.status.idle": "2022-02-09T05:42:51.036379Z",
     "shell.execute_reply": "2022-02-09T05:42:51.035897Z"
    }
   },
   "outputs": [],
   "source": [
    "@btime OnePiece.feature_set_enrichment.score_set(fe_, sc_, se_fe_)"
   ]
  },
  {
   "cell_type": "markdown",
   "id": "d18c90c2",
   "metadata": {},
   "source": [
    "## score_set_new (1 n)"
   ]
  },
  {
   "cell_type": "code",
   "execution_count": null,
   "id": "a6ac1e10",
   "metadata": {
    "execution": {
     "iopub.execute_input": "2022-02-09T05:42:51.038326Z",
     "iopub.status.busy": "2022-02-09T05:42:51.037743Z",
     "iopub.status.idle": "2022-02-09T05:43:03.539763Z",
     "shell.execute_reply": "2022-02-09T05:43:03.539281Z"
    }
   },
   "outputs": [],
   "source": [
    "@btime OnePiece.feature_set_enrichment.score_set_new(fe_, sc_, se_fe_)"
   ]
  },
  {
   "cell_type": "markdown",
   "id": "73665aeb",
   "metadata": {},
   "source": [
    "## score_set (n n)"
   ]
  },
  {
   "cell_type": "code",
   "execution_count": null,
   "id": "d1dae9b2",
   "metadata": {
    "execution": {
     "iopub.execute_input": "2022-02-09T05:43:03.541732Z",
     "iopub.status.busy": "2022-02-09T05:43:03.541109Z",
     "iopub.status.idle": "2022-02-09T05:43:20.150273Z",
     "shell.execute_reply": "2022-02-09T05:43:20.149658Z"
    }
   },
   "outputs": [],
   "source": [
    "sc_fe_sa = DataFrame(\n",
    "    \"Feature\" => fe_,\n",
    "    \"Score\" => sc_,\n",
    "    \"Score x 10\" => sc_ * 10,\n",
    "    \"Constant\" => fill(0.8, length(fe_)),\n",
    ")\n",
    "\n",
    "@btime OnePiece.feature_set_enrichment.score_set(sc_fe_sa, se_fe_; n_jo = 1)"
   ]
  },
  {
   "cell_type": "markdown",
   "id": "94460707",
   "metadata": {},
   "source": [
    "## try_method"
   ]
  },
  {
   "cell_type": "code",
   "execution_count": null,
   "id": "2893cb57",
   "metadata": {
    "execution": {
     "iopub.execute_input": "2022-02-09T05:43:20.152619Z",
     "iopub.status.busy": "2022-02-09T05:43:20.152056Z",
     "iopub.status.idle": "2022-02-09T05:43:23.190041Z",
     "shell.execute_reply": "2022-02-09T05:43:23.189544Z"
    }
   },
   "outputs": [],
   "source": [
    "OnePiece.feature_set_enrichment.try_method(fe_, sc_, fe1_; plp = false)"
   ]
  }
 ],
 "metadata": {
  "@webio": {
   "lastCommId": "5a921eb0f4c04e15b2b55486f2c40485",
   "lastKernelId": "6be6db44-0b8d-411c-afba-58c31e550920"
  },
  "kernelspec": {
   "display_name": "Julia 1.7.1",
   "language": "julia",
   "name": "julia-1.7"
  },
  "language_info": {
   "file_extension": ".jl",
   "mimetype": "application/julia",
   "name": "julia",
   "version": "1.7.2"
  }
 },
 "nbformat": 4,
 "nbformat_minor": 5
}
