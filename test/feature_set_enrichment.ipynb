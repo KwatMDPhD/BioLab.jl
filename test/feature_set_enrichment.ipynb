{
 "cells": [
  {
   "cell_type": "code",
   "execution_count": null,
   "id": "c516e796",
   "metadata": {
    "execution": {
     "iopub.execute_input": "2022-08-19T09:35:22.131000Z",
     "iopub.status.busy": "2022-08-19T09:35:21.791000Z",
     "iopub.status.idle": "2022-08-19T09:35:26.798000Z",
     "shell.execute_reply": "2022-08-19T09:35:26.750000Z"
    }
   },
   "outputs": [],
   "source": [
    "using OnePiece"
   ]
  },
  {
   "cell_type": "code",
   "execution_count": null,
   "id": "8f2f5b35",
   "metadata": {
    "execution": {
     "iopub.execute_input": "2022-08-19T09:35:27.405000Z",
     "iopub.status.busy": "2022-08-19T09:35:26.815000Z",
     "iopub.status.idle": "2022-08-19T09:35:28.015000Z",
     "shell.execute_reply": "2022-08-19T09:35:28.014000Z"
    }
   },
   "outputs": [],
   "source": [
    "te = OnePiece.path.make_temporary(\"OnePiece.test.feature_set_enrichment\")"
   ]
  },
  {
   "cell_type": "code",
   "execution_count": null,
   "id": "22c23540",
   "metadata": {
    "execution": {
     "iopub.execute_input": "2022-08-19T09:35:28.018000Z",
     "iopub.status.busy": "2022-08-19T09:35:28.018000Z",
     "iopub.status.idle": "2022-08-19T09:35:28.019000Z",
     "shell.execute_reply": "2022-08-19T09:35:28.019000Z"
    }
   },
   "outputs": [],
   "source": [
    "using DataFrames"
   ]
  },
  {
   "cell_type": "markdown",
   "id": "b5d26adb",
   "metadata": {},
   "source": [
    "## _sum_1_absolute_and_0_count"
   ]
  },
  {
   "cell_type": "code",
   "execution_count": null,
   "id": "1f64a15a",
   "metadata": {
    "execution": {
     "iopub.execute_input": "2022-08-19T09:35:28.024000Z",
     "iopub.status.busy": "2022-08-19T09:35:28.023000Z",
     "iopub.status.idle": "2022-08-19T09:35:28.330000Z",
     "shell.execute_reply": "2022-08-19T09:35:28.330000Z"
    }
   },
   "outputs": [],
   "source": [
    "OnePiece.feature_set_enrichment._sum_1_absolute_and_0_count(\n",
    "    [-2.0, -1, 0, 1, 2],\n",
    "    convert(Vector{Bool}, [1, 1, 0, 0, 1]),\n",
    ")"
   ]
  },
  {
   "cell_type": "markdown",
   "id": "2aa30698",
   "metadata": {},
   "source": [
    "## _cumulate"
   ]
  },
  {
   "cell_type": "code",
   "execution_count": null,
   "id": "f45c4e4f",
   "metadata": {
    "execution": {
     "iopub.execute_input": "2022-08-19T09:35:28.333000Z",
     "iopub.status.busy": "2022-08-19T09:35:28.333000Z",
     "iopub.status.idle": "2022-08-19T09:35:29.195000Z",
     "shell.execute_reply": "2022-08-19T09:35:29.194000Z"
    }
   },
   "outputs": [],
   "source": [
    "ve = [0.1, 0.2, 0.4, 0.2, 0.1]"
   ]
  },
  {
   "cell_type": "code",
   "execution_count": null,
   "id": "90b86247",
   "metadata": {
    "execution": {
     "iopub.execute_input": "2022-08-19T09:35:29.197000Z",
     "iopub.status.busy": "2022-08-19T09:35:29.197000Z",
     "iopub.status.idle": "2022-08-19T09:35:29.218000Z",
     "shell.execute_reply": "2022-08-19T09:35:29.218000Z"
    }
   },
   "outputs": [],
   "source": [
    "cumsum(ve)"
   ]
  },
  {
   "cell_type": "code",
   "execution_count": null,
   "id": "e1f165b7",
   "metadata": {
    "execution": {
     "iopub.execute_input": "2022-08-19T09:35:29.221000Z",
     "iopub.status.busy": "2022-08-19T09:35:29.221000Z",
     "iopub.status.idle": "2022-08-19T09:35:29.260000Z",
     "shell.execute_reply": "2022-08-19T09:35:29.259000Z"
    }
   },
   "outputs": [],
   "source": [
    "1 .- cumsum(ve)"
   ]
  },
  {
   "cell_type": "code",
   "execution_count": null,
   "id": "4988ed4d",
   "metadata": {
    "execution": {
     "iopub.execute_input": "2022-08-19T09:35:29.263000Z",
     "iopub.status.busy": "2022-08-19T09:35:29.263000Z",
     "iopub.status.idle": "2022-08-19T09:35:29.623000Z",
     "shell.execute_reply": "2022-08-19T09:35:29.623000Z"
    }
   },
   "outputs": [],
   "source": [
    "OnePiece.feature_set_enrichment._cumulate(ve)"
   ]
  },
  {
   "cell_type": "markdown",
   "id": "416f5cc1",
   "metadata": {},
   "source": [
    "## _plot_mountain"
   ]
  },
  {
   "cell_type": "code",
   "execution_count": null,
   "id": "ad1ee2bd",
   "metadata": {
    "execution": {
     "iopub.execute_input": "2022-08-19T09:35:29.626000Z",
     "iopub.status.busy": "2022-08-19T09:35:29.626000Z",
     "iopub.status.idle": "2022-08-19T09:35:29.818000Z",
     "shell.execute_reply": "2022-08-19T09:35:29.818000Z"
    }
   },
   "outputs": [],
   "source": [
    "OnePiece.feature_set_enrichment._plot_mountain"
   ]
  },
  {
   "cell_type": "markdown",
   "id": "5c84331f",
   "metadata": {},
   "source": [
    "## make_benchmark"
   ]
  },
  {
   "cell_type": "code",
   "execution_count": null,
   "id": "a6be0bcb",
   "metadata": {
    "execution": {
     "iopub.execute_input": "2022-08-19T09:35:29.821000Z",
     "iopub.status.busy": "2022-08-19T09:35:29.821000Z",
     "iopub.status.idle": "2022-08-19T09:35:36.004000Z",
     "shell.execute_reply": "2022-08-19T09:35:36.004000Z"
    }
   },
   "outputs": [],
   "source": [
    "OnePiece.feature_set_enrichment.make_benchmark(\"card A2K\")"
   ]
  },
  {
   "cell_type": "code",
   "execution_count": null,
   "id": "50f056f8",
   "metadata": {
    "execution": {
     "iopub.execute_input": "2022-08-19T09:35:36.007000Z",
     "iopub.status.busy": "2022-08-19T09:35:36.007000Z",
     "iopub.status.idle": "2022-08-19T09:35:36.358000Z",
     "shell.execute_reply": "2022-08-19T09:35:36.358000Z"
    }
   },
   "outputs": [],
   "source": [
    "OnePiece.feature_set_enrichment.make_benchmark(\"random 3 2\")"
   ]
  },
  {
   "cell_type": "code",
   "execution_count": null,
   "id": "2fd2f9e9",
   "metadata": {
    "execution": {
     "iopub.execute_input": "2022-08-19T09:35:36.361000Z",
     "iopub.status.busy": "2022-08-19T09:35:36.361000Z",
     "iopub.status.idle": "2022-08-19T09:35:36.362000Z",
     "shell.execute_reply": "2022-08-19T09:35:36.362000Z"
    }
   },
   "outputs": [],
   "source": [
    "OnePiece.feature_set_enrichment.make_benchmark(\"random 4 2\")"
   ]
  },
  {
   "cell_type": "code",
   "execution_count": null,
   "id": "ffe60bda",
   "metadata": {
    "execution": {
     "iopub.execute_input": "2022-08-19T09:35:36.365000Z",
     "iopub.status.busy": "2022-08-19T09:35:36.365000Z",
     "iopub.status.idle": "2022-08-19T09:35:42.169000Z",
     "shell.execute_reply": "2022-08-19T09:35:42.169000Z"
    }
   },
   "outputs": [],
   "source": [
    "fe_, sc_, fe1_ = OnePiece.feature_set_enrichment.make_benchmark(\"myc\")\n",
    "\n",
    "println(length(fe_))\n",
    "\n",
    "println(length(sc_))\n",
    "\n",
    "println(length(fe1_))"
   ]
  },
  {
   "cell_type": "markdown",
   "id": "e0005834",
   "metadata": {},
   "source": [
    "## score_set*"
   ]
  },
  {
   "cell_type": "code",
   "execution_count": null,
   "id": "87741f4a",
   "metadata": {
    "execution": {
     "iopub.execute_input": "2022-08-19T09:35:42.174000Z",
     "iopub.status.busy": "2022-08-19T09:35:42.174000Z",
     "iopub.status.idle": "2022-08-19T09:35:42.175000Z",
     "shell.execute_reply": "2022-08-19T09:35:42.175000Z"
    }
   },
   "outputs": [],
   "source": [
    "fe_, sc_, fe1_ = OnePiece.feature_set_enrichment.make_benchmark(\"card AK\")"
   ]
  },
  {
   "cell_type": "markdown",
   "id": "0a5bc30f",
   "metadata": {},
   "source": [
    "## score_set"
   ]
  },
  {
   "cell_type": "code",
   "execution_count": null,
   "id": "2c5d14d0",
   "metadata": {
    "execution": {
     "iopub.execute_input": "2022-08-19T09:35:42.179000Z",
     "iopub.status.busy": "2022-08-19T09:35:42.179000Z",
     "iopub.status.idle": "2022-08-19T09:35:46.550000Z",
     "shell.execute_reply": "2022-08-19T09:35:46.550000Z"
    }
   },
   "outputs": [],
   "source": [
    "OnePiece.feature_set_enrichment.score_set(fe_, sc_, fe1_, ou = joinpath(te, \"mountain.html\"))"
   ]
  },
  {
   "cell_type": "markdown",
   "id": "1610cab2",
   "metadata": {},
   "source": [
    "## score_set_new"
   ]
  },
  {
   "cell_type": "code",
   "execution_count": null,
   "id": "60909b34",
   "metadata": {
    "execution": {
     "iopub.execute_input": "2022-08-19T09:35:46.555000Z",
     "iopub.status.busy": "2022-08-19T09:35:46.555000Z",
     "iopub.status.idle": "2022-08-19T09:35:47.448000Z",
     "shell.execute_reply": "2022-08-19T09:35:47.448000Z"
    }
   },
   "outputs": [],
   "source": [
    "OnePiece.feature_set_enrichment.score_set_new(\n",
    "    fe_,\n",
    "    sc_,\n",
    "    fe1_,\n",
    "    ou = joinpath(te, \"mountain_new.html\"),\n",
    ")"
   ]
  },
  {
   "cell_type": "markdown",
   "id": "a9aef25c",
   "metadata": {},
   "source": [
    "## More"
   ]
  },
  {
   "cell_type": "code",
   "execution_count": null,
   "id": "fd01b6d0",
   "metadata": {
    "execution": {
     "iopub.execute_input": "2022-08-19T09:35:47.451000Z",
     "iopub.status.busy": "2022-08-19T09:35:47.451000Z",
     "iopub.status.idle": "2022-08-19T09:35:47.763000Z",
     "shell.execute_reply": "2022-08-19T09:35:47.763000Z"
    }
   },
   "outputs": [],
   "source": [
    "fe_, sc_, fe1_ = OnePiece.feature_set_enrichment.make_benchmark(\"myc\")\n",
    "\n",
    "in_ = OnePiece.vector.is_in(fe_, fe1_)\n",
    "\n",
    "sc_fe_sa = DataFrame(\n",
    "    \"Feature\" => fe_,\n",
    "    \"Score\" => sc_,\n",
    "    \"Score x 10\" => sc_ * 10,\n",
    "    \"Constant\" => fill(0.8, length(fe_)),\n",
    ")\n",
    "\n",
    "se_fe_ =\n",
    "    OnePiece.gmt.read(joinpath(@__DIR__, \"feature_set_enrichment.data\", \"h.all.v7.1.symbols.gmt\"))\n",
    "\n",
    ";"
   ]
  },
  {
   "cell_type": "markdown",
   "id": "29648e2e",
   "metadata": {},
   "source": [
    "## score_set"
   ]
  },
  {
   "cell_type": "code",
   "execution_count": null,
   "id": "fb14dcef",
   "metadata": {
    "execution": {
     "iopub.execute_input": "2022-08-19T09:35:47.766000Z",
     "iopub.status.busy": "2022-08-19T09:35:47.765000Z",
     "iopub.status.idle": "2022-08-19T09:35:47.800000Z",
     "shell.execute_reply": "2022-08-19T09:35:47.800000Z"
    }
   },
   "outputs": [],
   "source": [
    "OnePiece.feature_set_enrichment.score_set(fe_, sc_, fe1_, in_)"
   ]
  },
  {
   "cell_type": "code",
   "execution_count": null,
   "id": "ca942b2a",
   "metadata": {
    "execution": {
     "iopub.execute_input": "2022-08-19T09:35:47.803000Z",
     "iopub.status.busy": "2022-08-19T09:35:47.803000Z",
     "iopub.status.idle": "2022-08-19T09:35:47.829000Z",
     "shell.execute_reply": "2022-08-19T09:35:47.829000Z"
    }
   },
   "outputs": [],
   "source": [
    "OnePiece.feature_set_enrichment.score_set(fe_, sc_, fe1_)"
   ]
  },
  {
   "cell_type": "code",
   "execution_count": null,
   "id": "cf091ae2",
   "metadata": {
    "execution": {
     "iopub.execute_input": "2022-08-19T09:35:47.833000Z",
     "iopub.status.busy": "2022-08-19T09:35:47.833000Z",
     "iopub.status.idle": "2022-08-19T09:35:49.003000Z",
     "shell.execute_reply": "2022-08-19T09:35:49.002000Z"
    }
   },
   "outputs": [],
   "source": [
    "OnePiece.feature_set_enrichment.score_set(fe_, sc_, se_fe_)"
   ]
  },
  {
   "cell_type": "code",
   "execution_count": null,
   "id": "d97a96a5",
   "metadata": {
    "execution": {
     "iopub.execute_input": "2022-08-19T09:35:49.006000Z",
     "iopub.status.busy": "2022-08-19T09:35:49.006000Z",
     "iopub.status.idle": "2022-08-19T09:35:54.606000Z",
     "shell.execute_reply": "2022-08-19T09:35:54.606000Z"
    }
   },
   "outputs": [],
   "source": [
    "OnePiece.feature_set_enrichment.score_set(sc_fe_sa, se_fe_)"
   ]
  },
  {
   "cell_type": "markdown",
   "id": "0e091e7b",
   "metadata": {},
   "source": [
    "## score_set_new"
   ]
  },
  {
   "cell_type": "code",
   "execution_count": null,
   "id": "2f4480dc",
   "metadata": {
    "execution": {
     "iopub.execute_input": "2022-08-19T09:35:54.609000Z",
     "iopub.status.busy": "2022-08-19T09:35:54.609000Z",
     "iopub.status.idle": "2022-08-19T09:35:54.703000Z",
     "shell.execute_reply": "2022-08-19T09:35:54.703000Z"
    }
   },
   "outputs": [],
   "source": [
    "OnePiece.feature_set_enrichment.score_set_new(fe_, sc_, fe1_)"
   ]
  },
  {
   "cell_type": "code",
   "execution_count": null,
   "id": "c573a195",
   "metadata": {
    "execution": {
     "iopub.execute_input": "2022-08-19T09:35:54.707000Z",
     "iopub.status.busy": "2022-08-19T09:35:54.707000Z",
     "iopub.status.idle": "2022-08-19T09:35:54.878000Z",
     "shell.execute_reply": "2022-08-19T09:35:54.877000Z"
    }
   },
   "outputs": [],
   "source": [
    "OnePiece.feature_set_enrichment.score_set_new(fe_, sc_, se_fe_)"
   ]
  }
 ],
 "metadata": {
  "@webio": {
   "lastCommId": null,
   "lastKernelId": null
  },
  "kernelspec": {
   "display_name": "Julia 1.7.3",
   "language": "julia",
   "name": "julia-1.7"
  },
  "language_info": {
   "file_extension": ".jl",
   "mimetype": "application/julia",
   "name": "julia",
   "version": "1.7.3"
  }
 },
 "nbformat": 4,
 "nbformat_minor": 5
}
