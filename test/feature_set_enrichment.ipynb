{
 "cells": [
  {
   "cell_type": "code",
   "execution_count": null,
   "id": "017464da",
   "metadata": {},
   "outputs": [],
   "source": [
    "TE = joinpath(tempdir(), \"OnePiece.test\")\n",
    "\n",
    "mkpath(TE)"
   ]
  },
  {
   "cell_type": "code",
   "execution_count": 1,
   "id": "34e4701e",
   "metadata": {
    "execution": {
     "iopub.execute_input": "2022-02-10T17:51:23.590384Z",
     "iopub.status.busy": "2022-02-10T17:51:23.250154Z",
     "iopub.status.idle": "2022-02-10T17:51:24.482021Z",
     "shell.execute_reply": "2022-02-10T17:51:24.481306Z"
    }
   },
   "outputs": [],
   "source": [
    "#using Revise\n",
    "using BenchmarkTools\n",
    "\n",
    "using OnePiece"
   ]
  },
  {
   "cell_type": "markdown",
   "id": "ccdb8b26",
   "metadata": {},
   "source": [
    "## get_probability_and_cumulate"
   ]
  },
  {
   "cell_type": "code",
   "execution_count": null,
   "id": "1ba5422d",
   "metadata": {
    "execution": {
     "iopub.execute_input": "2022-02-10T18:25:17.325049Z",
     "iopub.status.busy": "2022-02-10T18:25:16.958185Z",
     "iopub.status.idle": "2022-02-10T18:25:19.300397Z",
     "shell.execute_reply": "2022-02-10T18:25:19.299924Z"
    }
   },
   "outputs": [],
   "source": [
    "ve = [1, 4]\n",
    "\n",
    "OnePiece.feature_set_enrichment.get_probability_and_cumulate(ve)"
   ]
  },
  {
   "cell_type": "markdown",
   "id": "f009ac6a",
   "metadata": {},
   "source": [
    "## sum_1_absolute_and_0_count"
   ]
  },
  {
   "cell_type": "code",
   "execution_count": null,
   "id": "6ea9fb15",
   "metadata": {
    "execution": {
     "iopub.execute_input": "2022-02-10T18:25:19.302338Z",
     "iopub.status.busy": "2022-02-10T18:25:19.301759Z",
     "iopub.status.idle": "2022-02-10T18:25:21.397547Z",
     "shell.execute_reply": "2022-02-10T18:25:21.397078Z"
    }
   },
   "outputs": [],
   "source": [
    "ve = [-2.0, -1, 0, 1, 2]\n",
    "\n",
    "in_ = convert(Vector{Bool}, [1, 1, 0, 0, 1])\n",
    "\n",
    "@btime OnePiece.feature_set_enrichment.sum_1_absolute_and_0_count(ve, in_)"
   ]
  },
  {
   "cell_type": "markdown",
   "id": "8a6e1061",
   "metadata": {},
   "source": [
    "## make_benchmark"
   ]
  },
  {
   "cell_type": "code",
   "execution_count": null,
   "id": "4c20ec75",
   "metadata": {
    "execution": {
     "iopub.execute_input": "2022-02-10T18:25:21.399538Z",
     "iopub.status.busy": "2022-02-10T18:25:21.398962Z",
     "iopub.status.idle": "2022-02-10T18:25:30.548653Z",
     "shell.execute_reply": "2022-02-10T18:25:30.548206Z"
    }
   },
   "outputs": [],
   "source": [
    "try\n",
    "\n",
    "    OnePiece.feature_set_enrichment.make_benchmark(\"card 12K\")\n",
    "\n",
    "catch er\n",
    "\n",
    "    er\n",
    "\n",
    "end"
   ]
  },
  {
   "cell_type": "code",
   "execution_count": null,
   "id": "68aeeb9b",
   "metadata": {
    "execution": {
     "iopub.execute_input": "2022-02-10T18:25:30.550807Z",
     "iopub.status.busy": "2022-02-10T18:25:30.550134Z",
     "iopub.status.idle": "2022-02-10T18:25:31.022077Z",
     "shell.execute_reply": "2022-02-10T18:25:31.021622Z"
    }
   },
   "outputs": [],
   "source": [
    "OnePiece.feature_set_enrichment.make_benchmark(\"card A2K\")"
   ]
  },
  {
   "cell_type": "code",
   "execution_count": null,
   "id": "a93d4ce0",
   "metadata": {
    "execution": {
     "iopub.execute_input": "2022-02-10T18:25:31.023916Z",
     "iopub.status.busy": "2022-02-10T18:25:31.023317Z",
     "iopub.status.idle": "2022-02-10T18:25:31.459988Z",
     "shell.execute_reply": "2022-02-10T18:25:31.459543Z"
    }
   },
   "outputs": [],
   "source": [
    "OnePiece.feature_set_enrichment.make_benchmark(\"random 3 2\")"
   ]
  },
  {
   "cell_type": "code",
   "execution_count": null,
   "id": "a0f3bce7",
   "metadata": {
    "execution": {
     "iopub.execute_input": "2022-02-10T18:25:31.461791Z",
     "iopub.status.busy": "2022-02-10T18:25:31.461215Z",
     "iopub.status.idle": "2022-02-10T18:25:31.475433Z",
     "shell.execute_reply": "2022-02-10T18:25:31.474983Z"
    }
   },
   "outputs": [],
   "source": [
    "OnePiece.feature_set_enrichment.make_benchmark(\"random 4 2\")"
   ]
  },
  {
   "cell_type": "code",
   "execution_count": null,
   "id": "86bfbc58",
   "metadata": {
    "execution": {
     "iopub.execute_input": "2022-02-10T18:25:31.477315Z",
     "iopub.status.busy": "2022-02-10T18:25:31.476733Z",
     "iopub.status.idle": "2022-02-10T18:26:01.408886Z",
     "shell.execute_reply": "2022-02-10T18:26:01.407272Z"
    }
   },
   "outputs": [],
   "source": [
    "fe_, sc_, fe1_ = OnePiece.feature_set_enrichment.make_benchmark(\"myc\")\n",
    "\n",
    "println(length(fe_))\n",
    "\n",
    "println(length(sc_))\n",
    "\n",
    "println(length(fe1_))"
   ]
  },
  {
   "cell_type": "markdown",
   "id": "337971f7",
   "metadata": {},
   "source": [
    "## plot_mountain"
   ]
  },
  {
   "cell_type": "code",
   "execution_count": null,
   "id": "e74b541b",
   "metadata": {
    "execution": {
     "iopub.execute_input": "2022-02-10T18:26:01.414249Z",
     "iopub.status.busy": "2022-02-10T18:26:01.412611Z",
     "iopub.status.idle": "2022-02-10T18:26:01.428894Z",
     "shell.execute_reply": "2022-02-10T18:26:01.427308Z"
    }
   },
   "outputs": [],
   "source": [
    "fe_, sc_, fe1_ = OnePiece.feature_set_enrichment.make_benchmark(\"card AK\")\n",
    "\n",
    ";"
   ]
  },
  {
   "cell_type": "code",
   "execution_count": null,
   "id": "517bc174",
   "metadata": {
    "execution": {
     "iopub.execute_input": "2022-02-10T18:26:01.433761Z",
     "iopub.status.busy": "2022-02-10T18:26:01.432187Z",
     "iopub.status.idle": "2022-02-10T18:26:12.826959Z",
     "shell.execute_reply": "2022-02-10T18:26:12.825616Z"
    }
   },
   "outputs": [],
   "source": [
    "OnePiece.feature_set_enrichment.score_set(fe_, sc_, fe1_; si = false)"
   ]
  },
  {
   "cell_type": "code",
   "execution_count": null,
   "id": "7a2a9a37",
   "metadata": {
    "execution": {
     "iopub.execute_input": "2022-02-10T18:26:12.832194Z",
     "iopub.status.busy": "2022-02-10T18:26:12.830527Z",
     "iopub.status.idle": "2022-02-10T18:26:16.939441Z",
     "shell.execute_reply": "2022-02-10T18:26:16.938104Z"
    }
   },
   "outputs": [],
   "source": [
    "OnePiece.feature_set_enrichment.score_set_new(fe_, sc_, fe1_)"
   ]
  },
  {
   "cell_type": "markdown",
   "id": "e6056ac2",
   "metadata": {},
   "source": [
    "## score_set"
   ]
  },
  {
   "cell_type": "code",
   "execution_count": null,
   "id": "ee5aff03",
   "metadata": {
    "execution": {
     "iopub.execute_input": "2022-02-10T18:26:16.945944Z",
     "iopub.status.busy": "2022-02-10T18:26:16.944062Z",
     "iopub.status.idle": "2022-02-10T18:26:17.537047Z",
     "shell.execute_reply": "2022-02-10T18:26:17.535171Z"
    }
   },
   "outputs": [],
   "source": [
    "fe_, sc_, fe1_ = OnePiece.feature_set_enrichment.make_benchmark(\"myc\")\n",
    "\n",
    "in_ = OnePiece.extension.vector.is_in(fe_, fe1_)\n",
    "\n",
    ";"
   ]
  },
  {
   "cell_type": "markdown",
   "id": "b05aefbe",
   "metadata": {},
   "source": [
    "## score_set (1 1)"
   ]
  },
  {
   "cell_type": "code",
   "execution_count": null,
   "id": "51ade553",
   "metadata": {
    "execution": {
     "iopub.execute_input": "2022-02-10T18:26:17.544101Z",
     "iopub.status.busy": "2022-02-10T18:26:17.541594Z",
     "iopub.status.idle": "2022-02-10T18:26:34.622581Z",
     "shell.execute_reply": "2022-02-10T18:26:34.620784Z"
    }
   },
   "outputs": [],
   "source": [
    "@btime OnePiece.extension.vector.is_in(fe_, fe1_)"
   ]
  },
  {
   "cell_type": "code",
   "execution_count": null,
   "id": "f1d3072c",
   "metadata": {
    "execution": {
     "iopub.execute_input": "2022-02-10T18:26:34.627961Z",
     "iopub.status.busy": "2022-02-10T18:26:34.626252Z",
     "iopub.status.idle": "2022-02-10T18:26:46.859595Z",
     "shell.execute_reply": "2022-02-10T18:26:46.858310Z"
    }
   },
   "outputs": [],
   "source": [
    "@btime OnePiece.feature_set_enrichment.score_set(fe_, sc_, fe1_, in_; pl = false)"
   ]
  },
  {
   "cell_type": "code",
   "execution_count": null,
   "id": "db503e6d",
   "metadata": {
    "execution": {
     "iopub.execute_input": "2022-02-10T18:26:46.864588Z",
     "iopub.status.busy": "2022-02-10T18:26:46.862940Z",
     "iopub.status.idle": "2022-02-10T18:26:59.569832Z",
     "shell.execute_reply": "2022-02-10T18:26:59.568493Z"
    }
   },
   "outputs": [],
   "source": [
    "@btime OnePiece.feature_set_enrichment.score_set(fe_, sc_, fe1_; pl = false)"
   ]
  },
  {
   "cell_type": "code",
   "execution_count": null,
   "id": "d0b57976",
   "metadata": {
    "execution": {
     "iopub.execute_input": "2022-02-10T18:26:59.575097Z",
     "iopub.status.busy": "2022-02-10T18:26:59.573398Z",
     "iopub.status.idle": "2022-02-10T18:26:59.680190Z",
     "shell.execute_reply": "2022-02-10T18:26:59.679003Z"
    }
   },
   "outputs": [],
   "source": [
    "OnePiece.feature_set_enrichment.score_set(fe_, sc_, fe1_)"
   ]
  },
  {
   "cell_type": "markdown",
   "id": "b955b922",
   "metadata": {},
   "source": [
    "## score_set_new (1 1)"
   ]
  },
  {
   "cell_type": "code",
   "execution_count": null,
   "id": "fa48624f",
   "metadata": {
    "execution": {
     "iopub.execute_input": "2022-02-10T18:26:59.685800Z",
     "iopub.status.busy": "2022-02-10T18:26:59.683826Z",
     "iopub.status.idle": "2022-02-10T18:27:13.188161Z",
     "shell.execute_reply": "2022-02-10T18:27:13.184819Z"
    }
   },
   "outputs": [],
   "source": [
    "@btime OnePiece.feature_set_enrichment.score_set_new(fe_, sc_, fe1_; pl = false)"
   ]
  },
  {
   "cell_type": "code",
   "execution_count": null,
   "id": "dc2fb2d2",
   "metadata": {
    "execution": {
     "iopub.execute_input": "2022-02-10T18:27:13.200237Z",
     "iopub.status.busy": "2022-02-10T18:27:13.196982Z",
     "iopub.status.idle": "2022-02-10T18:27:13.291779Z",
     "shell.execute_reply": "2022-02-10T18:27:13.292990Z"
    }
   },
   "outputs": [],
   "source": [
    "OnePiece.feature_set_enrichment.score_set_new(fe_, sc_, fe1_)"
   ]
  },
  {
   "cell_type": "markdown",
   "id": "f7052fba",
   "metadata": {},
   "source": [
    "## score_set (? n)"
   ]
  },
  {
   "cell_type": "code",
   "execution_count": null,
   "id": "3d4df309",
   "metadata": {
    "execution": {
     "iopub.execute_input": "2022-02-10T18:27:13.298648Z",
     "iopub.status.busy": "2022-02-10T18:27:13.297006Z",
     "iopub.status.idle": "2022-02-10T18:27:13.359969Z",
     "shell.execute_reply": "2022-02-10T18:27:13.358052Z"
    }
   },
   "outputs": [],
   "source": [
    "se_fe_ = OnePiece.io.gmt.read(\n",
    "    joinpath(@__DIR__, \"feature_set_enrichment.data\", \"h.all.v7.1.symbols.gmt\"),\n",
    ")\n",
    "\n",
    ";"
   ]
  },
  {
   "cell_type": "markdown",
   "id": "4766e9c6",
   "metadata": {},
   "source": [
    "## score_set (1 n)"
   ]
  },
  {
   "cell_type": "code",
   "execution_count": null,
   "id": "1679bed5",
   "metadata": {
    "execution": {
     "iopub.execute_input": "2022-02-10T18:27:13.365302Z",
     "iopub.status.busy": "2022-02-10T18:27:13.363680Z",
     "iopub.status.idle": "2022-02-10T18:27:31.731140Z",
     "shell.execute_reply": "2022-02-10T18:27:31.729897Z"
    }
   },
   "outputs": [],
   "source": [
    "@btime OnePiece.feature_set_enrichment.score_set(fe_, sc_, se_fe_)"
   ]
  },
  {
   "cell_type": "markdown",
   "id": "d18c90c2",
   "metadata": {},
   "source": [
    "## score_set_new (1 n)"
   ]
  },
  {
   "cell_type": "code",
   "execution_count": null,
   "id": "a6ac1e10",
   "metadata": {
    "execution": {
     "iopub.execute_input": "2022-02-10T18:27:31.737273Z",
     "iopub.status.busy": "2022-02-10T18:27:31.735468Z",
     "iopub.status.idle": "2022-02-10T18:27:48.735021Z",
     "shell.execute_reply": "2022-02-10T18:27:48.733666Z"
    }
   },
   "outputs": [],
   "source": [
    "@btime OnePiece.feature_set_enrichment.score_set_new(fe_, sc_, se_fe_)"
   ]
  },
  {
   "cell_type": "markdown",
   "id": "73665aeb",
   "metadata": {},
   "source": [
    "## score_set (n n)"
   ]
  },
  {
   "cell_type": "code",
   "execution_count": null,
   "id": "1dfc4b4f",
   "metadata": {},
   "outputs": [],
   "source": [
    "using DataFrames"
   ]
  },
  {
   "cell_type": "code",
   "execution_count": null,
   "id": "d1dae9b2",
   "metadata": {
    "execution": {
     "iopub.execute_input": "2022-02-10T18:27:48.740343Z",
     "iopub.status.busy": "2022-02-10T18:27:48.738705Z",
     "iopub.status.idle": "2022-02-10T18:28:11.662544Z",
     "shell.execute_reply": "2022-02-10T18:28:11.661280Z"
    }
   },
   "outputs": [],
   "source": [
    "sc_fe_sa = DataFrame(\n",
    "    \"Feature\" => fe_,\n",
    "    \"Score\" => sc_,\n",
    "    \"Score x 10\" => sc_ * 10,\n",
    "    \"Constant\" => fill(0.8, length(fe_)),\n",
    ")\n",
    "\n",
    "@btime OnePiece.feature_set_enrichment.score_set(sc_fe_sa, se_fe_; n_jo = 1)"
   ]
  },
  {
   "cell_type": "markdown",
   "id": "94460707",
   "metadata": {},
   "source": [
    "## try_method"
   ]
  },
  {
   "cell_type": "code",
   "execution_count": null,
   "id": "2893cb57",
   "metadata": {
    "execution": {
     "iopub.execute_input": "2022-02-10T18:28:11.667670Z",
     "iopub.status.busy": "2022-02-10T18:28:11.666418Z",
     "iopub.status.idle": "2022-02-10T18:28:15.525124Z",
     "shell.execute_reply": "2022-02-10T18:28:15.523683Z"
    }
   },
   "outputs": [],
   "source": [
    "OnePiece.feature_set_enrichment.try_method(fe_, sc_, fe1_; plp = false)"
   ]
  }
 ],
 "metadata": {
  "@webio": {
   "lastCommId": null,
   "lastKernelId": null
  },
  "kernelspec": {
   "display_name": "Julia 1.7.2",
   "language": "julia",
   "name": "julia-1.7"
  },
  "language_info": {
   "file_extension": ".jl",
   "mimetype": "application/julia",
   "name": "julia",
   "version": "1.7.2"
  }
 },
 "nbformat": 4,
 "nbformat_minor": 5
}
