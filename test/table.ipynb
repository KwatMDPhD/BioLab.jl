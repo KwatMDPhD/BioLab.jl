{
 "cells": [
  {
   "cell_type": "code",
   "execution_count": null,
   "id": "baf12f00",
   "metadata": {
    "execution": {
     "iopub.execute_input": "2022-08-25T17:23:52.293000Z",
     "iopub.status.busy": "2022-08-25T17:23:51.760000Z",
     "iopub.status.idle": "2022-08-25T17:23:59.543000Z",
     "shell.execute_reply": "2022-08-25T17:23:59.500000Z"
    }
   },
   "outputs": [],
   "source": [
    "using OnePiece\n",
    "\n",
    "using DataFrames"
   ]
  },
  {
   "cell_type": "code",
   "execution_count": null,
   "id": "6a6e3d87",
   "metadata": {
    "execution": {
     "iopub.execute_input": "2022-08-25T17:23:59.738000Z",
     "iopub.status.busy": "2022-08-25T17:23:59.545000Z",
     "iopub.status.idle": "2022-08-25T17:24:00.370000Z",
     "shell.execute_reply": "2022-08-25T17:24:00.369000Z"
    }
   },
   "outputs": [],
   "source": [
    "te = OnePiece.path.make_temporary(\"OnePiece.test.table\")"
   ]
  },
  {
   "cell_type": "markdown",
   "id": "fcce84a3",
   "metadata": {},
   "source": [
    "## read"
   ]
  },
  {
   "cell_type": "code",
   "execution_count": null,
   "id": "fbaf818b",
   "metadata": {
    "execution": {
     "iopub.execute_input": "2022-08-25T17:24:00.373000Z",
     "iopub.status.busy": "2022-08-25T17:24:00.373000Z",
     "iopub.status.idle": "2022-08-25T17:24:17.286000Z",
     "shell.execute_reply": "2022-08-25T17:24:17.286000Z"
    }
   },
   "outputs": [],
   "source": [
    "da = joinpath(@__DIR__, \"table.data\")\n",
    "\n",
    "OnePiece.table.read(joinpath(da, \"titanic.tsv\"))"
   ]
  },
  {
   "cell_type": "code",
   "execution_count": null,
   "id": "280e319f",
   "metadata": {
    "execution": {
     "iopub.execute_input": "2022-08-25T17:24:17.290000Z",
     "iopub.status.busy": "2022-08-25T17:24:17.289000Z",
     "iopub.status.idle": "2022-08-25T17:24:17.367000Z",
     "shell.execute_reply": "2022-08-25T17:24:17.367000Z"
    }
   },
   "outputs": [],
   "source": [
    "OnePiece.table.read(joinpath(da, \"enst_gene.tsv.gz\"))"
   ]
  },
  {
   "cell_type": "code",
   "execution_count": null,
   "id": "7137cf1b",
   "metadata": {
    "execution": {
     "iopub.execute_input": "2022-08-25T17:24:17.370000Z",
     "iopub.status.busy": "2022-08-25T17:24:17.370000Z",
     "iopub.status.idle": "2022-08-25T17:24:17.867000Z",
     "shell.execute_reply": "2022-08-25T17:24:17.866000Z"
    }
   },
   "outputs": [],
   "source": [
    "OnePiece.table.read(joinpath(da, \"12859_2019_2886_MOESM2_ESM.xlsx\"), xl = \"HumanSpecific Genes\")"
   ]
  },
  {
   "cell_type": "markdown",
   "id": "5b77c5d6",
   "metadata": {},
   "source": [
    "## write"
   ]
  },
  {
   "cell_type": "code",
   "execution_count": null,
   "id": "3d64c320",
   "metadata": {
    "execution": {
     "iopub.execute_input": "2022-08-25T17:24:17.870000Z",
     "iopub.status.busy": "2022-08-25T17:24:17.870000Z",
     "iopub.status.idle": "2022-08-25T17:24:18.249000Z",
     "shell.execute_reply": "2022-08-25T17:24:18.249000Z"
    }
   },
   "outputs": [],
   "source": [
    "co1 = 1:4\n",
    "\n",
    "co2 = 1.0:4\n",
    "\n",
    "da = DataFrame(\n",
    "    \"Column 1\" => co1,\n",
    "    \"Column 2\" => co2,\n",
    "    \"Column 3\" => string.(co1),\n",
    "    \"Column 4\" => string.(co2),\n",
    ")"
   ]
  },
  {
   "cell_type": "code",
   "execution_count": null,
   "id": "f380da76",
   "metadata": {
    "execution": {
     "iopub.execute_input": "2022-08-25T17:24:18.252000Z",
     "iopub.status.busy": "2022-08-25T17:24:18.252000Z",
     "iopub.status.idle": "2022-08-25T17:24:19.150000Z",
     "shell.execute_reply": "2022-08-25T17:24:19.150000Z"
    }
   },
   "outputs": [],
   "source": [
    "ts = joinpath(te, \"write.csv\")\n",
    "\n",
    "try\n",
    "\n",
    "    OnePiece.table.write(ts, da)\n",
    "\n",
    "catch er\n",
    "\n",
    "    println(er)\n",
    "\n",
    "end"
   ]
  },
  {
   "cell_type": "code",
   "execution_count": null,
   "id": "97344950",
   "metadata": {
    "execution": {
     "iopub.execute_input": "2022-08-25T17:24:19.153000Z",
     "iopub.status.busy": "2022-08-25T17:24:19.153000Z",
     "iopub.status.idle": "2022-08-25T17:24:19.157000Z",
     "shell.execute_reply": "2022-08-25T17:24:19.157000Z"
    }
   },
   "outputs": [],
   "source": [
    "OnePiece.table.write(replace(ts, \".csv\" => \".tsv\"), da)"
   ]
  }
 ],
 "metadata": {
  "@webio": {
   "lastCommId": null,
   "lastKernelId": null
  },
  "kernelspec": {
   "display_name": "Julia 1.7.3",
   "language": "julia",
   "name": "julia-1.8"
  },
  "language_info": {
   "file_extension": ".jl",
   "mimetype": "application/julia",
   "name": "julia",
   "version": "1.8.0"
  }
 },
 "nbformat": 4,
 "nbformat_minor": 5
}
