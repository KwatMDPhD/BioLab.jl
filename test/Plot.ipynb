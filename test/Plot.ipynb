{
 "cells": [
  {
   "cell_type": "code",
   "execution_count": null,
   "id": "2bf41c93-053c-444c-8324-62789d1fa10f",
   "metadata": {},
   "outputs": [],
   "source": [
    "using Revise"
   ]
  },
  {
   "cell_type": "code",
   "execution_count": null,
   "id": "baf12f00",
   "metadata": {},
   "outputs": [],
   "source": [
    "using OnePiece"
   ]
  },
  {
   "cell_type": "code",
   "execution_count": null,
   "id": "c4b58199",
   "metadata": {},
   "outputs": [],
   "source": [
    "te = OnePiece.Path.make_temporary(\"OnePiece.test.Plot\")"
   ]
  },
  {
   "cell_type": "markdown",
   "id": "84e40a06",
   "metadata": {},
   "source": [
    "## plot"
   ]
  },
  {
   "cell_type": "code",
   "execution_count": null,
   "id": "37fb91b2",
   "metadata": {},
   "outputs": [],
   "source": [
    "data = [Dict()]\n",
    "\n",
    "OnePiece.Plot.plot(data)"
   ]
  },
  {
   "cell_type": "code",
   "execution_count": null,
   "id": "efa2560d-61ee-438c-97af-10aeb71fb155",
   "metadata": {},
   "outputs": [],
   "source": [
    "layout = Dict(\n",
    "    \"title\" => \"Title\",\n",
    "    \"yaxis\" => Dict(\"title\" => \"Y-Axis Title\"),\n",
    "    \"xaxis\" => Dict(\"title\" => \"X-Axis Title\"),\n",
    ")\n",
    "\n",
    ";"
   ]
  },
  {
   "cell_type": "code",
   "execution_count": null,
   "id": "7fc7eeaa-b544-4dfe-97c4-b4c88a94df93",
   "metadata": {},
   "outputs": [],
   "source": [
    "OnePiece.Plot.plot(data, layout)"
   ]
  },
  {
   "cell_type": "code",
   "execution_count": null,
   "id": "1983501d-7005-40d7-b7e7-4f244f5d14d5",
   "metadata": {},
   "outputs": [],
   "source": [
    "config = Dict(\"editable\" => true)\n",
    "\n",
    ";"
   ]
  },
  {
   "cell_type": "code",
   "execution_count": null,
   "id": "06bff3d0-0e1b-434b-a980-dcd7b154b917",
   "metadata": {},
   "outputs": [],
   "source": [
    "OnePiece.Plot.plot(data, layout, config)"
   ]
  },
  {
   "cell_type": "code",
   "execution_count": null,
   "id": "ae72a412",
   "metadata": {},
   "outputs": [],
   "source": [
    "OnePiece.Plot.plot(data, layout, config, ou = joinpath(te, \"output.html\"))"
   ]
  },
  {
   "cell_type": "markdown",
   "id": "9f93318a-500e-4530-bc53-76f462e398fe",
   "metadata": {},
   "source": [
    "## NA_CO"
   ]
  },
  {
   "cell_type": "code",
   "execution_count": null,
   "id": "595f6df1-6e32-467d-88dc-ff1c5ad0eae0",
   "metadata": {},
   "outputs": [],
   "source": [
    "function plot_colorscheme(nu_ = [], na_ = keys(OnePiece.Plot.NA_CO))\n",
    "\n",
    "    for (na, co) in OnePiece.Plot.NA_CO\n",
    "\n",
    "        if !(na in na_)\n",
    "\n",
    "            continue\n",
    "\n",
    "        end\n",
    "\n",
    "        println(na)\n",
    "\n",
    "        display(co)\n",
    "\n",
    "        if !isempty(nu_)\n",
    "\n",
    "            for nu in nu_\n",
    "\n",
    "                try\n",
    "\n",
    "                    display(co[nu])\n",
    "\n",
    "                catch er\n",
    "\n",
    "                    println(er)\n",
    "\n",
    "                end\n",
    "\n",
    "            end\n",
    "\n",
    "        end\n",
    "\n",
    "    end\n",
    "\n",
    "end"
   ]
  },
  {
   "cell_type": "code",
   "execution_count": null,
   "id": "b3ca8425-4ecf-442f-91ef-9929aa321c21",
   "metadata": {},
   "outputs": [],
   "source": [
    "plot_colorscheme()"
   ]
  },
  {
   "cell_type": "code",
   "execution_count": null,
   "id": "31f03d40-1c51-4085-a96f-56946569b642",
   "metadata": {},
   "outputs": [],
   "source": [
    "for nu_ in ([1.0], [1], [0, 1, 2, 10, 11], [0.0, 1, 2, 10, 11], 0:(1 / 10):1)\n",
    "\n",
    "    println(\"=\"^99)\n",
    "\n",
    "    plot_colorscheme(nu_, [\"Plasma\"])\n",
    "\n",
    "end"
   ]
  },
  {
   "cell_type": "markdown",
   "id": "b9de93d4-d21b-4a7f-a100-319558c93e45",
   "metadata": {},
   "source": [
    "## plot_scatter"
   ]
  },
  {
   "cell_type": "code",
   "execution_count": null,
   "id": "58a30a5c",
   "metadata": {},
   "outputs": [],
   "source": [
    "x1 = [-1, 0, 2]\n",
    "\n",
    "x2 = [3, 4]\n",
    "\n",
    "x_ = [x1, x2]"
   ]
  },
  {
   "cell_type": "code",
   "execution_count": null,
   "id": "aec95893",
   "metadata": {},
   "outputs": [],
   "source": [
    "y1 = [nu * 10 for nu in x1]\n",
    "\n",
    "y2 = [nu * 20 for nu in x2]\n",
    "\n",
    "y_ = [y1, y2]"
   ]
  },
  {
   "cell_type": "code",
   "execution_count": null,
   "id": "f29cca1a",
   "metadata": {},
   "outputs": [],
   "source": [
    "OnePiece.Plot.plot_scatter(y_)"
   ]
  },
  {
   "cell_type": "code",
   "execution_count": null,
   "id": "672c6dab",
   "metadata": {},
   "outputs": [],
   "source": [
    "OnePiece.Plot.plot_scatter(y_, x_, ou = joinpath(te, \"scatter.html\"))"
   ]
  },
  {
   "cell_type": "markdown",
   "id": "01af355b",
   "metadata": {},
   "source": [
    "## plot_bar"
   ]
  },
  {
   "cell_type": "code",
   "execution_count": null,
   "id": "1f297153",
   "metadata": {},
   "outputs": [],
   "source": [
    "y1 = [-1, 2, 5]\n",
    "\n",
    "y2 = reverse(y1)\n",
    "\n",
    "y_ = [y1, y2]"
   ]
  },
  {
   "cell_type": "code",
   "execution_count": null,
   "id": "2568a640",
   "metadata": {},
   "outputs": [],
   "source": [
    "OnePiece.Plot.plot_bar(y_)"
   ]
  },
  {
   "cell_type": "code",
   "execution_count": null,
   "id": "b9ca7825",
   "metadata": {},
   "outputs": [],
   "source": [
    "name1 = \"Jonathan\"\n",
    "\n",
    "name2 = \"Joseph\"\n",
    "\n",
    "name_ = [name1, name2]"
   ]
  },
  {
   "cell_type": "code",
   "execution_count": null,
   "id": "1969df42",
   "metadata": {},
   "outputs": [],
   "source": [
    "x1 = [-2, -1, 0]\n",
    "\n",
    "x2 = .-reverse(x1)\n",
    "\n",
    "x_ = [x1, x2]"
   ]
  },
  {
   "cell_type": "code",
   "execution_count": null,
   "id": "e26efbb2",
   "metadata": {},
   "outputs": [],
   "source": [
    "OnePiece.Plot.plot_bar(y_, x_, name_ = name_)"
   ]
  },
  {
   "cell_type": "code",
   "execution_count": null,
   "id": "5091099b",
   "metadata": {},
   "outputs": [],
   "source": [
    "push!(name_, \"Jotaro\")\n",
    "\n",
    "push!(y_, [8])\n",
    "\n",
    "push!(x_, [0])\n",
    "\n",
    "OnePiece.Plot.plot_bar(y_, x_, name_ = name_)"
   ]
  },
  {
   "cell_type": "code",
   "execution_count": null,
   "id": "7275f857",
   "metadata": {},
   "outputs": [],
   "source": [
    "OnePiece.Plot.plot_bar(\n",
    "    y_,\n",
    "    x_,\n",
    "    name_ = name_,\n",
    "    layout = Dict(\"barmode\" => \"stack\", \"title\" => Dict(\"text\" => \"Stack\")),\n",
    "    ou = joinpath(te, \"bar.html\"),\n",
    ")"
   ]
  },
  {
   "cell_type": "markdown",
   "id": "17ba171f-b487-4704-93b3-1359c40c680e",
   "metadata": {},
   "source": [
    "## plot_histogram"
   ]
  },
  {
   "cell_type": "code",
   "execution_count": null,
   "id": "34d85b5d",
   "metadata": {},
   "outputs": [],
   "source": [
    "x_ = [[-1], [0, 1], [2, 3, 4]]\n",
    "\n",
    "OnePiece.Plot.plot_histogram(x_)"
   ]
  },
  {
   "cell_type": "code",
   "execution_count": null,
   "id": "866a3d3e",
   "metadata": {},
   "outputs": [],
   "source": [
    "text_ = [[\"1A\"], [\"2A\", \"2B\"], [\"3A\", \"3B\", \"3C\"]]\n",
    "\n",
    "OnePiece.Plot.plot_histogram(x_, text_)"
   ]
  },
  {
   "cell_type": "code",
   "execution_count": null,
   "id": "e0a6957a",
   "metadata": {},
   "outputs": [],
   "source": [
    "OnePiece.Plot.plot_histogram(x_, text_, xbins_size = 1)"
   ]
  },
  {
   "cell_type": "markdown",
   "id": "5f2dd5ab-9f6d-4838-ad2c-e545b7b8dcc4",
   "metadata": {},
   "source": [
    "## plot_heat_map"
   ]
  },
  {
   "cell_type": "code",
   "execution_count": null,
   "id": "4f9637cd",
   "metadata": {},
   "outputs": [],
   "source": [
    "ma = OnePiece.matrix.simulate(2, 4)"
   ]
  },
  {
   "cell_type": "code",
   "execution_count": null,
   "id": "1736400b-6d8c-42c9-98d1-9516ccbb1d07",
   "metadata": {},
   "outputs": [],
   "source": [
    "OnePiece.Plot.plot_heat_map(ma)"
   ]
  },
  {
   "cell_type": "code",
   "execution_count": null,
   "id": "31b0f214",
   "metadata": {},
   "outputs": [],
   "source": [
    "OnePiece.Plot.plot_heat_map(\n",
    "    ma,\n",
    "    y = [\"Row$id\" for id in 1:size(ma, 1)],\n",
    "    x = [\"Column$id\" for id in 1:size(ma, 2)],\n",
    ")"
   ]
  },
  {
   "cell_type": "code",
   "execution_count": null,
   "id": "e8d39c80",
   "metadata": {},
   "outputs": [],
   "source": [
    "OnePiece.Plot.plot_heat_map(ma, ou = joinpath(te, \"heat_map.html\"))"
   ]
  },
  {
   "cell_type": "code",
   "execution_count": null,
   "id": "624a0a68-51ba-441d-8288-1e2d0e1b7a2a",
   "metadata": {},
   "outputs": [],
   "source": [
    "y = [-1, 1, -2, 2]\n",
    "\n",
    "x = [1, 4, 2, 5, 3, 6]\n",
    "\n",
    "ma = [la1 * la2 for la1 in y, la2 in x]"
   ]
  },
  {
   "cell_type": "code",
   "execution_count": null,
   "id": "fed0dc65-9237-4641-8e2a-012f1e9f877b",
   "metadata": {},
   "outputs": [],
   "source": [
    "gr1_ = [1, 2, 1, 2]\n",
    "\n",
    "OnePiece.Plot.plot_heat_map(ma, gr1_ = gr1_)"
   ]
  },
  {
   "cell_type": "code",
   "execution_count": null,
   "id": "11610cc8-4831-4a82-9a0d-383428c29bc1",
   "metadata": {},
   "outputs": [],
   "source": [
    "gr2_ = [1, 2, 1, 2, 1, 2]\n",
    "\n",
    "OnePiece.Plot.plot_heat_map(ma, gr2_ = gr2_)"
   ]
  },
  {
   "cell_type": "code",
   "execution_count": null,
   "id": "4772c9e4-39e1-4d10-954f-63061de2b458",
   "metadata": {},
   "outputs": [],
   "source": [
    "OnePiece.Plot.plot_heat_map(ma, y = string.(\"*\", y), x = string.(\"*\", x), gr1_ = gr1_, gr2_ = gr2_)"
   ]
  }
 ],
 "metadata": {
  "@webio": {
   "lastCommId": null,
   "lastKernelId": null
  },
  "kernelspec": {
   "display_name": "Julia 1.8.2",
   "language": "julia",
   "name": "julia-1.8"
  },
  "language_info": {
   "file_extension": ".jl",
   "mimetype": "application/julia",
   "name": "julia",
   "version": "1.8.2"
  }
 },
 "nbformat": 4,
 "nbformat_minor": 5
}
