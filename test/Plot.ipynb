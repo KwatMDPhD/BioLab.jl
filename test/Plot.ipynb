{
 "cells": [
  {
   "outputs": [],
   "cell_type": "code",
   "source": [
    "using ColorSchemes\n",
    "\n",
    "using Colors\n",
    "\n",
    "include(\"_.jl\")\n",
    "\n",
    "te = BioLab.Path.make_temporary(\"BioLab.test.Plot\")"
   ],
   "id": "bfd0cd7e-8e9e-4485-a051-4a3ec74f364f",
   "metadata": {},
   "execution_count": null
  },
  {
   "cell_type": "markdown",
   "source": [
    "## _make_color_scheme"
   ],
   "id": "1d5da368-f449-49f5-a492-d6dae636b1c5",
   "metadata": {}
  },
  {
   "outputs": [],
   "cell_type": "code",
   "source": [
    "he_ = (\"#ff71fb\", \"#fcc9b9\", \"#c91f37\")\n",
    "\n",
    "display(BioLab.Plot._make_color_scheme(he_))\n",
    "\n",
    "@code_warntype BioLab.Plot._make_color_scheme(he_)\n",
    "\n",
    "# 1.025 μs (21 allocations: 992 bytes)\n",
    "@btime BioLab.Plot._make_color_scheme($he_)"
   ],
   "id": "9775a1eb-083c-4519-9116-8367f05dfeae",
   "metadata": {},
   "execution_count": null
  },
  {
   "cell_type": "markdown",
   "source": [
    "## CO*"
   ],
   "id": "c2348fcc-3710-4b35-bbe3-978b77cd4b6b",
   "metadata": {
    "tags": []
   }
  },
  {
   "outputs": [],
   "cell_type": "code",
   "source": [
    "co_ = (\n",
    "    BioLab.Plot.COPLA,\n",
    "    BioLab.Plot.COPL3,\n",
    "    BioLab.Plot.COPLO,\n",
    "    BioLab.Plot.COBIN,\n",
    "    BioLab.Plot.COASP,\n",
    "    BioLab.Plot.COHUM,\n",
    "    BioLab.Plot.COSTA,\n",
    ")\n",
    "\n",
    "for co in co_\n",
    "\n",
    "    display(co)\n",
    "\n",
    "end\n",
    "\n",
    "co = co_[1]\n",
    "\n",
    "for nu in (-10.0^3, -1.0, -1, 0.0, 0, 0.5, 1.0, 1, 2.0, 2, 3.0, 3, 256.0, 256, 257)\n",
    "\n",
    "    display(nu)\n",
    "\n",
    "    try\n",
    "\n",
    "        display(co[nu])\n",
    "\n",
    "    catch er\n",
    "\n",
    "        display(er)\n",
    "\n",
    "    end\n",
    "\n",
    "end"
   ],
   "id": "63a96767-9f00-4b05-9b6f-c660d6e381fb",
   "metadata": {},
   "execution_count": null
  },
  {
   "cell_type": "markdown",
   "source": [
    "## color"
   ],
   "id": "431d8284-ee1f-47f7-bab4-4d0277ecfaa3",
   "metadata": {}
  },
  {
   "outputs": [],
   "cell_type": "code",
   "source": [
    "co = co_[1]\n",
    "\n",
    "for nu in (0.0:(1 / 3):1.0..., 1:80:256...)\n",
    "\n",
    "    BioLab.String.print_header(nu)\n",
    "\n",
    "    co1 = ColorSchemes.plasma[nu]\n",
    "\n",
    "    co2 = parse(Colorant, BioLab.Plot.color(co, nu))\n",
    "\n",
    "    println(co1)\n",
    "\n",
    "    println(co2)\n",
    "\n",
    "    display([co1, co2])\n",
    "\n",
    "end\n",
    "\n",
    "for nu in (\n",
    "    0.2, # 95.671 ns (3 allocations: 112 bytes)\n",
    "    20, # 87.760 ns (3 allocations: 112 bytes)\n",
    ")\n",
    "\n",
    "    @code_warntype BioLab.Plot.color(co, nu)\n",
    "\n",
    "    @btime BioLab.Plot.color($co, $nu)\n",
    "\n",
    "end"
   ],
   "id": "2cb6e1b9-e085-4c57-957b-93c580e02dcf",
   "metadata": {},
   "execution_count": null
  },
  {
   "cell_type": "markdown",
   "source": [
    "## _fractionate"
   ],
   "id": "faf9658c-7e45-4cb6-853b-d2b47d6cb5d7",
   "metadata": {}
  },
  {
   "outputs": [],
   "cell_type": "code",
   "source": [
    "for co in co_\n",
    "\n",
    "    BioLab.String.print_header()\n",
    "\n",
    "    display(BioLab.Plot._fractionate(co))\n",
    "\n",
    "end\n",
    "\n",
    "co = co_[1]\n",
    "\n",
    "@code_warntype BioLab.Plot._fractionate(co)\n",
    "\n",
    "# 19.334 μs (769 allocations: 32.12 KiB)\n",
    "@btime BioLab.Plot._fractionate($co)"
   ],
   "id": "cb7a24d2-0bbd-4f81-8d8f-6e3ace778e4e",
   "metadata": {},
   "execution_count": null
  },
  {
   "cell_type": "markdown",
   "source": [
    "## plot"
   ],
   "id": "84e40a06",
   "metadata": {}
  },
  {
   "outputs": [],
   "cell_type": "code",
   "source": [
    "data = [Dict()]\n",
    "\n",
    "BioLab.Plot.plot(data)\n",
    "\n",
    "layout = Dict(\n",
    "    \"title\" => \"Title\",\n",
    "    \"yaxis\" => Dict(\"title\" => \"Y-Axis Title\"),\n",
    "    \"xaxis\" => Dict(\"title\" => \"X-Axis Title\"),\n",
    ")\n",
    "\n",
    "BioLab.Plot.plot(data, layout)\n",
    "\n",
    "config = Dict(\"editable\" => true)\n",
    "\n",
    "ht = joinpath(te, \"plot.html\")\n",
    "\n",
    "BioLab.Plot.plot(data, layout; config, ht)\n",
    "\n",
    "@code_warntype BioLab.Plot.plot(data, layout; config, ht)"
   ],
   "id": "f94ce3c5-a6d7-46b1-9690-da4bbec09230",
   "metadata": {},
   "execution_count": null
  },
  {
   "cell_type": "markdown",
   "source": [
    "## plot_scatter"
   ],
   "id": "b9de93d4-d21b-4a7f-a100-319558c93e45",
   "metadata": {}
  },
  {
   "outputs": [],
   "cell_type": "code",
   "source": [
    "y1 = [-1, 0, 2]\n",
    "\n",
    "y2 = [3, 4]\n",
    "\n",
    "y_ = [y1, y2]\n",
    "\n",
    "BioLab.Plot.plot_scatter(y_)\n",
    "\n",
    "x_ = [y1 * 10, y2 * 20]\n",
    "\n",
    "ht = joinpath(te, \"scatter.html\")\n",
    "\n",
    "BioLab.Plot.plot_scatter(y_, x_; ht)\n",
    "\n",
    "@code_warntype BioLab.Plot.plot_scatter(y_, x_; ht)"
   ],
   "id": "a015a420-c9cf-4f6c-852a-3136ec4f89a4",
   "metadata": {},
   "execution_count": null
  },
  {
   "cell_type": "markdown",
   "source": [
    "## plot_bar"
   ],
   "id": "01af355b",
   "metadata": {}
  },
  {
   "outputs": [],
   "cell_type": "code",
   "source": [
    "y1 = [-1, 2, 5]\n",
    "\n",
    "y_ = [y1, reverse(y1), [8]]\n",
    "\n",
    "BioLab.Plot.plot_bar(y_)\n",
    "\n",
    "x1 = [-2, -1, 0]\n",
    "\n",
    "x_ = [x1, -x1, [0]]\n",
    "\n",
    "name_ = [\"Jonathan\", \"Joseph\", \"Jotaro\"]\n",
    "\n",
    "for barmode in (\"stack\", \"group\")\n",
    "\n",
    "    BioLab.Plot.plot_bar(\n",
    "        y_,\n",
    "        x_;\n",
    "        name_,\n",
    "        layout = Dict(\"barmode\" => barmode, \"title\" => Dict(\"text\" => titlecase(barmode))),\n",
    "        ht = joinpath(te, \"bar.$barmode.html\"),\n",
    "    )\n",
    "\n",
    "end\n",
    "\n",
    "@code_warntype BioLab.Plot.plot_bar(y_, x_; name_, ht = joinpath(te, \"bar.html\"))"
   ],
   "id": "4496d50e-e6cf-4f10-b799-a439168d88c0",
   "metadata": {},
   "execution_count": null
  },
  {
   "cell_type": "markdown",
   "source": [
    "## plot_histogram"
   ],
   "id": "17ba171f-b487-4704-93b3-1359c40c680e",
   "metadata": {}
  },
  {
   "outputs": [],
   "cell_type": "code",
   "source": [
    "x_ = [[-1], [0, 1], [2, 3, 4]]\n",
    "\n",
    "BioLab.Plot.plot_histogram(x_)\n",
    "\n",
    "text_ = [[\"1A\"], [\"2A\", \"2B\"], [\"3A\", \"3B\", \"3C\"]]\n",
    "\n",
    "for xbins_size in (0.0, 1.0)\n",
    "\n",
    "    BioLab.Plot.plot_histogram(x_, text_; xbins_size)\n",
    "\n",
    "end\n",
    "\n",
    "@code_warntype BioLab.Plot.plot_histogram(x_, text_; ht = joinpath(te, \"histogram.html\"))"
   ],
   "id": "3d0e5c3a-eb1f-4b70-a548-f02f4fef18f2",
   "metadata": {},
   "execution_count": null
  },
  {
   "cell_type": "markdown",
   "source": [
    "## plot_heat_map"
   ],
   "id": "5f2dd5ab-9f6d-4838-ad2c-e545b7b8dcc4",
   "metadata": {}
  },
  {
   "outputs": [],
   "cell_type": "code",
   "source": [
    "n_ro = 2\n",
    "\n",
    "n_co = 4\n",
    "\n",
    "ro_x_co_x_nu = BioLab.Matrix.simulate(n_ro, n_co, \"1:\")\n",
    "\n",
    "BioLab.Plot.plot_heat_map(ro_x_co_x_nu)\n",
    "\n",
    "ro_ = [\"Row$id\" for id in 1:n_ro]\n",
    "\n",
    "co_ = [\"Column$id\" for id in 1:n_co]\n",
    "\n",
    "BioLab.Plot.plot_heat_map(ro_x_co_x_nu, ro_, co_)\n",
    "\n",
    "da = BioLab.DataFrame.make(\"Row name\", ro_, co_, ro_x_co_x_nu)\n",
    "\n",
    "ht = joinpath(te, \"heat_map.html\")\n",
    "\n",
    "BioLab.Plot.plot_heat_map(da; ht)\n",
    "\n",
    "@code_warntype BioLab.Plot.plot_heat_map(da; ht)\n",
    "\n",
    "y = [-1, 1, -2, 2]\n",
    "\n",
    "x = [1, 4, 2, 5, 3, 6]\n",
    "\n",
    "ro_x_co_x_nu = [la1 * la2 for la1 in y, la2 in x]\n",
    "\n",
    "grr_ = [1, 2, 1, 2]\n",
    "\n",
    "BioLab.Plot.plot_heat_map(ro_x_co_x_nu; grr_)\n",
    "\n",
    "grc_ = [1, 2, 1, 2, 1, 2]\n",
    "\n",
    "BioLab.Plot.plot_heat_map(ro_x_co_x_nu; grc_)\n",
    "\n",
    "y = [\"*$nu\" for nu in y]\n",
    "\n",
    "x = [\"*$nu\" for nu in x]\n",
    "\n",
    "BioLab.Plot.plot_heat_map(ro_x_co_x_nu, y, x; grr_, grc_)\n",
    "\n",
    "@code_warntype BioLab.Plot.plot_heat_map(ro_x_co_x_nu, y, x; grr_, grc_)"
   ],
   "id": "6b39305a-4e1c-4d3f-ab9f-7221ff9404eb",
   "metadata": {},
   "execution_count": null
  },
  {
   "cell_type": "markdown",
   "source": [
    "## plot_radar"
   ],
   "id": "60d766f0-c006-40fe-acde-29688017f992",
   "metadata": {}
  },
  {
   "outputs": [],
   "cell_type": "code",
   "source": [
    "theta30 = collect(0:30:360)\n",
    "\n",
    "theta45 = collect(0:45:360)\n",
    "\n",
    "theta60 = collect(0:60:360)\n",
    "\n",
    "theta_ = [theta30, theta45, theta60]\n",
    "\n",
    "r__ = [theta30, theta45, theta60]\n",
    "\n",
    "name_ = [30, 45, 60]\n",
    "\n",
    "BioLab.Plot.plot_radar(theta_, r__; name_)\n",
    "\n",
    "@code_warntype BioLab.Plot.plot_radar(theta_, r__; name_)"
   ],
   "id": "6f84c760-a8ea-4f93-851f-a31fc9af89de",
   "metadata": {},
   "execution_count": null
  }
 ],
 "nbformat_minor": 5,
 "metadata": {
  "language_info": {
   "file_extension": ".jl",
   "mimetype": "application/julia",
   "name": "julia",
   "version": "1.8.5"
  },
  "@webio": {
   "lastKernelId": null,
   "lastCommId": null
  },
  "kernelspec": {
   "name": "julia-1.8",
   "display_name": "Julia 1.8.5",
   "language": "julia"
  }
 },
 "nbformat": 4
}
