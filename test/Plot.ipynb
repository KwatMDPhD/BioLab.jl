{
 "cells": [
  {
   "cell_type": "code",
   "execution_count": null,
   "id": "bfd0cd7e-8e9e-4485-a051-4a3ec74f364f",
   "metadata": {
    "execution": {
     "iopub.execute_input": "2023-02-23T14:56:57.896000Z",
     "iopub.status.busy": "2023-02-23T14:56:57.619000Z",
     "iopub.status.idle": "2023-02-23T14:57:02.087000Z",
     "shell.execute_reply": "2023-02-23T14:57:02.078000Z"
    }
   },
   "outputs": [],
   "source": [
    "using ColorSchemes\n",
    "\n",
    "using Colors\n",
    "\n",
    "include(\"_.jl\")\n",
    "\n",
    "te = BioLab.Path.make_temporary(\"BioLab.test.Plot\")"
   ]
  },
  {
   "cell_type": "markdown",
   "id": "1d5da368-f449-49f5-a492-d6dae636b1c5",
   "metadata": {},
   "source": [
    "## _make_color_scheme"
   ]
  },
  {
   "cell_type": "code",
   "execution_count": null,
   "id": "9775a1eb-083c-4519-9116-8367f05dfeae",
   "metadata": {
    "execution": {
     "iopub.execute_input": "2023-02-23T14:57:02.229000Z",
     "iopub.status.busy": "2023-02-23T14:57:02.088000Z",
     "iopub.status.idle": "2023-02-23T14:57:05.069000Z",
     "shell.execute_reply": "2023-02-23T14:57:05.068000Z"
    }
   },
   "outputs": [],
   "source": [
    "he_ = (\"#ff71fb\", \"#fcc9b9\", \"#c91f37\")\n",
    "\n",
    "# TODO: `@test`.\n",
    "display(BioLab.Plot._make_color_scheme(he_))\n",
    "\n",
    "@code_warntype BioLab.Plot._make_color_scheme(he_)\n",
    "\n",
    "# 1.025 μs (21 allocations: 992 bytes)\n",
    "# @btime BioLab.Plot._make_color_scheme($he_)"
   ]
  },
  {
   "cell_type": "markdown",
   "id": "c2348fcc-3710-4b35-bbe3-978b77cd4b6b",
   "metadata": {
    "tags": []
   },
   "source": [
    "## CO*"
   ]
  },
  {
   "cell_type": "code",
   "execution_count": null,
   "id": "63a96767-9f00-4b05-9b6f-c660d6e381fb",
   "metadata": {
    "execution": {
     "iopub.execute_input": "2023-02-23T14:57:05.070000Z",
     "iopub.status.busy": "2023-02-23T14:57:05.070000Z",
     "iopub.status.idle": "2023-02-23T14:57:05.737000Z",
     "shell.execute_reply": "2023-02-23T14:57:05.737000Z"
    }
   },
   "outputs": [],
   "source": [
    "co_ = (\n",
    "    BioLab.Plot.COPLA,\n",
    "    BioLab.Plot.COPL3,\n",
    "    BioLab.Plot.COPLO,\n",
    "    BioLab.Plot.COBIN,\n",
    "    BioLab.Plot.COASP,\n",
    "    BioLab.Plot.COHUM,\n",
    "    BioLab.Plot.COSTA,\n",
    "    #BioLab.Plot.COGUA,\n",
    "    #BioLab.Plot.COAYA,\n",
    ")\n",
    "\n",
    "for co in co_\n",
    "\n",
    "    display(co)\n",
    "\n",
    "end\n",
    "\n",
    "co = co_[1]\n",
    "\n",
    "for nu in (-10.0^3, -1.0, -1, 0.0, 0, 0.5, 1.0, 1, 2.0, 2, 3.0, 3, 256.0, 256, 257)\n",
    "\n",
    "    display(nu)\n",
    "\n",
    "    try\n",
    "\n",
    "        display(co[nu])\n",
    "\n",
    "    catch er\n",
    "\n",
    "        display(er)\n",
    "\n",
    "    end\n",
    "\n",
    "end"
   ]
  },
  {
   "cell_type": "markdown",
   "id": "431d8284-ee1f-47f7-bab4-4d0277ecfaa3",
   "metadata": {},
   "source": [
    "## color"
   ]
  },
  {
   "cell_type": "code",
   "execution_count": null,
   "id": "2cb6e1b9-e085-4c57-957b-93c580e02dcf",
   "metadata": {
    "execution": {
     "iopub.execute_input": "2023-02-23T14:57:05.739000Z",
     "iopub.status.busy": "2023-02-23T14:57:05.739000Z",
     "iopub.status.idle": "2023-02-23T14:57:06.712000Z",
     "shell.execute_reply": "2023-02-23T14:57:06.711000Z"
    }
   },
   "outputs": [],
   "source": [
    "for nu in (0.0, 0.3, 0.6, 1, 2, 4, 8, 16, 32, 64, 128, 256)\n",
    "\n",
    "    BioLab.String.print_header(nu)\n",
    "\n",
    "    co1 = ColorSchemes.plasma[nu]\n",
    "\n",
    "    co2 = parse(Colorant, BioLab.Plot.color(co, nu))\n",
    "\n",
    "    println(co1)\n",
    "\n",
    "    println(co2)\n",
    "\n",
    "    display([co1, co2])\n",
    "\n",
    "end\n",
    "\n",
    "for nu in (0.2, 20)\n",
    "\n",
    "    @code_warntype BioLab.Plot.color(co, nu)\n",
    "\n",
    "    # 95.671 ns (3 allocations: 112 bytes)\n",
    "    # 87.760 ns (3 allocations: 112 bytes)\n",
    "    # @btime BioLab.Plot.color($co, $nu)\n",
    "\n",
    "end"
   ]
  },
  {
   "cell_type": "markdown",
   "id": "faf9658c-7e45-4cb6-853b-d2b47d6cb5d7",
   "metadata": {},
   "source": [
    "## _fractionate"
   ]
  },
  {
   "cell_type": "code",
   "execution_count": null,
   "id": "cb7a24d2-0bbd-4f81-8d8f-6e3ace778e4e",
   "metadata": {
    "execution": {
     "iopub.execute_input": "2023-02-23T14:57:06.713000Z",
     "iopub.status.busy": "2023-02-23T14:57:06.713000Z",
     "iopub.status.idle": "2023-02-23T14:57:07.149000Z",
     "shell.execute_reply": "2023-02-23T14:57:07.149000Z"
    }
   },
   "outputs": [],
   "source": [
    "for co in co_\n",
    "\n",
    "    BioLab.String.print_header()\n",
    "\n",
    "    # TODO: `@test`.\n",
    "    display(BioLab.Plot._fractionate(co))\n",
    "\n",
    "end\n",
    "\n",
    "@code_warntype BioLab.Plot._fractionate(co)\n",
    "\n",
    "# 19.334 μs (769 allocations: 32.12 KiB)\n",
    "# @btime BioLab.Plot._fractionate($co)"
   ]
  },
  {
   "cell_type": "markdown",
   "id": "84e40a06",
   "metadata": {},
   "source": [
    "## plot"
   ]
  },
  {
   "cell_type": "code",
   "execution_count": null,
   "id": "f94ce3c5-a6d7-46b1-9690-da4bbec09230",
   "metadata": {
    "execution": {
     "iopub.execute_input": "2023-02-23T14:57:07.150000Z",
     "iopub.status.busy": "2023-02-23T14:57:07.150000Z",
     "iopub.status.idle": "2023-02-23T14:57:08.008000Z",
     "shell.execute_reply": "2023-02-23T14:57:08.008000Z"
    }
   },
   "outputs": [],
   "source": [
    "data = [Dict()]\n",
    "\n",
    "BioLab.Plot.plot(data)\n",
    "\n",
    "layout = Dict(\n",
    "    \"title\" => \"Title\",\n",
    "    \"yaxis\" => Dict(\"title\" => \"Y-Axis Title\"),\n",
    "    \"xaxis\" => Dict(\"title\" => \"X-Axis Title\"),\n",
    ")\n",
    "\n",
    "BioLab.Plot.plot(data, layout)\n",
    "\n",
    "config = Dict(\"editable\" => true)\n",
    "\n",
    "ht = joinpath(te, \"plot.html\")\n",
    "\n",
    "BioLab.Plot.plot(data, layout; config, ht)\n",
    "\n",
    "@code_warntype BioLab.Plot.plot(data, layout; config, ht)"
   ]
  },
  {
   "cell_type": "markdown",
   "id": "b9de93d4-d21b-4a7f-a100-319558c93e45",
   "metadata": {},
   "source": [
    "## plot_scatter"
   ]
  },
  {
   "cell_type": "code",
   "execution_count": null,
   "id": "a015a420-c9cf-4f6c-852a-3136ec4f89a4",
   "metadata": {
    "execution": {
     "iopub.execute_input": "2023-02-23T14:57:08.009000Z",
     "iopub.status.busy": "2023-02-23T14:57:08.009000Z",
     "iopub.status.idle": "2023-02-23T14:57:08.364000Z",
     "shell.execute_reply": "2023-02-23T14:57:08.364000Z"
    }
   },
   "outputs": [],
   "source": [
    "y1 = [-1, 0, 2]\n",
    "\n",
    "y2 = [3, 4]\n",
    "\n",
    "y_ = [y1, y2]\n",
    "\n",
    "BioLab.Plot.plot_scatter(y_)\n",
    "\n",
    "x_ = [y1 * 10, y2 * 20]\n",
    "\n",
    "ht = joinpath(te, \"scatter.html\")\n",
    "\n",
    "BioLab.Plot.plot_scatter(y_, x_; ht)\n",
    "\n",
    "@code_warntype BioLab.Plot.plot_scatter(y_, x_; ht)"
   ]
  },
  {
   "cell_type": "markdown",
   "id": "01af355b",
   "metadata": {},
   "source": [
    "## plot_bar"
   ]
  },
  {
   "cell_type": "code",
   "execution_count": null,
   "id": "3d05b55c-bd69-4bee-845e-f0638f4c53ae",
   "metadata": {
    "execution": {
     "iopub.execute_input": "2023-02-23T14:57:08.365000Z",
     "iopub.status.busy": "2023-02-23T14:57:08.365000Z",
     "iopub.status.idle": "2023-02-23T14:57:08.908000Z",
     "shell.execute_reply": "2023-02-23T14:57:08.908000Z"
    }
   },
   "outputs": [],
   "source": [
    "y1 = [-1, 2, 5]\n",
    "\n",
    "y_ = [y1, reverse(y1), [8]]\n",
    "\n",
    "BioLab.Plot.plot_bar(y_)\n",
    "\n",
    "x1 = [-2, -1, 0]\n",
    "\n",
    "x_ = [x1, -x1, [0]]\n",
    "\n",
    "name_ = [\"Jonathan\", \"Joseph\", \"Jotaro\"]\n",
    "\n",
    "barmode = \"group\"\n",
    "\n",
    "layout = Dict(\"barmode\" => barmode, \"title\" => Dict(\"text\" => titlecase(barmode)))\n",
    "\n",
    "ht = joinpath(te, \"bar.$barmode.html\")\n",
    "\n",
    "BioLab.Plot.plot_bar(y_, x_; name_, layout, ht)\n",
    "\n",
    "@code_warntype BioLab.Plot.plot_bar(y_, x_; name_, layout, ht)"
   ]
  },
  {
   "cell_type": "markdown",
   "id": "17ba171f-b487-4704-93b3-1359c40c680e",
   "metadata": {},
   "source": [
    "## plot_histogram"
   ]
  },
  {
   "cell_type": "code",
   "execution_count": null,
   "id": "3d0e5c3a-eb1f-4b70-a548-f02f4fef18f2",
   "metadata": {
    "execution": {
     "iopub.execute_input": "2023-02-23T14:57:08.909000Z",
     "iopub.status.busy": "2023-02-23T14:57:08.909000Z",
     "iopub.status.idle": "2023-02-23T14:57:09.925000Z",
     "shell.execute_reply": "2023-02-23T14:57:09.925000Z"
    }
   },
   "outputs": [],
   "source": [
    "x_ = [[-1], [0, 1], [2, 3, 4]]\n",
    "\n",
    "BioLab.Plot.plot_histogram(x_)\n",
    "\n",
    "text_ = [[\"1A\"], [\"2A\", \"2B\"], [\"3A\", \"3B\", \"3C\"]]\n",
    "\n",
    "for xbins_size in (0.0, 1.0)\n",
    "\n",
    "    BioLab.Plot.plot_histogram(\n",
    "        x_,\n",
    "        text_;\n",
    "        xbins_size,\n",
    "        layout = Dict(\"title\" => Dict(\"text\" => xbins_size)),\n",
    "    )\n",
    "\n",
    "end\n",
    "\n",
    "@code_warntype BioLab.Plot.plot_histogram(x_, text_; ht = joinpath(te, \"histogram.html\"))"
   ]
  },
  {
   "cell_type": "markdown",
   "id": "5f2dd5ab-9f6d-4838-ad2c-e545b7b8dcc4",
   "metadata": {},
   "source": [
    "## plot_heat_map"
   ]
  },
  {
   "cell_type": "code",
   "execution_count": null,
   "id": "db4d2888-cdc9-443f-8b87-8da489b3a357",
   "metadata": {
    "execution": {
     "iopub.execute_input": "2023-02-23T14:57:09.926000Z",
     "iopub.status.busy": "2023-02-23T14:57:09.926000Z",
     "iopub.status.idle": "2023-02-23T14:57:11.877000Z",
     "shell.execute_reply": "2023-02-23T14:57:11.877000Z"
    }
   },
   "outputs": [],
   "source": [
    "n_ro = 2\n",
    "\n",
    "n_co = 4\n",
    "\n",
    "ro1_x_co1_x_nu = BioLab.Matrix.simulate(n_ro, n_co, \"1.0:\")\n",
    "\n",
    "BioLab.Plot.plot_heat_map(ro1_x_co1_x_nu)\n",
    "\n",
    "ro_ = [\"Row$id\" for id in 1:n_ro]\n",
    "\n",
    "co_ = [\"Column$id\" for id in 1:n_co]\n",
    "\n",
    "BioLab.Plot.plot_heat_map(ro1_x_co1_x_nu, ro_, co_)\n",
    "\n",
    "y = [-1, 1, -2, 2]\n",
    "\n",
    "x = [1, 4, 2, 5, 3, 6]\n",
    "\n",
    "ro_x_co_x_nu = [la1 * la2 for la1 in y, la2 in x]\n",
    "\n",
    "grr_ = [1, 2, 1, 2]\n",
    "\n",
    "BioLab.Plot.plot_heat_map(ro_x_co_x_nu; grr_)\n",
    "\n",
    "grc_ = [1, 2, 1, 2, 1, 2]\n",
    "\n",
    "BioLab.Plot.plot_heat_map(ro_x_co_x_nu; grc_)\n",
    "\n",
    "y = [\"*$nu\" for nu in y]\n",
    "\n",
    "x = [\"*$nu\" for nu in x]\n",
    "\n",
    "ht = joinpath(te, \"heat_map.html\")\n",
    "\n",
    "BioLab.Plot.plot_heat_map(ro_x_co_x_nu, y, x; grr_, grc_, ht)\n",
    "\n",
    "@code_warntype BioLab.Plot.plot_heat_map(ro_x_co_x_nu, y, x; grr_, grc_, ht)\n",
    "\n",
    "da = BioLab.DataFrame.make(\"Row name\", ro_, co_, ro1_x_co1_x_nu)\n",
    "\n",
    "ht = joinpath(te, \"heat_map.data_frame.html\")\n",
    "\n",
    "BioLab.Plot.plot_heat_map(da; ht)\n",
    "\n",
    "@code_warntype BioLab.Plot.plot_heat_map(da; ht)"
   ]
  },
  {
   "cell_type": "markdown",
   "id": "60d766f0-c006-40fe-acde-29688017f992",
   "metadata": {},
   "source": [
    "## plot_radar"
   ]
  },
  {
   "cell_type": "code",
   "execution_count": null,
   "id": "6f84c760-a8ea-4f93-851f-a31fc9af89de",
   "metadata": {
    "execution": {
     "iopub.execute_input": "2023-02-23T14:57:11.878000Z",
     "iopub.status.busy": "2023-02-23T14:57:11.878000Z",
     "iopub.status.idle": "2023-02-23T14:57:12.485000Z",
     "shell.execute_reply": "2023-02-23T14:57:12.484000Z"
    }
   },
   "outputs": [],
   "source": [
    "theta30 = collect(0:30:360)\n",
    "\n",
    "theta45 = collect(0:45:360)\n",
    "\n",
    "theta60 = collect(0:60:360)\n",
    "\n",
    "theta_ = [theta30, theta45, theta60]\n",
    "\n",
    "r__ = [theta30, theta45, theta60]\n",
    "\n",
    "name_ = [30, 45, 60]\n",
    "\n",
    "ht = joinpath(te, \"radar.html\")\n",
    "\n",
    "BioLab.Plot.plot_radar(theta_, r__; name_, ht)\n",
    "\n",
    "@code_warntype BioLab.Plot.plot_radar(theta_, r__; name_, ht)"
   ]
  }
 ],
 "metadata": {
  "@webio": {
   "lastCommId": null,
   "lastKernelId": null
  },
  "kernelspec": {
   "display_name": "Julia 1.8.5",
   "language": "julia",
   "name": "julia-1.8"
  },
  "language_info": {
   "file_extension": ".jl",
   "mimetype": "application/julia",
   "name": "julia",
   "version": "1.8.5"
  }
 },
 "nbformat": 4,
 "nbformat_minor": 5
}
