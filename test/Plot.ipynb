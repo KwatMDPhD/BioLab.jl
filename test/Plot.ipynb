{
 "cells": [
  {
   "outputs": [],
   "cell_type": "code",
   "source": [
    "using ColorSchemes\n",
    "\n",
    "using Colors\n",
    "\n",
    "using BioinformaticsCore"
   ],
   "id": "baf12f00",
   "metadata": {},
   "execution_count": null
  },
  {
   "cell_type": "markdown",
   "source": [
    "## NA_SC"
   ],
   "id": "e4c321c2-951d-4540-bd74-600b06b8284b",
   "metadata": {}
  },
  {
   "outputs": [],
   "cell_type": "code",
   "source": [
    "function plot_colorscheme(nu_ = (), na_ = keys(BioinformaticsCore.Plot.NA_SC))\n",
    "\n",
    "    for (na, sc) in BioinformaticsCore.Plot.NA_SC\n",
    "\n",
    "        if !(na in na_)\n",
    "\n",
    "            continue\n",
    "\n",
    "        end\n",
    "\n",
    "        println(na)\n",
    "\n",
    "        display(sc)\n",
    "\n",
    "        if !isempty(nu_)\n",
    "\n",
    "            for nu in nu_\n",
    "\n",
    "                println(nu)\n",
    "\n",
    "                try\n",
    "\n",
    "                    display(sc[nu])\n",
    "\n",
    "                catch er\n",
    "\n",
    "                    println(er)\n",
    "\n",
    "                end\n",
    "\n",
    "            end\n",
    "\n",
    "        end\n",
    "\n",
    "    end\n",
    "\n",
    "end"
   ],
   "id": "595f6df1-6e32-467d-88dc-ff1c5ad0eae0",
   "metadata": {},
   "execution_count": null
  },
  {
   "outputs": [],
   "cell_type": "code",
   "source": [
    "plot_colorscheme()"
   ],
   "id": "b3ca8425-4ecf-442f-91ef-9929aa321c21",
   "metadata": {},
   "execution_count": null
  },
  {
   "outputs": [],
   "cell_type": "code",
   "source": [
    "plot_colorscheme(\n",
    "    (-10.0^3, -1.0, -1, 0.0, 0, 0.5, 1.0, 1, 2.0, 2, 3.0, 3, 256.0, 256, 257),\n",
    "    (\"plasma\",),\n",
    ")"
   ],
   "id": "9586393a-ab66-47b0-8264-aacf8e02c2fc",
   "metadata": {},
   "execution_count": null
  },
  {
   "cell_type": "markdown",
   "source": [
    "## color"
   ],
   "id": "c3e250de-2a92-4605-86da-b8d3cb39d155",
   "metadata": {}
  },
  {
   "outputs": [],
   "cell_type": "code",
   "source": [
    "for fr in 0.0:(1 / 3):1\n",
    "\n",
    "    co1 = parse(Colorant, BioinformaticsCore.Plot.color(\"plasma\", fr))\n",
    "\n",
    "    co2 = ColorSchemes.plasma[fr]\n",
    "\n",
    "    if co1 != co2\n",
    "\n",
    "        println(fr)\n",
    "\n",
    "        println(co1)\n",
    "\n",
    "        println(co2)\n",
    "\n",
    "        display([co1, co2])\n",
    "\n",
    "    end\n",
    "\n",
    "end"
   ],
   "id": "2cb6e1b9-e085-4c57-957b-93c580e02dcf",
   "metadata": {},
   "execution_count": null
  },
  {
   "cell_type": "markdown",
   "source": [
    "## _fractionate"
   ],
   "id": "d8284e31-0376-4731-acd5-dc848b4bbabb",
   "metadata": {}
  },
  {
   "outputs": [],
   "cell_type": "code",
   "source": [
    "for (na, sc) in BioinformaticsCore.Plot.NA_SC\n",
    "\n",
    "    println(\"=\"^99)\n",
    "\n",
    "    display(BioinformaticsCore.Plot._fractionate(sc))\n",
    "\n",
    "end"
   ],
   "id": "cb7a24d2-0bbd-4f81-8d8f-6e3ace778e4e",
   "metadata": {},
   "execution_count": null
  },
  {
   "cell_type": "markdown",
   "source": [
    "## plot"
   ],
   "id": "84e40a06",
   "metadata": {}
  },
  {
   "outputs": [],
   "cell_type": "code",
   "source": [
    "te = BioinformaticsCore.Path.make_temporary(\"BioinformaticsCore.test.Plot\")"
   ],
   "id": "c4b58199",
   "metadata": {},
   "execution_count": null
  },
  {
   "outputs": [],
   "cell_type": "code",
   "source": [
    "data = [Dict()]\n",
    "\n",
    ";"
   ],
   "id": "9e1c111a-6cb3-41f9-921c-257a972154ae",
   "metadata": {},
   "execution_count": null
  },
  {
   "outputs": [],
   "cell_type": "code",
   "source": [
    "BioinformaticsCore.Plot.plot(data)"
   ],
   "id": "cae0af89-f0c5-40a6-9419-ac582779e494",
   "metadata": {},
   "execution_count": null
  },
  {
   "outputs": [],
   "cell_type": "code",
   "source": [
    "layout = Dict(\n",
    "    \"title\" => \"Title\",\n",
    "    \"yaxis\" => Dict(\"title\" => \"Y-Axis Title\"),\n",
    "    \"xaxis\" => Dict(\"title\" => \"X-Axis Title\"),\n",
    ")\n",
    "\n",
    ";"
   ],
   "id": "efa2560d-61ee-438c-97af-10aeb71fb155",
   "metadata": {},
   "execution_count": null
  },
  {
   "outputs": [],
   "cell_type": "code",
   "source": [
    "BioinformaticsCore.Plot.plot(data, layout)"
   ],
   "id": "7fc7eeaa-b544-4dfe-97c4-b4c88a94df93",
   "metadata": {},
   "execution_count": null
  },
  {
   "outputs": [],
   "cell_type": "code",
   "source": [
    "config = Dict(\"editable\" => true)\n",
    "\n",
    "BioinformaticsCore.Plot.plot(data, layout, config, ht = joinpath(te, \"output.html\"))"
   ],
   "id": "19e96203-257a-4461-988a-b01973d72aa8",
   "metadata": {},
   "execution_count": null
  },
  {
   "cell_type": "markdown",
   "source": [
    "## plot_scatter"
   ],
   "id": "b9de93d4-d21b-4a7f-a100-319558c93e45",
   "metadata": {}
  },
  {
   "outputs": [],
   "cell_type": "code",
   "source": [
    "y1 = [-1, 0, 2]\n",
    "\n",
    "y2 = [3, 4]\n",
    "\n",
    ";"
   ],
   "id": "f1e7f0d4-1fd8-4bc2-85e6-dde1d26c71dc",
   "metadata": {},
   "execution_count": null
  },
  {
   "outputs": [],
   "cell_type": "code",
   "source": [
    "y_ = [y1, y2]"
   ],
   "id": "4fcae14b-75bb-4d77-be9d-b2df271b6149",
   "metadata": {},
   "execution_count": null
  },
  {
   "outputs": [],
   "cell_type": "code",
   "source": [
    "BioinformaticsCore.Plot.plot_scatter(y_)"
   ],
   "id": "f29cca1a",
   "metadata": {},
   "execution_count": null
  },
  {
   "outputs": [],
   "cell_type": "code",
   "source": [
    "x_ = [y1 * 10, y2 * 20]"
   ],
   "id": "aec95893",
   "metadata": {},
   "execution_count": null
  },
  {
   "outputs": [],
   "cell_type": "code",
   "source": [
    "BioinformaticsCore.Plot.plot_scatter(y_, x_, ht = joinpath(te, \"scatter.html\"))"
   ],
   "id": "672c6dab",
   "metadata": {},
   "execution_count": null
  },
  {
   "cell_type": "markdown",
   "source": [
    "## plot_bar"
   ],
   "id": "01af355b",
   "metadata": {}
  },
  {
   "outputs": [],
   "cell_type": "code",
   "source": [
    "y1 = [-1, 2, 5]\n",
    "\n",
    ";"
   ],
   "id": "24732d61-1ef1-473f-8c38-8d1035dc10cd",
   "metadata": {},
   "execution_count": null
  },
  {
   "outputs": [],
   "cell_type": "code",
   "source": [
    "y_ = [y1, reverse(y1), [8]]"
   ],
   "id": "24acff10-63af-4261-b8e3-0ee0ba25963e",
   "metadata": {},
   "execution_count": null
  },
  {
   "outputs": [],
   "cell_type": "code",
   "source": [
    "BioinformaticsCore.Plot.plot_bar(y_)"
   ],
   "id": "2568a640",
   "metadata": {},
   "execution_count": null
  },
  {
   "outputs": [],
   "cell_type": "code",
   "source": [
    "x1 = [-2, -1, 0]\n",
    "\n",
    "x_ = [x1, -x1, [0]]"
   ],
   "id": "4693d182-f62f-433e-b172-612f9d936a85",
   "metadata": {},
   "execution_count": null
  },
  {
   "outputs": [],
   "cell_type": "code",
   "source": [
    "name_ = [\"Jonathan\", \"Joseph\", \"Jotaro\"]\n",
    "\n",
    ";"
   ],
   "id": "b9ca7825",
   "metadata": {},
   "execution_count": null
  },
  {
   "outputs": [],
   "cell_type": "code",
   "source": [
    "for barmode in (\"stack\", \"group\")\n",
    "\n",
    "    BioinformaticsCore.Plot.plot_bar(\n",
    "        y_,\n",
    "        x_,\n",
    "        name_ = name_,\n",
    "        layout = Dict(\"barmode\" => barmode, \"title\" => Dict(\"text\" => titlecase(barmode))),\n",
    "        ht = joinpath(te, \"bar.$barmode.html\"),\n",
    "    )\n",
    "\n",
    "end"
   ],
   "id": "9ba2fa69-7504-492f-aed8-f9fba850ed22",
   "metadata": {},
   "execution_count": null
  },
  {
   "cell_type": "markdown",
   "source": [
    "## plot_histogram"
   ],
   "id": "17ba171f-b487-4704-93b3-1359c40c680e",
   "metadata": {}
  },
  {
   "outputs": [],
   "cell_type": "code",
   "source": [
    "x_ = [[-1], [0, 1], [2, 3, 4]]\n",
    "\n",
    ";"
   ],
   "id": "839be29a-34ce-4b05-b4a2-c95ac2624349",
   "metadata": {},
   "execution_count": null
  },
  {
   "outputs": [],
   "cell_type": "code",
   "source": [
    "BioinformaticsCore.Plot.plot_histogram(x_)"
   ],
   "id": "f346371b-9ce3-412a-a326-d29fb68a6bb0",
   "metadata": {},
   "execution_count": null
  },
  {
   "outputs": [],
   "cell_type": "code",
   "source": [
    "text_ = [[\"1A\"], [\"2A\", \"2B\"], [\"3A\", \"3B\", \"3C\"]]\n",
    "\n",
    ";"
   ],
   "id": "1e68e165-2614-463f-b00c-2e76577266e5",
   "metadata": {},
   "execution_count": null
  },
  {
   "outputs": [],
   "cell_type": "code",
   "source": [
    "for xbins_size in (0.0, 1.0)\n",
    "\n",
    "    BioinformaticsCore.Plot.plot_histogram(x_, text_, xbins_size = xbins_size)\n",
    "\n",
    "end"
   ],
   "id": "42a3f92f-97ff-4a6f-b6cd-fdb59823dea4",
   "metadata": {},
   "execution_count": null
  },
  {
   "cell_type": "markdown",
   "source": [
    "## plot_heat_map"
   ],
   "id": "5f2dd5ab-9f6d-4838-ad2c-e545b7b8dcc4",
   "metadata": {}
  },
  {
   "outputs": [],
   "cell_type": "code",
   "source": [
    "n_ro = 2\n",
    "\n",
    "n_co = 4\n",
    "\n",
    "ro_x_co_x_nu = BioinformaticsCore.Matrix.simulate(n_ro, n_co)"
   ],
   "id": "4f9637cd",
   "metadata": {},
   "execution_count": null
  },
  {
   "outputs": [],
   "cell_type": "code",
   "source": [
    "BioinformaticsCore.Plot.plot_heat_map(ro_x_co_x_nu)"
   ],
   "id": "1736400b-6d8c-42c9-98d1-9516ccbb1d07",
   "metadata": {},
   "execution_count": null
  },
  {
   "outputs": [],
   "cell_type": "code",
   "source": [
    "ro_ = [\"Row$id\" for id in 1:n_ro]\n",
    "\n",
    "co_ = [\"Column$id\" for id in 1:n_co]\n",
    "\n",
    ";"
   ],
   "id": "b8bd728a-d63a-43da-8ce3-c1c8b234d14a",
   "metadata": {},
   "execution_count": null
  },
  {
   "outputs": [],
   "cell_type": "code",
   "source": [
    "BioinformaticsCore.Plot.plot_heat_map(ro_x_co_x_nu, ro_, co_)"
   ],
   "id": "31b0f214",
   "metadata": {},
   "execution_count": null
  },
  {
   "outputs": [],
   "cell_type": "code",
   "source": [
    "BioinformaticsCore.Plot.plot_heat_map(\n",
    "    BioinformaticsCore.DataFrame.make(\"Row name\", ro_, co_, ro_x_co_x_nu),\n",
    "    ht = joinpath(te, \"heat_map.html\"),\n",
    ")"
   ],
   "id": "ea156e4a-e75d-4c00-be0a-cb9896e302f0",
   "metadata": {},
   "execution_count": null
  },
  {
   "outputs": [],
   "cell_type": "code",
   "source": [
    "y = [-1, 1, -2, 2]\n",
    "\n",
    "x = [1, 4, 2, 5, 3, 6]\n",
    "\n",
    "ro_x_co_x_nu = [la1 * la2 for la1 in y, la2 in x]"
   ],
   "id": "624a0a68-51ba-441d-8288-1e2d0e1b7a2a",
   "metadata": {},
   "execution_count": null
  },
  {
   "outputs": [],
   "cell_type": "code",
   "source": [
    "grr_ = [1, 2, 1, 2]\n",
    "\n",
    ";"
   ],
   "id": "1ed6f9ec-72c6-47eb-b16c-a8b02835ee0d",
   "metadata": {},
   "execution_count": null
  },
  {
   "outputs": [],
   "cell_type": "code",
   "source": [
    "BioinformaticsCore.Plot.plot_heat_map(ro_x_co_x_nu, grr_ = grr_)"
   ],
   "id": "e2b5f884-f5ba-4cba-982a-9a939e1e5b71",
   "metadata": {},
   "execution_count": null
  },
  {
   "outputs": [],
   "cell_type": "code",
   "source": [
    "grc_ = [1, 2, 1, 2, 1, 2]\n",
    "\n",
    ";"
   ],
   "id": "6d72ca0c-e9d3-49ab-98f6-077981ae8e26",
   "metadata": {},
   "execution_count": null
  },
  {
   "outputs": [],
   "cell_type": "code",
   "source": [
    "BioinformaticsCore.Plot.plot_heat_map(ro_x_co_x_nu, grc_ = grc_)"
   ],
   "id": "42821d88-4fb4-4d68-948c-2b334dc471ea",
   "metadata": {},
   "execution_count": null
  },
  {
   "outputs": [],
   "cell_type": "code",
   "source": [
    "BioinformaticsCore.Plot.plot_heat_map(\n",
    "    ro_x_co_x_nu,\n",
    "    [\"*$nu\" for nu in y],\n",
    "    [\"*$nu\" for nu in x],\n",
    "    grr_ = grr_,\n",
    "    grc_ = grc_,\n",
    ")"
   ],
   "id": "4772c9e4-39e1-4d10-954f-63061de2b458",
   "metadata": {},
   "execution_count": null
  },
  {
   "cell_type": "markdown",
   "source": [
    "## plot_radar"
   ],
   "id": "60d766f0-c006-40fe-acde-29688017f992",
   "metadata": {}
  },
  {
   "outputs": [],
   "cell_type": "code",
   "source": [
    "theta30 = collect(0:30:360)\n",
    "\n",
    "theta45 = collect(0:45:360)\n",
    "\n",
    "theta60 = collect(0:60:360)\n",
    "\n",
    "BioinformaticsCore.Plot.plot_radar(\n",
    "    [theta30, theta45, theta60],\n",
    "    [theta30, theta45, theta60],\n",
    "    name_ = [30, 45, 60],\n",
    ")"
   ],
   "id": "6f84c760-a8ea-4f93-851f-a31fc9af89de",
   "metadata": {},
   "execution_count": null
  }
 ],
 "nbformat_minor": 5,
 "metadata": {
  "language_info": {
   "file_extension": ".jl",
   "mimetype": "application/julia",
   "name": "julia",
   "version": "1.8.2"
  },
  "@webio": {
   "lastKernelId": null,
   "lastCommId": null
  },
  "kernelspec": {
   "name": "julia-1.8",
   "display_name": "Julia 1.8.2",
   "language": "julia"
  }
 },
 "nbformat": 4
}
