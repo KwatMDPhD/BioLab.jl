{
 "cells": [
  {
   "cell_type": "code",
   "execution_count": null,
   "id": "baf12f00",
   "metadata": {},
   "outputs": [],
   "source": [
    "using ColorSchemes\n",
    "\n",
    "using Colors\n",
    "\n",
    "using OnePiece"
   ]
  },
  {
   "cell_type": "markdown",
   "id": "e4c321c2-951d-4540-bd74-600b06b8284b",
   "metadata": {},
   "source": [
    "## NA_SC"
   ]
  },
  {
   "cell_type": "code",
   "execution_count": null,
   "id": "595f6df1-6e32-467d-88dc-ff1c5ad0eae0",
   "metadata": {},
   "outputs": [],
   "source": [
    "function plot_colorscheme(nu_ = (), na_ = keys(OnePiece.Plot.NA_SC))\n",
    "\n",
    "    for (na, sc) in OnePiece.Plot.NA_SC\n",
    "\n",
    "        if !(na in na_)\n",
    "\n",
    "            continue\n",
    "\n",
    "        end\n",
    "\n",
    "        println(na)\n",
    "\n",
    "        display(sc)\n",
    "\n",
    "        if !isempty(nu_)\n",
    "\n",
    "            println(nu_)\n",
    "\n",
    "            for nu in nu_\n",
    "\n",
    "                try\n",
    "\n",
    "                    display(sc[nu])\n",
    "\n",
    "                catch er\n",
    "\n",
    "                    println(er)\n",
    "\n",
    "                end\n",
    "\n",
    "            end\n",
    "\n",
    "        end\n",
    "\n",
    "    end\n",
    "\n",
    "end"
   ]
  },
  {
   "cell_type": "code",
   "execution_count": null,
   "id": "b3ca8425-4ecf-442f-91ef-9929aa321c21",
   "metadata": {},
   "outputs": [],
   "source": [
    "plot_colorscheme()"
   ]
  },
  {
   "cell_type": "code",
   "execution_count": null,
   "id": "31f03d40-1c51-4085-a96f-56946569b642",
   "metadata": {},
   "outputs": [],
   "source": [
    "for nu_ in ((1.0,), (1,), (0, 1, 2, 10, 11), (0.0, 1, 2, 10, 11), 0:(1 / 10):1)\n",
    "\n",
    "    println(\"=\"^99)\n",
    "\n",
    "    plot_colorscheme(nu_, [\"plasma\"])\n",
    "\n",
    "end"
   ]
  },
  {
   "cell_type": "markdown",
   "id": "c3e250de-2a92-4605-86da-b8d3cb39d155",
   "metadata": {},
   "source": [
    "## color"
   ]
  },
  {
   "cell_type": "code",
   "execution_count": null,
   "id": "2cb6e1b9-e085-4c57-957b-93c580e02dcf",
   "metadata": {},
   "outputs": [],
   "source": [
    "for fr in 0.0:0.1:1\n",
    "\n",
    "    co1 = parse(Colorant, OnePiece.Plot.color(\"plasma\", fr))\n",
    "\n",
    "    co2 = ColorSchemes.plasma[fr]\n",
    "\n",
    "    if co1 != co2\n",
    "\n",
    "        println(fr)\n",
    "\n",
    "        println(co1)\n",
    "\n",
    "        println(co2)\n",
    "\n",
    "        display([co1, co2])\n",
    "\n",
    "    end\n",
    "\n",
    "end"
   ]
  },
  {
   "cell_type": "markdown",
   "id": "d8284e31-0376-4731-acd5-dc848b4bbabb",
   "metadata": {},
   "source": [
    "## _fractionate"
   ]
  },
  {
   "cell_type": "code",
   "execution_count": null,
   "id": "cb7a24d2-0bbd-4f81-8d8f-6e3ace778e4e",
   "metadata": {},
   "outputs": [],
   "source": [
    "for (na, sc) in OnePiece.Plot.NA_SC\n",
    "\n",
    "    println(\"=\"^99)\n",
    "\n",
    "    println(OnePiece.Plot._fractionate(sc))\n",
    "\n",
    "end"
   ]
  },
  {
   "cell_type": "markdown",
   "id": "84e40a06",
   "metadata": {},
   "source": [
    "## plot"
   ]
  },
  {
   "cell_type": "code",
   "execution_count": null,
   "id": "c4b58199",
   "metadata": {},
   "outputs": [],
   "source": [
    "te = OnePiece.Path.make_temporary(\"OnePiece.test.Plot\")"
   ]
  },
  {
   "cell_type": "code",
   "execution_count": null,
   "id": "9e1c111a-6cb3-41f9-921c-257a972154ae",
   "metadata": {},
   "outputs": [],
   "source": [
    "data = [Dict()]\n",
    "\n",
    ";"
   ]
  },
  {
   "cell_type": "code",
   "execution_count": null,
   "id": "cae0af89-f0c5-40a6-9419-ac582779e494",
   "metadata": {},
   "outputs": [],
   "source": [
    "OnePiece.Plot.plot(data)"
   ]
  },
  {
   "cell_type": "code",
   "execution_count": null,
   "id": "efa2560d-61ee-438c-97af-10aeb71fb155",
   "metadata": {},
   "outputs": [],
   "source": [
    "layout = Dict(\n",
    "    \"title\" => \"Title\",\n",
    "    \"yaxis\" => Dict(\"title\" => \"Y-Axis Title\"),\n",
    "    \"xaxis\" => Dict(\"title\" => \"X-Axis Title\"),\n",
    ")\n",
    "\n",
    ";"
   ]
  },
  {
   "cell_type": "code",
   "execution_count": null,
   "id": "7fc7eeaa-b544-4dfe-97c4-b4c88a94df93",
   "metadata": {},
   "outputs": [],
   "source": [
    "OnePiece.Plot.plot(data, layout)"
   ]
  },
  {
   "cell_type": "code",
   "execution_count": null,
   "id": "19e96203-257a-4461-988a-b01973d72aa8",
   "metadata": {},
   "outputs": [],
   "source": [
    "config = Dict(\"editable\" => true)\n",
    "\n",
    "OnePiece.Plot.plot(data, layout, config, ht = joinpath(te, \"output.html\"))"
   ]
  },
  {
   "cell_type": "markdown",
   "id": "b9de93d4-d21b-4a7f-a100-319558c93e45",
   "metadata": {},
   "source": [
    "## plot_scatter"
   ]
  },
  {
   "cell_type": "code",
   "execution_count": null,
   "id": "a94ca341-ba82-4e87-89fa-2a6b2c4fe11e",
   "metadata": {},
   "outputs": [],
   "source": [
    "x1 = [-1, 0, 2]\n",
    "\n",
    "x2 = [3, 4]\n",
    "\n",
    ";"
   ]
  },
  {
   "cell_type": "code",
   "execution_count": null,
   "id": "1877a07c-cae7-4074-b42c-5b960eb4bb14",
   "metadata": {},
   "outputs": [],
   "source": [
    "x_ = [x1, x2]"
   ]
  },
  {
   "cell_type": "code",
   "execution_count": null,
   "id": "aec95893",
   "metadata": {},
   "outputs": [],
   "source": [
    "y_ = [x1 * 10, x2 * 20]"
   ]
  },
  {
   "cell_type": "code",
   "execution_count": null,
   "id": "f29cca1a",
   "metadata": {},
   "outputs": [],
   "source": [
    "OnePiece.Plot.plot_scatter(y_)"
   ]
  },
  {
   "cell_type": "code",
   "execution_count": null,
   "id": "672c6dab",
   "metadata": {},
   "outputs": [],
   "source": [
    "OnePiece.Plot.plot_scatter(y_, x_, ht = joinpath(te, \"scatter.html\"))"
   ]
  },
  {
   "cell_type": "markdown",
   "id": "01af355b",
   "metadata": {},
   "source": [
    "## plot_bar"
   ]
  },
  {
   "cell_type": "code",
   "execution_count": null,
   "id": "1f297153",
   "metadata": {},
   "outputs": [],
   "source": [
    "y1 = [-1, 2, 5]\n",
    "\n",
    "y_ = [y1, reverse(y1)]"
   ]
  },
  {
   "cell_type": "code",
   "execution_count": null,
   "id": "2568a640",
   "metadata": {},
   "outputs": [],
   "source": [
    "OnePiece.Plot.plot_bar(y_)"
   ]
  },
  {
   "cell_type": "code",
   "execution_count": null,
   "id": "4693d182-f62f-433e-b172-612f9d936a85",
   "metadata": {},
   "outputs": [],
   "source": [
    "x1 = [-2, -1, 0]\n",
    "\n",
    "x_ = [x1, -x1]"
   ]
  },
  {
   "cell_type": "code",
   "execution_count": null,
   "id": "b9ca7825",
   "metadata": {},
   "outputs": [],
   "source": [
    "name_ = [\"Jonathan\", \"Joseph\"]\n",
    "\n",
    ";"
   ]
  },
  {
   "cell_type": "code",
   "execution_count": null,
   "id": "e26efbb2",
   "metadata": {},
   "outputs": [],
   "source": [
    "OnePiece.Plot.plot_bar(y_, x_, name_ = name_)"
   ]
  },
  {
   "cell_type": "code",
   "execution_count": null,
   "id": "3d6227e4-fa66-42a3-bbf4-9a9886214e47",
   "metadata": {},
   "outputs": [],
   "source": [
    "OnePiece.Plot.plot_bar(\n",
    "    push!(y_, [8]),\n",
    "    push!(x_, [0]),\n",
    "    name_ = push!(name_, \"Jotaro\"),\n",
    "    layout = Dict(\"barmode\" => \"stack\", \"title\" => Dict(\"text\" => \"Stack\")),\n",
    "    ht = joinpath(te, \"bar.html\"),\n",
    ")"
   ]
  },
  {
   "cell_type": "markdown",
   "id": "17ba171f-b487-4704-93b3-1359c40c680e",
   "metadata": {},
   "source": [
    "## plot_histogram"
   ]
  },
  {
   "cell_type": "code",
   "execution_count": null,
   "id": "839be29a-34ce-4b05-b4a2-c95ac2624349",
   "metadata": {},
   "outputs": [],
   "source": [
    "x_ = [[-1], [0, 1], [2, 3, 4]]\n",
    "\n",
    ";"
   ]
  },
  {
   "cell_type": "code",
   "execution_count": null,
   "id": "f346371b-9ce3-412a-a326-d29fb68a6bb0",
   "metadata": {},
   "outputs": [],
   "source": [
    "OnePiece.Plot.plot_histogram(x_)"
   ]
  },
  {
   "cell_type": "code",
   "execution_count": null,
   "id": "1e68e165-2614-463f-b00c-2e76577266e5",
   "metadata": {},
   "outputs": [],
   "source": [
    "text_ = [[\"1A\"], [\"2A\", \"2B\"], [\"3A\", \"3B\", \"3C\"]]\n",
    "\n",
    ";"
   ]
  },
  {
   "cell_type": "code",
   "execution_count": null,
   "id": "42a3f92f-97ff-4a6f-b6cd-fdb59823dea4",
   "metadata": {},
   "outputs": [],
   "source": [
    "OnePiece.Plot.plot_histogram(x_, text_)"
   ]
  },
  {
   "cell_type": "code",
   "execution_count": null,
   "id": "e0a6957a",
   "metadata": {},
   "outputs": [],
   "source": [
    "OnePiece.Plot.plot_histogram(x_, text_, xbins_size = 1)"
   ]
  },
  {
   "cell_type": "markdown",
   "id": "5f2dd5ab-9f6d-4838-ad2c-e545b7b8dcc4",
   "metadata": {},
   "source": [
    "## plot_heat_map"
   ]
  },
  {
   "cell_type": "code",
   "execution_count": null,
   "id": "4f9637cd",
   "metadata": {},
   "outputs": [],
   "source": [
    "n_ro = 2\n",
    "\n",
    "n_co = 4\n",
    "\n",
    "ro_x_co_x_nu = OnePiece.Matrix.simulate(n_ro, n_co)"
   ]
  },
  {
   "cell_type": "code",
   "execution_count": null,
   "id": "1736400b-6d8c-42c9-98d1-9516ccbb1d07",
   "metadata": {},
   "outputs": [],
   "source": [
    "OnePiece.Plot.plot_heat_map(ro_x_co_x_nu)"
   ]
  },
  {
   "cell_type": "code",
   "execution_count": null,
   "id": "b8bd728a-d63a-43da-8ce3-c1c8b234d14a",
   "metadata": {},
   "outputs": [],
   "source": [
    "ro_ = [\"Row$id\" for id in 1:n_ro]\n",
    "\n",
    "co_ = [\"Column$id\" for id in 1:n_co]\n",
    "\n",
    ";"
   ]
  },
  {
   "cell_type": "code",
   "execution_count": null,
   "id": "31b0f214",
   "metadata": {},
   "outputs": [],
   "source": [
    "OnePiece.Plot.plot_heat_map(ro_x_co_x_nu, ro_, co_)"
   ]
  },
  {
   "cell_type": "code",
   "execution_count": null,
   "id": "ea156e4a-e75d-4c00-be0a-cb9896e302f0",
   "metadata": {},
   "outputs": [],
   "source": [
    "OnePiece.Plot.plot_heat_map(\n",
    "    OnePiece.DataFrame.make(\"Row name\", ro_, co_, ro_x_co_x_nu),\n",
    "    ht = joinpath(te, \"heat_map.html\"),\n",
    ")"
   ]
  },
  {
   "cell_type": "code",
   "execution_count": null,
   "id": "624a0a68-51ba-441d-8288-1e2d0e1b7a2a",
   "metadata": {},
   "outputs": [],
   "source": [
    "y = [-1, 1, -2, 2]\n",
    "\n",
    "x = [1, 4, 2, 5, 3, 6]\n",
    "\n",
    "ro_x_co_x_nu = [la1 * la2 for la1 in y, la2 in x]"
   ]
  },
  {
   "cell_type": "code",
   "execution_count": null,
   "id": "1ed6f9ec-72c6-47eb-b16c-a8b02835ee0d",
   "metadata": {},
   "outputs": [],
   "source": [
    "grr_ = [1, 2, 1, 2]\n",
    "\n",
    ";"
   ]
  },
  {
   "cell_type": "code",
   "execution_count": null,
   "id": "e2b5f884-f5ba-4cba-982a-9a939e1e5b71",
   "metadata": {},
   "outputs": [],
   "source": [
    "OnePiece.Plot.plot_heat_map(ro_x_co_x_nu, grr_ = grr_)"
   ]
  },
  {
   "cell_type": "code",
   "execution_count": null,
   "id": "6d72ca0c-e9d3-49ab-98f6-077981ae8e26",
   "metadata": {},
   "outputs": [],
   "source": [
    "grc_ = [1, 2, 1, 2, 1, 2]\n",
    "\n",
    ";"
   ]
  },
  {
   "cell_type": "code",
   "execution_count": null,
   "id": "42821d88-4fb4-4d68-948c-2b334dc471ea",
   "metadata": {},
   "outputs": [],
   "source": [
    "OnePiece.Plot.plot_heat_map(ro_x_co_x_nu, grc_ = grc_)"
   ]
  },
  {
   "cell_type": "code",
   "execution_count": null,
   "id": "4772c9e4-39e1-4d10-954f-63061de2b458",
   "metadata": {},
   "outputs": [],
   "source": [
    "OnePiece.Plot.plot_heat_map(\n",
    "    ro_x_co_x_nu,\n",
    "    [\"*$nu\" for nu in y],\n",
    "    [\"*$nu\" for nu in x],\n",
    "    grr_ = grr_,\n",
    "    grc_ = grc_,\n",
    ")"
   ]
  },
  {
   "cell_type": "markdown",
   "id": "60d766f0-c006-40fe-acde-29688017f992",
   "metadata": {},
   "source": [
    "## plot_radar"
   ]
  },
  {
   "cell_type": "code",
   "execution_count": null,
   "id": "6f84c760-a8ea-4f93-851f-a31fc9af89de",
   "metadata": {},
   "outputs": [],
   "source": [
    "theta30 = collect(0:30:360)\n",
    "\n",
    "theta45 = collect(0:45:360)\n",
    "\n",
    "theta60 = collect(0:60:360)\n",
    "\n",
    "OnePiece.Plot.plot_radar(\n",
    "    [theta30, theta45, theta60],\n",
    "    [theta30, theta45, theta60],\n",
    "    name_ = [30, 45, 60],\n",
    ")"
   ]
  }
 ],
 "metadata": {
  "@webio": {
   "lastCommId": null,
   "lastKernelId": null
  },
  "kernelspec": {
   "display_name": "Julia 1.8.2",
   "language": "julia",
   "name": "julia-1.8"
  },
  "language_info": {
   "file_extension": ".jl",
   "mimetype": "application/julia",
   "name": "julia",
   "version": "1.8.2"
  }
 },
 "nbformat": 4,
 "nbformat_minor": 5
}
