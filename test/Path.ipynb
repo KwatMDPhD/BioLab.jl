{
 "cells": [
  {
   "cell_type": "code",
   "execution_count": null,
   "id": "baf12f00",
   "metadata": {},
   "outputs": [],
   "source": [
    "using OnePiece"
   ]
  },
  {
   "cell_type": "markdown",
   "id": "5a7ecddd-afa0-4dd4-ad94-2d9df6c21373",
   "metadata": {},
   "source": [
    "## make_temporary"
   ]
  },
  {
   "cell_type": "code",
   "execution_count": null,
   "id": "192de097",
   "metadata": {},
   "outputs": [],
   "source": [
    "te = OnePiece.Path.make_temporary(\"OnePiece.test.Path\")"
   ]
  },
  {
   "cell_type": "markdown",
   "id": "b6f90585",
   "metadata": {},
   "source": [
    "## clean"
   ]
  },
  {
   "cell_type": "code",
   "execution_count": null,
   "id": "ec0ee1af",
   "metadata": {},
   "outputs": [],
   "source": [
    "OnePiece.Path.clean(\"a_b.c-d+e!f%g%h]iJK\")"
   ]
  },
  {
   "cell_type": "markdown",
   "id": "ff73f023-9023-4f6f-a47d-d85f638707e7",
   "metadata": {},
   "source": [
    "## error_extension"
   ]
  },
  {
   "cell_type": "code",
   "execution_count": null,
   "id": "6a014f9f-4c49-4765-88f3-30b5375b8102",
   "metadata": {},
   "outputs": [],
   "source": [
    "fi = \"file.extension\"\n",
    "\n",
    ";"
   ]
  },
  {
   "cell_type": "code",
   "execution_count": null,
   "id": "a5e880f3-d88a-44f4-a7da-52afba70048f",
   "metadata": {},
   "outputs": [],
   "source": [
    "OnePiece.Path.error_extension(fi, \".extension\")"
   ]
  },
  {
   "cell_type": "code",
   "execution_count": null,
   "id": "d6c953dd-1f6a-4cfe-9624-bd875fa7f96e",
   "metadata": {},
   "outputs": [],
   "source": [
    "for ex in (\"extension\", \".another_extension\")\n",
    "\n",
    "    try\n",
    "\n",
    "        OnePiece.Path.error_extension(fi, ex)\n",
    "\n",
    "    catch er\n",
    "\n",
    "        println(er)\n",
    "\n",
    "    end\n",
    "\n",
    "end"
   ]
  },
  {
   "cell_type": "markdown",
   "id": "9fd9bd1b-a6c1-4414-b24b-95c33f68ca54",
   "metadata": {},
   "source": [
    "## replace_extension"
   ]
  },
  {
   "cell_type": "code",
   "execution_count": null,
   "id": "4218895c-ce66-4909-bdbf-8f925868f640",
   "metadata": {},
   "outputs": [],
   "source": [
    "OnePiece.Path.replace_extension(fi, \"new_extension\")"
   ]
  },
  {
   "cell_type": "markdown",
   "id": "8389f8ff",
   "metadata": {},
   "source": [
    "## error_missing"
   ]
  },
  {
   "cell_type": "code",
   "execution_count": null,
   "id": "6bc9d46c-677f-4008-9070-df03d429625c",
   "metadata": {},
   "outputs": [],
   "source": [
    "di = dirname(@__DIR__)\n",
    "\n",
    "pr = \"test/path.ipynb\"\n",
    "\n",
    ";"
   ]
  },
  {
   "cell_type": "code",
   "execution_count": null,
   "id": "7c6d930a-9f5d-4efd-9900-bd5e0627590c",
   "metadata": {},
   "outputs": [],
   "source": [
    "OnePiece.Path.error_missing(di, (pr,))"
   ]
  },
  {
   "cell_type": "code",
   "execution_count": null,
   "id": "88445946",
   "metadata": {},
   "outputs": [],
   "source": [
    "try\n",
    "\n",
    "    OnePiece.Path.error_missing(di, (pr, \"missing/file\", \"missing/directory/\"))\n",
    "\n",
    "catch er\n",
    "\n",
    "    println(er)\n",
    "\n",
    "end"
   ]
  },
  {
   "cell_type": "markdown",
   "id": "83db080c",
   "metadata": {},
   "source": [
    "## make_absolute"
   ]
  },
  {
   "cell_type": "code",
   "execution_count": null,
   "id": "b2354689",
   "metadata": {},
   "outputs": [],
   "source": [
    "for pa in (\"~/file\", \"~/directory/\")\n",
    "\n",
    "    println(OnePiece.Path.make_absolute(pa))\n",
    "\n",
    "end"
   ]
  },
  {
   "cell_type": "markdown",
   "id": "62ab3617",
   "metadata": {},
   "source": [
    "## shorten"
   ]
  },
  {
   "cell_type": "code",
   "execution_count": null,
   "id": "db6f4c61",
   "metadata": {},
   "outputs": [],
   "source": [
    "pa = @__DIR__"
   ]
  },
  {
   "cell_type": "code",
   "execution_count": null,
   "id": "abfe4c66",
   "metadata": {},
   "outputs": [],
   "source": [
    "try\n",
    "\n",
    "    OnePiece.Path.shorten(pa, \"Shanks\")\n",
    "\n",
    "catch er\n",
    "\n",
    "    println(er)\n",
    "\n",
    "end"
   ]
  },
  {
   "cell_type": "code",
   "execution_count": null,
   "id": "465a8e0a",
   "metadata": {},
   "outputs": [],
   "source": [
    "for n in (0, 1, 2, count(ch -> ch == '/', pa) - 2, 9)\n",
    "\n",
    "    println(OnePiece.Path.shorten(pa, n))\n",
    "\n",
    "end"
   ]
  },
  {
   "cell_type": "code",
   "execution_count": null,
   "id": "c51e4bd0",
   "metadata": {},
   "outputs": [],
   "source": [
    "for di in (\"OnePiece.jl\", \"test\", \"OnePiece.jl/test\")\n",
    "\n",
    "    println(OnePiece.Path.shorten(pa, di))\n",
    "\n",
    "end"
   ]
  },
  {
   "cell_type": "code",
   "execution_count": null,
   "id": "135a33e3-75c3-44ba-be05-78b2e8c227a0",
   "metadata": {},
   "outputs": [],
   "source": [
    "for sh in (0, -1, 1)\n",
    "\n",
    "    println(OnePiece.Path.shorten(pa, dirname(dirname(pa)), sh))\n",
    "\n",
    "end"
   ]
  },
  {
   "cell_type": "markdown",
   "id": "afc087b0-40e4-4945-8eb3-414b8a006205",
   "metadata": {},
   "source": [
    "## select"
   ]
  },
  {
   "cell_type": "code",
   "execution_count": null,
   "id": "d7921586-63c3-4ddd-b66a-5acc2336669e",
   "metadata": {},
   "outputs": [],
   "source": [
    "di = homedir()"
   ]
  },
  {
   "cell_type": "code",
   "execution_count": null,
   "id": "8b8c7aa1-32b8-40f9-85be-179203bab10f",
   "metadata": {},
   "outputs": [],
   "source": [
    "OnePiece.Path.select(di)"
   ]
  },
  {
   "cell_type": "code",
   "execution_count": null,
   "id": "ab60cb6f",
   "metadata": {},
   "outputs": [],
   "source": [
    "OnePiece.Path.select(di, false, ig_ = (), ke_ = (r\"^\\.\",))"
   ]
  },
  {
   "cell_type": "markdown",
   "id": "016e6f1d-2a8f-4038-aa85-4caafe00cf13",
   "metadata": {},
   "source": [
    "## move"
   ]
  },
  {
   "cell_type": "code",
   "execution_count": null,
   "id": "f30f1f5c",
   "metadata": {},
   "outputs": [],
   "source": [
    "di1 = mkpath(joinpath(te, \"di1\"))\n",
    "\n",
    "di2 = mkpath(joinpath(te, \"di2\"))\n",
    "\n",
    "di3 = mkpath(joinpath(te, \"di3\"))\n",
    "\n",
    "fi1 = joinpath(di1, \"fi1\")\n",
    "\n",
    "fi2 = joinpath(di2, \"fi2\")\n",
    "\n",
    "touch(fi1)\n",
    "\n",
    "touch(fi2)\n",
    "\n",
    "run(`tree $te`)"
   ]
  },
  {
   "cell_type": "code",
   "execution_count": null,
   "id": "d71a8593",
   "metadata": {},
   "outputs": [],
   "source": [
    "fi3 = replace(fi1, \"di1\" => \"di3\")\n",
    "\n",
    "OnePiece.Path.move(fi1, fi3)"
   ]
  },
  {
   "cell_type": "code",
   "execution_count": null,
   "id": "25aefd1c",
   "metadata": {},
   "outputs": [],
   "source": [
    "run(`tree $te`)"
   ]
  },
  {
   "cell_type": "code",
   "execution_count": null,
   "id": "785c2824",
   "metadata": {},
   "outputs": [],
   "source": [
    "try\n",
    "\n",
    "    OnePiece.Path.move(di2, di3)\n",
    "\n",
    "catch er\n",
    "\n",
    "    println(er)\n",
    "\n",
    "end"
   ]
  },
  {
   "cell_type": "code",
   "execution_count": null,
   "id": "78de98f4",
   "metadata": {},
   "outputs": [],
   "source": [
    "println(OnePiece.Path.move(di2, di3, force = true))\n",
    "\n",
    "run(`tree $te`)"
   ]
  },
  {
   "cell_type": "markdown",
   "id": "b50dbf2d-d127-4dd4-99be-8b2591105800",
   "metadata": {},
   "source": [
    "## sed_recursively"
   ]
  },
  {
   "cell_type": "code",
   "execution_count": null,
   "id": "338fa3f1",
   "metadata": {},
   "outputs": [],
   "source": [
    "fi1 = joinpath(te, \"fi1\")\n",
    "\n",
    "fi2 = joinpath(te, \"fi2\")\n",
    "\n",
    "open(fi1, \"w\") do io\n",
    "\n",
    "    write(io, \"Before\")\n",
    "\n",
    "end\n",
    "\n",
    "open(fi2, \"w\") do io\n",
    "\n",
    "    write(io, \"BeforeBefore\")\n",
    "\n",
    "end\n",
    "\n",
    "println(readline(open(fi1)))\n",
    "\n",
    "println(readline(open(fi2)))"
   ]
  },
  {
   "cell_type": "code",
   "execution_count": null,
   "id": "0cfdbc0d",
   "metadata": {},
   "outputs": [],
   "source": [
    "OnePiece.Path.sed_recursively(te, (\"Before\" => \"After\",))\n",
    "\n",
    "println(readline(open(fi1)))\n",
    "\n",
    "println(readline(open(fi2)))"
   ]
  },
  {
   "cell_type": "markdown",
   "id": "055a313b-093d-42b9-80d3-29d372ea8b64",
   "metadata": {},
   "source": [
    "## rename_recursively"
   ]
  },
  {
   "cell_type": "code",
   "execution_count": null,
   "id": "b1302632",
   "metadata": {},
   "outputs": [],
   "source": [
    "fi1 = joinpath(te, \"fi1\")\n",
    "\n",
    "fi2 = joinpath(te, \"fi2\")\n",
    "\n",
    "touch(fi1)\n",
    "\n",
    "touch(fi2)\n",
    "\n",
    "readdir(te)"
   ]
  },
  {
   "cell_type": "code",
   "execution_count": null,
   "id": "150a93f3",
   "metadata": {},
   "outputs": [],
   "source": [
    "OnePiece.Path.rename_recursively(te, (\"fi\" => \"new\",))\n",
    "\n",
    "readdir(te)"
   ]
  }
 ],
 "metadata": {
  "@webio": {
   "lastCommId": null,
   "lastKernelId": null
  },
  "kernelspec": {
   "display_name": "Julia 1.8.2",
   "language": "julia",
   "name": "julia-1.8"
  },
  "language_info": {
   "file_extension": ".jl",
   "mimetype": "application/julia",
   "name": "julia",
   "version": "1.8.2"
  }
 },
 "nbformat": 4,
 "nbformat_minor": 5
}
