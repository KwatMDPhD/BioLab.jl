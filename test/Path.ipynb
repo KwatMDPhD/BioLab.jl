{
 "cells": [
  {
   "outputs": [],
   "cell_type": "code",
   "source": [
    "include(\"_.jl\")\n",
    "\n",
    "ho = homedir()\n",
    "\n",
    "cr = basename(dirname(dirname(@__DIR__)))"
   ],
   "id": "baf12f00",
   "metadata": {},
   "execution_count": null
  },
  {
   "cell_type": "markdown",
   "source": [
    "## make_absolute"
   ],
   "id": "95f4a4cd-f0f7-40d9-9594-e2ad7cab12ba",
   "metadata": {}
  },
  {
   "outputs": [],
   "cell_type": "code",
   "source": [
    "for (pa, re) in (\n",
    "    (\"~/file\", \"$ho/file\"),\n",
    "    (\"~/directory/\", \"$ho/directory\"),\n",
    "    (\"~/path/directory/\", \"$ho/path/directory\"),\n",
    "    (\".\", \"$ho/$cr/BioLab.jl/test\"),\n",
    "    (\"..\", \"$ho/$cr/BioLab.jl\"),\n",
    "    (\"../..\", \"$ho/$cr\"),\n",
    ")\n",
    "\n",
    "    BioLab.String.print_header(pa)\n",
    "\n",
    "    @test BioLab.Path.make_absolute(pa) == re\n",
    "\n",
    "    @code_warntype BioLab.Path.make_absolute(pa)\n",
    "\n",
    "    # 657.154 ns (14 allocations: 1.27 KiB)\n",
    "    # 816.284 ns (15 allocations: 1.31 KiB)\n",
    "    # 947.435 ns (15 allocations: 1.35 KiB)\n",
    "    # 7.271 μs (16 allocations: 1.49 KiB)\n",
    "    # 7.271 μs (15 allocations: 1.34 KiB)\n",
    "    # 7.271 μs (15 allocations: 1.32 KiB)\n",
    "    @btime BioLab.Path.make_absolute($pa)\n",
    "\n",
    "end"
   ],
   "id": "b2354689",
   "metadata": {},
   "execution_count": null
  },
  {
   "cell_type": "markdown",
   "source": [
    "## shorten"
   ],
   "id": "90d620e7-bf15-462e-9896-eacb5eefb4e7",
   "metadata": {}
  },
  {
   "outputs": [],
   "cell_type": "code",
   "source": [
    "pa = @__DIR__\n",
    "\n",
    "@test @check_error BioLab.Path.shorten(pa, \"Shanks\")\n",
    "\n",
    "for (n, re) in\n",
    "    ((0, \"test\"), (1, \"BioLab.jl/test\"), (2, \"$cr/BioLab.jl/test\"), (9, \"$ho/$cr/BioLab.jl/test\"))\n",
    "\n",
    "    @test BioLab.Path.shorten(pa, n) == re\n",
    "\n",
    "end\n",
    "\n",
    "n = 2\n",
    "\n",
    "@code_warntype BioLab.Path.shorten(pa, n)\n",
    "\n",
    "# 1.767 μs (75 allocations: 3.30 KiB)\n",
    "@btime BioLab.Path.shorten($pa, $n)\n",
    "\n",
    "for di in (\"BioLab.jl\", \"test\", \"BioLab.jl/test\")\n",
    "\n",
    "    for sh in (0, -1, 1)\n",
    "\n",
    "        BioLab.String.print_header(\"$di $sh\")\n",
    "\n",
    "        # TODO: @test.\n",
    "        display(BioLab.Path.shorten(pa, di; sh))\n",
    "\n",
    "    end\n",
    "\n",
    "end\n",
    "\n",
    "@code_warntype BioLab.Path.shorten(pa, cr)\n",
    "\n",
    "# 3.432 μs (144 allocations: 6.36 KiB)\n",
    "@btime BioLab.Path.shorten($pa, $cr)"
   ],
   "id": "7a63c867-05a1-4be9-a790-9b2ce3811bcc",
   "metadata": {},
   "execution_count": null
  },
  {
   "cell_type": "markdown",
   "source": [
    "## clean"
   ],
   "id": "bb5e219f-0a30-4a3b-b42b-c0875a6e4696",
   "metadata": {}
  },
  {
   "outputs": [],
   "cell_type": "code",
   "source": [
    "pa = \"d/a_b.c-d+e!f%g%h]iJK\"\n",
    "\n",
    "@test BioLab.Path.clean(pa) == \"d/a_b.c_d_e_f_g_h_ijk\"\n",
    "\n",
    "@code_warntype BioLab.Path.clean(pa)\n",
    "\n",
    "# TODO: Time.\n",
    "#@btime BioLab.Path.clean(pa; pr=false)"
   ],
   "id": "47d5c690-17dc-4420-a937-547c990aff9c",
   "metadata": {},
   "execution_count": null
  },
  {
   "cell_type": "markdown",
   "source": [
    "## *_extension"
   ],
   "id": "53521f27-9f37-4d8e-884c-424b106720f4",
   "metadata": {}
  },
  {
   "outputs": [],
   "cell_type": "code",
   "source": [
    "fi = \"file.extension\""
   ],
   "id": "0e54b6a7-3149-434c-91b1-8dc12ff0656a",
   "metadata": {},
   "execution_count": null
  },
  {
   "cell_type": "markdown",
   "source": [
    "## error_extension"
   ],
   "id": "ec173d22-b084-446a-b3e5-ce1185b2efc6",
   "metadata": {}
  },
  {
   "outputs": [],
   "cell_type": "code",
   "source": [
    "for ex in (\"extension\", \".another_extension\")\n",
    "\n",
    "    @test @check_error BioLab.Path.error_extension(fi, ex)\n",
    "\n",
    "end\n",
    "\n",
    "ex = \".extension\"\n",
    "\n",
    "@test !@check_error BioLab.Path.error_extension(fi, ex)\n",
    "\n",
    "@code_warntype BioLab.Path.error_extension(fi, ex)\n",
    "\n",
    "# TODO: Time.\n",
    "@btime BioLab.Path.error_extension($fi, $ex)"
   ],
   "id": "d0fe9689-240a-4434-85b0-801dc2b20e91",
   "metadata": {},
   "execution_count": null
  },
  {
   "cell_type": "markdown",
   "source": [
    "## replace_extension"
   ],
   "id": "ec937221-a767-4443-a976-599798213808",
   "metadata": {}
  },
  {
   "outputs": [],
   "cell_type": "code",
   "source": [
    "ex = \"new_extension\"\n",
    "\n",
    "@test BioLab.Path.replace_extension(fi, ex) == \"file.new_extension\"\n",
    "\n",
    "@code_warntype BioLab.Path.replace_extension(fi, ex)\n",
    "\n",
    "# 243.240 ns (12 allocations: 528 bytes)\n",
    "@btime BioLab.Path.replace_extension($fi, $ex)"
   ],
   "id": "4218895c-ce66-4909-bdbf-8f925868f640",
   "metadata": {},
   "execution_count": null
  },
  {
   "cell_type": "markdown",
   "source": [
    "## error_missing"
   ],
   "id": "8389f8ff",
   "metadata": {}
  },
  {
   "outputs": [],
   "cell_type": "code",
   "source": [
    "di = dirname(@__DIR__)\n",
    "\n",
    "@test @check_error BioLab.Path.error_missing(di, (pr, \"missing/file\", \"missing/directory/\"))\n",
    "\n",
    "for pr in (\"test/Path.ipynb\", \"test/path.ipynb\")\n",
    "\n",
    "    @test !@check_error BioLab.Path.error_missing(di, pr)\n",
    "\n",
    "end\n",
    "\n",
    "pa_ = (\"Project.toml\", \"Manifest.toml\")\n",
    "\n",
    "@code_warntype BioLab.Path.error_missing(di, pa_)\n",
    "\n",
    "# 3.146 μs (6 allocations: 640 bytes)\n",
    "@btime BioLab.Path.error_missing($di, $pa_)"
   ],
   "id": "14614410-d600-4630-8871-a9c60f6d52cb",
   "metadata": {},
   "execution_count": null
  },
  {
   "cell_type": "markdown",
   "source": [
    "## list"
   ],
   "id": "afc087b0-40e4-4945-8eb3-414b8a006205",
   "metadata": {}
  },
  {
   "outputs": [],
   "cell_type": "code",
   "source": [
    "# TODO: `@test`.\n",
    "display(BioLab.Path.list(ho))\n",
    "\n",
    "# TODO: `@test`.\n",
    "display(BioLab.Path.list(ho; jo = false, ig_ = (), ke_ = (r\"^\\.\",)))\n",
    "\n",
    "ke_ = (r\"^[A-Z]\",)\n",
    "\n",
    "# TODO: `@test`.\n",
    "display(BioLab.Path.list(ho; ke_))\n",
    "\n",
    "@code_warntype BioLab.Path.list(ho; ke_)\n",
    "\n",
    "# 20.750 μs (37 allocations: 1.56 KiB)\n",
    "@btime BioLab.Path.list($ho; ke_ = $ke_)"
   ],
   "id": "ef9393c4-3bcf-46ef-8638-dcc62684d4af",
   "metadata": {},
   "execution_count": null
  },
  {
   "cell_type": "markdown",
   "source": [
    "## make_temporary"
   ],
   "id": "3abf1a3b-e86f-4840-af43-8ce0a525b687",
   "metadata": {}
  },
  {
   "outputs": [],
   "cell_type": "code",
   "source": [
    "pa = \"BioLab.test.Path\"\n",
    "\n",
    "te = BioLab.Path.make_temporary(pa)\n",
    "\n",
    "# TODO: `@test`.\n",
    "display(te)\n",
    "\n",
    "@code_warntype BioLab.Path.make_temporary(pa)"
   ],
   "id": "192de097",
   "metadata": {},
   "execution_count": null
  },
  {
   "cell_type": "markdown",
   "source": [
    "## move"
   ],
   "id": "016e6f1d-2a8f-4038-aa85-4caafe00cf13",
   "metadata": {}
  },
  {
   "outputs": [],
   "cell_type": "code",
   "source": [
    "di1 = mkpath(joinpath(te, \"di1\"))\n",
    "\n",
    "fi1 = touch(joinpath(di1, \"fi1\"))\n",
    "\n",
    "di2 = mkpath(joinpath(te, \"di2\"))\n",
    "\n",
    "fi2 = touch(joinpath(di2, \"fi2\"))\n",
    "\n",
    "di3 = mkpath(joinpath(te, \"di3\"))\n",
    "\n",
    "run(`tree $te`)\n",
    "\n",
    "BioLab.Path.move(fi1, replace(fi1, \"di1\" => \"di3\"))\n",
    "\n",
    "# TODO: `@test`.\n",
    "run(`tree $te`)\n",
    "\n",
    "@test @check_error BioLab.Path.move(di2, di3)\n",
    "\n",
    "@test !@check_error BioLab.Path.move(di2, di3; force = true)\n",
    "\n",
    "# TODO: `@test`.\n",
    "run(`tree $te`)\n",
    "\n",
    "@code_warntype BioLab.Path.move(di2, di3; force = true)"
   ],
   "id": "ca1e5878-795c-411f-8ea2-36ebb7099d9a",
   "metadata": {},
   "execution_count": null
  },
  {
   "cell_type": "markdown",
   "source": [
    "## rank"
   ],
   "id": "34af80ec-2df6-4899-aad7-3fcef069ebd7",
   "metadata": {}
  },
  {
   "outputs": [],
   "cell_type": "code",
   "source": [
    "ra = mkdir(joinpath(te, \"rank\"))\n",
    "\n",
    "for (pr, ch) in zip((0.7, 1, 1.1, 3, 10, 12, 24), 'a':'z')\n",
    "\n",
    "    touch(joinpath(ra, \"$pr.$ch.jl\"))\n",
    "\n",
    "end\n",
    "\n",
    "run(`tree $ra`)\n",
    "\n",
    "BioLab.Path.rank(ra)\n",
    "\n",
    "# TODO: `@test`.\n",
    "run(`tree $ra`)\n",
    "\n",
    "@code_warntype BioLab.Path.rank(ra)"
   ],
   "id": "6becf096-40a2-41d3-bb62-188b04623726",
   "metadata": {},
   "execution_count": null
  },
  {
   "cell_type": "markdown",
   "source": [
    "## rename_recursively"
   ],
   "id": "c48391fb-1f2c-4f4d-80c3-5a8d95d33b23",
   "metadata": {}
  },
  {
   "outputs": [],
   "cell_type": "code",
   "source": [
    "fi1 = touch(joinpath(te, \"fi1\"))\n",
    "\n",
    "fi2 = touch(joinpath(te, \"fi2\"))\n",
    "\n",
    "run(`tree $te`)\n",
    "\n",
    "pa_ = (\"fi\" => \"new\",)\n",
    "\n",
    "BioLab.Path.rename_recursively(te, pa_)\n",
    "\n",
    "# TODO: `@test`.\n",
    "run(`tree $te`)\n",
    "\n",
    "@code_warntype BioLab.Path.rename_recursively(te, pa_)"
   ],
   "id": "350be321-5184-4288-8911-a120fa3568aa",
   "metadata": {},
   "execution_count": null
  },
  {
   "cell_type": "markdown",
   "source": [
    "## sed_recursively"
   ],
   "id": "66c5490a-c14e-41c8-9633-3d780b481403",
   "metadata": {}
  },
  {
   "outputs": [],
   "cell_type": "code",
   "source": [
    "fi1 = touch(joinpath(te, \"fi1\"))\n",
    "\n",
    "write(fi1, \"Before\")\n",
    "\n",
    "fi2 = touch(joinpath(te, \"fi2\"))\n",
    "\n",
    "write(fi2, \"BeforeBefore\")\n",
    "\n",
    "pa_ = (\"Before\" => \"After\",)\n",
    "\n",
    "BioLab.Path.sed_recursively(te, pa_)\n",
    "\n",
    "@test readline(open(fi1)) == \"After\"\n",
    "\n",
    "@test readline(open(fi2)) == \"AfterAfter\"\n",
    "\n",
    "@code_warntype BioLab.Path.sed_recursively(te, pa_)"
   ],
   "id": "04d5ee36-934c-415b-a334-38df7c455f08",
   "metadata": {},
   "execution_count": null
  }
 ],
 "nbformat_minor": 5,
 "metadata": {
  "language_info": {
   "file_extension": ".jl",
   "mimetype": "application/julia",
   "name": "julia",
   "version": "1.8.5"
  },
  "@webio": {
   "lastKernelId": null,
   "lastCommId": null
  },
  "kernelspec": {
   "name": "julia-1.8",
   "display_name": "Julia 1.8.5",
   "language": "julia"
  }
 },
 "nbformat": 4
}
