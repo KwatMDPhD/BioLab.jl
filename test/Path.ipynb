{
 "cells": [
  {
   "outputs": [],
   "cell_type": "code",
   "source": [
    "using BioLab"
   ],
   "id": "baf12f00",
   "metadata": {},
   "execution_count": null
  },
  {
   "cell_type": "markdown",
   "source": [
    "## make_temporary"
   ],
   "id": "5a7ecddd-afa0-4dd4-ad94-2d9df6c21373",
   "metadata": {}
  },
  {
   "outputs": [],
   "cell_type": "code",
   "source": [
    "te = BioLab.Path.make_temporary(\"BioLab.test.Path\")"
   ],
   "id": "192de097",
   "metadata": {},
   "execution_count": null
  },
  {
   "cell_type": "markdown",
   "source": [
    "## clean"
   ],
   "id": "b6f90585",
   "metadata": {}
  },
  {
   "outputs": [],
   "cell_type": "code",
   "source": [
    "BioLab.Path.clean(\"a_b.c-d+e!f%g%h]iJK\")"
   ],
   "id": "ec0ee1af",
   "metadata": {},
   "execution_count": null
  },
  {
   "cell_type": "markdown",
   "source": [
    "## error_extension"
   ],
   "id": "ff73f023-9023-4f6f-a47d-d85f638707e7",
   "metadata": {}
  },
  {
   "outputs": [],
   "cell_type": "code",
   "source": [
    "fi = \"file.extension\"\n",
    "\n",
    ";"
   ],
   "id": "6a014f9f-4c49-4765-88f3-30b5375b8102",
   "metadata": {},
   "execution_count": null
  },
  {
   "outputs": [],
   "cell_type": "code",
   "source": [
    "BioLab.Path.error_extension(fi, \".extension\")"
   ],
   "id": "a5e880f3-d88a-44f4-a7da-52afba70048f",
   "metadata": {},
   "execution_count": null
  },
  {
   "outputs": [],
   "cell_type": "code",
   "source": [
    "for ex in (\"extension\", \".another_extension\")\n",
    "\n",
    "    try\n",
    "\n",
    "        BioLab.Path.error_extension(fi, ex)\n",
    "\n",
    "    catch er\n",
    "\n",
    "        println(er)\n",
    "\n",
    "    end\n",
    "\n",
    "end"
   ],
   "id": "d6c953dd-1f6a-4cfe-9624-bd875fa7f96e",
   "metadata": {},
   "execution_count": null
  },
  {
   "cell_type": "markdown",
   "source": [
    "## replace_extension"
   ],
   "id": "9fd9bd1b-a6c1-4414-b24b-95c33f68ca54",
   "metadata": {}
  },
  {
   "outputs": [],
   "cell_type": "code",
   "source": [
    "BioLab.Path.replace_extension(fi, \"new_extension\")"
   ],
   "id": "4218895c-ce66-4909-bdbf-8f925868f640",
   "metadata": {},
   "execution_count": null
  },
  {
   "cell_type": "markdown",
   "source": [
    "## error_missing"
   ],
   "id": "8389f8ff",
   "metadata": {}
  },
  {
   "outputs": [],
   "cell_type": "code",
   "source": [
    "di = dirname(@__DIR__)\n",
    "\n",
    "pr = \"test/path.ipynb\"\n",
    "\n",
    ";"
   ],
   "id": "6bc9d46c-677f-4008-9070-df03d429625c",
   "metadata": {},
   "execution_count": null
  },
  {
   "outputs": [],
   "cell_type": "code",
   "source": [
    "BioLab.Path.error_missing(di, (pr,))"
   ],
   "id": "7c6d930a-9f5d-4efd-9900-bd5e0627590c",
   "metadata": {},
   "execution_count": null
  },
  {
   "outputs": [],
   "cell_type": "code",
   "source": [
    "try\n",
    "\n",
    "    BioLab.Path.error_missing(di, (pr, \"missing/file\", \"missing/directory/\"))\n",
    "\n",
    "catch er\n",
    "\n",
    "    println(er)\n",
    "\n",
    "end"
   ],
   "id": "88445946",
   "metadata": {},
   "execution_count": null
  },
  {
   "cell_type": "markdown",
   "source": [
    "## make_absolute"
   ],
   "id": "83db080c",
   "metadata": {}
  },
  {
   "outputs": [],
   "cell_type": "code",
   "source": [
    "for pa in (\"~/file\", \"~/directory/\")\n",
    "\n",
    "    println(BioLab.Path.make_absolute(pa))\n",
    "\n",
    "end"
   ],
   "id": "b2354689",
   "metadata": {},
   "execution_count": null
  },
  {
   "cell_type": "markdown",
   "source": [
    "## shorten"
   ],
   "id": "62ab3617",
   "metadata": {}
  },
  {
   "outputs": [],
   "cell_type": "code",
   "source": [
    "pa = @__DIR__"
   ],
   "id": "db6f4c61",
   "metadata": {},
   "execution_count": null
  },
  {
   "outputs": [],
   "cell_type": "code",
   "source": [
    "try\n",
    "\n",
    "    BioLab.Path.shorten(pa, \"Shanks\")\n",
    "\n",
    "catch er\n",
    "\n",
    "    println(er)\n",
    "\n",
    "end"
   ],
   "id": "abfe4c66",
   "metadata": {},
   "execution_count": null
  },
  {
   "outputs": [],
   "cell_type": "code",
   "source": [
    "for n in (0, 1, 2, count(ch -> ch == '/', pa) - 2, 9)\n",
    "\n",
    "    println(BioLab.Path.shorten(pa, n))\n",
    "\n",
    "end"
   ],
   "id": "465a8e0a",
   "metadata": {},
   "execution_count": null
  },
  {
   "outputs": [],
   "cell_type": "code",
   "source": [
    "for di in (\"BioLab.jl\", \"test\", \"BioLab.jl/test\")\n",
    "\n",
    "    println(BioLab.Path.shorten(pa, di))\n",
    "\n",
    "end"
   ],
   "id": "c51e4bd0",
   "metadata": {},
   "execution_count": null
  },
  {
   "outputs": [],
   "cell_type": "code",
   "source": [
    "for sh in (0, -1, 1)\n",
    "\n",
    "    println(BioLab.Path.shorten(pa, dirname(dirname(pa)), sh))\n",
    "\n",
    "end"
   ],
   "id": "135a33e3-75c3-44ba-be05-78b2e8c227a0",
   "metadata": {},
   "execution_count": null
  },
  {
   "cell_type": "markdown",
   "source": [
    "## select"
   ],
   "id": "afc087b0-40e4-4945-8eb3-414b8a006205",
   "metadata": {}
  },
  {
   "outputs": [],
   "cell_type": "code",
   "source": [
    "di = homedir()"
   ],
   "id": "d7921586-63c3-4ddd-b66a-5acc2336669e",
   "metadata": {},
   "execution_count": null
  },
  {
   "outputs": [],
   "cell_type": "code",
   "source": [
    "BioLab.Path.select(di)"
   ],
   "id": "8b8c7aa1-32b8-40f9-85be-179203bab10f",
   "metadata": {},
   "execution_count": null
  },
  {
   "outputs": [],
   "cell_type": "code",
   "source": [
    "BioLab.Path.select(di, false, ig_ = (), ke_ = (r\"^\\.\",))"
   ],
   "id": "ab60cb6f",
   "metadata": {},
   "execution_count": null
  },
  {
   "cell_type": "markdown",
   "source": [
    "## move"
   ],
   "id": "016e6f1d-2a8f-4038-aa85-4caafe00cf13",
   "metadata": {}
  },
  {
   "outputs": [],
   "cell_type": "code",
   "source": [
    "di1 = mkpath(joinpath(te, \"di1\"))\n",
    "\n",
    "di2 = mkpath(joinpath(te, \"di2\"))\n",
    "\n",
    "di3 = mkpath(joinpath(te, \"di3\"))\n",
    "\n",
    "fi1 = joinpath(di1, \"fi1\")\n",
    "\n",
    "fi2 = joinpath(di2, \"fi2\")\n",
    "\n",
    "touch(fi1)\n",
    "\n",
    "touch(fi2)\n",
    "\n",
    "run(`tree $te`)"
   ],
   "id": "f30f1f5c",
   "metadata": {},
   "execution_count": null
  },
  {
   "outputs": [],
   "cell_type": "code",
   "source": [
    "fi3 = replace(fi1, \"di1\" => \"di3\")\n",
    "\n",
    "BioLab.Path.move(fi1, fi3)"
   ],
   "id": "d71a8593",
   "metadata": {},
   "execution_count": null
  },
  {
   "outputs": [],
   "cell_type": "code",
   "source": [
    "run(`tree $te`)"
   ],
   "id": "25aefd1c",
   "metadata": {},
   "execution_count": null
  },
  {
   "outputs": [],
   "cell_type": "code",
   "source": [
    "try\n",
    "\n",
    "    BioLab.Path.move(di2, di3)\n",
    "\n",
    "catch er\n",
    "\n",
    "    println(er)\n",
    "\n",
    "end"
   ],
   "id": "785c2824",
   "metadata": {},
   "execution_count": null
  },
  {
   "outputs": [],
   "cell_type": "code",
   "source": [
    "println(BioLab.Path.move(di2, di3, force = true))\n",
    "\n",
    "run(`tree $te`)"
   ],
   "id": "78de98f4",
   "metadata": {},
   "execution_count": null
  },
  {
   "cell_type": "markdown",
   "source": [
    "## sed_recursively"
   ],
   "id": "b50dbf2d-d127-4dd4-99be-8b2591105800",
   "metadata": {}
  },
  {
   "outputs": [],
   "cell_type": "code",
   "source": [
    "fi1 = joinpath(te, \"fi1\")\n",
    "\n",
    "fi2 = joinpath(te, \"fi2\")\n",
    "\n",
    "open(fi1, \"w\") do io\n",
    "\n",
    "    write(io, \"Before\")\n",
    "\n",
    "end\n",
    "\n",
    "open(fi2, \"w\") do io\n",
    "\n",
    "    write(io, \"BeforeBefore\")\n",
    "\n",
    "end\n",
    "\n",
    "println(readline(open(fi1)))\n",
    "\n",
    "println(readline(open(fi2)))"
   ],
   "id": "338fa3f1",
   "metadata": {},
   "execution_count": null
  },
  {
   "outputs": [],
   "cell_type": "code",
   "source": [
    "BioLab.Path.sed_recursively(te, (\"Before\" => \"After\",))\n",
    "\n",
    "println(readline(open(fi1)))\n",
    "\n",
    "println(readline(open(fi2)))"
   ],
   "id": "0cfdbc0d",
   "metadata": {},
   "execution_count": null
  },
  {
   "cell_type": "markdown",
   "source": [
    "## rename_recursively"
   ],
   "id": "055a313b-093d-42b9-80d3-29d372ea8b64",
   "metadata": {}
  },
  {
   "outputs": [],
   "cell_type": "code",
   "source": [
    "fi1 = joinpath(te, \"fi1\")\n",
    "\n",
    "fi2 = joinpath(te, \"fi2\")\n",
    "\n",
    "touch(fi1)\n",
    "\n",
    "touch(fi2)\n",
    "\n",
    "readdir(te)"
   ],
   "id": "b1302632",
   "metadata": {},
   "execution_count": null
  },
  {
   "outputs": [],
   "cell_type": "code",
   "source": [
    "BioLab.Path.rename_recursively(te, (\"fi\" => \"new\",))\n",
    "\n",
    "readdir(te)"
   ],
   "id": "150a93f3",
   "metadata": {},
   "execution_count": null
  }
 ],
 "nbformat_minor": 5,
 "metadata": {
  "language_info": {
   "file_extension": ".jl",
   "mimetype": "application/julia",
   "name": "julia",
   "version": "1.8.3"
  },
  "@webio": {
   "lastKernelId": null,
   "lastCommId": null
  },
  "kernelspec": {
   "name": "julia-1.8",
   "display_name": "Julia 1.8.2",
   "language": "julia"
  }
 },
 "nbformat": 4
}
