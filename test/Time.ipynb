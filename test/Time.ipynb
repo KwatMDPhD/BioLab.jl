{
 "cells": [
  {
   "cell_type": "code",
   "execution_count": null,
   "id": "6482a17b",
   "metadata": {
    "execution": {
     "iopub.execute_input": "2023-02-23T14:58:32.286000Z",
     "iopub.status.busy": "2023-02-23T14:58:32.006000Z",
     "iopub.status.idle": "2023-02-23T14:58:36.227000Z",
     "shell.execute_reply": "2023-02-23T14:58:36.204000Z"
    }
   },
   "outputs": [],
   "source": [
    "include(\"_.jl\")"
   ]
  },
  {
   "cell_type": "markdown",
   "id": "f1afa9da",
   "metadata": {},
   "source": [
    "## stamp"
   ]
  },
  {
   "cell_type": "code",
   "execution_count": null,
   "id": "66b20884",
   "metadata": {
    "execution": {
     "iopub.execute_input": "2023-02-23T14:58:36.388000Z",
     "iopub.status.busy": "2023-02-23T14:58:36.229000Z",
     "iopub.status.idle": "2023-02-23T14:58:38.469000Z",
     "shell.execute_reply": "2023-02-23T14:58:38.468000Z"
    }
   },
   "outputs": [],
   "source": [
    "BioLab.Time.stamp()\n",
    "\n",
    "@code_warntype BioLab.Time.stamp()\n",
    "\n",
    "# 4.101 μs (73 allocations: 3.84 KiB)\n",
    "# @btime BioLab.Time.stamp()"
   ]
  }
 ],
 "metadata": {
  "@webio": {
   "lastCommId": null,
   "lastKernelId": null
  },
  "kernelspec": {
   "display_name": "Julia 1.8.5",
   "language": "julia",
   "name": "julia-1.8"
  },
  "language_info": {
   "file_extension": ".jl",
   "mimetype": "application/julia",
   "name": "julia",
   "version": "1.8.5"
  }
 },
 "nbformat": 4,
 "nbformat_minor": 5
}
