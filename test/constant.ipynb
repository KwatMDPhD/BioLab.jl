{
 "cells": [
  {
   "cell_type": "code",
   "execution_count": null,
   "id": "778d9ff9",
   "metadata": {
    "execution": {
     "iopub.execute_input": "2022-08-17T20:05:38.756000Z",
     "iopub.status.busy": "2022-08-17T20:05:38.428000Z",
     "iopub.status.idle": "2022-08-17T20:05:43.332000Z",
     "shell.execute_reply": "2022-08-17T20:05:43.288000Z"
    }
   },
   "outputs": [],
   "source": [
    "using OnePiece"
   ]
  },
  {
   "cell_type": "markdown",
   "id": "50e558c6",
   "metadata": {},
   "source": [
    "## ALPHABET"
   ]
  },
  {
   "cell_type": "code",
   "execution_count": null,
   "id": "b709060b",
   "metadata": {
    "execution": {
     "iopub.execute_input": "2022-08-17T20:05:43.916000Z",
     "iopub.status.busy": "2022-08-17T20:05:43.334000Z",
     "iopub.status.idle": "2022-08-17T20:05:45.038000Z",
     "shell.execute_reply": "2022-08-17T20:05:45.038000Z"
    }
   },
   "outputs": [],
   "source": [
    "OnePiece.constant.ALPHABET"
   ]
  },
  {
   "cell_type": "markdown",
   "id": "34b39c7d",
   "metadata": {},
   "source": [
    "## CARD"
   ]
  },
  {
   "cell_type": "code",
   "execution_count": null,
   "id": "74c84376",
   "metadata": {
    "execution": {
     "iopub.execute_input": "2022-08-17T20:05:45.042000Z",
     "iopub.status.busy": "2022-08-17T20:05:45.042000Z",
     "iopub.status.idle": "2022-08-17T20:05:45.044000Z",
     "shell.execute_reply": "2022-08-17T20:05:45.043000Z"
    }
   },
   "outputs": [],
   "source": [
    "OnePiece.constant.CARD"
   ]
  },
  {
   "cell_type": "markdown",
   "id": "22826432",
   "metadata": {},
   "source": [
    "## RANDOM_SEED"
   ]
  },
  {
   "cell_type": "code",
   "execution_count": null,
   "id": "f6bf4b5c",
   "metadata": {
    "execution": {
     "iopub.execute_input": "2022-08-17T20:05:45.046000Z",
     "iopub.status.busy": "2022-08-17T20:05:45.046000Z",
     "iopub.status.idle": "2022-08-17T20:05:45.190000Z",
     "shell.execute_reply": "2022-08-17T20:05:45.189000Z"
    }
   },
   "outputs": [],
   "source": [
    "OnePiece.constant.RANDOM_SEED"
   ]
  }
 ],
 "metadata": {
  "@webio": {
   "lastCommId": null,
   "lastKernelId": null
  },
  "kernelspec": {
   "display_name": "Julia 1.7.3",
   "language": "julia",
   "name": "julia-1.7"
  },
  "language_info": {
   "file_extension": ".jl",
   "mimetype": "application/julia",
   "name": "julia",
   "version": "1.7.3"
  }
 },
 "nbformat": 4,
 "nbformat_minor": 5
}
