{
 "cells": [
  {
   "cell_type": "code",
   "execution_count": null,
   "id": "778d9ff9",
   "metadata": {
    "execution": {
     "iopub.execute_input": "2022-08-25T17:19:55.114000Z",
     "iopub.status.busy": "2022-08-25T17:19:54.533000Z",
     "iopub.status.idle": "2022-08-25T17:20:02.090000Z",
     "shell.execute_reply": "2022-08-25T17:20:02.046000Z"
    }
   },
   "outputs": [],
   "source": [
    "using OnePiece"
   ]
  },
  {
   "cell_type": "markdown",
   "id": "50e558c6",
   "metadata": {},
   "source": [
    "## ALPHABET"
   ]
  },
  {
   "cell_type": "code",
   "execution_count": null,
   "id": "b709060b",
   "metadata": {
    "execution": {
     "iopub.execute_input": "2022-08-25T17:20:02.256000Z",
     "iopub.status.busy": "2022-08-25T17:20:02.092000Z",
     "iopub.status.idle": "2022-08-25T17:20:03.713000Z",
     "shell.execute_reply": "2022-08-25T17:20:03.713000Z"
    }
   },
   "outputs": [],
   "source": [
    "OnePiece.constant.ALPHABET"
   ]
  },
  {
   "cell_type": "markdown",
   "id": "34b39c7d",
   "metadata": {},
   "source": [
    "## CARD"
   ]
  },
  {
   "cell_type": "code",
   "execution_count": null,
   "id": "74c84376",
   "metadata": {
    "execution": {
     "iopub.execute_input": "2022-08-25T17:20:03.717000Z",
     "iopub.status.busy": "2022-08-25T17:20:03.717000Z",
     "iopub.status.idle": "2022-08-25T17:20:03.719000Z",
     "shell.execute_reply": "2022-08-25T17:20:03.718000Z"
    }
   },
   "outputs": [],
   "source": [
    "OnePiece.constant.CARD"
   ]
  },
  {
   "cell_type": "markdown",
   "id": "22826432",
   "metadata": {},
   "source": [
    "## RANDOM_SEED"
   ]
  },
  {
   "cell_type": "code",
   "execution_count": null,
   "id": "f6bf4b5c",
   "metadata": {
    "execution": {
     "iopub.execute_input": "2022-08-25T17:20:03.721000Z",
     "iopub.status.busy": "2022-08-25T17:20:03.721000Z",
     "iopub.status.idle": "2022-08-25T17:20:03.856000Z",
     "shell.execute_reply": "2022-08-25T17:20:03.855000Z"
    }
   },
   "outputs": [],
   "source": [
    "OnePiece.constant.RANDOM_SEED"
   ]
  }
 ],
 "metadata": {
  "@webio": {
   "lastCommId": null,
   "lastKernelId": null
  },
  "kernelspec": {
   "display_name": "Julia 1.7.3",
   "language": "julia",
   "name": "julia-1.8"
  },
  "language_info": {
   "file_extension": ".jl",
   "mimetype": "application/julia",
   "name": "julia",
   "version": "1.8.0"
  }
 },
 "nbformat": 4,
 "nbformat_minor": 5
}
