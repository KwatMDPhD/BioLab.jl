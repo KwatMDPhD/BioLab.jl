{
 "cells": [
  {
   "cell_type": "code",
   "execution_count": null,
   "id": "778d9ff9",
   "metadata": {
    "execution": {
     "iopub.execute_input": "2022-08-19T09:39:23.555000Z",
     "iopub.status.busy": "2022-08-19T09:39:23.222000Z",
     "iopub.status.idle": "2022-08-19T09:39:28.197000Z",
     "shell.execute_reply": "2022-08-19T09:39:28.143000Z"
    }
   },
   "outputs": [],
   "source": [
    "using OnePiece"
   ]
  },
  {
   "cell_type": "markdown",
   "id": "50e558c6",
   "metadata": {},
   "source": [
    "## ALPHABET"
   ]
  },
  {
   "cell_type": "code",
   "execution_count": null,
   "id": "b709060b",
   "metadata": {
    "execution": {
     "iopub.execute_input": "2022-08-19T09:39:28.809000Z",
     "iopub.status.busy": "2022-08-19T09:39:28.200000Z",
     "iopub.status.idle": "2022-08-19T09:39:29.955000Z",
     "shell.execute_reply": "2022-08-19T09:39:29.954000Z"
    }
   },
   "outputs": [],
   "source": [
    "OnePiece.constant.ALPHABET"
   ]
  },
  {
   "cell_type": "markdown",
   "id": "34b39c7d",
   "metadata": {},
   "source": [
    "## CARD"
   ]
  },
  {
   "cell_type": "code",
   "execution_count": null,
   "id": "74c84376",
   "metadata": {
    "execution": {
     "iopub.execute_input": "2022-08-19T09:39:29.958000Z",
     "iopub.status.busy": "2022-08-19T09:39:29.958000Z",
     "iopub.status.idle": "2022-08-19T09:39:29.960000Z",
     "shell.execute_reply": "2022-08-19T09:39:29.960000Z"
    }
   },
   "outputs": [],
   "source": [
    "OnePiece.constant.CARD"
   ]
  },
  {
   "cell_type": "markdown",
   "id": "22826432",
   "metadata": {},
   "source": [
    "## RANDOM_SEED"
   ]
  },
  {
   "cell_type": "code",
   "execution_count": null,
   "id": "f6bf4b5c",
   "metadata": {
    "execution": {
     "iopub.execute_input": "2022-08-19T09:39:29.963000Z",
     "iopub.status.busy": "2022-08-19T09:39:29.962000Z",
     "iopub.status.idle": "2022-08-19T09:39:30.105000Z",
     "shell.execute_reply": "2022-08-19T09:39:30.104000Z"
    }
   },
   "outputs": [],
   "source": [
    "OnePiece.constant.RANDOM_SEED"
   ]
  }
 ],
 "metadata": {
  "@webio": {
   "lastCommId": null,
   "lastKernelId": null
  },
  "kernelspec": {
   "display_name": "Julia 1.7.3",
   "language": "julia",
   "name": "julia-1.7"
  },
  "language_info": {
   "file_extension": ".jl",
   "mimetype": "application/julia",
   "name": "julia",
   "version": "1.7.3"
  }
 },
 "nbformat": 4,
 "nbformat_minor": 5
}
