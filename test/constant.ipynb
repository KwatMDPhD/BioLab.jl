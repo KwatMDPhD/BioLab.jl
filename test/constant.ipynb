{
 "cells": [
  {
   "cell_type": "code",
   "execution_count": null,
   "id": "778d9ff9",
   "metadata": {
    "execution": {
     "iopub.execute_input": "2022-08-17T13:48:41.762000Z",
     "iopub.status.busy": "2022-08-17T13:48:41.427000Z",
     "iopub.status.idle": "2022-08-17T13:48:46.301000Z",
     "shell.execute_reply": "2022-08-17T13:48:46.257000Z"
    }
   },
   "outputs": [],
   "source": [
    "using OnePiece"
   ]
  },
  {
   "cell_type": "markdown",
   "id": "50e558c6",
   "metadata": {},
   "source": [
    "## ALPHABET"
   ]
  },
  {
   "cell_type": "code",
   "execution_count": null,
   "id": "b709060b",
   "metadata": {
    "execution": {
     "iopub.execute_input": "2022-08-17T13:48:46.889000Z",
     "iopub.status.busy": "2022-08-17T13:48:46.303000Z",
     "iopub.status.idle": "2022-08-17T13:48:48.008000Z",
     "shell.execute_reply": "2022-08-17T13:48:48.007000Z"
    }
   },
   "outputs": [],
   "source": [
    "OnePiece.constant.ALPHABET"
   ]
  },
  {
   "cell_type": "markdown",
   "id": "34b39c7d",
   "metadata": {},
   "source": [
    "## CARD"
   ]
  },
  {
   "cell_type": "code",
   "execution_count": null,
   "id": "74c84376",
   "metadata": {
    "execution": {
     "iopub.execute_input": "2022-08-17T13:48:48.012000Z",
     "iopub.status.busy": "2022-08-17T13:48:48.012000Z",
     "iopub.status.idle": "2022-08-17T13:48:48.014000Z",
     "shell.execute_reply": "2022-08-17T13:48:48.013000Z"
    }
   },
   "outputs": [],
   "source": [
    "OnePiece.constant.CARD"
   ]
  },
  {
   "cell_type": "markdown",
   "id": "22826432",
   "metadata": {},
   "source": [
    "## RANDOM_SEED"
   ]
  },
  {
   "cell_type": "code",
   "execution_count": null,
   "id": "f6bf4b5c",
   "metadata": {
    "execution": {
     "iopub.execute_input": "2022-08-17T13:48:48.017000Z",
     "iopub.status.busy": "2022-08-17T13:48:48.017000Z",
     "iopub.status.idle": "2022-08-17T13:48:48.162000Z",
     "shell.execute_reply": "2022-08-17T13:48:48.162000Z"
    }
   },
   "outputs": [],
   "source": [
    "OnePiece.constant.RANDOM_SEED"
   ]
  }
 ],
 "metadata": {
  "@webio": {
   "lastCommId": null,
   "lastKernelId": null
  },
  "kernelspec": {
   "display_name": "Julia 1.7.3",
   "language": "julia",
   "name": "julia-1.7"
  },
  "language_info": {
   "file_extension": ".jl",
   "mimetype": "application/julia",
   "name": "julia",
   "version": "1.7.3"
  }
 },
 "nbformat": 4,
 "nbformat_minor": 5
}
