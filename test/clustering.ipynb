{
 "cells": [
  {
   "cell_type": "code",
   "execution_count": null,
   "id": "9b9178dc-fcd5-4fbd-93cf-d2a52018c102",
   "metadata": {},
   "outputs": [],
   "source": [
    "using OnePiece"
   ]
  },
  {
   "cell_type": "code",
   "execution_count": null,
   "id": "f551e0c7-b22a-4697-a4fc-c8a3f1ecfecb",
   "metadata": {},
   "outputs": [],
   "source": [
    "sa_x_fe_x_nu = [\n",
    "    9 19 9 19 9\n",
    "    0 10 0 10 0\n",
    "    1 11 1 11 1\n",
    "    8 18 8 18 8\n",
    "]"
   ]
  },
  {
   "cell_type": "code",
   "execution_count": null,
   "id": "0a9dc3b3-81ee-4ed0-89b7-602002c708c4",
   "metadata": {},
   "outputs": [],
   "source": [
    "OnePiece.clustering.cluster(sa_x_fe_x_nu)"
   ]
  },
  {
   "cell_type": "code",
   "execution_count": null,
   "id": "194307c4-db0e-4d96-9e08-2a44c2e42819",
   "metadata": {},
   "outputs": [],
   "source": [
    "OnePiece.clustering.cluster(sa_x_fe_x_nu, 2)"
   ]
  }
 ],
 "metadata": {
  "kernelspec": {
   "display_name": "Julia 1.8.0",
   "language": "julia",
   "name": "julia-1.8"
  },
  "language_info": {
   "file_extension": ".jl",
   "mimetype": "application/julia",
   "name": "julia",
   "version": "1.8.2"
  }
 },
 "nbformat": 4,
 "nbformat_minor": 5
}
