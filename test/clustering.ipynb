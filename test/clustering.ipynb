{
 "cells": [
  {
   "cell_type": "code",
   "execution_count": null,
   "id": "e577f0da-5e3f-4043-920a-3bcaaf3ec396",
   "metadata": {},
   "outputs": [],
   "source": [
    "using Revise"
   ]
  },
  {
   "cell_type": "code",
   "execution_count": null,
   "id": "9b9178dc-fcd5-4fbd-93cf-d2a52018c102",
   "metadata": {},
   "outputs": [],
   "source": [
    "using Distances\n",
    "\n",
    "using OnePiece"
   ]
  },
  {
   "cell_type": "code",
   "execution_count": null,
   "id": "f551e0c7-b22a-4697-a4fc-c8a3f1ecfecb",
   "metadata": {},
   "outputs": [],
   "source": [
    "ma = [\n",
    "    9 19 9 19 9\n",
    "    90 190 90 190 90\n",
    "    0 10 0 10 0\n",
    "    1 11 1 11 1\n",
    "    8 18 8 18 8\n",
    "]\n",
    "\n",
    ";"
   ]
  },
  {
   "cell_type": "markdown",
   "id": "3d3fedbe-d82e-48bc-98b8-48eb1a9707b6",
   "metadata": {},
   "source": [
    "## _hierarchize"
   ]
  },
  {
   "cell_type": "code",
   "execution_count": null,
   "id": "fa5592b8-106d-4ff5-863a-14c22aadd7e8",
   "metadata": {},
   "outputs": [],
   "source": [
    "OnePiece.Clustering._hierarchize(ma)"
   ]
  },
  {
   "cell_type": "code",
   "execution_count": null,
   "id": "8341d849-62fe-4e8f-be03-e9a6508020f5",
   "metadata": {},
   "outputs": [],
   "source": [
    "OnePiece.Clustering._hierarchize(ma, CorrDist())"
   ]
  },
  {
   "cell_type": "markdown",
   "id": "4c274276-7d5c-428d-8336-fd48a0c7946d",
   "metadata": {},
   "source": [
    "## order"
   ]
  },
  {
   "cell_type": "code",
   "execution_count": null,
   "id": "3ef6d198-e958-477d-9c54-e088e5040dfe",
   "metadata": {},
   "outputs": [],
   "source": [
    "OnePiece.Clustering.order(ma)"
   ]
  },
  {
   "cell_type": "code",
   "execution_count": null,
   "id": "7dcc80d3-e955-4236-9303-7b01961ab7f7",
   "metadata": {},
   "outputs": [],
   "source": [
    "OnePiece.Clustering.order(ma, CorrDist())"
   ]
  },
  {
   "cell_type": "markdown",
   "id": "c6307966-ba63-411a-9878-ea4bf43d5793",
   "metadata": {},
   "source": [
    "## cluster"
   ]
  },
  {
   "cell_type": "code",
   "execution_count": null,
   "id": "ab8dcd01-1f9d-4838-a960-ce61911d6a95",
   "metadata": {},
   "outputs": [],
   "source": [
    "for n_gr in [1, 2, 3, 4]\n",
    "\n",
    "    println(OnePiece.Clustering.cluster(ma, n_gr, CorrDist()))\n",
    "\n",
    "end"
   ]
  }
 ],
 "metadata": {
  "kernelspec": {
   "display_name": "Julia 1.8.2",
   "language": "julia",
   "name": "julia-1.8"
  },
  "language_info": {
   "file_extension": ".jl",
   "mimetype": "application/julia",
   "name": "julia",
   "version": "1.8.2"
  }
 },
 "nbformat": 4,
 "nbformat_minor": 5
}
