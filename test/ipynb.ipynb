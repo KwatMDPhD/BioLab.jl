{
 "cells": [
  {
   "cell_type": "code",
   "execution_count": null,
   "id": "ad9b827e",
   "metadata": {
    "execution": {
     "iopub.execute_input": "2022-08-17T20:05:28.690000Z",
     "iopub.status.busy": "2022-08-17T20:05:28.362000Z",
     "iopub.status.idle": "2022-08-17T20:05:33.272000Z",
     "shell.execute_reply": "2022-08-17T20:05:33.226000Z"
    }
   },
   "outputs": [],
   "source": [
    "using OnePiece"
   ]
  },
  {
   "cell_type": "markdown",
   "id": "8ce7ef96",
   "metadata": {},
   "source": [
    "## run"
   ]
  },
  {
   "cell_type": "code",
   "execution_count": null,
   "id": "9180c14e",
   "metadata": {
    "execution": {
     "iopub.execute_input": "2022-08-17T20:05:33.870000Z",
     "iopub.status.busy": "2022-08-17T20:05:33.292000Z",
     "iopub.status.idle": "2022-08-17T20:05:49.750000Z",
     "shell.execute_reply": "2022-08-17T20:05:49.750000Z"
    }
   },
   "outputs": [],
   "source": [
    "OnePiece.ipynb.run(\"constant.ipynb\")"
   ]
  }
 ],
 "metadata": {
  "kernelspec": {
   "display_name": "Julia 1.7.3",
   "language": "julia",
   "name": "julia-1.7"
  },
  "language_info": {
   "file_extension": ".jl",
   "mimetype": "application/julia",
   "name": "julia",
   "version": "1.7.3"
  }
 },
 "nbformat": 4,
 "nbformat_minor": 5
}
