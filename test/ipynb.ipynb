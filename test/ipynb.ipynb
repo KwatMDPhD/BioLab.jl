{
 "cells": [
  {
   "cell_type": "code",
   "execution_count": 1,
   "id": "ad9b827e",
   "metadata": {
    "execution": {
     "iopub.execute_input": "2022-08-10T10:53:02.066000Z",
     "iopub.status.busy": "2022-08-10T10:53:01.682000Z",
     "iopub.status.idle": "2022-08-10T10:53:06.577000Z",
     "shell.execute_reply": "2022-08-10T10:53:06.529000Z"
    }
   },
   "outputs": [],
   "source": [
    "using OnePiece"
   ]
  },
  {
   "cell_type": "markdown",
   "id": "8ce7ef96",
   "metadata": {},
   "source": [
    "## run"
   ]
  },
  {
   "cell_type": "code",
   "execution_count": 2,
   "id": "9180c14e",
   "metadata": {
    "execution": {
     "iopub.execute_input": "2022-08-10T10:53:06.991000Z",
     "iopub.status.busy": "2022-08-10T10:53:06.595000Z",
     "iopub.status.idle": "2022-08-10T10:53:22.490000Z",
     "shell.execute_reply": "2022-08-10T10:53:22.490000Z"
    }
   },
   "outputs": [
    {
     "name": "stdout",
     "output_type": "stream",
     "text": [
      "Starting kernel event loops.\n"
     ]
    },
    {
     "data": {
      "text/plain": [
       "Process(`\u001b[4mjupyter-nbconvert\u001b[24m \u001b[4m--log-level\u001b[24m \u001b[4m40\u001b[24m \u001b[4m--inplace\u001b[24m \u001b[4m--execute\u001b[24m \u001b[4m--ExecutePreprocessor.timeout=-1\u001b[24m \u001b[4m--clear-output\u001b[24m \u001b[4mconstant.ipynb\u001b[24m`, ProcessExited(0))"
      ]
     },
     "execution_count": 2,
     "metadata": {},
     "output_type": "execute_result"
    }
   ],
   "source": [
    "OnePiece.ipynb.run(\"constant.ipynb\")"
   ]
  }
 ],
 "metadata": {
  "kernelspec": {
   "display_name": "Julia 1.7.3",
   "language": "julia",
   "name": "julia-1.7"
  },
  "language_info": {
   "file_extension": ".jl",
   "mimetype": "application/julia",
   "name": "julia",
   "version": "1.7.3"
  }
 },
 "nbformat": 4,
 "nbformat_minor": 5
}
