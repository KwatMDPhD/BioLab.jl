{
 "cells": [
  {
   "cell_type": "code",
   "execution_count": null,
   "id": "ad9b827e",
   "metadata": {
    "execution": {
     "iopub.execute_input": "2022-08-17T13:48:31.667000Z",
     "iopub.status.busy": "2022-08-17T13:48:31.334000Z",
     "iopub.status.idle": "2022-08-17T13:48:36.215000Z",
     "shell.execute_reply": "2022-08-17T13:48:36.170000Z"
    }
   },
   "outputs": [],
   "source": [
    "using OnePiece"
   ]
  },
  {
   "cell_type": "markdown",
   "id": "8ce7ef96",
   "metadata": {},
   "source": [
    "## run"
   ]
  },
  {
   "cell_type": "code",
   "execution_count": null,
   "id": "9180c14e",
   "metadata": {
    "execution": {
     "iopub.execute_input": "2022-08-17T13:48:36.821000Z",
     "iopub.status.busy": "2022-08-17T13:48:36.232000Z",
     "iopub.status.idle": "2022-08-17T13:48:52.739000Z",
     "shell.execute_reply": "2022-08-17T13:48:52.738000Z"
    }
   },
   "outputs": [],
   "source": [
    "OnePiece.ipynb.run(\"constant.ipynb\")"
   ]
  }
 ],
 "metadata": {
  "kernelspec": {
   "display_name": "Julia 1.7.3",
   "language": "julia",
   "name": "julia-1.7"
  },
  "language_info": {
   "file_extension": ".jl",
   "mimetype": "application/julia",
   "name": "julia",
   "version": "1.7.3"
  }
 },
 "nbformat": 4,
 "nbformat_minor": 5
}
