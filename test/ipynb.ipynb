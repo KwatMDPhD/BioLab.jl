{
 "cells": [
  {
   "cell_type": "code",
   "execution_count": null,
   "id": "ad9b827e",
   "metadata": {
    "execution": {
     "iopub.execute_input": "2022-08-19T09:39:13.075000Z",
     "iopub.status.busy": "2022-08-19T09:39:12.736000Z",
     "iopub.status.idle": "2022-08-19T09:39:17.770000Z",
     "shell.execute_reply": "2022-08-19T09:39:17.724000Z"
    }
   },
   "outputs": [],
   "source": [
    "using OnePiece"
   ]
  },
  {
   "cell_type": "markdown",
   "id": "8ce7ef96",
   "metadata": {},
   "source": [
    "## run"
   ]
  },
  {
   "cell_type": "code",
   "execution_count": null,
   "id": "9180c14e",
   "metadata": {
    "execution": {
     "iopub.execute_input": "2022-08-19T09:39:18.395000Z",
     "iopub.status.busy": "2022-08-19T09:39:17.788000Z",
     "iopub.status.idle": "2022-08-19T09:39:34.706000Z",
     "shell.execute_reply": "2022-08-19T09:39:34.705000Z"
    }
   },
   "outputs": [],
   "source": [
    "OnePiece.ipynb.run(\"constant.ipynb\")"
   ]
  }
 ],
 "metadata": {
  "kernelspec": {
   "display_name": "Julia 1.7.3",
   "language": "julia",
   "name": "julia-1.7"
  },
  "language_info": {
   "file_extension": ".jl",
   "mimetype": "application/julia",
   "name": "julia",
   "version": "1.7.3"
  }
 },
 "nbformat": 4,
 "nbformat_minor": 5
}
