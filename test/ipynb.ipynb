{
 "cells": [
  {
   "cell_type": "code",
   "execution_count": null,
   "id": "ad9b827e",
   "metadata": {
    "execution": {
     "iopub.execute_input": "2022-08-25T17:19:42.290000Z",
     "iopub.status.busy": "2022-08-25T17:19:41.796000Z",
     "iopub.status.idle": "2022-08-25T17:19:49.167000Z",
     "shell.execute_reply": "2022-08-25T17:19:49.125000Z"
    }
   },
   "outputs": [],
   "source": [
    "using OnePiece"
   ]
  },
  {
   "cell_type": "markdown",
   "id": "8ce7ef96",
   "metadata": {},
   "source": [
    "## run"
   ]
  },
  {
   "cell_type": "code",
   "execution_count": null,
   "id": "9180c14e",
   "metadata": {
    "execution": {
     "iopub.execute_input": "2022-08-25T17:19:49.353000Z",
     "iopub.status.busy": "2022-08-25T17:19:49.169000Z",
     "iopub.status.idle": "2022-08-25T17:20:08.604000Z",
     "shell.execute_reply": "2022-08-25T17:20:08.603000Z"
    }
   },
   "outputs": [],
   "source": [
    "OnePiece.ipynb.run(\"constant.ipynb\")"
   ]
  }
 ],
 "metadata": {
  "kernelspec": {
   "display_name": "Julia 1.7.3",
   "language": "julia",
   "name": "julia-1.8"
  },
  "language_info": {
   "file_extension": ".jl",
   "mimetype": "application/julia",
   "name": "julia",
   "version": "1.8.0"
  }
 },
 "nbformat": 4,
 "nbformat_minor": 5
}
