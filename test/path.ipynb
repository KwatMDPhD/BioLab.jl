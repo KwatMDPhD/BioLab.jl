{
 "cells": [
  {
   "cell_type": "code",
   "execution_count": null,
   "id": "baf12f00",
   "metadata": {
    "execution": {
     "iopub.execute_input": "2022-08-17T20:07:26.515000Z",
     "iopub.status.busy": "2022-08-17T20:07:26.183000Z",
     "iopub.status.idle": "2022-08-17T20:07:31.069000Z",
     "shell.execute_reply": "2022-08-17T20:07:31.016000Z"
    }
   },
   "outputs": [],
   "source": [
    "using OnePiece"
   ]
  },
  {
   "cell_type": "code",
   "execution_count": null,
   "id": "192de097",
   "metadata": {
    "execution": {
     "iopub.execute_input": "2022-08-17T20:07:31.675000Z",
     "iopub.status.busy": "2022-08-17T20:07:31.087000Z",
     "iopub.status.idle": "2022-08-17T20:07:32.263000Z",
     "shell.execute_reply": "2022-08-17T20:07:32.262000Z"
    }
   },
   "outputs": [],
   "source": [
    "te = OnePiece.path.make_temporary(\"OnePiece.test.path\")"
   ]
  },
  {
   "cell_type": "markdown",
   "id": "b6f90585",
   "metadata": {},
   "source": [
    "## clean"
   ]
  },
  {
   "cell_type": "code",
   "execution_count": null,
   "id": "ec0ee1af",
   "metadata": {
    "execution": {
     "iopub.execute_input": "2022-08-17T20:07:32.266000Z",
     "iopub.status.busy": "2022-08-17T20:07:32.266000Z",
     "iopub.status.idle": "2022-08-17T20:07:32.297000Z",
     "shell.execute_reply": "2022-08-17T20:07:32.297000Z"
    }
   },
   "outputs": [],
   "source": [
    "OnePiece.path.clean(\"a_b.c-d+e!f%g%h]iJK\")"
   ]
  },
  {
   "cell_type": "markdown",
   "id": "9b1b5bd5",
   "metadata": {},
   "source": [
    "## error_extension"
   ]
  },
  {
   "cell_type": "code",
   "execution_count": null,
   "id": "820a85f3",
   "metadata": {
    "execution": {
     "iopub.execute_input": "2022-08-17T20:07:32.301000Z",
     "iopub.status.busy": "2022-08-17T20:07:32.301000Z",
     "iopub.status.idle": "2022-08-17T20:07:33.046000Z",
     "shell.execute_reply": "2022-08-17T20:07:33.046000Z"
    }
   },
   "outputs": [],
   "source": [
    "OnePiece.path.error_extension(\"file.extension\", \".extension\")\n",
    "\n",
    "for ex in (\"extension\", \".another_extension\")\n",
    "\n",
    "    try\n",
    "\n",
    "        OnePiece.path.error_extension(\"file.extension\", ex)\n",
    "\n",
    "    catch er\n",
    "\n",
    "        println(er)\n",
    "\n",
    "    end\n",
    "\n",
    "end"
   ]
  },
  {
   "cell_type": "markdown",
   "id": "8389f8ff",
   "metadata": {},
   "source": [
    "## error_missing"
   ]
  },
  {
   "cell_type": "code",
   "execution_count": null,
   "id": "7fa47fca",
   "metadata": {
    "execution": {
     "iopub.execute_input": "2022-08-17T20:07:33.049000Z",
     "iopub.status.busy": "2022-08-17T20:07:33.049000Z",
     "iopub.status.idle": "2022-08-17T20:07:33.082000Z",
     "shell.execute_reply": "2022-08-17T20:07:33.081000Z"
    }
   },
   "outputs": [],
   "source": [
    "go = \"test/path.ipynb\"\n",
    "\n",
    "OnePiece.path.error_missing(dirname(@__DIR__), (go,))"
   ]
  },
  {
   "cell_type": "code",
   "execution_count": null,
   "id": "88445946",
   "metadata": {
    "execution": {
     "iopub.execute_input": "2022-08-17T20:07:33.084000Z",
     "iopub.status.busy": "2022-08-17T20:07:33.084000Z",
     "iopub.status.idle": "2022-08-17T20:07:33.120000Z",
     "shell.execute_reply": "2022-08-17T20:07:33.120000Z"
    }
   },
   "outputs": [],
   "source": [
    "try\n",
    "\n",
    "    OnePiece.path.error_missing(dirname(@__DIR__), (go, \"missing/file\", \"missing/directory/\"))\n",
    "\n",
    "catch er\n",
    "\n",
    "    println(er)\n",
    "\n",
    "end"
   ]
  },
  {
   "cell_type": "markdown",
   "id": "83db080c",
   "metadata": {},
   "source": [
    "## make_absolute"
   ]
  },
  {
   "cell_type": "code",
   "execution_count": null,
   "id": "b2354689",
   "metadata": {
    "execution": {
     "iopub.execute_input": "2022-08-17T20:07:33.123000Z",
     "iopub.status.busy": "2022-08-17T20:07:33.123000Z",
     "iopub.status.idle": "2022-08-17T20:07:33.131000Z",
     "shell.execute_reply": "2022-08-17T20:07:33.131000Z"
    }
   },
   "outputs": [],
   "source": [
    "for pa in (\"~/file\", \"~/directory/\")\n",
    "\n",
    "    println(OnePiece.path.make_absolute(pa))\n",
    "\n",
    "end"
   ]
  },
  {
   "cell_type": "markdown",
   "id": "64e21edc",
   "metadata": {},
   "source": [
    "## make_temporary"
   ]
  },
  {
   "cell_type": "code",
   "execution_count": null,
   "id": "f3fb0c52",
   "metadata": {
    "execution": {
     "iopub.execute_input": "2022-08-17T20:07:33.134000Z",
     "iopub.status.busy": "2022-08-17T20:07:33.134000Z",
     "iopub.status.idle": "2022-08-17T20:07:33.135000Z",
     "shell.execute_reply": "2022-08-17T20:07:33.135000Z"
    }
   },
   "outputs": [],
   "source": [
    "OnePiece.path.make_temporary(\"OnePiece.test.path.make_temporary\")"
   ]
  },
  {
   "cell_type": "markdown",
   "id": "3dc5bf93",
   "metadata": {},
   "source": [
    "## move"
   ]
  },
  {
   "cell_type": "code",
   "execution_count": null,
   "id": "f30f1f5c",
   "metadata": {
    "execution": {
     "iopub.execute_input": "2022-08-17T20:07:33.138000Z",
     "iopub.status.busy": "2022-08-17T20:07:33.138000Z",
     "iopub.status.idle": "2022-08-17T20:07:33.531000Z",
     "shell.execute_reply": "2022-08-17T20:07:33.530000Z"
    }
   },
   "outputs": [],
   "source": [
    "di1 = mkpath(joinpath(te, \"di1\"))\n",
    "\n",
    "di2 = mkpath(joinpath(te, \"di2\"))\n",
    "\n",
    "di3 = mkpath(joinpath(te, \"di3\"))\n",
    "\n",
    "fi1 = joinpath(di1, \"fi1\")\n",
    "\n",
    "fi2 = joinpath(di2, \"fi2\")\n",
    "\n",
    "touch(fi1)\n",
    "\n",
    "touch(fi2)\n",
    "\n",
    "run(`tree $te`)"
   ]
  },
  {
   "cell_type": "code",
   "execution_count": null,
   "id": "d71a8593",
   "metadata": {
    "execution": {
     "iopub.execute_input": "2022-08-17T20:07:33.534000Z",
     "iopub.status.busy": "2022-08-17T20:07:33.533000Z",
     "iopub.status.idle": "2022-08-17T20:07:33.724000Z",
     "shell.execute_reply": "2022-08-17T20:07:33.724000Z"
    }
   },
   "outputs": [],
   "source": [
    "fi12 = replace(fi1, \"di1\" => \"di3\")\n",
    "\n",
    "OnePiece.path.move(fi1, fi12)"
   ]
  },
  {
   "cell_type": "code",
   "execution_count": null,
   "id": "25aefd1c",
   "metadata": {
    "execution": {
     "iopub.execute_input": "2022-08-17T20:07:33.728000Z",
     "iopub.status.busy": "2022-08-17T20:07:33.727000Z",
     "iopub.status.idle": "2022-08-17T20:07:33.739000Z",
     "shell.execute_reply": "2022-08-17T20:07:33.739000Z"
    }
   },
   "outputs": [],
   "source": [
    "run(`tree $te`)"
   ]
  },
  {
   "cell_type": "code",
   "execution_count": null,
   "id": "785c2824",
   "metadata": {
    "execution": {
     "iopub.execute_input": "2022-08-17T20:07:33.743000Z",
     "iopub.status.busy": "2022-08-17T20:07:33.743000Z",
     "iopub.status.idle": "2022-08-17T20:07:33.797000Z",
     "shell.execute_reply": "2022-08-17T20:07:33.797000Z"
    }
   },
   "outputs": [],
   "source": [
    "try\n",
    "\n",
    "    OnePiece.path.move(di2, di3)\n",
    "\n",
    "catch er\n",
    "\n",
    "    println(er)\n",
    "\n",
    "end"
   ]
  },
  {
   "cell_type": "code",
   "execution_count": null,
   "id": "78de98f4",
   "metadata": {
    "execution": {
     "iopub.execute_input": "2022-08-17T20:07:33.800000Z",
     "iopub.status.busy": "2022-08-17T20:07:33.800000Z",
     "iopub.status.idle": "2022-08-17T20:07:33.826000Z",
     "shell.execute_reply": "2022-08-17T20:07:33.826000Z"
    }
   },
   "outputs": [],
   "source": [
    "println(OnePiece.path.move(di2, di3, force = true))\n",
    "\n",
    "run(`tree $te`)"
   ]
  },
  {
   "cell_type": "markdown",
   "id": "1a9897b1",
   "metadata": {},
   "source": [
    "## rename_recursively"
   ]
  },
  {
   "cell_type": "code",
   "execution_count": null,
   "id": "b1302632",
   "metadata": {
    "execution": {
     "iopub.execute_input": "2022-08-17T20:07:33.830000Z",
     "iopub.status.busy": "2022-08-17T20:07:33.829000Z",
     "iopub.status.idle": "2022-08-17T20:07:34.652000Z",
     "shell.execute_reply": "2022-08-17T20:07:34.652000Z"
    }
   },
   "outputs": [],
   "source": [
    "fi1 = joinpath(te, \"fi1\")\n",
    "\n",
    "fi2 = joinpath(te, \"fi2\")\n",
    "\n",
    "touch(fi1)\n",
    "\n",
    "touch(fi2)\n",
    "\n",
    "readdir(te)"
   ]
  },
  {
   "cell_type": "code",
   "execution_count": null,
   "id": "150a93f3",
   "metadata": {
    "execution": {
     "iopub.execute_input": "2022-08-17T20:07:34.655000Z",
     "iopub.status.busy": "2022-08-17T20:07:34.655000Z",
     "iopub.status.idle": "2022-08-17T20:07:34.796000Z",
     "shell.execute_reply": "2022-08-17T20:07:34.796000Z"
    }
   },
   "outputs": [],
   "source": [
    "OnePiece.path.rename_recursively(te, [\"fi\" => \"new\"])\n",
    "\n",
    "readdir(te)"
   ]
  },
  {
   "cell_type": "markdown",
   "id": "9d955e7a",
   "metadata": {},
   "source": [
    "## sed_recursively"
   ]
  },
  {
   "cell_type": "code",
   "execution_count": null,
   "id": "338fa3f1",
   "metadata": {
    "execution": {
     "iopub.execute_input": "2022-08-17T20:07:34.800000Z",
     "iopub.status.busy": "2022-08-17T20:07:34.799000Z",
     "iopub.status.idle": "2022-08-17T20:07:34.823000Z",
     "shell.execute_reply": "2022-08-17T20:07:34.823000Z"
    }
   },
   "outputs": [],
   "source": [
    "fi1 = joinpath(te, \"fi1\")\n",
    "\n",
    "fi2 = joinpath(te, \"fi2\")\n",
    "\n",
    "open(fi1, \"w\") do io\n",
    "\n",
    "    write(io, \"Before\")\n",
    "\n",
    "end\n",
    "\n",
    "open(fi2, \"w\") do io\n",
    "\n",
    "    write(io, \"BeforeBefore\")\n",
    "\n",
    "end\n",
    "\n",
    "println(readline(open(fi1)))\n",
    "\n",
    "println(readline(open(fi2)))"
   ]
  },
  {
   "cell_type": "code",
   "execution_count": null,
   "id": "0cfdbc0d",
   "metadata": {
    "execution": {
     "iopub.execute_input": "2022-08-17T20:07:34.826000Z",
     "iopub.status.busy": "2022-08-17T20:07:34.826000Z",
     "iopub.status.idle": "2022-08-17T20:07:34.976000Z",
     "shell.execute_reply": "2022-08-17T20:07:34.975000Z"
    }
   },
   "outputs": [],
   "source": [
    "OnePiece.path.sed_recursively(te, (\"Before\" => \"After\",))\n",
    "\n",
    "println(readline(open(fi1)))\n",
    "\n",
    "println(readline(open(fi2)))"
   ]
  },
  {
   "cell_type": "markdown",
   "id": "e39c2405",
   "metadata": {},
   "source": [
    "## select"
   ]
  },
  {
   "cell_type": "code",
   "execution_count": null,
   "id": "a5f0824e",
   "metadata": {
    "execution": {
     "iopub.execute_input": "2022-08-17T20:07:34.978000Z",
     "iopub.status.busy": "2022-08-17T20:07:34.978000Z",
     "iopub.status.idle": "2022-08-17T20:07:35.661000Z",
     "shell.execute_reply": "2022-08-17T20:07:35.661000Z"
    }
   },
   "outputs": [],
   "source": [
    "di = homedir()\n",
    "\n",
    "OnePiece.path.select(di)"
   ]
  },
  {
   "cell_type": "code",
   "execution_count": null,
   "id": "ab60cb6f",
   "metadata": {
    "execution": {
     "iopub.execute_input": "2022-08-17T20:07:35.664000Z",
     "iopub.status.busy": "2022-08-17T20:07:35.664000Z",
     "iopub.status.idle": "2022-08-17T20:07:35.770000Z",
     "shell.execute_reply": "2022-08-17T20:07:35.769000Z"
    }
   },
   "outputs": [],
   "source": [
    "OnePiece.path.select(di, ig_ = [], ke_ = [r\"^\\.\"], jo = false)"
   ]
  },
  {
   "cell_type": "markdown",
   "id": "62ab3617",
   "metadata": {},
   "source": [
    "## shorten"
   ]
  },
  {
   "cell_type": "code",
   "execution_count": null,
   "id": "db6f4c61",
   "metadata": {
    "execution": {
     "iopub.execute_input": "2022-08-17T20:07:35.773000Z",
     "iopub.status.busy": "2022-08-17T20:07:35.773000Z",
     "iopub.status.idle": "2022-08-17T20:07:35.774000Z",
     "shell.execute_reply": "2022-08-17T20:07:35.773000Z"
    }
   },
   "outputs": [],
   "source": [
    "pa = @__DIR__"
   ]
  },
  {
   "cell_type": "code",
   "execution_count": null,
   "id": "abfe4c66",
   "metadata": {
    "execution": {
     "iopub.execute_input": "2022-08-17T20:07:35.779000Z",
     "iopub.status.busy": "2022-08-17T20:07:35.779000Z",
     "iopub.status.idle": "2022-08-17T20:07:35.865000Z",
     "shell.execute_reply": "2022-08-17T20:07:35.865000Z"
    }
   },
   "outputs": [],
   "source": [
    "try\n",
    "\n",
    "    OnePiece.path.shorten(pa, \"Shanks\")\n",
    "\n",
    "catch er\n",
    "\n",
    "    println(er)\n",
    "\n",
    "end"
   ]
  },
  {
   "cell_type": "code",
   "execution_count": null,
   "id": "465a8e0a",
   "metadata": {
    "execution": {
     "iopub.execute_input": "2022-08-17T20:07:35.868000Z",
     "iopub.status.busy": "2022-08-17T20:07:35.868000Z",
     "iopub.status.idle": "2022-08-17T20:07:35.877000Z",
     "shell.execute_reply": "2022-08-17T20:07:35.877000Z"
    }
   },
   "outputs": [],
   "source": [
    "for n_ba in (9, 2, 1, 0)\n",
    "\n",
    "    println(OnePiece.path.shorten(pa, n_ba))\n",
    "\n",
    "end"
   ]
  },
  {
   "cell_type": "code",
   "execution_count": null,
   "id": "c51e4bd0",
   "metadata": {
    "execution": {
     "iopub.execute_input": "2022-08-17T20:07:35.880000Z",
     "iopub.status.busy": "2022-08-17T20:07:35.880000Z",
     "iopub.status.idle": "2022-08-17T20:07:35.885000Z",
     "shell.execute_reply": "2022-08-17T20:07:35.885000Z"
    }
   },
   "outputs": [],
   "source": [
    "for di in (\"OnePiece.jl\", \"test\", \"OnePiece.jl/test\")\n",
    "\n",
    "    println(OnePiece.path.shorten(pa, di))\n",
    "\n",
    "end"
   ]
  },
  {
   "cell_type": "code",
   "execution_count": null,
   "id": "0dd7d1c7",
   "metadata": {
    "execution": {
     "iopub.execute_input": "2022-08-17T20:07:35.890000Z",
     "iopub.status.busy": "2022-08-17T20:07:35.890000Z",
     "iopub.status.idle": "2022-08-17T20:07:35.949000Z",
     "shell.execute_reply": "2022-08-17T20:07:35.949000Z"
    }
   },
   "outputs": [],
   "source": [
    "for sh in (-1, 1)\n",
    "\n",
    "    println(OnePiece.path.shorten(pa, \"OnePiece.jl\", sh = sh))\n",
    "\n",
    "end"
   ]
  }
 ],
 "metadata": {
  "@webio": {
   "lastCommId": null,
   "lastKernelId": null
  },
  "kernelspec": {
   "display_name": "Julia 1.7.3",
   "language": "julia",
   "name": "julia-1.7"
  },
  "language_info": {
   "file_extension": ".jl",
   "mimetype": "application/julia",
   "name": "julia",
   "version": "1.7.3"
  }
 },
 "nbformat": 4,
 "nbformat_minor": 5
}
