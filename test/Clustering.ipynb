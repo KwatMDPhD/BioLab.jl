{
 "cells": [
  {
   "outputs": [],
   "cell_type": "code",
   "source": [
    "using Distances\n",
    "\n",
    "include(\"_.jl\")"
   ],
   "id": "9b9178dc-fcd5-4fbd-93cf-d2a52018c102",
   "metadata": {},
   "execution_count": null
  },
  {
   "outputs": [],
   "cell_type": "code",
   "source": [
    "ro_x_co_x_nu = [\n",
    "    0 0 0 0.1\n",
    "    1 2 1 2\n",
    "    2 1 2 1\n",
    "    3 3 3 3.1\n",
    "    10 20 10 20\n",
    "    20 10 20 10\n",
    "    30 30 30 30.1\n",
    "]\n",
    "\n",
    ";"
   ],
   "id": "f551e0c7-b22a-4697-a4fc-c8a3f1ecfecb",
   "metadata": {},
   "execution_count": null
  },
  {
   "cell_type": "markdown",
   "source": [
    "## hierarchize"
   ],
   "id": "3d3fedbe-d82e-48bc-98b8-48eb1a9707b6",
   "metadata": {}
  },
  {
   "outputs": [],
   "cell_type": "code",
   "source": [
    "hi = BioLab.Clustering.hierarchize(ro_x_co_x_nu)"
   ],
   "id": "a33aee12-1e8d-4c88-bb9e-9c301125c77e",
   "metadata": {},
   "execution_count": null
  },
  {
   "outputs": [],
   "cell_type": "code",
   "source": [
    "@test hi.order == [1, 3, 2, 4]"
   ],
   "id": "6eba6b6d-dba5-47c4-b2a1-1cd1c65f9279",
   "metadata": {},
   "execution_count": null
  },
  {
   "outputs": [],
   "cell_type": "code",
   "source": [
    "hi = BioLab.Clustering.hierarchize(ro_x_co_x_nu; dm = 1)"
   ],
   "id": "25e15261-bd87-4acb-94e2-cbc4b9dcdbc2",
   "metadata": {},
   "execution_count": null
  },
  {
   "outputs": [],
   "cell_type": "code",
   "source": [
    "@test hi.order == [4, 1, 2, 3, 7, 5, 6]"
   ],
   "id": "d3373b48-51e3-4c17-b3e5-ca1cc250eabb",
   "metadata": {},
   "execution_count": null
  },
  {
   "outputs": [],
   "cell_type": "code",
   "source": [
    "hi = BioLab.Clustering.hierarchize(ro_x_co_x_nu; di = CorrDist(), dm = 1)"
   ],
   "id": "97805fac-2624-4b3a-b896-050140816bf0",
   "metadata": {},
   "execution_count": null
  },
  {
   "outputs": [],
   "cell_type": "code",
   "source": [
    "@test hi.order == [3, 6, 2, 5, 7, 1, 4]"
   ],
   "id": "5a63c7f0-8793-494a-80ed-d426a485cd90",
   "metadata": {},
   "execution_count": null
  },
  {
   "cell_type": "markdown",
   "source": [
    "## cluster"
   ],
   "id": "c6307966-ba63-411a-9878-ea4bf43d5793",
   "metadata": {}
  },
  {
   "outputs": [],
   "cell_type": "code",
   "source": [
    "for (n, re) in (\n",
    "    (1, [1, 1, 1, 1, 1, 1, 1]),\n",
    "    (2, [1, 1, 2, 1, 1, 2, 1]),\n",
    "    (3, [1, 2, 3, 1, 2, 3, 1]),\n",
    "    (4, [1, 2, 3, 1, 2, 3, 4]),\n",
    ")\n",
    "\n",
    "    @test BioLab.Clustering.cluster(\n",
    "        BioLab.Clustering.hierarchize(ro_x_co_x_nu; di = CorrDist(), dm = 1),\n",
    "        n,\n",
    "    ) == re\n",
    "\n",
    "end"
   ],
   "id": "ab8dcd01-1f9d-4838-a960-ce61911d6a95",
   "metadata": {},
   "execution_count": null
  }
 ],
 "nbformat_minor": 5,
 "metadata": {
  "language_info": {
   "file_extension": ".jl",
   "mimetype": "application/julia",
   "name": "julia",
   "version": "1.8.5"
  },
  "kernelspec": {
   "name": "julia-1.8",
   "display_name": "Julia 1.8.5",
   "language": "julia"
  }
 },
 "nbformat": 4
}
