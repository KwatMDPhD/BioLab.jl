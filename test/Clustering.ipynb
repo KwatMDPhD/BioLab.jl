{
 "cells": [
  {
   "outputs": [],
   "cell_type": "code",
   "source": [
    "using Distances\n",
    "\n",
    "include(\"_.jl\")"
   ],
   "id": "9b9178dc-fcd5-4fbd-93cf-d2a52018c102",
   "metadata": {},
   "execution_count": null
  },
  {
   "cell_type": "markdown",
   "source": [
    "## hierarchize"
   ],
   "id": "3d3fedbe-d82e-48bc-98b8-48eb1a9707b6",
   "metadata": {}
  },
  {
   "outputs": [],
   "cell_type": "code",
   "source": [
    "ro_x_co_x_nu = [\n",
    "    0 0 0 0.1\n",
    "    1 2 1 2\n",
    "    2 1 2 1\n",
    "    3 3 3 3.1\n",
    "    10 20 10 20\n",
    "    20 10 20 10\n",
    "    30 30 30 30.1\n",
    "]\n",
    "\n",
    "hi = BioLab.Clustering.hierarchize(ro_x_co_x_nu, 2)\n",
    "\n",
    "display(fieldnames(typeof(hi)))\n",
    "\n",
    "@test hi.order == [1, 3, 2, 4]\n",
    "\n",
    "@test BioLab.Clustering.hierarchize(ro_x_co_x_nu, 1).order == [4, 1, 2, 3, 7, 5, 6]\n",
    "\n",
    "@test BioLab.Clustering.hierarchize(ro_x_co_x_nu, 1; fu = CorrDist()).order ==\n",
    "      [3, 6, 2, 5, 7, 1, 4]\n",
    "\n",
    "ro_x_co_x_nu = rand(79, 81)\n",
    "\n",
    "@test BioLab.Clustering.hierarchize(ro_x_co_x_nu, 1).order ==\n",
    "      BioLab.Clustering.hierarchize(permutedims(ro_x_co_x_nu), 2).order\n",
    "\n",
    "ma = rand(70, 4)\n",
    "\n",
    "for (ma, di) in ((ma, 1), (permutedims(ma), 2))\n",
    "\n",
    "    BioLab.print_header(\"$di $(size(ma)[di])\")\n",
    "\n",
    "    @code_warntype BioLab.Clustering.hierarchize(ma, di)\n",
    "\n",
    "    # 39.292 μs (150 allocations: 144.20 KiB)\n",
    "    # 38.834 μs (149 allocations: 141.89 KiB)\n",
    "    @btime BioLab.Clustering.hierarchize($ma, $di)\n",
    "\n",
    "end"
   ],
   "id": "b65d43f4-271c-4568-9b7f-53b3fec64d46",
   "metadata": {},
   "execution_count": null
  },
  {
   "cell_type": "markdown",
   "source": [
    "## cluster"
   ],
   "id": "c6307966-ba63-411a-9878-ea4bf43d5793",
   "metadata": {}
  },
  {
   "outputs": [],
   "cell_type": "code",
   "source": [
    "ro_x_co_x_nu = [\n",
    "    0 0 0 0.1\n",
    "    1 2 1 2\n",
    "    2 1 2 1\n",
    "    3 3 3 3.1\n",
    "    10 20 10 20\n",
    "    20 10 20 10\n",
    "    30 30 30 30.1\n",
    "]\n",
    "\n",
    "fu = CorrDist()\n",
    "\n",
    "for (n, gr_) in (\n",
    "    (1, [1, 1, 1, 1, 1, 1, 1]),\n",
    "    (2, [1, 1, 2, 1, 1, 2, 1]),\n",
    "    (3, [1, 2, 3, 1, 2, 3, 1]),\n",
    "    (4, [1, 2, 3, 1, 2, 3, 4]),\n",
    ")\n",
    "\n",
    "    @test BioLab.Clustering.cluster(BioLab.Clustering.hierarchize(ro_x_co_x_nu, 1; fu), n) == gr_\n",
    "\n",
    "end\n",
    "\n",
    "ro_x_co_x_nu = rand(79, 81)\n",
    "\n",
    "n = 4\n",
    "\n",
    "@test BioLab.Clustering.cluster(BioLab.Clustering.hierarchize(ro_x_co_x_nu, 1), n) ==\n",
    "      BioLab.Clustering.cluster(BioLab.Clustering.hierarchize(permutedims(ro_x_co_x_nu), 2), n)\n",
    "\n",
    "ma = rand(79, 81)\n",
    "\n",
    "n = 4\n",
    "\n",
    "for (ma, di) in ((ma, 1), (permutedims(ma), 2))\n",
    "\n",
    "    BioLab.print_header(\"$di $(size(ma)[di])\")\n",
    "\n",
    "    hi = BioLab.Clustering.hierarchize(ma, di)\n",
    "\n",
    "    @code_warntype BioLab.Clustering.cluster(hi, n)\n",
    "\n",
    "    # 3.016 μs (81 allocations: 11.30 KiB)\n",
    "    # 3.016 μs (81 allocations: 11.30 KiB)\n",
    "    @btime BioLab.Clustering.cluster($hi, $n)\n",
    "\n",
    "end"
   ],
   "id": "cba767a3-eff8-4ebf-9828-a3ac33d757d4",
   "metadata": {},
   "execution_count": null
  }
 ],
 "nbformat_minor": 5,
 "metadata": {
  "language_info": {
   "file_extension": ".jl",
   "mimetype": "application/julia",
   "name": "julia",
   "version": "1.8.5"
  },
  "kernelspec": {
   "name": "julia-1.8",
   "display_name": "Julia 1.8.5",
   "language": "julia"
  }
 },
 "nbformat": 4
}
