{
 "cells": [
  {
   "outputs": [],
   "cell_type": "code",
   "source": [
    "using Distances\n",
    "\n",
    "include(\"_.jl\")"
   ],
   "id": "9b9178dc-fcd5-4fbd-93cf-d2a52018c102",
   "metadata": {},
   "execution_count": null
  },
  {
   "outputs": [],
   "cell_type": "code",
   "source": [
    "ro_x_co_x_nu = [\n",
    "    0 0 0 0.1\n",
    "    1 2 1 2\n",
    "    2 1 2 1\n",
    "    3 3 3 3.1\n",
    "    10 20 10 20\n",
    "    20 10 20 10\n",
    "    30 30 30 30.1\n",
    "]\n",
    "\n",
    ";"
   ],
   "id": "f551e0c7-b22a-4697-a4fc-c8a3f1ecfecb",
   "metadata": {},
   "execution_count": null
  },
  {
   "cell_type": "markdown",
   "source": [
    "## hierarchize"
   ],
   "id": "3d3fedbe-d82e-48bc-98b8-48eb1a9707b6",
   "metadata": {}
  },
  {
   "outputs": [],
   "cell_type": "code",
   "source": [
    "hi = BioLab.Clustering.hierarchize(ro_x_co_x_nu)\n",
    "\n",
    "println(hi)\n",
    "\n",
    "@test hi.order == [1, 3, 2, 4]\n",
    "\n",
    "hi = BioLab.Clustering.hierarchize(ro_x_co_x_nu; di = 1)\n",
    "\n",
    "println(hi)\n",
    "\n",
    "@test hi.order == [4, 1, 2, 3, 7, 5, 6]\n",
    "\n",
    "hi = BioLab.Clustering.hierarchize(ro_x_co_x_nu; di = CorrDist(), di = 1)\n",
    "\n",
    "println(hi)\n",
    "\n",
    "@test hi.order == [3, 6, 2, 5, 7, 1, 4]\n",
    "\n",
    ";"
   ],
   "id": "e0054771-27ca-48cc-9b23-57637292a4b9",
   "metadata": {},
   "execution_count": null
  },
  {
   "cell_type": "markdown",
   "source": [
    "## cluster"
   ],
   "id": "c6307966-ba63-411a-9878-ea4bf43d5793",
   "metadata": {}
  },
  {
   "outputs": [],
   "cell_type": "code",
   "source": [
    "fu = CorrDist()\n",
    "\n",
    "di = 1\n",
    "\n",
    "@test BioLab.Clustering.cluster(BioLab.Clustering.hierarchize(ro_x_co_x_nu; fu, di), 1) ==\n",
    "      [1, 1, 1, 1, 1, 1, 1]\n",
    "\n",
    "@test BioLab.Clustering.cluster(BioLab.Clustering.hierarchize(ro_x_co_x_nu; fu, di), 2) ==\n",
    "      [1, 1, 2, 1, 1, 2, 1]\n",
    "\n",
    "@test BioLab.Clustering.cluster(BioLab.Clustering.hierarchize(ro_x_co_x_nu; fu, di), 3) ==\n",
    "      [1, 2, 3, 1, 2, 3, 1]\n",
    "\n",
    "@test BioLab.Clustering.cluster(BioLab.Clustering.hierarchize(ro_x_co_x_nu; fu, di), 4) ==\n",
    "      [1, 2, 3, 1, 2, 3, 4]\n",
    "\n",
    ";"
   ],
   "id": "ab8dcd01-1f9d-4838-a960-ce61911d6a95",
   "metadata": {},
   "execution_count": null
  }
 ],
 "nbformat_minor": 5,
 "metadata": {
  "language_info": {
   "file_extension": ".jl",
   "mimetype": "application/julia",
   "name": "julia",
   "version": "1.8.5"
  },
  "kernelspec": {
   "name": "julia-1.8",
   "display_name": "Julia 1.8.5",
   "language": "julia"
  }
 },
 "nbformat": 4
}
