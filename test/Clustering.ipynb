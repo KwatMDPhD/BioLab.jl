{
 "cells": [
  {
   "outputs": [],
   "cell_type": "code",
   "source": [
    "using Distances\n",
    "\n",
    "include(\"_.jl\")"
   ],
   "id": "9b9178dc-fcd5-4fbd-93cf-d2a52018c102",
   "metadata": {},
   "execution_count": null
  },
  {
   "cell_type": "markdown",
   "source": [
    "## hierarchize"
   ],
   "id": "3d3fedbe-d82e-48bc-98b8-48eb1a9707b6",
   "metadata": {}
  },
  {
   "outputs": [],
   "cell_type": "code",
   "source": [
    "ro_x_co_x_nu = [\n",
    "    0 0 0 0.1\n",
    "    1 2 1 2\n",
    "    2 1 2 1\n",
    "    3 3 3 3.1\n",
    "    10 20 10 20\n",
    "    20 10 20 10\n",
    "    30 30 30 30.1\n",
    "]\n",
    "\n",
    ";"
   ],
   "id": "f551e0c7-b22a-4697-a4fc-c8a3f1ecfecb",
   "metadata": {},
   "execution_count": null
  },
  {
   "outputs": [],
   "cell_type": "code",
   "source": [
    "hi = BioLab.Clustering.hierarchize(ro_x_co_x_nu)\n",
    "\n",
    "println(hi)\n",
    "\n",
    "@test hi.order == [1, 3, 2, 4]\n",
    "\n",
    "hi = BioLab.Clustering.hierarchize(ro_x_co_x_nu; di = 1)\n",
    "\n",
    "println(hi)\n",
    "\n",
    "@test hi.order == [4, 1, 2, 3, 7, 5, 6]\n",
    "\n",
    "hi = BioLab.Clustering.hierarchize(ro_x_co_x_nu; di = 1, fu = CorrDist())\n",
    "\n",
    "println(hi)\n",
    "\n",
    "@test hi.order == [3, 6, 2, 5, 7, 1, 4]\n",
    "\n",
    ";"
   ],
   "id": "e0054771-27ca-48cc-9b23-57637292a4b9",
   "metadata": {},
   "execution_count": null
  },
  {
   "outputs": [],
   "cell_type": "code",
   "source": [
    "@test BioLab.Clustering.hierarchize(ro_x_co_x_nu; di = 1).order ==\n",
    "      BioLab.Clustering.hierarchize(transpose(ro_x_co_x_nu); di = 2).order"
   ],
   "id": "22ad159f-6f2d-453a-b5fe-0e2c96ef6ddd",
   "metadata": {},
   "execution_count": null
  },
  {
   "outputs": [],
   "cell_type": "code",
   "source": [
    "@code_warntype BioLab.Clustering.hierarchize(ro_x_co_x_nu; di = 1)\n",
    "\n",
    "# 1.958 μs (38 allocations: 4.59 KiB)\n",
    "@btime BioLab.Clustering.hierarchize($ro_x_co_x_nu; di = $1)"
   ],
   "id": "cf8e8299-b5a7-4df5-a3b7-23296c70b693",
   "metadata": {},
   "execution_count": null
  },
  {
   "outputs": [],
   "cell_type": "code",
   "source": [
    "@code_warntype BioLab.Clustering.hierarchize(transpose(ro_x_co_x_nu); di = 2)\n",
    "\n",
    "# 2.731 μs (42 allocations: 4.47 KiB)\n",
    "@btime BioLab.Clustering.hierarchize($(transpose(ro_x_co_x_nu)); di = $2)"
   ],
   "id": "876b7514-2991-40d8-9f4b-c5e865377d5b",
   "metadata": {},
   "execution_count": null
  },
  {
   "cell_type": "markdown",
   "source": [
    "## cluster"
   ],
   "id": "c6307966-ba63-411a-9878-ea4bf43d5793",
   "metadata": {}
  },
  {
   "outputs": [],
   "cell_type": "code",
   "source": [
    "ro_x_co_x_nu = [\n",
    "    0 0 0 0.1\n",
    "    1 2 1 2\n",
    "    2 1 2 1\n",
    "    3 3 3 3.1\n",
    "    10 20 10 20\n",
    "    20 10 20 10\n",
    "    30 30 30 30.1\n",
    "]\n",
    "\n",
    ";"
   ],
   "id": "805ca8a2-8e2e-4745-a0bd-81f88bdcc62b",
   "metadata": {},
   "execution_count": null
  },
  {
   "outputs": [],
   "cell_type": "code",
   "source": [
    "fu = CorrDist()\n",
    "\n",
    "di = 1\n",
    "\n",
    "@test BioLab.Clustering.cluster(BioLab.Clustering.hierarchize(ro_x_co_x_nu; di, fu), 1) ==\n",
    "      [1, 1, 1, 1, 1, 1, 1]\n",
    "\n",
    "@test BioLab.Clustering.cluster(BioLab.Clustering.hierarchize(ro_x_co_x_nu; di, fu), 2) ==\n",
    "      [1, 1, 2, 1, 1, 2, 1]\n",
    "\n",
    "@test BioLab.Clustering.cluster(BioLab.Clustering.hierarchize(ro_x_co_x_nu; di, fu), 3) ==\n",
    "      [1, 2, 3, 1, 2, 3, 1]\n",
    "\n",
    "@test BioLab.Clustering.cluster(BioLab.Clustering.hierarchize(ro_x_co_x_nu; di, fu), 4) ==\n",
    "      [1, 2, 3, 1, 2, 3, 4]\n",
    "\n",
    ";"
   ],
   "id": "ab8dcd01-1f9d-4838-a960-ce61911d6a95",
   "metadata": {},
   "execution_count": null
  }
 ],
 "nbformat_minor": 5,
 "metadata": {
  "language_info": {
   "file_extension": ".jl",
   "mimetype": "application/julia",
   "name": "julia",
   "version": "1.8.5"
  },
  "kernelspec": {
   "name": "julia-1.8",
   "display_name": "Julia 1.8.5",
   "language": "julia"
  }
 },
 "nbformat": 4
}
