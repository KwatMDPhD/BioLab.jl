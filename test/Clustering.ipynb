{
 "cells": [
  {
   "outputs": [],
   "cell_type": "code",
   "source": [
    "using Distances\n",
    "\n",
    "using OnePiece"
   ],
   "id": "9b9178dc-fcd5-4fbd-93cf-d2a52018c102",
   "metadata": {},
   "execution_count": null
  },
  {
   "outputs": [],
   "cell_type": "code",
   "source": [
    "ro_x_co_x_nu = [\n",
    "    0 0 0 0.1\n",
    "    1 2 1 2\n",
    "    2 1 2 1\n",
    "    3 3 3 3.1\n",
    "    10 20 10 20\n",
    "    20 10 20 10\n",
    "    30 30 30 30.1\n",
    "]\n",
    "\n",
    ";"
   ],
   "id": "f551e0c7-b22a-4697-a4fc-c8a3f1ecfecb",
   "metadata": {},
   "execution_count": null
  },
  {
   "cell_type": "markdown",
   "source": [
    "## hierarchize"
   ],
   "id": "3d3fedbe-d82e-48bc-98b8-48eb1a9707b6",
   "metadata": {}
  },
  {
   "outputs": [],
   "cell_type": "code",
   "source": [
    "hi = OnePiece.Clustering.hierarchize(ro_x_co_x_nu)"
   ],
   "id": "fa5592b8-106d-4ff5-863a-14c22aadd7e8",
   "metadata": {},
   "execution_count": null
  },
  {
   "outputs": [],
   "cell_type": "code",
   "source": [
    "hi.order"
   ],
   "id": "54bc68b6-72cd-4d44-90e0-a51c04fde25a",
   "metadata": {},
   "execution_count": null
  },
  {
   "outputs": [],
   "cell_type": "code",
   "source": [
    "OnePiece.Clustering.hierarchize(ro_x_co_x_nu, CorrDist())"
   ],
   "id": "8341d849-62fe-4e8f-be03-e9a6508020f5",
   "metadata": {},
   "execution_count": null
  },
  {
   "cell_type": "markdown",
   "source": [
    "## cluster"
   ],
   "id": "c6307966-ba63-411a-9878-ea4bf43d5793",
   "metadata": {}
  },
  {
   "outputs": [],
   "cell_type": "code",
   "source": [
    "for n in (1, 2, 3, 4)\n",
    "\n",
    "    println(\n",
    "        OnePiece.Clustering.cluster(OnePiece.Clustering.hierarchize(ro_x_co_x_nu, CorrDist()), n),\n",
    "    )\n",
    "\n",
    "end"
   ],
   "id": "ab8dcd01-1f9d-4838-a960-ce61911d6a95",
   "metadata": {},
   "execution_count": null
  }
 ],
 "nbformat_minor": 5,
 "metadata": {
  "language_info": {
   "file_extension": ".jl",
   "mimetype": "application/julia",
   "name": "julia",
   "version": "1.8.2"
  },
  "kernelspec": {
   "name": "julia-1.8",
   "display_name": "Julia 1.8.2",
   "language": "julia"
  }
 },
 "nbformat": 4
}
