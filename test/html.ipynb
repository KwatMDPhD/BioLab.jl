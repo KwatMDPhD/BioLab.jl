{
 "cells": [
  {
   "cell_type": "code",
   "execution_count": null,
   "id": "baf12f00",
   "metadata": {
    "execution": {
     "iopub.execute_input": "2022-08-19T09:38:34.397000Z",
     "iopub.status.busy": "2022-08-19T09:38:34.056000Z",
     "iopub.status.idle": "2022-08-19T09:38:39.082000Z",
     "shell.execute_reply": "2022-08-19T09:38:39.034000Z"
    }
   },
   "outputs": [],
   "source": [
    "using OnePiece"
   ]
  },
  {
   "cell_type": "code",
   "execution_count": null,
   "id": "fa4edf0c",
   "metadata": {
    "execution": {
     "iopub.execute_input": "2022-08-19T09:38:39.719000Z",
     "iopub.status.busy": "2022-08-19T09:38:39.100000Z",
     "iopub.status.idle": "2022-08-19T09:38:40.327000Z",
     "shell.execute_reply": "2022-08-19T09:38:40.326000Z"
    }
   },
   "outputs": [],
   "source": [
    "te = OnePiece.path.make_temporary(\"OnePiece.test.html\")"
   ]
  },
  {
   "cell_type": "markdown",
   "id": "07cba447",
   "metadata": {},
   "source": [
    "## make"
   ]
  },
  {
   "cell_type": "code",
   "execution_count": null,
   "id": "f0b8b2cf",
   "metadata": {
    "execution": {
     "iopub.execute_input": "2022-08-19T09:38:40.330000Z",
     "iopub.status.busy": "2022-08-19T09:38:40.330000Z",
     "iopub.status.idle": "2022-08-19T09:38:40.801000Z",
     "shell.execute_reply": "2022-08-19T09:38:40.801000Z"
    }
   },
   "outputs": [],
   "source": [
    "OnePiece.html.make(\"DIV_ID\", (\"SOURCE1\", \"SOURCE2\"), \"SCRIPT\", joinpath(te, \"name.html\"))"
   ]
  }
 ],
 "metadata": {
  "kernelspec": {
   "display_name": "Julia 1.7.3",
   "language": "julia",
   "name": "julia-1.7"
  },
  "language_info": {
   "file_extension": ".jl",
   "mimetype": "application/julia",
   "name": "julia",
   "version": "1.7.3"
  }
 },
 "nbformat": 4,
 "nbformat_minor": 5
}
