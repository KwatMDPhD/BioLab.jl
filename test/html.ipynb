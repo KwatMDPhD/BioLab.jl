{
 "cells": [
  {
   "cell_type": "code",
   "execution_count": null,
   "id": "baf12f00",
   "metadata": {
    "execution": {
     "iopub.execute_input": "2022-08-17T20:04:51.079000Z",
     "iopub.status.busy": "2022-08-17T20:04:50.742000Z",
     "iopub.status.idle": "2022-08-17T20:04:55.597000Z",
     "shell.execute_reply": "2022-08-17T20:04:55.553000Z"
    }
   },
   "outputs": [],
   "source": [
    "using OnePiece"
   ]
  },
  {
   "cell_type": "code",
   "execution_count": null,
   "id": "fa4edf0c",
   "metadata": {
    "execution": {
     "iopub.execute_input": "2022-08-17T20:04:56.198000Z",
     "iopub.status.busy": "2022-08-17T20:04:55.613000Z",
     "iopub.status.idle": "2022-08-17T20:04:56.799000Z",
     "shell.execute_reply": "2022-08-17T20:04:56.799000Z"
    }
   },
   "outputs": [],
   "source": [
    "te = OnePiece.path.make_temporary(\"OnePiece.test.html\")"
   ]
  },
  {
   "cell_type": "markdown",
   "id": "07cba447",
   "metadata": {},
   "source": [
    "## make"
   ]
  },
  {
   "cell_type": "code",
   "execution_count": null,
   "id": "f0b8b2cf",
   "metadata": {
    "execution": {
     "iopub.execute_input": "2022-08-17T20:04:56.803000Z",
     "iopub.status.busy": "2022-08-17T20:04:56.803000Z",
     "iopub.status.idle": "2022-08-17T20:04:57.273000Z",
     "shell.execute_reply": "2022-08-17T20:04:57.273000Z"
    }
   },
   "outputs": [],
   "source": [
    "OnePiece.html.make(\"DIV_ID\", (\"SOURCE1\", \"SOURCE2\"), \"SCRIPT\", joinpath(te, \"name.html\"))"
   ]
  }
 ],
 "metadata": {
  "kernelspec": {
   "display_name": "Julia 1.7.3",
   "language": "julia",
   "name": "julia-1.7"
  },
  "language_info": {
   "file_extension": ".jl",
   "mimetype": "application/julia",
   "name": "julia",
   "version": "1.7.3"
  }
 },
 "nbformat": 4,
 "nbformat_minor": 5
}
