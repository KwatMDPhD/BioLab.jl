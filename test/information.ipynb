{
 "cells": [
  {
   "cell_type": "code",
   "execution_count": 1,
   "id": "baf12f00",
   "metadata": {
    "execution": {
     "iopub.execute_input": "2022-08-10T21:38:10.769000Z",
     "iopub.status.busy": "2022-08-10T21:38:10.442000Z",
     "iopub.status.idle": "2022-08-10T21:38:15.768000Z",
     "shell.execute_reply": "2022-08-10T21:38:15.721000Z"
    }
   },
   "outputs": [],
   "source": [
    "using OnePiece\n",
    "\n",
    "using KernelDensity"
   ]
  },
  {
   "cell_type": "markdown",
   "id": "e8e5cc82",
   "metadata": {},
   "source": [
    "## get_entropy"
   ]
  },
  {
   "cell_type": "code",
   "execution_count": 2,
   "id": "d4ec66a6",
   "metadata": {
    "execution": {
     "iopub.execute_input": "2022-08-10T21:38:16.048000Z",
     "iopub.status.busy": "2022-08-10T21:38:15.772000Z",
     "iopub.status.idle": "2022-08-10T21:38:17.353000Z",
     "shell.execute_reply": "2022-08-10T21:38:17.352000Z"
    }
   },
   "outputs": [
    {
     "data": {
      "text/plain": [
       "10-element Vector{Float64}:\n",
       " 0.0\n",
       " 0.0\n",
       " 0.0\n",
       " 0.0\n",
       " 0.0\n",
       " 0.0\n",
       " 0.0\n",
       " 0.0\n",
       " 0.0\n",
       " 0.0"
      ]
     },
     "execution_count": 2,
     "metadata": {},
     "output_type": "execute_result"
    }
   ],
   "source": [
    "OnePiece.information.get_entropy(zeros(10))"
   ]
  },
  {
   "cell_type": "code",
   "execution_count": 3,
   "id": "0ecc165a",
   "metadata": {
    "execution": {
     "iopub.execute_input": "2022-08-10T21:38:17.356000Z",
     "iopub.status.busy": "2022-08-10T21:38:17.356000Z",
     "iopub.status.idle": "2022-08-10T21:38:17.364000Z",
     "shell.execute_reply": "2022-08-10T21:38:17.363000Z"
    }
   },
   "outputs": [
    {
     "data": {
      "text/plain": [
       "10-element Vector{Float64}:\n",
       " 1.0\n",
       " 1.0\n",
       " 1.0\n",
       " 1.0\n",
       " 1.0\n",
       " 1.0\n",
       " 1.0\n",
       " 1.0\n",
       " 1.0\n",
       " 1.0"
      ]
     },
     "execution_count": 3,
     "metadata": {},
     "output_type": "execute_result"
    }
   ],
   "source": [
    "OnePiece.information.get_entropy(ones(10))"
   ]
  },
  {
   "cell_type": "markdown",
   "id": "ae9c43cc",
   "metadata": {},
   "source": [
    "## get_signal_to_noise_ratio"
   ]
  },
  {
   "cell_type": "code",
   "execution_count": 4,
   "id": "6d6dd82c",
   "metadata": {
    "execution": {
     "iopub.execute_input": "2022-08-10T21:38:17.366000Z",
     "iopub.status.busy": "2022-08-10T21:38:17.366000Z",
     "iopub.status.idle": "2022-08-10T21:38:17.675000Z",
     "shell.execute_reply": "2022-08-10T21:38:17.674000Z"
    }
   },
   "outputs": [
    {
     "name": "stdout",
     "output_type": "stream",
     "text": [
      "-1.6363636363636365\n",
      "0.0\n",
      "4.990009990009989\n",
      "-4.990009990009989\n",
      "-4.999000099990002\n"
     ]
    }
   ],
   "source": [
    "for (te1, te2) in [\n",
    "    (collect(1:3), collect(10:10:30)),\n",
    "    (zeros(3), zeros(3)),\n",
    "    (ones(3), [0.001, 0.001, 0.001]),\n",
    "    ([0.001, 0.001, 0.001], ones(3)),\n",
    "    ([0.001, 0.001, 0.001], [10, 10, 10]),\n",
    "]\n",
    "\n",
    "    println(OnePiece.information.get_signal_to_noise_ratio(te1, te2))\n",
    "\n",
    "end"
   ]
  },
  {
   "cell_type": "markdown",
   "id": "d16246f4",
   "metadata": {},
   "source": [
    "## get_*"
   ]
  },
  {
   "cell_type": "code",
   "execution_count": 5,
   "id": "9a31939f",
   "metadata": {
    "execution": {
     "iopub.execute_input": "2022-08-10T21:38:17.678000Z",
     "iopub.status.busy": "2022-08-10T21:38:17.678000Z",
     "iopub.status.idle": "2022-08-10T21:38:17.855000Z",
     "shell.execute_reply": "2022-08-10T21:38:17.854000Z"
    }
   },
   "outputs": [
    {
     "data": {
      "text/plain": [
       "call_all (generic function with 1 method)"
      ]
     },
     "execution_count": 5,
     "metadata": {},
     "output_type": "execute_result"
    }
   ],
   "source": [
    "function call_all(te1, te2, te)\n",
    "\n",
    "    vcat(\n",
    "        [\n",
    "            fu(te1, te2) for fu in [\n",
    "                OnePiece.information.get_kolmogorov_smirnov_statistic,\n",
    "                OnePiece.information.get_kullback_leibler_divergence,\n",
    "                OnePiece.information.get_thermodynamic_breadth,\n",
    "                OnePiece.information.get_thermodynamic_depth,\n",
    "            ]\n",
    "        ],\n",
    "        [\n",
    "            fu(te1, te2, te) for fu in [\n",
    "                OnePiece.information.get_symmetric_kullback_leibler_divergence,\n",
    "                OnePiece.information.get_antisymmetric_kullback_leibler_divergence,\n",
    "            ]\n",
    "        ],\n",
    "    )\n",
    "\n",
    "end"
   ]
  },
  {
   "cell_type": "code",
   "execution_count": 6,
   "id": "cc6d285f",
   "metadata": {
    "execution": {
     "iopub.execute_input": "2022-08-10T21:38:17.860000Z",
     "iopub.status.busy": "2022-08-10T21:38:17.860000Z",
     "iopub.status.idle": "2022-08-10T21:38:18.332000Z",
     "shell.execute_reply": "2022-08-10T21:38:18.332000Z"
    }
   },
   "outputs": [
    {
     "data": {
      "text/plain": [
       "6-element Vector{String}:\n",
       " \"kolmogorov_smirnov_statistic\"\n",
       " \"kullback_leibler_divergence\"\n",
       " \"thermodynamic_breadth\"\n",
       " \"thermodynamic_depth\"\n",
       " \"symmetric_kullback_leibler_divergence\"\n",
       " \"antisymmetric_kullback_leibler_divergence\""
      ]
     },
     "execution_count": 6,
     "metadata": {},
     "output_type": "execute_result"
    }
   ],
   "source": [
    "name_ = [\n",
    "    \"kolmogorov_smirnov_statistic\",\n",
    "    \"kullback_leibler_divergence\",\n",
    "    \"thermodynamic_breadth\",\n",
    "    \"thermodynamic_depth\",\n",
    "    \"symmetric_kullback_leibler_divergence\",\n",
    "    \"antisymmetric_kullback_leibler_divergence\",\n",
    "]"
   ]
  },
  {
   "cell_type": "code",
   "execution_count": 7,
   "id": "ea87c8a5",
   "metadata": {
    "execution": {
     "iopub.execute_input": "2022-08-10T21:38:18.335000Z",
     "iopub.status.busy": "2022-08-10T21:38:18.335000Z",
     "iopub.status.idle": "2022-08-10T21:38:21.014000Z",
     "shell.execute_reply": "2022-08-10T21:38:21.013000Z"
    }
   },
   "outputs": [
    {
     "name": "stdout",
     "output_type": "stream",
     "text": [
      "Made /var/folders/mg/30npdf0s1z36txb2qvgylrzh0000gn/T/OnePiece/2022-8-10_21.38.19.834.html.\n",
      "Made /var/folders/mg/30npdf0s1z36txb2qvgylrzh0000gn/T/OnePiece/2022-8-10_21.38.20.97.html.\n",
      "Made /var/folders/mg/30npdf0s1z36txb2qvgylrzh0000gn/T/OnePiece/2022-8-10_21.38.20.981.html.\n",
      "Made /var/folders/mg/30npdf0s1z36txb2qvgylrzh0000gn/T/OnePiece/2022-8-10_21.38.20.994.html.\n"
     ]
    }
   ],
   "source": [
    "for (te1, te2) in [([1, 1, 1], [1, 1, 1]), ([1, 2, 3], [10, 20, 30])]\n",
    "\n",
    "    te = 0.2 * te1 + 0.8 * te2\n",
    "\n",
    "    OnePiece.figure.plot_scatter([te1, te2])\n",
    "\n",
    "    OnePiece.figure.plot_scatter(call_all(te1, te2, te); name_ = name_)\n",
    "\n",
    "end"
   ]
  },
  {
   "cell_type": "code",
   "execution_count": 8,
   "id": "dced1611",
   "metadata": {
    "execution": {
     "iopub.execute_input": "2022-08-10T21:38:21.017000Z",
     "iopub.status.busy": "2022-08-10T21:38:21.016000Z",
     "iopub.status.idle": "2022-08-10T21:38:21.410000Z",
     "shell.execute_reply": "2022-08-10T21:38:21.410000Z"
    }
   },
   "outputs": [
    {
     "data": {
      "text/plain": [
       "100-element Vector{Float64}:\n",
       " 2.850132405437731\n",
       " 2.1207637343982504\n",
       " 3.744172136483672\n",
       " 1.2274239777844573\n",
       " 2.888583717272323\n",
       " 2.3743594304883016\n",
       " 3.4792746377657053\n",
       " 4.174475746205022\n",
       " 2.5323886494673222\n",
       " 2.158892133202827\n",
       " 1.8372491891046971\n",
       " 2.7337504644560506\n",
       " 2.4010263552659805\n",
       " ⋮\n",
       " 1.676698201296944\n",
       " 1.940171338382153\n",
       " 2.156903545655193\n",
       " 2.1833599979127754\n",
       " 2.9375404598235533\n",
       " 2.6345271769768455\n",
       " 1.4948433525648952\n",
       " 2.6576367733547874\n",
       " 2.9991131861087506\n",
       " 1.006497996650708\n",
       " 3.13591168280567\n",
       " 2.132074360624336"
      ]
     },
     "execution_count": 8,
     "metadata": {},
     "output_type": "execute_result"
    }
   ],
   "source": [
    "n_po = 100\n",
    "\n",
    "te1 = OnePiece.vector_number.shift_minimum(randn(n_po), \"0<\")\n",
    "\n",
    "ve1s = te1 .+ 1\n",
    "\n",
    "te2 = OnePiece.vector_number.shift_minimum(randn(n_po), \"0<\")"
   ]
  },
  {
   "cell_type": "code",
   "execution_count": 9,
   "id": "d36500da",
   "metadata": {
    "execution": {
     "iopub.execute_input": "2022-08-10T21:38:21.414000Z",
     "iopub.status.busy": "2022-08-10T21:38:21.414000Z",
     "iopub.status.idle": "2022-08-10T21:38:23.625000Z",
     "shell.execute_reply": "2022-08-10T21:38:23.624000Z"
    }
   },
   "outputs": [
    {
     "name": "stdout",
     "output_type": "stream",
     "text": [
      "Made /var/folders/mg/30npdf0s1z36txb2qvgylrzh0000gn/T/OnePiece/2022-8-10_21.38.22.931.html.\n",
      "Made /var/folders/mg/30npdf0s1z36txb2qvgylrzh0000gn/T/OnePiece/2022-8-10_21.38.23.492.html.\n",
      "Made /var/folders/mg/30npdf0s1z36txb2qvgylrzh0000gn/T/OnePiece/2022-8-10_21.38.23.518.html.\n",
      "Made /var/folders/mg/30npdf0s1z36txb2qvgylrzh0000gn/T/OnePiece/2022-8-10_21.38.23.565.html.\n",
      "Made /var/folders/mg/30npdf0s1z36txb2qvgylrzh0000gn/T/OnePiece/2022-8-10_21.38.23.58.html.\n",
      "Made /var/folders/mg/30npdf0s1z36txb2qvgylrzh0000gn/T/OnePiece/2022-8-10_21.38.23.598.html.\n"
     ]
    }
   ],
   "source": [
    "for (te1, te2) in [(te1, te1), (te1, ve1s), (te1, te2)]\n",
    "\n",
    "    un1 = kde(te1)\n",
    "\n",
    "    un2 = kde(te2)\n",
    "\n",
    "    de1 = un1.density\n",
    "\n",
    "    de2 = un2.density\n",
    "\n",
    "    de3 = 0.2 * de1 + 0.8 * de2\n",
    "\n",
    "    OnePiece.figure.plot_scatter(\n",
    "        [de1, de2],\n",
    "        [collect(un1.x), collect(un2.x)];\n",
    "        layout = Dict(\"yaxis\" => Dict(\"title\" => \"Density\"), \"xaxis\" => Dict(\"title\" => \"Grid\")),\n",
    "    )\n",
    "\n",
    "    OnePiece.figure.plot_scatter(call_all(de1, de2, de3); name_ = name_)\n",
    "\n",
    "end"
   ]
  },
  {
   "cell_type": "markdown",
   "id": "17a78b7c",
   "metadata": {},
   "source": [
    "## get_mutual_information"
   ]
  },
  {
   "cell_type": "markdown",
   "id": "2d698da9",
   "metadata": {},
   "source": [
    "## get_information_coefficient"
   ]
  },
  {
   "cell_type": "code",
   "execution_count": 10,
   "id": "1231a93c",
   "metadata": {
    "execution": {
     "iopub.execute_input": "2022-08-10T21:38:23.629000Z",
     "iopub.status.busy": "2022-08-10T21:38:23.628000Z",
     "iopub.status.idle": "2022-08-10T21:38:25.258000Z",
     "shell.execute_reply": "2022-08-10T21:38:25.258000Z"
    }
   },
   "outputs": [
    {
     "name": "stdout",
     "output_type": "stream",
     "text": [
      "Made /var/folders/mg/30npdf0s1z36txb2qvgylrzh0000gn/T/OnePiece/2022-8-10_21.38.24.853.html.\n"
     ]
    },
    {
     "data": {
      "text/plain": [
       "\"/var/folders/mg/30npdf0s1z36txb2qvgylrzh0000gn/T/OnePiece/2022-8-10_21.38.24.853.html\""
      ]
     },
     "execution_count": 10,
     "metadata": {},
     "output_type": "execute_result"
    }
   ],
   "source": [
    "te1 = collect(0:10)\n",
    "\n",
    "te2 = collect(0:10:100)\n",
    "\n",
    "bi = kde((te1, te2), npoints = (8, 8))\n",
    "\n",
    "y = collect(bi.y)\n",
    "\n",
    "x = collect(bi.x)\n",
    "\n",
    "z = bi.density\n",
    "\n",
    "OnePiece.figure.plot_heat_map(z, y, x)"
   ]
  }
 ],
 "metadata": {
  "@webio": {
   "lastCommId": null,
   "lastKernelId": null
  },
  "kernelspec": {
   "display_name": "Julia 1.7.3",
   "language": "julia",
   "name": "julia-1.7"
  },
  "language_info": {
   "file_extension": ".jl",
   "mimetype": "application/julia",
   "name": "julia",
   "version": "1.7.3"
  }
 },
 "nbformat": 4,
 "nbformat_minor": 5
}
