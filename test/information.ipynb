{
 "cells": [
  {
   "cell_type": "code",
   "execution_count": null,
   "id": "ad4fb98a",
   "metadata": {},
   "outputs": [],
   "source": [
    "TE = joinpath(tempdir(), \"InformationMetric.test\", \"\")\n",
    "\n",
    "if isdir(TE)\n",
    "\n",
    "    rm(TE; recursive = true)\n",
    "\n",
    "end\n",
    "\n",
    "mkdir(TE)\n",
    "\n",
    "println(\"Made \", TE)"
   ]
  },
  {
   "cell_type": "code",
   "execution_count": null,
   "id": "34e4701e",
   "metadata": {},
   "outputs": [],
   "source": [
    "using Revise\n",
    "using BenchmarkTools"
   ]
  },
  {
   "cell_type": "markdown",
   "id": "349c228e",
   "metadata": {},
   "source": [
    "---"
   ]
  },
  {
   "cell_type": "code",
   "execution_count": null,
   "id": "e00891d2",
   "metadata": {
    "execution": {
     "iopub.execute_input": "2021-10-14T18:32:55.761153Z",
     "iopub.status.busy": "2021-10-14T18:32:55.216597Z",
     "iopub.status.idle": "2021-10-14T18:33:11.305420Z",
     "shell.execute_reply": "2021-10-14T18:33:11.304613Z"
    }
   },
   "outputs": [],
   "source": [
    "using KernelDensity\n",
    "using PlotlyJS\n",
    "\n",
    "using TensorExtension\n",
    "using FinalFigure\n",
    "\n",
    "using InformationMetric"
   ]
  },
  {
   "cell_type": "markdown",
   "id": "d8129c93",
   "metadata": {},
   "source": [
    "## get_entropy"
   ]
  },
  {
   "cell_type": "code",
   "execution_count": null,
   "id": "2ed7bdd2",
   "metadata": {
    "execution": {
     "iopub.execute_input": "2021-10-14T18:33:13.744713Z",
     "iopub.status.busy": "2021-10-14T18:33:11.306734Z",
     "iopub.status.idle": "2021-10-14T18:33:15.668094Z",
     "shell.execute_reply": "2021-10-14T18:33:15.668441Z"
    }
   },
   "outputs": [],
   "source": [
    "InformationMetric.get_entropy"
   ]
  },
  {
   "cell_type": "markdown",
   "id": "7b4bdb29",
   "metadata": {},
   "source": [
    "## get_signal_to_noise_ratio"
   ]
  },
  {
   "cell_type": "code",
   "execution_count": null,
   "id": "0d0a78e1",
   "metadata": {},
   "outputs": [],
   "source": [
    "ve1 = TensorExtension.convert(1:3)\n",
    "\n",
    "ve2 = TensorExtension.convert(10:10:30)\n",
    "\n",
    "InformationMetric.get_signal_to_noise_ratio(ve1, ve2)"
   ]
  },
  {
   "cell_type": "markdown",
   "id": "0f0e8de5",
   "metadata": {},
   "source": [
    "## get_kolmogorov_smirnov_statistic"
   ]
  },
  {
   "cell_type": "markdown",
   "id": "832c520e",
   "metadata": {},
   "source": [
    "## get_kullback_leibler_divergence"
   ]
  },
  {
   "cell_type": "markdown",
   "id": "1ce1afa5",
   "metadata": {},
   "source": [
    "## get_relative_information_sum"
   ]
  },
  {
   "cell_type": "markdown",
   "id": "d523618a",
   "metadata": {},
   "source": [
    "## get_relative_information_difference"
   ]
  },
  {
   "cell_type": "markdown",
   "id": "5ac4c6b8",
   "metadata": {},
   "source": [
    "## get_symmetric_information_sum"
   ]
  },
  {
   "cell_type": "markdown",
   "id": "b292cc2a",
   "metadata": {},
   "source": [
    "## get_symmetric_information_difference"
   ]
  },
  {
   "cell_type": "code",
   "execution_count": null,
   "id": "2cb26e91",
   "metadata": {
    "execution": {
     "iopub.execute_input": "2021-10-14T18:33:15.670723Z",
     "iopub.status.busy": "2021-10-14T18:33:15.670214Z",
     "iopub.status.idle": "2021-10-14T18:33:15.715565Z",
     "shell.execute_reply": "2021-10-14T18:33:15.715022Z"
    }
   },
   "outputs": [],
   "source": [
    "function fu(ve1, ve2, ve3)\n",
    "\n",
    "    return vcat(\n",
    "        [\n",
    "            fu(ve1, ve2) for fu in [\n",
    "                InformationMetric.get_kolmogorov_smirnov_statistic,\n",
    "                InformationMetric.get_kullback_leibler_divergence,\n",
    "                InformationMetric.get_relative_information_sum,\n",
    "                InformationMetric.get_relative_information_difference,\n",
    "                InformationMetric.get_symmetric_information_sum,\n",
    "                InformationMetric.get_symmetric_information_difference,\n",
    "            ]\n",
    "        ],\n",
    "        [\n",
    "            fu(ve1, ve2, ve3) for fu in [\n",
    "                InformationMetric.get_relative_information_sum,\n",
    "                InformationMetric.get_relative_information_difference,\n",
    "            ]\n",
    "        ],\n",
    "    )\n",
    "\n",
    "end\n",
    "\n",
    ";"
   ]
  },
  {
   "cell_type": "code",
   "execution_count": null,
   "id": "29c066e9",
   "metadata": {
    "execution": {
     "iopub.execute_input": "2021-10-14T18:33:15.717493Z",
     "iopub.status.busy": "2021-10-14T18:33:15.716905Z",
     "iopub.status.idle": "2021-10-14T18:33:17.104481Z",
     "shell.execute_reply": "2021-10-14T18:33:17.104099Z"
    }
   },
   "outputs": [],
   "source": [
    "name_ = [\n",
    "    \"kolmogorov_smirnov_statistic\",\n",
    "    \"kullback_leibler_divergence\",\n",
    "    \"relative_information_sum\",\n",
    "    \"relative_information_difference\",\n",
    "    \"symmetric_information_sum\",\n",
    "    \"symmetric_information_difference\",\n",
    "    \"wrelative_information_sum\",\n",
    "    \"wrelative_information_difference\",\n",
    "]"
   ]
  },
  {
   "cell_type": "code",
   "execution_count": null,
   "id": "7ccdd712",
   "metadata": {
    "execution": {
     "iopub.execute_input": "2021-10-14T18:33:17.106112Z",
     "iopub.status.busy": "2021-10-14T18:33:17.105620Z",
     "iopub.status.idle": "2021-10-14T18:33:27.287587Z",
     "shell.execute_reply": "2021-10-14T18:33:27.287136Z"
    },
    "scrolled": false
   },
   "outputs": [],
   "source": [
    "for (ve1, ve2) in [[[1, 1, 1], [1, 1, 1]], [[1, 2, 3], [10, 20, 30]]]\n",
    "\n",
    "    ve1 = TensorExtension.convert(ve1)\n",
    "\n",
    "    ve2 = TensorExtension.convert(ve2)\n",
    "\n",
    "    ve3 = 0.2 * ve1 + 0.8 * ve2\n",
    "\n",
    "    FinalFigure.plot_x_y([ve1, ve2])\n",
    "\n",
    "    FinalFigure.plot_x_y(fu(ve1, ve2, ve3); name_ = name_)\n",
    "\n",
    "end"
   ]
  },
  {
   "cell_type": "code",
   "execution_count": null,
   "id": "88cbc90a",
   "metadata": {
    "execution": {
     "iopub.execute_input": "2021-10-14T18:33:27.289408Z",
     "iopub.status.busy": "2021-10-14T18:33:27.288863Z",
     "iopub.status.idle": "2021-10-14T18:33:27.543666Z",
     "shell.execute_reply": "2021-10-14T18:33:27.543209Z"
    }
   },
   "outputs": [],
   "source": [
    "n_po = 100\n",
    "\n",
    "ve1 = TensorExtension.shift_minimum(randn(n_po), \"0<\")\n",
    "\n",
    "ve1s = ve1 .+ 1.0\n",
    "\n",
    "ve2 = TensorExtension.shift_minimum(randn(n_po), \"0<\")\n",
    "\n",
    ";"
   ]
  },
  {
   "cell_type": "code",
   "execution_count": null,
   "id": "e020a0e1",
   "metadata": {
    "execution": {
     "iopub.execute_input": "2021-10-14T18:33:27.545462Z",
     "iopub.status.busy": "2021-10-14T18:33:27.544904Z",
     "iopub.status.idle": "2021-10-14T18:33:29.240028Z",
     "shell.execute_reply": "2021-10-14T18:33:29.239624Z"
    },
    "scrolled": false
   },
   "outputs": [],
   "source": [
    "for (ve1, ve2) in [[ve1, ve1], [ve1, ve1s], [ve1, ve2]]\n",
    "\n",
    "    un1 = kde(ve1)\n",
    "\n",
    "    un2 = kde(ve2)\n",
    "\n",
    "    de1 = un1.density\n",
    "\n",
    "    de2 = un2.density\n",
    "\n",
    "    de3 = 0.2 * de1 + 0.8 * de2\n",
    "\n",
    "    FinalFigure.plot_x_y(\n",
    "        [de1, de2],\n",
    "        [collect(un1.x), collect(un2.x)];\n",
    "        la = Layout(yaxis_title = \"Density\", xaxis_title = \"Grid\"),\n",
    "    )\n",
    "\n",
    "    FinalFigure.plot_x_y(fu(de1, de2, de3); name_ = name_)\n",
    "\n",
    "end"
   ]
  },
  {
   "cell_type": "markdown",
   "id": "c70b0baa",
   "metadata": {},
   "source": [
    "## get_mutual_information"
   ]
  },
  {
   "cell_type": "markdown",
   "id": "8461b7b1",
   "metadata": {},
   "source": [
    "## get_information_coefficient"
   ]
  },
  {
   "cell_type": "code",
   "execution_count": null,
   "id": "c5166563",
   "metadata": {
    "execution": {
     "iopub.execute_input": "2021-10-14T18:33:29.241957Z",
     "iopub.status.busy": "2021-10-14T18:33:29.241468Z",
     "iopub.status.idle": "2021-10-14T18:33:29.288760Z",
     "shell.execute_reply": "2021-10-14T18:33:29.288249Z"
    }
   },
   "outputs": [],
   "source": [
    "ve1 = TensorExtension.convert(0:10)\n",
    "\n",
    "ve2 = TensorExtension.convert(0:10:100)\n",
    "\n",
    ";"
   ]
  },
  {
   "cell_type": "code",
   "execution_count": null,
   "id": "5925b5e8",
   "metadata": {
    "execution": {
     "iopub.execute_input": "2021-10-14T18:33:29.290662Z",
     "iopub.status.busy": "2021-10-14T18:33:29.290042Z",
     "iopub.status.idle": "2021-10-14T18:33:30.223763Z",
     "shell.execute_reply": "2021-10-14T18:33:30.223381Z"
    }
   },
   "outputs": [],
   "source": [
    "bi = kde((ve1, ve2); npoints = (8, 8))"
   ]
  },
  {
   "cell_type": "code",
   "execution_count": null,
   "id": "417bbe4f",
   "metadata": {
    "execution": {
     "iopub.execute_input": "2021-10-14T18:33:30.225682Z",
     "iopub.status.busy": "2021-10-14T18:33:30.225120Z",
     "iopub.status.idle": "2021-10-14T18:33:30.934666Z",
     "shell.execute_reply": "2021-10-14T18:33:30.934226Z"
    }
   },
   "outputs": [],
   "source": [
    "y = collect(bi.y)"
   ]
  },
  {
   "cell_type": "code",
   "execution_count": null,
   "id": "03012e4f",
   "metadata": {
    "execution": {
     "iopub.execute_input": "2021-10-14T18:33:30.936413Z",
     "iopub.status.busy": "2021-10-14T18:33:30.935882Z",
     "iopub.status.idle": "2021-10-14T18:33:30.957486Z",
     "shell.execute_reply": "2021-10-14T18:33:30.956857Z"
    }
   },
   "outputs": [],
   "source": [
    "x = collect(bi.x)"
   ]
  },
  {
   "cell_type": "code",
   "execution_count": null,
   "id": "0c396852",
   "metadata": {
    "execution": {
     "iopub.execute_input": "2021-10-14T18:33:30.959813Z",
     "iopub.status.busy": "2021-10-14T18:33:30.959177Z",
     "iopub.status.idle": "2021-10-14T18:33:31.623834Z",
     "shell.execute_reply": "2021-10-14T18:33:31.622697Z"
    }
   },
   "outputs": [],
   "source": [
    "z = bi.density"
   ]
  },
  {
   "cell_type": "markdown",
   "id": "ccee6970",
   "metadata": {},
   "source": [
    "---"
   ]
  },
  {
   "cell_type": "code",
   "execution_count": null,
   "id": "b169202a",
   "metadata": {},
   "outputs": [],
   "source": [
    "rm(TE; recursive = true)\n",
    "\n",
    "println(\"Removed \", TE)"
   ]
  }
 ],
 "metadata": {
  "@webio": {
   "lastCommId": null,
   "lastKernelId": null
  },
  "kernelspec": {
   "display_name": "Julia 1.7.0",
   "language": "julia",
   "name": "julia-1.7"
  },
  "language_info": {
   "file_extension": ".jl",
   "mimetype": "application/julia",
   "name": "julia",
   "version": "1.7.0"
  }
 },
 "nbformat": 4,
 "nbformat_minor": 5
}
