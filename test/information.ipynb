{
 "cells": [
  {
   "cell_type": "code",
   "execution_count": null,
   "id": "baf12f00",
   "metadata": {
    "execution": {
     "iopub.execute_input": "2022-08-17T13:48:09.098000Z",
     "iopub.status.busy": "2022-08-17T13:48:08.766000Z",
     "iopub.status.idle": "2022-08-17T13:48:14.549000Z",
     "shell.execute_reply": "2022-08-17T13:48:14.504000Z"
    }
   },
   "outputs": [],
   "source": [
    "using OnePiece\n",
    "\n",
    "using KernelDensity"
   ]
  },
  {
   "cell_type": "markdown",
   "id": "e8e5cc82",
   "metadata": {},
   "source": [
    "## get_entropy"
   ]
  },
  {
   "cell_type": "code",
   "execution_count": null,
   "id": "d4ec66a6",
   "metadata": {
    "execution": {
     "iopub.execute_input": "2022-08-17T13:48:15.031000Z",
     "iopub.status.busy": "2022-08-17T13:48:14.552000Z",
     "iopub.status.idle": "2022-08-17T13:48:16.260000Z",
     "shell.execute_reply": "2022-08-17T13:48:16.260000Z"
    }
   },
   "outputs": [],
   "source": [
    "OnePiece.information.get_entropy(zeros(10))"
   ]
  },
  {
   "cell_type": "code",
   "execution_count": null,
   "id": "0ecc165a",
   "metadata": {
    "execution": {
     "iopub.execute_input": "2022-08-17T13:48:16.264000Z",
     "iopub.status.busy": "2022-08-17T13:48:16.263000Z",
     "iopub.status.idle": "2022-08-17T13:48:16.271000Z",
     "shell.execute_reply": "2022-08-17T13:48:16.271000Z"
    }
   },
   "outputs": [],
   "source": [
    "OnePiece.information.get_entropy(ones(10))"
   ]
  },
  {
   "cell_type": "markdown",
   "id": "ae9c43cc",
   "metadata": {},
   "source": [
    "## get_signal_to_noise_ratio"
   ]
  },
  {
   "cell_type": "code",
   "execution_count": null,
   "id": "6d6dd82c",
   "metadata": {
    "execution": {
     "iopub.execute_input": "2022-08-17T13:48:16.274000Z",
     "iopub.status.busy": "2022-08-17T13:48:16.274000Z",
     "iopub.status.idle": "2022-08-17T13:48:16.584000Z",
     "shell.execute_reply": "2022-08-17T13:48:16.584000Z"
    }
   },
   "outputs": [],
   "source": [
    "for (te1, te2) in [\n",
    "    (collect(1:3), collect(10:10:30)),\n",
    "    (zeros(3), zeros(3)),\n",
    "    (ones(3), [0.001, 0.001, 0.001]),\n",
    "    ([0.001, 0.001, 0.001], ones(3)),\n",
    "    ([0.001, 0.001, 0.001], [10, 10, 10]),\n",
    "]\n",
    "\n",
    "    println(OnePiece.information.get_signal_to_noise_ratio(te1, te2))\n",
    "\n",
    "end"
   ]
  },
  {
   "cell_type": "markdown",
   "id": "d16246f4",
   "metadata": {},
   "source": [
    "## get_*"
   ]
  },
  {
   "cell_type": "code",
   "execution_count": null,
   "id": "9a31939f",
   "metadata": {
    "execution": {
     "iopub.execute_input": "2022-08-17T13:48:16.588000Z",
     "iopub.status.busy": "2022-08-17T13:48:16.588000Z",
     "iopub.status.idle": "2022-08-17T13:48:16.767000Z",
     "shell.execute_reply": "2022-08-17T13:48:16.766000Z"
    }
   },
   "outputs": [],
   "source": [
    "function call_all(te1, te2, te)\n",
    "\n",
    "    vcat(\n",
    "        [\n",
    "            fu(te1, te2) for fu in [\n",
    "                OnePiece.information.get_kolmogorov_smirnov_statistic,\n",
    "                OnePiece.information.get_kullback_leibler_divergence,\n",
    "                OnePiece.information.get_thermodynamic_breadth,\n",
    "                OnePiece.information.get_thermodynamic_depth,\n",
    "            ]\n",
    "        ],\n",
    "        [\n",
    "            fu(te1, te2, te) for fu in [\n",
    "                OnePiece.information.get_symmetric_kullback_leibler_divergence,\n",
    "                OnePiece.information.get_antisymmetric_kullback_leibler_divergence,\n",
    "            ]\n",
    "        ],\n",
    "    )\n",
    "\n",
    "end"
   ]
  },
  {
   "cell_type": "code",
   "execution_count": null,
   "id": "cc6d285f",
   "metadata": {
    "execution": {
     "iopub.execute_input": "2022-08-17T13:48:16.770000Z",
     "iopub.status.busy": "2022-08-17T13:48:16.770000Z",
     "iopub.status.idle": "2022-08-17T13:48:17.253000Z",
     "shell.execute_reply": "2022-08-17T13:48:17.252000Z"
    }
   },
   "outputs": [],
   "source": [
    "name_ = [\n",
    "    \"kolmogorov_smirnov_statistic\",\n",
    "    \"kullback_leibler_divergence\",\n",
    "    \"thermodynamic_breadth\",\n",
    "    \"thermodynamic_depth\",\n",
    "    \"symmetric_kullback_leibler_divergence\",\n",
    "    \"antisymmetric_kullback_leibler_divergence\",\n",
    "]"
   ]
  },
  {
   "cell_type": "code",
   "execution_count": null,
   "id": "ea87c8a5",
   "metadata": {
    "execution": {
     "iopub.execute_input": "2022-08-17T13:48:17.256000Z",
     "iopub.status.busy": "2022-08-17T13:48:17.256000Z",
     "iopub.status.idle": "2022-08-17T13:48:19.656000Z",
     "shell.execute_reply": "2022-08-17T13:48:19.656000Z"
    }
   },
   "outputs": [],
   "source": [
    "for (te1, te2) in [([1, 1, 1], [1, 1, 1]), ([1, 2, 3], [10, 20, 30])]\n",
    "\n",
    "    te = 0.2 * te1 + 0.8 * te2\n",
    "\n",
    "    OnePiece.figure.plot_scatter([te1, te2])\n",
    "\n",
    "    OnePiece.figure.plot_scatter(call_all(te1, te2, te); name_ = name_)\n",
    "\n",
    "end"
   ]
  },
  {
   "cell_type": "code",
   "execution_count": null,
   "id": "dced1611",
   "metadata": {
    "execution": {
     "iopub.execute_input": "2022-08-17T13:48:19.661000Z",
     "iopub.status.busy": "2022-08-17T13:48:19.660000Z",
     "iopub.status.idle": "2022-08-17T13:48:19.955000Z",
     "shell.execute_reply": "2022-08-17T13:48:19.955000Z"
    }
   },
   "outputs": [],
   "source": [
    "n_po = 100\n",
    "\n",
    "te1 = OnePiece.vector_number.shift_minimum(randn(n_po), \"0<\")\n",
    "\n",
    "ve1s = te1 .+ 1\n",
    "\n",
    "te2 = OnePiece.vector_number.shift_minimum(randn(n_po), \"0<\")"
   ]
  },
  {
   "cell_type": "code",
   "execution_count": null,
   "id": "d36500da",
   "metadata": {
    "execution": {
     "iopub.execute_input": "2022-08-17T13:48:19.958000Z",
     "iopub.status.busy": "2022-08-17T13:48:19.958000Z",
     "iopub.status.idle": "2022-08-17T13:48:21.631000Z",
     "shell.execute_reply": "2022-08-17T13:48:21.631000Z"
    }
   },
   "outputs": [],
   "source": [
    "for (te1, te2) in [(te1, te1), (te1, ve1s), (te1, te2)]\n",
    "\n",
    "    un1 = kde(te1)\n",
    "\n",
    "    un2 = kde(te2)\n",
    "\n",
    "    de1 = un1.density\n",
    "\n",
    "    de2 = un2.density\n",
    "\n",
    "    de3 = 0.2 * de1 + 0.8 * de2\n",
    "\n",
    "    OnePiece.figure.plot_scatter(\n",
    "        [de1, de2],\n",
    "        [collect(un1.x), collect(un2.x)];\n",
    "        layout = Dict(\"yaxis\" => Dict(\"title\" => \"Density\"), \"xaxis\" => Dict(\"title\" => \"Grid\")),\n",
    "    )\n",
    "\n",
    "    OnePiece.figure.plot_scatter(call_all(de1, de2, de3); name_ = name_)\n",
    "\n",
    "end"
   ]
  },
  {
   "cell_type": "markdown",
   "id": "17a78b7c",
   "metadata": {},
   "source": [
    "## get_mutual_information"
   ]
  },
  {
   "cell_type": "markdown",
   "id": "2d698da9",
   "metadata": {},
   "source": [
    "## get_information_coefficient"
   ]
  },
  {
   "cell_type": "code",
   "execution_count": null,
   "id": "1231a93c",
   "metadata": {
    "execution": {
     "iopub.execute_input": "2022-08-17T13:48:21.634000Z",
     "iopub.status.busy": "2022-08-17T13:48:21.634000Z",
     "iopub.status.idle": "2022-08-17T13:48:22.770000Z",
     "shell.execute_reply": "2022-08-17T13:48:22.770000Z"
    }
   },
   "outputs": [],
   "source": [
    "te1 = collect(0:10)\n",
    "\n",
    "te2 = collect(0:10:100)\n",
    "\n",
    "bi = kde((te1, te2), npoints = (8, 8))\n",
    "\n",
    "y = collect(bi.y)\n",
    "\n",
    "x = collect(bi.x)\n",
    "\n",
    "z = bi.density\n",
    "\n",
    "OnePiece.figure.plot_heat_map(z, y, x)"
   ]
  }
 ],
 "metadata": {
  "@webio": {
   "lastCommId": null,
   "lastKernelId": null
  },
  "kernelspec": {
   "display_name": "Julia 1.7.3",
   "language": "julia",
   "name": "julia-1.7"
  },
  "language_info": {
   "file_extension": ".jl",
   "mimetype": "application/julia",
   "name": "julia",
   "version": "1.7.3"
  }
 },
 "nbformat": 4,
 "nbformat_minor": 5
}
