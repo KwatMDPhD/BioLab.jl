{
 "cells": [
  {
   "cell_type": "code",
   "execution_count": null,
   "id": "264caa23-ea53-4c01-a8f4-5d1c7ef8a8ed",
   "metadata": {
    "execution": {
     "iopub.execute_input": "2023-02-22T23:06:23.574000Z",
     "iopub.status.busy": "2023-02-22T23:06:23.341000Z",
     "iopub.status.idle": "2023-02-22T23:06:28.561000Z",
     "shell.execute_reply": "2023-02-22T23:06:28.552000Z"
    }
   },
   "outputs": [],
   "source": [
    "include(\"_.jl\")\n",
    "\n",
    "te = BioLab.Path.make_temporary(\"BioLab.test.MatrixFactorization\")"
   ]
  },
  {
   "cell_type": "markdown",
   "id": "95616f36-e5d0-41eb-a8d9-742749842eec",
   "metadata": {},
   "source": [
    "## plot"
   ]
  },
  {
   "cell_type": "markdown",
   "id": "ea210c04-6337-40d2-9dec-7023c25d1d8c",
   "metadata": {},
   "source": [
    "## factorize"
   ]
  },
  {
   "cell_type": "code",
   "execution_count": null,
   "id": "341f124b-61bd-4059-94b4-bbcfae006a04",
   "metadata": {
    "execution": {
     "iopub.execute_input": "2023-02-22T23:06:28.768000Z",
     "iopub.status.busy": "2023-02-22T23:06:28.562000Z",
     "iopub.status.idle": "2023-02-22T23:06:50.729000Z",
     "shell.execute_reply": "2023-02-22T23:06:50.729000Z"
    }
   },
   "outputs": [],
   "source": [
    "function is_all_positive(ma)\n",
    "\n",
    "    return all(0 <= nu for nu in ma)\n",
    "\n",
    "end\n",
    "\n",
    "for (n_ro, n_co, n_fa) in ((4, 3, 2), (8, 16, 3))\n",
    "\n",
    "    st = \"$n_ro x $n_co @ $n_fa\"\n",
    "\n",
    "    BioLab.String.print_header(st)\n",
    "\n",
    "    ama = BioLab.Matrix.simulate(n_ro, n_co, \"rand\")\n",
    "\n",
    "    display(ama)\n",
    "\n",
    "    di = mkdir(joinpath(te, st))\n",
    "\n",
    "    wma, hma = BioLab.MatrixFactorization.factorize(ama, n_fa; di)\n",
    "\n",
    "    @test size(wma) == (n_ro, n_fa) && is_all_positive(wma)\n",
    "\n",
    "    @test size(hma) == (n_fa, n_co) && is_all_positive(hma)\n",
    "\n",
    "    @test wma == BioLab.DataFrame.separate(\n",
    "        BioLab.Table.read(joinpath(di, \"row1_x_factor_x_positive.tsv\")),\n",
    "    )[4]\n",
    "\n",
    "    @test hma == BioLab.DataFrame.separate(\n",
    "        BioLab.Table.read(joinpath(di, \"factor_x_column1_x_positive.tsv\")),\n",
    "    )[4]\n",
    "\n",
    "    @code_warntype BioLab.MatrixFactorization.factorize(ama, n_fa; di)\n",
    "\n",
    "    # 13.750 μs (17 allocations: 1.44 KiB)\n",
    "    # 452.375 μs (17 allocations: 4.16 KiB)\n",
    "    # @btime BioLab.MatrixFactorization.factorize($ama, $n_fa; ve = $false)\n",
    "\n",
    "end"
   ]
  },
  {
   "cell_type": "markdown",
   "id": "427cd8a5-5e16-4d31-82cf-7bb6319e1129",
   "metadata": {},
   "source": [
    "## solve_h"
   ]
  },
  {
   "cell_type": "code",
   "execution_count": null,
   "id": "94cf5ef3-9820-433b-a83c-925f8975a3d8",
   "metadata": {
    "execution": {
     "iopub.execute_input": "2023-02-22T23:06:50.730000Z",
     "iopub.status.busy": "2023-02-22T23:06:50.730000Z",
     "iopub.status.idle": "2023-02-22T23:06:51.096000Z",
     "shell.execute_reply": "2023-02-22T23:06:51.095000Z"
    }
   },
   "outputs": [],
   "source": [
    "n_ro = 7\n",
    "\n",
    "n_co = 9\n",
    "\n",
    "n_fa = 3\n",
    "\n",
    "ama = BioLab.Matrix.simulate(n_ro, n_co, \"rand\")\n",
    "\n",
    "wma, hma = BioLab.MatrixFactorization.factorize(ama, n_fa; ve = false)\n",
    "\n",
    "hma2 = BioLab.MatrixFactorization.solve_h(ama, wma)\n",
    "\n",
    "display(hma)\n",
    "\n",
    "display(hma2)\n",
    "\n",
    "BioLab.MatrixFactorization.plot((wma,), (hma, hma2))\n",
    "\n",
    "@test isapprox(hma, hma2; atol = 0.3)\n",
    "\n",
    "@code_warntype BioLab.MatrixFactorization.solve_h(ama, wma)\n",
    "\n",
    "# 3.557 μs (23 allocations: 4.03 KiB)\n",
    "# @btime BioLab.MatrixFactorization.solve_h($ama, $wma)"
   ]
  }
 ],
 "metadata": {
  "kernelspec": {
   "display_name": "Julia 1.8.5",
   "language": "julia",
   "name": "julia-1.8"
  },
  "language_info": {
   "file_extension": ".jl",
   "mimetype": "application/julia",
   "name": "julia",
   "version": "1.8.5"
  }
 },
 "nbformat": 4,
 "nbformat_minor": 5
}
