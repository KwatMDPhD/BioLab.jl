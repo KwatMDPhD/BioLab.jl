{
 "cells": [
  {
   "cell_type": "code",
   "execution_count": null,
   "id": "3f062018-a3df-40ca-a27a-05d34e64fe15",
   "metadata": {},
   "outputs": [],
   "source": [
    "using OnePiece"
   ]
  },
  {
   "cell_type": "code",
   "execution_count": null,
   "id": "a6a96ec8-5bcd-4fe8-a804-07a238f96255",
   "metadata": {},
   "outputs": [],
   "source": [
    "te = OnePiece.Path.make_temporary(\"OnePiece.test.MatrixFactorization\")"
   ]
  },
  {
   "cell_type": "markdown",
   "id": "378db9fe-b8e8-4d15-8cc7-4cd1df834560",
   "metadata": {},
   "source": [
    "## factorize\n",
    "## plot"
   ]
  },
  {
   "cell_type": "code",
   "execution_count": null,
   "id": "6fe28884-3a93-47e8-ac19-306d224768ea",
   "metadata": {},
   "outputs": [],
   "source": [
    "n_ro = 4\n",
    "\n",
    "n_co = 3\n",
    "\n",
    "ro_x_co_x_nu = convert(Matrix{Float64}, OnePiece.Matrix.simulate(n_ro, n_co))\n",
    "\n",
    "OnePiece.MatrixFactorization.factorize(ro_x_co_x_nu, 2)"
   ]
  },
  {
   "cell_type": "code",
   "execution_count": null,
   "id": "f116c959-6995-441f-812f-3ea6525cf2ba",
   "metadata": {},
   "outputs": [],
   "source": [
    "n_ro = 8\n",
    "\n",
    "n_co = 16\n",
    "\n",
    "ro_x_co_x_nu = OnePiece.Matrix.simulate(n_ro, n_co, \"rand\")\n",
    "\n",
    "ro_x_fa_x_po, fa_x_co_x_po = OnePiece.MatrixFactorization.factorize(ro_x_co_x_nu, 3, di = te)"
   ]
  },
  {
   "cell_type": "code",
   "execution_count": null,
   "id": "edb2fb96-a0ee-4d52-ba94-4bab61e5bc57",
   "metadata": {},
   "outputs": [],
   "source": [
    "OnePiece.Table.read(joinpath(te, \"row1_x_factor_x_positive.tsv\"))"
   ]
  },
  {
   "cell_type": "code",
   "execution_count": null,
   "id": "2e5d1c33-2909-4e80-a74d-28f51347748a",
   "metadata": {},
   "outputs": [],
   "source": [
    "OnePiece.Table.read(joinpath(te, \"factor_x_column1_x_positive.tsv\"))"
   ]
  },
  {
   "cell_type": "markdown",
   "id": "427cd8a5-5e16-4d31-82cf-7bb6319e1129",
   "metadata": {},
   "source": [
    "## solve_h"
   ]
  },
  {
   "cell_type": "code",
   "execution_count": null,
   "id": "3d0c4f1d-27cd-4360-9105-10e3231349d2",
   "metadata": {},
   "outputs": [],
   "source": [
    "n_ro = 7\n",
    "\n",
    "n_co = 9\n",
    "\n",
    "ro_x_co_x_nu = OnePiece.Matrix.simulate(n_ro, n_co, \"rand\")\n",
    "\n",
    "ro_x_fa_x_po, fa_x_co_x_po = OnePiece.MatrixFactorization.factorize(ro_x_co_x_nu, 3)\n",
    "\n",
    ";"
   ]
  },
  {
   "cell_type": "code",
   "execution_count": null,
   "id": "0e5590cd-8352-4de8-8713-26d10bc8eb16",
   "metadata": {},
   "outputs": [],
   "source": [
    "fa_x_co2_x_po = OnePiece.MatrixFactorization.solve_h(ro_x_co_x_nu, ro_x_fa_x_po)\n",
    "\n",
    "OnePiece.Plot.plot_heat_map(\n",
    "    fa_x_co_x_po,\n",
    "    layout = Dict(\"title\" => Dict(\"text\" => \"Factor by Column 1\")),\n",
    ")\n",
    "\n",
    "OnePiece.Plot.plot_heat_map(\n",
    "    fa_x_co2_x_po,\n",
    "    layout = Dict(\"title\" => Dict(\"text\" => \"Factor by Column 2\")),\n",
    ")"
   ]
  }
 ],
 "metadata": {
  "kernelspec": {
   "display_name": "Julia 1.8.2",
   "language": "julia",
   "name": "julia-1.8"
  },
  "language_info": {
   "file_extension": ".jl",
   "mimetype": "application/julia",
   "name": "julia",
   "version": "1.8.2"
  }
 },
 "nbformat": 4,
 "nbformat_minor": 5
}
