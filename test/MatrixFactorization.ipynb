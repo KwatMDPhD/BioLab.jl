{
 "cells": [
  {
   "outputs": [],
   "cell_type": "code",
   "source": [
    "using BioinformaticsCore"
   ],
   "id": "3f062018-a3df-40ca-a27a-05d34e64fe15",
   "metadata": {},
   "execution_count": null
  },
  {
   "outputs": [],
   "cell_type": "code",
   "source": [
    "te = BioinformaticsCore.Path.make_temporary(\"BioinformaticsCore.test.MatrixFactorization\")"
   ],
   "id": "a6a96ec8-5bcd-4fe8-a804-07a238f96255",
   "metadata": {},
   "execution_count": null
  },
  {
   "cell_type": "markdown",
   "source": [
    "## factorize\n",
    "## plot"
   ],
   "id": "378db9fe-b8e8-4d15-8cc7-4cd1df834560",
   "metadata": {}
  },
  {
   "outputs": [],
   "cell_type": "code",
   "source": [
    "n_ro = 4\n",
    "\n",
    "n_co = 3\n",
    "\n",
    "ro_x_co_x_nu = convert(Matrix{Float64}, BioinformaticsCore.Matrix.simulate(n_ro, n_co))\n",
    "\n",
    "BioinformaticsCore.MatrixFactorization.factorize(ro_x_co_x_nu, 2)"
   ],
   "id": "6fe28884-3a93-47e8-ac19-306d224768ea",
   "metadata": {},
   "execution_count": null
  },
  {
   "outputs": [],
   "cell_type": "code",
   "source": [
    "n_ro = 8\n",
    "\n",
    "n_co = 16\n",
    "\n",
    "ro_x_co_x_nu = BioinformaticsCore.Matrix.simulate(n_ro, n_co, \"rand\")\n",
    "\n",
    "ro_x_fa_x_po, fa_x_co_x_po =\n",
    "    BioinformaticsCore.MatrixFactorization.factorize(ro_x_co_x_nu, 3, di = te)"
   ],
   "id": "f116c959-6995-441f-812f-3ea6525cf2ba",
   "metadata": {},
   "execution_count": null
  },
  {
   "outputs": [],
   "cell_type": "code",
   "source": [
    "BioinformaticsCore.Table.read(joinpath(te, \"row1_x_factor_x_positive.tsv\"))"
   ],
   "id": "edb2fb96-a0ee-4d52-ba94-4bab61e5bc57",
   "metadata": {},
   "execution_count": null
  },
  {
   "outputs": [],
   "cell_type": "code",
   "source": [
    "BioinformaticsCore.Table.read(joinpath(te, \"factor_x_column1_x_positive.tsv\"))"
   ],
   "id": "2e5d1c33-2909-4e80-a74d-28f51347748a",
   "metadata": {},
   "execution_count": null
  },
  {
   "cell_type": "markdown",
   "source": [
    "## solve_h"
   ],
   "id": "427cd8a5-5e16-4d31-82cf-7bb6319e1129",
   "metadata": {}
  },
  {
   "outputs": [],
   "cell_type": "code",
   "source": [
    "n_ro = 7\n",
    "\n",
    "n_co = 9\n",
    "\n",
    "ro_x_co_x_nu = BioinformaticsCore.Matrix.simulate(n_ro, n_co, \"rand\")\n",
    "\n",
    "ro_x_fa_x_po, fa_x_co_x_po = BioinformaticsCore.MatrixFactorization.factorize(ro_x_co_x_nu, 3)\n",
    "\n",
    ";"
   ],
   "id": "3d0c4f1d-27cd-4360-9105-10e3231349d2",
   "metadata": {},
   "execution_count": null
  },
  {
   "outputs": [],
   "cell_type": "code",
   "source": [
    "fa_x_co2_x_po = BioinformaticsCore.MatrixFactorization.solve_h(ro_x_co_x_nu, ro_x_fa_x_po)\n",
    "\n",
    "BioinformaticsCore.Plot.plot_heat_map(\n",
    "    fa_x_co_x_po,\n",
    "    layout = Dict(\"title\" => Dict(\"text\" => \"Factor by Column 1\")),\n",
    ")\n",
    "\n",
    "BioinformaticsCore.Plot.plot_heat_map(\n",
    "    fa_x_co2_x_po,\n",
    "    layout = Dict(\"title\" => Dict(\"text\" => \"Factor by Column 2\")),\n",
    ")"
   ],
   "id": "0e5590cd-8352-4de8-8713-26d10bc8eb16",
   "metadata": {},
   "execution_count": null
  }
 ],
 "nbformat_minor": 5,
 "metadata": {
  "language_info": {
   "file_extension": ".jl",
   "mimetype": "application/julia",
   "name": "julia",
   "version": "1.8.3"
  },
  "kernelspec": {
   "name": "julia-1.8",
   "display_name": "Julia 1.8.2",
   "language": "julia"
  }
 },
 "nbformat": 4
}
