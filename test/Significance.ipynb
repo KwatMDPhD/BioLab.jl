{
 "cells": [
  {
   "cell_type": "code",
   "execution_count": null,
   "id": "baf12f00",
   "metadata": {},
   "outputs": [],
   "source": [
    "using OnePiece"
   ]
  },
  {
   "cell_type": "markdown",
   "id": "3b1d3a5e",
   "metadata": {},
   "source": [
    "## adjust_p_value"
   ]
  },
  {
   "cell_type": "code",
   "execution_count": null,
   "id": "29170bc9-b97f-4440-91b0-fec6fb473f38",
   "metadata": {},
   "outputs": [],
   "source": [
    "OnePiece.Significance.adjust_p_value([1e-3, 1e-2, 1e-1, 1e0])"
   ]
  },
  {
   "cell_type": "code",
   "execution_count": null,
   "id": "0423fe46",
   "metadata": {},
   "outputs": [],
   "source": [
    "@assert all(\n",
    "    isapprox(pv, so, atol = 1e-3) for (pv, so) in zip(\n",
    "        OnePiece.Significance.adjust_p_value([\n",
    "            0.005,\n",
    "            0.009,\n",
    "            0.019,\n",
    "            0.022,\n",
    "            0.051,\n",
    "            0.101,\n",
    "            0.361,\n",
    "            0.387,\n",
    "        ]),\n",
    "        [0.036, 0.036, 0.044, 0.044, 0.082, 0.135, 0.387, 0.387],\n",
    "    )\n",
    ")"
   ]
  },
  {
   "cell_type": "code",
   "execution_count": null,
   "id": "93b8239f",
   "metadata": {},
   "outputs": [],
   "source": [
    "pv_ = [0.001, 0.01, 0.03, 0.5]\n",
    "\n",
    "for me in [\"bonferroni\", \"benjamini_hochberg\"]\n",
    "\n",
    "    println(OnePiece.Significance.adjust_p_value(pv_, me))\n",
    "\n",
    "    println(OnePiece.Significance.adjust_p_value(pv_, me, n = 40))\n",
    "\n",
    "end"
   ]
  },
  {
   "cell_type": "code",
   "execution_count": null,
   "id": "ba2deedb",
   "metadata": {},
   "outputs": [],
   "source": [
    "for n_pv in [2, 4, 8, 10]\n",
    "\n",
    "    println(\"=\"^99)\n",
    "\n",
    "    pv_ = collect(range(1e-3, 1, length = n_pv))\n",
    "\n",
    "    println(pv_)\n",
    "\n",
    "    println(OnePiece.Significance.adjust_p_value(pv_))\n",
    "\n",
    "end"
   ]
  },
  {
   "cell_type": "markdown",
   "id": "1d8333c7",
   "metadata": {},
   "source": [
    "## get_margin_of_error"
   ]
  },
  {
   "cell_type": "code",
   "execution_count": null,
   "id": "d283833a",
   "metadata": {},
   "outputs": [],
   "source": [
    "for po in 0:8\n",
    "\n",
    "    println(\"=\"^99)\n",
    "\n",
    "    n_po = 10^po\n",
    "\n",
    "    println(n_po)\n",
    "\n",
    "    println(OnePiece.Significance.get_margin_of_error(randn(n_po)))\n",
    "\n",
    "end"
   ]
  },
  {
   "cell_type": "markdown",
   "id": "a9de369f",
   "metadata": {},
   "source": [
    "## get_p_value"
   ]
  },
  {
   "cell_type": "code",
   "execution_count": null,
   "id": "79c5676a",
   "metadata": {},
   "outputs": [],
   "source": [
    "ra_ = collect(1:10)\n",
    "\n",
    "for va in (1, 2, 9, 10)\n",
    "\n",
    "    println(va)\n",
    "\n",
    "    for si in (-1.0, 1.0)\n",
    "\n",
    "        println(OnePiece.Significance.get_p_value(va, ra_, si))\n",
    "\n",
    "    end\n",
    "\n",
    "end"
   ]
  },
  {
   "cell_type": "markdown",
   "id": "516e1a6e",
   "metadata": {},
   "source": [
    "## get_p_value_and_adjust"
   ]
  },
  {
   "cell_type": "code",
   "execution_count": null,
   "id": "fdb6da5a",
   "metadata": {},
   "outputs": [],
   "source": [
    "nu_ = [0, 1, 8, 9]\n",
    "\n",
    "ra_ = collect(0:9)\n",
    "\n",
    "println(OnePiece.Significance.get_p_value_and_adjust(nu_, ra_))\n",
    "\n",
    "for si in [-1, 1]\n",
    "\n",
    "    println(OnePiece.Significance.get_p_value_and_adjust(nu_, ra_, si))\n",
    "\n",
    "end"
   ]
  }
 ],
 "metadata": {
  "@webio": {
   "lastCommId": null,
   "lastKernelId": null
  },
  "kernelspec": {
   "display_name": "Julia 1.8.2",
   "language": "julia",
   "name": "julia-1.8"
  },
  "language_info": {
   "file_extension": ".jl",
   "mimetype": "application/julia",
   "name": "julia",
   "version": "1.8.2"
  }
 },
 "nbformat": 4,
 "nbformat_minor": 5
}
