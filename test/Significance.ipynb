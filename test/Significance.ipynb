{
 "cells": [
  {
   "outputs": [],
   "cell_type": "code",
   "source": [
    "using BioinformaticsCore"
   ],
   "id": "baf12f00",
   "metadata": {},
   "execution_count": null
  },
  {
   "cell_type": "markdown",
   "source": [
    "## adjust_p_value"
   ],
   "id": "3b1d3a5e",
   "metadata": {}
  },
  {
   "outputs": [],
   "cell_type": "code",
   "source": [
    "BioinformaticsCore.Significance.adjust_p_value([10^-3, 10^-2, 10^-1, 10^0])"
   ],
   "id": "29170bc9-b97f-4440-91b0-fec6fb473f38",
   "metadata": {},
   "execution_count": null
  },
  {
   "outputs": [],
   "cell_type": "code",
   "source": [
    "@assert all(\n",
    "    isapprox(pv, so, atol = 10^-3) for (pv, so) in zip(\n",
    "        BioinformaticsCore.Significance.adjust_p_value([\n",
    "            0.005,\n",
    "            0.009,\n",
    "            0.019,\n",
    "            0.022,\n",
    "            0.051,\n",
    "            0.101,\n",
    "            0.361,\n",
    "            0.387,\n",
    "        ]),\n",
    "        (0.036, 0.036, 0.044, 0.044, 0.082, 0.135, 0.387, 0.387),\n",
    "    )\n",
    ")"
   ],
   "id": "0423fe46",
   "metadata": {},
   "execution_count": null
  },
  {
   "outputs": [],
   "cell_type": "code",
   "source": [
    "pv_ = [0.001, 0.01, 0.03, 0.5]\n",
    "\n",
    "for ho in (\"bonferroni\", \"benjamini_hochberg\")\n",
    "\n",
    "    println(BioinformaticsCore.Significance.adjust_p_value(pv_, ho))\n",
    "\n",
    "    println(BioinformaticsCore.Significance.adjust_p_value(pv_, ho, n = 40))\n",
    "\n",
    "end"
   ],
   "id": "93b8239f",
   "metadata": {},
   "execution_count": null
  },
  {
   "outputs": [],
   "cell_type": "code",
   "source": [
    "for n in (2, 4, 8, 10)\n",
    "\n",
    "    println(\"=\"^99)\n",
    "\n",
    "    pv_ = collect(range(10^-3, 1, length = n))\n",
    "\n",
    "    println(pv_)\n",
    "\n",
    "    println(BioinformaticsCore.Significance.adjust_p_value(pv_))\n",
    "\n",
    "end"
   ],
   "id": "ba2deedb",
   "metadata": {},
   "execution_count": null
  },
  {
   "cell_type": "markdown",
   "source": [
    "## get_margin_of_error"
   ],
   "id": "1d8333c7",
   "metadata": {}
  },
  {
   "outputs": [],
   "cell_type": "code",
   "source": [
    "for po in 0:8\n",
    "\n",
    "    println(\"=\"^99)\n",
    "\n",
    "    n = 10^po\n",
    "\n",
    "    println(n)\n",
    "\n",
    "    println(BioinformaticsCore.Significance.get_margin_of_error(randn(n)))\n",
    "\n",
    "end"
   ],
   "id": "d283833a",
   "metadata": {},
   "execution_count": null
  },
  {
   "cell_type": "markdown",
   "source": [
    "## get_p_value"
   ],
   "id": "a9de369f",
   "metadata": {}
  },
  {
   "outputs": [],
   "cell_type": "code",
   "source": [
    "ra_ = collect(1:10)\n",
    "\n",
    "for va in (1, 2, 9, 10)\n",
    "\n",
    "    println(\"=\"^99)\n",
    "\n",
    "    println(va)\n",
    "\n",
    "    for si in (-1.0, 1.0)\n",
    "\n",
    "        println(BioinformaticsCore.Significance.get_p_value(va, ra_, si))\n",
    "\n",
    "    end\n",
    "\n",
    "end"
   ],
   "id": "79c5676a",
   "metadata": {},
   "execution_count": null
  },
  {
   "cell_type": "markdown",
   "source": [
    "## get_p_value_and_adjust"
   ],
   "id": "516e1a6e",
   "metadata": {}
  },
  {
   "outputs": [],
   "cell_type": "code",
   "source": [
    "nu_ = [0, 1, 8, 9]\n",
    "\n",
    "ra_ = collect(0:9)\n",
    "\n",
    "println(BioinformaticsCore.Significance.get_p_value_and_adjust(nu_, ra_))\n",
    "\n",
    "for si in (-1.0, 1.0)\n",
    "\n",
    "    println(BioinformaticsCore.Significance.get_p_value_and_adjust(nu_, ra_, si))\n",
    "\n",
    "end"
   ],
   "id": "fdb6da5a",
   "metadata": {},
   "execution_count": null
  }
 ],
 "nbformat_minor": 5,
 "metadata": {
  "language_info": {
   "file_extension": ".jl",
   "mimetype": "application/julia",
   "name": "julia",
   "version": "1.8.2"
  },
  "@webio": {
   "lastKernelId": null,
   "lastCommId": null
  },
  "kernelspec": {
   "name": "julia-1.8",
   "display_name": "Julia 1.8.2",
   "language": "julia"
  }
 },
 "nbformat": 4
}
