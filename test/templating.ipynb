{
 "cells": [
  {
   "cell_type": "code",
   "execution_count": null,
   "id": "017464da",
   "metadata": {},
   "outputs": [],
   "source": [
    "TE = joinpath(tempdir(), \"OnePiece.test\")\n",
    "\n",
    "mkpath(TE)"
   ]
  },
  {
   "cell_type": "code",
   "execution_count": null,
   "id": "34e4701e",
   "metadata": {
    "execution": {
     "iopub.execute_input": "2022-02-10T17:51:23.590384Z",
     "iopub.status.busy": "2022-02-10T17:51:23.250154Z",
     "iopub.status.idle": "2022-02-10T17:51:24.482021Z",
     "shell.execute_reply": "2022-02-10T17:51:24.481306Z"
    }
   },
   "outputs": [],
   "source": [
    "using OnePiece"
   ]
  },
  {
   "cell_type": "markdown",
   "id": "b92a3da9",
   "metadata": {},
   "source": [
    "---"
   ]
  },
  {
   "cell_type": "markdown",
   "id": "ae39cefa",
   "metadata": {},
   "source": [
    "## error_missing"
   ]
  },
  {
   "cell_type": "code",
   "execution_count": null,
   "id": "f14e1c5a",
   "metadata": {
    "execution": {
     "iopub.execute_input": "2022-02-10T20:40:06.184353Z",
     "iopub.status.busy": "2022-02-10T20:40:05.740680Z",
     "iopub.status.idle": "2022-02-10T20:40:06.253142Z",
     "shell.execute_reply": "2022-02-10T20:40:06.252619Z"
    }
   },
   "outputs": [],
   "source": [
    "di = dirname(@__DIR__)"
   ]
  },
  {
   "cell_type": "code",
   "execution_count": null,
   "id": "aba44107",
   "metadata": {
    "execution": {
     "iopub.execute_input": "2022-02-10T20:40:06.255119Z",
     "iopub.status.busy": "2022-02-10T20:40:06.254438Z",
     "iopub.status.idle": "2022-02-10T20:40:06.256936Z",
     "shell.execute_reply": "2022-02-10T20:40:06.256420Z"
    }
   },
   "outputs": [],
   "source": [
    "dit = joinpath(homedir(), \"craft\", \"PkgRepository.jl\", \"TEMPLATE.jl\")"
   ]
  },
  {
   "cell_type": "code",
   "execution_count": null,
   "id": "121f406d",
   "metadata": {
    "execution": {
     "iopub.execute_input": "2022-02-10T20:40:06.258766Z",
     "iopub.status.busy": "2022-02-10T20:40:06.258183Z",
     "iopub.status.idle": "2022-02-10T20:40:06.927969Z",
     "shell.execute_reply": "2022-02-10T20:40:06.927493Z"
    }
   },
   "outputs": [],
   "source": [
    "try\n",
    "\n",
    "    OnePiece.templating.error_missing(dit, di)\n",
    "\n",
    "catch er\n",
    "\n",
    "    er\n",
    "\n",
    "end"
   ]
  },
  {
   "cell_type": "code",
   "execution_count": null,
   "id": "cd0a1d51",
   "metadata": {
    "execution": {
     "iopub.execute_input": "2022-02-10T20:40:06.929922Z",
     "iopub.status.busy": "2022-02-10T20:40:06.929290Z",
     "iopub.status.idle": "2022-02-10T20:40:06.999941Z",
     "shell.execute_reply": "2022-02-10T20:40:06.999440Z"
    }
   },
   "outputs": [],
   "source": [
    "OnePiece.templating.error_missing(dit, di; re_ = [\"TEMPLATE.jl\" => \"OnePiece.jl\"])"
   ]
  },
  {
   "cell_type": "code",
   "execution_count": null,
   "id": "135c0c00",
   "metadata": {
    "execution": {
     "iopub.execute_input": "2022-02-10T20:40:07.002245Z",
     "iopub.status.busy": "2022-02-10T20:40:07.001331Z",
     "iopub.status.idle": "2022-02-10T20:40:07.004181Z",
     "shell.execute_reply": "2022-02-10T20:40:07.002858Z"
    }
   },
   "outputs": [],
   "source": [
    "dit = joinpath(homedir(), \"craft\", \"PkgRepository.jl\")"
   ]
  },
  {
   "cell_type": "code",
   "execution_count": null,
   "id": "884520ad",
   "metadata": {
    "execution": {
     "iopub.execute_input": "2022-02-10T20:40:07.006136Z",
     "iopub.status.busy": "2022-02-10T20:40:07.005481Z",
     "iopub.status.idle": "2022-02-10T20:40:07.008106Z",
     "shell.execute_reply": "2022-02-10T20:40:07.007600Z"
    }
   },
   "outputs": [],
   "source": [
    "try\n",
    "\n",
    "    OnePiece.templating.error_missing(dit, di)\n",
    "\n",
    "catch er\n",
    "\n",
    "    er\n",
    "\n",
    "end"
   ]
  },
  {
   "cell_type": "code",
   "execution_count": null,
   "id": "b376b4b3",
   "metadata": {
    "execution": {
     "iopub.execute_input": "2022-02-10T20:40:07.009954Z",
     "iopub.status.busy": "2022-02-10T20:40:07.009387Z",
     "iopub.status.idle": "2022-02-10T20:40:07.086129Z",
     "shell.execute_reply": "2022-02-10T20:40:07.085634Z"
    }
   },
   "outputs": [],
   "source": [
    "OnePiece.templating.error_missing(\n",
    "    dit,\n",
    "    di;\n",
    "    ig_ = [r\"\\.ipynb_checkpoints\", r\"\\.git\", r\"src\", r\"TEMPLATE.jl\", r\"Comonicon.toml\", r\"deps\"],\n",
    ")"
   ]
  },
  {
   "cell_type": "markdown",
   "id": "0654acfb",
   "metadata": {},
   "source": [
    "## plan_transplant"
   ]
  },
  {
   "cell_type": "code",
   "execution_count": null,
   "id": "96364fc3",
   "metadata": {
    "execution": {
     "iopub.execute_input": "2022-02-10T20:40:07.088184Z",
     "iopub.status.busy": "2022-02-10T20:40:07.087534Z",
     "iopub.status.idle": "2022-02-10T20:40:08.475261Z",
     "shell.execute_reply": "2022-02-10T20:40:08.474789Z"
    }
   },
   "outputs": [],
   "source": [
    "OnePiece.templating.plan_transplant()"
   ]
  },
  {
   "cell_type": "markdown",
   "id": "13e9cd65",
   "metadata": {},
   "source": [
    "## plan_replacement"
   ]
  },
  {
   "cell_type": "code",
   "execution_count": null,
   "id": "8b46a1f9",
   "metadata": {
    "execution": {
     "iopub.execute_input": "2022-02-10T20:40:08.477282Z",
     "iopub.status.busy": "2022-02-10T20:40:08.476641Z",
     "iopub.status.idle": "2022-02-10T20:40:09.294272Z",
     "shell.execute_reply": "2022-02-10T20:40:09.293762Z"
    }
   },
   "outputs": [],
   "source": [
    "OnePiece.templating.plan_replacement(\"Big Mom\")"
   ]
  },
  {
   "cell_type": "markdown",
   "id": "69ad4519",
   "metadata": {},
   "source": [
    "## transplant"
   ]
  },
  {
   "cell_type": "code",
   "execution_count": null,
   "id": "28dfc4c2",
   "metadata": {
    "execution": {
     "iopub.execute_input": "2022-02-10T20:40:09.296482Z",
     "iopub.status.busy": "2022-02-10T20:40:09.295679Z",
     "iopub.status.idle": "2022-02-10T20:40:09.298412Z",
     "shell.execute_reply": "2022-02-10T20:40:09.297125Z"
    }
   },
   "outputs": [],
   "source": [
    "te = tempdir()"
   ]
  },
  {
   "cell_type": "code",
   "execution_count": null,
   "id": "e819d8da",
   "metadata": {
    "execution": {
     "iopub.execute_input": "2022-02-10T20:40:09.300383Z",
     "iopub.status.busy": "2022-02-10T20:40:09.299694Z",
     "iopub.status.idle": "2022-02-10T20:40:09.319376Z",
     "shell.execute_reply": "2022-02-10T20:40:09.318892Z"
    }
   },
   "outputs": [],
   "source": [
    "fit = joinpath(te, \"fit\")\n",
    "\n",
    "write(\n",
    "    fit,\n",
    "    \"# TEMPLATE\n",
    "--\n",
    "GIT_USER_NAME\n",
    "GIT_USER_EMAIL\n",
    "033e1703-1880-4940-9ddc-745bff01a2ac\n",
    "--\n",
    "(stuff)\n",
    "--\n",
    "ODA IS GENIUS.\",\n",
    ")\n",
    "\n",
    "println(read(fit, String))"
   ]
  },
  {
   "cell_type": "code",
   "execution_count": null,
   "id": "12b2ee72",
   "metadata": {
    "execution": {
     "iopub.execute_input": "2022-02-10T20:40:09.321426Z",
     "iopub.status.busy": "2022-02-10T20:40:09.320767Z",
     "iopub.status.idle": "2022-02-10T20:40:09.323783Z",
     "shell.execute_reply": "2022-02-10T20:40:09.323371Z"
    }
   },
   "outputs": [],
   "source": [
    "fi = joinpath(te, \"fi\")\n",
    "\n",
    "write(\n",
    "    fi,\n",
    "    \"(bad part)\n",
    "--\n",
    "(bad part)\n",
    "--\n",
    "GOOD STUFF\n",
    "--\n",
    "(bad part)\",\n",
    ")\n",
    "\n",
    "println(read(fi, String))"
   ]
  },
  {
   "cell_type": "code",
   "execution_count": null,
   "id": "7366635f",
   "metadata": {
    "execution": {
     "iopub.execute_input": "2022-02-10T20:40:09.325587Z",
     "iopub.status.busy": "2022-02-10T20:40:09.325017Z",
     "iopub.status.idle": "2022-02-10T20:40:09.591142Z",
     "shell.execute_reply": "2022-02-10T20:40:09.590628Z"
    }
   },
   "outputs": [],
   "source": [
    "OnePiece.templating.transplant(\n",
    "    fit,\n",
    "    fi,\n",
    "    \"--\",\n",
    "    [1, 1, 2, 1],\n",
    "    re_ = OnePiece.templating.plan_replacement(\"Katakuri\"),\n",
    ")\n",
    "\n",
    "println(read(fi, String))"
   ]
  },
  {
   "cell_type": "markdown",
   "id": "3f396855",
   "metadata": {},
   "source": [
    "---"
   ]
  },
  {
   "cell_type": "code",
   "execution_count": null,
   "id": "b4af2023",
   "metadata": {},
   "outputs": [],
   "source": [
    "rm(TE; recursive = true)"
   ]
  }
 ],
 "metadata": {
  "kernelspec": {
   "display_name": "Julia 1.7.2",
   "language": "julia",
   "name": "julia-1.7"
  },
  "language_info": {
   "file_extension": ".jl",
   "mimetype": "application/julia",
   "name": "julia",
   "version": "1.7.2"
  }
 },
 "nbformat": 4,
 "nbformat_minor": 5
}
