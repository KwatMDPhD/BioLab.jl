{
 "cells": [
  {
   "cell_type": "code",
   "execution_count": null,
   "id": "017464da",
   "metadata": {
    "execution": {
     "iopub.execute_input": "2022-02-13T22:57:30.638368Z",
     "iopub.status.busy": "2022-02-13T22:57:30.306750Z",
     "iopub.status.idle": "2022-02-13T22:57:30.819292Z",
     "shell.execute_reply": "2022-02-13T22:57:30.818781Z"
    }
   },
   "outputs": [],
   "source": [
    "TE = joinpath(tempdir(), \"OnePiece.test\")\n",
    "\n",
    "if isdir(TE)\n",
    "\n",
    "    rm(TE, recursive = true)\n",
    "\n",
    "    println(\"Removed \", TE, \".\")\n",
    "\n",
    "end\n",
    "\n",
    "mkdir(TE)\n",
    "\n",
    "println(\"Made \", TE, \".\")"
   ]
  },
  {
   "cell_type": "code",
   "execution_count": null,
   "id": "34e4701e",
   "metadata": {
    "execution": {
     "iopub.execute_input": "2022-02-13T22:57:30.821244Z",
     "iopub.status.busy": "2022-02-13T22:57:30.820584Z",
     "iopub.status.idle": "2022-02-13T22:57:34.746680Z",
     "shell.execute_reply": "2022-02-13T22:57:34.746131Z"
    }
   },
   "outputs": [],
   "source": [
    "using OnePiece"
   ]
  },
  {
   "cell_type": "markdown",
   "id": "b92a3da9",
   "metadata": {},
   "source": [
    "---"
   ]
  },
  {
   "cell_type": "markdown",
   "id": "ae39cefa",
   "metadata": {},
   "source": [
    "## error_missing"
   ]
  },
  {
   "cell_type": "code",
   "execution_count": null,
   "id": "f14e1c5a",
   "metadata": {
    "execution": {
     "iopub.execute_input": "2022-02-13T22:57:35.042025Z",
     "iopub.status.busy": "2022-02-13T22:57:34.748041Z",
     "iopub.status.idle": "2022-02-13T22:57:35.643327Z",
     "shell.execute_reply": "2022-02-13T22:57:35.642925Z"
    }
   },
   "outputs": [],
   "source": [
    "di = dirname(@__DIR__)"
   ]
  },
  {
   "cell_type": "code",
   "execution_count": null,
   "id": "aba44107",
   "metadata": {
    "execution": {
     "iopub.execute_input": "2022-02-13T22:57:35.645462Z",
     "iopub.status.busy": "2022-02-13T22:57:35.644637Z",
     "iopub.status.idle": "2022-02-13T22:57:35.647025Z",
     "shell.execute_reply": "2022-02-13T22:57:35.646647Z"
    }
   },
   "outputs": [],
   "source": [
    "dit = joinpath(homedir(), \"craft\", \"PkgRepository.jl\", \"TEMPLATE.jl\")"
   ]
  },
  {
   "cell_type": "code",
   "execution_count": null,
   "id": "121f406d",
   "metadata": {
    "execution": {
     "iopub.execute_input": "2022-02-13T22:57:35.648985Z",
     "iopub.status.busy": "2022-02-13T22:57:35.648466Z",
     "iopub.status.idle": "2022-02-13T22:57:36.156595Z",
     "shell.execute_reply": "2022-02-13T22:57:36.156148Z"
    }
   },
   "outputs": [],
   "source": [
    "try\n",
    "\n",
    "    OnePiece.templating.error_missing(dit, di)\n",
    "\n",
    "catch er\n",
    "\n",
    "    er\n",
    "\n",
    "end"
   ]
  },
  {
   "cell_type": "code",
   "execution_count": null,
   "id": "cd0a1d51",
   "metadata": {
    "execution": {
     "iopub.execute_input": "2022-02-13T22:57:36.158391Z",
     "iopub.status.busy": "2022-02-13T22:57:36.157876Z",
     "iopub.status.idle": "2022-02-13T22:57:36.216117Z",
     "shell.execute_reply": "2022-02-13T22:57:36.215669Z"
    }
   },
   "outputs": [],
   "source": [
    "OnePiece.templating.error_missing(dit, di; re_ = [\"TEMPLATE.jl\" => \"OnePiece.jl\"])"
   ]
  },
  {
   "cell_type": "code",
   "execution_count": null,
   "id": "135c0c00",
   "metadata": {
    "execution": {
     "iopub.execute_input": "2022-02-13T22:57:36.218314Z",
     "iopub.status.busy": "2022-02-13T22:57:36.217396Z",
     "iopub.status.idle": "2022-02-13T22:57:36.219835Z",
     "shell.execute_reply": "2022-02-13T22:57:36.218828Z"
    }
   },
   "outputs": [],
   "source": [
    "dit = joinpath(homedir(), \"craft\", \"PkgRepository.jl\")"
   ]
  },
  {
   "cell_type": "code",
   "execution_count": null,
   "id": "884520ad",
   "metadata": {
    "execution": {
     "iopub.execute_input": "2022-02-13T22:57:36.221745Z",
     "iopub.status.busy": "2022-02-13T22:57:36.221178Z",
     "iopub.status.idle": "2022-02-13T22:57:36.224794Z",
     "shell.execute_reply": "2022-02-13T22:57:36.224439Z"
    }
   },
   "outputs": [],
   "source": [
    "try\n",
    "\n",
    "    OnePiece.templating.error_missing(dit, di)\n",
    "\n",
    "catch er\n",
    "\n",
    "    er\n",
    "\n",
    "end"
   ]
  },
  {
   "cell_type": "code",
   "execution_count": null,
   "id": "b376b4b3",
   "metadata": {
    "execution": {
     "iopub.execute_input": "2022-02-13T22:57:36.226545Z",
     "iopub.status.busy": "2022-02-13T22:57:36.226065Z",
     "iopub.status.idle": "2022-02-13T22:57:36.274026Z",
     "shell.execute_reply": "2022-02-13T22:57:36.273657Z"
    }
   },
   "outputs": [],
   "source": [
    "OnePiece.templating.error_missing(\n",
    "    dit,\n",
    "    di;\n",
    "    ig_ = [r\"\\.ipynb_checkpoints\", r\"\\.git\", r\"src\", r\"TEMPLATE.jl\", r\"Comonicon.toml\", r\"deps\"],\n",
    ")"
   ]
  },
  {
   "cell_type": "markdown",
   "id": "0654acfb",
   "metadata": {},
   "source": [
    "## plan_transplant"
   ]
  },
  {
   "cell_type": "code",
   "execution_count": null,
   "id": "96364fc3",
   "metadata": {
    "execution": {
     "iopub.execute_input": "2022-02-13T22:57:36.276069Z",
     "iopub.status.busy": "2022-02-13T22:57:36.275513Z",
     "iopub.status.idle": "2022-02-13T22:57:37.436659Z",
     "shell.execute_reply": "2022-02-13T22:57:37.436266Z"
    }
   },
   "outputs": [],
   "source": [
    "OnePiece.templating.plan_transplant()"
   ]
  },
  {
   "cell_type": "markdown",
   "id": "13e9cd65",
   "metadata": {},
   "source": [
    "## plan_replacement"
   ]
  },
  {
   "cell_type": "code",
   "execution_count": null,
   "id": "8b46a1f9",
   "metadata": {
    "execution": {
     "iopub.execute_input": "2022-02-13T22:57:37.438532Z",
     "iopub.status.busy": "2022-02-13T22:57:37.438039Z",
     "iopub.status.idle": "2022-02-13T22:57:38.107620Z",
     "shell.execute_reply": "2022-02-13T22:57:38.107222Z"
    }
   },
   "outputs": [],
   "source": [
    "OnePiece.templating.plan_replacement(\"Big Mom\")"
   ]
  },
  {
   "cell_type": "markdown",
   "id": "69ad4519",
   "metadata": {},
   "source": [
    "## transplant"
   ]
  },
  {
   "cell_type": "code",
   "execution_count": null,
   "id": "28dfc4c2",
   "metadata": {
    "execution": {
     "iopub.execute_input": "2022-02-13T22:57:38.110030Z",
     "iopub.status.busy": "2022-02-13T22:57:38.109059Z",
     "iopub.status.idle": "2022-02-13T22:57:38.111513Z",
     "shell.execute_reply": "2022-02-13T22:57:38.110536Z"
    }
   },
   "outputs": [],
   "source": [
    "te = tempdir()"
   ]
  },
  {
   "cell_type": "code",
   "execution_count": null,
   "id": "e819d8da",
   "metadata": {
    "execution": {
     "iopub.execute_input": "2022-02-13T22:57:38.113366Z",
     "iopub.status.busy": "2022-02-13T22:57:38.112872Z",
     "iopub.status.idle": "2022-02-13T22:57:38.120300Z",
     "shell.execute_reply": "2022-02-13T22:57:38.119947Z"
    }
   },
   "outputs": [],
   "source": [
    "fit = joinpath(te, \"fit\")\n",
    "\n",
    "write(\n",
    "    fit,\n",
    "    \"# TEMPLATE\n",
    "--\n",
    "GIT_USER_NAME\n",
    "GIT_USER_EMAIL\n",
    "033e1703-1880-4940-9ddc-745bff01a2ac\n",
    "--\n",
    "(stuff)\n",
    "--\n",
    "ODA IS GENIUS.\",\n",
    ")\n",
    "\n",
    "println(read(fit, String))"
   ]
  },
  {
   "cell_type": "code",
   "execution_count": null,
   "id": "12b2ee72",
   "metadata": {
    "execution": {
     "iopub.execute_input": "2022-02-13T22:57:38.122488Z",
     "iopub.status.busy": "2022-02-13T22:57:38.121683Z",
     "iopub.status.idle": "2022-02-13T22:57:38.124694Z",
     "shell.execute_reply": "2022-02-13T22:57:38.124347Z"
    }
   },
   "outputs": [],
   "source": [
    "fi = joinpath(te, \"fi\")\n",
    "\n",
    "write(\n",
    "    fi,\n",
    "    \"(bad part)\n",
    "--\n",
    "(bad part)\n",
    "--\n",
    "GOOD STUFF\n",
    "--\n",
    "(bad part)\",\n",
    ")\n",
    "\n",
    "println(read(fi, String))"
   ]
  },
  {
   "cell_type": "code",
   "execution_count": null,
   "id": "7366635f",
   "metadata": {
    "execution": {
     "iopub.execute_input": "2022-02-13T22:57:38.126657Z",
     "iopub.status.busy": "2022-02-13T22:57:38.126120Z",
     "iopub.status.idle": "2022-02-13T22:57:38.344191Z",
     "shell.execute_reply": "2022-02-13T22:57:38.343828Z"
    }
   },
   "outputs": [],
   "source": [
    "OnePiece.templating.transplant(\n",
    "    fit,\n",
    "    fi,\n",
    "    \"--\",\n",
    "    [1, 1, 2, 1],\n",
    "    re_ = OnePiece.templating.plan_replacement(\"Katakuri\"),\n",
    ")\n",
    "\n",
    "println(read(fi, String))"
   ]
  },
  {
   "cell_type": "markdown",
   "id": "3f396855",
   "metadata": {},
   "source": [
    "---"
   ]
  },
  {
   "cell_type": "code",
   "execution_count": null,
   "id": "b4af2023",
   "metadata": {
    "execution": {
     "iopub.execute_input": "2022-02-13T22:57:38.346417Z",
     "iopub.status.busy": "2022-02-13T22:57:38.345753Z",
     "iopub.status.idle": "2022-02-13T22:57:38.348271Z",
     "shell.execute_reply": "2022-02-13T22:57:38.347910Z"
    }
   },
   "outputs": [],
   "source": [
    "if isdir(TE)\n",
    "\n",
    "    rm(TE, recursive = true)\n",
    "\n",
    "    println(\"Removed \", TE, \".\")\n",
    "\n",
    "end"
   ]
  }
 ],
 "metadata": {
  "kernelspec": {
   "display_name": "Julia 1.7.2",
   "language": "julia",
   "name": "julia-1.7"
  },
  "language_info": {
   "file_extension": ".jl",
   "mimetype": "application/julia",
   "name": "julia",
   "version": "1.7.2"
  }
 },
 "nbformat": 4,
 "nbformat_minor": 5
}
