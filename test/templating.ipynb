{
 "cells": [
  {
   "cell_type": "code",
   "execution_count": null,
   "id": "017464da",
   "metadata": {
    "execution": {
     "iopub.execute_input": "2022-02-14T15:18:29.872816Z",
     "iopub.status.busy": "2022-02-14T15:18:29.541452Z",
     "iopub.status.idle": "2022-02-14T15:18:30.060164Z",
     "shell.execute_reply": "2022-02-14T15:18:30.059672Z"
    }
   },
   "outputs": [],
   "source": [
    "TE = joinpath(tempdir(), \"OnePiece.test\")\n",
    "\n",
    "if isdir(TE)\n",
    "\n",
    "    rm(TE, recursive = true)\n",
    "\n",
    "    println(\"Removed \", TE, \".\")\n",
    "\n",
    "end\n",
    "\n",
    "mkdir(TE)\n",
    "\n",
    "println(\"Made \", TE, \".\")"
   ]
  },
  {
   "cell_type": "code",
   "execution_count": null,
   "id": "34e4701e",
   "metadata": {
    "execution": {
     "iopub.execute_input": "2022-02-14T15:18:30.062048Z",
     "iopub.status.busy": "2022-02-14T15:18:30.061540Z",
     "iopub.status.idle": "2022-02-14T15:18:34.256353Z",
     "shell.execute_reply": "2022-02-14T15:18:34.255845Z"
    }
   },
   "outputs": [],
   "source": [
    "using OnePiece"
   ]
  },
  {
   "cell_type": "markdown",
   "id": "b92a3da9",
   "metadata": {},
   "source": [
    "---"
   ]
  },
  {
   "cell_type": "markdown",
   "id": "ae39cefa",
   "metadata": {},
   "source": [
    "## error_missing"
   ]
  },
  {
   "cell_type": "code",
   "execution_count": null,
   "id": "f14e1c5a",
   "metadata": {
    "execution": {
     "iopub.execute_input": "2022-02-14T15:18:34.565064Z",
     "iopub.status.busy": "2022-02-14T15:18:34.257741Z",
     "iopub.status.idle": "2022-02-14T15:18:35.194449Z",
     "shell.execute_reply": "2022-02-14T15:18:35.194052Z"
    }
   },
   "outputs": [],
   "source": [
    "di = dirname(@__DIR__)"
   ]
  },
  {
   "cell_type": "code",
   "execution_count": null,
   "id": "aba44107",
   "metadata": {
    "execution": {
     "iopub.execute_input": "2022-02-14T15:18:35.196645Z",
     "iopub.status.busy": "2022-02-14T15:18:35.195764Z",
     "iopub.status.idle": "2022-02-14T15:18:35.198596Z",
     "shell.execute_reply": "2022-02-14T15:18:35.198216Z"
    }
   },
   "outputs": [],
   "source": [
    "dit = joinpath(homedir(), \"craft\", \"PkgRepository.jl\", \"TEMPLATE.jl\")"
   ]
  },
  {
   "cell_type": "code",
   "execution_count": null,
   "id": "121f406d",
   "metadata": {
    "execution": {
     "iopub.execute_input": "2022-02-14T15:18:35.200594Z",
     "iopub.status.busy": "2022-02-14T15:18:35.200026Z",
     "iopub.status.idle": "2022-02-14T15:18:35.717361Z",
     "shell.execute_reply": "2022-02-14T15:18:35.716974Z"
    }
   },
   "outputs": [],
   "source": [
    "try\n",
    "\n",
    "    OnePiece.templating.error_missing(dit, di)\n",
    "\n",
    "catch er\n",
    "\n",
    "    er\n",
    "\n",
    "end"
   ]
  },
  {
   "cell_type": "code",
   "execution_count": null,
   "id": "cd0a1d51",
   "metadata": {
    "execution": {
     "iopub.execute_input": "2022-02-14T15:18:35.719225Z",
     "iopub.status.busy": "2022-02-14T15:18:35.718720Z",
     "iopub.status.idle": "2022-02-14T15:18:35.780222Z",
     "shell.execute_reply": "2022-02-14T15:18:35.779798Z"
    }
   },
   "outputs": [],
   "source": [
    "OnePiece.templating.error_missing(dit, di; re_ = [\"TEMPLATE.jl\" => \"OnePiece.jl\"])"
   ]
  },
  {
   "cell_type": "code",
   "execution_count": null,
   "id": "135c0c00",
   "metadata": {
    "execution": {
     "iopub.execute_input": "2022-02-14T15:18:35.782493Z",
     "iopub.status.busy": "2022-02-14T15:18:35.781614Z",
     "iopub.status.idle": "2022-02-14T15:18:35.784037Z",
     "shell.execute_reply": "2022-02-14T15:18:35.783000Z"
    }
   },
   "outputs": [],
   "source": [
    "dit = joinpath(homedir(), \"craft\", \"PkgRepository.jl\")"
   ]
  },
  {
   "cell_type": "code",
   "execution_count": null,
   "id": "884520ad",
   "metadata": {
    "execution": {
     "iopub.execute_input": "2022-02-14T15:18:35.785808Z",
     "iopub.status.busy": "2022-02-14T15:18:35.785317Z",
     "iopub.status.idle": "2022-02-14T15:18:35.787655Z",
     "shell.execute_reply": "2022-02-14T15:18:35.787312Z"
    }
   },
   "outputs": [],
   "source": [
    "try\n",
    "\n",
    "    OnePiece.templating.error_missing(dit, di)\n",
    "\n",
    "catch er\n",
    "\n",
    "    er\n",
    "\n",
    "end"
   ]
  },
  {
   "cell_type": "code",
   "execution_count": null,
   "id": "b376b4b3",
   "metadata": {
    "execution": {
     "iopub.execute_input": "2022-02-14T15:18:35.789465Z",
     "iopub.status.busy": "2022-02-14T15:18:35.788980Z",
     "iopub.status.idle": "2022-02-14T15:18:35.838294Z",
     "shell.execute_reply": "2022-02-14T15:18:35.837906Z"
    }
   },
   "outputs": [],
   "source": [
    "OnePiece.templating.error_missing(\n",
    "    dit,\n",
    "    di;\n",
    "    ig_ = [r\"\\.ipynb_checkpoints\", r\"\\.git\", r\"src\", r\"TEMPLATE.jl\", r\"Comonicon.toml\", r\"deps\"],\n",
    ")"
   ]
  },
  {
   "cell_type": "markdown",
   "id": "0654acfb",
   "metadata": {},
   "source": [
    "## plan_transplant"
   ]
  },
  {
   "cell_type": "code",
   "execution_count": null,
   "id": "96364fc3",
   "metadata": {
    "execution": {
     "iopub.execute_input": "2022-02-14T15:18:35.840220Z",
     "iopub.status.busy": "2022-02-14T15:18:35.839730Z",
     "iopub.status.idle": "2022-02-14T15:18:37.051483Z",
     "shell.execute_reply": "2022-02-14T15:18:37.051107Z"
    }
   },
   "outputs": [],
   "source": [
    "OnePiece.templating.plan_transplant()"
   ]
  },
  {
   "cell_type": "markdown",
   "id": "13e9cd65",
   "metadata": {},
   "source": [
    "## plan_replacement"
   ]
  },
  {
   "cell_type": "code",
   "execution_count": null,
   "id": "8b46a1f9",
   "metadata": {
    "execution": {
     "iopub.execute_input": "2022-02-14T15:18:37.053323Z",
     "iopub.status.busy": "2022-02-14T15:18:37.052833Z",
     "iopub.status.idle": "2022-02-14T15:18:37.743903Z",
     "shell.execute_reply": "2022-02-14T15:18:37.743454Z"
    }
   },
   "outputs": [],
   "source": [
    "OnePiece.templating.plan_replacement(\"Big Mom\")"
   ]
  },
  {
   "cell_type": "markdown",
   "id": "69ad4519",
   "metadata": {},
   "source": [
    "## transplant"
   ]
  },
  {
   "cell_type": "code",
   "execution_count": null,
   "id": "28dfc4c2",
   "metadata": {
    "execution": {
     "iopub.execute_input": "2022-02-14T15:18:37.746076Z",
     "iopub.status.busy": "2022-02-14T15:18:37.745304Z",
     "iopub.status.idle": "2022-02-14T15:18:37.747987Z",
     "shell.execute_reply": "2022-02-14T15:18:37.746757Z"
    }
   },
   "outputs": [],
   "source": [
    "te = tempdir()"
   ]
  },
  {
   "cell_type": "code",
   "execution_count": null,
   "id": "e819d8da",
   "metadata": {
    "execution": {
     "iopub.execute_input": "2022-02-14T15:18:37.749805Z",
     "iopub.status.busy": "2022-02-14T15:18:37.749219Z",
     "iopub.status.idle": "2022-02-14T15:18:37.757372Z",
     "shell.execute_reply": "2022-02-14T15:18:37.756953Z"
    }
   },
   "outputs": [],
   "source": [
    "fit = joinpath(te, \"fit\")\n",
    "\n",
    "write(\n",
    "    fit,\n",
    "    \"# TEMPLATE\n",
    "--\n",
    "GIT_USER_NAME\n",
    "GIT_USER_EMAIL\n",
    "033e1703-1880-4940-9ddc-745bff01a2ac\n",
    "--\n",
    "(stuff)\n",
    "--\n",
    "ODA IS GENIUS.\",\n",
    ")\n",
    "\n",
    "println(read(fit, String))"
   ]
  },
  {
   "cell_type": "code",
   "execution_count": null,
   "id": "12b2ee72",
   "metadata": {
    "execution": {
     "iopub.execute_input": "2022-02-14T15:18:37.759322Z",
     "iopub.status.busy": "2022-02-14T15:18:37.758641Z",
     "iopub.status.idle": "2022-02-14T15:18:37.761121Z",
     "shell.execute_reply": "2022-02-14T15:18:37.760691Z"
    }
   },
   "outputs": [],
   "source": [
    "fi = joinpath(te, \"fi\")\n",
    "\n",
    "write(\n",
    "    fi,\n",
    "    \"(bad part)\n",
    "--\n",
    "(bad part)\n",
    "--\n",
    "GOOD STUFF\n",
    "--\n",
    "(bad part)\",\n",
    ")\n",
    "\n",
    "println(read(fi, String))"
   ]
  },
  {
   "cell_type": "code",
   "execution_count": null,
   "id": "7366635f",
   "metadata": {
    "execution": {
     "iopub.execute_input": "2022-02-14T15:18:37.762914Z",
     "iopub.status.busy": "2022-02-14T15:18:37.762349Z",
     "iopub.status.idle": "2022-02-14T15:18:38.002844Z",
     "shell.execute_reply": "2022-02-14T15:18:38.002389Z"
    }
   },
   "outputs": [],
   "source": [
    "OnePiece.templating.transplant(\n",
    "    fit,\n",
    "    fi,\n",
    "    \"--\",\n",
    "    [1, 1, 2, 1],\n",
    "    re_ = OnePiece.templating.plan_replacement(\"Katakuri\"),\n",
    ")\n",
    "\n",
    "println(read(fi, String))"
   ]
  },
  {
   "cell_type": "markdown",
   "id": "3f396855",
   "metadata": {},
   "source": [
    "---"
   ]
  },
  {
   "cell_type": "code",
   "execution_count": null,
   "id": "b4af2023",
   "metadata": {
    "execution": {
     "iopub.execute_input": "2022-02-14T15:18:38.004756Z",
     "iopub.status.busy": "2022-02-14T15:18:38.004195Z",
     "iopub.status.idle": "2022-02-14T15:18:38.006564Z",
     "shell.execute_reply": "2022-02-14T15:18:38.006133Z"
    }
   },
   "outputs": [],
   "source": [
    "if isdir(TE)\n",
    "\n",
    "    rm(TE, recursive = true)\n",
    "\n",
    "    println(\"Removed \", TE, \".\")\n",
    "\n",
    "end"
   ]
  }
 ],
 "metadata": {
  "kernelspec": {
   "display_name": "Julia 1.7.2",
   "language": "julia",
   "name": "julia-1.7"
  },
  "language_info": {
   "file_extension": ".jl",
   "mimetype": "application/julia",
   "name": "julia",
   "version": "1.7.2"
  }
 },
 "nbformat": 4,
 "nbformat_minor": 5
}
