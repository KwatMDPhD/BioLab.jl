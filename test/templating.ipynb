{
 "cells": [
  {
   "cell_type": "code",
   "execution_count": null,
   "id": "34e4701e",
   "metadata": {
    "execution": {
     "iopub.execute_input": "2022-02-09T05:32:25.252244Z",
     "iopub.status.busy": "2022-02-09T05:32:24.820902Z",
     "iopub.status.idle": "2022-02-09T05:32:26.327406Z",
     "shell.execute_reply": "2022-02-09T05:32:26.326811Z"
    }
   },
   "outputs": [],
   "source": [
    "using Revise\n",
    "using BenchmarkTools"
   ]
  },
  {
   "cell_type": "code",
   "execution_count": null,
   "id": "23b98853",
   "metadata": {
    "execution": {
     "iopub.execute_input": "2022-02-09T05:32:26.329627Z",
     "iopub.status.busy": "2022-02-09T05:32:26.328736Z",
     "iopub.status.idle": "2022-02-09T05:32:38.697108Z",
     "shell.execute_reply": "2022-02-09T05:32:38.696453Z"
    }
   },
   "outputs": [],
   "source": [
    "using OnePiece"
   ]
  },
  {
   "cell_type": "markdown",
   "id": "ae39cefa",
   "metadata": {},
   "source": [
    "## error_missing"
   ]
  },
  {
   "cell_type": "code",
   "execution_count": null,
   "id": "f14e1c5a",
   "metadata": {
    "execution": {
     "iopub.execute_input": "2022-02-09T05:32:40.582102Z",
     "iopub.status.busy": "2022-02-09T05:32:38.699150Z",
     "iopub.status.idle": "2022-02-09T05:32:41.973781Z",
     "shell.execute_reply": "2022-02-09T05:32:41.973315Z"
    }
   },
   "outputs": [],
   "source": [
    "di = dirname(@__DIR__)"
   ]
  },
  {
   "cell_type": "code",
   "execution_count": null,
   "id": "aba44107",
   "metadata": {
    "execution": {
     "iopub.execute_input": "2022-02-09T05:32:41.975704Z",
     "iopub.status.busy": "2022-02-09T05:32:41.975069Z",
     "iopub.status.idle": "2022-02-09T05:32:41.989255Z",
     "shell.execute_reply": "2022-02-09T05:32:41.988769Z"
    }
   },
   "outputs": [],
   "source": [
    "dit = joinpath(homedir(), \"craft\", \"PkgRepository.jl\", \"TEMPLATE.jl\")"
   ]
  },
  {
   "cell_type": "code",
   "execution_count": null,
   "id": "121f406d",
   "metadata": {
    "execution": {
     "iopub.execute_input": "2022-02-09T05:32:41.991658Z",
     "iopub.status.busy": "2022-02-09T05:32:41.990851Z",
     "iopub.status.idle": "2022-02-09T05:32:42.457291Z",
     "shell.execute_reply": "2022-02-09T05:32:42.456826Z"
    }
   },
   "outputs": [],
   "source": [
    "try\n",
    "\n",
    "    OnePiece.templating.error_missing(dit, di)\n",
    "\n",
    "catch er\n",
    "\n",
    "    er\n",
    "\n",
    "end"
   ]
  },
  {
   "cell_type": "code",
   "execution_count": null,
   "id": "cd0a1d51",
   "metadata": {
    "execution": {
     "iopub.execute_input": "2022-02-09T05:32:42.459115Z",
     "iopub.status.busy": "2022-02-09T05:32:42.458534Z",
     "iopub.status.idle": "2022-02-09T05:32:42.550451Z",
     "shell.execute_reply": "2022-02-09T05:32:42.549851Z"
    }
   },
   "outputs": [],
   "source": [
    "OnePiece.templating.error_missing(dit, di; re_ = [\"TEMPLATE.jl\" => \"OnePiece.jl\"])"
   ]
  },
  {
   "cell_type": "code",
   "execution_count": null,
   "id": "135c0c00",
   "metadata": {
    "execution": {
     "iopub.execute_input": "2022-02-09T05:32:42.552576Z",
     "iopub.status.busy": "2022-02-09T05:32:42.551855Z",
     "iopub.status.idle": "2022-02-09T05:32:42.566717Z",
     "shell.execute_reply": "2022-02-09T05:32:42.566182Z"
    }
   },
   "outputs": [],
   "source": [
    "dit = joinpath(homedir(), \"craft\", \"PkgRepository.jl\")"
   ]
  },
  {
   "cell_type": "code",
   "execution_count": null,
   "id": "884520ad",
   "metadata": {
    "execution": {
     "iopub.execute_input": "2022-02-09T05:32:42.569080Z",
     "iopub.status.busy": "2022-02-09T05:32:42.568450Z",
     "iopub.status.idle": "2022-02-09T05:32:42.582758Z",
     "shell.execute_reply": "2022-02-09T05:32:42.582243Z"
    }
   },
   "outputs": [],
   "source": [
    "try\n",
    "\n",
    "    OnePiece.templating.error_missing(dit, di)\n",
    "\n",
    "catch er\n",
    "\n",
    "    er\n",
    "\n",
    "end"
   ]
  },
  {
   "cell_type": "code",
   "execution_count": null,
   "id": "b376b4b3",
   "metadata": {
    "execution": {
     "iopub.execute_input": "2022-02-09T05:32:42.584664Z",
     "iopub.status.busy": "2022-02-09T05:32:42.584070Z",
     "iopub.status.idle": "2022-02-09T05:32:42.679698Z",
     "shell.execute_reply": "2022-02-09T05:32:42.679051Z"
    }
   },
   "outputs": [],
   "source": [
    "OnePiece.templating.error_missing(\n",
    "    dit,\n",
    "    di;\n",
    "    ig_ = [r\"\\.ipynb_checkpoints\", r\"\\.git\", r\"src\", r\"TEMPLATE.jl\", r\"Comonicon.toml\", r\"deps\"],\n",
    ")"
   ]
  },
  {
   "cell_type": "markdown",
   "id": "0654acfb",
   "metadata": {},
   "source": [
    "## plan_transplant"
   ]
  },
  {
   "cell_type": "code",
   "execution_count": null,
   "id": "96364fc3",
   "metadata": {
    "execution": {
     "iopub.execute_input": "2022-02-09T05:32:42.681791Z",
     "iopub.status.busy": "2022-02-09T05:32:42.681192Z",
     "iopub.status.idle": "2022-02-09T05:32:44.266029Z",
     "shell.execute_reply": "2022-02-09T05:32:44.265539Z"
    }
   },
   "outputs": [],
   "source": [
    "OnePiece.templating.plan_transplant()"
   ]
  },
  {
   "cell_type": "markdown",
   "id": "13e9cd65",
   "metadata": {},
   "source": [
    "## plan_replacement"
   ]
  },
  {
   "cell_type": "code",
   "execution_count": null,
   "id": "8b46a1f9",
   "metadata": {
    "execution": {
     "iopub.execute_input": "2022-02-09T05:32:44.267962Z",
     "iopub.status.busy": "2022-02-09T05:32:44.267388Z",
     "iopub.status.idle": "2022-02-09T05:32:45.091126Z",
     "shell.execute_reply": "2022-02-09T05:32:45.090664Z"
    }
   },
   "outputs": [],
   "source": [
    "OnePiece.templating.plan_replacement(\"Big Mom\")"
   ]
  },
  {
   "cell_type": "markdown",
   "id": "69ad4519",
   "metadata": {},
   "source": [
    "## transplant"
   ]
  },
  {
   "cell_type": "code",
   "execution_count": null,
   "id": "28dfc4c2",
   "metadata": {
    "execution": {
     "iopub.execute_input": "2022-02-09T05:32:45.093065Z",
     "iopub.status.busy": "2022-02-09T05:32:45.092476Z",
     "iopub.status.idle": "2022-02-09T05:32:45.106396Z",
     "shell.execute_reply": "2022-02-09T05:32:45.105937Z"
    }
   },
   "outputs": [],
   "source": [
    "te = tempdir()"
   ]
  },
  {
   "cell_type": "code",
   "execution_count": null,
   "id": "e819d8da",
   "metadata": {
    "execution": {
     "iopub.execute_input": "2022-02-09T05:32:45.108291Z",
     "iopub.status.busy": "2022-02-09T05:32:45.107695Z",
     "iopub.status.idle": "2022-02-09T05:32:45.140072Z",
     "shell.execute_reply": "2022-02-09T05:32:45.139594Z"
    }
   },
   "outputs": [],
   "source": [
    "fit = joinpath(te, \"fit\")\n",
    "\n",
    "write(\n",
    "    fit,\n",
    "    \"# TEMPLATE\n",
    "--\n",
    "GIT_USER_NAME\n",
    "GIT_USER_EMAIL\n",
    "033e1703-1880-4940-9ddc-745bff01a2ac\n",
    "--\n",
    "(stuff)\n",
    "--\n",
    "ODA IS GENIUS.\",\n",
    ")\n",
    "\n",
    "println(read(fit, String))"
   ]
  },
  {
   "cell_type": "code",
   "execution_count": null,
   "id": "12b2ee72",
   "metadata": {
    "execution": {
     "iopub.execute_input": "2022-02-09T05:32:45.141944Z",
     "iopub.status.busy": "2022-02-09T05:32:45.141364Z",
     "iopub.status.idle": "2022-02-09T05:32:45.156131Z",
     "shell.execute_reply": "2022-02-09T05:32:45.155671Z"
    }
   },
   "outputs": [],
   "source": [
    "fi = joinpath(te, \"fi\")\n",
    "\n",
    "write(\n",
    "    fi,\n",
    "    \"(bad part)\n",
    "--\n",
    "(bad part)\n",
    "--\n",
    "GOOD STUFF\n",
    "--\n",
    "(bad part)\",\n",
    ")\n",
    "\n",
    "println(read(fi, String))"
   ]
  },
  {
   "cell_type": "code",
   "execution_count": null,
   "id": "7366635f",
   "metadata": {
    "execution": {
     "iopub.execute_input": "2022-02-09T05:32:45.158013Z",
     "iopub.status.busy": "2022-02-09T05:32:45.157425Z",
     "iopub.status.idle": "2022-02-09T05:32:45.443755Z",
     "shell.execute_reply": "2022-02-09T05:32:45.443217Z"
    }
   },
   "outputs": [],
   "source": [
    "OnePiece.templating.transplant(\n",
    "    fit,\n",
    "    fi,\n",
    "    \"--\",\n",
    "    [1, 1, 2, 1],\n",
    "    OnePiece.templating.plan_replacement(\"Katakuri\"),\n",
    ")\n",
    "\n",
    "println(read(fi, String))"
   ]
  }
 ],
 "metadata": {
  "@webio": {
   "lastCommId": "36eec5678e4849fa83f0059a02d162d9",
   "lastKernelId": "3f9b4f05-8df6-4ea6-b25f-2bd22e8f7694"
  },
  "kernelspec": {
   "display_name": "Julia 1.7.2",
   "language": "julia",
   "name": "julia-1.7"
  },
  "language_info": {
   "file_extension": ".jl",
   "mimetype": "application/julia",
   "name": "julia",
   "version": "1.7.2"
  }
 },
 "nbformat": 4,
 "nbformat_minor": 5
}
