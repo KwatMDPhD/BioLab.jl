{
 "cells": [
  {
   "cell_type": "code",
   "execution_count": null,
   "id": "017464da",
   "metadata": {},
   "outputs": [],
   "source": [
    "TE = joinpath(tempdir(), \"OnePiece.test\")\n",
    "\n",
    "mkpath(TE)"
   ]
  },
  {
   "cell_type": "code",
   "execution_count": 1,
   "id": "34e4701e",
   "metadata": {
    "execution": {
     "iopub.execute_input": "2022-02-10T17:51:23.590384Z",
     "iopub.status.busy": "2022-02-10T17:51:23.250154Z",
     "iopub.status.idle": "2022-02-10T17:51:24.482021Z",
     "shell.execute_reply": "2022-02-10T17:51:24.481306Z"
    }
   },
   "outputs": [],
   "source": [
    "#using Revise\n",
    "using BenchmarkTools\n",
    "\n",
    "using OnePiece"
   ]
  },
  {
   "cell_type": "markdown",
   "id": "ae39cefa",
   "metadata": {},
   "source": [
    "## error_missing"
   ]
  },
  {
   "cell_type": "code",
   "execution_count": null,
   "id": "f14e1c5a",
   "metadata": {
    "execution": {
     "iopub.execute_input": "2022-02-10T19:09:25.252615Z",
     "iopub.status.busy": "2022-02-10T19:09:24.786573Z",
     "iopub.status.idle": "2022-02-10T19:09:25.319138Z",
     "shell.execute_reply": "2022-02-10T19:09:25.318738Z"
    }
   },
   "outputs": [],
   "source": [
    "di = dirname(@__DIR__)"
   ]
  },
  {
   "cell_type": "code",
   "execution_count": null,
   "id": "aba44107",
   "metadata": {
    "execution": {
     "iopub.execute_input": "2022-02-10T19:09:25.321153Z",
     "iopub.status.busy": "2022-02-10T19:09:25.320455Z",
     "iopub.status.idle": "2022-02-10T19:09:25.322682Z",
     "shell.execute_reply": "2022-02-10T19:09:25.321682Z"
    }
   },
   "outputs": [],
   "source": [
    "dit = joinpath(homedir(), \"craft\", \"PkgRepository.jl\", \"TEMPLATE.jl\")"
   ]
  },
  {
   "cell_type": "code",
   "execution_count": null,
   "id": "121f406d",
   "metadata": {
    "execution": {
     "iopub.execute_input": "2022-02-10T19:09:25.324489Z",
     "iopub.status.busy": "2022-02-10T19:09:25.323943Z",
     "iopub.status.idle": "2022-02-10T19:09:25.986913Z",
     "shell.execute_reply": "2022-02-10T19:09:25.986528Z"
    }
   },
   "outputs": [],
   "source": [
    "try\n",
    "\n",
    "    OnePiece.templating.error_missing(dit, di)\n",
    "\n",
    "catch er\n",
    "\n",
    "    er\n",
    "\n",
    "end"
   ]
  },
  {
   "cell_type": "code",
   "execution_count": null,
   "id": "cd0a1d51",
   "metadata": {
    "execution": {
     "iopub.execute_input": "2022-02-10T19:09:25.988759Z",
     "iopub.status.busy": "2022-02-10T19:09:25.988261Z",
     "iopub.status.idle": "2022-02-10T19:09:26.060723Z",
     "shell.execute_reply": "2022-02-10T19:09:26.059851Z"
    }
   },
   "outputs": [],
   "source": [
    "OnePiece.templating.error_missing(dit, di; re_ = [\"TEMPLATE.jl\" => \"OnePiece.jl\"])"
   ]
  },
  {
   "cell_type": "code",
   "execution_count": null,
   "id": "135c0c00",
   "metadata": {
    "execution": {
     "iopub.execute_input": "2022-02-10T19:09:26.064458Z",
     "iopub.status.busy": "2022-02-10T19:09:26.063410Z",
     "iopub.status.idle": "2022-02-10T19:09:26.066394Z",
     "shell.execute_reply": "2022-02-10T19:09:26.065242Z"
    }
   },
   "outputs": [],
   "source": [
    "dit = joinpath(homedir(), \"craft\", \"PkgRepository.jl\")"
   ]
  },
  {
   "cell_type": "code",
   "execution_count": null,
   "id": "884520ad",
   "metadata": {
    "execution": {
     "iopub.execute_input": "2022-02-10T19:09:26.069162Z",
     "iopub.status.busy": "2022-02-10T19:09:26.067880Z",
     "iopub.status.idle": "2022-02-10T19:09:26.071246Z",
     "shell.execute_reply": "2022-02-10T19:09:26.070830Z"
    }
   },
   "outputs": [],
   "source": [
    "try\n",
    "\n",
    "    OnePiece.templating.error_missing(dit, di)\n",
    "\n",
    "catch er\n",
    "\n",
    "    er\n",
    "\n",
    "end"
   ]
  },
  {
   "cell_type": "code",
   "execution_count": null,
   "id": "b376b4b3",
   "metadata": {
    "execution": {
     "iopub.execute_input": "2022-02-10T19:09:26.073125Z",
     "iopub.status.busy": "2022-02-10T19:09:26.072538Z",
     "iopub.status.idle": "2022-02-10T19:09:26.181337Z",
     "shell.execute_reply": "2022-02-10T19:09:26.180929Z"
    }
   },
   "outputs": [],
   "source": [
    "OnePiece.templating.error_missing(\n",
    "    dit,\n",
    "    di;\n",
    "    ig_ = [r\"\\.ipynb_checkpoints\", r\"\\.git\", r\"src\", r\"TEMPLATE.jl\", r\"Comonicon.toml\", r\"deps\"],\n",
    ")"
   ]
  },
  {
   "cell_type": "markdown",
   "id": "0654acfb",
   "metadata": {},
   "source": [
    "## plan_transplant"
   ]
  },
  {
   "cell_type": "code",
   "execution_count": null,
   "id": "96364fc3",
   "metadata": {
    "execution": {
     "iopub.execute_input": "2022-02-10T19:09:26.183238Z",
     "iopub.status.busy": "2022-02-10T19:09:26.182684Z",
     "iopub.status.idle": "2022-02-10T19:09:27.534439Z",
     "shell.execute_reply": "2022-02-10T19:09:27.533937Z"
    }
   },
   "outputs": [],
   "source": [
    "OnePiece.templating.plan_transplant()"
   ]
  },
  {
   "cell_type": "markdown",
   "id": "13e9cd65",
   "metadata": {},
   "source": [
    "## plan_replacement"
   ]
  },
  {
   "cell_type": "code",
   "execution_count": null,
   "id": "8b46a1f9",
   "metadata": {
    "execution": {
     "iopub.execute_input": "2022-02-10T19:09:27.536595Z",
     "iopub.status.busy": "2022-02-10T19:09:27.536007Z",
     "iopub.status.idle": "2022-02-10T19:09:28.332190Z",
     "shell.execute_reply": "2022-02-10T19:09:28.331748Z"
    }
   },
   "outputs": [],
   "source": [
    "OnePiece.templating.plan_replacement(\"Big Mom\")"
   ]
  },
  {
   "cell_type": "markdown",
   "id": "69ad4519",
   "metadata": {},
   "source": [
    "## transplant"
   ]
  },
  {
   "cell_type": "code",
   "execution_count": null,
   "id": "28dfc4c2",
   "metadata": {
    "execution": {
     "iopub.execute_input": "2022-02-10T19:09:28.334344Z",
     "iopub.status.busy": "2022-02-10T19:09:28.333550Z",
     "iopub.status.idle": "2022-02-10T19:09:28.335996Z",
     "shell.execute_reply": "2022-02-10T19:09:28.335598Z"
    }
   },
   "outputs": [],
   "source": [
    "te = tempdir()"
   ]
  },
  {
   "cell_type": "code",
   "execution_count": null,
   "id": "e819d8da",
   "metadata": {
    "execution": {
     "iopub.execute_input": "2022-02-10T19:09:28.337643Z",
     "iopub.status.busy": "2022-02-10T19:09:28.337115Z",
     "iopub.status.idle": "2022-02-10T19:09:28.357311Z",
     "shell.execute_reply": "2022-02-10T19:09:28.356910Z"
    }
   },
   "outputs": [],
   "source": [
    "fit = joinpath(te, \"fit\")\n",
    "\n",
    "write(\n",
    "    fit,\n",
    "    \"# TEMPLATE\n",
    "--\n",
    "GIT_USER_NAME\n",
    "GIT_USER_EMAIL\n",
    "033e1703-1880-4940-9ddc-745bff01a2ac\n",
    "--\n",
    "(stuff)\n",
    "--\n",
    "ODA IS GENIUS.\",\n",
    ")\n",
    "\n",
    "println(read(fit, String))"
   ]
  },
  {
   "cell_type": "code",
   "execution_count": null,
   "id": "12b2ee72",
   "metadata": {
    "execution": {
     "iopub.execute_input": "2022-02-10T19:09:28.359060Z",
     "iopub.status.busy": "2022-02-10T19:09:28.358505Z",
     "iopub.status.idle": "2022-02-10T19:09:28.361022Z",
     "shell.execute_reply": "2022-02-10T19:09:28.360656Z"
    }
   },
   "outputs": [],
   "source": [
    "fi = joinpath(te, \"fi\")\n",
    "\n",
    "write(\n",
    "    fi,\n",
    "    \"(bad part)\n",
    "--\n",
    "(bad part)\n",
    "--\n",
    "GOOD STUFF\n",
    "--\n",
    "(bad part)\",\n",
    ")\n",
    "\n",
    "println(read(fi, String))"
   ]
  },
  {
   "cell_type": "code",
   "execution_count": null,
   "id": "7366635f",
   "metadata": {
    "execution": {
     "iopub.execute_input": "2022-02-10T19:09:28.362920Z",
     "iopub.status.busy": "2022-02-10T19:09:28.362261Z",
     "iopub.status.idle": "2022-02-10T19:09:28.617051Z",
     "shell.execute_reply": "2022-02-10T19:09:28.616667Z"
    }
   },
   "outputs": [],
   "source": [
    "OnePiece.templating.transplant(\n",
    "    fit,\n",
    "    fi,\n",
    "    \"--\",\n",
    "    [1, 1, 2, 1],\n",
    "    OnePiece.templating.plan_replacement(\"Katakuri\"),\n",
    ")\n",
    "\n",
    "println(read(fi, String))"
   ]
  }
 ],
 "metadata": {
  "@webio": {
   "lastCommId": "36eec5678e4849fa83f0059a02d162d9",
   "lastKernelId": "3f9b4f05-8df6-4ea6-b25f-2bd22e8f7694"
  },
  "kernelspec": {
   "display_name": "Julia 1.7.2",
   "language": "julia",
   "name": "julia-1.7"
  },
  "language_info": {
   "file_extension": ".jl",
   "mimetype": "application/julia",
   "name": "julia",
   "version": "1.7.2"
  }
 },
 "nbformat": 4,
 "nbformat_minor": 5
}
