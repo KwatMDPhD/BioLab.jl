{
 "cells": [
  {
   "cell_type": "code",
   "execution_count": null,
   "id": "017464da",
   "metadata": {
    "execution": {
     "iopub.execute_input": "2022-02-13T05:20:05.552297Z",
     "iopub.status.busy": "2022-02-13T05:20:05.170618Z",
     "iopub.status.idle": "2022-02-13T05:20:05.761383Z",
     "shell.execute_reply": "2022-02-13T05:20:05.760804Z"
    }
   },
   "outputs": [],
   "source": [
    "TE = joinpath(tempdir(), \"OnePiece.test\")\n",
    "\n",
    "if isdir(TE)\n",
    "\n",
    "    rm(TE, recursive = true)\n",
    "\n",
    "    println(\"Removed \", TE, \".\")\n",
    "\n",
    "end\n",
    "\n",
    "mkdir(TE)\n",
    "\n",
    "println(\"Made \", TE, \".\")"
   ]
  },
  {
   "cell_type": "code",
   "execution_count": null,
   "id": "34e4701e",
   "metadata": {
    "execution": {
     "iopub.execute_input": "2022-02-13T05:20:05.763333Z",
     "iopub.status.busy": "2022-02-13T05:20:05.762760Z",
     "iopub.status.idle": "2022-02-13T05:20:10.460130Z",
     "shell.execute_reply": "2022-02-13T05:20:10.459678Z"
    }
   },
   "outputs": [],
   "source": [
    "using OnePiece"
   ]
  },
  {
   "cell_type": "markdown",
   "id": "b92a3da9",
   "metadata": {},
   "source": [
    "---"
   ]
  },
  {
   "cell_type": "markdown",
   "id": "ae39cefa",
   "metadata": {},
   "source": [
    "## error_missing"
   ]
  },
  {
   "cell_type": "code",
   "execution_count": null,
   "id": "f14e1c5a",
   "metadata": {
    "execution": {
     "iopub.execute_input": "2022-02-13T05:20:10.826855Z",
     "iopub.status.busy": "2022-02-13T05:20:10.461773Z",
     "iopub.status.idle": "2022-02-13T05:20:11.557833Z",
     "shell.execute_reply": "2022-02-13T05:20:11.557377Z"
    }
   },
   "outputs": [],
   "source": [
    "di = dirname(@__DIR__)"
   ]
  },
  {
   "cell_type": "code",
   "execution_count": null,
   "id": "aba44107",
   "metadata": {
    "execution": {
     "iopub.execute_input": "2022-02-13T05:20:11.559770Z",
     "iopub.status.busy": "2022-02-13T05:20:11.559142Z",
     "iopub.status.idle": "2022-02-13T05:20:11.561586Z",
     "shell.execute_reply": "2022-02-13T05:20:11.561143Z"
    }
   },
   "outputs": [],
   "source": [
    "dit = joinpath(homedir(), \"craft\", \"PkgRepository.jl\", \"TEMPLATE.jl\")"
   ]
  },
  {
   "cell_type": "code",
   "execution_count": null,
   "id": "121f406d",
   "metadata": {
    "execution": {
     "iopub.execute_input": "2022-02-13T05:20:11.563445Z",
     "iopub.status.busy": "2022-02-13T05:20:11.562858Z",
     "iopub.status.idle": "2022-02-13T05:20:12.167494Z",
     "shell.execute_reply": "2022-02-13T05:20:12.166963Z"
    }
   },
   "outputs": [],
   "source": [
    "try\n",
    "\n",
    "    OnePiece.templating.error_missing(dit, di)\n",
    "\n",
    "catch er\n",
    "\n",
    "    er\n",
    "\n",
    "end"
   ]
  },
  {
   "cell_type": "code",
   "execution_count": null,
   "id": "cd0a1d51",
   "metadata": {
    "execution": {
     "iopub.execute_input": "2022-02-13T05:20:12.169494Z",
     "iopub.status.busy": "2022-02-13T05:20:12.168856Z",
     "iopub.status.idle": "2022-02-13T05:20:12.238090Z",
     "shell.execute_reply": "2022-02-13T05:20:12.237575Z"
    }
   },
   "outputs": [],
   "source": [
    "OnePiece.templating.error_missing(dit, di; re_ = [\"TEMPLATE.jl\" => \"OnePiece.jl\"])"
   ]
  },
  {
   "cell_type": "code",
   "execution_count": null,
   "id": "135c0c00",
   "metadata": {
    "execution": {
     "iopub.execute_input": "2022-02-13T05:20:12.240026Z",
     "iopub.status.busy": "2022-02-13T05:20:12.239390Z",
     "iopub.status.idle": "2022-02-13T05:20:12.241844Z",
     "shell.execute_reply": "2022-02-13T05:20:12.241342Z"
    }
   },
   "outputs": [],
   "source": [
    "dit = joinpath(homedir(), \"craft\", \"PkgRepository.jl\")"
   ]
  },
  {
   "cell_type": "code",
   "execution_count": null,
   "id": "884520ad",
   "metadata": {
    "execution": {
     "iopub.execute_input": "2022-02-13T05:20:12.243650Z",
     "iopub.status.busy": "2022-02-13T05:20:12.243069Z",
     "iopub.status.idle": "2022-02-13T05:20:12.245592Z",
     "shell.execute_reply": "2022-02-13T05:20:12.245142Z"
    }
   },
   "outputs": [],
   "source": [
    "try\n",
    "\n",
    "    OnePiece.templating.error_missing(dit, di)\n",
    "\n",
    "catch er\n",
    "\n",
    "    er\n",
    "\n",
    "end"
   ]
  },
  {
   "cell_type": "code",
   "execution_count": null,
   "id": "b376b4b3",
   "metadata": {
    "execution": {
     "iopub.execute_input": "2022-02-13T05:20:12.247385Z",
     "iopub.status.busy": "2022-02-13T05:20:12.246799Z",
     "iopub.status.idle": "2022-02-13T05:20:12.328169Z",
     "shell.execute_reply": "2022-02-13T05:20:12.327651Z"
    }
   },
   "outputs": [],
   "source": [
    "OnePiece.templating.error_missing(\n",
    "    dit,\n",
    "    di;\n",
    "    ig_ = [r\"\\.ipynb_checkpoints\", r\"\\.git\", r\"src\", r\"TEMPLATE.jl\", r\"Comonicon.toml\", r\"deps\"],\n",
    ")"
   ]
  },
  {
   "cell_type": "markdown",
   "id": "0654acfb",
   "metadata": {},
   "source": [
    "## plan_transplant"
   ]
  },
  {
   "cell_type": "code",
   "execution_count": null,
   "id": "96364fc3",
   "metadata": {
    "execution": {
     "iopub.execute_input": "2022-02-13T05:20:12.330088Z",
     "iopub.status.busy": "2022-02-13T05:20:12.329519Z",
     "iopub.status.idle": "2022-02-13T05:20:13.721686Z",
     "shell.execute_reply": "2022-02-13T05:20:13.721237Z"
    }
   },
   "outputs": [],
   "source": [
    "OnePiece.templating.plan_transplant()"
   ]
  },
  {
   "cell_type": "markdown",
   "id": "13e9cd65",
   "metadata": {},
   "source": [
    "## plan_replacement"
   ]
  },
  {
   "cell_type": "code",
   "execution_count": null,
   "id": "8b46a1f9",
   "metadata": {
    "execution": {
     "iopub.execute_input": "2022-02-13T05:20:13.723598Z",
     "iopub.status.busy": "2022-02-13T05:20:13.723025Z",
     "iopub.status.idle": "2022-02-13T05:20:14.521503Z",
     "shell.execute_reply": "2022-02-13T05:20:14.521056Z"
    }
   },
   "outputs": [],
   "source": [
    "OnePiece.templating.plan_replacement(\"Big Mom\")"
   ]
  },
  {
   "cell_type": "markdown",
   "id": "69ad4519",
   "metadata": {},
   "source": [
    "## transplant"
   ]
  },
  {
   "cell_type": "code",
   "execution_count": null,
   "id": "28dfc4c2",
   "metadata": {
    "execution": {
     "iopub.execute_input": "2022-02-13T05:20:14.523601Z",
     "iopub.status.busy": "2022-02-13T05:20:14.522843Z",
     "iopub.status.idle": "2022-02-13T05:20:14.525379Z",
     "shell.execute_reply": "2022-02-13T05:20:14.524212Z"
    }
   },
   "outputs": [],
   "source": [
    "te = tempdir()"
   ]
  },
  {
   "cell_type": "code",
   "execution_count": null,
   "id": "e819d8da",
   "metadata": {
    "execution": {
     "iopub.execute_input": "2022-02-13T05:20:14.527250Z",
     "iopub.status.busy": "2022-02-13T05:20:14.526661Z",
     "iopub.status.idle": "2022-02-13T05:20:14.534856Z",
     "shell.execute_reply": "2022-02-13T05:20:14.534443Z"
    }
   },
   "outputs": [],
   "source": [
    "fit = joinpath(te, \"fit\")\n",
    "\n",
    "write(\n",
    "    fit,\n",
    "    \"# TEMPLATE\n",
    "--\n",
    "GIT_USER_NAME\n",
    "GIT_USER_EMAIL\n",
    "033e1703-1880-4940-9ddc-745bff01a2ac\n",
    "--\n",
    "(stuff)\n",
    "--\n",
    "ODA IS GENIUS.\",\n",
    ")\n",
    "\n",
    "println(read(fit, String))"
   ]
  },
  {
   "cell_type": "code",
   "execution_count": null,
   "id": "12b2ee72",
   "metadata": {
    "execution": {
     "iopub.execute_input": "2022-02-13T05:20:14.536706Z",
     "iopub.status.busy": "2022-02-13T05:20:14.536126Z",
     "iopub.status.idle": "2022-02-13T05:20:14.538535Z",
     "shell.execute_reply": "2022-02-13T05:20:14.538096Z"
    }
   },
   "outputs": [],
   "source": [
    "fi = joinpath(te, \"fi\")\n",
    "\n",
    "write(\n",
    "    fi,\n",
    "    \"(bad part)\n",
    "--\n",
    "(bad part)\n",
    "--\n",
    "GOOD STUFF\n",
    "--\n",
    "(bad part)\",\n",
    ")\n",
    "\n",
    "println(read(fi, String))"
   ]
  },
  {
   "cell_type": "code",
   "execution_count": null,
   "id": "7366635f",
   "metadata": {
    "execution": {
     "iopub.execute_input": "2022-02-13T05:20:14.540352Z",
     "iopub.status.busy": "2022-02-13T05:20:14.539787Z",
     "iopub.status.idle": "2022-02-13T05:20:14.784979Z",
     "shell.execute_reply": "2022-02-13T05:20:14.784486Z"
    }
   },
   "outputs": [],
   "source": [
    "OnePiece.templating.transplant(\n",
    "    fit,\n",
    "    fi,\n",
    "    \"--\",\n",
    "    [1, 1, 2, 1],\n",
    "    re_ = OnePiece.templating.plan_replacement(\"Katakuri\"),\n",
    ")\n",
    "\n",
    "println(read(fi, String))"
   ]
  },
  {
   "cell_type": "markdown",
   "id": "3f396855",
   "metadata": {},
   "source": [
    "---"
   ]
  },
  {
   "cell_type": "code",
   "execution_count": null,
   "id": "b4af2023",
   "metadata": {
    "execution": {
     "iopub.execute_input": "2022-02-13T05:20:14.787001Z",
     "iopub.status.busy": "2022-02-13T05:20:14.786407Z",
     "iopub.status.idle": "2022-02-13T05:20:14.788861Z",
     "shell.execute_reply": "2022-02-13T05:20:14.788407Z"
    }
   },
   "outputs": [],
   "source": [
    "if isdir(TE)\n",
    "\n",
    "    rm(TE, recursive = true)\n",
    "\n",
    "    println(\"Removed \", TE, \".\")\n",
    "\n",
    "end"
   ]
  }
 ],
 "metadata": {
  "kernelspec": {
   "display_name": "Julia 1.7.2",
   "language": "julia",
   "name": "julia-1.7"
  },
  "language_info": {
   "file_extension": ".jl",
   "mimetype": "application/julia",
   "name": "julia",
   "version": "1.7.2"
  }
 },
 "nbformat": 4,
 "nbformat_minor": 5
}
