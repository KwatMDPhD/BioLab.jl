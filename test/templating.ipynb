{
 "cells": [
  {
   "cell_type": "code",
   "execution_count": null,
   "id": "017464da",
   "metadata": {
    "execution": {
     "iopub.execute_input": "2022-02-13T21:49:36.998981Z",
     "iopub.status.busy": "2022-02-13T21:49:36.639964Z",
     "iopub.status.idle": "2022-02-13T21:49:37.198825Z",
     "shell.execute_reply": "2022-02-13T21:49:37.198329Z"
    }
   },
   "outputs": [],
   "source": [
    "TE = joinpath(tempdir(), \"OnePiece.test\")\n",
    "\n",
    "if isdir(TE)\n",
    "\n",
    "    rm(TE, recursive = true)\n",
    "\n",
    "    println(\"Removed \", TE, \".\")\n",
    "\n",
    "end\n",
    "\n",
    "mkdir(TE)\n",
    "\n",
    "println(\"Made \", TE, \".\")"
   ]
  },
  {
   "cell_type": "code",
   "execution_count": null,
   "id": "34e4701e",
   "metadata": {
    "execution": {
     "iopub.execute_input": "2022-02-13T21:49:37.200756Z",
     "iopub.status.busy": "2022-02-13T21:49:37.200245Z",
     "iopub.status.idle": "2022-02-13T21:49:41.546779Z",
     "shell.execute_reply": "2022-02-13T21:49:41.545558Z"
    }
   },
   "outputs": [],
   "source": [
    "using OnePiece"
   ]
  },
  {
   "cell_type": "markdown",
   "id": "b92a3da9",
   "metadata": {},
   "source": [
    "---"
   ]
  },
  {
   "cell_type": "markdown",
   "id": "ae39cefa",
   "metadata": {},
   "source": [
    "## error_missing"
   ]
  },
  {
   "cell_type": "code",
   "execution_count": null,
   "id": "f14e1c5a",
   "metadata": {
    "execution": {
     "iopub.execute_input": "2022-02-13T21:49:41.867199Z",
     "iopub.status.busy": "2022-02-13T21:49:41.548124Z",
     "iopub.status.idle": "2022-02-13T21:49:42.535347Z",
     "shell.execute_reply": "2022-02-13T21:49:42.534947Z"
    }
   },
   "outputs": [],
   "source": [
    "di = dirname(@__DIR__)"
   ]
  },
  {
   "cell_type": "code",
   "execution_count": null,
   "id": "aba44107",
   "metadata": {
    "execution": {
     "iopub.execute_input": "2022-02-13T21:49:42.537992Z",
     "iopub.status.busy": "2022-02-13T21:49:42.537216Z",
     "iopub.status.idle": "2022-02-13T21:49:42.540135Z",
     "shell.execute_reply": "2022-02-13T21:49:42.539612Z"
    }
   },
   "outputs": [],
   "source": [
    "dit = joinpath(homedir(), \"craft\", \"PkgRepository.jl\", \"TEMPLATE.jl\")"
   ]
  },
  {
   "cell_type": "code",
   "execution_count": null,
   "id": "121f406d",
   "metadata": {
    "execution": {
     "iopub.execute_input": "2022-02-13T21:49:42.541941Z",
     "iopub.status.busy": "2022-02-13T21:49:42.541342Z",
     "iopub.status.idle": "2022-02-13T21:49:43.116880Z",
     "shell.execute_reply": "2022-02-13T21:49:43.116492Z"
    }
   },
   "outputs": [],
   "source": [
    "try\n",
    "\n",
    "    OnePiece.templating.error_missing(dit, di)\n",
    "\n",
    "catch er\n",
    "\n",
    "    er\n",
    "\n",
    "end"
   ]
  },
  {
   "cell_type": "code",
   "execution_count": null,
   "id": "cd0a1d51",
   "metadata": {
    "execution": {
     "iopub.execute_input": "2022-02-13T21:49:43.118748Z",
     "iopub.status.busy": "2022-02-13T21:49:43.118223Z",
     "iopub.status.idle": "2022-02-13T21:49:43.184163Z",
     "shell.execute_reply": "2022-02-13T21:49:43.183679Z"
    }
   },
   "outputs": [],
   "source": [
    "OnePiece.templating.error_missing(dit, di; re_ = [\"TEMPLATE.jl\" => \"OnePiece.jl\"])"
   ]
  },
  {
   "cell_type": "code",
   "execution_count": null,
   "id": "135c0c00",
   "metadata": {
    "execution": {
     "iopub.execute_input": "2022-02-13T21:49:43.186344Z",
     "iopub.status.busy": "2022-02-13T21:49:43.185508Z",
     "iopub.status.idle": "2022-02-13T21:49:43.187853Z",
     "shell.execute_reply": "2022-02-13T21:49:43.186853Z"
    }
   },
   "outputs": [],
   "source": [
    "dit = joinpath(homedir(), \"craft\", \"PkgRepository.jl\")"
   ]
  },
  {
   "cell_type": "code",
   "execution_count": null,
   "id": "884520ad",
   "metadata": {
    "execution": {
     "iopub.execute_input": "2022-02-13T21:49:43.189684Z",
     "iopub.status.busy": "2022-02-13T21:49:43.189066Z",
     "iopub.status.idle": "2022-02-13T21:49:43.191635Z",
     "shell.execute_reply": "2022-02-13T21:49:43.191265Z"
    }
   },
   "outputs": [],
   "source": [
    "try\n",
    "\n",
    "    OnePiece.templating.error_missing(dit, di)\n",
    "\n",
    "catch er\n",
    "\n",
    "    er\n",
    "\n",
    "end"
   ]
  },
  {
   "cell_type": "code",
   "execution_count": null,
   "id": "b376b4b3",
   "metadata": {
    "execution": {
     "iopub.execute_input": "2022-02-13T21:49:43.193373Z",
     "iopub.status.busy": "2022-02-13T21:49:43.192883Z",
     "iopub.status.idle": "2022-02-13T21:49:43.245493Z",
     "shell.execute_reply": "2022-02-13T21:49:43.245102Z"
    }
   },
   "outputs": [],
   "source": [
    "OnePiece.templating.error_missing(\n",
    "    dit,\n",
    "    di;\n",
    "    ig_ = [r\"\\.ipynb_checkpoints\", r\"\\.git\", r\"src\", r\"TEMPLATE.jl\", r\"Comonicon.toml\", r\"deps\"],\n",
    ")"
   ]
  },
  {
   "cell_type": "markdown",
   "id": "0654acfb",
   "metadata": {},
   "source": [
    "## plan_transplant"
   ]
  },
  {
   "cell_type": "code",
   "execution_count": null,
   "id": "96364fc3",
   "metadata": {
    "execution": {
     "iopub.execute_input": "2022-02-13T21:49:43.248084Z",
     "iopub.status.busy": "2022-02-13T21:49:43.247504Z",
     "iopub.status.idle": "2022-02-13T21:49:44.559080Z",
     "shell.execute_reply": "2022-02-13T21:49:44.558694Z"
    }
   },
   "outputs": [],
   "source": [
    "OnePiece.templating.plan_transplant()"
   ]
  },
  {
   "cell_type": "markdown",
   "id": "13e9cd65",
   "metadata": {},
   "source": [
    "## plan_replacement"
   ]
  },
  {
   "cell_type": "code",
   "execution_count": null,
   "id": "8b46a1f9",
   "metadata": {
    "execution": {
     "iopub.execute_input": "2022-02-13T21:49:44.560971Z",
     "iopub.status.busy": "2022-02-13T21:49:44.560480Z",
     "iopub.status.idle": "2022-02-13T21:49:45.292677Z",
     "shell.execute_reply": "2022-02-13T21:49:45.292292Z"
    }
   },
   "outputs": [],
   "source": [
    "OnePiece.templating.plan_replacement(\"Big Mom\")"
   ]
  },
  {
   "cell_type": "markdown",
   "id": "69ad4519",
   "metadata": {},
   "source": [
    "## transplant"
   ]
  },
  {
   "cell_type": "code",
   "execution_count": null,
   "id": "28dfc4c2",
   "metadata": {
    "execution": {
     "iopub.execute_input": "2022-02-13T21:49:45.295227Z",
     "iopub.status.busy": "2022-02-13T21:49:45.294055Z",
     "iopub.status.idle": "2022-02-13T21:49:45.297324Z",
     "shell.execute_reply": "2022-02-13T21:49:45.296179Z"
    }
   },
   "outputs": [],
   "source": [
    "te = tempdir()"
   ]
  },
  {
   "cell_type": "code",
   "execution_count": null,
   "id": "e819d8da",
   "metadata": {
    "execution": {
     "iopub.execute_input": "2022-02-13T21:49:45.299054Z",
     "iopub.status.busy": "2022-02-13T21:49:45.298555Z",
     "iopub.status.idle": "2022-02-13T21:49:45.306073Z",
     "shell.execute_reply": "2022-02-13T21:49:45.305715Z"
    }
   },
   "outputs": [],
   "source": [
    "fit = joinpath(te, \"fit\")\n",
    "\n",
    "write(\n",
    "    fit,\n",
    "    \"# TEMPLATE\n",
    "--\n",
    "GIT_USER_NAME\n",
    "GIT_USER_EMAIL\n",
    "033e1703-1880-4940-9ddc-745bff01a2ac\n",
    "--\n",
    "(stuff)\n",
    "--\n",
    "ODA IS GENIUS.\",\n",
    ")\n",
    "\n",
    "println(read(fit, String))"
   ]
  },
  {
   "cell_type": "code",
   "execution_count": null,
   "id": "12b2ee72",
   "metadata": {
    "execution": {
     "iopub.execute_input": "2022-02-13T21:49:45.308277Z",
     "iopub.status.busy": "2022-02-13T21:49:45.307666Z",
     "iopub.status.idle": "2022-02-13T21:49:45.310072Z",
     "shell.execute_reply": "2022-02-13T21:49:45.309695Z"
    }
   },
   "outputs": [],
   "source": [
    "fi = joinpath(te, \"fi\")\n",
    "\n",
    "write(\n",
    "    fi,\n",
    "    \"(bad part)\n",
    "--\n",
    "(bad part)\n",
    "--\n",
    "GOOD STUFF\n",
    "--\n",
    "(bad part)\",\n",
    ")\n",
    "\n",
    "println(read(fi, String))"
   ]
  },
  {
   "cell_type": "code",
   "execution_count": null,
   "id": "7366635f",
   "metadata": {
    "execution": {
     "iopub.execute_input": "2022-02-13T21:49:45.312319Z",
     "iopub.status.busy": "2022-02-13T21:49:45.311593Z",
     "iopub.status.idle": "2022-02-13T21:49:45.549829Z",
     "shell.execute_reply": "2022-02-13T21:49:45.549464Z"
    }
   },
   "outputs": [],
   "source": [
    "OnePiece.templating.transplant(\n",
    "    fit,\n",
    "    fi,\n",
    "    \"--\",\n",
    "    [1, 1, 2, 1],\n",
    "    re_ = OnePiece.templating.plan_replacement(\"Katakuri\"),\n",
    ")\n",
    "\n",
    "println(read(fi, String))"
   ]
  },
  {
   "cell_type": "markdown",
   "id": "3f396855",
   "metadata": {},
   "source": [
    "---"
   ]
  },
  {
   "cell_type": "code",
   "execution_count": null,
   "id": "b4af2023",
   "metadata": {
    "execution": {
     "iopub.execute_input": "2022-02-13T21:49:45.551984Z",
     "iopub.status.busy": "2022-02-13T21:49:45.551232Z",
     "iopub.status.idle": "2022-02-13T21:49:45.553703Z",
     "shell.execute_reply": "2022-02-13T21:49:45.553329Z"
    }
   },
   "outputs": [],
   "source": [
    "if isdir(TE)\n",
    "\n",
    "    rm(TE, recursive = true)\n",
    "\n",
    "    println(\"Removed \", TE, \".\")\n",
    "\n",
    "end"
   ]
  }
 ],
 "metadata": {
  "kernelspec": {
   "display_name": "Julia 1.7.2",
   "language": "julia",
   "name": "julia-1.7"
  },
  "language_info": {
   "file_extension": ".jl",
   "mimetype": "application/julia",
   "name": "julia",
   "version": "1.7.2"
  }
 },
 "nbformat": 4,
 "nbformat_minor": 5
}
