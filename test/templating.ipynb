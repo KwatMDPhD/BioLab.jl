{
 "cells": [
  {
   "cell_type": "code",
   "execution_count": null,
   "id": "017464da",
   "metadata": {
    "execution": {
     "iopub.execute_input": "2022-02-13T23:30:23.144710Z",
     "iopub.status.busy": "2022-02-13T23:30:22.812680Z",
     "iopub.status.idle": "2022-02-13T23:30:23.331810Z",
     "shell.execute_reply": "2022-02-13T23:30:23.331328Z"
    }
   },
   "outputs": [],
   "source": [
    "TE = joinpath(tempdir(), \"OnePiece.test\")\n",
    "\n",
    "if isdir(TE)\n",
    "\n",
    "    rm(TE, recursive = true)\n",
    "\n",
    "    println(\"Removed \", TE, \".\")\n",
    "\n",
    "end\n",
    "\n",
    "mkdir(TE)\n",
    "\n",
    "println(\"Made \", TE, \".\")"
   ]
  },
  {
   "cell_type": "code",
   "execution_count": null,
   "id": "34e4701e",
   "metadata": {
    "execution": {
     "iopub.execute_input": "2022-02-13T23:30:23.334047Z",
     "iopub.status.busy": "2022-02-13T23:30:23.333534Z",
     "iopub.status.idle": "2022-02-13T23:30:27.348399Z",
     "shell.execute_reply": "2022-02-13T23:30:27.347891Z"
    }
   },
   "outputs": [],
   "source": [
    "using OnePiece"
   ]
  },
  {
   "cell_type": "markdown",
   "id": "b92a3da9",
   "metadata": {},
   "source": [
    "---"
   ]
  },
  {
   "cell_type": "markdown",
   "id": "ae39cefa",
   "metadata": {},
   "source": [
    "## error_missing"
   ]
  },
  {
   "cell_type": "code",
   "execution_count": null,
   "id": "f14e1c5a",
   "metadata": {
    "execution": {
     "iopub.execute_input": "2022-02-13T23:30:27.660489Z",
     "iopub.status.busy": "2022-02-13T23:30:27.349777Z",
     "iopub.status.idle": "2022-02-13T23:30:28.265189Z",
     "shell.execute_reply": "2022-02-13T23:30:28.264799Z"
    }
   },
   "outputs": [],
   "source": [
    "di = dirname(@__DIR__)"
   ]
  },
  {
   "cell_type": "code",
   "execution_count": null,
   "id": "aba44107",
   "metadata": {
    "execution": {
     "iopub.execute_input": "2022-02-13T23:30:28.267488Z",
     "iopub.status.busy": "2022-02-13T23:30:28.266623Z",
     "iopub.status.idle": "2022-02-13T23:30:28.269070Z",
     "shell.execute_reply": "2022-02-13T23:30:28.268691Z"
    }
   },
   "outputs": [],
   "source": [
    "dit = joinpath(homedir(), \"craft\", \"PkgRepository.jl\", \"TEMPLATE.jl\")"
   ]
  },
  {
   "cell_type": "code",
   "execution_count": null,
   "id": "121f406d",
   "metadata": {
    "execution": {
     "iopub.execute_input": "2022-02-13T23:30:28.270881Z",
     "iopub.status.busy": "2022-02-13T23:30:28.270384Z",
     "iopub.status.idle": "2022-02-13T23:30:28.780469Z",
     "shell.execute_reply": "2022-02-13T23:30:28.780080Z"
    }
   },
   "outputs": [],
   "source": [
    "try\n",
    "\n",
    "    OnePiece.templating.error_missing(dit, di)\n",
    "\n",
    "catch er\n",
    "\n",
    "    er\n",
    "\n",
    "end"
   ]
  },
  {
   "cell_type": "code",
   "execution_count": null,
   "id": "cd0a1d51",
   "metadata": {
    "execution": {
     "iopub.execute_input": "2022-02-13T23:30:28.782629Z",
     "iopub.status.busy": "2022-02-13T23:30:28.782130Z",
     "iopub.status.idle": "2022-02-13T23:30:28.841054Z",
     "shell.execute_reply": "2022-02-13T23:30:28.840611Z"
    }
   },
   "outputs": [],
   "source": [
    "OnePiece.templating.error_missing(dit, di; re_ = [\"TEMPLATE.jl\" => \"OnePiece.jl\"])"
   ]
  },
  {
   "cell_type": "code",
   "execution_count": null,
   "id": "135c0c00",
   "metadata": {
    "execution": {
     "iopub.execute_input": "2022-02-13T23:30:28.843158Z",
     "iopub.status.busy": "2022-02-13T23:30:28.842396Z",
     "iopub.status.idle": "2022-02-13T23:30:28.844730Z",
     "shell.execute_reply": "2022-02-13T23:30:28.844293Z"
    }
   },
   "outputs": [],
   "source": [
    "dit = joinpath(homedir(), \"craft\", \"PkgRepository.jl\")"
   ]
  },
  {
   "cell_type": "code",
   "execution_count": null,
   "id": "884520ad",
   "metadata": {
    "execution": {
     "iopub.execute_input": "2022-02-13T23:30:28.846649Z",
     "iopub.status.busy": "2022-02-13T23:30:28.846147Z",
     "iopub.status.idle": "2022-02-13T23:30:28.848559Z",
     "shell.execute_reply": "2022-02-13T23:30:28.848203Z"
    }
   },
   "outputs": [],
   "source": [
    "try\n",
    "\n",
    "    OnePiece.templating.error_missing(dit, di)\n",
    "\n",
    "catch er\n",
    "\n",
    "    er\n",
    "\n",
    "end"
   ]
  },
  {
   "cell_type": "code",
   "execution_count": null,
   "id": "b376b4b3",
   "metadata": {
    "execution": {
     "iopub.execute_input": "2022-02-13T23:30:28.850336Z",
     "iopub.status.busy": "2022-02-13T23:30:28.849834Z",
     "iopub.status.idle": "2022-02-13T23:30:28.898815Z",
     "shell.execute_reply": "2022-02-13T23:30:28.898231Z"
    }
   },
   "outputs": [],
   "source": [
    "OnePiece.templating.error_missing(\n",
    "    dit,\n",
    "    di;\n",
    "    ig_ = [r\"\\.ipynb_checkpoints\", r\"\\.git\", r\"src\", r\"TEMPLATE.jl\", r\"Comonicon.toml\", r\"deps\"],\n",
    ")"
   ]
  },
  {
   "cell_type": "markdown",
   "id": "0654acfb",
   "metadata": {},
   "source": [
    "## plan_transplant"
   ]
  },
  {
   "cell_type": "code",
   "execution_count": null,
   "id": "96364fc3",
   "metadata": {
    "execution": {
     "iopub.execute_input": "2022-02-13T23:30:28.900774Z",
     "iopub.status.busy": "2022-02-13T23:30:28.900285Z",
     "iopub.status.idle": "2022-02-13T23:30:30.134674Z",
     "shell.execute_reply": "2022-02-13T23:30:30.134293Z"
    }
   },
   "outputs": [],
   "source": [
    "OnePiece.templating.plan_transplant()"
   ]
  },
  {
   "cell_type": "markdown",
   "id": "13e9cd65",
   "metadata": {},
   "source": [
    "## plan_replacement"
   ]
  },
  {
   "cell_type": "code",
   "execution_count": null,
   "id": "8b46a1f9",
   "metadata": {
    "execution": {
     "iopub.execute_input": "2022-02-13T23:30:30.136635Z",
     "iopub.status.busy": "2022-02-13T23:30:30.136145Z",
     "iopub.status.idle": "2022-02-13T23:30:30.818652Z",
     "shell.execute_reply": "2022-02-13T23:30:30.818265Z"
    }
   },
   "outputs": [],
   "source": [
    "OnePiece.templating.plan_replacement(\"Big Mom\")"
   ]
  },
  {
   "cell_type": "markdown",
   "id": "69ad4519",
   "metadata": {},
   "source": [
    "## transplant"
   ]
  },
  {
   "cell_type": "code",
   "execution_count": null,
   "id": "28dfc4c2",
   "metadata": {
    "execution": {
     "iopub.execute_input": "2022-02-13T23:30:30.820892Z",
     "iopub.status.busy": "2022-02-13T23:30:30.820024Z",
     "iopub.status.idle": "2022-02-13T23:30:30.822484Z",
     "shell.execute_reply": "2022-02-13T23:30:30.822111Z"
    }
   },
   "outputs": [],
   "source": [
    "te = tempdir()"
   ]
  },
  {
   "cell_type": "code",
   "execution_count": null,
   "id": "e819d8da",
   "metadata": {
    "execution": {
     "iopub.execute_input": "2022-02-13T23:30:30.824844Z",
     "iopub.status.busy": "2022-02-13T23:30:30.824004Z",
     "iopub.status.idle": "2022-02-13T23:30:30.832018Z",
     "shell.execute_reply": "2022-02-13T23:30:30.831142Z"
    }
   },
   "outputs": [],
   "source": [
    "fit = joinpath(te, \"fit\")\n",
    "\n",
    "write(\n",
    "    fit,\n",
    "    \"# TEMPLATE\n",
    "--\n",
    "GIT_USER_NAME\n",
    "GIT_USER_EMAIL\n",
    "033e1703-1880-4940-9ddc-745bff01a2ac\n",
    "--\n",
    "(stuff)\n",
    "--\n",
    "ODA IS GENIUS.\",\n",
    ")\n",
    "\n",
    "println(read(fit, String))"
   ]
  },
  {
   "cell_type": "code",
   "execution_count": null,
   "id": "12b2ee72",
   "metadata": {
    "execution": {
     "iopub.execute_input": "2022-02-13T23:30:30.834025Z",
     "iopub.status.busy": "2022-02-13T23:30:30.833354Z",
     "iopub.status.idle": "2022-02-13T23:30:30.835627Z",
     "shell.execute_reply": "2022-02-13T23:30:30.835253Z"
    }
   },
   "outputs": [],
   "source": [
    "fi = joinpath(te, \"fi\")\n",
    "\n",
    "write(\n",
    "    fi,\n",
    "    \"(bad part)\n",
    "--\n",
    "(bad part)\n",
    "--\n",
    "GOOD STUFF\n",
    "--\n",
    "(bad part)\",\n",
    ")\n",
    "\n",
    "println(read(fi, String))"
   ]
  },
  {
   "cell_type": "code",
   "execution_count": null,
   "id": "7366635f",
   "metadata": {
    "execution": {
     "iopub.execute_input": "2022-02-13T23:30:30.837294Z",
     "iopub.status.busy": "2022-02-13T23:30:30.836797Z",
     "iopub.status.idle": "2022-02-13T23:30:31.056713Z",
     "shell.execute_reply": "2022-02-13T23:30:31.056309Z"
    }
   },
   "outputs": [],
   "source": [
    "OnePiece.templating.transplant(\n",
    "    fit,\n",
    "    fi,\n",
    "    \"--\",\n",
    "    [1, 1, 2, 1],\n",
    "    re_ = OnePiece.templating.plan_replacement(\"Katakuri\"),\n",
    ")\n",
    "\n",
    "println(read(fi, String))"
   ]
  },
  {
   "cell_type": "markdown",
   "id": "3f396855",
   "metadata": {},
   "source": [
    "---"
   ]
  },
  {
   "cell_type": "code",
   "execution_count": null,
   "id": "b4af2023",
   "metadata": {
    "execution": {
     "iopub.execute_input": "2022-02-13T23:30:31.059203Z",
     "iopub.status.busy": "2022-02-13T23:30:31.058599Z",
     "iopub.status.idle": "2022-02-13T23:30:31.060935Z",
     "shell.execute_reply": "2022-02-13T23:30:31.060565Z"
    }
   },
   "outputs": [],
   "source": [
    "if isdir(TE)\n",
    "\n",
    "    rm(TE, recursive = true)\n",
    "\n",
    "    println(\"Removed \", TE, \".\")\n",
    "\n",
    "end"
   ]
  }
 ],
 "metadata": {
  "kernelspec": {
   "display_name": "Julia 1.7.2",
   "language": "julia",
   "name": "julia-1.7"
  },
  "language_info": {
   "file_extension": ".jl",
   "mimetype": "application/julia",
   "name": "julia",
   "version": "1.7.2"
  }
 },
 "nbformat": 4,
 "nbformat_minor": 5
}
