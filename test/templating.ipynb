{
 "cells": [
  {
   "cell_type": "code",
   "execution_count": null,
   "id": "017464da",
   "metadata": {
    "execution": {
     "iopub.execute_input": "2022-02-13T22:23:38.814509Z",
     "iopub.status.busy": "2022-02-13T22:23:38.455851Z",
     "iopub.status.idle": "2022-02-13T22:23:39.013083Z",
     "shell.execute_reply": "2022-02-13T22:23:39.012487Z"
    }
   },
   "outputs": [],
   "source": [
    "TE = joinpath(tempdir(), \"OnePiece.test\")\n",
    "\n",
    "if isdir(TE)\n",
    "\n",
    "    rm(TE, recursive = true)\n",
    "\n",
    "    println(\"Removed \", TE, \".\")\n",
    "\n",
    "end\n",
    "\n",
    "mkdir(TE)\n",
    "\n",
    "println(\"Made \", TE, \".\")"
   ]
  },
  {
   "cell_type": "code",
   "execution_count": null,
   "id": "34e4701e",
   "metadata": {
    "execution": {
     "iopub.execute_input": "2022-02-13T22:23:39.015583Z",
     "iopub.status.busy": "2022-02-13T22:23:39.014959Z",
     "iopub.status.idle": "2022-02-13T22:23:43.415250Z",
     "shell.execute_reply": "2022-02-13T22:23:43.414804Z"
    }
   },
   "outputs": [],
   "source": [
    "using OnePiece"
   ]
  },
  {
   "cell_type": "markdown",
   "id": "b92a3da9",
   "metadata": {},
   "source": [
    "---"
   ]
  },
  {
   "cell_type": "markdown",
   "id": "ae39cefa",
   "metadata": {},
   "source": [
    "## error_missing"
   ]
  },
  {
   "cell_type": "code",
   "execution_count": null,
   "id": "f14e1c5a",
   "metadata": {
    "execution": {
     "iopub.execute_input": "2022-02-13T22:23:43.753233Z",
     "iopub.status.busy": "2022-02-13T22:23:43.416570Z",
     "iopub.status.idle": "2022-02-13T22:23:44.419241Z",
     "shell.execute_reply": "2022-02-13T22:23:44.418847Z"
    }
   },
   "outputs": [],
   "source": [
    "di = dirname(@__DIR__)"
   ]
  },
  {
   "cell_type": "code",
   "execution_count": null,
   "id": "aba44107",
   "metadata": {
    "execution": {
     "iopub.execute_input": "2022-02-13T22:23:44.421419Z",
     "iopub.status.busy": "2022-02-13T22:23:44.420549Z",
     "iopub.status.idle": "2022-02-13T22:23:44.423010Z",
     "shell.execute_reply": "2022-02-13T22:23:44.422565Z"
    }
   },
   "outputs": [],
   "source": [
    "dit = joinpath(homedir(), \"craft\", \"PkgRepository.jl\", \"TEMPLATE.jl\")"
   ]
  },
  {
   "cell_type": "code",
   "execution_count": null,
   "id": "121f406d",
   "metadata": {
    "execution": {
     "iopub.execute_input": "2022-02-13T22:23:44.424851Z",
     "iopub.status.busy": "2022-02-13T22:23:44.424353Z",
     "iopub.status.idle": "2022-02-13T22:23:45.006689Z",
     "shell.execute_reply": "2022-02-13T22:23:45.006293Z"
    }
   },
   "outputs": [],
   "source": [
    "try\n",
    "\n",
    "    OnePiece.templating.error_missing(dit, di)\n",
    "\n",
    "catch er\n",
    "\n",
    "    er\n",
    "\n",
    "end"
   ]
  },
  {
   "cell_type": "code",
   "execution_count": null,
   "id": "cd0a1d51",
   "metadata": {
    "execution": {
     "iopub.execute_input": "2022-02-13T22:23:45.008551Z",
     "iopub.status.busy": "2022-02-13T22:23:45.007978Z",
     "iopub.status.idle": "2022-02-13T22:23:45.079187Z",
     "shell.execute_reply": "2022-02-13T22:23:45.078612Z"
    }
   },
   "outputs": [],
   "source": [
    "OnePiece.templating.error_missing(dit, di; re_ = [\"TEMPLATE.jl\" => \"OnePiece.jl\"])"
   ]
  },
  {
   "cell_type": "code",
   "execution_count": null,
   "id": "135c0c00",
   "metadata": {
    "execution": {
     "iopub.execute_input": "2022-02-13T22:23:45.081861Z",
     "iopub.status.busy": "2022-02-13T22:23:45.081120Z",
     "iopub.status.idle": "2022-02-13T22:23:45.083502Z",
     "shell.execute_reply": "2022-02-13T22:23:45.083047Z"
    }
   },
   "outputs": [],
   "source": [
    "dit = joinpath(homedir(), \"craft\", \"PkgRepository.jl\")"
   ]
  },
  {
   "cell_type": "code",
   "execution_count": null,
   "id": "884520ad",
   "metadata": {
    "execution": {
     "iopub.execute_input": "2022-02-13T22:23:45.085277Z",
     "iopub.status.busy": "2022-02-13T22:23:45.084760Z",
     "iopub.status.idle": "2022-02-13T22:23:45.087156Z",
     "shell.execute_reply": "2022-02-13T22:23:45.086766Z"
    }
   },
   "outputs": [],
   "source": [
    "try\n",
    "\n",
    "    OnePiece.templating.error_missing(dit, di)\n",
    "\n",
    "catch er\n",
    "\n",
    "    er\n",
    "\n",
    "end"
   ]
  },
  {
   "cell_type": "code",
   "execution_count": null,
   "id": "b376b4b3",
   "metadata": {
    "execution": {
     "iopub.execute_input": "2022-02-13T22:23:45.088916Z",
     "iopub.status.busy": "2022-02-13T22:23:45.088387Z",
     "iopub.status.idle": "2022-02-13T22:23:45.142351Z",
     "shell.execute_reply": "2022-02-13T22:23:45.141907Z"
    }
   },
   "outputs": [],
   "source": [
    "OnePiece.templating.error_missing(\n",
    "    dit,\n",
    "    di;\n",
    "    ig_ = [r\"\\.ipynb_checkpoints\", r\"\\.git\", r\"src\", r\"TEMPLATE.jl\", r\"Comonicon.toml\", r\"deps\"],\n",
    ")"
   ]
  },
  {
   "cell_type": "markdown",
   "id": "0654acfb",
   "metadata": {},
   "source": [
    "## plan_transplant"
   ]
  },
  {
   "cell_type": "code",
   "execution_count": null,
   "id": "96364fc3",
   "metadata": {
    "execution": {
     "iopub.execute_input": "2022-02-13T22:23:45.145236Z",
     "iopub.status.busy": "2022-02-13T22:23:45.144243Z",
     "iopub.status.idle": "2022-02-13T22:23:46.432278Z",
     "shell.execute_reply": "2022-02-13T22:23:46.431895Z"
    }
   },
   "outputs": [],
   "source": [
    "OnePiece.templating.plan_transplant()"
   ]
  },
  {
   "cell_type": "markdown",
   "id": "13e9cd65",
   "metadata": {},
   "source": [
    "## plan_replacement"
   ]
  },
  {
   "cell_type": "code",
   "execution_count": null,
   "id": "8b46a1f9",
   "metadata": {
    "execution": {
     "iopub.execute_input": "2022-02-13T22:23:46.434344Z",
     "iopub.status.busy": "2022-02-13T22:23:46.433694Z",
     "iopub.status.idle": "2022-02-13T22:23:47.170583Z",
     "shell.execute_reply": "2022-02-13T22:23:47.170195Z"
    }
   },
   "outputs": [],
   "source": [
    "OnePiece.templating.plan_replacement(\"Big Mom\")"
   ]
  },
  {
   "cell_type": "markdown",
   "id": "69ad4519",
   "metadata": {},
   "source": [
    "## transplant"
   ]
  },
  {
   "cell_type": "code",
   "execution_count": null,
   "id": "28dfc4c2",
   "metadata": {
    "execution": {
     "iopub.execute_input": "2022-02-13T22:23:47.172984Z",
     "iopub.status.busy": "2022-02-13T22:23:47.172067Z",
     "iopub.status.idle": "2022-02-13T22:23:47.174521Z",
     "shell.execute_reply": "2022-02-13T22:23:47.173523Z"
    }
   },
   "outputs": [],
   "source": [
    "te = tempdir()"
   ]
  },
  {
   "cell_type": "code",
   "execution_count": null,
   "id": "e819d8da",
   "metadata": {
    "execution": {
     "iopub.execute_input": "2022-02-13T22:23:47.176476Z",
     "iopub.status.busy": "2022-02-13T22:23:47.175966Z",
     "iopub.status.idle": "2022-02-13T22:23:47.184073Z",
     "shell.execute_reply": "2022-02-13T22:23:47.183711Z"
    }
   },
   "outputs": [],
   "source": [
    "fit = joinpath(te, \"fit\")\n",
    "\n",
    "write(\n",
    "    fit,\n",
    "    \"# TEMPLATE\n",
    "--\n",
    "GIT_USER_NAME\n",
    "GIT_USER_EMAIL\n",
    "033e1703-1880-4940-9ddc-745bff01a2ac\n",
    "--\n",
    "(stuff)\n",
    "--\n",
    "ODA IS GENIUS.\",\n",
    ")\n",
    "\n",
    "println(read(fit, String))"
   ]
  },
  {
   "cell_type": "code",
   "execution_count": null,
   "id": "12b2ee72",
   "metadata": {
    "execution": {
     "iopub.execute_input": "2022-02-13T22:23:47.186435Z",
     "iopub.status.busy": "2022-02-13T22:23:47.185591Z",
     "iopub.status.idle": "2022-02-13T22:23:47.188113Z",
     "shell.execute_reply": "2022-02-13T22:23:47.187732Z"
    }
   },
   "outputs": [],
   "source": [
    "fi = joinpath(te, \"fi\")\n",
    "\n",
    "write(\n",
    "    fi,\n",
    "    \"(bad part)\n",
    "--\n",
    "(bad part)\n",
    "--\n",
    "GOOD STUFF\n",
    "--\n",
    "(bad part)\",\n",
    ")\n",
    "\n",
    "println(read(fi, String))"
   ]
  },
  {
   "cell_type": "code",
   "execution_count": null,
   "id": "7366635f",
   "metadata": {
    "execution": {
     "iopub.execute_input": "2022-02-13T22:23:47.189964Z",
     "iopub.status.busy": "2022-02-13T22:23:47.189476Z",
     "iopub.status.idle": "2022-02-13T22:23:47.425342Z",
     "shell.execute_reply": "2022-02-13T22:23:47.424987Z"
    }
   },
   "outputs": [],
   "source": [
    "OnePiece.templating.transplant(\n",
    "    fit,\n",
    "    fi,\n",
    "    \"--\",\n",
    "    [1, 1, 2, 1],\n",
    "    re_ = OnePiece.templating.plan_replacement(\"Katakuri\"),\n",
    ")\n",
    "\n",
    "println(read(fi, String))"
   ]
  },
  {
   "cell_type": "markdown",
   "id": "3f396855",
   "metadata": {},
   "source": [
    "---"
   ]
  },
  {
   "cell_type": "code",
   "execution_count": null,
   "id": "b4af2023",
   "metadata": {
    "execution": {
     "iopub.execute_input": "2022-02-13T22:23:47.427396Z",
     "iopub.status.busy": "2022-02-13T22:23:47.426707Z",
     "iopub.status.idle": "2022-02-13T22:23:47.429658Z",
     "shell.execute_reply": "2022-02-13T22:23:47.429294Z"
    }
   },
   "outputs": [],
   "source": [
    "if isdir(TE)\n",
    "\n",
    "    rm(TE, recursive = true)\n",
    "\n",
    "    println(\"Removed \", TE, \".\")\n",
    "\n",
    "end"
   ]
  }
 ],
 "metadata": {
  "kernelspec": {
   "display_name": "Julia 1.7.2",
   "language": "julia",
   "name": "julia-1.7"
  },
  "language_info": {
   "file_extension": ".jl",
   "mimetype": "application/julia",
   "name": "julia",
   "version": "1.7.2"
  }
 },
 "nbformat": 4,
 "nbformat_minor": 5
}
