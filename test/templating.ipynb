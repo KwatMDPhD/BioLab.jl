{
 "cells": [
  {
   "cell_type": "code",
   "execution_count": null,
   "id": "017464da",
   "metadata": {
    "execution": {
     "iopub.execute_input": "2022-02-10T21:25:39.886370Z",
     "iopub.status.busy": "2022-02-10T21:25:39.255672Z",
     "iopub.status.idle": "2022-02-10T21:25:41.135214Z",
     "shell.execute_reply": "2022-02-10T21:25:41.134382Z"
    }
   },
   "outputs": [],
   "source": [
    "TE = joinpath(tempdir(), \"OnePiece.test\")\n",
    "\n",
    "mkpath(TE)"
   ]
  },
  {
   "cell_type": "code",
   "execution_count": null,
   "id": "34e4701e",
   "metadata": {
    "execution": {
     "iopub.execute_input": "2022-02-10T21:25:41.138034Z",
     "iopub.status.busy": "2022-02-10T21:25:41.137162Z",
     "iopub.status.idle": "2022-02-10T21:25:47.874272Z",
     "shell.execute_reply": "2022-02-10T21:25:47.873583Z"
    }
   },
   "outputs": [],
   "source": [
    "using OnePiece"
   ]
  },
  {
   "cell_type": "markdown",
   "id": "b92a3da9",
   "metadata": {},
   "source": [
    "---"
   ]
  },
  {
   "cell_type": "markdown",
   "id": "ae39cefa",
   "metadata": {},
   "source": [
    "## error_missing"
   ]
  },
  {
   "cell_type": "code",
   "execution_count": null,
   "id": "f14e1c5a",
   "metadata": {
    "execution": {
     "iopub.execute_input": "2022-02-10T21:25:48.505516Z",
     "iopub.status.busy": "2022-02-10T21:25:47.876266Z",
     "iopub.status.idle": "2022-02-10T21:25:48.604427Z",
     "shell.execute_reply": "2022-02-10T21:25:48.603786Z"
    }
   },
   "outputs": [],
   "source": [
    "di = dirname(@__DIR__)"
   ]
  },
  {
   "cell_type": "code",
   "execution_count": null,
   "id": "aba44107",
   "metadata": {
    "execution": {
     "iopub.execute_input": "2022-02-10T21:25:48.607112Z",
     "iopub.status.busy": "2022-02-10T21:25:48.606148Z",
     "iopub.status.idle": "2022-02-10T21:25:48.609859Z",
     "shell.execute_reply": "2022-02-10T21:25:48.609094Z"
    }
   },
   "outputs": [],
   "source": [
    "dit = joinpath(homedir(), \"craft\", \"PkgRepository.jl\", \"TEMPLATE.jl\")"
   ]
  },
  {
   "cell_type": "code",
   "execution_count": null,
   "id": "121f406d",
   "metadata": {
    "execution": {
     "iopub.execute_input": "2022-02-10T21:25:48.612313Z",
     "iopub.status.busy": "2022-02-10T21:25:48.611533Z",
     "iopub.status.idle": "2022-02-10T21:25:49.633925Z",
     "shell.execute_reply": "2022-02-10T21:25:49.632991Z"
    }
   },
   "outputs": [],
   "source": [
    "try\n",
    "\n",
    "    OnePiece.templating.error_missing(dit, di)\n",
    "\n",
    "catch er\n",
    "\n",
    "    er\n",
    "\n",
    "end"
   ]
  },
  {
   "cell_type": "code",
   "execution_count": null,
   "id": "cd0a1d51",
   "metadata": {
    "execution": {
     "iopub.execute_input": "2022-02-10T21:25:49.637325Z",
     "iopub.status.busy": "2022-02-10T21:25:49.636364Z",
     "iopub.status.idle": "2022-02-10T21:25:49.742031Z",
     "shell.execute_reply": "2022-02-10T21:25:49.741314Z"
    }
   },
   "outputs": [],
   "source": [
    "OnePiece.templating.error_missing(dit, di; re_ = [\"TEMPLATE.jl\" => \"OnePiece.jl\"])"
   ]
  },
  {
   "cell_type": "code",
   "execution_count": null,
   "id": "135c0c00",
   "metadata": {
    "execution": {
     "iopub.execute_input": "2022-02-10T21:25:49.744882Z",
     "iopub.status.busy": "2022-02-10T21:25:49.743872Z",
     "iopub.status.idle": "2022-02-10T21:25:49.747394Z",
     "shell.execute_reply": "2022-02-10T21:25:49.745684Z"
    }
   },
   "outputs": [],
   "source": [
    "dit = joinpath(homedir(), \"craft\", \"PkgRepository.jl\")"
   ]
  },
  {
   "cell_type": "code",
   "execution_count": null,
   "id": "884520ad",
   "metadata": {
    "execution": {
     "iopub.execute_input": "2022-02-10T21:25:49.749955Z",
     "iopub.status.busy": "2022-02-10T21:25:49.749032Z",
     "iopub.status.idle": "2022-02-10T21:25:49.753194Z",
     "shell.execute_reply": "2022-02-10T21:25:49.752457Z"
    }
   },
   "outputs": [],
   "source": [
    "try\n",
    "\n",
    "    OnePiece.templating.error_missing(dit, di)\n",
    "\n",
    "catch er\n",
    "\n",
    "    er\n",
    "\n",
    "end"
   ]
  },
  {
   "cell_type": "code",
   "execution_count": null,
   "id": "b376b4b3",
   "metadata": {
    "execution": {
     "iopub.execute_input": "2022-02-10T21:25:49.755682Z",
     "iopub.status.busy": "2022-02-10T21:25:49.754906Z",
     "iopub.status.idle": "2022-02-10T21:25:49.884456Z",
     "shell.execute_reply": "2022-02-10T21:25:49.883749Z"
    }
   },
   "outputs": [],
   "source": [
    "OnePiece.templating.error_missing(\n",
    "    dit,\n",
    "    di;\n",
    "    ig_ = [r\"\\.ipynb_checkpoints\", r\"\\.git\", r\"src\", r\"TEMPLATE.jl\", r\"Comonicon.toml\", r\"deps\"],\n",
    ")"
   ]
  },
  {
   "cell_type": "markdown",
   "id": "0654acfb",
   "metadata": {},
   "source": [
    "## plan_transplant"
   ]
  },
  {
   "cell_type": "code",
   "execution_count": null,
   "id": "96364fc3",
   "metadata": {
    "execution": {
     "iopub.execute_input": "2022-02-10T21:25:49.887095Z",
     "iopub.status.busy": "2022-02-10T21:25:49.886313Z",
     "iopub.status.idle": "2022-02-10T21:25:51.939198Z",
     "shell.execute_reply": "2022-02-10T21:25:51.938430Z"
    }
   },
   "outputs": [],
   "source": [
    "OnePiece.templating.plan_transplant()"
   ]
  },
  {
   "cell_type": "markdown",
   "id": "13e9cd65",
   "metadata": {},
   "source": [
    "## plan_replacement"
   ]
  },
  {
   "cell_type": "code",
   "execution_count": null,
   "id": "8b46a1f9",
   "metadata": {
    "execution": {
     "iopub.execute_input": "2022-02-10T21:25:51.942448Z",
     "iopub.status.busy": "2022-02-10T21:25:51.941216Z",
     "iopub.status.idle": "2022-02-10T21:25:53.160012Z",
     "shell.execute_reply": "2022-02-10T21:25:53.158935Z"
    }
   },
   "outputs": [],
   "source": [
    "OnePiece.templating.plan_replacement(\"Big Mom\")"
   ]
  },
  {
   "cell_type": "markdown",
   "id": "69ad4519",
   "metadata": {},
   "source": [
    "## transplant"
   ]
  },
  {
   "cell_type": "code",
   "execution_count": null,
   "id": "28dfc4c2",
   "metadata": {
    "execution": {
     "iopub.execute_input": "2022-02-10T21:25:53.163325Z",
     "iopub.status.busy": "2022-02-10T21:25:53.162236Z",
     "iopub.status.idle": "2022-02-10T21:25:53.165961Z",
     "shell.execute_reply": "2022-02-10T21:25:53.164211Z"
    }
   },
   "outputs": [],
   "source": [
    "te = tempdir()"
   ]
  },
  {
   "cell_type": "code",
   "execution_count": null,
   "id": "e819d8da",
   "metadata": {
    "execution": {
     "iopub.execute_input": "2022-02-10T21:25:53.168850Z",
     "iopub.status.busy": "2022-02-10T21:25:53.167982Z",
     "iopub.status.idle": "2022-02-10T21:25:53.198147Z",
     "shell.execute_reply": "2022-02-10T21:25:53.197527Z"
    }
   },
   "outputs": [],
   "source": [
    "fit = joinpath(te, \"fit\")\n",
    "\n",
    "write(\n",
    "    fit,\n",
    "    \"# TEMPLATE\n",
    "--\n",
    "GIT_USER_NAME\n",
    "GIT_USER_EMAIL\n",
    "033e1703-1880-4940-9ddc-745bff01a2ac\n",
    "--\n",
    "(stuff)\n",
    "--\n",
    "ODA IS GENIUS.\",\n",
    ")\n",
    "\n",
    "println(read(fit, String))"
   ]
  },
  {
   "cell_type": "code",
   "execution_count": null,
   "id": "12b2ee72",
   "metadata": {
    "execution": {
     "iopub.execute_input": "2022-02-10T21:25:53.201010Z",
     "iopub.status.busy": "2022-02-10T21:25:53.200092Z",
     "iopub.status.idle": "2022-02-10T21:25:53.204640Z",
     "shell.execute_reply": "2022-02-10T21:25:53.204037Z"
    }
   },
   "outputs": [],
   "source": [
    "fi = joinpath(te, \"fi\")\n",
    "\n",
    "write(\n",
    "    fi,\n",
    "    \"(bad part)\n",
    "--\n",
    "(bad part)\n",
    "--\n",
    "GOOD STUFF\n",
    "--\n",
    "(bad part)\",\n",
    ")\n",
    "\n",
    "println(read(fi, String))"
   ]
  },
  {
   "cell_type": "code",
   "execution_count": null,
   "id": "7366635f",
   "metadata": {
    "execution": {
     "iopub.execute_input": "2022-02-10T21:25:53.207430Z",
     "iopub.status.busy": "2022-02-10T21:25:53.206645Z",
     "iopub.status.idle": "2022-02-10T21:25:53.577981Z",
     "shell.execute_reply": "2022-02-10T21:25:53.577403Z"
    }
   },
   "outputs": [],
   "source": [
    "OnePiece.templating.transplant(\n",
    "    fit,\n",
    "    fi,\n",
    "    \"--\",\n",
    "    [1, 1, 2, 1],\n",
    "    re_ = OnePiece.templating.plan_replacement(\"Katakuri\"),\n",
    ")\n",
    "\n",
    "println(read(fi, String))"
   ]
  },
  {
   "cell_type": "markdown",
   "id": "3f396855",
   "metadata": {},
   "source": [
    "---"
   ]
  },
  {
   "cell_type": "code",
   "execution_count": null,
   "id": "b4af2023",
   "metadata": {
    "execution": {
     "iopub.execute_input": "2022-02-10T21:25:53.580969Z",
     "iopub.status.busy": "2022-02-10T21:25:53.579996Z",
     "iopub.status.idle": "2022-02-10T21:25:53.581887Z",
     "shell.execute_reply": "2022-02-10T21:25:53.582469Z"
    }
   },
   "outputs": [],
   "source": [
    "rm(TE; recursive = true)"
   ]
  }
 ],
 "metadata": {
  "kernelspec": {
   "display_name": "Julia 1.7.2",
   "language": "julia",
   "name": "julia-1.7"
  },
  "language_info": {
   "file_extension": ".jl",
   "mimetype": "application/julia",
   "name": "julia",
   "version": "1.7.2"
  }
 },
 "nbformat": 4,
 "nbformat_minor": 5
}
