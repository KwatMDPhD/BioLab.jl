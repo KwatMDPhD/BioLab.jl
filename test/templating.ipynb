{
 "cells": [
  {
   "cell_type": "code",
   "execution_count": null,
   "id": "34e4701e",
   "metadata": {
    "execution": {
     "iopub.execute_input": "2022-02-09T00:03:08.799415Z",
     "iopub.status.busy": "2022-02-09T00:03:08.406375Z",
     "iopub.status.idle": "2022-02-09T00:03:09.803592Z",
     "shell.execute_reply": "2022-02-09T00:03:09.803079Z"
    }
   },
   "outputs": [],
   "source": [
    "using Revise\n",
    "using BenchmarkTools"
   ]
  },
  {
   "cell_type": "code",
   "execution_count": null,
   "id": "23b98853",
   "metadata": {
    "execution": {
     "iopub.execute_input": "2022-02-09T00:03:09.805688Z",
     "iopub.status.busy": "2022-02-09T00:03:09.805121Z",
     "iopub.status.idle": "2022-02-09T00:03:20.660017Z",
     "shell.execute_reply": "2022-02-09T00:03:20.659379Z"
    }
   },
   "outputs": [],
   "source": [
    "using OnePiece"
   ]
  },
  {
   "cell_type": "markdown",
   "id": "ae39cefa",
   "metadata": {},
   "source": [
    "## error_missing"
   ]
  },
  {
   "cell_type": "code",
   "execution_count": null,
   "id": "1f4a04e4",
   "metadata": {
    "execution": {
     "iopub.execute_input": "2022-02-09T00:03:22.346778Z",
     "iopub.status.busy": "2022-02-09T00:03:20.661456Z",
     "iopub.status.idle": "2022-02-09T00:03:22.982469Z",
     "shell.execute_reply": "2022-02-09T00:03:22.981907Z"
    }
   },
   "outputs": [],
   "source": [
    "dit = dirname(@__DIR__)\n",
    "\n",
    "di = replace(dit, \"One\" => \"Two\")\n",
    "\n",
    ";"
   ]
  },
  {
   "cell_type": "code",
   "execution_count": null,
   "id": "5fac8eae",
   "metadata": {
    "execution": {
     "iopub.execute_input": "2022-02-09T00:03:22.984577Z",
     "iopub.status.busy": "2022-02-09T00:03:22.983974Z",
     "iopub.status.idle": "2022-02-09T00:03:23.494069Z",
     "shell.execute_reply": "2022-02-09T00:03:23.493683Z"
    }
   },
   "outputs": [],
   "source": [
    "try\n",
    "\n",
    "    OnePiece.templating.error_missing(dit, di; ig_ = [\"runtests.jl\"])\n",
    "\n",
    "catch er\n",
    "\n",
    "    er\n",
    "\n",
    "end"
   ]
  },
  {
   "cell_type": "markdown",
   "id": "0654acfb",
   "metadata": {},
   "source": [
    "## plan_transplant"
   ]
  },
  {
   "cell_type": "code",
   "execution_count": null,
   "id": "96364fc3",
   "metadata": {
    "execution": {
     "iopub.execute_input": "2022-02-09T00:03:23.495920Z",
     "iopub.status.busy": "2022-02-09T00:03:23.495366Z",
     "iopub.status.idle": "2022-02-09T00:03:24.952164Z",
     "shell.execute_reply": "2022-02-09T00:03:24.951613Z"
    }
   },
   "outputs": [],
   "source": [
    "OnePiece.templating.plan_transplant()"
   ]
  },
  {
   "cell_type": "markdown",
   "id": "13e9cd65",
   "metadata": {},
   "source": [
    "## plan_replacement"
   ]
  },
  {
   "cell_type": "code",
   "execution_count": null,
   "id": "8b46a1f9",
   "metadata": {
    "execution": {
     "iopub.execute_input": "2022-02-09T00:03:24.954185Z",
     "iopub.status.busy": "2022-02-09T00:03:24.953525Z",
     "iopub.status.idle": "2022-02-09T00:03:25.764575Z",
     "shell.execute_reply": "2022-02-09T00:03:25.764127Z"
    }
   },
   "outputs": [],
   "source": [
    "OnePiece.templating.plan_replacement(\"Big Mom\")"
   ]
  },
  {
   "cell_type": "markdown",
   "id": "69ad4519",
   "metadata": {},
   "source": [
    "## transplant"
   ]
  },
  {
   "cell_type": "code",
   "execution_count": null,
   "id": "28dfc4c2",
   "metadata": {
    "execution": {
     "iopub.execute_input": "2022-02-09T00:03:25.766767Z",
     "iopub.status.busy": "2022-02-09T00:03:25.766122Z",
     "iopub.status.idle": "2022-02-09T00:03:26.165196Z",
     "shell.execute_reply": "2022-02-09T00:03:26.164742Z"
    }
   },
   "outputs": [],
   "source": [
    "te = tempdir()"
   ]
  },
  {
   "cell_type": "code",
   "execution_count": null,
   "id": "e819d8da",
   "metadata": {
    "execution": {
     "iopub.execute_input": "2022-02-09T00:03:26.167246Z",
     "iopub.status.busy": "2022-02-09T00:03:26.166586Z",
     "iopub.status.idle": "2022-02-09T00:03:26.199054Z",
     "shell.execute_reply": "2022-02-09T00:03:26.198501Z"
    }
   },
   "outputs": [],
   "source": [
    "fit = joinpath(te, \"fit\")\n",
    "\n",
    "write(\n",
    "    fit,\n",
    "    \"# TEMPLATE\n",
    "--\n",
    "GIT_USER_NAME\n",
    "GIT_USER_EMAIL\n",
    "033e1703-1880-4940-9ddc-745bff01a2ac\n",
    "--\n",
    "(stuff)\n",
    "--\n",
    "ODA IS GENIUS.\",\n",
    ")\n",
    "\n",
    "println(read(fit, String))"
   ]
  },
  {
   "cell_type": "code",
   "execution_count": null,
   "id": "12b2ee72",
   "metadata": {
    "execution": {
     "iopub.execute_input": "2022-02-09T00:03:26.200895Z",
     "iopub.status.busy": "2022-02-09T00:03:26.200324Z",
     "iopub.status.idle": "2022-02-09T00:03:26.214122Z",
     "shell.execute_reply": "2022-02-09T00:03:26.213765Z"
    }
   },
   "outputs": [],
   "source": [
    "fi = joinpath(te, \"fi\")\n",
    "\n",
    "write(\n",
    "    fi,\n",
    "    \"(bad part)\n",
    "--\n",
    "(bad part)\n",
    "--\n",
    "GOOD STUFF\n",
    "--\n",
    "(bad part)\",\n",
    ")\n",
    "\n",
    "println(read(fi, String))"
   ]
  },
  {
   "cell_type": "code",
   "execution_count": null,
   "id": "7366635f",
   "metadata": {
    "execution": {
     "iopub.execute_input": "2022-02-09T00:03:26.215933Z",
     "iopub.status.busy": "2022-02-09T00:03:26.215373Z",
     "iopub.status.idle": "2022-02-09T00:03:26.494241Z",
     "shell.execute_reply": "2022-02-09T00:03:26.493776Z"
    }
   },
   "outputs": [],
   "source": [
    "OnePiece.templating.transplant(\n",
    "    fit,\n",
    "    fi,\n",
    "    \"--\",\n",
    "    [1, 1, 2, 1],\n",
    "    OnePiece.templating.plan_replacement(\"Katakuri\"),\n",
    ")\n",
    "\n",
    "println(read(fi, String))"
   ]
  }
 ],
 "metadata": {
  "@webio": {
   "lastCommId": "298d58e852064e679578c5adaf3dc165",
   "lastKernelId": "79766318-88dc-4593-82fa-511270e3fd8c"
  },
  "kernelspec": {
   "display_name": "Julia 1.7.1",
   "language": "julia",
   "name": "julia-1.7"
  },
  "language_info": {
   "file_extension": ".jl",
   "mimetype": "application/julia",
   "name": "julia",
   "version": "1.7.2"
  }
 },
 "nbformat": 4,
 "nbformat_minor": 5
}
