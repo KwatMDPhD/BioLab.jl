{
 "cells": [
  {
   "cell_type": "code",
   "execution_count": null,
   "id": "34e4701e",
   "metadata": {
    "execution": {
     "iopub.execute_input": "2022-02-09T18:53:52.660431Z",
     "iopub.status.busy": "2022-02-09T18:53:52.276784Z",
     "iopub.status.idle": "2022-02-09T18:53:53.617867Z",
     "shell.execute_reply": "2022-02-09T18:53:53.617428Z"
    }
   },
   "outputs": [],
   "source": [
    "using Revise\n",
    "using BenchmarkTools"
   ]
  },
  {
   "cell_type": "code",
   "execution_count": null,
   "id": "23b98853",
   "metadata": {
    "execution": {
     "iopub.execute_input": "2022-02-09T18:53:53.619885Z",
     "iopub.status.busy": "2022-02-09T18:53:53.619209Z",
     "iopub.status.idle": "2022-02-09T18:54:03.559676Z",
     "shell.execute_reply": "2022-02-09T18:54:03.559149Z"
    }
   },
   "outputs": [],
   "source": [
    "using OnePiece"
   ]
  },
  {
   "cell_type": "markdown",
   "id": "ae39cefa",
   "metadata": {},
   "source": [
    "## error_missing"
   ]
  },
  {
   "cell_type": "code",
   "execution_count": null,
   "id": "f14e1c5a",
   "metadata": {
    "execution": {
     "iopub.execute_input": "2022-02-09T18:54:05.182529Z",
     "iopub.status.busy": "2022-02-09T18:54:03.561181Z",
     "iopub.status.idle": "2022-02-09T18:54:06.339336Z",
     "shell.execute_reply": "2022-02-09T18:54:06.338845Z"
    }
   },
   "outputs": [],
   "source": [
    "di = dirname(@__DIR__)"
   ]
  },
  {
   "cell_type": "code",
   "execution_count": null,
   "id": "aba44107",
   "metadata": {
    "execution": {
     "iopub.execute_input": "2022-02-09T18:54:06.341427Z",
     "iopub.status.busy": "2022-02-09T18:54:06.340764Z",
     "iopub.status.idle": "2022-02-09T18:54:06.354130Z",
     "shell.execute_reply": "2022-02-09T18:54:06.353631Z"
    }
   },
   "outputs": [],
   "source": [
    "dit = joinpath(homedir(), \"craft\", \"PkgRepository.jl\", \"TEMPLATE.jl\")"
   ]
  },
  {
   "cell_type": "code",
   "execution_count": null,
   "id": "121f406d",
   "metadata": {
    "execution": {
     "iopub.execute_input": "2022-02-09T18:54:06.356025Z",
     "iopub.status.busy": "2022-02-09T18:54:06.355447Z",
     "iopub.status.idle": "2022-02-09T18:54:06.749137Z",
     "shell.execute_reply": "2022-02-09T18:54:06.748626Z"
    }
   },
   "outputs": [],
   "source": [
    "try\n",
    "\n",
    "    OnePiece.templating.error_missing(dit, di)\n",
    "\n",
    "catch er\n",
    "\n",
    "    er\n",
    "\n",
    "end"
   ]
  },
  {
   "cell_type": "code",
   "execution_count": null,
   "id": "cd0a1d51",
   "metadata": {
    "execution": {
     "iopub.execute_input": "2022-02-09T18:54:06.750752Z",
     "iopub.status.busy": "2022-02-09T18:54:06.750204Z",
     "iopub.status.idle": "2022-02-09T18:54:06.843949Z",
     "shell.execute_reply": "2022-02-09T18:54:06.843421Z"
    }
   },
   "outputs": [],
   "source": [
    "OnePiece.templating.error_missing(dit, di; re_ = [\"TEMPLATE.jl\" => \"OnePiece.jl\"])"
   ]
  },
  {
   "cell_type": "code",
   "execution_count": null,
   "id": "135c0c00",
   "metadata": {
    "execution": {
     "iopub.execute_input": "2022-02-09T18:54:06.845906Z",
     "iopub.status.busy": "2022-02-09T18:54:06.845319Z",
     "iopub.status.idle": "2022-02-09T18:54:06.859111Z",
     "shell.execute_reply": "2022-02-09T18:54:06.858662Z"
    }
   },
   "outputs": [],
   "source": [
    "dit = joinpath(homedir(), \"craft\", \"PkgRepository.jl\")"
   ]
  },
  {
   "cell_type": "code",
   "execution_count": null,
   "id": "884520ad",
   "metadata": {
    "execution": {
     "iopub.execute_input": "2022-02-09T18:54:06.861133Z",
     "iopub.status.busy": "2022-02-09T18:54:06.860404Z",
     "iopub.status.idle": "2022-02-09T18:54:06.874642Z",
     "shell.execute_reply": "2022-02-09T18:54:06.874179Z"
    }
   },
   "outputs": [],
   "source": [
    "try\n",
    "\n",
    "    OnePiece.templating.error_missing(dit, di)\n",
    "\n",
    "catch er\n",
    "\n",
    "    er\n",
    "\n",
    "end"
   ]
  },
  {
   "cell_type": "code",
   "execution_count": null,
   "id": "b376b4b3",
   "metadata": {
    "execution": {
     "iopub.execute_input": "2022-02-09T18:54:06.876513Z",
     "iopub.status.busy": "2022-02-09T18:54:06.875842Z",
     "iopub.status.idle": "2022-02-09T18:54:06.976283Z",
     "shell.execute_reply": "2022-02-09T18:54:06.975694Z"
    }
   },
   "outputs": [],
   "source": [
    "OnePiece.templating.error_missing(\n",
    "    dit,\n",
    "    di;\n",
    "    ig_ = [r\"\\.ipynb_checkpoints\", r\"\\.git\", r\"src\", r\"TEMPLATE.jl\", r\"Comonicon.toml\", r\"deps\"],\n",
    ")"
   ]
  },
  {
   "cell_type": "markdown",
   "id": "0654acfb",
   "metadata": {},
   "source": [
    "## plan_transplant"
   ]
  },
  {
   "cell_type": "code",
   "execution_count": null,
   "id": "96364fc3",
   "metadata": {
    "execution": {
     "iopub.execute_input": "2022-02-09T18:54:06.978316Z",
     "iopub.status.busy": "2022-02-09T18:54:06.977690Z",
     "iopub.status.idle": "2022-02-09T18:54:08.379334Z",
     "shell.execute_reply": "2022-02-09T18:54:08.378879Z"
    }
   },
   "outputs": [],
   "source": [
    "OnePiece.templating.plan_transplant()"
   ]
  },
  {
   "cell_type": "markdown",
   "id": "13e9cd65",
   "metadata": {},
   "source": [
    "## plan_replacement"
   ]
  },
  {
   "cell_type": "code",
   "execution_count": null,
   "id": "8b46a1f9",
   "metadata": {
    "execution": {
     "iopub.execute_input": "2022-02-09T18:54:08.381258Z",
     "iopub.status.busy": "2022-02-09T18:54:08.380669Z",
     "iopub.status.idle": "2022-02-09T18:54:09.152587Z",
     "shell.execute_reply": "2022-02-09T18:54:09.152039Z"
    }
   },
   "outputs": [],
   "source": [
    "OnePiece.templating.plan_replacement(\"Big Mom\")"
   ]
  },
  {
   "cell_type": "markdown",
   "id": "69ad4519",
   "metadata": {},
   "source": [
    "## transplant"
   ]
  },
  {
   "cell_type": "code",
   "execution_count": null,
   "id": "28dfc4c2",
   "metadata": {
    "execution": {
     "iopub.execute_input": "2022-02-09T18:54:09.154628Z",
     "iopub.status.busy": "2022-02-09T18:54:09.153981Z",
     "iopub.status.idle": "2022-02-09T18:54:09.167346Z",
     "shell.execute_reply": "2022-02-09T18:54:09.166800Z"
    }
   },
   "outputs": [],
   "source": [
    "te = tempdir()"
   ]
  },
  {
   "cell_type": "code",
   "execution_count": null,
   "id": "e819d8da",
   "metadata": {
    "execution": {
     "iopub.execute_input": "2022-02-09T18:54:09.169216Z",
     "iopub.status.busy": "2022-02-09T18:54:09.168662Z",
     "iopub.status.idle": "2022-02-09T18:54:09.198831Z",
     "shell.execute_reply": "2022-02-09T18:54:09.198446Z"
    }
   },
   "outputs": [],
   "source": [
    "fit = joinpath(te, \"fit\")\n",
    "\n",
    "write(\n",
    "    fit,\n",
    "    \"# TEMPLATE\n",
    "--\n",
    "GIT_USER_NAME\n",
    "GIT_USER_EMAIL\n",
    "033e1703-1880-4940-9ddc-745bff01a2ac\n",
    "--\n",
    "(stuff)\n",
    "--\n",
    "ODA IS GENIUS.\",\n",
    ")\n",
    "\n",
    "println(read(fit, String))"
   ]
  },
  {
   "cell_type": "code",
   "execution_count": null,
   "id": "12b2ee72",
   "metadata": {
    "execution": {
     "iopub.execute_input": "2022-02-09T18:54:09.200812Z",
     "iopub.status.busy": "2022-02-09T18:54:09.200315Z",
     "iopub.status.idle": "2022-02-09T18:54:09.214849Z",
     "shell.execute_reply": "2022-02-09T18:54:09.214498Z"
    }
   },
   "outputs": [],
   "source": [
    "fi = joinpath(te, \"fi\")\n",
    "\n",
    "write(\n",
    "    fi,\n",
    "    \"(bad part)\n",
    "--\n",
    "(bad part)\n",
    "--\n",
    "GOOD STUFF\n",
    "--\n",
    "(bad part)\",\n",
    ")\n",
    "\n",
    "println(read(fi, String))"
   ]
  },
  {
   "cell_type": "code",
   "execution_count": null,
   "id": "7366635f",
   "metadata": {
    "execution": {
     "iopub.execute_input": "2022-02-09T18:54:09.216732Z",
     "iopub.status.busy": "2022-02-09T18:54:09.216243Z",
     "iopub.status.idle": "2022-02-09T18:54:09.486454Z",
     "shell.execute_reply": "2022-02-09T18:54:09.485958Z"
    }
   },
   "outputs": [],
   "source": [
    "OnePiece.templating.transplant(\n",
    "    fit,\n",
    "    fi,\n",
    "    \"--\",\n",
    "    [1, 1, 2, 1],\n",
    "    OnePiece.templating.plan_replacement(\"Katakuri\"),\n",
    ")\n",
    "\n",
    "println(read(fi, String))"
   ]
  }
 ],
 "metadata": {
  "@webio": {
   "lastCommId": "36eec5678e4849fa83f0059a02d162d9",
   "lastKernelId": "3f9b4f05-8df6-4ea6-b25f-2bd22e8f7694"
  },
  "kernelspec": {
   "display_name": "Julia 1.7.2",
   "language": "julia",
   "name": "julia-1.7"
  },
  "language_info": {
   "file_extension": ".jl",
   "mimetype": "application/julia",
   "name": "julia",
   "version": "1.7.2"
  }
 },
 "nbformat": 4,
 "nbformat_minor": 5
}
