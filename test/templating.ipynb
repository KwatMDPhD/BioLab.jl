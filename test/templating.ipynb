{
 "cells": [
  {
   "cell_type": "code",
   "execution_count": null,
   "id": "34e4701e",
   "metadata": {
    "execution": {
     "iopub.execute_input": "2022-02-08T03:16:13.978143Z",
     "iopub.status.busy": "2022-02-08T03:16:13.573348Z",
     "iopub.status.idle": "2022-02-08T03:16:14.899720Z",
     "shell.execute_reply": "2022-02-08T03:16:14.898863Z"
    }
   },
   "outputs": [],
   "source": [
    "using Revise\n",
    "using BenchmarkTools"
   ]
  },
  {
   "cell_type": "code",
   "execution_count": null,
   "id": "23b98853",
   "metadata": {
    "execution": {
     "iopub.execute_input": "2022-02-08T03:16:14.902305Z",
     "iopub.status.busy": "2022-02-08T03:16:14.901509Z",
     "iopub.status.idle": "2022-02-08T03:16:27.448896Z",
     "shell.execute_reply": "2022-02-08T03:16:27.448353Z"
    }
   },
   "outputs": [],
   "source": [
    "using OnePiece"
   ]
  },
  {
   "cell_type": "markdown",
   "id": "ae39cefa",
   "metadata": {},
   "source": [
    "## error_missing"
   ]
  },
  {
   "cell_type": "code",
   "execution_count": null,
   "id": "1f4a04e4",
   "metadata": {
    "execution": {
     "iopub.execute_input": "2022-02-08T03:16:32.005666Z",
     "iopub.status.busy": "2022-02-08T03:16:32.005160Z",
     "iopub.status.idle": "2022-02-08T03:16:32.394390Z",
     "shell.execute_reply": "2022-02-08T03:16:32.393459Z"
    }
   },
   "outputs": [],
   "source": [
    "dit = dirname(@__DIR__)\n",
    "\n",
    "di = replace(dit, \"One\" => \"Two\")\n",
    "\n",
    ";"
   ]
  },
  {
   "cell_type": "code",
   "execution_count": null,
   "id": "5fac8eae",
   "metadata": {
    "execution": {
     "iopub.execute_input": "2022-02-08T03:16:32.396581Z",
     "iopub.status.busy": "2022-02-08T03:16:32.396078Z",
     "iopub.status.idle": "2022-02-08T03:16:36.591233Z",
     "shell.execute_reply": "2022-02-08T03:16:36.590778Z"
    }
   },
   "outputs": [],
   "source": [
    "try\n",
    "\n",
    "    OnePiece.templating.error_missing(dit, di; ig_ = [\"runtests.jl\"])\n",
    "\n",
    "catch er\n",
    "\n",
    "    er\n",
    "\n",
    "end"
   ]
  },
  {
   "cell_type": "markdown",
   "id": "0654acfb",
   "metadata": {},
   "source": [
    "## plan_transplant"
   ]
  },
  {
   "cell_type": "code",
   "execution_count": null,
   "id": "96364fc3",
   "metadata": {
    "execution": {
     "iopub.execute_input": "2022-02-08T03:16:29.210824Z",
     "iopub.status.busy": "2022-02-08T03:16:27.450294Z",
     "iopub.status.idle": "2022-02-08T03:16:31.273186Z",
     "shell.execute_reply": "2022-02-08T03:16:31.272791Z"
    }
   },
   "outputs": [],
   "source": [
    "OnePiece.templating.plan_transplant()"
   ]
  },
  {
   "cell_type": "markdown",
   "id": "13e9cd65",
   "metadata": {},
   "source": [
    "## plan_replacement"
   ]
  },
  {
   "cell_type": "code",
   "execution_count": null,
   "id": "8b46a1f9",
   "metadata": {
    "execution": {
     "iopub.execute_input": "2022-02-08T03:16:31.275204Z",
     "iopub.status.busy": "2022-02-08T03:16:31.274637Z",
     "iopub.status.idle": "2022-02-08T03:16:32.003708Z",
     "shell.execute_reply": "2022-02-08T03:16:32.003306Z"
    }
   },
   "outputs": [],
   "source": [
    "OnePiece.templating.plan_replacement(\"Big Mom\")"
   ]
  },
  {
   "cell_type": "markdown",
   "id": "69ad4519",
   "metadata": {},
   "source": [
    "## transplant"
   ]
  },
  {
   "cell_type": "code",
   "execution_count": null,
   "id": "28dfc4c2",
   "metadata": {
    "execution": {
     "iopub.execute_input": "2022-02-08T03:16:36.705170Z",
     "iopub.status.busy": "2022-02-08T03:16:36.704542Z",
     "iopub.status.idle": "2022-02-08T03:16:36.718860Z",
     "shell.execute_reply": "2022-02-08T03:16:36.718330Z"
    }
   },
   "outputs": [],
   "source": [
    "te = tempdir()"
   ]
  },
  {
   "cell_type": "code",
   "execution_count": null,
   "id": "e819d8da",
   "metadata": {
    "execution": {
     "iopub.execute_input": "2022-02-08T03:16:36.720749Z",
     "iopub.status.busy": "2022-02-08T03:16:36.720068Z",
     "iopub.status.idle": "2022-02-08T03:16:36.751446Z",
     "shell.execute_reply": "2022-02-08T03:16:36.751068Z"
    }
   },
   "outputs": [],
   "source": [
    "fit = joinpath(te, \"fit\")\n",
    "\n",
    "write(\n",
    "    fit,\n",
    "    \"# TEMPLATE\n",
    "--\n",
    "GIT_USER_NAME\n",
    "GIT_USER_EMAIL\n",
    "033e1703-1880-4940-9ddc-745bff01a2ac\n",
    "--\n",
    "(stuff)\n",
    "--\n",
    "ODA IS GENIUS.\",\n",
    ")\n",
    "\n",
    "println(read(fit, String))"
   ]
  },
  {
   "cell_type": "code",
   "execution_count": null,
   "id": "12b2ee72",
   "metadata": {
    "execution": {
     "iopub.execute_input": "2022-02-08T03:16:36.753274Z",
     "iopub.status.busy": "2022-02-08T03:16:36.752734Z",
     "iopub.status.idle": "2022-02-08T03:16:36.766785Z",
     "shell.execute_reply": "2022-02-08T03:16:36.766371Z"
    }
   },
   "outputs": [],
   "source": [
    "fi = joinpath(te, \"fi\")\n",
    "\n",
    "write(\n",
    "    fi,\n",
    "    \"(bad part)\n",
    "--\n",
    "(bad part)\n",
    "--\n",
    "GOOD STUFF\n",
    "--\n",
    "(bad part)\",\n",
    ")\n",
    "\n",
    "println(read(fi, String))"
   ]
  },
  {
   "cell_type": "code",
   "execution_count": null,
   "id": "7366635f",
   "metadata": {
    "execution": {
     "iopub.execute_input": "2022-02-08T03:16:36.768587Z",
     "iopub.status.busy": "2022-02-08T03:16:36.768000Z",
     "iopub.status.idle": "2022-02-08T03:16:36.964686Z",
     "shell.execute_reply": "2022-02-08T03:16:36.964284Z"
    }
   },
   "outputs": [],
   "source": [
    "OnePiece.templating.transplant(\n",
    "    fit,\n",
    "    fi,\n",
    "    \"--\",\n",
    "    [1, 1, 2, 1],\n",
    "    OnePiece.templating.plan_replacement(\"Katakuri\"),\n",
    ")\n",
    "\n",
    "println(read(fi, String))"
   ]
  }
 ],
 "metadata": {
  "@webio": {
   "lastCommId": "298d58e852064e679578c5adaf3dc165",
   "lastKernelId": "79766318-88dc-4593-82fa-511270e3fd8c"
  },
  "kernelspec": {
   "display_name": "Julia 1.7.1",
   "language": "julia",
   "name": "julia-1.7"
  },
  "language_info": {
   "file_extension": ".jl",
   "mimetype": "application/julia",
   "name": "julia",
   "version": "1.7.1"
  }
 },
 "nbformat": 4,
 "nbformat_minor": 5
}
