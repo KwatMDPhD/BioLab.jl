{
 "cells": [
  {
   "cell_type": "code",
   "execution_count": null,
   "id": "017464da",
   "metadata": {
    "execution": {
     "iopub.execute_input": "2022-02-11T19:58:01.868770Z",
     "iopub.status.busy": "2022-02-11T19:58:01.470903Z",
     "iopub.status.idle": "2022-02-11T19:58:02.087256Z",
     "shell.execute_reply": "2022-02-11T19:58:02.086627Z"
    }
   },
   "outputs": [],
   "source": [
    "TE = joinpath(tempdir(), \"OnePiece.test\")\n",
    "\n",
    "if isdir(TE)\n",
    "\n",
    "    rm(TE, recursive = true)\n",
    "\n",
    "    println(\"Removed \", TE, \".\")\n",
    "\n",
    "end\n",
    "\n",
    "mkdir(TE)\n",
    "\n",
    "println(\"Made \", TE, \".\")"
   ]
  },
  {
   "cell_type": "code",
   "execution_count": null,
   "id": "34e4701e",
   "metadata": {
    "execution": {
     "iopub.execute_input": "2022-02-11T19:58:02.089222Z",
     "iopub.status.busy": "2022-02-11T19:58:02.088645Z",
     "iopub.status.idle": "2022-02-11T19:58:06.853621Z",
     "shell.execute_reply": "2022-02-11T19:58:06.853020Z"
    }
   },
   "outputs": [],
   "source": [
    "using OnePiece"
   ]
  },
  {
   "cell_type": "markdown",
   "id": "b92a3da9",
   "metadata": {},
   "source": [
    "---"
   ]
  },
  {
   "cell_type": "markdown",
   "id": "ae39cefa",
   "metadata": {},
   "source": [
    "## error_missing"
   ]
  },
  {
   "cell_type": "code",
   "execution_count": null,
   "id": "f14e1c5a",
   "metadata": {
    "execution": {
     "iopub.execute_input": "2022-02-11T19:58:07.220384Z",
     "iopub.status.busy": "2022-02-11T19:58:06.855076Z",
     "iopub.status.idle": "2022-02-11T19:58:07.959607Z",
     "shell.execute_reply": "2022-02-11T19:58:07.959112Z"
    }
   },
   "outputs": [],
   "source": [
    "di = dirname(@__DIR__)"
   ]
  },
  {
   "cell_type": "code",
   "execution_count": null,
   "id": "aba44107",
   "metadata": {
    "execution": {
     "iopub.execute_input": "2022-02-11T19:58:07.961622Z",
     "iopub.status.busy": "2022-02-11T19:58:07.960960Z",
     "iopub.status.idle": "2022-02-11T19:58:07.963902Z",
     "shell.execute_reply": "2022-02-11T19:58:07.963224Z"
    }
   },
   "outputs": [],
   "source": [
    "dit = joinpath(homedir(), \"craft\", \"PkgRepository.jl\", \"TEMPLATE.jl\")"
   ]
  },
  {
   "cell_type": "code",
   "execution_count": null,
   "id": "121f406d",
   "metadata": {
    "execution": {
     "iopub.execute_input": "2022-02-11T19:58:07.966196Z",
     "iopub.status.busy": "2022-02-11T19:58:07.965527Z",
     "iopub.status.idle": "2022-02-11T19:58:08.586468Z",
     "shell.execute_reply": "2022-02-11T19:58:08.585996Z"
    }
   },
   "outputs": [],
   "source": [
    "try\n",
    "\n",
    "    OnePiece.templating.error_missing(dit, di)\n",
    "\n",
    "catch er\n",
    "\n",
    "    er\n",
    "\n",
    "end"
   ]
  },
  {
   "cell_type": "code",
   "execution_count": null,
   "id": "cd0a1d51",
   "metadata": {
    "execution": {
     "iopub.execute_input": "2022-02-11T19:58:08.588368Z",
     "iopub.status.busy": "2022-02-11T19:58:08.587784Z",
     "iopub.status.idle": "2022-02-11T19:58:08.658363Z",
     "shell.execute_reply": "2022-02-11T19:58:08.657817Z"
    }
   },
   "outputs": [],
   "source": [
    "OnePiece.templating.error_missing(dit, di; re_ = [\"TEMPLATE.jl\" => \"OnePiece.jl\"])"
   ]
  },
  {
   "cell_type": "code",
   "execution_count": null,
   "id": "135c0c00",
   "metadata": {
    "execution": {
     "iopub.execute_input": "2022-02-11T19:58:08.660448Z",
     "iopub.status.busy": "2022-02-11T19:58:08.659682Z",
     "iopub.status.idle": "2022-02-11T19:58:08.662337Z",
     "shell.execute_reply": "2022-02-11T19:58:08.661094Z"
    }
   },
   "outputs": [],
   "source": [
    "dit = joinpath(homedir(), \"craft\", \"PkgRepository.jl\")"
   ]
  },
  {
   "cell_type": "code",
   "execution_count": null,
   "id": "884520ad",
   "metadata": {
    "execution": {
     "iopub.execute_input": "2022-02-11T19:58:08.664215Z",
     "iopub.status.busy": "2022-02-11T19:58:08.663582Z",
     "iopub.status.idle": "2022-02-11T19:58:08.666094Z",
     "shell.execute_reply": "2022-02-11T19:58:08.665645Z"
    }
   },
   "outputs": [],
   "source": [
    "try\n",
    "\n",
    "    OnePiece.templating.error_missing(dit, di)\n",
    "\n",
    "catch er\n",
    "\n",
    "    er\n",
    "\n",
    "end"
   ]
  },
  {
   "cell_type": "code",
   "execution_count": null,
   "id": "b376b4b3",
   "metadata": {
    "execution": {
     "iopub.execute_input": "2022-02-11T19:58:08.667915Z",
     "iopub.status.busy": "2022-02-11T19:58:08.667281Z",
     "iopub.status.idle": "2022-02-11T19:58:08.747525Z",
     "shell.execute_reply": "2022-02-11T19:58:08.747056Z"
    }
   },
   "outputs": [],
   "source": [
    "OnePiece.templating.error_missing(\n",
    "    dit,\n",
    "    di;\n",
    "    ig_ = [r\"\\.ipynb_checkpoints\", r\"\\.git\", r\"src\", r\"TEMPLATE.jl\", r\"Comonicon.toml\", r\"deps\"],\n",
    ")"
   ]
  },
  {
   "cell_type": "markdown",
   "id": "0654acfb",
   "metadata": {},
   "source": [
    "## plan_transplant"
   ]
  },
  {
   "cell_type": "code",
   "execution_count": null,
   "id": "96364fc3",
   "metadata": {
    "execution": {
     "iopub.execute_input": "2022-02-11T19:58:08.749489Z",
     "iopub.status.busy": "2022-02-11T19:58:08.748905Z",
     "iopub.status.idle": "2022-02-11T19:58:10.165965Z",
     "shell.execute_reply": "2022-02-11T19:58:10.165489Z"
    }
   },
   "outputs": [],
   "source": [
    "OnePiece.templating.plan_transplant()"
   ]
  },
  {
   "cell_type": "markdown",
   "id": "13e9cd65",
   "metadata": {},
   "source": [
    "## plan_replacement"
   ]
  },
  {
   "cell_type": "code",
   "execution_count": null,
   "id": "8b46a1f9",
   "metadata": {
    "execution": {
     "iopub.execute_input": "2022-02-11T19:58:10.167978Z",
     "iopub.status.busy": "2022-02-11T19:58:10.167377Z",
     "iopub.status.idle": "2022-02-11T19:58:10.961669Z",
     "shell.execute_reply": "2022-02-11T19:58:10.961218Z"
    }
   },
   "outputs": [],
   "source": [
    "OnePiece.templating.plan_replacement(\"Big Mom\")"
   ]
  },
  {
   "cell_type": "markdown",
   "id": "69ad4519",
   "metadata": {},
   "source": [
    "## transplant"
   ]
  },
  {
   "cell_type": "code",
   "execution_count": null,
   "id": "28dfc4c2",
   "metadata": {
    "execution": {
     "iopub.execute_input": "2022-02-11T19:58:10.963876Z",
     "iopub.status.busy": "2022-02-11T19:58:10.963123Z",
     "iopub.status.idle": "2022-02-11T19:58:10.965784Z",
     "shell.execute_reply": "2022-02-11T19:58:10.964489Z"
    }
   },
   "outputs": [],
   "source": [
    "te = tempdir()"
   ]
  },
  {
   "cell_type": "code",
   "execution_count": null,
   "id": "e819d8da",
   "metadata": {
    "execution": {
     "iopub.execute_input": "2022-02-11T19:58:10.967751Z",
     "iopub.status.busy": "2022-02-11T19:58:10.967134Z",
     "iopub.status.idle": "2022-02-11T19:58:10.974469Z",
     "shell.execute_reply": "2022-02-11T19:58:10.974026Z"
    }
   },
   "outputs": [],
   "source": [
    "fit = joinpath(te, \"fit\")\n",
    "\n",
    "write(\n",
    "    fit,\n",
    "    \"# TEMPLATE\n",
    "--\n",
    "GIT_USER_NAME\n",
    "GIT_USER_EMAIL\n",
    "033e1703-1880-4940-9ddc-745bff01a2ac\n",
    "--\n",
    "(stuff)\n",
    "--\n",
    "ODA IS GENIUS.\",\n",
    ")\n",
    "\n",
    "println(read(fit, String))"
   ]
  },
  {
   "cell_type": "code",
   "execution_count": null,
   "id": "12b2ee72",
   "metadata": {
    "execution": {
     "iopub.execute_input": "2022-02-11T19:58:10.976351Z",
     "iopub.status.busy": "2022-02-11T19:58:10.975742Z",
     "iopub.status.idle": "2022-02-11T19:58:10.978250Z",
     "shell.execute_reply": "2022-02-11T19:58:10.977781Z"
    }
   },
   "outputs": [],
   "source": [
    "fi = joinpath(te, \"fi\")\n",
    "\n",
    "write(\n",
    "    fi,\n",
    "    \"(bad part)\n",
    "--\n",
    "(bad part)\n",
    "--\n",
    "GOOD STUFF\n",
    "--\n",
    "(bad part)\",\n",
    ")\n",
    "\n",
    "println(read(fi, String))"
   ]
  },
  {
   "cell_type": "code",
   "execution_count": null,
   "id": "7366635f",
   "metadata": {
    "execution": {
     "iopub.execute_input": "2022-02-11T19:58:10.980092Z",
     "iopub.status.busy": "2022-02-11T19:58:10.979463Z",
     "iopub.status.idle": "2022-02-11T19:58:11.232393Z",
     "shell.execute_reply": "2022-02-11T19:58:11.231937Z"
    }
   },
   "outputs": [],
   "source": [
    "OnePiece.templating.transplant(\n",
    "    fit,\n",
    "    fi,\n",
    "    \"--\",\n",
    "    [1, 1, 2, 1],\n",
    "    re_ = OnePiece.templating.plan_replacement(\"Katakuri\"),\n",
    ")\n",
    "\n",
    "println(read(fi, String))"
   ]
  },
  {
   "cell_type": "markdown",
   "id": "3f396855",
   "metadata": {},
   "source": [
    "---"
   ]
  },
  {
   "cell_type": "code",
   "execution_count": null,
   "id": "b4af2023",
   "metadata": {
    "execution": {
     "iopub.execute_input": "2022-02-11T19:58:11.234500Z",
     "iopub.status.busy": "2022-02-11T19:58:11.233877Z",
     "iopub.status.idle": "2022-02-11T19:58:11.236425Z",
     "shell.execute_reply": "2022-02-11T19:58:11.235929Z"
    }
   },
   "outputs": [],
   "source": [
    "if isdir(TE)\n",
    "\n",
    "    rm(TE, recursive = true)\n",
    "\n",
    "    println(\"Removed \", TE, \".\")\n",
    "\n",
    "end"
   ]
  }
 ],
 "metadata": {
  "kernelspec": {
   "display_name": "Julia 1.7.2",
   "language": "julia",
   "name": "julia-1.7"
  },
  "language_info": {
   "file_extension": ".jl",
   "mimetype": "application/julia",
   "name": "julia",
   "version": "1.7.2"
  }
 },
 "nbformat": 4,
 "nbformat_minor": 5
}
