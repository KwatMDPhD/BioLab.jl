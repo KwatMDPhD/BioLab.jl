{
 "cells": [
  {
   "cell_type": "code",
   "execution_count": null,
   "id": "017464da",
   "metadata": {
    "execution": {
     "iopub.execute_input": "2022-02-14T16:47:05.218285Z",
     "iopub.status.busy": "2022-02-14T16:47:04.815109Z",
     "iopub.status.idle": "2022-02-14T16:47:05.446370Z",
     "shell.execute_reply": "2022-02-14T16:47:05.445796Z"
    }
   },
   "outputs": [],
   "source": [
    "TE = joinpath(tempdir(), \"OnePiece.test\")\n",
    "\n",
    "if isdir(TE)\n",
    "\n",
    "    rm(TE, recursive = true)\n",
    "\n",
    "    println(\"Removed \", TE, \".\")\n",
    "\n",
    "end\n",
    "\n",
    "mkdir(TE)\n",
    "\n",
    "println(\"Made \", TE, \".\")"
   ]
  },
  {
   "cell_type": "code",
   "execution_count": null,
   "id": "34e4701e",
   "metadata": {
    "execution": {
     "iopub.execute_input": "2022-02-14T16:47:05.448405Z",
     "iopub.status.busy": "2022-02-14T16:47:05.447831Z",
     "iopub.status.idle": "2022-02-14T16:47:10.093114Z",
     "shell.execute_reply": "2022-02-14T16:47:10.092663Z"
    }
   },
   "outputs": [],
   "source": [
    "using OnePiece"
   ]
  },
  {
   "cell_type": "markdown",
   "id": "b92a3da9",
   "metadata": {},
   "source": [
    "---"
   ]
  },
  {
   "cell_type": "markdown",
   "id": "ae39cefa",
   "metadata": {},
   "source": [
    "## error_missing"
   ]
  },
  {
   "cell_type": "code",
   "execution_count": null,
   "id": "f14e1c5a",
   "metadata": {
    "execution": {
     "iopub.execute_input": "2022-02-14T16:47:10.452916Z",
     "iopub.status.busy": "2022-02-14T16:47:10.094623Z",
     "iopub.status.idle": "2022-02-14T16:47:11.165162Z",
     "shell.execute_reply": "2022-02-14T16:47:11.164706Z"
    }
   },
   "outputs": [],
   "source": [
    "di = dirname(@__DIR__)"
   ]
  },
  {
   "cell_type": "code",
   "execution_count": null,
   "id": "aba44107",
   "metadata": {
    "execution": {
     "iopub.execute_input": "2022-02-14T16:47:11.167237Z",
     "iopub.status.busy": "2022-02-14T16:47:11.166540Z",
     "iopub.status.idle": "2022-02-14T16:47:11.169329Z",
     "shell.execute_reply": "2022-02-14T16:47:11.168710Z"
    }
   },
   "outputs": [],
   "source": [
    "dit = joinpath(homedir(), \"craft\", \"PkgRepository.jl\", \"TEMPLATE.jl\")"
   ]
  },
  {
   "cell_type": "code",
   "execution_count": null,
   "id": "121f406d",
   "metadata": {
    "execution": {
     "iopub.execute_input": "2022-02-14T16:47:11.171209Z",
     "iopub.status.busy": "2022-02-14T16:47:11.170575Z",
     "iopub.status.idle": "2022-02-14T16:47:11.785776Z",
     "shell.execute_reply": "2022-02-14T16:47:11.785256Z"
    }
   },
   "outputs": [],
   "source": [
    "try\n",
    "\n",
    "    OnePiece.templating.error_missing(dit, di)\n",
    "\n",
    "catch er\n",
    "\n",
    "    er\n",
    "\n",
    "end"
   ]
  },
  {
   "cell_type": "code",
   "execution_count": null,
   "id": "cd0a1d51",
   "metadata": {
    "execution": {
     "iopub.execute_input": "2022-02-14T16:47:11.787822Z",
     "iopub.status.busy": "2022-02-14T16:47:11.786996Z",
     "iopub.status.idle": "2022-02-14T16:47:11.856996Z",
     "shell.execute_reply": "2022-02-14T16:47:11.856490Z"
    }
   },
   "outputs": [],
   "source": [
    "OnePiece.templating.error_missing(dit, di; re_ = [\"TEMPLATE.jl\" => \"OnePiece.jl\"])"
   ]
  },
  {
   "cell_type": "code",
   "execution_count": null,
   "id": "135c0c00",
   "metadata": {
    "execution": {
     "iopub.execute_input": "2022-02-14T16:47:11.858914Z",
     "iopub.status.busy": "2022-02-14T16:47:11.858248Z",
     "iopub.status.idle": "2022-02-14T16:47:11.860717Z",
     "shell.execute_reply": "2022-02-14T16:47:11.860219Z"
    }
   },
   "outputs": [],
   "source": [
    "dit = joinpath(homedir(), \"craft\", \"PkgRepository.jl\")"
   ]
  },
  {
   "cell_type": "code",
   "execution_count": null,
   "id": "884520ad",
   "metadata": {
    "execution": {
     "iopub.execute_input": "2022-02-14T16:47:11.862624Z",
     "iopub.status.busy": "2022-02-14T16:47:11.861952Z",
     "iopub.status.idle": "2022-02-14T16:47:11.864529Z",
     "shell.execute_reply": "2022-02-14T16:47:11.864109Z"
    }
   },
   "outputs": [],
   "source": [
    "try\n",
    "\n",
    "    OnePiece.templating.error_missing(dit, di)\n",
    "\n",
    "catch er\n",
    "\n",
    "    er\n",
    "\n",
    "end"
   ]
  },
  {
   "cell_type": "code",
   "execution_count": null,
   "id": "b376b4b3",
   "metadata": {
    "execution": {
     "iopub.execute_input": "2022-02-14T16:47:11.866384Z",
     "iopub.status.busy": "2022-02-14T16:47:11.865782Z",
     "iopub.status.idle": "2022-02-14T16:47:11.927170Z",
     "shell.execute_reply": "2022-02-14T16:47:11.926650Z"
    }
   },
   "outputs": [],
   "source": [
    "OnePiece.templating.error_missing(\n",
    "    dit,\n",
    "    di;\n",
    "    ig_ = [r\"\\.ipynb_checkpoints\", r\"\\.git\", r\"src\", r\"TEMPLATE.jl\", r\"Comonicon.toml\", r\"deps\"],\n",
    ")"
   ]
  },
  {
   "cell_type": "markdown",
   "id": "0654acfb",
   "metadata": {},
   "source": [
    "## plan_transplant"
   ]
  },
  {
   "cell_type": "code",
   "execution_count": null,
   "id": "96364fc3",
   "metadata": {
    "execution": {
     "iopub.execute_input": "2022-02-14T16:47:11.929124Z",
     "iopub.status.busy": "2022-02-14T16:47:11.928563Z",
     "iopub.status.idle": "2022-02-14T16:47:13.341029Z",
     "shell.execute_reply": "2022-02-14T16:47:13.340585Z"
    }
   },
   "outputs": [],
   "source": [
    "OnePiece.templating.plan_transplant()"
   ]
  },
  {
   "cell_type": "markdown",
   "id": "13e9cd65",
   "metadata": {},
   "source": [
    "## plan_replacement"
   ]
  },
  {
   "cell_type": "code",
   "execution_count": null,
   "id": "8b46a1f9",
   "metadata": {
    "execution": {
     "iopub.execute_input": "2022-02-14T16:47:13.342965Z",
     "iopub.status.busy": "2022-02-14T16:47:13.342394Z",
     "iopub.status.idle": "2022-02-14T16:47:14.138066Z",
     "shell.execute_reply": "2022-02-14T16:47:14.137539Z"
    }
   },
   "outputs": [],
   "source": [
    "OnePiece.templating.plan_replacement(\"Big Mom\")"
   ]
  },
  {
   "cell_type": "markdown",
   "id": "69ad4519",
   "metadata": {},
   "source": [
    "## transplant"
   ]
  },
  {
   "cell_type": "code",
   "execution_count": null,
   "id": "28dfc4c2",
   "metadata": {
    "execution": {
     "iopub.execute_input": "2022-02-14T16:47:14.140272Z",
     "iopub.status.busy": "2022-02-14T16:47:14.139441Z",
     "iopub.status.idle": "2022-02-14T16:47:14.142175Z",
     "shell.execute_reply": "2022-02-14T16:47:14.140880Z"
    }
   },
   "outputs": [],
   "source": [
    "te = tempdir()"
   ]
  },
  {
   "cell_type": "code",
   "execution_count": null,
   "id": "e819d8da",
   "metadata": {
    "execution": {
     "iopub.execute_input": "2022-02-14T16:47:14.144103Z",
     "iopub.status.busy": "2022-02-14T16:47:14.143414Z",
     "iopub.status.idle": "2022-02-14T16:47:14.151780Z",
     "shell.execute_reply": "2022-02-14T16:47:14.151350Z"
    }
   },
   "outputs": [],
   "source": [
    "fit = joinpath(te, \"fit\")\n",
    "\n",
    "write(\n",
    "    fit,\n",
    "    \"# TEMPLATE\n",
    "--\n",
    "GIT_USER_NAME\n",
    "GIT_USER_EMAIL\n",
    "033e1703-1880-4940-9ddc-745bff01a2ac\n",
    "--\n",
    "(stuff)\n",
    "--\n",
    "ODA IS GENIUS.\",\n",
    ")\n",
    "\n",
    "println(read(fit, String))"
   ]
  },
  {
   "cell_type": "code",
   "execution_count": null,
   "id": "12b2ee72",
   "metadata": {
    "execution": {
     "iopub.execute_input": "2022-02-14T16:47:14.153706Z",
     "iopub.status.busy": "2022-02-14T16:47:14.153130Z",
     "iopub.status.idle": "2022-02-14T16:47:14.155805Z",
     "shell.execute_reply": "2022-02-14T16:47:14.155389Z"
    }
   },
   "outputs": [],
   "source": [
    "fi = joinpath(te, \"fi\")\n",
    "\n",
    "write(\n",
    "    fi,\n",
    "    \"(bad part)\n",
    "--\n",
    "(bad part)\n",
    "--\n",
    "GOOD STUFF\n",
    "--\n",
    "(bad part)\",\n",
    ")\n",
    "\n",
    "println(read(fi, String))"
   ]
  },
  {
   "cell_type": "code",
   "execution_count": null,
   "id": "7366635f",
   "metadata": {
    "execution": {
     "iopub.execute_input": "2022-02-14T16:47:14.157674Z",
     "iopub.status.busy": "2022-02-14T16:47:14.157098Z",
     "iopub.status.idle": "2022-02-14T16:47:14.385784Z",
     "shell.execute_reply": "2022-02-14T16:47:14.385363Z"
    }
   },
   "outputs": [],
   "source": [
    "OnePiece.templating.transplant(\n",
    "    fit,\n",
    "    fi,\n",
    "    \"--\",\n",
    "    [1, 1, 2, 1],\n",
    "    re_ = OnePiece.templating.plan_replacement(\"Katakuri\"),\n",
    ")\n",
    "\n",
    "println(read(fi, String))"
   ]
  },
  {
   "cell_type": "markdown",
   "id": "3f396855",
   "metadata": {},
   "source": [
    "---"
   ]
  },
  {
   "cell_type": "code",
   "execution_count": null,
   "id": "b4af2023",
   "metadata": {
    "execution": {
     "iopub.execute_input": "2022-02-14T16:47:14.387867Z",
     "iopub.status.busy": "2022-02-14T16:47:14.387288Z",
     "iopub.status.idle": "2022-02-14T16:47:14.389749Z",
     "shell.execute_reply": "2022-02-14T16:47:14.389328Z"
    }
   },
   "outputs": [],
   "source": [
    "if isdir(TE)\n",
    "\n",
    "    rm(TE, recursive = true)\n",
    "\n",
    "    println(\"Removed \", TE, \".\")\n",
    "\n",
    "end"
   ]
  }
 ],
 "metadata": {
  "kernelspec": {
   "display_name": "Julia 1.7.2",
   "language": "julia",
   "name": "julia-1.7"
  },
  "language_info": {
   "file_extension": ".jl",
   "mimetype": "application/julia",
   "name": "julia",
   "version": "1.7.2"
  }
 },
 "nbformat": 4,
 "nbformat_minor": 5
}
