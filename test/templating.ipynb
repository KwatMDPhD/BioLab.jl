{
 "cells": [
  {
   "cell_type": "code",
   "execution_count": null,
   "id": "34e4701e",
   "metadata": {
    "execution": {
     "iopub.execute_input": "2022-02-08T03:16:13.978143Z",
     "iopub.status.busy": "2022-02-08T03:16:13.573348Z",
     "iopub.status.idle": "2022-02-08T03:16:14.899720Z",
     "shell.execute_reply": "2022-02-08T03:16:14.898863Z"
    }
   },
   "outputs": [],
   "source": [
    "using Revise\n",
    "using BenchmarkTools"
   ]
  },
  {
   "cell_type": "code",
   "execution_count": null,
   "id": "23b98853",
   "metadata": {
    "execution": {
     "iopub.execute_input": "2022-02-08T03:16:14.902305Z",
     "iopub.status.busy": "2022-02-08T03:16:14.901509Z",
     "iopub.status.idle": "2022-02-08T03:16:27.448896Z",
     "shell.execute_reply": "2022-02-08T03:16:27.448353Z"
    }
   },
   "outputs": [],
   "source": [
    "using OnePiece"
   ]
  },
  {
   "cell_type": "markdown",
   "id": "0654acfb",
   "metadata": {},
   "source": [
    "## get_transplant"
   ]
  },
  {
   "cell_type": "code",
   "execution_count": null,
   "id": "96364fc3",
   "metadata": {
    "execution": {
     "iopub.execute_input": "2022-02-08T03:16:29.210824Z",
     "iopub.status.busy": "2022-02-08T03:16:27.450294Z",
     "iopub.status.idle": "2022-02-08T03:16:31.273186Z",
     "shell.execute_reply": "2022-02-08T03:16:31.272791Z"
    }
   },
   "outputs": [],
   "source": [
    "OnePiece.templating.get_transplant()"
   ]
  },
  {
   "cell_type": "markdown",
   "id": "13e9cd65",
   "metadata": {},
   "source": [
    "## get_replacement"
   ]
  },
  {
   "cell_type": "code",
   "execution_count": null,
   "id": "8b46a1f9",
   "metadata": {
    "execution": {
     "iopub.execute_input": "2022-02-08T03:16:31.275204Z",
     "iopub.status.busy": "2022-02-08T03:16:31.274637Z",
     "iopub.status.idle": "2022-02-08T03:16:32.003708Z",
     "shell.execute_reply": "2022-02-08T03:16:32.003306Z"
    }
   },
   "outputs": [],
   "source": [
    "OnePiece.templating.get_replacement(\"Title\")"
   ]
  },
  {
   "cell_type": "markdown",
   "id": "10cc4557",
   "metadata": {},
   "source": [
    "## error_missing"
   ]
  },
  {
   "cell_type": "code",
   "execution_count": null,
   "id": "3b39a9d1",
   "metadata": {
    "execution": {
     "iopub.execute_input": "2022-02-08T03:16:32.005666Z",
     "iopub.status.busy": "2022-02-08T03:16:32.005160Z",
     "iopub.status.idle": "2022-02-08T03:16:32.394390Z",
     "shell.execute_reply": "2022-02-08T03:16:32.393459Z"
    }
   },
   "outputs": [],
   "source": [
    "di1 = dirname(@__DIR__)\n",
    "\n",
    "di2 = dirname(@__DIR__)"
   ]
  },
  {
   "cell_type": "code",
   "execution_count": null,
   "id": "d04accf3",
   "metadata": {
    "execution": {
     "iopub.execute_input": "2022-02-08T03:16:32.396581Z",
     "iopub.status.busy": "2022-02-08T03:16:32.396078Z",
     "iopub.status.idle": "2022-02-08T03:16:36.591233Z",
     "shell.execute_reply": "2022-02-08T03:16:36.590778Z"
    }
   },
   "outputs": [],
   "source": [
    "try\n",
    "\n",
    "    OnePiece.templating.error_missing(di1, di2; ig_ = [\"runtests.jl\"])\n",
    "\n",
    "catch er\n",
    "\n",
    "    er\n",
    "\n",
    "end"
   ]
  },
  {
   "cell_type": "code",
   "execution_count": null,
   "id": "aa17113e",
   "metadata": {
    "execution": {
     "iopub.execute_input": "2022-02-08T03:16:36.593285Z",
     "iopub.status.busy": "2022-02-08T03:16:36.592587Z",
     "iopub.status.idle": "2022-02-08T03:16:36.703197Z",
     "shell.execute_reply": "2022-02-08T03:16:36.702683Z"
    }
   },
   "outputs": [],
   "source": [
    "OnePiece.templating.error_missing(\n",
    "    di1,\n",
    "    di2;\n",
    "    re_ = OnePiece.templating.get_replacement(\"OnePiece.templating\"),\n",
    ")"
   ]
  },
  {
   "cell_type": "markdown",
   "id": "69ad4519",
   "metadata": {},
   "source": [
    "## transplant"
   ]
  },
  {
   "cell_type": "code",
   "execution_count": null,
   "id": "28dfc4c2",
   "metadata": {
    "execution": {
     "iopub.execute_input": "2022-02-08T03:16:36.705170Z",
     "iopub.status.busy": "2022-02-08T03:16:36.704542Z",
     "iopub.status.idle": "2022-02-08T03:16:36.718860Z",
     "shell.execute_reply": "2022-02-08T03:16:36.718330Z"
    }
   },
   "outputs": [],
   "source": [
    "te = tempdir()"
   ]
  },
  {
   "cell_type": "code",
   "execution_count": null,
   "id": "e819d8da",
   "metadata": {
    "execution": {
     "iopub.execute_input": "2022-02-08T03:16:36.720749Z",
     "iopub.status.busy": "2022-02-08T03:16:36.720068Z",
     "iopub.status.idle": "2022-02-08T03:16:36.751446Z",
     "shell.execute_reply": "2022-02-08T03:16:36.751068Z"
    }
   },
   "outputs": [],
   "source": [
    "fi1 = joinpath(te, \"fi1\")\n",
    "\n",
    "write(\n",
    "    fi1,\n",
    "    \"--\n",
    "TemplateExtension\n",
    "KwatMDPhD\n",
    "kwat.me@icloud.com\n",
    "78cb70d7-2427-4375-9fa4-bd090de30ff2\n",
    "--\n",
    "(Stuff)\n",
    "--\n",
    "Made by Kwat\",\n",
    ")\n",
    "\n",
    "println(read(fi1, String))"
   ]
  },
  {
   "cell_type": "code",
   "execution_count": null,
   "id": "12b2ee72",
   "metadata": {
    "execution": {
     "iopub.execute_input": "2022-02-08T03:16:36.753274Z",
     "iopub.status.busy": "2022-02-08T03:16:36.752734Z",
     "iopub.status.idle": "2022-02-08T03:16:36.766785Z",
     "shell.execute_reply": "2022-02-08T03:16:36.766371Z"
    }
   },
   "outputs": [],
   "source": [
    "fi2 = joinpath(te, \"fi2\")\n",
    "\n",
    "write(\n",
    "    fi2,\n",
    "    \"--\n",
    "(Bad part)\n",
    "--\n",
    "Good stuff\n",
    "--\n",
    "(Bad part)\",\n",
    ")\n",
    "\n",
    "println(read(fi2, String))"
   ]
  },
  {
   "cell_type": "code",
   "execution_count": null,
   "id": "7366635f",
   "metadata": {
    "execution": {
     "iopub.execute_input": "2022-02-08T03:16:36.768587Z",
     "iopub.status.busy": "2022-02-08T03:16:36.768000Z",
     "iopub.status.idle": "2022-02-08T03:16:36.964686Z",
     "shell.execute_reply": "2022-02-08T03:16:36.964284Z"
    }
   },
   "outputs": [],
   "source": [
    "OnePiece.templating.transplant(\n",
    "    fi1,\n",
    "    fi2,\n",
    "    \"--\",\n",
    "    [1, 2, 1],\n",
    "    OnePiece.templating.get_replacement(\"Title\"),\n",
    ")\n",
    "\n",
    "println(read(fi2, String))"
   ]
  }
 ],
 "metadata": {
  "@webio": {
   "lastCommId": null,
   "lastKernelId": null
  },
  "kernelspec": {
   "display_name": "Julia 1.7.1",
   "language": "julia",
   "name": "julia-1.7"
  },
  "language_info": {
   "file_extension": ".jl",
   "mimetype": "application/julia",
   "name": "julia",
   "version": "1.7.1"
  }
 },
 "nbformat": 4,
 "nbformat_minor": 5
}
