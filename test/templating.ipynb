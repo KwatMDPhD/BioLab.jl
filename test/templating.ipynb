{
 "cells": [
  {
   "cell_type": "code",
   "execution_count": 1,
   "id": "34e4701e",
   "metadata": {
    "execution": {
     "iopub.execute_input": "2022-02-10T17:17:50.857205Z",
     "iopub.status.busy": "2022-02-10T17:17:50.461290Z",
     "iopub.status.idle": "2022-02-10T17:17:51.683872Z",
     "shell.execute_reply": "2022-02-10T17:17:51.683276Z"
    }
   },
   "outputs": [],
   "source": [
    "using Revise\n",
    "using BenchmarkTools"
   ]
  },
  {
   "cell_type": "code",
   "execution_count": 2,
   "id": "23b98853",
   "metadata": {
    "execution": {
     "iopub.execute_input": "2022-02-10T17:17:51.686026Z",
     "iopub.status.busy": "2022-02-10T17:17:51.685395Z",
     "iopub.status.idle": "2022-02-10T17:17:57.048141Z",
     "shell.execute_reply": "2022-02-10T17:17:57.047750Z"
    }
   },
   "outputs": [],
   "source": [
    "using OnePiece"
   ]
  },
  {
   "cell_type": "markdown",
   "id": "ae39cefa",
   "metadata": {},
   "source": [
    "## error_missing"
   ]
  },
  {
   "cell_type": "code",
   "execution_count": 3,
   "id": "f14e1c5a",
   "metadata": {
    "execution": {
     "iopub.execute_input": "2022-02-10T17:17:57.379928Z",
     "iopub.status.busy": "2022-02-10T17:17:57.049421Z",
     "iopub.status.idle": "2022-02-10T17:17:58.990823Z",
     "shell.execute_reply": "2022-02-10T17:17:58.990387Z"
    }
   },
   "outputs": [
    {
     "data": {
      "text/plain": [
       "\"/Users/kwat/craft/OnePiece.jl\""
      ]
     },
     "execution_count": 3,
     "metadata": {},
     "output_type": "execute_result"
    }
   ],
   "source": [
    "di = dirname(@__DIR__)"
   ]
  },
  {
   "cell_type": "code",
   "execution_count": 4,
   "id": "aba44107",
   "metadata": {
    "execution": {
     "iopub.execute_input": "2022-02-10T17:17:58.992819Z",
     "iopub.status.busy": "2022-02-10T17:17:58.992268Z",
     "iopub.status.idle": "2022-02-10T17:17:59.006612Z",
     "shell.execute_reply": "2022-02-10T17:17:59.006145Z"
    }
   },
   "outputs": [
    {
     "data": {
      "text/plain": [
       "\"/Users/kwat/craft/PkgRepository.jl/TEMPLATE.jl\""
      ]
     },
     "execution_count": 4,
     "metadata": {},
     "output_type": "execute_result"
    }
   ],
   "source": [
    "dit = joinpath(homedir(), \"craft\", \"PkgRepository.jl\", \"TEMPLATE.jl\")"
   ]
  },
  {
   "cell_type": "code",
   "execution_count": 5,
   "id": "121f406d",
   "metadata": {
    "execution": {
     "iopub.execute_input": "2022-02-10T17:17:59.008639Z",
     "iopub.status.busy": "2022-02-10T17:17:59.008044Z",
     "iopub.status.idle": "2022-02-10T17:17:59.691858Z",
     "shell.execute_reply": "2022-02-10T17:17:59.691283Z"
    }
   },
   "outputs": [
    {
     "data": {
      "text/plain": [
       "ErrorException(\"missing /Users/kwat/craft/OnePiece.jl/src/TEMPLATE.jl\")"
      ]
     },
     "execution_count": 5,
     "metadata": {},
     "output_type": "execute_result"
    }
   ],
   "source": [
    "try\n",
    "\n",
    "    OnePiece.templating.error_missing(dit, di)\n",
    "\n",
    "catch er\n",
    "\n",
    "    er\n",
    "\n",
    "end"
   ]
  },
  {
   "cell_type": "code",
   "execution_count": 6,
   "id": "cd0a1d51",
   "metadata": {
    "execution": {
     "iopub.execute_input": "2022-02-10T17:17:59.693929Z",
     "iopub.status.busy": "2022-02-10T17:17:59.693334Z",
     "iopub.status.idle": "2022-02-10T17:17:59.767188Z",
     "shell.execute_reply": "2022-02-10T17:17:59.766729Z"
    }
   },
   "outputs": [],
   "source": [
    "OnePiece.templating.error_missing(dit, di; re_ = [\"TEMPLATE.jl\" => \"OnePiece.jl\"])"
   ]
  },
  {
   "cell_type": "code",
   "execution_count": 7,
   "id": "135c0c00",
   "metadata": {
    "execution": {
     "iopub.execute_input": "2022-02-10T17:17:59.769141Z",
     "iopub.status.busy": "2022-02-10T17:17:59.768639Z",
     "iopub.status.idle": "2022-02-10T17:17:59.782309Z",
     "shell.execute_reply": "2022-02-10T17:17:59.781920Z"
    }
   },
   "outputs": [
    {
     "data": {
      "text/plain": [
       "\"/Users/kwat/craft/PkgRepository.jl\""
      ]
     },
     "execution_count": 7,
     "metadata": {},
     "output_type": "execute_result"
    }
   ],
   "source": [
    "dit = joinpath(homedir(), \"craft\", \"PkgRepository.jl\")"
   ]
  },
  {
   "cell_type": "code",
   "execution_count": 8,
   "id": "884520ad",
   "metadata": {
    "execution": {
     "iopub.execute_input": "2022-02-10T17:17:59.784179Z",
     "iopub.status.busy": "2022-02-10T17:17:59.783682Z",
     "iopub.status.idle": "2022-02-10T17:17:59.798353Z",
     "shell.execute_reply": "2022-02-10T17:17:59.797918Z"
    }
   },
   "outputs": [
    {
     "data": {
      "text/plain": [
       "ErrorException(\"missing /Users/kwat/craft/OnePiece.jl/TEMPLATE.jl\")"
      ]
     },
     "execution_count": 8,
     "metadata": {},
     "output_type": "execute_result"
    }
   ],
   "source": [
    "try\n",
    "\n",
    "    OnePiece.templating.error_missing(dit, di)\n",
    "\n",
    "catch er\n",
    "\n",
    "    er\n",
    "\n",
    "end"
   ]
  },
  {
   "cell_type": "code",
   "execution_count": 9,
   "id": "b376b4b3",
   "metadata": {
    "execution": {
     "iopub.execute_input": "2022-02-10T17:17:59.800297Z",
     "iopub.status.busy": "2022-02-10T17:17:59.799806Z",
     "iopub.status.idle": "2022-02-10T17:17:59.900919Z",
     "shell.execute_reply": "2022-02-10T17:17:59.900531Z"
    }
   },
   "outputs": [],
   "source": [
    "OnePiece.templating.error_missing(\n",
    "    dit,\n",
    "    di;\n",
    "    ig_ = [r\"\\.ipynb_checkpoints\", r\"\\.git\", r\"src\", r\"TEMPLATE.jl\", r\"Comonicon.toml\", r\"deps\"],\n",
    ")"
   ]
  },
  {
   "cell_type": "markdown",
   "id": "0654acfb",
   "metadata": {},
   "source": [
    "## plan_transplant"
   ]
  },
  {
   "cell_type": "code",
   "execution_count": 10,
   "id": "96364fc3",
   "metadata": {
    "execution": {
     "iopub.execute_input": "2022-02-10T17:17:59.902939Z",
     "iopub.status.busy": "2022-02-10T17:17:59.902297Z",
     "iopub.status.idle": "2022-02-10T17:18:01.214796Z",
     "shell.execute_reply": "2022-02-10T17:18:01.214358Z"
    }
   },
   "outputs": [
    {
     "data": {
      "text/plain": [
       "3-element Vector{Tuple{String, Vector}}:\n",
       " (\".gitignore\", [1, 1, 1, 2])\n",
       " (\"README.md\", [2, 1, 1])\n",
       " (\"LICENSE\", Any[])"
      ]
     },
     "execution_count": 10,
     "metadata": {},
     "output_type": "execute_result"
    }
   ],
   "source": [
    "OnePiece.templating.plan_transplant()"
   ]
  },
  {
   "cell_type": "markdown",
   "id": "13e9cd65",
   "metadata": {},
   "source": [
    "## plan_replacement"
   ]
  },
  {
   "cell_type": "code",
   "execution_count": 11,
   "id": "8b46a1f9",
   "metadata": {
    "execution": {
     "iopub.execute_input": "2022-02-10T17:18:01.217359Z",
     "iopub.status.busy": "2022-02-10T17:18:01.216270Z",
     "iopub.status.idle": "2022-02-10T17:18:01.928254Z",
     "shell.execute_reply": "2022-02-10T17:18:01.927782Z"
    }
   },
   "outputs": [
    {
     "data": {
      "text/plain": [
       "4-element Vector{Pair{String, AbstractString}}:\n",
       "                             \"TEMPLATE\" => \"Big Mom\"\n",
       "                        \"GIT_USER_NAME\" => \"KwatMDPhD\"\n",
       "                       \"GIT_USER_EMAIL\" => \"kwat.me@icloud.com\"\n",
       " \"033e1703-1880-4940-9ddc-745bff01a2ac\" => \"c4e7876e-935d-44be-8b12-d60ea1dc8dcc\""
      ]
     },
     "execution_count": 11,
     "metadata": {},
     "output_type": "execute_result"
    }
   ],
   "source": [
    "OnePiece.templating.plan_replacement(\"Big Mom\")"
   ]
  },
  {
   "cell_type": "markdown",
   "id": "69ad4519",
   "metadata": {},
   "source": [
    "## transplant"
   ]
  },
  {
   "cell_type": "code",
   "execution_count": 12,
   "id": "28dfc4c2",
   "metadata": {
    "execution": {
     "iopub.execute_input": "2022-02-10T17:18:01.930284Z",
     "iopub.status.busy": "2022-02-10T17:18:01.929787Z",
     "iopub.status.idle": "2022-02-10T17:18:01.943361Z",
     "shell.execute_reply": "2022-02-10T17:18:01.942978Z"
    }
   },
   "outputs": [
    {
     "data": {
      "text/plain": [
       "\"/var/folders/mg/30npdf0s1z36txb2qvgylrzh0000gn/T\""
      ]
     },
     "execution_count": 12,
     "metadata": {},
     "output_type": "execute_result"
    }
   ],
   "source": [
    "te = tempdir()"
   ]
  },
  {
   "cell_type": "code",
   "execution_count": 13,
   "id": "e819d8da",
   "metadata": {
    "execution": {
     "iopub.execute_input": "2022-02-10T17:18:01.945331Z",
     "iopub.status.busy": "2022-02-10T17:18:01.944829Z",
     "iopub.status.idle": "2022-02-10T17:18:01.973124Z",
     "shell.execute_reply": "2022-02-10T17:18:01.972739Z"
    }
   },
   "outputs": [
    {
     "name": "stdout",
     "output_type": "stream",
     "text": [
      "# TEMPLATE\n",
      "--\n",
      "GIT_USER_NAME\n",
      "GIT_USER_EMAIL\n",
      "033e1703-1880-4940-9ddc-745bff01a2ac\n",
      "--\n",
      "(stuff)\n",
      "--\n",
      "ODA IS GENIUS.\n"
     ]
    }
   ],
   "source": [
    "fit = joinpath(te, \"fit\")\n",
    "\n",
    "write(\n",
    "    fit,\n",
    "    \"# TEMPLATE\n",
    "--\n",
    "GIT_USER_NAME\n",
    "GIT_USER_EMAIL\n",
    "033e1703-1880-4940-9ddc-745bff01a2ac\n",
    "--\n",
    "(stuff)\n",
    "--\n",
    "ODA IS GENIUS.\",\n",
    ")\n",
    "\n",
    "println(read(fit, String))"
   ]
  },
  {
   "cell_type": "code",
   "execution_count": 14,
   "id": "12b2ee72",
   "metadata": {
    "execution": {
     "iopub.execute_input": "2022-02-10T17:18:01.974941Z",
     "iopub.status.busy": "2022-02-10T17:18:01.974303Z",
     "iopub.status.idle": "2022-02-10T17:18:01.988332Z",
     "shell.execute_reply": "2022-02-10T17:18:01.987984Z"
    }
   },
   "outputs": [
    {
     "name": "stdout",
     "output_type": "stream",
     "text": [
      "(bad part)\n",
      "--\n",
      "(bad part)\n",
      "--\n",
      "GOOD STUFF\n",
      "--\n",
      "(bad part)\n"
     ]
    }
   ],
   "source": [
    "fi = joinpath(te, \"fi\")\n",
    "\n",
    "write(\n",
    "    fi,\n",
    "    \"(bad part)\n",
    "--\n",
    "(bad part)\n",
    "--\n",
    "GOOD STUFF\n",
    "--\n",
    "(bad part)\",\n",
    ")\n",
    "\n",
    "println(read(fi, String))"
   ]
  },
  {
   "cell_type": "code",
   "execution_count": 15,
   "id": "7366635f",
   "metadata": {
    "execution": {
     "iopub.execute_input": "2022-02-10T17:18:01.990171Z",
     "iopub.status.busy": "2022-02-10T17:18:01.989676Z",
     "iopub.status.idle": "2022-02-10T17:18:02.234725Z",
     "shell.execute_reply": "2022-02-10T17:18:02.234300Z"
    }
   },
   "outputs": [
    {
     "name": "stdout",
     "output_type": "stream",
     "text": [
      "Transplanting /var/folders/mg/30npdf0s1z36txb2qvgylrzh0000gn/T/fi\n",
      "# Katakuri\n",
      "--\n",
      "KwatMDPhD\n",
      "kwat.me@icloud.com\n",
      "8cc04ba5-0c84-4dfb-88d1-90298a37bce2\n",
      "--\n",
      "GOOD STUFF\n",
      "--\n",
      "ODA IS GENIUS.\n"
     ]
    }
   ],
   "source": [
    "OnePiece.templating.transplant(\n",
    "    fit,\n",
    "    fi,\n",
    "    \"--\",\n",
    "    [1, 1, 2, 1],\n",
    "    OnePiece.templating.plan_replacement(\"Katakuri\"),\n",
    ")\n",
    "\n",
    "println(read(fi, String))"
   ]
  }
 ],
 "metadata": {
  "@webio": {
   "lastCommId": "36eec5678e4849fa83f0059a02d162d9",
   "lastKernelId": "3f9b4f05-8df6-4ea6-b25f-2bd22e8f7694"
  },
  "kernelspec": {
   "display_name": "Julia 1.7.2",
   "language": "julia",
   "name": "julia-1.7"
  },
  "language_info": {
   "file_extension": ".jl",
   "mimetype": "application/julia",
   "name": "julia",
   "version": "1.7.2"
  }
 },
 "nbformat": 4,
 "nbformat_minor": 5
}
