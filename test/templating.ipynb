{
 "cells": [
  {
   "cell_type": "code",
   "execution_count": null,
   "id": "017464da",
   "metadata": {
    "execution": {
     "iopub.execute_input": "2022-02-13T05:32:29.024264Z",
     "iopub.status.busy": "2022-02-13T05:32:28.697511Z",
     "iopub.status.idle": "2022-02-13T05:32:29.203919Z",
     "shell.execute_reply": "2022-02-13T05:32:29.203418Z"
    }
   },
   "outputs": [],
   "source": [
    "TE = joinpath(tempdir(), \"OnePiece.test\")\n",
    "\n",
    "if isdir(TE)\n",
    "\n",
    "    rm(TE, recursive = true)\n",
    "\n",
    "    println(\"Removed \", TE, \".\")\n",
    "\n",
    "end\n",
    "\n",
    "mkdir(TE)\n",
    "\n",
    "println(\"Made \", TE, \".\")"
   ]
  },
  {
   "cell_type": "code",
   "execution_count": null,
   "id": "34e4701e",
   "metadata": {
    "execution": {
     "iopub.execute_input": "2022-02-13T05:32:29.205831Z",
     "iopub.status.busy": "2022-02-13T05:32:29.205327Z",
     "iopub.status.idle": "2022-02-13T05:32:33.181249Z",
     "shell.execute_reply": "2022-02-13T05:32:33.180794Z"
    }
   },
   "outputs": [],
   "source": [
    "using OnePiece"
   ]
  },
  {
   "cell_type": "markdown",
   "id": "b92a3da9",
   "metadata": {},
   "source": [
    "---"
   ]
  },
  {
   "cell_type": "markdown",
   "id": "ae39cefa",
   "metadata": {},
   "source": [
    "## error_missing"
   ]
  },
  {
   "cell_type": "code",
   "execution_count": null,
   "id": "f14e1c5a",
   "metadata": {
    "execution": {
     "iopub.execute_input": "2022-02-13T05:32:33.472001Z",
     "iopub.status.busy": "2022-02-13T05:32:33.182642Z",
     "iopub.status.idle": "2022-02-13T05:32:34.065205Z",
     "shell.execute_reply": "2022-02-13T05:32:34.064810Z"
    }
   },
   "outputs": [],
   "source": [
    "di = dirname(@__DIR__)"
   ]
  },
  {
   "cell_type": "code",
   "execution_count": null,
   "id": "aba44107",
   "metadata": {
    "execution": {
     "iopub.execute_input": "2022-02-13T05:32:34.067402Z",
     "iopub.status.busy": "2022-02-13T05:32:34.066531Z",
     "iopub.status.idle": "2022-02-13T05:32:34.068937Z",
     "shell.execute_reply": "2022-02-13T05:32:34.068572Z"
    }
   },
   "outputs": [],
   "source": [
    "dit = joinpath(homedir(), \"craft\", \"PkgRepository.jl\", \"TEMPLATE.jl\")"
   ]
  },
  {
   "cell_type": "code",
   "execution_count": null,
   "id": "121f406d",
   "metadata": {
    "execution": {
     "iopub.execute_input": "2022-02-13T05:32:34.070873Z",
     "iopub.status.busy": "2022-02-13T05:32:34.070368Z",
     "iopub.status.idle": "2022-02-13T05:32:34.589680Z",
     "shell.execute_reply": "2022-02-13T05:32:34.589287Z"
    }
   },
   "outputs": [],
   "source": [
    "try\n",
    "\n",
    "    OnePiece.templating.error_missing(dit, di)\n",
    "\n",
    "catch er\n",
    "\n",
    "    er\n",
    "\n",
    "end"
   ]
  },
  {
   "cell_type": "code",
   "execution_count": null,
   "id": "cd0a1d51",
   "metadata": {
    "execution": {
     "iopub.execute_input": "2022-02-13T05:32:34.591573Z",
     "iopub.status.busy": "2022-02-13T05:32:34.591061Z",
     "iopub.status.idle": "2022-02-13T05:32:34.648417Z",
     "shell.execute_reply": "2022-02-13T05:32:34.647976Z"
    }
   },
   "outputs": [],
   "source": [
    "OnePiece.templating.error_missing(dit, di; re_ = [\"TEMPLATE.jl\" => \"OnePiece.jl\"])"
   ]
  },
  {
   "cell_type": "code",
   "execution_count": null,
   "id": "135c0c00",
   "metadata": {
    "execution": {
     "iopub.execute_input": "2022-02-13T05:32:34.650576Z",
     "iopub.status.busy": "2022-02-13T05:32:34.649674Z",
     "iopub.status.idle": "2022-02-13T05:32:34.652222Z",
     "shell.execute_reply": "2022-02-13T05:32:34.651090Z"
    }
   },
   "outputs": [],
   "source": [
    "dit = joinpath(homedir(), \"craft\", \"PkgRepository.jl\")"
   ]
  },
  {
   "cell_type": "code",
   "execution_count": null,
   "id": "884520ad",
   "metadata": {
    "execution": {
     "iopub.execute_input": "2022-02-13T05:32:34.654067Z",
     "iopub.status.busy": "2022-02-13T05:32:34.653516Z",
     "iopub.status.idle": "2022-02-13T05:32:34.655853Z",
     "shell.execute_reply": "2022-02-13T05:32:34.655485Z"
    }
   },
   "outputs": [],
   "source": [
    "try\n",
    "\n",
    "    OnePiece.templating.error_missing(dit, di)\n",
    "\n",
    "catch er\n",
    "\n",
    "    er\n",
    "\n",
    "end"
   ]
  },
  {
   "cell_type": "code",
   "execution_count": null,
   "id": "b376b4b3",
   "metadata": {
    "execution": {
     "iopub.execute_input": "2022-02-13T05:32:34.657606Z",
     "iopub.status.busy": "2022-02-13T05:32:34.657125Z",
     "iopub.status.idle": "2022-02-13T05:32:34.720751Z",
     "shell.execute_reply": "2022-02-13T05:32:34.720308Z"
    }
   },
   "outputs": [],
   "source": [
    "OnePiece.templating.error_missing(\n",
    "    dit,\n",
    "    di;\n",
    "    ig_ = [r\"\\.ipynb_checkpoints\", r\"\\.git\", r\"src\", r\"TEMPLATE.jl\", r\"Comonicon.toml\", r\"deps\"],\n",
    ")"
   ]
  },
  {
   "cell_type": "markdown",
   "id": "0654acfb",
   "metadata": {},
   "source": [
    "## plan_transplant"
   ]
  },
  {
   "cell_type": "code",
   "execution_count": null,
   "id": "96364fc3",
   "metadata": {
    "execution": {
     "iopub.execute_input": "2022-02-13T05:32:34.722656Z",
     "iopub.status.busy": "2022-02-13T05:32:34.722145Z",
     "iopub.status.idle": "2022-02-13T05:32:35.930221Z",
     "shell.execute_reply": "2022-02-13T05:32:35.929776Z"
    }
   },
   "outputs": [],
   "source": [
    "OnePiece.templating.plan_transplant()"
   ]
  },
  {
   "cell_type": "markdown",
   "id": "13e9cd65",
   "metadata": {},
   "source": [
    "## plan_replacement"
   ]
  },
  {
   "cell_type": "code",
   "execution_count": null,
   "id": "8b46a1f9",
   "metadata": {
    "execution": {
     "iopub.execute_input": "2022-02-13T05:32:35.932145Z",
     "iopub.status.busy": "2022-02-13T05:32:35.931572Z",
     "iopub.status.idle": "2022-02-13T05:32:36.680043Z",
     "shell.execute_reply": "2022-02-13T05:32:36.679599Z"
    }
   },
   "outputs": [],
   "source": [
    "OnePiece.templating.plan_replacement(\"Big Mom\")"
   ]
  },
  {
   "cell_type": "markdown",
   "id": "69ad4519",
   "metadata": {},
   "source": [
    "## transplant"
   ]
  },
  {
   "cell_type": "code",
   "execution_count": null,
   "id": "28dfc4c2",
   "metadata": {
    "execution": {
     "iopub.execute_input": "2022-02-13T05:32:36.682169Z",
     "iopub.status.busy": "2022-02-13T05:32:36.681403Z",
     "iopub.status.idle": "2022-02-13T05:32:36.683929Z",
     "shell.execute_reply": "2022-02-13T05:32:36.682763Z"
    }
   },
   "outputs": [],
   "source": [
    "te = tempdir()"
   ]
  },
  {
   "cell_type": "code",
   "execution_count": null,
   "id": "e819d8da",
   "metadata": {
    "execution": {
     "iopub.execute_input": "2022-02-13T05:32:36.685793Z",
     "iopub.status.busy": "2022-02-13T05:32:36.685203Z",
     "iopub.status.idle": "2022-02-13T05:32:36.692361Z",
     "shell.execute_reply": "2022-02-13T05:32:36.691954Z"
    }
   },
   "outputs": [],
   "source": [
    "fit = joinpath(te, \"fit\")\n",
    "\n",
    "write(\n",
    "    fit,\n",
    "    \"# TEMPLATE\n",
    "--\n",
    "GIT_USER_NAME\n",
    "GIT_USER_EMAIL\n",
    "033e1703-1880-4940-9ddc-745bff01a2ac\n",
    "--\n",
    "(stuff)\n",
    "--\n",
    "ODA IS GENIUS.\",\n",
    ")\n",
    "\n",
    "println(read(fit, String))"
   ]
  },
  {
   "cell_type": "code",
   "execution_count": null,
   "id": "12b2ee72",
   "metadata": {
    "execution": {
     "iopub.execute_input": "2022-02-13T05:32:36.694270Z",
     "iopub.status.busy": "2022-02-13T05:32:36.693645Z",
     "iopub.status.idle": "2022-02-13T05:32:36.696112Z",
     "shell.execute_reply": "2022-02-13T05:32:36.695670Z"
    }
   },
   "outputs": [],
   "source": [
    "fi = joinpath(te, \"fi\")\n",
    "\n",
    "write(\n",
    "    fi,\n",
    "    \"(bad part)\n",
    "--\n",
    "(bad part)\n",
    "--\n",
    "GOOD STUFF\n",
    "--\n",
    "(bad part)\",\n",
    ")\n",
    "\n",
    "println(read(fi, String))"
   ]
  },
  {
   "cell_type": "code",
   "execution_count": null,
   "id": "7366635f",
   "metadata": {
    "execution": {
     "iopub.execute_input": "2022-02-13T05:32:36.697927Z",
     "iopub.status.busy": "2022-02-13T05:32:36.697358Z",
     "iopub.status.idle": "2022-02-13T05:32:36.934876Z",
     "shell.execute_reply": "2022-02-13T05:32:36.934458Z"
    }
   },
   "outputs": [],
   "source": [
    "OnePiece.templating.transplant(\n",
    "    fit,\n",
    "    fi,\n",
    "    \"--\",\n",
    "    [1, 1, 2, 1],\n",
    "    re_ = OnePiece.templating.plan_replacement(\"Katakuri\"),\n",
    ")\n",
    "\n",
    "println(read(fi, String))"
   ]
  },
  {
   "cell_type": "markdown",
   "id": "3f396855",
   "metadata": {},
   "source": [
    "---"
   ]
  },
  {
   "cell_type": "code",
   "execution_count": null,
   "id": "b4af2023",
   "metadata": {
    "execution": {
     "iopub.execute_input": "2022-02-13T05:32:36.936831Z",
     "iopub.status.busy": "2022-02-13T05:32:36.936262Z",
     "iopub.status.idle": "2022-02-13T05:32:36.938621Z",
     "shell.execute_reply": "2022-02-13T05:32:36.938184Z"
    }
   },
   "outputs": [],
   "source": [
    "if isdir(TE)\n",
    "\n",
    "    rm(TE, recursive = true)\n",
    "\n",
    "    println(\"Removed \", TE, \".\")\n",
    "\n",
    "end"
   ]
  }
 ],
 "metadata": {
  "kernelspec": {
   "display_name": "Julia 1.7.2",
   "language": "julia",
   "name": "julia-1.7"
  },
  "language_info": {
   "file_extension": ".jl",
   "mimetype": "application/julia",
   "name": "julia",
   "version": "1.7.2"
  }
 },
 "nbformat": 4,
 "nbformat_minor": 5
}
