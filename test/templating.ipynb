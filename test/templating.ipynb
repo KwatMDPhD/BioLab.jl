{
 "cells": [
  {
   "cell_type": "code",
   "execution_count": null,
   "id": "017464da",
   "metadata": {
    "execution": {
     "iopub.execute_input": "2022-02-14T17:02:29.076785Z",
     "iopub.status.busy": "2022-02-14T17:02:28.730794Z",
     "iopub.status.idle": "2022-02-14T17:02:29.270192Z",
     "shell.execute_reply": "2022-02-14T17:02:29.269702Z"
    }
   },
   "outputs": [],
   "source": [
    "TE = joinpath(tempdir(), \"OnePiece.test\")\n",
    "\n",
    "if isdir(TE)\n",
    "\n",
    "    rm(TE, recursive = true)\n",
    "\n",
    "    println(\"Removed \", TE, \".\")\n",
    "\n",
    "end\n",
    "\n",
    "mkdir(TE)\n",
    "\n",
    "println(\"Made \", TE, \".\")"
   ]
  },
  {
   "cell_type": "code",
   "execution_count": null,
   "id": "34e4701e",
   "metadata": {
    "execution": {
     "iopub.execute_input": "2022-02-14T17:02:29.272022Z",
     "iopub.status.busy": "2022-02-14T17:02:29.271525Z",
     "iopub.status.idle": "2022-02-14T17:02:33.469191Z",
     "shell.execute_reply": "2022-02-14T17:02:33.468641Z"
    }
   },
   "outputs": [],
   "source": [
    "using OnePiece"
   ]
  },
  {
   "cell_type": "markdown",
   "id": "b92a3da9",
   "metadata": {},
   "source": [
    "---"
   ]
  },
  {
   "cell_type": "markdown",
   "id": "ae39cefa",
   "metadata": {},
   "source": [
    "## error_missing"
   ]
  },
  {
   "cell_type": "code",
   "execution_count": null,
   "id": "f14e1c5a",
   "metadata": {
    "execution": {
     "iopub.execute_input": "2022-02-14T17:02:33.819280Z",
     "iopub.status.busy": "2022-02-14T17:02:33.470612Z",
     "iopub.status.idle": "2022-02-14T17:02:34.519708Z",
     "shell.execute_reply": "2022-02-14T17:02:34.519250Z"
    }
   },
   "outputs": [],
   "source": [
    "di = dirname(@__DIR__)"
   ]
  },
  {
   "cell_type": "code",
   "execution_count": null,
   "id": "aba44107",
   "metadata": {
    "execution": {
     "iopub.execute_input": "2022-02-14T17:02:34.521677Z",
     "iopub.status.busy": "2022-02-14T17:02:34.521023Z",
     "iopub.status.idle": "2022-02-14T17:02:34.523487Z",
     "shell.execute_reply": "2022-02-14T17:02:34.522974Z"
    }
   },
   "outputs": [],
   "source": [
    "dit = joinpath(homedir(), \"craft\", \"PkgRepository.jl\", \"TEMPLATE.jl\")"
   ]
  },
  {
   "cell_type": "code",
   "execution_count": null,
   "id": "121f406d",
   "metadata": {
    "execution": {
     "iopub.execute_input": "2022-02-14T17:02:34.525332Z",
     "iopub.status.busy": "2022-02-14T17:02:34.524754Z",
     "iopub.status.idle": "2022-02-14T17:02:35.119362Z",
     "shell.execute_reply": "2022-02-14T17:02:35.118837Z"
    }
   },
   "outputs": [],
   "source": [
    "try\n",
    "\n",
    "    OnePiece.templating.error_missing(dit, di)\n",
    "\n",
    "catch er\n",
    "\n",
    "    er\n",
    "\n",
    "end"
   ]
  },
  {
   "cell_type": "code",
   "execution_count": null,
   "id": "cd0a1d51",
   "metadata": {
    "execution": {
     "iopub.execute_input": "2022-02-14T17:02:35.121305Z",
     "iopub.status.busy": "2022-02-14T17:02:35.120704Z",
     "iopub.status.idle": "2022-02-14T17:02:35.189521Z",
     "shell.execute_reply": "2022-02-14T17:02:35.188923Z"
    }
   },
   "outputs": [],
   "source": [
    "OnePiece.templating.error_missing(dit, di; re_ = [\"TEMPLATE.jl\" => \"OnePiece.jl\"])"
   ]
  },
  {
   "cell_type": "code",
   "execution_count": null,
   "id": "135c0c00",
   "metadata": {
    "execution": {
     "iopub.execute_input": "2022-02-14T17:02:35.191673Z",
     "iopub.status.busy": "2022-02-14T17:02:35.190882Z",
     "iopub.status.idle": "2022-02-14T17:02:35.193489Z",
     "shell.execute_reply": "2022-02-14T17:02:35.192283Z"
    }
   },
   "outputs": [],
   "source": [
    "dit = joinpath(homedir(), \"craft\", \"PkgRepository.jl\")"
   ]
  },
  {
   "cell_type": "code",
   "execution_count": null,
   "id": "884520ad",
   "metadata": {
    "execution": {
     "iopub.execute_input": "2022-02-14T17:02:35.195284Z",
     "iopub.status.busy": "2022-02-14T17:02:35.194668Z",
     "iopub.status.idle": "2022-02-14T17:02:35.197248Z",
     "shell.execute_reply": "2022-02-14T17:02:35.196111Z"
    }
   },
   "outputs": [],
   "source": [
    "try\n",
    "\n",
    "    OnePiece.templating.error_missing(dit, di)\n",
    "\n",
    "catch er\n",
    "\n",
    "    er\n",
    "\n",
    "end"
   ]
  },
  {
   "cell_type": "code",
   "execution_count": null,
   "id": "b376b4b3",
   "metadata": {
    "execution": {
     "iopub.execute_input": "2022-02-14T17:02:35.199075Z",
     "iopub.status.busy": "2022-02-14T17:02:35.198489Z",
     "iopub.status.idle": "2022-02-14T17:02:35.258960Z",
     "shell.execute_reply": "2022-02-14T17:02:35.258387Z"
    }
   },
   "outputs": [],
   "source": [
    "OnePiece.templating.error_missing(\n",
    "    dit,\n",
    "    di;\n",
    "    ig_ = [r\"\\.ipynb_checkpoints\", r\"\\.git\", r\"src\", r\"TEMPLATE.jl\", r\"Comonicon.toml\", r\"deps\"],\n",
    ")"
   ]
  },
  {
   "cell_type": "markdown",
   "id": "0654acfb",
   "metadata": {},
   "source": [
    "## plan_transplant"
   ]
  },
  {
   "cell_type": "code",
   "execution_count": null,
   "id": "96364fc3",
   "metadata": {
    "execution": {
     "iopub.execute_input": "2022-02-14T17:02:35.260912Z",
     "iopub.status.busy": "2022-02-14T17:02:35.260328Z",
     "iopub.status.idle": "2022-02-14T17:02:36.632153Z",
     "shell.execute_reply": "2022-02-14T17:02:36.631705Z"
    }
   },
   "outputs": [],
   "source": [
    "OnePiece.templating.plan_transplant()"
   ]
  },
  {
   "cell_type": "markdown",
   "id": "13e9cd65",
   "metadata": {},
   "source": [
    "## plan_replacement"
   ]
  },
  {
   "cell_type": "code",
   "execution_count": null,
   "id": "8b46a1f9",
   "metadata": {
    "execution": {
     "iopub.execute_input": "2022-02-14T17:02:36.634145Z",
     "iopub.status.busy": "2022-02-14T17:02:36.633569Z",
     "iopub.status.idle": "2022-02-14T17:02:37.402133Z",
     "shell.execute_reply": "2022-02-14T17:02:37.401683Z"
    }
   },
   "outputs": [],
   "source": [
    "OnePiece.templating.plan_replacement(\"Big Mom\")"
   ]
  },
  {
   "cell_type": "markdown",
   "id": "69ad4519",
   "metadata": {},
   "source": [
    "## transplant"
   ]
  },
  {
   "cell_type": "code",
   "execution_count": null,
   "id": "28dfc4c2",
   "metadata": {
    "execution": {
     "iopub.execute_input": "2022-02-14T17:02:37.404222Z",
     "iopub.status.busy": "2022-02-14T17:02:37.403539Z",
     "iopub.status.idle": "2022-02-14T17:02:37.406034Z",
     "shell.execute_reply": "2022-02-14T17:02:37.405589Z"
    }
   },
   "outputs": [],
   "source": [
    "te = tempdir()"
   ]
  },
  {
   "cell_type": "code",
   "execution_count": null,
   "id": "e819d8da",
   "metadata": {
    "execution": {
     "iopub.execute_input": "2022-02-14T17:02:37.407844Z",
     "iopub.status.busy": "2022-02-14T17:02:37.407269Z",
     "iopub.status.idle": "2022-02-14T17:02:37.415313Z",
     "shell.execute_reply": "2022-02-14T17:02:37.414790Z"
    }
   },
   "outputs": [],
   "source": [
    "fit = joinpath(te, \"fit\")\n",
    "\n",
    "write(\n",
    "    fit,\n",
    "    \"# TEMPLATE\n",
    "--\n",
    "GIT_USER_NAME\n",
    "GIT_USER_EMAIL\n",
    "033e1703-1880-4940-9ddc-745bff01a2ac\n",
    "--\n",
    "(stuff)\n",
    "--\n",
    "ODA IS GENIUS.\",\n",
    ")\n",
    "\n",
    "println(read(fit, String))"
   ]
  },
  {
   "cell_type": "code",
   "execution_count": null,
   "id": "12b2ee72",
   "metadata": {
    "execution": {
     "iopub.execute_input": "2022-02-14T17:02:37.417184Z",
     "iopub.status.busy": "2022-02-14T17:02:37.416616Z",
     "iopub.status.idle": "2022-02-14T17:02:37.418998Z",
     "shell.execute_reply": "2022-02-14T17:02:37.418556Z"
    }
   },
   "outputs": [],
   "source": [
    "fi = joinpath(te, \"fi\")\n",
    "\n",
    "write(\n",
    "    fi,\n",
    "    \"(bad part)\n",
    "--\n",
    "(bad part)\n",
    "--\n",
    "GOOD STUFF\n",
    "--\n",
    "(bad part)\",\n",
    ")\n",
    "\n",
    "println(read(fi, String))"
   ]
  },
  {
   "cell_type": "code",
   "execution_count": null,
   "id": "7366635f",
   "metadata": {
    "execution": {
     "iopub.execute_input": "2022-02-14T17:02:37.420822Z",
     "iopub.status.busy": "2022-02-14T17:02:37.420255Z",
     "iopub.status.idle": "2022-02-14T17:02:37.660292Z",
     "shell.execute_reply": "2022-02-14T17:02:37.659836Z"
    }
   },
   "outputs": [],
   "source": [
    "OnePiece.templating.transplant(\n",
    "    fit,\n",
    "    fi,\n",
    "    \"--\",\n",
    "    [1, 1, 2, 1],\n",
    "    re_ = OnePiece.templating.plan_replacement(\"Katakuri\"),\n",
    ")\n",
    "\n",
    "println(read(fi, String))"
   ]
  },
  {
   "cell_type": "markdown",
   "id": "3f396855",
   "metadata": {},
   "source": [
    "---"
   ]
  },
  {
   "cell_type": "code",
   "execution_count": null,
   "id": "b4af2023",
   "metadata": {
    "execution": {
     "iopub.execute_input": "2022-02-14T17:02:37.662212Z",
     "iopub.status.busy": "2022-02-14T17:02:37.661647Z",
     "iopub.status.idle": "2022-02-14T17:02:37.664100Z",
     "shell.execute_reply": "2022-02-14T17:02:37.663649Z"
    }
   },
   "outputs": [],
   "source": [
    "if isdir(TE)\n",
    "\n",
    "    rm(TE, recursive = true)\n",
    "\n",
    "    println(\"Removed \", TE, \".\")\n",
    "\n",
    "end"
   ]
  }
 ],
 "metadata": {
  "kernelspec": {
   "display_name": "Julia 1.7.2",
   "language": "julia",
   "name": "julia-1.7"
  },
  "language_info": {
   "file_extension": ".jl",
   "mimetype": "application/julia",
   "name": "julia",
   "version": "1.7.2"
  }
 },
 "nbformat": 4,
 "nbformat_minor": 5
}
