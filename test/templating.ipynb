{
 "cells": [
  {
   "cell_type": "code",
   "execution_count": null,
   "id": "017464da",
   "metadata": {
    "execution": {
     "iopub.execute_input": "2022-02-14T16:13:06.198173Z",
     "iopub.status.busy": "2022-02-14T16:13:05.797360Z",
     "iopub.status.idle": "2022-02-14T16:13:06.420512Z",
     "shell.execute_reply": "2022-02-14T16:13:06.419802Z"
    }
   },
   "outputs": [],
   "source": [
    "TE = joinpath(tempdir(), \"OnePiece.test\")\n",
    "\n",
    "if isdir(TE)\n",
    "\n",
    "    rm(TE, recursive = true)\n",
    "\n",
    "    println(\"Removed \", TE, \".\")\n",
    "\n",
    "end\n",
    "\n",
    "mkdir(TE)\n",
    "\n",
    "println(\"Made \", TE, \".\")"
   ]
  },
  {
   "cell_type": "code",
   "execution_count": null,
   "id": "34e4701e",
   "metadata": {
    "execution": {
     "iopub.execute_input": "2022-02-14T16:13:06.422689Z",
     "iopub.status.busy": "2022-02-14T16:13:06.422052Z",
     "iopub.status.idle": "2022-02-14T16:13:11.115504Z",
     "shell.execute_reply": "2022-02-14T16:13:11.115066Z"
    }
   },
   "outputs": [],
   "source": [
    "using OnePiece"
   ]
  },
  {
   "cell_type": "markdown",
   "id": "b92a3da9",
   "metadata": {},
   "source": [
    "---"
   ]
  },
  {
   "cell_type": "markdown",
   "id": "ae39cefa",
   "metadata": {},
   "source": [
    "## error_missing"
   ]
  },
  {
   "cell_type": "code",
   "execution_count": null,
   "id": "f14e1c5a",
   "metadata": {
    "execution": {
     "iopub.execute_input": "2022-02-14T16:13:11.435111Z",
     "iopub.status.busy": "2022-02-14T16:13:11.116919Z",
     "iopub.status.idle": "2022-02-14T16:13:12.160265Z",
     "shell.execute_reply": "2022-02-14T16:13:12.159814Z"
    }
   },
   "outputs": [],
   "source": [
    "di = dirname(@__DIR__)"
   ]
  },
  {
   "cell_type": "code",
   "execution_count": null,
   "id": "aba44107",
   "metadata": {
    "execution": {
     "iopub.execute_input": "2022-02-14T16:13:12.162272Z",
     "iopub.status.busy": "2022-02-14T16:13:12.161629Z",
     "iopub.status.idle": "2022-02-14T16:13:12.164070Z",
     "shell.execute_reply": "2022-02-14T16:13:12.163560Z"
    }
   },
   "outputs": [],
   "source": [
    "dit = joinpath(homedir(), \"craft\", \"PkgRepository.jl\", \"TEMPLATE.jl\")"
   ]
  },
  {
   "cell_type": "code",
   "execution_count": null,
   "id": "121f406d",
   "metadata": {
    "execution": {
     "iopub.execute_input": "2022-02-14T16:13:12.165981Z",
     "iopub.status.busy": "2022-02-14T16:13:12.165404Z",
     "iopub.status.idle": "2022-02-14T16:13:12.779498Z",
     "shell.execute_reply": "2022-02-14T16:13:12.779026Z"
    }
   },
   "outputs": [],
   "source": [
    "try\n",
    "\n",
    "    OnePiece.templating.error_missing(dit, di)\n",
    "\n",
    "catch er\n",
    "\n",
    "    er\n",
    "\n",
    "end"
   ]
  },
  {
   "cell_type": "code",
   "execution_count": null,
   "id": "cd0a1d51",
   "metadata": {
    "execution": {
     "iopub.execute_input": "2022-02-14T16:13:12.781417Z",
     "iopub.status.busy": "2022-02-14T16:13:12.780817Z",
     "iopub.status.idle": "2022-02-14T16:13:12.854035Z",
     "shell.execute_reply": "2022-02-14T16:13:12.853519Z"
    }
   },
   "outputs": [],
   "source": [
    "OnePiece.templating.error_missing(dit, di; re_ = [\"TEMPLATE.jl\" => \"OnePiece.jl\"])"
   ]
  },
  {
   "cell_type": "code",
   "execution_count": null,
   "id": "135c0c00",
   "metadata": {
    "execution": {
     "iopub.execute_input": "2022-02-14T16:13:12.855915Z",
     "iopub.status.busy": "2022-02-14T16:13:12.855287Z",
     "iopub.status.idle": "2022-02-14T16:13:12.857741Z",
     "shell.execute_reply": "2022-02-14T16:13:12.857305Z"
    }
   },
   "outputs": [],
   "source": [
    "dit = joinpath(homedir(), \"craft\", \"PkgRepository.jl\")"
   ]
  },
  {
   "cell_type": "code",
   "execution_count": null,
   "id": "884520ad",
   "metadata": {
    "execution": {
     "iopub.execute_input": "2022-02-14T16:13:12.859566Z",
     "iopub.status.busy": "2022-02-14T16:13:12.858962Z",
     "iopub.status.idle": "2022-02-14T16:13:12.861510Z",
     "shell.execute_reply": "2022-02-14T16:13:12.861063Z"
    }
   },
   "outputs": [],
   "source": [
    "try\n",
    "\n",
    "    OnePiece.templating.error_missing(dit, di)\n",
    "\n",
    "catch er\n",
    "\n",
    "    er\n",
    "\n",
    "end"
   ]
  },
  {
   "cell_type": "code",
   "execution_count": null,
   "id": "b376b4b3",
   "metadata": {
    "execution": {
     "iopub.execute_input": "2022-02-14T16:13:12.863378Z",
     "iopub.status.busy": "2022-02-14T16:13:12.862804Z",
     "iopub.status.idle": "2022-02-14T16:13:12.922629Z",
     "shell.execute_reply": "2022-02-14T16:13:12.922097Z"
    }
   },
   "outputs": [],
   "source": [
    "OnePiece.templating.error_missing(\n",
    "    dit,\n",
    "    di;\n",
    "    ig_ = [r\"\\.ipynb_checkpoints\", r\"\\.git\", r\"src\", r\"TEMPLATE.jl\", r\"Comonicon.toml\", r\"deps\"],\n",
    ")"
   ]
  },
  {
   "cell_type": "markdown",
   "id": "0654acfb",
   "metadata": {},
   "source": [
    "## plan_transplant"
   ]
  },
  {
   "cell_type": "code",
   "execution_count": null,
   "id": "96364fc3",
   "metadata": {
    "execution": {
     "iopub.execute_input": "2022-02-14T16:13:12.924595Z",
     "iopub.status.busy": "2022-02-14T16:13:12.924015Z",
     "iopub.status.idle": "2022-02-14T16:13:14.300677Z",
     "shell.execute_reply": "2022-02-14T16:13:14.300154Z"
    }
   },
   "outputs": [],
   "source": [
    "OnePiece.templating.plan_transplant()"
   ]
  },
  {
   "cell_type": "markdown",
   "id": "13e9cd65",
   "metadata": {},
   "source": [
    "## plan_replacement"
   ]
  },
  {
   "cell_type": "code",
   "execution_count": null,
   "id": "8b46a1f9",
   "metadata": {
    "execution": {
     "iopub.execute_input": "2022-02-14T16:13:14.303574Z",
     "iopub.status.busy": "2022-02-14T16:13:14.302979Z",
     "iopub.status.idle": "2022-02-14T16:13:15.077325Z",
     "shell.execute_reply": "2022-02-14T16:13:15.076941Z"
    }
   },
   "outputs": [],
   "source": [
    "OnePiece.templating.plan_replacement(\"Big Mom\")"
   ]
  },
  {
   "cell_type": "markdown",
   "id": "69ad4519",
   "metadata": {},
   "source": [
    "## transplant"
   ]
  },
  {
   "cell_type": "code",
   "execution_count": null,
   "id": "28dfc4c2",
   "metadata": {
    "execution": {
     "iopub.execute_input": "2022-02-14T16:13:15.079588Z",
     "iopub.status.busy": "2022-02-14T16:13:15.078806Z",
     "iopub.status.idle": "2022-02-14T16:13:15.081149Z",
     "shell.execute_reply": "2022-02-14T16:13:15.080774Z"
    }
   },
   "outputs": [],
   "source": [
    "te = tempdir()"
   ]
  },
  {
   "cell_type": "code",
   "execution_count": null,
   "id": "e819d8da",
   "metadata": {
    "execution": {
     "iopub.execute_input": "2022-02-14T16:13:15.082946Z",
     "iopub.status.busy": "2022-02-14T16:13:15.082447Z",
     "iopub.status.idle": "2022-02-14T16:13:15.090479Z",
     "shell.execute_reply": "2022-02-14T16:13:15.090101Z"
    }
   },
   "outputs": [],
   "source": [
    "fit = joinpath(te, \"fit\")\n",
    "\n",
    "write(\n",
    "    fit,\n",
    "    \"# TEMPLATE\n",
    "--\n",
    "GIT_USER_NAME\n",
    "GIT_USER_EMAIL\n",
    "033e1703-1880-4940-9ddc-745bff01a2ac\n",
    "--\n",
    "(stuff)\n",
    "--\n",
    "ODA IS GENIUS.\",\n",
    ")\n",
    "\n",
    "println(read(fit, String))"
   ]
  },
  {
   "cell_type": "code",
   "execution_count": null,
   "id": "12b2ee72",
   "metadata": {
    "execution": {
     "iopub.execute_input": "2022-02-14T16:13:15.092296Z",
     "iopub.status.busy": "2022-02-14T16:13:15.091800Z",
     "iopub.status.idle": "2022-02-14T16:13:15.094366Z",
     "shell.execute_reply": "2022-02-14T16:13:15.094688Z"
    }
   },
   "outputs": [],
   "source": [
    "fi = joinpath(te, \"fi\")\n",
    "\n",
    "write(\n",
    "    fi,\n",
    "    \"(bad part)\n",
    "--\n",
    "(bad part)\n",
    "--\n",
    "GOOD STUFF\n",
    "--\n",
    "(bad part)\",\n",
    ")\n",
    "\n",
    "println(read(fi, String))"
   ]
  },
  {
   "cell_type": "code",
   "execution_count": null,
   "id": "7366635f",
   "metadata": {
    "execution": {
     "iopub.execute_input": "2022-02-14T16:13:15.096452Z",
     "iopub.status.busy": "2022-02-14T16:13:15.095958Z",
     "iopub.status.idle": "2022-02-14T16:13:15.334841Z",
     "shell.execute_reply": "2022-02-14T16:13:15.334484Z"
    }
   },
   "outputs": [],
   "source": [
    "OnePiece.templating.transplant(\n",
    "    fit,\n",
    "    fi,\n",
    "    \"--\",\n",
    "    [1, 1, 2, 1],\n",
    "    re_ = OnePiece.templating.plan_replacement(\"Katakuri\"),\n",
    ")\n",
    "\n",
    "println(read(fi, String))"
   ]
  },
  {
   "cell_type": "markdown",
   "id": "3f396855",
   "metadata": {},
   "source": [
    "---"
   ]
  },
  {
   "cell_type": "code",
   "execution_count": null,
   "id": "b4af2023",
   "metadata": {
    "execution": {
     "iopub.execute_input": "2022-02-14T16:13:15.337746Z",
     "iopub.status.busy": "2022-02-14T16:13:15.336632Z",
     "iopub.status.idle": "2022-02-14T16:13:15.340388Z",
     "shell.execute_reply": "2022-02-14T16:13:15.340003Z"
    }
   },
   "outputs": [],
   "source": [
    "if isdir(TE)\n",
    "\n",
    "    rm(TE, recursive = true)\n",
    "\n",
    "    println(\"Removed \", TE, \".\")\n",
    "\n",
    "end"
   ]
  }
 ],
 "metadata": {
  "kernelspec": {
   "display_name": "Julia 1.7.2",
   "language": "julia",
   "name": "julia-1.7"
  },
  "language_info": {
   "file_extension": ".jl",
   "mimetype": "application/julia",
   "name": "julia",
   "version": "1.7.2"
  }
 },
 "nbformat": 4,
 "nbformat_minor": 5
}
