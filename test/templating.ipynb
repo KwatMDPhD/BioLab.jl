{
 "cells": [
  {
   "cell_type": "code",
   "execution_count": null,
   "id": "34e4701e",
   "metadata": {
    "execution": {
     "iopub.execute_input": "2022-02-09T22:42:41.789031Z",
     "iopub.status.busy": "2022-02-09T22:42:41.422835Z",
     "iopub.status.idle": "2022-02-09T22:42:42.731395Z",
     "shell.execute_reply": "2022-02-09T22:42:42.730901Z"
    }
   },
   "outputs": [],
   "source": [
    "using Revise\n",
    "using BenchmarkTools"
   ]
  },
  {
   "cell_type": "code",
   "execution_count": null,
   "id": "23b98853",
   "metadata": {
    "execution": {
     "iopub.execute_input": "2022-02-09T22:42:42.733188Z",
     "iopub.status.busy": "2022-02-09T22:42:42.732649Z",
     "iopub.status.idle": "2022-02-09T22:42:52.708985Z",
     "shell.execute_reply": "2022-02-09T22:42:52.708542Z"
    }
   },
   "outputs": [],
   "source": [
    "using OnePiece"
   ]
  },
  {
   "cell_type": "markdown",
   "id": "ae39cefa",
   "metadata": {},
   "source": [
    "## error_missing"
   ]
  },
  {
   "cell_type": "code",
   "execution_count": null,
   "id": "f14e1c5a",
   "metadata": {
    "execution": {
     "iopub.execute_input": "2022-02-09T22:42:54.342015Z",
     "iopub.status.busy": "2022-02-09T22:42:52.710501Z",
     "iopub.status.idle": "2022-02-09T22:42:55.558431Z",
     "shell.execute_reply": "2022-02-09T22:42:55.558034Z"
    }
   },
   "outputs": [],
   "source": [
    "di = dirname(@__DIR__)"
   ]
  },
  {
   "cell_type": "code",
   "execution_count": null,
   "id": "aba44107",
   "metadata": {
    "execution": {
     "iopub.execute_input": "2022-02-09T22:42:55.560515Z",
     "iopub.status.busy": "2022-02-09T22:42:55.560017Z",
     "iopub.status.idle": "2022-02-09T22:42:55.573367Z",
     "shell.execute_reply": "2022-02-09T22:42:55.572930Z"
    }
   },
   "outputs": [],
   "source": [
    "dit = joinpath(homedir(), \"craft\", \"PkgRepository.jl\", \"TEMPLATE.jl\")"
   ]
  },
  {
   "cell_type": "code",
   "execution_count": null,
   "id": "121f406d",
   "metadata": {
    "execution": {
     "iopub.execute_input": "2022-02-09T22:42:55.575270Z",
     "iopub.status.busy": "2022-02-09T22:42:55.574621Z",
     "iopub.status.idle": "2022-02-09T22:42:55.977364Z",
     "shell.execute_reply": "2022-02-09T22:42:55.976721Z"
    }
   },
   "outputs": [],
   "source": [
    "try\n",
    "\n",
    "    OnePiece.templating.error_missing(dit, di)\n",
    "\n",
    "catch er\n",
    "\n",
    "    er\n",
    "\n",
    "end"
   ]
  },
  {
   "cell_type": "code",
   "execution_count": null,
   "id": "cd0a1d51",
   "metadata": {
    "execution": {
     "iopub.execute_input": "2022-02-09T22:42:55.979217Z",
     "iopub.status.busy": "2022-02-09T22:42:55.978709Z",
     "iopub.status.idle": "2022-02-09T22:42:56.079669Z",
     "shell.execute_reply": "2022-02-09T22:42:56.079252Z"
    }
   },
   "outputs": [],
   "source": [
    "OnePiece.templating.error_missing(dit, di; re_ = [\"TEMPLATE.jl\" => \"OnePiece.jl\"])"
   ]
  },
  {
   "cell_type": "code",
   "execution_count": null,
   "id": "135c0c00",
   "metadata": {
    "execution": {
     "iopub.execute_input": "2022-02-09T22:42:56.081560Z",
     "iopub.status.busy": "2022-02-09T22:42:56.080967Z",
     "iopub.status.idle": "2022-02-09T22:42:56.094528Z",
     "shell.execute_reply": "2022-02-09T22:42:56.094081Z"
    }
   },
   "outputs": [],
   "source": [
    "dit = joinpath(homedir(), \"craft\", \"PkgRepository.jl\")"
   ]
  },
  {
   "cell_type": "code",
   "execution_count": null,
   "id": "884520ad",
   "metadata": {
    "execution": {
     "iopub.execute_input": "2022-02-09T22:42:56.096410Z",
     "iopub.status.busy": "2022-02-09T22:42:56.095755Z",
     "iopub.status.idle": "2022-02-09T22:42:56.109510Z",
     "shell.execute_reply": "2022-02-09T22:42:56.109054Z"
    }
   },
   "outputs": [],
   "source": [
    "try\n",
    "\n",
    "    OnePiece.templating.error_missing(dit, di)\n",
    "\n",
    "catch er\n",
    "\n",
    "    er\n",
    "\n",
    "end"
   ]
  },
  {
   "cell_type": "code",
   "execution_count": null,
   "id": "b376b4b3",
   "metadata": {
    "execution": {
     "iopub.execute_input": "2022-02-09T22:42:56.111478Z",
     "iopub.status.busy": "2022-02-09T22:42:56.110903Z",
     "iopub.status.idle": "2022-02-09T22:42:56.197269Z",
     "shell.execute_reply": "2022-02-09T22:42:56.196732Z"
    }
   },
   "outputs": [],
   "source": [
    "OnePiece.templating.error_missing(\n",
    "    dit,\n",
    "    di;\n",
    "    ig_ = [r\"\\.ipynb_checkpoints\", r\"\\.git\", r\"src\", r\"TEMPLATE.jl\", r\"Comonicon.toml\", r\"deps\"],\n",
    ")"
   ]
  },
  {
   "cell_type": "markdown",
   "id": "0654acfb",
   "metadata": {},
   "source": [
    "## plan_transplant"
   ]
  },
  {
   "cell_type": "code",
   "execution_count": null,
   "id": "96364fc3",
   "metadata": {
    "execution": {
     "iopub.execute_input": "2022-02-09T22:42:56.199273Z",
     "iopub.status.busy": "2022-02-09T22:42:56.198636Z",
     "iopub.status.idle": "2022-02-09T22:42:57.603070Z",
     "shell.execute_reply": "2022-02-09T22:42:57.602592Z"
    }
   },
   "outputs": [],
   "source": [
    "OnePiece.templating.plan_transplant()"
   ]
  },
  {
   "cell_type": "markdown",
   "id": "13e9cd65",
   "metadata": {},
   "source": [
    "## plan_replacement"
   ]
  },
  {
   "cell_type": "code",
   "execution_count": null,
   "id": "8b46a1f9",
   "metadata": {
    "execution": {
     "iopub.execute_input": "2022-02-09T22:42:57.605065Z",
     "iopub.status.busy": "2022-02-09T22:42:57.604487Z",
     "iopub.status.idle": "2022-02-09T22:42:58.309442Z",
     "shell.execute_reply": "2022-02-09T22:42:58.309056Z"
    }
   },
   "outputs": [],
   "source": [
    "OnePiece.templating.plan_replacement(\"Big Mom\")"
   ]
  },
  {
   "cell_type": "markdown",
   "id": "69ad4519",
   "metadata": {},
   "source": [
    "## transplant"
   ]
  },
  {
   "cell_type": "code",
   "execution_count": null,
   "id": "28dfc4c2",
   "metadata": {
    "execution": {
     "iopub.execute_input": "2022-02-09T22:42:58.311722Z",
     "iopub.status.busy": "2022-02-09T22:42:58.311209Z",
     "iopub.status.idle": "2022-02-09T22:42:58.324673Z",
     "shell.execute_reply": "2022-02-09T22:42:58.324223Z"
    }
   },
   "outputs": [],
   "source": [
    "te = tempdir()"
   ]
  },
  {
   "cell_type": "code",
   "execution_count": null,
   "id": "e819d8da",
   "metadata": {
    "execution": {
     "iopub.execute_input": "2022-02-09T22:42:58.326526Z",
     "iopub.status.busy": "2022-02-09T22:42:58.325932Z",
     "iopub.status.idle": "2022-02-09T22:42:58.356539Z",
     "shell.execute_reply": "2022-02-09T22:42:58.356165Z"
    }
   },
   "outputs": [],
   "source": [
    "fit = joinpath(te, \"fit\")\n",
    "\n",
    "write(\n",
    "    fit,\n",
    "    \"# TEMPLATE\n",
    "--\n",
    "GIT_USER_NAME\n",
    "GIT_USER_EMAIL\n",
    "033e1703-1880-4940-9ddc-745bff01a2ac\n",
    "--\n",
    "(stuff)\n",
    "--\n",
    "ODA IS GENIUS.\",\n",
    ")\n",
    "\n",
    "println(read(fit, String))"
   ]
  },
  {
   "cell_type": "code",
   "execution_count": null,
   "id": "12b2ee72",
   "metadata": {
    "execution": {
     "iopub.execute_input": "2022-02-09T22:42:58.358334Z",
     "iopub.status.busy": "2022-02-09T22:42:58.357802Z",
     "iopub.status.idle": "2022-02-09T22:42:58.372742Z",
     "shell.execute_reply": "2022-02-09T22:42:58.372320Z"
    }
   },
   "outputs": [],
   "source": [
    "fi = joinpath(te, \"fi\")\n",
    "\n",
    "write(\n",
    "    fi,\n",
    "    \"(bad part)\n",
    "--\n",
    "(bad part)\n",
    "--\n",
    "GOOD STUFF\n",
    "--\n",
    "(bad part)\",\n",
    ")\n",
    "\n",
    "println(read(fi, String))"
   ]
  },
  {
   "cell_type": "code",
   "execution_count": null,
   "id": "7366635f",
   "metadata": {
    "execution": {
     "iopub.execute_input": "2022-02-09T22:42:58.374727Z",
     "iopub.status.busy": "2022-02-09T22:42:58.374017Z",
     "iopub.status.idle": "2022-02-09T22:42:58.651796Z",
     "shell.execute_reply": "2022-02-09T22:42:58.651348Z"
    }
   },
   "outputs": [],
   "source": [
    "OnePiece.templating.transplant(\n",
    "    fit,\n",
    "    fi,\n",
    "    \"--\",\n",
    "    [1, 1, 2, 1],\n",
    "    OnePiece.templating.plan_replacement(\"Katakuri\"),\n",
    ")\n",
    "\n",
    "println(read(fi, String))"
   ]
  }
 ],
 "metadata": {
  "@webio": {
   "lastCommId": "36eec5678e4849fa83f0059a02d162d9",
   "lastKernelId": "3f9b4f05-8df6-4ea6-b25f-2bd22e8f7694"
  },
  "kernelspec": {
   "display_name": "Julia 1.7.2",
   "language": "julia",
   "name": "julia-1.7"
  },
  "language_info": {
   "file_extension": ".jl",
   "mimetype": "application/julia",
   "name": "julia",
   "version": "1.7.2"
  }
 },
 "nbformat": 4,
 "nbformat_minor": 5
}
