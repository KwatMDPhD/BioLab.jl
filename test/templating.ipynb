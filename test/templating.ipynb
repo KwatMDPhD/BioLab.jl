{
 "cells": [
  {
   "cell_type": "code",
   "execution_count": null,
   "id": "017464da",
   "metadata": {
    "execution": {
     "iopub.execute_input": "2022-02-11T08:11:38.761161Z",
     "iopub.status.busy": "2022-02-11T08:11:38.418394Z",
     "iopub.status.idle": "2022-02-11T08:11:38.947392Z",
     "shell.execute_reply": "2022-02-11T08:11:38.946750Z"
    }
   },
   "outputs": [],
   "source": [
    "TE = joinpath(tempdir(), \"OnePiece.test\")\n",
    "\n",
    "if isdir(TE)\n",
    "\n",
    "    rm(TE; recursive = true)\n",
    "\n",
    "    println(\"Removed \", TE, \".\")\n",
    "\n",
    "end\n",
    "\n",
    "mkdir(TE)\n",
    "\n",
    "println(\"Made \", TE, \".\")"
   ]
  },
  {
   "cell_type": "code",
   "execution_count": null,
   "id": "34e4701e",
   "metadata": {
    "execution": {
     "iopub.execute_input": "2022-02-11T08:11:38.949525Z",
     "iopub.status.busy": "2022-02-11T08:11:38.948837Z",
     "iopub.status.idle": "2022-02-11T08:11:43.210459Z",
     "shell.execute_reply": "2022-02-11T08:11:43.210001Z"
    }
   },
   "outputs": [],
   "source": [
    "using OnePiece"
   ]
  },
  {
   "cell_type": "markdown",
   "id": "b92a3da9",
   "metadata": {},
   "source": [
    "---"
   ]
  },
  {
   "cell_type": "markdown",
   "id": "ae39cefa",
   "metadata": {},
   "source": [
    "## error_missing"
   ]
  },
  {
   "cell_type": "code",
   "execution_count": null,
   "id": "f14e1c5a",
   "metadata": {
    "execution": {
     "iopub.execute_input": "2022-02-11T08:11:43.518313Z",
     "iopub.status.busy": "2022-02-11T08:11:43.211857Z",
     "iopub.status.idle": "2022-02-11T08:11:44.172753Z",
     "shell.execute_reply": "2022-02-11T08:11:44.172233Z"
    }
   },
   "outputs": [],
   "source": [
    "di = dirname(@__DIR__)"
   ]
  },
  {
   "cell_type": "code",
   "execution_count": null,
   "id": "aba44107",
   "metadata": {
    "execution": {
     "iopub.execute_input": "2022-02-11T08:11:44.174841Z",
     "iopub.status.busy": "2022-02-11T08:11:44.174066Z",
     "iopub.status.idle": "2022-02-11T08:11:44.176578Z",
     "shell.execute_reply": "2022-02-11T08:11:44.175437Z"
    }
   },
   "outputs": [],
   "source": [
    "dit = joinpath(homedir(), \"craft\", \"PkgRepository.jl\", \"TEMPLATE.jl\")"
   ]
  },
  {
   "cell_type": "code",
   "execution_count": null,
   "id": "121f406d",
   "metadata": {
    "execution": {
     "iopub.execute_input": "2022-02-11T08:11:44.178447Z",
     "iopub.status.busy": "2022-02-11T08:11:44.177879Z",
     "iopub.status.idle": "2022-02-11T08:11:44.768732Z",
     "shell.execute_reply": "2022-02-11T08:11:44.768272Z"
    }
   },
   "outputs": [],
   "source": [
    "try\n",
    "\n",
    "    OnePiece.templating.error_missing(dit, di)\n",
    "\n",
    "catch er\n",
    "\n",
    "    er\n",
    "\n",
    "end"
   ]
  },
  {
   "cell_type": "code",
   "execution_count": null,
   "id": "cd0a1d51",
   "metadata": {
    "execution": {
     "iopub.execute_input": "2022-02-11T08:11:44.770763Z",
     "iopub.status.busy": "2022-02-11T08:11:44.770092Z",
     "iopub.status.idle": "2022-02-11T08:11:44.845724Z",
     "shell.execute_reply": "2022-02-11T08:11:44.845210Z"
    }
   },
   "outputs": [],
   "source": [
    "OnePiece.templating.error_missing(dit, di; re_ = [\"TEMPLATE.jl\" => \"OnePiece.jl\"])"
   ]
  },
  {
   "cell_type": "code",
   "execution_count": null,
   "id": "135c0c00",
   "metadata": {
    "execution": {
     "iopub.execute_input": "2022-02-11T08:11:44.847794Z",
     "iopub.status.busy": "2022-02-11T08:11:44.847030Z",
     "iopub.status.idle": "2022-02-11T08:11:44.849643Z",
     "shell.execute_reply": "2022-02-11T08:11:44.848397Z"
    }
   },
   "outputs": [],
   "source": [
    "dit = joinpath(homedir(), \"craft\", \"PkgRepository.jl\")"
   ]
  },
  {
   "cell_type": "code",
   "execution_count": null,
   "id": "884520ad",
   "metadata": {
    "execution": {
     "iopub.execute_input": "2022-02-11T08:11:44.851458Z",
     "iopub.status.busy": "2022-02-11T08:11:44.850886Z",
     "iopub.status.idle": "2022-02-11T08:11:44.853432Z",
     "shell.execute_reply": "2022-02-11T08:11:44.853002Z"
    }
   },
   "outputs": [],
   "source": [
    "try\n",
    "\n",
    "    OnePiece.templating.error_missing(dit, di)\n",
    "\n",
    "catch er\n",
    "\n",
    "    er\n",
    "\n",
    "end"
   ]
  },
  {
   "cell_type": "code",
   "execution_count": null,
   "id": "b376b4b3",
   "metadata": {
    "execution": {
     "iopub.execute_input": "2022-02-11T08:11:44.855296Z",
     "iopub.status.busy": "2022-02-11T08:11:44.854734Z",
     "iopub.status.idle": "2022-02-11T08:11:44.953347Z",
     "shell.execute_reply": "2022-02-11T08:11:44.952843Z"
    }
   },
   "outputs": [],
   "source": [
    "OnePiece.templating.error_missing(\n",
    "    dit,\n",
    "    di;\n",
    "    ig_ = [r\"\\.ipynb_checkpoints\", r\"\\.git\", r\"src\", r\"TEMPLATE.jl\", r\"Comonicon.toml\", r\"deps\"],\n",
    ")"
   ]
  },
  {
   "cell_type": "markdown",
   "id": "0654acfb",
   "metadata": {},
   "source": [
    "## plan_transplant"
   ]
  },
  {
   "cell_type": "code",
   "execution_count": null,
   "id": "96364fc3",
   "metadata": {
    "execution": {
     "iopub.execute_input": "2022-02-11T08:11:44.955291Z",
     "iopub.status.busy": "2022-02-11T08:11:44.954708Z",
     "iopub.status.idle": "2022-02-11T08:11:46.204439Z",
     "shell.execute_reply": "2022-02-11T08:11:46.204061Z"
    }
   },
   "outputs": [],
   "source": [
    "OnePiece.templating.plan_transplant()"
   ]
  },
  {
   "cell_type": "markdown",
   "id": "13e9cd65",
   "metadata": {},
   "source": [
    "## plan_replacement"
   ]
  },
  {
   "cell_type": "code",
   "execution_count": null,
   "id": "8b46a1f9",
   "metadata": {
    "execution": {
     "iopub.execute_input": "2022-02-11T08:11:46.206482Z",
     "iopub.status.busy": "2022-02-11T08:11:46.205963Z",
     "iopub.status.idle": "2022-02-11T08:11:46.889333Z",
     "shell.execute_reply": "2022-02-11T08:11:46.888948Z"
    }
   },
   "outputs": [],
   "source": [
    "OnePiece.templating.plan_replacement(\"Big Mom\")"
   ]
  },
  {
   "cell_type": "markdown",
   "id": "69ad4519",
   "metadata": {},
   "source": [
    "## transplant"
   ]
  },
  {
   "cell_type": "code",
   "execution_count": null,
   "id": "28dfc4c2",
   "metadata": {
    "execution": {
     "iopub.execute_input": "2022-02-11T08:11:46.891622Z",
     "iopub.status.busy": "2022-02-11T08:11:46.890833Z",
     "iopub.status.idle": "2022-02-11T08:11:46.893173Z",
     "shell.execute_reply": "2022-02-11T08:11:46.892800Z"
    }
   },
   "outputs": [],
   "source": [
    "te = tempdir()"
   ]
  },
  {
   "cell_type": "code",
   "execution_count": null,
   "id": "e819d8da",
   "metadata": {
    "execution": {
     "iopub.execute_input": "2022-02-11T08:11:46.895153Z",
     "iopub.status.busy": "2022-02-11T08:11:46.894560Z",
     "iopub.status.idle": "2022-02-11T08:11:46.901909Z",
     "shell.execute_reply": "2022-02-11T08:11:46.901492Z"
    }
   },
   "outputs": [],
   "source": [
    "fit = joinpath(te, \"fit\")\n",
    "\n",
    "write(\n",
    "    fit,\n",
    "    \"# TEMPLATE\n",
    "--\n",
    "GIT_USER_NAME\n",
    "GIT_USER_EMAIL\n",
    "033e1703-1880-4940-9ddc-745bff01a2ac\n",
    "--\n",
    "(stuff)\n",
    "--\n",
    "ODA IS GENIUS.\",\n",
    ")\n",
    "\n",
    "println(read(fit, String))"
   ]
  },
  {
   "cell_type": "code",
   "execution_count": null,
   "id": "12b2ee72",
   "metadata": {
    "execution": {
     "iopub.execute_input": "2022-02-11T08:11:46.904055Z",
     "iopub.status.busy": "2022-02-11T08:11:46.903235Z",
     "iopub.status.idle": "2022-02-11T08:11:46.905770Z",
     "shell.execute_reply": "2022-02-11T08:11:46.905394Z"
    }
   },
   "outputs": [],
   "source": [
    "fi = joinpath(te, \"fi\")\n",
    "\n",
    "write(\n",
    "    fi,\n",
    "    \"(bad part)\n",
    "--\n",
    "(bad part)\n",
    "--\n",
    "GOOD STUFF\n",
    "--\n",
    "(bad part)\",\n",
    ")\n",
    "\n",
    "println(read(fi, String))"
   ]
  },
  {
   "cell_type": "code",
   "execution_count": null,
   "id": "7366635f",
   "metadata": {
    "execution": {
     "iopub.execute_input": "2022-02-11T08:11:46.907879Z",
     "iopub.status.busy": "2022-02-11T08:11:46.907327Z",
     "iopub.status.idle": "2022-02-11T08:11:47.122344Z",
     "shell.execute_reply": "2022-02-11T08:11:47.121968Z"
    }
   },
   "outputs": [],
   "source": [
    "OnePiece.templating.transplant(\n",
    "    fit,\n",
    "    fi,\n",
    "    \"--\",\n",
    "    [1, 1, 2, 1],\n",
    "    re_ = OnePiece.templating.plan_replacement(\"Katakuri\"),\n",
    ")\n",
    "\n",
    "println(read(fi, String))"
   ]
  },
  {
   "cell_type": "markdown",
   "id": "3f396855",
   "metadata": {},
   "source": [
    "---"
   ]
  },
  {
   "cell_type": "code",
   "execution_count": null,
   "id": "b4af2023",
   "metadata": {
    "execution": {
     "iopub.execute_input": "2022-02-11T08:11:47.124408Z",
     "iopub.status.busy": "2022-02-11T08:11:47.123731Z",
     "iopub.status.idle": "2022-02-11T08:11:47.126213Z",
     "shell.execute_reply": "2022-02-11T08:11:47.125839Z"
    }
   },
   "outputs": [],
   "source": [
    "if isdir(TE)\n",
    "\n",
    "    rm(TE; recursive = true)\n",
    "\n",
    "    println(\"Removed \", TE, \".\")\n",
    "\n",
    "end"
   ]
  }
 ],
 "metadata": {
  "kernelspec": {
   "display_name": "Julia 1.7.2",
   "language": "julia",
   "name": "julia-1.7"
  },
  "language_info": {
   "file_extension": ".jl",
   "mimetype": "application/julia",
   "name": "julia",
   "version": "1.7.2"
  }
 },
 "nbformat": 4,
 "nbformat_minor": 5
}
