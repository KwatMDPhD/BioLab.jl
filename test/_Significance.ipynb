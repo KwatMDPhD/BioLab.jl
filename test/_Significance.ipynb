{
 "cells": [
  {
   "outputs": [],
   "cell_type": "code",
   "source": [
    "include(\"_.jl\")"
   ],
   "id": "baf12f00",
   "metadata": {},
   "execution_count": null
  },
  {
   "cell_type": "markdown",
   "source": [
    "## get_margin_of_error"
   ],
   "id": "e81f8b46-798a-42e4-aede-f8bf681f10e2",
   "metadata": {}
  },
  {
   "outputs": [],
   "cell_type": "code",
   "source": [
    "for po in 0:5\n",
    "\n",
    "    n = 10^po\n",
    "\n",
    "    BioLab.String.print_header(n)\n",
    "\n",
    "    nu_ = randn(n)\n",
    "\n",
    "    # TODO: `@test`.\n",
    "    println(BioLab.Significance.get_margin_of_error(nu_))\n",
    "\n",
    "    @code_warntype BioLab.Significance.get_margin_of_error(nu_)\n",
    "\n",
    "    # 38.469 ns (0 allocations: 0 bytes)\n",
    "    # 43.851 ns (0 allocations: 0 bytes)\n",
    "    # 72.997 ns (0 allocations: 0 bytes)\n",
    "    # 535.275 ns (0 allocations: 0 bytes)\n",
    "    # 3.963 μs (0 allocations: 0 bytes)\n",
    "    # 40.541 μs (0 allocations: 0 bytes)\n",
    "    @btime BioLab.Significance.get_margin_of_error($nu_)\n",
    "\n",
    "end"
   ],
   "id": "d283833a",
   "metadata": {},
   "execution_count": null
  },
  {
   "cell_type": "markdown",
   "source": [
    "## _get_p_value"
   ],
   "id": "4247c9ed-368c-4e64-906e-6064b0983a62",
   "metadata": {}
  },
  {
   "outputs": [],
   "cell_type": "code",
   "source": [
    "ra_ = collect(1:10)\n",
    "\n",
    "@test BioLab.Significance._get_p_value(0, ra_) == BioLab.Significance._get_p_value(1, ra_) == 0.1\n",
    "\n",
    "n = 2\n",
    "\n",
    "@test BioLab.Significance._get_p_value(n, ra_) == 0.2\n",
    "\n",
    "@code_warntype BioLab.Significance._get_p_value(n, ra_)\n",
    "\n",
    "# 2.083 ns (0 allocations: 0 bytes)\n",
    "@btime BioLab.Significance._get_p_value($n, $ra_)"
   ],
   "id": "356045e6-25ab-44fa-8fdb-a021aceee3ae",
   "metadata": {},
   "execution_count": null
  },
  {
   "cell_type": "markdown",
   "source": [
    "## get_p_value_for_less"
   ],
   "id": "59a2ebb1-c605-403b-82b7-f34cabe452da",
   "metadata": {}
  },
  {
   "outputs": [],
   "cell_type": "code",
   "source": [
    "n_ = (1, 2, 9, 10)\n",
    "\n",
    "re_ = (0.1, 0.2, 0.9, 1.0)\n",
    "\n",
    "for (va, re) in zip(n_, re_)\n",
    "\n",
    "    BioLab.String.print_header(va)\n",
    "\n",
    "    @test BioLab.Significance.get_p_value_for_less(va, ra_) == re\n",
    "\n",
    "    @code_warntype BioLab.Significance.get_p_value_for_less(va, ra_)\n",
    "\n",
    "    # 4.583 ns (0 allocations: 0 bytes)\n",
    "    # 4.583 ns (0 allocations: 0 bytes)\n",
    "    # 4.625 ns (0 allocations: 0 bytes)\n",
    "    # 4.583 ns (0 allocations: 0 bytes)\n",
    "    @btime BioLab.Significance.get_p_value_for_less($va, $ra_)\n",
    "\n",
    "end"
   ],
   "id": "2309c574-d94e-4523-85a4-3a7ed843b64c",
   "metadata": {},
   "execution_count": null
  },
  {
   "cell_type": "markdown",
   "source": [
    "## get_p_value_for_more"
   ],
   "id": "436b1956-b254-4adf-bb03-3b93562fb06f",
   "metadata": {}
  },
  {
   "outputs": [],
   "cell_type": "code",
   "source": [
    "for (va, re) in zip(n_, reverse(re_))\n",
    "\n",
    "    BioLab.String.print_header(va)\n",
    "\n",
    "    @test BioLab.Significance.get_p_value_for_more(va, ra_) == re\n",
    "\n",
    "    @code_warntype BioLab.Significance.get_p_value_for_more(va, ra_)\n",
    "\n",
    "    # 4.584 ns (0 allocations: 0 bytes)\n",
    "    # 4.583 ns (0 allocations: 0 bytes)\n",
    "    # 4.583 ns (0 allocations: 0 bytes)\n",
    "    # 4.583 ns (0 allocations: 0 bytes)\n",
    "    @btime BioLab.Significance.get_p_value_for_more($va, $ra_)\n",
    "\n",
    "end"
   ],
   "id": "144ea2f7-675b-43a5-a3d6-20d1a0b9f72e",
   "metadata": {},
   "execution_count": null
  },
  {
   "cell_type": "markdown",
   "source": [
    "## adjust_p_value_with_*"
   ],
   "id": "4665fb0f-7812-4fc7-ab74-02f6a17f1da2",
   "metadata": {}
  },
  {
   "outputs": [],
   "cell_type": "code",
   "source": [
    "pv1_ = [0.001, 0.01, 0.03, 0.5]\n",
    "\n",
    "n_ = (length(pv1_), 40, 100, 1000)\n",
    "\n",
    "pv2_ = [10^-3, 10^-2, 10^-1, 10^0]"
   ],
   "id": "0a3c8fda-6913-46ed-b955-928bdca5f725",
   "metadata": {},
   "execution_count": null
  },
  {
   "cell_type": "markdown",
   "source": [
    "## adjust_p_value_with_bonferroni"
   ],
   "id": "3b1d3a5e",
   "metadata": {}
  },
  {
   "outputs": [],
   "cell_type": "code",
   "source": [
    "for n in n_\n",
    "\n",
    "    println(BioLab.Significance.adjust_p_value_with_bonferroni(pv1_, n))\n",
    "\n",
    "end\n",
    "\n",
    "# TODO: `@test`.\n",
    "\n",
    "@code_warntype BioLab.Significance.adjust_p_value_with_bonferroni(pv2_)\n",
    "\n",
    "# 35.917 ns (1 allocation: 96 bytes)\n",
    "@btime BioLab.Significance.adjust_p_value_with_bonferroni($pv2_)"
   ],
   "id": "b30ba363-328a-4be5-b754-eb847e3bc872",
   "metadata": {},
   "execution_count": null
  },
  {
   "cell_type": "markdown",
   "source": [
    "## adjust_p_value_with_benjamini_hochberg"
   ],
   "id": "85a9de8d-95eb-400e-9636-4ed9af5743ff",
   "metadata": {}
  },
  {
   "outputs": [],
   "cell_type": "code",
   "source": [
    "for n in n_\n",
    "\n",
    "    println(BioLab.Significance.adjust_p_value_with_benjamini_hochberg(pv1_, n))\n",
    "\n",
    "end\n",
    "\n",
    "@test all(\n",
    "    isapprox(pv, re; atol = 0.01) for (pv, re) in zip(\n",
    "        BioLab.Significance.adjust_p_value_with_benjamini_hochberg([\n",
    "            0.005,\n",
    "            0.009,\n",
    "            0.019,\n",
    "            0.022,\n",
    "            0.051,\n",
    "            0.101,\n",
    "            0.361,\n",
    "            0.387,\n",
    "        ]),\n",
    "        (0.036, 0.036, 0.044, 0.044, 0.082, 0.135, 0.387, 0.387),\n",
    "    )\n",
    ")\n",
    "\n",
    "@code_warntype BioLab.Significance.adjust_p_value_with_benjamini_hochberg(pv2_)\n",
    "\n",
    "# 483.680 ns (6 allocations: 416 bytes)\n",
    "@btime BioLab.Significance.adjust_p_value_with_benjamini_hochberg($pv2_)"
   ],
   "id": "46d426af-48ae-45d7-b001-aae3f8cddaf5",
   "metadata": {},
   "execution_count": null
  },
  {
   "cell_type": "markdown",
   "source": [
    "## get_p_value_and_adjust"
   ],
   "id": "516e1a6e",
   "metadata": {}
  },
  {
   "outputs": [],
   "cell_type": "code",
   "source": [
    "nu_ = [0.0, 1, 8, 9]\n",
    "\n",
    "ra_ = collect(0.0:9)\n",
    "\n",
    "BioLab.String.print_header(\"Less\")\n",
    "\n",
    "@test BioLab.Significance.get_p_value_and_adjust(\n",
    "    nu_,\n",
    "    ra_,\n",
    "    BioLab.Significance.get_p_value_for_less,\n",
    ") == ([0.1, 0.2, 0.9, 1.0], [0.4, 0.4, 1.0, 1.0])\n",
    "\n",
    "@code_warntype BioLab.Significance.get_p_value_and_adjust(\n",
    "    nu_,\n",
    "    ra_,\n",
    "    BioLab.Significance.get_p_value_for_less,\n",
    ")\n",
    "\n",
    "# 636.548 ns (8 allocations: 544 bytes)\n",
    "@btime BioLab.Significance.get_p_value_and_adjust(\n",
    "    $nu_,\n",
    "    $ra_,\n",
    "    $BioLab.Significance.get_p_value_for_less,\n",
    ")\n",
    "\n",
    "BioLab.String.print_header(\"More\")\n",
    "\n",
    "@test BioLab.Significance.get_p_value_and_adjust(\n",
    "    nu_,\n",
    "    ra_,\n",
    "    BioLab.Significance.get_p_value_for_more,\n",
    ") == ([1.0, 0.9, 0.2, 0.1], [1.0, 1.0, 0.4, 0.4])\n",
    "\n",
    "@code_warntype BioLab.Significance.get_p_value_and_adjust(\n",
    "    nu_,\n",
    "    ra_,\n",
    "    BioLab.Significance.get_p_value_for_more,\n",
    ")\n",
    "\n",
    "# 649.245 ns (8 allocations: 544 bytes)\n",
    "@btime BioLab.Significance.get_p_value_and_adjust(\n",
    "    $nu_,\n",
    "    $ra_,\n",
    "    $BioLab.Significance.get_p_value_for_more,\n",
    ")\n",
    "\n",
    "BioLab.String.print_header(\"Less and More\")\n",
    "\n",
    "@test BioLab.Significance.get_p_value_and_adjust(nu_, ra_) ==\n",
    "      ([0.1, 0.2, 0.2, 0.1], [0.4, 0.4, 0.4, 0.4])\n",
    "\n",
    "@code_warntype BioLab.Significance.get_p_value_and_adjust(nu_, ra_)\n",
    "\n",
    "# 1.142 μs (16 allocations: 1.19 KiB)\n",
    "@btime BioLab.Significance.get_p_value_and_adjust($nu_, $ra_)"
   ],
   "id": "e9e83268-87b3-47ed-9173-41b2269b5f90",
   "metadata": {},
   "execution_count": null
  }
 ],
 "nbformat_minor": 5,
 "metadata": {
  "language_info": {
   "file_extension": ".jl",
   "mimetype": "application/julia",
   "name": "julia",
   "version": "1.8.5"
  },
  "@webio": {
   "lastKernelId": null,
   "lastCommId": null
  },
  "kernelspec": {
   "name": "julia-1.8",
   "display_name": "Julia 1.8.5",
   "language": "julia"
  }
 },
 "nbformat": 4
}
