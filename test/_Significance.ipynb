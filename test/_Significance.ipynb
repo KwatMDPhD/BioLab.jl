{
 "cells": [
  {
   "outputs": [],
   "cell_type": "code",
   "source": [
    "include(\"_.jl\")"
   ],
   "id": "baf12f00",
   "metadata": {},
   "execution_count": null
  },
  {
   "cell_type": "markdown",
   "source": [
    "## get_margin_of_error"
   ],
   "id": "e81f8b46-798a-42e4-aede-f8bf681f10e2",
   "metadata": {}
  },
  {
   "outputs": [],
   "cell_type": "code",
   "source": [
    "for po in 0:5\n",
    "\n",
    "    n = 10^po\n",
    "\n",
    "    BioLab.String.print_header(n)\n",
    "\n",
    "    nu_ = randn(n)\n",
    "\n",
    "    # TODO: `@test`.\n",
    "    println(BioLab.Significance.get_margin_of_error(nu_))\n",
    "\n",
    "    @code_warntype BioLab.Significance.get_margin_of_error(nu_)\n",
    "\n",
    "    # 23.469 ns (0 allocations: 0 bytes)\n",
    "    # 30.851 ns (0 allocations: 0 bytes)\n",
    "    # 59.997 ns (0 allocations: 0 bytes)\n",
    "    # 535.275 ns (0 allocations: 0 bytes)\n",
    "    # 3.963 μs (0 allocations: 0 bytes)\n",
    "    # 40.541 μs (0 allocations: 0 bytes)\n",
    "    @btime BioLab.Significance.get_margin_of_error($nu_)\n",
    "\n",
    "end"
   ],
   "id": "d283833a",
   "metadata": {},
   "execution_count": null
  },
  {
   "cell_type": "markdown",
   "source": [
    "## _get_p_value"
   ],
   "id": "4247c9ed-368c-4e64-906e-6064b0983a62",
   "metadata": {}
  },
  {
   "outputs": [],
   "cell_type": "code",
   "source": [
    "ra_ = collect(1:10)\n",
    "\n",
    "@test BioLab.Significance._get_p_value(0, ra_) == BioLab.Significance._get_p_value(1, ra_) == 0.1\n",
    "\n",
    "n = 2\n",
    "\n",
    "@test BioLab.Significance._get_p_value(n, ra_) == 0.2\n",
    "\n",
    "@code_warntype BioLab.Significance._get_p_value(n, ra_)\n",
    "\n",
    "# 2.083 ns (0 allocations: 0 bytes)\n",
    "@btime BioLab.Significance._get_p_value($n, $ra_)"
   ],
   "id": "10da93e5-f9c4-4742-80b0-dbb81224b01c",
   "metadata": {},
   "execution_count": null
  },
  {
   "cell_type": "markdown",
   "source": [
    "## get_p_value_for_less"
   ],
   "id": "59a2ebb1-c605-403b-82b7-f34cabe452da",
   "metadata": {}
  },
  {
   "outputs": [],
   "cell_type": "code",
   "source": [
    "re_ = (0.1, 0.2, 0.9, 1.0)\n",
    "\n",
    "for (va, re) in zip((1, 2, 9, 10), re_)\n",
    "\n",
    "    BioLab.String.print_header(va)\n",
    "\n",
    "    @test BioLab.Significance.get_p_value_for_less(va, ra_) == re\n",
    "\n",
    "    @code_warntype BioLab.Significance.get_p_value_for_less(va, ra_)\n",
    "\n",
    "    # 4.583 ns (0 allocations: 0 bytes)\n",
    "    # 4.583 ns (0 allocations: 0 bytes)\n",
    "    # 4.625 ns (0 allocations: 0 bytes)\n",
    "    # 4.583 ns (0 allocations: 0 bytes)\n",
    "    @btime BioLab.Significance.get_p_value_for_less($va, $ra_)\n",
    "\n",
    "end"
   ],
   "id": "2309c574-d94e-4523-85a4-3a7ed843b64c",
   "metadata": {},
   "execution_count": null
  },
  {
   "cell_type": "markdown",
   "source": [
    "## get_p_value_for_more"
   ],
   "id": "436b1956-b254-4adf-bb03-3b93562fb06f",
   "metadata": {}
  },
  {
   "outputs": [],
   "cell_type": "code",
   "source": [
    "for (va, re) in zip((1, 2, 9, 10), reverse(re_))\n",
    "\n",
    "    BioLab.String.print_header(va)\n",
    "\n",
    "    @test BioLab.Significance.get_p_value_for_more(va, ra_) == re\n",
    "\n",
    "    @code_warntype BioLab.Significance.get_p_value_for_more(va, ra_)\n",
    "\n",
    "    # 4.584 ns (0 allocations: 0 bytes)\n",
    "    # 4.583 ns (0 allocations: 0 bytes)\n",
    "    # 4.583 ns (0 allocations: 0 bytes)\n",
    "    # 4.583 ns (0 allocations: 0 bytes)\n",
    "    @btime BioLab.Significance.get_p_value_for_more($va, $ra_)\n",
    "\n",
    "end"
   ],
   "id": "144ea2f7-675b-43a5-a3d6-20d1a0b9f72e",
   "metadata": {},
   "execution_count": null
  },
  {
   "cell_type": "markdown",
   "source": [
    "## adjust_p_value_with_bonferroni"
   ],
   "id": "3b1d3a5e",
   "metadata": {}
  },
  {
   "outputs": [],
   "cell_type": "code",
   "source": [
    "BioLab.Significance.adjust_p_value_with_bonferroni([10^-3, 10^-2, 10^-1, 10^0])\n",
    "\n",
    "pv_ = [0.001, 0.01, 0.03, 0.5]\n",
    "\n",
    "println(BioLab.Significance.adjust_p_value_with_bonferroni(pv_))\n",
    "\n",
    "println(BioLab.Significance.adjust_p_value_with_bonferroni(pv_, 40))"
   ],
   "id": "8a26ae2b-4151-440f-8b2c-26d9c19862c7",
   "metadata": {},
   "execution_count": null
  },
  {
   "cell_type": "markdown",
   "source": [
    "## adjust_p_value_with_benjamini_hochberg"
   ],
   "id": "85a9de8d-95eb-400e-9636-4ed9af5743ff",
   "metadata": {}
  },
  {
   "outputs": [],
   "cell_type": "code",
   "source": [
    "BioLab.Significance.adjust_p_value_with_benjamini_hochberg([10^-3, 10^-2, 10^-1, 10^0])\n",
    "\n",
    "@test all(\n",
    "    isapprox(pv, so; atol = 0.01) for (pv, so) in zip(\n",
    "        BioLab.Significance.adjust_p_value_with_benjamini_hochberg([\n",
    "            0.005,\n",
    "            0.009,\n",
    "            0.019,\n",
    "            0.022,\n",
    "            0.051,\n",
    "            0.101,\n",
    "            0.361,\n",
    "            0.387,\n",
    "        ]),\n",
    "        (0.036, 0.036, 0.044, 0.044, 0.082, 0.135, 0.387, 0.387),\n",
    "    )\n",
    ")\n",
    "\n",
    "pv_ = [0.001, 0.01, 0.03, 0.5]\n",
    "\n",
    "println(BioLab.Significance.adjust_p_value_with_benjamini_hochberg(pv_))\n",
    "\n",
    "println(BioLab.Significance.adjust_p_value_with_benjamini_hochberg(pv_, 40))\n",
    "\n",
    "for n in (2, 4, 8, 10)\n",
    "\n",
    "    BioLab.String.print_header(n)\n",
    "\n",
    "    pv_ = collect(range(10^-3, 1, length = n))\n",
    "\n",
    "    println(pv_)\n",
    "\n",
    "    println(BioLab.Significance.adjust_p_value_with_benjamini_hochberg(pv_))\n",
    "\n",
    "end"
   ],
   "id": "e7c04d40-e8ae-4613-9921-ace3aebdf1be",
   "metadata": {},
   "execution_count": null
  },
  {
   "cell_type": "markdown",
   "source": [
    "## get_p_value_and_adjust"
   ],
   "id": "516e1a6e",
   "metadata": {}
  },
  {
   "outputs": [],
   "cell_type": "code",
   "source": [
    "nu_ = [0, 1, 8, 9]\n",
    "\n",
    "ra_ = collect(0:9)\n",
    "\n",
    "println(BioLab.Significance.get_p_value_and_adjust(nu_, ra_))\n",
    "\n",
    "for si in (-1.0, 1.0)\n",
    "\n",
    "    println(BioLab.Significance.get_p_value_and_adjust(nu_, ra_, si))\n",
    "\n",
    "end"
   ],
   "id": "fdb6da5a",
   "metadata": {},
   "execution_count": null
  }
 ],
 "nbformat_minor": 5,
 "metadata": {
  "language_info": {
   "file_extension": ".jl",
   "mimetype": "application/julia",
   "name": "julia",
   "version": "1.8.5"
  },
  "@webio": {
   "lastKernelId": null,
   "lastCommId": null
  },
  "kernelspec": {
   "name": "julia-1.8",
   "display_name": "Julia 1.8.5",
   "language": "julia"
  }
 },
 "nbformat": 4
}
