{
 "cells": [
  {
   "outputs": [],
   "cell_type": "code",
   "source": [
    "using OnePiece"
   ],
   "id": "baf12f00",
   "metadata": {},
   "execution_count": null
  },
  {
   "cell_type": "markdown",
   "source": [
    "## pair_index"
   ],
   "id": "3a423439-856f-42cc-8ce0-49d5bb9a325a",
   "metadata": {}
  },
  {
   "outputs": [],
   "cell_type": "code",
   "source": [
    "OnePiece.Vector.pair_index((\"a\", \"i\", \"u\", \"e\", \"o\"))"
   ],
   "id": "bca5792b-10be-4c3a-a529-ef01103a900b",
   "metadata": {},
   "execution_count": null
  },
  {
   "cell_type": "markdown",
   "source": [
    "## get_common_start"
   ],
   "id": "1171337b",
   "metadata": {}
  },
  {
   "outputs": [],
   "cell_type": "code",
   "source": [
    "for ve_ in (\n",
    "    ((), ()),\n",
    "    (Vector{Int}(), Vector{Int}()),\n",
    "    ((1,), (1, 2)),\n",
    "    ((1.0,), (1.0, 2.0)),\n",
    "    (('a', 'b'), ('a',)),\n",
    "    ((\"a\", \"b\"), (\"a\",)),\n",
    "    ((1, 2, 3), (1, 4, 5)),\n",
    "    (\"aiueo\", \"aiue\", \"aiu\"),\n",
    ")\n",
    "\n",
    "    println(OnePiece.Vector.get_common_start(ve_))\n",
    "\n",
    "end"
   ],
   "id": "af6cf4c6",
   "metadata": {},
   "execution_count": null
  },
  {
   "cell_type": "markdown",
   "source": [
    "## is_in"
   ],
   "id": "e7fb4626",
   "metadata": {}
  },
  {
   "outputs": [],
   "cell_type": "code",
   "source": [
    "ne_ = OnePiece.Constant.CA_\n",
    "\n",
    "ha_ = [\"1\", \"2\", \"K\"]\n",
    "\n",
    ";"
   ],
   "id": "ec81a8fb-e583-4316-b05f-06cf60c460b4",
   "metadata": {},
   "execution_count": null
  },
  {
   "outputs": [],
   "cell_type": "code",
   "source": [
    "OnePiece.Vector.is_in(ne_, ha_)"
   ],
   "id": "39b637b4-4af4-436a-9072-796f43fa727e",
   "metadata": {},
   "execution_count": null
  },
  {
   "outputs": [],
   "cell_type": "code",
   "source": [
    "ne_id = OnePiece.Vector.pair_index(ne_)[1]"
   ],
   "id": "37621e24-f0da-4690-9e99-bb0658cd5e5d",
   "metadata": {},
   "execution_count": null
  },
  {
   "outputs": [],
   "cell_type": "code",
   "source": [
    "OnePiece.Vector.is_in(ne_id, ha_)"
   ],
   "id": "29103a02-a7de-4a4e-a662-e6a74a5c0948",
   "metadata": {},
   "execution_count": null
  },
  {
   "cell_type": "markdown",
   "source": [
    "## sort_like"
   ],
   "id": "c3e6f165",
   "metadata": {}
  },
  {
   "outputs": [],
   "cell_type": "code",
   "source": [
    "ve1 = ['a', 'e', 'K', 't']\n",
    "\n",
    "ve2 = [\"a\", \"K\", \"t\", \"w\"]\n",
    "\n",
    ";"
   ],
   "id": "9034c117-4bc7-4e61-bf86-c9541b07ccfe",
   "metadata": {},
   "execution_count": null
  },
  {
   "outputs": [],
   "cell_type": "code",
   "source": [
    "OnePiece.Vector.sort_like(([2, 4, 1, 3], ve1, ve2))"
   ],
   "id": "b25bfd47-f063-4f42-be9d-60d3d8b64611",
   "metadata": {},
   "execution_count": null
  },
  {
   "outputs": [],
   "cell_type": "code",
   "source": [
    "OnePiece.Vector.sort_like(([3, 1, 4, 2], ve1, ve2))"
   ],
   "id": "9f77dc71-3adc-4b39-b31c-b892ee66b497",
   "metadata": {},
   "execution_count": null
  }
 ],
 "nbformat_minor": 5,
 "metadata": {
  "language_info": {
   "file_extension": ".jl",
   "mimetype": "application/julia",
   "name": "julia",
   "version": "1.8.2"
  },
  "@webio": {
   "lastKernelId": null,
   "lastCommId": null
  },
  "kernelspec": {
   "name": "julia-1.8",
   "display_name": "Julia 1.8.2",
   "language": "julia"
  }
 },
 "nbformat": 4
}
