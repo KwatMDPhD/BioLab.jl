{
 "cells": [
  {
   "cell_type": "code",
   "execution_count": null,
   "id": "baf12f00",
   "metadata": {},
   "outputs": [],
   "source": [
    "using OnePiece"
   ]
  },
  {
   "cell_type": "markdown",
   "id": "3a423439-856f-42cc-8ce0-49d5bb9a325a",
   "metadata": {},
   "source": [
    "## map_index"
   ]
  },
  {
   "cell_type": "code",
   "execution_count": null,
   "id": "bca5792b-10be-4c3a-a529-ef01103a900b",
   "metadata": {},
   "outputs": [],
   "source": [
    "OnePiece.Vector.map_index([\"a\", \"i\", \"u\", \"e\", \"o\"])"
   ]
  },
  {
   "cell_type": "markdown",
   "id": "1171337b",
   "metadata": {},
   "source": [
    "## get_common_start"
   ]
  },
  {
   "cell_type": "code",
   "execution_count": null,
   "id": "af6cf4c6",
   "metadata": {},
   "outputs": [],
   "source": [
    "for ve_ in (\n",
    "    [[], []],\n",
    "    [[1], [1, 2]],\n",
    "    [[1.0], [1.0, 2.0]],\n",
    "    [['a'], ['a', 'b']],\n",
    "    [[\"a\"], [\"a\", \"b\"]],\n",
    "    [[1, 2, 3], [1, 4, 5]],\n",
    "    [\"aiueo\", \"aiue\", \"aiu\"],\n",
    ")\n",
    "\n",
    "    println(OnePiece.Vector.get_common_start(ve_))\n",
    "\n",
    "end"
   ]
  },
  {
   "cell_type": "markdown",
   "id": "e7fb4626",
   "metadata": {},
   "source": [
    "## is_in"
   ]
  },
  {
   "cell_type": "code",
   "execution_count": null,
   "id": "676ebb5f",
   "metadata": {},
   "outputs": [],
   "source": [
    "ne_ = OnePiece.Constant.CARD\n",
    "\n",
    "ha_ = [\"1\", \"2\", \"K\"]\n",
    "\n",
    "OnePiece.Vector.is_in(ne_, ha_)"
   ]
  },
  {
   "cell_type": "code",
   "execution_count": null,
   "id": "5ac0cb58",
   "metadata": {},
   "outputs": [],
   "source": [
    "ne_id = Dict(ne => id for (id, ne) in enumerate(ne_))\n",
    "\n",
    "OnePiece.Vector.is_in(ne_id, ha_)"
   ]
  },
  {
   "cell_type": "markdown",
   "id": "c3e6f165",
   "metadata": {},
   "source": [
    "## sort_like"
   ]
  },
  {
   "cell_type": "code",
   "execution_count": null,
   "id": "9034c117-4bc7-4e61-bf86-c9541b07ccfe",
   "metadata": {},
   "outputs": [],
   "source": [
    "ve1 = ['a', 'e', 'K', 't']\n",
    "\n",
    "ve2 = [\"a\", \"K\", \"t\", \"w\"]\n",
    "\n",
    ";"
   ]
  },
  {
   "cell_type": "code",
   "execution_count": null,
   "id": "b25bfd47-f063-4f42-be9d-60d3d8b64611",
   "metadata": {},
   "outputs": [],
   "source": [
    "OnePiece.Vector.sort_like([[2, 4, 1, 3], ve1, ve2])"
   ]
  },
  {
   "cell_type": "code",
   "execution_count": null,
   "id": "9f77dc71-3adc-4b39-b31c-b892ee66b497",
   "metadata": {},
   "outputs": [],
   "source": [
    "OnePiece.Vector.sort_like([[3, 1, 4, 2], ve1, ve2])"
   ]
  }
 ],
 "metadata": {
  "@webio": {
   "lastCommId": null,
   "lastKernelId": null
  },
  "kernelspec": {
   "display_name": "Julia 1.8.2",
   "language": "julia",
   "name": "julia-1.8"
  },
  "language_info": {
   "file_extension": ".jl",
   "mimetype": "application/julia",
   "name": "julia",
   "version": "1.8.2"
  }
 },
 "nbformat": 4,
 "nbformat_minor": 5
}
