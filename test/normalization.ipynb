{
 "cells": [
  {
   "cell_type": "code",
   "execution_count": null,
   "id": "baf12f00",
   "metadata": {
    "execution": {
     "iopub.execute_input": "2022-08-25T17:21:28.669000Z",
     "iopub.status.busy": "2022-08-25T17:21:28.178000Z",
     "iopub.status.idle": "2022-08-25T17:21:35.540000Z",
     "shell.execute_reply": "2022-08-25T17:21:35.498000Z"
    }
   },
   "outputs": [],
   "source": [
    "using OnePiece"
   ]
  },
  {
   "cell_type": "markdown",
   "id": "e7ba3772",
   "metadata": {},
   "source": [
    "## normalize!"
   ]
  },
  {
   "cell_type": "code",
   "execution_count": null,
   "id": "1ec21868",
   "metadata": {
    "execution": {
     "iopub.execute_input": "2022-08-25T17:21:35.726000Z",
     "iopub.status.busy": "2022-08-25T17:21:35.543000Z",
     "iopub.status.idle": "2022-08-25T17:21:37.967000Z",
     "shell.execute_reply": "2022-08-25T17:21:37.967000Z"
    }
   },
   "outputs": [],
   "source": [
    "te = [NaN, -2, 0, NaN, 2, NaN]\n",
    "\n",
    "OnePiece.normalization.normalize!(te, \"0-1\")\n",
    "\n",
    "te"
   ]
  },
  {
   "cell_type": "markdown",
   "id": "e7b837b5",
   "metadata": {},
   "source": [
    "## normalize"
   ]
  },
  {
   "cell_type": "code",
   "execution_count": null,
   "id": "e319da3e",
   "metadata": {
    "execution": {
     "iopub.execute_input": "2022-08-25T17:21:37.971000Z",
     "iopub.status.busy": "2022-08-25T17:21:37.970000Z",
     "iopub.status.idle": "2022-08-25T17:21:39.951000Z",
     "shell.execute_reply": "2022-08-25T17:21:39.951000Z"
    }
   },
   "outputs": [],
   "source": [
    "try\n",
    "\n",
    "    OnePiece.normalization.normalize([], \"0-1\")\n",
    "\n",
    "catch er\n",
    "\n",
    "    println(er)\n",
    "\n",
    "end"
   ]
  },
  {
   "cell_type": "code",
   "execution_count": null,
   "id": "e0ab7673",
   "metadata": {
    "execution": {
     "iopub.execute_input": "2022-08-25T17:21:39.954000Z",
     "iopub.status.busy": "2022-08-25T17:21:39.954000Z",
     "iopub.status.idle": "2022-08-25T17:21:40.241000Z",
     "shell.execute_reply": "2022-08-25T17:21:40.241000Z"
    }
   },
   "outputs": [],
   "source": [
    "try\n",
    "\n",
    "    OnePiece.normalization.normalize([-1, 0, 1], \"sum\")\n",
    "\n",
    "catch er\n",
    "\n",
    "    println(er)\n",
    "\n",
    "end"
   ]
  },
  {
   "cell_type": "code",
   "execution_count": null,
   "id": "18a3a96f",
   "metadata": {
    "execution": {
     "iopub.execute_input": "2022-08-25T17:21:40.244000Z",
     "iopub.status.busy": "2022-08-25T17:21:40.244000Z",
     "iopub.status.idle": "2022-08-25T17:21:40.506000Z",
     "shell.execute_reply": "2022-08-25T17:21:40.506000Z"
    }
   },
   "outputs": [],
   "source": [
    "for te in ([0], [1], [0, 0, 0], [1, 1, 1], [0, 1, 2])\n",
    "\n",
    "    println(te)\n",
    "\n",
    "    for me in (\"0-1\", \"sum\", \"-0-\")\n",
    "\n",
    "        println(me)\n",
    "\n",
    "        println(OnePiece.normalization.normalize(te, me))\n",
    "\n",
    "    end\n",
    "\n",
    "end"
   ]
  },
  {
   "cell_type": "code",
   "execution_count": null,
   "id": "f082a72e",
   "metadata": {
    "execution": {
     "iopub.execute_input": "2022-08-25T17:21:40.509000Z",
     "iopub.status.busy": "2022-08-25T17:21:40.509000Z",
     "iopub.status.idle": "2022-08-25T17:21:40.558000Z",
     "shell.execute_reply": "2022-08-25T17:21:40.558000Z"
    }
   },
   "outputs": [],
   "source": [
    "for te in ([0], [-1, 0, 0, 1, 1, 1, 2])\n",
    "\n",
    "    println(te)\n",
    "\n",
    "    for me in (\"1223\", \"1224\", \"1 2.5 2.5 4\", \"1234\")\n",
    "\n",
    "        println(me)\n",
    "\n",
    "        println(OnePiece.normalization.normalize(te, me))\n",
    "\n",
    "    end\n",
    "\n",
    "end"
   ]
  }
 ],
 "metadata": {
  "@webio": {
   "lastCommId": null,
   "lastKernelId": null
  },
  "kernelspec": {
   "display_name": "Julia 1.7.3",
   "language": "julia",
   "name": "julia-1.8"
  },
  "language_info": {
   "file_extension": ".jl",
   "mimetype": "application/julia",
   "name": "julia",
   "version": "1.8.0"
  }
 },
 "nbformat": 4,
 "nbformat_minor": 5
}
