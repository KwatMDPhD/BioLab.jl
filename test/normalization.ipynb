{
 "cells": [
  {
   "cell_type": "code",
   "execution_count": null,
   "id": "baf12f00",
   "metadata": {
    "execution": {
     "iopub.execute_input": "2022-08-17T13:49:58.140000Z",
     "iopub.status.busy": "2022-08-17T13:49:57.794000Z",
     "iopub.status.idle": "2022-08-17T13:50:02.922000Z",
     "shell.execute_reply": "2022-08-17T13:50:02.876000Z"
    }
   },
   "outputs": [],
   "source": [
    "using OnePiece"
   ]
  },
  {
   "cell_type": "markdown",
   "id": "e7ba3772",
   "metadata": {},
   "source": [
    "## normalize!"
   ]
  },
  {
   "cell_type": "code",
   "execution_count": null,
   "id": "1ec21868",
   "metadata": {
    "execution": {
     "iopub.execute_input": "2022-08-17T13:50:03.527000Z",
     "iopub.status.busy": "2022-08-17T13:50:02.939000Z",
     "iopub.status.idle": "2022-08-17T13:50:05.240000Z",
     "shell.execute_reply": "2022-08-17T13:50:05.240000Z"
    }
   },
   "outputs": [],
   "source": [
    "te = [NaN, -2, 0, NaN, 2, NaN]\n",
    "\n",
    "OnePiece.normalization.normalize!(te, \"0-1\")\n",
    "\n",
    "te"
   ]
  },
  {
   "cell_type": "markdown",
   "id": "e7b837b5",
   "metadata": {},
   "source": [
    "## normalize"
   ]
  },
  {
   "cell_type": "code",
   "execution_count": null,
   "id": "e319da3e",
   "metadata": {
    "execution": {
     "iopub.execute_input": "2022-08-17T13:50:05.244000Z",
     "iopub.status.busy": "2022-08-17T13:50:05.244000Z",
     "iopub.status.idle": "2022-08-17T13:50:06.332000Z",
     "shell.execute_reply": "2022-08-17T13:50:06.331000Z"
    }
   },
   "outputs": [],
   "source": [
    "try\n",
    "\n",
    "    OnePiece.normalization.normalize([], \"0-1\")\n",
    "\n",
    "catch er\n",
    "\n",
    "    println(er)\n",
    "\n",
    "end"
   ]
  },
  {
   "cell_type": "code",
   "execution_count": null,
   "id": "e0ab7673",
   "metadata": {
    "execution": {
     "iopub.execute_input": "2022-08-17T13:50:06.334000Z",
     "iopub.status.busy": "2022-08-17T13:50:06.334000Z",
     "iopub.status.idle": "2022-08-17T13:50:06.601000Z",
     "shell.execute_reply": "2022-08-17T13:50:06.601000Z"
    }
   },
   "outputs": [],
   "source": [
    "try\n",
    "\n",
    "    OnePiece.normalization.normalize([-1, 0, 1], \"sum\")\n",
    "\n",
    "catch er\n",
    "\n",
    "    println(er)\n",
    "\n",
    "end"
   ]
  },
  {
   "cell_type": "code",
   "execution_count": null,
   "id": "18a3a96f",
   "metadata": {
    "execution": {
     "iopub.execute_input": "2022-08-17T13:50:06.604000Z",
     "iopub.status.busy": "2022-08-17T13:50:06.603000Z",
     "iopub.status.idle": "2022-08-17T13:50:06.868000Z",
     "shell.execute_reply": "2022-08-17T13:50:06.868000Z"
    }
   },
   "outputs": [],
   "source": [
    "for te in ([0], [1], [0, 0, 0], [1, 1, 1], [0, 1, 2])\n",
    "\n",
    "    println(te)\n",
    "\n",
    "    for me in (\"0-1\", \"sum\", \"-0-\")\n",
    "\n",
    "        println(me)\n",
    "\n",
    "        println(OnePiece.normalization.normalize(te, me))\n",
    "\n",
    "    end\n",
    "\n",
    "end"
   ]
  },
  {
   "cell_type": "code",
   "execution_count": null,
   "id": "f082a72e",
   "metadata": {
    "execution": {
     "iopub.execute_input": "2022-08-17T13:50:06.871000Z",
     "iopub.status.busy": "2022-08-17T13:50:06.871000Z",
     "iopub.status.idle": "2022-08-17T13:50:07.004000Z",
     "shell.execute_reply": "2022-08-17T13:50:07.004000Z"
    }
   },
   "outputs": [],
   "source": [
    "for te in ([0], [-1, 0, 0, 1, 1, 1, 2])\n",
    "\n",
    "    println(te)\n",
    "\n",
    "    for me in (\"1223\", \"1224\", \"1 2.5 2.5 4\", \"1234\")\n",
    "\n",
    "        println(me)\n",
    "\n",
    "        println(OnePiece.normalization.normalize(te, me))\n",
    "\n",
    "    end\n",
    "\n",
    "end"
   ]
  }
 ],
 "metadata": {
  "@webio": {
   "lastCommId": null,
   "lastKernelId": null
  },
  "kernelspec": {
   "display_name": "Julia 1.7.3",
   "language": "julia",
   "name": "julia-1.7"
  },
  "language_info": {
   "file_extension": ".jl",
   "mimetype": "application/julia",
   "name": "julia",
   "version": "1.7.3"
  }
 },
 "nbformat": 4,
 "nbformat_minor": 5
}
