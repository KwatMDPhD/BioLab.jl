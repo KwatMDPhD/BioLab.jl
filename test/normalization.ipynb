{
 "cells": [
  {
   "cell_type": "code",
   "execution_count": null,
   "id": "baf12f00",
   "metadata": {
    "execution": {
     "iopub.execute_input": "2022-08-19T09:40:41.887000Z",
     "iopub.status.busy": "2022-08-19T09:40:41.543000Z",
     "iopub.status.idle": "2022-08-19T09:40:46.553000Z",
     "shell.execute_reply": "2022-08-19T09:40:46.506000Z"
    }
   },
   "outputs": [],
   "source": [
    "using OnePiece"
   ]
  },
  {
   "cell_type": "markdown",
   "id": "e7ba3772",
   "metadata": {},
   "source": [
    "## normalize!"
   ]
  },
  {
   "cell_type": "code",
   "execution_count": null,
   "id": "1ec21868",
   "metadata": {
    "execution": {
     "iopub.execute_input": "2022-08-19T09:40:47.182000Z",
     "iopub.status.busy": "2022-08-19T09:40:46.571000Z",
     "iopub.status.idle": "2022-08-19T09:40:48.874000Z",
     "shell.execute_reply": "2022-08-19T09:40:48.873000Z"
    }
   },
   "outputs": [],
   "source": [
    "te = [NaN, -2, 0, NaN, 2, NaN]\n",
    "\n",
    "OnePiece.normalization.normalize!(te, \"0-1\")\n",
    "\n",
    "te"
   ]
  },
  {
   "cell_type": "markdown",
   "id": "e7b837b5",
   "metadata": {},
   "source": [
    "## normalize"
   ]
  },
  {
   "cell_type": "code",
   "execution_count": null,
   "id": "e319da3e",
   "metadata": {
    "execution": {
     "iopub.execute_input": "2022-08-19T09:40:48.878000Z",
     "iopub.status.busy": "2022-08-19T09:40:48.878000Z",
     "iopub.status.idle": "2022-08-19T09:40:49.967000Z",
     "shell.execute_reply": "2022-08-19T09:40:49.967000Z"
    }
   },
   "outputs": [],
   "source": [
    "try\n",
    "\n",
    "    OnePiece.normalization.normalize([], \"0-1\")\n",
    "\n",
    "catch er\n",
    "\n",
    "    println(er)\n",
    "\n",
    "end"
   ]
  },
  {
   "cell_type": "code",
   "execution_count": null,
   "id": "e0ab7673",
   "metadata": {
    "execution": {
     "iopub.execute_input": "2022-08-19T09:40:49.970000Z",
     "iopub.status.busy": "2022-08-19T09:40:49.970000Z",
     "iopub.status.idle": "2022-08-19T09:40:50.241000Z",
     "shell.execute_reply": "2022-08-19T09:40:50.241000Z"
    }
   },
   "outputs": [],
   "source": [
    "try\n",
    "\n",
    "    OnePiece.normalization.normalize([-1, 0, 1], \"sum\")\n",
    "\n",
    "catch er\n",
    "\n",
    "    println(er)\n",
    "\n",
    "end"
   ]
  },
  {
   "cell_type": "code",
   "execution_count": null,
   "id": "18a3a96f",
   "metadata": {
    "execution": {
     "iopub.execute_input": "2022-08-19T09:40:50.245000Z",
     "iopub.status.busy": "2022-08-19T09:40:50.245000Z",
     "iopub.status.idle": "2022-08-19T09:40:50.510000Z",
     "shell.execute_reply": "2022-08-19T09:40:50.510000Z"
    }
   },
   "outputs": [],
   "source": [
    "for te in ([0], [1], [0, 0, 0], [1, 1, 1], [0, 1, 2])\n",
    "\n",
    "    println(te)\n",
    "\n",
    "    for me in (\"0-1\", \"sum\", \"-0-\")\n",
    "\n",
    "        println(me)\n",
    "\n",
    "        println(OnePiece.normalization.normalize(te, me))\n",
    "\n",
    "    end\n",
    "\n",
    "end"
   ]
  },
  {
   "cell_type": "code",
   "execution_count": null,
   "id": "f082a72e",
   "metadata": {
    "execution": {
     "iopub.execute_input": "2022-08-19T09:40:50.512000Z",
     "iopub.status.busy": "2022-08-19T09:40:50.512000Z",
     "iopub.status.idle": "2022-08-19T09:40:50.655000Z",
     "shell.execute_reply": "2022-08-19T09:40:50.655000Z"
    }
   },
   "outputs": [],
   "source": [
    "for te in ([0], [-1, 0, 0, 1, 1, 1, 2])\n",
    "\n",
    "    println(te)\n",
    "\n",
    "    for me in (\"1223\", \"1224\", \"1 2.5 2.5 4\", \"1234\")\n",
    "\n",
    "        println(me)\n",
    "\n",
    "        println(OnePiece.normalization.normalize(te, me))\n",
    "\n",
    "    end\n",
    "\n",
    "end"
   ]
  }
 ],
 "metadata": {
  "@webio": {
   "lastCommId": null,
   "lastKernelId": null
  },
  "kernelspec": {
   "display_name": "Julia 1.7.3",
   "language": "julia",
   "name": "julia-1.7"
  },
  "language_info": {
   "file_extension": ".jl",
   "mimetype": "application/julia",
   "name": "julia",
   "version": "1.7.3"
  }
 },
 "nbformat": 4,
 "nbformat_minor": 5
}
