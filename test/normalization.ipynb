{
 "cells": [
  {
   "cell_type": "code",
   "execution_count": null,
   "id": "baf12f00",
   "metadata": {},
   "outputs": [],
   "source": [
    "using OnePiece"
   ]
  },
  {
   "cell_type": "markdown",
   "id": "e7ba3772",
   "metadata": {},
   "source": [
    "## normalize!"
   ]
  },
  {
   "cell_type": "code",
   "execution_count": null,
   "id": "1ec21868",
   "metadata": {},
   "outputs": [],
   "source": [
    "te = [NaN, -2, 0, NaN, 2, NaN]\n",
    "\n",
    "OnePiece.normalization.normalize!(te, \"0-1\")\n",
    "\n",
    "te"
   ]
  },
  {
   "cell_type": "code",
   "execution_count": null,
   "id": "110e1f0a-d32b-49b2-92c2-e3757a5e0d78",
   "metadata": {},
   "outputs": [],
   "source": [
    "ma = [\n",
    "    1 10 100\n",
    "    1 0.1 0.01\n",
    "]"
   ]
  },
  {
   "cell_type": "code",
   "execution_count": null,
   "id": "950a091f-01d2-4d70-8929-5dc27cd38d8c",
   "metadata": {},
   "outputs": [],
   "source": [
    "ma2 = copy(ma)\n",
    "\n",
    "OnePiece.normalization.normalize!(ma2, 1, \"-0-\")"
   ]
  },
  {
   "cell_type": "code",
   "execution_count": null,
   "id": "902395d2-4b43-4969-baa4-9c06f555e9c3",
   "metadata": {},
   "outputs": [],
   "source": [
    "ma2"
   ]
  },
  {
   "cell_type": "code",
   "execution_count": null,
   "id": "2d22950a-19cb-47c5-b174-4351ff0e071c",
   "metadata": {},
   "outputs": [],
   "source": [
    "ma"
   ]
  },
  {
   "cell_type": "code",
   "execution_count": null,
   "id": "9d2f1bc4-f225-4b9c-8386-07fba86dd4ef",
   "metadata": {},
   "outputs": [],
   "source": [
    "ma2 = copy(ma)\n",
    "\n",
    "OnePiece.normalization.normalize!(ma2, 2, \"-0-\")"
   ]
  },
  {
   "cell_type": "code",
   "execution_count": null,
   "id": "b3f95d7f-4dc8-4cca-85b9-7fc766fc1548",
   "metadata": {},
   "outputs": [],
   "source": [
    "ma2"
   ]
  },
  {
   "cell_type": "code",
   "execution_count": null,
   "id": "e5e302db-24a9-421c-86c5-034d19ad6322",
   "metadata": {},
   "outputs": [],
   "source": [
    "ma"
   ]
  },
  {
   "cell_type": "markdown",
   "id": "e7b837b5",
   "metadata": {},
   "source": [
    "## normalize"
   ]
  },
  {
   "cell_type": "code",
   "execution_count": null,
   "id": "e319da3e",
   "metadata": {},
   "outputs": [],
   "source": [
    "try\n",
    "\n",
    "    OnePiece.normalization.normalize([], \"0-1\")\n",
    "\n",
    "catch er\n",
    "\n",
    "    println(er)\n",
    "\n",
    "end"
   ]
  },
  {
   "cell_type": "code",
   "execution_count": null,
   "id": "e0ab7673",
   "metadata": {},
   "outputs": [],
   "source": [
    "try\n",
    "\n",
    "    OnePiece.normalization.normalize([-1, 0, 1], \"sum\")\n",
    "\n",
    "catch er\n",
    "\n",
    "    println(er)\n",
    "\n",
    "end"
   ]
  },
  {
   "cell_type": "code",
   "execution_count": null,
   "id": "18a3a96f",
   "metadata": {},
   "outputs": [],
   "source": [
    "for te in ([0], [1], [0, 0, 0], [1, 1, 1], [0, 1, 2])\n",
    "\n",
    "    println(te)\n",
    "\n",
    "    for me in (\"0-1\", \"sum\", \"-0-\")\n",
    "\n",
    "        println(me)\n",
    "\n",
    "        println(OnePiece.normalization.normalize(te, me))\n",
    "\n",
    "    end\n",
    "\n",
    "end"
   ]
  },
  {
   "cell_type": "code",
   "execution_count": null,
   "id": "f082a72e",
   "metadata": {},
   "outputs": [],
   "source": [
    "for te in ([0], [-1, 0, 0, 1, 1, 1, 2])\n",
    "\n",
    "    println(te)\n",
    "\n",
    "    for me in (\"1223\", \"1224\", \"1 2.5 2.5 4\", \"1234\")\n",
    "\n",
    "        println(me)\n",
    "\n",
    "        println(OnePiece.normalization.normalize(te, me))\n",
    "\n",
    "    end\n",
    "\n",
    "end"
   ]
  }
 ],
 "metadata": {
  "@webio": {
   "lastCommId": null,
   "lastKernelId": null
  },
  "kernelspec": {
   "display_name": "Julia 1.8.0",
   "language": "julia",
   "name": "julia-1.8"
  },
  "language_info": {
   "file_extension": ".jl",
   "mimetype": "application/julia",
   "name": "julia",
   "version": "1.8.0"
  }
 },
 "nbformat": 4,
 "nbformat_minor": 5
}
