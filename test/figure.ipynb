{
 "cells": [
  {
   "cell_type": "code",
   "execution_count": null,
   "id": "017464da",
   "metadata": {
    "execution": {
     "iopub.execute_input": "2022-02-13T22:59:22.573461Z",
     "iopub.status.busy": "2022-02-13T22:59:22.248049Z",
     "iopub.status.idle": "2022-02-13T22:59:22.752868Z",
     "shell.execute_reply": "2022-02-13T22:59:22.752361Z"
    }
   },
   "outputs": [],
   "source": [
    "TE = joinpath(tempdir(), \"OnePiece.test\")\n",
    "\n",
    "if isdir(TE)\n",
    "\n",
    "    rm(TE, recursive = true)\n",
    "\n",
    "    println(\"Removed \", TE, \".\")\n",
    "\n",
    "end\n",
    "\n",
    "mkdir(TE)\n",
    "\n",
    "println(\"Made \", TE, \".\")"
   ]
  },
  {
   "cell_type": "code",
   "execution_count": null,
   "id": "34e4701e",
   "metadata": {
    "execution": {
     "iopub.execute_input": "2022-02-13T22:59:22.754859Z",
     "iopub.status.busy": "2022-02-13T22:59:22.754346Z",
     "iopub.status.idle": "2022-02-13T22:59:26.690620Z",
     "shell.execute_reply": "2022-02-13T22:59:26.690194Z"
    }
   },
   "outputs": [],
   "source": [
    "using OnePiece"
   ]
  },
  {
   "cell_type": "markdown",
   "id": "b92a3da9",
   "metadata": {},
   "source": [
    "---"
   ]
  },
  {
   "cell_type": "markdown",
   "id": "6809059e",
   "metadata": {},
   "source": [
    "## plot"
   ]
  },
  {
   "cell_type": "code",
   "execution_count": null,
   "id": "2329cb27",
   "metadata": {
    "execution": {
     "iopub.execute_input": "2022-02-13T22:59:26.997634Z",
     "iopub.status.busy": "2022-02-13T22:59:26.692110Z",
     "iopub.status.idle": "2022-02-13T22:59:27.044040Z",
     "shell.execute_reply": "2022-02-13T22:59:27.043596Z"
    }
   },
   "outputs": [],
   "source": [
    "using PlotlyLight"
   ]
  },
  {
   "cell_type": "code",
   "execution_count": null,
   "id": "f55a7149",
   "metadata": {
    "execution": {
     "iopub.execute_input": "2022-02-13T22:59:27.045947Z",
     "iopub.status.busy": "2022-02-13T22:59:27.045443Z",
     "iopub.status.idle": "2022-02-13T22:59:28.326123Z",
     "shell.execute_reply": "2022-02-13T22:59:28.325675Z"
    }
   },
   "outputs": [],
   "source": [
    "tr_ = [Dict()]\n",
    "\n",
    "display(OnePiece.figure.plot(tr_))"
   ]
  },
  {
   "cell_type": "code",
   "execution_count": null,
   "id": "ceb911ba",
   "metadata": {
    "execution": {
     "iopub.execute_input": "2022-02-13T22:59:28.328023Z",
     "iopub.status.busy": "2022-02-13T22:59:28.327526Z",
     "iopub.status.idle": "2022-02-13T22:59:28.417943Z",
     "shell.execute_reply": "2022-02-13T22:59:28.418301Z"
    }
   },
   "outputs": [],
   "source": [
    "la = Config(\n",
    "    template = \"plotly_dark\",\n",
    "    title = \"Title\",\n",
    "    yaxis = Config(title = \"Y-Axis Title\"),\n",
    "    xaxis = Config(title = \"X-Axis Title\"),\n",
    ")\n",
    "\n",
    "display(OnePiece.figure.plot(tr_, la))"
   ]
  },
  {
   "cell_type": "code",
   "execution_count": null,
   "id": "303451fd",
   "metadata": {
    "execution": {
     "iopub.execute_input": "2022-02-13T22:59:28.420543Z",
     "iopub.status.busy": "2022-02-13T22:59:28.419683Z",
     "iopub.status.idle": "2022-02-13T22:59:28.458192Z",
     "shell.execute_reply": "2022-02-13T22:59:28.458632Z"
    }
   },
   "outputs": [],
   "source": [
    "co = Config(displaylog = true)\n",
    "\n",
    "display(OnePiece.figure.plot(tr_, la, co))"
   ]
  },
  {
   "cell_type": "code",
   "execution_count": null,
   "id": "29d9de98",
   "metadata": {
    "execution": {
     "iopub.execute_input": "2022-02-13T22:59:28.461902Z",
     "iopub.status.busy": "2022-02-13T22:59:28.460937Z",
     "iopub.status.idle": "2022-02-13T22:59:28.506822Z",
     "shell.execute_reply": "2022-02-13T22:59:28.507252Z"
    }
   },
   "outputs": [],
   "source": [
    "display(OnePiece.figure.plot(tr_, ou = joinpath(TE, \"output.html\")))"
   ]
  },
  {
   "cell_type": "markdown",
   "id": "a2513ee0",
   "metadata": {},
   "source": [
    "## write"
   ]
  },
  {
   "cell_type": "code",
   "execution_count": null,
   "id": "3066f153",
   "metadata": {
    "execution": {
     "iopub.execute_input": "2022-02-13T22:59:28.509497Z",
     "iopub.status.busy": "2022-02-13T22:59:28.508733Z",
     "iopub.status.idle": "2022-02-13T22:59:28.511424Z",
     "shell.execute_reply": "2022-02-13T22:59:28.510912Z"
    }
   },
   "outputs": [],
   "source": [
    "pl = OnePiece.figure.plot(tr_)\n",
    "\n",
    "OnePiece.figure.write(joinpath(tempdir(), \"snow.png\"), pl, 400, 200, 1.0)"
   ]
  },
  {
   "cell_type": "markdown",
   "id": "ced90427",
   "metadata": {},
   "source": [
    "## plot_x_y"
   ]
  },
  {
   "cell_type": "code",
   "execution_count": null,
   "id": "8d7065b0",
   "metadata": {
    "execution": {
     "iopub.execute_input": "2022-02-13T22:59:28.513653Z",
     "iopub.status.busy": "2022-02-13T22:59:28.512990Z",
     "iopub.status.idle": "2022-02-13T22:59:28.580125Z",
     "shell.execute_reply": "2022-02-13T22:59:28.579516Z"
    }
   },
   "outputs": [],
   "source": [
    "x1 = [-1, 0, 2]\n",
    "\n",
    "x2 = [3, 4]\n",
    "\n",
    "x_ = [x1, x2]\n",
    "\n",
    "y1 = x1 .* 10\n",
    "\n",
    "y2 = x2 .* 20\n",
    "\n",
    "y_ = [y1, y2]\n",
    "\n",
    ";"
   ]
  },
  {
   "cell_type": "code",
   "execution_count": null,
   "id": "a8798a0a",
   "metadata": {
    "execution": {
     "iopub.execute_input": "2022-02-13T22:59:28.582406Z",
     "iopub.status.busy": "2022-02-13T22:59:28.581665Z",
     "iopub.status.idle": "2022-02-13T22:59:29.102948Z",
     "shell.execute_reply": "2022-02-13T22:59:29.103331Z"
    }
   },
   "outputs": [],
   "source": [
    "display(OnePiece.figure.plot_x_y(y_))"
   ]
  },
  {
   "cell_type": "code",
   "execution_count": null,
   "id": "268b8935",
   "metadata": {
    "execution": {
     "iopub.execute_input": "2022-02-13T22:59:29.105219Z",
     "iopub.status.busy": "2022-02-13T22:59:29.104726Z",
     "iopub.status.idle": "2022-02-13T22:59:29.146571Z",
     "shell.execute_reply": "2022-02-13T22:59:29.147131Z"
    }
   },
   "outputs": [],
   "source": [
    "display(OnePiece.figure.plot_x_y(y_; la = la))"
   ]
  },
  {
   "cell_type": "code",
   "execution_count": null,
   "id": "aaf9a733",
   "metadata": {
    "execution": {
     "iopub.execute_input": "2022-02-13T22:59:29.149304Z",
     "iopub.status.busy": "2022-02-13T22:59:29.148703Z",
     "iopub.status.idle": "2022-02-13T22:59:29.222887Z",
     "shell.execute_reply": "2022-02-13T22:59:29.223405Z"
    }
   },
   "outputs": [],
   "source": [
    "display(OnePiece.figure.plot_x_y(y_, x_; la = la, ou = joinpath(TE, \"x_y.html\")))"
   ]
  },
  {
   "cell_type": "markdown",
   "id": "3ac78e65",
   "metadata": {},
   "source": [
    "## plot_bar"
   ]
  },
  {
   "cell_type": "code",
   "execution_count": null,
   "id": "b248787f",
   "metadata": {
    "execution": {
     "iopub.execute_input": "2022-02-13T22:59:29.225778Z",
     "iopub.status.busy": "2022-02-13T22:59:29.225112Z",
     "iopub.status.idle": "2022-02-13T22:59:30.330183Z",
     "shell.execute_reply": "2022-02-13T22:59:30.329789Z"
    }
   },
   "outputs": [],
   "source": [
    "y1 = [-1, 2, 5]\n",
    "\n",
    "y2 = reverse(y1)\n",
    "\n",
    "y_ = [y1, y2]"
   ]
  },
  {
   "cell_type": "code",
   "execution_count": null,
   "id": "b4bc6e6b",
   "metadata": {
    "execution": {
     "iopub.execute_input": "2022-02-13T22:59:30.331977Z",
     "iopub.status.busy": "2022-02-13T22:59:30.331485Z",
     "iopub.status.idle": "2022-02-13T22:59:30.380274Z",
     "shell.execute_reply": "2022-02-13T22:59:30.380639Z"
    }
   },
   "outputs": [],
   "source": [
    "display(OnePiece.figure.plot_bar(y_))"
   ]
  },
  {
   "cell_type": "code",
   "execution_count": null,
   "id": "79736494",
   "metadata": {
    "execution": {
     "iopub.execute_input": "2022-02-13T22:59:30.382563Z",
     "iopub.status.busy": "2022-02-13T22:59:30.381939Z",
     "iopub.status.idle": "2022-02-13T22:59:30.411661Z",
     "shell.execute_reply": "2022-02-13T22:59:30.412071Z"
    }
   },
   "outputs": [],
   "source": [
    "display(OnePiece.figure.plot_bar(y_; la = la))"
   ]
  },
  {
   "cell_type": "code",
   "execution_count": null,
   "id": "7a950a15",
   "metadata": {
    "execution": {
     "iopub.execute_input": "2022-02-13T22:59:30.414145Z",
     "iopub.status.busy": "2022-02-13T22:59:30.413571Z",
     "iopub.status.idle": "2022-02-13T22:59:30.531383Z",
     "shell.execute_reply": "2022-02-13T22:59:30.532390Z"
    }
   },
   "outputs": [],
   "source": [
    "name1 = \"Orange\"\n",
    "\n",
    "name2 = \"Blue\"\n",
    "\n",
    "name_ = [name1, name2]\n",
    "\n",
    "x1 = [-2, -1, 0]\n",
    "\n",
    "x2 = .-reverse(x1)\n",
    "\n",
    "x_ = [x1, x2]\n",
    "\n",
    "display(OnePiece.figure.plot_bar(y_, x_; name_ = name_, la = la))"
   ]
  },
  {
   "cell_type": "code",
   "execution_count": null,
   "id": "4febf9ea",
   "metadata": {
    "execution": {
     "iopub.execute_input": "2022-02-13T22:59:30.535470Z",
     "iopub.status.busy": "2022-02-13T22:59:30.534682Z",
     "iopub.status.idle": "2022-02-13T22:59:30.563064Z",
     "shell.execute_reply": "2022-02-13T22:59:30.563542Z"
    }
   },
   "outputs": [],
   "source": [
    "push!(name_, \"Name 3\")\n",
    "\n",
    "push!(y_, [9])\n",
    "\n",
    "push!(x_, [0])\n",
    "\n",
    "display(OnePiece.figure.plot_bar(y_, x_; name_ = name_, la = la))"
   ]
  },
  {
   "cell_type": "code",
   "execution_count": null,
   "id": "963fdc7d",
   "metadata": {
    "execution": {
     "iopub.execute_input": "2022-02-13T22:59:30.566039Z",
     "iopub.status.busy": "2022-02-13T22:59:30.565221Z",
     "iopub.status.idle": "2022-02-13T22:59:30.754057Z",
     "shell.execute_reply": "2022-02-13T22:59:30.754482Z"
    }
   },
   "outputs": [],
   "source": [
    "display(\n",
    "    OnePiece.figure.plot_bar(\n",
    "        y_,\n",
    "        x_;\n",
    "        name_ = name_,\n",
    "        la = Dict(\"barmode\" => \"stack\"),\n",
    "        ou = joinpath(TE, \"bar.html\"),\n",
    "    ),\n",
    ")"
   ]
  },
  {
   "cell_type": "markdown",
   "id": "1ac66c3b",
   "metadata": {},
   "source": [
    "## plot_heat_map"
   ]
  },
  {
   "cell_type": "code",
   "execution_count": null,
   "id": "9d37bab8",
   "metadata": {
    "execution": {
     "iopub.execute_input": "2022-02-13T22:59:30.756542Z",
     "iopub.status.busy": "2022-02-13T22:59:30.755949Z",
     "iopub.status.idle": "2022-02-13T22:59:31.194766Z",
     "shell.execute_reply": "2022-02-13T22:59:31.194383Z"
    }
   },
   "outputs": [],
   "source": [
    "ma = convert(Matrix, reshape(1:8, (2, 4)))"
   ]
  },
  {
   "cell_type": "code",
   "execution_count": null,
   "id": "36665ec2",
   "metadata": {
    "execution": {
     "iopub.execute_input": "2022-02-13T22:59:31.196661Z",
     "iopub.status.busy": "2022-02-13T22:59:31.196171Z",
     "iopub.status.idle": "2022-02-13T22:59:31.488259Z",
     "shell.execute_reply": "2022-02-13T22:59:31.488602Z"
    }
   },
   "outputs": [],
   "source": [
    "display(\n",
    "    OnePiece.figure.plot_heat_map(\n",
    "        ma,\n",
    "        [string(\"Row\", id) for id in 1:size(ma, 1)],\n",
    "        [string(\"Column\", id) for id in 1:size(ma, 2)],\n",
    "    ),\n",
    ")"
   ]
  },
  {
   "cell_type": "code",
   "execution_count": null,
   "id": "975108c0",
   "metadata": {
    "execution": {
     "iopub.execute_input": "2022-02-13T22:59:31.491126Z",
     "iopub.status.busy": "2022-02-13T22:59:31.490307Z",
     "iopub.status.idle": "2022-02-13T22:59:31.580335Z",
     "shell.execute_reply": "2022-02-13T22:59:31.580766Z"
    }
   },
   "outputs": [],
   "source": [
    "display(OnePiece.figure.plot_heat_map(ma, ou = joinpath(TE, \"heat_map.html\")))"
   ]
  },
  {
   "cell_type": "markdown",
   "id": "3f396855",
   "metadata": {},
   "source": [
    "---"
   ]
  },
  {
   "cell_type": "code",
   "execution_count": null,
   "id": "b4af2023",
   "metadata": {
    "execution": {
     "iopub.execute_input": "2022-02-13T22:59:31.583073Z",
     "iopub.status.busy": "2022-02-13T22:59:31.582390Z",
     "iopub.status.idle": "2022-02-13T22:59:31.587075Z",
     "shell.execute_reply": "2022-02-13T22:59:31.587473Z"
    }
   },
   "outputs": [],
   "source": [
    "if isdir(TE)\n",
    "\n",
    "    rm(TE, recursive = true)\n",
    "\n",
    "    println(\"Removed \", TE, \".\")\n",
    "\n",
    "end"
   ]
  }
 ],
 "metadata": {
  "kernelspec": {
   "display_name": "Julia 1.7.2",
   "language": "julia",
   "name": "julia-1.7"
  },
  "language_info": {
   "file_extension": ".jl",
   "mimetype": "application/julia",
   "name": "julia",
   "version": "1.7.2"
  }
 },
 "nbformat": 4,
 "nbformat_minor": 5
}
