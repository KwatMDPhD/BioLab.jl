{
 "cells": [
  {
   "cell_type": "code",
   "execution_count": null,
   "id": "017464da",
   "metadata": {
    "execution": {
     "iopub.execute_input": "2022-02-13T21:51:40.058932Z",
     "iopub.status.busy": "2022-02-13T21:51:39.697847Z",
     "iopub.status.idle": "2022-02-13T21:51:40.260227Z",
     "shell.execute_reply": "2022-02-13T21:51:40.259578Z"
    }
   },
   "outputs": [],
   "source": [
    "TE = joinpath(tempdir(), \"OnePiece.test\")\n",
    "\n",
    "if isdir(TE)\n",
    "\n",
    "    rm(TE, recursive = true)\n",
    "\n",
    "    println(\"Removed \", TE, \".\")\n",
    "\n",
    "end\n",
    "\n",
    "mkdir(TE)\n",
    "\n",
    "println(\"Made \", TE, \".\")"
   ]
  },
  {
   "cell_type": "code",
   "execution_count": null,
   "id": "34e4701e",
   "metadata": {
    "execution": {
     "iopub.execute_input": "2022-02-13T21:51:40.262842Z",
     "iopub.status.busy": "2022-02-13T21:51:40.262327Z",
     "iopub.status.idle": "2022-02-13T21:51:44.620239Z",
     "shell.execute_reply": "2022-02-13T21:51:44.619827Z"
    }
   },
   "outputs": [],
   "source": [
    "using OnePiece"
   ]
  },
  {
   "cell_type": "markdown",
   "id": "b92a3da9",
   "metadata": {},
   "source": [
    "---"
   ]
  },
  {
   "cell_type": "markdown",
   "id": "6809059e",
   "metadata": {},
   "source": [
    "## plot"
   ]
  },
  {
   "cell_type": "code",
   "execution_count": null,
   "id": "2329cb27",
   "metadata": {
    "execution": {
     "iopub.execute_input": "2022-02-13T21:51:44.946069Z",
     "iopub.status.busy": "2022-02-13T21:51:44.621677Z",
     "iopub.status.idle": "2022-02-13T21:51:44.994841Z",
     "shell.execute_reply": "2022-02-13T21:51:44.994399Z"
    }
   },
   "outputs": [],
   "source": [
    "using PlotlyLight"
   ]
  },
  {
   "cell_type": "code",
   "execution_count": null,
   "id": "f55a7149",
   "metadata": {
    "execution": {
     "iopub.execute_input": "2022-02-13T21:51:44.997608Z",
     "iopub.status.busy": "2022-02-13T21:51:44.997008Z",
     "iopub.status.idle": "2022-02-13T21:51:46.471846Z",
     "shell.execute_reply": "2022-02-13T21:51:46.471374Z"
    }
   },
   "outputs": [],
   "source": [
    "tr_ = [Dict()]\n",
    "\n",
    "display(OnePiece.figure.plot(tr_))"
   ]
  },
  {
   "cell_type": "code",
   "execution_count": null,
   "id": "ceb911ba",
   "metadata": {
    "execution": {
     "iopub.execute_input": "2022-02-13T21:51:46.473793Z",
     "iopub.status.busy": "2022-02-13T21:51:46.473281Z",
     "iopub.status.idle": "2022-02-13T21:51:46.565853Z",
     "shell.execute_reply": "2022-02-13T21:51:46.566485Z"
    }
   },
   "outputs": [],
   "source": [
    "la = Config(\n",
    "    template = \"plotly_dark\",\n",
    "    title = \"Title\",\n",
    "    yaxis = Config(title = \"Y-Axis Title\"),\n",
    "    xaxis = Config(title = \"X-Axis Title\"),\n",
    ")\n",
    "\n",
    "display(OnePiece.figure.plot(tr_, la))"
   ]
  },
  {
   "cell_type": "code",
   "execution_count": null,
   "id": "303451fd",
   "metadata": {
    "execution": {
     "iopub.execute_input": "2022-02-13T21:51:46.568562Z",
     "iopub.status.busy": "2022-02-13T21:51:46.567988Z",
     "iopub.status.idle": "2022-02-13T21:51:46.608672Z",
     "shell.execute_reply": "2022-02-13T21:51:46.609329Z"
    }
   },
   "outputs": [],
   "source": [
    "co = Config(displaylog = true)\n",
    "\n",
    "display(OnePiece.figure.plot(tr_, la, co))"
   ]
  },
  {
   "cell_type": "code",
   "execution_count": null,
   "id": "29d9de98",
   "metadata": {
    "execution": {
     "iopub.execute_input": "2022-02-13T21:51:46.612274Z",
     "iopub.status.busy": "2022-02-13T21:51:46.611460Z",
     "iopub.status.idle": "2022-02-13T21:51:46.658137Z",
     "shell.execute_reply": "2022-02-13T21:51:46.658565Z"
    }
   },
   "outputs": [],
   "source": [
    "display(OnePiece.figure.plot(tr_, ou = joinpath(TE, \"output.html\")))"
   ]
  },
  {
   "cell_type": "markdown",
   "id": "a2513ee0",
   "metadata": {},
   "source": [
    "## write"
   ]
  },
  {
   "cell_type": "code",
   "execution_count": null,
   "id": "3066f153",
   "metadata": {
    "execution": {
     "iopub.execute_input": "2022-02-13T21:51:46.661075Z",
     "iopub.status.busy": "2022-02-13T21:51:46.660270Z",
     "iopub.status.idle": "2022-02-13T21:51:46.663392Z",
     "shell.execute_reply": "2022-02-13T21:51:46.662537Z"
    }
   },
   "outputs": [],
   "source": [
    "pl = OnePiece.figure.plot(tr_)\n",
    "\n",
    "OnePiece.figure.write(joinpath(tempdir(), \"snow.png\"), pl, 400, 200, 1.0)"
   ]
  },
  {
   "cell_type": "markdown",
   "id": "ced90427",
   "metadata": {},
   "source": [
    "## plot_x_y"
   ]
  },
  {
   "cell_type": "code",
   "execution_count": null,
   "id": "8d7065b0",
   "metadata": {
    "execution": {
     "iopub.execute_input": "2022-02-13T21:51:46.665740Z",
     "iopub.status.busy": "2022-02-13T21:51:46.665081Z",
     "iopub.status.idle": "2022-02-13T21:51:46.733859Z",
     "shell.execute_reply": "2022-02-13T21:51:46.733228Z"
    }
   },
   "outputs": [],
   "source": [
    "x1 = [-1, 0, 2]\n",
    "\n",
    "x2 = [3, 4]\n",
    "\n",
    "x_ = [x1, x2]\n",
    "\n",
    "y1 = x1 .* 10\n",
    "\n",
    "y2 = x2 .* 20\n",
    "\n",
    "y_ = [y1, y2]\n",
    "\n",
    ";"
   ]
  },
  {
   "cell_type": "code",
   "execution_count": null,
   "id": "a8798a0a",
   "metadata": {
    "execution": {
     "iopub.execute_input": "2022-02-13T21:51:46.736033Z",
     "iopub.status.busy": "2022-02-13T21:51:46.735415Z",
     "iopub.status.idle": "2022-02-13T21:51:47.252047Z",
     "shell.execute_reply": "2022-02-13T21:51:47.252507Z"
    }
   },
   "outputs": [],
   "source": [
    "display(OnePiece.figure.plot_x_y(y_))"
   ]
  },
  {
   "cell_type": "code",
   "execution_count": null,
   "id": "268b8935",
   "metadata": {
    "execution": {
     "iopub.execute_input": "2022-02-13T21:51:47.254786Z",
     "iopub.status.busy": "2022-02-13T21:51:47.254233Z",
     "iopub.status.idle": "2022-02-13T21:51:47.296998Z",
     "shell.execute_reply": "2022-02-13T21:51:47.297426Z"
    }
   },
   "outputs": [],
   "source": [
    "display(OnePiece.figure.plot_x_y(y_; la = la))"
   ]
  },
  {
   "cell_type": "code",
   "execution_count": null,
   "id": "aaf9a733",
   "metadata": {
    "execution": {
     "iopub.execute_input": "2022-02-13T21:51:47.299312Z",
     "iopub.status.busy": "2022-02-13T21:51:47.298717Z",
     "iopub.status.idle": "2022-02-13T21:51:47.378341Z",
     "shell.execute_reply": "2022-02-13T21:51:47.378868Z"
    }
   },
   "outputs": [],
   "source": [
    "display(OnePiece.figure.plot_x_y(y_, x_; la = la, ou = joinpath(TE, \"x_y.html\")))"
   ]
  },
  {
   "cell_type": "markdown",
   "id": "3ac78e65",
   "metadata": {},
   "source": [
    "## plot_bar"
   ]
  },
  {
   "cell_type": "code",
   "execution_count": null,
   "id": "b248787f",
   "metadata": {
    "execution": {
     "iopub.execute_input": "2022-02-13T21:51:47.381334Z",
     "iopub.status.busy": "2022-02-13T21:51:47.380542Z",
     "iopub.status.idle": "2022-02-13T21:51:48.787895Z",
     "shell.execute_reply": "2022-02-13T21:51:48.787339Z"
    }
   },
   "outputs": [],
   "source": [
    "y1 = [-1, 2, 5]\n",
    "\n",
    "y2 = reverse(y1)\n",
    "\n",
    "y_ = [y1, y2]"
   ]
  },
  {
   "cell_type": "code",
   "execution_count": null,
   "id": "b4bc6e6b",
   "metadata": {
    "execution": {
     "iopub.execute_input": "2022-02-13T21:51:48.789986Z",
     "iopub.status.busy": "2022-02-13T21:51:48.789363Z",
     "iopub.status.idle": "2022-02-13T21:51:48.847190Z",
     "shell.execute_reply": "2022-02-13T21:51:48.847631Z"
    }
   },
   "outputs": [],
   "source": [
    "display(OnePiece.figure.plot_bar(y_))"
   ]
  },
  {
   "cell_type": "code",
   "execution_count": null,
   "id": "79736494",
   "metadata": {
    "execution": {
     "iopub.execute_input": "2022-02-13T21:51:48.849577Z",
     "iopub.status.busy": "2022-02-13T21:51:48.848982Z",
     "iopub.status.idle": "2022-02-13T21:51:48.888388Z",
     "shell.execute_reply": "2022-02-13T21:51:48.888857Z"
    }
   },
   "outputs": [],
   "source": [
    "display(OnePiece.figure.plot_bar(y_; la = la))"
   ]
  },
  {
   "cell_type": "code",
   "execution_count": null,
   "id": "7a950a15",
   "metadata": {
    "execution": {
     "iopub.execute_input": "2022-02-13T21:51:48.891551Z",
     "iopub.status.busy": "2022-02-13T21:51:48.890935Z",
     "iopub.status.idle": "2022-02-13T21:51:49.032719Z",
     "shell.execute_reply": "2022-02-13T21:51:49.033950Z"
    }
   },
   "outputs": [],
   "source": [
    "name1 = \"Orange\"\n",
    "\n",
    "name2 = \"Blue\"\n",
    "\n",
    "name_ = [name1, name2]\n",
    "\n",
    "x1 = [-2, -1, 0]\n",
    "\n",
    "x2 = .-reverse(x1)\n",
    "\n",
    "x_ = [x1, x2]\n",
    "\n",
    "display(OnePiece.figure.plot_bar(y_, x_; name_ = name_, la = la))"
   ]
  },
  {
   "cell_type": "code",
   "execution_count": null,
   "id": "4febf9ea",
   "metadata": {
    "execution": {
     "iopub.execute_input": "2022-02-13T21:51:49.040411Z",
     "iopub.status.busy": "2022-02-13T21:51:49.038410Z",
     "iopub.status.idle": "2022-02-13T21:51:49.087740Z",
     "shell.execute_reply": "2022-02-13T21:51:49.088807Z"
    }
   },
   "outputs": [],
   "source": [
    "push!(name_, \"Name 3\")\n",
    "\n",
    "push!(y_, [9])\n",
    "\n",
    "push!(x_, [0])\n",
    "\n",
    "display(OnePiece.figure.plot_bar(y_, x_; name_ = name_, la = la))"
   ]
  },
  {
   "cell_type": "code",
   "execution_count": null,
   "id": "963fdc7d",
   "metadata": {
    "execution": {
     "iopub.execute_input": "2022-02-13T21:51:49.094618Z",
     "iopub.status.busy": "2022-02-13T21:51:49.092909Z",
     "iopub.status.idle": "2022-02-13T21:51:49.351311Z",
     "shell.execute_reply": "2022-02-13T21:51:49.351872Z"
    }
   },
   "outputs": [],
   "source": [
    "display(\n",
    "    OnePiece.figure.plot_bar(\n",
    "        y_,\n",
    "        x_;\n",
    "        name_ = name_,\n",
    "        la = Dict(\"barmode\" => \"stack\"),\n",
    "        ou = joinpath(TE, \"bar.html\"),\n",
    "    ),\n",
    ")"
   ]
  },
  {
   "cell_type": "markdown",
   "id": "1ac66c3b",
   "metadata": {},
   "source": [
    "## plot_heat_map"
   ]
  },
  {
   "cell_type": "code",
   "execution_count": null,
   "id": "9d37bab8",
   "metadata": {
    "execution": {
     "iopub.execute_input": "2022-02-13T21:51:49.354243Z",
     "iopub.status.busy": "2022-02-13T21:51:49.353657Z",
     "iopub.status.idle": "2022-02-13T21:51:49.807919Z",
     "shell.execute_reply": "2022-02-13T21:51:49.807537Z"
    }
   },
   "outputs": [],
   "source": [
    "ma = convert(Matrix, reshape(1:8, (2, 4)))"
   ]
  },
  {
   "cell_type": "code",
   "execution_count": null,
   "id": "36665ec2",
   "metadata": {
    "execution": {
     "iopub.execute_input": "2022-02-13T21:51:49.809740Z",
     "iopub.status.busy": "2022-02-13T21:51:49.809250Z",
     "iopub.status.idle": "2022-02-13T21:51:50.117678Z",
     "shell.execute_reply": "2022-02-13T21:51:50.118044Z"
    }
   },
   "outputs": [],
   "source": [
    "display(\n",
    "    OnePiece.figure.plot_heat_map(\n",
    "        ma,\n",
    "        [string(\"Row\", id) for id in 1:size(ma, 1)],\n",
    "        [string(\"Column\", id) for id in 1:size(ma, 2)],\n",
    "    ),\n",
    ")"
   ]
  },
  {
   "cell_type": "code",
   "execution_count": null,
   "id": "975108c0",
   "metadata": {
    "execution": {
     "iopub.execute_input": "2022-02-13T21:51:50.119937Z",
     "iopub.status.busy": "2022-02-13T21:51:50.119341Z",
     "iopub.status.idle": "2022-02-13T21:51:50.214122Z",
     "shell.execute_reply": "2022-02-13T21:51:50.213688Z"
    }
   },
   "outputs": [],
   "source": [
    "display(OnePiece.figure.plot_heat_map(ma, ou = joinpath(TE, \"heat_map.html\")))"
   ]
  },
  {
   "cell_type": "markdown",
   "id": "3f396855",
   "metadata": {},
   "source": [
    "---"
   ]
  },
  {
   "cell_type": "code",
   "execution_count": null,
   "id": "b4af2023",
   "metadata": {
    "execution": {
     "iopub.execute_input": "2022-02-13T21:51:50.216578Z",
     "iopub.status.busy": "2022-02-13T21:51:50.215992Z",
     "iopub.status.idle": "2022-02-13T21:51:50.219143Z",
     "shell.execute_reply": "2022-02-13T21:51:50.219530Z"
    }
   },
   "outputs": [],
   "source": [
    "if isdir(TE)\n",
    "\n",
    "    rm(TE, recursive = true)\n",
    "\n",
    "    println(\"Removed \", TE, \".\")\n",
    "\n",
    "end"
   ]
  }
 ],
 "metadata": {
  "kernelspec": {
   "display_name": "Julia 1.7.2",
   "language": "julia",
   "name": "julia-1.7"
  },
  "language_info": {
   "file_extension": ".jl",
   "mimetype": "application/julia",
   "name": "julia",
   "version": "1.7.2"
  }
 },
 "nbformat": 4,
 "nbformat_minor": 5
}
