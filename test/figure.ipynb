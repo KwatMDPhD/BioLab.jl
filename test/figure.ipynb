{
 "cells": [
  {
   "cell_type": "code",
   "execution_count": null,
   "id": "017464da",
   "metadata": {
    "execution": {
     "iopub.execute_input": "2022-02-13T22:25:40.508681Z",
     "iopub.status.busy": "2022-02-13T22:25:40.147914Z",
     "iopub.status.idle": "2022-02-13T22:25:40.715577Z",
     "shell.execute_reply": "2022-02-13T22:25:40.715067Z"
    }
   },
   "outputs": [],
   "source": [
    "TE = joinpath(tempdir(), \"OnePiece.test\")\n",
    "\n",
    "if isdir(TE)\n",
    "\n",
    "    rm(TE, recursive = true)\n",
    "\n",
    "    println(\"Removed \", TE, \".\")\n",
    "\n",
    "end\n",
    "\n",
    "mkdir(TE)\n",
    "\n",
    "println(\"Made \", TE, \".\")"
   ]
  },
  {
   "cell_type": "code",
   "execution_count": null,
   "id": "34e4701e",
   "metadata": {
    "execution": {
     "iopub.execute_input": "2022-02-13T22:25:40.717613Z",
     "iopub.status.busy": "2022-02-13T22:25:40.717094Z",
     "iopub.status.idle": "2022-02-13T22:25:45.110166Z",
     "shell.execute_reply": "2022-02-13T22:25:45.109716Z"
    }
   },
   "outputs": [],
   "source": [
    "using OnePiece"
   ]
  },
  {
   "cell_type": "markdown",
   "id": "b92a3da9",
   "metadata": {},
   "source": [
    "---"
   ]
  },
  {
   "cell_type": "markdown",
   "id": "6809059e",
   "metadata": {},
   "source": [
    "## plot"
   ]
  },
  {
   "cell_type": "code",
   "execution_count": null,
   "id": "2329cb27",
   "metadata": {
    "execution": {
     "iopub.execute_input": "2022-02-13T22:25:45.435598Z",
     "iopub.status.busy": "2022-02-13T22:25:45.112375Z",
     "iopub.status.idle": "2022-02-13T22:25:45.485862Z",
     "shell.execute_reply": "2022-02-13T22:25:45.485415Z"
    }
   },
   "outputs": [],
   "source": [
    "using PlotlyLight"
   ]
  },
  {
   "cell_type": "code",
   "execution_count": null,
   "id": "f55a7149",
   "metadata": {
    "execution": {
     "iopub.execute_input": "2022-02-13T22:25:45.487763Z",
     "iopub.status.busy": "2022-02-13T22:25:45.487264Z",
     "iopub.status.idle": "2022-02-13T22:25:46.942582Z",
     "shell.execute_reply": "2022-02-13T22:25:46.942194Z"
    }
   },
   "outputs": [],
   "source": [
    "tr_ = [Dict()]\n",
    "\n",
    "display(OnePiece.figure.plot(tr_))"
   ]
  },
  {
   "cell_type": "code",
   "execution_count": null,
   "id": "ceb911ba",
   "metadata": {
    "execution": {
     "iopub.execute_input": "2022-02-13T22:25:46.944668Z",
     "iopub.status.busy": "2022-02-13T22:25:46.943932Z",
     "iopub.status.idle": "2022-02-13T22:25:47.040704Z",
     "shell.execute_reply": "2022-02-13T22:25:47.041090Z"
    }
   },
   "outputs": [],
   "source": [
    "la = Config(\n",
    "    template = \"plotly_dark\",\n",
    "    title = \"Title\",\n",
    "    yaxis = Config(title = \"Y-Axis Title\"),\n",
    "    xaxis = Config(title = \"X-Axis Title\"),\n",
    ")\n",
    "\n",
    "display(OnePiece.figure.plot(tr_, la))"
   ]
  },
  {
   "cell_type": "code",
   "execution_count": null,
   "id": "303451fd",
   "metadata": {
    "execution": {
     "iopub.execute_input": "2022-02-13T22:25:47.043185Z",
     "iopub.status.busy": "2022-02-13T22:25:47.042446Z",
     "iopub.status.idle": "2022-02-13T22:25:47.080745Z",
     "shell.execute_reply": "2022-02-13T22:25:47.081229Z"
    }
   },
   "outputs": [],
   "source": [
    "co = Config(displaylog = true)\n",
    "\n",
    "display(OnePiece.figure.plot(tr_, la, co))"
   ]
  },
  {
   "cell_type": "code",
   "execution_count": null,
   "id": "29d9de98",
   "metadata": {
    "execution": {
     "iopub.execute_input": "2022-02-13T22:25:47.083338Z",
     "iopub.status.busy": "2022-02-13T22:25:47.082661Z",
     "iopub.status.idle": "2022-02-13T22:25:47.128769Z",
     "shell.execute_reply": "2022-02-13T22:25:47.128010Z"
    }
   },
   "outputs": [],
   "source": [
    "display(OnePiece.figure.plot(tr_, ou = joinpath(TE, \"output.html\")))"
   ]
  },
  {
   "cell_type": "markdown",
   "id": "a2513ee0",
   "metadata": {},
   "source": [
    "## write"
   ]
  },
  {
   "cell_type": "code",
   "execution_count": null,
   "id": "3066f153",
   "metadata": {
    "execution": {
     "iopub.execute_input": "2022-02-13T22:25:47.132019Z",
     "iopub.status.busy": "2022-02-13T22:25:47.131208Z",
     "iopub.status.idle": "2022-02-13T22:25:47.133611Z",
     "shell.execute_reply": "2022-02-13T22:25:47.132950Z"
    }
   },
   "outputs": [],
   "source": [
    "pl = OnePiece.figure.plot(tr_)\n",
    "\n",
    "OnePiece.figure.write(joinpath(tempdir(), \"snow.png\"), pl, 400, 200, 1.0)"
   ]
  },
  {
   "cell_type": "markdown",
   "id": "ced90427",
   "metadata": {},
   "source": [
    "## plot_x_y"
   ]
  },
  {
   "cell_type": "code",
   "execution_count": null,
   "id": "8d7065b0",
   "metadata": {
    "execution": {
     "iopub.execute_input": "2022-02-13T22:25:47.135775Z",
     "iopub.status.busy": "2022-02-13T22:25:47.135134Z",
     "iopub.status.idle": "2022-02-13T22:25:47.206277Z",
     "shell.execute_reply": "2022-02-13T22:25:47.205742Z"
    }
   },
   "outputs": [],
   "source": [
    "x1 = [-1, 0, 2]\n",
    "\n",
    "x2 = [3, 4]\n",
    "\n",
    "x_ = [x1, x2]\n",
    "\n",
    "y1 = x1 .* 10\n",
    "\n",
    "y2 = x2 .* 20\n",
    "\n",
    "y_ = [y1, y2]\n",
    "\n",
    ";"
   ]
  },
  {
   "cell_type": "code",
   "execution_count": null,
   "id": "a8798a0a",
   "metadata": {
    "execution": {
     "iopub.execute_input": "2022-02-13T22:25:47.208247Z",
     "iopub.status.busy": "2022-02-13T22:25:47.207635Z",
     "iopub.status.idle": "2022-02-13T22:25:47.743930Z",
     "shell.execute_reply": "2022-02-13T22:25:47.743551Z"
    }
   },
   "outputs": [],
   "source": [
    "display(OnePiece.figure.plot_x_y(y_))"
   ]
  },
  {
   "cell_type": "code",
   "execution_count": null,
   "id": "268b8935",
   "metadata": {
    "execution": {
     "iopub.execute_input": "2022-02-13T22:25:47.746114Z",
     "iopub.status.busy": "2022-02-13T22:25:47.745458Z",
     "iopub.status.idle": "2022-02-13T22:25:47.787210Z",
     "shell.execute_reply": "2022-02-13T22:25:47.786227Z"
    }
   },
   "outputs": [],
   "source": [
    "display(OnePiece.figure.plot_x_y(y_; la = la))"
   ]
  },
  {
   "cell_type": "code",
   "execution_count": null,
   "id": "aaf9a733",
   "metadata": {
    "execution": {
     "iopub.execute_input": "2022-02-13T22:25:47.789634Z",
     "iopub.status.busy": "2022-02-13T22:25:47.788834Z",
     "iopub.status.idle": "2022-02-13T22:25:47.867246Z",
     "shell.execute_reply": "2022-02-13T22:25:47.866749Z"
    }
   },
   "outputs": [],
   "source": [
    "display(OnePiece.figure.plot_x_y(y_, x_; la = la, ou = joinpath(TE, \"x_y.html\")))"
   ]
  },
  {
   "cell_type": "markdown",
   "id": "3ac78e65",
   "metadata": {},
   "source": [
    "## plot_bar"
   ]
  },
  {
   "cell_type": "code",
   "execution_count": null,
   "id": "b248787f",
   "metadata": {
    "execution": {
     "iopub.execute_input": "2022-02-13T22:25:47.869320Z",
     "iopub.status.busy": "2022-02-13T22:25:47.868657Z",
     "iopub.status.idle": "2022-02-13T22:25:49.155443Z",
     "shell.execute_reply": "2022-02-13T22:25:49.154973Z"
    }
   },
   "outputs": [],
   "source": [
    "y1 = [-1, 2, 5]\n",
    "\n",
    "y2 = reverse(y1)\n",
    "\n",
    "y_ = [y1, y2]"
   ]
  },
  {
   "cell_type": "code",
   "execution_count": null,
   "id": "b4bc6e6b",
   "metadata": {
    "execution": {
     "iopub.execute_input": "2022-02-13T22:25:49.157563Z",
     "iopub.status.busy": "2022-02-13T22:25:49.156927Z",
     "iopub.status.idle": "2022-02-13T22:25:49.218029Z",
     "shell.execute_reply": "2022-02-13T22:25:49.217566Z"
    }
   },
   "outputs": [],
   "source": [
    "display(OnePiece.figure.plot_bar(y_))"
   ]
  },
  {
   "cell_type": "code",
   "execution_count": null,
   "id": "79736494",
   "metadata": {
    "execution": {
     "iopub.execute_input": "2022-02-13T22:25:49.221522Z",
     "iopub.status.busy": "2022-02-13T22:25:49.220388Z",
     "iopub.status.idle": "2022-02-13T22:25:49.261069Z",
     "shell.execute_reply": "2022-02-13T22:25:49.260600Z"
    }
   },
   "outputs": [],
   "source": [
    "display(OnePiece.figure.plot_bar(y_; la = la))"
   ]
  },
  {
   "cell_type": "code",
   "execution_count": null,
   "id": "7a950a15",
   "metadata": {
    "execution": {
     "iopub.execute_input": "2022-02-13T22:25:49.264269Z",
     "iopub.status.busy": "2022-02-13T22:25:49.263258Z",
     "iopub.status.idle": "2022-02-13T22:25:49.393537Z",
     "shell.execute_reply": "2022-02-13T22:25:49.394205Z"
    }
   },
   "outputs": [],
   "source": [
    "name1 = \"Orange\"\n",
    "\n",
    "name2 = \"Blue\"\n",
    "\n",
    "name_ = [name1, name2]\n",
    "\n",
    "x1 = [-2, -1, 0]\n",
    "\n",
    "x2 = .-reverse(x1)\n",
    "\n",
    "x_ = [x1, x2]\n",
    "\n",
    "display(OnePiece.figure.plot_bar(y_, x_; name_ = name_, la = la))"
   ]
  },
  {
   "cell_type": "code",
   "execution_count": null,
   "id": "4febf9ea",
   "metadata": {
    "execution": {
     "iopub.execute_input": "2022-02-13T22:25:49.397512Z",
     "iopub.status.busy": "2022-02-13T22:25:49.396478Z",
     "iopub.status.idle": "2022-02-13T22:25:49.433126Z",
     "shell.execute_reply": "2022-02-13T22:25:49.433622Z"
    }
   },
   "outputs": [],
   "source": [
    "push!(name_, \"Name 3\")\n",
    "\n",
    "push!(y_, [9])\n",
    "\n",
    "push!(x_, [0])\n",
    "\n",
    "display(OnePiece.figure.plot_bar(y_, x_; name_ = name_, la = la))"
   ]
  },
  {
   "cell_type": "code",
   "execution_count": null,
   "id": "963fdc7d",
   "metadata": {
    "execution": {
     "iopub.execute_input": "2022-02-13T22:25:49.437165Z",
     "iopub.status.busy": "2022-02-13T22:25:49.436248Z",
     "iopub.status.idle": "2022-02-13T22:25:49.712578Z",
     "shell.execute_reply": "2022-02-13T22:25:49.713021Z"
    }
   },
   "outputs": [],
   "source": [
    "display(\n",
    "    OnePiece.figure.plot_bar(\n",
    "        y_,\n",
    "        x_;\n",
    "        name_ = name_,\n",
    "        la = Dict(\"barmode\" => \"stack\"),\n",
    "        ou = joinpath(TE, \"bar.html\"),\n",
    "    ),\n",
    ")"
   ]
  },
  {
   "cell_type": "markdown",
   "id": "1ac66c3b",
   "metadata": {},
   "source": [
    "## plot_heat_map"
   ]
  },
  {
   "cell_type": "code",
   "execution_count": null,
   "id": "9d37bab8",
   "metadata": {
    "execution": {
     "iopub.execute_input": "2022-02-13T22:25:49.715890Z",
     "iopub.status.busy": "2022-02-13T22:25:49.715010Z",
     "iopub.status.idle": "2022-02-13T22:25:50.167409Z",
     "shell.execute_reply": "2022-02-13T22:25:50.166966Z"
    }
   },
   "outputs": [],
   "source": [
    "ma = convert(Matrix, reshape(1:8, (2, 4)))"
   ]
  },
  {
   "cell_type": "code",
   "execution_count": null,
   "id": "36665ec2",
   "metadata": {
    "execution": {
     "iopub.execute_input": "2022-02-13T22:25:50.169229Z",
     "iopub.status.busy": "2022-02-13T22:25:50.168739Z",
     "iopub.status.idle": "2022-02-13T22:25:50.474502Z",
     "shell.execute_reply": "2022-02-13T22:25:50.474864Z"
    }
   },
   "outputs": [],
   "source": [
    "display(\n",
    "    OnePiece.figure.plot_heat_map(\n",
    "        ma,\n",
    "        [string(\"Row\", id) for id in 1:size(ma, 1)],\n",
    "        [string(\"Column\", id) for id in 1:size(ma, 2)],\n",
    "    ),\n",
    ")"
   ]
  },
  {
   "cell_type": "code",
   "execution_count": null,
   "id": "975108c0",
   "metadata": {
    "execution": {
     "iopub.execute_input": "2022-02-13T22:25:50.477713Z",
     "iopub.status.busy": "2022-02-13T22:25:50.476866Z",
     "iopub.status.idle": "2022-02-13T22:25:50.568788Z",
     "shell.execute_reply": "2022-02-13T22:25:50.569222Z"
    }
   },
   "outputs": [],
   "source": [
    "display(OnePiece.figure.plot_heat_map(ma, ou = joinpath(TE, \"heat_map.html\")))"
   ]
  },
  {
   "cell_type": "markdown",
   "id": "3f396855",
   "metadata": {},
   "source": [
    "---"
   ]
  },
  {
   "cell_type": "code",
   "execution_count": null,
   "id": "b4af2023",
   "metadata": {
    "execution": {
     "iopub.execute_input": "2022-02-13T22:25:50.571698Z",
     "iopub.status.busy": "2022-02-13T22:25:50.571014Z",
     "iopub.status.idle": "2022-02-13T22:25:50.575367Z",
     "shell.execute_reply": "2022-02-13T22:25:50.574918Z"
    }
   },
   "outputs": [],
   "source": [
    "if isdir(TE)\n",
    "\n",
    "    rm(TE, recursive = true)\n",
    "\n",
    "    println(\"Removed \", TE, \".\")\n",
    "\n",
    "end"
   ]
  }
 ],
 "metadata": {
  "kernelspec": {
   "display_name": "Julia 1.7.2",
   "language": "julia",
   "name": "julia-1.7"
  },
  "language_info": {
   "file_extension": ".jl",
   "mimetype": "application/julia",
   "name": "julia",
   "version": "1.7.2"
  }
 },
 "nbformat": 4,
 "nbformat_minor": 5
}
