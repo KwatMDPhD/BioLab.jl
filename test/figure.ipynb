{
 "cells": [
  {
   "cell_type": "code",
   "execution_count": null,
   "id": "017464da",
   "metadata": {
    "execution": {
     "iopub.execute_input": "2022-02-11T20:00:08.034607Z",
     "iopub.status.busy": "2022-02-11T20:00:07.640776Z",
     "iopub.status.idle": "2022-02-11T20:00:08.253165Z",
     "shell.execute_reply": "2022-02-11T20:00:08.252643Z"
    }
   },
   "outputs": [],
   "source": [
    "TE = joinpath(tempdir(), \"OnePiece.test\")\n",
    "\n",
    "if isdir(TE)\n",
    "\n",
    "    rm(TE, recursive = true)\n",
    "\n",
    "    println(\"Removed \", TE, \".\")\n",
    "\n",
    "end\n",
    "\n",
    "mkdir(TE)\n",
    "\n",
    "println(\"Made \", TE, \".\")"
   ]
  },
  {
   "cell_type": "code",
   "execution_count": null,
   "id": "34e4701e",
   "metadata": {
    "execution": {
     "iopub.execute_input": "2022-02-11T20:00:08.255144Z",
     "iopub.status.busy": "2022-02-11T20:00:08.254571Z",
     "iopub.status.idle": "2022-02-11T20:00:12.901522Z",
     "shell.execute_reply": "2022-02-11T20:00:12.901081Z"
    }
   },
   "outputs": [],
   "source": [
    "using OnePiece"
   ]
  },
  {
   "cell_type": "markdown",
   "id": "b92a3da9",
   "metadata": {},
   "source": [
    "---"
   ]
  },
  {
   "cell_type": "markdown",
   "id": "6809059e",
   "metadata": {},
   "source": [
    "## plot"
   ]
  },
  {
   "cell_type": "code",
   "execution_count": null,
   "id": "2329cb27",
   "metadata": {
    "execution": {
     "iopub.execute_input": "2022-02-11T20:00:13.252960Z",
     "iopub.status.busy": "2022-02-11T20:00:12.902929Z",
     "iopub.status.idle": "2022-02-11T20:00:13.303998Z",
     "shell.execute_reply": "2022-02-11T20:00:13.303557Z"
    }
   },
   "outputs": [],
   "source": [
    "using PlotlyLight"
   ]
  },
  {
   "cell_type": "code",
   "execution_count": null,
   "id": "f55a7149",
   "metadata": {
    "execution": {
     "iopub.execute_input": "2022-02-11T20:00:13.306053Z",
     "iopub.status.busy": "2022-02-11T20:00:13.305551Z",
     "iopub.status.idle": "2022-02-11T20:00:14.826913Z",
     "shell.execute_reply": "2022-02-11T20:00:14.826510Z"
    }
   },
   "outputs": [],
   "source": [
    "tr_ = [Dict()]\n",
    "\n",
    "display(OnePiece.figure.plot(tr_))"
   ]
  },
  {
   "cell_type": "code",
   "execution_count": null,
   "id": "ceb911ba",
   "metadata": {
    "execution": {
     "iopub.execute_input": "2022-02-11T20:00:14.829141Z",
     "iopub.status.busy": "2022-02-11T20:00:14.828638Z",
     "iopub.status.idle": "2022-02-11T20:00:14.931446Z",
     "shell.execute_reply": "2022-02-11T20:00:14.931940Z"
    }
   },
   "outputs": [],
   "source": [
    "la = Config(\n",
    "    template = \"plotly_dark\",\n",
    "    title = \"Title\",\n",
    "    yaxis = Config(title = \"Y-Axis Title\"),\n",
    "    xaxis = Config(title = \"X-Axis Title\"),\n",
    ")\n",
    "\n",
    "display(OnePiece.figure.plot(tr_, la))"
   ]
  },
  {
   "cell_type": "code",
   "execution_count": null,
   "id": "303451fd",
   "metadata": {
    "execution": {
     "iopub.execute_input": "2022-02-11T20:00:14.934684Z",
     "iopub.status.busy": "2022-02-11T20:00:14.933498Z",
     "iopub.status.idle": "2022-02-11T20:00:14.971185Z",
     "shell.execute_reply": "2022-02-11T20:00:14.971583Z"
    }
   },
   "outputs": [],
   "source": [
    "co = Config(displaylog = true)\n",
    "\n",
    "display(OnePiece.figure.plot(tr_, la, co))"
   ]
  },
  {
   "cell_type": "code",
   "execution_count": null,
   "id": "29d9de98",
   "metadata": {
    "execution": {
     "iopub.execute_input": "2022-02-11T20:00:14.974174Z",
     "iopub.status.busy": "2022-02-11T20:00:14.973481Z",
     "iopub.status.idle": "2022-02-11T20:00:15.018687Z",
     "shell.execute_reply": "2022-02-11T20:00:15.019250Z"
    }
   },
   "outputs": [],
   "source": [
    "display(OnePiece.figure.plot(tr_, ou = joinpath(TE, \"output.html\")))"
   ]
  },
  {
   "cell_type": "markdown",
   "id": "a2513ee0",
   "metadata": {},
   "source": [
    "## write"
   ]
  },
  {
   "cell_type": "code",
   "execution_count": null,
   "id": "3066f153",
   "metadata": {
    "execution": {
     "iopub.execute_input": "2022-02-11T20:00:15.022492Z",
     "iopub.status.busy": "2022-02-11T20:00:15.021667Z",
     "iopub.status.idle": "2022-02-11T20:00:15.027402Z",
     "shell.execute_reply": "2022-02-11T20:00:15.026469Z"
    }
   },
   "outputs": [],
   "source": [
    "pl = OnePiece.figure.plot(tr_)\n",
    "\n",
    "OnePiece.figure.write(joinpath(tempdir(), \"snow.png\"), pl, 400, 200, 1.0)"
   ]
  },
  {
   "cell_type": "markdown",
   "id": "ced90427",
   "metadata": {},
   "source": [
    "## plot_x_y"
   ]
  },
  {
   "cell_type": "code",
   "execution_count": null,
   "id": "8d7065b0",
   "metadata": {
    "execution": {
     "iopub.execute_input": "2022-02-11T20:00:15.029790Z",
     "iopub.status.busy": "2022-02-11T20:00:15.029133Z",
     "iopub.status.idle": "2022-02-11T20:00:15.098626Z",
     "shell.execute_reply": "2022-02-11T20:00:15.098139Z"
    }
   },
   "outputs": [],
   "source": [
    "x1 = [-1, 0, 2]\n",
    "\n",
    "x2 = [3, 4]\n",
    "\n",
    "x_ = [x1, x2]\n",
    "\n",
    "y1 = x1 .* 10\n",
    "\n",
    "y2 = x2 .* 20\n",
    "\n",
    "y_ = [y1, y2]\n",
    "\n",
    ";"
   ]
  },
  {
   "cell_type": "code",
   "execution_count": null,
   "id": "a8798a0a",
   "metadata": {
    "execution": {
     "iopub.execute_input": "2022-02-11T20:00:15.100502Z",
     "iopub.status.busy": "2022-02-11T20:00:15.099913Z",
     "iopub.status.idle": "2022-02-11T20:00:15.684562Z",
     "shell.execute_reply": "2022-02-11T20:00:15.685003Z"
    }
   },
   "outputs": [],
   "source": [
    "display(OnePiece.figure.plot_x_y(y_))"
   ]
  },
  {
   "cell_type": "code",
   "execution_count": null,
   "id": "268b8935",
   "metadata": {
    "execution": {
     "iopub.execute_input": "2022-02-11T20:00:15.687506Z",
     "iopub.status.busy": "2022-02-11T20:00:15.686836Z",
     "iopub.status.idle": "2022-02-11T20:00:15.752594Z",
     "shell.execute_reply": "2022-02-11T20:00:15.752005Z"
    }
   },
   "outputs": [],
   "source": [
    "display(OnePiece.figure.plot_x_y(y_; la = la))"
   ]
  },
  {
   "cell_type": "code",
   "execution_count": null,
   "id": "aaf9a733",
   "metadata": {
    "execution": {
     "iopub.execute_input": "2022-02-11T20:00:15.755981Z",
     "iopub.status.busy": "2022-02-11T20:00:15.755084Z",
     "iopub.status.idle": "2022-02-11T20:00:15.863711Z",
     "shell.execute_reply": "2022-02-11T20:00:15.864775Z"
    }
   },
   "outputs": [],
   "source": [
    "display(OnePiece.figure.plot_x_y(y_, x_; la = la, ou = joinpath(TE, \"x_y.html\")))"
   ]
  },
  {
   "cell_type": "markdown",
   "id": "3ac78e65",
   "metadata": {},
   "source": [
    "## plot_bar"
   ]
  },
  {
   "cell_type": "code",
   "execution_count": null,
   "id": "b248787f",
   "metadata": {
    "execution": {
     "iopub.execute_input": "2022-02-11T20:00:15.868806Z",
     "iopub.status.busy": "2022-02-11T20:00:15.867725Z",
     "iopub.status.idle": "2022-02-11T20:00:17.219283Z",
     "shell.execute_reply": "2022-02-11T20:00:17.218804Z"
    }
   },
   "outputs": [],
   "source": [
    "y1 = [-1, 2, 5]\n",
    "\n",
    "y2 = reverse(y1)\n",
    "\n",
    "y_ = [y1, y2]"
   ]
  },
  {
   "cell_type": "code",
   "execution_count": null,
   "id": "b4bc6e6b",
   "metadata": {
    "execution": {
     "iopub.execute_input": "2022-02-11T20:00:17.221188Z",
     "iopub.status.busy": "2022-02-11T20:00:17.220595Z",
     "iopub.status.idle": "2022-02-11T20:00:17.275001Z",
     "shell.execute_reply": "2022-02-11T20:00:17.274556Z"
    }
   },
   "outputs": [],
   "source": [
    "display(OnePiece.figure.plot_bar(y_))"
   ]
  },
  {
   "cell_type": "code",
   "execution_count": null,
   "id": "79736494",
   "metadata": {
    "execution": {
     "iopub.execute_input": "2022-02-11T20:00:17.277098Z",
     "iopub.status.busy": "2022-02-11T20:00:17.276513Z",
     "iopub.status.idle": "2022-02-11T20:00:17.305560Z",
     "shell.execute_reply": "2022-02-11T20:00:17.305976Z"
    }
   },
   "outputs": [],
   "source": [
    "display(OnePiece.figure.plot_bar(y_; la = la))"
   ]
  },
  {
   "cell_type": "code",
   "execution_count": null,
   "id": "7a950a15",
   "metadata": {
    "execution": {
     "iopub.execute_input": "2022-02-11T20:00:17.308139Z",
     "iopub.status.busy": "2022-02-11T20:00:17.307507Z",
     "iopub.status.idle": "2022-02-11T20:00:17.433560Z",
     "shell.execute_reply": "2022-02-11T20:00:17.433113Z"
    }
   },
   "outputs": [],
   "source": [
    "name1 = \"Orange\"\n",
    "\n",
    "name2 = \"Blue\"\n",
    "\n",
    "name_ = [name1, name2]\n",
    "\n",
    "x1 = [-2, -1, 0]\n",
    "\n",
    "x2 = .-reverse(x1)\n",
    "\n",
    "x_ = [x1, x2]\n",
    "\n",
    "display(OnePiece.figure.plot_bar(y_, x_; name_ = name_, la = la))"
   ]
  },
  {
   "cell_type": "code",
   "execution_count": null,
   "id": "4febf9ea",
   "metadata": {
    "execution": {
     "iopub.execute_input": "2022-02-11T20:00:17.436081Z",
     "iopub.status.busy": "2022-02-11T20:00:17.435317Z",
     "iopub.status.idle": "2022-02-11T20:00:17.465275Z",
     "shell.execute_reply": "2022-02-11T20:00:17.465779Z"
    }
   },
   "outputs": [],
   "source": [
    "push!(name_, \"Name 3\")\n",
    "\n",
    "push!(y_, [9])\n",
    "\n",
    "push!(x_, [0])\n",
    "\n",
    "display(OnePiece.figure.plot_bar(y_, x_; name_ = name_, la = la))"
   ]
  },
  {
   "cell_type": "code",
   "execution_count": null,
   "id": "963fdc7d",
   "metadata": {
    "execution": {
     "iopub.execute_input": "2022-02-11T20:00:17.468525Z",
     "iopub.status.busy": "2022-02-11T20:00:17.467758Z",
     "iopub.status.idle": "2022-02-11T20:00:17.673618Z",
     "shell.execute_reply": "2022-02-11T20:00:17.674037Z"
    }
   },
   "outputs": [],
   "source": [
    "display(\n",
    "    OnePiece.figure.plot_bar(\n",
    "        y_,\n",
    "        x_;\n",
    "        name_ = name_,\n",
    "        la = Dict(\"barmode\" => \"stack\"),\n",
    "        ou = joinpath(TE, \"bar.html\"),\n",
    "    ),\n",
    ")"
   ]
  },
  {
   "cell_type": "markdown",
   "id": "1ac66c3b",
   "metadata": {},
   "source": [
    "## plot_heat_map"
   ]
  },
  {
   "cell_type": "code",
   "execution_count": null,
   "id": "9d37bab8",
   "metadata": {
    "execution": {
     "iopub.execute_input": "2022-02-11T20:00:17.681746Z",
     "iopub.status.busy": "2022-02-11T20:00:17.681058Z",
     "iopub.status.idle": "2022-02-11T20:00:18.164733Z",
     "shell.execute_reply": "2022-02-11T20:00:18.164276Z"
    }
   },
   "outputs": [],
   "source": [
    "ma = convert(Matrix, reshape(1:8, (2, 4)))"
   ]
  },
  {
   "cell_type": "code",
   "execution_count": null,
   "id": "36665ec2",
   "metadata": {
    "execution": {
     "iopub.execute_input": "2022-02-11T20:00:18.166637Z",
     "iopub.status.busy": "2022-02-11T20:00:18.166048Z",
     "iopub.status.idle": "2022-02-11T20:00:18.529130Z",
     "shell.execute_reply": "2022-02-11T20:00:18.529539Z"
    }
   },
   "outputs": [],
   "source": [
    "display(\n",
    "    OnePiece.figure.plot_heat_map(\n",
    "        ma,\n",
    "        [string(\"Row\", id) for id in 1:size(ma, 1)],\n",
    "        [string(\"Column\", id) for id in 1:size(ma, 2)],\n",
    "    ),\n",
    ")"
   ]
  },
  {
   "cell_type": "code",
   "execution_count": null,
   "id": "975108c0",
   "metadata": {
    "execution": {
     "iopub.execute_input": "2022-02-11T20:00:18.533992Z",
     "iopub.status.busy": "2022-02-11T20:00:18.533308Z",
     "iopub.status.idle": "2022-02-11T20:00:18.637992Z",
     "shell.execute_reply": "2022-02-11T20:00:18.638568Z"
    }
   },
   "outputs": [],
   "source": [
    "display(OnePiece.figure.plot_heat_map(ma, ou = joinpath(TE, \"heat_map.html\")))"
   ]
  },
  {
   "cell_type": "markdown",
   "id": "3f396855",
   "metadata": {},
   "source": [
    "---"
   ]
  },
  {
   "cell_type": "code",
   "execution_count": null,
   "id": "b4af2023",
   "metadata": {
    "execution": {
     "iopub.execute_input": "2022-02-11T20:00:18.641625Z",
     "iopub.status.busy": "2022-02-11T20:00:18.640780Z",
     "iopub.status.idle": "2022-02-11T20:00:18.644953Z",
     "shell.execute_reply": "2022-02-11T20:00:18.644482Z"
    }
   },
   "outputs": [],
   "source": [
    "if isdir(TE)\n",
    "\n",
    "    rm(TE, recursive = true)\n",
    "\n",
    "    println(\"Removed \", TE, \".\")\n",
    "\n",
    "end"
   ]
  }
 ],
 "metadata": {
  "kernelspec": {
   "display_name": "Julia 1.7.2",
   "language": "julia",
   "name": "julia-1.7"
  },
  "language_info": {
   "file_extension": ".jl",
   "mimetype": "application/julia",
   "name": "julia",
   "version": "1.7.2"
  }
 },
 "nbformat": 4,
 "nbformat_minor": 5
}
