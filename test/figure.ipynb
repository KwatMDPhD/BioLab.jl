{
 "cells": [
  {
   "cell_type": "code",
   "execution_count": null,
   "id": "34e4701e",
   "metadata": {
    "execution": {
     "iopub.execute_input": "2022-02-09T02:41:49.371966Z",
     "iopub.status.busy": "2022-02-09T02:41:48.960187Z",
     "iopub.status.idle": "2022-02-09T02:41:50.426924Z",
     "shell.execute_reply": "2022-02-09T02:41:50.426369Z"
    }
   },
   "outputs": [],
   "source": [
    "using Revise\n",
    "using BenchmarkTools"
   ]
  },
  {
   "cell_type": "code",
   "execution_count": null,
   "id": "6436b741",
   "metadata": {
    "execution": {
     "iopub.execute_input": "2022-02-09T02:41:50.428815Z",
     "iopub.status.busy": "2022-02-09T02:41:50.428233Z",
     "iopub.status.idle": "2022-02-09T02:42:01.358384Z",
     "shell.execute_reply": "2022-02-09T02:42:01.357868Z"
    }
   },
   "outputs": [],
   "source": [
    "using PlotlyJS\n",
    "\n",
    "using OnePiece"
   ]
  },
  {
   "cell_type": "code",
   "execution_count": null,
   "id": "836e7390",
   "metadata": {
    "execution": {
     "iopub.execute_input": "2022-02-09T02:42:02.944894Z",
     "iopub.status.busy": "2022-02-09T02:42:01.359634Z",
     "iopub.status.idle": "2022-02-09T02:42:05.723361Z",
     "shell.execute_reply": "2022-02-09T02:42:05.722069Z"
    }
   },
   "outputs": [],
   "source": [
    "tr_ = Vector{GenericTrace}()\n",
    "\n",
    "la = Layout(title = \"Title\", yaxis_title = \"Y-Axis Title\", xaxis_title = \"X-Axis Title\")\n",
    "\n",
    ";"
   ]
  },
  {
   "cell_type": "markdown",
   "id": "6809059e",
   "metadata": {},
   "source": [
    "## plot"
   ]
  },
  {
   "cell_type": "code",
   "execution_count": null,
   "id": "5bd282d2",
   "metadata": {
    "execution": {
     "iopub.execute_input": "2022-02-09T02:42:05.726970Z",
     "iopub.status.busy": "2022-02-09T02:42:05.726319Z",
     "iopub.status.idle": "2022-02-09T02:42:10.195010Z",
     "shell.execute_reply": "2022-02-09T02:42:10.194555Z"
    }
   },
   "outputs": [],
   "source": [
    "OnePiece.figure.plot(tr_, la)"
   ]
  },
  {
   "cell_type": "markdown",
   "id": "a2513ee0",
   "metadata": {},
   "source": [
    "## write"
   ]
  },
  {
   "cell_type": "code",
   "execution_count": null,
   "id": "3066f153",
   "metadata": {
    "execution": {
     "iopub.execute_input": "2022-02-09T02:42:10.196982Z",
     "iopub.status.busy": "2022-02-09T02:42:10.196390Z",
     "iopub.status.idle": "2022-02-09T02:42:11.080761Z",
     "shell.execute_reply": "2022-02-09T02:42:11.080307Z"
    }
   },
   "outputs": [],
   "source": [
    "pl = OnePiece.figure.plot(tr_)\n",
    "\n",
    "OnePiece.figure.write(joinpath(tempdir(), \"snow.png\"), pl, 400, 200, 1.0)"
   ]
  },
  {
   "cell_type": "code",
   "execution_count": null,
   "id": "70a3796d",
   "metadata": {
    "execution": {
     "iopub.execute_input": "2022-02-09T02:42:11.082725Z",
     "iopub.status.busy": "2022-02-09T02:42:11.082044Z",
     "iopub.status.idle": "2022-02-09T02:42:11.095721Z",
     "shell.execute_reply": "2022-02-09T02:42:11.095168Z"
    }
   },
   "outputs": [],
   "source": [
    "x1 = [-1, 0, 2]\n",
    "\n",
    "x2 = [-2, -1, 0, 2, 4]\n",
    "\n",
    ";"
   ]
  },
  {
   "cell_type": "code",
   "execution_count": null,
   "id": "1273971b",
   "metadata": {
    "execution": {
     "iopub.execute_input": "2022-02-09T02:42:11.097572Z",
     "iopub.status.busy": "2022-02-09T02:42:11.097002Z",
     "iopub.status.idle": "2022-02-09T02:42:11.150484Z",
     "shell.execute_reply": "2022-02-09T02:42:11.149977Z"
    }
   },
   "outputs": [],
   "source": [
    "y1 = x1 .* 10\n",
    "\n",
    "y2 = x2 .* 10\n",
    "\n",
    ";"
   ]
  },
  {
   "cell_type": "markdown",
   "id": "ced90427",
   "metadata": {},
   "source": [
    "## plot_x_y"
   ]
  },
  {
   "cell_type": "code",
   "execution_count": null,
   "id": "b6a32634",
   "metadata": {
    "execution": {
     "iopub.execute_input": "2022-02-09T02:42:11.152607Z",
     "iopub.status.busy": "2022-02-09T02:42:11.151995Z",
     "iopub.status.idle": "2022-02-09T02:42:12.002389Z",
     "shell.execute_reply": "2022-02-09T02:42:12.001743Z"
    }
   },
   "outputs": [],
   "source": [
    "OnePiece.figure.plot_x_y([y1, y2], [x1, x2]; la = la)"
   ]
  },
  {
   "cell_type": "code",
   "execution_count": null,
   "id": "7fc47cde",
   "metadata": {
    "execution": {
     "iopub.execute_input": "2022-02-09T02:42:12.004721Z",
     "iopub.status.busy": "2022-02-09T02:42:12.003884Z",
     "iopub.status.idle": "2022-02-09T02:42:12.061357Z",
     "shell.execute_reply": "2022-02-09T02:42:12.060890Z"
    }
   },
   "outputs": [],
   "source": [
    "OnePiece.figure.plot_x_y([y1, y2]; la = la)"
   ]
  },
  {
   "cell_type": "markdown",
   "id": "3ac78e65",
   "metadata": {},
   "source": [
    "## plot_bar"
   ]
  },
  {
   "cell_type": "code",
   "execution_count": null,
   "id": "9efd367f",
   "metadata": {
    "execution": {
     "iopub.execute_input": "2022-02-09T02:42:12.063293Z",
     "iopub.status.busy": "2022-02-09T02:42:12.062686Z",
     "iopub.status.idle": "2022-02-09T02:42:12.105086Z",
     "shell.execute_reply": "2022-02-09T02:42:12.103693Z"
    }
   },
   "outputs": [],
   "source": [
    "OnePiece.figure.plot_bar([y1, y2], [x1, x2]; la = la)"
   ]
  },
  {
   "cell_type": "code",
   "execution_count": null,
   "id": "1abb7102",
   "metadata": {
    "execution": {
     "iopub.execute_input": "2022-02-09T02:42:12.107010Z",
     "iopub.status.busy": "2022-02-09T02:42:12.106425Z",
     "iopub.status.idle": "2022-02-09T02:42:12.258988Z",
     "shell.execute_reply": "2022-02-09T02:42:12.258483Z"
    }
   },
   "outputs": [],
   "source": [
    "OnePiece.figure.plot_bar([y1, y2]; la = la)"
   ]
  },
  {
   "cell_type": "code",
   "execution_count": null,
   "id": "f7e73bd2",
   "metadata": {
    "execution": {
     "iopub.execute_input": "2022-02-09T02:42:12.260838Z",
     "iopub.status.busy": "2022-02-09T02:42:12.260268Z",
     "iopub.status.idle": "2022-02-09T02:42:13.278915Z",
     "shell.execute_reply": "2022-02-09T02:42:13.278473Z"
    }
   },
   "outputs": [],
   "source": [
    "fill(\"adf\", 10)"
   ]
  },
  {
   "cell_type": "markdown",
   "id": "1ac66c3b",
   "metadata": {},
   "source": [
    "## plot_heat_map"
   ]
  },
  {
   "cell_type": "code",
   "execution_count": null,
   "id": "9d37bab8",
   "metadata": {
    "execution": {
     "iopub.execute_input": "2022-02-09T02:42:13.280853Z",
     "iopub.status.busy": "2022-02-09T02:42:13.280263Z",
     "iopub.status.idle": "2022-02-09T02:42:13.758063Z",
     "shell.execute_reply": "2022-02-09T02:42:13.757615Z"
    }
   },
   "outputs": [],
   "source": [
    "ma = convert(Matrix, reshape(1:8, (2, 4)))"
   ]
  },
  {
   "cell_type": "code",
   "execution_count": null,
   "id": "36665ec2",
   "metadata": {
    "execution": {
     "iopub.execute_input": "2022-02-09T02:42:13.759968Z",
     "iopub.status.busy": "2022-02-09T02:42:13.759403Z",
     "iopub.status.idle": "2022-02-09T02:42:14.283556Z",
     "shell.execute_reply": "2022-02-09T02:42:14.283097Z"
    }
   },
   "outputs": [],
   "source": [
    "OnePiece.figure.plot_heat_map(\n",
    "    ma,\n",
    "    [string(\"Row\", id) for id in 1:size(ma, 1)],\n",
    "    [string(\"Column\", id) for id in 1:size(ma, 2)],\n",
    ")"
   ]
  },
  {
   "cell_type": "code",
   "execution_count": null,
   "id": "975108c0",
   "metadata": {
    "execution": {
     "iopub.execute_input": "2022-02-09T02:42:14.285406Z",
     "iopub.status.busy": "2022-02-09T02:42:14.284812Z",
     "iopub.status.idle": "2022-02-09T02:42:14.472049Z",
     "shell.execute_reply": "2022-02-09T02:42:14.470179Z"
    }
   },
   "outputs": [],
   "source": [
    "OnePiece.figure.plot_heat_map(ma)"
   ]
  }
 ],
 "metadata": {
  "@webio": {
   "lastCommId": null,
   "lastKernelId": null
  },
  "kernelspec": {
   "display_name": "Julia 1.7.1",
   "language": "julia",
   "name": "julia-1.7"
  },
  "language_info": {
   "file_extension": ".jl",
   "mimetype": "application/julia",
   "name": "julia",
   "version": "1.7.2"
  }
 },
 "nbformat": 4,
 "nbformat_minor": 5
}
