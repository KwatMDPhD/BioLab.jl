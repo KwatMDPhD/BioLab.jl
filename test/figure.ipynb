{
 "cells": [
  {
   "cell_type": "code",
   "execution_count": null,
   "id": "017464da",
   "metadata": {
    "execution": {
     "iopub.execute_input": "2022-02-14T16:49:12.208927Z",
     "iopub.status.busy": "2022-02-14T16:49:11.808079Z",
     "iopub.status.idle": "2022-02-14T16:49:12.425255Z",
     "shell.execute_reply": "2022-02-14T16:49:12.424749Z"
    }
   },
   "outputs": [],
   "source": [
    "TE = joinpath(tempdir(), \"OnePiece.test\")\n",
    "\n",
    "if isdir(TE)\n",
    "\n",
    "    rm(TE, recursive = true)\n",
    "\n",
    "    println(\"Removed \", TE, \".\")\n",
    "\n",
    "end\n",
    "\n",
    "mkdir(TE)\n",
    "\n",
    "println(\"Made \", TE, \".\")"
   ]
  },
  {
   "cell_type": "code",
   "execution_count": null,
   "id": "34e4701e",
   "metadata": {
    "execution": {
     "iopub.execute_input": "2022-02-14T16:49:12.427264Z",
     "iopub.status.busy": "2022-02-14T16:49:12.426690Z",
     "iopub.status.idle": "2022-02-14T16:49:17.145042Z",
     "shell.execute_reply": "2022-02-14T16:49:17.144532Z"
    }
   },
   "outputs": [],
   "source": [
    "using OnePiece"
   ]
  },
  {
   "cell_type": "markdown",
   "id": "b92a3da9",
   "metadata": {},
   "source": [
    "---"
   ]
  },
  {
   "cell_type": "markdown",
   "id": "6809059e",
   "metadata": {},
   "source": [
    "## plot"
   ]
  },
  {
   "cell_type": "code",
   "execution_count": null,
   "id": "2329cb27",
   "metadata": {
    "execution": {
     "iopub.execute_input": "2022-02-14T16:49:17.525341Z",
     "iopub.status.busy": "2022-02-14T16:49:17.146532Z",
     "iopub.status.idle": "2022-02-14T16:49:17.579710Z",
     "shell.execute_reply": "2022-02-14T16:49:17.579196Z"
    }
   },
   "outputs": [],
   "source": [
    "using PlotlyLight"
   ]
  },
  {
   "cell_type": "code",
   "execution_count": null,
   "id": "f55a7149",
   "metadata": {
    "execution": {
     "iopub.execute_input": "2022-02-14T16:49:17.581628Z",
     "iopub.status.busy": "2022-02-14T16:49:17.581045Z",
     "iopub.status.idle": "2022-02-14T16:49:19.091168Z",
     "shell.execute_reply": "2022-02-14T16:49:19.090707Z"
    }
   },
   "outputs": [],
   "source": [
    "tr_ = [Dict()]\n",
    "\n",
    "display(OnePiece.figure.plot(tr_))"
   ]
  },
  {
   "cell_type": "code",
   "execution_count": null,
   "id": "ceb911ba",
   "metadata": {
    "execution": {
     "iopub.execute_input": "2022-02-14T16:49:19.093093Z",
     "iopub.status.busy": "2022-02-14T16:49:19.092509Z",
     "iopub.status.idle": "2022-02-14T16:49:19.196946Z",
     "shell.execute_reply": "2022-02-14T16:49:19.196410Z"
    }
   },
   "outputs": [],
   "source": [
    "la = Config(\n",
    "    template = \"plotly_dark\",\n",
    "    title = \"Title\",\n",
    "    yaxis = Config(title = \"Y-Axis Title\"),\n",
    "    xaxis = Config(title = \"X-Axis Title\"),\n",
    ")\n",
    "\n",
    "display(OnePiece.figure.plot(tr_, la))"
   ]
  },
  {
   "cell_type": "code",
   "execution_count": null,
   "id": "303451fd",
   "metadata": {
    "execution": {
     "iopub.execute_input": "2022-02-14T16:49:19.199074Z",
     "iopub.status.busy": "2022-02-14T16:49:19.198495Z",
     "iopub.status.idle": "2022-02-14T16:49:19.235124Z",
     "shell.execute_reply": "2022-02-14T16:49:19.234550Z"
    }
   },
   "outputs": [],
   "source": [
    "co = Config(displaylog = true)\n",
    "\n",
    "display(OnePiece.figure.plot(tr_, la, co))"
   ]
  },
  {
   "cell_type": "code",
   "execution_count": null,
   "id": "29d9de98",
   "metadata": {
    "execution": {
     "iopub.execute_input": "2022-02-14T16:49:19.237648Z",
     "iopub.status.busy": "2022-02-14T16:49:19.236975Z",
     "iopub.status.idle": "2022-02-14T16:49:19.279428Z",
     "shell.execute_reply": "2022-02-14T16:49:19.278987Z"
    }
   },
   "outputs": [],
   "source": [
    "display(OnePiece.figure.plot(tr_, ou = joinpath(TE, \"output.html\")))"
   ]
  },
  {
   "cell_type": "markdown",
   "id": "a2513ee0",
   "metadata": {},
   "source": [
    "## write"
   ]
  },
  {
   "cell_type": "code",
   "execution_count": null,
   "id": "3066f153",
   "metadata": {
    "execution": {
     "iopub.execute_input": "2022-02-14T16:49:19.282202Z",
     "iopub.status.busy": "2022-02-14T16:49:19.281550Z",
     "iopub.status.idle": "2022-02-14T16:49:19.284145Z",
     "shell.execute_reply": "2022-02-14T16:49:19.283552Z"
    }
   },
   "outputs": [],
   "source": [
    "pl = OnePiece.figure.plot(tr_)\n",
    "\n",
    "OnePiece.figure.write(joinpath(tempdir(), \"snow.png\"), pl, 400, 200, 1.0)"
   ]
  },
  {
   "cell_type": "markdown",
   "id": "ced90427",
   "metadata": {},
   "source": [
    "## plot_x_y"
   ]
  },
  {
   "cell_type": "code",
   "execution_count": null,
   "id": "8d7065b0",
   "metadata": {
    "execution": {
     "iopub.execute_input": "2022-02-14T16:49:19.286683Z",
     "iopub.status.busy": "2022-02-14T16:49:19.285809Z",
     "iopub.status.idle": "2022-02-14T16:49:19.353372Z",
     "shell.execute_reply": "2022-02-14T16:49:19.352853Z"
    }
   },
   "outputs": [],
   "source": [
    "x1 = [-1, 0, 2]\n",
    "\n",
    "x2 = [3, 4]\n",
    "\n",
    "x_ = [x1, x2]\n",
    "\n",
    "y1 = x1 .* 10\n",
    "\n",
    "y2 = x2 .* 20\n",
    "\n",
    "y_ = [y1, y2]\n",
    "\n",
    ";"
   ]
  },
  {
   "cell_type": "code",
   "execution_count": null,
   "id": "a8798a0a",
   "metadata": {
    "execution": {
     "iopub.execute_input": "2022-02-14T16:49:19.355723Z",
     "iopub.status.busy": "2022-02-14T16:49:19.354861Z",
     "iopub.status.idle": "2022-02-14T16:49:19.927878Z",
     "shell.execute_reply": "2022-02-14T16:49:19.927414Z"
    }
   },
   "outputs": [],
   "source": [
    "display(OnePiece.figure.plot_x_y(y_))"
   ]
  },
  {
   "cell_type": "code",
   "execution_count": null,
   "id": "268b8935",
   "metadata": {
    "execution": {
     "iopub.execute_input": "2022-02-14T16:49:19.930085Z",
     "iopub.status.busy": "2022-02-14T16:49:19.929377Z",
     "iopub.status.idle": "2022-02-14T16:49:19.970687Z",
     "shell.execute_reply": "2022-02-14T16:49:19.970214Z"
    }
   },
   "outputs": [],
   "source": [
    "display(OnePiece.figure.plot_x_y(y_; la = la))"
   ]
  },
  {
   "cell_type": "code",
   "execution_count": null,
   "id": "aaf9a733",
   "metadata": {
    "execution": {
     "iopub.execute_input": "2022-02-14T16:49:19.972766Z",
     "iopub.status.busy": "2022-02-14T16:49:19.972102Z",
     "iopub.status.idle": "2022-02-14T16:49:20.043888Z",
     "shell.execute_reply": "2022-02-14T16:49:20.043462Z"
    }
   },
   "outputs": [],
   "source": [
    "display(OnePiece.figure.plot_x_y(y_, x_; la = la, ou = joinpath(TE, \"x_y.html\")))"
   ]
  },
  {
   "cell_type": "markdown",
   "id": "3ac78e65",
   "metadata": {},
   "source": [
    "## plot_bar"
   ]
  },
  {
   "cell_type": "code",
   "execution_count": null,
   "id": "b248787f",
   "metadata": {
    "execution": {
     "iopub.execute_input": "2022-02-14T16:49:20.046186Z",
     "iopub.status.busy": "2022-02-14T16:49:20.045461Z",
     "iopub.status.idle": "2022-02-14T16:49:21.307759Z",
     "shell.execute_reply": "2022-02-14T16:49:21.307240Z"
    }
   },
   "outputs": [],
   "source": [
    "y1 = [-1, 2, 5]\n",
    "\n",
    "y2 = reverse(y1)\n",
    "\n",
    "y_ = [y1, y2]"
   ]
  },
  {
   "cell_type": "code",
   "execution_count": null,
   "id": "b4bc6e6b",
   "metadata": {
    "execution": {
     "iopub.execute_input": "2022-02-14T16:49:21.309729Z",
     "iopub.status.busy": "2022-02-14T16:49:21.309082Z",
     "iopub.status.idle": "2022-02-14T16:49:21.361591Z",
     "shell.execute_reply": "2022-02-14T16:49:21.361046Z"
    }
   },
   "outputs": [],
   "source": [
    "display(OnePiece.figure.plot_bar(y_))"
   ]
  },
  {
   "cell_type": "code",
   "execution_count": null,
   "id": "79736494",
   "metadata": {
    "execution": {
     "iopub.execute_input": "2022-02-14T16:49:21.363908Z",
     "iopub.status.busy": "2022-02-14T16:49:21.363324Z",
     "iopub.status.idle": "2022-02-14T16:49:21.390888Z",
     "shell.execute_reply": "2022-02-14T16:49:21.390236Z"
    }
   },
   "outputs": [],
   "source": [
    "display(OnePiece.figure.plot_bar(y_; la = la))"
   ]
  },
  {
   "cell_type": "code",
   "execution_count": null,
   "id": "7a950a15",
   "metadata": {
    "execution": {
     "iopub.execute_input": "2022-02-14T16:49:21.393243Z",
     "iopub.status.busy": "2022-02-14T16:49:21.392602Z",
     "iopub.status.idle": "2022-02-14T16:49:21.509244Z",
     "shell.execute_reply": "2022-02-14T16:49:21.508722Z"
    }
   },
   "outputs": [],
   "source": [
    "name1 = \"Orange\"\n",
    "\n",
    "name2 = \"Blue\"\n",
    "\n",
    "name_ = [name1, name2]\n",
    "\n",
    "x1 = [-2, -1, 0]\n",
    "\n",
    "x2 = .-reverse(x1)\n",
    "\n",
    "x_ = [x1, x2]\n",
    "\n",
    "display(OnePiece.figure.plot_bar(y_, x_; name_ = name_, la = la))"
   ]
  },
  {
   "cell_type": "code",
   "execution_count": null,
   "id": "4febf9ea",
   "metadata": {
    "execution": {
     "iopub.execute_input": "2022-02-14T16:49:21.511674Z",
     "iopub.status.busy": "2022-02-14T16:49:21.510931Z",
     "iopub.status.idle": "2022-02-14T16:49:21.535859Z",
     "shell.execute_reply": "2022-02-14T16:49:21.535183Z"
    }
   },
   "outputs": [],
   "source": [
    "push!(name_, \"Name 3\")\n",
    "\n",
    "push!(y_, [9])\n",
    "\n",
    "push!(x_, [0])\n",
    "\n",
    "display(OnePiece.figure.plot_bar(y_, x_; name_ = name_, la = la))"
   ]
  },
  {
   "cell_type": "code",
   "execution_count": null,
   "id": "963fdc7d",
   "metadata": {
    "execution": {
     "iopub.execute_input": "2022-02-14T16:49:21.539383Z",
     "iopub.status.busy": "2022-02-14T16:49:21.538323Z",
     "iopub.status.idle": "2022-02-14T16:49:21.728929Z",
     "shell.execute_reply": "2022-02-14T16:49:21.728433Z"
    }
   },
   "outputs": [],
   "source": [
    "display(\n",
    "    OnePiece.figure.plot_bar(\n",
    "        y_,\n",
    "        x_;\n",
    "        name_ = name_,\n",
    "        la = Dict(\"barmode\" => \"stack\"),\n",
    "        ou = joinpath(TE, \"bar.html\"),\n",
    "    ),\n",
    ")"
   ]
  },
  {
   "cell_type": "markdown",
   "id": "1ac66c3b",
   "metadata": {},
   "source": [
    "## plot_heat_map"
   ]
  },
  {
   "cell_type": "code",
   "execution_count": null,
   "id": "9d37bab8",
   "metadata": {
    "execution": {
     "iopub.execute_input": "2022-02-14T16:49:21.731347Z",
     "iopub.status.busy": "2022-02-14T16:49:21.730688Z",
     "iopub.status.idle": "2022-02-14T16:49:22.189834Z",
     "shell.execute_reply": "2022-02-14T16:49:22.189333Z"
    }
   },
   "outputs": [],
   "source": [
    "ma = convert(Matrix, reshape(1:8, (2, 4)))"
   ]
  },
  {
   "cell_type": "code",
   "execution_count": null,
   "id": "36665ec2",
   "metadata": {
    "execution": {
     "iopub.execute_input": "2022-02-14T16:49:22.191693Z",
     "iopub.status.busy": "2022-02-14T16:49:22.191126Z",
     "iopub.status.idle": "2022-02-14T16:49:22.542243Z",
     "shell.execute_reply": "2022-02-14T16:49:22.541785Z"
    }
   },
   "outputs": [],
   "source": [
    "display(\n",
    "    OnePiece.figure.plot_heat_map(\n",
    "        ma,\n",
    "        [string(\"Row\", id) for id in 1:size(ma, 1)],\n",
    "        [string(\"Column\", id) for id in 1:size(ma, 2)],\n",
    "    ),\n",
    ")"
   ]
  },
  {
   "cell_type": "code",
   "execution_count": null,
   "id": "975108c0",
   "metadata": {
    "execution": {
     "iopub.execute_input": "2022-02-14T16:49:22.544275Z",
     "iopub.status.busy": "2022-02-14T16:49:22.543617Z",
     "iopub.status.idle": "2022-02-14T16:49:22.636565Z",
     "shell.execute_reply": "2022-02-14T16:49:22.636082Z"
    }
   },
   "outputs": [],
   "source": [
    "display(OnePiece.figure.plot_heat_map(ma, ou = joinpath(TE, \"heat_map.html\")))"
   ]
  },
  {
   "cell_type": "markdown",
   "id": "3f396855",
   "metadata": {},
   "source": [
    "---"
   ]
  },
  {
   "cell_type": "code",
   "execution_count": null,
   "id": "b4af2023",
   "metadata": {
    "execution": {
     "iopub.execute_input": "2022-02-14T16:49:22.638949Z",
     "iopub.status.busy": "2022-02-14T16:49:22.638148Z",
     "iopub.status.idle": "2022-02-14T16:49:22.642652Z",
     "shell.execute_reply": "2022-02-14T16:49:22.642206Z"
    }
   },
   "outputs": [],
   "source": [
    "if isdir(TE)\n",
    "\n",
    "    rm(TE, recursive = true)\n",
    "\n",
    "    println(\"Removed \", TE, \".\")\n",
    "\n",
    "end"
   ]
  }
 ],
 "metadata": {
  "kernelspec": {
   "display_name": "Julia 1.7.2",
   "language": "julia",
   "name": "julia-1.7"
  },
  "language_info": {
   "file_extension": ".jl",
   "mimetype": "application/julia",
   "name": "julia",
   "version": "1.7.2"
  }
 },
 "nbformat": 4,
 "nbformat_minor": 5
}
