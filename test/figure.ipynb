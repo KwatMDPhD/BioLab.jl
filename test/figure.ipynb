{
 "cells": [
  {
   "cell_type": "code",
   "execution_count": null,
   "id": "017464da",
   "metadata": {
    "execution": {
     "iopub.execute_input": "2022-02-13T23:13:26.172473Z",
     "iopub.status.busy": "2022-02-13T23:13:25.793836Z",
     "iopub.status.idle": "2022-02-13T23:13:26.388204Z",
     "shell.execute_reply": "2022-02-13T23:13:26.387611Z"
    }
   },
   "outputs": [],
   "source": [
    "TE = joinpath(tempdir(), \"OnePiece.test\")\n",
    "\n",
    "if isdir(TE)\n",
    "\n",
    "    rm(TE, recursive = true)\n",
    "\n",
    "    println(\"Removed \", TE, \".\")\n",
    "\n",
    "end\n",
    "\n",
    "mkdir(TE)\n",
    "\n",
    "println(\"Made \", TE, \".\")"
   ]
  },
  {
   "cell_type": "code",
   "execution_count": null,
   "id": "34e4701e",
   "metadata": {
    "execution": {
     "iopub.execute_input": "2022-02-13T23:13:26.390076Z",
     "iopub.status.busy": "2022-02-13T23:13:26.389580Z",
     "iopub.status.idle": "2022-02-13T23:13:30.787335Z",
     "shell.execute_reply": "2022-02-13T23:13:30.786462Z"
    }
   },
   "outputs": [],
   "source": [
    "using OnePiece"
   ]
  },
  {
   "cell_type": "markdown",
   "id": "b92a3da9",
   "metadata": {},
   "source": [
    "---"
   ]
  },
  {
   "cell_type": "markdown",
   "id": "6809059e",
   "metadata": {},
   "source": [
    "## plot"
   ]
  },
  {
   "cell_type": "code",
   "execution_count": null,
   "id": "2329cb27",
   "metadata": {
    "execution": {
     "iopub.execute_input": "2022-02-13T23:13:31.115199Z",
     "iopub.status.busy": "2022-02-13T23:13:30.788878Z",
     "iopub.status.idle": "2022-02-13T23:13:31.162015Z",
     "shell.execute_reply": "2022-02-13T23:13:31.161568Z"
    }
   },
   "outputs": [],
   "source": [
    "using PlotlyLight"
   ]
  },
  {
   "cell_type": "code",
   "execution_count": null,
   "id": "f55a7149",
   "metadata": {
    "execution": {
     "iopub.execute_input": "2022-02-13T23:13:31.163846Z",
     "iopub.status.busy": "2022-02-13T23:13:31.163350Z",
     "iopub.status.idle": "2022-02-13T23:13:32.676150Z",
     "shell.execute_reply": "2022-02-13T23:13:32.675758Z"
    }
   },
   "outputs": [],
   "source": [
    "tr_ = [Dict()]\n",
    "\n",
    "display(OnePiece.figure.plot(tr_))"
   ]
  },
  {
   "cell_type": "code",
   "execution_count": null,
   "id": "ceb911ba",
   "metadata": {
    "execution": {
     "iopub.execute_input": "2022-02-13T23:13:32.678521Z",
     "iopub.status.busy": "2022-02-13T23:13:32.677764Z",
     "iopub.status.idle": "2022-02-13T23:13:32.788694Z",
     "shell.execute_reply": "2022-02-13T23:13:32.788095Z"
    }
   },
   "outputs": [],
   "source": [
    "la = Config(\n",
    "    template = \"plotly_dark\",\n",
    "    title = \"Title\",\n",
    "    yaxis = Config(title = \"Y-Axis Title\"),\n",
    "    xaxis = Config(title = \"X-Axis Title\"),\n",
    ")\n",
    "\n",
    "display(OnePiece.figure.plot(tr_, la))"
   ]
  },
  {
   "cell_type": "code",
   "execution_count": null,
   "id": "303451fd",
   "metadata": {
    "execution": {
     "iopub.execute_input": "2022-02-13T23:13:32.791063Z",
     "iopub.status.busy": "2022-02-13T23:13:32.790453Z",
     "iopub.status.idle": "2022-02-13T23:13:32.829742Z",
     "shell.execute_reply": "2022-02-13T23:13:32.830226Z"
    }
   },
   "outputs": [],
   "source": [
    "co = Config(displaylog = true)\n",
    "\n",
    "display(OnePiece.figure.plot(tr_, la, co))"
   ]
  },
  {
   "cell_type": "code",
   "execution_count": null,
   "id": "29d9de98",
   "metadata": {
    "execution": {
     "iopub.execute_input": "2022-02-13T23:13:32.832582Z",
     "iopub.status.busy": "2022-02-13T23:13:32.831990Z",
     "iopub.status.idle": "2022-02-13T23:13:32.882941Z",
     "shell.execute_reply": "2022-02-13T23:13:32.883415Z"
    }
   },
   "outputs": [],
   "source": [
    "display(OnePiece.figure.plot(tr_, ou = joinpath(TE, \"output.html\")))"
   ]
  },
  {
   "cell_type": "markdown",
   "id": "a2513ee0",
   "metadata": {},
   "source": [
    "## write"
   ]
  },
  {
   "cell_type": "code",
   "execution_count": null,
   "id": "3066f153",
   "metadata": {
    "execution": {
     "iopub.execute_input": "2022-02-13T23:13:32.886344Z",
     "iopub.status.busy": "2022-02-13T23:13:32.885632Z",
     "iopub.status.idle": "2022-02-13T23:13:32.887735Z",
     "shell.execute_reply": "2022-02-13T23:13:32.887207Z"
    }
   },
   "outputs": [],
   "source": [
    "pl = OnePiece.figure.plot(tr_)\n",
    "\n",
    "OnePiece.figure.write(joinpath(tempdir(), \"snow.png\"), pl, 400, 200, 1.0)"
   ]
  },
  {
   "cell_type": "markdown",
   "id": "ced90427",
   "metadata": {},
   "source": [
    "## plot_x_y"
   ]
  },
  {
   "cell_type": "code",
   "execution_count": null,
   "id": "8d7065b0",
   "metadata": {
    "execution": {
     "iopub.execute_input": "2022-02-13T23:13:32.891056Z",
     "iopub.status.busy": "2022-02-13T23:13:32.890115Z",
     "iopub.status.idle": "2022-02-13T23:13:32.961167Z",
     "shell.execute_reply": "2022-02-13T23:13:32.960551Z"
    }
   },
   "outputs": [],
   "source": [
    "x1 = [-1, 0, 2]\n",
    "\n",
    "x2 = [3, 4]\n",
    "\n",
    "x_ = [x1, x2]\n",
    "\n",
    "y1 = x1 .* 10\n",
    "\n",
    "y2 = x2 .* 20\n",
    "\n",
    "y_ = [y1, y2]\n",
    "\n",
    ";"
   ]
  },
  {
   "cell_type": "code",
   "execution_count": null,
   "id": "a8798a0a",
   "metadata": {
    "execution": {
     "iopub.execute_input": "2022-02-13T23:13:32.963785Z",
     "iopub.status.busy": "2022-02-13T23:13:32.962942Z",
     "iopub.status.idle": "2022-02-13T23:13:33.557461Z",
     "shell.execute_reply": "2022-02-13T23:13:33.557077Z"
    }
   },
   "outputs": [],
   "source": [
    "display(OnePiece.figure.plot_x_y(y_))"
   ]
  },
  {
   "cell_type": "code",
   "execution_count": null,
   "id": "268b8935",
   "metadata": {
    "execution": {
     "iopub.execute_input": "2022-02-13T23:13:33.559334Z",
     "iopub.status.busy": "2022-02-13T23:13:33.558718Z",
     "iopub.status.idle": "2022-02-13T23:13:33.602529Z",
     "shell.execute_reply": "2022-02-13T23:13:33.602915Z"
    }
   },
   "outputs": [],
   "source": [
    "display(OnePiece.figure.plot_x_y(y_; la = la))"
   ]
  },
  {
   "cell_type": "code",
   "execution_count": null,
   "id": "aaf9a733",
   "metadata": {
    "execution": {
     "iopub.execute_input": "2022-02-13T23:13:33.604892Z",
     "iopub.status.busy": "2022-02-13T23:13:33.604296Z",
     "iopub.status.idle": "2022-02-13T23:13:33.684036Z",
     "shell.execute_reply": "2022-02-13T23:13:33.683589Z"
    }
   },
   "outputs": [],
   "source": [
    "display(OnePiece.figure.plot_x_y(y_, x_; la = la, ou = joinpath(TE, \"x_y.html\")))"
   ]
  },
  {
   "cell_type": "markdown",
   "id": "3ac78e65",
   "metadata": {},
   "source": [
    "## plot_bar"
   ]
  },
  {
   "cell_type": "code",
   "execution_count": null,
   "id": "b248787f",
   "metadata": {
    "execution": {
     "iopub.execute_input": "2022-02-13T23:13:33.686165Z",
     "iopub.status.busy": "2022-02-13T23:13:33.685562Z",
     "iopub.status.idle": "2022-02-13T23:13:34.806594Z",
     "shell.execute_reply": "2022-02-13T23:13:34.806122Z"
    }
   },
   "outputs": [],
   "source": [
    "y1 = [-1, 2, 5]\n",
    "\n",
    "y2 = reverse(y1)\n",
    "\n",
    "y_ = [y1, y2]"
   ]
  },
  {
   "cell_type": "code",
   "execution_count": null,
   "id": "b4bc6e6b",
   "metadata": {
    "execution": {
     "iopub.execute_input": "2022-02-13T23:13:34.808499Z",
     "iopub.status.busy": "2022-02-13T23:13:34.808002Z",
     "iopub.status.idle": "2022-02-13T23:13:34.857375Z",
     "shell.execute_reply": "2022-02-13T23:13:34.857020Z"
    }
   },
   "outputs": [],
   "source": [
    "display(OnePiece.figure.plot_bar(y_))"
   ]
  },
  {
   "cell_type": "code",
   "execution_count": null,
   "id": "79736494",
   "metadata": {
    "execution": {
     "iopub.execute_input": "2022-02-13T23:13:34.860440Z",
     "iopub.status.busy": "2022-02-13T23:13:34.859855Z",
     "iopub.status.idle": "2022-02-13T23:13:34.891930Z",
     "shell.execute_reply": "2022-02-13T23:13:34.892343Z"
    }
   },
   "outputs": [],
   "source": [
    "display(OnePiece.figure.plot_bar(y_; la = la))"
   ]
  },
  {
   "cell_type": "code",
   "execution_count": null,
   "id": "7a950a15",
   "metadata": {
    "execution": {
     "iopub.execute_input": "2022-02-13T23:13:34.894817Z",
     "iopub.status.busy": "2022-02-13T23:13:34.894221Z",
     "iopub.status.idle": "2022-02-13T23:13:35.015143Z",
     "shell.execute_reply": "2022-02-13T23:13:35.014709Z"
    }
   },
   "outputs": [],
   "source": [
    "name1 = \"Orange\"\n",
    "\n",
    "name2 = \"Blue\"\n",
    "\n",
    "name_ = [name1, name2]\n",
    "\n",
    "x1 = [-2, -1, 0]\n",
    "\n",
    "x2 = .-reverse(x1)\n",
    "\n",
    "x_ = [x1, x2]\n",
    "\n",
    "display(OnePiece.figure.plot_bar(y_, x_; name_ = name_, la = la))"
   ]
  },
  {
   "cell_type": "code",
   "execution_count": null,
   "id": "4febf9ea",
   "metadata": {
    "execution": {
     "iopub.execute_input": "2022-02-13T23:13:35.017517Z",
     "iopub.status.busy": "2022-02-13T23:13:35.016543Z",
     "iopub.status.idle": "2022-02-13T23:13:35.045722Z",
     "shell.execute_reply": "2022-02-13T23:13:35.045283Z"
    }
   },
   "outputs": [],
   "source": [
    "push!(name_, \"Name 3\")\n",
    "\n",
    "push!(y_, [9])\n",
    "\n",
    "push!(x_, [0])\n",
    "\n",
    "display(OnePiece.figure.plot_bar(y_, x_; name_ = name_, la = la))"
   ]
  },
  {
   "cell_type": "code",
   "execution_count": null,
   "id": "963fdc7d",
   "metadata": {
    "execution": {
     "iopub.execute_input": "2022-02-13T23:13:35.048177Z",
     "iopub.status.busy": "2022-02-13T23:13:35.047577Z",
     "iopub.status.idle": "2022-02-13T23:13:35.239829Z",
     "shell.execute_reply": "2022-02-13T23:13:35.240250Z"
    }
   },
   "outputs": [],
   "source": [
    "display(\n",
    "    OnePiece.figure.plot_bar(\n",
    "        y_,\n",
    "        x_;\n",
    "        name_ = name_,\n",
    "        la = Dict(\"barmode\" => \"stack\"),\n",
    "        ou = joinpath(TE, \"bar.html\"),\n",
    "    ),\n",
    ")"
   ]
  },
  {
   "cell_type": "markdown",
   "id": "1ac66c3b",
   "metadata": {},
   "source": [
    "## plot_heat_map"
   ]
  },
  {
   "cell_type": "code",
   "execution_count": null,
   "id": "9d37bab8",
   "metadata": {
    "execution": {
     "iopub.execute_input": "2022-02-13T23:13:35.242429Z",
     "iopub.status.busy": "2022-02-13T23:13:35.241782Z",
     "iopub.status.idle": "2022-02-13T23:13:35.668803Z",
     "shell.execute_reply": "2022-02-13T23:13:35.668369Z"
    }
   },
   "outputs": [],
   "source": [
    "ma = convert(Matrix, reshape(1:8, (2, 4)))"
   ]
  },
  {
   "cell_type": "code",
   "execution_count": null,
   "id": "36665ec2",
   "metadata": {
    "execution": {
     "iopub.execute_input": "2022-02-13T23:13:35.670582Z",
     "iopub.status.busy": "2022-02-13T23:13:35.670095Z",
     "iopub.status.idle": "2022-02-13T23:13:35.971098Z",
     "shell.execute_reply": "2022-02-13T23:13:35.970607Z"
    }
   },
   "outputs": [],
   "source": [
    "display(\n",
    "    OnePiece.figure.plot_heat_map(\n",
    "        ma,\n",
    "        [string(\"Row\", id) for id in 1:size(ma, 1)],\n",
    "        [string(\"Column\", id) for id in 1:size(ma, 2)],\n",
    "    ),\n",
    ")"
   ]
  },
  {
   "cell_type": "code",
   "execution_count": null,
   "id": "975108c0",
   "metadata": {
    "execution": {
     "iopub.execute_input": "2022-02-13T23:13:35.973144Z",
     "iopub.status.busy": "2022-02-13T23:13:35.972518Z",
     "iopub.status.idle": "2022-02-13T23:13:36.064215Z",
     "shell.execute_reply": "2022-02-13T23:13:36.063701Z"
    }
   },
   "outputs": [],
   "source": [
    "display(OnePiece.figure.plot_heat_map(ma, ou = joinpath(TE, \"heat_map.html\")))"
   ]
  },
  {
   "cell_type": "markdown",
   "id": "3f396855",
   "metadata": {},
   "source": [
    "---"
   ]
  },
  {
   "cell_type": "code",
   "execution_count": null,
   "id": "b4af2023",
   "metadata": {
    "execution": {
     "iopub.execute_input": "2022-02-13T23:13:36.066708Z",
     "iopub.status.busy": "2022-02-13T23:13:36.066057Z",
     "iopub.status.idle": "2022-02-13T23:13:36.069701Z",
     "shell.execute_reply": "2022-02-13T23:13:36.069281Z"
    }
   },
   "outputs": [],
   "source": [
    "if isdir(TE)\n",
    "\n",
    "    rm(TE, recursive = true)\n",
    "\n",
    "    println(\"Removed \", TE, \".\")\n",
    "\n",
    "end"
   ]
  }
 ],
 "metadata": {
  "kernelspec": {
   "display_name": "Julia 1.7.2",
   "language": "julia",
   "name": "julia-1.7"
  },
  "language_info": {
   "file_extension": ".jl",
   "mimetype": "application/julia",
   "name": "julia",
   "version": "1.7.2"
  }
 },
 "nbformat": 4,
 "nbformat_minor": 5
}
