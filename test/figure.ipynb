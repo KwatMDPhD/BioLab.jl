{
 "cells": [
  {
   "cell_type": "code",
   "execution_count": null,
   "id": "017464da",
   "metadata": {
    "execution": {
     "iopub.execute_input": "2022-02-13T23:32:22.304697Z",
     "iopub.status.busy": "2022-02-13T23:32:21.894172Z",
     "iopub.status.idle": "2022-02-13T23:32:22.531098Z",
     "shell.execute_reply": "2022-02-13T23:32:22.530561Z"
    }
   },
   "outputs": [],
   "source": [
    "TE = joinpath(tempdir(), \"OnePiece.test\")\n",
    "\n",
    "if isdir(TE)\n",
    "\n",
    "    rm(TE, recursive = true)\n",
    "\n",
    "    println(\"Removed \", TE, \".\")\n",
    "\n",
    "end\n",
    "\n",
    "mkdir(TE)\n",
    "\n",
    "println(\"Made \", TE, \".\")"
   ]
  },
  {
   "cell_type": "code",
   "execution_count": null,
   "id": "34e4701e",
   "metadata": {
    "execution": {
     "iopub.execute_input": "2022-02-13T23:32:22.533693Z",
     "iopub.status.busy": "2022-02-13T23:32:22.532903Z",
     "iopub.status.idle": "2022-02-13T23:32:26.865298Z",
     "shell.execute_reply": "2022-02-13T23:32:26.864770Z"
    }
   },
   "outputs": [],
   "source": [
    "using OnePiece"
   ]
  },
  {
   "cell_type": "markdown",
   "id": "b92a3da9",
   "metadata": {},
   "source": [
    "---"
   ]
  },
  {
   "cell_type": "markdown",
   "id": "6809059e",
   "metadata": {},
   "source": [
    "## plot"
   ]
  },
  {
   "cell_type": "code",
   "execution_count": null,
   "id": "2329cb27",
   "metadata": {
    "execution": {
     "iopub.execute_input": "2022-02-13T23:32:27.196847Z",
     "iopub.status.busy": "2022-02-13T23:32:26.866777Z",
     "iopub.status.idle": "2022-02-13T23:32:27.244455Z",
     "shell.execute_reply": "2022-02-13T23:32:27.243999Z"
    }
   },
   "outputs": [],
   "source": [
    "using PlotlyLight"
   ]
  },
  {
   "cell_type": "code",
   "execution_count": null,
   "id": "f55a7149",
   "metadata": {
    "execution": {
     "iopub.execute_input": "2022-02-13T23:32:27.246513Z",
     "iopub.status.busy": "2022-02-13T23:32:27.246004Z",
     "iopub.status.idle": "2022-02-13T23:32:28.709812Z",
     "shell.execute_reply": "2022-02-13T23:32:28.709072Z"
    }
   },
   "outputs": [],
   "source": [
    "tr_ = [Dict()]\n",
    "\n",
    "display(OnePiece.figure.plot(tr_))"
   ]
  },
  {
   "cell_type": "code",
   "execution_count": null,
   "id": "ceb911ba",
   "metadata": {
    "execution": {
     "iopub.execute_input": "2022-02-13T23:32:28.712058Z",
     "iopub.status.busy": "2022-02-13T23:32:28.711336Z",
     "iopub.status.idle": "2022-02-13T23:32:28.825754Z",
     "shell.execute_reply": "2022-02-13T23:32:28.825283Z"
    }
   },
   "outputs": [],
   "source": [
    "la = Config(\n",
    "    template = \"plotly_dark\",\n",
    "    title = \"Title\",\n",
    "    yaxis = Config(title = \"Y-Axis Title\"),\n",
    "    xaxis = Config(title = \"X-Axis Title\"),\n",
    ")\n",
    "\n",
    "display(OnePiece.figure.plot(tr_, la))"
   ]
  },
  {
   "cell_type": "code",
   "execution_count": null,
   "id": "303451fd",
   "metadata": {
    "execution": {
     "iopub.execute_input": "2022-02-13T23:32:28.827895Z",
     "iopub.status.busy": "2022-02-13T23:32:28.827142Z",
     "iopub.status.idle": "2022-02-13T23:32:28.868992Z",
     "shell.execute_reply": "2022-02-13T23:32:28.868518Z"
    }
   },
   "outputs": [],
   "source": [
    "co = Config(displaylog = true)\n",
    "\n",
    "display(OnePiece.figure.plot(tr_, la, co))"
   ]
  },
  {
   "cell_type": "code",
   "execution_count": null,
   "id": "29d9de98",
   "metadata": {
    "execution": {
     "iopub.execute_input": "2022-02-13T23:32:28.871124Z",
     "iopub.status.busy": "2022-02-13T23:32:28.870519Z",
     "iopub.status.idle": "2022-02-13T23:32:28.920509Z",
     "shell.execute_reply": "2022-02-13T23:32:28.920948Z"
    }
   },
   "outputs": [],
   "source": [
    "display(OnePiece.figure.plot(tr_, ou = joinpath(TE, \"output.html\")))"
   ]
  },
  {
   "cell_type": "markdown",
   "id": "a2513ee0",
   "metadata": {},
   "source": [
    "## write"
   ]
  },
  {
   "cell_type": "code",
   "execution_count": null,
   "id": "3066f153",
   "metadata": {
    "execution": {
     "iopub.execute_input": "2022-02-13T23:32:28.923617Z",
     "iopub.status.busy": "2022-02-13T23:32:28.922901Z",
     "iopub.status.idle": "2022-02-13T23:32:28.925435Z",
     "shell.execute_reply": "2022-02-13T23:32:28.924835Z"
    }
   },
   "outputs": [],
   "source": [
    "pl = OnePiece.figure.plot(tr_)\n",
    "\n",
    "OnePiece.figure.write(joinpath(tempdir(), \"snow.png\"), pl, 400, 200, 1.0)"
   ]
  },
  {
   "cell_type": "markdown",
   "id": "ced90427",
   "metadata": {},
   "source": [
    "## plot_x_y"
   ]
  },
  {
   "cell_type": "code",
   "execution_count": null,
   "id": "8d7065b0",
   "metadata": {
    "execution": {
     "iopub.execute_input": "2022-02-13T23:32:28.928430Z",
     "iopub.status.busy": "2022-02-13T23:32:28.927339Z",
     "iopub.status.idle": "2022-02-13T23:32:29.004473Z",
     "shell.execute_reply": "2022-02-13T23:32:29.003942Z"
    }
   },
   "outputs": [],
   "source": [
    "x1 = [-1, 0, 2]\n",
    "\n",
    "x2 = [3, 4]\n",
    "\n",
    "x_ = [x1, x2]\n",
    "\n",
    "y1 = x1 .* 10\n",
    "\n",
    "y2 = x2 .* 20\n",
    "\n",
    "y_ = [y1, y2]\n",
    "\n",
    ";"
   ]
  },
  {
   "cell_type": "code",
   "execution_count": null,
   "id": "a8798a0a",
   "metadata": {
    "execution": {
     "iopub.execute_input": "2022-02-13T23:32:29.006484Z",
     "iopub.status.busy": "2022-02-13T23:32:29.005874Z",
     "iopub.status.idle": "2022-02-13T23:32:29.648356Z",
     "shell.execute_reply": "2022-02-13T23:32:29.647744Z"
    }
   },
   "outputs": [],
   "source": [
    "display(OnePiece.figure.plot_x_y(y_))"
   ]
  },
  {
   "cell_type": "code",
   "execution_count": null,
   "id": "268b8935",
   "metadata": {
    "execution": {
     "iopub.execute_input": "2022-02-13T23:32:29.651054Z",
     "iopub.status.busy": "2022-02-13T23:32:29.650358Z",
     "iopub.status.idle": "2022-02-13T23:32:29.703568Z",
     "shell.execute_reply": "2022-02-13T23:32:29.702833Z"
    }
   },
   "outputs": [],
   "source": [
    "display(OnePiece.figure.plot_x_y(y_; la = la))"
   ]
  },
  {
   "cell_type": "code",
   "execution_count": null,
   "id": "aaf9a733",
   "metadata": {
    "execution": {
     "iopub.execute_input": "2022-02-13T23:32:29.707092Z",
     "iopub.status.busy": "2022-02-13T23:32:29.705990Z",
     "iopub.status.idle": "2022-02-13T23:32:29.801528Z",
     "shell.execute_reply": "2022-02-13T23:32:29.800923Z"
    }
   },
   "outputs": [],
   "source": [
    "display(OnePiece.figure.plot_x_y(y_, x_; la = la, ou = joinpath(TE, \"x_y.html\")))"
   ]
  },
  {
   "cell_type": "markdown",
   "id": "3ac78e65",
   "metadata": {},
   "source": [
    "## plot_bar"
   ]
  },
  {
   "cell_type": "code",
   "execution_count": null,
   "id": "b248787f",
   "metadata": {
    "execution": {
     "iopub.execute_input": "2022-02-13T23:32:29.804453Z",
     "iopub.status.busy": "2022-02-13T23:32:29.803665Z",
     "iopub.status.idle": "2022-02-13T23:32:31.147890Z",
     "shell.execute_reply": "2022-02-13T23:32:31.147441Z"
    }
   },
   "outputs": [],
   "source": [
    "y1 = [-1, 2, 5]\n",
    "\n",
    "y2 = reverse(y1)\n",
    "\n",
    "y_ = [y1, y2]"
   ]
  },
  {
   "cell_type": "code",
   "execution_count": null,
   "id": "b4bc6e6b",
   "metadata": {
    "execution": {
     "iopub.execute_input": "2022-02-13T23:32:31.149789Z",
     "iopub.status.busy": "2022-02-13T23:32:31.149214Z",
     "iopub.status.idle": "2022-02-13T23:32:31.205490Z",
     "shell.execute_reply": "2022-02-13T23:32:31.204889Z"
    }
   },
   "outputs": [],
   "source": [
    "display(OnePiece.figure.plot_bar(y_))"
   ]
  },
  {
   "cell_type": "code",
   "execution_count": null,
   "id": "79736494",
   "metadata": {
    "execution": {
     "iopub.execute_input": "2022-02-13T23:32:31.207860Z",
     "iopub.status.busy": "2022-02-13T23:32:31.207248Z",
     "iopub.status.idle": "2022-02-13T23:32:31.240511Z",
     "shell.execute_reply": "2022-02-13T23:32:31.240041Z"
    }
   },
   "outputs": [],
   "source": [
    "display(OnePiece.figure.plot_bar(y_; la = la))"
   ]
  },
  {
   "cell_type": "code",
   "execution_count": null,
   "id": "7a950a15",
   "metadata": {
    "execution": {
     "iopub.execute_input": "2022-02-13T23:32:31.242770Z",
     "iopub.status.busy": "2022-02-13T23:32:31.242069Z",
     "iopub.status.idle": "2022-02-13T23:32:31.377909Z",
     "shell.execute_reply": "2022-02-13T23:32:31.377432Z"
    }
   },
   "outputs": [],
   "source": [
    "name1 = \"Orange\"\n",
    "\n",
    "name2 = \"Blue\"\n",
    "\n",
    "name_ = [name1, name2]\n",
    "\n",
    "x1 = [-2, -1, 0]\n",
    "\n",
    "x2 = .-reverse(x1)\n",
    "\n",
    "x_ = [x1, x2]\n",
    "\n",
    "display(OnePiece.figure.plot_bar(y_, x_; name_ = name_, la = la))"
   ]
  },
  {
   "cell_type": "code",
   "execution_count": null,
   "id": "4febf9ea",
   "metadata": {
    "execution": {
     "iopub.execute_input": "2022-02-13T23:32:31.380570Z",
     "iopub.status.busy": "2022-02-13T23:32:31.379963Z",
     "iopub.status.idle": "2022-02-13T23:32:31.409288Z",
     "shell.execute_reply": "2022-02-13T23:32:31.408749Z"
    }
   },
   "outputs": [],
   "source": [
    "push!(name_, \"Name 3\")\n",
    "\n",
    "push!(y_, [9])\n",
    "\n",
    "push!(x_, [0])\n",
    "\n",
    "display(OnePiece.figure.plot_bar(y_, x_; name_ = name_, la = la))"
   ]
  },
  {
   "cell_type": "code",
   "execution_count": null,
   "id": "963fdc7d",
   "metadata": {
    "execution": {
     "iopub.execute_input": "2022-02-13T23:32:31.411712Z",
     "iopub.status.busy": "2022-02-13T23:32:31.411047Z",
     "iopub.status.idle": "2022-02-13T23:32:31.609661Z",
     "shell.execute_reply": "2022-02-13T23:32:31.609191Z"
    }
   },
   "outputs": [],
   "source": [
    "display(\n",
    "    OnePiece.figure.plot_bar(\n",
    "        y_,\n",
    "        x_;\n",
    "        name_ = name_,\n",
    "        la = Dict(\"barmode\" => \"stack\"),\n",
    "        ou = joinpath(TE, \"bar.html\"),\n",
    "    ),\n",
    ")"
   ]
  },
  {
   "cell_type": "markdown",
   "id": "1ac66c3b",
   "metadata": {},
   "source": [
    "## plot_heat_map"
   ]
  },
  {
   "cell_type": "code",
   "execution_count": null,
   "id": "9d37bab8",
   "metadata": {
    "execution": {
     "iopub.execute_input": "2022-02-13T23:32:31.612087Z",
     "iopub.status.busy": "2022-02-13T23:32:31.611393Z",
     "iopub.status.idle": "2022-02-13T23:32:32.061192Z",
     "shell.execute_reply": "2022-02-13T23:32:32.060758Z"
    }
   },
   "outputs": [],
   "source": [
    "ma = convert(Matrix, reshape(1:8, (2, 4)))"
   ]
  },
  {
   "cell_type": "code",
   "execution_count": null,
   "id": "36665ec2",
   "metadata": {
    "execution": {
     "iopub.execute_input": "2022-02-13T23:32:32.063167Z",
     "iopub.status.busy": "2022-02-13T23:32:32.062632Z",
     "iopub.status.idle": "2022-02-13T23:32:32.409493Z",
     "shell.execute_reply": "2022-02-13T23:32:32.409046Z"
    }
   },
   "outputs": [],
   "source": [
    "display(\n",
    "    OnePiece.figure.plot_heat_map(\n",
    "        ma,\n",
    "        [string(\"Row\", id) for id in 1:size(ma, 1)],\n",
    "        [string(\"Column\", id) for id in 1:size(ma, 2)],\n",
    "    ),\n",
    ")"
   ]
  },
  {
   "cell_type": "code",
   "execution_count": null,
   "id": "975108c0",
   "metadata": {
    "execution": {
     "iopub.execute_input": "2022-02-13T23:32:32.411704Z",
     "iopub.status.busy": "2022-02-13T23:32:32.411024Z",
     "iopub.status.idle": "2022-02-13T23:32:32.504613Z",
     "shell.execute_reply": "2022-02-13T23:32:32.504030Z"
    }
   },
   "outputs": [],
   "source": [
    "display(OnePiece.figure.plot_heat_map(ma, ou = joinpath(TE, \"heat_map.html\")))"
   ]
  },
  {
   "cell_type": "markdown",
   "id": "3f396855",
   "metadata": {},
   "source": [
    "---"
   ]
  },
  {
   "cell_type": "code",
   "execution_count": null,
   "id": "b4af2023",
   "metadata": {
    "execution": {
     "iopub.execute_input": "2022-02-13T23:32:32.507949Z",
     "iopub.status.busy": "2022-02-13T23:32:32.507149Z",
     "iopub.status.idle": "2022-02-13T23:32:32.511880Z",
     "shell.execute_reply": "2022-02-13T23:32:32.511338Z"
    }
   },
   "outputs": [],
   "source": [
    "if isdir(TE)\n",
    "\n",
    "    rm(TE, recursive = true)\n",
    "\n",
    "    println(\"Removed \", TE, \".\")\n",
    "\n",
    "end"
   ]
  }
 ],
 "metadata": {
  "kernelspec": {
   "display_name": "Julia 1.7.2",
   "language": "julia",
   "name": "julia-1.7"
  },
  "language_info": {
   "file_extension": ".jl",
   "mimetype": "application/julia",
   "name": "julia",
   "version": "1.7.2"
  }
 },
 "nbformat": 4,
 "nbformat_minor": 5
}
