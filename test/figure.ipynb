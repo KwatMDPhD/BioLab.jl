{
 "cells": [
  {
   "cell_type": "code",
   "execution_count": 1,
   "id": "baf12f00",
   "metadata": {
    "execution": {
     "iopub.execute_input": "2022-08-10T10:49:52.732000Z",
     "iopub.status.busy": "2022-08-10T10:49:52.168000Z",
     "iopub.status.idle": "2022-08-10T10:49:59.942000Z",
     "shell.execute_reply": "2022-08-10T10:49:59.861000Z"
    }
   },
   "outputs": [],
   "source": [
    "using OnePiece"
   ]
  },
  {
   "cell_type": "code",
   "execution_count": 2,
   "id": "c4b58199",
   "metadata": {
    "execution": {
     "iopub.execute_input": "2022-08-10T10:50:00.680000Z",
     "iopub.status.busy": "2022-08-10T10:49:59.972000Z",
     "iopub.status.idle": "2022-08-10T10:50:01.729000Z",
     "shell.execute_reply": "2022-08-10T10:50:01.729000Z"
    }
   },
   "outputs": [
    {
     "data": {
      "text/plain": [
       "\"/var/folders/mg/30npdf0s1z36txb2qvgylrzh0000gn/T/OnePiece.test.figure\""
      ]
     },
     "execution_count": 2,
     "metadata": {},
     "output_type": "execute_result"
    }
   ],
   "source": [
    "te = OnePiece.path.make_temporary(\"OnePiece.test.figure\")"
   ]
  },
  {
   "cell_type": "markdown",
   "id": "84e40a06",
   "metadata": {},
   "source": [
    "## plot"
   ]
  },
  {
   "cell_type": "code",
   "execution_count": 3,
   "id": "37fb91b2",
   "metadata": {
    "execution": {
     "iopub.execute_input": "2022-08-10T10:50:01.735000Z",
     "iopub.status.busy": "2022-08-10T10:50:01.735000Z",
     "iopub.status.idle": "2022-08-10T10:50:02.745000Z",
     "shell.execute_reply": "2022-08-10T10:50:02.745000Z"
    }
   },
   "outputs": [
    {
     "name": "stdout",
     "output_type": "stream",
     "text": [
      "Made /var/folders/mg/30npdf0s1z36txb2qvgylrzh0000gn/T/OnePiece/2022-8-10_10.50.2.588.html.\n"
     ]
    },
    {
     "data": {
      "text/plain": [
       "\"/var/folders/mg/30npdf0s1z36txb2qvgylrzh0000gn/T/OnePiece/2022-8-10_10.50.2.588.html\""
      ]
     },
     "execution_count": 3,
     "metadata": {},
     "output_type": "execute_result"
    }
   ],
   "source": [
    "data = [Dict()]\n",
    "\n",
    "OnePiece.figure.plot(data)"
   ]
  },
  {
   "cell_type": "code",
   "execution_count": 4,
   "id": "ec645662",
   "metadata": {
    "execution": {
     "iopub.execute_input": "2022-08-10T10:50:02.751000Z",
     "iopub.status.busy": "2022-08-10T10:50:02.751000Z",
     "iopub.status.idle": "2022-08-10T10:50:03.091000Z",
     "shell.execute_reply": "2022-08-10T10:50:03.091000Z"
    }
   },
   "outputs": [
    {
     "name": "stdout",
     "output_type": "stream",
     "text": [
      "Made /var/folders/mg/30npdf0s1z36txb2qvgylrzh0000gn/T/OnePiece/2022-8-10_10.50.3.047.html.\n"
     ]
    },
    {
     "data": {
      "text/plain": [
       "\"/var/folders/mg/30npdf0s1z36txb2qvgylrzh0000gn/T/OnePiece/2022-8-10_10.50.3.047.html\""
      ]
     },
     "execution_count": 4,
     "metadata": {},
     "output_type": "execute_result"
    }
   ],
   "source": [
    "layout = Dict(\n",
    "    \"title\" => \"Title\",\n",
    "    \"yaxis\" => Dict(\"title\" => \"Y-Axis Title\"),\n",
    "    \"xaxis\" => Dict(\"title\" => \"X-Axis Title\"),\n",
    ")\n",
    "\n",
    "OnePiece.figure.plot(data, layout)"
   ]
  },
  {
   "cell_type": "code",
   "execution_count": 5,
   "id": "ae72a412",
   "metadata": {
    "execution": {
     "iopub.execute_input": "2022-08-10T10:50:03.095000Z",
     "iopub.status.busy": "2022-08-10T10:50:03.095000Z",
     "iopub.status.idle": "2022-08-10T10:50:03.129000Z",
     "shell.execute_reply": "2022-08-10T10:50:03.128000Z"
    }
   },
   "outputs": [
    {
     "name": "stdout",
     "output_type": "stream",
     "text": [
      "Made /var/folders/mg/30npdf0s1z36txb2qvgylrzh0000gn/T/OnePiece.test.figure/output.html.\n"
     ]
    },
    {
     "data": {
      "text/plain": [
       "\"/var/folders/mg/30npdf0s1z36txb2qvgylrzh0000gn/T/OnePiece.test.figure/output.html\""
      ]
     },
     "execution_count": 5,
     "metadata": {},
     "output_type": "execute_result"
    }
   ],
   "source": [
    "OnePiece.figure.plot(data, ou = joinpath(te, \"output.html\"))"
   ]
  },
  {
   "cell_type": "markdown",
   "id": "01af355b",
   "metadata": {},
   "source": [
    "## plot_bar"
   ]
  },
  {
   "cell_type": "code",
   "execution_count": 6,
   "id": "1f297153",
   "metadata": {
    "execution": {
     "iopub.execute_input": "2022-08-10T10:50:03.134000Z",
     "iopub.status.busy": "2022-08-10T10:50:03.134000Z",
     "iopub.status.idle": "2022-08-10T10:50:04.584000Z",
     "shell.execute_reply": "2022-08-10T10:50:04.584000Z"
    }
   },
   "outputs": [
    {
     "data": {
      "text/plain": [
       "2-element Vector{Vector{Int64}}:\n",
       " [-1, 2, 5]\n",
       " [5, 2, -1]"
      ]
     },
     "execution_count": 6,
     "metadata": {},
     "output_type": "execute_result"
    }
   ],
   "source": [
    "y1 = [-1, 2, 5]\n",
    "\n",
    "y2 = reverse(y1)\n",
    "\n",
    "y_ = [y1, y2]"
   ]
  },
  {
   "cell_type": "code",
   "execution_count": 7,
   "id": "2568a640",
   "metadata": {
    "execution": {
     "iopub.execute_input": "2022-08-10T10:50:04.587000Z",
     "iopub.status.busy": "2022-08-10T10:50:04.587000Z",
     "iopub.status.idle": "2022-08-10T10:50:05.918000Z",
     "shell.execute_reply": "2022-08-10T10:50:05.918000Z"
    }
   },
   "outputs": [
    {
     "name": "stdout",
     "output_type": "stream",
     "text": [
      "Made /var/folders/mg/30npdf0s1z36txb2qvgylrzh0000gn/T/OnePiece/2022-8-10_10.50.5.899.html.\n"
     ]
    },
    {
     "data": {
      "text/plain": [
       "\"/var/folders/mg/30npdf0s1z36txb2qvgylrzh0000gn/T/OnePiece/2022-8-10_10.50.5.899.html\""
      ]
     },
     "execution_count": 7,
     "metadata": {},
     "output_type": "execute_result"
    }
   ],
   "source": [
    "OnePiece.figure.plot_bar(y_)"
   ]
  },
  {
   "cell_type": "code",
   "execution_count": 8,
   "id": "b9ca7825",
   "metadata": {
    "execution": {
     "iopub.execute_input": "2022-08-10T10:50:05.924000Z",
     "iopub.status.busy": "2022-08-10T10:50:05.924000Z",
     "iopub.status.idle": "2022-08-10T10:50:06.519000Z",
     "shell.execute_reply": "2022-08-10T10:50:06.518000Z"
    }
   },
   "outputs": [
    {
     "data": {
      "text/plain": [
       "2-element Vector{String}:\n",
       " \"Jonathan\"\n",
       " \"Joseph\""
      ]
     },
     "execution_count": 8,
     "metadata": {},
     "output_type": "execute_result"
    }
   ],
   "source": [
    "name1 = \"Jonathan\"\n",
    "\n",
    "name2 = \"Joseph\"\n",
    "\n",
    "name_ = [name1, name2]"
   ]
  },
  {
   "cell_type": "code",
   "execution_count": 9,
   "id": "1969df42",
   "metadata": {
    "execution": {
     "iopub.execute_input": "2022-08-10T10:50:06.523000Z",
     "iopub.status.busy": "2022-08-10T10:50:06.523000Z",
     "iopub.status.idle": "2022-08-10T10:50:06.580000Z",
     "shell.execute_reply": "2022-08-10T10:50:06.580000Z"
    }
   },
   "outputs": [
    {
     "data": {
      "text/plain": [
       "2-element Vector{Vector{Int64}}:\n",
       " [-2, -1, 0]\n",
       " [0, 1, 2]"
      ]
     },
     "execution_count": 9,
     "metadata": {},
     "output_type": "execute_result"
    }
   ],
   "source": [
    "x1 = [-2, -1, 0]\n",
    "\n",
    "x2 = .-reverse(x1)\n",
    "\n",
    "x_ = [x1, x2]"
   ]
  },
  {
   "cell_type": "code",
   "execution_count": 10,
   "id": "e26efbb2",
   "metadata": {
    "execution": {
     "iopub.execute_input": "2022-08-10T10:50:06.584000Z",
     "iopub.status.busy": "2022-08-10T10:50:06.584000Z",
     "iopub.status.idle": "2022-08-10T10:50:06.801000Z",
     "shell.execute_reply": "2022-08-10T10:50:06.800000Z"
    }
   },
   "outputs": [
    {
     "name": "stdout",
     "output_type": "stream",
     "text": [
      "Made /var/folders/mg/30npdf0s1z36txb2qvgylrzh0000gn/T/OnePiece/2022-8-10_10.50.6.779.html.\n"
     ]
    },
    {
     "data": {
      "text/plain": [
       "\"/var/folders/mg/30npdf0s1z36txb2qvgylrzh0000gn/T/OnePiece/2022-8-10_10.50.6.779.html\""
      ]
     },
     "execution_count": 10,
     "metadata": {},
     "output_type": "execute_result"
    }
   ],
   "source": [
    "OnePiece.figure.plot_bar(y_, x_, name_ = name_)"
   ]
  },
  {
   "cell_type": "code",
   "execution_count": 11,
   "id": "5091099b",
   "metadata": {
    "execution": {
     "iopub.execute_input": "2022-08-10T10:50:06.806000Z",
     "iopub.status.busy": "2022-08-10T10:50:06.806000Z",
     "iopub.status.idle": "2022-08-10T10:50:06.837000Z",
     "shell.execute_reply": "2022-08-10T10:50:06.837000Z"
    }
   },
   "outputs": [
    {
     "name": "stdout",
     "output_type": "stream",
     "text": [
      "Made /var/folders/mg/30npdf0s1z36txb2qvgylrzh0000gn/T/OnePiece/2022-8-10_10.50.6.819.html.\n"
     ]
    },
    {
     "data": {
      "text/plain": [
       "\"/var/folders/mg/30npdf0s1z36txb2qvgylrzh0000gn/T/OnePiece/2022-8-10_10.50.6.819.html\""
      ]
     },
     "execution_count": 11,
     "metadata": {},
     "output_type": "execute_result"
    }
   ],
   "source": [
    "push!(name_, \"Jotaro\")\n",
    "\n",
    "push!(y_, [8])\n",
    "\n",
    "push!(x_, [0])\n",
    "\n",
    "OnePiece.figure.plot_bar(y_, x_, name_ = name_)"
   ]
  },
  {
   "cell_type": "code",
   "execution_count": 12,
   "id": "7275f857",
   "metadata": {
    "execution": {
     "iopub.execute_input": "2022-08-10T10:50:06.844000Z",
     "iopub.status.busy": "2022-08-10T10:50:06.844000Z",
     "iopub.status.idle": "2022-08-10T10:50:07.006000Z",
     "shell.execute_reply": "2022-08-10T10:50:07.006000Z"
    }
   },
   "outputs": [
    {
     "name": "stdout",
     "output_type": "stream",
     "text": [
      "Made /var/folders/mg/30npdf0s1z36txb2qvgylrzh0000gn/T/OnePiece.test.figure/bar.html.\n"
     ]
    },
    {
     "data": {
      "text/plain": [
       "\"/var/folders/mg/30npdf0s1z36txb2qvgylrzh0000gn/T/OnePiece.test.figure/bar.html\""
      ]
     },
     "execution_count": 12,
     "metadata": {},
     "output_type": "execute_result"
    }
   ],
   "source": [
    "OnePiece.figure.plot_bar(\n",
    "    y_,\n",
    "    x_,\n",
    "    name_ = name_,\n",
    "    layout = Dict(\"barmode\" => \"stack\", \"title\" => Dict(\"text\" => \"Stack\")),\n",
    "    ou = joinpath(te, \"bar.html\"),\n",
    ")"
   ]
  },
  {
   "cell_type": "markdown",
   "id": "6c8e6968",
   "metadata": {},
   "source": [
    "## plot_heat_map"
   ]
  },
  {
   "cell_type": "code",
   "execution_count": 13,
   "id": "4f9637cd",
   "metadata": {
    "execution": {
     "iopub.execute_input": "2022-08-10T10:50:07.014000Z",
     "iopub.status.busy": "2022-08-10T10:50:07.013000Z",
     "iopub.status.idle": "2022-08-10T10:50:07.728000Z",
     "shell.execute_reply": "2022-08-10T10:50:07.727000Z"
    }
   },
   "outputs": [
    {
     "data": {
      "text/plain": [
       "2×4 Matrix{Float64}:\n",
       " 1.0  3.0  5.0  7.0\n",
       " 2.0  4.0  6.0  8.0"
      ]
     },
     "execution_count": 13,
     "metadata": {},
     "output_type": "execute_result"
    }
   ],
   "source": [
    "ma = OnePiece.matrix.simulate(2, 4)"
   ]
  },
  {
   "cell_type": "code",
   "execution_count": 14,
   "id": "31b0f214",
   "metadata": {
    "execution": {
     "iopub.execute_input": "2022-08-10T10:50:07.733000Z",
     "iopub.status.busy": "2022-08-10T10:50:07.732000Z",
     "iopub.status.idle": "2022-08-10T10:50:08.500000Z",
     "shell.execute_reply": "2022-08-10T10:50:08.499000Z"
    }
   },
   "outputs": [
    {
     "name": "stdout",
     "output_type": "stream",
     "text": [
      "Made /var/folders/mg/30npdf0s1z36txb2qvgylrzh0000gn/T/OnePiece/2022-8-10_10.50.8.476.html.\n"
     ]
    },
    {
     "data": {
      "text/plain": [
       "\"/var/folders/mg/30npdf0s1z36txb2qvgylrzh0000gn/T/OnePiece/2022-8-10_10.50.8.476.html\""
      ]
     },
     "execution_count": 14,
     "metadata": {},
     "output_type": "execute_result"
    }
   ],
   "source": [
    "OnePiece.figure.plot_heat_map(\n",
    "    ma,\n",
    "    [\"Row$id\" for id in 1:size(ma, 1)],\n",
    "    [\"Column$id\" for id in 1:size(ma, 2)],\n",
    ")"
   ]
  },
  {
   "cell_type": "code",
   "execution_count": 15,
   "id": "e8d39c80",
   "metadata": {
    "execution": {
     "iopub.execute_input": "2022-08-10T10:50:08.505000Z",
     "iopub.status.busy": "2022-08-10T10:50:08.505000Z",
     "iopub.status.idle": "2022-08-10T10:50:08.599000Z",
     "shell.execute_reply": "2022-08-10T10:50:08.599000Z"
    }
   },
   "outputs": [
    {
     "name": "stdout",
     "output_type": "stream",
     "text": [
      "Made /var/folders/mg/30npdf0s1z36txb2qvgylrzh0000gn/T/OnePiece.test.figure/heat_map.html.\n"
     ]
    },
    {
     "data": {
      "text/plain": [
       "\"/var/folders/mg/30npdf0s1z36txb2qvgylrzh0000gn/T/OnePiece.test.figure/heat_map.html\""
      ]
     },
     "execution_count": 15,
     "metadata": {},
     "output_type": "execute_result"
    }
   ],
   "source": [
    "OnePiece.figure.plot_heat_map(ma, ou = joinpath(te, \"heat_map.html\"))"
   ]
  },
  {
   "cell_type": "markdown",
   "id": "a48817d0",
   "metadata": {},
   "source": [
    "## plot_histogram"
   ]
  },
  {
   "cell_type": "code",
   "execution_count": 16,
   "id": "34d85b5d",
   "metadata": {
    "execution": {
     "iopub.execute_input": "2022-08-10T10:50:08.605000Z",
     "iopub.status.busy": "2022-08-10T10:50:08.605000Z",
     "iopub.status.idle": "2022-08-10T10:50:11.375000Z",
     "shell.execute_reply": "2022-08-10T10:50:11.375000Z"
    }
   },
   "outputs": [
    {
     "name": "stdout",
     "output_type": "stream",
     "text": [
      "Made /var/folders/mg/30npdf0s1z36txb2qvgylrzh0000gn/T/OnePiece/2022-8-10_10.50.11.355.html.\n"
     ]
    },
    {
     "data": {
      "text/plain": [
       "\"/var/folders/mg/30npdf0s1z36txb2qvgylrzh0000gn/T/OnePiece/2022-8-10_10.50.11.355.html\""
      ]
     },
     "execution_count": 16,
     "metadata": {},
     "output_type": "execute_result"
    }
   ],
   "source": [
    "x_ = [[-1], [0, 1], [2, 3, 4]]\n",
    "\n",
    "OnePiece.figure.plot_histogram(x_)"
   ]
  },
  {
   "cell_type": "code",
   "execution_count": 17,
   "id": "866a3d3e",
   "metadata": {
    "execution": {
     "iopub.execute_input": "2022-08-10T10:50:11.381000Z",
     "iopub.status.busy": "2022-08-10T10:50:11.381000Z",
     "iopub.status.idle": "2022-08-10T10:50:12.125000Z",
     "shell.execute_reply": "2022-08-10T10:50:12.125000Z"
    }
   },
   "outputs": [
    {
     "name": "stdout",
     "output_type": "stream",
     "text": [
      "opacity => (0.8) 0.92\n",
      "opacity => (0.8) 0.92\n",
      "opacity => (0.8) 0.92\n",
      "Made /var/folders/mg/30npdf0s1z36txb2qvgylrzh0000gn/T/OnePiece/2022-8-10_10.50.12.105.html.\n"
     ]
    },
    {
     "data": {
      "text/plain": [
       "\"/var/folders/mg/30npdf0s1z36txb2qvgylrzh0000gn/T/OnePiece/2022-8-10_10.50.12.105.html\""
      ]
     },
     "execution_count": 17,
     "metadata": {},
     "output_type": "execute_result"
    }
   ],
   "source": [
    "text_ = [[\"1A\"], [\"2A\", \"2B\"], [\"3A\", \"3B\", \"3C\"]]\n",
    "\n",
    "OnePiece.figure.plot_histogram(x_, text_)"
   ]
  },
  {
   "cell_type": "code",
   "execution_count": 18,
   "id": "e0a6957a",
   "metadata": {
    "execution": {
     "iopub.execute_input": "2022-08-10T10:50:12.130000Z",
     "iopub.status.busy": "2022-08-10T10:50:12.130000Z",
     "iopub.status.idle": "2022-08-10T10:50:12.648000Z",
     "shell.execute_reply": "2022-08-10T10:50:12.647000Z"
    }
   },
   "outputs": [
    {
     "name": "stdout",
     "output_type": "stream",
     "text": [
      "opacity => (0.8) 0.92\n",
      "opacity => (0.8) 0.92\n",
      "opacity => (0.8) 0.92\n",
      "Made /var/folders/mg/30npdf0s1z36txb2qvgylrzh0000gn/T/OnePiece/2022-8-10_10.50.12.63.html.\n"
     ]
    },
    {
     "data": {
      "text/plain": [
       "\"/var/folders/mg/30npdf0s1z36txb2qvgylrzh0000gn/T/OnePiece/2022-8-10_10.50.12.63.html\""
      ]
     },
     "execution_count": 18,
     "metadata": {},
     "output_type": "execute_result"
    }
   ],
   "source": [
    "OnePiece.figure.plot_histogram(x_, text_, xbins_size = 1)"
   ]
  },
  {
   "cell_type": "markdown",
   "id": "4889aca0",
   "metadata": {},
   "source": [
    "## plot_scatter"
   ]
  },
  {
   "cell_type": "code",
   "execution_count": 19,
   "id": "58a30a5c",
   "metadata": {
    "execution": {
     "iopub.execute_input": "2022-08-10T10:50:12.653000Z",
     "iopub.status.busy": "2022-08-10T10:50:12.653000Z",
     "iopub.status.idle": "2022-08-10T10:50:12.659000Z",
     "shell.execute_reply": "2022-08-10T10:50:12.659000Z"
    }
   },
   "outputs": [
    {
     "data": {
      "text/plain": [
       "2-element Vector{Vector{Int64}}:\n",
       " [-1, 0, 2]\n",
       " [3, 4]"
      ]
     },
     "execution_count": 19,
     "metadata": {},
     "output_type": "execute_result"
    }
   ],
   "source": [
    "x1 = [-1, 0, 2]\n",
    "\n",
    "x2 = [3, 4]\n",
    "\n",
    "x_ = [x1, x2]"
   ]
  },
  {
   "cell_type": "code",
   "execution_count": 20,
   "id": "aec95893",
   "metadata": {
    "execution": {
     "iopub.execute_input": "2022-08-10T10:50:12.663000Z",
     "iopub.status.busy": "2022-08-10T10:50:12.663000Z",
     "iopub.status.idle": "2022-08-10T10:50:12.734000Z",
     "shell.execute_reply": "2022-08-10T10:50:12.733000Z"
    }
   },
   "outputs": [
    {
     "data": {
      "text/plain": [
       "2-element Vector{Vector{Int64}}:\n",
       " [-10, 0, 20]\n",
       " [60, 80]"
      ]
     },
     "execution_count": 20,
     "metadata": {},
     "output_type": "execute_result"
    }
   ],
   "source": [
    "y1 = x1 .* 10\n",
    "\n",
    "y2 = x2 .* 20\n",
    "\n",
    "y_ = [y1, y2]"
   ]
  },
  {
   "cell_type": "code",
   "execution_count": 21,
   "id": "f29cca1a",
   "metadata": {
    "execution": {
     "iopub.execute_input": "2022-08-10T10:50:12.738000Z",
     "iopub.status.busy": "2022-08-10T10:50:12.738000Z",
     "iopub.status.idle": "2022-08-10T10:50:13.046000Z",
     "shell.execute_reply": "2022-08-10T10:50:13.046000Z"
    }
   },
   "outputs": [
    {
     "name": "stdout",
     "output_type": "stream",
     "text": [
      "Made /var/folders/mg/30npdf0s1z36txb2qvgylrzh0000gn/T/OnePiece/2022-8-10_10.50.13.029.html.\n"
     ]
    },
    {
     "data": {
      "text/plain": [
       "\"/var/folders/mg/30npdf0s1z36txb2qvgylrzh0000gn/T/OnePiece/2022-8-10_10.50.13.029.html\""
      ]
     },
     "execution_count": 21,
     "metadata": {},
     "output_type": "execute_result"
    }
   ],
   "source": [
    "OnePiece.figure.plot_scatter(y_)"
   ]
  },
  {
   "cell_type": "code",
   "execution_count": 22,
   "id": "672c6dab",
   "metadata": {
    "execution": {
     "iopub.execute_input": "2022-08-10T10:50:13.052000Z",
     "iopub.status.busy": "2022-08-10T10:50:13.051000Z",
     "iopub.status.idle": "2022-08-10T10:50:13.347000Z",
     "shell.execute_reply": "2022-08-10T10:50:13.347000Z"
    }
   },
   "outputs": [
    {
     "name": "stdout",
     "output_type": "stream",
     "text": [
      "Made /var/folders/mg/30npdf0s1z36txb2qvgylrzh0000gn/T/OnePiece.test.figure/scatter.html.\n"
     ]
    },
    {
     "data": {
      "text/plain": [
       "\"/var/folders/mg/30npdf0s1z36txb2qvgylrzh0000gn/T/OnePiece.test.figure/scatter.html\""
      ]
     },
     "execution_count": 22,
     "metadata": {},
     "output_type": "execute_result"
    }
   ],
   "source": [
    "OnePiece.figure.plot_scatter(y_, x_, ou = joinpath(te, \"scatter.html\"))"
   ]
  }
 ],
 "metadata": {
  "@webio": {
   "lastCommId": null,
   "lastKernelId": null
  },
  "kernelspec": {
   "display_name": "Julia 1.7.3",
   "language": "julia",
   "name": "julia-1.7"
  },
  "language_info": {
   "file_extension": ".jl",
   "mimetype": "application/julia",
   "name": "julia",
   "version": "1.7.3"
  }
 },
 "nbformat": 4,
 "nbformat_minor": 5
}
