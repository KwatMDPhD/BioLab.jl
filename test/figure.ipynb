{
 "cells": [
  {
   "cell_type": "code",
   "execution_count": null,
   "id": "017464da",
   "metadata": {},
   "outputs": [],
   "source": [
    "TE = joinpath(tempdir(), \"OnePiece.test\")\n",
    "\n",
    "if isdir(TE)\n",
    "\n",
    "    rm(TE; recursive = true)\n",
    "\n",
    "    println(\"Removed \", TE, \".\")\n",
    "\n",
    "end\n",
    "\n",
    "mkdir(TE)\n",
    "\n",
    "println(\"Made \", TE, \".\")"
   ]
  },
  {
   "cell_type": "code",
   "execution_count": null,
   "id": "34e4701e",
   "metadata": {
    "execution": {
     "iopub.execute_input": "2022-02-10T17:51:23.590384Z",
     "iopub.status.busy": "2022-02-10T17:51:23.250154Z",
     "iopub.status.idle": "2022-02-10T17:51:24.482021Z",
     "shell.execute_reply": "2022-02-10T17:51:24.481306Z"
    }
   },
   "outputs": [],
   "source": [
    "using OnePiece"
   ]
  },
  {
   "cell_type": "markdown",
   "id": "b92a3da9",
   "metadata": {},
   "source": [
    "---"
   ]
  },
  {
   "cell_type": "markdown",
   "id": "6809059e",
   "metadata": {},
   "source": [
    "## plot"
   ]
  },
  {
   "cell_type": "code",
   "execution_count": null,
   "id": "2329cb27",
   "metadata": {
    "execution": {
     "iopub.execute_input": "2022-02-10T21:30:01.184613Z",
     "iopub.status.busy": "2022-02-10T21:30:00.668656Z",
     "iopub.status.idle": "2022-02-10T21:30:01.247750Z",
     "shell.execute_reply": "2022-02-10T21:30:01.247144Z"
    }
   },
   "outputs": [],
   "source": [
    "using PlotlyLight"
   ]
  },
  {
   "cell_type": "code",
   "execution_count": null,
   "id": "f55a7149",
   "metadata": {
    "execution": {
     "iopub.execute_input": "2022-02-10T21:30:01.250048Z",
     "iopub.status.busy": "2022-02-10T21:30:01.249379Z",
     "iopub.status.idle": "2022-02-10T21:30:03.957700Z",
     "shell.execute_reply": "2022-02-10T21:30:03.957170Z"
    }
   },
   "outputs": [],
   "source": [
    "tr_ = [Dict()]\n",
    "\n",
    "OnePiece.figure.plot(tr_)"
   ]
  },
  {
   "cell_type": "code",
   "execution_count": null,
   "id": "ceb911ba",
   "metadata": {
    "execution": {
     "iopub.execute_input": "2022-02-10T21:30:03.959981Z",
     "iopub.status.busy": "2022-02-10T21:30:03.959317Z",
     "iopub.status.idle": "2022-02-10T21:30:04.877313Z",
     "shell.execute_reply": "2022-02-10T21:30:04.876694Z"
    }
   },
   "outputs": [],
   "source": [
    "la = Config(\n",
    "    template = \"plotly_dark\",\n",
    "    title = \"Title\",\n",
    "    yaxis = Config(title = \"Y-Axis Title\"),\n",
    "    xaxis = Config(title = \"X-Axis Title\"),\n",
    ")\n",
    "\n",
    "display(OnePiece.figure.plot(tr_, la))"
   ]
  },
  {
   "cell_type": "code",
   "execution_count": null,
   "id": "303451fd",
   "metadata": {
    "execution": {
     "iopub.execute_input": "2022-02-10T21:30:04.879676Z",
     "iopub.status.busy": "2022-02-10T21:30:04.878880Z",
     "iopub.status.idle": "2022-02-10T21:30:04.918488Z",
     "shell.execute_reply": "2022-02-10T21:30:04.917964Z"
    }
   },
   "outputs": [],
   "source": [
    "co = Config(displaylog = true)\n",
    "\n",
    "display(OnePiece.figure.plot(tr_, la, co))"
   ]
  },
  {
   "cell_type": "markdown",
   "id": "a2513ee0",
   "metadata": {},
   "source": [
    "## write"
   ]
  },
  {
   "cell_type": "code",
   "execution_count": null,
   "id": "3066f153",
   "metadata": {
    "execution": {
     "iopub.execute_input": "2022-02-10T21:30:04.921053Z",
     "iopub.status.busy": "2022-02-10T21:30:04.920382Z",
     "iopub.status.idle": "2022-02-10T21:30:04.923203Z",
     "shell.execute_reply": "2022-02-10T21:30:04.922456Z"
    }
   },
   "outputs": [],
   "source": [
    "pl = OnePiece.figure.plot(tr_)\n",
    "\n",
    "OnePiece.figure.write(joinpath(tempdir(), \"snow.png\"), pl, 400, 200, 1.0)"
   ]
  },
  {
   "cell_type": "markdown",
   "id": "ced90427",
   "metadata": {},
   "source": [
    "## plot_x_y"
   ]
  },
  {
   "cell_type": "code",
   "execution_count": null,
   "id": "8d7065b0",
   "metadata": {
    "execution": {
     "iopub.execute_input": "2022-02-10T21:30:04.926013Z",
     "iopub.status.busy": "2022-02-10T21:30:04.925192Z",
     "iopub.status.idle": "2022-02-10T21:30:05.001890Z",
     "shell.execute_reply": "2022-02-10T21:30:05.001291Z"
    }
   },
   "outputs": [],
   "source": [
    "x1 = [-1, 0, 2]\n",
    "\n",
    "x2 = [3, 4]\n",
    "\n",
    "x_ = [x1, x2]\n",
    "\n",
    "y1 = x1 .* 10\n",
    "\n",
    "y2 = x2 .* 20\n",
    "\n",
    "y_ = [y1, y2]\n",
    "\n",
    ";"
   ]
  },
  {
   "cell_type": "code",
   "execution_count": null,
   "id": "a8798a0a",
   "metadata": {
    "execution": {
     "iopub.execute_input": "2022-02-10T21:30:05.004214Z",
     "iopub.status.busy": "2022-02-10T21:30:05.003422Z",
     "iopub.status.idle": "2022-02-10T21:30:05.669851Z",
     "shell.execute_reply": "2022-02-10T21:30:05.669278Z"
    }
   },
   "outputs": [],
   "source": [
    "display(OnePiece.figure.plot_x_y(y_))"
   ]
  },
  {
   "cell_type": "code",
   "execution_count": null,
   "id": "268b8935",
   "metadata": {
    "execution": {
     "iopub.execute_input": "2022-02-10T21:30:05.672201Z",
     "iopub.status.busy": "2022-02-10T21:30:05.671461Z",
     "iopub.status.idle": "2022-02-10T21:30:05.722401Z",
     "shell.execute_reply": "2022-02-10T21:30:05.721790Z"
    }
   },
   "outputs": [],
   "source": [
    "display(OnePiece.figure.plot_x_y(y_; la = la))"
   ]
  },
  {
   "cell_type": "code",
   "execution_count": null,
   "id": "aaf9a733",
   "metadata": {
    "execution": {
     "iopub.execute_input": "2022-02-10T21:30:05.725109Z",
     "iopub.status.busy": "2022-02-10T21:30:05.724228Z",
     "iopub.status.idle": "2022-02-10T21:30:05.808104Z",
     "shell.execute_reply": "2022-02-10T21:30:05.808988Z"
    }
   },
   "outputs": [],
   "source": [
    "display(OnePiece.figure.plot_x_y(y_, x_; la = la))"
   ]
  },
  {
   "cell_type": "markdown",
   "id": "3ac78e65",
   "metadata": {},
   "source": [
    "## plot_bar"
   ]
  },
  {
   "cell_type": "code",
   "execution_count": null,
   "id": "b248787f",
   "metadata": {
    "execution": {
     "iopub.execute_input": "2022-02-10T21:30:05.812498Z",
     "iopub.status.busy": "2022-02-10T21:30:05.811585Z",
     "iopub.status.idle": "2022-02-10T21:30:07.109192Z",
     "shell.execute_reply": "2022-02-10T21:30:07.108459Z"
    }
   },
   "outputs": [],
   "source": [
    "y1 = [-1, 2, 5]\n",
    "\n",
    "y2 = reverse(y1)\n",
    "\n",
    "y_ = [y1, y2]"
   ]
  },
  {
   "cell_type": "code",
   "execution_count": null,
   "id": "b4bc6e6b",
   "metadata": {
    "execution": {
     "iopub.execute_input": "2022-02-10T21:30:07.112190Z",
     "iopub.status.busy": "2022-02-10T21:30:07.111205Z",
     "iopub.status.idle": "2022-02-10T21:30:07.176284Z",
     "shell.execute_reply": "2022-02-10T21:30:07.175650Z"
    }
   },
   "outputs": [],
   "source": [
    "display(OnePiece.figure.plot_bar(y_))"
   ]
  },
  {
   "cell_type": "code",
   "execution_count": null,
   "id": "79736494",
   "metadata": {
    "execution": {
     "iopub.execute_input": "2022-02-10T21:30:07.178609Z",
     "iopub.status.busy": "2022-02-10T21:30:07.177830Z",
     "iopub.status.idle": "2022-02-10T21:30:07.220262Z",
     "shell.execute_reply": "2022-02-10T21:30:07.219682Z"
    }
   },
   "outputs": [],
   "source": [
    "display(OnePiece.figure.plot_bar(y_; la = la))"
   ]
  },
  {
   "cell_type": "code",
   "execution_count": null,
   "id": "7a950a15",
   "metadata": {
    "execution": {
     "iopub.execute_input": "2022-02-10T21:30:07.222469Z",
     "iopub.status.busy": "2022-02-10T21:30:07.221801Z",
     "iopub.status.idle": "2022-02-10T21:30:07.388040Z",
     "shell.execute_reply": "2022-02-10T21:30:07.387493Z"
    }
   },
   "outputs": [],
   "source": [
    "name1 = \"Orange\"\n",
    "\n",
    "name2 = \"Blue\"\n",
    "\n",
    "name_ = [name1, name2]\n",
    "\n",
    "x1 = [-2, -1, 0]\n",
    "\n",
    "x2 = .-reverse(x1)\n",
    "\n",
    "x_ = [x1, x2]\n",
    "\n",
    "display(OnePiece.figure.plot_bar(y_, x_; name_ = name_, la = la))"
   ]
  },
  {
   "cell_type": "code",
   "execution_count": null,
   "id": "4febf9ea",
   "metadata": {
    "execution": {
     "iopub.execute_input": "2022-02-10T21:30:07.392605Z",
     "iopub.status.busy": "2022-02-10T21:30:07.391168Z",
     "iopub.status.idle": "2022-02-10T21:30:07.434032Z",
     "shell.execute_reply": "2022-02-10T21:30:07.433350Z"
    }
   },
   "outputs": [],
   "source": [
    "push!(name_, \"Name 3\")\n",
    "\n",
    "push!(y_, [9])\n",
    "\n",
    "push!(x_, [0])\n",
    "\n",
    "display(OnePiece.figure.plot_bar(y_, x_; name_ = name_, la = la))"
   ]
  },
  {
   "cell_type": "code",
   "execution_count": null,
   "id": "963fdc7d",
   "metadata": {
    "execution": {
     "iopub.execute_input": "2022-02-10T21:30:07.437368Z",
     "iopub.status.busy": "2022-02-10T21:30:07.436383Z",
     "iopub.status.idle": "2022-02-10T21:30:07.678396Z",
     "shell.execute_reply": "2022-02-10T21:30:07.677859Z"
    }
   },
   "outputs": [],
   "source": [
    "display(OnePiece.figure.plot_bar(y_, x_; name_ = name_, la = Dict(\"barmode\" => \"stack\")))"
   ]
  },
  {
   "cell_type": "markdown",
   "id": "1ac66c3b",
   "metadata": {},
   "source": [
    "## plot_heat_map"
   ]
  },
  {
   "cell_type": "code",
   "execution_count": null,
   "id": "9d37bab8",
   "metadata": {
    "execution": {
     "iopub.execute_input": "2022-02-10T21:30:07.680610Z",
     "iopub.status.busy": "2022-02-10T21:30:07.679942Z",
     "iopub.status.idle": "2022-02-10T21:30:08.231185Z",
     "shell.execute_reply": "2022-02-10T21:30:08.230603Z"
    }
   },
   "outputs": [],
   "source": [
    "ma = convert(Matrix, reshape(1:8, (2, 4)))"
   ]
  },
  {
   "cell_type": "code",
   "execution_count": null,
   "id": "36665ec2",
   "metadata": {
    "execution": {
     "iopub.execute_input": "2022-02-10T21:30:08.233422Z",
     "iopub.status.busy": "2022-02-10T21:30:08.232673Z",
     "iopub.status.idle": "2022-02-10T21:30:08.664449Z",
     "shell.execute_reply": "2022-02-10T21:30:08.663915Z"
    }
   },
   "outputs": [],
   "source": [
    "display(\n",
    "    OnePiece.figure.plot_heat_map(\n",
    "        ma,\n",
    "        [string(\"Row\", id) for id in 1:size(ma, 1)],\n",
    "        [string(\"Column\", id) for id in 1:size(ma, 2)],\n",
    "    ),\n",
    ")"
   ]
  },
  {
   "cell_type": "code",
   "execution_count": null,
   "id": "975108c0",
   "metadata": {
    "execution": {
     "iopub.execute_input": "2022-02-10T21:30:08.666603Z",
     "iopub.status.busy": "2022-02-10T21:30:08.665935Z",
     "iopub.status.idle": "2022-02-10T21:30:08.798054Z",
     "shell.execute_reply": "2022-02-10T21:30:08.797427Z"
    }
   },
   "outputs": [],
   "source": [
    "display(OnePiece.figure.plot_heat_map(ma))"
   ]
  },
  {
   "cell_type": "markdown",
   "id": "3f396855",
   "metadata": {},
   "source": [
    "---"
   ]
  },
  {
   "cell_type": "code",
   "execution_count": null,
   "id": "b4af2023",
   "metadata": {},
   "outputs": [],
   "source": [
    "if isdir(TE)\n",
    "\n",
    "    rm(TE; recursive = true)\n",
    "\n",
    "    println(\"Removed \", TE, \".\")\n",
    "\n",
    "end"
   ]
  }
 ],
 "metadata": {
  "kernelspec": {
   "display_name": "Julia 1.7.2",
   "language": "julia",
   "name": "julia-1.7"
  },
  "language_info": {
   "file_extension": ".jl",
   "mimetype": "application/julia",
   "name": "julia",
   "version": "1.7.2"
  }
 },
 "nbformat": 4,
 "nbformat_minor": 5
}
