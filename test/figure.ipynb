{
 "cells": [
  {
   "cell_type": "code",
   "execution_count": null,
   "id": "017464da",
   "metadata": {
    "execution": {
     "iopub.execute_input": "2022-02-14T17:04:33.064656Z",
     "iopub.status.busy": "2022-02-14T17:04:32.678392Z",
     "iopub.status.idle": "2022-02-14T17:04:33.279149Z",
     "shell.execute_reply": "2022-02-14T17:04:33.278525Z"
    }
   },
   "outputs": [],
   "source": [
    "TE = joinpath(tempdir(), \"OnePiece.test\")\n",
    "\n",
    "if isdir(TE)\n",
    "\n",
    "    rm(TE, recursive = true)\n",
    "\n",
    "    println(\"Removed \", TE, \".\")\n",
    "\n",
    "end\n",
    "\n",
    "mkdir(TE)\n",
    "\n",
    "println(\"Made \", TE, \".\")"
   ]
  },
  {
   "cell_type": "code",
   "execution_count": null,
   "id": "34e4701e",
   "metadata": {
    "execution": {
     "iopub.execute_input": "2022-02-14T17:04:33.281085Z",
     "iopub.status.busy": "2022-02-14T17:04:33.280466Z",
     "iopub.status.idle": "2022-02-14T17:04:37.928553Z",
     "shell.execute_reply": "2022-02-14T17:04:37.928041Z"
    }
   },
   "outputs": [],
   "source": [
    "using OnePiece"
   ]
  },
  {
   "cell_type": "markdown",
   "id": "b92a3da9",
   "metadata": {},
   "source": [
    "---"
   ]
  },
  {
   "cell_type": "markdown",
   "id": "6809059e",
   "metadata": {},
   "source": [
    "## plot"
   ]
  },
  {
   "cell_type": "code",
   "execution_count": null,
   "id": "2329cb27",
   "metadata": {
    "execution": {
     "iopub.execute_input": "2022-02-14T17:04:38.283674Z",
     "iopub.status.busy": "2022-02-14T17:04:37.930017Z",
     "iopub.status.idle": "2022-02-14T17:04:38.335742Z",
     "shell.execute_reply": "2022-02-14T17:04:38.335228Z"
    }
   },
   "outputs": [],
   "source": [
    "using PlotlyLight"
   ]
  },
  {
   "cell_type": "code",
   "execution_count": null,
   "id": "f55a7149",
   "metadata": {
    "execution": {
     "iopub.execute_input": "2022-02-14T17:04:38.337615Z",
     "iopub.status.busy": "2022-02-14T17:04:38.337042Z",
     "iopub.status.idle": "2022-02-14T17:04:39.875544Z",
     "shell.execute_reply": "2022-02-14T17:04:39.875074Z"
    }
   },
   "outputs": [],
   "source": [
    "tr_ = [Dict()]\n",
    "\n",
    "display(OnePiece.figure.plot(tr_))"
   ]
  },
  {
   "cell_type": "code",
   "execution_count": null,
   "id": "ceb911ba",
   "metadata": {
    "execution": {
     "iopub.execute_input": "2022-02-14T17:04:39.877369Z",
     "iopub.status.busy": "2022-02-14T17:04:39.876793Z",
     "iopub.status.idle": "2022-02-14T17:04:39.984408Z",
     "shell.execute_reply": "2022-02-14T17:04:39.983908Z"
    }
   },
   "outputs": [],
   "source": [
    "la = Config(\n",
    "    template = \"plotly_dark\",\n",
    "    title = \"Title\",\n",
    "    yaxis = Config(title = \"Y-Axis Title\"),\n",
    "    xaxis = Config(title = \"X-Axis Title\"),\n",
    ")\n",
    "\n",
    "display(OnePiece.figure.plot(tr_, la))"
   ]
  },
  {
   "cell_type": "code",
   "execution_count": null,
   "id": "303451fd",
   "metadata": {
    "execution": {
     "iopub.execute_input": "2022-02-14T17:04:39.986767Z",
     "iopub.status.busy": "2022-02-14T17:04:39.985915Z",
     "iopub.status.idle": "2022-02-14T17:04:40.026526Z",
     "shell.execute_reply": "2022-02-14T17:04:40.026047Z"
    }
   },
   "outputs": [],
   "source": [
    "co = Config(displaylog = true)\n",
    "\n",
    "display(OnePiece.figure.plot(tr_, la, co))"
   ]
  },
  {
   "cell_type": "code",
   "execution_count": null,
   "id": "29d9de98",
   "metadata": {
    "execution": {
     "iopub.execute_input": "2022-02-14T17:04:40.028695Z",
     "iopub.status.busy": "2022-02-14T17:04:40.028093Z",
     "iopub.status.idle": "2022-02-14T17:04:40.072546Z",
     "shell.execute_reply": "2022-02-14T17:04:40.072079Z"
    }
   },
   "outputs": [],
   "source": [
    "display(OnePiece.figure.plot(tr_, ou = joinpath(TE, \"output.html\")))"
   ]
  },
  {
   "cell_type": "markdown",
   "id": "a2513ee0",
   "metadata": {},
   "source": [
    "## write"
   ]
  },
  {
   "cell_type": "code",
   "execution_count": null,
   "id": "3066f153",
   "metadata": {
    "execution": {
     "iopub.execute_input": "2022-02-14T17:04:40.074617Z",
     "iopub.status.busy": "2022-02-14T17:04:40.074033Z",
     "iopub.status.idle": "2022-02-14T17:04:40.076468Z",
     "shell.execute_reply": "2022-02-14T17:04:40.075958Z"
    }
   },
   "outputs": [],
   "source": [
    "pl = OnePiece.figure.plot(tr_)\n",
    "\n",
    "OnePiece.figure.write(joinpath(tempdir(), \"snow.png\"), pl, 400, 200, 1.0)"
   ]
  },
  {
   "cell_type": "markdown",
   "id": "ced90427",
   "metadata": {},
   "source": [
    "## plot_x_y"
   ]
  },
  {
   "cell_type": "code",
   "execution_count": null,
   "id": "8d7065b0",
   "metadata": {
    "execution": {
     "iopub.execute_input": "2022-02-14T17:04:40.078436Z",
     "iopub.status.busy": "2022-02-14T17:04:40.077839Z",
     "iopub.status.idle": "2022-02-14T17:04:40.142868Z",
     "shell.execute_reply": "2022-02-14T17:04:40.142340Z"
    }
   },
   "outputs": [],
   "source": [
    "x1 = [-1, 0, 2]\n",
    "\n",
    "x2 = [3, 4]\n",
    "\n",
    "x_ = [x1, x2]\n",
    "\n",
    "y1 = x1 .* 10\n",
    "\n",
    "y2 = x2 .* 20\n",
    "\n",
    "y_ = [y1, y2]\n",
    "\n",
    ";"
   ]
  },
  {
   "cell_type": "code",
   "execution_count": null,
   "id": "a8798a0a",
   "metadata": {
    "execution": {
     "iopub.execute_input": "2022-02-14T17:04:40.144823Z",
     "iopub.status.busy": "2022-02-14T17:04:40.144218Z",
     "iopub.status.idle": "2022-02-14T17:04:40.723026Z",
     "shell.execute_reply": "2022-02-14T17:04:40.722508Z"
    }
   },
   "outputs": [],
   "source": [
    "display(OnePiece.figure.plot_x_y(y_))"
   ]
  },
  {
   "cell_type": "code",
   "execution_count": null,
   "id": "268b8935",
   "metadata": {
    "execution": {
     "iopub.execute_input": "2022-02-14T17:04:40.725540Z",
     "iopub.status.busy": "2022-02-14T17:04:40.724647Z",
     "iopub.status.idle": "2022-02-14T17:04:40.784719Z",
     "shell.execute_reply": "2022-02-14T17:04:40.783961Z"
    }
   },
   "outputs": [],
   "source": [
    "display(OnePiece.figure.plot_x_y(y_; la = la))"
   ]
  },
  {
   "cell_type": "code",
   "execution_count": null,
   "id": "aaf9a733",
   "metadata": {
    "execution": {
     "iopub.execute_input": "2022-02-14T17:04:40.788273Z",
     "iopub.status.busy": "2022-02-14T17:04:40.787159Z",
     "iopub.status.idle": "2022-02-14T17:04:40.878878Z",
     "shell.execute_reply": "2022-02-14T17:04:40.878414Z"
    }
   },
   "outputs": [],
   "source": [
    "display(OnePiece.figure.plot_x_y(y_, x_; la = la, ou = joinpath(TE, \"x_y.html\")))"
   ]
  },
  {
   "cell_type": "markdown",
   "id": "3ac78e65",
   "metadata": {},
   "source": [
    "## plot_bar"
   ]
  },
  {
   "cell_type": "code",
   "execution_count": null,
   "id": "b248787f",
   "metadata": {
    "execution": {
     "iopub.execute_input": "2022-02-14T17:04:40.881983Z",
     "iopub.status.busy": "2022-02-14T17:04:40.880998Z",
     "iopub.status.idle": "2022-02-14T17:04:42.154688Z",
     "shell.execute_reply": "2022-02-14T17:04:42.154235Z"
    }
   },
   "outputs": [],
   "source": [
    "y1 = [-1, 2, 5]\n",
    "\n",
    "y2 = reverse(y1)\n",
    "\n",
    "y_ = [y1, y2]"
   ]
  },
  {
   "cell_type": "code",
   "execution_count": null,
   "id": "b4bc6e6b",
   "metadata": {
    "execution": {
     "iopub.execute_input": "2022-02-14T17:04:42.156539Z",
     "iopub.status.busy": "2022-02-14T17:04:42.155965Z",
     "iopub.status.idle": "2022-02-14T17:04:42.208214Z",
     "shell.execute_reply": "2022-02-14T17:04:42.207761Z"
    }
   },
   "outputs": [],
   "source": [
    "display(OnePiece.figure.plot_bar(y_))"
   ]
  },
  {
   "cell_type": "code",
   "execution_count": null,
   "id": "79736494",
   "metadata": {
    "execution": {
     "iopub.execute_input": "2022-02-14T17:04:42.210228Z",
     "iopub.status.busy": "2022-02-14T17:04:42.209659Z",
     "iopub.status.idle": "2022-02-14T17:04:42.236863Z",
     "shell.execute_reply": "2022-02-14T17:04:42.236398Z"
    }
   },
   "outputs": [],
   "source": [
    "display(OnePiece.figure.plot_bar(y_; la = la))"
   ]
  },
  {
   "cell_type": "code",
   "execution_count": null,
   "id": "7a950a15",
   "metadata": {
    "execution": {
     "iopub.execute_input": "2022-02-14T17:04:42.239071Z",
     "iopub.status.busy": "2022-02-14T17:04:42.238482Z",
     "iopub.status.idle": "2022-02-14T17:04:42.357326Z",
     "shell.execute_reply": "2022-02-14T17:04:42.356865Z"
    }
   },
   "outputs": [],
   "source": [
    "name1 = \"Orange\"\n",
    "\n",
    "name2 = \"Blue\"\n",
    "\n",
    "name_ = [name1, name2]\n",
    "\n",
    "x1 = [-2, -1, 0]\n",
    "\n",
    "x2 = .-reverse(x1)\n",
    "\n",
    "x_ = [x1, x2]\n",
    "\n",
    "display(OnePiece.figure.plot_bar(y_, x_; name_ = name_, la = la))"
   ]
  },
  {
   "cell_type": "code",
   "execution_count": null,
   "id": "4febf9ea",
   "metadata": {
    "execution": {
     "iopub.execute_input": "2022-02-14T17:04:42.359409Z",
     "iopub.status.busy": "2022-02-14T17:04:42.358802Z",
     "iopub.status.idle": "2022-02-14T17:04:42.384852Z",
     "shell.execute_reply": "2022-02-14T17:04:42.383994Z"
    }
   },
   "outputs": [],
   "source": [
    "push!(name_, \"Name 3\")\n",
    "\n",
    "push!(y_, [9])\n",
    "\n",
    "push!(x_, [0])\n",
    "\n",
    "display(OnePiece.figure.plot_bar(y_, x_; name_ = name_, la = la))"
   ]
  },
  {
   "cell_type": "code",
   "execution_count": null,
   "id": "963fdc7d",
   "metadata": {
    "execution": {
     "iopub.execute_input": "2022-02-14T17:04:42.387504Z",
     "iopub.status.busy": "2022-02-14T17:04:42.386634Z",
     "iopub.status.idle": "2022-02-14T17:04:42.572644Z",
     "shell.execute_reply": "2022-02-14T17:04:42.572180Z"
    }
   },
   "outputs": [],
   "source": [
    "display(\n",
    "    OnePiece.figure.plot_bar(\n",
    "        y_,\n",
    "        x_;\n",
    "        name_ = name_,\n",
    "        la = Dict(\"barmode\" => \"stack\"),\n",
    "        ou = joinpath(TE, \"bar.html\"),\n",
    "    ),\n",
    ")"
   ]
  },
  {
   "cell_type": "markdown",
   "id": "1ac66c3b",
   "metadata": {},
   "source": [
    "## plot_heat_map"
   ]
  },
  {
   "cell_type": "code",
   "execution_count": null,
   "id": "9d37bab8",
   "metadata": {
    "execution": {
     "iopub.execute_input": "2022-02-14T17:04:42.574854Z",
     "iopub.status.busy": "2022-02-14T17:04:42.574214Z",
     "iopub.status.idle": "2022-02-14T17:04:43.035046Z",
     "shell.execute_reply": "2022-02-14T17:04:43.034589Z"
    }
   },
   "outputs": [],
   "source": [
    "ma = convert(Matrix, reshape(1:8, (2, 4)))"
   ]
  },
  {
   "cell_type": "code",
   "execution_count": null,
   "id": "36665ec2",
   "metadata": {
    "execution": {
     "iopub.execute_input": "2022-02-14T17:04:43.036978Z",
     "iopub.status.busy": "2022-02-14T17:04:43.036352Z",
     "iopub.status.idle": "2022-02-14T17:04:43.375778Z",
     "shell.execute_reply": "2022-02-14T17:04:43.375355Z"
    }
   },
   "outputs": [],
   "source": [
    "display(\n",
    "    OnePiece.figure.plot_heat_map(\n",
    "        ma,\n",
    "        [string(\"Row\", id) for id in 1:size(ma, 1)],\n",
    "        [string(\"Column\", id) for id in 1:size(ma, 2)],\n",
    "    ),\n",
    ")"
   ]
  },
  {
   "cell_type": "code",
   "execution_count": null,
   "id": "975108c0",
   "metadata": {
    "execution": {
     "iopub.execute_input": "2022-02-14T17:04:43.377775Z",
     "iopub.status.busy": "2022-02-14T17:04:43.377198Z",
     "iopub.status.idle": "2022-02-14T17:04:43.465866Z",
     "shell.execute_reply": "2022-02-14T17:04:43.465398Z"
    }
   },
   "outputs": [],
   "source": [
    "display(OnePiece.figure.plot_heat_map(ma, ou = joinpath(TE, \"heat_map.html\")))"
   ]
  },
  {
   "cell_type": "markdown",
   "id": "3f396855",
   "metadata": {},
   "source": [
    "---"
   ]
  },
  {
   "cell_type": "code",
   "execution_count": null,
   "id": "b4af2023",
   "metadata": {
    "execution": {
     "iopub.execute_input": "2022-02-14T17:04:43.468065Z",
     "iopub.status.busy": "2022-02-14T17:04:43.467473Z",
     "iopub.status.idle": "2022-02-14T17:04:43.471322Z",
     "shell.execute_reply": "2022-02-14T17:04:43.470845Z"
    }
   },
   "outputs": [],
   "source": [
    "if isdir(TE)\n",
    "\n",
    "    rm(TE, recursive = true)\n",
    "\n",
    "    println(\"Removed \", TE, \".\")\n",
    "\n",
    "end"
   ]
  }
 ],
 "metadata": {
  "kernelspec": {
   "display_name": "Julia 1.7.2",
   "language": "julia",
   "name": "julia-1.7"
  },
  "language_info": {
   "file_extension": ".jl",
   "mimetype": "application/julia",
   "name": "julia",
   "version": "1.7.2"
  }
 },
 "nbformat": 4,
 "nbformat_minor": 5
}
