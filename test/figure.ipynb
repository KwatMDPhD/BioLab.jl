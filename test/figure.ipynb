{
 "cells": [
  {
   "cell_type": "code",
   "execution_count": null,
   "id": "34e4701e",
   "metadata": {
    "execution": {
     "iopub.execute_input": "2022-02-09T18:58:16.665464Z",
     "iopub.status.busy": "2022-02-09T18:58:16.250492Z",
     "iopub.status.idle": "2022-02-09T18:58:17.689757Z",
     "shell.execute_reply": "2022-02-09T18:58:17.688868Z"
    }
   },
   "outputs": [],
   "source": [
    "using Revise\n",
    "using BenchmarkTools"
   ]
  },
  {
   "cell_type": "code",
   "execution_count": null,
   "id": "6436b741",
   "metadata": {
    "execution": {
     "iopub.execute_input": "2022-02-09T18:58:17.691954Z",
     "iopub.status.busy": "2022-02-09T18:58:17.691265Z",
     "iopub.status.idle": "2022-02-09T18:58:28.494407Z",
     "shell.execute_reply": "2022-02-09T18:58:28.493964Z"
    }
   },
   "outputs": [],
   "source": [
    "using PlotlyJS\n",
    "\n",
    "using OnePiece"
   ]
  },
  {
   "cell_type": "code",
   "execution_count": null,
   "id": "836e7390",
   "metadata": {
    "execution": {
     "iopub.execute_input": "2022-02-09T18:58:30.106456Z",
     "iopub.status.busy": "2022-02-09T18:58:28.495622Z",
     "iopub.status.idle": "2022-02-09T18:58:32.913897Z",
     "shell.execute_reply": "2022-02-09T18:58:32.913450Z"
    }
   },
   "outputs": [],
   "source": [
    "tr_ = Vector{GenericTrace}()\n",
    "\n",
    "la = Layout(title = \"Title\", yaxis_title = \"Y-Axis Title\", xaxis_title = \"X-Axis Title\")\n",
    "\n",
    ";"
   ]
  },
  {
   "cell_type": "markdown",
   "id": "6809059e",
   "metadata": {},
   "source": [
    "## plot"
   ]
  },
  {
   "cell_type": "code",
   "execution_count": null,
   "id": "5bd282d2",
   "metadata": {
    "execution": {
     "iopub.execute_input": "2022-02-09T18:58:32.915982Z",
     "iopub.status.busy": "2022-02-09T18:58:32.915353Z",
     "iopub.status.idle": "2022-02-09T18:58:37.182829Z",
     "shell.execute_reply": "2022-02-09T18:58:37.182416Z"
    }
   },
   "outputs": [],
   "source": [
    "OnePiece.figure.plot(tr_, la)"
   ]
  },
  {
   "cell_type": "markdown",
   "id": "a2513ee0",
   "metadata": {},
   "source": [
    "## write"
   ]
  },
  {
   "cell_type": "code",
   "execution_count": null,
   "id": "3066f153",
   "metadata": {
    "execution": {
     "iopub.execute_input": "2022-02-09T18:58:37.184677Z",
     "iopub.status.busy": "2022-02-09T18:58:37.184129Z",
     "iopub.status.idle": "2022-02-09T18:58:38.123327Z",
     "shell.execute_reply": "2022-02-09T18:58:38.122787Z"
    }
   },
   "outputs": [],
   "source": [
    "pl = OnePiece.figure.plot(tr_)\n",
    "\n",
    "OnePiece.figure.write(joinpath(tempdir(), \"snow.png\"), pl, 400, 200, 1.0)"
   ]
  },
  {
   "cell_type": "code",
   "execution_count": null,
   "id": "70a3796d",
   "metadata": {
    "execution": {
     "iopub.execute_input": "2022-02-09T18:58:38.125329Z",
     "iopub.status.busy": "2022-02-09T18:58:38.124639Z",
     "iopub.status.idle": "2022-02-09T18:58:38.138051Z",
     "shell.execute_reply": "2022-02-09T18:58:38.137531Z"
    }
   },
   "outputs": [],
   "source": [
    "x1 = [-1, 0, 2]\n",
    "\n",
    "x2 = [-2, -1, 0, 2, 4]\n",
    "\n",
    ";"
   ]
  },
  {
   "cell_type": "code",
   "execution_count": null,
   "id": "1273971b",
   "metadata": {
    "execution": {
     "iopub.execute_input": "2022-02-09T18:58:38.139955Z",
     "iopub.status.busy": "2022-02-09T18:58:38.139366Z",
     "iopub.status.idle": "2022-02-09T18:58:38.194628Z",
     "shell.execute_reply": "2022-02-09T18:58:38.194111Z"
    }
   },
   "outputs": [],
   "source": [
    "y1 = x1 .* 10\n",
    "\n",
    "y2 = x2 .* 10\n",
    "\n",
    ";"
   ]
  },
  {
   "cell_type": "markdown",
   "id": "ced90427",
   "metadata": {},
   "source": [
    "## plot_x_y"
   ]
  },
  {
   "cell_type": "code",
   "execution_count": null,
   "id": "b6a32634",
   "metadata": {
    "execution": {
     "iopub.execute_input": "2022-02-09T18:58:38.196571Z",
     "iopub.status.busy": "2022-02-09T18:58:38.195976Z",
     "iopub.status.idle": "2022-02-09T18:58:39.065158Z",
     "shell.execute_reply": "2022-02-09T18:58:39.064700Z"
    }
   },
   "outputs": [],
   "source": [
    "OnePiece.figure.plot_x_y([y1, y2], [x1, x2]; la = la)"
   ]
  },
  {
   "cell_type": "code",
   "execution_count": null,
   "id": "7fc47cde",
   "metadata": {
    "execution": {
     "iopub.execute_input": "2022-02-09T18:58:39.066999Z",
     "iopub.status.busy": "2022-02-09T18:58:39.066415Z",
     "iopub.status.idle": "2022-02-09T18:58:39.123891Z",
     "shell.execute_reply": "2022-02-09T18:58:39.123413Z"
    }
   },
   "outputs": [],
   "source": [
    "OnePiece.figure.plot_x_y([y1, y2]; la = la)"
   ]
  },
  {
   "cell_type": "markdown",
   "id": "3ac78e65",
   "metadata": {},
   "source": [
    "## plot_bar"
   ]
  },
  {
   "cell_type": "code",
   "execution_count": null,
   "id": "9efd367f",
   "metadata": {
    "execution": {
     "iopub.execute_input": "2022-02-09T18:58:39.125884Z",
     "iopub.status.busy": "2022-02-09T18:58:39.125309Z",
     "iopub.status.idle": "2022-02-09T18:58:39.165606Z",
     "shell.execute_reply": "2022-02-09T18:58:39.165200Z"
    }
   },
   "outputs": [],
   "source": [
    "OnePiece.figure.plot_bar([y1, y2], [x1, x2]; la = la)"
   ]
  },
  {
   "cell_type": "code",
   "execution_count": null,
   "id": "1abb7102",
   "metadata": {
    "execution": {
     "iopub.execute_input": "2022-02-09T18:58:39.167673Z",
     "iopub.status.busy": "2022-02-09T18:58:39.166805Z",
     "iopub.status.idle": "2022-02-09T18:58:39.309915Z",
     "shell.execute_reply": "2022-02-09T18:58:39.309332Z"
    }
   },
   "outputs": [],
   "source": [
    "OnePiece.figure.plot_bar([y1, y2]; la = la)"
   ]
  },
  {
   "cell_type": "code",
   "execution_count": null,
   "id": "f7e73bd2",
   "metadata": {
    "execution": {
     "iopub.execute_input": "2022-02-09T18:58:39.311986Z",
     "iopub.status.busy": "2022-02-09T18:58:39.311364Z",
     "iopub.status.idle": "2022-02-09T18:58:40.341306Z",
     "shell.execute_reply": "2022-02-09T18:58:40.340775Z"
    }
   },
   "outputs": [],
   "source": [
    "fill(\"adf\", 10)"
   ]
  },
  {
   "cell_type": "markdown",
   "id": "1ac66c3b",
   "metadata": {},
   "source": [
    "## plot_heat_map"
   ]
  },
  {
   "cell_type": "code",
   "execution_count": null,
   "id": "9d37bab8",
   "metadata": {
    "execution": {
     "iopub.execute_input": "2022-02-09T18:58:40.343460Z",
     "iopub.status.busy": "2022-02-09T18:58:40.342786Z",
     "iopub.status.idle": "2022-02-09T18:58:40.786805Z",
     "shell.execute_reply": "2022-02-09T18:58:40.786418Z"
    }
   },
   "outputs": [],
   "source": [
    "ma = convert(Matrix, reshape(1:8, (2, 4)))"
   ]
  },
  {
   "cell_type": "code",
   "execution_count": null,
   "id": "36665ec2",
   "metadata": {
    "execution": {
     "iopub.execute_input": "2022-02-09T18:58:40.788840Z",
     "iopub.status.busy": "2022-02-09T18:58:40.788350Z",
     "iopub.status.idle": "2022-02-09T18:58:41.294789Z",
     "shell.execute_reply": "2022-02-09T18:58:41.294383Z"
    }
   },
   "outputs": [],
   "source": [
    "OnePiece.figure.plot_heat_map(\n",
    "    ma,\n",
    "    [string(\"Row\", id) for id in 1:size(ma, 1)],\n",
    "    [string(\"Column\", id) for id in 1:size(ma, 2)],\n",
    ")"
   ]
  },
  {
   "cell_type": "code",
   "execution_count": null,
   "id": "975108c0",
   "metadata": {
    "execution": {
     "iopub.execute_input": "2022-02-09T18:58:41.296406Z",
     "iopub.status.busy": "2022-02-09T18:58:41.295904Z",
     "iopub.status.idle": "2022-02-09T18:58:41.452060Z",
     "shell.execute_reply": "2022-02-09T18:58:41.451632Z"
    }
   },
   "outputs": [],
   "source": [
    "OnePiece.figure.plot_heat_map(ma)"
   ]
  }
 ],
 "metadata": {
  "@webio": {
   "lastCommId": null,
   "lastKernelId": null
  },
  "kernelspec": {
   "display_name": "Julia 1.7.1",
   "language": "julia",
   "name": "julia-1.7"
  },
  "language_info": {
   "file_extension": ".jl",
   "mimetype": "application/julia",
   "name": "julia",
   "version": "1.7.2"
  }
 },
 "nbformat": 4,
 "nbformat_minor": 5
}
