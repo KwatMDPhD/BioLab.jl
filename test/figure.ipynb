{
 "cells": [
  {
   "cell_type": "code",
   "execution_count": null,
   "id": "017464da",
   "metadata": {
    "execution": {
     "iopub.execute_input": "2022-02-14T15:20:27.156195Z",
     "iopub.status.busy": "2022-02-14T15:20:26.817484Z",
     "iopub.status.idle": "2022-02-14T15:20:27.338447Z",
     "shell.execute_reply": "2022-02-14T15:20:27.338018Z"
    }
   },
   "outputs": [],
   "source": [
    "TE = joinpath(tempdir(), \"OnePiece.test\")\n",
    "\n",
    "if isdir(TE)\n",
    "\n",
    "    rm(TE, recursive = true)\n",
    "\n",
    "    println(\"Removed \", TE, \".\")\n",
    "\n",
    "end\n",
    "\n",
    "mkdir(TE)\n",
    "\n",
    "println(\"Made \", TE, \".\")"
   ]
  },
  {
   "cell_type": "code",
   "execution_count": null,
   "id": "34e4701e",
   "metadata": {
    "execution": {
     "iopub.execute_input": "2022-02-14T15:20:27.340396Z",
     "iopub.status.busy": "2022-02-14T15:20:27.339883Z",
     "iopub.status.idle": "2022-02-14T15:20:31.444154Z",
     "shell.execute_reply": "2022-02-14T15:20:31.443768Z"
    }
   },
   "outputs": [],
   "source": [
    "using OnePiece"
   ]
  },
  {
   "cell_type": "markdown",
   "id": "b92a3da9",
   "metadata": {},
   "source": [
    "---"
   ]
  },
  {
   "cell_type": "markdown",
   "id": "6809059e",
   "metadata": {},
   "source": [
    "## plot"
   ]
  },
  {
   "cell_type": "code",
   "execution_count": null,
   "id": "2329cb27",
   "metadata": {
    "execution": {
     "iopub.execute_input": "2022-02-14T15:20:31.773325Z",
     "iopub.status.busy": "2022-02-14T15:20:31.445522Z",
     "iopub.status.idle": "2022-02-14T15:20:31.825478Z",
     "shell.execute_reply": "2022-02-14T15:20:31.824968Z"
    }
   },
   "outputs": [],
   "source": [
    "using PlotlyLight"
   ]
  },
  {
   "cell_type": "code",
   "execution_count": null,
   "id": "f55a7149",
   "metadata": {
    "execution": {
     "iopub.execute_input": "2022-02-14T15:20:31.827342Z",
     "iopub.status.busy": "2022-02-14T15:20:31.826767Z",
     "iopub.status.idle": "2022-02-14T15:20:33.261290Z",
     "shell.execute_reply": "2022-02-14T15:20:33.260841Z"
    }
   },
   "outputs": [],
   "source": [
    "tr_ = [Dict()]\n",
    "\n",
    "display(OnePiece.figure.plot(tr_))"
   ]
  },
  {
   "cell_type": "code",
   "execution_count": null,
   "id": "ceb911ba",
   "metadata": {
    "execution": {
     "iopub.execute_input": "2022-02-14T15:20:33.263118Z",
     "iopub.status.busy": "2022-02-14T15:20:33.262608Z",
     "iopub.status.idle": "2022-02-14T15:20:33.356777Z",
     "shell.execute_reply": "2022-02-14T15:20:33.357137Z"
    }
   },
   "outputs": [],
   "source": [
    "la = Config(\n",
    "    template = \"plotly_dark\",\n",
    "    title = \"Title\",\n",
    "    yaxis = Config(title = \"Y-Axis Title\"),\n",
    "    xaxis = Config(title = \"X-Axis Title\"),\n",
    ")\n",
    "\n",
    "display(OnePiece.figure.plot(tr_, la))"
   ]
  },
  {
   "cell_type": "code",
   "execution_count": null,
   "id": "303451fd",
   "metadata": {
    "execution": {
     "iopub.execute_input": "2022-02-14T15:20:33.359264Z",
     "iopub.status.busy": "2022-02-14T15:20:33.358533Z",
     "iopub.status.idle": "2022-02-14T15:20:33.397300Z",
     "shell.execute_reply": "2022-02-14T15:20:33.397811Z"
    }
   },
   "outputs": [],
   "source": [
    "co = Config(displaylog = true)\n",
    "\n",
    "display(OnePiece.figure.plot(tr_, la, co))"
   ]
  },
  {
   "cell_type": "code",
   "execution_count": null,
   "id": "29d9de98",
   "metadata": {
    "execution": {
     "iopub.execute_input": "2022-02-14T15:20:33.399991Z",
     "iopub.status.busy": "2022-02-14T15:20:33.399385Z",
     "iopub.status.idle": "2022-02-14T15:20:33.443155Z",
     "shell.execute_reply": "2022-02-14T15:20:33.443583Z"
    }
   },
   "outputs": [],
   "source": [
    "display(OnePiece.figure.plot(tr_, ou = joinpath(TE, \"output.html\")))"
   ]
  },
  {
   "cell_type": "markdown",
   "id": "a2513ee0",
   "metadata": {},
   "source": [
    "## write"
   ]
  },
  {
   "cell_type": "code",
   "execution_count": null,
   "id": "3066f153",
   "metadata": {
    "execution": {
     "iopub.execute_input": "2022-02-14T15:20:33.445732Z",
     "iopub.status.busy": "2022-02-14T15:20:33.445075Z",
     "iopub.status.idle": "2022-02-14T15:20:33.447151Z",
     "shell.execute_reply": "2022-02-14T15:20:33.446557Z"
    }
   },
   "outputs": [],
   "source": [
    "pl = OnePiece.figure.plot(tr_)\n",
    "\n",
    "OnePiece.figure.write(joinpath(tempdir(), \"snow.png\"), pl, 400, 200, 1.0)"
   ]
  },
  {
   "cell_type": "markdown",
   "id": "ced90427",
   "metadata": {},
   "source": [
    "## plot_x_y"
   ]
  },
  {
   "cell_type": "code",
   "execution_count": null,
   "id": "8d7065b0",
   "metadata": {
    "execution": {
     "iopub.execute_input": "2022-02-14T15:20:33.449147Z",
     "iopub.status.busy": "2022-02-14T15:20:33.448522Z",
     "iopub.status.idle": "2022-02-14T15:20:33.514281Z",
     "shell.execute_reply": "2022-02-14T15:20:33.513800Z"
    }
   },
   "outputs": [],
   "source": [
    "x1 = [-1, 0, 2]\n",
    "\n",
    "x2 = [3, 4]\n",
    "\n",
    "x_ = [x1, x2]\n",
    "\n",
    "y1 = x1 .* 10\n",
    "\n",
    "y2 = x2 .* 20\n",
    "\n",
    "y_ = [y1, y2]\n",
    "\n",
    ";"
   ]
  },
  {
   "cell_type": "code",
   "execution_count": null,
   "id": "a8798a0a",
   "metadata": {
    "execution": {
     "iopub.execute_input": "2022-02-14T15:20:33.517109Z",
     "iopub.status.busy": "2022-02-14T15:20:33.516314Z",
     "iopub.status.idle": "2022-02-14T15:20:34.061051Z",
     "shell.execute_reply": "2022-02-14T15:20:34.061462Z"
    }
   },
   "outputs": [],
   "source": [
    "display(OnePiece.figure.plot_x_y(y_))"
   ]
  },
  {
   "cell_type": "code",
   "execution_count": null,
   "id": "268b8935",
   "metadata": {
    "execution": {
     "iopub.execute_input": "2022-02-14T15:20:34.063894Z",
     "iopub.status.busy": "2022-02-14T15:20:34.062939Z",
     "iopub.status.idle": "2022-02-14T15:20:34.102592Z",
     "shell.execute_reply": "2022-02-14T15:20:34.103078Z"
    }
   },
   "outputs": [],
   "source": [
    "display(OnePiece.figure.plot_x_y(y_; la = la))"
   ]
  },
  {
   "cell_type": "code",
   "execution_count": null,
   "id": "aaf9a733",
   "metadata": {
    "execution": {
     "iopub.execute_input": "2022-02-14T15:20:34.105250Z",
     "iopub.status.busy": "2022-02-14T15:20:34.104639Z",
     "iopub.status.idle": "2022-02-14T15:20:34.180837Z",
     "shell.execute_reply": "2022-02-14T15:20:34.181236Z"
    }
   },
   "outputs": [],
   "source": [
    "display(OnePiece.figure.plot_x_y(y_, x_; la = la, ou = joinpath(TE, \"x_y.html\")))"
   ]
  },
  {
   "cell_type": "markdown",
   "id": "3ac78e65",
   "metadata": {},
   "source": [
    "## plot_bar"
   ]
  },
  {
   "cell_type": "code",
   "execution_count": null,
   "id": "b248787f",
   "metadata": {
    "execution": {
     "iopub.execute_input": "2022-02-14T15:20:34.183658Z",
     "iopub.status.busy": "2022-02-14T15:20:34.182935Z",
     "iopub.status.idle": "2022-02-14T15:20:35.413953Z",
     "shell.execute_reply": "2022-02-14T15:20:35.413505Z"
    }
   },
   "outputs": [],
   "source": [
    "y1 = [-1, 2, 5]\n",
    "\n",
    "y2 = reverse(y1)\n",
    "\n",
    "y_ = [y1, y2]"
   ]
  },
  {
   "cell_type": "code",
   "execution_count": null,
   "id": "b4bc6e6b",
   "metadata": {
    "execution": {
     "iopub.execute_input": "2022-02-14T15:20:35.416028Z",
     "iopub.status.busy": "2022-02-14T15:20:35.415321Z",
     "iopub.status.idle": "2022-02-14T15:20:35.469747Z",
     "shell.execute_reply": "2022-02-14T15:20:35.469286Z"
    }
   },
   "outputs": [],
   "source": [
    "display(OnePiece.figure.plot_bar(y_))"
   ]
  },
  {
   "cell_type": "code",
   "execution_count": null,
   "id": "79736494",
   "metadata": {
    "execution": {
     "iopub.execute_input": "2022-02-14T15:20:35.471766Z",
     "iopub.status.busy": "2022-02-14T15:20:35.471195Z",
     "iopub.status.idle": "2022-02-14T15:20:35.501629Z",
     "shell.execute_reply": "2022-02-14T15:20:35.501118Z"
    }
   },
   "outputs": [],
   "source": [
    "display(OnePiece.figure.plot_bar(y_; la = la))"
   ]
  },
  {
   "cell_type": "code",
   "execution_count": null,
   "id": "7a950a15",
   "metadata": {
    "execution": {
     "iopub.execute_input": "2022-02-14T15:20:35.503572Z",
     "iopub.status.busy": "2022-02-14T15:20:35.502989Z",
     "iopub.status.idle": "2022-02-14T15:20:35.626047Z",
     "shell.execute_reply": "2022-02-14T15:20:35.625591Z"
    }
   },
   "outputs": [],
   "source": [
    "name1 = \"Orange\"\n",
    "\n",
    "name2 = \"Blue\"\n",
    "\n",
    "name_ = [name1, name2]\n",
    "\n",
    "x1 = [-2, -1, 0]\n",
    "\n",
    "x2 = .-reverse(x1)\n",
    "\n",
    "x_ = [x1, x2]\n",
    "\n",
    "display(OnePiece.figure.plot_bar(y_, x_; name_ = name_, la = la))"
   ]
  },
  {
   "cell_type": "code",
   "execution_count": null,
   "id": "4febf9ea",
   "metadata": {
    "execution": {
     "iopub.execute_input": "2022-02-14T15:20:35.628165Z",
     "iopub.status.busy": "2022-02-14T15:20:35.627515Z",
     "iopub.status.idle": "2022-02-14T15:20:35.654209Z",
     "shell.execute_reply": "2022-02-14T15:20:35.654657Z"
    }
   },
   "outputs": [],
   "source": [
    "push!(name_, \"Name 3\")\n",
    "\n",
    "push!(y_, [9])\n",
    "\n",
    "push!(x_, [0])\n",
    "\n",
    "display(OnePiece.figure.plot_bar(y_, x_; name_ = name_, la = la))"
   ]
  },
  {
   "cell_type": "code",
   "execution_count": null,
   "id": "963fdc7d",
   "metadata": {
    "execution": {
     "iopub.execute_input": "2022-02-14T15:20:35.656738Z",
     "iopub.status.busy": "2022-02-14T15:20:35.656136Z",
     "iopub.status.idle": "2022-02-14T15:20:35.846846Z",
     "shell.execute_reply": "2022-02-14T15:20:35.847269Z"
    }
   },
   "outputs": [],
   "source": [
    "display(\n",
    "    OnePiece.figure.plot_bar(\n",
    "        y_,\n",
    "        x_;\n",
    "        name_ = name_,\n",
    "        la = Dict(\"barmode\" => \"stack\"),\n",
    "        ou = joinpath(TE, \"bar.html\"),\n",
    "    ),\n",
    ")"
   ]
  },
  {
   "cell_type": "markdown",
   "id": "1ac66c3b",
   "metadata": {},
   "source": [
    "## plot_heat_map"
   ]
  },
  {
   "cell_type": "code",
   "execution_count": null,
   "id": "9d37bab8",
   "metadata": {
    "execution": {
     "iopub.execute_input": "2022-02-14T15:20:35.849534Z",
     "iopub.status.busy": "2022-02-14T15:20:35.848806Z",
     "iopub.status.idle": "2022-02-14T15:20:36.298387Z",
     "shell.execute_reply": "2022-02-14T15:20:36.297738Z"
    }
   },
   "outputs": [],
   "source": [
    "ma = convert(Matrix, reshape(1:8, (2, 4)))"
   ]
  },
  {
   "cell_type": "code",
   "execution_count": null,
   "id": "36665ec2",
   "metadata": {
    "execution": {
     "iopub.execute_input": "2022-02-14T15:20:36.300198Z",
     "iopub.status.busy": "2022-02-14T15:20:36.299703Z",
     "iopub.status.idle": "2022-02-14T15:20:36.603548Z",
     "shell.execute_reply": "2022-02-14T15:20:36.603921Z"
    }
   },
   "outputs": [],
   "source": [
    "display(\n",
    "    OnePiece.figure.plot_heat_map(\n",
    "        ma,\n",
    "        [string(\"Row\", id) for id in 1:size(ma, 1)],\n",
    "        [string(\"Column\", id) for id in 1:size(ma, 2)],\n",
    "    ),\n",
    ")"
   ]
  },
  {
   "cell_type": "code",
   "execution_count": null,
   "id": "975108c0",
   "metadata": {
    "execution": {
     "iopub.execute_input": "2022-02-14T15:20:36.606415Z",
     "iopub.status.busy": "2022-02-14T15:20:36.605812Z",
     "iopub.status.idle": "2022-02-14T15:20:36.699076Z",
     "shell.execute_reply": "2022-02-14T15:20:36.699617Z"
    }
   },
   "outputs": [],
   "source": [
    "display(OnePiece.figure.plot_heat_map(ma, ou = joinpath(TE, \"heat_map.html\")))"
   ]
  },
  {
   "cell_type": "markdown",
   "id": "3f396855",
   "metadata": {},
   "source": [
    "---"
   ]
  },
  {
   "cell_type": "code",
   "execution_count": null,
   "id": "b4af2023",
   "metadata": {
    "execution": {
     "iopub.execute_input": "2022-02-14T15:20:36.702227Z",
     "iopub.status.busy": "2022-02-14T15:20:36.701424Z",
     "iopub.status.idle": "2022-02-14T15:20:36.705585Z",
     "shell.execute_reply": "2022-02-14T15:20:36.705139Z"
    }
   },
   "outputs": [],
   "source": [
    "if isdir(TE)\n",
    "\n",
    "    rm(TE, recursive = true)\n",
    "\n",
    "    println(\"Removed \", TE, \".\")\n",
    "\n",
    "end"
   ]
  }
 ],
 "metadata": {
  "kernelspec": {
   "display_name": "Julia 1.7.2",
   "language": "julia",
   "name": "julia-1.7"
  },
  "language_info": {
   "file_extension": ".jl",
   "mimetype": "application/julia",
   "name": "julia",
   "version": "1.7.2"
  }
 },
 "nbformat": 4,
 "nbformat_minor": 5
}
