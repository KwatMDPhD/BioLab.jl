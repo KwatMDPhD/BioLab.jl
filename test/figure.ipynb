{
 "cells": [
  {
   "cell_type": "code",
   "execution_count": null,
   "id": "34e4701e",
   "metadata": {
    "execution": {
     "iopub.execute_input": "2022-02-09T22:28:42.054600Z",
     "iopub.status.busy": "2022-02-09T22:28:41.652864Z",
     "iopub.status.idle": "2022-02-09T22:28:42.938151Z",
     "shell.execute_reply": "2022-02-09T22:28:42.937638Z"
    }
   },
   "outputs": [],
   "source": [
    "using Revise\n",
    "using BenchmarkTools"
   ]
  },
  {
   "cell_type": "code",
   "execution_count": null,
   "id": "6436b741",
   "metadata": {
    "execution": {
     "iopub.execute_input": "2022-02-09T22:28:42.940312Z",
     "iopub.status.busy": "2022-02-09T22:28:42.939771Z",
     "iopub.status.idle": "2022-02-09T22:28:53.106044Z",
     "shell.execute_reply": "2022-02-09T22:28:53.105520Z"
    }
   },
   "outputs": [],
   "source": [
    "using PlotlyJS\n",
    "\n",
    "using OnePiece"
   ]
  },
  {
   "cell_type": "code",
   "execution_count": null,
   "id": "836e7390",
   "metadata": {
    "execution": {
     "iopub.execute_input": "2022-02-09T22:28:54.842147Z",
     "iopub.status.busy": "2022-02-09T22:28:53.107347Z",
     "iopub.status.idle": "2022-02-09T22:28:57.677144Z",
     "shell.execute_reply": "2022-02-09T22:28:57.676693Z"
    }
   },
   "outputs": [],
   "source": [
    "tr_ = Vector{GenericTrace}()\n",
    "\n",
    "la = Layout(title = \"Title\", yaxis_title = \"Y-Axis Title\", xaxis_title = \"X-Axis Title\")\n",
    "\n",
    ";"
   ]
  },
  {
   "cell_type": "markdown",
   "id": "6809059e",
   "metadata": {},
   "source": [
    "## plot"
   ]
  },
  {
   "cell_type": "code",
   "execution_count": null,
   "id": "5bd282d2",
   "metadata": {
    "execution": {
     "iopub.execute_input": "2022-02-09T22:28:57.679114Z",
     "iopub.status.busy": "2022-02-09T22:28:57.678493Z",
     "iopub.status.idle": "2022-02-09T22:29:01.899981Z",
     "shell.execute_reply": "2022-02-09T22:29:01.899514Z"
    }
   },
   "outputs": [],
   "source": [
    "OnePiece.figure.plot(tr_, la)"
   ]
  },
  {
   "cell_type": "markdown",
   "id": "a2513ee0",
   "metadata": {},
   "source": [
    "## write"
   ]
  },
  {
   "cell_type": "code",
   "execution_count": null,
   "id": "3066f153",
   "metadata": {
    "execution": {
     "iopub.execute_input": "2022-02-09T22:29:01.902318Z",
     "iopub.status.busy": "2022-02-09T22:29:01.901629Z",
     "iopub.status.idle": "2022-02-09T22:29:02.705750Z",
     "shell.execute_reply": "2022-02-09T22:29:02.705355Z"
    }
   },
   "outputs": [],
   "source": [
    "pl = OnePiece.figure.plot(tr_)\n",
    "\n",
    "OnePiece.figure.write(joinpath(tempdir(), \"snow.png\"), pl, 400, 200, 1.0)"
   ]
  },
  {
   "cell_type": "code",
   "execution_count": null,
   "id": "70a3796d",
   "metadata": {
    "execution": {
     "iopub.execute_input": "2022-02-09T22:29:02.707477Z",
     "iopub.status.busy": "2022-02-09T22:29:02.706916Z",
     "iopub.status.idle": "2022-02-09T22:29:02.719778Z",
     "shell.execute_reply": "2022-02-09T22:29:02.719276Z"
    }
   },
   "outputs": [],
   "source": [
    "x1 = [-1, 0, 2]\n",
    "\n",
    "x2 = [-2, -1, 0, 2, 4]\n",
    "\n",
    ";"
   ]
  },
  {
   "cell_type": "code",
   "execution_count": null,
   "id": "1273971b",
   "metadata": {
    "execution": {
     "iopub.execute_input": "2022-02-09T22:29:02.721539Z",
     "iopub.status.busy": "2022-02-09T22:29:02.720963Z",
     "iopub.status.idle": "2022-02-09T22:29:02.770685Z",
     "shell.execute_reply": "2022-02-09T22:29:02.770244Z"
    }
   },
   "outputs": [],
   "source": [
    "y1 = x1 .* 10\n",
    "\n",
    "y2 = x2 .* 20\n",
    "\n",
    ";"
   ]
  },
  {
   "cell_type": "markdown",
   "id": "ced90427",
   "metadata": {},
   "source": [
    "## plot_x_y"
   ]
  },
  {
   "cell_type": "code",
   "execution_count": null,
   "id": "b6a32634",
   "metadata": {
    "execution": {
     "iopub.execute_input": "2022-02-09T22:29:02.772441Z",
     "iopub.status.busy": "2022-02-09T22:29:02.771953Z",
     "iopub.status.idle": "2022-02-09T22:29:03.571151Z",
     "shell.execute_reply": "2022-02-09T22:29:03.570591Z"
    }
   },
   "outputs": [],
   "source": [
    "OnePiece.figure.plot_x_y([y1, y2], [x1, x2]; la = la)"
   ]
  },
  {
   "cell_type": "code",
   "execution_count": null,
   "id": "7fc47cde",
   "metadata": {
    "execution": {
     "iopub.execute_input": "2022-02-09T22:29:03.573326Z",
     "iopub.status.busy": "2022-02-09T22:29:03.572832Z",
     "iopub.status.idle": "2022-02-09T22:29:03.626832Z",
     "shell.execute_reply": "2022-02-09T22:29:03.626393Z"
    }
   },
   "outputs": [],
   "source": [
    "OnePiece.figure.plot_x_y([y1, y2]; la = la)"
   ]
  },
  {
   "cell_type": "markdown",
   "id": "3ac78e65",
   "metadata": {},
   "source": [
    "## plot_bar"
   ]
  },
  {
   "cell_type": "code",
   "execution_count": null,
   "id": "9efd367f",
   "metadata": {
    "execution": {
     "iopub.execute_input": "2022-02-09T22:29:03.628835Z",
     "iopub.status.busy": "2022-02-09T22:29:03.628232Z",
     "iopub.status.idle": "2022-02-09T22:29:03.683086Z",
     "shell.execute_reply": "2022-02-09T22:29:03.681849Z"
    }
   },
   "outputs": [],
   "source": [
    "OnePiece.figure.plot_bar([y1, y2], [x1, x2]; la = la)"
   ]
  },
  {
   "cell_type": "code",
   "execution_count": null,
   "id": "1abb7102",
   "metadata": {
    "execution": {
     "iopub.execute_input": "2022-02-09T22:29:03.685238Z",
     "iopub.status.busy": "2022-02-09T22:29:03.684654Z",
     "iopub.status.idle": "2022-02-09T22:29:03.812987Z",
     "shell.execute_reply": "2022-02-09T22:29:03.811629Z"
    }
   },
   "outputs": [],
   "source": [
    "OnePiece.figure.plot_bar([y1, y2]; la = la)"
   ]
  },
  {
   "cell_type": "code",
   "execution_count": null,
   "id": "f7e73bd2",
   "metadata": {
    "execution": {
     "iopub.execute_input": "2022-02-09T22:29:03.814769Z",
     "iopub.status.busy": "2022-02-09T22:29:03.814238Z",
     "iopub.status.idle": "2022-02-09T22:29:03.858105Z",
     "shell.execute_reply": "2022-02-09T22:29:03.857723Z"
    }
   },
   "outputs": [],
   "source": [
    "name1 = \"Orange\"\n",
    "\n",
    "name2 = \"Blue\"\n",
    "\n",
    "name_ = [name1, name2]\n",
    "\n",
    "y1 = [1, 2, 3]\n",
    "\n",
    "y2 = [3, 2, 1]\n",
    "\n",
    "y_ = [y1, y2]\n",
    "\n",
    "x1 = [1, 2, 3]\n",
    "\n",
    "x2 = x1\n",
    "\n",
    "x_ = [x1, x2]\n",
    "\n",
    "OnePiece.figure.plot_bar(y_, x_; name_ = name_)"
   ]
  },
  {
   "cell_type": "markdown",
   "id": "1ac66c3b",
   "metadata": {},
   "source": [
    "## plot_heat_map"
   ]
  },
  {
   "cell_type": "code",
   "execution_count": null,
   "id": "9d37bab8",
   "metadata": {
    "execution": {
     "iopub.execute_input": "2022-02-09T22:29:03.860253Z",
     "iopub.status.busy": "2022-02-09T22:29:03.859724Z",
     "iopub.status.idle": "2022-02-09T22:29:04.682684Z",
     "shell.execute_reply": "2022-02-09T22:29:04.682164Z"
    }
   },
   "outputs": [],
   "source": [
    "ma = convert(Matrix, reshape(1:8, (2, 4)))"
   ]
  },
  {
   "cell_type": "code",
   "execution_count": null,
   "id": "36665ec2",
   "metadata": {
    "execution": {
     "iopub.execute_input": "2022-02-09T22:29:04.684526Z",
     "iopub.status.busy": "2022-02-09T22:29:04.684032Z",
     "iopub.status.idle": "2022-02-09T22:29:05.160834Z",
     "shell.execute_reply": "2022-02-09T22:29:05.160445Z"
    }
   },
   "outputs": [],
   "source": [
    "OnePiece.figure.plot_heat_map(\n",
    "    ma,\n",
    "    [string(\"Row\", id) for id in 1:size(ma, 1)],\n",
    "    [string(\"Column\", id) for id in 1:size(ma, 2)],\n",
    ")"
   ]
  },
  {
   "cell_type": "code",
   "execution_count": null,
   "id": "975108c0",
   "metadata": {
    "execution": {
     "iopub.execute_input": "2022-02-09T22:29:05.162594Z",
     "iopub.status.busy": "2022-02-09T22:29:05.162107Z",
     "iopub.status.idle": "2022-02-09T22:29:05.340555Z",
     "shell.execute_reply": "2022-02-09T22:29:05.339119Z"
    }
   },
   "outputs": [],
   "source": [
    "OnePiece.figure.plot_heat_map(ma)"
   ]
  }
 ],
 "metadata": {
  "@webio": {
   "lastCommId": "d4725e85d6d5441793354800d309fa7f",
   "lastKernelId": "97d2a783-61c6-486b-a1ea-8261d5e2be56"
  },
  "kernelspec": {
   "display_name": "Julia 1.7.2",
   "language": "julia",
   "name": "julia-1.7"
  },
  "language_info": {
   "file_extension": ".jl",
   "mimetype": "application/julia",
   "name": "julia",
   "version": "1.7.2"
  }
 },
 "nbformat": 4,
 "nbformat_minor": 5
}
