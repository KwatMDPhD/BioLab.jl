{
 "cells": [
  {
   "cell_type": "code",
   "execution_count": null,
   "id": "017464da",
   "metadata": {},
   "outputs": [],
   "source": [
    "TE = joinpath(tempdir(), \"OnePiece.test\")\n",
    "\n",
    "mkpath(TE)"
   ]
  },
  {
   "cell_type": "code",
   "execution_count": null,
   "id": "34e4701e",
   "metadata": {
    "execution": {
     "iopub.execute_input": "2022-02-10T17:51:23.590384Z",
     "iopub.status.busy": "2022-02-10T17:51:23.250154Z",
     "iopub.status.idle": "2022-02-10T17:51:24.482021Z",
     "shell.execute_reply": "2022-02-10T17:51:24.481306Z"
    }
   },
   "outputs": [],
   "source": [
    "using OnePiece"
   ]
  },
  {
   "cell_type": "markdown",
   "id": "b92a3da9",
   "metadata": {},
   "source": [
    "---"
   ]
  },
  {
   "cell_type": "markdown",
   "id": "6809059e",
   "metadata": {},
   "source": [
    "## plot"
   ]
  },
  {
   "cell_type": "code",
   "execution_count": null,
   "id": "2329cb27",
   "metadata": {
    "execution": {
     "iopub.execute_input": "2022-02-10T20:43:25.669346Z",
     "iopub.status.busy": "2022-02-10T20:43:25.205319Z",
     "iopub.status.idle": "2022-02-10T20:43:25.725338Z",
     "shell.execute_reply": "2022-02-10T20:43:25.724801Z"
    }
   },
   "outputs": [],
   "source": [
    "using PlotlyLight"
   ]
  },
  {
   "cell_type": "code",
   "execution_count": null,
   "id": "f55a7149",
   "metadata": {
    "execution": {
     "iopub.execute_input": "2022-02-10T20:43:25.727314Z",
     "iopub.status.busy": "2022-02-10T20:43:25.726695Z",
     "iopub.status.idle": "2022-02-10T20:43:28.135943Z",
     "shell.execute_reply": "2022-02-10T20:43:28.135465Z"
    }
   },
   "outputs": [],
   "source": [
    "tr_ = [Dict()]\n",
    "\n",
    "OnePiece.figure.plot(tr_)"
   ]
  },
  {
   "cell_type": "code",
   "execution_count": null,
   "id": "ceb911ba",
   "metadata": {
    "execution": {
     "iopub.execute_input": "2022-02-10T20:43:28.137954Z",
     "iopub.status.busy": "2022-02-10T20:43:28.137339Z",
     "iopub.status.idle": "2022-02-10T20:43:28.949715Z",
     "shell.execute_reply": "2022-02-10T20:43:28.949167Z"
    }
   },
   "outputs": [],
   "source": [
    "la = Config(\n",
    "    template = \"plotly_dark\",\n",
    "    title = \"Title\",\n",
    "    yaxis = Config(title = \"Y-Axis Title\"),\n",
    "    xaxis = Config(title = \"X-Axis Title\"),\n",
    ")\n",
    "\n",
    "display(OnePiece.figure.plot(tr_, la))"
   ]
  },
  {
   "cell_type": "code",
   "execution_count": null,
   "id": "303451fd",
   "metadata": {
    "execution": {
     "iopub.execute_input": "2022-02-10T20:43:28.951866Z",
     "iopub.status.busy": "2022-02-10T20:43:28.951204Z",
     "iopub.status.idle": "2022-02-10T20:43:28.988119Z",
     "shell.execute_reply": "2022-02-10T20:43:28.987642Z"
    }
   },
   "outputs": [],
   "source": [
    "co = Config(displaylog = true)\n",
    "\n",
    "display(OnePiece.figure.plot(tr_, la, co))"
   ]
  },
  {
   "cell_type": "markdown",
   "id": "a2513ee0",
   "metadata": {},
   "source": [
    "## write"
   ]
  },
  {
   "cell_type": "code",
   "execution_count": null,
   "id": "3066f153",
   "metadata": {
    "execution": {
     "iopub.execute_input": "2022-02-10T20:43:28.991050Z",
     "iopub.status.busy": "2022-02-10T20:43:28.990277Z",
     "iopub.status.idle": "2022-02-10T20:43:28.992594Z",
     "shell.execute_reply": "2022-02-10T20:43:28.992050Z"
    }
   },
   "outputs": [],
   "source": [
    "pl = OnePiece.figure.plot(tr_)\n",
    "\n",
    "OnePiece.figure.write(joinpath(tempdir(), \"snow.png\"), pl, 400, 200, 1.0)"
   ]
  },
  {
   "cell_type": "markdown",
   "id": "ced90427",
   "metadata": {},
   "source": [
    "## plot_x_y"
   ]
  },
  {
   "cell_type": "code",
   "execution_count": null,
   "id": "8d7065b0",
   "metadata": {
    "execution": {
     "iopub.execute_input": "2022-02-10T20:43:28.994691Z",
     "iopub.status.busy": "2022-02-10T20:43:28.994077Z",
     "iopub.status.idle": "2022-02-10T20:43:29.067973Z",
     "shell.execute_reply": "2022-02-10T20:43:29.067249Z"
    }
   },
   "outputs": [],
   "source": [
    "x1 = [-1, 0, 2]\n",
    "\n",
    "x2 = [3, 4]\n",
    "\n",
    "x_ = [x1, x2]\n",
    "\n",
    "y1 = x1 .* 10\n",
    "\n",
    "y2 = x2 .* 20\n",
    "\n",
    "y_ = [y1, y2]\n",
    "\n",
    ";"
   ]
  },
  {
   "cell_type": "code",
   "execution_count": null,
   "id": "a8798a0a",
   "metadata": {
    "execution": {
     "iopub.execute_input": "2022-02-10T20:43:29.070277Z",
     "iopub.status.busy": "2022-02-10T20:43:29.069555Z",
     "iopub.status.idle": "2022-02-10T20:43:29.682111Z",
     "shell.execute_reply": "2022-02-10T20:43:29.681523Z"
    }
   },
   "outputs": [],
   "source": [
    "display(OnePiece.figure.plot_x_y(y_))"
   ]
  },
  {
   "cell_type": "code",
   "execution_count": null,
   "id": "268b8935",
   "metadata": {
    "execution": {
     "iopub.execute_input": "2022-02-10T20:43:29.684108Z",
     "iopub.status.busy": "2022-02-10T20:43:29.683468Z",
     "iopub.status.idle": "2022-02-10T20:43:29.728358Z",
     "shell.execute_reply": "2022-02-10T20:43:29.728924Z"
    }
   },
   "outputs": [],
   "source": [
    "display(OnePiece.figure.plot_x_y(y_; la = la))"
   ]
  },
  {
   "cell_type": "code",
   "execution_count": null,
   "id": "aaf9a733",
   "metadata": {
    "execution": {
     "iopub.execute_input": "2022-02-10T20:43:29.732396Z",
     "iopub.status.busy": "2022-02-10T20:43:29.731345Z",
     "iopub.status.idle": "2022-02-10T20:43:29.809300Z",
     "shell.execute_reply": "2022-02-10T20:43:29.808452Z"
    }
   },
   "outputs": [],
   "source": [
    "display(OnePiece.figure.plot_x_y(y_, x_; la = la))"
   ]
  },
  {
   "cell_type": "markdown",
   "id": "3ac78e65",
   "metadata": {},
   "source": [
    "## plot_bar"
   ]
  },
  {
   "cell_type": "code",
   "execution_count": null,
   "id": "b248787f",
   "metadata": {
    "execution": {
     "iopub.execute_input": "2022-02-10T20:43:29.811950Z",
     "iopub.status.busy": "2022-02-10T20:43:29.811183Z",
     "iopub.status.idle": "2022-02-10T20:43:30.995423Z",
     "shell.execute_reply": "2022-02-10T20:43:30.994945Z"
    }
   },
   "outputs": [],
   "source": [
    "y1 = [-1, 2, 5]\n",
    "\n",
    "y2 = reverse(y1)\n",
    "\n",
    "y_ = [y1, y2]"
   ]
  },
  {
   "cell_type": "code",
   "execution_count": null,
   "id": "b4bc6e6b",
   "metadata": {
    "execution": {
     "iopub.execute_input": "2022-02-10T20:43:30.997424Z",
     "iopub.status.busy": "2022-02-10T20:43:30.996800Z",
     "iopub.status.idle": "2022-02-10T20:43:31.059727Z",
     "shell.execute_reply": "2022-02-10T20:43:31.059240Z"
    }
   },
   "outputs": [],
   "source": [
    "display(OnePiece.figure.plot_bar(y_))"
   ]
  },
  {
   "cell_type": "code",
   "execution_count": null,
   "id": "79736494",
   "metadata": {
    "execution": {
     "iopub.execute_input": "2022-02-10T20:43:31.061755Z",
     "iopub.status.busy": "2022-02-10T20:43:31.061080Z",
     "iopub.status.idle": "2022-02-10T20:43:31.102420Z",
     "shell.execute_reply": "2022-02-10T20:43:31.101927Z"
    }
   },
   "outputs": [],
   "source": [
    "display(OnePiece.figure.plot_bar(y_; la = la))"
   ]
  },
  {
   "cell_type": "code",
   "execution_count": null,
   "id": "7a950a15",
   "metadata": {
    "execution": {
     "iopub.execute_input": "2022-02-10T20:43:31.105532Z",
     "iopub.status.busy": "2022-02-10T20:43:31.104436Z",
     "iopub.status.idle": "2022-02-10T20:43:31.244711Z",
     "shell.execute_reply": "2022-02-10T20:43:31.245180Z"
    }
   },
   "outputs": [],
   "source": [
    "name1 = \"Orange\"\n",
    "\n",
    "name2 = \"Blue\"\n",
    "\n",
    "name_ = [name1, name2]\n",
    "\n",
    "x1 = [-2, -1, 0]\n",
    "\n",
    "x2 = .-reverse(x1)\n",
    "\n",
    "x_ = [x1, x2]\n",
    "\n",
    "display(OnePiece.figure.plot_bar(y_, x_; name_ = name_, la = la))"
   ]
  },
  {
   "cell_type": "code",
   "execution_count": null,
   "id": "4febf9ea",
   "metadata": {
    "execution": {
     "iopub.execute_input": "2022-02-10T20:43:31.247691Z",
     "iopub.status.busy": "2022-02-10T20:43:31.246923Z",
     "iopub.status.idle": "2022-02-10T20:43:31.278259Z",
     "shell.execute_reply": "2022-02-10T20:43:31.277630Z"
    }
   },
   "outputs": [],
   "source": [
    "push!(name_, \"Name 3\")\n",
    "\n",
    "push!(y_, [9])\n",
    "\n",
    "push!(x_, [0])\n",
    "\n",
    "display(OnePiece.figure.plot_bar(y_, x_; name_ = name_, la = la))"
   ]
  },
  {
   "cell_type": "code",
   "execution_count": null,
   "id": "963fdc7d",
   "metadata": {
    "execution": {
     "iopub.execute_input": "2022-02-10T20:43:31.280724Z",
     "iopub.status.busy": "2022-02-10T20:43:31.280013Z",
     "iopub.status.idle": "2022-02-10T20:43:31.511879Z",
     "shell.execute_reply": "2022-02-10T20:43:31.511384Z"
    }
   },
   "outputs": [],
   "source": [
    "display(OnePiece.figure.plot_bar(y_, x_; name_ = name_, la = Dict(\"barmode\" => \"stack\")))"
   ]
  },
  {
   "cell_type": "markdown",
   "id": "1ac66c3b",
   "metadata": {},
   "source": [
    "## plot_heat_map"
   ]
  },
  {
   "cell_type": "code",
   "execution_count": null,
   "id": "9d37bab8",
   "metadata": {
    "execution": {
     "iopub.execute_input": "2022-02-10T20:43:31.514354Z",
     "iopub.status.busy": "2022-02-10T20:43:31.513564Z",
     "iopub.status.idle": "2022-02-10T20:43:32.031788Z",
     "shell.execute_reply": "2022-02-10T20:43:32.031299Z"
    }
   },
   "outputs": [],
   "source": [
    "ma = convert(Matrix, reshape(1:8, (2, 4)))"
   ]
  },
  {
   "cell_type": "code",
   "execution_count": null,
   "id": "36665ec2",
   "metadata": {
    "execution": {
     "iopub.execute_input": "2022-02-10T20:43:32.034000Z",
     "iopub.status.busy": "2022-02-10T20:43:32.033283Z",
     "iopub.status.idle": "2022-02-10T20:43:32.427939Z",
     "shell.execute_reply": "2022-02-10T20:43:32.428419Z"
    }
   },
   "outputs": [],
   "source": [
    "display(\n",
    "    OnePiece.figure.plot_heat_map(\n",
    "        ma,\n",
    "        [string(\"Row\", id) for id in 1:size(ma, 1)],\n",
    "        [string(\"Column\", id) for id in 1:size(ma, 2)],\n",
    "    ),\n",
    ")"
   ]
  },
  {
   "cell_type": "code",
   "execution_count": null,
   "id": "975108c0",
   "metadata": {
    "execution": {
     "iopub.execute_input": "2022-02-10T20:43:32.430761Z",
     "iopub.status.busy": "2022-02-10T20:43:32.430043Z",
     "iopub.status.idle": "2022-02-10T20:43:32.552315Z",
     "shell.execute_reply": "2022-02-10T20:43:32.551726Z"
    }
   },
   "outputs": [],
   "source": [
    "display(OnePiece.figure.plot_heat_map(ma))"
   ]
  },
  {
   "cell_type": "markdown",
   "id": "3f396855",
   "metadata": {},
   "source": [
    "---"
   ]
  },
  {
   "cell_type": "code",
   "execution_count": null,
   "id": "b4af2023",
   "metadata": {},
   "outputs": [],
   "source": [
    "rm(TE; recursive = true)"
   ]
  }
 ],
 "metadata": {
  "kernelspec": {
   "display_name": "Julia 1.7.2",
   "language": "julia",
   "name": "julia-1.7"
  },
  "language_info": {
   "file_extension": ".jl",
   "mimetype": "application/julia",
   "name": "julia",
   "version": "1.7.2"
  }
 },
 "nbformat": 4,
 "nbformat_minor": 5
}
