{
 "cells": [
  {
   "cell_type": "code",
   "execution_count": null,
   "id": "baf12f00",
   "metadata": {
    "execution": {
     "iopub.execute_input": "2022-08-19T09:36:21.885000Z",
     "iopub.status.busy": "2022-08-19T09:36:21.544000Z",
     "iopub.status.idle": "2022-08-19T09:36:26.541000Z",
     "shell.execute_reply": "2022-08-19T09:36:26.494000Z"
    }
   },
   "outputs": [],
   "source": [
    "using OnePiece"
   ]
  },
  {
   "cell_type": "code",
   "execution_count": null,
   "id": "c4b58199",
   "metadata": {
    "execution": {
     "iopub.execute_input": "2022-08-19T09:36:27.162000Z",
     "iopub.status.busy": "2022-08-19T09:36:26.559000Z",
     "iopub.status.idle": "2022-08-19T09:36:27.765000Z",
     "shell.execute_reply": "2022-08-19T09:36:27.765000Z"
    }
   },
   "outputs": [],
   "source": [
    "te = OnePiece.path.make_temporary(\"OnePiece.test.figure\")"
   ]
  },
  {
   "cell_type": "markdown",
   "id": "84e40a06",
   "metadata": {},
   "source": [
    "## plot"
   ]
  },
  {
   "cell_type": "code",
   "execution_count": null,
   "id": "37fb91b2",
   "metadata": {
    "execution": {
     "iopub.execute_input": "2022-08-19T09:36:27.768000Z",
     "iopub.status.busy": "2022-08-19T09:36:27.768000Z",
     "iopub.status.idle": "2022-08-19T09:36:28.758000Z",
     "shell.execute_reply": "2022-08-19T09:36:28.758000Z"
    }
   },
   "outputs": [],
   "source": [
    "data = [Dict()]\n",
    "\n",
    "OnePiece.figure.plot(data)"
   ]
  },
  {
   "cell_type": "code",
   "execution_count": null,
   "id": "ec645662",
   "metadata": {
    "execution": {
     "iopub.execute_input": "2022-08-19T09:36:28.761000Z",
     "iopub.status.busy": "2022-08-19T09:36:28.761000Z",
     "iopub.status.idle": "2022-08-19T09:36:28.923000Z",
     "shell.execute_reply": "2022-08-19T09:36:28.922000Z"
    }
   },
   "outputs": [],
   "source": [
    "layout = Dict(\n",
    "    \"title\" => \"Title\",\n",
    "    \"yaxis\" => Dict(\"title\" => \"Y-Axis Title\"),\n",
    "    \"xaxis\" => Dict(\"title\" => \"X-Axis Title\"),\n",
    ")\n",
    "\n",
    "OnePiece.figure.plot(data, layout)"
   ]
  },
  {
   "cell_type": "code",
   "execution_count": null,
   "id": "ae72a412",
   "metadata": {
    "execution": {
     "iopub.execute_input": "2022-08-19T09:36:28.928000Z",
     "iopub.status.busy": "2022-08-19T09:36:28.928000Z",
     "iopub.status.idle": "2022-08-19T09:36:28.949000Z",
     "shell.execute_reply": "2022-08-19T09:36:28.948000Z"
    }
   },
   "outputs": [],
   "source": [
    "OnePiece.figure.plot(data, ou = joinpath(te, \"output.html\"))"
   ]
  },
  {
   "cell_type": "markdown",
   "id": "01af355b",
   "metadata": {},
   "source": [
    "## plot_bar"
   ]
  },
  {
   "cell_type": "code",
   "execution_count": null,
   "id": "1f297153",
   "metadata": {
    "execution": {
     "iopub.execute_input": "2022-08-19T09:36:28.952000Z",
     "iopub.status.busy": "2022-08-19T09:36:28.952000Z",
     "iopub.status.idle": "2022-08-19T09:36:29.834000Z",
     "shell.execute_reply": "2022-08-19T09:36:29.834000Z"
    }
   },
   "outputs": [],
   "source": [
    "y1 = [-1, 2, 5]\n",
    "\n",
    "y2 = reverse(y1)\n",
    "\n",
    "y_ = [y1, y2]"
   ]
  },
  {
   "cell_type": "code",
   "execution_count": null,
   "id": "2568a640",
   "metadata": {
    "execution": {
     "iopub.execute_input": "2022-08-19T09:36:29.837000Z",
     "iopub.status.busy": "2022-08-19T09:36:29.837000Z",
     "iopub.status.idle": "2022-08-19T09:36:30.619000Z",
     "shell.execute_reply": "2022-08-19T09:36:30.618000Z"
    }
   },
   "outputs": [],
   "source": [
    "OnePiece.figure.plot_bar(y_)"
   ]
  },
  {
   "cell_type": "code",
   "execution_count": null,
   "id": "b9ca7825",
   "metadata": {
    "execution": {
     "iopub.execute_input": "2022-08-19T09:36:30.622000Z",
     "iopub.status.busy": "2022-08-19T09:36:30.622000Z",
     "iopub.status.idle": "2022-08-19T09:36:30.973000Z",
     "shell.execute_reply": "2022-08-19T09:36:30.972000Z"
    }
   },
   "outputs": [],
   "source": [
    "name1 = \"Jonathan\"\n",
    "\n",
    "name2 = \"Joseph\"\n",
    "\n",
    "name_ = [name1, name2]"
   ]
  },
  {
   "cell_type": "code",
   "execution_count": null,
   "id": "1969df42",
   "metadata": {
    "execution": {
     "iopub.execute_input": "2022-08-19T09:36:30.976000Z",
     "iopub.status.busy": "2022-08-19T09:36:30.976000Z",
     "iopub.status.idle": "2022-08-19T09:36:31.016000Z",
     "shell.execute_reply": "2022-08-19T09:36:31.016000Z"
    }
   },
   "outputs": [],
   "source": [
    "x1 = [-2, -1, 0]\n",
    "\n",
    "x2 = .-reverse(x1)\n",
    "\n",
    "x_ = [x1, x2]"
   ]
  },
  {
   "cell_type": "code",
   "execution_count": null,
   "id": "e26efbb2",
   "metadata": {
    "execution": {
     "iopub.execute_input": "2022-08-19T09:36:31.019000Z",
     "iopub.status.busy": "2022-08-19T09:36:31.019000Z",
     "iopub.status.idle": "2022-08-19T09:36:31.140000Z",
     "shell.execute_reply": "2022-08-19T09:36:31.139000Z"
    }
   },
   "outputs": [],
   "source": [
    "OnePiece.figure.plot_bar(y_, x_, name_ = name_)"
   ]
  },
  {
   "cell_type": "code",
   "execution_count": null,
   "id": "5091099b",
   "metadata": {
    "execution": {
     "iopub.execute_input": "2022-08-19T09:36:31.143000Z",
     "iopub.status.busy": "2022-08-19T09:36:31.143000Z",
     "iopub.status.idle": "2022-08-19T09:36:31.148000Z",
     "shell.execute_reply": "2022-08-19T09:36:31.148000Z"
    }
   },
   "outputs": [],
   "source": [
    "push!(name_, \"Jotaro\")\n",
    "\n",
    "push!(y_, [8])\n",
    "\n",
    "push!(x_, [0])\n",
    "\n",
    "OnePiece.figure.plot_bar(y_, x_, name_ = name_)"
   ]
  },
  {
   "cell_type": "code",
   "execution_count": null,
   "id": "7275f857",
   "metadata": {
    "execution": {
     "iopub.execute_input": "2022-08-19T09:36:31.151000Z",
     "iopub.status.busy": "2022-08-19T09:36:31.151000Z",
     "iopub.status.idle": "2022-08-19T09:36:31.224000Z",
     "shell.execute_reply": "2022-08-19T09:36:31.224000Z"
    }
   },
   "outputs": [],
   "source": [
    "OnePiece.figure.plot_bar(\n",
    "    y_,\n",
    "    x_,\n",
    "    name_ = name_,\n",
    "    layout = Dict(\"barmode\" => \"stack\", \"title\" => Dict(\"text\" => \"Stack\")),\n",
    "    ou = joinpath(te, \"bar.html\"),\n",
    ")"
   ]
  },
  {
   "cell_type": "markdown",
   "id": "6c8e6968",
   "metadata": {},
   "source": [
    "## plot_heat_map"
   ]
  },
  {
   "cell_type": "code",
   "execution_count": null,
   "id": "4f9637cd",
   "metadata": {
    "execution": {
     "iopub.execute_input": "2022-08-19T09:36:31.228000Z",
     "iopub.status.busy": "2022-08-19T09:36:31.227000Z",
     "iopub.status.idle": "2022-08-19T09:36:31.673000Z",
     "shell.execute_reply": "2022-08-19T09:36:31.672000Z"
    }
   },
   "outputs": [],
   "source": [
    "ma = OnePiece.matrix.simulate(2, 4)"
   ]
  },
  {
   "cell_type": "code",
   "execution_count": null,
   "id": "31b0f214",
   "metadata": {
    "execution": {
     "iopub.execute_input": "2022-08-19T09:36:31.676000Z",
     "iopub.status.busy": "2022-08-19T09:36:31.675000Z",
     "iopub.status.idle": "2022-08-19T09:36:32.109000Z",
     "shell.execute_reply": "2022-08-19T09:36:32.109000Z"
    }
   },
   "outputs": [],
   "source": [
    "OnePiece.figure.plot_heat_map(\n",
    "    ma,\n",
    "    [\"Row$id\" for id in 1:size(ma, 1)],\n",
    "    [\"Column$id\" for id in 1:size(ma, 2)],\n",
    ")"
   ]
  },
  {
   "cell_type": "code",
   "execution_count": null,
   "id": "e8d39c80",
   "metadata": {
    "execution": {
     "iopub.execute_input": "2022-08-19T09:36:32.112000Z",
     "iopub.status.busy": "2022-08-19T09:36:32.112000Z",
     "iopub.status.idle": "2022-08-19T09:36:32.155000Z",
     "shell.execute_reply": "2022-08-19T09:36:32.154000Z"
    }
   },
   "outputs": [],
   "source": [
    "OnePiece.figure.plot_heat_map(ma, ou = joinpath(te, \"heat_map.html\"))"
   ]
  },
  {
   "cell_type": "markdown",
   "id": "a48817d0",
   "metadata": {},
   "source": [
    "## plot_histogram"
   ]
  },
  {
   "cell_type": "code",
   "execution_count": null,
   "id": "34d85b5d",
   "metadata": {
    "execution": {
     "iopub.execute_input": "2022-08-19T09:36:32.158000Z",
     "iopub.status.busy": "2022-08-19T09:36:32.158000Z",
     "iopub.status.idle": "2022-08-19T09:36:33.892000Z",
     "shell.execute_reply": "2022-08-19T09:36:33.892000Z"
    }
   },
   "outputs": [],
   "source": [
    "x_ = [[-1], [0, 1], [2, 3, 4]]\n",
    "\n",
    "OnePiece.figure.plot_histogram(x_)"
   ]
  },
  {
   "cell_type": "code",
   "execution_count": null,
   "id": "866a3d3e",
   "metadata": {
    "execution": {
     "iopub.execute_input": "2022-08-19T09:36:33.896000Z",
     "iopub.status.busy": "2022-08-19T09:36:33.895000Z",
     "iopub.status.idle": "2022-08-19T09:36:34.358000Z",
     "shell.execute_reply": "2022-08-19T09:36:34.357000Z"
    }
   },
   "outputs": [],
   "source": [
    "text_ = [[\"1A\"], [\"2A\", \"2B\"], [\"3A\", \"3B\", \"3C\"]]\n",
    "\n",
    "OnePiece.figure.plot_histogram(x_, text_)"
   ]
  },
  {
   "cell_type": "code",
   "execution_count": null,
   "id": "e0a6957a",
   "metadata": {
    "execution": {
     "iopub.execute_input": "2022-08-19T09:36:34.361000Z",
     "iopub.status.busy": "2022-08-19T09:36:34.361000Z",
     "iopub.status.idle": "2022-08-19T09:36:34.667000Z",
     "shell.execute_reply": "2022-08-19T09:36:34.667000Z"
    }
   },
   "outputs": [],
   "source": [
    "OnePiece.figure.plot_histogram(x_, text_, xbins_size = 1)"
   ]
  },
  {
   "cell_type": "markdown",
   "id": "4889aca0",
   "metadata": {},
   "source": [
    "## plot_scatter"
   ]
  },
  {
   "cell_type": "code",
   "execution_count": null,
   "id": "58a30a5c",
   "metadata": {
    "execution": {
     "iopub.execute_input": "2022-08-19T09:36:34.670000Z",
     "iopub.status.busy": "2022-08-19T09:36:34.670000Z",
     "iopub.status.idle": "2022-08-19T09:36:34.674000Z",
     "shell.execute_reply": "2022-08-19T09:36:34.673000Z"
    }
   },
   "outputs": [],
   "source": [
    "x1 = [-1, 0, 2]\n",
    "\n",
    "x2 = [3, 4]\n",
    "\n",
    "x_ = [x1, x2]"
   ]
  },
  {
   "cell_type": "code",
   "execution_count": null,
   "id": "aec95893",
   "metadata": {
    "execution": {
     "iopub.execute_input": "2022-08-19T09:36:34.676000Z",
     "iopub.status.busy": "2022-08-19T09:36:34.676000Z",
     "iopub.status.idle": "2022-08-19T09:36:34.721000Z",
     "shell.execute_reply": "2022-08-19T09:36:34.720000Z"
    }
   },
   "outputs": [],
   "source": [
    "y1 = x1 .* 10\n",
    "\n",
    "y2 = x2 .* 20\n",
    "\n",
    "y_ = [y1, y2]"
   ]
  },
  {
   "cell_type": "code",
   "execution_count": null,
   "id": "f29cca1a",
   "metadata": {
    "execution": {
     "iopub.execute_input": "2022-08-19T09:36:34.724000Z",
     "iopub.status.busy": "2022-08-19T09:36:34.724000Z",
     "iopub.status.idle": "2022-08-19T09:36:34.912000Z",
     "shell.execute_reply": "2022-08-19T09:36:34.912000Z"
    }
   },
   "outputs": [],
   "source": [
    "OnePiece.figure.plot_scatter(y_)"
   ]
  },
  {
   "cell_type": "code",
   "execution_count": null,
   "id": "672c6dab",
   "metadata": {
    "execution": {
     "iopub.execute_input": "2022-08-19T09:36:34.915000Z",
     "iopub.status.busy": "2022-08-19T09:36:34.915000Z",
     "iopub.status.idle": "2022-08-19T09:36:35.077000Z",
     "shell.execute_reply": "2022-08-19T09:36:35.077000Z"
    }
   },
   "outputs": [],
   "source": [
    "OnePiece.figure.plot_scatter(y_, x_, ou = joinpath(te, \"scatter.html\"))"
   ]
  }
 ],
 "metadata": {
  "@webio": {
   "lastCommId": null,
   "lastKernelId": null
  },
  "kernelspec": {
   "display_name": "Julia 1.7.3",
   "language": "julia",
   "name": "julia-1.7"
  },
  "language_info": {
   "file_extension": ".jl",
   "mimetype": "application/julia",
   "name": "julia",
   "version": "1.7.3"
  }
 },
 "nbformat": 4,
 "nbformat_minor": 5
}
