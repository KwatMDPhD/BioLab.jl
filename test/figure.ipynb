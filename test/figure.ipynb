{
 "cells": [
  {
   "cell_type": "code",
   "execution_count": null,
   "id": "34e4701e",
   "metadata": {
    "execution": {
     "iopub.execute_input": "2022-02-08T03:21:08.714600Z",
     "iopub.status.busy": "2022-02-08T03:21:08.305410Z",
     "iopub.status.idle": "2022-02-08T03:21:09.551410Z",
     "shell.execute_reply": "2022-02-08T03:21:09.550899Z"
    }
   },
   "outputs": [],
   "source": [
    "using Revise\n",
    "using BenchmarkTools"
   ]
  },
  {
   "cell_type": "code",
   "execution_count": null,
   "id": "6436b741",
   "metadata": {
    "execution": {
     "iopub.execute_input": "2022-02-08T03:21:09.554063Z",
     "iopub.status.busy": "2022-02-08T03:21:09.553249Z",
     "iopub.status.idle": "2022-02-08T03:21:21.141541Z",
     "shell.execute_reply": "2022-02-08T03:21:21.141081Z"
    }
   },
   "outputs": [],
   "source": [
    "using PlotlyJS\n",
    "\n",
    "using OnePiece"
   ]
  },
  {
   "cell_type": "code",
   "execution_count": null,
   "id": "836e7390",
   "metadata": {
    "execution": {
     "iopub.execute_input": "2022-02-08T03:21:22.674398Z",
     "iopub.status.busy": "2022-02-08T03:21:21.142896Z",
     "iopub.status.idle": "2022-02-08T03:21:25.347187Z",
     "shell.execute_reply": "2022-02-08T03:21:25.346742Z"
    }
   },
   "outputs": [],
   "source": [
    "tr_ = Vector{GenericTrace}()\n",
    "\n",
    "la = Layout(title = \"Title\", yaxis_title = \"Y-Axis Title\", xaxis_title = \"X-Axis Title\")\n",
    "\n",
    ";"
   ]
  },
  {
   "cell_type": "markdown",
   "id": "6809059e",
   "metadata": {},
   "source": [
    "## plot"
   ]
  },
  {
   "cell_type": "code",
   "execution_count": null,
   "id": "5bd282d2",
   "metadata": {
    "execution": {
     "iopub.execute_input": "2022-02-08T03:21:25.349270Z",
     "iopub.status.busy": "2022-02-08T03:21:25.348642Z",
     "iopub.status.idle": "2022-02-08T03:21:29.621372Z",
     "shell.execute_reply": "2022-02-08T03:21:29.620968Z"
    }
   },
   "outputs": [],
   "source": [
    "OnePiece.figure.plot(tr_, la)"
   ]
  },
  {
   "cell_type": "markdown",
   "id": "a2513ee0",
   "metadata": {},
   "source": [
    "## write"
   ]
  },
  {
   "cell_type": "code",
   "execution_count": null,
   "id": "3066f153",
   "metadata": {
    "execution": {
     "iopub.execute_input": "2022-02-08T03:21:29.623473Z",
     "iopub.status.busy": "2022-02-08T03:21:29.622807Z",
     "iopub.status.idle": "2022-02-08T03:21:30.287068Z",
     "shell.execute_reply": "2022-02-08T03:21:30.286627Z"
    }
   },
   "outputs": [],
   "source": [
    "pl = OnePiece.figure.plot(tr_)\n",
    "\n",
    "OnePiece.figure.write(joinpath(tempdir(), \"snow.png\"), pl, 400, 200, 1.0)"
   ]
  },
  {
   "cell_type": "code",
   "execution_count": null,
   "id": "70a3796d",
   "metadata": {
    "execution": {
     "iopub.execute_input": "2022-02-08T03:21:30.289050Z",
     "iopub.status.busy": "2022-02-08T03:21:30.288476Z",
     "iopub.status.idle": "2022-02-08T03:21:30.332339Z",
     "shell.execute_reply": "2022-02-08T03:21:30.331955Z"
    }
   },
   "outputs": [],
   "source": [
    "x1 = [-1, 0, 2]\n",
    "\n",
    "x2 = [-2, -1, 0, 2, 4]\n",
    "\n",
    ";"
   ]
  },
  {
   "cell_type": "code",
   "execution_count": null,
   "id": "1273971b",
   "metadata": {
    "execution": {
     "iopub.execute_input": "2022-02-08T03:21:30.334231Z",
     "iopub.status.busy": "2022-02-08T03:21:30.333728Z",
     "iopub.status.idle": "2022-02-08T03:21:30.383796Z",
     "shell.execute_reply": "2022-02-08T03:21:30.383351Z"
    }
   },
   "outputs": [],
   "source": [
    "y1 = x1 .* 10\n",
    "\n",
    "y2 = x2 .* 10\n",
    "\n",
    ";"
   ]
  },
  {
   "cell_type": "markdown",
   "id": "ced90427",
   "metadata": {},
   "source": [
    "## plot_x_y"
   ]
  },
  {
   "cell_type": "code",
   "execution_count": null,
   "id": "b6a32634",
   "metadata": {
    "execution": {
     "iopub.execute_input": "2022-02-08T03:21:30.385773Z",
     "iopub.status.busy": "2022-02-08T03:21:30.385226Z",
     "iopub.status.idle": "2022-02-08T03:21:30.718670Z",
     "shell.execute_reply": "2022-02-08T03:21:30.718302Z"
    }
   },
   "outputs": [],
   "source": [
    "OnePiece.figure.plot_x_y([y1, y2], [x1, x2]; la = la)"
   ]
  },
  {
   "cell_type": "code",
   "execution_count": null,
   "id": "7fc47cde",
   "metadata": {
    "execution": {
     "iopub.execute_input": "2022-02-08T03:21:30.720610Z",
     "iopub.status.busy": "2022-02-08T03:21:30.720033Z",
     "iopub.status.idle": "2022-02-08T03:21:30.942339Z",
     "shell.execute_reply": "2022-02-08T03:21:30.941976Z"
    }
   },
   "outputs": [],
   "source": [
    "OnePiece.figure.plot_x_y([y1, y2]; la = la)"
   ]
  },
  {
   "cell_type": "markdown",
   "id": "3ac78e65",
   "metadata": {},
   "source": [
    "## plot_bar"
   ]
  },
  {
   "cell_type": "code",
   "execution_count": null,
   "id": "9efd367f",
   "metadata": {
    "execution": {
     "iopub.execute_input": "2022-02-08T03:21:30.944203Z",
     "iopub.status.busy": "2022-02-08T03:21:30.943648Z",
     "iopub.status.idle": "2022-02-08T03:21:31.105826Z",
     "shell.execute_reply": "2022-02-08T03:21:31.105413Z"
    }
   },
   "outputs": [],
   "source": [
    "OnePiece.figure.plot_bar([y1, y2], [x1, x2]; la = la)"
   ]
  },
  {
   "cell_type": "code",
   "execution_count": null,
   "id": "1abb7102",
   "metadata": {
    "execution": {
     "iopub.execute_input": "2022-02-08T03:21:31.108681Z",
     "iopub.status.busy": "2022-02-08T03:21:31.107768Z",
     "iopub.status.idle": "2022-02-08T03:21:31.188379Z",
     "shell.execute_reply": "2022-02-08T03:21:31.188021Z"
    }
   },
   "outputs": [],
   "source": [
    "OnePiece.figure.plot_bar([y1, y2]; la = la)"
   ]
  },
  {
   "cell_type": "code",
   "execution_count": null,
   "id": "f7e73bd2",
   "metadata": {},
   "outputs": [],
   "source": [
    "fill(\"adf\", 10)"
   ]
  },
  {
   "cell_type": "markdown",
   "id": "1ac66c3b",
   "metadata": {},
   "source": [
    "## plot_heat_map"
   ]
  },
  {
   "cell_type": "code",
   "execution_count": null,
   "id": "9d37bab8",
   "metadata": {
    "execution": {
     "iopub.execute_input": "2022-02-08T03:21:31.190129Z",
     "iopub.status.busy": "2022-02-08T03:21:31.189632Z",
     "iopub.status.idle": "2022-02-08T03:21:32.203436Z",
     "shell.execute_reply": "2022-02-08T03:21:32.203060Z"
    }
   },
   "outputs": [],
   "source": [
    "ma = convert(Matrix, reshape(1:8, (2, 4)))"
   ]
  },
  {
   "cell_type": "code",
   "execution_count": null,
   "id": "36665ec2",
   "metadata": {},
   "outputs": [],
   "source": [
    "OnePiece.figure.plot_heat_map(\n",
    "    ma,\n",
    "    [string(\"Row\", id) for id in 1:size(ma, 1)],\n",
    "    [string(\"Column\", id) for id in 1:size(ma, 2)],\n",
    ")"
   ]
  },
  {
   "cell_type": "code",
   "execution_count": null,
   "id": "975108c0",
   "metadata": {},
   "outputs": [],
   "source": [
    "OnePiece.figure.plot_heat_map(ma)"
   ]
  }
 ],
 "metadata": {
  "@webio": {
   "lastCommId": null,
   "lastKernelId": null
  },
  "kernelspec": {
   "display_name": "Julia 1.7.1",
   "language": "julia",
   "name": "julia-1.7"
  },
  "language_info": {
   "file_extension": ".jl",
   "mimetype": "application/julia",
   "name": "julia",
   "version": "1.7.1"
  }
 },
 "nbformat": 4,
 "nbformat_minor": 5
}
