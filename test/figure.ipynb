{
 "cells": [
  {
   "cell_type": "code",
   "execution_count": null,
   "id": "017464da",
   "metadata": {},
   "outputs": [],
   "source": [
    "TE = joinpath(tempdir(), \"OnePiece.test\")\n",
    "\n",
    "mkpath(TE)"
   ]
  },
  {
   "cell_type": "code",
   "execution_count": 1,
   "id": "34e4701e",
   "metadata": {
    "execution": {
     "iopub.execute_input": "2022-02-10T17:51:23.590384Z",
     "iopub.status.busy": "2022-02-10T17:51:23.250154Z",
     "iopub.status.idle": "2022-02-10T17:51:24.482021Z",
     "shell.execute_reply": "2022-02-10T17:51:24.481306Z"
    }
   },
   "outputs": [],
   "source": [
    "#using Revise\n",
    "using BenchmarkTools\n",
    "\n",
    "using OnePiece"
   ]
  },
  {
   "cell_type": "markdown",
   "id": "389a10b8",
   "metadata": {},
   "source": [
    "---"
   ]
  },
  {
   "cell_type": "markdown",
   "id": "6809059e",
   "metadata": {},
   "source": [
    "## plot"
   ]
  },
  {
   "cell_type": "code",
   "execution_count": null,
   "id": "2329cb27",
   "metadata": {},
   "outputs": [],
   "source": [
    "using PlotlyLight"
   ]
  },
  {
   "cell_type": "code",
   "execution_count": null,
   "id": "f55a7149",
   "metadata": {
    "execution": {
     "iopub.execute_input": "2022-02-10T17:51:01.984387Z",
     "iopub.status.busy": "2022-02-10T17:51:01.662944Z",
     "iopub.status.idle": "2022-02-10T17:51:05.238114Z",
     "shell.execute_reply": "2022-02-10T17:51:05.237729Z"
    }
   },
   "outputs": [],
   "source": [
    "tr_ = [Dict()]\n",
    "\n",
    "OnePiece.figure.plot(tr_)"
   ]
  },
  {
   "cell_type": "code",
   "execution_count": null,
   "id": "ceb911ba",
   "metadata": {
    "execution": {
     "iopub.execute_input": "2022-02-10T17:51:05.240192Z",
     "iopub.status.busy": "2022-02-10T17:51:05.239697Z",
     "iopub.status.idle": "2022-02-10T17:51:05.984752Z",
     "shell.execute_reply": "2022-02-10T17:51:05.984258Z"
    }
   },
   "outputs": [],
   "source": [
    "la = Config(\n",
    "    template = \"plotly_dark\",\n",
    "    title = \"Title\",\n",
    "    yaxis = Config(title = \"Y-Axis Title\"),\n",
    "    xaxis = Config(title = \"X-Axis Title\"),\n",
    ")\n",
    "\n",
    "display(OnePiece.figure.plot(tr_, la))"
   ]
  },
  {
   "cell_type": "code",
   "execution_count": null,
   "id": "303451fd",
   "metadata": {
    "execution": {
     "iopub.execute_input": "2022-02-10T17:51:05.986634Z",
     "iopub.status.busy": "2022-02-10T17:51:05.986054Z",
     "iopub.status.idle": "2022-02-10T17:51:06.031657Z",
     "shell.execute_reply": "2022-02-10T17:51:06.032039Z"
    }
   },
   "outputs": [],
   "source": [
    "co = Config(displaylog=true)\n",
    "\n",
    "display(OnePiece.figure.plot(tr_, la, co))"
   ]
  },
  {
   "cell_type": "markdown",
   "id": "a2513ee0",
   "metadata": {},
   "source": [
    "## write"
   ]
  },
  {
   "cell_type": "code",
   "execution_count": null,
   "id": "3066f153",
   "metadata": {
    "execution": {
     "iopub.execute_input": "2022-02-10T17:51:06.034639Z",
     "iopub.status.busy": "2022-02-10T17:51:06.033715Z",
     "iopub.status.idle": "2022-02-10T17:51:06.067765Z",
     "shell.execute_reply": "2022-02-10T17:51:06.067299Z"
    }
   },
   "outputs": [],
   "source": [
    "pl = OnePiece.figure.plot(tr_)\n",
    "\n",
    "OnePiece.figure.write(joinpath(tempdir(), \"snow.png\"), pl, 400, 200, 1.0)"
   ]
  },
  {
   "cell_type": "markdown",
   "id": "ced90427",
   "metadata": {},
   "source": [
    "## plot_x_y"
   ]
  },
  {
   "cell_type": "code",
   "execution_count": null,
   "id": "8d7065b0",
   "metadata": {
    "execution": {
     "iopub.execute_input": "2022-02-10T17:51:06.069865Z",
     "iopub.status.busy": "2022-02-10T17:51:06.069302Z",
     "iopub.status.idle": "2022-02-10T17:51:06.165933Z",
     "shell.execute_reply": "2022-02-10T17:51:06.165167Z"
    }
   },
   "outputs": [],
   "source": [
    "x1 = [-1, 0, 2]\n",
    "\n",
    "x2 = [3, 4]\n",
    "\n",
    "x_ = [x1, x2]\n",
    "\n",
    "y1 = x1 .* 10\n",
    "\n",
    "y2 = x2 .* 20\n",
    "\n",
    "y_ = [y1, y2]\n",
    "\n",
    ";"
   ]
  },
  {
   "cell_type": "code",
   "execution_count": null,
   "id": "a8798a0a",
   "metadata": {
    "execution": {
     "iopub.execute_input": "2022-02-10T17:51:06.168774Z",
     "iopub.status.busy": "2022-02-10T17:51:06.167644Z",
     "iopub.status.idle": "2022-02-10T17:51:06.664976Z",
     "shell.execute_reply": "2022-02-10T17:51:06.665382Z"
    }
   },
   "outputs": [],
   "source": [
    "display(OnePiece.figure.plot_x_y(y_))"
   ]
  },
  {
   "cell_type": "code",
   "execution_count": null,
   "id": "268b8935",
   "metadata": {
    "execution": {
     "iopub.execute_input": "2022-02-10T17:51:06.668111Z",
     "iopub.status.busy": "2022-02-10T17:51:06.667225Z",
     "iopub.status.idle": "2022-02-10T17:51:06.724611Z",
     "shell.execute_reply": "2022-02-10T17:51:06.725057Z"
    }
   },
   "outputs": [],
   "source": [
    "display(OnePiece.figure.plot_x_y(y_; la = la))"
   ]
  },
  {
   "cell_type": "code",
   "execution_count": null,
   "id": "aaf9a733",
   "metadata": {
    "execution": {
     "iopub.execute_input": "2022-02-10T17:51:06.727276Z",
     "iopub.status.busy": "2022-02-10T17:51:06.726583Z",
     "iopub.status.idle": "2022-02-10T17:51:06.808490Z",
     "shell.execute_reply": "2022-02-10T17:51:06.808972Z"
    }
   },
   "outputs": [],
   "source": [
    "display(OnePiece.figure.plot_x_y(y_, x_; la = la))"
   ]
  },
  {
   "cell_type": "markdown",
   "id": "3ac78e65",
   "metadata": {},
   "source": [
    "## plot_bar"
   ]
  },
  {
   "cell_type": "code",
   "execution_count": null,
   "id": "b248787f",
   "metadata": {
    "execution": {
     "iopub.execute_input": "2022-02-10T17:51:06.811126Z",
     "iopub.status.busy": "2022-02-10T17:51:06.810462Z",
     "iopub.status.idle": "2022-02-10T17:51:07.880871Z",
     "shell.execute_reply": "2022-02-10T17:51:07.880425Z"
    }
   },
   "outputs": [],
   "source": [
    "y1 = [-1, 2, 5]\n",
    "\n",
    "y2 = reverse(y1)\n",
    "\n",
    "y_ = [y1, y2]"
   ]
  },
  {
   "cell_type": "code",
   "execution_count": null,
   "id": "b4bc6e6b",
   "metadata": {
    "execution": {
     "iopub.execute_input": "2022-02-10T17:51:07.883814Z",
     "iopub.status.busy": "2022-02-10T17:51:07.882647Z",
     "iopub.status.idle": "2022-02-10T17:51:07.952369Z",
     "shell.execute_reply": "2022-02-10T17:51:07.951562Z"
    }
   },
   "outputs": [],
   "source": [
    "display(OnePiece.figure.plot_bar(y_))"
   ]
  },
  {
   "cell_type": "code",
   "execution_count": null,
   "id": "79736494",
   "metadata": {
    "execution": {
     "iopub.execute_input": "2022-02-10T17:51:07.955716Z",
     "iopub.status.busy": "2022-02-10T17:51:07.954836Z",
     "iopub.status.idle": "2022-02-10T17:51:07.996109Z",
     "shell.execute_reply": "2022-02-10T17:51:07.996598Z"
    }
   },
   "outputs": [],
   "source": [
    "display(OnePiece.figure.plot_bar(y_; la = la))"
   ]
  },
  {
   "cell_type": "code",
   "execution_count": null,
   "id": "7a950a15",
   "metadata": {
    "execution": {
     "iopub.execute_input": "2022-02-10T17:51:07.999049Z",
     "iopub.status.busy": "2022-02-10T17:51:07.998456Z",
     "iopub.status.idle": "2022-02-10T17:51:08.155483Z",
     "shell.execute_reply": "2022-02-10T17:51:08.155909Z"
    }
   },
   "outputs": [],
   "source": [
    "name1 = \"Orange\"\n",
    "\n",
    "name2 = \"Blue\"\n",
    "\n",
    "name_ = [name1, name2]\n",
    "\n",
    "x1 = [-2, -1, 0]\n",
    "\n",
    "x2 = .-reverse(x1)\n",
    "\n",
    "x_ = [x1, x2]\n",
    "\n",
    "display(OnePiece.figure.plot_bar(y_, x_; name_ = name_, la = la))"
   ]
  },
  {
   "cell_type": "code",
   "execution_count": null,
   "id": "4febf9ea",
   "metadata": {
    "execution": {
     "iopub.execute_input": "2022-02-10T17:51:08.158533Z",
     "iopub.status.busy": "2022-02-10T17:51:08.157922Z",
     "iopub.status.idle": "2022-02-10T17:51:08.196897Z",
     "shell.execute_reply": "2022-02-10T17:51:08.197333Z"
    }
   },
   "outputs": [],
   "source": [
    "push!(name_, \"Name 3\")\n",
    "\n",
    "push!(y_, [9])\n",
    "\n",
    "push!(x_, [0])\n",
    "\n",
    "display(OnePiece.figure.plot_bar(y_, x_; name_ = name_, la = la))"
   ]
  },
  {
   "cell_type": "code",
   "execution_count": null,
   "id": "963fdc7d",
   "metadata": {
    "execution": {
     "iopub.execute_input": "2022-02-10T17:51:08.199589Z",
     "iopub.status.busy": "2022-02-10T17:51:08.199009Z",
     "iopub.status.idle": "2022-02-10T17:51:08.395893Z",
     "shell.execute_reply": "2022-02-10T17:51:08.396389Z"
    }
   },
   "outputs": [],
   "source": [
    "display(OnePiece.figure.plot_bar(y_, x_; name_ = name_, la = Dict(\"barmode\" => \"stack\")))"
   ]
  },
  {
   "cell_type": "markdown",
   "id": "1ac66c3b",
   "metadata": {},
   "source": [
    "## plot_heat_map"
   ]
  },
  {
   "cell_type": "code",
   "execution_count": null,
   "id": "9d37bab8",
   "metadata": {
    "execution": {
     "iopub.execute_input": "2022-02-10T17:51:08.398816Z",
     "iopub.status.busy": "2022-02-10T17:51:08.398159Z",
     "iopub.status.idle": "2022-02-10T17:51:08.860310Z",
     "shell.execute_reply": "2022-02-10T17:51:08.859920Z"
    }
   },
   "outputs": [],
   "source": [
    "ma = convert(Matrix, reshape(1:8, (2, 4)))"
   ]
  },
  {
   "cell_type": "code",
   "execution_count": null,
   "id": "36665ec2",
   "metadata": {
    "execution": {
     "iopub.execute_input": "2022-02-10T17:51:08.861843Z",
     "iopub.status.busy": "2022-02-10T17:51:08.861335Z",
     "iopub.status.idle": "2022-02-10T17:51:09.226726Z",
     "shell.execute_reply": "2022-02-10T17:51:09.226177Z"
    }
   },
   "outputs": [],
   "source": [
    "display(OnePiece.figure.plot_heat_map(\n",
    "    ma,\n",
    "    [string(\"Row\", id) for id in 1:size(ma, 1)],\n",
    "    [string(\"Column\", id) for id in 1:size(ma, 2)],\n",
    "))"
   ]
  },
  {
   "cell_type": "code",
   "execution_count": null,
   "id": "975108c0",
   "metadata": {
    "execution": {
     "iopub.execute_input": "2022-02-10T17:51:09.229423Z",
     "iopub.status.busy": "2022-02-10T17:51:09.228674Z",
     "iopub.status.idle": "2022-02-10T17:51:09.331557Z",
     "shell.execute_reply": "2022-02-10T17:51:09.331993Z"
    }
   },
   "outputs": [],
   "source": [
    "display(OnePiece.figure.plot_heat_map(ma))"
   ]
  },
  {
   "cell_type": "markdown",
   "id": "3f396855",
   "metadata": {},
   "source": [
    "---"
   ]
  }
 ],
 "metadata": {
  "@webio": {
   "lastCommId": null,
   "lastKernelId": null
  },
  "kernelspec": {
   "display_name": "Julia 1.7.2",
   "language": "julia",
   "name": "julia-1.7"
  },
  "language_info": {
   "file_extension": ".jl",
   "mimetype": "application/julia",
   "name": "julia",
   "version": "1.7.2"
  }
 },
 "nbformat": 4,
 "nbformat_minor": 5
}
