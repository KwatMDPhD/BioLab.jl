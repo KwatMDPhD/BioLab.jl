{
 "cells": [
  {
   "cell_type": "code",
   "execution_count": null,
   "id": "34e4701e",
   "metadata": {
    "execution": {
     "iopub.execute_input": "2022-02-09T22:46:52.720701Z",
     "iopub.status.busy": "2022-02-09T22:46:52.299155Z",
     "iopub.status.idle": "2022-02-09T22:46:53.709113Z",
     "shell.execute_reply": "2022-02-09T22:46:53.708200Z"
    }
   },
   "outputs": [],
   "source": [
    "using Revise\n",
    "using BenchmarkTools"
   ]
  },
  {
   "cell_type": "code",
   "execution_count": null,
   "id": "6436b741",
   "metadata": {
    "execution": {
     "iopub.execute_input": "2022-02-09T22:46:53.711877Z",
     "iopub.status.busy": "2022-02-09T22:46:53.711342Z",
     "iopub.status.idle": "2022-02-09T22:47:03.954588Z",
     "shell.execute_reply": "2022-02-09T22:47:03.954142Z"
    }
   },
   "outputs": [],
   "source": [
    "using PlotlyJS\n",
    "\n",
    "using OnePiece"
   ]
  },
  {
   "cell_type": "code",
   "execution_count": null,
   "id": "836e7390",
   "metadata": {
    "execution": {
     "iopub.execute_input": "2022-02-09T22:47:05.440018Z",
     "iopub.status.busy": "2022-02-09T22:47:03.956041Z",
     "iopub.status.idle": "2022-02-09T22:47:07.979401Z",
     "shell.execute_reply": "2022-02-09T22:47:07.978954Z"
    }
   },
   "outputs": [],
   "source": [
    "tr_ = Vector{GenericTrace}()\n",
    "\n",
    "la = Layout(title = \"Title\", yaxis_title = \"Y-Axis Title\", xaxis_title = \"X-Axis Title\")\n",
    "\n",
    ";"
   ]
  },
  {
   "cell_type": "markdown",
   "id": "6809059e",
   "metadata": {},
   "source": [
    "## plot"
   ]
  },
  {
   "cell_type": "code",
   "execution_count": null,
   "id": "5bd282d2",
   "metadata": {
    "execution": {
     "iopub.execute_input": "2022-02-09T22:47:07.981539Z",
     "iopub.status.busy": "2022-02-09T22:47:07.981036Z",
     "iopub.status.idle": "2022-02-09T22:47:12.053134Z",
     "shell.execute_reply": "2022-02-09T22:47:12.052595Z"
    }
   },
   "outputs": [],
   "source": [
    "OnePiece.figure.plot(tr_, la)"
   ]
  },
  {
   "cell_type": "markdown",
   "id": "a2513ee0",
   "metadata": {},
   "source": [
    "## write"
   ]
  },
  {
   "cell_type": "code",
   "execution_count": null,
   "id": "3066f153",
   "metadata": {
    "execution": {
     "iopub.execute_input": "2022-02-09T22:47:12.055066Z",
     "iopub.status.busy": "2022-02-09T22:47:12.054462Z",
     "iopub.status.idle": "2022-02-09T22:47:12.845711Z",
     "shell.execute_reply": "2022-02-09T22:47:12.845324Z"
    }
   },
   "outputs": [],
   "source": [
    "pl = OnePiece.figure.plot(tr_)\n",
    "\n",
    "OnePiece.figure.write(joinpath(tempdir(), \"snow.png\"), pl, 400, 200, 1.0)"
   ]
  },
  {
   "cell_type": "code",
   "execution_count": null,
   "id": "70a3796d",
   "metadata": {
    "execution": {
     "iopub.execute_input": "2022-02-09T22:47:12.847610Z",
     "iopub.status.busy": "2022-02-09T22:47:12.847077Z",
     "iopub.status.idle": "2022-02-09T22:47:12.859939Z",
     "shell.execute_reply": "2022-02-09T22:47:12.859418Z"
    }
   },
   "outputs": [],
   "source": [
    "x1 = [-1, 0, 2]\n",
    "\n",
    "x2 = [-2, -1, 0, 2, 4]\n",
    "\n",
    ";"
   ]
  },
  {
   "cell_type": "code",
   "execution_count": null,
   "id": "1273971b",
   "metadata": {
    "execution": {
     "iopub.execute_input": "2022-02-09T22:47:12.861908Z",
     "iopub.status.busy": "2022-02-09T22:47:12.861338Z",
     "iopub.status.idle": "2022-02-09T22:47:12.910596Z",
     "shell.execute_reply": "2022-02-09T22:47:12.910156Z"
    }
   },
   "outputs": [],
   "source": [
    "y1 = x1 .* 10\n",
    "\n",
    "y2 = x2 .* 20\n",
    "\n",
    ";"
   ]
  },
  {
   "cell_type": "markdown",
   "id": "ced90427",
   "metadata": {},
   "source": [
    "## plot_x_y"
   ]
  },
  {
   "cell_type": "code",
   "execution_count": null,
   "id": "b6a32634",
   "metadata": {
    "execution": {
     "iopub.execute_input": "2022-02-09T22:47:12.912584Z",
     "iopub.status.busy": "2022-02-09T22:47:12.912051Z",
     "iopub.status.idle": "2022-02-09T22:47:13.683587Z",
     "shell.execute_reply": "2022-02-09T22:47:13.683193Z"
    }
   },
   "outputs": [],
   "source": [
    "OnePiece.figure.plot_x_y([y1, y2], [x1, x2]; la = la)"
   ]
  },
  {
   "cell_type": "code",
   "execution_count": null,
   "id": "7fc47cde",
   "metadata": {
    "execution": {
     "iopub.execute_input": "2022-02-09T22:47:13.685719Z",
     "iopub.status.busy": "2022-02-09T22:47:13.685220Z",
     "iopub.status.idle": "2022-02-09T22:47:13.739944Z",
     "shell.execute_reply": "2022-02-09T22:47:13.739538Z"
    }
   },
   "outputs": [],
   "source": [
    "OnePiece.figure.plot_x_y([y1, y2]; la = la)"
   ]
  },
  {
   "cell_type": "markdown",
   "id": "3ac78e65",
   "metadata": {},
   "source": [
    "## plot_bar"
   ]
  },
  {
   "cell_type": "code",
   "execution_count": null,
   "id": "9efd367f",
   "metadata": {
    "execution": {
     "iopub.execute_input": "2022-02-09T22:47:13.742024Z",
     "iopub.status.busy": "2022-02-09T22:47:13.741406Z",
     "iopub.status.idle": "2022-02-09T22:47:13.809008Z",
     "shell.execute_reply": "2022-02-09T22:47:13.807675Z"
    }
   },
   "outputs": [],
   "source": [
    "OnePiece.figure.plot_bar([y1, y2], [x1, x2]; la = la)"
   ]
  },
  {
   "cell_type": "code",
   "execution_count": null,
   "id": "1abb7102",
   "metadata": {
    "execution": {
     "iopub.execute_input": "2022-02-09T22:47:13.810927Z",
     "iopub.status.busy": "2022-02-09T22:47:13.810357Z",
     "iopub.status.idle": "2022-02-09T22:47:13.938956Z",
     "shell.execute_reply": "2022-02-09T22:47:13.938490Z"
    }
   },
   "outputs": [],
   "source": [
    "OnePiece.figure.plot_bar([y1, y2]; la = la)"
   ]
  },
  {
   "cell_type": "code",
   "execution_count": null,
   "id": "f7e73bd2",
   "metadata": {
    "execution": {
     "iopub.execute_input": "2022-02-09T22:47:13.940655Z",
     "iopub.status.busy": "2022-02-09T22:47:13.940166Z",
     "iopub.status.idle": "2022-02-09T22:47:13.986127Z",
     "shell.execute_reply": "2022-02-09T22:47:13.985600Z"
    }
   },
   "outputs": [],
   "source": [
    "name1 = \"Orange\"\n",
    "\n",
    "name2 = \"Blue\"\n",
    "\n",
    "name_ = [name1, name2]\n",
    "\n",
    "y1 = [1, 2, 3]\n",
    "\n",
    "y2 = [3, 2, 1]\n",
    "\n",
    "y_ = [y1, y2]\n",
    "\n",
    "x1 = [1, 2, 3]\n",
    "\n",
    "x2 = x1\n",
    "\n",
    "x_ = [x1, x2]\n",
    "\n",
    "OnePiece.figure.plot_bar(y_, x_; name_ = name_)"
   ]
  },
  {
   "cell_type": "markdown",
   "id": "1ac66c3b",
   "metadata": {},
   "source": [
    "## plot_heat_map"
   ]
  },
  {
   "cell_type": "code",
   "execution_count": null,
   "id": "9d37bab8",
   "metadata": {
    "execution": {
     "iopub.execute_input": "2022-02-09T22:47:13.987990Z",
     "iopub.status.busy": "2022-02-09T22:47:13.987481Z",
     "iopub.status.idle": "2022-02-09T22:47:14.786548Z",
     "shell.execute_reply": "2022-02-09T22:47:14.786101Z"
    }
   },
   "outputs": [],
   "source": [
    "ma = convert(Matrix, reshape(1:8, (2, 4)))"
   ]
  },
  {
   "cell_type": "code",
   "execution_count": null,
   "id": "36665ec2",
   "metadata": {
    "execution": {
     "iopub.execute_input": "2022-02-09T22:47:14.788332Z",
     "iopub.status.busy": "2022-02-09T22:47:14.787793Z",
     "iopub.status.idle": "2022-02-09T22:47:15.252457Z",
     "shell.execute_reply": "2022-02-09T22:47:15.251260Z"
    }
   },
   "outputs": [],
   "source": [
    "OnePiece.figure.plot_heat_map(\n",
    "    ma,\n",
    "    [string(\"Row\", id) for id in 1:size(ma, 1)],\n",
    "    [string(\"Column\", id) for id in 1:size(ma, 2)],\n",
    ")"
   ]
  },
  {
   "cell_type": "code",
   "execution_count": null,
   "id": "975108c0",
   "metadata": {
    "execution": {
     "iopub.execute_input": "2022-02-09T22:47:15.254994Z",
     "iopub.status.busy": "2022-02-09T22:47:15.254062Z",
     "iopub.status.idle": "2022-02-09T22:47:15.407084Z",
     "shell.execute_reply": "2022-02-09T22:47:15.406591Z"
    }
   },
   "outputs": [],
   "source": [
    "OnePiece.figure.plot_heat_map(ma)"
   ]
  }
 ],
 "metadata": {
  "@webio": {
   "lastCommId": "d4725e85d6d5441793354800d309fa7f",
   "lastKernelId": "97d2a783-61c6-486b-a1ea-8261d5e2be56"
  },
  "kernelspec": {
   "display_name": "Julia 1.7.2",
   "language": "julia",
   "name": "julia-1.7"
  },
  "language_info": {
   "file_extension": ".jl",
   "mimetype": "application/julia",
   "name": "julia",
   "version": "1.7.2"
  }
 },
 "nbformat": 4,
 "nbformat_minor": 5
}
