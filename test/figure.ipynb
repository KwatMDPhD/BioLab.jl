{
 "cells": [
  {
   "cell_type": "code",
   "execution_count": null,
   "id": "017464da",
   "metadata": {},
   "outputs": [],
   "source": [
    "TE = joinpath(tempdir(), \"OnePiece.test\")\n",
    "\n",
    "if isdir(TE)\n",
    "\n",
    "    rm(TE, recursive = true)\n",
    "\n",
    "    println(\"Removed \", TE, \".\")\n",
    "\n",
    "end\n",
    "\n",
    "mkdir(TE)\n",
    "\n",
    "println(\"Made \", TE, \".\")"
   ]
  },
  {
   "cell_type": "code",
   "execution_count": null,
   "id": "34e4701e",
   "metadata": {
    "execution": {
     "iopub.execute_input": "2022-02-10T17:51:23.590384Z",
     "iopub.status.busy": "2022-02-10T17:51:23.250154Z",
     "iopub.status.idle": "2022-02-10T17:51:24.482021Z",
     "shell.execute_reply": "2022-02-10T17:51:24.481306Z"
    }
   },
   "outputs": [],
   "source": [
    "using OnePiece"
   ]
  },
  {
   "cell_type": "markdown",
   "id": "b92a3da9",
   "metadata": {},
   "source": [
    "---"
   ]
  },
  {
   "cell_type": "markdown",
   "id": "6809059e",
   "metadata": {},
   "source": [
    "## plot"
   ]
  },
  {
   "cell_type": "code",
   "execution_count": null,
   "id": "2329cb27",
   "metadata": {
    "execution": {
     "iopub.execute_input": "2022-02-11T17:44:21.513415Z",
     "iopub.status.busy": "2022-02-11T17:44:21.153198Z",
     "iopub.status.idle": "2022-02-11T17:44:21.565710Z",
     "shell.execute_reply": "2022-02-11T17:44:21.565200Z"
    }
   },
   "outputs": [],
   "source": [
    "using PlotlyLight"
   ]
  },
  {
   "cell_type": "code",
   "execution_count": null,
   "id": "f55a7149",
   "metadata": {
    "execution": {
     "iopub.execute_input": "2022-02-11T17:44:21.567624Z",
     "iopub.status.busy": "2022-02-11T17:44:21.567036Z",
     "iopub.status.idle": "2022-02-11T17:44:23.055756Z",
     "shell.execute_reply": "2022-02-11T17:44:23.055273Z"
    }
   },
   "outputs": [],
   "source": [
    "tr_ = [Dict()]\n",
    "\n",
    "display(OnePiece.figure.plot(tr_))"
   ]
  },
  {
   "cell_type": "code",
   "execution_count": null,
   "id": "ceb911ba",
   "metadata": {
    "execution": {
     "iopub.execute_input": "2022-02-11T17:44:23.057753Z",
     "iopub.status.busy": "2022-02-11T17:44:23.057149Z",
     "iopub.status.idle": "2022-02-11T17:44:23.160128Z",
     "shell.execute_reply": "2022-02-11T17:44:23.160597Z"
    }
   },
   "outputs": [],
   "source": [
    "la = Config(\n",
    "    template = \"plotly_dark\",\n",
    "    title = \"Title\",\n",
    "    yaxis = Config(title = \"Y-Axis Title\"),\n",
    "    xaxis = Config(title = \"X-Axis Title\"),\n",
    ")\n",
    "\n",
    "display(OnePiece.figure.plot(tr_, la))"
   ]
  },
  {
   "cell_type": "code",
   "execution_count": null,
   "id": "303451fd",
   "metadata": {
    "execution": {
     "iopub.execute_input": "2022-02-11T17:44:23.162659Z",
     "iopub.status.busy": "2022-02-11T17:44:23.161931Z",
     "iopub.status.idle": "2022-02-11T17:44:23.197848Z",
     "shell.execute_reply": "2022-02-11T17:44:23.198277Z"
    }
   },
   "outputs": [],
   "source": [
    "co = Config(displaylog = true)\n",
    "\n",
    "display(OnePiece.figure.plot(tr_, la, co))"
   ]
  },
  {
   "cell_type": "code",
   "execution_count": null,
   "id": "29d9de98",
   "metadata": {
    "execution": {
     "iopub.execute_input": "2022-02-11T17:44:23.201638Z",
     "iopub.status.busy": "2022-02-11T17:44:23.199591Z",
     "iopub.status.idle": "2022-02-11T17:44:23.246264Z",
     "shell.execute_reply": "2022-02-11T17:44:23.246685Z"
    }
   },
   "outputs": [],
   "source": [
    "display(OnePiece.figure.plot(tr_, ou = joinpath(TE, \"output.html\")))"
   ]
  },
  {
   "cell_type": "markdown",
   "id": "a2513ee0",
   "metadata": {},
   "source": [
    "## write"
   ]
  },
  {
   "cell_type": "code",
   "execution_count": null,
   "id": "3066f153",
   "metadata": {
    "execution": {
     "iopub.execute_input": "2022-02-11T17:44:23.248880Z",
     "iopub.status.busy": "2022-02-11T17:44:23.248242Z",
     "iopub.status.idle": "2022-02-11T17:44:23.250724Z",
     "shell.execute_reply": "2022-02-11T17:44:23.250065Z"
    }
   },
   "outputs": [],
   "source": [
    "pl = OnePiece.figure.plot(tr_)\n",
    "\n",
    "OnePiece.figure.write(joinpath(tempdir(), \"snow.png\"), pl, 400, 200, 1.0)"
   ]
  },
  {
   "cell_type": "markdown",
   "id": "ced90427",
   "metadata": {},
   "source": [
    "## plot_x_y"
   ]
  },
  {
   "cell_type": "code",
   "execution_count": null,
   "id": "8d7065b0",
   "metadata": {
    "execution": {
     "iopub.execute_input": "2022-02-11T17:44:23.253021Z",
     "iopub.status.busy": "2022-02-11T17:44:23.252328Z",
     "iopub.status.idle": "2022-02-11T17:44:23.320407Z",
     "shell.execute_reply": "2022-02-11T17:44:23.319636Z"
    }
   },
   "outputs": [],
   "source": [
    "x1 = [-1, 0, 2]\n",
    "\n",
    "x2 = [3, 4]\n",
    "\n",
    "x_ = [x1, x2]\n",
    "\n",
    "y1 = x1 .* 10\n",
    "\n",
    "y2 = x2 .* 20\n",
    "\n",
    "y_ = [y1, y2]\n",
    "\n",
    ";"
   ]
  },
  {
   "cell_type": "code",
   "execution_count": null,
   "id": "a8798a0a",
   "metadata": {
    "execution": {
     "iopub.execute_input": "2022-02-11T17:44:23.322766Z",
     "iopub.status.busy": "2022-02-11T17:44:23.321905Z",
     "iopub.status.idle": "2022-02-11T17:44:23.881763Z",
     "shell.execute_reply": "2022-02-11T17:44:23.882142Z"
    }
   },
   "outputs": [],
   "source": [
    "display(OnePiece.figure.plot_x_y(y_))"
   ]
  },
  {
   "cell_type": "code",
   "execution_count": null,
   "id": "268b8935",
   "metadata": {
    "execution": {
     "iopub.execute_input": "2022-02-11T17:44:23.883980Z",
     "iopub.status.busy": "2022-02-11T17:44:23.883402Z",
     "iopub.status.idle": "2022-02-11T17:44:23.923936Z",
     "shell.execute_reply": "2022-02-11T17:44:23.924745Z"
    }
   },
   "outputs": [],
   "source": [
    "display(OnePiece.figure.plot_x_y(y_; la = la))"
   ]
  },
  {
   "cell_type": "code",
   "execution_count": null,
   "id": "aaf9a733",
   "metadata": {
    "execution": {
     "iopub.execute_input": "2022-02-11T17:44:23.927223Z",
     "iopub.status.busy": "2022-02-11T17:44:23.926569Z",
     "iopub.status.idle": "2022-02-11T17:44:24.001870Z",
     "shell.execute_reply": "2022-02-11T17:44:24.002523Z"
    }
   },
   "outputs": [],
   "source": [
    "display(OnePiece.figure.plot_x_y(y_, x_; la = la, ou = joinpath(TE, \"x_y.html\")))"
   ]
  },
  {
   "cell_type": "markdown",
   "id": "3ac78e65",
   "metadata": {},
   "source": [
    "## plot_bar"
   ]
  },
  {
   "cell_type": "code",
   "execution_count": null,
   "id": "b248787f",
   "metadata": {
    "execution": {
     "iopub.execute_input": "2022-02-11T17:44:24.004962Z",
     "iopub.status.busy": "2022-02-11T17:44:24.004173Z",
     "iopub.status.idle": "2022-02-11T17:44:25.275224Z",
     "shell.execute_reply": "2022-02-11T17:44:25.274697Z"
    }
   },
   "outputs": [],
   "source": [
    "y1 = [-1, 2, 5]\n",
    "\n",
    "y2 = reverse(y1)\n",
    "\n",
    "y_ = [y1, y2]"
   ]
  },
  {
   "cell_type": "code",
   "execution_count": null,
   "id": "b4bc6e6b",
   "metadata": {
    "execution": {
     "iopub.execute_input": "2022-02-11T17:44:25.277212Z",
     "iopub.status.busy": "2022-02-11T17:44:25.276633Z",
     "iopub.status.idle": "2022-02-11T17:44:25.329280Z",
     "shell.execute_reply": "2022-02-11T17:44:25.329734Z"
    }
   },
   "outputs": [],
   "source": [
    "display(OnePiece.figure.plot_bar(y_))"
   ]
  },
  {
   "cell_type": "code",
   "execution_count": null,
   "id": "79736494",
   "metadata": {
    "execution": {
     "iopub.execute_input": "2022-02-11T17:44:25.331700Z",
     "iopub.status.busy": "2022-02-11T17:44:25.331093Z",
     "iopub.status.idle": "2022-02-11T17:44:25.360908Z",
     "shell.execute_reply": "2022-02-11T17:44:25.361285Z"
    }
   },
   "outputs": [],
   "source": [
    "display(OnePiece.figure.plot_bar(y_; la = la))"
   ]
  },
  {
   "cell_type": "code",
   "execution_count": null,
   "id": "7a950a15",
   "metadata": {
    "execution": {
     "iopub.execute_input": "2022-02-11T17:44:25.363259Z",
     "iopub.status.busy": "2022-02-11T17:44:25.362663Z",
     "iopub.status.idle": "2022-02-11T17:44:25.484699Z",
     "shell.execute_reply": "2022-02-11T17:44:25.485180Z"
    }
   },
   "outputs": [],
   "source": [
    "name1 = \"Orange\"\n",
    "\n",
    "name2 = \"Blue\"\n",
    "\n",
    "name_ = [name1, name2]\n",
    "\n",
    "x1 = [-2, -1, 0]\n",
    "\n",
    "x2 = .-reverse(x1)\n",
    "\n",
    "x_ = [x1, x2]\n",
    "\n",
    "display(OnePiece.figure.plot_bar(y_, x_; name_ = name_, la = la))"
   ]
  },
  {
   "cell_type": "code",
   "execution_count": null,
   "id": "4febf9ea",
   "metadata": {
    "execution": {
     "iopub.execute_input": "2022-02-11T17:44:25.487412Z",
     "iopub.status.busy": "2022-02-11T17:44:25.486820Z",
     "iopub.status.idle": "2022-02-11T17:44:25.513479Z",
     "shell.execute_reply": "2022-02-11T17:44:25.514212Z"
    }
   },
   "outputs": [],
   "source": [
    "push!(name_, \"Name 3\")\n",
    "\n",
    "push!(y_, [9])\n",
    "\n",
    "push!(x_, [0])\n",
    "\n",
    "display(OnePiece.figure.plot_bar(y_, x_; name_ = name_, la = la))"
   ]
  },
  {
   "cell_type": "code",
   "execution_count": null,
   "id": "963fdc7d",
   "metadata": {
    "execution": {
     "iopub.execute_input": "2022-02-11T17:44:25.516923Z",
     "iopub.status.busy": "2022-02-11T17:44:25.516184Z",
     "iopub.status.idle": "2022-02-11T17:44:25.715461Z",
     "shell.execute_reply": "2022-02-11T17:44:25.715931Z"
    }
   },
   "outputs": [],
   "source": [
    "display(\n",
    "    OnePiece.figure.plot_bar(\n",
    "        y_,\n",
    "        x_;\n",
    "        name_ = name_,\n",
    "        la = Dict(\"barmode\" => \"stack\"),\n",
    "        ou = joinpath(TE, \"bar.html\"),\n",
    "    ),\n",
    ")"
   ]
  },
  {
   "cell_type": "markdown",
   "id": "1ac66c3b",
   "metadata": {},
   "source": [
    "## plot_heat_map"
   ]
  },
  {
   "cell_type": "code",
   "execution_count": null,
   "id": "9d37bab8",
   "metadata": {
    "execution": {
     "iopub.execute_input": "2022-02-11T17:44:25.718611Z",
     "iopub.status.busy": "2022-02-11T17:44:25.717816Z",
     "iopub.status.idle": "2022-02-11T17:44:26.195350Z",
     "shell.execute_reply": "2022-02-11T17:44:26.194813Z"
    }
   },
   "outputs": [],
   "source": [
    "ma = convert(Matrix, reshape(1:8, (2, 4)))"
   ]
  },
  {
   "cell_type": "code",
   "execution_count": null,
   "id": "36665ec2",
   "metadata": {
    "execution": {
     "iopub.execute_input": "2022-02-11T17:44:26.197281Z",
     "iopub.status.busy": "2022-02-11T17:44:26.196698Z",
     "iopub.status.idle": "2022-02-11T17:44:26.535241Z",
     "shell.execute_reply": "2022-02-11T17:44:26.535664Z"
    }
   },
   "outputs": [],
   "source": [
    "display(\n",
    "    OnePiece.figure.plot_heat_map(\n",
    "        ma,\n",
    "        [string(\"Row\", id) for id in 1:size(ma, 1)],\n",
    "        [string(\"Column\", id) for id in 1:size(ma, 2)],\n",
    "    ),\n",
    ")"
   ]
  },
  {
   "cell_type": "code",
   "execution_count": null,
   "id": "975108c0",
   "metadata": {
    "execution": {
     "iopub.execute_input": "2022-02-11T17:44:26.539495Z",
     "iopub.status.busy": "2022-02-11T17:44:26.538906Z",
     "iopub.status.idle": "2022-02-11T17:44:26.631020Z",
     "shell.execute_reply": "2022-02-11T17:44:26.631534Z"
    }
   },
   "outputs": [],
   "source": [
    "display(OnePiece.figure.plot_heat_map(ma, ou = joinpath(TE, \"heat_map.html\")))"
   ]
  },
  {
   "cell_type": "markdown",
   "id": "3f396855",
   "metadata": {},
   "source": [
    "---"
   ]
  },
  {
   "cell_type": "code",
   "execution_count": null,
   "id": "b4af2023",
   "metadata": {},
   "outputs": [],
   "source": [
    "if isdir(TE)\n",
    "\n",
    "    rm(TE, recursive = true)\n",
    "\n",
    "    println(\"Removed \", TE, \".\")\n",
    "\n",
    "end"
   ]
  }
 ],
 "metadata": {
  "kernelspec": {
   "display_name": "Julia 1.7.2",
   "language": "julia",
   "name": "julia-1.7"
  },
  "language_info": {
   "file_extension": ".jl",
   "mimetype": "application/julia",
   "name": "julia",
   "version": "1.7.2"
  }
 },
 "nbformat": 4,
 "nbformat_minor": 5
}
