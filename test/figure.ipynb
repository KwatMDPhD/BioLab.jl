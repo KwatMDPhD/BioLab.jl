{
 "cells": [
  {
   "cell_type": "code",
   "execution_count": null,
   "id": "017464da",
   "metadata": {
    "execution": {
     "iopub.execute_input": "2022-02-13T05:22:05.623927Z",
     "iopub.status.busy": "2022-02-13T05:22:05.246801Z",
     "iopub.status.idle": "2022-02-13T05:22:05.831396Z",
     "shell.execute_reply": "2022-02-13T05:22:05.830817Z"
    }
   },
   "outputs": [],
   "source": [
    "TE = joinpath(tempdir(), \"OnePiece.test\")\n",
    "\n",
    "if isdir(TE)\n",
    "\n",
    "    rm(TE, recursive = true)\n",
    "\n",
    "    println(\"Removed \", TE, \".\")\n",
    "\n",
    "end\n",
    "\n",
    "mkdir(TE)\n",
    "\n",
    "println(\"Made \", TE, \".\")"
   ]
  },
  {
   "cell_type": "code",
   "execution_count": null,
   "id": "34e4701e",
   "metadata": {
    "execution": {
     "iopub.execute_input": "2022-02-13T05:22:05.833370Z",
     "iopub.status.busy": "2022-02-13T05:22:05.832801Z",
     "iopub.status.idle": "2022-02-13T05:22:10.217980Z",
     "shell.execute_reply": "2022-02-13T05:22:10.217541Z"
    }
   },
   "outputs": [],
   "source": [
    "using OnePiece"
   ]
  },
  {
   "cell_type": "markdown",
   "id": "b92a3da9",
   "metadata": {},
   "source": [
    "---"
   ]
  },
  {
   "cell_type": "markdown",
   "id": "6809059e",
   "metadata": {},
   "source": [
    "## plot"
   ]
  },
  {
   "cell_type": "code",
   "execution_count": null,
   "id": "2329cb27",
   "metadata": {
    "execution": {
     "iopub.execute_input": "2022-02-13T05:22:10.523858Z",
     "iopub.status.busy": "2022-02-13T05:22:10.219328Z",
     "iopub.status.idle": "2022-02-13T05:22:10.568838Z",
     "shell.execute_reply": "2022-02-13T05:22:10.568452Z"
    }
   },
   "outputs": [],
   "source": [
    "using PlotlyLight"
   ]
  },
  {
   "cell_type": "code",
   "execution_count": null,
   "id": "f55a7149",
   "metadata": {
    "execution": {
     "iopub.execute_input": "2022-02-13T05:22:10.570646Z",
     "iopub.status.busy": "2022-02-13T05:22:10.570145Z",
     "iopub.status.idle": "2022-02-13T05:22:11.858099Z",
     "shell.execute_reply": "2022-02-13T05:22:11.857706Z"
    }
   },
   "outputs": [],
   "source": [
    "tr_ = [Dict()]\n",
    "\n",
    "display(OnePiece.figure.plot(tr_))"
   ]
  },
  {
   "cell_type": "code",
   "execution_count": null,
   "id": "ceb911ba",
   "metadata": {
    "execution": {
     "iopub.execute_input": "2022-02-13T05:22:11.859966Z",
     "iopub.status.busy": "2022-02-13T05:22:11.859465Z",
     "iopub.status.idle": "2022-02-13T05:22:11.950573Z",
     "shell.execute_reply": "2022-02-13T05:22:11.950192Z"
    }
   },
   "outputs": [],
   "source": [
    "la = Config(\n",
    "    template = \"plotly_dark\",\n",
    "    title = \"Title\",\n",
    "    yaxis = Config(title = \"Y-Axis Title\"),\n",
    "    xaxis = Config(title = \"X-Axis Title\"),\n",
    ")\n",
    "\n",
    "display(OnePiece.figure.plot(tr_, la))"
   ]
  },
  {
   "cell_type": "code",
   "execution_count": null,
   "id": "303451fd",
   "metadata": {
    "execution": {
     "iopub.execute_input": "2022-02-13T05:22:11.953117Z",
     "iopub.status.busy": "2022-02-13T05:22:11.952284Z",
     "iopub.status.idle": "2022-02-13T05:22:11.995211Z",
     "shell.execute_reply": "2022-02-13T05:22:11.994715Z"
    }
   },
   "outputs": [],
   "source": [
    "co = Config(displaylog = true)\n",
    "\n",
    "display(OnePiece.figure.plot(tr_, la, co))"
   ]
  },
  {
   "cell_type": "code",
   "execution_count": null,
   "id": "29d9de98",
   "metadata": {
    "execution": {
     "iopub.execute_input": "2022-02-13T05:22:11.997204Z",
     "iopub.status.busy": "2022-02-13T05:22:11.996583Z",
     "iopub.status.idle": "2022-02-13T05:22:12.041527Z",
     "shell.execute_reply": "2022-02-13T05:22:12.042424Z"
    }
   },
   "outputs": [],
   "source": [
    "display(OnePiece.figure.plot(tr_, ou = joinpath(TE, \"output.html\")))"
   ]
  },
  {
   "cell_type": "markdown",
   "id": "a2513ee0",
   "metadata": {},
   "source": [
    "## write"
   ]
  },
  {
   "cell_type": "code",
   "execution_count": null,
   "id": "3066f153",
   "metadata": {
    "execution": {
     "iopub.execute_input": "2022-02-13T05:22:12.044855Z",
     "iopub.status.busy": "2022-02-13T05:22:12.044168Z",
     "iopub.status.idle": "2022-02-13T05:22:12.048520Z",
     "shell.execute_reply": "2022-02-13T05:22:12.047995Z"
    }
   },
   "outputs": [],
   "source": [
    "pl = OnePiece.figure.plot(tr_)\n",
    "\n",
    "OnePiece.figure.write(joinpath(tempdir(), \"snow.png\"), pl, 400, 200, 1.0)"
   ]
  },
  {
   "cell_type": "markdown",
   "id": "ced90427",
   "metadata": {},
   "source": [
    "## plot_x_y"
   ]
  },
  {
   "cell_type": "code",
   "execution_count": null,
   "id": "8d7065b0",
   "metadata": {
    "execution": {
     "iopub.execute_input": "2022-02-13T05:22:12.050703Z",
     "iopub.status.busy": "2022-02-13T05:22:12.050105Z",
     "iopub.status.idle": "2022-02-13T05:22:12.117291Z",
     "shell.execute_reply": "2022-02-13T05:22:12.116763Z"
    }
   },
   "outputs": [],
   "source": [
    "x1 = [-1, 0, 2]\n",
    "\n",
    "x2 = [3, 4]\n",
    "\n",
    "x_ = [x1, x2]\n",
    "\n",
    "y1 = x1 .* 10\n",
    "\n",
    "y2 = x2 .* 20\n",
    "\n",
    "y_ = [y1, y2]\n",
    "\n",
    ";"
   ]
  },
  {
   "cell_type": "code",
   "execution_count": null,
   "id": "a8798a0a",
   "metadata": {
    "execution": {
     "iopub.execute_input": "2022-02-13T05:22:12.119223Z",
     "iopub.status.busy": "2022-02-13T05:22:12.118659Z",
     "iopub.status.idle": "2022-02-13T05:22:12.646680Z",
     "shell.execute_reply": "2022-02-13T05:22:12.646283Z"
    }
   },
   "outputs": [],
   "source": [
    "display(OnePiece.figure.plot_x_y(y_))"
   ]
  },
  {
   "cell_type": "code",
   "execution_count": null,
   "id": "268b8935",
   "metadata": {
    "execution": {
     "iopub.execute_input": "2022-02-13T05:22:12.648465Z",
     "iopub.status.busy": "2022-02-13T05:22:12.647930Z",
     "iopub.status.idle": "2022-02-13T05:22:12.687426Z",
     "shell.execute_reply": "2022-02-13T05:22:12.686886Z"
    }
   },
   "outputs": [],
   "source": [
    "display(OnePiece.figure.plot_x_y(y_; la = la))"
   ]
  },
  {
   "cell_type": "code",
   "execution_count": null,
   "id": "aaf9a733",
   "metadata": {
    "execution": {
     "iopub.execute_input": "2022-02-13T05:22:12.690902Z",
     "iopub.status.busy": "2022-02-13T05:22:12.689706Z",
     "iopub.status.idle": "2022-02-13T05:22:12.766743Z",
     "shell.execute_reply": "2022-02-13T05:22:12.766187Z"
    }
   },
   "outputs": [],
   "source": [
    "display(OnePiece.figure.plot_x_y(y_, x_; la = la, ou = joinpath(TE, \"x_y.html\")))"
   ]
  },
  {
   "cell_type": "markdown",
   "id": "3ac78e65",
   "metadata": {},
   "source": [
    "## plot_bar"
   ]
  },
  {
   "cell_type": "code",
   "execution_count": null,
   "id": "b248787f",
   "metadata": {
    "execution": {
     "iopub.execute_input": "2022-02-13T05:22:12.769027Z",
     "iopub.status.busy": "2022-02-13T05:22:12.768384Z",
     "iopub.status.idle": "2022-02-13T05:22:13.874754Z",
     "shell.execute_reply": "2022-02-13T05:22:13.874368Z"
    }
   },
   "outputs": [],
   "source": [
    "y1 = [-1, 2, 5]\n",
    "\n",
    "y2 = reverse(y1)\n",
    "\n",
    "y_ = [y1, y2]"
   ]
  },
  {
   "cell_type": "code",
   "execution_count": null,
   "id": "b4bc6e6b",
   "metadata": {
    "execution": {
     "iopub.execute_input": "2022-02-13T05:22:13.876604Z",
     "iopub.status.busy": "2022-02-13T05:22:13.876114Z",
     "iopub.status.idle": "2022-02-13T05:22:13.926086Z",
     "shell.execute_reply": "2022-02-13T05:22:13.926411Z"
    }
   },
   "outputs": [],
   "source": [
    "display(OnePiece.figure.plot_bar(y_))"
   ]
  },
  {
   "cell_type": "code",
   "execution_count": null,
   "id": "79736494",
   "metadata": {
    "execution": {
     "iopub.execute_input": "2022-02-13T05:22:13.928608Z",
     "iopub.status.busy": "2022-02-13T05:22:13.928068Z",
     "iopub.status.idle": "2022-02-13T05:22:13.957974Z",
     "shell.execute_reply": "2022-02-13T05:22:13.958340Z"
    }
   },
   "outputs": [],
   "source": [
    "display(OnePiece.figure.plot_bar(y_; la = la))"
   ]
  },
  {
   "cell_type": "code",
   "execution_count": null,
   "id": "7a950a15",
   "metadata": {
    "execution": {
     "iopub.execute_input": "2022-02-13T05:22:13.960394Z",
     "iopub.status.busy": "2022-02-13T05:22:13.959809Z",
     "iopub.status.idle": "2022-02-13T05:22:14.081443Z",
     "shell.execute_reply": "2022-02-13T05:22:14.080981Z"
    }
   },
   "outputs": [],
   "source": [
    "name1 = \"Orange\"\n",
    "\n",
    "name2 = \"Blue\"\n",
    "\n",
    "name_ = [name1, name2]\n",
    "\n",
    "x1 = [-2, -1, 0]\n",
    "\n",
    "x2 = .-reverse(x1)\n",
    "\n",
    "x_ = [x1, x2]\n",
    "\n",
    "display(OnePiece.figure.plot_bar(y_, x_; name_ = name_, la = la))"
   ]
  },
  {
   "cell_type": "code",
   "execution_count": null,
   "id": "4febf9ea",
   "metadata": {
    "execution": {
     "iopub.execute_input": "2022-02-13T05:22:14.083403Z",
     "iopub.status.busy": "2022-02-13T05:22:14.082766Z",
     "iopub.status.idle": "2022-02-13T05:22:14.108634Z",
     "shell.execute_reply": "2022-02-13T05:22:14.108098Z"
    }
   },
   "outputs": [],
   "source": [
    "push!(name_, \"Name 3\")\n",
    "\n",
    "push!(y_, [9])\n",
    "\n",
    "push!(x_, [0])\n",
    "\n",
    "display(OnePiece.figure.plot_bar(y_, x_; name_ = name_, la = la))"
   ]
  },
  {
   "cell_type": "code",
   "execution_count": null,
   "id": "963fdc7d",
   "metadata": {
    "execution": {
     "iopub.execute_input": "2022-02-13T05:22:14.110909Z",
     "iopub.status.busy": "2022-02-13T05:22:14.110121Z",
     "iopub.status.idle": "2022-02-13T05:22:14.297830Z",
     "shell.execute_reply": "2022-02-13T05:22:14.297363Z"
    }
   },
   "outputs": [],
   "source": [
    "display(\n",
    "    OnePiece.figure.plot_bar(\n",
    "        y_,\n",
    "        x_;\n",
    "        name_ = name_,\n",
    "        la = Dict(\"barmode\" => \"stack\"),\n",
    "        ou = joinpath(TE, \"bar.html\"),\n",
    "    ),\n",
    ")"
   ]
  },
  {
   "cell_type": "markdown",
   "id": "1ac66c3b",
   "metadata": {},
   "source": [
    "## plot_heat_map"
   ]
  },
  {
   "cell_type": "code",
   "execution_count": null,
   "id": "9d37bab8",
   "metadata": {
    "execution": {
     "iopub.execute_input": "2022-02-13T05:22:14.300229Z",
     "iopub.status.busy": "2022-02-13T05:22:14.299648Z",
     "iopub.status.idle": "2022-02-13T05:22:14.737753Z",
     "shell.execute_reply": "2022-02-13T05:22:14.737370Z"
    }
   },
   "outputs": [],
   "source": [
    "ma = convert(Matrix, reshape(1:8, (2, 4)))"
   ]
  },
  {
   "cell_type": "code",
   "execution_count": null,
   "id": "36665ec2",
   "metadata": {
    "execution": {
     "iopub.execute_input": "2022-02-13T05:22:14.740389Z",
     "iopub.status.busy": "2022-02-13T05:22:14.739469Z",
     "iopub.status.idle": "2022-02-13T05:22:15.052033Z",
     "shell.execute_reply": "2022-02-13T05:22:15.052358Z"
    }
   },
   "outputs": [],
   "source": [
    "display(\n",
    "    OnePiece.figure.plot_heat_map(\n",
    "        ma,\n",
    "        [string(\"Row\", id) for id in 1:size(ma, 1)],\n",
    "        [string(\"Column\", id) for id in 1:size(ma, 2)],\n",
    "    ),\n",
    ")"
   ]
  },
  {
   "cell_type": "code",
   "execution_count": null,
   "id": "975108c0",
   "metadata": {
    "execution": {
     "iopub.execute_input": "2022-02-13T05:22:15.054503Z",
     "iopub.status.busy": "2022-02-13T05:22:15.053822Z",
     "iopub.status.idle": "2022-02-13T05:22:15.139938Z",
     "shell.execute_reply": "2022-02-13T05:22:15.140400Z"
    }
   },
   "outputs": [],
   "source": [
    "display(OnePiece.figure.plot_heat_map(ma, ou = joinpath(TE, \"heat_map.html\")))"
   ]
  },
  {
   "cell_type": "markdown",
   "id": "3f396855",
   "metadata": {},
   "source": [
    "---"
   ]
  },
  {
   "cell_type": "code",
   "execution_count": null,
   "id": "b4af2023",
   "metadata": {
    "execution": {
     "iopub.execute_input": "2022-02-13T05:22:15.144570Z",
     "iopub.status.busy": "2022-02-13T05:22:15.143878Z",
     "iopub.status.idle": "2022-02-13T05:22:15.147601Z",
     "shell.execute_reply": "2022-02-13T05:22:15.147178Z"
    }
   },
   "outputs": [],
   "source": [
    "if isdir(TE)\n",
    "\n",
    "    rm(TE, recursive = true)\n",
    "\n",
    "    println(\"Removed \", TE, \".\")\n",
    "\n",
    "end"
   ]
  }
 ],
 "metadata": {
  "kernelspec": {
   "display_name": "Julia 1.7.2",
   "language": "julia",
   "name": "julia-1.7"
  },
  "language_info": {
   "file_extension": ".jl",
   "mimetype": "application/julia",
   "name": "julia",
   "version": "1.7.2"
  }
 },
 "nbformat": 4,
 "nbformat_minor": 5
}
