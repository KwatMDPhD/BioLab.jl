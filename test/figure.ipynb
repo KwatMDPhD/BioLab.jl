{
 "cells": [
  {
   "cell_type": "code",
   "execution_count": null,
   "id": "baf12f00",
   "metadata": {
    "execution": {
     "iopub.execute_input": "2022-08-25T17:16:25.433000Z",
     "iopub.status.busy": "2022-08-25T17:16:24.937000Z",
     "iopub.status.idle": "2022-08-25T17:16:32.295000Z",
     "shell.execute_reply": "2022-08-25T17:16:32.254000Z"
    }
   },
   "outputs": [],
   "source": [
    "using OnePiece"
   ]
  },
  {
   "cell_type": "code",
   "execution_count": null,
   "id": "c4b58199",
   "metadata": {
    "execution": {
     "iopub.execute_input": "2022-08-25T17:16:32.491000Z",
     "iopub.status.busy": "2022-08-25T17:16:32.298000Z",
     "iopub.status.idle": "2022-08-25T17:16:33.097000Z",
     "shell.execute_reply": "2022-08-25T17:16:33.096000Z"
    }
   },
   "outputs": [],
   "source": [
    "te = OnePiece.path.make_temporary(\"OnePiece.test.figure\")"
   ]
  },
  {
   "cell_type": "markdown",
   "id": "84e40a06",
   "metadata": {},
   "source": [
    "## plot"
   ]
  },
  {
   "cell_type": "code",
   "execution_count": null,
   "id": "37fb91b2",
   "metadata": {
    "execution": {
     "iopub.execute_input": "2022-08-25T17:16:33.100000Z",
     "iopub.status.busy": "2022-08-25T17:16:33.100000Z",
     "iopub.status.idle": "2022-08-25T17:16:34.612000Z",
     "shell.execute_reply": "2022-08-25T17:16:34.611000Z"
    }
   },
   "outputs": [],
   "source": [
    "data = [Dict()]\n",
    "\n",
    "OnePiece.figure.plot(data)"
   ]
  },
  {
   "cell_type": "code",
   "execution_count": null,
   "id": "ec645662",
   "metadata": {
    "execution": {
     "iopub.execute_input": "2022-08-25T17:16:34.614000Z",
     "iopub.status.busy": "2022-08-25T17:16:34.614000Z",
     "iopub.status.idle": "2022-08-25T17:16:34.783000Z",
     "shell.execute_reply": "2022-08-25T17:16:34.782000Z"
    }
   },
   "outputs": [],
   "source": [
    "layout = Dict(\n",
    "    \"title\" => \"Title\",\n",
    "    \"yaxis\" => Dict(\"title\" => \"Y-Axis Title\"),\n",
    "    \"xaxis\" => Dict(\"title\" => \"X-Axis Title\"),\n",
    ")\n",
    "\n",
    "OnePiece.figure.plot(data, layout)"
   ]
  },
  {
   "cell_type": "code",
   "execution_count": null,
   "id": "ae72a412",
   "metadata": {
    "execution": {
     "iopub.execute_input": "2022-08-25T17:16:34.786000Z",
     "iopub.status.busy": "2022-08-25T17:16:34.786000Z",
     "iopub.status.idle": "2022-08-25T17:16:34.795000Z",
     "shell.execute_reply": "2022-08-25T17:16:34.795000Z"
    }
   },
   "outputs": [],
   "source": [
    "OnePiece.figure.plot(data, ou = joinpath(te, \"output.html\"))"
   ]
  },
  {
   "cell_type": "markdown",
   "id": "01af355b",
   "metadata": {},
   "source": [
    "## plot_bar"
   ]
  },
  {
   "cell_type": "code",
   "execution_count": null,
   "id": "1f297153",
   "metadata": {
    "execution": {
     "iopub.execute_input": "2022-08-25T17:16:34.798000Z",
     "iopub.status.busy": "2022-08-25T17:16:34.798000Z",
     "iopub.status.idle": "2022-08-25T17:16:35.744000Z",
     "shell.execute_reply": "2022-08-25T17:16:35.744000Z"
    }
   },
   "outputs": [],
   "source": [
    "y1 = [-1, 2, 5]\n",
    "\n",
    "y2 = reverse(y1)\n",
    "\n",
    "y_ = [y1, y2]"
   ]
  },
  {
   "cell_type": "code",
   "execution_count": null,
   "id": "2568a640",
   "metadata": {
    "execution": {
     "iopub.execute_input": "2022-08-25T17:16:35.747000Z",
     "iopub.status.busy": "2022-08-25T17:16:35.747000Z",
     "iopub.status.idle": "2022-08-25T17:16:36.624000Z",
     "shell.execute_reply": "2022-08-25T17:16:36.624000Z"
    }
   },
   "outputs": [],
   "source": [
    "OnePiece.figure.plot_bar(y_)"
   ]
  },
  {
   "cell_type": "code",
   "execution_count": null,
   "id": "b9ca7825",
   "metadata": {
    "execution": {
     "iopub.execute_input": "2022-08-25T17:16:36.627000Z",
     "iopub.status.busy": "2022-08-25T17:16:36.627000Z",
     "iopub.status.idle": "2022-08-25T17:16:36.941000Z",
     "shell.execute_reply": "2022-08-25T17:16:36.941000Z"
    }
   },
   "outputs": [],
   "source": [
    "name1 = \"Jonathan\"\n",
    "\n",
    "name2 = \"Joseph\"\n",
    "\n",
    "name_ = [name1, name2]"
   ]
  },
  {
   "cell_type": "code",
   "execution_count": null,
   "id": "1969df42",
   "metadata": {
    "execution": {
     "iopub.execute_input": "2022-08-25T17:16:36.944000Z",
     "iopub.status.busy": "2022-08-25T17:16:36.944000Z",
     "iopub.status.idle": "2022-08-25T17:16:36.992000Z",
     "shell.execute_reply": "2022-08-25T17:16:36.992000Z"
    }
   },
   "outputs": [],
   "source": [
    "x1 = [-2, -1, 0]\n",
    "\n",
    "x2 = .-reverse(x1)\n",
    "\n",
    "x_ = [x1, x2]"
   ]
  },
  {
   "cell_type": "code",
   "execution_count": null,
   "id": "e26efbb2",
   "metadata": {
    "execution": {
     "iopub.execute_input": "2022-08-25T17:16:36.995000Z",
     "iopub.status.busy": "2022-08-25T17:16:36.995000Z",
     "iopub.status.idle": "2022-08-25T17:16:37.103000Z",
     "shell.execute_reply": "2022-08-25T17:16:37.103000Z"
    }
   },
   "outputs": [],
   "source": [
    "OnePiece.figure.plot_bar(y_, x_, name_ = name_)"
   ]
  },
  {
   "cell_type": "code",
   "execution_count": null,
   "id": "5091099b",
   "metadata": {
    "execution": {
     "iopub.execute_input": "2022-08-25T17:16:37.108000Z",
     "iopub.status.busy": "2022-08-25T17:16:37.108000Z",
     "iopub.status.idle": "2022-08-25T17:16:37.114000Z",
     "shell.execute_reply": "2022-08-25T17:16:37.114000Z"
    }
   },
   "outputs": [],
   "source": [
    "push!(name_, \"Jotaro\")\n",
    "\n",
    "push!(y_, [8])\n",
    "\n",
    "push!(x_, [0])\n",
    "\n",
    "OnePiece.figure.plot_bar(y_, x_, name_ = name_)"
   ]
  },
  {
   "cell_type": "code",
   "execution_count": null,
   "id": "7275f857",
   "metadata": {
    "execution": {
     "iopub.execute_input": "2022-08-25T17:16:37.118000Z",
     "iopub.status.busy": "2022-08-25T17:16:37.118000Z",
     "iopub.status.idle": "2022-08-25T17:16:37.184000Z",
     "shell.execute_reply": "2022-08-25T17:16:37.184000Z"
    }
   },
   "outputs": [],
   "source": [
    "OnePiece.figure.plot_bar(\n",
    "    y_,\n",
    "    x_,\n",
    "    name_ = name_,\n",
    "    layout = Dict(\"barmode\" => \"stack\", \"title\" => Dict(\"text\" => \"Stack\")),\n",
    "    ou = joinpath(te, \"bar.html\"),\n",
    ")"
   ]
  },
  {
   "cell_type": "markdown",
   "id": "5f2dd5ab-9f6d-4838-ad2c-e545b7b8dcc4",
   "metadata": {},
   "source": [
    "## plot_heat_map"
   ]
  },
  {
   "cell_type": "code",
   "execution_count": null,
   "id": "4f9637cd",
   "metadata": {
    "execution": {
     "iopub.execute_input": "2022-08-25T17:16:37.187000Z",
     "iopub.status.busy": "2022-08-25T17:16:37.187000Z",
     "iopub.status.idle": "2022-08-25T17:16:37.662000Z",
     "shell.execute_reply": "2022-08-25T17:16:37.662000Z"
    }
   },
   "outputs": [],
   "source": [
    "ma = OnePiece.matrix.simulate(2, 4)"
   ]
  },
  {
   "cell_type": "code",
   "execution_count": null,
   "id": "1736400b-6d8c-42c9-98d1-9516ccbb1d07",
   "metadata": {
    "execution": {
     "iopub.execute_input": "2022-08-25T17:16:37.665000Z",
     "iopub.status.busy": "2022-08-25T17:16:37.665000Z",
     "iopub.status.idle": "2022-08-25T17:16:40.108000Z",
     "shell.execute_reply": "2022-08-25T17:16:40.107000Z"
    }
   },
   "outputs": [],
   "source": [
    "OnePiece.figure.plot_heat_map(ma)"
   ]
  },
  {
   "cell_type": "code",
   "execution_count": null,
   "id": "31b0f214",
   "metadata": {
    "execution": {
     "iopub.execute_input": "2022-08-25T17:16:40.111000Z",
     "iopub.status.busy": "2022-08-25T17:16:40.111000Z",
     "iopub.status.idle": "2022-08-25T17:16:40.174000Z",
     "shell.execute_reply": "2022-08-25T17:16:40.174000Z"
    }
   },
   "outputs": [],
   "source": [
    "OnePiece.figure.plot_heat_map(\n",
    "    ma,\n",
    "    y = [\"Row$id\" for id in 1:size(ma, 1)],\n",
    "    x = [\"Column$id\" for id in 1:size(ma, 2)],\n",
    ")"
   ]
  },
  {
   "cell_type": "code",
   "execution_count": null,
   "id": "e8d39c80",
   "metadata": {
    "execution": {
     "iopub.execute_input": "2022-08-25T17:16:40.177000Z",
     "iopub.status.busy": "2022-08-25T17:16:40.177000Z",
     "iopub.status.idle": "2022-08-25T17:16:40.219000Z",
     "shell.execute_reply": "2022-08-25T17:16:40.219000Z"
    }
   },
   "outputs": [],
   "source": [
    "OnePiece.figure.plot_heat_map(ma, ou = joinpath(te, \"heat_map.html\"))"
   ]
  },
  {
   "cell_type": "code",
   "execution_count": null,
   "id": "624a0a68-51ba-441d-8288-1e2d0e1b7a2a",
   "metadata": {
    "execution": {
     "iopub.execute_input": "2022-08-25T17:16:40.224000Z",
     "iopub.status.busy": "2022-08-25T17:16:40.224000Z",
     "iopub.status.idle": "2022-08-25T17:16:40.509000Z",
     "shell.execute_reply": "2022-08-25T17:16:40.509000Z"
    }
   },
   "outputs": [],
   "source": [
    "y = [-1, 1, -2, 2]\n",
    "\n",
    "x = [1, 4, 2, 5, 3, 6]\n",
    "\n",
    "ma = [la1 * la2 for la1 in y, la2 in x]"
   ]
  },
  {
   "cell_type": "code",
   "execution_count": null,
   "id": "fed0dc65-9237-4641-8e2a-012f1e9f877b",
   "metadata": {
    "execution": {
     "iopub.execute_input": "2022-08-25T17:16:40.512000Z",
     "iopub.status.busy": "2022-08-25T17:16:40.512000Z",
     "iopub.status.idle": "2022-08-25T17:16:41.257000Z",
     "shell.execute_reply": "2022-08-25T17:16:41.256000Z"
    }
   },
   "outputs": [],
   "source": [
    "gr1_ = [1, 2, 1, 2]\n",
    "\n",
    "OnePiece.figure.plot_heat_map(ma, gr1_ = gr1_)"
   ]
  },
  {
   "cell_type": "code",
   "execution_count": null,
   "id": "11610cc8-4831-4a82-9a0d-383428c29bc1",
   "metadata": {
    "execution": {
     "iopub.execute_input": "2022-08-25T17:16:41.260000Z",
     "iopub.status.busy": "2022-08-25T17:16:41.259000Z",
     "iopub.status.idle": "2022-08-25T17:16:41.371000Z",
     "shell.execute_reply": "2022-08-25T17:16:41.371000Z"
    }
   },
   "outputs": [],
   "source": [
    "gr2_ = [1, 2, 1, 2, 1, 2]\n",
    "\n",
    "OnePiece.figure.plot_heat_map(ma, gr2_ = gr2_)"
   ]
  },
  {
   "cell_type": "code",
   "execution_count": null,
   "id": "4772c9e4-39e1-4d10-954f-63061de2b458",
   "metadata": {
    "execution": {
     "iopub.execute_input": "2022-08-25T17:16:41.375000Z",
     "iopub.status.busy": "2022-08-25T17:16:41.375000Z",
     "iopub.status.idle": "2022-08-25T17:16:41.516000Z",
     "shell.execute_reply": "2022-08-25T17:16:41.516000Z"
    }
   },
   "outputs": [],
   "source": [
    "OnePiece.figure.plot_heat_map(\n",
    "    ma,\n",
    "    y = string.(\"*\", y),\n",
    "    x = string.(\"*\", x),\n",
    "    gr1_ = gr1_,\n",
    "    gr2_ = gr2_,\n",
    ")"
   ]
  },
  {
   "cell_type": "markdown",
   "id": "a48817d0",
   "metadata": {},
   "source": [
    "## plot_histogram"
   ]
  },
  {
   "cell_type": "code",
   "execution_count": null,
   "id": "34d85b5d",
   "metadata": {
    "execution": {
     "iopub.execute_input": "2022-08-25T17:16:41.519000Z",
     "iopub.status.busy": "2022-08-25T17:16:41.519000Z",
     "iopub.status.idle": "2022-08-25T17:16:43.023000Z",
     "shell.execute_reply": "2022-08-25T17:16:43.023000Z"
    }
   },
   "outputs": [],
   "source": [
    "x_ = [[-1], [0, 1], [2, 3, 4]]\n",
    "\n",
    "OnePiece.figure.plot_histogram(x_)"
   ]
  },
  {
   "cell_type": "code",
   "execution_count": null,
   "id": "866a3d3e",
   "metadata": {
    "execution": {
     "iopub.execute_input": "2022-08-25T17:16:43.026000Z",
     "iopub.status.busy": "2022-08-25T17:16:43.026000Z",
     "iopub.status.idle": "2022-08-25T17:16:43.309000Z",
     "shell.execute_reply": "2022-08-25T17:16:43.309000Z"
    }
   },
   "outputs": [],
   "source": [
    "text_ = [[\"1A\"], [\"2A\", \"2B\"], [\"3A\", \"3B\", \"3C\"]]\n",
    "\n",
    "OnePiece.figure.plot_histogram(x_, text_)"
   ]
  },
  {
   "cell_type": "code",
   "execution_count": null,
   "id": "e0a6957a",
   "metadata": {
    "execution": {
     "iopub.execute_input": "2022-08-25T17:16:43.312000Z",
     "iopub.status.busy": "2022-08-25T17:16:43.312000Z",
     "iopub.status.idle": "2022-08-25T17:16:43.616000Z",
     "shell.execute_reply": "2022-08-25T17:16:43.616000Z"
    }
   },
   "outputs": [],
   "source": [
    "OnePiece.figure.plot_histogram(x_, text_, xbins_size = 1)"
   ]
  },
  {
   "cell_type": "markdown",
   "id": "4889aca0",
   "metadata": {},
   "source": [
    "## plot_scatter"
   ]
  },
  {
   "cell_type": "code",
   "execution_count": null,
   "id": "58a30a5c",
   "metadata": {
    "execution": {
     "iopub.execute_input": "2022-08-25T17:16:43.619000Z",
     "iopub.status.busy": "2022-08-25T17:16:43.619000Z",
     "iopub.status.idle": "2022-08-25T17:16:43.623000Z",
     "shell.execute_reply": "2022-08-25T17:16:43.623000Z"
    }
   },
   "outputs": [],
   "source": [
    "x1 = [-1, 0, 2]\n",
    "\n",
    "x2 = [3, 4]\n",
    "\n",
    "x_ = [x1, x2]"
   ]
  },
  {
   "cell_type": "code",
   "execution_count": null,
   "id": "aec95893",
   "metadata": {
    "execution": {
     "iopub.execute_input": "2022-08-25T17:16:43.626000Z",
     "iopub.status.busy": "2022-08-25T17:16:43.626000Z",
     "iopub.status.idle": "2022-08-25T17:16:43.662000Z",
     "shell.execute_reply": "2022-08-25T17:16:43.662000Z"
    }
   },
   "outputs": [],
   "source": [
    "y1 = x1 .* 10\n",
    "\n",
    "y2 = x2 .* 20\n",
    "\n",
    "y_ = [y1, y2]"
   ]
  },
  {
   "cell_type": "code",
   "execution_count": null,
   "id": "f29cca1a",
   "metadata": {
    "execution": {
     "iopub.execute_input": "2022-08-25T17:16:43.665000Z",
     "iopub.status.busy": "2022-08-25T17:16:43.665000Z",
     "iopub.status.idle": "2022-08-25T17:16:43.856000Z",
     "shell.execute_reply": "2022-08-25T17:16:43.855000Z"
    }
   },
   "outputs": [],
   "source": [
    "OnePiece.figure.plot_scatter(y_)"
   ]
  },
  {
   "cell_type": "code",
   "execution_count": null,
   "id": "672c6dab",
   "metadata": {
    "execution": {
     "iopub.execute_input": "2022-08-25T17:16:43.859000Z",
     "iopub.status.busy": "2022-08-25T17:16:43.859000Z",
     "iopub.status.idle": "2022-08-25T17:16:44.038000Z",
     "shell.execute_reply": "2022-08-25T17:16:44.038000Z"
    }
   },
   "outputs": [],
   "source": [
    "OnePiece.figure.plot_scatter(y_, x_, ou = joinpath(te, \"scatter.html\"))"
   ]
  }
 ],
 "metadata": {
  "@webio": {
   "lastCommId": null,
   "lastKernelId": null
  },
  "kernelspec": {
   "display_name": "Julia 1.8.0",
   "language": "julia",
   "name": "julia-1.8"
  },
  "language_info": {
   "file_extension": ".jl",
   "mimetype": "application/julia",
   "name": "julia",
   "version": "1.8.0"
  }
 },
 "nbformat": 4,
 "nbformat_minor": 5
}
