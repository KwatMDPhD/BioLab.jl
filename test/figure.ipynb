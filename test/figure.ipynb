{
 "cells": [
  {
   "cell_type": "code",
   "execution_count": null,
   "id": "baf12f00",
   "metadata": {
    "execution": {
     "iopub.execute_input": "2022-08-17T13:45:45.347000Z",
     "iopub.status.busy": "2022-08-17T13:45:45.009000Z",
     "iopub.status.idle": "2022-08-17T13:45:49.894000Z",
     "shell.execute_reply": "2022-08-17T13:45:49.849000Z"
    }
   },
   "outputs": [],
   "source": [
    "using OnePiece"
   ]
  },
  {
   "cell_type": "code",
   "execution_count": null,
   "id": "c4b58199",
   "metadata": {
    "execution": {
     "iopub.execute_input": "2022-08-17T13:45:50.502000Z",
     "iopub.status.busy": "2022-08-17T13:45:49.910000Z",
     "iopub.status.idle": "2022-08-17T13:45:51.088000Z",
     "shell.execute_reply": "2022-08-17T13:45:51.088000Z"
    }
   },
   "outputs": [],
   "source": [
    "te = OnePiece.path.make_temporary(\"OnePiece.test.figure\")"
   ]
  },
  {
   "cell_type": "markdown",
   "id": "84e40a06",
   "metadata": {},
   "source": [
    "## plot"
   ]
  },
  {
   "cell_type": "code",
   "execution_count": null,
   "id": "37fb91b2",
   "metadata": {
    "execution": {
     "iopub.execute_input": "2022-08-17T13:45:51.092000Z",
     "iopub.status.busy": "2022-08-17T13:45:51.091000Z",
     "iopub.status.idle": "2022-08-17T13:45:52.033000Z",
     "shell.execute_reply": "2022-08-17T13:45:52.033000Z"
    }
   },
   "outputs": [],
   "source": [
    "data = [Dict()]\n",
    "\n",
    "OnePiece.figure.plot(data)"
   ]
  },
  {
   "cell_type": "code",
   "execution_count": null,
   "id": "ec645662",
   "metadata": {
    "execution": {
     "iopub.execute_input": "2022-08-17T13:45:52.036000Z",
     "iopub.status.busy": "2022-08-17T13:45:52.036000Z",
     "iopub.status.idle": "2022-08-17T13:45:52.191000Z",
     "shell.execute_reply": "2022-08-17T13:45:52.190000Z"
    }
   },
   "outputs": [],
   "source": [
    "layout = Dict(\n",
    "    \"title\" => \"Title\",\n",
    "    \"yaxis\" => Dict(\"title\" => \"Y-Axis Title\"),\n",
    "    \"xaxis\" => Dict(\"title\" => \"X-Axis Title\"),\n",
    ")\n",
    "\n",
    "OnePiece.figure.plot(data, layout)"
   ]
  },
  {
   "cell_type": "code",
   "execution_count": null,
   "id": "ae72a412",
   "metadata": {
    "execution": {
     "iopub.execute_input": "2022-08-17T13:45:52.194000Z",
     "iopub.status.busy": "2022-08-17T13:45:52.194000Z",
     "iopub.status.idle": "2022-08-17T13:45:52.212000Z",
     "shell.execute_reply": "2022-08-17T13:45:52.212000Z"
    }
   },
   "outputs": [],
   "source": [
    "OnePiece.figure.plot(data, ou = joinpath(te, \"output.html\"))"
   ]
  },
  {
   "cell_type": "markdown",
   "id": "01af355b",
   "metadata": {},
   "source": [
    "## plot_bar"
   ]
  },
  {
   "cell_type": "code",
   "execution_count": null,
   "id": "1f297153",
   "metadata": {
    "execution": {
     "iopub.execute_input": "2022-08-17T13:45:52.216000Z",
     "iopub.status.busy": "2022-08-17T13:45:52.216000Z",
     "iopub.status.idle": "2022-08-17T13:45:53.095000Z",
     "shell.execute_reply": "2022-08-17T13:45:53.095000Z"
    }
   },
   "outputs": [],
   "source": [
    "y1 = [-1, 2, 5]\n",
    "\n",
    "y2 = reverse(y1)\n",
    "\n",
    "y_ = [y1, y2]"
   ]
  },
  {
   "cell_type": "code",
   "execution_count": null,
   "id": "2568a640",
   "metadata": {
    "execution": {
     "iopub.execute_input": "2022-08-17T13:45:53.098000Z",
     "iopub.status.busy": "2022-08-17T13:45:53.098000Z",
     "iopub.status.idle": "2022-08-17T13:45:53.876000Z",
     "shell.execute_reply": "2022-08-17T13:45:53.876000Z"
    }
   },
   "outputs": [],
   "source": [
    "OnePiece.figure.plot_bar(y_)"
   ]
  },
  {
   "cell_type": "code",
   "execution_count": null,
   "id": "b9ca7825",
   "metadata": {
    "execution": {
     "iopub.execute_input": "2022-08-17T13:45:53.879000Z",
     "iopub.status.busy": "2022-08-17T13:45:53.879000Z",
     "iopub.status.idle": "2022-08-17T13:45:54.217000Z",
     "shell.execute_reply": "2022-08-17T13:45:54.217000Z"
    }
   },
   "outputs": [],
   "source": [
    "name1 = \"Jonathan\"\n",
    "\n",
    "name2 = \"Joseph\"\n",
    "\n",
    "name_ = [name1, name2]"
   ]
  },
  {
   "cell_type": "code",
   "execution_count": null,
   "id": "1969df42",
   "metadata": {
    "execution": {
     "iopub.execute_input": "2022-08-17T13:45:54.220000Z",
     "iopub.status.busy": "2022-08-17T13:45:54.220000Z",
     "iopub.status.idle": "2022-08-17T13:45:54.259000Z",
     "shell.execute_reply": "2022-08-17T13:45:54.258000Z"
    }
   },
   "outputs": [],
   "source": [
    "x1 = [-2, -1, 0]\n",
    "\n",
    "x2 = .-reverse(x1)\n",
    "\n",
    "x_ = [x1, x2]"
   ]
  },
  {
   "cell_type": "code",
   "execution_count": null,
   "id": "e26efbb2",
   "metadata": {
    "execution": {
     "iopub.execute_input": "2022-08-17T13:45:54.262000Z",
     "iopub.status.busy": "2022-08-17T13:45:54.262000Z",
     "iopub.status.idle": "2022-08-17T13:45:54.376000Z",
     "shell.execute_reply": "2022-08-17T13:45:54.375000Z"
    }
   },
   "outputs": [],
   "source": [
    "OnePiece.figure.plot_bar(y_, x_, name_ = name_)"
   ]
  },
  {
   "cell_type": "code",
   "execution_count": null,
   "id": "5091099b",
   "metadata": {
    "execution": {
     "iopub.execute_input": "2022-08-17T13:45:54.381000Z",
     "iopub.status.busy": "2022-08-17T13:45:54.381000Z",
     "iopub.status.idle": "2022-08-17T13:45:54.386000Z",
     "shell.execute_reply": "2022-08-17T13:45:54.386000Z"
    }
   },
   "outputs": [],
   "source": [
    "push!(name_, \"Jotaro\")\n",
    "\n",
    "push!(y_, [8])\n",
    "\n",
    "push!(x_, [0])\n",
    "\n",
    "OnePiece.figure.plot_bar(y_, x_, name_ = name_)"
   ]
  },
  {
   "cell_type": "code",
   "execution_count": null,
   "id": "7275f857",
   "metadata": {
    "execution": {
     "iopub.execute_input": "2022-08-17T13:45:54.390000Z",
     "iopub.status.busy": "2022-08-17T13:45:54.389000Z",
     "iopub.status.idle": "2022-08-17T13:45:54.463000Z",
     "shell.execute_reply": "2022-08-17T13:45:54.463000Z"
    }
   },
   "outputs": [],
   "source": [
    "OnePiece.figure.plot_bar(\n",
    "    y_,\n",
    "    x_,\n",
    "    name_ = name_,\n",
    "    layout = Dict(\"barmode\" => \"stack\", \"title\" => Dict(\"text\" => \"Stack\")),\n",
    "    ou = joinpath(te, \"bar.html\"),\n",
    ")"
   ]
  },
  {
   "cell_type": "markdown",
   "id": "6c8e6968",
   "metadata": {},
   "source": [
    "## plot_heat_map"
   ]
  },
  {
   "cell_type": "code",
   "execution_count": null,
   "id": "4f9637cd",
   "metadata": {
    "execution": {
     "iopub.execute_input": "2022-08-17T13:45:54.466000Z",
     "iopub.status.busy": "2022-08-17T13:45:54.466000Z",
     "iopub.status.idle": "2022-08-17T13:45:54.902000Z",
     "shell.execute_reply": "2022-08-17T13:45:54.902000Z"
    }
   },
   "outputs": [],
   "source": [
    "ma = OnePiece.matrix.simulate(2, 4)"
   ]
  },
  {
   "cell_type": "code",
   "execution_count": null,
   "id": "31b0f214",
   "metadata": {
    "execution": {
     "iopub.execute_input": "2022-08-17T13:45:54.905000Z",
     "iopub.status.busy": "2022-08-17T13:45:54.905000Z",
     "iopub.status.idle": "2022-08-17T13:45:55.312000Z",
     "shell.execute_reply": "2022-08-17T13:45:55.312000Z"
    }
   },
   "outputs": [],
   "source": [
    "OnePiece.figure.plot_heat_map(\n",
    "    ma,\n",
    "    [\"Row$id\" for id in 1:size(ma, 1)],\n",
    "    [\"Column$id\" for id in 1:size(ma, 2)],\n",
    ")"
   ]
  },
  {
   "cell_type": "code",
   "execution_count": null,
   "id": "e8d39c80",
   "metadata": {
    "execution": {
     "iopub.execute_input": "2022-08-17T13:45:55.315000Z",
     "iopub.status.busy": "2022-08-17T13:45:55.315000Z",
     "iopub.status.idle": "2022-08-17T13:45:55.353000Z",
     "shell.execute_reply": "2022-08-17T13:45:55.353000Z"
    }
   },
   "outputs": [],
   "source": [
    "OnePiece.figure.plot_heat_map(ma, ou = joinpath(te, \"heat_map.html\"))"
   ]
  },
  {
   "cell_type": "markdown",
   "id": "a48817d0",
   "metadata": {},
   "source": [
    "## plot_histogram"
   ]
  },
  {
   "cell_type": "code",
   "execution_count": null,
   "id": "34d85b5d",
   "metadata": {
    "execution": {
     "iopub.execute_input": "2022-08-17T13:45:55.356000Z",
     "iopub.status.busy": "2022-08-17T13:45:55.356000Z",
     "iopub.status.idle": "2022-08-17T13:45:56.999000Z",
     "shell.execute_reply": "2022-08-17T13:45:56.998000Z"
    }
   },
   "outputs": [],
   "source": [
    "x_ = [[-1], [0, 1], [2, 3, 4]]\n",
    "\n",
    "OnePiece.figure.plot_histogram(x_)"
   ]
  },
  {
   "cell_type": "code",
   "execution_count": null,
   "id": "866a3d3e",
   "metadata": {
    "execution": {
     "iopub.execute_input": "2022-08-17T13:45:57.002000Z",
     "iopub.status.busy": "2022-08-17T13:45:57.002000Z",
     "iopub.status.idle": "2022-08-17T13:45:57.456000Z",
     "shell.execute_reply": "2022-08-17T13:45:57.456000Z"
    }
   },
   "outputs": [],
   "source": [
    "text_ = [[\"1A\"], [\"2A\", \"2B\"], [\"3A\", \"3B\", \"3C\"]]\n",
    "\n",
    "OnePiece.figure.plot_histogram(x_, text_)"
   ]
  },
  {
   "cell_type": "code",
   "execution_count": null,
   "id": "e0a6957a",
   "metadata": {
    "execution": {
     "iopub.execute_input": "2022-08-17T13:45:57.460000Z",
     "iopub.status.busy": "2022-08-17T13:45:57.460000Z",
     "iopub.status.idle": "2022-08-17T13:45:57.771000Z",
     "shell.execute_reply": "2022-08-17T13:45:57.771000Z"
    }
   },
   "outputs": [],
   "source": [
    "OnePiece.figure.plot_histogram(x_, text_, xbins_size = 1)"
   ]
  },
  {
   "cell_type": "markdown",
   "id": "4889aca0",
   "metadata": {},
   "source": [
    "## plot_scatter"
   ]
  },
  {
   "cell_type": "code",
   "execution_count": null,
   "id": "58a30a5c",
   "metadata": {
    "execution": {
     "iopub.execute_input": "2022-08-17T13:45:57.774000Z",
     "iopub.status.busy": "2022-08-17T13:45:57.774000Z",
     "iopub.status.idle": "2022-08-17T13:45:57.778000Z",
     "shell.execute_reply": "2022-08-17T13:45:57.777000Z"
    }
   },
   "outputs": [],
   "source": [
    "x1 = [-1, 0, 2]\n",
    "\n",
    "x2 = [3, 4]\n",
    "\n",
    "x_ = [x1, x2]"
   ]
  },
  {
   "cell_type": "code",
   "execution_count": null,
   "id": "aec95893",
   "metadata": {
    "execution": {
     "iopub.execute_input": "2022-08-17T13:45:57.780000Z",
     "iopub.status.busy": "2022-08-17T13:45:57.780000Z",
     "iopub.status.idle": "2022-08-17T13:45:57.817000Z",
     "shell.execute_reply": "2022-08-17T13:45:57.816000Z"
    }
   },
   "outputs": [],
   "source": [
    "y1 = x1 .* 10\n",
    "\n",
    "y2 = x2 .* 20\n",
    "\n",
    "y_ = [y1, y2]"
   ]
  },
  {
   "cell_type": "code",
   "execution_count": null,
   "id": "f29cca1a",
   "metadata": {
    "execution": {
     "iopub.execute_input": "2022-08-17T13:45:57.819000Z",
     "iopub.status.busy": "2022-08-17T13:45:57.819000Z",
     "iopub.status.idle": "2022-08-17T13:45:57.994000Z",
     "shell.execute_reply": "2022-08-17T13:45:57.994000Z"
    }
   },
   "outputs": [],
   "source": [
    "OnePiece.figure.plot_scatter(y_)"
   ]
  },
  {
   "cell_type": "code",
   "execution_count": null,
   "id": "672c6dab",
   "metadata": {
    "execution": {
     "iopub.execute_input": "2022-08-17T13:45:57.997000Z",
     "iopub.status.busy": "2022-08-17T13:45:57.997000Z",
     "iopub.status.idle": "2022-08-17T13:45:58.158000Z",
     "shell.execute_reply": "2022-08-17T13:45:58.158000Z"
    }
   },
   "outputs": [],
   "source": [
    "OnePiece.figure.plot_scatter(y_, x_, ou = joinpath(te, \"scatter.html\"))"
   ]
  }
 ],
 "metadata": {
  "@webio": {
   "lastCommId": null,
   "lastKernelId": null
  },
  "kernelspec": {
   "display_name": "Julia 1.7.3",
   "language": "julia",
   "name": "julia-1.7"
  },
  "language_info": {
   "file_extension": ".jl",
   "mimetype": "application/julia",
   "name": "julia",
   "version": "1.7.3"
  }
 },
 "nbformat": 4,
 "nbformat_minor": 5
}
