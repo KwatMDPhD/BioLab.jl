{
 "cells": [
  {
   "cell_type": "code",
   "execution_count": null,
   "id": "017464da",
   "metadata": {
    "execution": {
     "iopub.execute_input": "2022-02-14T02:56:02.325011Z",
     "iopub.status.busy": "2022-02-14T02:56:01.800984Z",
     "iopub.status.idle": "2022-02-14T02:56:02.617534Z",
     "shell.execute_reply": "2022-02-14T02:56:02.616589Z"
    }
   },
   "outputs": [],
   "source": [
    "TE = joinpath(tempdir(), \"OnePiece.test\")\n",
    "\n",
    "if isdir(TE)\n",
    "\n",
    "    rm(TE, recursive = true)\n",
    "\n",
    "    println(\"Removed \", TE, \".\")\n",
    "\n",
    "end\n",
    "\n",
    "mkdir(TE)\n",
    "\n",
    "println(\"Made \", TE, \".\")"
   ]
  },
  {
   "cell_type": "code",
   "execution_count": null,
   "id": "34e4701e",
   "metadata": {
    "execution": {
     "iopub.execute_input": "2022-02-14T02:56:02.619918Z",
     "iopub.status.busy": "2022-02-14T02:56:02.619189Z",
     "iopub.status.idle": "2022-02-14T02:56:08.759395Z",
     "shell.execute_reply": "2022-02-14T02:56:08.758815Z"
    }
   },
   "outputs": [],
   "source": [
    "using OnePiece"
   ]
  },
  {
   "cell_type": "markdown",
   "id": "b92a3da9",
   "metadata": {},
   "source": [
    "---"
   ]
  },
  {
   "cell_type": "markdown",
   "id": "6809059e",
   "metadata": {},
   "source": [
    "## plot"
   ]
  },
  {
   "cell_type": "code",
   "execution_count": null,
   "id": "2329cb27",
   "metadata": {
    "execution": {
     "iopub.execute_input": "2022-02-14T02:56:09.210942Z",
     "iopub.status.busy": "2022-02-14T02:56:08.761271Z",
     "iopub.status.idle": "2022-02-14T02:56:09.277097Z",
     "shell.execute_reply": "2022-02-14T02:56:09.276542Z"
    }
   },
   "outputs": [],
   "source": [
    "using PlotlyLight"
   ]
  },
  {
   "cell_type": "code",
   "execution_count": null,
   "id": "f55a7149",
   "metadata": {
    "execution": {
     "iopub.execute_input": "2022-02-14T02:56:09.279499Z",
     "iopub.status.busy": "2022-02-14T02:56:09.278688Z",
     "iopub.status.idle": "2022-02-14T02:56:11.174786Z",
     "shell.execute_reply": "2022-02-14T02:56:11.174184Z"
    }
   },
   "outputs": [],
   "source": [
    "tr_ = [Dict()]\n",
    "\n",
    "display(OnePiece.figure.plot(tr_))"
   ]
  },
  {
   "cell_type": "code",
   "execution_count": null,
   "id": "ceb911ba",
   "metadata": {
    "execution": {
     "iopub.execute_input": "2022-02-14T02:56:11.177452Z",
     "iopub.status.busy": "2022-02-14T02:56:11.176473Z",
     "iopub.status.idle": "2022-02-14T02:56:11.311204Z",
     "shell.execute_reply": "2022-02-14T02:56:11.310562Z"
    }
   },
   "outputs": [],
   "source": [
    "la = Config(\n",
    "    template = \"plotly_dark\",\n",
    "    title = \"Title\",\n",
    "    yaxis = Config(title = \"Y-Axis Title\"),\n",
    "    xaxis = Config(title = \"X-Axis Title\"),\n",
    ")\n",
    "\n",
    "display(OnePiece.figure.plot(tr_, la))"
   ]
  },
  {
   "cell_type": "code",
   "execution_count": null,
   "id": "303451fd",
   "metadata": {
    "execution": {
     "iopub.execute_input": "2022-02-14T02:56:11.314031Z",
     "iopub.status.busy": "2022-02-14T02:56:11.313305Z",
     "iopub.status.idle": "2022-02-14T02:56:11.362512Z",
     "shell.execute_reply": "2022-02-14T02:56:11.361864Z"
    }
   },
   "outputs": [],
   "source": [
    "co = Config(displaylog = true)\n",
    "\n",
    "display(OnePiece.figure.plot(tr_, la, co))"
   ]
  },
  {
   "cell_type": "code",
   "execution_count": null,
   "id": "29d9de98",
   "metadata": {
    "execution": {
     "iopub.execute_input": "2022-02-14T02:56:11.365473Z",
     "iopub.status.busy": "2022-02-14T02:56:11.364726Z",
     "iopub.status.idle": "2022-02-14T02:56:11.423525Z",
     "shell.execute_reply": "2022-02-14T02:56:11.422814Z"
    }
   },
   "outputs": [],
   "source": [
    "display(OnePiece.figure.plot(tr_, ou = joinpath(TE, \"output.html\")))"
   ]
  },
  {
   "cell_type": "markdown",
   "id": "a2513ee0",
   "metadata": {},
   "source": [
    "## write"
   ]
  },
  {
   "cell_type": "code",
   "execution_count": null,
   "id": "3066f153",
   "metadata": {
    "execution": {
     "iopub.execute_input": "2022-02-14T02:56:11.427815Z",
     "iopub.status.busy": "2022-02-14T02:56:11.426653Z",
     "iopub.status.idle": "2022-02-14T02:56:11.430988Z",
     "shell.execute_reply": "2022-02-14T02:56:11.430004Z"
    }
   },
   "outputs": [],
   "source": [
    "pl = OnePiece.figure.plot(tr_)\n",
    "\n",
    "OnePiece.figure.write(joinpath(tempdir(), \"snow.png\"), pl, 400, 200, 1.0)"
   ]
  },
  {
   "cell_type": "markdown",
   "id": "ced90427",
   "metadata": {},
   "source": [
    "## plot_x_y"
   ]
  },
  {
   "cell_type": "code",
   "execution_count": null,
   "id": "8d7065b0",
   "metadata": {
    "execution": {
     "iopub.execute_input": "2022-02-14T02:56:11.434269Z",
     "iopub.status.busy": "2022-02-14T02:56:11.433395Z",
     "iopub.status.idle": "2022-02-14T02:56:11.521223Z",
     "shell.execute_reply": "2022-02-14T02:56:11.520613Z"
    }
   },
   "outputs": [],
   "source": [
    "x1 = [-1, 0, 2]\n",
    "\n",
    "x2 = [3, 4]\n",
    "\n",
    "x_ = [x1, x2]\n",
    "\n",
    "y1 = x1 .* 10\n",
    "\n",
    "y2 = x2 .* 20\n",
    "\n",
    "y_ = [y1, y2]\n",
    "\n",
    ";"
   ]
  },
  {
   "cell_type": "code",
   "execution_count": null,
   "id": "a8798a0a",
   "metadata": {
    "execution": {
     "iopub.execute_input": "2022-02-14T02:56:11.524008Z",
     "iopub.status.busy": "2022-02-14T02:56:11.523037Z",
     "iopub.status.idle": "2022-02-14T02:56:12.258623Z",
     "shell.execute_reply": "2022-02-14T02:56:12.258053Z"
    }
   },
   "outputs": [],
   "source": [
    "display(OnePiece.figure.plot_x_y(y_))"
   ]
  },
  {
   "cell_type": "code",
   "execution_count": null,
   "id": "268b8935",
   "metadata": {
    "execution": {
     "iopub.execute_input": "2022-02-14T02:56:12.261559Z",
     "iopub.status.busy": "2022-02-14T02:56:12.260695Z",
     "iopub.status.idle": "2022-02-14T02:56:12.312803Z",
     "shell.execute_reply": "2022-02-14T02:56:12.312237Z"
    }
   },
   "outputs": [],
   "source": [
    "display(OnePiece.figure.plot_x_y(y_; la = la))"
   ]
  },
  {
   "cell_type": "code",
   "execution_count": null,
   "id": "aaf9a733",
   "metadata": {
    "execution": {
     "iopub.execute_input": "2022-02-14T02:56:12.315203Z",
     "iopub.status.busy": "2022-02-14T02:56:12.314489Z",
     "iopub.status.idle": "2022-02-14T02:56:12.419407Z",
     "shell.execute_reply": "2022-02-14T02:56:12.418874Z"
    }
   },
   "outputs": [],
   "source": [
    "display(OnePiece.figure.plot_x_y(y_, x_; la = la, ou = joinpath(TE, \"x_y.html\")))"
   ]
  },
  {
   "cell_type": "markdown",
   "id": "3ac78e65",
   "metadata": {},
   "source": [
    "## plot_bar"
   ]
  },
  {
   "cell_type": "code",
   "execution_count": null,
   "id": "b248787f",
   "metadata": {
    "execution": {
     "iopub.execute_input": "2022-02-14T02:56:12.423089Z",
     "iopub.status.busy": "2022-02-14T02:56:12.421970Z",
     "iopub.status.idle": "2022-02-14T02:56:14.059121Z",
     "shell.execute_reply": "2022-02-14T02:56:14.058555Z"
    }
   },
   "outputs": [],
   "source": [
    "y1 = [-1, 2, 5]\n",
    "\n",
    "y2 = reverse(y1)\n",
    "\n",
    "y_ = [y1, y2]"
   ]
  },
  {
   "cell_type": "code",
   "execution_count": null,
   "id": "b4bc6e6b",
   "metadata": {
    "execution": {
     "iopub.execute_input": "2022-02-14T02:56:14.061569Z",
     "iopub.status.busy": "2022-02-14T02:56:14.060855Z",
     "iopub.status.idle": "2022-02-14T02:56:14.128982Z",
     "shell.execute_reply": "2022-02-14T02:56:14.128327Z"
    }
   },
   "outputs": [],
   "source": [
    "display(OnePiece.figure.plot_bar(y_))"
   ]
  },
  {
   "cell_type": "code",
   "execution_count": null,
   "id": "79736494",
   "metadata": {
    "execution": {
     "iopub.execute_input": "2022-02-14T02:56:14.131557Z",
     "iopub.status.busy": "2022-02-14T02:56:14.130841Z",
     "iopub.status.idle": "2022-02-14T02:56:14.177734Z",
     "shell.execute_reply": "2022-02-14T02:56:14.176922Z"
    }
   },
   "outputs": [],
   "source": [
    "display(OnePiece.figure.plot_bar(y_; la = la))"
   ]
  },
  {
   "cell_type": "code",
   "execution_count": null,
   "id": "7a950a15",
   "metadata": {
    "execution": {
     "iopub.execute_input": "2022-02-14T02:56:14.181046Z",
     "iopub.status.busy": "2022-02-14T02:56:14.180131Z",
     "iopub.status.idle": "2022-02-14T02:56:14.341599Z",
     "shell.execute_reply": "2022-02-14T02:56:14.341038Z"
    }
   },
   "outputs": [],
   "source": [
    "name1 = \"Orange\"\n",
    "\n",
    "name2 = \"Blue\"\n",
    "\n",
    "name_ = [name1, name2]\n",
    "\n",
    "x1 = [-2, -1, 0]\n",
    "\n",
    "x2 = .-reverse(x1)\n",
    "\n",
    "x_ = [x1, x2]\n",
    "\n",
    "display(OnePiece.figure.plot_bar(y_, x_; name_ = name_, la = la))"
   ]
  },
  {
   "cell_type": "code",
   "execution_count": null,
   "id": "4febf9ea",
   "metadata": {
    "execution": {
     "iopub.execute_input": "2022-02-14T02:56:14.344254Z",
     "iopub.status.busy": "2022-02-14T02:56:14.343466Z",
     "iopub.status.idle": "2022-02-14T02:56:14.379578Z",
     "shell.execute_reply": "2022-02-14T02:56:14.378862Z"
    }
   },
   "outputs": [],
   "source": [
    "push!(name_, \"Name 3\")\n",
    "\n",
    "push!(y_, [9])\n",
    "\n",
    "push!(x_, [0])\n",
    "\n",
    "display(OnePiece.figure.plot_bar(y_, x_; name_ = name_, la = la))"
   ]
  },
  {
   "cell_type": "code",
   "execution_count": null,
   "id": "963fdc7d",
   "metadata": {
    "execution": {
     "iopub.execute_input": "2022-02-14T02:56:14.382335Z",
     "iopub.status.busy": "2022-02-14T02:56:14.381595Z",
     "iopub.status.idle": "2022-02-14T02:56:14.622211Z",
     "shell.execute_reply": "2022-02-14T02:56:14.621617Z"
    }
   },
   "outputs": [],
   "source": [
    "display(\n",
    "    OnePiece.figure.plot_bar(\n",
    "        y_,\n",
    "        x_;\n",
    "        name_ = name_,\n",
    "        la = Dict(\"barmode\" => \"stack\"),\n",
    "        ou = joinpath(TE, \"bar.html\"),\n",
    "    ),\n",
    ")"
   ]
  },
  {
   "cell_type": "markdown",
   "id": "1ac66c3b",
   "metadata": {},
   "source": [
    "## plot_heat_map"
   ]
  },
  {
   "cell_type": "code",
   "execution_count": null,
   "id": "9d37bab8",
   "metadata": {
    "execution": {
     "iopub.execute_input": "2022-02-14T02:56:14.625265Z",
     "iopub.status.busy": "2022-02-14T02:56:14.624314Z",
     "iopub.status.idle": "2022-02-14T02:56:15.234834Z",
     "shell.execute_reply": "2022-02-14T02:56:15.234202Z"
    }
   },
   "outputs": [],
   "source": [
    "ma = convert(Matrix, reshape(1:8, (2, 4)))"
   ]
  },
  {
   "cell_type": "code",
   "execution_count": null,
   "id": "36665ec2",
   "metadata": {
    "execution": {
     "iopub.execute_input": "2022-02-14T02:56:15.237219Z",
     "iopub.status.busy": "2022-02-14T02:56:15.236514Z",
     "iopub.status.idle": "2022-02-14T02:56:15.693948Z",
     "shell.execute_reply": "2022-02-14T02:56:15.693215Z"
    }
   },
   "outputs": [],
   "source": [
    "display(\n",
    "    OnePiece.figure.plot_heat_map(\n",
    "        ma,\n",
    "        [string(\"Row\", id) for id in 1:size(ma, 1)],\n",
    "        [string(\"Column\", id) for id in 1:size(ma, 2)],\n",
    "    ),\n",
    ")"
   ]
  },
  {
   "cell_type": "code",
   "execution_count": null,
   "id": "975108c0",
   "metadata": {
    "execution": {
     "iopub.execute_input": "2022-02-14T02:56:15.696681Z",
     "iopub.status.busy": "2022-02-14T02:56:15.695899Z",
     "iopub.status.idle": "2022-02-14T02:56:15.825917Z",
     "shell.execute_reply": "2022-02-14T02:56:15.825079Z"
    }
   },
   "outputs": [],
   "source": [
    "display(OnePiece.figure.plot_heat_map(ma, ou = joinpath(TE, \"heat_map.html\")))"
   ]
  },
  {
   "cell_type": "markdown",
   "id": "3f396855",
   "metadata": {},
   "source": [
    "---"
   ]
  },
  {
   "cell_type": "code",
   "execution_count": null,
   "id": "b4af2023",
   "metadata": {
    "execution": {
     "iopub.execute_input": "2022-02-14T02:56:15.829903Z",
     "iopub.status.busy": "2022-02-14T02:56:15.828485Z",
     "iopub.status.idle": "2022-02-14T02:56:15.833494Z",
     "shell.execute_reply": "2022-02-14T02:56:15.832971Z"
    }
   },
   "outputs": [],
   "source": [
    "if isdir(TE)\n",
    "\n",
    "    rm(TE, recursive = true)\n",
    "\n",
    "    println(\"Removed \", TE, \".\")\n",
    "\n",
    "end"
   ]
  }
 ],
 "metadata": {
  "kernelspec": {
   "display_name": "Julia 1.7.2",
   "language": "julia",
   "name": "julia-1.7"
  },
  "language_info": {
   "file_extension": ".jl",
   "mimetype": "application/julia",
   "name": "julia",
   "version": "1.7.2"
  }
 },
 "nbformat": 4,
 "nbformat_minor": 5
}
