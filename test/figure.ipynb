{
 "cells": [
  {
   "cell_type": "code",
   "execution_count": null,
   "id": "017464da",
   "metadata": {
    "execution": {
     "iopub.execute_input": "2022-02-11T08:13:35.658251Z",
     "iopub.status.busy": "2022-02-11T08:13:35.307866Z",
     "iopub.status.idle": "2022-02-11T08:13:35.841749Z",
     "shell.execute_reply": "2022-02-11T08:13:35.841191Z"
    }
   },
   "outputs": [],
   "source": [
    "TE = joinpath(tempdir(), \"OnePiece.test\")\n",
    "\n",
    "if isdir(TE)\n",
    "\n",
    "    rm(TE; recursive = true)\n",
    "\n",
    "    println(\"Removed \", TE, \".\")\n",
    "\n",
    "end\n",
    "\n",
    "mkdir(TE)\n",
    "\n",
    "println(\"Made \", TE, \".\")"
   ]
  },
  {
   "cell_type": "code",
   "execution_count": null,
   "id": "34e4701e",
   "metadata": {
    "execution": {
     "iopub.execute_input": "2022-02-11T08:13:35.843781Z",
     "iopub.status.busy": "2022-02-11T08:13:35.843220Z",
     "iopub.status.idle": "2022-02-11T08:13:40.094046Z",
     "shell.execute_reply": "2022-02-11T08:13:40.093527Z"
    }
   },
   "outputs": [],
   "source": [
    "using OnePiece"
   ]
  },
  {
   "cell_type": "markdown",
   "id": "b92a3da9",
   "metadata": {},
   "source": [
    "---"
   ]
  },
  {
   "cell_type": "markdown",
   "id": "6809059e",
   "metadata": {},
   "source": [
    "## plot"
   ]
  },
  {
   "cell_type": "code",
   "execution_count": null,
   "id": "2329cb27",
   "metadata": {
    "execution": {
     "iopub.execute_input": "2022-02-11T08:13:40.404104Z",
     "iopub.status.busy": "2022-02-11T08:13:40.095517Z",
     "iopub.status.idle": "2022-02-11T08:13:40.450993Z",
     "shell.execute_reply": "2022-02-11T08:13:40.450549Z"
    }
   },
   "outputs": [],
   "source": [
    "using PlotlyLight"
   ]
  },
  {
   "cell_type": "code",
   "execution_count": null,
   "id": "f55a7149",
   "metadata": {
    "execution": {
     "iopub.execute_input": "2022-02-11T08:13:40.452939Z",
     "iopub.status.busy": "2022-02-11T08:13:40.452446Z",
     "iopub.status.idle": "2022-02-11T08:13:42.672438Z",
     "shell.execute_reply": "2022-02-11T08:13:42.671972Z"
    }
   },
   "outputs": [],
   "source": [
    "tr_ = [Dict()]\n",
    "\n",
    "OnePiece.figure.plot(tr_)"
   ]
  },
  {
   "cell_type": "code",
   "execution_count": null,
   "id": "ceb911ba",
   "metadata": {
    "execution": {
     "iopub.execute_input": "2022-02-11T08:13:42.674319Z",
     "iopub.status.busy": "2022-02-11T08:13:42.673729Z",
     "iopub.status.idle": "2022-02-11T08:13:43.385858Z",
     "shell.execute_reply": "2022-02-11T08:13:43.385389Z"
    }
   },
   "outputs": [],
   "source": [
    "la = Config(\n",
    "    template = \"plotly_dark\",\n",
    "    title = \"Title\",\n",
    "    yaxis = Config(title = \"Y-Axis Title\"),\n",
    "    xaxis = Config(title = \"X-Axis Title\"),\n",
    ")\n",
    "\n",
    "display(OnePiece.figure.plot(tr_, la))"
   ]
  },
  {
   "cell_type": "code",
   "execution_count": null,
   "id": "303451fd",
   "metadata": {
    "execution": {
     "iopub.execute_input": "2022-02-11T08:13:43.387796Z",
     "iopub.status.busy": "2022-02-11T08:13:43.387141Z",
     "iopub.status.idle": "2022-02-11T08:13:43.418848Z",
     "shell.execute_reply": "2022-02-11T08:13:43.419232Z"
    }
   },
   "outputs": [],
   "source": [
    "co = Config(displaylog = true)\n",
    "\n",
    "display(OnePiece.figure.plot(tr_, la, co))"
   ]
  },
  {
   "cell_type": "markdown",
   "id": "a2513ee0",
   "metadata": {},
   "source": [
    "## write"
   ]
  },
  {
   "cell_type": "code",
   "execution_count": null,
   "id": "3066f153",
   "metadata": {
    "execution": {
     "iopub.execute_input": "2022-02-11T08:13:43.421336Z",
     "iopub.status.busy": "2022-02-11T08:13:43.420670Z",
     "iopub.status.idle": "2022-02-11T08:13:43.422712Z",
     "shell.execute_reply": "2022-02-11T08:13:43.422202Z"
    }
   },
   "outputs": [],
   "source": [
    "pl = OnePiece.figure.plot(tr_)\n",
    "\n",
    "OnePiece.figure.write(joinpath(tempdir(), \"snow.png\"), pl, 400, 200, 1.0)"
   ]
  },
  {
   "cell_type": "markdown",
   "id": "ced90427",
   "metadata": {},
   "source": [
    "## plot_x_y"
   ]
  },
  {
   "cell_type": "code",
   "execution_count": null,
   "id": "8d7065b0",
   "metadata": {
    "execution": {
     "iopub.execute_input": "2022-02-11T08:13:43.424682Z",
     "iopub.status.busy": "2022-02-11T08:13:43.424059Z",
     "iopub.status.idle": "2022-02-11T08:13:43.508062Z",
     "shell.execute_reply": "2022-02-11T08:13:43.507602Z"
    }
   },
   "outputs": [],
   "source": [
    "x1 = [-1, 0, 2]\n",
    "\n",
    "x2 = [3, 4]\n",
    "\n",
    "x_ = [x1, x2]\n",
    "\n",
    "y1 = x1 .* 10\n",
    "\n",
    "y2 = x2 .* 20\n",
    "\n",
    "y_ = [y1, y2]\n",
    "\n",
    ";"
   ]
  },
  {
   "cell_type": "code",
   "execution_count": null,
   "id": "a8798a0a",
   "metadata": {
    "execution": {
     "iopub.execute_input": "2022-02-11T08:13:43.510444Z",
     "iopub.status.busy": "2022-02-11T08:13:43.509665Z",
     "iopub.status.idle": "2022-02-11T08:13:44.003973Z",
     "shell.execute_reply": "2022-02-11T08:13:44.003501Z"
    }
   },
   "outputs": [],
   "source": [
    "display(OnePiece.figure.plot_x_y(y_))"
   ]
  },
  {
   "cell_type": "code",
   "execution_count": null,
   "id": "268b8935",
   "metadata": {
    "execution": {
     "iopub.execute_input": "2022-02-11T08:13:44.006710Z",
     "iopub.status.busy": "2022-02-11T08:13:44.005764Z",
     "iopub.status.idle": "2022-02-11T08:13:44.048184Z",
     "shell.execute_reply": "2022-02-11T08:13:44.047724Z"
    }
   },
   "outputs": [],
   "source": [
    "display(OnePiece.figure.plot_x_y(y_; la = la))"
   ]
  },
  {
   "cell_type": "code",
   "execution_count": null,
   "id": "aaf9a733",
   "metadata": {
    "execution": {
     "iopub.execute_input": "2022-02-11T08:13:44.050527Z",
     "iopub.status.busy": "2022-02-11T08:13:44.049883Z",
     "iopub.status.idle": "2022-02-11T08:13:44.114528Z",
     "shell.execute_reply": "2022-02-11T08:13:44.113897Z"
    }
   },
   "outputs": [],
   "source": [
    "display(OnePiece.figure.plot_x_y(y_, x_; la = la))"
   ]
  },
  {
   "cell_type": "markdown",
   "id": "3ac78e65",
   "metadata": {},
   "source": [
    "## plot_bar"
   ]
  },
  {
   "cell_type": "code",
   "execution_count": null,
   "id": "b248787f",
   "metadata": {
    "execution": {
     "iopub.execute_input": "2022-02-11T08:13:44.117013Z",
     "iopub.status.busy": "2022-02-11T08:13:44.116393Z",
     "iopub.status.idle": "2022-02-11T08:13:45.083182Z",
     "shell.execute_reply": "2022-02-11T08:13:45.082801Z"
    }
   },
   "outputs": [],
   "source": [
    "y1 = [-1, 2, 5]\n",
    "\n",
    "y2 = reverse(y1)\n",
    "\n",
    "y_ = [y1, y2]"
   ]
  },
  {
   "cell_type": "code",
   "execution_count": null,
   "id": "b4bc6e6b",
   "metadata": {
    "execution": {
     "iopub.execute_input": "2022-02-11T08:13:45.085233Z",
     "iopub.status.busy": "2022-02-11T08:13:45.084738Z",
     "iopub.status.idle": "2022-02-11T08:13:45.133226Z",
     "shell.execute_reply": "2022-02-11T08:13:45.132835Z"
    }
   },
   "outputs": [],
   "source": [
    "display(OnePiece.figure.plot_bar(y_))"
   ]
  },
  {
   "cell_type": "code",
   "execution_count": null,
   "id": "79736494",
   "metadata": {
    "execution": {
     "iopub.execute_input": "2022-02-11T08:13:45.135973Z",
     "iopub.status.busy": "2022-02-11T08:13:45.135025Z",
     "iopub.status.idle": "2022-02-11T08:13:45.168381Z",
     "shell.execute_reply": "2022-02-11T08:13:45.167913Z"
    }
   },
   "outputs": [],
   "source": [
    "display(OnePiece.figure.plot_bar(y_; la = la))"
   ]
  },
  {
   "cell_type": "code",
   "execution_count": null,
   "id": "7a950a15",
   "metadata": {
    "execution": {
     "iopub.execute_input": "2022-02-11T08:13:45.170379Z",
     "iopub.status.busy": "2022-02-11T08:13:45.169796Z",
     "iopub.status.idle": "2022-02-11T08:13:45.313197Z",
     "shell.execute_reply": "2022-02-11T08:13:45.312708Z"
    }
   },
   "outputs": [],
   "source": [
    "name1 = \"Orange\"\n",
    "\n",
    "name2 = \"Blue\"\n",
    "\n",
    "name_ = [name1, name2]\n",
    "\n",
    "x1 = [-2, -1, 0]\n",
    "\n",
    "x2 = .-reverse(x1)\n",
    "\n",
    "x_ = [x1, x2]\n",
    "\n",
    "display(OnePiece.figure.plot_bar(y_, x_; name_ = name_, la = la))"
   ]
  },
  {
   "cell_type": "code",
   "execution_count": null,
   "id": "4febf9ea",
   "metadata": {
    "execution": {
     "iopub.execute_input": "2022-02-11T08:13:45.315744Z",
     "iopub.status.busy": "2022-02-11T08:13:45.314925Z",
     "iopub.status.idle": "2022-02-11T08:13:45.338904Z",
     "shell.execute_reply": "2022-02-11T08:13:45.337887Z"
    }
   },
   "outputs": [],
   "source": [
    "push!(name_, \"Name 3\")\n",
    "\n",
    "push!(y_, [9])\n",
    "\n",
    "push!(x_, [0])\n",
    "\n",
    "display(OnePiece.figure.plot_bar(y_, x_; name_ = name_, la = la))"
   ]
  },
  {
   "cell_type": "code",
   "execution_count": null,
   "id": "963fdc7d",
   "metadata": {
    "execution": {
     "iopub.execute_input": "2022-02-11T08:13:45.341719Z",
     "iopub.status.busy": "2022-02-11T08:13:45.341006Z",
     "iopub.status.idle": "2022-02-11T08:13:45.521477Z",
     "shell.execute_reply": "2022-02-11T08:13:45.520144Z"
    }
   },
   "outputs": [],
   "source": [
    "display(OnePiece.figure.plot_bar(y_, x_; name_ = name_, la = Dict(\"barmode\" => \"stack\")))"
   ]
  },
  {
   "cell_type": "markdown",
   "id": "1ac66c3b",
   "metadata": {},
   "source": [
    "## plot_heat_map"
   ]
  },
  {
   "cell_type": "code",
   "execution_count": null,
   "id": "9d37bab8",
   "metadata": {
    "execution": {
     "iopub.execute_input": "2022-02-11T08:13:45.523614Z",
     "iopub.status.busy": "2022-02-11T08:13:45.523000Z",
     "iopub.status.idle": "2022-02-11T08:13:45.966909Z",
     "shell.execute_reply": "2022-02-11T08:13:45.966457Z"
    }
   },
   "outputs": [],
   "source": [
    "ma = convert(Matrix, reshape(1:8, (2, 4)))"
   ]
  },
  {
   "cell_type": "code",
   "execution_count": null,
   "id": "36665ec2",
   "metadata": {
    "execution": {
     "iopub.execute_input": "2022-02-11T08:13:45.968863Z",
     "iopub.status.busy": "2022-02-11T08:13:45.968209Z",
     "iopub.status.idle": "2022-02-11T08:13:46.300525Z",
     "shell.execute_reply": "2022-02-11T08:13:46.300933Z"
    }
   },
   "outputs": [],
   "source": [
    "display(\n",
    "    OnePiece.figure.plot_heat_map(\n",
    "        ma,\n",
    "        [string(\"Row\", id) for id in 1:size(ma, 1)],\n",
    "        [string(\"Column\", id) for id in 1:size(ma, 2)],\n",
    "    ),\n",
    ")"
   ]
  },
  {
   "cell_type": "code",
   "execution_count": null,
   "id": "975108c0",
   "metadata": {
    "execution": {
     "iopub.execute_input": "2022-02-11T08:13:46.302812Z",
     "iopub.status.busy": "2022-02-11T08:13:46.302198Z",
     "iopub.status.idle": "2022-02-11T08:13:46.381477Z",
     "shell.execute_reply": "2022-02-11T08:13:46.381034Z"
    }
   },
   "outputs": [],
   "source": [
    "display(OnePiece.figure.plot_heat_map(ma))"
   ]
  },
  {
   "cell_type": "markdown",
   "id": "3f396855",
   "metadata": {},
   "source": [
    "---"
   ]
  },
  {
   "cell_type": "code",
   "execution_count": null,
   "id": "b4af2023",
   "metadata": {
    "execution": {
     "iopub.execute_input": "2022-02-11T08:13:46.383467Z",
     "iopub.status.busy": "2022-02-11T08:13:46.382833Z",
     "iopub.status.idle": "2022-02-11T08:13:46.386090Z",
     "shell.execute_reply": "2022-02-11T08:13:46.385656Z"
    }
   },
   "outputs": [],
   "source": [
    "if isdir(TE)\n",
    "\n",
    "    rm(TE; recursive = true)\n",
    "\n",
    "    println(\"Removed \", TE, \".\")\n",
    "\n",
    "end"
   ]
  }
 ],
 "metadata": {
  "kernelspec": {
   "display_name": "Julia 1.7.2",
   "language": "julia",
   "name": "julia-1.7"
  },
  "language_info": {
   "file_extension": ".jl",
   "mimetype": "application/julia",
   "name": "julia",
   "version": "1.7.2"
  }
 },
 "nbformat": 4,
 "nbformat_minor": 5
}
