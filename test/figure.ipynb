{
 "cells": [
  {
   "cell_type": "code",
   "execution_count": null,
   "id": "34e4701e",
   "metadata": {
    "execution": {
     "iopub.execute_input": "2022-02-09T00:07:34.231384Z",
     "iopub.status.busy": "2022-02-09T00:07:33.828165Z",
     "iopub.status.idle": "2022-02-09T00:07:35.238025Z",
     "shell.execute_reply": "2022-02-09T00:07:35.237443Z"
    }
   },
   "outputs": [],
   "source": [
    "using Revise\n",
    "using BenchmarkTools"
   ]
  },
  {
   "cell_type": "code",
   "execution_count": null,
   "id": "6436b741",
   "metadata": {
    "execution": {
     "iopub.execute_input": "2022-02-09T00:07:35.240373Z",
     "iopub.status.busy": "2022-02-09T00:07:35.239601Z",
     "iopub.status.idle": "2022-02-09T00:07:46.042140Z",
     "shell.execute_reply": "2022-02-09T00:07:46.041623Z"
    }
   },
   "outputs": [],
   "source": [
    "using PlotlyJS\n",
    "\n",
    "using OnePiece"
   ]
  },
  {
   "cell_type": "code",
   "execution_count": null,
   "id": "836e7390",
   "metadata": {
    "execution": {
     "iopub.execute_input": "2022-02-09T00:07:47.608049Z",
     "iopub.status.busy": "2022-02-09T00:07:46.043416Z",
     "iopub.status.idle": "2022-02-09T00:07:52.342033Z",
     "shell.execute_reply": "2022-02-09T00:07:52.340582Z"
    }
   },
   "outputs": [],
   "source": [
    "tr_ = Vector{GenericTrace}()\n",
    "\n",
    "la = Layout(title = \"Title\", yaxis_title = \"Y-Axis Title\", xaxis_title = \"X-Axis Title\")\n",
    "\n",
    ";"
   ]
  },
  {
   "cell_type": "markdown",
   "id": "6809059e",
   "metadata": {},
   "source": [
    "## plot"
   ]
  },
  {
   "cell_type": "code",
   "execution_count": null,
   "id": "5bd282d2",
   "metadata": {
    "execution": {
     "iopub.execute_input": "2022-02-09T00:07:52.348274Z",
     "iopub.status.busy": "2022-02-09T00:07:52.346867Z",
     "iopub.status.idle": "2022-02-09T00:08:04.586058Z",
     "shell.execute_reply": "2022-02-09T00:08:04.585182Z"
    }
   },
   "outputs": [],
   "source": [
    "OnePiece.figure.plot(tr_, la)"
   ]
  },
  {
   "cell_type": "markdown",
   "id": "a2513ee0",
   "metadata": {},
   "source": [
    "## write"
   ]
  },
  {
   "cell_type": "code",
   "execution_count": null,
   "id": "3066f153",
   "metadata": {
    "execution": {
     "iopub.execute_input": "2022-02-09T00:08:04.590082Z",
     "iopub.status.busy": "2022-02-09T00:08:04.588861Z",
     "iopub.status.idle": "2022-02-09T00:08:06.774107Z",
     "shell.execute_reply": "2022-02-09T00:08:06.773022Z"
    }
   },
   "outputs": [],
   "source": [
    "pl = OnePiece.figure.plot(tr_)\n",
    "\n",
    "OnePiece.figure.write(joinpath(tempdir(), \"snow.png\"), pl, 400, 200, 1.0)"
   ]
  },
  {
   "cell_type": "code",
   "execution_count": null,
   "id": "70a3796d",
   "metadata": {
    "execution": {
     "iopub.execute_input": "2022-02-09T00:08:06.778186Z",
     "iopub.status.busy": "2022-02-09T00:08:06.776886Z",
     "iopub.status.idle": "2022-02-09T00:08:06.795045Z",
     "shell.execute_reply": "2022-02-09T00:08:06.793575Z"
    }
   },
   "outputs": [],
   "source": [
    "x1 = [-1, 0, 2]\n",
    "\n",
    "x2 = [-2, -1, 0, 2, 4]\n",
    "\n",
    ";"
   ]
  },
  {
   "cell_type": "code",
   "execution_count": null,
   "id": "1273971b",
   "metadata": {
    "execution": {
     "iopub.execute_input": "2022-02-09T00:08:06.799287Z",
     "iopub.status.busy": "2022-02-09T00:08:06.797917Z",
     "iopub.status.idle": "2022-02-09T00:08:06.914555Z",
     "shell.execute_reply": "2022-02-09T00:08:06.911837Z"
    }
   },
   "outputs": [],
   "source": [
    "y1 = x1 .* 10\n",
    "\n",
    "y2 = x2 .* 10\n",
    "\n",
    ";"
   ]
  },
  {
   "cell_type": "markdown",
   "id": "ced90427",
   "metadata": {},
   "source": [
    "## plot_x_y"
   ]
  },
  {
   "cell_type": "code",
   "execution_count": null,
   "id": "b6a32634",
   "metadata": {
    "execution": {
     "iopub.execute_input": "2022-02-09T00:08:06.924075Z",
     "iopub.status.busy": "2022-02-09T00:08:06.920061Z",
     "iopub.status.idle": "2022-02-09T00:08:09.175993Z",
     "shell.execute_reply": "2022-02-09T00:08:09.174991Z"
    }
   },
   "outputs": [],
   "source": [
    "OnePiece.figure.plot_x_y([y1, y2], [x1, x2]; la = la)"
   ]
  },
  {
   "cell_type": "code",
   "execution_count": null,
   "id": "7fc47cde",
   "metadata": {
    "execution": {
     "iopub.execute_input": "2022-02-09T00:08:09.180318Z",
     "iopub.status.busy": "2022-02-09T00:08:09.178894Z",
     "iopub.status.idle": "2022-02-09T00:08:09.299729Z",
     "shell.execute_reply": "2022-02-09T00:08:09.300777Z"
    }
   },
   "outputs": [],
   "source": [
    "OnePiece.figure.plot_x_y([y1, y2]; la = la)"
   ]
  },
  {
   "cell_type": "markdown",
   "id": "3ac78e65",
   "metadata": {},
   "source": [
    "## plot_bar"
   ]
  },
  {
   "cell_type": "code",
   "execution_count": null,
   "id": "9efd367f",
   "metadata": {
    "execution": {
     "iopub.execute_input": "2022-02-09T00:08:09.305402Z",
     "iopub.status.busy": "2022-02-09T00:08:09.303965Z",
     "iopub.status.idle": "2022-02-09T00:08:09.388779Z",
     "shell.execute_reply": "2022-02-09T00:08:09.386750Z"
    }
   },
   "outputs": [],
   "source": [
    "OnePiece.figure.plot_bar([y1, y2], [x1, x2]; la = la)"
   ]
  },
  {
   "cell_type": "code",
   "execution_count": null,
   "id": "1abb7102",
   "metadata": {
    "execution": {
     "iopub.execute_input": "2022-02-09T00:08:09.396693Z",
     "iopub.status.busy": "2022-02-09T00:08:09.394231Z",
     "iopub.status.idle": "2022-02-09T00:08:09.749064Z",
     "shell.execute_reply": "2022-02-09T00:08:09.747966Z"
    }
   },
   "outputs": [],
   "source": [
    "OnePiece.figure.plot_bar([y1, y2]; la = la)"
   ]
  },
  {
   "cell_type": "code",
   "execution_count": null,
   "id": "f7e73bd2",
   "metadata": {
    "execution": {
     "iopub.execute_input": "2022-02-09T00:08:09.753078Z",
     "iopub.status.busy": "2022-02-09T00:08:09.751892Z",
     "iopub.status.idle": "2022-02-09T00:08:12.371569Z",
     "shell.execute_reply": "2022-02-09T00:08:12.370470Z"
    }
   },
   "outputs": [],
   "source": [
    "fill(\"adf\", 10)"
   ]
  },
  {
   "cell_type": "markdown",
   "id": "1ac66c3b",
   "metadata": {},
   "source": [
    "## plot_heat_map"
   ]
  },
  {
   "cell_type": "code",
   "execution_count": null,
   "id": "9d37bab8",
   "metadata": {
    "execution": {
     "iopub.execute_input": "2022-02-09T00:08:12.375995Z",
     "iopub.status.busy": "2022-02-09T00:08:12.374620Z",
     "iopub.status.idle": "2022-02-09T00:08:13.588986Z",
     "shell.execute_reply": "2022-02-09T00:08:13.587667Z"
    }
   },
   "outputs": [],
   "source": [
    "ma = convert(Matrix, reshape(1:8, (2, 4)))"
   ]
  },
  {
   "cell_type": "code",
   "execution_count": null,
   "id": "36665ec2",
   "metadata": {
    "execution": {
     "iopub.execute_input": "2022-02-09T00:08:13.593121Z",
     "iopub.status.busy": "2022-02-09T00:08:13.591817Z",
     "iopub.status.idle": "2022-02-09T00:08:14.868963Z",
     "shell.execute_reply": "2022-02-09T00:08:14.867720Z"
    }
   },
   "outputs": [],
   "source": [
    "OnePiece.figure.plot_heat_map(\n",
    "    ma,\n",
    "    [string(\"Row\", id) for id in 1:size(ma, 1)],\n",
    "    [string(\"Column\", id) for id in 1:size(ma, 2)],\n",
    ")"
   ]
  },
  {
   "cell_type": "code",
   "execution_count": null,
   "id": "975108c0",
   "metadata": {
    "execution": {
     "iopub.execute_input": "2022-02-09T00:08:14.873043Z",
     "iopub.status.busy": "2022-02-09T00:08:14.871694Z",
     "iopub.status.idle": "2022-02-09T00:08:15.317647Z",
     "shell.execute_reply": "2022-02-09T00:08:15.310155Z"
    }
   },
   "outputs": [],
   "source": [
    "OnePiece.figure.plot_heat_map(ma)"
   ]
  }
 ],
 "metadata": {
  "@webio": {
   "lastCommId": null,
   "lastKernelId": null
  },
  "kernelspec": {
   "display_name": "Julia 1.7.1",
   "language": "julia",
   "name": "julia-1.7"
  },
  "language_info": {
   "file_extension": ".jl",
   "mimetype": "application/julia",
   "name": "julia",
   "version": "1.7.2"
  }
 },
 "nbformat": 4,
 "nbformat_minor": 5
}
