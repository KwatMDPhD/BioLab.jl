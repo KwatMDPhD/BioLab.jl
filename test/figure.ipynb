{
 "cells": [
  {
   "cell_type": "code",
   "execution_count": null,
   "id": "34e4701e",
   "metadata": {
    "execution": {
     "iopub.execute_input": "2022-02-09T05:37:09.145307Z",
     "iopub.status.busy": "2022-02-09T05:37:08.755318Z",
     "iopub.status.idle": "2022-02-09T05:37:10.144869Z",
     "shell.execute_reply": "2022-02-09T05:37:10.144230Z"
    }
   },
   "outputs": [],
   "source": [
    "using Revise\n",
    "using BenchmarkTools"
   ]
  },
  {
   "cell_type": "code",
   "execution_count": null,
   "id": "6436b741",
   "metadata": {
    "execution": {
     "iopub.execute_input": "2022-02-09T05:37:10.146901Z",
     "iopub.status.busy": "2022-02-09T05:37:10.146226Z",
     "iopub.status.idle": "2022-02-09T05:37:20.956513Z",
     "shell.execute_reply": "2022-02-09T05:37:20.955979Z"
    }
   },
   "outputs": [],
   "source": [
    "using PlotlyJS\n",
    "\n",
    "using OnePiece"
   ]
  },
  {
   "cell_type": "code",
   "execution_count": null,
   "id": "836e7390",
   "metadata": {
    "execution": {
     "iopub.execute_input": "2022-02-09T05:37:22.610912Z",
     "iopub.status.busy": "2022-02-09T05:37:20.957827Z",
     "iopub.status.idle": "2022-02-09T05:37:25.433363Z",
     "shell.execute_reply": "2022-02-09T05:37:25.432792Z"
    }
   },
   "outputs": [],
   "source": [
    "tr_ = Vector{GenericTrace}()\n",
    "\n",
    "la = Layout(title = \"Title\", yaxis_title = \"Y-Axis Title\", xaxis_title = \"X-Axis Title\")\n",
    "\n",
    ";"
   ]
  },
  {
   "cell_type": "markdown",
   "id": "6809059e",
   "metadata": {},
   "source": [
    "## plot"
   ]
  },
  {
   "cell_type": "code",
   "execution_count": null,
   "id": "5bd282d2",
   "metadata": {
    "execution": {
     "iopub.execute_input": "2022-02-09T05:37:25.435427Z",
     "iopub.status.busy": "2022-02-09T05:37:25.434676Z",
     "iopub.status.idle": "2022-02-09T05:37:30.080821Z",
     "shell.execute_reply": "2022-02-09T05:37:30.080435Z"
    }
   },
   "outputs": [],
   "source": [
    "OnePiece.figure.plot(tr_, la)"
   ]
  },
  {
   "cell_type": "markdown",
   "id": "a2513ee0",
   "metadata": {},
   "source": [
    "## write"
   ]
  },
  {
   "cell_type": "code",
   "execution_count": null,
   "id": "3066f153",
   "metadata": {
    "execution": {
     "iopub.execute_input": "2022-02-09T05:37:30.082490Z",
     "iopub.status.busy": "2022-02-09T05:37:30.081986Z",
     "iopub.status.idle": "2022-02-09T05:37:30.980368Z",
     "shell.execute_reply": "2022-02-09T05:37:30.979842Z"
    }
   },
   "outputs": [],
   "source": [
    "pl = OnePiece.figure.plot(tr_)\n",
    "\n",
    "OnePiece.figure.write(joinpath(tempdir(), \"snow.png\"), pl, 400, 200, 1.0)"
   ]
  },
  {
   "cell_type": "code",
   "execution_count": null,
   "id": "70a3796d",
   "metadata": {
    "execution": {
     "iopub.execute_input": "2022-02-09T05:37:30.982252Z",
     "iopub.status.busy": "2022-02-09T05:37:30.981646Z",
     "iopub.status.idle": "2022-02-09T05:37:30.994997Z",
     "shell.execute_reply": "2022-02-09T05:37:30.994482Z"
    }
   },
   "outputs": [],
   "source": [
    "x1 = [-1, 0, 2]\n",
    "\n",
    "x2 = [-2, -1, 0, 2, 4]\n",
    "\n",
    ";"
   ]
  },
  {
   "cell_type": "code",
   "execution_count": null,
   "id": "1273971b",
   "metadata": {
    "execution": {
     "iopub.execute_input": "2022-02-09T05:37:30.996968Z",
     "iopub.status.busy": "2022-02-09T05:37:30.996345Z",
     "iopub.status.idle": "2022-02-09T05:37:31.050031Z",
     "shell.execute_reply": "2022-02-09T05:37:31.049505Z"
    }
   },
   "outputs": [],
   "source": [
    "y1 = x1 .* 10\n",
    "\n",
    "y2 = x2 .* 10\n",
    "\n",
    ";"
   ]
  },
  {
   "cell_type": "markdown",
   "id": "ced90427",
   "metadata": {},
   "source": [
    "## plot_x_y"
   ]
  },
  {
   "cell_type": "code",
   "execution_count": null,
   "id": "b6a32634",
   "metadata": {
    "execution": {
     "iopub.execute_input": "2022-02-09T05:37:31.051843Z",
     "iopub.status.busy": "2022-02-09T05:37:31.051284Z",
     "iopub.status.idle": "2022-02-09T05:37:31.918644Z",
     "shell.execute_reply": "2022-02-09T05:37:31.918262Z"
    }
   },
   "outputs": [],
   "source": [
    "OnePiece.figure.plot_x_y([y1, y2], [x1, x2]; la = la)"
   ]
  },
  {
   "cell_type": "code",
   "execution_count": null,
   "id": "7fc47cde",
   "metadata": {
    "execution": {
     "iopub.execute_input": "2022-02-09T05:37:31.921037Z",
     "iopub.status.busy": "2022-02-09T05:37:31.920448Z",
     "iopub.status.idle": "2022-02-09T05:37:31.978863Z",
     "shell.execute_reply": "2022-02-09T05:37:31.977697Z"
    }
   },
   "outputs": [],
   "source": [
    "OnePiece.figure.plot_x_y([y1, y2]; la = la)"
   ]
  },
  {
   "cell_type": "markdown",
   "id": "3ac78e65",
   "metadata": {},
   "source": [
    "## plot_bar"
   ]
  },
  {
   "cell_type": "code",
   "execution_count": null,
   "id": "9efd367f",
   "metadata": {
    "execution": {
     "iopub.execute_input": "2022-02-09T05:37:31.981173Z",
     "iopub.status.busy": "2022-02-09T05:37:31.980538Z",
     "iopub.status.idle": "2022-02-09T05:37:32.025078Z",
     "shell.execute_reply": "2022-02-09T05:37:32.024395Z"
    }
   },
   "outputs": [],
   "source": [
    "OnePiece.figure.plot_bar([y1, y2], [x1, x2]; la = la)"
   ]
  },
  {
   "cell_type": "code",
   "execution_count": null,
   "id": "1abb7102",
   "metadata": {
    "execution": {
     "iopub.execute_input": "2022-02-09T05:37:32.027066Z",
     "iopub.status.busy": "2022-02-09T05:37:32.026478Z",
     "iopub.status.idle": "2022-02-09T05:37:32.168825Z",
     "shell.execute_reply": "2022-02-09T05:37:32.168376Z"
    }
   },
   "outputs": [],
   "source": [
    "OnePiece.figure.plot_bar([y1, y2]; la = la)"
   ]
  },
  {
   "cell_type": "code",
   "execution_count": null,
   "id": "f7e73bd2",
   "metadata": {
    "execution": {
     "iopub.execute_input": "2022-02-09T05:37:32.170935Z",
     "iopub.status.busy": "2022-02-09T05:37:32.170336Z",
     "iopub.status.idle": "2022-02-09T05:37:33.212748Z",
     "shell.execute_reply": "2022-02-09T05:37:33.211846Z"
    }
   },
   "outputs": [],
   "source": [
    "fill(\"adf\", 10)"
   ]
  },
  {
   "cell_type": "markdown",
   "id": "1ac66c3b",
   "metadata": {},
   "source": [
    "## plot_heat_map"
   ]
  },
  {
   "cell_type": "code",
   "execution_count": null,
   "id": "9d37bab8",
   "metadata": {
    "execution": {
     "iopub.execute_input": "2022-02-09T05:37:33.216087Z",
     "iopub.status.busy": "2022-02-09T05:37:33.215169Z",
     "iopub.status.idle": "2022-02-09T05:37:33.721394Z",
     "shell.execute_reply": "2022-02-09T05:37:33.720903Z"
    }
   },
   "outputs": [],
   "source": [
    "ma = convert(Matrix, reshape(1:8, (2, 4)))"
   ]
  },
  {
   "cell_type": "code",
   "execution_count": null,
   "id": "36665ec2",
   "metadata": {
    "execution": {
     "iopub.execute_input": "2022-02-09T05:37:33.723714Z",
     "iopub.status.busy": "2022-02-09T05:37:33.723028Z",
     "iopub.status.idle": "2022-02-09T05:37:34.285314Z",
     "shell.execute_reply": "2022-02-09T05:37:34.284843Z"
    }
   },
   "outputs": [],
   "source": [
    "OnePiece.figure.plot_heat_map(\n",
    "    ma,\n",
    "    [string(\"Row\", id) for id in 1:size(ma, 1)],\n",
    "    [string(\"Column\", id) for id in 1:size(ma, 2)],\n",
    ")"
   ]
  },
  {
   "cell_type": "code",
   "execution_count": null,
   "id": "975108c0",
   "metadata": {
    "execution": {
     "iopub.execute_input": "2022-02-09T05:37:34.288008Z",
     "iopub.status.busy": "2022-02-09T05:37:34.287332Z",
     "iopub.status.idle": "2022-02-09T05:37:34.482427Z",
     "shell.execute_reply": "2022-02-09T05:37:34.481916Z"
    }
   },
   "outputs": [],
   "source": [
    "OnePiece.figure.plot_heat_map(ma)"
   ]
  }
 ],
 "metadata": {
  "@webio": {
   "lastCommId": null,
   "lastKernelId": null
  },
  "kernelspec": {
   "display_name": "Julia 1.7.1",
   "language": "julia",
   "name": "julia-1.7"
  },
  "language_info": {
   "file_extension": ".jl",
   "mimetype": "application/julia",
   "name": "julia",
   "version": "1.7.2"
  }
 },
 "nbformat": 4,
 "nbformat_minor": 5
}
