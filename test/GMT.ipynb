{
 "cells": [
  {
   "cell_type": "code",
   "execution_count": null,
   "id": "f88acbc9-c4bb-41cc-8281-3f912aa8ad52",
   "metadata": {
    "execution": {
     "iopub.execute_input": "2023-02-23T14:53:11.430000Z",
     "iopub.status.busy": "2023-02-23T14:53:11.150000Z",
     "iopub.status.idle": "2023-02-23T14:53:15.337000Z",
     "shell.execute_reply": "2023-02-23T14:53:15.313000Z"
    }
   },
   "outputs": [],
   "source": [
    "include(\"_.jl\")"
   ]
  },
  {
   "cell_type": "markdown",
   "id": "a1b4100b",
   "metadata": {},
   "source": [
    "## read"
   ]
  },
  {
   "cell_type": "code",
   "execution_count": null,
   "id": "f8e54fda-7784-450e-998e-e92f24c112a0",
   "metadata": {
    "execution": {
     "iopub.execute_input": "2023-02-23T14:53:15.495000Z",
     "iopub.status.busy": "2023-02-23T14:53:15.339000Z",
     "iopub.status.idle": "2023-02-23T14:53:19.179000Z",
     "shell.execute_reply": "2023-02-23T14:53:19.179000Z"
    }
   },
   "outputs": [],
   "source": [
    "da = joinpath(@__DIR__, \"gmt.data\")\n",
    "\n",
    "gm1 = joinpath(da, \"h.all.v7.1.symbols.gmt\")\n",
    "\n",
    "gm2 = joinpath(da, \"c2.all.v7.1.symbols.gmt\")\n",
    "\n",
    "n = 2\n",
    "\n",
    "for gm in (gm1, gm2)\n",
    "\n",
    "    BioLab.String.print_header(gm)\n",
    "\n",
    "    # TODO: `@test`.\n",
    "    BioLab.Dict.print(BioLab.GMT.read(gm); n)\n",
    "\n",
    "    @code_warntype BioLab.GMT.read(gm)\n",
    "\n",
    "end\n",
    "\n",
    "# TODO: `@test`.\n",
    "BioLab.Dict.print(BioLab.GMT.read((gm1, gm1)); n)\n",
    "\n",
    "gm_ = (gm1, gm2)\n",
    "\n",
    "# TODO: `@test`.\n",
    "BioLab.Dict.print(BioLab.GMT.read(gm_); n)\n",
    "\n",
    "@code_warntype BioLab.GMT.read(gm_)"
   ]
  }
 ],
 "metadata": {
  "@webio": {
   "lastCommId": null,
   "lastKernelId": null
  },
  "kernelspec": {
   "display_name": "Julia 1.8.5",
   "language": "julia",
   "name": "julia-1.8"
  },
  "language_info": {
   "file_extension": ".jl",
   "mimetype": "application/julia",
   "name": "julia",
   "version": "1.8.5"
  }
 },
 "nbformat": 4,
 "nbformat_minor": 5
}
