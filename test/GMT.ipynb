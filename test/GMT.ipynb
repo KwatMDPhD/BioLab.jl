{
 "cells": [
  {
   "outputs": [],
   "cell_type": "code",
   "source": [
    "include(\"_.jl\")"
   ],
   "id": "baf12f00",
   "metadata": {},
   "execution_count": null
  },
  {
   "outputs": [],
   "cell_type": "code",
   "source": [
    "da = joinpath(@__DIR__, \"gmt.data\")\n",
    "\n",
    "gm1 = joinpath(da, \"h.all.v7.1.symbols.gmt\")\n",
    "\n",
    "gm2 = joinpath(da, \"c2.all.v7.1.symbols.gmt\")"
   ],
   "id": "e0e585a9-f69d-4a25-b1e2-ced0f8a43211",
   "metadata": {},
   "execution_count": null
  },
  {
   "cell_type": "markdown",
   "source": [
    "## read"
   ],
   "id": "a1b4100b",
   "metadata": {}
  },
  {
   "outputs": [],
   "cell_type": "code",
   "source": [
    "for gm in (\n",
    "    gm1, # 395.542 μs (8038 allocations: 1.79 MiB)\n",
    "    gm2, # 29.512 ms (546314 allocations: 94.01 MiB)\n",
    ")\n",
    "\n",
    "    BioLab.String.print_header(gm)\n",
    "\n",
    "    BioLab.Dict.print(BioLab.GMT.read(gm); n = 2)\n",
    "\n",
    "    @code_warntype BioLab.GMT.read(gm)\n",
    "\n",
    "    @btime BioLab.GMT.read($gm)\n",
    "\n",
    "end"
   ],
   "id": "269380df-01cd-41be-b82c-9b5b40ab8922",
   "metadata": {},
   "execution_count": null
  },
  {
   "outputs": [],
   "cell_type": "code",
   "source": [
    "BioLab.GMT.read((gm1, gm1))"
   ],
   "id": "bf6c2b92-6d32-42c0-a293-737bb4448876",
   "metadata": {},
   "execution_count": null
  },
  {
   "outputs": [],
   "cell_type": "code",
   "source": [
    "BioLab.GMT.read((gm1, gm2))"
   ],
   "id": "b607d9b0-fec2-43b1-80ae-58848a9c01a6",
   "metadata": {},
   "execution_count": null
  },
  {
   "outputs": [],
   "cell_type": "code",
   "source": [
    "gm_ = (gm1, gm2)\n",
    "\n",
    "@code_warntype BioLab.GMT.read(gm_)\n",
    "\n",
    "# 30.416 ms (554342 allocations: 95.79 MiB)\n",
    "@btime BioLab.GMT.read($gm_)"
   ],
   "id": "fd3a455c-3cd0-4d99-8f5f-84963342a063",
   "metadata": {},
   "execution_count": null
  }
 ],
 "nbformat_minor": 5,
 "metadata": {
  "language_info": {
   "file_extension": ".jl",
   "mimetype": "application/julia",
   "name": "julia",
   "version": "1.8.5"
  },
  "@webio": {
   "lastKernelId": null,
   "lastCommId": null
  },
  "kernelspec": {
   "name": "julia-1.8",
   "display_name": "Julia 1.8.5",
   "language": "julia"
  }
 },
 "nbformat": 4
}
