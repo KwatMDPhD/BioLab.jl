{
 "cells": [
  {
   "cell_type": "code",
   "execution_count": null,
   "id": "baf12f00",
   "metadata": {},
   "outputs": [],
   "source": [
    "using OnePiece"
   ]
  },
  {
   "cell_type": "markdown",
   "id": "a1b4100b",
   "metadata": {},
   "source": [
    "## read"
   ]
  },
  {
   "cell_type": "code",
   "execution_count": null,
   "id": "00388202",
   "metadata": {},
   "outputs": [],
   "source": [
    "da = joinpath(@__DIR__, \"gmt.data\")\n",
    "\n",
    "gm = joinpath(da, \"h.all.v7.1.symbols.gmt\")"
   ]
  },
  {
   "cell_type": "code",
   "execution_count": null,
   "id": "2930b45f",
   "metadata": {},
   "outputs": [],
   "source": [
    "n = 2\n",
    "\n",
    ";"
   ]
  },
  {
   "cell_type": "code",
   "execution_count": null,
   "id": "7c317f9d",
   "metadata": {},
   "outputs": [],
   "source": [
    "OnePiece.Dict.print(OnePiece.GMT.read(gm), n)"
   ]
  },
  {
   "cell_type": "code",
   "execution_count": null,
   "id": "05216e41",
   "metadata": {},
   "outputs": [],
   "source": [
    "OnePiece.Dict.print(OnePiece.GMT.read((gm, joinpath(da, \"c2.all.v7.1.symbols.gmt\"))), n)"
   ]
  }
 ],
 "metadata": {
  "@webio": {
   "lastCommId": null,
   "lastKernelId": null
  },
  "kernelspec": {
   "display_name": "Julia 1.8.2",
   "language": "julia",
   "name": "julia-1.8"
  },
  "language_info": {
   "file_extension": ".jl",
   "mimetype": "application/julia",
   "name": "julia",
   "version": "1.8.2"
  }
 },
 "nbformat": 4,
 "nbformat_minor": 5
}
