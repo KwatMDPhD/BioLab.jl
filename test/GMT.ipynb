{
 "cells": [
  {
   "outputs": [],
   "cell_type": "code",
   "source": [
    "include(\"_.jl\")"
   ],
   "id": "f88acbc9-c4bb-41cc-8281-3f912aa8ad52",
   "metadata": {},
   "execution_count": null
  },
  {
   "cell_type": "markdown",
   "source": [
    "## read"
   ],
   "id": "a1b4100b",
   "metadata": {}
  },
  {
   "outputs": [],
   "cell_type": "code",
   "source": [
    "da = joinpath(@__DIR__, \"gmt.data\")\n",
    "\n",
    "gm1 = joinpath(da, \"h.all.v7.1.symbols.gmt\")\n",
    "\n",
    "gm2 = joinpath(da, \"c2.all.v7.1.symbols.gmt\")\n",
    "\n",
    "n = 2\n",
    "\n",
    "for gm in (gm1, gm2)\n",
    "\n",
    "    BioLab.String.print_header(gm)\n",
    "\n",
    "    # TODO: @test.\n",
    "    BioLab.Dict.print(BioLab.GMT.read(gm); n)\n",
    "\n",
    "    @code_warntype BioLab.GMT.read(gm)\n",
    "\n",
    "end\n",
    "\n",
    "# TODO: @test.\n",
    "BioLab.Dict.print(BioLab.GMT.read((gm1, gm1)); n)\n",
    "\n",
    "gm_ = (gm1, gm2)\n",
    "\n",
    "# TODO: @test.\n",
    "BioLab.Dict.print(BioLab.GMT.read(gm_); n)\n",
    "\n",
    "@code_warntype BioLab.GMT.read(gm_)"
   ],
   "id": "f8e54fda-7784-450e-998e-e92f24c112a0",
   "metadata": {},
   "execution_count": null
  }
 ],
 "nbformat_minor": 5,
 "metadata": {
  "language_info": {
   "file_extension": ".jl",
   "mimetype": "application/julia",
   "name": "julia",
   "version": "1.8.5"
  },
  "@webio": {
   "lastKernelId": null,
   "lastCommId": null
  },
  "kernelspec": {
   "name": "julia-1.8",
   "display_name": "Julia 1.8.5",
   "language": "julia"
  }
 },
 "nbformat": 4
}
