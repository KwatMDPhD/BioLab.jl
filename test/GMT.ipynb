{
 "cells": [
  {
   "outputs": [],
   "cell_type": "code",
   "source": [
    "using OnePiece"
   ],
   "id": "baf12f00",
   "metadata": {},
   "execution_count": null
  },
  {
   "cell_type": "markdown",
   "source": [
    "## read"
   ],
   "id": "a1b4100b",
   "metadata": {}
  },
  {
   "outputs": [],
   "cell_type": "code",
   "source": [
    "da = joinpath(@__DIR__, \"gmt.data\")\n",
    "\n",
    "gm = joinpath(da, \"h.all.v7.1.symbols.gmt\")"
   ],
   "id": "00388202",
   "metadata": {},
   "execution_count": null
  },
  {
   "outputs": [],
   "cell_type": "code",
   "source": [
    "n = 2\n",
    "\n",
    ";"
   ],
   "id": "2930b45f",
   "metadata": {},
   "execution_count": null
  },
  {
   "outputs": [],
   "cell_type": "code",
   "source": [
    "OnePiece.Dict.print(OnePiece.GMT.read(gm), n)"
   ],
   "id": "7c317f9d",
   "metadata": {},
   "execution_count": null
  },
  {
   "outputs": [],
   "cell_type": "code",
   "source": [
    "OnePiece.Dict.print(OnePiece.GMT.read((gm, joinpath(da, \"c2.all.v7.1.symbols.gmt\"))), n)"
   ],
   "id": "05216e41",
   "metadata": {},
   "execution_count": null
  }
 ],
 "nbformat_minor": 5,
 "metadata": {
  "language_info": {
   "file_extension": ".jl",
   "mimetype": "application/julia",
   "name": "julia",
   "version": "1.8.2"
  },
  "@webio": {
   "lastKernelId": null,
   "lastCommId": null
  },
  "kernelspec": {
   "name": "julia-1.8",
   "display_name": "Julia 1.8.2",
   "language": "julia"
  }
 },
 "nbformat": 4
}
