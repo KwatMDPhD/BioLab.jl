{
 "cells": [
  {
   "outputs": [],
   "cell_type": "code",
   "source": [
    "include(\"_.jl\")"
   ],
   "id": "baf12f00",
   "metadata": {},
   "execution_count": null
  },
  {
   "cell_type": "markdown",
   "source": [
    "## read"
   ],
   "id": "a1b4100b",
   "metadata": {}
  },
  {
   "outputs": [],
   "cell_type": "code",
   "source": [
    "da = joinpath(@__DIR__, \"gmt.data\")\n",
    "\n",
    "gm = joinpath(da, \"h.all.v7.1.symbols.gmt\")\n",
    "\n",
    ";"
   ],
   "id": "00388202",
   "metadata": {},
   "execution_count": null
  },
  {
   "outputs": [],
   "cell_type": "code",
   "source": [
    "# 337.167 μs (835 allocations: 1.56 MiB)\n",
    "# 399.042 μs (8092 allocations: 1.79 MiB)\n",
    "@btime BioLab.GMT.read($gm)\n",
    "\n",
    "BioLab.GMT.read(gm)"
   ],
   "id": "7c317f9d",
   "metadata": {},
   "execution_count": null
  },
  {
   "outputs": [],
   "cell_type": "code",
   "source": [
    "gm_ = (gm, joinpath(da, \"c2.all.v7.1.symbols.gmt\"))\n",
    "\n",
    "# 26.830 ms (99682 allocations: 81.62 MiB)\n",
    "# 30.933 ms (559967 allocations: 96.35 MiB)\n",
    "@btime BioLab.GMT.read($gm_)\n",
    "\n",
    "BioLab.GMT.read(gm_)"
   ],
   "id": "7aa1b2ec-04d9-413c-b429-065fd33e5a6a",
   "metadata": {},
   "execution_count": null
  }
 ],
 "nbformat_minor": 5,
 "metadata": {
  "language_info": {
   "file_extension": ".jl",
   "mimetype": "application/julia",
   "name": "julia",
   "version": "1.8.5"
  },
  "@webio": {
   "lastKernelId": null,
   "lastCommId": null
  },
  "kernelspec": {
   "name": "julia-1.8",
   "display_name": "Julia 1.8.5",
   "language": "julia"
  }
 },
 "nbformat": 4
}
