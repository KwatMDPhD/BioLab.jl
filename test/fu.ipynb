{
 "cells": [
  {
   "cell_type": "code",
   "execution_count": null,
   "id": "baf12f00",
   "metadata": {
    "execution": {
     "iopub.execute_input": "2022-08-25T17:16:53.988000Z",
     "iopub.status.busy": "2022-08-25T17:16:53.496000Z",
     "iopub.status.idle": "2022-08-25T17:17:00.860000Z",
     "shell.execute_reply": "2022-08-25T17:17:00.819000Z"
    }
   },
   "outputs": [],
   "source": [
    "using OnePiece"
   ]
  },
  {
   "cell_type": "markdown",
   "id": "ab6ddc1f",
   "metadata": {},
   "source": [
    "## apply"
   ]
  },
  {
   "cell_type": "code",
   "execution_count": null,
   "id": "3fe26de2",
   "metadata": {
    "execution": {
     "iopub.execute_input": "2022-08-25T17:17:01.048000Z",
     "iopub.status.busy": "2022-08-25T17:17:00.862000Z",
     "iopub.status.idle": "2022-08-25T17:17:01.439000Z",
     "shell.execute_reply": "2022-08-25T17:17:01.439000Z"
    }
   },
   "outputs": [],
   "source": [
    "function fu(ve1, ve2)\n",
    "\n",
    "    le = sum(ve1)\n",
    "\n",
    "    ri = sum(ve2)\n",
    "\n",
    "    println(\"$le & $ri\")\n",
    "\n",
    "    le - ri\n",
    "\n",
    "end"
   ]
  },
  {
   "cell_type": "code",
   "execution_count": null,
   "id": "a3397861",
   "metadata": {
    "execution": {
     "iopub.execute_input": "2022-08-25T17:17:01.443000Z",
     "iopub.status.busy": "2022-08-25T17:17:01.443000Z",
     "iopub.status.idle": "2022-08-25T17:17:02.938000Z",
     "shell.execute_reply": "2022-08-25T17:17:02.938000Z"
    }
   },
   "outputs": [],
   "source": [
    "n_ro = 5\n",
    "\n",
    "n_co = 4\n",
    "\n",
    "ma = OnePiece.matrix.simulate(n_ro, n_co)"
   ]
  },
  {
   "cell_type": "code",
   "execution_count": null,
   "id": "dccf79f3",
   "metadata": {
    "execution": {
     "iopub.execute_input": "2022-08-25T17:17:02.941000Z",
     "iopub.status.busy": "2022-08-25T17:17:02.941000Z",
     "iopub.status.idle": "2022-08-25T17:17:03.250000Z",
     "shell.execute_reply": "2022-08-25T17:17:03.249000Z"
    }
   },
   "outputs": [],
   "source": [
    "co = [10^(id - 1) for id in 1:n_co]"
   ]
  },
  {
   "cell_type": "code",
   "execution_count": null,
   "id": "786c9565",
   "metadata": {
    "execution": {
     "iopub.execute_input": "2022-08-25T17:17:03.253000Z",
     "iopub.status.busy": "2022-08-25T17:17:03.252000Z",
     "iopub.status.idle": "2022-08-25T17:17:03.679000Z",
     "shell.execute_reply": "2022-08-25T17:17:03.679000Z"
    }
   },
   "outputs": [],
   "source": [
    "n_ze = convert(Int64, n_co / 2)\n",
    "\n",
    "bi = convert(BitVector, [zeros(n_ze); ones(n_co - n_ze)])"
   ]
  },
  {
   "cell_type": "code",
   "execution_count": null,
   "id": "d73c6551",
   "metadata": {
    "execution": {
     "iopub.execute_input": "2022-08-25T17:17:03.682000Z",
     "iopub.status.busy": "2022-08-25T17:17:03.682000Z",
     "iopub.status.idle": "2022-08-25T17:17:03.850000Z",
     "shell.execute_reply": "2022-08-25T17:17:03.850000Z"
    }
   },
   "outputs": [],
   "source": [
    "OnePiece.fu.apply(co, co, fu)"
   ]
  },
  {
   "cell_type": "code",
   "execution_count": null,
   "id": "996d485f",
   "metadata": {
    "execution": {
     "iopub.execute_input": "2022-08-25T17:17:03.853000Z",
     "iopub.status.busy": "2022-08-25T17:17:03.853000Z",
     "iopub.status.idle": "2022-08-25T17:17:03.918000Z",
     "shell.execute_reply": "2022-08-25T17:17:03.918000Z"
    }
   },
   "outputs": [],
   "source": [
    "OnePiece.fu.apply(bi, co, fu)"
   ]
  },
  {
   "cell_type": "code",
   "execution_count": null,
   "id": "9b15b10e",
   "metadata": {
    "execution": {
     "iopub.execute_input": "2022-08-25T17:17:03.922000Z",
     "iopub.status.busy": "2022-08-25T17:17:03.921000Z",
     "iopub.status.idle": "2022-08-25T17:17:04.373000Z",
     "shell.execute_reply": "2022-08-25T17:17:04.373000Z"
    }
   },
   "outputs": [],
   "source": [
    "OnePiece.fu.apply(co, ma, fu)"
   ]
  },
  {
   "cell_type": "code",
   "execution_count": null,
   "id": "15784fda",
   "metadata": {
    "execution": {
     "iopub.execute_input": "2022-08-25T17:17:04.376000Z",
     "iopub.status.busy": "2022-08-25T17:17:04.376000Z",
     "iopub.status.idle": "2022-08-25T17:17:04.518000Z",
     "shell.execute_reply": "2022-08-25T17:17:04.517000Z"
    }
   },
   "outputs": [],
   "source": [
    "OnePiece.fu.apply(bi, ma, fu)"
   ]
  },
  {
   "cell_type": "code",
   "execution_count": null,
   "id": "531a5a1f",
   "metadata": {
    "execution": {
     "iopub.execute_input": "2022-08-25T17:17:04.521000Z",
     "iopub.status.busy": "2022-08-25T17:17:04.520000Z",
     "iopub.status.idle": "2022-08-25T17:17:04.618000Z",
     "shell.execute_reply": "2022-08-25T17:17:04.618000Z"
    }
   },
   "outputs": [],
   "source": [
    "OnePiece.fu.apply(ma, ma, fu)"
   ]
  },
  {
   "cell_type": "code",
   "execution_count": null,
   "id": "9f9f8569",
   "metadata": {
    "execution": {
     "iopub.execute_input": "2022-08-25T17:17:04.621000Z",
     "iopub.status.busy": "2022-08-25T17:17:04.621000Z",
     "iopub.status.idle": "2022-08-25T17:17:04.672000Z",
     "shell.execute_reply": "2022-08-25T17:17:04.671000Z"
    }
   },
   "outputs": [],
   "source": [
    "ma2 = [\n",
    "    1 10 100 1000\n",
    "    0.001 0.0 1 0.1\n",
    "]"
   ]
  },
  {
   "cell_type": "code",
   "execution_count": null,
   "id": "63c822b4",
   "metadata": {
    "execution": {
     "iopub.execute_input": "2022-08-25T17:17:04.675000Z",
     "iopub.status.busy": "2022-08-25T17:17:04.675000Z",
     "iopub.status.idle": "2022-08-25T17:17:04.860000Z",
     "shell.execute_reply": "2022-08-25T17:17:04.860000Z"
    }
   },
   "outputs": [],
   "source": [
    "ma1 = [0 0 1 1]\n",
    "\n",
    "OnePiece.fu.apply(ma1, ma2, fu)"
   ]
  },
  {
   "cell_type": "code",
   "execution_count": null,
   "id": "6f822ca4",
   "metadata": {
    "execution": {
     "iopub.execute_input": "2022-08-25T17:17:04.863000Z",
     "iopub.status.busy": "2022-08-25T17:17:04.863000Z",
     "iopub.status.idle": "2022-08-25T17:17:05.179000Z",
     "shell.execute_reply": "2022-08-25T17:17:05.178000Z"
    }
   },
   "outputs": [],
   "source": [
    "OnePiece.fu.apply(convert(BitMatrix, ma1), ma2, fu)"
   ]
  },
  {
   "cell_type": "code",
   "execution_count": null,
   "id": "3a67e300",
   "metadata": {
    "execution": {
     "iopub.execute_input": "2022-08-25T17:17:05.181000Z",
     "iopub.status.busy": "2022-08-25T17:17:05.181000Z",
     "iopub.status.idle": "2022-08-25T17:17:05.184000Z",
     "shell.execute_reply": "2022-08-25T17:17:05.183000Z"
    }
   },
   "outputs": [],
   "source": [
    "OnePiece.fu.apply(\n",
    "    [\n",
    "        0 0 1 1\n",
    "        -1 0 2 3\n",
    "    ],\n",
    "    ma2,\n",
    "    fu,\n",
    ")"
   ]
  }
 ],
 "metadata": {
  "@webio": {
   "lastCommId": null,
   "lastKernelId": null
  },
  "kernelspec": {
   "display_name": "Julia 1.7.3",
   "language": "julia",
   "name": "julia-1.8"
  },
  "language_info": {
   "file_extension": ".jl",
   "mimetype": "application/julia",
   "name": "julia",
   "version": "1.8.0"
  }
 },
 "nbformat": 4,
 "nbformat_minor": 5
}
