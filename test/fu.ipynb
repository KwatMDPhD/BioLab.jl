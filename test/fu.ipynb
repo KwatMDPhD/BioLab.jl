{
 "cells": [
  {
   "cell_type": "code",
   "execution_count": null,
   "id": "baf12f00",
   "metadata": {
    "execution": {
     "iopub.execute_input": "2022-08-17T20:02:56.971000Z",
     "iopub.status.busy": "2022-08-17T20:02:56.626000Z",
     "iopub.status.idle": "2022-08-17T20:03:01.856000Z",
     "shell.execute_reply": "2022-08-17T20:03:01.810000Z"
    }
   },
   "outputs": [],
   "source": [
    "using OnePiece"
   ]
  },
  {
   "cell_type": "markdown",
   "id": "ab6ddc1f",
   "metadata": {},
   "source": [
    "## apply"
   ]
  },
  {
   "cell_type": "code",
   "execution_count": null,
   "id": "3fe26de2",
   "metadata": {
    "execution": {
     "iopub.execute_input": "2022-08-17T20:03:02.468000Z",
     "iopub.status.busy": "2022-08-17T20:03:01.872000Z",
     "iopub.status.idle": "2022-08-17T20:03:02.853000Z",
     "shell.execute_reply": "2022-08-17T20:03:02.852000Z"
    }
   },
   "outputs": [],
   "source": [
    "function fu(ve1, ve2)\n",
    "\n",
    "    le = sum(ve1)\n",
    "\n",
    "    ri = sum(ve2)\n",
    "\n",
    "    println(\"$le & $ri\")\n",
    "\n",
    "    le - ri\n",
    "\n",
    "end"
   ]
  },
  {
   "cell_type": "code",
   "execution_count": null,
   "id": "a3397861",
   "metadata": {
    "execution": {
     "iopub.execute_input": "2022-08-17T20:03:02.856000Z",
     "iopub.status.busy": "2022-08-17T20:03:02.856000Z",
     "iopub.status.idle": "2022-08-17T20:03:03.817000Z",
     "shell.execute_reply": "2022-08-17T20:03:03.816000Z"
    }
   },
   "outputs": [],
   "source": [
    "n_ro = 5\n",
    "\n",
    "n_co = 4\n",
    "\n",
    "ma = OnePiece.matrix.simulate(n_ro, n_co)"
   ]
  },
  {
   "cell_type": "code",
   "execution_count": null,
   "id": "dccf79f3",
   "metadata": {
    "execution": {
     "iopub.execute_input": "2022-08-17T20:03:03.819000Z",
     "iopub.status.busy": "2022-08-17T20:03:03.819000Z",
     "iopub.status.idle": "2022-08-17T20:03:04.168000Z",
     "shell.execute_reply": "2022-08-17T20:03:04.167000Z"
    }
   },
   "outputs": [],
   "source": [
    "co = [10^(id - 1) for id in 1:n_co]"
   ]
  },
  {
   "cell_type": "code",
   "execution_count": null,
   "id": "786c9565",
   "metadata": {
    "execution": {
     "iopub.execute_input": "2022-08-17T20:03:04.171000Z",
     "iopub.status.busy": "2022-08-17T20:03:04.170000Z",
     "iopub.status.idle": "2022-08-17T20:03:04.624000Z",
     "shell.execute_reply": "2022-08-17T20:03:04.624000Z"
    }
   },
   "outputs": [],
   "source": [
    "n_ze = convert(Int64, n_co / 2)\n",
    "\n",
    "bi = convert(BitVector, [zeros(n_ze); ones(n_co - n_ze)])"
   ]
  },
  {
   "cell_type": "code",
   "execution_count": null,
   "id": "d73c6551",
   "metadata": {
    "execution": {
     "iopub.execute_input": "2022-08-17T20:03:04.627000Z",
     "iopub.status.busy": "2022-08-17T20:03:04.627000Z",
     "iopub.status.idle": "2022-08-17T20:03:04.803000Z",
     "shell.execute_reply": "2022-08-17T20:03:04.803000Z"
    }
   },
   "outputs": [],
   "source": [
    "OnePiece.fu.apply(co, co, fu)"
   ]
  },
  {
   "cell_type": "code",
   "execution_count": null,
   "id": "996d485f",
   "metadata": {
    "execution": {
     "iopub.execute_input": "2022-08-17T20:03:04.806000Z",
     "iopub.status.busy": "2022-08-17T20:03:04.805000Z",
     "iopub.status.idle": "2022-08-17T20:03:04.889000Z",
     "shell.execute_reply": "2022-08-17T20:03:04.889000Z"
    }
   },
   "outputs": [],
   "source": [
    "OnePiece.fu.apply(bi, co, fu)"
   ]
  },
  {
   "cell_type": "code",
   "execution_count": null,
   "id": "9b15b10e",
   "metadata": {
    "execution": {
     "iopub.execute_input": "2022-08-17T20:03:04.892000Z",
     "iopub.status.busy": "2022-08-17T20:03:04.892000Z",
     "iopub.status.idle": "2022-08-17T20:03:05.369000Z",
     "shell.execute_reply": "2022-08-17T20:03:05.369000Z"
    }
   },
   "outputs": [],
   "source": [
    "OnePiece.fu.apply(co, ma, fu)"
   ]
  },
  {
   "cell_type": "code",
   "execution_count": null,
   "id": "15784fda",
   "metadata": {
    "execution": {
     "iopub.execute_input": "2022-08-17T20:03:05.372000Z",
     "iopub.status.busy": "2022-08-17T20:03:05.372000Z",
     "iopub.status.idle": "2022-08-17T20:03:05.535000Z",
     "shell.execute_reply": "2022-08-17T20:03:05.534000Z"
    }
   },
   "outputs": [],
   "source": [
    "OnePiece.fu.apply(bi, ma, fu)"
   ]
  },
  {
   "cell_type": "code",
   "execution_count": null,
   "id": "531a5a1f",
   "metadata": {
    "execution": {
     "iopub.execute_input": "2022-08-17T20:03:05.538000Z",
     "iopub.status.busy": "2022-08-17T20:03:05.537000Z",
     "iopub.status.idle": "2022-08-17T20:03:05.628000Z",
     "shell.execute_reply": "2022-08-17T20:03:05.628000Z"
    }
   },
   "outputs": [],
   "source": [
    "OnePiece.fu.apply(ma, ma, fu)"
   ]
  },
  {
   "cell_type": "code",
   "execution_count": null,
   "id": "9f9f8569",
   "metadata": {
    "execution": {
     "iopub.execute_input": "2022-08-17T20:03:05.631000Z",
     "iopub.status.busy": "2022-08-17T20:03:05.631000Z",
     "iopub.status.idle": "2022-08-17T20:03:05.680000Z",
     "shell.execute_reply": "2022-08-17T20:03:05.679000Z"
    }
   },
   "outputs": [],
   "source": [
    "ma2 = [\n",
    "    1 10 100 1000\n",
    "    0.001 0.0 1 0.1\n",
    "]"
   ]
  },
  {
   "cell_type": "code",
   "execution_count": null,
   "id": "63c822b4",
   "metadata": {
    "execution": {
     "iopub.execute_input": "2022-08-17T20:03:05.683000Z",
     "iopub.status.busy": "2022-08-17T20:03:05.683000Z",
     "iopub.status.idle": "2022-08-17T20:03:05.851000Z",
     "shell.execute_reply": "2022-08-17T20:03:05.851000Z"
    }
   },
   "outputs": [],
   "source": [
    "ma1 = [0 0 1 1]\n",
    "\n",
    "OnePiece.fu.apply(ma1, ma2, fu)"
   ]
  },
  {
   "cell_type": "code",
   "execution_count": null,
   "id": "6f822ca4",
   "metadata": {
    "execution": {
     "iopub.execute_input": "2022-08-17T20:03:05.853000Z",
     "iopub.status.busy": "2022-08-17T20:03:05.853000Z",
     "iopub.status.idle": "2022-08-17T20:03:06.161000Z",
     "shell.execute_reply": "2022-08-17T20:03:06.161000Z"
    }
   },
   "outputs": [],
   "source": [
    "OnePiece.fu.apply(convert(BitMatrix, ma1), ma2, fu)"
   ]
  },
  {
   "cell_type": "code",
   "execution_count": null,
   "id": "3a67e300",
   "metadata": {
    "execution": {
     "iopub.execute_input": "2022-08-17T20:03:06.164000Z",
     "iopub.status.busy": "2022-08-17T20:03:06.164000Z",
     "iopub.status.idle": "2022-08-17T20:03:06.166000Z",
     "shell.execute_reply": "2022-08-17T20:03:06.166000Z"
    }
   },
   "outputs": [],
   "source": [
    "OnePiece.fu.apply(\n",
    "    [\n",
    "        0 0 1 1\n",
    "        -1 0 2 3\n",
    "    ],\n",
    "    ma2,\n",
    "    fu,\n",
    ")"
   ]
  }
 ],
 "metadata": {
  "@webio": {
   "lastCommId": null,
   "lastKernelId": null
  },
  "kernelspec": {
   "display_name": "Julia 1.7.3",
   "language": "julia",
   "name": "julia-1.7"
  },
  "language_info": {
   "file_extension": ".jl",
   "mimetype": "application/julia",
   "name": "julia",
   "version": "1.7.3"
  }
 },
 "nbformat": 4,
 "nbformat_minor": 5
}
