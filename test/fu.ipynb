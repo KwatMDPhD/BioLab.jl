{
 "cells": [
  {
   "cell_type": "code",
   "execution_count": null,
   "id": "baf12f00",
   "metadata": {
    "execution": {
     "iopub.execute_input": "2022-08-19T09:36:44.365000Z",
     "iopub.status.busy": "2022-08-19T09:36:44.027000Z",
     "iopub.status.idle": "2022-08-19T09:36:49.055000Z",
     "shell.execute_reply": "2022-08-19T09:36:49.006000Z"
    }
   },
   "outputs": [],
   "source": [
    "using OnePiece"
   ]
  },
  {
   "cell_type": "markdown",
   "id": "ab6ddc1f",
   "metadata": {},
   "source": [
    "## apply"
   ]
  },
  {
   "cell_type": "code",
   "execution_count": null,
   "id": "3fe26de2",
   "metadata": {
    "execution": {
     "iopub.execute_input": "2022-08-19T09:36:49.673000Z",
     "iopub.status.busy": "2022-08-19T09:36:49.075000Z",
     "iopub.status.idle": "2022-08-19T09:36:50.073000Z",
     "shell.execute_reply": "2022-08-19T09:36:50.073000Z"
    }
   },
   "outputs": [],
   "source": [
    "function fu(ve1, ve2)\n",
    "\n",
    "    le = sum(ve1)\n",
    "\n",
    "    ri = sum(ve2)\n",
    "\n",
    "    println(\"$le & $ri\")\n",
    "\n",
    "    le - ri\n",
    "\n",
    "end"
   ]
  },
  {
   "cell_type": "code",
   "execution_count": null,
   "id": "a3397861",
   "metadata": {
    "execution": {
     "iopub.execute_input": "2022-08-19T09:36:50.077000Z",
     "iopub.status.busy": "2022-08-19T09:36:50.077000Z",
     "iopub.status.idle": "2022-08-19T09:36:51.046000Z",
     "shell.execute_reply": "2022-08-19T09:36:51.045000Z"
    }
   },
   "outputs": [],
   "source": [
    "n_ro = 5\n",
    "\n",
    "n_co = 4\n",
    "\n",
    "ma = OnePiece.matrix.simulate(n_ro, n_co)"
   ]
  },
  {
   "cell_type": "code",
   "execution_count": null,
   "id": "dccf79f3",
   "metadata": {
    "execution": {
     "iopub.execute_input": "2022-08-19T09:36:51.049000Z",
     "iopub.status.busy": "2022-08-19T09:36:51.049000Z",
     "iopub.status.idle": "2022-08-19T09:36:51.392000Z",
     "shell.execute_reply": "2022-08-19T09:36:51.392000Z"
    }
   },
   "outputs": [],
   "source": [
    "co = [10^(id - 1) for id in 1:n_co]"
   ]
  },
  {
   "cell_type": "code",
   "execution_count": null,
   "id": "786c9565",
   "metadata": {
    "execution": {
     "iopub.execute_input": "2022-08-19T09:36:51.395000Z",
     "iopub.status.busy": "2022-08-19T09:36:51.395000Z",
     "iopub.status.idle": "2022-08-19T09:36:51.844000Z",
     "shell.execute_reply": "2022-08-19T09:36:51.843000Z"
    }
   },
   "outputs": [],
   "source": [
    "n_ze = convert(Int64, n_co / 2)\n",
    "\n",
    "bi = convert(BitVector, [zeros(n_ze); ones(n_co - n_ze)])"
   ]
  },
  {
   "cell_type": "code",
   "execution_count": null,
   "id": "d73c6551",
   "metadata": {
    "execution": {
     "iopub.execute_input": "2022-08-19T09:36:51.847000Z",
     "iopub.status.busy": "2022-08-19T09:36:51.847000Z",
     "iopub.status.idle": "2022-08-19T09:36:52.014000Z",
     "shell.execute_reply": "2022-08-19T09:36:52.014000Z"
    }
   },
   "outputs": [],
   "source": [
    "OnePiece.fu.apply(co, co, fu)"
   ]
  },
  {
   "cell_type": "code",
   "execution_count": null,
   "id": "996d485f",
   "metadata": {
    "execution": {
     "iopub.execute_input": "2022-08-19T09:36:52.018000Z",
     "iopub.status.busy": "2022-08-19T09:36:52.018000Z",
     "iopub.status.idle": "2022-08-19T09:36:52.098000Z",
     "shell.execute_reply": "2022-08-19T09:36:52.097000Z"
    }
   },
   "outputs": [],
   "source": [
    "OnePiece.fu.apply(bi, co, fu)"
   ]
  },
  {
   "cell_type": "code",
   "execution_count": null,
   "id": "9b15b10e",
   "metadata": {
    "execution": {
     "iopub.execute_input": "2022-08-19T09:36:52.101000Z",
     "iopub.status.busy": "2022-08-19T09:36:52.101000Z",
     "iopub.status.idle": "2022-08-19T09:36:52.543000Z",
     "shell.execute_reply": "2022-08-19T09:36:52.542000Z"
    }
   },
   "outputs": [],
   "source": [
    "OnePiece.fu.apply(co, ma, fu)"
   ]
  },
  {
   "cell_type": "code",
   "execution_count": null,
   "id": "15784fda",
   "metadata": {
    "execution": {
     "iopub.execute_input": "2022-08-19T09:36:52.546000Z",
     "iopub.status.busy": "2022-08-19T09:36:52.546000Z",
     "iopub.status.idle": "2022-08-19T09:36:52.705000Z",
     "shell.execute_reply": "2022-08-19T09:36:52.704000Z"
    }
   },
   "outputs": [],
   "source": [
    "OnePiece.fu.apply(bi, ma, fu)"
   ]
  },
  {
   "cell_type": "code",
   "execution_count": null,
   "id": "531a5a1f",
   "metadata": {
    "execution": {
     "iopub.execute_input": "2022-08-19T09:36:52.708000Z",
     "iopub.status.busy": "2022-08-19T09:36:52.707000Z",
     "iopub.status.idle": "2022-08-19T09:36:52.798000Z",
     "shell.execute_reply": "2022-08-19T09:36:52.798000Z"
    }
   },
   "outputs": [],
   "source": [
    "OnePiece.fu.apply(ma, ma, fu)"
   ]
  },
  {
   "cell_type": "code",
   "execution_count": null,
   "id": "9f9f8569",
   "metadata": {
    "execution": {
     "iopub.execute_input": "2022-08-19T09:36:52.801000Z",
     "iopub.status.busy": "2022-08-19T09:36:52.801000Z",
     "iopub.status.idle": "2022-08-19T09:36:52.848000Z",
     "shell.execute_reply": "2022-08-19T09:36:52.848000Z"
    }
   },
   "outputs": [],
   "source": [
    "ma2 = [\n",
    "    1 10 100 1000\n",
    "    0.001 0.0 1 0.1\n",
    "]"
   ]
  },
  {
   "cell_type": "code",
   "execution_count": null,
   "id": "63c822b4",
   "metadata": {
    "execution": {
     "iopub.execute_input": "2022-08-19T09:36:52.851000Z",
     "iopub.status.busy": "2022-08-19T09:36:52.851000Z",
     "iopub.status.idle": "2022-08-19T09:36:53.007000Z",
     "shell.execute_reply": "2022-08-19T09:36:53.007000Z"
    }
   },
   "outputs": [],
   "source": [
    "ma1 = [0 0 1 1]\n",
    "\n",
    "OnePiece.fu.apply(ma1, ma2, fu)"
   ]
  },
  {
   "cell_type": "code",
   "execution_count": null,
   "id": "6f822ca4",
   "metadata": {
    "execution": {
     "iopub.execute_input": "2022-08-19T09:36:53.010000Z",
     "iopub.status.busy": "2022-08-19T09:36:53.010000Z",
     "iopub.status.idle": "2022-08-19T09:36:53.282000Z",
     "shell.execute_reply": "2022-08-19T09:36:53.281000Z"
    }
   },
   "outputs": [],
   "source": [
    "OnePiece.fu.apply(convert(BitMatrix, ma1), ma2, fu)"
   ]
  },
  {
   "cell_type": "code",
   "execution_count": null,
   "id": "3a67e300",
   "metadata": {
    "execution": {
     "iopub.execute_input": "2022-08-19T09:36:53.284000Z",
     "iopub.status.busy": "2022-08-19T09:36:53.284000Z",
     "iopub.status.idle": "2022-08-19T09:36:53.286000Z",
     "shell.execute_reply": "2022-08-19T09:36:53.286000Z"
    }
   },
   "outputs": [],
   "source": [
    "OnePiece.fu.apply(\n",
    "    [\n",
    "        0 0 1 1\n",
    "        -1 0 2 3\n",
    "    ],\n",
    "    ma2,\n",
    "    fu,\n",
    ")"
   ]
  }
 ],
 "metadata": {
  "@webio": {
   "lastCommId": null,
   "lastKernelId": null
  },
  "kernelspec": {
   "display_name": "Julia 1.7.3",
   "language": "julia",
   "name": "julia-1.7"
  },
  "language_info": {
   "file_extension": ".jl",
   "mimetype": "application/julia",
   "name": "julia",
   "version": "1.7.3"
  }
 },
 "nbformat": 4,
 "nbformat_minor": 5
}
