{
 "cells": [
  {
   "cell_type": "code",
   "execution_count": null,
   "id": "017464da",
   "metadata": {},
   "outputs": [],
   "source": [
    "TE = joinpath(tempdir(), \"OnePiece.test\")\n",
    "\n",
    "if isdir(TE)\n",
    "\n",
    "    rm(TE, recursive = true)\n",
    "\n",
    "    println(\"Removed \", TE, \".\")\n",
    "\n",
    "end\n",
    "\n",
    "mkdir(TE)\n",
    "\n",
    "println(\"Made \", TE, \".\")"
   ]
  },
  {
   "cell_type": "code",
   "execution_count": null,
   "id": "34e4701e",
   "metadata": {
    "execution": {
     "iopub.execute_input": "2022-02-10T17:51:23.590384Z",
     "iopub.status.busy": "2022-02-10T17:51:23.250154Z",
     "iopub.status.idle": "2022-02-10T17:51:24.482021Z",
     "shell.execute_reply": "2022-02-10T17:51:24.481306Z"
    }
   },
   "outputs": [],
   "source": [
    "using OnePiece"
   ]
  },
  {
   "cell_type": "markdown",
   "id": "b92a3da9",
   "metadata": {},
   "source": [
    "---"
   ]
  },
  {
   "cell_type": "code",
   "execution_count": null,
   "id": "deeff91c",
   "metadata": {
    "execution": {
     "iopub.execute_input": "2022-02-11T15:36:53.555649Z",
     "iopub.status.busy": "2022-02-11T15:36:53.176414Z",
     "iopub.status.idle": "2022-02-11T15:36:53.644723Z",
     "shell.execute_reply": "2022-02-11T15:36:53.643876Z"
    }
   },
   "outputs": [],
   "source": [
    "using BenchmarkTools"
   ]
  },
  {
   "cell_type": "markdown",
   "id": "f009ac6a",
   "metadata": {},
   "source": [
    "## sum_1_absolute_and_0_count"
   ]
  },
  {
   "cell_type": "code",
   "execution_count": null,
   "id": "6ea9fb15",
   "metadata": {
    "execution": {
     "iopub.execute_input": "2022-02-11T15:36:54.514549Z",
     "iopub.status.busy": "2022-02-11T15:36:54.513731Z",
     "iopub.status.idle": "2022-02-11T15:36:56.592432Z",
     "shell.execute_reply": "2022-02-11T15:36:56.591980Z"
    }
   },
   "outputs": [],
   "source": [
    "ve = [-2.0, -1, 0, 1, 2]\n",
    "\n",
    "in_ = convert(Vector{Bool}, [1, 1, 0, 0, 1])\n",
    "\n",
    "@btime OnePiece.feature_set_enrichment.sum_1_absolute_and_0_count(ve, in_)"
   ]
  },
  {
   "cell_type": "markdown",
   "id": "e6056ac2",
   "metadata": {},
   "source": [
    "## score_set*"
   ]
  },
  {
   "cell_type": "code",
   "execution_count": null,
   "id": "14a674f9",
   "metadata": {},
   "outputs": [],
   "source": [
    "using DataFrames"
   ]
  },
  {
   "cell_type": "code",
   "execution_count": null,
   "id": "ee5aff03",
   "metadata": {
    "execution": {
     "iopub.execute_input": "2022-02-11T15:37:21.606814Z",
     "iopub.status.busy": "2022-02-11T15:37:21.606188Z",
     "iopub.status.idle": "2022-02-11T15:37:21.699116Z",
     "shell.execute_reply": "2022-02-11T15:37:21.698454Z"
    }
   },
   "outputs": [],
   "source": [
    "fe_, sc_, fe1_ = OnePiece.feature_set_enrichment.make_benchmark(\"myc\")\n",
    "\n",
    "in_ = OnePiece.extension.vector.is_in(fe_, fe1_)\n",
    "\n",
    "sc_fe_sa = DataFrame(\n",
    "    \"Feature\" => fe_,\n",
    "    \"Score\" => sc_,\n",
    "    \"Score x 10\" => sc_ * 10,\n",
    "    \"Constant\" => fill(0.8, length(fe_)),\n",
    ")\n",
    "\n",
    "se_fe_ = OnePiece.io.gmt.read(\n",
    "    joinpath(@__DIR__, \"feature_set_enrichment.data\", \"h.all.v7.1.symbols.gmt\"),\n",
    ")\n",
    "\n",
    ";"
   ]
  },
  {
   "cell_type": "markdown",
   "id": "b05aefbe",
   "metadata": {},
   "source": [
    "### score_set"
   ]
  },
  {
   "cell_type": "code",
   "execution_count": null,
   "id": "51ade553",
   "metadata": {
    "execution": {
     "iopub.execute_input": "2022-02-11T15:37:21.701323Z",
     "iopub.status.busy": "2022-02-11T15:37:21.700644Z",
     "iopub.status.idle": "2022-02-11T15:37:33.640175Z",
     "shell.execute_reply": "2022-02-11T15:37:33.639681Z"
    }
   },
   "outputs": [],
   "source": [
    "@btime OnePiece.extension.vector.is_in(fe_, fe1_)"
   ]
  },
  {
   "cell_type": "code",
   "execution_count": null,
   "id": "f1d3072c",
   "metadata": {
    "execution": {
     "iopub.execute_input": "2022-02-11T15:37:33.642127Z",
     "iopub.status.busy": "2022-02-11T15:37:33.641539Z",
     "iopub.status.idle": "2022-02-11T15:37:40.611670Z",
     "shell.execute_reply": "2022-02-11T15:37:40.611228Z"
    }
   },
   "outputs": [],
   "source": [
    "@btime OnePiece.feature_set_enrichment.score_set(fe_, sc_, fe1_, in_, pl = false)"
   ]
  },
  {
   "cell_type": "code",
   "execution_count": null,
   "id": "db503e6d",
   "metadata": {
    "execution": {
     "iopub.execute_input": "2022-02-11T15:37:40.613523Z",
     "iopub.status.busy": "2022-02-11T15:37:40.612957Z",
     "iopub.status.idle": "2022-02-11T15:37:51.504103Z",
     "shell.execute_reply": "2022-02-11T15:37:51.503711Z"
    }
   },
   "outputs": [],
   "source": [
    "@btime OnePiece.feature_set_enrichment.score_set(fe_, sc_, fe1_, pl = false)"
   ]
  },
  {
   "cell_type": "code",
   "execution_count": null,
   "id": "83b6719e",
   "metadata": {
    "execution": {
     "iopub.execute_input": "2022-02-11T15:38:02.649665Z",
     "iopub.status.busy": "2022-02-11T15:38:02.649044Z",
     "iopub.status.idle": "2022-02-11T15:38:14.874956Z",
     "shell.execute_reply": "2022-02-11T15:38:14.874556Z"
    }
   },
   "outputs": [],
   "source": [
    "@btime OnePiece.feature_set_enrichment.score_set(fe_, sc_, se_fe_)"
   ]
  },
  {
   "cell_type": "code",
   "execution_count": null,
   "id": "35f8031b",
   "metadata": {
    "execution": {
     "iopub.execute_input": "2022-02-11T15:38:02.649665Z",
     "iopub.status.busy": "2022-02-11T15:38:02.649044Z",
     "iopub.status.idle": "2022-02-11T15:38:14.874956Z",
     "shell.execute_reply": "2022-02-11T15:38:14.874556Z"
    }
   },
   "outputs": [],
   "source": [
    "@btime OnePiece.feature_set_enrichment.score_set(sc_fe_sa, se_fe_)"
   ]
  },
  {
   "cell_type": "markdown",
   "id": "b955b922",
   "metadata": {},
   "source": [
    "### score_set_new"
   ]
  },
  {
   "cell_type": "code",
   "execution_count": null,
   "id": "fa48624f",
   "metadata": {
    "execution": {
     "iopub.execute_input": "2022-02-11T15:37:51.541387Z",
     "iopub.status.busy": "2022-02-11T15:37:51.540691Z",
     "iopub.status.idle": "2022-02-11T15:38:02.590179Z",
     "shell.execute_reply": "2022-02-11T15:38:02.589797Z"
    }
   },
   "outputs": [],
   "source": [
    "@btime OnePiece.feature_set_enrichment.score_set_new(fe_, sc_, fe1_, pl = false)"
   ]
  },
  {
   "cell_type": "code",
   "execution_count": null,
   "id": "a6ac1e10",
   "metadata": {
    "execution": {
     "iopub.execute_input": "2022-02-11T15:38:14.877189Z",
     "iopub.status.busy": "2022-02-11T15:38:14.876694Z",
     "iopub.status.idle": "2022-02-11T15:38:26.882663Z",
     "shell.execute_reply": "2022-02-11T15:38:26.882236Z"
    }
   },
   "outputs": [],
   "source": [
    "@btime OnePiece.feature_set_enrichment.score_set_new(fe_, sc_, se_fe_)"
   ]
  },
  {
   "cell_type": "markdown",
   "id": "7c8012a3",
   "metadata": {},
   "source": [
    "---"
   ]
  },
  {
   "cell_type": "code",
   "execution_count": null,
   "id": "b4af2023",
   "metadata": {},
   "outputs": [],
   "source": [
    "if isdir(TE)\n",
    "\n",
    "    rm(TE, recursive = true)\n",
    "\n",
    "    println(\"Removed \", TE, \".\")\n",
    "\n",
    "end"
   ]
  }
 ],
 "metadata": {
  "kernelspec": {
   "display_name": "Julia 1.7.2",
   "language": "julia",
   "name": "julia-1.7"
  },
  "language_info": {
   "file_extension": ".jl",
   "mimetype": "application/julia",
   "name": "julia",
   "version": "1.7.2"
  }
 },
 "nbformat": 4,
 "nbformat_minor": 5
}
