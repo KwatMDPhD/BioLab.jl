{
 "cells": [
  {
   "outputs": [],
   "cell_type": "code",
   "source": [
    "using OnePiece"
   ],
   "id": "baf12f00",
   "metadata": {},
   "execution_count": null
  },
  {
   "outputs": [],
   "cell_type": "code",
   "source": [
    "te = OnePiece.Path.make_temporary(\"OnePiece.test.Network\")"
   ],
   "id": "2f9e69a3",
   "metadata": {},
   "execution_count": null
  },
  {
   "cell_type": "markdown",
   "source": [
    "## plot"
   ],
   "id": "d8c30d07",
   "metadata": {}
  },
  {
   "outputs": [],
   "cell_type": "code",
   "source": [
    "el_ = (\n",
    "    Dict(\n",
    "        \"data\" => Dict(\"id\" => \"V1\"),\n",
    "        \"style\" => Dict(\"background-color\" => \"red\"),\n",
    "        \"position\" => Dict(\"x\" => 0, \"y\" => 0),\n",
    "    ),\n",
    "    Dict(\n",
    "        \"data\" => Dict(\"id\" => \"V2\"),\n",
    "        \"style\" => Dict(\"background-color\" => \"yellow\"),\n",
    "        \"position\" => Dict(\"x\" => 100, \"y\" => 0),\n",
    "    ),\n",
    "    Dict(\n",
    "        \"data\" => Dict(\"id\" => \"V3\"),\n",
    "        \"style\" => Dict(\"background-color\" => \"green\"),\n",
    "        \"position\" => Dict(\"x\" => 100, \"y\" => 100),\n",
    "    ),\n",
    "    Dict(\n",
    "        \"data\" => Dict(\"id\" => \"V4\"),\n",
    "        \"style\" => Dict(\"background-color\" => \"blue\"),\n",
    "        \"position\" => Dict(\"x\" => 0, \"y\" => 100),\n",
    "    ),\n",
    "    Dict(\n",
    "        \"data\" => Dict(\"id\" => \"V1_V2\", \"source\" => \"V1\", \"target\" => \"V2\"),\n",
    "        \"style\" => Dict(\"line-color\" => \"purple\"),\n",
    "    ),\n",
    ")\n",
    "\n",
    ";"
   ],
   "id": "969b531c-5b4c-4518-974d-bc2cb5227eaf",
   "metadata": {},
   "execution_count": null
  },
  {
   "outputs": [],
   "cell_type": "code",
   "source": [
    "OnePiece.Network.plot(el_, (), Dict(), ht = joinpath(te, \"default.html\"))"
   ],
   "id": "6ab79a68",
   "metadata": {},
   "execution_count": null
  },
  {
   "outputs": [],
   "cell_type": "code",
   "source": [
    "OnePiece.Network.plot(\n",
    "    el_,\n",
    "    (),\n",
    "    Dict(\"name\" => \"cose\", \"animate\" => false),\n",
    "    ht = joinpath(te, \"cose.html\"),\n",
    ")"
   ],
   "id": "08572f0e-f45b-4f8b-ab78-375917868df0",
   "metadata": {},
   "execution_count": null
  },
  {
   "cell_type": "markdown",
   "source": [
    "## position!"
   ],
   "id": "f13b644b-6b73-4499-89f6-b34383515b11",
   "metadata": {}
  },
  {
   "outputs": [],
   "cell_type": "code",
   "source": [
    "js = joinpath(homedir(), \"Downloads\", \"cose.json\")\n",
    "\n",
    "if ispath(js)\n",
    "\n",
    "    OnePiece.Network.position!(el_[1:(end - 1)], js)\n",
    "\n",
    "else\n",
    "\n",
    "    println(\"$js is missing.\")\n",
    "\n",
    "end\n",
    "\n",
    "OnePiece.Network.plot(el_, (), Dict(\"name\" => \"preset\"), ht = joinpath(te, \"json_preset.html\"))"
   ],
   "id": "ef1ee471-5765-4313-a5e4-9a1776fd0f7d",
   "metadata": {},
   "execution_count": null
  }
 ],
 "nbformat_minor": 5,
 "metadata": {
  "language_info": {
   "file_extension": ".jl",
   "mimetype": "application/julia",
   "name": "julia",
   "version": "1.8.2"
  },
  "@webio": {
   "lastKernelId": null,
   "lastCommId": null
  },
  "kernelspec": {
   "name": "julia-1.8",
   "display_name": "Julia 1.8.2",
   "language": "julia"
  }
 },
 "nbformat": 4
}
