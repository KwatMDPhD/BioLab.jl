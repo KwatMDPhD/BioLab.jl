{
 "cells": [
  {
   "cell_type": "code",
   "execution_count": null,
   "id": "8a9375e1-8a62-478a-9bd0-814fa4acf495",
   "metadata": {
    "execution": {
     "iopub.execute_input": "2023-02-22T23:06:58.090000Z",
     "iopub.status.busy": "2023-02-22T23:06:57.858000Z",
     "iopub.status.idle": "2023-02-22T23:07:02.323000Z",
     "shell.execute_reply": "2023-02-22T23:07:02.314000Z"
    }
   },
   "outputs": [],
   "source": [
    "include(\"_.jl\")\n",
    "\n",
    "te = BioLab.Path.make_temporary(\"BioLab.test.Network\")"
   ]
  },
  {
   "cell_type": "code",
   "execution_count": null,
   "id": "2ca0966f-eacb-4bea-8c3a-7af9e85028dc",
   "metadata": {
    "execution": {
     "iopub.execute_input": "2023-02-22T23:07:02.531000Z",
     "iopub.status.busy": "2023-02-22T23:07:02.324000Z",
     "iopub.status.idle": "2023-02-22T23:07:03.213000Z",
     "shell.execute_reply": "2023-02-22T23:07:03.212000Z"
    }
   },
   "outputs": [],
   "source": [
    "el_ = (\n",
    "    Dict(\n",
    "        \"data\" => Dict(\"id\" => \"V1\"),\n",
    "        \"style\" => Dict(\"background-color\" => \"red\"),\n",
    "        \"position\" => Dict(\"x\" => 0, \"y\" => 0),\n",
    "    ),\n",
    "    Dict(\n",
    "        \"data\" => Dict(\"id\" => \"V2\"),\n",
    "        \"style\" => Dict(\"background-color\" => \"yellow\"),\n",
    "        \"position\" => Dict(\"x\" => 100, \"y\" => 0),\n",
    "    ),\n",
    "    Dict(\n",
    "        \"data\" => Dict(\"id\" => \"V3\"),\n",
    "        \"style\" => Dict(\"background-color\" => \"green\"),\n",
    "        \"position\" => Dict(\"x\" => 100, \"y\" => 100),\n",
    "    ),\n",
    "    Dict(\n",
    "        \"data\" => Dict(\"id\" => \"V4\"),\n",
    "        \"style\" => Dict(\"background-color\" => \"blue\"),\n",
    "        \"position\" => Dict(\"x\" => 0, \"y\" => 100),\n",
    "    ),\n",
    "    Dict(\n",
    "        \"data\" => Dict(\"id\" => \"V1_V2\", \"source\" => \"V1\", \"target\" => \"V2\"),\n",
    "        \"style\" => Dict(\"line-color\" => \"purple\"),\n",
    "    ),\n",
    ")"
   ]
  },
  {
   "cell_type": "markdown",
   "id": "23cf10c5-3fe3-4875-9269-a0b95fe384ab",
   "metadata": {},
   "source": [
    "## plot"
   ]
  },
  {
   "cell_type": "code",
   "execution_count": null,
   "id": "44137203-30dd-48b0-ad11-96a04f7efca5",
   "metadata": {
    "execution": {
     "iopub.execute_input": "2023-02-22T23:07:03.214000Z",
     "iopub.status.busy": "2023-02-22T23:07:03.214000Z",
     "iopub.status.idle": "2023-02-22T23:07:06.639000Z",
     "shell.execute_reply": "2023-02-22T23:07:06.638000Z"
    }
   },
   "outputs": [],
   "source": [
    "BioLab.Network.plot(el_)\n",
    "\n",
    "la = Dict(\"name\" => \"cose\", \"animate\" => false)\n",
    "\n",
    "ht = joinpath(te, \"cose.html\")\n",
    "\n",
    "wr = \"json\"\n",
    "\n",
    "BioLab.Network.plot(el_; la, ht, wr)\n",
    "\n",
    "@code_warntype BioLab.Network.plot(el_; la, ht, wr)"
   ]
  },
  {
   "cell_type": "markdown",
   "id": "f13b644b-6b73-4499-89f6-b34383515b11",
   "metadata": {},
   "source": [
    "## position!"
   ]
  },
  {
   "cell_type": "code",
   "execution_count": null,
   "id": "ef1ee471-5765-4313-a5e4-9a1776fd0f7d",
   "metadata": {
    "execution": {
     "iopub.execute_input": "2023-02-22T23:07:06.640000Z",
     "iopub.status.busy": "2023-02-22T23:07:06.640000Z",
     "iopub.status.idle": "2023-02-22T23:07:06.661000Z",
     "shell.execute_reply": "2023-02-22T23:07:06.661000Z"
    }
   },
   "outputs": [],
   "source": [
    "js = joinpath(homedir(), \"Downloads\", \"cose.json\")\n",
    "\n",
    "if ispath(js)\n",
    "\n",
    "    BioLab.Network.position!(el_[1:(end - 1)], js)\n",
    "\n",
    "    @code_warntype BioLab.Network.position!(el_[1:(end - 1)], js)\n",
    "\n",
    "else\n",
    "\n",
    "    println(\"🫥 $js is missing.\")\n",
    "\n",
    "end\n",
    "\n",
    "BioLab.Network.plot(el_; la = Dict(\"name\" => \"preset\"), ht = joinpath(te, \"json_preset.html\"))"
   ]
  }
 ],
 "metadata": {
  "@webio": {
   "lastCommId": null,
   "lastKernelId": null
  },
  "kernelspec": {
   "display_name": "Julia 1.8.5",
   "language": "julia",
   "name": "julia-1.8"
  },
  "language_info": {
   "file_extension": ".jl",
   "mimetype": "application/julia",
   "name": "julia",
   "version": "1.8.5"
  }
 },
 "nbformat": 4,
 "nbformat_minor": 5
}
