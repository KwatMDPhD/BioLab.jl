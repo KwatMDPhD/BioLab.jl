{
 "cells": [
  {
   "cell_type": "code",
   "execution_count": null,
   "id": "3f062018-a3df-40ca-a27a-05d34e64fe15",
   "metadata": {},
   "outputs": [],
   "source": [
    "using OnePiece"
   ]
  },
  {
   "cell_type": "code",
   "execution_count": null,
   "id": "7ba082b3-415d-4b63-87b8-d0490bb52677",
   "metadata": {},
   "outputs": [],
   "source": [
    "te = OnePiece.path.make_temporary(\"OnePiece.test.spider\")"
   ]
  },
  {
   "cell_type": "markdown",
   "id": "1f156376-fe5b-4321-a10d-ed1bee101b6d",
   "metadata": {},
   "source": [
    "## plot"
   ]
  },
  {
   "cell_type": "markdown",
   "id": "c02c8607-acad-4024-a9ac-99a565f38a53",
   "metadata": {},
   "source": [
    "## load!"
   ]
  },
  {
   "cell_type": "markdown",
   "id": "bac64a26-84f1-4142-9971-1e3388a7f337",
   "metadata": {},
   "source": [
    "## react!"
   ]
  },
  {
   "cell_type": "code",
   "execution_count": null,
   "id": "659559ed-e2fd-4e1c-8ef1-bec1aa495c77",
   "metadata": {},
   "outputs": [],
   "source": [
    "struct A end\n",
    "\n",
    "OnePiece.spider.plot()"
   ]
  },
  {
   "cell_type": "code",
   "execution_count": null,
   "id": "1ef36a96-fbeb-4f34-9119-98b1a6c886ed",
   "metadata": {},
   "outputs": [],
   "source": [
    "OnePiece.spider.load!()\n",
    "\n",
    "OnePiece.spider.plot()"
   ]
  },
  {
   "cell_type": "code",
   "execution_count": null,
   "id": "23217d54-cb87-4f55-ada1-5f5cf50e3641",
   "metadata": {},
   "outputs": [],
   "source": [
    "A >> A\n",
    "\n",
    "OnePiece.spider.plot()"
   ]
  },
  {
   "cell_type": "code",
   "execution_count": null,
   "id": "6395c095-1273-4b4b-9a56-28118a7660c5",
   "metadata": {},
   "outputs": [],
   "source": [
    "A << A\n",
    "\n",
    "OnePiece.spider.plot()"
   ]
  },
  {
   "cell_type": "code",
   "execution_count": null,
   "id": "802e1049-1b55-4440-92ac-8457f997b436",
   "metadata": {},
   "outputs": [],
   "source": [
    "struct B end\n",
    "\n",
    "struct C end\n",
    "\n",
    "OnePiece.spider.load!()\n",
    "\n",
    "OnePiece.spider.plot()"
   ]
  },
  {
   "cell_type": "code",
   "execution_count": null,
   "id": "51687764-f33b-4e3f-8e45-7ef9780fb203",
   "metadata": {},
   "outputs": [],
   "source": [
    "OnePiece.spider._make_element.(OnePiece.spider.VERTEX_)"
   ]
  },
  {
   "cell_type": "code",
   "execution_count": null,
   "id": "0e4aae08-e0ec-438e-998d-6587a16569b6",
   "metadata": {},
   "outputs": [],
   "source": [
    "abstract type Grand end\n",
    "\n",
    "abstract type Combine <: Grand end\n",
    "\n",
    "abstract type React end\n",
    "\n",
    "struct ABCStruct <: Combine\n",
    "\n",
    "    a::A\n",
    "\n",
    "    b::B\n",
    "\n",
    "    c::C\n",
    "\n",
    "end\n",
    "\n",
    "struct ABCReact <: React end\n",
    "\n",
    "OnePiece.spider.load!()\n",
    "\n",
    "[A, B, C] >> ABCReact\n",
    "\n",
    "si = 128\n",
    "\n",
    "st_ = [\n",
    "    Dict(\"selector\" => \"#A\", \"style\" => Dict(\"background-color\" => \"#20d9ba\")),\n",
    "    Dict(\"selector\" => \"#B\", \"style\" => Dict(\"background-color\" => \"#9017e6\")),\n",
    "    Dict(\"selector\" => \"#C\", \"style\" => Dict(\"background-color\" => \"#4e40d8\")),\n",
    "    Dict(\n",
    "        \"selector\" => \".Combine\",\n",
    "        \"style\" => Dict(\n",
    "            \"background-color\" => \"#ff1968\",\n",
    "            \"height\" => si * 1 / 2,\n",
    "            \"width\" => si * 1 / 2,\n",
    "        ),\n",
    "    ),\n",
    "    Dict(\n",
    "        \"selector\" => \".React\",\n",
    "        \"style\" => Dict(\n",
    "            \"background-color\" => \"#f3c13a\",\n",
    "            \"height\" => si * 1 / 2,\n",
    "            \"width\" => si * 1 / 2,\n",
    "        ),\n",
    "    ),\n",
    "    Dict(\n",
    "        \"selector\" => \".Grand\",\n",
    "        \"style\" => Dict(\"background-color\" => \"#ff1968\", \"height\" => si, \"width\" => si),\n",
    "    ),\n",
    "]\n",
    "\n",
    "OnePiece.spider.plot(st_ = st_)"
   ]
  },
  {
   "cell_type": "markdown",
   "id": "7cf216de-afc1-4e4f-b347-c5011b2c0d6c",
   "metadata": {},
   "source": [
    "## animate"
   ]
  },
  {
   "cell_type": "code",
   "execution_count": null,
   "id": "05b40276-036c-4a76-b2c1-6bd8b16cd936",
   "metadata": {},
   "outputs": [],
   "source": [
    "OnePiece.spider.animate(\n",
    "    [\n",
    "        [1, 0, 0, 0, 0, 0, 0, 0],\n",
    "        [2, 0, 0, 1, 0, 0, 0, 0],\n",
    "        [3, 0, 0, 2, 1, 0, 0, 0],\n",
    "        [4, 0, 0, 3, 2, 1, 1, 0],\n",
    "        [5, 1, 1, 4, 3, 2, 2, 1],\n",
    "    ],\n",
    "    mkpath(joinpath(te, \"animate\")),\n",
    "    pe = 1,\n",
    ")"
   ]
  },
  {
   "cell_type": "markdown",
   "id": "31580ab5-fa95-409f-a97b-0f90ec983146",
   "metadata": {},
   "source": [
    "## edge"
   ]
  },
  {
   "cell_type": "code",
   "execution_count": null,
   "id": "ffc2892e-2f94-40f8-80f0-d1a93000d5cc",
   "metadata": {},
   "outputs": [],
   "source": [
    "de_x_so_x_ed = OnePiece.spider.edge()"
   ]
  },
  {
   "cell_type": "markdown",
   "id": "20dce3d1-4c7a-4a31-a65b-b8638f4545c6",
   "metadata": {},
   "source": [
    "## heat"
   ]
  },
  {
   "cell_type": "code",
   "execution_count": null,
   "id": "277ee24b-27a6-4f5e-890a-ccc444b8e340",
   "metadata": {},
   "outputs": [],
   "source": [
    "st_ = [\"A\", \"b1\", \"b2\", \"C\"]\n",
    "\n",
    "ve_al_ = Dict(\"B\" => [\"b1\", \"b2\"])"
   ]
  },
  {
   "cell_type": "code",
   "execution_count": null,
   "id": "91df3eed-da3a-4d7c-adfe-93810985ad9b",
   "metadata": {},
   "outputs": [],
   "source": [
    "he_ = OnePiece.spider.heat(st_, [1.0, 2.0, 4.0, 0.0], ve_al_ = ve_al_)"
   ]
  },
  {
   "cell_type": "code",
   "execution_count": null,
   "id": "ceaa48f4-fee2-4345-aa0b-0b77efb7f757",
   "metadata": {},
   "outputs": [],
   "source": [
    "OnePiece.spider.plot(he_ = he_)"
   ]
  },
  {
   "cell_type": "code",
   "execution_count": null,
   "id": "92402113-822b-4697-98ea-0e1491124d0e",
   "metadata": {},
   "outputs": [],
   "source": [
    "ve_x_sa_x_he = OnePiece.spider.heat(\n",
    "    st_,\n",
    "    [\n",
    "        1.0 10.0\n",
    "        2.0 20.0\n",
    "        4.0 40.0\n",
    "        0.0  0.0\n",
    "    ],\n",
    "    ve_al_ = ve_al_,\n",
    ")"
   ]
  },
  {
   "cell_type": "code",
   "execution_count": null,
   "id": "b90f4679-b48d-4a2e-8e06-27087f4e0daa",
   "metadata": {},
   "outputs": [],
   "source": [
    "OnePiece.spider.plot(he_ = sum.(eachrow(ve_x_sa_x_he)))"
   ]
  },
  {
   "cell_type": "markdown",
   "id": "a8c39993-7a4f-43b0-885a-f04e02e2842d",
   "metadata": {},
   "source": [
    "## flow!"
   ]
  },
  {
   "cell_type": "code",
   "execution_count": null,
   "id": "ac58f18d-895f-465d-b6c1-e984a6dcbc1a",
   "metadata": {},
   "outputs": [],
   "source": [
    "he__ = OnePiece.spider.flow!(he_)[2]"
   ]
  },
  {
   "cell_type": "code",
   "execution_count": null,
   "id": "8d73eb05-96b1-4334-a780-3c330eeb7722",
   "metadata": {},
   "outputs": [],
   "source": [
    "OnePiece.spider.animate(he__, mkpath(joinpath(te, \"flow!\")), pe = 1 / 10)"
   ]
  },
  {
   "cell_type": "code",
   "execution_count": null,
   "id": "cc27a770-2406-4fd6-a651-a51afbbb51b1",
   "metadata": {},
   "outputs": [],
   "source": [
    "OnePiece.spider.flow!(ve_x_sa_x_he)"
   ]
  },
  {
   "cell_type": "code",
   "execution_count": null,
   "id": "8b38130f-79c7-4abc-9634-77ab5f99c991",
   "metadata": {},
   "outputs": [],
   "source": [
    "OnePiece.spider.plot(he_ = sum.(eachrow(ve_x_sa_x_he)))"
   ]
  },
  {
   "cell_type": "markdown",
   "id": "c3d04cd2-83b9-49f8-a8ab-a4713c81abf9",
   "metadata": {},
   "source": [
    "## reset!"
   ]
  },
  {
   "cell_type": "code",
   "execution_count": null,
   "id": "a3f176f7-0492-4288-81e1-f18f4fbfc178",
   "metadata": {},
   "outputs": [],
   "source": [
    "OnePiece.spider.reset!()\n",
    "\n",
    "println(OnePiece.spider.VERTEX_)\n",
    "\n",
    "println(OnePiece.spider.EDGE_)\n",
    "\n",
    "OnePiece.spider.plot()"
   ]
  }
 ],
 "metadata": {
  "kernelspec": {
   "display_name": "Julia 1.8.0",
   "language": "julia",
   "name": "julia-1.8"
  },
  "language_info": {
   "file_extension": ".jl",
   "mimetype": "application/julia",
   "name": "julia",
   "version": "1.8.0"
  }
 },
 "nbformat": 4,
 "nbformat_minor": 5
}
