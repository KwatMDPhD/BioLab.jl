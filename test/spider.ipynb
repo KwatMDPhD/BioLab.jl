{
 "cells": [
  {
   "cell_type": "code",
   "execution_count": null,
   "id": "3f062018-a3df-40ca-a27a-05d34e64fe15",
   "metadata": {
    "execution": {
     "iopub.execute_input": "2022-08-25T17:22:49.320000Z",
     "iopub.status.busy": "2022-08-25T17:22:48.823000Z",
     "iopub.status.idle": "2022-08-25T17:22:56.145000Z",
     "shell.execute_reply": "2022-08-25T17:22:56.103000Z"
    }
   },
   "outputs": [],
   "source": [
    "using OnePiece"
   ]
  },
  {
   "cell_type": "markdown",
   "id": "1f156376-fe5b-4321-a10d-ed1bee101b6d",
   "metadata": {},
   "source": [
    "## plot"
   ]
  },
  {
   "cell_type": "markdown",
   "id": "c02c8607-acad-4024-a9ac-99a565f38a53",
   "metadata": {},
   "source": [
    "## load!"
   ]
  },
  {
   "cell_type": "markdown",
   "id": "bac64a26-84f1-4142-9971-1e3388a7f337",
   "metadata": {},
   "source": [
    "## react!"
   ]
  },
  {
   "cell_type": "code",
   "execution_count": null,
   "id": "659559ed-e2fd-4e1c-8ef1-bec1aa495c77",
   "metadata": {
    "execution": {
     "iopub.execute_input": "2022-08-25T17:22:56.329000Z",
     "iopub.status.busy": "2022-08-25T17:22:56.148000Z",
     "iopub.status.idle": "2022-08-25T17:23:00.361000Z",
     "shell.execute_reply": "2022-08-25T17:23:00.361000Z"
    }
   },
   "outputs": [],
   "source": [
    "struct A end\n",
    "\n",
    "OnePiece.spider.plot()"
   ]
  },
  {
   "cell_type": "code",
   "execution_count": null,
   "id": "1ef36a96-fbeb-4f34-9119-98b1a6c886ed",
   "metadata": {
    "execution": {
     "iopub.execute_input": "2022-08-25T17:23:00.364000Z",
     "iopub.status.busy": "2022-08-25T17:23:00.364000Z",
     "iopub.status.idle": "2022-08-25T17:23:00.753000Z",
     "shell.execute_reply": "2022-08-25T17:23:00.752000Z"
    }
   },
   "outputs": [],
   "source": [
    "OnePiece.spider.load!()\n",
    "\n",
    "OnePiece.spider.plot()"
   ]
  },
  {
   "cell_type": "code",
   "execution_count": null,
   "id": "23217d54-cb87-4f55-ada1-5f5cf50e3641",
   "metadata": {
    "execution": {
     "iopub.execute_input": "2022-08-25T17:23:00.756000Z",
     "iopub.status.busy": "2022-08-25T17:23:00.756000Z",
     "iopub.status.idle": "2022-08-25T17:23:01.326000Z",
     "shell.execute_reply": "2022-08-25T17:23:01.325000Z"
    }
   },
   "outputs": [],
   "source": [
    "A >> A\n",
    "\n",
    "OnePiece.spider.plot()"
   ]
  },
  {
   "cell_type": "code",
   "execution_count": null,
   "id": "802e1049-1b55-4440-92ac-8457f997b436",
   "metadata": {
    "execution": {
     "iopub.execute_input": "2022-08-25T17:23:01.329000Z",
     "iopub.status.busy": "2022-08-25T17:23:01.329000Z",
     "iopub.status.idle": "2022-08-25T17:23:01.350000Z",
     "shell.execute_reply": "2022-08-25T17:23:01.349000Z"
    }
   },
   "outputs": [],
   "source": [
    "struct B end\n",
    "\n",
    "struct C end\n",
    "\n",
    "OnePiece.spider.load!()\n",
    "\n",
    "OnePiece.spider.plot()"
   ]
  },
  {
   "cell_type": "code",
   "execution_count": null,
   "id": "0e4aae08-e0ec-438e-998d-6587a16569b6",
   "metadata": {
    "execution": {
     "iopub.execute_input": "2022-08-25T17:23:01.352000Z",
     "iopub.status.busy": "2022-08-25T17:23:01.352000Z",
     "iopub.status.idle": "2022-08-25T17:23:01.728000Z",
     "shell.execute_reply": "2022-08-25T17:23:01.728000Z"
    }
   },
   "outputs": [],
   "source": [
    "struct ABCStruct\n",
    "\n",
    "    a::A\n",
    "\n",
    "    b::B\n",
    "\n",
    "    c::C\n",
    "\n",
    "end\n",
    "\n",
    "struct ABCReact end\n",
    "\n",
    "OnePiece.spider.load!()\n",
    "\n",
    "[A, B, C] >> ABCReact\n",
    "\n",
    "si = 64\n",
    "\n",
    "st_ = [\n",
    "    Dict(\"selector\" => \"#A\", \"style\" => Dict(\"background-color\" => \"#20d9ba\")),\n",
    "    Dict(\"selector\" => \"#B\", \"style\" => Dict(\"background-color\" => \"#9017e6\")),\n",
    "    Dict(\"selector\" => \"#C\", \"style\" => Dict(\"background-color\" => \"#4e40d8\")),\n",
    "    Dict(\n",
    "        \"selector\" => \"#ABCStruct\",\n",
    "        \"style\" => Dict(\"background-color\" => \"#ff1968\", \"height\" => si, \"width\" => si),\n",
    "    ),\n",
    "    Dict(\n",
    "        \"selector\" => \"#ABCReact\",\n",
    "        \"style\" => Dict(\"background-color\" => \"#f3c13a\", \"height\" => si, \"width\" => si),\n",
    "    ),\n",
    "]\n",
    "\n",
    "OnePiece.spider.plot(st_ = st_)"
   ]
  },
  {
   "cell_type": "markdown",
   "id": "31580ab5-fa95-409f-a97b-0f90ec983146",
   "metadata": {},
   "source": [
    "## make_edge_matrix"
   ]
  },
  {
   "cell_type": "code",
   "execution_count": null,
   "id": "ffc2892e-2f94-40f8-80f0-d1a93000d5cc",
   "metadata": {
    "execution": {
     "iopub.execute_input": "2022-08-25T17:23:01.733000Z",
     "iopub.status.busy": "2022-08-25T17:23:01.733000Z",
     "iopub.status.idle": "2022-08-25T17:23:03.034000Z",
     "shell.execute_reply": "2022-08-25T17:23:03.034000Z"
    }
   },
   "outputs": [],
   "source": [
    "de_x_so_x_ed = OnePiece.spider.make_edge_matrix()"
   ]
  },
  {
   "cell_type": "markdown",
   "id": "20dce3d1-4c7a-4a31-a65b-b8638f4545c6",
   "metadata": {},
   "source": [
    "## make_heat_vector"
   ]
  },
  {
   "cell_type": "code",
   "execution_count": null,
   "id": "91df3eed-da3a-4d7c-adfe-93810985ad9b",
   "metadata": {
    "execution": {
     "iopub.execute_input": "2022-08-25T17:23:03.037000Z",
     "iopub.status.busy": "2022-08-25T17:23:03.037000Z",
     "iopub.status.idle": "2022-08-25T17:23:03.695000Z",
     "shell.execute_reply": "2022-08-25T17:23:03.694000Z"
    }
   },
   "outputs": [],
   "source": [
    "he_ =\n",
    "    OnePiece.spider.make_heat_vector(Dict(\"A\" => 1.0, \"b\" => 2.0, \"C\" => 0.0), Dict(\"B\" => [\"b\"]))"
   ]
  },
  {
   "cell_type": "code",
   "execution_count": null,
   "id": "ceaa48f4-fee2-4345-aa0b-0b77efb7f757",
   "metadata": {
    "execution": {
     "iopub.execute_input": "2022-08-25T17:23:03.697000Z",
     "iopub.status.busy": "2022-08-25T17:23:03.697000Z",
     "iopub.status.idle": "2022-08-25T17:23:04.514000Z",
     "shell.execute_reply": "2022-08-25T17:23:04.514000Z"
    }
   },
   "outputs": [],
   "source": [
    "OnePiece.spider.plot(he_ = he_)"
   ]
  },
  {
   "cell_type": "markdown",
   "id": "a8c39993-7a4f-43b0-885a-f04e02e2842d",
   "metadata": {},
   "source": [
    "## flow!"
   ]
  },
  {
   "cell_type": "code",
   "execution_count": null,
   "id": "ac58f18d-895f-465d-b6c1-e984a6dcbc1a",
   "metadata": {
    "execution": {
     "iopub.execute_input": "2022-08-25T17:23:04.518000Z",
     "iopub.status.busy": "2022-08-25T17:23:04.518000Z",
     "iopub.status.idle": "2022-08-25T17:23:06.092000Z",
     "shell.execute_reply": "2022-08-25T17:23:06.091000Z"
    }
   },
   "outputs": [],
   "source": [
    "OnePiece.spider.flow!(de_x_so_x_ed, he_)"
   ]
  },
  {
   "cell_type": "code",
   "execution_count": null,
   "id": "8d73eb05-96b1-4334-a780-3c330eeb7722",
   "metadata": {
    "execution": {
     "iopub.execute_input": "2022-08-25T17:23:06.095000Z",
     "iopub.status.busy": "2022-08-25T17:23:06.094000Z",
     "iopub.status.idle": "2022-08-25T17:23:06.097000Z",
     "shell.execute_reply": "2022-08-25T17:23:06.097000Z"
    }
   },
   "outputs": [],
   "source": [
    "OnePiece.spider.plot(he_ = he_)"
   ]
  },
  {
   "cell_type": "code",
   "execution_count": null,
   "id": "b007e460-d0d0-4c40-8627-c97efc282a65",
   "metadata": {
    "execution": {
     "iopub.execute_input": "2022-08-25T17:23:06.100000Z",
     "iopub.status.busy": "2022-08-25T17:23:06.100000Z",
     "iopub.status.idle": "2022-08-25T17:23:06.478000Z",
     "shell.execute_reply": "2022-08-25T17:23:06.478000Z"
    }
   },
   "outputs": [],
   "source": [
    "_he_ = [he_, OnePiece.spider.make_heat_vector(Dict(\"A\" => 1.0, \"B\" => 2.0, \"C\" => 3.0), Dict())]\n",
    "\n",
    "OnePiece.spider.flow!(_he_)"
   ]
  },
  {
   "cell_type": "code",
   "execution_count": null,
   "id": "8b38130f-79c7-4abc-9634-77ab5f99c991",
   "metadata": {
    "execution": {
     "iopub.execute_input": "2022-08-25T17:23:06.481000Z",
     "iopub.status.busy": "2022-08-25T17:23:06.481000Z",
     "iopub.status.idle": "2022-08-25T17:23:06.486000Z",
     "shell.execute_reply": "2022-08-25T17:23:06.486000Z"
    }
   },
   "outputs": [],
   "source": [
    "OnePiece.spider.plot(he_ = _he_[2])"
   ]
  },
  {
   "cell_type": "markdown",
   "id": "c3d04cd2-83b9-49f8-a8ab-a4713c81abf9",
   "metadata": {},
   "source": [
    "## reset!"
   ]
  },
  {
   "cell_type": "code",
   "execution_count": null,
   "id": "a3f176f7-0492-4288-81e1-f18f4fbfc178",
   "metadata": {
    "execution": {
     "iopub.execute_input": "2022-08-25T17:23:06.489000Z",
     "iopub.status.busy": "2022-08-25T17:23:06.489000Z",
     "iopub.status.idle": "2022-08-25T17:23:06.911000Z",
     "shell.execute_reply": "2022-08-25T17:23:06.911000Z"
    }
   },
   "outputs": [],
   "source": [
    "OnePiece.spider.reset!()\n",
    "\n",
    "println(OnePiece.spider.VERTEX_)\n",
    "\n",
    "println(OnePiece.spider.EDGE_)\n",
    "\n",
    "OnePiece.spider.plot()"
   ]
  }
 ],
 "metadata": {
  "kernelspec": {
   "display_name": "Julia 1.8.0",
   "language": "julia",
   "name": "julia-1.8"
  },
  "language_info": {
   "file_extension": ".jl",
   "mimetype": "application/julia",
   "name": "julia",
   "version": "1.8.0"
  }
 },
 "nbformat": 4,
 "nbformat_minor": 5
}
