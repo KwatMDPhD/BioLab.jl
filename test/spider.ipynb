{
 "cells": [
  {
   "cell_type": "code",
   "execution_count": null,
   "id": "3f062018-a3df-40ca-a27a-05d34e64fe15",
   "metadata": {},
   "outputs": [],
   "source": [
    "using Colors\n",
    "\n",
    "using DataFrames\n",
    "\n",
    "using LinearAlgebra\n",
    "\n",
    "using OnePiece"
   ]
  },
  {
   "cell_type": "code",
   "execution_count": null,
   "id": "4697c334-3bc1-42e6-aa6d-e98527c84c2b",
   "metadata": {},
   "outputs": [],
   "source": [
    "struct A end\n",
    "\n",
    "OnePiece.spider.load()\n",
    "\n",
    "OnePiece.spider.plot()"
   ]
  },
  {
   "cell_type": "code",
   "execution_count": null,
   "id": "23217d54-cb87-4f55-ada1-5f5cf50e3641",
   "metadata": {},
   "outputs": [],
   "source": [
    "A >> A\n",
    "\n",
    "OnePiece.spider.plot()"
   ]
  },
  {
   "cell_type": "code",
   "execution_count": null,
   "id": "802e1049-1b55-4440-92ac-8457f997b436",
   "metadata": {},
   "outputs": [],
   "source": [
    "struct B end\n",
    "\n",
    "OnePiece.spider.load()\n",
    "\n",
    "OnePiece.spider.plot()"
   ]
  },
  {
   "cell_type": "code",
   "execution_count": null,
   "id": "b240e310-adf3-4220-90f0-d3308594a19a",
   "metadata": {},
   "outputs": [],
   "source": [
    "struct C end\n",
    "\n",
    "OnePiece.spider.load()\n",
    "\n",
    "OnePiece.spider.plot()"
   ]
  },
  {
   "cell_type": "code",
   "execution_count": null,
   "id": "f35b47c3-8a1f-4e5c-a76c-563d8da4e5d7",
   "metadata": {},
   "outputs": [],
   "source": [
    "struct ABC\n",
    "\n",
    "    a::A\n",
    "\n",
    "    b::B\n",
    "\n",
    "    c::C\n",
    "\n",
    "end\n",
    "\n",
    "OnePiece.spider.load()\n",
    "\n",
    "OnePiece.spider.plot()"
   ]
  },
  {
   "cell_type": "code",
   "execution_count": null,
   "id": "35f264b4-c096-47cc-a3f7-bc9263f4673c",
   "metadata": {},
   "outputs": [],
   "source": [
    "si = 48\n",
    "\n",
    "st_ = [\n",
    "    Dict(\n",
    "        \"selector\" => \"#ABC\",\n",
    "        \"style\" => Dict(\"background-color\" => \"#ff1968\", \"height\" => si, \"width\" => si),\n",
    "    ),\n",
    "    Dict(\"selector\" => \"#A\", \"style\" => Dict(\"background-color\" => \"#20d9ba\")),\n",
    "    Dict(\"selector\" => \"#C\", \"style\" => Dict(\"background-color\" => \"#9017e6\")),\n",
    "    Dict(\"selector\" => \"#B\", \"style\" => Dict(\"background-color\" => \"#4e40d8\")),\n",
    "]\n",
    "\n",
    "OnePiece.spider.plot(st_ = st_)"
   ]
  },
  {
   "cell_type": "code",
   "execution_count": null,
   "id": "935a0043-9d08-4291-a326-8d3d36ade6eb",
   "metadata": {},
   "outputs": [],
   "source": [
    "ve_sc = Dict(\"A\" => 0.2, \"B\" => 0.4, \"C\" => 0.8)"
   ]
  },
  {
   "cell_type": "code",
   "execution_count": null,
   "id": "8e25872b-a985-43c6-95a9-5281f3b3eeb5",
   "metadata": {},
   "outputs": [],
   "source": [
    "n_co = 1000\n",
    "\n",
    "co_ = Colors.colormap(\"Reds\", n_co)\n",
    "\n",
    "st_ = [\n",
    "    Dict(\n",
    "        \"selector\" => \"#$ve\",\n",
    "        \"style\" => Dict(\"background-color\" => \"#$(hex(co_[ceil(Int, sc * n_co)]))\"),\n",
    "    ) for (ve, sc) in ve_sc\n",
    "]\n",
    "\n",
    "push!(st_, Dict(\"selector\" => \".ed\", \"style\" => Dict(\"background-color\" => \"#8db255\")))\n",
    "\n",
    "OnePiece.spider.plot(st_ = st_)"
   ]
  },
  {
   "cell_type": "markdown",
   "id": "9b8c61eb-e979-43db-a97c-a98b038f7082",
   "metadata": {},
   "source": [
    "## Matrix"
   ]
  },
  {
   "cell_type": "code",
   "execution_count": null,
   "id": "8621c276-11ee-47a9-9154-6ec2b5cf0a0b",
   "metadata": {},
   "outputs": [],
   "source": [
    "ve_id = Dict(string(ve) => id for (id, ve) in enumerate(OnePiece.spider.VE_))"
   ]
  },
  {
   "cell_type": "code",
   "execution_count": null,
   "id": "87b5af99-b05c-4a64-b2cc-21826e8dad3d",
   "metadata": {},
   "outputs": [],
   "source": [
    "n_ve = length(OnePiece.spider.VE_)\n",
    "\n",
    "ve_x_ve_x_ed = fill(0, n_ve, n_ve)"
   ]
  },
  {
   "cell_type": "code",
   "execution_count": null,
   "id": "cffea4e5-28f9-40ac-89e7-cada8b947f4a",
   "metadata": {},
   "outputs": [],
   "source": [
    "function make_data_frame(ve_x_ve_x_ed)\n",
    "\n",
    "    co_ = string.(OnePiece.spider.VE_)\n",
    "\n",
    "    insertcols!(DataFrame(ve_x_ve_x_ed, co_), 1, \"Vertex\" => co_)\n",
    "\n",
    "end"
   ]
  },
  {
   "cell_type": "code",
   "execution_count": null,
   "id": "4eb2e2f2-2ce4-4541-8219-179c50950ca5",
   "metadata": {},
   "outputs": [],
   "source": [
    "for (ve1, ve2) in OnePiece.spider.ED_\n",
    "\n",
    "    id1 = ve_id[string(ve1)]\n",
    "\n",
    "    id2 = ve_id[string(ve2)]\n",
    "\n",
    "    ve_x_ve_x_ed[id1, id2] = 1\n",
    "\n",
    "end\n",
    "\n",
    "make_data_frame(ve_x_ve_x_ed)"
   ]
  },
  {
   "cell_type": "code",
   "execution_count": null,
   "id": "b6b6f0cc-bb61-4b5e-953e-9a728a1beefe",
   "metadata": {},
   "outputs": [],
   "source": [
    "ve_x_ve_x_sc = fill(0.0, n_ve, n_ve)\n",
    "\n",
    "for (ve, sc) in Dict(ve_sc..., \"ABC\" => 0.0)\n",
    "\n",
    "    id = ve_id[ve]\n",
    "\n",
    "    ve_x_ve_x_sc[id, id] = 1.0 + sc\n",
    "\n",
    "end\n",
    "\n",
    "make_data_frame(ve_x_ve_x_sc)"
   ]
  },
  {
   "cell_type": "code",
   "execution_count": null,
   "id": "bcb70d52-b92e-4821-b98b-9ead7f30a7dc",
   "metadata": {},
   "outputs": [],
   "source": [
    "ve_x_ve_x_up = ve_x_ve_x_ed * ve_x_ve_x_sc\n",
    "\n",
    "up_ = sum(eachcol(ve_x_ve_x_up))\n",
    "\n",
    "ve_x_ve_x_sc += I(n_ve) .* up_\n",
    "\n",
    "make_data_frame(ve_x_ve_x_sc)"
   ]
  }
 ],
 "metadata": {
  "kernelspec": {
   "display_name": "Julia 1.7.3",
   "language": "julia",
   "name": "julia-1.7"
  },
  "language_info": {
   "file_extension": ".jl",
   "mimetype": "application/julia",
   "name": "julia",
   "version": "1.7.3"
  }
 },
 "nbformat": 4,
 "nbformat_minor": 5
}
