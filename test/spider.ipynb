{
 "cells": [
  {
   "cell_type": "code",
   "execution_count": null,
   "id": "d4e7905f-e055-4201-827b-c343548a080b",
   "metadata": {},
   "outputs": [],
   "source": [
    "using Revise"
   ]
  },
  {
   "cell_type": "code",
   "execution_count": null,
   "id": "3f062018-a3df-40ca-a27a-05d34e64fe15",
   "metadata": {},
   "outputs": [],
   "source": [
    "using DataFrames\n",
    "\n",
    "using LinearAlgebra\n",
    "\n",
    "using NMF\n",
    "\n",
    "using OnePiece"
   ]
  },
  {
   "cell_type": "code",
   "execution_count": null,
   "id": "47d3f6fb-b9d4-4a39-bb10-4fd92f8b64ad",
   "metadata": {},
   "outputs": [],
   "source": [
    "OnePiece.spider.plot()"
   ]
  },
  {
   "cell_type": "code",
   "execution_count": null,
   "id": "659559ed-e2fd-4e1c-8ef1-bec1aa495c77",
   "metadata": {},
   "outputs": [],
   "source": [
    "struct A end\n",
    "\n",
    "OnePiece.spider.plot()"
   ]
  },
  {
   "cell_type": "code",
   "execution_count": null,
   "id": "1ef36a96-fbeb-4f34-9119-98b1a6c886ed",
   "metadata": {},
   "outputs": [],
   "source": [
    "OnePiece.spider.load()\n",
    "\n",
    "OnePiece.spider.plot()"
   ]
  },
  {
   "cell_type": "code",
   "execution_count": null,
   "id": "23217d54-cb87-4f55-ada1-5f5cf50e3641",
   "metadata": {},
   "outputs": [],
   "source": [
    "A >> A\n",
    "\n",
    "OnePiece.spider.plot()"
   ]
  },
  {
   "cell_type": "code",
   "execution_count": null,
   "id": "802e1049-1b55-4440-92ac-8457f997b436",
   "metadata": {},
   "outputs": [],
   "source": [
    "struct B end\n",
    "\n",
    "struct C end\n",
    "\n",
    "OnePiece.spider.load()\n",
    "\n",
    "OnePiece.spider.plot()"
   ]
  },
  {
   "cell_type": "code",
   "execution_count": null,
   "id": "f35b47c3-8a1f-4e5c-a76c-563d8da4e5d7",
   "metadata": {},
   "outputs": [],
   "source": [
    "struct ABC\n",
    "\n",
    "    a::A\n",
    "\n",
    "    b::B\n",
    "\n",
    "    c::C\n",
    "\n",
    "end\n",
    "\n",
    "OnePiece.spider.load()\n",
    "\n",
    "OnePiece.spider.plot()"
   ]
  },
  {
   "cell_type": "code",
   "execution_count": null,
   "id": "cf4ec3c9-6017-4e3b-bae6-f8732d975801",
   "metadata": {},
   "outputs": [],
   "source": [
    "struct D end\n",
    "\n",
    "struct E end\n",
    "\n",
    "struct F end\n",
    "\n",
    "OnePiece.spider.load()\n",
    "\n",
    "[D, E] >> F\n",
    "\n",
    "si = 64\n",
    "\n",
    "st_ = [\n",
    "    Dict(\n",
    "        \"selector\" => \"#ABC\",\n",
    "        \"style\" => Dict(\"background-color\" => \"#ff1968\", \"height\" => si, \"width\" => si),\n",
    "    ),\n",
    "    Dict(\"selector\" => \"#A\", \"style\" => Dict(\"background-color\" => \"#20d9ba\")),\n",
    "    Dict(\"selector\" => \"#C\", \"style\" => Dict(\"background-color\" => \"#9017e6\")),\n",
    "    Dict(\"selector\" => \"#B\", \"style\" => Dict(\"background-color\" => \"#4e40d8\")),\n",
    "]\n",
    "\n",
    "OnePiece.spider.plot(st_ = st_)"
   ]
  },
  {
   "cell_type": "markdown",
   "id": "1471af3f-978d-4e39-82d7-efcc50497cd4",
   "metadata": {},
   "source": [
    "## Heat"
   ]
  },
  {
   "cell_type": "code",
   "execution_count": null,
   "id": "39a5cf52-8565-46a0-8642-b8d303738802",
   "metadata": {},
   "outputs": [],
   "source": [
    "ve_ = string.(OnePiece.spider.VERTEX_)"
   ]
  },
  {
   "cell_type": "code",
   "execution_count": null,
   "id": "8aaee6dc-70cc-452a-b705-ffb51e13d759",
   "metadata": {},
   "outputs": [],
   "source": [
    "al_st = Dict(\"b\" => \"B\")"
   ]
  },
  {
   "cell_type": "code",
   "execution_count": null,
   "id": "3529d32e-95fb-4811-94da-6a0ba2f492d4",
   "metadata": {},
   "outputs": [],
   "source": [
    "sc_ = []\n",
    "\n",
    "for (ve, he) in [\"A\" => 1.0, \"b\" => 2.0, \"C\" => 4.0, \"D\" => 8.0, \"E\" => 0.0, \"F\" => 0.0]\n",
    "\n",
    "    if !(ve in ve_)\n",
    "\n",
    "        print(\"$ve =(alias)=> \")\n",
    "\n",
    "        ve = al_st[ve]\n",
    "\n",
    "        println(ve)\n",
    "\n",
    "    end\n",
    "\n",
    "    push!(sc_, ve => he)\n",
    "\n",
    "end\n",
    "\n",
    "sc_"
   ]
  },
  {
   "cell_type": "code",
   "execution_count": null,
   "id": "99c775df-414a-45e0-a1ec-9ff921cde571",
   "metadata": {},
   "outputs": [],
   "source": [
    "OnePiece.spider.plot(sc_ = sc_)"
   ]
  },
  {
   "cell_type": "markdown",
   "id": "9b8c61eb-e979-43db-a97c-a98b038f7082",
   "metadata": {},
   "source": [
    "## Matrix"
   ]
  },
  {
   "cell_type": "code",
   "execution_count": null,
   "id": "8621c276-11ee-47a9-9154-6ec2b5cf0a0b",
   "metadata": {},
   "outputs": [],
   "source": [
    "ve_id = Dict(ve => id for (id, ve) in enumerate(ve_))"
   ]
  },
  {
   "cell_type": "code",
   "execution_count": null,
   "id": "e35cff1a-67f7-4166-be81-eea3c20741d0",
   "metadata": {},
   "outputs": [],
   "source": [
    "function print_data_frame(ve_x_ve_x_nu, co_)\n",
    "\n",
    "    ve_x_ve_x_st = fill(\"\", size(ve_x_ve_x_nu))\n",
    "\n",
    "    for ro in 1:size(ve_x_ve_x_nu, 1), co in 1:size(ve_x_ve_x_nu, 1)\n",
    "\n",
    "        nu = ve_x_ve_x_nu[ro, co]\n",
    "\n",
    "        if nu != 0\n",
    "\n",
    "            ve_x_ve_x_st[ro, co] = \"$nu\"\n",
    "\n",
    "        end\n",
    "\n",
    "    end\n",
    "\n",
    "    insertcols!(DataFrame(ve_x_ve_x_st, co_), 1, \"Vertex\" => co_)\n",
    "\n",
    "end"
   ]
  },
  {
   "cell_type": "code",
   "execution_count": null,
   "id": "13b30ec1-9210-4d69-9030-52a1cb9747af",
   "metadata": {},
   "outputs": [],
   "source": [
    "n_ve = length(ve_)"
   ]
  },
  {
   "cell_type": "code",
   "execution_count": null,
   "id": "d5e2c6fd-7468-43de-a553-573653a356c6",
   "metadata": {},
   "outputs": [],
   "source": [
    "ve_x_ve_x_ed = fill(0, n_ve, n_ve)\n",
    "\n",
    "for (ve1, ve2) in OnePiece.spider.EDGE_\n",
    "\n",
    "    ve_x_ve_x_ed[ve_id[string(ve2)], ve_id[string(ve1)]] = 1\n",
    "\n",
    "end\n",
    "\n",
    "print_data_frame(ve_x_ve_x_ed, ve_)"
   ]
  },
  {
   "cell_type": "markdown",
   "id": "67d04440-4209-4ad2-8d42-8e6e8ac45968",
   "metadata": {},
   "source": [
    "## Initialize"
   ]
  },
  {
   "cell_type": "code",
   "execution_count": null,
   "id": "4f038582-cc1a-4162-9d97-cbfb9df7a8f7",
   "metadata": {},
   "outputs": [],
   "source": [
    "he_ = fill(0.0, n_ve)\n",
    "\n",
    "for (ve, sc) in sc_\n",
    "\n",
    "    he_[ve_id[ve]] = sc\n",
    "\n",
    "end\n",
    "\n",
    "[ve => he for (ve, he) in zip(ve_, he_)]"
   ]
  },
  {
   "cell_type": "markdown",
   "id": "19a82e45-b314-4817-bebd-2a7053239a08",
   "metadata": {},
   "source": [
    "## Update"
   ]
  },
  {
   "cell_type": "code",
   "execution_count": null,
   "id": "3d3b5dde-395d-4b98-b73b-dafe67d114d6",
   "metadata": {},
   "outputs": [],
   "source": [
    "ve_x_ve_x_up = ve_x_ve_x_ed * Diagonal(he_)\n",
    "\n",
    "ne_ = []\n",
    "\n",
    "for (ve, ed_, up_) in zip(ve_, eachrow(ve_x_ve_x_ed), eachrow(ve_x_ve_x_up))\n",
    "\n",
    "    if sum(ed_) == 0\n",
    "\n",
    "        ne = 0\n",
    "\n",
    "    else\n",
    "\n",
    "        ne = prod(up_[convert(BitVector, ed_)])\n",
    "\n",
    "    end\n",
    "\n",
    "    push!(ne_, ne)\n",
    "\n",
    "end\n",
    "\n",
    "insertcols!(print_data_frame(ve_x_ve_x_up, ve_), \"New\" => ne_)"
   ]
  },
  {
   "cell_type": "code",
   "execution_count": null,
   "id": "9b7a9118-87f6-46c8-8b00-9ddce604c529",
   "metadata": {},
   "outputs": [],
   "source": [
    "he_ += ne_\n",
    "\n",
    "sc_ = [ve => he for (ve, he) in zip(ve_, he_)]"
   ]
  },
  {
   "cell_type": "code",
   "execution_count": null,
   "id": "0beaaa72-fa18-4eff-a56d-5f574c23cf9c",
   "metadata": {},
   "outputs": [],
   "source": [
    "OnePiece.spider.plot(sc_ = sc_)"
   ]
  },
  {
   "cell_type": "markdown",
   "id": "c6b47824-16e7-48e1-9cc5-cea3dbcf71d9",
   "metadata": {},
   "source": [
    "## Find pattern"
   ]
  },
  {
   "cell_type": "code",
   "execution_count": null,
   "id": "e09d1dee-bb15-4f33-b79f-8f5eeb8c43b1",
   "metadata": {},
   "outputs": [],
   "source": [
    "n_fa = 2\n",
    "\n",
    "mf = nnmf(float.(ve_x_ve_x_up), n_fa)\n",
    "\n",
    "mf.niters, mf.converged"
   ]
  },
  {
   "cell_type": "code",
   "execution_count": null,
   "id": "a011fbf8-f15e-4df4-81cb-b9e67a00a5f9",
   "metadata": {},
   "outputs": [],
   "source": [
    "fa_ = [\"Factor $id\" for id in 1:n_fa]\n",
    "\n",
    "sh = 480\n",
    "\n",
    "lo = sh * MathConstants.golden"
   ]
  },
  {
   "cell_type": "code",
   "execution_count": null,
   "id": "cb5f534b-58a2-4758-a744-1efbe93009fe",
   "metadata": {},
   "outputs": [],
   "source": [
    "OnePiece.figure.plot_heat_map(\n",
    "    mf.W,\n",
    "    ve_,\n",
    "    fa_,\n",
    "    layout = Dict(\"height\" => lo, \"width\" => sh, \"title\" => Dict(\"text\" => \"W\")),\n",
    ")"
   ]
  },
  {
   "cell_type": "code",
   "execution_count": null,
   "id": "9cb8f925-1869-4ef5-b6a6-92dcd2121fe4",
   "metadata": {},
   "outputs": [],
   "source": [
    "OnePiece.figure.plot_heat_map(\n",
    "    mf.H,\n",
    "    fa_,\n",
    "    ve_,\n",
    "    layout = Dict(\"height\" => sh, \"width\" => lo, \"title\" => Dict(\"text\" => \"H\")),\n",
    ")"
   ]
  }
 ],
 "metadata": {
  "kernelspec": {
   "display_name": "Julia 1.7.3",
   "language": "julia",
   "name": "julia-1.7"
  },
  "language_info": {
   "file_extension": ".jl",
   "mimetype": "application/julia",
   "name": "julia",
   "version": "1.7.3"
  }
 },
 "nbformat": 4,
 "nbformat_minor": 5
}
