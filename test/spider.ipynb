{
 "cells": [
  {
   "cell_type": "code",
   "execution_count": null,
   "id": "3f062018-a3df-40ca-a27a-05d34e64fe15",
   "metadata": {},
   "outputs": [],
   "source": [
    "using DataFrames\n",
    "\n",
    "using OnePiece"
   ]
  },
  {
   "cell_type": "markdown",
   "id": "9c59bf81-c184-4f4a-9080-d53441c4a5b3",
   "metadata": {},
   "source": [
    "## load"
   ]
  },
  {
   "cell_type": "markdown",
   "id": "6a5ef90f-7c2e-4a52-bba3-92618ed0517e",
   "metadata": {},
   "source": [
    "## plot"
   ]
  },
  {
   "cell_type": "code",
   "execution_count": null,
   "id": "47d3f6fb-b9d4-4a39-bb10-4fd92f8b64ad",
   "metadata": {},
   "outputs": [],
   "source": [
    "OnePiece.spider.plot()"
   ]
  },
  {
   "cell_type": "code",
   "execution_count": null,
   "id": "659559ed-e2fd-4e1c-8ef1-bec1aa495c77",
   "metadata": {},
   "outputs": [],
   "source": [
    "struct A end\n",
    "\n",
    "OnePiece.spider.plot()"
   ]
  },
  {
   "cell_type": "code",
   "execution_count": null,
   "id": "1ef36a96-fbeb-4f34-9119-98b1a6c886ed",
   "metadata": {},
   "outputs": [],
   "source": [
    "OnePiece.spider.load()\n",
    "\n",
    "OnePiece.spider.plot()"
   ]
  },
  {
   "cell_type": "code",
   "execution_count": null,
   "id": "23217d54-cb87-4f55-ada1-5f5cf50e3641",
   "metadata": {},
   "outputs": [],
   "source": [
    "A >> A\n",
    "\n",
    "OnePiece.spider.plot()"
   ]
  },
  {
   "cell_type": "code",
   "execution_count": null,
   "id": "802e1049-1b55-4440-92ac-8457f997b436",
   "metadata": {},
   "outputs": [],
   "source": [
    "struct B end\n",
    "\n",
    "struct C end\n",
    "\n",
    "OnePiece.spider.load()\n",
    "\n",
    "OnePiece.spider.plot()"
   ]
  },
  {
   "cell_type": "code",
   "execution_count": null,
   "id": "f35b47c3-8a1f-4e5c-a76c-563d8da4e5d7",
   "metadata": {},
   "outputs": [],
   "source": [
    "struct ABC\n",
    "\n",
    "    a::A\n",
    "\n",
    "    b::B\n",
    "\n",
    "    c::C\n",
    "\n",
    "end\n",
    "\n",
    "OnePiece.spider.load()\n",
    "\n",
    "OnePiece.spider.plot()"
   ]
  },
  {
   "cell_type": "code",
   "execution_count": null,
   "id": "d3563833-edee-40d1-95db-142bad9297b5",
   "metadata": {},
   "outputs": [],
   "source": [
    "struct D end\n",
    "\n",
    "struct E end\n",
    "\n",
    "struct F end\n",
    "\n",
    "OnePiece.spider.load()\n",
    "\n",
    "[D, E] >> F\n",
    "\n",
    "si = 64\n",
    "\n",
    "st_ = [\n",
    "    Dict(\n",
    "        \"selector\" => \"#ABC\",\n",
    "        \"style\" => Dict(\"background-color\" => \"#ff1968\", \"height\" => si, \"width\" => si),\n",
    "    ),\n",
    "    Dict(\"selector\" => \"#A\", \"style\" => Dict(\"background-color\" => \"#20d9ba\")),\n",
    "    Dict(\"selector\" => \"#C\", \"style\" => Dict(\"background-color\" => \"#9017e6\")),\n",
    "    Dict(\"selector\" => \"#B\", \"style\" => Dict(\"background-color\" => \"#4e40d8\")),\n",
    "]\n",
    "\n",
    "OnePiece.spider.plot(st_ = st_)"
   ]
  },
  {
   "cell_type": "markdown",
   "id": "20dce3d1-4c7a-4a31-a65b-b8638f4545c6",
   "metadata": {},
   "source": [
    "## heat"
   ]
  },
  {
   "cell_type": "code",
   "execution_count": null,
   "id": "9dfbf58a-14a4-4229-afaa-f6e4971d69eb",
   "metadata": {},
   "outputs": [],
   "source": [
    "OnePiece.spider.heat(\n",
    "    [\"A\" => 1.0, \"b\" => 2.0, \"C\" => 4.0, \"D\" => 8.0, \"E\" => 0.0, \"F\" => 0.0],\n",
    "    Dict(\"b\" => \"B\"),\n",
    ")"
   ]
  },
  {
   "cell_type": "code",
   "execution_count": null,
   "id": "0987dc06-db0b-43db-a115-c8abb3c5adab",
   "metadata": {},
   "outputs": [],
   "source": [
    "OnePiece.spider.plot()"
   ]
  },
  {
   "cell_type": "markdown",
   "id": "beca0e60-b673-42ac-9652-d42f17a6bd97",
   "metadata": {},
   "source": [
    "## edge"
   ]
  },
  {
   "cell_type": "code",
   "execution_count": null,
   "id": "ffc2892e-2f94-40f8-80f0-d1a93000d5cc",
   "metadata": {},
   "outputs": [],
   "source": [
    "ve_x_ve_x_ed = OnePiece.spider.edge()\n",
    "\n",
    "OnePiece.spider.highlight(ve_x_ve_x_ed)"
   ]
  },
  {
   "cell_type": "markdown",
   "id": "a8c39993-7a4f-43b0-885a-f04e02e2842d",
   "metadata": {},
   "source": [
    "## flow"
   ]
  },
  {
   "cell_type": "code",
   "execution_count": null,
   "id": "876629ee-a292-4980-97e2-1f194ca45ddb",
   "metadata": {},
   "outputs": [],
   "source": [
    "for id in 1:10\n",
    "\n",
    "    OnePiece.spider.flow()\n",
    "\n",
    "    display(OnePiece.spider.plot())\n",
    "\n",
    "end"
   ]
  },
  {
   "cell_type": "markdown",
   "id": "c6b47824-16e7-48e1-9cc5-cea3dbcf71d9",
   "metadata": {},
   "source": [
    "## Factorize"
   ]
  },
  {
   "cell_type": "code",
   "execution_count": null,
   "id": "317cbfd6-f7c5-496b-b86f-8c1309b0eb4e",
   "metadata": {},
   "outputs": [],
   "source": [
    "ve_ = string.(OnePiece.spider.VERTEX_)\n",
    "\n",
    "OnePiece.matrix_factorization.factorize(float.(ve_x_ve_x_fl), 2, ve_, ve_)"
   ]
  }
 ],
 "metadata": {
  "kernelspec": {
   "display_name": "Julia 1.7.3",
   "language": "julia",
   "name": "julia-1.7"
  },
  "language_info": {
   "file_extension": ".jl",
   "mimetype": "application/julia",
   "name": "julia",
   "version": "1.7.3"
  }
 },
 "nbformat": 4,
 "nbformat_minor": 5
}
