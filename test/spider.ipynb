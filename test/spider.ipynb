{
 "cells": [
  {
   "cell_type": "code",
   "execution_count": null,
   "id": "3f062018-a3df-40ca-a27a-05d34e64fe15",
   "metadata": {},
   "outputs": [],
   "source": [
    "using OnePiece"
   ]
  },
  {
   "cell_type": "markdown",
   "id": "9c59bf81-c184-4f4a-9080-d53441c4a5b3",
   "metadata": {},
   "source": [
    "## load"
   ]
  },
  {
   "cell_type": "markdown",
   "id": "dbea1d35-48e3-498a-b445-32e2bd4c0a9c",
   "metadata": {},
   "source": [
    "## react"
   ]
  },
  {
   "cell_type": "markdown",
   "id": "6a5ef90f-7c2e-4a52-bba3-92618ed0517e",
   "metadata": {},
   "source": [
    "## plot"
   ]
  },
  {
   "cell_type": "code",
   "execution_count": null,
   "id": "47d3f6fb-b9d4-4a39-bb10-4fd92f8b64ad",
   "metadata": {},
   "outputs": [],
   "source": [
    "OnePiece.spider.plot()"
   ]
  },
  {
   "cell_type": "code",
   "execution_count": null,
   "id": "659559ed-e2fd-4e1c-8ef1-bec1aa495c77",
   "metadata": {},
   "outputs": [],
   "source": [
    "struct A end\n",
    "\n",
    "OnePiece.spider.plot()"
   ]
  },
  {
   "cell_type": "code",
   "execution_count": null,
   "id": "1ef36a96-fbeb-4f34-9119-98b1a6c886ed",
   "metadata": {},
   "outputs": [],
   "source": [
    "OnePiece.spider.load()\n",
    "\n",
    "OnePiece.spider.plot()"
   ]
  },
  {
   "cell_type": "code",
   "execution_count": null,
   "id": "23217d54-cb87-4f55-ada1-5f5cf50e3641",
   "metadata": {},
   "outputs": [],
   "source": [
    "A >> A\n",
    "\n",
    "OnePiece.spider.plot()"
   ]
  },
  {
   "cell_type": "code",
   "execution_count": null,
   "id": "802e1049-1b55-4440-92ac-8457f997b436",
   "metadata": {},
   "outputs": [],
   "source": [
    "struct B end\n",
    "\n",
    "struct C end\n",
    "\n",
    "OnePiece.spider.load()\n",
    "\n",
    "OnePiece.spider.plot()"
   ]
  },
  {
   "cell_type": "code",
   "execution_count": null,
   "id": "0e4aae08-e0ec-438e-998d-6587a16569b6",
   "metadata": {},
   "outputs": [],
   "source": [
    "struct ABCStruct\n",
    "\n",
    "    a::A\n",
    "\n",
    "    b::B\n",
    "\n",
    "    c::C\n",
    "\n",
    "end\n",
    "\n",
    "struct ABCReact end\n",
    "\n",
    "OnePiece.spider.load()\n",
    "\n",
    "[A, B, C] >> ABCReact\n",
    "\n",
    "si = 64\n",
    "\n",
    "st_ = [\n",
    "    Dict(\"selector\" => \"#A\", \"style\" => Dict(\"background-color\" => \"#20d9ba\")),\n",
    "    Dict(\"selector\" => \"#B\", \"style\" => Dict(\"background-color\" => \"#9017e6\")),\n",
    "    Dict(\"selector\" => \"#C\", \"style\" => Dict(\"background-color\" => \"#4e40d8\")),\n",
    "    Dict(\n",
    "        \"selector\" => \"#ABCStruct\",\n",
    "        \"style\" => Dict(\"background-color\" => \"#ff1968\", \"height\" => si, \"width\" => si),\n",
    "    ),\n",
    "    Dict(\n",
    "        \"selector\" => \"#ABCReact\",\n",
    "        \"style\" => Dict(\"background-color\" => \"#ff1968\", \"height\" => si, \"width\" => si),\n",
    "    ),\n",
    "]\n",
    "\n",
    "OnePiece.spider.plot(st_ = st_)"
   ]
  },
  {
   "cell_type": "markdown",
   "id": "31580ab5-fa95-409f-a97b-0f90ec983146",
   "metadata": {},
   "source": [
    "## edge"
   ]
  },
  {
   "cell_type": "code",
   "execution_count": null,
   "id": "ffc2892e-2f94-40f8-80f0-d1a93000d5cc",
   "metadata": {},
   "outputs": [],
   "source": [
    "ve_x_ve_x_ed = OnePiece.spider.edge()"
   ]
  },
  {
   "cell_type": "markdown",
   "id": "20dce3d1-4c7a-4a31-a65b-b8638f4545c6",
   "metadata": {},
   "source": [
    "## heat"
   ]
  },
  {
   "cell_type": "code",
   "execution_count": null,
   "id": "2ecc02e0-b5af-4687-983d-f09733e31203",
   "metadata": {},
   "outputs": [],
   "source": [
    "OnePiece.spider.heat(Dict(\"A\" => 1.0, \"b\" => 2.0, \"C\" => 0.0), Dict(\"B\" => [\"b\"]))\n",
    "\n",
    "OnePiece.spider.plot()"
   ]
  },
  {
   "cell_type": "markdown",
   "id": "a8c39993-7a4f-43b0-885a-f04e02e2842d",
   "metadata": {},
   "source": [
    "## flow"
   ]
  },
  {
   "cell_type": "code",
   "execution_count": null,
   "id": "876629ee-a292-4980-97e2-1f194ca45ddb",
   "metadata": {},
   "outputs": [],
   "source": [
    "OnePiece.spider.flow()"
   ]
  },
  {
   "cell_type": "markdown",
   "id": "c3d04cd2-83b9-49f8-a8ab-a4713c81abf9",
   "metadata": {},
   "source": [
    "## reset!"
   ]
  },
  {
   "cell_type": "code",
   "execution_count": null,
   "id": "8c19ff3a-bb2e-4a2c-8ef7-5ab3db2bb0ca",
   "metadata": {},
   "outputs": [],
   "source": [
    "OnePiece.spider.plot()"
   ]
  }
 ],
 "metadata": {
  "kernelspec": {
   "display_name": "Julia 1.7.3",
   "language": "julia",
   "name": "julia-1.7"
  },
  "language_info": {
   "file_extension": ".jl",
   "mimetype": "application/julia",
   "name": "julia",
   "version": "1.7.3"
  }
 },
 "nbformat": 4,
 "nbformat_minor": 5
}
