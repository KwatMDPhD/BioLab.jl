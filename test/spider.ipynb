{
 "cells": [
  {
   "cell_type": "code",
   "execution_count": 1,
   "id": "ba92a4b5",
   "metadata": {
    "execution": {
     "iopub.execute_input": "2022-08-10T10:55:12.810000Z",
     "iopub.status.busy": "2022-08-10T10:55:12.480000Z",
     "iopub.status.idle": "2022-08-10T10:55:18.430000Z",
     "shell.execute_reply": "2022-08-10T10:55:18.264000Z"
    }
   },
   "outputs": [],
   "source": [
    "using OnePiece\n",
    "\n",
    "using Colors"
   ]
  },
  {
   "cell_type": "code",
   "execution_count": 2,
   "id": "cebaf0ba",
   "metadata": {
    "execution": {
     "iopub.execute_input": "2022-08-10T10:55:18.853000Z",
     "iopub.status.busy": "2022-08-10T10:55:18.433000Z",
     "iopub.status.idle": "2022-08-10T10:55:19.651000Z",
     "shell.execute_reply": "2022-08-10T10:55:19.651000Z"
    }
   },
   "outputs": [
    {
     "data": {
      "text/plain": [
       "\"spider.data\""
      ]
     },
     "execution_count": 2,
     "metadata": {},
     "output_type": "execute_result"
    }
   ],
   "source": [
    "da = \"spider.data\""
   ]
  },
  {
   "cell_type": "code",
   "execution_count": 3,
   "id": "3bcd4bf3",
   "metadata": {
    "execution": {
     "iopub.execute_input": "2022-08-10T10:55:19.655000Z",
     "iopub.status.busy": "2022-08-10T10:55:19.655000Z",
     "iopub.status.idle": "2022-08-10T10:55:20.442000Z",
     "shell.execute_reply": "2022-08-10T10:55:20.442000Z"
    }
   },
   "outputs": [
    {
     "data": {
      "text/plain": [
       "D"
      ]
     },
     "execution_count": 3,
     "metadata": {},
     "output_type": "execute_result"
    }
   ],
   "source": [
    "include(joinpath(da, \"letter.jl\"))"
   ]
  },
  {
   "cell_type": "markdown",
   "id": "8e0e4927",
   "metadata": {},
   "source": [
    "## plot"
   ]
  },
  {
   "cell_type": "code",
   "execution_count": 4,
   "id": "2d314eee",
   "metadata": {
    "execution": {
     "iopub.execute_input": "2022-08-10T10:55:20.446000Z",
     "iopub.status.busy": "2022-08-10T10:55:20.446000Z",
     "iopub.status.idle": "2022-08-10T10:55:23.829000Z",
     "shell.execute_reply": "2022-08-10T10:55:23.829000Z"
    }
   },
   "outputs": [
    {
     "name": "stdout",
     "output_type": "stream",
     "text": [
      "Made /var/folders/mg/30npdf0s1z36txb2qvgylrzh0000gn/T/OnePiece/2022-8-10_10.55.23.697.html.\n"
     ]
    },
    {
     "data": {
      "text/plain": [
       "\"/var/folders/mg/30npdf0s1z36txb2qvgylrzh0000gn/T/OnePiece/2022-8-10_10.55.23.697.html\""
      ]
     },
     "execution_count": 4,
     "metadata": {},
     "output_type": "execute_result"
    }
   ],
   "source": [
    "OnePiece.spider.plot()"
   ]
  },
  {
   "cell_type": "markdown",
   "id": "96777655",
   "metadata": {},
   "source": [
    "## field"
   ]
  },
  {
   "cell_type": "code",
   "execution_count": 5,
   "id": "dc4c5b13",
   "metadata": {
    "execution": {
     "iopub.execute_input": "2022-08-10T10:55:23.834000Z",
     "iopub.status.busy": "2022-08-10T10:55:23.834000Z",
     "iopub.status.idle": "2022-08-10T10:55:24.224000Z",
     "shell.execute_reply": "2022-08-10T10:55:24.224000Z"
    }
   },
   "outputs": [
    {
     "name": "stdout",
     "output_type": "stream",
     "text": [
      "Made /var/folders/mg/30npdf0s1z36txb2qvgylrzh0000gn/T/OnePiece/2022-8-10_10.55.24.21.html.\n"
     ]
    },
    {
     "data": {
      "text/plain": [
       "\"/var/folders/mg/30npdf0s1z36txb2qvgylrzh0000gn/T/OnePiece/2022-8-10_10.55.24.21.html\""
      ]
     },
     "execution_count": 5,
     "metadata": {},
     "output_type": "execute_result"
    }
   ],
   "source": [
    "OnePiece.spider.field()\n",
    "\n",
    "OnePiece.spider.plot()"
   ]
  },
  {
   "cell_type": "markdown",
   "id": "fc36a6d2",
   "metadata": {},
   "source": [
    "## style"
   ]
  },
  {
   "cell_type": "code",
   "execution_count": 6,
   "id": "1fcd7405",
   "metadata": {
    "execution": {
     "iopub.execute_input": "2022-08-10T10:55:24.229000Z",
     "iopub.status.busy": "2022-08-10T10:55:24.228000Z",
     "iopub.status.idle": "2022-08-10T10:55:24.422000Z",
     "shell.execute_reply": "2022-08-10T10:55:24.422000Z"
    }
   },
   "outputs": [
    {
     "name": "stdout",
     "output_type": "stream",
     "text": [
      "Made /var/folders/mg/30npdf0s1z36txb2qvgylrzh0000gn/T/OnePiece/2022-8-10_10.55.24.405.html.\n"
     ]
    },
    {
     "data": {
      "text/plain": [
       "\"/var/folders/mg/30npdf0s1z36txb2qvgylrzh0000gn/T/OnePiece/2022-8-10_10.55.24.405.html\""
      ]
     },
     "execution_count": 6,
     "metadata": {},
     "output_type": "execute_result"
    }
   ],
   "source": [
    "si = 48\n",
    "\n",
    "st_ = [\n",
    "    Dict(\n",
    "        \"selector\" => \"#D\",\n",
    "        \"style\" => Dict(\"background-color\" => \"#20d9ba\", \"height\" => si, \"width\" => si),\n",
    "    ),\n",
    "    Dict(\"selector\" => \"#C\", \"style\" => Dict(\"background-color\" => \"#9017e6\")),\n",
    "    Dict(\"selector\" => \"#B\", \"style\" => Dict(\"background-color\" => \"#4e40d8\")),\n",
    "]\n",
    "\n",
    "OnePiece.spider.plot(st_ = st_)"
   ]
  },
  {
   "cell_type": "markdown",
   "id": "1e136120",
   "metadata": {},
   "source": [
    "## score"
   ]
  },
  {
   "cell_type": "code",
   "execution_count": 7,
   "id": "19cc6fc9",
   "metadata": {
    "execution": {
     "iopub.execute_input": "2022-08-10T10:55:24.428000Z",
     "iopub.status.busy": "2022-08-10T10:55:24.427000Z",
     "iopub.status.idle": "2022-08-10T10:55:25.653000Z",
     "shell.execute_reply": "2022-08-10T10:55:25.653000Z"
    }
   },
   "outputs": [
    {
     "name": "stdout",
     "output_type": "stream",
     "text": [
      "Made /var/folders/mg/30npdf0s1z36txb2qvgylrzh0000gn/T/OnePiece/2022-8-10_10.55.25.635.html.\n"
     ]
    },
    {
     "data": {
      "text/plain": [
       "\"/var/folders/mg/30npdf0s1z36txb2qvgylrzh0000gn/T/OnePiece/2022-8-10_10.55.25.635.html\""
      ]
     },
     "execution_count": 7,
     "metadata": {},
     "output_type": "execute_result"
    }
   ],
   "source": [
    "st_ = [Dict(\"selector\" => \".ed\", \"style\" => Dict(\"background-color\" => \"#8db255\"))]\n",
    "\n",
    "da_ = [ve for ve in OnePiece.spider.VE_ if ve isa DataType]\n",
    "\n",
    "co_ = Colors.colormap(\"Reds\", length(da_))\n",
    "\n",
    "for (id, ve) in enumerate(da_)\n",
    "\n",
    "    push!(\n",
    "        st_,\n",
    "        Dict(\"selector\" => \"#$ve\", \"style\" => Dict(\"background-color\" => \"#$(hex(co_[id]))\")),\n",
    "    )\n",
    "\n",
    "end\n",
    "\n",
    "OnePiece.spider.plot(st_ = st_)"
   ]
  },
  {
   "cell_type": "markdown",
   "id": "ae286a5b",
   "metadata": {},
   "source": [
    "## reset"
   ]
  },
  {
   "cell_type": "code",
   "execution_count": 8,
   "id": "fb8b9f33",
   "metadata": {
    "execution": {
     "iopub.execute_input": "2022-08-10T10:55:25.659000Z",
     "iopub.status.busy": "2022-08-10T10:55:25.659000Z",
     "iopub.status.idle": "2022-08-10T10:55:25.796000Z",
     "shell.execute_reply": "2022-08-10T10:55:25.796000Z"
    }
   },
   "outputs": [
    {
     "name": "stdout",
     "output_type": "stream",
     "text": [
      "Made /var/folders/mg/30npdf0s1z36txb2qvgylrzh0000gn/T/OnePiece/2022-8-10_10.55.25.78.html.\n"
     ]
    },
    {
     "data": {
      "text/plain": [
       "\"/var/folders/mg/30npdf0s1z36txb2qvgylrzh0000gn/T/OnePiece/2022-8-10_10.55.25.78.html\""
      ]
     },
     "execution_count": 8,
     "metadata": {},
     "output_type": "execute_result"
    }
   ],
   "source": [
    "OnePiece.spider.reset()\n",
    "\n",
    "OnePiece.spider.plot()"
   ]
  },
  {
   "cell_type": "markdown",
   "id": "5e0ebb26",
   "metadata": {},
   "source": [
    "## example"
   ]
  },
  {
   "cell_type": "code",
   "execution_count": 9,
   "id": "0ef2d2e7",
   "metadata": {
    "execution": {
     "iopub.execute_input": "2022-08-10T10:55:25.803000Z",
     "iopub.status.busy": "2022-08-10T10:55:25.802000Z",
     "iopub.status.idle": "2022-08-10T10:55:26.320000Z",
     "shell.execute_reply": "2022-08-10T10:55:26.319000Z"
    }
   },
   "outputs": [
    {
     "name": "stdout",
     "output_type": "stream",
     "text": [
      "Made /var/folders/mg/30npdf0s1z36txb2qvgylrzh0000gn/T/OnePiece/2022-8-10_10.55.26.304.html.\n"
     ]
    },
    {
     "data": {
      "text/plain": [
       "\"/var/folders/mg/30npdf0s1z36txb2qvgylrzh0000gn/T/OnePiece/2022-8-10_10.55.26.304.html\""
      ]
     },
     "execution_count": 9,
     "metadata": {},
     "output_type": "execute_result"
    }
   ],
   "source": [
    "include(joinpath(da, \"example.jl\"))\n",
    "\n",
    "OnePiece.spider.plot()"
   ]
  }
 ],
 "metadata": {
  "@webio": {
   "lastCommId": null,
   "lastKernelId": null
  },
  "kernelspec": {
   "display_name": "Julia 1.7.3",
   "language": "julia",
   "name": "julia-1.7"
  },
  "language_info": {
   "file_extension": ".jl",
   "mimetype": "application/julia",
   "name": "julia",
   "version": "1.7.3"
  }
 },
 "nbformat": 4,
 "nbformat_minor": 5
}
