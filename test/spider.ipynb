{
 "cells": [
  {
   "cell_type": "code",
   "execution_count": null,
   "id": "ba92a4b5",
   "metadata": {},
   "outputs": [],
   "source": [
    "using OnePiece\n",
    "\n",
    "using Colors"
   ]
  },
  {
   "cell_type": "code",
   "execution_count": null,
   "id": "3bcd4bf3",
   "metadata": {},
   "outputs": [],
   "source": [
    "include(\"spider.jl\")"
   ]
  },
  {
   "cell_type": "markdown",
   "id": "8e0e4927",
   "metadata": {},
   "source": [
    "## plot"
   ]
  },
  {
   "cell_type": "code",
   "execution_count": null,
   "id": "2d314eee",
   "metadata": {},
   "outputs": [],
   "source": [
    "OnePiece.spider.plot()"
   ]
  },
  {
   "cell_type": "markdown",
   "id": "96777655",
   "metadata": {},
   "source": [
    "## field"
   ]
  },
  {
   "cell_type": "code",
   "execution_count": null,
   "id": "dc4c5b13",
   "metadata": {},
   "outputs": [],
   "source": [
    "OnePiece.spider.field()\n",
    "\n",
    "OnePiece.spider.plot()"
   ]
  },
  {
   "cell_type": "markdown",
   "id": "fc36a6d2",
   "metadata": {},
   "source": [
    "## style"
   ]
  },
  {
   "cell_type": "code",
   "execution_count": null,
   "id": "1fcd7405",
   "metadata": {},
   "outputs": [],
   "source": [
    "si = 48\n",
    "\n",
    "st_ = [\n",
    "    Dict(\n",
    "        \"selector\" => \"#D\",\n",
    "        \"style\" => Dict(\"background-color\" => \"#20d9ba\", \"height\" => si, \"width\" => si),\n",
    "    ),\n",
    "    Dict(\"selector\" => \"#C\", \"style\" => Dict(\"background-color\" => \"#9017e6\")),\n",
    "    Dict(\"selector\" => \"#B\", \"style\" => Dict(\"background-color\" => \"#4e40d8\")),\n",
    "]\n",
    "\n",
    "OnePiece.spider.plot(st_ = st_)"
   ]
  },
  {
   "cell_type": "markdown",
   "id": "1e136120",
   "metadata": {},
   "source": [
    "## score"
   ]
  },
  {
   "cell_type": "code",
   "execution_count": null,
   "id": "19cc6fc9",
   "metadata": {},
   "outputs": [],
   "source": [
    "st_ = [Dict(\"selector\" => \".ed\", \"style\" => Dict(\"background-color\" => \"#8db255\"))]\n",
    "\n",
    "da_ = [ve for ve in OnePiece.spider.VE_ if ve isa DataType]\n",
    "\n",
    "co_ = Colors.colormap(\"Reds\", length(da_))\n",
    "\n",
    "for (id, ve) in enumerate(da_)\n",
    "\n",
    "    push!(\n",
    "        st_,\n",
    "        Dict(\"selector\" => \"#$ve\", \"style\" => Dict(\"background-color\" => \"#$(hex(co_[id]))\")),\n",
    "    )\n",
    "\n",
    "end\n",
    "\n",
    "OnePiece.spider.plot(st_ = st_)"
   ]
  },
  {
   "cell_type": "markdown",
   "id": "ae286a5b",
   "metadata": {},
   "source": [
    "## reset"
   ]
  },
  {
   "cell_type": "code",
   "execution_count": null,
   "id": "fb8b9f33",
   "metadata": {},
   "outputs": [],
   "source": [
    "OnePiece.spider.reset()\n",
    "\n",
    "OnePiece.spider.plot()"
   ]
  }
 ],
 "metadata": {
  "@webio": {
   "lastCommId": null,
   "lastKernelId": null
  },
  "kernelspec": {
   "display_name": "Julia 1.7.3",
   "language": "julia",
   "name": "julia-1.7"
  },
  "language_info": {
   "file_extension": ".jl",
   "mimetype": "application/julia",
   "name": "julia",
   "version": "1.7.3"
  }
 },
 "nbformat": 4,
 "nbformat_minor": 5
}
