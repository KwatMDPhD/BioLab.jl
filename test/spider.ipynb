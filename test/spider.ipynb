{
 "cells": [
  {
   "cell_type": "code",
   "execution_count": null,
   "id": "d4e7905f-e055-4201-827b-c343548a080b",
   "metadata": {},
   "outputs": [],
   "source": [
    "using Revise"
   ]
  },
  {
   "cell_type": "code",
   "execution_count": null,
   "id": "3f062018-a3df-40ca-a27a-05d34e64fe15",
   "metadata": {},
   "outputs": [],
   "source": [
    "using DataFrames\n",
    "\n",
    "using OnePiece"
   ]
  },
  {
   "cell_type": "code",
   "execution_count": null,
   "id": "47d3f6fb-b9d4-4a39-bb10-4fd92f8b64ad",
   "metadata": {},
   "outputs": [],
   "source": [
    "OnePiece.spider.plot()"
   ]
  },
  {
   "cell_type": "code",
   "execution_count": null,
   "id": "659559ed-e2fd-4e1c-8ef1-bec1aa495c77",
   "metadata": {},
   "outputs": [],
   "source": [
    "struct A end\n",
    "\n",
    "OnePiece.spider.plot()"
   ]
  },
  {
   "cell_type": "code",
   "execution_count": null,
   "id": "1ef36a96-fbeb-4f34-9119-98b1a6c886ed",
   "metadata": {},
   "outputs": [],
   "source": [
    "OnePiece.spider.load()\n",
    "\n",
    "OnePiece.spider.plot()"
   ]
  },
  {
   "cell_type": "code",
   "execution_count": null,
   "id": "23217d54-cb87-4f55-ada1-5f5cf50e3641",
   "metadata": {},
   "outputs": [],
   "source": [
    "A >> A\n",
    "\n",
    "OnePiece.spider.plot()"
   ]
  },
  {
   "cell_type": "code",
   "execution_count": null,
   "id": "802e1049-1b55-4440-92ac-8457f997b436",
   "metadata": {},
   "outputs": [],
   "source": [
    "struct B end\n",
    "\n",
    "struct C end\n",
    "\n",
    "OnePiece.spider.load()\n",
    "\n",
    "OnePiece.spider.plot()"
   ]
  },
  {
   "cell_type": "code",
   "execution_count": null,
   "id": "f35b47c3-8a1f-4e5c-a76c-563d8da4e5d7",
   "metadata": {},
   "outputs": [],
   "source": [
    "struct ABC\n",
    "\n",
    "    a::A\n",
    "\n",
    "    b::B\n",
    "\n",
    "    c::C\n",
    "\n",
    "end\n",
    "\n",
    "OnePiece.spider.load()\n",
    "\n",
    "OnePiece.spider.plot()"
   ]
  },
  {
   "cell_type": "code",
   "execution_count": null,
   "id": "cf4ec3c9-6017-4e3b-bae6-f8732d975801",
   "metadata": {},
   "outputs": [],
   "source": [
    "struct D end\n",
    "\n",
    "struct E end\n",
    "\n",
    "OnePiece.spider.load()\n",
    "\n",
    "[ABC, D] >> E\n",
    "\n",
    "si = 64\n",
    "\n",
    "st_ = [\n",
    "    Dict(\n",
    "        \"selector\" => \"#ABC\",\n",
    "        \"style\" => Dict(\"background-color\" => \"#ff1968\", \"height\" => si, \"width\" => si),\n",
    "    ),\n",
    "    Dict(\"selector\" => \"#A\", \"style\" => Dict(\"background-color\" => \"#20d9ba\")),\n",
    "    Dict(\"selector\" => \"#C\", \"style\" => Dict(\"background-color\" => \"#9017e6\")),\n",
    "    Dict(\"selector\" => \"#B\", \"style\" => Dict(\"background-color\" => \"#4e40d8\")),\n",
    "]\n",
    "\n",
    "OnePiece.spider.plot(st_ = st_)"
   ]
  },
  {
   "cell_type": "markdown",
   "id": "1471af3f-978d-4e39-82d7-efcc50497cd4",
   "metadata": {},
   "source": [
    "## Heat"
   ]
  },
  {
   "cell_type": "code",
   "execution_count": null,
   "id": "bbea7cae-9556-4338-8df7-f50df3623a0a",
   "metadata": {},
   "outputs": [],
   "source": [
    "ve_he = Dict(\"A\" => 1.0, \"B\" => 2.0, \"C\" => 4.0, \"D\" => 8.0, \"E\" => 0.0)"
   ]
  },
  {
   "cell_type": "code",
   "execution_count": null,
   "id": "99c775df-414a-45e0-a1ec-9ff921cde571",
   "metadata": {},
   "outputs": [],
   "source": [
    "OnePiece.spider.plot(ve_sc = ve_he)"
   ]
  },
  {
   "cell_type": "markdown",
   "id": "9b8c61eb-e979-43db-a97c-a98b038f7082",
   "metadata": {},
   "source": [
    "## Matrix"
   ]
  },
  {
   "cell_type": "code",
   "execution_count": null,
   "id": "8621c276-11ee-47a9-9154-6ec2b5cf0a0b",
   "metadata": {},
   "outputs": [],
   "source": [
    "n_ve = length(OnePiece.spider.VE_)\n",
    "\n",
    "ve_id = Dict(string(ve) => id for (id, ve) in enumerate(OnePiece.spider.VE_))\n",
    "\n",
    ";"
   ]
  },
  {
   "cell_type": "code",
   "execution_count": null,
   "id": "cffea4e5-28f9-40ac-89e7-cada8b947f4a",
   "metadata": {},
   "outputs": [],
   "source": [
    "function make_data_frame(ve_x_ve_x_nu)\n",
    "\n",
    "    co_ = string.(OnePiece.spider.VE_)\n",
    "\n",
    "    da = DataFrame(ve_x_ve_x_nu, co_)\n",
    "\n",
    "    insertcols!(da, 1, \"Vertex\" => co_)\n",
    "\n",
    "end"
   ]
  },
  {
   "cell_type": "code",
   "execution_count": null,
   "id": "76271fb4-e5d7-470c-bb88-7e7922ff92c8",
   "metadata": {},
   "outputs": [],
   "source": [
    "ve_x_ve_x_ed = fill(0, n_ve, n_ve)\n",
    "\n",
    "for (ve1, ve2) in OnePiece.spider.ED_\n",
    "\n",
    "    id1 = ve_id[string(ve1)]\n",
    "\n",
    "    id2 = ve_id[string(ve2)]\n",
    "\n",
    "    ve_x_ve_x_ed[id2, id1] = 1\n",
    "\n",
    "end\n",
    "\n",
    "make_data_frame(ve_x_ve_x_ed)"
   ]
  },
  {
   "cell_type": "code",
   "execution_count": null,
   "id": "081c5732-b8cb-4480-bbd5-173bdd18b99f",
   "metadata": {},
   "outputs": [],
   "source": [
    "ve_x_ve_x_he = fill(0.0, n_ve, n_ve)\n",
    "\n",
    "for (ve, he) in Dict(ve_he..., \"ABC\" => 0.0)\n",
    "\n",
    "    id = ve_id[ve]\n",
    "\n",
    "    ve_x_ve_x_he[id, id] = 1.0 + he\n",
    "\n",
    "end\n",
    "\n",
    "make_data_frame(ve_x_ve_x_he)"
   ]
  },
  {
   "cell_type": "code",
   "execution_count": null,
   "id": "3d3b5dde-395d-4b98-b73b-dafe67d114d6",
   "metadata": {},
   "outputs": [],
   "source": [
    "ve_x_ve_x_up = ve_x_ve_x_ed * ve_x_ve_x_he\n",
    "\n",
    "#\n",
    "up_ = sum(eachcol(ve_x_ve_x_up))\n",
    "\n",
    "insertcols!(make_data_frame(ve_x_ve_x_up), \"Sum\" => up_)"
   ]
  },
  {
   "cell_type": "code",
   "execution_count": null,
   "id": "e90c6fc6-9e5e-4a5c-938b-151f94f8d020",
   "metadata": {},
   "outputs": [],
   "source": [
    "ve_x_ve_x_he += I(n_ve) .* up_\n",
    "\n",
    "make_data_frame(ve_x_ve_x_he)"
   ]
  }
 ],
 "metadata": {
  "kernelspec": {
   "display_name": "Julia 1.7.3",
   "language": "julia",
   "name": "julia-1.7"
  },
  "language_info": {
   "file_extension": ".jl",
   "mimetype": "application/julia",
   "name": "julia",
   "version": "1.7.3"
  }
 },
 "nbformat": 4,
 "nbformat_minor": 5
}
