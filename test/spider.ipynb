{
 "cells": [
  {
   "cell_type": "code",
   "execution_count": null,
   "id": "c8b31d5d-3bac-4d69-a2cc-fa92aee36fc4",
   "metadata": {},
   "outputs": [],
   "source": [
    "using Revise"
   ]
  },
  {
   "cell_type": "code",
   "execution_count": null,
   "id": "3f062018-a3df-40ca-a27a-05d34e64fe15",
   "metadata": {},
   "outputs": [],
   "source": [
    "using OnePiece"
   ]
  },
  {
   "cell_type": "markdown",
   "id": "1f156376-fe5b-4321-a10d-ed1bee101b6d",
   "metadata": {},
   "source": [
    "## plot"
   ]
  },
  {
   "cell_type": "markdown",
   "id": "c02c8607-acad-4024-a9ac-99a565f38a53",
   "metadata": {},
   "source": [
    "## load!"
   ]
  },
  {
   "cell_type": "markdown",
   "id": "bac64a26-84f1-4142-9971-1e3388a7f337",
   "metadata": {},
   "source": [
    "## react!"
   ]
  },
  {
   "cell_type": "code",
   "execution_count": null,
   "id": "659559ed-e2fd-4e1c-8ef1-bec1aa495c77",
   "metadata": {},
   "outputs": [],
   "source": [
    "struct A end\n",
    "\n",
    "OnePiece.spider.plot()"
   ]
  },
  {
   "cell_type": "code",
   "execution_count": null,
   "id": "1ef36a96-fbeb-4f34-9119-98b1a6c886ed",
   "metadata": {},
   "outputs": [],
   "source": [
    "OnePiece.spider.load!()\n",
    "\n",
    "OnePiece.spider.plot()"
   ]
  },
  {
   "cell_type": "code",
   "execution_count": null,
   "id": "23217d54-cb87-4f55-ada1-5f5cf50e3641",
   "metadata": {},
   "outputs": [],
   "source": [
    "A >> A\n",
    "\n",
    "OnePiece.spider.plot()"
   ]
  },
  {
   "cell_type": "code",
   "execution_count": null,
   "id": "802e1049-1b55-4440-92ac-8457f997b436",
   "metadata": {},
   "outputs": [],
   "source": [
    "struct B end\n",
    "\n",
    "struct C end\n",
    "\n",
    "OnePiece.spider.load!()\n",
    "\n",
    "OnePiece.spider.plot()"
   ]
  },
  {
   "cell_type": "code",
   "execution_count": null,
   "id": "0e4aae08-e0ec-438e-998d-6587a16569b6",
   "metadata": {},
   "outputs": [],
   "source": [
    "struct ABCStruct\n",
    "\n",
    "    a::A\n",
    "\n",
    "    b::B\n",
    "\n",
    "    c::C\n",
    "\n",
    "end\n",
    "\n",
    "struct ABCReact end\n",
    "\n",
    "OnePiece.spider.load!()\n",
    "\n",
    "[A, B, C] >> ABCReact\n",
    "\n",
    "si = 64\n",
    "\n",
    "st_ = [\n",
    "    Dict(\"selector\" => \"#A\", \"style\" => Dict(\"background-color\" => \"#20d9ba\")),\n",
    "    Dict(\"selector\" => \"#B\", \"style\" => Dict(\"background-color\" => \"#9017e6\")),\n",
    "    Dict(\"selector\" => \"#C\", \"style\" => Dict(\"background-color\" => \"#4e40d8\")),\n",
    "    Dict(\n",
    "        \"selector\" => \"#ABCStruct\",\n",
    "        \"style\" => Dict(\"background-color\" => \"#ff1968\", \"height\" => si, \"width\" => si),\n",
    "    ),\n",
    "    Dict(\n",
    "        \"selector\" => \"#ABCReact\",\n",
    "        \"style\" => Dict(\"background-color\" => \"#f3c13a\", \"height\" => si, \"width\" => si),\n",
    "    ),\n",
    "]\n",
    "\n",
    "OnePiece.spider.plot(st_ = st_)"
   ]
  },
  {
   "cell_type": "markdown",
   "id": "31580ab5-fa95-409f-a97b-0f90ec983146",
   "metadata": {},
   "source": [
    "## make_edge_matrix"
   ]
  },
  {
   "cell_type": "code",
   "execution_count": null,
   "id": "ffc2892e-2f94-40f8-80f0-d1a93000d5cc",
   "metadata": {},
   "outputs": [],
   "source": [
    "de_x_so_x_ed = OnePiece.spider.make_edge_matrix()"
   ]
  },
  {
   "cell_type": "markdown",
   "id": "20dce3d1-4c7a-4a31-a65b-b8638f4545c6",
   "metadata": {},
   "source": [
    "## heat"
   ]
  },
  {
   "cell_type": "code",
   "execution_count": null,
   "id": "277ee24b-27a6-4f5e-890a-ccc444b8e340",
   "metadata": {},
   "outputs": [],
   "source": [
    "ve_al_ = Dict(\"B\" => [\"b1\", \"b2\"])"
   ]
  },
  {
   "cell_type": "code",
   "execution_count": null,
   "id": "91df3eed-da3a-4d7c-adfe-93810985ad9b",
   "metadata": {},
   "outputs": [],
   "source": [
    "he_ = OnePiece.spider.heat(Dict(\"A\" => 1.0, \"b1\" => 2.0, \"b2\" => 4.0, \"C\" => 0.0), ve_al_)"
   ]
  },
  {
   "cell_type": "code",
   "execution_count": null,
   "id": "ceaa48f4-fee2-4345-aa0b-0b77efb7f757",
   "metadata": {},
   "outputs": [],
   "source": [
    "OnePiece.spider.plot(he_ = he_)"
   ]
  },
  {
   "cell_type": "code",
   "execution_count": null,
   "id": "fbfa66fd-a558-4946-b9bf-43f9aaf53a70",
   "metadata": {},
   "outputs": [],
   "source": [
    "ve_x_sa_x_he = OnePiece.spider.heat(\n",
    "    Dict(\"A\" => [1.0, 10.0], \"b1\" => [2.0, 20.0], \"b2\" => [4.0, 40.0], \"C\" => [0.0, 0.0]),\n",
    "    ve_al_,\n",
    ")"
   ]
  },
  {
   "cell_type": "code",
   "execution_count": null,
   "id": "b90f4679-b48d-4a2e-8e06-27087f4e0daa",
   "metadata": {},
   "outputs": [],
   "source": [
    "OnePiece.spider.plot(he_ = sum.(eachrow(ve_x_sa_x_he)))"
   ]
  },
  {
   "cell_type": "markdown",
   "id": "a8c39993-7a4f-43b0-885a-f04e02e2842d",
   "metadata": {},
   "source": [
    "## flow!"
   ]
  },
  {
   "cell_type": "code",
   "execution_count": null,
   "id": "ac58f18d-895f-465d-b6c1-e984a6dcbc1a",
   "metadata": {},
   "outputs": [],
   "source": [
    "OnePiece.spider.flow!(de_x_so_x_ed, he_)"
   ]
  },
  {
   "cell_type": "code",
   "execution_count": null,
   "id": "8d73eb05-96b1-4334-a780-3c330eeb7722",
   "metadata": {},
   "outputs": [],
   "source": [
    "OnePiece.spider.plot(he_ = he_)"
   ]
  },
  {
   "cell_type": "code",
   "execution_count": null,
   "id": "04ea9606-1739-4099-9e2b-cfd10bcaf053",
   "metadata": {},
   "outputs": [],
   "source": [
    "_he_ = [he_, OnePiece.spider.heat(Dict(\"A\" => 1.0, \"B\" => 2.0, \"C\" => 3.0), Dict())]"
   ]
  },
  {
   "cell_type": "code",
   "execution_count": null,
   "id": "cc27a770-2406-4fd6-a651-a51afbbb51b1",
   "metadata": {},
   "outputs": [],
   "source": [
    "OnePiece.spider.flow!(_he_)"
   ]
  },
  {
   "cell_type": "code",
   "execution_count": null,
   "id": "8b38130f-79c7-4abc-9634-77ab5f99c991",
   "metadata": {},
   "outputs": [],
   "source": [
    "OnePiece.spider.plot(he_ = _he_[2])"
   ]
  },
  {
   "cell_type": "markdown",
   "id": "c3d04cd2-83b9-49f8-a8ab-a4713c81abf9",
   "metadata": {},
   "source": [
    "## reset!"
   ]
  },
  {
   "cell_type": "code",
   "execution_count": null,
   "id": "a3f176f7-0492-4288-81e1-f18f4fbfc178",
   "metadata": {},
   "outputs": [],
   "source": [
    "OnePiece.spider.reset!()\n",
    "\n",
    "println(OnePiece.spider.VERTEX_)\n",
    "\n",
    "println(OnePiece.spider.EDGE_)\n",
    "\n",
    "OnePiece.spider.plot()"
   ]
  }
 ],
 "metadata": {
  "kernelspec": {
   "display_name": "Julia 1.8.0",
   "language": "julia",
   "name": "julia-1.8"
  },
  "language_info": {
   "file_extension": ".jl",
   "mimetype": "application/julia",
   "name": "julia",
   "version": "1.8.0"
  }
 },
 "nbformat": 4,
 "nbformat_minor": 5
}
