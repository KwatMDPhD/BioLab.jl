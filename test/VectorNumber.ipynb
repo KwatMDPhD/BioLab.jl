{
 "cells": [
  {
   "cell_type": "code",
   "execution_count": null,
   "id": "8b59b3b5-1365-45d2-a7bd-ed1170463bcf",
   "metadata": {
    "execution": {
     "iopub.execute_input": "2023-02-23T14:58:46.477000Z",
     "iopub.status.busy": "2023-02-23T14:58:46.194000Z",
     "iopub.status.idle": "2023-02-23T14:58:51.020000Z",
     "shell.execute_reply": "2023-02-23T14:58:50.988000Z"
    }
   },
   "outputs": [],
   "source": [
    "include(\"_.jl\")"
   ]
  },
  {
   "cell_type": "markdown",
   "id": "95f143d5-a0ec-44ef-b3ab-0a7b150bde6d",
   "metadata": {},
   "source": [
    "## get_area"
   ]
  },
  {
   "cell_type": "code",
   "execution_count": null,
   "id": "163c6e25-afc6-4504-bc6d-fe865c2933ca",
   "metadata": {
    "execution": {
     "iopub.execute_input": "2023-02-23T14:58:51.220000Z",
     "iopub.status.busy": "2023-02-23T14:58:51.021000Z",
     "iopub.status.idle": "2023-02-23T14:58:54.037000Z",
     "shell.execute_reply": "2023-02-23T14:58:54.037000Z"
    }
   },
   "outputs": [],
   "source": [
    "for (nu_, re) in (([-1, 0, 1, 2], 0.5), ([-2, -1, 0, 0, 1, 2], 0.0))\n",
    "\n",
    "    BioLab.String.print_header(nu_)\n",
    "\n",
    "    @test BioLab.VectorNumber.get_area(nu_) == re\n",
    "\n",
    "    @code_warntype BioLab.VectorNumber.get_area(nu_)\n",
    "\n",
    "    # 4.000 ns (0 allocations: 0 bytes) \n",
    "    # 5.833 ns (0 allocations: 0 bytes)\n",
    "    # @btime BioLab.VectorNumber.get_area($nu_)\n",
    "\n",
    "end"
   ]
  },
  {
   "cell_type": "markdown",
   "id": "2875cbd5-0b87-4aae-8005-0742051c3cee",
   "metadata": {},
   "source": [
    "## get_extreme"
   ]
  },
  {
   "cell_type": "code",
   "execution_count": null,
   "id": "6342130a-a519-404c-852a-77df37f9ca5a",
   "metadata": {
    "execution": {
     "iopub.execute_input": "2023-02-23T14:58:54.039000Z",
     "iopub.status.busy": "2023-02-23T14:58:54.039000Z",
     "iopub.status.idle": "2023-02-23T14:58:54.504000Z",
     "shell.execute_reply": "2023-02-23T14:58:54.504000Z"
    }
   },
   "outputs": [],
   "source": [
    "nu_ = [-1, 0, 0, 1, 2]\n",
    "\n",
    "for (nu_, re) in ((nu_, (2,)), (vcat(-maximum(nu_), nu_), (-2, 2)))\n",
    "\n",
    "    BioLab.String.print_header(nu_)\n",
    "\n",
    "    @test BioLab.VectorNumber.get_extreme(nu_) == re\n",
    "\n",
    "    @code_warntype BioLab.VectorNumber.get_extreme(nu_)\n",
    "\n",
    "    # 6.125 ns (0 allocations: 0 bytes)\n",
    "    # 5.500 ns (0 allocations: 0 bytes)\n",
    "    # @btime BioLab.VectorNumber.get_extreme($nu_)\n",
    "\n",
    "end"
   ]
  },
  {
   "cell_type": "markdown",
   "id": "ab20abca-8e09-4682-84c5-9a705eb66207",
   "metadata": {},
   "source": [
    "## shift_minimum"
   ]
  },
  {
   "cell_type": "code",
   "execution_count": null,
   "id": "3637eba3-96ec-4acd-a3b3-64cd410084df",
   "metadata": {
    "execution": {
     "iopub.execute_input": "2023-02-23T14:58:54.506000Z",
     "iopub.status.busy": "2023-02-23T14:58:54.506000Z",
     "iopub.status.idle": "2023-02-23T14:58:54.885000Z",
     "shell.execute_reply": "2023-02-23T14:58:54.885000Z"
    }
   },
   "outputs": [],
   "source": [
    "nu_ = collect(-3:3)\n",
    "\n",
    "for (nu, re) in zip(\n",
    "    vcat(nu_, \"0<\"),\n",
    "    (\n",
    "        [-3, -2, -1, 0, 1, 2, 3],\n",
    "        [-2, -1, 0, 1, 2, 3, 4],\n",
    "        [-1, 0, 1, 2, 3, 4, 5],\n",
    "        [0, 1, 2, 3, 4, 5, 6],\n",
    "        [1, 2, 3, 4, 5, 6, 7],\n",
    "        [2, 3, 4, 5, 6, 7, 8],\n",
    "        [3, 4, 5, 6, 7, 8, 9],\n",
    "        [1, 2, 3, 4, 5, 6, 7],\n",
    "    ),\n",
    ")\n",
    "\n",
    "    BioLab.String.print_header(nu)\n",
    "\n",
    "    @test BioLab.VectorNumber.shift_minimum(nu_, nu) == re\n",
    "\n",
    "    @code_warntype BioLab.VectorNumber.shift_minimum(nu_, nu)\n",
    "\n",
    "    # 25.573 ns (1 allocation: 112 bytes)\n",
    "    # 25.573 ns (1 allocation: 112 bytes)\n",
    "    # 25.699 ns (1 allocation: 112 bytes)\n",
    "    # 25.448 ns (1 allocation: 112 bytes)\n",
    "    # 25.699 ns (1 allocation: 112 bytes)\n",
    "    # 25.616 ns (1 allocation: 112 bytes)\n",
    "    # 25.658 ns (1 allocation: 112 bytes)\n",
    "    # 173.267 ns (5 allocations: 528 bytes)\n",
    "    # @btime BioLab.VectorNumber.shift_minimum($nu_, $nu)\n",
    "\n",
    "end"
   ]
  },
  {
   "cell_type": "markdown",
   "id": "f6e17ea2-2d0c-4c7f-a527-df6aaa80a762",
   "metadata": {},
   "source": [
    "## force_increasing_with_min!"
   ]
  },
  {
   "cell_type": "code",
   "execution_count": null,
   "id": "c4c1659e-eeb3-4780-b13d-5baa67571d47",
   "metadata": {
    "execution": {
     "iopub.execute_input": "2023-02-23T14:58:54.887000Z",
     "iopub.status.busy": "2023-02-23T14:58:54.887000Z",
     "iopub.status.idle": "2023-02-23T14:58:54.945000Z",
     "shell.execute_reply": "2023-02-23T14:58:54.945000Z"
    }
   },
   "outputs": [],
   "source": [
    "for (nu_, re) in (\n",
    "    ([0, 1, 2], [0, 1, 2]),\n",
    "    ([0, 1, 2, 0], [0, 0, 0, 0]),\n",
    "    ([0, 1, 2, 2, 1, 0, 1, 2, 3], [0, 0, 0, 0, 0, 0, 1, 2, 3]),\n",
    ")\n",
    "\n",
    "    BioLab.String.print_header(nu_)\n",
    "\n",
    "    co_ = copy(nu_)\n",
    "\n",
    "    BioLab.VectorNumber.force_increasing_with_min!(co_)\n",
    "\n",
    "    println(co_)\n",
    "    @test co_ == re\n",
    "\n",
    "    co_ = copy(nu_)\n",
    "\n",
    "    @code_warntype BioLab.VectorNumber.force_increasing_with_min!(co_)\n",
    "\n",
    "    # 8.008 ns (0 allocations: 0 bytes)\n",
    "    # 9.217 ns (0 allocations: 0 bytes)\n",
    "    # 14.487 ns (0 allocations: 0 bytes) \n",
    "    # @btime BioLab.VectorNumber.force_increasing_with_min!($co_) setup = (co_ = copy($nu_))\n",
    "\n",
    "end"
   ]
  },
  {
   "cell_type": "markdown",
   "id": "3b4cfb3a-81d5-4e0c-95c1-5cb616531f87",
   "metadata": {},
   "source": [
    "## force_increasing_with_max!"
   ]
  },
  {
   "cell_type": "code",
   "execution_count": null,
   "id": "ecd4ce5c",
   "metadata": {
    "execution": {
     "iopub.execute_input": "2023-02-23T14:58:54.946000Z",
     "iopub.status.busy": "2023-02-23T14:58:54.946000Z",
     "iopub.status.idle": "2023-02-23T14:58:54.993000Z",
     "shell.execute_reply": "2023-02-23T14:58:54.992000Z"
    }
   },
   "outputs": [],
   "source": [
    "for (nu_, re) in (\n",
    "    ([0, 1, 2], [0, 1, 2]),\n",
    "    ([0, 1, 2, 0], [0, 1, 2, 2]),\n",
    "    ([0, 1, 2, 2, 1, 0, 1, 2, 3], [0, 1, 2, 2, 2, 2, 2, 2, 3]),\n",
    ")\n",
    "\n",
    "    BioLab.String.print_header(nu_)\n",
    "\n",
    "    co_ = copy(nu_)\n",
    "\n",
    "    BioLab.VectorNumber.force_increasing_with_max!(co_)\n",
    "\n",
    "    println(co_)\n",
    "    @test co_ == re\n",
    "\n",
    "    co_ = copy(nu_)\n",
    "\n",
    "    @code_warntype BioLab.VectorNumber.force_increasing_with_max!(co_)\n",
    "\n",
    "    # 4.583 ns (0 allocations: 0 bytes)\n",
    "    # 5.500 ns (0 allocations: 0 bytes)\n",
    "    # 7.674 ns (0 allocations: 0 bytes) \n",
    "    # @btime BioLab.VectorNumber.force_increasing_with_max!($co_) setup = (co_ = copy($nu_))\n",
    "\n",
    "end"
   ]
  },
  {
   "cell_type": "markdown",
   "id": "7e8046d9-1db9-48ad-a9de-6a480886a5cc",
   "metadata": {},
   "source": [
    "## skip_nan_and_apply*"
   ]
  },
  {
   "cell_type": "code",
   "execution_count": null,
   "id": "47bab574-899c-4d9f-af71-0d7ced153cf2",
   "metadata": {
    "execution": {
     "iopub.execute_input": "2023-02-23T14:58:54.994000Z",
     "iopub.status.busy": "2023-02-23T14:58:54.994000Z",
     "iopub.status.idle": "2023-02-23T14:58:55.769000Z",
     "shell.execute_reply": "2023-02-23T14:58:55.769000Z"
    }
   },
   "outputs": [],
   "source": [
    "nu_ = [1, NaN, 2, NaN, 3, NaN]\n",
    "\n",
    "re = [11.0, NaN, 12.0, NaN, 13.0, NaN]"
   ]
  },
  {
   "cell_type": "markdown",
   "id": "3d32268b-1ce9-4563-a01a-868919da44c5",
   "metadata": {
    "tags": []
   },
   "source": [
    "## skip_nan_and_apply!!"
   ]
  },
  {
   "cell_type": "code",
   "execution_count": null,
   "id": "919884d8-5c42-4e10-92cf-d8d60b5dd6bc",
   "metadata": {
    "execution": {
     "iopub.execute_input": "2023-02-23T14:58:55.771000Z",
     "iopub.status.busy": "2023-02-23T14:58:55.771000Z",
     "iopub.status.idle": "2023-02-23T14:58:56.082000Z",
     "shell.execute_reply": "2023-02-23T14:58:56.081000Z"
    }
   },
   "outputs": [],
   "source": [
    "BioLab.String.print_header(\"!!\")\n",
    "\n",
    "function fu!(nu_)\n",
    "\n",
    "    for id in eachindex(nu_)\n",
    "\n",
    "        nu_[id] += 10\n",
    "\n",
    "    end\n",
    "\n",
    "    return nothing\n",
    "\n",
    "end\n",
    "\n",
    "co_ = copy(nu_)\n",
    "\n",
    "BioLab.VectorNumber.skip_nan_and_apply!!(co_, fu!)\n",
    "\n",
    "println(co_)\n",
    "@test isequal(co_, re)\n",
    "\n",
    "co_ = copy(nu_)\n",
    "\n",
    "@code_warntype BioLab.VectorNumber.skip_nan_and_apply!!(co_, fu!)\n",
    "\n",
    "# 64.479 ns (2 allocations: 144 bytes)\n",
    "# @btime BioLab.VectorNumber.skip_nan_and_apply!!($co_, $fu!) setup = (co_ = copy($nu_))"
   ]
  },
  {
   "cell_type": "markdown",
   "id": "d989f59d-5b51-4697-8095-994e8b07c545",
   "metadata": {},
   "source": [
    "## skip_nan_and_apply!"
   ]
  },
  {
   "cell_type": "code",
   "execution_count": null,
   "id": "d42a23eb-937d-41d7-b1ab-2465504bc99a",
   "metadata": {
    "execution": {
     "iopub.execute_input": "2023-02-23T14:58:56.083000Z",
     "iopub.status.busy": "2023-02-23T14:58:56.083000Z",
     "iopub.status.idle": "2023-02-23T14:58:56.146000Z",
     "shell.execute_reply": "2023-02-23T14:58:56.146000Z"
    }
   },
   "outputs": [],
   "source": [
    "BioLab.String.print_header(\"!\")\n",
    "\n",
    "function fu(nu_)\n",
    "\n",
    "    [nu + 10 for nu in nu_]\n",
    "\n",
    "end\n",
    "\n",
    "co_ = copy(nu_)\n",
    "\n",
    "BioLab.VectorNumber.skip_nan_and_apply!(co_, fu)\n",
    "\n",
    "println(co_)\n",
    "@test isequal(co_, re)\n",
    "\n",
    "co_ = copy(nu_)\n",
    "\n",
    "@code_warntype BioLab.VectorNumber.skip_nan_and_apply!(co_, fu)\n",
    "\n",
    "# 92.714 ns (3 allocations: 224 bytes)\n",
    "# @btime BioLab.VectorNumber.skip_nan_and_apply!($co_, $fu) setup = (co_ = copy($nu_))"
   ]
  },
  {
   "cell_type": "markdown",
   "id": "06f33da3-b112-4dd1-826f-def8c6347916",
   "metadata": {},
   "source": [
    "## simulate"
   ]
  },
  {
   "cell_type": "code",
   "execution_count": null,
   "id": "36da8c56",
   "metadata": {
    "execution": {
     "iopub.execute_input": "2023-02-23T14:58:56.149000Z",
     "iopub.status.busy": "2023-02-23T14:58:56.149000Z",
     "iopub.status.idle": "2023-02-23T14:58:57.132000Z",
     "shell.execute_reply": "2023-02-23T14:58:57.130000Z"
    }
   },
   "outputs": [],
   "source": [
    "n = 2\n",
    "\n",
    "for di in (\"Normal\",)\n",
    "\n",
    "    for ho in (\"\", \"deep\", \"long\")\n",
    "\n",
    "        for ev in (false, true)\n",
    "\n",
    "            BioLab.String.print_header(\"$di $ho $ev\")\n",
    "\n",
    "            # TODO: `@test`.\n",
    "            display(BioLab.VectorNumber.simulate(n; di, ho, ev))\n",
    "\n",
    "            @code_warntype BioLab.VectorNumber.simulate(n; di, ho, ev)\n",
    "\n",
    "            # 559.011 ns (13 allocations: 944 bytes)\n",
    "            # 539.021 ns (12 allocations: 896 bytes)\n",
    "            # 587.267 ns (14 allocations: 1.00 KiB)\n",
    "            # 560.589 ns (13 allocations: 976 bytes)\n",
    "            # 586.827 ns (14 allocations: 1.03 KiB)\n",
    "            # 562.043 ns (13 allocations: 976 bytes)\n",
    "            # @btime BioLab.VectorNumber.simulate($n; di = $di, ho = $ho, ev = $ev)\n",
    "\n",
    "        end\n",
    "\n",
    "    end\n",
    "\n",
    "end"
   ]
  }
 ],
 "metadata": {
  "@webio": {
   "lastCommId": null,
   "lastKernelId": null
  },
  "kernelspec": {
   "display_name": "Julia 1.8.5",
   "language": "julia",
   "name": "julia-1.8"
  },
  "language_info": {
   "file_extension": ".jl",
   "mimetype": "application/julia",
   "name": "julia",
   "version": "1.8.5"
  }
 },
 "nbformat": 4,
 "nbformat_minor": 5
}
