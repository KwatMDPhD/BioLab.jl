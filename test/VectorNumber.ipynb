{
 "cells": [
  {
   "outputs": [],
   "cell_type": "code",
   "source": [
    "using BioinformaticsCore"
   ],
   "id": "baf12f00",
   "metadata": {},
   "execution_count": null
  },
  {
   "cell_type": "markdown",
   "source": [
    "## simulate"
   ],
   "id": "922134ad-46ff-42dd-8d17-beadeba72288",
   "metadata": {}
  },
  {
   "outputs": [],
   "cell_type": "code",
   "source": [
    "for di in (\"Normal\",)\n",
    "\n",
    "    for ho in (\"\", \"deep\", \"long\")\n",
    "\n",
    "        for ev in (false, true)\n",
    "\n",
    "            println(\"=\"^99)\n",
    "\n",
    "            println(\"$di, $ho, $ev\")\n",
    "\n",
    "            println(BioinformaticsCore.VectorNumber.simulate(2, ev, di = di, ho = ho))\n",
    "\n",
    "        end\n",
    "\n",
    "    end\n",
    "\n",
    "end"
   ],
   "id": "36da8c56",
   "metadata": {},
   "execution_count": null
  },
  {
   "cell_type": "markdown",
   "source": [
    "## reverse_cumulate"
   ],
   "id": "5fe4cd8c",
   "metadata": {}
  },
  {
   "outputs": [],
   "cell_type": "code",
   "source": [
    "BioinformaticsCore.VectorNumber.reverse_cumulate(1:10)"
   ],
   "id": "07c92830",
   "metadata": {},
   "execution_count": null
  },
  {
   "cell_type": "markdown",
   "source": [
    "## get_area"
   ],
   "id": "e8e1905e",
   "metadata": {}
  },
  {
   "outputs": [],
   "cell_type": "code",
   "source": [
    "BioinformaticsCore.VectorNumber.get_area([-1, 0, 1, 2])"
   ],
   "id": "c2f4d231",
   "metadata": {},
   "execution_count": null
  },
  {
   "outputs": [],
   "cell_type": "code",
   "source": [
    "BioinformaticsCore.VectorNumber.get_area([-2, -1, 0, 0, 1, 2])"
   ],
   "id": "2a6a1b02",
   "metadata": {},
   "execution_count": null
  },
  {
   "cell_type": "markdown",
   "source": [
    "## get_extreme"
   ],
   "id": "be132537",
   "metadata": {}
  },
  {
   "outputs": [],
   "cell_type": "code",
   "source": [
    "nu_ = [-1, 0, 0, 1, 2]\n",
    "\n",
    ";"
   ],
   "id": "a0762b51-593d-4a60-9fef-134f616efc90",
   "metadata": {},
   "execution_count": null
  },
  {
   "outputs": [],
   "cell_type": "code",
   "source": [
    "BioinformaticsCore.VectorNumber.get_extreme(nu_)"
   ],
   "id": "eb75588e-487d-4d9e-8fa9-c8b31c3914f2",
   "metadata": {},
   "execution_count": null
  },
  {
   "outputs": [],
   "cell_type": "code",
   "source": [
    "BioinformaticsCore.VectorNumber.get_extreme(vcat(-maximum(nu_), nu_))"
   ],
   "id": "7d8a8776",
   "metadata": {},
   "execution_count": null
  },
  {
   "cell_type": "markdown",
   "source": [
    "## force_increasing_with_max!\n",
    "## force_increasing_with_min!"
   ],
   "id": "fa4b4616",
   "metadata": {}
  },
  {
   "outputs": [],
   "cell_type": "code",
   "source": [
    "for nu_ in ([0, 1, 2], [0, 1, 2, 0], [0, 1, 2, 2, 1, 0, 1, 2, 3])\n",
    "\n",
    "    println(\"=\"^99)\n",
    "\n",
    "    println(nu_)\n",
    "\n",
    "    for fu in (\n",
    "        BioinformaticsCore.VectorNumber.force_increasing_with_max!,\n",
    "        BioinformaticsCore.VectorNumber.force_increasing_with_min!,\n",
    "    )\n",
    "\n",
    "        co_ = copy(nu_)\n",
    "\n",
    "        fu(co_)\n",
    "\n",
    "        println(co_)\n",
    "\n",
    "    end\n",
    "\n",
    "end"
   ],
   "id": "ecd4ce5c",
   "metadata": {},
   "execution_count": null
  },
  {
   "cell_type": "markdown",
   "source": [
    "## shift_minimum"
   ],
   "id": "d60a26c7",
   "metadata": {}
  },
  {
   "outputs": [],
   "cell_type": "code",
   "source": [
    "nu_ = collect(-3:3)\n",
    "\n",
    "for nu in nu_\n",
    "\n",
    "    println(BioinformaticsCore.VectorNumber.shift_minimum(nu_, nu))\n",
    "\n",
    "end\n",
    "\n",
    "println(BioinformaticsCore.VectorNumber.shift_minimum(nu_, \"0<\"))"
   ],
   "id": "3637eba3-96ec-4acd-a3b3-64cd410084df",
   "metadata": {},
   "execution_count": null
  }
 ],
 "nbformat_minor": 5,
 "metadata": {
  "language_info": {
   "file_extension": ".jl",
   "mimetype": "application/julia",
   "name": "julia",
   "version": "1.8.2"
  },
  "@webio": {
   "lastKernelId": null,
   "lastCommId": null
  },
  "kernelspec": {
   "name": "julia-1.8",
   "display_name": "Julia 1.8.2",
   "language": "julia"
  }
 },
 "nbformat": 4
}
