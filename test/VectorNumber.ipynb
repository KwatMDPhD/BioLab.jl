{
 "cells": [
  {
   "cell_type": "code",
   "execution_count": null,
   "id": "baf12f00",
   "metadata": {},
   "outputs": [],
   "source": [
    "using OnePiece"
   ]
  },
  {
   "cell_type": "markdown",
   "id": "922134ad-46ff-42dd-8d17-beadeba72288",
   "metadata": {},
   "source": [
    "## simulate"
   ]
  },
  {
   "cell_type": "code",
   "execution_count": null,
   "id": "36da8c56",
   "metadata": {},
   "outputs": [],
   "source": [
    "for di in [\"Normal\"]\n",
    "\n",
    "    for mi in [\"\", \"deep\", \"long\"]\n",
    "\n",
    "        for ev in [false, true]\n",
    "\n",
    "            println(OnePiece.VectorNumber.simulate(2, ev, di = di, mi = mi))\n",
    "\n",
    "        end\n",
    "\n",
    "    end\n",
    "\n",
    "end"
   ]
  },
  {
   "cell_type": "markdown",
   "id": "5fe4cd8c",
   "metadata": {},
   "source": [
    "## reverse_cumulate"
   ]
  },
  {
   "cell_type": "code",
   "execution_count": null,
   "id": "07c92830",
   "metadata": {},
   "outputs": [],
   "source": [
    "OnePiece.VectorNumber.reverse_cumulate(1:10)"
   ]
  },
  {
   "cell_type": "markdown",
   "id": "e8e1905e",
   "metadata": {},
   "source": [
    "## get_area"
   ]
  },
  {
   "cell_type": "code",
   "execution_count": null,
   "id": "c2f4d231",
   "metadata": {},
   "outputs": [],
   "source": [
    "OnePiece.VectorNumber.get_area([-1, 0, 1, 2])"
   ]
  },
  {
   "cell_type": "code",
   "execution_count": null,
   "id": "2a6a1b02",
   "metadata": {},
   "outputs": [],
   "source": [
    "OnePiece.VectorNumber.get_area([-2, -1, 0, 0, 1, 2])"
   ]
  },
  {
   "cell_type": "markdown",
   "id": "be132537",
   "metadata": {},
   "source": [
    "## get_extreme"
   ]
  },
  {
   "cell_type": "code",
   "execution_count": null,
   "id": "a0762b51-593d-4a60-9fef-134f616efc90",
   "metadata": {},
   "outputs": [],
   "source": [
    "nu_ = [-1, 0, 0, 1, 2]"
   ]
  },
  {
   "cell_type": "code",
   "execution_count": null,
   "id": "eb75588e-487d-4d9e-8fa9-c8b31c3914f2",
   "metadata": {},
   "outputs": [],
   "source": [
    "OnePiece.VectorNumber.get_extreme(nu_)"
   ]
  },
  {
   "cell_type": "code",
   "execution_count": null,
   "id": "7d8a8776",
   "metadata": {},
   "outputs": [],
   "source": [
    "OnePiece.VectorNumber.get_extreme(vcat(-maximum(nu_), nu_))"
   ]
  },
  {
   "cell_type": "markdown",
   "id": "fa4b4616",
   "metadata": {},
   "source": [
    "## force_increasing_with_max!\n",
    "\n",
    "## force_increasing_with_min!"
   ]
  },
  {
   "cell_type": "code",
   "execution_count": null,
   "id": "ecd4ce5c",
   "metadata": {},
   "outputs": [],
   "source": [
    "for nu_ in [[0, 1, 2], [0, 1, 2, 0], [0, 1, 2, 2, 1, 0, 1, 2, 3]]\n",
    "\n",
    "    println(\"=\"^99)\n",
    "\n",
    "    println(nu_)\n",
    "\n",
    "    println(OnePiece.VectorNumber.force_increasing_with_max!(copy(nu_)))\n",
    "\n",
    "    println(OnePiece.VectorNumber.force_increasing_with_min!(copy(nu_)))\n",
    "\n",
    "end"
   ]
  },
  {
   "cell_type": "markdown",
   "id": "d60a26c7",
   "metadata": {},
   "source": [
    "## shift_minimum"
   ]
  },
  {
   "cell_type": "code",
   "execution_count": null,
   "id": "2de669ad",
   "metadata": {},
   "outputs": [],
   "source": [
    "nu_ = collect(-3:3)\n",
    "\n",
    "for nu in nu_\n",
    "\n",
    "    println(OnePiece.VectorNumber.shift_minimum(nu_, nu))\n",
    "\n",
    "end\n",
    "\n",
    "println(OnePiece.VectorNumber.shift_minimum(nu_, \"0<\"))"
   ]
  }
 ],
 "metadata": {
  "@webio": {
   "lastCommId": null,
   "lastKernelId": null
  },
  "kernelspec": {
   "display_name": "Julia 1.8.2",
   "language": "julia",
   "name": "julia-1.8"
  },
  "language_info": {
   "file_extension": ".jl",
   "mimetype": "application/julia",
   "name": "julia",
   "version": "1.8.2"
  }
 },
 "nbformat": 4,
 "nbformat_minor": 5
}
