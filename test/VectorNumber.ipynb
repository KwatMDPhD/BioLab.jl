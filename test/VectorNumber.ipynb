{
 "cells": [
  {
   "outputs": [],
   "cell_type": "code",
   "source": [
    "include(\"_.jl\")"
   ],
   "id": "8b59b3b5-1365-45d2-a7bd-ed1170463bcf",
   "metadata": {},
   "execution_count": null
  },
  {
   "cell_type": "markdown",
   "source": [
    "## simulate"
   ],
   "id": "e7fa777b-c784-4564-b8c9-cbe1e3cd0b36",
   "metadata": {}
  },
  {
   "outputs": [],
   "cell_type": "code",
   "source": [
    "for di in (\"Normal\",)\n",
    "\n",
    "    for ho in (\"\", \"deep\", \"long\")\n",
    "\n",
    "        for ev in (false, true)\n",
    "\n",
    "            println(\"=\"^99)\n",
    "\n",
    "            println(\"$di, $ho, $ev\")\n",
    "\n",
    "            println(BioLab.VectorNumber.simulate(2, ev, di = di, ho = ho))\n",
    "\n",
    "        end\n",
    "\n",
    "    end\n",
    "\n",
    "end"
   ],
   "id": "36da8c56",
   "metadata": {},
   "execution_count": null
  },
  {
   "cell_type": "markdown",
   "source": [
    "## get_area"
   ],
   "id": "95f143d5-a0ec-44ef-b3ab-0a7b150bde6d",
   "metadata": {}
  },
  {
   "outputs": [],
   "cell_type": "code",
   "source": [
    "BioLab.VectorNumber.get_area([-1, 0, 1, 2])"
   ],
   "id": "c2f4d231",
   "metadata": {},
   "execution_count": null
  },
  {
   "outputs": [],
   "cell_type": "code",
   "source": [
    "BioLab.VectorNumber.get_area([-2, -1, 0, 0, 1, 2])"
   ],
   "id": "2a6a1b02",
   "metadata": {},
   "execution_count": null
  },
  {
   "cell_type": "markdown",
   "source": [
    "## get_extreme"
   ],
   "id": "2875cbd5-0b87-4aae-8005-0742051c3cee",
   "metadata": {}
  },
  {
   "outputs": [],
   "cell_type": "code",
   "source": [
    "nu_ = [-1, 0, 0, 1, 2]\n",
    "\n",
    ";"
   ],
   "id": "a0762b51-593d-4a60-9fef-134f616efc90",
   "metadata": {},
   "execution_count": null
  },
  {
   "outputs": [],
   "cell_type": "code",
   "source": [
    "BioLab.VectorNumber.get_extreme(nu_)"
   ],
   "id": "eb75588e-487d-4d9e-8fa9-c8b31c3914f2",
   "metadata": {},
   "execution_count": null
  },
  {
   "outputs": [],
   "cell_type": "code",
   "source": [
    "BioLab.VectorNumber.get_extreme(vcat(-maximum(nu_), nu_))"
   ],
   "id": "7d8a8776",
   "metadata": {},
   "execution_count": null
  },
  {
   "cell_type": "markdown",
   "source": [
    "## shift_minimum"
   ],
   "id": "ab20abca-8e09-4682-84c5-9a705eb66207",
   "metadata": {}
  },
  {
   "outputs": [],
   "cell_type": "code",
   "source": [
    "nu_ = collect(-3:3)\n",
    "\n",
    "for nu in nu_\n",
    "\n",
    "    println(BioLab.VectorNumber.shift_minimum(nu_, nu))\n",
    "\n",
    "end\n",
    "\n",
    "println(BioLab.VectorNumber.shift_minimum(nu_, \"0<\"))"
   ],
   "id": "3637eba3-96ec-4acd-a3b3-64cd410084df",
   "metadata": {},
   "execution_count": null
  },
  {
   "cell_type": "markdown",
   "source": [
    "## force_increasing_with_min!"
   ],
   "id": "f6e17ea2-2d0c-4c7f-a527-df6aaa80a762",
   "metadata": {}
  },
  {
   "cell_type": "markdown",
   "source": [
    "## force_increasing_with_max!"
   ],
   "id": "3b4cfb3a-81d5-4e0c-95c1-5cb616531f87",
   "metadata": {}
  },
  {
   "outputs": [],
   "cell_type": "code",
   "source": [
    "for nu_ in ([0, 1, 2], [0, 1, 2, 0], [0, 1, 2, 2, 1, 0, 1, 2, 3])\n",
    "\n",
    "    println(\"=\"^99)\n",
    "\n",
    "    println(nu_)\n",
    "\n",
    "    for fu in (\n",
    "        BioLab.VectorNumber.force_increasing_with_max!,\n",
    "        BioLab.VectorNumber.force_increasing_with_min!,\n",
    "    )\n",
    "\n",
    "        co_ = copy(nu_)\n",
    "\n",
    "        fu(co_)\n",
    "\n",
    "        println(co_)\n",
    "\n",
    "    end\n",
    "\n",
    "end"
   ],
   "id": "ecd4ce5c",
   "metadata": {},
   "execution_count": null
  },
  {
   "cell_type": "markdown",
   "source": [
    "## skip_nan_and_apply!!"
   ],
   "id": "3d32268b-1ce9-4563-a01a-868919da44c5",
   "metadata": {
    "tags": []
   }
  },
  {
   "cell_type": "markdown",
   "source": [
    "## skip_nan_and_apply!"
   ],
   "id": "014ad529-8410-489c-ae01-a9f5e7f552d2",
   "metadata": {}
  }
 ],
 "nbformat_minor": 5,
 "metadata": {
  "language_info": {
   "file_extension": ".jl",
   "mimetype": "application/julia",
   "name": "julia",
   "version": "1.8.5"
  },
  "@webio": {
   "lastKernelId": null,
   "lastCommId": null
  },
  "kernelspec": {
   "name": "julia-1.8",
   "display_name": "Julia 1.8.5",
   "language": "julia"
  }
 },
 "nbformat": 4
}
