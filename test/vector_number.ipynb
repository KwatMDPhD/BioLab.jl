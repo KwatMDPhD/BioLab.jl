{
 "cells": [
  {
   "cell_type": "code",
   "execution_count": null,
   "id": "baf12f00",
   "metadata": {
    "execution": {
     "iopub.execute_input": "2022-08-17T13:53:11.774000Z",
     "iopub.status.busy": "2022-08-17T13:53:11.447000Z",
     "iopub.status.idle": "2022-08-17T13:53:16.329000Z",
     "shell.execute_reply": "2022-08-17T13:53:16.285000Z"
    }
   },
   "outputs": [],
   "source": [
    "using OnePiece"
   ]
  },
  {
   "cell_type": "markdown",
   "id": "5fe4cd8c",
   "metadata": {},
   "source": [
    "## cumulate_sum_reverse"
   ]
  },
  {
   "cell_type": "code",
   "execution_count": null,
   "id": "07c92830",
   "metadata": {
    "execution": {
     "iopub.execute_input": "2022-08-17T13:53:16.906000Z",
     "iopub.status.busy": "2022-08-17T13:53:16.331000Z",
     "iopub.status.idle": "2022-08-17T13:53:17.988000Z",
     "shell.execute_reply": "2022-08-17T13:53:17.987000Z"
    }
   },
   "outputs": [],
   "source": [
    "OnePiece.vector_number.cumulate_sum_reverse(1:10)"
   ]
  },
  {
   "cell_type": "markdown",
   "id": "e8e1905e",
   "metadata": {},
   "source": [
    "## get_area"
   ]
  },
  {
   "cell_type": "code",
   "execution_count": null,
   "id": "c2f4d231",
   "metadata": {
    "execution": {
     "iopub.execute_input": "2022-08-17T13:53:17.991000Z",
     "iopub.status.busy": "2022-08-17T13:53:17.991000Z",
     "iopub.status.idle": "2022-08-17T13:53:18.161000Z",
     "shell.execute_reply": "2022-08-17T13:53:18.160000Z"
    }
   },
   "outputs": [],
   "source": [
    "OnePiece.vector_number.get_area([-1, 0, 1, 2])"
   ]
  },
  {
   "cell_type": "code",
   "execution_count": null,
   "id": "2a6a1b02",
   "metadata": {
    "execution": {
     "iopub.execute_input": "2022-08-17T13:53:18.163000Z",
     "iopub.status.busy": "2022-08-17T13:53:18.163000Z",
     "iopub.status.idle": "2022-08-17T13:53:18.164000Z",
     "shell.execute_reply": "2022-08-17T13:53:18.164000Z"
    }
   },
   "outputs": [],
   "source": [
    "OnePiece.vector_number.get_area([-2, -1, 0, 0, 1, 2])"
   ]
  },
  {
   "cell_type": "markdown",
   "id": "be132537",
   "metadata": {},
   "source": [
    "## get_extreme"
   ]
  },
  {
   "cell_type": "code",
   "execution_count": null,
   "id": "4800ccf8",
   "metadata": {
    "execution": {
     "iopub.execute_input": "2022-08-17T13:53:18.182000Z",
     "iopub.status.busy": "2022-08-17T13:53:18.182000Z",
     "iopub.status.idle": "2022-08-17T13:53:18.367000Z",
     "shell.execute_reply": "2022-08-17T13:53:18.367000Z"
    }
   },
   "outputs": [],
   "source": [
    "te = [-1, 0, 0, 1, 2]\n",
    "\n",
    "OnePiece.vector_number.get_extreme(te)"
   ]
  },
  {
   "cell_type": "code",
   "execution_count": null,
   "id": "7d8a8776",
   "metadata": {
    "execution": {
     "iopub.execute_input": "2022-08-17T13:53:18.370000Z",
     "iopub.status.busy": "2022-08-17T13:53:18.370000Z",
     "iopub.status.idle": "2022-08-17T13:53:18.387000Z",
     "shell.execute_reply": "2022-08-17T13:53:18.387000Z"
    }
   },
   "outputs": [],
   "source": [
    "OnePiece.vector_number.get_extreme([-maximum(te), te...])"
   ]
  },
  {
   "cell_type": "markdown",
   "id": "fa4b4616",
   "metadata": {},
   "source": [
    "## make_increasing_by_stepping_*"
   ]
  },
  {
   "cell_type": "code",
   "execution_count": null,
   "id": "ecd4ce5c",
   "metadata": {
    "execution": {
     "iopub.execute_input": "2022-08-17T13:53:18.391000Z",
     "iopub.status.busy": "2022-08-17T13:53:18.391000Z",
     "iopub.status.idle": "2022-08-17T13:53:18.585000Z",
     "shell.execute_reply": "2022-08-17T13:53:18.584000Z"
    }
   },
   "outputs": [],
   "source": [
    "for ic_ in [[0, 1, 2], [0, 1, 2, 0], [0, 1, 2, 2, 1, 0, 1, 2, 3]]\n",
    "\n",
    "    println(\"-\"^99)\n",
    "\n",
    "    println(ic_)\n",
    "\n",
    "    println(OnePiece.vector_number.make_increasing_by_stepping_up!(copy(ic_)))\n",
    "\n",
    "    println(OnePiece.vector_number.make_increasing_by_stepping_down!(copy(ic_)))\n",
    "\n",
    "end"
   ]
  },
  {
   "cell_type": "markdown",
   "id": "d60a26c7",
   "metadata": {},
   "source": [
    "## shift_minimum"
   ]
  },
  {
   "cell_type": "code",
   "execution_count": null,
   "id": "2de669ad",
   "metadata": {
    "execution": {
     "iopub.execute_input": "2022-08-17T13:53:18.587000Z",
     "iopub.status.busy": "2022-08-17T13:53:18.587000Z",
     "iopub.status.idle": "2022-08-17T13:53:18.750000Z",
     "shell.execute_reply": "2022-08-17T13:53:18.750000Z"
    }
   },
   "outputs": [],
   "source": [
    "te = collect(-3:3)\n",
    "\n",
    "println(OnePiece.vector_number.shift_minimum(te, \"0<\"))\n",
    "\n",
    "for nu in te\n",
    "\n",
    "    println(OnePiece.vector_number.shift_minimum(te, nu))\n",
    "\n",
    "end"
   ]
  },
  {
   "cell_type": "markdown",
   "id": "8d236ee2",
   "metadata": {},
   "source": [
    "## simulate"
   ]
  },
  {
   "cell_type": "code",
   "execution_count": null,
   "id": "36da8c56",
   "metadata": {
    "execution": {
     "iopub.execute_input": "2022-08-17T13:53:18.756000Z",
     "iopub.status.busy": "2022-08-17T13:53:18.756000Z",
     "iopub.status.idle": "2022-08-17T13:53:19.182000Z",
     "shell.execute_reply": "2022-08-17T13:53:19.182000Z"
    }
   },
   "outputs": [],
   "source": [
    "for ho in [\"\", \"deep\", \"long\"]\n",
    "\n",
    "    OnePiece.vector_number.simulate(2, ho = ho)\n",
    "\n",
    "end"
   ]
  }
 ],
 "metadata": {
  "@webio": {
   "lastCommId": null,
   "lastKernelId": null
  },
  "kernelspec": {
   "display_name": "Julia 1.7.3",
   "language": "julia",
   "name": "julia-1.7"
  },
  "language_info": {
   "file_extension": ".jl",
   "mimetype": "application/julia",
   "name": "julia",
   "version": "1.7.3"
  }
 },
 "nbformat": 4,
 "nbformat_minor": 5
}
