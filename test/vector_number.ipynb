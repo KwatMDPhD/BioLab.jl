{
 "cells": [
  {
   "cell_type": "code",
   "execution_count": null,
   "id": "baf12f00",
   "metadata": {
    "execution": {
     "iopub.execute_input": "2022-08-25T17:25:09.508000Z",
     "iopub.status.busy": "2022-08-25T17:25:09.014000Z",
     "iopub.status.idle": "2022-08-25T17:25:16.345000Z",
     "shell.execute_reply": "2022-08-25T17:25:16.303000Z"
    }
   },
   "outputs": [],
   "source": [
    "using OnePiece"
   ]
  },
  {
   "cell_type": "markdown",
   "id": "5fe4cd8c",
   "metadata": {},
   "source": [
    "## cumulate_sum_reverse"
   ]
  },
  {
   "cell_type": "code",
   "execution_count": null,
   "id": "07c92830",
   "metadata": {
    "execution": {
     "iopub.execute_input": "2022-08-25T17:25:16.531000Z",
     "iopub.status.busy": "2022-08-25T17:25:16.347000Z",
     "iopub.status.idle": "2022-08-25T17:25:17.881000Z",
     "shell.execute_reply": "2022-08-25T17:25:17.881000Z"
    }
   },
   "outputs": [],
   "source": [
    "OnePiece.vector_number.cumulate_sum_reverse(1:10)"
   ]
  },
  {
   "cell_type": "markdown",
   "id": "e8e1905e",
   "metadata": {},
   "source": [
    "## get_area"
   ]
  },
  {
   "cell_type": "code",
   "execution_count": null,
   "id": "c2f4d231",
   "metadata": {
    "execution": {
     "iopub.execute_input": "2022-08-25T17:25:17.885000Z",
     "iopub.status.busy": "2022-08-25T17:25:17.885000Z",
     "iopub.status.idle": "2022-08-25T17:25:18.055000Z",
     "shell.execute_reply": "2022-08-25T17:25:18.054000Z"
    }
   },
   "outputs": [],
   "source": [
    "OnePiece.vector_number.get_area([-1, 0, 1, 2])"
   ]
  },
  {
   "cell_type": "code",
   "execution_count": null,
   "id": "2a6a1b02",
   "metadata": {
    "execution": {
     "iopub.execute_input": "2022-08-25T17:25:18.057000Z",
     "iopub.status.busy": "2022-08-25T17:25:18.057000Z",
     "iopub.status.idle": "2022-08-25T17:25:18.058000Z",
     "shell.execute_reply": "2022-08-25T17:25:18.058000Z"
    }
   },
   "outputs": [],
   "source": [
    "OnePiece.vector_number.get_area([-2, -1, 0, 0, 1, 2])"
   ]
  },
  {
   "cell_type": "markdown",
   "id": "be132537",
   "metadata": {},
   "source": [
    "## get_extreme"
   ]
  },
  {
   "cell_type": "code",
   "execution_count": null,
   "id": "4800ccf8",
   "metadata": {
    "execution": {
     "iopub.execute_input": "2022-08-25T17:25:18.062000Z",
     "iopub.status.busy": "2022-08-25T17:25:18.062000Z",
     "iopub.status.idle": "2022-08-25T17:25:18.229000Z",
     "shell.execute_reply": "2022-08-25T17:25:18.229000Z"
    }
   },
   "outputs": [],
   "source": [
    "te = [-1, 0, 0, 1, 2]\n",
    "\n",
    "OnePiece.vector_number.get_extreme(te)"
   ]
  },
  {
   "cell_type": "code",
   "execution_count": null,
   "id": "7d8a8776",
   "metadata": {
    "execution": {
     "iopub.execute_input": "2022-08-25T17:25:18.232000Z",
     "iopub.status.busy": "2022-08-25T17:25:18.232000Z",
     "iopub.status.idle": "2022-08-25T17:25:18.254000Z",
     "shell.execute_reply": "2022-08-25T17:25:18.254000Z"
    }
   },
   "outputs": [],
   "source": [
    "OnePiece.vector_number.get_extreme([-maximum(te), te...])"
   ]
  },
  {
   "cell_type": "markdown",
   "id": "fa4b4616",
   "metadata": {},
   "source": [
    "## make_increasing_by_stepping_*"
   ]
  },
  {
   "cell_type": "code",
   "execution_count": null,
   "id": "ecd4ce5c",
   "metadata": {
    "execution": {
     "iopub.execute_input": "2022-08-25T17:25:18.258000Z",
     "iopub.status.busy": "2022-08-25T17:25:18.258000Z",
     "iopub.status.idle": "2022-08-25T17:25:18.439000Z",
     "shell.execute_reply": "2022-08-25T17:25:18.439000Z"
    }
   },
   "outputs": [],
   "source": [
    "for ic_ in [[0, 1, 2], [0, 1, 2, 0], [0, 1, 2, 2, 1, 0, 1, 2, 3]]\n",
    "\n",
    "    println(\"-\"^99)\n",
    "\n",
    "    println(ic_)\n",
    "\n",
    "    println(OnePiece.vector_number.make_increasing_by_stepping_up!(copy(ic_)))\n",
    "\n",
    "    println(OnePiece.vector_number.make_increasing_by_stepping_down!(copy(ic_)))\n",
    "\n",
    "end"
   ]
  },
  {
   "cell_type": "markdown",
   "id": "d60a26c7",
   "metadata": {},
   "source": [
    "## shift_minimum"
   ]
  },
  {
   "cell_type": "code",
   "execution_count": null,
   "id": "2de669ad",
   "metadata": {
    "execution": {
     "iopub.execute_input": "2022-08-25T17:25:18.442000Z",
     "iopub.status.busy": "2022-08-25T17:25:18.442000Z",
     "iopub.status.idle": "2022-08-25T17:25:18.613000Z",
     "shell.execute_reply": "2022-08-25T17:25:18.612000Z"
    }
   },
   "outputs": [],
   "source": [
    "te = collect(-3:3)\n",
    "\n",
    "println(OnePiece.vector_number.shift_minimum(te, \"0<\"))\n",
    "\n",
    "for nu in te\n",
    "\n",
    "    println(OnePiece.vector_number.shift_minimum(te, nu))\n",
    "\n",
    "end"
   ]
  },
  {
   "cell_type": "markdown",
   "id": "8d236ee2",
   "metadata": {},
   "source": [
    "## simulate"
   ]
  },
  {
   "cell_type": "code",
   "execution_count": null,
   "id": "36da8c56",
   "metadata": {
    "execution": {
     "iopub.execute_input": "2022-08-25T17:25:18.617000Z",
     "iopub.status.busy": "2022-08-25T17:25:18.617000Z",
     "iopub.status.idle": "2022-08-25T17:25:19.159000Z",
     "shell.execute_reply": "2022-08-25T17:25:19.158000Z"
    }
   },
   "outputs": [],
   "source": [
    "for ho in [\"\", \"deep\", \"long\"]\n",
    "\n",
    "    OnePiece.vector_number.simulate(2, ho = ho)\n",
    "\n",
    "end"
   ]
  }
 ],
 "metadata": {
  "@webio": {
   "lastCommId": null,
   "lastKernelId": null
  },
  "kernelspec": {
   "display_name": "Julia 1.7.3",
   "language": "julia",
   "name": "julia-1.8"
  },
  "language_info": {
   "file_extension": ".jl",
   "mimetype": "application/julia",
   "name": "julia",
   "version": "1.8.0"
  }
 },
 "nbformat": 4,
 "nbformat_minor": 5
}
