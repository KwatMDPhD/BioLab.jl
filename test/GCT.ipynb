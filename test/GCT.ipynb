{
 "cells": [
  {
   "cell_type": "code",
   "execution_count": null,
   "id": "baf12f00",
   "metadata": {
    "execution": {
     "iopub.execute_input": "2023-02-23T14:52:11.113000Z",
     "iopub.status.busy": "2023-02-23T14:52:10.849000Z",
     "iopub.status.idle": "2023-02-23T14:52:15.001000Z",
     "shell.execute_reply": "2023-02-23T14:52:14.975000Z"
    }
   },
   "outputs": [],
   "source": [
    "include(\"_.jl\")"
   ]
  },
  {
   "cell_type": "markdown",
   "id": "150ddcea",
   "metadata": {},
   "source": [
    "## read"
   ]
  },
  {
   "cell_type": "code",
   "execution_count": null,
   "id": "41bb483d",
   "metadata": {
    "execution": {
     "iopub.execute_input": "2023-02-23T14:52:15.168000Z",
     "iopub.status.busy": "2023-02-23T14:52:15.003000Z",
     "iopub.status.idle": "2023-02-23T14:52:24.919000Z",
     "shell.execute_reply": "2023-02-23T14:52:24.919000Z"
    }
   },
   "outputs": [],
   "source": [
    "gc = joinpath(@__DIR__, \"GCT.data\", \"a.gct\")\n",
    "\n",
    "#TODO: `@test`.\n",
    "display(BioLab.GCT.read(gc))\n",
    "\n",
    "@code_warntype BioLab.GCT.read(gc)\n",
    "\n",
    "# 87.198 ms (84878 allocations: 24.68 MiB)\n",
    "# @btime BioLab.GCT.read($gc)"
   ]
  }
 ],
 "metadata": {
  "@webio": {
   "lastCommId": null,
   "lastKernelId": null
  },
  "kernelspec": {
   "display_name": "Julia 1.8.5",
   "language": "julia",
   "name": "julia-1.8"
  },
  "language_info": {
   "file_extension": ".jl",
   "mimetype": "application/julia",
   "name": "julia",
   "version": "1.8.5"
  }
 },
 "nbformat": 4,
 "nbformat_minor": 5
}
