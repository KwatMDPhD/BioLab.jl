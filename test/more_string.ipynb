{
 "cells": [
  {
   "cell_type": "code",
   "execution_count": null,
   "id": "ad4fb98a",
   "metadata": {},
   "outputs": [],
   "source": [
    "TE = joinpath(tempdir(), \"StringExtension.test\", \"\")\n",
    "\n",
    "if isdir(TE)\n",
    "\n",
    "    rm(TE; recursive = true)\n",
    "\n",
    "end\n",
    "\n",
    "mkdir(TE)\n",
    "\n",
    "println(\"Made \", TE)"
   ]
  },
  {
   "cell_type": "code",
   "execution_count": null,
   "id": "34e4701e",
   "metadata": {},
   "outputs": [],
   "source": [
    "using Revise\n",
    "using BenchmarkTools"
   ]
  },
  {
   "cell_type": "markdown",
   "id": "349c228e",
   "metadata": {},
   "source": [
    "---"
   ]
  },
  {
   "cell_type": "code",
   "execution_count": null,
   "id": "47db0034-3cde-4c8e-b313-a08bb73b0fc8",
   "metadata": {
    "execution": {
     "iopub.execute_input": "2021-10-14T18:36:37.911558Z",
     "iopub.status.busy": "2021-10-14T18:36:37.372556Z",
     "iopub.status.idle": "2021-10-14T18:36:51.326000Z",
     "shell.execute_reply": "2021-10-14T18:36:51.325430Z"
    }
   },
   "outputs": [],
   "source": [
    "using StringExtension"
   ]
  },
  {
   "cell_type": "markdown",
   "id": "a02ed866",
   "metadata": {},
   "source": [
    "## title"
   ]
  },
  {
   "cell_type": "code",
   "execution_count": null,
   "id": "99fd4194",
   "metadata": {
    "execution": {
     "iopub.execute_input": "2021-10-14T18:36:54.039174Z",
     "iopub.status.busy": "2021-10-14T18:36:54.038675Z",
     "iopub.status.idle": "2021-10-14T18:36:54.119300Z",
     "shell.execute_reply": "2021-10-14T18:36:54.118858Z"
    }
   },
   "outputs": [],
   "source": [
    "for st in [\"aa\", \"DNA\", \"Hello world!\", \"SARS-COVID-2\"]\n",
    "\n",
    "    println(StringExtension.title(st))\n",
    "\n",
    "end"
   ]
  },
  {
   "cell_type": "markdown",
   "id": "f27cd482-162a-407b-b8c2-0004da45cde6",
   "metadata": {},
   "source": [
    "## replace"
   ]
  },
  {
   "cell_type": "code",
   "execution_count": null,
   "id": "55ad4d9e-e111-49b5-abd4-24d313c04b5f",
   "metadata": {
    "execution": {
     "iopub.execute_input": "2021-10-14T18:36:52.882489Z",
     "iopub.status.busy": "2021-10-14T18:36:51.327326Z",
     "iopub.status.idle": "2021-10-14T18:36:54.036749Z",
     "shell.execute_reply": "2021-10-14T18:36:54.037099Z"
    }
   },
   "outputs": [],
   "source": [
    "StringExtension.replace(\n",
    "    \"Sanji, Zoro, and Nami.\",\n",
    "    [\"Sanji\" => \"Usoppu\", \"Zoro\" => \"Chopper\", \"Nami\" => \"Robin\"],\n",
    ")"
   ]
  },
  {
   "cell_type": "markdown",
   "id": "40e5f2d4",
   "metadata": {},
   "source": [
    "## get_longest_common_prefix"
   ]
  },
  {
   "cell_type": "markdown",
   "id": "fbd9a52f",
   "metadata": {},
   "source": [
    "## remove_longest_common_prefix"
   ]
  },
  {
   "cell_type": "code",
   "execution_count": null,
   "id": "8e6fd14f",
   "metadata": {},
   "outputs": [],
   "source": [
    "for st_ in [\n",
    "    [\"\", \"\", \"\"],\n",
    "    [\"kate\"],\n",
    "    [\"kate\", \"kwat\"],\n",
    "    [\"kate\", \"kwat\", \"kazakh\"],\n",
    "    [\"a\", \"ab\", \"abc\"],\n",
    "    [\"abc\", \"ab\", \"a\"],\n",
    "]\n",
    "\n",
    "    println(\"-\"^80)\n",
    "\n",
    "    println(StringExtension.get_longest_common_prefix(st_))\n",
    "\n",
    "    println(StringExtension.remove_longest_common_prefix(st_))\n",
    "\n",
    "end"
   ]
  },
  {
   "cell_type": "markdown",
   "id": "d187bf50",
   "metadata": {},
   "source": [
    "## transplant"
   ]
  },
  {
   "cell_type": "code",
   "execution_count": null,
   "id": "9f936782",
   "metadata": {},
   "outputs": [],
   "source": [
    "st1 = \"A--BB--CCC\"\n",
    "\n",
    "st2 = \"a--bb--ccc\"\n",
    "\n",
    "de = \"--\"\n",
    "\n",
    "StringExtension.transplant(st1, st2, de, [1, 2, 1])"
   ]
  },
  {
   "cell_type": "markdown",
   "id": "cc3bd743",
   "metadata": {},
   "source": [
    "---"
   ]
  },
  {
   "cell_type": "code",
   "execution_count": null,
   "id": "b169202a",
   "metadata": {},
   "outputs": [],
   "source": [
    "rm(TE; recursive = true)\n",
    "\n",
    "println(\"Removed \", TE)"
   ]
  }
 ],
 "metadata": {
  "@webio": {
   "lastCommId": null,
   "lastKernelId": null
  },
  "kernelspec": {
   "display_name": "Julia 1.7.0",
   "language": "julia",
   "name": "julia-1.7"
  },
  "language_info": {
   "file_extension": ".jl",
   "mimetype": "application/julia",
   "name": "julia",
   "version": "1.7.0"
  }
 },
 "nbformat": 4,
 "nbformat_minor": 5
}
