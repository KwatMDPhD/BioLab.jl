{
 "cells": [
  {
   "cell_type": "code",
   "execution_count": null,
   "id": "baf12f00",
   "metadata": {
    "execution": {
     "iopub.execute_input": "2022-08-25T17:17:15.290000Z",
     "iopub.status.busy": "2022-08-25T17:17:14.793000Z",
     "iopub.status.idle": "2022-08-25T17:17:22.139000Z",
     "shell.execute_reply": "2022-08-25T17:17:22.097000Z"
    }
   },
   "outputs": [],
   "source": [
    "using OnePiece"
   ]
  },
  {
   "cell_type": "markdown",
   "id": "150ddcea",
   "metadata": {},
   "source": [
    "## read"
   ]
  },
  {
   "cell_type": "code",
   "execution_count": null,
   "id": "41bb483d",
   "metadata": {
    "execution": {
     "iopub.execute_input": "2022-08-25T17:17:22.324000Z",
     "iopub.status.busy": "2022-08-25T17:17:22.142000Z",
     "iopub.status.idle": "2022-08-25T17:17:32.690000Z",
     "shell.execute_reply": "2022-08-25T17:17:32.690000Z"
    }
   },
   "outputs": [],
   "source": [
    "OnePiece.data_frame.print(OnePiece.gct.read(joinpath(@__DIR__, \"gct.data\", \"a.gct\")))"
   ]
  }
 ],
 "metadata": {
  "@webio": {
   "lastCommId": null,
   "lastKernelId": null
  },
  "kernelspec": {
   "display_name": "Julia 1.7.3",
   "language": "julia",
   "name": "julia-1.8"
  },
  "language_info": {
   "file_extension": ".jl",
   "mimetype": "application/julia",
   "name": "julia",
   "version": "1.8.0"
  }
 },
 "nbformat": 4,
 "nbformat_minor": 5
}
