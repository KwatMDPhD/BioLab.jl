{
 "cells": [
  {
   "cell_type": "code",
   "execution_count": null,
   "id": "baf12f00",
   "metadata": {
    "execution": {
     "iopub.execute_input": "2022-08-17T13:46:24.686000Z",
     "iopub.status.busy": "2022-08-17T13:46:24.356000Z",
     "iopub.status.idle": "2022-08-17T13:46:29.346000Z",
     "shell.execute_reply": "2022-08-17T13:46:29.300000Z"
    }
   },
   "outputs": [],
   "source": [
    "using OnePiece"
   ]
  },
  {
   "cell_type": "markdown",
   "id": "150ddcea",
   "metadata": {},
   "source": [
    "## read"
   ]
  },
  {
   "cell_type": "code",
   "execution_count": null,
   "id": "41bb483d",
   "metadata": {
    "execution": {
     "iopub.execute_input": "2022-08-17T13:46:29.974000Z",
     "iopub.status.busy": "2022-08-17T13:46:29.364000Z",
     "iopub.status.idle": "2022-08-17T13:46:40.357000Z",
     "shell.execute_reply": "2022-08-17T13:46:40.357000Z"
    }
   },
   "outputs": [],
   "source": [
    "OnePiece.data_frame.print(OnePiece.gct.read(joinpath(@__DIR__, \"gct.data\", \"a.gct\")))"
   ]
  }
 ],
 "metadata": {
  "@webio": {
   "lastCommId": null,
   "lastKernelId": null
  },
  "kernelspec": {
   "display_name": "Julia 1.7.3",
   "language": "julia",
   "name": "julia-1.7"
  },
  "language_info": {
   "file_extension": ".jl",
   "mimetype": "application/julia",
   "name": "julia",
   "version": "1.7.3"
  }
 },
 "nbformat": 4,
 "nbformat_minor": 5
}
