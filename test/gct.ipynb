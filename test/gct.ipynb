{
 "cells": [
  {
   "cell_type": "code",
   "execution_count": null,
   "id": "baf12f00",
   "metadata": {
    "execution": {
     "iopub.execute_input": "2022-08-19T09:37:02.490000Z",
     "iopub.status.busy": "2022-08-19T09:37:02.153000Z",
     "iopub.status.idle": "2022-08-19T09:37:07.164000Z",
     "shell.execute_reply": "2022-08-19T09:37:07.118000Z"
    }
   },
   "outputs": [],
   "source": [
    "using OnePiece"
   ]
  },
  {
   "cell_type": "markdown",
   "id": "150ddcea",
   "metadata": {},
   "source": [
    "## read"
   ]
  },
  {
   "cell_type": "code",
   "execution_count": null,
   "id": "41bb483d",
   "metadata": {
    "execution": {
     "iopub.execute_input": "2022-08-19T09:37:07.772000Z",
     "iopub.status.busy": "2022-08-19T09:37:07.180000Z",
     "iopub.status.idle": "2022-08-19T09:37:18.389000Z",
     "shell.execute_reply": "2022-08-19T09:37:18.389000Z"
    }
   },
   "outputs": [],
   "source": [
    "OnePiece.data_frame.print(OnePiece.gct.read(joinpath(@__DIR__, \"gct.data\", \"a.gct\")))"
   ]
  }
 ],
 "metadata": {
  "@webio": {
   "lastCommId": null,
   "lastKernelId": null
  },
  "kernelspec": {
   "display_name": "Julia 1.7.3",
   "language": "julia",
   "name": "julia-1.7"
  },
  "language_info": {
   "file_extension": ".jl",
   "mimetype": "application/julia",
   "name": "julia",
   "version": "1.7.3"
  }
 },
 "nbformat": 4,
 "nbformat_minor": 5
}
