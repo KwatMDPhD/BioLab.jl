{
 "cells": [
  {
   "cell_type": "code",
   "execution_count": null,
   "id": "baf12f00",
   "metadata": {
    "execution": {
     "iopub.execute_input": "2022-08-17T20:03:15.583000Z",
     "iopub.status.busy": "2022-08-17T20:03:15.228000Z",
     "iopub.status.idle": "2022-08-17T20:03:20.561000Z",
     "shell.execute_reply": "2022-08-17T20:03:20.507000Z"
    }
   },
   "outputs": [],
   "source": [
    "using OnePiece"
   ]
  },
  {
   "cell_type": "markdown",
   "id": "150ddcea",
   "metadata": {},
   "source": [
    "## read"
   ]
  },
  {
   "cell_type": "code",
   "execution_count": null,
   "id": "41bb483d",
   "metadata": {
    "execution": {
     "iopub.execute_input": "2022-08-17T20:03:21.240000Z",
     "iopub.status.busy": "2022-08-17T20:03:20.584000Z",
     "iopub.status.idle": "2022-08-17T20:03:32.398000Z",
     "shell.execute_reply": "2022-08-17T20:03:32.397000Z"
    }
   },
   "outputs": [],
   "source": [
    "OnePiece.data_frame.print(OnePiece.gct.read(joinpath(@__DIR__, \"gct.data\", \"a.gct\")))"
   ]
  }
 ],
 "metadata": {
  "@webio": {
   "lastCommId": null,
   "lastKernelId": null
  },
  "kernelspec": {
   "display_name": "Julia 1.7.3",
   "language": "julia",
   "name": "julia-1.7"
  },
  "language_info": {
   "file_extension": ".jl",
   "mimetype": "application/julia",
   "name": "julia",
   "version": "1.7.3"
  }
 },
 "nbformat": 4,
 "nbformat_minor": 5
}
