{
 "cells": [
  {
   "cell_type": "code",
   "execution_count": null,
   "id": "baf12f00",
   "metadata": {},
   "outputs": [],
   "source": [
    "using OnePiece"
   ]
  },
  {
   "cell_type": "code",
   "execution_count": null,
   "id": "794ac319-7f74-4ac2-b91b-9e2d8ad0905d",
   "metadata": {},
   "outputs": [],
   "source": [
    "fr_ = [0.0, 0.001, 0.025, 0.05, 0.5, 0.95, 0.975, 0.999, 1]\n",
    "\n",
    ";"
   ]
  },
  {
   "cell_type": "markdown",
   "id": "7ae8d92b-8aab-4b19-9a7e-172628e7dfc8",
   "metadata": {},
   "source": [
    "## get_z_score"
   ]
  },
  {
   "cell_type": "code",
   "execution_count": null,
   "id": "a20437ee",
   "metadata": {},
   "outputs": [],
   "source": [
    "for cu in fr_\n",
    "\n",
    "    println(OnePiece.Statistics.get_z_score(cu))\n",
    "\n",
    "end"
   ]
  },
  {
   "cell_type": "markdown",
   "id": "271fc92d",
   "metadata": {},
   "source": [
    "## get_confidence_interval"
   ]
  },
  {
   "cell_type": "code",
   "execution_count": null,
   "id": "d3ecf358",
   "metadata": {},
   "outputs": [],
   "source": [
    "for co in fr_\n",
    "\n",
    "    println(OnePiece.Statistics.get_confidence_interval(co))\n",
    "\n",
    "end"
   ]
  }
 ],
 "metadata": {
  "@webio": {
   "lastCommId": null,
   "lastKernelId": null
  },
  "kernelspec": {
   "display_name": "Julia 1.8.2",
   "language": "julia",
   "name": "julia-1.8"
  },
  "language_info": {
   "file_extension": ".jl",
   "mimetype": "application/julia",
   "name": "julia",
   "version": "1.8.2"
  }
 },
 "nbformat": 4,
 "nbformat_minor": 5
}
