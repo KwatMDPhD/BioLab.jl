{
 "cells": [
  {
   "cell_type": "code",
   "execution_count": null,
   "id": "aeb81560-8160-485e-a48b-8a1b1f0dfd4e",
   "metadata": {
    "execution": {
     "iopub.execute_input": "2023-02-23T14:57:34.727000Z",
     "iopub.status.busy": "2023-02-23T14:57:34.457000Z",
     "iopub.status.idle": "2023-02-23T14:57:38.891000Z",
     "shell.execute_reply": "2023-02-23T14:57:38.882000Z"
    }
   },
   "outputs": [],
   "source": [
    "include(\"_.jl\")\n",
    "\n",
    "fr_ = (0.0, 0.001, 0.025, 0.05, 0.5, 0.95, 0.975, 0.999, 1)"
   ]
  },
  {
   "cell_type": "markdown",
   "id": "7ae8d92b-8aab-4b19-9a7e-172628e7dfc8",
   "metadata": {},
   "source": [
    "## get_z_score"
   ]
  },
  {
   "cell_type": "code",
   "execution_count": null,
   "id": "a20437ee",
   "metadata": {
    "execution": {
     "iopub.execute_input": "2023-02-23T14:57:39.103000Z",
     "iopub.status.busy": "2023-02-23T14:57:38.892000Z",
     "iopub.status.idle": "2023-02-23T14:57:41.503000Z",
     "shell.execute_reply": "2023-02-23T14:57:41.503000Z"
    }
   },
   "outputs": [],
   "source": [
    "atol = 0.01\n",
    "\n",
    "for (cu, re) in zip(fr_, (-Inf, -3.09, -1.96, -1.64, 0.0, 1.64, 1.96, 3.09, Inf))\n",
    "\n",
    "    BioLab.String.print_header(cu)\n",
    "\n",
    "    @test isapprox(BioLab.Statistics.get_z_score(cu), re; atol)\n",
    "\n",
    "    @code_warntype BioLab.Statistics.get_z_score(cu)\n",
    "\n",
    "    # 4.916 ns (0 allocations: 0 bytes)\n",
    "    # 11.386 ns (0 allocations: 0 bytes)\n",
    "    # 11.386 ns (0 allocations: 0 bytes)\n",
    "    # 7.716 ns (0 allocations: 0 bytes)\n",
    "    # 7.382 ns (0 allocations: 0 bytes)\n",
    "    # 7.674 ns (0 allocations: 0 bytes)\n",
    "    # 16.449 ns (0 allocations: 0 bytes)\n",
    "    # 16.491 ns (0 allocations: 0 bytes)\n",
    "    # 6.458 ns (0 allocations: 0 bytes)\n",
    "    # @btime BioLab.Statistics.get_z_score($cu)\n",
    "\n",
    "end"
   ]
  },
  {
   "cell_type": "markdown",
   "id": "271fc92d",
   "metadata": {},
   "source": [
    "## get_confidence_interval"
   ]
  },
  {
   "cell_type": "code",
   "execution_count": null,
   "id": "7cacb503-48b5-4466-90dd-45ff298ae1a6",
   "metadata": {
    "execution": {
     "iopub.execute_input": "2023-02-23T14:57:41.504000Z",
     "iopub.status.busy": "2023-02-23T14:57:41.504000Z",
     "iopub.status.idle": "2023-02-23T14:57:41.588000Z",
     "shell.execute_reply": "2023-02-23T14:57:41.588000Z"
    }
   },
   "outputs": [],
   "source": [
    "for (co, re) in zip(\n",
    "    fr_,\n",
    "    (\n",
    "        (-0.0, 0.0),\n",
    "        (-0.001253314465432556, 0.0012533144654324167),\n",
    "        (-0.03133798202142661, 0.031337982021426465),\n",
    "        (-0.06270677794321385, 0.06270677794321385),\n",
    "        (-0.6744897501960818, 0.6744897501960818),\n",
    "        (-1.9599639845400576, 1.9599639845400576),\n",
    "        (-2.2414027276049495, 2.2414027276049517),\n",
    "        (-3.290526731491899, 3.290526731491931),\n",
    "        (-Inf, Inf),\n",
    "    ),\n",
    ")\n",
    "\n",
    "    BioLab.String.print_header(co)\n",
    "\n",
    "    @test BioLab.Statistics.get_confidence_interval(co) == re\n",
    "\n",
    "    @code_warntype BioLab.Statistics.get_confidence_interval(co)\n",
    "\n",
    "    # 16.658 ns (0 allocations: 0 bytes)\n",
    "    # 16.616 ns (0 allocations: 0 bytes)\n",
    "    # 16.616 ns (0 allocations: 0 bytes)\n",
    "    # 16.658 ns (0 allocations: 0 bytes)\n",
    "    # 16.658 ns (0 allocations: 0 bytes)\n",
    "    # 30.601 ns (0 allocations: 0 bytes)\n",
    "    # 30.570 ns (0 allocations: 0 bytes)\n",
    "    # 30.600 ns (0 allocations: 0 bytes)\n",
    "    # 12.179 ns (0 allocations: 0 bytes)\n",
    "    # @btime BioLab.Statistics.get_confidence_interval($co)\n",
    "\n",
    "end"
   ]
  }
 ],
 "metadata": {
  "@webio": {
   "lastCommId": null,
   "lastKernelId": null
  },
  "kernelspec": {
   "display_name": "Julia 1.8.5",
   "language": "julia",
   "name": "julia-1.8"
  },
  "language_info": {
   "file_extension": ".jl",
   "mimetype": "application/julia",
   "name": "julia",
   "version": "1.8.5"
  }
 },
 "nbformat": 4,
 "nbformat_minor": 5
}
