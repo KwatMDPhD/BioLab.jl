{
 "cells": [
  {
   "outputs": [],
   "cell_type": "code",
   "source": [
    "using BioLab"
   ],
   "id": "baf12f00",
   "metadata": {},
   "execution_count": null
  },
  {
   "outputs": [],
   "cell_type": "code",
   "source": [
    "fr_ = (0.0, 0.001, 0.025, 0.05, 0.5, 0.95, 0.975, 0.999, 1)\n",
    "\n",
    ";"
   ],
   "id": "794ac319-7f74-4ac2-b91b-9e2d8ad0905d",
   "metadata": {},
   "execution_count": null
  },
  {
   "cell_type": "markdown",
   "source": [
    "## get_z_score"
   ],
   "id": "7ae8d92b-8aab-4b19-9a7e-172628e7dfc8",
   "metadata": {}
  },
  {
   "outputs": [],
   "cell_type": "code",
   "source": [
    "for cu in fr_\n",
    "\n",
    "    println(BioLab.Statistics.get_z_score(cu))\n",
    "\n",
    "end"
   ],
   "id": "a20437ee",
   "metadata": {},
   "execution_count": null
  },
  {
   "cell_type": "markdown",
   "source": [
    "## get_confidence_interval"
   ],
   "id": "271fc92d",
   "metadata": {}
  },
  {
   "outputs": [],
   "cell_type": "code",
   "source": [
    "for co in fr_\n",
    "\n",
    "    println(BioLab.Statistics.get_confidence_interval(co))\n",
    "\n",
    "end"
   ],
   "id": "d3ecf358",
   "metadata": {},
   "execution_count": null
  }
 ],
 "nbformat_minor": 5,
 "metadata": {
  "language_info": {
   "file_extension": ".jl",
   "mimetype": "application/julia",
   "name": "julia",
   "version": "1.8.5"
  },
  "@webio": {
   "lastKernelId": null,
   "lastCommId": null
  },
  "kernelspec": {
   "name": "julia-1.8",
   "display_name": "Julia 1.8.2",
   "language": "julia"
  }
 },
 "nbformat": 4
}
