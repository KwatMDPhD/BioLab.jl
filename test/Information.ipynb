{
 "cells": [
  {
   "outputs": [],
   "cell_type": "code",
   "source": [
    "using BioLab\n",
    "\n",
    "using KernelDensity"
   ],
   "id": "baf12f00",
   "metadata": {},
   "execution_count": null
  },
  {
   "cell_type": "markdown",
   "source": [
    "## get_entropy"
   ],
   "id": "e8e5cc82",
   "metadata": {}
  },
  {
   "outputs": [],
   "cell_type": "code",
   "source": [
    "BioLab.Information.get_entropy(fill(0, 10))"
   ],
   "id": "d4ec66a6",
   "metadata": {},
   "execution_count": null
  },
  {
   "outputs": [],
   "cell_type": "code",
   "source": [
    "BioLab.Information.get_entropy(fill(1, 10))"
   ],
   "id": "0ecc165a",
   "metadata": {},
   "execution_count": null
  },
  {
   "cell_type": "markdown",
   "source": [
    "## get_signal_to_noise_ratio"
   ],
   "id": "ae9c43cc",
   "metadata": {}
  },
  {
   "outputs": [],
   "cell_type": "code",
   "source": [
    "for (nu1_, nu2_) in (\n",
    "    (collect(1:3), collect(10:10:30)),\n",
    "    (fill(0, 3), fill(0, 3)),\n",
    "    (fill(1, 3), fill(0.001, 3)),\n",
    "    (fill(0.001, 3), fill(1, 3)),\n",
    "    (fill(0.001, 3), fill(10, 3)),\n",
    ")\n",
    "\n",
    "    println(BioLab.Information.get_signal_to_noise_ratio(nu1_, nu2_))\n",
    "\n",
    "end"
   ],
   "id": "6d6dd82c",
   "metadata": {},
   "execution_count": null
  },
  {
   "cell_type": "markdown",
   "source": [
    "## get_kolmogorov_smirnov_statistic\n",
    "## get_kullback_leibler_divergence\n",
    "## get_thermodynamic_breadth\n",
    "## get_thermodynamic_depth\n",
    "## get_symmetric_kullback_leibler_divergence\n",
    "## get_antisymmetric_kullback_leibler_divergence"
   ],
   "id": "6c477148-cc2b-48b9-9eb2-7d0bc723873a",
   "metadata": {}
  },
  {
   "outputs": [],
   "cell_type": "code",
   "source": [
    "function call_all(nu1_, nu2_, nu_)\n",
    "\n",
    "    vcat(\n",
    "        [\n",
    "            fu(nu1_, nu2_) for fu in (\n",
    "                BioLab.Information.get_kolmogorov_smirnov_statistic,\n",
    "                BioLab.Information.get_kullback_leibler_divergence,\n",
    "                BioLab.Information.get_thermodynamic_breadth,\n",
    "                BioLab.Information.get_thermodynamic_depth,\n",
    "            )\n",
    "        ],\n",
    "        [\n",
    "            fu(nu1_, nu2_, nu_) for fu in (\n",
    "                BioLab.Information.get_symmetric_kullback_leibler_divergence,\n",
    "                BioLab.Information.get_antisymmetric_kullback_leibler_divergence,\n",
    "            )\n",
    "        ],\n",
    "    )\n",
    "\n",
    "end"
   ],
   "id": "9a31939f",
   "metadata": {},
   "execution_count": null
  },
  {
   "outputs": [],
   "cell_type": "code",
   "source": [
    "name_ = (\n",
    "    \"kolmogorov_smirnov_statistic\",\n",
    "    \"kullback_leibler_divergence\",\n",
    "    \"thermodynamic_breadth\",\n",
    "    \"thermodynamic_depth\",\n",
    "    \"symmetric_kullback_leibler_divergence\",\n",
    "    \"antisymmetric_kullback_leibler_divergence\",\n",
    ")\n",
    "\n",
    ";"
   ],
   "id": "cc6d285f",
   "metadata": {},
   "execution_count": null
  },
  {
   "outputs": [],
   "cell_type": "code",
   "source": [
    "for (nu1_, nu2_) in (([1, 1, 1], [1, 1, 1]), ([1, 2, 3], [10, 20, 30]))\n",
    "\n",
    "    nu_ = 0.2 * nu1_ + 0.8 * nu2_\n",
    "\n",
    "    BioLab.Plot.plot_scatter((nu1_, nu2_))\n",
    "\n",
    "    BioLab.Plot.plot_scatter(call_all(nu1_, nu2_, nu_), name_ = name_)\n",
    "\n",
    "end"
   ],
   "id": "ea87c8a5",
   "metadata": {},
   "execution_count": null
  },
  {
   "outputs": [],
   "cell_type": "code",
   "source": [
    "n = 100\n",
    "\n",
    "nu1_ = BioLab.VectorNumber.shift_minimum(randn(n), \"0<\")\n",
    "\n",
    "nu1s_ = [nu1 + 1.0 for nu1 in nu1_]\n",
    "\n",
    "nu2_ = BioLab.VectorNumber.shift_minimum(randn(n), \"0<\")\n",
    "\n",
    ";"
   ],
   "id": "dced1611",
   "metadata": {},
   "execution_count": null
  },
  {
   "outputs": [],
   "cell_type": "code",
   "source": [
    "for (nu1_, nu2_) in ((nu1_, nu1_), (nu1_, nu1s_), (nu1_, nu2_))\n",
    "\n",
    "    un1 = kde(nu1_)\n",
    "\n",
    "    un2 = kde(nu2_)\n",
    "\n",
    "    de1 = un1.density\n",
    "\n",
    "    de2 = un2.density\n",
    "\n",
    "    de3 = 0.2 * de1 + 0.8 * de2\n",
    "\n",
    "    BioLab.Plot.plot_scatter(\n",
    "        (de1, de2),\n",
    "        (collect(un1.x), collect(un2.x));\n",
    "        layout = Dict(\"yaxis\" => Dict(\"title\" => \"Density\"), \"xaxis\" => Dict(\"title\" => \"Grid\")),\n",
    "    )\n",
    "\n",
    "    BioLab.Plot.plot_scatter(call_all(de1, de2, de3), name_ = name_)\n",
    "\n",
    "end"
   ],
   "id": "d36500da",
   "metadata": {},
   "execution_count": null
  },
  {
   "cell_type": "markdown",
   "source": [
    "## get_mutual_information\n",
    "## get_information_coefficient"
   ],
   "id": "6ec510da-ea5e-41c7-9348-03a6dec65997",
   "metadata": {}
  },
  {
   "outputs": [],
   "cell_type": "code",
   "source": [
    "nu1_ = collect(0:10)\n",
    "\n",
    "nu2_ = collect(0:10:100)\n",
    "\n",
    "bi = kde((nu1_, nu2_), npoints = (8, 8))\n",
    "\n",
    "y = collect(bi.y)\n",
    "\n",
    "x = collect(bi.x)\n",
    "\n",
    "z = bi.density\n",
    "\n",
    "BioLab.Plot.plot_heat_map(z, y, x)"
   ],
   "id": "1231a93c",
   "metadata": {},
   "execution_count": null
  }
 ],
 "nbformat_minor": 5,
 "metadata": {
  "language_info": {
   "file_extension": ".jl",
   "mimetype": "application/julia",
   "name": "julia",
   "version": "1.8.5"
  },
  "@webio": {
   "lastKernelId": null,
   "lastCommId": null
  },
  "kernelspec": {
   "name": "julia-1.8",
   "display_name": "Julia 1.8.2",
   "language": "julia"
  }
 },
 "nbformat": 4
}
