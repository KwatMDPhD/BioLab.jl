{
 "cells": [
  {
   "cell_type": "code",
   "execution_count": null,
   "id": "baf12f00",
   "metadata": {},
   "outputs": [],
   "source": [
    "using OnePiece\n",
    "\n",
    "using KernelDensity"
   ]
  },
  {
   "cell_type": "markdown",
   "id": "e8e5cc82",
   "metadata": {},
   "source": [
    "## get_entropy"
   ]
  },
  {
   "cell_type": "code",
   "execution_count": null,
   "id": "d4ec66a6",
   "metadata": {},
   "outputs": [],
   "source": [
    "OnePiece.Information.get_entropy(fill(0, 10))"
   ]
  },
  {
   "cell_type": "code",
   "execution_count": null,
   "id": "0ecc165a",
   "metadata": {},
   "outputs": [],
   "source": [
    "OnePiece.Information.get_entropy(fill(1, 10))"
   ]
  },
  {
   "cell_type": "markdown",
   "id": "ae9c43cc",
   "metadata": {},
   "source": [
    "## get_signal_to_noise_ratio"
   ]
  },
  {
   "cell_type": "code",
   "execution_count": null,
   "id": "6d6dd82c",
   "metadata": {},
   "outputs": [],
   "source": [
    "for (nu1_, nu2_) in [\n",
    "    [collect(1:3), collect(10:10:30)],\n",
    "    [fill(0, 3), fill(0, 3)],\n",
    "    [fill(1, 3), fill(0.001, 3)],\n",
    "    [fill(0.001, 3), fill(1, 3)],\n",
    "    [fill(0.001, 3), fill(10, 3)],\n",
    "]\n",
    "\n",
    "    println(OnePiece.Information.get_signal_to_noise_ratio(nu1_, nu2_))\n",
    "\n",
    "end"
   ]
  },
  {
   "cell_type": "markdown",
   "id": "6c477148-cc2b-48b9-9eb2-7d0bc723873a",
   "metadata": {},
   "source": [
    "## get_kolmogorov_smirnov_statistic\n",
    "\n",
    "## get_kullback_leibler_divergence\n",
    "\n",
    "## get_thermodynamic_breadth\n",
    "\n",
    "## get_thermodynamic_depth\n",
    "\n",
    "## get_symmetric_kullback_leibler_divergence\n",
    "\n",
    "## get_antisymmetric_kullback_leibler_divergence"
   ]
  },
  {
   "cell_type": "code",
   "execution_count": null,
   "id": "9a31939f",
   "metadata": {},
   "outputs": [],
   "source": [
    "function call_all(nu1_, nu2_, nu_)\n",
    "\n",
    "    vcat(\n",
    "        [\n",
    "            fu(nu1_, nu2_) for fu in [\n",
    "                OnePiece.Information.get_kolmogorov_smirnov_statistic,\n",
    "                OnePiece.Information.get_kullback_leibler_divergence,\n",
    "                OnePiece.Information.get_thermodynamic_breadth,\n",
    "                OnePiece.Information.get_thermodynamic_depth,\n",
    "            ]\n",
    "        ],\n",
    "        [\n",
    "            fu(nu1_, nu2_, nu_) for fu in [\n",
    "                OnePiece.Information.get_symmetric_kullback_leibler_divergence,\n",
    "                OnePiece.Information.get_antisymmetric_kullback_leibler_divergence,\n",
    "            ]\n",
    "        ],\n",
    "    )\n",
    "\n",
    "end"
   ]
  },
  {
   "cell_type": "code",
   "execution_count": null,
   "id": "cc6d285f",
   "metadata": {},
   "outputs": [],
   "source": [
    "name_ = [\n",
    "    \"kolmogorov_smirnov_statistic\",\n",
    "    \"kullback_leibler_divergence\",\n",
    "    \"thermodynamic_breadth\",\n",
    "    \"thermodynamic_depth\",\n",
    "    \"symmetric_kullback_leibler_divergence\",\n",
    "    \"antisymmetric_kullback_leibler_divergence\",\n",
    "]\n",
    "\n",
    ";"
   ]
  },
  {
   "cell_type": "code",
   "execution_count": null,
   "id": "ea87c8a5",
   "metadata": {},
   "outputs": [],
   "source": [
    "for (nu1_, nu2_) in [[[1, 1, 1], [1, 1, 1]], [[1, 2, 3], [10, 20, 30]]]\n",
    "\n",
    "    te = 0.2 * nu1_ + 0.8 * nu2_\n",
    "\n",
    "    display(OnePiece.Plot.plot_scatter([nu1_, nu2_]))\n",
    "\n",
    "    display(OnePiece.Plot.plot_scatter(call_all(nu1_, nu2_, te); name_ = name_))\n",
    "\n",
    "end"
   ]
  },
  {
   "cell_type": "code",
   "execution_count": null,
   "id": "dced1611",
   "metadata": {},
   "outputs": [],
   "source": [
    "n_po = 100\n",
    "\n",
    "nu1_ = OnePiece.VectorNumber.shift_minimum(randn(n_po), \"0<\")\n",
    "\n",
    "nu1s_ = [nu1 + 1 for nu1 in nu1_]\n",
    "\n",
    "nu2_ = OnePiece.VectorNumber.shift_minimum(randn(n_po), \"0<\")\n",
    "\n",
    ";"
   ]
  },
  {
   "cell_type": "code",
   "execution_count": null,
   "id": "d36500da",
   "metadata": {},
   "outputs": [],
   "source": [
    "for (nu1_, nu2_) in [(nu1_, nu1_), (nu1_, nu1s_), (nu1_, nu2_)]\n",
    "\n",
    "    un1 = kde(nu1_)\n",
    "\n",
    "    un2 = kde(nu2_)\n",
    "\n",
    "    de1 = un1.density\n",
    "\n",
    "    de2 = un2.density\n",
    "\n",
    "    de3 = 0.2 * de1 + 0.8 * de2\n",
    "\n",
    "    display(\n",
    "        OnePiece.Plot.plot_scatter(\n",
    "            [de1, de2],\n",
    "            [collect(un1.x), collect(un2.x)];\n",
    "            layout = Dict(\n",
    "                \"yaxis\" => Dict(\"title\" => \"Density\"),\n",
    "                \"xaxis\" => Dict(\"title\" => \"Grid\"),\n",
    "            ),\n",
    "        ),\n",
    "    )\n",
    "\n",
    "    display(OnePiece.Plot.plot_scatter(call_all(de1, de2, de3); name_ = name_))\n",
    "\n",
    "end"
   ]
  },
  {
   "cell_type": "markdown",
   "id": "6ec510da-ea5e-41c7-9348-03a6dec65997",
   "metadata": {},
   "source": [
    "## get_mutual_information\n",
    "\n",
    "## get_information_coefficient"
   ]
  },
  {
   "cell_type": "code",
   "execution_count": null,
   "id": "1231a93c",
   "metadata": {},
   "outputs": [],
   "source": [
    "nu1_ = collect(0:10)\n",
    "\n",
    "nu2_ = collect(0:10:100)\n",
    "\n",
    "bi = kde((nu1_, nu2_), npoints = (8, 8))\n",
    "\n",
    "y = collect(bi.y)\n",
    "\n",
    "x = collect(bi.x)\n",
    "\n",
    "z = bi.density\n",
    "\n",
    "OnePiece.Plot.plot_heat_map(z, y, x)"
   ]
  }
 ],
 "metadata": {
  "@webio": {
   "lastCommId": null,
   "lastKernelId": null
  },
  "kernelspec": {
   "display_name": "Julia 1.8.2",
   "language": "julia",
   "name": "julia-1.8"
  },
  "language_info": {
   "file_extension": ".jl",
   "mimetype": "application/julia",
   "name": "julia",
   "version": "1.8.2"
  }
 },
 "nbformat": 4,
 "nbformat_minor": 5
}
