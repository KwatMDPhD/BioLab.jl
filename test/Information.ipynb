{
 "cells": [
  {
   "outputs": [],
   "cell_type": "code",
   "source": [
    "using KernelDensity\n",
    "\n",
    "include(\"_.jl\")"
   ],
   "id": "baf12f00",
   "metadata": {},
   "execution_count": null
  },
  {
   "cell_type": "markdown",
   "source": [
    "## get_entropy"
   ],
   "id": "e8e5cc82",
   "metadata": {}
  },
  {
   "outputs": [],
   "cell_type": "code",
   "source": [
    "for nu_ in (fill(0.0, 10), fill(1.0, 10))\n",
    "\n",
    "    # TODO: `@test`.\n",
    "    BioLab.Information.get_entropy(nu_)\n",
    "\n",
    "    @code_warntype BioLab.Information.get_entropy(nu_)\n",
    "\n",
    "    # 1.167 ns (0 allocations: 0 bytes)\n",
    "    @btime BioLab.Information.get_entropy($nu_)\n",
    "\n",
    "end"
   ],
   "id": "d4ec66a6",
   "metadata": {},
   "execution_count": null
  },
  {
   "cell_type": "markdown",
   "source": [
    "## get_signal_to_noise_ratio"
   ],
   "id": "ae9c43cc",
   "metadata": {}
  },
  {
   "outputs": [],
   "cell_type": "code",
   "source": [
    "for (nu1_, nu2_) in (\n",
    "    (collect(1:3), collect(10:10:30)),\n",
    "    (fill(0, 3), fill(0, 3)),\n",
    "    (fill(1, 3), fill(0.001, 3)),\n",
    "    (fill(0.001, 3), fill(1, 3)),\n",
    "    (fill(0.001, 3), fill(10, 3)),\n",
    ")\n",
    "\n",
    "    BioLab.String.print_header(\"$nu1_\\n$nu2_\")\n",
    "\n",
    "    # TODO: `@test`.\n",
    "    println(BioLab.Information.get_signal_to_noise_ratio(nu1_, nu2_))\n",
    "\n",
    "    @code_warntype BioLab.Information.get_signal_to_noise_ratio(nu1_, nu2_)\n",
    "\n",
    "    # 22.130 ns (0 allocations: 0 bytes)\n",
    "    # 10.301 ns (0 allocations: 0 bytes)\n",
    "    # 28.960 ns (0 allocations: 0 bytes)\n",
    "    # 28.668 ns (0 allocations: 0 bytes)\n",
    "    # 28.256 ns (0 allocations: 0 bytes)\n",
    "    @btime BioLab.Information.get_signal_to_noise_ratio($nu1_, $nu2_)\n",
    "\n",
    "end"
   ],
   "id": "6d6dd82c",
   "metadata": {},
   "execution_count": null
  },
  {
   "cell_type": "markdown",
   "source": [
    "## get_*"
   ],
   "id": "e62517af-873e-4b94-9911-edb767c93cf1",
   "metadata": {}
  },
  {
   "outputs": [],
   "cell_type": "code",
   "source": [
    "n = 10\n",
    "\n",
    "nu1_ = BioLab.VectorNumber.shift_minimum(randn(n), \"0<\")\n",
    "\n",
    "nu2_ = BioLab.VectorNumber.shift_minimum(randn(n), \"0<\")\n",
    "\n",
    "nu1s_ = [nu + 1.0 for nu in nu1_]\n",
    "\n",
    "nu2s_ = [nu + 1.0 for nu in nu2_]\n",
    "\n",
    "ar_ = (\n",
    "    ([1.0, 1, 1], [1.0, 1, 1]),\n",
    "    ([1.0, 2, 3], [10.0, 20, 30]),\n",
    "    (\n",
    "        (kde(nu1_).density, kde(nu2_).density) for\n",
    "        (nu1_, nu2_) in ((nu1_, nu1_), (nu1_, nu2_), (nu1s_, nu2s_))\n",
    "    )...,\n",
    ")"
   ],
   "id": "972e2182-4cf5-4d5f-b142-5eee80854238",
   "metadata": {},
   "execution_count": null
  },
  {
   "cell_type": "markdown",
   "source": [
    "## get_kullback_leibler_divergence"
   ],
   "id": "c653a81a-e9af-47cf-9b3d-df587d3de23c",
   "metadata": {}
  },
  {
   "outputs": [],
   "cell_type": "code",
   "source": [
    "for (nu1_, nu2_) in ar_\n",
    "\n",
    "    fu = BioLab.Information.get_kullback_leibler_divergence\n",
    "\n",
    "    # TODO: `@test`.\n",
    "    re_ = fu(nu1_, nu2_)\n",
    "\n",
    "    BioLab.Plot.plot_scatter((nu1_, nu2_, re_); name_ = [1, 2, string(fu)])\n",
    "\n",
    "    @code_warntype fu(nu1_, nu2_)\n",
    "\n",
    "    # 32.696 ns (1 allocation: 80 bytes)\n",
    "    # 34.696 ns (1 allocation: 80 bytes)\n",
    "    # 6.990 μs (1 allocation: 16.12 KiB)\n",
    "    # 7.917 μs (1 allocation: 16.12 KiB)\n",
    "    # 7.927 μs (1 allocation: 16.12 KiB)\n",
    "    @btime $fu($nu1_, $nu2_)\n",
    "\n",
    "end"
   ],
   "id": "07f75303-1e9f-4f34-a7cc-6eb25ecd758c",
   "metadata": {},
   "execution_count": null
  },
  {
   "cell_type": "markdown",
   "source": [
    "## get_thermodynamic_breadth"
   ],
   "id": "349651a2-a5be-48a5-ae1b-28f52431e886",
   "metadata": {}
  },
  {
   "outputs": [],
   "cell_type": "code",
   "source": [
    "for (nu1_, nu2_) in ar_\n",
    "\n",
    "    fu = BioLab.Information.get_thermodynamic_breadth\n",
    "\n",
    "    # TODO: `@test`.\n",
    "    re_ = fu(nu1_, nu2_)\n",
    "\n",
    "    BioLab.Plot.plot_scatter((nu1_, nu2_, re_); name_ = [1, 2, string(fu)])\n",
    "\n",
    "    @code_warntype fu(nu1_, nu2_)\n",
    "\n",
    "    # 80.364 ns (3 allocations: 240 bytes)\n",
    "    # 86.498 ns (3 allocations: 240 bytes)\n",
    "    # 14.417 μs (3 allocations: 48.38 KiB)\n",
    "    # 16.083 μs (3 allocations: 48.38 KiB)\n",
    "    # 16.125 μs (3 allocations: 48.38 KiB)\n",
    "    @btime $fu($nu1_, $nu2_)\n",
    "\n",
    "end"
   ],
   "id": "6c05683f-8616-41a8-8b41-3011ce2110da",
   "metadata": {},
   "execution_count": null
  },
  {
   "cell_type": "markdown",
   "source": [
    "## get_thermodynamic_depth"
   ],
   "id": "bc892d53-438b-4430-8992-22f7281b97d8",
   "metadata": {}
  },
  {
   "outputs": [],
   "cell_type": "code",
   "source": [
    "for (nu1_, nu2_) in ar_\n",
    "\n",
    "    fu = BioLab.Information.get_thermodynamic_depth\n",
    "\n",
    "    # TODO: `@test`.\n",
    "    re_ = fu(nu1_, nu2_)\n",
    "\n",
    "    BioLab.Plot.plot_scatter((nu1_, nu2_, re_); name_ = [1, 2, string(fu)])\n",
    "\n",
    "    @code_warntype fu(nu1_, nu2_)\n",
    "\n",
    "    # 80.364 ns (3 allocations: 240 bytes)\n",
    "    # 86.498 ns (3 allocations: 240 bytes)\n",
    "    # 14.417 μs (3 allocations: 48.38 KiB)\n",
    "    # 16.083 μs (3 allocations: 48.38 KiB)\n",
    "    # 16.125 μs (3 allocations: 48.38 KiB)\n",
    "    @btime $fu($nu1_, $nu2_)\n",
    "\n",
    "end"
   ],
   "id": "d8fe9d8f-76e2-4556-a612-9ed29655e494",
   "metadata": {},
   "execution_count": null
  },
  {
   "cell_type": "markdown",
   "source": [
    "## get_symmetric_kullback_leibler_divergence"
   ],
   "id": "a3c6e35f-3dbc-4a91-a4ce-877b8977946b",
   "metadata": {}
  },
  {
   "outputs": [],
   "cell_type": "code",
   "source": [
    "for (nu1_, nu2_) in ar_\n",
    "\n",
    "    nu3_ = (nu1_ + nu2_) / 2\n",
    "\n",
    "    fu = BioLab.Information.get_symmetric_kullback_leibler_divergence\n",
    "\n",
    "    # TODO: `@test`.\n",
    "    re_ = fu(nu1_, nu2_, nu3_)\n",
    "\n",
    "    BioLab.Plot.plot_scatter((nu1_, nu2_, nu3_, re_); name_ = [1, 2, 3, string(fu)])\n",
    "\n",
    "    @code_warntype fu(nu1_, nu2_, nu3_)\n",
    "\n",
    "    # 80.877 ns (3 allocations: 240 bytes)\n",
    "    # 86.671 ns (3 allocations: 240 bytes)\n",
    "    # 14.416 μs (3 allocations: 48.38 KiB) \n",
    "    # 16.000 μs (3 allocations: 48.38 KiB)\n",
    "    # 16.000 μs (3 allocations: 48.38 KiB)\n",
    "    @btime $fu($nu1_, $nu2_, $nu3_)\n",
    "\n",
    "end"
   ],
   "id": "5b9e99d5-4b15-4fe2-91ee-b4a9e3dc4248",
   "metadata": {},
   "execution_count": null
  },
  {
   "cell_type": "markdown",
   "source": [
    "## get_antisymmetric_kullback_leibler_divergence"
   ],
   "id": "425e09d5-74d3-4aef-9dbe-ef7b36fff01c",
   "metadata": {}
  },
  {
   "outputs": [],
   "cell_type": "code",
   "source": [
    "for (nu1_, nu2_) in ar_\n",
    "\n",
    "    nu3_ = (nu1_ + nu2_) / 2\n",
    "\n",
    "    fu = BioLab.Information.get_antisymmetric_kullback_leibler_divergence\n",
    "\n",
    "    # TODO: `@test`.\n",
    "    re_ = fu(nu1_, nu2_, nu3_)\n",
    "\n",
    "    BioLab.Plot.plot_scatter((nu1_, nu2_, nu3_, re_); name_ = [1, 2, 3, string(fu)])\n",
    "\n",
    "    @code_warntype fu(nu1_, nu2_, nu3_)\n",
    "\n",
    "    # 80.877 ns (3 allocations: 240 bytes)\n",
    "    # 86.671 ns (3 allocations: 240 bytes)\n",
    "    # 14.416 μs (3 allocations: 48.38 KiB) \n",
    "    # 16.000 μs (3 allocations: 48.38 KiB)\n",
    "    # 16.000 μs (3 allocations: 48.38 KiB)\n",
    "    @btime $fu($nu1_, $nu2_, $nu3_)\n",
    "\n",
    "end"
   ],
   "id": "9a31939f",
   "metadata": {},
   "execution_count": null
  },
  {
   "cell_type": "markdown",
   "source": [
    "## get_mutual_information"
   ],
   "id": "7b90e550-c95c-482f-959e-4c93236b01c0",
   "metadata": {}
  },
  {
   "outputs": [],
   "cell_type": "code",
   "source": [
    "nu1_ = collect(0.0:10)\n",
    "\n",
    "nu2_ = collect(0.0:10:100)\n",
    "\n",
    "# TODO: `@test`.\n",
    "println(BioLab.Information.get_mutual_information(nu1_, nu2_))\n",
    "\n",
    "@code_warntype BioLab.Information.get_mutual_information(nu1_, nu2_)\n",
    "\n",
    "# 1.167 ns (0 allocations: 0 bytes)\n",
    "@btime BioLab.Information.get_mutual_information($nu1_, $nu2_)"
   ],
   "id": "4a16a0d9-785b-4959-b496-1babaa597a95",
   "metadata": {},
   "execution_count": null
  },
  {
   "cell_type": "markdown",
   "source": [
    "## get_information_coefficient"
   ],
   "id": "3bba8489-f390-4588-808e-066d7725ec7b",
   "metadata": {}
  },
  {
   "outputs": [],
   "cell_type": "code",
   "source": [
    "bi = kde((nu1_, nu2_), npoints = (8, 8))\n",
    "\n",
    "y = collect(bi.y)\n",
    "\n",
    "x = collect(bi.x)\n",
    "\n",
    "z = bi.density\n",
    "\n",
    "BioLab.Plot.plot_heat_map(z, y, x)\n",
    "\n",
    "# TODO: `@test`.\n",
    "println(BioLab.Information.get_information_coefficient(nu1_, nu2_))\n",
    "\n",
    "@code_warntype BioLab.Information.get_information_coefficient(nu1_, nu2_)\n",
    "\n",
    "# 1.167 ns (0 allocations: 0 bytes)\n",
    "@btime BioLab.Information.get_information_coefficient($nu1_, $nu2_)"
   ],
   "id": "1231a93c",
   "metadata": {},
   "execution_count": null
  }
 ],
 "nbformat_minor": 5,
 "metadata": {
  "language_info": {
   "file_extension": ".jl",
   "mimetype": "application/julia",
   "name": "julia",
   "version": "1.8.5"
  },
  "@webio": {
   "lastKernelId": null,
   "lastCommId": null
  },
  "kernelspec": {
   "name": "julia-1.8",
   "display_name": "Julia 1.8.5",
   "language": "julia"
  }
 },
 "nbformat": 4
}
