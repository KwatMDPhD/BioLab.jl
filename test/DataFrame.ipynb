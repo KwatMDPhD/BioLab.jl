{
 "cells": [
  {
   "outputs": [],
   "cell_type": "code",
   "source": [
    "using DataFrames\n",
    "\n",
    "include(\"_.jl\")"
   ],
   "id": "ce35e3eb",
   "metadata": {},
   "execution_count": null
  },
  {
   "cell_type": "markdown",
   "source": [
    "## make"
   ],
   "id": "4e8e87d1-81d2-427a-bfa6-15f53ac62fe2",
   "metadata": {}
  },
  {
   "outputs": [],
   "cell_type": "code",
   "source": [
    "an__ = (\n",
    "    vcat(\"Row Name\", [\"Column $id\" for id in 1:5]),\n",
    "    [\"Row 1\", 1, 2, 3, 4, 5.0],\n",
    "    [\"Row 2\", 'A', 'B', 'C', 44, 55.0],\n",
    "    [\"Row 3\", \":)\", \";)\", \":D\", 444, 555.0],\n",
    ")\n",
    "\n",
    "BioLab.DataFrame.make(an__)"
   ],
   "id": "4ca1035e-54ff-4964-b515-5e660009a4b9",
   "metadata": {},
   "execution_count": null
  },
  {
   "outputs": [],
   "cell_type": "code",
   "source": [
    "@code_warntype BioLab.DataFrame.make(an__)\n",
    "\n",
    "# 3.297 μs (43 allocations: 3.20 KiB)\n",
    "@btime BioLab.DataFrame.make($an__)"
   ],
   "id": "f21238b9-0cbb-4e70-acfc-7901228ad031",
   "metadata": {},
   "execution_count": null
  },
  {
   "cell_type": "markdown",
   "source": [
    "## make"
   ],
   "id": "4d9898dc-11f7-4fc8-9e37-7cedf69fe8a2",
   "metadata": {}
  },
  {
   "outputs": [],
   "cell_type": "code",
   "source": [
    "ro = \"Row Name\"\n",
    "\n",
    "n_ro = 3\n",
    "\n",
    "ro_ = [\"Row $id\" for id in 1:n_ro]\n",
    "\n",
    "n_co = 4\n",
    "\n",
    "co_ = [\"Column $id\" for id in 1:n_co]\n",
    "\n",
    "_x_co_x_an = rand(n_ro, n_co)\n",
    "\n",
    "ro_x_co_x_an = BioLab.DataFrame.make(ro, ro_, co_, _x_co_x_an)"
   ],
   "id": "c9115d4e-82d0-4de3-aa88-3754456ff30f",
   "metadata": {},
   "execution_count": null
  },
  {
   "cell_type": "markdown",
   "source": [
    "## separate"
   ],
   "id": "70efbe65-3e79-48b5-a37c-b518f2316b51",
   "metadata": {}
  },
  {
   "outputs": [],
   "cell_type": "code",
   "source": [
    "@test BioLab.DataFrame.separate(ro_x_co_x_an) == (ro, ro_, co_, _x_co_x_an)\n",
    "\n",
    "st = \":(\"\n",
    "\n",
    "BioLab.DataFrame.separate(ro_x_co_x_an)[2][1] = st\n",
    "\n",
    "@test ro_x_co_x_an[1, 1] != st\n",
    "\n",
    ";"
   ],
   "id": "52d21790-f599-489a-b253-aa597f9b0086",
   "metadata": {},
   "execution_count": null
  },
  {
   "outputs": [],
   "cell_type": "code",
   "source": [
    "@code_warntype BioLab.DataFrame.separate(ro_x_co_x_an)\n",
    "\n",
    "# 2.232 μs (28 allocations: 2.09 KiB)\n",
    "@btime BioLab.DataFrame.separate($ro_x_co_x_an)"
   ],
   "id": "5ffbdc01-b834-4a7f-af22-23c0d6067e26",
   "metadata": {},
   "execution_count": null
  },
  {
   "cell_type": "markdown",
   "source": [
    "## print_unique"
   ],
   "id": "4e228ebe-60e8-42d0-ae06-59b0d6c14731",
   "metadata": {}
  },
  {
   "outputs": [],
   "cell_type": "code",
   "source": [
    "ro_x_co_x_an = DataFrame(\n",
    "    \"Row Name\" => [\"Row $id\" for id in 1:3],\n",
    "    \"Column 1\" => [1, 'A', \":)\"],\n",
    "    \"Column 2\" => [2, 'B', \";)\"],\n",
    "    \"Column 3\" => [3, 'C', \":D\"],\n",
    ")"
   ],
   "id": "51fd25d7-4608-4c09-a85b-d1a909450def",
   "metadata": {},
   "execution_count": null
  },
  {
   "outputs": [],
   "cell_type": "code",
   "source": [
    "@test @check_error BioLab.DataFrame.print_unique(ro_x_co_x_an; di = 3)"
   ],
   "id": "31a9cdfb-c606-40f1-a256-888b734d8482",
   "metadata": {},
   "execution_count": null
  },
  {
   "outputs": [],
   "cell_type": "code",
   "source": [
    "di = 1\n",
    "\n",
    "BioLab.DataFrame.print_unique(ro_x_co_x_an; di)\n",
    "\n",
    "@code_warntype BioLab.DataFrame.print_unique(ro_x_co_x_an; di)"
   ],
   "id": "65e9e3ce-784e-4aa9-b50e-4d046e4fa908",
   "metadata": {},
   "execution_count": null
  },
  {
   "outputs": [],
   "cell_type": "code",
   "source": [
    "di = 2\n",
    "\n",
    "BioLab.DataFrame.print_unique(ro_x_co_x_an; di)\n",
    "\n",
    "@code_warntype BioLab.DataFrame.print_unique(ro_x_co_x_an; di)"
   ],
   "id": "dd2c07d3-ac52-4dd3-9f7b-ce333a82f8d1",
   "metadata": {},
   "execution_count": null
  },
  {
   "cell_type": "markdown",
   "source": [
    "## collapse"
   ],
   "id": "868e00e9-1746-4298-995c-1a3710c39052",
   "metadata": {}
  },
  {
   "outputs": [],
   "cell_type": "code",
   "source": [
    "for an__ in (\n",
    "    ([\"Row Name\", \"Column 1\", \"Column 2\"], [\"Row\", 1, 2], [\"Row\", 10, 20], [\"Row 3\", 100, 200]),\n",
    "    ([\"Row Name\", \"Column 1\", \"Column 2\"], [\"Row\", 1, 2], [\"Row\", 10, 20], [\"Row\", 100, 200]),\n",
    ")\n",
    "\n",
    "    BioLab.String.print_header()\n",
    "\n",
    "    ro_x_co_x_nu = BioLab.DataFrame.make(an__)\n",
    "\n",
    "    display(ro_x_co_x_nu)\n",
    "\n",
    "    display(BioLab.DataFrame.collapse(ro_x_co_x_nu))\n",
    "\n",
    "end"
   ],
   "id": "8c662eed-9505-485b-adc9-bc6a154e83ac",
   "metadata": {},
   "execution_count": null
  },
  {
   "outputs": [],
   "cell_type": "code",
   "source": [
    "ro_x_co_x_nu = BioLab.DataFrame.make((\n",
    "    [\"Row Name\", \"Column 1\", \"Column 2\"],\n",
    "    [\"Row\", 1, 2],\n",
    "    [\"Row\", 10, 20],\n",
    "    [\"Row 3\", 100, 200],\n",
    "))\n",
    "\n",
    "@code_warntype BioLab.DataFrame.collapse(ro_x_co_x_nu; pr = false)\n",
    "\n",
    "# 3.542 μs (67 allocations: 5.30 KiB)\n",
    "@btime BioLab.DataFrame.collapse($ro_x_co_x_nu; pr = $false)"
   ],
   "id": "7b926b44-cd1b-48e5-a4f7-4122e35e93ca",
   "metadata": {},
   "execution_count": null
  },
  {
   "cell_type": "markdown",
   "source": [
    "## map_to"
   ],
   "id": "83ff6fd8-752e-43b1-8d5d-9d5064bcb7f4",
   "metadata": {}
  },
  {
   "outputs": [],
   "cell_type": "code",
   "source": [
    "ro_x_co_x_an = DataFrame(\n",
    "    \"M1\" => [\"M11\", \"M12\", \"M13\", \"M14\"],\n",
    "    \"F\" => [\"F1\", \"F2\", \"F3\", missing],\n",
    "    \"M2\" => [\"M21\", \"M22\", \"M23\", \"M24\"],\n",
    ")"
   ],
   "id": "f15a5149-9a34-42fc-b29d-ec0ce65320df",
   "metadata": {},
   "execution_count": null
  },
  {
   "outputs": [],
   "cell_type": "code",
   "source": [
    "display(BioLab.DataFrame.map_to(ro_x_co_x_an, BioLab.Dict.set_with_first!, [\"M1\"], \"F\"))"
   ],
   "id": "b795f8e9-7e5d-4ce2-a16c-effde80ab89a",
   "metadata": {},
   "execution_count": null
  },
  {
   "outputs": [],
   "cell_type": "code",
   "source": [
    "# 3.927 μs (79 allocations: 4.45 KiB)\n",
    "@btime BioLab.DataFrame.map_to($ro_x_co_x_an, BioLab.Dict.set_with_first!, $[\"M1\"], $\"F\")\n",
    "\n",
    "display(BioLab.DataFrame.map_to(ro_x_co_x_an, BioLab.Dict.set_with_first!, [\"M1\", \"M2\"], \"F\"))\n",
    "\n",
    "# 5.458 μs (88 allocations: 4.79 KiB)\n",
    "@btime BioLab.DataFrame.map_to($ro_x_co_x_an, BioLab.Dict.set_with_first!, $[\"M1\", \"M2\"], $\"F\")\n",
    "\n",
    ";"
   ],
   "id": "871ae061-155c-41fe-8741-98efa89b78b8",
   "metadata": {},
   "execution_count": null
  }
 ],
 "nbformat_minor": 5,
 "metadata": {
  "language_info": {
   "file_extension": ".jl",
   "mimetype": "application/julia",
   "name": "julia",
   "version": "1.8.5"
  },
  "@webio": {
   "lastKernelId": null,
   "lastCommId": null
  },
  "kernelspec": {
   "name": "julia-1.8",
   "display_name": "Julia 1.8.5",
   "language": "julia"
  }
 },
 "nbformat": 4
}
