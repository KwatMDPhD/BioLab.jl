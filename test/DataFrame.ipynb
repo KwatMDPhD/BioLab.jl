{
 "cells": [
  {
   "cell_type": "code",
   "execution_count": null,
   "id": "ce35e3eb",
   "metadata": {},
   "outputs": [],
   "source": [
    "using DataFrames\n",
    "\n",
    "using OnePiece"
   ]
  },
  {
   "cell_type": "markdown",
   "id": "b67ba09b-c5c3-4c03-8e20-a4c990f371e0",
   "metadata": {},
   "source": [
    "## print"
   ]
  },
  {
   "cell_type": "code",
   "execution_count": null,
   "id": "78fabc7c-cf40-48a1-8fc1-6b1b5654cbab",
   "metadata": {},
   "outputs": [],
   "source": [
    "try\n",
    "\n",
    "    OnePiece.DataFrame.print(DataFrame())\n",
    "\n",
    "catch er\n",
    "\n",
    "    println(er)\n",
    "\n",
    "end"
   ]
  },
  {
   "cell_type": "code",
   "execution_count": null,
   "id": "9192da96",
   "metadata": {},
   "outputs": [],
   "source": [
    "for (n_ro, n_co) in ((2, 2), (4, 2), (2, 4), (4, 4), (6, 6), (10, 10))\n",
    "\n",
    "    println(\"=\"^99)\n",
    "\n",
    "    OnePiece.DataFrame.print(OnePiece.Matrix.simulate(n_ro, n_co))\n",
    "\n",
    "end"
   ]
  },
  {
   "cell_type": "markdown",
   "id": "4e228ebe-60e8-42d0-ae06-59b0d6c14731",
   "metadata": {},
   "source": [
    "## print_unique"
   ]
  },
  {
   "cell_type": "code",
   "execution_count": null,
   "id": "46a2b453-f4f9-4b2f-a37a-b8a78c9e693d",
   "metadata": {},
   "outputs": [],
   "source": [
    "ro_x_co_x_an = DataFrame(\n",
    "    \"Row Name\" => [\"Row $id\" for id in 1:3],\n",
    "    \"Column 1\" => [1, 'A', \":)\"],\n",
    "    \"Column 2\" => [2, 'B', \";)\"],\n",
    "    \"Column 3\" => [3, 'C', \":D\"],\n",
    ")\n",
    "\n",
    "println(ro_x_co_x_an)\n",
    "\n",
    "OnePiece.DataFrame.print_unique(ro_x_co_x_an)"
   ]
  },
  {
   "cell_type": "markdown",
   "id": "5a03bff5-9be9-403e-8bdc-173032926c67",
   "metadata": {},
   "source": [
    "## make"
   ]
  },
  {
   "cell_type": "code",
   "execution_count": null,
   "id": "e4c7038d-b7a6-4502-9757-00167e20d9fb",
   "metadata": {},
   "outputs": [],
   "source": [
    "OnePiece.DataFrame.make((\n",
    "    vcat(\"Row Name\", [\"Column $id\" for id in 1:3]),\n",
    "    [\"Row 1\", 1, 2, 3],\n",
    "    [\"Row 2\", 'A', 'B', 'C'],\n",
    "    [\"Row 3\", \":)\", \";)\", \":D\"],\n",
    "))"
   ]
  },
  {
   "cell_type": "markdown",
   "id": "ce07259a-e578-496d-b60b-21012ecd5b6f",
   "metadata": {},
   "source": [
    "## make\n",
    "## separate"
   ]
  },
  {
   "cell_type": "code",
   "execution_count": null,
   "id": "5687e830-d207-4267-82b1-1b5b9b5f92cb",
   "metadata": {},
   "outputs": [],
   "source": [
    "ro_x_co_x_an = OnePiece.DataFrame.make(\n",
    "    \"Row Name\",\n",
    "    [\"Row $id\" for id in 1:3],\n",
    "    [\"Column $id\" for id in 1:4],\n",
    "    OnePiece.Matrix.simulate(3, 4),\n",
    ")"
   ]
  },
  {
   "cell_type": "code",
   "execution_count": null,
   "id": "f33d0e60-fe8b-4c2f-8fd3-3ed395c4dc52",
   "metadata": {},
   "outputs": [],
   "source": [
    "ro, ro_, co_, ro_x_co_x_an = OnePiece.DataFrame.separate(ro_x_co_x_an)"
   ]
  },
  {
   "cell_type": "code",
   "execution_count": null,
   "id": "2485744c-44a6-4cb2-b8ce-c10815a5b5fb",
   "metadata": {},
   "outputs": [],
   "source": [
    "OnePiece.DataFrame.make(ro, ro_, co_, ro_x_co_x_an)"
   ]
  },
  {
   "cell_type": "markdown",
   "id": "868e00e9-1746-4298-995c-1a3710c39052",
   "metadata": {},
   "source": [
    "## collapse"
   ]
  },
  {
   "cell_type": "code",
   "execution_count": null,
   "id": "8c662eed-9505-485b-adc9-bc6a154e83ac",
   "metadata": {},
   "outputs": [],
   "source": [
    "for an__ in (\n",
    "    ([\"Row Name\", \"Column 1\", \"Column 2\"], [\"Row\", 1, 2], [\"Row\", 10, 20], [\"Row 3\", 100, 200]),\n",
    "    ([\"Row Name\", \"Column 1\", \"Column 2\"], [\"Row\", 1, 2], [\"Row\", 10, 20], [\"Row\", 100, 200]),\n",
    ")\n",
    "\n",
    "    println(\"=\"^99)\n",
    "\n",
    "    println(OnePiece.DataFrame.collapse(OnePiece.DataFrame.make(an__)))\n",
    "\n",
    "end"
   ]
  },
  {
   "cell_type": "markdown",
   "id": "83ff6fd8-752e-43b1-8d5d-9d5064bcb7f4",
   "metadata": {},
   "source": [
    "## map_to"
   ]
  },
  {
   "cell_type": "code",
   "execution_count": null,
   "id": "3d255f93",
   "metadata": {},
   "outputs": [],
   "source": [
    "ro_x_co_x_an = DataFrame(\n",
    "    \"M1\" => [\"M11\", \"M12\", \"M13\", \"M14\"],\n",
    "    \"F\" => [\"F1\", \"F2\", \"F3\", missing],\n",
    "    \"M2\" => [\"M21\", \"M22\", \"M23\", \"M24\"],\n",
    ")"
   ]
  },
  {
   "cell_type": "code",
   "execution_count": null,
   "id": "ec64b284",
   "metadata": {},
   "outputs": [],
   "source": [
    "OnePiece.DataFrame.map_to(ro_x_co_x_an, [\"M1\"], \"F\")"
   ]
  },
  {
   "cell_type": "code",
   "execution_count": null,
   "id": "943cb631-d50f-4c8e-adc3-e1c2132d24a2",
   "metadata": {},
   "outputs": [],
   "source": [
    "OnePiece.DataFrame.map_to(ro_x_co_x_an, [\"M1\", \"M2\"], \"F\")"
   ]
  }
 ],
 "metadata": {
  "@webio": {
   "lastCommId": null,
   "lastKernelId": null
  },
  "kernelspec": {
   "display_name": "Julia 1.8.2",
   "language": "julia",
   "name": "julia-1.8"
  },
  "language_info": {
   "file_extension": ".jl",
   "mimetype": "application/julia",
   "name": "julia",
   "version": "1.8.2"
  }
 },
 "nbformat": 4,
 "nbformat_minor": 5
}
