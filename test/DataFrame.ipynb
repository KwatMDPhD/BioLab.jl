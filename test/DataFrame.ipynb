{
 "cells": [
  {
   "cell_type": "code",
   "execution_count": null,
   "id": "ce35e3eb",
   "metadata": {
    "execution": {
     "iopub.execute_input": "2023-02-23T14:50:50.811000Z",
     "iopub.status.busy": "2023-02-23T14:50:50.537000Z",
     "iopub.status.idle": "2023-02-23T14:50:54.721000Z",
     "shell.execute_reply": "2023-02-23T14:50:54.697000Z"
    }
   },
   "outputs": [],
   "source": [
    "using DataFrames\n",
    "\n",
    "include(\"_.jl\")"
   ]
  },
  {
   "cell_type": "markdown",
   "id": "4e8e87d1-81d2-427a-bfa6-15f53ac62fe2",
   "metadata": {},
   "source": [
    "## make"
   ]
  },
  {
   "cell_type": "code",
   "execution_count": null,
   "id": "7da555ed-d1b3-496f-9392-844da3857669",
   "metadata": {
    "execution": {
     "iopub.execute_input": "2023-02-23T14:50:54.877000Z",
     "iopub.status.busy": "2023-02-23T14:50:54.722000Z",
     "iopub.status.idle": "2023-02-23T14:50:59.468000Z",
     "shell.execute_reply": "2023-02-23T14:50:59.468000Z"
    }
   },
   "outputs": [],
   "source": [
    "an__ = (\n",
    "    vcat(\"Row Name\", [\"Column $id\" for id in 1:5]),\n",
    "    [\"Row 1\", 1, 2, 3, 4, 5.0],\n",
    "    [\"Row 2\", 'A', 'B', 'C', 44, 55.0],\n",
    "    [\"Row 3\", \":)\", \";)\", \":D\", 444, 555.0],\n",
    ")\n",
    "\n",
    "# TODO: `@test`.\n",
    "display(BioLab.DataFrame.make(an__))\n",
    "\n",
    "@code_warntype BioLab.DataFrame.make(an__)\n",
    "\n",
    "# 3.266 μs (43 allocations: 3.20 KiB)\n",
    "# @btime BioLab.DataFrame.make($an__)"
   ]
  },
  {
   "cell_type": "markdown",
   "id": "771e3b4b-a559-4418-9979-3f60a8c37966",
   "metadata": {},
   "source": [
    "## make"
   ]
  },
  {
   "cell_type": "code",
   "execution_count": null,
   "id": "1c4ef0e5-2bf7-49bb-8ae6-4e13af6ebca8",
   "metadata": {
    "execution": {
     "iopub.execute_input": "2023-02-23T14:50:59.470000Z",
     "iopub.status.busy": "2023-02-23T14:50:59.470000Z",
     "iopub.status.idle": "2023-02-23T14:50:59.716000Z",
     "shell.execute_reply": "2023-02-23T14:50:59.715000Z"
    }
   },
   "outputs": [],
   "source": [
    "n_ro = 3\n",
    "\n",
    "n_co = 4\n",
    "\n",
    "ro = \"Row Name\"\n",
    "\n",
    "ro_ = [\"Row $id\" for id in 1:n_ro]\n",
    "\n",
    "co_ = [\"Column $id\" for id in 1:n_co]\n",
    "\n",
    "_x_co_x_an = rand(n_ro, n_co)\n",
    "\n",
    "ro_x_co_x_an = BioLab.DataFrame.make(ro, ro_, co_, _x_co_x_an)\n",
    "\n",
    "# TODO: `@test`.\n",
    "display(ro_x_co_x_an)\n",
    "\n",
    "@code_warntype BioLab.DataFrame.make(ro, ro_, co_, _x_co_x_an)\n",
    "\n",
    "# 1.171 μs (26 allocations: 2.27 KiB)\n",
    "# @btime BioLab.DataFrame.make($ro, $ro_, $co_, $_x_co_x_an)"
   ]
  },
  {
   "cell_type": "markdown",
   "id": "70efbe65-3e79-48b5-a37c-b518f2316b51",
   "metadata": {},
   "source": [
    "## separate"
   ]
  },
  {
   "cell_type": "code",
   "execution_count": null,
   "id": "ab2313d8-e4cf-4a27-a050-2b445b3cb9f5",
   "metadata": {
    "execution": {
     "iopub.execute_input": "2023-02-23T14:50:59.718000Z",
     "iopub.status.busy": "2023-02-23T14:50:59.718000Z",
     "iopub.status.idle": "2023-02-23T14:51:00.390000Z",
     "shell.execute_reply": "2023-02-23T14:51:00.390000Z"
    }
   },
   "outputs": [],
   "source": [
    "@test BioLab.DataFrame.separate(ro_x_co_x_an) == (ro, ro_, co_, _x_co_x_an)\n",
    "\n",
    "st = \":(\"\n",
    "\n",
    "BioLab.DataFrame.separate(ro_x_co_x_an)[2][1] = st\n",
    "\n",
    "@test ro_x_co_x_an[1, 1] != st\n",
    "\n",
    "@code_warntype BioLab.DataFrame.separate(ro_x_co_x_an)\n",
    "\n",
    "# 2.245 μs (28 allocations: 2.09 KiB)\n",
    "# @btime BioLab.DataFrame.separate($ro_x_co_x_an)"
   ]
  },
  {
   "cell_type": "markdown",
   "id": "6fd35a05-46a0-4f6b-b7ac-cc3b82d124a7",
   "metadata": {},
   "source": [
    "## _print_unique"
   ]
  },
  {
   "cell_type": "code",
   "execution_count": null,
   "id": "0cb2a4f5-bbc1-4e58-a524-b5cc059f20ef",
   "metadata": {
    "execution": {
     "iopub.execute_input": "2023-02-23T14:51:00.391000Z",
     "iopub.status.busy": "2023-02-23T14:51:00.391000Z",
     "iopub.status.idle": "2023-02-23T14:51:01.579000Z",
     "shell.execute_reply": "2023-02-23T14:51:01.579000Z"
    }
   },
   "outputs": [],
   "source": [
    "na_ = (\"Name 1\", \"Name 2\")\n",
    "\n",
    "an__ = ([1, 1.0, 2], [3, 3.0, 4, 4.0, 5])\n",
    "\n",
    "BioLab.DataFrame._print_unique(na_, an__)\n",
    "\n",
    "@code_warntype BioLab.DataFrame._print_unique(na_, an__)"
   ]
  },
  {
   "cell_type": "markdown",
   "id": "4e228ebe-60e8-42d0-ae06-59b0d6c14731",
   "metadata": {},
   "source": [
    "## print_column"
   ]
  },
  {
   "cell_type": "code",
   "execution_count": null,
   "id": "fabe4995-bde3-44cb-8007-98b1a934205a",
   "metadata": {
    "execution": {
     "iopub.execute_input": "2023-02-23T14:51:01.581000Z",
     "iopub.status.busy": "2023-02-23T14:51:01.581000Z",
     "iopub.status.idle": "2023-02-23T14:51:02.858000Z",
     "shell.execute_reply": "2023-02-23T14:51:02.858000Z"
    }
   },
   "outputs": [],
   "source": [
    "ro_x_co_x_an = DataFrame(\n",
    "    \"Row Name\" => [\"Row $id\" for id in 1:3],\n",
    "    \"Column 1\" => [1, 'A', \":)\"],\n",
    "    \"Column 2\" => [2, 'B', \";)\"],\n",
    "    \"Column 3\" => [3, 'C', \":D\"],\n",
    ")\n",
    "\n",
    "BioLab.DataFrame.print_column(ro_x_co_x_an)\n",
    "\n",
    "@code_warntype BioLab.DataFrame.print_column(ro_x_co_x_an)"
   ]
  },
  {
   "cell_type": "markdown",
   "id": "3e37e037-1b52-4735-b858-94120ead644c",
   "metadata": {},
   "source": [
    "## print_row"
   ]
  },
  {
   "cell_type": "code",
   "execution_count": null,
   "id": "8dfa02f4-a49c-432b-b1fa-5f679d586b26",
   "metadata": {
    "execution": {
     "iopub.execute_input": "2023-02-23T14:51:02.859000Z",
     "iopub.status.busy": "2023-02-23T14:51:02.859000Z",
     "iopub.status.idle": "2023-02-23T14:51:02.917000Z",
     "shell.execute_reply": "2023-02-23T14:51:02.917000Z"
    }
   },
   "outputs": [],
   "source": [
    "BioLab.DataFrame.print_row(ro_x_co_x_an)\n",
    "\n",
    "@code_warntype BioLab.DataFrame.print_row(ro_x_co_x_an)"
   ]
  },
  {
   "cell_type": "markdown",
   "id": "868e00e9-1746-4298-995c-1a3710c39052",
   "metadata": {},
   "source": [
    "## collapse"
   ]
  },
  {
   "cell_type": "code",
   "execution_count": null,
   "id": "8c662eed-9505-485b-adc9-bc6a154e83ac",
   "metadata": {
    "execution": {
     "iopub.execute_input": "2023-02-23T14:51:02.918000Z",
     "iopub.status.busy": "2023-02-23T14:51:02.918000Z",
     "iopub.status.idle": "2023-02-23T14:51:03.621000Z",
     "shell.execute_reply": "2023-02-23T14:51:03.621000Z"
    }
   },
   "outputs": [],
   "source": [
    "for an__ in (\n",
    "    (\n",
    "        [\"Row Name\", \"Column 1\", \"Column 2\"],\n",
    "        [\"Row 1\", 1, 2],\n",
    "        [\"Row 2\", 10, 20],\n",
    "        [\"Row 3\", 100, 200],\n",
    "    ),\n",
    "    (\n",
    "        [\"Row Name\", \"Column 1\", \"Column 2\"],\n",
    "        [\"Row 1\", 1, 2],\n",
    "        [\"Row 1\", 10, 20],\n",
    "        [\"Row 2\", 100, 200],\n",
    "    ),\n",
    "    (\n",
    "        [\"Row Name\", \"Column 1\", \"Column 2\"],\n",
    "        [\"Row 1\", 1, 2],\n",
    "        [\"Row 1\", 10, 20],\n",
    "        [\"Row 1\", 100, 200],\n",
    "    ),\n",
    ")\n",
    "\n",
    "    ro_x_co_x_nu = BioLab.DataFrame.make(an__)\n",
    "\n",
    "    BioLab.String.print_header(ro_x_co_x_nu)\n",
    "\n",
    "    # TODO: `@test`.\n",
    "    display(BioLab.DataFrame.collapse(ro_x_co_x_nu))\n",
    "\n",
    "    pr = false\n",
    "\n",
    "    @code_warntype BioLab.DataFrame.collapse(ro_x_co_x_nu; pr)\n",
    "\n",
    "    # 2.106 μs (39 allocations: 2.94 KiB)\n",
    "    # 3.172 μs (67 allocations: 5.30 KiB) \n",
    "    # 3.130 μs (65 allocations: 5.11 KiB)\n",
    "    # @btime BioLab.DataFrame.collapse($ro_x_co_x_nu; pr = $pr)\n",
    "\n",
    "end"
   ]
  },
  {
   "cell_type": "markdown",
   "id": "83ff6fd8-752e-43b1-8d5d-9d5064bcb7f4",
   "metadata": {},
   "source": [
    "## map_to"
   ]
  },
  {
   "cell_type": "code",
   "execution_count": null,
   "id": "54396f0c-8f0b-4768-a9dd-88f3b371c8a9",
   "metadata": {
    "execution": {
     "iopub.execute_input": "2023-02-23T14:51:03.622000Z",
     "iopub.status.busy": "2023-02-23T14:51:03.622000Z",
     "iopub.status.idle": "2023-02-23T14:51:04.067000Z",
     "shell.execute_reply": "2023-02-23T14:51:04.067000Z"
    }
   },
   "outputs": [],
   "source": [
    "ro_x_co_x_st = DataFrame(\n",
    "    \"M1\" => [\"M11\", \"M12\", \"M13\", \"M14\"],\n",
    "    \"F\" => [\"F1\", \"F2\", \"F3\", missing],\n",
    "    \"M2\" => [\"M21\", \"M22\", \"M23\", \"M24\"],\n",
    ")\n",
    "\n",
    "to = \"F\"\n",
    "\n",
    "for fr_ in ([\"M1\"], [\"M1\", \"M2\"])\n",
    "\n",
    "    BioLab.String.print_header(\"$fr_ ➡️ $to\")\n",
    "\n",
    "    # TODO: `@test`.\n",
    "    BioLab.Dict.print(BioLab.DataFrame.map_to(ro_x_co_x_st, BioLab.Dict.set_with_first!, fr_, to))\n",
    "\n",
    "    @code_warntype BioLab.DataFrame.map_to(ro_x_co_x_st, BioLab.Dict.set_with_first!, fr_, to)\n",
    "\n",
    "    # 3.927 μs (79 allocations: 4.45 KiB)\n",
    "    # 5.458 μs (88 allocations: 4.79 KiB)\n",
    "    # @btime BioLab.DataFrame.map_to($ro_x_co_x_st, $BioLab.Dict.set_with_first!, $fr_, $to)\n",
    "\n",
    "end"
   ]
  }
 ],
 "metadata": {
  "@webio": {
   "lastCommId": null,
   "lastKernelId": null
  },
  "kernelspec": {
   "display_name": "Julia 1.8.5",
   "language": "julia",
   "name": "julia-1.8"
  },
  "language_info": {
   "file_extension": ".jl",
   "mimetype": "application/julia",
   "name": "julia",
   "version": "1.8.5"
  }
 },
 "nbformat": 4,
 "nbformat_minor": 5
}
