{
 "cells": [
  {
   "outputs": [],
   "cell_type": "code",
   "source": [
    "using DataFrames\n",
    "\n",
    "include(\"_.jl\")"
   ],
   "id": "ce35e3eb",
   "metadata": {},
   "execution_count": null
  },
  {
   "cell_type": "markdown",
   "source": [
    "## print_unique"
   ],
   "id": "4e228ebe-60e8-42d0-ae06-59b0d6c14731",
   "metadata": {}
  },
  {
   "outputs": [],
   "cell_type": "code",
   "source": [
    "ro_x_co_x_an = DataFrame(\n",
    "    \"Row Name\" => [\"Row $id\" for id in 1:3],\n",
    "    \"Column 1\" => [1, 'A', \":)\"],\n",
    "    \"Column 2\" => [2, 'B', \";)\"],\n",
    "    \"Column 3\" => [3, 'C', \":D\"],\n",
    ")"
   ],
   "id": "8ab7af5b-cce9-4790-96f3-0d038c286130",
   "metadata": {},
   "execution_count": null
  },
  {
   "outputs": [],
   "cell_type": "code",
   "source": [
    "@test @check_error BioLab.DataFrame.print_unique(ro_x_co_x_an; di = 3)"
   ],
   "id": "341f0a72-ce9a-461d-806a-2b8237f47985",
   "metadata": {},
   "execution_count": null
  },
  {
   "outputs": [],
   "cell_type": "code",
   "source": [
    "for di in (1, 2)\n",
    "\n",
    "    println(\"=\"^99)\n",
    "\n",
    "    BioLab.DataFrame.print_unique(ro_x_co_x_an; di)\n",
    "\n",
    "end"
   ],
   "id": "43ccb9de-1c01-47a3-b27a-b994548944c9",
   "metadata": {},
   "execution_count": null
  },
  {
   "cell_type": "markdown",
   "source": [
    "## make"
   ],
   "id": "5a03bff5-9be9-403e-8bdc-173032926c67",
   "metadata": {}
  },
  {
   "outputs": [],
   "cell_type": "code",
   "source": [
    "an__ = (\n",
    "    vcat(\"Row Name\", [\"Column $id\" for id in 1:5]),\n",
    "    [\"Row 1\", 1, 2, 3, 4, 5.0],\n",
    "    [\"Row 2\", 'A', 'B', 'C', 44, 55.0],\n",
    "    [\"Row 3\", \":)\", \";)\", \":D\", 444, 555.0],\n",
    ")\n",
    "\n",
    "# 4.363 μs (43 allocations: 3.20 KiB)\n",
    "#@btime BioLab.DataFrame.make(an__)"
   ],
   "id": "48899082-b88a-4953-83b3-70519f9bf90d",
   "metadata": {},
   "execution_count": null
  },
  {
   "cell_type": "markdown",
   "source": [
    "## make\n",
    "## separate"
   ],
   "id": "ce07259a-e578-496d-b60b-21012ecd5b6f",
   "metadata": {}
  },
  {
   "outputs": [],
   "cell_type": "code",
   "source": [
    "ro = \"Row Name\"\n",
    "\n",
    "ro_ = [\"Row $id\" for id in 1:3]\n",
    "\n",
    "co_ = [\"Column $id\" for id in 1:4]\n",
    "\n",
    "ro_x_co_x_an = BioLab.Matrix.simulate(3, 4)\n",
    "\n",
    "ar_ = (ro, ro_, co_, ro_x_co_x_an)\n",
    "\n",
    "@test BioLab.DataFrame.separate(BioLab.DataFrame.make(ar_...)) == ar_"
   ],
   "id": "21dc75fe-735b-4812-a0e9-6b74e0979638",
   "metadata": {},
   "execution_count": null
  },
  {
   "cell_type": "markdown",
   "source": [
    "## collapse"
   ],
   "id": "868e00e9-1746-4298-995c-1a3710c39052",
   "metadata": {}
  },
  {
   "outputs": [],
   "cell_type": "code",
   "source": [
    "for an__ in (\n",
    "    ([\"Row Name\", \"Column 1\", \"Column 2\"], [\"Row\", 1, 2], [\"Row\", 10, 20], [\"Row 3\", 100, 200]),\n",
    "    ([\"Row Name\", \"Column 1\", \"Column 2\"], [\"Row\", 1, 2], [\"Row\", 10, 20], [\"Row\", 100, 200]),\n",
    ")\n",
    "\n",
    "    println(\"=\"^99)\n",
    "\n",
    "    ro_x_co_x_nu = BioLab.DataFrame.make(an__)\n",
    "\n",
    "    println(BioLab.DataFrame.collapse(ro_x_co_x_nu))\n",
    "\n",
    "end"
   ],
   "id": "8c662eed-9505-485b-adc9-bc6a154e83ac",
   "metadata": {},
   "execution_count": null
  },
  {
   "outputs": [],
   "cell_type": "code",
   "source": [
    "an__ = ([\"Row Name\", \"Column 1\", \"Column 2\"], [\"Row\", 1, 2], [\"Row\", 10, 20], [\"Row 3\", 100, 200])\n",
    "\n",
    "ro_x_co_x_nu = BioLab.DataFrame.make(an__)\n",
    "\n",
    "# 4.423 μs (66 allocations: 5.22 KiB)\n",
    "#@btime BioLab.DataFrame.collapse($ro_x_co_x_nu; pr = false)"
   ],
   "id": "8a6f69d2-aa6a-401a-8141-270f32d176be",
   "metadata": {},
   "execution_count": null
  },
  {
   "cell_type": "markdown",
   "source": [
    "## map_to"
   ],
   "id": "83ff6fd8-752e-43b1-8d5d-9d5064bcb7f4",
   "metadata": {}
  },
  {
   "outputs": [],
   "cell_type": "code",
   "source": [
    "ro_x_co_x_an = DataFrame(\n",
    "    \"M1\" => [\"M11\", \"M12\", \"M13\", \"M14\"],\n",
    "    \"F\" => [\"F1\", \"F2\", \"F3\", missing],\n",
    "    \"M2\" => [\"M21\", \"M22\", \"M23\", \"M24\"],\n",
    ")"
   ],
   "id": "3d255f93",
   "metadata": {},
   "execution_count": null
  },
  {
   "outputs": [],
   "cell_type": "code",
   "source": [
    "# 3.927 μs (79 allocations: 4.45 KiB)\n",
    "#@btime BioLab.DataFrame.map_to($ro_x_co_x_an, $[\"M1\"], $\"F\", \"first\")"
   ],
   "id": "9692b153-96ac-4be3-b8b4-acf443b00c49",
   "metadata": {},
   "execution_count": null
  },
  {
   "outputs": [],
   "cell_type": "code",
   "source": [
    "# 5.458 μs (88 allocations: 4.79 KiB)\n",
    "#@btime BioLab.DataFrame.map_to($ro_x_co_x_an, $[\"M1\", \"M2\"], $\"F\", \"first\")"
   ],
   "id": "fa9d1f5d-c385-4512-9b1a-a8f67f41adbd",
   "metadata": {},
   "execution_count": null
  }
 ],
 "nbformat_minor": 5,
 "metadata": {
  "language_info": {
   "file_extension": ".jl",
   "mimetype": "application/julia",
   "name": "julia",
   "version": "1.8.5"
  },
  "@webio": {
   "lastKernelId": null,
   "lastCommId": null
  },
  "kernelspec": {
   "name": "julia-1.8",
   "display_name": "Julia 1.8.5",
   "language": "julia"
  }
 },
 "nbformat": 4
}
