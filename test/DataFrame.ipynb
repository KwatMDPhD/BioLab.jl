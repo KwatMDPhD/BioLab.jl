{
 "cells": [
  {
   "cell_type": "code",
   "execution_count": null,
   "id": "ce35e3eb",
   "metadata": {},
   "outputs": [],
   "source": [
    "using DataFrames\n",
    "\n",
    "using OnePiece"
   ]
  },
  {
   "cell_type": "code",
   "execution_count": null,
   "id": "d7508031-f0be-4a7e-92af-2eb16eceb2d4",
   "metadata": {},
   "outputs": [],
   "source": [
    "OnePiece.DataFrame.make([\n",
    "    vcat(\"Protein\", [\"Feature $id\" for id in 1:3]),\n",
    "    [\"CD4\", 1.0, 2.0, 3.0],\n",
    "    [\"CD8\", 4.0, 5.0, 6.0],\n",
    "])"
   ]
  },
  {
   "cell_type": "markdown",
   "id": "b67ba09b-c5c3-4c03-8e20-a4c990f371e0",
   "metadata": {},
   "source": [
    "## print"
   ]
  },
  {
   "cell_type": "code",
   "execution_count": null,
   "id": "78fabc7c-cf40-48a1-8fc1-6b1b5654cbab",
   "metadata": {},
   "outputs": [],
   "source": [
    "try\n",
    "\n",
    "    OnePiece.DataFrame.print(DataFrame())\n",
    "\n",
    "catch er\n",
    "\n",
    "    println(er)\n",
    "\n",
    "end"
   ]
  },
  {
   "cell_type": "code",
   "execution_count": null,
   "id": "9192da96",
   "metadata": {},
   "outputs": [],
   "source": [
    "for (n_ro, n_co) in [[2, 2], [4, 2], [2, 4], [4, 4], [6, 6], [10, 10]]\n",
    "\n",
    "    println(\"=\"^99)\n",
    "\n",
    "    OnePiece.DataFrame.print(OnePiece.Matrix.simulate(n_ro, n_co))\n",
    "\n",
    "end"
   ]
  },
  {
   "cell_type": "markdown",
   "id": "4e228ebe-60e8-42d0-ae06-59b0d6c14731",
   "metadata": {},
   "source": [
    "## print_unique"
   ]
  },
  {
   "cell_type": "code",
   "execution_count": null,
   "id": "d9561642-4dde-4c30-aab7-e0af6c396c20",
   "metadata": {},
   "outputs": [],
   "source": [
    "da = DataFrame(\n",
    "    \"Row Name\" => [\"Row $id\" for id in 1:3],\n",
    "    \"Column 1\" => [1, \"A\", \":)\"],\n",
    "    \"Column 2\" => [1, \"A\", \":D\"],\n",
    ")"
   ]
  },
  {
   "cell_type": "code",
   "execution_count": null,
   "id": "9c3256b0-a964-4d8c-b330-fb3a27e3dd8d",
   "metadata": {},
   "outputs": [],
   "source": [
    "OnePiece.DataFrame.print_unique(da)"
   ]
  },
  {
   "cell_type": "markdown",
   "id": "5a03bff5-9be9-403e-8bdc-173032926c67",
   "metadata": {},
   "source": [
    "## make"
   ]
  },
  {
   "cell_type": "code",
   "execution_count": null,
   "id": "e4c7038d-b7a6-4502-9757-00167e20d9fb",
   "metadata": {},
   "outputs": [],
   "source": [
    "OnePiece.DataFrame.make([\n",
    "    vcat(\"Protein\", [\"Feature $id\" for id in 1:3]),\n",
    "    [\"CD4\", 1.0, 2.0, 3.0],\n",
    "    [\"CD8\", 4.0, 5.0, 6.0],\n",
    "])"
   ]
  },
  {
   "cell_type": "code",
   "execution_count": null,
   "id": "5687e830-d207-4267-82b1-1b5b9b5f92cb",
   "metadata": {},
   "outputs": [],
   "source": [
    "da = OnePiece.DataFrame.make(\n",
    "    \"Row Name\",\n",
    "    [\"Row $id\" for id in 1:2],\n",
    "    [\"Column $id\" for id in 1:3],\n",
    "    [idr * idc for idr in 1:2, idc in 1:3],\n",
    ")"
   ]
  },
  {
   "cell_type": "markdown",
   "id": "8fc62d24-e72b-4be8-b14d-f397cf96fd3a",
   "metadata": {},
   "source": [
    "## split (and make)"
   ]
  },
  {
   "cell_type": "code",
   "execution_count": null,
   "id": "f33d0e60-fe8b-4c2f-8fd3-3ed395c4dc52",
   "metadata": {},
   "outputs": [],
   "source": [
    "na, ro_, co_, ma = OnePiece.DataFrame.separate(da)"
   ]
  },
  {
   "cell_type": "code",
   "execution_count": null,
   "id": "2485744c-44a6-4cb2-b8ce-c10815a5b5fb",
   "metadata": {},
   "outputs": [],
   "source": [
    "OnePiece.DataFrame.make(na, ro_, co_, ma)"
   ]
  },
  {
   "cell_type": "markdown",
   "id": "868e00e9-1746-4298-995c-1a3710c39052",
   "metadata": {},
   "source": [
    "## collapse"
   ]
  },
  {
   "cell_type": "code",
   "execution_count": null,
   "id": "8c662eed-9505-485b-adc9-bc6a154e83ac",
   "metadata": {},
   "outputs": [],
   "source": [
    "for va__ in [\n",
    "    [[\"Row Name\", \"Column 1\", \"Column 2\"], [\"Row\", 1, 2], [\"Row\", 10, 20], [\"Row 3\", 100, 200]],\n",
    "    [[\"Row Name\", \"Column 1\", \"Column 2\"], [\"Row\", 1, 2], [\"Row\", 10, 20], [\"Row\", 100, 200]],\n",
    "]\n",
    "\n",
    "    println(\"=\"^99)\n",
    "\n",
    "    println(OnePiece.DataFrame.collapse(OnePiece.DataFrame.make(va__)))\n",
    "\n",
    "end"
   ]
  },
  {
   "cell_type": "markdown",
   "id": "83ff6fd8-752e-43b1-8d5d-9d5064bcb7f4",
   "metadata": {},
   "source": [
    "## map_to"
   ]
  },
  {
   "cell_type": "code",
   "execution_count": null,
   "id": "3d255f93",
   "metadata": {},
   "outputs": [],
   "source": [
    "da = DataFrame(\n",
    "    \"M1\" => [\"X\", \"A\", \"Y\", \"C\"],\n",
    "    \"F\" => [\"M\", \"V\", \"A\", missing],\n",
    "    \"M2\" => [\"P\", \"X\", \"C\", \"D\"],\n",
    ")"
   ]
  },
  {
   "cell_type": "code",
   "execution_count": null,
   "id": "ec64b284",
   "metadata": {},
   "outputs": [],
   "source": [
    "OnePiece.DataFrame.map_to(da, [\"M1\", \"F\"])"
   ]
  },
  {
   "cell_type": "code",
   "execution_count": null,
   "id": "07f9b7f0",
   "metadata": {},
   "outputs": [],
   "source": [
    "try\n",
    "\n",
    "    OnePiece.DataFrame.map_to(da, [\"M1\", \"M2\", \"F\"])\n",
    "\n",
    "catch er\n",
    "\n",
    "    println(er)\n",
    "\n",
    "end"
   ]
  }
 ],
 "metadata": {
  "@webio": {
   "lastCommId": null,
   "lastKernelId": null
  },
  "kernelspec": {
   "display_name": "Julia 1.8.2",
   "language": "julia",
   "name": "julia-1.8"
  },
  "language_info": {
   "file_extension": ".jl",
   "mimetype": "application/julia",
   "name": "julia",
   "version": "1.8.2"
  }
 },
 "nbformat": 4,
 "nbformat_minor": 5
}
