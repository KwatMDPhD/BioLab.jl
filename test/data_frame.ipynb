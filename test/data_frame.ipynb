{
 "cells": [
  {
   "cell_type": "code",
   "execution_count": null,
   "id": "ce35e3eb",
   "metadata": {},
   "outputs": [],
   "source": [
    "using OnePiece\n",
    "\n",
    "using DataFrames"
   ]
  },
  {
   "cell_type": "markdown",
   "id": "b753afc0",
   "metadata": {},
   "source": [
    "## error_bad"
   ]
  },
  {
   "cell_type": "code",
   "execution_count": null,
   "id": "0469cf0b",
   "metadata": {},
   "outputs": [],
   "source": [
    "da = DataFrame(\n",
    "    \"Column 1\" => [missing, 1, 2, 3],\n",
    "    \"Column 2\" => [nothing, 2, 3, 4],\n",
    "    \"Column 3\" => [Inf, 3, 4, 5],\n",
    "    \"Column 4\" => [-Inf, 4, 5, 6],\n",
    "    \"Column 5\" => [missing, nothing, Inf, -Inf],\n",
    "    \"Column 6\" => [\"a\", \"b\", \"c\", \"d\"],\n",
    ")\n",
    "\n",
    "try\n",
    "\n",
    "    OnePiece.data_frame.error_bad(da)\n",
    "\n",
    "catch er\n",
    "\n",
    "    println(er)\n",
    "\n",
    "end"
   ]
  },
  {
   "cell_type": "markdown",
   "id": "63bf2db1-467a-4f84-b487-bac1d5984405",
   "metadata": {},
   "source": [
    "## make"
   ]
  },
  {
   "cell_type": "code",
   "execution_count": null,
   "id": "e4c7038d-b7a6-4502-9757-00167e20d9fb",
   "metadata": {},
   "outputs": [],
   "source": [
    "ro_ = [[\"F\", \"C1\", \"C2\", \"C3\"], [\"CD4\", 1.0, 2.0, 3.0], [\"CD8\", 4.0, 5.0, 6.0]]\n",
    "\n",
    "OnePiece.data_frame.make(ro_)"
   ]
  },
  {
   "cell_type": "code",
   "execution_count": null,
   "id": "c069ba7a-2885-4899-81d4-2591ae35ec55",
   "metadata": {},
   "outputs": [],
   "source": [
    "r, c, m = OnePiece.data_frame.separate(ans)\n",
    "\n",
    "\n",
    "OnePiece.data_frame.make(r, c, m; nar = \"F\")"
   ]
  },
  {
   "cell_type": "markdown",
   "id": "1eea9ffd",
   "metadata": {},
   "source": [
    "## map_to_column"
   ]
  },
  {
   "cell_type": "code",
   "execution_count": null,
   "id": "3d255f93",
   "metadata": {},
   "outputs": [],
   "source": [
    "da = DataFrame(\n",
    "    \"Column 1\" => [\"hi\", \"hello\", \"howdy\"],\n",
    "    \"Column 2\" => [\"X\", \"Y\", \"Z\"],\n",
    "    \"Column 3\" => [\"luffy\", \"black jack\", \"oden\"],\n",
    ")"
   ]
  },
  {
   "cell_type": "code",
   "execution_count": null,
   "id": "ec64b284",
   "metadata": {},
   "outputs": [],
   "source": [
    "OnePiece.data_frame.map_to_column(da, [\"Column 3\", \"Column 2\"])"
   ]
  },
  {
   "cell_type": "code",
   "execution_count": null,
   "id": "07f9b7f0",
   "metadata": {},
   "outputs": [],
   "source": [
    "OnePiece.data_frame.map_to_column(da, [\"Column 1\", \"Column 3\", \"Column 2\"])"
   ]
  },
  {
   "cell_type": "markdown",
   "id": "b87424f9",
   "metadata": {},
   "source": [
    "## print"
   ]
  },
  {
   "cell_type": "code",
   "execution_count": null,
   "id": "9192da96",
   "metadata": {},
   "outputs": [],
   "source": [
    "OnePiece.data_frame.print(DataFrame())\n",
    "\n",
    "for (n_ro, n_co) in ((0, 1), (2, 2), (4, 2), (2, 4), (4, 4), (6, 6), (10, 10))\n",
    "\n",
    "    OnePiece.data_frame.print(OnePiece.data_frame.simulate(n_ro, n_co))\n",
    "\n",
    "end"
   ]
  },
  {
   "cell_type": "markdown",
   "id": "41a10f98",
   "metadata": {},
   "source": [
    "## separate_row"
   ]
  },
  {
   "cell_type": "code",
   "execution_count": null,
   "id": "a93a778f",
   "metadata": {},
   "outputs": [],
   "source": [
    "da = DataFrame(\"Actual row\" => [\"r1\", \"r2\"], \"Column 1\" => [1, 2], \"Column 2\" => [3, 4])\n",
    "\n",
    "OnePiece.data_frame.separate_row(da)"
   ]
  },
  {
   "cell_type": "markdown",
   "id": "46612f8c",
   "metadata": {},
   "source": [
    "## simulate"
   ]
  },
  {
   "cell_type": "code",
   "execution_count": null,
   "id": "381fd96e",
   "metadata": {},
   "outputs": [],
   "source": [
    "OnePiece.data_frame.simulate(3, 4)"
   ]
  }
 ],
 "metadata": {
  "@webio": {
   "lastCommId": null,
   "lastKernelId": null
  },
  "kernelspec": {
   "display_name": "Julia 1.8.0",
   "language": "julia",
   "name": "julia-1.8"
  },
  "language_info": {
   "file_extension": ".jl",
   "mimetype": "application/julia",
   "name": "julia",
   "version": "1.8.0"
  }
 },
 "nbformat": 4,
 "nbformat_minor": 5
}
