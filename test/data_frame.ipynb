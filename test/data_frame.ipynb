{
 "cells": [
  {
   "cell_type": "code",
   "execution_count": null,
   "id": "ce35e3eb",
   "metadata": {
    "execution": {
     "iopub.execute_input": "2022-08-17T13:44:05.549000Z",
     "iopub.status.busy": "2022-08-17T13:44:05.211000Z",
     "iopub.status.idle": "2022-08-17T13:44:10.119000Z",
     "shell.execute_reply": "2022-08-17T13:44:10.074000Z"
    }
   },
   "outputs": [],
   "source": [
    "using OnePiece\n",
    "\n",
    "using DataFrames"
   ]
  },
  {
   "cell_type": "markdown",
   "id": "b753afc0",
   "metadata": {},
   "source": [
    "## error_bad"
   ]
  },
  {
   "cell_type": "code",
   "execution_count": null,
   "id": "0469cf0b",
   "metadata": {
    "execution": {
     "iopub.execute_input": "2022-08-17T13:44:10.703000Z",
     "iopub.status.busy": "2022-08-17T13:44:10.122000Z",
     "iopub.status.idle": "2022-08-17T13:44:12.350000Z",
     "shell.execute_reply": "2022-08-17T13:44:12.350000Z"
    }
   },
   "outputs": [],
   "source": [
    "da = DataFrame(\n",
    "    \"Column 1\" => [missing, 1, 2, 3],\n",
    "    \"Column 2\" => [nothing, 2, 3, 4],\n",
    "    \"Column 3\" => [Inf, 3, 4, 5],\n",
    "    \"Column 4\" => [-Inf, 4, 5, 6],\n",
    "    \"Column 5\" => [missing, nothing, Inf, -Inf],\n",
    "    \"Column 6\" => [\"a\", \"b\", \"c\", \"d\"],\n",
    ")\n",
    "\n",
    "try\n",
    "\n",
    "    OnePiece.data_frame.error_bad(da)\n",
    "\n",
    "catch er\n",
    "\n",
    "    println(er)\n",
    "\n",
    "end"
   ]
  },
  {
   "cell_type": "markdown",
   "id": "1eea9ffd",
   "metadata": {},
   "source": [
    "## map_to_column"
   ]
  },
  {
   "cell_type": "code",
   "execution_count": null,
   "id": "3d255f93",
   "metadata": {
    "execution": {
     "iopub.execute_input": "2022-08-17T13:44:12.353000Z",
     "iopub.status.busy": "2022-08-17T13:44:12.353000Z",
     "iopub.status.idle": "2022-08-17T13:44:15.271000Z",
     "shell.execute_reply": "2022-08-17T13:44:15.270000Z"
    }
   },
   "outputs": [],
   "source": [
    "da = DataFrame(\n",
    "    \"Column 1\" => [\"hi\", \"hello\", \"howdy\"],\n",
    "    \"Column 2\" => [\"X\", \"Y\", \"Z\"],\n",
    "    \"Column 3\" => [\"luffy\", \"black jack\", \"oden\"],\n",
    ")"
   ]
  },
  {
   "cell_type": "code",
   "execution_count": null,
   "id": "ec64b284",
   "metadata": {
    "execution": {
     "iopub.execute_input": "2022-08-17T13:44:15.273000Z",
     "iopub.status.busy": "2022-08-17T13:44:15.273000Z",
     "iopub.status.idle": "2022-08-17T13:44:16.747000Z",
     "shell.execute_reply": "2022-08-17T13:44:16.747000Z"
    }
   },
   "outputs": [],
   "source": [
    "OnePiece.data_frame.map_to_column(da, [\"Column 3\", \"Column 2\"])"
   ]
  },
  {
   "cell_type": "code",
   "execution_count": null,
   "id": "07f9b7f0",
   "metadata": {
    "execution": {
     "iopub.execute_input": "2022-08-17T13:44:16.750000Z",
     "iopub.status.busy": "2022-08-17T13:44:16.750000Z",
     "iopub.status.idle": "2022-08-17T13:44:16.752000Z",
     "shell.execute_reply": "2022-08-17T13:44:16.751000Z"
    }
   },
   "outputs": [],
   "source": [
    "OnePiece.data_frame.map_to_column(da, [\"Column 1\", \"Column 3\", \"Column 2\"])"
   ]
  },
  {
   "cell_type": "markdown",
   "id": "b87424f9",
   "metadata": {},
   "source": [
    "## print"
   ]
  },
  {
   "cell_type": "code",
   "execution_count": null,
   "id": "9192da96",
   "metadata": {
    "execution": {
     "iopub.execute_input": "2022-08-17T13:44:16.754000Z",
     "iopub.status.busy": "2022-08-17T13:44:16.754000Z",
     "iopub.status.idle": "2022-08-17T13:44:17.251000Z",
     "shell.execute_reply": "2022-08-17T13:44:17.251000Z"
    }
   },
   "outputs": [],
   "source": [
    "OnePiece.data_frame.print(DataFrame())\n",
    "\n",
    "for (n_ro, n_co) in ((0, 1), (2, 2), (4, 2), (2, 4), (4, 4), (6, 6), (10, 10))\n",
    "\n",
    "    OnePiece.data_frame.print(OnePiece.data_frame.simulate(n_ro, n_co))\n",
    "\n",
    "end"
   ]
  },
  {
   "cell_type": "markdown",
   "id": "41a10f98",
   "metadata": {},
   "source": [
    "## separate_row"
   ]
  },
  {
   "cell_type": "code",
   "execution_count": null,
   "id": "a93a778f",
   "metadata": {
    "execution": {
     "iopub.execute_input": "2022-08-17T13:44:17.254000Z",
     "iopub.status.busy": "2022-08-17T13:44:17.254000Z",
     "iopub.status.idle": "2022-08-17T13:44:17.821000Z",
     "shell.execute_reply": "2022-08-17T13:44:17.821000Z"
    }
   },
   "outputs": [],
   "source": [
    "da = DataFrame(\"Actual row\" => [\"r1\", \"r2\"], \"Column 1\" => [1, 2], \"Column 2\" => [3, 4])\n",
    "\n",
    "OnePiece.data_frame.separate_row(da)"
   ]
  },
  {
   "cell_type": "markdown",
   "id": "46612f8c",
   "metadata": {},
   "source": [
    "## simulate"
   ]
  },
  {
   "cell_type": "code",
   "execution_count": null,
   "id": "381fd96e",
   "metadata": {
    "execution": {
     "iopub.execute_input": "2022-08-17T13:44:17.824000Z",
     "iopub.status.busy": "2022-08-17T13:44:17.824000Z",
     "iopub.status.idle": "2022-08-17T13:44:17.913000Z",
     "shell.execute_reply": "2022-08-17T13:44:17.912000Z"
    }
   },
   "outputs": [],
   "source": [
    "OnePiece.data_frame.simulate(3, 4)"
   ]
  }
 ],
 "metadata": {
  "@webio": {
   "lastCommId": null,
   "lastKernelId": null
  },
  "kernelspec": {
   "display_name": "Julia 1.7.3",
   "language": "julia",
   "name": "julia-1.7"
  },
  "language_info": {
   "file_extension": ".jl",
   "mimetype": "application/julia",
   "name": "julia",
   "version": "1.7.3"
  }
 },
 "nbformat": 4,
 "nbformat_minor": 5
}
