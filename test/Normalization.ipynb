{
 "cells": [
  {
   "cell_type": "code",
   "execution_count": null,
   "id": "e0f9883d-cb60-4c51-aae0-ad8ebda716d9",
   "metadata": {
    "execution": {
     "iopub.execute_input": "2023-02-23T14:56:08.911000Z",
     "iopub.status.busy": "2023-02-23T14:56:08.647000Z",
     "iopub.status.idle": "2023-02-23T14:56:12.737000Z",
     "shell.execute_reply": "2023-02-23T14:56:12.714000Z"
    }
   },
   "outputs": [],
   "source": [
    "include(\"_.jl\")"
   ]
  },
  {
   "cell_type": "markdown",
   "id": "389d523a-f85a-4b3e-bb69-eb00937fe7e7",
   "metadata": {},
   "source": [
    "## normalize_with_01!"
   ]
  },
  {
   "cell_type": "code",
   "execution_count": null,
   "id": "8fa43bfe-ceff-4228-b441-d8f8ea04826d",
   "metadata": {
    "execution": {
     "iopub.execute_input": "2023-02-23T14:56:12.901000Z",
     "iopub.status.busy": "2023-02-23T14:56:12.738000Z",
     "iopub.status.idle": "2023-02-23T14:56:13.289000Z",
     "shell.execute_reply": "2023-02-23T14:56:13.289000Z"
    }
   },
   "outputs": [],
   "source": [
    "nu__ = ([0.0, 1, 2], [-1, 0, 1 / 3, 1])"
   ]
  },
  {
   "cell_type": "code",
   "execution_count": null,
   "id": "45b42813-7aaf-4228-8367-bc2da464161e",
   "metadata": {
    "execution": {
     "iopub.execute_input": "2023-02-23T14:56:13.291000Z",
     "iopub.status.busy": "2023-02-23T14:56:13.291000Z",
     "iopub.status.idle": "2023-02-23T14:56:16.535000Z",
     "shell.execute_reply": "2023-02-23T14:56:16.535000Z"
    }
   },
   "outputs": [],
   "source": [
    "@test @check_error BioLab.Normalization.normalize_with_01!([])\n",
    "\n",
    "@test @check_error BioLab.Normalization.normalize_with_01!([1.0, 1])\n",
    "\n",
    "for (nu_, re) in zip(nu__, ([0, 0.5, 1], [0, 0.5, 0.6666666666666666, 1]))\n",
    "\n",
    "    BioLab.String.print_header(nu_)\n",
    "\n",
    "    co = copy(nu_)\n",
    "\n",
    "    BioLab.Normalization.normalize_with_01!(co)\n",
    "\n",
    "    @test co == re\n",
    "\n",
    "    @code_warntype BioLab.Normalization.normalize_with_01!(co)\n",
    "\n",
    "    # 17.576 ns (0 allocations: 0 bytes)\n",
    "    # 21.584 ns (0 allocations: 0 bytes)\n",
    "    # @btime BioLab.Normalization.normalize_with_01!($co) setup = (co = copy($nu_))\n",
    "\n",
    "end"
   ]
  },
  {
   "cell_type": "markdown",
   "id": "33792e1e-d446-4a21-bbfc-a5534b542827",
   "metadata": {},
   "source": [
    "## normalize_with_0!"
   ]
  },
  {
   "cell_type": "code",
   "execution_count": null,
   "id": "3adaf557-e741-4f9e-8faa-8f5fb11b43ee",
   "metadata": {
    "execution": {
     "iopub.execute_input": "2023-02-23T14:56:16.536000Z",
     "iopub.status.busy": "2023-02-23T14:56:16.536000Z",
     "iopub.status.idle": "2023-02-23T14:56:16.703000Z",
     "shell.execute_reply": "2023-02-23T14:56:16.703000Z"
    }
   },
   "outputs": [],
   "source": [
    "@test @check_error BioLab.Normalization.normalize_with_0!([])\n",
    "\n",
    "@test @check_error BioLab.Normalization.normalize_with_0!([1.0, 1])\n",
    "\n",
    "for (nu_, re) in zip(nu__, ([-1.0, 0, 1], [-1.3, -0.09999999999999999, 0.30000000000000004, 1.1]))\n",
    "\n",
    "    BioLab.String.print_header(nu_)\n",
    "\n",
    "    co = copy(nu_)\n",
    "\n",
    "    BioLab.Normalization.normalize_with_0!(co)\n",
    "\n",
    "    @test co == re\n",
    "\n",
    "    @code_warntype BioLab.Normalization.normalize_with_0!(co)\n",
    "\n",
    "    # 25.577 ns (0 allocations: 0 bytes)\n",
    "    # 26.440 ns (0 allocations: 0 bytes)\n",
    "    # @btime BioLab.Normalization.normalize_with_0!($co) setup = (co = copy($nu_))\n",
    "\n",
    "end"
   ]
  },
  {
   "cell_type": "markdown",
   "id": "9750a95f-f3de-4562-9d36-41798e21df3d",
   "metadata": {},
   "source": [
    "## normalize_with_sum!"
   ]
  },
  {
   "cell_type": "code",
   "execution_count": null,
   "id": "1a99a106-c370-4063-8ecd-6e9c53ec8f76",
   "metadata": {
    "execution": {
     "iopub.execute_input": "2023-02-23T14:56:16.705000Z",
     "iopub.status.busy": "2023-02-23T14:56:16.705000Z",
     "iopub.status.idle": "2023-02-23T14:56:16.773000Z",
     "shell.execute_reply": "2023-02-23T14:56:16.773000Z"
    }
   },
   "outputs": [],
   "source": [
    "@test @check_error BioLab.Normalization.normalize_with_sum!([])\n",
    "\n",
    "@test @check_error BioLab.Normalization.normalize_with_sum!([-1.0, 1])\n",
    "\n",
    "for (nu_, re) in zip(nu__, ([0, 0.3333333333333333, 0.6666666666666666], []))\n",
    "\n",
    "    BioLab.String.print_header(nu_)\n",
    "\n",
    "    if any(nu < 0 for nu in nu_)\n",
    "\n",
    "        continue\n",
    "\n",
    "    end\n",
    "\n",
    "    co = copy(nu_)\n",
    "\n",
    "    BioLab.Normalization.normalize_with_sum!(co)\n",
    "\n",
    "    @test co == re\n",
    "\n",
    "    @code_warntype BioLab.Normalization.normalize_with_sum!(co)\n",
    "\n",
    "    # 7.041 ns (0 allocations: 0 bytes)\n",
    "    # @btime BioLab.Normalization.normalize_with_sum!($co) setup = (co = copy($nu_))\n",
    "\n",
    "end"
   ]
  },
  {
   "cell_type": "markdown",
   "id": "30525bac-da5f-46d9-a715-8e99ec82b40b",
   "metadata": {},
   "source": [
    "## normalize_with_1234!"
   ]
  },
  {
   "cell_type": "code",
   "execution_count": null,
   "id": "1ffbdd2a-cd04-434a-a14d-81621a048133",
   "metadata": {
    "execution": {
     "iopub.execute_input": "2023-02-23T14:56:16.774000Z",
     "iopub.status.busy": "2023-02-23T14:56:16.774000Z",
     "iopub.status.idle": "2023-02-23T14:56:16.781000Z",
     "shell.execute_reply": "2023-02-23T14:56:16.781000Z"
    }
   },
   "outputs": [],
   "source": [
    "nu__ = ([0.0], [-1.0, 0, 0, 1, 1, 1, 2])"
   ]
  },
  {
   "cell_type": "code",
   "execution_count": null,
   "id": "3b2df33f-5cd4-4cf5-be14-ba397550c56e",
   "metadata": {
    "execution": {
     "iopub.execute_input": "2023-02-23T14:56:16.782000Z",
     "iopub.status.busy": "2023-02-23T14:56:16.782000Z",
     "iopub.status.idle": "2023-02-23T14:56:16.822000Z",
     "shell.execute_reply": "2023-02-23T14:56:16.821000Z"
    }
   },
   "outputs": [],
   "source": [
    "for (nu_, re) in zip(nu__, ([1.0], [1.0, 2, 3, 4, 5, 6, 7]))\n",
    "\n",
    "    BioLab.String.print_header(nu_)\n",
    "\n",
    "    co = copy(nu_)\n",
    "\n",
    "    BioLab.Normalization.normalize_with_1234!(co)\n",
    "\n",
    "    @test co == re\n",
    "\n",
    "    @code_warntype BioLab.Normalization.normalize_with_1234!(co)\n",
    "\n",
    "    # 423.156 ns (3 allocations: 144 bytes)\n",
    "    # 446.701 ns (3 allocations: 240 bytes)\n",
    "    # @btime BioLab.Normalization.normalize_with_1234!($co) setup = (co = copy($nu_))\n",
    "\n",
    "end"
   ]
  },
  {
   "cell_type": "markdown",
   "id": "73f3da80-77e5-45be-a2a1-4b6d0e361c54",
   "metadata": {
    "tags": []
   },
   "source": [
    "## normalize_with_1223!"
   ]
  },
  {
   "cell_type": "code",
   "execution_count": null,
   "id": "cda7bed7-4984-487a-8166-3c6193619301",
   "metadata": {
    "execution": {
     "iopub.execute_input": "2023-02-23T14:56:16.823000Z",
     "iopub.status.busy": "2023-02-23T14:56:16.823000Z",
     "iopub.status.idle": "2023-02-23T14:56:16.859000Z",
     "shell.execute_reply": "2023-02-23T14:56:16.858000Z"
    }
   },
   "outputs": [],
   "source": [
    "for (nu_, re) in zip(nu__, ([1.0], [1.0, 2, 2, 3, 3, 3, 4]))\n",
    "\n",
    "    BioLab.String.print_header(nu_)\n",
    "\n",
    "    co = copy(nu_)\n",
    "\n",
    "    BioLab.Normalization.normalize_with_1223!(co)\n",
    "\n",
    "    @test co == re\n",
    "\n",
    "    @code_warntype BioLab.Normalization.normalize_with_1223!(co)\n",
    "\n",
    "    # 420.226 ns (3 allocations: 144 bytes)\n",
    "    # 449.239 ns (3 allocations: 240 bytes)\n",
    "    # @btime BioLab.Normalization.normalize_with_1223!($co) setup = (co = copy($nu_))\n",
    "\n",
    "end"
   ]
  },
  {
   "cell_type": "markdown",
   "id": "c8fa83c0-f281-408d-bf2e-96e80df7e27e",
   "metadata": {
    "tags": []
   },
   "source": [
    "## normalize_with_1224!"
   ]
  },
  {
   "cell_type": "code",
   "execution_count": null,
   "id": "934490bf-e80c-4432-96ca-0140469e8abf",
   "metadata": {
    "execution": {
     "iopub.execute_input": "2023-02-23T14:56:16.860000Z",
     "iopub.status.busy": "2023-02-23T14:56:16.860000Z",
     "iopub.status.idle": "2023-02-23T14:56:16.887000Z",
     "shell.execute_reply": "2023-02-23T14:56:16.887000Z"
    }
   },
   "outputs": [],
   "source": [
    "for (nu_, re) in zip(nu__, ([1.0], [1.0, 2, 2, 4, 4, 4, 7]))\n",
    "\n",
    "    BioLab.String.print_header(nu_)\n",
    "\n",
    "    co = copy(nu_)\n",
    "\n",
    "    BioLab.Normalization.normalize_with_1224!(co)\n",
    "\n",
    "    @test co == re\n",
    "\n",
    "    @code_warntype BioLab.Normalization.normalize_with_1224!(co)\n",
    "\n",
    "    # 424.412 ns (3 allocations: 144 bytes)\n",
    "    # 447.543 ns (3 allocations: 240 bytes)\n",
    "    # @btime BioLab.Normalization.normalize_with_1224!($co) setup = (co = copy($nu_))\n",
    "\n",
    "end"
   ]
  },
  {
   "cell_type": "markdown",
   "id": "ea3093cb-0106-43bf-a4b2-111adc0e05c2",
   "metadata": {
    "tags": []
   },
   "source": [
    "## normalize_with_125254!"
   ]
  },
  {
   "cell_type": "code",
   "execution_count": null,
   "id": "2f18a5e6-b316-4f45-b45a-610852994012",
   "metadata": {
    "execution": {
     "iopub.execute_input": "2023-02-23T14:56:16.889000Z",
     "iopub.status.busy": "2023-02-23T14:56:16.888000Z",
     "iopub.status.idle": "2023-02-23T14:56:16.928000Z",
     "shell.execute_reply": "2023-02-23T14:56:16.927000Z"
    }
   },
   "outputs": [],
   "source": [
    "for (nu_, re) in zip(nu__, ([1.0], [1.0, 2.5, 2.5, 5, 5, 5, 7]))\n",
    "\n",
    "    BioLab.String.print_header(nu_)\n",
    "\n",
    "    co = copy(nu_)\n",
    "\n",
    "    BioLab.Normalization.normalize_with_125254!(co)\n",
    "\n",
    "    @test co == re\n",
    "\n",
    "    @code_warntype BioLab.Normalization.normalize_with_125254!(co)\n",
    "\n",
    "    # 421.688 ns (3 allocations: 144 bytes)\n",
    "    # 448.817 ns (3 allocations: 240 bytes)\n",
    "    # @btime BioLab.Normalization.normalize_with_125254!($co) setup = (co = copy($nu_))\n",
    "\n",
    "end"
   ]
  },
  {
   "cell_type": "markdown",
   "id": "51dca16e-35a9-48d1-918f-8172b947c50d",
   "metadata": {},
   "source": [
    "## Example"
   ]
  },
  {
   "cell_type": "code",
   "execution_count": null,
   "id": "0aeec47c-747b-457c-b67d-0a69627218dd",
   "metadata": {
    "execution": {
     "iopub.execute_input": "2023-02-23T14:56:16.929000Z",
     "iopub.status.busy": "2023-02-23T14:56:16.929000Z",
     "iopub.status.idle": "2023-02-23T14:56:17.072000Z",
     "shell.execute_reply": "2023-02-23T14:56:17.071000Z"
    }
   },
   "outputs": [],
   "source": [
    "no!_ = (\n",
    "    BioLab.Normalization.normalize_with_01!,\n",
    "    BioLab.Normalization.normalize_with_0!,\n",
    "    BioLab.Normalization.normalize_with_sum!,\n",
    "    BioLab.Normalization.normalize_with_1234!,\n",
    "    BioLab.Normalization.normalize_with_1223!,\n",
    "    BioLab.Normalization.normalize_with_1224!,\n",
    "    BioLab.Normalization.normalize_with_125254!,\n",
    ")"
   ]
  },
  {
   "cell_type": "code",
   "execution_count": null,
   "id": "78f864fb-304d-4db7-915e-455468ce94a6",
   "metadata": {
    "execution": {
     "iopub.execute_input": "2023-02-23T14:56:17.073000Z",
     "iopub.status.busy": "2023-02-23T14:56:17.073000Z",
     "iopub.status.idle": "2023-02-23T14:56:17.497000Z",
     "shell.execute_reply": "2023-02-23T14:56:17.497000Z"
    }
   },
   "outputs": [],
   "source": [
    "nu_ = [NaN, 1, 2, 2, 3, NaN]\n",
    "\n",
    "for (no!, re) in zip(\n",
    "    no!_,\n",
    "    (\n",
    "        [NaN, 0, 0.5, 0.5, 1, NaN],\n",
    "        [NaN, -1.224744871391589, 0, 0, 1.224744871391589, NaN],\n",
    "        [NaN, 0.125, 0.25, 0.25, 0.375, NaN],\n",
    "        [NaN, 1, 2, 3, 4, NaN],\n",
    "        [NaN, 1, 2, 2, 3, NaN],\n",
    "        [NaN, 1, 2, 2, 4, NaN],\n",
    "        [NaN, 1, 2.5, 2.5, 4, NaN],\n",
    "    ),\n",
    ")\n",
    "\n",
    "    BioLab.String.print_header(\"🔫 $no!\")\n",
    "\n",
    "    co = copy(nu_)\n",
    "\n",
    "    BioLab.VectorNumber.skip_nan_and_apply!!(co, no!)\n",
    "\n",
    "    @test isequal(co, re)\n",
    "\n",
    "    @code_warntype BioLab.VectorNumber.skip_nan_and_apply!!(co, no!)\n",
    "\n",
    "    # 104.723 ns (2 allocations: 160 bytes)\n",
    "    # 110.019 ns (2 allocations: 160 bytes)\n",
    "    # 106.372 ns (2 allocations: 160 bytes)\n",
    "    # 596.910 ns (8 allocations: 544 bytes)\n",
    "    # 612.717 ns (8 allocations: 544 bytes)\n",
    "    # 603.107 ns (8 allocations: 544 bytes)\n",
    "    # 585.650 ns (8 allocations: 544 bytes)\n",
    "    # @btime BioLab.VectorNumber.skip_nan_and_apply!!($co, $no!) setup = (co = copy($nu_))\n",
    "\n",
    "end"
   ]
  },
  {
   "cell_type": "code",
   "execution_count": null,
   "id": "0077fd23-92f2-49d5-9bc6-0390b01352fd",
   "metadata": {
    "execution": {
     "iopub.execute_input": "2023-02-23T14:56:17.498000Z",
     "iopub.status.busy": "2023-02-23T14:56:17.498000Z",
     "iopub.status.idle": "2023-02-23T14:56:18.103000Z",
     "shell.execute_reply": "2023-02-23T14:56:18.103000Z"
    }
   },
   "outputs": [],
   "source": [
    "ro_x_co_x_nu = [\n",
    "    1.0 10 100 100\n",
    "    2 20 200 200\n",
    "    3 30 300 300\n",
    "    3 30 300 300\n",
    "]\n",
    "\n",
    "BioLab.String.print_header(\"🧭 By Column\")\n",
    "\n",
    "for (no!, re) in zip(\n",
    "    no!_,\n",
    "    (\n",
    "        [\n",
    "            0  0  0  0\n",
    "            0.5  0.5  0.5  0.5\n",
    "            1  1  1  1\n",
    "            1  1  1  1\n",
    "        ],\n",
    "        [\n",
    "            -1.30558   -1.30558   -1.30558   -1.30558\n",
    "            -0.261116  -0.261116  -0.261116  -0.261116\n",
    "             0.783349   0.783349   0.783349   0.783349\n",
    "             0.783349   0.783349   0.783349   0.783349\n",
    "        ],\n",
    "        [\n",
    "            0.111111  0.111111  0.111111  0.111111\n",
    "            0.222222  0.222222  0.222222  0.222222\n",
    "            0.333333  0.333333  0.333333  0.333333\n",
    "            0.333333  0.333333  0.333333  0.333333\n",
    "        ],\n",
    "        [\n",
    "            1.0  1  1  1\n",
    "            2  2  2  2\n",
    "            3  3  3  3\n",
    "            4  4  4  4\n",
    "        ],\n",
    "        [\n",
    "            1.0  1  1  1\n",
    "            2  2  2  2\n",
    "            3  3  3  3\n",
    "            3  3  3  3\n",
    "        ],\n",
    "        [\n",
    "            1.0  1  1  1\n",
    "            2  2  2  2\n",
    "            3  3  3  3\n",
    "            3  3  3  3\n",
    "        ],\n",
    "        [\n",
    "            1  1  1  1\n",
    "            2  2  2  2\n",
    "            3.5  3.5  3.5  3.5\n",
    "            3.5  3.5  3.5  3.5\n",
    "        ],\n",
    "    ),\n",
    ")\n",
    "\n",
    "    BioLab.String.print_header(\"🔫 $no!\")\n",
    "\n",
    "    co = copy(ro_x_co_x_nu)\n",
    "\n",
    "    BioLab.Matrix.apply_by_column!(co, no!)\n",
    "\n",
    "    @test isapprox(co, re; atol = 10^-5)\n",
    "\n",
    "    @code_warntype BioLab.Matrix.apply_by_column!(co, no!)\n",
    "\n",
    "    # 96.944 ns (0 allocations: 0 bytes)\n",
    "    # 114.902 ns (0 allocations: 0 bytes)\n",
    "    # 69.203 ns (0 allocations: 0 bytes)\n",
    "    # 968.176 ns (16 allocations: 1.12 KiB)\n",
    "    # 970.588 ns (16 allocations: 1.12 KiB)\n",
    "    # 976.214 ns (16 allocations: 1.12 KiB)\n",
    "    # 970.588 ns (16 allocations: 1.12 KiB)\n",
    "    # @btime BioLab.Matrix.apply_by_column!($co, $no!) setup = (co = copy(ro_x_co_x_nu))\n",
    "\n",
    "end"
   ]
  },
  {
   "cell_type": "code",
   "execution_count": null,
   "id": "1e013c88-36c3-41a2-81dd-e085951bb568",
   "metadata": {
    "execution": {
     "iopub.execute_input": "2023-02-23T14:56:18.104000Z",
     "iopub.status.busy": "2023-02-23T14:56:18.104000Z",
     "iopub.status.idle": "2023-02-23T14:56:18.468000Z",
     "shell.execute_reply": "2023-02-23T14:56:18.468000Z"
    }
   },
   "outputs": [],
   "source": [
    "BioLab.String.print_header(\"🧭 By Row\")\n",
    "\n",
    "for (no!, re) in zip(\n",
    "    no!_,\n",
    "    (\n",
    "        [\n",
    "            0  0.0909091  1  1\n",
    "            0  0.0909091  1  1\n",
    "            0  0.0909091  1  1\n",
    "            0  0.0909091  1  1\n",
    "        ],\n",
    "        [\n",
    "            -0.94636  -0.781776  0.864068  0.864068\n",
    "            -0.94636  -0.781776  0.864068  0.864068\n",
    "            -0.94636  -0.781776  0.864068  0.864068\n",
    "            -0.94636  -0.781776  0.864068  0.864068\n",
    "        ],\n",
    "        [\n",
    "            0.00473934  0.0473934  0.473934  0.473934\n",
    "            0.00473934  0.0473934  0.473934  0.473934\n",
    "            0.00473934  0.0473934  0.473934  0.473934\n",
    "            0.00473934  0.0473934  0.473934  0.473934\n",
    "        ],\n",
    "        [\n",
    "            1.0  2  3  4\n",
    "            1  2  3  4\n",
    "            1  2  3  4\n",
    "            1  2  3  4\n",
    "        ],\n",
    "        [\n",
    "            1.0  2  3  3\n",
    "            1  2  3  3\n",
    "            1  2  3  3\n",
    "            1  2  3  3\n",
    "        ],\n",
    "        [\n",
    "            1.0  2  3  3\n",
    "            1  2  3  3\n",
    "            1  2  3  3\n",
    "            1  2  3  3\n",
    "        ],\n",
    "        [\n",
    "            1  2  3.5  3.5\n",
    "            1  2  3.5  3.5\n",
    "            1  2  3.5  3.5\n",
    "            1  2  3.5  3.5\n",
    "        ],\n",
    "    ),\n",
    ")\n",
    "\n",
    "    BioLab.String.print_header(\"🔫 $no!\")\n",
    "\n",
    "    co = copy(ro_x_co_x_nu)\n",
    "\n",
    "    BioLab.Matrix.apply_by_row!(co, no!)\n",
    "\n",
    "    @test isapprox(co, re; atol = 10^-5)\n",
    "\n",
    "    @code_warntype BioLab.Matrix.apply_by_row!(co, no!)\n",
    "\n",
    "    # 93.181 ns (0 allocations: 0 bytes)\n",
    "    # 113.464 ns (0 allocations: 0 bytes)\n",
    "    # 64.796 ns (0 allocations: 0 bytes)\n",
    "    # 980.533 ns (16 allocations: 1.12 KiB)\n",
    "    # 973.938 ns (16 allocations: 1.12 KiB)\n",
    "    # 962.737 ns (16 allocations: 1.12 KiB)\n",
    "    # 1.021 μs (16 allocations: 1.12 KiB)\n",
    "    # @btime BioLab.Matrix.apply_by_row!($co, $no!) setup = (co = copy(ro_x_co_x_nu))\n",
    "\n",
    "end"
   ]
  }
 ],
 "metadata": {
  "@webio": {
   "lastCommId": null,
   "lastKernelId": null
  },
  "kernelspec": {
   "display_name": "Julia 1.8.5",
   "language": "julia",
   "name": "julia-1.8"
  },
  "language_info": {
   "file_extension": ".jl",
   "mimetype": "application/julia",
   "name": "julia",
   "version": "1.8.5"
  }
 },
 "nbformat": 4,
 "nbformat_minor": 5
}
