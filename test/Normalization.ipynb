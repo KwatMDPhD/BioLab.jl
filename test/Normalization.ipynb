{
 "cells": [
  {
   "outputs": [],
   "cell_type": "code",
   "source": [
    "using BioLab"
   ],
   "id": "baf12f00",
   "metadata": {},
   "execution_count": null
  },
  {
   "cell_type": "markdown",
   "source": [
    "## normalize"
   ],
   "id": "2288d779-6865-449e-9752-d4e0dab5344d",
   "metadata": {}
  },
  {
   "outputs": [],
   "cell_type": "code",
   "source": [
    "for (nu_, ho) in (([], \"0-1\"), ([-1, 0, 1], \"sum\"))\n",
    "\n",
    "    try\n",
    "\n",
    "        BioLab.Normalization.normalize(nu_, ho)\n",
    "\n",
    "    catch er\n",
    "\n",
    "        println(er)\n",
    "\n",
    "    end\n",
    "\n",
    "end"
   ],
   "id": "e319da3e",
   "metadata": {},
   "execution_count": null
  },
  {
   "outputs": [],
   "cell_type": "code",
   "source": [
    "for nu_ in ([0], [1], [0, 0, 0], [1, 1, 1], [0, 1, 2])\n",
    "\n",
    "    println(\"=\"^99)\n",
    "\n",
    "    println(nu_)\n",
    "\n",
    "    for ho in (\"0-1\", \"sum\", \"-0-\")\n",
    "\n",
    "        println(\"-\"^99)\n",
    "\n",
    "        println(ho)\n",
    "\n",
    "        println(BioLab.Normalization.normalize(nu_, ho))\n",
    "\n",
    "    end\n",
    "\n",
    "end"
   ],
   "id": "18a3a96f",
   "metadata": {},
   "execution_count": null
  },
  {
   "outputs": [],
   "cell_type": "code",
   "source": [
    "for nu_ in ([0], [-1, 0, 0, 1, 1, 1, 2])\n",
    "\n",
    "    println(\"=\"^99)\n",
    "\n",
    "    println(nu_)\n",
    "\n",
    "    for ho in (\"1223\", \"1224\", \"1 2.5 2.5 4\", \"1234\")\n",
    "\n",
    "        println(\"-\"^99)\n",
    "\n",
    "        println(ho)\n",
    "\n",
    "        println(BioLab.Normalization.normalize(nu_, ho))\n",
    "\n",
    "    end\n",
    "\n",
    "end"
   ],
   "id": "f082a72e",
   "metadata": {},
   "execution_count": null
  },
  {
   "outputs": [],
   "cell_type": "code",
   "source": [
    "for ro_x_co_x_nu in (\n",
    "    BioLab.Matrix.simulate(2, 3),\n",
    "    [\n",
    "        1 10 100\n",
    "        1 0.1 0.01\n",
    "    ],\n",
    ")\n",
    "\n",
    "    println(\"=\"^99)\n",
    "\n",
    "    display(ro_x_co_x_nu)\n",
    "\n",
    "    for ho in (\"0-1\", \"-0-\")\n",
    "\n",
    "        for di in (1, 2)\n",
    "\n",
    "            println(\"-\"^99)\n",
    "\n",
    "            println(\"$ho, $di\")\n",
    "\n",
    "            display(BioLab.Normalization.normalize(ro_x_co_x_nu, di, \"0-1\"))\n",
    "\n",
    "        end\n",
    "\n",
    "    end\n",
    "\n",
    "end"
   ],
   "id": "583b39cf-50ea-4304-a8d2-fea4bbb7e815",
   "metadata": {},
   "execution_count": null
  },
  {
   "cell_type": "markdown",
   "source": [
    "## normalize!"
   ],
   "id": "e7ba3772",
   "metadata": {}
  },
  {
   "outputs": [],
   "cell_type": "code",
   "source": [
    "nu_ = [NaN, -2, 0, NaN, 2, NaN]\n",
    "\n",
    "BioLab.Normalization.normalize!(nu_, \"0-1\")"
   ],
   "id": "dc629a45-ded9-432f-8a08-42a67831ebe1",
   "metadata": {},
   "execution_count": null
  },
  {
   "outputs": [],
   "cell_type": "code",
   "source": [
    "nu_"
   ],
   "id": "7d4987c5-ad42-40da-a7e8-8ed3a828f818",
   "metadata": {},
   "execution_count": null
  }
 ],
 "nbformat_minor": 5,
 "metadata": {
  "language_info": {
   "file_extension": ".jl",
   "mimetype": "application/julia",
   "name": "julia",
   "version": "1.8.5"
  },
  "@webio": {
   "lastKernelId": null,
   "lastCommId": null
  },
  "kernelspec": {
   "name": "julia-1.8",
   "display_name": "Julia 1.8.5",
   "language": "julia"
  }
 },
 "nbformat": 4
}
