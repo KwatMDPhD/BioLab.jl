{
 "cells": [
  {
   "outputs": [],
   "cell_type": "code",
   "source": [
    "include(\"_.jl\")"
   ],
   "id": "e0f9883d-cb60-4c51-aae0-ad8ebda716d9",
   "metadata": {},
   "execution_count": null
  },
  {
   "cell_type": "markdown",
   "source": [
    "## normalize_with_01!"
   ],
   "id": "389d523a-f85a-4b3e-bb69-eb00937fe7e7",
   "metadata": {}
  },
  {
   "outputs": [],
   "cell_type": "code",
   "source": [
    "@test @check_error BioLab.Normalization.normalize_with_01!([])\n",
    "\n",
    "@test @check_error BioLab.Normalization.normalize_with_01!([1.0, 1.0])\n",
    "\n",
    "for nu_ in ([0.0, 1, 2], [-1.0, 0.0, 1 / 3, 1.0])\n",
    "\n",
    "    BioLab.String.print_header(nu_)\n",
    "\n",
    "    BioLab.Normalization.normalize_with_01!(nu_)\n",
    "\n",
    "    println(nu_)\n",
    "\n",
    "    @code_warntype BioLab.Normalization.normalize_with_01!(nu_)\n",
    "\n",
    "    # 17.576 ns (0 allocations: 0 bytes)\n",
    "    # 21.584 ns (0 allocations: 0 bytes)  \n",
    "    @btime BioLab.Normalization.normalize_with_01!($nu_)\n",
    "\n",
    "end"
   ],
   "id": "45b42813-7aaf-4228-8367-bc2da464161e",
   "metadata": {},
   "execution_count": null
  },
  {
   "cell_type": "markdown",
   "source": [
    "## normalize_with_0!"
   ],
   "id": "33792e1e-d446-4a21-bbfc-a5534b542827",
   "metadata": {}
  },
  {
   "outputs": [],
   "cell_type": "code",
   "source": [
    "@test @check_error BioLab.Normalization.normalize_with_0!([])\n",
    "\n",
    "@test @check_error BioLab.Normalization.normalize_with_0!([1.0, 1.0])\n",
    "\n",
    "for nu_ in ([0.0, 1, 2], [-1.0, 0.0, 1 / 3, 1.0])\n",
    "\n",
    "    BioLab.String.print_header(nu_)\n",
    "\n",
    "    BioLab.Normalization.normalize_with_0!(nu_)\n",
    "\n",
    "    println(nu_)\n",
    "\n",
    "    @code_warntype BioLab.Normalization.normalize_with_0!(nu_)\n",
    "\n",
    "    # 25.577 ns (0 allocations: 0 bytes)\n",
    "    # 26.522 ns (0 allocations: 0 bytes)\n",
    "    @btime BioLab.Normalization.normalize_with_0!($nu_)\n",
    "\n",
    "end"
   ],
   "id": "3adaf557-e741-4f9e-8faa-8f5fb11b43ee",
   "metadata": {},
   "execution_count": null
  },
  {
   "cell_type": "markdown",
   "source": [
    "## normalize_with_sum!"
   ],
   "id": "9750a95f-f3de-4562-9d36-41798e21df3d",
   "metadata": {}
  },
  {
   "outputs": [],
   "cell_type": "code",
   "source": [
    "@test @check_error BioLab.Normalization.normalize_with_sum!([])\n",
    "\n",
    "@test @check_error BioLab.Normalization.normalize_with_sum!([-1.0, 1.0])\n",
    "\n",
    "for nu_ in ([0.0, 1, 2], [1.0, 0.0, 1 / 3, 1.0])\n",
    "\n",
    "    BioLab.String.print_header(nu_)\n",
    "\n",
    "    BioLab.Normalization.normalize_with_sum!(nu_)\n",
    "\n",
    "    println(nu_)\n",
    "\n",
    "    @code_warntype BioLab.Normalization.normalize_with_sum!(nu_)\n",
    "\n",
    "    # 7.042 ns (0 allocations: 0 bytes)\n",
    "    # 8.291 ns (0 allocations: 0 bytes)\n",
    "    @btime BioLab.Normalization.normalize_with_sum!($nu_)\n",
    "\n",
    "end"
   ],
   "id": "1a99a106-c370-4063-8ecd-6e9c53ec8f76",
   "metadata": {},
   "execution_count": null
  },
  {
   "cell_type": "markdown",
   "source": [
    "## normalize_with_1234"
   ],
   "id": "30525bac-da5f-46d9-a715-8e99ec82b40b",
   "metadata": {}
  },
  {
   "outputs": [],
   "cell_type": "code",
   "source": [
    "for nu_ in ([0], [-1, 0, 0, 1, 1, 1, 2])\n",
    "\n",
    "    BioLab.String.print_header(nu_)\n",
    "\n",
    "    println(BioLab.Normalization.normalize_with_1234(nu_))\n",
    "\n",
    "    @code_warntype BioLab.Normalization.normalize_with_1234(nu_)\n",
    "\n",
    "    # 316.004 ns (3 allocations: 144 bytes)\n",
    "    # 331.103 ns (3 allocations: 240 bytes)\n",
    "    @btime BioLab.Normalization.normalize_with_1234($nu_)\n",
    "\n",
    "end"
   ],
   "id": "97145c02-34b3-4008-924c-c7f60789187f",
   "metadata": {},
   "execution_count": null
  },
  {
   "cell_type": "markdown",
   "source": [
    "## normalize_with_1223"
   ],
   "id": "73f3da80-77e5-45be-a2a1-4b6d0e361c54",
   "metadata": {
    "tags": []
   }
  },
  {
   "outputs": [],
   "cell_type": "code",
   "source": [
    "for nu_ in ([0], [-1, 0, 0, 1, 1, 1, 2])\n",
    "\n",
    "    BioLab.String.print_header(nu_)\n",
    "\n",
    "    println(BioLab.Normalization.normalize_with_1223(nu_))\n",
    "\n",
    "    @code_warntype BioLab.Normalization.normalize_with_1223(nu_)\n",
    "\n",
    "    # 316.983 ns (3 allocations: 144 bytes)\n",
    "    # 334.466 ns (3 allocations: 240 bytes)\n",
    "    @btime BioLab.Normalization.normalize_with_1223($nu_)\n",
    "\n",
    "end"
   ],
   "id": "cda7bed7-4984-487a-8166-3c6193619301",
   "metadata": {},
   "execution_count": null
  },
  {
   "cell_type": "markdown",
   "source": [
    "## normalize_with_1224"
   ],
   "id": "c8fa83c0-f281-408d-bf2e-96e80df7e27e",
   "metadata": {
    "tags": []
   }
  },
  {
   "outputs": [],
   "cell_type": "code",
   "source": [
    "for nu_ in ([0], [-1, 0, 0, 1, 1, 1, 2])\n",
    "\n",
    "    BioLab.String.print_header(nu_)\n",
    "\n",
    "    println(BioLab.Normalization.normalize_with_1224(nu_))\n",
    "\n",
    "    @code_warntype BioLab.Normalization.normalize_with_1224(nu_)\n",
    "\n",
    "    # 314.076 ns (3 allocations: 144 bytes)\n",
    "    # 330.545 ns (3 allocations: 240 bytes)\n",
    "    @btime BioLab.Normalization.normalize_with_1224($nu_)\n",
    "\n",
    "end"
   ],
   "id": "934490bf-e80c-4432-96ca-0140469e8abf",
   "metadata": {},
   "execution_count": null
  },
  {
   "cell_type": "markdown",
   "source": [
    "## normalize_with_125254"
   ],
   "id": "ea3093cb-0106-43bf-a4b2-111adc0e05c2",
   "metadata": {
    "tags": []
   }
  },
  {
   "outputs": [],
   "cell_type": "code",
   "source": [
    "for nu_ in ([0], [-1, 0, 0, 1, 1, 1, 2])\n",
    "\n",
    "    BioLab.String.print_header(nu_)\n",
    "\n",
    "    println(BioLab.Normalization.normalize_with_125254(nu_))\n",
    "\n",
    "    @code_warntype BioLab.Normalization.normalize_with_125254(nu_)\n",
    "\n",
    "    # 321.970 ns (3 allocations: 144 bytes)\n",
    "    # 343.171 ns (3 allocations: 240 bytes)\n",
    "    @btime BioLab.Normalization.normalize_with_125254($nu_)\n",
    "\n",
    "end"
   ],
   "id": "2f18a5e6-b316-4f45-b45a-610852994012",
   "metadata": {},
   "execution_count": null
  },
  {
   "cell_type": "markdown",
   "source": [
    "## skip_nan_and_apply!!"
   ],
   "id": "51dca16e-35a9-48d1-918f-8172b947c50d",
   "metadata": {}
  },
  {
   "outputs": [],
   "cell_type": "code",
   "source": [
    "nu_ = [NaN, -2, 0, NaN, 2, NaN]\n",
    "\n",
    "BioLab.VectorNumber.skip_nan_and_apply!!(nu_, BioLab.Normalization.normalize_with_01!)\n",
    "\n",
    "@test isequal(nu_, [NaN, 0.0, 0.5, NaN, 1.0, NaN])"
   ],
   "id": "78f864fb-304d-4db7-915e-455468ce94a6",
   "metadata": {},
   "execution_count": null
  },
  {
   "cell_type": "markdown",
   "source": [
    "## apply_by_*!"
   ],
   "id": "864797ee-17a1-45cc-9d50-3b0fa5f1ec77",
   "metadata": {
    "tags": []
   }
  },
  {
   "outputs": [],
   "cell_type": "code",
   "source": [
    "# TODO: `@test`.\n",
    "for ro_x_co_x_nu in (\n",
    "    BioLab.Matrix.simulate(2, 3, \"1.0:\"),\n",
    "    [\n",
    "        1.0 10 100\n",
    "        2 20 200\n",
    "    ],\n",
    ")\n",
    "\n",
    "    BioLab.String.print_header(\"🧮\")\n",
    "\n",
    "    display(ro_x_co_x_nu)\n",
    "\n",
    "    for no in (\n",
    "        BioLab.Normalization.normalize_with_01!,\n",
    "        BioLab.Normalization.normalize_with_0!,\n",
    "        BioLab.Normalization.normalize_with_sum!,\n",
    "    )\n",
    "\n",
    "        BioLab.String.print_header(\"🔫 $no\")\n",
    "\n",
    "        for ap in (BioLab.Matrix.apply_by_column!, BioLab.Matrix.apply_by_row!)\n",
    "\n",
    "            BioLab.String.print_header(\"🧭 $ap\")\n",
    "\n",
    "            co = copy(ro_x_co_x_nu)\n",
    "\n",
    "            ap(co, no)\n",
    "\n",
    "            display(co)\n",
    "\n",
    "        end\n",
    "\n",
    "    end\n",
    "\n",
    "end"
   ],
   "id": "21865b66-749a-4a66-84f9-b5a7721af6f3",
   "metadata": {},
   "execution_count": null
  }
 ],
 "nbformat_minor": 5,
 "metadata": {
  "language_info": {
   "file_extension": ".jl",
   "mimetype": "application/julia",
   "name": "julia",
   "version": "1.8.5"
  },
  "@webio": {
   "lastKernelId": null,
   "lastCommId": null
  },
  "kernelspec": {
   "name": "julia-1.8",
   "display_name": "Julia 1.8.5",
   "language": "julia"
  }
 },
 "nbformat": 4
}
