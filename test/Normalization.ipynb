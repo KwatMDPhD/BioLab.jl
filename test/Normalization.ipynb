{
 "cells": [
  {
   "cell_type": "code",
   "execution_count": null,
   "id": "baf12f00",
   "metadata": {},
   "outputs": [],
   "source": [
    "using OnePiece"
   ]
  },
  {
   "cell_type": "markdown",
   "id": "2288d779-6865-449e-9752-d4e0dab5344d",
   "metadata": {},
   "source": [
    "## normalize"
   ]
  },
  {
   "cell_type": "code",
   "execution_count": null,
   "id": "e319da3e",
   "metadata": {},
   "outputs": [],
   "source": [
    "try\n",
    "\n",
    "    OnePiece.Normalization.normalize([], \"0-1\")\n",
    "\n",
    "catch er\n",
    "\n",
    "    println(er)\n",
    "\n",
    "end"
   ]
  },
  {
   "cell_type": "code",
   "execution_count": null,
   "id": "e0ab7673",
   "metadata": {},
   "outputs": [],
   "source": [
    "try\n",
    "\n",
    "    OnePiece.Normalization.normalize([-1, 0, 1], \"sum\")\n",
    "\n",
    "catch er\n",
    "\n",
    "    println(er)\n",
    "\n",
    "end"
   ]
  },
  {
   "cell_type": "code",
   "execution_count": null,
   "id": "18a3a96f",
   "metadata": {},
   "outputs": [],
   "source": [
    "for nu_ in ([0], [1], [0, 0, 0], [1, 1, 1], [0, 1, 2])\n",
    "\n",
    "    println(\"=\"^99)\n",
    "\n",
    "    println(nu_)\n",
    "\n",
    "    for ho in (\"0-1\", \"sum\", \"-0-\")\n",
    "\n",
    "        println(\"-\"^99)\n",
    "\n",
    "        println(ho)\n",
    "\n",
    "        println(OnePiece.Normalization.normalize(nu_, ho))\n",
    "\n",
    "    end\n",
    "\n",
    "end"
   ]
  },
  {
   "cell_type": "code",
   "execution_count": null,
   "id": "f082a72e",
   "metadata": {},
   "outputs": [],
   "source": [
    "for nu_ in ([0], [-1, 0, 0, 1, 1, 1, 2])\n",
    "\n",
    "    println(\"=\"^99)\n",
    "\n",
    "    println(nu_)\n",
    "\n",
    "    for ho in (\"1223\", \"1224\", \"1 2.5 2.5 4\", \"1234\")\n",
    "\n",
    "        println(\"-\"^99)\n",
    "\n",
    "        println(ho)\n",
    "\n",
    "        println(OnePiece.Normalization.normalize(nu_, ho))\n",
    "\n",
    "    end\n",
    "\n",
    "end"
   ]
  },
  {
   "cell_type": "code",
   "execution_count": null,
   "id": "583b39cf-50ea-4304-a8d2-fea4bbb7e815",
   "metadata": {},
   "outputs": [],
   "source": [
    "ro_x_co_x_nu = OnePiece.Matrix.simulate(2, 3)\n",
    "\n",
    "for di in (1, 2)\n",
    "\n",
    "    display(OnePiece.Normalization.normalize(ro_x_co_x_nu, di, \"0-1\"))\n",
    "\n",
    "end"
   ]
  },
  {
   "cell_type": "code",
   "execution_count": null,
   "id": "39046d8f-c835-42e5-a9ef-2057d2c34ecb",
   "metadata": {},
   "outputs": [],
   "source": [
    "ro_x_co_x_nu = [\n",
    "    1 10 100\n",
    "    1 0.1 0.01\n",
    "]\n",
    "\n",
    "for di in (1, 2)\n",
    "\n",
    "    display(OnePiece.Normalization.normalize(ro_x_co_x_nu, di, \"-0-\"))\n",
    "\n",
    "end"
   ]
  },
  {
   "cell_type": "markdown",
   "id": "e7ba3772",
   "metadata": {},
   "source": [
    "## normalize!"
   ]
  },
  {
   "cell_type": "code",
   "execution_count": null,
   "id": "dc629a45-ded9-432f-8a08-42a67831ebe1",
   "metadata": {},
   "outputs": [],
   "source": [
    "nu_ = [NaN, -2, 0, NaN, 2, NaN]\n",
    "\n",
    "OnePiece.Normalization.normalize!(nu_, \"0-1\")"
   ]
  },
  {
   "cell_type": "code",
   "execution_count": null,
   "id": "7d4987c5-ad42-40da-a7e8-8ed3a828f818",
   "metadata": {},
   "outputs": [],
   "source": [
    "nu_"
   ]
  }
 ],
 "metadata": {
  "@webio": {
   "lastCommId": null,
   "lastKernelId": null
  },
  "kernelspec": {
   "display_name": "Julia 1.8.2",
   "language": "julia",
   "name": "julia-1.8"
  },
  "language_info": {
   "file_extension": ".jl",
   "mimetype": "application/julia",
   "name": "julia",
   "version": "1.8.2"
  }
 },
 "nbformat": 4,
 "nbformat_minor": 5
}
