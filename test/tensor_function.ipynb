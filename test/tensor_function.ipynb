{
 "cells": [
  {
   "cell_type": "code",
   "execution_count": null,
   "id": "017464da",
   "metadata": {
    "execution": {
     "iopub.execute_input": "2022-02-14T02:56:24.932291Z",
     "iopub.status.busy": "2022-02-14T02:56:24.442862Z",
     "iopub.status.idle": "2022-02-14T02:56:25.204946Z",
     "shell.execute_reply": "2022-02-14T02:56:25.204229Z"
    }
   },
   "outputs": [],
   "source": [
    "TE = joinpath(tempdir(), \"OnePiece.test\")\n",
    "\n",
    "if isdir(TE)\n",
    "\n",
    "    rm(TE, recursive = true)\n",
    "\n",
    "    println(\"Removed \", TE, \".\")\n",
    "\n",
    "end\n",
    "\n",
    "mkdir(TE)\n",
    "\n",
    "println(\"Made \", TE, \".\")"
   ]
  },
  {
   "cell_type": "code",
   "execution_count": null,
   "id": "34e4701e",
   "metadata": {
    "execution": {
     "iopub.execute_input": "2022-02-14T02:56:25.207397Z",
     "iopub.status.busy": "2022-02-14T02:56:25.206706Z",
     "iopub.status.idle": "2022-02-14T02:56:30.959599Z",
     "shell.execute_reply": "2022-02-14T02:56:30.959040Z"
    }
   },
   "outputs": [],
   "source": [
    "using OnePiece"
   ]
  },
  {
   "cell_type": "markdown",
   "id": "b92a3da9",
   "metadata": {},
   "source": [
    "---"
   ]
  },
  {
   "cell_type": "markdown",
   "id": "dbfba2f4",
   "metadata": {},
   "source": [
    "## apply"
   ]
  },
  {
   "cell_type": "code",
   "execution_count": null,
   "id": "ed8f544c",
   "metadata": {
    "execution": {
     "iopub.execute_input": "2022-02-14T02:56:31.402852Z",
     "iopub.status.busy": "2022-02-14T02:56:30.961447Z",
     "iopub.status.idle": "2022-02-14T02:56:31.947552Z",
     "shell.execute_reply": "2022-02-14T02:56:31.947001Z"
    }
   },
   "outputs": [],
   "source": [
    "n_ro = 5\n",
    "\n",
    "n_co = 4\n",
    "\n",
    "n_ze = convert(Int64, n_co / 2)\n",
    "\n",
    "n_on = n_co - n_ze"
   ]
  },
  {
   "cell_type": "code",
   "execution_count": null,
   "id": "2c8afdbb",
   "metadata": {
    "execution": {
     "iopub.execute_input": "2022-02-14T02:56:31.949918Z",
     "iopub.status.busy": "2022-02-14T02:56:31.949136Z",
     "iopub.status.idle": "2022-02-14T02:56:33.331059Z",
     "shell.execute_reply": "2022-02-14T02:56:33.330509Z"
    }
   },
   "outputs": [],
   "source": [
    "bi_ = convert(BitVector, [zeros(n_ze); ones(n_on)])"
   ]
  },
  {
   "cell_type": "code",
   "execution_count": null,
   "id": "1d5ca8fb",
   "metadata": {
    "execution": {
     "iopub.execute_input": "2022-02-14T02:56:33.333456Z",
     "iopub.status.busy": "2022-02-14T02:56:33.332625Z",
     "iopub.status.idle": "2022-02-14T02:56:33.840197Z",
     "shell.execute_reply": "2022-02-14T02:56:33.839573Z"
    }
   },
   "outputs": [],
   "source": [
    "ve = [10^(id - 1) for id in 1:n_co]"
   ]
  },
  {
   "cell_type": "code",
   "execution_count": null,
   "id": "c90efaf5",
   "metadata": {
    "execution": {
     "iopub.execute_input": "2022-02-14T02:56:33.842455Z",
     "iopub.status.busy": "2022-02-14T02:56:33.841765Z",
     "iopub.status.idle": "2022-02-14T02:56:34.358767Z",
     "shell.execute_reply": "2022-02-14T02:56:34.358164Z"
    }
   },
   "outputs": [],
   "source": [
    "ma = convert(Matrix, reshape(1:(n_ro * n_co), (n_ro, n_co)))"
   ]
  },
  {
   "cell_type": "code",
   "execution_count": null,
   "id": "9bc4bab7",
   "metadata": {
    "execution": {
     "iopub.execute_input": "2022-02-14T02:56:34.361452Z",
     "iopub.status.busy": "2022-02-14T02:56:34.360561Z",
     "iopub.status.idle": "2022-02-14T02:56:34.481243Z",
     "shell.execute_reply": "2022-02-14T02:56:34.480694Z"
    }
   },
   "outputs": [],
   "source": [
    "OnePiece.tensor_function.apply(ve, ve, .-)"
   ]
  },
  {
   "cell_type": "code",
   "execution_count": null,
   "id": "65716d59",
   "metadata": {
    "execution": {
     "iopub.execute_input": "2022-02-14T02:56:34.483396Z",
     "iopub.status.busy": "2022-02-14T02:56:34.482710Z",
     "iopub.status.idle": "2022-02-14T02:56:34.597973Z",
     "shell.execute_reply": "2022-02-14T02:56:34.597436Z"
    }
   },
   "outputs": [],
   "source": [
    "OnePiece.tensor_function.apply(bi_, ve, .-)"
   ]
  },
  {
   "cell_type": "code",
   "execution_count": null,
   "id": "21f8ba9e",
   "metadata": {
    "execution": {
     "iopub.execute_input": "2022-02-14T02:56:34.600510Z",
     "iopub.status.busy": "2022-02-14T02:56:34.599496Z",
     "iopub.status.idle": "2022-02-14T02:56:35.369281Z",
     "shell.execute_reply": "2022-02-14T02:56:35.368725Z"
    }
   },
   "outputs": [],
   "source": [
    "OnePiece.tensor_function.apply(ve, ma, .*)"
   ]
  },
  {
   "cell_type": "code",
   "execution_count": null,
   "id": "cb02ff4a",
   "metadata": {
    "execution": {
     "iopub.execute_input": "2022-02-14T02:56:35.371928Z",
     "iopub.status.busy": "2022-02-14T02:56:35.370937Z",
     "iopub.status.idle": "2022-02-14T02:56:35.594612Z",
     "shell.execute_reply": "2022-02-14T02:56:35.594067Z"
    }
   },
   "outputs": [],
   "source": [
    "OnePiece.tensor_function.apply(bi_, ma, .+)"
   ]
  },
  {
   "cell_type": "code",
   "execution_count": null,
   "id": "bd0b8dd5",
   "metadata": {
    "execution": {
     "iopub.execute_input": "2022-02-14T02:56:35.596829Z",
     "iopub.status.busy": "2022-02-14T02:56:35.596144Z",
     "iopub.status.idle": "2022-02-14T02:56:35.784195Z",
     "shell.execute_reply": "2022-02-14T02:56:35.783624Z"
    }
   },
   "outputs": [],
   "source": [
    "OnePiece.tensor_function.apply(ma, ma, (ro1, ro2) -> minimum([ro1; ro2]))"
   ]
  },
  {
   "cell_type": "code",
   "execution_count": null,
   "id": "78d1a02d",
   "metadata": {
    "execution": {
     "iopub.execute_input": "2022-02-14T02:56:35.786437Z",
     "iopub.status.busy": "2022-02-14T02:56:35.785737Z",
     "iopub.status.idle": "2022-02-14T02:56:35.859197Z",
     "shell.execute_reply": "2022-02-14T02:56:35.858587Z"
    }
   },
   "outputs": [],
   "source": [
    "for i in [1, 2], j in [10, 20]\n",
    "\n",
    "    println(i, \" \", j)\n",
    "\n",
    "end"
   ]
  },
  {
   "cell_type": "code",
   "execution_count": null,
   "id": "41c8bd21",
   "metadata": {
    "execution": {
     "iopub.execute_input": "2022-02-14T02:56:35.861426Z",
     "iopub.status.busy": "2022-02-14T02:56:35.860735Z",
     "iopub.status.idle": "2022-02-14T02:56:35.883332Z",
     "shell.execute_reply": "2022-02-14T02:56:35.882818Z"
    }
   },
   "outputs": [],
   "source": [
    "for i in [1, 2]\n",
    "\n",
    "    for j in [10, 20]\n",
    "\n",
    "        println(i, \" \", j)\n",
    "\n",
    "    end\n",
    "\n",
    "end"
   ]
  },
  {
   "cell_type": "code",
   "execution_count": null,
   "id": "b70fb392",
   "metadata": {
    "execution": {
     "iopub.execute_input": "2022-02-14T02:56:35.885527Z",
     "iopub.status.busy": "2022-02-14T02:56:35.884834Z",
     "iopub.status.idle": "2022-02-14T02:56:36.393545Z",
     "shell.execute_reply": "2022-02-14T02:56:36.392994Z"
    }
   },
   "outputs": [],
   "source": [
    "ma2 = [\n",
    "    1 10 100 1000\n",
    "    0.001 0.0 1 0.1\n",
    "]"
   ]
  },
  {
   "cell_type": "code",
   "execution_count": null,
   "id": "d1084452",
   "metadata": {
    "execution": {
     "iopub.execute_input": "2022-02-14T02:56:36.395768Z",
     "iopub.status.busy": "2022-02-14T02:56:36.395083Z",
     "iopub.status.idle": "2022-02-14T02:56:36.398725Z",
     "shell.execute_reply": "2022-02-14T02:56:36.398158Z"
    }
   },
   "outputs": [],
   "source": [
    "ma1 = [\n",
    "    0 0 1 1\n",
    "    -1 0 1 2\n",
    "]"
   ]
  },
  {
   "cell_type": "code",
   "execution_count": null,
   "id": "02cdebbb",
   "metadata": {
    "execution": {
     "iopub.execute_input": "2022-02-14T02:56:36.400980Z",
     "iopub.status.busy": "2022-02-14T02:56:36.400289Z",
     "iopub.status.idle": "2022-02-14T02:56:37.229089Z",
     "shell.execute_reply": "2022-02-14T02:56:37.228547Z"
    }
   },
   "outputs": [],
   "source": [
    "OnePiece.tensor_function.apply(ma1, ma2, .+)"
   ]
  },
  {
   "cell_type": "code",
   "execution_count": null,
   "id": "660015cb",
   "metadata": {
    "execution": {
     "iopub.execute_input": "2022-02-14T02:56:37.231307Z",
     "iopub.status.busy": "2022-02-14T02:56:37.230620Z",
     "iopub.status.idle": "2022-02-14T02:56:37.682136Z",
     "shell.execute_reply": "2022-02-14T02:56:37.681587Z"
    }
   },
   "outputs": [],
   "source": [
    "ma1 = convert(\n",
    "    BitMatrix,\n",
    "    [\n",
    "        0 0 1 1\n",
    "        1 1 0 0\n",
    "    ],\n",
    ")\n",
    "\n",
    "OnePiece.tensor_function.apply(ma1, ma2, .-)"
   ]
  },
  {
   "cell_type": "markdown",
   "id": "3f396855",
   "metadata": {},
   "source": [
    "---"
   ]
  },
  {
   "cell_type": "code",
   "execution_count": null,
   "id": "b4af2023",
   "metadata": {
    "execution": {
     "iopub.execute_input": "2022-02-14T02:56:37.684724Z",
     "iopub.status.busy": "2022-02-14T02:56:37.683849Z",
     "iopub.status.idle": "2022-02-14T02:56:37.686862Z",
     "shell.execute_reply": "2022-02-14T02:56:37.686334Z"
    }
   },
   "outputs": [],
   "source": [
    "if isdir(TE)\n",
    "\n",
    "    rm(TE, recursive = true)\n",
    "\n",
    "    println(\"Removed \", TE, \".\")\n",
    "\n",
    "end"
   ]
  }
 ],
 "metadata": {
  "kernelspec": {
   "display_name": "Julia 1.7.2",
   "language": "julia",
   "name": "julia-1.7"
  },
  "language_info": {
   "file_extension": ".jl",
   "mimetype": "application/julia",
   "name": "julia",
   "version": "1.7.2"
  }
 },
 "nbformat": 4,
 "nbformat_minor": 5
}
