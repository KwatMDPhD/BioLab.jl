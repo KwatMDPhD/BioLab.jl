{
 "cells": [
  {
   "cell_type": "code",
   "execution_count": null,
   "id": "017464da",
   "metadata": {},
   "outputs": [],
   "source": [
    "TE = joinpath(tempdir(), \"OnePiece.test\")\n",
    "\n",
    "if isdir(TE)\n",
    "\n",
    "    rm(TE, recursive = true)\n",
    "\n",
    "    println(\"Removed \", TE, \".\")\n",
    "\n",
    "end\n",
    "\n",
    "mkdir(TE)\n",
    "\n",
    "println(\"Made \", TE, \".\")"
   ]
  },
  {
   "cell_type": "code",
   "execution_count": null,
   "id": "34e4701e",
   "metadata": {
    "execution": {
     "iopub.execute_input": "2022-02-10T17:51:23.590384Z",
     "iopub.status.busy": "2022-02-10T17:51:23.250154Z",
     "iopub.status.idle": "2022-02-10T17:51:24.482021Z",
     "shell.execute_reply": "2022-02-10T17:51:24.481306Z"
    }
   },
   "outputs": [],
   "source": [
    "using OnePiece"
   ]
  },
  {
   "cell_type": "markdown",
   "id": "b92a3da9",
   "metadata": {},
   "source": [
    "---"
   ]
  },
  {
   "cell_type": "markdown",
   "id": "dbfba2f4",
   "metadata": {},
   "source": [
    "## apply"
   ]
  },
  {
   "cell_type": "code",
   "execution_count": null,
   "id": "ed8f544c",
   "metadata": {
    "execution": {
     "iopub.execute_input": "2022-02-11T17:44:39.048129Z",
     "iopub.status.busy": "2022-02-11T17:44:38.711798Z",
     "iopub.status.idle": "2022-02-11T17:44:39.456878Z",
     "shell.execute_reply": "2022-02-11T17:44:39.456342Z"
    }
   },
   "outputs": [],
   "source": [
    "n_ro = 5\n",
    "\n",
    "n_co = 4\n",
    "\n",
    "n_ze = convert(Int64, n_co / 2)\n",
    "\n",
    "n_on = n_co - n_ze"
   ]
  },
  {
   "cell_type": "code",
   "execution_count": null,
   "id": "2c8afdbb",
   "metadata": {
    "execution": {
     "iopub.execute_input": "2022-02-11T17:44:39.459098Z",
     "iopub.status.busy": "2022-02-11T17:44:39.458465Z",
     "iopub.status.idle": "2022-02-11T17:44:40.456328Z",
     "shell.execute_reply": "2022-02-11T17:44:40.455940Z"
    }
   },
   "outputs": [],
   "source": [
    "bi_ = convert(BitVector, [zeros(n_ze); ones(n_on)])"
   ]
  },
  {
   "cell_type": "code",
   "execution_count": null,
   "id": "1d5ca8fb",
   "metadata": {
    "execution": {
     "iopub.execute_input": "2022-02-11T17:44:40.458291Z",
     "iopub.status.busy": "2022-02-11T17:44:40.457697Z",
     "iopub.status.idle": "2022-02-11T17:44:40.834014Z",
     "shell.execute_reply": "2022-02-11T17:44:40.833564Z"
    }
   },
   "outputs": [],
   "source": [
    "ve = [10^(id - 1) for id in 1:n_co]"
   ]
  },
  {
   "cell_type": "code",
   "execution_count": null,
   "id": "c90efaf5",
   "metadata": {
    "execution": {
     "iopub.execute_input": "2022-02-11T17:44:40.836026Z",
     "iopub.status.busy": "2022-02-11T17:44:40.835426Z",
     "iopub.status.idle": "2022-02-11T17:44:41.229802Z",
     "shell.execute_reply": "2022-02-11T17:44:41.229257Z"
    }
   },
   "outputs": [],
   "source": [
    "ma = convert(Matrix, reshape(1:(n_ro * n_co), (n_ro, n_co)))"
   ]
  },
  {
   "cell_type": "code",
   "execution_count": null,
   "id": "9bc4bab7",
   "metadata": {
    "execution": {
     "iopub.execute_input": "2022-02-11T17:44:41.232333Z",
     "iopub.status.busy": "2022-02-11T17:44:41.231438Z",
     "iopub.status.idle": "2022-02-11T17:44:41.324351Z",
     "shell.execute_reply": "2022-02-11T17:44:41.323883Z"
    }
   },
   "outputs": [],
   "source": [
    "OnePiece.tensor_function.apply(ve, ve, .-)"
   ]
  },
  {
   "cell_type": "code",
   "execution_count": null,
   "id": "65716d59",
   "metadata": {
    "execution": {
     "iopub.execute_input": "2022-02-11T17:44:41.326294Z",
     "iopub.status.busy": "2022-02-11T17:44:41.325695Z",
     "iopub.status.idle": "2022-02-11T17:44:41.411889Z",
     "shell.execute_reply": "2022-02-11T17:44:41.411468Z"
    }
   },
   "outputs": [],
   "source": [
    "OnePiece.tensor_function.apply(bi_, ve, .-)"
   ]
  },
  {
   "cell_type": "code",
   "execution_count": null,
   "id": "21f8ba9e",
   "metadata": {
    "execution": {
     "iopub.execute_input": "2022-02-11T17:44:41.414113Z",
     "iopub.status.busy": "2022-02-11T17:44:41.413446Z",
     "iopub.status.idle": "2022-02-11T17:44:41.993355Z",
     "shell.execute_reply": "2022-02-11T17:44:41.992906Z"
    }
   },
   "outputs": [],
   "source": [
    "OnePiece.tensor_function.apply(ve, ma, .*)"
   ]
  },
  {
   "cell_type": "code",
   "execution_count": null,
   "id": "cb02ff4a",
   "metadata": {
    "execution": {
     "iopub.execute_input": "2022-02-11T17:44:41.995288Z",
     "iopub.status.busy": "2022-02-11T17:44:41.994638Z",
     "iopub.status.idle": "2022-02-11T17:44:42.174613Z",
     "shell.execute_reply": "2022-02-11T17:44:42.174157Z"
    }
   },
   "outputs": [],
   "source": [
    "OnePiece.tensor_function.apply(bi_, ma, .+)"
   ]
  },
  {
   "cell_type": "code",
   "execution_count": null,
   "id": "bd0b8dd5",
   "metadata": {
    "execution": {
     "iopub.execute_input": "2022-02-11T17:44:42.176612Z",
     "iopub.status.busy": "2022-02-11T17:44:42.176022Z",
     "iopub.status.idle": "2022-02-11T17:44:42.333860Z",
     "shell.execute_reply": "2022-02-11T17:44:42.333302Z"
    }
   },
   "outputs": [],
   "source": [
    "OnePiece.tensor_function.apply(ma, ma, (ro1, ro2) -> minimum([ro1; ro2]))"
   ]
  },
  {
   "cell_type": "code",
   "execution_count": null,
   "id": "78d1a02d",
   "metadata": {
    "execution": {
     "iopub.execute_input": "2022-02-11T17:44:42.335874Z",
     "iopub.status.busy": "2022-02-11T17:44:42.335233Z",
     "iopub.status.idle": "2022-02-11T17:44:42.396367Z",
     "shell.execute_reply": "2022-02-11T17:44:42.395695Z"
    }
   },
   "outputs": [],
   "source": [
    "for i in [1, 2], j in [10, 20]\n",
    "\n",
    "    println(i, \" \", j)\n",
    "\n",
    "end"
   ]
  },
  {
   "cell_type": "code",
   "execution_count": null,
   "id": "41c8bd21",
   "metadata": {
    "execution": {
     "iopub.execute_input": "2022-02-11T17:44:42.398315Z",
     "iopub.status.busy": "2022-02-11T17:44:42.397655Z",
     "iopub.status.idle": "2022-02-11T17:44:42.416256Z",
     "shell.execute_reply": "2022-02-11T17:44:42.415836Z"
    }
   },
   "outputs": [],
   "source": [
    "for i in [1, 2]\n",
    "\n",
    "    for j in [10, 20]\n",
    "\n",
    "        println(i, \" \", j)\n",
    "\n",
    "    end\n",
    "\n",
    "end"
   ]
  },
  {
   "cell_type": "code",
   "execution_count": null,
   "id": "b70fb392",
   "metadata": {
    "execution": {
     "iopub.execute_input": "2022-02-11T17:44:42.418252Z",
     "iopub.status.busy": "2022-02-11T17:44:42.417600Z",
     "iopub.status.idle": "2022-02-11T17:44:42.823092Z",
     "shell.execute_reply": "2022-02-11T17:44:42.822581Z"
    }
   },
   "outputs": [],
   "source": [
    "ma2 = [\n",
    "    1 10 100 1000\n",
    "    0.001 0.0 1 0.1\n",
    "]"
   ]
  },
  {
   "cell_type": "code",
   "execution_count": null,
   "id": "d1084452",
   "metadata": {
    "execution": {
     "iopub.execute_input": "2022-02-11T17:44:42.824928Z",
     "iopub.status.busy": "2022-02-11T17:44:42.824359Z",
     "iopub.status.idle": "2022-02-11T17:44:42.827574Z",
     "shell.execute_reply": "2022-02-11T17:44:42.827123Z"
    }
   },
   "outputs": [],
   "source": [
    "ma1 = [\n",
    "    0 0 1 1\n",
    "    -1 0 1 2\n",
    "]"
   ]
  },
  {
   "cell_type": "code",
   "execution_count": null,
   "id": "02cdebbb",
   "metadata": {
    "execution": {
     "iopub.execute_input": "2022-02-11T17:44:42.829465Z",
     "iopub.status.busy": "2022-02-11T17:44:42.828889Z",
     "iopub.status.idle": "2022-02-11T17:44:43.515180Z",
     "shell.execute_reply": "2022-02-11T17:44:43.514654Z"
    }
   },
   "outputs": [],
   "source": [
    "OnePiece.tensor_function.apply(ma1, ma2, .+)"
   ]
  },
  {
   "cell_type": "code",
   "execution_count": null,
   "id": "660015cb",
   "metadata": {
    "execution": {
     "iopub.execute_input": "2022-02-11T17:44:43.517106Z",
     "iopub.status.busy": "2022-02-11T17:44:43.516537Z",
     "iopub.status.idle": "2022-02-11T17:44:43.896071Z",
     "shell.execute_reply": "2022-02-11T17:44:43.895530Z"
    }
   },
   "outputs": [],
   "source": [
    "ma1 = convert(\n",
    "    BitMatrix,\n",
    "    [\n",
    "        0 0 1 1\n",
    "        1 1 0 0\n",
    "    ],\n",
    ")\n",
    "\n",
    "OnePiece.tensor_function.apply(ma1, ma2, .-)"
   ]
  },
  {
   "cell_type": "markdown",
   "id": "3f396855",
   "metadata": {},
   "source": [
    "---"
   ]
  },
  {
   "cell_type": "code",
   "execution_count": null,
   "id": "b4af2023",
   "metadata": {},
   "outputs": [],
   "source": [
    "if isdir(TE)\n",
    "\n",
    "    rm(TE, recursive = true)\n",
    "\n",
    "    println(\"Removed \", TE, \".\")\n",
    "\n",
    "end"
   ]
  }
 ],
 "metadata": {
  "kernelspec": {
   "display_name": "Julia 1.7.2",
   "language": "julia",
   "name": "julia-1.7"
  },
  "language_info": {
   "file_extension": ".jl",
   "mimetype": "application/julia",
   "name": "julia",
   "version": "1.7.2"
  }
 },
 "nbformat": 4,
 "nbformat_minor": 5
}
