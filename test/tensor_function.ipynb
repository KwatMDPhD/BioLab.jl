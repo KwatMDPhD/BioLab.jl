{
 "cells": [
  {
   "cell_type": "code",
   "execution_count": null,
   "id": "017464da",
   "metadata": {
    "execution": {
     "iopub.execute_input": "2022-02-14T15:20:43.835347Z",
     "iopub.status.busy": "2022-02-14T15:20:43.501333Z",
     "iopub.status.idle": "2022-02-14T15:20:44.028531Z",
     "shell.execute_reply": "2022-02-14T15:20:44.027754Z"
    }
   },
   "outputs": [],
   "source": [
    "TE = joinpath(tempdir(), \"OnePiece.test\")\n",
    "\n",
    "if isdir(TE)\n",
    "\n",
    "    rm(TE, recursive = true)\n",
    "\n",
    "    println(\"Removed \", TE, \".\")\n",
    "\n",
    "end\n",
    "\n",
    "mkdir(TE)\n",
    "\n",
    "println(\"Made \", TE, \".\")"
   ]
  },
  {
   "cell_type": "code",
   "execution_count": null,
   "id": "34e4701e",
   "metadata": {
    "execution": {
     "iopub.execute_input": "2022-02-14T15:20:44.030325Z",
     "iopub.status.busy": "2022-02-14T15:20:44.029806Z",
     "iopub.status.idle": "2022-02-14T15:20:48.116352Z",
     "shell.execute_reply": "2022-02-14T15:20:48.115864Z"
    }
   },
   "outputs": [],
   "source": [
    "using OnePiece"
   ]
  },
  {
   "cell_type": "markdown",
   "id": "b92a3da9",
   "metadata": {},
   "source": [
    "---"
   ]
  },
  {
   "cell_type": "markdown",
   "id": "dbfba2f4",
   "metadata": {},
   "source": [
    "## apply"
   ]
  },
  {
   "cell_type": "code",
   "execution_count": null,
   "id": "ed8f544c",
   "metadata": {
    "execution": {
     "iopub.execute_input": "2022-02-14T15:20:48.423455Z",
     "iopub.status.busy": "2022-02-14T15:20:48.117895Z",
     "iopub.status.idle": "2022-02-14T15:20:48.810144Z",
     "shell.execute_reply": "2022-02-14T15:20:48.809752Z"
    }
   },
   "outputs": [],
   "source": [
    "n_ro = 5\n",
    "\n",
    "n_co = 4\n",
    "\n",
    "n_ze = convert(Int64, n_co / 2)\n",
    "\n",
    "n_on = n_co - n_ze"
   ]
  },
  {
   "cell_type": "code",
   "execution_count": null,
   "id": "2c8afdbb",
   "metadata": {
    "execution": {
     "iopub.execute_input": "2022-02-14T15:20:48.812007Z",
     "iopub.status.busy": "2022-02-14T15:20:48.811507Z",
     "iopub.status.idle": "2022-02-14T15:20:49.780676Z",
     "shell.execute_reply": "2022-02-14T15:20:49.780219Z"
    }
   },
   "outputs": [],
   "source": [
    "bi_ = convert(BitVector, [zeros(n_ze); ones(n_on)])"
   ]
  },
  {
   "cell_type": "code",
   "execution_count": null,
   "id": "1d5ca8fb",
   "metadata": {
    "execution": {
     "iopub.execute_input": "2022-02-14T15:20:49.782678Z",
     "iopub.status.busy": "2022-02-14T15:20:49.781945Z",
     "iopub.status.idle": "2022-02-14T15:20:50.174835Z",
     "shell.execute_reply": "2022-02-14T15:20:50.174366Z"
    }
   },
   "outputs": [],
   "source": [
    "ve = [10^(id - 1) for id in 1:n_co]"
   ]
  },
  {
   "cell_type": "code",
   "execution_count": null,
   "id": "c90efaf5",
   "metadata": {
    "execution": {
     "iopub.execute_input": "2022-02-14T15:20:50.176687Z",
     "iopub.status.busy": "2022-02-14T15:20:50.176110Z",
     "iopub.status.idle": "2022-02-14T15:20:50.569430Z",
     "shell.execute_reply": "2022-02-14T15:20:50.569037Z"
    }
   },
   "outputs": [],
   "source": [
    "ma = convert(Matrix, reshape(1:(n_ro * n_co), (n_ro, n_co)))"
   ]
  },
  {
   "cell_type": "code",
   "execution_count": null,
   "id": "9bc4bab7",
   "metadata": {
    "execution": {
     "iopub.execute_input": "2022-02-14T15:20:50.571194Z",
     "iopub.status.busy": "2022-02-14T15:20:50.570707Z",
     "iopub.status.idle": "2022-02-14T15:20:50.642405Z",
     "shell.execute_reply": "2022-02-14T15:20:50.642021Z"
    }
   },
   "outputs": [],
   "source": [
    "OnePiece.tensor_function.apply(ve, ve, .-)"
   ]
  },
  {
   "cell_type": "code",
   "execution_count": null,
   "id": "65716d59",
   "metadata": {
    "execution": {
     "iopub.execute_input": "2022-02-14T15:20:50.644201Z",
     "iopub.status.busy": "2022-02-14T15:20:50.643696Z",
     "iopub.status.idle": "2022-02-14T15:20:50.726589Z",
     "shell.execute_reply": "2022-02-14T15:20:50.725944Z"
    }
   },
   "outputs": [],
   "source": [
    "OnePiece.tensor_function.apply(bi_, ve, .-)"
   ]
  },
  {
   "cell_type": "code",
   "execution_count": null,
   "id": "21f8ba9e",
   "metadata": {
    "execution": {
     "iopub.execute_input": "2022-02-14T15:20:50.728429Z",
     "iopub.status.busy": "2022-02-14T15:20:50.727939Z",
     "iopub.status.idle": "2022-02-14T15:20:51.246303Z",
     "shell.execute_reply": "2022-02-14T15:20:51.245922Z"
    }
   },
   "outputs": [],
   "source": [
    "OnePiece.tensor_function.apply(ve, ma, .*)"
   ]
  },
  {
   "cell_type": "code",
   "execution_count": null,
   "id": "cb02ff4a",
   "metadata": {
    "execution": {
     "iopub.execute_input": "2022-02-14T15:20:51.248129Z",
     "iopub.status.busy": "2022-02-14T15:20:51.247642Z",
     "iopub.status.idle": "2022-02-14T15:20:51.399206Z",
     "shell.execute_reply": "2022-02-14T15:20:51.398749Z"
    }
   },
   "outputs": [],
   "source": [
    "OnePiece.tensor_function.apply(bi_, ma, .+)"
   ]
  },
  {
   "cell_type": "code",
   "execution_count": null,
   "id": "bd0b8dd5",
   "metadata": {
    "execution": {
     "iopub.execute_input": "2022-02-14T15:20:51.401129Z",
     "iopub.status.busy": "2022-02-14T15:20:51.400629Z",
     "iopub.status.idle": "2022-02-14T15:20:51.538814Z",
     "shell.execute_reply": "2022-02-14T15:20:51.538426Z"
    }
   },
   "outputs": [],
   "source": [
    "OnePiece.tensor_function.apply(ma, ma, (ro1, ro2) -> minimum([ro1; ro2]))"
   ]
  },
  {
   "cell_type": "code",
   "execution_count": null,
   "id": "78d1a02d",
   "metadata": {
    "execution": {
     "iopub.execute_input": "2022-02-14T15:20:51.540827Z",
     "iopub.status.busy": "2022-02-14T15:20:51.540331Z",
     "iopub.status.idle": "2022-02-14T15:20:51.594763Z",
     "shell.execute_reply": "2022-02-14T15:20:51.594298Z"
    }
   },
   "outputs": [],
   "source": [
    "for i in [1, 2], j in [10, 20]\n",
    "\n",
    "    println(i, \" \", j)\n",
    "\n",
    "end"
   ]
  },
  {
   "cell_type": "code",
   "execution_count": null,
   "id": "41c8bd21",
   "metadata": {
    "execution": {
     "iopub.execute_input": "2022-02-14T15:20:51.596775Z",
     "iopub.status.busy": "2022-02-14T15:20:51.596255Z",
     "iopub.status.idle": "2022-02-14T15:20:51.612962Z",
     "shell.execute_reply": "2022-02-14T15:20:51.612601Z"
    }
   },
   "outputs": [],
   "source": [
    "for i in [1, 2]\n",
    "\n",
    "    for j in [10, 20]\n",
    "\n",
    "        println(i, \" \", j)\n",
    "\n",
    "    end\n",
    "\n",
    "end"
   ]
  },
  {
   "cell_type": "code",
   "execution_count": null,
   "id": "b70fb392",
   "metadata": {
    "execution": {
     "iopub.execute_input": "2022-02-14T15:20:51.615033Z",
     "iopub.status.busy": "2022-02-14T15:20:51.614400Z",
     "iopub.status.idle": "2022-02-14T15:20:51.974895Z",
     "shell.execute_reply": "2022-02-14T15:20:51.974461Z"
    }
   },
   "outputs": [],
   "source": [
    "ma2 = [\n",
    "    1 10 100 1000\n",
    "    0.001 0.0 1 0.1\n",
    "]"
   ]
  },
  {
   "cell_type": "code",
   "execution_count": null,
   "id": "d1084452",
   "metadata": {
    "execution": {
     "iopub.execute_input": "2022-02-14T15:20:51.977559Z",
     "iopub.status.busy": "2022-02-14T15:20:51.977060Z",
     "iopub.status.idle": "2022-02-14T15:20:51.979840Z",
     "shell.execute_reply": "2022-02-14T15:20:51.979455Z"
    }
   },
   "outputs": [],
   "source": [
    "ma1 = [\n",
    "    0 0 1 1\n",
    "    -1 0 1 2\n",
    "]"
   ]
  },
  {
   "cell_type": "code",
   "execution_count": null,
   "id": "02cdebbb",
   "metadata": {
    "execution": {
     "iopub.execute_input": "2022-02-14T15:20:51.981659Z",
     "iopub.status.busy": "2022-02-14T15:20:51.981171Z",
     "iopub.status.idle": "2022-02-14T15:20:52.572615Z",
     "shell.execute_reply": "2022-02-14T15:20:52.572176Z"
    }
   },
   "outputs": [],
   "source": [
    "OnePiece.tensor_function.apply(ma1, ma2, .+)"
   ]
  },
  {
   "cell_type": "code",
   "execution_count": null,
   "id": "660015cb",
   "metadata": {
    "execution": {
     "iopub.execute_input": "2022-02-14T15:20:52.574395Z",
     "iopub.status.busy": "2022-02-14T15:20:52.573910Z",
     "iopub.status.idle": "2022-02-14T15:20:52.895074Z",
     "shell.execute_reply": "2022-02-14T15:20:52.894693Z"
    }
   },
   "outputs": [],
   "source": [
    "ma1 = convert(\n",
    "    BitMatrix,\n",
    "    [\n",
    "        0 0 1 1\n",
    "        1 1 0 0\n",
    "    ],\n",
    ")\n",
    "\n",
    "OnePiece.tensor_function.apply(ma1, ma2, .-)"
   ]
  },
  {
   "cell_type": "markdown",
   "id": "3f396855",
   "metadata": {},
   "source": [
    "---"
   ]
  },
  {
   "cell_type": "code",
   "execution_count": null,
   "id": "b4af2023",
   "metadata": {
    "execution": {
     "iopub.execute_input": "2022-02-14T15:20:52.897138Z",
     "iopub.status.busy": "2022-02-14T15:20:52.896405Z",
     "iopub.status.idle": "2022-02-14T15:20:52.899051Z",
     "shell.execute_reply": "2022-02-14T15:20:52.898675Z"
    }
   },
   "outputs": [],
   "source": [
    "if isdir(TE)\n",
    "\n",
    "    rm(TE, recursive = true)\n",
    "\n",
    "    println(\"Removed \", TE, \".\")\n",
    "\n",
    "end"
   ]
  }
 ],
 "metadata": {
  "kernelspec": {
   "display_name": "Julia 1.7.2",
   "language": "julia",
   "name": "julia-1.7"
  },
  "language_info": {
   "file_extension": ".jl",
   "mimetype": "application/julia",
   "name": "julia",
   "version": "1.7.2"
  }
 },
 "nbformat": 4,
 "nbformat_minor": 5
}
