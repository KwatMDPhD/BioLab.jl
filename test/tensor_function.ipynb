{
 "cells": [
  {
   "cell_type": "code",
   "execution_count": 1,
   "id": "34e4701e",
   "metadata": {
    "execution": {
     "iopub.execute_input": "2022-02-10T17:51:23.590384Z",
     "iopub.status.busy": "2022-02-10T17:51:23.250154Z",
     "iopub.status.idle": "2022-02-10T17:51:24.482021Z",
     "shell.execute_reply": "2022-02-10T17:51:24.481306Z"
    }
   },
   "outputs": [],
   "source": [
    "using Revise\n",
    "using BenchmarkTools"
   ]
  },
  {
   "cell_type": "code",
   "execution_count": 2,
   "id": "b3325ba2-989b-48ae-b530-5d0f64147f9a",
   "metadata": {
    "execution": {
     "iopub.execute_input": "2022-02-10T17:51:24.484117Z",
     "iopub.status.busy": "2022-02-10T17:51:24.483494Z",
     "iopub.status.idle": "2022-02-10T17:51:30.107187Z",
     "shell.execute_reply": "2022-02-10T17:51:30.106566Z"
    }
   },
   "outputs": [],
   "source": [
    "using OnePiece"
   ]
  },
  {
   "cell_type": "markdown",
   "id": "a4f49444",
   "metadata": {},
   "source": [
    "## apply"
   ]
  },
  {
   "cell_type": "code",
   "execution_count": 3,
   "id": "ed8f544c",
   "metadata": {
    "execution": {
     "iopub.execute_input": "2022-02-10T17:51:30.578447Z",
     "iopub.status.busy": "2022-02-10T17:51:30.108434Z",
     "iopub.status.idle": "2022-02-10T17:51:32.125416Z",
     "shell.execute_reply": "2022-02-10T17:51:32.124959Z"
    }
   },
   "outputs": [
    {
     "data": {
      "text/plain": [
       "2"
      ]
     },
     "execution_count": 3,
     "metadata": {},
     "output_type": "execute_result"
    }
   ],
   "source": [
    "n_ro = 5\n",
    "\n",
    "n_co = 4\n",
    "\n",
    "n_ze = convert(Int64, n_co / 2)\n",
    "\n",
    "n_on = n_co - n_ze"
   ]
  },
  {
   "cell_type": "code",
   "execution_count": 4,
   "id": "2c8afdbb",
   "metadata": {
    "execution": {
     "iopub.execute_input": "2022-02-10T17:51:32.127230Z",
     "iopub.status.busy": "2022-02-10T17:51:32.126661Z",
     "iopub.status.idle": "2022-02-10T17:51:33.411112Z",
     "shell.execute_reply": "2022-02-10T17:51:33.410570Z"
    }
   },
   "outputs": [
    {
     "data": {
      "text/plain": [
       "4-element BitVector:\n",
       " 0\n",
       " 0\n",
       " 1\n",
       " 1"
      ]
     },
     "execution_count": 4,
     "metadata": {},
     "output_type": "execute_result"
    }
   ],
   "source": [
    "bi_ = convert(BitVector, [zeros(n_ze); ones(n_on)])"
   ]
  },
  {
   "cell_type": "code",
   "execution_count": 5,
   "id": "1d5ca8fb",
   "metadata": {
    "execution": {
     "iopub.execute_input": "2022-02-10T17:51:33.413089Z",
     "iopub.status.busy": "2022-02-10T17:51:33.412442Z",
     "iopub.status.idle": "2022-02-10T17:51:33.891709Z",
     "shell.execute_reply": "2022-02-10T17:51:33.891238Z"
    }
   },
   "outputs": [
    {
     "data": {
      "text/plain": [
       "4-element Vector{Int64}:\n",
       "    1\n",
       "   10\n",
       "  100\n",
       " 1000"
      ]
     },
     "execution_count": 5,
     "metadata": {},
     "output_type": "execute_result"
    }
   ],
   "source": [
    "ve = [10^(id - 1) for id in 1:n_co]"
   ]
  },
  {
   "cell_type": "code",
   "execution_count": 6,
   "id": "c90efaf5",
   "metadata": {
    "execution": {
     "iopub.execute_input": "2022-02-10T17:51:33.893574Z",
     "iopub.status.busy": "2022-02-10T17:51:33.892974Z",
     "iopub.status.idle": "2022-02-10T17:51:34.344061Z",
     "shell.execute_reply": "2022-02-10T17:51:34.343465Z"
    }
   },
   "outputs": [
    {
     "data": {
      "text/plain": [
       "5×4 Matrix{Int64}:\n",
       " 1   6  11  16\n",
       " 2   7  12  17\n",
       " 3   8  13  18\n",
       " 4   9  14  19\n",
       " 5  10  15  20"
      ]
     },
     "execution_count": 6,
     "metadata": {},
     "output_type": "execute_result"
    }
   ],
   "source": [
    "ma = convert(Matrix, reshape(1:(n_ro * n_co), (n_ro, n_co)))"
   ]
  },
  {
   "cell_type": "code",
   "execution_count": 7,
   "id": "9bc4bab7",
   "metadata": {
    "execution": {
     "iopub.execute_input": "2022-02-10T17:51:34.346184Z",
     "iopub.status.busy": "2022-02-10T17:51:34.345454Z",
     "iopub.status.idle": "2022-02-10T17:51:34.463423Z",
     "shell.execute_reply": "2022-02-10T17:51:34.463024Z"
    }
   },
   "outputs": [
    {
     "data": {
      "text/plain": [
       "4-element Vector{Int64}:\n",
       " 0\n",
       " 0\n",
       " 0\n",
       " 0"
      ]
     },
     "execution_count": 7,
     "metadata": {},
     "output_type": "execute_result"
    }
   ],
   "source": [
    "OnePiece.tensor_function.apply(ve, ve, .-)"
   ]
  },
  {
   "cell_type": "code",
   "execution_count": 8,
   "id": "65716d59",
   "metadata": {
    "execution": {
     "iopub.execute_input": "2022-02-10T17:51:34.465451Z",
     "iopub.status.busy": "2022-02-10T17:51:34.464935Z",
     "iopub.status.idle": "2022-02-10T17:51:34.570884Z",
     "shell.execute_reply": "2022-02-10T17:51:34.570440Z"
    }
   },
   "outputs": [
    {
     "data": {
      "text/plain": [
       "2-element Vector{Int64}:\n",
       "  99\n",
       " 990"
      ]
     },
     "execution_count": 8,
     "metadata": {},
     "output_type": "execute_result"
    }
   ],
   "source": [
    "OnePiece.tensor_function.apply(bi_, ve, .-)"
   ]
  },
  {
   "cell_type": "code",
   "execution_count": 9,
   "id": "21f8ba9e",
   "metadata": {
    "execution": {
     "iopub.execute_input": "2022-02-10T17:51:34.572896Z",
     "iopub.status.busy": "2022-02-10T17:51:34.572233Z",
     "iopub.status.idle": "2022-02-10T17:51:35.242335Z",
     "shell.execute_reply": "2022-02-10T17:51:35.241877Z"
    }
   },
   "outputs": [
    {
     "data": {
      "text/plain": [
       "5-element Vector{Vector{Int64}}:\n",
       " [1, 60, 1100, 16000]\n",
       " [2, 70, 1200, 17000]\n",
       " [3, 80, 1300, 18000]\n",
       " [4, 90, 1400, 19000]\n",
       " [5, 100, 1500, 20000]"
      ]
     },
     "execution_count": 9,
     "metadata": {},
     "output_type": "execute_result"
    }
   ],
   "source": [
    "OnePiece.tensor_function.apply(ve, ma, .*)"
   ]
  },
  {
   "cell_type": "code",
   "execution_count": 10,
   "id": "cb02ff4a",
   "metadata": {
    "execution": {
     "iopub.execute_input": "2022-02-10T17:51:35.244196Z",
     "iopub.status.busy": "2022-02-10T17:51:35.243558Z",
     "iopub.status.idle": "2022-02-10T17:51:35.461454Z",
     "shell.execute_reply": "2022-02-10T17:51:35.460966Z"
    }
   },
   "outputs": [
    {
     "data": {
      "text/plain": [
       "5-element Vector{Vector{Int64}}:\n",
       " [12, 22]\n",
       " [14, 24]\n",
       " [16, 26]\n",
       " [18, 28]\n",
       " [20, 30]"
      ]
     },
     "execution_count": 10,
     "metadata": {},
     "output_type": "execute_result"
    }
   ],
   "source": [
    "OnePiece.tensor_function.apply(bi_, ma, .+)"
   ]
  },
  {
   "cell_type": "code",
   "execution_count": 11,
   "id": "bd0b8dd5",
   "metadata": {
    "execution": {
     "iopub.execute_input": "2022-02-10T17:51:35.464150Z",
     "iopub.status.busy": "2022-02-10T17:51:35.463420Z",
     "iopub.status.idle": "2022-02-10T17:51:35.645655Z",
     "shell.execute_reply": "2022-02-10T17:51:35.645170Z"
    }
   },
   "outputs": [
    {
     "data": {
      "text/plain": [
       "5×5 Matrix{Int64}:\n",
       " 1  1  1  1  1\n",
       " 1  2  2  2  2\n",
       " 1  2  3  3  3\n",
       " 1  2  3  4  4\n",
       " 1  2  3  4  5"
      ]
     },
     "execution_count": 11,
     "metadata": {},
     "output_type": "execute_result"
    }
   ],
   "source": [
    "OnePiece.tensor_function.apply(ma, ma, (ro1, ro2) -> minimum([ro1; ro2]))"
   ]
  },
  {
   "cell_type": "code",
   "execution_count": 12,
   "id": "78d1a02d",
   "metadata": {
    "execution": {
     "iopub.execute_input": "2022-02-10T17:51:35.647566Z",
     "iopub.status.busy": "2022-02-10T17:51:35.646978Z",
     "iopub.status.idle": "2022-02-10T17:51:35.719934Z",
     "shell.execute_reply": "2022-02-10T17:51:35.719419Z"
    }
   },
   "outputs": [
    {
     "name": "stdout",
     "output_type": "stream",
     "text": [
      "1 10\n",
      "1 20\n",
      "2 10\n",
      "2 20\n"
     ]
    }
   ],
   "source": [
    "for i in [1, 2], j in [10, 20]\n",
    "\n",
    "    println(i, \" \", j)\n",
    "\n",
    "end"
   ]
  },
  {
   "cell_type": "code",
   "execution_count": 13,
   "id": "41c8bd21",
   "metadata": {
    "execution": {
     "iopub.execute_input": "2022-02-10T17:51:35.721874Z",
     "iopub.status.busy": "2022-02-10T17:51:35.721310Z",
     "iopub.status.idle": "2022-02-10T17:51:35.750598Z",
     "shell.execute_reply": "2022-02-10T17:51:35.750216Z"
    }
   },
   "outputs": [
    {
     "name": "stdout",
     "output_type": "stream",
     "text": [
      "1 10\n",
      "1 20\n",
      "2 10\n",
      "2 20\n"
     ]
    }
   ],
   "source": [
    "for i in [1, 2]\n",
    "\n",
    "    for j in [10, 20]\n",
    "\n",
    "        println(i, \" \", j)\n",
    "\n",
    "    end\n",
    "\n",
    "end"
   ]
  },
  {
   "cell_type": "code",
   "execution_count": 14,
   "id": "b70fb392",
   "metadata": {
    "execution": {
     "iopub.execute_input": "2022-02-10T17:51:35.752516Z",
     "iopub.status.busy": "2022-02-10T17:51:35.752010Z",
     "iopub.status.idle": "2022-02-10T17:51:36.181471Z",
     "shell.execute_reply": "2022-02-10T17:51:36.180858Z"
    }
   },
   "outputs": [
    {
     "data": {
      "text/plain": [
       "2×4 Matrix{Float64}:\n",
       " 1.0    10.0  100.0  1000.0\n",
       " 0.001   0.0    1.0     0.1"
      ]
     },
     "execution_count": 14,
     "metadata": {},
     "output_type": "execute_result"
    }
   ],
   "source": [
    "ma2 = [\n",
    "    1 10 100 1000\n",
    "    0.001 0.0 1 0.1\n",
    "]"
   ]
  },
  {
   "cell_type": "code",
   "execution_count": 15,
   "id": "d1084452",
   "metadata": {
    "execution": {
     "iopub.execute_input": "2022-02-10T17:51:36.184398Z",
     "iopub.status.busy": "2022-02-10T17:51:36.183278Z",
     "iopub.status.idle": "2022-02-10T17:51:36.197717Z",
     "shell.execute_reply": "2022-02-10T17:51:36.197285Z"
    }
   },
   "outputs": [
    {
     "data": {
      "text/plain": [
       "2×4 Matrix{Int64}:\n",
       "  0  0  1  1\n",
       " -1  0  1  2"
      ]
     },
     "execution_count": 15,
     "metadata": {},
     "output_type": "execute_result"
    }
   ],
   "source": [
    "ma1 = [\n",
    "    0 0 1 1\n",
    "    -1 0 1 2\n",
    "]"
   ]
  },
  {
   "cell_type": "code",
   "execution_count": 16,
   "id": "02cdebbb",
   "metadata": {
    "execution": {
     "iopub.execute_input": "2022-02-10T17:51:36.199933Z",
     "iopub.status.busy": "2022-02-10T17:51:36.199332Z",
     "iopub.status.idle": "2022-02-10T17:51:36.926113Z",
     "shell.execute_reply": "2022-02-10T17:51:36.925676Z"
    }
   },
   "outputs": [
    {
     "data": {
      "text/plain": [
       "2×2 Matrix{Vector{Float64}}:\n",
       " [1.0, 10.0, 101.0, 1001.0]  [0.001, 0.0, 2.0, 1.1]\n",
       " [0.0, 10.0, 101.0, 1002.0]  [-0.999, 0.0, 2.0, 2.1]"
      ]
     },
     "execution_count": 16,
     "metadata": {},
     "output_type": "execute_result"
    }
   ],
   "source": [
    "OnePiece.tensor_function.apply(ma1, ma2, .+)"
   ]
  },
  {
   "cell_type": "code",
   "execution_count": 17,
   "id": "660015cb",
   "metadata": {
    "execution": {
     "iopub.execute_input": "2022-02-10T17:51:36.927998Z",
     "iopub.status.busy": "2022-02-10T17:51:36.927433Z",
     "iopub.status.idle": "2022-02-10T17:51:37.319758Z",
     "shell.execute_reply": "2022-02-10T17:51:37.319373Z"
    }
   },
   "outputs": [
    {
     "data": {
      "text/plain": [
       "2×2 Matrix{Vector{Float64}}:\n",
       " [99.0, 990.0]    [0.999, 0.1]\n",
       " [-99.0, -990.0]  [-0.999, -0.1]"
      ]
     },
     "execution_count": 17,
     "metadata": {},
     "output_type": "execute_result"
    }
   ],
   "source": [
    "ma1 = convert(\n",
    "    BitMatrix,\n",
    "    [\n",
    "        0 0 1 1\n",
    "        1 1 0 0\n",
    "    ],\n",
    ")\n",
    "\n",
    "OnePiece.tensor_function.apply(ma1, ma2, .-)"
   ]
  }
 ],
 "metadata": {
  "@webio": {
   "lastCommId": null,
   "lastKernelId": null
  },
  "kernelspec": {
   "display_name": "Julia 1.7.2",
   "language": "julia",
   "name": "julia-1.7"
  },
  "language_info": {
   "file_extension": ".jl",
   "mimetype": "application/julia",
   "name": "julia",
   "version": "1.7.2"
  }
 },
 "nbformat": 4,
 "nbformat_minor": 5
}
