{
 "cells": [
  {
   "cell_type": "code",
   "execution_count": null,
   "id": "017464da",
   "metadata": {
    "execution": {
     "iopub.execute_input": "2022-02-14T16:15:28.909922Z",
     "iopub.status.busy": "2022-02-14T16:15:28.521045Z",
     "iopub.status.idle": "2022-02-14T16:15:29.113232Z",
     "shell.execute_reply": "2022-02-14T16:15:29.112622Z"
    }
   },
   "outputs": [],
   "source": [
    "TE = joinpath(tempdir(), \"OnePiece.test\")\n",
    "\n",
    "if isdir(TE)\n",
    "\n",
    "    rm(TE, recursive = true)\n",
    "\n",
    "    println(\"Removed \", TE, \".\")\n",
    "\n",
    "end\n",
    "\n",
    "mkdir(TE)\n",
    "\n",
    "println(\"Made \", TE, \".\")"
   ]
  },
  {
   "cell_type": "code",
   "execution_count": null,
   "id": "34e4701e",
   "metadata": {
    "execution": {
     "iopub.execute_input": "2022-02-14T16:15:29.115069Z",
     "iopub.status.busy": "2022-02-14T16:15:29.114532Z",
     "iopub.status.idle": "2022-02-14T16:15:33.704661Z",
     "shell.execute_reply": "2022-02-14T16:15:33.704049Z"
    }
   },
   "outputs": [],
   "source": [
    "using OnePiece"
   ]
  },
  {
   "cell_type": "markdown",
   "id": "b92a3da9",
   "metadata": {},
   "source": [
    "---"
   ]
  },
  {
   "cell_type": "markdown",
   "id": "dbfba2f4",
   "metadata": {},
   "source": [
    "## apply"
   ]
  },
  {
   "cell_type": "code",
   "execution_count": null,
   "id": "ed8f544c",
   "metadata": {
    "execution": {
     "iopub.execute_input": "2022-02-14T16:15:34.064772Z",
     "iopub.status.busy": "2022-02-14T16:15:33.706121Z",
     "iopub.status.idle": "2022-02-14T16:15:34.531239Z",
     "shell.execute_reply": "2022-02-14T16:15:34.530764Z"
    }
   },
   "outputs": [],
   "source": [
    "n_ro = 5\n",
    "\n",
    "n_co = 4\n",
    "\n",
    "n_ze = convert(Int64, n_co / 2)\n",
    "\n",
    "n_on = n_co - n_ze"
   ]
  },
  {
   "cell_type": "code",
   "execution_count": null,
   "id": "2c8afdbb",
   "metadata": {
    "execution": {
     "iopub.execute_input": "2022-02-14T16:15:34.533180Z",
     "iopub.status.busy": "2022-02-14T16:15:34.532597Z",
     "iopub.status.idle": "2022-02-14T16:15:35.659190Z",
     "shell.execute_reply": "2022-02-14T16:15:35.658672Z"
    }
   },
   "outputs": [],
   "source": [
    "bi_ = convert(BitVector, [zeros(n_ze); ones(n_on)])"
   ]
  },
  {
   "cell_type": "code",
   "execution_count": null,
   "id": "1d5ca8fb",
   "metadata": {
    "execution": {
     "iopub.execute_input": "2022-02-14T16:15:35.661132Z",
     "iopub.status.busy": "2022-02-14T16:15:35.660534Z",
     "iopub.status.idle": "2022-02-14T16:15:36.076529Z",
     "shell.execute_reply": "2022-02-14T16:15:36.075969Z"
    }
   },
   "outputs": [],
   "source": [
    "ve = [10^(id - 1) for id in 1:n_co]"
   ]
  },
  {
   "cell_type": "code",
   "execution_count": null,
   "id": "c90efaf5",
   "metadata": {
    "execution": {
     "iopub.execute_input": "2022-02-14T16:15:36.079143Z",
     "iopub.status.busy": "2022-02-14T16:15:36.078274Z",
     "iopub.status.idle": "2022-02-14T16:15:36.492747Z",
     "shell.execute_reply": "2022-02-14T16:15:36.492222Z"
    }
   },
   "outputs": [],
   "source": [
    "ma = convert(Matrix, reshape(1:(n_ro * n_co), (n_ro, n_co)))"
   ]
  },
  {
   "cell_type": "code",
   "execution_count": null,
   "id": "9bc4bab7",
   "metadata": {
    "execution": {
     "iopub.execute_input": "2022-02-14T16:15:36.494776Z",
     "iopub.status.busy": "2022-02-14T16:15:36.494194Z",
     "iopub.status.idle": "2022-02-14T16:15:36.582477Z",
     "shell.execute_reply": "2022-02-14T16:15:36.581926Z"
    }
   },
   "outputs": [],
   "source": [
    "OnePiece.tensor_function.apply(ve, ve, .-)"
   ]
  },
  {
   "cell_type": "code",
   "execution_count": null,
   "id": "65716d59",
   "metadata": {
    "execution": {
     "iopub.execute_input": "2022-02-14T16:15:36.584435Z",
     "iopub.status.busy": "2022-02-14T16:15:36.583837Z",
     "iopub.status.idle": "2022-02-14T16:15:36.679450Z",
     "shell.execute_reply": "2022-02-14T16:15:36.678988Z"
    }
   },
   "outputs": [],
   "source": [
    "OnePiece.tensor_function.apply(bi_, ve, .-)"
   ]
  },
  {
   "cell_type": "code",
   "execution_count": null,
   "id": "21f8ba9e",
   "metadata": {
    "execution": {
     "iopub.execute_input": "2022-02-14T16:15:36.681415Z",
     "iopub.status.busy": "2022-02-14T16:15:36.680829Z",
     "iopub.status.idle": "2022-02-14T16:15:37.288776Z",
     "shell.execute_reply": "2022-02-14T16:15:37.288297Z"
    }
   },
   "outputs": [],
   "source": [
    "OnePiece.tensor_function.apply(ve, ma, .*)"
   ]
  },
  {
   "cell_type": "code",
   "execution_count": null,
   "id": "cb02ff4a",
   "metadata": {
    "execution": {
     "iopub.execute_input": "2022-02-14T16:15:37.290803Z",
     "iopub.status.busy": "2022-02-14T16:15:37.290137Z",
     "iopub.status.idle": "2022-02-14T16:15:37.457116Z",
     "shell.execute_reply": "2022-02-14T16:15:37.456733Z"
    }
   },
   "outputs": [],
   "source": [
    "OnePiece.tensor_function.apply(bi_, ma, .+)"
   ]
  },
  {
   "cell_type": "code",
   "execution_count": null,
   "id": "bd0b8dd5",
   "metadata": {
    "execution": {
     "iopub.execute_input": "2022-02-14T16:15:37.459054Z",
     "iopub.status.busy": "2022-02-14T16:15:37.458497Z",
     "iopub.status.idle": "2022-02-14T16:15:37.600623Z",
     "shell.execute_reply": "2022-02-14T16:15:37.600222Z"
    }
   },
   "outputs": [],
   "source": [
    "OnePiece.tensor_function.apply(ma, ma, (ro1, ro2) -> minimum([ro1; ro2]))"
   ]
  },
  {
   "cell_type": "code",
   "execution_count": null,
   "id": "78d1a02d",
   "metadata": {
    "execution": {
     "iopub.execute_input": "2022-02-14T16:15:37.602809Z",
     "iopub.status.busy": "2022-02-14T16:15:37.602309Z",
     "iopub.status.idle": "2022-02-14T16:15:37.657397Z",
     "shell.execute_reply": "2022-02-14T16:15:37.656907Z"
    }
   },
   "outputs": [],
   "source": [
    "for i in [1, 2], j in [10, 20]\n",
    "\n",
    "    println(i, \" \", j)\n",
    "\n",
    "end"
   ]
  },
  {
   "cell_type": "code",
   "execution_count": null,
   "id": "41c8bd21",
   "metadata": {
    "execution": {
     "iopub.execute_input": "2022-02-14T16:15:37.659636Z",
     "iopub.status.busy": "2022-02-14T16:15:37.658908Z",
     "iopub.status.idle": "2022-02-14T16:15:37.676277Z",
     "shell.execute_reply": "2022-02-14T16:15:37.675898Z"
    }
   },
   "outputs": [],
   "source": [
    "for i in [1, 2]\n",
    "\n",
    "    for j in [10, 20]\n",
    "\n",
    "        println(i, \" \", j)\n",
    "\n",
    "    end\n",
    "\n",
    "end"
   ]
  },
  {
   "cell_type": "code",
   "execution_count": null,
   "id": "b70fb392",
   "metadata": {
    "execution": {
     "iopub.execute_input": "2022-02-14T16:15:37.678896Z",
     "iopub.status.busy": "2022-02-14T16:15:37.678215Z",
     "iopub.status.idle": "2022-02-14T16:15:38.050270Z",
     "shell.execute_reply": "2022-02-14T16:15:38.049870Z"
    }
   },
   "outputs": [],
   "source": [
    "ma2 = [\n",
    "    1 10 100 1000\n",
    "    0.001 0.0 1 0.1\n",
    "]"
   ]
  },
  {
   "cell_type": "code",
   "execution_count": null,
   "id": "d1084452",
   "metadata": {
    "execution": {
     "iopub.execute_input": "2022-02-14T16:15:38.052107Z",
     "iopub.status.busy": "2022-02-14T16:15:38.051613Z",
     "iopub.status.idle": "2022-02-14T16:15:38.054575Z",
     "shell.execute_reply": "2022-02-14T16:15:38.054204Z"
    }
   },
   "outputs": [],
   "source": [
    "ma1 = [\n",
    "    0 0 1 1\n",
    "    -1 0 1 2\n",
    "]"
   ]
  },
  {
   "cell_type": "code",
   "execution_count": null,
   "id": "02cdebbb",
   "metadata": {
    "execution": {
     "iopub.execute_input": "2022-02-14T16:15:38.056476Z",
     "iopub.status.busy": "2022-02-14T16:15:38.055989Z",
     "iopub.status.idle": "2022-02-14T16:15:38.662522Z",
     "shell.execute_reply": "2022-02-14T16:15:38.662123Z"
    }
   },
   "outputs": [],
   "source": [
    "OnePiece.tensor_function.apply(ma1, ma2, .+)"
   ]
  },
  {
   "cell_type": "code",
   "execution_count": null,
   "id": "660015cb",
   "metadata": {
    "execution": {
     "iopub.execute_input": "2022-02-14T16:15:38.664536Z",
     "iopub.status.busy": "2022-02-14T16:15:38.663961Z",
     "iopub.status.idle": "2022-02-14T16:15:39.008740Z",
     "shell.execute_reply": "2022-02-14T16:15:39.008363Z"
    }
   },
   "outputs": [],
   "source": [
    "ma1 = convert(\n",
    "    BitMatrix,\n",
    "    [\n",
    "        0 0 1 1\n",
    "        1 1 0 0\n",
    "    ],\n",
    ")\n",
    "\n",
    "OnePiece.tensor_function.apply(ma1, ma2, .-)"
   ]
  },
  {
   "cell_type": "markdown",
   "id": "3f396855",
   "metadata": {},
   "source": [
    "---"
   ]
  },
  {
   "cell_type": "code",
   "execution_count": null,
   "id": "b4af2023",
   "metadata": {
    "execution": {
     "iopub.execute_input": "2022-02-14T16:15:39.010845Z",
     "iopub.status.busy": "2022-02-14T16:15:39.010186Z",
     "iopub.status.idle": "2022-02-14T16:15:39.013853Z",
     "shell.execute_reply": "2022-02-14T16:15:39.013286Z"
    }
   },
   "outputs": [],
   "source": [
    "if isdir(TE)\n",
    "\n",
    "    rm(TE, recursive = true)\n",
    "\n",
    "    println(\"Removed \", TE, \".\")\n",
    "\n",
    "end"
   ]
  }
 ],
 "metadata": {
  "kernelspec": {
   "display_name": "Julia 1.7.2",
   "language": "julia",
   "name": "julia-1.7"
  },
  "language_info": {
   "file_extension": ".jl",
   "mimetype": "application/julia",
   "name": "julia",
   "version": "1.7.2"
  }
 },
 "nbformat": 4,
 "nbformat_minor": 5
}
