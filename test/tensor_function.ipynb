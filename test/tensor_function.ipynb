{
 "cells": [
  {
   "cell_type": "code",
   "execution_count": null,
   "id": "017464da",
   "metadata": {
    "execution": {
     "iopub.execute_input": "2022-02-13T22:25:58.254757Z",
     "iopub.status.busy": "2022-02-13T22:25:57.871292Z",
     "iopub.status.idle": "2022-02-13T22:25:58.464312Z",
     "shell.execute_reply": "2022-02-13T22:25:58.463275Z"
    }
   },
   "outputs": [],
   "source": [
    "TE = joinpath(tempdir(), \"OnePiece.test\")\n",
    "\n",
    "if isdir(TE)\n",
    "\n",
    "    rm(TE, recursive = true)\n",
    "\n",
    "    println(\"Removed \", TE, \".\")\n",
    "\n",
    "end\n",
    "\n",
    "mkdir(TE)\n",
    "\n",
    "println(\"Made \", TE, \".\")"
   ]
  },
  {
   "cell_type": "code",
   "execution_count": null,
   "id": "34e4701e",
   "metadata": {
    "execution": {
     "iopub.execute_input": "2022-02-13T22:25:58.466405Z",
     "iopub.status.busy": "2022-02-13T22:25:58.465892Z",
     "iopub.status.idle": "2022-02-13T22:26:02.852599Z",
     "shell.execute_reply": "2022-02-13T22:26:02.852156Z"
    }
   },
   "outputs": [],
   "source": [
    "using OnePiece"
   ]
  },
  {
   "cell_type": "markdown",
   "id": "b92a3da9",
   "metadata": {},
   "source": [
    "---"
   ]
  },
  {
   "cell_type": "markdown",
   "id": "dbfba2f4",
   "metadata": {},
   "source": [
    "## apply"
   ]
  },
  {
   "cell_type": "code",
   "execution_count": null,
   "id": "ed8f544c",
   "metadata": {
    "execution": {
     "iopub.execute_input": "2022-02-13T22:26:03.202798Z",
     "iopub.status.busy": "2022-02-13T22:26:02.853978Z",
     "iopub.status.idle": "2022-02-13T22:26:03.605886Z",
     "shell.execute_reply": "2022-02-13T22:26:03.605491Z"
    }
   },
   "outputs": [],
   "source": [
    "n_ro = 5\n",
    "\n",
    "n_co = 4\n",
    "\n",
    "n_ze = convert(Int64, n_co / 2)\n",
    "\n",
    "n_on = n_co - n_ze"
   ]
  },
  {
   "cell_type": "code",
   "execution_count": null,
   "id": "2c8afdbb",
   "metadata": {
    "execution": {
     "iopub.execute_input": "2022-02-13T22:26:03.607933Z",
     "iopub.status.busy": "2022-02-13T22:26:03.607436Z",
     "iopub.status.idle": "2022-02-13T22:26:04.609403Z",
     "shell.execute_reply": "2022-02-13T22:26:04.608788Z"
    }
   },
   "outputs": [],
   "source": [
    "bi_ = convert(BitVector, [zeros(n_ze); ones(n_on)])"
   ]
  },
  {
   "cell_type": "code",
   "execution_count": null,
   "id": "1d5ca8fb",
   "metadata": {
    "execution": {
     "iopub.execute_input": "2022-02-13T22:26:04.611338Z",
     "iopub.status.busy": "2022-02-13T22:26:04.610746Z",
     "iopub.status.idle": "2022-02-13T22:26:04.991657Z",
     "shell.execute_reply": "2022-02-13T22:26:04.991208Z"
    }
   },
   "outputs": [],
   "source": [
    "ve = [10^(id - 1) for id in 1:n_co]"
   ]
  },
  {
   "cell_type": "code",
   "execution_count": null,
   "id": "c90efaf5",
   "metadata": {
    "execution": {
     "iopub.execute_input": "2022-02-13T22:26:04.993864Z",
     "iopub.status.busy": "2022-02-13T22:26:04.993117Z",
     "iopub.status.idle": "2022-02-13T22:26:05.373575Z",
     "shell.execute_reply": "2022-02-13T22:26:05.373193Z"
    }
   },
   "outputs": [],
   "source": [
    "ma = convert(Matrix, reshape(1:(n_ro * n_co), (n_ro, n_co)))"
   ]
  },
  {
   "cell_type": "code",
   "execution_count": null,
   "id": "9bc4bab7",
   "metadata": {
    "execution": {
     "iopub.execute_input": "2022-02-13T22:26:05.375516Z",
     "iopub.status.busy": "2022-02-13T22:26:05.375021Z",
     "iopub.status.idle": "2022-02-13T22:26:05.462683Z",
     "shell.execute_reply": "2022-02-13T22:26:05.461942Z"
    }
   },
   "outputs": [],
   "source": [
    "OnePiece.tensor_function.apply(ve, ve, .-)"
   ]
  },
  {
   "cell_type": "code",
   "execution_count": null,
   "id": "65716d59",
   "metadata": {
    "execution": {
     "iopub.execute_input": "2022-02-13T22:26:05.465237Z",
     "iopub.status.busy": "2022-02-13T22:26:05.464723Z",
     "iopub.status.idle": "2022-02-13T22:26:05.554071Z",
     "shell.execute_reply": "2022-02-13T22:26:05.553688Z"
    }
   },
   "outputs": [],
   "source": [
    "OnePiece.tensor_function.apply(bi_, ve, .-)"
   ]
  },
  {
   "cell_type": "code",
   "execution_count": null,
   "id": "21f8ba9e",
   "metadata": {
    "execution": {
     "iopub.execute_input": "2022-02-13T22:26:05.555880Z",
     "iopub.status.busy": "2022-02-13T22:26:05.555390Z",
     "iopub.status.idle": "2022-02-13T22:26:06.114655Z",
     "shell.execute_reply": "2022-02-13T22:26:06.114140Z"
    }
   },
   "outputs": [],
   "source": [
    "OnePiece.tensor_function.apply(ve, ma, .*)"
   ]
  },
  {
   "cell_type": "code",
   "execution_count": null,
   "id": "cb02ff4a",
   "metadata": {
    "execution": {
     "iopub.execute_input": "2022-02-13T22:26:06.116523Z",
     "iopub.status.busy": "2022-02-13T22:26:06.116034Z",
     "iopub.status.idle": "2022-02-13T22:26:06.278535Z",
     "shell.execute_reply": "2022-02-13T22:26:06.277766Z"
    }
   },
   "outputs": [],
   "source": [
    "OnePiece.tensor_function.apply(bi_, ma, .+)"
   ]
  },
  {
   "cell_type": "code",
   "execution_count": null,
   "id": "bd0b8dd5",
   "metadata": {
    "execution": {
     "iopub.execute_input": "2022-02-13T22:26:06.281117Z",
     "iopub.status.busy": "2022-02-13T22:26:06.280553Z",
     "iopub.status.idle": "2022-02-13T22:26:06.428560Z",
     "shell.execute_reply": "2022-02-13T22:26:06.428015Z"
    }
   },
   "outputs": [],
   "source": [
    "OnePiece.tensor_function.apply(ma, ma, (ro1, ro2) -> minimum([ro1; ro2]))"
   ]
  },
  {
   "cell_type": "code",
   "execution_count": null,
   "id": "78d1a02d",
   "metadata": {
    "execution": {
     "iopub.execute_input": "2022-02-13T22:26:06.431165Z",
     "iopub.status.busy": "2022-02-13T22:26:06.430668Z",
     "iopub.status.idle": "2022-02-13T22:26:06.486707Z",
     "shell.execute_reply": "2022-02-13T22:26:06.486031Z"
    }
   },
   "outputs": [],
   "source": [
    "for i in [1, 2], j in [10, 20]\n",
    "\n",
    "    println(i, \" \", j)\n",
    "\n",
    "end"
   ]
  },
  {
   "cell_type": "code",
   "execution_count": null,
   "id": "41c8bd21",
   "metadata": {
    "execution": {
     "iopub.execute_input": "2022-02-13T22:26:06.488612Z",
     "iopub.status.busy": "2022-02-13T22:26:06.488105Z",
     "iopub.status.idle": "2022-02-13T22:26:06.506128Z",
     "shell.execute_reply": "2022-02-13T22:26:06.505763Z"
    }
   },
   "outputs": [],
   "source": [
    "for i in [1, 2]\n",
    "\n",
    "    for j in [10, 20]\n",
    "\n",
    "        println(i, \" \", j)\n",
    "\n",
    "    end\n",
    "\n",
    "end"
   ]
  },
  {
   "cell_type": "code",
   "execution_count": null,
   "id": "b70fb392",
   "metadata": {
    "execution": {
     "iopub.execute_input": "2022-02-13T22:26:06.508299Z",
     "iopub.status.busy": "2022-02-13T22:26:06.507560Z",
     "iopub.status.idle": "2022-02-13T22:26:06.893224Z",
     "shell.execute_reply": "2022-02-13T22:26:06.892794Z"
    }
   },
   "outputs": [],
   "source": [
    "ma2 = [\n",
    "    1 10 100 1000\n",
    "    0.001 0.0 1 0.1\n",
    "]"
   ]
  },
  {
   "cell_type": "code",
   "execution_count": null,
   "id": "d1084452",
   "metadata": {
    "execution": {
     "iopub.execute_input": "2022-02-13T22:26:06.896028Z",
     "iopub.status.busy": "2022-02-13T22:26:06.894744Z",
     "iopub.status.idle": "2022-02-13T22:26:06.898393Z",
     "shell.execute_reply": "2022-02-13T22:26:06.898006Z"
    }
   },
   "outputs": [],
   "source": [
    "ma1 = [\n",
    "    0 0 1 1\n",
    "    -1 0 1 2\n",
    "]"
   ]
  },
  {
   "cell_type": "code",
   "execution_count": null,
   "id": "02cdebbb",
   "metadata": {
    "execution": {
     "iopub.execute_input": "2022-02-13T22:26:06.900435Z",
     "iopub.status.busy": "2022-02-13T22:26:06.899907Z",
     "iopub.status.idle": "2022-02-13T22:26:07.543191Z",
     "shell.execute_reply": "2022-02-13T22:26:07.542728Z"
    }
   },
   "outputs": [],
   "source": [
    "OnePiece.tensor_function.apply(ma1, ma2, .+)"
   ]
  },
  {
   "cell_type": "code",
   "execution_count": null,
   "id": "660015cb",
   "metadata": {
    "execution": {
     "iopub.execute_input": "2022-02-13T22:26:07.545017Z",
     "iopub.status.busy": "2022-02-13T22:26:07.544482Z",
     "iopub.status.idle": "2022-02-13T22:26:07.895410Z",
     "shell.execute_reply": "2022-02-13T22:26:07.894758Z"
    }
   },
   "outputs": [],
   "source": [
    "ma1 = convert(\n",
    "    BitMatrix,\n",
    "    [\n",
    "        0 0 1 1\n",
    "        1 1 0 0\n",
    "    ],\n",
    ")\n",
    "\n",
    "OnePiece.tensor_function.apply(ma1, ma2, .-)"
   ]
  },
  {
   "cell_type": "markdown",
   "id": "3f396855",
   "metadata": {},
   "source": [
    "---"
   ]
  },
  {
   "cell_type": "code",
   "execution_count": null,
   "id": "b4af2023",
   "metadata": {
    "execution": {
     "iopub.execute_input": "2022-02-13T22:26:07.898203Z",
     "iopub.status.busy": "2022-02-13T22:26:07.897597Z",
     "iopub.status.idle": "2022-02-13T22:26:07.899938Z",
     "shell.execute_reply": "2022-02-13T22:26:07.899566Z"
    }
   },
   "outputs": [],
   "source": [
    "if isdir(TE)\n",
    "\n",
    "    rm(TE, recursive = true)\n",
    "\n",
    "    println(\"Removed \", TE, \".\")\n",
    "\n",
    "end"
   ]
  }
 ],
 "metadata": {
  "kernelspec": {
   "display_name": "Julia 1.7.2",
   "language": "julia",
   "name": "julia-1.7"
  },
  "language_info": {
   "file_extension": ".jl",
   "mimetype": "application/julia",
   "name": "julia",
   "version": "1.7.2"
  }
 },
 "nbformat": 4,
 "nbformat_minor": 5
}
