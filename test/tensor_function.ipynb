{
 "cells": [
  {
   "cell_type": "code",
   "execution_count": null,
   "id": "34e4701e",
   "metadata": {
    "execution": {
     "iopub.execute_input": "2022-02-09T02:42:30.138330Z",
     "iopub.status.busy": "2022-02-09T02:42:29.723527Z",
     "iopub.status.idle": "2022-02-09T02:42:31.162148Z",
     "shell.execute_reply": "2022-02-09T02:42:31.161522Z"
    }
   },
   "outputs": [],
   "source": [
    "using Revise\n",
    "using BenchmarkTools"
   ]
  },
  {
   "cell_type": "code",
   "execution_count": null,
   "id": "b3325ba2-989b-48ae-b530-5d0f64147f9a",
   "metadata": {
    "execution": {
     "iopub.execute_input": "2022-02-09T02:42:31.164087Z",
     "iopub.status.busy": "2022-02-09T02:42:31.163507Z",
     "iopub.status.idle": "2022-02-09T02:42:42.070853Z",
     "shell.execute_reply": "2022-02-09T02:42:42.070380Z"
    }
   },
   "outputs": [],
   "source": [
    "using OnePiece"
   ]
  },
  {
   "cell_type": "markdown",
   "id": "a4f49444",
   "metadata": {},
   "source": [
    "## apply"
   ]
  },
  {
   "cell_type": "code",
   "execution_count": null,
   "id": "ed8f544c",
   "metadata": {
    "execution": {
     "iopub.execute_input": "2022-02-09T02:42:43.756854Z",
     "iopub.status.busy": "2022-02-09T02:42:42.072247Z",
     "iopub.status.idle": "2022-02-09T02:42:44.715276Z",
     "shell.execute_reply": "2022-02-09T02:42:44.714797Z"
    }
   },
   "outputs": [],
   "source": [
    "n_ro = 5\n",
    "\n",
    "n_co = 4\n",
    "\n",
    "n_ze = convert(Int64, n_co / 2)\n",
    "\n",
    "n_on = n_co - n_ze"
   ]
  },
  {
   "cell_type": "code",
   "execution_count": null,
   "id": "2c8afdbb",
   "metadata": {
    "execution": {
     "iopub.execute_input": "2022-02-09T02:42:44.717296Z",
     "iopub.status.busy": "2022-02-09T02:42:44.716593Z",
     "iopub.status.idle": "2022-02-09T02:42:45.671137Z",
     "shell.execute_reply": "2022-02-09T02:42:45.670593Z"
    }
   },
   "outputs": [],
   "source": [
    "bi_ = convert(BitVector, [zeros(n_ze); ones(n_on)])"
   ]
  },
  {
   "cell_type": "code",
   "execution_count": null,
   "id": "1d5ca8fb",
   "metadata": {
    "execution": {
     "iopub.execute_input": "2022-02-09T02:42:45.673169Z",
     "iopub.status.busy": "2022-02-09T02:42:45.672476Z",
     "iopub.status.idle": "2022-02-09T02:42:46.095645Z",
     "shell.execute_reply": "2022-02-09T02:42:46.095186Z"
    }
   },
   "outputs": [],
   "source": [
    "ve = [10^(id - 1) for id in 1:n_co]"
   ]
  },
  {
   "cell_type": "code",
   "execution_count": null,
   "id": "c90efaf5",
   "metadata": {
    "execution": {
     "iopub.execute_input": "2022-02-09T02:42:46.097503Z",
     "iopub.status.busy": "2022-02-09T02:42:46.096933Z",
     "iopub.status.idle": "2022-02-09T02:42:46.551586Z",
     "shell.execute_reply": "2022-02-09T02:42:46.551139Z"
    }
   },
   "outputs": [],
   "source": [
    "ma = convert(Matrix, reshape(1:(n_ro * n_co), (n_ro, n_co)))"
   ]
  },
  {
   "cell_type": "code",
   "execution_count": null,
   "id": "9bc4bab7",
   "metadata": {
    "execution": {
     "iopub.execute_input": "2022-02-09T02:42:46.553492Z",
     "iopub.status.busy": "2022-02-09T02:42:46.552924Z",
     "iopub.status.idle": "2022-02-09T02:42:46.651869Z",
     "shell.execute_reply": "2022-02-09T02:42:46.651425Z"
    }
   },
   "outputs": [],
   "source": [
    "OnePiece.tensor_function.apply(ve, ve, .-)"
   ]
  },
  {
   "cell_type": "code",
   "execution_count": null,
   "id": "65716d59",
   "metadata": {
    "execution": {
     "iopub.execute_input": "2022-02-09T02:42:46.653888Z",
     "iopub.status.busy": "2022-02-09T02:42:46.653273Z",
     "iopub.status.idle": "2022-02-09T02:42:46.764344Z",
     "shell.execute_reply": "2022-02-09T02:42:46.763877Z"
    }
   },
   "outputs": [],
   "source": [
    "OnePiece.tensor_function.apply(bi_, ve, .-)"
   ]
  },
  {
   "cell_type": "code",
   "execution_count": null,
   "id": "21f8ba9e",
   "metadata": {
    "execution": {
     "iopub.execute_input": "2022-02-09T02:42:46.766260Z",
     "iopub.status.busy": "2022-02-09T02:42:46.765670Z",
     "iopub.status.idle": "2022-02-09T02:42:47.400128Z",
     "shell.execute_reply": "2022-02-09T02:42:47.399603Z"
    }
   },
   "outputs": [],
   "source": [
    "OnePiece.tensor_function.apply(ve, ma, .*)"
   ]
  },
  {
   "cell_type": "code",
   "execution_count": null,
   "id": "cb02ff4a",
   "metadata": {
    "execution": {
     "iopub.execute_input": "2022-02-09T02:42:47.402004Z",
     "iopub.status.busy": "2022-02-09T02:42:47.401432Z",
     "iopub.status.idle": "2022-02-09T02:42:47.592885Z",
     "shell.execute_reply": "2022-02-09T02:42:47.592446Z"
    }
   },
   "outputs": [],
   "source": [
    "OnePiece.tensor_function.apply(bi_, ma, .+)"
   ]
  },
  {
   "cell_type": "code",
   "execution_count": null,
   "id": "bd0b8dd5",
   "metadata": {
    "execution": {
     "iopub.execute_input": "2022-02-09T02:42:47.594691Z",
     "iopub.status.busy": "2022-02-09T02:42:47.594125Z",
     "iopub.status.idle": "2022-02-09T02:42:47.766836Z",
     "shell.execute_reply": "2022-02-09T02:42:47.766379Z"
    }
   },
   "outputs": [],
   "source": [
    "OnePiece.tensor_function.apply(ma, ma, (ro1, ro2) -> minimum([ro1; ro2]))"
   ]
  },
  {
   "cell_type": "code",
   "execution_count": null,
   "id": "78d1a02d",
   "metadata": {
    "execution": {
     "iopub.execute_input": "2022-02-09T02:42:47.768668Z",
     "iopub.status.busy": "2022-02-09T02:42:47.768093Z",
     "iopub.status.idle": "2022-02-09T02:42:47.845023Z",
     "shell.execute_reply": "2022-02-09T02:42:47.844520Z"
    }
   },
   "outputs": [],
   "source": [
    "for i in [1, 2], j in [10, 20]\n",
    "\n",
    "    println(i, \" \", j)\n",
    "\n",
    "end"
   ]
  },
  {
   "cell_type": "code",
   "execution_count": null,
   "id": "41c8bd21",
   "metadata": {
    "execution": {
     "iopub.execute_input": "2022-02-09T02:42:47.846951Z",
     "iopub.status.busy": "2022-02-09T02:42:47.846382Z",
     "iopub.status.idle": "2022-02-09T02:42:47.877645Z",
     "shell.execute_reply": "2022-02-09T02:42:47.877228Z"
    }
   },
   "outputs": [],
   "source": [
    "for i in [1, 2]\n",
    "\n",
    "    for j in [10, 20]\n",
    "\n",
    "        println(i, \" \", j)\n",
    "\n",
    "    end\n",
    "\n",
    "end"
   ]
  },
  {
   "cell_type": "code",
   "execution_count": null,
   "id": "b70fb392",
   "metadata": {
    "execution": {
     "iopub.execute_input": "2022-02-09T02:42:47.879539Z",
     "iopub.status.busy": "2022-02-09T02:42:47.878974Z",
     "iopub.status.idle": "2022-02-09T02:42:48.309903Z",
     "shell.execute_reply": "2022-02-09T02:42:48.309460Z"
    }
   },
   "outputs": [],
   "source": [
    "ma2 = [\n",
    "    1 10 100 1000\n",
    "    0.001 0.0 1 0.1\n",
    "]"
   ]
  },
  {
   "cell_type": "code",
   "execution_count": null,
   "id": "d1084452",
   "metadata": {
    "execution": {
     "iopub.execute_input": "2022-02-09T02:42:48.311775Z",
     "iopub.status.busy": "2022-02-09T02:42:48.311205Z",
     "iopub.status.idle": "2022-02-09T02:42:48.325703Z",
     "shell.execute_reply": "2022-02-09T02:42:48.325225Z"
    }
   },
   "outputs": [],
   "source": [
    "ma1 = [\n",
    "    0 0 1 1\n",
    "    -1 0 1 2\n",
    "]"
   ]
  },
  {
   "cell_type": "code",
   "execution_count": null,
   "id": "02cdebbb",
   "metadata": {
    "execution": {
     "iopub.execute_input": "2022-02-09T02:42:48.327488Z",
     "iopub.status.busy": "2022-02-09T02:42:48.326932Z",
     "iopub.status.idle": "2022-02-09T02:42:49.076096Z",
     "shell.execute_reply": "2022-02-09T02:42:49.075651Z"
    }
   },
   "outputs": [],
   "source": [
    "OnePiece.tensor_function.apply(ma1, ma2, .+)"
   ]
  },
  {
   "cell_type": "code",
   "execution_count": null,
   "id": "660015cb",
   "metadata": {
    "execution": {
     "iopub.execute_input": "2022-02-09T02:42:49.078041Z",
     "iopub.status.busy": "2022-02-09T02:42:49.077462Z",
     "iopub.status.idle": "2022-02-09T02:42:49.447772Z",
     "shell.execute_reply": "2022-02-09T02:42:49.447393Z"
    }
   },
   "outputs": [],
   "source": [
    "ma1 = convert(\n",
    "    BitMatrix,\n",
    "    [\n",
    "        0 0 1 1\n",
    "        1 1 0 0\n",
    "    ],\n",
    ")\n",
    "\n",
    "OnePiece.tensor_function.apply(ma1, ma2, .-)"
   ]
  }
 ],
 "metadata": {
  "@webio": {
   "lastCommId": null,
   "lastKernelId": null
  },
  "kernelspec": {
   "display_name": "Julia 1.7.1",
   "language": "julia",
   "name": "julia-1.7"
  },
  "language_info": {
   "file_extension": ".jl",
   "mimetype": "application/julia",
   "name": "julia",
   "version": "1.7.2"
  }
 },
 "nbformat": 4,
 "nbformat_minor": 5
}
