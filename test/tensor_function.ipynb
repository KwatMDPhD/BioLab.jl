{
 "cells": [
  {
   "cell_type": "code",
   "execution_count": null,
   "id": "017464da",
   "metadata": {},
   "outputs": [],
   "source": [
    "TE = joinpath(tempdir(), \"OnePiece.test\")\n",
    "\n",
    "if isdir(TE)\n",
    "\n",
    "    rm(TE, recursive = true)\n",
    "\n",
    "    println(\"Removed \", TE, \".\")\n",
    "\n",
    "end\n",
    "\n",
    "mkdir(TE)\n",
    "\n",
    "println(\"Made \", TE, \".\")"
   ]
  },
  {
   "cell_type": "code",
   "execution_count": null,
   "id": "34e4701e",
   "metadata": {
    "execution": {
     "iopub.execute_input": "2022-02-10T17:51:23.590384Z",
     "iopub.status.busy": "2022-02-10T17:51:23.250154Z",
     "iopub.status.idle": "2022-02-10T17:51:24.482021Z",
     "shell.execute_reply": "2022-02-10T17:51:24.481306Z"
    }
   },
   "outputs": [],
   "source": [
    "using OnePiece"
   ]
  },
  {
   "cell_type": "markdown",
   "id": "b92a3da9",
   "metadata": {},
   "source": [
    "---"
   ]
  },
  {
   "cell_type": "markdown",
   "id": "dbfba2f4",
   "metadata": {},
   "source": [
    "## apply"
   ]
  },
  {
   "cell_type": "code",
   "execution_count": null,
   "id": "ed8f544c",
   "metadata": {
    "execution": {
     "iopub.execute_input": "2022-02-14T17:04:56.351201Z",
     "iopub.status.busy": "2022-02-14T17:04:55.994271Z",
     "iopub.status.idle": "2022-02-14T17:04:56.777137Z",
     "shell.execute_reply": "2022-02-14T17:04:56.776685Z"
    }
   },
   "outputs": [],
   "source": [
    "n_ro = 5\n",
    "\n",
    "n_co = 4\n",
    "\n",
    "n_ze = convert(Int64, n_co / 2)\n",
    "\n",
    "n_on = n_co - n_ze"
   ]
  },
  {
   "cell_type": "code",
   "execution_count": null,
   "id": "2c8afdbb",
   "metadata": {
    "execution": {
     "iopub.execute_input": "2022-02-14T17:04:56.779103Z",
     "iopub.status.busy": "2022-02-14T17:04:56.778524Z",
     "iopub.status.idle": "2022-02-14T17:04:57.873505Z",
     "shell.execute_reply": "2022-02-14T17:04:57.873034Z"
    }
   },
   "outputs": [],
   "source": [
    "bi_ = convert(BitVector, [zeros(n_ze); ones(n_on)])"
   ]
  },
  {
   "cell_type": "code",
   "execution_count": null,
   "id": "1d5ca8fb",
   "metadata": {
    "execution": {
     "iopub.execute_input": "2022-02-14T17:04:57.875527Z",
     "iopub.status.busy": "2022-02-14T17:04:57.874737Z",
     "iopub.status.idle": "2022-02-14T17:04:58.271668Z",
     "shell.execute_reply": "2022-02-14T17:04:58.271206Z"
    }
   },
   "outputs": [],
   "source": [
    "ve = [10^(id - 1) for id in 1:n_co]"
   ]
  },
  {
   "cell_type": "code",
   "execution_count": null,
   "id": "c90efaf5",
   "metadata": {
    "execution": {
     "iopub.execute_input": "2022-02-14T17:04:58.273723Z",
     "iopub.status.busy": "2022-02-14T17:04:58.273053Z",
     "iopub.status.idle": "2022-02-14T17:04:58.673673Z",
     "shell.execute_reply": "2022-02-14T17:04:58.673227Z"
    }
   },
   "outputs": [],
   "source": [
    "ma = convert(Matrix, reshape(1:(n_ro * n_co), (n_ro, n_co)))"
   ]
  },
  {
   "cell_type": "code",
   "execution_count": null,
   "id": "9bc4bab7",
   "metadata": {
    "execution": {
     "iopub.execute_input": "2022-02-14T17:04:58.675596Z",
     "iopub.status.busy": "2022-02-14T17:04:58.674936Z",
     "iopub.status.idle": "2022-02-14T17:04:58.767123Z",
     "shell.execute_reply": "2022-02-14T17:04:58.766678Z"
    }
   },
   "outputs": [],
   "source": [
    "OnePiece.tensor_function.apply(ve, ve, .-)"
   ]
  },
  {
   "cell_type": "code",
   "execution_count": null,
   "id": "65716d59",
   "metadata": {
    "execution": {
     "iopub.execute_input": "2022-02-14T17:04:58.769217Z",
     "iopub.status.busy": "2022-02-14T17:04:58.768628Z",
     "iopub.status.idle": "2022-02-14T17:04:58.862928Z",
     "shell.execute_reply": "2022-02-14T17:04:58.862471Z"
    }
   },
   "outputs": [],
   "source": [
    "OnePiece.tensor_function.apply(bi_, ve, .-)"
   ]
  },
  {
   "cell_type": "code",
   "execution_count": null,
   "id": "21f8ba9e",
   "metadata": {
    "execution": {
     "iopub.execute_input": "2022-02-14T17:04:58.864853Z",
     "iopub.status.busy": "2022-02-14T17:04:58.864288Z",
     "iopub.status.idle": "2022-02-14T17:04:59.458911Z",
     "shell.execute_reply": "2022-02-14T17:04:59.458465Z"
    }
   },
   "outputs": [],
   "source": [
    "OnePiece.tensor_function.apply(ve, ma, .*)"
   ]
  },
  {
   "cell_type": "code",
   "execution_count": null,
   "id": "cb02ff4a",
   "metadata": {
    "execution": {
     "iopub.execute_input": "2022-02-14T17:04:59.460831Z",
     "iopub.status.busy": "2022-02-14T17:04:59.460177Z",
     "iopub.status.idle": "2022-02-14T17:04:59.636859Z",
     "shell.execute_reply": "2022-02-14T17:04:59.636403Z"
    }
   },
   "outputs": [],
   "source": [
    "OnePiece.tensor_function.apply(bi_, ma, .+)"
   ]
  },
  {
   "cell_type": "code",
   "execution_count": null,
   "id": "bd0b8dd5",
   "metadata": {
    "execution": {
     "iopub.execute_input": "2022-02-14T17:04:59.638707Z",
     "iopub.status.busy": "2022-02-14T17:04:59.638138Z",
     "iopub.status.idle": "2022-02-14T17:04:59.790836Z",
     "shell.execute_reply": "2022-02-14T17:04:59.790392Z"
    }
   },
   "outputs": [],
   "source": [
    "OnePiece.tensor_function.apply(ma, ma, (ro1, ro2) -> minimum([ro1; ro2]))"
   ]
  },
  {
   "cell_type": "code",
   "execution_count": null,
   "id": "78d1a02d",
   "metadata": {
    "execution": {
     "iopub.execute_input": "2022-02-14T17:04:59.792692Z",
     "iopub.status.busy": "2022-02-14T17:04:59.792126Z",
     "iopub.status.idle": "2022-02-14T17:04:59.852499Z",
     "shell.execute_reply": "2022-02-14T17:04:59.851872Z"
    }
   },
   "outputs": [],
   "source": [
    "for i in [1, 2], j in [10, 20]\n",
    "\n",
    "    println(i, \" \", j)\n",
    "\n",
    "end"
   ]
  },
  {
   "cell_type": "code",
   "execution_count": null,
   "id": "41c8bd21",
   "metadata": {
    "execution": {
     "iopub.execute_input": "2022-02-14T17:04:59.854484Z",
     "iopub.status.busy": "2022-02-14T17:04:59.853898Z",
     "iopub.status.idle": "2022-02-14T17:04:59.872983Z",
     "shell.execute_reply": "2022-02-14T17:04:59.872571Z"
    }
   },
   "outputs": [],
   "source": [
    "for i in [1, 2]\n",
    "\n",
    "    for j in [10, 20]\n",
    "\n",
    "        println(i, \" \", j)\n",
    "\n",
    "    end\n",
    "\n",
    "end"
   ]
  },
  {
   "cell_type": "code",
   "execution_count": null,
   "id": "b70fb392",
   "metadata": {
    "execution": {
     "iopub.execute_input": "2022-02-14T17:04:59.874848Z",
     "iopub.status.busy": "2022-02-14T17:04:59.874271Z",
     "iopub.status.idle": "2022-02-14T17:05:00.281798Z",
     "shell.execute_reply": "2022-02-14T17:05:00.281356Z"
    }
   },
   "outputs": [],
   "source": [
    "ma2 = [\n",
    "    1 10 100 1000\n",
    "    0.001 0.0 1 0.1\n",
    "]"
   ]
  },
  {
   "cell_type": "code",
   "execution_count": null,
   "id": "d1084452",
   "metadata": {
    "execution": {
     "iopub.execute_input": "2022-02-14T17:05:00.283744Z",
     "iopub.status.busy": "2022-02-14T17:05:00.283170Z",
     "iopub.status.idle": "2022-02-14T17:05:00.286129Z",
     "shell.execute_reply": "2022-02-14T17:05:00.285689Z"
    }
   },
   "outputs": [],
   "source": [
    "ma1 = [\n",
    "    0 0 1 1\n",
    "    -1 0 1 2\n",
    "]"
   ]
  },
  {
   "cell_type": "code",
   "execution_count": null,
   "id": "02cdebbb",
   "metadata": {
    "execution": {
     "iopub.execute_input": "2022-02-14T17:05:00.287863Z",
     "iopub.status.busy": "2022-02-14T17:05:00.287285Z",
     "iopub.status.idle": "2022-02-14T17:05:00.961323Z",
     "shell.execute_reply": "2022-02-14T17:05:00.960879Z"
    }
   },
   "outputs": [],
   "source": [
    "OnePiece.tensor_function.apply(ma1, ma2, .+)"
   ]
  },
  {
   "cell_type": "code",
   "execution_count": null,
   "id": "660015cb",
   "metadata": {
    "execution": {
     "iopub.execute_input": "2022-02-14T17:05:00.963147Z",
     "iopub.status.busy": "2022-02-14T17:05:00.962577Z",
     "iopub.status.idle": "2022-02-14T17:05:01.337612Z",
     "shell.execute_reply": "2022-02-14T17:05:01.337124Z"
    }
   },
   "outputs": [],
   "source": [
    "ma1 = convert(\n",
    "    BitMatrix,\n",
    "    [\n",
    "        0 0 1 1\n",
    "        1 1 0 0\n",
    "    ],\n",
    ")\n",
    "\n",
    "OnePiece.tensor_function.apply(ma1, ma2, .-)"
   ]
  },
  {
   "cell_type": "markdown",
   "id": "3f396855",
   "metadata": {},
   "source": [
    "---"
   ]
  },
  {
   "cell_type": "code",
   "execution_count": null,
   "id": "b4af2023",
   "metadata": {},
   "outputs": [],
   "source": [
    "if isdir(TE)\n",
    "\n",
    "    rm(TE, recursive = true)\n",
    "\n",
    "    println(\"Removed \", TE, \".\")\n",
    "\n",
    "end"
   ]
  }
 ],
 "metadata": {
  "kernelspec": {
   "display_name": "Julia 1.7.2",
   "language": "julia",
   "name": "julia-1.7"
  },
  "language_info": {
   "file_extension": ".jl",
   "mimetype": "application/julia",
   "name": "julia",
   "version": "1.7.2"
  }
 },
 "nbformat": 4,
 "nbformat_minor": 5
}
