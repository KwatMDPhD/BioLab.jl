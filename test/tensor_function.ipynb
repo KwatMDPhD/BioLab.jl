{
 "cells": [
  {
   "cell_type": "code",
   "execution_count": null,
   "id": "017464da",
   "metadata": {
    "execution": {
     "iopub.execute_input": "2022-02-13T22:59:38.625867Z",
     "iopub.status.busy": "2022-02-13T22:59:38.298299Z",
     "iopub.status.idle": "2022-02-13T22:59:38.806789Z",
     "shell.execute_reply": "2022-02-13T22:59:38.806375Z"
    }
   },
   "outputs": [],
   "source": [
    "TE = joinpath(tempdir(), \"OnePiece.test\")\n",
    "\n",
    "if isdir(TE)\n",
    "\n",
    "    rm(TE, recursive = true)\n",
    "\n",
    "    println(\"Removed \", TE, \".\")\n",
    "\n",
    "end\n",
    "\n",
    "mkdir(TE)\n",
    "\n",
    "println(\"Made \", TE, \".\")"
   ]
  },
  {
   "cell_type": "code",
   "execution_count": null,
   "id": "34e4701e",
   "metadata": {
    "execution": {
     "iopub.execute_input": "2022-02-13T22:59:38.808849Z",
     "iopub.status.busy": "2022-02-13T22:59:38.808356Z",
     "iopub.status.idle": "2022-02-13T22:59:42.741264Z",
     "shell.execute_reply": "2022-02-13T22:59:42.740872Z"
    }
   },
   "outputs": [],
   "source": [
    "using OnePiece"
   ]
  },
  {
   "cell_type": "markdown",
   "id": "b92a3da9",
   "metadata": {},
   "source": [
    "---"
   ]
  },
  {
   "cell_type": "markdown",
   "id": "dbfba2f4",
   "metadata": {},
   "source": [
    "## apply"
   ]
  },
  {
   "cell_type": "code",
   "execution_count": null,
   "id": "ed8f544c",
   "metadata": {
    "execution": {
     "iopub.execute_input": "2022-02-13T22:59:43.036145Z",
     "iopub.status.busy": "2022-02-13T22:59:42.742675Z",
     "iopub.status.idle": "2022-02-13T22:59:43.400182Z",
     "shell.execute_reply": "2022-02-13T22:59:43.399774Z"
    }
   },
   "outputs": [],
   "source": [
    "n_ro = 5\n",
    "\n",
    "n_co = 4\n",
    "\n",
    "n_ze = convert(Int64, n_co / 2)\n",
    "\n",
    "n_on = n_co - n_ze"
   ]
  },
  {
   "cell_type": "code",
   "execution_count": null,
   "id": "2c8afdbb",
   "metadata": {
    "execution": {
     "iopub.execute_input": "2022-02-13T22:59:43.402163Z",
     "iopub.status.busy": "2022-02-13T22:59:43.401684Z",
     "iopub.status.idle": "2022-02-13T22:59:44.309484Z",
     "shell.execute_reply": "2022-02-13T22:59:44.309101Z"
    }
   },
   "outputs": [],
   "source": [
    "bi_ = convert(BitVector, [zeros(n_ze); ones(n_on)])"
   ]
  },
  {
   "cell_type": "code",
   "execution_count": null,
   "id": "1d5ca8fb",
   "metadata": {
    "execution": {
     "iopub.execute_input": "2022-02-13T22:59:44.311343Z",
     "iopub.status.busy": "2022-02-13T22:59:44.310838Z",
     "iopub.status.idle": "2022-02-13T22:59:44.654416Z",
     "shell.execute_reply": "2022-02-13T22:59:44.654031Z"
    }
   },
   "outputs": [],
   "source": [
    "ve = [10^(id - 1) for id in 1:n_co]"
   ]
  },
  {
   "cell_type": "code",
   "execution_count": null,
   "id": "c90efaf5",
   "metadata": {
    "execution": {
     "iopub.execute_input": "2022-02-13T22:59:44.656655Z",
     "iopub.status.busy": "2022-02-13T22:59:44.656140Z",
     "iopub.status.idle": "2022-02-13T22:59:44.993309Z",
     "shell.execute_reply": "2022-02-13T22:59:44.992933Z"
    }
   },
   "outputs": [],
   "source": [
    "ma = convert(Matrix, reshape(1:(n_ro * n_co), (n_ro, n_co)))"
   ]
  },
  {
   "cell_type": "code",
   "execution_count": null,
   "id": "9bc4bab7",
   "metadata": {
    "execution": {
     "iopub.execute_input": "2022-02-13T22:59:44.995372Z",
     "iopub.status.busy": "2022-02-13T22:59:44.994887Z",
     "iopub.status.idle": "2022-02-13T22:59:45.069825Z",
     "shell.execute_reply": "2022-02-13T22:59:45.069441Z"
    }
   },
   "outputs": [],
   "source": [
    "OnePiece.tensor_function.apply(ve, ve, .-)"
   ]
  },
  {
   "cell_type": "code",
   "execution_count": null,
   "id": "65716d59",
   "metadata": {
    "execution": {
     "iopub.execute_input": "2022-02-13T22:59:45.071913Z",
     "iopub.status.busy": "2022-02-13T22:59:45.071416Z",
     "iopub.status.idle": "2022-02-13T22:59:45.150028Z",
     "shell.execute_reply": "2022-02-13T22:59:45.149651Z"
    }
   },
   "outputs": [],
   "source": [
    "OnePiece.tensor_function.apply(bi_, ve, .-)"
   ]
  },
  {
   "cell_type": "code",
   "execution_count": null,
   "id": "21f8ba9e",
   "metadata": {
    "execution": {
     "iopub.execute_input": "2022-02-13T22:59:45.151830Z",
     "iopub.status.busy": "2022-02-13T22:59:45.151339Z",
     "iopub.status.idle": "2022-02-13T22:59:45.652686Z",
     "shell.execute_reply": "2022-02-13T22:59:45.652290Z"
    }
   },
   "outputs": [],
   "source": [
    "OnePiece.tensor_function.apply(ve, ma, .*)"
   ]
  },
  {
   "cell_type": "code",
   "execution_count": null,
   "id": "cb02ff4a",
   "metadata": {
    "execution": {
     "iopub.execute_input": "2022-02-13T22:59:45.654484Z",
     "iopub.status.busy": "2022-02-13T22:59:45.653993Z",
     "iopub.status.idle": "2022-02-13T22:59:45.803527Z",
     "shell.execute_reply": "2022-02-13T22:59:45.803152Z"
    }
   },
   "outputs": [],
   "source": [
    "OnePiece.tensor_function.apply(bi_, ma, .+)"
   ]
  },
  {
   "cell_type": "code",
   "execution_count": null,
   "id": "bd0b8dd5",
   "metadata": {
    "execution": {
     "iopub.execute_input": "2022-02-13T22:59:45.805721Z",
     "iopub.status.busy": "2022-02-13T22:59:45.805162Z",
     "iopub.status.idle": "2022-02-13T22:59:45.938764Z",
     "shell.execute_reply": "2022-02-13T22:59:45.938382Z"
    }
   },
   "outputs": [],
   "source": [
    "OnePiece.tensor_function.apply(ma, ma, (ro1, ro2) -> minimum([ro1; ro2]))"
   ]
  },
  {
   "cell_type": "code",
   "execution_count": null,
   "id": "78d1a02d",
   "metadata": {
    "execution": {
     "iopub.execute_input": "2022-02-13T22:59:45.940614Z",
     "iopub.status.busy": "2022-02-13T22:59:45.940116Z",
     "iopub.status.idle": "2022-02-13T22:59:45.991599Z",
     "shell.execute_reply": "2022-02-13T22:59:45.991173Z"
    }
   },
   "outputs": [],
   "source": [
    "for i in [1, 2], j in [10, 20]\n",
    "\n",
    "    println(i, \" \", j)\n",
    "\n",
    "end"
   ]
  },
  {
   "cell_type": "code",
   "execution_count": null,
   "id": "41c8bd21",
   "metadata": {
    "execution": {
     "iopub.execute_input": "2022-02-13T22:59:45.993442Z",
     "iopub.status.busy": "2022-02-13T22:59:45.992956Z",
     "iopub.status.idle": "2022-02-13T22:59:46.010572Z",
     "shell.execute_reply": "2022-02-13T22:59:46.010193Z"
    }
   },
   "outputs": [],
   "source": [
    "for i in [1, 2]\n",
    "\n",
    "    for j in [10, 20]\n",
    "\n",
    "        println(i, \" \", j)\n",
    "\n",
    "    end\n",
    "\n",
    "end"
   ]
  },
  {
   "cell_type": "code",
   "execution_count": null,
   "id": "b70fb392",
   "metadata": {
    "execution": {
     "iopub.execute_input": "2022-02-13T22:59:46.012419Z",
     "iopub.status.busy": "2022-02-13T22:59:46.011934Z",
     "iopub.status.idle": "2022-02-13T22:59:46.355923Z",
     "shell.execute_reply": "2022-02-13T22:59:46.355540Z"
    }
   },
   "outputs": [],
   "source": [
    "ma2 = [\n",
    "    1 10 100 1000\n",
    "    0.001 0.0 1 0.1\n",
    "]"
   ]
  },
  {
   "cell_type": "code",
   "execution_count": null,
   "id": "d1084452",
   "metadata": {
    "execution": {
     "iopub.execute_input": "2022-02-13T22:59:46.357765Z",
     "iopub.status.busy": "2022-02-13T22:59:46.357272Z",
     "iopub.status.idle": "2022-02-13T22:59:46.360129Z",
     "shell.execute_reply": "2022-02-13T22:59:46.359738Z"
    }
   },
   "outputs": [],
   "source": [
    "ma1 = [\n",
    "    0 0 1 1\n",
    "    -1 0 1 2\n",
    "]"
   ]
  },
  {
   "cell_type": "code",
   "execution_count": null,
   "id": "02cdebbb",
   "metadata": {
    "execution": {
     "iopub.execute_input": "2022-02-13T22:59:46.361907Z",
     "iopub.status.busy": "2022-02-13T22:59:46.361404Z",
     "iopub.status.idle": "2022-02-13T22:59:46.941951Z",
     "shell.execute_reply": "2022-02-13T22:59:46.941577Z"
    }
   },
   "outputs": [],
   "source": [
    "OnePiece.tensor_function.apply(ma1, ma2, .+)"
   ]
  },
  {
   "cell_type": "code",
   "execution_count": null,
   "id": "660015cb",
   "metadata": {
    "execution": {
     "iopub.execute_input": "2022-02-13T22:59:46.943886Z",
     "iopub.status.busy": "2022-02-13T22:59:46.943405Z",
     "iopub.status.idle": "2022-02-13T22:59:47.262594Z",
     "shell.execute_reply": "2022-02-13T22:59:47.262194Z"
    }
   },
   "outputs": [],
   "source": [
    "ma1 = convert(\n",
    "    BitMatrix,\n",
    "    [\n",
    "        0 0 1 1\n",
    "        1 1 0 0\n",
    "    ],\n",
    ")\n",
    "\n",
    "OnePiece.tensor_function.apply(ma1, ma2, .-)"
   ]
  },
  {
   "cell_type": "markdown",
   "id": "3f396855",
   "metadata": {},
   "source": [
    "---"
   ]
  },
  {
   "cell_type": "code",
   "execution_count": null,
   "id": "b4af2023",
   "metadata": {
    "execution": {
     "iopub.execute_input": "2022-02-13T22:59:47.264743Z",
     "iopub.status.busy": "2022-02-13T22:59:47.264113Z",
     "iopub.status.idle": "2022-02-13T22:59:47.266806Z",
     "shell.execute_reply": "2022-02-13T22:59:47.266450Z"
    }
   },
   "outputs": [],
   "source": [
    "if isdir(TE)\n",
    "\n",
    "    rm(TE, recursive = true)\n",
    "\n",
    "    println(\"Removed \", TE, \".\")\n",
    "\n",
    "end"
   ]
  }
 ],
 "metadata": {
  "kernelspec": {
   "display_name": "Julia 1.7.2",
   "language": "julia",
   "name": "julia-1.7"
  },
  "language_info": {
   "file_extension": ".jl",
   "mimetype": "application/julia",
   "name": "julia",
   "version": "1.7.2"
  }
 },
 "nbformat": 4,
 "nbformat_minor": 5
}
