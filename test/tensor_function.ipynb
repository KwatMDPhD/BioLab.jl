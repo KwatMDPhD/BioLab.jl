{
 "cells": [
  {
   "cell_type": "code",
   "execution_count": null,
   "id": "34e4701e",
   "metadata": {
    "execution": {
     "iopub.execute_input": "2022-02-09T22:47:29.917000Z",
     "iopub.status.busy": "2022-02-09T22:47:29.553547Z",
     "iopub.status.idle": "2022-02-09T22:47:30.853581Z",
     "shell.execute_reply": "2022-02-09T22:47:30.853081Z"
    }
   },
   "outputs": [],
   "source": [
    "using Revise\n",
    "using BenchmarkTools"
   ]
  },
  {
   "cell_type": "code",
   "execution_count": null,
   "id": "b3325ba2-989b-48ae-b530-5d0f64147f9a",
   "metadata": {
    "execution": {
     "iopub.execute_input": "2022-02-09T22:47:30.855970Z",
     "iopub.status.busy": "2022-02-09T22:47:30.855336Z",
     "iopub.status.idle": "2022-02-09T22:47:40.648789Z",
     "shell.execute_reply": "2022-02-09T22:47:40.648266Z"
    }
   },
   "outputs": [],
   "source": [
    "using OnePiece"
   ]
  },
  {
   "cell_type": "markdown",
   "id": "a4f49444",
   "metadata": {},
   "source": [
    "## apply"
   ]
  },
  {
   "cell_type": "code",
   "execution_count": null,
   "id": "ed8f544c",
   "metadata": {
    "execution": {
     "iopub.execute_input": "2022-02-09T22:47:42.233184Z",
     "iopub.status.busy": "2022-02-09T22:47:40.650219Z",
     "iopub.status.idle": "2022-02-09T22:47:43.132259Z",
     "shell.execute_reply": "2022-02-09T22:47:43.131750Z"
    }
   },
   "outputs": [],
   "source": [
    "n_ro = 5\n",
    "\n",
    "n_co = 4\n",
    "\n",
    "n_ze = convert(Int64, n_co / 2)\n",
    "\n",
    "n_on = n_co - n_ze"
   ]
  },
  {
   "cell_type": "code",
   "execution_count": null,
   "id": "2c8afdbb",
   "metadata": {
    "execution": {
     "iopub.execute_input": "2022-02-09T22:47:43.136189Z",
     "iopub.status.busy": "2022-02-09T22:47:43.135637Z",
     "iopub.status.idle": "2022-02-09T22:47:43.986086Z",
     "shell.execute_reply": "2022-02-09T22:47:43.985634Z"
    }
   },
   "outputs": [],
   "source": [
    "bi_ = convert(BitVector, [zeros(n_ze); ones(n_on)])"
   ]
  },
  {
   "cell_type": "code",
   "execution_count": null,
   "id": "1d5ca8fb",
   "metadata": {
    "execution": {
     "iopub.execute_input": "2022-02-09T22:47:43.988015Z",
     "iopub.status.busy": "2022-02-09T22:47:43.987493Z",
     "iopub.status.idle": "2022-02-09T22:47:44.377617Z",
     "shell.execute_reply": "2022-02-09T22:47:44.377219Z"
    }
   },
   "outputs": [],
   "source": [
    "ve = [10^(id - 1) for id in 1:n_co]"
   ]
  },
  {
   "cell_type": "code",
   "execution_count": null,
   "id": "c90efaf5",
   "metadata": {
    "execution": {
     "iopub.execute_input": "2022-02-09T22:47:44.379516Z",
     "iopub.status.busy": "2022-02-09T22:47:44.378955Z",
     "iopub.status.idle": "2022-02-09T22:47:44.794913Z",
     "shell.execute_reply": "2022-02-09T22:47:44.794467Z"
    }
   },
   "outputs": [],
   "source": [
    "ma = convert(Matrix, reshape(1:(n_ro * n_co), (n_ro, n_co)))"
   ]
  },
  {
   "cell_type": "code",
   "execution_count": null,
   "id": "9bc4bab7",
   "metadata": {
    "execution": {
     "iopub.execute_input": "2022-02-09T22:47:44.796816Z",
     "iopub.status.busy": "2022-02-09T22:47:44.796246Z",
     "iopub.status.idle": "2022-02-09T22:47:44.894547Z",
     "shell.execute_reply": "2022-02-09T22:47:44.894152Z"
    }
   },
   "outputs": [],
   "source": [
    "OnePiece.tensor_function.apply(ve, ve, .-)"
   ]
  },
  {
   "cell_type": "code",
   "execution_count": null,
   "id": "65716d59",
   "metadata": {
    "execution": {
     "iopub.execute_input": "2022-02-09T22:47:44.896532Z",
     "iopub.status.busy": "2022-02-09T22:47:44.895972Z",
     "iopub.status.idle": "2022-02-09T22:47:44.994924Z",
     "shell.execute_reply": "2022-02-09T22:47:44.994417Z"
    }
   },
   "outputs": [],
   "source": [
    "OnePiece.tensor_function.apply(bi_, ve, .-)"
   ]
  },
  {
   "cell_type": "code",
   "execution_count": null,
   "id": "21f8ba9e",
   "metadata": {
    "execution": {
     "iopub.execute_input": "2022-02-09T22:47:44.996775Z",
     "iopub.status.busy": "2022-02-09T22:47:44.996231Z",
     "iopub.status.idle": "2022-02-09T22:47:45.576242Z",
     "shell.execute_reply": "2022-02-09T22:47:45.575860Z"
    }
   },
   "outputs": [],
   "source": [
    "OnePiece.tensor_function.apply(ve, ma, .*)"
   ]
  },
  {
   "cell_type": "code",
   "execution_count": null,
   "id": "cb02ff4a",
   "metadata": {
    "execution": {
     "iopub.execute_input": "2022-02-09T22:47:45.578323Z",
     "iopub.status.busy": "2022-02-09T22:47:45.577688Z",
     "iopub.status.idle": "2022-02-09T22:47:45.752591Z",
     "shell.execute_reply": "2022-02-09T22:47:45.752206Z"
    }
   },
   "outputs": [],
   "source": [
    "OnePiece.tensor_function.apply(bi_, ma, .+)"
   ]
  },
  {
   "cell_type": "code",
   "execution_count": null,
   "id": "bd0b8dd5",
   "metadata": {
    "execution": {
     "iopub.execute_input": "2022-02-09T22:47:45.754343Z",
     "iopub.status.busy": "2022-02-09T22:47:45.753851Z",
     "iopub.status.idle": "2022-02-09T22:47:45.922370Z",
     "shell.execute_reply": "2022-02-09T22:47:45.921972Z"
    }
   },
   "outputs": [],
   "source": [
    "OnePiece.tensor_function.apply(ma, ma, (ro1, ro2) -> minimum([ro1; ro2]))"
   ]
  },
  {
   "cell_type": "code",
   "execution_count": null,
   "id": "78d1a02d",
   "metadata": {
    "execution": {
     "iopub.execute_input": "2022-02-09T22:47:45.924165Z",
     "iopub.status.busy": "2022-02-09T22:47:45.923628Z",
     "iopub.status.idle": "2022-02-09T22:47:45.996020Z",
     "shell.execute_reply": "2022-02-09T22:47:45.995115Z"
    }
   },
   "outputs": [],
   "source": [
    "for i in [1, 2], j in [10, 20]\n",
    "\n",
    "    println(i, \" \", j)\n",
    "\n",
    "end"
   ]
  },
  {
   "cell_type": "code",
   "execution_count": null,
   "id": "41c8bd21",
   "metadata": {
    "execution": {
     "iopub.execute_input": "2022-02-09T22:47:45.998211Z",
     "iopub.status.busy": "2022-02-09T22:47:45.997701Z",
     "iopub.status.idle": "2022-02-09T22:47:46.029972Z",
     "shell.execute_reply": "2022-02-09T22:47:46.029470Z"
    }
   },
   "outputs": [],
   "source": [
    "for i in [1, 2]\n",
    "\n",
    "    for j in [10, 20]\n",
    "\n",
    "        println(i, \" \", j)\n",
    "\n",
    "    end\n",
    "\n",
    "end"
   ]
  },
  {
   "cell_type": "code",
   "execution_count": null,
   "id": "b70fb392",
   "metadata": {
    "execution": {
     "iopub.execute_input": "2022-02-09T22:47:46.031897Z",
     "iopub.status.busy": "2022-02-09T22:47:46.031322Z",
     "iopub.status.idle": "2022-02-09T22:47:46.421151Z",
     "shell.execute_reply": "2022-02-09T22:47:46.420726Z"
    }
   },
   "outputs": [],
   "source": [
    "ma2 = [\n",
    "    1 10 100 1000\n",
    "    0.001 0.0 1 0.1\n",
    "]"
   ]
  },
  {
   "cell_type": "code",
   "execution_count": null,
   "id": "d1084452",
   "metadata": {
    "execution": {
     "iopub.execute_input": "2022-02-09T22:47:46.423294Z",
     "iopub.status.busy": "2022-02-09T22:47:46.422625Z",
     "iopub.status.idle": "2022-02-09T22:47:46.437399Z",
     "shell.execute_reply": "2022-02-09T22:47:46.436958Z"
    }
   },
   "outputs": [],
   "source": [
    "ma1 = [\n",
    "    0 0 1 1\n",
    "    -1 0 1 2\n",
    "]"
   ]
  },
  {
   "cell_type": "code",
   "execution_count": null,
   "id": "02cdebbb",
   "metadata": {
    "execution": {
     "iopub.execute_input": "2022-02-09T22:47:46.439268Z",
     "iopub.status.busy": "2022-02-09T22:47:46.438658Z",
     "iopub.status.idle": "2022-02-09T22:47:47.121571Z",
     "shell.execute_reply": "2022-02-09T22:47:47.121176Z"
    }
   },
   "outputs": [],
   "source": [
    "OnePiece.tensor_function.apply(ma1, ma2, .+)"
   ]
  },
  {
   "cell_type": "code",
   "execution_count": null,
   "id": "660015cb",
   "metadata": {
    "execution": {
     "iopub.execute_input": "2022-02-09T22:47:47.123398Z",
     "iopub.status.busy": "2022-02-09T22:47:47.122906Z",
     "iopub.status.idle": "2022-02-09T22:47:47.467227Z",
     "shell.execute_reply": "2022-02-09T22:47:47.466846Z"
    }
   },
   "outputs": [],
   "source": [
    "ma1 = convert(\n",
    "    BitMatrix,\n",
    "    [\n",
    "        0 0 1 1\n",
    "        1 1 0 0\n",
    "    ],\n",
    ")\n",
    "\n",
    "OnePiece.tensor_function.apply(ma1, ma2, .-)"
   ]
  }
 ],
 "metadata": {
  "@webio": {
   "lastCommId": null,
   "lastKernelId": null
  },
  "kernelspec": {
   "display_name": "Julia 1.7.1",
   "language": "julia",
   "name": "julia-1.7"
  },
  "language_info": {
   "file_extension": ".jl",
   "mimetype": "application/julia",
   "name": "julia",
   "version": "1.7.2"
  }
 },
 "nbformat": 4,
 "nbformat_minor": 5
}
