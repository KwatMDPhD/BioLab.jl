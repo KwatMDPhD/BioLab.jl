{
 "cells": [
  {
   "cell_type": "code",
   "execution_count": null,
   "id": "017464da",
   "metadata": {
    "execution": {
     "iopub.execute_input": "2022-02-14T16:49:30.501352Z",
     "iopub.status.busy": "2022-02-14T16:49:30.109453Z",
     "iopub.status.idle": "2022-02-14T16:49:30.716496Z",
     "shell.execute_reply": "2022-02-14T16:49:30.715916Z"
    }
   },
   "outputs": [],
   "source": [
    "TE = joinpath(tempdir(), \"OnePiece.test\")\n",
    "\n",
    "if isdir(TE)\n",
    "\n",
    "    rm(TE, recursive = true)\n",
    "\n",
    "    println(\"Removed \", TE, \".\")\n",
    "\n",
    "end\n",
    "\n",
    "mkdir(TE)\n",
    "\n",
    "println(\"Made \", TE, \".\")"
   ]
  },
  {
   "cell_type": "code",
   "execution_count": null,
   "id": "34e4701e",
   "metadata": {
    "execution": {
     "iopub.execute_input": "2022-02-14T16:49:30.718633Z",
     "iopub.status.busy": "2022-02-14T16:49:30.717876Z",
     "iopub.status.idle": "2022-02-14T16:49:35.540629Z",
     "shell.execute_reply": "2022-02-14T16:49:35.540032Z"
    }
   },
   "outputs": [],
   "source": [
    "using OnePiece"
   ]
  },
  {
   "cell_type": "markdown",
   "id": "b92a3da9",
   "metadata": {},
   "source": [
    "---"
   ]
  },
  {
   "cell_type": "markdown",
   "id": "dbfba2f4",
   "metadata": {},
   "source": [
    "## apply"
   ]
  },
  {
   "cell_type": "code",
   "execution_count": null,
   "id": "ed8f544c",
   "metadata": {
    "execution": {
     "iopub.execute_input": "2022-02-14T16:49:35.912524Z",
     "iopub.status.busy": "2022-02-14T16:49:35.542118Z",
     "iopub.status.idle": "2022-02-14T16:49:36.375010Z",
     "shell.execute_reply": "2022-02-14T16:49:36.374540Z"
    }
   },
   "outputs": [],
   "source": [
    "n_ro = 5\n",
    "\n",
    "n_co = 4\n",
    "\n",
    "n_ze = convert(Int64, n_co / 2)\n",
    "\n",
    "n_on = n_co - n_ze"
   ]
  },
  {
   "cell_type": "code",
   "execution_count": null,
   "id": "2c8afdbb",
   "metadata": {
    "execution": {
     "iopub.execute_input": "2022-02-14T16:49:36.377290Z",
     "iopub.status.busy": "2022-02-14T16:49:36.376627Z",
     "iopub.status.idle": "2022-02-14T16:49:37.454228Z",
     "shell.execute_reply": "2022-02-14T16:49:37.453720Z"
    }
   },
   "outputs": [],
   "source": [
    "bi_ = convert(BitVector, [zeros(n_ze); ones(n_on)])"
   ]
  },
  {
   "cell_type": "code",
   "execution_count": null,
   "id": "1d5ca8fb",
   "metadata": {
    "execution": {
     "iopub.execute_input": "2022-02-14T16:49:37.456212Z",
     "iopub.status.busy": "2022-02-14T16:49:37.455632Z",
     "iopub.status.idle": "2022-02-14T16:49:37.850175Z",
     "shell.execute_reply": "2022-02-14T16:49:37.849708Z"
    }
   },
   "outputs": [],
   "source": [
    "ve = [10^(id - 1) for id in 1:n_co]"
   ]
  },
  {
   "cell_type": "code",
   "execution_count": null,
   "id": "c90efaf5",
   "metadata": {
    "execution": {
     "iopub.execute_input": "2022-02-14T16:49:37.852066Z",
     "iopub.status.busy": "2022-02-14T16:49:37.851481Z",
     "iopub.status.idle": "2022-02-14T16:49:38.252238Z",
     "shell.execute_reply": "2022-02-14T16:49:38.251774Z"
    }
   },
   "outputs": [],
   "source": [
    "ma = convert(Matrix, reshape(1:(n_ro * n_co), (n_ro, n_co)))"
   ]
  },
  {
   "cell_type": "code",
   "execution_count": null,
   "id": "9bc4bab7",
   "metadata": {
    "execution": {
     "iopub.execute_input": "2022-02-14T16:49:38.254287Z",
     "iopub.status.busy": "2022-02-14T16:49:38.253644Z",
     "iopub.status.idle": "2022-02-14T16:49:38.345579Z",
     "shell.execute_reply": "2022-02-14T16:49:38.345129Z"
    }
   },
   "outputs": [],
   "source": [
    "OnePiece.tensor_function.apply(ve, ve, .-)"
   ]
  },
  {
   "cell_type": "code",
   "execution_count": null,
   "id": "65716d59",
   "metadata": {
    "execution": {
     "iopub.execute_input": "2022-02-14T16:49:38.347456Z",
     "iopub.status.busy": "2022-02-14T16:49:38.346874Z",
     "iopub.status.idle": "2022-02-14T16:49:38.440474Z",
     "shell.execute_reply": "2022-02-14T16:49:38.440019Z"
    }
   },
   "outputs": [],
   "source": [
    "OnePiece.tensor_function.apply(bi_, ve, .-)"
   ]
  },
  {
   "cell_type": "code",
   "execution_count": null,
   "id": "21f8ba9e",
   "metadata": {
    "execution": {
     "iopub.execute_input": "2022-02-14T16:49:38.442363Z",
     "iopub.status.busy": "2022-02-14T16:49:38.441784Z",
     "iopub.status.idle": "2022-02-14T16:49:39.040662Z",
     "shell.execute_reply": "2022-02-14T16:49:39.040217Z"
    }
   },
   "outputs": [],
   "source": [
    "OnePiece.tensor_function.apply(ve, ma, .*)"
   ]
  },
  {
   "cell_type": "code",
   "execution_count": null,
   "id": "cb02ff4a",
   "metadata": {
    "execution": {
     "iopub.execute_input": "2022-02-14T16:49:39.042486Z",
     "iopub.status.busy": "2022-02-14T16:49:39.041919Z",
     "iopub.status.idle": "2022-02-14T16:49:39.218258Z",
     "shell.execute_reply": "2022-02-14T16:49:39.217809Z"
    }
   },
   "outputs": [],
   "source": [
    "OnePiece.tensor_function.apply(bi_, ma, .+)"
   ]
  },
  {
   "cell_type": "code",
   "execution_count": null,
   "id": "bd0b8dd5",
   "metadata": {
    "execution": {
     "iopub.execute_input": "2022-02-14T16:49:39.220332Z",
     "iopub.status.busy": "2022-02-14T16:49:39.219633Z",
     "iopub.status.idle": "2022-02-14T16:49:39.376155Z",
     "shell.execute_reply": "2022-02-14T16:49:39.375710Z"
    }
   },
   "outputs": [],
   "source": [
    "OnePiece.tensor_function.apply(ma, ma, (ro1, ro2) -> minimum([ro1; ro2]))"
   ]
  },
  {
   "cell_type": "code",
   "execution_count": null,
   "id": "78d1a02d",
   "metadata": {
    "execution": {
     "iopub.execute_input": "2022-02-14T16:49:39.378050Z",
     "iopub.status.busy": "2022-02-14T16:49:39.377468Z",
     "iopub.status.idle": "2022-02-14T16:49:39.438367Z",
     "shell.execute_reply": "2022-02-14T16:49:39.437832Z"
    }
   },
   "outputs": [],
   "source": [
    "for i in [1, 2], j in [10, 20]\n",
    "\n",
    "    println(i, \" \", j)\n",
    "\n",
    "end"
   ]
  },
  {
   "cell_type": "code",
   "execution_count": null,
   "id": "41c8bd21",
   "metadata": {
    "execution": {
     "iopub.execute_input": "2022-02-14T16:49:39.440283Z",
     "iopub.status.busy": "2022-02-14T16:49:39.439708Z",
     "iopub.status.idle": "2022-02-14T16:49:39.458587Z",
     "shell.execute_reply": "2022-02-14T16:49:39.458175Z"
    }
   },
   "outputs": [],
   "source": [
    "for i in [1, 2]\n",
    "\n",
    "    for j in [10, 20]\n",
    "\n",
    "        println(i, \" \", j)\n",
    "\n",
    "    end\n",
    "\n",
    "end"
   ]
  },
  {
   "cell_type": "code",
   "execution_count": null,
   "id": "b70fb392",
   "metadata": {
    "execution": {
     "iopub.execute_input": "2022-02-14T16:49:39.460589Z",
     "iopub.status.busy": "2022-02-14T16:49:39.459914Z",
     "iopub.status.idle": "2022-02-14T16:49:39.872859Z",
     "shell.execute_reply": "2022-02-14T16:49:39.872353Z"
    }
   },
   "outputs": [],
   "source": [
    "ma2 = [\n",
    "    1 10 100 1000\n",
    "    0.001 0.0 1 0.1\n",
    "]"
   ]
  },
  {
   "cell_type": "code",
   "execution_count": null,
   "id": "d1084452",
   "metadata": {
    "execution": {
     "iopub.execute_input": "2022-02-14T16:49:39.874798Z",
     "iopub.status.busy": "2022-02-14T16:49:39.874171Z",
     "iopub.status.idle": "2022-02-14T16:49:39.877283Z",
     "shell.execute_reply": "2022-02-14T16:49:39.876843Z"
    }
   },
   "outputs": [],
   "source": [
    "ma1 = [\n",
    "    0 0 1 1\n",
    "    -1 0 1 2\n",
    "]"
   ]
  },
  {
   "cell_type": "code",
   "execution_count": null,
   "id": "02cdebbb",
   "metadata": {
    "execution": {
     "iopub.execute_input": "2022-02-14T16:49:39.879169Z",
     "iopub.status.busy": "2022-02-14T16:49:39.878604Z",
     "iopub.status.idle": "2022-02-14T16:49:40.559645Z",
     "shell.execute_reply": "2022-02-14T16:49:40.559192Z"
    }
   },
   "outputs": [],
   "source": [
    "OnePiece.tensor_function.apply(ma1, ma2, .+)"
   ]
  },
  {
   "cell_type": "code",
   "execution_count": null,
   "id": "660015cb",
   "metadata": {
    "execution": {
     "iopub.execute_input": "2022-02-14T16:49:40.561535Z",
     "iopub.status.busy": "2022-02-14T16:49:40.560963Z",
     "iopub.status.idle": "2022-02-14T16:49:40.928575Z",
     "shell.execute_reply": "2022-02-14T16:49:40.928131Z"
    }
   },
   "outputs": [],
   "source": [
    "ma1 = convert(\n",
    "    BitMatrix,\n",
    "    [\n",
    "        0 0 1 1\n",
    "        1 1 0 0\n",
    "    ],\n",
    ")\n",
    "\n",
    "OnePiece.tensor_function.apply(ma1, ma2, .-)"
   ]
  },
  {
   "cell_type": "markdown",
   "id": "3f396855",
   "metadata": {},
   "source": [
    "---"
   ]
  },
  {
   "cell_type": "code",
   "execution_count": null,
   "id": "b4af2023",
   "metadata": {
    "execution": {
     "iopub.execute_input": "2022-02-14T16:49:40.930526Z",
     "iopub.status.busy": "2022-02-14T16:49:40.929955Z",
     "iopub.status.idle": "2022-02-14T16:49:40.932464Z",
     "shell.execute_reply": "2022-02-14T16:49:40.932018Z"
    }
   },
   "outputs": [],
   "source": [
    "if isdir(TE)\n",
    "\n",
    "    rm(TE, recursive = true)\n",
    "\n",
    "    println(\"Removed \", TE, \".\")\n",
    "\n",
    "end"
   ]
  }
 ],
 "metadata": {
  "kernelspec": {
   "display_name": "Julia 1.7.2",
   "language": "julia",
   "name": "julia-1.7"
  },
  "language_info": {
   "file_extension": ".jl",
   "mimetype": "application/julia",
   "name": "julia",
   "version": "1.7.2"
  }
 },
 "nbformat": 4,
 "nbformat_minor": 5
}
