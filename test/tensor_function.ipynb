{
 "cells": [
  {
   "cell_type": "code",
   "execution_count": null,
   "id": "017464da",
   "metadata": {},
   "outputs": [],
   "source": [
    "TE = joinpath(tempdir(), \"OnePiece.test\")\n",
    "\n",
    "mkpath(TE)"
   ]
  },
  {
   "cell_type": "code",
   "execution_count": null,
   "id": "34e4701e",
   "metadata": {
    "execution": {
     "iopub.execute_input": "2022-02-10T17:51:23.590384Z",
     "iopub.status.busy": "2022-02-10T17:51:23.250154Z",
     "iopub.status.idle": "2022-02-10T17:51:24.482021Z",
     "shell.execute_reply": "2022-02-10T17:51:24.481306Z"
    }
   },
   "outputs": [],
   "source": [
    "using OnePiece"
   ]
  },
  {
   "cell_type": "markdown",
   "id": "b92a3da9",
   "metadata": {},
   "source": [
    "---"
   ]
  },
  {
   "cell_type": "markdown",
   "id": "dbfba2f4",
   "metadata": {},
   "source": [
    "## apply"
   ]
  },
  {
   "cell_type": "code",
   "execution_count": null,
   "id": "ed8f544c",
   "metadata": {
    "execution": {
     "iopub.execute_input": "2022-02-10T20:43:58.867387Z",
     "iopub.status.busy": "2022-02-10T20:43:58.323572Z",
     "iopub.status.idle": "2022-02-10T20:43:59.222485Z",
     "shell.execute_reply": "2022-02-10T20:43:59.221751Z"
    }
   },
   "outputs": [],
   "source": [
    "n_ro = 5\n",
    "\n",
    "n_co = 4\n",
    "\n",
    "n_ze = convert(Int64, n_co / 2)\n",
    "\n",
    "n_on = n_co - n_ze"
   ]
  },
  {
   "cell_type": "code",
   "execution_count": null,
   "id": "2c8afdbb",
   "metadata": {
    "execution": {
     "iopub.execute_input": "2022-02-10T20:43:59.224837Z",
     "iopub.status.busy": "2022-02-10T20:43:59.224060Z",
     "iopub.status.idle": "2022-02-10T20:44:00.546017Z",
     "shell.execute_reply": "2022-02-10T20:44:00.545468Z"
    }
   },
   "outputs": [],
   "source": [
    "bi_ = convert(BitVector, [zeros(n_ze); ones(n_on)])"
   ]
  },
  {
   "cell_type": "code",
   "execution_count": null,
   "id": "1d5ca8fb",
   "metadata": {
    "execution": {
     "iopub.execute_input": "2022-02-10T20:44:00.548406Z",
     "iopub.status.busy": "2022-02-10T20:44:00.547652Z",
     "iopub.status.idle": "2022-02-10T20:44:01.043456Z",
     "shell.execute_reply": "2022-02-10T20:44:01.042906Z"
    }
   },
   "outputs": [],
   "source": [
    "ve = [10^(id - 1) for id in 1:n_co]"
   ]
  },
  {
   "cell_type": "code",
   "execution_count": null,
   "id": "c90efaf5",
   "metadata": {
    "execution": {
     "iopub.execute_input": "2022-02-10T20:44:01.045721Z",
     "iopub.status.busy": "2022-02-10T20:44:01.044979Z",
     "iopub.status.idle": "2022-02-10T20:44:01.555564Z",
     "shell.execute_reply": "2022-02-10T20:44:01.554959Z"
    }
   },
   "outputs": [],
   "source": [
    "ma = convert(Matrix, reshape(1:(n_ro * n_co), (n_ro, n_co)))"
   ]
  },
  {
   "cell_type": "code",
   "execution_count": null,
   "id": "9bc4bab7",
   "metadata": {
    "execution": {
     "iopub.execute_input": "2022-02-10T20:44:01.557879Z",
     "iopub.status.busy": "2022-02-10T20:44:01.557159Z",
     "iopub.status.idle": "2022-02-10T20:44:01.663538Z",
     "shell.execute_reply": "2022-02-10T20:44:01.662882Z"
    }
   },
   "outputs": [],
   "source": [
    "OnePiece.tensor_function.apply(ve, ve, .-)"
   ]
  },
  {
   "cell_type": "code",
   "execution_count": null,
   "id": "65716d59",
   "metadata": {
    "execution": {
     "iopub.execute_input": "2022-02-10T20:44:01.665790Z",
     "iopub.status.busy": "2022-02-10T20:44:01.665104Z",
     "iopub.status.idle": "2022-02-10T20:44:01.799062Z",
     "shell.execute_reply": "2022-02-10T20:44:01.798496Z"
    }
   },
   "outputs": [],
   "source": [
    "OnePiece.tensor_function.apply(bi_, ve, .-)"
   ]
  },
  {
   "cell_type": "code",
   "execution_count": null,
   "id": "21f8ba9e",
   "metadata": {
    "execution": {
     "iopub.execute_input": "2022-02-10T20:44:01.801565Z",
     "iopub.status.busy": "2022-02-10T20:44:01.800704Z",
     "iopub.status.idle": "2022-02-10T20:44:02.557894Z",
     "shell.execute_reply": "2022-02-10T20:44:02.557224Z"
    }
   },
   "outputs": [],
   "source": [
    "OnePiece.tensor_function.apply(ve, ma, .*)"
   ]
  },
  {
   "cell_type": "code",
   "execution_count": null,
   "id": "cb02ff4a",
   "metadata": {
    "execution": {
     "iopub.execute_input": "2022-02-10T20:44:02.560237Z",
     "iopub.status.busy": "2022-02-10T20:44:02.559558Z",
     "iopub.status.idle": "2022-02-10T20:44:02.787703Z",
     "shell.execute_reply": "2022-02-10T20:44:02.787167Z"
    }
   },
   "outputs": [],
   "source": [
    "OnePiece.tensor_function.apply(bi_, ma, .+)"
   ]
  },
  {
   "cell_type": "code",
   "execution_count": null,
   "id": "bd0b8dd5",
   "metadata": {
    "execution": {
     "iopub.execute_input": "2022-02-10T20:44:02.789996Z",
     "iopub.status.busy": "2022-02-10T20:44:02.789294Z",
     "iopub.status.idle": "2022-02-10T20:44:02.968431Z",
     "shell.execute_reply": "2022-02-10T20:44:02.967816Z"
    }
   },
   "outputs": [],
   "source": [
    "OnePiece.tensor_function.apply(ma, ma, (ro1, ro2) -> minimum([ro1; ro2]))"
   ]
  },
  {
   "cell_type": "code",
   "execution_count": null,
   "id": "78d1a02d",
   "metadata": {
    "execution": {
     "iopub.execute_input": "2022-02-10T20:44:02.970731Z",
     "iopub.status.busy": "2022-02-10T20:44:02.970049Z",
     "iopub.status.idle": "2022-02-10T20:44:03.056943Z",
     "shell.execute_reply": "2022-02-10T20:44:03.056343Z"
    }
   },
   "outputs": [],
   "source": [
    "for i in [1, 2], j in [10, 20]\n",
    "\n",
    "    println(i, \" \", j)\n",
    "\n",
    "end"
   ]
  },
  {
   "cell_type": "code",
   "execution_count": null,
   "id": "41c8bd21",
   "metadata": {
    "execution": {
     "iopub.execute_input": "2022-02-10T20:44:03.059450Z",
     "iopub.status.busy": "2022-02-10T20:44:03.058673Z",
     "iopub.status.idle": "2022-02-10T20:44:03.081440Z",
     "shell.execute_reply": "2022-02-10T20:44:03.080832Z"
    }
   },
   "outputs": [],
   "source": [
    "for i in [1, 2]\n",
    "\n",
    "    for j in [10, 20]\n",
    "\n",
    "        println(i, \" \", j)\n",
    "\n",
    "    end\n",
    "\n",
    "end"
   ]
  },
  {
   "cell_type": "code",
   "execution_count": null,
   "id": "b70fb392",
   "metadata": {
    "execution": {
     "iopub.execute_input": "2022-02-10T20:44:03.083859Z",
     "iopub.status.busy": "2022-02-10T20:44:03.083059Z",
     "iopub.status.idle": "2022-02-10T20:44:03.605251Z",
     "shell.execute_reply": "2022-02-10T20:44:03.604610Z"
    }
   },
   "outputs": [],
   "source": [
    "ma2 = [\n",
    "    1 10 100 1000\n",
    "    0.001 0.0 1 0.1\n",
    "]"
   ]
  },
  {
   "cell_type": "code",
   "execution_count": null,
   "id": "d1084452",
   "metadata": {
    "execution": {
     "iopub.execute_input": "2022-02-10T20:44:03.607820Z",
     "iopub.status.busy": "2022-02-10T20:44:03.606913Z",
     "iopub.status.idle": "2022-02-10T20:44:03.610710Z",
     "shell.execute_reply": "2022-02-10T20:44:03.610167Z"
    }
   },
   "outputs": [],
   "source": [
    "ma1 = [\n",
    "    0 0 1 1\n",
    "    -1 0 1 2\n",
    "]"
   ]
  },
  {
   "cell_type": "code",
   "execution_count": null,
   "id": "02cdebbb",
   "metadata": {
    "execution": {
     "iopub.execute_input": "2022-02-10T20:44:03.613649Z",
     "iopub.status.busy": "2022-02-10T20:44:03.612888Z",
     "iopub.status.idle": "2022-02-10T20:44:04.532653Z",
     "shell.execute_reply": "2022-02-10T20:44:04.532062Z"
    }
   },
   "outputs": [],
   "source": [
    "OnePiece.tensor_function.apply(ma1, ma2, .+)"
   ]
  },
  {
   "cell_type": "code",
   "execution_count": null,
   "id": "660015cb",
   "metadata": {
    "execution": {
     "iopub.execute_input": "2022-02-10T20:44:04.534768Z",
     "iopub.status.busy": "2022-02-10T20:44:04.534053Z",
     "iopub.status.idle": "2022-02-10T20:44:04.994669Z",
     "shell.execute_reply": "2022-02-10T20:44:04.994095Z"
    }
   },
   "outputs": [],
   "source": [
    "ma1 = convert(\n",
    "    BitMatrix,\n",
    "    [\n",
    "        0 0 1 1\n",
    "        1 1 0 0\n",
    "    ],\n",
    ")\n",
    "\n",
    "OnePiece.tensor_function.apply(ma1, ma2, .-)"
   ]
  },
  {
   "cell_type": "markdown",
   "id": "3f396855",
   "metadata": {},
   "source": [
    "---"
   ]
  },
  {
   "cell_type": "code",
   "execution_count": null,
   "id": "b4af2023",
   "metadata": {},
   "outputs": [],
   "source": [
    "rm(TE; recursive = true)"
   ]
  }
 ],
 "metadata": {
  "kernelspec": {
   "display_name": "Julia 1.7.2",
   "language": "julia",
   "name": "julia-1.7"
  },
  "language_info": {
   "file_extension": ".jl",
   "mimetype": "application/julia",
   "name": "julia",
   "version": "1.7.2"
  }
 },
 "nbformat": 4,
 "nbformat_minor": 5
}
