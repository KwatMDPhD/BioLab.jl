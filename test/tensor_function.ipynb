{
 "cells": [
  {
   "cell_type": "code",
   "execution_count": null,
   "id": "017464da",
   "metadata": {
    "execution": {
     "iopub.execute_input": "2022-02-11T08:13:53.707611Z",
     "iopub.status.busy": "2022-02-11T08:13:53.326895Z",
     "iopub.status.idle": "2022-02-11T08:13:53.914184Z",
     "shell.execute_reply": "2022-02-11T08:13:53.913607Z"
    }
   },
   "outputs": [],
   "source": [
    "TE = joinpath(tempdir(), \"OnePiece.test\")\n",
    "\n",
    "if isdir(TE)\n",
    "\n",
    "    rm(TE; recursive = true)\n",
    "\n",
    "    println(\"Removed \", TE, \".\")\n",
    "\n",
    "end\n",
    "\n",
    "mkdir(TE)\n",
    "\n",
    "println(\"Made \", TE, \".\")"
   ]
  },
  {
   "cell_type": "code",
   "execution_count": null,
   "id": "34e4701e",
   "metadata": {
    "execution": {
     "iopub.execute_input": "2022-02-11T08:13:53.916149Z",
     "iopub.status.busy": "2022-02-11T08:13:53.915564Z",
     "iopub.status.idle": "2022-02-11T08:13:58.196097Z",
     "shell.execute_reply": "2022-02-11T08:13:58.195572Z"
    }
   },
   "outputs": [],
   "source": [
    "using OnePiece"
   ]
  },
  {
   "cell_type": "markdown",
   "id": "b92a3da9",
   "metadata": {},
   "source": [
    "---"
   ]
  },
  {
   "cell_type": "markdown",
   "id": "dbfba2f4",
   "metadata": {},
   "source": [
    "## apply"
   ]
  },
  {
   "cell_type": "code",
   "execution_count": null,
   "id": "ed8f544c",
   "metadata": {
    "execution": {
     "iopub.execute_input": "2022-02-11T08:13:58.501546Z",
     "iopub.status.busy": "2022-02-11T08:13:58.197603Z",
     "iopub.status.idle": "2022-02-11T08:13:58.876942Z",
     "shell.execute_reply": "2022-02-11T08:13:58.876550Z"
    }
   },
   "outputs": [],
   "source": [
    "n_ro = 5\n",
    "\n",
    "n_co = 4\n",
    "\n",
    "n_ze = convert(Int64, n_co / 2)\n",
    "\n",
    "n_on = n_co - n_ze"
   ]
  },
  {
   "cell_type": "code",
   "execution_count": null,
   "id": "2c8afdbb",
   "metadata": {
    "execution": {
     "iopub.execute_input": "2022-02-11T08:13:58.879016Z",
     "iopub.status.busy": "2022-02-11T08:13:58.878390Z",
     "iopub.status.idle": "2022-02-11T08:13:59.821261Z",
     "shell.execute_reply": "2022-02-11T08:13:59.820874Z"
    }
   },
   "outputs": [],
   "source": [
    "bi_ = convert(BitVector, [zeros(n_ze); ones(n_on)])"
   ]
  },
  {
   "cell_type": "code",
   "execution_count": null,
   "id": "1d5ca8fb",
   "metadata": {
    "execution": {
     "iopub.execute_input": "2022-02-11T08:13:59.823296Z",
     "iopub.status.busy": "2022-02-11T08:13:59.822709Z",
     "iopub.status.idle": "2022-02-11T08:14:00.210949Z",
     "shell.execute_reply": "2022-02-11T08:14:00.210501Z"
    }
   },
   "outputs": [],
   "source": [
    "ve = [10^(id - 1) for id in 1:n_co]"
   ]
  },
  {
   "cell_type": "code",
   "execution_count": null,
   "id": "c90efaf5",
   "metadata": {
    "execution": {
     "iopub.execute_input": "2022-02-11T08:14:00.212953Z",
     "iopub.status.busy": "2022-02-11T08:14:00.212273Z",
     "iopub.status.idle": "2022-02-11T08:14:00.610615Z",
     "shell.execute_reply": "2022-02-11T08:14:00.610159Z"
    }
   },
   "outputs": [],
   "source": [
    "ma = convert(Matrix, reshape(1:(n_ro * n_co), (n_ro, n_co)))"
   ]
  },
  {
   "cell_type": "code",
   "execution_count": null,
   "id": "9bc4bab7",
   "metadata": {
    "execution": {
     "iopub.execute_input": "2022-02-11T08:14:00.612485Z",
     "iopub.status.busy": "2022-02-11T08:14:00.611912Z",
     "iopub.status.idle": "2022-02-11T08:14:00.693860Z",
     "shell.execute_reply": "2022-02-11T08:14:00.693354Z"
    }
   },
   "outputs": [],
   "source": [
    "OnePiece.tensor_function.apply(ve, ve, .-)"
   ]
  },
  {
   "cell_type": "code",
   "execution_count": null,
   "id": "65716d59",
   "metadata": {
    "execution": {
     "iopub.execute_input": "2022-02-11T08:14:00.695790Z",
     "iopub.status.busy": "2022-02-11T08:14:00.695156Z",
     "iopub.status.idle": "2022-02-11T08:14:00.787529Z",
     "shell.execute_reply": "2022-02-11T08:14:00.787081Z"
    }
   },
   "outputs": [],
   "source": [
    "OnePiece.tensor_function.apply(bi_, ve, .-)"
   ]
  },
  {
   "cell_type": "code",
   "execution_count": null,
   "id": "21f8ba9e",
   "metadata": {
    "execution": {
     "iopub.execute_input": "2022-02-11T08:14:00.789435Z",
     "iopub.status.busy": "2022-02-11T08:14:00.788846Z",
     "iopub.status.idle": "2022-02-11T08:14:01.368628Z",
     "shell.execute_reply": "2022-02-11T08:14:01.368229Z"
    }
   },
   "outputs": [],
   "source": [
    "OnePiece.tensor_function.apply(ve, ma, .*)"
   ]
  },
  {
   "cell_type": "code",
   "execution_count": null,
   "id": "cb02ff4a",
   "metadata": {
    "execution": {
     "iopub.execute_input": "2022-02-11T08:14:01.370658Z",
     "iopub.status.busy": "2022-02-11T08:14:01.370058Z",
     "iopub.status.idle": "2022-02-11T08:14:01.528781Z",
     "shell.execute_reply": "2022-02-11T08:14:01.528229Z"
    }
   },
   "outputs": [],
   "source": [
    "OnePiece.tensor_function.apply(bi_, ma, .+)"
   ]
  },
  {
   "cell_type": "code",
   "execution_count": null,
   "id": "bd0b8dd5",
   "metadata": {
    "execution": {
     "iopub.execute_input": "2022-02-11T08:14:01.531131Z",
     "iopub.status.busy": "2022-02-11T08:14:01.530576Z",
     "iopub.status.idle": "2022-02-11T08:14:01.660851Z",
     "shell.execute_reply": "2022-02-11T08:14:01.660365Z"
    }
   },
   "outputs": [],
   "source": [
    "OnePiece.tensor_function.apply(ma, ma, (ro1, ro2) -> minimum([ro1; ro2]))"
   ]
  },
  {
   "cell_type": "code",
   "execution_count": null,
   "id": "78d1a02d",
   "metadata": {
    "execution": {
     "iopub.execute_input": "2022-02-11T08:14:01.662910Z",
     "iopub.status.busy": "2022-02-11T08:14:01.662323Z",
     "iopub.status.idle": "2022-02-11T08:14:01.722349Z",
     "shell.execute_reply": "2022-02-11T08:14:01.721894Z"
    }
   },
   "outputs": [],
   "source": [
    "for i in [1, 2], j in [10, 20]\n",
    "\n",
    "    println(i, \" \", j)\n",
    "\n",
    "end"
   ]
  },
  {
   "cell_type": "code",
   "execution_count": null,
   "id": "41c8bd21",
   "metadata": {
    "execution": {
     "iopub.execute_input": "2022-02-11T08:14:01.724435Z",
     "iopub.status.busy": "2022-02-11T08:14:01.723922Z",
     "iopub.status.idle": "2022-02-11T08:14:01.740530Z",
     "shell.execute_reply": "2022-02-11T08:14:01.740133Z"
    }
   },
   "outputs": [],
   "source": [
    "for i in [1, 2]\n",
    "\n",
    "    for j in [10, 20]\n",
    "\n",
    "        println(i, \" \", j)\n",
    "\n",
    "    end\n",
    "\n",
    "end"
   ]
  },
  {
   "cell_type": "code",
   "execution_count": null,
   "id": "b70fb392",
   "metadata": {
    "execution": {
     "iopub.execute_input": "2022-02-11T08:14:01.742418Z",
     "iopub.status.busy": "2022-02-11T08:14:01.741925Z",
     "iopub.status.idle": "2022-02-11T08:14:02.107375Z",
     "shell.execute_reply": "2022-02-11T08:14:02.106988Z"
    }
   },
   "outputs": [],
   "source": [
    "ma2 = [\n",
    "    1 10 100 1000\n",
    "    0.001 0.0 1 0.1\n",
    "]"
   ]
  },
  {
   "cell_type": "code",
   "execution_count": null,
   "id": "d1084452",
   "metadata": {
    "execution": {
     "iopub.execute_input": "2022-02-11T08:14:02.109688Z",
     "iopub.status.busy": "2022-02-11T08:14:02.109037Z",
     "iopub.status.idle": "2022-02-11T08:14:02.112241Z",
     "shell.execute_reply": "2022-02-11T08:14:02.111864Z"
    }
   },
   "outputs": [],
   "source": [
    "ma1 = [\n",
    "    0 0 1 1\n",
    "    -1 0 1 2\n",
    "]"
   ]
  },
  {
   "cell_type": "code",
   "execution_count": null,
   "id": "02cdebbb",
   "metadata": {
    "execution": {
     "iopub.execute_input": "2022-02-11T08:14:02.114302Z",
     "iopub.status.busy": "2022-02-11T08:14:02.113804Z",
     "iopub.status.idle": "2022-02-11T08:14:02.721703Z",
     "shell.execute_reply": "2022-02-11T08:14:02.721280Z"
    }
   },
   "outputs": [],
   "source": [
    "OnePiece.tensor_function.apply(ma1, ma2, .+)"
   ]
  },
  {
   "cell_type": "code",
   "execution_count": null,
   "id": "660015cb",
   "metadata": {
    "execution": {
     "iopub.execute_input": "2022-02-11T08:14:02.723648Z",
     "iopub.status.busy": "2022-02-11T08:14:02.723067Z",
     "iopub.status.idle": "2022-02-11T08:14:03.061062Z",
     "shell.execute_reply": "2022-02-11T08:14:03.060671Z"
    }
   },
   "outputs": [],
   "source": [
    "ma1 = convert(\n",
    "    BitMatrix,\n",
    "    [\n",
    "        0 0 1 1\n",
    "        1 1 0 0\n",
    "    ],\n",
    ")\n",
    "\n",
    "OnePiece.tensor_function.apply(ma1, ma2, .-)"
   ]
  },
  {
   "cell_type": "markdown",
   "id": "3f396855",
   "metadata": {},
   "source": [
    "---"
   ]
  },
  {
   "cell_type": "code",
   "execution_count": null,
   "id": "b4af2023",
   "metadata": {
    "execution": {
     "iopub.execute_input": "2022-02-11T08:14:03.063192Z",
     "iopub.status.busy": "2022-02-11T08:14:03.062590Z",
     "iopub.status.idle": "2022-02-11T08:14:03.065054Z",
     "shell.execute_reply": "2022-02-11T08:14:03.064678Z"
    }
   },
   "outputs": [],
   "source": [
    "if isdir(TE)\n",
    "\n",
    "    rm(TE; recursive = true)\n",
    "\n",
    "    println(\"Removed \", TE, \".\")\n",
    "\n",
    "end"
   ]
  }
 ],
 "metadata": {
  "kernelspec": {
   "display_name": "Julia 1.7.2",
   "language": "julia",
   "name": "julia-1.7"
  },
  "language_info": {
   "file_extension": ".jl",
   "mimetype": "application/julia",
   "name": "julia",
   "version": "1.7.2"
  }
 },
 "nbformat": 4,
 "nbformat_minor": 5
}
