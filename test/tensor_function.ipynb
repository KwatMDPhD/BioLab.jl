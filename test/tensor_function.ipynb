{
 "cells": [
  {
   "cell_type": "code",
   "execution_count": null,
   "id": "017464da",
   "metadata": {
    "execution": {
     "iopub.execute_input": "2022-02-13T21:51:58.460082Z",
     "iopub.status.busy": "2022-02-13T21:51:58.077938Z",
     "iopub.status.idle": "2022-02-13T21:51:58.701801Z",
     "shell.execute_reply": "2022-02-13T21:51:58.701179Z"
    }
   },
   "outputs": [],
   "source": [
    "TE = joinpath(tempdir(), \"OnePiece.test\")\n",
    "\n",
    "if isdir(TE)\n",
    "\n",
    "    rm(TE, recursive = true)\n",
    "\n",
    "    println(\"Removed \", TE, \".\")\n",
    "\n",
    "end\n",
    "\n",
    "mkdir(TE)\n",
    "\n",
    "println(\"Made \", TE, \".\")"
   ]
  },
  {
   "cell_type": "code",
   "execution_count": null,
   "id": "34e4701e",
   "metadata": {
    "execution": {
     "iopub.execute_input": "2022-02-13T21:51:58.704297Z",
     "iopub.status.busy": "2022-02-13T21:51:58.703655Z",
     "iopub.status.idle": "2022-02-13T21:52:03.357622Z",
     "shell.execute_reply": "2022-02-13T21:52:03.357175Z"
    }
   },
   "outputs": [],
   "source": [
    "using OnePiece"
   ]
  },
  {
   "cell_type": "markdown",
   "id": "b92a3da9",
   "metadata": {},
   "source": [
    "---"
   ]
  },
  {
   "cell_type": "markdown",
   "id": "dbfba2f4",
   "metadata": {},
   "source": [
    "## apply"
   ]
  },
  {
   "cell_type": "code",
   "execution_count": null,
   "id": "ed8f544c",
   "metadata": {
    "execution": {
     "iopub.execute_input": "2022-02-13T21:52:03.708755Z",
     "iopub.status.busy": "2022-02-13T21:52:03.359086Z",
     "iopub.status.idle": "2022-02-13T21:52:04.166628Z",
     "shell.execute_reply": "2022-02-13T21:52:04.166207Z"
    }
   },
   "outputs": [],
   "source": [
    "n_ro = 5\n",
    "\n",
    "n_co = 4\n",
    "\n",
    "n_ze = convert(Int64, n_co / 2)\n",
    "\n",
    "n_on = n_co - n_ze"
   ]
  },
  {
   "cell_type": "code",
   "execution_count": null,
   "id": "2c8afdbb",
   "metadata": {
    "execution": {
     "iopub.execute_input": "2022-02-13T21:52:04.168977Z",
     "iopub.status.busy": "2022-02-13T21:52:04.168301Z",
     "iopub.status.idle": "2022-02-13T21:52:05.260729Z",
     "shell.execute_reply": "2022-02-13T21:52:05.260249Z"
    }
   },
   "outputs": [],
   "source": [
    "bi_ = convert(BitVector, [zeros(n_ze); ones(n_on)])"
   ]
  },
  {
   "cell_type": "code",
   "execution_count": null,
   "id": "1d5ca8fb",
   "metadata": {
    "execution": {
     "iopub.execute_input": "2022-02-13T21:52:05.263001Z",
     "iopub.status.busy": "2022-02-13T21:52:05.262227Z",
     "iopub.status.idle": "2022-02-13T21:52:05.639075Z",
     "shell.execute_reply": "2022-02-13T21:52:05.638675Z"
    }
   },
   "outputs": [],
   "source": [
    "ve = [10^(id - 1) for id in 1:n_co]"
   ]
  },
  {
   "cell_type": "code",
   "execution_count": null,
   "id": "c90efaf5",
   "metadata": {
    "execution": {
     "iopub.execute_input": "2022-02-13T21:52:05.641267Z",
     "iopub.status.busy": "2022-02-13T21:52:05.640391Z",
     "iopub.status.idle": "2022-02-13T21:52:06.064598Z",
     "shell.execute_reply": "2022-02-13T21:52:06.064119Z"
    }
   },
   "outputs": [],
   "source": [
    "ma = convert(Matrix, reshape(1:(n_ro * n_co), (n_ro, n_co)))"
   ]
  },
  {
   "cell_type": "code",
   "execution_count": null,
   "id": "9bc4bab7",
   "metadata": {
    "execution": {
     "iopub.execute_input": "2022-02-13T21:52:06.066792Z",
     "iopub.status.busy": "2022-02-13T21:52:06.065998Z",
     "iopub.status.idle": "2022-02-13T21:52:06.168775Z",
     "shell.execute_reply": "2022-02-13T21:52:06.168286Z"
    }
   },
   "outputs": [],
   "source": [
    "OnePiece.tensor_function.apply(ve, ve, .-)"
   ]
  },
  {
   "cell_type": "code",
   "execution_count": null,
   "id": "65716d59",
   "metadata": {
    "execution": {
     "iopub.execute_input": "2022-02-13T21:52:06.170844Z",
     "iopub.status.busy": "2022-02-13T21:52:06.170244Z",
     "iopub.status.idle": "2022-02-13T21:52:06.265535Z",
     "shell.execute_reply": "2022-02-13T21:52:06.264997Z"
    }
   },
   "outputs": [],
   "source": [
    "OnePiece.tensor_function.apply(bi_, ve, .-)"
   ]
  },
  {
   "cell_type": "code",
   "execution_count": null,
   "id": "21f8ba9e",
   "metadata": {
    "execution": {
     "iopub.execute_input": "2022-02-13T21:52:06.267374Z",
     "iopub.status.busy": "2022-02-13T21:52:06.266851Z",
     "iopub.status.idle": "2022-02-13T21:52:06.921931Z",
     "shell.execute_reply": "2022-02-13T21:52:06.921467Z"
    }
   },
   "outputs": [],
   "source": [
    "OnePiece.tensor_function.apply(ve, ma, .*)"
   ]
  },
  {
   "cell_type": "code",
   "execution_count": null,
   "id": "cb02ff4a",
   "metadata": {
    "execution": {
     "iopub.execute_input": "2022-02-13T21:52:06.923904Z",
     "iopub.status.busy": "2022-02-13T21:52:06.923323Z",
     "iopub.status.idle": "2022-02-13T21:52:07.097598Z",
     "shell.execute_reply": "2022-02-13T21:52:07.097200Z"
    }
   },
   "outputs": [],
   "source": [
    "OnePiece.tensor_function.apply(bi_, ma, .+)"
   ]
  },
  {
   "cell_type": "code",
   "execution_count": null,
   "id": "bd0b8dd5",
   "metadata": {
    "execution": {
     "iopub.execute_input": "2022-02-13T21:52:07.099651Z",
     "iopub.status.busy": "2022-02-13T21:52:07.099153Z",
     "iopub.status.idle": "2022-02-13T21:52:07.261872Z",
     "shell.execute_reply": "2022-02-13T21:52:07.261266Z"
    }
   },
   "outputs": [],
   "source": [
    "OnePiece.tensor_function.apply(ma, ma, (ro1, ro2) -> minimum([ro1; ro2]))"
   ]
  },
  {
   "cell_type": "code",
   "execution_count": null,
   "id": "78d1a02d",
   "metadata": {
    "execution": {
     "iopub.execute_input": "2022-02-13T21:52:07.264154Z",
     "iopub.status.busy": "2022-02-13T21:52:07.263448Z",
     "iopub.status.idle": "2022-02-13T21:52:07.329003Z",
     "shell.execute_reply": "2022-02-13T21:52:07.328453Z"
    }
   },
   "outputs": [],
   "source": [
    "for i in [1, 2], j in [10, 20]\n",
    "\n",
    "    println(i, \" \", j)\n",
    "\n",
    "end"
   ]
  },
  {
   "cell_type": "code",
   "execution_count": null,
   "id": "41c8bd21",
   "metadata": {
    "execution": {
     "iopub.execute_input": "2022-02-13T21:52:07.330958Z",
     "iopub.status.busy": "2022-02-13T21:52:07.330363Z",
     "iopub.status.idle": "2022-02-13T21:52:07.350738Z",
     "shell.execute_reply": "2022-02-13T21:52:07.350194Z"
    }
   },
   "outputs": [],
   "source": [
    "for i in [1, 2]\n",
    "\n",
    "    for j in [10, 20]\n",
    "\n",
    "        println(i, \" \", j)\n",
    "\n",
    "    end\n",
    "\n",
    "end"
   ]
  },
  {
   "cell_type": "code",
   "execution_count": null,
   "id": "b70fb392",
   "metadata": {
    "execution": {
     "iopub.execute_input": "2022-02-13T21:52:07.352733Z",
     "iopub.status.busy": "2022-02-13T21:52:07.352133Z",
     "iopub.status.idle": "2022-02-13T21:52:07.788010Z",
     "shell.execute_reply": "2022-02-13T21:52:07.787544Z"
    }
   },
   "outputs": [],
   "source": [
    "ma2 = [\n",
    "    1 10 100 1000\n",
    "    0.001 0.0 1 0.1\n",
    "]"
   ]
  },
  {
   "cell_type": "code",
   "execution_count": null,
   "id": "d1084452",
   "metadata": {
    "execution": {
     "iopub.execute_input": "2022-02-13T21:52:07.790036Z",
     "iopub.status.busy": "2022-02-13T21:52:07.789440Z",
     "iopub.status.idle": "2022-02-13T21:52:07.792791Z",
     "shell.execute_reply": "2022-02-13T21:52:07.792320Z"
    }
   },
   "outputs": [],
   "source": [
    "ma1 = [\n",
    "    0 0 1 1\n",
    "    -1 0 1 2\n",
    "]"
   ]
  },
  {
   "cell_type": "code",
   "execution_count": null,
   "id": "02cdebbb",
   "metadata": {
    "execution": {
     "iopub.execute_input": "2022-02-13T21:52:07.794833Z",
     "iopub.status.busy": "2022-02-13T21:52:07.794098Z",
     "iopub.status.idle": "2022-02-13T21:52:08.547068Z",
     "shell.execute_reply": "2022-02-13T21:52:08.546665Z"
    }
   },
   "outputs": [],
   "source": [
    "OnePiece.tensor_function.apply(ma1, ma2, .+)"
   ]
  },
  {
   "cell_type": "code",
   "execution_count": null,
   "id": "660015cb",
   "metadata": {
    "execution": {
     "iopub.execute_input": "2022-02-13T21:52:08.549624Z",
     "iopub.status.busy": "2022-02-13T21:52:08.549078Z",
     "iopub.status.idle": "2022-02-13T21:52:08.947101Z",
     "shell.execute_reply": "2022-02-13T21:52:08.946411Z"
    }
   },
   "outputs": [],
   "source": [
    "ma1 = convert(\n",
    "    BitMatrix,\n",
    "    [\n",
    "        0 0 1 1\n",
    "        1 1 0 0\n",
    "    ],\n",
    ")\n",
    "\n",
    "OnePiece.tensor_function.apply(ma1, ma2, .-)"
   ]
  },
  {
   "cell_type": "markdown",
   "id": "3f396855",
   "metadata": {},
   "source": [
    "---"
   ]
  },
  {
   "cell_type": "code",
   "execution_count": null,
   "id": "b4af2023",
   "metadata": {
    "execution": {
     "iopub.execute_input": "2022-02-13T21:52:08.949960Z",
     "iopub.status.busy": "2022-02-13T21:52:08.948983Z",
     "iopub.status.idle": "2022-02-13T21:52:08.953261Z",
     "shell.execute_reply": "2022-02-13T21:52:08.952445Z"
    }
   },
   "outputs": [],
   "source": [
    "if isdir(TE)\n",
    "\n",
    "    rm(TE, recursive = true)\n",
    "\n",
    "    println(\"Removed \", TE, \".\")\n",
    "\n",
    "end"
   ]
  }
 ],
 "metadata": {
  "kernelspec": {
   "display_name": "Julia 1.7.2",
   "language": "julia",
   "name": "julia-1.7"
  },
  "language_info": {
   "file_extension": ".jl",
   "mimetype": "application/julia",
   "name": "julia",
   "version": "1.7.2"
  }
 },
 "nbformat": 4,
 "nbformat_minor": 5
}
