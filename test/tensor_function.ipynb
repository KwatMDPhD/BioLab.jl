{
 "cells": [
  {
   "cell_type": "code",
   "execution_count": null,
   "id": "34e4701e",
   "metadata": {
    "execution": {
     "iopub.execute_input": "2022-02-09T05:37:50.314749Z",
     "iopub.status.busy": "2022-02-09T05:37:49.891243Z",
     "iopub.status.idle": "2022-02-09T05:37:51.336151Z",
     "shell.execute_reply": "2022-02-09T05:37:51.335556Z"
    }
   },
   "outputs": [],
   "source": [
    "using Revise\n",
    "using BenchmarkTools"
   ]
  },
  {
   "cell_type": "code",
   "execution_count": null,
   "id": "b3325ba2-989b-48ae-b530-5d0f64147f9a",
   "metadata": {
    "execution": {
     "iopub.execute_input": "2022-02-09T05:37:51.338592Z",
     "iopub.status.busy": "2022-02-09T05:37:51.337806Z",
     "iopub.status.idle": "2022-02-09T05:38:02.299983Z",
     "shell.execute_reply": "2022-02-09T05:38:02.299448Z"
    }
   },
   "outputs": [],
   "source": [
    "using OnePiece"
   ]
  },
  {
   "cell_type": "markdown",
   "id": "a4f49444",
   "metadata": {},
   "source": [
    "## apply"
   ]
  },
  {
   "cell_type": "code",
   "execution_count": null,
   "id": "ed8f544c",
   "metadata": {
    "execution": {
     "iopub.execute_input": "2022-02-09T05:38:03.984793Z",
     "iopub.status.busy": "2022-02-09T05:38:02.301376Z",
     "iopub.status.idle": "2022-02-09T05:38:04.867194Z",
     "shell.execute_reply": "2022-02-09T05:38:04.866793Z"
    }
   },
   "outputs": [],
   "source": [
    "n_ro = 5\n",
    "\n",
    "n_co = 4\n",
    "\n",
    "n_ze = convert(Int64, n_co / 2)\n",
    "\n",
    "n_on = n_co - n_ze"
   ]
  },
  {
   "cell_type": "code",
   "execution_count": null,
   "id": "2c8afdbb",
   "metadata": {
    "execution": {
     "iopub.execute_input": "2022-02-09T05:38:04.868884Z",
     "iopub.status.busy": "2022-02-09T05:38:04.868390Z",
     "iopub.status.idle": "2022-02-09T05:38:05.845486Z",
     "shell.execute_reply": "2022-02-09T05:38:05.844970Z"
    }
   },
   "outputs": [],
   "source": [
    "bi_ = convert(BitVector, [zeros(n_ze); ones(n_on)])"
   ]
  },
  {
   "cell_type": "code",
   "execution_count": null,
   "id": "1d5ca8fb",
   "metadata": {
    "execution": {
     "iopub.execute_input": "2022-02-09T05:38:05.847588Z",
     "iopub.status.busy": "2022-02-09T05:38:05.846872Z",
     "iopub.status.idle": "2022-02-09T05:38:06.273347Z",
     "shell.execute_reply": "2022-02-09T05:38:06.272831Z"
    }
   },
   "outputs": [],
   "source": [
    "ve = [10^(id - 1) for id in 1:n_co]"
   ]
  },
  {
   "cell_type": "code",
   "execution_count": null,
   "id": "c90efaf5",
   "metadata": {
    "execution": {
     "iopub.execute_input": "2022-02-09T05:38:06.275200Z",
     "iopub.status.busy": "2022-02-09T05:38:06.274621Z",
     "iopub.status.idle": "2022-02-09T05:38:06.755099Z",
     "shell.execute_reply": "2022-02-09T05:38:06.754634Z"
    }
   },
   "outputs": [],
   "source": [
    "ma = convert(Matrix, reshape(1:(n_ro * n_co), (n_ro, n_co)))"
   ]
  },
  {
   "cell_type": "code",
   "execution_count": null,
   "id": "9bc4bab7",
   "metadata": {
    "execution": {
     "iopub.execute_input": "2022-02-09T05:38:06.757099Z",
     "iopub.status.busy": "2022-02-09T05:38:06.756427Z",
     "iopub.status.idle": "2022-02-09T05:38:06.859961Z",
     "shell.execute_reply": "2022-02-09T05:38:06.859506Z"
    }
   },
   "outputs": [],
   "source": [
    "OnePiece.tensor_function.apply(ve, ve, .-)"
   ]
  },
  {
   "cell_type": "code",
   "execution_count": null,
   "id": "65716d59",
   "metadata": {
    "execution": {
     "iopub.execute_input": "2022-02-09T05:38:06.861845Z",
     "iopub.status.busy": "2022-02-09T05:38:06.861197Z",
     "iopub.status.idle": "2022-02-09T05:38:06.972335Z",
     "shell.execute_reply": "2022-02-09T05:38:06.971830Z"
    }
   },
   "outputs": [],
   "source": [
    "OnePiece.tensor_function.apply(bi_, ve, .-)"
   ]
  },
  {
   "cell_type": "code",
   "execution_count": null,
   "id": "21f8ba9e",
   "metadata": {
    "execution": {
     "iopub.execute_input": "2022-02-09T05:38:06.974501Z",
     "iopub.status.busy": "2022-02-09T05:38:06.973815Z",
     "iopub.status.idle": "2022-02-09T05:38:07.715132Z",
     "shell.execute_reply": "2022-02-09T05:38:07.714677Z"
    }
   },
   "outputs": [],
   "source": [
    "OnePiece.tensor_function.apply(ve, ma, .*)"
   ]
  },
  {
   "cell_type": "code",
   "execution_count": null,
   "id": "cb02ff4a",
   "metadata": {
    "execution": {
     "iopub.execute_input": "2022-02-09T05:38:07.717013Z",
     "iopub.status.busy": "2022-02-09T05:38:07.716416Z",
     "iopub.status.idle": "2022-02-09T05:38:07.912533Z",
     "shell.execute_reply": "2022-02-09T05:38:07.911988Z"
    }
   },
   "outputs": [],
   "source": [
    "OnePiece.tensor_function.apply(bi_, ma, .+)"
   ]
  },
  {
   "cell_type": "code",
   "execution_count": null,
   "id": "bd0b8dd5",
   "metadata": {
    "execution": {
     "iopub.execute_input": "2022-02-09T05:38:07.914466Z",
     "iopub.status.busy": "2022-02-09T05:38:07.913846Z",
     "iopub.status.idle": "2022-02-09T05:38:08.093517Z",
     "shell.execute_reply": "2022-02-09T05:38:08.093093Z"
    }
   },
   "outputs": [],
   "source": [
    "OnePiece.tensor_function.apply(ma, ma, (ro1, ro2) -> minimum([ro1; ro2]))"
   ]
  },
  {
   "cell_type": "code",
   "execution_count": null,
   "id": "78d1a02d",
   "metadata": {
    "execution": {
     "iopub.execute_input": "2022-02-09T05:38:08.095375Z",
     "iopub.status.busy": "2022-02-09T05:38:08.094768Z",
     "iopub.status.idle": "2022-02-09T05:38:08.173491Z",
     "shell.execute_reply": "2022-02-09T05:38:08.172916Z"
    }
   },
   "outputs": [],
   "source": [
    "for i in [1, 2], j in [10, 20]\n",
    "\n",
    "    println(i, \" \", j)\n",
    "\n",
    "end"
   ]
  },
  {
   "cell_type": "code",
   "execution_count": null,
   "id": "41c8bd21",
   "metadata": {
    "execution": {
     "iopub.execute_input": "2022-02-09T05:38:08.175584Z",
     "iopub.status.busy": "2022-02-09T05:38:08.174920Z",
     "iopub.status.idle": "2022-02-09T05:38:08.206680Z",
     "shell.execute_reply": "2022-02-09T05:38:08.206228Z"
    }
   },
   "outputs": [],
   "source": [
    "for i in [1, 2]\n",
    "\n",
    "    for j in [10, 20]\n",
    "\n",
    "        println(i, \" \", j)\n",
    "\n",
    "    end\n",
    "\n",
    "end"
   ]
  },
  {
   "cell_type": "code",
   "execution_count": null,
   "id": "b70fb392",
   "metadata": {
    "execution": {
     "iopub.execute_input": "2022-02-09T05:38:08.208643Z",
     "iopub.status.busy": "2022-02-09T05:38:08.208058Z",
     "iopub.status.idle": "2022-02-09T05:38:08.647818Z",
     "shell.execute_reply": "2022-02-09T05:38:08.647365Z"
    }
   },
   "outputs": [],
   "source": [
    "ma2 = [\n",
    "    1 10 100 1000\n",
    "    0.001 0.0 1 0.1\n",
    "]"
   ]
  },
  {
   "cell_type": "code",
   "execution_count": null,
   "id": "d1084452",
   "metadata": {
    "execution": {
     "iopub.execute_input": "2022-02-09T05:38:08.649619Z",
     "iopub.status.busy": "2022-02-09T05:38:08.649039Z",
     "iopub.status.idle": "2022-02-09T05:38:08.664125Z",
     "shell.execute_reply": "2022-02-09T05:38:08.663657Z"
    }
   },
   "outputs": [],
   "source": [
    "ma1 = [\n",
    "    0 0 1 1\n",
    "    -1 0 1 2\n",
    "]"
   ]
  },
  {
   "cell_type": "code",
   "execution_count": null,
   "id": "02cdebbb",
   "metadata": {
    "execution": {
     "iopub.execute_input": "2022-02-09T05:38:08.666022Z",
     "iopub.status.busy": "2022-02-09T05:38:08.665376Z",
     "iopub.status.idle": "2022-02-09T05:38:09.423227Z",
     "shell.execute_reply": "2022-02-09T05:38:09.422771Z"
    }
   },
   "outputs": [],
   "source": [
    "OnePiece.tensor_function.apply(ma1, ma2, .+)"
   ]
  },
  {
   "cell_type": "code",
   "execution_count": null,
   "id": "660015cb",
   "metadata": {
    "execution": {
     "iopub.execute_input": "2022-02-09T05:38:09.426040Z",
     "iopub.status.busy": "2022-02-09T05:38:09.425527Z",
     "iopub.status.idle": "2022-02-09T05:38:09.818691Z",
     "shell.execute_reply": "2022-02-09T05:38:09.818309Z"
    }
   },
   "outputs": [],
   "source": [
    "ma1 = convert(\n",
    "    BitMatrix,\n",
    "    [\n",
    "        0 0 1 1\n",
    "        1 1 0 0\n",
    "    ],\n",
    ")\n",
    "\n",
    "OnePiece.tensor_function.apply(ma1, ma2, .-)"
   ]
  }
 ],
 "metadata": {
  "@webio": {
   "lastCommId": null,
   "lastKernelId": null
  },
  "kernelspec": {
   "display_name": "Julia 1.7.1",
   "language": "julia",
   "name": "julia-1.7"
  },
  "language_info": {
   "file_extension": ".jl",
   "mimetype": "application/julia",
   "name": "julia",
   "version": "1.7.2"
  }
 },
 "nbformat": 4,
 "nbformat_minor": 5
}
