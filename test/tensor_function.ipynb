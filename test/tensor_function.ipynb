{
 "cells": [
  {
   "cell_type": "code",
   "execution_count": null,
   "id": "017464da",
   "metadata": {
    "execution": {
     "iopub.execute_input": "2022-02-13T05:22:22.461550Z",
     "iopub.status.busy": "2022-02-13T05:22:22.124992Z",
     "iopub.status.idle": "2022-02-13T05:22:22.657987Z",
     "shell.execute_reply": "2022-02-13T05:22:22.657414Z"
    }
   },
   "outputs": [],
   "source": [
    "TE = joinpath(tempdir(), \"OnePiece.test\")\n",
    "\n",
    "if isdir(TE)\n",
    "\n",
    "    rm(TE, recursive = true)\n",
    "\n",
    "    println(\"Removed \", TE, \".\")\n",
    "\n",
    "end\n",
    "\n",
    "mkdir(TE)\n",
    "\n",
    "println(\"Made \", TE, \".\")"
   ]
  },
  {
   "cell_type": "code",
   "execution_count": null,
   "id": "34e4701e",
   "metadata": {
    "execution": {
     "iopub.execute_input": "2022-02-13T05:22:22.659958Z",
     "iopub.status.busy": "2022-02-13T05:22:22.659350Z",
     "iopub.status.idle": "2022-02-13T05:22:26.636164Z",
     "shell.execute_reply": "2022-02-13T05:22:26.635724Z"
    }
   },
   "outputs": [],
   "source": [
    "using OnePiece"
   ]
  },
  {
   "cell_type": "markdown",
   "id": "b92a3da9",
   "metadata": {},
   "source": [
    "---"
   ]
  },
  {
   "cell_type": "markdown",
   "id": "dbfba2f4",
   "metadata": {},
   "source": [
    "## apply"
   ]
  },
  {
   "cell_type": "code",
   "execution_count": null,
   "id": "ed8f544c",
   "metadata": {
    "execution": {
     "iopub.execute_input": "2022-02-13T05:22:26.935953Z",
     "iopub.status.busy": "2022-02-13T05:22:26.637585Z",
     "iopub.status.idle": "2022-02-13T05:22:27.308042Z",
     "shell.execute_reply": "2022-02-13T05:22:27.307650Z"
    }
   },
   "outputs": [],
   "source": [
    "n_ro = 5\n",
    "\n",
    "n_co = 4\n",
    "\n",
    "n_ze = convert(Int64, n_co / 2)\n",
    "\n",
    "n_on = n_co - n_ze"
   ]
  },
  {
   "cell_type": "code",
   "execution_count": null,
   "id": "2c8afdbb",
   "metadata": {
    "execution": {
     "iopub.execute_input": "2022-02-13T05:22:27.309871Z",
     "iopub.status.busy": "2022-02-13T05:22:27.309377Z",
     "iopub.status.idle": "2022-02-13T05:22:28.228328Z",
     "shell.execute_reply": "2022-02-13T05:22:28.227927Z"
    }
   },
   "outputs": [],
   "source": [
    "bi_ = convert(BitVector, [zeros(n_ze); ones(n_on)])"
   ]
  },
  {
   "cell_type": "code",
   "execution_count": null,
   "id": "1d5ca8fb",
   "metadata": {
    "execution": {
     "iopub.execute_input": "2022-02-13T05:22:28.230273Z",
     "iopub.status.busy": "2022-02-13T05:22:28.229666Z",
     "iopub.status.idle": "2022-02-13T05:22:28.574668Z",
     "shell.execute_reply": "2022-02-13T05:22:28.574278Z"
    }
   },
   "outputs": [],
   "source": [
    "ve = [10^(id - 1) for id in 1:n_co]"
   ]
  },
  {
   "cell_type": "code",
   "execution_count": null,
   "id": "c90efaf5",
   "metadata": {
    "execution": {
     "iopub.execute_input": "2022-02-13T05:22:28.576475Z",
     "iopub.status.busy": "2022-02-13T05:22:28.575970Z",
     "iopub.status.idle": "2022-02-13T05:22:28.909075Z",
     "shell.execute_reply": "2022-02-13T05:22:28.908675Z"
    }
   },
   "outputs": [],
   "source": [
    "ma = convert(Matrix, reshape(1:(n_ro * n_co), (n_ro, n_co)))"
   ]
  },
  {
   "cell_type": "code",
   "execution_count": null,
   "id": "9bc4bab7",
   "metadata": {
    "execution": {
     "iopub.execute_input": "2022-02-13T05:22:28.910955Z",
     "iopub.status.busy": "2022-02-13T05:22:28.910465Z",
     "iopub.status.idle": "2022-02-13T05:22:28.988683Z",
     "shell.execute_reply": "2022-02-13T05:22:28.988292Z"
    }
   },
   "outputs": [],
   "source": [
    "OnePiece.tensor_function.apply(ve, ve, .-)"
   ]
  },
  {
   "cell_type": "code",
   "execution_count": null,
   "id": "65716d59",
   "metadata": {
    "execution": {
     "iopub.execute_input": "2022-02-13T05:22:28.990437Z",
     "iopub.status.busy": "2022-02-13T05:22:28.989937Z",
     "iopub.status.idle": "2022-02-13T05:22:29.071369Z",
     "shell.execute_reply": "2022-02-13T05:22:29.070991Z"
    }
   },
   "outputs": [],
   "source": [
    "OnePiece.tensor_function.apply(bi_, ve, .-)"
   ]
  },
  {
   "cell_type": "code",
   "execution_count": null,
   "id": "21f8ba9e",
   "metadata": {
    "execution": {
     "iopub.execute_input": "2022-02-13T05:22:29.073243Z",
     "iopub.status.busy": "2022-02-13T05:22:29.072746Z",
     "iopub.status.idle": "2022-02-13T05:22:29.588317Z",
     "shell.execute_reply": "2022-02-13T05:22:29.587929Z"
    }
   },
   "outputs": [],
   "source": [
    "OnePiece.tensor_function.apply(ve, ma, .*)"
   ]
  },
  {
   "cell_type": "code",
   "execution_count": null,
   "id": "cb02ff4a",
   "metadata": {
    "execution": {
     "iopub.execute_input": "2022-02-13T05:22:29.590089Z",
     "iopub.status.busy": "2022-02-13T05:22:29.589589Z",
     "iopub.status.idle": "2022-02-13T05:22:29.736054Z",
     "shell.execute_reply": "2022-02-13T05:22:29.735674Z"
    }
   },
   "outputs": [],
   "source": [
    "OnePiece.tensor_function.apply(bi_, ma, .+)"
   ]
  },
  {
   "cell_type": "code",
   "execution_count": null,
   "id": "bd0b8dd5",
   "metadata": {
    "execution": {
     "iopub.execute_input": "2022-02-13T05:22:29.737849Z",
     "iopub.status.busy": "2022-02-13T05:22:29.737346Z",
     "iopub.status.idle": "2022-02-13T05:22:29.871650Z",
     "shell.execute_reply": "2022-02-13T05:22:29.871270Z"
    }
   },
   "outputs": [],
   "source": [
    "OnePiece.tensor_function.apply(ma, ma, (ro1, ro2) -> minimum([ro1; ro2]))"
   ]
  },
  {
   "cell_type": "code",
   "execution_count": null,
   "id": "78d1a02d",
   "metadata": {
    "execution": {
     "iopub.execute_input": "2022-02-13T05:22:29.873622Z",
     "iopub.status.busy": "2022-02-13T05:22:29.873134Z",
     "iopub.status.idle": "2022-02-13T05:22:29.925754Z",
     "shell.execute_reply": "2022-02-13T05:22:29.925313Z"
    }
   },
   "outputs": [],
   "source": [
    "for i in [1, 2], j in [10, 20]\n",
    "\n",
    "    println(i, \" \", j)\n",
    "\n",
    "end"
   ]
  },
  {
   "cell_type": "code",
   "execution_count": null,
   "id": "41c8bd21",
   "metadata": {
    "execution": {
     "iopub.execute_input": "2022-02-13T05:22:29.927763Z",
     "iopub.status.busy": "2022-02-13T05:22:29.927258Z",
     "iopub.status.idle": "2022-02-13T05:22:29.944115Z",
     "shell.execute_reply": "2022-02-13T05:22:29.943598Z"
    }
   },
   "outputs": [],
   "source": [
    "for i in [1, 2]\n",
    "\n",
    "    for j in [10, 20]\n",
    "\n",
    "        println(i, \" \", j)\n",
    "\n",
    "    end\n",
    "\n",
    "end"
   ]
  },
  {
   "cell_type": "code",
   "execution_count": null,
   "id": "b70fb392",
   "metadata": {
    "execution": {
     "iopub.execute_input": "2022-02-13T05:22:29.945865Z",
     "iopub.status.busy": "2022-02-13T05:22:29.945382Z",
     "iopub.status.idle": "2022-02-13T05:22:30.298364Z",
     "shell.execute_reply": "2022-02-13T05:22:30.297985Z"
    }
   },
   "outputs": [],
   "source": [
    "ma2 = [\n",
    "    1 10 100 1000\n",
    "    0.001 0.0 1 0.1\n",
    "]"
   ]
  },
  {
   "cell_type": "code",
   "execution_count": null,
   "id": "d1084452",
   "metadata": {
    "execution": {
     "iopub.execute_input": "2022-02-13T05:22:30.300147Z",
     "iopub.status.busy": "2022-02-13T05:22:30.299646Z",
     "iopub.status.idle": "2022-02-13T05:22:30.302323Z",
     "shell.execute_reply": "2022-02-13T05:22:30.301946Z"
    }
   },
   "outputs": [],
   "source": [
    "ma1 = [\n",
    "    0 0 1 1\n",
    "    -1 0 1 2\n",
    "]"
   ]
  },
  {
   "cell_type": "code",
   "execution_count": null,
   "id": "02cdebbb",
   "metadata": {
    "execution": {
     "iopub.execute_input": "2022-02-13T05:22:30.304087Z",
     "iopub.status.busy": "2022-02-13T05:22:30.303573Z",
     "iopub.status.idle": "2022-02-13T05:22:30.880774Z",
     "shell.execute_reply": "2022-02-13T05:22:30.880370Z"
    }
   },
   "outputs": [],
   "source": [
    "OnePiece.tensor_function.apply(ma1, ma2, .+)"
   ]
  },
  {
   "cell_type": "code",
   "execution_count": null,
   "id": "660015cb",
   "metadata": {
    "execution": {
     "iopub.execute_input": "2022-02-13T05:22:30.882618Z",
     "iopub.status.busy": "2022-02-13T05:22:30.882121Z",
     "iopub.status.idle": "2022-02-13T05:22:31.203243Z",
     "shell.execute_reply": "2022-02-13T05:22:31.202856Z"
    }
   },
   "outputs": [],
   "source": [
    "ma1 = convert(\n",
    "    BitMatrix,\n",
    "    [\n",
    "        0 0 1 1\n",
    "        1 1 0 0\n",
    "    ],\n",
    ")\n",
    "\n",
    "OnePiece.tensor_function.apply(ma1, ma2, .-)"
   ]
  },
  {
   "cell_type": "markdown",
   "id": "3f396855",
   "metadata": {},
   "source": [
    "---"
   ]
  },
  {
   "cell_type": "code",
   "execution_count": null,
   "id": "b4af2023",
   "metadata": {
    "execution": {
     "iopub.execute_input": "2022-02-13T05:22:31.205301Z",
     "iopub.status.busy": "2022-02-13T05:22:31.204652Z",
     "iopub.status.idle": "2022-02-13T05:22:31.206968Z",
     "shell.execute_reply": "2022-02-13T05:22:31.206589Z"
    }
   },
   "outputs": [],
   "source": [
    "if isdir(TE)\n",
    "\n",
    "    rm(TE, recursive = true)\n",
    "\n",
    "    println(\"Removed \", TE, \".\")\n",
    "\n",
    "end"
   ]
  }
 ],
 "metadata": {
  "kernelspec": {
   "display_name": "Julia 1.7.2",
   "language": "julia",
   "name": "julia-1.7"
  },
  "language_info": {
   "file_extension": ".jl",
   "mimetype": "application/julia",
   "name": "julia",
   "version": "1.7.2"
  }
 },
 "nbformat": 4,
 "nbformat_minor": 5
}
