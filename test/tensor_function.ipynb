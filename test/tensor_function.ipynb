{
 "cells": [
  {
   "cell_type": "code",
   "execution_count": null,
   "id": "017464da",
   "metadata": {
    "execution": {
     "iopub.execute_input": "2022-02-11T20:00:26.339104Z",
     "iopub.status.busy": "2022-02-11T20:00:25.945386Z",
     "iopub.status.idle": "2022-02-11T20:00:26.558688Z",
     "shell.execute_reply": "2022-02-11T20:00:26.558092Z"
    }
   },
   "outputs": [],
   "source": [
    "TE = joinpath(tempdir(), \"OnePiece.test\")\n",
    "\n",
    "if isdir(TE)\n",
    "\n",
    "    rm(TE, recursive = true)\n",
    "\n",
    "    println(\"Removed \", TE, \".\")\n",
    "\n",
    "end\n",
    "\n",
    "mkdir(TE)\n",
    "\n",
    "println(\"Made \", TE, \".\")"
   ]
  },
  {
   "cell_type": "code",
   "execution_count": null,
   "id": "34e4701e",
   "metadata": {
    "execution": {
     "iopub.execute_input": "2022-02-11T20:00:26.560514Z",
     "iopub.status.busy": "2022-02-11T20:00:26.559941Z",
     "iopub.status.idle": "2022-02-11T20:00:31.296662Z",
     "shell.execute_reply": "2022-02-11T20:00:31.296216Z"
    }
   },
   "outputs": [],
   "source": [
    "using OnePiece"
   ]
  },
  {
   "cell_type": "markdown",
   "id": "b92a3da9",
   "metadata": {},
   "source": [
    "---"
   ]
  },
  {
   "cell_type": "markdown",
   "id": "dbfba2f4",
   "metadata": {},
   "source": [
    "## apply"
   ]
  },
  {
   "cell_type": "code",
   "execution_count": null,
   "id": "ed8f544c",
   "metadata": {
    "execution": {
     "iopub.execute_input": "2022-02-11T20:00:31.665286Z",
     "iopub.status.busy": "2022-02-11T20:00:31.298268Z",
     "iopub.status.idle": "2022-02-11T20:00:32.109317Z",
     "shell.execute_reply": "2022-02-11T20:00:32.108852Z"
    }
   },
   "outputs": [],
   "source": [
    "n_ro = 5\n",
    "\n",
    "n_co = 4\n",
    "\n",
    "n_ze = convert(Int64, n_co / 2)\n",
    "\n",
    "n_on = n_co - n_ze"
   ]
  },
  {
   "cell_type": "code",
   "execution_count": null,
   "id": "2c8afdbb",
   "metadata": {
    "execution": {
     "iopub.execute_input": "2022-02-11T20:00:32.111350Z",
     "iopub.status.busy": "2022-02-11T20:00:32.110710Z",
     "iopub.status.idle": "2022-02-11T20:00:33.221107Z",
     "shell.execute_reply": "2022-02-11T20:00:33.220565Z"
    }
   },
   "outputs": [],
   "source": [
    "bi_ = convert(BitVector, [zeros(n_ze); ones(n_on)])"
   ]
  },
  {
   "cell_type": "code",
   "execution_count": null,
   "id": "1d5ca8fb",
   "metadata": {
    "execution": {
     "iopub.execute_input": "2022-02-11T20:00:33.223105Z",
     "iopub.status.busy": "2022-02-11T20:00:33.222461Z",
     "iopub.status.idle": "2022-02-11T20:00:33.634937Z",
     "shell.execute_reply": "2022-02-11T20:00:33.634479Z"
    }
   },
   "outputs": [],
   "source": [
    "ve = [10^(id - 1) for id in 1:n_co]"
   ]
  },
  {
   "cell_type": "code",
   "execution_count": null,
   "id": "c90efaf5",
   "metadata": {
    "execution": {
     "iopub.execute_input": "2022-02-11T20:00:33.636911Z",
     "iopub.status.busy": "2022-02-11T20:00:33.636334Z",
     "iopub.status.idle": "2022-02-11T20:00:34.052263Z",
     "shell.execute_reply": "2022-02-11T20:00:34.051810Z"
    }
   },
   "outputs": [],
   "source": [
    "ma = convert(Matrix, reshape(1:(n_ro * n_co), (n_ro, n_co)))"
   ]
  },
  {
   "cell_type": "code",
   "execution_count": null,
   "id": "9bc4bab7",
   "metadata": {
    "execution": {
     "iopub.execute_input": "2022-02-11T20:00:34.054348Z",
     "iopub.status.busy": "2022-02-11T20:00:34.053611Z",
     "iopub.status.idle": "2022-02-11T20:00:34.152122Z",
     "shell.execute_reply": "2022-02-11T20:00:34.151588Z"
    }
   },
   "outputs": [],
   "source": [
    "OnePiece.tensor_function.apply(ve, ve, .-)"
   ]
  },
  {
   "cell_type": "code",
   "execution_count": null,
   "id": "65716d59",
   "metadata": {
    "execution": {
     "iopub.execute_input": "2022-02-11T20:00:34.154161Z",
     "iopub.status.busy": "2022-02-11T20:00:34.153485Z",
     "iopub.status.idle": "2022-02-11T20:00:34.251200Z",
     "shell.execute_reply": "2022-02-11T20:00:34.250540Z"
    }
   },
   "outputs": [],
   "source": [
    "OnePiece.tensor_function.apply(bi_, ve, .-)"
   ]
  },
  {
   "cell_type": "code",
   "execution_count": null,
   "id": "21f8ba9e",
   "metadata": {
    "execution": {
     "iopub.execute_input": "2022-02-11T20:00:34.253601Z",
     "iopub.status.busy": "2022-02-11T20:00:34.252890Z",
     "iopub.status.idle": "2022-02-11T20:00:34.881941Z",
     "shell.execute_reply": "2022-02-11T20:00:34.881485Z"
    }
   },
   "outputs": [],
   "source": [
    "OnePiece.tensor_function.apply(ve, ma, .*)"
   ]
  },
  {
   "cell_type": "code",
   "execution_count": null,
   "id": "cb02ff4a",
   "metadata": {
    "execution": {
     "iopub.execute_input": "2022-02-11T20:00:34.883948Z",
     "iopub.status.busy": "2022-02-11T20:00:34.883334Z",
     "iopub.status.idle": "2022-02-11T20:00:35.075922Z",
     "shell.execute_reply": "2022-02-11T20:00:35.075466Z"
    }
   },
   "outputs": [],
   "source": [
    "OnePiece.tensor_function.apply(bi_, ma, .+)"
   ]
  },
  {
   "cell_type": "code",
   "execution_count": null,
   "id": "bd0b8dd5",
   "metadata": {
    "execution": {
     "iopub.execute_input": "2022-02-11T20:00:35.077819Z",
     "iopub.status.busy": "2022-02-11T20:00:35.077248Z",
     "iopub.status.idle": "2022-02-11T20:00:35.240623Z",
     "shell.execute_reply": "2022-02-11T20:00:35.240177Z"
    }
   },
   "outputs": [],
   "source": [
    "OnePiece.tensor_function.apply(ma, ma, (ro1, ro2) -> minimum([ro1; ro2]))"
   ]
  },
  {
   "cell_type": "code",
   "execution_count": null,
   "id": "78d1a02d",
   "metadata": {
    "execution": {
     "iopub.execute_input": "2022-02-11T20:00:35.242566Z",
     "iopub.status.busy": "2022-02-11T20:00:35.241991Z",
     "iopub.status.idle": "2022-02-11T20:00:35.308869Z",
     "shell.execute_reply": "2022-02-11T20:00:35.308293Z"
    }
   },
   "outputs": [],
   "source": [
    "for i in [1, 2], j in [10, 20]\n",
    "\n",
    "    println(i, \" \", j)\n",
    "\n",
    "end"
   ]
  },
  {
   "cell_type": "code",
   "execution_count": null,
   "id": "41c8bd21",
   "metadata": {
    "execution": {
     "iopub.execute_input": "2022-02-11T20:00:35.310908Z",
     "iopub.status.busy": "2022-02-11T20:00:35.310329Z",
     "iopub.status.idle": "2022-02-11T20:00:35.329977Z",
     "shell.execute_reply": "2022-02-11T20:00:35.329506Z"
    }
   },
   "outputs": [],
   "source": [
    "for i in [1, 2]\n",
    "\n",
    "    for j in [10, 20]\n",
    "\n",
    "        println(i, \" \", j)\n",
    "\n",
    "    end\n",
    "\n",
    "end"
   ]
  },
  {
   "cell_type": "code",
   "execution_count": null,
   "id": "b70fb392",
   "metadata": {
    "execution": {
     "iopub.execute_input": "2022-02-11T20:00:35.331794Z",
     "iopub.status.busy": "2022-02-11T20:00:35.331220Z",
     "iopub.status.idle": "2022-02-11T20:00:35.773343Z",
     "shell.execute_reply": "2022-02-11T20:00:35.772822Z"
    }
   },
   "outputs": [],
   "source": [
    "ma2 = [\n",
    "    1 10 100 1000\n",
    "    0.001 0.0 1 0.1\n",
    "]"
   ]
  },
  {
   "cell_type": "code",
   "execution_count": null,
   "id": "d1084452",
   "metadata": {
    "execution": {
     "iopub.execute_input": "2022-02-11T20:00:35.775455Z",
     "iopub.status.busy": "2022-02-11T20:00:35.774695Z",
     "iopub.status.idle": "2022-02-11T20:00:35.778818Z",
     "shell.execute_reply": "2022-02-11T20:00:35.778345Z"
    }
   },
   "outputs": [],
   "source": [
    "ma1 = [\n",
    "    0 0 1 1\n",
    "    -1 0 1 2\n",
    "]"
   ]
  },
  {
   "cell_type": "code",
   "execution_count": null,
   "id": "02cdebbb",
   "metadata": {
    "execution": {
     "iopub.execute_input": "2022-02-11T20:00:35.780709Z",
     "iopub.status.busy": "2022-02-11T20:00:35.780126Z",
     "iopub.status.idle": "2022-02-11T20:00:36.518878Z",
     "shell.execute_reply": "2022-02-11T20:00:36.518438Z"
    }
   },
   "outputs": [],
   "source": [
    "OnePiece.tensor_function.apply(ma1, ma2, .+)"
   ]
  },
  {
   "cell_type": "code",
   "execution_count": null,
   "id": "660015cb",
   "metadata": {
    "execution": {
     "iopub.execute_input": "2022-02-11T20:00:36.520909Z",
     "iopub.status.busy": "2022-02-11T20:00:36.520334Z",
     "iopub.status.idle": "2022-02-11T20:00:36.886193Z",
     "shell.execute_reply": "2022-02-11T20:00:36.885678Z"
    }
   },
   "outputs": [],
   "source": [
    "ma1 = convert(\n",
    "    BitMatrix,\n",
    "    [\n",
    "        0 0 1 1\n",
    "        1 1 0 0\n",
    "    ],\n",
    ")\n",
    "\n",
    "OnePiece.tensor_function.apply(ma1, ma2, .-)"
   ]
  },
  {
   "cell_type": "markdown",
   "id": "3f396855",
   "metadata": {},
   "source": [
    "---"
   ]
  },
  {
   "cell_type": "code",
   "execution_count": null,
   "id": "b4af2023",
   "metadata": {
    "execution": {
     "iopub.execute_input": "2022-02-11T20:00:36.888270Z",
     "iopub.status.busy": "2022-02-11T20:00:36.887602Z",
     "iopub.status.idle": "2022-02-11T20:00:36.890117Z",
     "shell.execute_reply": "2022-02-11T20:00:36.889667Z"
    }
   },
   "outputs": [],
   "source": [
    "if isdir(TE)\n",
    "\n",
    "    rm(TE, recursive = true)\n",
    "\n",
    "    println(\"Removed \", TE, \".\")\n",
    "\n",
    "end"
   ]
  }
 ],
 "metadata": {
  "kernelspec": {
   "display_name": "Julia 1.7.2",
   "language": "julia",
   "name": "julia-1.7"
  },
  "language_info": {
   "file_extension": ".jl",
   "mimetype": "application/julia",
   "name": "julia",
   "version": "1.7.2"
  }
 },
 "nbformat": 4,
 "nbformat_minor": 5
}
