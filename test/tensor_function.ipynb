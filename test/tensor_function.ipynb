{
 "cells": [
  {
   "cell_type": "code",
   "execution_count": null,
   "id": "017464da",
   "metadata": {},
   "outputs": [],
   "source": [
    "TE = joinpath(tempdir(), \"OnePiece.test\")\n",
    "\n",
    "mkpath(TE)"
   ]
  },
  {
   "cell_type": "code",
   "execution_count": 1,
   "id": "34e4701e",
   "metadata": {
    "execution": {
     "iopub.execute_input": "2022-02-10T17:51:23.590384Z",
     "iopub.status.busy": "2022-02-10T17:51:23.250154Z",
     "iopub.status.idle": "2022-02-10T17:51:24.482021Z",
     "shell.execute_reply": "2022-02-10T17:51:24.481306Z"
    }
   },
   "outputs": [],
   "source": [
    "#using Revise\n",
    "using BenchmarkTools\n",
    "\n",
    "using OnePiece"
   ]
  },
  {
   "cell_type": "markdown",
   "id": "cc23521d",
   "metadata": {},
   "source": [
    "---"
   ]
  },
  {
   "cell_type": "markdown",
   "id": "dbfba2f4",
   "metadata": {},
   "source": [
    "## apply"
   ]
  },
  {
   "cell_type": "code",
   "execution_count": null,
   "id": "ed8f544c",
   "metadata": {
    "execution": {
     "iopub.execute_input": "2022-02-10T19:20:49.048408Z",
     "iopub.status.busy": "2022-02-10T19:20:48.605475Z",
     "iopub.status.idle": "2022-02-10T19:20:49.330653Z",
     "shell.execute_reply": "2022-02-10T19:20:49.330197Z"
    }
   },
   "outputs": [],
   "source": [
    "n_ro = 5\n",
    "\n",
    "n_co = 4\n",
    "\n",
    "n_ze = convert(Int64, n_co / 2)\n",
    "\n",
    "n_on = n_co - n_ze"
   ]
  },
  {
   "cell_type": "code",
   "execution_count": null,
   "id": "2c8afdbb",
   "metadata": {
    "execution": {
     "iopub.execute_input": "2022-02-10T19:20:49.332554Z",
     "iopub.status.busy": "2022-02-10T19:20:49.331979Z",
     "iopub.status.idle": "2022-02-10T19:20:50.388250Z",
     "shell.execute_reply": "2022-02-10T19:20:50.387749Z"
    }
   },
   "outputs": [],
   "source": [
    "bi_ = convert(BitVector, [zeros(n_ze); ones(n_on)])"
   ]
  },
  {
   "cell_type": "code",
   "execution_count": null,
   "id": "1d5ca8fb",
   "metadata": {
    "execution": {
     "iopub.execute_input": "2022-02-10T19:20:50.390110Z",
     "iopub.status.busy": "2022-02-10T19:20:50.389522Z",
     "iopub.status.idle": "2022-02-10T19:20:50.782839Z",
     "shell.execute_reply": "2022-02-10T19:20:50.782280Z"
    }
   },
   "outputs": [],
   "source": [
    "ve = [10^(id - 1) for id in 1:n_co]"
   ]
  },
  {
   "cell_type": "code",
   "execution_count": null,
   "id": "c90efaf5",
   "metadata": {
    "execution": {
     "iopub.execute_input": "2022-02-10T19:20:50.784844Z",
     "iopub.status.busy": "2022-02-10T19:20:50.784169Z",
     "iopub.status.idle": "2022-02-10T19:20:51.196101Z",
     "shell.execute_reply": "2022-02-10T19:20:51.195581Z"
    }
   },
   "outputs": [],
   "source": [
    "ma = convert(Matrix, reshape(1:(n_ro * n_co), (n_ro, n_co)))"
   ]
  },
  {
   "cell_type": "code",
   "execution_count": null,
   "id": "9bc4bab7",
   "metadata": {
    "execution": {
     "iopub.execute_input": "2022-02-10T19:20:51.198094Z",
     "iopub.status.busy": "2022-02-10T19:20:51.197439Z",
     "iopub.status.idle": "2022-02-10T19:20:51.280094Z",
     "shell.execute_reply": "2022-02-10T19:20:51.279651Z"
    }
   },
   "outputs": [],
   "source": [
    "OnePiece.tensor_function.apply(ve, ve, .-)"
   ]
  },
  {
   "cell_type": "code",
   "execution_count": null,
   "id": "65716d59",
   "metadata": {
    "execution": {
     "iopub.execute_input": "2022-02-10T19:20:51.282169Z",
     "iopub.status.busy": "2022-02-10T19:20:51.281506Z",
     "iopub.status.idle": "2022-02-10T19:20:51.387111Z",
     "shell.execute_reply": "2022-02-10T19:20:51.386581Z"
    }
   },
   "outputs": [],
   "source": [
    "OnePiece.tensor_function.apply(bi_, ve, .-)"
   ]
  },
  {
   "cell_type": "code",
   "execution_count": null,
   "id": "21f8ba9e",
   "metadata": {
    "execution": {
     "iopub.execute_input": "2022-02-10T19:20:51.389174Z",
     "iopub.status.busy": "2022-02-10T19:20:51.388534Z",
     "iopub.status.idle": "2022-02-10T19:20:51.984560Z",
     "shell.execute_reply": "2022-02-10T19:20:51.984162Z"
    }
   },
   "outputs": [],
   "source": [
    "OnePiece.tensor_function.apply(ve, ma, .*)"
   ]
  },
  {
   "cell_type": "code",
   "execution_count": null,
   "id": "cb02ff4a",
   "metadata": {
    "execution": {
     "iopub.execute_input": "2022-02-10T19:20:51.986570Z",
     "iopub.status.busy": "2022-02-10T19:20:51.986072Z",
     "iopub.status.idle": "2022-02-10T19:20:52.159565Z",
     "shell.execute_reply": "2022-02-10T19:20:52.159182Z"
    }
   },
   "outputs": [],
   "source": [
    "OnePiece.tensor_function.apply(bi_, ma, .+)"
   ]
  },
  {
   "cell_type": "code",
   "execution_count": null,
   "id": "bd0b8dd5",
   "metadata": {
    "execution": {
     "iopub.execute_input": "2022-02-10T19:20:52.161718Z",
     "iopub.status.busy": "2022-02-10T19:20:52.161190Z",
     "iopub.status.idle": "2022-02-10T19:20:52.294997Z",
     "shell.execute_reply": "2022-02-10T19:20:52.294620Z"
    }
   },
   "outputs": [],
   "source": [
    "OnePiece.tensor_function.apply(ma, ma, (ro1, ro2) -> minimum([ro1; ro2]))"
   ]
  },
  {
   "cell_type": "code",
   "execution_count": null,
   "id": "78d1a02d",
   "metadata": {
    "execution": {
     "iopub.execute_input": "2022-02-10T19:20:52.297059Z",
     "iopub.status.busy": "2022-02-10T19:20:52.296295Z",
     "iopub.status.idle": "2022-02-10T19:20:52.361196Z",
     "shell.execute_reply": "2022-02-10T19:20:52.360595Z"
    }
   },
   "outputs": [],
   "source": [
    "for i in [1, 2], j in [10, 20]\n",
    "\n",
    "    println(i, \" \", j)\n",
    "\n",
    "end"
   ]
  },
  {
   "cell_type": "code",
   "execution_count": null,
   "id": "41c8bd21",
   "metadata": {
    "execution": {
     "iopub.execute_input": "2022-02-10T19:20:52.363393Z",
     "iopub.status.busy": "2022-02-10T19:20:52.362614Z",
     "iopub.status.idle": "2022-02-10T19:20:52.380222Z",
     "shell.execute_reply": "2022-02-10T19:20:52.379864Z"
    }
   },
   "outputs": [],
   "source": [
    "for i in [1, 2]\n",
    "\n",
    "    for j in [10, 20]\n",
    "\n",
    "        println(i, \" \", j)\n",
    "\n",
    "    end\n",
    "\n",
    "end"
   ]
  },
  {
   "cell_type": "code",
   "execution_count": null,
   "id": "b70fb392",
   "metadata": {
    "execution": {
     "iopub.execute_input": "2022-02-10T19:20:52.382405Z",
     "iopub.status.busy": "2022-02-10T19:20:52.381865Z",
     "iopub.status.idle": "2022-02-10T19:20:52.748353Z",
     "shell.execute_reply": "2022-02-10T19:20:52.747963Z"
    }
   },
   "outputs": [],
   "source": [
    "ma2 = [\n",
    "    1 10 100 1000\n",
    "    0.001 0.0 1 0.1\n",
    "]"
   ]
  },
  {
   "cell_type": "code",
   "execution_count": null,
   "id": "d1084452",
   "metadata": {
    "execution": {
     "iopub.execute_input": "2022-02-10T19:20:52.750339Z",
     "iopub.status.busy": "2022-02-10T19:20:52.749834Z",
     "iopub.status.idle": "2022-02-10T19:20:52.752860Z",
     "shell.execute_reply": "2022-02-10T19:20:52.752465Z"
    }
   },
   "outputs": [],
   "source": [
    "ma1 = [\n",
    "    0 0 1 1\n",
    "    -1 0 1 2\n",
    "]"
   ]
  },
  {
   "cell_type": "code",
   "execution_count": null,
   "id": "02cdebbb",
   "metadata": {
    "execution": {
     "iopub.execute_input": "2022-02-10T19:20:52.754538Z",
     "iopub.status.busy": "2022-02-10T19:20:52.754046Z",
     "iopub.status.idle": "2022-02-10T19:20:53.396174Z",
     "shell.execute_reply": "2022-02-10T19:20:53.395785Z"
    }
   },
   "outputs": [],
   "source": [
    "OnePiece.tensor_function.apply(ma1, ma2, .+)"
   ]
  },
  {
   "cell_type": "code",
   "execution_count": null,
   "id": "660015cb",
   "metadata": {
    "execution": {
     "iopub.execute_input": "2022-02-10T19:20:53.398436Z",
     "iopub.status.busy": "2022-02-10T19:20:53.397947Z",
     "iopub.status.idle": "2022-02-10T19:20:53.736023Z",
     "shell.execute_reply": "2022-02-10T19:20:53.735643Z"
    }
   },
   "outputs": [],
   "source": [
    "ma1 = convert(\n",
    "    BitMatrix,\n",
    "    [\n",
    "        0 0 1 1\n",
    "        1 1 0 0\n",
    "    ],\n",
    ")\n",
    "\n",
    "OnePiece.tensor_function.apply(ma1, ma2, .-)"
   ]
  },
  {
   "cell_type": "markdown",
   "id": "3f396855",
   "metadata": {},
   "source": [
    "---"
   ]
  }
 ],
 "metadata": {
  "@webio": {
   "lastCommId": null,
   "lastKernelId": null
  },
  "kernelspec": {
   "display_name": "Julia 1.7.2",
   "language": "julia",
   "name": "julia-1.7"
  },
  "language_info": {
   "file_extension": ".jl",
   "mimetype": "application/julia",
   "name": "julia",
   "version": "1.7.2"
  }
 },
 "nbformat": 4,
 "nbformat_minor": 5
}
