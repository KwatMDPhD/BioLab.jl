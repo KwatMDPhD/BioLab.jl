{
 "cells": [
  {
   "cell_type": "code",
   "execution_count": null,
   "id": "017464da",
   "metadata": {},
   "outputs": [],
   "source": [
    "TE = joinpath(tempdir(), \"OnePiece.test\")\n",
    "\n",
    "if isdir(TE)\n",
    "\n",
    "    rm(TE; recursive = true)\n",
    "\n",
    "    println(\"Removed \", TE, \".\")\n",
    "\n",
    "end\n",
    "\n",
    "mkdir(TE)\n",
    "\n",
    "println(\"Made \", TE, \".\")"
   ]
  },
  {
   "cell_type": "code",
   "execution_count": null,
   "id": "34e4701e",
   "metadata": {
    "execution": {
     "iopub.execute_input": "2022-02-10T17:51:23.590384Z",
     "iopub.status.busy": "2022-02-10T17:51:23.250154Z",
     "iopub.status.idle": "2022-02-10T17:51:24.482021Z",
     "shell.execute_reply": "2022-02-10T17:51:24.481306Z"
    }
   },
   "outputs": [],
   "source": [
    "using OnePiece"
   ]
  },
  {
   "cell_type": "markdown",
   "id": "b92a3da9",
   "metadata": {},
   "source": [
    "---"
   ]
  },
  {
   "cell_type": "markdown",
   "id": "dbfba2f4",
   "metadata": {},
   "source": [
    "## apply"
   ]
  },
  {
   "cell_type": "code",
   "execution_count": null,
   "id": "ed8f544c",
   "metadata": {
    "execution": {
     "iopub.execute_input": "2022-02-10T21:30:35.424026Z",
     "iopub.status.busy": "2022-02-10T21:30:34.841161Z",
     "iopub.status.idle": "2022-02-10T21:30:35.809560Z",
     "shell.execute_reply": "2022-02-10T21:30:35.808842Z"
    }
   },
   "outputs": [],
   "source": [
    "n_ro = 5\n",
    "\n",
    "n_co = 4\n",
    "\n",
    "n_ze = convert(Int64, n_co / 2)\n",
    "\n",
    "n_on = n_co - n_ze"
   ]
  },
  {
   "cell_type": "code",
   "execution_count": null,
   "id": "2c8afdbb",
   "metadata": {
    "execution": {
     "iopub.execute_input": "2022-02-10T21:30:35.812249Z",
     "iopub.status.busy": "2022-02-10T21:30:35.811362Z",
     "iopub.status.idle": "2022-02-10T21:30:37.227776Z",
     "shell.execute_reply": "2022-02-10T21:30:37.227115Z"
    }
   },
   "outputs": [],
   "source": [
    "bi_ = convert(BitVector, [zeros(n_ze); ones(n_on)])"
   ]
  },
  {
   "cell_type": "code",
   "execution_count": null,
   "id": "1d5ca8fb",
   "metadata": {
    "execution": {
     "iopub.execute_input": "2022-02-10T21:30:37.230163Z",
     "iopub.status.busy": "2022-02-10T21:30:37.229409Z",
     "iopub.status.idle": "2022-02-10T21:30:37.767255Z",
     "shell.execute_reply": "2022-02-10T21:30:37.766665Z"
    }
   },
   "outputs": [],
   "source": [
    "ve = [10^(id - 1) for id in 1:n_co]"
   ]
  },
  {
   "cell_type": "code",
   "execution_count": null,
   "id": "c90efaf5",
   "metadata": {
    "execution": {
     "iopub.execute_input": "2022-02-10T21:30:37.769699Z",
     "iopub.status.busy": "2022-02-10T21:30:37.768863Z",
     "iopub.status.idle": "2022-02-10T21:30:38.326210Z",
     "shell.execute_reply": "2022-02-10T21:30:38.325601Z"
    }
   },
   "outputs": [],
   "source": [
    "ma = convert(Matrix, reshape(1:(n_ro * n_co), (n_ro, n_co)))"
   ]
  },
  {
   "cell_type": "code",
   "execution_count": null,
   "id": "9bc4bab7",
   "metadata": {
    "execution": {
     "iopub.execute_input": "2022-02-10T21:30:38.328696Z",
     "iopub.status.busy": "2022-02-10T21:30:38.327941Z",
     "iopub.status.idle": "2022-02-10T21:30:38.443844Z",
     "shell.execute_reply": "2022-02-10T21:30:38.443153Z"
    }
   },
   "outputs": [],
   "source": [
    "OnePiece.tensor_function.apply(ve, ve, .-)"
   ]
  },
  {
   "cell_type": "code",
   "execution_count": null,
   "id": "65716d59",
   "metadata": {
    "execution": {
     "iopub.execute_input": "2022-02-10T21:30:38.446320Z",
     "iopub.status.busy": "2022-02-10T21:30:38.445515Z",
     "iopub.status.idle": "2022-02-10T21:30:38.593109Z",
     "shell.execute_reply": "2022-02-10T21:30:38.592504Z"
    }
   },
   "outputs": [],
   "source": [
    "OnePiece.tensor_function.apply(bi_, ve, .-)"
   ]
  },
  {
   "cell_type": "code",
   "execution_count": null,
   "id": "21f8ba9e",
   "metadata": {
    "execution": {
     "iopub.execute_input": "2022-02-10T21:30:38.595517Z",
     "iopub.status.busy": "2022-02-10T21:30:38.594727Z",
     "iopub.status.idle": "2022-02-10T21:30:39.419109Z",
     "shell.execute_reply": "2022-02-10T21:30:39.418517Z"
    }
   },
   "outputs": [],
   "source": [
    "OnePiece.tensor_function.apply(ve, ma, .*)"
   ]
  },
  {
   "cell_type": "code",
   "execution_count": null,
   "id": "cb02ff4a",
   "metadata": {
    "execution": {
     "iopub.execute_input": "2022-02-10T21:30:39.421526Z",
     "iopub.status.busy": "2022-02-10T21:30:39.420730Z",
     "iopub.status.idle": "2022-02-10T21:30:39.671688Z",
     "shell.execute_reply": "2022-02-10T21:30:39.670985Z"
    }
   },
   "outputs": [],
   "source": [
    "OnePiece.tensor_function.apply(bi_, ma, .+)"
   ]
  },
  {
   "cell_type": "code",
   "execution_count": null,
   "id": "bd0b8dd5",
   "metadata": {
    "execution": {
     "iopub.execute_input": "2022-02-10T21:30:39.674075Z",
     "iopub.status.busy": "2022-02-10T21:30:39.673327Z",
     "iopub.status.idle": "2022-02-10T21:30:39.871835Z",
     "shell.execute_reply": "2022-02-10T21:30:39.871246Z"
    }
   },
   "outputs": [],
   "source": [
    "OnePiece.tensor_function.apply(ma, ma, (ro1, ro2) -> minimum([ro1; ro2]))"
   ]
  },
  {
   "cell_type": "code",
   "execution_count": null,
   "id": "78d1a02d",
   "metadata": {
    "execution": {
     "iopub.execute_input": "2022-02-10T21:30:39.874541Z",
     "iopub.status.busy": "2022-02-10T21:30:39.873594Z",
     "iopub.status.idle": "2022-02-10T21:30:39.968800Z",
     "shell.execute_reply": "2022-02-10T21:30:39.968142Z"
    }
   },
   "outputs": [],
   "source": [
    "for i in [1, 2], j in [10, 20]\n",
    "\n",
    "    println(i, \" \", j)\n",
    "\n",
    "end"
   ]
  },
  {
   "cell_type": "code",
   "execution_count": null,
   "id": "41c8bd21",
   "metadata": {
    "execution": {
     "iopub.execute_input": "2022-02-10T21:30:39.971252Z",
     "iopub.status.busy": "2022-02-10T21:30:39.970502Z",
     "iopub.status.idle": "2022-02-10T21:30:39.995656Z",
     "shell.execute_reply": "2022-02-10T21:30:39.995086Z"
    }
   },
   "outputs": [],
   "source": [
    "for i in [1, 2]\n",
    "\n",
    "    for j in [10, 20]\n",
    "\n",
    "        println(i, \" \", j)\n",
    "\n",
    "    end\n",
    "\n",
    "end"
   ]
  },
  {
   "cell_type": "code",
   "execution_count": null,
   "id": "b70fb392",
   "metadata": {
    "execution": {
     "iopub.execute_input": "2022-02-10T21:30:39.998144Z",
     "iopub.status.busy": "2022-02-10T21:30:39.997417Z",
     "iopub.status.idle": "2022-02-10T21:30:40.544305Z",
     "shell.execute_reply": "2022-02-10T21:30:40.543698Z"
    }
   },
   "outputs": [],
   "source": [
    "ma2 = [\n",
    "    1 10 100 1000\n",
    "    0.001 0.0 1 0.1\n",
    "]"
   ]
  },
  {
   "cell_type": "code",
   "execution_count": null,
   "id": "d1084452",
   "metadata": {
    "execution": {
     "iopub.execute_input": "2022-02-10T21:30:40.546805Z",
     "iopub.status.busy": "2022-02-10T21:30:40.545985Z",
     "iopub.status.idle": "2022-02-10T21:30:40.549732Z",
     "shell.execute_reply": "2022-02-10T21:30:40.549162Z"
    }
   },
   "outputs": [],
   "source": [
    "ma1 = [\n",
    "    0 0 1 1\n",
    "    -1 0 1 2\n",
    "]"
   ]
  },
  {
   "cell_type": "code",
   "execution_count": null,
   "id": "02cdebbb",
   "metadata": {
    "execution": {
     "iopub.execute_input": "2022-02-10T21:30:40.552090Z",
     "iopub.status.busy": "2022-02-10T21:30:40.551339Z",
     "iopub.status.idle": "2022-02-10T21:30:41.489724Z",
     "shell.execute_reply": "2022-02-10T21:30:41.489138Z"
    }
   },
   "outputs": [],
   "source": [
    "OnePiece.tensor_function.apply(ma1, ma2, .+)"
   ]
  },
  {
   "cell_type": "code",
   "execution_count": null,
   "id": "660015cb",
   "metadata": {
    "execution": {
     "iopub.execute_input": "2022-02-10T21:30:41.492200Z",
     "iopub.status.busy": "2022-02-10T21:30:41.491351Z",
     "iopub.status.idle": "2022-02-10T21:30:41.990809Z",
     "shell.execute_reply": "2022-02-10T21:30:41.990153Z"
    }
   },
   "outputs": [],
   "source": [
    "ma1 = convert(\n",
    "    BitMatrix,\n",
    "    [\n",
    "        0 0 1 1\n",
    "        1 1 0 0\n",
    "    ],\n",
    ")\n",
    "\n",
    "OnePiece.tensor_function.apply(ma1, ma2, .-)"
   ]
  },
  {
   "cell_type": "markdown",
   "id": "3f396855",
   "metadata": {},
   "source": [
    "---"
   ]
  },
  {
   "cell_type": "code",
   "execution_count": null,
   "id": "b4af2023",
   "metadata": {},
   "outputs": [],
   "source": [
    "if isdir(TE)\n",
    "\n",
    "    rm(TE; recursive = true)\n",
    "\n",
    "    println(\"Removed \", TE, \".\")\n",
    "\n",
    "end"
   ]
  }
 ],
 "metadata": {
  "kernelspec": {
   "display_name": "Julia 1.7.2",
   "language": "julia",
   "name": "julia-1.7"
  },
  "language_info": {
   "file_extension": ".jl",
   "mimetype": "application/julia",
   "name": "julia",
   "version": "1.7.2"
  }
 },
 "nbformat": 4,
 "nbformat_minor": 5
}
