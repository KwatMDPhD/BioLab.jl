{
 "cells": [
  {
   "cell_type": "code",
   "execution_count": null,
   "id": "017464da",
   "metadata": {
    "execution": {
     "iopub.execute_input": "2022-02-13T05:34:44.998298Z",
     "iopub.status.busy": "2022-02-13T05:34:44.662054Z",
     "iopub.status.idle": "2022-02-13T05:34:45.186331Z",
     "shell.execute_reply": "2022-02-13T05:34:45.185841Z"
    }
   },
   "outputs": [],
   "source": [
    "TE = joinpath(tempdir(), \"OnePiece.test\")\n",
    "\n",
    "if isdir(TE)\n",
    "\n",
    "    rm(TE, recursive = true)\n",
    "\n",
    "    println(\"Removed \", TE, \".\")\n",
    "\n",
    "end\n",
    "\n",
    "mkdir(TE)\n",
    "\n",
    "println(\"Made \", TE, \".\")"
   ]
  },
  {
   "cell_type": "code",
   "execution_count": null,
   "id": "34e4701e",
   "metadata": {
    "execution": {
     "iopub.execute_input": "2022-02-13T05:34:45.188207Z",
     "iopub.status.busy": "2022-02-13T05:34:45.187693Z",
     "iopub.status.idle": "2022-02-13T05:34:49.216140Z",
     "shell.execute_reply": "2022-02-13T05:34:49.215690Z"
    }
   },
   "outputs": [],
   "source": [
    "using OnePiece"
   ]
  },
  {
   "cell_type": "markdown",
   "id": "b92a3da9",
   "metadata": {},
   "source": [
    "---"
   ]
  },
  {
   "cell_type": "markdown",
   "id": "dbfba2f4",
   "metadata": {},
   "source": [
    "## apply"
   ]
  },
  {
   "cell_type": "code",
   "execution_count": null,
   "id": "ed8f544c",
   "metadata": {
    "execution": {
     "iopub.execute_input": "2022-02-13T05:34:49.521366Z",
     "iopub.status.busy": "2022-02-13T05:34:49.217503Z",
     "iopub.status.idle": "2022-02-13T05:34:49.879425Z",
     "shell.execute_reply": "2022-02-13T05:34:49.879036Z"
    }
   },
   "outputs": [],
   "source": [
    "n_ro = 5\n",
    "\n",
    "n_co = 4\n",
    "\n",
    "n_ze = convert(Int64, n_co / 2)\n",
    "\n",
    "n_on = n_co - n_ze"
   ]
  },
  {
   "cell_type": "code",
   "execution_count": null,
   "id": "2c8afdbb",
   "metadata": {
    "execution": {
     "iopub.execute_input": "2022-02-13T05:34:49.881284Z",
     "iopub.status.busy": "2022-02-13T05:34:49.880780Z",
     "iopub.status.idle": "2022-02-13T05:34:50.795463Z",
     "shell.execute_reply": "2022-02-13T05:34:50.795000Z"
    }
   },
   "outputs": [],
   "source": [
    "bi_ = convert(BitVector, [zeros(n_ze); ones(n_on)])"
   ]
  },
  {
   "cell_type": "code",
   "execution_count": null,
   "id": "1d5ca8fb",
   "metadata": {
    "execution": {
     "iopub.execute_input": "2022-02-13T05:34:50.797486Z",
     "iopub.status.busy": "2022-02-13T05:34:50.796900Z",
     "iopub.status.idle": "2022-02-13T05:34:51.145865Z",
     "shell.execute_reply": "2022-02-13T05:34:51.145476Z"
    }
   },
   "outputs": [],
   "source": [
    "ve = [10^(id - 1) for id in 1:n_co]"
   ]
  },
  {
   "cell_type": "code",
   "execution_count": null,
   "id": "c90efaf5",
   "metadata": {
    "execution": {
     "iopub.execute_input": "2022-02-13T05:34:51.147758Z",
     "iopub.status.busy": "2022-02-13T05:34:51.147255Z",
     "iopub.status.idle": "2022-02-13T05:34:51.480602Z",
     "shell.execute_reply": "2022-02-13T05:34:51.480200Z"
    }
   },
   "outputs": [],
   "source": [
    "ma = convert(Matrix, reshape(1:(n_ro * n_co), (n_ro, n_co)))"
   ]
  },
  {
   "cell_type": "code",
   "execution_count": null,
   "id": "9bc4bab7",
   "metadata": {
    "execution": {
     "iopub.execute_input": "2022-02-13T05:34:51.482414Z",
     "iopub.status.busy": "2022-02-13T05:34:51.481916Z",
     "iopub.status.idle": "2022-02-13T05:34:51.559648Z",
     "shell.execute_reply": "2022-02-13T05:34:51.559256Z"
    }
   },
   "outputs": [],
   "source": [
    "OnePiece.tensor_function.apply(ve, ve, .-)"
   ]
  },
  {
   "cell_type": "code",
   "execution_count": null,
   "id": "65716d59",
   "metadata": {
    "execution": {
     "iopub.execute_input": "2022-02-13T05:34:51.561470Z",
     "iopub.status.busy": "2022-02-13T05:34:51.560976Z",
     "iopub.status.idle": "2022-02-13T05:34:51.639996Z",
     "shell.execute_reply": "2022-02-13T05:34:51.639611Z"
    }
   },
   "outputs": [],
   "source": [
    "OnePiece.tensor_function.apply(bi_, ve, .-)"
   ]
  },
  {
   "cell_type": "code",
   "execution_count": null,
   "id": "21f8ba9e",
   "metadata": {
    "execution": {
     "iopub.execute_input": "2022-02-13T05:34:51.641815Z",
     "iopub.status.busy": "2022-02-13T05:34:51.641325Z",
     "iopub.status.idle": "2022-02-13T05:34:52.144865Z",
     "shell.execute_reply": "2022-02-13T05:34:52.144482Z"
    }
   },
   "outputs": [],
   "source": [
    "OnePiece.tensor_function.apply(ve, ma, .*)"
   ]
  },
  {
   "cell_type": "code",
   "execution_count": null,
   "id": "cb02ff4a",
   "metadata": {
    "execution": {
     "iopub.execute_input": "2022-02-13T05:34:52.146720Z",
     "iopub.status.busy": "2022-02-13T05:34:52.146227Z",
     "iopub.status.idle": "2022-02-13T05:34:52.299659Z",
     "shell.execute_reply": "2022-02-13T05:34:52.299266Z"
    }
   },
   "outputs": [],
   "source": [
    "OnePiece.tensor_function.apply(bi_, ma, .+)"
   ]
  },
  {
   "cell_type": "code",
   "execution_count": null,
   "id": "bd0b8dd5",
   "metadata": {
    "execution": {
     "iopub.execute_input": "2022-02-13T05:34:52.301535Z",
     "iopub.status.busy": "2022-02-13T05:34:52.301043Z",
     "iopub.status.idle": "2022-02-13T05:34:52.435766Z",
     "shell.execute_reply": "2022-02-13T05:34:52.435382Z"
    }
   },
   "outputs": [],
   "source": [
    "OnePiece.tensor_function.apply(ma, ma, (ro1, ro2) -> minimum([ro1; ro2]))"
   ]
  },
  {
   "cell_type": "code",
   "execution_count": null,
   "id": "78d1a02d",
   "metadata": {
    "execution": {
     "iopub.execute_input": "2022-02-13T05:34:52.437939Z",
     "iopub.status.busy": "2022-02-13T05:34:52.437269Z",
     "iopub.status.idle": "2022-02-13T05:34:52.490672Z",
     "shell.execute_reply": "2022-02-13T05:34:52.490121Z"
    }
   },
   "outputs": [],
   "source": [
    "for i in [1, 2], j in [10, 20]\n",
    "\n",
    "    println(i, \" \", j)\n",
    "\n",
    "end"
   ]
  },
  {
   "cell_type": "code",
   "execution_count": null,
   "id": "41c8bd21",
   "metadata": {
    "execution": {
     "iopub.execute_input": "2022-02-13T05:34:52.492568Z",
     "iopub.status.busy": "2022-02-13T05:34:52.492052Z",
     "iopub.status.idle": "2022-02-13T05:34:52.508757Z",
     "shell.execute_reply": "2022-02-13T05:34:52.508394Z"
    }
   },
   "outputs": [],
   "source": [
    "for i in [1, 2]\n",
    "\n",
    "    for j in [10, 20]\n",
    "\n",
    "        println(i, \" \", j)\n",
    "\n",
    "    end\n",
    "\n",
    "end"
   ]
  },
  {
   "cell_type": "code",
   "execution_count": null,
   "id": "b70fb392",
   "metadata": {
    "execution": {
     "iopub.execute_input": "2022-02-13T05:34:52.510805Z",
     "iopub.status.busy": "2022-02-13T05:34:52.510098Z",
     "iopub.status.idle": "2022-02-13T05:34:52.873308Z",
     "shell.execute_reply": "2022-02-13T05:34:52.872906Z"
    }
   },
   "outputs": [],
   "source": [
    "ma2 = [\n",
    "    1 10 100 1000\n",
    "    0.001 0.0 1 0.1\n",
    "]"
   ]
  },
  {
   "cell_type": "code",
   "execution_count": null,
   "id": "d1084452",
   "metadata": {
    "execution": {
     "iopub.execute_input": "2022-02-13T05:34:52.875230Z",
     "iopub.status.busy": "2022-02-13T05:34:52.874696Z",
     "iopub.status.idle": "2022-02-13T05:34:52.877568Z",
     "shell.execute_reply": "2022-02-13T05:34:52.877188Z"
    }
   },
   "outputs": [],
   "source": [
    "ma1 = [\n",
    "    0 0 1 1\n",
    "    -1 0 1 2\n",
    "]"
   ]
  },
  {
   "cell_type": "code",
   "execution_count": null,
   "id": "02cdebbb",
   "metadata": {
    "execution": {
     "iopub.execute_input": "2022-02-13T05:34:52.879351Z",
     "iopub.status.busy": "2022-02-13T05:34:52.878858Z",
     "iopub.status.idle": "2022-02-13T05:34:53.520112Z",
     "shell.execute_reply": "2022-02-13T05:34:53.519646Z"
    }
   },
   "outputs": [],
   "source": [
    "OnePiece.tensor_function.apply(ma1, ma2, .+)"
   ]
  },
  {
   "cell_type": "code",
   "execution_count": null,
   "id": "660015cb",
   "metadata": {
    "execution": {
     "iopub.execute_input": "2022-02-13T05:34:53.522054Z",
     "iopub.status.busy": "2022-02-13T05:34:53.521485Z",
     "iopub.status.idle": "2022-02-13T05:34:53.885728Z",
     "shell.execute_reply": "2022-02-13T05:34:53.885213Z"
    }
   },
   "outputs": [],
   "source": [
    "ma1 = convert(\n",
    "    BitMatrix,\n",
    "    [\n",
    "        0 0 1 1\n",
    "        1 1 0 0\n",
    "    ],\n",
    ")\n",
    "\n",
    "OnePiece.tensor_function.apply(ma1, ma2, .-)"
   ]
  },
  {
   "cell_type": "markdown",
   "id": "3f396855",
   "metadata": {},
   "source": [
    "---"
   ]
  },
  {
   "cell_type": "code",
   "execution_count": null,
   "id": "b4af2023",
   "metadata": {
    "execution": {
     "iopub.execute_input": "2022-02-13T05:34:53.887885Z",
     "iopub.status.busy": "2022-02-13T05:34:53.887169Z",
     "iopub.status.idle": "2022-02-13T05:34:53.889836Z",
     "shell.execute_reply": "2022-02-13T05:34:53.889338Z"
    }
   },
   "outputs": [],
   "source": [
    "if isdir(TE)\n",
    "\n",
    "    rm(TE, recursive = true)\n",
    "\n",
    "    println(\"Removed \", TE, \".\")\n",
    "\n",
    "end"
   ]
  }
 ],
 "metadata": {
  "kernelspec": {
   "display_name": "Julia 1.7.2",
   "language": "julia",
   "name": "julia-1.7"
  },
  "language_info": {
   "file_extension": ".jl",
   "mimetype": "application/julia",
   "name": "julia",
   "version": "1.7.2"
  }
 },
 "nbformat": 4,
 "nbformat_minor": 5
}
