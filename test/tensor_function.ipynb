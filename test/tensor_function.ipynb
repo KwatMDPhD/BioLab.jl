{
 "cells": [
  {
   "cell_type": "code",
   "execution_count": null,
   "id": "017464da",
   "metadata": {
    "execution": {
     "iopub.execute_input": "2022-02-13T23:13:43.104749Z",
     "iopub.status.busy": "2022-02-13T23:13:42.761541Z",
     "iopub.status.idle": "2022-02-13T23:13:43.295924Z",
     "shell.execute_reply": "2022-02-13T23:13:43.295259Z"
    }
   },
   "outputs": [],
   "source": [
    "TE = joinpath(tempdir(), \"OnePiece.test\")\n",
    "\n",
    "if isdir(TE)\n",
    "\n",
    "    rm(TE, recursive = true)\n",
    "\n",
    "    println(\"Removed \", TE, \".\")\n",
    "\n",
    "end\n",
    "\n",
    "mkdir(TE)\n",
    "\n",
    "println(\"Made \", TE, \".\")"
   ]
  },
  {
   "cell_type": "code",
   "execution_count": null,
   "id": "34e4701e",
   "metadata": {
    "execution": {
     "iopub.execute_input": "2022-02-13T23:13:43.298005Z",
     "iopub.status.busy": "2022-02-13T23:13:43.297424Z",
     "iopub.status.idle": "2022-02-13T23:13:47.314620Z",
     "shell.execute_reply": "2022-02-13T23:13:47.314169Z"
    }
   },
   "outputs": [],
   "source": [
    "using OnePiece"
   ]
  },
  {
   "cell_type": "markdown",
   "id": "b92a3da9",
   "metadata": {},
   "source": [
    "---"
   ]
  },
  {
   "cell_type": "markdown",
   "id": "dbfba2f4",
   "metadata": {},
   "source": [
    "## apply"
   ]
  },
  {
   "cell_type": "code",
   "execution_count": null,
   "id": "ed8f544c",
   "metadata": {
    "execution": {
     "iopub.execute_input": "2022-02-13T23:13:47.624414Z",
     "iopub.status.busy": "2022-02-13T23:13:47.315920Z",
     "iopub.status.idle": "2022-02-13T23:13:47.983783Z",
     "shell.execute_reply": "2022-02-13T23:13:47.983393Z"
    }
   },
   "outputs": [],
   "source": [
    "n_ro = 5\n",
    "\n",
    "n_co = 4\n",
    "\n",
    "n_ze = convert(Int64, n_co / 2)\n",
    "\n",
    "n_on = n_co - n_ze"
   ]
  },
  {
   "cell_type": "code",
   "execution_count": null,
   "id": "2c8afdbb",
   "metadata": {
    "execution": {
     "iopub.execute_input": "2022-02-13T23:13:47.985619Z",
     "iopub.status.busy": "2022-02-13T23:13:47.985129Z",
     "iopub.status.idle": "2022-02-13T23:13:48.897424Z",
     "shell.execute_reply": "2022-02-13T23:13:48.897028Z"
    }
   },
   "outputs": [],
   "source": [
    "bi_ = convert(BitVector, [zeros(n_ze); ones(n_on)])"
   ]
  },
  {
   "cell_type": "code",
   "execution_count": null,
   "id": "1d5ca8fb",
   "metadata": {
    "execution": {
     "iopub.execute_input": "2022-02-13T23:13:48.899305Z",
     "iopub.status.busy": "2022-02-13T23:13:48.898716Z",
     "iopub.status.idle": "2022-02-13T23:13:49.237323Z",
     "shell.execute_reply": "2022-02-13T23:13:49.236937Z"
    }
   },
   "outputs": [],
   "source": [
    "ve = [10^(id - 1) for id in 1:n_co]"
   ]
  },
  {
   "cell_type": "code",
   "execution_count": null,
   "id": "c90efaf5",
   "metadata": {
    "execution": {
     "iopub.execute_input": "2022-02-13T23:13:49.239185Z",
     "iopub.status.busy": "2022-02-13T23:13:49.238668Z",
     "iopub.status.idle": "2022-02-13T23:13:49.575211Z",
     "shell.execute_reply": "2022-02-13T23:13:49.574825Z"
    }
   },
   "outputs": [],
   "source": [
    "ma = convert(Matrix, reshape(1:(n_ro * n_co), (n_ro, n_co)))"
   ]
  },
  {
   "cell_type": "code",
   "execution_count": null,
   "id": "9bc4bab7",
   "metadata": {
    "execution": {
     "iopub.execute_input": "2022-02-13T23:13:49.577095Z",
     "iopub.status.busy": "2022-02-13T23:13:49.576584Z",
     "iopub.status.idle": "2022-02-13T23:13:49.662863Z",
     "shell.execute_reply": "2022-02-13T23:13:49.662393Z"
    }
   },
   "outputs": [],
   "source": [
    "OnePiece.tensor_function.apply(ve, ve, .-)"
   ]
  },
  {
   "cell_type": "code",
   "execution_count": null,
   "id": "65716d59",
   "metadata": {
    "execution": {
     "iopub.execute_input": "2022-02-13T23:13:49.664874Z",
     "iopub.status.busy": "2022-02-13T23:13:49.664259Z",
     "iopub.status.idle": "2022-02-13T23:13:49.751631Z",
     "shell.execute_reply": "2022-02-13T23:13:49.751241Z"
    }
   },
   "outputs": [],
   "source": [
    "OnePiece.tensor_function.apply(bi_, ve, .-)"
   ]
  },
  {
   "cell_type": "code",
   "execution_count": null,
   "id": "21f8ba9e",
   "metadata": {
    "execution": {
     "iopub.execute_input": "2022-02-13T23:13:49.753813Z",
     "iopub.status.busy": "2022-02-13T23:13:49.753277Z",
     "iopub.status.idle": "2022-02-13T23:13:50.260070Z",
     "shell.execute_reply": "2022-02-13T23:13:50.259621Z"
    }
   },
   "outputs": [],
   "source": [
    "OnePiece.tensor_function.apply(ve, ma, .*)"
   ]
  },
  {
   "cell_type": "code",
   "execution_count": null,
   "id": "cb02ff4a",
   "metadata": {
    "execution": {
     "iopub.execute_input": "2022-02-13T23:13:50.261940Z",
     "iopub.status.busy": "2022-02-13T23:13:50.261448Z",
     "iopub.status.idle": "2022-02-13T23:13:50.409769Z",
     "shell.execute_reply": "2022-02-13T23:13:50.409341Z"
    }
   },
   "outputs": [],
   "source": [
    "OnePiece.tensor_function.apply(bi_, ma, .+)"
   ]
  },
  {
   "cell_type": "code",
   "execution_count": null,
   "id": "bd0b8dd5",
   "metadata": {
    "execution": {
     "iopub.execute_input": "2022-02-13T23:13:50.411648Z",
     "iopub.status.busy": "2022-02-13T23:13:50.411144Z",
     "iopub.status.idle": "2022-02-13T23:13:50.543110Z",
     "shell.execute_reply": "2022-02-13T23:13:50.542677Z"
    }
   },
   "outputs": [],
   "source": [
    "OnePiece.tensor_function.apply(ma, ma, (ro1, ro2) -> minimum([ro1; ro2]))"
   ]
  },
  {
   "cell_type": "code",
   "execution_count": null,
   "id": "78d1a02d",
   "metadata": {
    "execution": {
     "iopub.execute_input": "2022-02-13T23:13:50.544868Z",
     "iopub.status.busy": "2022-02-13T23:13:50.544379Z",
     "iopub.status.idle": "2022-02-13T23:13:50.595665Z",
     "shell.execute_reply": "2022-02-13T23:13:50.595238Z"
    }
   },
   "outputs": [],
   "source": [
    "for i in [1, 2], j in [10, 20]\n",
    "\n",
    "    println(i, \" \", j)\n",
    "\n",
    "end"
   ]
  },
  {
   "cell_type": "code",
   "execution_count": null,
   "id": "41c8bd21",
   "metadata": {
    "execution": {
     "iopub.execute_input": "2022-02-13T23:13:50.598055Z",
     "iopub.status.busy": "2022-02-13T23:13:50.597532Z",
     "iopub.status.idle": "2022-02-13T23:13:50.614069Z",
     "shell.execute_reply": "2022-02-13T23:13:50.613707Z"
    }
   },
   "outputs": [],
   "source": [
    "for i in [1, 2]\n",
    "\n",
    "    for j in [10, 20]\n",
    "\n",
    "        println(i, \" \", j)\n",
    "\n",
    "    end\n",
    "\n",
    "end"
   ]
  },
  {
   "cell_type": "code",
   "execution_count": null,
   "id": "b70fb392",
   "metadata": {
    "execution": {
     "iopub.execute_input": "2022-02-13T23:13:50.615977Z",
     "iopub.status.busy": "2022-02-13T23:13:50.615350Z",
     "iopub.status.idle": "2022-02-13T23:13:50.972472Z",
     "shell.execute_reply": "2022-02-13T23:13:50.972090Z"
    }
   },
   "outputs": [],
   "source": [
    "ma2 = [\n",
    "    1 10 100 1000\n",
    "    0.001 0.0 1 0.1\n",
    "]"
   ]
  },
  {
   "cell_type": "code",
   "execution_count": null,
   "id": "d1084452",
   "metadata": {
    "execution": {
     "iopub.execute_input": "2022-02-13T23:13:50.974315Z",
     "iopub.status.busy": "2022-02-13T23:13:50.973818Z",
     "iopub.status.idle": "2022-02-13T23:13:50.976803Z",
     "shell.execute_reply": "2022-02-13T23:13:50.976424Z"
    }
   },
   "outputs": [],
   "source": [
    "ma1 = [\n",
    "    0 0 1 1\n",
    "    -1 0 1 2\n",
    "]"
   ]
  },
  {
   "cell_type": "code",
   "execution_count": null,
   "id": "02cdebbb",
   "metadata": {
    "execution": {
     "iopub.execute_input": "2022-02-13T23:13:50.978512Z",
     "iopub.status.busy": "2022-02-13T23:13:50.978010Z",
     "iopub.status.idle": "2022-02-13T23:13:51.563645Z",
     "shell.execute_reply": "2022-02-13T23:13:51.563243Z"
    }
   },
   "outputs": [],
   "source": [
    "OnePiece.tensor_function.apply(ma1, ma2, .+)"
   ]
  },
  {
   "cell_type": "code",
   "execution_count": null,
   "id": "660015cb",
   "metadata": {
    "execution": {
     "iopub.execute_input": "2022-02-13T23:13:51.565537Z",
     "iopub.status.busy": "2022-02-13T23:13:51.565038Z",
     "iopub.status.idle": "2022-02-13T23:13:51.879913Z",
     "shell.execute_reply": "2022-02-13T23:13:51.879524Z"
    }
   },
   "outputs": [],
   "source": [
    "ma1 = convert(\n",
    "    BitMatrix,\n",
    "    [\n",
    "        0 0 1 1\n",
    "        1 1 0 0\n",
    "    ],\n",
    ")\n",
    "\n",
    "OnePiece.tensor_function.apply(ma1, ma2, .-)"
   ]
  },
  {
   "cell_type": "markdown",
   "id": "3f396855",
   "metadata": {},
   "source": [
    "---"
   ]
  },
  {
   "cell_type": "code",
   "execution_count": null,
   "id": "b4af2023",
   "metadata": {
    "execution": {
     "iopub.execute_input": "2022-02-13T23:13:51.882203Z",
     "iopub.status.busy": "2022-02-13T23:13:51.881559Z",
     "iopub.status.idle": "2022-02-13T23:13:51.883950Z",
     "shell.execute_reply": "2022-02-13T23:13:51.883589Z"
    }
   },
   "outputs": [],
   "source": [
    "if isdir(TE)\n",
    "\n",
    "    rm(TE, recursive = true)\n",
    "\n",
    "    println(\"Removed \", TE, \".\")\n",
    "\n",
    "end"
   ]
  }
 ],
 "metadata": {
  "kernelspec": {
   "display_name": "Julia 1.7.2",
   "language": "julia",
   "name": "julia-1.7"
  },
  "language_info": {
   "file_extension": ".jl",
   "mimetype": "application/julia",
   "name": "julia",
   "version": "1.7.2"
  }
 },
 "nbformat": 4,
 "nbformat_minor": 5
}
