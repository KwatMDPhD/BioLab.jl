{
 "cells": [
  {
   "cell_type": "code",
   "execution_count": null,
   "id": "34e4701e",
   "metadata": {
    "execution": {
     "iopub.execute_input": "2022-02-09T18:58:56.225804Z",
     "iopub.status.busy": "2022-02-09T18:58:55.853823Z",
     "iopub.status.idle": "2022-02-09T18:58:57.150678Z",
     "shell.execute_reply": "2022-02-09T18:58:57.150180Z"
    }
   },
   "outputs": [],
   "source": [
    "using Revise\n",
    "using BenchmarkTools"
   ]
  },
  {
   "cell_type": "code",
   "execution_count": null,
   "id": "b3325ba2-989b-48ae-b530-5d0f64147f9a",
   "metadata": {
    "execution": {
     "iopub.execute_input": "2022-02-09T18:58:57.152739Z",
     "iopub.status.busy": "2022-02-09T18:58:57.152237Z",
     "iopub.status.idle": "2022-02-09T18:59:06.967506Z",
     "shell.execute_reply": "2022-02-09T18:59:06.966908Z"
    }
   },
   "outputs": [],
   "source": [
    "using OnePiece"
   ]
  },
  {
   "cell_type": "markdown",
   "id": "a4f49444",
   "metadata": {},
   "source": [
    "## apply"
   ]
  },
  {
   "cell_type": "code",
   "execution_count": null,
   "id": "ed8f544c",
   "metadata": {
    "execution": {
     "iopub.execute_input": "2022-02-09T18:59:08.542655Z",
     "iopub.status.busy": "2022-02-09T18:59:06.968903Z",
     "iopub.status.idle": "2022-02-09T18:59:09.400141Z",
     "shell.execute_reply": "2022-02-09T18:59:09.399744Z"
    }
   },
   "outputs": [],
   "source": [
    "n_ro = 5\n",
    "\n",
    "n_co = 4\n",
    "\n",
    "n_ze = convert(Int64, n_co / 2)\n",
    "\n",
    "n_on = n_co - n_ze"
   ]
  },
  {
   "cell_type": "code",
   "execution_count": null,
   "id": "2c8afdbb",
   "metadata": {
    "execution": {
     "iopub.execute_input": "2022-02-09T18:59:09.401946Z",
     "iopub.status.busy": "2022-02-09T18:59:09.401410Z",
     "iopub.status.idle": "2022-02-09T18:59:10.282011Z",
     "shell.execute_reply": "2022-02-09T18:59:10.281605Z"
    }
   },
   "outputs": [],
   "source": [
    "bi_ = convert(BitVector, [zeros(n_ze); ones(n_on)])"
   ]
  },
  {
   "cell_type": "code",
   "execution_count": null,
   "id": "1d5ca8fb",
   "metadata": {
    "execution": {
     "iopub.execute_input": "2022-02-09T18:59:10.283867Z",
     "iopub.status.busy": "2022-02-09T18:59:10.283334Z",
     "iopub.status.idle": "2022-02-09T18:59:10.656962Z",
     "shell.execute_reply": "2022-02-09T18:59:10.656554Z"
    }
   },
   "outputs": [],
   "source": [
    "ve = [10^(id - 1) for id in 1:n_co]"
   ]
  },
  {
   "cell_type": "code",
   "execution_count": null,
   "id": "c90efaf5",
   "metadata": {
    "execution": {
     "iopub.execute_input": "2022-02-09T18:59:10.658873Z",
     "iopub.status.busy": "2022-02-09T18:59:10.658344Z",
     "iopub.status.idle": "2022-02-09T18:59:11.094113Z",
     "shell.execute_reply": "2022-02-09T18:59:11.093641Z"
    }
   },
   "outputs": [],
   "source": [
    "ma = convert(Matrix, reshape(1:(n_ro * n_co), (n_ro, n_co)))"
   ]
  },
  {
   "cell_type": "code",
   "execution_count": null,
   "id": "9bc4bab7",
   "metadata": {
    "execution": {
     "iopub.execute_input": "2022-02-09T18:59:11.096050Z",
     "iopub.status.busy": "2022-02-09T18:59:11.095460Z",
     "iopub.status.idle": "2022-02-09T18:59:11.193745Z",
     "shell.execute_reply": "2022-02-09T18:59:11.193227Z"
    }
   },
   "outputs": [],
   "source": [
    "OnePiece.tensor_function.apply(ve, ve, .-)"
   ]
  },
  {
   "cell_type": "code",
   "execution_count": null,
   "id": "65716d59",
   "metadata": {
    "execution": {
     "iopub.execute_input": "2022-02-09T18:59:11.195456Z",
     "iopub.status.busy": "2022-02-09T18:59:11.194953Z",
     "iopub.status.idle": "2022-02-09T18:59:11.300075Z",
     "shell.execute_reply": "2022-02-09T18:59:11.299675Z"
    }
   },
   "outputs": [],
   "source": [
    "OnePiece.tensor_function.apply(bi_, ve, .-)"
   ]
  },
  {
   "cell_type": "code",
   "execution_count": null,
   "id": "21f8ba9e",
   "metadata": {
    "execution": {
     "iopub.execute_input": "2022-02-09T18:59:11.301935Z",
     "iopub.status.busy": "2022-02-09T18:59:11.301421Z",
     "iopub.status.idle": "2022-02-09T18:59:11.889847Z",
     "shell.execute_reply": "2022-02-09T18:59:11.889438Z"
    }
   },
   "outputs": [],
   "source": [
    "OnePiece.tensor_function.apply(ve, ma, .*)"
   ]
  },
  {
   "cell_type": "code",
   "execution_count": null,
   "id": "cb02ff4a",
   "metadata": {
    "execution": {
     "iopub.execute_input": "2022-02-09T18:59:11.891762Z",
     "iopub.status.busy": "2022-02-09T18:59:11.891187Z",
     "iopub.status.idle": "2022-02-09T18:59:12.086986Z",
     "shell.execute_reply": "2022-02-09T18:59:12.086602Z"
    }
   },
   "outputs": [],
   "source": [
    "OnePiece.tensor_function.apply(bi_, ma, .+)"
   ]
  },
  {
   "cell_type": "code",
   "execution_count": null,
   "id": "bd0b8dd5",
   "metadata": {
    "execution": {
     "iopub.execute_input": "2022-02-09T18:59:12.089118Z",
     "iopub.status.busy": "2022-02-09T18:59:12.088462Z",
     "iopub.status.idle": "2022-02-09T18:59:12.240789Z",
     "shell.execute_reply": "2022-02-09T18:59:12.240405Z"
    }
   },
   "outputs": [],
   "source": [
    "OnePiece.tensor_function.apply(ma, ma, (ro1, ro2) -> minimum([ro1; ro2]))"
   ]
  },
  {
   "cell_type": "code",
   "execution_count": null,
   "id": "78d1a02d",
   "metadata": {
    "execution": {
     "iopub.execute_input": "2022-02-09T18:59:12.243127Z",
     "iopub.status.busy": "2022-02-09T18:59:12.242629Z",
     "iopub.status.idle": "2022-02-09T18:59:12.315961Z",
     "shell.execute_reply": "2022-02-09T18:59:12.315432Z"
    }
   },
   "outputs": [],
   "source": [
    "for i in [1, 2], j in [10, 20]\n",
    "\n",
    "    println(i, \" \", j)\n",
    "\n",
    "end"
   ]
  },
  {
   "cell_type": "code",
   "execution_count": null,
   "id": "41c8bd21",
   "metadata": {
    "execution": {
     "iopub.execute_input": "2022-02-09T18:59:12.318063Z",
     "iopub.status.busy": "2022-02-09T18:59:12.317512Z",
     "iopub.status.idle": "2022-02-09T18:59:12.347699Z",
     "shell.execute_reply": "2022-02-09T18:59:12.347342Z"
    }
   },
   "outputs": [],
   "source": [
    "for i in [1, 2]\n",
    "\n",
    "    for j in [10, 20]\n",
    "\n",
    "        println(i, \" \", j)\n",
    "\n",
    "    end\n",
    "\n",
    "end"
   ]
  },
  {
   "cell_type": "code",
   "execution_count": null,
   "id": "b70fb392",
   "metadata": {
    "execution": {
     "iopub.execute_input": "2022-02-09T18:59:12.349889Z",
     "iopub.status.busy": "2022-02-09T18:59:12.349399Z",
     "iopub.status.idle": "2022-02-09T18:59:12.773927Z",
     "shell.execute_reply": "2022-02-09T18:59:12.773458Z"
    }
   },
   "outputs": [],
   "source": [
    "ma2 = [\n",
    "    1 10 100 1000\n",
    "    0.001 0.0 1 0.1\n",
    "]"
   ]
  },
  {
   "cell_type": "code",
   "execution_count": null,
   "id": "d1084452",
   "metadata": {
    "execution": {
     "iopub.execute_input": "2022-02-09T18:59:12.775925Z",
     "iopub.status.busy": "2022-02-09T18:59:12.775336Z",
     "iopub.status.idle": "2022-02-09T18:59:12.790075Z",
     "shell.execute_reply": "2022-02-09T18:59:12.789612Z"
    }
   },
   "outputs": [],
   "source": [
    "ma1 = [\n",
    "    0 0 1 1\n",
    "    -1 0 1 2\n",
    "]"
   ]
  },
  {
   "cell_type": "code",
   "execution_count": null,
   "id": "02cdebbb",
   "metadata": {
    "execution": {
     "iopub.execute_input": "2022-02-09T18:59:12.791890Z",
     "iopub.status.busy": "2022-02-09T18:59:12.791294Z",
     "iopub.status.idle": "2022-02-09T18:59:13.482665Z",
     "shell.execute_reply": "2022-02-09T18:59:13.482227Z"
    }
   },
   "outputs": [],
   "source": [
    "OnePiece.tensor_function.apply(ma1, ma2, .+)"
   ]
  },
  {
   "cell_type": "code",
   "execution_count": null,
   "id": "660015cb",
   "metadata": {
    "execution": {
     "iopub.execute_input": "2022-02-09T18:59:13.484651Z",
     "iopub.status.busy": "2022-02-09T18:59:13.484079Z",
     "iopub.status.idle": "2022-02-09T18:59:13.880711Z",
     "shell.execute_reply": "2022-02-09T18:59:13.880276Z"
    }
   },
   "outputs": [],
   "source": [
    "ma1 = convert(\n",
    "    BitMatrix,\n",
    "    [\n",
    "        0 0 1 1\n",
    "        1 1 0 0\n",
    "    ],\n",
    ")\n",
    "\n",
    "OnePiece.tensor_function.apply(ma1, ma2, .-)"
   ]
  }
 ],
 "metadata": {
  "@webio": {
   "lastCommId": null,
   "lastKernelId": null
  },
  "kernelspec": {
   "display_name": "Julia 1.7.1",
   "language": "julia",
   "name": "julia-1.7"
  },
  "language_info": {
   "file_extension": ".jl",
   "mimetype": "application/julia",
   "name": "julia",
   "version": "1.7.2"
  }
 },
 "nbformat": 4,
 "nbformat_minor": 5
}
