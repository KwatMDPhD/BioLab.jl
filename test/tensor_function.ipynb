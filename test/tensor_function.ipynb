{
 "cells": [
  {
   "cell_type": "code",
   "execution_count": null,
   "id": "34e4701e",
   "metadata": {
    "execution": {
     "iopub.execute_input": "2022-02-09T00:08:59.684570Z",
     "iopub.status.busy": "2022-02-09T00:08:58.528087Z",
     "iopub.status.idle": "2022-02-09T00:09:03.042642Z",
     "shell.execute_reply": "2022-02-09T00:09:03.040857Z"
    }
   },
   "outputs": [],
   "source": [
    "using Revise\n",
    "using BenchmarkTools"
   ]
  },
  {
   "cell_type": "code",
   "execution_count": null,
   "id": "b3325ba2-989b-48ae-b530-5d0f64147f9a",
   "metadata": {
    "execution": {
     "iopub.execute_input": "2022-02-09T00:09:03.047509Z",
     "iopub.status.busy": "2022-02-09T00:09:03.045808Z",
     "iopub.status.idle": "2022-02-09T00:09:41.479920Z",
     "shell.execute_reply": "2022-02-09T00:09:41.478394Z"
    }
   },
   "outputs": [],
   "source": [
    "using OnePiece"
   ]
  },
  {
   "cell_type": "markdown",
   "id": "a4f49444",
   "metadata": {},
   "source": [
    "## apply"
   ]
  },
  {
   "cell_type": "code",
   "execution_count": null,
   "id": "ed8f544c",
   "metadata": {
    "execution": {
     "iopub.execute_input": "2022-02-09T00:09:47.417622Z",
     "iopub.status.busy": "2022-02-09T00:09:41.483561Z",
     "iopub.status.idle": "2022-02-09T00:09:50.465181Z",
     "shell.execute_reply": "2022-02-09T00:09:50.463609Z"
    }
   },
   "outputs": [],
   "source": [
    "n_ro = 5\n",
    "\n",
    "n_co = 4\n",
    "\n",
    "n_ze = convert(Int64, n_co / 2)\n",
    "\n",
    "n_on = n_co - n_ze"
   ]
  },
  {
   "cell_type": "code",
   "execution_count": null,
   "id": "2c8afdbb",
   "metadata": {
    "execution": {
     "iopub.execute_input": "2022-02-09T00:09:50.470037Z",
     "iopub.status.busy": "2022-02-09T00:09:50.468495Z",
     "iopub.status.idle": "2022-02-09T00:09:53.468826Z",
     "shell.execute_reply": "2022-02-09T00:09:53.466080Z"
    }
   },
   "outputs": [],
   "source": [
    "bi_ = convert(BitVector, [zeros(n_ze); ones(n_on)])"
   ]
  },
  {
   "cell_type": "code",
   "execution_count": null,
   "id": "1d5ca8fb",
   "metadata": {
    "execution": {
     "iopub.execute_input": "2022-02-09T00:09:53.473147Z",
     "iopub.status.busy": "2022-02-09T00:09:53.471813Z",
     "iopub.status.idle": "2022-02-09T00:09:54.766561Z",
     "shell.execute_reply": "2022-02-09T00:09:54.765113Z"
    }
   },
   "outputs": [],
   "source": [
    "ve = [10^(id - 1) for id in 1:n_co]"
   ]
  },
  {
   "cell_type": "code",
   "execution_count": null,
   "id": "c90efaf5",
   "metadata": {
    "execution": {
     "iopub.execute_input": "2022-02-09T00:09:54.771165Z",
     "iopub.status.busy": "2022-02-09T00:09:54.769724Z",
     "iopub.status.idle": "2022-02-09T00:09:56.280540Z",
     "shell.execute_reply": "2022-02-09T00:09:56.279176Z"
    }
   },
   "outputs": [],
   "source": [
    "ma = convert(Matrix, reshape(1:(n_ro * n_co), (n_ro, n_co)))"
   ]
  },
  {
   "cell_type": "code",
   "execution_count": null,
   "id": "9bc4bab7",
   "metadata": {
    "execution": {
     "iopub.execute_input": "2022-02-09T00:09:56.285402Z",
     "iopub.status.busy": "2022-02-09T00:09:56.283891Z",
     "iopub.status.idle": "2022-02-09T00:09:56.584935Z",
     "shell.execute_reply": "2022-02-09T00:09:56.583749Z"
    }
   },
   "outputs": [],
   "source": [
    "OnePiece.tensor_function.apply(ve, ve, .-)"
   ]
  },
  {
   "cell_type": "code",
   "execution_count": null,
   "id": "65716d59",
   "metadata": {
    "execution": {
     "iopub.execute_input": "2022-02-09T00:09:56.589783Z",
     "iopub.status.busy": "2022-02-09T00:09:56.588096Z",
     "iopub.status.idle": "2022-02-09T00:09:56.906214Z",
     "shell.execute_reply": "2022-02-09T00:09:56.904896Z"
    }
   },
   "outputs": [],
   "source": [
    "OnePiece.tensor_function.apply(bi_, ve, .-)"
   ]
  },
  {
   "cell_type": "code",
   "execution_count": null,
   "id": "21f8ba9e",
   "metadata": {
    "execution": {
     "iopub.execute_input": "2022-02-09T00:09:56.910936Z",
     "iopub.status.busy": "2022-02-09T00:09:56.909445Z",
     "iopub.status.idle": "2022-02-09T00:09:59.062016Z",
     "shell.execute_reply": "2022-02-09T00:09:59.060773Z"
    }
   },
   "outputs": [],
   "source": [
    "OnePiece.tensor_function.apply(ve, ma, .*)"
   ]
  },
  {
   "cell_type": "code",
   "execution_count": null,
   "id": "cb02ff4a",
   "metadata": {
    "execution": {
     "iopub.execute_input": "2022-02-09T00:09:59.066907Z",
     "iopub.status.busy": "2022-02-09T00:09:59.065280Z",
     "iopub.status.idle": "2022-02-09T00:09:59.727700Z",
     "shell.execute_reply": "2022-02-09T00:09:59.726088Z"
    }
   },
   "outputs": [],
   "source": [
    "OnePiece.tensor_function.apply(bi_, ma, .+)"
   ]
  },
  {
   "cell_type": "code",
   "execution_count": null,
   "id": "bd0b8dd5",
   "metadata": {
    "execution": {
     "iopub.execute_input": "2022-02-09T00:09:59.732259Z",
     "iopub.status.busy": "2022-02-09T00:09:59.730770Z",
     "iopub.status.idle": "2022-02-09T00:10:00.319507Z",
     "shell.execute_reply": "2022-02-09T00:10:00.318118Z"
    }
   },
   "outputs": [],
   "source": [
    "OnePiece.tensor_function.apply(ma, ma, (ro1, ro2) -> minimum([ro1; ro2]))"
   ]
  },
  {
   "cell_type": "code",
   "execution_count": null,
   "id": "78d1a02d",
   "metadata": {
    "execution": {
     "iopub.execute_input": "2022-02-09T00:10:00.324009Z",
     "iopub.status.busy": "2022-02-09T00:10:00.322731Z",
     "iopub.status.idle": "2022-02-09T00:10:00.535960Z",
     "shell.execute_reply": "2022-02-09T00:10:00.533956Z"
    }
   },
   "outputs": [],
   "source": [
    "for i in [1, 2], j in [10, 20]\n",
    "\n",
    "    println(i, \" \", j)\n",
    "\n",
    "end"
   ]
  },
  {
   "cell_type": "code",
   "execution_count": null,
   "id": "41c8bd21",
   "metadata": {
    "execution": {
     "iopub.execute_input": "2022-02-09T00:10:00.540703Z",
     "iopub.status.busy": "2022-02-09T00:10:00.539176Z",
     "iopub.status.idle": "2022-02-09T00:10:00.607880Z",
     "shell.execute_reply": "2022-02-09T00:10:00.608879Z"
    }
   },
   "outputs": [],
   "source": [
    "for i in [1, 2]\n",
    "\n",
    "    for j in [10, 20]\n",
    "\n",
    "        println(i, \" \", j)\n",
    "\n",
    "    end\n",
    "\n",
    "end"
   ]
  },
  {
   "cell_type": "code",
   "execution_count": null,
   "id": "b70fb392",
   "metadata": {
    "execution": {
     "iopub.execute_input": "2022-02-09T00:10:00.613739Z",
     "iopub.status.busy": "2022-02-09T00:10:00.612137Z",
     "iopub.status.idle": "2022-02-09T00:10:02.019606Z",
     "shell.execute_reply": "2022-02-09T00:10:02.017365Z"
    }
   },
   "outputs": [],
   "source": [
    "ma2 = [\n",
    "    1 10 100 1000\n",
    "    0.001 0.0 1 0.1\n",
    "]"
   ]
  },
  {
   "cell_type": "code",
   "execution_count": null,
   "id": "d1084452",
   "metadata": {
    "execution": {
     "iopub.execute_input": "2022-02-09T00:10:02.024391Z",
     "iopub.status.busy": "2022-02-09T00:10:02.022838Z",
     "iopub.status.idle": "2022-02-09T00:10:02.043064Z",
     "shell.execute_reply": "2022-02-09T00:10:02.041904Z"
    }
   },
   "outputs": [],
   "source": [
    "ma1 = [\n",
    "    0 0 1 1\n",
    "    -1 0 1 2\n",
    "]"
   ]
  },
  {
   "cell_type": "code",
   "execution_count": null,
   "id": "02cdebbb",
   "metadata": {
    "execution": {
     "iopub.execute_input": "2022-02-09T00:10:02.047708Z",
     "iopub.status.busy": "2022-02-09T00:10:02.046195Z",
     "iopub.status.idle": "2022-02-09T00:10:04.512112Z",
     "shell.execute_reply": "2022-02-09T00:10:04.510611Z"
    }
   },
   "outputs": [],
   "source": [
    "OnePiece.tensor_function.apply(ma1, ma2, .+)"
   ]
  },
  {
   "cell_type": "code",
   "execution_count": null,
   "id": "660015cb",
   "metadata": {
    "execution": {
     "iopub.execute_input": "2022-02-09T00:10:04.516809Z",
     "iopub.status.busy": "2022-02-09T00:10:04.515310Z",
     "iopub.status.idle": "2022-02-09T00:10:05.778147Z",
     "shell.execute_reply": "2022-02-09T00:10:05.776333Z"
    }
   },
   "outputs": [],
   "source": [
    "ma1 = convert(\n",
    "    BitMatrix,\n",
    "    [\n",
    "        0 0 1 1\n",
    "        1 1 0 0\n",
    "    ],\n",
    ")\n",
    "\n",
    "OnePiece.tensor_function.apply(ma1, ma2, .-)"
   ]
  }
 ],
 "metadata": {
  "@webio": {
   "lastCommId": null,
   "lastKernelId": null
  },
  "kernelspec": {
   "display_name": "Julia 1.7.1",
   "language": "julia",
   "name": "julia-1.7"
  },
  "language_info": {
   "file_extension": ".jl",
   "mimetype": "application/julia",
   "name": "julia",
   "version": "1.7.2"
  }
 },
 "nbformat": 4,
 "nbformat_minor": 5
}
