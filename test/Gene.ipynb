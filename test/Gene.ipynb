{
 "cells": [
  {
   "outputs": [],
   "cell_type": "code",
   "source": [
    "include(\"_.jl\")\n",
    "\n",
    "n = 4"
   ],
   "id": "76443ce3-6d3a-4e32-8836-20ce95cfbe1a",
   "metadata": {},
   "execution_count": null
  },
  {
   "cell_type": "markdown",
   "source": [
    "## _path"
   ],
   "id": "8d9da5f9-ce65-45af-87c0-d7678e485e30",
   "metadata": {}
  },
  {
   "outputs": [],
   "cell_type": "code",
   "source": [
    "fi = \"Vegapunk.tsv\"\n",
    "\n",
    "# TODO: `@test`.\n",
    "println(BioLab.Gene._path(fi))\n",
    "\n",
    "@code_warntype BioLab.Gene._path(fi)\n",
    "\n",
    "# 70.526 ns (4 allocations: 200 bytes)\n",
    "@btime BioLab.Gene._path($fi)"
   ],
   "id": "637a3e39-3f6d-440c-b377-38d4c9d94994",
   "metadata": {},
   "execution_count": null
  },
  {
   "cell_type": "markdown",
   "source": [
    "## read_mouse"
   ],
   "id": "942816ab-7066-43b8-84af-0f2ab8fb18cc",
   "metadata": {}
  },
  {
   "outputs": [],
   "cell_type": "code",
   "source": [
    "mo = BioLab.Gene.read_mouse()\n",
    "\n",
    "# TODO: `@test`.\n",
    "display(mo)\n",
    "\n",
    "@code_warntype BioLab.Gene.read_mouse()"
   ],
   "id": "4b1aefc6-7224-467c-8156-19e45e10c838",
   "metadata": {},
   "execution_count": null
  },
  {
   "cell_type": "markdown",
   "source": [
    "## map_mouse"
   ],
   "id": "e58c0d0b",
   "metadata": {}
  },
  {
   "outputs": [],
   "cell_type": "code",
   "source": [
    "mo_na = BioLab.Gene.map_mouse(mo)\n",
    "\n",
    "# TODO: `@test`.\n",
    "BioLab.Dict.print(mo_na; n)\n",
    "\n",
    "@code_warntype BioLab.Gene.map_mouse(mo)\n",
    "\n",
    "# 21.200 ms (672292 allocations: 31.57 MiB)\n",
    "@btime BioLab.Gene.map_mouse($mo)"
   ],
   "id": "51bebffb-da4d-4694-8d49-fbc0b41ee02d",
   "metadata": {},
   "execution_count": null
  },
  {
   "cell_type": "markdown",
   "source": [
    "## read_ensembl"
   ],
   "id": "5a47b549-191e-4b24-81a6-05757546608f",
   "metadata": {}
  },
  {
   "outputs": [],
   "cell_type": "code",
   "source": [
    "en = BioLab.Gene.read_ensembl()\n",
    "\n",
    "# TODO: `@test`.\n",
    "display(en)\n",
    "\n",
    "@code_warntype BioLab.Gene.read_ensembl()"
   ],
   "id": "956b6bba-c597-42f3-a246-2694148f7986",
   "metadata": {},
   "execution_count": null
  },
  {
   "cell_type": "markdown",
   "source": [
    "## map_ensembl"
   ],
   "id": "3130de9f-71cb-48a3-bd2c-1845160e76a2",
   "metadata": {}
  },
  {
   "outputs": [],
   "cell_type": "code",
   "source": [
    "en_na = BioLab.Gene.map_ensembl(en)\n",
    "\n",
    "# TODO: `@test`.\n",
    "BioLab.Dict.print(en_na; n)\n",
    "\n",
    "@code_warntype BioLab.Gene.map_ensembl(en)\n",
    "\n",
    "# 5.494 s (77690449 allocations: 4.40 GiB)\n",
    "@btime BioLab.Gene.map_ensembl($en)"
   ],
   "id": "b9775a52-7316-44d5-a7bb-497cf4dcc7d4",
   "metadata": {},
   "execution_count": null
  },
  {
   "cell_type": "markdown",
   "source": [
    "## read_hgnc"
   ],
   "id": "c9049cbc-434b-41b5-90b8-97545fcf20fb",
   "metadata": {}
  },
  {
   "outputs": [],
   "cell_type": "code",
   "source": [
    "hg = BioLab.Gene.read_hgnc()\n",
    "\n",
    "# TODO: `@test`.\n",
    "display(hg)\n",
    "\n",
    "@code_warntype BioLab.Gene.read_hgnc()"
   ],
   "id": "7fdaa359-c674-4a4d-9928-fdb05ecb7374",
   "metadata": {},
   "execution_count": null
  },
  {
   "cell_type": "markdown",
   "source": [
    "## map_hgnc"
   ],
   "id": "a852c585-72de-4ace-b658-058e77e84e99",
   "metadata": {}
  },
  {
   "outputs": [],
   "cell_type": "code",
   "source": [
    "hg_na = BioLab.Gene.map_hgnc(hg)\n",
    "\n",
    "# TODO: `@test`.\n",
    "BioLab.Dict.print(hg_na; n)\n",
    "\n",
    "@code_warntype BioLab.Gene.map_hgnc(hg)\n",
    "\n",
    "# 58.506 ms (1032576 allocations: 45.22 MiB)\n",
    "@btime BioLab.Gene.map_hgnc($hg)"
   ],
   "id": "40de6546-81cd-408b-8fc8-b2967d6dc0bc",
   "metadata": {},
   "execution_count": null
  },
  {
   "cell_type": "markdown",
   "source": [
    "## rename"
   ],
   "id": "32fc5082-a762-40d7-8bd0-a6a5d8157d9b",
   "metadata": {}
  },
  {
   "outputs": [],
   "cell_type": "code",
   "source": [
    "na_, ma_ = BioLab.Gene.rename(unique(skipmissing(en[!, \"Gene name\"])), mo_na, hg_na)\n",
    "\n",
    "@test count(ma == 1 for ma in ma_) == 39060 &&\n",
    "      count(ma == 2 for ma in ma_) == 511 &&\n",
    "      count(ma == 3 for ma in ma_) == 80\n",
    "\n",
    "na_, ma_ = BioLab.Gene.rename(unique(skipmissing(hg[!, \"symbol\"])), mo_na, en_na)\n",
    "\n",
    "@test count(ma == 1 for ma in ma_) == 39133 &&\n",
    "      count(ma == 2 for ma in ma_) == 310 &&\n",
    "      count(ma == 3 for ma in ma_) == 3683\n",
    "\n",
    "# TODO: Use better genes.\n",
    "st_ = unique(skipmissing(en[!, \"Gene name\"]))\n",
    "\n",
    "@code_warntype BioLab.Gene.rename(st_, mo_na, hg_na, en_na)\n",
    "\n",
    "# \n",
    "@btime BioLab.Gene.rename($st_, $mo_na, $hg_na, $en_na; pr = $false)"
   ],
   "id": "5f6606d5-5d5f-4fd5-a263-7fe39983bf2a",
   "metadata": {},
   "execution_count": null
  },
  {
   "cell_type": "markdown",
   "source": [
    "## read_uniprot"
   ],
   "id": "a1ade68d-b05b-4f0e-8343-131d8256d9ea",
   "metadata": {}
  },
  {
   "outputs": [],
   "cell_type": "code",
   "source": [
    "un = BioLab.Gene.read_uniprot()\n",
    "\n",
    "# TODO: `@test`.\n",
    "display(un)\n",
    "\n",
    "@code_warntype BioLab.Gene.read_uniprot()"
   ],
   "id": "3c68f054-1652-4fde-9d6e-c3846ddd9e50",
   "metadata": {},
   "execution_count": null
  },
  {
   "cell_type": "markdown",
   "source": [
    "## map_uniprot"
   ],
   "id": "030c0da6-a013-4371-81b4-2f5279340b97",
   "metadata": {}
  },
  {
   "outputs": [],
   "cell_type": "code",
   "source": [
    "pr_io_an = BioLab.Gene.map_uniprot(un)\n",
    "\n",
    "# TODO: `@test`.\n",
    "BioLab.Dict.print(pr_io_an; n)\n",
    "\n",
    "@code_warntype BioLab.Gene.map_uniprot(un)\n",
    "\n",
    "# 64.899 ms (1278540 allocations: 78.12 MiB)\n",
    "@btime BioLab.Gene.map_uniprot($un)"
   ],
   "id": "6f99cd04-15d4-4ff3-9916-fa4c2b2cbc61",
   "metadata": {},
   "execution_count": null
  }
 ],
 "nbformat_minor": 5,
 "metadata": {
  "language_info": {
   "file_extension": ".jl",
   "mimetype": "application/julia",
   "name": "julia",
   "version": "1.8.5"
  },
  "@webio": {
   "lastKernelId": null,
   "lastCommId": null
  },
  "kernelspec": {
   "name": "julia-1.8",
   "display_name": "Julia 1.8.5",
   "language": "julia"
  }
 },
 "nbformat": 4
}
