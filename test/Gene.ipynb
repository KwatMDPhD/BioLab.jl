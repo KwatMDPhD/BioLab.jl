{
 "cells": [
  {
   "outputs": [],
   "cell_type": "code",
   "source": [
    "using BioinformaticsCore"
   ],
   "id": "baf12f00",
   "metadata": {},
   "execution_count": null
  },
  {
   "cell_type": "markdown",
   "source": [
    "## _path"
   ],
   "id": "8d9da5f9-ce65-45af-87c0-d7678e485e30",
   "metadata": {}
  },
  {
   "outputs": [],
   "cell_type": "code",
   "source": [
    "BioinformaticsCore.Gene._path(\"Vegapunk\")"
   ],
   "id": "637a3e39-3f6d-440c-b377-38d4c9d94994",
   "metadata": {},
   "execution_count": null
  },
  {
   "cell_type": "markdown",
   "source": [
    "## read"
   ],
   "id": "73082bf0-fa24-4566-9cae-818c59143449",
   "metadata": {}
  },
  {
   "outputs": [],
   "cell_type": "code",
   "source": [
    "en = BioinformaticsCore.Gene.read(\"ensembl\")\n",
    "\n",
    "first(en, 8)"
   ],
   "id": "01ede678-aafc-4c9b-8ec9-63aec1184438",
   "metadata": {},
   "execution_count": null
  },
  {
   "outputs": [],
   "cell_type": "code",
   "source": [
    "hg = BioinformaticsCore.Gene.read(\"hgnc\")\n",
    "\n",
    "first(hg, 4)"
   ],
   "id": "bd2761b6-77c7-4a0f-9b1d-aac642193f0d",
   "metadata": {},
   "execution_count": null
  },
  {
   "cell_type": "markdown",
   "source": [
    "## map_to"
   ],
   "id": "e58c0d0b",
   "metadata": {}
  },
  {
   "outputs": [],
   "cell_type": "code",
   "source": [
    "BioinformaticsCore.Gene.map_to(\"ensembl\")"
   ],
   "id": "b9775a52-7316-44d5-a7bb-497cf4dcc7d4",
   "metadata": {},
   "execution_count": null
  },
  {
   "outputs": [],
   "cell_type": "code",
   "source": [
    "BioinformaticsCore.Gene.map_to(\"hgnc\")"
   ],
   "id": "40de6546-81cd-408b-8fc8-b2967d6dc0bc",
   "metadata": {},
   "execution_count": null
  },
  {
   "cell_type": "markdown",
   "source": [
    "## map_protein"
   ],
   "id": "0cde1655-b1ba-496f-a5a7-f255ac8b7e4a",
   "metadata": {}
  },
  {
   "outputs": [],
   "cell_type": "code",
   "source": [
    "BioinformaticsCore.Dict.print(BioinformaticsCore.Gene.map_protein(), 3)"
   ],
   "id": "70d8f86e-2059-485f-8d16-efa4c0bf4eca",
   "metadata": {},
   "execution_count": null
  },
  {
   "cell_type": "markdown",
   "source": [
    "## map_mouse"
   ],
   "id": "90266f7f-3023-493e-a544-a7042c2fd4fe",
   "metadata": {}
  },
  {
   "outputs": [],
   "cell_type": "code",
   "source": [
    "BioinformaticsCore.Dict.print(BioinformaticsCore.Gene.map_mouse(), 3)"
   ],
   "id": "abadc491",
   "metadata": {},
   "execution_count": null
  },
  {
   "cell_type": "markdown",
   "source": [
    "## rename"
   ],
   "id": "d977a08d",
   "metadata": {}
  },
  {
   "outputs": [],
   "cell_type": "code",
   "source": [
    "na_, ma_ = BioinformaticsCore.Gene.rename(unique(skipmissing(en[!, \"Gene name\"])), [\"hgnc\"])"
   ],
   "id": "44d3683b",
   "metadata": {},
   "execution_count": null
  },
  {
   "outputs": [],
   "cell_type": "code",
   "source": [
    "na_, ma_ = BioinformaticsCore.Gene.rename(unique(skipmissing(hg[!, \"symbol\"])), [\"ensembl\"])"
   ],
   "id": "2a045b2f-e4d1-47e7-b514-9fbcf2e625a8",
   "metadata": {},
   "execution_count": null
  }
 ],
 "nbformat_minor": 5,
 "metadata": {
  "language_info": {
   "file_extension": ".jl",
   "mimetype": "application/julia",
   "name": "julia",
   "version": "1.8.2"
  },
  "@webio": {
   "lastKernelId": null,
   "lastCommId": null
  },
  "kernelspec": {
   "name": "julia-1.8",
   "display_name": "Julia 1.8.2",
   "language": "julia"
  }
 },
 "nbformat": 4
}
