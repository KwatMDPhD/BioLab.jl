{
 "cells": [
  {
   "cell_type": "code",
   "execution_count": null,
   "id": "baf12f00",
   "metadata": {},
   "outputs": [],
   "source": [
    "using OnePiece"
   ]
  },
  {
   "cell_type": "markdown",
   "id": "73082bf0-fa24-4566-9cae-818c59143449",
   "metadata": {},
   "source": [
    "## read"
   ]
  },
  {
   "cell_type": "code",
   "execution_count": null,
   "id": "01ede678-aafc-4c9b-8ec9-63aec1184438",
   "metadata": {},
   "outputs": [],
   "source": [
    "en = OnePiece.Gene.read(\"ensembl\")\n",
    "\n",
    "first(en, 8)"
   ]
  },
  {
   "cell_type": "code",
   "execution_count": null,
   "id": "bd2761b6-77c7-4a0f-9b1d-aac642193f0d",
   "metadata": {},
   "outputs": [],
   "source": [
    "hg = OnePiece.Gene.read(\"hgnc\")\n",
    "\n",
    "first(hg, 4)"
   ]
  },
  {
   "cell_type": "markdown",
   "id": "e58c0d0b",
   "metadata": {},
   "source": [
    "## map_to"
   ]
  },
  {
   "cell_type": "code",
   "execution_count": null,
   "id": "b9775a52-7316-44d5-a7bb-497cf4dcc7d4",
   "metadata": {},
   "outputs": [],
   "source": [
    "OnePiece.Gene.map_to(\"ensembl\")"
   ]
  },
  {
   "cell_type": "code",
   "execution_count": null,
   "id": "40de6546-81cd-408b-8fc8-b2967d6dc0bc",
   "metadata": {},
   "outputs": [],
   "source": [
    "OnePiece.Gene.map_to(\"hgnc\")"
   ]
  },
  {
   "cell_type": "markdown",
   "id": "0cde1655-b1ba-496f-a5a7-f255ac8b7e4a",
   "metadata": {},
   "source": [
    "## map_protein"
   ]
  },
  {
   "cell_type": "code",
   "execution_count": null,
   "id": "70d8f86e-2059-485f-8d16-efa4c0bf4eca",
   "metadata": {},
   "outputs": [],
   "source": [
    "OnePiece.Dict.print(OnePiece.Gene.map_protein(), 3)"
   ]
  },
  {
   "cell_type": "markdown",
   "id": "90266f7f-3023-493e-a544-a7042c2fd4fe",
   "metadata": {},
   "source": [
    "## map_mouse"
   ]
  },
  {
   "cell_type": "code",
   "execution_count": null,
   "id": "abadc491",
   "metadata": {},
   "outputs": [],
   "source": [
    "OnePiece.Dict.print(OnePiece.Gene.map_mouse(), 3)"
   ]
  },
  {
   "cell_type": "markdown",
   "id": "d977a08d",
   "metadata": {},
   "source": [
    "## rename"
   ]
  },
  {
   "cell_type": "code",
   "execution_count": null,
   "id": "44d3683b",
   "metadata": {},
   "outputs": [],
   "source": [
    "na_, ma_ = OnePiece.Gene.rename(unique(skipmissing(en[!, \"Gene name\"])), [\"hgnc\"])"
   ]
  },
  {
   "cell_type": "code",
   "execution_count": null,
   "id": "2a045b2f-e4d1-47e7-b514-9fbcf2e625a8",
   "metadata": {},
   "outputs": [],
   "source": [
    "na_, ma_ = OnePiece.Gene.rename(unique(skipmissing(hg[!, \"symbol\"])), [\"ensembl\"])"
   ]
  }
 ],
 "metadata": {
  "@webio": {
   "lastCommId": null,
   "lastKernelId": null
  },
  "kernelspec": {
   "display_name": "Julia 1.8.2",
   "language": "julia",
   "name": "julia-1.8"
  },
  "language_info": {
   "file_extension": ".jl",
   "mimetype": "application/julia",
   "name": "julia",
   "version": "1.8.2"
  }
 },
 "nbformat": 4,
 "nbformat_minor": 5
}
