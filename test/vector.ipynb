{
 "cells": [
  {
   "cell_type": "code",
   "execution_count": null,
   "id": "baf12f00",
   "metadata": {
    "execution": {
     "iopub.execute_input": "2022-08-19T09:43:32.733000Z",
     "iopub.status.busy": "2022-08-19T09:43:32.391000Z",
     "iopub.status.idle": "2022-08-19T09:43:37.407000Z",
     "shell.execute_reply": "2022-08-19T09:43:37.361000Z"
    }
   },
   "outputs": [],
   "source": [
    "using OnePiece"
   ]
  },
  {
   "cell_type": "markdown",
   "id": "dbbcd99b",
   "metadata": {},
   "source": [
    "## error_duplicate"
   ]
  },
  {
   "cell_type": "code",
   "execution_count": null,
   "id": "b66ec8d6",
   "metadata": {
    "execution": {
     "iopub.execute_input": "2022-08-19T09:43:38.025000Z",
     "iopub.status.busy": "2022-08-19T09:43:37.424000Z",
     "iopub.status.idle": "2022-08-19T09:43:38.894000Z",
     "shell.execute_reply": "2022-08-19T09:43:38.894000Z"
    }
   },
   "outputs": [],
   "source": [
    "for ve in [[1, 1, 2], [\"a\", \"a\", \"b\"]]\n",
    "\n",
    "    try\n",
    "\n",
    "        OnePiece.vector.error_duplicate(ve)\n",
    "\n",
    "    catch er\n",
    "\n",
    "        println(er)\n",
    "\n",
    "    end\n",
    "\n",
    "end"
   ]
  },
  {
   "cell_type": "markdown",
   "id": "1171337b",
   "metadata": {},
   "source": [
    "## get_longest_common_prefix"
   ]
  },
  {
   "cell_type": "code",
   "execution_count": null,
   "id": "af6cf4c6",
   "metadata": {
    "execution": {
     "iopub.execute_input": "2022-08-19T09:43:38.897000Z",
     "iopub.status.busy": "2022-08-19T09:43:38.897000Z",
     "iopub.status.idle": "2022-08-19T09:43:39.853000Z",
     "shell.execute_reply": "2022-08-19T09:43:39.853000Z"
    }
   },
   "outputs": [],
   "source": [
    "for ve_ in (\n",
    "    [[], []],\n",
    "    [[1], [1, 2]],\n",
    "    [[1.0], [1.0, 2.0]],\n",
    "    [['a'], ['a', 'b']],\n",
    "    [[\"a\"], [\"a\", \"b\"]],\n",
    "    [[1, 2, 3], [1, 4, 5]],\n",
    ")\n",
    "\n",
    "    println(OnePiece.vector.get_longest_common_prefix(ve_...))\n",
    "\n",
    "end"
   ]
  },
  {
   "cell_type": "code",
   "execution_count": null,
   "id": "12014c93",
   "metadata": {
    "execution": {
     "iopub.execute_input": "2022-08-19T09:43:39.856000Z",
     "iopub.status.busy": "2022-08-19T09:43:39.856000Z",
     "iopub.status.idle": "2022-08-19T09:43:40.482000Z",
     "shell.execute_reply": "2022-08-19T09:43:40.482000Z"
    }
   },
   "outputs": [],
   "source": [
    "OnePiece.vector.get_longest_common_prefix(\"abc\", \"abcd\", \"a\")"
   ]
  },
  {
   "cell_type": "markdown",
   "id": "e7fb4626",
   "metadata": {},
   "source": [
    "## is_in"
   ]
  },
  {
   "cell_type": "code",
   "execution_count": null,
   "id": "676ebb5f",
   "metadata": {
    "execution": {
     "iopub.execute_input": "2022-08-19T09:43:40.486000Z",
     "iopub.status.busy": "2022-08-19T09:43:40.486000Z",
     "iopub.status.idle": "2022-08-19T09:43:41.420000Z",
     "shell.execute_reply": "2022-08-19T09:43:41.419000Z"
    }
   },
   "outputs": [],
   "source": [
    "ca_ = collect(\"A23456789XJQK\")\n",
    "\n",
    "st1_ = ['1', '2', 'K']\n",
    "\n",
    "OnePiece.vector.is_in(ca_, st1_)"
   ]
  },
  {
   "cell_type": "code",
   "execution_count": null,
   "id": "5ac0cb58",
   "metadata": {
    "execution": {
     "iopub.execute_input": "2022-08-19T09:43:41.422000Z",
     "iopub.status.busy": "2022-08-19T09:43:41.422000Z",
     "iopub.status.idle": "2022-08-19T09:43:41.565000Z",
     "shell.execute_reply": "2022-08-19T09:43:41.564000Z"
    }
   },
   "outputs": [],
   "source": [
    "ca_id = Dict(ca => id for (id, ca) in enumerate(ca_))\n",
    "\n",
    "OnePiece.vector.is_in(ca_id, st1_)"
   ]
  },
  {
   "cell_type": "markdown",
   "id": "c3e6f165",
   "metadata": {},
   "source": [
    "## sort_like"
   ]
  },
  {
   "cell_type": "code",
   "execution_count": null,
   "id": "7b6b1321",
   "metadata": {
    "execution": {
     "iopub.execute_input": "2022-08-19T09:43:41.568000Z",
     "iopub.status.busy": "2022-08-19T09:43:41.568000Z",
     "iopub.status.idle": "2022-08-19T09:43:42.732000Z",
     "shell.execute_reply": "2022-08-19T09:43:42.732000Z"
    }
   },
   "outputs": [],
   "source": [
    "ve1 = ['a', 'e', 'K', 't']\n",
    "\n",
    "ve2 = [\"a\", \"K\", \"t\", \"w\"]\n",
    "\n",
    "OnePiece.vector.sort_like([2, 4, 1, 3], ve1, ve2)\n",
    "\n",
    "OnePiece.vector.sort_like([3, 1, 4, 2], ve1, ve2)"
   ]
  }
 ],
 "metadata": {
  "@webio": {
   "lastCommId": null,
   "lastKernelId": null
  },
  "kernelspec": {
   "display_name": "Julia 1.7.3",
   "language": "julia",
   "name": "julia-1.7"
  },
  "language_info": {
   "file_extension": ".jl",
   "mimetype": "application/julia",
   "name": "julia",
   "version": "1.7.3"
  }
 },
 "nbformat": 4,
 "nbformat_minor": 5
}
