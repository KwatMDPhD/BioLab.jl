{
 "cells": [
  {
   "outputs": [],
   "cell_type": "code",
   "source": [
    "using DataFrames\n",
    "\n",
    "include(\"_.jl\")"
   ],
   "id": "6838b0a4-4d42-4c6b-82b5-0ace54e847ff",
   "metadata": {},
   "execution_count": null
  },
  {
   "outputs": [],
   "cell_type": "code",
   "source": [
    "te = BioLab.Path.make_temporary(\"BioLab.test.FeatureSetEnrichment\")"
   ],
   "id": "8f2f5b35",
   "metadata": {},
   "execution_count": null
  },
  {
   "cell_type": "markdown",
   "source": [
    "## _match_algorithm"
   ],
   "id": "ca226778-1f56-4340-8def-b8ad2fa7bec5",
   "metadata": {}
  },
  {
   "outputs": [],
   "cell_type": "code",
   "source": [
    "for al in (\"KS\", \"KSa\", \"KLi\", \"KLiop\", \"KLiom\")\n",
    "\n",
    "    println(BioLab.FeatureSetEnrichment._match_algorithm(al))\n",
    "\n",
    "end"
   ],
   "id": "ba8a522d-6756-4823-aa17-701fbb3e6a96",
   "metadata": {},
   "execution_count": null
  },
  {
   "outputs": [],
   "cell_type": "code",
   "source": [
    "@test @check_error BioLab.FeatureSetEnrichment._match_algorithm(\"JB\")"
   ],
   "id": "19d859ce-4c50-42a0-a27a-a4663f627e15",
   "metadata": {},
   "execution_count": null
  },
  {
   "cell_type": "markdown",
   "source": [
    "## _sum*"
   ],
   "id": "2a28b415-f352-4603-8d79-bfb9ff5b1a58",
   "metadata": {}
  },
  {
   "outputs": [],
   "cell_type": "code",
   "source": [
    "nu_ = [-2.0, -1, 0, 0, 1, 2]\n",
    "\n",
    "bi_ = [true, true, false, true, false, true]\n",
    "\n",
    ";"
   ],
   "id": "b0df0c00-e537-43ea-b48b-40c1a81da0b1",
   "metadata": {},
   "execution_count": null
  },
  {
   "cell_type": "markdown",
   "source": [
    "## _sum_1_and_0"
   ],
   "id": "f5c232f6-c383-4c56-b0ff-9537f915bea1",
   "metadata": {}
  },
  {
   "outputs": [],
   "cell_type": "code",
   "source": [
    "ex = 1.0\n",
    "\n",
    "@test BioLab.FeatureSetEnrichment._sum_1_and_0(nu_, bi_, ex) == (6, 5.0, 2.0)\n",
    "\n",
    "# 6.166 ns (0 allocations: 0 bytes)\n",
    "@btime BioLab.FeatureSetEnrichment._sum_1_and_0($nu_, $bi_, $ex)\n",
    "\n",
    ";"
   ],
   "id": "4fafcf5d-e79f-4667-93e2-2b88dbdac780",
   "metadata": {},
   "execution_count": null
  },
  {
   "outputs": [],
   "cell_type": "code",
   "source": [
    "ex = 2.0\n",
    "\n",
    "@test BioLab.FeatureSetEnrichment._sum_1_and_0(nu_, bi_, ex) == (6, 9.0, 2.0)\n",
    "\n",
    "# 18.890 ns (0 allocations: 0 bytes)\n",
    "@btime BioLab.FeatureSetEnrichment._sum_1_and_0($nu_, $bi_, $ex)\n",
    "\n",
    ";"
   ],
   "id": "9d8235f6-7355-4aa6-9d97-88aef844b59a",
   "metadata": {},
   "execution_count": null
  },
  {
   "cell_type": "markdown",
   "source": [
    "## _sum_all_and_1"
   ],
   "id": "f96e9110-3602-43cf-96ae-d608a35798c6",
   "metadata": {}
  },
  {
   "outputs": [],
   "cell_type": "code",
   "source": [
    "ex = 1.0\n",
    "\n",
    "@test BioLab.FeatureSetEnrichment._sum_all_and_1(nu_, bi_, ex) == (6, 6.0, 5.0)\n",
    "\n",
    "# 6.750 ns (0 allocations: 0 bytes)\n",
    "@btime BioLab.FeatureSetEnrichment._sum_all_and_1($nu_, $bi_, $ex)\n",
    "\n",
    ";"
   ],
   "id": "94cd01d6-0acc-4c50-a612-ffd4206cc42d",
   "metadata": {},
   "execution_count": null
  },
  {
   "outputs": [],
   "cell_type": "code",
   "source": [
    "ex = 2.0\n",
    "\n",
    "@test BioLab.FeatureSetEnrichment._sum_all_and_1(nu_, bi_, ex) == (6, 10.0, 9.0)\n",
    "\n",
    "# 22.526 ns (0 allocations: 0 bytes)\n",
    "@btime BioLab.FeatureSetEnrichment._sum_all_and_1($nu_, $bi_, $ex)\n",
    "\n",
    ";"
   ],
   "id": "de44f44f-dfe4-49c2-8cd0-1b452a80ca98",
   "metadata": {},
   "execution_count": null
  },
  {
   "cell_type": "markdown",
   "source": [
    "## _plot_mountain"
   ],
   "id": "416f5cc1",
   "metadata": {}
  },
  {
   "outputs": [],
   "cell_type": "code",
   "source": [
    "BioLab.FeatureSetEnrichment._plot_mountain(\n",
    "    [\"Black Beard\", \"Law\"],\n",
    "    [-1.0, 1.0],\n",
    "    [true, false],\n",
    "    [-0.2, 0.1],\n",
    "    1129;\n",
    "    title_text = \"Winner\",\n",
    "    fe = \"Character\",\n",
    "    sc = \"Power\",\n",
    ")"
   ],
   "id": "ad1ee2bd",
   "metadata": {},
   "execution_count": null
  },
  {
   "cell_type": "markdown",
   "source": [
    "## make_benchmark"
   ],
   "id": "5c84331f",
   "metadata": {}
  },
  {
   "outputs": [],
   "cell_type": "code",
   "source": [
    "for ho in (\"card A2K\", \"random 3 2\", \"random 4 2\", \"random 5 3\", \"myc\")\n",
    "\n",
    "    println(\"=\"^99)\n",
    "\n",
    "    for re in BioLab.FeatureSetEnrichment.make_benchmark(ho)\n",
    "\n",
    "        println(\"$(length(re)): $(first(re, 3))$(ifelse(3 < length(re), \"...\", \"\"))\")\n",
    "\n",
    "    end\n",
    "\n",
    "end"
   ],
   "id": "1ef6f051-c2ff-439d-aa72-5489fc41ef25",
   "metadata": {},
   "execution_count": null
  },
  {
   "cell_type": "markdown",
   "source": [
    "## Plot"
   ],
   "id": "8eba6a85-d2e4-436e-864e-6332848a718d",
   "metadata": {}
  },
  {
   "outputs": [],
   "cell_type": "code",
   "source": [
    "fe_, sc_, fe1_ = BioLab.FeatureSetEnrichment.make_benchmark(\"card AK\")"
   ],
   "id": "87741f4a",
   "metadata": {},
   "execution_count": null
  },
  {
   "cell_type": "markdown",
   "source": [
    "## score_set"
   ],
   "id": "2d341617-5999-4122-8e8a-5ccbbf9f84d2",
   "metadata": {}
  },
  {
   "outputs": [],
   "cell_type": "code",
   "source": [
    "for al in (\"KS\", \"KLiom\")\n",
    "\n",
    "    BioLab.FeatureSetEnrichment.score_set(\n",
    "        al,\n",
    "        fe_,\n",
    "        sc_,\n",
    "        fe1_;\n",
    "        title_text = al,\n",
    "        ht = joinpath(te, \"mountain.$al.html\"),\n",
    "    )\n",
    "\n",
    "end"
   ],
   "id": "cf941616-a4d7-4db0-bc87-3b8e66626e1d",
   "metadata": {},
   "execution_count": null
  },
  {
   "cell_type": "markdown",
   "source": [
    "## MYC"
   ],
   "id": "a9aef25c",
   "metadata": {}
  },
  {
   "outputs": [],
   "cell_type": "code",
   "source": [
    "fe_, sc_, fe1_ = BioLab.FeatureSetEnrichment.make_benchmark(\"myc\")\n",
    "\n",
    "bo_ = BioLab.Vector.is_in(fe_, fe1_)\n",
    "\n",
    "fe_x_sa_x_sc = DataFrame(\n",
    "    \"Feature\" => fe_,\n",
    "    \"Score\" => sc_,\n",
    "    \"Score x 10\" => sc_ * 10.0,\n",
    "    \"Constant\" => fill(0.8, length(fe_)),\n",
    ")\n",
    "\n",
    "se_fe_ = BioLab.GMT.read(joinpath(@__DIR__, \"FeatureSetEnrichment.data\", \"h.all.v7.1.symbols.gmt\"))\n",
    "\n",
    ";"
   ],
   "id": "efbcb846",
   "metadata": {},
   "execution_count": null
  },
  {
   "cell_type": "markdown",
   "source": [
    "## is_in"
   ],
   "id": "4259e03a-099f-4637-b93a-e8874c7f803f",
   "metadata": {}
  },
  {
   "outputs": [],
   "cell_type": "code",
   "source": [
    "# 743.583 μs (2 allocations: 19.67 KiB)\n",
    "@btime BioLab.Vector.is_in($fe_, $fe1_)\n",
    "\n",
    "# 499.417 μs (2 allocations: 19.67 KiB)\n",
    "@btime BioLab.Vector.is_in($fe_, $(Set(fe1_)))\n",
    "\n",
    ";"
   ],
   "id": "bc9410ce-7e8f-476c-abaf-fca18c7a87c8",
   "metadata": {},
   "execution_count": null
  },
  {
   "cell_type": "markdown",
   "source": [
    "## KS"
   ],
   "id": "a96186be-9b04-4718-a2fc-408d81c31dac",
   "metadata": {}
  },
  {
   "outputs": [],
   "cell_type": "code",
   "source": [
    "# 37.292 μs (0 allocations: 0 bytes)\n",
    "@btime BioLab.FeatureSetEnrichment.score_set_ks($fe_, $sc_, $bo_; pl = false)"
   ],
   "id": "938c96ff",
   "metadata": {},
   "execution_count": null
  },
  {
   "outputs": [],
   "cell_type": "code",
   "source": [
    "al = \"KS\"\n",
    "\n",
    ";"
   ],
   "id": "166eee3d-c856-46e6-8c4a-94bc17fcfd2f",
   "metadata": {},
   "execution_count": null
  },
  {
   "outputs": [],
   "cell_type": "code",
   "source": [
    "# 522.959 μs (11 allocations: 20.85 KiB)\n",
    "@btime BioLab.FeatureSetEnrichment.score_set($al, $fe_, $sc_, $fe1_; pl = false)"
   ],
   "id": "e25e876b",
   "metadata": {},
   "execution_count": null
  },
  {
   "outputs": [],
   "cell_type": "code",
   "source": [
    "# 2.775 ms (322 allocations: 1.75 MiB)\n",
    "@btime BioLab.FeatureSetEnrichment.score_set($al, $fe_, $sc_, $se_fe_)"
   ],
   "id": "7af9e403",
   "metadata": {},
   "execution_count": null
  },
  {
   "outputs": [],
   "cell_type": "code",
   "source": [
    "# 11.540 ms (21178 allocations: 9.93 MiB)\n",
    "@btime BioLab.FeatureSetEnrichment.score_set($al, $fe_x_sa_x_sc, $se_fe_)"
   ],
   "id": "d1d27936",
   "metadata": {},
   "execution_count": null
  },
  {
   "cell_type": "markdown",
   "source": [
    "## KLi*"
   ],
   "id": "2124c72c-5ab0-4b5a-91a0-d090d209676e",
   "metadata": {}
  },
  {
   "outputs": [],
   "cell_type": "code",
   "source": [
    "# 334.750 μs (0 allocations: 0 bytes)\n",
    "@btime BioLab.FeatureSetEnrichment.score_set_kliom($fe_, $sc_, $bo_; pl = false)"
   ],
   "id": "2af0ca36",
   "metadata": {},
   "execution_count": null
  },
  {
   "outputs": [],
   "cell_type": "code",
   "source": [
    "al = \"KLiom\"\n",
    "\n",
    ";"
   ],
   "id": "24a96829-cec0-4ef7-8918-831e5536cd49",
   "metadata": {},
   "execution_count": null
  },
  {
   "outputs": [],
   "cell_type": "code",
   "source": [
    "# 820.250 μs (11 allocations: 20.85 KiB)\n",
    "@btime BioLab.FeatureSetEnrichment.score_set($al, $fe_, $sc_, $fe1_; pl = false)"
   ],
   "id": "40158295-7a5c-4050-98d1-5d4551312d13",
   "metadata": {},
   "execution_count": null
  },
  {
   "outputs": [],
   "cell_type": "code",
   "source": [
    "# 17.655 ms (322 allocations: 1.75 MiB)\n",
    "@btime BioLab.FeatureSetEnrichment.score_set($al, $fe_, $sc_, $se_fe_)"
   ],
   "id": "4f8f9080",
   "metadata": {},
   "execution_count": null
  },
  {
   "outputs": [],
   "cell_type": "code",
   "source": [
    "# 56.702 ms (21178 allocations: 9.93 MiB)\n",
    "@btime BioLab.FeatureSetEnrichment.score_set($al, $fe_x_sa_x_sc, $se_fe_)"
   ],
   "id": "50fe9862-5707-4130-a0b9-3969b412d00f",
   "metadata": {},
   "execution_count": null
  }
 ],
 "nbformat_minor": 5,
 "metadata": {
  "language_info": {
   "file_extension": ".jl",
   "mimetype": "application/julia",
   "name": "julia",
   "version": "1.8.5"
  },
  "@webio": {
   "lastKernelId": null,
   "lastCommId": null
  },
  "kernelspec": {
   "name": "julia-1.8",
   "display_name": "Julia 1.8.5",
   "language": "julia"
  }
 },
 "nbformat": 4
}
