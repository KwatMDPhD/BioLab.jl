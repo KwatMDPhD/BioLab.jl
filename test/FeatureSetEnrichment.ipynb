{
 "cells": [
  {
   "cell_type": "code",
   "execution_count": null,
   "id": "c516e796",
   "metadata": {},
   "outputs": [],
   "source": [
    "using DataFrames\n",
    "\n",
    "using OnePiece"
   ]
  },
  {
   "cell_type": "code",
   "execution_count": null,
   "id": "8f2f5b35",
   "metadata": {},
   "outputs": [],
   "source": [
    "te = OnePiece.Path.make_temporary(\"OnePiece.test.FeatureSetEnrichment\")"
   ]
  },
  {
   "cell_type": "markdown",
   "id": "ca226778-1f56-4340-8def-b8ad2fa7bec5",
   "metadata": {},
   "source": [
    "## _match_algorithm"
   ]
  },
  {
   "cell_type": "code",
   "execution_count": null,
   "id": "ba8a522d-6756-4823-aa17-701fbb3e6a96",
   "metadata": {},
   "outputs": [],
   "source": [
    "for al in (\"ks\", \"ksa\", \"cidac\", \"\")\n",
    "\n",
    "    try\n",
    "\n",
    "        println(OnePiece.FeatureSetEnrichment._match_algorithm(al))\n",
    "\n",
    "    catch er\n",
    "\n",
    "        println(er)\n",
    "\n",
    "    end\n",
    "\n",
    "end"
   ]
  },
  {
   "cell_type": "markdown",
   "id": "b5d26adb",
   "metadata": {},
   "source": [
    "## _sum_1_absolute_and_0_count"
   ]
  },
  {
   "cell_type": "code",
   "execution_count": null,
   "id": "559750a7-3063-4321-8ca6-33470449cb1e",
   "metadata": {},
   "outputs": [],
   "source": [
    "OnePiece.FeatureSetEnrichment._sum_1_absolute_and_0_count(\n",
    "    [-2.0, -1, 0, 1, 2],\n",
    "    [1.0, 1.0, 0.0, 0.0, 1.0],\n",
    ")"
   ]
  },
  {
   "cell_type": "markdown",
   "id": "2aa30698",
   "metadata": {},
   "source": [
    "## _cumulate"
   ]
  },
  {
   "cell_type": "code",
   "execution_count": null,
   "id": "f45c4e4f",
   "metadata": {},
   "outputs": [],
   "source": [
    "nu_ = [0.1, 0.2, 0.4, 0.2, 0.1]\n",
    "\n",
    ";"
   ]
  },
  {
   "cell_type": "code",
   "execution_count": null,
   "id": "90b86247",
   "metadata": {},
   "outputs": [],
   "source": [
    "cumsum(nu_)"
   ]
  },
  {
   "cell_type": "code",
   "execution_count": null,
   "id": "e1f165b7",
   "metadata": {},
   "outputs": [],
   "source": [
    "1 .- cumsum(nu_)"
   ]
  },
  {
   "cell_type": "code",
   "execution_count": null,
   "id": "4988ed4d",
   "metadata": {},
   "outputs": [],
   "source": [
    "OnePiece.FeatureSetEnrichment._cumulate(nu_)"
   ]
  },
  {
   "cell_type": "markdown",
   "id": "416f5cc1",
   "metadata": {},
   "source": [
    "## _plot_mountain"
   ]
  },
  {
   "cell_type": "code",
   "execution_count": null,
   "id": "ad1ee2bd",
   "metadata": {},
   "outputs": [],
   "source": [
    "OnePiece.FeatureSetEnrichment._plot_mountain(\n",
    "    [\"Black Beard\", \"Law\"],\n",
    "    [-1.0, 1.0],\n",
    "    [1.0, 0.0],\n",
    "    [0.1, -0.1],\n",
    "    1129,\n",
    "    1101,\n",
    "    title_text = \"Winner\",\n",
    "    fe = \"Character\",\n",
    "    sc = \"Power\",\n",
    ")"
   ]
  },
  {
   "cell_type": "markdown",
   "id": "5c84331f",
   "metadata": {},
   "source": [
    "## make_benchmark"
   ]
  },
  {
   "cell_type": "code",
   "execution_count": null,
   "id": "1ef6f051-c2ff-439d-aa72-5489fc41ef25",
   "metadata": {},
   "outputs": [],
   "source": [
    "for ho in (\"card A2K\", \"random 3 2\", \"random 4 2\", \"random 5 3\", \"myc\")\n",
    "\n",
    "    println(\"=\"^99)\n",
    "\n",
    "    for re in OnePiece.FeatureSetEnrichment.make_benchmark(ho)\n",
    "\n",
    "        println(\"$(length(re)): $(first(re, 3))$(ifelse(3 < length(re), \"...\", \"\"))\")\n",
    "\n",
    "    end\n",
    "\n",
    "end"
   ]
  },
  {
   "cell_type": "markdown",
   "id": "e0005834",
   "metadata": {},
   "source": [
    "## score_set*"
   ]
  },
  {
   "cell_type": "code",
   "execution_count": null,
   "id": "87741f4a",
   "metadata": {},
   "outputs": [],
   "source": [
    "fe_, sc_, fe1_ = OnePiece.FeatureSetEnrichment.make_benchmark(\"card AK\")"
   ]
  },
  {
   "cell_type": "markdown",
   "id": "0a5bc30f",
   "metadata": {},
   "source": [
    "## score_set"
   ]
  },
  {
   "cell_type": "code",
   "execution_count": null,
   "id": "2c5d14d0",
   "metadata": {},
   "outputs": [],
   "source": [
    "OnePiece.FeatureSetEnrichment.score_set(fe_, sc_, fe1_, ht = joinpath(te, \"mountain.html\"))"
   ]
  },
  {
   "cell_type": "markdown",
   "id": "1610cab2",
   "metadata": {},
   "source": [
    "## score_set_new"
   ]
  },
  {
   "cell_type": "code",
   "execution_count": null,
   "id": "60909b34",
   "metadata": {},
   "outputs": [],
   "source": [
    "OnePiece.FeatureSetEnrichment.score_set_new(fe_, sc_, fe1_, ht = joinpath(te, \"mountain_new.html\"))"
   ]
  },
  {
   "cell_type": "markdown",
   "id": "a9aef25c",
   "metadata": {},
   "source": [
    "## score_set*"
   ]
  },
  {
   "cell_type": "code",
   "execution_count": null,
   "id": "fd01b6d0",
   "metadata": {},
   "outputs": [],
   "source": [
    "fe_, sc_, fe1_ = OnePiece.FeatureSetEnrichment.make_benchmark(\"myc\")\n",
    "\n",
    "in_ = OnePiece.Vector.is_in(fe_, Set(fe1_))\n",
    "\n",
    "fe_x_sa_x_sc = DataFrame(\n",
    "    \"Feature\" => fe_,\n",
    "    \"Score\" => sc_,\n",
    "    \"Score x 10\" => sc_ * 10,\n",
    "    \"Constant\" => fill(0.8, length(fe_)),\n",
    ")\n",
    "\n",
    "se_fe1_ =\n",
    "    OnePiece.GMT.read(joinpath(@__DIR__, \"FeatureSetEnrichment.data\", \"h.all.v7.1.symbols.gmt\"))\n",
    "\n",
    ";"
   ]
  },
  {
   "cell_type": "markdown",
   "id": "29648e2e",
   "metadata": {},
   "source": [
    "## score_set"
   ]
  },
  {
   "cell_type": "code",
   "execution_count": null,
   "id": "fb14dcef",
   "metadata": {},
   "outputs": [],
   "source": [
    "OnePiece.FeatureSetEnrichment.score_set(fe_, sc_, fe1_, in_)"
   ]
  },
  {
   "cell_type": "code",
   "execution_count": null,
   "id": "ca942b2a",
   "metadata": {},
   "outputs": [],
   "source": [
    "OnePiece.FeatureSetEnrichment.score_set(fe_, sc_, fe1_)"
   ]
  },
  {
   "cell_type": "code",
   "execution_count": null,
   "id": "cf091ae2",
   "metadata": {},
   "outputs": [],
   "source": [
    "OnePiece.FeatureSetEnrichment.score_set(fe_, sc_, se_fe1_)"
   ]
  },
  {
   "cell_type": "code",
   "execution_count": null,
   "id": "d97a96a5",
   "metadata": {},
   "outputs": [],
   "source": [
    "OnePiece.FeatureSetEnrichment.score_set(fe_x_sa_x_sc, se_fe1_)"
   ]
  },
  {
   "cell_type": "markdown",
   "id": "0e091e7b",
   "metadata": {},
   "source": [
    "## score_set_new"
   ]
  },
  {
   "cell_type": "code",
   "execution_count": null,
   "id": "2f4480dc",
   "metadata": {},
   "outputs": [],
   "source": [
    "OnePiece.FeatureSetEnrichment.score_set_new(fe_, sc_, fe1_)"
   ]
  },
  {
   "cell_type": "code",
   "execution_count": null,
   "id": "c573a195",
   "metadata": {},
   "outputs": [],
   "source": [
    "OnePiece.FeatureSetEnrichment.score_set_new(fe_, sc_, se_fe1_)"
   ]
  }
 ],
 "metadata": {
  "@webio": {
   "lastCommId": null,
   "lastKernelId": null
  },
  "kernelspec": {
   "display_name": "Julia 1.8.2",
   "language": "julia",
   "name": "julia-1.8"
  },
  "language_info": {
   "file_extension": ".jl",
   "mimetype": "application/julia",
   "name": "julia",
   "version": "1.8.2"
  }
 },
 "nbformat": 4,
 "nbformat_minor": 5
}
