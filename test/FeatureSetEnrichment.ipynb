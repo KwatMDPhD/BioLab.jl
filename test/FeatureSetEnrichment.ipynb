{
 "cells": [
  {
   "outputs": [],
   "cell_type": "code",
   "source": [
    "using DataFrames\n",
    "\n",
    "using BioLab"
   ],
   "id": "6838b0a4-4d42-4c6b-82b5-0ace54e847ff",
   "metadata": {},
   "execution_count": null
  },
  {
   "outputs": [],
   "cell_type": "code",
   "source": [
    "te = BioLab.Path.make_temporary(\"BioLab.test.FeatureSetEnrichment\")"
   ],
   "id": "8f2f5b35",
   "metadata": {},
   "execution_count": null
  },
  {
   "cell_type": "markdown",
   "source": [
    "## _match_algorithm"
   ],
   "id": "ca226778-1f56-4340-8def-b8ad2fa7bec5",
   "metadata": {}
  },
  {
   "outputs": [],
   "cell_type": "code",
   "source": [
    "for al in (\"KS\", \"KL\", \"SKL\", \"AKL\", \"\")\n",
    "\n",
    "    try\n",
    "\n",
    "        println(BioLab.FeatureSetEnrichment._match_algorithm(al))\n",
    "\n",
    "    catch er\n",
    "\n",
    "        println(er)\n",
    "\n",
    "    end\n",
    "\n",
    "end"
   ],
   "id": "ba8a522d-6756-4823-aa17-701fbb3e6a96",
   "metadata": {},
   "execution_count": null
  },
  {
   "cell_type": "markdown",
   "source": [
    "## _sum_1_absolute_and_0_count"
   ],
   "id": "2a28b415-f352-4603-8d79-bfb9ff5b1a58",
   "metadata": {}
  },
  {
   "outputs": [],
   "cell_type": "code",
   "source": [
    "nu_ = [-2.0, -1, 0, 1, 2]\n",
    "\n",
    "bi_ = [true, true, false, false, true]\n",
    "\n",
    "# 6.417 ns (0 allocations: 0 bytes)\n",
    "#@btime BioLab.FeatureSetEnrichment._sum_1_absolute_and_0_count($nu_, $bi_)"
   ],
   "id": "047c5623-69ca-4744-baea-dc1da2bddeea",
   "metadata": {},
   "execution_count": null
  },
  {
   "cell_type": "markdown",
   "source": [
    "## _cumulate"
   ],
   "id": "2aa30698",
   "metadata": {}
  },
  {
   "outputs": [],
   "cell_type": "code",
   "source": [
    "nu_ = [0.1, 0.2, 0.4, 0.2, 0.1]\n",
    "\n",
    ";"
   ],
   "id": "f45c4e4f",
   "metadata": {},
   "execution_count": null
  },
  {
   "outputs": [],
   "cell_type": "code",
   "source": [
    "cumsum(nu_)"
   ],
   "id": "90b86247",
   "metadata": {},
   "execution_count": null
  },
  {
   "outputs": [],
   "cell_type": "code",
   "source": [
    "1 .- cumsum(nu_)"
   ],
   "id": "e1f165b7",
   "metadata": {},
   "execution_count": null
  },
  {
   "outputs": [],
   "cell_type": "code",
   "source": [
    "# 152.070 ns (7 allocations: 672 bytes)\n",
    "#@btime BioLab.FeatureSetEnrichment._cumulate($nu_)"
   ],
   "id": "4988ed4d",
   "metadata": {},
   "execution_count": null
  },
  {
   "cell_type": "markdown",
   "source": [
    "## _plot_mountain"
   ],
   "id": "416f5cc1",
   "metadata": {}
  },
  {
   "outputs": [],
   "cell_type": "code",
   "source": [
    "BioLab.FeatureSetEnrichment._plot_mountain(\n",
    "    [\"Black Beard\", \"Law\"],\n",
    "    [-1.0, 1.0],\n",
    "    [true, false],\n",
    "    [-0.2, 0.1],\n",
    "    1129,\n",
    "    title_text = \"Winner\",\n",
    "    fe = \"Character\",\n",
    "    sc = \"Power\",\n",
    ")"
   ],
   "id": "ad1ee2bd",
   "metadata": {},
   "execution_count": null
  },
  {
   "cell_type": "markdown",
   "source": [
    "## make_benchmark"
   ],
   "id": "5c84331f",
   "metadata": {}
  },
  {
   "outputs": [],
   "cell_type": "code",
   "source": [
    "# 566.481 ns (13 allocations: 1.35 KiB)\n",
    "#@btime BioLab.FeatureSetEnrichment.make_benchmark(\"card A2K\")"
   ],
   "id": "bbb96f74-84dc-4970-95a0-cac9ff485a68",
   "metadata": {},
   "execution_count": null
  },
  {
   "outputs": [],
   "cell_type": "code",
   "source": [
    "# 1.354 μs (33 allocations: 2.11 KiB)\n",
    "#@btime BioLab.FeatureSetEnrichment.make_benchmark(\"random 3 2\")"
   ],
   "id": "c6e50b60-8956-4134-b158-a3c48b9d79c3",
   "metadata": {},
   "execution_count": null
  },
  {
   "outputs": [],
   "cell_type": "code",
   "source": [
    "for ho in (\"card A2K\", \"random 3 2\", \"random 4 2\", \"random 5 3\", \"myc\")\n",
    "\n",
    "    println(\"=\"^99)\n",
    "\n",
    "    for re in BioLab.FeatureSetEnrichment.make_benchmark(ho)\n",
    "\n",
    "        println(\"$(length(re)): $(first(re, 3))$(ifelse(3 < length(re), \"...\", \"\"))\")\n",
    "\n",
    "    end\n",
    "\n",
    "end"
   ],
   "id": "1ef6f051-c2ff-439d-aa72-5489fc41ef25",
   "metadata": {},
   "execution_count": null
  },
  {
   "cell_type": "markdown",
   "source": [
    "## Plot"
   ],
   "id": "8eba6a85-d2e4-436e-864e-6332848a718d",
   "metadata": {}
  },
  {
   "outputs": [],
   "cell_type": "code",
   "source": [
    "fe_, sc_, fe1_ = BioLab.FeatureSetEnrichment.make_benchmark(\"card AK\")"
   ],
   "id": "87741f4a",
   "metadata": {},
   "execution_count": null
  },
  {
   "cell_type": "markdown",
   "source": [
    "## score_set"
   ],
   "id": "2d341617-5999-4122-8e8a-5ccbbf9f84d2",
   "metadata": {}
  },
  {
   "outputs": [],
   "cell_type": "code",
   "source": [
    "BioLab.FeatureSetEnrichment.score_set(\"KS\", fe_, sc_, fe1_, ht = joinpath(te, \"mountain.html\"))"
   ],
   "id": "2c5d14d0",
   "metadata": {},
   "execution_count": null
  },
  {
   "outputs": [],
   "cell_type": "code",
   "source": [
    "BioLab.FeatureSetEnrichment.score_set(\"KL\", fe_, sc_, fe1_, ht = joinpath(te, \"mountain.html\"))"
   ],
   "id": "60909b34",
   "metadata": {},
   "execution_count": null
  },
  {
   "cell_type": "markdown",
   "source": [
    "## MYC"
   ],
   "id": "a9aef25c",
   "metadata": {}
  },
  {
   "outputs": [],
   "cell_type": "code",
   "source": [
    "fe_, sc_, fe1_ = BioLab.FeatureSetEnrichment.make_benchmark(\"myc\")\n",
    "\n",
    "in_ = BioLab.Vector.is_in(fe_, Set(fe1_))\n",
    "\n",
    "fe_x_sa_x_sc = DataFrame(\n",
    "    \"Feature\" => fe_,\n",
    "    \"Score\" => sc_,\n",
    "    \"Score x 10\" => sc_ * 10,\n",
    "    \"Constant\" => fill(0.8, length(fe_)),\n",
    ")\n",
    "\n",
    "se_fe_ = BioLab.GMT.read(joinpath(@__DIR__, \"FeatureSetEnrichment.data\", \"h.all.v7.1.symbols.gmt\"))\n",
    "\n",
    ";"
   ],
   "id": "efbcb846",
   "metadata": {},
   "execution_count": null
  },
  {
   "cell_type": "markdown",
   "source": [
    "## KS"
   ],
   "id": "a96186be-9b04-4718-a2fc-408d81c31dac",
   "metadata": {}
  },
  {
   "outputs": [],
   "cell_type": "code",
   "source": [
    "# 42.916 us (2: 156.67 KiB)\n",
    "#@btime BioLab.FeatureSetEnrichment.score_set_ks($fe_, $sc_, $fe1_, $in_; pl = false)"
   ],
   "id": "938c96ff",
   "metadata": {},
   "execution_count": null
  },
  {
   "outputs": [],
   "cell_type": "code",
   "source": [
    "BioLab.FeatureSetEnrichment.score_set_ks(fe_, sc_, fe1_, in_)"
   ],
   "id": "fb14dcef",
   "metadata": {},
   "execution_count": null
  },
  {
   "outputs": [],
   "cell_type": "code",
   "source": [
    "# 557.042 us (11: 177.48 KiB)\n",
    "#@btime BioLab.FeatureSetEnrichment.score_set(\"KS\", $fe_, $sc_, $fe1_; pl = false)"
   ],
   "id": "e25e876b",
   "metadata": {},
   "execution_count": null
  },
  {
   "outputs": [],
   "cell_type": "code",
   "source": [
    "BioLab.FeatureSetEnrichment.score_set(\"KS\", fe_, sc_, fe1_)"
   ],
   "id": "ca942b2a",
   "metadata": {},
   "execution_count": null
  },
  {
   "outputs": [],
   "cell_type": "code",
   "source": [
    "# 3.172 ms (315: 9.15 MiB)\n",
    "#@btime BioLab.FeatureSetEnrichment.score_set(\"KS\", $fe_, $sc_, $se_fe_)"
   ],
   "id": "7af9e403",
   "metadata": {},
   "execution_count": null
  },
  {
   "outputs": [],
   "cell_type": "code",
   "source": [
    "# 13.371 ms (61923: 33.17 MiB)\n",
    "#@btime BioLab.FeatureSetEnrichment.score_set(\"KS\", $fe_x_sa_x_sc, $se_fe_)"
   ],
   "id": "d1d27936",
   "metadata": {},
   "execution_count": null
  },
  {
   "cell_type": "markdown",
   "source": [
    "## AKL"
   ],
   "id": "2124c72c-5ab0-4b5a-91a0-d090d209676e",
   "metadata": {}
  },
  {
   "outputs": [],
   "cell_type": "code",
   "source": [
    "# 541.167 μs (64 allocations: 4.90 MiB)\n",
    "#@btime BioLab.FeatureSetEnrichment.score_set_akl($fe_, $sc_, $fe1_, $in_; pl = false)"
   ],
   "id": "2af0ca36",
   "metadata": {},
   "execution_count": null
  },
  {
   "outputs": [],
   "cell_type": "code",
   "source": [
    "BioLab.FeatureSetEnrichment.score_set_akl(fe_, sc_, fe1_, in_)"
   ],
   "id": "2f4480dc",
   "metadata": {},
   "execution_count": null
  },
  {
   "outputs": [],
   "cell_type": "code",
   "source": [
    "# 1.148 ms (73: 4.92 MiB)\n",
    "#@btime BioLab.FeatureSetEnrichment.score_set(\"AKL\", $fe_, $sc_, $fe1_; pl = false)"
   ],
   "id": "40158295-7a5c-4050-98d1-5d4551312d13",
   "metadata": {},
   "execution_count": null
  },
  {
   "outputs": [],
   "cell_type": "code",
   "source": [
    "BioLab.FeatureSetEnrichment.score_set(\"AKL\", fe_, sc_, fe1_)"
   ],
   "id": "174b26b9-5c49-43d6-bb5d-865d18fdf1da",
   "metadata": {},
   "execution_count": null
  },
  {
   "outputs": [],
   "cell_type": "code",
   "source": [
    "# 35.924 ms (16413 allocations: 247.34 MiB)\n",
    "#@btime BioLab.FeatureSetEnrichment.score_set(\"AKL\", $fe_, $sc_, $se_fe_)"
   ],
   "id": "4f8f9080",
   "metadata": {},
   "execution_count": null
  },
  {
   "outputs": [],
   "cell_type": "code",
   "source": [
    "# 117.956 ms (109863 allocations: 749.63 MiB)\n",
    "#@btime BioLab.FeatureSetEnrichment.score_set(\"AKL\", $fe_x_sa_x_sc, $se_fe_)"
   ],
   "id": "50fe9862-5707-4130-a0b9-3969b412d00f",
   "metadata": {},
   "execution_count": null
  }
 ],
 "nbformat_minor": 5,
 "metadata": {
  "language_info": {
   "file_extension": ".jl",
   "mimetype": "application/julia",
   "name": "julia",
   "version": "1.8.5"
  },
  "@webio": {
   "lastKernelId": null,
   "lastCommId": null
  },
  "kernelspec": {
   "name": "julia-1.8",
   "display_name": "Julia 1.8.5",
   "language": "julia"
  }
 },
 "nbformat": 4
}
