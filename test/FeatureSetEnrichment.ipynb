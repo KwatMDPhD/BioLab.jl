{
 "cells": [
  {
   "outputs": [],
   "cell_type": "code",
   "source": [
    "using DataFrames\n",
    "\n",
    "include(\"_.jl\")\n",
    "\n",
    "te = BioLab.Path.make_temporary(\"BioLab.test.FeatureSetEnrichment\")"
   ],
   "id": "01970f5e-95ee-4f41-a28e-5aa203cffa81",
   "metadata": {},
   "execution_count": null
  },
  {
   "outputs": [],
   "cell_type": "code",
   "source": [
    "sc_ = [-2.0, -1, 0, 0, 1, 2]"
   ],
   "id": "dc867665-6faa-4b60-9e7b-bafdf05267ca",
   "metadata": {},
   "execution_count": null
  },
  {
   "cell_type": "markdown",
   "source": [
    "## _get_absolute_raise"
   ],
   "id": "25e79eef-cc42-4f6c-8c1d-15c3fcbf9e0d",
   "metadata": {}
  },
  {
   "outputs": [],
   "cell_type": "code",
   "source": [
    "id = 1\n",
    "\n",
    "for ex in (\n",
    "    0.9, # 16.784 ns (0 allocations: 0 bytes)\n",
    "    1.0, # 2.458 ns (0 allocations: 0 bytes)\n",
    "    1.1, # 16.784 ns (0 allocations: 0 bytes)\n",
    "    2.0, # 5.500 ns (0 allocations: 0 bytes)\n",
    "    #9.9, # 16.784 ns (0 allocations: 0 bytes)\n",
    "    #10.0, # 8.133 ns (0 allocations: 0 bytes)\n",
    "    #10.1, # 16.784 ns (0 allocations: 0 bytes)\n",
    "    #100.0, # 9.551 ns (0 allocations: 0 bytes)\n",
    ")\n",
    "\n",
    "    BioLab.String.print_header(ex)\n",
    "\n",
    "    println(BioLab.FeatureSetEnrichment._get_absolute_raise(sc_, id, ex))\n",
    "\n",
    "    @code_warntype BioLab.FeatureSetEnrichment._get_absolute_raise(sc_, id, ex)\n",
    "\n",
    "    @btime BioLab.FeatureSetEnrichment._get_absolute_raise($sc_, $id, $ex)\n",
    "\n",
    "end"
   ],
   "id": "fd111c73-bf2d-4907-a7a3-3cf66664796e",
   "metadata": {},
   "execution_count": null
  },
  {
   "cell_type": "markdown",
   "source": [
    "## _sum\\_*"
   ],
   "id": "2a28b415-f352-4603-8d79-bfb9ff5b1a58",
   "metadata": {}
  },
  {
   "outputs": [],
   "cell_type": "code",
   "source": [
    "bo_ = [true, true, false, true, false, true]"
   ],
   "id": "b0df0c00-e537-43ea-b48b-40c1a81da0b1",
   "metadata": {},
   "execution_count": null
  },
  {
   "cell_type": "markdown",
   "source": [
    "## _sum_1_and_0"
   ],
   "id": "f5c232f6-c383-4c56-b0ff-9537f915bea1",
   "metadata": {}
  },
  {
   "outputs": [],
   "cell_type": "code",
   "source": [
    "for (ex, re) in (\n",
    "    (1.0, (6, 5.0, 2.0)), # 6.417 ns (0 allocations: 0 bytes)\n",
    "    (2.0, (6, 9.0, 2.0)), # 19.121 ns (0 allocations: 0 bytes)\n",
    ")\n",
    "\n",
    "    BioLab.String.print_header(ex)\n",
    "\n",
    "    @test BioLab.FeatureSetEnrichment._sum_1_and_0(sc_, bo_, ex) == re\n",
    "\n",
    "    @code_warntype BioLab.FeatureSetEnrichment._sum_1_and_0(sc_, bo_, ex)\n",
    "\n",
    "    @btime BioLab.FeatureSetEnrichment._sum_1_and_0($sc_, $bo_, $ex)\n",
    "\n",
    "end"
   ],
   "id": "6066b385-8e02-44f6-a434-1bb35bfcc285",
   "metadata": {},
   "execution_count": null
  },
  {
   "cell_type": "markdown",
   "source": [
    "## _sum_all_and_1"
   ],
   "id": "f96e9110-3602-43cf-96ae-d608a35798c6",
   "metadata": {}
  },
  {
   "outputs": [],
   "cell_type": "code",
   "source": [
    "for (ex, re) in (\n",
    "    (1.0, (6, 6.0, 5.0)), # 7.791 ns (0 allocations: 0 bytes)\n",
    "    (2.0, (6, 10.0, 9.0)), # 22.233 ns (0 allocations: 0 bytes)\n",
    ")\n",
    "\n",
    "    BioLab.String.print_header(ex)\n",
    "\n",
    "    @test BioLab.FeatureSetEnrichment._sum_all_and_1(sc_, bo_, ex) == re\n",
    "\n",
    "    @code_warntype BioLab.FeatureSetEnrichment._sum_all_and_1(sc_, bo_, ex)\n",
    "\n",
    "    @btime BioLab.FeatureSetEnrichment._sum_all_and_1($sc_, $bo_, $ex)\n",
    "\n",
    "end"
   ],
   "id": "f73fe1f6-8629-4ab6-b450-34f3c6546634",
   "metadata": {},
   "execution_count": null
  },
  {
   "cell_type": "markdown",
   "source": [
    "## _plot_mountain"
   ],
   "id": "416f5cc1",
   "metadata": {}
  },
  {
   "outputs": [],
   "cell_type": "code",
   "source": [
    "BioLab.FeatureSetEnrichment._plot_mountain(\n",
    "    [\"Black Beard\", \"Law\"],\n",
    "    [-1.0, 1.0],\n",
    "    [true, false],\n",
    "    [-0.2, 0.1],\n",
    "    1129;\n",
    "    title_text = \"Winner\",\n",
    "    fe = \"Character\",\n",
    "    sc = \"Power\",\n",
    ")"
   ],
   "id": "ad1ee2bd",
   "metadata": {},
   "execution_count": null
  },
  {
   "outputs": [],
   "cell_type": "code",
   "source": [
    "@code_warntype BioLab.FeatureSetEnrichment._plot_mountain(\n",
    "    [\"Black Beard\", \"Law\"],\n",
    "    [-1.0, 1.0],\n",
    "    [true, false],\n",
    "    [-0.2, 0.1],\n",
    "    1129;\n",
    "    title_text = \"Winner\",\n",
    "    fe = \"Character\",\n",
    "    sc = \"Power\",\n",
    ")"
   ],
   "id": "edb6fff8-b47f-456e-b57c-c22018c4ca32",
   "metadata": {},
   "execution_count": null
  },
  {
   "cell_type": "markdown",
   "source": [
    "## benchmark_card"
   ],
   "id": "ef788110-4424-49ad-a941-2aae139ccec2",
   "metadata": {}
  },
  {
   "outputs": [],
   "cell_type": "code",
   "source": [
    "ca1 = \"A2K\"\n",
    "\n",
    "BioLab.FeatureSetEnrichment.benchmark_card(ca1)"
   ],
   "id": "057d3d04-6a0c-4532-a0b7-00c84d8be71c",
   "metadata": {},
   "execution_count": null
  },
  {
   "outputs": [],
   "cell_type": "code",
   "source": [
    "@code_warntype BioLab.FeatureSetEnrichment.benchmark_card(ca1)\n",
    "\n",
    "# 61.354 ns (2 allocations: 240 bytes)\n",
    "@btime BioLab.FeatureSetEnrichment.benchmark_card($ca1)"
   ],
   "id": "028f6b08-842a-46a0-b7c2-38855ca894c1",
   "metadata": {},
   "execution_count": null
  },
  {
   "cell_type": "markdown",
   "source": [
    "## benchmark_random"
   ],
   "id": "c25b24d6-2dd5-4a18-b6b5-9798e69a1f46",
   "metadata": {}
  },
  {
   "outputs": [],
   "cell_type": "code",
   "source": [
    "for (n, n1) in (\n",
    "    (3, 2), # 1.083 μs (30 allocations: 1.81 KiB)\n",
    "    (4, 2), # 1.142 μs (34 allocations: 2.02 KiB)\n",
    "    (5, 3), # 1.312 μs (41 allocations: 2.47 KiB)\n",
    ")\n",
    "\n",
    "    BioLab.String.print_header(\"$n $n1\")\n",
    "\n",
    "    println(BioLab.FeatureSetEnrichment.benchmark_random(n, n1))\n",
    "\n",
    "    @code_warntype BioLab.FeatureSetEnrichment.benchmark_random(n, n1)\n",
    "\n",
    "    @btime BioLab.FeatureSetEnrichment.benchmark_random($n, $n1)\n",
    "\n",
    "end"
   ],
   "id": "8df7230c-2484-41b7-88fa-c5f84fc11bcd",
   "metadata": {},
   "execution_count": null
  },
  {
   "cell_type": "markdown",
   "source": [
    "## benchmark_myc"
   ],
   "id": "8ffc2051-f39d-4bd4-b29c-de03c63bc0b9",
   "metadata": {}
  },
  {
   "outputs": [],
   "cell_type": "code",
   "source": [
    "BioLab.FeatureSetEnrichment.benchmark_myc()"
   ],
   "id": "35e4dd19-7f0a-40a7-a935-0bfb8bbf4bee",
   "metadata": {},
   "execution_count": null
  },
  {
   "outputs": [],
   "cell_type": "code",
   "source": [
    "@code_warntype BioLab.FeatureSetEnrichment.benchmark_myc()\n",
    "\n",
    "# 36.242 ms (585668 allocations: 96.25 MiB)\n",
    "@btime BioLab.FeatureSetEnrichment.benchmark_myc()"
   ],
   "id": "28d5b998-d4c5-469c-8888-900e7cf00f21",
   "metadata": {},
   "execution_count": null
  },
  {
   "cell_type": "markdown",
   "source": [
    "## Plot"
   ],
   "id": "8eba6a85-d2e4-436e-864e-6332848a718d",
   "metadata": {}
  },
  {
   "outputs": [],
   "cell_type": "code",
   "source": [
    "fe_, sc_, fe1_ = BioLab.FeatureSetEnrichment.benchmark_card(\"AK\")\n",
    "\n",
    "for al in (BioLab.FeatureSetEnrichment.KS(), BioLab.FeatureSetEnrichment.KLioM())\n",
    "\n",
    "    BioLab.FeatureSetEnrichment.score_set(\n",
    "        al,\n",
    "        fe_,\n",
    "        sc_,\n",
    "        fe1_;\n",
    "        title_text = string(al),\n",
    "        ht = joinpath(te, \"mountain.$al.html\"),\n",
    "    )\n",
    "\n",
    "end"
   ],
   "id": "8eba5711-7951-4d98-986d-7951f586ea92",
   "metadata": {},
   "execution_count": null
  },
  {
   "cell_type": "markdown",
   "source": [
    "## MYC"
   ],
   "id": "a9aef25c",
   "metadata": {}
  },
  {
   "outputs": [],
   "cell_type": "code",
   "source": [
    "fe_, sc_, fe1_ = BioLab.FeatureSetEnrichment.benchmark_myc()\n",
    "\n",
    "bo_ = BioLab.Vector.is_in(fe_, fe1_)\n",
    "\n",
    "fe_x_sa_x_sc = DataFrame(\n",
    "    \"Feature\" => fe_,\n",
    "    \"Score\" => sc_,\n",
    "    \"Score x 10\" => sc_ * 10.0,\n",
    "    \"Constant\" => fill(0.8, length(fe_)),\n",
    ")\n",
    "\n",
    "se_fe_ = BioLab.GMT.read(joinpath(@__DIR__, \"FeatureSetEnrichment.data\", \"h.all.v7.1.symbols.gmt\"))"
   ],
   "id": "efbcb846",
   "metadata": {},
   "execution_count": null
  },
  {
   "cell_type": "markdown",
   "source": [
    "## is_in"
   ],
   "id": "4259e03a-099f-4637-b93a-e8874c7f803f",
   "metadata": {}
  },
  {
   "outputs": [],
   "cell_type": "code",
   "source": [
    "# 743.583 μs (2 allocations: 19.67 KiB)\n",
    "@btime BioLab.Vector.is_in($fe_, $fe1_)\n",
    "\n",
    "# 499.417 μs (2 allocations: 19.67 KiB)\n",
    "@btime BioLab.Vector.is_in($fe_, $(Set(fe1_)))"
   ],
   "id": "bc9410ce-7e8f-476c-abaf-fca18c7a87c8",
   "metadata": {},
   "execution_count": null
  },
  {
   "cell_type": "markdown",
   "source": [
    "## KS"
   ],
   "id": "a96186be-9b04-4718-a2fc-408d81c31dac",
   "metadata": {}
  },
  {
   "outputs": [],
   "cell_type": "code",
   "source": [
    "al = BioLab.FeatureSetEnrichment.KS()"
   ],
   "id": "81f60fc4-59fb-4ad9-b905-2b3417c2fbea",
   "metadata": {},
   "execution_count": null
  },
  {
   "outputs": [],
   "cell_type": "code",
   "source": [
    "# 37.292 μs (0 allocations: 0 bytes)\n",
    "@btime BioLab.FeatureSetEnrichment._score_set($al, $fe_, $sc_, $bo_; pl = false)"
   ],
   "id": "938c96ff",
   "metadata": {},
   "execution_count": null
  },
  {
   "outputs": [],
   "cell_type": "code",
   "source": [
    "# 522.959 μs (11 allocations: 20.85 KiB)\n",
    "@btime BioLab.FeatureSetEnrichment.score_set($al, $fe_, $sc_, $bo_; pl = false)"
   ],
   "id": "e25e876b",
   "metadata": {},
   "execution_count": null
  },
  {
   "outputs": [],
   "cell_type": "code",
   "source": [
    "# 2.775 ms (322 allocations: 1.75 MiB)\n",
    "@btime BioLab.FeatureSetEnrichment.score_set($al, $fe_, $sc_, $se_fe_)"
   ],
   "id": "7af9e403",
   "metadata": {},
   "execution_count": null
  },
  {
   "outputs": [],
   "cell_type": "code",
   "source": [
    "# 11.540 ms (21178 allocations: 9.93 MiB)\n",
    "@btime BioLab.FeatureSetEnrichment.score_set($al, $fe_x_sa_x_sc, $se_fe_)"
   ],
   "id": "d1d27936",
   "metadata": {},
   "execution_count": null
  },
  {
   "cell_type": "markdown",
   "source": [
    "## KLi*"
   ],
   "id": "2124c72c-5ab0-4b5a-91a0-d090d209676e",
   "metadata": {}
  },
  {
   "outputs": [],
   "cell_type": "code",
   "source": [
    "al = BioLab.FeatureSetEnrichment.KLioM()"
   ],
   "id": "24a96829-cec0-4ef7-8918-831e5536cd49",
   "metadata": {},
   "execution_count": null
  },
  {
   "outputs": [],
   "cell_type": "code",
   "source": [
    "# 334.750 μs (0 allocations: 0 bytes)\n",
    "@btime BioLab.FeatureSetEnrichment._score_set($al, $fe_, $sc_, $bo_; pl = false)"
   ],
   "id": "2af0ca36",
   "metadata": {},
   "execution_count": null
  },
  {
   "outputs": [],
   "cell_type": "code",
   "source": [
    "# 820.250 μs (11 allocations: 20.85 KiB)\n",
    "@btime BioLab.FeatureSetEnrichment.score_set($al, $fe_, $sc_, $fe1_; pl = false)"
   ],
   "id": "40158295-7a5c-4050-98d1-5d4551312d13",
   "metadata": {},
   "execution_count": null
  },
  {
   "outputs": [],
   "cell_type": "code",
   "source": [
    "# 17.655 ms (322 allocations: 1.75 MiB)\n",
    "@btime BioLab.FeatureSetEnrichment.score_set($al, $fe_, $sc_, $se_fe_)"
   ],
   "id": "4f8f9080",
   "metadata": {},
   "execution_count": null
  },
  {
   "outputs": [],
   "cell_type": "code",
   "source": [
    "# 56.702 ms (21178 allocations: 9.93 MiB)\n",
    "@btime BioLab.FeatureSetEnrichment.score_set($al, $fe_x_sa_x_sc, $se_fe_)"
   ],
   "id": "50fe9862-5707-4130-a0b9-3969b412d00f",
   "metadata": {},
   "execution_count": null
  }
 ],
 "nbformat_minor": 5,
 "metadata": {
  "language_info": {
   "file_extension": ".jl",
   "mimetype": "application/julia",
   "name": "julia",
   "version": "1.8.5"
  },
  "@webio": {
   "lastKernelId": null,
   "lastCommId": null
  },
  "kernelspec": {
   "name": "julia-1.8",
   "display_name": "Julia 1.8.5",
   "language": "julia"
  }
 },
 "nbformat": 4
}
