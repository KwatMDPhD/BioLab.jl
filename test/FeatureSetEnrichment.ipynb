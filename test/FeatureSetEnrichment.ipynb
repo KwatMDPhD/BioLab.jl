{
 "cells": [
  {
   "outputs": [],
   "cell_type": "code",
   "source": [
    "using DataFrames\n",
    "\n",
    "using OnePiece"
   ],
   "id": "c516e796",
   "metadata": {},
   "execution_count": null
  },
  {
   "outputs": [],
   "cell_type": "code",
   "source": [
    "te = OnePiece.Path.make_temporary(\"OnePiece.test.FeatureSetEnrichment\")"
   ],
   "id": "8f2f5b35",
   "metadata": {},
   "execution_count": null
  },
  {
   "cell_type": "markdown",
   "source": [
    "## _match_algorithm"
   ],
   "id": "ca226778-1f56-4340-8def-b8ad2fa7bec5",
   "metadata": {}
  },
  {
   "outputs": [],
   "cell_type": "code",
   "source": [
    "for al in (\"ks\", \"ksa\", \"cidac\", \"\")\n",
    "\n",
    "    try\n",
    "\n",
    "        println(OnePiece.FeatureSetEnrichment._match_algorithm(al))\n",
    "\n",
    "    catch er\n",
    "\n",
    "        println(er)\n",
    "\n",
    "    end\n",
    "\n",
    "end"
   ],
   "id": "ba8a522d-6756-4823-aa17-701fbb3e6a96",
   "metadata": {},
   "execution_count": null
  },
  {
   "cell_type": "markdown",
   "source": [
    "## _sum_1_absolute_and_0_count"
   ],
   "id": "b5d26adb",
   "metadata": {}
  },
  {
   "outputs": [],
   "cell_type": "code",
   "source": [
    "OnePiece.FeatureSetEnrichment._sum_1_absolute_and_0_count(\n",
    "    [-2.0, -1, 0, 1, 2],\n",
    "    [true, true, false, false, true],\n",
    ")"
   ],
   "id": "559750a7-3063-4321-8ca6-33470449cb1e",
   "metadata": {},
   "execution_count": null
  },
  {
   "cell_type": "markdown",
   "source": [
    "## _cumulate"
   ],
   "id": "2aa30698",
   "metadata": {}
  },
  {
   "outputs": [],
   "cell_type": "code",
   "source": [
    "nu_ = [0.1, 0.2, 0.4, 0.2, 0.1]\n",
    "\n",
    ";"
   ],
   "id": "f45c4e4f",
   "metadata": {},
   "execution_count": null
  },
  {
   "outputs": [],
   "cell_type": "code",
   "source": [
    "cumsum(nu_)"
   ],
   "id": "90b86247",
   "metadata": {},
   "execution_count": null
  },
  {
   "outputs": [],
   "cell_type": "code",
   "source": [
    "1 .- cumsum(nu_)"
   ],
   "id": "e1f165b7",
   "metadata": {},
   "execution_count": null
  },
  {
   "outputs": [],
   "cell_type": "code",
   "source": [
    "OnePiece.FeatureSetEnrichment._cumulate(nu_)"
   ],
   "id": "4988ed4d",
   "metadata": {},
   "execution_count": null
  },
  {
   "cell_type": "markdown",
   "source": [
    "## _plot_mountain"
   ],
   "id": "416f5cc1",
   "metadata": {}
  },
  {
   "outputs": [],
   "cell_type": "code",
   "source": [
    "OnePiece.FeatureSetEnrichment._plot_mountain(\n",
    "    [\"Black Beard\", \"Law\"],\n",
    "    [-1.0, 1.0],\n",
    "    [true, false],\n",
    "    [-0.2, 0.1],\n",
    "    1129,\n",
    "    1101,\n",
    "    title_text = \"Winner\",\n",
    "    fe = \"Character\",\n",
    "    sc = \"Power\",\n",
    ")"
   ],
   "id": "ad1ee2bd",
   "metadata": {},
   "execution_count": null
  },
  {
   "cell_type": "markdown",
   "source": [
    "## make_benchmark"
   ],
   "id": "5c84331f",
   "metadata": {}
  },
  {
   "outputs": [],
   "cell_type": "code",
   "source": [
    "for ho in (\"card A2K\", \"random 3 2\", \"random 4 2\", \"random 5 3\", \"myc\")\n",
    "\n",
    "    println(\"=\"^99)\n",
    "\n",
    "    for re in OnePiece.FeatureSetEnrichment.make_benchmark(ho)\n",
    "\n",
    "        println(\"$(length(re)): $(first(re, 3))$(ifelse(3 < length(re), \"...\", \"\"))\")\n",
    "\n",
    "    end\n",
    "\n",
    "end"
   ],
   "id": "1ef6f051-c2ff-439d-aa72-5489fc41ef25",
   "metadata": {},
   "execution_count": null
  },
  {
   "cell_type": "markdown",
   "source": [
    "## score_set\n",
    "## score_set_new"
   ],
   "id": "642452fe-a528-480b-b374-6d270e8ed500",
   "metadata": {}
  },
  {
   "outputs": [],
   "cell_type": "code",
   "source": [
    "fe_, sc_, fe1_ = OnePiece.FeatureSetEnrichment.make_benchmark(\"card AK\")"
   ],
   "id": "87741f4a",
   "metadata": {},
   "execution_count": null
  },
  {
   "outputs": [],
   "cell_type": "code",
   "source": [
    "OnePiece.FeatureSetEnrichment.score_set(fe_, sc_, fe1_, ht = joinpath(te, \"mountain.html\"))"
   ],
   "id": "2c5d14d0",
   "metadata": {},
   "execution_count": null
  },
  {
   "outputs": [],
   "cell_type": "code",
   "source": [
    "OnePiece.FeatureSetEnrichment.score_set_new(fe_, sc_, fe1_, ht = joinpath(te, \"mountain_new.html\"))"
   ],
   "id": "60909b34",
   "metadata": {},
   "execution_count": null
  },
  {
   "cell_type": "markdown",
   "source": [
    "## score_set* myc"
   ],
   "id": "a9aef25c",
   "metadata": {}
  },
  {
   "outputs": [],
   "cell_type": "code",
   "source": [
    "fe_, sc_, fe1_ = OnePiece.FeatureSetEnrichment.make_benchmark(\"myc\")\n",
    "\n",
    "in_ = OnePiece.Vector.is_in(fe_, fe1_)\n",
    "\n",
    "fe_x_sa_x_sc = DataFrame(\n",
    "    \"Feature\" => fe_,\n",
    "    \"Score\" => sc_,\n",
    "    \"Score x 10\" => sc_ * 10,\n",
    "    \"Constant\" => fill(0.8, length(fe_)),\n",
    ")\n",
    "\n",
    "se_fe_ =\n",
    "    OnePiece.GMT.read(joinpath(@__DIR__, \"FeatureSetEnrichment.data\", \"h.all.v7.1.symbols.gmt\"))\n",
    "\n",
    ";"
   ],
   "id": "fd01b6d0",
   "metadata": {},
   "execution_count": null
  },
  {
   "cell_type": "markdown",
   "source": [
    "## score_set"
   ],
   "id": "29648e2e",
   "metadata": {}
  },
  {
   "outputs": [],
   "cell_type": "code",
   "source": [
    "OnePiece.FeatureSetEnrichment.score_set(fe_, sc_, fe1_, in_)"
   ],
   "id": "fb14dcef",
   "metadata": {},
   "execution_count": null
  },
  {
   "outputs": [],
   "cell_type": "code",
   "source": [
    "OnePiece.FeatureSetEnrichment.score_set(fe_, sc_, fe1_)"
   ],
   "id": "ca942b2a",
   "metadata": {},
   "execution_count": null
  },
  {
   "outputs": [],
   "cell_type": "code",
   "source": [
    "OnePiece.FeatureSetEnrichment.score_set(fe_, sc_, se_fe_)"
   ],
   "id": "cf091ae2",
   "metadata": {},
   "execution_count": null
  },
  {
   "outputs": [],
   "cell_type": "code",
   "source": [
    "OnePiece.FeatureSetEnrichment.score_set(fe_x_sa_x_sc, se_fe_)"
   ],
   "id": "d97a96a5",
   "metadata": {},
   "execution_count": null
  },
  {
   "cell_type": "markdown",
   "source": [
    "## score_set_new"
   ],
   "id": "0e091e7b",
   "metadata": {}
  },
  {
   "outputs": [],
   "cell_type": "code",
   "source": [
    "OnePiece.FeatureSetEnrichment.score_set_new(fe_, sc_, fe1_)"
   ],
   "id": "2f4480dc",
   "metadata": {},
   "execution_count": null
  },
  {
   "outputs": [],
   "cell_type": "code",
   "source": [
    "OnePiece.FeatureSetEnrichment.score_set_new(fe_, sc_, se_fe_)"
   ],
   "id": "c573a195",
   "metadata": {},
   "execution_count": null
  }
 ],
 "nbformat_minor": 5,
 "metadata": {
  "language_info": {
   "file_extension": ".jl",
   "mimetype": "application/julia",
   "name": "julia",
   "version": "1.8.2"
  },
  "@webio": {
   "lastKernelId": null,
   "lastCommId": null
  },
  "kernelspec": {
   "name": "julia-1.8",
   "display_name": "Julia 1.8.2",
   "language": "julia"
  }
 },
 "nbformat": 4
}
