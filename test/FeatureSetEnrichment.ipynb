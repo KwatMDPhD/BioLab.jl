{
 "cells": [
  {
   "outputs": [],
   "cell_type": "code",
   "source": [
    "using DataFrames\n",
    "\n",
    "include(\"_.jl\")\n",
    "\n",
    "te = BioLab.Path.make_temporary(\"BioLab.test.FeatureSetEnrichment\")"
   ],
   "id": "01970f5e-95ee-4f41-a28e-5aa203cffa81",
   "metadata": {},
   "execution_count": null
  },
  {
   "outputs": [],
   "cell_type": "code",
   "source": [
    "sc_ = [-2.0, -1, 0, 0, 1, 2]"
   ],
   "id": "dc867665-6faa-4b60-9e7b-bafdf05267ca",
   "metadata": {},
   "execution_count": null
  },
  {
   "cell_type": "markdown",
   "source": [
    "## _get_absolute_raise"
   ],
   "id": "25e79eef-cc42-4f6c-8c1d-15c3fcbf9e0d",
   "metadata": {}
  },
  {
   "outputs": [],
   "cell_type": "code",
   "source": [
    "id = 1\n",
    "\n",
    "for ex in (0.9, 1.0, 1.1, 2.0)\n",
    "\n",
    "    BioLab.String.print_header(ex)\n",
    "\n",
    "    # TODO: `@test`.\n",
    "    println(BioLab.FeatureSetEnrichment._get_absolute_raise(sc_, id, ex))\n",
    "\n",
    "    @code_warntype BioLab.FeatureSetEnrichment._get_absolute_raise(sc_, id, ex)\n",
    "\n",
    "    # 16.784 ns (0 allocations: 0 bytes)\n",
    "    # 2.458 ns (0 allocations: 0 bytes)\n",
    "    # 16.784 ns (0 allocations: 0 bytes)\n",
    "    # 5.500 ns (0 allocations: 0 bytes)\n",
    "    @btime BioLab.FeatureSetEnrichment._get_absolute_raise($sc_, $id, $ex)\n",
    "\n",
    "end"
   ],
   "id": "fd111c73-bf2d-4907-a7a3-3cf66664796e",
   "metadata": {},
   "execution_count": null
  },
  {
   "cell_type": "markdown",
   "source": [
    "## _sum\\_\\*_and\\_*"
   ],
   "id": "2a28b415-f352-4603-8d79-bfb9ff5b1a58",
   "metadata": {}
  },
  {
   "outputs": [],
   "cell_type": "code",
   "source": [
    "bo_ = [true, true, false, true, false, true]"
   ],
   "id": "b0df0c00-e537-43ea-b48b-40c1a81da0b1",
   "metadata": {},
   "execution_count": null
  },
  {
   "cell_type": "markdown",
   "source": [
    "## _sum_1_and_0"
   ],
   "id": "f5c232f6-c383-4c56-b0ff-9537f915bea1",
   "metadata": {}
  },
  {
   "outputs": [],
   "cell_type": "code",
   "source": [
    "for (ex, re) in ((1.0, (6, 5.0, 2.0)), (2.0, (6, 9.0, 2.0)))\n",
    "\n",
    "    BioLab.String.print_header(ex)\n",
    "\n",
    "    @test BioLab.FeatureSetEnrichment._sum_1_and_0(sc_, bo_, ex) == re\n",
    "\n",
    "    @code_warntype BioLab.FeatureSetEnrichment._sum_1_and_0(sc_, bo_, ex)\n",
    "\n",
    "    # 6.417 ns (0 allocations: 0 bytes)\n",
    "    # 19.121 ns (0 allocations: 0 bytes)    \n",
    "    @btime BioLab.FeatureSetEnrichment._sum_1_and_0($sc_, $bo_, $ex)\n",
    "\n",
    "end"
   ],
   "id": "6066b385-8e02-44f6-a434-1bb35bfcc285",
   "metadata": {},
   "execution_count": null
  },
  {
   "cell_type": "markdown",
   "source": [
    "## _sum_all_and_1"
   ],
   "id": "f96e9110-3602-43cf-96ae-d608a35798c6",
   "metadata": {}
  },
  {
   "outputs": [],
   "cell_type": "code",
   "source": [
    "for (ex, re) in ((1.0, (6, 6.0, 5.0)), (2.0, (6, 10.0, 9.0)))\n",
    "\n",
    "    BioLab.String.print_header(ex)\n",
    "\n",
    "    @test BioLab.FeatureSetEnrichment._sum_all_and_1(sc_, bo_, ex) == re\n",
    "\n",
    "    @code_warntype BioLab.FeatureSetEnrichment._sum_all_and_1(sc_, bo_, ex)\n",
    "\n",
    "    # 7.791 ns (0 allocations: 0 bytes)\n",
    "    # 22.233 ns (0 allocations: 0 bytes)\n",
    "    @btime BioLab.FeatureSetEnrichment._sum_all_and_1($sc_, $bo_, $ex)\n",
    "\n",
    "end"
   ],
   "id": "f73fe1f6-8629-4ab6-b450-34f3c6546634",
   "metadata": {},
   "execution_count": null
  },
  {
   "cell_type": "markdown",
   "source": [
    "## _plot_mountain"
   ],
   "id": "416f5cc1",
   "metadata": {}
  },
  {
   "outputs": [],
   "cell_type": "code",
   "source": [
    "BioLab.FeatureSetEnrichment._plot_mountain(\n",
    "    [\"Black Beard\", \"Law\"],\n",
    "    [-1.0, 1.0],\n",
    "    [true, false],\n",
    "    [-0.2, 0.1],\n",
    "    1129;\n",
    "    title_text = \"Winner\",\n",
    "    fe = \"Character\",\n",
    "    sc = \"Power\",\n",
    ")\n",
    "\n",
    "@code_warntype BioLab.FeatureSetEnrichment._plot_mountain(\n",
    "    [\"Black Beard\", \"Law\"],\n",
    "    [-1.0, 1.0],\n",
    "    [true, false],\n",
    "    [-0.2, 0.1],\n",
    "    1129;\n",
    "    title_text = \"Winner\",\n",
    "    fe = \"Character\",\n",
    "    sc = \"Power\",\n",
    ")"
   ],
   "id": "a858ed9c-4ba6-40d1-bd7b-a321a21421db",
   "metadata": {},
   "execution_count": null
  },
  {
   "cell_type": "markdown",
   "source": [
    "## benchmark_card"
   ],
   "id": "ef788110-4424-49ad-a941-2aae139ccec2",
   "metadata": {}
  },
  {
   "outputs": [],
   "cell_type": "code",
   "source": [
    "ca1 = \"A2K\"\n",
    "\n",
    "# TODO: `@test`.\n",
    "display(BioLab.FeatureSetEnrichment.benchmark_card(ca1))\n",
    "\n",
    "@code_warntype BioLab.FeatureSetEnrichment.benchmark_card(ca1)\n",
    "\n",
    "# 46.970 ns (2 allocations: 240 bytes)\n",
    "@btime BioLab.FeatureSetEnrichment.benchmark_card($ca1)"
   ],
   "id": "2926cd2e-9d0a-493d-998b-627ffd1b6095",
   "metadata": {},
   "execution_count": null
  },
  {
   "cell_type": "markdown",
   "source": [
    "## benchmark_random"
   ],
   "id": "c25b24d6-2dd5-4a18-b6b5-9798e69a1f46",
   "metadata": {}
  },
  {
   "outputs": [],
   "cell_type": "code",
   "source": [
    "for (n, n1) in ((3, 2), (4, 2), (5, 3))\n",
    "\n",
    "    BioLab.String.print_header(\"$n $n1\")\n",
    "\n",
    "    # TODO: `@test`.\n",
    "    display(BioLab.FeatureSetEnrichment.benchmark_random(n, n1))\n",
    "\n",
    "    @code_warntype BioLab.FeatureSetEnrichment.benchmark_random(n, n1)\n",
    "\n",
    "    # 1.083 μs (30 allocations: 1.81 KiB)\n",
    "    # 1.142 μs (34 allocations: 2.02 KiB)    \n",
    "    # 1.312 μs (41 allocations: 2.47 KiB)    \n",
    "    @btime BioLab.FeatureSetEnrichment.benchmark_random($n, $n1)\n",
    "\n",
    "end"
   ],
   "id": "8df7230c-2484-41b7-88fa-c5f84fc11bcd",
   "metadata": {},
   "execution_count": null
  },
  {
   "cell_type": "markdown",
   "source": [
    "## benchmark_myc"
   ],
   "id": "8ffc2051-f39d-4bd4-b29c-de03c63bc0b9",
   "metadata": {}
  },
  {
   "outputs": [],
   "cell_type": "code",
   "source": [
    "# TODO: `@test`.\n",
    "display(BioLab.FeatureSetEnrichment.benchmark_myc())\n",
    "\n",
    "@code_warntype BioLab.FeatureSetEnrichment.benchmark_myc()\n",
    "\n",
    "# 34.414 ms (580131 allocations: 96.05 MiB)\n",
    "@btime BioLab.FeatureSetEnrichment.benchmark_myc()"
   ],
   "id": "cd50d831-1a23-4b79-9746-b6bf557c3db2",
   "metadata": {},
   "execution_count": null
  },
  {
   "cell_type": "markdown",
   "source": [
    "## Example"
   ],
   "id": "8eba6a85-d2e4-436e-864e-6332848a718d",
   "metadata": {}
  },
  {
   "outputs": [],
   "cell_type": "code",
   "source": [
    "fe_, sc_, fe1_ = BioLab.FeatureSetEnrichment.benchmark_card(\"AK\")\n",
    "\n",
    "for al in (BioLab.FeatureSetEnrichment.KS(), BioLab.FeatureSetEnrichment.KLioM())\n",
    "\n",
    "    BioLab.FeatureSetEnrichment.score_set(\n",
    "        al,\n",
    "        fe_,\n",
    "        sc_,\n",
    "        fe1_;\n",
    "        title_text = string(al),\n",
    "        ht = joinpath(te, \"mountain.$al.html\"),\n",
    "    )\n",
    "\n",
    "end"
   ],
   "id": "8eba5711-7951-4d98-986d-7951f586ea92",
   "metadata": {},
   "execution_count": null
  },
  {
   "outputs": [],
   "cell_type": "code",
   "source": [
    "fe_, sc_, fe1_ = BioLab.FeatureSetEnrichment.benchmark_myc()\n",
    "\n",
    "bo_ = BioLab.Collection.is_in(fe_, fe1_)\n",
    "\n",
    "fe_x_sa_x_sc = DataFrame(\n",
    "    \"Feature\" => fe_,\n",
    "    \"Score\" => sc_,\n",
    "    \"Score x 10\" => sc_ * 10.0,\n",
    "    \"Constant\" => fill(0.8, length(fe_)),\n",
    ")\n",
    "\n",
    "se_fe_ = BioLab.GMT.read(joinpath(@__DIR__, \"FeatureSetEnrichment.data\", \"h.all.v7.1.symbols.gmt\"))"
   ],
   "id": "efbcb846",
   "metadata": {},
   "execution_count": null
  },
  {
   "cell_type": "markdown",
   "source": [
    "## score_set (KS)"
   ],
   "id": "a96186be-9b04-4718-a2fc-408d81c31dac",
   "metadata": {}
  },
  {
   "outputs": [],
   "cell_type": "code",
   "source": [
    "al = BioLab.FeatureSetEnrichment.KS()\n",
    "\n",
    "# 45.584 μs (0 allocations: 0 bytes)\n",
    "@btime BioLab.FeatureSetEnrichment._score_set($al, $fe_, $sc_, $bo_; pl = false)\n",
    "\n",
    "# 331.875 μs (6 allocations: 19.95 KiB)\n",
    "@btime BioLab.FeatureSetEnrichment.score_set($al, $fe_, $sc_, $bo_; pl = false)\n",
    "\n",
    "# 3.240 ms (114 allocations: 1.50 MiB)\n",
    "@btime BioLab.FeatureSetEnrichment.score_set($al, $fe_, $sc_, $se_fe_)\n",
    "\n",
    "# 11.463 ms (489 allocations: 8.62 MiB)\n",
    "@btime BioLab.FeatureSetEnrichment.score_set($al, $fe_x_sa_x_sc, $se_fe_)"
   ],
   "id": "cbfdf8df-4fa5-41e2-9ec7-5ade67253a2e",
   "metadata": {},
   "execution_count": null
  },
  {
   "cell_type": "markdown",
   "source": [
    "## score_set (KLi)"
   ],
   "id": "969fe828-a890-46a4-a721-5df63cea6c5c",
   "metadata": {}
  },
  {
   "outputs": [],
   "cell_type": "code",
   "source": [
    "al = BioLab.FeatureSetEnrichment.KLi()\n",
    "\n",
    "# 222.208 μs (0 allocations: 0 bytes)\n",
    "@btime BioLab.FeatureSetEnrichment._score_set($al, $fe_, $sc_, $bo_; pl = false)\n",
    "\n",
    "# 745.625 μs (9 allocations: 20.80 KiB)\n",
    "@btime BioLab.FeatureSetEnrichment.score_set($al, $fe_, $sc_, $fe1_; pl = false)\n",
    "\n",
    "# 12.131 ms (114 allocations: 1.50 MiB)\n",
    "@btime BioLab.FeatureSetEnrichment.score_set($al, $fe_, $sc_, $se_fe_)\n",
    "\n",
    "# 38.171 ms (489 allocations: 8.62 MiB)\n",
    "@btime BioLab.FeatureSetEnrichment.score_set($al, $fe_x_sa_x_sc, $se_fe_)"
   ],
   "id": "74a33a32-55e8-4aee-b848-cacd1a00ea7b",
   "metadata": {},
   "execution_count": null
  },
  {
   "cell_type": "markdown",
   "source": [
    "## score_set (KLioM)"
   ],
   "id": "2124c72c-5ab0-4b5a-91a0-d090d209676e",
   "metadata": {}
  },
  {
   "outputs": [],
   "cell_type": "code",
   "source": [
    "al = BioLab.FeatureSetEnrichment.KLioM()\n",
    "\n",
    "# 364.458 μs (0 allocations: 0 bytes)\n",
    "@btime BioLab.FeatureSetEnrichment._score_set($al, $fe_, $sc_, $bo_; pl = false)\n",
    "\n",
    "# 891.125 μs (9 allocations: 20.80 KiB)\n",
    "@btime BioLab.FeatureSetEnrichment.score_set($al, $fe_, $sc_, $fe1_; pl = false)\n",
    "\n",
    "# 19.248 ms (114 allocations: 1.50 MiB)\n",
    "@btime BioLab.FeatureSetEnrichment.score_set($al, $fe_, $sc_, $se_fe_)\n",
    "\n",
    "# 59.793 ms (489 allocations: 8.62 MiB)\n",
    "@btime BioLab.FeatureSetEnrichment.score_set($al, $fe_x_sa_x_sc, $se_fe_)"
   ],
   "id": "28437637-fb48-4c45-8848-315caef2dae3",
   "metadata": {},
   "execution_count": null
  }
 ],
 "nbformat_minor": 5,
 "metadata": {
  "language_info": {
   "file_extension": ".jl",
   "mimetype": "application/julia",
   "name": "julia",
   "version": "1.8.5"
  },
  "@webio": {
   "lastKernelId": null,
   "lastCommId": null
  },
  "kernelspec": {
   "name": "julia-1.8",
   "display_name": "Julia 1.8.5",
   "language": "julia"
  }
 },
 "nbformat": 4
}
