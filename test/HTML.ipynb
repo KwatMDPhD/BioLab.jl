{
 "cells": [
  {
   "outputs": [],
   "cell_type": "code",
   "source": [
    "using OnePiece"
   ],
   "id": "baf12f00",
   "metadata": {},
   "execution_count": null
  },
  {
   "cell_type": "markdown",
   "source": [
    "## make"
   ],
   "id": "07cba447",
   "metadata": {}
  },
  {
   "outputs": [],
   "cell_type": "code",
   "source": [
    "println(displayable(\"html\"))\n",
    "\n",
    "OnePiece.HTML.make(\n",
    "    \"DIV_ID\",\n",
    "    (\"SOURCE1\", \"SOURCE2\"),\n",
    "    \"SCRIPT\",\n",
    "    joinpath(OnePiece.Path.make_temporary(\"OnePiece.test.HTML\"), \"name.html\"),\n",
    ")"
   ],
   "id": "f0b8b2cf",
   "metadata": {},
   "execution_count": null
  },
  {
   "outputs": [],
   "cell_type": "code",
   "source": [
    "jl = \"\"\"\n",
    "using OnePiece\n",
    "\n",
    "println(displayable(\"html\"))\n",
    "\n",
    "OnePiece.HTML.make(\n",
    "    \"DIV_ID\",\n",
    "    (\"SOURCE1\", \"SOURCE2\"),\n",
    "    \"SCRIPT\",\n",
    "    joinpath(OnePiece.Path.make_temporary(\"OnePiece.test.HTML\"), \"name.html\"),\n",
    ")\n",
    "\"\"\"\n",
    "\n",
    "run(`julia --project --eval $jl`)"
   ],
   "id": "87851ba9-4222-48a1-9b74-7d1d7da26507",
   "metadata": {},
   "execution_count": null
  }
 ],
 "nbformat_minor": 5,
 "metadata": {
  "language_info": {
   "file_extension": ".jl",
   "mimetype": "application/julia",
   "name": "julia",
   "version": "1.8.2"
  },
  "kernelspec": {
   "name": "julia-1.8",
   "display_name": "Julia 1.8.2",
   "language": "julia"
  }
 },
 "nbformat": 4
}
