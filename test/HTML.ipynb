{
 "cells": [
  {
   "outputs": [],
   "cell_type": "code",
   "source": [
    "using OnePiece"
   ],
   "id": "baf12f00",
   "metadata": {},
   "execution_count": null
  },
  {
   "cell_type": "markdown",
   "source": [
    "## make"
   ],
   "id": "07cba447",
   "metadata": {}
  },
  {
   "outputs": [],
   "cell_type": "code",
   "source": [
    "OnePiece.HTML.make(\n",
    "    \"DIV_ID\",\n",
    "    (\"SOURCE1\", \"SOURCE2\"),\n",
    "    \"SCRIPT\",\n",
    "    joinpath(OnePiece.Path.make_temporary(\"OnePiece.test.HTML\"), \"name.html\"),\n",
    ")"
   ],
   "id": "f0b8b2cf",
   "metadata": {},
   "execution_count": null
  }
 ],
 "nbformat_minor": 5,
 "metadata": {
  "language_info": {
   "file_extension": ".jl",
   "mimetype": "application/julia",
   "name": "julia",
   "version": "1.8.2"
  },
  "kernelspec": {
   "name": "julia-1.8",
   "display_name": "Julia 1.8.2",
   "language": "julia"
  }
 },
 "nbformat": 4
}
