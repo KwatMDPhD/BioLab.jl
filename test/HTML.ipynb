{
 "cells": [
  {
   "outputs": [],
   "cell_type": "code",
   "source": [
    "include(\"_.jl\")"
   ],
   "id": "baf12f00",
   "metadata": {},
   "execution_count": null
  },
  {
   "cell_type": "markdown",
   "source": [
    "## make"
   ],
   "id": "07cba447",
   "metadata": {}
  },
  {
   "outputs": [],
   "cell_type": "code",
   "source": [
    "di = \"DIV_ID\"\n",
    "\n",
    "so_ = (\"SOURCE1\", \"SOURCE2\")\n",
    "\n",
    "sc = \"SCRIPT\"\n",
    "\n",
    "ht = joinpath(BioLab.Path.make_temporary(\"BioLab.test.HTML\"), \"name.html\")\n",
    "\n",
    "println(displayable(\"html\"))\n",
    "\n",
    "BioLab.HTML.write(di, so_, sc; ht)"
   ],
   "id": "4426079a-803a-4dce-a10b-89d6ef691847",
   "metadata": {},
   "execution_count": null
  },
  {
   "outputs": [],
   "cell_type": "code",
   "source": [
    "jl = \"\"\"\n",
    "println(displayable(\"html\"))\n",
    "\n",
    "using BioLab\n",
    "\n",
    "BioLab.HTML.write(\"$di\", $so_, \"$sc\")\n",
    "\"\"\"\n",
    "\n",
    "run(`julia --project --eval $jl`)"
   ],
   "id": "87851ba9-4222-48a1-9b74-7d1d7da26507",
   "metadata": {},
   "execution_count": null
  },
  {
   "outputs": [],
   "cell_type": "code",
   "source": [
    "@code_warntype BioLab.HTML.write(di, so_, sc)"
   ],
   "id": "2826d11b-80df-4f04-950a-40637d53cc6d",
   "metadata": {},
   "execution_count": null
  }
 ],
 "nbformat_minor": 5,
 "metadata": {
  "language_info": {
   "file_extension": ".jl",
   "mimetype": "application/julia",
   "name": "julia",
   "version": "1.8.5"
  },
  "kernelspec": {
   "name": "julia-1.8",
   "display_name": "Julia 1.8.5",
   "language": "julia"
  }
 },
 "nbformat": 4
}
