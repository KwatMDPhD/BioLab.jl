{
 "cells": [
  {
   "outputs": [],
   "cell_type": "code",
   "source": [
    "include(\"_.jl\")"
   ],
   "id": "baf12f00",
   "metadata": {},
   "execution_count": null
  },
  {
   "cell_type": "markdown",
   "source": [
    "## write"
   ],
   "id": "07cba447",
   "metadata": {}
  },
  {
   "outputs": [],
   "cell_type": "code",
   "source": [
    "di = \"DIV_ID\"\n",
    "\n",
    "so_ = (\"SOURCE1\", \"SOURCE2\")\n",
    "\n",
    "sc = \"SCRIPT\"\n",
    "\n",
    "ht = joinpath(BioLab.Path.make_temporary(\"BioLab.test.HTML\"), \"name.html\")\n",
    "\n",
    "display(displayable(\"html\"))\n",
    "\n",
    "BioLab.HTML.write(di, so_, sc; ht)\n",
    "\n",
    "jl = \"\"\"\n",
    "display(displayable(\"html\"))\n",
    "\n",
    "using BioLab\n",
    "\n",
    "BioLab.HTML.write(\"$di\", $so_, \"$sc\")\n",
    "\"\"\"\n",
    "\n",
    "run(`julia --project --eval $jl`)\n",
    "\n",
    "# @code_warntype BioLab.HTML.write(di, so_, sc)"
   ],
   "id": "7d3fe996-d743-4e4b-8410-ca8c475b1897",
   "metadata": {},
   "execution_count": null
  }
 ],
 "nbformat_minor": 5,
 "metadata": {
  "language_info": {
   "file_extension": ".jl",
   "mimetype": "application/julia",
   "name": "julia",
   "version": "1.8.5"
  },
  "kernelspec": {
   "name": "julia-1.8",
   "display_name": "Julia 1.8.5",
   "language": "julia"
  }
 },
 "nbformat": 4
}
