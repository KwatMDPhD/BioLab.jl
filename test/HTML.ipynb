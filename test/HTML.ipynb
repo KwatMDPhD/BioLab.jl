{
 "cells": [
  {
   "cell_type": "code",
   "execution_count": null,
   "id": "baf12f00",
   "metadata": {
    "execution": {
     "iopub.execute_input": "2023-02-23T14:53:58.905000Z",
     "iopub.status.busy": "2023-02-23T14:53:58.613000Z",
     "iopub.status.idle": "2023-02-23T14:54:02.806000Z",
     "shell.execute_reply": "2023-02-23T14:54:02.782000Z"
    }
   },
   "outputs": [],
   "source": [
    "include(\"_.jl\")"
   ]
  },
  {
   "cell_type": "markdown",
   "id": "07cba447",
   "metadata": {},
   "source": [
    "## write"
   ]
  },
  {
   "cell_type": "code",
   "execution_count": null,
   "id": "7d3fe996-d743-4e4b-8410-ca8c475b1897",
   "metadata": {
    "execution": {
     "iopub.execute_input": "2023-02-23T14:54:02.965000Z",
     "iopub.status.busy": "2023-02-23T14:54:02.807000Z",
     "iopub.status.idle": "2023-02-23T14:54:09.756000Z",
     "shell.execute_reply": "2023-02-23T14:54:09.756000Z"
    }
   },
   "outputs": [],
   "source": [
    "di = \"DIV_ID\"\n",
    "\n",
    "so_ = (\"SOURCE1\", \"SOURCE2\")\n",
    "\n",
    "sc = \"SCRIPT\"\n",
    "\n",
    "ht = joinpath(BioLab.Path.make_temporary(\"BioLab.test.HTML\"), \"name.html\")\n",
    "\n",
    "display(displayable(\"html\"))\n",
    "\n",
    "BioLab.HTML.write(di, so_, sc; ht)\n",
    "\n",
    "jl = \"\"\"\n",
    "display(displayable(\"html\"))\n",
    "\n",
    "using BioLab\n",
    "\n",
    "BioLab.HTML.write(\"$di\", $so_, \"$sc\")\n",
    "\"\"\"\n",
    "\n",
    "run(`julia --project --eval $jl`)\n",
    "\n",
    "@code_warntype BioLab.HTML.write(di, so_, sc)"
   ]
  }
 ],
 "metadata": {
  "kernelspec": {
   "display_name": "Julia 1.8.5",
   "language": "julia",
   "name": "julia-1.8"
  },
  "language_info": {
   "file_extension": ".jl",
   "mimetype": "application/julia",
   "name": "julia",
   "version": "1.8.5"
  }
 },
 "nbformat": 4,
 "nbformat_minor": 5
}
