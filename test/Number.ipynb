{
 "cells": [
  {
   "cell_type": "code",
   "execution_count": null,
   "id": "baf12f00",
   "metadata": {
    "execution": {
     "iopub.execute_input": "2023-02-23T14:56:26.148000Z",
     "iopub.status.busy": "2023-02-23T14:56:25.868000Z",
     "iopub.status.idle": "2023-02-23T14:56:30.067000Z",
     "shell.execute_reply": "2023-02-23T14:56:30.042000Z"
    }
   },
   "outputs": [],
   "source": [
    "include(\"_.jl\")"
   ]
  },
  {
   "cell_type": "markdown",
   "id": "b658c637-c649-4d47-9664-7fac0d280d9c",
   "metadata": {},
   "source": [
    "## format"
   ]
  },
  {
   "cell_type": "code",
   "execution_count": null,
   "id": "ff320eb4-297e-41c1-80e6-0517394a4e56",
   "metadata": {
    "execution": {
     "iopub.execute_input": "2023-02-23T14:56:30.222000Z",
     "iopub.status.busy": "2023-02-23T14:56:30.068000Z",
     "iopub.status.idle": "2023-02-23T14:56:33.420000Z",
     "shell.execute_reply": "2023-02-23T14:56:33.419000Z"
    }
   },
   "outputs": [],
   "source": [
    "for nu in (-0, 0, -0.0, 0.0, 1 / 3, 0.1234567890123456789, 0.001, 0.000001)\n",
    "\n",
    "    BioLab.String.print_header(nu)\n",
    "\n",
    "    # TODO: `@test`.\n",
    "    display(BioLab.Number.format(nu))\n",
    "\n",
    "    @code_warntype BioLab.Number.format(nu)\n",
    "\n",
    "    # 91.048 ns (2 allocations: 432 bytes)\n",
    "    # 91.055 ns (2 allocations: 432 bytes)\n",
    "    # 89.770 ns (2 allocations: 432 bytes)\n",
    "    # 89.734 ns (2 allocations: 432 bytes)\n",
    "    # 113.063 ns (2 allocations: 432 bytes)\n",
    "    # 118.540 ns (2 allocations: 432 bytes)\n",
    "    # 111.486 ns (2 allocations: 432 bytes)\n",
    "    # 178.837 ns (2 allocations: 432 bytes)\n",
    "    # @btime BioLab.Number.format($nu)\n",
    "\n",
    "end"
   ]
  },
  {
   "cell_type": "markdown",
   "id": "995d23e7-2534-4b52-bf7c-cb356c48118d",
   "metadata": {},
   "source": [
    "## rank_in_fraction"
   ]
  },
  {
   "cell_type": "code",
   "execution_count": null,
   "id": "2de1f19a-f173-4d7b-a6f1-a26528537432",
   "metadata": {
    "execution": {
     "iopub.execute_input": "2023-02-23T14:56:33.421000Z",
     "iopub.status.busy": "2023-02-23T14:56:33.420000Z",
     "iopub.status.idle": "2023-02-23T14:56:33.744000Z",
     "shell.execute_reply": "2023-02-23T14:56:33.744000Z"
    }
   },
   "outputs": [],
   "source": [
    "for it in 0:28\n",
    "\n",
    "    # TODO: `@test`.\n",
    "    display(BioLab.Number.rank_in_fraction(it))\n",
    "\n",
    "end\n",
    "\n",
    "for it in (0, 7, 17)\n",
    "\n",
    "    BioLab.String.print_header(it)\n",
    "\n",
    "    @code_warntype BioLab.Number.rank_in_fraction(it)\n",
    "\n",
    "    # 24.096 ns (0 allocations: 0 bytes)\n",
    "    # 24.054 ns (0 allocations: 0 bytes)    \n",
    "    # 30.905 ns (0 allocations: 0 bytes)    \n",
    "    # @btime BioLab.Number.rank_in_fraction($it)\n",
    "\n",
    "end"
   ]
  }
 ],
 "metadata": {
  "kernelspec": {
   "display_name": "Julia 1.8.5",
   "language": "julia",
   "name": "julia-1.8"
  },
  "language_info": {
   "file_extension": ".jl",
   "mimetype": "application/julia",
   "name": "julia",
   "version": "1.8.5"
  }
 },
 "nbformat": 4,
 "nbformat_minor": 5
}
