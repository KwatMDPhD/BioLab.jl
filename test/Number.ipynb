{
 "cells": [
  {
   "outputs": [],
   "cell_type": "code",
   "source": [
    "include(\"_.jl\")"
   ],
   "id": "baf12f00",
   "metadata": {},
   "execution_count": null
  },
  {
   "cell_type": "markdown",
   "source": [
    "## format"
   ],
   "id": "b658c637-c649-4d47-9664-7fac0d280d9c",
   "metadata": {}
  },
  {
   "outputs": [],
   "cell_type": "code",
   "source": [
    "for nu in (-0, 0, -0.0, 0.0, 1 / 3, 0.1234567890123456789, 0.001, 0.000001)\n",
    "\n",
    "    BioLab.print_header(nu)\n",
    "\n",
    "    # TODO: `@test`.\n",
    "    display(BioLab.Number.format(nu))\n",
    "\n",
    "    # @code_warntype BioLab.Number.format(nu)\n",
    "\n",
    "    # 91.048 ns (2 allocations: 432 bytes)\n",
    "    # 91.055 ns (2 allocations: 432 bytes)\n",
    "    # 89.770 ns (2 allocations: 432 bytes)\n",
    "    # 89.734 ns (2 allocations: 432 bytes)\n",
    "    # 113.063 ns (2 allocations: 432 bytes)\n",
    "    # 118.540 ns (2 allocations: 432 bytes)\n",
    "    # 111.486 ns (2 allocations: 432 bytes)\n",
    "    # 178.837 ns (2 allocations: 432 bytes)\n",
    "    # @btime BioLab.Number.format($nu)\n",
    "\n",
    "end"
   ],
   "id": "ff320eb4-297e-41c1-80e6-0517394a4e56",
   "metadata": {},
   "execution_count": null
  },
  {
   "cell_type": "markdown",
   "source": [
    "## rank_in_fraction"
   ],
   "id": "995d23e7-2534-4b52-bf7c-cb356c48118d",
   "metadata": {}
  },
  {
   "outputs": [],
   "cell_type": "code",
   "source": [
    "for it in 0:28\n",
    "\n",
    "    # TODO: `@test`.\n",
    "    display(BioLab.Number.rank_in_fraction(it))\n",
    "\n",
    "end\n",
    "\n",
    "for it in (0, 7, 17)\n",
    "\n",
    "    BioLab.print_header(it)\n",
    "\n",
    "    # @code_warntype BioLab.Number.rank_in_fraction(it)\n",
    "\n",
    "    # 24.096 ns (0 allocations: 0 bytes)\n",
    "    # 24.054 ns (0 allocations: 0 bytes)    \n",
    "    # 30.905 ns (0 allocations: 0 bytes)    \n",
    "    # @btime BioLab.Number.rank_in_fraction($it)\n",
    "\n",
    "end"
   ],
   "id": "2de1f19a-f173-4d7b-a6f1-a26528537432",
   "metadata": {},
   "execution_count": null
  }
 ],
 "nbformat_minor": 5,
 "metadata": {
  "language_info": {
   "file_extension": ".jl",
   "mimetype": "application/julia",
   "name": "julia",
   "version": "1.8.5"
  },
  "kernelspec": {
   "name": "julia-1.8",
   "display_name": "Julia 1.8.5",
   "language": "julia"
  }
 },
 "nbformat": 4
}
