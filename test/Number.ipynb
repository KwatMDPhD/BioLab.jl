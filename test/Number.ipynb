{
 "cells": [
  {
   "outputs": [],
   "cell_type": "code",
   "source": [
    "include(\"_.jl\")"
   ],
   "id": "baf12f00",
   "metadata": {},
   "execution_count": null
  },
  {
   "cell_type": "markdown",
   "source": [
    "## format"
   ],
   "id": "b658c637-c649-4d47-9664-7fac0d280d9c",
   "metadata": {}
  },
  {
   "outputs": [],
   "cell_type": "code",
   "source": [
    "for nu in (\n",
    "    -0, # 91.048 ns (2 allocations: 432 bytes)\n",
    "    0, # 91.055 ns (2 allocations: 432 bytes)\n",
    "    -0.0, # 89.770 ns (2 allocations: 432 bytes)\n",
    "    0.0, # 89.734 ns (2 allocations: 432 bytes)\n",
    "    1 / 3, # 113.063 ns (2 allocations: 432 bytes)\n",
    "    0.1234567890123456789, # 118.540 ns (2 allocations: 432 bytes)\n",
    "    0.001, # 111.486 ns (2 allocations: 432 bytes)\n",
    "    0.000001, # 178.837 ns (2 allocations: 432 bytes)\n",
    ")\n",
    "\n",
    "    BioLab.String.print_header(nu)\n",
    "\n",
    "    # TODO: @test.\n",
    "    display(BioLab.Number.format(nu))\n",
    "\n",
    "    @code_warntype BioLab.Number.format(nu)\n",
    "\n",
    "    @btime BioLab.Number.format($nu)\n",
    "\n",
    "end"
   ],
   "id": "ff320eb4-297e-41c1-80e6-0517394a4e56",
   "metadata": {},
   "execution_count": null
  },
  {
   "cell_type": "markdown",
   "source": [
    "## rank_in_fraction"
   ],
   "id": "6540eb5c",
   "metadata": {}
  },
  {
   "outputs": [],
   "cell_type": "code",
   "source": [
    "for it in 0:28\n",
    "\n",
    "    # TODO: @test.\n",
    "    display(BioLab.Number.rank_in_fraction(it))\n",
    "\n",
    "end\n",
    "\n",
    "for it in (\n",
    "    0, # 24.096 ns (0 allocations: 0 bytes)\n",
    "    7, # 24.054 ns (0 allocations: 0 bytes)\n",
    "    17, # 30.905 ns (0 allocations: 0 bytes)\n",
    ")\n",
    "\n",
    "    BioLab.String.print_header(it)\n",
    "\n",
    "    @code_warntype BioLab.Number.rank_in_fraction(it)\n",
    "\n",
    "    @btime BioLab.Number.rank_in_fraction($it)\n",
    "\n",
    "end"
   ],
   "id": "2de1f19a-f173-4d7b-a6f1-a26528537432",
   "metadata": {},
   "execution_count": null
  }
 ],
 "nbformat_minor": 5,
 "metadata": {
  "language_info": {
   "file_extension": ".jl",
   "mimetype": "application/julia",
   "name": "julia",
   "version": "1.8.5"
  },
  "kernelspec": {
   "name": "julia-1.8",
   "display_name": "Julia 1.8.5",
   "language": "julia"
  }
 },
 "nbformat": 4
}
