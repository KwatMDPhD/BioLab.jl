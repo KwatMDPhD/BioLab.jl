{
 "cells": [
  {
   "outputs": [],
   "cell_type": "code",
   "source": [
    "using BioLab"
   ],
   "id": "baf12f00",
   "metadata": {},
   "execution_count": null
  },
  {
   "cell_type": "markdown",
   "source": [
    "## format"
   ],
   "id": "b658c637-c649-4d47-9664-7fac0d280d9c",
   "metadata": {}
  },
  {
   "outputs": [],
   "cell_type": "code",
   "source": [
    "for nu in (-0, 0, -0.0, 0.0, 1 / 3, 0.1234567890123456789, 0.001, 0.000001)\n",
    "\n",
    "    println(BioLab.Number.format(nu))\n",
    "\n",
    "end"
   ],
   "id": "ff320eb4-297e-41c1-80e6-0517394a4e56",
   "metadata": {},
   "execution_count": null
  },
  {
   "cell_type": "markdown",
   "source": [
    "## rank_in_fraction"
   ],
   "id": "6540eb5c",
   "metadata": {}
  },
  {
   "outputs": [],
   "cell_type": "code",
   "source": [
    "for it in 1:28\n",
    "\n",
    "    println(BioLab.Number.rank_in_fraction(it))\n",
    "\n",
    "end"
   ],
   "id": "fa72c273",
   "metadata": {},
   "execution_count": null
  }
 ],
 "nbformat_minor": 5,
 "metadata": {
  "language_info": {
   "file_extension": ".jl",
   "mimetype": "application/julia",
   "name": "julia",
   "version": "1.8.5"
  },
  "kernelspec": {
   "name": "julia-1.8",
   "display_name": "Julia 1.8.5",
   "language": "julia"
  }
 },
 "nbformat": 4
}
