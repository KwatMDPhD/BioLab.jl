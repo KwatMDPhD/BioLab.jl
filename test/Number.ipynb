{
 "cells": [
  {
   "cell_type": "code",
   "execution_count": null,
   "id": "baf12f00",
   "metadata": {},
   "outputs": [],
   "source": [
    "using OnePiece"
   ]
  },
  {
   "cell_type": "markdown",
   "id": "b658c637-c649-4d47-9664-7fac0d280d9c",
   "metadata": {},
   "source": [
    "## format"
   ]
  },
  {
   "cell_type": "code",
   "execution_count": null,
   "id": "ff320eb4-297e-41c1-80e6-0517394a4e56",
   "metadata": {},
   "outputs": [],
   "source": [
    "for nu in (-0, 0, -0.0, 0.0, 1 / 3, 0.1234567890123456789, 0.001, 0.000001)\n",
    "\n",
    "    println(OnePiece.Number.format(nu))\n",
    "\n",
    "end"
   ]
  },
  {
   "cell_type": "markdown",
   "id": "6540eb5c",
   "metadata": {},
   "source": [
    "## rank_in_fraction"
   ]
  },
  {
   "cell_type": "code",
   "execution_count": null,
   "id": "fa72c273",
   "metadata": {},
   "outputs": [],
   "source": [
    "for it in 1:28\n",
    "\n",
    "    println(OnePiece.Number.rank_in_fraction(it))\n",
    "\n",
    "end"
   ]
  }
 ],
 "metadata": {
  "kernelspec": {
   "display_name": "Julia 1.8.2",
   "language": "julia",
   "name": "julia-1.8"
  },
  "language_info": {
   "file_extension": ".jl",
   "mimetype": "application/julia",
   "name": "julia",
   "version": "1.8.2"
  }
 },
 "nbformat": 4,
 "nbformat_minor": 5
}
