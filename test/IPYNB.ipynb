{
 "cells": [
  {
   "outputs": [],
   "cell_type": "code",
   "source": [
    "include(\"_.jl\")"
   ],
   "id": "2d93ad30-5759-465a-aa13-7495a83039ad",
   "metadata": {},
   "execution_count": null
  },
  {
   "cell_type": "markdown",
   "source": [
    "## run"
   ],
   "id": "8ce7ef96",
   "metadata": {}
  },
  {
   "outputs": [],
   "cell_type": "code",
   "source": [
    "nb = \"Array.ipynb\"\n",
    "\n",
    "BioLab.IPYNB.run(nb)\n",
    "\n",
    "# @code_warntype BioLab.IPYNB.run(nb)"
   ],
   "id": "554b9cd2-81f9-4d3b-b94e-073a6dec169d",
   "metadata": {},
   "execution_count": null
  }
 ],
 "nbformat_minor": 5,
 "metadata": {
  "language_info": {
   "file_extension": ".jl",
   "mimetype": "application/julia",
   "name": "julia",
   "version": "1.8.5"
  },
  "kernelspec": {
   "name": "julia-1.8",
   "display_name": "Julia 1.8.5",
   "language": "julia"
  }
 },
 "nbformat": 4
}
