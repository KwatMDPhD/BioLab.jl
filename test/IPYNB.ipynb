{
 "cells": [
  {
   "outputs": [],
   "cell_type": "code",
   "source": [
    "using OnePiece"
   ],
   "id": "ad9b827e",
   "metadata": {},
   "execution_count": null
  },
  {
   "cell_type": "markdown",
   "source": [
    "## run"
   ],
   "id": "8ce7ef96",
   "metadata": {}
  },
  {
   "outputs": [],
   "cell_type": "code",
   "source": [
    "OnePiece.IPYNB.run(\"constant.ipynb\")"
   ],
   "id": "9180c14e",
   "metadata": {},
   "execution_count": null
  }
 ],
 "nbformat_minor": 5,
 "metadata": {
  "language_info": {
   "file_extension": ".jl",
   "mimetype": "application/julia",
   "name": "julia",
   "version": "1.8.2"
  },
  "kernelspec": {
   "name": "julia-1.8",
   "display_name": "Julia 1.8.2",
   "language": "julia"
  }
 },
 "nbformat": 4
}
