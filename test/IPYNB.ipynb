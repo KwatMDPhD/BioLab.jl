{
 "cells": [
  {
   "cell_type": "code",
   "execution_count": null,
   "id": "2d93ad30-5759-465a-aa13-7495a83039ad",
   "metadata": {
    "execution": {
     "iopub.execute_input": "2023-02-23T14:54:16.842000Z",
     "iopub.status.busy": "2023-02-23T14:54:16.576000Z",
     "iopub.status.idle": "2023-02-23T14:54:20.667000Z",
     "shell.execute_reply": "2023-02-23T14:54:20.643000Z"
    }
   },
   "outputs": [],
   "source": [
    "include(\"_.jl\")"
   ]
  },
  {
   "cell_type": "markdown",
   "id": "8ce7ef96",
   "metadata": {},
   "source": [
    "## run"
   ]
  },
  {
   "cell_type": "code",
   "execution_count": null,
   "id": "554b9cd2-81f9-4d3b-b94e-073a6dec169d",
   "metadata": {
    "execution": {
     "iopub.execute_input": "2023-02-23T14:54:20.836000Z",
     "iopub.status.busy": "2023-02-23T14:54:20.668000Z",
     "iopub.status.idle": "2023-02-23T14:54:38.117000Z",
     "shell.execute_reply": "2023-02-23T14:54:38.116000Z"
    }
   },
   "outputs": [],
   "source": [
    "nb = \"Array.ipynb\"\n",
    "\n",
    "BioLab.IPYNB.run(nb)\n",
    "\n",
    "@code_warntype BioLab.IPYNB.run(nb)"
   ]
  }
 ],
 "metadata": {
  "kernelspec": {
   "display_name": "Julia 1.8.5",
   "language": "julia",
   "name": "julia-1.8"
  },
  "language_info": {
   "file_extension": ".jl",
   "mimetype": "application/julia",
   "name": "julia",
   "version": "1.8.5"
  }
 },
 "nbformat": 4,
 "nbformat_minor": 5
}
