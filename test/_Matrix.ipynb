{
 "cells": [
  {
   "outputs": [],
   "cell_type": "code",
   "source": [
    "include(\"_.jl\")"
   ],
   "id": "778d9ff9",
   "metadata": {},
   "execution_count": null
  },
  {
   "cell_type": "markdown",
   "source": [
    "## print"
   ],
   "id": "cb47a771-7b1c-4601-83ac-88bd264fb571",
   "metadata": {}
  },
  {
   "outputs": [],
   "cell_type": "code",
   "source": [
    "@test @check_error BioLab.Matrix.print(Matrix())"
   ],
   "id": "ba89543e-7e77-4b57-811f-1725d8f7be68",
   "metadata": {},
   "execution_count": null
  },
  {
   "outputs": [],
   "cell_type": "code",
   "source": [
    "for (n_ro, n_co) in ((2, 2), (4, 2), (2, 4), (4, 4), (6, 6), (10, 10))\n",
    "\n",
    "    println(\"=\"^99)\n",
    "\n",
    "    BioLab.Matrix.print(BioLab.Matrix.simulate(n_ro, n_co))\n",
    "\n",
    "end"
   ],
   "id": "6a94e12c-f010-48a9-9769-c6efaabb3170",
   "metadata": {},
   "execution_count": null
  },
  {
   "outputs": [],
   "cell_type": "code",
   "source": [
    "ba__ = (\n",
    "    [missing, 1, 2, 3],\n",
    "    [nothing, 2, 3, 4],\n",
    "    [Inf, 3, 4, 5],\n",
    "    [-Inf, 4, 5, 6],\n",
    "    [missing, nothing, Inf, -Inf],\n",
    "    [\"a\", \"b\", \"c\", \"d\"],\n",
    ")"
   ],
   "id": "39244d82-9622-4b2a-ad10-68705ce1e93c",
   "metadata": {},
   "execution_count": null
  },
  {
   "cell_type": "markdown",
   "source": [
    "# error_bad"
   ],
   "id": "f8131761-a195-4a15-adee-beca2420e93d",
   "metadata": {}
  },
  {
   "outputs": [],
   "cell_type": "code",
   "source": [
    "BioLab.Matrix.error_bad([\"a\" \"b\"; \"c\" \"d\"], String)"
   ],
   "id": "d0f58179-6142-43fa-9f40-f93f802d3bf4",
   "metadata": {},
   "execution_count": null
  },
  {
   "outputs": [],
   "cell_type": "code",
   "source": [
    "try\n",
    "\n",
    "    BioLab.Matrix.error_bad([\"a\" \"\"; \"c\" \"d\"], String)\n",
    "\n",
    "catch er\n",
    "\n",
    "    println(er)\n",
    "\n",
    "end"
   ],
   "id": "ec14b662-2e02-430d-a26c-1fbfc1c1fe3c",
   "metadata": {},
   "execution_count": null
  },
  {
   "outputs": [],
   "cell_type": "code",
   "source": [
    "BioLab.Matrix.error_bad([1 2; 3 4], Real)"
   ],
   "id": "670d0a60-5519-4e52-91a8-615a403b3516",
   "metadata": {},
   "execution_count": null
  },
  {
   "outputs": [],
   "cell_type": "code",
   "source": [
    "for ba in (Inf, -Inf, NaN)\n",
    "\n",
    "    try\n",
    "\n",
    "        BioLab.Matrix.error_bad([1 ba; 3 4], Real)\n",
    "\n",
    "    catch er\n",
    "\n",
    "        println(er)\n",
    "\n",
    "    end\n",
    "\n",
    "end"
   ],
   "id": "1791f33c-63e8-4b7f-8cbb-78e95741bf80",
   "metadata": {},
   "execution_count": null
  },
  {
   "outputs": [],
   "cell_type": "code",
   "source": [
    "ro_x_co_x_ba = BioLab.Matrix.make(ba__)"
   ],
   "id": "f22c4b1f-a878-43d6-a574-e605d315e664",
   "metadata": {},
   "execution_count": null
  },
  {
   "outputs": [],
   "cell_type": "code",
   "source": [
    "try\n",
    "\n",
    "    BioLab.Matrix.error_bad(ro_x_co_x_ba, Real)\n",
    "\n",
    "catch er\n",
    "\n",
    "    println(er)\n",
    "\n",
    "end"
   ],
   "id": "0a300da8-3cc9-4955-a83b-e90721b88961",
   "metadata": {},
   "execution_count": null
  },
  {
   "cell_type": "markdown",
   "source": [
    "## make"
   ],
   "id": "50e558c6",
   "metadata": {}
  },
  {
   "outputs": [],
   "cell_type": "code",
   "source": [
    "for an__ in (\n",
    "    ([1, 2, 3], [4, 5, 6]),\n",
    "    ([1, 2.0, 3], [4, 5, 6]),\n",
    "    ([1, NaN, 3], [4, 5, 6]),\n",
    "    ([1, nothing, 3], [4, 5, 6]),\n",
    "    ([1, missing, 3], [4, 5, 6]),\n",
    "    ([1, nothing, 3], [missing, 4, 5], [7, 8, NaN]),\n",
    "    ([\"1\", \"2\", \"3\"], [\"4\", \"5\", \"6\"]),\n",
    "    ba__,\n",
    ")\n",
    "\n",
    "    display(BioLab.Matrix.make(an__))\n",
    "\n",
    "end"
   ],
   "id": "b709060b",
   "metadata": {},
   "execution_count": null
  },
  {
   "outputs": [],
   "cell_type": "code",
   "source": [
    "try\n",
    "\n",
    "    BioLab.Matrix.make(([1, 2], [3, 4, 5]))\n",
    "\n",
    "catch er\n",
    "\n",
    "    println(er)\n",
    "\n",
    "end"
   ],
   "id": "baf57c97-471d-41de-9ec4-9b3677d3ab35",
   "metadata": {},
   "execution_count": null
  },
  {
   "cell_type": "markdown",
   "source": [
    "## apply!"
   ],
   "id": "21bf14b1-8606-4522-b422-62235c42ca89",
   "metadata": {}
  },
  {
   "outputs": [],
   "cell_type": "code",
   "source": [
    "#"
   ],
   "id": "213c0ef4-cc03-4102-a485-22327a2e3d3b",
   "metadata": {},
   "execution_count": null
  },
  {
   "cell_type": "markdown",
   "source": [
    "## simulate"
   ],
   "id": "b27e3313-3408-4680-96f9-7db03062d49f",
   "metadata": {}
  },
  {
   "outputs": [],
   "cell_type": "code",
   "source": [
    "for ho in (\"1:\", \"rand\")\n",
    "\n",
    "    println(BioLab.Matrix.simulate(2, 3, ho))\n",
    "\n",
    "end"
   ],
   "id": "f82f9560-501d-403b-94d3-278e2f7049c6",
   "metadata": {},
   "execution_count": null
  }
 ],
 "nbformat_minor": 5,
 "metadata": {
  "language_info": {
   "file_extension": ".jl",
   "mimetype": "application/julia",
   "name": "julia",
   "version": "1.8.5"
  },
  "@webio": {
   "lastKernelId": null,
   "lastCommId": null
  },
  "kernelspec": {
   "name": "julia-1.8",
   "display_name": "Julia 1.8.5",
   "language": "julia"
  }
 },
 "nbformat": 4
}
