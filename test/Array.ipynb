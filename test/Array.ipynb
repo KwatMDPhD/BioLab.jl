{
 "cells": [
  {
   "outputs": [],
   "cell_type": "code",
   "source": [
    "include(\"_.jl\")"
   ],
   "id": "9b9178dc-fcd5-4fbd-93cf-d2a52018c102",
   "metadata": {},
   "execution_count": null
  },
  {
   "cell_type": "markdown",
   "source": [
    "## error_size"
   ],
   "id": "853f482a-4cb7-4e40-95c5-85de98613954",
   "metadata": {}
  },
  {
   "outputs": [],
   "cell_type": "code",
   "source": [
    "for (ar1, ar2) in (([], ()), ([1, 2], [\"\"]), ([3 4], [\"a\", \"b\"]))\n",
    "\n",
    "    @test @check_error BioLab.Array.error_size(ar1, ar2)\n",
    "\n",
    "end\n",
    "\n",
    "for ar_ in (([], []), ([1, 2], [\"\", \"a\"]), ([3, 4], [\"b\", \"c\"], ['d', 'e']), ([], [], []))\n",
    "\n",
    "    @test !@check_error BioLab.Array.error_size(ar_)\n",
    "\n",
    "end\n",
    "\n",
    "for ar_ in (([1], [2.0], [3]), ([1], [2.0], ['a']))\n",
    "\n",
    "    BioLab.print_header(ar_)\n",
    "\n",
    "    # @code_warntype BioLab.Array.error_size(ar_)\n",
    "\n",
    "    # 3.666 ns (0 allocations: 0 bytes)\n",
    "    # 38.471 ns (0 allocations: 0 bytes)\n",
    "    # @btime BioLab.Array.error_size($ar_)\n",
    "\n",
    "end"
   ],
   "id": "51718cf8-9cee-4df7-a0f5-b8700f185db5",
   "metadata": {},
   "execution_count": null
  },
  {
   "cell_type": "markdown",
   "source": [
    "## error_duplicate"
   ],
   "id": "471c760d-695a-49b1-88f6-94ee46a3e6b0",
   "metadata": {}
  },
  {
   "outputs": [],
   "cell_type": "code",
   "source": [
    "for an_ in ([1.0, 1, 2.0], [1 1 2], [\"a\", \"a\", \"b\"], [1 2.0; 2 3])\n",
    "\n",
    "    @test @check_error BioLab.Array.error_duplicate(an_)\n",
    "\n",
    "end\n",
    "\n",
    "for an_ in ((), [], [1, 2, 3], ['a', 'b', 'c'], [1 2; 3 4])\n",
    "\n",
    "    @test !@check_error BioLab.Array.error_duplicate(an_)\n",
    "\n",
    "end\n",
    "\n",
    "for an_ in (\n",
    "    (1.0, 2.0, 3.0, 4.0),\n",
    "    [1.0, 2.0, 3.0, 4.0],\n",
    "    (1, 2, 3, 4),\n",
    "    [1, 2, 3, 4],\n",
    "    (1, 2.0, 3, 4.0),\n",
    "    [1, 2.0, 3, 4.0],\n",
    "    (1, 2.0, '3', \"4\"),\n",
    "    [1, 2.0, '3', \"4\"],\n",
    ")\n",
    "\n",
    "    BioLab.print_header(an_)\n",
    "\n",
    "    # @code_warntype BioLab.Array.error_duplicate(an_)\n",
    "\n",
    "    # 127.152 ns (4 allocations: 400 bytes)\n",
    "    # 128.388 ns (4 allocations: 400 bytes)\n",
    "    # 97.690 ns (4 allocations: 400 bytes)\n",
    "    # 97.602 ns (4 allocations: 400 bytes)\n",
    "    # 407.500 ns (14 allocations: 688 bytes)\n",
    "    # 126.114 ns (4 allocations: 400 bytes)\n",
    "    # 333.900 ns (8 allocations: 544 bytes)\n",
    "    # 265.244 ns (5 allocations: 416 bytes)\n",
    "    # @btime BioLab.Array.error_duplicate($an_)\n",
    "\n",
    "end\n",
    "\n",
    "# TODO: Add to Julia.pro.\n",
    "# Using `Set` in the function is faster and allocates less than using `unique`.\n",
    "# `Vector` works faster with `Set.\n",
    "# Heterogeneous collections are slow."
   ],
   "id": "093bd4f3-1be6-40e2-87e0-b2632e6badb1",
   "metadata": {},
   "execution_count": null
  }
 ],
 "nbformat_minor": 5,
 "metadata": {
  "language_info": {
   "file_extension": ".jl",
   "mimetype": "application/julia",
   "name": "julia",
   "version": "1.8.5"
  },
  "kernelspec": {
   "name": "julia-1.8",
   "display_name": "Julia 1.8.5",
   "language": "julia"
  }
 },
 "nbformat": 4
}
