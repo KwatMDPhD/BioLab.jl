{
 "cells": [
  {
   "outputs": [],
   "cell_type": "code",
   "source": [
    "include(\"_.jl\")"
   ],
   "id": "9b9178dc-fcd5-4fbd-93cf-d2a52018c102",
   "metadata": {},
   "execution_count": null
  },
  {
   "cell_type": "markdown",
   "source": [
    "## error_size"
   ],
   "id": "853f482a-4cb7-4e40-95c5-85de98613954",
   "metadata": {}
  },
  {
   "outputs": [],
   "cell_type": "code",
   "source": [
    "for ar_ in (([], []), ([1, 2], [\"a\", \"i\"]))\n",
    "\n",
    "    BioLab.Array.error_size(ar_)\n",
    "\n",
    "end"
   ],
   "id": "b8056507-46a8-446d-97f3-bb2fa9138a78",
   "metadata": {},
   "execution_count": null
  },
  {
   "outputs": [],
   "cell_type": "code",
   "source": [
    "for ar_ in (([], ()), ([1], [\"a\", \"i\"]), ([1 2], [\"a\", \"i\"]))\n",
    "\n",
    "    @test @check_error BioLab.Array.error_size(ar_)\n",
    "\n",
    "end"
   ],
   "id": "47c51b27-c243-45f9-8f8a-c3adb006cc5b",
   "metadata": {},
   "execution_count": null
  },
  {
   "cell_type": "markdown",
   "source": [
    "## error_duplicate"
   ],
   "id": "471c760d-695a-49b1-88f6-94ee46a3e6b0",
   "metadata": {}
  },
  {
   "outputs": [],
   "cell_type": "code",
   "source": [
    "for ar in ((), [], [1.0, 2.0, 3.0], ['a', 'i', 'u'], [1 2; 3 4])\n",
    "\n",
    "    BioLab.Array.error_duplicate(ar)\n",
    "\n",
    "end"
   ],
   "id": "71ae7cc9-7c85-4fa0-bb4b-4400deead911",
   "metadata": {},
   "execution_count": null
  },
  {
   "outputs": [],
   "cell_type": "code",
   "source": [
    "for ar in ([1.0, 1.0, 2.0], [1 1 2], [\"a\", \"a\", \"i\"], [1 2; 2 3])\n",
    "\n",
    "    @test @check_error BioLab.Array.error_duplicate(ar)\n",
    "\n",
    "end"
   ],
   "id": "b66ec8d6",
   "metadata": {},
   "execution_count": null
  }
 ],
 "nbformat_minor": 5,
 "metadata": {
  "language_info": {
   "file_extension": ".jl",
   "mimetype": "application/julia",
   "name": "julia",
   "version": "1.8.5"
  },
  "kernelspec": {
   "name": "julia-1.8",
   "display_name": "Julia 1.8.5",
   "language": "julia"
  }
 },
 "nbformat": 4
}
