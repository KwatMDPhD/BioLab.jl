{
 "cells": [
  {
   "outputs": [],
   "cell_type": "code",
   "source": [
    "include(\"_.jl\")"
   ],
   "id": "9b9178dc-fcd5-4fbd-93cf-d2a52018c102",
   "metadata": {},
   "execution_count": null
  },
  {
   "cell_type": "markdown",
   "source": [
    "## error_size"
   ],
   "id": "853f482a-4cb7-4e40-95c5-85de98613954",
   "metadata": {}
  },
  {
   "outputs": [],
   "cell_type": "code",
   "source": [
    "for (ar1, ar2) in (([], ()), ([1, 2], [\"\"]), ([3 4], [\"a\", \"b\"]))\n",
    "\n",
    "    @test @check_error BioLab.Array.error_size(ar1, ar2)\n",
    "\n",
    "end"
   ],
   "id": "4b4c6ffb-8a59-40ea-a063-81cac4a2400e",
   "metadata": {},
   "execution_count": null
  },
  {
   "outputs": [],
   "cell_type": "code",
   "source": [
    "for ar_ in (([], []), ([1, 2], [\"\", \"a\"]), ([3, 4], [\"b\", \"c\"], ['d', 'e']), ([], [], []))\n",
    "\n",
    "    BioLab.Array.error_size(ar_)\n",
    "\n",
    "end"
   ],
   "id": "608f9240-2c7b-49ff-9c7e-23267b87059b",
   "metadata": {},
   "execution_count": null
  },
  {
   "outputs": [],
   "cell_type": "code",
   "source": [
    "ar_ = ([1], [1.0], [2])\n",
    "\n",
    "@code_warntype BioLab.Array.error_size(ar_)\n",
    "\n",
    "# 3.666 ns (0 allocations: 0 bytes)\n",
    "@btime BioLab.Array.error_size($ar_)"
   ],
   "id": "0448e9aa-27cf-4aab-84af-54cce5610de9",
   "metadata": {},
   "execution_count": null
  },
  {
   "outputs": [],
   "cell_type": "code",
   "source": [
    "ar_ = ([1], [1.0], ['a'])\n",
    "\n",
    "@code_warntype BioLab.Array.error_size(ar_)\n",
    "\n",
    "# 38.471 ns (0 allocations: 0 bytes)\n",
    "@btime BioLab.Array.error_size($ar_)"
   ],
   "id": "03aabf19-1e91-44ac-9d54-e7ba37561162",
   "metadata": {},
   "execution_count": null
  },
  {
   "cell_type": "markdown",
   "source": [
    "## error_duplicate"
   ],
   "id": "471c760d-695a-49b1-88f6-94ee46a3e6b0",
   "metadata": {}
  },
  {
   "outputs": [],
   "cell_type": "code",
   "source": [
    "for ar_ in ([1.0, 1, 2.0], [1 1 2], [\"a\", \"a\", \"b\"], [1 2.0; 2 3])\n",
    "\n",
    "    @test @check_error BioLab.Array.error_duplicate(ar_)\n",
    "\n",
    "end"
   ],
   "id": "bad49840-6b88-4d2c-94de-ed58925e7555",
   "metadata": {},
   "execution_count": null
  },
  {
   "outputs": [],
   "cell_type": "code",
   "source": [
    "for ar_ in ((), [], [1, 2, 3], ['a', 'b', 'c'], [1 2; 3 4])\n",
    "\n",
    "    BioLab.Array.error_duplicate(ar_)\n",
    "\n",
    "end"
   ],
   "id": "4b37fdf9-2071-448f-80dc-bef25d832e85",
   "metadata": {},
   "execution_count": null
  },
  {
   "outputs": [],
   "cell_type": "code",
   "source": [
    "co = (1, 2.0, 3)\n",
    "\n",
    "@code_warntype BioLab.Array.error_duplicate(co)\n",
    "\n",
    "# 359.976 ns (11 allocations: 624 bytes)\n",
    "@btime BioLab.Array.error_duplicate($co)"
   ],
   "id": "b096b17a-eadb-42e5-8895-94381fe2ba55",
   "metadata": {},
   "execution_count": null
  },
  {
   "outputs": [],
   "cell_type": "code",
   "source": [
    "co = [1, 2.0, 3]\n",
    "\n",
    "@code_warntype BioLab.Array.error_duplicate(co)\n",
    "\n",
    "# 213.049 ns (6 allocations: 544 bytes)\n",
    "@btime BioLab.Array.error_duplicate($co)"
   ],
   "id": "ca5c58fc-d922-4b9b-be24-b373bc8d8153",
   "metadata": {},
   "execution_count": null
  },
  {
   "outputs": [],
   "cell_type": "code",
   "source": [
    "co = (1.0, 2.0, 3.0)\n",
    "\n",
    "@code_warntype BioLab.Array.error_duplicate(co)\n",
    "\n",
    "# 212.500 ns (6 allocations: 544 bytes)\n",
    "@btime BioLab.Array.error_duplicate($co)"
   ],
   "id": "82921424-8023-4f24-8760-940cee23f263",
   "metadata": {},
   "execution_count": null
  },
  {
   "outputs": [],
   "cell_type": "code",
   "source": [
    "co = (1, 2, 3)\n",
    "\n",
    "@code_warntype BioLab.Array.error_duplicate(co)\n",
    "\n",
    "# 184.357 ns (6 allocations: 544 bytes)\n",
    "@btime BioLab.Array.error_duplicate($co)"
   ],
   "id": "9ae51095-ba59-4f09-8a19-3cb7432ab6e5",
   "metadata": {},
   "execution_count": null
  }
 ],
 "nbformat_minor": 5,
 "metadata": {
  "language_info": {
   "file_extension": ".jl",
   "mimetype": "application/julia",
   "name": "julia",
   "version": "1.8.5"
  },
  "kernelspec": {
   "name": "julia-1.8",
   "display_name": "Julia 1.8.5",
   "language": "julia"
  }
 },
 "nbformat": 4
}
