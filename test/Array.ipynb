{
 "cells": [
  {
   "outputs": [],
   "cell_type": "code",
   "source": [
    "using BioLab"
   ],
   "id": "9b9178dc-fcd5-4fbd-93cf-d2a52018c102",
   "metadata": {},
   "execution_count": null
  },
  {
   "cell_type": "markdown",
   "source": [
    "## error_size"
   ],
   "id": "853f482a-4cb7-4e40-95c5-85de98613954",
   "metadata": {}
  },
  {
   "outputs": [],
   "cell_type": "code",
   "source": [
    "#@btime BioLab.Array.error_size(($[1, 2], $[1, 2]))\n",
    "\n",
    "#@code_warntype BioLab.Array.error_size(([1, 2], [1, 2]))"
   ],
   "id": "0bd32578-0c9e-49fe-b6a2-1f41d6f00abd",
   "metadata": {},
   "execution_count": null
  },
  {
   "outputs": [],
   "cell_type": "code",
   "source": [
    "#@_pprof BioLab.Array.error_size(([1, 2], [1, 2]))"
   ],
   "id": "e926a42b-7352-4139-9221-c8b0ae65342c",
   "metadata": {},
   "execution_count": null
  },
  {
   "outputs": [],
   "cell_type": "code",
   "source": [
    "#@_pprof BioLab.Array.error_size(([1, 2], [1, 2])) from_c = false"
   ],
   "id": "991f9e87-c81b-4c82-a9b2-978c8b45e33e",
   "metadata": {},
   "execution_count": null
  },
  {
   "outputs": [],
   "cell_type": "code",
   "source": [
    "#@_allocspprof BioLab.Array.error_size(([1, 2], [1, 2])) 1.0 from_c = false"
   ],
   "id": "d2d6caa9-a13f-4810-83ff-54b7a769877b",
   "metadata": {},
   "execution_count": null
  },
  {
   "outputs": [],
   "cell_type": "code",
   "source": [
    "#@_allocspprof BioLab.Array.error_size(([1, 2], [1, 2])) 0.5 from_c = false"
   ],
   "id": "84e0be5b-fcf4-44a3-8b88-ba84cdc56b17",
   "metadata": {},
   "execution_count": null
  },
  {
   "outputs": [],
   "cell_type": "code",
   "source": [
    "for ar_ in (([], []), ([1, 2, 3], [\"a\", \"i\", \"u\"]))\n",
    "\n",
    "    BioLab.Array.error_size(ar_)\n",
    "\n",
    "end"
   ],
   "id": "b8056507-46a8-446d-97f3-bb2fa9138a78",
   "metadata": {},
   "execution_count": null
  },
  {
   "outputs": [],
   "cell_type": "code",
   "source": [
    "for ar_ in (([], ()), ([1, 2], [\"a\", \"i\", \"u\"]), ([1 2 3], [\"a\", \"i\", \"u\"]))\n",
    "\n",
    "    try\n",
    "\n",
    "        BioLab.Array.error_size(ar_)\n",
    "\n",
    "    catch er\n",
    "\n",
    "        println(er)\n",
    "\n",
    "    end\n",
    "\n",
    "end"
   ],
   "id": "47c51b27-c243-45f9-8f8a-c3adb006cc5b",
   "metadata": {},
   "execution_count": null
  },
  {
   "cell_type": "markdown",
   "source": [
    "## error_duplicate"
   ],
   "id": "471c760d-695a-49b1-88f6-94ee46a3e6b0",
   "metadata": {}
  },
  {
   "outputs": [],
   "cell_type": "code",
   "source": [
    "for ar in ([], [1, 2, 3], [\"a\", \"i\", \"u\"])\n",
    "\n",
    "    BioLab.Array.error_duplicate(ar)\n",
    "\n",
    "end"
   ],
   "id": "71ae7cc9-7c85-4fa0-bb4b-4400deead911",
   "metadata": {},
   "execution_count": null
  },
  {
   "outputs": [],
   "cell_type": "code",
   "source": [
    "for ar in ([1, 1, 2], [1 1 2], [\"a\", \"a\", \"i\"])\n",
    "\n",
    "    try\n",
    "\n",
    "        BioLab.Array.error_duplicate(ar)\n",
    "\n",
    "    catch er\n",
    "\n",
    "        println(er)\n",
    "\n",
    "    end\n",
    "\n",
    "end"
   ],
   "id": "b66ec8d6",
   "metadata": {},
   "execution_count": null
  }
 ],
 "nbformat_minor": 5,
 "metadata": {
  "language_info": {
   "file_extension": ".jl",
   "mimetype": "application/julia",
   "name": "julia",
   "version": "1.8.5"
  },
  "kernelspec": {
   "name": "julia-1.8",
   "display_name": "Julia 1.8.5",
   "language": "julia"
  }
 },
 "nbformat": 4
}
