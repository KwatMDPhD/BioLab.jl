{
 "cells": [
  {
   "outputs": [],
   "cell_type": "code",
   "source": [
    "using BioLab"
   ],
   "id": "9b9178dc-fcd5-4fbd-93cf-d2a52018c102",
   "metadata": {},
   "execution_count": null
  },
  {
   "cell_type": "markdown",
   "source": [
    "## error_size"
   ],
   "id": "853f482a-4cb7-4e40-95c5-85de98613954",
   "metadata": {}
  },
  {
   "outputs": [],
   "cell_type": "code",
   "source": [
    "for ar_ in (([], []), ([1, 2, 3], [\"a\", \"i\", \"u\"]))\n",
    "\n",
    "    BioLab.Array.error_size(ar_)\n",
    "\n",
    "end"
   ],
   "id": "b8056507-46a8-446d-97f3-bb2fa9138a78",
   "metadata": {},
   "execution_count": null
  },
  {
   "outputs": [],
   "cell_type": "code",
   "source": [
    "for ar_ in (([], ()), ([1, 2], [\"a\", \"i\", \"u\"]), ([1 2 3], [\"a\", \"i\", \"u\"]))\n",
    "\n",
    "    try\n",
    "\n",
    "        BioLab.Array.error_size(ar_)\n",
    "\n",
    "    catch er\n",
    "\n",
    "        println(er)\n",
    "\n",
    "    end\n",
    "\n",
    "end"
   ],
   "id": "47c51b27-c243-45f9-8f8a-c3adb006cc5b",
   "metadata": {},
   "execution_count": null
  },
  {
   "cell_type": "markdown",
   "source": [
    "## error_duplicate"
   ],
   "id": "471c760d-695a-49b1-88f6-94ee46a3e6b0",
   "metadata": {}
  },
  {
   "outputs": [],
   "cell_type": "code",
   "source": [
    "for ar in ([], [1, 2, 3], [\"a\", \"i\", \"u\"])\n",
    "\n",
    "    BioLab.Array.error_duplicate(ar)\n",
    "\n",
    "end"
   ],
   "id": "71ae7cc9-7c85-4fa0-bb4b-4400deead911",
   "metadata": {},
   "execution_count": null
  },
  {
   "outputs": [],
   "cell_type": "code",
   "source": [
    "for ar in ([1, 1, 2], [1 1 2], [\"a\", \"a\", \"i\"])\n",
    "\n",
    "    try\n",
    "\n",
    "        BioLab.Array.error_duplicate(ar)\n",
    "\n",
    "    catch er\n",
    "\n",
    "        println(er)\n",
    "\n",
    "    end\n",
    "\n",
    "end"
   ],
   "id": "b66ec8d6",
   "metadata": {},
   "execution_count": null
  }
 ],
 "nbformat_minor": 5,
 "metadata": {
  "language_info": {
   "file_extension": ".jl",
   "mimetype": "application/julia",
   "name": "julia",
   "version": "1.8.3"
  },
  "kernelspec": {
   "name": "julia-1.8",
   "display_name": "Julia 1.8.2",
   "language": "julia"
  }
 },
 "nbformat": 4
}
