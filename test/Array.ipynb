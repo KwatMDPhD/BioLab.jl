{
 "cells": [
  {
   "outputs": [],
   "cell_type": "code",
   "source": [
    "include(\"_.jl\")"
   ],
   "id": "9b9178dc-fcd5-4fbd-93cf-d2a52018c102",
   "metadata": {},
   "execution_count": null
  },
  {
   "cell_type": "markdown",
   "source": [
    "## error_size"
   ],
   "id": "853f482a-4cb7-4e40-95c5-85de98613954",
   "metadata": {}
  },
  {
   "outputs": [],
   "cell_type": "code",
   "source": [
    "@test @check_error BioLab.Array.error_size([], ())\n",
    "\n",
    "@test @check_error BioLab.Array.error_size([1, 2], [\"\"])\n",
    "\n",
    "@test @check_error BioLab.Array.error_size([3 4], [\"a\", \"i\"])\n",
    "\n",
    "BioLab.Array.error_size([], [])\n",
    "\n",
    "BioLab.Array.error_size([1, 2], [\"\", \"a\"])\n",
    "\n",
    "BioLab.Array.error_size(([], [], []))\n",
    "\n",
    "BioLab.Array.error_size(([3, 4], [\"i\", \"u\"], ['e', 'o']))\n",
    "\n",
    ";"
   ],
   "id": "e9435c41-d9a1-4e4c-b1f9-17db61614dce",
   "metadata": {},
   "execution_count": null
  },
  {
   "cell_type": "markdown",
   "source": [
    "## error_duplicate"
   ],
   "id": "471c760d-695a-49b1-88f6-94ee46a3e6b0",
   "metadata": {}
  },
  {
   "outputs": [],
   "cell_type": "code",
   "source": [
    "@test @check_error BioLab.Array.error_duplicate([1.0, 1, 2.0])\n",
    "\n",
    "@test @check_error BioLab.Array.error_duplicate([1 1 2])\n",
    "\n",
    "@test @check_error BioLab.Array.error_duplicate([\"a\", \"a\", \"i\"])\n",
    "\n",
    "@test @check_error BioLab.Array.error_duplicate([1 2.0; 2 3])\n",
    "\n",
    "BioLab.Array.error_duplicate(())\n",
    "\n",
    "BioLab.Array.error_duplicate([])\n",
    "\n",
    "BioLab.Array.error_duplicate([1, 2, 3])\n",
    "\n",
    "BioLab.Array.error_duplicate(['a', 'i', 'u'])\n",
    "\n",
    "BioLab.Array.error_duplicate([1 2; 3 4]);"
   ],
   "id": "c9ce4bb6-6a29-4433-a94f-899062bd2966",
   "metadata": {},
   "execution_count": null
  }
 ],
 "nbformat_minor": 5,
 "metadata": {
  "language_info": {
   "file_extension": ".jl",
   "mimetype": "application/julia",
   "name": "julia",
   "version": "1.8.5"
  },
  "kernelspec": {
   "name": "julia-1.8",
   "display_name": "Julia 1.8.5",
   "language": "julia"
  }
 },
 "nbformat": 4
}
