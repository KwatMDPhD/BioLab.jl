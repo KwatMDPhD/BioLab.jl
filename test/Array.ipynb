{
 "cells": [
  {
   "cell_type": "code",
   "execution_count": null,
   "id": "9b9178dc-fcd5-4fbd-93cf-d2a52018c102",
   "metadata": {},
   "outputs": [],
   "source": [
    "using OnePiece"
   ]
  },
  {
   "cell_type": "markdown",
   "id": "853f482a-4cb7-4e40-95c5-85de98613954",
   "metadata": {},
   "source": [
    "## error_size"
   ]
  },
  {
   "cell_type": "code",
   "execution_count": null,
   "id": "b8056507-46a8-446d-97f3-bb2fa9138a78",
   "metadata": {},
   "outputs": [],
   "source": [
    "for ar_ in (([], []), ([1, 2, 3], [\"a\", \"i\", \"u\"]))\n",
    "\n",
    "    OnePiece.Array.error_size(ar_)\n",
    "\n",
    "end"
   ]
  },
  {
   "cell_type": "code",
   "execution_count": null,
   "id": "47c51b27-c243-45f9-8f8a-c3adb006cc5b",
   "metadata": {},
   "outputs": [],
   "source": [
    "for ar_ in (([], ()), ([1, 2], [\"a\", \"i\", \"u\"]), ([1 2 3], [\"a\", \"i\", \"u\"]))\n",
    "\n",
    "    try\n",
    "\n",
    "        OnePiece.Array.error_size(ar_)\n",
    "\n",
    "    catch er\n",
    "\n",
    "        println(er)\n",
    "\n",
    "    end\n",
    "\n",
    "end"
   ]
  },
  {
   "cell_type": "markdown",
   "id": "471c760d-695a-49b1-88f6-94ee46a3e6b0",
   "metadata": {},
   "source": [
    "## error_duplicate"
   ]
  },
  {
   "cell_type": "code",
   "execution_count": null,
   "id": "71ae7cc9-7c85-4fa0-bb4b-4400deead911",
   "metadata": {},
   "outputs": [],
   "source": [
    "for ar in ([], [1, 2, 3], [\"a\", \"i\", \"u\"])\n",
    "\n",
    "    OnePiece.Array.error_duplicate(ar)\n",
    "\n",
    "end"
   ]
  },
  {
   "cell_type": "code",
   "execution_count": null,
   "id": "b66ec8d6",
   "metadata": {},
   "outputs": [],
   "source": [
    "for ar in ([1, 1, 2], [1 1 2], [\"a\", \"a\", \"i\"])\n",
    "\n",
    "    try\n",
    "\n",
    "        OnePiece.Array.error_duplicate(ar)\n",
    "\n",
    "    catch er\n",
    "\n",
    "        println(er)\n",
    "\n",
    "    end\n",
    "\n",
    "end"
   ]
  }
 ],
 "metadata": {
  "kernelspec": {
   "display_name": "Julia 1.8.2",
   "language": "julia",
   "name": "julia-1.8"
  },
  "language_info": {
   "file_extension": ".jl",
   "mimetype": "application/julia",
   "name": "julia",
   "version": "1.8.2"
  }
 },
 "nbformat": 4,
 "nbformat_minor": 5
}
